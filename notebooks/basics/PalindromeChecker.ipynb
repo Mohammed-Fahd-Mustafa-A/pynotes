{
 "cells": [
  {
   "cell_type": "code",
   "execution_count": 2,
   "id": "62f37ddd-538b-4d88-ab95-150f4a0875d1",
   "metadata": {},
   "outputs": [
    {
     "name": "stdout",
     "output_type": "stream",
     "text": [
      "True\n",
      "True\n",
      "False\n"
     ]
    }
   ],
   "source": [
    "def is_palindrome(text):\n",
    "    clean = ''.join(c.lower() for c in text if c.isalnum())\n",
    "    return clean == clean[::-1]\n",
    "\n",
    "# Test cases\n",
    "print(is_palindrome(\"Madam\"))             # True\n",
    "print(is_palindrome(\"Race car!\"))         # True\n",
    "print(is_palindrome(\"Hello\"))             # False\n"
   ]
  },
  {
   "cell_type": "code",
   "execution_count": null,
   "id": "d3d249f2-9410-4049-a075-2bc44f4739b5",
   "metadata": {},
   "outputs": [],
   "source": []
  }
 ],
 "metadata": {
  "kernelspec": {
   "display_name": "Python 3 (ipykernel)",
   "language": "python",
   "name": "python3"
  },
  "language_info": {
   "codemirror_mode": {
    "name": "ipython",
    "version": 3
   },
   "file_extension": ".py",
   "mimetype": "text/x-python",
   "name": "python",
   "nbconvert_exporter": "python",
   "pygments_lexer": "ipython3",
   "version": "3.12.11"
  }
 },
 "nbformat": 4,
 "nbformat_minor": 5
}
