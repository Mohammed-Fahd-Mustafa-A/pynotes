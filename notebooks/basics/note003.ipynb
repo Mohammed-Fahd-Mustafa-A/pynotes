{
 "cells": [
  {
   "cell_type": "code",
   "execution_count": null,
   "id": "7e106831",
   "metadata": {},
   "outputs": [],
   "source": [
    "# Topic: NumPy\n",
    "import numpy as np\n",
    "print(np.arange(0, 10, 2))"
   ]
  },
  {
   "cell_type": "code",
   "execution_count": null,
   "id": "c739c6b0",
   "metadata": {},
   "outputs": [],
   "source": [
    "# Topic: Dictionaries & Sets\n",
    "s = {1,2,3}\n",
    "s.add(4)\n",
    "print(s)"
   ]
  },
  {
   "cell_type": "code",
   "execution_count": null,
   "id": "8cc3c228",
   "metadata": {},
   "outputs": [],
   "source": [
    "# Topic: Matplotlib\n",
    "import matplotlib.pyplot as plt\n",
    "plt.bar(['A','B'], [10,20])\n",
    "plt.show()"
   ]
  },
  {
   "cell_type": "code",
   "execution_count": null,
   "id": "a2c4a477",
   "metadata": {},
   "outputs": [],
   "source": [
    "# Topic: Exceptions\n",
    "try:\n",
    "    print(10/0)\n",
    "except ZeroDivisionError:\n",
    "    print('Cannot divide by zero')"
   ]
  },
  {
   "cell_type": "code",
   "execution_count": null,
   "id": "b07319d8",
   "metadata": {},
   "outputs": [],
   "source": [
    "# Topic: Dictionaries & Sets\n",
    "d = {'a':1, 'b':2}\n",
    "print(d['a'])"
   ]
  },
  {
   "cell_type": "code",
   "execution_count": null,
   "id": "0c66003f",
   "metadata": {},
   "outputs": [],
   "source": [
    "# Topic: Pandas\n",
    "import pandas as pd\n",
    "df = pd.read_csv('data.csv')\n",
    "print(df.head())"
   ]
  },
  {
   "cell_type": "code",
   "execution_count": null,
   "id": "c9c4b870",
   "metadata": {},
   "outputs": [],
   "source": [
    "# Topic: Lists & Tuples\n",
    "t = (1,2,3)\n",
    "print(t[1])"
   ]
  },
  {
   "cell_type": "code",
   "execution_count": null,
   "id": "1bda5c47",
   "metadata": {},
   "outputs": [],
   "source": [
    "# Topic: Mini Projects\n",
    "# Palindrome checker\n",
    "def is_palindrome(s):\n",
    " return s == s[::-1]\n",
    "print(is_palindrome('madam'))"
   ]
  },
  {
   "cell_type": "code",
   "execution_count": null,
   "id": "b47e0190",
   "metadata": {},
   "outputs": [],
   "source": [
    "# Topic: Lists & Tuples\n",
    "t = (1,2,3)\n",
    "print(t[1])"
   ]
  },
  {
   "cell_type": "code",
   "execution_count": null,
   "id": "f5e3fe1c",
   "metadata": {},
   "outputs": [],
   "source": [
    "# Topic: Functions\n",
    "def factorial(n):\n",
    "    return 1 if n==0 else n * factorial(n-1)\n",
    "print(factorial(5))"
   ]
  },
  {
   "cell_type": "code",
   "execution_count": null,
   "id": "5173b3b2",
   "metadata": {},
   "outputs": [],
   "source": [
    "# Topic: Web Scraping\n",
    "import requests\n",
    "from bs4 import BeautifulSoup\n",
    "r = requests.get('https://example.com')\n",
    "soup = BeautifulSoup(r.text, 'html.parser')\n",
    "print(soup.title.string)"
   ]
  },
  {
   "cell_type": "code",
   "execution_count": null,
   "id": "a2f1debf",
   "metadata": {},
   "outputs": [],
   "source": [
    "# Topic: Mini Projects\n",
    "# Simple calculator\n",
    "def calc(a,b,op):\n",
    " if op=='+': return a+b\n",
    " elif op=='-': return a-b\n",
    "print(calc(10,5,'+'))"
   ]
  },
  {
   "cell_type": "code",
   "execution_count": null,
   "id": "029b4c25",
   "metadata": {},
   "outputs": [],
   "source": [
    "# Topic: Classes & Objects\n",
    "class Dog:\n",
    "    def bark(self):\n",
    "        print('Woof!')\n",
    "d = Dog()\n",
    "d.bark()"
   ]
  },
  {
   "cell_type": "code",
   "execution_count": null,
   "id": "7f6639f3",
   "metadata": {},
   "outputs": [],
   "source": [
    "# Topic: File I/O\n",
    "with open('sample.txt', 'w') as f:\n",
    "    f.write('Hello World')"
   ]
  },
  {
   "cell_type": "code",
   "execution_count": null,
   "id": "2756889d",
   "metadata": {},
   "outputs": [],
   "source": [
    "# Topic: Matplotlib\n",
    "import matplotlib.pyplot as plt\n",
    "plt.bar(['A','B'], [10,20])\n",
    "plt.show()"
   ]
  },
  {
   "cell_type": "code",
   "execution_count": null,
   "id": "237ddc53",
   "metadata": {},
   "outputs": [],
   "source": [
    "# Topic: Loops\n",
    "for i in range(10): print(i*i)"
   ]
  },
  {
   "cell_type": "code",
   "execution_count": null,
   "id": "74391b45",
   "metadata": {},
   "outputs": [],
   "source": [
    "# Topic: Exceptions\n",
    "try:\n",
    "    print(10/0)\n",
    "except ZeroDivisionError:\n",
    "    print('Cannot divide by zero')"
   ]
  },
  {
   "cell_type": "code",
   "execution_count": null,
   "id": "2903e0af",
   "metadata": {},
   "outputs": [],
   "source": [
    "# Topic: Classes & Objects\n",
    "class Dog:\n",
    "    def bark(self):\n",
    "        print('Woof!')\n",
    "d = Dog()\n",
    "d.bark()"
   ]
  },
  {
   "cell_type": "code",
   "execution_count": null,
   "id": "36238a65",
   "metadata": {},
   "outputs": [],
   "source": [
    "# Topic: Mini Projects\n",
    "# Simple calculator\n",
    "def calc(a,b,op):\n",
    " if op=='+': return a+b\n",
    " elif op=='-': return a-b\n",
    "print(calc(10,5,'+'))"
   ]
  },
  {
   "cell_type": "code",
   "execution_count": null,
   "id": "7342c930",
   "metadata": {},
   "outputs": [],
   "source": [
    "# Topic: Decorators\n",
    "def decorator(fn):\n",
    "    def wrapper():\n",
    "        print('Before')\n",
    "        fn()\n",
    "        print('After')\n",
    "    return wrapper\n",
    "@decorator\n",
    "def say(): print('Hi')\n",
    "say()"
   ]
  },
  {
   "cell_type": "code",
   "execution_count": null,
   "id": "f5f4d59d",
   "metadata": {},
   "outputs": [],
   "source": [
    "# Topic: Web Scraping\n",
    "import requests\n",
    "from bs4 import BeautifulSoup\n",
    "r = requests.get('https://example.com')\n",
    "soup = BeautifulSoup(r.text, 'html.parser')\n",
    "print(soup.title.string)"
   ]
  },
  {
   "cell_type": "code",
   "execution_count": null,
   "id": "6b667024",
   "metadata": {},
   "outputs": [],
   "source": [
    "# Topic: Decorators\n",
    "def decorator(fn):\n",
    "    def wrapper():\n",
    "        print('Before')\n",
    "        fn()\n",
    "        print('After')\n",
    "    return wrapper\n",
    "@decorator\n",
    "def say(): print('Hi')\n",
    "say()"
   ]
  },
  {
   "cell_type": "code",
   "execution_count": null,
   "id": "0f03ed42",
   "metadata": {},
   "outputs": [],
   "source": [
    "# Topic: Lists & Tuples\n",
    "t = (1,2,3)\n",
    "print(t[1])"
   ]
  },
  {
   "cell_type": "code",
   "execution_count": null,
   "id": "76254b8b",
   "metadata": {},
   "outputs": [],
   "source": [
    "# Topic: File I/O\n",
    "with open('sample.txt') as f:\n",
    "    print(f.read())"
   ]
  },
  {
   "cell_type": "code",
   "execution_count": null,
   "id": "0135fde7",
   "metadata": {},
   "outputs": [],
   "source": [
    "# Topic: NumPy\n",
    "import numpy as np\n",
    "a = np.array([1,2,3])\n",
    "print(a * 2)"
   ]
  },
  {
   "cell_type": "code",
   "execution_count": null,
   "id": "7d62a98a",
   "metadata": {},
   "outputs": [],
   "source": [
    "# Topic: Recursion\n",
    "def fib(n):\n",
    "    if n <= 1: return n\n",
    "    return fib(n-1) + fib(n-2)\n",
    "print(fib(5))"
   ]
  },
  {
   "cell_type": "code",
   "execution_count": null,
   "id": "bff3e69e",
   "metadata": {},
   "outputs": [],
   "source": [
    "# Topic: Web Scraping\n",
    "import requests\n",
    "from bs4 import BeautifulSoup\n",
    "r = requests.get('https://example.com')\n",
    "soup = BeautifulSoup(r.text, 'html.parser')\n",
    "print(soup.title.string)"
   ]
  },
  {
   "cell_type": "code",
   "execution_count": null,
   "id": "dabd2215",
   "metadata": {},
   "outputs": [],
   "source": [
    "# Topic: Lists & Tuples\n",
    "t = (1,2,3)\n",
    "print(t[1])"
   ]
  },
  {
   "cell_type": "code",
   "execution_count": null,
   "id": "61afd5aa",
   "metadata": {},
   "outputs": [],
   "source": [
    "# Topic: Pandas\n",
    "import pandas as pd\n",
    "df = pd.read_csv('data.csv')\n",
    "print(df.head())"
   ]
  },
  {
   "cell_type": "code",
   "execution_count": null,
   "id": "6ae9ce6b",
   "metadata": {},
   "outputs": [],
   "source": [
    "# Topic: Lists & Tuples\n",
    "nums = [1,2,3]\n",
    "nums.append(4)\n",
    "print(nums)"
   ]
  },
  {
   "cell_type": "code",
   "execution_count": null,
   "id": "b9d59227",
   "metadata": {},
   "outputs": [],
   "source": [
    "# Topic: Lists & Tuples\n",
    "t = (1,2,3)\n",
    "print(t[1])"
   ]
  },
  {
   "cell_type": "code",
   "execution_count": null,
   "id": "b2c4342c",
   "metadata": {},
   "outputs": [],
   "source": [
    "# Topic: Decorators\n",
    "def decorator(fn):\n",
    "    def wrapper():\n",
    "        print('Before')\n",
    "        fn()\n",
    "        print('After')\n",
    "    return wrapper\n",
    "@decorator\n",
    "def say(): print('Hi')\n",
    "say()"
   ]
  },
  {
   "cell_type": "code",
   "execution_count": null,
   "id": "02a69cff",
   "metadata": {},
   "outputs": [],
   "source": [
    "# Topic: Decorators\n",
    "def decorator(fn):\n",
    "    def wrapper():\n",
    "        print('Before')\n",
    "        fn()\n",
    "        print('After')\n",
    "    return wrapper\n",
    "@decorator\n",
    "def say(): print('Hi')\n",
    "say()"
   ]
  },
  {
   "cell_type": "code",
   "execution_count": null,
   "id": "3d5bc6be",
   "metadata": {},
   "outputs": [],
   "source": [
    "# Topic: Exceptions\n",
    "try:\n",
    "    print(10/0)\n",
    "except ZeroDivisionError:\n",
    "    print('Cannot divide by zero')"
   ]
  },
  {
   "cell_type": "code",
   "execution_count": null,
   "id": "e05df8fe",
   "metadata": {},
   "outputs": [],
   "source": [
    "# Topic: Lists & Tuples\n",
    "nums = [1,2,3]\n",
    "nums.append(4)\n",
    "print(nums)"
   ]
  },
  {
   "cell_type": "code",
   "execution_count": null,
   "id": "eeb5f0e3",
   "metadata": {},
   "outputs": [],
   "source": [
    "# Topic: Basics\n",
    "x = 7\n",
    "print('Odd' if x % 2 else 'Even')"
   ]
  },
  {
   "cell_type": "code",
   "execution_count": null,
   "id": "2c10a29d",
   "metadata": {},
   "outputs": [],
   "source": [
    "# Topic: Basics\n",
    "a = 5\n",
    "b = 3\n",
    "print(a * b)"
   ]
  },
  {
   "cell_type": "code",
   "execution_count": null,
   "id": "0f1dd0bf",
   "metadata": {},
   "outputs": [],
   "source": [
    "# Topic: Mini Projects\n",
    "# Simple calculator\n",
    "def calc(a,b,op):\n",
    " if op=='+': return a+b\n",
    " elif op=='-': return a-b\n",
    "print(calc(10,5,'+'))"
   ]
  },
  {
   "cell_type": "code",
   "execution_count": null,
   "id": "d87d85ff",
   "metadata": {},
   "outputs": [],
   "source": [
    "# Topic: Decorators\n",
    "def decorator(fn):\n",
    "    def wrapper():\n",
    "        print('Before')\n",
    "        fn()\n",
    "        print('After')\n",
    "    return wrapper\n",
    "@decorator\n",
    "def say(): print('Hi')\n",
    "say()"
   ]
  },
  {
   "cell_type": "code",
   "execution_count": null,
   "id": "330109a6",
   "metadata": {},
   "outputs": [],
   "source": [
    "# Topic: Basics\n",
    "a = 5\n",
    "b = 3\n",
    "print(a * b)"
   ]
  },
  {
   "cell_type": "code",
   "execution_count": null,
   "id": "ac4500f0",
   "metadata": {},
   "outputs": [],
   "source": [
    "# Topic: Functions\n",
    "def add(a, b): return a + b\n",
    "print(add(3, 4))"
   ]
  },
  {
   "cell_type": "code",
   "execution_count": null,
   "id": "139a50dc",
   "metadata": {},
   "outputs": [],
   "source": [
    "# Topic: Web Scraping\n",
    "import requests\n",
    "from bs4 import BeautifulSoup\n",
    "r = requests.get('https://example.com')\n",
    "soup = BeautifulSoup(r.text, 'html.parser')\n",
    "print(soup.title.string)"
   ]
  },
  {
   "cell_type": "code",
   "execution_count": null,
   "id": "1995da31",
   "metadata": {},
   "outputs": [],
   "source": [
    "# Topic: Lists & Tuples\n",
    "nums = [1,2,3]\n",
    "nums.append(4)\n",
    "print(nums)"
   ]
  },
  {
   "cell_type": "code",
   "execution_count": null,
   "id": "2a6ab33c",
   "metadata": {},
   "outputs": [],
   "source": [
    "# Topic: Basics\n",
    "name = 'Fahd'\n",
    "print(f'Welcome, {name}')"
   ]
  },
  {
   "cell_type": "code",
   "execution_count": null,
   "id": "d1257db3",
   "metadata": {},
   "outputs": [],
   "source": [
    "# Topic: Exceptions\n",
    "try:\n",
    "    print(10/0)\n",
    "except ZeroDivisionError:\n",
    "    print('Cannot divide by zero')"
   ]
  },
  {
   "cell_type": "code",
   "execution_count": null,
   "id": "5cfcd3c5",
   "metadata": {},
   "outputs": [],
   "source": [
    "# Topic: Basics\n",
    "a = 5\n",
    "b = 3\n",
    "print(a * b)"
   ]
  },
  {
   "cell_type": "code",
   "execution_count": null,
   "id": "f5bb9dd2",
   "metadata": {},
   "outputs": [],
   "source": [
    "# Topic: Recursion\n",
    "def fib(n):\n",
    "    if n <= 1: return n\n",
    "    return fib(n-1) + fib(n-2)\n",
    "print(fib(5))"
   ]
  },
  {
   "cell_type": "code",
   "execution_count": null,
   "id": "33711c8e",
   "metadata": {},
   "outputs": [],
   "source": [
    "# Topic: Matplotlib\n",
    "import matplotlib.pyplot as plt\n",
    "plt.bar(['A','B'], [10,20])\n",
    "plt.show()"
   ]
  },
  {
   "cell_type": "code",
   "execution_count": null,
   "id": "c146c7a6",
   "metadata": {},
   "outputs": [],
   "source": [
    "# Topic: Mini Projects\n",
    "# Palindrome checker\n",
    "def is_palindrome(s):\n",
    " return s == s[::-1]\n",
    "print(is_palindrome('madam'))"
   ]
  },
  {
   "cell_type": "code",
   "execution_count": null,
   "id": "4e66b316",
   "metadata": {},
   "outputs": [],
   "source": [
    "# Topic: Exceptions\n",
    "try:\n",
    "    print(10/0)\n",
    "except ZeroDivisionError:\n",
    "    print('Cannot divide by zero')"
   ]
  },
  {
   "cell_type": "code",
   "execution_count": null,
   "id": "6d790ef3",
   "metadata": {},
   "outputs": [],
   "source": [
    "# Topic: Functions\n",
    "def factorial(n):\n",
    "    return 1 if n==0 else n * factorial(n-1)\n",
    "print(factorial(5))"
   ]
  },
  {
   "cell_type": "code",
   "execution_count": null,
   "id": "2157dc1a",
   "metadata": {},
   "outputs": [],
   "source": [
    "# Topic: Loops\n",
    "for i in range(10): print(i*i)"
   ]
  },
  {
   "cell_type": "code",
   "execution_count": null,
   "id": "c0ae114d",
   "metadata": {},
   "outputs": [],
   "source": [
    "# Topic: Matplotlib\n",
    "import matplotlib.pyplot as plt\n",
    "plt.plot([1,2],[3,4])\n",
    "plt.show()"
   ]
  },
  {
   "cell_type": "code",
   "execution_count": null,
   "id": "12c933ef",
   "metadata": {},
   "outputs": [],
   "source": [
    "# Topic: Classes & Objects\n",
    "class Dog:\n",
    "    def bark(self):\n",
    "        print('Woof!')\n",
    "d = Dog()\n",
    "d.bark()"
   ]
  },
  {
   "cell_type": "code",
   "execution_count": null,
   "id": "ce3762c6",
   "metadata": {},
   "outputs": [],
   "source": [
    "# Topic: Classes & Objects\n",
    "class Dog:\n",
    "    def bark(self):\n",
    "        print('Woof!')\n",
    "d = Dog()\n",
    "d.bark()"
   ]
  },
  {
   "cell_type": "code",
   "execution_count": null,
   "id": "4b16f237",
   "metadata": {},
   "outputs": [],
   "source": [
    "# Topic: File I/O\n",
    "with open('sample.txt', 'w') as f:\n",
    "    f.write('Hello World')"
   ]
  },
  {
   "cell_type": "code",
   "execution_count": null,
   "id": "0cfaaf82",
   "metadata": {},
   "outputs": [],
   "source": [
    "# Topic: Mini Projects\n",
    "# Simple calculator\n",
    "def calc(a,b,op):\n",
    " if op=='+': return a+b\n",
    " elif op=='-': return a-b\n",
    "print(calc(10,5,'+'))"
   ]
  },
  {
   "cell_type": "code",
   "execution_count": null,
   "id": "16e8e123",
   "metadata": {},
   "outputs": [],
   "source": [
    "# Topic: File I/O\n",
    "with open('sample.txt') as f:\n",
    "    print(f.read())"
   ]
  },
  {
   "cell_type": "code",
   "execution_count": null,
   "id": "f0667ef9",
   "metadata": {},
   "outputs": [],
   "source": [
    "# Topic: Classes & Objects\n",
    "class Dog:\n",
    "    def bark(self):\n",
    "        print('Woof!')\n",
    "d = Dog()\n",
    "d.bark()"
   ]
  },
  {
   "cell_type": "code",
   "execution_count": null,
   "id": "91f31ea4",
   "metadata": {},
   "outputs": [],
   "source": [
    "# Topic: Loops\n",
    "i = 0\n",
    "while i < 5:\n",
    "    print(i)\n",
    "    i += 1"
   ]
  },
  {
   "cell_type": "code",
   "execution_count": null,
   "id": "3a318c05",
   "metadata": {},
   "outputs": [],
   "source": [
    "# Topic: Mini Projects\n",
    "# Palindrome checker\n",
    "def is_palindrome(s):\n",
    " return s == s[::-1]\n",
    "print(is_palindrome('madam'))"
   ]
  },
  {
   "cell_type": "code",
   "execution_count": null,
   "id": "16d83e14",
   "metadata": {},
   "outputs": [],
   "source": [
    "# Topic: Pandas\n",
    "import pandas as pd\n",
    "df = pd.DataFrame({'A':[1,2],'B':[3,4]})\n",
    "print(df)"
   ]
  },
  {
   "cell_type": "code",
   "execution_count": null,
   "id": "6e0aef84",
   "metadata": {},
   "outputs": [],
   "source": [
    "# Topic: Recursion\n",
    "def fib(n):\n",
    "    if n <= 1: return n\n",
    "    return fib(n-1) + fib(n-2)\n",
    "print(fib(5))"
   ]
  },
  {
   "cell_type": "code",
   "execution_count": null,
   "id": "5d8c3da0",
   "metadata": {},
   "outputs": [],
   "source": [
    "# Topic: Exceptions\n",
    "try:\n",
    "    print(10/0)\n",
    "except ZeroDivisionError:\n",
    "    print('Cannot divide by zero')"
   ]
  },
  {
   "cell_type": "code",
   "execution_count": null,
   "id": "37d849f2",
   "metadata": {},
   "outputs": [],
   "source": [
    "# Topic: Exceptions\n",
    "try:\n",
    "    print(10/0)\n",
    "except ZeroDivisionError:\n",
    "    print('Cannot divide by zero')"
   ]
  },
  {
   "cell_type": "code",
   "execution_count": null,
   "id": "9cb805cf",
   "metadata": {},
   "outputs": [],
   "source": [
    "# Topic: Functions\n",
    "def add(a, b): return a + b\n",
    "print(add(3, 4))"
   ]
  },
  {
   "cell_type": "code",
   "execution_count": null,
   "id": "4fad437c",
   "metadata": {},
   "outputs": [],
   "source": [
    "# Topic: Lists & Tuples\n",
    "nums = [1,2,3]\n",
    "nums.append(4)\n",
    "print(nums)"
   ]
  },
  {
   "cell_type": "code",
   "execution_count": null,
   "id": "46d8ff96",
   "metadata": {},
   "outputs": [],
   "source": [
    "# Topic: Dictionaries & Sets\n",
    "s = {1,2,3}\n",
    "s.add(4)\n",
    "print(s)"
   ]
  },
  {
   "cell_type": "code",
   "execution_count": null,
   "id": "daa2b33c",
   "metadata": {},
   "outputs": [],
   "source": [
    "# Topic: Lists & Tuples\n",
    "nums = [1,2,3]\n",
    "nums.append(4)\n",
    "print(nums)"
   ]
  },
  {
   "cell_type": "code",
   "execution_count": null,
   "id": "f33f1656",
   "metadata": {},
   "outputs": [],
   "source": [
    "# Topic: Basics\n",
    "name = 'Fahd'\n",
    "print(f'Welcome, {name}')"
   ]
  },
  {
   "cell_type": "code",
   "execution_count": null,
   "id": "795c089f",
   "metadata": {},
   "outputs": [],
   "source": [
    "# Topic: NumPy\n",
    "import numpy as np\n",
    "a = np.array([1,2,3])\n",
    "print(a * 2)"
   ]
  },
  {
   "cell_type": "code",
   "execution_count": null,
   "id": "5c63916b",
   "metadata": {},
   "outputs": [],
   "source": [
    "# Topic: Lists & Tuples\n",
    "t = (1,2,3)\n",
    "print(t[1])"
   ]
  },
  {
   "cell_type": "code",
   "execution_count": null,
   "id": "c63d415b",
   "metadata": {},
   "outputs": [],
   "source": [
    "# Topic: Classes & Objects\n",
    "class Dog:\n",
    "    def bark(self):\n",
    "        print('Woof!')\n",
    "d = Dog()\n",
    "d.bark()"
   ]
  },
  {
   "cell_type": "code",
   "execution_count": null,
   "id": "031db96c",
   "metadata": {},
   "outputs": [],
   "source": [
    "# Topic: Lists & Tuples\n",
    "t = (1,2,3)\n",
    "print(t[1])"
   ]
  },
  {
   "cell_type": "code",
   "execution_count": null,
   "id": "180e9bf1",
   "metadata": {},
   "outputs": [],
   "source": [
    "# Topic: Functions\n",
    "def add(a, b): return a + b\n",
    "print(add(3, 4))"
   ]
  },
  {
   "cell_type": "code",
   "execution_count": null,
   "id": "edc91344",
   "metadata": {},
   "outputs": [],
   "source": [
    "# Topic: File I/O\n",
    "with open('sample.txt', 'w') as f:\n",
    "    f.write('Hello World')"
   ]
  },
  {
   "cell_type": "code",
   "execution_count": null,
   "id": "d68b5f94",
   "metadata": {},
   "outputs": [],
   "source": [
    "# Topic: Pandas\n",
    "import pandas as pd\n",
    "df = pd.read_csv('data.csv')\n",
    "print(df.head())"
   ]
  },
  {
   "cell_type": "code",
   "execution_count": null,
   "id": "2eebeafd",
   "metadata": {},
   "outputs": [],
   "source": [
    "# Topic: Decorators\n",
    "def decorator(fn):\n",
    "    def wrapper():\n",
    "        print('Before')\n",
    "        fn()\n",
    "        print('After')\n",
    "    return wrapper\n",
    "@decorator\n",
    "def say(): print('Hi')\n",
    "say()"
   ]
  },
  {
   "cell_type": "code",
   "execution_count": null,
   "id": "1497f702",
   "metadata": {},
   "outputs": [],
   "source": [
    "# Topic: Mini Projects\n",
    "# Palindrome checker\n",
    "def is_palindrome(s):\n",
    " return s == s[::-1]\n",
    "print(is_palindrome('madam'))"
   ]
  },
  {
   "cell_type": "code",
   "execution_count": null,
   "id": "ceea99ff",
   "metadata": {},
   "outputs": [],
   "source": [
    "# Topic: Loops\n",
    "i = 0\n",
    "while i < 5:\n",
    "    print(i)\n",
    "    i += 1"
   ]
  },
  {
   "cell_type": "code",
   "execution_count": null,
   "id": "e084e1cb",
   "metadata": {},
   "outputs": [],
   "source": [
    "# Topic: Exceptions\n",
    "try:\n",
    "    print(10/0)\n",
    "except ZeroDivisionError:\n",
    "    print('Cannot divide by zero')"
   ]
  },
  {
   "cell_type": "code",
   "execution_count": null,
   "id": "7846f4bb",
   "metadata": {},
   "outputs": [],
   "source": [
    "# Topic: Matplotlib\n",
    "import matplotlib.pyplot as plt\n",
    "plt.bar(['A','B'], [10,20])\n",
    "plt.show()"
   ]
  },
  {
   "cell_type": "code",
   "execution_count": null,
   "id": "7e9f0b9a",
   "metadata": {},
   "outputs": [],
   "source": [
    "# Topic: NumPy\n",
    "import numpy as np\n",
    "print(np.arange(0, 10, 2))"
   ]
  },
  {
   "cell_type": "code",
   "execution_count": null,
   "id": "1aeb9f6a",
   "metadata": {},
   "outputs": [],
   "source": [
    "# Topic: Basics\n",
    "a = 5\n",
    "b = 3\n",
    "print(a * b)"
   ]
  },
  {
   "cell_type": "code",
   "execution_count": null,
   "id": "8b52fe65",
   "metadata": {},
   "outputs": [],
   "source": [
    "# Topic: Functions\n",
    "def factorial(n):\n",
    "    return 1 if n==0 else n * factorial(n-1)\n",
    "print(factorial(5))"
   ]
  },
  {
   "cell_type": "code",
   "execution_count": null,
   "id": "0e801380",
   "metadata": {},
   "outputs": [],
   "source": [
    "# Topic: File I/O\n",
    "with open('sample.txt', 'w') as f:\n",
    "    f.write('Hello World')"
   ]
  },
  {
   "cell_type": "code",
   "execution_count": null,
   "id": "eb6056a3",
   "metadata": {},
   "outputs": [],
   "source": [
    "# Topic: Mini Projects\n",
    "# Palindrome checker\n",
    "def is_palindrome(s):\n",
    " return s == s[::-1]\n",
    "print(is_palindrome('madam'))"
   ]
  },
  {
   "cell_type": "code",
   "execution_count": null,
   "id": "4618d52c",
   "metadata": {},
   "outputs": [],
   "source": [
    "# Topic: Recursion\n",
    "def fib(n):\n",
    "    if n <= 1: return n\n",
    "    return fib(n-1) + fib(n-2)\n",
    "print(fib(5))"
   ]
  },
  {
   "cell_type": "code",
   "execution_count": null,
   "id": "0968b1e8",
   "metadata": {},
   "outputs": [],
   "source": [
    "# Topic: NumPy\n",
    "import numpy as np\n",
    "a = np.array([1,2,3])\n",
    "print(a * 2)"
   ]
  },
  {
   "cell_type": "code",
   "execution_count": null,
   "id": "abd79d3f",
   "metadata": {},
   "outputs": [],
   "source": [
    "# Topic: NumPy\n",
    "import numpy as np\n",
    "a = np.array([1,2,3])\n",
    "print(a * 2)"
   ]
  },
  {
   "cell_type": "code",
   "execution_count": null,
   "id": "8aaeed60",
   "metadata": {},
   "outputs": [],
   "source": [
    "# Topic: Pandas\n",
    "import pandas as pd\n",
    "df = pd.read_csv('data.csv')\n",
    "print(df.head())"
   ]
  },
  {
   "cell_type": "code",
   "execution_count": null,
   "id": "6b2d51ce",
   "metadata": {},
   "outputs": [],
   "source": [
    "# Topic: File I/O\n",
    "with open('sample.txt', 'w') as f:\n",
    "    f.write('Hello World')"
   ]
  },
  {
   "cell_type": "code",
   "execution_count": null,
   "id": "7838b48b",
   "metadata": {},
   "outputs": [],
   "source": [
    "# Topic: Loops\n",
    "for i in range(10): print(i*i)"
   ]
  },
  {
   "cell_type": "code",
   "execution_count": null,
   "id": "51642a14",
   "metadata": {},
   "outputs": [],
   "source": [
    "# Topic: Recursion\n",
    "def fib(n):\n",
    "    if n <= 1: return n\n",
    "    return fib(n-1) + fib(n-2)\n",
    "print(fib(5))"
   ]
  },
  {
   "cell_type": "code",
   "execution_count": null,
   "id": "ca932837",
   "metadata": {},
   "outputs": [],
   "source": [
    "# Topic: Matplotlib\n",
    "import matplotlib.pyplot as plt\n",
    "plt.plot([1,2],[3,4])\n",
    "plt.show()"
   ]
  },
  {
   "cell_type": "code",
   "execution_count": null,
   "id": "97447fbb",
   "metadata": {},
   "outputs": [],
   "source": [
    "# Topic: Functions\n",
    "def factorial(n):\n",
    "    return 1 if n==0 else n * factorial(n-1)\n",
    "print(factorial(5))"
   ]
  },
  {
   "cell_type": "code",
   "execution_count": null,
   "id": "95e78c70",
   "metadata": {},
   "outputs": [],
   "source": [
    "# Topic: Lists & Tuples\n",
    "t = (1,2,3)\n",
    "print(t[1])"
   ]
  },
  {
   "cell_type": "code",
   "execution_count": null,
   "id": "99ffadfc",
   "metadata": {},
   "outputs": [],
   "source": [
    "# Topic: File I/O\n",
    "with open('sample.txt') as f:\n",
    "    print(f.read())"
   ]
  },
  {
   "cell_type": "code",
   "execution_count": null,
   "id": "e38d769f",
   "metadata": {},
   "outputs": [],
   "source": [
    "# Topic: Basics\n",
    "a = 5\n",
    "b = 3\n",
    "print(a * b)"
   ]
  },
  {
   "cell_type": "code",
   "execution_count": null,
   "id": "5d368553",
   "metadata": {},
   "outputs": [],
   "source": [
    "# Topic: Basics\n",
    "x = 7\n",
    "print('Odd' if x % 2 else 'Even')"
   ]
  },
  {
   "cell_type": "code",
   "execution_count": null,
   "id": "6501f555",
   "metadata": {},
   "outputs": [],
   "source": [
    "# Topic: Matplotlib\n",
    "import matplotlib.pyplot as plt\n",
    "plt.bar(['A','B'], [10,20])\n",
    "plt.show()"
   ]
  },
  {
   "cell_type": "code",
   "execution_count": null,
   "id": "60c43350",
   "metadata": {},
   "outputs": [],
   "source": [
    "# Topic: Dictionaries & Sets\n",
    "d = {'a':1, 'b':2}\n",
    "print(d['a'])"
   ]
  },
  {
   "cell_type": "code",
   "execution_count": null,
   "id": "b561c29f",
   "metadata": {},
   "outputs": [],
   "source": [
    "# Topic: Basics\n",
    "x = 7\n",
    "print('Odd' if x % 2 else 'Even')"
   ]
  },
  {
   "cell_type": "code",
   "execution_count": null,
   "id": "d02ec585",
   "metadata": {},
   "outputs": [],
   "source": [
    "# Topic: Recursion\n",
    "def fib(n):\n",
    "    if n <= 1: return n\n",
    "    return fib(n-1) + fib(n-2)\n",
    "print(fib(5))"
   ]
  },
  {
   "cell_type": "code",
   "execution_count": null,
   "id": "e9abe967",
   "metadata": {},
   "outputs": [],
   "source": [
    "# Topic: Loops\n",
    "i = 0\n",
    "while i < 5:\n",
    "    print(i)\n",
    "    i += 1"
   ]
  },
  {
   "cell_type": "code",
   "execution_count": null,
   "id": "3fb34c1f",
   "metadata": {},
   "outputs": [],
   "source": [
    "# Topic: Lists & Tuples\n",
    "nums = [1,2,3]\n",
    "nums.append(4)\n",
    "print(nums)"
   ]
  },
  {
   "cell_type": "code",
   "execution_count": null,
   "id": "d5fdae4b",
   "metadata": {},
   "outputs": [],
   "source": [
    "# Topic: Pandas\n",
    "import pandas as pd\n",
    "df = pd.read_csv('data.csv')\n",
    "print(df.head())"
   ]
  },
  {
   "cell_type": "code",
   "execution_count": null,
   "id": "5fb09922",
   "metadata": {},
   "outputs": [],
   "source": [
    "# Topic: Classes & Objects\n",
    "class Dog:\n",
    "    def bark(self):\n",
    "        print('Woof!')\n",
    "d = Dog()\n",
    "d.bark()"
   ]
  },
  {
   "cell_type": "code",
   "execution_count": null,
   "id": "682d79ed",
   "metadata": {},
   "outputs": [],
   "source": [
    "# Topic: Lists & Tuples\n",
    "t = (1,2,3)\n",
    "print(t[1])"
   ]
  },
  {
   "cell_type": "code",
   "execution_count": null,
   "id": "7d079e8b",
   "metadata": {},
   "outputs": [],
   "source": [
    "# Topic: Matplotlib\n",
    "import matplotlib.pyplot as plt\n",
    "plt.bar(['A','B'], [10,20])\n",
    "plt.show()"
   ]
  },
  {
   "cell_type": "code",
   "execution_count": null,
   "id": "6adae68e",
   "metadata": {},
   "outputs": [],
   "source": [
    "# Topic: Basics\n",
    "name = 'Fahd'\n",
    "print(f'Welcome, {name}')"
   ]
  },
  {
   "cell_type": "code",
   "execution_count": null,
   "id": "1d1d0848",
   "metadata": {},
   "outputs": [],
   "source": [
    "# Topic: Basics\n",
    "x = 7\n",
    "print('Odd' if x % 2 else 'Even')"
   ]
  },
  {
   "cell_type": "code",
   "execution_count": null,
   "id": "e9cc9a30",
   "metadata": {},
   "outputs": [],
   "source": [
    "# Topic: Matplotlib\n",
    "import matplotlib.pyplot as plt\n",
    "plt.bar(['A','B'], [10,20])\n",
    "plt.show()"
   ]
  },
  {
   "cell_type": "code",
   "execution_count": null,
   "id": "073747b3",
   "metadata": {},
   "outputs": [],
   "source": [
    "# Topic: Loops\n",
    "for i in range(10): print(i*i)"
   ]
  },
  {
   "cell_type": "code",
   "execution_count": null,
   "id": "a57bb771",
   "metadata": {},
   "outputs": [],
   "source": [
    "# Topic: Matplotlib\n",
    "import matplotlib.pyplot as plt\n",
    "plt.plot([1,2],[3,4])\n",
    "plt.show()"
   ]
  },
  {
   "cell_type": "code",
   "execution_count": null,
   "id": "96bf3652",
   "metadata": {},
   "outputs": [],
   "source": [
    "# Topic: Mini Projects\n",
    "# Simple calculator\n",
    "def calc(a,b,op):\n",
    " if op=='+': return a+b\n",
    " elif op=='-': return a-b\n",
    "print(calc(10,5,'+'))"
   ]
  },
  {
   "cell_type": "code",
   "execution_count": null,
   "id": "de51bb85",
   "metadata": {},
   "outputs": [],
   "source": [
    "# Topic: Dictionaries & Sets\n",
    "d = {'a':1, 'b':2}\n",
    "print(d['a'])"
   ]
  },
  {
   "cell_type": "code",
   "execution_count": null,
   "id": "e2dcc1ce",
   "metadata": {},
   "outputs": [],
   "source": [
    "# Topic: Classes & Objects\n",
    "class Dog:\n",
    "    def bark(self):\n",
    "        print('Woof!')\n",
    "d = Dog()\n",
    "d.bark()"
   ]
  },
  {
   "cell_type": "code",
   "execution_count": null,
   "id": "e9c27845",
   "metadata": {},
   "outputs": [],
   "source": [
    "# Topic: Dictionaries & Sets\n",
    "s = {1,2,3}\n",
    "s.add(4)\n",
    "print(s)"
   ]
  },
  {
   "cell_type": "code",
   "execution_count": null,
   "id": "0133a5f1",
   "metadata": {},
   "outputs": [],
   "source": [
    "# Topic: Recursion\n",
    "def fib(n):\n",
    "    if n <= 1: return n\n",
    "    return fib(n-1) + fib(n-2)\n",
    "print(fib(5))"
   ]
  },
  {
   "cell_type": "code",
   "execution_count": null,
   "id": "3624b2e5",
   "metadata": {},
   "outputs": [],
   "source": [
    "# Topic: Classes & Objects\n",
    "class Dog:\n",
    "    def bark(self):\n",
    "        print('Woof!')\n",
    "d = Dog()\n",
    "d.bark()"
   ]
  },
  {
   "cell_type": "code",
   "execution_count": null,
   "id": "00f46d90",
   "metadata": {},
   "outputs": [],
   "source": [
    "# Topic: NumPy\n",
    "import numpy as np\n",
    "a = np.array([1,2,3])\n",
    "print(a * 2)"
   ]
  },
  {
   "cell_type": "code",
   "execution_count": null,
   "id": "529b8c81",
   "metadata": {},
   "outputs": [],
   "source": [
    "# Topic: Pandas\n",
    "import pandas as pd\n",
    "df = pd.DataFrame({'A':[1,2],'B':[3,4]})\n",
    "print(df)"
   ]
  },
  {
   "cell_type": "code",
   "execution_count": null,
   "id": "c4c798de",
   "metadata": {},
   "outputs": [],
   "source": [
    "# Topic: Recursion\n",
    "def fib(n):\n",
    "    if n <= 1: return n\n",
    "    return fib(n-1) + fib(n-2)\n",
    "print(fib(5))"
   ]
  },
  {
   "cell_type": "code",
   "execution_count": null,
   "id": "b1b248fd",
   "metadata": {},
   "outputs": [],
   "source": [
    "# Topic: Pandas\n",
    "import pandas as pd\n",
    "df = pd.read_csv('data.csv')\n",
    "print(df.head())"
   ]
  },
  {
   "cell_type": "code",
   "execution_count": null,
   "id": "cb1e1446",
   "metadata": {},
   "outputs": [],
   "source": [
    "# Topic: NumPy\n",
    "import numpy as np\n",
    "print(np.arange(0, 10, 2))"
   ]
  },
  {
   "cell_type": "code",
   "execution_count": null,
   "id": "84d6a15b",
   "metadata": {},
   "outputs": [],
   "source": [
    "# Topic: Pandas\n",
    "import pandas as pd\n",
    "df = pd.read_csv('data.csv')\n",
    "print(df.head())"
   ]
  },
  {
   "cell_type": "code",
   "execution_count": null,
   "id": "5e7520b8",
   "metadata": {},
   "outputs": [],
   "source": [
    "# Topic: Basics\n",
    "name = 'Fahd'\n",
    "print(f'Welcome, {name}')"
   ]
  },
  {
   "cell_type": "code",
   "execution_count": null,
   "id": "d965ecdc",
   "metadata": {},
   "outputs": [],
   "source": [
    "# Topic: Dictionaries & Sets\n",
    "d = {'a':1, 'b':2}\n",
    "print(d['a'])"
   ]
  },
  {
   "cell_type": "code",
   "execution_count": null,
   "id": "80cabf6e",
   "metadata": {},
   "outputs": [],
   "source": [
    "# Topic: Basics\n",
    "a = 5\n",
    "b = 3\n",
    "print(a * b)"
   ]
  },
  {
   "cell_type": "code",
   "execution_count": null,
   "id": "d805721a",
   "metadata": {},
   "outputs": [],
   "source": [
    "# Topic: Lists & Tuples\n",
    "t = (1,2,3)\n",
    "print(t[1])"
   ]
  },
  {
   "cell_type": "code",
   "execution_count": null,
   "id": "a90e62a3",
   "metadata": {},
   "outputs": [],
   "source": [
    "# Topic: Dictionaries & Sets\n",
    "d = {'a':1, 'b':2}\n",
    "print(d['a'])"
   ]
  },
  {
   "cell_type": "code",
   "execution_count": null,
   "id": "d1e7a099",
   "metadata": {},
   "outputs": [],
   "source": [
    "# Topic: Loops\n",
    "for i in range(10): print(i*i)"
   ]
  },
  {
   "cell_type": "code",
   "execution_count": null,
   "id": "be4bf0d8",
   "metadata": {},
   "outputs": [],
   "source": [
    "# Topic: Recursion\n",
    "def fib(n):\n",
    "    if n <= 1: return n\n",
    "    return fib(n-1) + fib(n-2)\n",
    "print(fib(5))"
   ]
  },
  {
   "cell_type": "code",
   "execution_count": null,
   "id": "daf00ab6",
   "metadata": {},
   "outputs": [],
   "source": [
    "# Topic: Mini Projects\n",
    "# Palindrome checker\n",
    "def is_palindrome(s):\n",
    " return s == s[::-1]\n",
    "print(is_palindrome('madam'))"
   ]
  },
  {
   "cell_type": "code",
   "execution_count": null,
   "id": "08e45055",
   "metadata": {},
   "outputs": [],
   "source": [
    "# Topic: Pandas\n",
    "import pandas as pd\n",
    "df = pd.read_csv('data.csv')\n",
    "print(df.head())"
   ]
  },
  {
   "cell_type": "code",
   "execution_count": null,
   "id": "aaf1ba60",
   "metadata": {},
   "outputs": [],
   "source": [
    "# Topic: File I/O\n",
    "with open('sample.txt', 'w') as f:\n",
    "    f.write('Hello World')"
   ]
  },
  {
   "cell_type": "code",
   "execution_count": null,
   "id": "29f41eab",
   "metadata": {},
   "outputs": [],
   "source": [
    "# Topic: NumPy\n",
    "import numpy as np\n",
    "print(np.arange(0, 10, 2))"
   ]
  },
  {
   "cell_type": "code",
   "execution_count": null,
   "id": "3c052da6",
   "metadata": {},
   "outputs": [],
   "source": [
    "# Topic: Loops\n",
    "i = 0\n",
    "while i < 5:\n",
    "    print(i)\n",
    "    i += 1"
   ]
  },
  {
   "cell_type": "code",
   "execution_count": null,
   "id": "758e5696",
   "metadata": {},
   "outputs": [],
   "source": [
    "# Topic: Dictionaries & Sets\n",
    "d = {'a':1, 'b':2}\n",
    "print(d['a'])"
   ]
  },
  {
   "cell_type": "code",
   "execution_count": null,
   "id": "10798761",
   "metadata": {},
   "outputs": [],
   "source": [
    "# Topic: Pandas\n",
    "import pandas as pd\n",
    "df = pd.DataFrame({'A':[1,2],'B':[3,4]})\n",
    "print(df)"
   ]
  },
  {
   "cell_type": "code",
   "execution_count": null,
   "id": "2450d45c",
   "metadata": {},
   "outputs": [],
   "source": [
    "# Topic: NumPy\n",
    "import numpy as np\n",
    "a = np.array([1,2,3])\n",
    "print(a * 2)"
   ]
  },
  {
   "cell_type": "code",
   "execution_count": null,
   "id": "2b6ee9a2",
   "metadata": {},
   "outputs": [],
   "source": [
    "# Topic: Basics\n",
    "x = 7\n",
    "print('Odd' if x % 2 else 'Even')"
   ]
  },
  {
   "cell_type": "code",
   "execution_count": null,
   "id": "00f12962",
   "metadata": {},
   "outputs": [],
   "source": [
    "# Topic: Mini Projects\n",
    "# Palindrome checker\n",
    "def is_palindrome(s):\n",
    " return s == s[::-1]\n",
    "print(is_palindrome('madam'))"
   ]
  },
  {
   "cell_type": "code",
   "execution_count": null,
   "id": "e4f4eaf6",
   "metadata": {},
   "outputs": [],
   "source": [
    "# Topic: Mini Projects\n",
    "# Simple calculator\n",
    "def calc(a,b,op):\n",
    " if op=='+': return a+b\n",
    " elif op=='-': return a-b\n",
    "print(calc(10,5,'+'))"
   ]
  },
  {
   "cell_type": "code",
   "execution_count": null,
   "id": "3ce9d855",
   "metadata": {},
   "outputs": [],
   "source": [
    "# Topic: NumPy\n",
    "import numpy as np\n",
    "print(np.arange(0, 10, 2))"
   ]
  },
  {
   "cell_type": "code",
   "execution_count": null,
   "id": "4ccac3f5",
   "metadata": {},
   "outputs": [],
   "source": [
    "# Topic: Decorators\n",
    "def decorator(fn):\n",
    "    def wrapper():\n",
    "        print('Before')\n",
    "        fn()\n",
    "        print('After')\n",
    "    return wrapper\n",
    "@decorator\n",
    "def say(): print('Hi')\n",
    "say()"
   ]
  },
  {
   "cell_type": "code",
   "execution_count": null,
   "id": "6ce5fbe2",
   "metadata": {},
   "outputs": [],
   "source": [
    "# Topic: Pandas\n",
    "import pandas as pd\n",
    "df = pd.DataFrame({'A':[1,2],'B':[3,4]})\n",
    "print(df)"
   ]
  },
  {
   "cell_type": "code",
   "execution_count": null,
   "id": "19d57742",
   "metadata": {},
   "outputs": [],
   "source": [
    "# Topic: Web Scraping\n",
    "import requests\n",
    "from bs4 import BeautifulSoup\n",
    "r = requests.get('https://example.com')\n",
    "soup = BeautifulSoup(r.text, 'html.parser')\n",
    "print(soup.title.string)"
   ]
  },
  {
   "cell_type": "code",
   "execution_count": null,
   "id": "979036e2",
   "metadata": {},
   "outputs": [],
   "source": [
    "# Topic: File I/O\n",
    "with open('sample.txt', 'w') as f:\n",
    "    f.write('Hello World')"
   ]
  },
  {
   "cell_type": "code",
   "execution_count": null,
   "id": "07eac3d5",
   "metadata": {},
   "outputs": [],
   "source": [
    "# Topic: Classes & Objects\n",
    "class Dog:\n",
    "    def bark(self):\n",
    "        print('Woof!')\n",
    "d = Dog()\n",
    "d.bark()"
   ]
  },
  {
   "cell_type": "code",
   "execution_count": null,
   "id": "20a54a95",
   "metadata": {},
   "outputs": [],
   "source": [
    "# Topic: File I/O\n",
    "with open('sample.txt', 'w') as f:\n",
    "    f.write('Hello World')"
   ]
  },
  {
   "cell_type": "code",
   "execution_count": null,
   "id": "d3b4e24b",
   "metadata": {},
   "outputs": [],
   "source": [
    "# Topic: Mini Projects\n",
    "# Palindrome checker\n",
    "def is_palindrome(s):\n",
    " return s == s[::-1]\n",
    "print(is_palindrome('madam'))"
   ]
  },
  {
   "cell_type": "code",
   "execution_count": null,
   "id": "7be1490e",
   "metadata": {},
   "outputs": [],
   "source": [
    "# Topic: Lists & Tuples\n",
    "t = (1,2,3)\n",
    "print(t[1])"
   ]
  },
  {
   "cell_type": "code",
   "execution_count": null,
   "id": "a29d4435",
   "metadata": {},
   "outputs": [],
   "source": [
    "# Topic: Recursion\n",
    "def fib(n):\n",
    "    if n <= 1: return n\n",
    "    return fib(n-1) + fib(n-2)\n",
    "print(fib(5))"
   ]
  },
  {
   "cell_type": "code",
   "execution_count": null,
   "id": "199ef8c4",
   "metadata": {},
   "outputs": [],
   "source": [
    "# Topic: Web Scraping\n",
    "import requests\n",
    "from bs4 import BeautifulSoup\n",
    "r = requests.get('https://example.com')\n",
    "soup = BeautifulSoup(r.text, 'html.parser')\n",
    "print(soup.title.string)"
   ]
  },
  {
   "cell_type": "code",
   "execution_count": null,
   "id": "55a330b0",
   "metadata": {},
   "outputs": [],
   "source": [
    "# Topic: Dictionaries & Sets\n",
    "s = {1,2,3}\n",
    "s.add(4)\n",
    "print(s)"
   ]
  },
  {
   "cell_type": "code",
   "execution_count": null,
   "id": "df3cad45",
   "metadata": {},
   "outputs": [],
   "source": [
    "# Topic: NumPy\n",
    "import numpy as np\n",
    "print(np.arange(0, 10, 2))"
   ]
  },
  {
   "cell_type": "code",
   "execution_count": null,
   "id": "8237a0d0",
   "metadata": {},
   "outputs": [],
   "source": [
    "# Topic: Loops\n",
    "for i in range(10): print(i*i)"
   ]
  },
  {
   "cell_type": "code",
   "execution_count": null,
   "id": "68f01ea2",
   "metadata": {},
   "outputs": [],
   "source": [
    "# Topic: Matplotlib\n",
    "import matplotlib.pyplot as plt\n",
    "plt.bar(['A','B'], [10,20])\n",
    "plt.show()"
   ]
  },
  {
   "cell_type": "code",
   "execution_count": null,
   "id": "86ef1b0e",
   "metadata": {},
   "outputs": [],
   "source": [
    "# Topic: Matplotlib\n",
    "import matplotlib.pyplot as plt\n",
    "plt.bar(['A','B'], [10,20])\n",
    "plt.show()"
   ]
  },
  {
   "cell_type": "code",
   "execution_count": null,
   "id": "a03818c6",
   "metadata": {},
   "outputs": [],
   "source": [
    "# Topic: Recursion\n",
    "def fib(n):\n",
    "    if n <= 1: return n\n",
    "    return fib(n-1) + fib(n-2)\n",
    "print(fib(5))"
   ]
  },
  {
   "cell_type": "code",
   "execution_count": null,
   "id": "66b01245",
   "metadata": {},
   "outputs": [],
   "source": [
    "# Topic: Web Scraping\n",
    "import requests\n",
    "from bs4 import BeautifulSoup\n",
    "r = requests.get('https://example.com')\n",
    "soup = BeautifulSoup(r.text, 'html.parser')\n",
    "print(soup.title.string)"
   ]
  },
  {
   "cell_type": "code",
   "execution_count": null,
   "id": "14cdd364",
   "metadata": {},
   "outputs": [],
   "source": [
    "# Topic: Dictionaries & Sets\n",
    "d = {'a':1, 'b':2}\n",
    "print(d['a'])"
   ]
  },
  {
   "cell_type": "code",
   "execution_count": null,
   "id": "08b23a46",
   "metadata": {},
   "outputs": [],
   "source": [
    "# Topic: Recursion\n",
    "def fib(n):\n",
    "    if n <= 1: return n\n",
    "    return fib(n-1) + fib(n-2)\n",
    "print(fib(5))"
   ]
  },
  {
   "cell_type": "code",
   "execution_count": null,
   "id": "771fe1ff",
   "metadata": {},
   "outputs": [],
   "source": [
    "# Topic: File I/O\n",
    "with open('sample.txt', 'w') as f:\n",
    "    f.write('Hello World')"
   ]
  },
  {
   "cell_type": "code",
   "execution_count": null,
   "id": "d25cff31",
   "metadata": {},
   "outputs": [],
   "source": [
    "# Topic: Recursion\n",
    "def fib(n):\n",
    "    if n <= 1: return n\n",
    "    return fib(n-1) + fib(n-2)\n",
    "print(fib(5))"
   ]
  },
  {
   "cell_type": "code",
   "execution_count": null,
   "id": "3a4fda44",
   "metadata": {},
   "outputs": [],
   "source": [
    "# Topic: Mini Projects\n",
    "# Simple calculator\n",
    "def calc(a,b,op):\n",
    " if op=='+': return a+b\n",
    " elif op=='-': return a-b\n",
    "print(calc(10,5,'+'))"
   ]
  },
  {
   "cell_type": "code",
   "execution_count": null,
   "id": "6fe6ebb7",
   "metadata": {},
   "outputs": [],
   "source": [
    "# Topic: Recursion\n",
    "def fib(n):\n",
    "    if n <= 1: return n\n",
    "    return fib(n-1) + fib(n-2)\n",
    "print(fib(5))"
   ]
  },
  {
   "cell_type": "code",
   "execution_count": null,
   "id": "9201213f",
   "metadata": {},
   "outputs": [],
   "source": [
    "# Topic: Basics\n",
    "x = 7\n",
    "print('Odd' if x % 2 else 'Even')"
   ]
  },
  {
   "cell_type": "code",
   "execution_count": null,
   "id": "03cf5303",
   "metadata": {},
   "outputs": [],
   "source": [
    "# Topic: Classes & Objects\n",
    "class Dog:\n",
    "    def bark(self):\n",
    "        print('Woof!')\n",
    "d = Dog()\n",
    "d.bark()"
   ]
  },
  {
   "cell_type": "code",
   "execution_count": null,
   "id": "452e67fe",
   "metadata": {},
   "outputs": [],
   "source": [
    "# Topic: Lists & Tuples\n",
    "t = (1,2,3)\n",
    "print(t[1])"
   ]
  },
  {
   "cell_type": "code",
   "execution_count": null,
   "id": "58619f59",
   "metadata": {},
   "outputs": [],
   "source": [
    "# Topic: Loops\n",
    "i = 0\n",
    "while i < 5:\n",
    "    print(i)\n",
    "    i += 1"
   ]
  },
  {
   "cell_type": "code",
   "execution_count": null,
   "id": "a305b1c2",
   "metadata": {},
   "outputs": [],
   "source": [
    "# Topic: Lists & Tuples\n",
    "t = (1,2,3)\n",
    "print(t[1])"
   ]
  },
  {
   "cell_type": "code",
   "execution_count": null,
   "id": "80785285",
   "metadata": {},
   "outputs": [],
   "source": [
    "# Topic: Web Scraping\n",
    "import requests\n",
    "from bs4 import BeautifulSoup\n",
    "r = requests.get('https://example.com')\n",
    "soup = BeautifulSoup(r.text, 'html.parser')\n",
    "print(soup.title.string)"
   ]
  },
  {
   "cell_type": "code",
   "execution_count": null,
   "id": "63800225",
   "metadata": {},
   "outputs": [],
   "source": [
    "# Topic: Basics\n",
    "x = 7\n",
    "print('Odd' if x % 2 else 'Even')"
   ]
  },
  {
   "cell_type": "code",
   "execution_count": null,
   "id": "a0d71bfd",
   "metadata": {},
   "outputs": [],
   "source": [
    "# Topic: Lists & Tuples\n",
    "t = (1,2,3)\n",
    "print(t[1])"
   ]
  },
  {
   "cell_type": "code",
   "execution_count": null,
   "id": "0e39dc8c",
   "metadata": {},
   "outputs": [],
   "source": [
    "# Topic: NumPy\n",
    "import numpy as np\n",
    "a = np.array([1,2,3])\n",
    "print(a * 2)"
   ]
  },
  {
   "cell_type": "code",
   "execution_count": null,
   "id": "b2868559",
   "metadata": {},
   "outputs": [],
   "source": [
    "# Topic: Classes & Objects\n",
    "class Dog:\n",
    "    def bark(self):\n",
    "        print('Woof!')\n",
    "d = Dog()\n",
    "d.bark()"
   ]
  },
  {
   "cell_type": "code",
   "execution_count": null,
   "id": "0b739212",
   "metadata": {},
   "outputs": [],
   "source": [
    "# Topic: Dictionaries & Sets\n",
    "d = {'a':1, 'b':2}\n",
    "print(d['a'])"
   ]
  },
  {
   "cell_type": "code",
   "execution_count": null,
   "id": "946686c9",
   "metadata": {},
   "outputs": [],
   "source": [
    "# Topic: File I/O\n",
    "with open('sample.txt', 'w') as f:\n",
    "    f.write('Hello World')"
   ]
  },
  {
   "cell_type": "code",
   "execution_count": null,
   "id": "d3b9d137",
   "metadata": {},
   "outputs": [],
   "source": [
    "# Topic: Recursion\n",
    "def fib(n):\n",
    "    if n <= 1: return n\n",
    "    return fib(n-1) + fib(n-2)\n",
    "print(fib(5))"
   ]
  },
  {
   "cell_type": "code",
   "execution_count": null,
   "id": "e4010388",
   "metadata": {},
   "outputs": [],
   "source": [
    "# Topic: Mini Projects\n",
    "# Palindrome checker\n",
    "def is_palindrome(s):\n",
    " return s == s[::-1]\n",
    "print(is_palindrome('madam'))"
   ]
  },
  {
   "cell_type": "code",
   "execution_count": null,
   "id": "a8296c99",
   "metadata": {},
   "outputs": [],
   "source": [
    "# Topic: Web Scraping\n",
    "import requests\n",
    "from bs4 import BeautifulSoup\n",
    "r = requests.get('https://example.com')\n",
    "soup = BeautifulSoup(r.text, 'html.parser')\n",
    "print(soup.title.string)"
   ]
  },
  {
   "cell_type": "code",
   "execution_count": null,
   "id": "861163e0",
   "metadata": {},
   "outputs": [],
   "source": [
    "# Topic: Dictionaries & Sets\n",
    "s = {1,2,3}\n",
    "s.add(4)\n",
    "print(s)"
   ]
  },
  {
   "cell_type": "code",
   "execution_count": null,
   "id": "0e5ea82b",
   "metadata": {},
   "outputs": [],
   "source": [
    "# Topic: Lists & Tuples\n",
    "t = (1,2,3)\n",
    "print(t[1])"
   ]
  },
  {
   "cell_type": "code",
   "execution_count": null,
   "id": "ba1b1cd5",
   "metadata": {},
   "outputs": [],
   "source": [
    "# Topic: Lists & Tuples\n",
    "nums = [1,2,3]\n",
    "nums.append(4)\n",
    "print(nums)"
   ]
  },
  {
   "cell_type": "code",
   "execution_count": null,
   "id": "ed588392",
   "metadata": {},
   "outputs": [],
   "source": [
    "# Topic: Web Scraping\n",
    "import requests\n",
    "from bs4 import BeautifulSoup\n",
    "r = requests.get('https://example.com')\n",
    "soup = BeautifulSoup(r.text, 'html.parser')\n",
    "print(soup.title.string)"
   ]
  },
  {
   "cell_type": "code",
   "execution_count": null,
   "id": "dec1d23b",
   "metadata": {},
   "outputs": [],
   "source": [
    "# Topic: Matplotlib\n",
    "import matplotlib.pyplot as plt\n",
    "plt.bar(['A','B'], [10,20])\n",
    "plt.show()"
   ]
  },
  {
   "cell_type": "code",
   "execution_count": null,
   "id": "aedb55d8",
   "metadata": {},
   "outputs": [],
   "source": [
    "# Topic: Decorators\n",
    "def decorator(fn):\n",
    "    def wrapper():\n",
    "        print('Before')\n",
    "        fn()\n",
    "        print('After')\n",
    "    return wrapper\n",
    "@decorator\n",
    "def say(): print('Hi')\n",
    "say()"
   ]
  },
  {
   "cell_type": "code",
   "execution_count": null,
   "id": "f6466c4e",
   "metadata": {},
   "outputs": [],
   "source": [
    "# Topic: Functions\n",
    "def add(a, b): return a + b\n",
    "print(add(3, 4))"
   ]
  },
  {
   "cell_type": "code",
   "execution_count": null,
   "id": "60ceae23",
   "metadata": {},
   "outputs": [],
   "source": [
    "# Topic: Dictionaries & Sets\n",
    "s = {1,2,3}\n",
    "s.add(4)\n",
    "print(s)"
   ]
  },
  {
   "cell_type": "code",
   "execution_count": null,
   "id": "a955aef6",
   "metadata": {},
   "outputs": [],
   "source": [
    "# Topic: File I/O\n",
    "with open('sample.txt', 'w') as f:\n",
    "    f.write('Hello World')"
   ]
  },
  {
   "cell_type": "code",
   "execution_count": null,
   "id": "857611ba",
   "metadata": {},
   "outputs": [],
   "source": [
    "# Topic: NumPy\n",
    "import numpy as np\n",
    "print(np.arange(0, 10, 2))"
   ]
  },
  {
   "cell_type": "code",
   "execution_count": null,
   "id": "20efaaab",
   "metadata": {},
   "outputs": [],
   "source": [
    "# Topic: Dictionaries & Sets\n",
    "s = {1,2,3}\n",
    "s.add(4)\n",
    "print(s)"
   ]
  },
  {
   "cell_type": "code",
   "execution_count": null,
   "id": "49137ba0",
   "metadata": {},
   "outputs": [],
   "source": [
    "# Topic: File I/O\n",
    "with open('sample.txt') as f:\n",
    "    print(f.read())"
   ]
  },
  {
   "cell_type": "code",
   "execution_count": null,
   "id": "751bd3f2",
   "metadata": {},
   "outputs": [],
   "source": [
    "# Topic: Basics\n",
    "name = 'Fahd'\n",
    "print(f'Welcome, {name}')"
   ]
  },
  {
   "cell_type": "code",
   "execution_count": null,
   "id": "b7a1a582",
   "metadata": {},
   "outputs": [],
   "source": [
    "# Topic: Classes & Objects\n",
    "class Dog:\n",
    "    def bark(self):\n",
    "        print('Woof!')\n",
    "d = Dog()\n",
    "d.bark()"
   ]
  },
  {
   "cell_type": "code",
   "execution_count": null,
   "id": "bcb25b86",
   "metadata": {},
   "outputs": [],
   "source": [
    "# Topic: Basics\n",
    "name = 'Fahd'\n",
    "print(f'Welcome, {name}')"
   ]
  },
  {
   "cell_type": "code",
   "execution_count": null,
   "id": "28d87487",
   "metadata": {},
   "outputs": [],
   "source": [
    "# Topic: Basics\n",
    "x = 7\n",
    "print('Odd' if x % 2 else 'Even')"
   ]
  },
  {
   "cell_type": "code",
   "execution_count": null,
   "id": "40b95e67",
   "metadata": {},
   "outputs": [],
   "source": [
    "# Topic: Decorators\n",
    "def decorator(fn):\n",
    "    def wrapper():\n",
    "        print('Before')\n",
    "        fn()\n",
    "        print('After')\n",
    "    return wrapper\n",
    "@decorator\n",
    "def say(): print('Hi')\n",
    "say()"
   ]
  },
  {
   "cell_type": "code",
   "execution_count": null,
   "id": "b55fa7d4",
   "metadata": {},
   "outputs": [],
   "source": [
    "# Topic: Mini Projects\n",
    "# Simple calculator\n",
    "def calc(a,b,op):\n",
    " if op=='+': return a+b\n",
    " elif op=='-': return a-b\n",
    "print(calc(10,5,'+'))"
   ]
  },
  {
   "cell_type": "code",
   "execution_count": null,
   "id": "5f9a5262",
   "metadata": {},
   "outputs": [],
   "source": [
    "# Topic: Recursion\n",
    "def fib(n):\n",
    "    if n <= 1: return n\n",
    "    return fib(n-1) + fib(n-2)\n",
    "print(fib(5))"
   ]
  },
  {
   "cell_type": "code",
   "execution_count": null,
   "id": "49203994",
   "metadata": {},
   "outputs": [],
   "source": [
    "# Topic: Loops\n",
    "i = 0\n",
    "while i < 5:\n",
    "    print(i)\n",
    "    i += 1"
   ]
  },
  {
   "cell_type": "code",
   "execution_count": null,
   "id": "dfd92399",
   "metadata": {},
   "outputs": [],
   "source": [
    "# Topic: Dictionaries & Sets\n",
    "d = {'a':1, 'b':2}\n",
    "print(d['a'])"
   ]
  },
  {
   "cell_type": "code",
   "execution_count": null,
   "id": "b1000396",
   "metadata": {},
   "outputs": [],
   "source": [
    "# Topic: Pandas\n",
    "import pandas as pd\n",
    "df = pd.read_csv('data.csv')\n",
    "print(df.head())"
   ]
  },
  {
   "cell_type": "code",
   "execution_count": null,
   "id": "da8eec3e",
   "metadata": {},
   "outputs": [],
   "source": [
    "# Topic: File I/O\n",
    "with open('sample.txt') as f:\n",
    "    print(f.read())"
   ]
  },
  {
   "cell_type": "code",
   "execution_count": null,
   "id": "c4afafa6",
   "metadata": {},
   "outputs": [],
   "source": [
    "# Topic: Exceptions\n",
    "try:\n",
    "    print(10/0)\n",
    "except ZeroDivisionError:\n",
    "    print('Cannot divide by zero')"
   ]
  },
  {
   "cell_type": "code",
   "execution_count": null,
   "id": "c857a5c5",
   "metadata": {},
   "outputs": [],
   "source": [
    "# Topic: Functions\n",
    "def add(a, b): return a + b\n",
    "print(add(3, 4))"
   ]
  },
  {
   "cell_type": "code",
   "execution_count": null,
   "id": "47c2d92f",
   "metadata": {},
   "outputs": [],
   "source": [
    "# Topic: Classes & Objects\n",
    "class Dog:\n",
    "    def bark(self):\n",
    "        print('Woof!')\n",
    "d = Dog()\n",
    "d.bark()"
   ]
  },
  {
   "cell_type": "code",
   "execution_count": null,
   "id": "7a1ada7b",
   "metadata": {},
   "outputs": [],
   "source": [
    "# Topic: Lists & Tuples\n",
    "nums = [1,2,3]\n",
    "nums.append(4)\n",
    "print(nums)"
   ]
  },
  {
   "cell_type": "code",
   "execution_count": null,
   "id": "27898670",
   "metadata": {},
   "outputs": [],
   "source": [
    "# Topic: Decorators\n",
    "def decorator(fn):\n",
    "    def wrapper():\n",
    "        print('Before')\n",
    "        fn()\n",
    "        print('After')\n",
    "    return wrapper\n",
    "@decorator\n",
    "def say(): print('Hi')\n",
    "say()"
   ]
  },
  {
   "cell_type": "code",
   "execution_count": null,
   "id": "f144832d",
   "metadata": {},
   "outputs": [],
   "source": [
    "# Topic: Loops\n",
    "for i in range(10): print(i*i)"
   ]
  },
  {
   "cell_type": "code",
   "execution_count": null,
   "id": "4793fac9",
   "metadata": {},
   "outputs": [],
   "source": [
    "# Topic: Exceptions\n",
    "try:\n",
    "    print(10/0)\n",
    "except ZeroDivisionError:\n",
    "    print('Cannot divide by zero')"
   ]
  },
  {
   "cell_type": "code",
   "execution_count": null,
   "id": "23e7c620",
   "metadata": {},
   "outputs": [],
   "source": [
    "# Topic: Decorators\n",
    "def decorator(fn):\n",
    "    def wrapper():\n",
    "        print('Before')\n",
    "        fn()\n",
    "        print('After')\n",
    "    return wrapper\n",
    "@decorator\n",
    "def say(): print('Hi')\n",
    "say()"
   ]
  },
  {
   "cell_type": "code",
   "execution_count": null,
   "id": "7e081aa4",
   "metadata": {},
   "outputs": [],
   "source": [
    "# Topic: Lists & Tuples\n",
    "t = (1,2,3)\n",
    "print(t[1])"
   ]
  },
  {
   "cell_type": "code",
   "execution_count": null,
   "id": "f322a1ed",
   "metadata": {},
   "outputs": [],
   "source": [
    "# Topic: Basics\n",
    "x = 7\n",
    "print('Odd' if x % 2 else 'Even')"
   ]
  },
  {
   "cell_type": "code",
   "execution_count": null,
   "id": "569dfa55",
   "metadata": {},
   "outputs": [],
   "source": [
    "# Topic: Matplotlib\n",
    "import matplotlib.pyplot as plt\n",
    "plt.plot([1,2],[3,4])\n",
    "plt.show()"
   ]
  },
  {
   "cell_type": "code",
   "execution_count": null,
   "id": "985ec639",
   "metadata": {},
   "outputs": [],
   "source": [
    "# Topic: Dictionaries & Sets\n",
    "s = {1,2,3}\n",
    "s.add(4)\n",
    "print(s)"
   ]
  },
  {
   "cell_type": "code",
   "execution_count": null,
   "id": "f0ca4e2d",
   "metadata": {},
   "outputs": [],
   "source": [
    "# Topic: Matplotlib\n",
    "import matplotlib.pyplot as plt\n",
    "plt.bar(['A','B'], [10,20])\n",
    "plt.show()"
   ]
  },
  {
   "cell_type": "code",
   "execution_count": null,
   "id": "b37041a1",
   "metadata": {},
   "outputs": [],
   "source": [
    "# Topic: Recursion\n",
    "def fib(n):\n",
    "    if n <= 1: return n\n",
    "    return fib(n-1) + fib(n-2)\n",
    "print(fib(5))"
   ]
  },
  {
   "cell_type": "code",
   "execution_count": null,
   "id": "97596ffb",
   "metadata": {},
   "outputs": [],
   "source": [
    "# Topic: Dictionaries & Sets\n",
    "d = {'a':1, 'b':2}\n",
    "print(d['a'])"
   ]
  },
  {
   "cell_type": "code",
   "execution_count": null,
   "id": "8e1a80d5",
   "metadata": {},
   "outputs": [],
   "source": [
    "# Topic: Recursion\n",
    "def fib(n):\n",
    "    if n <= 1: return n\n",
    "    return fib(n-1) + fib(n-2)\n",
    "print(fib(5))"
   ]
  },
  {
   "cell_type": "code",
   "execution_count": null,
   "id": "68ad797d",
   "metadata": {},
   "outputs": [],
   "source": [
    "# Topic: Loops\n",
    "i = 0\n",
    "while i < 5:\n",
    "    print(i)\n",
    "    i += 1"
   ]
  },
  {
   "cell_type": "code",
   "execution_count": null,
   "id": "b27b7e26",
   "metadata": {},
   "outputs": [],
   "source": [
    "# Topic: Exceptions\n",
    "try:\n",
    "    print(10/0)\n",
    "except ZeroDivisionError:\n",
    "    print('Cannot divide by zero')"
   ]
  },
  {
   "cell_type": "code",
   "execution_count": null,
   "id": "6a6f66d6",
   "metadata": {},
   "outputs": [],
   "source": [
    "# Topic: Matplotlib\n",
    "import matplotlib.pyplot as plt\n",
    "plt.plot([1,2],[3,4])\n",
    "plt.show()"
   ]
  },
  {
   "cell_type": "code",
   "execution_count": null,
   "id": "7f5a32f4",
   "metadata": {},
   "outputs": [],
   "source": [
    "# Topic: File I/O\n",
    "with open('sample.txt', 'w') as f:\n",
    "    f.write('Hello World')"
   ]
  },
  {
   "cell_type": "code",
   "execution_count": null,
   "id": "cee38062",
   "metadata": {},
   "outputs": [],
   "source": [
    "# Topic: Lists & Tuples\n",
    "nums = [1,2,3]\n",
    "nums.append(4)\n",
    "print(nums)"
   ]
  },
  {
   "cell_type": "code",
   "execution_count": null,
   "id": "546e1f04",
   "metadata": {},
   "outputs": [],
   "source": [
    "# Topic: Functions\n",
    "def add(a, b): return a + b\n",
    "print(add(3, 4))"
   ]
  },
  {
   "cell_type": "code",
   "execution_count": null,
   "id": "66ff0ad5",
   "metadata": {},
   "outputs": [],
   "source": [
    "# Topic: NumPy\n",
    "import numpy as np\n",
    "print(np.arange(0, 10, 2))"
   ]
  },
  {
   "cell_type": "code",
   "execution_count": null,
   "id": "c776b88a",
   "metadata": {},
   "outputs": [],
   "source": [
    "# Topic: Exceptions\n",
    "try:\n",
    "    print(10/0)\n",
    "except ZeroDivisionError:\n",
    "    print('Cannot divide by zero')"
   ]
  },
  {
   "cell_type": "code",
   "execution_count": null,
   "id": "10b385de",
   "metadata": {},
   "outputs": [],
   "source": [
    "# Topic: NumPy\n",
    "import numpy as np\n",
    "a = np.array([1,2,3])\n",
    "print(a * 2)"
   ]
  },
  {
   "cell_type": "code",
   "execution_count": null,
   "id": "20dd9e5a",
   "metadata": {},
   "outputs": [],
   "source": [
    "# Topic: Functions\n",
    "def add(a, b): return a + b\n",
    "print(add(3, 4))"
   ]
  },
  {
   "cell_type": "code",
   "execution_count": null,
   "id": "4ef2b6cb",
   "metadata": {},
   "outputs": [],
   "source": [
    "# Topic: Loops\n",
    "i = 0\n",
    "while i < 5:\n",
    "    print(i)\n",
    "    i += 1"
   ]
  },
  {
   "cell_type": "code",
   "execution_count": null,
   "id": "44c27332",
   "metadata": {},
   "outputs": [],
   "source": [
    "# Topic: Matplotlib\n",
    "import matplotlib.pyplot as plt\n",
    "plt.plot([1,2],[3,4])\n",
    "plt.show()"
   ]
  },
  {
   "cell_type": "code",
   "execution_count": null,
   "id": "81dd7520",
   "metadata": {},
   "outputs": [],
   "source": [
    "# Topic: Basics\n",
    "name = 'Fahd'\n",
    "print(f'Welcome, {name}')"
   ]
  },
  {
   "cell_type": "code",
   "execution_count": null,
   "id": "78682295",
   "metadata": {},
   "outputs": [],
   "source": [
    "# Topic: Lists & Tuples\n",
    "nums = [1,2,3]\n",
    "nums.append(4)\n",
    "print(nums)"
   ]
  },
  {
   "cell_type": "code",
   "execution_count": null,
   "id": "4e9cfb43",
   "metadata": {},
   "outputs": [],
   "source": [
    "# Topic: Decorators\n",
    "def decorator(fn):\n",
    "    def wrapper():\n",
    "        print('Before')\n",
    "        fn()\n",
    "        print('After')\n",
    "    return wrapper\n",
    "@decorator\n",
    "def say(): print('Hi')\n",
    "say()"
   ]
  },
  {
   "cell_type": "code",
   "execution_count": null,
   "id": "17280840",
   "metadata": {},
   "outputs": [],
   "source": [
    "# Topic: Basics\n",
    "name = 'Fahd'\n",
    "print(f'Welcome, {name}')"
   ]
  },
  {
   "cell_type": "code",
   "execution_count": null,
   "id": "680551ef",
   "metadata": {},
   "outputs": [],
   "source": [
    "# Topic: File I/O\n",
    "with open('sample.txt', 'w') as f:\n",
    "    f.write('Hello World')"
   ]
  },
  {
   "cell_type": "code",
   "execution_count": null,
   "id": "7cb4fd17",
   "metadata": {},
   "outputs": [],
   "source": [
    "# Topic: Lists & Tuples\n",
    "nums = [1,2,3]\n",
    "nums.append(4)\n",
    "print(nums)"
   ]
  },
  {
   "cell_type": "code",
   "execution_count": null,
   "id": "6ed707cb",
   "metadata": {},
   "outputs": [],
   "source": [
    "# Topic: Lists & Tuples\n",
    "nums = [1,2,3]\n",
    "nums.append(4)\n",
    "print(nums)"
   ]
  },
  {
   "cell_type": "code",
   "execution_count": null,
   "id": "ce9d7e19",
   "metadata": {},
   "outputs": [],
   "source": [
    "# Topic: Classes & Objects\n",
    "class Dog:\n",
    "    def bark(self):\n",
    "        print('Woof!')\n",
    "d = Dog()\n",
    "d.bark()"
   ]
  },
  {
   "cell_type": "code",
   "execution_count": null,
   "id": "324d9a27",
   "metadata": {},
   "outputs": [],
   "source": [
    "# Topic: Dictionaries & Sets\n",
    "s = {1,2,3}\n",
    "s.add(4)\n",
    "print(s)"
   ]
  },
  {
   "cell_type": "code",
   "execution_count": null,
   "id": "3543fc65",
   "metadata": {},
   "outputs": [],
   "source": [
    "# Topic: Dictionaries & Sets\n",
    "s = {1,2,3}\n",
    "s.add(4)\n",
    "print(s)"
   ]
  },
  {
   "cell_type": "code",
   "execution_count": null,
   "id": "8addb827",
   "metadata": {},
   "outputs": [],
   "source": [
    "# Topic: Web Scraping\n",
    "import requests\n",
    "from bs4 import BeautifulSoup\n",
    "r = requests.get('https://example.com')\n",
    "soup = BeautifulSoup(r.text, 'html.parser')\n",
    "print(soup.title.string)"
   ]
  },
  {
   "cell_type": "code",
   "execution_count": null,
   "id": "0395379e",
   "metadata": {},
   "outputs": [],
   "source": [
    "# Topic: Classes & Objects\n",
    "class Dog:\n",
    "    def bark(self):\n",
    "        print('Woof!')\n",
    "d = Dog()\n",
    "d.bark()"
   ]
  },
  {
   "cell_type": "code",
   "execution_count": null,
   "id": "bdf5c3a8",
   "metadata": {},
   "outputs": [],
   "source": [
    "# Topic: Dictionaries & Sets\n",
    "s = {1,2,3}\n",
    "s.add(4)\n",
    "print(s)"
   ]
  },
  {
   "cell_type": "code",
   "execution_count": null,
   "id": "99072662",
   "metadata": {},
   "outputs": [],
   "source": [
    "# Topic: Web Scraping\n",
    "import requests\n",
    "from bs4 import BeautifulSoup\n",
    "r = requests.get('https://example.com')\n",
    "soup = BeautifulSoup(r.text, 'html.parser')\n",
    "print(soup.title.string)"
   ]
  },
  {
   "cell_type": "code",
   "execution_count": null,
   "id": "775c0357",
   "metadata": {},
   "outputs": [],
   "source": [
    "# Topic: Exceptions\n",
    "try:\n",
    "    print(10/0)\n",
    "except ZeroDivisionError:\n",
    "    print('Cannot divide by zero')"
   ]
  },
  {
   "cell_type": "code",
   "execution_count": null,
   "id": "a4b0845c",
   "metadata": {},
   "outputs": [],
   "source": [
    "# Topic: Mini Projects\n",
    "# Simple calculator\n",
    "def calc(a,b,op):\n",
    " if op=='+': return a+b\n",
    " elif op=='-': return a-b\n",
    "print(calc(10,5,'+'))"
   ]
  },
  {
   "cell_type": "code",
   "execution_count": null,
   "id": "62866b8c",
   "metadata": {},
   "outputs": [],
   "source": [
    "# Topic: Decorators\n",
    "def decorator(fn):\n",
    "    def wrapper():\n",
    "        print('Before')\n",
    "        fn()\n",
    "        print('After')\n",
    "    return wrapper\n",
    "@decorator\n",
    "def say(): print('Hi')\n",
    "say()"
   ]
  },
  {
   "cell_type": "code",
   "execution_count": null,
   "id": "44cfe0f8",
   "metadata": {},
   "outputs": [],
   "source": [
    "# Topic: Web Scraping\n",
    "import requests\n",
    "from bs4 import BeautifulSoup\n",
    "r = requests.get('https://example.com')\n",
    "soup = BeautifulSoup(r.text, 'html.parser')\n",
    "print(soup.title.string)"
   ]
  },
  {
   "cell_type": "code",
   "execution_count": null,
   "id": "213e3ddc",
   "metadata": {},
   "outputs": [],
   "source": [
    "# Topic: NumPy\n",
    "import numpy as np\n",
    "a = np.array([1,2,3])\n",
    "print(a * 2)"
   ]
  },
  {
   "cell_type": "code",
   "execution_count": null,
   "id": "ee03fb83",
   "metadata": {},
   "outputs": [],
   "source": [
    "# Topic: Lists & Tuples\n",
    "t = (1,2,3)\n",
    "print(t[1])"
   ]
  },
  {
   "cell_type": "code",
   "execution_count": null,
   "id": "b13acf17",
   "metadata": {},
   "outputs": [],
   "source": [
    "# Topic: Pandas\n",
    "import pandas as pd\n",
    "df = pd.DataFrame({'A':[1,2],'B':[3,4]})\n",
    "print(df)"
   ]
  },
  {
   "cell_type": "code",
   "execution_count": null,
   "id": "e5e6c3f1",
   "metadata": {},
   "outputs": [],
   "source": [
    "# Topic: Matplotlib\n",
    "import matplotlib.pyplot as plt\n",
    "plt.bar(['A','B'], [10,20])\n",
    "plt.show()"
   ]
  },
  {
   "cell_type": "code",
   "execution_count": null,
   "id": "aa9aae01",
   "metadata": {},
   "outputs": [],
   "source": [
    "# Topic: Loops\n",
    "for i in range(10): print(i*i)"
   ]
  },
  {
   "cell_type": "code",
   "execution_count": null,
   "id": "18f91627",
   "metadata": {},
   "outputs": [],
   "source": [
    "# Topic: Basics\n",
    "a = 5\n",
    "b = 3\n",
    "print(a * b)"
   ]
  },
  {
   "cell_type": "code",
   "execution_count": null,
   "id": "4a04a1da",
   "metadata": {},
   "outputs": [],
   "source": [
    "# Topic: Mini Projects\n",
    "# Simple calculator\n",
    "def calc(a,b,op):\n",
    " if op=='+': return a+b\n",
    " elif op=='-': return a-b\n",
    "print(calc(10,5,'+'))"
   ]
  },
  {
   "cell_type": "code",
   "execution_count": null,
   "id": "25607ff5",
   "metadata": {},
   "outputs": [],
   "source": [
    "# Topic: Loops\n",
    "i = 0\n",
    "while i < 5:\n",
    "    print(i)\n",
    "    i += 1"
   ]
  },
  {
   "cell_type": "code",
   "execution_count": null,
   "id": "839790c9",
   "metadata": {},
   "outputs": [],
   "source": [
    "# Topic: Lists & Tuples\n",
    "t = (1,2,3)\n",
    "print(t[1])"
   ]
  },
  {
   "cell_type": "code",
   "execution_count": null,
   "id": "7935714d",
   "metadata": {},
   "outputs": [],
   "source": [
    "# Topic: Classes & Objects\n",
    "class Dog:\n",
    "    def bark(self):\n",
    "        print('Woof!')\n",
    "d = Dog()\n",
    "d.bark()"
   ]
  },
  {
   "cell_type": "code",
   "execution_count": null,
   "id": "94ae85ff",
   "metadata": {},
   "outputs": [],
   "source": [
    "# Topic: Loops\n",
    "i = 0\n",
    "while i < 5:\n",
    "    print(i)\n",
    "    i += 1"
   ]
  },
  {
   "cell_type": "code",
   "execution_count": null,
   "id": "56842c19",
   "metadata": {},
   "outputs": [],
   "source": [
    "# Topic: Mini Projects\n",
    "# Simple calculator\n",
    "def calc(a,b,op):\n",
    " if op=='+': return a+b\n",
    " elif op=='-': return a-b\n",
    "print(calc(10,5,'+'))"
   ]
  },
  {
   "cell_type": "code",
   "execution_count": null,
   "id": "8ad0ab52",
   "metadata": {},
   "outputs": [],
   "source": [
    "# Topic: Web Scraping\n",
    "import requests\n",
    "from bs4 import BeautifulSoup\n",
    "r = requests.get('https://example.com')\n",
    "soup = BeautifulSoup(r.text, 'html.parser')\n",
    "print(soup.title.string)"
   ]
  },
  {
   "cell_type": "code",
   "execution_count": null,
   "id": "38231a91",
   "metadata": {},
   "outputs": [],
   "source": [
    "# Topic: Exceptions\n",
    "try:\n",
    "    print(10/0)\n",
    "except ZeroDivisionError:\n",
    "    print('Cannot divide by zero')"
   ]
  },
  {
   "cell_type": "code",
   "execution_count": null,
   "id": "47d02d81",
   "metadata": {},
   "outputs": [],
   "source": [
    "# Topic: Basics\n",
    "name = 'Fahd'\n",
    "print(f'Welcome, {name}')"
   ]
  },
  {
   "cell_type": "code",
   "execution_count": null,
   "id": "ca571927",
   "metadata": {},
   "outputs": [],
   "source": [
    "# Topic: Classes & Objects\n",
    "class Dog:\n",
    "    def bark(self):\n",
    "        print('Woof!')\n",
    "d = Dog()\n",
    "d.bark()"
   ]
  },
  {
   "cell_type": "code",
   "execution_count": null,
   "id": "e0be5b02",
   "metadata": {},
   "outputs": [],
   "source": [
    "# Topic: File I/O\n",
    "with open('sample.txt') as f:\n",
    "    print(f.read())"
   ]
  },
  {
   "cell_type": "code",
   "execution_count": null,
   "id": "d4ecca8d",
   "metadata": {},
   "outputs": [],
   "source": [
    "# Topic: Recursion\n",
    "def fib(n):\n",
    "    if n <= 1: return n\n",
    "    return fib(n-1) + fib(n-2)\n",
    "print(fib(5))"
   ]
  },
  {
   "cell_type": "code",
   "execution_count": null,
   "id": "6ce3bc70",
   "metadata": {},
   "outputs": [],
   "source": [
    "# Topic: Matplotlib\n",
    "import matplotlib.pyplot as plt\n",
    "plt.plot([1,2],[3,4])\n",
    "plt.show()"
   ]
  },
  {
   "cell_type": "code",
   "execution_count": null,
   "id": "63775f57",
   "metadata": {},
   "outputs": [],
   "source": [
    "# Topic: Dictionaries & Sets\n",
    "d = {'a':1, 'b':2}\n",
    "print(d['a'])"
   ]
  },
  {
   "cell_type": "code",
   "execution_count": null,
   "id": "3cd08a09",
   "metadata": {},
   "outputs": [],
   "source": [
    "# Topic: Exceptions\n",
    "try:\n",
    "    print(10/0)\n",
    "except ZeroDivisionError:\n",
    "    print('Cannot divide by zero')"
   ]
  },
  {
   "cell_type": "code",
   "execution_count": null,
   "id": "1ac5ae6b",
   "metadata": {},
   "outputs": [],
   "source": [
    "# Topic: Classes & Objects\n",
    "class Dog:\n",
    "    def bark(self):\n",
    "        print('Woof!')\n",
    "d = Dog()\n",
    "d.bark()"
   ]
  },
  {
   "cell_type": "code",
   "execution_count": null,
   "id": "febe2b56",
   "metadata": {},
   "outputs": [],
   "source": [
    "# Topic: Functions\n",
    "def add(a, b): return a + b\n",
    "print(add(3, 4))"
   ]
  },
  {
   "cell_type": "code",
   "execution_count": null,
   "id": "92b074cb",
   "metadata": {},
   "outputs": [],
   "source": [
    "# Topic: Exceptions\n",
    "try:\n",
    "    print(10/0)\n",
    "except ZeroDivisionError:\n",
    "    print('Cannot divide by zero')"
   ]
  },
  {
   "cell_type": "code",
   "execution_count": null,
   "id": "31022abc",
   "metadata": {},
   "outputs": [],
   "source": [
    "# Topic: Exceptions\n",
    "try:\n",
    "    print(10/0)\n",
    "except ZeroDivisionError:\n",
    "    print('Cannot divide by zero')"
   ]
  },
  {
   "cell_type": "code",
   "execution_count": null,
   "id": "bfea158c",
   "metadata": {},
   "outputs": [],
   "source": [
    "# Topic: File I/O\n",
    "with open('sample.txt', 'w') as f:\n",
    "    f.write('Hello World')"
   ]
  },
  {
   "cell_type": "code",
   "execution_count": null,
   "id": "0b47f75a",
   "metadata": {},
   "outputs": [],
   "source": [
    "# Topic: Lists & Tuples\n",
    "t = (1,2,3)\n",
    "print(t[1])"
   ]
  },
  {
   "cell_type": "code",
   "execution_count": null,
   "id": "d60d7160",
   "metadata": {},
   "outputs": [],
   "source": [
    "# Topic: Matplotlib\n",
    "import matplotlib.pyplot as plt\n",
    "plt.bar(['A','B'], [10,20])\n",
    "plt.show()"
   ]
  },
  {
   "cell_type": "code",
   "execution_count": null,
   "id": "48cddc29",
   "metadata": {},
   "outputs": [],
   "source": [
    "# Topic: NumPy\n",
    "import numpy as np\n",
    "a = np.array([1,2,3])\n",
    "print(a * 2)"
   ]
  },
  {
   "cell_type": "code",
   "execution_count": null,
   "id": "e31d7dc9",
   "metadata": {},
   "outputs": [],
   "source": [
    "# Topic: File I/O\n",
    "with open('sample.txt') as f:\n",
    "    print(f.read())"
   ]
  },
  {
   "cell_type": "code",
   "execution_count": null,
   "id": "a2208f13",
   "metadata": {},
   "outputs": [],
   "source": [
    "# Topic: Matplotlib\n",
    "import matplotlib.pyplot as plt\n",
    "plt.plot([1,2],[3,4])\n",
    "plt.show()"
   ]
  },
  {
   "cell_type": "code",
   "execution_count": null,
   "id": "c2532e1a",
   "metadata": {},
   "outputs": [],
   "source": [
    "# Topic: Functions\n",
    "def factorial(n):\n",
    "    return 1 if n==0 else n * factorial(n-1)\n",
    "print(factorial(5))"
   ]
  },
  {
   "cell_type": "code",
   "execution_count": null,
   "id": "d4758ab0",
   "metadata": {},
   "outputs": [],
   "source": [
    "# Topic: File I/O\n",
    "with open('sample.txt') as f:\n",
    "    print(f.read())"
   ]
  },
  {
   "cell_type": "code",
   "execution_count": null,
   "id": "00d4fe42",
   "metadata": {},
   "outputs": [],
   "source": [
    "# Topic: Web Scraping\n",
    "import requests\n",
    "from bs4 import BeautifulSoup\n",
    "r = requests.get('https://example.com')\n",
    "soup = BeautifulSoup(r.text, 'html.parser')\n",
    "print(soup.title.string)"
   ]
  },
  {
   "cell_type": "code",
   "execution_count": null,
   "id": "3dea1cd2",
   "metadata": {},
   "outputs": [],
   "source": [
    "# Topic: Basics\n",
    "a = 5\n",
    "b = 3\n",
    "print(a * b)"
   ]
  },
  {
   "cell_type": "code",
   "execution_count": null,
   "id": "8855c97e",
   "metadata": {},
   "outputs": [],
   "source": [
    "# Topic: Lists & Tuples\n",
    "t = (1,2,3)\n",
    "print(t[1])"
   ]
  },
  {
   "cell_type": "code",
   "execution_count": null,
   "id": "05936d4f",
   "metadata": {},
   "outputs": [],
   "source": [
    "# Topic: Classes & Objects\n",
    "class Dog:\n",
    "    def bark(self):\n",
    "        print('Woof!')\n",
    "d = Dog()\n",
    "d.bark()"
   ]
  },
  {
   "cell_type": "code",
   "execution_count": null,
   "id": "5aabf1c6",
   "metadata": {},
   "outputs": [],
   "source": [
    "# Topic: Recursion\n",
    "def fib(n):\n",
    "    if n <= 1: return n\n",
    "    return fib(n-1) + fib(n-2)\n",
    "print(fib(5))"
   ]
  },
  {
   "cell_type": "code",
   "execution_count": null,
   "id": "f5f2d9d2",
   "metadata": {},
   "outputs": [],
   "source": [
    "# Topic: Lists & Tuples\n",
    "t = (1,2,3)\n",
    "print(t[1])"
   ]
  },
  {
   "cell_type": "code",
   "execution_count": null,
   "id": "6d18de0e",
   "metadata": {},
   "outputs": [],
   "source": [
    "# Topic: Dictionaries & Sets\n",
    "s = {1,2,3}\n",
    "s.add(4)\n",
    "print(s)"
   ]
  },
  {
   "cell_type": "code",
   "execution_count": null,
   "id": "a70ce5d7",
   "metadata": {},
   "outputs": [],
   "source": [
    "# Topic: Classes & Objects\n",
    "class Dog:\n",
    "    def bark(self):\n",
    "        print('Woof!')\n",
    "d = Dog()\n",
    "d.bark()"
   ]
  },
  {
   "cell_type": "code",
   "execution_count": null,
   "id": "9bbc8043",
   "metadata": {},
   "outputs": [],
   "source": [
    "# Topic: NumPy\n",
    "import numpy as np\n",
    "print(np.arange(0, 10, 2))"
   ]
  },
  {
   "cell_type": "code",
   "execution_count": null,
   "id": "f2677963",
   "metadata": {},
   "outputs": [],
   "source": [
    "# Topic: Web Scraping\n",
    "import requests\n",
    "from bs4 import BeautifulSoup\n",
    "r = requests.get('https://example.com')\n",
    "soup = BeautifulSoup(r.text, 'html.parser')\n",
    "print(soup.title.string)"
   ]
  },
  {
   "cell_type": "code",
   "execution_count": null,
   "id": "4833029e",
   "metadata": {},
   "outputs": [],
   "source": [
    "# Topic: Mini Projects\n",
    "# Palindrome checker\n",
    "def is_palindrome(s):\n",
    " return s == s[::-1]\n",
    "print(is_palindrome('madam'))"
   ]
  },
  {
   "cell_type": "code",
   "execution_count": null,
   "id": "dd43772a",
   "metadata": {},
   "outputs": [],
   "source": [
    "# Topic: File I/O\n",
    "with open('sample.txt', 'w') as f:\n",
    "    f.write('Hello World')"
   ]
  },
  {
   "cell_type": "code",
   "execution_count": null,
   "id": "9e1b16c2",
   "metadata": {},
   "outputs": [],
   "source": [
    "# Topic: NumPy\n",
    "import numpy as np\n",
    "a = np.array([1,2,3])\n",
    "print(a * 2)"
   ]
  },
  {
   "cell_type": "code",
   "execution_count": null,
   "id": "24645f30",
   "metadata": {},
   "outputs": [],
   "source": [
    "# Topic: Exceptions\n",
    "try:\n",
    "    print(10/0)\n",
    "except ZeroDivisionError:\n",
    "    print('Cannot divide by zero')"
   ]
  },
  {
   "cell_type": "code",
   "execution_count": null,
   "id": "b89e8967",
   "metadata": {},
   "outputs": [],
   "source": [
    "# Topic: Web Scraping\n",
    "import requests\n",
    "from bs4 import BeautifulSoup\n",
    "r = requests.get('https://example.com')\n",
    "soup = BeautifulSoup(r.text, 'html.parser')\n",
    "print(soup.title.string)"
   ]
  },
  {
   "cell_type": "code",
   "execution_count": null,
   "id": "e2ab8f83",
   "metadata": {},
   "outputs": [],
   "source": [
    "# Topic: Loops\n",
    "i = 0\n",
    "while i < 5:\n",
    "    print(i)\n",
    "    i += 1"
   ]
  },
  {
   "cell_type": "code",
   "execution_count": null,
   "id": "9985c088",
   "metadata": {},
   "outputs": [],
   "source": [
    "# Topic: Lists & Tuples\n",
    "t = (1,2,3)\n",
    "print(t[1])"
   ]
  },
  {
   "cell_type": "code",
   "execution_count": null,
   "id": "dd1ffa09",
   "metadata": {},
   "outputs": [],
   "source": [
    "# Topic: Matplotlib\n",
    "import matplotlib.pyplot as plt\n",
    "plt.plot([1,2],[3,4])\n",
    "plt.show()"
   ]
  },
  {
   "cell_type": "code",
   "execution_count": null,
   "id": "7747d421",
   "metadata": {},
   "outputs": [],
   "source": [
    "# Topic: Dictionaries & Sets\n",
    "s = {1,2,3}\n",
    "s.add(4)\n",
    "print(s)"
   ]
  },
  {
   "cell_type": "code",
   "execution_count": null,
   "id": "3808a171",
   "metadata": {},
   "outputs": [],
   "source": [
    "# Topic: Decorators\n",
    "def decorator(fn):\n",
    "    def wrapper():\n",
    "        print('Before')\n",
    "        fn()\n",
    "        print('After')\n",
    "    return wrapper\n",
    "@decorator\n",
    "def say(): print('Hi')\n",
    "say()"
   ]
  },
  {
   "cell_type": "code",
   "execution_count": null,
   "id": "0ebe68e9",
   "metadata": {},
   "outputs": [],
   "source": [
    "# Topic: Recursion\n",
    "def fib(n):\n",
    "    if n <= 1: return n\n",
    "    return fib(n-1) + fib(n-2)\n",
    "print(fib(5))"
   ]
  },
  {
   "cell_type": "code",
   "execution_count": null,
   "id": "ac4f1281",
   "metadata": {},
   "outputs": [],
   "source": [
    "# Topic: Exceptions\n",
    "try:\n",
    "    print(10/0)\n",
    "except ZeroDivisionError:\n",
    "    print('Cannot divide by zero')"
   ]
  },
  {
   "cell_type": "code",
   "execution_count": null,
   "id": "bf5d6841",
   "metadata": {},
   "outputs": [],
   "source": [
    "# Topic: NumPy\n",
    "import numpy as np\n",
    "print(np.arange(0, 10, 2))"
   ]
  },
  {
   "cell_type": "code",
   "execution_count": null,
   "id": "0c338381",
   "metadata": {},
   "outputs": [],
   "source": [
    "# Topic: Classes & Objects\n",
    "class Dog:\n",
    "    def bark(self):\n",
    "        print('Woof!')\n",
    "d = Dog()\n",
    "d.bark()"
   ]
  },
  {
   "cell_type": "code",
   "execution_count": null,
   "id": "5df3b6db",
   "metadata": {},
   "outputs": [],
   "source": [
    "# Topic: Classes & Objects\n",
    "class Dog:\n",
    "    def bark(self):\n",
    "        print('Woof!')\n",
    "d = Dog()\n",
    "d.bark()"
   ]
  },
  {
   "cell_type": "code",
   "execution_count": null,
   "id": "50956362",
   "metadata": {},
   "outputs": [],
   "source": [
    "# Topic: Recursion\n",
    "def fib(n):\n",
    "    if n <= 1: return n\n",
    "    return fib(n-1) + fib(n-2)\n",
    "print(fib(5))"
   ]
  },
  {
   "cell_type": "code",
   "execution_count": null,
   "id": "972cda67",
   "metadata": {},
   "outputs": [],
   "source": [
    "# Topic: Basics\n",
    "a = 5\n",
    "b = 3\n",
    "print(a * b)"
   ]
  },
  {
   "cell_type": "code",
   "execution_count": null,
   "id": "38201410",
   "metadata": {},
   "outputs": [],
   "source": [
    "# Topic: Exceptions\n",
    "try:\n",
    "    print(10/0)\n",
    "except ZeroDivisionError:\n",
    "    print('Cannot divide by zero')"
   ]
  },
  {
   "cell_type": "code",
   "execution_count": null,
   "id": "d1632eec",
   "metadata": {},
   "outputs": [],
   "source": [
    "# Topic: Functions\n",
    "def factorial(n):\n",
    "    return 1 if n==0 else n * factorial(n-1)\n",
    "print(factorial(5))"
   ]
  },
  {
   "cell_type": "code",
   "execution_count": null,
   "id": "46580451",
   "metadata": {},
   "outputs": [],
   "source": [
    "# Topic: Pandas\n",
    "import pandas as pd\n",
    "df = pd.DataFrame({'A':[1,2],'B':[3,4]})\n",
    "print(df)"
   ]
  },
  {
   "cell_type": "code",
   "execution_count": null,
   "id": "3d4cd129",
   "metadata": {},
   "outputs": [],
   "source": [
    "# Topic: Mini Projects\n",
    "# Palindrome checker\n",
    "def is_palindrome(s):\n",
    " return s == s[::-1]\n",
    "print(is_palindrome('madam'))"
   ]
  },
  {
   "cell_type": "code",
   "execution_count": null,
   "id": "17aefd13",
   "metadata": {},
   "outputs": [],
   "source": [
    "# Topic: Pandas\n",
    "import pandas as pd\n",
    "df = pd.read_csv('data.csv')\n",
    "print(df.head())"
   ]
  },
  {
   "cell_type": "code",
   "execution_count": null,
   "id": "32d7f93a",
   "metadata": {},
   "outputs": [],
   "source": [
    "# Topic: Matplotlib\n",
    "import matplotlib.pyplot as plt\n",
    "plt.plot([1,2],[3,4])\n",
    "plt.show()"
   ]
  },
  {
   "cell_type": "code",
   "execution_count": null,
   "id": "dfa65586",
   "metadata": {},
   "outputs": [],
   "source": [
    "# Topic: Exceptions\n",
    "try:\n",
    "    print(10/0)\n",
    "except ZeroDivisionError:\n",
    "    print('Cannot divide by zero')"
   ]
  },
  {
   "cell_type": "code",
   "execution_count": null,
   "id": "4c8a2771",
   "metadata": {},
   "outputs": [],
   "source": [
    "# Topic: Basics\n",
    "name = 'Fahd'\n",
    "print(f'Welcome, {name}')"
   ]
  },
  {
   "cell_type": "code",
   "execution_count": null,
   "id": "a9df895c",
   "metadata": {},
   "outputs": [],
   "source": [
    "# Topic: Recursion\n",
    "def fib(n):\n",
    "    if n <= 1: return n\n",
    "    return fib(n-1) + fib(n-2)\n",
    "print(fib(5))"
   ]
  },
  {
   "cell_type": "code",
   "execution_count": null,
   "id": "57d273f5",
   "metadata": {},
   "outputs": [],
   "source": [
    "# Topic: Matplotlib\n",
    "import matplotlib.pyplot as plt\n",
    "plt.plot([1,2],[3,4])\n",
    "plt.show()"
   ]
  },
  {
   "cell_type": "code",
   "execution_count": null,
   "id": "757c5eae",
   "metadata": {},
   "outputs": [],
   "source": [
    "# Topic: File I/O\n",
    "with open('sample.txt', 'w') as f:\n",
    "    f.write('Hello World')"
   ]
  },
  {
   "cell_type": "code",
   "execution_count": null,
   "id": "36dee79f",
   "metadata": {},
   "outputs": [],
   "source": [
    "# Topic: Mini Projects\n",
    "# Simple calculator\n",
    "def calc(a,b,op):\n",
    " if op=='+': return a+b\n",
    " elif op=='-': return a-b\n",
    "print(calc(10,5,'+'))"
   ]
  },
  {
   "cell_type": "code",
   "execution_count": null,
   "id": "57c4905b",
   "metadata": {},
   "outputs": [],
   "source": [
    "# Topic: Lists & Tuples\n",
    "t = (1,2,3)\n",
    "print(t[1])"
   ]
  },
  {
   "cell_type": "code",
   "execution_count": null,
   "id": "307094d5",
   "metadata": {},
   "outputs": [],
   "source": [
    "# Topic: Loops\n",
    "for i in range(10): print(i*i)"
   ]
  },
  {
   "cell_type": "code",
   "execution_count": null,
   "id": "7585614c",
   "metadata": {},
   "outputs": [],
   "source": [
    "# Topic: Matplotlib\n",
    "import matplotlib.pyplot as plt\n",
    "plt.bar(['A','B'], [10,20])\n",
    "plt.show()"
   ]
  },
  {
   "cell_type": "code",
   "execution_count": null,
   "id": "ea051f3e",
   "metadata": {},
   "outputs": [],
   "source": [
    "# Topic: NumPy\n",
    "import numpy as np\n",
    "print(np.arange(0, 10, 2))"
   ]
  },
  {
   "cell_type": "code",
   "execution_count": null,
   "id": "5efabeb1",
   "metadata": {},
   "outputs": [],
   "source": [
    "# Topic: Functions\n",
    "def add(a, b): return a + b\n",
    "print(add(3, 4))"
   ]
  },
  {
   "cell_type": "code",
   "execution_count": null,
   "id": "08ed662a",
   "metadata": {},
   "outputs": [],
   "source": [
    "# Topic: Matplotlib\n",
    "import matplotlib.pyplot as plt\n",
    "plt.bar(['A','B'], [10,20])\n",
    "plt.show()"
   ]
  },
  {
   "cell_type": "code",
   "execution_count": null,
   "id": "ddb3a13b",
   "metadata": {},
   "outputs": [],
   "source": [
    "# Topic: Basics\n",
    "x = 7\n",
    "print('Odd' if x % 2 else 'Even')"
   ]
  },
  {
   "cell_type": "code",
   "execution_count": null,
   "id": "7a93216e",
   "metadata": {},
   "outputs": [],
   "source": [
    "# Topic: Recursion\n",
    "def fib(n):\n",
    "    if n <= 1: return n\n",
    "    return fib(n-1) + fib(n-2)\n",
    "print(fib(5))"
   ]
  },
  {
   "cell_type": "code",
   "execution_count": null,
   "id": "a653e716",
   "metadata": {},
   "outputs": [],
   "source": [
    "# Topic: Functions\n",
    "def factorial(n):\n",
    "    return 1 if n==0 else n * factorial(n-1)\n",
    "print(factorial(5))"
   ]
  },
  {
   "cell_type": "code",
   "execution_count": null,
   "id": "3590e8d7",
   "metadata": {},
   "outputs": [],
   "source": [
    "# Topic: Loops\n",
    "for i in range(10): print(i*i)"
   ]
  },
  {
   "cell_type": "code",
   "execution_count": null,
   "id": "e2d4357b",
   "metadata": {},
   "outputs": [],
   "source": [
    "# Topic: Functions\n",
    "def factorial(n):\n",
    "    return 1 if n==0 else n * factorial(n-1)\n",
    "print(factorial(5))"
   ]
  },
  {
   "cell_type": "code",
   "execution_count": null,
   "id": "e1ee3cfb",
   "metadata": {},
   "outputs": [],
   "source": [
    "# Topic: Mini Projects\n",
    "# Simple calculator\n",
    "def calc(a,b,op):\n",
    " if op=='+': return a+b\n",
    " elif op=='-': return a-b\n",
    "print(calc(10,5,'+'))"
   ]
  },
  {
   "cell_type": "code",
   "execution_count": null,
   "id": "5d8a83f0",
   "metadata": {},
   "outputs": [],
   "source": [
    "# Topic: Matplotlib\n",
    "import matplotlib.pyplot as plt\n",
    "plt.bar(['A','B'], [10,20])\n",
    "plt.show()"
   ]
  },
  {
   "cell_type": "code",
   "execution_count": null,
   "id": "3c416c24",
   "metadata": {},
   "outputs": [],
   "source": [
    "# Topic: Recursion\n",
    "def fib(n):\n",
    "    if n <= 1: return n\n",
    "    return fib(n-1) + fib(n-2)\n",
    "print(fib(5))"
   ]
  },
  {
   "cell_type": "code",
   "execution_count": null,
   "id": "26463e3e",
   "metadata": {},
   "outputs": [],
   "source": [
    "# Topic: Exceptions\n",
    "try:\n",
    "    print(10/0)\n",
    "except ZeroDivisionError:\n",
    "    print('Cannot divide by zero')"
   ]
  },
  {
   "cell_type": "code",
   "execution_count": null,
   "id": "bad7beea",
   "metadata": {},
   "outputs": [],
   "source": [
    "# Topic: Lists & Tuples\n",
    "nums = [1,2,3]\n",
    "nums.append(4)\n",
    "print(nums)"
   ]
  },
  {
   "cell_type": "code",
   "execution_count": null,
   "id": "407e0c09",
   "metadata": {},
   "outputs": [],
   "source": [
    "# Topic: Classes & Objects\n",
    "class Dog:\n",
    "    def bark(self):\n",
    "        print('Woof!')\n",
    "d = Dog()\n",
    "d.bark()"
   ]
  },
  {
   "cell_type": "code",
   "execution_count": null,
   "id": "df58224b",
   "metadata": {},
   "outputs": [],
   "source": [
    "# Topic: Basics\n",
    "x = 7\n",
    "print('Odd' if x % 2 else 'Even')"
   ]
  },
  {
   "cell_type": "code",
   "execution_count": null,
   "id": "6defe719",
   "metadata": {},
   "outputs": [],
   "source": [
    "# Topic: Basics\n",
    "x = 7\n",
    "print('Odd' if x % 2 else 'Even')"
   ]
  },
  {
   "cell_type": "code",
   "execution_count": null,
   "id": "6d8f5b2b",
   "metadata": {},
   "outputs": [],
   "source": [
    "# Topic: Functions\n",
    "def factorial(n):\n",
    "    return 1 if n==0 else n * factorial(n-1)\n",
    "print(factorial(5))"
   ]
  },
  {
   "cell_type": "code",
   "execution_count": null,
   "id": "1b4250a1",
   "metadata": {},
   "outputs": [],
   "source": [
    "# Topic: Classes & Objects\n",
    "class Dog:\n",
    "    def bark(self):\n",
    "        print('Woof!')\n",
    "d = Dog()\n",
    "d.bark()"
   ]
  },
  {
   "cell_type": "code",
   "execution_count": null,
   "id": "2f7d5e04",
   "metadata": {},
   "outputs": [],
   "source": [
    "# Topic: Exceptions\n",
    "try:\n",
    "    print(10/0)\n",
    "except ZeroDivisionError:\n",
    "    print('Cannot divide by zero')"
   ]
  },
  {
   "cell_type": "code",
   "execution_count": null,
   "id": "9550b92d",
   "metadata": {},
   "outputs": [],
   "source": [
    "# Topic: Decorators\n",
    "def decorator(fn):\n",
    "    def wrapper():\n",
    "        print('Before')\n",
    "        fn()\n",
    "        print('After')\n",
    "    return wrapper\n",
    "@decorator\n",
    "def say(): print('Hi')\n",
    "say()"
   ]
  },
  {
   "cell_type": "code",
   "execution_count": null,
   "id": "eb765e21",
   "metadata": {},
   "outputs": [],
   "source": [
    "# Topic: Exceptions\n",
    "try:\n",
    "    print(10/0)\n",
    "except ZeroDivisionError:\n",
    "    print('Cannot divide by zero')"
   ]
  },
  {
   "cell_type": "code",
   "execution_count": null,
   "id": "d8793508",
   "metadata": {},
   "outputs": [],
   "source": [
    "# Topic: Recursion\n",
    "def fib(n):\n",
    "    if n <= 1: return n\n",
    "    return fib(n-1) + fib(n-2)\n",
    "print(fib(5))"
   ]
  },
  {
   "cell_type": "code",
   "execution_count": null,
   "id": "2a4033bb",
   "metadata": {},
   "outputs": [],
   "source": [
    "# Topic: Lists & Tuples\n",
    "nums = [1,2,3]\n",
    "nums.append(4)\n",
    "print(nums)"
   ]
  },
  {
   "cell_type": "code",
   "execution_count": null,
   "id": "04078642",
   "metadata": {},
   "outputs": [],
   "source": [
    "# Topic: Recursion\n",
    "def fib(n):\n",
    "    if n <= 1: return n\n",
    "    return fib(n-1) + fib(n-2)\n",
    "print(fib(5))"
   ]
  },
  {
   "cell_type": "code",
   "execution_count": null,
   "id": "db79bc3f",
   "metadata": {},
   "outputs": [],
   "source": [
    "# Topic: Pandas\n",
    "import pandas as pd\n",
    "df = pd.read_csv('data.csv')\n",
    "print(df.head())"
   ]
  },
  {
   "cell_type": "code",
   "execution_count": null,
   "id": "8ae26a4b",
   "metadata": {},
   "outputs": [],
   "source": [
    "# Topic: Functions\n",
    "def add(a, b): return a + b\n",
    "print(add(3, 4))"
   ]
  },
  {
   "cell_type": "code",
   "execution_count": null,
   "id": "0d8d09eb",
   "metadata": {},
   "outputs": [],
   "source": [
    "# Topic: Web Scraping\n",
    "import requests\n",
    "from bs4 import BeautifulSoup\n",
    "r = requests.get('https://example.com')\n",
    "soup = BeautifulSoup(r.text, 'html.parser')\n",
    "print(soup.title.string)"
   ]
  },
  {
   "cell_type": "code",
   "execution_count": null,
   "id": "14f0641c",
   "metadata": {},
   "outputs": [],
   "source": [
    "# Topic: Loops\n",
    "for i in range(10): print(i*i)"
   ]
  },
  {
   "cell_type": "code",
   "execution_count": null,
   "id": "47ca6898",
   "metadata": {},
   "outputs": [],
   "source": [
    "# Topic: NumPy\n",
    "import numpy as np\n",
    "print(np.arange(0, 10, 2))"
   ]
  },
  {
   "cell_type": "code",
   "execution_count": null,
   "id": "6f70a086",
   "metadata": {},
   "outputs": [],
   "source": [
    "# Topic: Lists & Tuples\n",
    "t = (1,2,3)\n",
    "print(t[1])"
   ]
  },
  {
   "cell_type": "code",
   "execution_count": null,
   "id": "1eb6beee",
   "metadata": {},
   "outputs": [],
   "source": [
    "# Topic: Exceptions\n",
    "try:\n",
    "    print(10/0)\n",
    "except ZeroDivisionError:\n",
    "    print('Cannot divide by zero')"
   ]
  },
  {
   "cell_type": "code",
   "execution_count": null,
   "id": "39e321ff",
   "metadata": {},
   "outputs": [],
   "source": [
    "# Topic: Exceptions\n",
    "try:\n",
    "    print(10/0)\n",
    "except ZeroDivisionError:\n",
    "    print('Cannot divide by zero')"
   ]
  },
  {
   "cell_type": "code",
   "execution_count": null,
   "id": "7223d122",
   "metadata": {},
   "outputs": [],
   "source": [
    "# Topic: Lists & Tuples\n",
    "t = (1,2,3)\n",
    "print(t[1])"
   ]
  },
  {
   "cell_type": "code",
   "execution_count": null,
   "id": "f671a4da",
   "metadata": {},
   "outputs": [],
   "source": [
    "# Topic: Decorators\n",
    "def decorator(fn):\n",
    "    def wrapper():\n",
    "        print('Before')\n",
    "        fn()\n",
    "        print('After')\n",
    "    return wrapper\n",
    "@decorator\n",
    "def say(): print('Hi')\n",
    "say()"
   ]
  },
  {
   "cell_type": "code",
   "execution_count": null,
   "id": "65b0c13f",
   "metadata": {},
   "outputs": [],
   "source": [
    "# Topic: NumPy\n",
    "import numpy as np\n",
    "a = np.array([1,2,3])\n",
    "print(a * 2)"
   ]
  },
  {
   "cell_type": "code",
   "execution_count": null,
   "id": "2c810d11",
   "metadata": {},
   "outputs": [],
   "source": [
    "# Topic: Exceptions\n",
    "try:\n",
    "    print(10/0)\n",
    "except ZeroDivisionError:\n",
    "    print('Cannot divide by zero')"
   ]
  },
  {
   "cell_type": "code",
   "execution_count": null,
   "id": "33d147cd",
   "metadata": {},
   "outputs": [],
   "source": [
    "# Topic: Loops\n",
    "for i in range(10): print(i*i)"
   ]
  },
  {
   "cell_type": "code",
   "execution_count": null,
   "id": "36a097af",
   "metadata": {},
   "outputs": [],
   "source": [
    "# Topic: Classes & Objects\n",
    "class Dog:\n",
    "    def bark(self):\n",
    "        print('Woof!')\n",
    "d = Dog()\n",
    "d.bark()"
   ]
  },
  {
   "cell_type": "code",
   "execution_count": null,
   "id": "dfcd841d",
   "metadata": {},
   "outputs": [],
   "source": [
    "# Topic: Mini Projects\n",
    "# Simple calculator\n",
    "def calc(a,b,op):\n",
    " if op=='+': return a+b\n",
    " elif op=='-': return a-b\n",
    "print(calc(10,5,'+'))"
   ]
  },
  {
   "cell_type": "code",
   "execution_count": null,
   "id": "42c9084a",
   "metadata": {},
   "outputs": [],
   "source": [
    "# Topic: Classes & Objects\n",
    "class Dog:\n",
    "    def bark(self):\n",
    "        print('Woof!')\n",
    "d = Dog()\n",
    "d.bark()"
   ]
  },
  {
   "cell_type": "code",
   "execution_count": null,
   "id": "575d17df",
   "metadata": {},
   "outputs": [],
   "source": [
    "# Topic: Pandas\n",
    "import pandas as pd\n",
    "df = pd.read_csv('data.csv')\n",
    "print(df.head())"
   ]
  },
  {
   "cell_type": "code",
   "execution_count": null,
   "id": "eee0c743",
   "metadata": {},
   "outputs": [],
   "source": [
    "# Topic: Lists & Tuples\n",
    "t = (1,2,3)\n",
    "print(t[1])"
   ]
  },
  {
   "cell_type": "code",
   "execution_count": null,
   "id": "0538bfca",
   "metadata": {},
   "outputs": [],
   "source": [
    "# Topic: Basics\n",
    "x = 7\n",
    "print('Odd' if x % 2 else 'Even')"
   ]
  },
  {
   "cell_type": "code",
   "execution_count": null,
   "id": "c914ebcf",
   "metadata": {},
   "outputs": [],
   "source": [
    "# Topic: Mini Projects\n",
    "# Simple calculator\n",
    "def calc(a,b,op):\n",
    " if op=='+': return a+b\n",
    " elif op=='-': return a-b\n",
    "print(calc(10,5,'+'))"
   ]
  },
  {
   "cell_type": "code",
   "execution_count": null,
   "id": "b5ff2888",
   "metadata": {},
   "outputs": [],
   "source": [
    "# Topic: Mini Projects\n",
    "# Palindrome checker\n",
    "def is_palindrome(s):\n",
    " return s == s[::-1]\n",
    "print(is_palindrome('madam'))"
   ]
  },
  {
   "cell_type": "code",
   "execution_count": null,
   "id": "47d79741",
   "metadata": {},
   "outputs": [],
   "source": [
    "# Topic: Recursion\n",
    "def fib(n):\n",
    "    if n <= 1: return n\n",
    "    return fib(n-1) + fib(n-2)\n",
    "print(fib(5))"
   ]
  },
  {
   "cell_type": "code",
   "execution_count": null,
   "id": "3ca9f030",
   "metadata": {},
   "outputs": [],
   "source": [
    "# Topic: Decorators\n",
    "def decorator(fn):\n",
    "    def wrapper():\n",
    "        print('Before')\n",
    "        fn()\n",
    "        print('After')\n",
    "    return wrapper\n",
    "@decorator\n",
    "def say(): print('Hi')\n",
    "say()"
   ]
  },
  {
   "cell_type": "code",
   "execution_count": null,
   "id": "fdd5e0ee",
   "metadata": {},
   "outputs": [],
   "source": [
    "# Topic: Functions\n",
    "def factorial(n):\n",
    "    return 1 if n==0 else n * factorial(n-1)\n",
    "print(factorial(5))"
   ]
  },
  {
   "cell_type": "code",
   "execution_count": null,
   "id": "67c6efc3",
   "metadata": {},
   "outputs": [],
   "source": [
    "# Topic: Decorators\n",
    "def decorator(fn):\n",
    "    def wrapper():\n",
    "        print('Before')\n",
    "        fn()\n",
    "        print('After')\n",
    "    return wrapper\n",
    "@decorator\n",
    "def say(): print('Hi')\n",
    "say()"
   ]
  },
  {
   "cell_type": "code",
   "execution_count": null,
   "id": "b8637aa5",
   "metadata": {},
   "outputs": [],
   "source": [
    "# Topic: Dictionaries & Sets\n",
    "s = {1,2,3}\n",
    "s.add(4)\n",
    "print(s)"
   ]
  },
  {
   "cell_type": "code",
   "execution_count": null,
   "id": "59478f77",
   "metadata": {},
   "outputs": [],
   "source": [
    "# Topic: File I/O\n",
    "with open('sample.txt', 'w') as f:\n",
    "    f.write('Hello World')"
   ]
  },
  {
   "cell_type": "code",
   "execution_count": null,
   "id": "edb322f9",
   "metadata": {},
   "outputs": [],
   "source": [
    "# Topic: Basics\n",
    "name = 'Fahd'\n",
    "print(f'Welcome, {name}')"
   ]
  },
  {
   "cell_type": "code",
   "execution_count": null,
   "id": "c7f233bd",
   "metadata": {},
   "outputs": [],
   "source": [
    "# Topic: Mini Projects\n",
    "# Simple calculator\n",
    "def calc(a,b,op):\n",
    " if op=='+': return a+b\n",
    " elif op=='-': return a-b\n",
    "print(calc(10,5,'+'))"
   ]
  },
  {
   "cell_type": "code",
   "execution_count": null,
   "id": "63da2c2d",
   "metadata": {},
   "outputs": [],
   "source": [
    "# Topic: Dictionaries & Sets\n",
    "d = {'a':1, 'b':2}\n",
    "print(d['a'])"
   ]
  },
  {
   "cell_type": "code",
   "execution_count": null,
   "id": "f807ad06",
   "metadata": {},
   "outputs": [],
   "source": [
    "# Topic: Pandas\n",
    "import pandas as pd\n",
    "df = pd.read_csv('data.csv')\n",
    "print(df.head())"
   ]
  },
  {
   "cell_type": "code",
   "execution_count": null,
   "id": "4f39b062",
   "metadata": {},
   "outputs": [],
   "source": [
    "# Topic: Basics\n",
    "x = 7\n",
    "print('Odd' if x % 2 else 'Even')"
   ]
  },
  {
   "cell_type": "code",
   "execution_count": null,
   "id": "07d67fde",
   "metadata": {},
   "outputs": [],
   "source": [
    "# Topic: Matplotlib\n",
    "import matplotlib.pyplot as plt\n",
    "plt.plot([1,2],[3,4])\n",
    "plt.show()"
   ]
  },
  {
   "cell_type": "code",
   "execution_count": null,
   "id": "550b090c",
   "metadata": {},
   "outputs": [],
   "source": [
    "# Topic: Mini Projects\n",
    "# Palindrome checker\n",
    "def is_palindrome(s):\n",
    " return s == s[::-1]\n",
    "print(is_palindrome('madam'))"
   ]
  },
  {
   "cell_type": "code",
   "execution_count": null,
   "id": "bd5cc758",
   "metadata": {},
   "outputs": [],
   "source": [
    "# Topic: Mini Projects\n",
    "# Palindrome checker\n",
    "def is_palindrome(s):\n",
    " return s == s[::-1]\n",
    "print(is_palindrome('madam'))"
   ]
  },
  {
   "cell_type": "code",
   "execution_count": null,
   "id": "88df12e0",
   "metadata": {},
   "outputs": [],
   "source": [
    "# Topic: Loops\n",
    "for i in range(10): print(i*i)"
   ]
  },
  {
   "cell_type": "code",
   "execution_count": null,
   "id": "ccb96e4a",
   "metadata": {},
   "outputs": [],
   "source": [
    "# Topic: Mini Projects\n",
    "# Simple calculator\n",
    "def calc(a,b,op):\n",
    " if op=='+': return a+b\n",
    " elif op=='-': return a-b\n",
    "print(calc(10,5,'+'))"
   ]
  },
  {
   "cell_type": "code",
   "execution_count": null,
   "id": "fb24506e",
   "metadata": {},
   "outputs": [],
   "source": [
    "# Topic: NumPy\n",
    "import numpy as np\n",
    "print(np.arange(0, 10, 2))"
   ]
  },
  {
   "cell_type": "code",
   "execution_count": null,
   "id": "e76f316a",
   "metadata": {},
   "outputs": [],
   "source": [
    "# Topic: Loops\n",
    "for i in range(10): print(i*i)"
   ]
  },
  {
   "cell_type": "code",
   "execution_count": null,
   "id": "bddbd8d3",
   "metadata": {},
   "outputs": [],
   "source": [
    "# Topic: Decorators\n",
    "def decorator(fn):\n",
    "    def wrapper():\n",
    "        print('Before')\n",
    "        fn()\n",
    "        print('After')\n",
    "    return wrapper\n",
    "@decorator\n",
    "def say(): print('Hi')\n",
    "say()"
   ]
  },
  {
   "cell_type": "code",
   "execution_count": null,
   "id": "33f811ed",
   "metadata": {},
   "outputs": [],
   "source": [
    "# Topic: File I/O\n",
    "with open('sample.txt') as f:\n",
    "    print(f.read())"
   ]
  },
  {
   "cell_type": "code",
   "execution_count": null,
   "id": "4b14ee03",
   "metadata": {},
   "outputs": [],
   "source": [
    "# Topic: Pandas\n",
    "import pandas as pd\n",
    "df = pd.DataFrame({'A':[1,2],'B':[3,4]})\n",
    "print(df)"
   ]
  },
  {
   "cell_type": "code",
   "execution_count": null,
   "id": "e87f67be",
   "metadata": {},
   "outputs": [],
   "source": [
    "# Topic: Loops\n",
    "i = 0\n",
    "while i < 5:\n",
    "    print(i)\n",
    "    i += 1"
   ]
  },
  {
   "cell_type": "code",
   "execution_count": null,
   "id": "60301fbf",
   "metadata": {},
   "outputs": [],
   "source": [
    "# Topic: Loops\n",
    "i = 0\n",
    "while i < 5:\n",
    "    print(i)\n",
    "    i += 1"
   ]
  },
  {
   "cell_type": "code",
   "execution_count": null,
   "id": "8c3adea9",
   "metadata": {},
   "outputs": [],
   "source": [
    "# Topic: Recursion\n",
    "def fib(n):\n",
    "    if n <= 1: return n\n",
    "    return fib(n-1) + fib(n-2)\n",
    "print(fib(5))"
   ]
  },
  {
   "cell_type": "code",
   "execution_count": null,
   "id": "794d84e3",
   "metadata": {},
   "outputs": [],
   "source": [
    "# Topic: NumPy\n",
    "import numpy as np\n",
    "a = np.array([1,2,3])\n",
    "print(a * 2)"
   ]
  },
  {
   "cell_type": "code",
   "execution_count": null,
   "id": "83567254",
   "metadata": {},
   "outputs": [],
   "source": [
    "# Topic: Classes & Objects\n",
    "class Dog:\n",
    "    def bark(self):\n",
    "        print('Woof!')\n",
    "d = Dog()\n",
    "d.bark()"
   ]
  },
  {
   "cell_type": "code",
   "execution_count": null,
   "id": "508738a6",
   "metadata": {},
   "outputs": [],
   "source": [
    "# Topic: Lists & Tuples\n",
    "t = (1,2,3)\n",
    "print(t[1])"
   ]
  },
  {
   "cell_type": "code",
   "execution_count": null,
   "id": "88b749b2",
   "metadata": {},
   "outputs": [],
   "source": [
    "# Topic: NumPy\n",
    "import numpy as np\n",
    "a = np.array([1,2,3])\n",
    "print(a * 2)"
   ]
  },
  {
   "cell_type": "code",
   "execution_count": null,
   "id": "c5f6edf1",
   "metadata": {},
   "outputs": [],
   "source": [
    "# Topic: Web Scraping\n",
    "import requests\n",
    "from bs4 import BeautifulSoup\n",
    "r = requests.get('https://example.com')\n",
    "soup = BeautifulSoup(r.text, 'html.parser')\n",
    "print(soup.title.string)"
   ]
  },
  {
   "cell_type": "code",
   "execution_count": null,
   "id": "baec3d36",
   "metadata": {},
   "outputs": [],
   "source": [
    "# Topic: File I/O\n",
    "with open('sample.txt') as f:\n",
    "    print(f.read())"
   ]
  },
  {
   "cell_type": "code",
   "execution_count": null,
   "id": "7f484aa5",
   "metadata": {},
   "outputs": [],
   "source": [
    "# Topic: Matplotlib\n",
    "import matplotlib.pyplot as plt\n",
    "plt.bar(['A','B'], [10,20])\n",
    "plt.show()"
   ]
  },
  {
   "cell_type": "code",
   "execution_count": null,
   "id": "d0b9cc85",
   "metadata": {},
   "outputs": [],
   "source": [
    "# Topic: Classes & Objects\n",
    "class Dog:\n",
    "    def bark(self):\n",
    "        print('Woof!')\n",
    "d = Dog()\n",
    "d.bark()"
   ]
  },
  {
   "cell_type": "code",
   "execution_count": null,
   "id": "403a8821",
   "metadata": {},
   "outputs": [],
   "source": [
    "# Topic: Loops\n",
    "for i in range(10): print(i*i)"
   ]
  },
  {
   "cell_type": "code",
   "execution_count": null,
   "id": "5857b70e",
   "metadata": {},
   "outputs": [],
   "source": [
    "# Topic: File I/O\n",
    "with open('sample.txt', 'w') as f:\n",
    "    f.write('Hello World')"
   ]
  },
  {
   "cell_type": "code",
   "execution_count": null,
   "id": "e50b0c7f",
   "metadata": {},
   "outputs": [],
   "source": [
    "# Topic: Classes & Objects\n",
    "class Dog:\n",
    "    def bark(self):\n",
    "        print('Woof!')\n",
    "d = Dog()\n",
    "d.bark()"
   ]
  },
  {
   "cell_type": "code",
   "execution_count": null,
   "id": "c7305bf5",
   "metadata": {},
   "outputs": [],
   "source": [
    "# Topic: NumPy\n",
    "import numpy as np\n",
    "print(np.arange(0, 10, 2))"
   ]
  },
  {
   "cell_type": "code",
   "execution_count": null,
   "id": "2eff2ce6",
   "metadata": {},
   "outputs": [],
   "source": [
    "# Topic: Decorators\n",
    "def decorator(fn):\n",
    "    def wrapper():\n",
    "        print('Before')\n",
    "        fn()\n",
    "        print('After')\n",
    "    return wrapper\n",
    "@decorator\n",
    "def say(): print('Hi')\n",
    "say()"
   ]
  },
  {
   "cell_type": "code",
   "execution_count": null,
   "id": "4217a695",
   "metadata": {},
   "outputs": [],
   "source": [
    "# Topic: NumPy\n",
    "import numpy as np\n",
    "a = np.array([1,2,3])\n",
    "print(a * 2)"
   ]
  },
  {
   "cell_type": "code",
   "execution_count": null,
   "id": "927e61dd",
   "metadata": {},
   "outputs": [],
   "source": [
    "# Topic: Basics\n",
    "name = 'Fahd'\n",
    "print(f'Welcome, {name}')"
   ]
  },
  {
   "cell_type": "code",
   "execution_count": null,
   "id": "716cd1cf",
   "metadata": {},
   "outputs": [],
   "source": [
    "# Topic: Functions\n",
    "def add(a, b): return a + b\n",
    "print(add(3, 4))"
   ]
  },
  {
   "cell_type": "code",
   "execution_count": null,
   "id": "30e05216",
   "metadata": {},
   "outputs": [],
   "source": [
    "# Topic: Dictionaries & Sets\n",
    "d = {'a':1, 'b':2}\n",
    "print(d['a'])"
   ]
  },
  {
   "cell_type": "code",
   "execution_count": null,
   "id": "4ae0473a",
   "metadata": {},
   "outputs": [],
   "source": [
    "# Topic: Lists & Tuples\n",
    "nums = [1,2,3]\n",
    "nums.append(4)\n",
    "print(nums)"
   ]
  },
  {
   "cell_type": "code",
   "execution_count": null,
   "id": "25f83b0f",
   "metadata": {},
   "outputs": [],
   "source": [
    "# Topic: File I/O\n",
    "with open('sample.txt') as f:\n",
    "    print(f.read())"
   ]
  },
  {
   "cell_type": "code",
   "execution_count": null,
   "id": "78706cc9",
   "metadata": {},
   "outputs": [],
   "source": [
    "# Topic: Classes & Objects\n",
    "class Dog:\n",
    "    def bark(self):\n",
    "        print('Woof!')\n",
    "d = Dog()\n",
    "d.bark()"
   ]
  },
  {
   "cell_type": "code",
   "execution_count": null,
   "id": "e65e7258",
   "metadata": {},
   "outputs": [],
   "source": [
    "# Topic: Lists & Tuples\n",
    "t = (1,2,3)\n",
    "print(t[1])"
   ]
  },
  {
   "cell_type": "code",
   "execution_count": null,
   "id": "cef2b188",
   "metadata": {},
   "outputs": [],
   "source": [
    "# Topic: Loops\n",
    "i = 0\n",
    "while i < 5:\n",
    "    print(i)\n",
    "    i += 1"
   ]
  },
  {
   "cell_type": "code",
   "execution_count": null,
   "id": "3569a528",
   "metadata": {},
   "outputs": [],
   "source": [
    "# Topic: Matplotlib\n",
    "import matplotlib.pyplot as plt\n",
    "plt.bar(['A','B'], [10,20])\n",
    "plt.show()"
   ]
  },
  {
   "cell_type": "code",
   "execution_count": null,
   "id": "a5e0f15a",
   "metadata": {},
   "outputs": [],
   "source": [
    "# Topic: File I/O\n",
    "with open('sample.txt') as f:\n",
    "    print(f.read())"
   ]
  },
  {
   "cell_type": "code",
   "execution_count": null,
   "id": "8dac1b56",
   "metadata": {},
   "outputs": [],
   "source": [
    "# Topic: Loops\n",
    "for i in range(10): print(i*i)"
   ]
  },
  {
   "cell_type": "code",
   "execution_count": null,
   "id": "6bc54de3",
   "metadata": {},
   "outputs": [],
   "source": [
    "# Topic: Lists & Tuples\n",
    "nums = [1,2,3]\n",
    "nums.append(4)\n",
    "print(nums)"
   ]
  },
  {
   "cell_type": "code",
   "execution_count": null,
   "id": "3dc3e4a1",
   "metadata": {},
   "outputs": [],
   "source": [
    "# Topic: Basics\n",
    "a = 5\n",
    "b = 3\n",
    "print(a * b)"
   ]
  },
  {
   "cell_type": "code",
   "execution_count": null,
   "id": "615e2fdf",
   "metadata": {},
   "outputs": [],
   "source": [
    "# Topic: Dictionaries & Sets\n",
    "s = {1,2,3}\n",
    "s.add(4)\n",
    "print(s)"
   ]
  },
  {
   "cell_type": "code",
   "execution_count": null,
   "id": "e36c94ee",
   "metadata": {},
   "outputs": [],
   "source": [
    "# Topic: Mini Projects\n",
    "# Simple calculator\n",
    "def calc(a,b,op):\n",
    " if op=='+': return a+b\n",
    " elif op=='-': return a-b\n",
    "print(calc(10,5,'+'))"
   ]
  },
  {
   "cell_type": "code",
   "execution_count": null,
   "id": "6fc03bb3",
   "metadata": {},
   "outputs": [],
   "source": [
    "# Topic: Loops\n",
    "for i in range(10): print(i*i)"
   ]
  },
  {
   "cell_type": "code",
   "execution_count": null,
   "id": "bd6b0a80",
   "metadata": {},
   "outputs": [],
   "source": [
    "# Topic: Lists & Tuples\n",
    "t = (1,2,3)\n",
    "print(t[1])"
   ]
  },
  {
   "cell_type": "code",
   "execution_count": null,
   "id": "0789e399",
   "metadata": {},
   "outputs": [],
   "source": [
    "# Topic: Classes & Objects\n",
    "class Dog:\n",
    "    def bark(self):\n",
    "        print('Woof!')\n",
    "d = Dog()\n",
    "d.bark()"
   ]
  },
  {
   "cell_type": "code",
   "execution_count": null,
   "id": "d5724ac0",
   "metadata": {},
   "outputs": [],
   "source": [
    "# Topic: Matplotlib\n",
    "import matplotlib.pyplot as plt\n",
    "plt.plot([1,2],[3,4])\n",
    "plt.show()"
   ]
  },
  {
   "cell_type": "code",
   "execution_count": null,
   "id": "1958c7bf",
   "metadata": {},
   "outputs": [],
   "source": [
    "# Topic: Functions\n",
    "def add(a, b): return a + b\n",
    "print(add(3, 4))"
   ]
  },
  {
   "cell_type": "code",
   "execution_count": null,
   "id": "0d0bae07",
   "metadata": {},
   "outputs": [],
   "source": [
    "# Topic: NumPy\n",
    "import numpy as np\n",
    "a = np.array([1,2,3])\n",
    "print(a * 2)"
   ]
  },
  {
   "cell_type": "code",
   "execution_count": null,
   "id": "23721a46",
   "metadata": {},
   "outputs": [],
   "source": [
    "# Topic: Classes & Objects\n",
    "class Dog:\n",
    "    def bark(self):\n",
    "        print('Woof!')\n",
    "d = Dog()\n",
    "d.bark()"
   ]
  },
  {
   "cell_type": "code",
   "execution_count": null,
   "id": "b18f9de0",
   "metadata": {},
   "outputs": [],
   "source": [
    "# Topic: Functions\n",
    "def add(a, b): return a + b\n",
    "print(add(3, 4))"
   ]
  },
  {
   "cell_type": "code",
   "execution_count": null,
   "id": "0cbf88f9",
   "metadata": {},
   "outputs": [],
   "source": [
    "# Topic: Pandas\n",
    "import pandas as pd\n",
    "df = pd.DataFrame({'A':[1,2],'B':[3,4]})\n",
    "print(df)"
   ]
  },
  {
   "cell_type": "code",
   "execution_count": null,
   "id": "792aaa30",
   "metadata": {},
   "outputs": [],
   "source": [
    "# Topic: Pandas\n",
    "import pandas as pd\n",
    "df = pd.read_csv('data.csv')\n",
    "print(df.head())"
   ]
  },
  {
   "cell_type": "code",
   "execution_count": null,
   "id": "0cf80e19",
   "metadata": {},
   "outputs": [],
   "source": [
    "# Topic: Pandas\n",
    "import pandas as pd\n",
    "df = pd.DataFrame({'A':[1,2],'B':[3,4]})\n",
    "print(df)"
   ]
  },
  {
   "cell_type": "code",
   "execution_count": null,
   "id": "55791efe",
   "metadata": {},
   "outputs": [],
   "source": [
    "# Topic: Decorators\n",
    "def decorator(fn):\n",
    "    def wrapper():\n",
    "        print('Before')\n",
    "        fn()\n",
    "        print('After')\n",
    "    return wrapper\n",
    "@decorator\n",
    "def say(): print('Hi')\n",
    "say()"
   ]
  },
  {
   "cell_type": "code",
   "execution_count": null,
   "id": "bdb6b6e8",
   "metadata": {},
   "outputs": [],
   "source": [
    "# Topic: NumPy\n",
    "import numpy as np\n",
    "a = np.array([1,2,3])\n",
    "print(a * 2)"
   ]
  },
  {
   "cell_type": "code",
   "execution_count": null,
   "id": "15a71a9a",
   "metadata": {},
   "outputs": [],
   "source": [
    "# Topic: Loops\n",
    "for i in range(10): print(i*i)"
   ]
  },
  {
   "cell_type": "code",
   "execution_count": null,
   "id": "604d2747",
   "metadata": {},
   "outputs": [],
   "source": [
    "# Topic: File I/O\n",
    "with open('sample.txt') as f:\n",
    "    print(f.read())"
   ]
  },
  {
   "cell_type": "code",
   "execution_count": null,
   "id": "5dc7939b",
   "metadata": {},
   "outputs": [],
   "source": [
    "# Topic: Mini Projects\n",
    "# Simple calculator\n",
    "def calc(a,b,op):\n",
    " if op=='+': return a+b\n",
    " elif op=='-': return a-b\n",
    "print(calc(10,5,'+'))"
   ]
  },
  {
   "cell_type": "code",
   "execution_count": null,
   "id": "e34c19a9",
   "metadata": {},
   "outputs": [],
   "source": [
    "# Topic: Functions\n",
    "def factorial(n):\n",
    "    return 1 if n==0 else n * factorial(n-1)\n",
    "print(factorial(5))"
   ]
  },
  {
   "cell_type": "code",
   "execution_count": null,
   "id": "a2f8f725",
   "metadata": {},
   "outputs": [],
   "source": [
    "# Topic: Recursion\n",
    "def fib(n):\n",
    "    if n <= 1: return n\n",
    "    return fib(n-1) + fib(n-2)\n",
    "print(fib(5))"
   ]
  },
  {
   "cell_type": "code",
   "execution_count": null,
   "id": "50e2a9b2",
   "metadata": {},
   "outputs": [],
   "source": [
    "# Topic: Pandas\n",
    "import pandas as pd\n",
    "df = pd.DataFrame({'A':[1,2],'B':[3,4]})\n",
    "print(df)"
   ]
  },
  {
   "cell_type": "code",
   "execution_count": null,
   "id": "2990a48d",
   "metadata": {},
   "outputs": [],
   "source": [
    "# Topic: Basics\n",
    "x = 7\n",
    "print('Odd' if x % 2 else 'Even')"
   ]
  },
  {
   "cell_type": "code",
   "execution_count": null,
   "id": "21935923",
   "metadata": {},
   "outputs": [],
   "source": [
    "# Topic: Dictionaries & Sets\n",
    "s = {1,2,3}\n",
    "s.add(4)\n",
    "print(s)"
   ]
  },
  {
   "cell_type": "code",
   "execution_count": null,
   "id": "9563cc93",
   "metadata": {},
   "outputs": [],
   "source": [
    "# Topic: File I/O\n",
    "with open('sample.txt', 'w') as f:\n",
    "    f.write('Hello World')"
   ]
  },
  {
   "cell_type": "code",
   "execution_count": null,
   "id": "e5852630",
   "metadata": {},
   "outputs": [],
   "source": [
    "# Topic: NumPy\n",
    "import numpy as np\n",
    "a = np.array([1,2,3])\n",
    "print(a * 2)"
   ]
  },
  {
   "cell_type": "code",
   "execution_count": null,
   "id": "c9560d9c",
   "metadata": {},
   "outputs": [],
   "source": [
    "# Topic: Pandas\n",
    "import pandas as pd\n",
    "df = pd.DataFrame({'A':[1,2],'B':[3,4]})\n",
    "print(df)"
   ]
  },
  {
   "cell_type": "code",
   "execution_count": null,
   "id": "f3f9a42b",
   "metadata": {},
   "outputs": [],
   "source": [
    "# Topic: Loops\n",
    "i = 0\n",
    "while i < 5:\n",
    "    print(i)\n",
    "    i += 1"
   ]
  },
  {
   "cell_type": "code",
   "execution_count": null,
   "id": "11c879b8",
   "metadata": {},
   "outputs": [],
   "source": [
    "# Topic: Pandas\n",
    "import pandas as pd\n",
    "df = pd.DataFrame({'A':[1,2],'B':[3,4]})\n",
    "print(df)"
   ]
  },
  {
   "cell_type": "code",
   "execution_count": null,
   "id": "3d5578a8",
   "metadata": {},
   "outputs": [],
   "source": [
    "# Topic: Classes & Objects\n",
    "class Dog:\n",
    "    def bark(self):\n",
    "        print('Woof!')\n",
    "d = Dog()\n",
    "d.bark()"
   ]
  },
  {
   "cell_type": "code",
   "execution_count": null,
   "id": "c0642610",
   "metadata": {},
   "outputs": [],
   "source": [
    "# Topic: Functions\n",
    "def add(a, b): return a + b\n",
    "print(add(3, 4))"
   ]
  },
  {
   "cell_type": "code",
   "execution_count": null,
   "id": "d0736184",
   "metadata": {},
   "outputs": [],
   "source": [
    "# Topic: Exceptions\n",
    "try:\n",
    "    print(10/0)\n",
    "except ZeroDivisionError:\n",
    "    print('Cannot divide by zero')"
   ]
  },
  {
   "cell_type": "code",
   "execution_count": null,
   "id": "466a3f16",
   "metadata": {},
   "outputs": [],
   "source": [
    "# Topic: Web Scraping\n",
    "import requests\n",
    "from bs4 import BeautifulSoup\n",
    "r = requests.get('https://example.com')\n",
    "soup = BeautifulSoup(r.text, 'html.parser')\n",
    "print(soup.title.string)"
   ]
  },
  {
   "cell_type": "code",
   "execution_count": null,
   "id": "38030ed1",
   "metadata": {},
   "outputs": [],
   "source": [
    "# Topic: Exceptions\n",
    "try:\n",
    "    print(10/0)\n",
    "except ZeroDivisionError:\n",
    "    print('Cannot divide by zero')"
   ]
  },
  {
   "cell_type": "code",
   "execution_count": null,
   "id": "0c2d5d9f",
   "metadata": {},
   "outputs": [],
   "source": [
    "# Topic: Dictionaries & Sets\n",
    "s = {1,2,3}\n",
    "s.add(4)\n",
    "print(s)"
   ]
  },
  {
   "cell_type": "code",
   "execution_count": null,
   "id": "6624fa1f",
   "metadata": {},
   "outputs": [],
   "source": [
    "# Topic: Basics\n",
    "a = 5\n",
    "b = 3\n",
    "print(a * b)"
   ]
  },
  {
   "cell_type": "code",
   "execution_count": null,
   "id": "48b300a4",
   "metadata": {},
   "outputs": [],
   "source": [
    "# Topic: Functions\n",
    "def factorial(n):\n",
    "    return 1 if n==0 else n * factorial(n-1)\n",
    "print(factorial(5))"
   ]
  },
  {
   "cell_type": "code",
   "execution_count": null,
   "id": "ce1345d3",
   "metadata": {},
   "outputs": [],
   "source": [
    "# Topic: Dictionaries & Sets\n",
    "s = {1,2,3}\n",
    "s.add(4)\n",
    "print(s)"
   ]
  },
  {
   "cell_type": "code",
   "execution_count": null,
   "id": "ca60550d",
   "metadata": {},
   "outputs": [],
   "source": [
    "# Topic: Basics\n",
    "a = 5\n",
    "b = 3\n",
    "print(a * b)"
   ]
  },
  {
   "cell_type": "code",
   "execution_count": null,
   "id": "40e2acc0",
   "metadata": {},
   "outputs": [],
   "source": [
    "# Topic: File I/O\n",
    "with open('sample.txt', 'w') as f:\n",
    "    f.write('Hello World')"
   ]
  },
  {
   "cell_type": "code",
   "execution_count": null,
   "id": "69419479",
   "metadata": {},
   "outputs": [],
   "source": [
    "# Topic: Decorators\n",
    "def decorator(fn):\n",
    "    def wrapper():\n",
    "        print('Before')\n",
    "        fn()\n",
    "        print('After')\n",
    "    return wrapper\n",
    "@decorator\n",
    "def say(): print('Hi')\n",
    "say()"
   ]
  },
  {
   "cell_type": "code",
   "execution_count": null,
   "id": "ed111911",
   "metadata": {},
   "outputs": [],
   "source": [
    "# Topic: Web Scraping\n",
    "import requests\n",
    "from bs4 import BeautifulSoup\n",
    "r = requests.get('https://example.com')\n",
    "soup = BeautifulSoup(r.text, 'html.parser')\n",
    "print(soup.title.string)"
   ]
  },
  {
   "cell_type": "code",
   "execution_count": null,
   "id": "1968453c",
   "metadata": {},
   "outputs": [],
   "source": [
    "# Topic: Classes & Objects\n",
    "class Dog:\n",
    "    def bark(self):\n",
    "        print('Woof!')\n",
    "d = Dog()\n",
    "d.bark()"
   ]
  },
  {
   "cell_type": "code",
   "execution_count": null,
   "id": "651c8d33",
   "metadata": {},
   "outputs": [],
   "source": [
    "# Topic: Recursion\n",
    "def fib(n):\n",
    "    if n <= 1: return n\n",
    "    return fib(n-1) + fib(n-2)\n",
    "print(fib(5))"
   ]
  },
  {
   "cell_type": "code",
   "execution_count": null,
   "id": "fe36867c",
   "metadata": {},
   "outputs": [],
   "source": [
    "# Topic: Functions\n",
    "def factorial(n):\n",
    "    return 1 if n==0 else n * factorial(n-1)\n",
    "print(factorial(5))"
   ]
  },
  {
   "cell_type": "code",
   "execution_count": null,
   "id": "6f68eeba",
   "metadata": {},
   "outputs": [],
   "source": [
    "# Topic: Decorators\n",
    "def decorator(fn):\n",
    "    def wrapper():\n",
    "        print('Before')\n",
    "        fn()\n",
    "        print('After')\n",
    "    return wrapper\n",
    "@decorator\n",
    "def say(): print('Hi')\n",
    "say()"
   ]
  },
  {
   "cell_type": "code",
   "execution_count": null,
   "id": "e530c6aa",
   "metadata": {},
   "outputs": [],
   "source": [
    "# Topic: Recursion\n",
    "def fib(n):\n",
    "    if n <= 1: return n\n",
    "    return fib(n-1) + fib(n-2)\n",
    "print(fib(5))"
   ]
  },
  {
   "cell_type": "code",
   "execution_count": null,
   "id": "a8004828",
   "metadata": {},
   "outputs": [],
   "source": [
    "# Topic: Lists & Tuples\n",
    "nums = [1,2,3]\n",
    "nums.append(4)\n",
    "print(nums)"
   ]
  },
  {
   "cell_type": "code",
   "execution_count": null,
   "id": "287146fa",
   "metadata": {},
   "outputs": [],
   "source": [
    "# Topic: File I/O\n",
    "with open('sample.txt') as f:\n",
    "    print(f.read())"
   ]
  },
  {
   "cell_type": "code",
   "execution_count": null,
   "id": "fd0c25a4",
   "metadata": {},
   "outputs": [],
   "source": [
    "# Topic: Loops\n",
    "i = 0\n",
    "while i < 5:\n",
    "    print(i)\n",
    "    i += 1"
   ]
  },
  {
   "cell_type": "code",
   "execution_count": null,
   "id": "63895890",
   "metadata": {},
   "outputs": [],
   "source": [
    "# Topic: Matplotlib\n",
    "import matplotlib.pyplot as plt\n",
    "plt.plot([1,2],[3,4])\n",
    "plt.show()"
   ]
  },
  {
   "cell_type": "code",
   "execution_count": null,
   "id": "f0b27006",
   "metadata": {},
   "outputs": [],
   "source": [
    "# Topic: Matplotlib\n",
    "import matplotlib.pyplot as plt\n",
    "plt.bar(['A','B'], [10,20])\n",
    "plt.show()"
   ]
  },
  {
   "cell_type": "code",
   "execution_count": null,
   "id": "7edb9e15",
   "metadata": {},
   "outputs": [],
   "source": [
    "# Topic: Classes & Objects\n",
    "class Dog:\n",
    "    def bark(self):\n",
    "        print('Woof!')\n",
    "d = Dog()\n",
    "d.bark()"
   ]
  },
  {
   "cell_type": "code",
   "execution_count": null,
   "id": "77074c01",
   "metadata": {},
   "outputs": [],
   "source": [
    "# Topic: Mini Projects\n",
    "# Simple calculator\n",
    "def calc(a,b,op):\n",
    " if op=='+': return a+b\n",
    " elif op=='-': return a-b\n",
    "print(calc(10,5,'+'))"
   ]
  },
  {
   "cell_type": "code",
   "execution_count": null,
   "id": "758ab228",
   "metadata": {},
   "outputs": [],
   "source": [
    "# Topic: Pandas\n",
    "import pandas as pd\n",
    "df = pd.read_csv('data.csv')\n",
    "print(df.head())"
   ]
  },
  {
   "cell_type": "code",
   "execution_count": null,
   "id": "6344ffe9",
   "metadata": {},
   "outputs": [],
   "source": [
    "# Topic: Dictionaries & Sets\n",
    "d = {'a':1, 'b':2}\n",
    "print(d['a'])"
   ]
  },
  {
   "cell_type": "code",
   "execution_count": null,
   "id": "56bace6e",
   "metadata": {},
   "outputs": [],
   "source": [
    "# Topic: Matplotlib\n",
    "import matplotlib.pyplot as plt\n",
    "plt.bar(['A','B'], [10,20])\n",
    "plt.show()"
   ]
  },
  {
   "cell_type": "code",
   "execution_count": null,
   "id": "e571a7be",
   "metadata": {},
   "outputs": [],
   "source": [
    "# Topic: Decorators\n",
    "def decorator(fn):\n",
    "    def wrapper():\n",
    "        print('Before')\n",
    "        fn()\n",
    "        print('After')\n",
    "    return wrapper\n",
    "@decorator\n",
    "def say(): print('Hi')\n",
    "say()"
   ]
  },
  {
   "cell_type": "code",
   "execution_count": null,
   "id": "ccc2b725",
   "metadata": {},
   "outputs": [],
   "source": [
    "# Topic: Web Scraping\n",
    "import requests\n",
    "from bs4 import BeautifulSoup\n",
    "r = requests.get('https://example.com')\n",
    "soup = BeautifulSoup(r.text, 'html.parser')\n",
    "print(soup.title.string)"
   ]
  },
  {
   "cell_type": "code",
   "execution_count": null,
   "id": "00756c9b",
   "metadata": {},
   "outputs": [],
   "source": [
    "# Topic: Decorators\n",
    "def decorator(fn):\n",
    "    def wrapper():\n",
    "        print('Before')\n",
    "        fn()\n",
    "        print('After')\n",
    "    return wrapper\n",
    "@decorator\n",
    "def say(): print('Hi')\n",
    "say()"
   ]
  },
  {
   "cell_type": "code",
   "execution_count": null,
   "id": "12b86382",
   "metadata": {},
   "outputs": [],
   "source": [
    "# Topic: Exceptions\n",
    "try:\n",
    "    print(10/0)\n",
    "except ZeroDivisionError:\n",
    "    print('Cannot divide by zero')"
   ]
  },
  {
   "cell_type": "code",
   "execution_count": null,
   "id": "a42acca0",
   "metadata": {},
   "outputs": [],
   "source": [
    "# Topic: Loops\n",
    "for i in range(10): print(i*i)"
   ]
  },
  {
   "cell_type": "code",
   "execution_count": null,
   "id": "a3012e6c",
   "metadata": {},
   "outputs": [],
   "source": [
    "# Topic: Loops\n",
    "for i in range(10): print(i*i)"
   ]
  },
  {
   "cell_type": "code",
   "execution_count": null,
   "id": "eabc1a98",
   "metadata": {},
   "outputs": [],
   "source": [
    "# Topic: Classes & Objects\n",
    "class Dog:\n",
    "    def bark(self):\n",
    "        print('Woof!')\n",
    "d = Dog()\n",
    "d.bark()"
   ]
  },
  {
   "cell_type": "code",
   "execution_count": null,
   "id": "25d4bc64",
   "metadata": {},
   "outputs": [],
   "source": [
    "# Topic: Matplotlib\n",
    "import matplotlib.pyplot as plt\n",
    "plt.plot([1,2],[3,4])\n",
    "plt.show()"
   ]
  },
  {
   "cell_type": "code",
   "execution_count": null,
   "id": "411d9f43",
   "metadata": {},
   "outputs": [],
   "source": [
    "# Topic: Matplotlib\n",
    "import matplotlib.pyplot as plt\n",
    "plt.plot([1,2],[3,4])\n",
    "plt.show()"
   ]
  },
  {
   "cell_type": "code",
   "execution_count": null,
   "id": "04329884",
   "metadata": {},
   "outputs": [],
   "source": [
    "# Topic: Loops\n",
    "i = 0\n",
    "while i < 5:\n",
    "    print(i)\n",
    "    i += 1"
   ]
  },
  {
   "cell_type": "code",
   "execution_count": null,
   "id": "49df42b2",
   "metadata": {},
   "outputs": [],
   "source": [
    "# Topic: NumPy\n",
    "import numpy as np\n",
    "print(np.arange(0, 10, 2))"
   ]
  },
  {
   "cell_type": "code",
   "execution_count": null,
   "id": "d69d5d87",
   "metadata": {},
   "outputs": [],
   "source": [
    "# Topic: Loops\n",
    "i = 0\n",
    "while i < 5:\n",
    "    print(i)\n",
    "    i += 1"
   ]
  },
  {
   "cell_type": "code",
   "execution_count": null,
   "id": "d9218df3",
   "metadata": {},
   "outputs": [],
   "source": [
    "# Topic: Exceptions\n",
    "try:\n",
    "    print(10/0)\n",
    "except ZeroDivisionError:\n",
    "    print('Cannot divide by zero')"
   ]
  },
  {
   "cell_type": "code",
   "execution_count": null,
   "id": "51757aa5",
   "metadata": {},
   "outputs": [],
   "source": [
    "# Topic: NumPy\n",
    "import numpy as np\n",
    "a = np.array([1,2,3])\n",
    "print(a * 2)"
   ]
  },
  {
   "cell_type": "code",
   "execution_count": null,
   "id": "2b4afa55",
   "metadata": {},
   "outputs": [],
   "source": [
    "# Topic: Mini Projects\n",
    "# Palindrome checker\n",
    "def is_palindrome(s):\n",
    " return s == s[::-1]\n",
    "print(is_palindrome('madam'))"
   ]
  },
  {
   "cell_type": "code",
   "execution_count": null,
   "id": "51516a1f",
   "metadata": {},
   "outputs": [],
   "source": [
    "# Topic: Basics\n",
    "name = 'Fahd'\n",
    "print(f'Welcome, {name}')"
   ]
  },
  {
   "cell_type": "code",
   "execution_count": null,
   "id": "c377109b",
   "metadata": {},
   "outputs": [],
   "source": [
    "# Topic: Web Scraping\n",
    "import requests\n",
    "from bs4 import BeautifulSoup\n",
    "r = requests.get('https://example.com')\n",
    "soup = BeautifulSoup(r.text, 'html.parser')\n",
    "print(soup.title.string)"
   ]
  },
  {
   "cell_type": "code",
   "execution_count": null,
   "id": "7f8551b9",
   "metadata": {},
   "outputs": [],
   "source": [
    "# Topic: Loops\n",
    "for i in range(10): print(i*i)"
   ]
  },
  {
   "cell_type": "code",
   "execution_count": null,
   "id": "4a22d542",
   "metadata": {},
   "outputs": [],
   "source": [
    "# Topic: Web Scraping\n",
    "import requests\n",
    "from bs4 import BeautifulSoup\n",
    "r = requests.get('https://example.com')\n",
    "soup = BeautifulSoup(r.text, 'html.parser')\n",
    "print(soup.title.string)"
   ]
  },
  {
   "cell_type": "code",
   "execution_count": null,
   "id": "3e0ba8ad",
   "metadata": {},
   "outputs": [],
   "source": [
    "# Topic: Matplotlib\n",
    "import matplotlib.pyplot as plt\n",
    "plt.plot([1,2],[3,4])\n",
    "plt.show()"
   ]
  },
  {
   "cell_type": "code",
   "execution_count": null,
   "id": "f80be05f",
   "metadata": {},
   "outputs": [],
   "source": [
    "# Topic: Classes & Objects\n",
    "class Dog:\n",
    "    def bark(self):\n",
    "        print('Woof!')\n",
    "d = Dog()\n",
    "d.bark()"
   ]
  },
  {
   "cell_type": "code",
   "execution_count": null,
   "id": "8c9718ad",
   "metadata": {},
   "outputs": [],
   "source": [
    "# Topic: File I/O\n",
    "with open('sample.txt', 'w') as f:\n",
    "    f.write('Hello World')"
   ]
  },
  {
   "cell_type": "code",
   "execution_count": null,
   "id": "1b9d5ffb",
   "metadata": {},
   "outputs": [],
   "source": [
    "# Topic: Decorators\n",
    "def decorator(fn):\n",
    "    def wrapper():\n",
    "        print('Before')\n",
    "        fn()\n",
    "        print('After')\n",
    "    return wrapper\n",
    "@decorator\n",
    "def say(): print('Hi')\n",
    "say()"
   ]
  },
  {
   "cell_type": "code",
   "execution_count": null,
   "id": "e861062c",
   "metadata": {},
   "outputs": [],
   "source": [
    "# Topic: Matplotlib\n",
    "import matplotlib.pyplot as plt\n",
    "plt.bar(['A','B'], [10,20])\n",
    "plt.show()"
   ]
  },
  {
   "cell_type": "code",
   "execution_count": null,
   "id": "167a7494",
   "metadata": {},
   "outputs": [],
   "source": [
    "# Topic: Dictionaries & Sets\n",
    "d = {'a':1, 'b':2}\n",
    "print(d['a'])"
   ]
  },
  {
   "cell_type": "code",
   "execution_count": null,
   "id": "5060cf3c",
   "metadata": {},
   "outputs": [],
   "source": [
    "# Topic: Web Scraping\n",
    "import requests\n",
    "from bs4 import BeautifulSoup\n",
    "r = requests.get('https://example.com')\n",
    "soup = BeautifulSoup(r.text, 'html.parser')\n",
    "print(soup.title.string)"
   ]
  },
  {
   "cell_type": "code",
   "execution_count": null,
   "id": "d8de3e25",
   "metadata": {},
   "outputs": [],
   "source": [
    "# Topic: Recursion\n",
    "def fib(n):\n",
    "    if n <= 1: return n\n",
    "    return fib(n-1) + fib(n-2)\n",
    "print(fib(5))"
   ]
  },
  {
   "cell_type": "code",
   "execution_count": null,
   "id": "4838ea88",
   "metadata": {},
   "outputs": [],
   "source": [
    "# Topic: Basics\n",
    "a = 5\n",
    "b = 3\n",
    "print(a * b)"
   ]
  },
  {
   "cell_type": "code",
   "execution_count": null,
   "id": "a66bb893",
   "metadata": {},
   "outputs": [],
   "source": [
    "# Topic: NumPy\n",
    "import numpy as np\n",
    "print(np.arange(0, 10, 2))"
   ]
  },
  {
   "cell_type": "code",
   "execution_count": null,
   "id": "f89a7903",
   "metadata": {},
   "outputs": [],
   "source": [
    "# Topic: Matplotlib\n",
    "import matplotlib.pyplot as plt\n",
    "plt.bar(['A','B'], [10,20])\n",
    "plt.show()"
   ]
  },
  {
   "cell_type": "code",
   "execution_count": null,
   "id": "a44d80c3",
   "metadata": {},
   "outputs": [],
   "source": [
    "# Topic: File I/O\n",
    "with open('sample.txt') as f:\n",
    "    print(f.read())"
   ]
  },
  {
   "cell_type": "code",
   "execution_count": null,
   "id": "1f0fc965",
   "metadata": {},
   "outputs": [],
   "source": [
    "# Topic: Decorators\n",
    "def decorator(fn):\n",
    "    def wrapper():\n",
    "        print('Before')\n",
    "        fn()\n",
    "        print('After')\n",
    "    return wrapper\n",
    "@decorator\n",
    "def say(): print('Hi')\n",
    "say()"
   ]
  },
  {
   "cell_type": "code",
   "execution_count": null,
   "id": "5d9b66fd",
   "metadata": {},
   "outputs": [],
   "source": [
    "# Topic: Classes & Objects\n",
    "class Dog:\n",
    "    def bark(self):\n",
    "        print('Woof!')\n",
    "d = Dog()\n",
    "d.bark()"
   ]
  },
  {
   "cell_type": "code",
   "execution_count": null,
   "id": "04d24a7a",
   "metadata": {},
   "outputs": [],
   "source": [
    "# Topic: Basics\n",
    "x = 7\n",
    "print('Odd' if x % 2 else 'Even')"
   ]
  },
  {
   "cell_type": "code",
   "execution_count": null,
   "id": "fa4ec1ef",
   "metadata": {},
   "outputs": [],
   "source": [
    "# Topic: Mini Projects\n",
    "# Simple calculator\n",
    "def calc(a,b,op):\n",
    " if op=='+': return a+b\n",
    " elif op=='-': return a-b\n",
    "print(calc(10,5,'+'))"
   ]
  },
  {
   "cell_type": "code",
   "execution_count": null,
   "id": "859f745c",
   "metadata": {},
   "outputs": [],
   "source": [
    "# Topic: Lists & Tuples\n",
    "nums = [1,2,3]\n",
    "nums.append(4)\n",
    "print(nums)"
   ]
  },
  {
   "cell_type": "code",
   "execution_count": null,
   "id": "03643ded",
   "metadata": {},
   "outputs": [],
   "source": [
    "# Topic: Matplotlib\n",
    "import matplotlib.pyplot as plt\n",
    "plt.plot([1,2],[3,4])\n",
    "plt.show()"
   ]
  },
  {
   "cell_type": "code",
   "execution_count": null,
   "id": "fd278c4f",
   "metadata": {},
   "outputs": [],
   "source": [
    "# Topic: Lists & Tuples\n",
    "nums = [1,2,3]\n",
    "nums.append(4)\n",
    "print(nums)"
   ]
  },
  {
   "cell_type": "code",
   "execution_count": null,
   "id": "811d6995",
   "metadata": {},
   "outputs": [],
   "source": [
    "# Topic: Matplotlib\n",
    "import matplotlib.pyplot as plt\n",
    "plt.bar(['A','B'], [10,20])\n",
    "plt.show()"
   ]
  },
  {
   "cell_type": "code",
   "execution_count": null,
   "id": "ad728174",
   "metadata": {},
   "outputs": [],
   "source": [
    "# Topic: Matplotlib\n",
    "import matplotlib.pyplot as plt\n",
    "plt.plot([1,2],[3,4])\n",
    "plt.show()"
   ]
  },
  {
   "cell_type": "code",
   "execution_count": null,
   "id": "50205418",
   "metadata": {},
   "outputs": [],
   "source": [
    "# Topic: Basics\n",
    "a = 5\n",
    "b = 3\n",
    "print(a * b)"
   ]
  },
  {
   "cell_type": "code",
   "execution_count": null,
   "id": "69a8a214",
   "metadata": {},
   "outputs": [],
   "source": [
    "# Topic: Pandas\n",
    "import pandas as pd\n",
    "df = pd.DataFrame({'A':[1,2],'B':[3,4]})\n",
    "print(df)"
   ]
  },
  {
   "cell_type": "code",
   "execution_count": null,
   "id": "2015d814",
   "metadata": {},
   "outputs": [],
   "source": [
    "# Topic: Mini Projects\n",
    "# Simple calculator\n",
    "def calc(a,b,op):\n",
    " if op=='+': return a+b\n",
    " elif op=='-': return a-b\n",
    "print(calc(10,5,'+'))"
   ]
  },
  {
   "cell_type": "code",
   "execution_count": null,
   "id": "bdbe5824",
   "metadata": {},
   "outputs": [],
   "source": [
    "# Topic: NumPy\n",
    "import numpy as np\n",
    "a = np.array([1,2,3])\n",
    "print(a * 2)"
   ]
  },
  {
   "cell_type": "code",
   "execution_count": null,
   "id": "721c37d1",
   "metadata": {},
   "outputs": [],
   "source": [
    "# Topic: NumPy\n",
    "import numpy as np\n",
    "a = np.array([1,2,3])\n",
    "print(a * 2)"
   ]
  },
  {
   "cell_type": "code",
   "execution_count": null,
   "id": "246ff5a8",
   "metadata": {},
   "outputs": [],
   "source": [
    "# Topic: Pandas\n",
    "import pandas as pd\n",
    "df = pd.DataFrame({'A':[1,2],'B':[3,4]})\n",
    "print(df)"
   ]
  },
  {
   "cell_type": "code",
   "execution_count": null,
   "id": "0d7facee",
   "metadata": {},
   "outputs": [],
   "source": [
    "# Topic: Functions\n",
    "def add(a, b): return a + b\n",
    "print(add(3, 4))"
   ]
  },
  {
   "cell_type": "code",
   "execution_count": null,
   "id": "b47e38d2",
   "metadata": {},
   "outputs": [],
   "source": [
    "# Topic: File I/O\n",
    "with open('sample.txt') as f:\n",
    "    print(f.read())"
   ]
  },
  {
   "cell_type": "code",
   "execution_count": null,
   "id": "8fa7faef",
   "metadata": {},
   "outputs": [],
   "source": [
    "# Topic: Lists & Tuples\n",
    "nums = [1,2,3]\n",
    "nums.append(4)\n",
    "print(nums)"
   ]
  },
  {
   "cell_type": "code",
   "execution_count": null,
   "id": "3a212c98",
   "metadata": {},
   "outputs": [],
   "source": [
    "# Topic: Mini Projects\n",
    "# Simple calculator\n",
    "def calc(a,b,op):\n",
    " if op=='+': return a+b\n",
    " elif op=='-': return a-b\n",
    "print(calc(10,5,'+'))"
   ]
  },
  {
   "cell_type": "code",
   "execution_count": null,
   "id": "323db6d0",
   "metadata": {},
   "outputs": [],
   "source": [
    "# Topic: Basics\n",
    "name = 'Fahd'\n",
    "print(f'Welcome, {name}')"
   ]
  },
  {
   "cell_type": "code",
   "execution_count": null,
   "id": "b924de25",
   "metadata": {},
   "outputs": [],
   "source": [
    "# Topic: Basics\n",
    "a = 5\n",
    "b = 3\n",
    "print(a * b)"
   ]
  },
  {
   "cell_type": "code",
   "execution_count": null,
   "id": "51cf468e",
   "metadata": {},
   "outputs": [],
   "source": [
    "# Topic: Loops\n",
    "i = 0\n",
    "while i < 5:\n",
    "    print(i)\n",
    "    i += 1"
   ]
  },
  {
   "cell_type": "code",
   "execution_count": null,
   "id": "c94f1db7",
   "metadata": {},
   "outputs": [],
   "source": [
    "# Topic: Pandas\n",
    "import pandas as pd\n",
    "df = pd.read_csv('data.csv')\n",
    "print(df.head())"
   ]
  },
  {
   "cell_type": "code",
   "execution_count": null,
   "id": "3baa7361",
   "metadata": {},
   "outputs": [],
   "source": [
    "# Topic: File I/O\n",
    "with open('sample.txt', 'w') as f:\n",
    "    f.write('Hello World')"
   ]
  },
  {
   "cell_type": "code",
   "execution_count": null,
   "id": "ef8445d0",
   "metadata": {},
   "outputs": [],
   "source": [
    "# Topic: Basics\n",
    "name = 'Fahd'\n",
    "print(f'Welcome, {name}')"
   ]
  },
  {
   "cell_type": "code",
   "execution_count": null,
   "id": "d1466399",
   "metadata": {},
   "outputs": [],
   "source": [
    "# Topic: Functions\n",
    "def add(a, b): return a + b\n",
    "print(add(3, 4))"
   ]
  },
  {
   "cell_type": "code",
   "execution_count": null,
   "id": "c62d1739",
   "metadata": {},
   "outputs": [],
   "source": [
    "# Topic: Lists & Tuples\n",
    "nums = [1,2,3]\n",
    "nums.append(4)\n",
    "print(nums)"
   ]
  },
  {
   "cell_type": "code",
   "execution_count": null,
   "id": "eb4c7928",
   "metadata": {},
   "outputs": [],
   "source": [
    "# Topic: Pandas\n",
    "import pandas as pd\n",
    "df = pd.DataFrame({'A':[1,2],'B':[3,4]})\n",
    "print(df)"
   ]
  },
  {
   "cell_type": "code",
   "execution_count": null,
   "id": "bc553606",
   "metadata": {},
   "outputs": [],
   "source": [
    "# Topic: Decorators\n",
    "def decorator(fn):\n",
    "    def wrapper():\n",
    "        print('Before')\n",
    "        fn()\n",
    "        print('After')\n",
    "    return wrapper\n",
    "@decorator\n",
    "def say(): print('Hi')\n",
    "say()"
   ]
  },
  {
   "cell_type": "code",
   "execution_count": null,
   "id": "2ced2b04",
   "metadata": {},
   "outputs": [],
   "source": [
    "# Topic: Web Scraping\n",
    "import requests\n",
    "from bs4 import BeautifulSoup\n",
    "r = requests.get('https://example.com')\n",
    "soup = BeautifulSoup(r.text, 'html.parser')\n",
    "print(soup.title.string)"
   ]
  },
  {
   "cell_type": "code",
   "execution_count": null,
   "id": "3c9be744",
   "metadata": {},
   "outputs": [],
   "source": [
    "# Topic: File I/O\n",
    "with open('sample.txt', 'w') as f:\n",
    "    f.write('Hello World')"
   ]
  },
  {
   "cell_type": "code",
   "execution_count": null,
   "id": "61c8bd85",
   "metadata": {},
   "outputs": [],
   "source": [
    "# Topic: Basics\n",
    "a = 5\n",
    "b = 3\n",
    "print(a * b)"
   ]
  },
  {
   "cell_type": "code",
   "execution_count": null,
   "id": "560ae20b",
   "metadata": {},
   "outputs": [],
   "source": [
    "# Topic: Pandas\n",
    "import pandas as pd\n",
    "df = pd.read_csv('data.csv')\n",
    "print(df.head())"
   ]
  },
  {
   "cell_type": "code",
   "execution_count": null,
   "id": "f3d139f2",
   "metadata": {},
   "outputs": [],
   "source": [
    "# Topic: Dictionaries & Sets\n",
    "s = {1,2,3}\n",
    "s.add(4)\n",
    "print(s)"
   ]
  },
  {
   "cell_type": "code",
   "execution_count": null,
   "id": "405e2b1c",
   "metadata": {},
   "outputs": [],
   "source": [
    "# Topic: Classes & Objects\n",
    "class Dog:\n",
    "    def bark(self):\n",
    "        print('Woof!')\n",
    "d = Dog()\n",
    "d.bark()"
   ]
  },
  {
   "cell_type": "code",
   "execution_count": null,
   "id": "de949e1b",
   "metadata": {},
   "outputs": [],
   "source": [
    "# Topic: Basics\n",
    "x = 7\n",
    "print('Odd' if x % 2 else 'Even')"
   ]
  },
  {
   "cell_type": "code",
   "execution_count": null,
   "id": "94ca94bd",
   "metadata": {},
   "outputs": [],
   "source": [
    "# Topic: Exceptions\n",
    "try:\n",
    "    print(10/0)\n",
    "except ZeroDivisionError:\n",
    "    print('Cannot divide by zero')"
   ]
  },
  {
   "cell_type": "code",
   "execution_count": null,
   "id": "63280232",
   "metadata": {},
   "outputs": [],
   "source": [
    "# Topic: Mini Projects\n",
    "# Simple calculator\n",
    "def calc(a,b,op):\n",
    " if op=='+': return a+b\n",
    " elif op=='-': return a-b\n",
    "print(calc(10,5,'+'))"
   ]
  },
  {
   "cell_type": "code",
   "execution_count": null,
   "id": "0511eaef",
   "metadata": {},
   "outputs": [],
   "source": [
    "# Topic: Dictionaries & Sets\n",
    "s = {1,2,3}\n",
    "s.add(4)\n",
    "print(s)"
   ]
  },
  {
   "cell_type": "code",
   "execution_count": null,
   "id": "c7f32663",
   "metadata": {},
   "outputs": [],
   "source": [
    "# Topic: Classes & Objects\n",
    "class Dog:\n",
    "    def bark(self):\n",
    "        print('Woof!')\n",
    "d = Dog()\n",
    "d.bark()"
   ]
  },
  {
   "cell_type": "code",
   "execution_count": null,
   "id": "9d658efb",
   "metadata": {},
   "outputs": [],
   "source": [
    "# Topic: Web Scraping\n",
    "import requests\n",
    "from bs4 import BeautifulSoup\n",
    "r = requests.get('https://example.com')\n",
    "soup = BeautifulSoup(r.text, 'html.parser')\n",
    "print(soup.title.string)"
   ]
  },
  {
   "cell_type": "code",
   "execution_count": null,
   "id": "e0af2c0e",
   "metadata": {},
   "outputs": [],
   "source": [
    "# Topic: Recursion\n",
    "def fib(n):\n",
    "    if n <= 1: return n\n",
    "    return fib(n-1) + fib(n-2)\n",
    "print(fib(5))"
   ]
  },
  {
   "cell_type": "code",
   "execution_count": null,
   "id": "cdcd3ee5",
   "metadata": {},
   "outputs": [],
   "source": [
    "# Topic: Decorators\n",
    "def decorator(fn):\n",
    "    def wrapper():\n",
    "        print('Before')\n",
    "        fn()\n",
    "        print('After')\n",
    "    return wrapper\n",
    "@decorator\n",
    "def say(): print('Hi')\n",
    "say()"
   ]
  },
  {
   "cell_type": "code",
   "execution_count": null,
   "id": "6dc78377",
   "metadata": {},
   "outputs": [],
   "source": [
    "# Topic: Matplotlib\n",
    "import matplotlib.pyplot as plt\n",
    "plt.plot([1,2],[3,4])\n",
    "plt.show()"
   ]
  },
  {
   "cell_type": "code",
   "execution_count": null,
   "id": "325f4bc2",
   "metadata": {},
   "outputs": [],
   "source": [
    "# Topic: Matplotlib\n",
    "import matplotlib.pyplot as plt\n",
    "plt.plot([1,2],[3,4])\n",
    "plt.show()"
   ]
  },
  {
   "cell_type": "code",
   "execution_count": null,
   "id": "8ff89577",
   "metadata": {},
   "outputs": [],
   "source": [
    "# Topic: Lists & Tuples\n",
    "t = (1,2,3)\n",
    "print(t[1])"
   ]
  },
  {
   "cell_type": "code",
   "execution_count": null,
   "id": "cccbefa8",
   "metadata": {},
   "outputs": [],
   "source": [
    "# Topic: Web Scraping\n",
    "import requests\n",
    "from bs4 import BeautifulSoup\n",
    "r = requests.get('https://example.com')\n",
    "soup = BeautifulSoup(r.text, 'html.parser')\n",
    "print(soup.title.string)"
   ]
  },
  {
   "cell_type": "code",
   "execution_count": null,
   "id": "e94c0682",
   "metadata": {},
   "outputs": [],
   "source": [
    "# Topic: Mini Projects\n",
    "# Palindrome checker\n",
    "def is_palindrome(s):\n",
    " return s == s[::-1]\n",
    "print(is_palindrome('madam'))"
   ]
  },
  {
   "cell_type": "code",
   "execution_count": null,
   "id": "1c95e9a9",
   "metadata": {},
   "outputs": [],
   "source": [
    "# Topic: Loops\n",
    "for i in range(10): print(i*i)"
   ]
  },
  {
   "cell_type": "code",
   "execution_count": null,
   "id": "f9312c7f",
   "metadata": {},
   "outputs": [],
   "source": [
    "# Topic: Functions\n",
    "def add(a, b): return a + b\n",
    "print(add(3, 4))"
   ]
  },
  {
   "cell_type": "code",
   "execution_count": null,
   "id": "e414d68b",
   "metadata": {},
   "outputs": [],
   "source": [
    "# Topic: Functions\n",
    "def add(a, b): return a + b\n",
    "print(add(3, 4))"
   ]
  },
  {
   "cell_type": "code",
   "execution_count": null,
   "id": "37dc4cfb",
   "metadata": {},
   "outputs": [],
   "source": [
    "# Topic: Recursion\n",
    "def fib(n):\n",
    "    if n <= 1: return n\n",
    "    return fib(n-1) + fib(n-2)\n",
    "print(fib(5))"
   ]
  },
  {
   "cell_type": "code",
   "execution_count": null,
   "id": "0ba99ed3",
   "metadata": {},
   "outputs": [],
   "source": [
    "# Topic: File I/O\n",
    "with open('sample.txt') as f:\n",
    "    print(f.read())"
   ]
  },
  {
   "cell_type": "code",
   "execution_count": null,
   "id": "78cc2ad3",
   "metadata": {},
   "outputs": [],
   "source": [
    "# Topic: Exceptions\n",
    "try:\n",
    "    print(10/0)\n",
    "except ZeroDivisionError:\n",
    "    print('Cannot divide by zero')"
   ]
  },
  {
   "cell_type": "code",
   "execution_count": null,
   "id": "fe0d169c",
   "metadata": {},
   "outputs": [],
   "source": [
    "# Topic: File I/O\n",
    "with open('sample.txt') as f:\n",
    "    print(f.read())"
   ]
  },
  {
   "cell_type": "code",
   "execution_count": null,
   "id": "45c129ee",
   "metadata": {},
   "outputs": [],
   "source": [
    "# Topic: Recursion\n",
    "def fib(n):\n",
    "    if n <= 1: return n\n",
    "    return fib(n-1) + fib(n-2)\n",
    "print(fib(5))"
   ]
  },
  {
   "cell_type": "code",
   "execution_count": null,
   "id": "75d36459",
   "metadata": {},
   "outputs": [],
   "source": [
    "# Topic: Pandas\n",
    "import pandas as pd\n",
    "df = pd.DataFrame({'A':[1,2],'B':[3,4]})\n",
    "print(df)"
   ]
  },
  {
   "cell_type": "code",
   "execution_count": null,
   "id": "b682af1a",
   "metadata": {},
   "outputs": [],
   "source": [
    "# Topic: Matplotlib\n",
    "import matplotlib.pyplot as plt\n",
    "plt.plot([1,2],[3,4])\n",
    "plt.show()"
   ]
  },
  {
   "cell_type": "code",
   "execution_count": null,
   "id": "1ef97947",
   "metadata": {},
   "outputs": [],
   "source": [
    "# Topic: Classes & Objects\n",
    "class Dog:\n",
    "    def bark(self):\n",
    "        print('Woof!')\n",
    "d = Dog()\n",
    "d.bark()"
   ]
  },
  {
   "cell_type": "code",
   "execution_count": null,
   "id": "9cf51ba2",
   "metadata": {},
   "outputs": [],
   "source": [
    "# Topic: Decorators\n",
    "def decorator(fn):\n",
    "    def wrapper():\n",
    "        print('Before')\n",
    "        fn()\n",
    "        print('After')\n",
    "    return wrapper\n",
    "@decorator\n",
    "def say(): print('Hi')\n",
    "say()"
   ]
  },
  {
   "cell_type": "code",
   "execution_count": null,
   "id": "4b199739",
   "metadata": {},
   "outputs": [],
   "source": [
    "# Topic: Pandas\n",
    "import pandas as pd\n",
    "df = pd.read_csv('data.csv')\n",
    "print(df.head())"
   ]
  },
  {
   "cell_type": "code",
   "execution_count": null,
   "id": "57540bf1",
   "metadata": {},
   "outputs": [],
   "source": [
    "# Topic: Classes & Objects\n",
    "class Dog:\n",
    "    def bark(self):\n",
    "        print('Woof!')\n",
    "d = Dog()\n",
    "d.bark()"
   ]
  },
  {
   "cell_type": "code",
   "execution_count": null,
   "id": "be742eb1",
   "metadata": {},
   "outputs": [],
   "source": [
    "# Topic: Dictionaries & Sets\n",
    "s = {1,2,3}\n",
    "s.add(4)\n",
    "print(s)"
   ]
  },
  {
   "cell_type": "code",
   "execution_count": null,
   "id": "c3727496",
   "metadata": {},
   "outputs": [],
   "source": [
    "# Topic: Matplotlib\n",
    "import matplotlib.pyplot as plt\n",
    "plt.plot([1,2],[3,4])\n",
    "plt.show()"
   ]
  },
  {
   "cell_type": "code",
   "execution_count": null,
   "id": "b98737b6",
   "metadata": {},
   "outputs": [],
   "source": [
    "# Topic: NumPy\n",
    "import numpy as np\n",
    "print(np.arange(0, 10, 2))"
   ]
  },
  {
   "cell_type": "code",
   "execution_count": null,
   "id": "3be73dc5",
   "metadata": {},
   "outputs": [],
   "source": [
    "# Topic: Matplotlib\n",
    "import matplotlib.pyplot as plt\n",
    "plt.plot([1,2],[3,4])\n",
    "plt.show()"
   ]
  },
  {
   "cell_type": "code",
   "execution_count": null,
   "id": "a53a2cb3",
   "metadata": {},
   "outputs": [],
   "source": [
    "# Topic: Lists & Tuples\n",
    "t = (1,2,3)\n",
    "print(t[1])"
   ]
  },
  {
   "cell_type": "code",
   "execution_count": null,
   "id": "5ffbc155",
   "metadata": {},
   "outputs": [],
   "source": [
    "# Topic: File I/O\n",
    "with open('sample.txt') as f:\n",
    "    print(f.read())"
   ]
  },
  {
   "cell_type": "code",
   "execution_count": null,
   "id": "9b674ddf",
   "metadata": {},
   "outputs": [],
   "source": [
    "# Topic: Web Scraping\n",
    "import requests\n",
    "from bs4 import BeautifulSoup\n",
    "r = requests.get('https://example.com')\n",
    "soup = BeautifulSoup(r.text, 'html.parser')\n",
    "print(soup.title.string)"
   ]
  },
  {
   "cell_type": "code",
   "execution_count": null,
   "id": "af39e21a",
   "metadata": {},
   "outputs": [],
   "source": [
    "# Topic: Exceptions\n",
    "try:\n",
    "    print(10/0)\n",
    "except ZeroDivisionError:\n",
    "    print('Cannot divide by zero')"
   ]
  },
  {
   "cell_type": "code",
   "execution_count": null,
   "id": "91dd095b",
   "metadata": {},
   "outputs": [],
   "source": [
    "# Topic: Web Scraping\n",
    "import requests\n",
    "from bs4 import BeautifulSoup\n",
    "r = requests.get('https://example.com')\n",
    "soup = BeautifulSoup(r.text, 'html.parser')\n",
    "print(soup.title.string)"
   ]
  },
  {
   "cell_type": "code",
   "execution_count": null,
   "id": "c206732d",
   "metadata": {},
   "outputs": [],
   "source": [
    "# Topic: NumPy\n",
    "import numpy as np\n",
    "a = np.array([1,2,3])\n",
    "print(a * 2)"
   ]
  },
  {
   "cell_type": "code",
   "execution_count": null,
   "id": "a8e3b2f0",
   "metadata": {},
   "outputs": [],
   "source": [
    "# Topic: Mini Projects\n",
    "# Simple calculator\n",
    "def calc(a,b,op):\n",
    " if op=='+': return a+b\n",
    " elif op=='-': return a-b\n",
    "print(calc(10,5,'+'))"
   ]
  },
  {
   "cell_type": "code",
   "execution_count": null,
   "id": "c5a54a43",
   "metadata": {},
   "outputs": [],
   "source": [
    "# Topic: NumPy\n",
    "import numpy as np\n",
    "a = np.array([1,2,3])\n",
    "print(a * 2)"
   ]
  },
  {
   "cell_type": "code",
   "execution_count": null,
   "id": "35414db4",
   "metadata": {},
   "outputs": [],
   "source": [
    "# Topic: Lists & Tuples\n",
    "nums = [1,2,3]\n",
    "nums.append(4)\n",
    "print(nums)"
   ]
  },
  {
   "cell_type": "code",
   "execution_count": null,
   "id": "71448c7e",
   "metadata": {},
   "outputs": [],
   "source": [
    "# Topic: Decorators\n",
    "def decorator(fn):\n",
    "    def wrapper():\n",
    "        print('Before')\n",
    "        fn()\n",
    "        print('After')\n",
    "    return wrapper\n",
    "@decorator\n",
    "def say(): print('Hi')\n",
    "say()"
   ]
  },
  {
   "cell_type": "code",
   "execution_count": null,
   "id": "92d4db0d",
   "metadata": {},
   "outputs": [],
   "source": [
    "# Topic: Classes & Objects\n",
    "class Dog:\n",
    "    def bark(self):\n",
    "        print('Woof!')\n",
    "d = Dog()\n",
    "d.bark()"
   ]
  },
  {
   "cell_type": "code",
   "execution_count": null,
   "id": "c667cd3c",
   "metadata": {},
   "outputs": [],
   "source": [
    "# Topic: NumPy\n",
    "import numpy as np\n",
    "print(np.arange(0, 10, 2))"
   ]
  },
  {
   "cell_type": "code",
   "execution_count": null,
   "id": "e71e84bf",
   "metadata": {},
   "outputs": [],
   "source": [
    "# Topic: Classes & Objects\n",
    "class Dog:\n",
    "    def bark(self):\n",
    "        print('Woof!')\n",
    "d = Dog()\n",
    "d.bark()"
   ]
  },
  {
   "cell_type": "code",
   "execution_count": null,
   "id": "16a60891",
   "metadata": {},
   "outputs": [],
   "source": [
    "# Topic: Decorators\n",
    "def decorator(fn):\n",
    "    def wrapper():\n",
    "        print('Before')\n",
    "        fn()\n",
    "        print('After')\n",
    "    return wrapper\n",
    "@decorator\n",
    "def say(): print('Hi')\n",
    "say()"
   ]
  },
  {
   "cell_type": "code",
   "execution_count": null,
   "id": "023fa643",
   "metadata": {},
   "outputs": [],
   "source": [
    "# Topic: Lists & Tuples\n",
    "t = (1,2,3)\n",
    "print(t[1])"
   ]
  },
  {
   "cell_type": "code",
   "execution_count": null,
   "id": "1a45df2c",
   "metadata": {},
   "outputs": [],
   "source": [
    "# Topic: Decorators\n",
    "def decorator(fn):\n",
    "    def wrapper():\n",
    "        print('Before')\n",
    "        fn()\n",
    "        print('After')\n",
    "    return wrapper\n",
    "@decorator\n",
    "def say(): print('Hi')\n",
    "say()"
   ]
  },
  {
   "cell_type": "code",
   "execution_count": null,
   "id": "aefb2e4c",
   "metadata": {},
   "outputs": [],
   "source": [
    "# Topic: Matplotlib\n",
    "import matplotlib.pyplot as plt\n",
    "plt.bar(['A','B'], [10,20])\n",
    "plt.show()"
   ]
  },
  {
   "cell_type": "code",
   "execution_count": null,
   "id": "eb23462b",
   "metadata": {},
   "outputs": [],
   "source": [
    "# Topic: Dictionaries & Sets\n",
    "d = {'a':1, 'b':2}\n",
    "print(d['a'])"
   ]
  },
  {
   "cell_type": "code",
   "execution_count": null,
   "id": "bb592da5",
   "metadata": {},
   "outputs": [],
   "source": [
    "# Topic: Pandas\n",
    "import pandas as pd\n",
    "df = pd.DataFrame({'A':[1,2],'B':[3,4]})\n",
    "print(df)"
   ]
  },
  {
   "cell_type": "code",
   "execution_count": null,
   "id": "06b79a8b",
   "metadata": {},
   "outputs": [],
   "source": [
    "# Topic: Classes & Objects\n",
    "class Dog:\n",
    "    def bark(self):\n",
    "        print('Woof!')\n",
    "d = Dog()\n",
    "d.bark()"
   ]
  },
  {
   "cell_type": "code",
   "execution_count": null,
   "id": "d6226720",
   "metadata": {},
   "outputs": [],
   "source": [
    "# Topic: Functions\n",
    "def factorial(n):\n",
    "    return 1 if n==0 else n * factorial(n-1)\n",
    "print(factorial(5))"
   ]
  },
  {
   "cell_type": "code",
   "execution_count": null,
   "id": "adf129ba",
   "metadata": {},
   "outputs": [],
   "source": [
    "# Topic: Web Scraping\n",
    "import requests\n",
    "from bs4 import BeautifulSoup\n",
    "r = requests.get('https://example.com')\n",
    "soup = BeautifulSoup(r.text, 'html.parser')\n",
    "print(soup.title.string)"
   ]
  },
  {
   "cell_type": "code",
   "execution_count": null,
   "id": "106d2ad4",
   "metadata": {},
   "outputs": [],
   "source": [
    "# Topic: Mini Projects\n",
    "# Palindrome checker\n",
    "def is_palindrome(s):\n",
    " return s == s[::-1]\n",
    "print(is_palindrome('madam'))"
   ]
  },
  {
   "cell_type": "code",
   "execution_count": null,
   "id": "fd7c443d",
   "metadata": {},
   "outputs": [],
   "source": [
    "# Topic: Loops\n",
    "for i in range(10): print(i*i)"
   ]
  },
  {
   "cell_type": "code",
   "execution_count": null,
   "id": "fdfe5991",
   "metadata": {},
   "outputs": [],
   "source": [
    "# Topic: Lists & Tuples\n",
    "t = (1,2,3)\n",
    "print(t[1])"
   ]
  },
  {
   "cell_type": "code",
   "execution_count": null,
   "id": "842bcf4e",
   "metadata": {},
   "outputs": [],
   "source": [
    "# Topic: Recursion\n",
    "def fib(n):\n",
    "    if n <= 1: return n\n",
    "    return fib(n-1) + fib(n-2)\n",
    "print(fib(5))"
   ]
  },
  {
   "cell_type": "code",
   "execution_count": null,
   "id": "74accb87",
   "metadata": {},
   "outputs": [],
   "source": [
    "# Topic: Functions\n",
    "def add(a, b): return a + b\n",
    "print(add(3, 4))"
   ]
  },
  {
   "cell_type": "code",
   "execution_count": null,
   "id": "e67aaf91",
   "metadata": {},
   "outputs": [],
   "source": [
    "# Topic: Basics\n",
    "name = 'Fahd'\n",
    "print(f'Welcome, {name}')"
   ]
  },
  {
   "cell_type": "code",
   "execution_count": null,
   "id": "5442ba37",
   "metadata": {},
   "outputs": [],
   "source": [
    "# Topic: Pandas\n",
    "import pandas as pd\n",
    "df = pd.read_csv('data.csv')\n",
    "print(df.head())"
   ]
  },
  {
   "cell_type": "code",
   "execution_count": null,
   "id": "464eeee7",
   "metadata": {},
   "outputs": [],
   "source": [
    "# Topic: Pandas\n",
    "import pandas as pd\n",
    "df = pd.read_csv('data.csv')\n",
    "print(df.head())"
   ]
  },
  {
   "cell_type": "code",
   "execution_count": null,
   "id": "1ac6a1dc",
   "metadata": {},
   "outputs": [],
   "source": [
    "# Topic: Pandas\n",
    "import pandas as pd\n",
    "df = pd.read_csv('data.csv')\n",
    "print(df.head())"
   ]
  },
  {
   "cell_type": "code",
   "execution_count": null,
   "id": "cd1975fe",
   "metadata": {},
   "outputs": [],
   "source": [
    "# Topic: Matplotlib\n",
    "import matplotlib.pyplot as plt\n",
    "plt.plot([1,2],[3,4])\n",
    "plt.show()"
   ]
  },
  {
   "cell_type": "code",
   "execution_count": null,
   "id": "4fb72382",
   "metadata": {},
   "outputs": [],
   "source": [
    "# Topic: Web Scraping\n",
    "import requests\n",
    "from bs4 import BeautifulSoup\n",
    "r = requests.get('https://example.com')\n",
    "soup = BeautifulSoup(r.text, 'html.parser')\n",
    "print(soup.title.string)"
   ]
  },
  {
   "cell_type": "code",
   "execution_count": null,
   "id": "804e550d",
   "metadata": {},
   "outputs": [],
   "source": [
    "# Topic: File I/O\n",
    "with open('sample.txt', 'w') as f:\n",
    "    f.write('Hello World')"
   ]
  },
  {
   "cell_type": "code",
   "execution_count": null,
   "id": "3eb37efb",
   "metadata": {},
   "outputs": [],
   "source": [
    "# Topic: Classes & Objects\n",
    "class Dog:\n",
    "    def bark(self):\n",
    "        print('Woof!')\n",
    "d = Dog()\n",
    "d.bark()"
   ]
  },
  {
   "cell_type": "code",
   "execution_count": null,
   "id": "63c8cf11",
   "metadata": {},
   "outputs": [],
   "source": [
    "# Topic: Matplotlib\n",
    "import matplotlib.pyplot as plt\n",
    "plt.plot([1,2],[3,4])\n",
    "plt.show()"
   ]
  },
  {
   "cell_type": "code",
   "execution_count": null,
   "id": "029d667d",
   "metadata": {},
   "outputs": [],
   "source": [
    "# Topic: Basics\n",
    "x = 7\n",
    "print('Odd' if x % 2 else 'Even')"
   ]
  },
  {
   "cell_type": "code",
   "execution_count": null,
   "id": "50715746",
   "metadata": {},
   "outputs": [],
   "source": [
    "# Topic: Functions\n",
    "def add(a, b): return a + b\n",
    "print(add(3, 4))"
   ]
  },
  {
   "cell_type": "code",
   "execution_count": null,
   "id": "9141a05a",
   "metadata": {},
   "outputs": [],
   "source": [
    "# Topic: Web Scraping\n",
    "import requests\n",
    "from bs4 import BeautifulSoup\n",
    "r = requests.get('https://example.com')\n",
    "soup = BeautifulSoup(r.text, 'html.parser')\n",
    "print(soup.title.string)"
   ]
  },
  {
   "cell_type": "code",
   "execution_count": null,
   "id": "90729c99",
   "metadata": {},
   "outputs": [],
   "source": [
    "# Topic: NumPy\n",
    "import numpy as np\n",
    "print(np.arange(0, 10, 2))"
   ]
  },
  {
   "cell_type": "code",
   "execution_count": null,
   "id": "f809d4ce",
   "metadata": {},
   "outputs": [],
   "source": [
    "# Topic: NumPy\n",
    "import numpy as np\n",
    "a = np.array([1,2,3])\n",
    "print(a * 2)"
   ]
  },
  {
   "cell_type": "code",
   "execution_count": null,
   "id": "a01f6f5c",
   "metadata": {},
   "outputs": [],
   "source": [
    "# Topic: Matplotlib\n",
    "import matplotlib.pyplot as plt\n",
    "plt.bar(['A','B'], [10,20])\n",
    "plt.show()"
   ]
  },
  {
   "cell_type": "code",
   "execution_count": null,
   "id": "289cd031",
   "metadata": {},
   "outputs": [],
   "source": [
    "# Topic: Loops\n",
    "i = 0\n",
    "while i < 5:\n",
    "    print(i)\n",
    "    i += 1"
   ]
  },
  {
   "cell_type": "code",
   "execution_count": null,
   "id": "be39cc72",
   "metadata": {},
   "outputs": [],
   "source": [
    "# Topic: Functions\n",
    "def factorial(n):\n",
    "    return 1 if n==0 else n * factorial(n-1)\n",
    "print(factorial(5))"
   ]
  },
  {
   "cell_type": "code",
   "execution_count": null,
   "id": "d44ae45c",
   "metadata": {},
   "outputs": [],
   "source": [
    "# Topic: Classes & Objects\n",
    "class Dog:\n",
    "    def bark(self):\n",
    "        print('Woof!')\n",
    "d = Dog()\n",
    "d.bark()"
   ]
  },
  {
   "cell_type": "code",
   "execution_count": null,
   "id": "c7dbc2ee",
   "metadata": {},
   "outputs": [],
   "source": [
    "# Topic: Mini Projects\n",
    "# Simple calculator\n",
    "def calc(a,b,op):\n",
    " if op=='+': return a+b\n",
    " elif op=='-': return a-b\n",
    "print(calc(10,5,'+'))"
   ]
  },
  {
   "cell_type": "code",
   "execution_count": null,
   "id": "de6b7f95",
   "metadata": {},
   "outputs": [],
   "source": [
    "# Topic: Mini Projects\n",
    "# Palindrome checker\n",
    "def is_palindrome(s):\n",
    " return s == s[::-1]\n",
    "print(is_palindrome('madam'))"
   ]
  },
  {
   "cell_type": "code",
   "execution_count": null,
   "id": "e8426d38",
   "metadata": {},
   "outputs": [],
   "source": [
    "# Topic: Decorators\n",
    "def decorator(fn):\n",
    "    def wrapper():\n",
    "        print('Before')\n",
    "        fn()\n",
    "        print('After')\n",
    "    return wrapper\n",
    "@decorator\n",
    "def say(): print('Hi')\n",
    "say()"
   ]
  },
  {
   "cell_type": "code",
   "execution_count": null,
   "id": "a4db8db5",
   "metadata": {},
   "outputs": [],
   "source": [
    "# Topic: Recursion\n",
    "def fib(n):\n",
    "    if n <= 1: return n\n",
    "    return fib(n-1) + fib(n-2)\n",
    "print(fib(5))"
   ]
  },
  {
   "cell_type": "code",
   "execution_count": null,
   "id": "fd047600",
   "metadata": {},
   "outputs": [],
   "source": [
    "# Topic: Basics\n",
    "a = 5\n",
    "b = 3\n",
    "print(a * b)"
   ]
  },
  {
   "cell_type": "code",
   "execution_count": null,
   "id": "90708853",
   "metadata": {},
   "outputs": [],
   "source": [
    "# Topic: Basics\n",
    "name = 'Fahd'\n",
    "print(f'Welcome, {name}')"
   ]
  },
  {
   "cell_type": "code",
   "execution_count": null,
   "id": "7ec99cfd",
   "metadata": {},
   "outputs": [],
   "source": [
    "# Topic: Lists & Tuples\n",
    "nums = [1,2,3]\n",
    "nums.append(4)\n",
    "print(nums)"
   ]
  },
  {
   "cell_type": "code",
   "execution_count": null,
   "id": "458680cf",
   "metadata": {},
   "outputs": [],
   "source": [
    "# Topic: Web Scraping\n",
    "import requests\n",
    "from bs4 import BeautifulSoup\n",
    "r = requests.get('https://example.com')\n",
    "soup = BeautifulSoup(r.text, 'html.parser')\n",
    "print(soup.title.string)"
   ]
  },
  {
   "cell_type": "code",
   "execution_count": null,
   "id": "a0143338",
   "metadata": {},
   "outputs": [],
   "source": [
    "# Topic: Pandas\n",
    "import pandas as pd\n",
    "df = pd.DataFrame({'A':[1,2],'B':[3,4]})\n",
    "print(df)"
   ]
  },
  {
   "cell_type": "code",
   "execution_count": null,
   "id": "12b5f165",
   "metadata": {},
   "outputs": [],
   "source": [
    "# Topic: Mini Projects\n",
    "# Simple calculator\n",
    "def calc(a,b,op):\n",
    " if op=='+': return a+b\n",
    " elif op=='-': return a-b\n",
    "print(calc(10,5,'+'))"
   ]
  },
  {
   "cell_type": "code",
   "execution_count": null,
   "id": "15e41812",
   "metadata": {},
   "outputs": [],
   "source": [
    "# Topic: Lists & Tuples\n",
    "t = (1,2,3)\n",
    "print(t[1])"
   ]
  },
  {
   "cell_type": "code",
   "execution_count": null,
   "id": "22a7cb36",
   "metadata": {},
   "outputs": [],
   "source": [
    "# Topic: Matplotlib\n",
    "import matplotlib.pyplot as plt\n",
    "plt.bar(['A','B'], [10,20])\n",
    "plt.show()"
   ]
  },
  {
   "cell_type": "code",
   "execution_count": null,
   "id": "3c3dde5b",
   "metadata": {},
   "outputs": [],
   "source": [
    "# Topic: Matplotlib\n",
    "import matplotlib.pyplot as plt\n",
    "plt.plot([1,2],[3,4])\n",
    "plt.show()"
   ]
  },
  {
   "cell_type": "code",
   "execution_count": null,
   "id": "2395b13b",
   "metadata": {},
   "outputs": [],
   "source": [
    "# Topic: Web Scraping\n",
    "import requests\n",
    "from bs4 import BeautifulSoup\n",
    "r = requests.get('https://example.com')\n",
    "soup = BeautifulSoup(r.text, 'html.parser')\n",
    "print(soup.title.string)"
   ]
  },
  {
   "cell_type": "code",
   "execution_count": null,
   "id": "90344f20",
   "metadata": {},
   "outputs": [],
   "source": [
    "# Topic: Lists & Tuples\n",
    "t = (1,2,3)\n",
    "print(t[1])"
   ]
  },
  {
   "cell_type": "code",
   "execution_count": null,
   "id": "dae79eb4",
   "metadata": {},
   "outputs": [],
   "source": [
    "# Topic: File I/O\n",
    "with open('sample.txt', 'w') as f:\n",
    "    f.write('Hello World')"
   ]
  },
  {
   "cell_type": "code",
   "execution_count": null,
   "id": "5885793e",
   "metadata": {},
   "outputs": [],
   "source": [
    "# Topic: Matplotlib\n",
    "import matplotlib.pyplot as plt\n",
    "plt.plot([1,2],[3,4])\n",
    "plt.show()"
   ]
  },
  {
   "cell_type": "code",
   "execution_count": null,
   "id": "9667e5a8",
   "metadata": {},
   "outputs": [],
   "source": [
    "# Topic: Decorators\n",
    "def decorator(fn):\n",
    "    def wrapper():\n",
    "        print('Before')\n",
    "        fn()\n",
    "        print('After')\n",
    "    return wrapper\n",
    "@decorator\n",
    "def say(): print('Hi')\n",
    "say()"
   ]
  },
  {
   "cell_type": "code",
   "execution_count": null,
   "id": "678c7148",
   "metadata": {},
   "outputs": [],
   "source": [
    "# Topic: Matplotlib\n",
    "import matplotlib.pyplot as plt\n",
    "plt.plot([1,2],[3,4])\n",
    "plt.show()"
   ]
  },
  {
   "cell_type": "code",
   "execution_count": null,
   "id": "2cf89201",
   "metadata": {},
   "outputs": [],
   "source": [
    "# Topic: Pandas\n",
    "import pandas as pd\n",
    "df = pd.read_csv('data.csv')\n",
    "print(df.head())"
   ]
  },
  {
   "cell_type": "code",
   "execution_count": null,
   "id": "80d5c642",
   "metadata": {},
   "outputs": [],
   "source": [
    "# Topic: Mini Projects\n",
    "# Palindrome checker\n",
    "def is_palindrome(s):\n",
    " return s == s[::-1]\n",
    "print(is_palindrome('madam'))"
   ]
  },
  {
   "cell_type": "code",
   "execution_count": null,
   "id": "b165baf8",
   "metadata": {},
   "outputs": [],
   "source": [
    "# Topic: Exceptions\n",
    "try:\n",
    "    print(10/0)\n",
    "except ZeroDivisionError:\n",
    "    print('Cannot divide by zero')"
   ]
  },
  {
   "cell_type": "code",
   "execution_count": null,
   "id": "d4e07e8f",
   "metadata": {},
   "outputs": [],
   "source": [
    "# Topic: Decorators\n",
    "def decorator(fn):\n",
    "    def wrapper():\n",
    "        print('Before')\n",
    "        fn()\n",
    "        print('After')\n",
    "    return wrapper\n",
    "@decorator\n",
    "def say(): print('Hi')\n",
    "say()"
   ]
  },
  {
   "cell_type": "code",
   "execution_count": null,
   "id": "f2f5114e",
   "metadata": {},
   "outputs": [],
   "source": [
    "# Topic: Decorators\n",
    "def decorator(fn):\n",
    "    def wrapper():\n",
    "        print('Before')\n",
    "        fn()\n",
    "        print('After')\n",
    "    return wrapper\n",
    "@decorator\n",
    "def say(): print('Hi')\n",
    "say()"
   ]
  },
  {
   "cell_type": "code",
   "execution_count": null,
   "id": "65d2b719",
   "metadata": {},
   "outputs": [],
   "source": [
    "# Topic: Dictionaries & Sets\n",
    "d = {'a':1, 'b':2}\n",
    "print(d['a'])"
   ]
  },
  {
   "cell_type": "code",
   "execution_count": null,
   "id": "78b8b5f0",
   "metadata": {},
   "outputs": [],
   "source": [
    "# Topic: Matplotlib\n",
    "import matplotlib.pyplot as plt\n",
    "plt.plot([1,2],[3,4])\n",
    "plt.show()"
   ]
  },
  {
   "cell_type": "code",
   "execution_count": null,
   "id": "60287f17",
   "metadata": {},
   "outputs": [],
   "source": [
    "# Topic: Exceptions\n",
    "try:\n",
    "    print(10/0)\n",
    "except ZeroDivisionError:\n",
    "    print('Cannot divide by zero')"
   ]
  },
  {
   "cell_type": "code",
   "execution_count": null,
   "id": "df69e146",
   "metadata": {},
   "outputs": [],
   "source": [
    "# Topic: Dictionaries & Sets\n",
    "d = {'a':1, 'b':2}\n",
    "print(d['a'])"
   ]
  },
  {
   "cell_type": "code",
   "execution_count": null,
   "id": "fd1f7b36",
   "metadata": {},
   "outputs": [],
   "source": [
    "# Topic: Functions\n",
    "def add(a, b): return a + b\n",
    "print(add(3, 4))"
   ]
  },
  {
   "cell_type": "code",
   "execution_count": null,
   "id": "2c12001e",
   "metadata": {},
   "outputs": [],
   "source": [
    "# Topic: Dictionaries & Sets\n",
    "d = {'a':1, 'b':2}\n",
    "print(d['a'])"
   ]
  },
  {
   "cell_type": "code",
   "execution_count": null,
   "id": "927110b9",
   "metadata": {},
   "outputs": [],
   "source": [
    "# Topic: Pandas\n",
    "import pandas as pd\n",
    "df = pd.read_csv('data.csv')\n",
    "print(df.head())"
   ]
  },
  {
   "cell_type": "code",
   "execution_count": null,
   "id": "d8ceab86",
   "metadata": {},
   "outputs": [],
   "source": [
    "# Topic: Classes & Objects\n",
    "class Dog:\n",
    "    def bark(self):\n",
    "        print('Woof!')\n",
    "d = Dog()\n",
    "d.bark()"
   ]
  },
  {
   "cell_type": "code",
   "execution_count": null,
   "id": "e3cda80f",
   "metadata": {},
   "outputs": [],
   "source": [
    "# Topic: Decorators\n",
    "def decorator(fn):\n",
    "    def wrapper():\n",
    "        print('Before')\n",
    "        fn()\n",
    "        print('After')\n",
    "    return wrapper\n",
    "@decorator\n",
    "def say(): print('Hi')\n",
    "say()"
   ]
  },
  {
   "cell_type": "code",
   "execution_count": null,
   "id": "664f58af",
   "metadata": {},
   "outputs": [],
   "source": [
    "# Topic: Dictionaries & Sets\n",
    "d = {'a':1, 'b':2}\n",
    "print(d['a'])"
   ]
  },
  {
   "cell_type": "code",
   "execution_count": null,
   "id": "4e5283c2",
   "metadata": {},
   "outputs": [],
   "source": [
    "# Topic: Dictionaries & Sets\n",
    "s = {1,2,3}\n",
    "s.add(4)\n",
    "print(s)"
   ]
  },
  {
   "cell_type": "code",
   "execution_count": null,
   "id": "bbe7f5af",
   "metadata": {},
   "outputs": [],
   "source": [
    "# Topic: Pandas\n",
    "import pandas as pd\n",
    "df = pd.read_csv('data.csv')\n",
    "print(df.head())"
   ]
  },
  {
   "cell_type": "code",
   "execution_count": null,
   "id": "7e8c562c",
   "metadata": {},
   "outputs": [],
   "source": [
    "# Topic: Functions\n",
    "def add(a, b): return a + b\n",
    "print(add(3, 4))"
   ]
  },
  {
   "cell_type": "code",
   "execution_count": null,
   "id": "909499f0",
   "metadata": {},
   "outputs": [],
   "source": [
    "# Topic: Web Scraping\n",
    "import requests\n",
    "from bs4 import BeautifulSoup\n",
    "r = requests.get('https://example.com')\n",
    "soup = BeautifulSoup(r.text, 'html.parser')\n",
    "print(soup.title.string)"
   ]
  },
  {
   "cell_type": "code",
   "execution_count": null,
   "id": "1e1e5095",
   "metadata": {},
   "outputs": [],
   "source": [
    "# Topic: File I/O\n",
    "with open('sample.txt', 'w') as f:\n",
    "    f.write('Hello World')"
   ]
  },
  {
   "cell_type": "code",
   "execution_count": null,
   "id": "5a14e8e6",
   "metadata": {},
   "outputs": [],
   "source": [
    "# Topic: Web Scraping\n",
    "import requests\n",
    "from bs4 import BeautifulSoup\n",
    "r = requests.get('https://example.com')\n",
    "soup = BeautifulSoup(r.text, 'html.parser')\n",
    "print(soup.title.string)"
   ]
  },
  {
   "cell_type": "code",
   "execution_count": null,
   "id": "11e1ab0d",
   "metadata": {},
   "outputs": [],
   "source": [
    "# Topic: Pandas\n",
    "import pandas as pd\n",
    "df = pd.read_csv('data.csv')\n",
    "print(df.head())"
   ]
  },
  {
   "cell_type": "code",
   "execution_count": null,
   "id": "06b27034",
   "metadata": {},
   "outputs": [],
   "source": [
    "# Topic: Decorators\n",
    "def decorator(fn):\n",
    "    def wrapper():\n",
    "        print('Before')\n",
    "        fn()\n",
    "        print('After')\n",
    "    return wrapper\n",
    "@decorator\n",
    "def say(): print('Hi')\n",
    "say()"
   ]
  },
  {
   "cell_type": "code",
   "execution_count": null,
   "id": "70b14d36",
   "metadata": {},
   "outputs": [],
   "source": [
    "# Topic: Dictionaries & Sets\n",
    "d = {'a':1, 'b':2}\n",
    "print(d['a'])"
   ]
  },
  {
   "cell_type": "code",
   "execution_count": null,
   "id": "7e566c3a",
   "metadata": {},
   "outputs": [],
   "source": [
    "# Topic: Pandas\n",
    "import pandas as pd\n",
    "df = pd.DataFrame({'A':[1,2],'B':[3,4]})\n",
    "print(df)"
   ]
  },
  {
   "cell_type": "code",
   "execution_count": null,
   "id": "a4c2b32c",
   "metadata": {},
   "outputs": [],
   "source": [
    "# Topic: Dictionaries & Sets\n",
    "d = {'a':1, 'b':2}\n",
    "print(d['a'])"
   ]
  },
  {
   "cell_type": "code",
   "execution_count": null,
   "id": "f5808dc7",
   "metadata": {},
   "outputs": [],
   "source": [
    "# Topic: NumPy\n",
    "import numpy as np\n",
    "print(np.arange(0, 10, 2))"
   ]
  },
  {
   "cell_type": "code",
   "execution_count": null,
   "id": "857901eb",
   "metadata": {},
   "outputs": [],
   "source": [
    "# Topic: Matplotlib\n",
    "import matplotlib.pyplot as plt\n",
    "plt.bar(['A','B'], [10,20])\n",
    "plt.show()"
   ]
  },
  {
   "cell_type": "code",
   "execution_count": null,
   "id": "627e9caa",
   "metadata": {},
   "outputs": [],
   "source": [
    "# Topic: Classes & Objects\n",
    "class Dog:\n",
    "    def bark(self):\n",
    "        print('Woof!')\n",
    "d = Dog()\n",
    "d.bark()"
   ]
  },
  {
   "cell_type": "code",
   "execution_count": null,
   "id": "832cb13f",
   "metadata": {},
   "outputs": [],
   "source": [
    "# Topic: Pandas\n",
    "import pandas as pd\n",
    "df = pd.DataFrame({'A':[1,2],'B':[3,4]})\n",
    "print(df)"
   ]
  },
  {
   "cell_type": "code",
   "execution_count": null,
   "id": "d754415a",
   "metadata": {},
   "outputs": [],
   "source": [
    "# Topic: Pandas\n",
    "import pandas as pd\n",
    "df = pd.DataFrame({'A':[1,2],'B':[3,4]})\n",
    "print(df)"
   ]
  },
  {
   "cell_type": "code",
   "execution_count": null,
   "id": "9eb4c4ea",
   "metadata": {},
   "outputs": [],
   "source": [
    "# Topic: Recursion\n",
    "def fib(n):\n",
    "    if n <= 1: return n\n",
    "    return fib(n-1) + fib(n-2)\n",
    "print(fib(5))"
   ]
  },
  {
   "cell_type": "code",
   "execution_count": null,
   "id": "74d05aca",
   "metadata": {},
   "outputs": [],
   "source": [
    "# Topic: Pandas\n",
    "import pandas as pd\n",
    "df = pd.read_csv('data.csv')\n",
    "print(df.head())"
   ]
  },
  {
   "cell_type": "code",
   "execution_count": null,
   "id": "fcaa8ee4",
   "metadata": {},
   "outputs": [],
   "source": [
    "# Topic: Pandas\n",
    "import pandas as pd\n",
    "df = pd.DataFrame({'A':[1,2],'B':[3,4]})\n",
    "print(df)"
   ]
  },
  {
   "cell_type": "code",
   "execution_count": null,
   "id": "5bfa76b5",
   "metadata": {},
   "outputs": [],
   "source": [
    "# Topic: Mini Projects\n",
    "# Palindrome checker\n",
    "def is_palindrome(s):\n",
    " return s == s[::-1]\n",
    "print(is_palindrome('madam'))"
   ]
  },
  {
   "cell_type": "code",
   "execution_count": null,
   "id": "6ad60892",
   "metadata": {},
   "outputs": [],
   "source": [
    "# Topic: Mini Projects\n",
    "# Palindrome checker\n",
    "def is_palindrome(s):\n",
    " return s == s[::-1]\n",
    "print(is_palindrome('madam'))"
   ]
  },
  {
   "cell_type": "code",
   "execution_count": null,
   "id": "986ecfc2",
   "metadata": {},
   "outputs": [],
   "source": [
    "# Topic: Decorators\n",
    "def decorator(fn):\n",
    "    def wrapper():\n",
    "        print('Before')\n",
    "        fn()\n",
    "        print('After')\n",
    "    return wrapper\n",
    "@decorator\n",
    "def say(): print('Hi')\n",
    "say()"
   ]
  },
  {
   "cell_type": "code",
   "execution_count": null,
   "id": "d1ca0dd7",
   "metadata": {},
   "outputs": [],
   "source": [
    "# Topic: Recursion\n",
    "def fib(n):\n",
    "    if n <= 1: return n\n",
    "    return fib(n-1) + fib(n-2)\n",
    "print(fib(5))"
   ]
  },
  {
   "cell_type": "code",
   "execution_count": null,
   "id": "42357612",
   "metadata": {},
   "outputs": [],
   "source": [
    "# Topic: File I/O\n",
    "with open('sample.txt', 'w') as f:\n",
    "    f.write('Hello World')"
   ]
  },
  {
   "cell_type": "code",
   "execution_count": null,
   "id": "5fe1451c",
   "metadata": {},
   "outputs": [],
   "source": [
    "# Topic: Basics\n",
    "x = 7\n",
    "print('Odd' if x % 2 else 'Even')"
   ]
  },
  {
   "cell_type": "code",
   "execution_count": null,
   "id": "c76a4ea9",
   "metadata": {},
   "outputs": [],
   "source": [
    "# Topic: Web Scraping\n",
    "import requests\n",
    "from bs4 import BeautifulSoup\n",
    "r = requests.get('https://example.com')\n",
    "soup = BeautifulSoup(r.text, 'html.parser')\n",
    "print(soup.title.string)"
   ]
  },
  {
   "cell_type": "code",
   "execution_count": null,
   "id": "53ad7f4c",
   "metadata": {},
   "outputs": [],
   "source": [
    "# Topic: Matplotlib\n",
    "import matplotlib.pyplot as plt\n",
    "plt.bar(['A','B'], [10,20])\n",
    "plt.show()"
   ]
  },
  {
   "cell_type": "code",
   "execution_count": null,
   "id": "328946b8",
   "metadata": {},
   "outputs": [],
   "source": [
    "# Topic: Loops\n",
    "for i in range(10): print(i*i)"
   ]
  },
  {
   "cell_type": "code",
   "execution_count": null,
   "id": "11ef4227",
   "metadata": {},
   "outputs": [],
   "source": [
    "# Topic: Lists & Tuples\n",
    "nums = [1,2,3]\n",
    "nums.append(4)\n",
    "print(nums)"
   ]
  },
  {
   "cell_type": "code",
   "execution_count": null,
   "id": "9ee48f21",
   "metadata": {},
   "outputs": [],
   "source": [
    "# Topic: Basics\n",
    "x = 7\n",
    "print('Odd' if x % 2 else 'Even')"
   ]
  },
  {
   "cell_type": "code",
   "execution_count": null,
   "id": "b428ceee",
   "metadata": {},
   "outputs": [],
   "source": [
    "# Topic: Pandas\n",
    "import pandas as pd\n",
    "df = pd.read_csv('data.csv')\n",
    "print(df.head())"
   ]
  },
  {
   "cell_type": "code",
   "execution_count": null,
   "id": "1e12f762",
   "metadata": {},
   "outputs": [],
   "source": [
    "# Topic: Functions\n",
    "def add(a, b): return a + b\n",
    "print(add(3, 4))"
   ]
  },
  {
   "cell_type": "code",
   "execution_count": null,
   "id": "beba37a8",
   "metadata": {},
   "outputs": [],
   "source": [
    "# Topic: Decorators\n",
    "def decorator(fn):\n",
    "    def wrapper():\n",
    "        print('Before')\n",
    "        fn()\n",
    "        print('After')\n",
    "    return wrapper\n",
    "@decorator\n",
    "def say(): print('Hi')\n",
    "say()"
   ]
  },
  {
   "cell_type": "code",
   "execution_count": null,
   "id": "1bd34f16",
   "metadata": {},
   "outputs": [],
   "source": [
    "# Topic: Lists & Tuples\n",
    "t = (1,2,3)\n",
    "print(t[1])"
   ]
  },
  {
   "cell_type": "code",
   "execution_count": null,
   "id": "165e03c9",
   "metadata": {},
   "outputs": [],
   "source": [
    "# Topic: Decorators\n",
    "def decorator(fn):\n",
    "    def wrapper():\n",
    "        print('Before')\n",
    "        fn()\n",
    "        print('After')\n",
    "    return wrapper\n",
    "@decorator\n",
    "def say(): print('Hi')\n",
    "say()"
   ]
  },
  {
   "cell_type": "code",
   "execution_count": null,
   "id": "0247bc65",
   "metadata": {},
   "outputs": [],
   "source": [
    "# Topic: Mini Projects\n",
    "# Palindrome checker\n",
    "def is_palindrome(s):\n",
    " return s == s[::-1]\n",
    "print(is_palindrome('madam'))"
   ]
  },
  {
   "cell_type": "code",
   "execution_count": null,
   "id": "92b22557",
   "metadata": {},
   "outputs": [],
   "source": [
    "# Topic: Loops\n",
    "for i in range(10): print(i*i)"
   ]
  },
  {
   "cell_type": "code",
   "execution_count": null,
   "id": "26038adc",
   "metadata": {},
   "outputs": [],
   "source": [
    "# Topic: Functions\n",
    "def add(a, b): return a + b\n",
    "print(add(3, 4))"
   ]
  },
  {
   "cell_type": "code",
   "execution_count": null,
   "id": "78ce282b",
   "metadata": {},
   "outputs": [],
   "source": [
    "# Topic: Loops\n",
    "i = 0\n",
    "while i < 5:\n",
    "    print(i)\n",
    "    i += 1"
   ]
  },
  {
   "cell_type": "code",
   "execution_count": null,
   "id": "fa377756",
   "metadata": {},
   "outputs": [],
   "source": [
    "# Topic: Recursion\n",
    "def fib(n):\n",
    "    if n <= 1: return n\n",
    "    return fib(n-1) + fib(n-2)\n",
    "print(fib(5))"
   ]
  },
  {
   "cell_type": "code",
   "execution_count": null,
   "id": "2d076119",
   "metadata": {},
   "outputs": [],
   "source": [
    "# Topic: NumPy\n",
    "import numpy as np\n",
    "a = np.array([1,2,3])\n",
    "print(a * 2)"
   ]
  },
  {
   "cell_type": "code",
   "execution_count": null,
   "id": "fea42b5f",
   "metadata": {},
   "outputs": [],
   "source": [
    "# Topic: File I/O\n",
    "with open('sample.txt') as f:\n",
    "    print(f.read())"
   ]
  },
  {
   "cell_type": "code",
   "execution_count": null,
   "id": "c6b10f66",
   "metadata": {},
   "outputs": [],
   "source": [
    "# Topic: File I/O\n",
    "with open('sample.txt', 'w') as f:\n",
    "    f.write('Hello World')"
   ]
  },
  {
   "cell_type": "code",
   "execution_count": null,
   "id": "b01457f2",
   "metadata": {},
   "outputs": [],
   "source": [
    "# Topic: Recursion\n",
    "def fib(n):\n",
    "    if n <= 1: return n\n",
    "    return fib(n-1) + fib(n-2)\n",
    "print(fib(5))"
   ]
  },
  {
   "cell_type": "code",
   "execution_count": null,
   "id": "ec26146a",
   "metadata": {},
   "outputs": [],
   "source": [
    "# Topic: Classes & Objects\n",
    "class Dog:\n",
    "    def bark(self):\n",
    "        print('Woof!')\n",
    "d = Dog()\n",
    "d.bark()"
   ]
  },
  {
   "cell_type": "code",
   "execution_count": null,
   "id": "34af6b5f",
   "metadata": {},
   "outputs": [],
   "source": [
    "# Topic: Classes & Objects\n",
    "class Dog:\n",
    "    def bark(self):\n",
    "        print('Woof!')\n",
    "d = Dog()\n",
    "d.bark()"
   ]
  },
  {
   "cell_type": "code",
   "execution_count": null,
   "id": "02c6ace2",
   "metadata": {},
   "outputs": [],
   "source": [
    "# Topic: Classes & Objects\n",
    "class Dog:\n",
    "    def bark(self):\n",
    "        print('Woof!')\n",
    "d = Dog()\n",
    "d.bark()"
   ]
  },
  {
   "cell_type": "code",
   "execution_count": null,
   "id": "9477dad0",
   "metadata": {},
   "outputs": [],
   "source": [
    "# Topic: Basics\n",
    "a = 5\n",
    "b = 3\n",
    "print(a * b)"
   ]
  },
  {
   "cell_type": "code",
   "execution_count": null,
   "id": "cd69b02e",
   "metadata": {},
   "outputs": [],
   "source": [
    "# Topic: Decorators\n",
    "def decorator(fn):\n",
    "    def wrapper():\n",
    "        print('Before')\n",
    "        fn()\n",
    "        print('After')\n",
    "    return wrapper\n",
    "@decorator\n",
    "def say(): print('Hi')\n",
    "say()"
   ]
  },
  {
   "cell_type": "code",
   "execution_count": null,
   "id": "9245754b",
   "metadata": {},
   "outputs": [],
   "source": [
    "# Topic: NumPy\n",
    "import numpy as np\n",
    "print(np.arange(0, 10, 2))"
   ]
  },
  {
   "cell_type": "code",
   "execution_count": null,
   "id": "73d843e6",
   "metadata": {},
   "outputs": [],
   "source": [
    "# Topic: Basics\n",
    "x = 7\n",
    "print('Odd' if x % 2 else 'Even')"
   ]
  },
  {
   "cell_type": "code",
   "execution_count": null,
   "id": "337c4570",
   "metadata": {},
   "outputs": [],
   "source": [
    "# Topic: Dictionaries & Sets\n",
    "d = {'a':1, 'b':2}\n",
    "print(d['a'])"
   ]
  },
  {
   "cell_type": "code",
   "execution_count": null,
   "id": "6905788a",
   "metadata": {},
   "outputs": [],
   "source": [
    "# Topic: Exceptions\n",
    "try:\n",
    "    print(10/0)\n",
    "except ZeroDivisionError:\n",
    "    print('Cannot divide by zero')"
   ]
  },
  {
   "cell_type": "code",
   "execution_count": null,
   "id": "49b524ac",
   "metadata": {},
   "outputs": [],
   "source": [
    "# Topic: Matplotlib\n",
    "import matplotlib.pyplot as plt\n",
    "plt.bar(['A','B'], [10,20])\n",
    "plt.show()"
   ]
  },
  {
   "cell_type": "code",
   "execution_count": null,
   "id": "bac6f98c",
   "metadata": {},
   "outputs": [],
   "source": [
    "# Topic: Pandas\n",
    "import pandas as pd\n",
    "df = pd.read_csv('data.csv')\n",
    "print(df.head())"
   ]
  },
  {
   "cell_type": "code",
   "execution_count": null,
   "id": "7a4bd938",
   "metadata": {},
   "outputs": [],
   "source": [
    "# Topic: Matplotlib\n",
    "import matplotlib.pyplot as plt\n",
    "plt.plot([1,2],[3,4])\n",
    "plt.show()"
   ]
  },
  {
   "cell_type": "code",
   "execution_count": null,
   "id": "19b331a0",
   "metadata": {},
   "outputs": [],
   "source": [
    "# Topic: File I/O\n",
    "with open('sample.txt') as f:\n",
    "    print(f.read())"
   ]
  },
  {
   "cell_type": "code",
   "execution_count": null,
   "id": "286d8ffc",
   "metadata": {},
   "outputs": [],
   "source": [
    "# Topic: Dictionaries & Sets\n",
    "d = {'a':1, 'b':2}\n",
    "print(d['a'])"
   ]
  },
  {
   "cell_type": "code",
   "execution_count": null,
   "id": "6f8510db",
   "metadata": {},
   "outputs": [],
   "source": [
    "# Topic: Loops\n",
    "for i in range(10): print(i*i)"
   ]
  },
  {
   "cell_type": "code",
   "execution_count": null,
   "id": "8533533a",
   "metadata": {},
   "outputs": [],
   "source": [
    "# Topic: Loops\n",
    "i = 0\n",
    "while i < 5:\n",
    "    print(i)\n",
    "    i += 1"
   ]
  },
  {
   "cell_type": "code",
   "execution_count": null,
   "id": "749a82d5",
   "metadata": {},
   "outputs": [],
   "source": [
    "# Topic: Classes & Objects\n",
    "class Dog:\n",
    "    def bark(self):\n",
    "        print('Woof!')\n",
    "d = Dog()\n",
    "d.bark()"
   ]
  },
  {
   "cell_type": "code",
   "execution_count": null,
   "id": "9e013a06",
   "metadata": {},
   "outputs": [],
   "source": [
    "# Topic: Web Scraping\n",
    "import requests\n",
    "from bs4 import BeautifulSoup\n",
    "r = requests.get('https://example.com')\n",
    "soup = BeautifulSoup(r.text, 'html.parser')\n",
    "print(soup.title.string)"
   ]
  },
  {
   "cell_type": "code",
   "execution_count": null,
   "id": "d244df0a",
   "metadata": {},
   "outputs": [],
   "source": [
    "# Topic: NumPy\n",
    "import numpy as np\n",
    "print(np.arange(0, 10, 2))"
   ]
  },
  {
   "cell_type": "code",
   "execution_count": null,
   "id": "ac03e325",
   "metadata": {},
   "outputs": [],
   "source": [
    "# Topic: Web Scraping\n",
    "import requests\n",
    "from bs4 import BeautifulSoup\n",
    "r = requests.get('https://example.com')\n",
    "soup = BeautifulSoup(r.text, 'html.parser')\n",
    "print(soup.title.string)"
   ]
  },
  {
   "cell_type": "code",
   "execution_count": null,
   "id": "bf244d70",
   "metadata": {},
   "outputs": [],
   "source": [
    "# Topic: Matplotlib\n",
    "import matplotlib.pyplot as plt\n",
    "plt.plot([1,2],[3,4])\n",
    "plt.show()"
   ]
  },
  {
   "cell_type": "code",
   "execution_count": null,
   "id": "8cdc5197",
   "metadata": {},
   "outputs": [],
   "source": [
    "# Topic: Recursion\n",
    "def fib(n):\n",
    "    if n <= 1: return n\n",
    "    return fib(n-1) + fib(n-2)\n",
    "print(fib(5))"
   ]
  },
  {
   "cell_type": "code",
   "execution_count": null,
   "id": "1c3cb77d",
   "metadata": {},
   "outputs": [],
   "source": [
    "# Topic: Loops\n",
    "i = 0\n",
    "while i < 5:\n",
    "    print(i)\n",
    "    i += 1"
   ]
  },
  {
   "cell_type": "code",
   "execution_count": null,
   "id": "cccea73d",
   "metadata": {},
   "outputs": [],
   "source": [
    "# Topic: Basics\n",
    "name = 'Fahd'\n",
    "print(f'Welcome, {name}')"
   ]
  },
  {
   "cell_type": "code",
   "execution_count": null,
   "id": "b15bb27b",
   "metadata": {},
   "outputs": [],
   "source": [
    "# Topic: Matplotlib\n",
    "import matplotlib.pyplot as plt\n",
    "plt.bar(['A','B'], [10,20])\n",
    "plt.show()"
   ]
  },
  {
   "cell_type": "code",
   "execution_count": null,
   "id": "274bd7d3",
   "metadata": {},
   "outputs": [],
   "source": [
    "# Topic: File I/O\n",
    "with open('sample.txt', 'w') as f:\n",
    "    f.write('Hello World')"
   ]
  },
  {
   "cell_type": "code",
   "execution_count": null,
   "id": "b72db267",
   "metadata": {},
   "outputs": [],
   "source": [
    "# Topic: Decorators\n",
    "def decorator(fn):\n",
    "    def wrapper():\n",
    "        print('Before')\n",
    "        fn()\n",
    "        print('After')\n",
    "    return wrapper\n",
    "@decorator\n",
    "def say(): print('Hi')\n",
    "say()"
   ]
  },
  {
   "cell_type": "code",
   "execution_count": null,
   "id": "8c97fe4f",
   "metadata": {},
   "outputs": [],
   "source": [
    "# Topic: Basics\n",
    "x = 7\n",
    "print('Odd' if x % 2 else 'Even')"
   ]
  },
  {
   "cell_type": "code",
   "execution_count": null,
   "id": "6f3a9d5c",
   "metadata": {},
   "outputs": [],
   "source": [
    "# Topic: Decorators\n",
    "def decorator(fn):\n",
    "    def wrapper():\n",
    "        print('Before')\n",
    "        fn()\n",
    "        print('After')\n",
    "    return wrapper\n",
    "@decorator\n",
    "def say(): print('Hi')\n",
    "say()"
   ]
  },
  {
   "cell_type": "code",
   "execution_count": null,
   "id": "f0ba2fb1",
   "metadata": {},
   "outputs": [],
   "source": [
    "# Topic: File I/O\n",
    "with open('sample.txt') as f:\n",
    "    print(f.read())"
   ]
  },
  {
   "cell_type": "code",
   "execution_count": null,
   "id": "b4f60109",
   "metadata": {},
   "outputs": [],
   "source": [
    "# Topic: Classes & Objects\n",
    "class Dog:\n",
    "    def bark(self):\n",
    "        print('Woof!')\n",
    "d = Dog()\n",
    "d.bark()"
   ]
  },
  {
   "cell_type": "code",
   "execution_count": null,
   "id": "a6f08c81",
   "metadata": {},
   "outputs": [],
   "source": [
    "# Topic: Recursion\n",
    "def fib(n):\n",
    "    if n <= 1: return n\n",
    "    return fib(n-1) + fib(n-2)\n",
    "print(fib(5))"
   ]
  },
  {
   "cell_type": "code",
   "execution_count": null,
   "id": "1b79790c",
   "metadata": {},
   "outputs": [],
   "source": [
    "# Topic: Classes & Objects\n",
    "class Dog:\n",
    "    def bark(self):\n",
    "        print('Woof!')\n",
    "d = Dog()\n",
    "d.bark()"
   ]
  },
  {
   "cell_type": "code",
   "execution_count": null,
   "id": "af18460e",
   "metadata": {},
   "outputs": [],
   "source": [
    "# Topic: Functions\n",
    "def add(a, b): return a + b\n",
    "print(add(3, 4))"
   ]
  },
  {
   "cell_type": "code",
   "execution_count": null,
   "id": "e9dc9abf",
   "metadata": {},
   "outputs": [],
   "source": [
    "# Topic: Decorators\n",
    "def decorator(fn):\n",
    "    def wrapper():\n",
    "        print('Before')\n",
    "        fn()\n",
    "        print('After')\n",
    "    return wrapper\n",
    "@decorator\n",
    "def say(): print('Hi')\n",
    "say()"
   ]
  },
  {
   "cell_type": "code",
   "execution_count": null,
   "id": "e7b64035",
   "metadata": {},
   "outputs": [],
   "source": [
    "# Topic: Exceptions\n",
    "try:\n",
    "    print(10/0)\n",
    "except ZeroDivisionError:\n",
    "    print('Cannot divide by zero')"
   ]
  },
  {
   "cell_type": "code",
   "execution_count": null,
   "id": "89a46b4e",
   "metadata": {},
   "outputs": [],
   "source": [
    "# Topic: Decorators\n",
    "def decorator(fn):\n",
    "    def wrapper():\n",
    "        print('Before')\n",
    "        fn()\n",
    "        print('After')\n",
    "    return wrapper\n",
    "@decorator\n",
    "def say(): print('Hi')\n",
    "say()"
   ]
  },
  {
   "cell_type": "code",
   "execution_count": null,
   "id": "290083bd",
   "metadata": {},
   "outputs": [],
   "source": [
    "# Topic: Loops\n",
    "for i in range(10): print(i*i)"
   ]
  },
  {
   "cell_type": "code",
   "execution_count": null,
   "id": "739a82d0",
   "metadata": {},
   "outputs": [],
   "source": [
    "# Topic: NumPy\n",
    "import numpy as np\n",
    "a = np.array([1,2,3])\n",
    "print(a * 2)"
   ]
  },
  {
   "cell_type": "code",
   "execution_count": null,
   "id": "5ed311de",
   "metadata": {},
   "outputs": [],
   "source": [
    "# Topic: Exceptions\n",
    "try:\n",
    "    print(10/0)\n",
    "except ZeroDivisionError:\n",
    "    print('Cannot divide by zero')"
   ]
  },
  {
   "cell_type": "code",
   "execution_count": null,
   "id": "360e4eca",
   "metadata": {},
   "outputs": [],
   "source": [
    "# Topic: Basics\n",
    "name = 'Fahd'\n",
    "print(f'Welcome, {name}')"
   ]
  },
  {
   "cell_type": "code",
   "execution_count": null,
   "id": "a5bb2a57",
   "metadata": {},
   "outputs": [],
   "source": [
    "# Topic: Decorators\n",
    "def decorator(fn):\n",
    "    def wrapper():\n",
    "        print('Before')\n",
    "        fn()\n",
    "        print('After')\n",
    "    return wrapper\n",
    "@decorator\n",
    "def say(): print('Hi')\n",
    "say()"
   ]
  },
  {
   "cell_type": "code",
   "execution_count": null,
   "id": "9a5ebb69",
   "metadata": {},
   "outputs": [],
   "source": [
    "# Topic: File I/O\n",
    "with open('sample.txt', 'w') as f:\n",
    "    f.write('Hello World')"
   ]
  },
  {
   "cell_type": "code",
   "execution_count": null,
   "id": "56db02bb",
   "metadata": {},
   "outputs": [],
   "source": [
    "# Topic: Pandas\n",
    "import pandas as pd\n",
    "df = pd.read_csv('data.csv')\n",
    "print(df.head())"
   ]
  },
  {
   "cell_type": "code",
   "execution_count": null,
   "id": "e4cd07f6",
   "metadata": {},
   "outputs": [],
   "source": [
    "# Topic: Mini Projects\n",
    "# Palindrome checker\n",
    "def is_palindrome(s):\n",
    " return s == s[::-1]\n",
    "print(is_palindrome('madam'))"
   ]
  },
  {
   "cell_type": "code",
   "execution_count": null,
   "id": "a77538c8",
   "metadata": {},
   "outputs": [],
   "source": [
    "# Topic: Functions\n",
    "def factorial(n):\n",
    "    return 1 if n==0 else n * factorial(n-1)\n",
    "print(factorial(5))"
   ]
  },
  {
   "cell_type": "code",
   "execution_count": null,
   "id": "f5eee36c",
   "metadata": {},
   "outputs": [],
   "source": [
    "# Topic: Matplotlib\n",
    "import matplotlib.pyplot as plt\n",
    "plt.plot([1,2],[3,4])\n",
    "plt.show()"
   ]
  },
  {
   "cell_type": "code",
   "execution_count": null,
   "id": "43dc1613",
   "metadata": {},
   "outputs": [],
   "source": [
    "# Topic: Exceptions\n",
    "try:\n",
    "    print(10/0)\n",
    "except ZeroDivisionError:\n",
    "    print('Cannot divide by zero')"
   ]
  },
  {
   "cell_type": "code",
   "execution_count": null,
   "id": "5426de86",
   "metadata": {},
   "outputs": [],
   "source": [
    "# Topic: Mini Projects\n",
    "# Simple calculator\n",
    "def calc(a,b,op):\n",
    " if op=='+': return a+b\n",
    " elif op=='-': return a-b\n",
    "print(calc(10,5,'+'))"
   ]
  },
  {
   "cell_type": "code",
   "execution_count": null,
   "id": "47671069",
   "metadata": {},
   "outputs": [],
   "source": [
    "# Topic: Exceptions\n",
    "try:\n",
    "    print(10/0)\n",
    "except ZeroDivisionError:\n",
    "    print('Cannot divide by zero')"
   ]
  },
  {
   "cell_type": "code",
   "execution_count": null,
   "id": "a607d325",
   "metadata": {},
   "outputs": [],
   "source": [
    "# Topic: Classes & Objects\n",
    "class Dog:\n",
    "    def bark(self):\n",
    "        print('Woof!')\n",
    "d = Dog()\n",
    "d.bark()"
   ]
  },
  {
   "cell_type": "code",
   "execution_count": null,
   "id": "dfc0d01f",
   "metadata": {},
   "outputs": [],
   "source": [
    "# Topic: Exceptions\n",
    "try:\n",
    "    print(10/0)\n",
    "except ZeroDivisionError:\n",
    "    print('Cannot divide by zero')"
   ]
  },
  {
   "cell_type": "code",
   "execution_count": null,
   "id": "c2e20860",
   "metadata": {},
   "outputs": [],
   "source": [
    "# Topic: Recursion\n",
    "def fib(n):\n",
    "    if n <= 1: return n\n",
    "    return fib(n-1) + fib(n-2)\n",
    "print(fib(5))"
   ]
  },
  {
   "cell_type": "code",
   "execution_count": null,
   "id": "7a2f755c",
   "metadata": {},
   "outputs": [],
   "source": [
    "# Topic: Exceptions\n",
    "try:\n",
    "    print(10/0)\n",
    "except ZeroDivisionError:\n",
    "    print('Cannot divide by zero')"
   ]
  },
  {
   "cell_type": "code",
   "execution_count": null,
   "id": "ee264c02",
   "metadata": {},
   "outputs": [],
   "source": [
    "# Topic: Web Scraping\n",
    "import requests\n",
    "from bs4 import BeautifulSoup\n",
    "r = requests.get('https://example.com')\n",
    "soup = BeautifulSoup(r.text, 'html.parser')\n",
    "print(soup.title.string)"
   ]
  },
  {
   "cell_type": "code",
   "execution_count": null,
   "id": "473d12b2",
   "metadata": {},
   "outputs": [],
   "source": [
    "# Topic: Lists & Tuples\n",
    "t = (1,2,3)\n",
    "print(t[1])"
   ]
  },
  {
   "cell_type": "code",
   "execution_count": null,
   "id": "bb2f0b87",
   "metadata": {},
   "outputs": [],
   "source": [
    "# Topic: Decorators\n",
    "def decorator(fn):\n",
    "    def wrapper():\n",
    "        print('Before')\n",
    "        fn()\n",
    "        print('After')\n",
    "    return wrapper\n",
    "@decorator\n",
    "def say(): print('Hi')\n",
    "say()"
   ]
  },
  {
   "cell_type": "code",
   "execution_count": null,
   "id": "1eb470f2",
   "metadata": {},
   "outputs": [],
   "source": [
    "# Topic: Basics\n",
    "a = 5\n",
    "b = 3\n",
    "print(a * b)"
   ]
  },
  {
   "cell_type": "code",
   "execution_count": null,
   "id": "82361e22",
   "metadata": {},
   "outputs": [],
   "source": [
    "# Topic: Web Scraping\n",
    "import requests\n",
    "from bs4 import BeautifulSoup\n",
    "r = requests.get('https://example.com')\n",
    "soup = BeautifulSoup(r.text, 'html.parser')\n",
    "print(soup.title.string)"
   ]
  },
  {
   "cell_type": "code",
   "execution_count": null,
   "id": "00fafdcd",
   "metadata": {},
   "outputs": [],
   "source": [
    "# Topic: NumPy\n",
    "import numpy as np\n",
    "a = np.array([1,2,3])\n",
    "print(a * 2)"
   ]
  },
  {
   "cell_type": "code",
   "execution_count": null,
   "id": "071fbe5b",
   "metadata": {},
   "outputs": [],
   "source": [
    "# Topic: Basics\n",
    "a = 5\n",
    "b = 3\n",
    "print(a * b)"
   ]
  },
  {
   "cell_type": "code",
   "execution_count": null,
   "id": "93cd4c96",
   "metadata": {},
   "outputs": [],
   "source": [
    "# Topic: Exceptions\n",
    "try:\n",
    "    print(10/0)\n",
    "except ZeroDivisionError:\n",
    "    print('Cannot divide by zero')"
   ]
  },
  {
   "cell_type": "code",
   "execution_count": null,
   "id": "4527427d",
   "metadata": {},
   "outputs": [],
   "source": [
    "# Topic: Dictionaries & Sets\n",
    "d = {'a':1, 'b':2}\n",
    "print(d['a'])"
   ]
  },
  {
   "cell_type": "code",
   "execution_count": null,
   "id": "eaf5ba51",
   "metadata": {},
   "outputs": [],
   "source": [
    "# Topic: Loops\n",
    "for i in range(10): print(i*i)"
   ]
  },
  {
   "cell_type": "code",
   "execution_count": null,
   "id": "89e3bcea",
   "metadata": {},
   "outputs": [],
   "source": [
    "# Topic: Recursion\n",
    "def fib(n):\n",
    "    if n <= 1: return n\n",
    "    return fib(n-1) + fib(n-2)\n",
    "print(fib(5))"
   ]
  },
  {
   "cell_type": "code",
   "execution_count": null,
   "id": "3fc7733b",
   "metadata": {},
   "outputs": [],
   "source": [
    "# Topic: Recursion\n",
    "def fib(n):\n",
    "    if n <= 1: return n\n",
    "    return fib(n-1) + fib(n-2)\n",
    "print(fib(5))"
   ]
  },
  {
   "cell_type": "code",
   "execution_count": null,
   "id": "a9b8336a",
   "metadata": {},
   "outputs": [],
   "source": [
    "# Topic: Mini Projects\n",
    "# Palindrome checker\n",
    "def is_palindrome(s):\n",
    " return s == s[::-1]\n",
    "print(is_palindrome('madam'))"
   ]
  },
  {
   "cell_type": "code",
   "execution_count": null,
   "id": "176691dd",
   "metadata": {},
   "outputs": [],
   "source": [
    "# Topic: Basics\n",
    "x = 7\n",
    "print('Odd' if x % 2 else 'Even')"
   ]
  },
  {
   "cell_type": "code",
   "execution_count": null,
   "id": "3b9cc71b",
   "metadata": {},
   "outputs": [],
   "source": [
    "# Topic: Matplotlib\n",
    "import matplotlib.pyplot as plt\n",
    "plt.bar(['A','B'], [10,20])\n",
    "plt.show()"
   ]
  },
  {
   "cell_type": "code",
   "execution_count": null,
   "id": "5df73aa1",
   "metadata": {},
   "outputs": [],
   "source": [
    "# Topic: File I/O\n",
    "with open('sample.txt', 'w') as f:\n",
    "    f.write('Hello World')"
   ]
  },
  {
   "cell_type": "code",
   "execution_count": null,
   "id": "82e56b89",
   "metadata": {},
   "outputs": [],
   "source": [
    "# Topic: NumPy\n",
    "import numpy as np\n",
    "a = np.array([1,2,3])\n",
    "print(a * 2)"
   ]
  },
  {
   "cell_type": "code",
   "execution_count": null,
   "id": "687096c3",
   "metadata": {},
   "outputs": [],
   "source": [
    "# Topic: Lists & Tuples\n",
    "t = (1,2,3)\n",
    "print(t[1])"
   ]
  },
  {
   "cell_type": "code",
   "execution_count": null,
   "id": "abe05624",
   "metadata": {},
   "outputs": [],
   "source": [
    "# Topic: Exceptions\n",
    "try:\n",
    "    print(10/0)\n",
    "except ZeroDivisionError:\n",
    "    print('Cannot divide by zero')"
   ]
  },
  {
   "cell_type": "code",
   "execution_count": null,
   "id": "d8e3aa3e",
   "metadata": {},
   "outputs": [],
   "source": [
    "# Topic: Classes & Objects\n",
    "class Dog:\n",
    "    def bark(self):\n",
    "        print('Woof!')\n",
    "d = Dog()\n",
    "d.bark()"
   ]
  },
  {
   "cell_type": "code",
   "execution_count": null,
   "id": "7f698642",
   "metadata": {},
   "outputs": [],
   "source": [
    "# Topic: Loops\n",
    "for i in range(10): print(i*i)"
   ]
  },
  {
   "cell_type": "code",
   "execution_count": null,
   "id": "4edc3605",
   "metadata": {},
   "outputs": [],
   "source": [
    "# Topic: Loops\n",
    "i = 0\n",
    "while i < 5:\n",
    "    print(i)\n",
    "    i += 1"
   ]
  },
  {
   "cell_type": "code",
   "execution_count": null,
   "id": "530773c6",
   "metadata": {},
   "outputs": [],
   "source": [
    "# Topic: Basics\n",
    "a = 5\n",
    "b = 3\n",
    "print(a * b)"
   ]
  },
  {
   "cell_type": "code",
   "execution_count": null,
   "id": "6d72c3f8",
   "metadata": {},
   "outputs": [],
   "source": [
    "# Topic: File I/O\n",
    "with open('sample.txt') as f:\n",
    "    print(f.read())"
   ]
  },
  {
   "cell_type": "code",
   "execution_count": null,
   "id": "595ac59a",
   "metadata": {},
   "outputs": [],
   "source": [
    "# Topic: NumPy\n",
    "import numpy as np\n",
    "print(np.arange(0, 10, 2))"
   ]
  },
  {
   "cell_type": "code",
   "execution_count": null,
   "id": "751811a4",
   "metadata": {},
   "outputs": [],
   "source": [
    "# Topic: Matplotlib\n",
    "import matplotlib.pyplot as plt\n",
    "plt.plot([1,2],[3,4])\n",
    "plt.show()"
   ]
  },
  {
   "cell_type": "code",
   "execution_count": null,
   "id": "7431aefe",
   "metadata": {},
   "outputs": [],
   "source": [
    "# Topic: Classes & Objects\n",
    "class Dog:\n",
    "    def bark(self):\n",
    "        print('Woof!')\n",
    "d = Dog()\n",
    "d.bark()"
   ]
  },
  {
   "cell_type": "code",
   "execution_count": null,
   "id": "49f1c460",
   "metadata": {},
   "outputs": [],
   "source": [
    "# Topic: Pandas\n",
    "import pandas as pd\n",
    "df = pd.DataFrame({'A':[1,2],'B':[3,4]})\n",
    "print(df)"
   ]
  },
  {
   "cell_type": "code",
   "execution_count": null,
   "id": "e3c8ad69",
   "metadata": {},
   "outputs": [],
   "source": [
    "# Topic: Loops\n",
    "for i in range(10): print(i*i)"
   ]
  },
  {
   "cell_type": "code",
   "execution_count": null,
   "id": "b9b1b9af",
   "metadata": {},
   "outputs": [],
   "source": [
    "# Topic: Functions\n",
    "def factorial(n):\n",
    "    return 1 if n==0 else n * factorial(n-1)\n",
    "print(factorial(5))"
   ]
  },
  {
   "cell_type": "code",
   "execution_count": null,
   "id": "97b68ac8",
   "metadata": {},
   "outputs": [],
   "source": [
    "# Topic: Pandas\n",
    "import pandas as pd\n",
    "df = pd.read_csv('data.csv')\n",
    "print(df.head())"
   ]
  },
  {
   "cell_type": "code",
   "execution_count": null,
   "id": "5131180e",
   "metadata": {},
   "outputs": [],
   "source": [
    "# Topic: Lists & Tuples\n",
    "t = (1,2,3)\n",
    "print(t[1])"
   ]
  },
  {
   "cell_type": "code",
   "execution_count": null,
   "id": "0fb17687",
   "metadata": {},
   "outputs": [],
   "source": [
    "# Topic: Recursion\n",
    "def fib(n):\n",
    "    if n <= 1: return n\n",
    "    return fib(n-1) + fib(n-2)\n",
    "print(fib(5))"
   ]
  },
  {
   "cell_type": "code",
   "execution_count": null,
   "id": "6b52809c",
   "metadata": {},
   "outputs": [],
   "source": [
    "# Topic: Matplotlib\n",
    "import matplotlib.pyplot as plt\n",
    "plt.bar(['A','B'], [10,20])\n",
    "plt.show()"
   ]
  },
  {
   "cell_type": "code",
   "execution_count": null,
   "id": "08d787d9",
   "metadata": {},
   "outputs": [],
   "source": [
    "# Topic: Functions\n",
    "def add(a, b): return a + b\n",
    "print(add(3, 4))"
   ]
  },
  {
   "cell_type": "code",
   "execution_count": null,
   "id": "6baa6756",
   "metadata": {},
   "outputs": [],
   "source": [
    "# Topic: Pandas\n",
    "import pandas as pd\n",
    "df = pd.read_csv('data.csv')\n",
    "print(df.head())"
   ]
  },
  {
   "cell_type": "code",
   "execution_count": null,
   "id": "90cc2454",
   "metadata": {},
   "outputs": [],
   "source": [
    "# Topic: Matplotlib\n",
    "import matplotlib.pyplot as plt\n",
    "plt.bar(['A','B'], [10,20])\n",
    "plt.show()"
   ]
  },
  {
   "cell_type": "code",
   "execution_count": null,
   "id": "324310cb",
   "metadata": {},
   "outputs": [],
   "source": [
    "# Topic: Lists & Tuples\n",
    "t = (1,2,3)\n",
    "print(t[1])"
   ]
  },
  {
   "cell_type": "code",
   "execution_count": null,
   "id": "1c864515",
   "metadata": {},
   "outputs": [],
   "source": [
    "# Topic: Basics\n",
    "x = 7\n",
    "print('Odd' if x % 2 else 'Even')"
   ]
  },
  {
   "cell_type": "code",
   "execution_count": null,
   "id": "15a7862f",
   "metadata": {},
   "outputs": [],
   "source": [
    "# Topic: Exceptions\n",
    "try:\n",
    "    print(10/0)\n",
    "except ZeroDivisionError:\n",
    "    print('Cannot divide by zero')"
   ]
  },
  {
   "cell_type": "code",
   "execution_count": null,
   "id": "15774cf9",
   "metadata": {},
   "outputs": [],
   "source": [
    "# Topic: Classes & Objects\n",
    "class Dog:\n",
    "    def bark(self):\n",
    "        print('Woof!')\n",
    "d = Dog()\n",
    "d.bark()"
   ]
  },
  {
   "cell_type": "code",
   "execution_count": null,
   "id": "e7662bfb",
   "metadata": {},
   "outputs": [],
   "source": [
    "# Topic: Decorators\n",
    "def decorator(fn):\n",
    "    def wrapper():\n",
    "        print('Before')\n",
    "        fn()\n",
    "        print('After')\n",
    "    return wrapper\n",
    "@decorator\n",
    "def say(): print('Hi')\n",
    "say()"
   ]
  },
  {
   "cell_type": "code",
   "execution_count": null,
   "id": "30bad9b4",
   "metadata": {},
   "outputs": [],
   "source": [
    "# Topic: Decorators\n",
    "def decorator(fn):\n",
    "    def wrapper():\n",
    "        print('Before')\n",
    "        fn()\n",
    "        print('After')\n",
    "    return wrapper\n",
    "@decorator\n",
    "def say(): print('Hi')\n",
    "say()"
   ]
  },
  {
   "cell_type": "code",
   "execution_count": null,
   "id": "990552c3",
   "metadata": {},
   "outputs": [],
   "source": [
    "# Topic: Lists & Tuples\n",
    "t = (1,2,3)\n",
    "print(t[1])"
   ]
  },
  {
   "cell_type": "code",
   "execution_count": null,
   "id": "06287753",
   "metadata": {},
   "outputs": [],
   "source": [
    "# Topic: Recursion\n",
    "def fib(n):\n",
    "    if n <= 1: return n\n",
    "    return fib(n-1) + fib(n-2)\n",
    "print(fib(5))"
   ]
  },
  {
   "cell_type": "code",
   "execution_count": null,
   "id": "6ddc22ab",
   "metadata": {},
   "outputs": [],
   "source": [
    "# Topic: Mini Projects\n",
    "# Palindrome checker\n",
    "def is_palindrome(s):\n",
    " return s == s[::-1]\n",
    "print(is_palindrome('madam'))"
   ]
  },
  {
   "cell_type": "code",
   "execution_count": null,
   "id": "e51fc2c6",
   "metadata": {},
   "outputs": [],
   "source": [
    "# Topic: Functions\n",
    "def add(a, b): return a + b\n",
    "print(add(3, 4))"
   ]
  },
  {
   "cell_type": "code",
   "execution_count": null,
   "id": "bc41633c",
   "metadata": {},
   "outputs": [],
   "source": [
    "# Topic: File I/O\n",
    "with open('sample.txt', 'w') as f:\n",
    "    f.write('Hello World')"
   ]
  },
  {
   "cell_type": "code",
   "execution_count": null,
   "id": "c2ee1754",
   "metadata": {},
   "outputs": [],
   "source": [
    "# Topic: Pandas\n",
    "import pandas as pd\n",
    "df = pd.DataFrame({'A':[1,2],'B':[3,4]})\n",
    "print(df)"
   ]
  },
  {
   "cell_type": "code",
   "execution_count": null,
   "id": "b070f57e",
   "metadata": {},
   "outputs": [],
   "source": [
    "# Topic: Lists & Tuples\n",
    "nums = [1,2,3]\n",
    "nums.append(4)\n",
    "print(nums)"
   ]
  },
  {
   "cell_type": "code",
   "execution_count": null,
   "id": "24040ccc",
   "metadata": {},
   "outputs": [],
   "source": [
    "# Topic: Functions\n",
    "def factorial(n):\n",
    "    return 1 if n==0 else n * factorial(n-1)\n",
    "print(factorial(5))"
   ]
  },
  {
   "cell_type": "code",
   "execution_count": null,
   "id": "4c25144c",
   "metadata": {},
   "outputs": [],
   "source": [
    "# Topic: Dictionaries & Sets\n",
    "s = {1,2,3}\n",
    "s.add(4)\n",
    "print(s)"
   ]
  },
  {
   "cell_type": "code",
   "execution_count": null,
   "id": "1a961956",
   "metadata": {},
   "outputs": [],
   "source": [
    "# Topic: Decorators\n",
    "def decorator(fn):\n",
    "    def wrapper():\n",
    "        print('Before')\n",
    "        fn()\n",
    "        print('After')\n",
    "    return wrapper\n",
    "@decorator\n",
    "def say(): print('Hi')\n",
    "say()"
   ]
  },
  {
   "cell_type": "code",
   "execution_count": null,
   "id": "444da69d",
   "metadata": {},
   "outputs": [],
   "source": [
    "# Topic: Decorators\n",
    "def decorator(fn):\n",
    "    def wrapper():\n",
    "        print('Before')\n",
    "        fn()\n",
    "        print('After')\n",
    "    return wrapper\n",
    "@decorator\n",
    "def say(): print('Hi')\n",
    "say()"
   ]
  },
  {
   "cell_type": "code",
   "execution_count": null,
   "id": "153d2b18",
   "metadata": {},
   "outputs": [],
   "source": [
    "# Topic: Decorators\n",
    "def decorator(fn):\n",
    "    def wrapper():\n",
    "        print('Before')\n",
    "        fn()\n",
    "        print('After')\n",
    "    return wrapper\n",
    "@decorator\n",
    "def say(): print('Hi')\n",
    "say()"
   ]
  },
  {
   "cell_type": "code",
   "execution_count": null,
   "id": "fc0acc99",
   "metadata": {},
   "outputs": [],
   "source": [
    "# Topic: File I/O\n",
    "with open('sample.txt') as f:\n",
    "    print(f.read())"
   ]
  }
 ],
 "metadata": {},
 "nbformat": 4,
 "nbformat_minor": 5
}
