{
 "cells": [
  {
   "cell_type": "code",
   "execution_count": null,
   "id": "9bf9aaf6",
   "metadata": {},
   "outputs": [],
   "source": [
    "# Topic: Decorators\n",
    "def log(func):\n",
    " def wrapper():\n",
    "  print('Call')\n",
    "  func()\n",
    " return wrapper\n",
    "@log\n",
    "def say(): print('Hi')\n",
    "say()"
   ]
  },
  {
   "cell_type": "code",
   "execution_count": null,
   "id": "e8c18387",
   "metadata": {},
   "outputs": [],
   "source": [
    "# Topic: Data Cleaning\n",
    "import pandas as pd\n",
    "df = pd.DataFrame({'A':[1,None,3]})\n",
    "df = df.fillna(0)\n",
    "print(df)"
   ]
  },
  {
   "cell_type": "code",
   "execution_count": null,
   "id": "5039e7cf",
   "metadata": {},
   "outputs": [],
   "source": [
    "# Topic: Algorithms\n",
    "# Bubble sort\n",
    "def bubble(arr):\n",
    " for i in range(len(arr)):\n",
    "  for j in range(0, len(arr)-i-1):\n",
    "   if arr[j]>arr[j+1]: arr[j],arr[j+1]=arr[j+1],arr[j]\n",
    "a=[5,3,8]\n",
    "bubble(a)\n",
    "print(a)"
   ]
  },
  {
   "cell_type": "code",
   "execution_count": null,
   "id": "887b8a5e",
   "metadata": {},
   "outputs": [],
   "source": [
    "# Topic: Pandas\n",
    "import pandas as pd\n",
    "df = pd.DataFrame({'A':[1,2],'B':[3,4]})\n",
    "print(df)"
   ]
  },
  {
   "cell_type": "code",
   "execution_count": null,
   "id": "56a09cec",
   "metadata": {},
   "outputs": [],
   "source": [
    "# Topic: Functions\n",
    "def greet(name='User'):\n",
    "    print(f'Hi, {name}')\n",
    "greet()"
   ]
  },
  {
   "cell_type": "code",
   "execution_count": null,
   "id": "faed757e",
   "metadata": {},
   "outputs": [],
   "source": [
    "# Topic: Mini Projects\n",
    "# Palindrome check\n",
    "def is_pal(s): return s == s[::-1]\n",
    "print(is_pal('madam'))"
   ]
  },
  {
   "cell_type": "code",
   "execution_count": null,
   "id": "9faa4ad9",
   "metadata": {},
   "outputs": [],
   "source": [
    "# Topic: Data Cleaning\n",
    "import pandas as pd\n",
    "df = pd.DataFrame({'A':[1,None,3]})\n",
    "df = df.fillna(0)\n",
    "print(df)"
   ]
  },
  {
   "cell_type": "code",
   "execution_count": null,
   "id": "a0acd2a6",
   "metadata": {},
   "outputs": [],
   "source": [
    "# Topic: Regex\n",
    "import re\n",
    "text = 'email: test@example.com'\n",
    "print(re.findall(r'\\S+@\\S+', text))"
   ]
  },
  {
   "cell_type": "code",
   "execution_count": null,
   "id": "71a6390b",
   "metadata": {},
   "outputs": [],
   "source": [
    "# Topic: Decorators\n",
    "def log(func):\n",
    " def wrapper():\n",
    "  print('Call')\n",
    "  func()\n",
    " return wrapper\n",
    "@log\n",
    "def say(): print('Hi')\n",
    "say()"
   ]
  },
  {
   "cell_type": "code",
   "execution_count": null,
   "id": "82740281",
   "metadata": {},
   "outputs": [],
   "source": [
    "# Topic: Pandas\n",
    "import pandas as pd\n",
    "df = pd.read_csv('file.csv')\n",
    "print(df.head())"
   ]
  },
  {
   "cell_type": "code",
   "execution_count": null,
   "id": "f5cea148",
   "metadata": {},
   "outputs": [],
   "source": [
    "# Topic: Loops\n",
    "for i in range(10): print(i*i)"
   ]
  },
  {
   "cell_type": "code",
   "execution_count": null,
   "id": "8544ea61",
   "metadata": {},
   "outputs": [],
   "source": [
    "# Topic: Loops\n",
    "while True:\n",
    "    print('Break')\n",
    "    break"
   ]
  },
  {
   "cell_type": "code",
   "execution_count": null,
   "id": "e7f131e6",
   "metadata": {},
   "outputs": [],
   "source": [
    "# Topic: Matplotlib & Seaborn\n",
    "import matplotlib.pyplot as plt\n",
    "plt.plot([1,2],[3,4])\n",
    "plt.show()"
   ]
  },
  {
   "cell_type": "code",
   "execution_count": null,
   "id": "ba39cb6d",
   "metadata": {},
   "outputs": [],
   "source": [
    "# Topic: JSON & CSV\n",
    "import json\n",
    "data = {'a': 1}\n",
    "print(json.dumps(data))"
   ]
  },
  {
   "cell_type": "code",
   "execution_count": null,
   "id": "cbe8ed96",
   "metadata": {},
   "outputs": [],
   "source": [
    "# Topic: Functions\n",
    "def greet(name='User'):\n",
    "    print(f'Hi, {name}')\n",
    "greet()"
   ]
  },
  {
   "cell_type": "code",
   "execution_count": null,
   "id": "2d81b943",
   "metadata": {},
   "outputs": [],
   "source": [
    "# Topic: Basic ML\n",
    "from sklearn.linear_model import LinearRegression\n",
    "model = LinearRegression()\n",
    "print(model)"
   ]
  },
  {
   "cell_type": "code",
   "execution_count": null,
   "id": "7c3a19e5",
   "metadata": {},
   "outputs": [],
   "source": [
    "# Topic: JSON & CSV\n",
    "import csv\n",
    "with open('file.csv', 'w', newline='') as f:\n",
    " csv.writer(f).writerow(['a','b','c'])"
   ]
  },
  {
   "cell_type": "code",
   "execution_count": null,
   "id": "30dfa074",
   "metadata": {},
   "outputs": [],
   "source": [
    "# Topic: OOP\n",
    "class Student:\n",
    "    def __init__(self, name): self.name = name\n",
    "s = Student('Fahd')\n",
    "print(s.name)"
   ]
  },
  {
   "cell_type": "code",
   "execution_count": null,
   "id": "a98f79f1",
   "metadata": {},
   "outputs": [],
   "source": [
    "# Topic: Mini Projects\n",
    "# Palindrome check\n",
    "def is_pal(s): return s == s[::-1]\n",
    "print(is_pal('madam'))"
   ]
  },
  {
   "cell_type": "code",
   "execution_count": null,
   "id": "9ae588dd",
   "metadata": {},
   "outputs": [],
   "source": [
    "# Topic: Recursion\n",
    "def fact(n): return 1 if n==0 else n*fact(n-1)\n",
    "print(fact(5))"
   ]
  },
  {
   "cell_type": "code",
   "execution_count": null,
   "id": "a143d620",
   "metadata": {},
   "outputs": [],
   "source": [
    "# Topic: Pandas\n",
    "import pandas as pd\n",
    "df = pd.read_csv('file.csv')\n",
    "print(df.head())"
   ]
  },
  {
   "cell_type": "code",
   "execution_count": null,
   "id": "a57a1072",
   "metadata": {},
   "outputs": [],
   "source": [
    "# Topic: CLI Tools\n",
    "import sys\n",
    "print(f'Arguments: {sys.argv}')"
   ]
  },
  {
   "cell_type": "code",
   "execution_count": null,
   "id": "747180d8",
   "metadata": {},
   "outputs": [],
   "source": [
    "# Topic: Basics\n",
    "name = 'Fahd'\n",
    "print(f'Hello, {name}')"
   ]
  },
  {
   "cell_type": "code",
   "execution_count": null,
   "id": "71544039",
   "metadata": {},
   "outputs": [],
   "source": [
    "# Topic: Matplotlib & Seaborn\n",
    "import matplotlib.pyplot as plt\n",
    "plt.plot([1,2],[3,4])\n",
    "plt.show()"
   ]
  },
  {
   "cell_type": "code",
   "execution_count": null,
   "id": "21ddcd73",
   "metadata": {},
   "outputs": [],
   "source": [
    "# Topic: Functions\n",
    "def greet(name='User'):\n",
    "    print(f'Hi, {name}')\n",
    "greet()"
   ]
  },
  {
   "cell_type": "code",
   "execution_count": null,
   "id": "eedeff0a",
   "metadata": {},
   "outputs": [],
   "source": [
    "# Topic: Dictionaries & Sets\n",
    "d = {'name': 'Fahd', 'age': 20}\n",
    "print(d.get('name'))"
   ]
  },
  {
   "cell_type": "code",
   "execution_count": null,
   "id": "5fc85941",
   "metadata": {},
   "outputs": [],
   "source": [
    "# Topic: OOP\n",
    "class Student:\n",
    "    def __init__(self, name): self.name = name\n",
    "s = Student('Fahd')\n",
    "print(s.name)"
   ]
  },
  {
   "cell_type": "code",
   "execution_count": null,
   "id": "de72626a",
   "metadata": {},
   "outputs": [],
   "source": [
    "# Topic: Mini Projects\n",
    "# Calculator\n",
    "def calc(a,b,op): return eval(f'{a}{op}{b}')\n",
    "print(calc(5,2,'+'))"
   ]
  },
  {
   "cell_type": "code",
   "execution_count": null,
   "id": "35b056e2",
   "metadata": {},
   "outputs": [],
   "source": [
    "# Topic: Recursion\n",
    "def fact(n): return 1 if n==0 else n*fact(n-1)\n",
    "print(fact(5))"
   ]
  },
  {
   "cell_type": "code",
   "execution_count": null,
   "id": "28b6730c",
   "metadata": {},
   "outputs": [],
   "source": [
    "# Topic: File I/O\n",
    "with open('test.txt', 'w') as f:\n",
    "    f.write('Hello World')"
   ]
  },
  {
   "cell_type": "code",
   "execution_count": null,
   "id": "9d6bfe48",
   "metadata": {},
   "outputs": [],
   "source": [
    "# Topic: Basics\n",
    "name = 'Fahd'\n",
    "print(f'Hello, {name}')"
   ]
  },
  {
   "cell_type": "code",
   "execution_count": null,
   "id": "da4339dd",
   "metadata": {},
   "outputs": [],
   "source": [
    "# Topic: JSON & CSV\n",
    "import csv\n",
    "with open('file.csv', 'w', newline='') as f:\n",
    " csv.writer(f).writerow(['a','b','c'])"
   ]
  },
  {
   "cell_type": "code",
   "execution_count": null,
   "id": "afc8b5c4",
   "metadata": {},
   "outputs": [],
   "source": [
    "# Topic: Decorators\n",
    "def log(func):\n",
    " def wrapper():\n",
    "  print('Call')\n",
    "  func()\n",
    " return wrapper\n",
    "@log\n",
    "def say(): print('Hi')\n",
    "say()"
   ]
  },
  {
   "cell_type": "code",
   "execution_count": null,
   "id": "c85e859d",
   "metadata": {},
   "outputs": [],
   "source": [
    "# Topic: Matplotlib & Seaborn\n",
    "import matplotlib.pyplot as plt\n",
    "plt.plot([1,2],[3,4])\n",
    "plt.show()"
   ]
  },
  {
   "cell_type": "code",
   "execution_count": null,
   "id": "97069a73",
   "metadata": {},
   "outputs": [],
   "source": [
    "# Topic: Functions\n",
    "def square(x): return x*x\n",
    "print(square(5))"
   ]
  },
  {
   "cell_type": "code",
   "execution_count": null,
   "id": "41a33be9",
   "metadata": {},
   "outputs": [],
   "source": [
    "# Topic: Basics\n",
    "x = 10\n",
    "y = 20\n",
    "print(x + y)"
   ]
  },
  {
   "cell_type": "code",
   "execution_count": null,
   "id": "1138cb52",
   "metadata": {},
   "outputs": [],
   "source": [
    "# Topic: CLI Tools\n",
    "import sys\n",
    "print(f'Arguments: {sys.argv}')"
   ]
  },
  {
   "cell_type": "code",
   "execution_count": null,
   "id": "92ed48c2",
   "metadata": {},
   "outputs": [],
   "source": [
    "# Topic: Regex\n",
    "import re\n",
    "text = 'email: test@example.com'\n",
    "print(re.findall(r'\\S+@\\S+', text))"
   ]
  },
  {
   "cell_type": "code",
   "execution_count": null,
   "id": "83fe04a7",
   "metadata": {},
   "outputs": [],
   "source": [
    "# Topic: Basics\n",
    "x = 10\n",
    "y = 20\n",
    "print(x + y)"
   ]
  },
  {
   "cell_type": "code",
   "execution_count": null,
   "id": "6ac3570f",
   "metadata": {},
   "outputs": [],
   "source": [
    "# Topic: Regex\n",
    "import re\n",
    "text = 'email: test@example.com'\n",
    "print(re.findall(r'\\S+@\\S+', text))"
   ]
  },
  {
   "cell_type": "code",
   "execution_count": null,
   "id": "76694502",
   "metadata": {},
   "outputs": [],
   "source": [
    "# Topic: NumPy\n",
    "import numpy as np\n",
    "print(np.linspace(0, 1, 5))"
   ]
  },
  {
   "cell_type": "code",
   "execution_count": null,
   "id": "3cd19f89",
   "metadata": {},
   "outputs": [],
   "source": [
    "# Topic: Functions\n",
    "def greet(name='User'):\n",
    "    print(f'Hi, {name}')\n",
    "greet()"
   ]
  },
  {
   "cell_type": "code",
   "execution_count": null,
   "id": "9e5a6cba",
   "metadata": {},
   "outputs": [],
   "source": [
    "# Topic: Lists & Tuples\n",
    "lst = [1, 2, 3]\n",
    "lst.append(4)\n",
    "print(lst)"
   ]
  },
  {
   "cell_type": "code",
   "execution_count": null,
   "id": "0843152d",
   "metadata": {},
   "outputs": [],
   "source": [
    "# Topic: JSON & CSV\n",
    "import json\n",
    "data = {'a': 1}\n",
    "print(json.dumps(data))"
   ]
  },
  {
   "cell_type": "code",
   "execution_count": null,
   "id": "b11a442e",
   "metadata": {},
   "outputs": [],
   "source": [
    "# Topic: Basic ML\n",
    "from sklearn.linear_model import LinearRegression\n",
    "model = LinearRegression()\n",
    "print(model)"
   ]
  },
  {
   "cell_type": "code",
   "execution_count": null,
   "id": "242a8a6e",
   "metadata": {},
   "outputs": [],
   "source": [
    "# Topic: Mini Projects\n",
    "# Calculator\n",
    "def calc(a,b,op): return eval(f'{a}{op}{b}')\n",
    "print(calc(5,2,'+'))"
   ]
  },
  {
   "cell_type": "code",
   "execution_count": null,
   "id": "3ba534c4",
   "metadata": {},
   "outputs": [],
   "source": [
    "# Topic: Recursion\n",
    "def fact(n): return 1 if n==0 else n*fact(n-1)\n",
    "print(fact(5))"
   ]
  },
  {
   "cell_type": "code",
   "execution_count": null,
   "id": "531415fa",
   "metadata": {},
   "outputs": [],
   "source": [
    "# Topic: Decorators\n",
    "def log(func):\n",
    " def wrapper():\n",
    "  print('Call')\n",
    "  func()\n",
    " return wrapper\n",
    "@log\n",
    "def say(): print('Hi')\n",
    "say()"
   ]
  },
  {
   "cell_type": "code",
   "execution_count": null,
   "id": "fe1db6ab",
   "metadata": {},
   "outputs": [],
   "source": [
    "# Topic: Regex\n",
    "import re\n",
    "text = 'email: test@example.com'\n",
    "print(re.findall(r'\\S+@\\S+', text))"
   ]
  },
  {
   "cell_type": "code",
   "execution_count": null,
   "id": "c1785f4e",
   "metadata": {},
   "outputs": [],
   "source": [
    "# Topic: Web Scraping\n",
    "import requests\n",
    "from bs4 import BeautifulSoup\n",
    "r = requests.get('https://example.com')\n",
    "soup = BeautifulSoup(r.text, 'html.parser')\n",
    "print(soup.title.text)"
   ]
  },
  {
   "cell_type": "code",
   "execution_count": null,
   "id": "d5539a49",
   "metadata": {},
   "outputs": [],
   "source": [
    "# Topic: Algorithms\n",
    "# Bubble sort\n",
    "def bubble(arr):\n",
    " for i in range(len(arr)):\n",
    "  for j in range(0, len(arr)-i-1):\n",
    "   if arr[j]>arr[j+1]: arr[j],arr[j+1]=arr[j+1],arr[j]\n",
    "a=[5,3,8]\n",
    "bubble(a)\n",
    "print(a)"
   ]
  },
  {
   "cell_type": "code",
   "execution_count": null,
   "id": "85cc4c68",
   "metadata": {},
   "outputs": [],
   "source": [
    "# Topic: Decorators\n",
    "def log(func):\n",
    " def wrapper():\n",
    "  print('Call')\n",
    "  func()\n",
    " return wrapper\n",
    "@log\n",
    "def say(): print('Hi')\n",
    "say()"
   ]
  },
  {
   "cell_type": "code",
   "execution_count": null,
   "id": "65ccfe94",
   "metadata": {},
   "outputs": [],
   "source": [
    "# Topic: NumPy\n",
    "import numpy as np\n",
    "a = np.array([1, 2, 3])\n",
    "print(a + 5)"
   ]
  },
  {
   "cell_type": "code",
   "execution_count": null,
   "id": "fd8a075f",
   "metadata": {},
   "outputs": [],
   "source": [
    "# Topic: Basics\n",
    "x = 10\n",
    "y = 20\n",
    "print(x + y)"
   ]
  },
  {
   "cell_type": "code",
   "execution_count": null,
   "id": "7471b956",
   "metadata": {},
   "outputs": [],
   "source": [
    "# Topic: Basics\n",
    "x = 10\n",
    "y = 20\n",
    "print(x + y)"
   ]
  },
  {
   "cell_type": "code",
   "execution_count": null,
   "id": "092f1d99",
   "metadata": {},
   "outputs": [],
   "source": [
    "# Topic: Data Cleaning\n",
    "import pandas as pd\n",
    "df = pd.DataFrame({'A':[1,None,3]})\n",
    "df = df.fillna(0)\n",
    "print(df)"
   ]
  },
  {
   "cell_type": "code",
   "execution_count": null,
   "id": "6e6917f1",
   "metadata": {},
   "outputs": [],
   "source": [
    "# Topic: Pandas\n",
    "import pandas as pd\n",
    "df = pd.DataFrame({'A':[1,2],'B':[3,4]})\n",
    "print(df)"
   ]
  },
  {
   "cell_type": "code",
   "execution_count": null,
   "id": "4a166405",
   "metadata": {},
   "outputs": [],
   "source": [
    "# Topic: Dictionaries & Sets\n",
    "d = {'name': 'Fahd', 'age': 20}\n",
    "print(d.get('name'))"
   ]
  },
  {
   "cell_type": "code",
   "execution_count": null,
   "id": "f76f42af",
   "metadata": {},
   "outputs": [],
   "source": [
    "# Topic: Basics\n",
    "name = 'Fahd'\n",
    "print(f'Hello, {name}')"
   ]
  },
  {
   "cell_type": "code",
   "execution_count": null,
   "id": "08113ace",
   "metadata": {},
   "outputs": [],
   "source": [
    "# Topic: Dictionaries & Sets\n",
    "s = set([1, 2, 3, 2])\n",
    "print(s)"
   ]
  },
  {
   "cell_type": "code",
   "execution_count": null,
   "id": "08d525f9",
   "metadata": {},
   "outputs": [],
   "source": [
    "# Topic: Web Scraping\n",
    "import requests\n",
    "from bs4 import BeautifulSoup\n",
    "r = requests.get('https://example.com')\n",
    "soup = BeautifulSoup(r.text, 'html.parser')\n",
    "print(soup.title.text)"
   ]
  },
  {
   "cell_type": "code",
   "execution_count": null,
   "id": "de11fe90",
   "metadata": {},
   "outputs": [],
   "source": [
    "# Topic: Matplotlib & Seaborn\n",
    "import seaborn as sns\n",
    "import pandas as pd\n",
    "sns.set()\n",
    "sns.histplot(pd.Series([1,2,2,3]));"
   ]
  },
  {
   "cell_type": "code",
   "execution_count": null,
   "id": "f12adf37",
   "metadata": {},
   "outputs": [],
   "source": [
    "# Topic: Decorators\n",
    "def log(func):\n",
    " def wrapper():\n",
    "  print('Call')\n",
    "  func()\n",
    " return wrapper\n",
    "@log\n",
    "def say(): print('Hi')\n",
    "say()"
   ]
  },
  {
   "cell_type": "code",
   "execution_count": null,
   "id": "8fdac5d5",
   "metadata": {},
   "outputs": [],
   "source": [
    "# Topic: Matplotlib & Seaborn\n",
    "import seaborn as sns\n",
    "import pandas as pd\n",
    "sns.set()\n",
    "sns.histplot(pd.Series([1,2,2,3]));"
   ]
  },
  {
   "cell_type": "code",
   "execution_count": null,
   "id": "c7d6b4ec",
   "metadata": {},
   "outputs": [],
   "source": [
    "# Topic: Lists & Tuples\n",
    "t = (1, 2, 3)\n",
    "print(t[0])"
   ]
  },
  {
   "cell_type": "code",
   "execution_count": null,
   "id": "c51e044a",
   "metadata": {},
   "outputs": [],
   "source": [
    "# Topic: Basics\n",
    "name = 'Fahd'\n",
    "print(f'Hello, {name}')"
   ]
  },
  {
   "cell_type": "code",
   "execution_count": null,
   "id": "5e2b6185",
   "metadata": {},
   "outputs": [],
   "source": [
    "# Topic: Recursion\n",
    "def fact(n): return 1 if n==0 else n*fact(n-1)\n",
    "print(fact(5))"
   ]
  },
  {
   "cell_type": "code",
   "execution_count": null,
   "id": "4178ae45",
   "metadata": {},
   "outputs": [],
   "source": [
    "# Topic: File I/O\n",
    "with open('test.txt', 'w') as f:\n",
    "    f.write('Hello World')"
   ]
  },
  {
   "cell_type": "code",
   "execution_count": null,
   "id": "c14cfc04",
   "metadata": {},
   "outputs": [],
   "source": [
    "# Topic: JSON & CSV\n",
    "import csv\n",
    "with open('file.csv', 'w', newline='') as f:\n",
    " csv.writer(f).writerow(['a','b','c'])"
   ]
  },
  {
   "cell_type": "code",
   "execution_count": null,
   "id": "3ec2f3dd",
   "metadata": {},
   "outputs": [],
   "source": [
    "# Topic: Algorithms\n",
    "# Bubble sort\n",
    "def bubble(arr):\n",
    " for i in range(len(arr)):\n",
    "  for j in range(0, len(arr)-i-1):\n",
    "   if arr[j]>arr[j+1]: arr[j],arr[j+1]=arr[j+1],arr[j]\n",
    "a=[5,3,8]\n",
    "bubble(a)\n",
    "print(a)"
   ]
  },
  {
   "cell_type": "code",
   "execution_count": null,
   "id": "f68ee636",
   "metadata": {},
   "outputs": [],
   "source": [
    "# Topic: File I/O\n",
    "with open('test.txt', 'w') as f:\n",
    "    f.write('Hello World')"
   ]
  },
  {
   "cell_type": "code",
   "execution_count": null,
   "id": "ba524a24",
   "metadata": {},
   "outputs": [],
   "source": [
    "# Topic: Web Scraping\n",
    "import requests\n",
    "from bs4 import BeautifulSoup\n",
    "r = requests.get('https://example.com')\n",
    "soup = BeautifulSoup(r.text, 'html.parser')\n",
    "print(soup.title.text)"
   ]
  },
  {
   "cell_type": "code",
   "execution_count": null,
   "id": "e94111af",
   "metadata": {},
   "outputs": [],
   "source": [
    "# Topic: Loops\n",
    "while True:\n",
    "    print('Break')\n",
    "    break"
   ]
  },
  {
   "cell_type": "code",
   "execution_count": null,
   "id": "5dfe8e3f",
   "metadata": {},
   "outputs": [],
   "source": [
    "# Topic: Basics\n",
    "name = 'Fahd'\n",
    "print(f'Hello, {name}')"
   ]
  },
  {
   "cell_type": "code",
   "execution_count": null,
   "id": "7894fe9c",
   "metadata": {},
   "outputs": [],
   "source": [
    "# Topic: OOP\n",
    "class Student:\n",
    "    def __init__(self, name): self.name = name\n",
    "s = Student('Fahd')\n",
    "print(s.name)"
   ]
  },
  {
   "cell_type": "code",
   "execution_count": null,
   "id": "c6fb99f0",
   "metadata": {},
   "outputs": [],
   "source": [
    "# Topic: File I/O\n",
    "with open('test.txt', 'r') as f:\n",
    "    print(f.read())"
   ]
  },
  {
   "cell_type": "code",
   "execution_count": null,
   "id": "2d41845d",
   "metadata": {},
   "outputs": [],
   "source": [
    "# Topic: NumPy\n",
    "import numpy as np\n",
    "print(np.linspace(0, 1, 5))"
   ]
  },
  {
   "cell_type": "code",
   "execution_count": null,
   "id": "64ce1924",
   "metadata": {},
   "outputs": [],
   "source": [
    "# Topic: Basics\n",
    "name = 'Fahd'\n",
    "print(f'Hello, {name}')"
   ]
  },
  {
   "cell_type": "code",
   "execution_count": null,
   "id": "5d72e468",
   "metadata": {},
   "outputs": [],
   "source": [
    "# Topic: Recursion\n",
    "def fact(n): return 1 if n==0 else n*fact(n-1)\n",
    "print(fact(5))"
   ]
  },
  {
   "cell_type": "code",
   "execution_count": null,
   "id": "95d51a33",
   "metadata": {},
   "outputs": [],
   "source": [
    "# Topic: Regex\n",
    "import re\n",
    "text = 'email: test@example.com'\n",
    "print(re.findall(r'\\S+@\\S+', text))"
   ]
  },
  {
   "cell_type": "code",
   "execution_count": null,
   "id": "7966897d",
   "metadata": {},
   "outputs": [],
   "source": [
    "# Topic: Lists & Tuples\n",
    "lst = [1, 2, 3]\n",
    "lst.append(4)\n",
    "print(lst)"
   ]
  },
  {
   "cell_type": "code",
   "execution_count": null,
   "id": "b89270dd",
   "metadata": {},
   "outputs": [],
   "source": [
    "# Topic: Functions\n",
    "def greet(name='User'):\n",
    "    print(f'Hi, {name}')\n",
    "greet()"
   ]
  },
  {
   "cell_type": "code",
   "execution_count": null,
   "id": "9c196b02",
   "metadata": {},
   "outputs": [],
   "source": [
    "# Topic: NumPy\n",
    "import numpy as np\n",
    "a = np.array([1, 2, 3])\n",
    "print(a + 5)"
   ]
  },
  {
   "cell_type": "code",
   "execution_count": null,
   "id": "cb867ca9",
   "metadata": {},
   "outputs": [],
   "source": [
    "# Topic: Web Scraping\n",
    "import requests\n",
    "from bs4 import BeautifulSoup\n",
    "r = requests.get('https://example.com')\n",
    "soup = BeautifulSoup(r.text, 'html.parser')\n",
    "print(soup.title.text)"
   ]
  },
  {
   "cell_type": "code",
   "execution_count": null,
   "id": "4276c34c",
   "metadata": {},
   "outputs": [],
   "source": [
    "# Topic: Lists & Tuples\n",
    "t = (1, 2, 3)\n",
    "print(t[0])"
   ]
  },
  {
   "cell_type": "code",
   "execution_count": null,
   "id": "d8de5caf",
   "metadata": {},
   "outputs": [],
   "source": [
    "# Topic: Recursion\n",
    "def fact(n): return 1 if n==0 else n*fact(n-1)\n",
    "print(fact(5))"
   ]
  },
  {
   "cell_type": "code",
   "execution_count": null,
   "id": "ad23f1ac",
   "metadata": {},
   "outputs": [],
   "source": [
    "# Topic: Decorators\n",
    "def log(func):\n",
    " def wrapper():\n",
    "  print('Call')\n",
    "  func()\n",
    " return wrapper\n",
    "@log\n",
    "def say(): print('Hi')\n",
    "say()"
   ]
  },
  {
   "cell_type": "code",
   "execution_count": null,
   "id": "49021c9f",
   "metadata": {},
   "outputs": [],
   "source": [
    "# Topic: Matplotlib & Seaborn\n",
    "import seaborn as sns\n",
    "import pandas as pd\n",
    "sns.set()\n",
    "sns.histplot(pd.Series([1,2,2,3]));"
   ]
  },
  {
   "cell_type": "code",
   "execution_count": null,
   "id": "715c30fc",
   "metadata": {},
   "outputs": [],
   "source": [
    "# Topic: Mini Projects\n",
    "# Palindrome check\n",
    "def is_pal(s): return s == s[::-1]\n",
    "print(is_pal('madam'))"
   ]
  },
  {
   "cell_type": "code",
   "execution_count": null,
   "id": "3f4bdbf8",
   "metadata": {},
   "outputs": [],
   "source": [
    "# Topic: Loops\n",
    "for i in range(10): print(i*i)"
   ]
  },
  {
   "cell_type": "code",
   "execution_count": null,
   "id": "822bce09",
   "metadata": {},
   "outputs": [],
   "source": [
    "# Topic: Algorithms\n",
    "# Bubble sort\n",
    "def bubble(arr):\n",
    " for i in range(len(arr)):\n",
    "  for j in range(0, len(arr)-i-1):\n",
    "   if arr[j]>arr[j+1]: arr[j],arr[j+1]=arr[j+1],arr[j]\n",
    "a=[5,3,8]\n",
    "bubble(a)\n",
    "print(a)"
   ]
  },
  {
   "cell_type": "code",
   "execution_count": null,
   "id": "48bb8914",
   "metadata": {},
   "outputs": [],
   "source": [
    "# Topic: NumPy\n",
    "import numpy as np\n",
    "a = np.array([1, 2, 3])\n",
    "print(a + 5)"
   ]
  },
  {
   "cell_type": "code",
   "execution_count": null,
   "id": "aaff87a3",
   "metadata": {},
   "outputs": [],
   "source": [
    "# Topic: JSON & CSV\n",
    "import json\n",
    "data = {'a': 1}\n",
    "print(json.dumps(data))"
   ]
  },
  {
   "cell_type": "code",
   "execution_count": null,
   "id": "92bb5db6",
   "metadata": {},
   "outputs": [],
   "source": [
    "# Topic: Web Scraping\n",
    "import requests\n",
    "from bs4 import BeautifulSoup\n",
    "r = requests.get('https://example.com')\n",
    "soup = BeautifulSoup(r.text, 'html.parser')\n",
    "print(soup.title.text)"
   ]
  },
  {
   "cell_type": "code",
   "execution_count": null,
   "id": "28827546",
   "metadata": {},
   "outputs": [],
   "source": [
    "# Topic: Recursion\n",
    "def fact(n): return 1 if n==0 else n*fact(n-1)\n",
    "print(fact(5))"
   ]
  },
  {
   "cell_type": "code",
   "execution_count": null,
   "id": "95d54916",
   "metadata": {},
   "outputs": [],
   "source": [
    "# Topic: File I/O\n",
    "with open('test.txt', 'r') as f:\n",
    "    print(f.read())"
   ]
  },
  {
   "cell_type": "code",
   "execution_count": null,
   "id": "8aa2e021",
   "metadata": {},
   "outputs": [],
   "source": [
    "# Topic: Functions\n",
    "def greet(name='User'):\n",
    "    print(f'Hi, {name}')\n",
    "greet()"
   ]
  },
  {
   "cell_type": "code",
   "execution_count": null,
   "id": "f49e2934",
   "metadata": {},
   "outputs": [],
   "source": [
    "# Topic: Regex\n",
    "import re\n",
    "text = 'email: test@example.com'\n",
    "print(re.findall(r'\\S+@\\S+', text))"
   ]
  },
  {
   "cell_type": "code",
   "execution_count": null,
   "id": "ce27bc1c",
   "metadata": {},
   "outputs": [],
   "source": [
    "# Topic: Regex\n",
    "import re\n",
    "text = 'email: test@example.com'\n",
    "print(re.findall(r'\\S+@\\S+', text))"
   ]
  },
  {
   "cell_type": "code",
   "execution_count": null,
   "id": "0be5cf9e",
   "metadata": {},
   "outputs": [],
   "source": [
    "# Topic: Web Scraping\n",
    "import requests\n",
    "from bs4 import BeautifulSoup\n",
    "r = requests.get('https://example.com')\n",
    "soup = BeautifulSoup(r.text, 'html.parser')\n",
    "print(soup.title.text)"
   ]
  },
  {
   "cell_type": "code",
   "execution_count": null,
   "id": "576f43d5",
   "metadata": {},
   "outputs": [],
   "source": [
    "# Topic: Functions\n",
    "def greet(name='User'):\n",
    "    print(f'Hi, {name}')\n",
    "greet()"
   ]
  },
  {
   "cell_type": "code",
   "execution_count": null,
   "id": "c87b67fd",
   "metadata": {},
   "outputs": [],
   "source": [
    "# Topic: Data Cleaning\n",
    "import pandas as pd\n",
    "df = pd.DataFrame({'A':[1,None,3]})\n",
    "df = df.fillna(0)\n",
    "print(df)"
   ]
  },
  {
   "cell_type": "code",
   "execution_count": null,
   "id": "d8879f41",
   "metadata": {},
   "outputs": [],
   "source": [
    "# Topic: Dictionaries & Sets\n",
    "d = {'name': 'Fahd', 'age': 20}\n",
    "print(d.get('name'))"
   ]
  },
  {
   "cell_type": "code",
   "execution_count": null,
   "id": "de3296ec",
   "metadata": {},
   "outputs": [],
   "source": [
    "# Topic: Loops\n",
    "while True:\n",
    "    print('Break')\n",
    "    break"
   ]
  },
  {
   "cell_type": "code",
   "execution_count": null,
   "id": "3896ff77",
   "metadata": {},
   "outputs": [],
   "source": [
    "# Topic: Loops\n",
    "while True:\n",
    "    print('Break')\n",
    "    break"
   ]
  },
  {
   "cell_type": "code",
   "execution_count": null,
   "id": "97fb01af",
   "metadata": {},
   "outputs": [],
   "source": [
    "# Topic: Algorithms\n",
    "# Bubble sort\n",
    "def bubble(arr):\n",
    " for i in range(len(arr)):\n",
    "  for j in range(0, len(arr)-i-1):\n",
    "   if arr[j]>arr[j+1]: arr[j],arr[j+1]=arr[j+1],arr[j]\n",
    "a=[5,3,8]\n",
    "bubble(a)\n",
    "print(a)"
   ]
  },
  {
   "cell_type": "code",
   "execution_count": null,
   "id": "99260094",
   "metadata": {},
   "outputs": [],
   "source": [
    "# Topic: Data Cleaning\n",
    "import pandas as pd\n",
    "df = pd.DataFrame({'A':[1,None,3]})\n",
    "df = df.fillna(0)\n",
    "print(df)"
   ]
  },
  {
   "cell_type": "code",
   "execution_count": null,
   "id": "63ef54b4",
   "metadata": {},
   "outputs": [],
   "source": [
    "# Topic: Basics\n",
    "name = 'Fahd'\n",
    "print(f'Hello, {name}')"
   ]
  },
  {
   "cell_type": "code",
   "execution_count": null,
   "id": "d05fc0b3",
   "metadata": {},
   "outputs": [],
   "source": [
    "# Topic: Lists & Tuples\n",
    "t = (1, 2, 3)\n",
    "print(t[0])"
   ]
  },
  {
   "cell_type": "code",
   "execution_count": null,
   "id": "560c0bcc",
   "metadata": {},
   "outputs": [],
   "source": [
    "# Topic: Pandas\n",
    "import pandas as pd\n",
    "df = pd.read_csv('file.csv')\n",
    "print(df.head())"
   ]
  },
  {
   "cell_type": "code",
   "execution_count": null,
   "id": "d01f6c05",
   "metadata": {},
   "outputs": [],
   "source": [
    "# Topic: Lists & Tuples\n",
    "lst = [1, 2, 3]\n",
    "lst.append(4)\n",
    "print(lst)"
   ]
  },
  {
   "cell_type": "code",
   "execution_count": null,
   "id": "855fa4e5",
   "metadata": {},
   "outputs": [],
   "source": [
    "# Topic: NumPy\n",
    "import numpy as np\n",
    "a = np.array([1, 2, 3])\n",
    "print(a + 5)"
   ]
  },
  {
   "cell_type": "code",
   "execution_count": null,
   "id": "45a09236",
   "metadata": {},
   "outputs": [],
   "source": [
    "# Topic: Web Scraping\n",
    "import requests\n",
    "from bs4 import BeautifulSoup\n",
    "r = requests.get('https://example.com')\n",
    "soup = BeautifulSoup(r.text, 'html.parser')\n",
    "print(soup.title.text)"
   ]
  },
  {
   "cell_type": "code",
   "execution_count": null,
   "id": "5df49c60",
   "metadata": {},
   "outputs": [],
   "source": [
    "# Topic: Dictionaries & Sets\n",
    "s = set([1, 2, 3, 2])\n",
    "print(s)"
   ]
  },
  {
   "cell_type": "code",
   "execution_count": null,
   "id": "0bf820a4",
   "metadata": {},
   "outputs": [],
   "source": [
    "# Topic: Dictionaries & Sets\n",
    "s = set([1, 2, 3, 2])\n",
    "print(s)"
   ]
  },
  {
   "cell_type": "code",
   "execution_count": null,
   "id": "1e9a309a",
   "metadata": {},
   "outputs": [],
   "source": [
    "# Topic: Regex\n",
    "import re\n",
    "text = 'email: test@example.com'\n",
    "print(re.findall(r'\\S+@\\S+', text))"
   ]
  },
  {
   "cell_type": "code",
   "execution_count": null,
   "id": "44c9654b",
   "metadata": {},
   "outputs": [],
   "source": [
    "# Topic: Loops\n",
    "for i in range(10): print(i*i)"
   ]
  },
  {
   "cell_type": "code",
   "execution_count": null,
   "id": "5285f582",
   "metadata": {},
   "outputs": [],
   "source": [
    "# Topic: Functions\n",
    "def square(x): return x*x\n",
    "print(square(5))"
   ]
  },
  {
   "cell_type": "code",
   "execution_count": null,
   "id": "368e8628",
   "metadata": {},
   "outputs": [],
   "source": [
    "# Topic: Data Cleaning\n",
    "import pandas as pd\n",
    "df = pd.DataFrame({'A':[1,None,3]})\n",
    "df = df.fillna(0)\n",
    "print(df)"
   ]
  },
  {
   "cell_type": "code",
   "execution_count": null,
   "id": "ffcaa51d",
   "metadata": {},
   "outputs": [],
   "source": [
    "# Topic: Decorators\n",
    "def log(func):\n",
    " def wrapper():\n",
    "  print('Call')\n",
    "  func()\n",
    " return wrapper\n",
    "@log\n",
    "def say(): print('Hi')\n",
    "say()"
   ]
  },
  {
   "cell_type": "code",
   "execution_count": null,
   "id": "d5fbcdec",
   "metadata": {},
   "outputs": [],
   "source": [
    "# Topic: Regex\n",
    "import re\n",
    "text = 'email: test@example.com'\n",
    "print(re.findall(r'\\S+@\\S+', text))"
   ]
  },
  {
   "cell_type": "code",
   "execution_count": null,
   "id": "2e630185",
   "metadata": {},
   "outputs": [],
   "source": [
    "# Topic: Web Scraping\n",
    "import requests\n",
    "from bs4 import BeautifulSoup\n",
    "r = requests.get('https://example.com')\n",
    "soup = BeautifulSoup(r.text, 'html.parser')\n",
    "print(soup.title.text)"
   ]
  },
  {
   "cell_type": "code",
   "execution_count": null,
   "id": "d9fd1610",
   "metadata": {},
   "outputs": [],
   "source": [
    "# Topic: JSON & CSV\n",
    "import csv\n",
    "with open('file.csv', 'w', newline='') as f:\n",
    " csv.writer(f).writerow(['a','b','c'])"
   ]
  },
  {
   "cell_type": "code",
   "execution_count": null,
   "id": "fa8c3548",
   "metadata": {},
   "outputs": [],
   "source": [
    "# Topic: Mini Projects\n",
    "# Palindrome check\n",
    "def is_pal(s): return s == s[::-1]\n",
    "print(is_pal('madam'))"
   ]
  },
  {
   "cell_type": "code",
   "execution_count": null,
   "id": "13a41fb6",
   "metadata": {},
   "outputs": [],
   "source": [
    "# Topic: Dictionaries & Sets\n",
    "s = set([1, 2, 3, 2])\n",
    "print(s)"
   ]
  },
  {
   "cell_type": "code",
   "execution_count": null,
   "id": "66767069",
   "metadata": {},
   "outputs": [],
   "source": [
    "# Topic: Functions\n",
    "def square(x): return x*x\n",
    "print(square(5))"
   ]
  },
  {
   "cell_type": "code",
   "execution_count": null,
   "id": "3083b824",
   "metadata": {},
   "outputs": [],
   "source": [
    "# Topic: Dictionaries & Sets\n",
    "s = set([1, 2, 3, 2])\n",
    "print(s)"
   ]
  },
  {
   "cell_type": "code",
   "execution_count": null,
   "id": "ca1b510e",
   "metadata": {},
   "outputs": [],
   "source": [
    "# Topic: Algorithms\n",
    "# Bubble sort\n",
    "def bubble(arr):\n",
    " for i in range(len(arr)):\n",
    "  for j in range(0, len(arr)-i-1):\n",
    "   if arr[j]>arr[j+1]: arr[j],arr[j+1]=arr[j+1],arr[j]\n",
    "a=[5,3,8]\n",
    "bubble(a)\n",
    "print(a)"
   ]
  },
  {
   "cell_type": "code",
   "execution_count": null,
   "id": "0f873a37",
   "metadata": {},
   "outputs": [],
   "source": [
    "# Topic: CLI Tools\n",
    "import sys\n",
    "print(f'Arguments: {sys.argv}')"
   ]
  },
  {
   "cell_type": "code",
   "execution_count": null,
   "id": "b589726d",
   "metadata": {},
   "outputs": [],
   "source": [
    "# Topic: NumPy\n",
    "import numpy as np\n",
    "a = np.array([1, 2, 3])\n",
    "print(a + 5)"
   ]
  },
  {
   "cell_type": "code",
   "execution_count": null,
   "id": "5c7d6ba5",
   "metadata": {},
   "outputs": [],
   "source": [
    "# Topic: Algorithms\n",
    "# Bubble sort\n",
    "def bubble(arr):\n",
    " for i in range(len(arr)):\n",
    "  for j in range(0, len(arr)-i-1):\n",
    "   if arr[j]>arr[j+1]: arr[j],arr[j+1]=arr[j+1],arr[j]\n",
    "a=[5,3,8]\n",
    "bubble(a)\n",
    "print(a)"
   ]
  },
  {
   "cell_type": "code",
   "execution_count": null,
   "id": "4dddcbcb",
   "metadata": {},
   "outputs": [],
   "source": [
    "# Topic: Regex\n",
    "import re\n",
    "text = 'email: test@example.com'\n",
    "print(re.findall(r'\\S+@\\S+', text))"
   ]
  },
  {
   "cell_type": "code",
   "execution_count": null,
   "id": "510be066",
   "metadata": {},
   "outputs": [],
   "source": [
    "# Topic: Functions\n",
    "def greet(name='User'):\n",
    "    print(f'Hi, {name}')\n",
    "greet()"
   ]
  },
  {
   "cell_type": "code",
   "execution_count": null,
   "id": "f5d62d9b",
   "metadata": {},
   "outputs": [],
   "source": [
    "# Topic: Dictionaries & Sets\n",
    "d = {'name': 'Fahd', 'age': 20}\n",
    "print(d.get('name'))"
   ]
  },
  {
   "cell_type": "code",
   "execution_count": null,
   "id": "f7de34d4",
   "metadata": {},
   "outputs": [],
   "source": [
    "# Topic: Recursion\n",
    "def fact(n): return 1 if n==0 else n*fact(n-1)\n",
    "print(fact(5))"
   ]
  },
  {
   "cell_type": "code",
   "execution_count": null,
   "id": "9805b406",
   "metadata": {},
   "outputs": [],
   "source": [
    "# Topic: Dictionaries & Sets\n",
    "s = set([1, 2, 3, 2])\n",
    "print(s)"
   ]
  },
  {
   "cell_type": "code",
   "execution_count": null,
   "id": "6119441e",
   "metadata": {},
   "outputs": [],
   "source": [
    "# Topic: Algorithms\n",
    "# Bubble sort\n",
    "def bubble(arr):\n",
    " for i in range(len(arr)):\n",
    "  for j in range(0, len(arr)-i-1):\n",
    "   if arr[j]>arr[j+1]: arr[j],arr[j+1]=arr[j+1],arr[j]\n",
    "a=[5,3,8]\n",
    "bubble(a)\n",
    "print(a)"
   ]
  },
  {
   "cell_type": "code",
   "execution_count": null,
   "id": "1a5962bd",
   "metadata": {},
   "outputs": [],
   "source": [
    "# Topic: NumPy\n",
    "import numpy as np\n",
    "a = np.array([1, 2, 3])\n",
    "print(a + 5)"
   ]
  },
  {
   "cell_type": "code",
   "execution_count": null,
   "id": "ad8f52d1",
   "metadata": {},
   "outputs": [],
   "source": [
    "# Topic: Matplotlib & Seaborn\n",
    "import matplotlib.pyplot as plt\n",
    "plt.plot([1,2],[3,4])\n",
    "plt.show()"
   ]
  },
  {
   "cell_type": "code",
   "execution_count": null,
   "id": "27ab9e7c",
   "metadata": {},
   "outputs": [],
   "source": [
    "# Topic: Basics\n",
    "x = 10\n",
    "y = 20\n",
    "print(x + y)"
   ]
  },
  {
   "cell_type": "code",
   "execution_count": null,
   "id": "d5597a7d",
   "metadata": {},
   "outputs": [],
   "source": [
    "# Topic: Decorators\n",
    "def log(func):\n",
    " def wrapper():\n",
    "  print('Call')\n",
    "  func()\n",
    " return wrapper\n",
    "@log\n",
    "def say(): print('Hi')\n",
    "say()"
   ]
  },
  {
   "cell_type": "code",
   "execution_count": null,
   "id": "d4c98754",
   "metadata": {},
   "outputs": [],
   "source": [
    "# Topic: Matplotlib & Seaborn\n",
    "import matplotlib.pyplot as plt\n",
    "plt.plot([1,2],[3,4])\n",
    "plt.show()"
   ]
  },
  {
   "cell_type": "code",
   "execution_count": null,
   "id": "61148269",
   "metadata": {},
   "outputs": [],
   "source": [
    "# Topic: Lists & Tuples\n",
    "t = (1, 2, 3)\n",
    "print(t[0])"
   ]
  },
  {
   "cell_type": "code",
   "execution_count": null,
   "id": "c69a1843",
   "metadata": {},
   "outputs": [],
   "source": [
    "# Topic: File I/O\n",
    "with open('test.txt', 'r') as f:\n",
    "    print(f.read())"
   ]
  },
  {
   "cell_type": "code",
   "execution_count": null,
   "id": "76ac5a77",
   "metadata": {},
   "outputs": [],
   "source": [
    "# Topic: Matplotlib & Seaborn\n",
    "import matplotlib.pyplot as plt\n",
    "plt.plot([1,2],[3,4])\n",
    "plt.show()"
   ]
  },
  {
   "cell_type": "code",
   "execution_count": null,
   "id": "f0e405f6",
   "metadata": {},
   "outputs": [],
   "source": [
    "# Topic: Recursion\n",
    "def fact(n): return 1 if n==0 else n*fact(n-1)\n",
    "print(fact(5))"
   ]
  },
  {
   "cell_type": "code",
   "execution_count": null,
   "id": "a3e3ac55",
   "metadata": {},
   "outputs": [],
   "source": [
    "# Topic: Loops\n",
    "while True:\n",
    "    print('Break')\n",
    "    break"
   ]
  },
  {
   "cell_type": "code",
   "execution_count": null,
   "id": "a3c04bdf",
   "metadata": {},
   "outputs": [],
   "source": [
    "# Topic: Mini Projects\n",
    "# Calculator\n",
    "def calc(a,b,op): return eval(f'{a}{op}{b}')\n",
    "print(calc(5,2,'+'))"
   ]
  },
  {
   "cell_type": "code",
   "execution_count": null,
   "id": "44237d50",
   "metadata": {},
   "outputs": [],
   "source": [
    "# Topic: Basic ML\n",
    "from sklearn.linear_model import LinearRegression\n",
    "model = LinearRegression()\n",
    "print(model)"
   ]
  },
  {
   "cell_type": "code",
   "execution_count": null,
   "id": "e4080b34",
   "metadata": {},
   "outputs": [],
   "source": [
    "# Topic: Basics\n",
    "name = 'Fahd'\n",
    "print(f'Hello, {name}')"
   ]
  },
  {
   "cell_type": "code",
   "execution_count": null,
   "id": "76f5d938",
   "metadata": {},
   "outputs": [],
   "source": [
    "# Topic: Pandas\n",
    "import pandas as pd\n",
    "df = pd.read_csv('file.csv')\n",
    "print(df.head())"
   ]
  },
  {
   "cell_type": "code",
   "execution_count": null,
   "id": "31c3047e",
   "metadata": {},
   "outputs": [],
   "source": [
    "# Topic: Functions\n",
    "def square(x): return x*x\n",
    "print(square(5))"
   ]
  },
  {
   "cell_type": "code",
   "execution_count": null,
   "id": "55df0bda",
   "metadata": {},
   "outputs": [],
   "source": [
    "# Topic: Algorithms\n",
    "# Bubble sort\n",
    "def bubble(arr):\n",
    " for i in range(len(arr)):\n",
    "  for j in range(0, len(arr)-i-1):\n",
    "   if arr[j]>arr[j+1]: arr[j],arr[j+1]=arr[j+1],arr[j]\n",
    "a=[5,3,8]\n",
    "bubble(a)\n",
    "print(a)"
   ]
  },
  {
   "cell_type": "code",
   "execution_count": null,
   "id": "18444456",
   "metadata": {},
   "outputs": [],
   "source": [
    "# Topic: Loops\n",
    "while True:\n",
    "    print('Break')\n",
    "    break"
   ]
  },
  {
   "cell_type": "code",
   "execution_count": null,
   "id": "48882176",
   "metadata": {},
   "outputs": [],
   "source": [
    "# Topic: CLI Tools\n",
    "import sys\n",
    "print(f'Arguments: {sys.argv}')"
   ]
  },
  {
   "cell_type": "code",
   "execution_count": null,
   "id": "472bdc1e",
   "metadata": {},
   "outputs": [],
   "source": [
    "# Topic: Matplotlib & Seaborn\n",
    "import matplotlib.pyplot as plt\n",
    "plt.plot([1,2],[3,4])\n",
    "plt.show()"
   ]
  },
  {
   "cell_type": "code",
   "execution_count": null,
   "id": "2aabdd5e",
   "metadata": {},
   "outputs": [],
   "source": [
    "# Topic: Loops\n",
    "for i in range(10): print(i*i)"
   ]
  },
  {
   "cell_type": "code",
   "execution_count": null,
   "id": "d84805de",
   "metadata": {},
   "outputs": [],
   "source": [
    "# Topic: Pandas\n",
    "import pandas as pd\n",
    "df = pd.DataFrame({'A':[1,2],'B':[3,4]})\n",
    "print(df)"
   ]
  },
  {
   "cell_type": "code",
   "execution_count": null,
   "id": "f05eca4d",
   "metadata": {},
   "outputs": [],
   "source": [
    "# Topic: Decorators\n",
    "def log(func):\n",
    " def wrapper():\n",
    "  print('Call')\n",
    "  func()\n",
    " return wrapper\n",
    "@log\n",
    "def say(): print('Hi')\n",
    "say()"
   ]
  },
  {
   "cell_type": "code",
   "execution_count": null,
   "id": "dd1d4ba5",
   "metadata": {},
   "outputs": [],
   "source": [
    "# Topic: Data Cleaning\n",
    "import pandas as pd\n",
    "df = pd.DataFrame({'A':[1,None,3]})\n",
    "df = df.fillna(0)\n",
    "print(df)"
   ]
  },
  {
   "cell_type": "code",
   "execution_count": null,
   "id": "bdb1e989",
   "metadata": {},
   "outputs": [],
   "source": [
    "# Topic: Recursion\n",
    "def fact(n): return 1 if n==0 else n*fact(n-1)\n",
    "print(fact(5))"
   ]
  },
  {
   "cell_type": "code",
   "execution_count": null,
   "id": "aab17887",
   "metadata": {},
   "outputs": [],
   "source": [
    "# Topic: Pandas\n",
    "import pandas as pd\n",
    "df = pd.DataFrame({'A':[1,2],'B':[3,4]})\n",
    "print(df)"
   ]
  },
  {
   "cell_type": "code",
   "execution_count": null,
   "id": "b248b45d",
   "metadata": {},
   "outputs": [],
   "source": [
    "# Topic: Web Scraping\n",
    "import requests\n",
    "from bs4 import BeautifulSoup\n",
    "r = requests.get('https://example.com')\n",
    "soup = BeautifulSoup(r.text, 'html.parser')\n",
    "print(soup.title.text)"
   ]
  },
  {
   "cell_type": "code",
   "execution_count": null,
   "id": "3cb76365",
   "metadata": {},
   "outputs": [],
   "source": [
    "# Topic: Basic ML\n",
    "from sklearn.linear_model import LinearRegression\n",
    "model = LinearRegression()\n",
    "print(model)"
   ]
  },
  {
   "cell_type": "code",
   "execution_count": null,
   "id": "bf28f421",
   "metadata": {},
   "outputs": [],
   "source": [
    "# Topic: OOP\n",
    "class Student:\n",
    "    def __init__(self, name): self.name = name\n",
    "s = Student('Fahd')\n",
    "print(s.name)"
   ]
  },
  {
   "cell_type": "code",
   "execution_count": null,
   "id": "4d1eae9a",
   "metadata": {},
   "outputs": [],
   "source": [
    "# Topic: Basic ML\n",
    "from sklearn.linear_model import LinearRegression\n",
    "model = LinearRegression()\n",
    "print(model)"
   ]
  },
  {
   "cell_type": "code",
   "execution_count": null,
   "id": "46907a92",
   "metadata": {},
   "outputs": [],
   "source": [
    "# Topic: Loops\n",
    "while True:\n",
    "    print('Break')\n",
    "    break"
   ]
  },
  {
   "cell_type": "code",
   "execution_count": null,
   "id": "2c567899",
   "metadata": {},
   "outputs": [],
   "source": [
    "# Topic: Functions\n",
    "def square(x): return x*x\n",
    "print(square(5))"
   ]
  },
  {
   "cell_type": "code",
   "execution_count": null,
   "id": "80a388ea",
   "metadata": {},
   "outputs": [],
   "source": [
    "# Topic: Recursion\n",
    "def fact(n): return 1 if n==0 else n*fact(n-1)\n",
    "print(fact(5))"
   ]
  },
  {
   "cell_type": "code",
   "execution_count": null,
   "id": "f926ef8f",
   "metadata": {},
   "outputs": [],
   "source": [
    "# Topic: Decorators\n",
    "def log(func):\n",
    " def wrapper():\n",
    "  print('Call')\n",
    "  func()\n",
    " return wrapper\n",
    "@log\n",
    "def say(): print('Hi')\n",
    "say()"
   ]
  },
  {
   "cell_type": "code",
   "execution_count": null,
   "id": "ce4c840f",
   "metadata": {},
   "outputs": [],
   "source": [
    "# Topic: Regex\n",
    "import re\n",
    "text = 'email: test@example.com'\n",
    "print(re.findall(r'\\S+@\\S+', text))"
   ]
  },
  {
   "cell_type": "code",
   "execution_count": null,
   "id": "06031429",
   "metadata": {},
   "outputs": [],
   "source": [
    "# Topic: Dictionaries & Sets\n",
    "s = set([1, 2, 3, 2])\n",
    "print(s)"
   ]
  },
  {
   "cell_type": "code",
   "execution_count": null,
   "id": "9d810324",
   "metadata": {},
   "outputs": [],
   "source": [
    "# Topic: Mini Projects\n",
    "# Calculator\n",
    "def calc(a,b,op): return eval(f'{a}{op}{b}')\n",
    "print(calc(5,2,'+'))"
   ]
  },
  {
   "cell_type": "code",
   "execution_count": null,
   "id": "2a19b448",
   "metadata": {},
   "outputs": [],
   "source": [
    "# Topic: JSON & CSV\n",
    "import csv\n",
    "with open('file.csv', 'w', newline='') as f:\n",
    " csv.writer(f).writerow(['a','b','c'])"
   ]
  },
  {
   "cell_type": "code",
   "execution_count": null,
   "id": "2f0fd307",
   "metadata": {},
   "outputs": [],
   "source": [
    "# Topic: CLI Tools\n",
    "import sys\n",
    "print(f'Arguments: {sys.argv}')"
   ]
  },
  {
   "cell_type": "code",
   "execution_count": null,
   "id": "f9743e54",
   "metadata": {},
   "outputs": [],
   "source": [
    "# Topic: Dictionaries & Sets\n",
    "s = set([1, 2, 3, 2])\n",
    "print(s)"
   ]
  },
  {
   "cell_type": "code",
   "execution_count": null,
   "id": "4cbbe318",
   "metadata": {},
   "outputs": [],
   "source": [
    "# Topic: Basic ML\n",
    "from sklearn.linear_model import LinearRegression\n",
    "model = LinearRegression()\n",
    "print(model)"
   ]
  },
  {
   "cell_type": "code",
   "execution_count": null,
   "id": "d8fa693e",
   "metadata": {},
   "outputs": [],
   "source": [
    "# Topic: Regex\n",
    "import re\n",
    "text = 'email: test@example.com'\n",
    "print(re.findall(r'\\S+@\\S+', text))"
   ]
  },
  {
   "cell_type": "code",
   "execution_count": null,
   "id": "dbc7643b",
   "metadata": {},
   "outputs": [],
   "source": [
    "# Topic: Algorithms\n",
    "# Bubble sort\n",
    "def bubble(arr):\n",
    " for i in range(len(arr)):\n",
    "  for j in range(0, len(arr)-i-1):\n",
    "   if arr[j]>arr[j+1]: arr[j],arr[j+1]=arr[j+1],arr[j]\n",
    "a=[5,3,8]\n",
    "bubble(a)\n",
    "print(a)"
   ]
  },
  {
   "cell_type": "code",
   "execution_count": null,
   "id": "9de12bb1",
   "metadata": {},
   "outputs": [],
   "source": [
    "# Topic: File I/O\n",
    "with open('test.txt', 'w') as f:\n",
    "    f.write('Hello World')"
   ]
  },
  {
   "cell_type": "code",
   "execution_count": null,
   "id": "6d10c926",
   "metadata": {},
   "outputs": [],
   "source": [
    "# Topic: Dictionaries & Sets\n",
    "d = {'name': 'Fahd', 'age': 20}\n",
    "print(d.get('name'))"
   ]
  },
  {
   "cell_type": "code",
   "execution_count": null,
   "id": "d9bc4c12",
   "metadata": {},
   "outputs": [],
   "source": [
    "# Topic: Basic ML\n",
    "from sklearn.linear_model import LinearRegression\n",
    "model = LinearRegression()\n",
    "print(model)"
   ]
  },
  {
   "cell_type": "code",
   "execution_count": null,
   "id": "8e65e3ff",
   "metadata": {},
   "outputs": [],
   "source": [
    "# Topic: Functions\n",
    "def square(x): return x*x\n",
    "print(square(5))"
   ]
  },
  {
   "cell_type": "code",
   "execution_count": null,
   "id": "5fcfd82d",
   "metadata": {},
   "outputs": [],
   "source": [
    "# Topic: File I/O\n",
    "with open('test.txt', 'w') as f:\n",
    "    f.write('Hello World')"
   ]
  },
  {
   "cell_type": "code",
   "execution_count": null,
   "id": "d5624cc8",
   "metadata": {},
   "outputs": [],
   "source": [
    "# Topic: Loops\n",
    "while True:\n",
    "    print('Break')\n",
    "    break"
   ]
  },
  {
   "cell_type": "code",
   "execution_count": null,
   "id": "1aeaf32c",
   "metadata": {},
   "outputs": [],
   "source": [
    "# Topic: Functions\n",
    "def greet(name='User'):\n",
    "    print(f'Hi, {name}')\n",
    "greet()"
   ]
  },
  {
   "cell_type": "code",
   "execution_count": null,
   "id": "4de5af07",
   "metadata": {},
   "outputs": [],
   "source": [
    "# Topic: OOP\n",
    "class Student:\n",
    "    def __init__(self, name): self.name = name\n",
    "s = Student('Fahd')\n",
    "print(s.name)"
   ]
  },
  {
   "cell_type": "code",
   "execution_count": null,
   "id": "8d12f659",
   "metadata": {},
   "outputs": [],
   "source": [
    "# Topic: Functions\n",
    "def greet(name='User'):\n",
    "    print(f'Hi, {name}')\n",
    "greet()"
   ]
  },
  {
   "cell_type": "code",
   "execution_count": null,
   "id": "90ac7205",
   "metadata": {},
   "outputs": [],
   "source": [
    "# Topic: Mini Projects\n",
    "# Calculator\n",
    "def calc(a,b,op): return eval(f'{a}{op}{b}')\n",
    "print(calc(5,2,'+'))"
   ]
  },
  {
   "cell_type": "code",
   "execution_count": null,
   "id": "df1e189d",
   "metadata": {},
   "outputs": [],
   "source": [
    "# Topic: CLI Tools\n",
    "import sys\n",
    "print(f'Arguments: {sys.argv}')"
   ]
  },
  {
   "cell_type": "code",
   "execution_count": null,
   "id": "3b4f18ea",
   "metadata": {},
   "outputs": [],
   "source": [
    "# Topic: Data Cleaning\n",
    "import pandas as pd\n",
    "df = pd.DataFrame({'A':[1,None,3]})\n",
    "df = df.fillna(0)\n",
    "print(df)"
   ]
  },
  {
   "cell_type": "code",
   "execution_count": null,
   "id": "694f6068",
   "metadata": {},
   "outputs": [],
   "source": [
    "# Topic: Regex\n",
    "import re\n",
    "text = 'email: test@example.com'\n",
    "print(re.findall(r'\\S+@\\S+', text))"
   ]
  },
  {
   "cell_type": "code",
   "execution_count": null,
   "id": "7a7ac663",
   "metadata": {},
   "outputs": [],
   "source": [
    "# Topic: Basic ML\n",
    "from sklearn.linear_model import LinearRegression\n",
    "model = LinearRegression()\n",
    "print(model)"
   ]
  },
  {
   "cell_type": "code",
   "execution_count": null,
   "id": "f3ecebc0",
   "metadata": {},
   "outputs": [],
   "source": [
    "# Topic: CLI Tools\n",
    "import sys\n",
    "print(f'Arguments: {sys.argv}')"
   ]
  },
  {
   "cell_type": "code",
   "execution_count": null,
   "id": "2a7ae4cb",
   "metadata": {},
   "outputs": [],
   "source": [
    "# Topic: JSON & CSV\n",
    "import csv\n",
    "with open('file.csv', 'w', newline='') as f:\n",
    " csv.writer(f).writerow(['a','b','c'])"
   ]
  },
  {
   "cell_type": "code",
   "execution_count": null,
   "id": "a77665ee",
   "metadata": {},
   "outputs": [],
   "source": [
    "# Topic: OOP\n",
    "class Student:\n",
    "    def __init__(self, name): self.name = name\n",
    "s = Student('Fahd')\n",
    "print(s.name)"
   ]
  },
  {
   "cell_type": "code",
   "execution_count": null,
   "id": "b160f20a",
   "metadata": {},
   "outputs": [],
   "source": [
    "# Topic: Dictionaries & Sets\n",
    "s = set([1, 2, 3, 2])\n",
    "print(s)"
   ]
  },
  {
   "cell_type": "code",
   "execution_count": null,
   "id": "e1d88858",
   "metadata": {},
   "outputs": [],
   "source": [
    "# Topic: Functions\n",
    "def square(x): return x*x\n",
    "print(square(5))"
   ]
  },
  {
   "cell_type": "code",
   "execution_count": null,
   "id": "197e89d6",
   "metadata": {},
   "outputs": [],
   "source": [
    "# Topic: Functions\n",
    "def square(x): return x*x\n",
    "print(square(5))"
   ]
  },
  {
   "cell_type": "code",
   "execution_count": null,
   "id": "47b32c97",
   "metadata": {},
   "outputs": [],
   "source": [
    "# Topic: Recursion\n",
    "def fact(n): return 1 if n==0 else n*fact(n-1)\n",
    "print(fact(5))"
   ]
  },
  {
   "cell_type": "code",
   "execution_count": null,
   "id": "55a94cc1",
   "metadata": {},
   "outputs": [],
   "source": [
    "# Topic: Algorithms\n",
    "# Bubble sort\n",
    "def bubble(arr):\n",
    " for i in range(len(arr)):\n",
    "  for j in range(0, len(arr)-i-1):\n",
    "   if arr[j]>arr[j+1]: arr[j],arr[j+1]=arr[j+1],arr[j]\n",
    "a=[5,3,8]\n",
    "bubble(a)\n",
    "print(a)"
   ]
  },
  {
   "cell_type": "code",
   "execution_count": null,
   "id": "083826ea",
   "metadata": {},
   "outputs": [],
   "source": [
    "# Topic: NumPy\n",
    "import numpy as np\n",
    "a = np.array([1, 2, 3])\n",
    "print(a + 5)"
   ]
  },
  {
   "cell_type": "code",
   "execution_count": null,
   "id": "344d750e",
   "metadata": {},
   "outputs": [],
   "source": [
    "# Topic: CLI Tools\n",
    "import sys\n",
    "print(f'Arguments: {sys.argv}')"
   ]
  },
  {
   "cell_type": "code",
   "execution_count": null,
   "id": "63066773",
   "metadata": {},
   "outputs": [],
   "source": [
    "# Topic: Matplotlib & Seaborn\n",
    "import matplotlib.pyplot as plt\n",
    "plt.plot([1,2],[3,4])\n",
    "plt.show()"
   ]
  },
  {
   "cell_type": "code",
   "execution_count": null,
   "id": "b225b6fc",
   "metadata": {},
   "outputs": [],
   "source": [
    "# Topic: Functions\n",
    "def square(x): return x*x\n",
    "print(square(5))"
   ]
  },
  {
   "cell_type": "code",
   "execution_count": null,
   "id": "d4cffc27",
   "metadata": {},
   "outputs": [],
   "source": [
    "# Topic: Basic ML\n",
    "from sklearn.linear_model import LinearRegression\n",
    "model = LinearRegression()\n",
    "print(model)"
   ]
  },
  {
   "cell_type": "code",
   "execution_count": null,
   "id": "774b34bd",
   "metadata": {},
   "outputs": [],
   "source": [
    "# Topic: Web Scraping\n",
    "import requests\n",
    "from bs4 import BeautifulSoup\n",
    "r = requests.get('https://example.com')\n",
    "soup = BeautifulSoup(r.text, 'html.parser')\n",
    "print(soup.title.text)"
   ]
  },
  {
   "cell_type": "code",
   "execution_count": null,
   "id": "3a326868",
   "metadata": {},
   "outputs": [],
   "source": [
    "# Topic: Matplotlib & Seaborn\n",
    "import seaborn as sns\n",
    "import pandas as pd\n",
    "sns.set()\n",
    "sns.histplot(pd.Series([1,2,2,3]));"
   ]
  },
  {
   "cell_type": "code",
   "execution_count": null,
   "id": "5f2fafa3",
   "metadata": {},
   "outputs": [],
   "source": [
    "# Topic: Web Scraping\n",
    "import requests\n",
    "from bs4 import BeautifulSoup\n",
    "r = requests.get('https://example.com')\n",
    "soup = BeautifulSoup(r.text, 'html.parser')\n",
    "print(soup.title.text)"
   ]
  },
  {
   "cell_type": "code",
   "execution_count": null,
   "id": "f8a0119f",
   "metadata": {},
   "outputs": [],
   "source": [
    "# Topic: Dictionaries & Sets\n",
    "d = {'name': 'Fahd', 'age': 20}\n",
    "print(d.get('name'))"
   ]
  },
  {
   "cell_type": "code",
   "execution_count": null,
   "id": "ede34f28",
   "metadata": {},
   "outputs": [],
   "source": [
    "# Topic: JSON & CSV\n",
    "import json\n",
    "data = {'a': 1}\n",
    "print(json.dumps(data))"
   ]
  },
  {
   "cell_type": "code",
   "execution_count": null,
   "id": "4aa193fd",
   "metadata": {},
   "outputs": [],
   "source": [
    "# Topic: Lists & Tuples\n",
    "lst = [1, 2, 3]\n",
    "lst.append(4)\n",
    "print(lst)"
   ]
  },
  {
   "cell_type": "code",
   "execution_count": null,
   "id": "7504dc15",
   "metadata": {},
   "outputs": [],
   "source": [
    "# Topic: Pandas\n",
    "import pandas as pd\n",
    "df = pd.DataFrame({'A':[1,2],'B':[3,4]})\n",
    "print(df)"
   ]
  },
  {
   "cell_type": "code",
   "execution_count": null,
   "id": "c74ee9df",
   "metadata": {},
   "outputs": [],
   "source": [
    "# Topic: Pandas\n",
    "import pandas as pd\n",
    "df = pd.DataFrame({'A':[1,2],'B':[3,4]})\n",
    "print(df)"
   ]
  },
  {
   "cell_type": "code",
   "execution_count": null,
   "id": "8b326791",
   "metadata": {},
   "outputs": [],
   "source": [
    "# Topic: Regex\n",
    "import re\n",
    "text = 'email: test@example.com'\n",
    "print(re.findall(r'\\S+@\\S+', text))"
   ]
  },
  {
   "cell_type": "code",
   "execution_count": null,
   "id": "57f0fa08",
   "metadata": {},
   "outputs": [],
   "source": [
    "# Topic: Decorators\n",
    "def log(func):\n",
    " def wrapper():\n",
    "  print('Call')\n",
    "  func()\n",
    " return wrapper\n",
    "@log\n",
    "def say(): print('Hi')\n",
    "say()"
   ]
  },
  {
   "cell_type": "code",
   "execution_count": null,
   "id": "ec793ccc",
   "metadata": {},
   "outputs": [],
   "source": [
    "# Topic: Decorators\n",
    "def log(func):\n",
    " def wrapper():\n",
    "  print('Call')\n",
    "  func()\n",
    " return wrapper\n",
    "@log\n",
    "def say(): print('Hi')\n",
    "say()"
   ]
  },
  {
   "cell_type": "code",
   "execution_count": null,
   "id": "59a1adbd",
   "metadata": {},
   "outputs": [],
   "source": [
    "# Topic: CLI Tools\n",
    "import sys\n",
    "print(f'Arguments: {sys.argv}')"
   ]
  },
  {
   "cell_type": "code",
   "execution_count": null,
   "id": "a1107409",
   "metadata": {},
   "outputs": [],
   "source": [
    "# Topic: Loops\n",
    "while True:\n",
    "    print('Break')\n",
    "    break"
   ]
  },
  {
   "cell_type": "code",
   "execution_count": null,
   "id": "1bc2cb1d",
   "metadata": {},
   "outputs": [],
   "source": [
    "# Topic: Matplotlib & Seaborn\n",
    "import seaborn as sns\n",
    "import pandas as pd\n",
    "sns.set()\n",
    "sns.histplot(pd.Series([1,2,2,3]));"
   ]
  },
  {
   "cell_type": "code",
   "execution_count": null,
   "id": "95679d9c",
   "metadata": {},
   "outputs": [],
   "source": [
    "# Topic: Matplotlib & Seaborn\n",
    "import seaborn as sns\n",
    "import pandas as pd\n",
    "sns.set()\n",
    "sns.histplot(pd.Series([1,2,2,3]));"
   ]
  },
  {
   "cell_type": "code",
   "execution_count": null,
   "id": "943257db",
   "metadata": {},
   "outputs": [],
   "source": [
    "# Topic: OOP\n",
    "class Student:\n",
    "    def __init__(self, name): self.name = name\n",
    "s = Student('Fahd')\n",
    "print(s.name)"
   ]
  },
  {
   "cell_type": "code",
   "execution_count": null,
   "id": "25e1f266",
   "metadata": {},
   "outputs": [],
   "source": [
    "# Topic: Algorithms\n",
    "# Bubble sort\n",
    "def bubble(arr):\n",
    " for i in range(len(arr)):\n",
    "  for j in range(0, len(arr)-i-1):\n",
    "   if arr[j]>arr[j+1]: arr[j],arr[j+1]=arr[j+1],arr[j]\n",
    "a=[5,3,8]\n",
    "bubble(a)\n",
    "print(a)"
   ]
  },
  {
   "cell_type": "code",
   "execution_count": null,
   "id": "eadfdcf3",
   "metadata": {},
   "outputs": [],
   "source": [
    "# Topic: Dictionaries & Sets\n",
    "s = set([1, 2, 3, 2])\n",
    "print(s)"
   ]
  },
  {
   "cell_type": "code",
   "execution_count": null,
   "id": "b5d62b82",
   "metadata": {},
   "outputs": [],
   "source": [
    "# Topic: OOP\n",
    "class Student:\n",
    "    def __init__(self, name): self.name = name\n",
    "s = Student('Fahd')\n",
    "print(s.name)"
   ]
  },
  {
   "cell_type": "code",
   "execution_count": null,
   "id": "42fe2c58",
   "metadata": {},
   "outputs": [],
   "source": [
    "# Topic: Functions\n",
    "def square(x): return x*x\n",
    "print(square(5))"
   ]
  },
  {
   "cell_type": "code",
   "execution_count": null,
   "id": "84717c7b",
   "metadata": {},
   "outputs": [],
   "source": [
    "# Topic: Pandas\n",
    "import pandas as pd\n",
    "df = pd.read_csv('file.csv')\n",
    "print(df.head())"
   ]
  },
  {
   "cell_type": "code",
   "execution_count": null,
   "id": "d15b6dc9",
   "metadata": {},
   "outputs": [],
   "source": [
    "# Topic: Pandas\n",
    "import pandas as pd\n",
    "df = pd.DataFrame({'A':[1,2],'B':[3,4]})\n",
    "print(df)"
   ]
  },
  {
   "cell_type": "code",
   "execution_count": null,
   "id": "9f0308dd",
   "metadata": {},
   "outputs": [],
   "source": [
    "# Topic: Functions\n",
    "def square(x): return x*x\n",
    "print(square(5))"
   ]
  },
  {
   "cell_type": "code",
   "execution_count": null,
   "id": "8be3b620",
   "metadata": {},
   "outputs": [],
   "source": [
    "# Topic: NumPy\n",
    "import numpy as np\n",
    "a = np.array([1, 2, 3])\n",
    "print(a + 5)"
   ]
  },
  {
   "cell_type": "code",
   "execution_count": null,
   "id": "0f018fb5",
   "metadata": {},
   "outputs": [],
   "source": [
    "# Topic: Functions\n",
    "def square(x): return x*x\n",
    "print(square(5))"
   ]
  },
  {
   "cell_type": "code",
   "execution_count": null,
   "id": "a4616d9c",
   "metadata": {},
   "outputs": [],
   "source": [
    "# Topic: Recursion\n",
    "def fact(n): return 1 if n==0 else n*fact(n-1)\n",
    "print(fact(5))"
   ]
  },
  {
   "cell_type": "code",
   "execution_count": null,
   "id": "14678fbd",
   "metadata": {},
   "outputs": [],
   "source": [
    "# Topic: NumPy\n",
    "import numpy as np\n",
    "print(np.linspace(0, 1, 5))"
   ]
  },
  {
   "cell_type": "code",
   "execution_count": null,
   "id": "4bed3995",
   "metadata": {},
   "outputs": [],
   "source": [
    "# Topic: Data Cleaning\n",
    "import pandas as pd\n",
    "df = pd.DataFrame({'A':[1,None,3]})\n",
    "df = df.fillna(0)\n",
    "print(df)"
   ]
  },
  {
   "cell_type": "code",
   "execution_count": null,
   "id": "bd2d118e",
   "metadata": {},
   "outputs": [],
   "source": [
    "# Topic: Functions\n",
    "def greet(name='User'):\n",
    "    print(f'Hi, {name}')\n",
    "greet()"
   ]
  },
  {
   "cell_type": "code",
   "execution_count": null,
   "id": "1cf6c5ad",
   "metadata": {},
   "outputs": [],
   "source": [
    "# Topic: Matplotlib & Seaborn\n",
    "import seaborn as sns\n",
    "import pandas as pd\n",
    "sns.set()\n",
    "sns.histplot(pd.Series([1,2,2,3]));"
   ]
  },
  {
   "cell_type": "code",
   "execution_count": null,
   "id": "667da5be",
   "metadata": {},
   "outputs": [],
   "source": [
    "# Topic: Recursion\n",
    "def fact(n): return 1 if n==0 else n*fact(n-1)\n",
    "print(fact(5))"
   ]
  },
  {
   "cell_type": "code",
   "execution_count": null,
   "id": "751577d0",
   "metadata": {},
   "outputs": [],
   "source": [
    "# Topic: NumPy\n",
    "import numpy as np\n",
    "a = np.array([1, 2, 3])\n",
    "print(a + 5)"
   ]
  },
  {
   "cell_type": "code",
   "execution_count": null,
   "id": "413af34c",
   "metadata": {},
   "outputs": [],
   "source": [
    "# Topic: NumPy\n",
    "import numpy as np\n",
    "a = np.array([1, 2, 3])\n",
    "print(a + 5)"
   ]
  },
  {
   "cell_type": "code",
   "execution_count": null,
   "id": "231119ed",
   "metadata": {},
   "outputs": [],
   "source": [
    "# Topic: JSON & CSV\n",
    "import csv\n",
    "with open('file.csv', 'w', newline='') as f:\n",
    " csv.writer(f).writerow(['a','b','c'])"
   ]
  },
  {
   "cell_type": "code",
   "execution_count": null,
   "id": "4286e224",
   "metadata": {},
   "outputs": [],
   "source": [
    "# Topic: Matplotlib & Seaborn\n",
    "import seaborn as sns\n",
    "import pandas as pd\n",
    "sns.set()\n",
    "sns.histplot(pd.Series([1,2,2,3]));"
   ]
  },
  {
   "cell_type": "code",
   "execution_count": null,
   "id": "2372d723",
   "metadata": {},
   "outputs": [],
   "source": [
    "# Topic: OOP\n",
    "class Student:\n",
    "    def __init__(self, name): self.name = name\n",
    "s = Student('Fahd')\n",
    "print(s.name)"
   ]
  },
  {
   "cell_type": "code",
   "execution_count": null,
   "id": "07c7647e",
   "metadata": {},
   "outputs": [],
   "source": [
    "# Topic: Decorators\n",
    "def log(func):\n",
    " def wrapper():\n",
    "  print('Call')\n",
    "  func()\n",
    " return wrapper\n",
    "@log\n",
    "def say(): print('Hi')\n",
    "say()"
   ]
  },
  {
   "cell_type": "code",
   "execution_count": null,
   "id": "637f9ddd",
   "metadata": {},
   "outputs": [],
   "source": [
    "# Topic: Basics\n",
    "x = 10\n",
    "y = 20\n",
    "print(x + y)"
   ]
  },
  {
   "cell_type": "code",
   "execution_count": null,
   "id": "f0c0e965",
   "metadata": {},
   "outputs": [],
   "source": [
    "# Topic: Web Scraping\n",
    "import requests\n",
    "from bs4 import BeautifulSoup\n",
    "r = requests.get('https://example.com')\n",
    "soup = BeautifulSoup(r.text, 'html.parser')\n",
    "print(soup.title.text)"
   ]
  },
  {
   "cell_type": "code",
   "execution_count": null,
   "id": "cef2d771",
   "metadata": {},
   "outputs": [],
   "source": [
    "# Topic: OOP\n",
    "class Student:\n",
    "    def __init__(self, name): self.name = name\n",
    "s = Student('Fahd')\n",
    "print(s.name)"
   ]
  },
  {
   "cell_type": "code",
   "execution_count": null,
   "id": "eacfb0f2",
   "metadata": {},
   "outputs": [],
   "source": [
    "# Topic: OOP\n",
    "class Student:\n",
    "    def __init__(self, name): self.name = name\n",
    "s = Student('Fahd')\n",
    "print(s.name)"
   ]
  },
  {
   "cell_type": "code",
   "execution_count": null,
   "id": "7177e2b5",
   "metadata": {},
   "outputs": [],
   "source": [
    "# Topic: Lists & Tuples\n",
    "t = (1, 2, 3)\n",
    "print(t[0])"
   ]
  },
  {
   "cell_type": "code",
   "execution_count": null,
   "id": "a30d97c1",
   "metadata": {},
   "outputs": [],
   "source": [
    "# Topic: Lists & Tuples\n",
    "t = (1, 2, 3)\n",
    "print(t[0])"
   ]
  },
  {
   "cell_type": "code",
   "execution_count": null,
   "id": "df9c7ace",
   "metadata": {},
   "outputs": [],
   "source": [
    "# Topic: Data Cleaning\n",
    "import pandas as pd\n",
    "df = pd.DataFrame({'A':[1,None,3]})\n",
    "df = df.fillna(0)\n",
    "print(df)"
   ]
  },
  {
   "cell_type": "code",
   "execution_count": null,
   "id": "92a262f8",
   "metadata": {},
   "outputs": [],
   "source": [
    "# Topic: NumPy\n",
    "import numpy as np\n",
    "print(np.linspace(0, 1, 5))"
   ]
  },
  {
   "cell_type": "code",
   "execution_count": null,
   "id": "ebfd2be6",
   "metadata": {},
   "outputs": [],
   "source": [
    "# Topic: CLI Tools\n",
    "import sys\n",
    "print(f'Arguments: {sys.argv}')"
   ]
  },
  {
   "cell_type": "code",
   "execution_count": null,
   "id": "06061649",
   "metadata": {},
   "outputs": [],
   "source": [
    "# Topic: Functions\n",
    "def greet(name='User'):\n",
    "    print(f'Hi, {name}')\n",
    "greet()"
   ]
  },
  {
   "cell_type": "code",
   "execution_count": null,
   "id": "447cd87a",
   "metadata": {},
   "outputs": [],
   "source": [
    "# Topic: JSON & CSV\n",
    "import json\n",
    "data = {'a': 1}\n",
    "print(json.dumps(data))"
   ]
  },
  {
   "cell_type": "code",
   "execution_count": null,
   "id": "baa835be",
   "metadata": {},
   "outputs": [],
   "source": [
    "# Topic: Data Cleaning\n",
    "import pandas as pd\n",
    "df = pd.DataFrame({'A':[1,None,3]})\n",
    "df = df.fillna(0)\n",
    "print(df)"
   ]
  },
  {
   "cell_type": "code",
   "execution_count": null,
   "id": "713ccda6",
   "metadata": {},
   "outputs": [],
   "source": [
    "# Topic: Regex\n",
    "import re\n",
    "text = 'email: test@example.com'\n",
    "print(re.findall(r'\\S+@\\S+', text))"
   ]
  },
  {
   "cell_type": "code",
   "execution_count": null,
   "id": "201a4049",
   "metadata": {},
   "outputs": [],
   "source": [
    "# Topic: Web Scraping\n",
    "import requests\n",
    "from bs4 import BeautifulSoup\n",
    "r = requests.get('https://example.com')\n",
    "soup = BeautifulSoup(r.text, 'html.parser')\n",
    "print(soup.title.text)"
   ]
  },
  {
   "cell_type": "code",
   "execution_count": null,
   "id": "2a1ae245",
   "metadata": {},
   "outputs": [],
   "source": [
    "# Topic: File I/O\n",
    "with open('test.txt', 'r') as f:\n",
    "    print(f.read())"
   ]
  },
  {
   "cell_type": "code",
   "execution_count": null,
   "id": "c02855c6",
   "metadata": {},
   "outputs": [],
   "source": [
    "# Topic: Decorators\n",
    "def log(func):\n",
    " def wrapper():\n",
    "  print('Call')\n",
    "  func()\n",
    " return wrapper\n",
    "@log\n",
    "def say(): print('Hi')\n",
    "say()"
   ]
  },
  {
   "cell_type": "code",
   "execution_count": null,
   "id": "bf7234cd",
   "metadata": {},
   "outputs": [],
   "source": [
    "# Topic: Matplotlib & Seaborn\n",
    "import seaborn as sns\n",
    "import pandas as pd\n",
    "sns.set()\n",
    "sns.histplot(pd.Series([1,2,2,3]));"
   ]
  },
  {
   "cell_type": "code",
   "execution_count": null,
   "id": "6d450912",
   "metadata": {},
   "outputs": [],
   "source": [
    "# Topic: Data Cleaning\n",
    "import pandas as pd\n",
    "df = pd.DataFrame({'A':[1,None,3]})\n",
    "df = df.fillna(0)\n",
    "print(df)"
   ]
  },
  {
   "cell_type": "code",
   "execution_count": null,
   "id": "fd177531",
   "metadata": {},
   "outputs": [],
   "source": [
    "# Topic: Loops\n",
    "while True:\n",
    "    print('Break')\n",
    "    break"
   ]
  },
  {
   "cell_type": "code",
   "execution_count": null,
   "id": "c5fbdbe2",
   "metadata": {},
   "outputs": [],
   "source": [
    "# Topic: Pandas\n",
    "import pandas as pd\n",
    "df = pd.read_csv('file.csv')\n",
    "print(df.head())"
   ]
  },
  {
   "cell_type": "code",
   "execution_count": null,
   "id": "7e9f6ab9",
   "metadata": {},
   "outputs": [],
   "source": [
    "# Topic: Basics\n",
    "x = 10\n",
    "y = 20\n",
    "print(x + y)"
   ]
  },
  {
   "cell_type": "code",
   "execution_count": null,
   "id": "26774f1e",
   "metadata": {},
   "outputs": [],
   "source": [
    "# Topic: Pandas\n",
    "import pandas as pd\n",
    "df = pd.read_csv('file.csv')\n",
    "print(df.head())"
   ]
  },
  {
   "cell_type": "code",
   "execution_count": null,
   "id": "bace42e9",
   "metadata": {},
   "outputs": [],
   "source": [
    "# Topic: Loops\n",
    "while True:\n",
    "    print('Break')\n",
    "    break"
   ]
  },
  {
   "cell_type": "code",
   "execution_count": null,
   "id": "ff1c065b",
   "metadata": {},
   "outputs": [],
   "source": [
    "# Topic: Basics\n",
    "name = 'Fahd'\n",
    "print(f'Hello, {name}')"
   ]
  },
  {
   "cell_type": "code",
   "execution_count": null,
   "id": "7ccfae67",
   "metadata": {},
   "outputs": [],
   "source": [
    "# Topic: Recursion\n",
    "def fact(n): return 1 if n==0 else n*fact(n-1)\n",
    "print(fact(5))"
   ]
  },
  {
   "cell_type": "code",
   "execution_count": null,
   "id": "3e6ee4f6",
   "metadata": {},
   "outputs": [],
   "source": [
    "# Topic: File I/O\n",
    "with open('test.txt', 'w') as f:\n",
    "    f.write('Hello World')"
   ]
  },
  {
   "cell_type": "code",
   "execution_count": null,
   "id": "a685168f",
   "metadata": {},
   "outputs": [],
   "source": [
    "# Topic: Decorators\n",
    "def log(func):\n",
    " def wrapper():\n",
    "  print('Call')\n",
    "  func()\n",
    " return wrapper\n",
    "@log\n",
    "def say(): print('Hi')\n",
    "say()"
   ]
  },
  {
   "cell_type": "code",
   "execution_count": null,
   "id": "419079be",
   "metadata": {},
   "outputs": [],
   "source": [
    "# Topic: OOP\n",
    "class Student:\n",
    "    def __init__(self, name): self.name = name\n",
    "s = Student('Fahd')\n",
    "print(s.name)"
   ]
  },
  {
   "cell_type": "code",
   "execution_count": null,
   "id": "390552ab",
   "metadata": {},
   "outputs": [],
   "source": [
    "# Topic: Functions\n",
    "def square(x): return x*x\n",
    "print(square(5))"
   ]
  },
  {
   "cell_type": "code",
   "execution_count": null,
   "id": "2eb174d2",
   "metadata": {},
   "outputs": [],
   "source": [
    "# Topic: Loops\n",
    "while True:\n",
    "    print('Break')\n",
    "    break"
   ]
  },
  {
   "cell_type": "code",
   "execution_count": null,
   "id": "c8372119",
   "metadata": {},
   "outputs": [],
   "source": [
    "# Topic: Functions\n",
    "def greet(name='User'):\n",
    "    print(f'Hi, {name}')\n",
    "greet()"
   ]
  },
  {
   "cell_type": "code",
   "execution_count": null,
   "id": "5b61ddd6",
   "metadata": {},
   "outputs": [],
   "source": [
    "# Topic: Web Scraping\n",
    "import requests\n",
    "from bs4 import BeautifulSoup\n",
    "r = requests.get('https://example.com')\n",
    "soup = BeautifulSoup(r.text, 'html.parser')\n",
    "print(soup.title.text)"
   ]
  },
  {
   "cell_type": "code",
   "execution_count": null,
   "id": "8014d7f8",
   "metadata": {},
   "outputs": [],
   "source": [
    "# Topic: NumPy\n",
    "import numpy as np\n",
    "a = np.array([1, 2, 3])\n",
    "print(a + 5)"
   ]
  },
  {
   "cell_type": "code",
   "execution_count": null,
   "id": "0f723909",
   "metadata": {},
   "outputs": [],
   "source": [
    "# Topic: Regex\n",
    "import re\n",
    "text = 'email: test@example.com'\n",
    "print(re.findall(r'\\S+@\\S+', text))"
   ]
  },
  {
   "cell_type": "code",
   "execution_count": null,
   "id": "74a7f69d",
   "metadata": {},
   "outputs": [],
   "source": [
    "# Topic: Recursion\n",
    "def fact(n): return 1 if n==0 else n*fact(n-1)\n",
    "print(fact(5))"
   ]
  },
  {
   "cell_type": "code",
   "execution_count": null,
   "id": "dcfc1d76",
   "metadata": {},
   "outputs": [],
   "source": [
    "# Topic: Loops\n",
    "for i in range(10): print(i*i)"
   ]
  },
  {
   "cell_type": "code",
   "execution_count": null,
   "id": "fd847433",
   "metadata": {},
   "outputs": [],
   "source": [
    "# Topic: Basic ML\n",
    "from sklearn.linear_model import LinearRegression\n",
    "model = LinearRegression()\n",
    "print(model)"
   ]
  },
  {
   "cell_type": "code",
   "execution_count": null,
   "id": "2d462a25",
   "metadata": {},
   "outputs": [],
   "source": [
    "# Topic: CLI Tools\n",
    "import sys\n",
    "print(f'Arguments: {sys.argv}')"
   ]
  },
  {
   "cell_type": "code",
   "execution_count": null,
   "id": "16594c40",
   "metadata": {},
   "outputs": [],
   "source": [
    "# Topic: Regex\n",
    "import re\n",
    "text = 'email: test@example.com'\n",
    "print(re.findall(r'\\S+@\\S+', text))"
   ]
  },
  {
   "cell_type": "code",
   "execution_count": null,
   "id": "67d769c9",
   "metadata": {},
   "outputs": [],
   "source": [
    "# Topic: JSON & CSV\n",
    "import csv\n",
    "with open('file.csv', 'w', newline='') as f:\n",
    " csv.writer(f).writerow(['a','b','c'])"
   ]
  },
  {
   "cell_type": "code",
   "execution_count": null,
   "id": "06bdade8",
   "metadata": {},
   "outputs": [],
   "source": [
    "# Topic: Regex\n",
    "import re\n",
    "text = 'email: test@example.com'\n",
    "print(re.findall(r'\\S+@\\S+', text))"
   ]
  },
  {
   "cell_type": "code",
   "execution_count": null,
   "id": "43278126",
   "metadata": {},
   "outputs": [],
   "source": [
    "# Topic: Algorithms\n",
    "# Bubble sort\n",
    "def bubble(arr):\n",
    " for i in range(len(arr)):\n",
    "  for j in range(0, len(arr)-i-1):\n",
    "   if arr[j]>arr[j+1]: arr[j],arr[j+1]=arr[j+1],arr[j]\n",
    "a=[5,3,8]\n",
    "bubble(a)\n",
    "print(a)"
   ]
  },
  {
   "cell_type": "code",
   "execution_count": null,
   "id": "19245927",
   "metadata": {},
   "outputs": [],
   "source": [
    "# Topic: Dictionaries & Sets\n",
    "d = {'name': 'Fahd', 'age': 20}\n",
    "print(d.get('name'))"
   ]
  },
  {
   "cell_type": "code",
   "execution_count": null,
   "id": "6062cbdc",
   "metadata": {},
   "outputs": [],
   "source": [
    "# Topic: Regex\n",
    "import re\n",
    "text = 'email: test@example.com'\n",
    "print(re.findall(r'\\S+@\\S+', text))"
   ]
  },
  {
   "cell_type": "code",
   "execution_count": null,
   "id": "da8ec7b3",
   "metadata": {},
   "outputs": [],
   "source": [
    "# Topic: Pandas\n",
    "import pandas as pd\n",
    "df = pd.DataFrame({'A':[1,2],'B':[3,4]})\n",
    "print(df)"
   ]
  },
  {
   "cell_type": "code",
   "execution_count": null,
   "id": "4edc3b95",
   "metadata": {},
   "outputs": [],
   "source": [
    "# Topic: File I/O\n",
    "with open('test.txt', 'r') as f:\n",
    "    print(f.read())"
   ]
  },
  {
   "cell_type": "code",
   "execution_count": null,
   "id": "77dfc5aa",
   "metadata": {},
   "outputs": [],
   "source": [
    "# Topic: CLI Tools\n",
    "import sys\n",
    "print(f'Arguments: {sys.argv}')"
   ]
  },
  {
   "cell_type": "code",
   "execution_count": null,
   "id": "c54c50f0",
   "metadata": {},
   "outputs": [],
   "source": [
    "# Topic: OOP\n",
    "class Student:\n",
    "    def __init__(self, name): self.name = name\n",
    "s = Student('Fahd')\n",
    "print(s.name)"
   ]
  },
  {
   "cell_type": "code",
   "execution_count": null,
   "id": "9e0a538d",
   "metadata": {},
   "outputs": [],
   "source": [
    "# Topic: Data Cleaning\n",
    "import pandas as pd\n",
    "df = pd.DataFrame({'A':[1,None,3]})\n",
    "df = df.fillna(0)\n",
    "print(df)"
   ]
  },
  {
   "cell_type": "code",
   "execution_count": null,
   "id": "d702ad18",
   "metadata": {},
   "outputs": [],
   "source": [
    "# Topic: Matplotlib & Seaborn\n",
    "import seaborn as sns\n",
    "import pandas as pd\n",
    "sns.set()\n",
    "sns.histplot(pd.Series([1,2,2,3]));"
   ]
  },
  {
   "cell_type": "code",
   "execution_count": null,
   "id": "ad9b701a",
   "metadata": {},
   "outputs": [],
   "source": [
    "# Topic: Loops\n",
    "for i in range(10): print(i*i)"
   ]
  },
  {
   "cell_type": "code",
   "execution_count": null,
   "id": "2b5f87be",
   "metadata": {},
   "outputs": [],
   "source": [
    "# Topic: CLI Tools\n",
    "import sys\n",
    "print(f'Arguments: {sys.argv}')"
   ]
  },
  {
   "cell_type": "code",
   "execution_count": null,
   "id": "8ae7f8c7",
   "metadata": {},
   "outputs": [],
   "source": [
    "# Topic: Data Cleaning\n",
    "import pandas as pd\n",
    "df = pd.DataFrame({'A':[1,None,3]})\n",
    "df = df.fillna(0)\n",
    "print(df)"
   ]
  },
  {
   "cell_type": "code",
   "execution_count": null,
   "id": "60ee9dee",
   "metadata": {},
   "outputs": [],
   "source": [
    "# Topic: Recursion\n",
    "def fact(n): return 1 if n==0 else n*fact(n-1)\n",
    "print(fact(5))"
   ]
  },
  {
   "cell_type": "code",
   "execution_count": null,
   "id": "26e505ec",
   "metadata": {},
   "outputs": [],
   "source": [
    "# Topic: Functions\n",
    "def greet(name='User'):\n",
    "    print(f'Hi, {name}')\n",
    "greet()"
   ]
  },
  {
   "cell_type": "code",
   "execution_count": null,
   "id": "770b89c1",
   "metadata": {},
   "outputs": [],
   "source": [
    "# Topic: Recursion\n",
    "def fact(n): return 1 if n==0 else n*fact(n-1)\n",
    "print(fact(5))"
   ]
  },
  {
   "cell_type": "code",
   "execution_count": null,
   "id": "d76ca78a",
   "metadata": {},
   "outputs": [],
   "source": [
    "# Topic: Data Cleaning\n",
    "import pandas as pd\n",
    "df = pd.DataFrame({'A':[1,None,3]})\n",
    "df = df.fillna(0)\n",
    "print(df)"
   ]
  },
  {
   "cell_type": "code",
   "execution_count": null,
   "id": "7ec920b9",
   "metadata": {},
   "outputs": [],
   "source": [
    "# Topic: Regex\n",
    "import re\n",
    "text = 'email: test@example.com'\n",
    "print(re.findall(r'\\S+@\\S+', text))"
   ]
  },
  {
   "cell_type": "code",
   "execution_count": null,
   "id": "ec74d4c6",
   "metadata": {},
   "outputs": [],
   "source": [
    "# Topic: Web Scraping\n",
    "import requests\n",
    "from bs4 import BeautifulSoup\n",
    "r = requests.get('https://example.com')\n",
    "soup = BeautifulSoup(r.text, 'html.parser')\n",
    "print(soup.title.text)"
   ]
  },
  {
   "cell_type": "code",
   "execution_count": null,
   "id": "2250247c",
   "metadata": {},
   "outputs": [],
   "source": [
    "# Topic: Basic ML\n",
    "from sklearn.linear_model import LinearRegression\n",
    "model = LinearRegression()\n",
    "print(model)"
   ]
  },
  {
   "cell_type": "code",
   "execution_count": null,
   "id": "65515f75",
   "metadata": {},
   "outputs": [],
   "source": [
    "# Topic: JSON & CSV\n",
    "import csv\n",
    "with open('file.csv', 'w', newline='') as f:\n",
    " csv.writer(f).writerow(['a','b','c'])"
   ]
  },
  {
   "cell_type": "code",
   "execution_count": null,
   "id": "8d06dcb3",
   "metadata": {},
   "outputs": [],
   "source": [
    "# Topic: Lists & Tuples\n",
    "lst = [1, 2, 3]\n",
    "lst.append(4)\n",
    "print(lst)"
   ]
  },
  {
   "cell_type": "code",
   "execution_count": null,
   "id": "cfd97b82",
   "metadata": {},
   "outputs": [],
   "source": [
    "# Topic: OOP\n",
    "class Student:\n",
    "    def __init__(self, name): self.name = name\n",
    "s = Student('Fahd')\n",
    "print(s.name)"
   ]
  },
  {
   "cell_type": "code",
   "execution_count": null,
   "id": "598bb9d9",
   "metadata": {},
   "outputs": [],
   "source": [
    "# Topic: File I/O\n",
    "with open('test.txt', 'w') as f:\n",
    "    f.write('Hello World')"
   ]
  },
  {
   "cell_type": "code",
   "execution_count": null,
   "id": "9032d3e5",
   "metadata": {},
   "outputs": [],
   "source": [
    "# Topic: Loops\n",
    "for i in range(10): print(i*i)"
   ]
  },
  {
   "cell_type": "code",
   "execution_count": null,
   "id": "be90b1a1",
   "metadata": {},
   "outputs": [],
   "source": [
    "# Topic: Dictionaries & Sets\n",
    "s = set([1, 2, 3, 2])\n",
    "print(s)"
   ]
  },
  {
   "cell_type": "code",
   "execution_count": null,
   "id": "80914a61",
   "metadata": {},
   "outputs": [],
   "source": [
    "# Topic: Basic ML\n",
    "from sklearn.linear_model import LinearRegression\n",
    "model = LinearRegression()\n",
    "print(model)"
   ]
  },
  {
   "cell_type": "code",
   "execution_count": null,
   "id": "67e9454d",
   "metadata": {},
   "outputs": [],
   "source": [
    "# Topic: Regex\n",
    "import re\n",
    "text = 'email: test@example.com'\n",
    "print(re.findall(r'\\S+@\\S+', text))"
   ]
  },
  {
   "cell_type": "code",
   "execution_count": null,
   "id": "ec86b7fa",
   "metadata": {},
   "outputs": [],
   "source": [
    "# Topic: Mini Projects\n",
    "# Palindrome check\n",
    "def is_pal(s): return s == s[::-1]\n",
    "print(is_pal('madam'))"
   ]
  },
  {
   "cell_type": "code",
   "execution_count": null,
   "id": "f57c0782",
   "metadata": {},
   "outputs": [],
   "source": [
    "# Topic: Lists & Tuples\n",
    "lst = [1, 2, 3]\n",
    "lst.append(4)\n",
    "print(lst)"
   ]
  },
  {
   "cell_type": "code",
   "execution_count": null,
   "id": "ceb58982",
   "metadata": {},
   "outputs": [],
   "source": [
    "# Topic: JSON & CSV\n",
    "import json\n",
    "data = {'a': 1}\n",
    "print(json.dumps(data))"
   ]
  },
  {
   "cell_type": "code",
   "execution_count": null,
   "id": "fa2f651d",
   "metadata": {},
   "outputs": [],
   "source": [
    "# Topic: Basic ML\n",
    "from sklearn.linear_model import LinearRegression\n",
    "model = LinearRegression()\n",
    "print(model)"
   ]
  },
  {
   "cell_type": "code",
   "execution_count": null,
   "id": "a5cc1b46",
   "metadata": {},
   "outputs": [],
   "source": [
    "# Topic: Functions\n",
    "def square(x): return x*x\n",
    "print(square(5))"
   ]
  },
  {
   "cell_type": "code",
   "execution_count": null,
   "id": "d4df712f",
   "metadata": {},
   "outputs": [],
   "source": [
    "# Topic: Algorithms\n",
    "# Bubble sort\n",
    "def bubble(arr):\n",
    " for i in range(len(arr)):\n",
    "  for j in range(0, len(arr)-i-1):\n",
    "   if arr[j]>arr[j+1]: arr[j],arr[j+1]=arr[j+1],arr[j]\n",
    "a=[5,3,8]\n",
    "bubble(a)\n",
    "print(a)"
   ]
  },
  {
   "cell_type": "code",
   "execution_count": null,
   "id": "4a1ebf29",
   "metadata": {},
   "outputs": [],
   "source": [
    "# Topic: Recursion\n",
    "def fact(n): return 1 if n==0 else n*fact(n-1)\n",
    "print(fact(5))"
   ]
  },
  {
   "cell_type": "code",
   "execution_count": null,
   "id": "63b9d695",
   "metadata": {},
   "outputs": [],
   "source": [
    "# Topic: Data Cleaning\n",
    "import pandas as pd\n",
    "df = pd.DataFrame({'A':[1,None,3]})\n",
    "df = df.fillna(0)\n",
    "print(df)"
   ]
  },
  {
   "cell_type": "code",
   "execution_count": null,
   "id": "868ed29e",
   "metadata": {},
   "outputs": [],
   "source": [
    "# Topic: Web Scraping\n",
    "import requests\n",
    "from bs4 import BeautifulSoup\n",
    "r = requests.get('https://example.com')\n",
    "soup = BeautifulSoup(r.text, 'html.parser')\n",
    "print(soup.title.text)"
   ]
  },
  {
   "cell_type": "code",
   "execution_count": null,
   "id": "60405926",
   "metadata": {},
   "outputs": [],
   "source": [
    "# Topic: Decorators\n",
    "def log(func):\n",
    " def wrapper():\n",
    "  print('Call')\n",
    "  func()\n",
    " return wrapper\n",
    "@log\n",
    "def say(): print('Hi')\n",
    "say()"
   ]
  },
  {
   "cell_type": "code",
   "execution_count": null,
   "id": "4ad110c4",
   "metadata": {},
   "outputs": [],
   "source": [
    "# Topic: Algorithms\n",
    "# Bubble sort\n",
    "def bubble(arr):\n",
    " for i in range(len(arr)):\n",
    "  for j in range(0, len(arr)-i-1):\n",
    "   if arr[j]>arr[j+1]: arr[j],arr[j+1]=arr[j+1],arr[j]\n",
    "a=[5,3,8]\n",
    "bubble(a)\n",
    "print(a)"
   ]
  },
  {
   "cell_type": "code",
   "execution_count": null,
   "id": "1ad43163",
   "metadata": {},
   "outputs": [],
   "source": [
    "# Topic: JSON & CSV\n",
    "import csv\n",
    "with open('file.csv', 'w', newline='') as f:\n",
    " csv.writer(f).writerow(['a','b','c'])"
   ]
  },
  {
   "cell_type": "code",
   "execution_count": null,
   "id": "c0b5c3ba",
   "metadata": {},
   "outputs": [],
   "source": [
    "# Topic: Data Cleaning\n",
    "import pandas as pd\n",
    "df = pd.DataFrame({'A':[1,None,3]})\n",
    "df = df.fillna(0)\n",
    "print(df)"
   ]
  },
  {
   "cell_type": "code",
   "execution_count": null,
   "id": "3298ee3d",
   "metadata": {},
   "outputs": [],
   "source": [
    "# Topic: Loops\n",
    "while True:\n",
    "    print('Break')\n",
    "    break"
   ]
  },
  {
   "cell_type": "code",
   "execution_count": null,
   "id": "56b316f3",
   "metadata": {},
   "outputs": [],
   "source": [
    "# Topic: Pandas\n",
    "import pandas as pd\n",
    "df = pd.read_csv('file.csv')\n",
    "print(df.head())"
   ]
  },
  {
   "cell_type": "code",
   "execution_count": null,
   "id": "3c5c5130",
   "metadata": {},
   "outputs": [],
   "source": [
    "# Topic: Functions\n",
    "def greet(name='User'):\n",
    "    print(f'Hi, {name}')\n",
    "greet()"
   ]
  },
  {
   "cell_type": "code",
   "execution_count": null,
   "id": "c7e025b8",
   "metadata": {},
   "outputs": [],
   "source": [
    "# Topic: Algorithms\n",
    "# Bubble sort\n",
    "def bubble(arr):\n",
    " for i in range(len(arr)):\n",
    "  for j in range(0, len(arr)-i-1):\n",
    "   if arr[j]>arr[j+1]: arr[j],arr[j+1]=arr[j+1],arr[j]\n",
    "a=[5,3,8]\n",
    "bubble(a)\n",
    "print(a)"
   ]
  },
  {
   "cell_type": "code",
   "execution_count": null,
   "id": "1c39a54c",
   "metadata": {},
   "outputs": [],
   "source": [
    "# Topic: Matplotlib & Seaborn\n",
    "import matplotlib.pyplot as plt\n",
    "plt.plot([1,2],[3,4])\n",
    "plt.show()"
   ]
  },
  {
   "cell_type": "code",
   "execution_count": null,
   "id": "bbaa0a74",
   "metadata": {},
   "outputs": [],
   "source": [
    "# Topic: Algorithms\n",
    "# Bubble sort\n",
    "def bubble(arr):\n",
    " for i in range(len(arr)):\n",
    "  for j in range(0, len(arr)-i-1):\n",
    "   if arr[j]>arr[j+1]: arr[j],arr[j+1]=arr[j+1],arr[j]\n",
    "a=[5,3,8]\n",
    "bubble(a)\n",
    "print(a)"
   ]
  },
  {
   "cell_type": "code",
   "execution_count": null,
   "id": "97f5ca43",
   "metadata": {},
   "outputs": [],
   "source": [
    "# Topic: Regex\n",
    "import re\n",
    "text = 'email: test@example.com'\n",
    "print(re.findall(r'\\S+@\\S+', text))"
   ]
  },
  {
   "cell_type": "code",
   "execution_count": null,
   "id": "9197da53",
   "metadata": {},
   "outputs": [],
   "source": [
    "# Topic: Web Scraping\n",
    "import requests\n",
    "from bs4 import BeautifulSoup\n",
    "r = requests.get('https://example.com')\n",
    "soup = BeautifulSoup(r.text, 'html.parser')\n",
    "print(soup.title.text)"
   ]
  },
  {
   "cell_type": "code",
   "execution_count": null,
   "id": "41e13635",
   "metadata": {},
   "outputs": [],
   "source": [
    "# Topic: Matplotlib & Seaborn\n",
    "import seaborn as sns\n",
    "import pandas as pd\n",
    "sns.set()\n",
    "sns.histplot(pd.Series([1,2,2,3]));"
   ]
  },
  {
   "cell_type": "code",
   "execution_count": null,
   "id": "b9757e37",
   "metadata": {},
   "outputs": [],
   "source": [
    "# Topic: Pandas\n",
    "import pandas as pd\n",
    "df = pd.read_csv('file.csv')\n",
    "print(df.head())"
   ]
  },
  {
   "cell_type": "code",
   "execution_count": null,
   "id": "7cc8a7ce",
   "metadata": {},
   "outputs": [],
   "source": [
    "# Topic: Basic ML\n",
    "from sklearn.linear_model import LinearRegression\n",
    "model = LinearRegression()\n",
    "print(model)"
   ]
  },
  {
   "cell_type": "code",
   "execution_count": null,
   "id": "548a40aa",
   "metadata": {},
   "outputs": [],
   "source": [
    "# Topic: Data Cleaning\n",
    "import pandas as pd\n",
    "df = pd.DataFrame({'A':[1,None,3]})\n",
    "df = df.fillna(0)\n",
    "print(df)"
   ]
  },
  {
   "cell_type": "code",
   "execution_count": null,
   "id": "3c27fb92",
   "metadata": {},
   "outputs": [],
   "source": [
    "# Topic: Algorithms\n",
    "# Bubble sort\n",
    "def bubble(arr):\n",
    " for i in range(len(arr)):\n",
    "  for j in range(0, len(arr)-i-1):\n",
    "   if arr[j]>arr[j+1]: arr[j],arr[j+1]=arr[j+1],arr[j]\n",
    "a=[5,3,8]\n",
    "bubble(a)\n",
    "print(a)"
   ]
  },
  {
   "cell_type": "code",
   "execution_count": null,
   "id": "cb1693d3",
   "metadata": {},
   "outputs": [],
   "source": [
    "# Topic: NumPy\n",
    "import numpy as np\n",
    "a = np.array([1, 2, 3])\n",
    "print(a + 5)"
   ]
  },
  {
   "cell_type": "code",
   "execution_count": null,
   "id": "b30d7c89",
   "metadata": {},
   "outputs": [],
   "source": [
    "# Topic: Recursion\n",
    "def fact(n): return 1 if n==0 else n*fact(n-1)\n",
    "print(fact(5))"
   ]
  },
  {
   "cell_type": "code",
   "execution_count": null,
   "id": "591e960a",
   "metadata": {},
   "outputs": [],
   "source": [
    "# Topic: Mini Projects\n",
    "# Calculator\n",
    "def calc(a,b,op): return eval(f'{a}{op}{b}')\n",
    "print(calc(5,2,'+'))"
   ]
  },
  {
   "cell_type": "code",
   "execution_count": null,
   "id": "4f40cae0",
   "metadata": {},
   "outputs": [],
   "source": [
    "# Topic: JSON & CSV\n",
    "import json\n",
    "data = {'a': 1}\n",
    "print(json.dumps(data))"
   ]
  },
  {
   "cell_type": "code",
   "execution_count": null,
   "id": "b69286de",
   "metadata": {},
   "outputs": [],
   "source": [
    "# Topic: Pandas\n",
    "import pandas as pd\n",
    "df = pd.read_csv('file.csv')\n",
    "print(df.head())"
   ]
  },
  {
   "cell_type": "code",
   "execution_count": null,
   "id": "f92bc90f",
   "metadata": {},
   "outputs": [],
   "source": [
    "# Topic: CLI Tools\n",
    "import sys\n",
    "print(f'Arguments: {sys.argv}')"
   ]
  },
  {
   "cell_type": "code",
   "execution_count": null,
   "id": "7b89ce2f",
   "metadata": {},
   "outputs": [],
   "source": [
    "# Topic: NumPy\n",
    "import numpy as np\n",
    "a = np.array([1, 2, 3])\n",
    "print(a + 5)"
   ]
  },
  {
   "cell_type": "code",
   "execution_count": null,
   "id": "07a9ab41",
   "metadata": {},
   "outputs": [],
   "source": [
    "# Topic: Recursion\n",
    "def fact(n): return 1 if n==0 else n*fact(n-1)\n",
    "print(fact(5))"
   ]
  },
  {
   "cell_type": "code",
   "execution_count": null,
   "id": "3bd694cf",
   "metadata": {},
   "outputs": [],
   "source": [
    "# Topic: Dictionaries & Sets\n",
    "d = {'name': 'Fahd', 'age': 20}\n",
    "print(d.get('name'))"
   ]
  },
  {
   "cell_type": "code",
   "execution_count": null,
   "id": "7599b43e",
   "metadata": {},
   "outputs": [],
   "source": [
    "# Topic: Recursion\n",
    "def fact(n): return 1 if n==0 else n*fact(n-1)\n",
    "print(fact(5))"
   ]
  },
  {
   "cell_type": "code",
   "execution_count": null,
   "id": "775e1a38",
   "metadata": {},
   "outputs": [],
   "source": [
    "# Topic: Web Scraping\n",
    "import requests\n",
    "from bs4 import BeautifulSoup\n",
    "r = requests.get('https://example.com')\n",
    "soup = BeautifulSoup(r.text, 'html.parser')\n",
    "print(soup.title.text)"
   ]
  },
  {
   "cell_type": "code",
   "execution_count": null,
   "id": "619bcc02",
   "metadata": {},
   "outputs": [],
   "source": [
    "# Topic: Matplotlib & Seaborn\n",
    "import matplotlib.pyplot as plt\n",
    "plt.plot([1,2],[3,4])\n",
    "plt.show()"
   ]
  },
  {
   "cell_type": "code",
   "execution_count": null,
   "id": "01929f06",
   "metadata": {},
   "outputs": [],
   "source": [
    "# Topic: Lists & Tuples\n",
    "t = (1, 2, 3)\n",
    "print(t[0])"
   ]
  },
  {
   "cell_type": "code",
   "execution_count": null,
   "id": "42d34fc4",
   "metadata": {},
   "outputs": [],
   "source": [
    "# Topic: Dictionaries & Sets\n",
    "d = {'name': 'Fahd', 'age': 20}\n",
    "print(d.get('name'))"
   ]
  },
  {
   "cell_type": "code",
   "execution_count": null,
   "id": "18aec4f8",
   "metadata": {},
   "outputs": [],
   "source": [
    "# Topic: Algorithms\n",
    "# Bubble sort\n",
    "def bubble(arr):\n",
    " for i in range(len(arr)):\n",
    "  for j in range(0, len(arr)-i-1):\n",
    "   if arr[j]>arr[j+1]: arr[j],arr[j+1]=arr[j+1],arr[j]\n",
    "a=[5,3,8]\n",
    "bubble(a)\n",
    "print(a)"
   ]
  },
  {
   "cell_type": "code",
   "execution_count": null,
   "id": "16a34cb0",
   "metadata": {},
   "outputs": [],
   "source": [
    "# Topic: Mini Projects\n",
    "# Palindrome check\n",
    "def is_pal(s): return s == s[::-1]\n",
    "print(is_pal('madam'))"
   ]
  },
  {
   "cell_type": "code",
   "execution_count": null,
   "id": "d5f56565",
   "metadata": {},
   "outputs": [],
   "source": [
    "# Topic: CLI Tools\n",
    "import sys\n",
    "print(f'Arguments: {sys.argv}')"
   ]
  },
  {
   "cell_type": "code",
   "execution_count": null,
   "id": "04d0cfc6",
   "metadata": {},
   "outputs": [],
   "source": [
    "# Topic: Basics\n",
    "name = 'Fahd'\n",
    "print(f'Hello, {name}')"
   ]
  },
  {
   "cell_type": "code",
   "execution_count": null,
   "id": "c2d0b32d",
   "metadata": {},
   "outputs": [],
   "source": [
    "# Topic: OOP\n",
    "class Student:\n",
    "    def __init__(self, name): self.name = name\n",
    "s = Student('Fahd')\n",
    "print(s.name)"
   ]
  },
  {
   "cell_type": "code",
   "execution_count": null,
   "id": "8081b161",
   "metadata": {},
   "outputs": [],
   "source": [
    "# Topic: Basic ML\n",
    "from sklearn.linear_model import LinearRegression\n",
    "model = LinearRegression()\n",
    "print(model)"
   ]
  },
  {
   "cell_type": "code",
   "execution_count": null,
   "id": "7d766d36",
   "metadata": {},
   "outputs": [],
   "source": [
    "# Topic: Mini Projects\n",
    "# Palindrome check\n",
    "def is_pal(s): return s == s[::-1]\n",
    "print(is_pal('madam'))"
   ]
  },
  {
   "cell_type": "code",
   "execution_count": null,
   "id": "2ac8c01e",
   "metadata": {},
   "outputs": [],
   "source": [
    "# Topic: Loops\n",
    "while True:\n",
    "    print('Break')\n",
    "    break"
   ]
  },
  {
   "cell_type": "code",
   "execution_count": null,
   "id": "9d7383dc",
   "metadata": {},
   "outputs": [],
   "source": [
    "# Topic: Matplotlib & Seaborn\n",
    "import matplotlib.pyplot as plt\n",
    "plt.plot([1,2],[3,4])\n",
    "plt.show()"
   ]
  },
  {
   "cell_type": "code",
   "execution_count": null,
   "id": "3016d3ac",
   "metadata": {},
   "outputs": [],
   "source": [
    "# Topic: Web Scraping\n",
    "import requests\n",
    "from bs4 import BeautifulSoup\n",
    "r = requests.get('https://example.com')\n",
    "soup = BeautifulSoup(r.text, 'html.parser')\n",
    "print(soup.title.text)"
   ]
  },
  {
   "cell_type": "code",
   "execution_count": null,
   "id": "dc4ef89a",
   "metadata": {},
   "outputs": [],
   "source": [
    "# Topic: Web Scraping\n",
    "import requests\n",
    "from bs4 import BeautifulSoup\n",
    "r = requests.get('https://example.com')\n",
    "soup = BeautifulSoup(r.text, 'html.parser')\n",
    "print(soup.title.text)"
   ]
  },
  {
   "cell_type": "code",
   "execution_count": null,
   "id": "1552b218",
   "metadata": {},
   "outputs": [],
   "source": [
    "# Topic: Mini Projects\n",
    "# Palindrome check\n",
    "def is_pal(s): return s == s[::-1]\n",
    "print(is_pal('madam'))"
   ]
  },
  {
   "cell_type": "code",
   "execution_count": null,
   "id": "aa7d8416",
   "metadata": {},
   "outputs": [],
   "source": [
    "# Topic: Functions\n",
    "def greet(name='User'):\n",
    "    print(f'Hi, {name}')\n",
    "greet()"
   ]
  },
  {
   "cell_type": "code",
   "execution_count": null,
   "id": "e05e0abf",
   "metadata": {},
   "outputs": [],
   "source": [
    "# Topic: Web Scraping\n",
    "import requests\n",
    "from bs4 import BeautifulSoup\n",
    "r = requests.get('https://example.com')\n",
    "soup = BeautifulSoup(r.text, 'html.parser')\n",
    "print(soup.title.text)"
   ]
  },
  {
   "cell_type": "code",
   "execution_count": null,
   "id": "6238d16b",
   "metadata": {},
   "outputs": [],
   "source": [
    "# Topic: Functions\n",
    "def square(x): return x*x\n",
    "print(square(5))"
   ]
  },
  {
   "cell_type": "code",
   "execution_count": null,
   "id": "000f9c74",
   "metadata": {},
   "outputs": [],
   "source": [
    "# Topic: Lists & Tuples\n",
    "lst = [1, 2, 3]\n",
    "lst.append(4)\n",
    "print(lst)"
   ]
  },
  {
   "cell_type": "code",
   "execution_count": null,
   "id": "99a95a33",
   "metadata": {},
   "outputs": [],
   "source": [
    "# Topic: Web Scraping\n",
    "import requests\n",
    "from bs4 import BeautifulSoup\n",
    "r = requests.get('https://example.com')\n",
    "soup = BeautifulSoup(r.text, 'html.parser')\n",
    "print(soup.title.text)"
   ]
  },
  {
   "cell_type": "code",
   "execution_count": null,
   "id": "aea66289",
   "metadata": {},
   "outputs": [],
   "source": [
    "# Topic: Regex\n",
    "import re\n",
    "text = 'email: test@example.com'\n",
    "print(re.findall(r'\\S+@\\S+', text))"
   ]
  },
  {
   "cell_type": "code",
   "execution_count": null,
   "id": "06f8dd86",
   "metadata": {},
   "outputs": [],
   "source": [
    "# Topic: OOP\n",
    "class Student:\n",
    "    def __init__(self, name): self.name = name\n",
    "s = Student('Fahd')\n",
    "print(s.name)"
   ]
  },
  {
   "cell_type": "code",
   "execution_count": null,
   "id": "b8bf4e73",
   "metadata": {},
   "outputs": [],
   "source": [
    "# Topic: File I/O\n",
    "with open('test.txt', 'r') as f:\n",
    "    print(f.read())"
   ]
  },
  {
   "cell_type": "code",
   "execution_count": null,
   "id": "61e9c73a",
   "metadata": {},
   "outputs": [],
   "source": [
    "# Topic: JSON & CSV\n",
    "import json\n",
    "data = {'a': 1}\n",
    "print(json.dumps(data))"
   ]
  },
  {
   "cell_type": "code",
   "execution_count": null,
   "id": "614c5538",
   "metadata": {},
   "outputs": [],
   "source": [
    "# Topic: Loops\n",
    "while True:\n",
    "    print('Break')\n",
    "    break"
   ]
  },
  {
   "cell_type": "code",
   "execution_count": null,
   "id": "02ae442e",
   "metadata": {},
   "outputs": [],
   "source": [
    "# Topic: Lists & Tuples\n",
    "lst = [1, 2, 3]\n",
    "lst.append(4)\n",
    "print(lst)"
   ]
  },
  {
   "cell_type": "code",
   "execution_count": null,
   "id": "85f19d57",
   "metadata": {},
   "outputs": [],
   "source": [
    "# Topic: Mini Projects\n",
    "# Palindrome check\n",
    "def is_pal(s): return s == s[::-1]\n",
    "print(is_pal('madam'))"
   ]
  },
  {
   "cell_type": "code",
   "execution_count": null,
   "id": "addce613",
   "metadata": {},
   "outputs": [],
   "source": [
    "# Topic: Basics\n",
    "name = 'Fahd'\n",
    "print(f'Hello, {name}')"
   ]
  },
  {
   "cell_type": "code",
   "execution_count": null,
   "id": "ab93f8a5",
   "metadata": {},
   "outputs": [],
   "source": [
    "# Topic: Regex\n",
    "import re\n",
    "text = 'email: test@example.com'\n",
    "print(re.findall(r'\\S+@\\S+', text))"
   ]
  },
  {
   "cell_type": "code",
   "execution_count": null,
   "id": "e3fe2615",
   "metadata": {},
   "outputs": [],
   "source": [
    "# Topic: Basic ML\n",
    "from sklearn.linear_model import LinearRegression\n",
    "model = LinearRegression()\n",
    "print(model)"
   ]
  },
  {
   "cell_type": "code",
   "execution_count": null,
   "id": "b1f7d769",
   "metadata": {},
   "outputs": [],
   "source": [
    "# Topic: Pandas\n",
    "import pandas as pd\n",
    "df = pd.read_csv('file.csv')\n",
    "print(df.head())"
   ]
  },
  {
   "cell_type": "code",
   "execution_count": null,
   "id": "1c2bfffb",
   "metadata": {},
   "outputs": [],
   "source": [
    "# Topic: Algorithms\n",
    "# Bubble sort\n",
    "def bubble(arr):\n",
    " for i in range(len(arr)):\n",
    "  for j in range(0, len(arr)-i-1):\n",
    "   if arr[j]>arr[j+1]: arr[j],arr[j+1]=arr[j+1],arr[j]\n",
    "a=[5,3,8]\n",
    "bubble(a)\n",
    "print(a)"
   ]
  },
  {
   "cell_type": "code",
   "execution_count": null,
   "id": "f1b8cc56",
   "metadata": {},
   "outputs": [],
   "source": [
    "# Topic: Dictionaries & Sets\n",
    "s = set([1, 2, 3, 2])\n",
    "print(s)"
   ]
  },
  {
   "cell_type": "code",
   "execution_count": null,
   "id": "669ee9cd",
   "metadata": {},
   "outputs": [],
   "source": [
    "# Topic: JSON & CSV\n",
    "import json\n",
    "data = {'a': 1}\n",
    "print(json.dumps(data))"
   ]
  },
  {
   "cell_type": "code",
   "execution_count": null,
   "id": "a38f135f",
   "metadata": {},
   "outputs": [],
   "source": [
    "# Topic: Dictionaries & Sets\n",
    "d = {'name': 'Fahd', 'age': 20}\n",
    "print(d.get('name'))"
   ]
  },
  {
   "cell_type": "code",
   "execution_count": null,
   "id": "acc2d1b7",
   "metadata": {},
   "outputs": [],
   "source": [
    "# Topic: Web Scraping\n",
    "import requests\n",
    "from bs4 import BeautifulSoup\n",
    "r = requests.get('https://example.com')\n",
    "soup = BeautifulSoup(r.text, 'html.parser')\n",
    "print(soup.title.text)"
   ]
  },
  {
   "cell_type": "code",
   "execution_count": null,
   "id": "2a618b0d",
   "metadata": {},
   "outputs": [],
   "source": [
    "# Topic: Functions\n",
    "def square(x): return x*x\n",
    "print(square(5))"
   ]
  },
  {
   "cell_type": "code",
   "execution_count": null,
   "id": "20445355",
   "metadata": {},
   "outputs": [],
   "source": [
    "# Topic: Decorators\n",
    "def log(func):\n",
    " def wrapper():\n",
    "  print('Call')\n",
    "  func()\n",
    " return wrapper\n",
    "@log\n",
    "def say(): print('Hi')\n",
    "say()"
   ]
  },
  {
   "cell_type": "code",
   "execution_count": null,
   "id": "f8018e42",
   "metadata": {},
   "outputs": [],
   "source": [
    "# Topic: Basics\n",
    "name = 'Fahd'\n",
    "print(f'Hello, {name}')"
   ]
  },
  {
   "cell_type": "code",
   "execution_count": null,
   "id": "0c15a73c",
   "metadata": {},
   "outputs": [],
   "source": [
    "# Topic: JSON & CSV\n",
    "import csv\n",
    "with open('file.csv', 'w', newline='') as f:\n",
    " csv.writer(f).writerow(['a','b','c'])"
   ]
  },
  {
   "cell_type": "code",
   "execution_count": null,
   "id": "1b63b36a",
   "metadata": {},
   "outputs": [],
   "source": [
    "# Topic: Decorators\n",
    "def log(func):\n",
    " def wrapper():\n",
    "  print('Call')\n",
    "  func()\n",
    " return wrapper\n",
    "@log\n",
    "def say(): print('Hi')\n",
    "say()"
   ]
  },
  {
   "cell_type": "code",
   "execution_count": null,
   "id": "4bd27473",
   "metadata": {},
   "outputs": [],
   "source": [
    "# Topic: Functions\n",
    "def square(x): return x*x\n",
    "print(square(5))"
   ]
  },
  {
   "cell_type": "code",
   "execution_count": null,
   "id": "3241851c",
   "metadata": {},
   "outputs": [],
   "source": [
    "# Topic: JSON & CSV\n",
    "import json\n",
    "data = {'a': 1}\n",
    "print(json.dumps(data))"
   ]
  },
  {
   "cell_type": "code",
   "execution_count": null,
   "id": "3f73dbbe",
   "metadata": {},
   "outputs": [],
   "source": [
    "# Topic: Matplotlib & Seaborn\n",
    "import seaborn as sns\n",
    "import pandas as pd\n",
    "sns.set()\n",
    "sns.histplot(pd.Series([1,2,2,3]));"
   ]
  },
  {
   "cell_type": "code",
   "execution_count": null,
   "id": "f2d85291",
   "metadata": {},
   "outputs": [],
   "source": [
    "# Topic: Lists & Tuples\n",
    "lst = [1, 2, 3]\n",
    "lst.append(4)\n",
    "print(lst)"
   ]
  },
  {
   "cell_type": "code",
   "execution_count": null,
   "id": "32546946",
   "metadata": {},
   "outputs": [],
   "source": [
    "# Topic: OOP\n",
    "class Student:\n",
    "    def __init__(self, name): self.name = name\n",
    "s = Student('Fahd')\n",
    "print(s.name)"
   ]
  },
  {
   "cell_type": "code",
   "execution_count": null,
   "id": "cc01354e",
   "metadata": {},
   "outputs": [],
   "source": [
    "# Topic: JSON & CSV\n",
    "import json\n",
    "data = {'a': 1}\n",
    "print(json.dumps(data))"
   ]
  },
  {
   "cell_type": "code",
   "execution_count": null,
   "id": "a4192228",
   "metadata": {},
   "outputs": [],
   "source": [
    "# Topic: Basic ML\n",
    "from sklearn.linear_model import LinearRegression\n",
    "model = LinearRegression()\n",
    "print(model)"
   ]
  },
  {
   "cell_type": "code",
   "execution_count": null,
   "id": "4f1c57ba",
   "metadata": {},
   "outputs": [],
   "source": [
    "# Topic: CLI Tools\n",
    "import sys\n",
    "print(f'Arguments: {sys.argv}')"
   ]
  },
  {
   "cell_type": "code",
   "execution_count": null,
   "id": "f76e4190",
   "metadata": {},
   "outputs": [],
   "source": [
    "# Topic: Algorithms\n",
    "# Bubble sort\n",
    "def bubble(arr):\n",
    " for i in range(len(arr)):\n",
    "  for j in range(0, len(arr)-i-1):\n",
    "   if arr[j]>arr[j+1]: arr[j],arr[j+1]=arr[j+1],arr[j]\n",
    "a=[5,3,8]\n",
    "bubble(a)\n",
    "print(a)"
   ]
  },
  {
   "cell_type": "code",
   "execution_count": null,
   "id": "3ca8d5f0",
   "metadata": {},
   "outputs": [],
   "source": [
    "# Topic: Basic ML\n",
    "from sklearn.linear_model import LinearRegression\n",
    "model = LinearRegression()\n",
    "print(model)"
   ]
  },
  {
   "cell_type": "code",
   "execution_count": null,
   "id": "ddb96179",
   "metadata": {},
   "outputs": [],
   "source": [
    "# Topic: Dictionaries & Sets\n",
    "s = set([1, 2, 3, 2])\n",
    "print(s)"
   ]
  },
  {
   "cell_type": "code",
   "execution_count": null,
   "id": "958fa263",
   "metadata": {},
   "outputs": [],
   "source": [
    "# Topic: Functions\n",
    "def square(x): return x*x\n",
    "print(square(5))"
   ]
  },
  {
   "cell_type": "code",
   "execution_count": null,
   "id": "20a9e7f5",
   "metadata": {},
   "outputs": [],
   "source": [
    "# Topic: Basic ML\n",
    "from sklearn.linear_model import LinearRegression\n",
    "model = LinearRegression()\n",
    "print(model)"
   ]
  },
  {
   "cell_type": "code",
   "execution_count": null,
   "id": "86c132a0",
   "metadata": {},
   "outputs": [],
   "source": [
    "# Topic: Regex\n",
    "import re\n",
    "text = 'email: test@example.com'\n",
    "print(re.findall(r'\\S+@\\S+', text))"
   ]
  },
  {
   "cell_type": "code",
   "execution_count": null,
   "id": "4a2eb414",
   "metadata": {},
   "outputs": [],
   "source": [
    "# Topic: Recursion\n",
    "def fact(n): return 1 if n==0 else n*fact(n-1)\n",
    "print(fact(5))"
   ]
  },
  {
   "cell_type": "code",
   "execution_count": null,
   "id": "d6fb8bd8",
   "metadata": {},
   "outputs": [],
   "source": [
    "# Topic: JSON & CSV\n",
    "import json\n",
    "data = {'a': 1}\n",
    "print(json.dumps(data))"
   ]
  },
  {
   "cell_type": "code",
   "execution_count": null,
   "id": "f21470bb",
   "metadata": {},
   "outputs": [],
   "source": [
    "# Topic: Dictionaries & Sets\n",
    "d = {'name': 'Fahd', 'age': 20}\n",
    "print(d.get('name'))"
   ]
  },
  {
   "cell_type": "code",
   "execution_count": null,
   "id": "9652c944",
   "metadata": {},
   "outputs": [],
   "source": [
    "# Topic: Recursion\n",
    "def fact(n): return 1 if n==0 else n*fact(n-1)\n",
    "print(fact(5))"
   ]
  },
  {
   "cell_type": "code",
   "execution_count": null,
   "id": "283e2ce9",
   "metadata": {},
   "outputs": [],
   "source": [
    "# Topic: Mini Projects\n",
    "# Calculator\n",
    "def calc(a,b,op): return eval(f'{a}{op}{b}')\n",
    "print(calc(5,2,'+'))"
   ]
  },
  {
   "cell_type": "code",
   "execution_count": null,
   "id": "c1c058b8",
   "metadata": {},
   "outputs": [],
   "source": [
    "# Topic: JSON & CSV\n",
    "import json\n",
    "data = {'a': 1}\n",
    "print(json.dumps(data))"
   ]
  },
  {
   "cell_type": "code",
   "execution_count": null,
   "id": "c1e53ebe",
   "metadata": {},
   "outputs": [],
   "source": [
    "# Topic: Recursion\n",
    "def fact(n): return 1 if n==0 else n*fact(n-1)\n",
    "print(fact(5))"
   ]
  },
  {
   "cell_type": "code",
   "execution_count": null,
   "id": "3f28a8da",
   "metadata": {},
   "outputs": [],
   "source": [
    "# Topic: Loops\n",
    "for i in range(10): print(i*i)"
   ]
  },
  {
   "cell_type": "code",
   "execution_count": null,
   "id": "72860331",
   "metadata": {},
   "outputs": [],
   "source": [
    "# Topic: Recursion\n",
    "def fact(n): return 1 if n==0 else n*fact(n-1)\n",
    "print(fact(5))"
   ]
  },
  {
   "cell_type": "code",
   "execution_count": null,
   "id": "9e8f3325",
   "metadata": {},
   "outputs": [],
   "source": [
    "# Topic: Dictionaries & Sets\n",
    "s = set([1, 2, 3, 2])\n",
    "print(s)"
   ]
  },
  {
   "cell_type": "code",
   "execution_count": null,
   "id": "234a818e",
   "metadata": {},
   "outputs": [],
   "source": [
    "# Topic: Lists & Tuples\n",
    "t = (1, 2, 3)\n",
    "print(t[0])"
   ]
  },
  {
   "cell_type": "code",
   "execution_count": null,
   "id": "3f6c00d3",
   "metadata": {},
   "outputs": [],
   "source": [
    "# Topic: File I/O\n",
    "with open('test.txt', 'w') as f:\n",
    "    f.write('Hello World')"
   ]
  },
  {
   "cell_type": "code",
   "execution_count": null,
   "id": "c55f3e9c",
   "metadata": {},
   "outputs": [],
   "source": [
    "# Topic: CLI Tools\n",
    "import sys\n",
    "print(f'Arguments: {sys.argv}')"
   ]
  },
  {
   "cell_type": "code",
   "execution_count": null,
   "id": "5d4db360",
   "metadata": {},
   "outputs": [],
   "source": [
    "# Topic: Mini Projects\n",
    "# Palindrome check\n",
    "def is_pal(s): return s == s[::-1]\n",
    "print(is_pal('madam'))"
   ]
  },
  {
   "cell_type": "code",
   "execution_count": null,
   "id": "ceaf0f58",
   "metadata": {},
   "outputs": [],
   "source": [
    "# Topic: CLI Tools\n",
    "import sys\n",
    "print(f'Arguments: {sys.argv}')"
   ]
  },
  {
   "cell_type": "code",
   "execution_count": null,
   "id": "8164908f",
   "metadata": {},
   "outputs": [],
   "source": [
    "# Topic: NumPy\n",
    "import numpy as np\n",
    "print(np.linspace(0, 1, 5))"
   ]
  },
  {
   "cell_type": "code",
   "execution_count": null,
   "id": "ad125576",
   "metadata": {},
   "outputs": [],
   "source": [
    "# Topic: NumPy\n",
    "import numpy as np\n",
    "a = np.array([1, 2, 3])\n",
    "print(a + 5)"
   ]
  },
  {
   "cell_type": "code",
   "execution_count": null,
   "id": "a3afef05",
   "metadata": {},
   "outputs": [],
   "source": [
    "# Topic: CLI Tools\n",
    "import sys\n",
    "print(f'Arguments: {sys.argv}')"
   ]
  },
  {
   "cell_type": "code",
   "execution_count": null,
   "id": "595b67c2",
   "metadata": {},
   "outputs": [],
   "source": [
    "# Topic: Functions\n",
    "def greet(name='User'):\n",
    "    print(f'Hi, {name}')\n",
    "greet()"
   ]
  },
  {
   "cell_type": "code",
   "execution_count": null,
   "id": "e79b9bca",
   "metadata": {},
   "outputs": [],
   "source": [
    "# Topic: Web Scraping\n",
    "import requests\n",
    "from bs4 import BeautifulSoup\n",
    "r = requests.get('https://example.com')\n",
    "soup = BeautifulSoup(r.text, 'html.parser')\n",
    "print(soup.title.text)"
   ]
  },
  {
   "cell_type": "code",
   "execution_count": null,
   "id": "30710ca7",
   "metadata": {},
   "outputs": [],
   "source": [
    "# Topic: Loops\n",
    "while True:\n",
    "    print('Break')\n",
    "    break"
   ]
  },
  {
   "cell_type": "code",
   "execution_count": null,
   "id": "4a9d6faa",
   "metadata": {},
   "outputs": [],
   "source": [
    "# Topic: Loops\n",
    "while True:\n",
    "    print('Break')\n",
    "    break"
   ]
  },
  {
   "cell_type": "code",
   "execution_count": null,
   "id": "21a984c2",
   "metadata": {},
   "outputs": [],
   "source": [
    "# Topic: JSON & CSV\n",
    "import json\n",
    "data = {'a': 1}\n",
    "print(json.dumps(data))"
   ]
  },
  {
   "cell_type": "code",
   "execution_count": null,
   "id": "a24c2296",
   "metadata": {},
   "outputs": [],
   "source": [
    "# Topic: Functions\n",
    "def greet(name='User'):\n",
    "    print(f'Hi, {name}')\n",
    "greet()"
   ]
  },
  {
   "cell_type": "code",
   "execution_count": null,
   "id": "583d418b",
   "metadata": {},
   "outputs": [],
   "source": [
    "# Topic: File I/O\n",
    "with open('test.txt', 'w') as f:\n",
    "    f.write('Hello World')"
   ]
  },
  {
   "cell_type": "code",
   "execution_count": null,
   "id": "190768a2",
   "metadata": {},
   "outputs": [],
   "source": [
    "# Topic: Loops\n",
    "while True:\n",
    "    print('Break')\n",
    "    break"
   ]
  },
  {
   "cell_type": "code",
   "execution_count": null,
   "id": "d095f8e1",
   "metadata": {},
   "outputs": [],
   "source": [
    "# Topic: Lists & Tuples\n",
    "lst = [1, 2, 3]\n",
    "lst.append(4)\n",
    "print(lst)"
   ]
  },
  {
   "cell_type": "code",
   "execution_count": null,
   "id": "435d0ff4",
   "metadata": {},
   "outputs": [],
   "source": [
    "# Topic: Web Scraping\n",
    "import requests\n",
    "from bs4 import BeautifulSoup\n",
    "r = requests.get('https://example.com')\n",
    "soup = BeautifulSoup(r.text, 'html.parser')\n",
    "print(soup.title.text)"
   ]
  },
  {
   "cell_type": "code",
   "execution_count": null,
   "id": "1f322b2c",
   "metadata": {},
   "outputs": [],
   "source": [
    "# Topic: Decorators\n",
    "def log(func):\n",
    " def wrapper():\n",
    "  print('Call')\n",
    "  func()\n",
    " return wrapper\n",
    "@log\n",
    "def say(): print('Hi')\n",
    "say()"
   ]
  },
  {
   "cell_type": "code",
   "execution_count": null,
   "id": "eb2359d9",
   "metadata": {},
   "outputs": [],
   "source": [
    "# Topic: Functions\n",
    "def square(x): return x*x\n",
    "print(square(5))"
   ]
  },
  {
   "cell_type": "code",
   "execution_count": null,
   "id": "a08f8753",
   "metadata": {},
   "outputs": [],
   "source": [
    "# Topic: Data Cleaning\n",
    "import pandas as pd\n",
    "df = pd.DataFrame({'A':[1,None,3]})\n",
    "df = df.fillna(0)\n",
    "print(df)"
   ]
  },
  {
   "cell_type": "code",
   "execution_count": null,
   "id": "62b444f6",
   "metadata": {},
   "outputs": [],
   "source": [
    "# Topic: Basics\n",
    "x = 10\n",
    "y = 20\n",
    "print(x + y)"
   ]
  },
  {
   "cell_type": "code",
   "execution_count": null,
   "id": "eb65c256",
   "metadata": {},
   "outputs": [],
   "source": [
    "# Topic: Regex\n",
    "import re\n",
    "text = 'email: test@example.com'\n",
    "print(re.findall(r'\\S+@\\S+', text))"
   ]
  },
  {
   "cell_type": "code",
   "execution_count": null,
   "id": "aefffeb3",
   "metadata": {},
   "outputs": [],
   "source": [
    "# Topic: Basics\n",
    "x = 10\n",
    "y = 20\n",
    "print(x + y)"
   ]
  },
  {
   "cell_type": "code",
   "execution_count": null,
   "id": "188666cb",
   "metadata": {},
   "outputs": [],
   "source": [
    "# Topic: Mini Projects\n",
    "# Palindrome check\n",
    "def is_pal(s): return s == s[::-1]\n",
    "print(is_pal('madam'))"
   ]
  },
  {
   "cell_type": "code",
   "execution_count": null,
   "id": "bdb6d4b6",
   "metadata": {},
   "outputs": [],
   "source": [
    "# Topic: Dictionaries & Sets\n",
    "s = set([1, 2, 3, 2])\n",
    "print(s)"
   ]
  },
  {
   "cell_type": "code",
   "execution_count": null,
   "id": "be2f7778",
   "metadata": {},
   "outputs": [],
   "source": [
    "# Topic: Data Cleaning\n",
    "import pandas as pd\n",
    "df = pd.DataFrame({'A':[1,None,3]})\n",
    "df = df.fillna(0)\n",
    "print(df)"
   ]
  },
  {
   "cell_type": "code",
   "execution_count": null,
   "id": "80c7ae50",
   "metadata": {},
   "outputs": [],
   "source": [
    "# Topic: Web Scraping\n",
    "import requests\n",
    "from bs4 import BeautifulSoup\n",
    "r = requests.get('https://example.com')\n",
    "soup = BeautifulSoup(r.text, 'html.parser')\n",
    "print(soup.title.text)"
   ]
  },
  {
   "cell_type": "code",
   "execution_count": null,
   "id": "339ddbf8",
   "metadata": {},
   "outputs": [],
   "source": [
    "# Topic: Algorithms\n",
    "# Bubble sort\n",
    "def bubble(arr):\n",
    " for i in range(len(arr)):\n",
    "  for j in range(0, len(arr)-i-1):\n",
    "   if arr[j]>arr[j+1]: arr[j],arr[j+1]=arr[j+1],arr[j]\n",
    "a=[5,3,8]\n",
    "bubble(a)\n",
    "print(a)"
   ]
  },
  {
   "cell_type": "code",
   "execution_count": null,
   "id": "e102f07a",
   "metadata": {},
   "outputs": [],
   "source": [
    "# Topic: Matplotlib & Seaborn\n",
    "import matplotlib.pyplot as plt\n",
    "plt.plot([1,2],[3,4])\n",
    "plt.show()"
   ]
  },
  {
   "cell_type": "code",
   "execution_count": null,
   "id": "76c27dfe",
   "metadata": {},
   "outputs": [],
   "source": [
    "# Topic: File I/O\n",
    "with open('test.txt', 'r') as f:\n",
    "    print(f.read())"
   ]
  },
  {
   "cell_type": "code",
   "execution_count": null,
   "id": "c0dad3bb",
   "metadata": {},
   "outputs": [],
   "source": [
    "# Topic: Basic ML\n",
    "from sklearn.linear_model import LinearRegression\n",
    "model = LinearRegression()\n",
    "print(model)"
   ]
  },
  {
   "cell_type": "code",
   "execution_count": null,
   "id": "d484509f",
   "metadata": {},
   "outputs": [],
   "source": [
    "# Topic: Basic ML\n",
    "from sklearn.linear_model import LinearRegression\n",
    "model = LinearRegression()\n",
    "print(model)"
   ]
  },
  {
   "cell_type": "code",
   "execution_count": null,
   "id": "fb00f53e",
   "metadata": {},
   "outputs": [],
   "source": [
    "# Topic: Pandas\n",
    "import pandas as pd\n",
    "df = pd.DataFrame({'A':[1,2],'B':[3,4]})\n",
    "print(df)"
   ]
  },
  {
   "cell_type": "code",
   "execution_count": null,
   "id": "7b331377",
   "metadata": {},
   "outputs": [],
   "source": [
    "# Topic: File I/O\n",
    "with open('test.txt', 'r') as f:\n",
    "    print(f.read())"
   ]
  },
  {
   "cell_type": "code",
   "execution_count": null,
   "id": "b0b612bd",
   "metadata": {},
   "outputs": [],
   "source": [
    "# Topic: Decorators\n",
    "def log(func):\n",
    " def wrapper():\n",
    "  print('Call')\n",
    "  func()\n",
    " return wrapper\n",
    "@log\n",
    "def say(): print('Hi')\n",
    "say()"
   ]
  },
  {
   "cell_type": "code",
   "execution_count": null,
   "id": "1383957f",
   "metadata": {},
   "outputs": [],
   "source": [
    "# Topic: CLI Tools\n",
    "import sys\n",
    "print(f'Arguments: {sys.argv}')"
   ]
  },
  {
   "cell_type": "code",
   "execution_count": null,
   "id": "75c0b00f",
   "metadata": {},
   "outputs": [],
   "source": [
    "# Topic: Data Cleaning\n",
    "import pandas as pd\n",
    "df = pd.DataFrame({'A':[1,None,3]})\n",
    "df = df.fillna(0)\n",
    "print(df)"
   ]
  },
  {
   "cell_type": "code",
   "execution_count": null,
   "id": "8cba0094",
   "metadata": {},
   "outputs": [],
   "source": [
    "# Topic: Regex\n",
    "import re\n",
    "text = 'email: test@example.com'\n",
    "print(re.findall(r'\\S+@\\S+', text))"
   ]
  },
  {
   "cell_type": "code",
   "execution_count": null,
   "id": "c16e76d9",
   "metadata": {},
   "outputs": [],
   "source": [
    "# Topic: Pandas\n",
    "import pandas as pd\n",
    "df = pd.read_csv('file.csv')\n",
    "print(df.head())"
   ]
  },
  {
   "cell_type": "code",
   "execution_count": null,
   "id": "818471df",
   "metadata": {},
   "outputs": [],
   "source": [
    "# Topic: Loops\n",
    "for i in range(10): print(i*i)"
   ]
  },
  {
   "cell_type": "code",
   "execution_count": null,
   "id": "7aac5507",
   "metadata": {},
   "outputs": [],
   "source": [
    "# Topic: OOP\n",
    "class Student:\n",
    "    def __init__(self, name): self.name = name\n",
    "s = Student('Fahd')\n",
    "print(s.name)"
   ]
  },
  {
   "cell_type": "code",
   "execution_count": null,
   "id": "9a0af3c7",
   "metadata": {},
   "outputs": [],
   "source": [
    "# Topic: NumPy\n",
    "import numpy as np\n",
    "print(np.linspace(0, 1, 5))"
   ]
  },
  {
   "cell_type": "code",
   "execution_count": null,
   "id": "794ae0ae",
   "metadata": {},
   "outputs": [],
   "source": [
    "# Topic: Recursion\n",
    "def fact(n): return 1 if n==0 else n*fact(n-1)\n",
    "print(fact(5))"
   ]
  },
  {
   "cell_type": "code",
   "execution_count": null,
   "id": "5065c1d5",
   "metadata": {},
   "outputs": [],
   "source": [
    "# Topic: Web Scraping\n",
    "import requests\n",
    "from bs4 import BeautifulSoup\n",
    "r = requests.get('https://example.com')\n",
    "soup = BeautifulSoup(r.text, 'html.parser')\n",
    "print(soup.title.text)"
   ]
  },
  {
   "cell_type": "code",
   "execution_count": null,
   "id": "1d4a3640",
   "metadata": {},
   "outputs": [],
   "source": [
    "# Topic: Recursion\n",
    "def fact(n): return 1 if n==0 else n*fact(n-1)\n",
    "print(fact(5))"
   ]
  },
  {
   "cell_type": "code",
   "execution_count": null,
   "id": "100b2c55",
   "metadata": {},
   "outputs": [],
   "source": [
    "# Topic: Basics\n",
    "name = 'Fahd'\n",
    "print(f'Hello, {name}')"
   ]
  },
  {
   "cell_type": "code",
   "execution_count": null,
   "id": "cb304718",
   "metadata": {},
   "outputs": [],
   "source": [
    "# Topic: Data Cleaning\n",
    "import pandas as pd\n",
    "df = pd.DataFrame({'A':[1,None,3]})\n",
    "df = df.fillna(0)\n",
    "print(df)"
   ]
  },
  {
   "cell_type": "code",
   "execution_count": null,
   "id": "6b92966c",
   "metadata": {},
   "outputs": [],
   "source": [
    "# Topic: Functions\n",
    "def greet(name='User'):\n",
    "    print(f'Hi, {name}')\n",
    "greet()"
   ]
  },
  {
   "cell_type": "code",
   "execution_count": null,
   "id": "f41f59e7",
   "metadata": {},
   "outputs": [],
   "source": [
    "# Topic: Regex\n",
    "import re\n",
    "text = 'email: test@example.com'\n",
    "print(re.findall(r'\\S+@\\S+', text))"
   ]
  },
  {
   "cell_type": "code",
   "execution_count": null,
   "id": "c5007aca",
   "metadata": {},
   "outputs": [],
   "source": [
    "# Topic: Lists & Tuples\n",
    "lst = [1, 2, 3]\n",
    "lst.append(4)\n",
    "print(lst)"
   ]
  },
  {
   "cell_type": "code",
   "execution_count": null,
   "id": "907f616e",
   "metadata": {},
   "outputs": [],
   "source": [
    "# Topic: NumPy\n",
    "import numpy as np\n",
    "a = np.array([1, 2, 3])\n",
    "print(a + 5)"
   ]
  },
  {
   "cell_type": "code",
   "execution_count": null,
   "id": "9b8bb896",
   "metadata": {},
   "outputs": [],
   "source": [
    "# Topic: NumPy\n",
    "import numpy as np\n",
    "print(np.linspace(0, 1, 5))"
   ]
  },
  {
   "cell_type": "code",
   "execution_count": null,
   "id": "265db484",
   "metadata": {},
   "outputs": [],
   "source": [
    "# Topic: Regex\n",
    "import re\n",
    "text = 'email: test@example.com'\n",
    "print(re.findall(r'\\S+@\\S+', text))"
   ]
  },
  {
   "cell_type": "code",
   "execution_count": null,
   "id": "79bdac2b",
   "metadata": {},
   "outputs": [],
   "source": [
    "# Topic: File I/O\n",
    "with open('test.txt', 'w') as f:\n",
    "    f.write('Hello World')"
   ]
  },
  {
   "cell_type": "code",
   "execution_count": null,
   "id": "9d18d002",
   "metadata": {},
   "outputs": [],
   "source": [
    "# Topic: Pandas\n",
    "import pandas as pd\n",
    "df = pd.DataFrame({'A':[1,2],'B':[3,4]})\n",
    "print(df)"
   ]
  },
  {
   "cell_type": "code",
   "execution_count": null,
   "id": "9f576d75",
   "metadata": {},
   "outputs": [],
   "source": [
    "# Topic: Basics\n",
    "x = 10\n",
    "y = 20\n",
    "print(x + y)"
   ]
  },
  {
   "cell_type": "code",
   "execution_count": null,
   "id": "f849df78",
   "metadata": {},
   "outputs": [],
   "source": [
    "# Topic: NumPy\n",
    "import numpy as np\n",
    "print(np.linspace(0, 1, 5))"
   ]
  },
  {
   "cell_type": "code",
   "execution_count": null,
   "id": "af0733ea",
   "metadata": {},
   "outputs": [],
   "source": [
    "# Topic: Decorators\n",
    "def log(func):\n",
    " def wrapper():\n",
    "  print('Call')\n",
    "  func()\n",
    " return wrapper\n",
    "@log\n",
    "def say(): print('Hi')\n",
    "say()"
   ]
  },
  {
   "cell_type": "code",
   "execution_count": null,
   "id": "a56424ed",
   "metadata": {},
   "outputs": [],
   "source": [
    "# Topic: Algorithms\n",
    "# Bubble sort\n",
    "def bubble(arr):\n",
    " for i in range(len(arr)):\n",
    "  for j in range(0, len(arr)-i-1):\n",
    "   if arr[j]>arr[j+1]: arr[j],arr[j+1]=arr[j+1],arr[j]\n",
    "a=[5,3,8]\n",
    "bubble(a)\n",
    "print(a)"
   ]
  },
  {
   "cell_type": "code",
   "execution_count": null,
   "id": "f97b5e12",
   "metadata": {},
   "outputs": [],
   "source": [
    "# Topic: Data Cleaning\n",
    "import pandas as pd\n",
    "df = pd.DataFrame({'A':[1,None,3]})\n",
    "df = df.fillna(0)\n",
    "print(df)"
   ]
  },
  {
   "cell_type": "code",
   "execution_count": null,
   "id": "4229935f",
   "metadata": {},
   "outputs": [],
   "source": [
    "# Topic: Pandas\n",
    "import pandas as pd\n",
    "df = pd.DataFrame({'A':[1,2],'B':[3,4]})\n",
    "print(df)"
   ]
  },
  {
   "cell_type": "code",
   "execution_count": null,
   "id": "893afdb0",
   "metadata": {},
   "outputs": [],
   "source": [
    "# Topic: Lists & Tuples\n",
    "lst = [1, 2, 3]\n",
    "lst.append(4)\n",
    "print(lst)"
   ]
  },
  {
   "cell_type": "code",
   "execution_count": null,
   "id": "e91676b8",
   "metadata": {},
   "outputs": [],
   "source": [
    "# Topic: Recursion\n",
    "def fact(n): return 1 if n==0 else n*fact(n-1)\n",
    "print(fact(5))"
   ]
  },
  {
   "cell_type": "code",
   "execution_count": null,
   "id": "a3b7a8ba",
   "metadata": {},
   "outputs": [],
   "source": [
    "# Topic: Pandas\n",
    "import pandas as pd\n",
    "df = pd.read_csv('file.csv')\n",
    "print(df.head())"
   ]
  },
  {
   "cell_type": "code",
   "execution_count": null,
   "id": "d54b7549",
   "metadata": {},
   "outputs": [],
   "source": [
    "# Topic: Basic ML\n",
    "from sklearn.linear_model import LinearRegression\n",
    "model = LinearRegression()\n",
    "print(model)"
   ]
  },
  {
   "cell_type": "code",
   "execution_count": null,
   "id": "fc6ca184",
   "metadata": {},
   "outputs": [],
   "source": [
    "# Topic: CLI Tools\n",
    "import sys\n",
    "print(f'Arguments: {sys.argv}')"
   ]
  },
  {
   "cell_type": "code",
   "execution_count": null,
   "id": "8286aa76",
   "metadata": {},
   "outputs": [],
   "source": [
    "# Topic: Regex\n",
    "import re\n",
    "text = 'email: test@example.com'\n",
    "print(re.findall(r'\\S+@\\S+', text))"
   ]
  },
  {
   "cell_type": "code",
   "execution_count": null,
   "id": "7b0e5907",
   "metadata": {},
   "outputs": [],
   "source": [
    "# Topic: Regex\n",
    "import re\n",
    "text = 'email: test@example.com'\n",
    "print(re.findall(r'\\S+@\\S+', text))"
   ]
  },
  {
   "cell_type": "code",
   "execution_count": null,
   "id": "990a7d2a",
   "metadata": {},
   "outputs": [],
   "source": [
    "# Topic: Matplotlib & Seaborn\n",
    "import matplotlib.pyplot as plt\n",
    "plt.plot([1,2],[3,4])\n",
    "plt.show()"
   ]
  },
  {
   "cell_type": "code",
   "execution_count": null,
   "id": "fbddf1b7",
   "metadata": {},
   "outputs": [],
   "source": [
    "# Topic: Matplotlib & Seaborn\n",
    "import matplotlib.pyplot as plt\n",
    "plt.plot([1,2],[3,4])\n",
    "plt.show()"
   ]
  },
  {
   "cell_type": "code",
   "execution_count": null,
   "id": "6b490cdc",
   "metadata": {},
   "outputs": [],
   "source": [
    "# Topic: Basics\n",
    "name = 'Fahd'\n",
    "print(f'Hello, {name}')"
   ]
  },
  {
   "cell_type": "code",
   "execution_count": null,
   "id": "847e3d64",
   "metadata": {},
   "outputs": [],
   "source": [
    "# Topic: Pandas\n",
    "import pandas as pd\n",
    "df = pd.read_csv('file.csv')\n",
    "print(df.head())"
   ]
  },
  {
   "cell_type": "code",
   "execution_count": null,
   "id": "2f468e23",
   "metadata": {},
   "outputs": [],
   "source": [
    "# Topic: Matplotlib & Seaborn\n",
    "import seaborn as sns\n",
    "import pandas as pd\n",
    "sns.set()\n",
    "sns.histplot(pd.Series([1,2,2,3]));"
   ]
  },
  {
   "cell_type": "code",
   "execution_count": null,
   "id": "6dca0d25",
   "metadata": {},
   "outputs": [],
   "source": [
    "# Topic: Recursion\n",
    "def fact(n): return 1 if n==0 else n*fact(n-1)\n",
    "print(fact(5))"
   ]
  },
  {
   "cell_type": "code",
   "execution_count": null,
   "id": "d1dbec26",
   "metadata": {},
   "outputs": [],
   "source": [
    "# Topic: Basic ML\n",
    "from sklearn.linear_model import LinearRegression\n",
    "model = LinearRegression()\n",
    "print(model)"
   ]
  },
  {
   "cell_type": "code",
   "execution_count": null,
   "id": "4778558c",
   "metadata": {},
   "outputs": [],
   "source": [
    "# Topic: Data Cleaning\n",
    "import pandas as pd\n",
    "df = pd.DataFrame({'A':[1,None,3]})\n",
    "df = df.fillna(0)\n",
    "print(df)"
   ]
  },
  {
   "cell_type": "code",
   "execution_count": null,
   "id": "bd6e8677",
   "metadata": {},
   "outputs": [],
   "source": [
    "# Topic: Dictionaries & Sets\n",
    "d = {'name': 'Fahd', 'age': 20}\n",
    "print(d.get('name'))"
   ]
  },
  {
   "cell_type": "code",
   "execution_count": null,
   "id": "5054ad09",
   "metadata": {},
   "outputs": [],
   "source": [
    "# Topic: NumPy\n",
    "import numpy as np\n",
    "a = np.array([1, 2, 3])\n",
    "print(a + 5)"
   ]
  },
  {
   "cell_type": "code",
   "execution_count": null,
   "id": "8cb3f5f1",
   "metadata": {},
   "outputs": [],
   "source": [
    "# Topic: Mini Projects\n",
    "# Palindrome check\n",
    "def is_pal(s): return s == s[::-1]\n",
    "print(is_pal('madam'))"
   ]
  },
  {
   "cell_type": "code",
   "execution_count": null,
   "id": "a3511875",
   "metadata": {},
   "outputs": [],
   "source": [
    "# Topic: Decorators\n",
    "def log(func):\n",
    " def wrapper():\n",
    "  print('Call')\n",
    "  func()\n",
    " return wrapper\n",
    "@log\n",
    "def say(): print('Hi')\n",
    "say()"
   ]
  },
  {
   "cell_type": "code",
   "execution_count": null,
   "id": "69c4ee63",
   "metadata": {},
   "outputs": [],
   "source": [
    "# Topic: Mini Projects\n",
    "# Calculator\n",
    "def calc(a,b,op): return eval(f'{a}{op}{b}')\n",
    "print(calc(5,2,'+'))"
   ]
  },
  {
   "cell_type": "code",
   "execution_count": null,
   "id": "e14549a2",
   "metadata": {},
   "outputs": [],
   "source": [
    "# Topic: Matplotlib & Seaborn\n",
    "import seaborn as sns\n",
    "import pandas as pd\n",
    "sns.set()\n",
    "sns.histplot(pd.Series([1,2,2,3]));"
   ]
  },
  {
   "cell_type": "code",
   "execution_count": null,
   "id": "bd695dcc",
   "metadata": {},
   "outputs": [],
   "source": [
    "# Topic: Decorators\n",
    "def log(func):\n",
    " def wrapper():\n",
    "  print('Call')\n",
    "  func()\n",
    " return wrapper\n",
    "@log\n",
    "def say(): print('Hi')\n",
    "say()"
   ]
  },
  {
   "cell_type": "code",
   "execution_count": null,
   "id": "265b244f",
   "metadata": {},
   "outputs": [],
   "source": [
    "# Topic: Decorators\n",
    "def log(func):\n",
    " def wrapper():\n",
    "  print('Call')\n",
    "  func()\n",
    " return wrapper\n",
    "@log\n",
    "def say(): print('Hi')\n",
    "say()"
   ]
  },
  {
   "cell_type": "code",
   "execution_count": null,
   "id": "9a457251",
   "metadata": {},
   "outputs": [],
   "source": [
    "# Topic: Decorators\n",
    "def log(func):\n",
    " def wrapper():\n",
    "  print('Call')\n",
    "  func()\n",
    " return wrapper\n",
    "@log\n",
    "def say(): print('Hi')\n",
    "say()"
   ]
  },
  {
   "cell_type": "code",
   "execution_count": null,
   "id": "b4349d91",
   "metadata": {},
   "outputs": [],
   "source": [
    "# Topic: Regex\n",
    "import re\n",
    "text = 'email: test@example.com'\n",
    "print(re.findall(r'\\S+@\\S+', text))"
   ]
  },
  {
   "cell_type": "code",
   "execution_count": null,
   "id": "cb30a1aa",
   "metadata": {},
   "outputs": [],
   "source": [
    "# Topic: Recursion\n",
    "def fact(n): return 1 if n==0 else n*fact(n-1)\n",
    "print(fact(5))"
   ]
  },
  {
   "cell_type": "code",
   "execution_count": null,
   "id": "5a7fd253",
   "metadata": {},
   "outputs": [],
   "source": [
    "# Topic: File I/O\n",
    "with open('test.txt', 'w') as f:\n",
    "    f.write('Hello World')"
   ]
  },
  {
   "cell_type": "code",
   "execution_count": null,
   "id": "2159106d",
   "metadata": {},
   "outputs": [],
   "source": [
    "# Topic: Loops\n",
    "while True:\n",
    "    print('Break')\n",
    "    break"
   ]
  },
  {
   "cell_type": "code",
   "execution_count": null,
   "id": "7b4cb8a1",
   "metadata": {},
   "outputs": [],
   "source": [
    "# Topic: Mini Projects\n",
    "# Palindrome check\n",
    "def is_pal(s): return s == s[::-1]\n",
    "print(is_pal('madam'))"
   ]
  },
  {
   "cell_type": "code",
   "execution_count": null,
   "id": "504d7024",
   "metadata": {},
   "outputs": [],
   "source": [
    "# Topic: Recursion\n",
    "def fact(n): return 1 if n==0 else n*fact(n-1)\n",
    "print(fact(5))"
   ]
  },
  {
   "cell_type": "code",
   "execution_count": null,
   "id": "b83653a9",
   "metadata": {},
   "outputs": [],
   "source": [
    "# Topic: Data Cleaning\n",
    "import pandas as pd\n",
    "df = pd.DataFrame({'A':[1,None,3]})\n",
    "df = df.fillna(0)\n",
    "print(df)"
   ]
  },
  {
   "cell_type": "code",
   "execution_count": null,
   "id": "9c7e3172",
   "metadata": {},
   "outputs": [],
   "source": [
    "# Topic: Lists & Tuples\n",
    "t = (1, 2, 3)\n",
    "print(t[0])"
   ]
  },
  {
   "cell_type": "code",
   "execution_count": null,
   "id": "c382bc1c",
   "metadata": {},
   "outputs": [],
   "source": [
    "# Topic: JSON & CSV\n",
    "import json\n",
    "data = {'a': 1}\n",
    "print(json.dumps(data))"
   ]
  },
  {
   "cell_type": "code",
   "execution_count": null,
   "id": "df2d2e72",
   "metadata": {},
   "outputs": [],
   "source": [
    "# Topic: Recursion\n",
    "def fact(n): return 1 if n==0 else n*fact(n-1)\n",
    "print(fact(5))"
   ]
  },
  {
   "cell_type": "code",
   "execution_count": null,
   "id": "5300b6ac",
   "metadata": {},
   "outputs": [],
   "source": [
    "# Topic: CLI Tools\n",
    "import sys\n",
    "print(f'Arguments: {sys.argv}')"
   ]
  },
  {
   "cell_type": "code",
   "execution_count": null,
   "id": "ea69d424",
   "metadata": {},
   "outputs": [],
   "source": [
    "# Topic: Algorithms\n",
    "# Bubble sort\n",
    "def bubble(arr):\n",
    " for i in range(len(arr)):\n",
    "  for j in range(0, len(arr)-i-1):\n",
    "   if arr[j]>arr[j+1]: arr[j],arr[j+1]=arr[j+1],arr[j]\n",
    "a=[5,3,8]\n",
    "bubble(a)\n",
    "print(a)"
   ]
  },
  {
   "cell_type": "code",
   "execution_count": null,
   "id": "d485a946",
   "metadata": {},
   "outputs": [],
   "source": [
    "# Topic: Data Cleaning\n",
    "import pandas as pd\n",
    "df = pd.DataFrame({'A':[1,None,3]})\n",
    "df = df.fillna(0)\n",
    "print(df)"
   ]
  },
  {
   "cell_type": "code",
   "execution_count": null,
   "id": "27d302c1",
   "metadata": {},
   "outputs": [],
   "source": [
    "# Topic: Matplotlib & Seaborn\n",
    "import matplotlib.pyplot as plt\n",
    "plt.plot([1,2],[3,4])\n",
    "plt.show()"
   ]
  },
  {
   "cell_type": "code",
   "execution_count": null,
   "id": "dfd5f160",
   "metadata": {},
   "outputs": [],
   "source": [
    "# Topic: CLI Tools\n",
    "import sys\n",
    "print(f'Arguments: {sys.argv}')"
   ]
  },
  {
   "cell_type": "code",
   "execution_count": null,
   "id": "9a0c0e57",
   "metadata": {},
   "outputs": [],
   "source": [
    "# Topic: OOP\n",
    "class Student:\n",
    "    def __init__(self, name): self.name = name\n",
    "s = Student('Fahd')\n",
    "print(s.name)"
   ]
  },
  {
   "cell_type": "code",
   "execution_count": null,
   "id": "116569ac",
   "metadata": {},
   "outputs": [],
   "source": [
    "# Topic: NumPy\n",
    "import numpy as np\n",
    "a = np.array([1, 2, 3])\n",
    "print(a + 5)"
   ]
  },
  {
   "cell_type": "code",
   "execution_count": null,
   "id": "676cf635",
   "metadata": {},
   "outputs": [],
   "source": [
    "# Topic: OOP\n",
    "class Student:\n",
    "    def __init__(self, name): self.name = name\n",
    "s = Student('Fahd')\n",
    "print(s.name)"
   ]
  },
  {
   "cell_type": "code",
   "execution_count": null,
   "id": "b1169daa",
   "metadata": {},
   "outputs": [],
   "source": [
    "# Topic: Basics\n",
    "x = 10\n",
    "y = 20\n",
    "print(x + y)"
   ]
  },
  {
   "cell_type": "code",
   "execution_count": null,
   "id": "91d78e03",
   "metadata": {},
   "outputs": [],
   "source": [
    "# Topic: Dictionaries & Sets\n",
    "d = {'name': 'Fahd', 'age': 20}\n",
    "print(d.get('name'))"
   ]
  },
  {
   "cell_type": "code",
   "execution_count": null,
   "id": "c1e880ae",
   "metadata": {},
   "outputs": [],
   "source": [
    "# Topic: CLI Tools\n",
    "import sys\n",
    "print(f'Arguments: {sys.argv}')"
   ]
  },
  {
   "cell_type": "code",
   "execution_count": null,
   "id": "b5eb7281",
   "metadata": {},
   "outputs": [],
   "source": [
    "# Topic: Algorithms\n",
    "# Bubble sort\n",
    "def bubble(arr):\n",
    " for i in range(len(arr)):\n",
    "  for j in range(0, len(arr)-i-1):\n",
    "   if arr[j]>arr[j+1]: arr[j],arr[j+1]=arr[j+1],arr[j]\n",
    "a=[5,3,8]\n",
    "bubble(a)\n",
    "print(a)"
   ]
  },
  {
   "cell_type": "code",
   "execution_count": null,
   "id": "94896eb8",
   "metadata": {},
   "outputs": [],
   "source": [
    "# Topic: CLI Tools\n",
    "import sys\n",
    "print(f'Arguments: {sys.argv}')"
   ]
  },
  {
   "cell_type": "code",
   "execution_count": null,
   "id": "228738a8",
   "metadata": {},
   "outputs": [],
   "source": [
    "# Topic: Dictionaries & Sets\n",
    "d = {'name': 'Fahd', 'age': 20}\n",
    "print(d.get('name'))"
   ]
  },
  {
   "cell_type": "code",
   "execution_count": null,
   "id": "29f7c1d3",
   "metadata": {},
   "outputs": [],
   "source": [
    "# Topic: NumPy\n",
    "import numpy as np\n",
    "a = np.array([1, 2, 3])\n",
    "print(a + 5)"
   ]
  },
  {
   "cell_type": "code",
   "execution_count": null,
   "id": "132ca55d",
   "metadata": {},
   "outputs": [],
   "source": [
    "# Topic: Functions\n",
    "def greet(name='User'):\n",
    "    print(f'Hi, {name}')\n",
    "greet()"
   ]
  },
  {
   "cell_type": "code",
   "execution_count": null,
   "id": "c0cb1731",
   "metadata": {},
   "outputs": [],
   "source": [
    "# Topic: OOP\n",
    "class Student:\n",
    "    def __init__(self, name): self.name = name\n",
    "s = Student('Fahd')\n",
    "print(s.name)"
   ]
  },
  {
   "cell_type": "code",
   "execution_count": null,
   "id": "bfd1e1db",
   "metadata": {},
   "outputs": [],
   "source": [
    "# Topic: Data Cleaning\n",
    "import pandas as pd\n",
    "df = pd.DataFrame({'A':[1,None,3]})\n",
    "df = df.fillna(0)\n",
    "print(df)"
   ]
  },
  {
   "cell_type": "code",
   "execution_count": null,
   "id": "3f25de3a",
   "metadata": {},
   "outputs": [],
   "source": [
    "# Topic: Loops\n",
    "for i in range(10): print(i*i)"
   ]
  },
  {
   "cell_type": "code",
   "execution_count": null,
   "id": "6ee1d198",
   "metadata": {},
   "outputs": [],
   "source": [
    "# Topic: Web Scraping\n",
    "import requests\n",
    "from bs4 import BeautifulSoup\n",
    "r = requests.get('https://example.com')\n",
    "soup = BeautifulSoup(r.text, 'html.parser')\n",
    "print(soup.title.text)"
   ]
  },
  {
   "cell_type": "code",
   "execution_count": null,
   "id": "f78d8cb9",
   "metadata": {},
   "outputs": [],
   "source": [
    "# Topic: Loops\n",
    "while True:\n",
    "    print('Break')\n",
    "    break"
   ]
  },
  {
   "cell_type": "code",
   "execution_count": null,
   "id": "0984ba54",
   "metadata": {},
   "outputs": [],
   "source": [
    "# Topic: CLI Tools\n",
    "import sys\n",
    "print(f'Arguments: {sys.argv}')"
   ]
  },
  {
   "cell_type": "code",
   "execution_count": null,
   "id": "03382a54",
   "metadata": {},
   "outputs": [],
   "source": [
    "# Topic: Decorators\n",
    "def log(func):\n",
    " def wrapper():\n",
    "  print('Call')\n",
    "  func()\n",
    " return wrapper\n",
    "@log\n",
    "def say(): print('Hi')\n",
    "say()"
   ]
  },
  {
   "cell_type": "code",
   "execution_count": null,
   "id": "2f12e57b",
   "metadata": {},
   "outputs": [],
   "source": [
    "# Topic: Loops\n",
    "for i in range(10): print(i*i)"
   ]
  },
  {
   "cell_type": "code",
   "execution_count": null,
   "id": "c33ebad1",
   "metadata": {},
   "outputs": [],
   "source": [
    "# Topic: OOP\n",
    "class Student:\n",
    "    def __init__(self, name): self.name = name\n",
    "s = Student('Fahd')\n",
    "print(s.name)"
   ]
  },
  {
   "cell_type": "code",
   "execution_count": null,
   "id": "25106831",
   "metadata": {},
   "outputs": [],
   "source": [
    "# Topic: Regex\n",
    "import re\n",
    "text = 'email: test@example.com'\n",
    "print(re.findall(r'\\S+@\\S+', text))"
   ]
  },
  {
   "cell_type": "code",
   "execution_count": null,
   "id": "f6bc472c",
   "metadata": {},
   "outputs": [],
   "source": [
    "# Topic: Pandas\n",
    "import pandas as pd\n",
    "df = pd.DataFrame({'A':[1,2],'B':[3,4]})\n",
    "print(df)"
   ]
  },
  {
   "cell_type": "code",
   "execution_count": null,
   "id": "88971837",
   "metadata": {},
   "outputs": [],
   "source": [
    "# Topic: Decorators\n",
    "def log(func):\n",
    " def wrapper():\n",
    "  print('Call')\n",
    "  func()\n",
    " return wrapper\n",
    "@log\n",
    "def say(): print('Hi')\n",
    "say()"
   ]
  },
  {
   "cell_type": "code",
   "execution_count": null,
   "id": "317af2eb",
   "metadata": {},
   "outputs": [],
   "source": [
    "# Topic: Algorithms\n",
    "# Bubble sort\n",
    "def bubble(arr):\n",
    " for i in range(len(arr)):\n",
    "  for j in range(0, len(arr)-i-1):\n",
    "   if arr[j]>arr[j+1]: arr[j],arr[j+1]=arr[j+1],arr[j]\n",
    "a=[5,3,8]\n",
    "bubble(a)\n",
    "print(a)"
   ]
  },
  {
   "cell_type": "code",
   "execution_count": null,
   "id": "5787ef4b",
   "metadata": {},
   "outputs": [],
   "source": [
    "# Topic: Data Cleaning\n",
    "import pandas as pd\n",
    "df = pd.DataFrame({'A':[1,None,3]})\n",
    "df = df.fillna(0)\n",
    "print(df)"
   ]
  },
  {
   "cell_type": "code",
   "execution_count": null,
   "id": "1b6ecf69",
   "metadata": {},
   "outputs": [],
   "source": [
    "# Topic: Dictionaries & Sets\n",
    "s = set([1, 2, 3, 2])\n",
    "print(s)"
   ]
  },
  {
   "cell_type": "code",
   "execution_count": null,
   "id": "4512cdc5",
   "metadata": {},
   "outputs": [],
   "source": [
    "# Topic: File I/O\n",
    "with open('test.txt', 'w') as f:\n",
    "    f.write('Hello World')"
   ]
  },
  {
   "cell_type": "code",
   "execution_count": null,
   "id": "2896bf3e",
   "metadata": {},
   "outputs": [],
   "source": [
    "# Topic: Decorators\n",
    "def log(func):\n",
    " def wrapper():\n",
    "  print('Call')\n",
    "  func()\n",
    " return wrapper\n",
    "@log\n",
    "def say(): print('Hi')\n",
    "say()"
   ]
  },
  {
   "cell_type": "code",
   "execution_count": null,
   "id": "1a3a3890",
   "metadata": {},
   "outputs": [],
   "source": [
    "# Topic: Pandas\n",
    "import pandas as pd\n",
    "df = pd.read_csv('file.csv')\n",
    "print(df.head())"
   ]
  },
  {
   "cell_type": "code",
   "execution_count": null,
   "id": "6eb5651d",
   "metadata": {},
   "outputs": [],
   "source": [
    "# Topic: Loops\n",
    "for i in range(10): print(i*i)"
   ]
  },
  {
   "cell_type": "code",
   "execution_count": null,
   "id": "07532fb6",
   "metadata": {},
   "outputs": [],
   "source": [
    "# Topic: Dictionaries & Sets\n",
    "d = {'name': 'Fahd', 'age': 20}\n",
    "print(d.get('name'))"
   ]
  },
  {
   "cell_type": "code",
   "execution_count": null,
   "id": "2c257e20",
   "metadata": {},
   "outputs": [],
   "source": [
    "# Topic: Web Scraping\n",
    "import requests\n",
    "from bs4 import BeautifulSoup\n",
    "r = requests.get('https://example.com')\n",
    "soup = BeautifulSoup(r.text, 'html.parser')\n",
    "print(soup.title.text)"
   ]
  },
  {
   "cell_type": "code",
   "execution_count": null,
   "id": "911ef20c",
   "metadata": {},
   "outputs": [],
   "source": [
    "# Topic: Decorators\n",
    "def log(func):\n",
    " def wrapper():\n",
    "  print('Call')\n",
    "  func()\n",
    " return wrapper\n",
    "@log\n",
    "def say(): print('Hi')\n",
    "say()"
   ]
  },
  {
   "cell_type": "code",
   "execution_count": null,
   "id": "a7c05278",
   "metadata": {},
   "outputs": [],
   "source": [
    "# Topic: File I/O\n",
    "with open('test.txt', 'r') as f:\n",
    "    print(f.read())"
   ]
  },
  {
   "cell_type": "code",
   "execution_count": null,
   "id": "445a3fb2",
   "metadata": {},
   "outputs": [],
   "source": [
    "# Topic: JSON & CSV\n",
    "import json\n",
    "data = {'a': 1}\n",
    "print(json.dumps(data))"
   ]
  },
  {
   "cell_type": "code",
   "execution_count": null,
   "id": "03ee8b60",
   "metadata": {},
   "outputs": [],
   "source": [
    "# Topic: Loops\n",
    "for i in range(10): print(i*i)"
   ]
  },
  {
   "cell_type": "code",
   "execution_count": null,
   "id": "f7d35771",
   "metadata": {},
   "outputs": [],
   "source": [
    "# Topic: Recursion\n",
    "def fact(n): return 1 if n==0 else n*fact(n-1)\n",
    "print(fact(5))"
   ]
  },
  {
   "cell_type": "code",
   "execution_count": null,
   "id": "32cdf155",
   "metadata": {},
   "outputs": [],
   "source": [
    "# Topic: NumPy\n",
    "import numpy as np\n",
    "a = np.array([1, 2, 3])\n",
    "print(a + 5)"
   ]
  },
  {
   "cell_type": "code",
   "execution_count": null,
   "id": "2b537d85",
   "metadata": {},
   "outputs": [],
   "source": [
    "# Topic: NumPy\n",
    "import numpy as np\n",
    "print(np.linspace(0, 1, 5))"
   ]
  },
  {
   "cell_type": "code",
   "execution_count": null,
   "id": "8bb7bf11",
   "metadata": {},
   "outputs": [],
   "source": [
    "# Topic: Recursion\n",
    "def fact(n): return 1 if n==0 else n*fact(n-1)\n",
    "print(fact(5))"
   ]
  },
  {
   "cell_type": "code",
   "execution_count": null,
   "id": "beb06d58",
   "metadata": {},
   "outputs": [],
   "source": [
    "# Topic: Recursion\n",
    "def fact(n): return 1 if n==0 else n*fact(n-1)\n",
    "print(fact(5))"
   ]
  },
  {
   "cell_type": "code",
   "execution_count": null,
   "id": "02b0d07a",
   "metadata": {},
   "outputs": [],
   "source": [
    "# Topic: Data Cleaning\n",
    "import pandas as pd\n",
    "df = pd.DataFrame({'A':[1,None,3]})\n",
    "df = df.fillna(0)\n",
    "print(df)"
   ]
  },
  {
   "cell_type": "code",
   "execution_count": null,
   "id": "c5e890ec",
   "metadata": {},
   "outputs": [],
   "source": [
    "# Topic: Loops\n",
    "for i in range(10): print(i*i)"
   ]
  },
  {
   "cell_type": "code",
   "execution_count": null,
   "id": "00a87f4c",
   "metadata": {},
   "outputs": [],
   "source": [
    "# Topic: Loops\n",
    "while True:\n",
    "    print('Break')\n",
    "    break"
   ]
  },
  {
   "cell_type": "code",
   "execution_count": null,
   "id": "bed4f5ce",
   "metadata": {},
   "outputs": [],
   "source": [
    "# Topic: Matplotlib & Seaborn\n",
    "import matplotlib.pyplot as plt\n",
    "plt.plot([1,2],[3,4])\n",
    "plt.show()"
   ]
  },
  {
   "cell_type": "code",
   "execution_count": null,
   "id": "eb7390c8",
   "metadata": {},
   "outputs": [],
   "source": [
    "# Topic: Dictionaries & Sets\n",
    "s = set([1, 2, 3, 2])\n",
    "print(s)"
   ]
  },
  {
   "cell_type": "code",
   "execution_count": null,
   "id": "2beff997",
   "metadata": {},
   "outputs": [],
   "source": [
    "# Topic: Algorithms\n",
    "# Bubble sort\n",
    "def bubble(arr):\n",
    " for i in range(len(arr)):\n",
    "  for j in range(0, len(arr)-i-1):\n",
    "   if arr[j]>arr[j+1]: arr[j],arr[j+1]=arr[j+1],arr[j]\n",
    "a=[5,3,8]\n",
    "bubble(a)\n",
    "print(a)"
   ]
  },
  {
   "cell_type": "code",
   "execution_count": null,
   "id": "e5fc46c2",
   "metadata": {},
   "outputs": [],
   "source": [
    "# Topic: JSON & CSV\n",
    "import json\n",
    "data = {'a': 1}\n",
    "print(json.dumps(data))"
   ]
  },
  {
   "cell_type": "code",
   "execution_count": null,
   "id": "334c3d51",
   "metadata": {},
   "outputs": [],
   "source": [
    "# Topic: File I/O\n",
    "with open('test.txt', 'w') as f:\n",
    "    f.write('Hello World')"
   ]
  },
  {
   "cell_type": "code",
   "execution_count": null,
   "id": "73f215c3",
   "metadata": {},
   "outputs": [],
   "source": [
    "# Topic: NumPy\n",
    "import numpy as np\n",
    "a = np.array([1, 2, 3])\n",
    "print(a + 5)"
   ]
  },
  {
   "cell_type": "code",
   "execution_count": null,
   "id": "c6ab7219",
   "metadata": {},
   "outputs": [],
   "source": [
    "# Topic: File I/O\n",
    "with open('test.txt', 'r') as f:\n",
    "    print(f.read())"
   ]
  },
  {
   "cell_type": "code",
   "execution_count": null,
   "id": "5685006c",
   "metadata": {},
   "outputs": [],
   "source": [
    "# Topic: Lists & Tuples\n",
    "lst = [1, 2, 3]\n",
    "lst.append(4)\n",
    "print(lst)"
   ]
  },
  {
   "cell_type": "code",
   "execution_count": null,
   "id": "95f837e8",
   "metadata": {},
   "outputs": [],
   "source": [
    "# Topic: CLI Tools\n",
    "import sys\n",
    "print(f'Arguments: {sys.argv}')"
   ]
  },
  {
   "cell_type": "code",
   "execution_count": null,
   "id": "e4e92cf5",
   "metadata": {},
   "outputs": [],
   "source": [
    "# Topic: Basic ML\n",
    "from sklearn.linear_model import LinearRegression\n",
    "model = LinearRegression()\n",
    "print(model)"
   ]
  },
  {
   "cell_type": "code",
   "execution_count": null,
   "id": "cb50d8f5",
   "metadata": {},
   "outputs": [],
   "source": [
    "# Topic: Lists & Tuples\n",
    "t = (1, 2, 3)\n",
    "print(t[0])"
   ]
  },
  {
   "cell_type": "code",
   "execution_count": null,
   "id": "5d3092ea",
   "metadata": {},
   "outputs": [],
   "source": [
    "# Topic: Lists & Tuples\n",
    "lst = [1, 2, 3]\n",
    "lst.append(4)\n",
    "print(lst)"
   ]
  },
  {
   "cell_type": "code",
   "execution_count": null,
   "id": "2a9c7c8f",
   "metadata": {},
   "outputs": [],
   "source": [
    "# Topic: Mini Projects\n",
    "# Calculator\n",
    "def calc(a,b,op): return eval(f'{a}{op}{b}')\n",
    "print(calc(5,2,'+'))"
   ]
  },
  {
   "cell_type": "code",
   "execution_count": null,
   "id": "c54c31a2",
   "metadata": {},
   "outputs": [],
   "source": [
    "# Topic: Data Cleaning\n",
    "import pandas as pd\n",
    "df = pd.DataFrame({'A':[1,None,3]})\n",
    "df = df.fillna(0)\n",
    "print(df)"
   ]
  },
  {
   "cell_type": "code",
   "execution_count": null,
   "id": "191ead08",
   "metadata": {},
   "outputs": [],
   "source": [
    "# Topic: JSON & CSV\n",
    "import json\n",
    "data = {'a': 1}\n",
    "print(json.dumps(data))"
   ]
  },
  {
   "cell_type": "code",
   "execution_count": null,
   "id": "b97aacbe",
   "metadata": {},
   "outputs": [],
   "source": [
    "# Topic: File I/O\n",
    "with open('test.txt', 'r') as f:\n",
    "    print(f.read())"
   ]
  },
  {
   "cell_type": "code",
   "execution_count": null,
   "id": "8aabdfd2",
   "metadata": {},
   "outputs": [],
   "source": [
    "# Topic: Functions\n",
    "def square(x): return x*x\n",
    "print(square(5))"
   ]
  },
  {
   "cell_type": "code",
   "execution_count": null,
   "id": "75791316",
   "metadata": {},
   "outputs": [],
   "source": [
    "# Topic: Pandas\n",
    "import pandas as pd\n",
    "df = pd.DataFrame({'A':[1,2],'B':[3,4]})\n",
    "print(df)"
   ]
  },
  {
   "cell_type": "code",
   "execution_count": null,
   "id": "8cd63933",
   "metadata": {},
   "outputs": [],
   "source": [
    "# Topic: NumPy\n",
    "import numpy as np\n",
    "a = np.array([1, 2, 3])\n",
    "print(a + 5)"
   ]
  },
  {
   "cell_type": "code",
   "execution_count": null,
   "id": "712a532e",
   "metadata": {},
   "outputs": [],
   "source": [
    "# Topic: File I/O\n",
    "with open('test.txt', 'r') as f:\n",
    "    print(f.read())"
   ]
  },
  {
   "cell_type": "code",
   "execution_count": null,
   "id": "b22d4ffd",
   "metadata": {},
   "outputs": [],
   "source": [
    "# Topic: OOP\n",
    "class Student:\n",
    "    def __init__(self, name): self.name = name\n",
    "s = Student('Fahd')\n",
    "print(s.name)"
   ]
  },
  {
   "cell_type": "code",
   "execution_count": null,
   "id": "fdadbed3",
   "metadata": {},
   "outputs": [],
   "source": [
    "# Topic: Web Scraping\n",
    "import requests\n",
    "from bs4 import BeautifulSoup\n",
    "r = requests.get('https://example.com')\n",
    "soup = BeautifulSoup(r.text, 'html.parser')\n",
    "print(soup.title.text)"
   ]
  },
  {
   "cell_type": "code",
   "execution_count": null,
   "id": "4dd8db24",
   "metadata": {},
   "outputs": [],
   "source": [
    "# Topic: Decorators\n",
    "def log(func):\n",
    " def wrapper():\n",
    "  print('Call')\n",
    "  func()\n",
    " return wrapper\n",
    "@log\n",
    "def say(): print('Hi')\n",
    "say()"
   ]
  },
  {
   "cell_type": "code",
   "execution_count": null,
   "id": "4da8e924",
   "metadata": {},
   "outputs": [],
   "source": [
    "# Topic: OOP\n",
    "class Student:\n",
    "    def __init__(self, name): self.name = name\n",
    "s = Student('Fahd')\n",
    "print(s.name)"
   ]
  },
  {
   "cell_type": "code",
   "execution_count": null,
   "id": "7ebccf66",
   "metadata": {},
   "outputs": [],
   "source": [
    "# Topic: NumPy\n",
    "import numpy as np\n",
    "print(np.linspace(0, 1, 5))"
   ]
  },
  {
   "cell_type": "code",
   "execution_count": null,
   "id": "da75ac05",
   "metadata": {},
   "outputs": [],
   "source": [
    "# Topic: Pandas\n",
    "import pandas as pd\n",
    "df = pd.read_csv('file.csv')\n",
    "print(df.head())"
   ]
  },
  {
   "cell_type": "code",
   "execution_count": null,
   "id": "c0bb5ba5",
   "metadata": {},
   "outputs": [],
   "source": [
    "# Topic: Loops\n",
    "while True:\n",
    "    print('Break')\n",
    "    break"
   ]
  },
  {
   "cell_type": "code",
   "execution_count": null,
   "id": "b2085966",
   "metadata": {},
   "outputs": [],
   "source": [
    "# Topic: Recursion\n",
    "def fact(n): return 1 if n==0 else n*fact(n-1)\n",
    "print(fact(5))"
   ]
  },
  {
   "cell_type": "code",
   "execution_count": null,
   "id": "81f85cb8",
   "metadata": {},
   "outputs": [],
   "source": [
    "# Topic: Web Scraping\n",
    "import requests\n",
    "from bs4 import BeautifulSoup\n",
    "r = requests.get('https://example.com')\n",
    "soup = BeautifulSoup(r.text, 'html.parser')\n",
    "print(soup.title.text)"
   ]
  },
  {
   "cell_type": "code",
   "execution_count": null,
   "id": "cc5d15f3",
   "metadata": {},
   "outputs": [],
   "source": [
    "# Topic: Dictionaries & Sets\n",
    "s = set([1, 2, 3, 2])\n",
    "print(s)"
   ]
  },
  {
   "cell_type": "code",
   "execution_count": null,
   "id": "ad352588",
   "metadata": {},
   "outputs": [],
   "source": [
    "# Topic: File I/O\n",
    "with open('test.txt', 'r') as f:\n",
    "    print(f.read())"
   ]
  },
  {
   "cell_type": "code",
   "execution_count": null,
   "id": "08441543",
   "metadata": {},
   "outputs": [],
   "source": [
    "# Topic: Regex\n",
    "import re\n",
    "text = 'email: test@example.com'\n",
    "print(re.findall(r'\\S+@\\S+', text))"
   ]
  },
  {
   "cell_type": "code",
   "execution_count": null,
   "id": "19a1d523",
   "metadata": {},
   "outputs": [],
   "source": [
    "# Topic: CLI Tools\n",
    "import sys\n",
    "print(f'Arguments: {sys.argv}')"
   ]
  },
  {
   "cell_type": "code",
   "execution_count": null,
   "id": "2c4db6b2",
   "metadata": {},
   "outputs": [],
   "source": [
    "# Topic: Loops\n",
    "for i in range(10): print(i*i)"
   ]
  },
  {
   "cell_type": "code",
   "execution_count": null,
   "id": "300390a8",
   "metadata": {},
   "outputs": [],
   "source": [
    "# Topic: File I/O\n",
    "with open('test.txt', 'r') as f:\n",
    "    print(f.read())"
   ]
  },
  {
   "cell_type": "code",
   "execution_count": null,
   "id": "873b4b46",
   "metadata": {},
   "outputs": [],
   "source": [
    "# Topic: CLI Tools\n",
    "import sys\n",
    "print(f'Arguments: {sys.argv}')"
   ]
  },
  {
   "cell_type": "code",
   "execution_count": null,
   "id": "99639743",
   "metadata": {},
   "outputs": [],
   "source": [
    "# Topic: Decorators\n",
    "def log(func):\n",
    " def wrapper():\n",
    "  print('Call')\n",
    "  func()\n",
    " return wrapper\n",
    "@log\n",
    "def say(): print('Hi')\n",
    "say()"
   ]
  },
  {
   "cell_type": "code",
   "execution_count": null,
   "id": "68e5c0f1",
   "metadata": {},
   "outputs": [],
   "source": [
    "# Topic: JSON & CSV\n",
    "import csv\n",
    "with open('file.csv', 'w', newline='') as f:\n",
    " csv.writer(f).writerow(['a','b','c'])"
   ]
  },
  {
   "cell_type": "code",
   "execution_count": null,
   "id": "d0bd478b",
   "metadata": {},
   "outputs": [],
   "source": [
    "# Topic: Matplotlib & Seaborn\n",
    "import matplotlib.pyplot as plt\n",
    "plt.plot([1,2],[3,4])\n",
    "plt.show()"
   ]
  },
  {
   "cell_type": "code",
   "execution_count": null,
   "id": "f8ad5bc7",
   "metadata": {},
   "outputs": [],
   "source": [
    "# Topic: Data Cleaning\n",
    "import pandas as pd\n",
    "df = pd.DataFrame({'A':[1,None,3]})\n",
    "df = df.fillna(0)\n",
    "print(df)"
   ]
  },
  {
   "cell_type": "code",
   "execution_count": null,
   "id": "1f76543a",
   "metadata": {},
   "outputs": [],
   "source": [
    "# Topic: Lists & Tuples\n",
    "t = (1, 2, 3)\n",
    "print(t[0])"
   ]
  },
  {
   "cell_type": "code",
   "execution_count": null,
   "id": "a731dd18",
   "metadata": {},
   "outputs": [],
   "source": [
    "# Topic: CLI Tools\n",
    "import sys\n",
    "print(f'Arguments: {sys.argv}')"
   ]
  },
  {
   "cell_type": "code",
   "execution_count": null,
   "id": "6a9cac33",
   "metadata": {},
   "outputs": [],
   "source": [
    "# Topic: Dictionaries & Sets\n",
    "s = set([1, 2, 3, 2])\n",
    "print(s)"
   ]
  },
  {
   "cell_type": "code",
   "execution_count": null,
   "id": "73d5c7c7",
   "metadata": {},
   "outputs": [],
   "source": [
    "# Topic: Basics\n",
    "name = 'Fahd'\n",
    "print(f'Hello, {name}')"
   ]
  },
  {
   "cell_type": "code",
   "execution_count": null,
   "id": "6b2e98cb",
   "metadata": {},
   "outputs": [],
   "source": [
    "# Topic: Basic ML\n",
    "from sklearn.linear_model import LinearRegression\n",
    "model = LinearRegression()\n",
    "print(model)"
   ]
  },
  {
   "cell_type": "code",
   "execution_count": null,
   "id": "b40ee7c7",
   "metadata": {},
   "outputs": [],
   "source": [
    "# Topic: Pandas\n",
    "import pandas as pd\n",
    "df = pd.read_csv('file.csv')\n",
    "print(df.head())"
   ]
  },
  {
   "cell_type": "code",
   "execution_count": null,
   "id": "e664dc13",
   "metadata": {},
   "outputs": [],
   "source": [
    "# Topic: JSON & CSV\n",
    "import json\n",
    "data = {'a': 1}\n",
    "print(json.dumps(data))"
   ]
  },
  {
   "cell_type": "code",
   "execution_count": null,
   "id": "fc6eab87",
   "metadata": {},
   "outputs": [],
   "source": [
    "# Topic: File I/O\n",
    "with open('test.txt', 'r') as f:\n",
    "    print(f.read())"
   ]
  },
  {
   "cell_type": "code",
   "execution_count": null,
   "id": "9711685b",
   "metadata": {},
   "outputs": [],
   "source": [
    "# Topic: Matplotlib & Seaborn\n",
    "import matplotlib.pyplot as plt\n",
    "plt.plot([1,2],[3,4])\n",
    "plt.show()"
   ]
  },
  {
   "cell_type": "code",
   "execution_count": null,
   "id": "23e0dee9",
   "metadata": {},
   "outputs": [],
   "source": [
    "# Topic: NumPy\n",
    "import numpy as np\n",
    "a = np.array([1, 2, 3])\n",
    "print(a + 5)"
   ]
  },
  {
   "cell_type": "code",
   "execution_count": null,
   "id": "51fad0da",
   "metadata": {},
   "outputs": [],
   "source": [
    "# Topic: Lists & Tuples\n",
    "lst = [1, 2, 3]\n",
    "lst.append(4)\n",
    "print(lst)"
   ]
  },
  {
   "cell_type": "code",
   "execution_count": null,
   "id": "c4f62ea5",
   "metadata": {},
   "outputs": [],
   "source": [
    "# Topic: Decorators\n",
    "def log(func):\n",
    " def wrapper():\n",
    "  print('Call')\n",
    "  func()\n",
    " return wrapper\n",
    "@log\n",
    "def say(): print('Hi')\n",
    "say()"
   ]
  },
  {
   "cell_type": "code",
   "execution_count": null,
   "id": "94d86005",
   "metadata": {},
   "outputs": [],
   "source": [
    "# Topic: Basics\n",
    "x = 10\n",
    "y = 20\n",
    "print(x + y)"
   ]
  },
  {
   "cell_type": "code",
   "execution_count": null,
   "id": "baffb405",
   "metadata": {},
   "outputs": [],
   "source": [
    "# Topic: Algorithms\n",
    "# Bubble sort\n",
    "def bubble(arr):\n",
    " for i in range(len(arr)):\n",
    "  for j in range(0, len(arr)-i-1):\n",
    "   if arr[j]>arr[j+1]: arr[j],arr[j+1]=arr[j+1],arr[j]\n",
    "a=[5,3,8]\n",
    "bubble(a)\n",
    "print(a)"
   ]
  },
  {
   "cell_type": "code",
   "execution_count": null,
   "id": "7e221352",
   "metadata": {},
   "outputs": [],
   "source": [
    "# Topic: Data Cleaning\n",
    "import pandas as pd\n",
    "df = pd.DataFrame({'A':[1,None,3]})\n",
    "df = df.fillna(0)\n",
    "print(df)"
   ]
  },
  {
   "cell_type": "code",
   "execution_count": null,
   "id": "e8783359",
   "metadata": {},
   "outputs": [],
   "source": [
    "# Topic: Algorithms\n",
    "# Bubble sort\n",
    "def bubble(arr):\n",
    " for i in range(len(arr)):\n",
    "  for j in range(0, len(arr)-i-1):\n",
    "   if arr[j]>arr[j+1]: arr[j],arr[j+1]=arr[j+1],arr[j]\n",
    "a=[5,3,8]\n",
    "bubble(a)\n",
    "print(a)"
   ]
  },
  {
   "cell_type": "code",
   "execution_count": null,
   "id": "9d440747",
   "metadata": {},
   "outputs": [],
   "source": [
    "# Topic: Loops\n",
    "while True:\n",
    "    print('Break')\n",
    "    break"
   ]
  },
  {
   "cell_type": "code",
   "execution_count": null,
   "id": "a4facf32",
   "metadata": {},
   "outputs": [],
   "source": [
    "# Topic: NumPy\n",
    "import numpy as np\n",
    "a = np.array([1, 2, 3])\n",
    "print(a + 5)"
   ]
  },
  {
   "cell_type": "code",
   "execution_count": null,
   "id": "1256b5e8",
   "metadata": {},
   "outputs": [],
   "source": [
    "# Topic: Matplotlib & Seaborn\n",
    "import matplotlib.pyplot as plt\n",
    "plt.plot([1,2],[3,4])\n",
    "plt.show()"
   ]
  },
  {
   "cell_type": "code",
   "execution_count": null,
   "id": "15d50594",
   "metadata": {},
   "outputs": [],
   "source": [
    "# Topic: Basics\n",
    "x = 10\n",
    "y = 20\n",
    "print(x + y)"
   ]
  },
  {
   "cell_type": "code",
   "execution_count": null,
   "id": "3f67fd98",
   "metadata": {},
   "outputs": [],
   "source": [
    "# Topic: Basics\n",
    "name = 'Fahd'\n",
    "print(f'Hello, {name}')"
   ]
  },
  {
   "cell_type": "code",
   "execution_count": null,
   "id": "7d28dab1",
   "metadata": {},
   "outputs": [],
   "source": [
    "# Topic: Pandas\n",
    "import pandas as pd\n",
    "df = pd.read_csv('file.csv')\n",
    "print(df.head())"
   ]
  },
  {
   "cell_type": "code",
   "execution_count": null,
   "id": "f20e317a",
   "metadata": {},
   "outputs": [],
   "source": [
    "# Topic: Functions\n",
    "def square(x): return x*x\n",
    "print(square(5))"
   ]
  },
  {
   "cell_type": "code",
   "execution_count": null,
   "id": "dbe6696c",
   "metadata": {},
   "outputs": [],
   "source": [
    "# Topic: NumPy\n",
    "import numpy as np\n",
    "print(np.linspace(0, 1, 5))"
   ]
  },
  {
   "cell_type": "code",
   "execution_count": null,
   "id": "d6d3f078",
   "metadata": {},
   "outputs": [],
   "source": [
    "# Topic: Recursion\n",
    "def fact(n): return 1 if n==0 else n*fact(n-1)\n",
    "print(fact(5))"
   ]
  },
  {
   "cell_type": "code",
   "execution_count": null,
   "id": "6494d4d4",
   "metadata": {},
   "outputs": [],
   "source": [
    "# Topic: Basic ML\n",
    "from sklearn.linear_model import LinearRegression\n",
    "model = LinearRegression()\n",
    "print(model)"
   ]
  },
  {
   "cell_type": "code",
   "execution_count": null,
   "id": "ea0534aa",
   "metadata": {},
   "outputs": [],
   "source": [
    "# Topic: Algorithms\n",
    "# Bubble sort\n",
    "def bubble(arr):\n",
    " for i in range(len(arr)):\n",
    "  for j in range(0, len(arr)-i-1):\n",
    "   if arr[j]>arr[j+1]: arr[j],arr[j+1]=arr[j+1],arr[j]\n",
    "a=[5,3,8]\n",
    "bubble(a)\n",
    "print(a)"
   ]
  },
  {
   "cell_type": "code",
   "execution_count": null,
   "id": "170f2e93",
   "metadata": {},
   "outputs": [],
   "source": [
    "# Topic: Decorators\n",
    "def log(func):\n",
    " def wrapper():\n",
    "  print('Call')\n",
    "  func()\n",
    " return wrapper\n",
    "@log\n",
    "def say(): print('Hi')\n",
    "say()"
   ]
  },
  {
   "cell_type": "code",
   "execution_count": null,
   "id": "ef8435dc",
   "metadata": {},
   "outputs": [],
   "source": [
    "# Topic: OOP\n",
    "class Student:\n",
    "    def __init__(self, name): self.name = name\n",
    "s = Student('Fahd')\n",
    "print(s.name)"
   ]
  },
  {
   "cell_type": "code",
   "execution_count": null,
   "id": "11247e95",
   "metadata": {},
   "outputs": [],
   "source": [
    "# Topic: Dictionaries & Sets\n",
    "d = {'name': 'Fahd', 'age': 20}\n",
    "print(d.get('name'))"
   ]
  },
  {
   "cell_type": "code",
   "execution_count": null,
   "id": "7bd531aa",
   "metadata": {},
   "outputs": [],
   "source": [
    "# Topic: Algorithms\n",
    "# Bubble sort\n",
    "def bubble(arr):\n",
    " for i in range(len(arr)):\n",
    "  for j in range(0, len(arr)-i-1):\n",
    "   if arr[j]>arr[j+1]: arr[j],arr[j+1]=arr[j+1],arr[j]\n",
    "a=[5,3,8]\n",
    "bubble(a)\n",
    "print(a)"
   ]
  },
  {
   "cell_type": "code",
   "execution_count": null,
   "id": "c3de0a71",
   "metadata": {},
   "outputs": [],
   "source": [
    "# Topic: Data Cleaning\n",
    "import pandas as pd\n",
    "df = pd.DataFrame({'A':[1,None,3]})\n",
    "df = df.fillna(0)\n",
    "print(df)"
   ]
  },
  {
   "cell_type": "code",
   "execution_count": null,
   "id": "e1b66bb2",
   "metadata": {},
   "outputs": [],
   "source": [
    "# Topic: Algorithms\n",
    "# Bubble sort\n",
    "def bubble(arr):\n",
    " for i in range(len(arr)):\n",
    "  for j in range(0, len(arr)-i-1):\n",
    "   if arr[j]>arr[j+1]: arr[j],arr[j+1]=arr[j+1],arr[j]\n",
    "a=[5,3,8]\n",
    "bubble(a)\n",
    "print(a)"
   ]
  },
  {
   "cell_type": "code",
   "execution_count": null,
   "id": "faec3009",
   "metadata": {},
   "outputs": [],
   "source": [
    "# Topic: Basics\n",
    "name = 'Fahd'\n",
    "print(f'Hello, {name}')"
   ]
  },
  {
   "cell_type": "code",
   "execution_count": null,
   "id": "eb691bb7",
   "metadata": {},
   "outputs": [],
   "source": [
    "# Topic: File I/O\n",
    "with open('test.txt', 'r') as f:\n",
    "    print(f.read())"
   ]
  },
  {
   "cell_type": "code",
   "execution_count": null,
   "id": "636a90c3",
   "metadata": {},
   "outputs": [],
   "source": [
    "# Topic: CLI Tools\n",
    "import sys\n",
    "print(f'Arguments: {sys.argv}')"
   ]
  },
  {
   "cell_type": "code",
   "execution_count": null,
   "id": "8b9385a1",
   "metadata": {},
   "outputs": [],
   "source": [
    "# Topic: File I/O\n",
    "with open('test.txt', 'w') as f:\n",
    "    f.write('Hello World')"
   ]
  },
  {
   "cell_type": "code",
   "execution_count": null,
   "id": "318f8e1a",
   "metadata": {},
   "outputs": [],
   "source": [
    "# Topic: Web Scraping\n",
    "import requests\n",
    "from bs4 import BeautifulSoup\n",
    "r = requests.get('https://example.com')\n",
    "soup = BeautifulSoup(r.text, 'html.parser')\n",
    "print(soup.title.text)"
   ]
  },
  {
   "cell_type": "code",
   "execution_count": null,
   "id": "1ac382db",
   "metadata": {},
   "outputs": [],
   "source": [
    "# Topic: Loops\n",
    "for i in range(10): print(i*i)"
   ]
  },
  {
   "cell_type": "code",
   "execution_count": null,
   "id": "72f54715",
   "metadata": {},
   "outputs": [],
   "source": [
    "# Topic: OOP\n",
    "class Student:\n",
    "    def __init__(self, name): self.name = name\n",
    "s = Student('Fahd')\n",
    "print(s.name)"
   ]
  },
  {
   "cell_type": "code",
   "execution_count": null,
   "id": "e8da7cf0",
   "metadata": {},
   "outputs": [],
   "source": [
    "# Topic: Data Cleaning\n",
    "import pandas as pd\n",
    "df = pd.DataFrame({'A':[1,None,3]})\n",
    "df = df.fillna(0)\n",
    "print(df)"
   ]
  },
  {
   "cell_type": "code",
   "execution_count": null,
   "id": "b94db88c",
   "metadata": {},
   "outputs": [],
   "source": [
    "# Topic: Data Cleaning\n",
    "import pandas as pd\n",
    "df = pd.DataFrame({'A':[1,None,3]})\n",
    "df = df.fillna(0)\n",
    "print(df)"
   ]
  },
  {
   "cell_type": "code",
   "execution_count": null,
   "id": "343e70f0",
   "metadata": {},
   "outputs": [],
   "source": [
    "# Topic: Dictionaries & Sets\n",
    "s = set([1, 2, 3, 2])\n",
    "print(s)"
   ]
  },
  {
   "cell_type": "code",
   "execution_count": null,
   "id": "41e6318b",
   "metadata": {},
   "outputs": [],
   "source": [
    "# Topic: Regex\n",
    "import re\n",
    "text = 'email: test@example.com'\n",
    "print(re.findall(r'\\S+@\\S+', text))"
   ]
  },
  {
   "cell_type": "code",
   "execution_count": null,
   "id": "0742b015",
   "metadata": {},
   "outputs": [],
   "source": [
    "# Topic: File I/O\n",
    "with open('test.txt', 'w') as f:\n",
    "    f.write('Hello World')"
   ]
  },
  {
   "cell_type": "code",
   "execution_count": null,
   "id": "a0ff76a5",
   "metadata": {},
   "outputs": [],
   "source": [
    "# Topic: Functions\n",
    "def greet(name='User'):\n",
    "    print(f'Hi, {name}')\n",
    "greet()"
   ]
  },
  {
   "cell_type": "code",
   "execution_count": null,
   "id": "ef05a6cd",
   "metadata": {},
   "outputs": [],
   "source": [
    "# Topic: OOP\n",
    "class Student:\n",
    "    def __init__(self, name): self.name = name\n",
    "s = Student('Fahd')\n",
    "print(s.name)"
   ]
  },
  {
   "cell_type": "code",
   "execution_count": null,
   "id": "8dea25f0",
   "metadata": {},
   "outputs": [],
   "source": [
    "# Topic: Mini Projects\n",
    "# Palindrome check\n",
    "def is_pal(s): return s == s[::-1]\n",
    "print(is_pal('madam'))"
   ]
  },
  {
   "cell_type": "code",
   "execution_count": null,
   "id": "50432bef",
   "metadata": {},
   "outputs": [],
   "source": [
    "# Topic: Basics\n",
    "x = 10\n",
    "y = 20\n",
    "print(x + y)"
   ]
  },
  {
   "cell_type": "code",
   "execution_count": null,
   "id": "353f00bb",
   "metadata": {},
   "outputs": [],
   "source": [
    "# Topic: File I/O\n",
    "with open('test.txt', 'r') as f:\n",
    "    print(f.read())"
   ]
  },
  {
   "cell_type": "code",
   "execution_count": null,
   "id": "22ea38a9",
   "metadata": {},
   "outputs": [],
   "source": [
    "# Topic: NumPy\n",
    "import numpy as np\n",
    "a = np.array([1, 2, 3])\n",
    "print(a + 5)"
   ]
  },
  {
   "cell_type": "code",
   "execution_count": null,
   "id": "726b9bcb",
   "metadata": {},
   "outputs": [],
   "source": [
    "# Topic: Loops\n",
    "for i in range(10): print(i*i)"
   ]
  },
  {
   "cell_type": "code",
   "execution_count": null,
   "id": "1bd8298d",
   "metadata": {},
   "outputs": [],
   "source": [
    "# Topic: JSON & CSV\n",
    "import csv\n",
    "with open('file.csv', 'w', newline='') as f:\n",
    " csv.writer(f).writerow(['a','b','c'])"
   ]
  },
  {
   "cell_type": "code",
   "execution_count": null,
   "id": "742add4c",
   "metadata": {},
   "outputs": [],
   "source": [
    "# Topic: Loops\n",
    "while True:\n",
    "    print('Break')\n",
    "    break"
   ]
  },
  {
   "cell_type": "code",
   "execution_count": null,
   "id": "fca550d1",
   "metadata": {},
   "outputs": [],
   "source": [
    "# Topic: Recursion\n",
    "def fact(n): return 1 if n==0 else n*fact(n-1)\n",
    "print(fact(5))"
   ]
  },
  {
   "cell_type": "code",
   "execution_count": null,
   "id": "02f05aee",
   "metadata": {},
   "outputs": [],
   "source": [
    "# Topic: Regex\n",
    "import re\n",
    "text = 'email: test@example.com'\n",
    "print(re.findall(r'\\S+@\\S+', text))"
   ]
  },
  {
   "cell_type": "code",
   "execution_count": null,
   "id": "62fdd1d0",
   "metadata": {},
   "outputs": [],
   "source": [
    "# Topic: NumPy\n",
    "import numpy as np\n",
    "a = np.array([1, 2, 3])\n",
    "print(a + 5)"
   ]
  },
  {
   "cell_type": "code",
   "execution_count": null,
   "id": "9f1497ce",
   "metadata": {},
   "outputs": [],
   "source": [
    "# Topic: NumPy\n",
    "import numpy as np\n",
    "print(np.linspace(0, 1, 5))"
   ]
  },
  {
   "cell_type": "code",
   "execution_count": null,
   "id": "3ca10138",
   "metadata": {},
   "outputs": [],
   "source": [
    "# Topic: Loops\n",
    "while True:\n",
    "    print('Break')\n",
    "    break"
   ]
  },
  {
   "cell_type": "code",
   "execution_count": null,
   "id": "ec245a03",
   "metadata": {},
   "outputs": [],
   "source": [
    "# Topic: Data Cleaning\n",
    "import pandas as pd\n",
    "df = pd.DataFrame({'A':[1,None,3]})\n",
    "df = df.fillna(0)\n",
    "print(df)"
   ]
  },
  {
   "cell_type": "code",
   "execution_count": null,
   "id": "dad2ac5a",
   "metadata": {},
   "outputs": [],
   "source": [
    "# Topic: Pandas\n",
    "import pandas as pd\n",
    "df = pd.DataFrame({'A':[1,2],'B':[3,4]})\n",
    "print(df)"
   ]
  },
  {
   "cell_type": "code",
   "execution_count": null,
   "id": "b9f9fefd",
   "metadata": {},
   "outputs": [],
   "source": [
    "# Topic: Lists & Tuples\n",
    "lst = [1, 2, 3]\n",
    "lst.append(4)\n",
    "print(lst)"
   ]
  },
  {
   "cell_type": "code",
   "execution_count": null,
   "id": "93caca47",
   "metadata": {},
   "outputs": [],
   "source": [
    "# Topic: Web Scraping\n",
    "import requests\n",
    "from bs4 import BeautifulSoup\n",
    "r = requests.get('https://example.com')\n",
    "soup = BeautifulSoup(r.text, 'html.parser')\n",
    "print(soup.title.text)"
   ]
  },
  {
   "cell_type": "code",
   "execution_count": null,
   "id": "88823644",
   "metadata": {},
   "outputs": [],
   "source": [
    "# Topic: Web Scraping\n",
    "import requests\n",
    "from bs4 import BeautifulSoup\n",
    "r = requests.get('https://example.com')\n",
    "soup = BeautifulSoup(r.text, 'html.parser')\n",
    "print(soup.title.text)"
   ]
  },
  {
   "cell_type": "code",
   "execution_count": null,
   "id": "25fb1c40",
   "metadata": {},
   "outputs": [],
   "source": [
    "# Topic: Functions\n",
    "def square(x): return x*x\n",
    "print(square(5))"
   ]
  },
  {
   "cell_type": "code",
   "execution_count": null,
   "id": "c44328bc",
   "metadata": {},
   "outputs": [],
   "source": [
    "# Topic: JSON & CSV\n",
    "import csv\n",
    "with open('file.csv', 'w', newline='') as f:\n",
    " csv.writer(f).writerow(['a','b','c'])"
   ]
  },
  {
   "cell_type": "code",
   "execution_count": null,
   "id": "0f56c989",
   "metadata": {},
   "outputs": [],
   "source": [
    "# Topic: Decorators\n",
    "def log(func):\n",
    " def wrapper():\n",
    "  print('Call')\n",
    "  func()\n",
    " return wrapper\n",
    "@log\n",
    "def say(): print('Hi')\n",
    "say()"
   ]
  },
  {
   "cell_type": "code",
   "execution_count": null,
   "id": "54dfa569",
   "metadata": {},
   "outputs": [],
   "source": [
    "# Topic: Dictionaries & Sets\n",
    "d = {'name': 'Fahd', 'age': 20}\n",
    "print(d.get('name'))"
   ]
  },
  {
   "cell_type": "code",
   "execution_count": null,
   "id": "fbaf16d2",
   "metadata": {},
   "outputs": [],
   "source": [
    "# Topic: File I/O\n",
    "with open('test.txt', 'w') as f:\n",
    "    f.write('Hello World')"
   ]
  },
  {
   "cell_type": "code",
   "execution_count": null,
   "id": "9c3e9bdd",
   "metadata": {},
   "outputs": [],
   "source": [
    "# Topic: Mini Projects\n",
    "# Palindrome check\n",
    "def is_pal(s): return s == s[::-1]\n",
    "print(is_pal('madam'))"
   ]
  },
  {
   "cell_type": "code",
   "execution_count": null,
   "id": "bb90241b",
   "metadata": {},
   "outputs": [],
   "source": [
    "# Topic: Functions\n",
    "def square(x): return x*x\n",
    "print(square(5))"
   ]
  },
  {
   "cell_type": "code",
   "execution_count": null,
   "id": "edd49cc4",
   "metadata": {},
   "outputs": [],
   "source": [
    "# Topic: Loops\n",
    "while True:\n",
    "    print('Break')\n",
    "    break"
   ]
  },
  {
   "cell_type": "code",
   "execution_count": null,
   "id": "614bb104",
   "metadata": {},
   "outputs": [],
   "source": [
    "# Topic: Loops\n",
    "while True:\n",
    "    print('Break')\n",
    "    break"
   ]
  },
  {
   "cell_type": "code",
   "execution_count": null,
   "id": "fc88c52d",
   "metadata": {},
   "outputs": [],
   "source": [
    "# Topic: Decorators\n",
    "def log(func):\n",
    " def wrapper():\n",
    "  print('Call')\n",
    "  func()\n",
    " return wrapper\n",
    "@log\n",
    "def say(): print('Hi')\n",
    "say()"
   ]
  },
  {
   "cell_type": "code",
   "execution_count": null,
   "id": "2f271d30",
   "metadata": {},
   "outputs": [],
   "source": [
    "# Topic: Mini Projects\n",
    "# Palindrome check\n",
    "def is_pal(s): return s == s[::-1]\n",
    "print(is_pal('madam'))"
   ]
  },
  {
   "cell_type": "code",
   "execution_count": null,
   "id": "def1c3f4",
   "metadata": {},
   "outputs": [],
   "source": [
    "# Topic: Dictionaries & Sets\n",
    "d = {'name': 'Fahd', 'age': 20}\n",
    "print(d.get('name'))"
   ]
  },
  {
   "cell_type": "code",
   "execution_count": null,
   "id": "742b95a5",
   "metadata": {},
   "outputs": [],
   "source": [
    "# Topic: NumPy\n",
    "import numpy as np\n",
    "print(np.linspace(0, 1, 5))"
   ]
  },
  {
   "cell_type": "code",
   "execution_count": null,
   "id": "cf47a918",
   "metadata": {},
   "outputs": [],
   "source": [
    "# Topic: Matplotlib & Seaborn\n",
    "import matplotlib.pyplot as plt\n",
    "plt.plot([1,2],[3,4])\n",
    "plt.show()"
   ]
  },
  {
   "cell_type": "code",
   "execution_count": null,
   "id": "f16e6e77",
   "metadata": {},
   "outputs": [],
   "source": [
    "# Topic: JSON & CSV\n",
    "import csv\n",
    "with open('file.csv', 'w', newline='') as f:\n",
    " csv.writer(f).writerow(['a','b','c'])"
   ]
  },
  {
   "cell_type": "code",
   "execution_count": null,
   "id": "471d3fbf",
   "metadata": {},
   "outputs": [],
   "source": [
    "# Topic: Mini Projects\n",
    "# Calculator\n",
    "def calc(a,b,op): return eval(f'{a}{op}{b}')\n",
    "print(calc(5,2,'+'))"
   ]
  },
  {
   "cell_type": "code",
   "execution_count": null,
   "id": "ade26f52",
   "metadata": {},
   "outputs": [],
   "source": [
    "# Topic: CLI Tools\n",
    "import sys\n",
    "print(f'Arguments: {sys.argv}')"
   ]
  },
  {
   "cell_type": "code",
   "execution_count": null,
   "id": "9647ea9f",
   "metadata": {},
   "outputs": [],
   "source": [
    "# Topic: Dictionaries & Sets\n",
    "d = {'name': 'Fahd', 'age': 20}\n",
    "print(d.get('name'))"
   ]
  },
  {
   "cell_type": "code",
   "execution_count": null,
   "id": "ff7692e1",
   "metadata": {},
   "outputs": [],
   "source": [
    "# Topic: Web Scraping\n",
    "import requests\n",
    "from bs4 import BeautifulSoup\n",
    "r = requests.get('https://example.com')\n",
    "soup = BeautifulSoup(r.text, 'html.parser')\n",
    "print(soup.title.text)"
   ]
  },
  {
   "cell_type": "code",
   "execution_count": null,
   "id": "889e05d0",
   "metadata": {},
   "outputs": [],
   "source": [
    "# Topic: Algorithms\n",
    "# Bubble sort\n",
    "def bubble(arr):\n",
    " for i in range(len(arr)):\n",
    "  for j in range(0, len(arr)-i-1):\n",
    "   if arr[j]>arr[j+1]: arr[j],arr[j+1]=arr[j+1],arr[j]\n",
    "a=[5,3,8]\n",
    "bubble(a)\n",
    "print(a)"
   ]
  },
  {
   "cell_type": "code",
   "execution_count": null,
   "id": "3ca16ae5",
   "metadata": {},
   "outputs": [],
   "source": [
    "# Topic: Matplotlib & Seaborn\n",
    "import seaborn as sns\n",
    "import pandas as pd\n",
    "sns.set()\n",
    "sns.histplot(pd.Series([1,2,2,3]));"
   ]
  },
  {
   "cell_type": "code",
   "execution_count": null,
   "id": "76d28c7e",
   "metadata": {},
   "outputs": [],
   "source": [
    "# Topic: Pandas\n",
    "import pandas as pd\n",
    "df = pd.read_csv('file.csv')\n",
    "print(df.head())"
   ]
  },
  {
   "cell_type": "code",
   "execution_count": null,
   "id": "561eff04",
   "metadata": {},
   "outputs": [],
   "source": [
    "# Topic: File I/O\n",
    "with open('test.txt', 'r') as f:\n",
    "    print(f.read())"
   ]
  },
  {
   "cell_type": "code",
   "execution_count": null,
   "id": "26e054c8",
   "metadata": {},
   "outputs": [],
   "source": [
    "# Topic: Algorithms\n",
    "# Bubble sort\n",
    "def bubble(arr):\n",
    " for i in range(len(arr)):\n",
    "  for j in range(0, len(arr)-i-1):\n",
    "   if arr[j]>arr[j+1]: arr[j],arr[j+1]=arr[j+1],arr[j]\n",
    "a=[5,3,8]\n",
    "bubble(a)\n",
    "print(a)"
   ]
  },
  {
   "cell_type": "code",
   "execution_count": null,
   "id": "29d6b5f7",
   "metadata": {},
   "outputs": [],
   "source": [
    "# Topic: Matplotlib & Seaborn\n",
    "import matplotlib.pyplot as plt\n",
    "plt.plot([1,2],[3,4])\n",
    "plt.show()"
   ]
  },
  {
   "cell_type": "code",
   "execution_count": null,
   "id": "ce5893f6",
   "metadata": {},
   "outputs": [],
   "source": [
    "# Topic: Web Scraping\n",
    "import requests\n",
    "from bs4 import BeautifulSoup\n",
    "r = requests.get('https://example.com')\n",
    "soup = BeautifulSoup(r.text, 'html.parser')\n",
    "print(soup.title.text)"
   ]
  },
  {
   "cell_type": "code",
   "execution_count": null,
   "id": "a9858fa1",
   "metadata": {},
   "outputs": [],
   "source": [
    "# Topic: Web Scraping\n",
    "import requests\n",
    "from bs4 import BeautifulSoup\n",
    "r = requests.get('https://example.com')\n",
    "soup = BeautifulSoup(r.text, 'html.parser')\n",
    "print(soup.title.text)"
   ]
  },
  {
   "cell_type": "code",
   "execution_count": null,
   "id": "fa248c90",
   "metadata": {},
   "outputs": [],
   "source": [
    "# Topic: Mini Projects\n",
    "# Palindrome check\n",
    "def is_pal(s): return s == s[::-1]\n",
    "print(is_pal('madam'))"
   ]
  },
  {
   "cell_type": "code",
   "execution_count": null,
   "id": "24bf4a93",
   "metadata": {},
   "outputs": [],
   "source": [
    "# Topic: Loops\n",
    "for i in range(10): print(i*i)"
   ]
  },
  {
   "cell_type": "code",
   "execution_count": null,
   "id": "31a57f3c",
   "metadata": {},
   "outputs": [],
   "source": [
    "# Topic: Web Scraping\n",
    "import requests\n",
    "from bs4 import BeautifulSoup\n",
    "r = requests.get('https://example.com')\n",
    "soup = BeautifulSoup(r.text, 'html.parser')\n",
    "print(soup.title.text)"
   ]
  },
  {
   "cell_type": "code",
   "execution_count": null,
   "id": "2a2d46c1",
   "metadata": {},
   "outputs": [],
   "source": [
    "# Topic: Data Cleaning\n",
    "import pandas as pd\n",
    "df = pd.DataFrame({'A':[1,None,3]})\n",
    "df = df.fillna(0)\n",
    "print(df)"
   ]
  },
  {
   "cell_type": "code",
   "execution_count": null,
   "id": "479a0e24",
   "metadata": {},
   "outputs": [],
   "source": [
    "# Topic: OOP\n",
    "class Student:\n",
    "    def __init__(self, name): self.name = name\n",
    "s = Student('Fahd')\n",
    "print(s.name)"
   ]
  },
  {
   "cell_type": "code",
   "execution_count": null,
   "id": "b456b1da",
   "metadata": {},
   "outputs": [],
   "source": [
    "# Topic: Recursion\n",
    "def fact(n): return 1 if n==0 else n*fact(n-1)\n",
    "print(fact(5))"
   ]
  },
  {
   "cell_type": "code",
   "execution_count": null,
   "id": "61ce6a2b",
   "metadata": {},
   "outputs": [],
   "source": [
    "# Topic: Lists & Tuples\n",
    "lst = [1, 2, 3]\n",
    "lst.append(4)\n",
    "print(lst)"
   ]
  },
  {
   "cell_type": "code",
   "execution_count": null,
   "id": "65396164",
   "metadata": {},
   "outputs": [],
   "source": [
    "# Topic: JSON & CSV\n",
    "import csv\n",
    "with open('file.csv', 'w', newline='') as f:\n",
    " csv.writer(f).writerow(['a','b','c'])"
   ]
  },
  {
   "cell_type": "code",
   "execution_count": null,
   "id": "35cfc110",
   "metadata": {},
   "outputs": [],
   "source": [
    "# Topic: NumPy\n",
    "import numpy as np\n",
    "a = np.array([1, 2, 3])\n",
    "print(a + 5)"
   ]
  },
  {
   "cell_type": "code",
   "execution_count": null,
   "id": "4d26b8f9",
   "metadata": {},
   "outputs": [],
   "source": [
    "# Topic: Matplotlib & Seaborn\n",
    "import seaborn as sns\n",
    "import pandas as pd\n",
    "sns.set()\n",
    "sns.histplot(pd.Series([1,2,2,3]));"
   ]
  },
  {
   "cell_type": "code",
   "execution_count": null,
   "id": "34febce3",
   "metadata": {},
   "outputs": [],
   "source": [
    "# Topic: Regex\n",
    "import re\n",
    "text = 'email: test@example.com'\n",
    "print(re.findall(r'\\S+@\\S+', text))"
   ]
  },
  {
   "cell_type": "code",
   "execution_count": null,
   "id": "a27ea207",
   "metadata": {},
   "outputs": [],
   "source": [
    "# Topic: Web Scraping\n",
    "import requests\n",
    "from bs4 import BeautifulSoup\n",
    "r = requests.get('https://example.com')\n",
    "soup = BeautifulSoup(r.text, 'html.parser')\n",
    "print(soup.title.text)"
   ]
  },
  {
   "cell_type": "code",
   "execution_count": null,
   "id": "d3600f19",
   "metadata": {},
   "outputs": [],
   "source": [
    "# Topic: Lists & Tuples\n",
    "lst = [1, 2, 3]\n",
    "lst.append(4)\n",
    "print(lst)"
   ]
  },
  {
   "cell_type": "code",
   "execution_count": null,
   "id": "1299da1a",
   "metadata": {},
   "outputs": [],
   "source": [
    "# Topic: Decorators\n",
    "def log(func):\n",
    " def wrapper():\n",
    "  print('Call')\n",
    "  func()\n",
    " return wrapper\n",
    "@log\n",
    "def say(): print('Hi')\n",
    "say()"
   ]
  },
  {
   "cell_type": "code",
   "execution_count": null,
   "id": "d8a2cc30",
   "metadata": {},
   "outputs": [],
   "source": [
    "# Topic: Regex\n",
    "import re\n",
    "text = 'email: test@example.com'\n",
    "print(re.findall(r'\\S+@\\S+', text))"
   ]
  },
  {
   "cell_type": "code",
   "execution_count": null,
   "id": "ca3c4314",
   "metadata": {},
   "outputs": [],
   "source": [
    "# Topic: Pandas\n",
    "import pandas as pd\n",
    "df = pd.DataFrame({'A':[1,2],'B':[3,4]})\n",
    "print(df)"
   ]
  },
  {
   "cell_type": "code",
   "execution_count": null,
   "id": "39be7821",
   "metadata": {},
   "outputs": [],
   "source": [
    "# Topic: Basic ML\n",
    "from sklearn.linear_model import LinearRegression\n",
    "model = LinearRegression()\n",
    "print(model)"
   ]
  },
  {
   "cell_type": "code",
   "execution_count": null,
   "id": "5e549f09",
   "metadata": {},
   "outputs": [],
   "source": [
    "# Topic: Decorators\n",
    "def log(func):\n",
    " def wrapper():\n",
    "  print('Call')\n",
    "  func()\n",
    " return wrapper\n",
    "@log\n",
    "def say(): print('Hi')\n",
    "say()"
   ]
  },
  {
   "cell_type": "code",
   "execution_count": null,
   "id": "2f747e9f",
   "metadata": {},
   "outputs": [],
   "source": [
    "# Topic: Functions\n",
    "def greet(name='User'):\n",
    "    print(f'Hi, {name}')\n",
    "greet()"
   ]
  },
  {
   "cell_type": "code",
   "execution_count": null,
   "id": "930a2866",
   "metadata": {},
   "outputs": [],
   "source": [
    "# Topic: Functions\n",
    "def greet(name='User'):\n",
    "    print(f'Hi, {name}')\n",
    "greet()"
   ]
  },
  {
   "cell_type": "code",
   "execution_count": null,
   "id": "1192cc24",
   "metadata": {},
   "outputs": [],
   "source": [
    "# Topic: Web Scraping\n",
    "import requests\n",
    "from bs4 import BeautifulSoup\n",
    "r = requests.get('https://example.com')\n",
    "soup = BeautifulSoup(r.text, 'html.parser')\n",
    "print(soup.title.text)"
   ]
  },
  {
   "cell_type": "code",
   "execution_count": null,
   "id": "55bce78c",
   "metadata": {},
   "outputs": [],
   "source": [
    "# Topic: Data Cleaning\n",
    "import pandas as pd\n",
    "df = pd.DataFrame({'A':[1,None,3]})\n",
    "df = df.fillna(0)\n",
    "print(df)"
   ]
  },
  {
   "cell_type": "code",
   "execution_count": null,
   "id": "b15d2901",
   "metadata": {},
   "outputs": [],
   "source": [
    "# Topic: NumPy\n",
    "import numpy as np\n",
    "print(np.linspace(0, 1, 5))"
   ]
  },
  {
   "cell_type": "code",
   "execution_count": null,
   "id": "5d54e95d",
   "metadata": {},
   "outputs": [],
   "source": [
    "# Topic: Basic ML\n",
    "from sklearn.linear_model import LinearRegression\n",
    "model = LinearRegression()\n",
    "print(model)"
   ]
  },
  {
   "cell_type": "code",
   "execution_count": null,
   "id": "844753b1",
   "metadata": {},
   "outputs": [],
   "source": [
    "# Topic: NumPy\n",
    "import numpy as np\n",
    "a = np.array([1, 2, 3])\n",
    "print(a + 5)"
   ]
  },
  {
   "cell_type": "code",
   "execution_count": null,
   "id": "9fbec4f8",
   "metadata": {},
   "outputs": [],
   "source": [
    "# Topic: Basic ML\n",
    "from sklearn.linear_model import LinearRegression\n",
    "model = LinearRegression()\n",
    "print(model)"
   ]
  },
  {
   "cell_type": "code",
   "execution_count": null,
   "id": "66ba6dce",
   "metadata": {},
   "outputs": [],
   "source": [
    "# Topic: Data Cleaning\n",
    "import pandas as pd\n",
    "df = pd.DataFrame({'A':[1,None,3]})\n",
    "df = df.fillna(0)\n",
    "print(df)"
   ]
  },
  {
   "cell_type": "code",
   "execution_count": null,
   "id": "d568f89e",
   "metadata": {},
   "outputs": [],
   "source": [
    "# Topic: JSON & CSV\n",
    "import json\n",
    "data = {'a': 1}\n",
    "print(json.dumps(data))"
   ]
  },
  {
   "cell_type": "code",
   "execution_count": null,
   "id": "88162e76",
   "metadata": {},
   "outputs": [],
   "source": [
    "# Topic: Mini Projects\n",
    "# Palindrome check\n",
    "def is_pal(s): return s == s[::-1]\n",
    "print(is_pal('madam'))"
   ]
  },
  {
   "cell_type": "code",
   "execution_count": null,
   "id": "730a8ca6",
   "metadata": {},
   "outputs": [],
   "source": [
    "# Topic: Algorithms\n",
    "# Bubble sort\n",
    "def bubble(arr):\n",
    " for i in range(len(arr)):\n",
    "  for j in range(0, len(arr)-i-1):\n",
    "   if arr[j]>arr[j+1]: arr[j],arr[j+1]=arr[j+1],arr[j]\n",
    "a=[5,3,8]\n",
    "bubble(a)\n",
    "print(a)"
   ]
  },
  {
   "cell_type": "code",
   "execution_count": null,
   "id": "0773790e",
   "metadata": {},
   "outputs": [],
   "source": [
    "# Topic: Dictionaries & Sets\n",
    "s = set([1, 2, 3, 2])\n",
    "print(s)"
   ]
  },
  {
   "cell_type": "code",
   "execution_count": null,
   "id": "c44715e0",
   "metadata": {},
   "outputs": [],
   "source": [
    "# Topic: Basics\n",
    "name = 'Fahd'\n",
    "print(f'Hello, {name}')"
   ]
  },
  {
   "cell_type": "code",
   "execution_count": null,
   "id": "4068bebc",
   "metadata": {},
   "outputs": [],
   "source": [
    "# Topic: Lists & Tuples\n",
    "t = (1, 2, 3)\n",
    "print(t[0])"
   ]
  },
  {
   "cell_type": "code",
   "execution_count": null,
   "id": "62760772",
   "metadata": {},
   "outputs": [],
   "source": [
    "# Topic: Dictionaries & Sets\n",
    "d = {'name': 'Fahd', 'age': 20}\n",
    "print(d.get('name'))"
   ]
  },
  {
   "cell_type": "code",
   "execution_count": null,
   "id": "3878bbc0",
   "metadata": {},
   "outputs": [],
   "source": [
    "# Topic: Regex\n",
    "import re\n",
    "text = 'email: test@example.com'\n",
    "print(re.findall(r'\\S+@\\S+', text))"
   ]
  },
  {
   "cell_type": "code",
   "execution_count": null,
   "id": "0d4c11f3",
   "metadata": {},
   "outputs": [],
   "source": [
    "# Topic: OOP\n",
    "class Student:\n",
    "    def __init__(self, name): self.name = name\n",
    "s = Student('Fahd')\n",
    "print(s.name)"
   ]
  },
  {
   "cell_type": "code",
   "execution_count": null,
   "id": "caf10150",
   "metadata": {},
   "outputs": [],
   "source": [
    "# Topic: JSON & CSV\n",
    "import json\n",
    "data = {'a': 1}\n",
    "print(json.dumps(data))"
   ]
  },
  {
   "cell_type": "code",
   "execution_count": null,
   "id": "c0efc02a",
   "metadata": {},
   "outputs": [],
   "source": [
    "# Topic: Mini Projects\n",
    "# Calculator\n",
    "def calc(a,b,op): return eval(f'{a}{op}{b}')\n",
    "print(calc(5,2,'+'))"
   ]
  },
  {
   "cell_type": "code",
   "execution_count": null,
   "id": "d9f46887",
   "metadata": {},
   "outputs": [],
   "source": [
    "# Topic: Algorithms\n",
    "# Bubble sort\n",
    "def bubble(arr):\n",
    " for i in range(len(arr)):\n",
    "  for j in range(0, len(arr)-i-1):\n",
    "   if arr[j]>arr[j+1]: arr[j],arr[j+1]=arr[j+1],arr[j]\n",
    "a=[5,3,8]\n",
    "bubble(a)\n",
    "print(a)"
   ]
  },
  {
   "cell_type": "code",
   "execution_count": null,
   "id": "5803811d",
   "metadata": {},
   "outputs": [],
   "source": [
    "# Topic: Mini Projects\n",
    "# Palindrome check\n",
    "def is_pal(s): return s == s[::-1]\n",
    "print(is_pal('madam'))"
   ]
  },
  {
   "cell_type": "code",
   "execution_count": null,
   "id": "0420e41a",
   "metadata": {},
   "outputs": [],
   "source": [
    "# Topic: File I/O\n",
    "with open('test.txt', 'w') as f:\n",
    "    f.write('Hello World')"
   ]
  },
  {
   "cell_type": "code",
   "execution_count": null,
   "id": "477833e2",
   "metadata": {},
   "outputs": [],
   "source": [
    "# Topic: Decorators\n",
    "def log(func):\n",
    " def wrapper():\n",
    "  print('Call')\n",
    "  func()\n",
    " return wrapper\n",
    "@log\n",
    "def say(): print('Hi')\n",
    "say()"
   ]
  },
  {
   "cell_type": "code",
   "execution_count": null,
   "id": "7395e503",
   "metadata": {},
   "outputs": [],
   "source": [
    "# Topic: Pandas\n",
    "import pandas as pd\n",
    "df = pd.DataFrame({'A':[1,2],'B':[3,4]})\n",
    "print(df)"
   ]
  },
  {
   "cell_type": "code",
   "execution_count": null,
   "id": "60dcbe0c",
   "metadata": {},
   "outputs": [],
   "source": [
    "# Topic: Basics\n",
    "x = 10\n",
    "y = 20\n",
    "print(x + y)"
   ]
  },
  {
   "cell_type": "code",
   "execution_count": null,
   "id": "da9e5bba",
   "metadata": {},
   "outputs": [],
   "source": [
    "# Topic: NumPy\n",
    "import numpy as np\n",
    "a = np.array([1, 2, 3])\n",
    "print(a + 5)"
   ]
  },
  {
   "cell_type": "code",
   "execution_count": null,
   "id": "6bf9d342",
   "metadata": {},
   "outputs": [],
   "source": [
    "# Topic: Data Cleaning\n",
    "import pandas as pd\n",
    "df = pd.DataFrame({'A':[1,None,3]})\n",
    "df = df.fillna(0)\n",
    "print(df)"
   ]
  },
  {
   "cell_type": "code",
   "execution_count": null,
   "id": "289cbbdb",
   "metadata": {},
   "outputs": [],
   "source": [
    "# Topic: File I/O\n",
    "with open('test.txt', 'r') as f:\n",
    "    print(f.read())"
   ]
  },
  {
   "cell_type": "code",
   "execution_count": null,
   "id": "77098048",
   "metadata": {},
   "outputs": [],
   "source": [
    "# Topic: Functions\n",
    "def greet(name='User'):\n",
    "    print(f'Hi, {name}')\n",
    "greet()"
   ]
  },
  {
   "cell_type": "code",
   "execution_count": null,
   "id": "be66e08f",
   "metadata": {},
   "outputs": [],
   "source": [
    "# Topic: Decorators\n",
    "def log(func):\n",
    " def wrapper():\n",
    "  print('Call')\n",
    "  func()\n",
    " return wrapper\n",
    "@log\n",
    "def say(): print('Hi')\n",
    "say()"
   ]
  },
  {
   "cell_type": "code",
   "execution_count": null,
   "id": "4c3146a0",
   "metadata": {},
   "outputs": [],
   "source": [
    "# Topic: Recursion\n",
    "def fact(n): return 1 if n==0 else n*fact(n-1)\n",
    "print(fact(5))"
   ]
  },
  {
   "cell_type": "code",
   "execution_count": null,
   "id": "7be74d6a",
   "metadata": {},
   "outputs": [],
   "source": [
    "# Topic: Decorators\n",
    "def log(func):\n",
    " def wrapper():\n",
    "  print('Call')\n",
    "  func()\n",
    " return wrapper\n",
    "@log\n",
    "def say(): print('Hi')\n",
    "say()"
   ]
  },
  {
   "cell_type": "code",
   "execution_count": null,
   "id": "53a2ebec",
   "metadata": {},
   "outputs": [],
   "source": [
    "# Topic: CLI Tools\n",
    "import sys\n",
    "print(f'Arguments: {sys.argv}')"
   ]
  },
  {
   "cell_type": "code",
   "execution_count": null,
   "id": "5578fccb",
   "metadata": {},
   "outputs": [],
   "source": [
    "# Topic: Data Cleaning\n",
    "import pandas as pd\n",
    "df = pd.DataFrame({'A':[1,None,3]})\n",
    "df = df.fillna(0)\n",
    "print(df)"
   ]
  },
  {
   "cell_type": "code",
   "execution_count": null,
   "id": "3e33ca52",
   "metadata": {},
   "outputs": [],
   "source": [
    "# Topic: Basic ML\n",
    "from sklearn.linear_model import LinearRegression\n",
    "model = LinearRegression()\n",
    "print(model)"
   ]
  },
  {
   "cell_type": "code",
   "execution_count": null,
   "id": "30872ba3",
   "metadata": {},
   "outputs": [],
   "source": [
    "# Topic: Basic ML\n",
    "from sklearn.linear_model import LinearRegression\n",
    "model = LinearRegression()\n",
    "print(model)"
   ]
  },
  {
   "cell_type": "code",
   "execution_count": null,
   "id": "ac84983e",
   "metadata": {},
   "outputs": [],
   "source": [
    "# Topic: Basics\n",
    "x = 10\n",
    "y = 20\n",
    "print(x + y)"
   ]
  },
  {
   "cell_type": "code",
   "execution_count": null,
   "id": "679afa96",
   "metadata": {},
   "outputs": [],
   "source": [
    "# Topic: OOP\n",
    "class Student:\n",
    "    def __init__(self, name): self.name = name\n",
    "s = Student('Fahd')\n",
    "print(s.name)"
   ]
  },
  {
   "cell_type": "code",
   "execution_count": null,
   "id": "ed5e40ef",
   "metadata": {},
   "outputs": [],
   "source": [
    "# Topic: Data Cleaning\n",
    "import pandas as pd\n",
    "df = pd.DataFrame({'A':[1,None,3]})\n",
    "df = df.fillna(0)\n",
    "print(df)"
   ]
  },
  {
   "cell_type": "code",
   "execution_count": null,
   "id": "0dceea5b",
   "metadata": {},
   "outputs": [],
   "source": [
    "# Topic: Basics\n",
    "name = 'Fahd'\n",
    "print(f'Hello, {name}')"
   ]
  },
  {
   "cell_type": "code",
   "execution_count": null,
   "id": "25fed8ed",
   "metadata": {},
   "outputs": [],
   "source": [
    "# Topic: JSON & CSV\n",
    "import csv\n",
    "with open('file.csv', 'w', newline='') as f:\n",
    " csv.writer(f).writerow(['a','b','c'])"
   ]
  },
  {
   "cell_type": "code",
   "execution_count": null,
   "id": "a8497758",
   "metadata": {},
   "outputs": [],
   "source": [
    "# Topic: Regex\n",
    "import re\n",
    "text = 'email: test@example.com'\n",
    "print(re.findall(r'\\S+@\\S+', text))"
   ]
  },
  {
   "cell_type": "code",
   "execution_count": null,
   "id": "70494dca",
   "metadata": {},
   "outputs": [],
   "source": [
    "# Topic: NumPy\n",
    "import numpy as np\n",
    "a = np.array([1, 2, 3])\n",
    "print(a + 5)"
   ]
  },
  {
   "cell_type": "code",
   "execution_count": null,
   "id": "3cf2262d",
   "metadata": {},
   "outputs": [],
   "source": [
    "# Topic: Functions\n",
    "def square(x): return x*x\n",
    "print(square(5))"
   ]
  },
  {
   "cell_type": "code",
   "execution_count": null,
   "id": "e76bdbaa",
   "metadata": {},
   "outputs": [],
   "source": [
    "# Topic: Decorators\n",
    "def log(func):\n",
    " def wrapper():\n",
    "  print('Call')\n",
    "  func()\n",
    " return wrapper\n",
    "@log\n",
    "def say(): print('Hi')\n",
    "say()"
   ]
  },
  {
   "cell_type": "code",
   "execution_count": null,
   "id": "98a2af9a",
   "metadata": {},
   "outputs": [],
   "source": [
    "# Topic: Mini Projects\n",
    "# Palindrome check\n",
    "def is_pal(s): return s == s[::-1]\n",
    "print(is_pal('madam'))"
   ]
  },
  {
   "cell_type": "code",
   "execution_count": null,
   "id": "503bd5cf",
   "metadata": {},
   "outputs": [],
   "source": [
    "# Topic: Matplotlib & Seaborn\n",
    "import matplotlib.pyplot as plt\n",
    "plt.plot([1,2],[3,4])\n",
    "plt.show()"
   ]
  },
  {
   "cell_type": "code",
   "execution_count": null,
   "id": "a2e3e074",
   "metadata": {},
   "outputs": [],
   "source": [
    "# Topic: Web Scraping\n",
    "import requests\n",
    "from bs4 import BeautifulSoup\n",
    "r = requests.get('https://example.com')\n",
    "soup = BeautifulSoup(r.text, 'html.parser')\n",
    "print(soup.title.text)"
   ]
  },
  {
   "cell_type": "code",
   "execution_count": null,
   "id": "fbf8ab05",
   "metadata": {},
   "outputs": [],
   "source": [
    "# Topic: Pandas\n",
    "import pandas as pd\n",
    "df = pd.read_csv('file.csv')\n",
    "print(df.head())"
   ]
  },
  {
   "cell_type": "code",
   "execution_count": null,
   "id": "0852cb7e",
   "metadata": {},
   "outputs": [],
   "source": [
    "# Topic: CLI Tools\n",
    "import sys\n",
    "print(f'Arguments: {sys.argv}')"
   ]
  },
  {
   "cell_type": "code",
   "execution_count": null,
   "id": "85c6a05a",
   "metadata": {},
   "outputs": [],
   "source": [
    "# Topic: CLI Tools\n",
    "import sys\n",
    "print(f'Arguments: {sys.argv}')"
   ]
  },
  {
   "cell_type": "code",
   "execution_count": null,
   "id": "e58fc946",
   "metadata": {},
   "outputs": [],
   "source": [
    "# Topic: OOP\n",
    "class Student:\n",
    "    def __init__(self, name): self.name = name\n",
    "s = Student('Fahd')\n",
    "print(s.name)"
   ]
  },
  {
   "cell_type": "code",
   "execution_count": null,
   "id": "6354c5e1",
   "metadata": {},
   "outputs": [],
   "source": [
    "# Topic: Data Cleaning\n",
    "import pandas as pd\n",
    "df = pd.DataFrame({'A':[1,None,3]})\n",
    "df = df.fillna(0)\n",
    "print(df)"
   ]
  },
  {
   "cell_type": "code",
   "execution_count": null,
   "id": "50780515",
   "metadata": {},
   "outputs": [],
   "source": [
    "# Topic: CLI Tools\n",
    "import sys\n",
    "print(f'Arguments: {sys.argv}')"
   ]
  },
  {
   "cell_type": "code",
   "execution_count": null,
   "id": "33828caf",
   "metadata": {},
   "outputs": [],
   "source": [
    "# Topic: Matplotlib & Seaborn\n",
    "import matplotlib.pyplot as plt\n",
    "plt.plot([1,2],[3,4])\n",
    "plt.show()"
   ]
  },
  {
   "cell_type": "code",
   "execution_count": null,
   "id": "4f98bc23",
   "metadata": {},
   "outputs": [],
   "source": [
    "# Topic: Dictionaries & Sets\n",
    "s = set([1, 2, 3, 2])\n",
    "print(s)"
   ]
  },
  {
   "cell_type": "code",
   "execution_count": null,
   "id": "92a91589",
   "metadata": {},
   "outputs": [],
   "source": [
    "# Topic: Matplotlib & Seaborn\n",
    "import seaborn as sns\n",
    "import pandas as pd\n",
    "sns.set()\n",
    "sns.histplot(pd.Series([1,2,2,3]));"
   ]
  },
  {
   "cell_type": "code",
   "execution_count": null,
   "id": "0e9d26ae",
   "metadata": {},
   "outputs": [],
   "source": [
    "# Topic: OOP\n",
    "class Student:\n",
    "    def __init__(self, name): self.name = name\n",
    "s = Student('Fahd')\n",
    "print(s.name)"
   ]
  },
  {
   "cell_type": "code",
   "execution_count": null,
   "id": "f72f9a26",
   "metadata": {},
   "outputs": [],
   "source": [
    "# Topic: Algorithms\n",
    "# Bubble sort\n",
    "def bubble(arr):\n",
    " for i in range(len(arr)):\n",
    "  for j in range(0, len(arr)-i-1):\n",
    "   if arr[j]>arr[j+1]: arr[j],arr[j+1]=arr[j+1],arr[j]\n",
    "a=[5,3,8]\n",
    "bubble(a)\n",
    "print(a)"
   ]
  },
  {
   "cell_type": "code",
   "execution_count": null,
   "id": "8e0f1e79",
   "metadata": {},
   "outputs": [],
   "source": [
    "# Topic: File I/O\n",
    "with open('test.txt', 'w') as f:\n",
    "    f.write('Hello World')"
   ]
  },
  {
   "cell_type": "code",
   "execution_count": null,
   "id": "6c995813",
   "metadata": {},
   "outputs": [],
   "source": [
    "# Topic: CLI Tools\n",
    "import sys\n",
    "print(f'Arguments: {sys.argv}')"
   ]
  },
  {
   "cell_type": "code",
   "execution_count": null,
   "id": "1f7bed67",
   "metadata": {},
   "outputs": [],
   "source": [
    "# Topic: JSON & CSV\n",
    "import json\n",
    "data = {'a': 1}\n",
    "print(json.dumps(data))"
   ]
  },
  {
   "cell_type": "code",
   "execution_count": null,
   "id": "27dcbae2",
   "metadata": {},
   "outputs": [],
   "source": [
    "# Topic: CLI Tools\n",
    "import sys\n",
    "print(f'Arguments: {sys.argv}')"
   ]
  },
  {
   "cell_type": "code",
   "execution_count": null,
   "id": "66eca773",
   "metadata": {},
   "outputs": [],
   "source": [
    "# Topic: File I/O\n",
    "with open('test.txt', 'w') as f:\n",
    "    f.write('Hello World')"
   ]
  },
  {
   "cell_type": "code",
   "execution_count": null,
   "id": "191ee439",
   "metadata": {},
   "outputs": [],
   "source": [
    "# Topic: Lists & Tuples\n",
    "t = (1, 2, 3)\n",
    "print(t[0])"
   ]
  },
  {
   "cell_type": "code",
   "execution_count": null,
   "id": "7ac1bc0c",
   "metadata": {},
   "outputs": [],
   "source": [
    "# Topic: Regex\n",
    "import re\n",
    "text = 'email: test@example.com'\n",
    "print(re.findall(r'\\S+@\\S+', text))"
   ]
  },
  {
   "cell_type": "code",
   "execution_count": null,
   "id": "a850b709",
   "metadata": {},
   "outputs": [],
   "source": [
    "# Topic: Functions\n",
    "def square(x): return x*x\n",
    "print(square(5))"
   ]
  },
  {
   "cell_type": "code",
   "execution_count": null,
   "id": "f44cbf28",
   "metadata": {},
   "outputs": [],
   "source": [
    "# Topic: Web Scraping\n",
    "import requests\n",
    "from bs4 import BeautifulSoup\n",
    "r = requests.get('https://example.com')\n",
    "soup = BeautifulSoup(r.text, 'html.parser')\n",
    "print(soup.title.text)"
   ]
  },
  {
   "cell_type": "code",
   "execution_count": null,
   "id": "0101f19d",
   "metadata": {},
   "outputs": [],
   "source": [
    "# Topic: Functions\n",
    "def square(x): return x*x\n",
    "print(square(5))"
   ]
  },
  {
   "cell_type": "code",
   "execution_count": null,
   "id": "a179915d",
   "metadata": {},
   "outputs": [],
   "source": [
    "# Topic: Recursion\n",
    "def fact(n): return 1 if n==0 else n*fact(n-1)\n",
    "print(fact(5))"
   ]
  },
  {
   "cell_type": "code",
   "execution_count": null,
   "id": "6bfffc1d",
   "metadata": {},
   "outputs": [],
   "source": [
    "# Topic: Basic ML\n",
    "from sklearn.linear_model import LinearRegression\n",
    "model = LinearRegression()\n",
    "print(model)"
   ]
  },
  {
   "cell_type": "code",
   "execution_count": null,
   "id": "ca2033c2",
   "metadata": {},
   "outputs": [],
   "source": [
    "# Topic: Recursion\n",
    "def fact(n): return 1 if n==0 else n*fact(n-1)\n",
    "print(fact(5))"
   ]
  },
  {
   "cell_type": "code",
   "execution_count": null,
   "id": "0763a681",
   "metadata": {},
   "outputs": [],
   "source": [
    "# Topic: NumPy\n",
    "import numpy as np\n",
    "print(np.linspace(0, 1, 5))"
   ]
  },
  {
   "cell_type": "code",
   "execution_count": null,
   "id": "b5d2affc",
   "metadata": {},
   "outputs": [],
   "source": [
    "# Topic: Basic ML\n",
    "from sklearn.linear_model import LinearRegression\n",
    "model = LinearRegression()\n",
    "print(model)"
   ]
  },
  {
   "cell_type": "code",
   "execution_count": null,
   "id": "e8728ded",
   "metadata": {},
   "outputs": [],
   "source": [
    "# Topic: Basic ML\n",
    "from sklearn.linear_model import LinearRegression\n",
    "model = LinearRegression()\n",
    "print(model)"
   ]
  },
  {
   "cell_type": "code",
   "execution_count": null,
   "id": "88914a72",
   "metadata": {},
   "outputs": [],
   "source": [
    "# Topic: Regex\n",
    "import re\n",
    "text = 'email: test@example.com'\n",
    "print(re.findall(r'\\S+@\\S+', text))"
   ]
  },
  {
   "cell_type": "code",
   "execution_count": null,
   "id": "d25c1689",
   "metadata": {},
   "outputs": [],
   "source": [
    "# Topic: Algorithms\n",
    "# Bubble sort\n",
    "def bubble(arr):\n",
    " for i in range(len(arr)):\n",
    "  for j in range(0, len(arr)-i-1):\n",
    "   if arr[j]>arr[j+1]: arr[j],arr[j+1]=arr[j+1],arr[j]\n",
    "a=[5,3,8]\n",
    "bubble(a)\n",
    "print(a)"
   ]
  },
  {
   "cell_type": "code",
   "execution_count": null,
   "id": "703ec926",
   "metadata": {},
   "outputs": [],
   "source": [
    "# Topic: Loops\n",
    "while True:\n",
    "    print('Break')\n",
    "    break"
   ]
  },
  {
   "cell_type": "code",
   "execution_count": null,
   "id": "d893ac4f",
   "metadata": {},
   "outputs": [],
   "source": [
    "# Topic: Regex\n",
    "import re\n",
    "text = 'email: test@example.com'\n",
    "print(re.findall(r'\\S+@\\S+', text))"
   ]
  },
  {
   "cell_type": "code",
   "execution_count": null,
   "id": "a1f92768",
   "metadata": {},
   "outputs": [],
   "source": [
    "# Topic: Lists & Tuples\n",
    "lst = [1, 2, 3]\n",
    "lst.append(4)\n",
    "print(lst)"
   ]
  },
  {
   "cell_type": "code",
   "execution_count": null,
   "id": "b6bb1363",
   "metadata": {},
   "outputs": [],
   "source": [
    "# Topic: Regex\n",
    "import re\n",
    "text = 'email: test@example.com'\n",
    "print(re.findall(r'\\S+@\\S+', text))"
   ]
  },
  {
   "cell_type": "code",
   "execution_count": null,
   "id": "c6238513",
   "metadata": {},
   "outputs": [],
   "source": [
    "# Topic: Decorators\n",
    "def log(func):\n",
    " def wrapper():\n",
    "  print('Call')\n",
    "  func()\n",
    " return wrapper\n",
    "@log\n",
    "def say(): print('Hi')\n",
    "say()"
   ]
  },
  {
   "cell_type": "code",
   "execution_count": null,
   "id": "0787aea9",
   "metadata": {},
   "outputs": [],
   "source": [
    "# Topic: Dictionaries & Sets\n",
    "d = {'name': 'Fahd', 'age': 20}\n",
    "print(d.get('name'))"
   ]
  },
  {
   "cell_type": "code",
   "execution_count": null,
   "id": "b24be0ac",
   "metadata": {},
   "outputs": [],
   "source": [
    "# Topic: CLI Tools\n",
    "import sys\n",
    "print(f'Arguments: {sys.argv}')"
   ]
  },
  {
   "cell_type": "code",
   "execution_count": null,
   "id": "cf039dd4",
   "metadata": {},
   "outputs": [],
   "source": [
    "# Topic: Lists & Tuples\n",
    "lst = [1, 2, 3]\n",
    "lst.append(4)\n",
    "print(lst)"
   ]
  },
  {
   "cell_type": "code",
   "execution_count": null,
   "id": "d6efae03",
   "metadata": {},
   "outputs": [],
   "source": [
    "# Topic: Pandas\n",
    "import pandas as pd\n",
    "df = pd.read_csv('file.csv')\n",
    "print(df.head())"
   ]
  },
  {
   "cell_type": "code",
   "execution_count": null,
   "id": "1a083ebf",
   "metadata": {},
   "outputs": [],
   "source": [
    "# Topic: CLI Tools\n",
    "import sys\n",
    "print(f'Arguments: {sys.argv}')"
   ]
  },
  {
   "cell_type": "code",
   "execution_count": null,
   "id": "e47472bb",
   "metadata": {},
   "outputs": [],
   "source": [
    "# Topic: Mini Projects\n",
    "# Palindrome check\n",
    "def is_pal(s): return s == s[::-1]\n",
    "print(is_pal('madam'))"
   ]
  },
  {
   "cell_type": "code",
   "execution_count": null,
   "id": "e0b6e9e3",
   "metadata": {},
   "outputs": [],
   "source": [
    "# Topic: Pandas\n",
    "import pandas as pd\n",
    "df = pd.DataFrame({'A':[1,2],'B':[3,4]})\n",
    "print(df)"
   ]
  },
  {
   "cell_type": "code",
   "execution_count": null,
   "id": "3b24b286",
   "metadata": {},
   "outputs": [],
   "source": [
    "# Topic: Algorithms\n",
    "# Bubble sort\n",
    "def bubble(arr):\n",
    " for i in range(len(arr)):\n",
    "  for j in range(0, len(arr)-i-1):\n",
    "   if arr[j]>arr[j+1]: arr[j],arr[j+1]=arr[j+1],arr[j]\n",
    "a=[5,3,8]\n",
    "bubble(a)\n",
    "print(a)"
   ]
  },
  {
   "cell_type": "code",
   "execution_count": null,
   "id": "93c709cf",
   "metadata": {},
   "outputs": [],
   "source": [
    "# Topic: JSON & CSV\n",
    "import csv\n",
    "with open('file.csv', 'w', newline='') as f:\n",
    " csv.writer(f).writerow(['a','b','c'])"
   ]
  },
  {
   "cell_type": "code",
   "execution_count": null,
   "id": "52dcec92",
   "metadata": {},
   "outputs": [],
   "source": [
    "# Topic: Pandas\n",
    "import pandas as pd\n",
    "df = pd.DataFrame({'A':[1,2],'B':[3,4]})\n",
    "print(df)"
   ]
  },
  {
   "cell_type": "code",
   "execution_count": null,
   "id": "258495bf",
   "metadata": {},
   "outputs": [],
   "source": [
    "# Topic: Web Scraping\n",
    "import requests\n",
    "from bs4 import BeautifulSoup\n",
    "r = requests.get('https://example.com')\n",
    "soup = BeautifulSoup(r.text, 'html.parser')\n",
    "print(soup.title.text)"
   ]
  },
  {
   "cell_type": "code",
   "execution_count": null,
   "id": "f57c1744",
   "metadata": {},
   "outputs": [],
   "source": [
    "# Topic: File I/O\n",
    "with open('test.txt', 'r') as f:\n",
    "    print(f.read())"
   ]
  },
  {
   "cell_type": "code",
   "execution_count": null,
   "id": "cb3a8d26",
   "metadata": {},
   "outputs": [],
   "source": [
    "# Topic: Dictionaries & Sets\n",
    "s = set([1, 2, 3, 2])\n",
    "print(s)"
   ]
  },
  {
   "cell_type": "code",
   "execution_count": null,
   "id": "4b1887ce",
   "metadata": {},
   "outputs": [],
   "source": [
    "# Topic: JSON & CSV\n",
    "import json\n",
    "data = {'a': 1}\n",
    "print(json.dumps(data))"
   ]
  },
  {
   "cell_type": "code",
   "execution_count": null,
   "id": "b9c6e880",
   "metadata": {},
   "outputs": [],
   "source": [
    "# Topic: Regex\n",
    "import re\n",
    "text = 'email: test@example.com'\n",
    "print(re.findall(r'\\S+@\\S+', text))"
   ]
  },
  {
   "cell_type": "code",
   "execution_count": null,
   "id": "932ccc02",
   "metadata": {},
   "outputs": [],
   "source": [
    "# Topic: Pandas\n",
    "import pandas as pd\n",
    "df = pd.DataFrame({'A':[1,2],'B':[3,4]})\n",
    "print(df)"
   ]
  },
  {
   "cell_type": "code",
   "execution_count": null,
   "id": "0c4264df",
   "metadata": {},
   "outputs": [],
   "source": [
    "# Topic: NumPy\n",
    "import numpy as np\n",
    "a = np.array([1, 2, 3])\n",
    "print(a + 5)"
   ]
  },
  {
   "cell_type": "code",
   "execution_count": null,
   "id": "b71f246e",
   "metadata": {},
   "outputs": [],
   "source": [
    "# Topic: JSON & CSV\n",
    "import csv\n",
    "with open('file.csv', 'w', newline='') as f:\n",
    " csv.writer(f).writerow(['a','b','c'])"
   ]
  },
  {
   "cell_type": "code",
   "execution_count": null,
   "id": "6c46dcca",
   "metadata": {},
   "outputs": [],
   "source": [
    "# Topic: Recursion\n",
    "def fact(n): return 1 if n==0 else n*fact(n-1)\n",
    "print(fact(5))"
   ]
  },
  {
   "cell_type": "code",
   "execution_count": null,
   "id": "d42fae65",
   "metadata": {},
   "outputs": [],
   "source": [
    "# Topic: Recursion\n",
    "def fact(n): return 1 if n==0 else n*fact(n-1)\n",
    "print(fact(5))"
   ]
  },
  {
   "cell_type": "code",
   "execution_count": null,
   "id": "a3c1dd62",
   "metadata": {},
   "outputs": [],
   "source": [
    "# Topic: Matplotlib & Seaborn\n",
    "import seaborn as sns\n",
    "import pandas as pd\n",
    "sns.set()\n",
    "sns.histplot(pd.Series([1,2,2,3]));"
   ]
  },
  {
   "cell_type": "code",
   "execution_count": null,
   "id": "3017109f",
   "metadata": {},
   "outputs": [],
   "source": [
    "# Topic: Lists & Tuples\n",
    "lst = [1, 2, 3]\n",
    "lst.append(4)\n",
    "print(lst)"
   ]
  },
  {
   "cell_type": "code",
   "execution_count": null,
   "id": "b0890192",
   "metadata": {},
   "outputs": [],
   "source": [
    "# Topic: File I/O\n",
    "with open('test.txt', 'r') as f:\n",
    "    print(f.read())"
   ]
  },
  {
   "cell_type": "code",
   "execution_count": null,
   "id": "d8b31e67",
   "metadata": {},
   "outputs": [],
   "source": [
    "# Topic: Lists & Tuples\n",
    "lst = [1, 2, 3]\n",
    "lst.append(4)\n",
    "print(lst)"
   ]
  },
  {
   "cell_type": "code",
   "execution_count": null,
   "id": "c958bca1",
   "metadata": {},
   "outputs": [],
   "source": [
    "# Topic: Basic ML\n",
    "from sklearn.linear_model import LinearRegression\n",
    "model = LinearRegression()\n",
    "print(model)"
   ]
  },
  {
   "cell_type": "code",
   "execution_count": null,
   "id": "bac58ade",
   "metadata": {},
   "outputs": [],
   "source": [
    "# Topic: Basic ML\n",
    "from sklearn.linear_model import LinearRegression\n",
    "model = LinearRegression()\n",
    "print(model)"
   ]
  },
  {
   "cell_type": "code",
   "execution_count": null,
   "id": "b860a3b6",
   "metadata": {},
   "outputs": [],
   "source": [
    "# Topic: Basic ML\n",
    "from sklearn.linear_model import LinearRegression\n",
    "model = LinearRegression()\n",
    "print(model)"
   ]
  },
  {
   "cell_type": "code",
   "execution_count": null,
   "id": "dcd9ea1b",
   "metadata": {},
   "outputs": [],
   "source": [
    "# Topic: CLI Tools\n",
    "import sys\n",
    "print(f'Arguments: {sys.argv}')"
   ]
  },
  {
   "cell_type": "code",
   "execution_count": null,
   "id": "4cd33028",
   "metadata": {},
   "outputs": [],
   "source": [
    "# Topic: Functions\n",
    "def square(x): return x*x\n",
    "print(square(5))"
   ]
  },
  {
   "cell_type": "code",
   "execution_count": null,
   "id": "f82e1478",
   "metadata": {},
   "outputs": [],
   "source": [
    "# Topic: OOP\n",
    "class Student:\n",
    "    def __init__(self, name): self.name = name\n",
    "s = Student('Fahd')\n",
    "print(s.name)"
   ]
  },
  {
   "cell_type": "code",
   "execution_count": null,
   "id": "a8160ad5",
   "metadata": {},
   "outputs": [],
   "source": [
    "# Topic: Loops\n",
    "for i in range(10): print(i*i)"
   ]
  },
  {
   "cell_type": "code",
   "execution_count": null,
   "id": "b8a219c9",
   "metadata": {},
   "outputs": [],
   "source": [
    "# Topic: Basics\n",
    "name = 'Fahd'\n",
    "print(f'Hello, {name}')"
   ]
  },
  {
   "cell_type": "code",
   "execution_count": null,
   "id": "cabbc0b4",
   "metadata": {},
   "outputs": [],
   "source": [
    "# Topic: Algorithms\n",
    "# Bubble sort\n",
    "def bubble(arr):\n",
    " for i in range(len(arr)):\n",
    "  for j in range(0, len(arr)-i-1):\n",
    "   if arr[j]>arr[j+1]: arr[j],arr[j+1]=arr[j+1],arr[j]\n",
    "a=[5,3,8]\n",
    "bubble(a)\n",
    "print(a)"
   ]
  },
  {
   "cell_type": "code",
   "execution_count": null,
   "id": "93cddc89",
   "metadata": {},
   "outputs": [],
   "source": [
    "# Topic: Regex\n",
    "import re\n",
    "text = 'email: test@example.com'\n",
    "print(re.findall(r'\\S+@\\S+', text))"
   ]
  },
  {
   "cell_type": "code",
   "execution_count": null,
   "id": "4d230a29",
   "metadata": {},
   "outputs": [],
   "source": [
    "# Topic: CLI Tools\n",
    "import sys\n",
    "print(f'Arguments: {sys.argv}')"
   ]
  },
  {
   "cell_type": "code",
   "execution_count": null,
   "id": "3f611333",
   "metadata": {},
   "outputs": [],
   "source": [
    "# Topic: Decorators\n",
    "def log(func):\n",
    " def wrapper():\n",
    "  print('Call')\n",
    "  func()\n",
    " return wrapper\n",
    "@log\n",
    "def say(): print('Hi')\n",
    "say()"
   ]
  },
  {
   "cell_type": "code",
   "execution_count": null,
   "id": "407751ae",
   "metadata": {},
   "outputs": [],
   "source": [
    "# Topic: Dictionaries & Sets\n",
    "d = {'name': 'Fahd', 'age': 20}\n",
    "print(d.get('name'))"
   ]
  },
  {
   "cell_type": "code",
   "execution_count": null,
   "id": "26657602",
   "metadata": {},
   "outputs": [],
   "source": [
    "# Topic: Functions\n",
    "def greet(name='User'):\n",
    "    print(f'Hi, {name}')\n",
    "greet()"
   ]
  },
  {
   "cell_type": "code",
   "execution_count": null,
   "id": "df620c26",
   "metadata": {},
   "outputs": [],
   "source": [
    "# Topic: Mini Projects\n",
    "# Palindrome check\n",
    "def is_pal(s): return s == s[::-1]\n",
    "print(is_pal('madam'))"
   ]
  },
  {
   "cell_type": "code",
   "execution_count": null,
   "id": "1f0a6599",
   "metadata": {},
   "outputs": [],
   "source": [
    "# Topic: Loops\n",
    "for i in range(10): print(i*i)"
   ]
  },
  {
   "cell_type": "code",
   "execution_count": null,
   "id": "cc39a81f",
   "metadata": {},
   "outputs": [],
   "source": [
    "# Topic: Basic ML\n",
    "from sklearn.linear_model import LinearRegression\n",
    "model = LinearRegression()\n",
    "print(model)"
   ]
  },
  {
   "cell_type": "code",
   "execution_count": null,
   "id": "bfd210ed",
   "metadata": {},
   "outputs": [],
   "source": [
    "# Topic: Mini Projects\n",
    "# Palindrome check\n",
    "def is_pal(s): return s == s[::-1]\n",
    "print(is_pal('madam'))"
   ]
  },
  {
   "cell_type": "code",
   "execution_count": null,
   "id": "7ffc6415",
   "metadata": {},
   "outputs": [],
   "source": [
    "# Topic: File I/O\n",
    "with open('test.txt', 'w') as f:\n",
    "    f.write('Hello World')"
   ]
  },
  {
   "cell_type": "code",
   "execution_count": null,
   "id": "c5c8d07b",
   "metadata": {},
   "outputs": [],
   "source": [
    "# Topic: Recursion\n",
    "def fact(n): return 1 if n==0 else n*fact(n-1)\n",
    "print(fact(5))"
   ]
  },
  {
   "cell_type": "code",
   "execution_count": null,
   "id": "a413e74a",
   "metadata": {},
   "outputs": [],
   "source": [
    "# Topic: Lists & Tuples\n",
    "lst = [1, 2, 3]\n",
    "lst.append(4)\n",
    "print(lst)"
   ]
  },
  {
   "cell_type": "code",
   "execution_count": null,
   "id": "73809d3a",
   "metadata": {},
   "outputs": [],
   "source": [
    "# Topic: CLI Tools\n",
    "import sys\n",
    "print(f'Arguments: {sys.argv}')"
   ]
  },
  {
   "cell_type": "code",
   "execution_count": null,
   "id": "be0d00a1",
   "metadata": {},
   "outputs": [],
   "source": [
    "# Topic: Dictionaries & Sets\n",
    "d = {'name': 'Fahd', 'age': 20}\n",
    "print(d.get('name'))"
   ]
  },
  {
   "cell_type": "code",
   "execution_count": null,
   "id": "45949f47",
   "metadata": {},
   "outputs": [],
   "source": [
    "# Topic: File I/O\n",
    "with open('test.txt', 'w') as f:\n",
    "    f.write('Hello World')"
   ]
  },
  {
   "cell_type": "code",
   "execution_count": null,
   "id": "3270169b",
   "metadata": {},
   "outputs": [],
   "source": [
    "# Topic: Functions\n",
    "def square(x): return x*x\n",
    "print(square(5))"
   ]
  },
  {
   "cell_type": "code",
   "execution_count": null,
   "id": "cc632215",
   "metadata": {},
   "outputs": [],
   "source": [
    "# Topic: Functions\n",
    "def greet(name='User'):\n",
    "    print(f'Hi, {name}')\n",
    "greet()"
   ]
  },
  {
   "cell_type": "code",
   "execution_count": null,
   "id": "5eb5e49b",
   "metadata": {},
   "outputs": [],
   "source": [
    "# Topic: Lists & Tuples\n",
    "t = (1, 2, 3)\n",
    "print(t[0])"
   ]
  },
  {
   "cell_type": "code",
   "execution_count": null,
   "id": "ff5a1e06",
   "metadata": {},
   "outputs": [],
   "source": [
    "# Topic: NumPy\n",
    "import numpy as np\n",
    "a = np.array([1, 2, 3])\n",
    "print(a + 5)"
   ]
  },
  {
   "cell_type": "code",
   "execution_count": null,
   "id": "64736f83",
   "metadata": {},
   "outputs": [],
   "source": [
    "# Topic: CLI Tools\n",
    "import sys\n",
    "print(f'Arguments: {sys.argv}')"
   ]
  },
  {
   "cell_type": "code",
   "execution_count": null,
   "id": "f5d02598",
   "metadata": {},
   "outputs": [],
   "source": [
    "# Topic: Loops\n",
    "for i in range(10): print(i*i)"
   ]
  },
  {
   "cell_type": "code",
   "execution_count": null,
   "id": "4c33757a",
   "metadata": {},
   "outputs": [],
   "source": [
    "# Topic: Basic ML\n",
    "from sklearn.linear_model import LinearRegression\n",
    "model = LinearRegression()\n",
    "print(model)"
   ]
  },
  {
   "cell_type": "code",
   "execution_count": null,
   "id": "da4e5b4e",
   "metadata": {},
   "outputs": [],
   "source": [
    "# Topic: Decorators\n",
    "def log(func):\n",
    " def wrapper():\n",
    "  print('Call')\n",
    "  func()\n",
    " return wrapper\n",
    "@log\n",
    "def say(): print('Hi')\n",
    "say()"
   ]
  },
  {
   "cell_type": "code",
   "execution_count": null,
   "id": "b54b4c8a",
   "metadata": {},
   "outputs": [],
   "source": [
    "# Topic: Dictionaries & Sets\n",
    "d = {'name': 'Fahd', 'age': 20}\n",
    "print(d.get('name'))"
   ]
  },
  {
   "cell_type": "code",
   "execution_count": null,
   "id": "1fa9cd1b",
   "metadata": {},
   "outputs": [],
   "source": [
    "# Topic: Web Scraping\n",
    "import requests\n",
    "from bs4 import BeautifulSoup\n",
    "r = requests.get('https://example.com')\n",
    "soup = BeautifulSoup(r.text, 'html.parser')\n",
    "print(soup.title.text)"
   ]
  },
  {
   "cell_type": "code",
   "execution_count": null,
   "id": "12b4f7ee",
   "metadata": {},
   "outputs": [],
   "source": [
    "# Topic: Dictionaries & Sets\n",
    "d = {'name': 'Fahd', 'age': 20}\n",
    "print(d.get('name'))"
   ]
  },
  {
   "cell_type": "code",
   "execution_count": null,
   "id": "b92f4da8",
   "metadata": {},
   "outputs": [],
   "source": [
    "# Topic: NumPy\n",
    "import numpy as np\n",
    "a = np.array([1, 2, 3])\n",
    "print(a + 5)"
   ]
  },
  {
   "cell_type": "code",
   "execution_count": null,
   "id": "92994e50",
   "metadata": {},
   "outputs": [],
   "source": [
    "# Topic: Mini Projects\n",
    "# Palindrome check\n",
    "def is_pal(s): return s == s[::-1]\n",
    "print(is_pal('madam'))"
   ]
  },
  {
   "cell_type": "code",
   "execution_count": null,
   "id": "db4055cc",
   "metadata": {},
   "outputs": [],
   "source": [
    "# Topic: Regex\n",
    "import re\n",
    "text = 'email: test@example.com'\n",
    "print(re.findall(r'\\S+@\\S+', text))"
   ]
  },
  {
   "cell_type": "code",
   "execution_count": null,
   "id": "7e988b2f",
   "metadata": {},
   "outputs": [],
   "source": [
    "# Topic: Dictionaries & Sets\n",
    "s = set([1, 2, 3, 2])\n",
    "print(s)"
   ]
  },
  {
   "cell_type": "code",
   "execution_count": null,
   "id": "0ec0e68a",
   "metadata": {},
   "outputs": [],
   "source": [
    "# Topic: CLI Tools\n",
    "import sys\n",
    "print(f'Arguments: {sys.argv}')"
   ]
  },
  {
   "cell_type": "code",
   "execution_count": null,
   "id": "3c3718f3",
   "metadata": {},
   "outputs": [],
   "source": [
    "# Topic: Basics\n",
    "name = 'Fahd'\n",
    "print(f'Hello, {name}')"
   ]
  },
  {
   "cell_type": "code",
   "execution_count": null,
   "id": "4e14a639",
   "metadata": {},
   "outputs": [],
   "source": [
    "# Topic: Functions\n",
    "def greet(name='User'):\n",
    "    print(f'Hi, {name}')\n",
    "greet()"
   ]
  },
  {
   "cell_type": "code",
   "execution_count": null,
   "id": "675926b0",
   "metadata": {},
   "outputs": [],
   "source": [
    "# Topic: OOP\n",
    "class Student:\n",
    "    def __init__(self, name): self.name = name\n",
    "s = Student('Fahd')\n",
    "print(s.name)"
   ]
  },
  {
   "cell_type": "code",
   "execution_count": null,
   "id": "4588db7d",
   "metadata": {},
   "outputs": [],
   "source": [
    "# Topic: Data Cleaning\n",
    "import pandas as pd\n",
    "df = pd.DataFrame({'A':[1,None,3]})\n",
    "df = df.fillna(0)\n",
    "print(df)"
   ]
  },
  {
   "cell_type": "code",
   "execution_count": null,
   "id": "69e00e68",
   "metadata": {},
   "outputs": [],
   "source": [
    "# Topic: Mini Projects\n",
    "# Calculator\n",
    "def calc(a,b,op): return eval(f'{a}{op}{b}')\n",
    "print(calc(5,2,'+'))"
   ]
  },
  {
   "cell_type": "code",
   "execution_count": null,
   "id": "861b4819",
   "metadata": {},
   "outputs": [],
   "source": [
    "# Topic: Data Cleaning\n",
    "import pandas as pd\n",
    "df = pd.DataFrame({'A':[1,None,3]})\n",
    "df = df.fillna(0)\n",
    "print(df)"
   ]
  },
  {
   "cell_type": "code",
   "execution_count": null,
   "id": "9ce5f1a4",
   "metadata": {},
   "outputs": [],
   "source": [
    "# Topic: Pandas\n",
    "import pandas as pd\n",
    "df = pd.read_csv('file.csv')\n",
    "print(df.head())"
   ]
  },
  {
   "cell_type": "code",
   "execution_count": null,
   "id": "db39fa6c",
   "metadata": {},
   "outputs": [],
   "source": [
    "# Topic: File I/O\n",
    "with open('test.txt', 'r') as f:\n",
    "    print(f.read())"
   ]
  },
  {
   "cell_type": "code",
   "execution_count": null,
   "id": "c4b41aa6",
   "metadata": {},
   "outputs": [],
   "source": [
    "# Topic: Decorators\n",
    "def log(func):\n",
    " def wrapper():\n",
    "  print('Call')\n",
    "  func()\n",
    " return wrapper\n",
    "@log\n",
    "def say(): print('Hi')\n",
    "say()"
   ]
  },
  {
   "cell_type": "code",
   "execution_count": null,
   "id": "457ec81d",
   "metadata": {},
   "outputs": [],
   "source": [
    "# Topic: CLI Tools\n",
    "import sys\n",
    "print(f'Arguments: {sys.argv}')"
   ]
  },
  {
   "cell_type": "code",
   "execution_count": null,
   "id": "2554f5ef",
   "metadata": {},
   "outputs": [],
   "source": [
    "# Topic: Data Cleaning\n",
    "import pandas as pd\n",
    "df = pd.DataFrame({'A':[1,None,3]})\n",
    "df = df.fillna(0)\n",
    "print(df)"
   ]
  },
  {
   "cell_type": "code",
   "execution_count": null,
   "id": "6b2c1bfc",
   "metadata": {},
   "outputs": [],
   "source": [
    "# Topic: CLI Tools\n",
    "import sys\n",
    "print(f'Arguments: {sys.argv}')"
   ]
  },
  {
   "cell_type": "code",
   "execution_count": null,
   "id": "8ec65652",
   "metadata": {},
   "outputs": [],
   "source": [
    "# Topic: JSON & CSV\n",
    "import csv\n",
    "with open('file.csv', 'w', newline='') as f:\n",
    " csv.writer(f).writerow(['a','b','c'])"
   ]
  },
  {
   "cell_type": "code",
   "execution_count": null,
   "id": "7140be59",
   "metadata": {},
   "outputs": [],
   "source": [
    "# Topic: Lists & Tuples\n",
    "t = (1, 2, 3)\n",
    "print(t[0])"
   ]
  },
  {
   "cell_type": "code",
   "execution_count": null,
   "id": "a9c62dc1",
   "metadata": {},
   "outputs": [],
   "source": [
    "# Topic: File I/O\n",
    "with open('test.txt', 'w') as f:\n",
    "    f.write('Hello World')"
   ]
  },
  {
   "cell_type": "code",
   "execution_count": null,
   "id": "20cd176d",
   "metadata": {},
   "outputs": [],
   "source": [
    "# Topic: Basics\n",
    "x = 10\n",
    "y = 20\n",
    "print(x + y)"
   ]
  },
  {
   "cell_type": "code",
   "execution_count": null,
   "id": "a38f8785",
   "metadata": {},
   "outputs": [],
   "source": [
    "# Topic: Pandas\n",
    "import pandas as pd\n",
    "df = pd.DataFrame({'A':[1,2],'B':[3,4]})\n",
    "print(df)"
   ]
  },
  {
   "cell_type": "code",
   "execution_count": null,
   "id": "25ef78db",
   "metadata": {},
   "outputs": [],
   "source": [
    "# Topic: Mini Projects\n",
    "# Calculator\n",
    "def calc(a,b,op): return eval(f'{a}{op}{b}')\n",
    "print(calc(5,2,'+'))"
   ]
  },
  {
   "cell_type": "code",
   "execution_count": null,
   "id": "fb0cd72e",
   "metadata": {},
   "outputs": [],
   "source": [
    "# Topic: Basic ML\n",
    "from sklearn.linear_model import LinearRegression\n",
    "model = LinearRegression()\n",
    "print(model)"
   ]
  },
  {
   "cell_type": "code",
   "execution_count": null,
   "id": "b1cac284",
   "metadata": {},
   "outputs": [],
   "source": [
    "# Topic: JSON & CSV\n",
    "import json\n",
    "data = {'a': 1}\n",
    "print(json.dumps(data))"
   ]
  },
  {
   "cell_type": "code",
   "execution_count": null,
   "id": "76d2484d",
   "metadata": {},
   "outputs": [],
   "source": [
    "# Topic: Matplotlib & Seaborn\n",
    "import seaborn as sns\n",
    "import pandas as pd\n",
    "sns.set()\n",
    "sns.histplot(pd.Series([1,2,2,3]));"
   ]
  },
  {
   "cell_type": "code",
   "execution_count": null,
   "id": "e38b3be5",
   "metadata": {},
   "outputs": [],
   "source": [
    "# Topic: NumPy\n",
    "import numpy as np\n",
    "print(np.linspace(0, 1, 5))"
   ]
  },
  {
   "cell_type": "code",
   "execution_count": null,
   "id": "ddb6e826",
   "metadata": {},
   "outputs": [],
   "source": [
    "# Topic: JSON & CSV\n",
    "import csv\n",
    "with open('file.csv', 'w', newline='') as f:\n",
    " csv.writer(f).writerow(['a','b','c'])"
   ]
  },
  {
   "cell_type": "code",
   "execution_count": null,
   "id": "172c7d2d",
   "metadata": {},
   "outputs": [],
   "source": [
    "# Topic: OOP\n",
    "class Student:\n",
    "    def __init__(self, name): self.name = name\n",
    "s = Student('Fahd')\n",
    "print(s.name)"
   ]
  },
  {
   "cell_type": "code",
   "execution_count": null,
   "id": "262d743b",
   "metadata": {},
   "outputs": [],
   "source": [
    "# Topic: JSON & CSV\n",
    "import json\n",
    "data = {'a': 1}\n",
    "print(json.dumps(data))"
   ]
  },
  {
   "cell_type": "code",
   "execution_count": null,
   "id": "b5933b0f",
   "metadata": {},
   "outputs": [],
   "source": [
    "# Topic: JSON & CSV\n",
    "import json\n",
    "data = {'a': 1}\n",
    "print(json.dumps(data))"
   ]
  },
  {
   "cell_type": "code",
   "execution_count": null,
   "id": "d110fb80",
   "metadata": {},
   "outputs": [],
   "source": [
    "# Topic: Pandas\n",
    "import pandas as pd\n",
    "df = pd.DataFrame({'A':[1,2],'B':[3,4]})\n",
    "print(df)"
   ]
  },
  {
   "cell_type": "code",
   "execution_count": null,
   "id": "26a69bf6",
   "metadata": {},
   "outputs": [],
   "source": [
    "# Topic: NumPy\n",
    "import numpy as np\n",
    "a = np.array([1, 2, 3])\n",
    "print(a + 5)"
   ]
  },
  {
   "cell_type": "code",
   "execution_count": null,
   "id": "e9709052",
   "metadata": {},
   "outputs": [],
   "source": [
    "# Topic: File I/O\n",
    "with open('test.txt', 'w') as f:\n",
    "    f.write('Hello World')"
   ]
  },
  {
   "cell_type": "code",
   "execution_count": null,
   "id": "ce97e49c",
   "metadata": {},
   "outputs": [],
   "source": [
    "# Topic: JSON & CSV\n",
    "import json\n",
    "data = {'a': 1}\n",
    "print(json.dumps(data))"
   ]
  },
  {
   "cell_type": "code",
   "execution_count": null,
   "id": "ffaaa526",
   "metadata": {},
   "outputs": [],
   "source": [
    "# Topic: Lists & Tuples\n",
    "lst = [1, 2, 3]\n",
    "lst.append(4)\n",
    "print(lst)"
   ]
  },
  {
   "cell_type": "code",
   "execution_count": null,
   "id": "c0fd7237",
   "metadata": {},
   "outputs": [],
   "source": [
    "# Topic: Algorithms\n",
    "# Bubble sort\n",
    "def bubble(arr):\n",
    " for i in range(len(arr)):\n",
    "  for j in range(0, len(arr)-i-1):\n",
    "   if arr[j]>arr[j+1]: arr[j],arr[j+1]=arr[j+1],arr[j]\n",
    "a=[5,3,8]\n",
    "bubble(a)\n",
    "print(a)"
   ]
  },
  {
   "cell_type": "code",
   "execution_count": null,
   "id": "fa069e0c",
   "metadata": {},
   "outputs": [],
   "source": [
    "# Topic: File I/O\n",
    "with open('test.txt', 'r') as f:\n",
    "    print(f.read())"
   ]
  },
  {
   "cell_type": "code",
   "execution_count": null,
   "id": "d96ef307",
   "metadata": {},
   "outputs": [],
   "source": [
    "# Topic: Basic ML\n",
    "from sklearn.linear_model import LinearRegression\n",
    "model = LinearRegression()\n",
    "print(model)"
   ]
  },
  {
   "cell_type": "code",
   "execution_count": null,
   "id": "a90a2dbc",
   "metadata": {},
   "outputs": [],
   "source": [
    "# Topic: Algorithms\n",
    "# Bubble sort\n",
    "def bubble(arr):\n",
    " for i in range(len(arr)):\n",
    "  for j in range(0, len(arr)-i-1):\n",
    "   if arr[j]>arr[j+1]: arr[j],arr[j+1]=arr[j+1],arr[j]\n",
    "a=[5,3,8]\n",
    "bubble(a)\n",
    "print(a)"
   ]
  },
  {
   "cell_type": "code",
   "execution_count": null,
   "id": "54c8b448",
   "metadata": {},
   "outputs": [],
   "source": [
    "# Topic: CLI Tools\n",
    "import sys\n",
    "print(f'Arguments: {sys.argv}')"
   ]
  },
  {
   "cell_type": "code",
   "execution_count": null,
   "id": "cdfa2fd2",
   "metadata": {},
   "outputs": [],
   "source": [
    "# Topic: Recursion\n",
    "def fact(n): return 1 if n==0 else n*fact(n-1)\n",
    "print(fact(5))"
   ]
  },
  {
   "cell_type": "code",
   "execution_count": null,
   "id": "08726f11",
   "metadata": {},
   "outputs": [],
   "source": [
    "# Topic: Decorators\n",
    "def log(func):\n",
    " def wrapper():\n",
    "  print('Call')\n",
    "  func()\n",
    " return wrapper\n",
    "@log\n",
    "def say(): print('Hi')\n",
    "say()"
   ]
  },
  {
   "cell_type": "code",
   "execution_count": null,
   "id": "eddc47b5",
   "metadata": {},
   "outputs": [],
   "source": [
    "# Topic: CLI Tools\n",
    "import sys\n",
    "print(f'Arguments: {sys.argv}')"
   ]
  },
  {
   "cell_type": "code",
   "execution_count": null,
   "id": "e26f677c",
   "metadata": {},
   "outputs": [],
   "source": [
    "# Topic: Matplotlib & Seaborn\n",
    "import matplotlib.pyplot as plt\n",
    "plt.plot([1,2],[3,4])\n",
    "plt.show()"
   ]
  },
  {
   "cell_type": "code",
   "execution_count": null,
   "id": "7881bb6a",
   "metadata": {},
   "outputs": [],
   "source": [
    "# Topic: Web Scraping\n",
    "import requests\n",
    "from bs4 import BeautifulSoup\n",
    "r = requests.get('https://example.com')\n",
    "soup = BeautifulSoup(r.text, 'html.parser')\n",
    "print(soup.title.text)"
   ]
  },
  {
   "cell_type": "code",
   "execution_count": null,
   "id": "e277d9a7",
   "metadata": {},
   "outputs": [],
   "source": [
    "# Topic: JSON & CSV\n",
    "import json\n",
    "data = {'a': 1}\n",
    "print(json.dumps(data))"
   ]
  },
  {
   "cell_type": "code",
   "execution_count": null,
   "id": "0a1470cf",
   "metadata": {},
   "outputs": [],
   "source": [
    "# Topic: Regex\n",
    "import re\n",
    "text = 'email: test@example.com'\n",
    "print(re.findall(r'\\S+@\\S+', text))"
   ]
  },
  {
   "cell_type": "code",
   "execution_count": null,
   "id": "6cd178a2",
   "metadata": {},
   "outputs": [],
   "source": [
    "# Topic: OOP\n",
    "class Student:\n",
    "    def __init__(self, name): self.name = name\n",
    "s = Student('Fahd')\n",
    "print(s.name)"
   ]
  },
  {
   "cell_type": "code",
   "execution_count": null,
   "id": "e327e7c7",
   "metadata": {},
   "outputs": [],
   "source": [
    "# Topic: Basics\n",
    "name = 'Fahd'\n",
    "print(f'Hello, {name}')"
   ]
  },
  {
   "cell_type": "code",
   "execution_count": null,
   "id": "b5b28737",
   "metadata": {},
   "outputs": [],
   "source": [
    "# Topic: Basic ML\n",
    "from sklearn.linear_model import LinearRegression\n",
    "model = LinearRegression()\n",
    "print(model)"
   ]
  },
  {
   "cell_type": "code",
   "execution_count": null,
   "id": "21c93a24",
   "metadata": {},
   "outputs": [],
   "source": [
    "# Topic: Decorators\n",
    "def log(func):\n",
    " def wrapper():\n",
    "  print('Call')\n",
    "  func()\n",
    " return wrapper\n",
    "@log\n",
    "def say(): print('Hi')\n",
    "say()"
   ]
  },
  {
   "cell_type": "code",
   "execution_count": null,
   "id": "d33643dc",
   "metadata": {},
   "outputs": [],
   "source": [
    "# Topic: Dictionaries & Sets\n",
    "s = set([1, 2, 3, 2])\n",
    "print(s)"
   ]
  },
  {
   "cell_type": "code",
   "execution_count": null,
   "id": "22bb3b1b",
   "metadata": {},
   "outputs": [],
   "source": [
    "# Topic: Dictionaries & Sets\n",
    "s = set([1, 2, 3, 2])\n",
    "print(s)"
   ]
  },
  {
   "cell_type": "code",
   "execution_count": null,
   "id": "2dd47c59",
   "metadata": {},
   "outputs": [],
   "source": [
    "# Topic: File I/O\n",
    "with open('test.txt', 'w') as f:\n",
    "    f.write('Hello World')"
   ]
  },
  {
   "cell_type": "code",
   "execution_count": null,
   "id": "1ea4aba1",
   "metadata": {},
   "outputs": [],
   "source": [
    "# Topic: Loops\n",
    "for i in range(10): print(i*i)"
   ]
  },
  {
   "cell_type": "code",
   "execution_count": null,
   "id": "ffe4c36d",
   "metadata": {},
   "outputs": [],
   "source": [
    "# Topic: Algorithms\n",
    "# Bubble sort\n",
    "def bubble(arr):\n",
    " for i in range(len(arr)):\n",
    "  for j in range(0, len(arr)-i-1):\n",
    "   if arr[j]>arr[j+1]: arr[j],arr[j+1]=arr[j+1],arr[j]\n",
    "a=[5,3,8]\n",
    "bubble(a)\n",
    "print(a)"
   ]
  },
  {
   "cell_type": "code",
   "execution_count": null,
   "id": "5706fb23",
   "metadata": {},
   "outputs": [],
   "source": [
    "# Topic: Recursion\n",
    "def fact(n): return 1 if n==0 else n*fact(n-1)\n",
    "print(fact(5))"
   ]
  },
  {
   "cell_type": "code",
   "execution_count": null,
   "id": "e4aa44bb",
   "metadata": {},
   "outputs": [],
   "source": [
    "# Topic: Basics\n",
    "name = 'Fahd'\n",
    "print(f'Hello, {name}')"
   ]
  },
  {
   "cell_type": "code",
   "execution_count": null,
   "id": "3c82d434",
   "metadata": {},
   "outputs": [],
   "source": [
    "# Topic: Loops\n",
    "while True:\n",
    "    print('Break')\n",
    "    break"
   ]
  },
  {
   "cell_type": "code",
   "execution_count": null,
   "id": "303ad4f0",
   "metadata": {},
   "outputs": [],
   "source": [
    "# Topic: Basic ML\n",
    "from sklearn.linear_model import LinearRegression\n",
    "model = LinearRegression()\n",
    "print(model)"
   ]
  },
  {
   "cell_type": "code",
   "execution_count": null,
   "id": "69bb42c0",
   "metadata": {},
   "outputs": [],
   "source": [
    "# Topic: Basics\n",
    "name = 'Fahd'\n",
    "print(f'Hello, {name}')"
   ]
  },
  {
   "cell_type": "code",
   "execution_count": null,
   "id": "93b529e1",
   "metadata": {},
   "outputs": [],
   "source": [
    "# Topic: Dictionaries & Sets\n",
    "d = {'name': 'Fahd', 'age': 20}\n",
    "print(d.get('name'))"
   ]
  },
  {
   "cell_type": "code",
   "execution_count": null,
   "id": "6b7c05b6",
   "metadata": {},
   "outputs": [],
   "source": [
    "# Topic: JSON & CSV\n",
    "import json\n",
    "data = {'a': 1}\n",
    "print(json.dumps(data))"
   ]
  },
  {
   "cell_type": "code",
   "execution_count": null,
   "id": "303e6af6",
   "metadata": {},
   "outputs": [],
   "source": [
    "# Topic: Matplotlib & Seaborn\n",
    "import seaborn as sns\n",
    "import pandas as pd\n",
    "sns.set()\n",
    "sns.histplot(pd.Series([1,2,2,3]));"
   ]
  },
  {
   "cell_type": "code",
   "execution_count": null,
   "id": "2c070a9c",
   "metadata": {},
   "outputs": [],
   "source": [
    "# Topic: Algorithms\n",
    "# Bubble sort\n",
    "def bubble(arr):\n",
    " for i in range(len(arr)):\n",
    "  for j in range(0, len(arr)-i-1):\n",
    "   if arr[j]>arr[j+1]: arr[j],arr[j+1]=arr[j+1],arr[j]\n",
    "a=[5,3,8]\n",
    "bubble(a)\n",
    "print(a)"
   ]
  },
  {
   "cell_type": "code",
   "execution_count": null,
   "id": "6182c3b9",
   "metadata": {},
   "outputs": [],
   "source": [
    "# Topic: File I/O\n",
    "with open('test.txt', 'w') as f:\n",
    "    f.write('Hello World')"
   ]
  },
  {
   "cell_type": "code",
   "execution_count": null,
   "id": "451c918e",
   "metadata": {},
   "outputs": [],
   "source": [
    "# Topic: Data Cleaning\n",
    "import pandas as pd\n",
    "df = pd.DataFrame({'A':[1,None,3]})\n",
    "df = df.fillna(0)\n",
    "print(df)"
   ]
  },
  {
   "cell_type": "code",
   "execution_count": null,
   "id": "fa838f6f",
   "metadata": {},
   "outputs": [],
   "source": [
    "# Topic: Data Cleaning\n",
    "import pandas as pd\n",
    "df = pd.DataFrame({'A':[1,None,3]})\n",
    "df = df.fillna(0)\n",
    "print(df)"
   ]
  },
  {
   "cell_type": "code",
   "execution_count": null,
   "id": "ca3fe847",
   "metadata": {},
   "outputs": [],
   "source": [
    "# Topic: Regex\n",
    "import re\n",
    "text = 'email: test@example.com'\n",
    "print(re.findall(r'\\S+@\\S+', text))"
   ]
  },
  {
   "cell_type": "code",
   "execution_count": null,
   "id": "d41dc50a",
   "metadata": {},
   "outputs": [],
   "source": [
    "# Topic: File I/O\n",
    "with open('test.txt', 'w') as f:\n",
    "    f.write('Hello World')"
   ]
  },
  {
   "cell_type": "code",
   "execution_count": null,
   "id": "9ec59c69",
   "metadata": {},
   "outputs": [],
   "source": [
    "# Topic: Pandas\n",
    "import pandas as pd\n",
    "df = pd.DataFrame({'A':[1,2],'B':[3,4]})\n",
    "print(df)"
   ]
  },
  {
   "cell_type": "code",
   "execution_count": null,
   "id": "d59634d2",
   "metadata": {},
   "outputs": [],
   "source": [
    "# Topic: Basic ML\n",
    "from sklearn.linear_model import LinearRegression\n",
    "model = LinearRegression()\n",
    "print(model)"
   ]
  },
  {
   "cell_type": "code",
   "execution_count": null,
   "id": "3795b7f1",
   "metadata": {},
   "outputs": [],
   "source": [
    "# Topic: Data Cleaning\n",
    "import pandas as pd\n",
    "df = pd.DataFrame({'A':[1,None,3]})\n",
    "df = df.fillna(0)\n",
    "print(df)"
   ]
  },
  {
   "cell_type": "code",
   "execution_count": null,
   "id": "19502e5c",
   "metadata": {},
   "outputs": [],
   "source": [
    "# Topic: Dictionaries & Sets\n",
    "d = {'name': 'Fahd', 'age': 20}\n",
    "print(d.get('name'))"
   ]
  },
  {
   "cell_type": "code",
   "execution_count": null,
   "id": "f2b3f234",
   "metadata": {},
   "outputs": [],
   "source": [
    "# Topic: Matplotlib & Seaborn\n",
    "import matplotlib.pyplot as plt\n",
    "plt.plot([1,2],[3,4])\n",
    "plt.show()"
   ]
  },
  {
   "cell_type": "code",
   "execution_count": null,
   "id": "91040800",
   "metadata": {},
   "outputs": [],
   "source": [
    "# Topic: Algorithms\n",
    "# Bubble sort\n",
    "def bubble(arr):\n",
    " for i in range(len(arr)):\n",
    "  for j in range(0, len(arr)-i-1):\n",
    "   if arr[j]>arr[j+1]: arr[j],arr[j+1]=arr[j+1],arr[j]\n",
    "a=[5,3,8]\n",
    "bubble(a)\n",
    "print(a)"
   ]
  },
  {
   "cell_type": "code",
   "execution_count": null,
   "id": "f2956ef8",
   "metadata": {},
   "outputs": [],
   "source": [
    "# Topic: Dictionaries & Sets\n",
    "d = {'name': 'Fahd', 'age': 20}\n",
    "print(d.get('name'))"
   ]
  },
  {
   "cell_type": "code",
   "execution_count": null,
   "id": "42c0a950",
   "metadata": {},
   "outputs": [],
   "source": [
    "# Topic: Basics\n",
    "name = 'Fahd'\n",
    "print(f'Hello, {name}')"
   ]
  },
  {
   "cell_type": "code",
   "execution_count": null,
   "id": "664d3434",
   "metadata": {},
   "outputs": [],
   "source": [
    "# Topic: Dictionaries & Sets\n",
    "d = {'name': 'Fahd', 'age': 20}\n",
    "print(d.get('name'))"
   ]
  },
  {
   "cell_type": "code",
   "execution_count": null,
   "id": "83de1c18",
   "metadata": {},
   "outputs": [],
   "source": [
    "# Topic: Algorithms\n",
    "# Bubble sort\n",
    "def bubble(arr):\n",
    " for i in range(len(arr)):\n",
    "  for j in range(0, len(arr)-i-1):\n",
    "   if arr[j]>arr[j+1]: arr[j],arr[j+1]=arr[j+1],arr[j]\n",
    "a=[5,3,8]\n",
    "bubble(a)\n",
    "print(a)"
   ]
  },
  {
   "cell_type": "code",
   "execution_count": null,
   "id": "2cf9ab59",
   "metadata": {},
   "outputs": [],
   "source": [
    "# Topic: Data Cleaning\n",
    "import pandas as pd\n",
    "df = pd.DataFrame({'A':[1,None,3]})\n",
    "df = df.fillna(0)\n",
    "print(df)"
   ]
  },
  {
   "cell_type": "code",
   "execution_count": null,
   "id": "04cf3ccc",
   "metadata": {},
   "outputs": [],
   "source": [
    "# Topic: Pandas\n",
    "import pandas as pd\n",
    "df = pd.read_csv('file.csv')\n",
    "print(df.head())"
   ]
  },
  {
   "cell_type": "code",
   "execution_count": null,
   "id": "5b20e9f1",
   "metadata": {},
   "outputs": [],
   "source": [
    "# Topic: Web Scraping\n",
    "import requests\n",
    "from bs4 import BeautifulSoup\n",
    "r = requests.get('https://example.com')\n",
    "soup = BeautifulSoup(r.text, 'html.parser')\n",
    "print(soup.title.text)"
   ]
  },
  {
   "cell_type": "code",
   "execution_count": null,
   "id": "501275da",
   "metadata": {},
   "outputs": [],
   "source": [
    "# Topic: Algorithms\n",
    "# Bubble sort\n",
    "def bubble(arr):\n",
    " for i in range(len(arr)):\n",
    "  for j in range(0, len(arr)-i-1):\n",
    "   if arr[j]>arr[j+1]: arr[j],arr[j+1]=arr[j+1],arr[j]\n",
    "a=[5,3,8]\n",
    "bubble(a)\n",
    "print(a)"
   ]
  },
  {
   "cell_type": "code",
   "execution_count": null,
   "id": "3a97cbcc",
   "metadata": {},
   "outputs": [],
   "source": [
    "# Topic: File I/O\n",
    "with open('test.txt', 'r') as f:\n",
    "    print(f.read())"
   ]
  },
  {
   "cell_type": "code",
   "execution_count": null,
   "id": "647d6ddf",
   "metadata": {},
   "outputs": [],
   "source": [
    "# Topic: Recursion\n",
    "def fact(n): return 1 if n==0 else n*fact(n-1)\n",
    "print(fact(5))"
   ]
  },
  {
   "cell_type": "code",
   "execution_count": null,
   "id": "a6fc60f4",
   "metadata": {},
   "outputs": [],
   "source": [
    "# Topic: Regex\n",
    "import re\n",
    "text = 'email: test@example.com'\n",
    "print(re.findall(r'\\S+@\\S+', text))"
   ]
  },
  {
   "cell_type": "code",
   "execution_count": null,
   "id": "b09ed1cd",
   "metadata": {},
   "outputs": [],
   "source": [
    "# Topic: Data Cleaning\n",
    "import pandas as pd\n",
    "df = pd.DataFrame({'A':[1,None,3]})\n",
    "df = df.fillna(0)\n",
    "print(df)"
   ]
  },
  {
   "cell_type": "code",
   "execution_count": null,
   "id": "7d50d231",
   "metadata": {},
   "outputs": [],
   "source": [
    "# Topic: Matplotlib & Seaborn\n",
    "import seaborn as sns\n",
    "import pandas as pd\n",
    "sns.set()\n",
    "sns.histplot(pd.Series([1,2,2,3]));"
   ]
  },
  {
   "cell_type": "code",
   "execution_count": null,
   "id": "640cabee",
   "metadata": {},
   "outputs": [],
   "source": [
    "# Topic: Recursion\n",
    "def fact(n): return 1 if n==0 else n*fact(n-1)\n",
    "print(fact(5))"
   ]
  },
  {
   "cell_type": "code",
   "execution_count": null,
   "id": "3cda0672",
   "metadata": {},
   "outputs": [],
   "source": [
    "# Topic: Data Cleaning\n",
    "import pandas as pd\n",
    "df = pd.DataFrame({'A':[1,None,3]})\n",
    "df = df.fillna(0)\n",
    "print(df)"
   ]
  },
  {
   "cell_type": "code",
   "execution_count": null,
   "id": "c5c528e0",
   "metadata": {},
   "outputs": [],
   "source": [
    "# Topic: Mini Projects\n",
    "# Palindrome check\n",
    "def is_pal(s): return s == s[::-1]\n",
    "print(is_pal('madam'))"
   ]
  },
  {
   "cell_type": "code",
   "execution_count": null,
   "id": "088be987",
   "metadata": {},
   "outputs": [],
   "source": [
    "# Topic: OOP\n",
    "class Student:\n",
    "    def __init__(self, name): self.name = name\n",
    "s = Student('Fahd')\n",
    "print(s.name)"
   ]
  },
  {
   "cell_type": "code",
   "execution_count": null,
   "id": "7f557a64",
   "metadata": {},
   "outputs": [],
   "source": [
    "# Topic: Algorithms\n",
    "# Bubble sort\n",
    "def bubble(arr):\n",
    " for i in range(len(arr)):\n",
    "  for j in range(0, len(arr)-i-1):\n",
    "   if arr[j]>arr[j+1]: arr[j],arr[j+1]=arr[j+1],arr[j]\n",
    "a=[5,3,8]\n",
    "bubble(a)\n",
    "print(a)"
   ]
  },
  {
   "cell_type": "code",
   "execution_count": null,
   "id": "464904e0",
   "metadata": {},
   "outputs": [],
   "source": [
    "# Topic: Pandas\n",
    "import pandas as pd\n",
    "df = pd.DataFrame({'A':[1,2],'B':[3,4]})\n",
    "print(df)"
   ]
  },
  {
   "cell_type": "code",
   "execution_count": null,
   "id": "399153ba",
   "metadata": {},
   "outputs": [],
   "source": [
    "# Topic: Algorithms\n",
    "# Bubble sort\n",
    "def bubble(arr):\n",
    " for i in range(len(arr)):\n",
    "  for j in range(0, len(arr)-i-1):\n",
    "   if arr[j]>arr[j+1]: arr[j],arr[j+1]=arr[j+1],arr[j]\n",
    "a=[5,3,8]\n",
    "bubble(a)\n",
    "print(a)"
   ]
  },
  {
   "cell_type": "code",
   "execution_count": null,
   "id": "d90d350c",
   "metadata": {},
   "outputs": [],
   "source": [
    "# Topic: Regex\n",
    "import re\n",
    "text = 'email: test@example.com'\n",
    "print(re.findall(r'\\S+@\\S+', text))"
   ]
  },
  {
   "cell_type": "code",
   "execution_count": null,
   "id": "f5c69de8",
   "metadata": {},
   "outputs": [],
   "source": [
    "# Topic: Algorithms\n",
    "# Bubble sort\n",
    "def bubble(arr):\n",
    " for i in range(len(arr)):\n",
    "  for j in range(0, len(arr)-i-1):\n",
    "   if arr[j]>arr[j+1]: arr[j],arr[j+1]=arr[j+1],arr[j]\n",
    "a=[5,3,8]\n",
    "bubble(a)\n",
    "print(a)"
   ]
  },
  {
   "cell_type": "code",
   "execution_count": null,
   "id": "3178aeaf",
   "metadata": {},
   "outputs": [],
   "source": [
    "# Topic: OOP\n",
    "class Student:\n",
    "    def __init__(self, name): self.name = name\n",
    "s = Student('Fahd')\n",
    "print(s.name)"
   ]
  },
  {
   "cell_type": "code",
   "execution_count": null,
   "id": "3bf3355a",
   "metadata": {},
   "outputs": [],
   "source": [
    "# Topic: Basics\n",
    "name = 'Fahd'\n",
    "print(f'Hello, {name}')"
   ]
  },
  {
   "cell_type": "code",
   "execution_count": null,
   "id": "36196de9",
   "metadata": {},
   "outputs": [],
   "source": [
    "# Topic: Basics\n",
    "x = 10\n",
    "y = 20\n",
    "print(x + y)"
   ]
  },
  {
   "cell_type": "code",
   "execution_count": null,
   "id": "9ca42e95",
   "metadata": {},
   "outputs": [],
   "source": [
    "# Topic: Matplotlib & Seaborn\n",
    "import matplotlib.pyplot as plt\n",
    "plt.plot([1,2],[3,4])\n",
    "plt.show()"
   ]
  },
  {
   "cell_type": "code",
   "execution_count": null,
   "id": "18332442",
   "metadata": {},
   "outputs": [],
   "source": [
    "# Topic: Data Cleaning\n",
    "import pandas as pd\n",
    "df = pd.DataFrame({'A':[1,None,3]})\n",
    "df = df.fillna(0)\n",
    "print(df)"
   ]
  },
  {
   "cell_type": "code",
   "execution_count": null,
   "id": "174b8182",
   "metadata": {},
   "outputs": [],
   "source": [
    "# Topic: Data Cleaning\n",
    "import pandas as pd\n",
    "df = pd.DataFrame({'A':[1,None,3]})\n",
    "df = df.fillna(0)\n",
    "print(df)"
   ]
  },
  {
   "cell_type": "code",
   "execution_count": null,
   "id": "25c412ae",
   "metadata": {},
   "outputs": [],
   "source": [
    "# Topic: Matplotlib & Seaborn\n",
    "import matplotlib.pyplot as plt\n",
    "plt.plot([1,2],[3,4])\n",
    "plt.show()"
   ]
  },
  {
   "cell_type": "code",
   "execution_count": null,
   "id": "357b1345",
   "metadata": {},
   "outputs": [],
   "source": [
    "# Topic: NumPy\n",
    "import numpy as np\n",
    "a = np.array([1, 2, 3])\n",
    "print(a + 5)"
   ]
  },
  {
   "cell_type": "code",
   "execution_count": null,
   "id": "12bf231e",
   "metadata": {},
   "outputs": [],
   "source": [
    "# Topic: Functions\n",
    "def square(x): return x*x\n",
    "print(square(5))"
   ]
  },
  {
   "cell_type": "code",
   "execution_count": null,
   "id": "60cc43c1",
   "metadata": {},
   "outputs": [],
   "source": [
    "# Topic: Web Scraping\n",
    "import requests\n",
    "from bs4 import BeautifulSoup\n",
    "r = requests.get('https://example.com')\n",
    "soup = BeautifulSoup(r.text, 'html.parser')\n",
    "print(soup.title.text)"
   ]
  },
  {
   "cell_type": "code",
   "execution_count": null,
   "id": "4aa0358f",
   "metadata": {},
   "outputs": [],
   "source": [
    "# Topic: Recursion\n",
    "def fact(n): return 1 if n==0 else n*fact(n-1)\n",
    "print(fact(5))"
   ]
  },
  {
   "cell_type": "code",
   "execution_count": null,
   "id": "0fee67ec",
   "metadata": {},
   "outputs": [],
   "source": [
    "# Topic: Regex\n",
    "import re\n",
    "text = 'email: test@example.com'\n",
    "print(re.findall(r'\\S+@\\S+', text))"
   ]
  },
  {
   "cell_type": "code",
   "execution_count": null,
   "id": "b49681e4",
   "metadata": {},
   "outputs": [],
   "source": [
    "# Topic: Matplotlib & Seaborn\n",
    "import seaborn as sns\n",
    "import pandas as pd\n",
    "sns.set()\n",
    "sns.histplot(pd.Series([1,2,2,3]));"
   ]
  },
  {
   "cell_type": "code",
   "execution_count": null,
   "id": "97b2e218",
   "metadata": {},
   "outputs": [],
   "source": [
    "# Topic: Loops\n",
    "for i in range(10): print(i*i)"
   ]
  },
  {
   "cell_type": "code",
   "execution_count": null,
   "id": "dc03c7ef",
   "metadata": {},
   "outputs": [],
   "source": [
    "# Topic: Regex\n",
    "import re\n",
    "text = 'email: test@example.com'\n",
    "print(re.findall(r'\\S+@\\S+', text))"
   ]
  },
  {
   "cell_type": "code",
   "execution_count": null,
   "id": "6bbada1a",
   "metadata": {},
   "outputs": [],
   "source": [
    "# Topic: Basics\n",
    "name = 'Fahd'\n",
    "print(f'Hello, {name}')"
   ]
  },
  {
   "cell_type": "code",
   "execution_count": null,
   "id": "13c7c204",
   "metadata": {},
   "outputs": [],
   "source": [
    "# Topic: Matplotlib & Seaborn\n",
    "import seaborn as sns\n",
    "import pandas as pd\n",
    "sns.set()\n",
    "sns.histplot(pd.Series([1,2,2,3]));"
   ]
  },
  {
   "cell_type": "code",
   "execution_count": null,
   "id": "9866a3c3",
   "metadata": {},
   "outputs": [],
   "source": [
    "# Topic: CLI Tools\n",
    "import sys\n",
    "print(f'Arguments: {sys.argv}')"
   ]
  },
  {
   "cell_type": "code",
   "execution_count": null,
   "id": "f2e3f47e",
   "metadata": {},
   "outputs": [],
   "source": [
    "# Topic: Regex\n",
    "import re\n",
    "text = 'email: test@example.com'\n",
    "print(re.findall(r'\\S+@\\S+', text))"
   ]
  },
  {
   "cell_type": "code",
   "execution_count": null,
   "id": "21e358f3",
   "metadata": {},
   "outputs": [],
   "source": [
    "# Topic: Lists & Tuples\n",
    "t = (1, 2, 3)\n",
    "print(t[0])"
   ]
  },
  {
   "cell_type": "code",
   "execution_count": null,
   "id": "ca9466f8",
   "metadata": {},
   "outputs": [],
   "source": [
    "# Topic: CLI Tools\n",
    "import sys\n",
    "print(f'Arguments: {sys.argv}')"
   ]
  },
  {
   "cell_type": "code",
   "execution_count": null,
   "id": "328a887b",
   "metadata": {},
   "outputs": [],
   "source": [
    "# Topic: Basic ML\n",
    "from sklearn.linear_model import LinearRegression\n",
    "model = LinearRegression()\n",
    "print(model)"
   ]
  },
  {
   "cell_type": "code",
   "execution_count": null,
   "id": "2646c862",
   "metadata": {},
   "outputs": [],
   "source": [
    "# Topic: Lists & Tuples\n",
    "t = (1, 2, 3)\n",
    "print(t[0])"
   ]
  },
  {
   "cell_type": "code",
   "execution_count": null,
   "id": "6c898a98",
   "metadata": {},
   "outputs": [],
   "source": [
    "# Topic: Decorators\n",
    "def log(func):\n",
    " def wrapper():\n",
    "  print('Call')\n",
    "  func()\n",
    " return wrapper\n",
    "@log\n",
    "def say(): print('Hi')\n",
    "say()"
   ]
  },
  {
   "cell_type": "code",
   "execution_count": null,
   "id": "fee0d35c",
   "metadata": {},
   "outputs": [],
   "source": [
    "# Topic: Loops\n",
    "while True:\n",
    "    print('Break')\n",
    "    break"
   ]
  },
  {
   "cell_type": "code",
   "execution_count": null,
   "id": "c22b4beb",
   "metadata": {},
   "outputs": [],
   "source": [
    "# Topic: CLI Tools\n",
    "import sys\n",
    "print(f'Arguments: {sys.argv}')"
   ]
  },
  {
   "cell_type": "code",
   "execution_count": null,
   "id": "fc93fc13",
   "metadata": {},
   "outputs": [],
   "source": [
    "# Topic: Web Scraping\n",
    "import requests\n",
    "from bs4 import BeautifulSoup\n",
    "r = requests.get('https://example.com')\n",
    "soup = BeautifulSoup(r.text, 'html.parser')\n",
    "print(soup.title.text)"
   ]
  },
  {
   "cell_type": "code",
   "execution_count": null,
   "id": "4be963dc",
   "metadata": {},
   "outputs": [],
   "source": [
    "# Topic: JSON & CSV\n",
    "import csv\n",
    "with open('file.csv', 'w', newline='') as f:\n",
    " csv.writer(f).writerow(['a','b','c'])"
   ]
  },
  {
   "cell_type": "code",
   "execution_count": null,
   "id": "d1a3f8b2",
   "metadata": {},
   "outputs": [],
   "source": [
    "# Topic: Basic ML\n",
    "from sklearn.linear_model import LinearRegression\n",
    "model = LinearRegression()\n",
    "print(model)"
   ]
  },
  {
   "cell_type": "code",
   "execution_count": null,
   "id": "3a73170d",
   "metadata": {},
   "outputs": [],
   "source": [
    "# Topic: Functions\n",
    "def square(x): return x*x\n",
    "print(square(5))"
   ]
  },
  {
   "cell_type": "code",
   "execution_count": null,
   "id": "f248595e",
   "metadata": {},
   "outputs": [],
   "source": [
    "# Topic: Pandas\n",
    "import pandas as pd\n",
    "df = pd.DataFrame({'A':[1,2],'B':[3,4]})\n",
    "print(df)"
   ]
  },
  {
   "cell_type": "code",
   "execution_count": null,
   "id": "646a1efa",
   "metadata": {},
   "outputs": [],
   "source": [
    "# Topic: Functions\n",
    "def square(x): return x*x\n",
    "print(square(5))"
   ]
  },
  {
   "cell_type": "code",
   "execution_count": null,
   "id": "da90cbec",
   "metadata": {},
   "outputs": [],
   "source": [
    "# Topic: Decorators\n",
    "def log(func):\n",
    " def wrapper():\n",
    "  print('Call')\n",
    "  func()\n",
    " return wrapper\n",
    "@log\n",
    "def say(): print('Hi')\n",
    "say()"
   ]
  },
  {
   "cell_type": "code",
   "execution_count": null,
   "id": "7055c3c8",
   "metadata": {},
   "outputs": [],
   "source": [
    "# Topic: Recursion\n",
    "def fact(n): return 1 if n==0 else n*fact(n-1)\n",
    "print(fact(5))"
   ]
  },
  {
   "cell_type": "code",
   "execution_count": null,
   "id": "bcb61a7e",
   "metadata": {},
   "outputs": [],
   "source": [
    "# Topic: Matplotlib & Seaborn\n",
    "import seaborn as sns\n",
    "import pandas as pd\n",
    "sns.set()\n",
    "sns.histplot(pd.Series([1,2,2,3]));"
   ]
  },
  {
   "cell_type": "code",
   "execution_count": null,
   "id": "bd322b34",
   "metadata": {},
   "outputs": [],
   "source": [
    "# Topic: Loops\n",
    "for i in range(10): print(i*i)"
   ]
  },
  {
   "cell_type": "code",
   "execution_count": null,
   "id": "b56f248b",
   "metadata": {},
   "outputs": [],
   "source": [
    "# Topic: Basic ML\n",
    "from sklearn.linear_model import LinearRegression\n",
    "model = LinearRegression()\n",
    "print(model)"
   ]
  },
  {
   "cell_type": "code",
   "execution_count": null,
   "id": "0bfbfadb",
   "metadata": {},
   "outputs": [],
   "source": [
    "# Topic: Lists & Tuples\n",
    "lst = [1, 2, 3]\n",
    "lst.append(4)\n",
    "print(lst)"
   ]
  },
  {
   "cell_type": "code",
   "execution_count": null,
   "id": "a323346d",
   "metadata": {},
   "outputs": [],
   "source": [
    "# Topic: Pandas\n",
    "import pandas as pd\n",
    "df = pd.read_csv('file.csv')\n",
    "print(df.head())"
   ]
  },
  {
   "cell_type": "code",
   "execution_count": null,
   "id": "701a3495",
   "metadata": {},
   "outputs": [],
   "source": [
    "# Topic: Regex\n",
    "import re\n",
    "text = 'email: test@example.com'\n",
    "print(re.findall(r'\\S+@\\S+', text))"
   ]
  },
  {
   "cell_type": "code",
   "execution_count": null,
   "id": "a7c1e07f",
   "metadata": {},
   "outputs": [],
   "source": [
    "# Topic: Mini Projects\n",
    "# Calculator\n",
    "def calc(a,b,op): return eval(f'{a}{op}{b}')\n",
    "print(calc(5,2,'+'))"
   ]
  },
  {
   "cell_type": "code",
   "execution_count": null,
   "id": "9ade16f4",
   "metadata": {},
   "outputs": [],
   "source": [
    "# Topic: Web Scraping\n",
    "import requests\n",
    "from bs4 import BeautifulSoup\n",
    "r = requests.get('https://example.com')\n",
    "soup = BeautifulSoup(r.text, 'html.parser')\n",
    "print(soup.title.text)"
   ]
  },
  {
   "cell_type": "code",
   "execution_count": null,
   "id": "d9947f02",
   "metadata": {},
   "outputs": [],
   "source": [
    "# Topic: OOP\n",
    "class Student:\n",
    "    def __init__(self, name): self.name = name\n",
    "s = Student('Fahd')\n",
    "print(s.name)"
   ]
  },
  {
   "cell_type": "code",
   "execution_count": null,
   "id": "66ab0b7f",
   "metadata": {},
   "outputs": [],
   "source": [
    "# Topic: Basics\n",
    "x = 10\n",
    "y = 20\n",
    "print(x + y)"
   ]
  },
  {
   "cell_type": "code",
   "execution_count": null,
   "id": "d10de966",
   "metadata": {},
   "outputs": [],
   "source": [
    "# Topic: NumPy\n",
    "import numpy as np\n",
    "a = np.array([1, 2, 3])\n",
    "print(a + 5)"
   ]
  },
  {
   "cell_type": "code",
   "execution_count": null,
   "id": "d888e85c",
   "metadata": {},
   "outputs": [],
   "source": [
    "# Topic: Recursion\n",
    "def fact(n): return 1 if n==0 else n*fact(n-1)\n",
    "print(fact(5))"
   ]
  },
  {
   "cell_type": "code",
   "execution_count": null,
   "id": "6dfd6db0",
   "metadata": {},
   "outputs": [],
   "source": [
    "# Topic: Dictionaries & Sets\n",
    "s = set([1, 2, 3, 2])\n",
    "print(s)"
   ]
  },
  {
   "cell_type": "code",
   "execution_count": null,
   "id": "578184cd",
   "metadata": {},
   "outputs": [],
   "source": [
    "# Topic: Dictionaries & Sets\n",
    "d = {'name': 'Fahd', 'age': 20}\n",
    "print(d.get('name'))"
   ]
  },
  {
   "cell_type": "code",
   "execution_count": null,
   "id": "db0f8e51",
   "metadata": {},
   "outputs": [],
   "source": [
    "# Topic: JSON & CSV\n",
    "import json\n",
    "data = {'a': 1}\n",
    "print(json.dumps(data))"
   ]
  },
  {
   "cell_type": "code",
   "execution_count": null,
   "id": "0a7cc10d",
   "metadata": {},
   "outputs": [],
   "source": [
    "# Topic: Matplotlib & Seaborn\n",
    "import seaborn as sns\n",
    "import pandas as pd\n",
    "sns.set()\n",
    "sns.histplot(pd.Series([1,2,2,3]));"
   ]
  },
  {
   "cell_type": "code",
   "execution_count": null,
   "id": "79caf6f7",
   "metadata": {},
   "outputs": [],
   "source": [
    "# Topic: Loops\n",
    "for i in range(10): print(i*i)"
   ]
  },
  {
   "cell_type": "code",
   "execution_count": null,
   "id": "ea79e848",
   "metadata": {},
   "outputs": [],
   "source": [
    "# Topic: Recursion\n",
    "def fact(n): return 1 if n==0 else n*fact(n-1)\n",
    "print(fact(5))"
   ]
  },
  {
   "cell_type": "code",
   "execution_count": null,
   "id": "cf7cabdc",
   "metadata": {},
   "outputs": [],
   "source": [
    "# Topic: Recursion\n",
    "def fact(n): return 1 if n==0 else n*fact(n-1)\n",
    "print(fact(5))"
   ]
  },
  {
   "cell_type": "code",
   "execution_count": null,
   "id": "7e3e1d6a",
   "metadata": {},
   "outputs": [],
   "source": [
    "# Topic: Data Cleaning\n",
    "import pandas as pd\n",
    "df = pd.DataFrame({'A':[1,None,3]})\n",
    "df = df.fillna(0)\n",
    "print(df)"
   ]
  },
  {
   "cell_type": "code",
   "execution_count": null,
   "id": "86146e26",
   "metadata": {},
   "outputs": [],
   "source": [
    "# Topic: Functions\n",
    "def greet(name='User'):\n",
    "    print(f'Hi, {name}')\n",
    "greet()"
   ]
  },
  {
   "cell_type": "code",
   "execution_count": null,
   "id": "afa90d14",
   "metadata": {},
   "outputs": [],
   "source": [
    "# Topic: Data Cleaning\n",
    "import pandas as pd\n",
    "df = pd.DataFrame({'A':[1,None,3]})\n",
    "df = df.fillna(0)\n",
    "print(df)"
   ]
  },
  {
   "cell_type": "code",
   "execution_count": null,
   "id": "aac22f36",
   "metadata": {},
   "outputs": [],
   "source": [
    "# Topic: NumPy\n",
    "import numpy as np\n",
    "a = np.array([1, 2, 3])\n",
    "print(a + 5)"
   ]
  },
  {
   "cell_type": "code",
   "execution_count": null,
   "id": "9fffa9ab",
   "metadata": {},
   "outputs": [],
   "source": [
    "# Topic: OOP\n",
    "class Student:\n",
    "    def __init__(self, name): self.name = name\n",
    "s = Student('Fahd')\n",
    "print(s.name)"
   ]
  },
  {
   "cell_type": "code",
   "execution_count": null,
   "id": "b3c8ba04",
   "metadata": {},
   "outputs": [],
   "source": [
    "# Topic: Matplotlib & Seaborn\n",
    "import matplotlib.pyplot as plt\n",
    "plt.plot([1,2],[3,4])\n",
    "plt.show()"
   ]
  },
  {
   "cell_type": "code",
   "execution_count": null,
   "id": "777f145b",
   "metadata": {},
   "outputs": [],
   "source": [
    "# Topic: Basic ML\n",
    "from sklearn.linear_model import LinearRegression\n",
    "model = LinearRegression()\n",
    "print(model)"
   ]
  },
  {
   "cell_type": "code",
   "execution_count": null,
   "id": "60e15b44",
   "metadata": {},
   "outputs": [],
   "source": [
    "# Topic: Lists & Tuples\n",
    "t = (1, 2, 3)\n",
    "print(t[0])"
   ]
  },
  {
   "cell_type": "code",
   "execution_count": null,
   "id": "f8bf70d4",
   "metadata": {},
   "outputs": [],
   "source": [
    "# Topic: File I/O\n",
    "with open('test.txt', 'r') as f:\n",
    "    print(f.read())"
   ]
  },
  {
   "cell_type": "code",
   "execution_count": null,
   "id": "dbe3b203",
   "metadata": {},
   "outputs": [],
   "source": [
    "# Topic: Regex\n",
    "import re\n",
    "text = 'email: test@example.com'\n",
    "print(re.findall(r'\\S+@\\S+', text))"
   ]
  },
  {
   "cell_type": "code",
   "execution_count": null,
   "id": "bd47a2cc",
   "metadata": {},
   "outputs": [],
   "source": [
    "# Topic: Recursion\n",
    "def fact(n): return 1 if n==0 else n*fact(n-1)\n",
    "print(fact(5))"
   ]
  },
  {
   "cell_type": "code",
   "execution_count": null,
   "id": "7b990d4f",
   "metadata": {},
   "outputs": [],
   "source": [
    "# Topic: Lists & Tuples\n",
    "t = (1, 2, 3)\n",
    "print(t[0])"
   ]
  },
  {
   "cell_type": "code",
   "execution_count": null,
   "id": "5a5a244d",
   "metadata": {},
   "outputs": [],
   "source": [
    "# Topic: NumPy\n",
    "import numpy as np\n",
    "a = np.array([1, 2, 3])\n",
    "print(a + 5)"
   ]
  },
  {
   "cell_type": "code",
   "execution_count": null,
   "id": "a6adda4a",
   "metadata": {},
   "outputs": [],
   "source": [
    "# Topic: Matplotlib & Seaborn\n",
    "import seaborn as sns\n",
    "import pandas as pd\n",
    "sns.set()\n",
    "sns.histplot(pd.Series([1,2,2,3]));"
   ]
  },
  {
   "cell_type": "code",
   "execution_count": null,
   "id": "42118def",
   "metadata": {},
   "outputs": [],
   "source": [
    "# Topic: Mini Projects\n",
    "# Calculator\n",
    "def calc(a,b,op): return eval(f'{a}{op}{b}')\n",
    "print(calc(5,2,'+'))"
   ]
  },
  {
   "cell_type": "code",
   "execution_count": null,
   "id": "14a64c6b",
   "metadata": {},
   "outputs": [],
   "source": [
    "# Topic: Basics\n",
    "name = 'Fahd'\n",
    "print(f'Hello, {name}')"
   ]
  },
  {
   "cell_type": "code",
   "execution_count": null,
   "id": "9c900139",
   "metadata": {},
   "outputs": [],
   "source": [
    "# Topic: Basic ML\n",
    "from sklearn.linear_model import LinearRegression\n",
    "model = LinearRegression()\n",
    "print(model)"
   ]
  },
  {
   "cell_type": "code",
   "execution_count": null,
   "id": "33940176",
   "metadata": {},
   "outputs": [],
   "source": [
    "# Topic: Basic ML\n",
    "from sklearn.linear_model import LinearRegression\n",
    "model = LinearRegression()\n",
    "print(model)"
   ]
  },
  {
   "cell_type": "code",
   "execution_count": null,
   "id": "fac53e61",
   "metadata": {},
   "outputs": [],
   "source": [
    "# Topic: OOP\n",
    "class Student:\n",
    "    def __init__(self, name): self.name = name\n",
    "s = Student('Fahd')\n",
    "print(s.name)"
   ]
  },
  {
   "cell_type": "code",
   "execution_count": null,
   "id": "83bbe6f4",
   "metadata": {},
   "outputs": [],
   "source": [
    "# Topic: Algorithms\n",
    "# Bubble sort\n",
    "def bubble(arr):\n",
    " for i in range(len(arr)):\n",
    "  for j in range(0, len(arr)-i-1):\n",
    "   if arr[j]>arr[j+1]: arr[j],arr[j+1]=arr[j+1],arr[j]\n",
    "a=[5,3,8]\n",
    "bubble(a)\n",
    "print(a)"
   ]
  },
  {
   "cell_type": "code",
   "execution_count": null,
   "id": "e569ea68",
   "metadata": {},
   "outputs": [],
   "source": [
    "# Topic: NumPy\n",
    "import numpy as np\n",
    "a = np.array([1, 2, 3])\n",
    "print(a + 5)"
   ]
  },
  {
   "cell_type": "code",
   "execution_count": null,
   "id": "a439ec8e",
   "metadata": {},
   "outputs": [],
   "source": [
    "# Topic: Decorators\n",
    "def log(func):\n",
    " def wrapper():\n",
    "  print('Call')\n",
    "  func()\n",
    " return wrapper\n",
    "@log\n",
    "def say(): print('Hi')\n",
    "say()"
   ]
  },
  {
   "cell_type": "code",
   "execution_count": null,
   "id": "1eef9da6",
   "metadata": {},
   "outputs": [],
   "source": [
    "# Topic: Web Scraping\n",
    "import requests\n",
    "from bs4 import BeautifulSoup\n",
    "r = requests.get('https://example.com')\n",
    "soup = BeautifulSoup(r.text, 'html.parser')\n",
    "print(soup.title.text)"
   ]
  },
  {
   "cell_type": "code",
   "execution_count": null,
   "id": "cae535e1",
   "metadata": {},
   "outputs": [],
   "source": [
    "# Topic: Web Scraping\n",
    "import requests\n",
    "from bs4 import BeautifulSoup\n",
    "r = requests.get('https://example.com')\n",
    "soup = BeautifulSoup(r.text, 'html.parser')\n",
    "print(soup.title.text)"
   ]
  },
  {
   "cell_type": "code",
   "execution_count": null,
   "id": "56a60cf1",
   "metadata": {},
   "outputs": [],
   "source": [
    "# Topic: Data Cleaning\n",
    "import pandas as pd\n",
    "df = pd.DataFrame({'A':[1,None,3]})\n",
    "df = df.fillna(0)\n",
    "print(df)"
   ]
  },
  {
   "cell_type": "code",
   "execution_count": null,
   "id": "7d674208",
   "metadata": {},
   "outputs": [],
   "source": [
    "# Topic: JSON & CSV\n",
    "import csv\n",
    "with open('file.csv', 'w', newline='') as f:\n",
    " csv.writer(f).writerow(['a','b','c'])"
   ]
  },
  {
   "cell_type": "code",
   "execution_count": null,
   "id": "c50ac1df",
   "metadata": {},
   "outputs": [],
   "source": [
    "# Topic: Matplotlib & Seaborn\n",
    "import matplotlib.pyplot as plt\n",
    "plt.plot([1,2],[3,4])\n",
    "plt.show()"
   ]
  },
  {
   "cell_type": "code",
   "execution_count": null,
   "id": "c2d10587",
   "metadata": {},
   "outputs": [],
   "source": [
    "# Topic: Basic ML\n",
    "from sklearn.linear_model import LinearRegression\n",
    "model = LinearRegression()\n",
    "print(model)"
   ]
  },
  {
   "cell_type": "code",
   "execution_count": null,
   "id": "7676e246",
   "metadata": {},
   "outputs": [],
   "source": [
    "# Topic: Dictionaries & Sets\n",
    "d = {'name': 'Fahd', 'age': 20}\n",
    "print(d.get('name'))"
   ]
  },
  {
   "cell_type": "code",
   "execution_count": null,
   "id": "cbe3ed23",
   "metadata": {},
   "outputs": [],
   "source": [
    "# Topic: Matplotlib & Seaborn\n",
    "import matplotlib.pyplot as plt\n",
    "plt.plot([1,2],[3,4])\n",
    "plt.show()"
   ]
  },
  {
   "cell_type": "code",
   "execution_count": null,
   "id": "d6908d20",
   "metadata": {},
   "outputs": [],
   "source": [
    "# Topic: CLI Tools\n",
    "import sys\n",
    "print(f'Arguments: {sys.argv}')"
   ]
  },
  {
   "cell_type": "code",
   "execution_count": null,
   "id": "a3add374",
   "metadata": {},
   "outputs": [],
   "source": [
    "# Topic: Algorithms\n",
    "# Bubble sort\n",
    "def bubble(arr):\n",
    " for i in range(len(arr)):\n",
    "  for j in range(0, len(arr)-i-1):\n",
    "   if arr[j]>arr[j+1]: arr[j],arr[j+1]=arr[j+1],arr[j]\n",
    "a=[5,3,8]\n",
    "bubble(a)\n",
    "print(a)"
   ]
  },
  {
   "cell_type": "code",
   "execution_count": null,
   "id": "26bca533",
   "metadata": {},
   "outputs": [],
   "source": [
    "# Topic: Recursion\n",
    "def fact(n): return 1 if n==0 else n*fact(n-1)\n",
    "print(fact(5))"
   ]
  },
  {
   "cell_type": "code",
   "execution_count": null,
   "id": "5feab176",
   "metadata": {},
   "outputs": [],
   "source": [
    "# Topic: Basic ML\n",
    "from sklearn.linear_model import LinearRegression\n",
    "model = LinearRegression()\n",
    "print(model)"
   ]
  },
  {
   "cell_type": "code",
   "execution_count": null,
   "id": "c9e3839d",
   "metadata": {},
   "outputs": [],
   "source": [
    "# Topic: Matplotlib & Seaborn\n",
    "import seaborn as sns\n",
    "import pandas as pd\n",
    "sns.set()\n",
    "sns.histplot(pd.Series([1,2,2,3]));"
   ]
  },
  {
   "cell_type": "code",
   "execution_count": null,
   "id": "f42ee930",
   "metadata": {},
   "outputs": [],
   "source": [
    "# Topic: Lists & Tuples\n",
    "t = (1, 2, 3)\n",
    "print(t[0])"
   ]
  },
  {
   "cell_type": "code",
   "execution_count": null,
   "id": "fa8d6a37",
   "metadata": {},
   "outputs": [],
   "source": [
    "# Topic: Recursion\n",
    "def fact(n): return 1 if n==0 else n*fact(n-1)\n",
    "print(fact(5))"
   ]
  },
  {
   "cell_type": "code",
   "execution_count": null,
   "id": "9f04d9fc",
   "metadata": {},
   "outputs": [],
   "source": [
    "# Topic: CLI Tools\n",
    "import sys\n",
    "print(f'Arguments: {sys.argv}')"
   ]
  },
  {
   "cell_type": "code",
   "execution_count": null,
   "id": "c1db191e",
   "metadata": {},
   "outputs": [],
   "source": [
    "# Topic: Lists & Tuples\n",
    "t = (1, 2, 3)\n",
    "print(t[0])"
   ]
  },
  {
   "cell_type": "code",
   "execution_count": null,
   "id": "525b1c08",
   "metadata": {},
   "outputs": [],
   "source": [
    "# Topic: Basic ML\n",
    "from sklearn.linear_model import LinearRegression\n",
    "model = LinearRegression()\n",
    "print(model)"
   ]
  },
  {
   "cell_type": "code",
   "execution_count": null,
   "id": "0d6204ef",
   "metadata": {},
   "outputs": [],
   "source": [
    "# Topic: OOP\n",
    "class Student:\n",
    "    def __init__(self, name): self.name = name\n",
    "s = Student('Fahd')\n",
    "print(s.name)"
   ]
  },
  {
   "cell_type": "code",
   "execution_count": null,
   "id": "70b7d0b4",
   "metadata": {},
   "outputs": [],
   "source": [
    "# Topic: Data Cleaning\n",
    "import pandas as pd\n",
    "df = pd.DataFrame({'A':[1,None,3]})\n",
    "df = df.fillna(0)\n",
    "print(df)"
   ]
  },
  {
   "cell_type": "code",
   "execution_count": null,
   "id": "c292192c",
   "metadata": {},
   "outputs": [],
   "source": [
    "# Topic: Lists & Tuples\n",
    "lst = [1, 2, 3]\n",
    "lst.append(4)\n",
    "print(lst)"
   ]
  },
  {
   "cell_type": "code",
   "execution_count": null,
   "id": "c0c518f2",
   "metadata": {},
   "outputs": [],
   "source": [
    "# Topic: JSON & CSV\n",
    "import csv\n",
    "with open('file.csv', 'w', newline='') as f:\n",
    " csv.writer(f).writerow(['a','b','c'])"
   ]
  },
  {
   "cell_type": "code",
   "execution_count": null,
   "id": "cf52e875",
   "metadata": {},
   "outputs": [],
   "source": [
    "# Topic: JSON & CSV\n",
    "import json\n",
    "data = {'a': 1}\n",
    "print(json.dumps(data))"
   ]
  },
  {
   "cell_type": "code",
   "execution_count": null,
   "id": "76a7b93f",
   "metadata": {},
   "outputs": [],
   "source": [
    "# Topic: Matplotlib & Seaborn\n",
    "import seaborn as sns\n",
    "import pandas as pd\n",
    "sns.set()\n",
    "sns.histplot(pd.Series([1,2,2,3]));"
   ]
  },
  {
   "cell_type": "code",
   "execution_count": null,
   "id": "d9528047",
   "metadata": {},
   "outputs": [],
   "source": [
    "# Topic: JSON & CSV\n",
    "import csv\n",
    "with open('file.csv', 'w', newline='') as f:\n",
    " csv.writer(f).writerow(['a','b','c'])"
   ]
  },
  {
   "cell_type": "code",
   "execution_count": null,
   "id": "b4d5aa24",
   "metadata": {},
   "outputs": [],
   "source": [
    "# Topic: Algorithms\n",
    "# Bubble sort\n",
    "def bubble(arr):\n",
    " for i in range(len(arr)):\n",
    "  for j in range(0, len(arr)-i-1):\n",
    "   if arr[j]>arr[j+1]: arr[j],arr[j+1]=arr[j+1],arr[j]\n",
    "a=[5,3,8]\n",
    "bubble(a)\n",
    "print(a)"
   ]
  },
  {
   "cell_type": "code",
   "execution_count": null,
   "id": "5c31dbbe",
   "metadata": {},
   "outputs": [],
   "source": [
    "# Topic: JSON & CSV\n",
    "import csv\n",
    "with open('file.csv', 'w', newline='') as f:\n",
    " csv.writer(f).writerow(['a','b','c'])"
   ]
  },
  {
   "cell_type": "code",
   "execution_count": null,
   "id": "b8aa9288",
   "metadata": {},
   "outputs": [],
   "source": [
    "# Topic: Decorators\n",
    "def log(func):\n",
    " def wrapper():\n",
    "  print('Call')\n",
    "  func()\n",
    " return wrapper\n",
    "@log\n",
    "def say(): print('Hi')\n",
    "say()"
   ]
  },
  {
   "cell_type": "code",
   "execution_count": null,
   "id": "ec28f895",
   "metadata": {},
   "outputs": [],
   "source": [
    "# Topic: Mini Projects\n",
    "# Palindrome check\n",
    "def is_pal(s): return s == s[::-1]\n",
    "print(is_pal('madam'))"
   ]
  },
  {
   "cell_type": "code",
   "execution_count": null,
   "id": "e41ba80f",
   "metadata": {},
   "outputs": [],
   "source": [
    "# Topic: Web Scraping\n",
    "import requests\n",
    "from bs4 import BeautifulSoup\n",
    "r = requests.get('https://example.com')\n",
    "soup = BeautifulSoup(r.text, 'html.parser')\n",
    "print(soup.title.text)"
   ]
  },
  {
   "cell_type": "code",
   "execution_count": null,
   "id": "f493d945",
   "metadata": {},
   "outputs": [],
   "source": [
    "# Topic: Pandas\n",
    "import pandas as pd\n",
    "df = pd.DataFrame({'A':[1,2],'B':[3,4]})\n",
    "print(df)"
   ]
  },
  {
   "cell_type": "code",
   "execution_count": null,
   "id": "38bc50e1",
   "metadata": {},
   "outputs": [],
   "source": [
    "# Topic: Pandas\n",
    "import pandas as pd\n",
    "df = pd.DataFrame({'A':[1,2],'B':[3,4]})\n",
    "print(df)"
   ]
  },
  {
   "cell_type": "code",
   "execution_count": null,
   "id": "3e779642",
   "metadata": {},
   "outputs": [],
   "source": [
    "# Topic: Web Scraping\n",
    "import requests\n",
    "from bs4 import BeautifulSoup\n",
    "r = requests.get('https://example.com')\n",
    "soup = BeautifulSoup(r.text, 'html.parser')\n",
    "print(soup.title.text)"
   ]
  },
  {
   "cell_type": "code",
   "execution_count": null,
   "id": "9b47f91d",
   "metadata": {},
   "outputs": [],
   "source": [
    "# Topic: Pandas\n",
    "import pandas as pd\n",
    "df = pd.DataFrame({'A':[1,2],'B':[3,4]})\n",
    "print(df)"
   ]
  },
  {
   "cell_type": "code",
   "execution_count": null,
   "id": "d16d0aaa",
   "metadata": {},
   "outputs": [],
   "source": [
    "# Topic: Basic ML\n",
    "from sklearn.linear_model import LinearRegression\n",
    "model = LinearRegression()\n",
    "print(model)"
   ]
  },
  {
   "cell_type": "code",
   "execution_count": null,
   "id": "ca79e244",
   "metadata": {},
   "outputs": [],
   "source": [
    "# Topic: Decorators\n",
    "def log(func):\n",
    " def wrapper():\n",
    "  print('Call')\n",
    "  func()\n",
    " return wrapper\n",
    "@log\n",
    "def say(): print('Hi')\n",
    "say()"
   ]
  },
  {
   "cell_type": "code",
   "execution_count": null,
   "id": "b6024705",
   "metadata": {},
   "outputs": [],
   "source": [
    "# Topic: Algorithms\n",
    "# Bubble sort\n",
    "def bubble(arr):\n",
    " for i in range(len(arr)):\n",
    "  for j in range(0, len(arr)-i-1):\n",
    "   if arr[j]>arr[j+1]: arr[j],arr[j+1]=arr[j+1],arr[j]\n",
    "a=[5,3,8]\n",
    "bubble(a)\n",
    "print(a)"
   ]
  },
  {
   "cell_type": "code",
   "execution_count": null,
   "id": "0ab14f55",
   "metadata": {},
   "outputs": [],
   "source": [
    "# Topic: Pandas\n",
    "import pandas as pd\n",
    "df = pd.read_csv('file.csv')\n",
    "print(df.head())"
   ]
  },
  {
   "cell_type": "code",
   "execution_count": null,
   "id": "7317816e",
   "metadata": {},
   "outputs": [],
   "source": [
    "# Topic: JSON & CSV\n",
    "import json\n",
    "data = {'a': 1}\n",
    "print(json.dumps(data))"
   ]
  },
  {
   "cell_type": "code",
   "execution_count": null,
   "id": "481460e9",
   "metadata": {},
   "outputs": [],
   "source": [
    "# Topic: Basic ML\n",
    "from sklearn.linear_model import LinearRegression\n",
    "model = LinearRegression()\n",
    "print(model)"
   ]
  },
  {
   "cell_type": "code",
   "execution_count": null,
   "id": "03c2f2ba",
   "metadata": {},
   "outputs": [],
   "source": [
    "# Topic: Regex\n",
    "import re\n",
    "text = 'email: test@example.com'\n",
    "print(re.findall(r'\\S+@\\S+', text))"
   ]
  },
  {
   "cell_type": "code",
   "execution_count": null,
   "id": "a60f1068",
   "metadata": {},
   "outputs": [],
   "source": [
    "# Topic: CLI Tools\n",
    "import sys\n",
    "print(f'Arguments: {sys.argv}')"
   ]
  },
  {
   "cell_type": "code",
   "execution_count": null,
   "id": "24012f02",
   "metadata": {},
   "outputs": [],
   "source": [
    "# Topic: Basics\n",
    "name = 'Fahd'\n",
    "print(f'Hello, {name}')"
   ]
  },
  {
   "cell_type": "code",
   "execution_count": null,
   "id": "3a332cbe",
   "metadata": {},
   "outputs": [],
   "source": [
    "# Topic: Data Cleaning\n",
    "import pandas as pd\n",
    "df = pd.DataFrame({'A':[1,None,3]})\n",
    "df = df.fillna(0)\n",
    "print(df)"
   ]
  },
  {
   "cell_type": "code",
   "execution_count": null,
   "id": "e790d329",
   "metadata": {},
   "outputs": [],
   "source": [
    "# Topic: OOP\n",
    "class Student:\n",
    "    def __init__(self, name): self.name = name\n",
    "s = Student('Fahd')\n",
    "print(s.name)"
   ]
  },
  {
   "cell_type": "code",
   "execution_count": null,
   "id": "eb7353a2",
   "metadata": {},
   "outputs": [],
   "source": [
    "# Topic: Lists & Tuples\n",
    "t = (1, 2, 3)\n",
    "print(t[0])"
   ]
  },
  {
   "cell_type": "code",
   "execution_count": null,
   "id": "78801619",
   "metadata": {},
   "outputs": [],
   "source": [
    "# Topic: Dictionaries & Sets\n",
    "s = set([1, 2, 3, 2])\n",
    "print(s)"
   ]
  },
  {
   "cell_type": "code",
   "execution_count": null,
   "id": "f1f0937e",
   "metadata": {},
   "outputs": [],
   "source": [
    "# Topic: NumPy\n",
    "import numpy as np\n",
    "a = np.array([1, 2, 3])\n",
    "print(a + 5)"
   ]
  },
  {
   "cell_type": "code",
   "execution_count": null,
   "id": "e021488a",
   "metadata": {},
   "outputs": [],
   "source": [
    "# Topic: Web Scraping\n",
    "import requests\n",
    "from bs4 import BeautifulSoup\n",
    "r = requests.get('https://example.com')\n",
    "soup = BeautifulSoup(r.text, 'html.parser')\n",
    "print(soup.title.text)"
   ]
  },
  {
   "cell_type": "code",
   "execution_count": null,
   "id": "b5a83d45",
   "metadata": {},
   "outputs": [],
   "source": [
    "# Topic: Basic ML\n",
    "from sklearn.linear_model import LinearRegression\n",
    "model = LinearRegression()\n",
    "print(model)"
   ]
  },
  {
   "cell_type": "code",
   "execution_count": null,
   "id": "a93b3b48",
   "metadata": {},
   "outputs": [],
   "source": [
    "# Topic: Algorithms\n",
    "# Bubble sort\n",
    "def bubble(arr):\n",
    " for i in range(len(arr)):\n",
    "  for j in range(0, len(arr)-i-1):\n",
    "   if arr[j]>arr[j+1]: arr[j],arr[j+1]=arr[j+1],arr[j]\n",
    "a=[5,3,8]\n",
    "bubble(a)\n",
    "print(a)"
   ]
  },
  {
   "cell_type": "code",
   "execution_count": null,
   "id": "c2073204",
   "metadata": {},
   "outputs": [],
   "source": [
    "# Topic: Functions\n",
    "def greet(name='User'):\n",
    "    print(f'Hi, {name}')\n",
    "greet()"
   ]
  },
  {
   "cell_type": "code",
   "execution_count": null,
   "id": "9aebc5af",
   "metadata": {},
   "outputs": [],
   "source": [
    "# Topic: Lists & Tuples\n",
    "t = (1, 2, 3)\n",
    "print(t[0])"
   ]
  },
  {
   "cell_type": "code",
   "execution_count": null,
   "id": "b24903ea",
   "metadata": {},
   "outputs": [],
   "source": [
    "# Topic: Recursion\n",
    "def fact(n): return 1 if n==0 else n*fact(n-1)\n",
    "print(fact(5))"
   ]
  },
  {
   "cell_type": "code",
   "execution_count": null,
   "id": "68d6e6ba",
   "metadata": {},
   "outputs": [],
   "source": [
    "# Topic: Pandas\n",
    "import pandas as pd\n",
    "df = pd.read_csv('file.csv')\n",
    "print(df.head())"
   ]
  },
  {
   "cell_type": "code",
   "execution_count": null,
   "id": "ea328561",
   "metadata": {},
   "outputs": [],
   "source": [
    "# Topic: Pandas\n",
    "import pandas as pd\n",
    "df = pd.read_csv('file.csv')\n",
    "print(df.head())"
   ]
  },
  {
   "cell_type": "code",
   "execution_count": null,
   "id": "b082c06a",
   "metadata": {},
   "outputs": [],
   "source": [
    "# Topic: Matplotlib & Seaborn\n",
    "import seaborn as sns\n",
    "import pandas as pd\n",
    "sns.set()\n",
    "sns.histplot(pd.Series([1,2,2,3]));"
   ]
  },
  {
   "cell_type": "code",
   "execution_count": null,
   "id": "17ac88f7",
   "metadata": {},
   "outputs": [],
   "source": [
    "# Topic: OOP\n",
    "class Student:\n",
    "    def __init__(self, name): self.name = name\n",
    "s = Student('Fahd')\n",
    "print(s.name)"
   ]
  },
  {
   "cell_type": "code",
   "execution_count": null,
   "id": "c9c06b13",
   "metadata": {},
   "outputs": [],
   "source": [
    "# Topic: NumPy\n",
    "import numpy as np\n",
    "a = np.array([1, 2, 3])\n",
    "print(a + 5)"
   ]
  },
  {
   "cell_type": "code",
   "execution_count": null,
   "id": "6ff6db71",
   "metadata": {},
   "outputs": [],
   "source": [
    "# Topic: Loops\n",
    "for i in range(10): print(i*i)"
   ]
  },
  {
   "cell_type": "code",
   "execution_count": null,
   "id": "f0ab5e8e",
   "metadata": {},
   "outputs": [],
   "source": [
    "# Topic: OOP\n",
    "class Student:\n",
    "    def __init__(self, name): self.name = name\n",
    "s = Student('Fahd')\n",
    "print(s.name)"
   ]
  },
  {
   "cell_type": "code",
   "execution_count": null,
   "id": "0535c979",
   "metadata": {},
   "outputs": [],
   "source": [
    "# Topic: Regex\n",
    "import re\n",
    "text = 'email: test@example.com'\n",
    "print(re.findall(r'\\S+@\\S+', text))"
   ]
  },
  {
   "cell_type": "code",
   "execution_count": null,
   "id": "9d428dec",
   "metadata": {},
   "outputs": [],
   "source": [
    "# Topic: Algorithms\n",
    "# Bubble sort\n",
    "def bubble(arr):\n",
    " for i in range(len(arr)):\n",
    "  for j in range(0, len(arr)-i-1):\n",
    "   if arr[j]>arr[j+1]: arr[j],arr[j+1]=arr[j+1],arr[j]\n",
    "a=[5,3,8]\n",
    "bubble(a)\n",
    "print(a)"
   ]
  },
  {
   "cell_type": "code",
   "execution_count": null,
   "id": "50b9fca4",
   "metadata": {},
   "outputs": [],
   "source": [
    "# Topic: CLI Tools\n",
    "import sys\n",
    "print(f'Arguments: {sys.argv}')"
   ]
  },
  {
   "cell_type": "code",
   "execution_count": null,
   "id": "6673b464",
   "metadata": {},
   "outputs": [],
   "source": [
    "# Topic: Basics\n",
    "x = 10\n",
    "y = 20\n",
    "print(x + y)"
   ]
  },
  {
   "cell_type": "code",
   "execution_count": null,
   "id": "3f9e6b83",
   "metadata": {},
   "outputs": [],
   "source": [
    "# Topic: Regex\n",
    "import re\n",
    "text = 'email: test@example.com'\n",
    "print(re.findall(r'\\S+@\\S+', text))"
   ]
  },
  {
   "cell_type": "code",
   "execution_count": null,
   "id": "09afcbf2",
   "metadata": {},
   "outputs": [],
   "source": [
    "# Topic: NumPy\n",
    "import numpy as np\n",
    "print(np.linspace(0, 1, 5))"
   ]
  },
  {
   "cell_type": "code",
   "execution_count": null,
   "id": "7ec8e6d6",
   "metadata": {},
   "outputs": [],
   "source": [
    "# Topic: Web Scraping\n",
    "import requests\n",
    "from bs4 import BeautifulSoup\n",
    "r = requests.get('https://example.com')\n",
    "soup = BeautifulSoup(r.text, 'html.parser')\n",
    "print(soup.title.text)"
   ]
  },
  {
   "cell_type": "code",
   "execution_count": null,
   "id": "3b1cf06e",
   "metadata": {},
   "outputs": [],
   "source": [
    "# Topic: Decorators\n",
    "def log(func):\n",
    " def wrapper():\n",
    "  print('Call')\n",
    "  func()\n",
    " return wrapper\n",
    "@log\n",
    "def say(): print('Hi')\n",
    "say()"
   ]
  },
  {
   "cell_type": "code",
   "execution_count": null,
   "id": "5852d9cf",
   "metadata": {},
   "outputs": [],
   "source": [
    "# Topic: Data Cleaning\n",
    "import pandas as pd\n",
    "df = pd.DataFrame({'A':[1,None,3]})\n",
    "df = df.fillna(0)\n",
    "print(df)"
   ]
  },
  {
   "cell_type": "code",
   "execution_count": null,
   "id": "070a7042",
   "metadata": {},
   "outputs": [],
   "source": [
    "# Topic: JSON & CSV\n",
    "import csv\n",
    "with open('file.csv', 'w', newline='') as f:\n",
    " csv.writer(f).writerow(['a','b','c'])"
   ]
  },
  {
   "cell_type": "code",
   "execution_count": null,
   "id": "67a45252",
   "metadata": {},
   "outputs": [],
   "source": [
    "# Topic: Regex\n",
    "import re\n",
    "text = 'email: test@example.com'\n",
    "print(re.findall(r'\\S+@\\S+', text))"
   ]
  },
  {
   "cell_type": "code",
   "execution_count": null,
   "id": "b02e4692",
   "metadata": {},
   "outputs": [],
   "source": [
    "# Topic: Mini Projects\n",
    "# Calculator\n",
    "def calc(a,b,op): return eval(f'{a}{op}{b}')\n",
    "print(calc(5,2,'+'))"
   ]
  },
  {
   "cell_type": "code",
   "execution_count": null,
   "id": "1622f5ec",
   "metadata": {},
   "outputs": [],
   "source": [
    "# Topic: Algorithms\n",
    "# Bubble sort\n",
    "def bubble(arr):\n",
    " for i in range(len(arr)):\n",
    "  for j in range(0, len(arr)-i-1):\n",
    "   if arr[j]>arr[j+1]: arr[j],arr[j+1]=arr[j+1],arr[j]\n",
    "a=[5,3,8]\n",
    "bubble(a)\n",
    "print(a)"
   ]
  },
  {
   "cell_type": "code",
   "execution_count": null,
   "id": "b398fab5",
   "metadata": {},
   "outputs": [],
   "source": [
    "# Topic: Regex\n",
    "import re\n",
    "text = 'email: test@example.com'\n",
    "print(re.findall(r'\\S+@\\S+', text))"
   ]
  },
  {
   "cell_type": "code",
   "execution_count": null,
   "id": "1dba4a2d",
   "metadata": {},
   "outputs": [],
   "source": [
    "# Topic: Functions\n",
    "def square(x): return x*x\n",
    "print(square(5))"
   ]
  },
  {
   "cell_type": "code",
   "execution_count": null,
   "id": "32dd5aac",
   "metadata": {},
   "outputs": [],
   "source": [
    "# Topic: Pandas\n",
    "import pandas as pd\n",
    "df = pd.read_csv('file.csv')\n",
    "print(df.head())"
   ]
  },
  {
   "cell_type": "code",
   "execution_count": null,
   "id": "23deaf7f",
   "metadata": {},
   "outputs": [],
   "source": [
    "# Topic: Dictionaries & Sets\n",
    "s = set([1, 2, 3, 2])\n",
    "print(s)"
   ]
  },
  {
   "cell_type": "code",
   "execution_count": null,
   "id": "49f97754",
   "metadata": {},
   "outputs": [],
   "source": [
    "# Topic: Recursion\n",
    "def fact(n): return 1 if n==0 else n*fact(n-1)\n",
    "print(fact(5))"
   ]
  },
  {
   "cell_type": "code",
   "execution_count": null,
   "id": "0b2fe119",
   "metadata": {},
   "outputs": [],
   "source": [
    "# Topic: Loops\n",
    "while True:\n",
    "    print('Break')\n",
    "    break"
   ]
  },
  {
   "cell_type": "code",
   "execution_count": null,
   "id": "2bb24a99",
   "metadata": {},
   "outputs": [],
   "source": [
    "# Topic: CLI Tools\n",
    "import sys\n",
    "print(f'Arguments: {sys.argv}')"
   ]
  },
  {
   "cell_type": "code",
   "execution_count": null,
   "id": "57daba40",
   "metadata": {},
   "outputs": [],
   "source": [
    "# Topic: Functions\n",
    "def square(x): return x*x\n",
    "print(square(5))"
   ]
  },
  {
   "cell_type": "code",
   "execution_count": null,
   "id": "3160d7e7",
   "metadata": {},
   "outputs": [],
   "source": [
    "# Topic: Algorithms\n",
    "# Bubble sort\n",
    "def bubble(arr):\n",
    " for i in range(len(arr)):\n",
    "  for j in range(0, len(arr)-i-1):\n",
    "   if arr[j]>arr[j+1]: arr[j],arr[j+1]=arr[j+1],arr[j]\n",
    "a=[5,3,8]\n",
    "bubble(a)\n",
    "print(a)"
   ]
  },
  {
   "cell_type": "code",
   "execution_count": null,
   "id": "a88612fc",
   "metadata": {},
   "outputs": [],
   "source": [
    "# Topic: Data Cleaning\n",
    "import pandas as pd\n",
    "df = pd.DataFrame({'A':[1,None,3]})\n",
    "df = df.fillna(0)\n",
    "print(df)"
   ]
  },
  {
   "cell_type": "code",
   "execution_count": null,
   "id": "be0d7018",
   "metadata": {},
   "outputs": [],
   "source": [
    "# Topic: Pandas\n",
    "import pandas as pd\n",
    "df = pd.read_csv('file.csv')\n",
    "print(df.head())"
   ]
  },
  {
   "cell_type": "code",
   "execution_count": null,
   "id": "2f48aa72",
   "metadata": {},
   "outputs": [],
   "source": [
    "# Topic: JSON & CSV\n",
    "import csv\n",
    "with open('file.csv', 'w', newline='') as f:\n",
    " csv.writer(f).writerow(['a','b','c'])"
   ]
  },
  {
   "cell_type": "code",
   "execution_count": null,
   "id": "3d169214",
   "metadata": {},
   "outputs": [],
   "source": [
    "# Topic: Mini Projects\n",
    "# Palindrome check\n",
    "def is_pal(s): return s == s[::-1]\n",
    "print(is_pal('madam'))"
   ]
  },
  {
   "cell_type": "code",
   "execution_count": null,
   "id": "33c10195",
   "metadata": {},
   "outputs": [],
   "source": [
    "# Topic: Lists & Tuples\n",
    "lst = [1, 2, 3]\n",
    "lst.append(4)\n",
    "print(lst)"
   ]
  },
  {
   "cell_type": "code",
   "execution_count": null,
   "id": "0afbe4a5",
   "metadata": {},
   "outputs": [],
   "source": [
    "# Topic: NumPy\n",
    "import numpy as np\n",
    "a = np.array([1, 2, 3])\n",
    "print(a + 5)"
   ]
  },
  {
   "cell_type": "code",
   "execution_count": null,
   "id": "c242639c",
   "metadata": {},
   "outputs": [],
   "source": [
    "# Topic: Matplotlib & Seaborn\n",
    "import matplotlib.pyplot as plt\n",
    "plt.plot([1,2],[3,4])\n",
    "plt.show()"
   ]
  },
  {
   "cell_type": "code",
   "execution_count": null,
   "id": "294cfb6a",
   "metadata": {},
   "outputs": [],
   "source": [
    "# Topic: Recursion\n",
    "def fact(n): return 1 if n==0 else n*fact(n-1)\n",
    "print(fact(5))"
   ]
  },
  {
   "cell_type": "code",
   "execution_count": null,
   "id": "ef6c40e7",
   "metadata": {},
   "outputs": [],
   "source": [
    "# Topic: Loops\n",
    "for i in range(10): print(i*i)"
   ]
  },
  {
   "cell_type": "code",
   "execution_count": null,
   "id": "a8c755de",
   "metadata": {},
   "outputs": [],
   "source": [
    "# Topic: Mini Projects\n",
    "# Palindrome check\n",
    "def is_pal(s): return s == s[::-1]\n",
    "print(is_pal('madam'))"
   ]
  },
  {
   "cell_type": "code",
   "execution_count": null,
   "id": "10bb17f5",
   "metadata": {},
   "outputs": [],
   "source": [
    "# Topic: Decorators\n",
    "def log(func):\n",
    " def wrapper():\n",
    "  print('Call')\n",
    "  func()\n",
    " return wrapper\n",
    "@log\n",
    "def say(): print('Hi')\n",
    "say()"
   ]
  },
  {
   "cell_type": "code",
   "execution_count": null,
   "id": "f8ab26f0",
   "metadata": {},
   "outputs": [],
   "source": [
    "# Topic: NumPy\n",
    "import numpy as np\n",
    "print(np.linspace(0, 1, 5))"
   ]
  },
  {
   "cell_type": "code",
   "execution_count": null,
   "id": "ea575ce5",
   "metadata": {},
   "outputs": [],
   "source": [
    "# Topic: Mini Projects\n",
    "# Calculator\n",
    "def calc(a,b,op): return eval(f'{a}{op}{b}')\n",
    "print(calc(5,2,'+'))"
   ]
  },
  {
   "cell_type": "code",
   "execution_count": null,
   "id": "e93aeae1",
   "metadata": {},
   "outputs": [],
   "source": [
    "# Topic: Pandas\n",
    "import pandas as pd\n",
    "df = pd.read_csv('file.csv')\n",
    "print(df.head())"
   ]
  },
  {
   "cell_type": "code",
   "execution_count": null,
   "id": "9f896aa8",
   "metadata": {},
   "outputs": [],
   "source": [
    "# Topic: Recursion\n",
    "def fact(n): return 1 if n==0 else n*fact(n-1)\n",
    "print(fact(5))"
   ]
  },
  {
   "cell_type": "code",
   "execution_count": null,
   "id": "8958bdee",
   "metadata": {},
   "outputs": [],
   "source": [
    "# Topic: Dictionaries & Sets\n",
    "d = {'name': 'Fahd', 'age': 20}\n",
    "print(d.get('name'))"
   ]
  },
  {
   "cell_type": "code",
   "execution_count": null,
   "id": "bbfcc7a1",
   "metadata": {},
   "outputs": [],
   "source": [
    "# Topic: Dictionaries & Sets\n",
    "s = set([1, 2, 3, 2])\n",
    "print(s)"
   ]
  },
  {
   "cell_type": "code",
   "execution_count": null,
   "id": "4e679678",
   "metadata": {},
   "outputs": [],
   "source": [
    "# Topic: Decorators\n",
    "def log(func):\n",
    " def wrapper():\n",
    "  print('Call')\n",
    "  func()\n",
    " return wrapper\n",
    "@log\n",
    "def say(): print('Hi')\n",
    "say()"
   ]
  },
  {
   "cell_type": "code",
   "execution_count": null,
   "id": "3695b5c8",
   "metadata": {},
   "outputs": [],
   "source": [
    "# Topic: Decorators\n",
    "def log(func):\n",
    " def wrapper():\n",
    "  print('Call')\n",
    "  func()\n",
    " return wrapper\n",
    "@log\n",
    "def say(): print('Hi')\n",
    "say()"
   ]
  },
  {
   "cell_type": "code",
   "execution_count": null,
   "id": "90973c2d",
   "metadata": {},
   "outputs": [],
   "source": [
    "# Topic: Basic ML\n",
    "from sklearn.linear_model import LinearRegression\n",
    "model = LinearRegression()\n",
    "print(model)"
   ]
  },
  {
   "cell_type": "code",
   "execution_count": null,
   "id": "f0096a25",
   "metadata": {},
   "outputs": [],
   "source": [
    "# Topic: OOP\n",
    "class Student:\n",
    "    def __init__(self, name): self.name = name\n",
    "s = Student('Fahd')\n",
    "print(s.name)"
   ]
  },
  {
   "cell_type": "code",
   "execution_count": null,
   "id": "9de76b33",
   "metadata": {},
   "outputs": [],
   "source": [
    "# Topic: Loops\n",
    "while True:\n",
    "    print('Break')\n",
    "    break"
   ]
  },
  {
   "cell_type": "code",
   "execution_count": null,
   "id": "517004dd",
   "metadata": {},
   "outputs": [],
   "source": [
    "# Topic: Loops\n",
    "for i in range(10): print(i*i)"
   ]
  },
  {
   "cell_type": "code",
   "execution_count": null,
   "id": "dba98ab7",
   "metadata": {},
   "outputs": [],
   "source": [
    "# Topic: Loops\n",
    "while True:\n",
    "    print('Break')\n",
    "    break"
   ]
  },
  {
   "cell_type": "code",
   "execution_count": null,
   "id": "6a4c426a",
   "metadata": {},
   "outputs": [],
   "source": [
    "# Topic: NumPy\n",
    "import numpy as np\n",
    "a = np.array([1, 2, 3])\n",
    "print(a + 5)"
   ]
  },
  {
   "cell_type": "code",
   "execution_count": null,
   "id": "3e0ccd0b",
   "metadata": {},
   "outputs": [],
   "source": [
    "# Topic: Recursion\n",
    "def fact(n): return 1 if n==0 else n*fact(n-1)\n",
    "print(fact(5))"
   ]
  },
  {
   "cell_type": "code",
   "execution_count": null,
   "id": "880fcf7e",
   "metadata": {},
   "outputs": [],
   "source": [
    "# Topic: Pandas\n",
    "import pandas as pd\n",
    "df = pd.DataFrame({'A':[1,2],'B':[3,4]})\n",
    "print(df)"
   ]
  },
  {
   "cell_type": "code",
   "execution_count": null,
   "id": "751d4246",
   "metadata": {},
   "outputs": [],
   "source": [
    "# Topic: Lists & Tuples\n",
    "lst = [1, 2, 3]\n",
    "lst.append(4)\n",
    "print(lst)"
   ]
  },
  {
   "cell_type": "code",
   "execution_count": null,
   "id": "52ca6a7e",
   "metadata": {},
   "outputs": [],
   "source": [
    "# Topic: File I/O\n",
    "with open('test.txt', 'r') as f:\n",
    "    print(f.read())"
   ]
  },
  {
   "cell_type": "code",
   "execution_count": null,
   "id": "42c87f1b",
   "metadata": {},
   "outputs": [],
   "source": [
    "# Topic: Regex\n",
    "import re\n",
    "text = 'email: test@example.com'\n",
    "print(re.findall(r'\\S+@\\S+', text))"
   ]
  },
  {
   "cell_type": "code",
   "execution_count": null,
   "id": "2fb4b207",
   "metadata": {},
   "outputs": [],
   "source": [
    "# Topic: Matplotlib & Seaborn\n",
    "import seaborn as sns\n",
    "import pandas as pd\n",
    "sns.set()\n",
    "sns.histplot(pd.Series([1,2,2,3]));"
   ]
  },
  {
   "cell_type": "code",
   "execution_count": null,
   "id": "40b4c47d",
   "metadata": {},
   "outputs": [],
   "source": [
    "# Topic: Basics\n",
    "x = 10\n",
    "y = 20\n",
    "print(x + y)"
   ]
  },
  {
   "cell_type": "code",
   "execution_count": null,
   "id": "49c80ad3",
   "metadata": {},
   "outputs": [],
   "source": [
    "# Topic: Decorators\n",
    "def log(func):\n",
    " def wrapper():\n",
    "  print('Call')\n",
    "  func()\n",
    " return wrapper\n",
    "@log\n",
    "def say(): print('Hi')\n",
    "say()"
   ]
  },
  {
   "cell_type": "code",
   "execution_count": null,
   "id": "919044f6",
   "metadata": {},
   "outputs": [],
   "source": [
    "# Topic: Basics\n",
    "name = 'Fahd'\n",
    "print(f'Hello, {name}')"
   ]
  },
  {
   "cell_type": "code",
   "execution_count": null,
   "id": "f84b9dcc",
   "metadata": {},
   "outputs": [],
   "source": [
    "# Topic: Web Scraping\n",
    "import requests\n",
    "from bs4 import BeautifulSoup\n",
    "r = requests.get('https://example.com')\n",
    "soup = BeautifulSoup(r.text, 'html.parser')\n",
    "print(soup.title.text)"
   ]
  },
  {
   "cell_type": "code",
   "execution_count": null,
   "id": "35620f5d",
   "metadata": {},
   "outputs": [],
   "source": [
    "# Topic: Lists & Tuples\n",
    "t = (1, 2, 3)\n",
    "print(t[0])"
   ]
  },
  {
   "cell_type": "code",
   "execution_count": null,
   "id": "7402106e",
   "metadata": {},
   "outputs": [],
   "source": [
    "# Topic: Basic ML\n",
    "from sklearn.linear_model import LinearRegression\n",
    "model = LinearRegression()\n",
    "print(model)"
   ]
  },
  {
   "cell_type": "code",
   "execution_count": null,
   "id": "a7b82839",
   "metadata": {},
   "outputs": [],
   "source": [
    "# Topic: Dictionaries & Sets\n",
    "s = set([1, 2, 3, 2])\n",
    "print(s)"
   ]
  },
  {
   "cell_type": "code",
   "execution_count": null,
   "id": "854157d1",
   "metadata": {},
   "outputs": [],
   "source": [
    "# Topic: Data Cleaning\n",
    "import pandas as pd\n",
    "df = pd.DataFrame({'A':[1,None,3]})\n",
    "df = df.fillna(0)\n",
    "print(df)"
   ]
  },
  {
   "cell_type": "code",
   "execution_count": null,
   "id": "860fec6c",
   "metadata": {},
   "outputs": [],
   "source": [
    "# Topic: Web Scraping\n",
    "import requests\n",
    "from bs4 import BeautifulSoup\n",
    "r = requests.get('https://example.com')\n",
    "soup = BeautifulSoup(r.text, 'html.parser')\n",
    "print(soup.title.text)"
   ]
  },
  {
   "cell_type": "code",
   "execution_count": null,
   "id": "ac119bde",
   "metadata": {},
   "outputs": [],
   "source": [
    "# Topic: Web Scraping\n",
    "import requests\n",
    "from bs4 import BeautifulSoup\n",
    "r = requests.get('https://example.com')\n",
    "soup = BeautifulSoup(r.text, 'html.parser')\n",
    "print(soup.title.text)"
   ]
  },
  {
   "cell_type": "code",
   "execution_count": null,
   "id": "d4242b7e",
   "metadata": {},
   "outputs": [],
   "source": [
    "# Topic: File I/O\n",
    "with open('test.txt', 'w') as f:\n",
    "    f.write('Hello World')"
   ]
  },
  {
   "cell_type": "code",
   "execution_count": null,
   "id": "27155850",
   "metadata": {},
   "outputs": [],
   "source": [
    "# Topic: Pandas\n",
    "import pandas as pd\n",
    "df = pd.read_csv('file.csv')\n",
    "print(df.head())"
   ]
  },
  {
   "cell_type": "code",
   "execution_count": null,
   "id": "e43a180c",
   "metadata": {},
   "outputs": [],
   "source": [
    "# Topic: Functions\n",
    "def square(x): return x*x\n",
    "print(square(5))"
   ]
  },
  {
   "cell_type": "code",
   "execution_count": null,
   "id": "f01b167b",
   "metadata": {},
   "outputs": [],
   "source": [
    "# Topic: Mini Projects\n",
    "# Palindrome check\n",
    "def is_pal(s): return s == s[::-1]\n",
    "print(is_pal('madam'))"
   ]
  },
  {
   "cell_type": "code",
   "execution_count": null,
   "id": "4099c999",
   "metadata": {},
   "outputs": [],
   "source": [
    "# Topic: Decorators\n",
    "def log(func):\n",
    " def wrapper():\n",
    "  print('Call')\n",
    "  func()\n",
    " return wrapper\n",
    "@log\n",
    "def say(): print('Hi')\n",
    "say()"
   ]
  },
  {
   "cell_type": "code",
   "execution_count": null,
   "id": "e3083ef8",
   "metadata": {},
   "outputs": [],
   "source": [
    "# Topic: Matplotlib & Seaborn\n",
    "import seaborn as sns\n",
    "import pandas as pd\n",
    "sns.set()\n",
    "sns.histplot(pd.Series([1,2,2,3]));"
   ]
  },
  {
   "cell_type": "code",
   "execution_count": null,
   "id": "4b8960a8",
   "metadata": {},
   "outputs": [],
   "source": [
    "# Topic: Algorithms\n",
    "# Bubble sort\n",
    "def bubble(arr):\n",
    " for i in range(len(arr)):\n",
    "  for j in range(0, len(arr)-i-1):\n",
    "   if arr[j]>arr[j+1]: arr[j],arr[j+1]=arr[j+1],arr[j]\n",
    "a=[5,3,8]\n",
    "bubble(a)\n",
    "print(a)"
   ]
  },
  {
   "cell_type": "code",
   "execution_count": null,
   "id": "7cbeb2ea",
   "metadata": {},
   "outputs": [],
   "source": [
    "# Topic: OOP\n",
    "class Student:\n",
    "    def __init__(self, name): self.name = name\n",
    "s = Student('Fahd')\n",
    "print(s.name)"
   ]
  },
  {
   "cell_type": "code",
   "execution_count": null,
   "id": "1ee45b42",
   "metadata": {},
   "outputs": [],
   "source": [
    "# Topic: Functions\n",
    "def greet(name='User'):\n",
    "    print(f'Hi, {name}')\n",
    "greet()"
   ]
  },
  {
   "cell_type": "code",
   "execution_count": null,
   "id": "2fa0adf1",
   "metadata": {},
   "outputs": [],
   "source": [
    "# Topic: Recursion\n",
    "def fact(n): return 1 if n==0 else n*fact(n-1)\n",
    "print(fact(5))"
   ]
  },
  {
   "cell_type": "code",
   "execution_count": null,
   "id": "643f6f5d",
   "metadata": {},
   "outputs": [],
   "source": [
    "# Topic: Decorators\n",
    "def log(func):\n",
    " def wrapper():\n",
    "  print('Call')\n",
    "  func()\n",
    " return wrapper\n",
    "@log\n",
    "def say(): print('Hi')\n",
    "say()"
   ]
  },
  {
   "cell_type": "code",
   "execution_count": null,
   "id": "05728d99",
   "metadata": {},
   "outputs": [],
   "source": [
    "# Topic: Functions\n",
    "def square(x): return x*x\n",
    "print(square(5))"
   ]
  },
  {
   "cell_type": "code",
   "execution_count": null,
   "id": "6f866574",
   "metadata": {},
   "outputs": [],
   "source": [
    "# Topic: Pandas\n",
    "import pandas as pd\n",
    "df = pd.read_csv('file.csv')\n",
    "print(df.head())"
   ]
  },
  {
   "cell_type": "code",
   "execution_count": null,
   "id": "b569626d",
   "metadata": {},
   "outputs": [],
   "source": [
    "# Topic: NumPy\n",
    "import numpy as np\n",
    "a = np.array([1, 2, 3])\n",
    "print(a + 5)"
   ]
  },
  {
   "cell_type": "code",
   "execution_count": null,
   "id": "8df1ecc5",
   "metadata": {},
   "outputs": [],
   "source": [
    "# Topic: Data Cleaning\n",
    "import pandas as pd\n",
    "df = pd.DataFrame({'A':[1,None,3]})\n",
    "df = df.fillna(0)\n",
    "print(df)"
   ]
  },
  {
   "cell_type": "code",
   "execution_count": null,
   "id": "fd27e1aa",
   "metadata": {},
   "outputs": [],
   "source": [
    "# Topic: Data Cleaning\n",
    "import pandas as pd\n",
    "df = pd.DataFrame({'A':[1,None,3]})\n",
    "df = df.fillna(0)\n",
    "print(df)"
   ]
  },
  {
   "cell_type": "code",
   "execution_count": null,
   "id": "b339c9a1",
   "metadata": {},
   "outputs": [],
   "source": [
    "# Topic: Algorithms\n",
    "# Bubble sort\n",
    "def bubble(arr):\n",
    " for i in range(len(arr)):\n",
    "  for j in range(0, len(arr)-i-1):\n",
    "   if arr[j]>arr[j+1]: arr[j],arr[j+1]=arr[j+1],arr[j]\n",
    "a=[5,3,8]\n",
    "bubble(a)\n",
    "print(a)"
   ]
  },
  {
   "cell_type": "code",
   "execution_count": null,
   "id": "9badb18f",
   "metadata": {},
   "outputs": [],
   "source": [
    "# Topic: File I/O\n",
    "with open('test.txt', 'r') as f:\n",
    "    print(f.read())"
   ]
  },
  {
   "cell_type": "code",
   "execution_count": null,
   "id": "6c8d1628",
   "metadata": {},
   "outputs": [],
   "source": [
    "# Topic: Pandas\n",
    "import pandas as pd\n",
    "df = pd.DataFrame({'A':[1,2],'B':[3,4]})\n",
    "print(df)"
   ]
  },
  {
   "cell_type": "code",
   "execution_count": null,
   "id": "6b5210b3",
   "metadata": {},
   "outputs": [],
   "source": [
    "# Topic: Decorators\n",
    "def log(func):\n",
    " def wrapper():\n",
    "  print('Call')\n",
    "  func()\n",
    " return wrapper\n",
    "@log\n",
    "def say(): print('Hi')\n",
    "say()"
   ]
  },
  {
   "cell_type": "code",
   "execution_count": null,
   "id": "334b7427",
   "metadata": {},
   "outputs": [],
   "source": [
    "# Topic: Recursion\n",
    "def fact(n): return 1 if n==0 else n*fact(n-1)\n",
    "print(fact(5))"
   ]
  },
  {
   "cell_type": "code",
   "execution_count": null,
   "id": "8ef57b98",
   "metadata": {},
   "outputs": [],
   "source": [
    "# Topic: NumPy\n",
    "import numpy as np\n",
    "a = np.array([1, 2, 3])\n",
    "print(a + 5)"
   ]
  },
  {
   "cell_type": "code",
   "execution_count": null,
   "id": "caf2b05e",
   "metadata": {},
   "outputs": [],
   "source": [
    "# Topic: Regex\n",
    "import re\n",
    "text = 'email: test@example.com'\n",
    "print(re.findall(r'\\S+@\\S+', text))"
   ]
  },
  {
   "cell_type": "code",
   "execution_count": null,
   "id": "27d040f9",
   "metadata": {},
   "outputs": [],
   "source": [
    "# Topic: OOP\n",
    "class Student:\n",
    "    def __init__(self, name): self.name = name\n",
    "s = Student('Fahd')\n",
    "print(s.name)"
   ]
  },
  {
   "cell_type": "code",
   "execution_count": null,
   "id": "085beb40",
   "metadata": {},
   "outputs": [],
   "source": [
    "# Topic: File I/O\n",
    "with open('test.txt', 'w') as f:\n",
    "    f.write('Hello World')"
   ]
  },
  {
   "cell_type": "code",
   "execution_count": null,
   "id": "55e78e0a",
   "metadata": {},
   "outputs": [],
   "source": [
    "# Topic: File I/O\n",
    "with open('test.txt', 'r') as f:\n",
    "    print(f.read())"
   ]
  },
  {
   "cell_type": "code",
   "execution_count": null,
   "id": "a22d459e",
   "metadata": {},
   "outputs": [],
   "source": [
    "# Topic: JSON & CSV\n",
    "import json\n",
    "data = {'a': 1}\n",
    "print(json.dumps(data))"
   ]
  },
  {
   "cell_type": "code",
   "execution_count": null,
   "id": "8056d247",
   "metadata": {},
   "outputs": [],
   "source": [
    "# Topic: Recursion\n",
    "def fact(n): return 1 if n==0 else n*fact(n-1)\n",
    "print(fact(5))"
   ]
  },
  {
   "cell_type": "code",
   "execution_count": null,
   "id": "9c17f89d",
   "metadata": {},
   "outputs": [],
   "source": [
    "# Topic: Loops\n",
    "while True:\n",
    "    print('Break')\n",
    "    break"
   ]
  },
  {
   "cell_type": "code",
   "execution_count": null,
   "id": "fe41dd3b",
   "metadata": {},
   "outputs": [],
   "source": [
    "# Topic: Basics\n",
    "name = 'Fahd'\n",
    "print(f'Hello, {name}')"
   ]
  },
  {
   "cell_type": "code",
   "execution_count": null,
   "id": "75db8e40",
   "metadata": {},
   "outputs": [],
   "source": [
    "# Topic: NumPy\n",
    "import numpy as np\n",
    "print(np.linspace(0, 1, 5))"
   ]
  },
  {
   "cell_type": "code",
   "execution_count": null,
   "id": "8acbd10f",
   "metadata": {},
   "outputs": [],
   "source": [
    "# Topic: Basic ML\n",
    "from sklearn.linear_model import LinearRegression\n",
    "model = LinearRegression()\n",
    "print(model)"
   ]
  },
  {
   "cell_type": "code",
   "execution_count": null,
   "id": "5ce25906",
   "metadata": {},
   "outputs": [],
   "source": [
    "# Topic: Web Scraping\n",
    "import requests\n",
    "from bs4 import BeautifulSoup\n",
    "r = requests.get('https://example.com')\n",
    "soup = BeautifulSoup(r.text, 'html.parser')\n",
    "print(soup.title.text)"
   ]
  },
  {
   "cell_type": "code",
   "execution_count": null,
   "id": "4e7ddfe9",
   "metadata": {},
   "outputs": [],
   "source": [
    "# Topic: Matplotlib & Seaborn\n",
    "import seaborn as sns\n",
    "import pandas as pd\n",
    "sns.set()\n",
    "sns.histplot(pd.Series([1,2,2,3]));"
   ]
  },
  {
   "cell_type": "code",
   "execution_count": null,
   "id": "844e908c",
   "metadata": {},
   "outputs": [],
   "source": [
    "# Topic: Decorators\n",
    "def log(func):\n",
    " def wrapper():\n",
    "  print('Call')\n",
    "  func()\n",
    " return wrapper\n",
    "@log\n",
    "def say(): print('Hi')\n",
    "say()"
   ]
  },
  {
   "cell_type": "code",
   "execution_count": null,
   "id": "1fa38607",
   "metadata": {},
   "outputs": [],
   "source": [
    "# Topic: File I/O\n",
    "with open('test.txt', 'r') as f:\n",
    "    print(f.read())"
   ]
  },
  {
   "cell_type": "code",
   "execution_count": null,
   "id": "57e6a289",
   "metadata": {},
   "outputs": [],
   "source": [
    "# Topic: Algorithms\n",
    "# Bubble sort\n",
    "def bubble(arr):\n",
    " for i in range(len(arr)):\n",
    "  for j in range(0, len(arr)-i-1):\n",
    "   if arr[j]>arr[j+1]: arr[j],arr[j+1]=arr[j+1],arr[j]\n",
    "a=[5,3,8]\n",
    "bubble(a)\n",
    "print(a)"
   ]
  },
  {
   "cell_type": "code",
   "execution_count": null,
   "id": "65cde392",
   "metadata": {},
   "outputs": [],
   "source": [
    "# Topic: Pandas\n",
    "import pandas as pd\n",
    "df = pd.DataFrame({'A':[1,2],'B':[3,4]})\n",
    "print(df)"
   ]
  },
  {
   "cell_type": "code",
   "execution_count": null,
   "id": "ea8ec1aa",
   "metadata": {},
   "outputs": [],
   "source": [
    "# Topic: Dictionaries & Sets\n",
    "s = set([1, 2, 3, 2])\n",
    "print(s)"
   ]
  },
  {
   "cell_type": "code",
   "execution_count": null,
   "id": "8802ced1",
   "metadata": {},
   "outputs": [],
   "source": [
    "# Topic: Pandas\n",
    "import pandas as pd\n",
    "df = pd.DataFrame({'A':[1,2],'B':[3,4]})\n",
    "print(df)"
   ]
  },
  {
   "cell_type": "code",
   "execution_count": null,
   "id": "6e79edd9",
   "metadata": {},
   "outputs": [],
   "source": [
    "# Topic: Basics\n",
    "x = 10\n",
    "y = 20\n",
    "print(x + y)"
   ]
  },
  {
   "cell_type": "code",
   "execution_count": null,
   "id": "14e92da4",
   "metadata": {},
   "outputs": [],
   "source": [
    "# Topic: Loops\n",
    "for i in range(10): print(i*i)"
   ]
  },
  {
   "cell_type": "code",
   "execution_count": null,
   "id": "00cf348b",
   "metadata": {},
   "outputs": [],
   "source": [
    "# Topic: Loops\n",
    "while True:\n",
    "    print('Break')\n",
    "    break"
   ]
  },
  {
   "cell_type": "code",
   "execution_count": null,
   "id": "b027ba4b",
   "metadata": {},
   "outputs": [],
   "source": [
    "# Topic: Data Cleaning\n",
    "import pandas as pd\n",
    "df = pd.DataFrame({'A':[1,None,3]})\n",
    "df = df.fillna(0)\n",
    "print(df)"
   ]
  },
  {
   "cell_type": "code",
   "execution_count": null,
   "id": "1d091cea",
   "metadata": {},
   "outputs": [],
   "source": [
    "# Topic: Loops\n",
    "for i in range(10): print(i*i)"
   ]
  },
  {
   "cell_type": "code",
   "execution_count": null,
   "id": "1dd3e4aa",
   "metadata": {},
   "outputs": [],
   "source": [
    "# Topic: File I/O\n",
    "with open('test.txt', 'r') as f:\n",
    "    print(f.read())"
   ]
  },
  {
   "cell_type": "code",
   "execution_count": null,
   "id": "546e0314",
   "metadata": {},
   "outputs": [],
   "source": [
    "# Topic: Algorithms\n",
    "# Bubble sort\n",
    "def bubble(arr):\n",
    " for i in range(len(arr)):\n",
    "  for j in range(0, len(arr)-i-1):\n",
    "   if arr[j]>arr[j+1]: arr[j],arr[j+1]=arr[j+1],arr[j]\n",
    "a=[5,3,8]\n",
    "bubble(a)\n",
    "print(a)"
   ]
  },
  {
   "cell_type": "code",
   "execution_count": null,
   "id": "a600b908",
   "metadata": {},
   "outputs": [],
   "source": [
    "# Topic: Loops\n",
    "for i in range(10): print(i*i)"
   ]
  },
  {
   "cell_type": "code",
   "execution_count": null,
   "id": "2ea66138",
   "metadata": {},
   "outputs": [],
   "source": [
    "# Topic: File I/O\n",
    "with open('test.txt', 'r') as f:\n",
    "    print(f.read())"
   ]
  },
  {
   "cell_type": "code",
   "execution_count": null,
   "id": "24551494",
   "metadata": {},
   "outputs": [],
   "source": [
    "# Topic: Algorithms\n",
    "# Bubble sort\n",
    "def bubble(arr):\n",
    " for i in range(len(arr)):\n",
    "  for j in range(0, len(arr)-i-1):\n",
    "   if arr[j]>arr[j+1]: arr[j],arr[j+1]=arr[j+1],arr[j]\n",
    "a=[5,3,8]\n",
    "bubble(a)\n",
    "print(a)"
   ]
  },
  {
   "cell_type": "code",
   "execution_count": null,
   "id": "1726e585",
   "metadata": {},
   "outputs": [],
   "source": [
    "# Topic: Basic ML\n",
    "from sklearn.linear_model import LinearRegression\n",
    "model = LinearRegression()\n",
    "print(model)"
   ]
  },
  {
   "cell_type": "code",
   "execution_count": null,
   "id": "59ca991a",
   "metadata": {},
   "outputs": [],
   "source": [
    "# Topic: Dictionaries & Sets\n",
    "s = set([1, 2, 3, 2])\n",
    "print(s)"
   ]
  },
  {
   "cell_type": "code",
   "execution_count": null,
   "id": "c0af94ae",
   "metadata": {},
   "outputs": [],
   "source": [
    "# Topic: Functions\n",
    "def greet(name='User'):\n",
    "    print(f'Hi, {name}')\n",
    "greet()"
   ]
  },
  {
   "cell_type": "code",
   "execution_count": null,
   "id": "cf0363a3",
   "metadata": {},
   "outputs": [],
   "source": [
    "# Topic: Regex\n",
    "import re\n",
    "text = 'email: test@example.com'\n",
    "print(re.findall(r'\\S+@\\S+', text))"
   ]
  },
  {
   "cell_type": "code",
   "execution_count": null,
   "id": "eb8a4ab3",
   "metadata": {},
   "outputs": [],
   "source": [
    "# Topic: Decorators\n",
    "def log(func):\n",
    " def wrapper():\n",
    "  print('Call')\n",
    "  func()\n",
    " return wrapper\n",
    "@log\n",
    "def say(): print('Hi')\n",
    "say()"
   ]
  },
  {
   "cell_type": "code",
   "execution_count": null,
   "id": "17dcce1d",
   "metadata": {},
   "outputs": [],
   "source": [
    "# Topic: Pandas\n",
    "import pandas as pd\n",
    "df = pd.read_csv('file.csv')\n",
    "print(df.head())"
   ]
  },
  {
   "cell_type": "code",
   "execution_count": null,
   "id": "217448d4",
   "metadata": {},
   "outputs": [],
   "source": [
    "# Topic: Basics\n",
    "name = 'Fahd'\n",
    "print(f'Hello, {name}')"
   ]
  },
  {
   "cell_type": "code",
   "execution_count": null,
   "id": "8573300f",
   "metadata": {},
   "outputs": [],
   "source": [
    "# Topic: JSON & CSV\n",
    "import csv\n",
    "with open('file.csv', 'w', newline='') as f:\n",
    " csv.writer(f).writerow(['a','b','c'])"
   ]
  },
  {
   "cell_type": "code",
   "execution_count": null,
   "id": "776a70c7",
   "metadata": {},
   "outputs": [],
   "source": [
    "# Topic: Loops\n",
    "for i in range(10): print(i*i)"
   ]
  },
  {
   "cell_type": "code",
   "execution_count": null,
   "id": "696f6995",
   "metadata": {},
   "outputs": [],
   "source": [
    "# Topic: Basics\n",
    "name = 'Fahd'\n",
    "print(f'Hello, {name}')"
   ]
  },
  {
   "cell_type": "code",
   "execution_count": null,
   "id": "7d013d01",
   "metadata": {},
   "outputs": [],
   "source": [
    "# Topic: Recursion\n",
    "def fact(n): return 1 if n==0 else n*fact(n-1)\n",
    "print(fact(5))"
   ]
  },
  {
   "cell_type": "code",
   "execution_count": null,
   "id": "867a4a55",
   "metadata": {},
   "outputs": [],
   "source": [
    "# Topic: Functions\n",
    "def square(x): return x*x\n",
    "print(square(5))"
   ]
  },
  {
   "cell_type": "code",
   "execution_count": null,
   "id": "19375e1c",
   "metadata": {},
   "outputs": [],
   "source": [
    "# Topic: Functions\n",
    "def greet(name='User'):\n",
    "    print(f'Hi, {name}')\n",
    "greet()"
   ]
  },
  {
   "cell_type": "code",
   "execution_count": null,
   "id": "f83ff75e",
   "metadata": {},
   "outputs": [],
   "source": [
    "# Topic: Basic ML\n",
    "from sklearn.linear_model import LinearRegression\n",
    "model = LinearRegression()\n",
    "print(model)"
   ]
  },
  {
   "cell_type": "code",
   "execution_count": null,
   "id": "b40bf2ce",
   "metadata": {},
   "outputs": [],
   "source": [
    "# Topic: Web Scraping\n",
    "import requests\n",
    "from bs4 import BeautifulSoup\n",
    "r = requests.get('https://example.com')\n",
    "soup = BeautifulSoup(r.text, 'html.parser')\n",
    "print(soup.title.text)"
   ]
  },
  {
   "cell_type": "code",
   "execution_count": null,
   "id": "5928eaff",
   "metadata": {},
   "outputs": [],
   "source": [
    "# Topic: Matplotlib & Seaborn\n",
    "import matplotlib.pyplot as plt\n",
    "plt.plot([1,2],[3,4])\n",
    "plt.show()"
   ]
  },
  {
   "cell_type": "code",
   "execution_count": null,
   "id": "ae116024",
   "metadata": {},
   "outputs": [],
   "source": [
    "# Topic: Data Cleaning\n",
    "import pandas as pd\n",
    "df = pd.DataFrame({'A':[1,None,3]})\n",
    "df = df.fillna(0)\n",
    "print(df)"
   ]
  },
  {
   "cell_type": "code",
   "execution_count": null,
   "id": "14131a68",
   "metadata": {},
   "outputs": [],
   "source": [
    "# Topic: Matplotlib & Seaborn\n",
    "import seaborn as sns\n",
    "import pandas as pd\n",
    "sns.set()\n",
    "sns.histplot(pd.Series([1,2,2,3]));"
   ]
  },
  {
   "cell_type": "code",
   "execution_count": null,
   "id": "05a0b773",
   "metadata": {},
   "outputs": [],
   "source": [
    "# Topic: Recursion\n",
    "def fact(n): return 1 if n==0 else n*fact(n-1)\n",
    "print(fact(5))"
   ]
  },
  {
   "cell_type": "code",
   "execution_count": null,
   "id": "d2647305",
   "metadata": {},
   "outputs": [],
   "source": [
    "# Topic: Dictionaries & Sets\n",
    "d = {'name': 'Fahd', 'age': 20}\n",
    "print(d.get('name'))"
   ]
  },
  {
   "cell_type": "code",
   "execution_count": null,
   "id": "f6b63b46",
   "metadata": {},
   "outputs": [],
   "source": [
    "# Topic: Web Scraping\n",
    "import requests\n",
    "from bs4 import BeautifulSoup\n",
    "r = requests.get('https://example.com')\n",
    "soup = BeautifulSoup(r.text, 'html.parser')\n",
    "print(soup.title.text)"
   ]
  },
  {
   "cell_type": "code",
   "execution_count": null,
   "id": "df5bc860",
   "metadata": {},
   "outputs": [],
   "source": [
    "# Topic: Regex\n",
    "import re\n",
    "text = 'email: test@example.com'\n",
    "print(re.findall(r'\\S+@\\S+', text))"
   ]
  },
  {
   "cell_type": "code",
   "execution_count": null,
   "id": "44b99aa1",
   "metadata": {},
   "outputs": [],
   "source": [
    "# Topic: NumPy\n",
    "import numpy as np\n",
    "a = np.array([1, 2, 3])\n",
    "print(a + 5)"
   ]
  },
  {
   "cell_type": "code",
   "execution_count": null,
   "id": "b78b868f",
   "metadata": {},
   "outputs": [],
   "source": [
    "# Topic: Dictionaries & Sets\n",
    "s = set([1, 2, 3, 2])\n",
    "print(s)"
   ]
  },
  {
   "cell_type": "code",
   "execution_count": null,
   "id": "fe160681",
   "metadata": {},
   "outputs": [],
   "source": [
    "# Topic: OOP\n",
    "class Student:\n",
    "    def __init__(self, name): self.name = name\n",
    "s = Student('Fahd')\n",
    "print(s.name)"
   ]
  },
  {
   "cell_type": "code",
   "execution_count": null,
   "id": "0563520a",
   "metadata": {},
   "outputs": [],
   "source": [
    "# Topic: Recursion\n",
    "def fact(n): return 1 if n==0 else n*fact(n-1)\n",
    "print(fact(5))"
   ]
  },
  {
   "cell_type": "code",
   "execution_count": null,
   "id": "355f4705",
   "metadata": {},
   "outputs": [],
   "source": [
    "# Topic: OOP\n",
    "class Student:\n",
    "    def __init__(self, name): self.name = name\n",
    "s = Student('Fahd')\n",
    "print(s.name)"
   ]
  },
  {
   "cell_type": "code",
   "execution_count": null,
   "id": "1f3b2ed1",
   "metadata": {},
   "outputs": [],
   "source": [
    "# Topic: Recursion\n",
    "def fact(n): return 1 if n==0 else n*fact(n-1)\n",
    "print(fact(5))"
   ]
  },
  {
   "cell_type": "code",
   "execution_count": null,
   "id": "ac8fc8ee",
   "metadata": {},
   "outputs": [],
   "source": [
    "# Topic: Decorators\n",
    "def log(func):\n",
    " def wrapper():\n",
    "  print('Call')\n",
    "  func()\n",
    " return wrapper\n",
    "@log\n",
    "def say(): print('Hi')\n",
    "say()"
   ]
  },
  {
   "cell_type": "code",
   "execution_count": null,
   "id": "bd5f6798",
   "metadata": {},
   "outputs": [],
   "source": [
    "# Topic: Matplotlib & Seaborn\n",
    "import matplotlib.pyplot as plt\n",
    "plt.plot([1,2],[3,4])\n",
    "plt.show()"
   ]
  },
  {
   "cell_type": "code",
   "execution_count": null,
   "id": "10be88ce",
   "metadata": {},
   "outputs": [],
   "source": [
    "# Topic: Pandas\n",
    "import pandas as pd\n",
    "df = pd.read_csv('file.csv')\n",
    "print(df.head())"
   ]
  },
  {
   "cell_type": "code",
   "execution_count": null,
   "id": "e8adf9ca",
   "metadata": {},
   "outputs": [],
   "source": [
    "# Topic: OOP\n",
    "class Student:\n",
    "    def __init__(self, name): self.name = name\n",
    "s = Student('Fahd')\n",
    "print(s.name)"
   ]
  },
  {
   "cell_type": "code",
   "execution_count": null,
   "id": "9485de0a",
   "metadata": {},
   "outputs": [],
   "source": [
    "# Topic: Basics\n",
    "x = 10\n",
    "y = 20\n",
    "print(x + y)"
   ]
  },
  {
   "cell_type": "code",
   "execution_count": null,
   "id": "ccd8a626",
   "metadata": {},
   "outputs": [],
   "source": [
    "# Topic: Dictionaries & Sets\n",
    "d = {'name': 'Fahd', 'age': 20}\n",
    "print(d.get('name'))"
   ]
  },
  {
   "cell_type": "code",
   "execution_count": null,
   "id": "394a4073",
   "metadata": {},
   "outputs": [],
   "source": [
    "# Topic: Functions\n",
    "def greet(name='User'):\n",
    "    print(f'Hi, {name}')\n",
    "greet()"
   ]
  },
  {
   "cell_type": "code",
   "execution_count": null,
   "id": "cc51186d",
   "metadata": {},
   "outputs": [],
   "source": [
    "# Topic: Basic ML\n",
    "from sklearn.linear_model import LinearRegression\n",
    "model = LinearRegression()\n",
    "print(model)"
   ]
  },
  {
   "cell_type": "code",
   "execution_count": null,
   "id": "ccdf32ce",
   "metadata": {},
   "outputs": [],
   "source": [
    "# Topic: Data Cleaning\n",
    "import pandas as pd\n",
    "df = pd.DataFrame({'A':[1,None,3]})\n",
    "df = df.fillna(0)\n",
    "print(df)"
   ]
  },
  {
   "cell_type": "code",
   "execution_count": null,
   "id": "36e29610",
   "metadata": {},
   "outputs": [],
   "source": [
    "# Topic: JSON & CSV\n",
    "import csv\n",
    "with open('file.csv', 'w', newline='') as f:\n",
    " csv.writer(f).writerow(['a','b','c'])"
   ]
  },
  {
   "cell_type": "code",
   "execution_count": null,
   "id": "d29ca65f",
   "metadata": {},
   "outputs": [],
   "source": [
    "# Topic: OOP\n",
    "class Student:\n",
    "    def __init__(self, name): self.name = name\n",
    "s = Student('Fahd')\n",
    "print(s.name)"
   ]
  },
  {
   "cell_type": "code",
   "execution_count": null,
   "id": "1e5d023f",
   "metadata": {},
   "outputs": [],
   "source": [
    "# Topic: CLI Tools\n",
    "import sys\n",
    "print(f'Arguments: {sys.argv}')"
   ]
  },
  {
   "cell_type": "code",
   "execution_count": null,
   "id": "0c76086a",
   "metadata": {},
   "outputs": [],
   "source": [
    "# Topic: Functions\n",
    "def greet(name='User'):\n",
    "    print(f'Hi, {name}')\n",
    "greet()"
   ]
  },
  {
   "cell_type": "code",
   "execution_count": null,
   "id": "69f12b65",
   "metadata": {},
   "outputs": [],
   "source": [
    "# Topic: Lists & Tuples\n",
    "lst = [1, 2, 3]\n",
    "lst.append(4)\n",
    "print(lst)"
   ]
  },
  {
   "cell_type": "code",
   "execution_count": null,
   "id": "133a15cc",
   "metadata": {},
   "outputs": [],
   "source": [
    "# Topic: Loops\n",
    "while True:\n",
    "    print('Break')\n",
    "    break"
   ]
  },
  {
   "cell_type": "code",
   "execution_count": null,
   "id": "d1f373ea",
   "metadata": {},
   "outputs": [],
   "source": [
    "# Topic: Recursion\n",
    "def fact(n): return 1 if n==0 else n*fact(n-1)\n",
    "print(fact(5))"
   ]
  },
  {
   "cell_type": "code",
   "execution_count": null,
   "id": "c01ad746",
   "metadata": {},
   "outputs": [],
   "source": [
    "# Topic: Algorithms\n",
    "# Bubble sort\n",
    "def bubble(arr):\n",
    " for i in range(len(arr)):\n",
    "  for j in range(0, len(arr)-i-1):\n",
    "   if arr[j]>arr[j+1]: arr[j],arr[j+1]=arr[j+1],arr[j]\n",
    "a=[5,3,8]\n",
    "bubble(a)\n",
    "print(a)"
   ]
  },
  {
   "cell_type": "code",
   "execution_count": null,
   "id": "57710f6b",
   "metadata": {},
   "outputs": [],
   "source": [
    "# Topic: JSON & CSV\n",
    "import csv\n",
    "with open('file.csv', 'w', newline='') as f:\n",
    " csv.writer(f).writerow(['a','b','c'])"
   ]
  },
  {
   "cell_type": "code",
   "execution_count": null,
   "id": "4c54bd3b",
   "metadata": {},
   "outputs": [],
   "source": [
    "# Topic: Regex\n",
    "import re\n",
    "text = 'email: test@example.com'\n",
    "print(re.findall(r'\\S+@\\S+', text))"
   ]
  },
  {
   "cell_type": "code",
   "execution_count": null,
   "id": "aa3a2bcc",
   "metadata": {},
   "outputs": [],
   "source": [
    "# Topic: JSON & CSV\n",
    "import json\n",
    "data = {'a': 1}\n",
    "print(json.dumps(data))"
   ]
  },
  {
   "cell_type": "code",
   "execution_count": null,
   "id": "b1416dce",
   "metadata": {},
   "outputs": [],
   "source": [
    "# Topic: File I/O\n",
    "with open('test.txt', 'r') as f:\n",
    "    print(f.read())"
   ]
  },
  {
   "cell_type": "code",
   "execution_count": null,
   "id": "4c988bbb",
   "metadata": {},
   "outputs": [],
   "source": [
    "# Topic: OOP\n",
    "class Student:\n",
    "    def __init__(self, name): self.name = name\n",
    "s = Student('Fahd')\n",
    "print(s.name)"
   ]
  },
  {
   "cell_type": "code",
   "execution_count": null,
   "id": "b2e4f988",
   "metadata": {},
   "outputs": [],
   "source": [
    "# Topic: Algorithms\n",
    "# Bubble sort\n",
    "def bubble(arr):\n",
    " for i in range(len(arr)):\n",
    "  for j in range(0, len(arr)-i-1):\n",
    "   if arr[j]>arr[j+1]: arr[j],arr[j+1]=arr[j+1],arr[j]\n",
    "a=[5,3,8]\n",
    "bubble(a)\n",
    "print(a)"
   ]
  },
  {
   "cell_type": "code",
   "execution_count": null,
   "id": "a611db58",
   "metadata": {},
   "outputs": [],
   "source": [
    "# Topic: Basics\n",
    "x = 10\n",
    "y = 20\n",
    "print(x + y)"
   ]
  },
  {
   "cell_type": "code",
   "execution_count": null,
   "id": "8bb4fee3",
   "metadata": {},
   "outputs": [],
   "source": [
    "# Topic: NumPy\n",
    "import numpy as np\n",
    "a = np.array([1, 2, 3])\n",
    "print(a + 5)"
   ]
  },
  {
   "cell_type": "code",
   "execution_count": null,
   "id": "7b7cbb2d",
   "metadata": {},
   "outputs": [],
   "source": [
    "# Topic: Lists & Tuples\n",
    "t = (1, 2, 3)\n",
    "print(t[0])"
   ]
  },
  {
   "cell_type": "code",
   "execution_count": null,
   "id": "97113ebf",
   "metadata": {},
   "outputs": [],
   "source": [
    "# Topic: Algorithms\n",
    "# Bubble sort\n",
    "def bubble(arr):\n",
    " for i in range(len(arr)):\n",
    "  for j in range(0, len(arr)-i-1):\n",
    "   if arr[j]>arr[j+1]: arr[j],arr[j+1]=arr[j+1],arr[j]\n",
    "a=[5,3,8]\n",
    "bubble(a)\n",
    "print(a)"
   ]
  },
  {
   "cell_type": "code",
   "execution_count": null,
   "id": "b6be38a6",
   "metadata": {},
   "outputs": [],
   "source": [
    "# Topic: Decorators\n",
    "def log(func):\n",
    " def wrapper():\n",
    "  print('Call')\n",
    "  func()\n",
    " return wrapper\n",
    "@log\n",
    "def say(): print('Hi')\n",
    "say()"
   ]
  },
  {
   "cell_type": "code",
   "execution_count": null,
   "id": "c927a17d",
   "metadata": {},
   "outputs": [],
   "source": [
    "# Topic: Lists & Tuples\n",
    "lst = [1, 2, 3]\n",
    "lst.append(4)\n",
    "print(lst)"
   ]
  },
  {
   "cell_type": "code",
   "execution_count": null,
   "id": "9ac25e2c",
   "metadata": {},
   "outputs": [],
   "source": [
    "# Topic: Loops\n",
    "for i in range(10): print(i*i)"
   ]
  },
  {
   "cell_type": "code",
   "execution_count": null,
   "id": "76088092",
   "metadata": {},
   "outputs": [],
   "source": [
    "# Topic: Functions\n",
    "def square(x): return x*x\n",
    "print(square(5))"
   ]
  },
  {
   "cell_type": "code",
   "execution_count": null,
   "id": "bff8e8fb",
   "metadata": {},
   "outputs": [],
   "source": [
    "# Topic: Mini Projects\n",
    "# Palindrome check\n",
    "def is_pal(s): return s == s[::-1]\n",
    "print(is_pal('madam'))"
   ]
  },
  {
   "cell_type": "code",
   "execution_count": null,
   "id": "57b51caf",
   "metadata": {},
   "outputs": [],
   "source": [
    "# Topic: JSON & CSV\n",
    "import json\n",
    "data = {'a': 1}\n",
    "print(json.dumps(data))"
   ]
  },
  {
   "cell_type": "code",
   "execution_count": null,
   "id": "cf4cc0e9",
   "metadata": {},
   "outputs": [],
   "source": [
    "# Topic: Basics\n",
    "x = 10\n",
    "y = 20\n",
    "print(x + y)"
   ]
  },
  {
   "cell_type": "code",
   "execution_count": null,
   "id": "31ce6e9b",
   "metadata": {},
   "outputs": [],
   "source": [
    "# Topic: CLI Tools\n",
    "import sys\n",
    "print(f'Arguments: {sys.argv}')"
   ]
  },
  {
   "cell_type": "code",
   "execution_count": null,
   "id": "9044df78",
   "metadata": {},
   "outputs": [],
   "source": [
    "# Topic: Mini Projects\n",
    "# Palindrome check\n",
    "def is_pal(s): return s == s[::-1]\n",
    "print(is_pal('madam'))"
   ]
  },
  {
   "cell_type": "code",
   "execution_count": null,
   "id": "14f0aee3",
   "metadata": {},
   "outputs": [],
   "source": [
    "# Topic: Mini Projects\n",
    "# Palindrome check\n",
    "def is_pal(s): return s == s[::-1]\n",
    "print(is_pal('madam'))"
   ]
  },
  {
   "cell_type": "code",
   "execution_count": null,
   "id": "55ac3d8c",
   "metadata": {},
   "outputs": [],
   "source": [
    "# Topic: Decorators\n",
    "def log(func):\n",
    " def wrapper():\n",
    "  print('Call')\n",
    "  func()\n",
    " return wrapper\n",
    "@log\n",
    "def say(): print('Hi')\n",
    "say()"
   ]
  },
  {
   "cell_type": "code",
   "execution_count": null,
   "id": "12a3120b",
   "metadata": {},
   "outputs": [],
   "source": [
    "# Topic: NumPy\n",
    "import numpy as np\n",
    "print(np.linspace(0, 1, 5))"
   ]
  },
  {
   "cell_type": "code",
   "execution_count": null,
   "id": "76cc85ab",
   "metadata": {},
   "outputs": [],
   "source": [
    "# Topic: Regex\n",
    "import re\n",
    "text = 'email: test@example.com'\n",
    "print(re.findall(r'\\S+@\\S+', text))"
   ]
  },
  {
   "cell_type": "code",
   "execution_count": null,
   "id": "a3f2bd7c",
   "metadata": {},
   "outputs": [],
   "source": [
    "# Topic: Basics\n",
    "x = 10\n",
    "y = 20\n",
    "print(x + y)"
   ]
  },
  {
   "cell_type": "code",
   "execution_count": null,
   "id": "a8a7af20",
   "metadata": {},
   "outputs": [],
   "source": [
    "# Topic: Decorators\n",
    "def log(func):\n",
    " def wrapper():\n",
    "  print('Call')\n",
    "  func()\n",
    " return wrapper\n",
    "@log\n",
    "def say(): print('Hi')\n",
    "say()"
   ]
  },
  {
   "cell_type": "code",
   "execution_count": null,
   "id": "2b139e39",
   "metadata": {},
   "outputs": [],
   "source": [
    "# Topic: Matplotlib & Seaborn\n",
    "import seaborn as sns\n",
    "import pandas as pd\n",
    "sns.set()\n",
    "sns.histplot(pd.Series([1,2,2,3]));"
   ]
  },
  {
   "cell_type": "code",
   "execution_count": null,
   "id": "695e6c0f",
   "metadata": {},
   "outputs": [],
   "source": [
    "# Topic: Regex\n",
    "import re\n",
    "text = 'email: test@example.com'\n",
    "print(re.findall(r'\\S+@\\S+', text))"
   ]
  },
  {
   "cell_type": "code",
   "execution_count": null,
   "id": "3b652f5f",
   "metadata": {},
   "outputs": [],
   "source": [
    "# Topic: Lists & Tuples\n",
    "lst = [1, 2, 3]\n",
    "lst.append(4)\n",
    "print(lst)"
   ]
  },
  {
   "cell_type": "code",
   "execution_count": null,
   "id": "60c4cd87",
   "metadata": {},
   "outputs": [],
   "source": [
    "# Topic: CLI Tools\n",
    "import sys\n",
    "print(f'Arguments: {sys.argv}')"
   ]
  },
  {
   "cell_type": "code",
   "execution_count": null,
   "id": "b44da423",
   "metadata": {},
   "outputs": [],
   "source": [
    "# Topic: Loops\n",
    "while True:\n",
    "    print('Break')\n",
    "    break"
   ]
  },
  {
   "cell_type": "code",
   "execution_count": null,
   "id": "25d58951",
   "metadata": {},
   "outputs": [],
   "source": [
    "# Topic: Basic ML\n",
    "from sklearn.linear_model import LinearRegression\n",
    "model = LinearRegression()\n",
    "print(model)"
   ]
  },
  {
   "cell_type": "code",
   "execution_count": null,
   "id": "8a40c574",
   "metadata": {},
   "outputs": [],
   "source": [
    "# Topic: OOP\n",
    "class Student:\n",
    "    def __init__(self, name): self.name = name\n",
    "s = Student('Fahd')\n",
    "print(s.name)"
   ]
  },
  {
   "cell_type": "code",
   "execution_count": null,
   "id": "f08f39dd",
   "metadata": {},
   "outputs": [],
   "source": [
    "# Topic: OOP\n",
    "class Student:\n",
    "    def __init__(self, name): self.name = name\n",
    "s = Student('Fahd')\n",
    "print(s.name)"
   ]
  },
  {
   "cell_type": "code",
   "execution_count": null,
   "id": "27492a9c",
   "metadata": {},
   "outputs": [],
   "source": [
    "# Topic: OOP\n",
    "class Student:\n",
    "    def __init__(self, name): self.name = name\n",
    "s = Student('Fahd')\n",
    "print(s.name)"
   ]
  },
  {
   "cell_type": "code",
   "execution_count": null,
   "id": "15e1f53c",
   "metadata": {},
   "outputs": [],
   "source": [
    "# Topic: Basic ML\n",
    "from sklearn.linear_model import LinearRegression\n",
    "model = LinearRegression()\n",
    "print(model)"
   ]
  },
  {
   "cell_type": "code",
   "execution_count": null,
   "id": "6b8ad357",
   "metadata": {},
   "outputs": [],
   "source": [
    "# Topic: Basic ML\n",
    "from sklearn.linear_model import LinearRegression\n",
    "model = LinearRegression()\n",
    "print(model)"
   ]
  },
  {
   "cell_type": "code",
   "execution_count": null,
   "id": "437be745",
   "metadata": {},
   "outputs": [],
   "source": [
    "# Topic: Basic ML\n",
    "from sklearn.linear_model import LinearRegression\n",
    "model = LinearRegression()\n",
    "print(model)"
   ]
  },
  {
   "cell_type": "code",
   "execution_count": null,
   "id": "d0205008",
   "metadata": {},
   "outputs": [],
   "source": [
    "# Topic: Dictionaries & Sets\n",
    "s = set([1, 2, 3, 2])\n",
    "print(s)"
   ]
  },
  {
   "cell_type": "code",
   "execution_count": null,
   "id": "99038a06",
   "metadata": {},
   "outputs": [],
   "source": [
    "# Topic: CLI Tools\n",
    "import sys\n",
    "print(f'Arguments: {sys.argv}')"
   ]
  },
  {
   "cell_type": "code",
   "execution_count": null,
   "id": "567e16a4",
   "metadata": {},
   "outputs": [],
   "source": [
    "# Topic: Loops\n",
    "for i in range(10): print(i*i)"
   ]
  },
  {
   "cell_type": "code",
   "execution_count": null,
   "id": "ba9e08d0",
   "metadata": {},
   "outputs": [],
   "source": [
    "# Topic: Loops\n",
    "for i in range(10): print(i*i)"
   ]
  },
  {
   "cell_type": "code",
   "execution_count": null,
   "id": "be0c2af2",
   "metadata": {},
   "outputs": [],
   "source": [
    "# Topic: Matplotlib & Seaborn\n",
    "import matplotlib.pyplot as plt\n",
    "plt.plot([1,2],[3,4])\n",
    "plt.show()"
   ]
  },
  {
   "cell_type": "code",
   "execution_count": null,
   "id": "663761a7",
   "metadata": {},
   "outputs": [],
   "source": [
    "# Topic: OOP\n",
    "class Student:\n",
    "    def __init__(self, name): self.name = name\n",
    "s = Student('Fahd')\n",
    "print(s.name)"
   ]
  },
  {
   "cell_type": "code",
   "execution_count": null,
   "id": "8fd4f1fb",
   "metadata": {},
   "outputs": [],
   "source": [
    "# Topic: NumPy\n",
    "import numpy as np\n",
    "a = np.array([1, 2, 3])\n",
    "print(a + 5)"
   ]
  },
  {
   "cell_type": "code",
   "execution_count": null,
   "id": "45f946c1",
   "metadata": {},
   "outputs": [],
   "source": [
    "# Topic: Algorithms\n",
    "# Bubble sort\n",
    "def bubble(arr):\n",
    " for i in range(len(arr)):\n",
    "  for j in range(0, len(arr)-i-1):\n",
    "   if arr[j]>arr[j+1]: arr[j],arr[j+1]=arr[j+1],arr[j]\n",
    "a=[5,3,8]\n",
    "bubble(a)\n",
    "print(a)"
   ]
  },
  {
   "cell_type": "code",
   "execution_count": null,
   "id": "ff12c7c4",
   "metadata": {},
   "outputs": [],
   "source": [
    "# Topic: JSON & CSV\n",
    "import csv\n",
    "with open('file.csv', 'w', newline='') as f:\n",
    " csv.writer(f).writerow(['a','b','c'])"
   ]
  },
  {
   "cell_type": "code",
   "execution_count": null,
   "id": "8d888e9d",
   "metadata": {},
   "outputs": [],
   "source": [
    "# Topic: OOP\n",
    "class Student:\n",
    "    def __init__(self, name): self.name = name\n",
    "s = Student('Fahd')\n",
    "print(s.name)"
   ]
  },
  {
   "cell_type": "code",
   "execution_count": null,
   "id": "c9afef7c",
   "metadata": {},
   "outputs": [],
   "source": [
    "# Topic: NumPy\n",
    "import numpy as np\n",
    "print(np.linspace(0, 1, 5))"
   ]
  },
  {
   "cell_type": "code",
   "execution_count": null,
   "id": "8848a7a6",
   "metadata": {},
   "outputs": [],
   "source": [
    "# Topic: Dictionaries & Sets\n",
    "s = set([1, 2, 3, 2])\n",
    "print(s)"
   ]
  },
  {
   "cell_type": "code",
   "execution_count": null,
   "id": "8d02cce0",
   "metadata": {},
   "outputs": [],
   "source": [
    "# Topic: JSON & CSV\n",
    "import json\n",
    "data = {'a': 1}\n",
    "print(json.dumps(data))"
   ]
  },
  {
   "cell_type": "code",
   "execution_count": null,
   "id": "c04dfa61",
   "metadata": {},
   "outputs": [],
   "source": [
    "# Topic: Functions\n",
    "def greet(name='User'):\n",
    "    print(f'Hi, {name}')\n",
    "greet()"
   ]
  },
  {
   "cell_type": "code",
   "execution_count": null,
   "id": "c4beb94d",
   "metadata": {},
   "outputs": [],
   "source": [
    "# Topic: Basic ML\n",
    "from sklearn.linear_model import LinearRegression\n",
    "model = LinearRegression()\n",
    "print(model)"
   ]
  },
  {
   "cell_type": "code",
   "execution_count": null,
   "id": "5bdbe557",
   "metadata": {},
   "outputs": [],
   "source": [
    "# Topic: CLI Tools\n",
    "import sys\n",
    "print(f'Arguments: {sys.argv}')"
   ]
  },
  {
   "cell_type": "code",
   "execution_count": null,
   "id": "d8a592c8",
   "metadata": {},
   "outputs": [],
   "source": [
    "# Topic: Loops\n",
    "while True:\n",
    "    print('Break')\n",
    "    break"
   ]
  },
  {
   "cell_type": "code",
   "execution_count": null,
   "id": "de264884",
   "metadata": {},
   "outputs": [],
   "source": [
    "# Topic: Pandas\n",
    "import pandas as pd\n",
    "df = pd.DataFrame({'A':[1,2],'B':[3,4]})\n",
    "print(df)"
   ]
  },
  {
   "cell_type": "code",
   "execution_count": null,
   "id": "49337292",
   "metadata": {},
   "outputs": [],
   "source": [
    "# Topic: Loops\n",
    "for i in range(10): print(i*i)"
   ]
  },
  {
   "cell_type": "code",
   "execution_count": null,
   "id": "ca59f6f2",
   "metadata": {},
   "outputs": [],
   "source": [
    "# Topic: Basic ML\n",
    "from sklearn.linear_model import LinearRegression\n",
    "model = LinearRegression()\n",
    "print(model)"
   ]
  },
  {
   "cell_type": "code",
   "execution_count": null,
   "id": "2f5c3999",
   "metadata": {},
   "outputs": [],
   "source": [
    "# Topic: Matplotlib & Seaborn\n",
    "import matplotlib.pyplot as plt\n",
    "plt.plot([1,2],[3,4])\n",
    "plt.show()"
   ]
  },
  {
   "cell_type": "code",
   "execution_count": null,
   "id": "ad56671d",
   "metadata": {},
   "outputs": [],
   "source": [
    "# Topic: Functions\n",
    "def greet(name='User'):\n",
    "    print(f'Hi, {name}')\n",
    "greet()"
   ]
  },
  {
   "cell_type": "code",
   "execution_count": null,
   "id": "8f55d910",
   "metadata": {},
   "outputs": [],
   "source": [
    "# Topic: Recursion\n",
    "def fact(n): return 1 if n==0 else n*fact(n-1)\n",
    "print(fact(5))"
   ]
  },
  {
   "cell_type": "code",
   "execution_count": null,
   "id": "5cbd4ede",
   "metadata": {},
   "outputs": [],
   "source": [
    "# Topic: Basic ML\n",
    "from sklearn.linear_model import LinearRegression\n",
    "model = LinearRegression()\n",
    "print(model)"
   ]
  },
  {
   "cell_type": "code",
   "execution_count": null,
   "id": "afcbe905",
   "metadata": {},
   "outputs": [],
   "source": [
    "# Topic: Decorators\n",
    "def log(func):\n",
    " def wrapper():\n",
    "  print('Call')\n",
    "  func()\n",
    " return wrapper\n",
    "@log\n",
    "def say(): print('Hi')\n",
    "say()"
   ]
  },
  {
   "cell_type": "code",
   "execution_count": null,
   "id": "141c8d81",
   "metadata": {},
   "outputs": [],
   "source": [
    "# Topic: Algorithms\n",
    "# Bubble sort\n",
    "def bubble(arr):\n",
    " for i in range(len(arr)):\n",
    "  for j in range(0, len(arr)-i-1):\n",
    "   if arr[j]>arr[j+1]: arr[j],arr[j+1]=arr[j+1],arr[j]\n",
    "a=[5,3,8]\n",
    "bubble(a)\n",
    "print(a)"
   ]
  },
  {
   "cell_type": "code",
   "execution_count": null,
   "id": "3c53191f",
   "metadata": {},
   "outputs": [],
   "source": [
    "# Topic: Decorators\n",
    "def log(func):\n",
    " def wrapper():\n",
    "  print('Call')\n",
    "  func()\n",
    " return wrapper\n",
    "@log\n",
    "def say(): print('Hi')\n",
    "say()"
   ]
  },
  {
   "cell_type": "code",
   "execution_count": null,
   "id": "ebf7e3ea",
   "metadata": {},
   "outputs": [],
   "source": [
    "# Topic: CLI Tools\n",
    "import sys\n",
    "print(f'Arguments: {sys.argv}')"
   ]
  },
  {
   "cell_type": "code",
   "execution_count": null,
   "id": "a3a4ea7f",
   "metadata": {},
   "outputs": [],
   "source": [
    "# Topic: Data Cleaning\n",
    "import pandas as pd\n",
    "df = pd.DataFrame({'A':[1,None,3]})\n",
    "df = df.fillna(0)\n",
    "print(df)"
   ]
  },
  {
   "cell_type": "code",
   "execution_count": null,
   "id": "aba6c8c6",
   "metadata": {},
   "outputs": [],
   "source": [
    "# Topic: File I/O\n",
    "with open('test.txt', 'r') as f:\n",
    "    print(f.read())"
   ]
  },
  {
   "cell_type": "code",
   "execution_count": null,
   "id": "f48820f9",
   "metadata": {},
   "outputs": [],
   "source": [
    "# Topic: OOP\n",
    "class Student:\n",
    "    def __init__(self, name): self.name = name\n",
    "s = Student('Fahd')\n",
    "print(s.name)"
   ]
  },
  {
   "cell_type": "code",
   "execution_count": null,
   "id": "9bc38332",
   "metadata": {},
   "outputs": [],
   "source": [
    "# Topic: Data Cleaning\n",
    "import pandas as pd\n",
    "df = pd.DataFrame({'A':[1,None,3]})\n",
    "df = df.fillna(0)\n",
    "print(df)"
   ]
  },
  {
   "cell_type": "code",
   "execution_count": null,
   "id": "2b6d98b3",
   "metadata": {},
   "outputs": [],
   "source": [
    "# Topic: Functions\n",
    "def square(x): return x*x\n",
    "print(square(5))"
   ]
  },
  {
   "cell_type": "code",
   "execution_count": null,
   "id": "5dde07d5",
   "metadata": {},
   "outputs": [],
   "source": [
    "# Topic: CLI Tools\n",
    "import sys\n",
    "print(f'Arguments: {sys.argv}')"
   ]
  },
  {
   "cell_type": "code",
   "execution_count": null,
   "id": "fbca605b",
   "metadata": {},
   "outputs": [],
   "source": [
    "# Topic: CLI Tools\n",
    "import sys\n",
    "print(f'Arguments: {sys.argv}')"
   ]
  },
  {
   "cell_type": "code",
   "execution_count": null,
   "id": "c200180c",
   "metadata": {},
   "outputs": [],
   "source": [
    "# Topic: OOP\n",
    "class Student:\n",
    "    def __init__(self, name): self.name = name\n",
    "s = Student('Fahd')\n",
    "print(s.name)"
   ]
  },
  {
   "cell_type": "code",
   "execution_count": null,
   "id": "696fcf6a",
   "metadata": {},
   "outputs": [],
   "source": [
    "# Topic: File I/O\n",
    "with open('test.txt', 'r') as f:\n",
    "    print(f.read())"
   ]
  },
  {
   "cell_type": "code",
   "execution_count": null,
   "id": "706d101c",
   "metadata": {},
   "outputs": [],
   "source": [
    "# Topic: Loops\n",
    "for i in range(10): print(i*i)"
   ]
  },
  {
   "cell_type": "code",
   "execution_count": null,
   "id": "e9116b8a",
   "metadata": {},
   "outputs": [],
   "source": [
    "# Topic: NumPy\n",
    "import numpy as np\n",
    "a = np.array([1, 2, 3])\n",
    "print(a + 5)"
   ]
  },
  {
   "cell_type": "code",
   "execution_count": null,
   "id": "7ce4fbfd",
   "metadata": {},
   "outputs": [],
   "source": [
    "# Topic: Mini Projects\n",
    "# Palindrome check\n",
    "def is_pal(s): return s == s[::-1]\n",
    "print(is_pal('madam'))"
   ]
  },
  {
   "cell_type": "code",
   "execution_count": null,
   "id": "846a3957",
   "metadata": {},
   "outputs": [],
   "source": [
    "# Topic: Basic ML\n",
    "from sklearn.linear_model import LinearRegression\n",
    "model = LinearRegression()\n",
    "print(model)"
   ]
  },
  {
   "cell_type": "code",
   "execution_count": null,
   "id": "40549b33",
   "metadata": {},
   "outputs": [],
   "source": [
    "# Topic: Decorators\n",
    "def log(func):\n",
    " def wrapper():\n",
    "  print('Call')\n",
    "  func()\n",
    " return wrapper\n",
    "@log\n",
    "def say(): print('Hi')\n",
    "say()"
   ]
  },
  {
   "cell_type": "code",
   "execution_count": null,
   "id": "ec8d106b",
   "metadata": {},
   "outputs": [],
   "source": [
    "# Topic: NumPy\n",
    "import numpy as np\n",
    "a = np.array([1, 2, 3])\n",
    "print(a + 5)"
   ]
  },
  {
   "cell_type": "code",
   "execution_count": null,
   "id": "e5b11312",
   "metadata": {},
   "outputs": [],
   "source": [
    "# Topic: Recursion\n",
    "def fact(n): return 1 if n==0 else n*fact(n-1)\n",
    "print(fact(5))"
   ]
  },
  {
   "cell_type": "code",
   "execution_count": null,
   "id": "5bc2ff42",
   "metadata": {},
   "outputs": [],
   "source": [
    "# Topic: Data Cleaning\n",
    "import pandas as pd\n",
    "df = pd.DataFrame({'A':[1,None,3]})\n",
    "df = df.fillna(0)\n",
    "print(df)"
   ]
  },
  {
   "cell_type": "code",
   "execution_count": null,
   "id": "2d156399",
   "metadata": {},
   "outputs": [],
   "source": [
    "# Topic: Data Cleaning\n",
    "import pandas as pd\n",
    "df = pd.DataFrame({'A':[1,None,3]})\n",
    "df = df.fillna(0)\n",
    "print(df)"
   ]
  },
  {
   "cell_type": "code",
   "execution_count": null,
   "id": "6801149f",
   "metadata": {},
   "outputs": [],
   "source": [
    "# Topic: Matplotlib & Seaborn\n",
    "import matplotlib.pyplot as plt\n",
    "plt.plot([1,2],[3,4])\n",
    "plt.show()"
   ]
  },
  {
   "cell_type": "code",
   "execution_count": null,
   "id": "4a661d54",
   "metadata": {},
   "outputs": [],
   "source": [
    "# Topic: Functions\n",
    "def greet(name='User'):\n",
    "    print(f'Hi, {name}')\n",
    "greet()"
   ]
  },
  {
   "cell_type": "code",
   "execution_count": null,
   "id": "10d7b23a",
   "metadata": {},
   "outputs": [],
   "source": [
    "# Topic: Loops\n",
    "while True:\n",
    "    print('Break')\n",
    "    break"
   ]
  },
  {
   "cell_type": "code",
   "execution_count": null,
   "id": "c0a614e3",
   "metadata": {},
   "outputs": [],
   "source": [
    "# Topic: OOP\n",
    "class Student:\n",
    "    def __init__(self, name): self.name = name\n",
    "s = Student('Fahd')\n",
    "print(s.name)"
   ]
  },
  {
   "cell_type": "code",
   "execution_count": null,
   "id": "b5a3926f",
   "metadata": {},
   "outputs": [],
   "source": [
    "# Topic: Recursion\n",
    "def fact(n): return 1 if n==0 else n*fact(n-1)\n",
    "print(fact(5))"
   ]
  },
  {
   "cell_type": "code",
   "execution_count": null,
   "id": "4f33618e",
   "metadata": {},
   "outputs": [],
   "source": [
    "# Topic: Lists & Tuples\n",
    "lst = [1, 2, 3]\n",
    "lst.append(4)\n",
    "print(lst)"
   ]
  },
  {
   "cell_type": "code",
   "execution_count": null,
   "id": "40c8c5c7",
   "metadata": {},
   "outputs": [],
   "source": [
    "# Topic: File I/O\n",
    "with open('test.txt', 'r') as f:\n",
    "    print(f.read())"
   ]
  },
  {
   "cell_type": "code",
   "execution_count": null,
   "id": "9c2158a9",
   "metadata": {},
   "outputs": [],
   "source": [
    "# Topic: Algorithms\n",
    "# Bubble sort\n",
    "def bubble(arr):\n",
    " for i in range(len(arr)):\n",
    "  for j in range(0, len(arr)-i-1):\n",
    "   if arr[j]>arr[j+1]: arr[j],arr[j+1]=arr[j+1],arr[j]\n",
    "a=[5,3,8]\n",
    "bubble(a)\n",
    "print(a)"
   ]
  },
  {
   "cell_type": "code",
   "execution_count": null,
   "id": "dbb53cc0",
   "metadata": {},
   "outputs": [],
   "source": [
    "# Topic: Decorators\n",
    "def log(func):\n",
    " def wrapper():\n",
    "  print('Call')\n",
    "  func()\n",
    " return wrapper\n",
    "@log\n",
    "def say(): print('Hi')\n",
    "say()"
   ]
  },
  {
   "cell_type": "code",
   "execution_count": null,
   "id": "7e84fc0b",
   "metadata": {},
   "outputs": [],
   "source": [
    "# Topic: Pandas\n",
    "import pandas as pd\n",
    "df = pd.read_csv('file.csv')\n",
    "print(df.head())"
   ]
  },
  {
   "cell_type": "code",
   "execution_count": null,
   "id": "32e79161",
   "metadata": {},
   "outputs": [],
   "source": [
    "# Topic: Lists & Tuples\n",
    "t = (1, 2, 3)\n",
    "print(t[0])"
   ]
  },
  {
   "cell_type": "code",
   "execution_count": null,
   "id": "9aa3901f",
   "metadata": {},
   "outputs": [],
   "source": [
    "# Topic: Regex\n",
    "import re\n",
    "text = 'email: test@example.com'\n",
    "print(re.findall(r'\\S+@\\S+', text))"
   ]
  },
  {
   "cell_type": "code",
   "execution_count": null,
   "id": "110b9705",
   "metadata": {},
   "outputs": [],
   "source": [
    "# Topic: Decorators\n",
    "def log(func):\n",
    " def wrapper():\n",
    "  print('Call')\n",
    "  func()\n",
    " return wrapper\n",
    "@log\n",
    "def say(): print('Hi')\n",
    "say()"
   ]
  },
  {
   "cell_type": "code",
   "execution_count": null,
   "id": "7849a2ae",
   "metadata": {},
   "outputs": [],
   "source": [
    "# Topic: Data Cleaning\n",
    "import pandas as pd\n",
    "df = pd.DataFrame({'A':[1,None,3]})\n",
    "df = df.fillna(0)\n",
    "print(df)"
   ]
  },
  {
   "cell_type": "code",
   "execution_count": null,
   "id": "6a486178",
   "metadata": {},
   "outputs": [],
   "source": [
    "# Topic: File I/O\n",
    "with open('test.txt', 'w') as f:\n",
    "    f.write('Hello World')"
   ]
  },
  {
   "cell_type": "code",
   "execution_count": null,
   "id": "80871d05",
   "metadata": {},
   "outputs": [],
   "source": [
    "# Topic: OOP\n",
    "class Student:\n",
    "    def __init__(self, name): self.name = name\n",
    "s = Student('Fahd')\n",
    "print(s.name)"
   ]
  },
  {
   "cell_type": "code",
   "execution_count": null,
   "id": "144bd063",
   "metadata": {},
   "outputs": [],
   "source": [
    "# Topic: Recursion\n",
    "def fact(n): return 1 if n==0 else n*fact(n-1)\n",
    "print(fact(5))"
   ]
  },
  {
   "cell_type": "code",
   "execution_count": null,
   "id": "efd3117f",
   "metadata": {},
   "outputs": [],
   "source": [
    "# Topic: Data Cleaning\n",
    "import pandas as pd\n",
    "df = pd.DataFrame({'A':[1,None,3]})\n",
    "df = df.fillna(0)\n",
    "print(df)"
   ]
  },
  {
   "cell_type": "code",
   "execution_count": null,
   "id": "039b13b2",
   "metadata": {},
   "outputs": [],
   "source": [
    "# Topic: Mini Projects\n",
    "# Calculator\n",
    "def calc(a,b,op): return eval(f'{a}{op}{b}')\n",
    "print(calc(5,2,'+'))"
   ]
  },
  {
   "cell_type": "code",
   "execution_count": null,
   "id": "9b1c17bd",
   "metadata": {},
   "outputs": [],
   "source": [
    "# Topic: Decorators\n",
    "def log(func):\n",
    " def wrapper():\n",
    "  print('Call')\n",
    "  func()\n",
    " return wrapper\n",
    "@log\n",
    "def say(): print('Hi')\n",
    "say()"
   ]
  },
  {
   "cell_type": "code",
   "execution_count": null,
   "id": "df6df3a2",
   "metadata": {},
   "outputs": [],
   "source": [
    "# Topic: Web Scraping\n",
    "import requests\n",
    "from bs4 import BeautifulSoup\n",
    "r = requests.get('https://example.com')\n",
    "soup = BeautifulSoup(r.text, 'html.parser')\n",
    "print(soup.title.text)"
   ]
  },
  {
   "cell_type": "code",
   "execution_count": null,
   "id": "da7f5bfa",
   "metadata": {},
   "outputs": [],
   "source": [
    "# Topic: Web Scraping\n",
    "import requests\n",
    "from bs4 import BeautifulSoup\n",
    "r = requests.get('https://example.com')\n",
    "soup = BeautifulSoup(r.text, 'html.parser')\n",
    "print(soup.title.text)"
   ]
  },
  {
   "cell_type": "code",
   "execution_count": null,
   "id": "1bd2947b",
   "metadata": {},
   "outputs": [],
   "source": [
    "# Topic: Matplotlib & Seaborn\n",
    "import matplotlib.pyplot as plt\n",
    "plt.plot([1,2],[3,4])\n",
    "plt.show()"
   ]
  },
  {
   "cell_type": "code",
   "execution_count": null,
   "id": "789e8403",
   "metadata": {},
   "outputs": [],
   "source": [
    "# Topic: Matplotlib & Seaborn\n",
    "import seaborn as sns\n",
    "import pandas as pd\n",
    "sns.set()\n",
    "sns.histplot(pd.Series([1,2,2,3]));"
   ]
  },
  {
   "cell_type": "code",
   "execution_count": null,
   "id": "c5b17e91",
   "metadata": {},
   "outputs": [],
   "source": [
    "# Topic: Algorithms\n",
    "# Bubble sort\n",
    "def bubble(arr):\n",
    " for i in range(len(arr)):\n",
    "  for j in range(0, len(arr)-i-1):\n",
    "   if arr[j]>arr[j+1]: arr[j],arr[j+1]=arr[j+1],arr[j]\n",
    "a=[5,3,8]\n",
    "bubble(a)\n",
    "print(a)"
   ]
  },
  {
   "cell_type": "code",
   "execution_count": null,
   "id": "49df2e38",
   "metadata": {},
   "outputs": [],
   "source": [
    "# Topic: Pandas\n",
    "import pandas as pd\n",
    "df = pd.DataFrame({'A':[1,2],'B':[3,4]})\n",
    "print(df)"
   ]
  },
  {
   "cell_type": "code",
   "execution_count": null,
   "id": "ca15f0ec",
   "metadata": {},
   "outputs": [],
   "source": [
    "# Topic: Basic ML\n",
    "from sklearn.linear_model import LinearRegression\n",
    "model = LinearRegression()\n",
    "print(model)"
   ]
  },
  {
   "cell_type": "code",
   "execution_count": null,
   "id": "f22f6330",
   "metadata": {},
   "outputs": [],
   "source": [
    "# Topic: Web Scraping\n",
    "import requests\n",
    "from bs4 import BeautifulSoup\n",
    "r = requests.get('https://example.com')\n",
    "soup = BeautifulSoup(r.text, 'html.parser')\n",
    "print(soup.title.text)"
   ]
  },
  {
   "cell_type": "code",
   "execution_count": null,
   "id": "12b162ee",
   "metadata": {},
   "outputs": [],
   "source": [
    "# Topic: OOP\n",
    "class Student:\n",
    "    def __init__(self, name): self.name = name\n",
    "s = Student('Fahd')\n",
    "print(s.name)"
   ]
  },
  {
   "cell_type": "code",
   "execution_count": null,
   "id": "a9cbdf8f",
   "metadata": {},
   "outputs": [],
   "source": [
    "# Topic: CLI Tools\n",
    "import sys\n",
    "print(f'Arguments: {sys.argv}')"
   ]
  },
  {
   "cell_type": "code",
   "execution_count": null,
   "id": "c625dd4e",
   "metadata": {},
   "outputs": [],
   "source": [
    "# Topic: Data Cleaning\n",
    "import pandas as pd\n",
    "df = pd.DataFrame({'A':[1,None,3]})\n",
    "df = df.fillna(0)\n",
    "print(df)"
   ]
  },
  {
   "cell_type": "code",
   "execution_count": null,
   "id": "1f1a8b6f",
   "metadata": {},
   "outputs": [],
   "source": [
    "# Topic: Basics\n",
    "name = 'Fahd'\n",
    "print(f'Hello, {name}')"
   ]
  },
  {
   "cell_type": "code",
   "execution_count": null,
   "id": "5fe1d3db",
   "metadata": {},
   "outputs": [],
   "source": [
    "# Topic: NumPy\n",
    "import numpy as np\n",
    "a = np.array([1, 2, 3])\n",
    "print(a + 5)"
   ]
  },
  {
   "cell_type": "code",
   "execution_count": null,
   "id": "f634d2f2",
   "metadata": {},
   "outputs": [],
   "source": [
    "# Topic: CLI Tools\n",
    "import sys\n",
    "print(f'Arguments: {sys.argv}')"
   ]
  },
  {
   "cell_type": "code",
   "execution_count": null,
   "id": "338a4d9e",
   "metadata": {},
   "outputs": [],
   "source": [
    "# Topic: Loops\n",
    "while True:\n",
    "    print('Break')\n",
    "    break"
   ]
  },
  {
   "cell_type": "code",
   "execution_count": null,
   "id": "3e5e2b8c",
   "metadata": {},
   "outputs": [],
   "source": [
    "# Topic: Dictionaries & Sets\n",
    "s = set([1, 2, 3, 2])\n",
    "print(s)"
   ]
  },
  {
   "cell_type": "code",
   "execution_count": null,
   "id": "55065cb1",
   "metadata": {},
   "outputs": [],
   "source": [
    "# Topic: OOP\n",
    "class Student:\n",
    "    def __init__(self, name): self.name = name\n",
    "s = Student('Fahd')\n",
    "print(s.name)"
   ]
  },
  {
   "cell_type": "code",
   "execution_count": null,
   "id": "b67c0b90",
   "metadata": {},
   "outputs": [],
   "source": [
    "# Topic: Functions\n",
    "def greet(name='User'):\n",
    "    print(f'Hi, {name}')\n",
    "greet()"
   ]
  },
  {
   "cell_type": "code",
   "execution_count": null,
   "id": "2f1c0c9d",
   "metadata": {},
   "outputs": [],
   "source": [
    "# Topic: Decorators\n",
    "def log(func):\n",
    " def wrapper():\n",
    "  print('Call')\n",
    "  func()\n",
    " return wrapper\n",
    "@log\n",
    "def say(): print('Hi')\n",
    "say()"
   ]
  },
  {
   "cell_type": "code",
   "execution_count": null,
   "id": "91ba0287",
   "metadata": {},
   "outputs": [],
   "source": [
    "# Topic: Matplotlib & Seaborn\n",
    "import matplotlib.pyplot as plt\n",
    "plt.plot([1,2],[3,4])\n",
    "plt.show()"
   ]
  },
  {
   "cell_type": "code",
   "execution_count": null,
   "id": "d998d051",
   "metadata": {},
   "outputs": [],
   "source": [
    "# Topic: Mini Projects\n",
    "# Calculator\n",
    "def calc(a,b,op): return eval(f'{a}{op}{b}')\n",
    "print(calc(5,2,'+'))"
   ]
  },
  {
   "cell_type": "code",
   "execution_count": null,
   "id": "363b0dfd",
   "metadata": {},
   "outputs": [],
   "source": [
    "# Topic: OOP\n",
    "class Student:\n",
    "    def __init__(self, name): self.name = name\n",
    "s = Student('Fahd')\n",
    "print(s.name)"
   ]
  },
  {
   "cell_type": "code",
   "execution_count": null,
   "id": "10b111d7",
   "metadata": {},
   "outputs": [],
   "source": [
    "# Topic: Basics\n",
    "x = 10\n",
    "y = 20\n",
    "print(x + y)"
   ]
  },
  {
   "cell_type": "code",
   "execution_count": null,
   "id": "a4efc0f3",
   "metadata": {},
   "outputs": [],
   "source": [
    "# Topic: File I/O\n",
    "with open('test.txt', 'w') as f:\n",
    "    f.write('Hello World')"
   ]
  },
  {
   "cell_type": "code",
   "execution_count": null,
   "id": "3ac9c2c7",
   "metadata": {},
   "outputs": [],
   "source": [
    "# Topic: NumPy\n",
    "import numpy as np\n",
    "a = np.array([1, 2, 3])\n",
    "print(a + 5)"
   ]
  },
  {
   "cell_type": "code",
   "execution_count": null,
   "id": "84a3d6b5",
   "metadata": {},
   "outputs": [],
   "source": [
    "# Topic: Basic ML\n",
    "from sklearn.linear_model import LinearRegression\n",
    "model = LinearRegression()\n",
    "print(model)"
   ]
  },
  {
   "cell_type": "code",
   "execution_count": null,
   "id": "1494bb92",
   "metadata": {},
   "outputs": [],
   "source": [
    "# Topic: File I/O\n",
    "with open('test.txt', 'r') as f:\n",
    "    print(f.read())"
   ]
  },
  {
   "cell_type": "code",
   "execution_count": null,
   "id": "fa35ac3d",
   "metadata": {},
   "outputs": [],
   "source": [
    "# Topic: OOP\n",
    "class Student:\n",
    "    def __init__(self, name): self.name = name\n",
    "s = Student('Fahd')\n",
    "print(s.name)"
   ]
  },
  {
   "cell_type": "code",
   "execution_count": null,
   "id": "9c8d7b75",
   "metadata": {},
   "outputs": [],
   "source": [
    "# Topic: Lists & Tuples\n",
    "lst = [1, 2, 3]\n",
    "lst.append(4)\n",
    "print(lst)"
   ]
  },
  {
   "cell_type": "code",
   "execution_count": null,
   "id": "5e23e122",
   "metadata": {},
   "outputs": [],
   "source": [
    "# Topic: Web Scraping\n",
    "import requests\n",
    "from bs4 import BeautifulSoup\n",
    "r = requests.get('https://example.com')\n",
    "soup = BeautifulSoup(r.text, 'html.parser')\n",
    "print(soup.title.text)"
   ]
  },
  {
   "cell_type": "code",
   "execution_count": null,
   "id": "9ba1b4ba",
   "metadata": {},
   "outputs": [],
   "source": [
    "# Topic: Decorators\n",
    "def log(func):\n",
    " def wrapper():\n",
    "  print('Call')\n",
    "  func()\n",
    " return wrapper\n",
    "@log\n",
    "def say(): print('Hi')\n",
    "say()"
   ]
  },
  {
   "cell_type": "code",
   "execution_count": null,
   "id": "2208598a",
   "metadata": {},
   "outputs": [],
   "source": [
    "# Topic: Recursion\n",
    "def fact(n): return 1 if n==0 else n*fact(n-1)\n",
    "print(fact(5))"
   ]
  },
  {
   "cell_type": "code",
   "execution_count": null,
   "id": "a63c77d5",
   "metadata": {},
   "outputs": [],
   "source": [
    "# Topic: Lists & Tuples\n",
    "lst = [1, 2, 3]\n",
    "lst.append(4)\n",
    "print(lst)"
   ]
  },
  {
   "cell_type": "code",
   "execution_count": null,
   "id": "d694160a",
   "metadata": {},
   "outputs": [],
   "source": [
    "# Topic: Lists & Tuples\n",
    "t = (1, 2, 3)\n",
    "print(t[0])"
   ]
  },
  {
   "cell_type": "code",
   "execution_count": null,
   "id": "47b89188",
   "metadata": {},
   "outputs": [],
   "source": [
    "# Topic: Lists & Tuples\n",
    "t = (1, 2, 3)\n",
    "print(t[0])"
   ]
  },
  {
   "cell_type": "code",
   "execution_count": null,
   "id": "4337e795",
   "metadata": {},
   "outputs": [],
   "source": [
    "# Topic: Functions\n",
    "def greet(name='User'):\n",
    "    print(f'Hi, {name}')\n",
    "greet()"
   ]
  },
  {
   "cell_type": "code",
   "execution_count": null,
   "id": "dea10faa",
   "metadata": {},
   "outputs": [],
   "source": [
    "# Topic: Matplotlib & Seaborn\n",
    "import seaborn as sns\n",
    "import pandas as pd\n",
    "sns.set()\n",
    "sns.histplot(pd.Series([1,2,2,3]));"
   ]
  },
  {
   "cell_type": "code",
   "execution_count": null,
   "id": "d9619067",
   "metadata": {},
   "outputs": [],
   "source": [
    "# Topic: Data Cleaning\n",
    "import pandas as pd\n",
    "df = pd.DataFrame({'A':[1,None,3]})\n",
    "df = df.fillna(0)\n",
    "print(df)"
   ]
  },
  {
   "cell_type": "code",
   "execution_count": null,
   "id": "ba50f920",
   "metadata": {},
   "outputs": [],
   "source": [
    "# Topic: Regex\n",
    "import re\n",
    "text = 'email: test@example.com'\n",
    "print(re.findall(r'\\S+@\\S+', text))"
   ]
  },
  {
   "cell_type": "code",
   "execution_count": null,
   "id": "19b5a1ed",
   "metadata": {},
   "outputs": [],
   "source": [
    "# Topic: Regex\n",
    "import re\n",
    "text = 'email: test@example.com'\n",
    "print(re.findall(r'\\S+@\\S+', text))"
   ]
  },
  {
   "cell_type": "code",
   "execution_count": null,
   "id": "2dffbaeb",
   "metadata": {},
   "outputs": [],
   "source": [
    "# Topic: Web Scraping\n",
    "import requests\n",
    "from bs4 import BeautifulSoup\n",
    "r = requests.get('https://example.com')\n",
    "soup = BeautifulSoup(r.text, 'html.parser')\n",
    "print(soup.title.text)"
   ]
  },
  {
   "cell_type": "code",
   "execution_count": null,
   "id": "8b446b7a",
   "metadata": {},
   "outputs": [],
   "source": [
    "# Topic: OOP\n",
    "class Student:\n",
    "    def __init__(self, name): self.name = name\n",
    "s = Student('Fahd')\n",
    "print(s.name)"
   ]
  },
  {
   "cell_type": "code",
   "execution_count": null,
   "id": "f509a259",
   "metadata": {},
   "outputs": [],
   "source": [
    "# Topic: Regex\n",
    "import re\n",
    "text = 'email: test@example.com'\n",
    "print(re.findall(r'\\S+@\\S+', text))"
   ]
  },
  {
   "cell_type": "code",
   "execution_count": null,
   "id": "892799ab",
   "metadata": {},
   "outputs": [],
   "source": [
    "# Topic: Loops\n",
    "for i in range(10): print(i*i)"
   ]
  },
  {
   "cell_type": "code",
   "execution_count": null,
   "id": "29b60aae",
   "metadata": {},
   "outputs": [],
   "source": [
    "# Topic: Matplotlib & Seaborn\n",
    "import seaborn as sns\n",
    "import pandas as pd\n",
    "sns.set()\n",
    "sns.histplot(pd.Series([1,2,2,3]));"
   ]
  },
  {
   "cell_type": "code",
   "execution_count": null,
   "id": "1f514d54",
   "metadata": {},
   "outputs": [],
   "source": [
    "# Topic: Basic ML\n",
    "from sklearn.linear_model import LinearRegression\n",
    "model = LinearRegression()\n",
    "print(model)"
   ]
  },
  {
   "cell_type": "code",
   "execution_count": null,
   "id": "9de00843",
   "metadata": {},
   "outputs": [],
   "source": [
    "# Topic: Matplotlib & Seaborn\n",
    "import matplotlib.pyplot as plt\n",
    "plt.plot([1,2],[3,4])\n",
    "plt.show()"
   ]
  },
  {
   "cell_type": "code",
   "execution_count": null,
   "id": "8b60d041",
   "metadata": {},
   "outputs": [],
   "source": [
    "# Topic: Functions\n",
    "def square(x): return x*x\n",
    "print(square(5))"
   ]
  },
  {
   "cell_type": "code",
   "execution_count": null,
   "id": "8a59778a",
   "metadata": {},
   "outputs": [],
   "source": [
    "# Topic: Dictionaries & Sets\n",
    "s = set([1, 2, 3, 2])\n",
    "print(s)"
   ]
  },
  {
   "cell_type": "code",
   "execution_count": null,
   "id": "8603fdb3",
   "metadata": {},
   "outputs": [],
   "source": [
    "# Topic: Mini Projects\n",
    "# Palindrome check\n",
    "def is_pal(s): return s == s[::-1]\n",
    "print(is_pal('madam'))"
   ]
  },
  {
   "cell_type": "code",
   "execution_count": null,
   "id": "0ad1f4b4",
   "metadata": {},
   "outputs": [],
   "source": [
    "# Topic: Functions\n",
    "def greet(name='User'):\n",
    "    print(f'Hi, {name}')\n",
    "greet()"
   ]
  },
  {
   "cell_type": "code",
   "execution_count": null,
   "id": "c03cb6d0",
   "metadata": {},
   "outputs": [],
   "source": [
    "# Topic: Algorithms\n",
    "# Bubble sort\n",
    "def bubble(arr):\n",
    " for i in range(len(arr)):\n",
    "  for j in range(0, len(arr)-i-1):\n",
    "   if arr[j]>arr[j+1]: arr[j],arr[j+1]=arr[j+1],arr[j]\n",
    "a=[5,3,8]\n",
    "bubble(a)\n",
    "print(a)"
   ]
  },
  {
   "cell_type": "code",
   "execution_count": null,
   "id": "f567cf4d",
   "metadata": {},
   "outputs": [],
   "source": [
    "# Topic: Dictionaries & Sets\n",
    "s = set([1, 2, 3, 2])\n",
    "print(s)"
   ]
  },
  {
   "cell_type": "code",
   "execution_count": null,
   "id": "fda4a313",
   "metadata": {},
   "outputs": [],
   "source": [
    "# Topic: File I/O\n",
    "with open('test.txt', 'w') as f:\n",
    "    f.write('Hello World')"
   ]
  },
  {
   "cell_type": "code",
   "execution_count": null,
   "id": "50970348",
   "metadata": {},
   "outputs": [],
   "source": [
    "# Topic: Algorithms\n",
    "# Bubble sort\n",
    "def bubble(arr):\n",
    " for i in range(len(arr)):\n",
    "  for j in range(0, len(arr)-i-1):\n",
    "   if arr[j]>arr[j+1]: arr[j],arr[j+1]=arr[j+1],arr[j]\n",
    "a=[5,3,8]\n",
    "bubble(a)\n",
    "print(a)"
   ]
  },
  {
   "cell_type": "code",
   "execution_count": null,
   "id": "4cc8f555",
   "metadata": {},
   "outputs": [],
   "source": [
    "# Topic: Matplotlib & Seaborn\n",
    "import matplotlib.pyplot as plt\n",
    "plt.plot([1,2],[3,4])\n",
    "plt.show()"
   ]
  },
  {
   "cell_type": "code",
   "execution_count": null,
   "id": "61afbf02",
   "metadata": {},
   "outputs": [],
   "source": [
    "# Topic: JSON & CSV\n",
    "import csv\n",
    "with open('file.csv', 'w', newline='') as f:\n",
    " csv.writer(f).writerow(['a','b','c'])"
   ]
  },
  {
   "cell_type": "code",
   "execution_count": null,
   "id": "370279ea",
   "metadata": {},
   "outputs": [],
   "source": [
    "# Topic: Web Scraping\n",
    "import requests\n",
    "from bs4 import BeautifulSoup\n",
    "r = requests.get('https://example.com')\n",
    "soup = BeautifulSoup(r.text, 'html.parser')\n",
    "print(soup.title.text)"
   ]
  },
  {
   "cell_type": "code",
   "execution_count": null,
   "id": "26e14ee7",
   "metadata": {},
   "outputs": [],
   "source": [
    "# Topic: Algorithms\n",
    "# Bubble sort\n",
    "def bubble(arr):\n",
    " for i in range(len(arr)):\n",
    "  for j in range(0, len(arr)-i-1):\n",
    "   if arr[j]>arr[j+1]: arr[j],arr[j+1]=arr[j+1],arr[j]\n",
    "a=[5,3,8]\n",
    "bubble(a)\n",
    "print(a)"
   ]
  },
  {
   "cell_type": "code",
   "execution_count": null,
   "id": "8583c769",
   "metadata": {},
   "outputs": [],
   "source": [
    "# Topic: NumPy\n",
    "import numpy as np\n",
    "print(np.linspace(0, 1, 5))"
   ]
  },
  {
   "cell_type": "code",
   "execution_count": null,
   "id": "888360de",
   "metadata": {},
   "outputs": [],
   "source": [
    "# Topic: Mini Projects\n",
    "# Palindrome check\n",
    "def is_pal(s): return s == s[::-1]\n",
    "print(is_pal('madam'))"
   ]
  },
  {
   "cell_type": "code",
   "execution_count": null,
   "id": "c4819a1b",
   "metadata": {},
   "outputs": [],
   "source": [
    "# Topic: Regex\n",
    "import re\n",
    "text = 'email: test@example.com'\n",
    "print(re.findall(r'\\S+@\\S+', text))"
   ]
  },
  {
   "cell_type": "code",
   "execution_count": null,
   "id": "dd39341d",
   "metadata": {},
   "outputs": [],
   "source": [
    "# Topic: NumPy\n",
    "import numpy as np\n",
    "a = np.array([1, 2, 3])\n",
    "print(a + 5)"
   ]
  },
  {
   "cell_type": "code",
   "execution_count": null,
   "id": "2db83f67",
   "metadata": {},
   "outputs": [],
   "source": [
    "# Topic: OOP\n",
    "class Student:\n",
    "    def __init__(self, name): self.name = name\n",
    "s = Student('Fahd')\n",
    "print(s.name)"
   ]
  },
  {
   "cell_type": "code",
   "execution_count": null,
   "id": "a3cd8309",
   "metadata": {},
   "outputs": [],
   "source": [
    "# Topic: Algorithms\n",
    "# Bubble sort\n",
    "def bubble(arr):\n",
    " for i in range(len(arr)):\n",
    "  for j in range(0, len(arr)-i-1):\n",
    "   if arr[j]>arr[j+1]: arr[j],arr[j+1]=arr[j+1],arr[j]\n",
    "a=[5,3,8]\n",
    "bubble(a)\n",
    "print(a)"
   ]
  },
  {
   "cell_type": "code",
   "execution_count": null,
   "id": "40cbe9e3",
   "metadata": {},
   "outputs": [],
   "source": [
    "# Topic: Basics\n",
    "name = 'Fahd'\n",
    "print(f'Hello, {name}')"
   ]
  },
  {
   "cell_type": "code",
   "execution_count": null,
   "id": "71beff76",
   "metadata": {},
   "outputs": [],
   "source": [
    "# Topic: Algorithms\n",
    "# Bubble sort\n",
    "def bubble(arr):\n",
    " for i in range(len(arr)):\n",
    "  for j in range(0, len(arr)-i-1):\n",
    "   if arr[j]>arr[j+1]: arr[j],arr[j+1]=arr[j+1],arr[j]\n",
    "a=[5,3,8]\n",
    "bubble(a)\n",
    "print(a)"
   ]
  },
  {
   "cell_type": "code",
   "execution_count": null,
   "id": "0fb0a58c",
   "metadata": {},
   "outputs": [],
   "source": [
    "# Topic: Regex\n",
    "import re\n",
    "text = 'email: test@example.com'\n",
    "print(re.findall(r'\\S+@\\S+', text))"
   ]
  },
  {
   "cell_type": "code",
   "execution_count": null,
   "id": "27ebed96",
   "metadata": {},
   "outputs": [],
   "source": [
    "# Topic: Web Scraping\n",
    "import requests\n",
    "from bs4 import BeautifulSoup\n",
    "r = requests.get('https://example.com')\n",
    "soup = BeautifulSoup(r.text, 'html.parser')\n",
    "print(soup.title.text)"
   ]
  },
  {
   "cell_type": "code",
   "execution_count": null,
   "id": "6e63837c",
   "metadata": {},
   "outputs": [],
   "source": [
    "# Topic: JSON & CSV\n",
    "import csv\n",
    "with open('file.csv', 'w', newline='') as f:\n",
    " csv.writer(f).writerow(['a','b','c'])"
   ]
  },
  {
   "cell_type": "code",
   "execution_count": null,
   "id": "8147f4f4",
   "metadata": {},
   "outputs": [],
   "source": [
    "# Topic: JSON & CSV\n",
    "import csv\n",
    "with open('file.csv', 'w', newline='') as f:\n",
    " csv.writer(f).writerow(['a','b','c'])"
   ]
  },
  {
   "cell_type": "code",
   "execution_count": null,
   "id": "87c75bc5",
   "metadata": {},
   "outputs": [],
   "source": [
    "# Topic: Data Cleaning\n",
    "import pandas as pd\n",
    "df = pd.DataFrame({'A':[1,None,3]})\n",
    "df = df.fillna(0)\n",
    "print(df)"
   ]
  },
  {
   "cell_type": "code",
   "execution_count": null,
   "id": "5ff32ec8",
   "metadata": {},
   "outputs": [],
   "source": [
    "# Topic: Dictionaries & Sets\n",
    "d = {'name': 'Fahd', 'age': 20}\n",
    "print(d.get('name'))"
   ]
  },
  {
   "cell_type": "code",
   "execution_count": null,
   "id": "74069466",
   "metadata": {},
   "outputs": [],
   "source": [
    "# Topic: Basics\n",
    "name = 'Fahd'\n",
    "print(f'Hello, {name}')"
   ]
  },
  {
   "cell_type": "code",
   "execution_count": null,
   "id": "b83f10fa",
   "metadata": {},
   "outputs": [],
   "source": [
    "# Topic: Regex\n",
    "import re\n",
    "text = 'email: test@example.com'\n",
    "print(re.findall(r'\\S+@\\S+', text))"
   ]
  },
  {
   "cell_type": "code",
   "execution_count": null,
   "id": "495751d2",
   "metadata": {},
   "outputs": [],
   "source": [
    "# Topic: Lists & Tuples\n",
    "lst = [1, 2, 3]\n",
    "lst.append(4)\n",
    "print(lst)"
   ]
  },
  {
   "cell_type": "code",
   "execution_count": null,
   "id": "8b7ee4c0",
   "metadata": {},
   "outputs": [],
   "source": [
    "# Topic: Basics\n",
    "name = 'Fahd'\n",
    "print(f'Hello, {name}')"
   ]
  },
  {
   "cell_type": "code",
   "execution_count": null,
   "id": "a1802ae9",
   "metadata": {},
   "outputs": [],
   "source": [
    "# Topic: File I/O\n",
    "with open('test.txt', 'w') as f:\n",
    "    f.write('Hello World')"
   ]
  },
  {
   "cell_type": "code",
   "execution_count": null,
   "id": "6082e86f",
   "metadata": {},
   "outputs": [],
   "source": [
    "# Topic: Mini Projects\n",
    "# Palindrome check\n",
    "def is_pal(s): return s == s[::-1]\n",
    "print(is_pal('madam'))"
   ]
  },
  {
   "cell_type": "code",
   "execution_count": null,
   "id": "2be789c7",
   "metadata": {},
   "outputs": [],
   "source": [
    "# Topic: Functions\n",
    "def greet(name='User'):\n",
    "    print(f'Hi, {name}')\n",
    "greet()"
   ]
  },
  {
   "cell_type": "code",
   "execution_count": null,
   "id": "ad08f16c",
   "metadata": {},
   "outputs": [],
   "source": [
    "# Topic: Dictionaries & Sets\n",
    "d = {'name': 'Fahd', 'age': 20}\n",
    "print(d.get('name'))"
   ]
  },
  {
   "cell_type": "code",
   "execution_count": null,
   "id": "c25703f6",
   "metadata": {},
   "outputs": [],
   "source": [
    "# Topic: Pandas\n",
    "import pandas as pd\n",
    "df = pd.read_csv('file.csv')\n",
    "print(df.head())"
   ]
  },
  {
   "cell_type": "code",
   "execution_count": null,
   "id": "48e605b3",
   "metadata": {},
   "outputs": [],
   "source": [
    "# Topic: JSON & CSV\n",
    "import csv\n",
    "with open('file.csv', 'w', newline='') as f:\n",
    " csv.writer(f).writerow(['a','b','c'])"
   ]
  },
  {
   "cell_type": "code",
   "execution_count": null,
   "id": "42960523",
   "metadata": {},
   "outputs": [],
   "source": [
    "# Topic: Mini Projects\n",
    "# Palindrome check\n",
    "def is_pal(s): return s == s[::-1]\n",
    "print(is_pal('madam'))"
   ]
  },
  {
   "cell_type": "code",
   "execution_count": null,
   "id": "c577627b",
   "metadata": {},
   "outputs": [],
   "source": [
    "# Topic: Lists & Tuples\n",
    "t = (1, 2, 3)\n",
    "print(t[0])"
   ]
  },
  {
   "cell_type": "code",
   "execution_count": null,
   "id": "d0f6e5e8",
   "metadata": {},
   "outputs": [],
   "source": [
    "# Topic: OOP\n",
    "class Student:\n",
    "    def __init__(self, name): self.name = name\n",
    "s = Student('Fahd')\n",
    "print(s.name)"
   ]
  },
  {
   "cell_type": "code",
   "execution_count": null,
   "id": "a6e8b3da",
   "metadata": {},
   "outputs": [],
   "source": [
    "# Topic: Decorators\n",
    "def log(func):\n",
    " def wrapper():\n",
    "  print('Call')\n",
    "  func()\n",
    " return wrapper\n",
    "@log\n",
    "def say(): print('Hi')\n",
    "say()"
   ]
  },
  {
   "cell_type": "code",
   "execution_count": null,
   "id": "52f1537e",
   "metadata": {},
   "outputs": [],
   "source": [
    "# Topic: Decorators\n",
    "def log(func):\n",
    " def wrapper():\n",
    "  print('Call')\n",
    "  func()\n",
    " return wrapper\n",
    "@log\n",
    "def say(): print('Hi')\n",
    "say()"
   ]
  },
  {
   "cell_type": "code",
   "execution_count": null,
   "id": "1b6e4b70",
   "metadata": {},
   "outputs": [],
   "source": [
    "# Topic: Data Cleaning\n",
    "import pandas as pd\n",
    "df = pd.DataFrame({'A':[1,None,3]})\n",
    "df = df.fillna(0)\n",
    "print(df)"
   ]
  },
  {
   "cell_type": "code",
   "execution_count": null,
   "id": "3d2f3c48",
   "metadata": {},
   "outputs": [],
   "source": [
    "# Topic: Basics\n",
    "x = 10\n",
    "y = 20\n",
    "print(x + y)"
   ]
  },
  {
   "cell_type": "code",
   "execution_count": null,
   "id": "dc51ab85",
   "metadata": {},
   "outputs": [],
   "source": [
    "# Topic: Regex\n",
    "import re\n",
    "text = 'email: test@example.com'\n",
    "print(re.findall(r'\\S+@\\S+', text))"
   ]
  },
  {
   "cell_type": "code",
   "execution_count": null,
   "id": "fb0df8f0",
   "metadata": {},
   "outputs": [],
   "source": [
    "# Topic: File I/O\n",
    "with open('test.txt', 'w') as f:\n",
    "    f.write('Hello World')"
   ]
  },
  {
   "cell_type": "code",
   "execution_count": null,
   "id": "4ec4c204",
   "metadata": {},
   "outputs": [],
   "source": [
    "# Topic: JSON & CSV\n",
    "import json\n",
    "data = {'a': 1}\n",
    "print(json.dumps(data))"
   ]
  },
  {
   "cell_type": "code",
   "execution_count": null,
   "id": "342c92c5",
   "metadata": {},
   "outputs": [],
   "source": [
    "# Topic: Pandas\n",
    "import pandas as pd\n",
    "df = pd.DataFrame({'A':[1,2],'B':[3,4]})\n",
    "print(df)"
   ]
  },
  {
   "cell_type": "code",
   "execution_count": null,
   "id": "002c7024",
   "metadata": {},
   "outputs": [],
   "source": [
    "# Topic: NumPy\n",
    "import numpy as np\n",
    "a = np.array([1, 2, 3])\n",
    "print(a + 5)"
   ]
  },
  {
   "cell_type": "code",
   "execution_count": null,
   "id": "87356a64",
   "metadata": {},
   "outputs": [],
   "source": [
    "# Topic: Decorators\n",
    "def log(func):\n",
    " def wrapper():\n",
    "  print('Call')\n",
    "  func()\n",
    " return wrapper\n",
    "@log\n",
    "def say(): print('Hi')\n",
    "say()"
   ]
  },
  {
   "cell_type": "code",
   "execution_count": null,
   "id": "50d3e4cd",
   "metadata": {},
   "outputs": [],
   "source": [
    "# Topic: JSON & CSV\n",
    "import csv\n",
    "with open('file.csv', 'w', newline='') as f:\n",
    " csv.writer(f).writerow(['a','b','c'])"
   ]
  },
  {
   "cell_type": "code",
   "execution_count": null,
   "id": "1c1b0bc6",
   "metadata": {},
   "outputs": [],
   "source": [
    "# Topic: JSON & CSV\n",
    "import json\n",
    "data = {'a': 1}\n",
    "print(json.dumps(data))"
   ]
  },
  {
   "cell_type": "code",
   "execution_count": null,
   "id": "bf6b4b42",
   "metadata": {},
   "outputs": [],
   "source": [
    "# Topic: Lists & Tuples\n",
    "lst = [1, 2, 3]\n",
    "lst.append(4)\n",
    "print(lst)"
   ]
  },
  {
   "cell_type": "code",
   "execution_count": null,
   "id": "90f49a5d",
   "metadata": {},
   "outputs": [],
   "source": [
    "# Topic: NumPy\n",
    "import numpy as np\n",
    "a = np.array([1, 2, 3])\n",
    "print(a + 5)"
   ]
  },
  {
   "cell_type": "code",
   "execution_count": null,
   "id": "8ae8586b",
   "metadata": {},
   "outputs": [],
   "source": [
    "# Topic: Regex\n",
    "import re\n",
    "text = 'email: test@example.com'\n",
    "print(re.findall(r'\\S+@\\S+', text))"
   ]
  },
  {
   "cell_type": "code",
   "execution_count": null,
   "id": "77016c82",
   "metadata": {},
   "outputs": [],
   "source": [
    "# Topic: CLI Tools\n",
    "import sys\n",
    "print(f'Arguments: {sys.argv}')"
   ]
  },
  {
   "cell_type": "code",
   "execution_count": null,
   "id": "dd3223d1",
   "metadata": {},
   "outputs": [],
   "source": [
    "# Topic: NumPy\n",
    "import numpy as np\n",
    "print(np.linspace(0, 1, 5))"
   ]
  },
  {
   "cell_type": "code",
   "execution_count": null,
   "id": "93d34e06",
   "metadata": {},
   "outputs": [],
   "source": [
    "# Topic: Regex\n",
    "import re\n",
    "text = 'email: test@example.com'\n",
    "print(re.findall(r'\\S+@\\S+', text))"
   ]
  },
  {
   "cell_type": "code",
   "execution_count": null,
   "id": "d21b06e9",
   "metadata": {},
   "outputs": [],
   "source": [
    "# Topic: Pandas\n",
    "import pandas as pd\n",
    "df = pd.read_csv('file.csv')\n",
    "print(df.head())"
   ]
  },
  {
   "cell_type": "code",
   "execution_count": null,
   "id": "f00ac9ee",
   "metadata": {},
   "outputs": [],
   "source": [
    "# Topic: Mini Projects\n",
    "# Calculator\n",
    "def calc(a,b,op): return eval(f'{a}{op}{b}')\n",
    "print(calc(5,2,'+'))"
   ]
  },
  {
   "cell_type": "code",
   "execution_count": null,
   "id": "e5f961f3",
   "metadata": {},
   "outputs": [],
   "source": [
    "# Topic: Web Scraping\n",
    "import requests\n",
    "from bs4 import BeautifulSoup\n",
    "r = requests.get('https://example.com')\n",
    "soup = BeautifulSoup(r.text, 'html.parser')\n",
    "print(soup.title.text)"
   ]
  },
  {
   "cell_type": "code",
   "execution_count": null,
   "id": "a82cc4d7",
   "metadata": {},
   "outputs": [],
   "source": [
    "# Topic: CLI Tools\n",
    "import sys\n",
    "print(f'Arguments: {sys.argv}')"
   ]
  },
  {
   "cell_type": "code",
   "execution_count": null,
   "id": "f85e06ea",
   "metadata": {},
   "outputs": [],
   "source": [
    "# Topic: Basics\n",
    "name = 'Fahd'\n",
    "print(f'Hello, {name}')"
   ]
  },
  {
   "cell_type": "code",
   "execution_count": null,
   "id": "da4b2d8f",
   "metadata": {},
   "outputs": [],
   "source": [
    "# Topic: Basics\n",
    "x = 10\n",
    "y = 20\n",
    "print(x + y)"
   ]
  },
  {
   "cell_type": "code",
   "execution_count": null,
   "id": "8b835de8",
   "metadata": {},
   "outputs": [],
   "source": [
    "# Topic: Lists & Tuples\n",
    "t = (1, 2, 3)\n",
    "print(t[0])"
   ]
  },
  {
   "cell_type": "code",
   "execution_count": null,
   "id": "6f0e6825",
   "metadata": {},
   "outputs": [],
   "source": [
    "# Topic: Mini Projects\n",
    "# Calculator\n",
    "def calc(a,b,op): return eval(f'{a}{op}{b}')\n",
    "print(calc(5,2,'+'))"
   ]
  },
  {
   "cell_type": "code",
   "execution_count": null,
   "id": "2661a8d0",
   "metadata": {},
   "outputs": [],
   "source": [
    "# Topic: CLI Tools\n",
    "import sys\n",
    "print(f'Arguments: {sys.argv}')"
   ]
  },
  {
   "cell_type": "code",
   "execution_count": null,
   "id": "89b24223",
   "metadata": {},
   "outputs": [],
   "source": [
    "# Topic: Basics\n",
    "name = 'Fahd'\n",
    "print(f'Hello, {name}')"
   ]
  },
  {
   "cell_type": "code",
   "execution_count": null,
   "id": "ca0a2166",
   "metadata": {},
   "outputs": [],
   "source": [
    "# Topic: Data Cleaning\n",
    "import pandas as pd\n",
    "df = pd.DataFrame({'A':[1,None,3]})\n",
    "df = df.fillna(0)\n",
    "print(df)"
   ]
  },
  {
   "cell_type": "code",
   "execution_count": null,
   "id": "a8c2554f",
   "metadata": {},
   "outputs": [],
   "source": [
    "# Topic: Basic ML\n",
    "from sklearn.linear_model import LinearRegression\n",
    "model = LinearRegression()\n",
    "print(model)"
   ]
  },
  {
   "cell_type": "code",
   "execution_count": null,
   "id": "668765a3",
   "metadata": {},
   "outputs": [],
   "source": [
    "# Topic: CLI Tools\n",
    "import sys\n",
    "print(f'Arguments: {sys.argv}')"
   ]
  },
  {
   "cell_type": "code",
   "execution_count": null,
   "id": "d3e23b09",
   "metadata": {},
   "outputs": [],
   "source": [
    "# Topic: Decorators\n",
    "def log(func):\n",
    " def wrapper():\n",
    "  print('Call')\n",
    "  func()\n",
    " return wrapper\n",
    "@log\n",
    "def say(): print('Hi')\n",
    "say()"
   ]
  },
  {
   "cell_type": "code",
   "execution_count": null,
   "id": "dc450fef",
   "metadata": {},
   "outputs": [],
   "source": [
    "# Topic: Functions\n",
    "def greet(name='User'):\n",
    "    print(f'Hi, {name}')\n",
    "greet()"
   ]
  },
  {
   "cell_type": "code",
   "execution_count": null,
   "id": "7b4181f5",
   "metadata": {},
   "outputs": [],
   "source": [
    "# Topic: Basics\n",
    "x = 10\n",
    "y = 20\n",
    "print(x + y)"
   ]
  },
  {
   "cell_type": "code",
   "execution_count": null,
   "id": "c8b5b1cd",
   "metadata": {},
   "outputs": [],
   "source": [
    "# Topic: Basic ML\n",
    "from sklearn.linear_model import LinearRegression\n",
    "model = LinearRegression()\n",
    "print(model)"
   ]
  },
  {
   "cell_type": "code",
   "execution_count": null,
   "id": "7dc376ca",
   "metadata": {},
   "outputs": [],
   "source": [
    "# Topic: Algorithms\n",
    "# Bubble sort\n",
    "def bubble(arr):\n",
    " for i in range(len(arr)):\n",
    "  for j in range(0, len(arr)-i-1):\n",
    "   if arr[j]>arr[j+1]: arr[j],arr[j+1]=arr[j+1],arr[j]\n",
    "a=[5,3,8]\n",
    "bubble(a)\n",
    "print(a)"
   ]
  },
  {
   "cell_type": "code",
   "execution_count": null,
   "id": "5d996017",
   "metadata": {},
   "outputs": [],
   "source": [
    "# Topic: File I/O\n",
    "with open('test.txt', 'r') as f:\n",
    "    print(f.read())"
   ]
  },
  {
   "cell_type": "code",
   "execution_count": null,
   "id": "ccb12069",
   "metadata": {},
   "outputs": [],
   "source": [
    "# Topic: Lists & Tuples\n",
    "t = (1, 2, 3)\n",
    "print(t[0])"
   ]
  },
  {
   "cell_type": "code",
   "execution_count": null,
   "id": "ca90de81",
   "metadata": {},
   "outputs": [],
   "source": [
    "# Topic: Mini Projects\n",
    "# Palindrome check\n",
    "def is_pal(s): return s == s[::-1]\n",
    "print(is_pal('madam'))"
   ]
  },
  {
   "cell_type": "code",
   "execution_count": null,
   "id": "e81350b0",
   "metadata": {},
   "outputs": [],
   "source": [
    "# Topic: Lists & Tuples\n",
    "lst = [1, 2, 3]\n",
    "lst.append(4)\n",
    "print(lst)"
   ]
  },
  {
   "cell_type": "code",
   "execution_count": null,
   "id": "6ff570dc",
   "metadata": {},
   "outputs": [],
   "source": [
    "# Topic: Lists & Tuples\n",
    "t = (1, 2, 3)\n",
    "print(t[0])"
   ]
  },
  {
   "cell_type": "code",
   "execution_count": null,
   "id": "cafd8a4f",
   "metadata": {},
   "outputs": [],
   "source": [
    "# Topic: Matplotlib & Seaborn\n",
    "import matplotlib.pyplot as plt\n",
    "plt.plot([1,2],[3,4])\n",
    "plt.show()"
   ]
  },
  {
   "cell_type": "code",
   "execution_count": null,
   "id": "798b74e5",
   "metadata": {},
   "outputs": [],
   "source": [
    "# Topic: CLI Tools\n",
    "import sys\n",
    "print(f'Arguments: {sys.argv}')"
   ]
  },
  {
   "cell_type": "code",
   "execution_count": null,
   "id": "bdb98a91",
   "metadata": {},
   "outputs": [],
   "source": [
    "# Topic: Basic ML\n",
    "from sklearn.linear_model import LinearRegression\n",
    "model = LinearRegression()\n",
    "print(model)"
   ]
  },
  {
   "cell_type": "code",
   "execution_count": null,
   "id": "b68d2fca",
   "metadata": {},
   "outputs": [],
   "source": [
    "# Topic: Basic ML\n",
    "from sklearn.linear_model import LinearRegression\n",
    "model = LinearRegression()\n",
    "print(model)"
   ]
  },
  {
   "cell_type": "code",
   "execution_count": null,
   "id": "32049486",
   "metadata": {},
   "outputs": [],
   "source": [
    "# Topic: Basic ML\n",
    "from sklearn.linear_model import LinearRegression\n",
    "model = LinearRegression()\n",
    "print(model)"
   ]
  },
  {
   "cell_type": "code",
   "execution_count": null,
   "id": "edcf0417",
   "metadata": {},
   "outputs": [],
   "source": [
    "# Topic: Algorithms\n",
    "# Bubble sort\n",
    "def bubble(arr):\n",
    " for i in range(len(arr)):\n",
    "  for j in range(0, len(arr)-i-1):\n",
    "   if arr[j]>arr[j+1]: arr[j],arr[j+1]=arr[j+1],arr[j]\n",
    "a=[5,3,8]\n",
    "bubble(a)\n",
    "print(a)"
   ]
  },
  {
   "cell_type": "code",
   "execution_count": null,
   "id": "a2f7b117",
   "metadata": {},
   "outputs": [],
   "source": [
    "# Topic: Pandas\n",
    "import pandas as pd\n",
    "df = pd.DataFrame({'A':[1,2],'B':[3,4]})\n",
    "print(df)"
   ]
  },
  {
   "cell_type": "code",
   "execution_count": null,
   "id": "cdfc4fd4",
   "metadata": {},
   "outputs": [],
   "source": [
    "# Topic: Data Cleaning\n",
    "import pandas as pd\n",
    "df = pd.DataFrame({'A':[1,None,3]})\n",
    "df = df.fillna(0)\n",
    "print(df)"
   ]
  },
  {
   "cell_type": "code",
   "execution_count": null,
   "id": "1c23bfa4",
   "metadata": {},
   "outputs": [],
   "source": [
    "# Topic: Lists & Tuples\n",
    "t = (1, 2, 3)\n",
    "print(t[0])"
   ]
  },
  {
   "cell_type": "code",
   "execution_count": null,
   "id": "50f1b9e0",
   "metadata": {},
   "outputs": [],
   "source": [
    "# Topic: Recursion\n",
    "def fact(n): return 1 if n==0 else n*fact(n-1)\n",
    "print(fact(5))"
   ]
  },
  {
   "cell_type": "code",
   "execution_count": null,
   "id": "2ded2058",
   "metadata": {},
   "outputs": [],
   "source": [
    "# Topic: Web Scraping\n",
    "import requests\n",
    "from bs4 import BeautifulSoup\n",
    "r = requests.get('https://example.com')\n",
    "soup = BeautifulSoup(r.text, 'html.parser')\n",
    "print(soup.title.text)"
   ]
  },
  {
   "cell_type": "code",
   "execution_count": null,
   "id": "28db14f9",
   "metadata": {},
   "outputs": [],
   "source": [
    "# Topic: Decorators\n",
    "def log(func):\n",
    " def wrapper():\n",
    "  print('Call')\n",
    "  func()\n",
    " return wrapper\n",
    "@log\n",
    "def say(): print('Hi')\n",
    "say()"
   ]
  },
  {
   "cell_type": "code",
   "execution_count": null,
   "id": "601b7219",
   "metadata": {},
   "outputs": [],
   "source": [
    "# Topic: OOP\n",
    "class Student:\n",
    "    def __init__(self, name): self.name = name\n",
    "s = Student('Fahd')\n",
    "print(s.name)"
   ]
  },
  {
   "cell_type": "code",
   "execution_count": null,
   "id": "6a28dd47",
   "metadata": {},
   "outputs": [],
   "source": [
    "# Topic: Basic ML\n",
    "from sklearn.linear_model import LinearRegression\n",
    "model = LinearRegression()\n",
    "print(model)"
   ]
  },
  {
   "cell_type": "code",
   "execution_count": null,
   "id": "52ef2568",
   "metadata": {},
   "outputs": [],
   "source": [
    "# Topic: NumPy\n",
    "import numpy as np\n",
    "a = np.array([1, 2, 3])\n",
    "print(a + 5)"
   ]
  },
  {
   "cell_type": "code",
   "execution_count": null,
   "id": "bdb97181",
   "metadata": {},
   "outputs": [],
   "source": [
    "# Topic: Basics\n",
    "x = 10\n",
    "y = 20\n",
    "print(x + y)"
   ]
  },
  {
   "cell_type": "code",
   "execution_count": null,
   "id": "095b4239",
   "metadata": {},
   "outputs": [],
   "source": [
    "# Topic: Mini Projects\n",
    "# Palindrome check\n",
    "def is_pal(s): return s == s[::-1]\n",
    "print(is_pal('madam'))"
   ]
  },
  {
   "cell_type": "code",
   "execution_count": null,
   "id": "6b76e70e",
   "metadata": {},
   "outputs": [],
   "source": [
    "# Topic: Data Cleaning\n",
    "import pandas as pd\n",
    "df = pd.DataFrame({'A':[1,None,3]})\n",
    "df = df.fillna(0)\n",
    "print(df)"
   ]
  },
  {
   "cell_type": "code",
   "execution_count": null,
   "id": "6fbcfa3f",
   "metadata": {},
   "outputs": [],
   "source": [
    "# Topic: Basics\n",
    "x = 10\n",
    "y = 20\n",
    "print(x + y)"
   ]
  },
  {
   "cell_type": "code",
   "execution_count": null,
   "id": "48fcd537",
   "metadata": {},
   "outputs": [],
   "source": [
    "# Topic: Pandas\n",
    "import pandas as pd\n",
    "df = pd.DataFrame({'A':[1,2],'B':[3,4]})\n",
    "print(df)"
   ]
  },
  {
   "cell_type": "code",
   "execution_count": null,
   "id": "0a0d4be1",
   "metadata": {},
   "outputs": [],
   "source": [
    "# Topic: Matplotlib & Seaborn\n",
    "import matplotlib.pyplot as plt\n",
    "plt.plot([1,2],[3,4])\n",
    "plt.show()"
   ]
  },
  {
   "cell_type": "code",
   "execution_count": null,
   "id": "e50fdc4e",
   "metadata": {},
   "outputs": [],
   "source": [
    "# Topic: File I/O\n",
    "with open('test.txt', 'w') as f:\n",
    "    f.write('Hello World')"
   ]
  },
  {
   "cell_type": "code",
   "execution_count": null,
   "id": "1363b96e",
   "metadata": {},
   "outputs": [],
   "source": [
    "# Topic: OOP\n",
    "class Student:\n",
    "    def __init__(self, name): self.name = name\n",
    "s = Student('Fahd')\n",
    "print(s.name)"
   ]
  },
  {
   "cell_type": "code",
   "execution_count": null,
   "id": "d3370d0f",
   "metadata": {},
   "outputs": [],
   "source": [
    "# Topic: Recursion\n",
    "def fact(n): return 1 if n==0 else n*fact(n-1)\n",
    "print(fact(5))"
   ]
  },
  {
   "cell_type": "code",
   "execution_count": null,
   "id": "d9589caf",
   "metadata": {},
   "outputs": [],
   "source": [
    "# Topic: Pandas\n",
    "import pandas as pd\n",
    "df = pd.read_csv('file.csv')\n",
    "print(df.head())"
   ]
  },
  {
   "cell_type": "code",
   "execution_count": null,
   "id": "fcc908ea",
   "metadata": {},
   "outputs": [],
   "source": [
    "# Topic: Recursion\n",
    "def fact(n): return 1 if n==0 else n*fact(n-1)\n",
    "print(fact(5))"
   ]
  },
  {
   "cell_type": "code",
   "execution_count": null,
   "id": "9815f54b",
   "metadata": {},
   "outputs": [],
   "source": [
    "# Topic: Dictionaries & Sets\n",
    "s = set([1, 2, 3, 2])\n",
    "print(s)"
   ]
  },
  {
   "cell_type": "code",
   "execution_count": null,
   "id": "24a95742",
   "metadata": {},
   "outputs": [],
   "source": [
    "# Topic: JSON & CSV\n",
    "import json\n",
    "data = {'a': 1}\n",
    "print(json.dumps(data))"
   ]
  },
  {
   "cell_type": "code",
   "execution_count": null,
   "id": "d1e558a5",
   "metadata": {},
   "outputs": [],
   "source": [
    "# Topic: OOP\n",
    "class Student:\n",
    "    def __init__(self, name): self.name = name\n",
    "s = Student('Fahd')\n",
    "print(s.name)"
   ]
  },
  {
   "cell_type": "code",
   "execution_count": null,
   "id": "7e5b3e86",
   "metadata": {},
   "outputs": [],
   "source": [
    "# Topic: JSON & CSV\n",
    "import csv\n",
    "with open('file.csv', 'w', newline='') as f:\n",
    " csv.writer(f).writerow(['a','b','c'])"
   ]
  },
  {
   "cell_type": "code",
   "execution_count": null,
   "id": "bcc817fc",
   "metadata": {},
   "outputs": [],
   "source": [
    "# Topic: File I/O\n",
    "with open('test.txt', 'r') as f:\n",
    "    print(f.read())"
   ]
  },
  {
   "cell_type": "code",
   "execution_count": null,
   "id": "5d40d85c",
   "metadata": {},
   "outputs": [],
   "source": [
    "# Topic: Regex\n",
    "import re\n",
    "text = 'email: test@example.com'\n",
    "print(re.findall(r'\\S+@\\S+', text))"
   ]
  },
  {
   "cell_type": "code",
   "execution_count": null,
   "id": "d96542ae",
   "metadata": {},
   "outputs": [],
   "source": [
    "# Topic: Pandas\n",
    "import pandas as pd\n",
    "df = pd.DataFrame({'A':[1,2],'B':[3,4]})\n",
    "print(df)"
   ]
  },
  {
   "cell_type": "code",
   "execution_count": null,
   "id": "ed35b348",
   "metadata": {},
   "outputs": [],
   "source": [
    "# Topic: Functions\n",
    "def greet(name='User'):\n",
    "    print(f'Hi, {name}')\n",
    "greet()"
   ]
  },
  {
   "cell_type": "code",
   "execution_count": null,
   "id": "871b1dfe",
   "metadata": {},
   "outputs": [],
   "source": [
    "# Topic: Loops\n",
    "for i in range(10): print(i*i)"
   ]
  },
  {
   "cell_type": "code",
   "execution_count": null,
   "id": "5818c290",
   "metadata": {},
   "outputs": [],
   "source": [
    "# Topic: Mini Projects\n",
    "# Calculator\n",
    "def calc(a,b,op): return eval(f'{a}{op}{b}')\n",
    "print(calc(5,2,'+'))"
   ]
  },
  {
   "cell_type": "code",
   "execution_count": null,
   "id": "77c7b00c",
   "metadata": {},
   "outputs": [],
   "source": [
    "# Topic: Regex\n",
    "import re\n",
    "text = 'email: test@example.com'\n",
    "print(re.findall(r'\\S+@\\S+', text))"
   ]
  },
  {
   "cell_type": "code",
   "execution_count": null,
   "id": "955fca42",
   "metadata": {},
   "outputs": [],
   "source": [
    "# Topic: Decorators\n",
    "def log(func):\n",
    " def wrapper():\n",
    "  print('Call')\n",
    "  func()\n",
    " return wrapper\n",
    "@log\n",
    "def say(): print('Hi')\n",
    "say()"
   ]
  },
  {
   "cell_type": "code",
   "execution_count": null,
   "id": "bf75976a",
   "metadata": {},
   "outputs": [],
   "source": [
    "# Topic: Mini Projects\n",
    "# Calculator\n",
    "def calc(a,b,op): return eval(f'{a}{op}{b}')\n",
    "print(calc(5,2,'+'))"
   ]
  },
  {
   "cell_type": "code",
   "execution_count": null,
   "id": "902f7e53",
   "metadata": {},
   "outputs": [],
   "source": [
    "# Topic: OOP\n",
    "class Student:\n",
    "    def __init__(self, name): self.name = name\n",
    "s = Student('Fahd')\n",
    "print(s.name)"
   ]
  },
  {
   "cell_type": "code",
   "execution_count": null,
   "id": "af5762c0",
   "metadata": {},
   "outputs": [],
   "source": [
    "# Topic: NumPy\n",
    "import numpy as np\n",
    "print(np.linspace(0, 1, 5))"
   ]
  },
  {
   "cell_type": "code",
   "execution_count": null,
   "id": "56425336",
   "metadata": {},
   "outputs": [],
   "source": [
    "# Topic: Regex\n",
    "import re\n",
    "text = 'email: test@example.com'\n",
    "print(re.findall(r'\\S+@\\S+', text))"
   ]
  },
  {
   "cell_type": "code",
   "execution_count": null,
   "id": "b6931d69",
   "metadata": {},
   "outputs": [],
   "source": [
    "# Topic: Web Scraping\n",
    "import requests\n",
    "from bs4 import BeautifulSoup\n",
    "r = requests.get('https://example.com')\n",
    "soup = BeautifulSoup(r.text, 'html.parser')\n",
    "print(soup.title.text)"
   ]
  },
  {
   "cell_type": "code",
   "execution_count": null,
   "id": "7ad5c64d",
   "metadata": {},
   "outputs": [],
   "source": [
    "# Topic: Lists & Tuples\n",
    "t = (1, 2, 3)\n",
    "print(t[0])"
   ]
  },
  {
   "cell_type": "code",
   "execution_count": null,
   "id": "1dab9b01",
   "metadata": {},
   "outputs": [],
   "source": [
    "# Topic: Pandas\n",
    "import pandas as pd\n",
    "df = pd.DataFrame({'A':[1,2],'B':[3,4]})\n",
    "print(df)"
   ]
  },
  {
   "cell_type": "code",
   "execution_count": null,
   "id": "bfad4390",
   "metadata": {},
   "outputs": [],
   "source": [
    "# Topic: Mini Projects\n",
    "# Calculator\n",
    "def calc(a,b,op): return eval(f'{a}{op}{b}')\n",
    "print(calc(5,2,'+'))"
   ]
  },
  {
   "cell_type": "code",
   "execution_count": null,
   "id": "0e59e528",
   "metadata": {},
   "outputs": [],
   "source": [
    "# Topic: Pandas\n",
    "import pandas as pd\n",
    "df = pd.read_csv('file.csv')\n",
    "print(df.head())"
   ]
  },
  {
   "cell_type": "code",
   "execution_count": null,
   "id": "871546ca",
   "metadata": {},
   "outputs": [],
   "source": [
    "# Topic: OOP\n",
    "class Student:\n",
    "    def __init__(self, name): self.name = name\n",
    "s = Student('Fahd')\n",
    "print(s.name)"
   ]
  },
  {
   "cell_type": "code",
   "execution_count": null,
   "id": "3a79dd46",
   "metadata": {},
   "outputs": [],
   "source": [
    "# Topic: Web Scraping\n",
    "import requests\n",
    "from bs4 import BeautifulSoup\n",
    "r = requests.get('https://example.com')\n",
    "soup = BeautifulSoup(r.text, 'html.parser')\n",
    "print(soup.title.text)"
   ]
  },
  {
   "cell_type": "code",
   "execution_count": null,
   "id": "0d0a7fdf",
   "metadata": {},
   "outputs": [],
   "source": [
    "# Topic: Recursion\n",
    "def fact(n): return 1 if n==0 else n*fact(n-1)\n",
    "print(fact(5))"
   ]
  },
  {
   "cell_type": "code",
   "execution_count": null,
   "id": "b704ef7d",
   "metadata": {},
   "outputs": [],
   "source": [
    "# Topic: Pandas\n",
    "import pandas as pd\n",
    "df = pd.read_csv('file.csv')\n",
    "print(df.head())"
   ]
  },
  {
   "cell_type": "code",
   "execution_count": null,
   "id": "969dc05c",
   "metadata": {},
   "outputs": [],
   "source": [
    "# Topic: Matplotlib & Seaborn\n",
    "import seaborn as sns\n",
    "import pandas as pd\n",
    "sns.set()\n",
    "sns.histplot(pd.Series([1,2,2,3]));"
   ]
  },
  {
   "cell_type": "code",
   "execution_count": null,
   "id": "f52b1b2d",
   "metadata": {},
   "outputs": [],
   "source": [
    "# Topic: Pandas\n",
    "import pandas as pd\n",
    "df = pd.read_csv('file.csv')\n",
    "print(df.head())"
   ]
  },
  {
   "cell_type": "code",
   "execution_count": null,
   "id": "c43fde4f",
   "metadata": {},
   "outputs": [],
   "source": [
    "# Topic: Regex\n",
    "import re\n",
    "text = 'email: test@example.com'\n",
    "print(re.findall(r'\\S+@\\S+', text))"
   ]
  },
  {
   "cell_type": "code",
   "execution_count": null,
   "id": "01c8374a",
   "metadata": {},
   "outputs": [],
   "source": [
    "# Topic: Decorators\n",
    "def log(func):\n",
    " def wrapper():\n",
    "  print('Call')\n",
    "  func()\n",
    " return wrapper\n",
    "@log\n",
    "def say(): print('Hi')\n",
    "say()"
   ]
  },
  {
   "cell_type": "code",
   "execution_count": null,
   "id": "d2322937",
   "metadata": {},
   "outputs": [],
   "source": [
    "# Topic: OOP\n",
    "class Student:\n",
    "    def __init__(self, name): self.name = name\n",
    "s = Student('Fahd')\n",
    "print(s.name)"
   ]
  },
  {
   "cell_type": "code",
   "execution_count": null,
   "id": "3f36468e",
   "metadata": {},
   "outputs": [],
   "source": [
    "# Topic: File I/O\n",
    "with open('test.txt', 'w') as f:\n",
    "    f.write('Hello World')"
   ]
  },
  {
   "cell_type": "code",
   "execution_count": null,
   "id": "965e7efb",
   "metadata": {},
   "outputs": [],
   "source": [
    "# Topic: OOP\n",
    "class Student:\n",
    "    def __init__(self, name): self.name = name\n",
    "s = Student('Fahd')\n",
    "print(s.name)"
   ]
  },
  {
   "cell_type": "code",
   "execution_count": null,
   "id": "43fb5f50",
   "metadata": {},
   "outputs": [],
   "source": [
    "# Topic: Functions\n",
    "def square(x): return x*x\n",
    "print(square(5))"
   ]
  },
  {
   "cell_type": "code",
   "execution_count": null,
   "id": "512e89d2",
   "metadata": {},
   "outputs": [],
   "source": [
    "# Topic: Lists & Tuples\n",
    "t = (1, 2, 3)\n",
    "print(t[0])"
   ]
  },
  {
   "cell_type": "code",
   "execution_count": null,
   "id": "eccef1c5",
   "metadata": {},
   "outputs": [],
   "source": [
    "# Topic: File I/O\n",
    "with open('test.txt', 'w') as f:\n",
    "    f.write('Hello World')"
   ]
  },
  {
   "cell_type": "code",
   "execution_count": null,
   "id": "a06164aa",
   "metadata": {},
   "outputs": [],
   "source": [
    "# Topic: Decorators\n",
    "def log(func):\n",
    " def wrapper():\n",
    "  print('Call')\n",
    "  func()\n",
    " return wrapper\n",
    "@log\n",
    "def say(): print('Hi')\n",
    "say()"
   ]
  },
  {
   "cell_type": "code",
   "execution_count": null,
   "id": "2c63fa07",
   "metadata": {},
   "outputs": [],
   "source": [
    "# Topic: Regex\n",
    "import re\n",
    "text = 'email: test@example.com'\n",
    "print(re.findall(r'\\S+@\\S+', text))"
   ]
  },
  {
   "cell_type": "code",
   "execution_count": null,
   "id": "9df4f2c9",
   "metadata": {},
   "outputs": [],
   "source": [
    "# Topic: Dictionaries & Sets\n",
    "d = {'name': 'Fahd', 'age': 20}\n",
    "print(d.get('name'))"
   ]
  },
  {
   "cell_type": "code",
   "execution_count": null,
   "id": "fd13f015",
   "metadata": {},
   "outputs": [],
   "source": [
    "# Topic: Regex\n",
    "import re\n",
    "text = 'email: test@example.com'\n",
    "print(re.findall(r'\\S+@\\S+', text))"
   ]
  },
  {
   "cell_type": "code",
   "execution_count": null,
   "id": "8dabdfa6",
   "metadata": {},
   "outputs": [],
   "source": [
    "# Topic: Algorithms\n",
    "# Bubble sort\n",
    "def bubble(arr):\n",
    " for i in range(len(arr)):\n",
    "  for j in range(0, len(arr)-i-1):\n",
    "   if arr[j]>arr[j+1]: arr[j],arr[j+1]=arr[j+1],arr[j]\n",
    "a=[5,3,8]\n",
    "bubble(a)\n",
    "print(a)"
   ]
  },
  {
   "cell_type": "code",
   "execution_count": null,
   "id": "d6a8b70b",
   "metadata": {},
   "outputs": [],
   "source": [
    "# Topic: Decorators\n",
    "def log(func):\n",
    " def wrapper():\n",
    "  print('Call')\n",
    "  func()\n",
    " return wrapper\n",
    "@log\n",
    "def say(): print('Hi')\n",
    "say()"
   ]
  },
  {
   "cell_type": "code",
   "execution_count": null,
   "id": "a10fc97e",
   "metadata": {},
   "outputs": [],
   "source": [
    "# Topic: Lists & Tuples\n",
    "t = (1, 2, 3)\n",
    "print(t[0])"
   ]
  },
  {
   "cell_type": "code",
   "execution_count": null,
   "id": "a9c807e3",
   "metadata": {},
   "outputs": [],
   "source": [
    "# Topic: Lists & Tuples\n",
    "t = (1, 2, 3)\n",
    "print(t[0])"
   ]
  },
  {
   "cell_type": "code",
   "execution_count": null,
   "id": "7c340243",
   "metadata": {},
   "outputs": [],
   "source": [
    "# Topic: Web Scraping\n",
    "import requests\n",
    "from bs4 import BeautifulSoup\n",
    "r = requests.get('https://example.com')\n",
    "soup = BeautifulSoup(r.text, 'html.parser')\n",
    "print(soup.title.text)"
   ]
  },
  {
   "cell_type": "code",
   "execution_count": null,
   "id": "b8185349",
   "metadata": {},
   "outputs": [],
   "source": [
    "# Topic: Lists & Tuples\n",
    "t = (1, 2, 3)\n",
    "print(t[0])"
   ]
  },
  {
   "cell_type": "code",
   "execution_count": null,
   "id": "b5cd7cbe",
   "metadata": {},
   "outputs": [],
   "source": [
    "# Topic: Basics\n",
    "name = 'Fahd'\n",
    "print(f'Hello, {name}')"
   ]
  },
  {
   "cell_type": "code",
   "execution_count": null,
   "id": "2f39ad1a",
   "metadata": {},
   "outputs": [],
   "source": [
    "# Topic: OOP\n",
    "class Student:\n",
    "    def __init__(self, name): self.name = name\n",
    "s = Student('Fahd')\n",
    "print(s.name)"
   ]
  },
  {
   "cell_type": "code",
   "execution_count": null,
   "id": "b5344ff6",
   "metadata": {},
   "outputs": [],
   "source": [
    "# Topic: Web Scraping\n",
    "import requests\n",
    "from bs4 import BeautifulSoup\n",
    "r = requests.get('https://example.com')\n",
    "soup = BeautifulSoup(r.text, 'html.parser')\n",
    "print(soup.title.text)"
   ]
  },
  {
   "cell_type": "code",
   "execution_count": null,
   "id": "c2f81567",
   "metadata": {},
   "outputs": [],
   "source": [
    "# Topic: Data Cleaning\n",
    "import pandas as pd\n",
    "df = pd.DataFrame({'A':[1,None,3]})\n",
    "df = df.fillna(0)\n",
    "print(df)"
   ]
  },
  {
   "cell_type": "code",
   "execution_count": null,
   "id": "68cfd252",
   "metadata": {},
   "outputs": [],
   "source": [
    "# Topic: Recursion\n",
    "def fact(n): return 1 if n==0 else n*fact(n-1)\n",
    "print(fact(5))"
   ]
  },
  {
   "cell_type": "code",
   "execution_count": null,
   "id": "c8717602",
   "metadata": {},
   "outputs": [],
   "source": [
    "# Topic: Dictionaries & Sets\n",
    "s = set([1, 2, 3, 2])\n",
    "print(s)"
   ]
  },
  {
   "cell_type": "code",
   "execution_count": null,
   "id": "8cf29faa",
   "metadata": {},
   "outputs": [],
   "source": [
    "# Topic: CLI Tools\n",
    "import sys\n",
    "print(f'Arguments: {sys.argv}')"
   ]
  },
  {
   "cell_type": "code",
   "execution_count": null,
   "id": "ba33b30c",
   "metadata": {},
   "outputs": [],
   "source": [
    "# Topic: JSON & CSV\n",
    "import json\n",
    "data = {'a': 1}\n",
    "print(json.dumps(data))"
   ]
  },
  {
   "cell_type": "code",
   "execution_count": null,
   "id": "2bdffc51",
   "metadata": {},
   "outputs": [],
   "source": [
    "# Topic: Basics\n",
    "x = 10\n",
    "y = 20\n",
    "print(x + y)"
   ]
  },
  {
   "cell_type": "code",
   "execution_count": null,
   "id": "7d55a469",
   "metadata": {},
   "outputs": [],
   "source": [
    "# Topic: Pandas\n",
    "import pandas as pd\n",
    "df = pd.DataFrame({'A':[1,2],'B':[3,4]})\n",
    "print(df)"
   ]
  },
  {
   "cell_type": "code",
   "execution_count": null,
   "id": "dabe4cb0",
   "metadata": {},
   "outputs": [],
   "source": [
    "# Topic: File I/O\n",
    "with open('test.txt', 'r') as f:\n",
    "    print(f.read())"
   ]
  },
  {
   "cell_type": "code",
   "execution_count": null,
   "id": "86dcdf51",
   "metadata": {},
   "outputs": [],
   "source": [
    "# Topic: File I/O\n",
    "with open('test.txt', 'r') as f:\n",
    "    print(f.read())"
   ]
  },
  {
   "cell_type": "code",
   "execution_count": null,
   "id": "7b5b3fe0",
   "metadata": {},
   "outputs": [],
   "source": [
    "# Topic: JSON & CSV\n",
    "import csv\n",
    "with open('file.csv', 'w', newline='') as f:\n",
    " csv.writer(f).writerow(['a','b','c'])"
   ]
  },
  {
   "cell_type": "code",
   "execution_count": null,
   "id": "4caa92d6",
   "metadata": {},
   "outputs": [],
   "source": [
    "# Topic: Mini Projects\n",
    "# Calculator\n",
    "def calc(a,b,op): return eval(f'{a}{op}{b}')\n",
    "print(calc(5,2,'+'))"
   ]
  },
  {
   "cell_type": "code",
   "execution_count": null,
   "id": "9b4767b4",
   "metadata": {},
   "outputs": [],
   "source": [
    "# Topic: Functions\n",
    "def square(x): return x*x\n",
    "print(square(5))"
   ]
  },
  {
   "cell_type": "code",
   "execution_count": null,
   "id": "5727b017",
   "metadata": {},
   "outputs": [],
   "source": [
    "# Topic: Decorators\n",
    "def log(func):\n",
    " def wrapper():\n",
    "  print('Call')\n",
    "  func()\n",
    " return wrapper\n",
    "@log\n",
    "def say(): print('Hi')\n",
    "say()"
   ]
  },
  {
   "cell_type": "code",
   "execution_count": null,
   "id": "6c9231f1",
   "metadata": {},
   "outputs": [],
   "source": [
    "# Topic: Matplotlib & Seaborn\n",
    "import matplotlib.pyplot as plt\n",
    "plt.plot([1,2],[3,4])\n",
    "plt.show()"
   ]
  },
  {
   "cell_type": "code",
   "execution_count": null,
   "id": "d1db7b96",
   "metadata": {},
   "outputs": [],
   "source": [
    "# Topic: CLI Tools\n",
    "import sys\n",
    "print(f'Arguments: {sys.argv}')"
   ]
  },
  {
   "cell_type": "code",
   "execution_count": null,
   "id": "825d56c7",
   "metadata": {},
   "outputs": [],
   "source": [
    "# Topic: Basics\n",
    "name = 'Fahd'\n",
    "print(f'Hello, {name}')"
   ]
  },
  {
   "cell_type": "code",
   "execution_count": null,
   "id": "89388ced",
   "metadata": {},
   "outputs": [],
   "source": [
    "# Topic: Basic ML\n",
    "from sklearn.linear_model import LinearRegression\n",
    "model = LinearRegression()\n",
    "print(model)"
   ]
  },
  {
   "cell_type": "code",
   "execution_count": null,
   "id": "2d90defc",
   "metadata": {},
   "outputs": [],
   "source": [
    "# Topic: NumPy\n",
    "import numpy as np\n",
    "a = np.array([1, 2, 3])\n",
    "print(a + 5)"
   ]
  },
  {
   "cell_type": "code",
   "execution_count": null,
   "id": "55d03008",
   "metadata": {},
   "outputs": [],
   "source": [
    "# Topic: File I/O\n",
    "with open('test.txt', 'r') as f:\n",
    "    print(f.read())"
   ]
  },
  {
   "cell_type": "code",
   "execution_count": null,
   "id": "958d2df0",
   "metadata": {},
   "outputs": [],
   "source": [
    "# Topic: JSON & CSV\n",
    "import csv\n",
    "with open('file.csv', 'w', newline='') as f:\n",
    " csv.writer(f).writerow(['a','b','c'])"
   ]
  },
  {
   "cell_type": "code",
   "execution_count": null,
   "id": "a4230909",
   "metadata": {},
   "outputs": [],
   "source": [
    "# Topic: Regex\n",
    "import re\n",
    "text = 'email: test@example.com'\n",
    "print(re.findall(r'\\S+@\\S+', text))"
   ]
  },
  {
   "cell_type": "code",
   "execution_count": null,
   "id": "28731ad3",
   "metadata": {},
   "outputs": [],
   "source": [
    "# Topic: Basics\n",
    "x = 10\n",
    "y = 20\n",
    "print(x + y)"
   ]
  },
  {
   "cell_type": "code",
   "execution_count": null,
   "id": "ba4755b9",
   "metadata": {},
   "outputs": [],
   "source": [
    "# Topic: Regex\n",
    "import re\n",
    "text = 'email: test@example.com'\n",
    "print(re.findall(r'\\S+@\\S+', text))"
   ]
  },
  {
   "cell_type": "code",
   "execution_count": null,
   "id": "1283e0cd",
   "metadata": {},
   "outputs": [],
   "source": [
    "# Topic: Pandas\n",
    "import pandas as pd\n",
    "df = pd.read_csv('file.csv')\n",
    "print(df.head())"
   ]
  },
  {
   "cell_type": "code",
   "execution_count": null,
   "id": "a7ee156e",
   "metadata": {},
   "outputs": [],
   "source": [
    "# Topic: Dictionaries & Sets\n",
    "s = set([1, 2, 3, 2])\n",
    "print(s)"
   ]
  },
  {
   "cell_type": "code",
   "execution_count": null,
   "id": "bf654e27",
   "metadata": {},
   "outputs": [],
   "source": [
    "# Topic: Functions\n",
    "def greet(name='User'):\n",
    "    print(f'Hi, {name}')\n",
    "greet()"
   ]
  },
  {
   "cell_type": "code",
   "execution_count": null,
   "id": "32d32b3f",
   "metadata": {},
   "outputs": [],
   "source": [
    "# Topic: CLI Tools\n",
    "import sys\n",
    "print(f'Arguments: {sys.argv}')"
   ]
  },
  {
   "cell_type": "code",
   "execution_count": null,
   "id": "53e93630",
   "metadata": {},
   "outputs": [],
   "source": [
    "# Topic: Functions\n",
    "def square(x): return x*x\n",
    "print(square(5))"
   ]
  },
  {
   "cell_type": "code",
   "execution_count": null,
   "id": "746f6125",
   "metadata": {},
   "outputs": [],
   "source": [
    "# Topic: Dictionaries & Sets\n",
    "s = set([1, 2, 3, 2])\n",
    "print(s)"
   ]
  },
  {
   "cell_type": "code",
   "execution_count": null,
   "id": "5dc10581",
   "metadata": {},
   "outputs": [],
   "source": [
    "# Topic: Decorators\n",
    "def log(func):\n",
    " def wrapper():\n",
    "  print('Call')\n",
    "  func()\n",
    " return wrapper\n",
    "@log\n",
    "def say(): print('Hi')\n",
    "say()"
   ]
  },
  {
   "cell_type": "code",
   "execution_count": null,
   "id": "30e2cc05",
   "metadata": {},
   "outputs": [],
   "source": [
    "# Topic: Matplotlib & Seaborn\n",
    "import matplotlib.pyplot as plt\n",
    "plt.plot([1,2],[3,4])\n",
    "plt.show()"
   ]
  },
  {
   "cell_type": "code",
   "execution_count": null,
   "id": "50841b7e",
   "metadata": {},
   "outputs": [],
   "source": [
    "# Topic: NumPy\n",
    "import numpy as np\n",
    "a = np.array([1, 2, 3])\n",
    "print(a + 5)"
   ]
  },
  {
   "cell_type": "code",
   "execution_count": null,
   "id": "8929d0c6",
   "metadata": {},
   "outputs": [],
   "source": [
    "# Topic: Algorithms\n",
    "# Bubble sort\n",
    "def bubble(arr):\n",
    " for i in range(len(arr)):\n",
    "  for j in range(0, len(arr)-i-1):\n",
    "   if arr[j]>arr[j+1]: arr[j],arr[j+1]=arr[j+1],arr[j]\n",
    "a=[5,3,8]\n",
    "bubble(a)\n",
    "print(a)"
   ]
  },
  {
   "cell_type": "code",
   "execution_count": null,
   "id": "40d6fece",
   "metadata": {},
   "outputs": [],
   "source": [
    "# Topic: Loops\n",
    "while True:\n",
    "    print('Break')\n",
    "    break"
   ]
  },
  {
   "cell_type": "code",
   "execution_count": null,
   "id": "f6d385a4",
   "metadata": {},
   "outputs": [],
   "source": [
    "# Topic: Basic ML\n",
    "from sklearn.linear_model import LinearRegression\n",
    "model = LinearRegression()\n",
    "print(model)"
   ]
  },
  {
   "cell_type": "code",
   "execution_count": null,
   "id": "e1e59929",
   "metadata": {},
   "outputs": [],
   "source": [
    "# Topic: JSON & CSV\n",
    "import csv\n",
    "with open('file.csv', 'w', newline='') as f:\n",
    " csv.writer(f).writerow(['a','b','c'])"
   ]
  },
  {
   "cell_type": "code",
   "execution_count": null,
   "id": "758aeae3",
   "metadata": {},
   "outputs": [],
   "source": [
    "# Topic: JSON & CSV\n",
    "import csv\n",
    "with open('file.csv', 'w', newline='') as f:\n",
    " csv.writer(f).writerow(['a','b','c'])"
   ]
  },
  {
   "cell_type": "code",
   "execution_count": null,
   "id": "1df179cc",
   "metadata": {},
   "outputs": [],
   "source": [
    "# Topic: NumPy\n",
    "import numpy as np\n",
    "print(np.linspace(0, 1, 5))"
   ]
  },
  {
   "cell_type": "code",
   "execution_count": null,
   "id": "a7abf87c",
   "metadata": {},
   "outputs": [],
   "source": [
    "# Topic: Recursion\n",
    "def fact(n): return 1 if n==0 else n*fact(n-1)\n",
    "print(fact(5))"
   ]
  },
  {
   "cell_type": "code",
   "execution_count": null,
   "id": "1fe8bbaf",
   "metadata": {},
   "outputs": [],
   "source": [
    "# Topic: Regex\n",
    "import re\n",
    "text = 'email: test@example.com'\n",
    "print(re.findall(r'\\S+@\\S+', text))"
   ]
  },
  {
   "cell_type": "code",
   "execution_count": null,
   "id": "668c1f80",
   "metadata": {},
   "outputs": [],
   "source": [
    "# Topic: JSON & CSV\n",
    "import csv\n",
    "with open('file.csv', 'w', newline='') as f:\n",
    " csv.writer(f).writerow(['a','b','c'])"
   ]
  },
  {
   "cell_type": "code",
   "execution_count": null,
   "id": "e652c361",
   "metadata": {},
   "outputs": [],
   "source": [
    "# Topic: Pandas\n",
    "import pandas as pd\n",
    "df = pd.read_csv('file.csv')\n",
    "print(df.head())"
   ]
  },
  {
   "cell_type": "code",
   "execution_count": null,
   "id": "c0ca604b",
   "metadata": {},
   "outputs": [],
   "source": [
    "# Topic: OOP\n",
    "class Student:\n",
    "    def __init__(self, name): self.name = name\n",
    "s = Student('Fahd')\n",
    "print(s.name)"
   ]
  },
  {
   "cell_type": "code",
   "execution_count": null,
   "id": "b4c0c087",
   "metadata": {},
   "outputs": [],
   "source": [
    "# Topic: Matplotlib & Seaborn\n",
    "import seaborn as sns\n",
    "import pandas as pd\n",
    "sns.set()\n",
    "sns.histplot(pd.Series([1,2,2,3]));"
   ]
  },
  {
   "cell_type": "code",
   "execution_count": null,
   "id": "6e9d5265",
   "metadata": {},
   "outputs": [],
   "source": [
    "# Topic: Loops\n",
    "for i in range(10): print(i*i)"
   ]
  },
  {
   "cell_type": "code",
   "execution_count": null,
   "id": "315b75a0",
   "metadata": {},
   "outputs": [],
   "source": [
    "# Topic: Recursion\n",
    "def fact(n): return 1 if n==0 else n*fact(n-1)\n",
    "print(fact(5))"
   ]
  },
  {
   "cell_type": "code",
   "execution_count": null,
   "id": "2bcd23e2",
   "metadata": {},
   "outputs": [],
   "source": [
    "# Topic: CLI Tools\n",
    "import sys\n",
    "print(f'Arguments: {sys.argv}')"
   ]
  },
  {
   "cell_type": "code",
   "execution_count": null,
   "id": "8e6461b2",
   "metadata": {},
   "outputs": [],
   "source": [
    "# Topic: OOP\n",
    "class Student:\n",
    "    def __init__(self, name): self.name = name\n",
    "s = Student('Fahd')\n",
    "print(s.name)"
   ]
  },
  {
   "cell_type": "code",
   "execution_count": null,
   "id": "99ad227e",
   "metadata": {},
   "outputs": [],
   "source": [
    "# Topic: Basics\n",
    "name = 'Fahd'\n",
    "print(f'Hello, {name}')"
   ]
  },
  {
   "cell_type": "code",
   "execution_count": null,
   "id": "ed7c725d",
   "metadata": {},
   "outputs": [],
   "source": [
    "# Topic: File I/O\n",
    "with open('test.txt', 'w') as f:\n",
    "    f.write('Hello World')"
   ]
  },
  {
   "cell_type": "code",
   "execution_count": null,
   "id": "8b0964e2",
   "metadata": {},
   "outputs": [],
   "source": [
    "# Topic: Dictionaries & Sets\n",
    "d = {'name': 'Fahd', 'age': 20}\n",
    "print(d.get('name'))"
   ]
  },
  {
   "cell_type": "code",
   "execution_count": null,
   "id": "1e320e82",
   "metadata": {},
   "outputs": [],
   "source": [
    "# Topic: Matplotlib & Seaborn\n",
    "import matplotlib.pyplot as plt\n",
    "plt.plot([1,2],[3,4])\n",
    "plt.show()"
   ]
  },
  {
   "cell_type": "code",
   "execution_count": null,
   "id": "a514957f",
   "metadata": {},
   "outputs": [],
   "source": [
    "# Topic: Regex\n",
    "import re\n",
    "text = 'email: test@example.com'\n",
    "print(re.findall(r'\\S+@\\S+', text))"
   ]
  },
  {
   "cell_type": "code",
   "execution_count": null,
   "id": "58e72911",
   "metadata": {},
   "outputs": [],
   "source": [
    "# Topic: File I/O\n",
    "with open('test.txt', 'w') as f:\n",
    "    f.write('Hello World')"
   ]
  },
  {
   "cell_type": "code",
   "execution_count": null,
   "id": "db11ee3e",
   "metadata": {},
   "outputs": [],
   "source": [
    "# Topic: Pandas\n",
    "import pandas as pd\n",
    "df = pd.DataFrame({'A':[1,2],'B':[3,4]})\n",
    "print(df)"
   ]
  },
  {
   "cell_type": "code",
   "execution_count": null,
   "id": "033ce126",
   "metadata": {},
   "outputs": [],
   "source": [
    "# Topic: NumPy\n",
    "import numpy as np\n",
    "print(np.linspace(0, 1, 5))"
   ]
  },
  {
   "cell_type": "code",
   "execution_count": null,
   "id": "178402a0",
   "metadata": {},
   "outputs": [],
   "source": [
    "# Topic: Basics\n",
    "x = 10\n",
    "y = 20\n",
    "print(x + y)"
   ]
  },
  {
   "cell_type": "code",
   "execution_count": null,
   "id": "f603fcae",
   "metadata": {},
   "outputs": [],
   "source": [
    "# Topic: CLI Tools\n",
    "import sys\n",
    "print(f'Arguments: {sys.argv}')"
   ]
  },
  {
   "cell_type": "code",
   "execution_count": null,
   "id": "dc36f115",
   "metadata": {},
   "outputs": [],
   "source": [
    "# Topic: NumPy\n",
    "import numpy as np\n",
    "a = np.array([1, 2, 3])\n",
    "print(a + 5)"
   ]
  },
  {
   "cell_type": "code",
   "execution_count": null,
   "id": "8bc835bb",
   "metadata": {},
   "outputs": [],
   "source": [
    "# Topic: Matplotlib & Seaborn\n",
    "import seaborn as sns\n",
    "import pandas as pd\n",
    "sns.set()\n",
    "sns.histplot(pd.Series([1,2,2,3]));"
   ]
  },
  {
   "cell_type": "code",
   "execution_count": null,
   "id": "9aef8f18",
   "metadata": {},
   "outputs": [],
   "source": [
    "# Topic: Matplotlib & Seaborn\n",
    "import matplotlib.pyplot as plt\n",
    "plt.plot([1,2],[3,4])\n",
    "plt.show()"
   ]
  },
  {
   "cell_type": "code",
   "execution_count": null,
   "id": "4f7cdba0",
   "metadata": {},
   "outputs": [],
   "source": [
    "# Topic: Dictionaries & Sets\n",
    "d = {'name': 'Fahd', 'age': 20}\n",
    "print(d.get('name'))"
   ]
  },
  {
   "cell_type": "code",
   "execution_count": null,
   "id": "4944812c",
   "metadata": {},
   "outputs": [],
   "source": [
    "# Topic: Matplotlib & Seaborn\n",
    "import seaborn as sns\n",
    "import pandas as pd\n",
    "sns.set()\n",
    "sns.histplot(pd.Series([1,2,2,3]));"
   ]
  },
  {
   "cell_type": "code",
   "execution_count": null,
   "id": "e14c530a",
   "metadata": {},
   "outputs": [],
   "source": [
    "# Topic: NumPy\n",
    "import numpy as np\n",
    "print(np.linspace(0, 1, 5))"
   ]
  },
  {
   "cell_type": "code",
   "execution_count": null,
   "id": "3963ece5",
   "metadata": {},
   "outputs": [],
   "source": [
    "# Topic: Pandas\n",
    "import pandas as pd\n",
    "df = pd.read_csv('file.csv')\n",
    "print(df.head())"
   ]
  },
  {
   "cell_type": "code",
   "execution_count": null,
   "id": "1179f8e8",
   "metadata": {},
   "outputs": [],
   "source": [
    "# Topic: Recursion\n",
    "def fact(n): return 1 if n==0 else n*fact(n-1)\n",
    "print(fact(5))"
   ]
  },
  {
   "cell_type": "code",
   "execution_count": null,
   "id": "fc9b5b67",
   "metadata": {},
   "outputs": [],
   "source": [
    "# Topic: OOP\n",
    "class Student:\n",
    "    def __init__(self, name): self.name = name\n",
    "s = Student('Fahd')\n",
    "print(s.name)"
   ]
  },
  {
   "cell_type": "code",
   "execution_count": null,
   "id": "8e6baf10",
   "metadata": {},
   "outputs": [],
   "source": [
    "# Topic: Algorithms\n",
    "# Bubble sort\n",
    "def bubble(arr):\n",
    " for i in range(len(arr)):\n",
    "  for j in range(0, len(arr)-i-1):\n",
    "   if arr[j]>arr[j+1]: arr[j],arr[j+1]=arr[j+1],arr[j]\n",
    "a=[5,3,8]\n",
    "bubble(a)\n",
    "print(a)"
   ]
  },
  {
   "cell_type": "code",
   "execution_count": null,
   "id": "a484a427",
   "metadata": {},
   "outputs": [],
   "source": [
    "# Topic: Pandas\n",
    "import pandas as pd\n",
    "df = pd.DataFrame({'A':[1,2],'B':[3,4]})\n",
    "print(df)"
   ]
  },
  {
   "cell_type": "code",
   "execution_count": null,
   "id": "a3d10b9e",
   "metadata": {},
   "outputs": [],
   "source": [
    "# Topic: Dictionaries & Sets\n",
    "s = set([1, 2, 3, 2])\n",
    "print(s)"
   ]
  },
  {
   "cell_type": "code",
   "execution_count": null,
   "id": "e074f09b",
   "metadata": {},
   "outputs": [],
   "source": [
    "# Topic: Dictionaries & Sets\n",
    "s = set([1, 2, 3, 2])\n",
    "print(s)"
   ]
  },
  {
   "cell_type": "code",
   "execution_count": null,
   "id": "3d19befc",
   "metadata": {},
   "outputs": [],
   "source": [
    "# Topic: Decorators\n",
    "def log(func):\n",
    " def wrapper():\n",
    "  print('Call')\n",
    "  func()\n",
    " return wrapper\n",
    "@log\n",
    "def say(): print('Hi')\n",
    "say()"
   ]
  },
  {
   "cell_type": "code",
   "execution_count": null,
   "id": "171e787d",
   "metadata": {},
   "outputs": [],
   "source": [
    "# Topic: Algorithms\n",
    "# Bubble sort\n",
    "def bubble(arr):\n",
    " for i in range(len(arr)):\n",
    "  for j in range(0, len(arr)-i-1):\n",
    "   if arr[j]>arr[j+1]: arr[j],arr[j+1]=arr[j+1],arr[j]\n",
    "a=[5,3,8]\n",
    "bubble(a)\n",
    "print(a)"
   ]
  },
  {
   "cell_type": "code",
   "execution_count": null,
   "id": "1a6a201a",
   "metadata": {},
   "outputs": [],
   "source": [
    "# Topic: NumPy\n",
    "import numpy as np\n",
    "print(np.linspace(0, 1, 5))"
   ]
  },
  {
   "cell_type": "code",
   "execution_count": null,
   "id": "a5100020",
   "metadata": {},
   "outputs": [],
   "source": [
    "# Topic: Regex\n",
    "import re\n",
    "text = 'email: test@example.com'\n",
    "print(re.findall(r'\\S+@\\S+', text))"
   ]
  },
  {
   "cell_type": "code",
   "execution_count": null,
   "id": "7090b7c3",
   "metadata": {},
   "outputs": [],
   "source": [
    "# Topic: Matplotlib & Seaborn\n",
    "import matplotlib.pyplot as plt\n",
    "plt.plot([1,2],[3,4])\n",
    "plt.show()"
   ]
  },
  {
   "cell_type": "code",
   "execution_count": null,
   "id": "0e751d7c",
   "metadata": {},
   "outputs": [],
   "source": [
    "# Topic: Lists & Tuples\n",
    "lst = [1, 2, 3]\n",
    "lst.append(4)\n",
    "print(lst)"
   ]
  },
  {
   "cell_type": "code",
   "execution_count": null,
   "id": "5299f3b8",
   "metadata": {},
   "outputs": [],
   "source": [
    "# Topic: File I/O\n",
    "with open('test.txt', 'w') as f:\n",
    "    f.write('Hello World')"
   ]
  },
  {
   "cell_type": "code",
   "execution_count": null,
   "id": "f2eadf45",
   "metadata": {},
   "outputs": [],
   "source": [
    "# Topic: Data Cleaning\n",
    "import pandas as pd\n",
    "df = pd.DataFrame({'A':[1,None,3]})\n",
    "df = df.fillna(0)\n",
    "print(df)"
   ]
  },
  {
   "cell_type": "code",
   "execution_count": null,
   "id": "6489edad",
   "metadata": {},
   "outputs": [],
   "source": [
    "# Topic: Regex\n",
    "import re\n",
    "text = 'email: test@example.com'\n",
    "print(re.findall(r'\\S+@\\S+', text))"
   ]
  },
  {
   "cell_type": "code",
   "execution_count": null,
   "id": "07f04d34",
   "metadata": {},
   "outputs": [],
   "source": [
    "# Topic: Mini Projects\n",
    "# Palindrome check\n",
    "def is_pal(s): return s == s[::-1]\n",
    "print(is_pal('madam'))"
   ]
  },
  {
   "cell_type": "code",
   "execution_count": null,
   "id": "d6318592",
   "metadata": {},
   "outputs": [],
   "source": [
    "# Topic: NumPy\n",
    "import numpy as np\n",
    "print(np.linspace(0, 1, 5))"
   ]
  },
  {
   "cell_type": "code",
   "execution_count": null,
   "id": "a59948cf",
   "metadata": {},
   "outputs": [],
   "source": [
    "# Topic: Data Cleaning\n",
    "import pandas as pd\n",
    "df = pd.DataFrame({'A':[1,None,3]})\n",
    "df = df.fillna(0)\n",
    "print(df)"
   ]
  },
  {
   "cell_type": "code",
   "execution_count": null,
   "id": "d058588d",
   "metadata": {},
   "outputs": [],
   "source": [
    "# Topic: Regex\n",
    "import re\n",
    "text = 'email: test@example.com'\n",
    "print(re.findall(r'\\S+@\\S+', text))"
   ]
  },
  {
   "cell_type": "code",
   "execution_count": null,
   "id": "71248867",
   "metadata": {},
   "outputs": [],
   "source": [
    "# Topic: Pandas\n",
    "import pandas as pd\n",
    "df = pd.DataFrame({'A':[1,2],'B':[3,4]})\n",
    "print(df)"
   ]
  },
  {
   "cell_type": "code",
   "execution_count": null,
   "id": "293bd7f6",
   "metadata": {},
   "outputs": [],
   "source": [
    "# Topic: CLI Tools\n",
    "import sys\n",
    "print(f'Arguments: {sys.argv}')"
   ]
  },
  {
   "cell_type": "code",
   "execution_count": null,
   "id": "28898b2e",
   "metadata": {},
   "outputs": [],
   "source": [
    "# Topic: Mini Projects\n",
    "# Palindrome check\n",
    "def is_pal(s): return s == s[::-1]\n",
    "print(is_pal('madam'))"
   ]
  },
  {
   "cell_type": "code",
   "execution_count": null,
   "id": "c6af2cb6",
   "metadata": {},
   "outputs": [],
   "source": [
    "# Topic: Matplotlib & Seaborn\n",
    "import matplotlib.pyplot as plt\n",
    "plt.plot([1,2],[3,4])\n",
    "plt.show()"
   ]
  },
  {
   "cell_type": "code",
   "execution_count": null,
   "id": "c894f4f8",
   "metadata": {},
   "outputs": [],
   "source": [
    "# Topic: Algorithms\n",
    "# Bubble sort\n",
    "def bubble(arr):\n",
    " for i in range(len(arr)):\n",
    "  for j in range(0, len(arr)-i-1):\n",
    "   if arr[j]>arr[j+1]: arr[j],arr[j+1]=arr[j+1],arr[j]\n",
    "a=[5,3,8]\n",
    "bubble(a)\n",
    "print(a)"
   ]
  },
  {
   "cell_type": "code",
   "execution_count": null,
   "id": "f65f5cc7",
   "metadata": {},
   "outputs": [],
   "source": [
    "# Topic: Decorators\n",
    "def log(func):\n",
    " def wrapper():\n",
    "  print('Call')\n",
    "  func()\n",
    " return wrapper\n",
    "@log\n",
    "def say(): print('Hi')\n",
    "say()"
   ]
  },
  {
   "cell_type": "code",
   "execution_count": null,
   "id": "62b9e9b1",
   "metadata": {},
   "outputs": [],
   "source": [
    "# Topic: Functions\n",
    "def greet(name='User'):\n",
    "    print(f'Hi, {name}')\n",
    "greet()"
   ]
  },
  {
   "cell_type": "code",
   "execution_count": null,
   "id": "fa1e3f4f",
   "metadata": {},
   "outputs": [],
   "source": [
    "# Topic: Decorators\n",
    "def log(func):\n",
    " def wrapper():\n",
    "  print('Call')\n",
    "  func()\n",
    " return wrapper\n",
    "@log\n",
    "def say(): print('Hi')\n",
    "say()"
   ]
  },
  {
   "cell_type": "code",
   "execution_count": null,
   "id": "d9bcabf1",
   "metadata": {},
   "outputs": [],
   "source": [
    "# Topic: Functions\n",
    "def greet(name='User'):\n",
    "    print(f'Hi, {name}')\n",
    "greet()"
   ]
  },
  {
   "cell_type": "code",
   "execution_count": null,
   "id": "ac681eac",
   "metadata": {},
   "outputs": [],
   "source": [
    "# Topic: Dictionaries & Sets\n",
    "d = {'name': 'Fahd', 'age': 20}\n",
    "print(d.get('name'))"
   ]
  },
  {
   "cell_type": "code",
   "execution_count": null,
   "id": "3e4718ff",
   "metadata": {},
   "outputs": [],
   "source": [
    "# Topic: JSON & CSV\n",
    "import json\n",
    "data = {'a': 1}\n",
    "print(json.dumps(data))"
   ]
  },
  {
   "cell_type": "code",
   "execution_count": null,
   "id": "a1faab0e",
   "metadata": {},
   "outputs": [],
   "source": [
    "# Topic: Lists & Tuples\n",
    "t = (1, 2, 3)\n",
    "print(t[0])"
   ]
  },
  {
   "cell_type": "code",
   "execution_count": null,
   "id": "7951dd43",
   "metadata": {},
   "outputs": [],
   "source": [
    "# Topic: Functions\n",
    "def square(x): return x*x\n",
    "print(square(5))"
   ]
  },
  {
   "cell_type": "code",
   "execution_count": null,
   "id": "9e1a79f8",
   "metadata": {},
   "outputs": [],
   "source": [
    "# Topic: JSON & CSV\n",
    "import json\n",
    "data = {'a': 1}\n",
    "print(json.dumps(data))"
   ]
  },
  {
   "cell_type": "code",
   "execution_count": null,
   "id": "cd51cbbe",
   "metadata": {},
   "outputs": [],
   "source": [
    "# Topic: Data Cleaning\n",
    "import pandas as pd\n",
    "df = pd.DataFrame({'A':[1,None,3]})\n",
    "df = df.fillna(0)\n",
    "print(df)"
   ]
  },
  {
   "cell_type": "code",
   "execution_count": null,
   "id": "63ff4cb4",
   "metadata": {},
   "outputs": [],
   "source": [
    "# Topic: Pandas\n",
    "import pandas as pd\n",
    "df = pd.read_csv('file.csv')\n",
    "print(df.head())"
   ]
  },
  {
   "cell_type": "code",
   "execution_count": null,
   "id": "0865476a",
   "metadata": {},
   "outputs": [],
   "source": [
    "# Topic: Loops\n",
    "for i in range(10): print(i*i)"
   ]
  },
  {
   "cell_type": "code",
   "execution_count": null,
   "id": "54d36d4e",
   "metadata": {},
   "outputs": [],
   "source": [
    "# Topic: Pandas\n",
    "import pandas as pd\n",
    "df = pd.read_csv('file.csv')\n",
    "print(df.head())"
   ]
  },
  {
   "cell_type": "code",
   "execution_count": null,
   "id": "1b40348b",
   "metadata": {},
   "outputs": [],
   "source": [
    "# Topic: Dictionaries & Sets\n",
    "s = set([1, 2, 3, 2])\n",
    "print(s)"
   ]
  },
  {
   "cell_type": "code",
   "execution_count": null,
   "id": "348e7ba5",
   "metadata": {},
   "outputs": [],
   "source": [
    "# Topic: Loops\n",
    "while True:\n",
    "    print('Break')\n",
    "    break"
   ]
  },
  {
   "cell_type": "code",
   "execution_count": null,
   "id": "cd546f63",
   "metadata": {},
   "outputs": [],
   "source": [
    "# Topic: File I/O\n",
    "with open('test.txt', 'w') as f:\n",
    "    f.write('Hello World')"
   ]
  },
  {
   "cell_type": "code",
   "execution_count": null,
   "id": "26ad2005",
   "metadata": {},
   "outputs": [],
   "source": [
    "# Topic: Dictionaries & Sets\n",
    "s = set([1, 2, 3, 2])\n",
    "print(s)"
   ]
  },
  {
   "cell_type": "code",
   "execution_count": null,
   "id": "807e2bcd",
   "metadata": {},
   "outputs": [],
   "source": [
    "# Topic: OOP\n",
    "class Student:\n",
    "    def __init__(self, name): self.name = name\n",
    "s = Student('Fahd')\n",
    "print(s.name)"
   ]
  },
  {
   "cell_type": "code",
   "execution_count": null,
   "id": "016ea5df",
   "metadata": {},
   "outputs": [],
   "source": [
    "# Topic: Dictionaries & Sets\n",
    "s = set([1, 2, 3, 2])\n",
    "print(s)"
   ]
  },
  {
   "cell_type": "code",
   "execution_count": null,
   "id": "008692c7",
   "metadata": {},
   "outputs": [],
   "source": [
    "# Topic: JSON & CSV\n",
    "import csv\n",
    "with open('file.csv', 'w', newline='') as f:\n",
    " csv.writer(f).writerow(['a','b','c'])"
   ]
  },
  {
   "cell_type": "code",
   "execution_count": null,
   "id": "2a3112ca",
   "metadata": {},
   "outputs": [],
   "source": [
    "# Topic: OOP\n",
    "class Student:\n",
    "    def __init__(self, name): self.name = name\n",
    "s = Student('Fahd')\n",
    "print(s.name)"
   ]
  },
  {
   "cell_type": "code",
   "execution_count": null,
   "id": "265c2a98",
   "metadata": {},
   "outputs": [],
   "source": [
    "# Topic: Dictionaries & Sets\n",
    "d = {'name': 'Fahd', 'age': 20}\n",
    "print(d.get('name'))"
   ]
  },
  {
   "cell_type": "code",
   "execution_count": null,
   "id": "8b0b0529",
   "metadata": {},
   "outputs": [],
   "source": [
    "# Topic: Data Cleaning\n",
    "import pandas as pd\n",
    "df = pd.DataFrame({'A':[1,None,3]})\n",
    "df = df.fillna(0)\n",
    "print(df)"
   ]
  },
  {
   "cell_type": "code",
   "execution_count": null,
   "id": "2a73e568",
   "metadata": {},
   "outputs": [],
   "source": [
    "# Topic: Pandas\n",
    "import pandas as pd\n",
    "df = pd.DataFrame({'A':[1,2],'B':[3,4]})\n",
    "print(df)"
   ]
  },
  {
   "cell_type": "code",
   "execution_count": null,
   "id": "dfd493ff",
   "metadata": {},
   "outputs": [],
   "source": [
    "# Topic: Functions\n",
    "def square(x): return x*x\n",
    "print(square(5))"
   ]
  },
  {
   "cell_type": "code",
   "execution_count": null,
   "id": "8a33ccd8",
   "metadata": {},
   "outputs": [],
   "source": [
    "# Topic: Basic ML\n",
    "from sklearn.linear_model import LinearRegression\n",
    "model = LinearRegression()\n",
    "print(model)"
   ]
  },
  {
   "cell_type": "code",
   "execution_count": null,
   "id": "ef10b8b3",
   "metadata": {},
   "outputs": [],
   "source": [
    "# Topic: Dictionaries & Sets\n",
    "d = {'name': 'Fahd', 'age': 20}\n",
    "print(d.get('name'))"
   ]
  },
  {
   "cell_type": "code",
   "execution_count": null,
   "id": "5517ec9b",
   "metadata": {},
   "outputs": [],
   "source": [
    "# Topic: OOP\n",
    "class Student:\n",
    "    def __init__(self, name): self.name = name\n",
    "s = Student('Fahd')\n",
    "print(s.name)"
   ]
  },
  {
   "cell_type": "code",
   "execution_count": null,
   "id": "2142bfa5",
   "metadata": {},
   "outputs": [],
   "source": [
    "# Topic: OOP\n",
    "class Student:\n",
    "    def __init__(self, name): self.name = name\n",
    "s = Student('Fahd')\n",
    "print(s.name)"
   ]
  },
  {
   "cell_type": "code",
   "execution_count": null,
   "id": "ef69f141",
   "metadata": {},
   "outputs": [],
   "source": [
    "# Topic: File I/O\n",
    "with open('test.txt', 'r') as f:\n",
    "    print(f.read())"
   ]
  },
  {
   "cell_type": "code",
   "execution_count": null,
   "id": "e0c95c5a",
   "metadata": {},
   "outputs": [],
   "source": [
    "# Topic: Mini Projects\n",
    "# Calculator\n",
    "def calc(a,b,op): return eval(f'{a}{op}{b}')\n",
    "print(calc(5,2,'+'))"
   ]
  },
  {
   "cell_type": "code",
   "execution_count": null,
   "id": "62410f45",
   "metadata": {},
   "outputs": [],
   "source": [
    "# Topic: Data Cleaning\n",
    "import pandas as pd\n",
    "df = pd.DataFrame({'A':[1,None,3]})\n",
    "df = df.fillna(0)\n",
    "print(df)"
   ]
  },
  {
   "cell_type": "code",
   "execution_count": null,
   "id": "9551a914",
   "metadata": {},
   "outputs": [],
   "source": [
    "# Topic: Pandas\n",
    "import pandas as pd\n",
    "df = pd.read_csv('file.csv')\n",
    "print(df.head())"
   ]
  },
  {
   "cell_type": "code",
   "execution_count": null,
   "id": "20670c13",
   "metadata": {},
   "outputs": [],
   "source": [
    "# Topic: Loops\n",
    "while True:\n",
    "    print('Break')\n",
    "    break"
   ]
  },
  {
   "cell_type": "code",
   "execution_count": null,
   "id": "992bb372",
   "metadata": {},
   "outputs": [],
   "source": [
    "# Topic: CLI Tools\n",
    "import sys\n",
    "print(f'Arguments: {sys.argv}')"
   ]
  },
  {
   "cell_type": "code",
   "execution_count": null,
   "id": "4f792c68",
   "metadata": {},
   "outputs": [],
   "source": [
    "# Topic: Basic ML\n",
    "from sklearn.linear_model import LinearRegression\n",
    "model = LinearRegression()\n",
    "print(model)"
   ]
  },
  {
   "cell_type": "code",
   "execution_count": null,
   "id": "7d5a9680",
   "metadata": {},
   "outputs": [],
   "source": [
    "# Topic: Functions\n",
    "def greet(name='User'):\n",
    "    print(f'Hi, {name}')\n",
    "greet()"
   ]
  },
  {
   "cell_type": "code",
   "execution_count": null,
   "id": "de1d47cf",
   "metadata": {},
   "outputs": [],
   "source": [
    "# Topic: Algorithms\n",
    "# Bubble sort\n",
    "def bubble(arr):\n",
    " for i in range(len(arr)):\n",
    "  for j in range(0, len(arr)-i-1):\n",
    "   if arr[j]>arr[j+1]: arr[j],arr[j+1]=arr[j+1],arr[j]\n",
    "a=[5,3,8]\n",
    "bubble(a)\n",
    "print(a)"
   ]
  },
  {
   "cell_type": "code",
   "execution_count": null,
   "id": "587728e6",
   "metadata": {},
   "outputs": [],
   "source": [
    "# Topic: JSON & CSV\n",
    "import csv\n",
    "with open('file.csv', 'w', newline='') as f:\n",
    " csv.writer(f).writerow(['a','b','c'])"
   ]
  },
  {
   "cell_type": "code",
   "execution_count": null,
   "id": "c2f1f801",
   "metadata": {},
   "outputs": [],
   "source": [
    "# Topic: Mini Projects\n",
    "# Calculator\n",
    "def calc(a,b,op): return eval(f'{a}{op}{b}')\n",
    "print(calc(5,2,'+'))"
   ]
  },
  {
   "cell_type": "code",
   "execution_count": null,
   "id": "067e35d7",
   "metadata": {},
   "outputs": [],
   "source": [
    "# Topic: File I/O\n",
    "with open('test.txt', 'w') as f:\n",
    "    f.write('Hello World')"
   ]
  },
  {
   "cell_type": "code",
   "execution_count": null,
   "id": "df8abffa",
   "metadata": {},
   "outputs": [],
   "source": [
    "# Topic: File I/O\n",
    "with open('test.txt', 'r') as f:\n",
    "    print(f.read())"
   ]
  },
  {
   "cell_type": "code",
   "execution_count": null,
   "id": "53fdf24d",
   "metadata": {},
   "outputs": [],
   "source": [
    "# Topic: Decorators\n",
    "def log(func):\n",
    " def wrapper():\n",
    "  print('Call')\n",
    "  func()\n",
    " return wrapper\n",
    "@log\n",
    "def say(): print('Hi')\n",
    "say()"
   ]
  },
  {
   "cell_type": "code",
   "execution_count": null,
   "id": "3b445f05",
   "metadata": {},
   "outputs": [],
   "source": [
    "# Topic: OOP\n",
    "class Student:\n",
    "    def __init__(self, name): self.name = name\n",
    "s = Student('Fahd')\n",
    "print(s.name)"
   ]
  },
  {
   "cell_type": "code",
   "execution_count": null,
   "id": "03a2212a",
   "metadata": {},
   "outputs": [],
   "source": [
    "# Topic: Matplotlib & Seaborn\n",
    "import matplotlib.pyplot as plt\n",
    "plt.plot([1,2],[3,4])\n",
    "plt.show()"
   ]
  },
  {
   "cell_type": "code",
   "execution_count": null,
   "id": "ddda3d1d",
   "metadata": {},
   "outputs": [],
   "source": [
    "# Topic: Algorithms\n",
    "# Bubble sort\n",
    "def bubble(arr):\n",
    " for i in range(len(arr)):\n",
    "  for j in range(0, len(arr)-i-1):\n",
    "   if arr[j]>arr[j+1]: arr[j],arr[j+1]=arr[j+1],arr[j]\n",
    "a=[5,3,8]\n",
    "bubble(a)\n",
    "print(a)"
   ]
  },
  {
   "cell_type": "code",
   "execution_count": null,
   "id": "94d37869",
   "metadata": {},
   "outputs": [],
   "source": [
    "# Topic: Basics\n",
    "x = 10\n",
    "y = 20\n",
    "print(x + y)"
   ]
  },
  {
   "cell_type": "code",
   "execution_count": null,
   "id": "156f7dcf",
   "metadata": {},
   "outputs": [],
   "source": [
    "# Topic: JSON & CSV\n",
    "import json\n",
    "data = {'a': 1}\n",
    "print(json.dumps(data))"
   ]
  },
  {
   "cell_type": "code",
   "execution_count": null,
   "id": "68fe1570",
   "metadata": {},
   "outputs": [],
   "source": [
    "# Topic: OOP\n",
    "class Student:\n",
    "    def __init__(self, name): self.name = name\n",
    "s = Student('Fahd')\n",
    "print(s.name)"
   ]
  },
  {
   "cell_type": "code",
   "execution_count": null,
   "id": "573cd5eb",
   "metadata": {},
   "outputs": [],
   "source": [
    "# Topic: Basic ML\n",
    "from sklearn.linear_model import LinearRegression\n",
    "model = LinearRegression()\n",
    "print(model)"
   ]
  },
  {
   "cell_type": "code",
   "execution_count": null,
   "id": "0c21c2b9",
   "metadata": {},
   "outputs": [],
   "source": [
    "# Topic: Lists & Tuples\n",
    "t = (1, 2, 3)\n",
    "print(t[0])"
   ]
  },
  {
   "cell_type": "code",
   "execution_count": null,
   "id": "8bc369ec",
   "metadata": {},
   "outputs": [],
   "source": [
    "# Topic: Loops\n",
    "while True:\n",
    "    print('Break')\n",
    "    break"
   ]
  },
  {
   "cell_type": "code",
   "execution_count": null,
   "id": "b0f90eee",
   "metadata": {},
   "outputs": [],
   "source": [
    "# Topic: Algorithms\n",
    "# Bubble sort\n",
    "def bubble(arr):\n",
    " for i in range(len(arr)):\n",
    "  for j in range(0, len(arr)-i-1):\n",
    "   if arr[j]>arr[j+1]: arr[j],arr[j+1]=arr[j+1],arr[j]\n",
    "a=[5,3,8]\n",
    "bubble(a)\n",
    "print(a)"
   ]
  },
  {
   "cell_type": "code",
   "execution_count": null,
   "id": "368cd420",
   "metadata": {},
   "outputs": [],
   "source": [
    "# Topic: Data Cleaning\n",
    "import pandas as pd\n",
    "df = pd.DataFrame({'A':[1,None,3]})\n",
    "df = df.fillna(0)\n",
    "print(df)"
   ]
  },
  {
   "cell_type": "code",
   "execution_count": null,
   "id": "c317a3a6",
   "metadata": {},
   "outputs": [],
   "source": [
    "# Topic: Dictionaries & Sets\n",
    "s = set([1, 2, 3, 2])\n",
    "print(s)"
   ]
  },
  {
   "cell_type": "code",
   "execution_count": null,
   "id": "06512743",
   "metadata": {},
   "outputs": [],
   "source": [
    "# Topic: File I/O\n",
    "with open('test.txt', 'w') as f:\n",
    "    f.write('Hello World')"
   ]
  },
  {
   "cell_type": "code",
   "execution_count": null,
   "id": "3dc9ec76",
   "metadata": {},
   "outputs": [],
   "source": [
    "# Topic: Web Scraping\n",
    "import requests\n",
    "from bs4 import BeautifulSoup\n",
    "r = requests.get('https://example.com')\n",
    "soup = BeautifulSoup(r.text, 'html.parser')\n",
    "print(soup.title.text)"
   ]
  },
  {
   "cell_type": "code",
   "execution_count": null,
   "id": "ff77c047",
   "metadata": {},
   "outputs": [],
   "source": [
    "# Topic: CLI Tools\n",
    "import sys\n",
    "print(f'Arguments: {sys.argv}')"
   ]
  },
  {
   "cell_type": "code",
   "execution_count": null,
   "id": "ce4fb8dc",
   "metadata": {},
   "outputs": [],
   "source": [
    "# Topic: Decorators\n",
    "def log(func):\n",
    " def wrapper():\n",
    "  print('Call')\n",
    "  func()\n",
    " return wrapper\n",
    "@log\n",
    "def say(): print('Hi')\n",
    "say()"
   ]
  },
  {
   "cell_type": "code",
   "execution_count": null,
   "id": "fd919116",
   "metadata": {},
   "outputs": [],
   "source": [
    "# Topic: Loops\n",
    "for i in range(10): print(i*i)"
   ]
  },
  {
   "cell_type": "code",
   "execution_count": null,
   "id": "901ca7b1",
   "metadata": {},
   "outputs": [],
   "source": [
    "# Topic: Lists & Tuples\n",
    "lst = [1, 2, 3]\n",
    "lst.append(4)\n",
    "print(lst)"
   ]
  },
  {
   "cell_type": "code",
   "execution_count": null,
   "id": "fb50040e",
   "metadata": {},
   "outputs": [],
   "source": [
    "# Topic: File I/O\n",
    "with open('test.txt', 'r') as f:\n",
    "    print(f.read())"
   ]
  },
  {
   "cell_type": "code",
   "execution_count": null,
   "id": "2113e64a",
   "metadata": {},
   "outputs": [],
   "source": [
    "# Topic: CLI Tools\n",
    "import sys\n",
    "print(f'Arguments: {sys.argv}')"
   ]
  },
  {
   "cell_type": "code",
   "execution_count": null,
   "id": "1064870b",
   "metadata": {},
   "outputs": [],
   "source": [
    "# Topic: Dictionaries & Sets\n",
    "d = {'name': 'Fahd', 'age': 20}\n",
    "print(d.get('name'))"
   ]
  },
  {
   "cell_type": "code",
   "execution_count": null,
   "id": "dedaeb8e",
   "metadata": {},
   "outputs": [],
   "source": [
    "# Topic: Decorators\n",
    "def log(func):\n",
    " def wrapper():\n",
    "  print('Call')\n",
    "  func()\n",
    " return wrapper\n",
    "@log\n",
    "def say(): print('Hi')\n",
    "say()"
   ]
  },
  {
   "cell_type": "code",
   "execution_count": null,
   "id": "ecb5eb0a",
   "metadata": {},
   "outputs": [],
   "source": [
    "# Topic: File I/O\n",
    "with open('test.txt', 'r') as f:\n",
    "    print(f.read())"
   ]
  },
  {
   "cell_type": "code",
   "execution_count": null,
   "id": "9ef913b4",
   "metadata": {},
   "outputs": [],
   "source": [
    "# Topic: Pandas\n",
    "import pandas as pd\n",
    "df = pd.read_csv('file.csv')\n",
    "print(df.head())"
   ]
  },
  {
   "cell_type": "code",
   "execution_count": null,
   "id": "e1f22262",
   "metadata": {},
   "outputs": [],
   "source": [
    "# Topic: CLI Tools\n",
    "import sys\n",
    "print(f'Arguments: {sys.argv}')"
   ]
  },
  {
   "cell_type": "code",
   "execution_count": null,
   "id": "52bc761d",
   "metadata": {},
   "outputs": [],
   "source": [
    "# Topic: Lists & Tuples\n",
    "t = (1, 2, 3)\n",
    "print(t[0])"
   ]
  },
  {
   "cell_type": "code",
   "execution_count": null,
   "id": "996f2a03",
   "metadata": {},
   "outputs": [],
   "source": [
    "# Topic: Recursion\n",
    "def fact(n): return 1 if n==0 else n*fact(n-1)\n",
    "print(fact(5))"
   ]
  },
  {
   "cell_type": "code",
   "execution_count": null,
   "id": "4797db74",
   "metadata": {},
   "outputs": [],
   "source": [
    "# Topic: Matplotlib & Seaborn\n",
    "import matplotlib.pyplot as plt\n",
    "plt.plot([1,2],[3,4])\n",
    "plt.show()"
   ]
  },
  {
   "cell_type": "code",
   "execution_count": null,
   "id": "12221a03",
   "metadata": {},
   "outputs": [],
   "source": [
    "# Topic: Functions\n",
    "def square(x): return x*x\n",
    "print(square(5))"
   ]
  },
  {
   "cell_type": "code",
   "execution_count": null,
   "id": "056509f1",
   "metadata": {},
   "outputs": [],
   "source": [
    "# Topic: Basic ML\n",
    "from sklearn.linear_model import LinearRegression\n",
    "model = LinearRegression()\n",
    "print(model)"
   ]
  },
  {
   "cell_type": "code",
   "execution_count": null,
   "id": "7a709ca5",
   "metadata": {},
   "outputs": [],
   "source": [
    "# Topic: NumPy\n",
    "import numpy as np\n",
    "print(np.linspace(0, 1, 5))"
   ]
  },
  {
   "cell_type": "code",
   "execution_count": null,
   "id": "841ad295",
   "metadata": {},
   "outputs": [],
   "source": [
    "# Topic: CLI Tools\n",
    "import sys\n",
    "print(f'Arguments: {sys.argv}')"
   ]
  },
  {
   "cell_type": "code",
   "execution_count": null,
   "id": "761ab592",
   "metadata": {},
   "outputs": [],
   "source": [
    "# Topic: Web Scraping\n",
    "import requests\n",
    "from bs4 import BeautifulSoup\n",
    "r = requests.get('https://example.com')\n",
    "soup = BeautifulSoup(r.text, 'html.parser')\n",
    "print(soup.title.text)"
   ]
  },
  {
   "cell_type": "code",
   "execution_count": null,
   "id": "a579a2c8",
   "metadata": {},
   "outputs": [],
   "source": [
    "# Topic: CLI Tools\n",
    "import sys\n",
    "print(f'Arguments: {sys.argv}')"
   ]
  },
  {
   "cell_type": "code",
   "execution_count": null,
   "id": "26649a43",
   "metadata": {},
   "outputs": [],
   "source": [
    "# Topic: Recursion\n",
    "def fact(n): return 1 if n==0 else n*fact(n-1)\n",
    "print(fact(5))"
   ]
  },
  {
   "cell_type": "code",
   "execution_count": null,
   "id": "c1d7786b",
   "metadata": {},
   "outputs": [],
   "source": [
    "# Topic: Dictionaries & Sets\n",
    "s = set([1, 2, 3, 2])\n",
    "print(s)"
   ]
  },
  {
   "cell_type": "code",
   "execution_count": null,
   "id": "eb42fbd2",
   "metadata": {},
   "outputs": [],
   "source": [
    "# Topic: OOP\n",
    "class Student:\n",
    "    def __init__(self, name): self.name = name\n",
    "s = Student('Fahd')\n",
    "print(s.name)"
   ]
  },
  {
   "cell_type": "code",
   "execution_count": null,
   "id": "f70202ad",
   "metadata": {},
   "outputs": [],
   "source": [
    "# Topic: CLI Tools\n",
    "import sys\n",
    "print(f'Arguments: {sys.argv}')"
   ]
  },
  {
   "cell_type": "code",
   "execution_count": null,
   "id": "9aafec90",
   "metadata": {},
   "outputs": [],
   "source": [
    "# Topic: Pandas\n",
    "import pandas as pd\n",
    "df = pd.read_csv('file.csv')\n",
    "print(df.head())"
   ]
  },
  {
   "cell_type": "code",
   "execution_count": null,
   "id": "9d79a798",
   "metadata": {},
   "outputs": [],
   "source": [
    "# Topic: File I/O\n",
    "with open('test.txt', 'w') as f:\n",
    "    f.write('Hello World')"
   ]
  },
  {
   "cell_type": "code",
   "execution_count": null,
   "id": "73b5d20e",
   "metadata": {},
   "outputs": [],
   "source": [
    "# Topic: Matplotlib & Seaborn\n",
    "import matplotlib.pyplot as plt\n",
    "plt.plot([1,2],[3,4])\n",
    "plt.show()"
   ]
  },
  {
   "cell_type": "code",
   "execution_count": null,
   "id": "e2e4cced",
   "metadata": {},
   "outputs": [],
   "source": [
    "# Topic: NumPy\n",
    "import numpy as np\n",
    "a = np.array([1, 2, 3])\n",
    "print(a + 5)"
   ]
  },
  {
   "cell_type": "code",
   "execution_count": null,
   "id": "700e00d5",
   "metadata": {},
   "outputs": [],
   "source": [
    "# Topic: Basics\n",
    "name = 'Fahd'\n",
    "print(f'Hello, {name}')"
   ]
  },
  {
   "cell_type": "code",
   "execution_count": null,
   "id": "e47ee26d",
   "metadata": {},
   "outputs": [],
   "source": [
    "# Topic: Decorators\n",
    "def log(func):\n",
    " def wrapper():\n",
    "  print('Call')\n",
    "  func()\n",
    " return wrapper\n",
    "@log\n",
    "def say(): print('Hi')\n",
    "say()"
   ]
  },
  {
   "cell_type": "code",
   "execution_count": null,
   "id": "83595a90",
   "metadata": {},
   "outputs": [],
   "source": [
    "# Topic: Data Cleaning\n",
    "import pandas as pd\n",
    "df = pd.DataFrame({'A':[1,None,3]})\n",
    "df = df.fillna(0)\n",
    "print(df)"
   ]
  },
  {
   "cell_type": "code",
   "execution_count": null,
   "id": "e25bc8e0",
   "metadata": {},
   "outputs": [],
   "source": [
    "# Topic: Basics\n",
    "x = 10\n",
    "y = 20\n",
    "print(x + y)"
   ]
  },
  {
   "cell_type": "code",
   "execution_count": null,
   "id": "2adbf999",
   "metadata": {},
   "outputs": [],
   "source": [
    "# Topic: Data Cleaning\n",
    "import pandas as pd\n",
    "df = pd.DataFrame({'A':[1,None,3]})\n",
    "df = df.fillna(0)\n",
    "print(df)"
   ]
  },
  {
   "cell_type": "code",
   "execution_count": null,
   "id": "e38b4c73",
   "metadata": {},
   "outputs": [],
   "source": [
    "# Topic: Basic ML\n",
    "from sklearn.linear_model import LinearRegression\n",
    "model = LinearRegression()\n",
    "print(model)"
   ]
  },
  {
   "cell_type": "code",
   "execution_count": null,
   "id": "6f3545da",
   "metadata": {},
   "outputs": [],
   "source": [
    "# Topic: Basics\n",
    "name = 'Fahd'\n",
    "print(f'Hello, {name}')"
   ]
  },
  {
   "cell_type": "code",
   "execution_count": null,
   "id": "bcf511f2",
   "metadata": {},
   "outputs": [],
   "source": [
    "# Topic: OOP\n",
    "class Student:\n",
    "    def __init__(self, name): self.name = name\n",
    "s = Student('Fahd')\n",
    "print(s.name)"
   ]
  },
  {
   "cell_type": "code",
   "execution_count": null,
   "id": "f600ad77",
   "metadata": {},
   "outputs": [],
   "source": [
    "# Topic: Basic ML\n",
    "from sklearn.linear_model import LinearRegression\n",
    "model = LinearRegression()\n",
    "print(model)"
   ]
  },
  {
   "cell_type": "code",
   "execution_count": null,
   "id": "8ff3a40b",
   "metadata": {},
   "outputs": [],
   "source": [
    "# Topic: File I/O\n",
    "with open('test.txt', 'r') as f:\n",
    "    print(f.read())"
   ]
  },
  {
   "cell_type": "code",
   "execution_count": null,
   "id": "740714a6",
   "metadata": {},
   "outputs": [],
   "source": [
    "# Topic: Mini Projects\n",
    "# Calculator\n",
    "def calc(a,b,op): return eval(f'{a}{op}{b}')\n",
    "print(calc(5,2,'+'))"
   ]
  },
  {
   "cell_type": "code",
   "execution_count": null,
   "id": "9ff58b1e",
   "metadata": {},
   "outputs": [],
   "source": [
    "# Topic: Mini Projects\n",
    "# Calculator\n",
    "def calc(a,b,op): return eval(f'{a}{op}{b}')\n",
    "print(calc(5,2,'+'))"
   ]
  },
  {
   "cell_type": "code",
   "execution_count": null,
   "id": "44142a98",
   "metadata": {},
   "outputs": [],
   "source": [
    "# Topic: Lists & Tuples\n",
    "t = (1, 2, 3)\n",
    "print(t[0])"
   ]
  },
  {
   "cell_type": "code",
   "execution_count": null,
   "id": "4eb51b28",
   "metadata": {},
   "outputs": [],
   "source": [
    "# Topic: CLI Tools\n",
    "import sys\n",
    "print(f'Arguments: {sys.argv}')"
   ]
  },
  {
   "cell_type": "code",
   "execution_count": null,
   "id": "828b1a56",
   "metadata": {},
   "outputs": [],
   "source": [
    "# Topic: Mini Projects\n",
    "# Calculator\n",
    "def calc(a,b,op): return eval(f'{a}{op}{b}')\n",
    "print(calc(5,2,'+'))"
   ]
  },
  {
   "cell_type": "code",
   "execution_count": null,
   "id": "5906d3a0",
   "metadata": {},
   "outputs": [],
   "source": [
    "# Topic: Decorators\n",
    "def log(func):\n",
    " def wrapper():\n",
    "  print('Call')\n",
    "  func()\n",
    " return wrapper\n",
    "@log\n",
    "def say(): print('Hi')\n",
    "say()"
   ]
  },
  {
   "cell_type": "code",
   "execution_count": null,
   "id": "ec0313bf",
   "metadata": {},
   "outputs": [],
   "source": [
    "# Topic: Recursion\n",
    "def fact(n): return 1 if n==0 else n*fact(n-1)\n",
    "print(fact(5))"
   ]
  },
  {
   "cell_type": "code",
   "execution_count": null,
   "id": "d546bc09",
   "metadata": {},
   "outputs": [],
   "source": [
    "# Topic: Mini Projects\n",
    "# Palindrome check\n",
    "def is_pal(s): return s == s[::-1]\n",
    "print(is_pal('madam'))"
   ]
  },
  {
   "cell_type": "code",
   "execution_count": null,
   "id": "c839c3e7",
   "metadata": {},
   "outputs": [],
   "source": [
    "# Topic: Recursion\n",
    "def fact(n): return 1 if n==0 else n*fact(n-1)\n",
    "print(fact(5))"
   ]
  },
  {
   "cell_type": "code",
   "execution_count": null,
   "id": "7c9bdce1",
   "metadata": {},
   "outputs": [],
   "source": [
    "# Topic: File I/O\n",
    "with open('test.txt', 'r') as f:\n",
    "    print(f.read())"
   ]
  },
  {
   "cell_type": "code",
   "execution_count": null,
   "id": "adf35ddc",
   "metadata": {},
   "outputs": [],
   "source": [
    "# Topic: Data Cleaning\n",
    "import pandas as pd\n",
    "df = pd.DataFrame({'A':[1,None,3]})\n",
    "df = df.fillna(0)\n",
    "print(df)"
   ]
  },
  {
   "cell_type": "code",
   "execution_count": null,
   "id": "9c4f0499",
   "metadata": {},
   "outputs": [],
   "source": [
    "# Topic: Lists & Tuples\n",
    "lst = [1, 2, 3]\n",
    "lst.append(4)\n",
    "print(lst)"
   ]
  },
  {
   "cell_type": "code",
   "execution_count": null,
   "id": "12888f73",
   "metadata": {},
   "outputs": [],
   "source": [
    "# Topic: Basics\n",
    "x = 10\n",
    "y = 20\n",
    "print(x + y)"
   ]
  },
  {
   "cell_type": "code",
   "execution_count": null,
   "id": "6fe63bdb",
   "metadata": {},
   "outputs": [],
   "source": [
    "# Topic: CLI Tools\n",
    "import sys\n",
    "print(f'Arguments: {sys.argv}')"
   ]
  },
  {
   "cell_type": "code",
   "execution_count": null,
   "id": "99671572",
   "metadata": {},
   "outputs": [],
   "source": [
    "# Topic: Mini Projects\n",
    "# Calculator\n",
    "def calc(a,b,op): return eval(f'{a}{op}{b}')\n",
    "print(calc(5,2,'+'))"
   ]
  },
  {
   "cell_type": "code",
   "execution_count": null,
   "id": "c2f62abb",
   "metadata": {},
   "outputs": [],
   "source": [
    "# Topic: Functions\n",
    "def greet(name='User'):\n",
    "    print(f'Hi, {name}')\n",
    "greet()"
   ]
  },
  {
   "cell_type": "code",
   "execution_count": null,
   "id": "d565c62d",
   "metadata": {},
   "outputs": [],
   "source": [
    "# Topic: NumPy\n",
    "import numpy as np\n",
    "print(np.linspace(0, 1, 5))"
   ]
  },
  {
   "cell_type": "code",
   "execution_count": null,
   "id": "f954d758",
   "metadata": {},
   "outputs": [],
   "source": [
    "# Topic: Dictionaries & Sets\n",
    "d = {'name': 'Fahd', 'age': 20}\n",
    "print(d.get('name'))"
   ]
  },
  {
   "cell_type": "code",
   "execution_count": null,
   "id": "afa77300",
   "metadata": {},
   "outputs": [],
   "source": [
    "# Topic: OOP\n",
    "class Student:\n",
    "    def __init__(self, name): self.name = name\n",
    "s = Student('Fahd')\n",
    "print(s.name)"
   ]
  },
  {
   "cell_type": "code",
   "execution_count": null,
   "id": "9bf0761c",
   "metadata": {},
   "outputs": [],
   "source": [
    "# Topic: Loops\n",
    "while True:\n",
    "    print('Break')\n",
    "    break"
   ]
  },
  {
   "cell_type": "code",
   "execution_count": null,
   "id": "e4ad9976",
   "metadata": {},
   "outputs": [],
   "source": [
    "# Topic: Dictionaries & Sets\n",
    "d = {'name': 'Fahd', 'age': 20}\n",
    "print(d.get('name'))"
   ]
  },
  {
   "cell_type": "code",
   "execution_count": null,
   "id": "01f00186",
   "metadata": {},
   "outputs": [],
   "source": [
    "# Topic: NumPy\n",
    "import numpy as np\n",
    "print(np.linspace(0, 1, 5))"
   ]
  },
  {
   "cell_type": "code",
   "execution_count": null,
   "id": "8ac4c631",
   "metadata": {},
   "outputs": [],
   "source": [
    "# Topic: Functions\n",
    "def square(x): return x*x\n",
    "print(square(5))"
   ]
  },
  {
   "cell_type": "code",
   "execution_count": null,
   "id": "ba2ed2a8",
   "metadata": {},
   "outputs": [],
   "source": [
    "# Topic: OOP\n",
    "class Student:\n",
    "    def __init__(self, name): self.name = name\n",
    "s = Student('Fahd')\n",
    "print(s.name)"
   ]
  },
  {
   "cell_type": "code",
   "execution_count": null,
   "id": "789ae100",
   "metadata": {},
   "outputs": [],
   "source": [
    "# Topic: Basic ML\n",
    "from sklearn.linear_model import LinearRegression\n",
    "model = LinearRegression()\n",
    "print(model)"
   ]
  },
  {
   "cell_type": "code",
   "execution_count": null,
   "id": "8dd2869b",
   "metadata": {},
   "outputs": [],
   "source": [
    "# Topic: File I/O\n",
    "with open('test.txt', 'w') as f:\n",
    "    f.write('Hello World')"
   ]
  },
  {
   "cell_type": "code",
   "execution_count": null,
   "id": "7c321b2b",
   "metadata": {},
   "outputs": [],
   "source": [
    "# Topic: Mini Projects\n",
    "# Calculator\n",
    "def calc(a,b,op): return eval(f'{a}{op}{b}')\n",
    "print(calc(5,2,'+'))"
   ]
  },
  {
   "cell_type": "code",
   "execution_count": null,
   "id": "1b1e3b51",
   "metadata": {},
   "outputs": [],
   "source": [
    "# Topic: Recursion\n",
    "def fact(n): return 1 if n==0 else n*fact(n-1)\n",
    "print(fact(5))"
   ]
  },
  {
   "cell_type": "code",
   "execution_count": null,
   "id": "4a30d09f",
   "metadata": {},
   "outputs": [],
   "source": [
    "# Topic: JSON & CSV\n",
    "import json\n",
    "data = {'a': 1}\n",
    "print(json.dumps(data))"
   ]
  },
  {
   "cell_type": "code",
   "execution_count": null,
   "id": "e40ee3a5",
   "metadata": {},
   "outputs": [],
   "source": [
    "# Topic: Recursion\n",
    "def fact(n): return 1 if n==0 else n*fact(n-1)\n",
    "print(fact(5))"
   ]
  },
  {
   "cell_type": "code",
   "execution_count": null,
   "id": "d311e02a",
   "metadata": {},
   "outputs": [],
   "source": [
    "# Topic: JSON & CSV\n",
    "import csv\n",
    "with open('file.csv', 'w', newline='') as f:\n",
    " csv.writer(f).writerow(['a','b','c'])"
   ]
  },
  {
   "cell_type": "code",
   "execution_count": null,
   "id": "9b91d4a1",
   "metadata": {},
   "outputs": [],
   "source": [
    "# Topic: Web Scraping\n",
    "import requests\n",
    "from bs4 import BeautifulSoup\n",
    "r = requests.get('https://example.com')\n",
    "soup = BeautifulSoup(r.text, 'html.parser')\n",
    "print(soup.title.text)"
   ]
  },
  {
   "cell_type": "code",
   "execution_count": null,
   "id": "11792e7c",
   "metadata": {},
   "outputs": [],
   "source": [
    "# Topic: Basics\n",
    "x = 10\n",
    "y = 20\n",
    "print(x + y)"
   ]
  },
  {
   "cell_type": "code",
   "execution_count": null,
   "id": "f58d93d6",
   "metadata": {},
   "outputs": [],
   "source": [
    "# Topic: CLI Tools\n",
    "import sys\n",
    "print(f'Arguments: {sys.argv}')"
   ]
  },
  {
   "cell_type": "code",
   "execution_count": null,
   "id": "cbcdfe33",
   "metadata": {},
   "outputs": [],
   "source": [
    "# Topic: Dictionaries & Sets\n",
    "s = set([1, 2, 3, 2])\n",
    "print(s)"
   ]
  },
  {
   "cell_type": "code",
   "execution_count": null,
   "id": "72578f99",
   "metadata": {},
   "outputs": [],
   "source": [
    "# Topic: File I/O\n",
    "with open('test.txt', 'r') as f:\n",
    "    print(f.read())"
   ]
  },
  {
   "cell_type": "code",
   "execution_count": null,
   "id": "3a06cf9c",
   "metadata": {},
   "outputs": [],
   "source": [
    "# Topic: Decorators\n",
    "def log(func):\n",
    " def wrapper():\n",
    "  print('Call')\n",
    "  func()\n",
    " return wrapper\n",
    "@log\n",
    "def say(): print('Hi')\n",
    "say()"
   ]
  },
  {
   "cell_type": "code",
   "execution_count": null,
   "id": "87ba7887",
   "metadata": {},
   "outputs": [],
   "source": [
    "# Topic: Mini Projects\n",
    "# Calculator\n",
    "def calc(a,b,op): return eval(f'{a}{op}{b}')\n",
    "print(calc(5,2,'+'))"
   ]
  },
  {
   "cell_type": "code",
   "execution_count": null,
   "id": "019db60c",
   "metadata": {},
   "outputs": [],
   "source": [
    "# Topic: Matplotlib & Seaborn\n",
    "import seaborn as sns\n",
    "import pandas as pd\n",
    "sns.set()\n",
    "sns.histplot(pd.Series([1,2,2,3]));"
   ]
  },
  {
   "cell_type": "code",
   "execution_count": null,
   "id": "d00bc055",
   "metadata": {},
   "outputs": [],
   "source": [
    "# Topic: Regex\n",
    "import re\n",
    "text = 'email: test@example.com'\n",
    "print(re.findall(r'\\S+@\\S+', text))"
   ]
  },
  {
   "cell_type": "code",
   "execution_count": null,
   "id": "39bcd21a",
   "metadata": {},
   "outputs": [],
   "source": [
    "# Topic: Basic ML\n",
    "from sklearn.linear_model import LinearRegression\n",
    "model = LinearRegression()\n",
    "print(model)"
   ]
  },
  {
   "cell_type": "code",
   "execution_count": null,
   "id": "599e7f1d",
   "metadata": {},
   "outputs": [],
   "source": [
    "# Topic: Pandas\n",
    "import pandas as pd\n",
    "df = pd.DataFrame({'A':[1,2],'B':[3,4]})\n",
    "print(df)"
   ]
  },
  {
   "cell_type": "code",
   "execution_count": null,
   "id": "b822f7e7",
   "metadata": {},
   "outputs": [],
   "source": [
    "# Topic: NumPy\n",
    "import numpy as np\n",
    "a = np.array([1, 2, 3])\n",
    "print(a + 5)"
   ]
  },
  {
   "cell_type": "code",
   "execution_count": null,
   "id": "e9336fe1",
   "metadata": {},
   "outputs": [],
   "source": [
    "# Topic: Mini Projects\n",
    "# Calculator\n",
    "def calc(a,b,op): return eval(f'{a}{op}{b}')\n",
    "print(calc(5,2,'+'))"
   ]
  },
  {
   "cell_type": "code",
   "execution_count": null,
   "id": "f8355805",
   "metadata": {},
   "outputs": [],
   "source": [
    "# Topic: Dictionaries & Sets\n",
    "d = {'name': 'Fahd', 'age': 20}\n",
    "print(d.get('name'))"
   ]
  },
  {
   "cell_type": "code",
   "execution_count": null,
   "id": "4cd7358b",
   "metadata": {},
   "outputs": [],
   "source": [
    "# Topic: JSON & CSV\n",
    "import json\n",
    "data = {'a': 1}\n",
    "print(json.dumps(data))"
   ]
  },
  {
   "cell_type": "code",
   "execution_count": null,
   "id": "42eb2ccc",
   "metadata": {},
   "outputs": [],
   "source": [
    "# Topic: Data Cleaning\n",
    "import pandas as pd\n",
    "df = pd.DataFrame({'A':[1,None,3]})\n",
    "df = df.fillna(0)\n",
    "print(df)"
   ]
  },
  {
   "cell_type": "code",
   "execution_count": null,
   "id": "2e1f2ddf",
   "metadata": {},
   "outputs": [],
   "source": [
    "# Topic: Regex\n",
    "import re\n",
    "text = 'email: test@example.com'\n",
    "print(re.findall(r'\\S+@\\S+', text))"
   ]
  },
  {
   "cell_type": "code",
   "execution_count": null,
   "id": "1cc72b53",
   "metadata": {},
   "outputs": [],
   "source": [
    "# Topic: Basics\n",
    "x = 10\n",
    "y = 20\n",
    "print(x + y)"
   ]
  },
  {
   "cell_type": "code",
   "execution_count": null,
   "id": "de52760a",
   "metadata": {},
   "outputs": [],
   "source": [
    "# Topic: Matplotlib & Seaborn\n",
    "import matplotlib.pyplot as plt\n",
    "plt.plot([1,2],[3,4])\n",
    "plt.show()"
   ]
  },
  {
   "cell_type": "code",
   "execution_count": null,
   "id": "0eb03195",
   "metadata": {},
   "outputs": [],
   "source": [
    "# Topic: OOP\n",
    "class Student:\n",
    "    def __init__(self, name): self.name = name\n",
    "s = Student('Fahd')\n",
    "print(s.name)"
   ]
  },
  {
   "cell_type": "code",
   "execution_count": null,
   "id": "9d3e4ee5",
   "metadata": {},
   "outputs": [],
   "source": [
    "# Topic: Web Scraping\n",
    "import requests\n",
    "from bs4 import BeautifulSoup\n",
    "r = requests.get('https://example.com')\n",
    "soup = BeautifulSoup(r.text, 'html.parser')\n",
    "print(soup.title.text)"
   ]
  },
  {
   "cell_type": "code",
   "execution_count": null,
   "id": "6da3bd00",
   "metadata": {},
   "outputs": [],
   "source": [
    "# Topic: Decorators\n",
    "def log(func):\n",
    " def wrapper():\n",
    "  print('Call')\n",
    "  func()\n",
    " return wrapper\n",
    "@log\n",
    "def say(): print('Hi')\n",
    "say()"
   ]
  },
  {
   "cell_type": "code",
   "execution_count": null,
   "id": "47e9c35b",
   "metadata": {},
   "outputs": [],
   "source": [
    "# Topic: Recursion\n",
    "def fact(n): return 1 if n==0 else n*fact(n-1)\n",
    "print(fact(5))"
   ]
  },
  {
   "cell_type": "code",
   "execution_count": null,
   "id": "c3ed6d7d",
   "metadata": {},
   "outputs": [],
   "source": [
    "# Topic: Pandas\n",
    "import pandas as pd\n",
    "df = pd.DataFrame({'A':[1,2],'B':[3,4]})\n",
    "print(df)"
   ]
  },
  {
   "cell_type": "code",
   "execution_count": null,
   "id": "1828e1de",
   "metadata": {},
   "outputs": [],
   "source": [
    "# Topic: Mini Projects\n",
    "# Palindrome check\n",
    "def is_pal(s): return s == s[::-1]\n",
    "print(is_pal('madam'))"
   ]
  },
  {
   "cell_type": "code",
   "execution_count": null,
   "id": "f70ac416",
   "metadata": {},
   "outputs": [],
   "source": [
    "# Topic: Recursion\n",
    "def fact(n): return 1 if n==0 else n*fact(n-1)\n",
    "print(fact(5))"
   ]
  },
  {
   "cell_type": "code",
   "execution_count": null,
   "id": "a6cde85b",
   "metadata": {},
   "outputs": [],
   "source": [
    "# Topic: Decorators\n",
    "def log(func):\n",
    " def wrapper():\n",
    "  print('Call')\n",
    "  func()\n",
    " return wrapper\n",
    "@log\n",
    "def say(): print('Hi')\n",
    "say()"
   ]
  },
  {
   "cell_type": "code",
   "execution_count": null,
   "id": "bc315d16",
   "metadata": {},
   "outputs": [],
   "source": [
    "# Topic: Data Cleaning\n",
    "import pandas as pd\n",
    "df = pd.DataFrame({'A':[1,None,3]})\n",
    "df = df.fillna(0)\n",
    "print(df)"
   ]
  },
  {
   "cell_type": "code",
   "execution_count": null,
   "id": "9b5eaaae",
   "metadata": {},
   "outputs": [],
   "source": [
    "# Topic: CLI Tools\n",
    "import sys\n",
    "print(f'Arguments: {sys.argv}')"
   ]
  },
  {
   "cell_type": "code",
   "execution_count": null,
   "id": "80e2e58e",
   "metadata": {},
   "outputs": [],
   "source": [
    "# Topic: Regex\n",
    "import re\n",
    "text = 'email: test@example.com'\n",
    "print(re.findall(r'\\S+@\\S+', text))"
   ]
  },
  {
   "cell_type": "code",
   "execution_count": null,
   "id": "62a7efa1",
   "metadata": {},
   "outputs": [],
   "source": [
    "# Topic: Web Scraping\n",
    "import requests\n",
    "from bs4 import BeautifulSoup\n",
    "r = requests.get('https://example.com')\n",
    "soup = BeautifulSoup(r.text, 'html.parser')\n",
    "print(soup.title.text)"
   ]
  },
  {
   "cell_type": "code",
   "execution_count": null,
   "id": "071e3efe",
   "metadata": {},
   "outputs": [],
   "source": [
    "# Topic: Basic ML\n",
    "from sklearn.linear_model import LinearRegression\n",
    "model = LinearRegression()\n",
    "print(model)"
   ]
  },
  {
   "cell_type": "code",
   "execution_count": null,
   "id": "b3855fd3",
   "metadata": {},
   "outputs": [],
   "source": [
    "# Topic: Functions\n",
    "def square(x): return x*x\n",
    "print(square(5))"
   ]
  },
  {
   "cell_type": "code",
   "execution_count": null,
   "id": "32448cab",
   "metadata": {},
   "outputs": [],
   "source": [
    "# Topic: NumPy\n",
    "import numpy as np\n",
    "print(np.linspace(0, 1, 5))"
   ]
  },
  {
   "cell_type": "code",
   "execution_count": null,
   "id": "8969e273",
   "metadata": {},
   "outputs": [],
   "source": [
    "# Topic: File I/O\n",
    "with open('test.txt', 'r') as f:\n",
    "    print(f.read())"
   ]
  },
  {
   "cell_type": "code",
   "execution_count": null,
   "id": "d00054e6",
   "metadata": {},
   "outputs": [],
   "source": [
    "# Topic: Pandas\n",
    "import pandas as pd\n",
    "df = pd.DataFrame({'A':[1,2],'B':[3,4]})\n",
    "print(df)"
   ]
  },
  {
   "cell_type": "code",
   "execution_count": null,
   "id": "f8a064cf",
   "metadata": {},
   "outputs": [],
   "source": [
    "# Topic: CLI Tools\n",
    "import sys\n",
    "print(f'Arguments: {sys.argv}')"
   ]
  },
  {
   "cell_type": "code",
   "execution_count": null,
   "id": "1442d159",
   "metadata": {},
   "outputs": [],
   "source": [
    "# Topic: JSON & CSV\n",
    "import json\n",
    "data = {'a': 1}\n",
    "print(json.dumps(data))"
   ]
  },
  {
   "cell_type": "code",
   "execution_count": null,
   "id": "4b2c378b",
   "metadata": {},
   "outputs": [],
   "source": [
    "# Topic: Web Scraping\n",
    "import requests\n",
    "from bs4 import BeautifulSoup\n",
    "r = requests.get('https://example.com')\n",
    "soup = BeautifulSoup(r.text, 'html.parser')\n",
    "print(soup.title.text)"
   ]
  },
  {
   "cell_type": "code",
   "execution_count": null,
   "id": "7f260b89",
   "metadata": {},
   "outputs": [],
   "source": [
    "# Topic: OOP\n",
    "class Student:\n",
    "    def __init__(self, name): self.name = name\n",
    "s = Student('Fahd')\n",
    "print(s.name)"
   ]
  },
  {
   "cell_type": "code",
   "execution_count": null,
   "id": "a467b411",
   "metadata": {},
   "outputs": [],
   "source": [
    "# Topic: NumPy\n",
    "import numpy as np\n",
    "a = np.array([1, 2, 3])\n",
    "print(a + 5)"
   ]
  },
  {
   "cell_type": "code",
   "execution_count": null,
   "id": "dbeb4e70",
   "metadata": {},
   "outputs": [],
   "source": [
    "# Topic: OOP\n",
    "class Student:\n",
    "    def __init__(self, name): self.name = name\n",
    "s = Student('Fahd')\n",
    "print(s.name)"
   ]
  },
  {
   "cell_type": "code",
   "execution_count": null,
   "id": "0a50c464",
   "metadata": {},
   "outputs": [],
   "source": [
    "# Topic: CLI Tools\n",
    "import sys\n",
    "print(f'Arguments: {sys.argv}')"
   ]
  },
  {
   "cell_type": "code",
   "execution_count": null,
   "id": "3e3fbdd2",
   "metadata": {},
   "outputs": [],
   "source": [
    "# Topic: Decorators\n",
    "def log(func):\n",
    " def wrapper():\n",
    "  print('Call')\n",
    "  func()\n",
    " return wrapper\n",
    "@log\n",
    "def say(): print('Hi')\n",
    "say()"
   ]
  },
  {
   "cell_type": "code",
   "execution_count": null,
   "id": "8158228d",
   "metadata": {},
   "outputs": [],
   "source": [
    "# Topic: Basics\n",
    "name = 'Fahd'\n",
    "print(f'Hello, {name}')"
   ]
  },
  {
   "cell_type": "code",
   "execution_count": null,
   "id": "b410ab84",
   "metadata": {},
   "outputs": [],
   "source": [
    "# Topic: Mini Projects\n",
    "# Palindrome check\n",
    "def is_pal(s): return s == s[::-1]\n",
    "print(is_pal('madam'))"
   ]
  },
  {
   "cell_type": "code",
   "execution_count": null,
   "id": "22682455",
   "metadata": {},
   "outputs": [],
   "source": [
    "# Topic: NumPy\n",
    "import numpy as np\n",
    "a = np.array([1, 2, 3])\n",
    "print(a + 5)"
   ]
  },
  {
   "cell_type": "code",
   "execution_count": null,
   "id": "0d55ff26",
   "metadata": {},
   "outputs": [],
   "source": [
    "# Topic: CLI Tools\n",
    "import sys\n",
    "print(f'Arguments: {sys.argv}')"
   ]
  },
  {
   "cell_type": "code",
   "execution_count": null,
   "id": "c6c99613",
   "metadata": {},
   "outputs": [],
   "source": [
    "# Topic: JSON & CSV\n",
    "import csv\n",
    "with open('file.csv', 'w', newline='') as f:\n",
    " csv.writer(f).writerow(['a','b','c'])"
   ]
  },
  {
   "cell_type": "code",
   "execution_count": null,
   "id": "89ecc5b1",
   "metadata": {},
   "outputs": [],
   "source": [
    "# Topic: Loops\n",
    "while True:\n",
    "    print('Break')\n",
    "    break"
   ]
  },
  {
   "cell_type": "code",
   "execution_count": null,
   "id": "823c1f3f",
   "metadata": {},
   "outputs": [],
   "source": [
    "# Topic: Matplotlib & Seaborn\n",
    "import matplotlib.pyplot as plt\n",
    "plt.plot([1,2],[3,4])\n",
    "plt.show()"
   ]
  },
  {
   "cell_type": "code",
   "execution_count": null,
   "id": "63308c30",
   "metadata": {},
   "outputs": [],
   "source": [
    "# Topic: Basic ML\n",
    "from sklearn.linear_model import LinearRegression\n",
    "model = LinearRegression()\n",
    "print(model)"
   ]
  },
  {
   "cell_type": "code",
   "execution_count": null,
   "id": "a9656104",
   "metadata": {},
   "outputs": [],
   "source": [
    "# Topic: Decorators\n",
    "def log(func):\n",
    " def wrapper():\n",
    "  print('Call')\n",
    "  func()\n",
    " return wrapper\n",
    "@log\n",
    "def say(): print('Hi')\n",
    "say()"
   ]
  },
  {
   "cell_type": "code",
   "execution_count": null,
   "id": "da6defee",
   "metadata": {},
   "outputs": [],
   "source": [
    "# Topic: Basics\n",
    "x = 10\n",
    "y = 20\n",
    "print(x + y)"
   ]
  },
  {
   "cell_type": "code",
   "execution_count": null,
   "id": "50bfc326",
   "metadata": {},
   "outputs": [],
   "source": [
    "# Topic: Basics\n",
    "name = 'Fahd'\n",
    "print(f'Hello, {name}')"
   ]
  },
  {
   "cell_type": "code",
   "execution_count": null,
   "id": "5189a7de",
   "metadata": {},
   "outputs": [],
   "source": [
    "# Topic: NumPy\n",
    "import numpy as np\n",
    "a = np.array([1, 2, 3])\n",
    "print(a + 5)"
   ]
  },
  {
   "cell_type": "code",
   "execution_count": null,
   "id": "ef89c9cd",
   "metadata": {},
   "outputs": [],
   "source": [
    "# Topic: Regex\n",
    "import re\n",
    "text = 'email: test@example.com'\n",
    "print(re.findall(r'\\S+@\\S+', text))"
   ]
  },
  {
   "cell_type": "code",
   "execution_count": null,
   "id": "8357176b",
   "metadata": {},
   "outputs": [],
   "source": [
    "# Topic: Decorators\n",
    "def log(func):\n",
    " def wrapper():\n",
    "  print('Call')\n",
    "  func()\n",
    " return wrapper\n",
    "@log\n",
    "def say(): print('Hi')\n",
    "say()"
   ]
  },
  {
   "cell_type": "code",
   "execution_count": null,
   "id": "26d484a0",
   "metadata": {},
   "outputs": [],
   "source": [
    "# Topic: Regex\n",
    "import re\n",
    "text = 'email: test@example.com'\n",
    "print(re.findall(r'\\S+@\\S+', text))"
   ]
  },
  {
   "cell_type": "code",
   "execution_count": null,
   "id": "96b1a6e0",
   "metadata": {},
   "outputs": [],
   "source": [
    "# Topic: Dictionaries & Sets\n",
    "s = set([1, 2, 3, 2])\n",
    "print(s)"
   ]
  },
  {
   "cell_type": "code",
   "execution_count": null,
   "id": "3b2913de",
   "metadata": {},
   "outputs": [],
   "source": [
    "# Topic: Regex\n",
    "import re\n",
    "text = 'email: test@example.com'\n",
    "print(re.findall(r'\\S+@\\S+', text))"
   ]
  },
  {
   "cell_type": "code",
   "execution_count": null,
   "id": "5e03cc22",
   "metadata": {},
   "outputs": [],
   "source": [
    "# Topic: Regex\n",
    "import re\n",
    "text = 'email: test@example.com'\n",
    "print(re.findall(r'\\S+@\\S+', text))"
   ]
  },
  {
   "cell_type": "code",
   "execution_count": null,
   "id": "bbef80e5",
   "metadata": {},
   "outputs": [],
   "source": [
    "# Topic: JSON & CSV\n",
    "import json\n",
    "data = {'a': 1}\n",
    "print(json.dumps(data))"
   ]
  },
  {
   "cell_type": "code",
   "execution_count": null,
   "id": "ff586dd2",
   "metadata": {},
   "outputs": [],
   "source": [
    "# Topic: Loops\n",
    "while True:\n",
    "    print('Break')\n",
    "    break"
   ]
  },
  {
   "cell_type": "code",
   "execution_count": null,
   "id": "d41a5428",
   "metadata": {},
   "outputs": [],
   "source": [
    "# Topic: Pandas\n",
    "import pandas as pd\n",
    "df = pd.read_csv('file.csv')\n",
    "print(df.head())"
   ]
  },
  {
   "cell_type": "code",
   "execution_count": null,
   "id": "dbc761a4",
   "metadata": {},
   "outputs": [],
   "source": [
    "# Topic: NumPy\n",
    "import numpy as np\n",
    "a = np.array([1, 2, 3])\n",
    "print(a + 5)"
   ]
  },
  {
   "cell_type": "code",
   "execution_count": null,
   "id": "5a594152",
   "metadata": {},
   "outputs": [],
   "source": [
    "# Topic: Pandas\n",
    "import pandas as pd\n",
    "df = pd.read_csv('file.csv')\n",
    "print(df.head())"
   ]
  },
  {
   "cell_type": "code",
   "execution_count": null,
   "id": "726b854d",
   "metadata": {},
   "outputs": [],
   "source": [
    "# Topic: NumPy\n",
    "import numpy as np\n",
    "a = np.array([1, 2, 3])\n",
    "print(a + 5)"
   ]
  },
  {
   "cell_type": "code",
   "execution_count": null,
   "id": "879a2ea9",
   "metadata": {},
   "outputs": [],
   "source": [
    "# Topic: Mini Projects\n",
    "# Palindrome check\n",
    "def is_pal(s): return s == s[::-1]\n",
    "print(is_pal('madam'))"
   ]
  },
  {
   "cell_type": "code",
   "execution_count": null,
   "id": "1e2aa190",
   "metadata": {},
   "outputs": [],
   "source": [
    "# Topic: Functions\n",
    "def greet(name='User'):\n",
    "    print(f'Hi, {name}')\n",
    "greet()"
   ]
  },
  {
   "cell_type": "code",
   "execution_count": null,
   "id": "7f03a83e",
   "metadata": {},
   "outputs": [],
   "source": [
    "# Topic: JSON & CSV\n",
    "import json\n",
    "data = {'a': 1}\n",
    "print(json.dumps(data))"
   ]
  },
  {
   "cell_type": "code",
   "execution_count": null,
   "id": "140164ab",
   "metadata": {},
   "outputs": [],
   "source": [
    "# Topic: Data Cleaning\n",
    "import pandas as pd\n",
    "df = pd.DataFrame({'A':[1,None,3]})\n",
    "df = df.fillna(0)\n",
    "print(df)"
   ]
  },
  {
   "cell_type": "code",
   "execution_count": null,
   "id": "437321a7",
   "metadata": {},
   "outputs": [],
   "source": [
    "# Topic: Matplotlib & Seaborn\n",
    "import seaborn as sns\n",
    "import pandas as pd\n",
    "sns.set()\n",
    "sns.histplot(pd.Series([1,2,2,3]));"
   ]
  },
  {
   "cell_type": "code",
   "execution_count": null,
   "id": "5c4e63da",
   "metadata": {},
   "outputs": [],
   "source": [
    "# Topic: Pandas\n",
    "import pandas as pd\n",
    "df = pd.read_csv('file.csv')\n",
    "print(df.head())"
   ]
  },
  {
   "cell_type": "code",
   "execution_count": null,
   "id": "837c3f44",
   "metadata": {},
   "outputs": [],
   "source": [
    "# Topic: Web Scraping\n",
    "import requests\n",
    "from bs4 import BeautifulSoup\n",
    "r = requests.get('https://example.com')\n",
    "soup = BeautifulSoup(r.text, 'html.parser')\n",
    "print(soup.title.text)"
   ]
  },
  {
   "cell_type": "code",
   "execution_count": null,
   "id": "6090e689",
   "metadata": {},
   "outputs": [],
   "source": [
    "# Topic: Dictionaries & Sets\n",
    "s = set([1, 2, 3, 2])\n",
    "print(s)"
   ]
  },
  {
   "cell_type": "code",
   "execution_count": null,
   "id": "d46f53f5",
   "metadata": {},
   "outputs": [],
   "source": [
    "# Topic: Recursion\n",
    "def fact(n): return 1 if n==0 else n*fact(n-1)\n",
    "print(fact(5))"
   ]
  },
  {
   "cell_type": "code",
   "execution_count": null,
   "id": "6e25d2f1",
   "metadata": {},
   "outputs": [],
   "source": [
    "# Topic: Recursion\n",
    "def fact(n): return 1 if n==0 else n*fact(n-1)\n",
    "print(fact(5))"
   ]
  },
  {
   "cell_type": "code",
   "execution_count": null,
   "id": "56d2a68d",
   "metadata": {},
   "outputs": [],
   "source": [
    "# Topic: OOP\n",
    "class Student:\n",
    "    def __init__(self, name): self.name = name\n",
    "s = Student('Fahd')\n",
    "print(s.name)"
   ]
  },
  {
   "cell_type": "code",
   "execution_count": null,
   "id": "958eb7f6",
   "metadata": {},
   "outputs": [],
   "source": [
    "# Topic: Algorithms\n",
    "# Bubble sort\n",
    "def bubble(arr):\n",
    " for i in range(len(arr)):\n",
    "  for j in range(0, len(arr)-i-1):\n",
    "   if arr[j]>arr[j+1]: arr[j],arr[j+1]=arr[j+1],arr[j]\n",
    "a=[5,3,8]\n",
    "bubble(a)\n",
    "print(a)"
   ]
  },
  {
   "cell_type": "code",
   "execution_count": null,
   "id": "8e09f006",
   "metadata": {},
   "outputs": [],
   "source": [
    "# Topic: Web Scraping\n",
    "import requests\n",
    "from bs4 import BeautifulSoup\n",
    "r = requests.get('https://example.com')\n",
    "soup = BeautifulSoup(r.text, 'html.parser')\n",
    "print(soup.title.text)"
   ]
  },
  {
   "cell_type": "code",
   "execution_count": null,
   "id": "b8f04cc7",
   "metadata": {},
   "outputs": [],
   "source": [
    "# Topic: Lists & Tuples\n",
    "t = (1, 2, 3)\n",
    "print(t[0])"
   ]
  },
  {
   "cell_type": "code",
   "execution_count": null,
   "id": "31dac4eb",
   "metadata": {},
   "outputs": [],
   "source": [
    "# Topic: Basic ML\n",
    "from sklearn.linear_model import LinearRegression\n",
    "model = LinearRegression()\n",
    "print(model)"
   ]
  },
  {
   "cell_type": "code",
   "execution_count": null,
   "id": "073fae5f",
   "metadata": {},
   "outputs": [],
   "source": [
    "# Topic: JSON & CSV\n",
    "import csv\n",
    "with open('file.csv', 'w', newline='') as f:\n",
    " csv.writer(f).writerow(['a','b','c'])"
   ]
  },
  {
   "cell_type": "code",
   "execution_count": null,
   "id": "ea137987",
   "metadata": {},
   "outputs": [],
   "source": [
    "# Topic: Decorators\n",
    "def log(func):\n",
    " def wrapper():\n",
    "  print('Call')\n",
    "  func()\n",
    " return wrapper\n",
    "@log\n",
    "def say(): print('Hi')\n",
    "say()"
   ]
  },
  {
   "cell_type": "code",
   "execution_count": null,
   "id": "0089269c",
   "metadata": {},
   "outputs": [],
   "source": [
    "# Topic: Data Cleaning\n",
    "import pandas as pd\n",
    "df = pd.DataFrame({'A':[1,None,3]})\n",
    "df = df.fillna(0)\n",
    "print(df)"
   ]
  },
  {
   "cell_type": "code",
   "execution_count": null,
   "id": "7998c51b",
   "metadata": {},
   "outputs": [],
   "source": [
    "# Topic: Loops\n",
    "for i in range(10): print(i*i)"
   ]
  },
  {
   "cell_type": "code",
   "execution_count": null,
   "id": "746ba654",
   "metadata": {},
   "outputs": [],
   "source": [
    "# Topic: Regex\n",
    "import re\n",
    "text = 'email: test@example.com'\n",
    "print(re.findall(r'\\S+@\\S+', text))"
   ]
  },
  {
   "cell_type": "code",
   "execution_count": null,
   "id": "19118dc2",
   "metadata": {},
   "outputs": [],
   "source": [
    "# Topic: Algorithms\n",
    "# Bubble sort\n",
    "def bubble(arr):\n",
    " for i in range(len(arr)):\n",
    "  for j in range(0, len(arr)-i-1):\n",
    "   if arr[j]>arr[j+1]: arr[j],arr[j+1]=arr[j+1],arr[j]\n",
    "a=[5,3,8]\n",
    "bubble(a)\n",
    "print(a)"
   ]
  },
  {
   "cell_type": "code",
   "execution_count": null,
   "id": "d891d731",
   "metadata": {},
   "outputs": [],
   "source": [
    "# Topic: Web Scraping\n",
    "import requests\n",
    "from bs4 import BeautifulSoup\n",
    "r = requests.get('https://example.com')\n",
    "soup = BeautifulSoup(r.text, 'html.parser')\n",
    "print(soup.title.text)"
   ]
  },
  {
   "cell_type": "code",
   "execution_count": null,
   "id": "259a29fd",
   "metadata": {},
   "outputs": [],
   "source": [
    "# Topic: Algorithms\n",
    "# Bubble sort\n",
    "def bubble(arr):\n",
    " for i in range(len(arr)):\n",
    "  for j in range(0, len(arr)-i-1):\n",
    "   if arr[j]>arr[j+1]: arr[j],arr[j+1]=arr[j+1],arr[j]\n",
    "a=[5,3,8]\n",
    "bubble(a)\n",
    "print(a)"
   ]
  },
  {
   "cell_type": "code",
   "execution_count": null,
   "id": "f6c3fba0",
   "metadata": {},
   "outputs": [],
   "source": [
    "# Topic: Data Cleaning\n",
    "import pandas as pd\n",
    "df = pd.DataFrame({'A':[1,None,3]})\n",
    "df = df.fillna(0)\n",
    "print(df)"
   ]
  },
  {
   "cell_type": "code",
   "execution_count": null,
   "id": "a4778097",
   "metadata": {},
   "outputs": [],
   "source": [
    "# Topic: Basics\n",
    "name = 'Fahd'\n",
    "print(f'Hello, {name}')"
   ]
  },
  {
   "cell_type": "code",
   "execution_count": null,
   "id": "9857f371",
   "metadata": {},
   "outputs": [],
   "source": [
    "# Topic: Regex\n",
    "import re\n",
    "text = 'email: test@example.com'\n",
    "print(re.findall(r'\\S+@\\S+', text))"
   ]
  },
  {
   "cell_type": "code",
   "execution_count": null,
   "id": "8643a5a1",
   "metadata": {},
   "outputs": [],
   "source": [
    "# Topic: Basics\n",
    "name = 'Fahd'\n",
    "print(f'Hello, {name}')"
   ]
  },
  {
   "cell_type": "code",
   "execution_count": null,
   "id": "0b835de1",
   "metadata": {},
   "outputs": [],
   "source": [
    "# Topic: Functions\n",
    "def greet(name='User'):\n",
    "    print(f'Hi, {name}')\n",
    "greet()"
   ]
  },
  {
   "cell_type": "code",
   "execution_count": null,
   "id": "fdcf7218",
   "metadata": {},
   "outputs": [],
   "source": [
    "# Topic: CLI Tools\n",
    "import sys\n",
    "print(f'Arguments: {sys.argv}')"
   ]
  },
  {
   "cell_type": "code",
   "execution_count": null,
   "id": "d77c5da0",
   "metadata": {},
   "outputs": [],
   "source": [
    "# Topic: Matplotlib & Seaborn\n",
    "import matplotlib.pyplot as plt\n",
    "plt.plot([1,2],[3,4])\n",
    "plt.show()"
   ]
  },
  {
   "cell_type": "code",
   "execution_count": null,
   "id": "d4415fea",
   "metadata": {},
   "outputs": [],
   "source": [
    "# Topic: Functions\n",
    "def square(x): return x*x\n",
    "print(square(5))"
   ]
  },
  {
   "cell_type": "code",
   "execution_count": null,
   "id": "7c3d7132",
   "metadata": {},
   "outputs": [],
   "source": [
    "# Topic: Loops\n",
    "while True:\n",
    "    print('Break')\n",
    "    break"
   ]
  },
  {
   "cell_type": "code",
   "execution_count": null,
   "id": "307324fc",
   "metadata": {},
   "outputs": [],
   "source": [
    "# Topic: Basics\n",
    "x = 10\n",
    "y = 20\n",
    "print(x + y)"
   ]
  },
  {
   "cell_type": "code",
   "execution_count": null,
   "id": "54c154ab",
   "metadata": {},
   "outputs": [],
   "source": [
    "# Topic: Mini Projects\n",
    "# Calculator\n",
    "def calc(a,b,op): return eval(f'{a}{op}{b}')\n",
    "print(calc(5,2,'+'))"
   ]
  },
  {
   "cell_type": "code",
   "execution_count": null,
   "id": "1dfcde9a",
   "metadata": {},
   "outputs": [],
   "source": [
    "# Topic: Loops\n",
    "while True:\n",
    "    print('Break')\n",
    "    break"
   ]
  },
  {
   "cell_type": "code",
   "execution_count": null,
   "id": "3d6020c6",
   "metadata": {},
   "outputs": [],
   "source": [
    "# Topic: Lists & Tuples\n",
    "t = (1, 2, 3)\n",
    "print(t[0])"
   ]
  },
  {
   "cell_type": "code",
   "execution_count": null,
   "id": "988db92d",
   "metadata": {},
   "outputs": [],
   "source": [
    "# Topic: Algorithms\n",
    "# Bubble sort\n",
    "def bubble(arr):\n",
    " for i in range(len(arr)):\n",
    "  for j in range(0, len(arr)-i-1):\n",
    "   if arr[j]>arr[j+1]: arr[j],arr[j+1]=arr[j+1],arr[j]\n",
    "a=[5,3,8]\n",
    "bubble(a)\n",
    "print(a)"
   ]
  },
  {
   "cell_type": "code",
   "execution_count": null,
   "id": "aeee90f9",
   "metadata": {},
   "outputs": [],
   "source": [
    "# Topic: Matplotlib & Seaborn\n",
    "import seaborn as sns\n",
    "import pandas as pd\n",
    "sns.set()\n",
    "sns.histplot(pd.Series([1,2,2,3]));"
   ]
  },
  {
   "cell_type": "code",
   "execution_count": null,
   "id": "d71e5702",
   "metadata": {},
   "outputs": [],
   "source": [
    "# Topic: Pandas\n",
    "import pandas as pd\n",
    "df = pd.read_csv('file.csv')\n",
    "print(df.head())"
   ]
  },
  {
   "cell_type": "code",
   "execution_count": null,
   "id": "1290ab1d",
   "metadata": {},
   "outputs": [],
   "source": [
    "# Topic: Lists & Tuples\n",
    "t = (1, 2, 3)\n",
    "print(t[0])"
   ]
  },
  {
   "cell_type": "code",
   "execution_count": null,
   "id": "5827adab",
   "metadata": {},
   "outputs": [],
   "source": [
    "# Topic: JSON & CSV\n",
    "import json\n",
    "data = {'a': 1}\n",
    "print(json.dumps(data))"
   ]
  },
  {
   "cell_type": "code",
   "execution_count": null,
   "id": "cd99d695",
   "metadata": {},
   "outputs": [],
   "source": [
    "# Topic: CLI Tools\n",
    "import sys\n",
    "print(f'Arguments: {sys.argv}')"
   ]
  },
  {
   "cell_type": "code",
   "execution_count": null,
   "id": "2c9ba89c",
   "metadata": {},
   "outputs": [],
   "source": [
    "# Topic: Web Scraping\n",
    "import requests\n",
    "from bs4 import BeautifulSoup\n",
    "r = requests.get('https://example.com')\n",
    "soup = BeautifulSoup(r.text, 'html.parser')\n",
    "print(soup.title.text)"
   ]
  },
  {
   "cell_type": "code",
   "execution_count": null,
   "id": "768f8035",
   "metadata": {},
   "outputs": [],
   "source": [
    "# Topic: File I/O\n",
    "with open('test.txt', 'r') as f:\n",
    "    print(f.read())"
   ]
  },
  {
   "cell_type": "code",
   "execution_count": null,
   "id": "ad01cf64",
   "metadata": {},
   "outputs": [],
   "source": [
    "# Topic: Basic ML\n",
    "from sklearn.linear_model import LinearRegression\n",
    "model = LinearRegression()\n",
    "print(model)"
   ]
  },
  {
   "cell_type": "code",
   "execution_count": null,
   "id": "a462f0f7",
   "metadata": {},
   "outputs": [],
   "source": [
    "# Topic: Pandas\n",
    "import pandas as pd\n",
    "df = pd.read_csv('file.csv')\n",
    "print(df.head())"
   ]
  },
  {
   "cell_type": "code",
   "execution_count": null,
   "id": "e7807225",
   "metadata": {},
   "outputs": [],
   "source": [
    "# Topic: JSON & CSV\n",
    "import csv\n",
    "with open('file.csv', 'w', newline='') as f:\n",
    " csv.writer(f).writerow(['a','b','c'])"
   ]
  },
  {
   "cell_type": "code",
   "execution_count": null,
   "id": "efcc3e75",
   "metadata": {},
   "outputs": [],
   "source": [
    "# Topic: Loops\n",
    "while True:\n",
    "    print('Break')\n",
    "    break"
   ]
  },
  {
   "cell_type": "code",
   "execution_count": null,
   "id": "f60b80f9",
   "metadata": {},
   "outputs": [],
   "source": [
    "# Topic: NumPy\n",
    "import numpy as np\n",
    "a = np.array([1, 2, 3])\n",
    "print(a + 5)"
   ]
  },
  {
   "cell_type": "code",
   "execution_count": null,
   "id": "3ade075c",
   "metadata": {},
   "outputs": [],
   "source": [
    "# Topic: Recursion\n",
    "def fact(n): return 1 if n==0 else n*fact(n-1)\n",
    "print(fact(5))"
   ]
  },
  {
   "cell_type": "code",
   "execution_count": null,
   "id": "b2c99dcd",
   "metadata": {},
   "outputs": [],
   "source": [
    "# Topic: Regex\n",
    "import re\n",
    "text = 'email: test@example.com'\n",
    "print(re.findall(r'\\S+@\\S+', text))"
   ]
  },
  {
   "cell_type": "code",
   "execution_count": null,
   "id": "6e881c22",
   "metadata": {},
   "outputs": [],
   "source": [
    "# Topic: Functions\n",
    "def square(x): return x*x\n",
    "print(square(5))"
   ]
  },
  {
   "cell_type": "code",
   "execution_count": null,
   "id": "4b20261a",
   "metadata": {},
   "outputs": [],
   "source": [
    "# Topic: Lists & Tuples\n",
    "t = (1, 2, 3)\n",
    "print(t[0])"
   ]
  },
  {
   "cell_type": "code",
   "execution_count": null,
   "id": "e33b4214",
   "metadata": {},
   "outputs": [],
   "source": [
    "# Topic: NumPy\n",
    "import numpy as np\n",
    "a = np.array([1, 2, 3])\n",
    "print(a + 5)"
   ]
  },
  {
   "cell_type": "code",
   "execution_count": null,
   "id": "05f019fe",
   "metadata": {},
   "outputs": [],
   "source": [
    "# Topic: Recursion\n",
    "def fact(n): return 1 if n==0 else n*fact(n-1)\n",
    "print(fact(5))"
   ]
  },
  {
   "cell_type": "code",
   "execution_count": null,
   "id": "4f3240bf",
   "metadata": {},
   "outputs": [],
   "source": [
    "# Topic: Basic ML\n",
    "from sklearn.linear_model import LinearRegression\n",
    "model = LinearRegression()\n",
    "print(model)"
   ]
  },
  {
   "cell_type": "code",
   "execution_count": null,
   "id": "e84e09e8",
   "metadata": {},
   "outputs": [],
   "source": [
    "# Topic: CLI Tools\n",
    "import sys\n",
    "print(f'Arguments: {sys.argv}')"
   ]
  },
  {
   "cell_type": "code",
   "execution_count": null,
   "id": "003ce0fa",
   "metadata": {},
   "outputs": [],
   "source": [
    "# Topic: Matplotlib & Seaborn\n",
    "import seaborn as sns\n",
    "import pandas as pd\n",
    "sns.set()\n",
    "sns.histplot(pd.Series([1,2,2,3]));"
   ]
  },
  {
   "cell_type": "code",
   "execution_count": null,
   "id": "6de9d8a9",
   "metadata": {},
   "outputs": [],
   "source": [
    "# Topic: Decorators\n",
    "def log(func):\n",
    " def wrapper():\n",
    "  print('Call')\n",
    "  func()\n",
    " return wrapper\n",
    "@log\n",
    "def say(): print('Hi')\n",
    "say()"
   ]
  },
  {
   "cell_type": "code",
   "execution_count": null,
   "id": "cd011fbc",
   "metadata": {},
   "outputs": [],
   "source": [
    "# Topic: Loops\n",
    "for i in range(10): print(i*i)"
   ]
  },
  {
   "cell_type": "code",
   "execution_count": null,
   "id": "92ebd5f5",
   "metadata": {},
   "outputs": [],
   "source": [
    "# Topic: JSON & CSV\n",
    "import csv\n",
    "with open('file.csv', 'w', newline='') as f:\n",
    " csv.writer(f).writerow(['a','b','c'])"
   ]
  },
  {
   "cell_type": "code",
   "execution_count": null,
   "id": "3e18ed98",
   "metadata": {},
   "outputs": [],
   "source": [
    "# Topic: Matplotlib & Seaborn\n",
    "import matplotlib.pyplot as plt\n",
    "plt.plot([1,2],[3,4])\n",
    "plt.show()"
   ]
  },
  {
   "cell_type": "code",
   "execution_count": null,
   "id": "34760822",
   "metadata": {},
   "outputs": [],
   "source": [
    "# Topic: Basic ML\n",
    "from sklearn.linear_model import LinearRegression\n",
    "model = LinearRegression()\n",
    "print(model)"
   ]
  },
  {
   "cell_type": "code",
   "execution_count": null,
   "id": "9db50420",
   "metadata": {},
   "outputs": [],
   "source": [
    "# Topic: Regex\n",
    "import re\n",
    "text = 'email: test@example.com'\n",
    "print(re.findall(r'\\S+@\\S+', text))"
   ]
  },
  {
   "cell_type": "code",
   "execution_count": null,
   "id": "2de0becd",
   "metadata": {},
   "outputs": [],
   "source": [
    "# Topic: NumPy\n",
    "import numpy as np\n",
    "a = np.array([1, 2, 3])\n",
    "print(a + 5)"
   ]
  },
  {
   "cell_type": "code",
   "execution_count": null,
   "id": "afe9d35a",
   "metadata": {},
   "outputs": [],
   "source": [
    "# Topic: CLI Tools\n",
    "import sys\n",
    "print(f'Arguments: {sys.argv}')"
   ]
  },
  {
   "cell_type": "code",
   "execution_count": null,
   "id": "103dd3b0",
   "metadata": {},
   "outputs": [],
   "source": [
    "# Topic: Regex\n",
    "import re\n",
    "text = 'email: test@example.com'\n",
    "print(re.findall(r'\\S+@\\S+', text))"
   ]
  },
  {
   "cell_type": "code",
   "execution_count": null,
   "id": "6e27f0ba",
   "metadata": {},
   "outputs": [],
   "source": [
    "# Topic: OOP\n",
    "class Student:\n",
    "    def __init__(self, name): self.name = name\n",
    "s = Student('Fahd')\n",
    "print(s.name)"
   ]
  },
  {
   "cell_type": "code",
   "execution_count": null,
   "id": "a7e89ab0",
   "metadata": {},
   "outputs": [],
   "source": [
    "# Topic: Decorators\n",
    "def log(func):\n",
    " def wrapper():\n",
    "  print('Call')\n",
    "  func()\n",
    " return wrapper\n",
    "@log\n",
    "def say(): print('Hi')\n",
    "say()"
   ]
  },
  {
   "cell_type": "code",
   "execution_count": null,
   "id": "733664e3",
   "metadata": {},
   "outputs": [],
   "source": [
    "# Topic: Dictionaries & Sets\n",
    "s = set([1, 2, 3, 2])\n",
    "print(s)"
   ]
  },
  {
   "cell_type": "code",
   "execution_count": null,
   "id": "8e58a3eb",
   "metadata": {},
   "outputs": [],
   "source": [
    "# Topic: Dictionaries & Sets\n",
    "s = set([1, 2, 3, 2])\n",
    "print(s)"
   ]
  },
  {
   "cell_type": "code",
   "execution_count": null,
   "id": "9900b886",
   "metadata": {},
   "outputs": [],
   "source": [
    "# Topic: Mini Projects\n",
    "# Calculator\n",
    "def calc(a,b,op): return eval(f'{a}{op}{b}')\n",
    "print(calc(5,2,'+'))"
   ]
  },
  {
   "cell_type": "code",
   "execution_count": null,
   "id": "e73e0a99",
   "metadata": {},
   "outputs": [],
   "source": [
    "# Topic: NumPy\n",
    "import numpy as np\n",
    "print(np.linspace(0, 1, 5))"
   ]
  },
  {
   "cell_type": "code",
   "execution_count": null,
   "id": "0a1c5feb",
   "metadata": {},
   "outputs": [],
   "source": [
    "# Topic: NumPy\n",
    "import numpy as np\n",
    "print(np.linspace(0, 1, 5))"
   ]
  },
  {
   "cell_type": "code",
   "execution_count": null,
   "id": "4cb72b8e",
   "metadata": {},
   "outputs": [],
   "source": [
    "# Topic: Web Scraping\n",
    "import requests\n",
    "from bs4 import BeautifulSoup\n",
    "r = requests.get('https://example.com')\n",
    "soup = BeautifulSoup(r.text, 'html.parser')\n",
    "print(soup.title.text)"
   ]
  },
  {
   "cell_type": "code",
   "execution_count": null,
   "id": "7faeb8c0",
   "metadata": {},
   "outputs": [],
   "source": [
    "# Topic: Functions\n",
    "def square(x): return x*x\n",
    "print(square(5))"
   ]
  },
  {
   "cell_type": "code",
   "execution_count": null,
   "id": "fcc4b46d",
   "metadata": {},
   "outputs": [],
   "source": [
    "# Topic: Data Cleaning\n",
    "import pandas as pd\n",
    "df = pd.DataFrame({'A':[1,None,3]})\n",
    "df = df.fillna(0)\n",
    "print(df)"
   ]
  },
  {
   "cell_type": "code",
   "execution_count": null,
   "id": "f147cafd",
   "metadata": {},
   "outputs": [],
   "source": [
    "# Topic: Matplotlib & Seaborn\n",
    "import matplotlib.pyplot as plt\n",
    "plt.plot([1,2],[3,4])\n",
    "plt.show()"
   ]
  },
  {
   "cell_type": "code",
   "execution_count": null,
   "id": "11af4c68",
   "metadata": {},
   "outputs": [],
   "source": [
    "# Topic: File I/O\n",
    "with open('test.txt', 'w') as f:\n",
    "    f.write('Hello World')"
   ]
  },
  {
   "cell_type": "code",
   "execution_count": null,
   "id": "54d6379a",
   "metadata": {},
   "outputs": [],
   "source": [
    "# Topic: Dictionaries & Sets\n",
    "s = set([1, 2, 3, 2])\n",
    "print(s)"
   ]
  },
  {
   "cell_type": "code",
   "execution_count": null,
   "id": "dc54f67f",
   "metadata": {},
   "outputs": [],
   "source": [
    "# Topic: Matplotlib & Seaborn\n",
    "import matplotlib.pyplot as plt\n",
    "plt.plot([1,2],[3,4])\n",
    "plt.show()"
   ]
  },
  {
   "cell_type": "code",
   "execution_count": null,
   "id": "31c653b7",
   "metadata": {},
   "outputs": [],
   "source": [
    "# Topic: Loops\n",
    "for i in range(10): print(i*i)"
   ]
  },
  {
   "cell_type": "code",
   "execution_count": null,
   "id": "27ca44c4",
   "metadata": {},
   "outputs": [],
   "source": [
    "# Topic: Recursion\n",
    "def fact(n): return 1 if n==0 else n*fact(n-1)\n",
    "print(fact(5))"
   ]
  },
  {
   "cell_type": "code",
   "execution_count": null,
   "id": "111767ae",
   "metadata": {},
   "outputs": [],
   "source": [
    "# Topic: Web Scraping\n",
    "import requests\n",
    "from bs4 import BeautifulSoup\n",
    "r = requests.get('https://example.com')\n",
    "soup = BeautifulSoup(r.text, 'html.parser')\n",
    "print(soup.title.text)"
   ]
  },
  {
   "cell_type": "code",
   "execution_count": null,
   "id": "daac72f5",
   "metadata": {},
   "outputs": [],
   "source": [
    "# Topic: Functions\n",
    "def greet(name='User'):\n",
    "    print(f'Hi, {name}')\n",
    "greet()"
   ]
  },
  {
   "cell_type": "code",
   "execution_count": null,
   "id": "2198a77c",
   "metadata": {},
   "outputs": [],
   "source": [
    "# Topic: CLI Tools\n",
    "import sys\n",
    "print(f'Arguments: {sys.argv}')"
   ]
  },
  {
   "cell_type": "code",
   "execution_count": null,
   "id": "f85e6158",
   "metadata": {},
   "outputs": [],
   "source": [
    "# Topic: Matplotlib & Seaborn\n",
    "import matplotlib.pyplot as plt\n",
    "plt.plot([1,2],[3,4])\n",
    "plt.show()"
   ]
  },
  {
   "cell_type": "code",
   "execution_count": null,
   "id": "ee69ffb8",
   "metadata": {},
   "outputs": [],
   "source": [
    "# Topic: Data Cleaning\n",
    "import pandas as pd\n",
    "df = pd.DataFrame({'A':[1,None,3]})\n",
    "df = df.fillna(0)\n",
    "print(df)"
   ]
  },
  {
   "cell_type": "code",
   "execution_count": null,
   "id": "f738b76b",
   "metadata": {},
   "outputs": [],
   "source": [
    "# Topic: Web Scraping\n",
    "import requests\n",
    "from bs4 import BeautifulSoup\n",
    "r = requests.get('https://example.com')\n",
    "soup = BeautifulSoup(r.text, 'html.parser')\n",
    "print(soup.title.text)"
   ]
  },
  {
   "cell_type": "code",
   "execution_count": null,
   "id": "03955a92",
   "metadata": {},
   "outputs": [],
   "source": [
    "# Topic: NumPy\n",
    "import numpy as np\n",
    "print(np.linspace(0, 1, 5))"
   ]
  },
  {
   "cell_type": "code",
   "execution_count": null,
   "id": "215fb11e",
   "metadata": {},
   "outputs": [],
   "source": [
    "# Topic: CLI Tools\n",
    "import sys\n",
    "print(f'Arguments: {sys.argv}')"
   ]
  },
  {
   "cell_type": "code",
   "execution_count": null,
   "id": "407e9458",
   "metadata": {},
   "outputs": [],
   "source": [
    "# Topic: JSON & CSV\n",
    "import csv\n",
    "with open('file.csv', 'w', newline='') as f:\n",
    " csv.writer(f).writerow(['a','b','c'])"
   ]
  },
  {
   "cell_type": "code",
   "execution_count": null,
   "id": "b147774d",
   "metadata": {},
   "outputs": [],
   "source": [
    "# Topic: Web Scraping\n",
    "import requests\n",
    "from bs4 import BeautifulSoup\n",
    "r = requests.get('https://example.com')\n",
    "soup = BeautifulSoup(r.text, 'html.parser')\n",
    "print(soup.title.text)"
   ]
  },
  {
   "cell_type": "code",
   "execution_count": null,
   "id": "e31245f8",
   "metadata": {},
   "outputs": [],
   "source": [
    "# Topic: Basics\n",
    "name = 'Fahd'\n",
    "print(f'Hello, {name}')"
   ]
  },
  {
   "cell_type": "code",
   "execution_count": null,
   "id": "283dd501",
   "metadata": {},
   "outputs": [],
   "source": [
    "# Topic: Recursion\n",
    "def fact(n): return 1 if n==0 else n*fact(n-1)\n",
    "print(fact(5))"
   ]
  },
  {
   "cell_type": "code",
   "execution_count": null,
   "id": "20d9639e",
   "metadata": {},
   "outputs": [],
   "source": [
    "# Topic: CLI Tools\n",
    "import sys\n",
    "print(f'Arguments: {sys.argv}')"
   ]
  },
  {
   "cell_type": "code",
   "execution_count": null,
   "id": "bb212475",
   "metadata": {},
   "outputs": [],
   "source": [
    "# Topic: Recursion\n",
    "def fact(n): return 1 if n==0 else n*fact(n-1)\n",
    "print(fact(5))"
   ]
  },
  {
   "cell_type": "code",
   "execution_count": null,
   "id": "e16cea56",
   "metadata": {},
   "outputs": [],
   "source": [
    "# Topic: Data Cleaning\n",
    "import pandas as pd\n",
    "df = pd.DataFrame({'A':[1,None,3]})\n",
    "df = df.fillna(0)\n",
    "print(df)"
   ]
  },
  {
   "cell_type": "code",
   "execution_count": null,
   "id": "86973205",
   "metadata": {},
   "outputs": [],
   "source": [
    "# Topic: File I/O\n",
    "with open('test.txt', 'w') as f:\n",
    "    f.write('Hello World')"
   ]
  },
  {
   "cell_type": "code",
   "execution_count": null,
   "id": "5b7080f4",
   "metadata": {},
   "outputs": [],
   "source": [
    "# Topic: Decorators\n",
    "def log(func):\n",
    " def wrapper():\n",
    "  print('Call')\n",
    "  func()\n",
    " return wrapper\n",
    "@log\n",
    "def say(): print('Hi')\n",
    "say()"
   ]
  },
  {
   "cell_type": "code",
   "execution_count": null,
   "id": "d8c0015e",
   "metadata": {},
   "outputs": [],
   "source": [
    "# Topic: Pandas\n",
    "import pandas as pd\n",
    "df = pd.read_csv('file.csv')\n",
    "print(df.head())"
   ]
  },
  {
   "cell_type": "code",
   "execution_count": null,
   "id": "566ff341",
   "metadata": {},
   "outputs": [],
   "source": [
    "# Topic: Web Scraping\n",
    "import requests\n",
    "from bs4 import BeautifulSoup\n",
    "r = requests.get('https://example.com')\n",
    "soup = BeautifulSoup(r.text, 'html.parser')\n",
    "print(soup.title.text)"
   ]
  },
  {
   "cell_type": "code",
   "execution_count": null,
   "id": "199791d1",
   "metadata": {},
   "outputs": [],
   "source": [
    "# Topic: Dictionaries & Sets\n",
    "d = {'name': 'Fahd', 'age': 20}\n",
    "print(d.get('name'))"
   ]
  },
  {
   "cell_type": "code",
   "execution_count": null,
   "id": "07dd196e",
   "metadata": {},
   "outputs": [],
   "source": [
    "# Topic: Decorators\n",
    "def log(func):\n",
    " def wrapper():\n",
    "  print('Call')\n",
    "  func()\n",
    " return wrapper\n",
    "@log\n",
    "def say(): print('Hi')\n",
    "say()"
   ]
  },
  {
   "cell_type": "code",
   "execution_count": null,
   "id": "8dcc7101",
   "metadata": {},
   "outputs": [],
   "source": [
    "# Topic: OOP\n",
    "class Student:\n",
    "    def __init__(self, name): self.name = name\n",
    "s = Student('Fahd')\n",
    "print(s.name)"
   ]
  },
  {
   "cell_type": "code",
   "execution_count": null,
   "id": "96665c0a",
   "metadata": {},
   "outputs": [],
   "source": [
    "# Topic: Matplotlib & Seaborn\n",
    "import seaborn as sns\n",
    "import pandas as pd\n",
    "sns.set()\n",
    "sns.histplot(pd.Series([1,2,2,3]));"
   ]
  },
  {
   "cell_type": "code",
   "execution_count": null,
   "id": "42503fdd",
   "metadata": {},
   "outputs": [],
   "source": [
    "# Topic: Web Scraping\n",
    "import requests\n",
    "from bs4 import BeautifulSoup\n",
    "r = requests.get('https://example.com')\n",
    "soup = BeautifulSoup(r.text, 'html.parser')\n",
    "print(soup.title.text)"
   ]
  },
  {
   "cell_type": "code",
   "execution_count": null,
   "id": "b72f5666",
   "metadata": {},
   "outputs": [],
   "source": [
    "# Topic: Functions\n",
    "def square(x): return x*x\n",
    "print(square(5))"
   ]
  },
  {
   "cell_type": "code",
   "execution_count": null,
   "id": "85f7c32e",
   "metadata": {},
   "outputs": [],
   "source": [
    "# Topic: Mini Projects\n",
    "# Calculator\n",
    "def calc(a,b,op): return eval(f'{a}{op}{b}')\n",
    "print(calc(5,2,'+'))"
   ]
  },
  {
   "cell_type": "code",
   "execution_count": null,
   "id": "5585a845",
   "metadata": {},
   "outputs": [],
   "source": [
    "# Topic: Loops\n",
    "while True:\n",
    "    print('Break')\n",
    "    break"
   ]
  },
  {
   "cell_type": "code",
   "execution_count": null,
   "id": "0c6fd732",
   "metadata": {},
   "outputs": [],
   "source": [
    "# Topic: Data Cleaning\n",
    "import pandas as pd\n",
    "df = pd.DataFrame({'A':[1,None,3]})\n",
    "df = df.fillna(0)\n",
    "print(df)"
   ]
  },
  {
   "cell_type": "code",
   "execution_count": null,
   "id": "5b4f4040",
   "metadata": {},
   "outputs": [],
   "source": [
    "# Topic: Loops\n",
    "for i in range(10): print(i*i)"
   ]
  },
  {
   "cell_type": "code",
   "execution_count": null,
   "id": "d9b80009",
   "metadata": {},
   "outputs": [],
   "source": [
    "# Topic: Algorithms\n",
    "# Bubble sort\n",
    "def bubble(arr):\n",
    " for i in range(len(arr)):\n",
    "  for j in range(0, len(arr)-i-1):\n",
    "   if arr[j]>arr[j+1]: arr[j],arr[j+1]=arr[j+1],arr[j]\n",
    "a=[5,3,8]\n",
    "bubble(a)\n",
    "print(a)"
   ]
  },
  {
   "cell_type": "code",
   "execution_count": null,
   "id": "e062f462",
   "metadata": {},
   "outputs": [],
   "source": [
    "# Topic: Algorithms\n",
    "# Bubble sort\n",
    "def bubble(arr):\n",
    " for i in range(len(arr)):\n",
    "  for j in range(0, len(arr)-i-1):\n",
    "   if arr[j]>arr[j+1]: arr[j],arr[j+1]=arr[j+1],arr[j]\n",
    "a=[5,3,8]\n",
    "bubble(a)\n",
    "print(a)"
   ]
  },
  {
   "cell_type": "code",
   "execution_count": null,
   "id": "d420acf2",
   "metadata": {},
   "outputs": [],
   "source": [
    "# Topic: Dictionaries & Sets\n",
    "s = set([1, 2, 3, 2])\n",
    "print(s)"
   ]
  },
  {
   "cell_type": "code",
   "execution_count": null,
   "id": "0c0a5d58",
   "metadata": {},
   "outputs": [],
   "source": [
    "# Topic: Functions\n",
    "def square(x): return x*x\n",
    "print(square(5))"
   ]
  },
  {
   "cell_type": "code",
   "execution_count": null,
   "id": "7643eb1b",
   "metadata": {},
   "outputs": [],
   "source": [
    "# Topic: Regex\n",
    "import re\n",
    "text = 'email: test@example.com'\n",
    "print(re.findall(r'\\S+@\\S+', text))"
   ]
  },
  {
   "cell_type": "code",
   "execution_count": null,
   "id": "5bc24a07",
   "metadata": {},
   "outputs": [],
   "source": [
    "# Topic: Regex\n",
    "import re\n",
    "text = 'email: test@example.com'\n",
    "print(re.findall(r'\\S+@\\S+', text))"
   ]
  },
  {
   "cell_type": "code",
   "execution_count": null,
   "id": "bf67507c",
   "metadata": {},
   "outputs": [],
   "source": [
    "# Topic: CLI Tools\n",
    "import sys\n",
    "print(f'Arguments: {sys.argv}')"
   ]
  },
  {
   "cell_type": "code",
   "execution_count": null,
   "id": "8ee06f8a",
   "metadata": {},
   "outputs": [],
   "source": [
    "# Topic: Decorators\n",
    "def log(func):\n",
    " def wrapper():\n",
    "  print('Call')\n",
    "  func()\n",
    " return wrapper\n",
    "@log\n",
    "def say(): print('Hi')\n",
    "say()"
   ]
  },
  {
   "cell_type": "code",
   "execution_count": null,
   "id": "682ef33e",
   "metadata": {},
   "outputs": [],
   "source": [
    "# Topic: Functions\n",
    "def square(x): return x*x\n",
    "print(square(5))"
   ]
  },
  {
   "cell_type": "code",
   "execution_count": null,
   "id": "c2496f9d",
   "metadata": {},
   "outputs": [],
   "source": [
    "# Topic: Basics\n",
    "name = 'Fahd'\n",
    "print(f'Hello, {name}')"
   ]
  },
  {
   "cell_type": "code",
   "execution_count": null,
   "id": "5bcac0ba",
   "metadata": {},
   "outputs": [],
   "source": [
    "# Topic: CLI Tools\n",
    "import sys\n",
    "print(f'Arguments: {sys.argv}')"
   ]
  },
  {
   "cell_type": "code",
   "execution_count": null,
   "id": "d6243eaf",
   "metadata": {},
   "outputs": [],
   "source": [
    "# Topic: Web Scraping\n",
    "import requests\n",
    "from bs4 import BeautifulSoup\n",
    "r = requests.get('https://example.com')\n",
    "soup = BeautifulSoup(r.text, 'html.parser')\n",
    "print(soup.title.text)"
   ]
  },
  {
   "cell_type": "code",
   "execution_count": null,
   "id": "a69bd932",
   "metadata": {},
   "outputs": [],
   "source": [
    "# Topic: File I/O\n",
    "with open('test.txt', 'w') as f:\n",
    "    f.write('Hello World')"
   ]
  },
  {
   "cell_type": "code",
   "execution_count": null,
   "id": "da7133bb",
   "metadata": {},
   "outputs": [],
   "source": [
    "# Topic: Basic ML\n",
    "from sklearn.linear_model import LinearRegression\n",
    "model = LinearRegression()\n",
    "print(model)"
   ]
  },
  {
   "cell_type": "code",
   "execution_count": null,
   "id": "3ee9206f",
   "metadata": {},
   "outputs": [],
   "source": [
    "# Topic: Pandas\n",
    "import pandas as pd\n",
    "df = pd.DataFrame({'A':[1,2],'B':[3,4]})\n",
    "print(df)"
   ]
  },
  {
   "cell_type": "code",
   "execution_count": null,
   "id": "3bb7e8cf",
   "metadata": {},
   "outputs": [],
   "source": [
    "# Topic: JSON & CSV\n",
    "import json\n",
    "data = {'a': 1}\n",
    "print(json.dumps(data))"
   ]
  },
  {
   "cell_type": "code",
   "execution_count": null,
   "id": "b4c87ee1",
   "metadata": {},
   "outputs": [],
   "source": [
    "# Topic: Dictionaries & Sets\n",
    "s = set([1, 2, 3, 2])\n",
    "print(s)"
   ]
  },
  {
   "cell_type": "code",
   "execution_count": null,
   "id": "6a9a4523",
   "metadata": {},
   "outputs": [],
   "source": [
    "# Topic: Lists & Tuples\n",
    "t = (1, 2, 3)\n",
    "print(t[0])"
   ]
  },
  {
   "cell_type": "code",
   "execution_count": null,
   "id": "ea131585",
   "metadata": {},
   "outputs": [],
   "source": [
    "# Topic: JSON & CSV\n",
    "import json\n",
    "data = {'a': 1}\n",
    "print(json.dumps(data))"
   ]
  },
  {
   "cell_type": "code",
   "execution_count": null,
   "id": "853cb521",
   "metadata": {},
   "outputs": [],
   "source": [
    "# Topic: Data Cleaning\n",
    "import pandas as pd\n",
    "df = pd.DataFrame({'A':[1,None,3]})\n",
    "df = df.fillna(0)\n",
    "print(df)"
   ]
  },
  {
   "cell_type": "code",
   "execution_count": null,
   "id": "f6821bc2",
   "metadata": {},
   "outputs": [],
   "source": [
    "# Topic: Decorators\n",
    "def log(func):\n",
    " def wrapper():\n",
    "  print('Call')\n",
    "  func()\n",
    " return wrapper\n",
    "@log\n",
    "def say(): print('Hi')\n",
    "say()"
   ]
  },
  {
   "cell_type": "code",
   "execution_count": null,
   "id": "b48ec17c",
   "metadata": {},
   "outputs": [],
   "source": [
    "# Topic: Matplotlib & Seaborn\n",
    "import seaborn as sns\n",
    "import pandas as pd\n",
    "sns.set()\n",
    "sns.histplot(pd.Series([1,2,2,3]));"
   ]
  },
  {
   "cell_type": "code",
   "execution_count": null,
   "id": "f66a2cf6",
   "metadata": {},
   "outputs": [],
   "source": [
    "# Topic: Algorithms\n",
    "# Bubble sort\n",
    "def bubble(arr):\n",
    " for i in range(len(arr)):\n",
    "  for j in range(0, len(arr)-i-1):\n",
    "   if arr[j]>arr[j+1]: arr[j],arr[j+1]=arr[j+1],arr[j]\n",
    "a=[5,3,8]\n",
    "bubble(a)\n",
    "print(a)"
   ]
  },
  {
   "cell_type": "code",
   "execution_count": null,
   "id": "9d57031a",
   "metadata": {},
   "outputs": [],
   "source": [
    "# Topic: Mini Projects\n",
    "# Calculator\n",
    "def calc(a,b,op): return eval(f'{a}{op}{b}')\n",
    "print(calc(5,2,'+'))"
   ]
  },
  {
   "cell_type": "code",
   "execution_count": null,
   "id": "bcf91316",
   "metadata": {},
   "outputs": [],
   "source": [
    "# Topic: Web Scraping\n",
    "import requests\n",
    "from bs4 import BeautifulSoup\n",
    "r = requests.get('https://example.com')\n",
    "soup = BeautifulSoup(r.text, 'html.parser')\n",
    "print(soup.title.text)"
   ]
  },
  {
   "cell_type": "code",
   "execution_count": null,
   "id": "2b1957ac",
   "metadata": {},
   "outputs": [],
   "source": [
    "# Topic: Regex\n",
    "import re\n",
    "text = 'email: test@example.com'\n",
    "print(re.findall(r'\\S+@\\S+', text))"
   ]
  },
  {
   "cell_type": "code",
   "execution_count": null,
   "id": "384bab5d",
   "metadata": {},
   "outputs": [],
   "source": [
    "# Topic: Dictionaries & Sets\n",
    "s = set([1, 2, 3, 2])\n",
    "print(s)"
   ]
  },
  {
   "cell_type": "code",
   "execution_count": null,
   "id": "33667336",
   "metadata": {},
   "outputs": [],
   "source": [
    "# Topic: Basics\n",
    "name = 'Fahd'\n",
    "print(f'Hello, {name}')"
   ]
  },
  {
   "cell_type": "code",
   "execution_count": null,
   "id": "ee6960a2",
   "metadata": {},
   "outputs": [],
   "source": [
    "# Topic: Basic ML\n",
    "from sklearn.linear_model import LinearRegression\n",
    "model = LinearRegression()\n",
    "print(model)"
   ]
  },
  {
   "cell_type": "code",
   "execution_count": null,
   "id": "22686612",
   "metadata": {},
   "outputs": [],
   "source": [
    "# Topic: Mini Projects\n",
    "# Palindrome check\n",
    "def is_pal(s): return s == s[::-1]\n",
    "print(is_pal('madam'))"
   ]
  },
  {
   "cell_type": "code",
   "execution_count": null,
   "id": "f4d77f46",
   "metadata": {},
   "outputs": [],
   "source": [
    "# Topic: Data Cleaning\n",
    "import pandas as pd\n",
    "df = pd.DataFrame({'A':[1,None,3]})\n",
    "df = df.fillna(0)\n",
    "print(df)"
   ]
  },
  {
   "cell_type": "code",
   "execution_count": null,
   "id": "7cdd1f8c",
   "metadata": {},
   "outputs": [],
   "source": [
    "# Topic: Loops\n",
    "while True:\n",
    "    print('Break')\n",
    "    break"
   ]
  },
  {
   "cell_type": "code",
   "execution_count": null,
   "id": "9d8c0754",
   "metadata": {},
   "outputs": [],
   "source": [
    "# Topic: Lists & Tuples\n",
    "lst = [1, 2, 3]\n",
    "lst.append(4)\n",
    "print(lst)"
   ]
  },
  {
   "cell_type": "code",
   "execution_count": null,
   "id": "613f1455",
   "metadata": {},
   "outputs": [],
   "source": [
    "# Topic: Basics\n",
    "x = 10\n",
    "y = 20\n",
    "print(x + y)"
   ]
  },
  {
   "cell_type": "code",
   "execution_count": null,
   "id": "e05d67a5",
   "metadata": {},
   "outputs": [],
   "source": [
    "# Topic: Loops\n",
    "while True:\n",
    "    print('Break')\n",
    "    break"
   ]
  },
  {
   "cell_type": "code",
   "execution_count": null,
   "id": "eb2969db",
   "metadata": {},
   "outputs": [],
   "source": [
    "# Topic: Matplotlib & Seaborn\n",
    "import matplotlib.pyplot as plt\n",
    "plt.plot([1,2],[3,4])\n",
    "plt.show()"
   ]
  },
  {
   "cell_type": "code",
   "execution_count": null,
   "id": "51599821",
   "metadata": {},
   "outputs": [],
   "source": [
    "# Topic: Lists & Tuples\n",
    "lst = [1, 2, 3]\n",
    "lst.append(4)\n",
    "print(lst)"
   ]
  },
  {
   "cell_type": "code",
   "execution_count": null,
   "id": "f3efeaf6",
   "metadata": {},
   "outputs": [],
   "source": [
    "# Topic: Basic ML\n",
    "from sklearn.linear_model import LinearRegression\n",
    "model = LinearRegression()\n",
    "print(model)"
   ]
  },
  {
   "cell_type": "code",
   "execution_count": null,
   "id": "683a4fa8",
   "metadata": {},
   "outputs": [],
   "source": [
    "# Topic: CLI Tools\n",
    "import sys\n",
    "print(f'Arguments: {sys.argv}')"
   ]
  },
  {
   "cell_type": "code",
   "execution_count": null,
   "id": "82da309a",
   "metadata": {},
   "outputs": [],
   "source": [
    "# Topic: File I/O\n",
    "with open('test.txt', 'r') as f:\n",
    "    print(f.read())"
   ]
  },
  {
   "cell_type": "code",
   "execution_count": null,
   "id": "718a94cc",
   "metadata": {},
   "outputs": [],
   "source": [
    "# Topic: Data Cleaning\n",
    "import pandas as pd\n",
    "df = pd.DataFrame({'A':[1,None,3]})\n",
    "df = df.fillna(0)\n",
    "print(df)"
   ]
  },
  {
   "cell_type": "code",
   "execution_count": null,
   "id": "4c0c7552",
   "metadata": {},
   "outputs": [],
   "source": [
    "# Topic: Matplotlib & Seaborn\n",
    "import seaborn as sns\n",
    "import pandas as pd\n",
    "sns.set()\n",
    "sns.histplot(pd.Series([1,2,2,3]));"
   ]
  },
  {
   "cell_type": "code",
   "execution_count": null,
   "id": "05c9e1ff",
   "metadata": {},
   "outputs": [],
   "source": [
    "# Topic: Decorators\n",
    "def log(func):\n",
    " def wrapper():\n",
    "  print('Call')\n",
    "  func()\n",
    " return wrapper\n",
    "@log\n",
    "def say(): print('Hi')\n",
    "say()"
   ]
  },
  {
   "cell_type": "code",
   "execution_count": null,
   "id": "beff1c27",
   "metadata": {},
   "outputs": [],
   "source": [
    "# Topic: Algorithms\n",
    "# Bubble sort\n",
    "def bubble(arr):\n",
    " for i in range(len(arr)):\n",
    "  for j in range(0, len(arr)-i-1):\n",
    "   if arr[j]>arr[j+1]: arr[j],arr[j+1]=arr[j+1],arr[j]\n",
    "a=[5,3,8]\n",
    "bubble(a)\n",
    "print(a)"
   ]
  },
  {
   "cell_type": "code",
   "execution_count": null,
   "id": "53126946",
   "metadata": {},
   "outputs": [],
   "source": [
    "# Topic: Dictionaries & Sets\n",
    "s = set([1, 2, 3, 2])\n",
    "print(s)"
   ]
  },
  {
   "cell_type": "code",
   "execution_count": null,
   "id": "54abba2b",
   "metadata": {},
   "outputs": [],
   "source": [
    "# Topic: Basics\n",
    "x = 10\n",
    "y = 20\n",
    "print(x + y)"
   ]
  },
  {
   "cell_type": "code",
   "execution_count": null,
   "id": "cb1576f8",
   "metadata": {},
   "outputs": [],
   "source": [
    "# Topic: Basic ML\n",
    "from sklearn.linear_model import LinearRegression\n",
    "model = LinearRegression()\n",
    "print(model)"
   ]
  },
  {
   "cell_type": "code",
   "execution_count": null,
   "id": "d79e66bf",
   "metadata": {},
   "outputs": [],
   "source": [
    "# Topic: Decorators\n",
    "def log(func):\n",
    " def wrapper():\n",
    "  print('Call')\n",
    "  func()\n",
    " return wrapper\n",
    "@log\n",
    "def say(): print('Hi')\n",
    "say()"
   ]
  },
  {
   "cell_type": "code",
   "execution_count": null,
   "id": "1cbb62db",
   "metadata": {},
   "outputs": [],
   "source": [
    "# Topic: Pandas\n",
    "import pandas as pd\n",
    "df = pd.read_csv('file.csv')\n",
    "print(df.head())"
   ]
  },
  {
   "cell_type": "code",
   "execution_count": null,
   "id": "366a0c4a",
   "metadata": {},
   "outputs": [],
   "source": [
    "# Topic: JSON & CSV\n",
    "import json\n",
    "data = {'a': 1}\n",
    "print(json.dumps(data))"
   ]
  },
  {
   "cell_type": "code",
   "execution_count": null,
   "id": "c4aa27fe",
   "metadata": {},
   "outputs": [],
   "source": [
    "# Topic: Matplotlib & Seaborn\n",
    "import matplotlib.pyplot as plt\n",
    "plt.plot([1,2],[3,4])\n",
    "plt.show()"
   ]
  },
  {
   "cell_type": "code",
   "execution_count": null,
   "id": "20f4ecb0",
   "metadata": {},
   "outputs": [],
   "source": [
    "# Topic: Basics\n",
    "name = 'Fahd'\n",
    "print(f'Hello, {name}')"
   ]
  },
  {
   "cell_type": "code",
   "execution_count": null,
   "id": "caed6349",
   "metadata": {},
   "outputs": [],
   "source": [
    "# Topic: CLI Tools\n",
    "import sys\n",
    "print(f'Arguments: {sys.argv}')"
   ]
  },
  {
   "cell_type": "code",
   "execution_count": null,
   "id": "6e0693af",
   "metadata": {},
   "outputs": [],
   "source": [
    "# Topic: Decorators\n",
    "def log(func):\n",
    " def wrapper():\n",
    "  print('Call')\n",
    "  func()\n",
    " return wrapper\n",
    "@log\n",
    "def say(): print('Hi')\n",
    "say()"
   ]
  },
  {
   "cell_type": "code",
   "execution_count": null,
   "id": "4d9f6cdf",
   "metadata": {},
   "outputs": [],
   "source": [
    "# Topic: Matplotlib & Seaborn\n",
    "import seaborn as sns\n",
    "import pandas as pd\n",
    "sns.set()\n",
    "sns.histplot(pd.Series([1,2,2,3]));"
   ]
  },
  {
   "cell_type": "code",
   "execution_count": null,
   "id": "1c96a162",
   "metadata": {},
   "outputs": [],
   "source": [
    "# Topic: Pandas\n",
    "import pandas as pd\n",
    "df = pd.read_csv('file.csv')\n",
    "print(df.head())"
   ]
  },
  {
   "cell_type": "code",
   "execution_count": null,
   "id": "7affe297",
   "metadata": {},
   "outputs": [],
   "source": [
    "# Topic: CLI Tools\n",
    "import sys\n",
    "print(f'Arguments: {sys.argv}')"
   ]
  },
  {
   "cell_type": "code",
   "execution_count": null,
   "id": "ed5ac798",
   "metadata": {},
   "outputs": [],
   "source": [
    "# Topic: Basics\n",
    "name = 'Fahd'\n",
    "print(f'Hello, {name}')"
   ]
  },
  {
   "cell_type": "code",
   "execution_count": null,
   "id": "b31c4449",
   "metadata": {},
   "outputs": [],
   "source": [
    "# Topic: Basics\n",
    "x = 10\n",
    "y = 20\n",
    "print(x + y)"
   ]
  },
  {
   "cell_type": "code",
   "execution_count": null,
   "id": "923babc2",
   "metadata": {},
   "outputs": [],
   "source": [
    "# Topic: Decorators\n",
    "def log(func):\n",
    " def wrapper():\n",
    "  print('Call')\n",
    "  func()\n",
    " return wrapper\n",
    "@log\n",
    "def say(): print('Hi')\n",
    "say()"
   ]
  },
  {
   "cell_type": "code",
   "execution_count": null,
   "id": "be96b7c0",
   "metadata": {},
   "outputs": [],
   "source": [
    "# Topic: Loops\n",
    "for i in range(10): print(i*i)"
   ]
  },
  {
   "cell_type": "code",
   "execution_count": null,
   "id": "f35bb526",
   "metadata": {},
   "outputs": [],
   "source": [
    "# Topic: File I/O\n",
    "with open('test.txt', 'w') as f:\n",
    "    f.write('Hello World')"
   ]
  },
  {
   "cell_type": "code",
   "execution_count": null,
   "id": "c0550efe",
   "metadata": {},
   "outputs": [],
   "source": [
    "# Topic: JSON & CSV\n",
    "import json\n",
    "data = {'a': 1}\n",
    "print(json.dumps(data))"
   ]
  },
  {
   "cell_type": "code",
   "execution_count": null,
   "id": "5506d03c",
   "metadata": {},
   "outputs": [],
   "source": [
    "# Topic: Dictionaries & Sets\n",
    "s = set([1, 2, 3, 2])\n",
    "print(s)"
   ]
  },
  {
   "cell_type": "code",
   "execution_count": null,
   "id": "7a346be8",
   "metadata": {},
   "outputs": [],
   "source": [
    "# Topic: Basic ML\n",
    "from sklearn.linear_model import LinearRegression\n",
    "model = LinearRegression()\n",
    "print(model)"
   ]
  },
  {
   "cell_type": "code",
   "execution_count": null,
   "id": "f9e39594",
   "metadata": {},
   "outputs": [],
   "source": [
    "# Topic: Mini Projects\n",
    "# Calculator\n",
    "def calc(a,b,op): return eval(f'{a}{op}{b}')\n",
    "print(calc(5,2,'+'))"
   ]
  },
  {
   "cell_type": "code",
   "execution_count": null,
   "id": "938a0112",
   "metadata": {},
   "outputs": [],
   "source": [
    "# Topic: Mini Projects\n",
    "# Palindrome check\n",
    "def is_pal(s): return s == s[::-1]\n",
    "print(is_pal('madam'))"
   ]
  },
  {
   "cell_type": "code",
   "execution_count": null,
   "id": "6c07dc9e",
   "metadata": {},
   "outputs": [],
   "source": [
    "# Topic: Functions\n",
    "def greet(name='User'):\n",
    "    print(f'Hi, {name}')\n",
    "greet()"
   ]
  },
  {
   "cell_type": "code",
   "execution_count": null,
   "id": "b5910d62",
   "metadata": {},
   "outputs": [],
   "source": [
    "# Topic: Functions\n",
    "def square(x): return x*x\n",
    "print(square(5))"
   ]
  },
  {
   "cell_type": "code",
   "execution_count": null,
   "id": "d9cdbfba",
   "metadata": {},
   "outputs": [],
   "source": [
    "# Topic: Algorithms\n",
    "# Bubble sort\n",
    "def bubble(arr):\n",
    " for i in range(len(arr)):\n",
    "  for j in range(0, len(arr)-i-1):\n",
    "   if arr[j]>arr[j+1]: arr[j],arr[j+1]=arr[j+1],arr[j]\n",
    "a=[5,3,8]\n",
    "bubble(a)\n",
    "print(a)"
   ]
  },
  {
   "cell_type": "code",
   "execution_count": null,
   "id": "4f30e1d5",
   "metadata": {},
   "outputs": [],
   "source": [
    "# Topic: Basic ML\n",
    "from sklearn.linear_model import LinearRegression\n",
    "model = LinearRegression()\n",
    "print(model)"
   ]
  },
  {
   "cell_type": "code",
   "execution_count": null,
   "id": "e89844e1",
   "metadata": {},
   "outputs": [],
   "source": [
    "# Topic: Functions\n",
    "def greet(name='User'):\n",
    "    print(f'Hi, {name}')\n",
    "greet()"
   ]
  },
  {
   "cell_type": "code",
   "execution_count": null,
   "id": "5f57b0d6",
   "metadata": {},
   "outputs": [],
   "source": [
    "# Topic: JSON & CSV\n",
    "import csv\n",
    "with open('file.csv', 'w', newline='') as f:\n",
    " csv.writer(f).writerow(['a','b','c'])"
   ]
  },
  {
   "cell_type": "code",
   "execution_count": null,
   "id": "33b2afc2",
   "metadata": {},
   "outputs": [],
   "source": [
    "# Topic: Regex\n",
    "import re\n",
    "text = 'email: test@example.com'\n",
    "print(re.findall(r'\\S+@\\S+', text))"
   ]
  },
  {
   "cell_type": "code",
   "execution_count": null,
   "id": "876d118a",
   "metadata": {},
   "outputs": [],
   "source": [
    "# Topic: Regex\n",
    "import re\n",
    "text = 'email: test@example.com'\n",
    "print(re.findall(r'\\S+@\\S+', text))"
   ]
  },
  {
   "cell_type": "code",
   "execution_count": null,
   "id": "6c3c6d4d",
   "metadata": {},
   "outputs": [],
   "source": [
    "# Topic: CLI Tools\n",
    "import sys\n",
    "print(f'Arguments: {sys.argv}')"
   ]
  },
  {
   "cell_type": "code",
   "execution_count": null,
   "id": "8d96d595",
   "metadata": {},
   "outputs": [],
   "source": [
    "# Topic: Basics\n",
    "x = 10\n",
    "y = 20\n",
    "print(x + y)"
   ]
  },
  {
   "cell_type": "code",
   "execution_count": null,
   "id": "30175712",
   "metadata": {},
   "outputs": [],
   "source": [
    "# Topic: File I/O\n",
    "with open('test.txt', 'w') as f:\n",
    "    f.write('Hello World')"
   ]
  },
  {
   "cell_type": "code",
   "execution_count": null,
   "id": "c0bb7bd3",
   "metadata": {},
   "outputs": [],
   "source": [
    "# Topic: Dictionaries & Sets\n",
    "d = {'name': 'Fahd', 'age': 20}\n",
    "print(d.get('name'))"
   ]
  },
  {
   "cell_type": "code",
   "execution_count": null,
   "id": "b6b70c4a",
   "metadata": {},
   "outputs": [],
   "source": [
    "# Topic: File I/O\n",
    "with open('test.txt', 'r') as f:\n",
    "    print(f.read())"
   ]
  },
  {
   "cell_type": "code",
   "execution_count": null,
   "id": "bb7ee6ac",
   "metadata": {},
   "outputs": [],
   "source": [
    "# Topic: Algorithms\n",
    "# Bubble sort\n",
    "def bubble(arr):\n",
    " for i in range(len(arr)):\n",
    "  for j in range(0, len(arr)-i-1):\n",
    "   if arr[j]>arr[j+1]: arr[j],arr[j+1]=arr[j+1],arr[j]\n",
    "a=[5,3,8]\n",
    "bubble(a)\n",
    "print(a)"
   ]
  },
  {
   "cell_type": "code",
   "execution_count": null,
   "id": "e1dd05dd",
   "metadata": {},
   "outputs": [],
   "source": [
    "# Topic: File I/O\n",
    "with open('test.txt', 'w') as f:\n",
    "    f.write('Hello World')"
   ]
  },
  {
   "cell_type": "code",
   "execution_count": null,
   "id": "30e7a172",
   "metadata": {},
   "outputs": [],
   "source": [
    "# Topic: Dictionaries & Sets\n",
    "s = set([1, 2, 3, 2])\n",
    "print(s)"
   ]
  },
  {
   "cell_type": "code",
   "execution_count": null,
   "id": "625a9e38",
   "metadata": {},
   "outputs": [],
   "source": [
    "# Topic: Dictionaries & Sets\n",
    "s = set([1, 2, 3, 2])\n",
    "print(s)"
   ]
  },
  {
   "cell_type": "code",
   "execution_count": null,
   "id": "fa820773",
   "metadata": {},
   "outputs": [],
   "source": [
    "# Topic: Pandas\n",
    "import pandas as pd\n",
    "df = pd.DataFrame({'A':[1,2],'B':[3,4]})\n",
    "print(df)"
   ]
  },
  {
   "cell_type": "code",
   "execution_count": null,
   "id": "3a35ee98",
   "metadata": {},
   "outputs": [],
   "source": [
    "# Topic: Dictionaries & Sets\n",
    "s = set([1, 2, 3, 2])\n",
    "print(s)"
   ]
  },
  {
   "cell_type": "code",
   "execution_count": null,
   "id": "4e8e4e5f",
   "metadata": {},
   "outputs": [],
   "source": [
    "# Topic: Functions\n",
    "def greet(name='User'):\n",
    "    print(f'Hi, {name}')\n",
    "greet()"
   ]
  },
  {
   "cell_type": "code",
   "execution_count": null,
   "id": "41bd0ad5",
   "metadata": {},
   "outputs": [],
   "source": [
    "# Topic: Web Scraping\n",
    "import requests\n",
    "from bs4 import BeautifulSoup\n",
    "r = requests.get('https://example.com')\n",
    "soup = BeautifulSoup(r.text, 'html.parser')\n",
    "print(soup.title.text)"
   ]
  },
  {
   "cell_type": "code",
   "execution_count": null,
   "id": "190d1bed",
   "metadata": {},
   "outputs": [],
   "source": [
    "# Topic: Decorators\n",
    "def log(func):\n",
    " def wrapper():\n",
    "  print('Call')\n",
    "  func()\n",
    " return wrapper\n",
    "@log\n",
    "def say(): print('Hi')\n",
    "say()"
   ]
  },
  {
   "cell_type": "code",
   "execution_count": null,
   "id": "17278412",
   "metadata": {},
   "outputs": [],
   "source": [
    "# Topic: File I/O\n",
    "with open('test.txt', 'w') as f:\n",
    "    f.write('Hello World')"
   ]
  },
  {
   "cell_type": "code",
   "execution_count": null,
   "id": "3ed6a66f",
   "metadata": {},
   "outputs": [],
   "source": [
    "# Topic: Matplotlib & Seaborn\n",
    "import seaborn as sns\n",
    "import pandas as pd\n",
    "sns.set()\n",
    "sns.histplot(pd.Series([1,2,2,3]));"
   ]
  },
  {
   "cell_type": "code",
   "execution_count": null,
   "id": "b111a834",
   "metadata": {},
   "outputs": [],
   "source": [
    "# Topic: Algorithms\n",
    "# Bubble sort\n",
    "def bubble(arr):\n",
    " for i in range(len(arr)):\n",
    "  for j in range(0, len(arr)-i-1):\n",
    "   if arr[j]>arr[j+1]: arr[j],arr[j+1]=arr[j+1],arr[j]\n",
    "a=[5,3,8]\n",
    "bubble(a)\n",
    "print(a)"
   ]
  },
  {
   "cell_type": "code",
   "execution_count": null,
   "id": "b0704a37",
   "metadata": {},
   "outputs": [],
   "source": [
    "# Topic: Web Scraping\n",
    "import requests\n",
    "from bs4 import BeautifulSoup\n",
    "r = requests.get('https://example.com')\n",
    "soup = BeautifulSoup(r.text, 'html.parser')\n",
    "print(soup.title.text)"
   ]
  },
  {
   "cell_type": "code",
   "execution_count": null,
   "id": "ed3a4cdd",
   "metadata": {},
   "outputs": [],
   "source": [
    "# Topic: Data Cleaning\n",
    "import pandas as pd\n",
    "df = pd.DataFrame({'A':[1,None,3]})\n",
    "df = df.fillna(0)\n",
    "print(df)"
   ]
  },
  {
   "cell_type": "code",
   "execution_count": null,
   "id": "1bd65588",
   "metadata": {},
   "outputs": [],
   "source": [
    "# Topic: Loops\n",
    "while True:\n",
    "    print('Break')\n",
    "    break"
   ]
  },
  {
   "cell_type": "code",
   "execution_count": null,
   "id": "3eef12a0",
   "metadata": {},
   "outputs": [],
   "source": [
    "# Topic: Mini Projects\n",
    "# Calculator\n",
    "def calc(a,b,op): return eval(f'{a}{op}{b}')\n",
    "print(calc(5,2,'+'))"
   ]
  },
  {
   "cell_type": "code",
   "execution_count": null,
   "id": "35b00660",
   "metadata": {},
   "outputs": [],
   "source": [
    "# Topic: File I/O\n",
    "with open('test.txt', 'w') as f:\n",
    "    f.write('Hello World')"
   ]
  },
  {
   "cell_type": "code",
   "execution_count": null,
   "id": "ea7e8127",
   "metadata": {},
   "outputs": [],
   "source": [
    "# Topic: Web Scraping\n",
    "import requests\n",
    "from bs4 import BeautifulSoup\n",
    "r = requests.get('https://example.com')\n",
    "soup = BeautifulSoup(r.text, 'html.parser')\n",
    "print(soup.title.text)"
   ]
  },
  {
   "cell_type": "code",
   "execution_count": null,
   "id": "c99290d8",
   "metadata": {},
   "outputs": [],
   "source": [
    "# Topic: Web Scraping\n",
    "import requests\n",
    "from bs4 import BeautifulSoup\n",
    "r = requests.get('https://example.com')\n",
    "soup = BeautifulSoup(r.text, 'html.parser')\n",
    "print(soup.title.text)"
   ]
  },
  {
   "cell_type": "code",
   "execution_count": null,
   "id": "084fe18d",
   "metadata": {},
   "outputs": [],
   "source": [
    "# Topic: NumPy\n",
    "import numpy as np\n",
    "a = np.array([1, 2, 3])\n",
    "print(a + 5)"
   ]
  },
  {
   "cell_type": "code",
   "execution_count": null,
   "id": "ddee4ad5",
   "metadata": {},
   "outputs": [],
   "source": [
    "# Topic: Lists & Tuples\n",
    "lst = [1, 2, 3]\n",
    "lst.append(4)\n",
    "print(lst)"
   ]
  },
  {
   "cell_type": "code",
   "execution_count": null,
   "id": "d8bef17d",
   "metadata": {},
   "outputs": [],
   "source": [
    "# Topic: Decorators\n",
    "def log(func):\n",
    " def wrapper():\n",
    "  print('Call')\n",
    "  func()\n",
    " return wrapper\n",
    "@log\n",
    "def say(): print('Hi')\n",
    "say()"
   ]
  },
  {
   "cell_type": "code",
   "execution_count": null,
   "id": "b7b66bd0",
   "metadata": {},
   "outputs": [],
   "source": [
    "# Topic: Data Cleaning\n",
    "import pandas as pd\n",
    "df = pd.DataFrame({'A':[1,None,3]})\n",
    "df = df.fillna(0)\n",
    "print(df)"
   ]
  },
  {
   "cell_type": "code",
   "execution_count": null,
   "id": "dba62662",
   "metadata": {},
   "outputs": [],
   "source": [
    "# Topic: Decorators\n",
    "def log(func):\n",
    " def wrapper():\n",
    "  print('Call')\n",
    "  func()\n",
    " return wrapper\n",
    "@log\n",
    "def say(): print('Hi')\n",
    "say()"
   ]
  },
  {
   "cell_type": "code",
   "execution_count": null,
   "id": "a68955f5",
   "metadata": {},
   "outputs": [],
   "source": [
    "# Topic: File I/O\n",
    "with open('test.txt', 'w') as f:\n",
    "    f.write('Hello World')"
   ]
  },
  {
   "cell_type": "code",
   "execution_count": null,
   "id": "07a784c4",
   "metadata": {},
   "outputs": [],
   "source": [
    "# Topic: NumPy\n",
    "import numpy as np\n",
    "a = np.array([1, 2, 3])\n",
    "print(a + 5)"
   ]
  },
  {
   "cell_type": "code",
   "execution_count": null,
   "id": "26ee7bd9",
   "metadata": {},
   "outputs": [],
   "source": [
    "# Topic: Functions\n",
    "def square(x): return x*x\n",
    "print(square(5))"
   ]
  },
  {
   "cell_type": "code",
   "execution_count": null,
   "id": "9361568b",
   "metadata": {},
   "outputs": [],
   "source": [
    "# Topic: JSON & CSV\n",
    "import csv\n",
    "with open('file.csv', 'w', newline='') as f:\n",
    " csv.writer(f).writerow(['a','b','c'])"
   ]
  },
  {
   "cell_type": "code",
   "execution_count": null,
   "id": "0543dbff",
   "metadata": {},
   "outputs": [],
   "source": [
    "# Topic: Algorithms\n",
    "# Bubble sort\n",
    "def bubble(arr):\n",
    " for i in range(len(arr)):\n",
    "  for j in range(0, len(arr)-i-1):\n",
    "   if arr[j]>arr[j+1]: arr[j],arr[j+1]=arr[j+1],arr[j]\n",
    "a=[5,3,8]\n",
    "bubble(a)\n",
    "print(a)"
   ]
  },
  {
   "cell_type": "code",
   "execution_count": null,
   "id": "6e51cdde",
   "metadata": {},
   "outputs": [],
   "source": [
    "# Topic: Loops\n",
    "for i in range(10): print(i*i)"
   ]
  },
  {
   "cell_type": "code",
   "execution_count": null,
   "id": "9e5c12e3",
   "metadata": {},
   "outputs": [],
   "source": [
    "# Topic: NumPy\n",
    "import numpy as np\n",
    "print(np.linspace(0, 1, 5))"
   ]
  },
  {
   "cell_type": "code",
   "execution_count": null,
   "id": "42d57826",
   "metadata": {},
   "outputs": [],
   "source": [
    "# Topic: Recursion\n",
    "def fact(n): return 1 if n==0 else n*fact(n-1)\n",
    "print(fact(5))"
   ]
  },
  {
   "cell_type": "code",
   "execution_count": null,
   "id": "356d1bbd",
   "metadata": {},
   "outputs": [],
   "source": [
    "# Topic: JSON & CSV\n",
    "import csv\n",
    "with open('file.csv', 'w', newline='') as f:\n",
    " csv.writer(f).writerow(['a','b','c'])"
   ]
  },
  {
   "cell_type": "code",
   "execution_count": null,
   "id": "692d7020",
   "metadata": {},
   "outputs": [],
   "source": [
    "# Topic: Functions\n",
    "def square(x): return x*x\n",
    "print(square(5))"
   ]
  },
  {
   "cell_type": "code",
   "execution_count": null,
   "id": "07c83d72",
   "metadata": {},
   "outputs": [],
   "source": [
    "# Topic: NumPy\n",
    "import numpy as np\n",
    "print(np.linspace(0, 1, 5))"
   ]
  },
  {
   "cell_type": "code",
   "execution_count": null,
   "id": "039883c6",
   "metadata": {},
   "outputs": [],
   "source": [
    "# Topic: CLI Tools\n",
    "import sys\n",
    "print(f'Arguments: {sys.argv}')"
   ]
  },
  {
   "cell_type": "code",
   "execution_count": null,
   "id": "83268061",
   "metadata": {},
   "outputs": [],
   "source": [
    "# Topic: OOP\n",
    "class Student:\n",
    "    def __init__(self, name): self.name = name\n",
    "s = Student('Fahd')\n",
    "print(s.name)"
   ]
  },
  {
   "cell_type": "code",
   "execution_count": null,
   "id": "73c1effd",
   "metadata": {},
   "outputs": [],
   "source": [
    "# Topic: Web Scraping\n",
    "import requests\n",
    "from bs4 import BeautifulSoup\n",
    "r = requests.get('https://example.com')\n",
    "soup = BeautifulSoup(r.text, 'html.parser')\n",
    "print(soup.title.text)"
   ]
  },
  {
   "cell_type": "code",
   "execution_count": null,
   "id": "616321df",
   "metadata": {},
   "outputs": [],
   "source": [
    "# Topic: Regex\n",
    "import re\n",
    "text = 'email: test@example.com'\n",
    "print(re.findall(r'\\S+@\\S+', text))"
   ]
  },
  {
   "cell_type": "code",
   "execution_count": null,
   "id": "edef0b38",
   "metadata": {},
   "outputs": [],
   "source": [
    "# Topic: File I/O\n",
    "with open('test.txt', 'w') as f:\n",
    "    f.write('Hello World')"
   ]
  },
  {
   "cell_type": "code",
   "execution_count": null,
   "id": "3a777732",
   "metadata": {},
   "outputs": [],
   "source": [
    "# Topic: Matplotlib & Seaborn\n",
    "import seaborn as sns\n",
    "import pandas as pd\n",
    "sns.set()\n",
    "sns.histplot(pd.Series([1,2,2,3]));"
   ]
  },
  {
   "cell_type": "code",
   "execution_count": null,
   "id": "001fd78f",
   "metadata": {},
   "outputs": [],
   "source": [
    "# Topic: Basic ML\n",
    "from sklearn.linear_model import LinearRegression\n",
    "model = LinearRegression()\n",
    "print(model)"
   ]
  },
  {
   "cell_type": "code",
   "execution_count": null,
   "id": "4e6c151b",
   "metadata": {},
   "outputs": [],
   "source": [
    "# Topic: File I/O\n",
    "with open('test.txt', 'r') as f:\n",
    "    print(f.read())"
   ]
  },
  {
   "cell_type": "code",
   "execution_count": null,
   "id": "1f9922ad",
   "metadata": {},
   "outputs": [],
   "source": [
    "# Topic: Basic ML\n",
    "from sklearn.linear_model import LinearRegression\n",
    "model = LinearRegression()\n",
    "print(model)"
   ]
  },
  {
   "cell_type": "code",
   "execution_count": null,
   "id": "05de1464",
   "metadata": {},
   "outputs": [],
   "source": [
    "# Topic: CLI Tools\n",
    "import sys\n",
    "print(f'Arguments: {sys.argv}')"
   ]
  },
  {
   "cell_type": "code",
   "execution_count": null,
   "id": "c5d743d3",
   "metadata": {},
   "outputs": [],
   "source": [
    "# Topic: Algorithms\n",
    "# Bubble sort\n",
    "def bubble(arr):\n",
    " for i in range(len(arr)):\n",
    "  for j in range(0, len(arr)-i-1):\n",
    "   if arr[j]>arr[j+1]: arr[j],arr[j+1]=arr[j+1],arr[j]\n",
    "a=[5,3,8]\n",
    "bubble(a)\n",
    "print(a)"
   ]
  },
  {
   "cell_type": "code",
   "execution_count": null,
   "id": "ea900f4e",
   "metadata": {},
   "outputs": [],
   "source": [
    "# Topic: Recursion\n",
    "def fact(n): return 1 if n==0 else n*fact(n-1)\n",
    "print(fact(5))"
   ]
  },
  {
   "cell_type": "code",
   "execution_count": null,
   "id": "1e43d062",
   "metadata": {},
   "outputs": [],
   "source": [
    "# Topic: Dictionaries & Sets\n",
    "d = {'name': 'Fahd', 'age': 20}\n",
    "print(d.get('name'))"
   ]
  },
  {
   "cell_type": "code",
   "execution_count": null,
   "id": "9eddc0de",
   "metadata": {},
   "outputs": [],
   "source": [
    "# Topic: Basic ML\n",
    "from sklearn.linear_model import LinearRegression\n",
    "model = LinearRegression()\n",
    "print(model)"
   ]
  },
  {
   "cell_type": "code",
   "execution_count": null,
   "id": "424abebe",
   "metadata": {},
   "outputs": [],
   "source": [
    "# Topic: OOP\n",
    "class Student:\n",
    "    def __init__(self, name): self.name = name\n",
    "s = Student('Fahd')\n",
    "print(s.name)"
   ]
  },
  {
   "cell_type": "code",
   "execution_count": null,
   "id": "939fbd0f",
   "metadata": {},
   "outputs": [],
   "source": [
    "# Topic: Basic ML\n",
    "from sklearn.linear_model import LinearRegression\n",
    "model = LinearRegression()\n",
    "print(model)"
   ]
  },
  {
   "cell_type": "code",
   "execution_count": null,
   "id": "52e45748",
   "metadata": {},
   "outputs": [],
   "source": [
    "# Topic: Pandas\n",
    "import pandas as pd\n",
    "df = pd.DataFrame({'A':[1,2],'B':[3,4]})\n",
    "print(df)"
   ]
  },
  {
   "cell_type": "code",
   "execution_count": null,
   "id": "971979de",
   "metadata": {},
   "outputs": [],
   "source": [
    "# Topic: Matplotlib & Seaborn\n",
    "import seaborn as sns\n",
    "import pandas as pd\n",
    "sns.set()\n",
    "sns.histplot(pd.Series([1,2,2,3]));"
   ]
  },
  {
   "cell_type": "code",
   "execution_count": null,
   "id": "9fd7dd56",
   "metadata": {},
   "outputs": [],
   "source": [
    "# Topic: Functions\n",
    "def greet(name='User'):\n",
    "    print(f'Hi, {name}')\n",
    "greet()"
   ]
  },
  {
   "cell_type": "code",
   "execution_count": null,
   "id": "ead0816e",
   "metadata": {},
   "outputs": [],
   "source": [
    "# Topic: Loops\n",
    "for i in range(10): print(i*i)"
   ]
  },
  {
   "cell_type": "code",
   "execution_count": null,
   "id": "3d73a6ba",
   "metadata": {},
   "outputs": [],
   "source": [
    "# Topic: Regex\n",
    "import re\n",
    "text = 'email: test@example.com'\n",
    "print(re.findall(r'\\S+@\\S+', text))"
   ]
  },
  {
   "cell_type": "code",
   "execution_count": null,
   "id": "f829a07e",
   "metadata": {},
   "outputs": [],
   "source": [
    "# Topic: Functions\n",
    "def square(x): return x*x\n",
    "print(square(5))"
   ]
  },
  {
   "cell_type": "code",
   "execution_count": null,
   "id": "1c24fdd3",
   "metadata": {},
   "outputs": [],
   "source": [
    "# Topic: Web Scraping\n",
    "import requests\n",
    "from bs4 import BeautifulSoup\n",
    "r = requests.get('https://example.com')\n",
    "soup = BeautifulSoup(r.text, 'html.parser')\n",
    "print(soup.title.text)"
   ]
  },
  {
   "cell_type": "code",
   "execution_count": null,
   "id": "1ca17b0c",
   "metadata": {},
   "outputs": [],
   "source": [
    "# Topic: Basic ML\n",
    "from sklearn.linear_model import LinearRegression\n",
    "model = LinearRegression()\n",
    "print(model)"
   ]
  },
  {
   "cell_type": "code",
   "execution_count": null,
   "id": "5bdf266b",
   "metadata": {},
   "outputs": [],
   "source": [
    "# Topic: Basic ML\n",
    "from sklearn.linear_model import LinearRegression\n",
    "model = LinearRegression()\n",
    "print(model)"
   ]
  },
  {
   "cell_type": "code",
   "execution_count": null,
   "id": "d5e6bff0",
   "metadata": {},
   "outputs": [],
   "source": [
    "# Topic: Lists & Tuples\n",
    "lst = [1, 2, 3]\n",
    "lst.append(4)\n",
    "print(lst)"
   ]
  },
  {
   "cell_type": "code",
   "execution_count": null,
   "id": "38dc174e",
   "metadata": {},
   "outputs": [],
   "source": [
    "# Topic: Functions\n",
    "def greet(name='User'):\n",
    "    print(f'Hi, {name}')\n",
    "greet()"
   ]
  },
  {
   "cell_type": "code",
   "execution_count": null,
   "id": "1b3f4d12",
   "metadata": {},
   "outputs": [],
   "source": [
    "# Topic: JSON & CSV\n",
    "import json\n",
    "data = {'a': 1}\n",
    "print(json.dumps(data))"
   ]
  },
  {
   "cell_type": "code",
   "execution_count": null,
   "id": "223c4bdb",
   "metadata": {},
   "outputs": [],
   "source": [
    "# Topic: Dictionaries & Sets\n",
    "d = {'name': 'Fahd', 'age': 20}\n",
    "print(d.get('name'))"
   ]
  },
  {
   "cell_type": "code",
   "execution_count": null,
   "id": "980e73ca",
   "metadata": {},
   "outputs": [],
   "source": [
    "# Topic: Loops\n",
    "while True:\n",
    "    print('Break')\n",
    "    break"
   ]
  },
  {
   "cell_type": "code",
   "execution_count": null,
   "id": "3bb81630",
   "metadata": {},
   "outputs": [],
   "source": [
    "# Topic: Decorators\n",
    "def log(func):\n",
    " def wrapper():\n",
    "  print('Call')\n",
    "  func()\n",
    " return wrapper\n",
    "@log\n",
    "def say(): print('Hi')\n",
    "say()"
   ]
  },
  {
   "cell_type": "code",
   "execution_count": null,
   "id": "3cd2d263",
   "metadata": {},
   "outputs": [],
   "source": [
    "# Topic: JSON & CSV\n",
    "import csv\n",
    "with open('file.csv', 'w', newline='') as f:\n",
    " csv.writer(f).writerow(['a','b','c'])"
   ]
  },
  {
   "cell_type": "code",
   "execution_count": null,
   "id": "f75ad880",
   "metadata": {},
   "outputs": [],
   "source": [
    "# Topic: Functions\n",
    "def square(x): return x*x\n",
    "print(square(5))"
   ]
  },
  {
   "cell_type": "code",
   "execution_count": null,
   "id": "cb4bbffc",
   "metadata": {},
   "outputs": [],
   "source": [
    "# Topic: Decorators\n",
    "def log(func):\n",
    " def wrapper():\n",
    "  print('Call')\n",
    "  func()\n",
    " return wrapper\n",
    "@log\n",
    "def say(): print('Hi')\n",
    "say()"
   ]
  },
  {
   "cell_type": "code",
   "execution_count": null,
   "id": "8fc71b71",
   "metadata": {},
   "outputs": [],
   "source": [
    "# Topic: Decorators\n",
    "def log(func):\n",
    " def wrapper():\n",
    "  print('Call')\n",
    "  func()\n",
    " return wrapper\n",
    "@log\n",
    "def say(): print('Hi')\n",
    "say()"
   ]
  },
  {
   "cell_type": "code",
   "execution_count": null,
   "id": "a77f29d8",
   "metadata": {},
   "outputs": [],
   "source": [
    "# Topic: CLI Tools\n",
    "import sys\n",
    "print(f'Arguments: {sys.argv}')"
   ]
  },
  {
   "cell_type": "code",
   "execution_count": null,
   "id": "cb4441f5",
   "metadata": {},
   "outputs": [],
   "source": [
    "# Topic: Data Cleaning\n",
    "import pandas as pd\n",
    "df = pd.DataFrame({'A':[1,None,3]})\n",
    "df = df.fillna(0)\n",
    "print(df)"
   ]
  },
  {
   "cell_type": "code",
   "execution_count": null,
   "id": "a3ad0aed",
   "metadata": {},
   "outputs": [],
   "source": [
    "# Topic: Basic ML\n",
    "from sklearn.linear_model import LinearRegression\n",
    "model = LinearRegression()\n",
    "print(model)"
   ]
  },
  {
   "cell_type": "code",
   "execution_count": null,
   "id": "a49612ec",
   "metadata": {},
   "outputs": [],
   "source": [
    "# Topic: Pandas\n",
    "import pandas as pd\n",
    "df = pd.read_csv('file.csv')\n",
    "print(df.head())"
   ]
  },
  {
   "cell_type": "code",
   "execution_count": null,
   "id": "bc9d5512",
   "metadata": {},
   "outputs": [],
   "source": [
    "# Topic: Regex\n",
    "import re\n",
    "text = 'email: test@example.com'\n",
    "print(re.findall(r'\\S+@\\S+', text))"
   ]
  },
  {
   "cell_type": "code",
   "execution_count": null,
   "id": "bd135e14",
   "metadata": {},
   "outputs": [],
   "source": [
    "# Topic: Pandas\n",
    "import pandas as pd\n",
    "df = pd.DataFrame({'A':[1,2],'B':[3,4]})\n",
    "print(df)"
   ]
  },
  {
   "cell_type": "code",
   "execution_count": null,
   "id": "43c3cf4f",
   "metadata": {},
   "outputs": [],
   "source": [
    "# Topic: Algorithms\n",
    "# Bubble sort\n",
    "def bubble(arr):\n",
    " for i in range(len(arr)):\n",
    "  for j in range(0, len(arr)-i-1):\n",
    "   if arr[j]>arr[j+1]: arr[j],arr[j+1]=arr[j+1],arr[j]\n",
    "a=[5,3,8]\n",
    "bubble(a)\n",
    "print(a)"
   ]
  },
  {
   "cell_type": "code",
   "execution_count": null,
   "id": "fba2117a",
   "metadata": {},
   "outputs": [],
   "source": [
    "# Topic: Matplotlib & Seaborn\n",
    "import matplotlib.pyplot as plt\n",
    "plt.plot([1,2],[3,4])\n",
    "plt.show()"
   ]
  },
  {
   "cell_type": "code",
   "execution_count": null,
   "id": "41975b69",
   "metadata": {},
   "outputs": [],
   "source": [
    "# Topic: Matplotlib & Seaborn\n",
    "import matplotlib.pyplot as plt\n",
    "plt.plot([1,2],[3,4])\n",
    "plt.show()"
   ]
  },
  {
   "cell_type": "code",
   "execution_count": null,
   "id": "cfb3ab72",
   "metadata": {},
   "outputs": [],
   "source": [
    "# Topic: CLI Tools\n",
    "import sys\n",
    "print(f'Arguments: {sys.argv}')"
   ]
  },
  {
   "cell_type": "code",
   "execution_count": null,
   "id": "24454f4c",
   "metadata": {},
   "outputs": [],
   "source": [
    "# Topic: OOP\n",
    "class Student:\n",
    "    def __init__(self, name): self.name = name\n",
    "s = Student('Fahd')\n",
    "print(s.name)"
   ]
  },
  {
   "cell_type": "code",
   "execution_count": null,
   "id": "6d90f135",
   "metadata": {},
   "outputs": [],
   "source": [
    "# Topic: Mini Projects\n",
    "# Palindrome check\n",
    "def is_pal(s): return s == s[::-1]\n",
    "print(is_pal('madam'))"
   ]
  },
  {
   "cell_type": "code",
   "execution_count": null,
   "id": "2470c058",
   "metadata": {},
   "outputs": [],
   "source": [
    "# Topic: Lists & Tuples\n",
    "t = (1, 2, 3)\n",
    "print(t[0])"
   ]
  },
  {
   "cell_type": "code",
   "execution_count": null,
   "id": "e5834a23",
   "metadata": {},
   "outputs": [],
   "source": [
    "# Topic: Recursion\n",
    "def fact(n): return 1 if n==0 else n*fact(n-1)\n",
    "print(fact(5))"
   ]
  },
  {
   "cell_type": "code",
   "execution_count": null,
   "id": "66ab079c",
   "metadata": {},
   "outputs": [],
   "source": [
    "# Topic: NumPy\n",
    "import numpy as np\n",
    "print(np.linspace(0, 1, 5))"
   ]
  },
  {
   "cell_type": "code",
   "execution_count": null,
   "id": "ab845b01",
   "metadata": {},
   "outputs": [],
   "source": [
    "# Topic: Data Cleaning\n",
    "import pandas as pd\n",
    "df = pd.DataFrame({'A':[1,None,3]})\n",
    "df = df.fillna(0)\n",
    "print(df)"
   ]
  },
  {
   "cell_type": "code",
   "execution_count": null,
   "id": "0ffc4a44",
   "metadata": {},
   "outputs": [],
   "source": [
    "# Topic: Decorators\n",
    "def log(func):\n",
    " def wrapper():\n",
    "  print('Call')\n",
    "  func()\n",
    " return wrapper\n",
    "@log\n",
    "def say(): print('Hi')\n",
    "say()"
   ]
  },
  {
   "cell_type": "code",
   "execution_count": null,
   "id": "787de1e8",
   "metadata": {},
   "outputs": [],
   "source": [
    "# Topic: Loops\n",
    "for i in range(10): print(i*i)"
   ]
  },
  {
   "cell_type": "code",
   "execution_count": null,
   "id": "86ac0e70",
   "metadata": {},
   "outputs": [],
   "source": [
    "# Topic: Data Cleaning\n",
    "import pandas as pd\n",
    "df = pd.DataFrame({'A':[1,None,3]})\n",
    "df = df.fillna(0)\n",
    "print(df)"
   ]
  },
  {
   "cell_type": "code",
   "execution_count": null,
   "id": "50ba8713",
   "metadata": {},
   "outputs": [],
   "source": [
    "# Topic: Dictionaries & Sets\n",
    "s = set([1, 2, 3, 2])\n",
    "print(s)"
   ]
  },
  {
   "cell_type": "code",
   "execution_count": null,
   "id": "1c67abae",
   "metadata": {},
   "outputs": [],
   "source": [
    "# Topic: File I/O\n",
    "with open('test.txt', 'w') as f:\n",
    "    f.write('Hello World')"
   ]
  },
  {
   "cell_type": "code",
   "execution_count": null,
   "id": "0e642752",
   "metadata": {},
   "outputs": [],
   "source": [
    "# Topic: Matplotlib & Seaborn\n",
    "import seaborn as sns\n",
    "import pandas as pd\n",
    "sns.set()\n",
    "sns.histplot(pd.Series([1,2,2,3]));"
   ]
  },
  {
   "cell_type": "code",
   "execution_count": null,
   "id": "7fecb18d",
   "metadata": {},
   "outputs": [],
   "source": [
    "# Topic: Regex\n",
    "import re\n",
    "text = 'email: test@example.com'\n",
    "print(re.findall(r'\\S+@\\S+', text))"
   ]
  },
  {
   "cell_type": "code",
   "execution_count": null,
   "id": "e9c84cb1",
   "metadata": {},
   "outputs": [],
   "source": [
    "# Topic: JSON & CSV\n",
    "import json\n",
    "data = {'a': 1}\n",
    "print(json.dumps(data))"
   ]
  },
  {
   "cell_type": "code",
   "execution_count": null,
   "id": "3b87af4a",
   "metadata": {},
   "outputs": [],
   "source": [
    "# Topic: Loops\n",
    "while True:\n",
    "    print('Break')\n",
    "    break"
   ]
  },
  {
   "cell_type": "code",
   "execution_count": null,
   "id": "81778af7",
   "metadata": {},
   "outputs": [],
   "source": [
    "# Topic: Matplotlib & Seaborn\n",
    "import seaborn as sns\n",
    "import pandas as pd\n",
    "sns.set()\n",
    "sns.histplot(pd.Series([1,2,2,3]));"
   ]
  },
  {
   "cell_type": "code",
   "execution_count": null,
   "id": "3fced821",
   "metadata": {},
   "outputs": [],
   "source": [
    "# Topic: NumPy\n",
    "import numpy as np\n",
    "a = np.array([1, 2, 3])\n",
    "print(a + 5)"
   ]
  },
  {
   "cell_type": "code",
   "execution_count": null,
   "id": "a6b34b54",
   "metadata": {},
   "outputs": [],
   "source": [
    "# Topic: Functions\n",
    "def greet(name='User'):\n",
    "    print(f'Hi, {name}')\n",
    "greet()"
   ]
  },
  {
   "cell_type": "code",
   "execution_count": null,
   "id": "e02003d8",
   "metadata": {},
   "outputs": [],
   "source": [
    "# Topic: Lists & Tuples\n",
    "lst = [1, 2, 3]\n",
    "lst.append(4)\n",
    "print(lst)"
   ]
  },
  {
   "cell_type": "code",
   "execution_count": null,
   "id": "c343b806",
   "metadata": {},
   "outputs": [],
   "source": [
    "# Topic: Web Scraping\n",
    "import requests\n",
    "from bs4 import BeautifulSoup\n",
    "r = requests.get('https://example.com')\n",
    "soup = BeautifulSoup(r.text, 'html.parser')\n",
    "print(soup.title.text)"
   ]
  },
  {
   "cell_type": "code",
   "execution_count": null,
   "id": "bc1fce50",
   "metadata": {},
   "outputs": [],
   "source": [
    "# Topic: Recursion\n",
    "def fact(n): return 1 if n==0 else n*fact(n-1)\n",
    "print(fact(5))"
   ]
  },
  {
   "cell_type": "code",
   "execution_count": null,
   "id": "03ba1d2e",
   "metadata": {},
   "outputs": [],
   "source": [
    "# Topic: Data Cleaning\n",
    "import pandas as pd\n",
    "df = pd.DataFrame({'A':[1,None,3]})\n",
    "df = df.fillna(0)\n",
    "print(df)"
   ]
  },
  {
   "cell_type": "code",
   "execution_count": null,
   "id": "a65cbbfe",
   "metadata": {},
   "outputs": [],
   "source": [
    "# Topic: Mini Projects\n",
    "# Calculator\n",
    "def calc(a,b,op): return eval(f'{a}{op}{b}')\n",
    "print(calc(5,2,'+'))"
   ]
  },
  {
   "cell_type": "code",
   "execution_count": null,
   "id": "f6c1fc2e",
   "metadata": {},
   "outputs": [],
   "source": [
    "# Topic: CLI Tools\n",
    "import sys\n",
    "print(f'Arguments: {sys.argv}')"
   ]
  },
  {
   "cell_type": "code",
   "execution_count": null,
   "id": "9a8ab4bd",
   "metadata": {},
   "outputs": [],
   "source": [
    "# Topic: Loops\n",
    "for i in range(10): print(i*i)"
   ]
  },
  {
   "cell_type": "code",
   "execution_count": null,
   "id": "9b6e561e",
   "metadata": {},
   "outputs": [],
   "source": [
    "# Topic: Pandas\n",
    "import pandas as pd\n",
    "df = pd.read_csv('file.csv')\n",
    "print(df.head())"
   ]
  },
  {
   "cell_type": "code",
   "execution_count": null,
   "id": "d0e9d3a0",
   "metadata": {},
   "outputs": [],
   "source": [
    "# Topic: CLI Tools\n",
    "import sys\n",
    "print(f'Arguments: {sys.argv}')"
   ]
  },
  {
   "cell_type": "code",
   "execution_count": null,
   "id": "2901b667",
   "metadata": {},
   "outputs": [],
   "source": [
    "# Topic: Regex\n",
    "import re\n",
    "text = 'email: test@example.com'\n",
    "print(re.findall(r'\\S+@\\S+', text))"
   ]
  },
  {
   "cell_type": "code",
   "execution_count": null,
   "id": "7c71a525",
   "metadata": {},
   "outputs": [],
   "source": [
    "# Topic: Basics\n",
    "x = 10\n",
    "y = 20\n",
    "print(x + y)"
   ]
  },
  {
   "cell_type": "code",
   "execution_count": null,
   "id": "188a0176",
   "metadata": {},
   "outputs": [],
   "source": [
    "# Topic: Mini Projects\n",
    "# Palindrome check\n",
    "def is_pal(s): return s == s[::-1]\n",
    "print(is_pal('madam'))"
   ]
  },
  {
   "cell_type": "code",
   "execution_count": null,
   "id": "ab2f0dd2",
   "metadata": {},
   "outputs": [],
   "source": [
    "# Topic: CLI Tools\n",
    "import sys\n",
    "print(f'Arguments: {sys.argv}')"
   ]
  },
  {
   "cell_type": "code",
   "execution_count": null,
   "id": "fbc45e60",
   "metadata": {},
   "outputs": [],
   "source": [
    "# Topic: Basics\n",
    "name = 'Fahd'\n",
    "print(f'Hello, {name}')"
   ]
  },
  {
   "cell_type": "code",
   "execution_count": null,
   "id": "189c1aaf",
   "metadata": {},
   "outputs": [],
   "source": [
    "# Topic: Mini Projects\n",
    "# Calculator\n",
    "def calc(a,b,op): return eval(f'{a}{op}{b}')\n",
    "print(calc(5,2,'+'))"
   ]
  },
  {
   "cell_type": "code",
   "execution_count": null,
   "id": "75dc248f",
   "metadata": {},
   "outputs": [],
   "source": [
    "# Topic: File I/O\n",
    "with open('test.txt', 'r') as f:\n",
    "    print(f.read())"
   ]
  },
  {
   "cell_type": "code",
   "execution_count": null,
   "id": "e3a2d8d7",
   "metadata": {},
   "outputs": [],
   "source": [
    "# Topic: Loops\n",
    "while True:\n",
    "    print('Break')\n",
    "    break"
   ]
  },
  {
   "cell_type": "code",
   "execution_count": null,
   "id": "80543b16",
   "metadata": {},
   "outputs": [],
   "source": [
    "# Topic: Data Cleaning\n",
    "import pandas as pd\n",
    "df = pd.DataFrame({'A':[1,None,3]})\n",
    "df = df.fillna(0)\n",
    "print(df)"
   ]
  },
  {
   "cell_type": "code",
   "execution_count": null,
   "id": "5a18e08c",
   "metadata": {},
   "outputs": [],
   "source": [
    "# Topic: OOP\n",
    "class Student:\n",
    "    def __init__(self, name): self.name = name\n",
    "s = Student('Fahd')\n",
    "print(s.name)"
   ]
  },
  {
   "cell_type": "code",
   "execution_count": null,
   "id": "e8b95727",
   "metadata": {},
   "outputs": [],
   "source": [
    "# Topic: Functions\n",
    "def square(x): return x*x\n",
    "print(square(5))"
   ]
  },
  {
   "cell_type": "code",
   "execution_count": null,
   "id": "89baf2fd",
   "metadata": {},
   "outputs": [],
   "source": [
    "# Topic: Lists & Tuples\n",
    "lst = [1, 2, 3]\n",
    "lst.append(4)\n",
    "print(lst)"
   ]
  },
  {
   "cell_type": "code",
   "execution_count": null,
   "id": "310bde85",
   "metadata": {},
   "outputs": [],
   "source": [
    "# Topic: Loops\n",
    "for i in range(10): print(i*i)"
   ]
  },
  {
   "cell_type": "code",
   "execution_count": null,
   "id": "9b210a20",
   "metadata": {},
   "outputs": [],
   "source": [
    "# Topic: Dictionaries & Sets\n",
    "d = {'name': 'Fahd', 'age': 20}\n",
    "print(d.get('name'))"
   ]
  },
  {
   "cell_type": "code",
   "execution_count": null,
   "id": "3bd63a77",
   "metadata": {},
   "outputs": [],
   "source": [
    "# Topic: Basic ML\n",
    "from sklearn.linear_model import LinearRegression\n",
    "model = LinearRegression()\n",
    "print(model)"
   ]
  },
  {
   "cell_type": "code",
   "execution_count": null,
   "id": "93ca773c",
   "metadata": {},
   "outputs": [],
   "source": [
    "# Topic: Data Cleaning\n",
    "import pandas as pd\n",
    "df = pd.DataFrame({'A':[1,None,3]})\n",
    "df = df.fillna(0)\n",
    "print(df)"
   ]
  },
  {
   "cell_type": "code",
   "execution_count": null,
   "id": "1f64227f",
   "metadata": {},
   "outputs": [],
   "source": [
    "# Topic: Lists & Tuples\n",
    "lst = [1, 2, 3]\n",
    "lst.append(4)\n",
    "print(lst)"
   ]
  },
  {
   "cell_type": "code",
   "execution_count": null,
   "id": "ee5219c0",
   "metadata": {},
   "outputs": [],
   "source": [
    "# Topic: Matplotlib & Seaborn\n",
    "import seaborn as sns\n",
    "import pandas as pd\n",
    "sns.set()\n",
    "sns.histplot(pd.Series([1,2,2,3]));"
   ]
  },
  {
   "cell_type": "code",
   "execution_count": null,
   "id": "129f7fd9",
   "metadata": {},
   "outputs": [],
   "source": [
    "# Topic: OOP\n",
    "class Student:\n",
    "    def __init__(self, name): self.name = name\n",
    "s = Student('Fahd')\n",
    "print(s.name)"
   ]
  },
  {
   "cell_type": "code",
   "execution_count": null,
   "id": "e700ed1f",
   "metadata": {},
   "outputs": [],
   "source": [
    "# Topic: Mini Projects\n",
    "# Calculator\n",
    "def calc(a,b,op): return eval(f'{a}{op}{b}')\n",
    "print(calc(5,2,'+'))"
   ]
  },
  {
   "cell_type": "code",
   "execution_count": null,
   "id": "c0d02acb",
   "metadata": {},
   "outputs": [],
   "source": [
    "# Topic: Pandas\n",
    "import pandas as pd\n",
    "df = pd.DataFrame({'A':[1,2],'B':[3,4]})\n",
    "print(df)"
   ]
  },
  {
   "cell_type": "code",
   "execution_count": null,
   "id": "f31b961c",
   "metadata": {},
   "outputs": [],
   "source": [
    "# Topic: Loops\n",
    "for i in range(10): print(i*i)"
   ]
  },
  {
   "cell_type": "code",
   "execution_count": null,
   "id": "7f5a796c",
   "metadata": {},
   "outputs": [],
   "source": [
    "# Topic: Functions\n",
    "def greet(name='User'):\n",
    "    print(f'Hi, {name}')\n",
    "greet()"
   ]
  },
  {
   "cell_type": "code",
   "execution_count": null,
   "id": "0879b180",
   "metadata": {},
   "outputs": [],
   "source": [
    "# Topic: JSON & CSV\n",
    "import csv\n",
    "with open('file.csv', 'w', newline='') as f:\n",
    " csv.writer(f).writerow(['a','b','c'])"
   ]
  },
  {
   "cell_type": "code",
   "execution_count": null,
   "id": "4ff32a86",
   "metadata": {},
   "outputs": [],
   "source": [
    "# Topic: Lists & Tuples\n",
    "lst = [1, 2, 3]\n",
    "lst.append(4)\n",
    "print(lst)"
   ]
  },
  {
   "cell_type": "code",
   "execution_count": null,
   "id": "316d7f81",
   "metadata": {},
   "outputs": [],
   "source": [
    "# Topic: CLI Tools\n",
    "import sys\n",
    "print(f'Arguments: {sys.argv}')"
   ]
  },
  {
   "cell_type": "code",
   "execution_count": null,
   "id": "a9f430f2",
   "metadata": {},
   "outputs": [],
   "source": [
    "# Topic: Algorithms\n",
    "# Bubble sort\n",
    "def bubble(arr):\n",
    " for i in range(len(arr)):\n",
    "  for j in range(0, len(arr)-i-1):\n",
    "   if arr[j]>arr[j+1]: arr[j],arr[j+1]=arr[j+1],arr[j]\n",
    "a=[5,3,8]\n",
    "bubble(a)\n",
    "print(a)"
   ]
  },
  {
   "cell_type": "code",
   "execution_count": null,
   "id": "16c3b8aa",
   "metadata": {},
   "outputs": [],
   "source": [
    "# Topic: Basic ML\n",
    "from sklearn.linear_model import LinearRegression\n",
    "model = LinearRegression()\n",
    "print(model)"
   ]
  },
  {
   "cell_type": "code",
   "execution_count": null,
   "id": "0206cc89",
   "metadata": {},
   "outputs": [],
   "source": [
    "# Topic: Matplotlib & Seaborn\n",
    "import matplotlib.pyplot as plt\n",
    "plt.plot([1,2],[3,4])\n",
    "plt.show()"
   ]
  },
  {
   "cell_type": "code",
   "execution_count": null,
   "id": "210ee531",
   "metadata": {},
   "outputs": [],
   "source": [
    "# Topic: JSON & CSV\n",
    "import json\n",
    "data = {'a': 1}\n",
    "print(json.dumps(data))"
   ]
  },
  {
   "cell_type": "code",
   "execution_count": null,
   "id": "f1a0295e",
   "metadata": {},
   "outputs": [],
   "source": [
    "# Topic: Recursion\n",
    "def fact(n): return 1 if n==0 else n*fact(n-1)\n",
    "print(fact(5))"
   ]
  },
  {
   "cell_type": "code",
   "execution_count": null,
   "id": "b40595cd",
   "metadata": {},
   "outputs": [],
   "source": [
    "# Topic: Dictionaries & Sets\n",
    "d = {'name': 'Fahd', 'age': 20}\n",
    "print(d.get('name'))"
   ]
  },
  {
   "cell_type": "code",
   "execution_count": null,
   "id": "0cc3854b",
   "metadata": {},
   "outputs": [],
   "source": [
    "# Topic: Web Scraping\n",
    "import requests\n",
    "from bs4 import BeautifulSoup\n",
    "r = requests.get('https://example.com')\n",
    "soup = BeautifulSoup(r.text, 'html.parser')\n",
    "print(soup.title.text)"
   ]
  },
  {
   "cell_type": "code",
   "execution_count": null,
   "id": "639b6f49",
   "metadata": {},
   "outputs": [],
   "source": [
    "# Topic: Mini Projects\n",
    "# Calculator\n",
    "def calc(a,b,op): return eval(f'{a}{op}{b}')\n",
    "print(calc(5,2,'+'))"
   ]
  },
  {
   "cell_type": "code",
   "execution_count": null,
   "id": "a115dafa",
   "metadata": {},
   "outputs": [],
   "source": [
    "# Topic: Basics\n",
    "x = 10\n",
    "y = 20\n",
    "print(x + y)"
   ]
  },
  {
   "cell_type": "code",
   "execution_count": null,
   "id": "eb870d3b",
   "metadata": {},
   "outputs": [],
   "source": [
    "# Topic: OOP\n",
    "class Student:\n",
    "    def __init__(self, name): self.name = name\n",
    "s = Student('Fahd')\n",
    "print(s.name)"
   ]
  },
  {
   "cell_type": "code",
   "execution_count": null,
   "id": "3f7821fa",
   "metadata": {},
   "outputs": [],
   "source": [
    "# Topic: File I/O\n",
    "with open('test.txt', 'w') as f:\n",
    "    f.write('Hello World')"
   ]
  },
  {
   "cell_type": "code",
   "execution_count": null,
   "id": "81d642b1",
   "metadata": {},
   "outputs": [],
   "source": [
    "# Topic: Dictionaries & Sets\n",
    "d = {'name': 'Fahd', 'age': 20}\n",
    "print(d.get('name'))"
   ]
  },
  {
   "cell_type": "code",
   "execution_count": null,
   "id": "d9d9bbcf",
   "metadata": {},
   "outputs": [],
   "source": [
    "# Topic: Decorators\n",
    "def log(func):\n",
    " def wrapper():\n",
    "  print('Call')\n",
    "  func()\n",
    " return wrapper\n",
    "@log\n",
    "def say(): print('Hi')\n",
    "say()"
   ]
  },
  {
   "cell_type": "code",
   "execution_count": null,
   "id": "ea8ecd85",
   "metadata": {},
   "outputs": [],
   "source": [
    "# Topic: Pandas\n",
    "import pandas as pd\n",
    "df = pd.read_csv('file.csv')\n",
    "print(df.head())"
   ]
  },
  {
   "cell_type": "code",
   "execution_count": null,
   "id": "1646444e",
   "metadata": {},
   "outputs": [],
   "source": [
    "# Topic: Functions\n",
    "def square(x): return x*x\n",
    "print(square(5))"
   ]
  },
  {
   "cell_type": "code",
   "execution_count": null,
   "id": "22793fa1",
   "metadata": {},
   "outputs": [],
   "source": [
    "# Topic: NumPy\n",
    "import numpy as np\n",
    "print(np.linspace(0, 1, 5))"
   ]
  },
  {
   "cell_type": "code",
   "execution_count": null,
   "id": "aca3bae0",
   "metadata": {},
   "outputs": [],
   "source": [
    "# Topic: Decorators\n",
    "def log(func):\n",
    " def wrapper():\n",
    "  print('Call')\n",
    "  func()\n",
    " return wrapper\n",
    "@log\n",
    "def say(): print('Hi')\n",
    "say()"
   ]
  },
  {
   "cell_type": "code",
   "execution_count": null,
   "id": "4bf2c891",
   "metadata": {},
   "outputs": [],
   "source": [
    "# Topic: Functions\n",
    "def square(x): return x*x\n",
    "print(square(5))"
   ]
  },
  {
   "cell_type": "code",
   "execution_count": null,
   "id": "abf89a75",
   "metadata": {},
   "outputs": [],
   "source": [
    "# Topic: Mini Projects\n",
    "# Calculator\n",
    "def calc(a,b,op): return eval(f'{a}{op}{b}')\n",
    "print(calc(5,2,'+'))"
   ]
  },
  {
   "cell_type": "code",
   "execution_count": null,
   "id": "f590cb35",
   "metadata": {},
   "outputs": [],
   "source": [
    "# Topic: Dictionaries & Sets\n",
    "d = {'name': 'Fahd', 'age': 20}\n",
    "print(d.get('name'))"
   ]
  },
  {
   "cell_type": "code",
   "execution_count": null,
   "id": "7e3c65f5",
   "metadata": {},
   "outputs": [],
   "source": [
    "# Topic: CLI Tools\n",
    "import sys\n",
    "print(f'Arguments: {sys.argv}')"
   ]
  },
  {
   "cell_type": "code",
   "execution_count": null,
   "id": "3ce9d77e",
   "metadata": {},
   "outputs": [],
   "source": [
    "# Topic: Functions\n",
    "def greet(name='User'):\n",
    "    print(f'Hi, {name}')\n",
    "greet()"
   ]
  },
  {
   "cell_type": "code",
   "execution_count": null,
   "id": "d5d2e0ce",
   "metadata": {},
   "outputs": [],
   "source": [
    "# Topic: Dictionaries & Sets\n",
    "s = set([1, 2, 3, 2])\n",
    "print(s)"
   ]
  },
  {
   "cell_type": "code",
   "execution_count": null,
   "id": "c80a5c0c",
   "metadata": {},
   "outputs": [],
   "source": [
    "# Topic: JSON & CSV\n",
    "import csv\n",
    "with open('file.csv', 'w', newline='') as f:\n",
    " csv.writer(f).writerow(['a','b','c'])"
   ]
  },
  {
   "cell_type": "code",
   "execution_count": null,
   "id": "a6f27d08",
   "metadata": {},
   "outputs": [],
   "source": [
    "# Topic: JSON & CSV\n",
    "import csv\n",
    "with open('file.csv', 'w', newline='') as f:\n",
    " csv.writer(f).writerow(['a','b','c'])"
   ]
  },
  {
   "cell_type": "code",
   "execution_count": null,
   "id": "3fb626c3",
   "metadata": {},
   "outputs": [],
   "source": [
    "# Topic: Loops\n",
    "while True:\n",
    "    print('Break')\n",
    "    break"
   ]
  },
  {
   "cell_type": "code",
   "execution_count": null,
   "id": "1fc1f809",
   "metadata": {},
   "outputs": [],
   "source": [
    "# Topic: Recursion\n",
    "def fact(n): return 1 if n==0 else n*fact(n-1)\n",
    "print(fact(5))"
   ]
  },
  {
   "cell_type": "code",
   "execution_count": null,
   "id": "d78e235a",
   "metadata": {},
   "outputs": [],
   "source": [
    "# Topic: OOP\n",
    "class Student:\n",
    "    def __init__(self, name): self.name = name\n",
    "s = Student('Fahd')\n",
    "print(s.name)"
   ]
  },
  {
   "cell_type": "code",
   "execution_count": null,
   "id": "2b9320ff",
   "metadata": {},
   "outputs": [],
   "source": [
    "# Topic: File I/O\n",
    "with open('test.txt', 'w') as f:\n",
    "    f.write('Hello World')"
   ]
  },
  {
   "cell_type": "code",
   "execution_count": null,
   "id": "cadc1cfd",
   "metadata": {},
   "outputs": [],
   "source": [
    "# Topic: Decorators\n",
    "def log(func):\n",
    " def wrapper():\n",
    "  print('Call')\n",
    "  func()\n",
    " return wrapper\n",
    "@log\n",
    "def say(): print('Hi')\n",
    "say()"
   ]
  },
  {
   "cell_type": "code",
   "execution_count": null,
   "id": "b3f48a1c",
   "metadata": {},
   "outputs": [],
   "source": [
    "# Topic: Functions\n",
    "def square(x): return x*x\n",
    "print(square(5))"
   ]
  },
  {
   "cell_type": "code",
   "execution_count": null,
   "id": "2ef98a6f",
   "metadata": {},
   "outputs": [],
   "source": [
    "# Topic: CLI Tools\n",
    "import sys\n",
    "print(f'Arguments: {sys.argv}')"
   ]
  },
  {
   "cell_type": "code",
   "execution_count": null,
   "id": "5c4dd9bf",
   "metadata": {},
   "outputs": [],
   "source": [
    "# Topic: Functions\n",
    "def greet(name='User'):\n",
    "    print(f'Hi, {name}')\n",
    "greet()"
   ]
  },
  {
   "cell_type": "code",
   "execution_count": null,
   "id": "7803a1fe",
   "metadata": {},
   "outputs": [],
   "source": [
    "# Topic: File I/O\n",
    "with open('test.txt', 'w') as f:\n",
    "    f.write('Hello World')"
   ]
  },
  {
   "cell_type": "code",
   "execution_count": null,
   "id": "bf000862",
   "metadata": {},
   "outputs": [],
   "source": [
    "# Topic: Data Cleaning\n",
    "import pandas as pd\n",
    "df = pd.DataFrame({'A':[1,None,3]})\n",
    "df = df.fillna(0)\n",
    "print(df)"
   ]
  },
  {
   "cell_type": "code",
   "execution_count": null,
   "id": "d82ecae8",
   "metadata": {},
   "outputs": [],
   "source": [
    "# Topic: Pandas\n",
    "import pandas as pd\n",
    "df = pd.read_csv('file.csv')\n",
    "print(df.head())"
   ]
  },
  {
   "cell_type": "code",
   "execution_count": null,
   "id": "fe8d587e",
   "metadata": {},
   "outputs": [],
   "source": [
    "# Topic: Algorithms\n",
    "# Bubble sort\n",
    "def bubble(arr):\n",
    " for i in range(len(arr)):\n",
    "  for j in range(0, len(arr)-i-1):\n",
    "   if arr[j]>arr[j+1]: arr[j],arr[j+1]=arr[j+1],arr[j]\n",
    "a=[5,3,8]\n",
    "bubble(a)\n",
    "print(a)"
   ]
  },
  {
   "cell_type": "code",
   "execution_count": null,
   "id": "a184fb50",
   "metadata": {},
   "outputs": [],
   "source": [
    "# Topic: Recursion\n",
    "def fact(n): return 1 if n==0 else n*fact(n-1)\n",
    "print(fact(5))"
   ]
  },
  {
   "cell_type": "code",
   "execution_count": null,
   "id": "74b60f93",
   "metadata": {},
   "outputs": [],
   "source": [
    "# Topic: Functions\n",
    "def greet(name='User'):\n",
    "    print(f'Hi, {name}')\n",
    "greet()"
   ]
  },
  {
   "cell_type": "code",
   "execution_count": null,
   "id": "510cd9ae",
   "metadata": {},
   "outputs": [],
   "source": [
    "# Topic: OOP\n",
    "class Student:\n",
    "    def __init__(self, name): self.name = name\n",
    "s = Student('Fahd')\n",
    "print(s.name)"
   ]
  },
  {
   "cell_type": "code",
   "execution_count": null,
   "id": "60ab921b",
   "metadata": {},
   "outputs": [],
   "source": [
    "# Topic: Decorators\n",
    "def log(func):\n",
    " def wrapper():\n",
    "  print('Call')\n",
    "  func()\n",
    " return wrapper\n",
    "@log\n",
    "def say(): print('Hi')\n",
    "say()"
   ]
  },
  {
   "cell_type": "code",
   "execution_count": null,
   "id": "e9d2a4ee",
   "metadata": {},
   "outputs": [],
   "source": [
    "# Topic: Regex\n",
    "import re\n",
    "text = 'email: test@example.com'\n",
    "print(re.findall(r'\\S+@\\S+', text))"
   ]
  },
  {
   "cell_type": "code",
   "execution_count": null,
   "id": "51274232",
   "metadata": {},
   "outputs": [],
   "source": [
    "# Topic: File I/O\n",
    "with open('test.txt', 'w') as f:\n",
    "    f.write('Hello World')"
   ]
  },
  {
   "cell_type": "code",
   "execution_count": null,
   "id": "506afd31",
   "metadata": {},
   "outputs": [],
   "source": [
    "# Topic: JSON & CSV\n",
    "import json\n",
    "data = {'a': 1}\n",
    "print(json.dumps(data))"
   ]
  },
  {
   "cell_type": "code",
   "execution_count": null,
   "id": "e1289ac6",
   "metadata": {},
   "outputs": [],
   "source": [
    "# Topic: NumPy\n",
    "import numpy as np\n",
    "a = np.array([1, 2, 3])\n",
    "print(a + 5)"
   ]
  },
  {
   "cell_type": "code",
   "execution_count": null,
   "id": "74242825",
   "metadata": {},
   "outputs": [],
   "source": [
    "# Topic: Dictionaries & Sets\n",
    "d = {'name': 'Fahd', 'age': 20}\n",
    "print(d.get('name'))"
   ]
  },
  {
   "cell_type": "code",
   "execution_count": null,
   "id": "9e7afe6b",
   "metadata": {},
   "outputs": [],
   "source": [
    "# Topic: File I/O\n",
    "with open('test.txt', 'w') as f:\n",
    "    f.write('Hello World')"
   ]
  },
  {
   "cell_type": "code",
   "execution_count": null,
   "id": "0c73151e",
   "metadata": {},
   "outputs": [],
   "source": [
    "# Topic: Regex\n",
    "import re\n",
    "text = 'email: test@example.com'\n",
    "print(re.findall(r'\\S+@\\S+', text))"
   ]
  },
  {
   "cell_type": "code",
   "execution_count": null,
   "id": "1b063233",
   "metadata": {},
   "outputs": [],
   "source": [
    "# Topic: NumPy\n",
    "import numpy as np\n",
    "print(np.linspace(0, 1, 5))"
   ]
  },
  {
   "cell_type": "code",
   "execution_count": null,
   "id": "5ab3f621",
   "metadata": {},
   "outputs": [],
   "source": [
    "# Topic: Regex\n",
    "import re\n",
    "text = 'email: test@example.com'\n",
    "print(re.findall(r'\\S+@\\S+', text))"
   ]
  },
  {
   "cell_type": "code",
   "execution_count": null,
   "id": "a8339014",
   "metadata": {},
   "outputs": [],
   "source": [
    "# Topic: Lists & Tuples\n",
    "lst = [1, 2, 3]\n",
    "lst.append(4)\n",
    "print(lst)"
   ]
  },
  {
   "cell_type": "code",
   "execution_count": null,
   "id": "fbb28dd2",
   "metadata": {},
   "outputs": [],
   "source": [
    "# Topic: Dictionaries & Sets\n",
    "d = {'name': 'Fahd', 'age': 20}\n",
    "print(d.get('name'))"
   ]
  },
  {
   "cell_type": "code",
   "execution_count": null,
   "id": "e99eb1a1",
   "metadata": {},
   "outputs": [],
   "source": [
    "# Topic: JSON & CSV\n",
    "import json\n",
    "data = {'a': 1}\n",
    "print(json.dumps(data))"
   ]
  },
  {
   "cell_type": "code",
   "execution_count": null,
   "id": "084271be",
   "metadata": {},
   "outputs": [],
   "source": [
    "# Topic: Basics\n",
    "x = 10\n",
    "y = 20\n",
    "print(x + y)"
   ]
  },
  {
   "cell_type": "code",
   "execution_count": null,
   "id": "237fb0a5",
   "metadata": {},
   "outputs": [],
   "source": [
    "# Topic: Basic ML\n",
    "from sklearn.linear_model import LinearRegression\n",
    "model = LinearRegression()\n",
    "print(model)"
   ]
  },
  {
   "cell_type": "code",
   "execution_count": null,
   "id": "74465ba9",
   "metadata": {},
   "outputs": [],
   "source": [
    "# Topic: Algorithms\n",
    "# Bubble sort\n",
    "def bubble(arr):\n",
    " for i in range(len(arr)):\n",
    "  for j in range(0, len(arr)-i-1):\n",
    "   if arr[j]>arr[j+1]: arr[j],arr[j+1]=arr[j+1],arr[j]\n",
    "a=[5,3,8]\n",
    "bubble(a)\n",
    "print(a)"
   ]
  },
  {
   "cell_type": "code",
   "execution_count": null,
   "id": "6537d420",
   "metadata": {},
   "outputs": [],
   "source": [
    "# Topic: Lists & Tuples\n",
    "lst = [1, 2, 3]\n",
    "lst.append(4)\n",
    "print(lst)"
   ]
  },
  {
   "cell_type": "code",
   "execution_count": null,
   "id": "98064649",
   "metadata": {},
   "outputs": [],
   "source": [
    "# Topic: Lists & Tuples\n",
    "t = (1, 2, 3)\n",
    "print(t[0])"
   ]
  },
  {
   "cell_type": "code",
   "execution_count": null,
   "id": "8d4190a2",
   "metadata": {},
   "outputs": [],
   "source": [
    "# Topic: Regex\n",
    "import re\n",
    "text = 'email: test@example.com'\n",
    "print(re.findall(r'\\S+@\\S+', text))"
   ]
  },
  {
   "cell_type": "code",
   "execution_count": null,
   "id": "92cff9f0",
   "metadata": {},
   "outputs": [],
   "source": [
    "# Topic: Algorithms\n",
    "# Bubble sort\n",
    "def bubble(arr):\n",
    " for i in range(len(arr)):\n",
    "  for j in range(0, len(arr)-i-1):\n",
    "   if arr[j]>arr[j+1]: arr[j],arr[j+1]=arr[j+1],arr[j]\n",
    "a=[5,3,8]\n",
    "bubble(a)\n",
    "print(a)"
   ]
  },
  {
   "cell_type": "code",
   "execution_count": null,
   "id": "2362f361",
   "metadata": {},
   "outputs": [],
   "source": [
    "# Topic: CLI Tools\n",
    "import sys\n",
    "print(f'Arguments: {sys.argv}')"
   ]
  },
  {
   "cell_type": "code",
   "execution_count": null,
   "id": "66a9ca01",
   "metadata": {},
   "outputs": [],
   "source": [
    "# Topic: Dictionaries & Sets\n",
    "d = {'name': 'Fahd', 'age': 20}\n",
    "print(d.get('name'))"
   ]
  },
  {
   "cell_type": "code",
   "execution_count": null,
   "id": "50d6612b",
   "metadata": {},
   "outputs": [],
   "source": [
    "# Topic: Dictionaries & Sets\n",
    "s = set([1, 2, 3, 2])\n",
    "print(s)"
   ]
  },
  {
   "cell_type": "code",
   "execution_count": null,
   "id": "6143d767",
   "metadata": {},
   "outputs": [],
   "source": [
    "# Topic: Mini Projects\n",
    "# Calculator\n",
    "def calc(a,b,op): return eval(f'{a}{op}{b}')\n",
    "print(calc(5,2,'+'))"
   ]
  },
  {
   "cell_type": "code",
   "execution_count": null,
   "id": "f83b4cae",
   "metadata": {},
   "outputs": [],
   "source": [
    "# Topic: Basic ML\n",
    "from sklearn.linear_model import LinearRegression\n",
    "model = LinearRegression()\n",
    "print(model)"
   ]
  },
  {
   "cell_type": "code",
   "execution_count": null,
   "id": "c97839a1",
   "metadata": {},
   "outputs": [],
   "source": [
    "# Topic: Regex\n",
    "import re\n",
    "text = 'email: test@example.com'\n",
    "print(re.findall(r'\\S+@\\S+', text))"
   ]
  },
  {
   "cell_type": "code",
   "execution_count": null,
   "id": "de7beaf6",
   "metadata": {},
   "outputs": [],
   "source": [
    "# Topic: Recursion\n",
    "def fact(n): return 1 if n==0 else n*fact(n-1)\n",
    "print(fact(5))"
   ]
  },
  {
   "cell_type": "code",
   "execution_count": null,
   "id": "d6383c8f",
   "metadata": {},
   "outputs": [],
   "source": [
    "# Topic: Matplotlib & Seaborn\n",
    "import seaborn as sns\n",
    "import pandas as pd\n",
    "sns.set()\n",
    "sns.histplot(pd.Series([1,2,2,3]));"
   ]
  },
  {
   "cell_type": "code",
   "execution_count": null,
   "id": "81b923fd",
   "metadata": {},
   "outputs": [],
   "source": [
    "# Topic: OOP\n",
    "class Student:\n",
    "    def __init__(self, name): self.name = name\n",
    "s = Student('Fahd')\n",
    "print(s.name)"
   ]
  },
  {
   "cell_type": "code",
   "execution_count": null,
   "id": "9d513577",
   "metadata": {},
   "outputs": [],
   "source": [
    "# Topic: Mini Projects\n",
    "# Calculator\n",
    "def calc(a,b,op): return eval(f'{a}{op}{b}')\n",
    "print(calc(5,2,'+'))"
   ]
  },
  {
   "cell_type": "code",
   "execution_count": null,
   "id": "c90650b5",
   "metadata": {},
   "outputs": [],
   "source": [
    "# Topic: Web Scraping\n",
    "import requests\n",
    "from bs4 import BeautifulSoup\n",
    "r = requests.get('https://example.com')\n",
    "soup = BeautifulSoup(r.text, 'html.parser')\n",
    "print(soup.title.text)"
   ]
  },
  {
   "cell_type": "code",
   "execution_count": null,
   "id": "b79e31c9",
   "metadata": {},
   "outputs": [],
   "source": [
    "# Topic: File I/O\n",
    "with open('test.txt', 'r') as f:\n",
    "    print(f.read())"
   ]
  },
  {
   "cell_type": "code",
   "execution_count": null,
   "id": "7271f2e3",
   "metadata": {},
   "outputs": [],
   "source": [
    "# Topic: Matplotlib & Seaborn\n",
    "import matplotlib.pyplot as plt\n",
    "plt.plot([1,2],[3,4])\n",
    "plt.show()"
   ]
  },
  {
   "cell_type": "code",
   "execution_count": null,
   "id": "c9c97794",
   "metadata": {},
   "outputs": [],
   "source": [
    "# Topic: Algorithms\n",
    "# Bubble sort\n",
    "def bubble(arr):\n",
    " for i in range(len(arr)):\n",
    "  for j in range(0, len(arr)-i-1):\n",
    "   if arr[j]>arr[j+1]: arr[j],arr[j+1]=arr[j+1],arr[j]\n",
    "a=[5,3,8]\n",
    "bubble(a)\n",
    "print(a)"
   ]
  },
  {
   "cell_type": "code",
   "execution_count": null,
   "id": "af457fc5",
   "metadata": {},
   "outputs": [],
   "source": [
    "# Topic: Lists & Tuples\n",
    "lst = [1, 2, 3]\n",
    "lst.append(4)\n",
    "print(lst)"
   ]
  },
  {
   "cell_type": "code",
   "execution_count": null,
   "id": "14300306",
   "metadata": {},
   "outputs": [],
   "source": [
    "# Topic: Recursion\n",
    "def fact(n): return 1 if n==0 else n*fact(n-1)\n",
    "print(fact(5))"
   ]
  },
  {
   "cell_type": "code",
   "execution_count": null,
   "id": "053a2ccd",
   "metadata": {},
   "outputs": [],
   "source": [
    "# Topic: Dictionaries & Sets\n",
    "d = {'name': 'Fahd', 'age': 20}\n",
    "print(d.get('name'))"
   ]
  },
  {
   "cell_type": "code",
   "execution_count": null,
   "id": "8cf7e59e",
   "metadata": {},
   "outputs": [],
   "source": [
    "# Topic: Mini Projects\n",
    "# Palindrome check\n",
    "def is_pal(s): return s == s[::-1]\n",
    "print(is_pal('madam'))"
   ]
  },
  {
   "cell_type": "code",
   "execution_count": null,
   "id": "49ad61c4",
   "metadata": {},
   "outputs": [],
   "source": [
    "# Topic: Basic ML\n",
    "from sklearn.linear_model import LinearRegression\n",
    "model = LinearRegression()\n",
    "print(model)"
   ]
  },
  {
   "cell_type": "code",
   "execution_count": null,
   "id": "b1f18b20",
   "metadata": {},
   "outputs": [],
   "source": [
    "# Topic: File I/O\n",
    "with open('test.txt', 'r') as f:\n",
    "    print(f.read())"
   ]
  },
  {
   "cell_type": "code",
   "execution_count": null,
   "id": "aae82d72",
   "metadata": {},
   "outputs": [],
   "source": [
    "# Topic: Dictionaries & Sets\n",
    "d = {'name': 'Fahd', 'age': 20}\n",
    "print(d.get('name'))"
   ]
  },
  {
   "cell_type": "code",
   "execution_count": null,
   "id": "e9028518",
   "metadata": {},
   "outputs": [],
   "source": [
    "# Topic: CLI Tools\n",
    "import sys\n",
    "print(f'Arguments: {sys.argv}')"
   ]
  },
  {
   "cell_type": "code",
   "execution_count": null,
   "id": "7171ebbf",
   "metadata": {},
   "outputs": [],
   "source": [
    "# Topic: Loops\n",
    "for i in range(10): print(i*i)"
   ]
  },
  {
   "cell_type": "code",
   "execution_count": null,
   "id": "72d8640c",
   "metadata": {},
   "outputs": [],
   "source": [
    "# Topic: Basic ML\n",
    "from sklearn.linear_model import LinearRegression\n",
    "model = LinearRegression()\n",
    "print(model)"
   ]
  },
  {
   "cell_type": "code",
   "execution_count": null,
   "id": "e2d9e36b",
   "metadata": {},
   "outputs": [],
   "source": [
    "# Topic: Basics\n",
    "x = 10\n",
    "y = 20\n",
    "print(x + y)"
   ]
  },
  {
   "cell_type": "code",
   "execution_count": null,
   "id": "bc70afb4",
   "metadata": {},
   "outputs": [],
   "source": [
    "# Topic: Algorithms\n",
    "# Bubble sort\n",
    "def bubble(arr):\n",
    " for i in range(len(arr)):\n",
    "  for j in range(0, len(arr)-i-1):\n",
    "   if arr[j]>arr[j+1]: arr[j],arr[j+1]=arr[j+1],arr[j]\n",
    "a=[5,3,8]\n",
    "bubble(a)\n",
    "print(a)"
   ]
  },
  {
   "cell_type": "code",
   "execution_count": null,
   "id": "72c4d299",
   "metadata": {},
   "outputs": [],
   "source": [
    "# Topic: OOP\n",
    "class Student:\n",
    "    def __init__(self, name): self.name = name\n",
    "s = Student('Fahd')\n",
    "print(s.name)"
   ]
  },
  {
   "cell_type": "code",
   "execution_count": null,
   "id": "24adde06",
   "metadata": {},
   "outputs": [],
   "source": [
    "# Topic: Functions\n",
    "def square(x): return x*x\n",
    "print(square(5))"
   ]
  },
  {
   "cell_type": "code",
   "execution_count": null,
   "id": "2e637524",
   "metadata": {},
   "outputs": [],
   "source": [
    "# Topic: Mini Projects\n",
    "# Calculator\n",
    "def calc(a,b,op): return eval(f'{a}{op}{b}')\n",
    "print(calc(5,2,'+'))"
   ]
  },
  {
   "cell_type": "code",
   "execution_count": null,
   "id": "6d6fd30e",
   "metadata": {},
   "outputs": [],
   "source": [
    "# Topic: CLI Tools\n",
    "import sys\n",
    "print(f'Arguments: {sys.argv}')"
   ]
  },
  {
   "cell_type": "code",
   "execution_count": null,
   "id": "15671503",
   "metadata": {},
   "outputs": [],
   "source": [
    "# Topic: Basic ML\n",
    "from sklearn.linear_model import LinearRegression\n",
    "model = LinearRegression()\n",
    "print(model)"
   ]
  },
  {
   "cell_type": "code",
   "execution_count": null,
   "id": "f2bc0c3f",
   "metadata": {},
   "outputs": [],
   "source": [
    "# Topic: Data Cleaning\n",
    "import pandas as pd\n",
    "df = pd.DataFrame({'A':[1,None,3]})\n",
    "df = df.fillna(0)\n",
    "print(df)"
   ]
  },
  {
   "cell_type": "code",
   "execution_count": null,
   "id": "0a8d2c4b",
   "metadata": {},
   "outputs": [],
   "source": [
    "# Topic: Data Cleaning\n",
    "import pandas as pd\n",
    "df = pd.DataFrame({'A':[1,None,3]})\n",
    "df = df.fillna(0)\n",
    "print(df)"
   ]
  },
  {
   "cell_type": "code",
   "execution_count": null,
   "id": "8128bd87",
   "metadata": {},
   "outputs": [],
   "source": [
    "# Topic: OOP\n",
    "class Student:\n",
    "    def __init__(self, name): self.name = name\n",
    "s = Student('Fahd')\n",
    "print(s.name)"
   ]
  },
  {
   "cell_type": "code",
   "execution_count": null,
   "id": "e9c8de91",
   "metadata": {},
   "outputs": [],
   "source": [
    "# Topic: CLI Tools\n",
    "import sys\n",
    "print(f'Arguments: {sys.argv}')"
   ]
  },
  {
   "cell_type": "code",
   "execution_count": null,
   "id": "e4eda621",
   "metadata": {},
   "outputs": [],
   "source": [
    "# Topic: CLI Tools\n",
    "import sys\n",
    "print(f'Arguments: {sys.argv}')"
   ]
  },
  {
   "cell_type": "code",
   "execution_count": null,
   "id": "ebde0495",
   "metadata": {},
   "outputs": [],
   "source": [
    "# Topic: OOP\n",
    "class Student:\n",
    "    def __init__(self, name): self.name = name\n",
    "s = Student('Fahd')\n",
    "print(s.name)"
   ]
  },
  {
   "cell_type": "code",
   "execution_count": null,
   "id": "58ebfa60",
   "metadata": {},
   "outputs": [],
   "source": [
    "# Topic: Web Scraping\n",
    "import requests\n",
    "from bs4 import BeautifulSoup\n",
    "r = requests.get('https://example.com')\n",
    "soup = BeautifulSoup(r.text, 'html.parser')\n",
    "print(soup.title.text)"
   ]
  },
  {
   "cell_type": "code",
   "execution_count": null,
   "id": "e1879ac6",
   "metadata": {},
   "outputs": [],
   "source": [
    "# Topic: Algorithms\n",
    "# Bubble sort\n",
    "def bubble(arr):\n",
    " for i in range(len(arr)):\n",
    "  for j in range(0, len(arr)-i-1):\n",
    "   if arr[j]>arr[j+1]: arr[j],arr[j+1]=arr[j+1],arr[j]\n",
    "a=[5,3,8]\n",
    "bubble(a)\n",
    "print(a)"
   ]
  },
  {
   "cell_type": "code",
   "execution_count": null,
   "id": "a8096d02",
   "metadata": {},
   "outputs": [],
   "source": [
    "# Topic: Web Scraping\n",
    "import requests\n",
    "from bs4 import BeautifulSoup\n",
    "r = requests.get('https://example.com')\n",
    "soup = BeautifulSoup(r.text, 'html.parser')\n",
    "print(soup.title.text)"
   ]
  },
  {
   "cell_type": "code",
   "execution_count": null,
   "id": "4dd60e85",
   "metadata": {},
   "outputs": [],
   "source": [
    "# Topic: JSON & CSV\n",
    "import json\n",
    "data = {'a': 1}\n",
    "print(json.dumps(data))"
   ]
  },
  {
   "cell_type": "code",
   "execution_count": null,
   "id": "95cb278b",
   "metadata": {},
   "outputs": [],
   "source": [
    "# Topic: NumPy\n",
    "import numpy as np\n",
    "a = np.array([1, 2, 3])\n",
    "print(a + 5)"
   ]
  },
  {
   "cell_type": "code",
   "execution_count": null,
   "id": "be368077",
   "metadata": {},
   "outputs": [],
   "source": [
    "# Topic: Lists & Tuples\n",
    "t = (1, 2, 3)\n",
    "print(t[0])"
   ]
  },
  {
   "cell_type": "code",
   "execution_count": null,
   "id": "3bddec2f",
   "metadata": {},
   "outputs": [],
   "source": [
    "# Topic: Dictionaries & Sets\n",
    "d = {'name': 'Fahd', 'age': 20}\n",
    "print(d.get('name'))"
   ]
  },
  {
   "cell_type": "code",
   "execution_count": null,
   "id": "992b9513",
   "metadata": {},
   "outputs": [],
   "source": [
    "# Topic: Regex\n",
    "import re\n",
    "text = 'email: test@example.com'\n",
    "print(re.findall(r'\\S+@\\S+', text))"
   ]
  },
  {
   "cell_type": "code",
   "execution_count": null,
   "id": "799c3ffb",
   "metadata": {},
   "outputs": [],
   "source": [
    "# Topic: Pandas\n",
    "import pandas as pd\n",
    "df = pd.read_csv('file.csv')\n",
    "print(df.head())"
   ]
  },
  {
   "cell_type": "code",
   "execution_count": null,
   "id": "1965fb28",
   "metadata": {},
   "outputs": [],
   "source": [
    "# Topic: Pandas\n",
    "import pandas as pd\n",
    "df = pd.read_csv('file.csv')\n",
    "print(df.head())"
   ]
  },
  {
   "cell_type": "code",
   "execution_count": null,
   "id": "a31121b9",
   "metadata": {},
   "outputs": [],
   "source": [
    "# Topic: Loops\n",
    "for i in range(10): print(i*i)"
   ]
  },
  {
   "cell_type": "code",
   "execution_count": null,
   "id": "8ff4fa6a",
   "metadata": {},
   "outputs": [],
   "source": [
    "# Topic: Lists & Tuples\n",
    "t = (1, 2, 3)\n",
    "print(t[0])"
   ]
  },
  {
   "cell_type": "code",
   "execution_count": null,
   "id": "b894bc0c",
   "metadata": {},
   "outputs": [],
   "source": [
    "# Topic: CLI Tools\n",
    "import sys\n",
    "print(f'Arguments: {sys.argv}')"
   ]
  },
  {
   "cell_type": "code",
   "execution_count": null,
   "id": "5557fb7a",
   "metadata": {},
   "outputs": [],
   "source": [
    "# Topic: Functions\n",
    "def square(x): return x*x\n",
    "print(square(5))"
   ]
  },
  {
   "cell_type": "code",
   "execution_count": null,
   "id": "8dde3cd7",
   "metadata": {},
   "outputs": [],
   "source": [
    "# Topic: Pandas\n",
    "import pandas as pd\n",
    "df = pd.DataFrame({'A':[1,2],'B':[3,4]})\n",
    "print(df)"
   ]
  },
  {
   "cell_type": "code",
   "execution_count": null,
   "id": "bc5af8af",
   "metadata": {},
   "outputs": [],
   "source": [
    "# Topic: Loops\n",
    "while True:\n",
    "    print('Break')\n",
    "    break"
   ]
  },
  {
   "cell_type": "code",
   "execution_count": null,
   "id": "b6cc3c1e",
   "metadata": {},
   "outputs": [],
   "source": [
    "# Topic: Regex\n",
    "import re\n",
    "text = 'email: test@example.com'\n",
    "print(re.findall(r'\\S+@\\S+', text))"
   ]
  },
  {
   "cell_type": "code",
   "execution_count": null,
   "id": "984f85d8",
   "metadata": {},
   "outputs": [],
   "source": [
    "# Topic: Data Cleaning\n",
    "import pandas as pd\n",
    "df = pd.DataFrame({'A':[1,None,3]})\n",
    "df = df.fillna(0)\n",
    "print(df)"
   ]
  },
  {
   "cell_type": "code",
   "execution_count": null,
   "id": "50443775",
   "metadata": {},
   "outputs": [],
   "source": [
    "# Topic: Data Cleaning\n",
    "import pandas as pd\n",
    "df = pd.DataFrame({'A':[1,None,3]})\n",
    "df = df.fillna(0)\n",
    "print(df)"
   ]
  },
  {
   "cell_type": "code",
   "execution_count": null,
   "id": "262c728d",
   "metadata": {},
   "outputs": [],
   "source": [
    "# Topic: Web Scraping\n",
    "import requests\n",
    "from bs4 import BeautifulSoup\n",
    "r = requests.get('https://example.com')\n",
    "soup = BeautifulSoup(r.text, 'html.parser')\n",
    "print(soup.title.text)"
   ]
  },
  {
   "cell_type": "code",
   "execution_count": null,
   "id": "36963a1b",
   "metadata": {},
   "outputs": [],
   "source": [
    "# Topic: Data Cleaning\n",
    "import pandas as pd\n",
    "df = pd.DataFrame({'A':[1,None,3]})\n",
    "df = df.fillna(0)\n",
    "print(df)"
   ]
  },
  {
   "cell_type": "code",
   "execution_count": null,
   "id": "acd40926",
   "metadata": {},
   "outputs": [],
   "source": [
    "# Topic: Dictionaries & Sets\n",
    "s = set([1, 2, 3, 2])\n",
    "print(s)"
   ]
  },
  {
   "cell_type": "code",
   "execution_count": null,
   "id": "c014de4b",
   "metadata": {},
   "outputs": [],
   "source": [
    "# Topic: Basics\n",
    "x = 10\n",
    "y = 20\n",
    "print(x + y)"
   ]
  },
  {
   "cell_type": "code",
   "execution_count": null,
   "id": "e78614bb",
   "metadata": {},
   "outputs": [],
   "source": [
    "# Topic: Web Scraping\n",
    "import requests\n",
    "from bs4 import BeautifulSoup\n",
    "r = requests.get('https://example.com')\n",
    "soup = BeautifulSoup(r.text, 'html.parser')\n",
    "print(soup.title.text)"
   ]
  },
  {
   "cell_type": "code",
   "execution_count": null,
   "id": "9f27b3f5",
   "metadata": {},
   "outputs": [],
   "source": [
    "# Topic: CLI Tools\n",
    "import sys\n",
    "print(f'Arguments: {sys.argv}')"
   ]
  },
  {
   "cell_type": "code",
   "execution_count": null,
   "id": "ce8a4954",
   "metadata": {},
   "outputs": [],
   "source": [
    "# Topic: Matplotlib & Seaborn\n",
    "import matplotlib.pyplot as plt\n",
    "plt.plot([1,2],[3,4])\n",
    "plt.show()"
   ]
  },
  {
   "cell_type": "code",
   "execution_count": null,
   "id": "3101dae0",
   "metadata": {},
   "outputs": [],
   "source": [
    "# Topic: Dictionaries & Sets\n",
    "d = {'name': 'Fahd', 'age': 20}\n",
    "print(d.get('name'))"
   ]
  },
  {
   "cell_type": "code",
   "execution_count": null,
   "id": "1eb1fad8",
   "metadata": {},
   "outputs": [],
   "source": [
    "# Topic: Recursion\n",
    "def fact(n): return 1 if n==0 else n*fact(n-1)\n",
    "print(fact(5))"
   ]
  },
  {
   "cell_type": "code",
   "execution_count": null,
   "id": "5f1324bd",
   "metadata": {},
   "outputs": [],
   "source": [
    "# Topic: Mini Projects\n",
    "# Calculator\n",
    "def calc(a,b,op): return eval(f'{a}{op}{b}')\n",
    "print(calc(5,2,'+'))"
   ]
  },
  {
   "cell_type": "code",
   "execution_count": null,
   "id": "e6342c96",
   "metadata": {},
   "outputs": [],
   "source": [
    "# Topic: JSON & CSV\n",
    "import json\n",
    "data = {'a': 1}\n",
    "print(json.dumps(data))"
   ]
  },
  {
   "cell_type": "code",
   "execution_count": null,
   "id": "d1163f46",
   "metadata": {},
   "outputs": [],
   "source": [
    "# Topic: OOP\n",
    "class Student:\n",
    "    def __init__(self, name): self.name = name\n",
    "s = Student('Fahd')\n",
    "print(s.name)"
   ]
  },
  {
   "cell_type": "code",
   "execution_count": null,
   "id": "3c33e413",
   "metadata": {},
   "outputs": [],
   "source": [
    "# Topic: Decorators\n",
    "def log(func):\n",
    " def wrapper():\n",
    "  print('Call')\n",
    "  func()\n",
    " return wrapper\n",
    "@log\n",
    "def say(): print('Hi')\n",
    "say()"
   ]
  },
  {
   "cell_type": "code",
   "execution_count": null,
   "id": "ef8ce7fb",
   "metadata": {},
   "outputs": [],
   "source": [
    "# Topic: Recursion\n",
    "def fact(n): return 1 if n==0 else n*fact(n-1)\n",
    "print(fact(5))"
   ]
  },
  {
   "cell_type": "code",
   "execution_count": null,
   "id": "8d46ed16",
   "metadata": {},
   "outputs": [],
   "source": [
    "# Topic: Algorithms\n",
    "# Bubble sort\n",
    "def bubble(arr):\n",
    " for i in range(len(arr)):\n",
    "  for j in range(0, len(arr)-i-1):\n",
    "   if arr[j]>arr[j+1]: arr[j],arr[j+1]=arr[j+1],arr[j]\n",
    "a=[5,3,8]\n",
    "bubble(a)\n",
    "print(a)"
   ]
  },
  {
   "cell_type": "code",
   "execution_count": null,
   "id": "db44749f",
   "metadata": {},
   "outputs": [],
   "source": [
    "# Topic: Basic ML\n",
    "from sklearn.linear_model import LinearRegression\n",
    "model = LinearRegression()\n",
    "print(model)"
   ]
  },
  {
   "cell_type": "code",
   "execution_count": null,
   "id": "1903cefd",
   "metadata": {},
   "outputs": [],
   "source": [
    "# Topic: Lists & Tuples\n",
    "t = (1, 2, 3)\n",
    "print(t[0])"
   ]
  },
  {
   "cell_type": "code",
   "execution_count": null,
   "id": "47ec37a5",
   "metadata": {},
   "outputs": [],
   "source": [
    "# Topic: Mini Projects\n",
    "# Calculator\n",
    "def calc(a,b,op): return eval(f'{a}{op}{b}')\n",
    "print(calc(5,2,'+'))"
   ]
  },
  {
   "cell_type": "code",
   "execution_count": null,
   "id": "4c20c275",
   "metadata": {},
   "outputs": [],
   "source": [
    "# Topic: Loops\n",
    "while True:\n",
    "    print('Break')\n",
    "    break"
   ]
  },
  {
   "cell_type": "code",
   "execution_count": null,
   "id": "b85f63dd",
   "metadata": {},
   "outputs": [],
   "source": [
    "# Topic: File I/O\n",
    "with open('test.txt', 'r') as f:\n",
    "    print(f.read())"
   ]
  },
  {
   "cell_type": "code",
   "execution_count": null,
   "id": "fd93beb5",
   "metadata": {},
   "outputs": [],
   "source": [
    "# Topic: Basics\n",
    "name = 'Fahd'\n",
    "print(f'Hello, {name}')"
   ]
  },
  {
   "cell_type": "code",
   "execution_count": null,
   "id": "95fe52de",
   "metadata": {},
   "outputs": [],
   "source": [
    "# Topic: Web Scraping\n",
    "import requests\n",
    "from bs4 import BeautifulSoup\n",
    "r = requests.get('https://example.com')\n",
    "soup = BeautifulSoup(r.text, 'html.parser')\n",
    "print(soup.title.text)"
   ]
  },
  {
   "cell_type": "code",
   "execution_count": null,
   "id": "88cb77ed",
   "metadata": {},
   "outputs": [],
   "source": [
    "# Topic: NumPy\n",
    "import numpy as np\n",
    "a = np.array([1, 2, 3])\n",
    "print(a + 5)"
   ]
  },
  {
   "cell_type": "code",
   "execution_count": null,
   "id": "6e8750db",
   "metadata": {},
   "outputs": [],
   "source": [
    "# Topic: Algorithms\n",
    "# Bubble sort\n",
    "def bubble(arr):\n",
    " for i in range(len(arr)):\n",
    "  for j in range(0, len(arr)-i-1):\n",
    "   if arr[j]>arr[j+1]: arr[j],arr[j+1]=arr[j+1],arr[j]\n",
    "a=[5,3,8]\n",
    "bubble(a)\n",
    "print(a)"
   ]
  },
  {
   "cell_type": "code",
   "execution_count": null,
   "id": "f2dd209e",
   "metadata": {},
   "outputs": [],
   "source": [
    "# Topic: Basics\n",
    "name = 'Fahd'\n",
    "print(f'Hello, {name}')"
   ]
  },
  {
   "cell_type": "code",
   "execution_count": null,
   "id": "d914e40f",
   "metadata": {},
   "outputs": [],
   "source": [
    "# Topic: NumPy\n",
    "import numpy as np\n",
    "a = np.array([1, 2, 3])\n",
    "print(a + 5)"
   ]
  },
  {
   "cell_type": "code",
   "execution_count": null,
   "id": "a3507eb0",
   "metadata": {},
   "outputs": [],
   "source": [
    "# Topic: Mini Projects\n",
    "# Palindrome check\n",
    "def is_pal(s): return s == s[::-1]\n",
    "print(is_pal('madam'))"
   ]
  },
  {
   "cell_type": "code",
   "execution_count": null,
   "id": "530b7c18",
   "metadata": {},
   "outputs": [],
   "source": [
    "# Topic: CLI Tools\n",
    "import sys\n",
    "print(f'Arguments: {sys.argv}')"
   ]
  },
  {
   "cell_type": "code",
   "execution_count": null,
   "id": "3013e430",
   "metadata": {},
   "outputs": [],
   "source": [
    "# Topic: Recursion\n",
    "def fact(n): return 1 if n==0 else n*fact(n-1)\n",
    "print(fact(5))"
   ]
  },
  {
   "cell_type": "code",
   "execution_count": null,
   "id": "59298693",
   "metadata": {},
   "outputs": [],
   "source": [
    "# Topic: Web Scraping\n",
    "import requests\n",
    "from bs4 import BeautifulSoup\n",
    "r = requests.get('https://example.com')\n",
    "soup = BeautifulSoup(r.text, 'html.parser')\n",
    "print(soup.title.text)"
   ]
  },
  {
   "cell_type": "code",
   "execution_count": null,
   "id": "aa070ade",
   "metadata": {},
   "outputs": [],
   "source": [
    "# Topic: Web Scraping\n",
    "import requests\n",
    "from bs4 import BeautifulSoup\n",
    "r = requests.get('https://example.com')\n",
    "soup = BeautifulSoup(r.text, 'html.parser')\n",
    "print(soup.title.text)"
   ]
  },
  {
   "cell_type": "code",
   "execution_count": null,
   "id": "dbb59088",
   "metadata": {},
   "outputs": [],
   "source": [
    "# Topic: Lists & Tuples\n",
    "lst = [1, 2, 3]\n",
    "lst.append(4)\n",
    "print(lst)"
   ]
  },
  {
   "cell_type": "code",
   "execution_count": null,
   "id": "b71dbae3",
   "metadata": {},
   "outputs": [],
   "source": [
    "# Topic: Basic ML\n",
    "from sklearn.linear_model import LinearRegression\n",
    "model = LinearRegression()\n",
    "print(model)"
   ]
  },
  {
   "cell_type": "code",
   "execution_count": null,
   "id": "afcc8bb2",
   "metadata": {},
   "outputs": [],
   "source": [
    "# Topic: Lists & Tuples\n",
    "lst = [1, 2, 3]\n",
    "lst.append(4)\n",
    "print(lst)"
   ]
  },
  {
   "cell_type": "code",
   "execution_count": null,
   "id": "e3ef0bd6",
   "metadata": {},
   "outputs": [],
   "source": [
    "# Topic: Matplotlib & Seaborn\n",
    "import seaborn as sns\n",
    "import pandas as pd\n",
    "sns.set()\n",
    "sns.histplot(pd.Series([1,2,2,3]));"
   ]
  },
  {
   "cell_type": "code",
   "execution_count": null,
   "id": "db7d1324",
   "metadata": {},
   "outputs": [],
   "source": [
    "# Topic: CLI Tools\n",
    "import sys\n",
    "print(f'Arguments: {sys.argv}')"
   ]
  },
  {
   "cell_type": "code",
   "execution_count": null,
   "id": "50f32744",
   "metadata": {},
   "outputs": [],
   "source": [
    "# Topic: Loops\n",
    "for i in range(10): print(i*i)"
   ]
  },
  {
   "cell_type": "code",
   "execution_count": null,
   "id": "7b6fa9dd",
   "metadata": {},
   "outputs": [],
   "source": [
    "# Topic: Mini Projects\n",
    "# Calculator\n",
    "def calc(a,b,op): return eval(f'{a}{op}{b}')\n",
    "print(calc(5,2,'+'))"
   ]
  },
  {
   "cell_type": "code",
   "execution_count": null,
   "id": "439431b1",
   "metadata": {},
   "outputs": [],
   "source": [
    "# Topic: CLI Tools\n",
    "import sys\n",
    "print(f'Arguments: {sys.argv}')"
   ]
  },
  {
   "cell_type": "code",
   "execution_count": null,
   "id": "cfb5e611",
   "metadata": {},
   "outputs": [],
   "source": [
    "# Topic: File I/O\n",
    "with open('test.txt', 'r') as f:\n",
    "    print(f.read())"
   ]
  },
  {
   "cell_type": "code",
   "execution_count": null,
   "id": "609ffcd4",
   "metadata": {},
   "outputs": [],
   "source": [
    "# Topic: Regex\n",
    "import re\n",
    "text = 'email: test@example.com'\n",
    "print(re.findall(r'\\S+@\\S+', text))"
   ]
  },
  {
   "cell_type": "code",
   "execution_count": null,
   "id": "46d85547",
   "metadata": {},
   "outputs": [],
   "source": [
    "# Topic: Algorithms\n",
    "# Bubble sort\n",
    "def bubble(arr):\n",
    " for i in range(len(arr)):\n",
    "  for j in range(0, len(arr)-i-1):\n",
    "   if arr[j]>arr[j+1]: arr[j],arr[j+1]=arr[j+1],arr[j]\n",
    "a=[5,3,8]\n",
    "bubble(a)\n",
    "print(a)"
   ]
  },
  {
   "cell_type": "code",
   "execution_count": null,
   "id": "26a43104",
   "metadata": {},
   "outputs": [],
   "source": [
    "# Topic: Functions\n",
    "def greet(name='User'):\n",
    "    print(f'Hi, {name}')\n",
    "greet()"
   ]
  },
  {
   "cell_type": "code",
   "execution_count": null,
   "id": "1d365141",
   "metadata": {},
   "outputs": [],
   "source": [
    "# Topic: CLI Tools\n",
    "import sys\n",
    "print(f'Arguments: {sys.argv}')"
   ]
  },
  {
   "cell_type": "code",
   "execution_count": null,
   "id": "5143d8a7",
   "metadata": {},
   "outputs": [],
   "source": [
    "# Topic: Regex\n",
    "import re\n",
    "text = 'email: test@example.com'\n",
    "print(re.findall(r'\\S+@\\S+', text))"
   ]
  },
  {
   "cell_type": "code",
   "execution_count": null,
   "id": "5e413513",
   "metadata": {},
   "outputs": [],
   "source": [
    "# Topic: Data Cleaning\n",
    "import pandas as pd\n",
    "df = pd.DataFrame({'A':[1,None,3]})\n",
    "df = df.fillna(0)\n",
    "print(df)"
   ]
  },
  {
   "cell_type": "code",
   "execution_count": null,
   "id": "90e0a972",
   "metadata": {},
   "outputs": [],
   "source": [
    "# Topic: File I/O\n",
    "with open('test.txt', 'w') as f:\n",
    "    f.write('Hello World')"
   ]
  },
  {
   "cell_type": "code",
   "execution_count": null,
   "id": "438b9fa0",
   "metadata": {},
   "outputs": [],
   "source": [
    "# Topic: Recursion\n",
    "def fact(n): return 1 if n==0 else n*fact(n-1)\n",
    "print(fact(5))"
   ]
  },
  {
   "cell_type": "code",
   "execution_count": null,
   "id": "da9fe5c7",
   "metadata": {},
   "outputs": [],
   "source": [
    "# Topic: JSON & CSV\n",
    "import json\n",
    "data = {'a': 1}\n",
    "print(json.dumps(data))"
   ]
  },
  {
   "cell_type": "code",
   "execution_count": null,
   "id": "aabbedd9",
   "metadata": {},
   "outputs": [],
   "source": [
    "# Topic: Web Scraping\n",
    "import requests\n",
    "from bs4 import BeautifulSoup\n",
    "r = requests.get('https://example.com')\n",
    "soup = BeautifulSoup(r.text, 'html.parser')\n",
    "print(soup.title.text)"
   ]
  },
  {
   "cell_type": "code",
   "execution_count": null,
   "id": "179ce8fd",
   "metadata": {},
   "outputs": [],
   "source": [
    "# Topic: Basic ML\n",
    "from sklearn.linear_model import LinearRegression\n",
    "model = LinearRegression()\n",
    "print(model)"
   ]
  },
  {
   "cell_type": "code",
   "execution_count": null,
   "id": "1bfb8dc3",
   "metadata": {},
   "outputs": [],
   "source": [
    "# Topic: NumPy\n",
    "import numpy as np\n",
    "print(np.linspace(0, 1, 5))"
   ]
  },
  {
   "cell_type": "code",
   "execution_count": null,
   "id": "8b54c3a9",
   "metadata": {},
   "outputs": [],
   "source": [
    "# Topic: Regex\n",
    "import re\n",
    "text = 'email: test@example.com'\n",
    "print(re.findall(r'\\S+@\\S+', text))"
   ]
  },
  {
   "cell_type": "code",
   "execution_count": null,
   "id": "4c62bba3",
   "metadata": {},
   "outputs": [],
   "source": [
    "# Topic: Recursion\n",
    "def fact(n): return 1 if n==0 else n*fact(n-1)\n",
    "print(fact(5))"
   ]
  },
  {
   "cell_type": "code",
   "execution_count": null,
   "id": "b49c3859",
   "metadata": {},
   "outputs": [],
   "source": [
    "# Topic: JSON & CSV\n",
    "import json\n",
    "data = {'a': 1}\n",
    "print(json.dumps(data))"
   ]
  },
  {
   "cell_type": "code",
   "execution_count": null,
   "id": "27b954e7",
   "metadata": {},
   "outputs": [],
   "source": [
    "# Topic: Pandas\n",
    "import pandas as pd\n",
    "df = pd.read_csv('file.csv')\n",
    "print(df.head())"
   ]
  },
  {
   "cell_type": "code",
   "execution_count": null,
   "id": "4f2769bf",
   "metadata": {},
   "outputs": [],
   "source": [
    "# Topic: Dictionaries & Sets\n",
    "d = {'name': 'Fahd', 'age': 20}\n",
    "print(d.get('name'))"
   ]
  },
  {
   "cell_type": "code",
   "execution_count": null,
   "id": "c0dbb5f0",
   "metadata": {},
   "outputs": [],
   "source": [
    "# Topic: Web Scraping\n",
    "import requests\n",
    "from bs4 import BeautifulSoup\n",
    "r = requests.get('https://example.com')\n",
    "soup = BeautifulSoup(r.text, 'html.parser')\n",
    "print(soup.title.text)"
   ]
  },
  {
   "cell_type": "code",
   "execution_count": null,
   "id": "92eb3634",
   "metadata": {},
   "outputs": [],
   "source": [
    "# Topic: Dictionaries & Sets\n",
    "s = set([1, 2, 3, 2])\n",
    "print(s)"
   ]
  },
  {
   "cell_type": "code",
   "execution_count": null,
   "id": "638fecb9",
   "metadata": {},
   "outputs": [],
   "source": [
    "# Topic: Lists & Tuples\n",
    "t = (1, 2, 3)\n",
    "print(t[0])"
   ]
  },
  {
   "cell_type": "code",
   "execution_count": null,
   "id": "10d4326a",
   "metadata": {},
   "outputs": [],
   "source": [
    "# Topic: Pandas\n",
    "import pandas as pd\n",
    "df = pd.read_csv('file.csv')\n",
    "print(df.head())"
   ]
  },
  {
   "cell_type": "code",
   "execution_count": null,
   "id": "8b25c7b4",
   "metadata": {},
   "outputs": [],
   "source": [
    "# Topic: Functions\n",
    "def greet(name='User'):\n",
    "    print(f'Hi, {name}')\n",
    "greet()"
   ]
  },
  {
   "cell_type": "code",
   "execution_count": null,
   "id": "ef24cf57",
   "metadata": {},
   "outputs": [],
   "source": [
    "# Topic: Dictionaries & Sets\n",
    "s = set([1, 2, 3, 2])\n",
    "print(s)"
   ]
  },
  {
   "cell_type": "code",
   "execution_count": null,
   "id": "b8fabf58",
   "metadata": {},
   "outputs": [],
   "source": [
    "# Topic: OOP\n",
    "class Student:\n",
    "    def __init__(self, name): self.name = name\n",
    "s = Student('Fahd')\n",
    "print(s.name)"
   ]
  },
  {
   "cell_type": "code",
   "execution_count": null,
   "id": "88f1d08b",
   "metadata": {},
   "outputs": [],
   "source": [
    "# Topic: Matplotlib & Seaborn\n",
    "import seaborn as sns\n",
    "import pandas as pd\n",
    "sns.set()\n",
    "sns.histplot(pd.Series([1,2,2,3]));"
   ]
  },
  {
   "cell_type": "code",
   "execution_count": null,
   "id": "95be458e",
   "metadata": {},
   "outputs": [],
   "source": [
    "# Topic: Mini Projects\n",
    "# Palindrome check\n",
    "def is_pal(s): return s == s[::-1]\n",
    "print(is_pal('madam'))"
   ]
  },
  {
   "cell_type": "code",
   "execution_count": null,
   "id": "3da57bda",
   "metadata": {},
   "outputs": [],
   "source": [
    "# Topic: Dictionaries & Sets\n",
    "s = set([1, 2, 3, 2])\n",
    "print(s)"
   ]
  },
  {
   "cell_type": "code",
   "execution_count": null,
   "id": "7e25dc70",
   "metadata": {},
   "outputs": [],
   "source": [
    "# Topic: File I/O\n",
    "with open('test.txt', 'r') as f:\n",
    "    print(f.read())"
   ]
  },
  {
   "cell_type": "code",
   "execution_count": null,
   "id": "5090181c",
   "metadata": {},
   "outputs": [],
   "source": [
    "# Topic: Data Cleaning\n",
    "import pandas as pd\n",
    "df = pd.DataFrame({'A':[1,None,3]})\n",
    "df = df.fillna(0)\n",
    "print(df)"
   ]
  },
  {
   "cell_type": "code",
   "execution_count": null,
   "id": "256da654",
   "metadata": {},
   "outputs": [],
   "source": [
    "# Topic: Pandas\n",
    "import pandas as pd\n",
    "df = pd.DataFrame({'A':[1,2],'B':[3,4]})\n",
    "print(df)"
   ]
  },
  {
   "cell_type": "code",
   "execution_count": null,
   "id": "59317688",
   "metadata": {},
   "outputs": [],
   "source": [
    "# Topic: Data Cleaning\n",
    "import pandas as pd\n",
    "df = pd.DataFrame({'A':[1,None,3]})\n",
    "df = df.fillna(0)\n",
    "print(df)"
   ]
  },
  {
   "cell_type": "code",
   "execution_count": null,
   "id": "17246136",
   "metadata": {},
   "outputs": [],
   "source": [
    "# Topic: Basics\n",
    "x = 10\n",
    "y = 20\n",
    "print(x + y)"
   ]
  },
  {
   "cell_type": "code",
   "execution_count": null,
   "id": "909b4361",
   "metadata": {},
   "outputs": [],
   "source": [
    "# Topic: Functions\n",
    "def square(x): return x*x\n",
    "print(square(5))"
   ]
  },
  {
   "cell_type": "code",
   "execution_count": null,
   "id": "4462f445",
   "metadata": {},
   "outputs": [],
   "source": [
    "# Topic: Basics\n",
    "x = 10\n",
    "y = 20\n",
    "print(x + y)"
   ]
  },
  {
   "cell_type": "code",
   "execution_count": null,
   "id": "1d845a1f",
   "metadata": {},
   "outputs": [],
   "source": [
    "# Topic: Regex\n",
    "import re\n",
    "text = 'email: test@example.com'\n",
    "print(re.findall(r'\\S+@\\S+', text))"
   ]
  },
  {
   "cell_type": "code",
   "execution_count": null,
   "id": "7e9cfbd6",
   "metadata": {},
   "outputs": [],
   "source": [
    "# Topic: Data Cleaning\n",
    "import pandas as pd\n",
    "df = pd.DataFrame({'A':[1,None,3]})\n",
    "df = df.fillna(0)\n",
    "print(df)"
   ]
  },
  {
   "cell_type": "code",
   "execution_count": null,
   "id": "1aadb9a1",
   "metadata": {},
   "outputs": [],
   "source": [
    "# Topic: Web Scraping\n",
    "import requests\n",
    "from bs4 import BeautifulSoup\n",
    "r = requests.get('https://example.com')\n",
    "soup = BeautifulSoup(r.text, 'html.parser')\n",
    "print(soup.title.text)"
   ]
  },
  {
   "cell_type": "code",
   "execution_count": null,
   "id": "d2871c8e",
   "metadata": {},
   "outputs": [],
   "source": [
    "# Topic: File I/O\n",
    "with open('test.txt', 'w') as f:\n",
    "    f.write('Hello World')"
   ]
  },
  {
   "cell_type": "code",
   "execution_count": null,
   "id": "513bc887",
   "metadata": {},
   "outputs": [],
   "source": [
    "# Topic: JSON & CSV\n",
    "import json\n",
    "data = {'a': 1}\n",
    "print(json.dumps(data))"
   ]
  },
  {
   "cell_type": "code",
   "execution_count": null,
   "id": "c7974758",
   "metadata": {},
   "outputs": [],
   "source": [
    "# Topic: Loops\n",
    "while True:\n",
    "    print('Break')\n",
    "    break"
   ]
  },
  {
   "cell_type": "code",
   "execution_count": null,
   "id": "f0e90c35",
   "metadata": {},
   "outputs": [],
   "source": [
    "# Topic: Recursion\n",
    "def fact(n): return 1 if n==0 else n*fact(n-1)\n",
    "print(fact(5))"
   ]
  },
  {
   "cell_type": "code",
   "execution_count": null,
   "id": "afeb2808",
   "metadata": {},
   "outputs": [],
   "source": [
    "# Topic: Pandas\n",
    "import pandas as pd\n",
    "df = pd.DataFrame({'A':[1,2],'B':[3,4]})\n",
    "print(df)"
   ]
  },
  {
   "cell_type": "code",
   "execution_count": null,
   "id": "a5eade50",
   "metadata": {},
   "outputs": [],
   "source": [
    "# Topic: CLI Tools\n",
    "import sys\n",
    "print(f'Arguments: {sys.argv}')"
   ]
  },
  {
   "cell_type": "code",
   "execution_count": null,
   "id": "5aad7969",
   "metadata": {},
   "outputs": [],
   "source": [
    "# Topic: Pandas\n",
    "import pandas as pd\n",
    "df = pd.DataFrame({'A':[1,2],'B':[3,4]})\n",
    "print(df)"
   ]
  },
  {
   "cell_type": "code",
   "execution_count": null,
   "id": "631f4f72",
   "metadata": {},
   "outputs": [],
   "source": [
    "# Topic: Regex\n",
    "import re\n",
    "text = 'email: test@example.com'\n",
    "print(re.findall(r'\\S+@\\S+', text))"
   ]
  },
  {
   "cell_type": "code",
   "execution_count": null,
   "id": "1e45f639",
   "metadata": {},
   "outputs": [],
   "source": [
    "# Topic: OOP\n",
    "class Student:\n",
    "    def __init__(self, name): self.name = name\n",
    "s = Student('Fahd')\n",
    "print(s.name)"
   ]
  },
  {
   "cell_type": "code",
   "execution_count": null,
   "id": "65b6a8d7",
   "metadata": {},
   "outputs": [],
   "source": [
    "# Topic: Matplotlib & Seaborn\n",
    "import matplotlib.pyplot as plt\n",
    "plt.plot([1,2],[3,4])\n",
    "plt.show()"
   ]
  },
  {
   "cell_type": "code",
   "execution_count": null,
   "id": "50851d1f",
   "metadata": {},
   "outputs": [],
   "source": [
    "# Topic: Loops\n",
    "while True:\n",
    "    print('Break')\n",
    "    break"
   ]
  },
  {
   "cell_type": "code",
   "execution_count": null,
   "id": "210fc446",
   "metadata": {},
   "outputs": [],
   "source": [
    "# Topic: Matplotlib & Seaborn\n",
    "import matplotlib.pyplot as plt\n",
    "plt.plot([1,2],[3,4])\n",
    "plt.show()"
   ]
  },
  {
   "cell_type": "code",
   "execution_count": null,
   "id": "f327517f",
   "metadata": {},
   "outputs": [],
   "source": [
    "# Topic: Algorithms\n",
    "# Bubble sort\n",
    "def bubble(arr):\n",
    " for i in range(len(arr)):\n",
    "  for j in range(0, len(arr)-i-1):\n",
    "   if arr[j]>arr[j+1]: arr[j],arr[j+1]=arr[j+1],arr[j]\n",
    "a=[5,3,8]\n",
    "bubble(a)\n",
    "print(a)"
   ]
  },
  {
   "cell_type": "code",
   "execution_count": null,
   "id": "54a12387",
   "metadata": {},
   "outputs": [],
   "source": [
    "# Topic: File I/O\n",
    "with open('test.txt', 'r') as f:\n",
    "    print(f.read())"
   ]
  },
  {
   "cell_type": "code",
   "execution_count": null,
   "id": "ba8921a0",
   "metadata": {},
   "outputs": [],
   "source": [
    "# Topic: Web Scraping\n",
    "import requests\n",
    "from bs4 import BeautifulSoup\n",
    "r = requests.get('https://example.com')\n",
    "soup = BeautifulSoup(r.text, 'html.parser')\n",
    "print(soup.title.text)"
   ]
  },
  {
   "cell_type": "code",
   "execution_count": null,
   "id": "38815a45",
   "metadata": {},
   "outputs": [],
   "source": [
    "# Topic: Algorithms\n",
    "# Bubble sort\n",
    "def bubble(arr):\n",
    " for i in range(len(arr)):\n",
    "  for j in range(0, len(arr)-i-1):\n",
    "   if arr[j]>arr[j+1]: arr[j],arr[j+1]=arr[j+1],arr[j]\n",
    "a=[5,3,8]\n",
    "bubble(a)\n",
    "print(a)"
   ]
  },
  {
   "cell_type": "code",
   "execution_count": null,
   "id": "cd326d24",
   "metadata": {},
   "outputs": [],
   "source": [
    "# Topic: Functions\n",
    "def greet(name='User'):\n",
    "    print(f'Hi, {name}')\n",
    "greet()"
   ]
  },
  {
   "cell_type": "code",
   "execution_count": null,
   "id": "c6770c74",
   "metadata": {},
   "outputs": [],
   "source": [
    "# Topic: Loops\n",
    "for i in range(10): print(i*i)"
   ]
  },
  {
   "cell_type": "code",
   "execution_count": null,
   "id": "711ecb90",
   "metadata": {},
   "outputs": [],
   "source": [
    "# Topic: Loops\n",
    "for i in range(10): print(i*i)"
   ]
  },
  {
   "cell_type": "code",
   "execution_count": null,
   "id": "389ce585",
   "metadata": {},
   "outputs": [],
   "source": [
    "# Topic: Web Scraping\n",
    "import requests\n",
    "from bs4 import BeautifulSoup\n",
    "r = requests.get('https://example.com')\n",
    "soup = BeautifulSoup(r.text, 'html.parser')\n",
    "print(soup.title.text)"
   ]
  },
  {
   "cell_type": "code",
   "execution_count": null,
   "id": "70e35b94",
   "metadata": {},
   "outputs": [],
   "source": [
    "# Topic: File I/O\n",
    "with open('test.txt', 'r') as f:\n",
    "    print(f.read())"
   ]
  },
  {
   "cell_type": "code",
   "execution_count": null,
   "id": "7290fc21",
   "metadata": {},
   "outputs": [],
   "source": [
    "# Topic: Decorators\n",
    "def log(func):\n",
    " def wrapper():\n",
    "  print('Call')\n",
    "  func()\n",
    " return wrapper\n",
    "@log\n",
    "def say(): print('Hi')\n",
    "say()"
   ]
  },
  {
   "cell_type": "code",
   "execution_count": null,
   "id": "1149e9ac",
   "metadata": {},
   "outputs": [],
   "source": [
    "# Topic: Data Cleaning\n",
    "import pandas as pd\n",
    "df = pd.DataFrame({'A':[1,None,3]})\n",
    "df = df.fillna(0)\n",
    "print(df)"
   ]
  },
  {
   "cell_type": "code",
   "execution_count": null,
   "id": "5bba3d7c",
   "metadata": {},
   "outputs": [],
   "source": [
    "# Topic: Regex\n",
    "import re\n",
    "text = 'email: test@example.com'\n",
    "print(re.findall(r'\\S+@\\S+', text))"
   ]
  },
  {
   "cell_type": "code",
   "execution_count": null,
   "id": "fb8f8673",
   "metadata": {},
   "outputs": [],
   "source": [
    "# Topic: Matplotlib & Seaborn\n",
    "import matplotlib.pyplot as plt\n",
    "plt.plot([1,2],[3,4])\n",
    "plt.show()"
   ]
  },
  {
   "cell_type": "code",
   "execution_count": null,
   "id": "3a151000",
   "metadata": {},
   "outputs": [],
   "source": [
    "# Topic: Functions\n",
    "def greet(name='User'):\n",
    "    print(f'Hi, {name}')\n",
    "greet()"
   ]
  },
  {
   "cell_type": "code",
   "execution_count": null,
   "id": "130ca8e2",
   "metadata": {},
   "outputs": [],
   "source": [
    "# Topic: Dictionaries & Sets\n",
    "s = set([1, 2, 3, 2])\n",
    "print(s)"
   ]
  },
  {
   "cell_type": "code",
   "execution_count": null,
   "id": "d7ad8452",
   "metadata": {},
   "outputs": [],
   "source": [
    "# Topic: Algorithms\n",
    "# Bubble sort\n",
    "def bubble(arr):\n",
    " for i in range(len(arr)):\n",
    "  for j in range(0, len(arr)-i-1):\n",
    "   if arr[j]>arr[j+1]: arr[j],arr[j+1]=arr[j+1],arr[j]\n",
    "a=[5,3,8]\n",
    "bubble(a)\n",
    "print(a)"
   ]
  },
  {
   "cell_type": "code",
   "execution_count": null,
   "id": "6d1e527d",
   "metadata": {},
   "outputs": [],
   "source": [
    "# Topic: JSON & CSV\n",
    "import csv\n",
    "with open('file.csv', 'w', newline='') as f:\n",
    " csv.writer(f).writerow(['a','b','c'])"
   ]
  },
  {
   "cell_type": "code",
   "execution_count": null,
   "id": "31335000",
   "metadata": {},
   "outputs": [],
   "source": [
    "# Topic: NumPy\n",
    "import numpy as np\n",
    "a = np.array([1, 2, 3])\n",
    "print(a + 5)"
   ]
  },
  {
   "cell_type": "code",
   "execution_count": null,
   "id": "7d7895f1",
   "metadata": {},
   "outputs": [],
   "source": [
    "# Topic: CLI Tools\n",
    "import sys\n",
    "print(f'Arguments: {sys.argv}')"
   ]
  },
  {
   "cell_type": "code",
   "execution_count": null,
   "id": "ca0946cd",
   "metadata": {},
   "outputs": [],
   "source": [
    "# Topic: Algorithms\n",
    "# Bubble sort\n",
    "def bubble(arr):\n",
    " for i in range(len(arr)):\n",
    "  for j in range(0, len(arr)-i-1):\n",
    "   if arr[j]>arr[j+1]: arr[j],arr[j+1]=arr[j+1],arr[j]\n",
    "a=[5,3,8]\n",
    "bubble(a)\n",
    "print(a)"
   ]
  },
  {
   "cell_type": "code",
   "execution_count": null,
   "id": "210db7e8",
   "metadata": {},
   "outputs": [],
   "source": [
    "# Topic: NumPy\n",
    "import numpy as np\n",
    "a = np.array([1, 2, 3])\n",
    "print(a + 5)"
   ]
  },
  {
   "cell_type": "code",
   "execution_count": null,
   "id": "14b9f94e",
   "metadata": {},
   "outputs": [],
   "source": [
    "# Topic: Web Scraping\n",
    "import requests\n",
    "from bs4 import BeautifulSoup\n",
    "r = requests.get('https://example.com')\n",
    "soup = BeautifulSoup(r.text, 'html.parser')\n",
    "print(soup.title.text)"
   ]
  },
  {
   "cell_type": "code",
   "execution_count": null,
   "id": "c7def21a",
   "metadata": {},
   "outputs": [],
   "source": [
    "# Topic: Decorators\n",
    "def log(func):\n",
    " def wrapper():\n",
    "  print('Call')\n",
    "  func()\n",
    " return wrapper\n",
    "@log\n",
    "def say(): print('Hi')\n",
    "say()"
   ]
  },
  {
   "cell_type": "code",
   "execution_count": null,
   "id": "0f8430ea",
   "metadata": {},
   "outputs": [],
   "source": [
    "# Topic: Basic ML\n",
    "from sklearn.linear_model import LinearRegression\n",
    "model = LinearRegression()\n",
    "print(model)"
   ]
  },
  {
   "cell_type": "code",
   "execution_count": null,
   "id": "c89377cc",
   "metadata": {},
   "outputs": [],
   "source": [
    "# Topic: File I/O\n",
    "with open('test.txt', 'r') as f:\n",
    "    print(f.read())"
   ]
  },
  {
   "cell_type": "code",
   "execution_count": null,
   "id": "5729b0ad",
   "metadata": {},
   "outputs": [],
   "source": [
    "# Topic: Web Scraping\n",
    "import requests\n",
    "from bs4 import BeautifulSoup\n",
    "r = requests.get('https://example.com')\n",
    "soup = BeautifulSoup(r.text, 'html.parser')\n",
    "print(soup.title.text)"
   ]
  },
  {
   "cell_type": "code",
   "execution_count": null,
   "id": "278cb8ae",
   "metadata": {},
   "outputs": [],
   "source": [
    "# Topic: Loops\n",
    "for i in range(10): print(i*i)"
   ]
  },
  {
   "cell_type": "code",
   "execution_count": null,
   "id": "00000bfb",
   "metadata": {},
   "outputs": [],
   "source": [
    "# Topic: Regex\n",
    "import re\n",
    "text = 'email: test@example.com'\n",
    "print(re.findall(r'\\S+@\\S+', text))"
   ]
  },
  {
   "cell_type": "code",
   "execution_count": null,
   "id": "9772525f",
   "metadata": {},
   "outputs": [],
   "source": [
    "# Topic: Basics\n",
    "x = 10\n",
    "y = 20\n",
    "print(x + y)"
   ]
  },
  {
   "cell_type": "code",
   "execution_count": null,
   "id": "16dcc1f4",
   "metadata": {},
   "outputs": [],
   "source": [
    "# Topic: Algorithms\n",
    "# Bubble sort\n",
    "def bubble(arr):\n",
    " for i in range(len(arr)):\n",
    "  for j in range(0, len(arr)-i-1):\n",
    "   if arr[j]>arr[j+1]: arr[j],arr[j+1]=arr[j+1],arr[j]\n",
    "a=[5,3,8]\n",
    "bubble(a)\n",
    "print(a)"
   ]
  },
  {
   "cell_type": "code",
   "execution_count": null,
   "id": "70beed04",
   "metadata": {},
   "outputs": [],
   "source": [
    "# Topic: CLI Tools\n",
    "import sys\n",
    "print(f'Arguments: {sys.argv}')"
   ]
  },
  {
   "cell_type": "code",
   "execution_count": null,
   "id": "3c76618b",
   "metadata": {},
   "outputs": [],
   "source": [
    "# Topic: Algorithms\n",
    "# Bubble sort\n",
    "def bubble(arr):\n",
    " for i in range(len(arr)):\n",
    "  for j in range(0, len(arr)-i-1):\n",
    "   if arr[j]>arr[j+1]: arr[j],arr[j+1]=arr[j+1],arr[j]\n",
    "a=[5,3,8]\n",
    "bubble(a)\n",
    "print(a)"
   ]
  },
  {
   "cell_type": "code",
   "execution_count": null,
   "id": "f05b7ce2",
   "metadata": {},
   "outputs": [],
   "source": [
    "# Topic: Decorators\n",
    "def log(func):\n",
    " def wrapper():\n",
    "  print('Call')\n",
    "  func()\n",
    " return wrapper\n",
    "@log\n",
    "def say(): print('Hi')\n",
    "say()"
   ]
  },
  {
   "cell_type": "code",
   "execution_count": null,
   "id": "dbf0f212",
   "metadata": {},
   "outputs": [],
   "source": [
    "# Topic: NumPy\n",
    "import numpy as np\n",
    "print(np.linspace(0, 1, 5))"
   ]
  },
  {
   "cell_type": "code",
   "execution_count": null,
   "id": "d7c5a35f",
   "metadata": {},
   "outputs": [],
   "source": [
    "# Topic: Decorators\n",
    "def log(func):\n",
    " def wrapper():\n",
    "  print('Call')\n",
    "  func()\n",
    " return wrapper\n",
    "@log\n",
    "def say(): print('Hi')\n",
    "say()"
   ]
  },
  {
   "cell_type": "code",
   "execution_count": null,
   "id": "01e8d0f3",
   "metadata": {},
   "outputs": [],
   "source": [
    "# Topic: Loops\n",
    "for i in range(10): print(i*i)"
   ]
  },
  {
   "cell_type": "code",
   "execution_count": null,
   "id": "7e3d7e2e",
   "metadata": {},
   "outputs": [],
   "source": [
    "# Topic: Decorators\n",
    "def log(func):\n",
    " def wrapper():\n",
    "  print('Call')\n",
    "  func()\n",
    " return wrapper\n",
    "@log\n",
    "def say(): print('Hi')\n",
    "say()"
   ]
  },
  {
   "cell_type": "code",
   "execution_count": null,
   "id": "b6620fcf",
   "metadata": {},
   "outputs": [],
   "source": [
    "# Topic: NumPy\n",
    "import numpy as np\n",
    "a = np.array([1, 2, 3])\n",
    "print(a + 5)"
   ]
  },
  {
   "cell_type": "code",
   "execution_count": null,
   "id": "03f75fed",
   "metadata": {},
   "outputs": [],
   "source": [
    "# Topic: Dictionaries & Sets\n",
    "s = set([1, 2, 3, 2])\n",
    "print(s)"
   ]
  },
  {
   "cell_type": "code",
   "execution_count": null,
   "id": "7deb3662",
   "metadata": {},
   "outputs": [],
   "source": [
    "# Topic: Mini Projects\n",
    "# Calculator\n",
    "def calc(a,b,op): return eval(f'{a}{op}{b}')\n",
    "print(calc(5,2,'+'))"
   ]
  },
  {
   "cell_type": "code",
   "execution_count": null,
   "id": "4b4664b8",
   "metadata": {},
   "outputs": [],
   "source": [
    "# Topic: Dictionaries & Sets\n",
    "d = {'name': 'Fahd', 'age': 20}\n",
    "print(d.get('name'))"
   ]
  },
  {
   "cell_type": "code",
   "execution_count": null,
   "id": "2b9df2ad",
   "metadata": {},
   "outputs": [],
   "source": [
    "# Topic: CLI Tools\n",
    "import sys\n",
    "print(f'Arguments: {sys.argv}')"
   ]
  },
  {
   "cell_type": "code",
   "execution_count": null,
   "id": "c86563e0",
   "metadata": {},
   "outputs": [],
   "source": [
    "# Topic: Recursion\n",
    "def fact(n): return 1 if n==0 else n*fact(n-1)\n",
    "print(fact(5))"
   ]
  },
  {
   "cell_type": "code",
   "execution_count": null,
   "id": "ba115589",
   "metadata": {},
   "outputs": [],
   "source": [
    "# Topic: Web Scraping\n",
    "import requests\n",
    "from bs4 import BeautifulSoup\n",
    "r = requests.get('https://example.com')\n",
    "soup = BeautifulSoup(r.text, 'html.parser')\n",
    "print(soup.title.text)"
   ]
  },
  {
   "cell_type": "code",
   "execution_count": null,
   "id": "1e4c6ade",
   "metadata": {},
   "outputs": [],
   "source": [
    "# Topic: Dictionaries & Sets\n",
    "s = set([1, 2, 3, 2])\n",
    "print(s)"
   ]
  },
  {
   "cell_type": "code",
   "execution_count": null,
   "id": "8d77d70c",
   "metadata": {},
   "outputs": [],
   "source": [
    "# Topic: Basic ML\n",
    "from sklearn.linear_model import LinearRegression\n",
    "model = LinearRegression()\n",
    "print(model)"
   ]
  },
  {
   "cell_type": "code",
   "execution_count": null,
   "id": "50c4790d",
   "metadata": {},
   "outputs": [],
   "source": [
    "# Topic: Data Cleaning\n",
    "import pandas as pd\n",
    "df = pd.DataFrame({'A':[1,None,3]})\n",
    "df = df.fillna(0)\n",
    "print(df)"
   ]
  },
  {
   "cell_type": "code",
   "execution_count": null,
   "id": "47590dd8",
   "metadata": {},
   "outputs": [],
   "source": [
    "# Topic: CLI Tools\n",
    "import sys\n",
    "print(f'Arguments: {sys.argv}')"
   ]
  },
  {
   "cell_type": "code",
   "execution_count": null,
   "id": "e618c865",
   "metadata": {},
   "outputs": [],
   "source": [
    "# Topic: Regex\n",
    "import re\n",
    "text = 'email: test@example.com'\n",
    "print(re.findall(r'\\S+@\\S+', text))"
   ]
  },
  {
   "cell_type": "code",
   "execution_count": null,
   "id": "69decd05",
   "metadata": {},
   "outputs": [],
   "source": [
    "# Topic: Matplotlib & Seaborn\n",
    "import matplotlib.pyplot as plt\n",
    "plt.plot([1,2],[3,4])\n",
    "plt.show()"
   ]
  },
  {
   "cell_type": "code",
   "execution_count": null,
   "id": "eaa8c36c",
   "metadata": {},
   "outputs": [],
   "source": [
    "# Topic: NumPy\n",
    "import numpy as np\n",
    "print(np.linspace(0, 1, 5))"
   ]
  },
  {
   "cell_type": "code",
   "execution_count": null,
   "id": "ed5b1452",
   "metadata": {},
   "outputs": [],
   "source": [
    "# Topic: Regex\n",
    "import re\n",
    "text = 'email: test@example.com'\n",
    "print(re.findall(r'\\S+@\\S+', text))"
   ]
  },
  {
   "cell_type": "code",
   "execution_count": null,
   "id": "71ad3861",
   "metadata": {},
   "outputs": [],
   "source": [
    "# Topic: Web Scraping\n",
    "import requests\n",
    "from bs4 import BeautifulSoup\n",
    "r = requests.get('https://example.com')\n",
    "soup = BeautifulSoup(r.text, 'html.parser')\n",
    "print(soup.title.text)"
   ]
  },
  {
   "cell_type": "code",
   "execution_count": null,
   "id": "a8b94ec3",
   "metadata": {},
   "outputs": [],
   "source": [
    "# Topic: File I/O\n",
    "with open('test.txt', 'r') as f:\n",
    "    print(f.read())"
   ]
  },
  {
   "cell_type": "code",
   "execution_count": null,
   "id": "b65d3268",
   "metadata": {},
   "outputs": [],
   "source": [
    "# Topic: Web Scraping\n",
    "import requests\n",
    "from bs4 import BeautifulSoup\n",
    "r = requests.get('https://example.com')\n",
    "soup = BeautifulSoup(r.text, 'html.parser')\n",
    "print(soup.title.text)"
   ]
  },
  {
   "cell_type": "code",
   "execution_count": null,
   "id": "aa5944bc",
   "metadata": {},
   "outputs": [],
   "source": [
    "# Topic: Lists & Tuples\n",
    "lst = [1, 2, 3]\n",
    "lst.append(4)\n",
    "print(lst)"
   ]
  },
  {
   "cell_type": "code",
   "execution_count": null,
   "id": "47e2fe77",
   "metadata": {},
   "outputs": [],
   "source": [
    "# Topic: Matplotlib & Seaborn\n",
    "import seaborn as sns\n",
    "import pandas as pd\n",
    "sns.set()\n",
    "sns.histplot(pd.Series([1,2,2,3]));"
   ]
  },
  {
   "cell_type": "code",
   "execution_count": null,
   "id": "d8019875",
   "metadata": {},
   "outputs": [],
   "source": [
    "# Topic: Regex\n",
    "import re\n",
    "text = 'email: test@example.com'\n",
    "print(re.findall(r'\\S+@\\S+', text))"
   ]
  },
  {
   "cell_type": "code",
   "execution_count": null,
   "id": "3afd0b70",
   "metadata": {},
   "outputs": [],
   "source": [
    "# Topic: OOP\n",
    "class Student:\n",
    "    def __init__(self, name): self.name = name\n",
    "s = Student('Fahd')\n",
    "print(s.name)"
   ]
  },
  {
   "cell_type": "code",
   "execution_count": null,
   "id": "0a714a26",
   "metadata": {},
   "outputs": [],
   "source": [
    "# Topic: Basic ML\n",
    "from sklearn.linear_model import LinearRegression\n",
    "model = LinearRegression()\n",
    "print(model)"
   ]
  },
  {
   "cell_type": "code",
   "execution_count": null,
   "id": "afbbbcc1",
   "metadata": {},
   "outputs": [],
   "source": [
    "# Topic: JSON & CSV\n",
    "import csv\n",
    "with open('file.csv', 'w', newline='') as f:\n",
    " csv.writer(f).writerow(['a','b','c'])"
   ]
  },
  {
   "cell_type": "code",
   "execution_count": null,
   "id": "07dc0077",
   "metadata": {},
   "outputs": [],
   "source": [
    "# Topic: Decorators\n",
    "def log(func):\n",
    " def wrapper():\n",
    "  print('Call')\n",
    "  func()\n",
    " return wrapper\n",
    "@log\n",
    "def say(): print('Hi')\n",
    "say()"
   ]
  },
  {
   "cell_type": "code",
   "execution_count": null,
   "id": "0699b23e",
   "metadata": {},
   "outputs": [],
   "source": [
    "# Topic: Web Scraping\n",
    "import requests\n",
    "from bs4 import BeautifulSoup\n",
    "r = requests.get('https://example.com')\n",
    "soup = BeautifulSoup(r.text, 'html.parser')\n",
    "print(soup.title.text)"
   ]
  },
  {
   "cell_type": "code",
   "execution_count": null,
   "id": "06b0f035",
   "metadata": {},
   "outputs": [],
   "source": [
    "# Topic: Matplotlib & Seaborn\n",
    "import matplotlib.pyplot as plt\n",
    "plt.plot([1,2],[3,4])\n",
    "plt.show()"
   ]
  },
  {
   "cell_type": "code",
   "execution_count": null,
   "id": "414e4866",
   "metadata": {},
   "outputs": [],
   "source": [
    "# Topic: Matplotlib & Seaborn\n",
    "import matplotlib.pyplot as plt\n",
    "plt.plot([1,2],[3,4])\n",
    "plt.show()"
   ]
  },
  {
   "cell_type": "code",
   "execution_count": null,
   "id": "044dcb46",
   "metadata": {},
   "outputs": [],
   "source": [
    "# Topic: Data Cleaning\n",
    "import pandas as pd\n",
    "df = pd.DataFrame({'A':[1,None,3]})\n",
    "df = df.fillna(0)\n",
    "print(df)"
   ]
  },
  {
   "cell_type": "code",
   "execution_count": null,
   "id": "a9dbb7b1",
   "metadata": {},
   "outputs": [],
   "source": [
    "# Topic: Loops\n",
    "while True:\n",
    "    print('Break')\n",
    "    break"
   ]
  },
  {
   "cell_type": "code",
   "execution_count": null,
   "id": "683ba969",
   "metadata": {},
   "outputs": [],
   "source": [
    "# Topic: Lists & Tuples\n",
    "t = (1, 2, 3)\n",
    "print(t[0])"
   ]
  },
  {
   "cell_type": "code",
   "execution_count": null,
   "id": "2fffc8ed",
   "metadata": {},
   "outputs": [],
   "source": [
    "# Topic: JSON & CSV\n",
    "import csv\n",
    "with open('file.csv', 'w', newline='') as f:\n",
    " csv.writer(f).writerow(['a','b','c'])"
   ]
  },
  {
   "cell_type": "code",
   "execution_count": null,
   "id": "6f5c89c0",
   "metadata": {},
   "outputs": [],
   "source": [
    "# Topic: Algorithms\n",
    "# Bubble sort\n",
    "def bubble(arr):\n",
    " for i in range(len(arr)):\n",
    "  for j in range(0, len(arr)-i-1):\n",
    "   if arr[j]>arr[j+1]: arr[j],arr[j+1]=arr[j+1],arr[j]\n",
    "a=[5,3,8]\n",
    "bubble(a)\n",
    "print(a)"
   ]
  },
  {
   "cell_type": "code",
   "execution_count": null,
   "id": "e3e23958",
   "metadata": {},
   "outputs": [],
   "source": [
    "# Topic: JSON & CSV\n",
    "import json\n",
    "data = {'a': 1}\n",
    "print(json.dumps(data))"
   ]
  },
  {
   "cell_type": "code",
   "execution_count": null,
   "id": "6473eede",
   "metadata": {},
   "outputs": [],
   "source": [
    "# Topic: Recursion\n",
    "def fact(n): return 1 if n==0 else n*fact(n-1)\n",
    "print(fact(5))"
   ]
  },
  {
   "cell_type": "code",
   "execution_count": null,
   "id": "fa65dddb",
   "metadata": {},
   "outputs": [],
   "source": [
    "# Topic: Web Scraping\n",
    "import requests\n",
    "from bs4 import BeautifulSoup\n",
    "r = requests.get('https://example.com')\n",
    "soup = BeautifulSoup(r.text, 'html.parser')\n",
    "print(soup.title.text)"
   ]
  },
  {
   "cell_type": "code",
   "execution_count": null,
   "id": "ac4d9f7f",
   "metadata": {},
   "outputs": [],
   "source": [
    "# Topic: OOP\n",
    "class Student:\n",
    "    def __init__(self, name): self.name = name\n",
    "s = Student('Fahd')\n",
    "print(s.name)"
   ]
  },
  {
   "cell_type": "code",
   "execution_count": null,
   "id": "b4f9bd69",
   "metadata": {},
   "outputs": [],
   "source": [
    "# Topic: Mini Projects\n",
    "# Calculator\n",
    "def calc(a,b,op): return eval(f'{a}{op}{b}')\n",
    "print(calc(5,2,'+'))"
   ]
  },
  {
   "cell_type": "code",
   "execution_count": null,
   "id": "21551e58",
   "metadata": {},
   "outputs": [],
   "source": [
    "# Topic: Matplotlib & Seaborn\n",
    "import matplotlib.pyplot as plt\n",
    "plt.plot([1,2],[3,4])\n",
    "plt.show()"
   ]
  },
  {
   "cell_type": "code",
   "execution_count": null,
   "id": "3f9626a5",
   "metadata": {},
   "outputs": [],
   "source": [
    "# Topic: JSON & CSV\n",
    "import json\n",
    "data = {'a': 1}\n",
    "print(json.dumps(data))"
   ]
  },
  {
   "cell_type": "code",
   "execution_count": null,
   "id": "47f1e535",
   "metadata": {},
   "outputs": [],
   "source": [
    "# Topic: Lists & Tuples\n",
    "t = (1, 2, 3)\n",
    "print(t[0])"
   ]
  },
  {
   "cell_type": "code",
   "execution_count": null,
   "id": "f9066611",
   "metadata": {},
   "outputs": [],
   "source": [
    "# Topic: JSON & CSV\n",
    "import json\n",
    "data = {'a': 1}\n",
    "print(json.dumps(data))"
   ]
  },
  {
   "cell_type": "code",
   "execution_count": null,
   "id": "37761fff",
   "metadata": {},
   "outputs": [],
   "source": [
    "# Topic: CLI Tools\n",
    "import sys\n",
    "print(f'Arguments: {sys.argv}')"
   ]
  },
  {
   "cell_type": "code",
   "execution_count": null,
   "id": "d62a740e",
   "metadata": {},
   "outputs": [],
   "source": [
    "# Topic: Recursion\n",
    "def fact(n): return 1 if n==0 else n*fact(n-1)\n",
    "print(fact(5))"
   ]
  },
  {
   "cell_type": "code",
   "execution_count": null,
   "id": "4d10fe2a",
   "metadata": {},
   "outputs": [],
   "source": [
    "# Topic: Basic ML\n",
    "from sklearn.linear_model import LinearRegression\n",
    "model = LinearRegression()\n",
    "print(model)"
   ]
  },
  {
   "cell_type": "code",
   "execution_count": null,
   "id": "092c7f7a",
   "metadata": {},
   "outputs": [],
   "source": [
    "# Topic: File I/O\n",
    "with open('test.txt', 'w') as f:\n",
    "    f.write('Hello World')"
   ]
  },
  {
   "cell_type": "code",
   "execution_count": null,
   "id": "50267c0e",
   "metadata": {},
   "outputs": [],
   "source": [
    "# Topic: OOP\n",
    "class Student:\n",
    "    def __init__(self, name): self.name = name\n",
    "s = Student('Fahd')\n",
    "print(s.name)"
   ]
  },
  {
   "cell_type": "code",
   "execution_count": null,
   "id": "e702925f",
   "metadata": {},
   "outputs": [],
   "source": [
    "# Topic: Matplotlib & Seaborn\n",
    "import matplotlib.pyplot as plt\n",
    "plt.plot([1,2],[3,4])\n",
    "plt.show()"
   ]
  },
  {
   "cell_type": "code",
   "execution_count": null,
   "id": "d2c4dcbc",
   "metadata": {},
   "outputs": [],
   "source": [
    "# Topic: Functions\n",
    "def square(x): return x*x\n",
    "print(square(5))"
   ]
  },
  {
   "cell_type": "code",
   "execution_count": null,
   "id": "f6dcfd38",
   "metadata": {},
   "outputs": [],
   "source": [
    "# Topic: Decorators\n",
    "def log(func):\n",
    " def wrapper():\n",
    "  print('Call')\n",
    "  func()\n",
    " return wrapper\n",
    "@log\n",
    "def say(): print('Hi')\n",
    "say()"
   ]
  },
  {
   "cell_type": "code",
   "execution_count": null,
   "id": "c8b8a0f6",
   "metadata": {},
   "outputs": [],
   "source": [
    "# Topic: Basics\n",
    "x = 10\n",
    "y = 20\n",
    "print(x + y)"
   ]
  },
  {
   "cell_type": "code",
   "execution_count": null,
   "id": "6cfd38d5",
   "metadata": {},
   "outputs": [],
   "source": [
    "# Topic: Pandas\n",
    "import pandas as pd\n",
    "df = pd.read_csv('file.csv')\n",
    "print(df.head())"
   ]
  },
  {
   "cell_type": "code",
   "execution_count": null,
   "id": "9c877f44",
   "metadata": {},
   "outputs": [],
   "source": [
    "# Topic: Regex\n",
    "import re\n",
    "text = 'email: test@example.com'\n",
    "print(re.findall(r'\\S+@\\S+', text))"
   ]
  },
  {
   "cell_type": "code",
   "execution_count": null,
   "id": "2eb676cc",
   "metadata": {},
   "outputs": [],
   "source": [
    "# Topic: Basics\n",
    "x = 10\n",
    "y = 20\n",
    "print(x + y)"
   ]
  },
  {
   "cell_type": "code",
   "execution_count": null,
   "id": "f79a01c1",
   "metadata": {},
   "outputs": [],
   "source": [
    "# Topic: Lists & Tuples\n",
    "t = (1, 2, 3)\n",
    "print(t[0])"
   ]
  },
  {
   "cell_type": "code",
   "execution_count": null,
   "id": "0a2a9505",
   "metadata": {},
   "outputs": [],
   "source": [
    "# Topic: Basics\n",
    "x = 10\n",
    "y = 20\n",
    "print(x + y)"
   ]
  },
  {
   "cell_type": "code",
   "execution_count": null,
   "id": "0eb24961",
   "metadata": {},
   "outputs": [],
   "source": [
    "# Topic: Pandas\n",
    "import pandas as pd\n",
    "df = pd.read_csv('file.csv')\n",
    "print(df.head())"
   ]
  },
  {
   "cell_type": "code",
   "execution_count": null,
   "id": "5b7e0999",
   "metadata": {},
   "outputs": [],
   "source": [
    "# Topic: OOP\n",
    "class Student:\n",
    "    def __init__(self, name): self.name = name\n",
    "s = Student('Fahd')\n",
    "print(s.name)"
   ]
  },
  {
   "cell_type": "code",
   "execution_count": null,
   "id": "0e406b8d",
   "metadata": {},
   "outputs": [],
   "source": [
    "# Topic: File I/O\n",
    "with open('test.txt', 'r') as f:\n",
    "    print(f.read())"
   ]
  },
  {
   "cell_type": "code",
   "execution_count": null,
   "id": "bf713296",
   "metadata": {},
   "outputs": [],
   "source": [
    "# Topic: Matplotlib & Seaborn\n",
    "import seaborn as sns\n",
    "import pandas as pd\n",
    "sns.set()\n",
    "sns.histplot(pd.Series([1,2,2,3]));"
   ]
  },
  {
   "cell_type": "code",
   "execution_count": null,
   "id": "e7eae791",
   "metadata": {},
   "outputs": [],
   "source": [
    "# Topic: Loops\n",
    "while True:\n",
    "    print('Break')\n",
    "    break"
   ]
  },
  {
   "cell_type": "code",
   "execution_count": null,
   "id": "a42bd606",
   "metadata": {},
   "outputs": [],
   "source": [
    "# Topic: Lists & Tuples\n",
    "lst = [1, 2, 3]\n",
    "lst.append(4)\n",
    "print(lst)"
   ]
  },
  {
   "cell_type": "code",
   "execution_count": null,
   "id": "a71c0ecb",
   "metadata": {},
   "outputs": [],
   "source": [
    "# Topic: OOP\n",
    "class Student:\n",
    "    def __init__(self, name): self.name = name\n",
    "s = Student('Fahd')\n",
    "print(s.name)"
   ]
  },
  {
   "cell_type": "code",
   "execution_count": null,
   "id": "77304019",
   "metadata": {},
   "outputs": [],
   "source": [
    "# Topic: Decorators\n",
    "def log(func):\n",
    " def wrapper():\n",
    "  print('Call')\n",
    "  func()\n",
    " return wrapper\n",
    "@log\n",
    "def say(): print('Hi')\n",
    "say()"
   ]
  },
  {
   "cell_type": "code",
   "execution_count": null,
   "id": "c65df902",
   "metadata": {},
   "outputs": [],
   "source": [
    "# Topic: Mini Projects\n",
    "# Calculator\n",
    "def calc(a,b,op): return eval(f'{a}{op}{b}')\n",
    "print(calc(5,2,'+'))"
   ]
  },
  {
   "cell_type": "code",
   "execution_count": null,
   "id": "d19d80c7",
   "metadata": {},
   "outputs": [],
   "source": [
    "# Topic: Algorithms\n",
    "# Bubble sort\n",
    "def bubble(arr):\n",
    " for i in range(len(arr)):\n",
    "  for j in range(0, len(arr)-i-1):\n",
    "   if arr[j]>arr[j+1]: arr[j],arr[j+1]=arr[j+1],arr[j]\n",
    "a=[5,3,8]\n",
    "bubble(a)\n",
    "print(a)"
   ]
  },
  {
   "cell_type": "code",
   "execution_count": null,
   "id": "da384456",
   "metadata": {},
   "outputs": [],
   "source": [
    "# Topic: Algorithms\n",
    "# Bubble sort\n",
    "def bubble(arr):\n",
    " for i in range(len(arr)):\n",
    "  for j in range(0, len(arr)-i-1):\n",
    "   if arr[j]>arr[j+1]: arr[j],arr[j+1]=arr[j+1],arr[j]\n",
    "a=[5,3,8]\n",
    "bubble(a)\n",
    "print(a)"
   ]
  },
  {
   "cell_type": "code",
   "execution_count": null,
   "id": "b21b3240",
   "metadata": {},
   "outputs": [],
   "source": [
    "# Topic: Regex\n",
    "import re\n",
    "text = 'email: test@example.com'\n",
    "print(re.findall(r'\\S+@\\S+', text))"
   ]
  },
  {
   "cell_type": "code",
   "execution_count": null,
   "id": "25f21bd5",
   "metadata": {},
   "outputs": [],
   "source": [
    "# Topic: OOP\n",
    "class Student:\n",
    "    def __init__(self, name): self.name = name\n",
    "s = Student('Fahd')\n",
    "print(s.name)"
   ]
  },
  {
   "cell_type": "code",
   "execution_count": null,
   "id": "0067900e",
   "metadata": {},
   "outputs": [],
   "source": [
    "# Topic: Algorithms\n",
    "# Bubble sort\n",
    "def bubble(arr):\n",
    " for i in range(len(arr)):\n",
    "  for j in range(0, len(arr)-i-1):\n",
    "   if arr[j]>arr[j+1]: arr[j],arr[j+1]=arr[j+1],arr[j]\n",
    "a=[5,3,8]\n",
    "bubble(a)\n",
    "print(a)"
   ]
  },
  {
   "cell_type": "code",
   "execution_count": null,
   "id": "56835256",
   "metadata": {},
   "outputs": [],
   "source": [
    "# Topic: CLI Tools\n",
    "import sys\n",
    "print(f'Arguments: {sys.argv}')"
   ]
  },
  {
   "cell_type": "code",
   "execution_count": null,
   "id": "f6506abe",
   "metadata": {},
   "outputs": [],
   "source": [
    "# Topic: Recursion\n",
    "def fact(n): return 1 if n==0 else n*fact(n-1)\n",
    "print(fact(5))"
   ]
  },
  {
   "cell_type": "code",
   "execution_count": null,
   "id": "e37958cd",
   "metadata": {},
   "outputs": [],
   "source": [
    "# Topic: Lists & Tuples\n",
    "t = (1, 2, 3)\n",
    "print(t[0])"
   ]
  },
  {
   "cell_type": "code",
   "execution_count": null,
   "id": "d090e54c",
   "metadata": {},
   "outputs": [],
   "source": [
    "# Topic: Loops\n",
    "for i in range(10): print(i*i)"
   ]
  },
  {
   "cell_type": "code",
   "execution_count": null,
   "id": "61636147",
   "metadata": {},
   "outputs": [],
   "source": [
    "# Topic: OOP\n",
    "class Student:\n",
    "    def __init__(self, name): self.name = name\n",
    "s = Student('Fahd')\n",
    "print(s.name)"
   ]
  },
  {
   "cell_type": "code",
   "execution_count": null,
   "id": "b74d4702",
   "metadata": {},
   "outputs": [],
   "source": [
    "# Topic: Pandas\n",
    "import pandas as pd\n",
    "df = pd.DataFrame({'A':[1,2],'B':[3,4]})\n",
    "print(df)"
   ]
  },
  {
   "cell_type": "code",
   "execution_count": null,
   "id": "ecda6afe",
   "metadata": {},
   "outputs": [],
   "source": [
    "# Topic: Algorithms\n",
    "# Bubble sort\n",
    "def bubble(arr):\n",
    " for i in range(len(arr)):\n",
    "  for j in range(0, len(arr)-i-1):\n",
    "   if arr[j]>arr[j+1]: arr[j],arr[j+1]=arr[j+1],arr[j]\n",
    "a=[5,3,8]\n",
    "bubble(a)\n",
    "print(a)"
   ]
  },
  {
   "cell_type": "code",
   "execution_count": null,
   "id": "a562a9da",
   "metadata": {},
   "outputs": [],
   "source": [
    "# Topic: Basics\n",
    "x = 10\n",
    "y = 20\n",
    "print(x + y)"
   ]
  },
  {
   "cell_type": "code",
   "execution_count": null,
   "id": "7f56e8a0",
   "metadata": {},
   "outputs": [],
   "source": [
    "# Topic: Basic ML\n",
    "from sklearn.linear_model import LinearRegression\n",
    "model = LinearRegression()\n",
    "print(model)"
   ]
  },
  {
   "cell_type": "code",
   "execution_count": null,
   "id": "81dca93c",
   "metadata": {},
   "outputs": [],
   "source": [
    "# Topic: Recursion\n",
    "def fact(n): return 1 if n==0 else n*fact(n-1)\n",
    "print(fact(5))"
   ]
  },
  {
   "cell_type": "code",
   "execution_count": null,
   "id": "d5fdfa31",
   "metadata": {},
   "outputs": [],
   "source": [
    "# Topic: Mini Projects\n",
    "# Calculator\n",
    "def calc(a,b,op): return eval(f'{a}{op}{b}')\n",
    "print(calc(5,2,'+'))"
   ]
  },
  {
   "cell_type": "code",
   "execution_count": null,
   "id": "1abc8d0a",
   "metadata": {},
   "outputs": [],
   "source": [
    "# Topic: Algorithms\n",
    "# Bubble sort\n",
    "def bubble(arr):\n",
    " for i in range(len(arr)):\n",
    "  for j in range(0, len(arr)-i-1):\n",
    "   if arr[j]>arr[j+1]: arr[j],arr[j+1]=arr[j+1],arr[j]\n",
    "a=[5,3,8]\n",
    "bubble(a)\n",
    "print(a)"
   ]
  },
  {
   "cell_type": "code",
   "execution_count": null,
   "id": "cfbc77b8",
   "metadata": {},
   "outputs": [],
   "source": [
    "# Topic: NumPy\n",
    "import numpy as np\n",
    "a = np.array([1, 2, 3])\n",
    "print(a + 5)"
   ]
  },
  {
   "cell_type": "code",
   "execution_count": null,
   "id": "628d939f",
   "metadata": {},
   "outputs": [],
   "source": [
    "# Topic: Pandas\n",
    "import pandas as pd\n",
    "df = pd.DataFrame({'A':[1,2],'B':[3,4]})\n",
    "print(df)"
   ]
  },
  {
   "cell_type": "code",
   "execution_count": null,
   "id": "a0c5fead",
   "metadata": {},
   "outputs": [],
   "source": [
    "# Topic: Web Scraping\n",
    "import requests\n",
    "from bs4 import BeautifulSoup\n",
    "r = requests.get('https://example.com')\n",
    "soup = BeautifulSoup(r.text, 'html.parser')\n",
    "print(soup.title.text)"
   ]
  },
  {
   "cell_type": "code",
   "execution_count": null,
   "id": "0e1f2fdd",
   "metadata": {},
   "outputs": [],
   "source": [
    "# Topic: Matplotlib & Seaborn\n",
    "import matplotlib.pyplot as plt\n",
    "plt.plot([1,2],[3,4])\n",
    "plt.show()"
   ]
  },
  {
   "cell_type": "code",
   "execution_count": null,
   "id": "5cc5b84f",
   "metadata": {},
   "outputs": [],
   "source": [
    "# Topic: Mini Projects\n",
    "# Palindrome check\n",
    "def is_pal(s): return s == s[::-1]\n",
    "print(is_pal('madam'))"
   ]
  },
  {
   "cell_type": "code",
   "execution_count": null,
   "id": "14b8d0e6",
   "metadata": {},
   "outputs": [],
   "source": [
    "# Topic: JSON & CSV\n",
    "import json\n",
    "data = {'a': 1}\n",
    "print(json.dumps(data))"
   ]
  },
  {
   "cell_type": "code",
   "execution_count": null,
   "id": "22a1a4c4",
   "metadata": {},
   "outputs": [],
   "source": [
    "# Topic: Web Scraping\n",
    "import requests\n",
    "from bs4 import BeautifulSoup\n",
    "r = requests.get('https://example.com')\n",
    "soup = BeautifulSoup(r.text, 'html.parser')\n",
    "print(soup.title.text)"
   ]
  },
  {
   "cell_type": "code",
   "execution_count": null,
   "id": "fe60ff8c",
   "metadata": {},
   "outputs": [],
   "source": [
    "# Topic: Algorithms\n",
    "# Bubble sort\n",
    "def bubble(arr):\n",
    " for i in range(len(arr)):\n",
    "  for j in range(0, len(arr)-i-1):\n",
    "   if arr[j]>arr[j+1]: arr[j],arr[j+1]=arr[j+1],arr[j]\n",
    "a=[5,3,8]\n",
    "bubble(a)\n",
    "print(a)"
   ]
  },
  {
   "cell_type": "code",
   "execution_count": null,
   "id": "dd33ab46",
   "metadata": {},
   "outputs": [],
   "source": [
    "# Topic: JSON & CSV\n",
    "import csv\n",
    "with open('file.csv', 'w', newline='') as f:\n",
    " csv.writer(f).writerow(['a','b','c'])"
   ]
  },
  {
   "cell_type": "code",
   "execution_count": null,
   "id": "d2de97ca",
   "metadata": {},
   "outputs": [],
   "source": [
    "# Topic: JSON & CSV\n",
    "import csv\n",
    "with open('file.csv', 'w', newline='') as f:\n",
    " csv.writer(f).writerow(['a','b','c'])"
   ]
  },
  {
   "cell_type": "code",
   "execution_count": null,
   "id": "c21bce83",
   "metadata": {},
   "outputs": [],
   "source": [
    "# Topic: Pandas\n",
    "import pandas as pd\n",
    "df = pd.DataFrame({'A':[1,2],'B':[3,4]})\n",
    "print(df)"
   ]
  },
  {
   "cell_type": "code",
   "execution_count": null,
   "id": "11eba31a",
   "metadata": {},
   "outputs": [],
   "source": [
    "# Topic: Basic ML\n",
    "from sklearn.linear_model import LinearRegression\n",
    "model = LinearRegression()\n",
    "print(model)"
   ]
  },
  {
   "cell_type": "code",
   "execution_count": null,
   "id": "e9589c41",
   "metadata": {},
   "outputs": [],
   "source": [
    "# Topic: Decorators\n",
    "def log(func):\n",
    " def wrapper():\n",
    "  print('Call')\n",
    "  func()\n",
    " return wrapper\n",
    "@log\n",
    "def say(): print('Hi')\n",
    "say()"
   ]
  },
  {
   "cell_type": "code",
   "execution_count": null,
   "id": "f07e81de",
   "metadata": {},
   "outputs": [],
   "source": [
    "# Topic: Pandas\n",
    "import pandas as pd\n",
    "df = pd.DataFrame({'A':[1,2],'B':[3,4]})\n",
    "print(df)"
   ]
  },
  {
   "cell_type": "code",
   "execution_count": null,
   "id": "4dc15b93",
   "metadata": {},
   "outputs": [],
   "source": [
    "# Topic: Basics\n",
    "x = 10\n",
    "y = 20\n",
    "print(x + y)"
   ]
  },
  {
   "cell_type": "code",
   "execution_count": null,
   "id": "06242346",
   "metadata": {},
   "outputs": [],
   "source": [
    "# Topic: CLI Tools\n",
    "import sys\n",
    "print(f'Arguments: {sys.argv}')"
   ]
  },
  {
   "cell_type": "code",
   "execution_count": null,
   "id": "676e0f41",
   "metadata": {},
   "outputs": [],
   "source": [
    "# Topic: Matplotlib & Seaborn\n",
    "import seaborn as sns\n",
    "import pandas as pd\n",
    "sns.set()\n",
    "sns.histplot(pd.Series([1,2,2,3]));"
   ]
  },
  {
   "cell_type": "code",
   "execution_count": null,
   "id": "d4873492",
   "metadata": {},
   "outputs": [],
   "source": [
    "# Topic: Basic ML\n",
    "from sklearn.linear_model import LinearRegression\n",
    "model = LinearRegression()\n",
    "print(model)"
   ]
  },
  {
   "cell_type": "code",
   "execution_count": null,
   "id": "9ef34786",
   "metadata": {},
   "outputs": [],
   "source": [
    "# Topic: Dictionaries & Sets\n",
    "d = {'name': 'Fahd', 'age': 20}\n",
    "print(d.get('name'))"
   ]
  },
  {
   "cell_type": "code",
   "execution_count": null,
   "id": "f79f6e7c",
   "metadata": {},
   "outputs": [],
   "source": [
    "# Topic: Pandas\n",
    "import pandas as pd\n",
    "df = pd.read_csv('file.csv')\n",
    "print(df.head())"
   ]
  },
  {
   "cell_type": "code",
   "execution_count": null,
   "id": "0c301df7",
   "metadata": {},
   "outputs": [],
   "source": [
    "# Topic: Recursion\n",
    "def fact(n): return 1 if n==0 else n*fact(n-1)\n",
    "print(fact(5))"
   ]
  },
  {
   "cell_type": "code",
   "execution_count": null,
   "id": "9518ef3c",
   "metadata": {},
   "outputs": [],
   "source": [
    "# Topic: Basic ML\n",
    "from sklearn.linear_model import LinearRegression\n",
    "model = LinearRegression()\n",
    "print(model)"
   ]
  },
  {
   "cell_type": "code",
   "execution_count": null,
   "id": "e4c08906",
   "metadata": {},
   "outputs": [],
   "source": [
    "# Topic: Basics\n",
    "x = 10\n",
    "y = 20\n",
    "print(x + y)"
   ]
  },
  {
   "cell_type": "code",
   "execution_count": null,
   "id": "fb62f3e7",
   "metadata": {},
   "outputs": [],
   "source": [
    "# Topic: Matplotlib & Seaborn\n",
    "import seaborn as sns\n",
    "import pandas as pd\n",
    "sns.set()\n",
    "sns.histplot(pd.Series([1,2,2,3]));"
   ]
  },
  {
   "cell_type": "code",
   "execution_count": null,
   "id": "a64a4970",
   "metadata": {},
   "outputs": [],
   "source": [
    "# Topic: Algorithms\n",
    "# Bubble sort\n",
    "def bubble(arr):\n",
    " for i in range(len(arr)):\n",
    "  for j in range(0, len(arr)-i-1):\n",
    "   if arr[j]>arr[j+1]: arr[j],arr[j+1]=arr[j+1],arr[j]\n",
    "a=[5,3,8]\n",
    "bubble(a)\n",
    "print(a)"
   ]
  },
  {
   "cell_type": "code",
   "execution_count": null,
   "id": "24341e2c",
   "metadata": {},
   "outputs": [],
   "source": [
    "# Topic: Loops\n",
    "while True:\n",
    "    print('Break')\n",
    "    break"
   ]
  },
  {
   "cell_type": "code",
   "execution_count": null,
   "id": "835898f4",
   "metadata": {},
   "outputs": [],
   "source": [
    "# Topic: JSON & CSV\n",
    "import csv\n",
    "with open('file.csv', 'w', newline='') as f:\n",
    " csv.writer(f).writerow(['a','b','c'])"
   ]
  }
 ],
 "metadata": {},
 "nbformat": 4,
 "nbformat_minor": 5
}
