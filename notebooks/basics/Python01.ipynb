{
 "cells": [
  {
   "cell_type": "code",
   "execution_count": null,
   "id": "d4098fd5",
   "metadata": {},
   "outputs": [],
   "source": [
    "# Topic: Lists & Tuples\n",
    "nums = [1,2,3]\n",
    "nums.append(4)\n",
    "print(nums)"
   ]
  },
  {
   "cell_type": "code",
   "execution_count": null,
   "id": "66432168",
   "metadata": {},
   "outputs": [],
   "source": [
    "# Topic: Web Scraping\n",
    "import requests\n",
    "from bs4 import BeautifulSoup\n",
    "r = requests.get('https://example.com')\n",
    "soup = BeautifulSoup(r.text, 'html.parser')\n",
    "print(soup.title.string)"
   ]
  },
  {
   "cell_type": "code",
   "execution_count": null,
   "id": "3a0a13e8",
   "metadata": {},
   "outputs": [],
   "source": [
    "# Topic: NumPy\n",
    "import numpy as np\n",
    "a = np.array([1,2,3])\n",
    "print(a * 2)"
   ]
  },
  {
   "cell_type": "code",
   "execution_count": null,
   "id": "b7d6279b",
   "metadata": {},
   "outputs": [],
   "source": [
    "# Topic: Loops\n",
    "i = 0\n",
    "while i < 5:\n",
    "    print(i)\n",
    "    i += 1"
   ]
  },
  {
   "cell_type": "code",
   "execution_count": null,
   "id": "e5401c60",
   "metadata": {},
   "outputs": [],
   "source": [
    "# Topic: Dictionaries & Sets\n",
    "s = {1,2,3}\n",
    "s.add(4)\n",
    "print(s)"
   ]
  },
  {
   "cell_type": "code",
   "execution_count": null,
   "id": "7117dba1",
   "metadata": {},
   "outputs": [],
   "source": [
    "# Topic: Exceptions\n",
    "try:\n",
    "    print(10/0)\n",
    "except ZeroDivisionError:\n",
    "    print('Cannot divide by zero')"
   ]
  },
  {
   "cell_type": "code",
   "execution_count": null,
   "id": "9d55480d",
   "metadata": {},
   "outputs": [],
   "source": [
    "# Topic: Pandas\n",
    "import pandas as pd\n",
    "df = pd.read_csv('data.csv')\n",
    "print(df.head())"
   ]
  },
  {
   "cell_type": "code",
   "execution_count": null,
   "id": "30a2fd25",
   "metadata": {},
   "outputs": [],
   "source": [
    "# Topic: Pandas\n",
    "import pandas as pd\n",
    "df = pd.DataFrame({'A':[1,2],'B':[3,4]})\n",
    "print(df)"
   ]
  },
  {
   "cell_type": "code",
   "execution_count": null,
   "id": "d74527a3",
   "metadata": {},
   "outputs": [],
   "source": [
    "# Topic: Matplotlib\n",
    "import matplotlib.pyplot as plt\n",
    "plt.bar(['A','B'], [10,20])\n",
    "plt.show()"
   ]
  },
  {
   "cell_type": "code",
   "execution_count": null,
   "id": "56b130cf",
   "metadata": {},
   "outputs": [],
   "source": [
    "# Topic: Pandas\n",
    "import pandas as pd\n",
    "df = pd.DataFrame({'A':[1,2],'B':[3,4]})\n",
    "print(df)"
   ]
  },
  {
   "cell_type": "code",
   "execution_count": null,
   "id": "9219534e",
   "metadata": {},
   "outputs": [],
   "source": [
    "# Topic: Matplotlib\n",
    "import matplotlib.pyplot as plt\n",
    "plt.bar(['A','B'], [10,20])\n",
    "plt.show()"
   ]
  },
  {
   "cell_type": "code",
   "execution_count": null,
   "id": "2ea7c1bf",
   "metadata": {},
   "outputs": [],
   "source": [
    "# Topic: Web Scraping\n",
    "import requests\n",
    "from bs4 import BeautifulSoup\n",
    "r = requests.get('https://example.com')\n",
    "soup = BeautifulSoup(r.text, 'html.parser')\n",
    "print(soup.title.string)"
   ]
  },
  {
   "cell_type": "code",
   "execution_count": null,
   "id": "458c5a99",
   "metadata": {},
   "outputs": [],
   "source": [
    "# Topic: Exceptions\n",
    "try:\n",
    "    print(10/0)\n",
    "except ZeroDivisionError:\n",
    "    print('Cannot divide by zero')"
   ]
  },
  {
   "cell_type": "code",
   "execution_count": null,
   "id": "504702e9",
   "metadata": {},
   "outputs": [],
   "source": [
    "# Topic: Basics\n",
    "x = 7\n",
    "print('Odd' if x % 2 else 'Even')"
   ]
  },
  {
   "cell_type": "code",
   "execution_count": null,
   "id": "cc3b0c10",
   "metadata": {},
   "outputs": [],
   "source": [
    "# Topic: Basics\n",
    "x = 7\n",
    "print('Odd' if x % 2 else 'Even')"
   ]
  },
  {
   "cell_type": "code",
   "execution_count": null,
   "id": "86ac1fab",
   "metadata": {},
   "outputs": [],
   "source": [
    "# Topic: Decorators\n",
    "def decorator(fn):\n",
    "    def wrapper():\n",
    "        print('Before')\n",
    "        fn()\n",
    "        print('After')\n",
    "    return wrapper\n",
    "@decorator\n",
    "def say(): print('Hi')\n",
    "say()"
   ]
  },
  {
   "cell_type": "code",
   "execution_count": null,
   "id": "3d9b59f1",
   "metadata": {},
   "outputs": [],
   "source": [
    "# Topic: Pandas\n",
    "import pandas as pd\n",
    "df = pd.read_csv('data.csv')\n",
    "print(df.head())"
   ]
  },
  {
   "cell_type": "code",
   "execution_count": null,
   "id": "f600591b",
   "metadata": {},
   "outputs": [],
   "source": [
    "# Topic: Recursion\n",
    "def fib(n):\n",
    "    if n <= 1: return n\n",
    "    return fib(n-1) + fib(n-2)\n",
    "print(fib(5))"
   ]
  },
  {
   "cell_type": "code",
   "execution_count": null,
   "id": "f16bd0ec",
   "metadata": {},
   "outputs": [],
   "source": [
    "# Topic: Recursion\n",
    "def fib(n):\n",
    "    if n <= 1: return n\n",
    "    return fib(n-1) + fib(n-2)\n",
    "print(fib(5))"
   ]
  },
  {
   "cell_type": "code",
   "execution_count": null,
   "id": "b1e5fe45",
   "metadata": {},
   "outputs": [],
   "source": [
    "# Topic: Pandas\n",
    "import pandas as pd\n",
    "df = pd.DataFrame({'A':[1,2],'B':[3,4]})\n",
    "print(df)"
   ]
  },
  {
   "cell_type": "code",
   "execution_count": null,
   "id": "b50e2ca2",
   "metadata": {},
   "outputs": [],
   "source": [
    "# Topic: File I/O\n",
    "with open('sample.txt') as f:\n",
    "    print(f.read())"
   ]
  },
  {
   "cell_type": "code",
   "execution_count": null,
   "id": "f8cb1964",
   "metadata": {},
   "outputs": [],
   "source": [
    "# Topic: Matplotlib\n",
    "import matplotlib.pyplot as plt\n",
    "plt.bar(['A','B'], [10,20])\n",
    "plt.show()"
   ]
  },
  {
   "cell_type": "code",
   "execution_count": null,
   "id": "cfa1d124",
   "metadata": {},
   "outputs": [],
   "source": [
    "# Topic: Loops\n",
    "i = 0\n",
    "while i < 5:\n",
    "    print(i)\n",
    "    i += 1"
   ]
  },
  {
   "cell_type": "code",
   "execution_count": null,
   "id": "4d1a801e",
   "metadata": {},
   "outputs": [],
   "source": [
    "# Topic: Matplotlib\n",
    "import matplotlib.pyplot as plt\n",
    "plt.plot([1,2],[3,4])\n",
    "plt.show()"
   ]
  },
  {
   "cell_type": "code",
   "execution_count": null,
   "id": "eeb7b67a",
   "metadata": {},
   "outputs": [],
   "source": [
    "# Topic: Decorators\n",
    "def decorator(fn):\n",
    "    def wrapper():\n",
    "        print('Before')\n",
    "        fn()\n",
    "        print('After')\n",
    "    return wrapper\n",
    "@decorator\n",
    "def say(): print('Hi')\n",
    "say()"
   ]
  },
  {
   "cell_type": "code",
   "execution_count": null,
   "id": "c2ebfcf1",
   "metadata": {},
   "outputs": [],
   "source": [
    "# Topic: Pandas\n",
    "import pandas as pd\n",
    "df = pd.read_csv('data.csv')\n",
    "print(df.head())"
   ]
  },
  {
   "cell_type": "code",
   "execution_count": null,
   "id": "6500c3aa",
   "metadata": {},
   "outputs": [],
   "source": [
    "# Topic: Matplotlib\n",
    "import matplotlib.pyplot as plt\n",
    "plt.plot([1,2],[3,4])\n",
    "plt.show()"
   ]
  },
  {
   "cell_type": "code",
   "execution_count": null,
   "id": "fdef967b",
   "metadata": {},
   "outputs": [],
   "source": [
    "# Topic: Exceptions\n",
    "try:\n",
    "    print(10/0)\n",
    "except ZeroDivisionError:\n",
    "    print('Cannot divide by zero')"
   ]
  },
  {
   "cell_type": "code",
   "execution_count": null,
   "id": "0a352868",
   "metadata": {},
   "outputs": [],
   "source": [
    "# Topic: Mini Projects\n",
    "# Palindrome checker\n",
    "def is_palindrome(s):\n",
    " return s == s[::-1]\n",
    "print(is_palindrome('madam'))"
   ]
  },
  {
   "cell_type": "code",
   "execution_count": null,
   "id": "02f04765",
   "metadata": {},
   "outputs": [],
   "source": [
    "# Topic: Exceptions\n",
    "try:\n",
    "    print(10/0)\n",
    "except ZeroDivisionError:\n",
    "    print('Cannot divide by zero')"
   ]
  },
  {
   "cell_type": "code",
   "execution_count": null,
   "id": "e6ee57d8",
   "metadata": {},
   "outputs": [],
   "source": [
    "# Topic: Recursion\n",
    "def fib(n):\n",
    "    if n <= 1: return n\n",
    "    return fib(n-1) + fib(n-2)\n",
    "print(fib(5))"
   ]
  },
  {
   "cell_type": "code",
   "execution_count": null,
   "id": "0d6252d0",
   "metadata": {},
   "outputs": [],
   "source": [
    "# Topic: Dictionaries & Sets\n",
    "s = {1,2,3}\n",
    "s.add(4)\n",
    "print(s)"
   ]
  },
  {
   "cell_type": "code",
   "execution_count": null,
   "id": "7c2fc149",
   "metadata": {},
   "outputs": [],
   "source": [
    "# Topic: Web Scraping\n",
    "import requests\n",
    "from bs4 import BeautifulSoup\n",
    "r = requests.get('https://example.com')\n",
    "soup = BeautifulSoup(r.text, 'html.parser')\n",
    "print(soup.title.string)"
   ]
  },
  {
   "cell_type": "code",
   "execution_count": null,
   "id": "e435a104",
   "metadata": {},
   "outputs": [],
   "source": [
    "# Topic: Recursion\n",
    "def fib(n):\n",
    "    if n <= 1: return n\n",
    "    return fib(n-1) + fib(n-2)\n",
    "print(fib(5))"
   ]
  },
  {
   "cell_type": "code",
   "execution_count": null,
   "id": "e97b3287",
   "metadata": {},
   "outputs": [],
   "source": [
    "# Topic: File I/O\n",
    "with open('sample.txt', 'w') as f:\n",
    "    f.write('Hello World')"
   ]
  },
  {
   "cell_type": "code",
   "execution_count": null,
   "id": "5aeb1e59",
   "metadata": {},
   "outputs": [],
   "source": [
    "# Topic: Lists & Tuples\n",
    "nums = [1,2,3]\n",
    "nums.append(4)\n",
    "print(nums)"
   ]
  },
  {
   "cell_type": "code",
   "execution_count": null,
   "id": "600b7fef",
   "metadata": {},
   "outputs": [],
   "source": [
    "# Topic: Recursion\n",
    "def fib(n):\n",
    "    if n <= 1: return n\n",
    "    return fib(n-1) + fib(n-2)\n",
    "print(fib(5))"
   ]
  },
  {
   "cell_type": "code",
   "execution_count": null,
   "id": "75323895",
   "metadata": {},
   "outputs": [],
   "source": [
    "# Topic: NumPy\n",
    "import numpy as np\n",
    "a = np.array([1,2,3])\n",
    "print(a * 2)"
   ]
  },
  {
   "cell_type": "code",
   "execution_count": null,
   "id": "8cdb89c2",
   "metadata": {},
   "outputs": [],
   "source": [
    "# Topic: Web Scraping\n",
    "import requests\n",
    "from bs4 import BeautifulSoup\n",
    "r = requests.get('https://example.com')\n",
    "soup = BeautifulSoup(r.text, 'html.parser')\n",
    "print(soup.title.string)"
   ]
  },
  {
   "cell_type": "code",
   "execution_count": null,
   "id": "48d5a188",
   "metadata": {},
   "outputs": [],
   "source": [
    "# Topic: Matplotlib\n",
    "import matplotlib.pyplot as plt\n",
    "plt.plot([1,2],[3,4])\n",
    "plt.show()"
   ]
  },
  {
   "cell_type": "code",
   "execution_count": null,
   "id": "d0da5737",
   "metadata": {},
   "outputs": [],
   "source": [
    "# Topic: Loops\n",
    "for i in range(10): print(i*i)"
   ]
  },
  {
   "cell_type": "code",
   "execution_count": null,
   "id": "414ccfad",
   "metadata": {},
   "outputs": [],
   "source": [
    "# Topic: Lists & Tuples\n",
    "t = (1,2,3)\n",
    "print(t[1])"
   ]
  },
  {
   "cell_type": "code",
   "execution_count": null,
   "id": "91a4dbf0",
   "metadata": {},
   "outputs": [],
   "source": [
    "# Topic: Matplotlib\n",
    "import matplotlib.pyplot as plt\n",
    "plt.plot([1,2],[3,4])\n",
    "plt.show()"
   ]
  },
  {
   "cell_type": "code",
   "execution_count": null,
   "id": "8dc548ee",
   "metadata": {},
   "outputs": [],
   "source": [
    "# Topic: Loops\n",
    "i = 0\n",
    "while i < 5:\n",
    "    print(i)\n",
    "    i += 1"
   ]
  },
  {
   "cell_type": "code",
   "execution_count": null,
   "id": "56ece014",
   "metadata": {},
   "outputs": [],
   "source": [
    "# Topic: Functions\n",
    "def factorial(n):\n",
    "    return 1 if n==0 else n * factorial(n-1)\n",
    "print(factorial(5))"
   ]
  },
  {
   "cell_type": "code",
   "execution_count": null,
   "id": "7565dd43",
   "metadata": {},
   "outputs": [],
   "source": [
    "# Topic: Pandas\n",
    "import pandas as pd\n",
    "df = pd.DataFrame({'A':[1,2],'B':[3,4]})\n",
    "print(df)"
   ]
  },
  {
   "cell_type": "code",
   "execution_count": null,
   "id": "3dcf5718",
   "metadata": {},
   "outputs": [],
   "source": [
    "# Topic: Basics\n",
    "x = 7\n",
    "print('Odd' if x % 2 else 'Even')"
   ]
  },
  {
   "cell_type": "code",
   "execution_count": null,
   "id": "f8a1d3cf",
   "metadata": {},
   "outputs": [],
   "source": [
    "# Topic: Classes & Objects\n",
    "class Dog:\n",
    "    def bark(self):\n",
    "        print('Woof!')\n",
    "d = Dog()\n",
    "d.bark()"
   ]
  },
  {
   "cell_type": "code",
   "execution_count": null,
   "id": "d4cdd9dc",
   "metadata": {},
   "outputs": [],
   "source": [
    "# Topic: Lists & Tuples\n",
    "nums = [1,2,3]\n",
    "nums.append(4)\n",
    "print(nums)"
   ]
  },
  {
   "cell_type": "code",
   "execution_count": null,
   "id": "5ff0f80f",
   "metadata": {},
   "outputs": [],
   "source": [
    "# Topic: File I/O\n",
    "with open('sample.txt') as f:\n",
    "    print(f.read())"
   ]
  },
  {
   "cell_type": "code",
   "execution_count": null,
   "id": "26bfb1f5",
   "metadata": {},
   "outputs": [],
   "source": [
    "# Topic: Matplotlib\n",
    "import matplotlib.pyplot as plt\n",
    "plt.plot([1,2],[3,4])\n",
    "plt.show()"
   ]
  },
  {
   "cell_type": "code",
   "execution_count": null,
   "id": "9fd8a7b4",
   "metadata": {},
   "outputs": [],
   "source": [
    "# Topic: Decorators\n",
    "def decorator(fn):\n",
    "    def wrapper():\n",
    "        print('Before')\n",
    "        fn()\n",
    "        print('After')\n",
    "    return wrapper\n",
    "@decorator\n",
    "def say(): print('Hi')\n",
    "say()"
   ]
  },
  {
   "cell_type": "code",
   "execution_count": null,
   "id": "1619a34a",
   "metadata": {},
   "outputs": [],
   "source": [
    "# Topic: Lists & Tuples\n",
    "nums = [1,2,3]\n",
    "nums.append(4)\n",
    "print(nums)"
   ]
  },
  {
   "cell_type": "code",
   "execution_count": null,
   "id": "8c7444a1",
   "metadata": {},
   "outputs": [],
   "source": [
    "# Topic: Lists & Tuples\n",
    "t = (1,2,3)\n",
    "print(t[1])"
   ]
  },
  {
   "cell_type": "code",
   "execution_count": null,
   "id": "0a39c91c",
   "metadata": {},
   "outputs": [],
   "source": [
    "# Topic: Mini Projects\n",
    "# Simple calculator\n",
    "def calc(a,b,op):\n",
    " if op=='+': return a+b\n",
    " elif op=='-': return a-b\n",
    "print(calc(10,5,'+'))"
   ]
  },
  {
   "cell_type": "code",
   "execution_count": null,
   "id": "56a3f39e",
   "metadata": {},
   "outputs": [],
   "source": [
    "# Topic: Pandas\n",
    "import pandas as pd\n",
    "df = pd.DataFrame({'A':[1,2],'B':[3,4]})\n",
    "print(df)"
   ]
  },
  {
   "cell_type": "code",
   "execution_count": null,
   "id": "649b8395",
   "metadata": {},
   "outputs": [],
   "source": [
    "# Topic: Functions\n",
    "def factorial(n):\n",
    "    return 1 if n==0 else n * factorial(n-1)\n",
    "print(factorial(5))"
   ]
  },
  {
   "cell_type": "code",
   "execution_count": null,
   "id": "5768f166",
   "metadata": {},
   "outputs": [],
   "source": [
    "# Topic: Pandas\n",
    "import pandas as pd\n",
    "df = pd.read_csv('data.csv')\n",
    "print(df.head())"
   ]
  },
  {
   "cell_type": "code",
   "execution_count": null,
   "id": "80c61431",
   "metadata": {},
   "outputs": [],
   "source": [
    "# Topic: Lists & Tuples\n",
    "nums = [1,2,3]\n",
    "nums.append(4)\n",
    "print(nums)"
   ]
  },
  {
   "cell_type": "code",
   "execution_count": null,
   "id": "3ed7c972",
   "metadata": {},
   "outputs": [],
   "source": [
    "# Topic: Loops\n",
    "i = 0\n",
    "while i < 5:\n",
    "    print(i)\n",
    "    i += 1"
   ]
  },
  {
   "cell_type": "code",
   "execution_count": null,
   "id": "f8c7816c",
   "metadata": {},
   "outputs": [],
   "source": [
    "# Topic: Matplotlib\n",
    "import matplotlib.pyplot as plt\n",
    "plt.plot([1,2],[3,4])\n",
    "plt.show()"
   ]
  },
  {
   "cell_type": "code",
   "execution_count": null,
   "id": "301264f1",
   "metadata": {},
   "outputs": [],
   "source": [
    "# Topic: Matplotlib\n",
    "import matplotlib.pyplot as plt\n",
    "plt.bar(['A','B'], [10,20])\n",
    "plt.show()"
   ]
  },
  {
   "cell_type": "code",
   "execution_count": null,
   "id": "11344a4b",
   "metadata": {},
   "outputs": [],
   "source": [
    "# Topic: Matplotlib\n",
    "import matplotlib.pyplot as plt\n",
    "plt.bar(['A','B'], [10,20])\n",
    "plt.show()"
   ]
  },
  {
   "cell_type": "code",
   "execution_count": null,
   "id": "fb0b038a",
   "metadata": {},
   "outputs": [],
   "source": [
    "# Topic: Basics\n",
    "name = 'Fahd'\n",
    "print(f'Welcome, {name}')"
   ]
  },
  {
   "cell_type": "code",
   "execution_count": null,
   "id": "4afe2bb9",
   "metadata": {},
   "outputs": [],
   "source": [
    "# Topic: Pandas\n",
    "import pandas as pd\n",
    "df = pd.DataFrame({'A':[1,2],'B':[3,4]})\n",
    "print(df)"
   ]
  },
  {
   "cell_type": "code",
   "execution_count": null,
   "id": "a35c1b62",
   "metadata": {},
   "outputs": [],
   "source": [
    "# Topic: Matplotlib\n",
    "import matplotlib.pyplot as plt\n",
    "plt.bar(['A','B'], [10,20])\n",
    "plt.show()"
   ]
  },
  {
   "cell_type": "code",
   "execution_count": null,
   "id": "ed6bb153",
   "metadata": {},
   "outputs": [],
   "source": [
    "# Topic: Classes & Objects\n",
    "class Dog:\n",
    "    def bark(self):\n",
    "        print('Woof!')\n",
    "d = Dog()\n",
    "d.bark()"
   ]
  },
  {
   "cell_type": "code",
   "execution_count": null,
   "id": "80a57889",
   "metadata": {},
   "outputs": [],
   "source": [
    "# Topic: Lists & Tuples\n",
    "t = (1,2,3)\n",
    "print(t[1])"
   ]
  },
  {
   "cell_type": "code",
   "execution_count": null,
   "id": "7474ec7f",
   "metadata": {},
   "outputs": [],
   "source": [
    "# Topic: Dictionaries & Sets\n",
    "s = {1,2,3}\n",
    "s.add(4)\n",
    "print(s)"
   ]
  },
  {
   "cell_type": "code",
   "execution_count": null,
   "id": "08324d0b",
   "metadata": {},
   "outputs": [],
   "source": [
    "# Topic: NumPy\n",
    "import numpy as np\n",
    "a = np.array([1,2,3])\n",
    "print(a * 2)"
   ]
  },
  {
   "cell_type": "code",
   "execution_count": null,
   "id": "39999ef1",
   "metadata": {},
   "outputs": [],
   "source": [
    "# Topic: Functions\n",
    "def factorial(n):\n",
    "    return 1 if n==0 else n * factorial(n-1)\n",
    "print(factorial(5))"
   ]
  },
  {
   "cell_type": "code",
   "execution_count": null,
   "id": "448fec9f",
   "metadata": {},
   "outputs": [],
   "source": [
    "# Topic: NumPy\n",
    "import numpy as np\n",
    "print(np.arange(0, 10, 2))"
   ]
  },
  {
   "cell_type": "code",
   "execution_count": null,
   "id": "d2058923",
   "metadata": {},
   "outputs": [],
   "source": [
    "# Topic: Exceptions\n",
    "try:\n",
    "    print(10/0)\n",
    "except ZeroDivisionError:\n",
    "    print('Cannot divide by zero')"
   ]
  },
  {
   "cell_type": "code",
   "execution_count": null,
   "id": "ecda8536",
   "metadata": {},
   "outputs": [],
   "source": [
    "# Topic: Loops\n",
    "i = 0\n",
    "while i < 5:\n",
    "    print(i)\n",
    "    i += 1"
   ]
  },
  {
   "cell_type": "code",
   "execution_count": null,
   "id": "f003e3a7",
   "metadata": {},
   "outputs": [],
   "source": [
    "# Topic: Dictionaries & Sets\n",
    "d = {'a':1, 'b':2}\n",
    "print(d['a'])"
   ]
  },
  {
   "cell_type": "code",
   "execution_count": null,
   "id": "d97765ef",
   "metadata": {},
   "outputs": [],
   "source": [
    "# Topic: Mini Projects\n",
    "# Simple calculator\n",
    "def calc(a,b,op):\n",
    " if op=='+': return a+b\n",
    " elif op=='-': return a-b\n",
    "print(calc(10,5,'+'))"
   ]
  },
  {
   "cell_type": "code",
   "execution_count": null,
   "id": "345992d1",
   "metadata": {},
   "outputs": [],
   "source": [
    "# Topic: Matplotlib\n",
    "import matplotlib.pyplot as plt\n",
    "plt.bar(['A','B'], [10,20])\n",
    "plt.show()"
   ]
  },
  {
   "cell_type": "code",
   "execution_count": null,
   "id": "4be81b29",
   "metadata": {},
   "outputs": [],
   "source": [
    "# Topic: Mini Projects\n",
    "# Simple calculator\n",
    "def calc(a,b,op):\n",
    " if op=='+': return a+b\n",
    " elif op=='-': return a-b\n",
    "print(calc(10,5,'+'))"
   ]
  },
  {
   "cell_type": "code",
   "execution_count": null,
   "id": "9886cf05",
   "metadata": {},
   "outputs": [],
   "source": [
    "# Topic: Classes & Objects\n",
    "class Dog:\n",
    "    def bark(self):\n",
    "        print('Woof!')\n",
    "d = Dog()\n",
    "d.bark()"
   ]
  },
  {
   "cell_type": "code",
   "execution_count": null,
   "id": "1732c0c0",
   "metadata": {},
   "outputs": [],
   "source": [
    "# Topic: Matplotlib\n",
    "import matplotlib.pyplot as plt\n",
    "plt.plot([1,2],[3,4])\n",
    "plt.show()"
   ]
  },
  {
   "cell_type": "code",
   "execution_count": null,
   "id": "deedade8",
   "metadata": {},
   "outputs": [],
   "source": [
    "# Topic: Basics\n",
    "x = 7\n",
    "print('Odd' if x % 2 else 'Even')"
   ]
  },
  {
   "cell_type": "code",
   "execution_count": null,
   "id": "14e55540",
   "metadata": {},
   "outputs": [],
   "source": [
    "# Topic: File I/O\n",
    "with open('sample.txt', 'w') as f:\n",
    "    f.write('Hello World')"
   ]
  },
  {
   "cell_type": "code",
   "execution_count": null,
   "id": "aa992f17",
   "metadata": {},
   "outputs": [],
   "source": [
    "# Topic: Matplotlib\n",
    "import matplotlib.pyplot as plt\n",
    "plt.bar(['A','B'], [10,20])\n",
    "plt.show()"
   ]
  },
  {
   "cell_type": "code",
   "execution_count": null,
   "id": "2456b13f",
   "metadata": {},
   "outputs": [],
   "source": [
    "# Topic: Recursion\n",
    "def fib(n):\n",
    "    if n <= 1: return n\n",
    "    return fib(n-1) + fib(n-2)\n",
    "print(fib(5))"
   ]
  },
  {
   "cell_type": "code",
   "execution_count": null,
   "id": "22980a95",
   "metadata": {},
   "outputs": [],
   "source": [
    "# Topic: Lists & Tuples\n",
    "t = (1,2,3)\n",
    "print(t[1])"
   ]
  },
  {
   "cell_type": "code",
   "execution_count": null,
   "id": "27ce798f",
   "metadata": {},
   "outputs": [],
   "source": [
    "# Topic: Classes & Objects\n",
    "class Dog:\n",
    "    def bark(self):\n",
    "        print('Woof!')\n",
    "d = Dog()\n",
    "d.bark()"
   ]
  },
  {
   "cell_type": "code",
   "execution_count": null,
   "id": "16428d65",
   "metadata": {},
   "outputs": [],
   "source": [
    "# Topic: Dictionaries & Sets\n",
    "s = {1,2,3}\n",
    "s.add(4)\n",
    "print(s)"
   ]
  },
  {
   "cell_type": "code",
   "execution_count": null,
   "id": "72ab1e05",
   "metadata": {},
   "outputs": [],
   "source": [
    "# Topic: Exceptions\n",
    "try:\n",
    "    print(10/0)\n",
    "except ZeroDivisionError:\n",
    "    print('Cannot divide by zero')"
   ]
  },
  {
   "cell_type": "code",
   "execution_count": null,
   "id": "b22651b2",
   "metadata": {},
   "outputs": [],
   "source": [
    "# Topic: Recursion\n",
    "def fib(n):\n",
    "    if n <= 1: return n\n",
    "    return fib(n-1) + fib(n-2)\n",
    "print(fib(5))"
   ]
  },
  {
   "cell_type": "code",
   "execution_count": null,
   "id": "2fbd4fa2",
   "metadata": {},
   "outputs": [],
   "source": [
    "# Topic: Loops\n",
    "for i in range(10): print(i*i)"
   ]
  },
  {
   "cell_type": "code",
   "execution_count": null,
   "id": "73d3c062",
   "metadata": {},
   "outputs": [],
   "source": [
    "# Topic: Decorators\n",
    "def decorator(fn):\n",
    "    def wrapper():\n",
    "        print('Before')\n",
    "        fn()\n",
    "        print('After')\n",
    "    return wrapper\n",
    "@decorator\n",
    "def say(): print('Hi')\n",
    "say()"
   ]
  },
  {
   "cell_type": "code",
   "execution_count": null,
   "id": "a46aca66",
   "metadata": {},
   "outputs": [],
   "source": [
    "# Topic: Dictionaries & Sets\n",
    "d = {'a':1, 'b':2}\n",
    "print(d['a'])"
   ]
  },
  {
   "cell_type": "code",
   "execution_count": null,
   "id": "fd63b05a",
   "metadata": {},
   "outputs": [],
   "source": [
    "# Topic: Loops\n",
    "for i in range(10): print(i*i)"
   ]
  },
  {
   "cell_type": "code",
   "execution_count": null,
   "id": "406e4723",
   "metadata": {},
   "outputs": [],
   "source": [
    "# Topic: Loops\n",
    "i = 0\n",
    "while i < 5:\n",
    "    print(i)\n",
    "    i += 1"
   ]
  },
  {
   "cell_type": "code",
   "execution_count": null,
   "id": "086ffb73",
   "metadata": {},
   "outputs": [],
   "source": [
    "# Topic: Classes & Objects\n",
    "class Dog:\n",
    "    def bark(self):\n",
    "        print('Woof!')\n",
    "d = Dog()\n",
    "d.bark()"
   ]
  },
  {
   "cell_type": "code",
   "execution_count": null,
   "id": "8133f003",
   "metadata": {},
   "outputs": [],
   "source": [
    "# Topic: Basics\n",
    "x = 7\n",
    "print('Odd' if x % 2 else 'Even')"
   ]
  },
  {
   "cell_type": "code",
   "execution_count": null,
   "id": "aa63528a",
   "metadata": {},
   "outputs": [],
   "source": [
    "# Topic: NumPy\n",
    "import numpy as np\n",
    "a = np.array([1,2,3])\n",
    "print(a * 2)"
   ]
  },
  {
   "cell_type": "code",
   "execution_count": null,
   "id": "b782abd1",
   "metadata": {},
   "outputs": [],
   "source": [
    "# Topic: Pandas\n",
    "import pandas as pd\n",
    "df = pd.read_csv('data.csv')\n",
    "print(df.head())"
   ]
  },
  {
   "cell_type": "code",
   "execution_count": null,
   "id": "bc35d17d",
   "metadata": {},
   "outputs": [],
   "source": [
    "# Topic: Lists & Tuples\n",
    "nums = [1,2,3]\n",
    "nums.append(4)\n",
    "print(nums)"
   ]
  },
  {
   "cell_type": "code",
   "execution_count": null,
   "id": "ea37cf85",
   "metadata": {},
   "outputs": [],
   "source": [
    "# Topic: Matplotlib\n",
    "import matplotlib.pyplot as plt\n",
    "plt.plot([1,2],[3,4])\n",
    "plt.show()"
   ]
  },
  {
   "cell_type": "code",
   "execution_count": null,
   "id": "2ec69700",
   "metadata": {},
   "outputs": [],
   "source": [
    "# Topic: Functions\n",
    "def factorial(n):\n",
    "    return 1 if n==0 else n * factorial(n-1)\n",
    "print(factorial(5))"
   ]
  },
  {
   "cell_type": "code",
   "execution_count": null,
   "id": "63712552",
   "metadata": {},
   "outputs": [],
   "source": [
    "# Topic: Exceptions\n",
    "try:\n",
    "    print(10/0)\n",
    "except ZeroDivisionError:\n",
    "    print('Cannot divide by zero')"
   ]
  },
  {
   "cell_type": "code",
   "execution_count": null,
   "id": "0f923760",
   "metadata": {},
   "outputs": [],
   "source": [
    "# Topic: Basics\n",
    "name = 'Fahd'\n",
    "print(f'Welcome, {name}')"
   ]
  },
  {
   "cell_type": "code",
   "execution_count": null,
   "id": "4156ba35",
   "metadata": {},
   "outputs": [],
   "source": [
    "# Topic: NumPy\n",
    "import numpy as np\n",
    "a = np.array([1,2,3])\n",
    "print(a * 2)"
   ]
  },
  {
   "cell_type": "code",
   "execution_count": null,
   "id": "875b67f5",
   "metadata": {},
   "outputs": [],
   "source": [
    "# Topic: Classes & Objects\n",
    "class Dog:\n",
    "    def bark(self):\n",
    "        print('Woof!')\n",
    "d = Dog()\n",
    "d.bark()"
   ]
  },
  {
   "cell_type": "code",
   "execution_count": null,
   "id": "4c3f88fb",
   "metadata": {},
   "outputs": [],
   "source": [
    "# Topic: Web Scraping\n",
    "import requests\n",
    "from bs4 import BeautifulSoup\n",
    "r = requests.get('https://example.com')\n",
    "soup = BeautifulSoup(r.text, 'html.parser')\n",
    "print(soup.title.string)"
   ]
  },
  {
   "cell_type": "code",
   "execution_count": null,
   "id": "21a97be1",
   "metadata": {},
   "outputs": [],
   "source": [
    "# Topic: Basics\n",
    "x = 7\n",
    "print('Odd' if x % 2 else 'Even')"
   ]
  },
  {
   "cell_type": "code",
   "execution_count": null,
   "id": "f19c3841",
   "metadata": {},
   "outputs": [],
   "source": [
    "# Topic: Loops\n",
    "i = 0\n",
    "while i < 5:\n",
    "    print(i)\n",
    "    i += 1"
   ]
  },
  {
   "cell_type": "code",
   "execution_count": null,
   "id": "33dc3e16",
   "metadata": {},
   "outputs": [],
   "source": [
    "# Topic: Decorators\n",
    "def decorator(fn):\n",
    "    def wrapper():\n",
    "        print('Before')\n",
    "        fn()\n",
    "        print('After')\n",
    "    return wrapper\n",
    "@decorator\n",
    "def say(): print('Hi')\n",
    "say()"
   ]
  },
  {
   "cell_type": "code",
   "execution_count": null,
   "id": "ffaba252",
   "metadata": {},
   "outputs": [],
   "source": [
    "# Topic: Mini Projects\n",
    "# Palindrome checker\n",
    "def is_palindrome(s):\n",
    " return s == s[::-1]\n",
    "print(is_palindrome('madam'))"
   ]
  },
  {
   "cell_type": "code",
   "execution_count": null,
   "id": "b87db514",
   "metadata": {},
   "outputs": [],
   "source": [
    "# Topic: Decorators\n",
    "def decorator(fn):\n",
    "    def wrapper():\n",
    "        print('Before')\n",
    "        fn()\n",
    "        print('After')\n",
    "    return wrapper\n",
    "@decorator\n",
    "def say(): print('Hi')\n",
    "say()"
   ]
  },
  {
   "cell_type": "code",
   "execution_count": null,
   "id": "4b2582d6",
   "metadata": {},
   "outputs": [],
   "source": [
    "# Topic: Functions\n",
    "def add(a, b): return a + b\n",
    "print(add(3, 4))"
   ]
  },
  {
   "cell_type": "code",
   "execution_count": null,
   "id": "c8e1527e",
   "metadata": {},
   "outputs": [],
   "source": [
    "# Topic: Classes & Objects\n",
    "class Dog:\n",
    "    def bark(self):\n",
    "        print('Woof!')\n",
    "d = Dog()\n",
    "d.bark()"
   ]
  },
  {
   "cell_type": "code",
   "execution_count": null,
   "id": "183ccaab",
   "metadata": {},
   "outputs": [],
   "source": [
    "# Topic: File I/O\n",
    "with open('sample.txt') as f:\n",
    "    print(f.read())"
   ]
  },
  {
   "cell_type": "code",
   "execution_count": null,
   "id": "7dcb2c5d",
   "metadata": {},
   "outputs": [],
   "source": [
    "# Topic: Functions\n",
    "def add(a, b): return a + b\n",
    "print(add(3, 4))"
   ]
  },
  {
   "cell_type": "code",
   "execution_count": null,
   "id": "4bab3277",
   "metadata": {},
   "outputs": [],
   "source": [
    "# Topic: Lists & Tuples\n",
    "nums = [1,2,3]\n",
    "nums.append(4)\n",
    "print(nums)"
   ]
  },
  {
   "cell_type": "code",
   "execution_count": null,
   "id": "82165ee2",
   "metadata": {},
   "outputs": [],
   "source": [
    "# Topic: Pandas\n",
    "import pandas as pd\n",
    "df = pd.read_csv('data.csv')\n",
    "print(df.head())"
   ]
  },
  {
   "cell_type": "code",
   "execution_count": null,
   "id": "bdef313e",
   "metadata": {},
   "outputs": [],
   "source": [
    "# Topic: Recursion\n",
    "def fib(n):\n",
    "    if n <= 1: return n\n",
    "    return fib(n-1) + fib(n-2)\n",
    "print(fib(5))"
   ]
  },
  {
   "cell_type": "code",
   "execution_count": null,
   "id": "b0f48be6",
   "metadata": {},
   "outputs": [],
   "source": [
    "# Topic: Pandas\n",
    "import pandas as pd\n",
    "df = pd.DataFrame({'A':[1,2],'B':[3,4]})\n",
    "print(df)"
   ]
  },
  {
   "cell_type": "code",
   "execution_count": null,
   "id": "c6812207",
   "metadata": {},
   "outputs": [],
   "source": [
    "# Topic: Pandas\n",
    "import pandas as pd\n",
    "df = pd.DataFrame({'A':[1,2],'B':[3,4]})\n",
    "print(df)"
   ]
  },
  {
   "cell_type": "code",
   "execution_count": null,
   "id": "8e65d70b",
   "metadata": {},
   "outputs": [],
   "source": [
    "# Topic: NumPy\n",
    "import numpy as np\n",
    "print(np.arange(0, 10, 2))"
   ]
  },
  {
   "cell_type": "code",
   "execution_count": null,
   "id": "dc8811fc",
   "metadata": {},
   "outputs": [],
   "source": [
    "# Topic: Basics\n",
    "a = 5\n",
    "b = 3\n",
    "print(a * b)"
   ]
  },
  {
   "cell_type": "code",
   "execution_count": null,
   "id": "f4f48fd1",
   "metadata": {},
   "outputs": [],
   "source": [
    "# Topic: Loops\n",
    "i = 0\n",
    "while i < 5:\n",
    "    print(i)\n",
    "    i += 1"
   ]
  },
  {
   "cell_type": "code",
   "execution_count": null,
   "id": "fddadfc5",
   "metadata": {},
   "outputs": [],
   "source": [
    "# Topic: Mini Projects\n",
    "# Simple calculator\n",
    "def calc(a,b,op):\n",
    " if op=='+': return a+b\n",
    " elif op=='-': return a-b\n",
    "print(calc(10,5,'+'))"
   ]
  },
  {
   "cell_type": "code",
   "execution_count": null,
   "id": "f38d9d96",
   "metadata": {},
   "outputs": [],
   "source": [
    "# Topic: Recursion\n",
    "def fib(n):\n",
    "    if n <= 1: return n\n",
    "    return fib(n-1) + fib(n-2)\n",
    "print(fib(5))"
   ]
  },
  {
   "cell_type": "code",
   "execution_count": null,
   "id": "bcd3bd8c",
   "metadata": {},
   "outputs": [],
   "source": [
    "# Topic: Matplotlib\n",
    "import matplotlib.pyplot as plt\n",
    "plt.plot([1,2],[3,4])\n",
    "plt.show()"
   ]
  },
  {
   "cell_type": "code",
   "execution_count": null,
   "id": "63c031f7",
   "metadata": {},
   "outputs": [],
   "source": [
    "# Topic: Pandas\n",
    "import pandas as pd\n",
    "df = pd.DataFrame({'A':[1,2],'B':[3,4]})\n",
    "print(df)"
   ]
  },
  {
   "cell_type": "code",
   "execution_count": null,
   "id": "80d2ebc0",
   "metadata": {},
   "outputs": [],
   "source": [
    "# Topic: Basics\n",
    "x = 7\n",
    "print('Odd' if x % 2 else 'Even')"
   ]
  },
  {
   "cell_type": "code",
   "execution_count": null,
   "id": "d4fcb95b",
   "metadata": {},
   "outputs": [],
   "source": [
    "# Topic: Decorators\n",
    "def decorator(fn):\n",
    "    def wrapper():\n",
    "        print('Before')\n",
    "        fn()\n",
    "        print('After')\n",
    "    return wrapper\n",
    "@decorator\n",
    "def say(): print('Hi')\n",
    "say()"
   ]
  },
  {
   "cell_type": "code",
   "execution_count": null,
   "id": "02059714",
   "metadata": {},
   "outputs": [],
   "source": [
    "# Topic: File I/O\n",
    "with open('sample.txt') as f:\n",
    "    print(f.read())"
   ]
  },
  {
   "cell_type": "code",
   "execution_count": null,
   "id": "c7765efb",
   "metadata": {},
   "outputs": [],
   "source": [
    "# Topic: Decorators\n",
    "def decorator(fn):\n",
    "    def wrapper():\n",
    "        print('Before')\n",
    "        fn()\n",
    "        print('After')\n",
    "    return wrapper\n",
    "@decorator\n",
    "def say(): print('Hi')\n",
    "say()"
   ]
  },
  {
   "cell_type": "code",
   "execution_count": null,
   "id": "e18f60dc",
   "metadata": {},
   "outputs": [],
   "source": [
    "# Topic: File I/O\n",
    "with open('sample.txt', 'w') as f:\n",
    "    f.write('Hello World')"
   ]
  },
  {
   "cell_type": "code",
   "execution_count": null,
   "id": "d1d69b49",
   "metadata": {},
   "outputs": [],
   "source": [
    "# Topic: Dictionaries & Sets\n",
    "d = {'a':1, 'b':2}\n",
    "print(d['a'])"
   ]
  },
  {
   "cell_type": "code",
   "execution_count": null,
   "id": "2ce6f46d",
   "metadata": {},
   "outputs": [],
   "source": [
    "# Topic: File I/O\n",
    "with open('sample.txt') as f:\n",
    "    print(f.read())"
   ]
  },
  {
   "cell_type": "code",
   "execution_count": null,
   "id": "57921674",
   "metadata": {},
   "outputs": [],
   "source": [
    "# Topic: Loops\n",
    "for i in range(10): print(i*i)"
   ]
  },
  {
   "cell_type": "code",
   "execution_count": null,
   "id": "e894afab",
   "metadata": {},
   "outputs": [],
   "source": [
    "# Topic: Pandas\n",
    "import pandas as pd\n",
    "df = pd.read_csv('data.csv')\n",
    "print(df.head())"
   ]
  },
  {
   "cell_type": "code",
   "execution_count": null,
   "id": "075e8040",
   "metadata": {},
   "outputs": [],
   "source": [
    "# Topic: NumPy\n",
    "import numpy as np\n",
    "print(np.arange(0, 10, 2))"
   ]
  },
  {
   "cell_type": "code",
   "execution_count": null,
   "id": "c147406a",
   "metadata": {},
   "outputs": [],
   "source": [
    "# Topic: Functions\n",
    "def add(a, b): return a + b\n",
    "print(add(3, 4))"
   ]
  },
  {
   "cell_type": "code",
   "execution_count": null,
   "id": "aadc9efc",
   "metadata": {},
   "outputs": [],
   "source": [
    "# Topic: Lists & Tuples\n",
    "t = (1,2,3)\n",
    "print(t[1])"
   ]
  },
  {
   "cell_type": "code",
   "execution_count": null,
   "id": "439a7f2d",
   "metadata": {},
   "outputs": [],
   "source": [
    "# Topic: NumPy\n",
    "import numpy as np\n",
    "print(np.arange(0, 10, 2))"
   ]
  },
  {
   "cell_type": "code",
   "execution_count": null,
   "id": "145d6dce",
   "metadata": {},
   "outputs": [],
   "source": [
    "# Topic: Matplotlib\n",
    "import matplotlib.pyplot as plt\n",
    "plt.plot([1,2],[3,4])\n",
    "plt.show()"
   ]
  },
  {
   "cell_type": "code",
   "execution_count": null,
   "id": "0fc5b8db",
   "metadata": {},
   "outputs": [],
   "source": [
    "# Topic: Decorators\n",
    "def decorator(fn):\n",
    "    def wrapper():\n",
    "        print('Before')\n",
    "        fn()\n",
    "        print('After')\n",
    "    return wrapper\n",
    "@decorator\n",
    "def say(): print('Hi')\n",
    "say()"
   ]
  },
  {
   "cell_type": "code",
   "execution_count": null,
   "id": "74a426ab",
   "metadata": {},
   "outputs": [],
   "source": [
    "# Topic: Loops\n",
    "i = 0\n",
    "while i < 5:\n",
    "    print(i)\n",
    "    i += 1"
   ]
  },
  {
   "cell_type": "code",
   "execution_count": null,
   "id": "0226e0ba",
   "metadata": {},
   "outputs": [],
   "source": [
    "# Topic: Dictionaries & Sets\n",
    "d = {'a':1, 'b':2}\n",
    "print(d['a'])"
   ]
  },
  {
   "cell_type": "code",
   "execution_count": null,
   "id": "7f7872bf",
   "metadata": {},
   "outputs": [],
   "source": [
    "# Topic: Loops\n",
    "for i in range(10): print(i*i)"
   ]
  },
  {
   "cell_type": "code",
   "execution_count": null,
   "id": "8134eb68",
   "metadata": {},
   "outputs": [],
   "source": [
    "# Topic: Recursion\n",
    "def fib(n):\n",
    "    if n <= 1: return n\n",
    "    return fib(n-1) + fib(n-2)\n",
    "print(fib(5))"
   ]
  },
  {
   "cell_type": "code",
   "execution_count": null,
   "id": "80c1c0b6",
   "metadata": {},
   "outputs": [],
   "source": [
    "# Topic: Classes & Objects\n",
    "class Dog:\n",
    "    def bark(self):\n",
    "        print('Woof!')\n",
    "d = Dog()\n",
    "d.bark()"
   ]
  },
  {
   "cell_type": "code",
   "execution_count": null,
   "id": "b224501c",
   "metadata": {},
   "outputs": [],
   "source": [
    "# Topic: Basics\n",
    "name = 'Fahd'\n",
    "print(f'Welcome, {name}')"
   ]
  },
  {
   "cell_type": "code",
   "execution_count": null,
   "id": "c9a7c743",
   "metadata": {},
   "outputs": [],
   "source": [
    "# Topic: Lists & Tuples\n",
    "t = (1,2,3)\n",
    "print(t[1])"
   ]
  },
  {
   "cell_type": "code",
   "execution_count": null,
   "id": "178599f6",
   "metadata": {},
   "outputs": [],
   "source": [
    "# Topic: Dictionaries & Sets\n",
    "d = {'a':1, 'b':2}\n",
    "print(d['a'])"
   ]
  },
  {
   "cell_type": "code",
   "execution_count": null,
   "id": "0e6b902f",
   "metadata": {},
   "outputs": [],
   "source": [
    "# Topic: Pandas\n",
    "import pandas as pd\n",
    "df = pd.DataFrame({'A':[1,2],'B':[3,4]})\n",
    "print(df)"
   ]
  },
  {
   "cell_type": "code",
   "execution_count": null,
   "id": "b62a5f93",
   "metadata": {},
   "outputs": [],
   "source": [
    "# Topic: Decorators\n",
    "def decorator(fn):\n",
    "    def wrapper():\n",
    "        print('Before')\n",
    "        fn()\n",
    "        print('After')\n",
    "    return wrapper\n",
    "@decorator\n",
    "def say(): print('Hi')\n",
    "say()"
   ]
  },
  {
   "cell_type": "code",
   "execution_count": null,
   "id": "844bdeda",
   "metadata": {},
   "outputs": [],
   "source": [
    "# Topic: Recursion\n",
    "def fib(n):\n",
    "    if n <= 1: return n\n",
    "    return fib(n-1) + fib(n-2)\n",
    "print(fib(5))"
   ]
  },
  {
   "cell_type": "code",
   "execution_count": null,
   "id": "c6fd953a",
   "metadata": {},
   "outputs": [],
   "source": [
    "# Topic: Matplotlib\n",
    "import matplotlib.pyplot as plt\n",
    "plt.plot([1,2],[3,4])\n",
    "plt.show()"
   ]
  },
  {
   "cell_type": "code",
   "execution_count": null,
   "id": "6a8442d7",
   "metadata": {},
   "outputs": [],
   "source": [
    "# Topic: Basics\n",
    "x = 7\n",
    "print('Odd' if x % 2 else 'Even')"
   ]
  },
  {
   "cell_type": "code",
   "execution_count": null,
   "id": "5171acaf",
   "metadata": {},
   "outputs": [],
   "source": [
    "# Topic: Matplotlib\n",
    "import matplotlib.pyplot as plt\n",
    "plt.bar(['A','B'], [10,20])\n",
    "plt.show()"
   ]
  },
  {
   "cell_type": "code",
   "execution_count": null,
   "id": "df34e61b",
   "metadata": {},
   "outputs": [],
   "source": [
    "# Topic: Web Scraping\n",
    "import requests\n",
    "from bs4 import BeautifulSoup\n",
    "r = requests.get('https://example.com')\n",
    "soup = BeautifulSoup(r.text, 'html.parser')\n",
    "print(soup.title.string)"
   ]
  },
  {
   "cell_type": "code",
   "execution_count": null,
   "id": "f35ba9d3",
   "metadata": {},
   "outputs": [],
   "source": [
    "# Topic: Web Scraping\n",
    "import requests\n",
    "from bs4 import BeautifulSoup\n",
    "r = requests.get('https://example.com')\n",
    "soup = BeautifulSoup(r.text, 'html.parser')\n",
    "print(soup.title.string)"
   ]
  },
  {
   "cell_type": "code",
   "execution_count": null,
   "id": "fa7fa928",
   "metadata": {},
   "outputs": [],
   "source": [
    "# Topic: File I/O\n",
    "with open('sample.txt') as f:\n",
    "    print(f.read())"
   ]
  },
  {
   "cell_type": "code",
   "execution_count": null,
   "id": "b8a1be86",
   "metadata": {},
   "outputs": [],
   "source": [
    "# Topic: NumPy\n",
    "import numpy as np\n",
    "print(np.arange(0, 10, 2))"
   ]
  },
  {
   "cell_type": "code",
   "execution_count": null,
   "id": "75c070ab",
   "metadata": {},
   "outputs": [],
   "source": [
    "# Topic: Mini Projects\n",
    "# Palindrome checker\n",
    "def is_palindrome(s):\n",
    " return s == s[::-1]\n",
    "print(is_palindrome('madam'))"
   ]
  },
  {
   "cell_type": "code",
   "execution_count": null,
   "id": "2a369b24",
   "metadata": {},
   "outputs": [],
   "source": [
    "# Topic: Recursion\n",
    "def fib(n):\n",
    "    if n <= 1: return n\n",
    "    return fib(n-1) + fib(n-2)\n",
    "print(fib(5))"
   ]
  },
  {
   "cell_type": "code",
   "execution_count": null,
   "id": "220a52ba",
   "metadata": {},
   "outputs": [],
   "source": [
    "# Topic: Functions\n",
    "def add(a, b): return a + b\n",
    "print(add(3, 4))"
   ]
  },
  {
   "cell_type": "code",
   "execution_count": null,
   "id": "92994395",
   "metadata": {},
   "outputs": [],
   "source": [
    "# Topic: Classes & Objects\n",
    "class Dog:\n",
    "    def bark(self):\n",
    "        print('Woof!')\n",
    "d = Dog()\n",
    "d.bark()"
   ]
  },
  {
   "cell_type": "code",
   "execution_count": null,
   "id": "9d69f128",
   "metadata": {},
   "outputs": [],
   "source": [
    "# Topic: Exceptions\n",
    "try:\n",
    "    print(10/0)\n",
    "except ZeroDivisionError:\n",
    "    print('Cannot divide by zero')"
   ]
  },
  {
   "cell_type": "code",
   "execution_count": null,
   "id": "4698d56d",
   "metadata": {},
   "outputs": [],
   "source": [
    "# Topic: Loops\n",
    "i = 0\n",
    "while i < 5:\n",
    "    print(i)\n",
    "    i += 1"
   ]
  },
  {
   "cell_type": "code",
   "execution_count": null,
   "id": "a9d03839",
   "metadata": {},
   "outputs": [],
   "source": [
    "# Topic: Classes & Objects\n",
    "class Dog:\n",
    "    def bark(self):\n",
    "        print('Woof!')\n",
    "d = Dog()\n",
    "d.bark()"
   ]
  },
  {
   "cell_type": "code",
   "execution_count": null,
   "id": "9cdce4fb",
   "metadata": {},
   "outputs": [],
   "source": [
    "# Topic: File I/O\n",
    "with open('sample.txt', 'w') as f:\n",
    "    f.write('Hello World')"
   ]
  },
  {
   "cell_type": "code",
   "execution_count": null,
   "id": "5b4dbf64",
   "metadata": {},
   "outputs": [],
   "source": [
    "# Topic: Classes & Objects\n",
    "class Dog:\n",
    "    def bark(self):\n",
    "        print('Woof!')\n",
    "d = Dog()\n",
    "d.bark()"
   ]
  },
  {
   "cell_type": "code",
   "execution_count": null,
   "id": "6a2de54f",
   "metadata": {},
   "outputs": [],
   "source": [
    "# Topic: Functions\n",
    "def add(a, b): return a + b\n",
    "print(add(3, 4))"
   ]
  },
  {
   "cell_type": "code",
   "execution_count": null,
   "id": "19623aeb",
   "metadata": {},
   "outputs": [],
   "source": [
    "# Topic: Functions\n",
    "def add(a, b): return a + b\n",
    "print(add(3, 4))"
   ]
  },
  {
   "cell_type": "code",
   "execution_count": null,
   "id": "37abd1bc",
   "metadata": {},
   "outputs": [],
   "source": [
    "# Topic: Dictionaries & Sets\n",
    "d = {'a':1, 'b':2}\n",
    "print(d['a'])"
   ]
  },
  {
   "cell_type": "code",
   "execution_count": null,
   "id": "92f72fc5",
   "metadata": {},
   "outputs": [],
   "source": [
    "# Topic: NumPy\n",
    "import numpy as np\n",
    "a = np.array([1,2,3])\n",
    "print(a * 2)"
   ]
  },
  {
   "cell_type": "code",
   "execution_count": null,
   "id": "3e8aa7fc",
   "metadata": {},
   "outputs": [],
   "source": [
    "# Topic: Recursion\n",
    "def fib(n):\n",
    "    if n <= 1: return n\n",
    "    return fib(n-1) + fib(n-2)\n",
    "print(fib(5))"
   ]
  },
  {
   "cell_type": "code",
   "execution_count": null,
   "id": "b545c7ad",
   "metadata": {},
   "outputs": [],
   "source": [
    "# Topic: Recursion\n",
    "def fib(n):\n",
    "    if n <= 1: return n\n",
    "    return fib(n-1) + fib(n-2)\n",
    "print(fib(5))"
   ]
  },
  {
   "cell_type": "code",
   "execution_count": null,
   "id": "c10186f9",
   "metadata": {},
   "outputs": [],
   "source": [
    "# Topic: Mini Projects\n",
    "# Palindrome checker\n",
    "def is_palindrome(s):\n",
    " return s == s[::-1]\n",
    "print(is_palindrome('madam'))"
   ]
  },
  {
   "cell_type": "code",
   "execution_count": null,
   "id": "5f98bacf",
   "metadata": {},
   "outputs": [],
   "source": [
    "# Topic: Matplotlib\n",
    "import matplotlib.pyplot as plt\n",
    "plt.plot([1,2],[3,4])\n",
    "plt.show()"
   ]
  },
  {
   "cell_type": "code",
   "execution_count": null,
   "id": "52b4bb03",
   "metadata": {},
   "outputs": [],
   "source": [
    "# Topic: Mini Projects\n",
    "# Simple calculator\n",
    "def calc(a,b,op):\n",
    " if op=='+': return a+b\n",
    " elif op=='-': return a-b\n",
    "print(calc(10,5,'+'))"
   ]
  },
  {
   "cell_type": "code",
   "execution_count": null,
   "id": "996f0339",
   "metadata": {},
   "outputs": [],
   "source": [
    "# Topic: Decorators\n",
    "def decorator(fn):\n",
    "    def wrapper():\n",
    "        print('Before')\n",
    "        fn()\n",
    "        print('After')\n",
    "    return wrapper\n",
    "@decorator\n",
    "def say(): print('Hi')\n",
    "say()"
   ]
  },
  {
   "cell_type": "code",
   "execution_count": null,
   "id": "0dc3fbd0",
   "metadata": {},
   "outputs": [],
   "source": [
    "# Topic: Exceptions\n",
    "try:\n",
    "    print(10/0)\n",
    "except ZeroDivisionError:\n",
    "    print('Cannot divide by zero')"
   ]
  },
  {
   "cell_type": "code",
   "execution_count": null,
   "id": "d09ad001",
   "metadata": {},
   "outputs": [],
   "source": [
    "# Topic: NumPy\n",
    "import numpy as np\n",
    "a = np.array([1,2,3])\n",
    "print(a * 2)"
   ]
  },
  {
   "cell_type": "code",
   "execution_count": null,
   "id": "12c6be36",
   "metadata": {},
   "outputs": [],
   "source": [
    "# Topic: Basics\n",
    "name = 'Fahd'\n",
    "print(f'Welcome, {name}')"
   ]
  },
  {
   "cell_type": "code",
   "execution_count": null,
   "id": "1d0683e3",
   "metadata": {},
   "outputs": [],
   "source": [
    "# Topic: Web Scraping\n",
    "import requests\n",
    "from bs4 import BeautifulSoup\n",
    "r = requests.get('https://example.com')\n",
    "soup = BeautifulSoup(r.text, 'html.parser')\n",
    "print(soup.title.string)"
   ]
  },
  {
   "cell_type": "code",
   "execution_count": null,
   "id": "89e8ad2f",
   "metadata": {},
   "outputs": [],
   "source": [
    "# Topic: Dictionaries & Sets\n",
    "d = {'a':1, 'b':2}\n",
    "print(d['a'])"
   ]
  },
  {
   "cell_type": "code",
   "execution_count": null,
   "id": "63758991",
   "metadata": {},
   "outputs": [],
   "source": [
    "# Topic: Classes & Objects\n",
    "class Dog:\n",
    "    def bark(self):\n",
    "        print('Woof!')\n",
    "d = Dog()\n",
    "d.bark()"
   ]
  },
  {
   "cell_type": "code",
   "execution_count": null,
   "id": "2a126ecc",
   "metadata": {},
   "outputs": [],
   "source": [
    "# Topic: Matplotlib\n",
    "import matplotlib.pyplot as plt\n",
    "plt.bar(['A','B'], [10,20])\n",
    "plt.show()"
   ]
  },
  {
   "cell_type": "code",
   "execution_count": null,
   "id": "39b3f38d",
   "metadata": {},
   "outputs": [],
   "source": [
    "# Topic: Lists & Tuples\n",
    "t = (1,2,3)\n",
    "print(t[1])"
   ]
  },
  {
   "cell_type": "code",
   "execution_count": null,
   "id": "14b55ed0",
   "metadata": {},
   "outputs": [],
   "source": [
    "# Topic: Pandas\n",
    "import pandas as pd\n",
    "df = pd.DataFrame({'A':[1,2],'B':[3,4]})\n",
    "print(df)"
   ]
  },
  {
   "cell_type": "code",
   "execution_count": null,
   "id": "de29dfd7",
   "metadata": {},
   "outputs": [],
   "source": [
    "# Topic: Functions\n",
    "def add(a, b): return a + b\n",
    "print(add(3, 4))"
   ]
  },
  {
   "cell_type": "code",
   "execution_count": null,
   "id": "8016088d",
   "metadata": {},
   "outputs": [],
   "source": [
    "# Topic: Classes & Objects\n",
    "class Dog:\n",
    "    def bark(self):\n",
    "        print('Woof!')\n",
    "d = Dog()\n",
    "d.bark()"
   ]
  },
  {
   "cell_type": "code",
   "execution_count": null,
   "id": "280b7167",
   "metadata": {},
   "outputs": [],
   "source": [
    "# Topic: Dictionaries & Sets\n",
    "d = {'a':1, 'b':2}\n",
    "print(d['a'])"
   ]
  },
  {
   "cell_type": "code",
   "execution_count": null,
   "id": "6a2e9474",
   "metadata": {},
   "outputs": [],
   "source": [
    "# Topic: Classes & Objects\n",
    "class Dog:\n",
    "    def bark(self):\n",
    "        print('Woof!')\n",
    "d = Dog()\n",
    "d.bark()"
   ]
  },
  {
   "cell_type": "code",
   "execution_count": null,
   "id": "14098585",
   "metadata": {},
   "outputs": [],
   "source": [
    "# Topic: Lists & Tuples\n",
    "t = (1,2,3)\n",
    "print(t[1])"
   ]
  },
  {
   "cell_type": "code",
   "execution_count": null,
   "id": "a488afe3",
   "metadata": {},
   "outputs": [],
   "source": [
    "# Topic: Mini Projects\n",
    "# Simple calculator\n",
    "def calc(a,b,op):\n",
    " if op=='+': return a+b\n",
    " elif op=='-': return a-b\n",
    "print(calc(10,5,'+'))"
   ]
  },
  {
   "cell_type": "code",
   "execution_count": null,
   "id": "f384ae4d",
   "metadata": {},
   "outputs": [],
   "source": [
    "# Topic: Pandas\n",
    "import pandas as pd\n",
    "df = pd.read_csv('data.csv')\n",
    "print(df.head())"
   ]
  },
  {
   "cell_type": "code",
   "execution_count": null,
   "id": "a25a5bc2",
   "metadata": {},
   "outputs": [],
   "source": [
    "# Topic: Loops\n",
    "i = 0\n",
    "while i < 5:\n",
    "    print(i)\n",
    "    i += 1"
   ]
  },
  {
   "cell_type": "code",
   "execution_count": null,
   "id": "0fe2be7e",
   "metadata": {},
   "outputs": [],
   "source": [
    "# Topic: Exceptions\n",
    "try:\n",
    "    print(10/0)\n",
    "except ZeroDivisionError:\n",
    "    print('Cannot divide by zero')"
   ]
  },
  {
   "cell_type": "code",
   "execution_count": null,
   "id": "bc42d006",
   "metadata": {},
   "outputs": [],
   "source": [
    "# Topic: File I/O\n",
    "with open('sample.txt', 'w') as f:\n",
    "    f.write('Hello World')"
   ]
  },
  {
   "cell_type": "code",
   "execution_count": null,
   "id": "939e01e8",
   "metadata": {},
   "outputs": [],
   "source": [
    "# Topic: Recursion\n",
    "def fib(n):\n",
    "    if n <= 1: return n\n",
    "    return fib(n-1) + fib(n-2)\n",
    "print(fib(5))"
   ]
  },
  {
   "cell_type": "code",
   "execution_count": null,
   "id": "f0fca033",
   "metadata": {},
   "outputs": [],
   "source": [
    "# Topic: Mini Projects\n",
    "# Simple calculator\n",
    "def calc(a,b,op):\n",
    " if op=='+': return a+b\n",
    " elif op=='-': return a-b\n",
    "print(calc(10,5,'+'))"
   ]
  },
  {
   "cell_type": "code",
   "execution_count": null,
   "id": "93d5ef7a",
   "metadata": {},
   "outputs": [],
   "source": [
    "# Topic: Functions\n",
    "def factorial(n):\n",
    "    return 1 if n==0 else n * factorial(n-1)\n",
    "print(factorial(5))"
   ]
  },
  {
   "cell_type": "code",
   "execution_count": null,
   "id": "29d18ade",
   "metadata": {},
   "outputs": [],
   "source": [
    "# Topic: Pandas\n",
    "import pandas as pd\n",
    "df = pd.read_csv('data.csv')\n",
    "print(df.head())"
   ]
  },
  {
   "cell_type": "code",
   "execution_count": null,
   "id": "31a1565d",
   "metadata": {},
   "outputs": [],
   "source": [
    "# Topic: NumPy\n",
    "import numpy as np\n",
    "a = np.array([1,2,3])\n",
    "print(a * 2)"
   ]
  },
  {
   "cell_type": "code",
   "execution_count": null,
   "id": "a0aedfb5",
   "metadata": {},
   "outputs": [],
   "source": [
    "# Topic: Basics\n",
    "a = 5\n",
    "b = 3\n",
    "print(a * b)"
   ]
  },
  {
   "cell_type": "code",
   "execution_count": null,
   "id": "95eff7dd",
   "metadata": {},
   "outputs": [],
   "source": [
    "# Topic: Classes & Objects\n",
    "class Dog:\n",
    "    def bark(self):\n",
    "        print('Woof!')\n",
    "d = Dog()\n",
    "d.bark()"
   ]
  },
  {
   "cell_type": "code",
   "execution_count": null,
   "id": "92662e80",
   "metadata": {},
   "outputs": [],
   "source": [
    "# Topic: Mini Projects\n",
    "# Palindrome checker\n",
    "def is_palindrome(s):\n",
    " return s == s[::-1]\n",
    "print(is_palindrome('madam'))"
   ]
  },
  {
   "cell_type": "code",
   "execution_count": null,
   "id": "6da86bfa",
   "metadata": {},
   "outputs": [],
   "source": [
    "# Topic: Decorators\n",
    "def decorator(fn):\n",
    "    def wrapper():\n",
    "        print('Before')\n",
    "        fn()\n",
    "        print('After')\n",
    "    return wrapper\n",
    "@decorator\n",
    "def say(): print('Hi')\n",
    "say()"
   ]
  },
  {
   "cell_type": "code",
   "execution_count": null,
   "id": "f4046f40",
   "metadata": {},
   "outputs": [],
   "source": [
    "# Topic: Matplotlib\n",
    "import matplotlib.pyplot as plt\n",
    "plt.bar(['A','B'], [10,20])\n",
    "plt.show()"
   ]
  },
  {
   "cell_type": "code",
   "execution_count": null,
   "id": "8db0744e",
   "metadata": {},
   "outputs": [],
   "source": [
    "# Topic: Basics\n",
    "a = 5\n",
    "b = 3\n",
    "print(a * b)"
   ]
  },
  {
   "cell_type": "code",
   "execution_count": null,
   "id": "7aedbbee",
   "metadata": {},
   "outputs": [],
   "source": [
    "# Topic: Dictionaries & Sets\n",
    "d = {'a':1, 'b':2}\n",
    "print(d['a'])"
   ]
  },
  {
   "cell_type": "code",
   "execution_count": null,
   "id": "97239f74",
   "metadata": {},
   "outputs": [],
   "source": [
    "# Topic: Dictionaries & Sets\n",
    "s = {1,2,3}\n",
    "s.add(4)\n",
    "print(s)"
   ]
  },
  {
   "cell_type": "code",
   "execution_count": null,
   "id": "7534ae6a",
   "metadata": {},
   "outputs": [],
   "source": [
    "# Topic: Web Scraping\n",
    "import requests\n",
    "from bs4 import BeautifulSoup\n",
    "r = requests.get('https://example.com')\n",
    "soup = BeautifulSoup(r.text, 'html.parser')\n",
    "print(soup.title.string)"
   ]
  },
  {
   "cell_type": "code",
   "execution_count": null,
   "id": "b920dccf",
   "metadata": {},
   "outputs": [],
   "source": [
    "# Topic: Pandas\n",
    "import pandas as pd\n",
    "df = pd.DataFrame({'A':[1,2],'B':[3,4]})\n",
    "print(df)"
   ]
  },
  {
   "cell_type": "code",
   "execution_count": null,
   "id": "2ec5fcad",
   "metadata": {},
   "outputs": [],
   "source": [
    "# Topic: Functions\n",
    "def factorial(n):\n",
    "    return 1 if n==0 else n * factorial(n-1)\n",
    "print(factorial(5))"
   ]
  },
  {
   "cell_type": "code",
   "execution_count": null,
   "id": "995f5d1b",
   "metadata": {},
   "outputs": [],
   "source": [
    "# Topic: Classes & Objects\n",
    "class Dog:\n",
    "    def bark(self):\n",
    "        print('Woof!')\n",
    "d = Dog()\n",
    "d.bark()"
   ]
  },
  {
   "cell_type": "code",
   "execution_count": null,
   "id": "b1e22728",
   "metadata": {},
   "outputs": [],
   "source": [
    "# Topic: Matplotlib\n",
    "import matplotlib.pyplot as plt\n",
    "plt.bar(['A','B'], [10,20])\n",
    "plt.show()"
   ]
  },
  {
   "cell_type": "code",
   "execution_count": null,
   "id": "ce027c09",
   "metadata": {},
   "outputs": [],
   "source": [
    "# Topic: NumPy\n",
    "import numpy as np\n",
    "a = np.array([1,2,3])\n",
    "print(a * 2)"
   ]
  },
  {
   "cell_type": "code",
   "execution_count": null,
   "id": "1020a1d4",
   "metadata": {},
   "outputs": [],
   "source": [
    "# Topic: Functions\n",
    "def add(a, b): return a + b\n",
    "print(add(3, 4))"
   ]
  },
  {
   "cell_type": "code",
   "execution_count": null,
   "id": "c51dda92",
   "metadata": {},
   "outputs": [],
   "source": [
    "# Topic: Basics\n",
    "name = 'Fahd'\n",
    "print(f'Welcome, {name}')"
   ]
  },
  {
   "cell_type": "code",
   "execution_count": null,
   "id": "4988682e",
   "metadata": {},
   "outputs": [],
   "source": [
    "# Topic: Exceptions\n",
    "try:\n",
    "    print(10/0)\n",
    "except ZeroDivisionError:\n",
    "    print('Cannot divide by zero')"
   ]
  },
  {
   "cell_type": "code",
   "execution_count": null,
   "id": "199775b6",
   "metadata": {},
   "outputs": [],
   "source": [
    "# Topic: Dictionaries & Sets\n",
    "s = {1,2,3}\n",
    "s.add(4)\n",
    "print(s)"
   ]
  },
  {
   "cell_type": "code",
   "execution_count": null,
   "id": "d8cb2479",
   "metadata": {},
   "outputs": [],
   "source": [
    "# Topic: Decorators\n",
    "def decorator(fn):\n",
    "    def wrapper():\n",
    "        print('Before')\n",
    "        fn()\n",
    "        print('After')\n",
    "    return wrapper\n",
    "@decorator\n",
    "def say(): print('Hi')\n",
    "say()"
   ]
  },
  {
   "cell_type": "code",
   "execution_count": null,
   "id": "54ccd70d",
   "metadata": {},
   "outputs": [],
   "source": [
    "# Topic: Lists & Tuples\n",
    "t = (1,2,3)\n",
    "print(t[1])"
   ]
  },
  {
   "cell_type": "code",
   "execution_count": null,
   "id": "7490ba70",
   "metadata": {},
   "outputs": [],
   "source": [
    "# Topic: Recursion\n",
    "def fib(n):\n",
    "    if n <= 1: return n\n",
    "    return fib(n-1) + fib(n-2)\n",
    "print(fib(5))"
   ]
  },
  {
   "cell_type": "code",
   "execution_count": null,
   "id": "d1201492",
   "metadata": {},
   "outputs": [],
   "source": [
    "# Topic: Pandas\n",
    "import pandas as pd\n",
    "df = pd.DataFrame({'A':[1,2],'B':[3,4]})\n",
    "print(df)"
   ]
  },
  {
   "cell_type": "code",
   "execution_count": null,
   "id": "be7ba856",
   "metadata": {},
   "outputs": [],
   "source": [
    "# Topic: File I/O\n",
    "with open('sample.txt') as f:\n",
    "    print(f.read())"
   ]
  },
  {
   "cell_type": "code",
   "execution_count": null,
   "id": "3a3226c8",
   "metadata": {},
   "outputs": [],
   "source": [
    "# Topic: Classes & Objects\n",
    "class Dog:\n",
    "    def bark(self):\n",
    "        print('Woof!')\n",
    "d = Dog()\n",
    "d.bark()"
   ]
  },
  {
   "cell_type": "code",
   "execution_count": null,
   "id": "d7d2db17",
   "metadata": {},
   "outputs": [],
   "source": [
    "# Topic: Loops\n",
    "i = 0\n",
    "while i < 5:\n",
    "    print(i)\n",
    "    i += 1"
   ]
  },
  {
   "cell_type": "code",
   "execution_count": null,
   "id": "0debadbe",
   "metadata": {},
   "outputs": [],
   "source": [
    "# Topic: Lists & Tuples\n",
    "t = (1,2,3)\n",
    "print(t[1])"
   ]
  },
  {
   "cell_type": "code",
   "execution_count": null,
   "id": "dfa5f491",
   "metadata": {},
   "outputs": [],
   "source": [
    "# Topic: File I/O\n",
    "with open('sample.txt') as f:\n",
    "    print(f.read())"
   ]
  },
  {
   "cell_type": "code",
   "execution_count": null,
   "id": "62e52860",
   "metadata": {},
   "outputs": [],
   "source": [
    "# Topic: Pandas\n",
    "import pandas as pd\n",
    "df = pd.DataFrame({'A':[1,2],'B':[3,4]})\n",
    "print(df)"
   ]
  },
  {
   "cell_type": "code",
   "execution_count": null,
   "id": "a152ec8c",
   "metadata": {},
   "outputs": [],
   "source": [
    "# Topic: Web Scraping\n",
    "import requests\n",
    "from bs4 import BeautifulSoup\n",
    "r = requests.get('https://example.com')\n",
    "soup = BeautifulSoup(r.text, 'html.parser')\n",
    "print(soup.title.string)"
   ]
  },
  {
   "cell_type": "code",
   "execution_count": null,
   "id": "684dbba6",
   "metadata": {},
   "outputs": [],
   "source": [
    "# Topic: Lists & Tuples\n",
    "nums = [1,2,3]\n",
    "nums.append(4)\n",
    "print(nums)"
   ]
  },
  {
   "cell_type": "code",
   "execution_count": null,
   "id": "acf2fa9b",
   "metadata": {},
   "outputs": [],
   "source": [
    "# Topic: Recursion\n",
    "def fib(n):\n",
    "    if n <= 1: return n\n",
    "    return fib(n-1) + fib(n-2)\n",
    "print(fib(5))"
   ]
  },
  {
   "cell_type": "code",
   "execution_count": null,
   "id": "e3b8fc54",
   "metadata": {},
   "outputs": [],
   "source": [
    "# Topic: Mini Projects\n",
    "# Palindrome checker\n",
    "def is_palindrome(s):\n",
    " return s == s[::-1]\n",
    "print(is_palindrome('madam'))"
   ]
  },
  {
   "cell_type": "code",
   "execution_count": null,
   "id": "8284e3f7",
   "metadata": {},
   "outputs": [],
   "source": [
    "# Topic: Matplotlib\n",
    "import matplotlib.pyplot as plt\n",
    "plt.plot([1,2],[3,4])\n",
    "plt.show()"
   ]
  },
  {
   "cell_type": "code",
   "execution_count": null,
   "id": "a50b87d0",
   "metadata": {},
   "outputs": [],
   "source": [
    "# Topic: Exceptions\n",
    "try:\n",
    "    print(10/0)\n",
    "except ZeroDivisionError:\n",
    "    print('Cannot divide by zero')"
   ]
  },
  {
   "cell_type": "code",
   "execution_count": null,
   "id": "69925d60",
   "metadata": {},
   "outputs": [],
   "source": [
    "# Topic: Mini Projects\n",
    "# Palindrome checker\n",
    "def is_palindrome(s):\n",
    " return s == s[::-1]\n",
    "print(is_palindrome('madam'))"
   ]
  },
  {
   "cell_type": "code",
   "execution_count": null,
   "id": "b058aee8",
   "metadata": {},
   "outputs": [],
   "source": [
    "# Topic: Classes & Objects\n",
    "class Dog:\n",
    "    def bark(self):\n",
    "        print('Woof!')\n",
    "d = Dog()\n",
    "d.bark()"
   ]
  },
  {
   "cell_type": "code",
   "execution_count": null,
   "id": "66f44525",
   "metadata": {},
   "outputs": [],
   "source": [
    "# Topic: Lists & Tuples\n",
    "t = (1,2,3)\n",
    "print(t[1])"
   ]
  },
  {
   "cell_type": "code",
   "execution_count": null,
   "id": "87136ccb",
   "metadata": {},
   "outputs": [],
   "source": [
    "# Topic: File I/O\n",
    "with open('sample.txt', 'w') as f:\n",
    "    f.write('Hello World')"
   ]
  },
  {
   "cell_type": "code",
   "execution_count": null,
   "id": "6e0e6f3f",
   "metadata": {},
   "outputs": [],
   "source": [
    "# Topic: Classes & Objects\n",
    "class Dog:\n",
    "    def bark(self):\n",
    "        print('Woof!')\n",
    "d = Dog()\n",
    "d.bark()"
   ]
  },
  {
   "cell_type": "code",
   "execution_count": null,
   "id": "6405467e",
   "metadata": {},
   "outputs": [],
   "source": [
    "# Topic: Pandas\n",
    "import pandas as pd\n",
    "df = pd.read_csv('data.csv')\n",
    "print(df.head())"
   ]
  },
  {
   "cell_type": "code",
   "execution_count": null,
   "id": "86bf3cf5",
   "metadata": {},
   "outputs": [],
   "source": [
    "# Topic: Mini Projects\n",
    "# Simple calculator\n",
    "def calc(a,b,op):\n",
    " if op=='+': return a+b\n",
    " elif op=='-': return a-b\n",
    "print(calc(10,5,'+'))"
   ]
  },
  {
   "cell_type": "code",
   "execution_count": null,
   "id": "a617f647",
   "metadata": {},
   "outputs": [],
   "source": [
    "# Topic: Mini Projects\n",
    "# Simple calculator\n",
    "def calc(a,b,op):\n",
    " if op=='+': return a+b\n",
    " elif op=='-': return a-b\n",
    "print(calc(10,5,'+'))"
   ]
  },
  {
   "cell_type": "code",
   "execution_count": null,
   "id": "9d0a6c74",
   "metadata": {},
   "outputs": [],
   "source": [
    "# Topic: Recursion\n",
    "def fib(n):\n",
    "    if n <= 1: return n\n",
    "    return fib(n-1) + fib(n-2)\n",
    "print(fib(5))"
   ]
  },
  {
   "cell_type": "code",
   "execution_count": null,
   "id": "5d6f5733",
   "metadata": {},
   "outputs": [],
   "source": [
    "# Topic: Classes & Objects\n",
    "class Dog:\n",
    "    def bark(self):\n",
    "        print('Woof!')\n",
    "d = Dog()\n",
    "d.bark()"
   ]
  },
  {
   "cell_type": "code",
   "execution_count": null,
   "id": "54b7486a",
   "metadata": {},
   "outputs": [],
   "source": [
    "# Topic: Dictionaries & Sets\n",
    "s = {1,2,3}\n",
    "s.add(4)\n",
    "print(s)"
   ]
  },
  {
   "cell_type": "code",
   "execution_count": null,
   "id": "f9464083",
   "metadata": {},
   "outputs": [],
   "source": [
    "# Topic: Decorators\n",
    "def decorator(fn):\n",
    "    def wrapper():\n",
    "        print('Before')\n",
    "        fn()\n",
    "        print('After')\n",
    "    return wrapper\n",
    "@decorator\n",
    "def say(): print('Hi')\n",
    "say()"
   ]
  },
  {
   "cell_type": "code",
   "execution_count": null,
   "id": "8dcca0f4",
   "metadata": {},
   "outputs": [],
   "source": [
    "# Topic: Matplotlib\n",
    "import matplotlib.pyplot as plt\n",
    "plt.bar(['A','B'], [10,20])\n",
    "plt.show()"
   ]
  },
  {
   "cell_type": "code",
   "execution_count": null,
   "id": "186818a9",
   "metadata": {},
   "outputs": [],
   "source": [
    "# Topic: Web Scraping\n",
    "import requests\n",
    "from bs4 import BeautifulSoup\n",
    "r = requests.get('https://example.com')\n",
    "soup = BeautifulSoup(r.text, 'html.parser')\n",
    "print(soup.title.string)"
   ]
  },
  {
   "cell_type": "code",
   "execution_count": null,
   "id": "80df2a3e",
   "metadata": {},
   "outputs": [],
   "source": [
    "# Topic: Dictionaries & Sets\n",
    "d = {'a':1, 'b':2}\n",
    "print(d['a'])"
   ]
  },
  {
   "cell_type": "code",
   "execution_count": null,
   "id": "2d3999fc",
   "metadata": {},
   "outputs": [],
   "source": [
    "# Topic: Lists & Tuples\n",
    "t = (1,2,3)\n",
    "print(t[1])"
   ]
  },
  {
   "cell_type": "code",
   "execution_count": null,
   "id": "1679befe",
   "metadata": {},
   "outputs": [],
   "source": [
    "# Topic: File I/O\n",
    "with open('sample.txt') as f:\n",
    "    print(f.read())"
   ]
  },
  {
   "cell_type": "code",
   "execution_count": null,
   "id": "4b90f501",
   "metadata": {},
   "outputs": [],
   "source": [
    "# Topic: Matplotlib\n",
    "import matplotlib.pyplot as plt\n",
    "plt.bar(['A','B'], [10,20])\n",
    "plt.show()"
   ]
  },
  {
   "cell_type": "code",
   "execution_count": null,
   "id": "7f32ac52",
   "metadata": {},
   "outputs": [],
   "source": [
    "# Topic: Loops\n",
    "i = 0\n",
    "while i < 5:\n",
    "    print(i)\n",
    "    i += 1"
   ]
  },
  {
   "cell_type": "code",
   "execution_count": null,
   "id": "3d648da9",
   "metadata": {},
   "outputs": [],
   "source": [
    "# Topic: Matplotlib\n",
    "import matplotlib.pyplot as plt\n",
    "plt.bar(['A','B'], [10,20])\n",
    "plt.show()"
   ]
  },
  {
   "cell_type": "code",
   "execution_count": null,
   "id": "84ea9d11",
   "metadata": {},
   "outputs": [],
   "source": [
    "# Topic: NumPy\n",
    "import numpy as np\n",
    "print(np.arange(0, 10, 2))"
   ]
  },
  {
   "cell_type": "code",
   "execution_count": null,
   "id": "abb3ff82",
   "metadata": {},
   "outputs": [],
   "source": [
    "# Topic: Loops\n",
    "for i in range(10): print(i*i)"
   ]
  },
  {
   "cell_type": "code",
   "execution_count": null,
   "id": "c9f94f32",
   "metadata": {},
   "outputs": [],
   "source": [
    "# Topic: Basics\n",
    "x = 7\n",
    "print('Odd' if x % 2 else 'Even')"
   ]
  },
  {
   "cell_type": "code",
   "execution_count": null,
   "id": "c20dba40",
   "metadata": {},
   "outputs": [],
   "source": [
    "# Topic: Decorators\n",
    "def decorator(fn):\n",
    "    def wrapper():\n",
    "        print('Before')\n",
    "        fn()\n",
    "        print('After')\n",
    "    return wrapper\n",
    "@decorator\n",
    "def say(): print('Hi')\n",
    "say()"
   ]
  },
  {
   "cell_type": "code",
   "execution_count": null,
   "id": "bf0e4d0c",
   "metadata": {},
   "outputs": [],
   "source": [
    "# Topic: Classes & Objects\n",
    "class Dog:\n",
    "    def bark(self):\n",
    "        print('Woof!')\n",
    "d = Dog()\n",
    "d.bark()"
   ]
  },
  {
   "cell_type": "code",
   "execution_count": null,
   "id": "5a09cfd0",
   "metadata": {},
   "outputs": [],
   "source": [
    "# Topic: Mini Projects\n",
    "# Palindrome checker\n",
    "def is_palindrome(s):\n",
    " return s == s[::-1]\n",
    "print(is_palindrome('madam'))"
   ]
  },
  {
   "cell_type": "code",
   "execution_count": null,
   "id": "e03e6cae",
   "metadata": {},
   "outputs": [],
   "source": [
    "# Topic: File I/O\n",
    "with open('sample.txt') as f:\n",
    "    print(f.read())"
   ]
  },
  {
   "cell_type": "code",
   "execution_count": null,
   "id": "baa25dcc",
   "metadata": {},
   "outputs": [],
   "source": [
    "# Topic: Basics\n",
    "a = 5\n",
    "b = 3\n",
    "print(a * b)"
   ]
  },
  {
   "cell_type": "code",
   "execution_count": null,
   "id": "746ec947",
   "metadata": {},
   "outputs": [],
   "source": [
    "# Topic: Loops\n",
    "i = 0\n",
    "while i < 5:\n",
    "    print(i)\n",
    "    i += 1"
   ]
  },
  {
   "cell_type": "code",
   "execution_count": null,
   "id": "038e0bea",
   "metadata": {},
   "outputs": [],
   "source": [
    "# Topic: File I/O\n",
    "with open('sample.txt') as f:\n",
    "    print(f.read())"
   ]
  },
  {
   "cell_type": "code",
   "execution_count": null,
   "id": "1dd2cc0b",
   "metadata": {},
   "outputs": [],
   "source": [
    "# Topic: Web Scraping\n",
    "import requests\n",
    "from bs4 import BeautifulSoup\n",
    "r = requests.get('https://example.com')\n",
    "soup = BeautifulSoup(r.text, 'html.parser')\n",
    "print(soup.title.string)"
   ]
  },
  {
   "cell_type": "code",
   "execution_count": null,
   "id": "6e3ea4c5",
   "metadata": {},
   "outputs": [],
   "source": [
    "# Topic: Exceptions\n",
    "try:\n",
    "    print(10/0)\n",
    "except ZeroDivisionError:\n",
    "    print('Cannot divide by zero')"
   ]
  },
  {
   "cell_type": "code",
   "execution_count": null,
   "id": "44566210",
   "metadata": {},
   "outputs": [],
   "source": [
    "# Topic: File I/O\n",
    "with open('sample.txt', 'w') as f:\n",
    "    f.write('Hello World')"
   ]
  },
  {
   "cell_type": "code",
   "execution_count": null,
   "id": "c2144dbb",
   "metadata": {},
   "outputs": [],
   "source": [
    "# Topic: Exceptions\n",
    "try:\n",
    "    print(10/0)\n",
    "except ZeroDivisionError:\n",
    "    print('Cannot divide by zero')"
   ]
  },
  {
   "cell_type": "code",
   "execution_count": null,
   "id": "a698d84a",
   "metadata": {},
   "outputs": [],
   "source": [
    "# Topic: Decorators\n",
    "def decorator(fn):\n",
    "    def wrapper():\n",
    "        print('Before')\n",
    "        fn()\n",
    "        print('After')\n",
    "    return wrapper\n",
    "@decorator\n",
    "def say(): print('Hi')\n",
    "say()"
   ]
  },
  {
   "cell_type": "code",
   "execution_count": null,
   "id": "b0d414ac",
   "metadata": {},
   "outputs": [],
   "source": [
    "# Topic: Web Scraping\n",
    "import requests\n",
    "from bs4 import BeautifulSoup\n",
    "r = requests.get('https://example.com')\n",
    "soup = BeautifulSoup(r.text, 'html.parser')\n",
    "print(soup.title.string)"
   ]
  },
  {
   "cell_type": "code",
   "execution_count": null,
   "id": "819e092c",
   "metadata": {},
   "outputs": [],
   "source": [
    "# Topic: File I/O\n",
    "with open('sample.txt') as f:\n",
    "    print(f.read())"
   ]
  },
  {
   "cell_type": "code",
   "execution_count": null,
   "id": "b62bfaa9",
   "metadata": {},
   "outputs": [],
   "source": [
    "# Topic: Classes & Objects\n",
    "class Dog:\n",
    "    def bark(self):\n",
    "        print('Woof!')\n",
    "d = Dog()\n",
    "d.bark()"
   ]
  },
  {
   "cell_type": "code",
   "execution_count": null,
   "id": "8e315252",
   "metadata": {},
   "outputs": [],
   "source": [
    "# Topic: Basics\n",
    "a = 5\n",
    "b = 3\n",
    "print(a * b)"
   ]
  },
  {
   "cell_type": "code",
   "execution_count": null,
   "id": "451a0ac1",
   "metadata": {},
   "outputs": [],
   "source": [
    "# Topic: Exceptions\n",
    "try:\n",
    "    print(10/0)\n",
    "except ZeroDivisionError:\n",
    "    print('Cannot divide by zero')"
   ]
  },
  {
   "cell_type": "code",
   "execution_count": null,
   "id": "ee2a161a",
   "metadata": {},
   "outputs": [],
   "source": [
    "# Topic: Web Scraping\n",
    "import requests\n",
    "from bs4 import BeautifulSoup\n",
    "r = requests.get('https://example.com')\n",
    "soup = BeautifulSoup(r.text, 'html.parser')\n",
    "print(soup.title.string)"
   ]
  },
  {
   "cell_type": "code",
   "execution_count": null,
   "id": "3a1d7556",
   "metadata": {},
   "outputs": [],
   "source": [
    "# Topic: Lists & Tuples\n",
    "t = (1,2,3)\n",
    "print(t[1])"
   ]
  },
  {
   "cell_type": "code",
   "execution_count": null,
   "id": "a43fe810",
   "metadata": {},
   "outputs": [],
   "source": [
    "# Topic: Matplotlib\n",
    "import matplotlib.pyplot as plt\n",
    "plt.plot([1,2],[3,4])\n",
    "plt.show()"
   ]
  },
  {
   "cell_type": "code",
   "execution_count": null,
   "id": "e2f4a8d7",
   "metadata": {},
   "outputs": [],
   "source": [
    "# Topic: Web Scraping\n",
    "import requests\n",
    "from bs4 import BeautifulSoup\n",
    "r = requests.get('https://example.com')\n",
    "soup = BeautifulSoup(r.text, 'html.parser')\n",
    "print(soup.title.string)"
   ]
  },
  {
   "cell_type": "code",
   "execution_count": null,
   "id": "377975e5",
   "metadata": {},
   "outputs": [],
   "source": [
    "# Topic: Matplotlib\n",
    "import matplotlib.pyplot as plt\n",
    "plt.bar(['A','B'], [10,20])\n",
    "plt.show()"
   ]
  },
  {
   "cell_type": "code",
   "execution_count": null,
   "id": "50e22dc4",
   "metadata": {},
   "outputs": [],
   "source": [
    "# Topic: NumPy\n",
    "import numpy as np\n",
    "print(np.arange(0, 10, 2))"
   ]
  },
  {
   "cell_type": "code",
   "execution_count": null,
   "id": "3631d9c0",
   "metadata": {},
   "outputs": [],
   "source": [
    "# Topic: Functions\n",
    "def add(a, b): return a + b\n",
    "print(add(3, 4))"
   ]
  },
  {
   "cell_type": "code",
   "execution_count": null,
   "id": "cfdb5e75",
   "metadata": {},
   "outputs": [],
   "source": [
    "# Topic: Recursion\n",
    "def fib(n):\n",
    "    if n <= 1: return n\n",
    "    return fib(n-1) + fib(n-2)\n",
    "print(fib(5))"
   ]
  },
  {
   "cell_type": "code",
   "execution_count": null,
   "id": "737c1b13",
   "metadata": {},
   "outputs": [],
   "source": [
    "# Topic: Loops\n",
    "i = 0\n",
    "while i < 5:\n",
    "    print(i)\n",
    "    i += 1"
   ]
  },
  {
   "cell_type": "code",
   "execution_count": null,
   "id": "ae90396a",
   "metadata": {},
   "outputs": [],
   "source": [
    "# Topic: Functions\n",
    "def add(a, b): return a + b\n",
    "print(add(3, 4))"
   ]
  },
  {
   "cell_type": "code",
   "execution_count": null,
   "id": "53ef1163",
   "metadata": {},
   "outputs": [],
   "source": [
    "# Topic: Exceptions\n",
    "try:\n",
    "    print(10/0)\n",
    "except ZeroDivisionError:\n",
    "    print('Cannot divide by zero')"
   ]
  },
  {
   "cell_type": "code",
   "execution_count": null,
   "id": "784fb58b",
   "metadata": {},
   "outputs": [],
   "source": [
    "# Topic: Matplotlib\n",
    "import matplotlib.pyplot as plt\n",
    "plt.bar(['A','B'], [10,20])\n",
    "plt.show()"
   ]
  },
  {
   "cell_type": "code",
   "execution_count": null,
   "id": "2368c2cc",
   "metadata": {},
   "outputs": [],
   "source": [
    "# Topic: Exceptions\n",
    "try:\n",
    "    print(10/0)\n",
    "except ZeroDivisionError:\n",
    "    print('Cannot divide by zero')"
   ]
  },
  {
   "cell_type": "code",
   "execution_count": null,
   "id": "1746315d",
   "metadata": {},
   "outputs": [],
   "source": [
    "# Topic: Matplotlib\n",
    "import matplotlib.pyplot as plt\n",
    "plt.bar(['A','B'], [10,20])\n",
    "plt.show()"
   ]
  },
  {
   "cell_type": "code",
   "execution_count": null,
   "id": "c7c2587a",
   "metadata": {},
   "outputs": [],
   "source": [
    "# Topic: Web Scraping\n",
    "import requests\n",
    "from bs4 import BeautifulSoup\n",
    "r = requests.get('https://example.com')\n",
    "soup = BeautifulSoup(r.text, 'html.parser')\n",
    "print(soup.title.string)"
   ]
  },
  {
   "cell_type": "code",
   "execution_count": null,
   "id": "f5f52033",
   "metadata": {},
   "outputs": [],
   "source": [
    "# Topic: Loops\n",
    "for i in range(10): print(i*i)"
   ]
  },
  {
   "cell_type": "code",
   "execution_count": null,
   "id": "797b8867",
   "metadata": {},
   "outputs": [],
   "source": [
    "# Topic: Pandas\n",
    "import pandas as pd\n",
    "df = pd.DataFrame({'A':[1,2],'B':[3,4]})\n",
    "print(df)"
   ]
  },
  {
   "cell_type": "code",
   "execution_count": null,
   "id": "66b5792f",
   "metadata": {},
   "outputs": [],
   "source": [
    "# Topic: Exceptions\n",
    "try:\n",
    "    print(10/0)\n",
    "except ZeroDivisionError:\n",
    "    print('Cannot divide by zero')"
   ]
  },
  {
   "cell_type": "code",
   "execution_count": null,
   "id": "45329600",
   "metadata": {},
   "outputs": [],
   "source": [
    "# Topic: Mini Projects\n",
    "# Simple calculator\n",
    "def calc(a,b,op):\n",
    " if op=='+': return a+b\n",
    " elif op=='-': return a-b\n",
    "print(calc(10,5,'+'))"
   ]
  },
  {
   "cell_type": "code",
   "execution_count": null,
   "id": "b9f0cdd1",
   "metadata": {},
   "outputs": [],
   "source": [
    "# Topic: Classes & Objects\n",
    "class Dog:\n",
    "    def bark(self):\n",
    "        print('Woof!')\n",
    "d = Dog()\n",
    "d.bark()"
   ]
  },
  {
   "cell_type": "code",
   "execution_count": null,
   "id": "ac94cd4c",
   "metadata": {},
   "outputs": [],
   "source": [
    "# Topic: Web Scraping\n",
    "import requests\n",
    "from bs4 import BeautifulSoup\n",
    "r = requests.get('https://example.com')\n",
    "soup = BeautifulSoup(r.text, 'html.parser')\n",
    "print(soup.title.string)"
   ]
  },
  {
   "cell_type": "code",
   "execution_count": null,
   "id": "dd812906",
   "metadata": {},
   "outputs": [],
   "source": [
    "# Topic: Functions\n",
    "def add(a, b): return a + b\n",
    "print(add(3, 4))"
   ]
  },
  {
   "cell_type": "code",
   "execution_count": null,
   "id": "fdd95331",
   "metadata": {},
   "outputs": [],
   "source": [
    "# Topic: Mini Projects\n",
    "# Simple calculator\n",
    "def calc(a,b,op):\n",
    " if op=='+': return a+b\n",
    " elif op=='-': return a-b\n",
    "print(calc(10,5,'+'))"
   ]
  },
  {
   "cell_type": "code",
   "execution_count": null,
   "id": "3102161c",
   "metadata": {},
   "outputs": [],
   "source": [
    "# Topic: Exceptions\n",
    "try:\n",
    "    print(10/0)\n",
    "except ZeroDivisionError:\n",
    "    print('Cannot divide by zero')"
   ]
  },
  {
   "cell_type": "code",
   "execution_count": null,
   "id": "d3bede55",
   "metadata": {},
   "outputs": [],
   "source": [
    "# Topic: Basics\n",
    "a = 5\n",
    "b = 3\n",
    "print(a * b)"
   ]
  },
  {
   "cell_type": "code",
   "execution_count": null,
   "id": "2bc954e8",
   "metadata": {},
   "outputs": [],
   "source": [
    "# Topic: Decorators\n",
    "def decorator(fn):\n",
    "    def wrapper():\n",
    "        print('Before')\n",
    "        fn()\n",
    "        print('After')\n",
    "    return wrapper\n",
    "@decorator\n",
    "def say(): print('Hi')\n",
    "say()"
   ]
  },
  {
   "cell_type": "code",
   "execution_count": null,
   "id": "3f5f0166",
   "metadata": {},
   "outputs": [],
   "source": [
    "# Topic: Classes & Objects\n",
    "class Dog:\n",
    "    def bark(self):\n",
    "        print('Woof!')\n",
    "d = Dog()\n",
    "d.bark()"
   ]
  },
  {
   "cell_type": "code",
   "execution_count": null,
   "id": "dc7179b3",
   "metadata": {},
   "outputs": [],
   "source": [
    "# Topic: Exceptions\n",
    "try:\n",
    "    print(10/0)\n",
    "except ZeroDivisionError:\n",
    "    print('Cannot divide by zero')"
   ]
  },
  {
   "cell_type": "code",
   "execution_count": null,
   "id": "bc8ff0d4",
   "metadata": {},
   "outputs": [],
   "source": [
    "# Topic: Matplotlib\n",
    "import matplotlib.pyplot as plt\n",
    "plt.bar(['A','B'], [10,20])\n",
    "plt.show()"
   ]
  },
  {
   "cell_type": "code",
   "execution_count": null,
   "id": "34abf8c8",
   "metadata": {},
   "outputs": [],
   "source": [
    "# Topic: Loops\n",
    "for i in range(10): print(i*i)"
   ]
  },
  {
   "cell_type": "code",
   "execution_count": null,
   "id": "ffb050f1",
   "metadata": {},
   "outputs": [],
   "source": [
    "# Topic: Matplotlib\n",
    "import matplotlib.pyplot as plt\n",
    "plt.plot([1,2],[3,4])\n",
    "plt.show()"
   ]
  },
  {
   "cell_type": "code",
   "execution_count": null,
   "id": "bb318e7b",
   "metadata": {},
   "outputs": [],
   "source": [
    "# Topic: NumPy\n",
    "import numpy as np\n",
    "a = np.array([1,2,3])\n",
    "print(a * 2)"
   ]
  },
  {
   "cell_type": "code",
   "execution_count": null,
   "id": "5409fd4b",
   "metadata": {},
   "outputs": [],
   "source": [
    "# Topic: Dictionaries & Sets\n",
    "s = {1,2,3}\n",
    "s.add(4)\n",
    "print(s)"
   ]
  },
  {
   "cell_type": "code",
   "execution_count": null,
   "id": "681c7171",
   "metadata": {},
   "outputs": [],
   "source": [
    "# Topic: Basics\n",
    "name = 'Fahd'\n",
    "print(f'Welcome, {name}')"
   ]
  },
  {
   "cell_type": "code",
   "execution_count": null,
   "id": "80e5fdd8",
   "metadata": {},
   "outputs": [],
   "source": [
    "# Topic: Web Scraping\n",
    "import requests\n",
    "from bs4 import BeautifulSoup\n",
    "r = requests.get('https://example.com')\n",
    "soup = BeautifulSoup(r.text, 'html.parser')\n",
    "print(soup.title.string)"
   ]
  },
  {
   "cell_type": "code",
   "execution_count": null,
   "id": "f6801ead",
   "metadata": {},
   "outputs": [],
   "source": [
    "# Topic: Exceptions\n",
    "try:\n",
    "    print(10/0)\n",
    "except ZeroDivisionError:\n",
    "    print('Cannot divide by zero')"
   ]
  },
  {
   "cell_type": "code",
   "execution_count": null,
   "id": "62095bef",
   "metadata": {},
   "outputs": [],
   "source": [
    "# Topic: File I/O\n",
    "with open('sample.txt') as f:\n",
    "    print(f.read())"
   ]
  },
  {
   "cell_type": "code",
   "execution_count": null,
   "id": "f90fdfc6",
   "metadata": {},
   "outputs": [],
   "source": [
    "# Topic: Functions\n",
    "def factorial(n):\n",
    "    return 1 if n==0 else n * factorial(n-1)\n",
    "print(factorial(5))"
   ]
  },
  {
   "cell_type": "code",
   "execution_count": null,
   "id": "65d40b94",
   "metadata": {},
   "outputs": [],
   "source": [
    "# Topic: Web Scraping\n",
    "import requests\n",
    "from bs4 import BeautifulSoup\n",
    "r = requests.get('https://example.com')\n",
    "soup = BeautifulSoup(r.text, 'html.parser')\n",
    "print(soup.title.string)"
   ]
  },
  {
   "cell_type": "code",
   "execution_count": null,
   "id": "35a4baa8",
   "metadata": {},
   "outputs": [],
   "source": [
    "# Topic: Exceptions\n",
    "try:\n",
    "    print(10/0)\n",
    "except ZeroDivisionError:\n",
    "    print('Cannot divide by zero')"
   ]
  },
  {
   "cell_type": "code",
   "execution_count": null,
   "id": "1f035454",
   "metadata": {},
   "outputs": [],
   "source": [
    "# Topic: Exceptions\n",
    "try:\n",
    "    print(10/0)\n",
    "except ZeroDivisionError:\n",
    "    print('Cannot divide by zero')"
   ]
  },
  {
   "cell_type": "code",
   "execution_count": null,
   "id": "b86098ee",
   "metadata": {},
   "outputs": [],
   "source": [
    "# Topic: Basics\n",
    "x = 7\n",
    "print('Odd' if x % 2 else 'Even')"
   ]
  },
  {
   "cell_type": "code",
   "execution_count": null,
   "id": "98f025d8",
   "metadata": {},
   "outputs": [],
   "source": [
    "# Topic: Dictionaries & Sets\n",
    "s = {1,2,3}\n",
    "s.add(4)\n",
    "print(s)"
   ]
  },
  {
   "cell_type": "code",
   "execution_count": null,
   "id": "41a28325",
   "metadata": {},
   "outputs": [],
   "source": [
    "# Topic: Mini Projects\n",
    "# Palindrome checker\n",
    "def is_palindrome(s):\n",
    " return s == s[::-1]\n",
    "print(is_palindrome('madam'))"
   ]
  },
  {
   "cell_type": "code",
   "execution_count": null,
   "id": "4c19a24e",
   "metadata": {},
   "outputs": [],
   "source": [
    "# Topic: Recursion\n",
    "def fib(n):\n",
    "    if n <= 1: return n\n",
    "    return fib(n-1) + fib(n-2)\n",
    "print(fib(5))"
   ]
  },
  {
   "cell_type": "code",
   "execution_count": null,
   "id": "f90eb4db",
   "metadata": {},
   "outputs": [],
   "source": [
    "# Topic: Classes & Objects\n",
    "class Dog:\n",
    "    def bark(self):\n",
    "        print('Woof!')\n",
    "d = Dog()\n",
    "d.bark()"
   ]
  },
  {
   "cell_type": "code",
   "execution_count": null,
   "id": "0dd125b3",
   "metadata": {},
   "outputs": [],
   "source": [
    "# Topic: Web Scraping\n",
    "import requests\n",
    "from bs4 import BeautifulSoup\n",
    "r = requests.get('https://example.com')\n",
    "soup = BeautifulSoup(r.text, 'html.parser')\n",
    "print(soup.title.string)"
   ]
  },
  {
   "cell_type": "code",
   "execution_count": null,
   "id": "619f4eac",
   "metadata": {},
   "outputs": [],
   "source": [
    "# Topic: Functions\n",
    "def factorial(n):\n",
    "    return 1 if n==0 else n * factorial(n-1)\n",
    "print(factorial(5))"
   ]
  },
  {
   "cell_type": "code",
   "execution_count": null,
   "id": "4b6ed36f",
   "metadata": {},
   "outputs": [],
   "source": [
    "# Topic: Basics\n",
    "name = 'Fahd'\n",
    "print(f'Welcome, {name}')"
   ]
  },
  {
   "cell_type": "code",
   "execution_count": null,
   "id": "d2b8a5b7",
   "metadata": {},
   "outputs": [],
   "source": [
    "# Topic: Classes & Objects\n",
    "class Dog:\n",
    "    def bark(self):\n",
    "        print('Woof!')\n",
    "d = Dog()\n",
    "d.bark()"
   ]
  },
  {
   "cell_type": "code",
   "execution_count": null,
   "id": "e4882462",
   "metadata": {},
   "outputs": [],
   "source": [
    "# Topic: Dictionaries & Sets\n",
    "s = {1,2,3}\n",
    "s.add(4)\n",
    "print(s)"
   ]
  },
  {
   "cell_type": "code",
   "execution_count": null,
   "id": "fb75b0d8",
   "metadata": {},
   "outputs": [],
   "source": [
    "# Topic: File I/O\n",
    "with open('sample.txt', 'w') as f:\n",
    "    f.write('Hello World')"
   ]
  },
  {
   "cell_type": "code",
   "execution_count": null,
   "id": "671ad090",
   "metadata": {},
   "outputs": [],
   "source": [
    "# Topic: Loops\n",
    "for i in range(10): print(i*i)"
   ]
  },
  {
   "cell_type": "code",
   "execution_count": null,
   "id": "55270847",
   "metadata": {},
   "outputs": [],
   "source": [
    "# Topic: File I/O\n",
    "with open('sample.txt') as f:\n",
    "    print(f.read())"
   ]
  },
  {
   "cell_type": "code",
   "execution_count": null,
   "id": "4485dfba",
   "metadata": {},
   "outputs": [],
   "source": [
    "# Topic: Classes & Objects\n",
    "class Dog:\n",
    "    def bark(self):\n",
    "        print('Woof!')\n",
    "d = Dog()\n",
    "d.bark()"
   ]
  },
  {
   "cell_type": "code",
   "execution_count": null,
   "id": "b3cbab36",
   "metadata": {},
   "outputs": [],
   "source": [
    "# Topic: Basics\n",
    "name = 'Fahd'\n",
    "print(f'Welcome, {name}')"
   ]
  },
  {
   "cell_type": "code",
   "execution_count": null,
   "id": "816b3045",
   "metadata": {},
   "outputs": [],
   "source": [
    "# Topic: Exceptions\n",
    "try:\n",
    "    print(10/0)\n",
    "except ZeroDivisionError:\n",
    "    print('Cannot divide by zero')"
   ]
  },
  {
   "cell_type": "code",
   "execution_count": null,
   "id": "cce9d087",
   "metadata": {},
   "outputs": [],
   "source": [
    "# Topic: Mini Projects\n",
    "# Simple calculator\n",
    "def calc(a,b,op):\n",
    " if op=='+': return a+b\n",
    " elif op=='-': return a-b\n",
    "print(calc(10,5,'+'))"
   ]
  },
  {
   "cell_type": "code",
   "execution_count": null,
   "id": "b4355a51",
   "metadata": {},
   "outputs": [],
   "source": [
    "# Topic: Web Scraping\n",
    "import requests\n",
    "from bs4 import BeautifulSoup\n",
    "r = requests.get('https://example.com')\n",
    "soup = BeautifulSoup(r.text, 'html.parser')\n",
    "print(soup.title.string)"
   ]
  },
  {
   "cell_type": "code",
   "execution_count": null,
   "id": "7ff4d55f",
   "metadata": {},
   "outputs": [],
   "source": [
    "# Topic: Functions\n",
    "def factorial(n):\n",
    "    return 1 if n==0 else n * factorial(n-1)\n",
    "print(factorial(5))"
   ]
  },
  {
   "cell_type": "code",
   "execution_count": null,
   "id": "b98cc7d5",
   "metadata": {},
   "outputs": [],
   "source": [
    "# Topic: Loops\n",
    "i = 0\n",
    "while i < 5:\n",
    "    print(i)\n",
    "    i += 1"
   ]
  },
  {
   "cell_type": "code",
   "execution_count": null,
   "id": "2fdf985d",
   "metadata": {},
   "outputs": [],
   "source": [
    "# Topic: Basics\n",
    "x = 7\n",
    "print('Odd' if x % 2 else 'Even')"
   ]
  },
  {
   "cell_type": "code",
   "execution_count": null,
   "id": "23f80c12",
   "metadata": {},
   "outputs": [],
   "source": [
    "# Topic: Mini Projects\n",
    "# Simple calculator\n",
    "def calc(a,b,op):\n",
    " if op=='+': return a+b\n",
    " elif op=='-': return a-b\n",
    "print(calc(10,5,'+'))"
   ]
  },
  {
   "cell_type": "code",
   "execution_count": null,
   "id": "bb5b9d2c",
   "metadata": {},
   "outputs": [],
   "source": [
    "# Topic: Exceptions\n",
    "try:\n",
    "    print(10/0)\n",
    "except ZeroDivisionError:\n",
    "    print('Cannot divide by zero')"
   ]
  },
  {
   "cell_type": "code",
   "execution_count": null,
   "id": "e56d9680",
   "metadata": {},
   "outputs": [],
   "source": [
    "# Topic: Classes & Objects\n",
    "class Dog:\n",
    "    def bark(self):\n",
    "        print('Woof!')\n",
    "d = Dog()\n",
    "d.bark()"
   ]
  },
  {
   "cell_type": "code",
   "execution_count": null,
   "id": "0387b799",
   "metadata": {},
   "outputs": [],
   "source": [
    "# Topic: Lists & Tuples\n",
    "nums = [1,2,3]\n",
    "nums.append(4)\n",
    "print(nums)"
   ]
  },
  {
   "cell_type": "code",
   "execution_count": null,
   "id": "cf72c0f6",
   "metadata": {},
   "outputs": [],
   "source": [
    "# Topic: Recursion\n",
    "def fib(n):\n",
    "    if n <= 1: return n\n",
    "    return fib(n-1) + fib(n-2)\n",
    "print(fib(5))"
   ]
  },
  {
   "cell_type": "code",
   "execution_count": null,
   "id": "2de0f3de",
   "metadata": {},
   "outputs": [],
   "source": [
    "# Topic: Lists & Tuples\n",
    "t = (1,2,3)\n",
    "print(t[1])"
   ]
  },
  {
   "cell_type": "code",
   "execution_count": null,
   "id": "1bf6b1c8",
   "metadata": {},
   "outputs": [],
   "source": [
    "# Topic: Mini Projects\n",
    "# Palindrome checker\n",
    "def is_palindrome(s):\n",
    " return s == s[::-1]\n",
    "print(is_palindrome('madam'))"
   ]
  },
  {
   "cell_type": "code",
   "execution_count": null,
   "id": "4ac8cded",
   "metadata": {},
   "outputs": [],
   "source": [
    "# Topic: Loops\n",
    "for i in range(10): print(i*i)"
   ]
  },
  {
   "cell_type": "code",
   "execution_count": null,
   "id": "c834fe74",
   "metadata": {},
   "outputs": [],
   "source": [
    "# Topic: File I/O\n",
    "with open('sample.txt') as f:\n",
    "    print(f.read())"
   ]
  },
  {
   "cell_type": "code",
   "execution_count": null,
   "id": "082b58f5",
   "metadata": {},
   "outputs": [],
   "source": [
    "# Topic: Exceptions\n",
    "try:\n",
    "    print(10/0)\n",
    "except ZeroDivisionError:\n",
    "    print('Cannot divide by zero')"
   ]
  },
  {
   "cell_type": "code",
   "execution_count": null,
   "id": "57b33edb",
   "metadata": {},
   "outputs": [],
   "source": [
    "# Topic: Functions\n",
    "def add(a, b): return a + b\n",
    "print(add(3, 4))"
   ]
  },
  {
   "cell_type": "code",
   "execution_count": null,
   "id": "9bb4d04a",
   "metadata": {},
   "outputs": [],
   "source": [
    "# Topic: Basics\n",
    "a = 5\n",
    "b = 3\n",
    "print(a * b)"
   ]
  },
  {
   "cell_type": "code",
   "execution_count": null,
   "id": "d1663f0c",
   "metadata": {},
   "outputs": [],
   "source": [
    "# Topic: Decorators\n",
    "def decorator(fn):\n",
    "    def wrapper():\n",
    "        print('Before')\n",
    "        fn()\n",
    "        print('After')\n",
    "    return wrapper\n",
    "@decorator\n",
    "def say(): print('Hi')\n",
    "say()"
   ]
  },
  {
   "cell_type": "code",
   "execution_count": null,
   "id": "3fe4250a",
   "metadata": {},
   "outputs": [],
   "source": [
    "# Topic: File I/O\n",
    "with open('sample.txt', 'w') as f:\n",
    "    f.write('Hello World')"
   ]
  },
  {
   "cell_type": "code",
   "execution_count": null,
   "id": "04aac7dc",
   "metadata": {},
   "outputs": [],
   "source": [
    "# Topic: Pandas\n",
    "import pandas as pd\n",
    "df = pd.DataFrame({'A':[1,2],'B':[3,4]})\n",
    "print(df)"
   ]
  },
  {
   "cell_type": "code",
   "execution_count": null,
   "id": "cb25a0fb",
   "metadata": {},
   "outputs": [],
   "source": [
    "# Topic: Lists & Tuples\n",
    "t = (1,2,3)\n",
    "print(t[1])"
   ]
  },
  {
   "cell_type": "code",
   "execution_count": null,
   "id": "988b036a",
   "metadata": {},
   "outputs": [],
   "source": [
    "# Topic: Lists & Tuples\n",
    "t = (1,2,3)\n",
    "print(t[1])"
   ]
  },
  {
   "cell_type": "code",
   "execution_count": null,
   "id": "e124162c",
   "metadata": {},
   "outputs": [],
   "source": [
    "# Topic: File I/O\n",
    "with open('sample.txt', 'w') as f:\n",
    "    f.write('Hello World')"
   ]
  },
  {
   "cell_type": "code",
   "execution_count": null,
   "id": "f8b2e898",
   "metadata": {},
   "outputs": [],
   "source": [
    "# Topic: Decorators\n",
    "def decorator(fn):\n",
    "    def wrapper():\n",
    "        print('Before')\n",
    "        fn()\n",
    "        print('After')\n",
    "    return wrapper\n",
    "@decorator\n",
    "def say(): print('Hi')\n",
    "say()"
   ]
  },
  {
   "cell_type": "code",
   "execution_count": null,
   "id": "d451a136",
   "metadata": {},
   "outputs": [],
   "source": [
    "# Topic: Functions\n",
    "def factorial(n):\n",
    "    return 1 if n==0 else n * factorial(n-1)\n",
    "print(factorial(5))"
   ]
  },
  {
   "cell_type": "code",
   "execution_count": null,
   "id": "64744646",
   "metadata": {},
   "outputs": [],
   "source": [
    "# Topic: Exceptions\n",
    "try:\n",
    "    print(10/0)\n",
    "except ZeroDivisionError:\n",
    "    print('Cannot divide by zero')"
   ]
  },
  {
   "cell_type": "code",
   "execution_count": null,
   "id": "ee8aa6e8",
   "metadata": {},
   "outputs": [],
   "source": [
    "# Topic: Decorators\n",
    "def decorator(fn):\n",
    "    def wrapper():\n",
    "        print('Before')\n",
    "        fn()\n",
    "        print('After')\n",
    "    return wrapper\n",
    "@decorator\n",
    "def say(): print('Hi')\n",
    "say()"
   ]
  },
  {
   "cell_type": "code",
   "execution_count": null,
   "id": "aa7a7571",
   "metadata": {},
   "outputs": [],
   "source": [
    "# Topic: Decorators\n",
    "def decorator(fn):\n",
    "    def wrapper():\n",
    "        print('Before')\n",
    "        fn()\n",
    "        print('After')\n",
    "    return wrapper\n",
    "@decorator\n",
    "def say(): print('Hi')\n",
    "say()"
   ]
  },
  {
   "cell_type": "code",
   "execution_count": null,
   "id": "e19a1aa2",
   "metadata": {},
   "outputs": [],
   "source": [
    "# Topic: Recursion\n",
    "def fib(n):\n",
    "    if n <= 1: return n\n",
    "    return fib(n-1) + fib(n-2)\n",
    "print(fib(5))"
   ]
  },
  {
   "cell_type": "code",
   "execution_count": null,
   "id": "9ade3fa2",
   "metadata": {},
   "outputs": [],
   "source": [
    "# Topic: Loops\n",
    "for i in range(10): print(i*i)"
   ]
  },
  {
   "cell_type": "code",
   "execution_count": null,
   "id": "4b2e8615",
   "metadata": {},
   "outputs": [],
   "source": [
    "# Topic: Web Scraping\n",
    "import requests\n",
    "from bs4 import BeautifulSoup\n",
    "r = requests.get('https://example.com')\n",
    "soup = BeautifulSoup(r.text, 'html.parser')\n",
    "print(soup.title.string)"
   ]
  },
  {
   "cell_type": "code",
   "execution_count": null,
   "id": "551c5961",
   "metadata": {},
   "outputs": [],
   "source": [
    "# Topic: Exceptions\n",
    "try:\n",
    "    print(10/0)\n",
    "except ZeroDivisionError:\n",
    "    print('Cannot divide by zero')"
   ]
  },
  {
   "cell_type": "code",
   "execution_count": null,
   "id": "8e14246d",
   "metadata": {},
   "outputs": [],
   "source": [
    "# Topic: Functions\n",
    "def add(a, b): return a + b\n",
    "print(add(3, 4))"
   ]
  },
  {
   "cell_type": "code",
   "execution_count": null,
   "id": "abfa66cd",
   "metadata": {},
   "outputs": [],
   "source": [
    "# Topic: Basics\n",
    "name = 'Fahd'\n",
    "print(f'Welcome, {name}')"
   ]
  },
  {
   "cell_type": "code",
   "execution_count": null,
   "id": "d064b482",
   "metadata": {},
   "outputs": [],
   "source": [
    "# Topic: Decorators\n",
    "def decorator(fn):\n",
    "    def wrapper():\n",
    "        print('Before')\n",
    "        fn()\n",
    "        print('After')\n",
    "    return wrapper\n",
    "@decorator\n",
    "def say(): print('Hi')\n",
    "say()"
   ]
  },
  {
   "cell_type": "code",
   "execution_count": null,
   "id": "2ca1716a",
   "metadata": {},
   "outputs": [],
   "source": [
    "# Topic: Pandas\n",
    "import pandas as pd\n",
    "df = pd.read_csv('data.csv')\n",
    "print(df.head())"
   ]
  },
  {
   "cell_type": "code",
   "execution_count": null,
   "id": "1489b133",
   "metadata": {},
   "outputs": [],
   "source": [
    "# Topic: Exceptions\n",
    "try:\n",
    "    print(10/0)\n",
    "except ZeroDivisionError:\n",
    "    print('Cannot divide by zero')"
   ]
  },
  {
   "cell_type": "code",
   "execution_count": null,
   "id": "5292a65f",
   "metadata": {},
   "outputs": [],
   "source": [
    "# Topic: Pandas\n",
    "import pandas as pd\n",
    "df = pd.read_csv('data.csv')\n",
    "print(df.head())"
   ]
  },
  {
   "cell_type": "code",
   "execution_count": null,
   "id": "e56192b7",
   "metadata": {},
   "outputs": [],
   "source": [
    "# Topic: Decorators\n",
    "def decorator(fn):\n",
    "    def wrapper():\n",
    "        print('Before')\n",
    "        fn()\n",
    "        print('After')\n",
    "    return wrapper\n",
    "@decorator\n",
    "def say(): print('Hi')\n",
    "say()"
   ]
  },
  {
   "cell_type": "code",
   "execution_count": null,
   "id": "87b616d6",
   "metadata": {},
   "outputs": [],
   "source": [
    "# Topic: NumPy\n",
    "import numpy as np\n",
    "a = np.array([1,2,3])\n",
    "print(a * 2)"
   ]
  },
  {
   "cell_type": "code",
   "execution_count": null,
   "id": "9ffcbd68",
   "metadata": {},
   "outputs": [],
   "source": [
    "# Topic: Basics\n",
    "name = 'Fahd'\n",
    "print(f'Welcome, {name}')"
   ]
  },
  {
   "cell_type": "code",
   "execution_count": null,
   "id": "6bdf68d3",
   "metadata": {},
   "outputs": [],
   "source": [
    "# Topic: Basics\n",
    "x = 7\n",
    "print('Odd' if x % 2 else 'Even')"
   ]
  },
  {
   "cell_type": "code",
   "execution_count": null,
   "id": "0215dd39",
   "metadata": {},
   "outputs": [],
   "source": [
    "# Topic: Functions\n",
    "def factorial(n):\n",
    "    return 1 if n==0 else n * factorial(n-1)\n",
    "print(factorial(5))"
   ]
  },
  {
   "cell_type": "code",
   "execution_count": null,
   "id": "d0f54509",
   "metadata": {},
   "outputs": [],
   "source": [
    "# Topic: Pandas\n",
    "import pandas as pd\n",
    "df = pd.read_csv('data.csv')\n",
    "print(df.head())"
   ]
  },
  {
   "cell_type": "code",
   "execution_count": null,
   "id": "b025853b",
   "metadata": {},
   "outputs": [],
   "source": [
    "# Topic: Mini Projects\n",
    "# Palindrome checker\n",
    "def is_palindrome(s):\n",
    " return s == s[::-1]\n",
    "print(is_palindrome('madam'))"
   ]
  },
  {
   "cell_type": "code",
   "execution_count": null,
   "id": "775ca244",
   "metadata": {},
   "outputs": [],
   "source": [
    "# Topic: NumPy\n",
    "import numpy as np\n",
    "print(np.arange(0, 10, 2))"
   ]
  },
  {
   "cell_type": "code",
   "execution_count": null,
   "id": "ea7a7af0",
   "metadata": {},
   "outputs": [],
   "source": [
    "# Topic: Lists & Tuples\n",
    "t = (1,2,3)\n",
    "print(t[1])"
   ]
  },
  {
   "cell_type": "code",
   "execution_count": null,
   "id": "c680cf7e",
   "metadata": {},
   "outputs": [],
   "source": [
    "# Topic: Pandas\n",
    "import pandas as pd\n",
    "df = pd.DataFrame({'A':[1,2],'B':[3,4]})\n",
    "print(df)"
   ]
  },
  {
   "cell_type": "code",
   "execution_count": null,
   "id": "0e6254b9",
   "metadata": {},
   "outputs": [],
   "source": [
    "# Topic: Recursion\n",
    "def fib(n):\n",
    "    if n <= 1: return n\n",
    "    return fib(n-1) + fib(n-2)\n",
    "print(fib(5))"
   ]
  },
  {
   "cell_type": "code",
   "execution_count": null,
   "id": "2762b3ed",
   "metadata": {},
   "outputs": [],
   "source": [
    "# Topic: Web Scraping\n",
    "import requests\n",
    "from bs4 import BeautifulSoup\n",
    "r = requests.get('https://example.com')\n",
    "soup = BeautifulSoup(r.text, 'html.parser')\n",
    "print(soup.title.string)"
   ]
  },
  {
   "cell_type": "code",
   "execution_count": null,
   "id": "bca9c045",
   "metadata": {},
   "outputs": [],
   "source": [
    "# Topic: Lists & Tuples\n",
    "nums = [1,2,3]\n",
    "nums.append(4)\n",
    "print(nums)"
   ]
  },
  {
   "cell_type": "code",
   "execution_count": null,
   "id": "c4c8c981",
   "metadata": {},
   "outputs": [],
   "source": [
    "# Topic: Matplotlib\n",
    "import matplotlib.pyplot as plt\n",
    "plt.bar(['A','B'], [10,20])\n",
    "plt.show()"
   ]
  },
  {
   "cell_type": "code",
   "execution_count": null,
   "id": "cd889be9",
   "metadata": {},
   "outputs": [],
   "source": [
    "# Topic: File I/O\n",
    "with open('sample.txt', 'w') as f:\n",
    "    f.write('Hello World')"
   ]
  },
  {
   "cell_type": "code",
   "execution_count": null,
   "id": "e57cb487",
   "metadata": {},
   "outputs": [],
   "source": [
    "# Topic: Exceptions\n",
    "try:\n",
    "    print(10/0)\n",
    "except ZeroDivisionError:\n",
    "    print('Cannot divide by zero')"
   ]
  },
  {
   "cell_type": "code",
   "execution_count": null,
   "id": "ecd31f06",
   "metadata": {},
   "outputs": [],
   "source": [
    "# Topic: Web Scraping\n",
    "import requests\n",
    "from bs4 import BeautifulSoup\n",
    "r = requests.get('https://example.com')\n",
    "soup = BeautifulSoup(r.text, 'html.parser')\n",
    "print(soup.title.string)"
   ]
  },
  {
   "cell_type": "code",
   "execution_count": null,
   "id": "20ebe921",
   "metadata": {},
   "outputs": [],
   "source": [
    "# Topic: Web Scraping\n",
    "import requests\n",
    "from bs4 import BeautifulSoup\n",
    "r = requests.get('https://example.com')\n",
    "soup = BeautifulSoup(r.text, 'html.parser')\n",
    "print(soup.title.string)"
   ]
  },
  {
   "cell_type": "code",
   "execution_count": null,
   "id": "d421eb34",
   "metadata": {},
   "outputs": [],
   "source": [
    "# Topic: Web Scraping\n",
    "import requests\n",
    "from bs4 import BeautifulSoup\n",
    "r = requests.get('https://example.com')\n",
    "soup = BeautifulSoup(r.text, 'html.parser')\n",
    "print(soup.title.string)"
   ]
  },
  {
   "cell_type": "code",
   "execution_count": null,
   "id": "5bf5c5be",
   "metadata": {},
   "outputs": [],
   "source": [
    "# Topic: Classes & Objects\n",
    "class Dog:\n",
    "    def bark(self):\n",
    "        print('Woof!')\n",
    "d = Dog()\n",
    "d.bark()"
   ]
  },
  {
   "cell_type": "code",
   "execution_count": null,
   "id": "6d3f3dc0",
   "metadata": {},
   "outputs": [],
   "source": [
    "# Topic: Web Scraping\n",
    "import requests\n",
    "from bs4 import BeautifulSoup\n",
    "r = requests.get('https://example.com')\n",
    "soup = BeautifulSoup(r.text, 'html.parser')\n",
    "print(soup.title.string)"
   ]
  },
  {
   "cell_type": "code",
   "execution_count": null,
   "id": "2d8c6be5",
   "metadata": {},
   "outputs": [],
   "source": [
    "# Topic: Exceptions\n",
    "try:\n",
    "    print(10/0)\n",
    "except ZeroDivisionError:\n",
    "    print('Cannot divide by zero')"
   ]
  },
  {
   "cell_type": "code",
   "execution_count": null,
   "id": "294bfba6",
   "metadata": {},
   "outputs": [],
   "source": [
    "# Topic: NumPy\n",
    "import numpy as np\n",
    "print(np.arange(0, 10, 2))"
   ]
  },
  {
   "cell_type": "code",
   "execution_count": null,
   "id": "f939b8e1",
   "metadata": {},
   "outputs": [],
   "source": [
    "# Topic: Decorators\n",
    "def decorator(fn):\n",
    "    def wrapper():\n",
    "        print('Before')\n",
    "        fn()\n",
    "        print('After')\n",
    "    return wrapper\n",
    "@decorator\n",
    "def say(): print('Hi')\n",
    "say()"
   ]
  },
  {
   "cell_type": "code",
   "execution_count": null,
   "id": "04910cc9",
   "metadata": {},
   "outputs": [],
   "source": [
    "# Topic: Classes & Objects\n",
    "class Dog:\n",
    "    def bark(self):\n",
    "        print('Woof!')\n",
    "d = Dog()\n",
    "d.bark()"
   ]
  },
  {
   "cell_type": "code",
   "execution_count": null,
   "id": "a47af560",
   "metadata": {},
   "outputs": [],
   "source": [
    "# Topic: Classes & Objects\n",
    "class Dog:\n",
    "    def bark(self):\n",
    "        print('Woof!')\n",
    "d = Dog()\n",
    "d.bark()"
   ]
  },
  {
   "cell_type": "code",
   "execution_count": null,
   "id": "ef150cc8",
   "metadata": {},
   "outputs": [],
   "source": [
    "# Topic: Matplotlib\n",
    "import matplotlib.pyplot as plt\n",
    "plt.plot([1,2],[3,4])\n",
    "plt.show()"
   ]
  },
  {
   "cell_type": "code",
   "execution_count": null,
   "id": "dd025931",
   "metadata": {},
   "outputs": [],
   "source": [
    "# Topic: Dictionaries & Sets\n",
    "d = {'a':1, 'b':2}\n",
    "print(d['a'])"
   ]
  },
  {
   "cell_type": "code",
   "execution_count": null,
   "id": "ece70ac3",
   "metadata": {},
   "outputs": [],
   "source": [
    "# Topic: Web Scraping\n",
    "import requests\n",
    "from bs4 import BeautifulSoup\n",
    "r = requests.get('https://example.com')\n",
    "soup = BeautifulSoup(r.text, 'html.parser')\n",
    "print(soup.title.string)"
   ]
  },
  {
   "cell_type": "code",
   "execution_count": null,
   "id": "80a99f41",
   "metadata": {},
   "outputs": [],
   "source": [
    "# Topic: Decorators\n",
    "def decorator(fn):\n",
    "    def wrapper():\n",
    "        print('Before')\n",
    "        fn()\n",
    "        print('After')\n",
    "    return wrapper\n",
    "@decorator\n",
    "def say(): print('Hi')\n",
    "say()"
   ]
  },
  {
   "cell_type": "code",
   "execution_count": null,
   "id": "d61de4f8",
   "metadata": {},
   "outputs": [],
   "source": [
    "# Topic: Basics\n",
    "name = 'Fahd'\n",
    "print(f'Welcome, {name}')"
   ]
  },
  {
   "cell_type": "code",
   "execution_count": null,
   "id": "570aeea1",
   "metadata": {},
   "outputs": [],
   "source": [
    "# Topic: Classes & Objects\n",
    "class Dog:\n",
    "    def bark(self):\n",
    "        print('Woof!')\n",
    "d = Dog()\n",
    "d.bark()"
   ]
  },
  {
   "cell_type": "code",
   "execution_count": null,
   "id": "a1fbdcc4",
   "metadata": {},
   "outputs": [],
   "source": [
    "# Topic: Loops\n",
    "for i in range(10): print(i*i)"
   ]
  },
  {
   "cell_type": "code",
   "execution_count": null,
   "id": "200d339b",
   "metadata": {},
   "outputs": [],
   "source": [
    "# Topic: Dictionaries & Sets\n",
    "s = {1,2,3}\n",
    "s.add(4)\n",
    "print(s)"
   ]
  },
  {
   "cell_type": "code",
   "execution_count": null,
   "id": "c7884fb8",
   "metadata": {},
   "outputs": [],
   "source": [
    "# Topic: Recursion\n",
    "def fib(n):\n",
    "    if n <= 1: return n\n",
    "    return fib(n-1) + fib(n-2)\n",
    "print(fib(5))"
   ]
  },
  {
   "cell_type": "code",
   "execution_count": null,
   "id": "479092a5",
   "metadata": {},
   "outputs": [],
   "source": [
    "# Topic: Matplotlib\n",
    "import matplotlib.pyplot as plt\n",
    "plt.bar(['A','B'], [10,20])\n",
    "plt.show()"
   ]
  },
  {
   "cell_type": "code",
   "execution_count": null,
   "id": "86b2acb2",
   "metadata": {},
   "outputs": [],
   "source": [
    "# Topic: Decorators\n",
    "def decorator(fn):\n",
    "    def wrapper():\n",
    "        print('Before')\n",
    "        fn()\n",
    "        print('After')\n",
    "    return wrapper\n",
    "@decorator\n",
    "def say(): print('Hi')\n",
    "say()"
   ]
  },
  {
   "cell_type": "code",
   "execution_count": null,
   "id": "0401ee4f",
   "metadata": {},
   "outputs": [],
   "source": [
    "# Topic: Matplotlib\n",
    "import matplotlib.pyplot as plt\n",
    "plt.plot([1,2],[3,4])\n",
    "plt.show()"
   ]
  },
  {
   "cell_type": "code",
   "execution_count": null,
   "id": "3ae44ca2",
   "metadata": {},
   "outputs": [],
   "source": [
    "# Topic: Dictionaries & Sets\n",
    "d = {'a':1, 'b':2}\n",
    "print(d['a'])"
   ]
  },
  {
   "cell_type": "code",
   "execution_count": null,
   "id": "c12e4f0d",
   "metadata": {},
   "outputs": [],
   "source": [
    "# Topic: Matplotlib\n",
    "import matplotlib.pyplot as plt\n",
    "plt.bar(['A','B'], [10,20])\n",
    "plt.show()"
   ]
  },
  {
   "cell_type": "code",
   "execution_count": null,
   "id": "7faceccd",
   "metadata": {},
   "outputs": [],
   "source": [
    "# Topic: Dictionaries & Sets\n",
    "d = {'a':1, 'b':2}\n",
    "print(d['a'])"
   ]
  },
  {
   "cell_type": "code",
   "execution_count": null,
   "id": "a3207864",
   "metadata": {},
   "outputs": [],
   "source": [
    "# Topic: Pandas\n",
    "import pandas as pd\n",
    "df = pd.read_csv('data.csv')\n",
    "print(df.head())"
   ]
  },
  {
   "cell_type": "code",
   "execution_count": null,
   "id": "968aa28a",
   "metadata": {},
   "outputs": [],
   "source": [
    "# Topic: Exceptions\n",
    "try:\n",
    "    print(10/0)\n",
    "except ZeroDivisionError:\n",
    "    print('Cannot divide by zero')"
   ]
  },
  {
   "cell_type": "code",
   "execution_count": null,
   "id": "aa505b26",
   "metadata": {},
   "outputs": [],
   "source": [
    "# Topic: Matplotlib\n",
    "import matplotlib.pyplot as plt\n",
    "plt.plot([1,2],[3,4])\n",
    "plt.show()"
   ]
  },
  {
   "cell_type": "code",
   "execution_count": null,
   "id": "547c0481",
   "metadata": {},
   "outputs": [],
   "source": [
    "# Topic: Loops\n",
    "i = 0\n",
    "while i < 5:\n",
    "    print(i)\n",
    "    i += 1"
   ]
  },
  {
   "cell_type": "code",
   "execution_count": null,
   "id": "2e0a523d",
   "metadata": {},
   "outputs": [],
   "source": [
    "# Topic: Pandas\n",
    "import pandas as pd\n",
    "df = pd.read_csv('data.csv')\n",
    "print(df.head())"
   ]
  },
  {
   "cell_type": "code",
   "execution_count": null,
   "id": "c76c7375",
   "metadata": {},
   "outputs": [],
   "source": [
    "# Topic: Loops\n",
    "i = 0\n",
    "while i < 5:\n",
    "    print(i)\n",
    "    i += 1"
   ]
  },
  {
   "cell_type": "code",
   "execution_count": null,
   "id": "68419a0c",
   "metadata": {},
   "outputs": [],
   "source": [
    "# Topic: Loops\n",
    "for i in range(10): print(i*i)"
   ]
  },
  {
   "cell_type": "code",
   "execution_count": null,
   "id": "89151429",
   "metadata": {},
   "outputs": [],
   "source": [
    "# Topic: Recursion\n",
    "def fib(n):\n",
    "    if n <= 1: return n\n",
    "    return fib(n-1) + fib(n-2)\n",
    "print(fib(5))"
   ]
  },
  {
   "cell_type": "code",
   "execution_count": null,
   "id": "ec4fc12a",
   "metadata": {},
   "outputs": [],
   "source": [
    "# Topic: Classes & Objects\n",
    "class Dog:\n",
    "    def bark(self):\n",
    "        print('Woof!')\n",
    "d = Dog()\n",
    "d.bark()"
   ]
  },
  {
   "cell_type": "code",
   "execution_count": null,
   "id": "f8c9ed9f",
   "metadata": {},
   "outputs": [],
   "source": [
    "# Topic: File I/O\n",
    "with open('sample.txt', 'w') as f:\n",
    "    f.write('Hello World')"
   ]
  },
  {
   "cell_type": "code",
   "execution_count": null,
   "id": "dc4d42fe",
   "metadata": {},
   "outputs": [],
   "source": [
    "# Topic: Matplotlib\n",
    "import matplotlib.pyplot as plt\n",
    "plt.bar(['A','B'], [10,20])\n",
    "plt.show()"
   ]
  },
  {
   "cell_type": "code",
   "execution_count": null,
   "id": "27797296",
   "metadata": {},
   "outputs": [],
   "source": [
    "# Topic: Recursion\n",
    "def fib(n):\n",
    "    if n <= 1: return n\n",
    "    return fib(n-1) + fib(n-2)\n",
    "print(fib(5))"
   ]
  },
  {
   "cell_type": "code",
   "execution_count": null,
   "id": "eedb16cd",
   "metadata": {},
   "outputs": [],
   "source": [
    "# Topic: Pandas\n",
    "import pandas as pd\n",
    "df = pd.DataFrame({'A':[1,2],'B':[3,4]})\n",
    "print(df)"
   ]
  },
  {
   "cell_type": "code",
   "execution_count": null,
   "id": "fb8f4fd9",
   "metadata": {},
   "outputs": [],
   "source": [
    "# Topic: Exceptions\n",
    "try:\n",
    "    print(10/0)\n",
    "except ZeroDivisionError:\n",
    "    print('Cannot divide by zero')"
   ]
  },
  {
   "cell_type": "code",
   "execution_count": null,
   "id": "103a65ef",
   "metadata": {},
   "outputs": [],
   "source": [
    "# Topic: Mini Projects\n",
    "# Palindrome checker\n",
    "def is_palindrome(s):\n",
    " return s == s[::-1]\n",
    "print(is_palindrome('madam'))"
   ]
  },
  {
   "cell_type": "code",
   "execution_count": null,
   "id": "21568cb1",
   "metadata": {},
   "outputs": [],
   "source": [
    "# Topic: Pandas\n",
    "import pandas as pd\n",
    "df = pd.read_csv('data.csv')\n",
    "print(df.head())"
   ]
  },
  {
   "cell_type": "code",
   "execution_count": null,
   "id": "c1e718f1",
   "metadata": {},
   "outputs": [],
   "source": [
    "# Topic: Mini Projects\n",
    "# Simple calculator\n",
    "def calc(a,b,op):\n",
    " if op=='+': return a+b\n",
    " elif op=='-': return a-b\n",
    "print(calc(10,5,'+'))"
   ]
  },
  {
   "cell_type": "code",
   "execution_count": null,
   "id": "25cd99c4",
   "metadata": {},
   "outputs": [],
   "source": [
    "# Topic: Pandas\n",
    "import pandas as pd\n",
    "df = pd.read_csv('data.csv')\n",
    "print(df.head())"
   ]
  },
  {
   "cell_type": "code",
   "execution_count": null,
   "id": "b3190ebf",
   "metadata": {},
   "outputs": [],
   "source": [
    "# Topic: Functions\n",
    "def factorial(n):\n",
    "    return 1 if n==0 else n * factorial(n-1)\n",
    "print(factorial(5))"
   ]
  },
  {
   "cell_type": "code",
   "execution_count": null,
   "id": "3661b168",
   "metadata": {},
   "outputs": [],
   "source": [
    "# Topic: Loops\n",
    "for i in range(10): print(i*i)"
   ]
  },
  {
   "cell_type": "code",
   "execution_count": null,
   "id": "62b57cbe",
   "metadata": {},
   "outputs": [],
   "source": [
    "# Topic: Mini Projects\n",
    "# Simple calculator\n",
    "def calc(a,b,op):\n",
    " if op=='+': return a+b\n",
    " elif op=='-': return a-b\n",
    "print(calc(10,5,'+'))"
   ]
  },
  {
   "cell_type": "code",
   "execution_count": null,
   "id": "63aeb17e",
   "metadata": {},
   "outputs": [],
   "source": [
    "# Topic: Exceptions\n",
    "try:\n",
    "    print(10/0)\n",
    "except ZeroDivisionError:\n",
    "    print('Cannot divide by zero')"
   ]
  },
  {
   "cell_type": "code",
   "execution_count": null,
   "id": "d28b3dbd",
   "metadata": {},
   "outputs": [],
   "source": [
    "# Topic: File I/O\n",
    "with open('sample.txt', 'w') as f:\n",
    "    f.write('Hello World')"
   ]
  },
  {
   "cell_type": "code",
   "execution_count": null,
   "id": "3692fea9",
   "metadata": {},
   "outputs": [],
   "source": [
    "# Topic: Exceptions\n",
    "try:\n",
    "    print(10/0)\n",
    "except ZeroDivisionError:\n",
    "    print('Cannot divide by zero')"
   ]
  },
  {
   "cell_type": "code",
   "execution_count": null,
   "id": "70324183",
   "metadata": {},
   "outputs": [],
   "source": [
    "# Topic: Decorators\n",
    "def decorator(fn):\n",
    "    def wrapper():\n",
    "        print('Before')\n",
    "        fn()\n",
    "        print('After')\n",
    "    return wrapper\n",
    "@decorator\n",
    "def say(): print('Hi')\n",
    "say()"
   ]
  },
  {
   "cell_type": "code",
   "execution_count": null,
   "id": "6650c633",
   "metadata": {},
   "outputs": [],
   "source": [
    "# Topic: Mini Projects\n",
    "# Simple calculator\n",
    "def calc(a,b,op):\n",
    " if op=='+': return a+b\n",
    " elif op=='-': return a-b\n",
    "print(calc(10,5,'+'))"
   ]
  },
  {
   "cell_type": "code",
   "execution_count": null,
   "id": "34f633e8",
   "metadata": {},
   "outputs": [],
   "source": [
    "# Topic: Recursion\n",
    "def fib(n):\n",
    "    if n <= 1: return n\n",
    "    return fib(n-1) + fib(n-2)\n",
    "print(fib(5))"
   ]
  },
  {
   "cell_type": "code",
   "execution_count": null,
   "id": "3062f517",
   "metadata": {},
   "outputs": [],
   "source": [
    "# Topic: Matplotlib\n",
    "import matplotlib.pyplot as plt\n",
    "plt.bar(['A','B'], [10,20])\n",
    "plt.show()"
   ]
  },
  {
   "cell_type": "code",
   "execution_count": null,
   "id": "870f89a8",
   "metadata": {},
   "outputs": [],
   "source": [
    "# Topic: Decorators\n",
    "def decorator(fn):\n",
    "    def wrapper():\n",
    "        print('Before')\n",
    "        fn()\n",
    "        print('After')\n",
    "    return wrapper\n",
    "@decorator\n",
    "def say(): print('Hi')\n",
    "say()"
   ]
  },
  {
   "cell_type": "code",
   "execution_count": null,
   "id": "73ac3a03",
   "metadata": {},
   "outputs": [],
   "source": [
    "# Topic: Mini Projects\n",
    "# Simple calculator\n",
    "def calc(a,b,op):\n",
    " if op=='+': return a+b\n",
    " elif op=='-': return a-b\n",
    "print(calc(10,5,'+'))"
   ]
  },
  {
   "cell_type": "code",
   "execution_count": null,
   "id": "daafddac",
   "metadata": {},
   "outputs": [],
   "source": [
    "# Topic: Basics\n",
    "a = 5\n",
    "b = 3\n",
    "print(a * b)"
   ]
  },
  {
   "cell_type": "code",
   "execution_count": null,
   "id": "b872fc86",
   "metadata": {},
   "outputs": [],
   "source": [
    "# Topic: File I/O\n",
    "with open('sample.txt', 'w') as f:\n",
    "    f.write('Hello World')"
   ]
  },
  {
   "cell_type": "code",
   "execution_count": null,
   "id": "96332ca9",
   "metadata": {},
   "outputs": [],
   "source": [
    "# Topic: Pandas\n",
    "import pandas as pd\n",
    "df = pd.read_csv('data.csv')\n",
    "print(df.head())"
   ]
  },
  {
   "cell_type": "code",
   "execution_count": null,
   "id": "a34c0168",
   "metadata": {},
   "outputs": [],
   "source": [
    "# Topic: Matplotlib\n",
    "import matplotlib.pyplot as plt\n",
    "plt.plot([1,2],[3,4])\n",
    "plt.show()"
   ]
  },
  {
   "cell_type": "code",
   "execution_count": null,
   "id": "755346f4",
   "metadata": {},
   "outputs": [],
   "source": [
    "# Topic: Lists & Tuples\n",
    "t = (1,2,3)\n",
    "print(t[1])"
   ]
  },
  {
   "cell_type": "code",
   "execution_count": null,
   "id": "f3cb6fea",
   "metadata": {},
   "outputs": [],
   "source": [
    "# Topic: Decorators\n",
    "def decorator(fn):\n",
    "    def wrapper():\n",
    "        print('Before')\n",
    "        fn()\n",
    "        print('After')\n",
    "    return wrapper\n",
    "@decorator\n",
    "def say(): print('Hi')\n",
    "say()"
   ]
  },
  {
   "cell_type": "code",
   "execution_count": null,
   "id": "6a257578",
   "metadata": {},
   "outputs": [],
   "source": [
    "# Topic: Loops\n",
    "for i in range(10): print(i*i)"
   ]
  },
  {
   "cell_type": "code",
   "execution_count": null,
   "id": "94794f4e",
   "metadata": {},
   "outputs": [],
   "source": [
    "# Topic: File I/O\n",
    "with open('sample.txt') as f:\n",
    "    print(f.read())"
   ]
  },
  {
   "cell_type": "code",
   "execution_count": null,
   "id": "2edaa5eb",
   "metadata": {},
   "outputs": [],
   "source": [
    "# Topic: Web Scraping\n",
    "import requests\n",
    "from bs4 import BeautifulSoup\n",
    "r = requests.get('https://example.com')\n",
    "soup = BeautifulSoup(r.text, 'html.parser')\n",
    "print(soup.title.string)"
   ]
  },
  {
   "cell_type": "code",
   "execution_count": null,
   "id": "3530d3cf",
   "metadata": {},
   "outputs": [],
   "source": [
    "# Topic: Pandas\n",
    "import pandas as pd\n",
    "df = pd.DataFrame({'A':[1,2],'B':[3,4]})\n",
    "print(df)"
   ]
  },
  {
   "cell_type": "code",
   "execution_count": null,
   "id": "fa306e4e",
   "metadata": {},
   "outputs": [],
   "source": [
    "# Topic: Recursion\n",
    "def fib(n):\n",
    "    if n <= 1: return n\n",
    "    return fib(n-1) + fib(n-2)\n",
    "print(fib(5))"
   ]
  },
  {
   "cell_type": "code",
   "execution_count": null,
   "id": "02e85262",
   "metadata": {},
   "outputs": [],
   "source": [
    "# Topic: Exceptions\n",
    "try:\n",
    "    print(10/0)\n",
    "except ZeroDivisionError:\n",
    "    print('Cannot divide by zero')"
   ]
  },
  {
   "cell_type": "code",
   "execution_count": null,
   "id": "d6bb2bad",
   "metadata": {},
   "outputs": [],
   "source": [
    "# Topic: Lists & Tuples\n",
    "t = (1,2,3)\n",
    "print(t[1])"
   ]
  },
  {
   "cell_type": "code",
   "execution_count": null,
   "id": "efce001f",
   "metadata": {},
   "outputs": [],
   "source": [
    "# Topic: Decorators\n",
    "def decorator(fn):\n",
    "    def wrapper():\n",
    "        print('Before')\n",
    "        fn()\n",
    "        print('After')\n",
    "    return wrapper\n",
    "@decorator\n",
    "def say(): print('Hi')\n",
    "say()"
   ]
  },
  {
   "cell_type": "code",
   "execution_count": null,
   "id": "de8bb2d7",
   "metadata": {},
   "outputs": [],
   "source": [
    "# Topic: Dictionaries & Sets\n",
    "s = {1,2,3}\n",
    "s.add(4)\n",
    "print(s)"
   ]
  },
  {
   "cell_type": "code",
   "execution_count": null,
   "id": "da84516e",
   "metadata": {},
   "outputs": [],
   "source": [
    "# Topic: Mini Projects\n",
    "# Simple calculator\n",
    "def calc(a,b,op):\n",
    " if op=='+': return a+b\n",
    " elif op=='-': return a-b\n",
    "print(calc(10,5,'+'))"
   ]
  },
  {
   "cell_type": "code",
   "execution_count": null,
   "id": "7666648e",
   "metadata": {},
   "outputs": [],
   "source": [
    "# Topic: NumPy\n",
    "import numpy as np\n",
    "a = np.array([1,2,3])\n",
    "print(a * 2)"
   ]
  },
  {
   "cell_type": "code",
   "execution_count": null,
   "id": "84beaa1c",
   "metadata": {},
   "outputs": [],
   "source": [
    "# Topic: Dictionaries & Sets\n",
    "s = {1,2,3}\n",
    "s.add(4)\n",
    "print(s)"
   ]
  },
  {
   "cell_type": "code",
   "execution_count": null,
   "id": "25def6e7",
   "metadata": {},
   "outputs": [],
   "source": [
    "# Topic: Functions\n",
    "def factorial(n):\n",
    "    return 1 if n==0 else n * factorial(n-1)\n",
    "print(factorial(5))"
   ]
  },
  {
   "cell_type": "code",
   "execution_count": null,
   "id": "2502f19c",
   "metadata": {},
   "outputs": [],
   "source": [
    "# Topic: Web Scraping\n",
    "import requests\n",
    "from bs4 import BeautifulSoup\n",
    "r = requests.get('https://example.com')\n",
    "soup = BeautifulSoup(r.text, 'html.parser')\n",
    "print(soup.title.string)"
   ]
  },
  {
   "cell_type": "code",
   "execution_count": null,
   "id": "a6397f8d",
   "metadata": {},
   "outputs": [],
   "source": [
    "# Topic: Decorators\n",
    "def decorator(fn):\n",
    "    def wrapper():\n",
    "        print('Before')\n",
    "        fn()\n",
    "        print('After')\n",
    "    return wrapper\n",
    "@decorator\n",
    "def say(): print('Hi')\n",
    "say()"
   ]
  },
  {
   "cell_type": "code",
   "execution_count": null,
   "id": "bb7f6baa",
   "metadata": {},
   "outputs": [],
   "source": [
    "# Topic: Recursion\n",
    "def fib(n):\n",
    "    if n <= 1: return n\n",
    "    return fib(n-1) + fib(n-2)\n",
    "print(fib(5))"
   ]
  },
  {
   "cell_type": "code",
   "execution_count": null,
   "id": "fe2297ef",
   "metadata": {},
   "outputs": [],
   "source": [
    "# Topic: Classes & Objects\n",
    "class Dog:\n",
    "    def bark(self):\n",
    "        print('Woof!')\n",
    "d = Dog()\n",
    "d.bark()"
   ]
  },
  {
   "cell_type": "code",
   "execution_count": null,
   "id": "2a16e365",
   "metadata": {},
   "outputs": [],
   "source": [
    "# Topic: Dictionaries & Sets\n",
    "d = {'a':1, 'b':2}\n",
    "print(d['a'])"
   ]
  },
  {
   "cell_type": "code",
   "execution_count": null,
   "id": "f0e89d93",
   "metadata": {},
   "outputs": [],
   "source": [
    "# Topic: Mini Projects\n",
    "# Simple calculator\n",
    "def calc(a,b,op):\n",
    " if op=='+': return a+b\n",
    " elif op=='-': return a-b\n",
    "print(calc(10,5,'+'))"
   ]
  },
  {
   "cell_type": "code",
   "execution_count": null,
   "id": "61ad6bbf",
   "metadata": {},
   "outputs": [],
   "source": [
    "# Topic: Decorators\n",
    "def decorator(fn):\n",
    "    def wrapper():\n",
    "        print('Before')\n",
    "        fn()\n",
    "        print('After')\n",
    "    return wrapper\n",
    "@decorator\n",
    "def say(): print('Hi')\n",
    "say()"
   ]
  },
  {
   "cell_type": "code",
   "execution_count": null,
   "id": "2939b3ad",
   "metadata": {},
   "outputs": [],
   "source": [
    "# Topic: Pandas\n",
    "import pandas as pd\n",
    "df = pd.read_csv('data.csv')\n",
    "print(df.head())"
   ]
  },
  {
   "cell_type": "code",
   "execution_count": null,
   "id": "684a19ae",
   "metadata": {},
   "outputs": [],
   "source": [
    "# Topic: Decorators\n",
    "def decorator(fn):\n",
    "    def wrapper():\n",
    "        print('Before')\n",
    "        fn()\n",
    "        print('After')\n",
    "    return wrapper\n",
    "@decorator\n",
    "def say(): print('Hi')\n",
    "say()"
   ]
  },
  {
   "cell_type": "code",
   "execution_count": null,
   "id": "5b44dbe2",
   "metadata": {},
   "outputs": [],
   "source": [
    "# Topic: File I/O\n",
    "with open('sample.txt', 'w') as f:\n",
    "    f.write('Hello World')"
   ]
  },
  {
   "cell_type": "code",
   "execution_count": null,
   "id": "9142bc4e",
   "metadata": {},
   "outputs": [],
   "source": [
    "# Topic: Exceptions\n",
    "try:\n",
    "    print(10/0)\n",
    "except ZeroDivisionError:\n",
    "    print('Cannot divide by zero')"
   ]
  },
  {
   "cell_type": "code",
   "execution_count": null,
   "id": "46e76c51",
   "metadata": {},
   "outputs": [],
   "source": [
    "# Topic: Recursion\n",
    "def fib(n):\n",
    "    if n <= 1: return n\n",
    "    return fib(n-1) + fib(n-2)\n",
    "print(fib(5))"
   ]
  },
  {
   "cell_type": "code",
   "execution_count": null,
   "id": "9f1b72a4",
   "metadata": {},
   "outputs": [],
   "source": [
    "# Topic: Functions\n",
    "def factorial(n):\n",
    "    return 1 if n==0 else n * factorial(n-1)\n",
    "print(factorial(5))"
   ]
  },
  {
   "cell_type": "code",
   "execution_count": null,
   "id": "aee9f815",
   "metadata": {},
   "outputs": [],
   "source": [
    "# Topic: Pandas\n",
    "import pandas as pd\n",
    "df = pd.read_csv('data.csv')\n",
    "print(df.head())"
   ]
  },
  {
   "cell_type": "code",
   "execution_count": null,
   "id": "c70e2a4c",
   "metadata": {},
   "outputs": [],
   "source": [
    "# Topic: File I/O\n",
    "with open('sample.txt') as f:\n",
    "    print(f.read())"
   ]
  },
  {
   "cell_type": "code",
   "execution_count": null,
   "id": "fea40165",
   "metadata": {},
   "outputs": [],
   "source": [
    "# Topic: Classes & Objects\n",
    "class Dog:\n",
    "    def bark(self):\n",
    "        print('Woof!')\n",
    "d = Dog()\n",
    "d.bark()"
   ]
  },
  {
   "cell_type": "code",
   "execution_count": null,
   "id": "83dced81",
   "metadata": {},
   "outputs": [],
   "source": [
    "# Topic: Web Scraping\n",
    "import requests\n",
    "from bs4 import BeautifulSoup\n",
    "r = requests.get('https://example.com')\n",
    "soup = BeautifulSoup(r.text, 'html.parser')\n",
    "print(soup.title.string)"
   ]
  },
  {
   "cell_type": "code",
   "execution_count": null,
   "id": "5a126c41",
   "metadata": {},
   "outputs": [],
   "source": [
    "# Topic: Matplotlib\n",
    "import matplotlib.pyplot as plt\n",
    "plt.bar(['A','B'], [10,20])\n",
    "plt.show()"
   ]
  },
  {
   "cell_type": "code",
   "execution_count": null,
   "id": "28d01be9",
   "metadata": {},
   "outputs": [],
   "source": [
    "# Topic: Dictionaries & Sets\n",
    "s = {1,2,3}\n",
    "s.add(4)\n",
    "print(s)"
   ]
  },
  {
   "cell_type": "code",
   "execution_count": null,
   "id": "2039d3e5",
   "metadata": {},
   "outputs": [],
   "source": [
    "# Topic: Mini Projects\n",
    "# Simple calculator\n",
    "def calc(a,b,op):\n",
    " if op=='+': return a+b\n",
    " elif op=='-': return a-b\n",
    "print(calc(10,5,'+'))"
   ]
  },
  {
   "cell_type": "code",
   "execution_count": null,
   "id": "b2841310",
   "metadata": {},
   "outputs": [],
   "source": [
    "# Topic: Dictionaries & Sets\n",
    "s = {1,2,3}\n",
    "s.add(4)\n",
    "print(s)"
   ]
  },
  {
   "cell_type": "code",
   "execution_count": null,
   "id": "cb49af41",
   "metadata": {},
   "outputs": [],
   "source": [
    "# Topic: Web Scraping\n",
    "import requests\n",
    "from bs4 import BeautifulSoup\n",
    "r = requests.get('https://example.com')\n",
    "soup = BeautifulSoup(r.text, 'html.parser')\n",
    "print(soup.title.string)"
   ]
  },
  {
   "cell_type": "code",
   "execution_count": null,
   "id": "7da5016d",
   "metadata": {},
   "outputs": [],
   "source": [
    "# Topic: Mini Projects\n",
    "# Simple calculator\n",
    "def calc(a,b,op):\n",
    " if op=='+': return a+b\n",
    " elif op=='-': return a-b\n",
    "print(calc(10,5,'+'))"
   ]
  },
  {
   "cell_type": "code",
   "execution_count": null,
   "id": "9a7858ad",
   "metadata": {},
   "outputs": [],
   "source": [
    "# Topic: Exceptions\n",
    "try:\n",
    "    print(10/0)\n",
    "except ZeroDivisionError:\n",
    "    print('Cannot divide by zero')"
   ]
  },
  {
   "cell_type": "code",
   "execution_count": null,
   "id": "4825a15c",
   "metadata": {},
   "outputs": [],
   "source": [
    "# Topic: Matplotlib\n",
    "import matplotlib.pyplot as plt\n",
    "plt.bar(['A','B'], [10,20])\n",
    "plt.show()"
   ]
  },
  {
   "cell_type": "code",
   "execution_count": null,
   "id": "9c62021f",
   "metadata": {},
   "outputs": [],
   "source": [
    "# Topic: Decorators\n",
    "def decorator(fn):\n",
    "    def wrapper():\n",
    "        print('Before')\n",
    "        fn()\n",
    "        print('After')\n",
    "    return wrapper\n",
    "@decorator\n",
    "def say(): print('Hi')\n",
    "say()"
   ]
  },
  {
   "cell_type": "code",
   "execution_count": null,
   "id": "0370daaf",
   "metadata": {},
   "outputs": [],
   "source": [
    "# Topic: Classes & Objects\n",
    "class Dog:\n",
    "    def bark(self):\n",
    "        print('Woof!')\n",
    "d = Dog()\n",
    "d.bark()"
   ]
  },
  {
   "cell_type": "code",
   "execution_count": null,
   "id": "297571db",
   "metadata": {},
   "outputs": [],
   "source": [
    "# Topic: Loops\n",
    "i = 0\n",
    "while i < 5:\n",
    "    print(i)\n",
    "    i += 1"
   ]
  },
  {
   "cell_type": "code",
   "execution_count": null,
   "id": "1aa84031",
   "metadata": {},
   "outputs": [],
   "source": [
    "# Topic: Dictionaries & Sets\n",
    "s = {1,2,3}\n",
    "s.add(4)\n",
    "print(s)"
   ]
  },
  {
   "cell_type": "code",
   "execution_count": null,
   "id": "82f7175c",
   "metadata": {},
   "outputs": [],
   "source": [
    "# Topic: Pandas\n",
    "import pandas as pd\n",
    "df = pd.read_csv('data.csv')\n",
    "print(df.head())"
   ]
  },
  {
   "cell_type": "code",
   "execution_count": null,
   "id": "8ad73e5f",
   "metadata": {},
   "outputs": [],
   "source": [
    "# Topic: Functions\n",
    "def add(a, b): return a + b\n",
    "print(add(3, 4))"
   ]
  },
  {
   "cell_type": "code",
   "execution_count": null,
   "id": "d2a03dfa",
   "metadata": {},
   "outputs": [],
   "source": [
    "# Topic: Decorators\n",
    "def decorator(fn):\n",
    "    def wrapper():\n",
    "        print('Before')\n",
    "        fn()\n",
    "        print('After')\n",
    "    return wrapper\n",
    "@decorator\n",
    "def say(): print('Hi')\n",
    "say()"
   ]
  },
  {
   "cell_type": "code",
   "execution_count": null,
   "id": "cc5f65fe",
   "metadata": {},
   "outputs": [],
   "source": [
    "# Topic: Recursion\n",
    "def fib(n):\n",
    "    if n <= 1: return n\n",
    "    return fib(n-1) + fib(n-2)\n",
    "print(fib(5))"
   ]
  },
  {
   "cell_type": "code",
   "execution_count": null,
   "id": "cc5e052b",
   "metadata": {},
   "outputs": [],
   "source": [
    "# Topic: Loops\n",
    "for i in range(10): print(i*i)"
   ]
  },
  {
   "cell_type": "code",
   "execution_count": null,
   "id": "2368f819",
   "metadata": {},
   "outputs": [],
   "source": [
    "# Topic: Exceptions\n",
    "try:\n",
    "    print(10/0)\n",
    "except ZeroDivisionError:\n",
    "    print('Cannot divide by zero')"
   ]
  },
  {
   "cell_type": "code",
   "execution_count": null,
   "id": "0660c930",
   "metadata": {},
   "outputs": [],
   "source": [
    "# Topic: File I/O\n",
    "with open('sample.txt', 'w') as f:\n",
    "    f.write('Hello World')"
   ]
  },
  {
   "cell_type": "code",
   "execution_count": null,
   "id": "a62929b8",
   "metadata": {},
   "outputs": [],
   "source": [
    "# Topic: Pandas\n",
    "import pandas as pd\n",
    "df = pd.DataFrame({'A':[1,2],'B':[3,4]})\n",
    "print(df)"
   ]
  },
  {
   "cell_type": "code",
   "execution_count": null,
   "id": "d2682cb0",
   "metadata": {},
   "outputs": [],
   "source": [
    "# Topic: Web Scraping\n",
    "import requests\n",
    "from bs4 import BeautifulSoup\n",
    "r = requests.get('https://example.com')\n",
    "soup = BeautifulSoup(r.text, 'html.parser')\n",
    "print(soup.title.string)"
   ]
  },
  {
   "cell_type": "code",
   "execution_count": null,
   "id": "85f06a29",
   "metadata": {},
   "outputs": [],
   "source": [
    "# Topic: Functions\n",
    "def add(a, b): return a + b\n",
    "print(add(3, 4))"
   ]
  },
  {
   "cell_type": "code",
   "execution_count": null,
   "id": "bbc2979a",
   "metadata": {},
   "outputs": [],
   "source": [
    "# Topic: Pandas\n",
    "import pandas as pd\n",
    "df = pd.read_csv('data.csv')\n",
    "print(df.head())"
   ]
  },
  {
   "cell_type": "code",
   "execution_count": null,
   "id": "046ebc00",
   "metadata": {},
   "outputs": [],
   "source": [
    "# Topic: Matplotlib\n",
    "import matplotlib.pyplot as plt\n",
    "plt.bar(['A','B'], [10,20])\n",
    "plt.show()"
   ]
  },
  {
   "cell_type": "code",
   "execution_count": null,
   "id": "097a5b63",
   "metadata": {},
   "outputs": [],
   "source": [
    "# Topic: Dictionaries & Sets\n",
    "d = {'a':1, 'b':2}\n",
    "print(d['a'])"
   ]
  },
  {
   "cell_type": "code",
   "execution_count": null,
   "id": "576fcce2",
   "metadata": {},
   "outputs": [],
   "source": [
    "# Topic: Mini Projects\n",
    "# Palindrome checker\n",
    "def is_palindrome(s):\n",
    " return s == s[::-1]\n",
    "print(is_palindrome('madam'))"
   ]
  },
  {
   "cell_type": "code",
   "execution_count": null,
   "id": "1aacd2f8",
   "metadata": {},
   "outputs": [],
   "source": [
    "# Topic: Dictionaries & Sets\n",
    "s = {1,2,3}\n",
    "s.add(4)\n",
    "print(s)"
   ]
  },
  {
   "cell_type": "code",
   "execution_count": null,
   "id": "d0bf1cd1",
   "metadata": {},
   "outputs": [],
   "source": [
    "# Topic: Web Scraping\n",
    "import requests\n",
    "from bs4 import BeautifulSoup\n",
    "r = requests.get('https://example.com')\n",
    "soup = BeautifulSoup(r.text, 'html.parser')\n",
    "print(soup.title.string)"
   ]
  },
  {
   "cell_type": "code",
   "execution_count": null,
   "id": "5ff8eee0",
   "metadata": {},
   "outputs": [],
   "source": [
    "# Topic: Exceptions\n",
    "try:\n",
    "    print(10/0)\n",
    "except ZeroDivisionError:\n",
    "    print('Cannot divide by zero')"
   ]
  },
  {
   "cell_type": "code",
   "execution_count": null,
   "id": "6c2c4ee3",
   "metadata": {},
   "outputs": [],
   "source": [
    "# Topic: Recursion\n",
    "def fib(n):\n",
    "    if n <= 1: return n\n",
    "    return fib(n-1) + fib(n-2)\n",
    "print(fib(5))"
   ]
  },
  {
   "cell_type": "code",
   "execution_count": null,
   "id": "c24d23af",
   "metadata": {},
   "outputs": [],
   "source": [
    "# Topic: Web Scraping\n",
    "import requests\n",
    "from bs4 import BeautifulSoup\n",
    "r = requests.get('https://example.com')\n",
    "soup = BeautifulSoup(r.text, 'html.parser')\n",
    "print(soup.title.string)"
   ]
  },
  {
   "cell_type": "code",
   "execution_count": null,
   "id": "0511ce13",
   "metadata": {},
   "outputs": [],
   "source": [
    "# Topic: Loops\n",
    "for i in range(10): print(i*i)"
   ]
  },
  {
   "cell_type": "code",
   "execution_count": null,
   "id": "2004aa34",
   "metadata": {},
   "outputs": [],
   "source": [
    "# Topic: NumPy\n",
    "import numpy as np\n",
    "print(np.arange(0, 10, 2))"
   ]
  },
  {
   "cell_type": "code",
   "execution_count": null,
   "id": "530c7c70",
   "metadata": {},
   "outputs": [],
   "source": [
    "# Topic: Matplotlib\n",
    "import matplotlib.pyplot as plt\n",
    "plt.plot([1,2],[3,4])\n",
    "plt.show()"
   ]
  },
  {
   "cell_type": "code",
   "execution_count": null,
   "id": "06d9cf28",
   "metadata": {},
   "outputs": [],
   "source": [
    "# Topic: Decorators\n",
    "def decorator(fn):\n",
    "    def wrapper():\n",
    "        print('Before')\n",
    "        fn()\n",
    "        print('After')\n",
    "    return wrapper\n",
    "@decorator\n",
    "def say(): print('Hi')\n",
    "say()"
   ]
  },
  {
   "cell_type": "code",
   "execution_count": null,
   "id": "6e11db2b",
   "metadata": {},
   "outputs": [],
   "source": [
    "# Topic: Lists & Tuples\n",
    "nums = [1,2,3]\n",
    "nums.append(4)\n",
    "print(nums)"
   ]
  },
  {
   "cell_type": "code",
   "execution_count": null,
   "id": "7d6ac036",
   "metadata": {},
   "outputs": [],
   "source": [
    "# Topic: Lists & Tuples\n",
    "t = (1,2,3)\n",
    "print(t[1])"
   ]
  },
  {
   "cell_type": "code",
   "execution_count": null,
   "id": "00666b67",
   "metadata": {},
   "outputs": [],
   "source": [
    "# Topic: Lists & Tuples\n",
    "nums = [1,2,3]\n",
    "nums.append(4)\n",
    "print(nums)"
   ]
  },
  {
   "cell_type": "code",
   "execution_count": null,
   "id": "a8afa427",
   "metadata": {},
   "outputs": [],
   "source": [
    "# Topic: Basics\n",
    "name = 'Fahd'\n",
    "print(f'Welcome, {name}')"
   ]
  },
  {
   "cell_type": "code",
   "execution_count": null,
   "id": "a9b36aba",
   "metadata": {},
   "outputs": [],
   "source": [
    "# Topic: Basics\n",
    "name = 'Fahd'\n",
    "print(f'Welcome, {name}')"
   ]
  },
  {
   "cell_type": "code",
   "execution_count": null,
   "id": "482ff145",
   "metadata": {},
   "outputs": [],
   "source": [
    "# Topic: Matplotlib\n",
    "import matplotlib.pyplot as plt\n",
    "plt.plot([1,2],[3,4])\n",
    "plt.show()"
   ]
  },
  {
   "cell_type": "code",
   "execution_count": null,
   "id": "a6f061dc",
   "metadata": {},
   "outputs": [],
   "source": [
    "# Topic: Functions\n",
    "def factorial(n):\n",
    "    return 1 if n==0 else n * factorial(n-1)\n",
    "print(factorial(5))"
   ]
  },
  {
   "cell_type": "code",
   "execution_count": null,
   "id": "7e31c4de",
   "metadata": {},
   "outputs": [],
   "source": [
    "# Topic: Mini Projects\n",
    "# Palindrome checker\n",
    "def is_palindrome(s):\n",
    " return s == s[::-1]\n",
    "print(is_palindrome('madam'))"
   ]
  },
  {
   "cell_type": "code",
   "execution_count": null,
   "id": "eeaefacd",
   "metadata": {},
   "outputs": [],
   "source": [
    "# Topic: Classes & Objects\n",
    "class Dog:\n",
    "    def bark(self):\n",
    "        print('Woof!')\n",
    "d = Dog()\n",
    "d.bark()"
   ]
  },
  {
   "cell_type": "code",
   "execution_count": null,
   "id": "c12c5b66",
   "metadata": {},
   "outputs": [],
   "source": [
    "# Topic: Decorators\n",
    "def decorator(fn):\n",
    "    def wrapper():\n",
    "        print('Before')\n",
    "        fn()\n",
    "        print('After')\n",
    "    return wrapper\n",
    "@decorator\n",
    "def say(): print('Hi')\n",
    "say()"
   ]
  },
  {
   "cell_type": "code",
   "execution_count": null,
   "id": "db4b82cb",
   "metadata": {},
   "outputs": [],
   "source": [
    "# Topic: Matplotlib\n",
    "import matplotlib.pyplot as plt\n",
    "plt.plot([1,2],[3,4])\n",
    "plt.show()"
   ]
  },
  {
   "cell_type": "code",
   "execution_count": null,
   "id": "dfe5eff3",
   "metadata": {},
   "outputs": [],
   "source": [
    "# Topic: Lists & Tuples\n",
    "t = (1,2,3)\n",
    "print(t[1])"
   ]
  },
  {
   "cell_type": "code",
   "execution_count": null,
   "id": "71884df7",
   "metadata": {},
   "outputs": [],
   "source": [
    "# Topic: Basics\n",
    "a = 5\n",
    "b = 3\n",
    "print(a * b)"
   ]
  },
  {
   "cell_type": "code",
   "execution_count": null,
   "id": "f5799b6b",
   "metadata": {},
   "outputs": [],
   "source": [
    "# Topic: Mini Projects\n",
    "# Simple calculator\n",
    "def calc(a,b,op):\n",
    " if op=='+': return a+b\n",
    " elif op=='-': return a-b\n",
    "print(calc(10,5,'+'))"
   ]
  },
  {
   "cell_type": "code",
   "execution_count": null,
   "id": "206b06f5",
   "metadata": {},
   "outputs": [],
   "source": [
    "# Topic: Matplotlib\n",
    "import matplotlib.pyplot as plt\n",
    "plt.plot([1,2],[3,4])\n",
    "plt.show()"
   ]
  },
  {
   "cell_type": "code",
   "execution_count": null,
   "id": "1db7f0bf",
   "metadata": {},
   "outputs": [],
   "source": [
    "# Topic: NumPy\n",
    "import numpy as np\n",
    "a = np.array([1,2,3])\n",
    "print(a * 2)"
   ]
  },
  {
   "cell_type": "code",
   "execution_count": null,
   "id": "ea5dd83a",
   "metadata": {},
   "outputs": [],
   "source": [
    "# Topic: Mini Projects\n",
    "# Palindrome checker\n",
    "def is_palindrome(s):\n",
    " return s == s[::-1]\n",
    "print(is_palindrome('madam'))"
   ]
  },
  {
   "cell_type": "code",
   "execution_count": null,
   "id": "8ea36744",
   "metadata": {},
   "outputs": [],
   "source": [
    "# Topic: NumPy\n",
    "import numpy as np\n",
    "a = np.array([1,2,3])\n",
    "print(a * 2)"
   ]
  },
  {
   "cell_type": "code",
   "execution_count": null,
   "id": "26a99f75",
   "metadata": {},
   "outputs": [],
   "source": [
    "# Topic: Web Scraping\n",
    "import requests\n",
    "from bs4 import BeautifulSoup\n",
    "r = requests.get('https://example.com')\n",
    "soup = BeautifulSoup(r.text, 'html.parser')\n",
    "print(soup.title.string)"
   ]
  },
  {
   "cell_type": "code",
   "execution_count": null,
   "id": "7953c215",
   "metadata": {},
   "outputs": [],
   "source": [
    "# Topic: Functions\n",
    "def add(a, b): return a + b\n",
    "print(add(3, 4))"
   ]
  },
  {
   "cell_type": "code",
   "execution_count": null,
   "id": "e73906b4",
   "metadata": {},
   "outputs": [],
   "source": [
    "# Topic: Dictionaries & Sets\n",
    "s = {1,2,3}\n",
    "s.add(4)\n",
    "print(s)"
   ]
  },
  {
   "cell_type": "code",
   "execution_count": null,
   "id": "6b147136",
   "metadata": {},
   "outputs": [],
   "source": [
    "# Topic: Exceptions\n",
    "try:\n",
    "    print(10/0)\n",
    "except ZeroDivisionError:\n",
    "    print('Cannot divide by zero')"
   ]
  },
  {
   "cell_type": "code",
   "execution_count": null,
   "id": "04e862e6",
   "metadata": {},
   "outputs": [],
   "source": [
    "# Topic: Exceptions\n",
    "try:\n",
    "    print(10/0)\n",
    "except ZeroDivisionError:\n",
    "    print('Cannot divide by zero')"
   ]
  },
  {
   "cell_type": "code",
   "execution_count": null,
   "id": "1d15ca63",
   "metadata": {},
   "outputs": [],
   "source": [
    "# Topic: Decorators\n",
    "def decorator(fn):\n",
    "    def wrapper():\n",
    "        print('Before')\n",
    "        fn()\n",
    "        print('After')\n",
    "    return wrapper\n",
    "@decorator\n",
    "def say(): print('Hi')\n",
    "say()"
   ]
  },
  {
   "cell_type": "code",
   "execution_count": null,
   "id": "4b01ea00",
   "metadata": {},
   "outputs": [],
   "source": [
    "# Topic: File I/O\n",
    "with open('sample.txt', 'w') as f:\n",
    "    f.write('Hello World')"
   ]
  },
  {
   "cell_type": "code",
   "execution_count": null,
   "id": "0238ebe7",
   "metadata": {},
   "outputs": [],
   "source": [
    "# Topic: Decorators\n",
    "def decorator(fn):\n",
    "    def wrapper():\n",
    "        print('Before')\n",
    "        fn()\n",
    "        print('After')\n",
    "    return wrapper\n",
    "@decorator\n",
    "def say(): print('Hi')\n",
    "say()"
   ]
  },
  {
   "cell_type": "code",
   "execution_count": null,
   "id": "bbdec537",
   "metadata": {},
   "outputs": [],
   "source": [
    "# Topic: NumPy\n",
    "import numpy as np\n",
    "print(np.arange(0, 10, 2))"
   ]
  },
  {
   "cell_type": "code",
   "execution_count": null,
   "id": "7ab63bef",
   "metadata": {},
   "outputs": [],
   "source": [
    "# Topic: Classes & Objects\n",
    "class Dog:\n",
    "    def bark(self):\n",
    "        print('Woof!')\n",
    "d = Dog()\n",
    "d.bark()"
   ]
  },
  {
   "cell_type": "code",
   "execution_count": null,
   "id": "b55fe8e9",
   "metadata": {},
   "outputs": [],
   "source": [
    "# Topic: Pandas\n",
    "import pandas as pd\n",
    "df = pd.DataFrame({'A':[1,2],'B':[3,4]})\n",
    "print(df)"
   ]
  },
  {
   "cell_type": "code",
   "execution_count": null,
   "id": "f9fd45cf",
   "metadata": {},
   "outputs": [],
   "source": [
    "# Topic: Classes & Objects\n",
    "class Dog:\n",
    "    def bark(self):\n",
    "        print('Woof!')\n",
    "d = Dog()\n",
    "d.bark()"
   ]
  },
  {
   "cell_type": "code",
   "execution_count": null,
   "id": "622ef08c",
   "metadata": {},
   "outputs": [],
   "source": [
    "# Topic: Basics\n",
    "name = 'Fahd'\n",
    "print(f'Welcome, {name}')"
   ]
  },
  {
   "cell_type": "code",
   "execution_count": null,
   "id": "3f5c682b",
   "metadata": {},
   "outputs": [],
   "source": [
    "# Topic: Loops\n",
    "for i in range(10): print(i*i)"
   ]
  },
  {
   "cell_type": "code",
   "execution_count": null,
   "id": "70349ce8",
   "metadata": {},
   "outputs": [],
   "source": [
    "# Topic: Recursion\n",
    "def fib(n):\n",
    "    if n <= 1: return n\n",
    "    return fib(n-1) + fib(n-2)\n",
    "print(fib(5))"
   ]
  },
  {
   "cell_type": "code",
   "execution_count": null,
   "id": "cdb08458",
   "metadata": {},
   "outputs": [],
   "source": [
    "# Topic: Exceptions\n",
    "try:\n",
    "    print(10/0)\n",
    "except ZeroDivisionError:\n",
    "    print('Cannot divide by zero')"
   ]
  },
  {
   "cell_type": "code",
   "execution_count": null,
   "id": "4a09c081",
   "metadata": {},
   "outputs": [],
   "source": [
    "# Topic: Classes & Objects\n",
    "class Dog:\n",
    "    def bark(self):\n",
    "        print('Woof!')\n",
    "d = Dog()\n",
    "d.bark()"
   ]
  },
  {
   "cell_type": "code",
   "execution_count": null,
   "id": "8f4311c7",
   "metadata": {},
   "outputs": [],
   "source": [
    "# Topic: Matplotlib\n",
    "import matplotlib.pyplot as plt\n",
    "plt.plot([1,2],[3,4])\n",
    "plt.show()"
   ]
  },
  {
   "cell_type": "code",
   "execution_count": null,
   "id": "2045ef1f",
   "metadata": {},
   "outputs": [],
   "source": [
    "# Topic: Loops\n",
    "i = 0\n",
    "while i < 5:\n",
    "    print(i)\n",
    "    i += 1"
   ]
  },
  {
   "cell_type": "code",
   "execution_count": null,
   "id": "37e1f21b",
   "metadata": {},
   "outputs": [],
   "source": [
    "# Topic: Web Scraping\n",
    "import requests\n",
    "from bs4 import BeautifulSoup\n",
    "r = requests.get('https://example.com')\n",
    "soup = BeautifulSoup(r.text, 'html.parser')\n",
    "print(soup.title.string)"
   ]
  },
  {
   "cell_type": "code",
   "execution_count": null,
   "id": "5c0dd24e",
   "metadata": {},
   "outputs": [],
   "source": [
    "# Topic: File I/O\n",
    "with open('sample.txt', 'w') as f:\n",
    "    f.write('Hello World')"
   ]
  },
  {
   "cell_type": "code",
   "execution_count": null,
   "id": "d676d19f",
   "metadata": {},
   "outputs": [],
   "source": [
    "# Topic: Decorators\n",
    "def decorator(fn):\n",
    "    def wrapper():\n",
    "        print('Before')\n",
    "        fn()\n",
    "        print('After')\n",
    "    return wrapper\n",
    "@decorator\n",
    "def say(): print('Hi')\n",
    "say()"
   ]
  },
  {
   "cell_type": "code",
   "execution_count": null,
   "id": "02b01435",
   "metadata": {},
   "outputs": [],
   "source": [
    "# Topic: File I/O\n",
    "with open('sample.txt', 'w') as f:\n",
    "    f.write('Hello World')"
   ]
  },
  {
   "cell_type": "code",
   "execution_count": null,
   "id": "096f4318",
   "metadata": {},
   "outputs": [],
   "source": [
    "# Topic: Decorators\n",
    "def decorator(fn):\n",
    "    def wrapper():\n",
    "        print('Before')\n",
    "        fn()\n",
    "        print('After')\n",
    "    return wrapper\n",
    "@decorator\n",
    "def say(): print('Hi')\n",
    "say()"
   ]
  },
  {
   "cell_type": "code",
   "execution_count": null,
   "id": "05d42ca5",
   "metadata": {},
   "outputs": [],
   "source": [
    "# Topic: Pandas\n",
    "import pandas as pd\n",
    "df = pd.read_csv('data.csv')\n",
    "print(df.head())"
   ]
  },
  {
   "cell_type": "code",
   "execution_count": null,
   "id": "c718f3e3",
   "metadata": {},
   "outputs": [],
   "source": [
    "# Topic: Basics\n",
    "a = 5\n",
    "b = 3\n",
    "print(a * b)"
   ]
  },
  {
   "cell_type": "code",
   "execution_count": null,
   "id": "d4fb9723",
   "metadata": {},
   "outputs": [],
   "source": [
    "# Topic: Basics\n",
    "a = 5\n",
    "b = 3\n",
    "print(a * b)"
   ]
  },
  {
   "cell_type": "code",
   "execution_count": null,
   "id": "5d4f07e6",
   "metadata": {},
   "outputs": [],
   "source": [
    "# Topic: Basics\n",
    "x = 7\n",
    "print('Odd' if x % 2 else 'Even')"
   ]
  },
  {
   "cell_type": "code",
   "execution_count": null,
   "id": "62b355ca",
   "metadata": {},
   "outputs": [],
   "source": [
    "# Topic: Dictionaries & Sets\n",
    "d = {'a':1, 'b':2}\n",
    "print(d['a'])"
   ]
  },
  {
   "cell_type": "code",
   "execution_count": null,
   "id": "1f9af0bc",
   "metadata": {},
   "outputs": [],
   "source": [
    "# Topic: Loops\n",
    "i = 0\n",
    "while i < 5:\n",
    "    print(i)\n",
    "    i += 1"
   ]
  },
  {
   "cell_type": "code",
   "execution_count": null,
   "id": "fbcc5199",
   "metadata": {},
   "outputs": [],
   "source": [
    "# Topic: Loops\n",
    "i = 0\n",
    "while i < 5:\n",
    "    print(i)\n",
    "    i += 1"
   ]
  },
  {
   "cell_type": "code",
   "execution_count": null,
   "id": "dcf772ca",
   "metadata": {},
   "outputs": [],
   "source": [
    "# Topic: Pandas\n",
    "import pandas as pd\n",
    "df = pd.read_csv('data.csv')\n",
    "print(df.head())"
   ]
  },
  {
   "cell_type": "code",
   "execution_count": null,
   "id": "ab7876d8",
   "metadata": {},
   "outputs": [],
   "source": [
    "# Topic: Basics\n",
    "a = 5\n",
    "b = 3\n",
    "print(a * b)"
   ]
  },
  {
   "cell_type": "code",
   "execution_count": null,
   "id": "f0a91eda",
   "metadata": {},
   "outputs": [],
   "source": [
    "# Topic: Functions\n",
    "def factorial(n):\n",
    "    return 1 if n==0 else n * factorial(n-1)\n",
    "print(factorial(5))"
   ]
  },
  {
   "cell_type": "code",
   "execution_count": null,
   "id": "751871f5",
   "metadata": {},
   "outputs": [],
   "source": [
    "# Topic: Classes & Objects\n",
    "class Dog:\n",
    "    def bark(self):\n",
    "        print('Woof!')\n",
    "d = Dog()\n",
    "d.bark()"
   ]
  },
  {
   "cell_type": "code",
   "execution_count": null,
   "id": "7f0ee36e",
   "metadata": {},
   "outputs": [],
   "source": [
    "# Topic: Mini Projects\n",
    "# Palindrome checker\n",
    "def is_palindrome(s):\n",
    " return s == s[::-1]\n",
    "print(is_palindrome('madam'))"
   ]
  },
  {
   "cell_type": "code",
   "execution_count": null,
   "id": "966f8489",
   "metadata": {},
   "outputs": [],
   "source": [
    "# Topic: Pandas\n",
    "import pandas as pd\n",
    "df = pd.DataFrame({'A':[1,2],'B':[3,4]})\n",
    "print(df)"
   ]
  },
  {
   "cell_type": "code",
   "execution_count": null,
   "id": "7ccf3383",
   "metadata": {},
   "outputs": [],
   "source": [
    "# Topic: Dictionaries & Sets\n",
    "d = {'a':1, 'b':2}\n",
    "print(d['a'])"
   ]
  },
  {
   "cell_type": "code",
   "execution_count": null,
   "id": "708c0e3e",
   "metadata": {},
   "outputs": [],
   "source": [
    "# Topic: Recursion\n",
    "def fib(n):\n",
    "    if n <= 1: return n\n",
    "    return fib(n-1) + fib(n-2)\n",
    "print(fib(5))"
   ]
  },
  {
   "cell_type": "code",
   "execution_count": null,
   "id": "e2b9a18b",
   "metadata": {},
   "outputs": [],
   "source": [
    "# Topic: Web Scraping\n",
    "import requests\n",
    "from bs4 import BeautifulSoup\n",
    "r = requests.get('https://example.com')\n",
    "soup = BeautifulSoup(r.text, 'html.parser')\n",
    "print(soup.title.string)"
   ]
  },
  {
   "cell_type": "code",
   "execution_count": null,
   "id": "b965c573",
   "metadata": {},
   "outputs": [],
   "source": [
    "# Topic: Mini Projects\n",
    "# Palindrome checker\n",
    "def is_palindrome(s):\n",
    " return s == s[::-1]\n",
    "print(is_palindrome('madam'))"
   ]
  },
  {
   "cell_type": "code",
   "execution_count": null,
   "id": "329f77fb",
   "metadata": {},
   "outputs": [],
   "source": [
    "# Topic: Dictionaries & Sets\n",
    "s = {1,2,3}\n",
    "s.add(4)\n",
    "print(s)"
   ]
  },
  {
   "cell_type": "code",
   "execution_count": null,
   "id": "0a548bbe",
   "metadata": {},
   "outputs": [],
   "source": [
    "# Topic: Dictionaries & Sets\n",
    "d = {'a':1, 'b':2}\n",
    "print(d['a'])"
   ]
  },
  {
   "cell_type": "code",
   "execution_count": null,
   "id": "8e42a1b1",
   "metadata": {},
   "outputs": [],
   "source": [
    "# Topic: Basics\n",
    "name = 'Fahd'\n",
    "print(f'Welcome, {name}')"
   ]
  },
  {
   "cell_type": "code",
   "execution_count": null,
   "id": "952fa12f",
   "metadata": {},
   "outputs": [],
   "source": [
    "# Topic: Pandas\n",
    "import pandas as pd\n",
    "df = pd.read_csv('data.csv')\n",
    "print(df.head())"
   ]
  },
  {
   "cell_type": "code",
   "execution_count": null,
   "id": "08f971f0",
   "metadata": {},
   "outputs": [],
   "source": [
    "# Topic: Pandas\n",
    "import pandas as pd\n",
    "df = pd.read_csv('data.csv')\n",
    "print(df.head())"
   ]
  },
  {
   "cell_type": "code",
   "execution_count": null,
   "id": "3e9d6420",
   "metadata": {},
   "outputs": [],
   "source": [
    "# Topic: Loops\n",
    "i = 0\n",
    "while i < 5:\n",
    "    print(i)\n",
    "    i += 1"
   ]
  },
  {
   "cell_type": "code",
   "execution_count": null,
   "id": "86a2c821",
   "metadata": {},
   "outputs": [],
   "source": [
    "# Topic: Functions\n",
    "def factorial(n):\n",
    "    return 1 if n==0 else n * factorial(n-1)\n",
    "print(factorial(5))"
   ]
  },
  {
   "cell_type": "code",
   "execution_count": null,
   "id": "38b9a255",
   "metadata": {},
   "outputs": [],
   "source": [
    "# Topic: Web Scraping\n",
    "import requests\n",
    "from bs4 import BeautifulSoup\n",
    "r = requests.get('https://example.com')\n",
    "soup = BeautifulSoup(r.text, 'html.parser')\n",
    "print(soup.title.string)"
   ]
  },
  {
   "cell_type": "code",
   "execution_count": null,
   "id": "c1ac3c2f",
   "metadata": {},
   "outputs": [],
   "source": [
    "# Topic: NumPy\n",
    "import numpy as np\n",
    "print(np.arange(0, 10, 2))"
   ]
  },
  {
   "cell_type": "code",
   "execution_count": null,
   "id": "6d46ef91",
   "metadata": {},
   "outputs": [],
   "source": [
    "# Topic: Functions\n",
    "def factorial(n):\n",
    "    return 1 if n==0 else n * factorial(n-1)\n",
    "print(factorial(5))"
   ]
  },
  {
   "cell_type": "code",
   "execution_count": null,
   "id": "ac4595d6",
   "metadata": {},
   "outputs": [],
   "source": [
    "# Topic: Lists & Tuples\n",
    "nums = [1,2,3]\n",
    "nums.append(4)\n",
    "print(nums)"
   ]
  },
  {
   "cell_type": "code",
   "execution_count": null,
   "id": "a56abcc0",
   "metadata": {},
   "outputs": [],
   "source": [
    "# Topic: Functions\n",
    "def factorial(n):\n",
    "    return 1 if n==0 else n * factorial(n-1)\n",
    "print(factorial(5))"
   ]
  },
  {
   "cell_type": "code",
   "execution_count": null,
   "id": "9ced753e",
   "metadata": {},
   "outputs": [],
   "source": [
    "# Topic: Exceptions\n",
    "try:\n",
    "    print(10/0)\n",
    "except ZeroDivisionError:\n",
    "    print('Cannot divide by zero')"
   ]
  },
  {
   "cell_type": "code",
   "execution_count": null,
   "id": "24bdafee",
   "metadata": {},
   "outputs": [],
   "source": [
    "# Topic: Loops\n",
    "i = 0\n",
    "while i < 5:\n",
    "    print(i)\n",
    "    i += 1"
   ]
  },
  {
   "cell_type": "code",
   "execution_count": null,
   "id": "5e7d8050",
   "metadata": {},
   "outputs": [],
   "source": [
    "# Topic: File I/O\n",
    "with open('sample.txt', 'w') as f:\n",
    "    f.write('Hello World')"
   ]
  },
  {
   "cell_type": "code",
   "execution_count": null,
   "id": "422da23b",
   "metadata": {},
   "outputs": [],
   "source": [
    "# Topic: Recursion\n",
    "def fib(n):\n",
    "    if n <= 1: return n\n",
    "    return fib(n-1) + fib(n-2)\n",
    "print(fib(5))"
   ]
  },
  {
   "cell_type": "code",
   "execution_count": null,
   "id": "5d1331d2",
   "metadata": {},
   "outputs": [],
   "source": [
    "# Topic: Web Scraping\n",
    "import requests\n",
    "from bs4 import BeautifulSoup\n",
    "r = requests.get('https://example.com')\n",
    "soup = BeautifulSoup(r.text, 'html.parser')\n",
    "print(soup.title.string)"
   ]
  },
  {
   "cell_type": "code",
   "execution_count": null,
   "id": "cfb20cfc",
   "metadata": {},
   "outputs": [],
   "source": [
    "# Topic: Mini Projects\n",
    "# Simple calculator\n",
    "def calc(a,b,op):\n",
    " if op=='+': return a+b\n",
    " elif op=='-': return a-b\n",
    "print(calc(10,5,'+'))"
   ]
  },
  {
   "cell_type": "code",
   "execution_count": null,
   "id": "4c9d9cfa",
   "metadata": {},
   "outputs": [],
   "source": [
    "# Topic: NumPy\n",
    "import numpy as np\n",
    "a = np.array([1,2,3])\n",
    "print(a * 2)"
   ]
  },
  {
   "cell_type": "code",
   "execution_count": null,
   "id": "7af76bac",
   "metadata": {},
   "outputs": [],
   "source": [
    "# Topic: Loops\n",
    "for i in range(10): print(i*i)"
   ]
  },
  {
   "cell_type": "code",
   "execution_count": null,
   "id": "09bb7527",
   "metadata": {},
   "outputs": [],
   "source": [
    "# Topic: Recursion\n",
    "def fib(n):\n",
    "    if n <= 1: return n\n",
    "    return fib(n-1) + fib(n-2)\n",
    "print(fib(5))"
   ]
  },
  {
   "cell_type": "code",
   "execution_count": null,
   "id": "0fae1696",
   "metadata": {},
   "outputs": [],
   "source": [
    "# Topic: Recursion\n",
    "def fib(n):\n",
    "    if n <= 1: return n\n",
    "    return fib(n-1) + fib(n-2)\n",
    "print(fib(5))"
   ]
  },
  {
   "cell_type": "code",
   "execution_count": null,
   "id": "78c6cc1c",
   "metadata": {},
   "outputs": [],
   "source": [
    "# Topic: Dictionaries & Sets\n",
    "s = {1,2,3}\n",
    "s.add(4)\n",
    "print(s)"
   ]
  },
  {
   "cell_type": "code",
   "execution_count": null,
   "id": "0fa0eba2",
   "metadata": {},
   "outputs": [],
   "source": [
    "# Topic: Lists & Tuples\n",
    "t = (1,2,3)\n",
    "print(t[1])"
   ]
  },
  {
   "cell_type": "code",
   "execution_count": null,
   "id": "240fc3d5",
   "metadata": {},
   "outputs": [],
   "source": [
    "# Topic: NumPy\n",
    "import numpy as np\n",
    "print(np.arange(0, 10, 2))"
   ]
  },
  {
   "cell_type": "code",
   "execution_count": null,
   "id": "126ab7a6",
   "metadata": {},
   "outputs": [],
   "source": [
    "# Topic: Recursion\n",
    "def fib(n):\n",
    "    if n <= 1: return n\n",
    "    return fib(n-1) + fib(n-2)\n",
    "print(fib(5))"
   ]
  },
  {
   "cell_type": "code",
   "execution_count": null,
   "id": "a5ba7fe8",
   "metadata": {},
   "outputs": [],
   "source": [
    "# Topic: Exceptions\n",
    "try:\n",
    "    print(10/0)\n",
    "except ZeroDivisionError:\n",
    "    print('Cannot divide by zero')"
   ]
  },
  {
   "cell_type": "code",
   "execution_count": null,
   "id": "a1d1cb33",
   "metadata": {},
   "outputs": [],
   "source": [
    "# Topic: Decorators\n",
    "def decorator(fn):\n",
    "    def wrapper():\n",
    "        print('Before')\n",
    "        fn()\n",
    "        print('After')\n",
    "    return wrapper\n",
    "@decorator\n",
    "def say(): print('Hi')\n",
    "say()"
   ]
  },
  {
   "cell_type": "code",
   "execution_count": null,
   "id": "04163ae1",
   "metadata": {},
   "outputs": [],
   "source": [
    "# Topic: Functions\n",
    "def factorial(n):\n",
    "    return 1 if n==0 else n * factorial(n-1)\n",
    "print(factorial(5))"
   ]
  },
  {
   "cell_type": "code",
   "execution_count": null,
   "id": "b022d42f",
   "metadata": {},
   "outputs": [],
   "source": [
    "# Topic: File I/O\n",
    "with open('sample.txt', 'w') as f:\n",
    "    f.write('Hello World')"
   ]
  },
  {
   "cell_type": "code",
   "execution_count": null,
   "id": "7eeddfa2",
   "metadata": {},
   "outputs": [],
   "source": [
    "# Topic: Matplotlib\n",
    "import matplotlib.pyplot as plt\n",
    "plt.bar(['A','B'], [10,20])\n",
    "plt.show()"
   ]
  },
  {
   "cell_type": "code",
   "execution_count": null,
   "id": "686404df",
   "metadata": {},
   "outputs": [],
   "source": [
    "# Topic: Recursion\n",
    "def fib(n):\n",
    "    if n <= 1: return n\n",
    "    return fib(n-1) + fib(n-2)\n",
    "print(fib(5))"
   ]
  },
  {
   "cell_type": "code",
   "execution_count": null,
   "id": "903cc3f5",
   "metadata": {},
   "outputs": [],
   "source": [
    "# Topic: NumPy\n",
    "import numpy as np\n",
    "a = np.array([1,2,3])\n",
    "print(a * 2)"
   ]
  },
  {
   "cell_type": "code",
   "execution_count": null,
   "id": "b03fa9e0",
   "metadata": {},
   "outputs": [],
   "source": [
    "# Topic: Functions\n",
    "def add(a, b): return a + b\n",
    "print(add(3, 4))"
   ]
  },
  {
   "cell_type": "code",
   "execution_count": null,
   "id": "f042bff7",
   "metadata": {},
   "outputs": [],
   "source": [
    "# Topic: Lists & Tuples\n",
    "t = (1,2,3)\n",
    "print(t[1])"
   ]
  },
  {
   "cell_type": "code",
   "execution_count": null,
   "id": "67da483f",
   "metadata": {},
   "outputs": [],
   "source": [
    "# Topic: Basics\n",
    "a = 5\n",
    "b = 3\n",
    "print(a * b)"
   ]
  },
  {
   "cell_type": "code",
   "execution_count": null,
   "id": "5ce3090c",
   "metadata": {},
   "outputs": [],
   "source": [
    "# Topic: Exceptions\n",
    "try:\n",
    "    print(10/0)\n",
    "except ZeroDivisionError:\n",
    "    print('Cannot divide by zero')"
   ]
  },
  {
   "cell_type": "code",
   "execution_count": null,
   "id": "05d5e564",
   "metadata": {},
   "outputs": [],
   "source": [
    "# Topic: NumPy\n",
    "import numpy as np\n",
    "print(np.arange(0, 10, 2))"
   ]
  },
  {
   "cell_type": "code",
   "execution_count": null,
   "id": "f03d1a29",
   "metadata": {},
   "outputs": [],
   "source": [
    "# Topic: Decorators\n",
    "def decorator(fn):\n",
    "    def wrapper():\n",
    "        print('Before')\n",
    "        fn()\n",
    "        print('After')\n",
    "    return wrapper\n",
    "@decorator\n",
    "def say(): print('Hi')\n",
    "say()"
   ]
  },
  {
   "cell_type": "code",
   "execution_count": null,
   "id": "04d1a031",
   "metadata": {},
   "outputs": [],
   "source": [
    "# Topic: Matplotlib\n",
    "import matplotlib.pyplot as plt\n",
    "plt.bar(['A','B'], [10,20])\n",
    "plt.show()"
   ]
  },
  {
   "cell_type": "code",
   "execution_count": null,
   "id": "bdebddf9",
   "metadata": {},
   "outputs": [],
   "source": [
    "# Topic: Functions\n",
    "def factorial(n):\n",
    "    return 1 if n==0 else n * factorial(n-1)\n",
    "print(factorial(5))"
   ]
  },
  {
   "cell_type": "code",
   "execution_count": null,
   "id": "25850895",
   "metadata": {},
   "outputs": [],
   "source": [
    "# Topic: Lists & Tuples\n",
    "t = (1,2,3)\n",
    "print(t[1])"
   ]
  },
  {
   "cell_type": "code",
   "execution_count": null,
   "id": "2cf62449",
   "metadata": {},
   "outputs": [],
   "source": [
    "# Topic: Dictionaries & Sets\n",
    "s = {1,2,3}\n",
    "s.add(4)\n",
    "print(s)"
   ]
  },
  {
   "cell_type": "code",
   "execution_count": null,
   "id": "44c54a0b",
   "metadata": {},
   "outputs": [],
   "source": [
    "# Topic: Loops\n",
    "for i in range(10): print(i*i)"
   ]
  },
  {
   "cell_type": "code",
   "execution_count": null,
   "id": "f156f448",
   "metadata": {},
   "outputs": [],
   "source": [
    "# Topic: Mini Projects\n",
    "# Simple calculator\n",
    "def calc(a,b,op):\n",
    " if op=='+': return a+b\n",
    " elif op=='-': return a-b\n",
    "print(calc(10,5,'+'))"
   ]
  },
  {
   "cell_type": "code",
   "execution_count": null,
   "id": "6fceedc8",
   "metadata": {},
   "outputs": [],
   "source": [
    "# Topic: Pandas\n",
    "import pandas as pd\n",
    "df = pd.read_csv('data.csv')\n",
    "print(df.head())"
   ]
  },
  {
   "cell_type": "code",
   "execution_count": null,
   "id": "19225b7f",
   "metadata": {},
   "outputs": [],
   "source": [
    "# Topic: Dictionaries & Sets\n",
    "s = {1,2,3}\n",
    "s.add(4)\n",
    "print(s)"
   ]
  },
  {
   "cell_type": "code",
   "execution_count": null,
   "id": "346def67",
   "metadata": {},
   "outputs": [],
   "source": [
    "# Topic: Basics\n",
    "a = 5\n",
    "b = 3\n",
    "print(a * b)"
   ]
  },
  {
   "cell_type": "code",
   "execution_count": null,
   "id": "cfea00de",
   "metadata": {},
   "outputs": [],
   "source": [
    "# Topic: File I/O\n",
    "with open('sample.txt', 'w') as f:\n",
    "    f.write('Hello World')"
   ]
  },
  {
   "cell_type": "code",
   "execution_count": null,
   "id": "732b2806",
   "metadata": {},
   "outputs": [],
   "source": [
    "# Topic: Web Scraping\n",
    "import requests\n",
    "from bs4 import BeautifulSoup\n",
    "r = requests.get('https://example.com')\n",
    "soup = BeautifulSoup(r.text, 'html.parser')\n",
    "print(soup.title.string)"
   ]
  },
  {
   "cell_type": "code",
   "execution_count": null,
   "id": "ebd66f5e",
   "metadata": {},
   "outputs": [],
   "source": [
    "# Topic: Loops\n",
    "for i in range(10): print(i*i)"
   ]
  },
  {
   "cell_type": "code",
   "execution_count": null,
   "id": "e3c85b38",
   "metadata": {},
   "outputs": [],
   "source": [
    "# Topic: Pandas\n",
    "import pandas as pd\n",
    "df = pd.read_csv('data.csv')\n",
    "print(df.head())"
   ]
  },
  {
   "cell_type": "code",
   "execution_count": null,
   "id": "b26c1b26",
   "metadata": {},
   "outputs": [],
   "source": [
    "# Topic: Mini Projects\n",
    "# Simple calculator\n",
    "def calc(a,b,op):\n",
    " if op=='+': return a+b\n",
    " elif op=='-': return a-b\n",
    "print(calc(10,5,'+'))"
   ]
  },
  {
   "cell_type": "code",
   "execution_count": null,
   "id": "78567194",
   "metadata": {},
   "outputs": [],
   "source": [
    "# Topic: Recursion\n",
    "def fib(n):\n",
    "    if n <= 1: return n\n",
    "    return fib(n-1) + fib(n-2)\n",
    "print(fib(5))"
   ]
  },
  {
   "cell_type": "code",
   "execution_count": null,
   "id": "afe53cb1",
   "metadata": {},
   "outputs": [],
   "source": [
    "# Topic: Web Scraping\n",
    "import requests\n",
    "from bs4 import BeautifulSoup\n",
    "r = requests.get('https://example.com')\n",
    "soup = BeautifulSoup(r.text, 'html.parser')\n",
    "print(soup.title.string)"
   ]
  },
  {
   "cell_type": "code",
   "execution_count": null,
   "id": "ed91b343",
   "metadata": {},
   "outputs": [],
   "source": [
    "# Topic: Web Scraping\n",
    "import requests\n",
    "from bs4 import BeautifulSoup\n",
    "r = requests.get('https://example.com')\n",
    "soup = BeautifulSoup(r.text, 'html.parser')\n",
    "print(soup.title.string)"
   ]
  },
  {
   "cell_type": "code",
   "execution_count": null,
   "id": "e9ab3a6e",
   "metadata": {},
   "outputs": [],
   "source": [
    "# Topic: NumPy\n",
    "import numpy as np\n",
    "print(np.arange(0, 10, 2))"
   ]
  },
  {
   "cell_type": "code",
   "execution_count": null,
   "id": "6010776e",
   "metadata": {},
   "outputs": [],
   "source": [
    "# Topic: Dictionaries & Sets\n",
    "s = {1,2,3}\n",
    "s.add(4)\n",
    "print(s)"
   ]
  },
  {
   "cell_type": "code",
   "execution_count": null,
   "id": "36a27c47",
   "metadata": {},
   "outputs": [],
   "source": [
    "# Topic: Dictionaries & Sets\n",
    "d = {'a':1, 'b':2}\n",
    "print(d['a'])"
   ]
  },
  {
   "cell_type": "code",
   "execution_count": null,
   "id": "2b7d8c91",
   "metadata": {},
   "outputs": [],
   "source": [
    "# Topic: Recursion\n",
    "def fib(n):\n",
    "    if n <= 1: return n\n",
    "    return fib(n-1) + fib(n-2)\n",
    "print(fib(5))"
   ]
  },
  {
   "cell_type": "code",
   "execution_count": null,
   "id": "4afa9c2e",
   "metadata": {},
   "outputs": [],
   "source": [
    "# Topic: Recursion\n",
    "def fib(n):\n",
    "    if n <= 1: return n\n",
    "    return fib(n-1) + fib(n-2)\n",
    "print(fib(5))"
   ]
  },
  {
   "cell_type": "code",
   "execution_count": null,
   "id": "c083d598",
   "metadata": {},
   "outputs": [],
   "source": [
    "# Topic: Matplotlib\n",
    "import matplotlib.pyplot as plt\n",
    "plt.plot([1,2],[3,4])\n",
    "plt.show()"
   ]
  },
  {
   "cell_type": "code",
   "execution_count": null,
   "id": "c59679eb",
   "metadata": {},
   "outputs": [],
   "source": [
    "# Topic: Recursion\n",
    "def fib(n):\n",
    "    if n <= 1: return n\n",
    "    return fib(n-1) + fib(n-2)\n",
    "print(fib(5))"
   ]
  },
  {
   "cell_type": "code",
   "execution_count": null,
   "id": "1b54c982",
   "metadata": {},
   "outputs": [],
   "source": [
    "# Topic: Web Scraping\n",
    "import requests\n",
    "from bs4 import BeautifulSoup\n",
    "r = requests.get('https://example.com')\n",
    "soup = BeautifulSoup(r.text, 'html.parser')\n",
    "print(soup.title.string)"
   ]
  },
  {
   "cell_type": "code",
   "execution_count": null,
   "id": "15fcad00",
   "metadata": {},
   "outputs": [],
   "source": [
    "# Topic: Pandas\n",
    "import pandas as pd\n",
    "df = pd.read_csv('data.csv')\n",
    "print(df.head())"
   ]
  },
  {
   "cell_type": "code",
   "execution_count": null,
   "id": "91a5c4c1",
   "metadata": {},
   "outputs": [],
   "source": [
    "# Topic: Pandas\n",
    "import pandas as pd\n",
    "df = pd.DataFrame({'A':[1,2],'B':[3,4]})\n",
    "print(df)"
   ]
  },
  {
   "cell_type": "code",
   "execution_count": null,
   "id": "bcd528f4",
   "metadata": {},
   "outputs": [],
   "source": [
    "# Topic: File I/O\n",
    "with open('sample.txt') as f:\n",
    "    print(f.read())"
   ]
  },
  {
   "cell_type": "code",
   "execution_count": null,
   "id": "66a37c8b",
   "metadata": {},
   "outputs": [],
   "source": [
    "# Topic: File I/O\n",
    "with open('sample.txt') as f:\n",
    "    print(f.read())"
   ]
  },
  {
   "cell_type": "code",
   "execution_count": null,
   "id": "8238826f",
   "metadata": {},
   "outputs": [],
   "source": [
    "# Topic: Lists & Tuples\n",
    "nums = [1,2,3]\n",
    "nums.append(4)\n",
    "print(nums)"
   ]
  },
  {
   "cell_type": "code",
   "execution_count": null,
   "id": "85d2c198",
   "metadata": {},
   "outputs": [],
   "source": [
    "# Topic: Functions\n",
    "def add(a, b): return a + b\n",
    "print(add(3, 4))"
   ]
  },
  {
   "cell_type": "code",
   "execution_count": null,
   "id": "69af8be6",
   "metadata": {},
   "outputs": [],
   "source": [
    "# Topic: Basics\n",
    "a = 5\n",
    "b = 3\n",
    "print(a * b)"
   ]
  },
  {
   "cell_type": "code",
   "execution_count": null,
   "id": "210d10ba",
   "metadata": {},
   "outputs": [],
   "source": [
    "# Topic: Matplotlib\n",
    "import matplotlib.pyplot as plt\n",
    "plt.bar(['A','B'], [10,20])\n",
    "plt.show()"
   ]
  },
  {
   "cell_type": "code",
   "execution_count": null,
   "id": "3d2f8652",
   "metadata": {},
   "outputs": [],
   "source": [
    "# Topic: Loops\n",
    "for i in range(10): print(i*i)"
   ]
  },
  {
   "cell_type": "code",
   "execution_count": null,
   "id": "43d2f034",
   "metadata": {},
   "outputs": [],
   "source": [
    "# Topic: Loops\n",
    "for i in range(10): print(i*i)"
   ]
  },
  {
   "cell_type": "code",
   "execution_count": null,
   "id": "cfc474fe",
   "metadata": {},
   "outputs": [],
   "source": [
    "# Topic: Pandas\n",
    "import pandas as pd\n",
    "df = pd.DataFrame({'A':[1,2],'B':[3,4]})\n",
    "print(df)"
   ]
  },
  {
   "cell_type": "code",
   "execution_count": null,
   "id": "ca371458",
   "metadata": {},
   "outputs": [],
   "source": [
    "# Topic: NumPy\n",
    "import numpy as np\n",
    "print(np.arange(0, 10, 2))"
   ]
  },
  {
   "cell_type": "code",
   "execution_count": null,
   "id": "d6c9f009",
   "metadata": {},
   "outputs": [],
   "source": [
    "# Topic: Basics\n",
    "a = 5\n",
    "b = 3\n",
    "print(a * b)"
   ]
  },
  {
   "cell_type": "code",
   "execution_count": null,
   "id": "8dab4103",
   "metadata": {},
   "outputs": [],
   "source": [
    "# Topic: Web Scraping\n",
    "import requests\n",
    "from bs4 import BeautifulSoup\n",
    "r = requests.get('https://example.com')\n",
    "soup = BeautifulSoup(r.text, 'html.parser')\n",
    "print(soup.title.string)"
   ]
  },
  {
   "cell_type": "code",
   "execution_count": null,
   "id": "f19ae888",
   "metadata": {},
   "outputs": [],
   "source": [
    "# Topic: Basics\n",
    "name = 'Fahd'\n",
    "print(f'Welcome, {name}')"
   ]
  },
  {
   "cell_type": "code",
   "execution_count": null,
   "id": "b3067b67",
   "metadata": {},
   "outputs": [],
   "source": [
    "# Topic: Loops\n",
    "i = 0\n",
    "while i < 5:\n",
    "    print(i)\n",
    "    i += 1"
   ]
  },
  {
   "cell_type": "code",
   "execution_count": null,
   "id": "b32faabf",
   "metadata": {},
   "outputs": [],
   "source": [
    "# Topic: Lists & Tuples\n",
    "t = (1,2,3)\n",
    "print(t[1])"
   ]
  },
  {
   "cell_type": "code",
   "execution_count": null,
   "id": "5b3174dd",
   "metadata": {},
   "outputs": [],
   "source": [
    "# Topic: Functions\n",
    "def factorial(n):\n",
    "    return 1 if n==0 else n * factorial(n-1)\n",
    "print(factorial(5))"
   ]
  },
  {
   "cell_type": "code",
   "execution_count": null,
   "id": "10954d99",
   "metadata": {},
   "outputs": [],
   "source": [
    "# Topic: File I/O\n",
    "with open('sample.txt') as f:\n",
    "    print(f.read())"
   ]
  },
  {
   "cell_type": "code",
   "execution_count": null,
   "id": "54ad66e8",
   "metadata": {},
   "outputs": [],
   "source": [
    "# Topic: Exceptions\n",
    "try:\n",
    "    print(10/0)\n",
    "except ZeroDivisionError:\n",
    "    print('Cannot divide by zero')"
   ]
  },
  {
   "cell_type": "code",
   "execution_count": null,
   "id": "99df3cb4",
   "metadata": {},
   "outputs": [],
   "source": [
    "# Topic: Recursion\n",
    "def fib(n):\n",
    "    if n <= 1: return n\n",
    "    return fib(n-1) + fib(n-2)\n",
    "print(fib(5))"
   ]
  },
  {
   "cell_type": "code",
   "execution_count": null,
   "id": "be52405b",
   "metadata": {},
   "outputs": [],
   "source": [
    "# Topic: Matplotlib\n",
    "import matplotlib.pyplot as plt\n",
    "plt.plot([1,2],[3,4])\n",
    "plt.show()"
   ]
  },
  {
   "cell_type": "code",
   "execution_count": null,
   "id": "69b861bd",
   "metadata": {},
   "outputs": [],
   "source": [
    "# Topic: Basics\n",
    "name = 'Fahd'\n",
    "print(f'Welcome, {name}')"
   ]
  },
  {
   "cell_type": "code",
   "execution_count": null,
   "id": "fee4324d",
   "metadata": {},
   "outputs": [],
   "source": [
    "# Topic: Decorators\n",
    "def decorator(fn):\n",
    "    def wrapper():\n",
    "        print('Before')\n",
    "        fn()\n",
    "        print('After')\n",
    "    return wrapper\n",
    "@decorator\n",
    "def say(): print('Hi')\n",
    "say()"
   ]
  },
  {
   "cell_type": "code",
   "execution_count": null,
   "id": "e871cfd8",
   "metadata": {},
   "outputs": [],
   "source": [
    "# Topic: Recursion\n",
    "def fib(n):\n",
    "    if n <= 1: return n\n",
    "    return fib(n-1) + fib(n-2)\n",
    "print(fib(5))"
   ]
  },
  {
   "cell_type": "code",
   "execution_count": null,
   "id": "01d6cf4d",
   "metadata": {},
   "outputs": [],
   "source": [
    "# Topic: Classes & Objects\n",
    "class Dog:\n",
    "    def bark(self):\n",
    "        print('Woof!')\n",
    "d = Dog()\n",
    "d.bark()"
   ]
  },
  {
   "cell_type": "code",
   "execution_count": null,
   "id": "fe272635",
   "metadata": {},
   "outputs": [],
   "source": [
    "# Topic: Classes & Objects\n",
    "class Dog:\n",
    "    def bark(self):\n",
    "        print('Woof!')\n",
    "d = Dog()\n",
    "d.bark()"
   ]
  },
  {
   "cell_type": "code",
   "execution_count": null,
   "id": "3814bf77",
   "metadata": {},
   "outputs": [],
   "source": [
    "# Topic: Basics\n",
    "a = 5\n",
    "b = 3\n",
    "print(a * b)"
   ]
  },
  {
   "cell_type": "code",
   "execution_count": null,
   "id": "37c83205",
   "metadata": {},
   "outputs": [],
   "source": [
    "# Topic: Basics\n",
    "a = 5\n",
    "b = 3\n",
    "print(a * b)"
   ]
  },
  {
   "cell_type": "code",
   "execution_count": null,
   "id": "713e317a",
   "metadata": {},
   "outputs": [],
   "source": [
    "# Topic: File I/O\n",
    "with open('sample.txt') as f:\n",
    "    print(f.read())"
   ]
  },
  {
   "cell_type": "code",
   "execution_count": null,
   "id": "c87affc2",
   "metadata": {},
   "outputs": [],
   "source": [
    "# Topic: Exceptions\n",
    "try:\n",
    "    print(10/0)\n",
    "except ZeroDivisionError:\n",
    "    print('Cannot divide by zero')"
   ]
  },
  {
   "cell_type": "code",
   "execution_count": null,
   "id": "85d400ef",
   "metadata": {},
   "outputs": [],
   "source": [
    "# Topic: File I/O\n",
    "with open('sample.txt') as f:\n",
    "    print(f.read())"
   ]
  },
  {
   "cell_type": "code",
   "execution_count": null,
   "id": "53cfa139",
   "metadata": {},
   "outputs": [],
   "source": [
    "# Topic: Classes & Objects\n",
    "class Dog:\n",
    "    def bark(self):\n",
    "        print('Woof!')\n",
    "d = Dog()\n",
    "d.bark()"
   ]
  },
  {
   "cell_type": "code",
   "execution_count": null,
   "id": "bb935db7",
   "metadata": {},
   "outputs": [],
   "source": [
    "# Topic: Loops\n",
    "for i in range(10): print(i*i)"
   ]
  },
  {
   "cell_type": "code",
   "execution_count": null,
   "id": "8fc904fa",
   "metadata": {},
   "outputs": [],
   "source": [
    "# Topic: Loops\n",
    "for i in range(10): print(i*i)"
   ]
  },
  {
   "cell_type": "code",
   "execution_count": null,
   "id": "c23b195a",
   "metadata": {},
   "outputs": [],
   "source": [
    "# Topic: Mini Projects\n",
    "# Simple calculator\n",
    "def calc(a,b,op):\n",
    " if op=='+': return a+b\n",
    " elif op=='-': return a-b\n",
    "print(calc(10,5,'+'))"
   ]
  },
  {
   "cell_type": "code",
   "execution_count": null,
   "id": "cdcd1f9e",
   "metadata": {},
   "outputs": [],
   "source": [
    "# Topic: Loops\n",
    "i = 0\n",
    "while i < 5:\n",
    "    print(i)\n",
    "    i += 1"
   ]
  },
  {
   "cell_type": "code",
   "execution_count": null,
   "id": "ea303f0f",
   "metadata": {},
   "outputs": [],
   "source": [
    "# Topic: File I/O\n",
    "with open('sample.txt', 'w') as f:\n",
    "    f.write('Hello World')"
   ]
  },
  {
   "cell_type": "code",
   "execution_count": null,
   "id": "cf6e647d",
   "metadata": {},
   "outputs": [],
   "source": [
    "# Topic: Classes & Objects\n",
    "class Dog:\n",
    "    def bark(self):\n",
    "        print('Woof!')\n",
    "d = Dog()\n",
    "d.bark()"
   ]
  },
  {
   "cell_type": "code",
   "execution_count": null,
   "id": "1f1b2621",
   "metadata": {},
   "outputs": [],
   "source": [
    "# Topic: Dictionaries & Sets\n",
    "s = {1,2,3}\n",
    "s.add(4)\n",
    "print(s)"
   ]
  },
  {
   "cell_type": "code",
   "execution_count": null,
   "id": "17e1af7e",
   "metadata": {},
   "outputs": [],
   "source": [
    "# Topic: Exceptions\n",
    "try:\n",
    "    print(10/0)\n",
    "except ZeroDivisionError:\n",
    "    print('Cannot divide by zero')"
   ]
  },
  {
   "cell_type": "code",
   "execution_count": null,
   "id": "dc782959",
   "metadata": {},
   "outputs": [],
   "source": [
    "# Topic: Loops\n",
    "i = 0\n",
    "while i < 5:\n",
    "    print(i)\n",
    "    i += 1"
   ]
  },
  {
   "cell_type": "code",
   "execution_count": null,
   "id": "7f2257e0",
   "metadata": {},
   "outputs": [],
   "source": [
    "# Topic: Matplotlib\n",
    "import matplotlib.pyplot as plt\n",
    "plt.plot([1,2],[3,4])\n",
    "plt.show()"
   ]
  },
  {
   "cell_type": "code",
   "execution_count": null,
   "id": "074ef22f",
   "metadata": {},
   "outputs": [],
   "source": [
    "# Topic: Web Scraping\n",
    "import requests\n",
    "from bs4 import BeautifulSoup\n",
    "r = requests.get('https://example.com')\n",
    "soup = BeautifulSoup(r.text, 'html.parser')\n",
    "print(soup.title.string)"
   ]
  },
  {
   "cell_type": "code",
   "execution_count": null,
   "id": "20856c64",
   "metadata": {},
   "outputs": [],
   "source": [
    "# Topic: Functions\n",
    "def factorial(n):\n",
    "    return 1 if n==0 else n * factorial(n-1)\n",
    "print(factorial(5))"
   ]
  },
  {
   "cell_type": "code",
   "execution_count": null,
   "id": "fb79d2c0",
   "metadata": {},
   "outputs": [],
   "source": [
    "# Topic: Dictionaries & Sets\n",
    "s = {1,2,3}\n",
    "s.add(4)\n",
    "print(s)"
   ]
  },
  {
   "cell_type": "code",
   "execution_count": null,
   "id": "bbefbbd1",
   "metadata": {},
   "outputs": [],
   "source": [
    "# Topic: Lists & Tuples\n",
    "t = (1,2,3)\n",
    "print(t[1])"
   ]
  },
  {
   "cell_type": "code",
   "execution_count": null,
   "id": "9af13fa2",
   "metadata": {},
   "outputs": [],
   "source": [
    "# Topic: NumPy\n",
    "import numpy as np\n",
    "a = np.array([1,2,3])\n",
    "print(a * 2)"
   ]
  },
  {
   "cell_type": "code",
   "execution_count": null,
   "id": "b6885b30",
   "metadata": {},
   "outputs": [],
   "source": [
    "# Topic: NumPy\n",
    "import numpy as np\n",
    "print(np.arange(0, 10, 2))"
   ]
  },
  {
   "cell_type": "code",
   "execution_count": null,
   "id": "8a4d4093",
   "metadata": {},
   "outputs": [],
   "source": [
    "# Topic: Dictionaries & Sets\n",
    "d = {'a':1, 'b':2}\n",
    "print(d['a'])"
   ]
  },
  {
   "cell_type": "code",
   "execution_count": null,
   "id": "a9487eaf",
   "metadata": {},
   "outputs": [],
   "source": [
    "# Topic: Recursion\n",
    "def fib(n):\n",
    "    if n <= 1: return n\n",
    "    return fib(n-1) + fib(n-2)\n",
    "print(fib(5))"
   ]
  },
  {
   "cell_type": "code",
   "execution_count": null,
   "id": "d45dc9a1",
   "metadata": {},
   "outputs": [],
   "source": [
    "# Topic: Decorators\n",
    "def decorator(fn):\n",
    "    def wrapper():\n",
    "        print('Before')\n",
    "        fn()\n",
    "        print('After')\n",
    "    return wrapper\n",
    "@decorator\n",
    "def say(): print('Hi')\n",
    "say()"
   ]
  },
  {
   "cell_type": "code",
   "execution_count": null,
   "id": "29330005",
   "metadata": {},
   "outputs": [],
   "source": [
    "# Topic: Decorators\n",
    "def decorator(fn):\n",
    "    def wrapper():\n",
    "        print('Before')\n",
    "        fn()\n",
    "        print('After')\n",
    "    return wrapper\n",
    "@decorator\n",
    "def say(): print('Hi')\n",
    "say()"
   ]
  },
  {
   "cell_type": "code",
   "execution_count": null,
   "id": "df4bbb93",
   "metadata": {},
   "outputs": [],
   "source": [
    "# Topic: Pandas\n",
    "import pandas as pd\n",
    "df = pd.DataFrame({'A':[1,2],'B':[3,4]})\n",
    "print(df)"
   ]
  },
  {
   "cell_type": "code",
   "execution_count": null,
   "id": "5c0af0c7",
   "metadata": {},
   "outputs": [],
   "source": [
    "# Topic: Exceptions\n",
    "try:\n",
    "    print(10/0)\n",
    "except ZeroDivisionError:\n",
    "    print('Cannot divide by zero')"
   ]
  },
  {
   "cell_type": "code",
   "execution_count": null,
   "id": "2d94dff4",
   "metadata": {},
   "outputs": [],
   "source": [
    "# Topic: Mini Projects\n",
    "# Simple calculator\n",
    "def calc(a,b,op):\n",
    " if op=='+': return a+b\n",
    " elif op=='-': return a-b\n",
    "print(calc(10,5,'+'))"
   ]
  },
  {
   "cell_type": "code",
   "execution_count": null,
   "id": "4bd09c8c",
   "metadata": {},
   "outputs": [],
   "source": [
    "# Topic: Matplotlib\n",
    "import matplotlib.pyplot as plt\n",
    "plt.plot([1,2],[3,4])\n",
    "plt.show()"
   ]
  },
  {
   "cell_type": "code",
   "execution_count": null,
   "id": "57b30ad7",
   "metadata": {},
   "outputs": [],
   "source": [
    "# Topic: Mini Projects\n",
    "# Palindrome checker\n",
    "def is_palindrome(s):\n",
    " return s == s[::-1]\n",
    "print(is_palindrome('madam'))"
   ]
  },
  {
   "cell_type": "code",
   "execution_count": null,
   "id": "871f05ab",
   "metadata": {},
   "outputs": [],
   "source": [
    "# Topic: Matplotlib\n",
    "import matplotlib.pyplot as plt\n",
    "plt.plot([1,2],[3,4])\n",
    "plt.show()"
   ]
  },
  {
   "cell_type": "code",
   "execution_count": null,
   "id": "8eaf79fb",
   "metadata": {},
   "outputs": [],
   "source": [
    "# Topic: Matplotlib\n",
    "import matplotlib.pyplot as plt\n",
    "plt.plot([1,2],[3,4])\n",
    "plt.show()"
   ]
  },
  {
   "cell_type": "code",
   "execution_count": null,
   "id": "e786df98",
   "metadata": {},
   "outputs": [],
   "source": [
    "# Topic: Functions\n",
    "def factorial(n):\n",
    "    return 1 if n==0 else n * factorial(n-1)\n",
    "print(factorial(5))"
   ]
  },
  {
   "cell_type": "code",
   "execution_count": null,
   "id": "c0f0446f",
   "metadata": {},
   "outputs": [],
   "source": [
    "# Topic: Classes & Objects\n",
    "class Dog:\n",
    "    def bark(self):\n",
    "        print('Woof!')\n",
    "d = Dog()\n",
    "d.bark()"
   ]
  },
  {
   "cell_type": "code",
   "execution_count": null,
   "id": "4def003b",
   "metadata": {},
   "outputs": [],
   "source": [
    "# Topic: Classes & Objects\n",
    "class Dog:\n",
    "    def bark(self):\n",
    "        print('Woof!')\n",
    "d = Dog()\n",
    "d.bark()"
   ]
  },
  {
   "cell_type": "code",
   "execution_count": null,
   "id": "80e2d275",
   "metadata": {},
   "outputs": [],
   "source": [
    "# Topic: Mini Projects\n",
    "# Palindrome checker\n",
    "def is_palindrome(s):\n",
    " return s == s[::-1]\n",
    "print(is_palindrome('madam'))"
   ]
  },
  {
   "cell_type": "code",
   "execution_count": null,
   "id": "aa2608b9",
   "metadata": {},
   "outputs": [],
   "source": [
    "# Topic: Classes & Objects\n",
    "class Dog:\n",
    "    def bark(self):\n",
    "        print('Woof!')\n",
    "d = Dog()\n",
    "d.bark()"
   ]
  },
  {
   "cell_type": "code",
   "execution_count": null,
   "id": "4e007ab3",
   "metadata": {},
   "outputs": [],
   "source": [
    "# Topic: Decorators\n",
    "def decorator(fn):\n",
    "    def wrapper():\n",
    "        print('Before')\n",
    "        fn()\n",
    "        print('After')\n",
    "    return wrapper\n",
    "@decorator\n",
    "def say(): print('Hi')\n",
    "say()"
   ]
  },
  {
   "cell_type": "code",
   "execution_count": null,
   "id": "45fce4a0",
   "metadata": {},
   "outputs": [],
   "source": [
    "# Topic: Functions\n",
    "def factorial(n):\n",
    "    return 1 if n==0 else n * factorial(n-1)\n",
    "print(factorial(5))"
   ]
  },
  {
   "cell_type": "code",
   "execution_count": null,
   "id": "f10bccae",
   "metadata": {},
   "outputs": [],
   "source": [
    "# Topic: Decorators\n",
    "def decorator(fn):\n",
    "    def wrapper():\n",
    "        print('Before')\n",
    "        fn()\n",
    "        print('After')\n",
    "    return wrapper\n",
    "@decorator\n",
    "def say(): print('Hi')\n",
    "say()"
   ]
  },
  {
   "cell_type": "code",
   "execution_count": null,
   "id": "e0a5d4be",
   "metadata": {},
   "outputs": [],
   "source": [
    "# Topic: Web Scraping\n",
    "import requests\n",
    "from bs4 import BeautifulSoup\n",
    "r = requests.get('https://example.com')\n",
    "soup = BeautifulSoup(r.text, 'html.parser')\n",
    "print(soup.title.string)"
   ]
  },
  {
   "cell_type": "code",
   "execution_count": null,
   "id": "29762b88",
   "metadata": {},
   "outputs": [],
   "source": [
    "# Topic: File I/O\n",
    "with open('sample.txt', 'w') as f:\n",
    "    f.write('Hello World')"
   ]
  },
  {
   "cell_type": "code",
   "execution_count": null,
   "id": "92a256a7",
   "metadata": {},
   "outputs": [],
   "source": [
    "# Topic: Loops\n",
    "i = 0\n",
    "while i < 5:\n",
    "    print(i)\n",
    "    i += 1"
   ]
  },
  {
   "cell_type": "code",
   "execution_count": null,
   "id": "300fdf7d",
   "metadata": {},
   "outputs": [],
   "source": [
    "# Topic: File I/O\n",
    "with open('sample.txt') as f:\n",
    "    print(f.read())"
   ]
  },
  {
   "cell_type": "code",
   "execution_count": null,
   "id": "b806f6a0",
   "metadata": {},
   "outputs": [],
   "source": [
    "# Topic: Classes & Objects\n",
    "class Dog:\n",
    "    def bark(self):\n",
    "        print('Woof!')\n",
    "d = Dog()\n",
    "d.bark()"
   ]
  },
  {
   "cell_type": "code",
   "execution_count": null,
   "id": "59c6808a",
   "metadata": {},
   "outputs": [],
   "source": [
    "# Topic: Classes & Objects\n",
    "class Dog:\n",
    "    def bark(self):\n",
    "        print('Woof!')\n",
    "d = Dog()\n",
    "d.bark()"
   ]
  },
  {
   "cell_type": "code",
   "execution_count": null,
   "id": "000edcd7",
   "metadata": {},
   "outputs": [],
   "source": [
    "# Topic: Decorators\n",
    "def decorator(fn):\n",
    "    def wrapper():\n",
    "        print('Before')\n",
    "        fn()\n",
    "        print('After')\n",
    "    return wrapper\n",
    "@decorator\n",
    "def say(): print('Hi')\n",
    "say()"
   ]
  },
  {
   "cell_type": "code",
   "execution_count": null,
   "id": "416692d2",
   "metadata": {},
   "outputs": [],
   "source": [
    "# Topic: Loops\n",
    "for i in range(10): print(i*i)"
   ]
  },
  {
   "cell_type": "code",
   "execution_count": null,
   "id": "47ac4310",
   "metadata": {},
   "outputs": [],
   "source": [
    "# Topic: Functions\n",
    "def factorial(n):\n",
    "    return 1 if n==0 else n * factorial(n-1)\n",
    "print(factorial(5))"
   ]
  },
  {
   "cell_type": "code",
   "execution_count": null,
   "id": "e75c0d6b",
   "metadata": {},
   "outputs": [],
   "source": [
    "# Topic: Dictionaries & Sets\n",
    "d = {'a':1, 'b':2}\n",
    "print(d['a'])"
   ]
  },
  {
   "cell_type": "code",
   "execution_count": null,
   "id": "3311754b",
   "metadata": {},
   "outputs": [],
   "source": [
    "# Topic: Basics\n",
    "name = 'Fahd'\n",
    "print(f'Welcome, {name}')"
   ]
  },
  {
   "cell_type": "code",
   "execution_count": null,
   "id": "a0d629f5",
   "metadata": {},
   "outputs": [],
   "source": [
    "# Topic: Mini Projects\n",
    "# Simple calculator\n",
    "def calc(a,b,op):\n",
    " if op=='+': return a+b\n",
    " elif op=='-': return a-b\n",
    "print(calc(10,5,'+'))"
   ]
  },
  {
   "cell_type": "code",
   "execution_count": null,
   "id": "a0d80747",
   "metadata": {},
   "outputs": [],
   "source": [
    "# Topic: NumPy\n",
    "import numpy as np\n",
    "a = np.array([1,2,3])\n",
    "print(a * 2)"
   ]
  },
  {
   "cell_type": "code",
   "execution_count": null,
   "id": "9eb3315c",
   "metadata": {},
   "outputs": [],
   "source": [
    "# Topic: Basics\n",
    "x = 7\n",
    "print('Odd' if x % 2 else 'Even')"
   ]
  },
  {
   "cell_type": "code",
   "execution_count": null,
   "id": "a4c7a673",
   "metadata": {},
   "outputs": [],
   "source": [
    "# Topic: Recursion\n",
    "def fib(n):\n",
    "    if n <= 1: return n\n",
    "    return fib(n-1) + fib(n-2)\n",
    "print(fib(5))"
   ]
  },
  {
   "cell_type": "code",
   "execution_count": null,
   "id": "234b627a",
   "metadata": {},
   "outputs": [],
   "source": [
    "# Topic: Functions\n",
    "def add(a, b): return a + b\n",
    "print(add(3, 4))"
   ]
  },
  {
   "cell_type": "code",
   "execution_count": null,
   "id": "f9b37346",
   "metadata": {},
   "outputs": [],
   "source": [
    "# Topic: Recursion\n",
    "def fib(n):\n",
    "    if n <= 1: return n\n",
    "    return fib(n-1) + fib(n-2)\n",
    "print(fib(5))"
   ]
  },
  {
   "cell_type": "code",
   "execution_count": null,
   "id": "03704763",
   "metadata": {},
   "outputs": [],
   "source": [
    "# Topic: Recursion\n",
    "def fib(n):\n",
    "    if n <= 1: return n\n",
    "    return fib(n-1) + fib(n-2)\n",
    "print(fib(5))"
   ]
  },
  {
   "cell_type": "code",
   "execution_count": null,
   "id": "3b9e6970",
   "metadata": {},
   "outputs": [],
   "source": [
    "# Topic: Mini Projects\n",
    "# Palindrome checker\n",
    "def is_palindrome(s):\n",
    " return s == s[::-1]\n",
    "print(is_palindrome('madam'))"
   ]
  },
  {
   "cell_type": "code",
   "execution_count": null,
   "id": "161821cf",
   "metadata": {},
   "outputs": [],
   "source": [
    "# Topic: Matplotlib\n",
    "import matplotlib.pyplot as plt\n",
    "plt.plot([1,2],[3,4])\n",
    "plt.show()"
   ]
  },
  {
   "cell_type": "code",
   "execution_count": null,
   "id": "561e5141",
   "metadata": {},
   "outputs": [],
   "source": [
    "# Topic: Decorators\n",
    "def decorator(fn):\n",
    "    def wrapper():\n",
    "        print('Before')\n",
    "        fn()\n",
    "        print('After')\n",
    "    return wrapper\n",
    "@decorator\n",
    "def say(): print('Hi')\n",
    "say()"
   ]
  },
  {
   "cell_type": "code",
   "execution_count": null,
   "id": "2ad299a2",
   "metadata": {},
   "outputs": [],
   "source": [
    "# Topic: Matplotlib\n",
    "import matplotlib.pyplot as plt\n",
    "plt.plot([1,2],[3,4])\n",
    "plt.show()"
   ]
  },
  {
   "cell_type": "code",
   "execution_count": null,
   "id": "811b8534",
   "metadata": {},
   "outputs": [],
   "source": [
    "# Topic: Functions\n",
    "def factorial(n):\n",
    "    return 1 if n==0 else n * factorial(n-1)\n",
    "print(factorial(5))"
   ]
  },
  {
   "cell_type": "code",
   "execution_count": null,
   "id": "2bf538c7",
   "metadata": {},
   "outputs": [],
   "source": [
    "# Topic: Mini Projects\n",
    "# Simple calculator\n",
    "def calc(a,b,op):\n",
    " if op=='+': return a+b\n",
    " elif op=='-': return a-b\n",
    "print(calc(10,5,'+'))"
   ]
  },
  {
   "cell_type": "code",
   "execution_count": null,
   "id": "acd46738",
   "metadata": {},
   "outputs": [],
   "source": [
    "# Topic: Functions\n",
    "def add(a, b): return a + b\n",
    "print(add(3, 4))"
   ]
  },
  {
   "cell_type": "code",
   "execution_count": null,
   "id": "2c23674d",
   "metadata": {},
   "outputs": [],
   "source": [
    "# Topic: Mini Projects\n",
    "# Simple calculator\n",
    "def calc(a,b,op):\n",
    " if op=='+': return a+b\n",
    " elif op=='-': return a-b\n",
    "print(calc(10,5,'+'))"
   ]
  },
  {
   "cell_type": "code",
   "execution_count": null,
   "id": "48319c68",
   "metadata": {},
   "outputs": [],
   "source": [
    "# Topic: NumPy\n",
    "import numpy as np\n",
    "a = np.array([1,2,3])\n",
    "print(a * 2)"
   ]
  },
  {
   "cell_type": "code",
   "execution_count": null,
   "id": "924f9066",
   "metadata": {},
   "outputs": [],
   "source": [
    "# Topic: Exceptions\n",
    "try:\n",
    "    print(10/0)\n",
    "except ZeroDivisionError:\n",
    "    print('Cannot divide by zero')"
   ]
  },
  {
   "cell_type": "code",
   "execution_count": null,
   "id": "1d088b90",
   "metadata": {},
   "outputs": [],
   "source": [
    "# Topic: Loops\n",
    "for i in range(10): print(i*i)"
   ]
  },
  {
   "cell_type": "code",
   "execution_count": null,
   "id": "ed72f01a",
   "metadata": {},
   "outputs": [],
   "source": [
    "# Topic: Dictionaries & Sets\n",
    "d = {'a':1, 'b':2}\n",
    "print(d['a'])"
   ]
  },
  {
   "cell_type": "code",
   "execution_count": null,
   "id": "882e4e8e",
   "metadata": {},
   "outputs": [],
   "source": [
    "# Topic: Classes & Objects\n",
    "class Dog:\n",
    "    def bark(self):\n",
    "        print('Woof!')\n",
    "d = Dog()\n",
    "d.bark()"
   ]
  },
  {
   "cell_type": "code",
   "execution_count": null,
   "id": "dd8c7043",
   "metadata": {},
   "outputs": [],
   "source": [
    "# Topic: Web Scraping\n",
    "import requests\n",
    "from bs4 import BeautifulSoup\n",
    "r = requests.get('https://example.com')\n",
    "soup = BeautifulSoup(r.text, 'html.parser')\n",
    "print(soup.title.string)"
   ]
  },
  {
   "cell_type": "code",
   "execution_count": null,
   "id": "5a1bf890",
   "metadata": {},
   "outputs": [],
   "source": [
    "# Topic: Decorators\n",
    "def decorator(fn):\n",
    "    def wrapper():\n",
    "        print('Before')\n",
    "        fn()\n",
    "        print('After')\n",
    "    return wrapper\n",
    "@decorator\n",
    "def say(): print('Hi')\n",
    "say()"
   ]
  },
  {
   "cell_type": "code",
   "execution_count": null,
   "id": "ec79b18a",
   "metadata": {},
   "outputs": [],
   "source": [
    "# Topic: Matplotlib\n",
    "import matplotlib.pyplot as plt\n",
    "plt.bar(['A','B'], [10,20])\n",
    "plt.show()"
   ]
  },
  {
   "cell_type": "code",
   "execution_count": null,
   "id": "c811d0ee",
   "metadata": {},
   "outputs": [],
   "source": [
    "# Topic: Mini Projects\n",
    "# Simple calculator\n",
    "def calc(a,b,op):\n",
    " if op=='+': return a+b\n",
    " elif op=='-': return a-b\n",
    "print(calc(10,5,'+'))"
   ]
  },
  {
   "cell_type": "code",
   "execution_count": null,
   "id": "2f4b890f",
   "metadata": {},
   "outputs": [],
   "source": [
    "# Topic: NumPy\n",
    "import numpy as np\n",
    "a = np.array([1,2,3])\n",
    "print(a * 2)"
   ]
  },
  {
   "cell_type": "code",
   "execution_count": null,
   "id": "012fb325",
   "metadata": {},
   "outputs": [],
   "source": [
    "# Topic: Matplotlib\n",
    "import matplotlib.pyplot as plt\n",
    "plt.plot([1,2],[3,4])\n",
    "plt.show()"
   ]
  },
  {
   "cell_type": "code",
   "execution_count": null,
   "id": "69069f9e",
   "metadata": {},
   "outputs": [],
   "source": [
    "# Topic: Functions\n",
    "def add(a, b): return a + b\n",
    "print(add(3, 4))"
   ]
  },
  {
   "cell_type": "code",
   "execution_count": null,
   "id": "f0f9bc9b",
   "metadata": {},
   "outputs": [],
   "source": [
    "# Topic: Matplotlib\n",
    "import matplotlib.pyplot as plt\n",
    "plt.bar(['A','B'], [10,20])\n",
    "plt.show()"
   ]
  },
  {
   "cell_type": "code",
   "execution_count": null,
   "id": "b252e860",
   "metadata": {},
   "outputs": [],
   "source": [
    "# Topic: Web Scraping\n",
    "import requests\n",
    "from bs4 import BeautifulSoup\n",
    "r = requests.get('https://example.com')\n",
    "soup = BeautifulSoup(r.text, 'html.parser')\n",
    "print(soup.title.string)"
   ]
  },
  {
   "cell_type": "code",
   "execution_count": null,
   "id": "4b7f584f",
   "metadata": {},
   "outputs": [],
   "source": [
    "# Topic: Recursion\n",
    "def fib(n):\n",
    "    if n <= 1: return n\n",
    "    return fib(n-1) + fib(n-2)\n",
    "print(fib(5))"
   ]
  },
  {
   "cell_type": "code",
   "execution_count": null,
   "id": "a3d9b251",
   "metadata": {},
   "outputs": [],
   "source": [
    "# Topic: Exceptions\n",
    "try:\n",
    "    print(10/0)\n",
    "except ZeroDivisionError:\n",
    "    print('Cannot divide by zero')"
   ]
  },
  {
   "cell_type": "code",
   "execution_count": null,
   "id": "f61b69bd",
   "metadata": {},
   "outputs": [],
   "source": [
    "# Topic: Loops\n",
    "i = 0\n",
    "while i < 5:\n",
    "    print(i)\n",
    "    i += 1"
   ]
  },
  {
   "cell_type": "code",
   "execution_count": null,
   "id": "9ab2ab2e",
   "metadata": {},
   "outputs": [],
   "source": [
    "# Topic: Matplotlib\n",
    "import matplotlib.pyplot as plt\n",
    "plt.plot([1,2],[3,4])\n",
    "plt.show()"
   ]
  },
  {
   "cell_type": "code",
   "execution_count": null,
   "id": "45073c3d",
   "metadata": {},
   "outputs": [],
   "source": [
    "# Topic: Pandas\n",
    "import pandas as pd\n",
    "df = pd.DataFrame({'A':[1,2],'B':[3,4]})\n",
    "print(df)"
   ]
  },
  {
   "cell_type": "code",
   "execution_count": null,
   "id": "56158338",
   "metadata": {},
   "outputs": [],
   "source": [
    "# Topic: Pandas\n",
    "import pandas as pd\n",
    "df = pd.read_csv('data.csv')\n",
    "print(df.head())"
   ]
  },
  {
   "cell_type": "code",
   "execution_count": null,
   "id": "9ef4476d",
   "metadata": {},
   "outputs": [],
   "source": [
    "# Topic: Lists & Tuples\n",
    "t = (1,2,3)\n",
    "print(t[1])"
   ]
  },
  {
   "cell_type": "code",
   "execution_count": null,
   "id": "5510838f",
   "metadata": {},
   "outputs": [],
   "source": [
    "# Topic: Mini Projects\n",
    "# Palindrome checker\n",
    "def is_palindrome(s):\n",
    " return s == s[::-1]\n",
    "print(is_palindrome('madam'))"
   ]
  },
  {
   "cell_type": "code",
   "execution_count": null,
   "id": "841049d1",
   "metadata": {},
   "outputs": [],
   "source": [
    "# Topic: Decorators\n",
    "def decorator(fn):\n",
    "    def wrapper():\n",
    "        print('Before')\n",
    "        fn()\n",
    "        print('After')\n",
    "    return wrapper\n",
    "@decorator\n",
    "def say(): print('Hi')\n",
    "say()"
   ]
  },
  {
   "cell_type": "code",
   "execution_count": null,
   "id": "99caf80d",
   "metadata": {},
   "outputs": [],
   "source": [
    "# Topic: Basics\n",
    "x = 7\n",
    "print('Odd' if x % 2 else 'Even')"
   ]
  },
  {
   "cell_type": "code",
   "execution_count": null,
   "id": "4f3f029c",
   "metadata": {},
   "outputs": [],
   "source": [
    "# Topic: File I/O\n",
    "with open('sample.txt') as f:\n",
    "    print(f.read())"
   ]
  },
  {
   "cell_type": "code",
   "execution_count": null,
   "id": "b5375fd4",
   "metadata": {},
   "outputs": [],
   "source": [
    "# Topic: Dictionaries & Sets\n",
    "s = {1,2,3}\n",
    "s.add(4)\n",
    "print(s)"
   ]
  },
  {
   "cell_type": "code",
   "execution_count": null,
   "id": "1aa8fa7d",
   "metadata": {},
   "outputs": [],
   "source": [
    "# Topic: Loops\n",
    "i = 0\n",
    "while i < 5:\n",
    "    print(i)\n",
    "    i += 1"
   ]
  },
  {
   "cell_type": "code",
   "execution_count": null,
   "id": "8898927f",
   "metadata": {},
   "outputs": [],
   "source": [
    "# Topic: Pandas\n",
    "import pandas as pd\n",
    "df = pd.DataFrame({'A':[1,2],'B':[3,4]})\n",
    "print(df)"
   ]
  },
  {
   "cell_type": "code",
   "execution_count": null,
   "id": "4fe203c8",
   "metadata": {},
   "outputs": [],
   "source": [
    "# Topic: Basics\n",
    "a = 5\n",
    "b = 3\n",
    "print(a * b)"
   ]
  },
  {
   "cell_type": "code",
   "execution_count": null,
   "id": "bb3c4716",
   "metadata": {},
   "outputs": [],
   "source": [
    "# Topic: Decorators\n",
    "def decorator(fn):\n",
    "    def wrapper():\n",
    "        print('Before')\n",
    "        fn()\n",
    "        print('After')\n",
    "    return wrapper\n",
    "@decorator\n",
    "def say(): print('Hi')\n",
    "say()"
   ]
  },
  {
   "cell_type": "code",
   "execution_count": null,
   "id": "ceee92d7",
   "metadata": {},
   "outputs": [],
   "source": [
    "# Topic: Loops\n",
    "for i in range(10): print(i*i)"
   ]
  },
  {
   "cell_type": "code",
   "execution_count": null,
   "id": "6f76d163",
   "metadata": {},
   "outputs": [],
   "source": [
    "# Topic: Classes & Objects\n",
    "class Dog:\n",
    "    def bark(self):\n",
    "        print('Woof!')\n",
    "d = Dog()\n",
    "d.bark()"
   ]
  },
  {
   "cell_type": "code",
   "execution_count": null,
   "id": "580440b6",
   "metadata": {},
   "outputs": [],
   "source": [
    "# Topic: Basics\n",
    "a = 5\n",
    "b = 3\n",
    "print(a * b)"
   ]
  },
  {
   "cell_type": "code",
   "execution_count": null,
   "id": "dbd2fc13",
   "metadata": {},
   "outputs": [],
   "source": [
    "# Topic: NumPy\n",
    "import numpy as np\n",
    "print(np.arange(0, 10, 2))"
   ]
  },
  {
   "cell_type": "code",
   "execution_count": null,
   "id": "a5e98b21",
   "metadata": {},
   "outputs": [],
   "source": [
    "# Topic: Dictionaries & Sets\n",
    "s = {1,2,3}\n",
    "s.add(4)\n",
    "print(s)"
   ]
  },
  {
   "cell_type": "code",
   "execution_count": null,
   "id": "671cc6bd",
   "metadata": {},
   "outputs": [],
   "source": [
    "# Topic: Matplotlib\n",
    "import matplotlib.pyplot as plt\n",
    "plt.bar(['A','B'], [10,20])\n",
    "plt.show()"
   ]
  },
  {
   "cell_type": "code",
   "execution_count": null,
   "id": "40bd8c57",
   "metadata": {},
   "outputs": [],
   "source": [
    "# Topic: Functions\n",
    "def factorial(n):\n",
    "    return 1 if n==0 else n * factorial(n-1)\n",
    "print(factorial(5))"
   ]
  },
  {
   "cell_type": "code",
   "execution_count": null,
   "id": "51083509",
   "metadata": {},
   "outputs": [],
   "source": [
    "# Topic: Exceptions\n",
    "try:\n",
    "    print(10/0)\n",
    "except ZeroDivisionError:\n",
    "    print('Cannot divide by zero')"
   ]
  },
  {
   "cell_type": "code",
   "execution_count": null,
   "id": "196c4d5b",
   "metadata": {},
   "outputs": [],
   "source": [
    "# Topic: Mini Projects\n",
    "# Palindrome checker\n",
    "def is_palindrome(s):\n",
    " return s == s[::-1]\n",
    "print(is_palindrome('madam'))"
   ]
  },
  {
   "cell_type": "code",
   "execution_count": null,
   "id": "68f3d6b5",
   "metadata": {},
   "outputs": [],
   "source": [
    "# Topic: Classes & Objects\n",
    "class Dog:\n",
    "    def bark(self):\n",
    "        print('Woof!')\n",
    "d = Dog()\n",
    "d.bark()"
   ]
  },
  {
   "cell_type": "code",
   "execution_count": null,
   "id": "42eaa219",
   "metadata": {},
   "outputs": [],
   "source": [
    "# Topic: Functions\n",
    "def factorial(n):\n",
    "    return 1 if n==0 else n * factorial(n-1)\n",
    "print(factorial(5))"
   ]
  },
  {
   "cell_type": "code",
   "execution_count": null,
   "id": "439e7ee4",
   "metadata": {},
   "outputs": [],
   "source": [
    "# Topic: Matplotlib\n",
    "import matplotlib.pyplot as plt\n",
    "plt.plot([1,2],[3,4])\n",
    "plt.show()"
   ]
  },
  {
   "cell_type": "code",
   "execution_count": null,
   "id": "aea3cd34",
   "metadata": {},
   "outputs": [],
   "source": [
    "# Topic: Dictionaries & Sets\n",
    "s = {1,2,3}\n",
    "s.add(4)\n",
    "print(s)"
   ]
  },
  {
   "cell_type": "code",
   "execution_count": null,
   "id": "084b1bcd",
   "metadata": {},
   "outputs": [],
   "source": [
    "# Topic: Functions\n",
    "def add(a, b): return a + b\n",
    "print(add(3, 4))"
   ]
  },
  {
   "cell_type": "code",
   "execution_count": null,
   "id": "bbe320f8",
   "metadata": {},
   "outputs": [],
   "source": [
    "# Topic: Functions\n",
    "def factorial(n):\n",
    "    return 1 if n==0 else n * factorial(n-1)\n",
    "print(factorial(5))"
   ]
  },
  {
   "cell_type": "code",
   "execution_count": null,
   "id": "cc367a3a",
   "metadata": {},
   "outputs": [],
   "source": [
    "# Topic: Basics\n",
    "x = 7\n",
    "print('Odd' if x % 2 else 'Even')"
   ]
  },
  {
   "cell_type": "code",
   "execution_count": null,
   "id": "afad0261",
   "metadata": {},
   "outputs": [],
   "source": [
    "# Topic: Decorators\n",
    "def decorator(fn):\n",
    "    def wrapper():\n",
    "        print('Before')\n",
    "        fn()\n",
    "        print('After')\n",
    "    return wrapper\n",
    "@decorator\n",
    "def say(): print('Hi')\n",
    "say()"
   ]
  },
  {
   "cell_type": "code",
   "execution_count": null,
   "id": "8bd25d08",
   "metadata": {},
   "outputs": [],
   "source": [
    "# Topic: Basics\n",
    "a = 5\n",
    "b = 3\n",
    "print(a * b)"
   ]
  },
  {
   "cell_type": "code",
   "execution_count": null,
   "id": "b5fcb0da",
   "metadata": {},
   "outputs": [],
   "source": [
    "# Topic: Lists & Tuples\n",
    "t = (1,2,3)\n",
    "print(t[1])"
   ]
  },
  {
   "cell_type": "code",
   "execution_count": null,
   "id": "1acf62aa",
   "metadata": {},
   "outputs": [],
   "source": [
    "# Topic: NumPy\n",
    "import numpy as np\n",
    "print(np.arange(0, 10, 2))"
   ]
  },
  {
   "cell_type": "code",
   "execution_count": null,
   "id": "605b5896",
   "metadata": {},
   "outputs": [],
   "source": [
    "# Topic: Dictionaries & Sets\n",
    "d = {'a':1, 'b':2}\n",
    "print(d['a'])"
   ]
  },
  {
   "cell_type": "code",
   "execution_count": null,
   "id": "84e40995",
   "metadata": {},
   "outputs": [],
   "source": [
    "# Topic: Functions\n",
    "def add(a, b): return a + b\n",
    "print(add(3, 4))"
   ]
  },
  {
   "cell_type": "code",
   "execution_count": null,
   "id": "00269050",
   "metadata": {},
   "outputs": [],
   "source": [
    "# Topic: Recursion\n",
    "def fib(n):\n",
    "    if n <= 1: return n\n",
    "    return fib(n-1) + fib(n-2)\n",
    "print(fib(5))"
   ]
  },
  {
   "cell_type": "code",
   "execution_count": null,
   "id": "4f17de2b",
   "metadata": {},
   "outputs": [],
   "source": [
    "# Topic: NumPy\n",
    "import numpy as np\n",
    "a = np.array([1,2,3])\n",
    "print(a * 2)"
   ]
  },
  {
   "cell_type": "code",
   "execution_count": null,
   "id": "80ce06ec",
   "metadata": {},
   "outputs": [],
   "source": [
    "# Topic: Classes & Objects\n",
    "class Dog:\n",
    "    def bark(self):\n",
    "        print('Woof!')\n",
    "d = Dog()\n",
    "d.bark()"
   ]
  },
  {
   "cell_type": "code",
   "execution_count": null,
   "id": "f745c016",
   "metadata": {},
   "outputs": [],
   "source": [
    "# Topic: Mini Projects\n",
    "# Simple calculator\n",
    "def calc(a,b,op):\n",
    " if op=='+': return a+b\n",
    " elif op=='-': return a-b\n",
    "print(calc(10,5,'+'))"
   ]
  },
  {
   "cell_type": "code",
   "execution_count": null,
   "id": "94f3e2b7",
   "metadata": {},
   "outputs": [],
   "source": [
    "# Topic: Mini Projects\n",
    "# Simple calculator\n",
    "def calc(a,b,op):\n",
    " if op=='+': return a+b\n",
    " elif op=='-': return a-b\n",
    "print(calc(10,5,'+'))"
   ]
  },
  {
   "cell_type": "code",
   "execution_count": null,
   "id": "992e09b0",
   "metadata": {},
   "outputs": [],
   "source": [
    "# Topic: Pandas\n",
    "import pandas as pd\n",
    "df = pd.read_csv('data.csv')\n",
    "print(df.head())"
   ]
  },
  {
   "cell_type": "code",
   "execution_count": null,
   "id": "de5e536b",
   "metadata": {},
   "outputs": [],
   "source": [
    "# Topic: Basics\n",
    "x = 7\n",
    "print('Odd' if x % 2 else 'Even')"
   ]
  },
  {
   "cell_type": "code",
   "execution_count": null,
   "id": "305c5168",
   "metadata": {},
   "outputs": [],
   "source": [
    "# Topic: Basics\n",
    "a = 5\n",
    "b = 3\n",
    "print(a * b)"
   ]
  },
  {
   "cell_type": "code",
   "execution_count": null,
   "id": "d7c6ed5d",
   "metadata": {},
   "outputs": [],
   "source": [
    "# Topic: Functions\n",
    "def factorial(n):\n",
    "    return 1 if n==0 else n * factorial(n-1)\n",
    "print(factorial(5))"
   ]
  },
  {
   "cell_type": "code",
   "execution_count": null,
   "id": "70dce583",
   "metadata": {},
   "outputs": [],
   "source": [
    "# Topic: Classes & Objects\n",
    "class Dog:\n",
    "    def bark(self):\n",
    "        print('Woof!')\n",
    "d = Dog()\n",
    "d.bark()"
   ]
  },
  {
   "cell_type": "code",
   "execution_count": null,
   "id": "e77fca01",
   "metadata": {},
   "outputs": [],
   "source": [
    "# Topic: Pandas\n",
    "import pandas as pd\n",
    "df = pd.DataFrame({'A':[1,2],'B':[3,4]})\n",
    "print(df)"
   ]
  },
  {
   "cell_type": "code",
   "execution_count": null,
   "id": "fe9749f0",
   "metadata": {},
   "outputs": [],
   "source": [
    "# Topic: File I/O\n",
    "with open('sample.txt', 'w') as f:\n",
    "    f.write('Hello World')"
   ]
  },
  {
   "cell_type": "code",
   "execution_count": null,
   "id": "4680824a",
   "metadata": {},
   "outputs": [],
   "source": [
    "# Topic: Mini Projects\n",
    "# Palindrome checker\n",
    "def is_palindrome(s):\n",
    " return s == s[::-1]\n",
    "print(is_palindrome('madam'))"
   ]
  },
  {
   "cell_type": "code",
   "execution_count": null,
   "id": "36fe8c37",
   "metadata": {},
   "outputs": [],
   "source": [
    "# Topic: Decorators\n",
    "def decorator(fn):\n",
    "    def wrapper():\n",
    "        print('Before')\n",
    "        fn()\n",
    "        print('After')\n",
    "    return wrapper\n",
    "@decorator\n",
    "def say(): print('Hi')\n",
    "say()"
   ]
  },
  {
   "cell_type": "code",
   "execution_count": null,
   "id": "d7a924fd",
   "metadata": {},
   "outputs": [],
   "source": [
    "# Topic: Loops\n",
    "i = 0\n",
    "while i < 5:\n",
    "    print(i)\n",
    "    i += 1"
   ]
  },
  {
   "cell_type": "code",
   "execution_count": null,
   "id": "ab690fc4",
   "metadata": {},
   "outputs": [],
   "source": [
    "# Topic: Pandas\n",
    "import pandas as pd\n",
    "df = pd.read_csv('data.csv')\n",
    "print(df.head())"
   ]
  },
  {
   "cell_type": "code",
   "execution_count": null,
   "id": "81a0a61f",
   "metadata": {},
   "outputs": [],
   "source": [
    "# Topic: Lists & Tuples\n",
    "t = (1,2,3)\n",
    "print(t[1])"
   ]
  },
  {
   "cell_type": "code",
   "execution_count": null,
   "id": "a189e3bb",
   "metadata": {},
   "outputs": [],
   "source": [
    "# Topic: Matplotlib\n",
    "import matplotlib.pyplot as plt\n",
    "plt.bar(['A','B'], [10,20])\n",
    "plt.show()"
   ]
  },
  {
   "cell_type": "code",
   "execution_count": null,
   "id": "cb61c953",
   "metadata": {},
   "outputs": [],
   "source": [
    "# Topic: Web Scraping\n",
    "import requests\n",
    "from bs4 import BeautifulSoup\n",
    "r = requests.get('https://example.com')\n",
    "soup = BeautifulSoup(r.text, 'html.parser')\n",
    "print(soup.title.string)"
   ]
  },
  {
   "cell_type": "code",
   "execution_count": null,
   "id": "cf6990e9",
   "metadata": {},
   "outputs": [],
   "source": [
    "# Topic: Dictionaries & Sets\n",
    "s = {1,2,3}\n",
    "s.add(4)\n",
    "print(s)"
   ]
  },
  {
   "cell_type": "code",
   "execution_count": null,
   "id": "73bc5f6d",
   "metadata": {},
   "outputs": [],
   "source": [
    "# Topic: Decorators\n",
    "def decorator(fn):\n",
    "    def wrapper():\n",
    "        print('Before')\n",
    "        fn()\n",
    "        print('After')\n",
    "    return wrapper\n",
    "@decorator\n",
    "def say(): print('Hi')\n",
    "say()"
   ]
  },
  {
   "cell_type": "code",
   "execution_count": null,
   "id": "fef0a7b9",
   "metadata": {},
   "outputs": [],
   "source": [
    "# Topic: Mini Projects\n",
    "# Palindrome checker\n",
    "def is_palindrome(s):\n",
    " return s == s[::-1]\n",
    "print(is_palindrome('madam'))"
   ]
  },
  {
   "cell_type": "code",
   "execution_count": null,
   "id": "dbc767b2",
   "metadata": {},
   "outputs": [],
   "source": [
    "# Topic: Lists & Tuples\n",
    "t = (1,2,3)\n",
    "print(t[1])"
   ]
  },
  {
   "cell_type": "code",
   "execution_count": null,
   "id": "740d1edf",
   "metadata": {},
   "outputs": [],
   "source": [
    "# Topic: Loops\n",
    "for i in range(10): print(i*i)"
   ]
  },
  {
   "cell_type": "code",
   "execution_count": null,
   "id": "c1d64f10",
   "metadata": {},
   "outputs": [],
   "source": [
    "# Topic: Exceptions\n",
    "try:\n",
    "    print(10/0)\n",
    "except ZeroDivisionError:\n",
    "    print('Cannot divide by zero')"
   ]
  },
  {
   "cell_type": "code",
   "execution_count": null,
   "id": "b254db73",
   "metadata": {},
   "outputs": [],
   "source": [
    "# Topic: Basics\n",
    "a = 5\n",
    "b = 3\n",
    "print(a * b)"
   ]
  },
  {
   "cell_type": "code",
   "execution_count": null,
   "id": "d8b5dced",
   "metadata": {},
   "outputs": [],
   "source": [
    "# Topic: Mini Projects\n",
    "# Palindrome checker\n",
    "def is_palindrome(s):\n",
    " return s == s[::-1]\n",
    "print(is_palindrome('madam'))"
   ]
  }
 ],
 "metadata": {},
 "nbformat": 4,
 "nbformat_minor": 5
}
