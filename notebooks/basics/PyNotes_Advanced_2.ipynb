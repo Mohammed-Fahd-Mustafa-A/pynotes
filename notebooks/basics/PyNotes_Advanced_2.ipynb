{
 "cells": [
  {
   "cell_type": "code",
   "execution_count": null,
   "id": "03dbdae8",
   "metadata": {},
   "outputs": [],
   "source": [
    "# Topic: Recursion\n",
    "def fib(n):\n",
    "    if n <= 1: return n\n",
    "    return fib(n-1) + fib(n-2)\n",
    "print(fib(5))"
   ]
  },
  {
   "cell_type": "code",
   "execution_count": null,
   "id": "ce714e85",
   "metadata": {},
   "outputs": [],
   "source": [
    "# Topic: Web Scraping\n",
    "import requests\n",
    "from bs4 import BeautifulSoup\n",
    "r = requests.get('https://example.com')\n",
    "soup = BeautifulSoup(r.text, 'html.parser')\n",
    "print(soup.title.string)"
   ]
  },
  {
   "cell_type": "code",
   "execution_count": null,
   "id": "04732869",
   "metadata": {},
   "outputs": [],
   "source": [
    "# Topic: Loops\n",
    "i = 0\n",
    "while i < 5:\n",
    "    print(i)\n",
    "    i += 1"
   ]
  },
  {
   "cell_type": "code",
   "execution_count": null,
   "id": "4a0c6110",
   "metadata": {},
   "outputs": [],
   "source": [
    "# Topic: Decorators\n",
    "def decorator(fn):\n",
    "    def wrapper():\n",
    "        print('Before')\n",
    "        fn()\n",
    "        print('After')\n",
    "    return wrapper\n",
    "@decorator\n",
    "def say(): print('Hi')\n",
    "say()"
   ]
  },
  {
   "cell_type": "code",
   "execution_count": null,
   "id": "cfe27f90",
   "metadata": {},
   "outputs": [],
   "source": [
    "# Topic: Pandas\n",
    "import pandas as pd\n",
    "df = pd.read_csv('data.csv')\n",
    "print(df.head())"
   ]
  },
  {
   "cell_type": "code",
   "execution_count": null,
   "id": "91f8c850",
   "metadata": {},
   "outputs": [],
   "source": [
    "# Topic: Dictionaries & Sets\n",
    "s = {1,2,3}\n",
    "s.add(4)\n",
    "print(s)"
   ]
  },
  {
   "cell_type": "code",
   "execution_count": null,
   "id": "ace86c3b",
   "metadata": {},
   "outputs": [],
   "source": [
    "# Topic: Recursion\n",
    "def fib(n):\n",
    "    if n <= 1: return n\n",
    "    return fib(n-1) + fib(n-2)\n",
    "print(fib(5))"
   ]
  },
  {
   "cell_type": "code",
   "execution_count": null,
   "id": "fe439627",
   "metadata": {},
   "outputs": [],
   "source": [
    "# Topic: NumPy\n",
    "import numpy as np\n",
    "print(np.arange(0, 10, 2))"
   ]
  },
  {
   "cell_type": "code",
   "execution_count": null,
   "id": "50741a6e",
   "metadata": {},
   "outputs": [],
   "source": [
    "# Topic: Decorators\n",
    "def decorator(fn):\n",
    "    def wrapper():\n",
    "        print('Before')\n",
    "        fn()\n",
    "        print('After')\n",
    "    return wrapper\n",
    "@decorator\n",
    "def say(): print('Hi')\n",
    "say()"
   ]
  },
  {
   "cell_type": "code",
   "execution_count": null,
   "id": "ea31fa7f",
   "metadata": {},
   "outputs": [],
   "source": [
    "# Topic: Functions\n",
    "def add(a, b): return a + b\n",
    "print(add(3, 4))"
   ]
  },
  {
   "cell_type": "code",
   "execution_count": null,
   "id": "95304512",
   "metadata": {},
   "outputs": [],
   "source": [
    "# Topic: Lists & Tuples\n",
    "t = (1,2,3)\n",
    "print(t[1])"
   ]
  },
  {
   "cell_type": "code",
   "execution_count": null,
   "id": "870043c5",
   "metadata": {},
   "outputs": [],
   "source": [
    "# Topic: Decorators\n",
    "def decorator(fn):\n",
    "    def wrapper():\n",
    "        print('Before')\n",
    "        fn()\n",
    "        print('After')\n",
    "    return wrapper\n",
    "@decorator\n",
    "def say(): print('Hi')\n",
    "say()"
   ]
  },
  {
   "cell_type": "code",
   "execution_count": null,
   "id": "aea60eb1",
   "metadata": {},
   "outputs": [],
   "source": [
    "# Topic: Loops\n",
    "i = 0\n",
    "while i < 5:\n",
    "    print(i)\n",
    "    i += 1"
   ]
  },
  {
   "cell_type": "code",
   "execution_count": null,
   "id": "7fb5992a",
   "metadata": {},
   "outputs": [],
   "source": [
    "# Topic: Loops\n",
    "for i in range(10): print(i*i)"
   ]
  },
  {
   "cell_type": "code",
   "execution_count": null,
   "id": "81563441",
   "metadata": {},
   "outputs": [],
   "source": [
    "# Topic: Pandas\n",
    "import pandas as pd\n",
    "df = pd.read_csv('data.csv')\n",
    "print(df.head())"
   ]
  },
  {
   "cell_type": "code",
   "execution_count": null,
   "id": "7dfc2d2e",
   "metadata": {},
   "outputs": [],
   "source": [
    "# Topic: Decorators\n",
    "def decorator(fn):\n",
    "    def wrapper():\n",
    "        print('Before')\n",
    "        fn()\n",
    "        print('After')\n",
    "    return wrapper\n",
    "@decorator\n",
    "def say(): print('Hi')\n",
    "say()"
   ]
  },
  {
   "cell_type": "code",
   "execution_count": null,
   "id": "564ac44c",
   "metadata": {},
   "outputs": [],
   "source": [
    "# Topic: Loops\n",
    "for i in range(10): print(i*i)"
   ]
  },
  {
   "cell_type": "code",
   "execution_count": null,
   "id": "a9a18080",
   "metadata": {},
   "outputs": [],
   "source": [
    "# Topic: Pandas\n",
    "import pandas as pd\n",
    "df = pd.DataFrame({'A':[1,2],'B':[3,4]})\n",
    "print(df)"
   ]
  },
  {
   "cell_type": "code",
   "execution_count": null,
   "id": "84253ae6",
   "metadata": {},
   "outputs": [],
   "source": [
    "# Topic: Functions\n",
    "def add(a, b): return a + b\n",
    "print(add(3, 4))"
   ]
  },
  {
   "cell_type": "code",
   "execution_count": null,
   "id": "65fc9cf0",
   "metadata": {},
   "outputs": [],
   "source": [
    "# Topic: Mini Projects\n",
    "# Palindrome checker\n",
    "def is_palindrome(s):\n",
    " return s == s[::-1]\n",
    "print(is_palindrome('madam'))"
   ]
  },
  {
   "cell_type": "code",
   "execution_count": null,
   "id": "d40ae5df",
   "metadata": {},
   "outputs": [],
   "source": [
    "# Topic: Mini Projects\n",
    "# Palindrome checker\n",
    "def is_palindrome(s):\n",
    " return s == s[::-1]\n",
    "print(is_palindrome('madam'))"
   ]
  },
  {
   "cell_type": "code",
   "execution_count": null,
   "id": "32fd4d7c",
   "metadata": {},
   "outputs": [],
   "source": [
    "# Topic: File I/O\n",
    "with open('sample.txt', 'w') as f:\n",
    "    f.write('Hello World')"
   ]
  },
  {
   "cell_type": "code",
   "execution_count": null,
   "id": "e7bea33b",
   "metadata": {},
   "outputs": [],
   "source": [
    "# Topic: Recursion\n",
    "def fib(n):\n",
    "    if n <= 1: return n\n",
    "    return fib(n-1) + fib(n-2)\n",
    "print(fib(5))"
   ]
  },
  {
   "cell_type": "code",
   "execution_count": null,
   "id": "3b8b2c30",
   "metadata": {},
   "outputs": [],
   "source": [
    "# Topic: Pandas\n",
    "import pandas as pd\n",
    "df = pd.read_csv('data.csv')\n",
    "print(df.head())"
   ]
  },
  {
   "cell_type": "code",
   "execution_count": null,
   "id": "0d59c5c8",
   "metadata": {},
   "outputs": [],
   "source": [
    "# Topic: Matplotlib\n",
    "import matplotlib.pyplot as plt\n",
    "plt.bar(['A','B'], [10,20])\n",
    "plt.show()"
   ]
  },
  {
   "cell_type": "code",
   "execution_count": null,
   "id": "10eed2ee",
   "metadata": {},
   "outputs": [],
   "source": [
    "# Topic: Pandas\n",
    "import pandas as pd\n",
    "df = pd.DataFrame({'A':[1,2],'B':[3,4]})\n",
    "print(df)"
   ]
  },
  {
   "cell_type": "code",
   "execution_count": null,
   "id": "0389b5bb",
   "metadata": {},
   "outputs": [],
   "source": [
    "# Topic: Decorators\n",
    "def decorator(fn):\n",
    "    def wrapper():\n",
    "        print('Before')\n",
    "        fn()\n",
    "        print('After')\n",
    "    return wrapper\n",
    "@decorator\n",
    "def say(): print('Hi')\n",
    "say()"
   ]
  },
  {
   "cell_type": "code",
   "execution_count": null,
   "id": "8e96ca5b",
   "metadata": {},
   "outputs": [],
   "source": [
    "# Topic: Pandas\n",
    "import pandas as pd\n",
    "df = pd.read_csv('data.csv')\n",
    "print(df.head())"
   ]
  },
  {
   "cell_type": "code",
   "execution_count": null,
   "id": "0844e53a",
   "metadata": {},
   "outputs": [],
   "source": [
    "# Topic: Loops\n",
    "for i in range(10): print(i*i)"
   ]
  },
  {
   "cell_type": "code",
   "execution_count": null,
   "id": "a763587a",
   "metadata": {},
   "outputs": [],
   "source": [
    "# Topic: File I/O\n",
    "with open('sample.txt', 'w') as f:\n",
    "    f.write('Hello World')"
   ]
  },
  {
   "cell_type": "code",
   "execution_count": null,
   "id": "4b381aa8",
   "metadata": {},
   "outputs": [],
   "source": [
    "# Topic: Mini Projects\n",
    "# Palindrome checker\n",
    "def is_palindrome(s):\n",
    " return s == s[::-1]\n",
    "print(is_palindrome('madam'))"
   ]
  },
  {
   "cell_type": "code",
   "execution_count": null,
   "id": "c1f2a55c",
   "metadata": {},
   "outputs": [],
   "source": [
    "# Topic: File I/O\n",
    "with open('sample.txt', 'w') as f:\n",
    "    f.write('Hello World')"
   ]
  },
  {
   "cell_type": "code",
   "execution_count": null,
   "id": "a0e43289",
   "metadata": {},
   "outputs": [],
   "source": [
    "# Topic: Recursion\n",
    "def fib(n):\n",
    "    if n <= 1: return n\n",
    "    return fib(n-1) + fib(n-2)\n",
    "print(fib(5))"
   ]
  },
  {
   "cell_type": "code",
   "execution_count": null,
   "id": "9dad63ea",
   "metadata": {},
   "outputs": [],
   "source": [
    "# Topic: Recursion\n",
    "def fib(n):\n",
    "    if n <= 1: return n\n",
    "    return fib(n-1) + fib(n-2)\n",
    "print(fib(5))"
   ]
  },
  {
   "cell_type": "code",
   "execution_count": null,
   "id": "6e4c97c7",
   "metadata": {},
   "outputs": [],
   "source": [
    "# Topic: Lists & Tuples\n",
    "t = (1,2,3)\n",
    "print(t[1])"
   ]
  },
  {
   "cell_type": "code",
   "execution_count": null,
   "id": "80f3e6b7",
   "metadata": {},
   "outputs": [],
   "source": [
    "# Topic: Lists & Tuples\n",
    "nums = [1,2,3]\n",
    "nums.append(4)\n",
    "print(nums)"
   ]
  },
  {
   "cell_type": "code",
   "execution_count": null,
   "id": "0669e4af",
   "metadata": {},
   "outputs": [],
   "source": [
    "# Topic: Classes & Objects\n",
    "class Dog:\n",
    "    def bark(self):\n",
    "        print('Woof!')\n",
    "d = Dog()\n",
    "d.bark()"
   ]
  },
  {
   "cell_type": "code",
   "execution_count": null,
   "id": "62720c62",
   "metadata": {},
   "outputs": [],
   "source": [
    "# Topic: Pandas\n",
    "import pandas as pd\n",
    "df = pd.read_csv('data.csv')\n",
    "print(df.head())"
   ]
  },
  {
   "cell_type": "code",
   "execution_count": null,
   "id": "db1a076e",
   "metadata": {},
   "outputs": [],
   "source": [
    "# Topic: Classes & Objects\n",
    "class Dog:\n",
    "    def bark(self):\n",
    "        print('Woof!')\n",
    "d = Dog()\n",
    "d.bark()"
   ]
  },
  {
   "cell_type": "code",
   "execution_count": null,
   "id": "34f91f62",
   "metadata": {},
   "outputs": [],
   "source": [
    "# Topic: Web Scraping\n",
    "import requests\n",
    "from bs4 import BeautifulSoup\n",
    "r = requests.get('https://example.com')\n",
    "soup = BeautifulSoup(r.text, 'html.parser')\n",
    "print(soup.title.string)"
   ]
  },
  {
   "cell_type": "code",
   "execution_count": null,
   "id": "1c06275e",
   "metadata": {},
   "outputs": [],
   "source": [
    "# Topic: Classes & Objects\n",
    "class Dog:\n",
    "    def bark(self):\n",
    "        print('Woof!')\n",
    "d = Dog()\n",
    "d.bark()"
   ]
  },
  {
   "cell_type": "code",
   "execution_count": null,
   "id": "19175acf",
   "metadata": {},
   "outputs": [],
   "source": [
    "# Topic: Web Scraping\n",
    "import requests\n",
    "from bs4 import BeautifulSoup\n",
    "r = requests.get('https://example.com')\n",
    "soup = BeautifulSoup(r.text, 'html.parser')\n",
    "print(soup.title.string)"
   ]
  },
  {
   "cell_type": "code",
   "execution_count": null,
   "id": "ea596144",
   "metadata": {},
   "outputs": [],
   "source": [
    "# Topic: Recursion\n",
    "def fib(n):\n",
    "    if n <= 1: return n\n",
    "    return fib(n-1) + fib(n-2)\n",
    "print(fib(5))"
   ]
  },
  {
   "cell_type": "code",
   "execution_count": null,
   "id": "f4537509",
   "metadata": {},
   "outputs": [],
   "source": [
    "# Topic: Decorators\n",
    "def decorator(fn):\n",
    "    def wrapper():\n",
    "        print('Before')\n",
    "        fn()\n",
    "        print('After')\n",
    "    return wrapper\n",
    "@decorator\n",
    "def say(): print('Hi')\n",
    "say()"
   ]
  },
  {
   "cell_type": "code",
   "execution_count": null,
   "id": "e3029774",
   "metadata": {},
   "outputs": [],
   "source": [
    "# Topic: Mini Projects\n",
    "# Palindrome checker\n",
    "def is_palindrome(s):\n",
    " return s == s[::-1]\n",
    "print(is_palindrome('madam'))"
   ]
  },
  {
   "cell_type": "code",
   "execution_count": null,
   "id": "f014820f",
   "metadata": {},
   "outputs": [],
   "source": [
    "# Topic: Functions\n",
    "def add(a, b): return a + b\n",
    "print(add(3, 4))"
   ]
  },
  {
   "cell_type": "code",
   "execution_count": null,
   "id": "e030a42d",
   "metadata": {},
   "outputs": [],
   "source": [
    "# Topic: Dictionaries & Sets\n",
    "s = {1,2,3}\n",
    "s.add(4)\n",
    "print(s)"
   ]
  },
  {
   "cell_type": "code",
   "execution_count": null,
   "id": "34a56979",
   "metadata": {},
   "outputs": [],
   "source": [
    "# Topic: NumPy\n",
    "import numpy as np\n",
    "a = np.array([1,2,3])\n",
    "print(a * 2)"
   ]
  },
  {
   "cell_type": "code",
   "execution_count": null,
   "id": "51ad3053",
   "metadata": {},
   "outputs": [],
   "source": [
    "# Topic: Lists & Tuples\n",
    "t = (1,2,3)\n",
    "print(t[1])"
   ]
  },
  {
   "cell_type": "code",
   "execution_count": null,
   "id": "000c465e",
   "metadata": {},
   "outputs": [],
   "source": [
    "# Topic: Web Scraping\n",
    "import requests\n",
    "from bs4 import BeautifulSoup\n",
    "r = requests.get('https://example.com')\n",
    "soup = BeautifulSoup(r.text, 'html.parser')\n",
    "print(soup.title.string)"
   ]
  },
  {
   "cell_type": "code",
   "execution_count": null,
   "id": "2cd54660",
   "metadata": {},
   "outputs": [],
   "source": [
    "# Topic: Lists & Tuples\n",
    "nums = [1,2,3]\n",
    "nums.append(4)\n",
    "print(nums)"
   ]
  },
  {
   "cell_type": "code",
   "execution_count": null,
   "id": "89bc311d",
   "metadata": {},
   "outputs": [],
   "source": [
    "# Topic: NumPy\n",
    "import numpy as np\n",
    "print(np.arange(0, 10, 2))"
   ]
  },
  {
   "cell_type": "code",
   "execution_count": null,
   "id": "6a525fb8",
   "metadata": {},
   "outputs": [],
   "source": [
    "# Topic: Lists & Tuples\n",
    "t = (1,2,3)\n",
    "print(t[1])"
   ]
  },
  {
   "cell_type": "code",
   "execution_count": null,
   "id": "d64ab9cb",
   "metadata": {},
   "outputs": [],
   "source": [
    "# Topic: Web Scraping\n",
    "import requests\n",
    "from bs4 import BeautifulSoup\n",
    "r = requests.get('https://example.com')\n",
    "soup = BeautifulSoup(r.text, 'html.parser')\n",
    "print(soup.title.string)"
   ]
  },
  {
   "cell_type": "code",
   "execution_count": null,
   "id": "b308f89f",
   "metadata": {},
   "outputs": [],
   "source": [
    "# Topic: Recursion\n",
    "def fib(n):\n",
    "    if n <= 1: return n\n",
    "    return fib(n-1) + fib(n-2)\n",
    "print(fib(5))"
   ]
  },
  {
   "cell_type": "code",
   "execution_count": null,
   "id": "8ae7cc71",
   "metadata": {},
   "outputs": [],
   "source": [
    "# Topic: NumPy\n",
    "import numpy as np\n",
    "print(np.arange(0, 10, 2))"
   ]
  },
  {
   "cell_type": "code",
   "execution_count": null,
   "id": "78e5c6de",
   "metadata": {},
   "outputs": [],
   "source": [
    "# Topic: Recursion\n",
    "def fib(n):\n",
    "    if n <= 1: return n\n",
    "    return fib(n-1) + fib(n-2)\n",
    "print(fib(5))"
   ]
  },
  {
   "cell_type": "code",
   "execution_count": null,
   "id": "22e692a0",
   "metadata": {},
   "outputs": [],
   "source": [
    "# Topic: File I/O\n",
    "with open('sample.txt') as f:\n",
    "    print(f.read())"
   ]
  },
  {
   "cell_type": "code",
   "execution_count": null,
   "id": "f1a11fdc",
   "metadata": {},
   "outputs": [],
   "source": [
    "# Topic: Matplotlib\n",
    "import matplotlib.pyplot as plt\n",
    "plt.bar(['A','B'], [10,20])\n",
    "plt.show()"
   ]
  },
  {
   "cell_type": "code",
   "execution_count": null,
   "id": "ecc2b32c",
   "metadata": {},
   "outputs": [],
   "source": [
    "# Topic: Mini Projects\n",
    "# Palindrome checker\n",
    "def is_palindrome(s):\n",
    " return s == s[::-1]\n",
    "print(is_palindrome('madam'))"
   ]
  },
  {
   "cell_type": "code",
   "execution_count": null,
   "id": "40f5e5b0",
   "metadata": {},
   "outputs": [],
   "source": [
    "# Topic: Basics\n",
    "name = 'Fahd'\n",
    "print(f'Welcome, {name}')"
   ]
  },
  {
   "cell_type": "code",
   "execution_count": null,
   "id": "ac15e9ea",
   "metadata": {},
   "outputs": [],
   "source": [
    "# Topic: Loops\n",
    "for i in range(10): print(i*i)"
   ]
  },
  {
   "cell_type": "code",
   "execution_count": null,
   "id": "c597f8e6",
   "metadata": {},
   "outputs": [],
   "source": [
    "# Topic: Matplotlib\n",
    "import matplotlib.pyplot as plt\n",
    "plt.plot([1,2],[3,4])\n",
    "plt.show()"
   ]
  },
  {
   "cell_type": "code",
   "execution_count": null,
   "id": "4f93faa7",
   "metadata": {},
   "outputs": [],
   "source": [
    "# Topic: Classes & Objects\n",
    "class Dog:\n",
    "    def bark(self):\n",
    "        print('Woof!')\n",
    "d = Dog()\n",
    "d.bark()"
   ]
  },
  {
   "cell_type": "code",
   "execution_count": null,
   "id": "fc6102e2",
   "metadata": {},
   "outputs": [],
   "source": [
    "# Topic: Lists & Tuples\n",
    "t = (1,2,3)\n",
    "print(t[1])"
   ]
  },
  {
   "cell_type": "code",
   "execution_count": null,
   "id": "b2b11d8f",
   "metadata": {},
   "outputs": [],
   "source": [
    "# Topic: Recursion\n",
    "def fib(n):\n",
    "    if n <= 1: return n\n",
    "    return fib(n-1) + fib(n-2)\n",
    "print(fib(5))"
   ]
  },
  {
   "cell_type": "code",
   "execution_count": null,
   "id": "693eb6e5",
   "metadata": {},
   "outputs": [],
   "source": [
    "# Topic: File I/O\n",
    "with open('sample.txt', 'w') as f:\n",
    "    f.write('Hello World')"
   ]
  },
  {
   "cell_type": "code",
   "execution_count": null,
   "id": "2853082d",
   "metadata": {},
   "outputs": [],
   "source": [
    "# Topic: Decorators\n",
    "def decorator(fn):\n",
    "    def wrapper():\n",
    "        print('Before')\n",
    "        fn()\n",
    "        print('After')\n",
    "    return wrapper\n",
    "@decorator\n",
    "def say(): print('Hi')\n",
    "say()"
   ]
  },
  {
   "cell_type": "code",
   "execution_count": null,
   "id": "7e646574",
   "metadata": {},
   "outputs": [],
   "source": [
    "# Topic: Matplotlib\n",
    "import matplotlib.pyplot as plt\n",
    "plt.plot([1,2],[3,4])\n",
    "plt.show()"
   ]
  },
  {
   "cell_type": "code",
   "execution_count": null,
   "id": "5cbb8d34",
   "metadata": {},
   "outputs": [],
   "source": [
    "# Topic: NumPy\n",
    "import numpy as np\n",
    "a = np.array([1,2,3])\n",
    "print(a * 2)"
   ]
  },
  {
   "cell_type": "code",
   "execution_count": null,
   "id": "40807856",
   "metadata": {},
   "outputs": [],
   "source": [
    "# Topic: Exceptions\n",
    "try:\n",
    "    print(10/0)\n",
    "except ZeroDivisionError:\n",
    "    print('Cannot divide by zero')"
   ]
  },
  {
   "cell_type": "code",
   "execution_count": null,
   "id": "1a8cb81a",
   "metadata": {},
   "outputs": [],
   "source": [
    "# Topic: Exceptions\n",
    "try:\n",
    "    print(10/0)\n",
    "except ZeroDivisionError:\n",
    "    print('Cannot divide by zero')"
   ]
  },
  {
   "cell_type": "code",
   "execution_count": null,
   "id": "2bb31eeb",
   "metadata": {},
   "outputs": [],
   "source": [
    "# Topic: Dictionaries & Sets\n",
    "s = {1,2,3}\n",
    "s.add(4)\n",
    "print(s)"
   ]
  },
  {
   "cell_type": "code",
   "execution_count": null,
   "id": "0c1414e4",
   "metadata": {},
   "outputs": [],
   "source": [
    "# Topic: NumPy\n",
    "import numpy as np\n",
    "print(np.arange(0, 10, 2))"
   ]
  },
  {
   "cell_type": "code",
   "execution_count": null,
   "id": "bd022ee1",
   "metadata": {},
   "outputs": [],
   "source": [
    "# Topic: Functions\n",
    "def factorial(n):\n",
    "    return 1 if n==0 else n * factorial(n-1)\n",
    "print(factorial(5))"
   ]
  },
  {
   "cell_type": "code",
   "execution_count": null,
   "id": "b601ba33",
   "metadata": {},
   "outputs": [],
   "source": [
    "# Topic: NumPy\n",
    "import numpy as np\n",
    "print(np.arange(0, 10, 2))"
   ]
  },
  {
   "cell_type": "code",
   "execution_count": null,
   "id": "25df12c8",
   "metadata": {},
   "outputs": [],
   "source": [
    "# Topic: Decorators\n",
    "def decorator(fn):\n",
    "    def wrapper():\n",
    "        print('Before')\n",
    "        fn()\n",
    "        print('After')\n",
    "    return wrapper\n",
    "@decorator\n",
    "def say(): print('Hi')\n",
    "say()"
   ]
  },
  {
   "cell_type": "code",
   "execution_count": null,
   "id": "d72c2484",
   "metadata": {},
   "outputs": [],
   "source": [
    "# Topic: Exceptions\n",
    "try:\n",
    "    print(10/0)\n",
    "except ZeroDivisionError:\n",
    "    print('Cannot divide by zero')"
   ]
  },
  {
   "cell_type": "code",
   "execution_count": null,
   "id": "f15450ab",
   "metadata": {},
   "outputs": [],
   "source": [
    "# Topic: File I/O\n",
    "with open('sample.txt', 'w') as f:\n",
    "    f.write('Hello World')"
   ]
  },
  {
   "cell_type": "code",
   "execution_count": null,
   "id": "68043677",
   "metadata": {},
   "outputs": [],
   "source": [
    "# Topic: Web Scraping\n",
    "import requests\n",
    "from bs4 import BeautifulSoup\n",
    "r = requests.get('https://example.com')\n",
    "soup = BeautifulSoup(r.text, 'html.parser')\n",
    "print(soup.title.string)"
   ]
  },
  {
   "cell_type": "code",
   "execution_count": null,
   "id": "8ec121a9",
   "metadata": {},
   "outputs": [],
   "source": [
    "# Topic: Web Scraping\n",
    "import requests\n",
    "from bs4 import BeautifulSoup\n",
    "r = requests.get('https://example.com')\n",
    "soup = BeautifulSoup(r.text, 'html.parser')\n",
    "print(soup.title.string)"
   ]
  },
  {
   "cell_type": "code",
   "execution_count": null,
   "id": "881b8580",
   "metadata": {},
   "outputs": [],
   "source": [
    "# Topic: Exceptions\n",
    "try:\n",
    "    print(10/0)\n",
    "except ZeroDivisionError:\n",
    "    print('Cannot divide by zero')"
   ]
  },
  {
   "cell_type": "code",
   "execution_count": null,
   "id": "4f8f4a94",
   "metadata": {},
   "outputs": [],
   "source": [
    "# Topic: Mini Projects\n",
    "# Simple calculator\n",
    "def calc(a,b,op):\n",
    " if op=='+': return a+b\n",
    " elif op=='-': return a-b\n",
    "print(calc(10,5,'+'))"
   ]
  },
  {
   "cell_type": "code",
   "execution_count": null,
   "id": "274aa71d",
   "metadata": {},
   "outputs": [],
   "source": [
    "# Topic: Decorators\n",
    "def decorator(fn):\n",
    "    def wrapper():\n",
    "        print('Before')\n",
    "        fn()\n",
    "        print('After')\n",
    "    return wrapper\n",
    "@decorator\n",
    "def say(): print('Hi')\n",
    "say()"
   ]
  },
  {
   "cell_type": "code",
   "execution_count": null,
   "id": "a5441bb5",
   "metadata": {},
   "outputs": [],
   "source": [
    "# Topic: Exceptions\n",
    "try:\n",
    "    print(10/0)\n",
    "except ZeroDivisionError:\n",
    "    print('Cannot divide by zero')"
   ]
  },
  {
   "cell_type": "code",
   "execution_count": null,
   "id": "9b4be94b",
   "metadata": {},
   "outputs": [],
   "source": [
    "# Topic: Matplotlib\n",
    "import matplotlib.pyplot as plt\n",
    "plt.plot([1,2],[3,4])\n",
    "plt.show()"
   ]
  },
  {
   "cell_type": "code",
   "execution_count": null,
   "id": "4472be20",
   "metadata": {},
   "outputs": [],
   "source": [
    "# Topic: Decorators\n",
    "def decorator(fn):\n",
    "    def wrapper():\n",
    "        print('Before')\n",
    "        fn()\n",
    "        print('After')\n",
    "    return wrapper\n",
    "@decorator\n",
    "def say(): print('Hi')\n",
    "say()"
   ]
  },
  {
   "cell_type": "code",
   "execution_count": null,
   "id": "91a97739",
   "metadata": {},
   "outputs": [],
   "source": [
    "# Topic: File I/O\n",
    "with open('sample.txt') as f:\n",
    "    print(f.read())"
   ]
  },
  {
   "cell_type": "code",
   "execution_count": null,
   "id": "5ecace53",
   "metadata": {},
   "outputs": [],
   "source": [
    "# Topic: Functions\n",
    "def add(a, b): return a + b\n",
    "print(add(3, 4))"
   ]
  },
  {
   "cell_type": "code",
   "execution_count": null,
   "id": "e5423531",
   "metadata": {},
   "outputs": [],
   "source": [
    "# Topic: NumPy\n",
    "import numpy as np\n",
    "a = np.array([1,2,3])\n",
    "print(a * 2)"
   ]
  },
  {
   "cell_type": "code",
   "execution_count": null,
   "id": "eeacd7dd",
   "metadata": {},
   "outputs": [],
   "source": [
    "# Topic: Recursion\n",
    "def fib(n):\n",
    "    if n <= 1: return n\n",
    "    return fib(n-1) + fib(n-2)\n",
    "print(fib(5))"
   ]
  },
  {
   "cell_type": "code",
   "execution_count": null,
   "id": "8091b0c2",
   "metadata": {},
   "outputs": [],
   "source": [
    "# Topic: Loops\n",
    "for i in range(10): print(i*i)"
   ]
  },
  {
   "cell_type": "code",
   "execution_count": null,
   "id": "847d8252",
   "metadata": {},
   "outputs": [],
   "source": [
    "# Topic: Web Scraping\n",
    "import requests\n",
    "from bs4 import BeautifulSoup\n",
    "r = requests.get('https://example.com')\n",
    "soup = BeautifulSoup(r.text, 'html.parser')\n",
    "print(soup.title.string)"
   ]
  },
  {
   "cell_type": "code",
   "execution_count": null,
   "id": "78b0a2e8",
   "metadata": {},
   "outputs": [],
   "source": [
    "# Topic: Loops\n",
    "for i in range(10): print(i*i)"
   ]
  },
  {
   "cell_type": "code",
   "execution_count": null,
   "id": "d284225d",
   "metadata": {},
   "outputs": [],
   "source": [
    "# Topic: Matplotlib\n",
    "import matplotlib.pyplot as plt\n",
    "plt.bar(['A','B'], [10,20])\n",
    "plt.show()"
   ]
  },
  {
   "cell_type": "code",
   "execution_count": null,
   "id": "cab7459b",
   "metadata": {},
   "outputs": [],
   "source": [
    "# Topic: Functions\n",
    "def factorial(n):\n",
    "    return 1 if n==0 else n * factorial(n-1)\n",
    "print(factorial(5))"
   ]
  },
  {
   "cell_type": "code",
   "execution_count": null,
   "id": "f663e80a",
   "metadata": {},
   "outputs": [],
   "source": [
    "# Topic: Decorators\n",
    "def decorator(fn):\n",
    "    def wrapper():\n",
    "        print('Before')\n",
    "        fn()\n",
    "        print('After')\n",
    "    return wrapper\n",
    "@decorator\n",
    "def say(): print('Hi')\n",
    "say()"
   ]
  },
  {
   "cell_type": "code",
   "execution_count": null,
   "id": "552c8cac",
   "metadata": {},
   "outputs": [],
   "source": [
    "# Topic: Decorators\n",
    "def decorator(fn):\n",
    "    def wrapper():\n",
    "        print('Before')\n",
    "        fn()\n",
    "        print('After')\n",
    "    return wrapper\n",
    "@decorator\n",
    "def say(): print('Hi')\n",
    "say()"
   ]
  },
  {
   "cell_type": "code",
   "execution_count": null,
   "id": "8b8cce55",
   "metadata": {},
   "outputs": [],
   "source": [
    "# Topic: Classes & Objects\n",
    "class Dog:\n",
    "    def bark(self):\n",
    "        print('Woof!')\n",
    "d = Dog()\n",
    "d.bark()"
   ]
  },
  {
   "cell_type": "code",
   "execution_count": null,
   "id": "7796dc55",
   "metadata": {},
   "outputs": [],
   "source": [
    "# Topic: Decorators\n",
    "def decorator(fn):\n",
    "    def wrapper():\n",
    "        print('Before')\n",
    "        fn()\n",
    "        print('After')\n",
    "    return wrapper\n",
    "@decorator\n",
    "def say(): print('Hi')\n",
    "say()"
   ]
  },
  {
   "cell_type": "code",
   "execution_count": null,
   "id": "fcb7f753",
   "metadata": {},
   "outputs": [],
   "source": [
    "# Topic: Pandas\n",
    "import pandas as pd\n",
    "df = pd.read_csv('data.csv')\n",
    "print(df.head())"
   ]
  },
  {
   "cell_type": "code",
   "execution_count": null,
   "id": "cbe79e53",
   "metadata": {},
   "outputs": [],
   "source": [
    "# Topic: Functions\n",
    "def add(a, b): return a + b\n",
    "print(add(3, 4))"
   ]
  },
  {
   "cell_type": "code",
   "execution_count": null,
   "id": "bed96a67",
   "metadata": {},
   "outputs": [],
   "source": [
    "# Topic: File I/O\n",
    "with open('sample.txt', 'w') as f:\n",
    "    f.write('Hello World')"
   ]
  },
  {
   "cell_type": "code",
   "execution_count": null,
   "id": "4b553944",
   "metadata": {},
   "outputs": [],
   "source": [
    "# Topic: Exceptions\n",
    "try:\n",
    "    print(10/0)\n",
    "except ZeroDivisionError:\n",
    "    print('Cannot divide by zero')"
   ]
  },
  {
   "cell_type": "code",
   "execution_count": null,
   "id": "ccd2fc6e",
   "metadata": {},
   "outputs": [],
   "source": [
    "# Topic: Lists & Tuples\n",
    "t = (1,2,3)\n",
    "print(t[1])"
   ]
  },
  {
   "cell_type": "code",
   "execution_count": null,
   "id": "609889e4",
   "metadata": {},
   "outputs": [],
   "source": [
    "# Topic: Pandas\n",
    "import pandas as pd\n",
    "df = pd.read_csv('data.csv')\n",
    "print(df.head())"
   ]
  },
  {
   "cell_type": "code",
   "execution_count": null,
   "id": "effbfd81",
   "metadata": {},
   "outputs": [],
   "source": [
    "# Topic: Basics\n",
    "a = 5\n",
    "b = 3\n",
    "print(a * b)"
   ]
  },
  {
   "cell_type": "code",
   "execution_count": null,
   "id": "63d8dfbe",
   "metadata": {},
   "outputs": [],
   "source": [
    "# Topic: Decorators\n",
    "def decorator(fn):\n",
    "    def wrapper():\n",
    "        print('Before')\n",
    "        fn()\n",
    "        print('After')\n",
    "    return wrapper\n",
    "@decorator\n",
    "def say(): print('Hi')\n",
    "say()"
   ]
  },
  {
   "cell_type": "code",
   "execution_count": null,
   "id": "80c22a5d",
   "metadata": {},
   "outputs": [],
   "source": [
    "# Topic: Matplotlib\n",
    "import matplotlib.pyplot as plt\n",
    "plt.bar(['A','B'], [10,20])\n",
    "plt.show()"
   ]
  },
  {
   "cell_type": "code",
   "execution_count": null,
   "id": "05f7a268",
   "metadata": {},
   "outputs": [],
   "source": [
    "# Topic: Dictionaries & Sets\n",
    "d = {'a':1, 'b':2}\n",
    "print(d['a'])"
   ]
  },
  {
   "cell_type": "code",
   "execution_count": null,
   "id": "8bfe7eba",
   "metadata": {},
   "outputs": [],
   "source": [
    "# Topic: Mini Projects\n",
    "# Simple calculator\n",
    "def calc(a,b,op):\n",
    " if op=='+': return a+b\n",
    " elif op=='-': return a-b\n",
    "print(calc(10,5,'+'))"
   ]
  },
  {
   "cell_type": "code",
   "execution_count": null,
   "id": "1ca79502",
   "metadata": {},
   "outputs": [],
   "source": [
    "# Topic: NumPy\n",
    "import numpy as np\n",
    "print(np.arange(0, 10, 2))"
   ]
  },
  {
   "cell_type": "code",
   "execution_count": null,
   "id": "a25eef90",
   "metadata": {},
   "outputs": [],
   "source": [
    "# Topic: Functions\n",
    "def factorial(n):\n",
    "    return 1 if n==0 else n * factorial(n-1)\n",
    "print(factorial(5))"
   ]
  },
  {
   "cell_type": "code",
   "execution_count": null,
   "id": "ac7ab34a",
   "metadata": {},
   "outputs": [],
   "source": [
    "# Topic: Pandas\n",
    "import pandas as pd\n",
    "df = pd.DataFrame({'A':[1,2],'B':[3,4]})\n",
    "print(df)"
   ]
  },
  {
   "cell_type": "code",
   "execution_count": null,
   "id": "6eaf9444",
   "metadata": {},
   "outputs": [],
   "source": [
    "# Topic: Functions\n",
    "def factorial(n):\n",
    "    return 1 if n==0 else n * factorial(n-1)\n",
    "print(factorial(5))"
   ]
  },
  {
   "cell_type": "code",
   "execution_count": null,
   "id": "aca74528",
   "metadata": {},
   "outputs": [],
   "source": [
    "# Topic: Exceptions\n",
    "try:\n",
    "    print(10/0)\n",
    "except ZeroDivisionError:\n",
    "    print('Cannot divide by zero')"
   ]
  },
  {
   "cell_type": "code",
   "execution_count": null,
   "id": "2f54e395",
   "metadata": {},
   "outputs": [],
   "source": [
    "# Topic: Recursion\n",
    "def fib(n):\n",
    "    if n <= 1: return n\n",
    "    return fib(n-1) + fib(n-2)\n",
    "print(fib(5))"
   ]
  },
  {
   "cell_type": "code",
   "execution_count": null,
   "id": "e4c7a0d6",
   "metadata": {},
   "outputs": [],
   "source": [
    "# Topic: Pandas\n",
    "import pandas as pd\n",
    "df = pd.read_csv('data.csv')\n",
    "print(df.head())"
   ]
  },
  {
   "cell_type": "code",
   "execution_count": null,
   "id": "359428b6",
   "metadata": {},
   "outputs": [],
   "source": [
    "# Topic: File I/O\n",
    "with open('sample.txt', 'w') as f:\n",
    "    f.write('Hello World')"
   ]
  },
  {
   "cell_type": "code",
   "execution_count": null,
   "id": "29ea487b",
   "metadata": {},
   "outputs": [],
   "source": [
    "# Topic: Basics\n",
    "x = 7\n",
    "print('Odd' if x % 2 else 'Even')"
   ]
  },
  {
   "cell_type": "code",
   "execution_count": null,
   "id": "8ac94c90",
   "metadata": {},
   "outputs": [],
   "source": [
    "# Topic: Classes & Objects\n",
    "class Dog:\n",
    "    def bark(self):\n",
    "        print('Woof!')\n",
    "d = Dog()\n",
    "d.bark()"
   ]
  },
  {
   "cell_type": "code",
   "execution_count": null,
   "id": "53942c20",
   "metadata": {},
   "outputs": [],
   "source": [
    "# Topic: Exceptions\n",
    "try:\n",
    "    print(10/0)\n",
    "except ZeroDivisionError:\n",
    "    print('Cannot divide by zero')"
   ]
  },
  {
   "cell_type": "code",
   "execution_count": null,
   "id": "2ca8c8b0",
   "metadata": {},
   "outputs": [],
   "source": [
    "# Topic: File I/O\n",
    "with open('sample.txt', 'w') as f:\n",
    "    f.write('Hello World')"
   ]
  },
  {
   "cell_type": "code",
   "execution_count": null,
   "id": "18d4caf0",
   "metadata": {},
   "outputs": [],
   "source": [
    "# Topic: Basics\n",
    "x = 7\n",
    "print('Odd' if x % 2 else 'Even')"
   ]
  },
  {
   "cell_type": "code",
   "execution_count": null,
   "id": "09f4ad30",
   "metadata": {},
   "outputs": [],
   "source": [
    "# Topic: Dictionaries & Sets\n",
    "s = {1,2,3}\n",
    "s.add(4)\n",
    "print(s)"
   ]
  },
  {
   "cell_type": "code",
   "execution_count": null,
   "id": "0b5df50f",
   "metadata": {},
   "outputs": [],
   "source": [
    "# Topic: NumPy\n",
    "import numpy as np\n",
    "a = np.array([1,2,3])\n",
    "print(a * 2)"
   ]
  },
  {
   "cell_type": "code",
   "execution_count": null,
   "id": "2f72be8e",
   "metadata": {},
   "outputs": [],
   "source": [
    "# Topic: Classes & Objects\n",
    "class Dog:\n",
    "    def bark(self):\n",
    "        print('Woof!')\n",
    "d = Dog()\n",
    "d.bark()"
   ]
  },
  {
   "cell_type": "code",
   "execution_count": null,
   "id": "50ceb424",
   "metadata": {},
   "outputs": [],
   "source": [
    "# Topic: Recursion\n",
    "def fib(n):\n",
    "    if n <= 1: return n\n",
    "    return fib(n-1) + fib(n-2)\n",
    "print(fib(5))"
   ]
  },
  {
   "cell_type": "code",
   "execution_count": null,
   "id": "6a258520",
   "metadata": {},
   "outputs": [],
   "source": [
    "# Topic: Decorators\n",
    "def decorator(fn):\n",
    "    def wrapper():\n",
    "        print('Before')\n",
    "        fn()\n",
    "        print('After')\n",
    "    return wrapper\n",
    "@decorator\n",
    "def say(): print('Hi')\n",
    "say()"
   ]
  },
  {
   "cell_type": "code",
   "execution_count": null,
   "id": "54861a9e",
   "metadata": {},
   "outputs": [],
   "source": [
    "# Topic: Decorators\n",
    "def decorator(fn):\n",
    "    def wrapper():\n",
    "        print('Before')\n",
    "        fn()\n",
    "        print('After')\n",
    "    return wrapper\n",
    "@decorator\n",
    "def say(): print('Hi')\n",
    "say()"
   ]
  },
  {
   "cell_type": "code",
   "execution_count": null,
   "id": "b7a1385e",
   "metadata": {},
   "outputs": [],
   "source": [
    "# Topic: Matplotlib\n",
    "import matplotlib.pyplot as plt\n",
    "plt.bar(['A','B'], [10,20])\n",
    "plt.show()"
   ]
  },
  {
   "cell_type": "code",
   "execution_count": null,
   "id": "49fccbfc",
   "metadata": {},
   "outputs": [],
   "source": [
    "# Topic: Dictionaries & Sets\n",
    "s = {1,2,3}\n",
    "s.add(4)\n",
    "print(s)"
   ]
  },
  {
   "cell_type": "code",
   "execution_count": null,
   "id": "82ad1a5b",
   "metadata": {},
   "outputs": [],
   "source": [
    "# Topic: File I/O\n",
    "with open('sample.txt', 'w') as f:\n",
    "    f.write('Hello World')"
   ]
  },
  {
   "cell_type": "code",
   "execution_count": null,
   "id": "fd4c36ad",
   "metadata": {},
   "outputs": [],
   "source": [
    "# Topic: Basics\n",
    "name = 'Fahd'\n",
    "print(f'Welcome, {name}')"
   ]
  },
  {
   "cell_type": "code",
   "execution_count": null,
   "id": "c2e6d124",
   "metadata": {},
   "outputs": [],
   "source": [
    "# Topic: Recursion\n",
    "def fib(n):\n",
    "    if n <= 1: return n\n",
    "    return fib(n-1) + fib(n-2)\n",
    "print(fib(5))"
   ]
  },
  {
   "cell_type": "code",
   "execution_count": null,
   "id": "18597a04",
   "metadata": {},
   "outputs": [],
   "source": [
    "# Topic: Functions\n",
    "def factorial(n):\n",
    "    return 1 if n==0 else n * factorial(n-1)\n",
    "print(factorial(5))"
   ]
  },
  {
   "cell_type": "code",
   "execution_count": null,
   "id": "0f709b97",
   "metadata": {},
   "outputs": [],
   "source": [
    "# Topic: Loops\n",
    "i = 0\n",
    "while i < 5:\n",
    "    print(i)\n",
    "    i += 1"
   ]
  },
  {
   "cell_type": "code",
   "execution_count": null,
   "id": "8f9fc074",
   "metadata": {},
   "outputs": [],
   "source": [
    "# Topic: Basics\n",
    "name = 'Fahd'\n",
    "print(f'Welcome, {name}')"
   ]
  },
  {
   "cell_type": "code",
   "execution_count": null,
   "id": "6b647982",
   "metadata": {},
   "outputs": [],
   "source": [
    "# Topic: Classes & Objects\n",
    "class Dog:\n",
    "    def bark(self):\n",
    "        print('Woof!')\n",
    "d = Dog()\n",
    "d.bark()"
   ]
  },
  {
   "cell_type": "code",
   "execution_count": null,
   "id": "f69a0802",
   "metadata": {},
   "outputs": [],
   "source": [
    "# Topic: Lists & Tuples\n",
    "nums = [1,2,3]\n",
    "nums.append(4)\n",
    "print(nums)"
   ]
  },
  {
   "cell_type": "code",
   "execution_count": null,
   "id": "bf7e1cf4",
   "metadata": {},
   "outputs": [],
   "source": [
    "# Topic: Classes & Objects\n",
    "class Dog:\n",
    "    def bark(self):\n",
    "        print('Woof!')\n",
    "d = Dog()\n",
    "d.bark()"
   ]
  },
  {
   "cell_type": "code",
   "execution_count": null,
   "id": "f2e9d670",
   "metadata": {},
   "outputs": [],
   "source": [
    "# Topic: Matplotlib\n",
    "import matplotlib.pyplot as plt\n",
    "plt.plot([1,2],[3,4])\n",
    "plt.show()"
   ]
  },
  {
   "cell_type": "code",
   "execution_count": null,
   "id": "b1f96f1b",
   "metadata": {},
   "outputs": [],
   "source": [
    "# Topic: Dictionaries & Sets\n",
    "d = {'a':1, 'b':2}\n",
    "print(d['a'])"
   ]
  },
  {
   "cell_type": "code",
   "execution_count": null,
   "id": "0053ed71",
   "metadata": {},
   "outputs": [],
   "source": [
    "# Topic: Classes & Objects\n",
    "class Dog:\n",
    "    def bark(self):\n",
    "        print('Woof!')\n",
    "d = Dog()\n",
    "d.bark()"
   ]
  },
  {
   "cell_type": "code",
   "execution_count": null,
   "id": "fa197d98",
   "metadata": {},
   "outputs": [],
   "source": [
    "# Topic: Exceptions\n",
    "try:\n",
    "    print(10/0)\n",
    "except ZeroDivisionError:\n",
    "    print('Cannot divide by zero')"
   ]
  },
  {
   "cell_type": "code",
   "execution_count": null,
   "id": "559459b8",
   "metadata": {},
   "outputs": [],
   "source": [
    "# Topic: Exceptions\n",
    "try:\n",
    "    print(10/0)\n",
    "except ZeroDivisionError:\n",
    "    print('Cannot divide by zero')"
   ]
  },
  {
   "cell_type": "code",
   "execution_count": null,
   "id": "fa9eaf18",
   "metadata": {},
   "outputs": [],
   "source": [
    "# Topic: NumPy\n",
    "import numpy as np\n",
    "a = np.array([1,2,3])\n",
    "print(a * 2)"
   ]
  },
  {
   "cell_type": "code",
   "execution_count": null,
   "id": "77b6f833",
   "metadata": {},
   "outputs": [],
   "source": [
    "# Topic: Lists & Tuples\n",
    "t = (1,2,3)\n",
    "print(t[1])"
   ]
  },
  {
   "cell_type": "code",
   "execution_count": null,
   "id": "aa0f9ad4",
   "metadata": {},
   "outputs": [],
   "source": [
    "# Topic: File I/O\n",
    "with open('sample.txt') as f:\n",
    "    print(f.read())"
   ]
  },
  {
   "cell_type": "code",
   "execution_count": null,
   "id": "c2673c36",
   "metadata": {},
   "outputs": [],
   "source": [
    "# Topic: NumPy\n",
    "import numpy as np\n",
    "a = np.array([1,2,3])\n",
    "print(a * 2)"
   ]
  },
  {
   "cell_type": "code",
   "execution_count": null,
   "id": "18f48bd1",
   "metadata": {},
   "outputs": [],
   "source": [
    "# Topic: Loops\n",
    "for i in range(10): print(i*i)"
   ]
  },
  {
   "cell_type": "code",
   "execution_count": null,
   "id": "a0b20a9f",
   "metadata": {},
   "outputs": [],
   "source": [
    "# Topic: Recursion\n",
    "def fib(n):\n",
    "    if n <= 1: return n\n",
    "    return fib(n-1) + fib(n-2)\n",
    "print(fib(5))"
   ]
  },
  {
   "cell_type": "code",
   "execution_count": null,
   "id": "3ab22155",
   "metadata": {},
   "outputs": [],
   "source": [
    "# Topic: Functions\n",
    "def factorial(n):\n",
    "    return 1 if n==0 else n * factorial(n-1)\n",
    "print(factorial(5))"
   ]
  },
  {
   "cell_type": "code",
   "execution_count": null,
   "id": "37892a8e",
   "metadata": {},
   "outputs": [],
   "source": [
    "# Topic: Dictionaries & Sets\n",
    "d = {'a':1, 'b':2}\n",
    "print(d['a'])"
   ]
  },
  {
   "cell_type": "code",
   "execution_count": null,
   "id": "300cca58",
   "metadata": {},
   "outputs": [],
   "source": [
    "# Topic: Matplotlib\n",
    "import matplotlib.pyplot as plt\n",
    "plt.plot([1,2],[3,4])\n",
    "plt.show()"
   ]
  },
  {
   "cell_type": "code",
   "execution_count": null,
   "id": "4dce0a0a",
   "metadata": {},
   "outputs": [],
   "source": [
    "# Topic: NumPy\n",
    "import numpy as np\n",
    "a = np.array([1,2,3])\n",
    "print(a * 2)"
   ]
  },
  {
   "cell_type": "code",
   "execution_count": null,
   "id": "127b7925",
   "metadata": {},
   "outputs": [],
   "source": [
    "# Topic: Recursion\n",
    "def fib(n):\n",
    "    if n <= 1: return n\n",
    "    return fib(n-1) + fib(n-2)\n",
    "print(fib(5))"
   ]
  },
  {
   "cell_type": "code",
   "execution_count": null,
   "id": "2a704b4b",
   "metadata": {},
   "outputs": [],
   "source": [
    "# Topic: Pandas\n",
    "import pandas as pd\n",
    "df = pd.read_csv('data.csv')\n",
    "print(df.head())"
   ]
  },
  {
   "cell_type": "code",
   "execution_count": null,
   "id": "20fb312f",
   "metadata": {},
   "outputs": [],
   "source": [
    "# Topic: Dictionaries & Sets\n",
    "s = {1,2,3}\n",
    "s.add(4)\n",
    "print(s)"
   ]
  },
  {
   "cell_type": "code",
   "execution_count": null,
   "id": "7b195c40",
   "metadata": {},
   "outputs": [],
   "source": [
    "# Topic: Web Scraping\n",
    "import requests\n",
    "from bs4 import BeautifulSoup\n",
    "r = requests.get('https://example.com')\n",
    "soup = BeautifulSoup(r.text, 'html.parser')\n",
    "print(soup.title.string)"
   ]
  },
  {
   "cell_type": "code",
   "execution_count": null,
   "id": "d2cf785c",
   "metadata": {},
   "outputs": [],
   "source": [
    "# Topic: Classes & Objects\n",
    "class Dog:\n",
    "    def bark(self):\n",
    "        print('Woof!')\n",
    "d = Dog()\n",
    "d.bark()"
   ]
  },
  {
   "cell_type": "code",
   "execution_count": null,
   "id": "c022de42",
   "metadata": {},
   "outputs": [],
   "source": [
    "# Topic: Dictionaries & Sets\n",
    "d = {'a':1, 'b':2}\n",
    "print(d['a'])"
   ]
  },
  {
   "cell_type": "code",
   "execution_count": null,
   "id": "ab711cdf",
   "metadata": {},
   "outputs": [],
   "source": [
    "# Topic: Decorators\n",
    "def decorator(fn):\n",
    "    def wrapper():\n",
    "        print('Before')\n",
    "        fn()\n",
    "        print('After')\n",
    "    return wrapper\n",
    "@decorator\n",
    "def say(): print('Hi')\n",
    "say()"
   ]
  },
  {
   "cell_type": "code",
   "execution_count": null,
   "id": "4e833adb",
   "metadata": {},
   "outputs": [],
   "source": [
    "# Topic: Matplotlib\n",
    "import matplotlib.pyplot as plt\n",
    "plt.plot([1,2],[3,4])\n",
    "plt.show()"
   ]
  },
  {
   "cell_type": "code",
   "execution_count": null,
   "id": "8baaa19e",
   "metadata": {},
   "outputs": [],
   "source": [
    "# Topic: Web Scraping\n",
    "import requests\n",
    "from bs4 import BeautifulSoup\n",
    "r = requests.get('https://example.com')\n",
    "soup = BeautifulSoup(r.text, 'html.parser')\n",
    "print(soup.title.string)"
   ]
  },
  {
   "cell_type": "code",
   "execution_count": null,
   "id": "6518d56f",
   "metadata": {},
   "outputs": [],
   "source": [
    "# Topic: Decorators\n",
    "def decorator(fn):\n",
    "    def wrapper():\n",
    "        print('Before')\n",
    "        fn()\n",
    "        print('After')\n",
    "    return wrapper\n",
    "@decorator\n",
    "def say(): print('Hi')\n",
    "say()"
   ]
  },
  {
   "cell_type": "code",
   "execution_count": null,
   "id": "80275c5b",
   "metadata": {},
   "outputs": [],
   "source": [
    "# Topic: Classes & Objects\n",
    "class Dog:\n",
    "    def bark(self):\n",
    "        print('Woof!')\n",
    "d = Dog()\n",
    "d.bark()"
   ]
  },
  {
   "cell_type": "code",
   "execution_count": null,
   "id": "2da38739",
   "metadata": {},
   "outputs": [],
   "source": [
    "# Topic: Lists & Tuples\n",
    "t = (1,2,3)\n",
    "print(t[1])"
   ]
  },
  {
   "cell_type": "code",
   "execution_count": null,
   "id": "0c1eeef3",
   "metadata": {},
   "outputs": [],
   "source": [
    "# Topic: Web Scraping\n",
    "import requests\n",
    "from bs4 import BeautifulSoup\n",
    "r = requests.get('https://example.com')\n",
    "soup = BeautifulSoup(r.text, 'html.parser')\n",
    "print(soup.title.string)"
   ]
  },
  {
   "cell_type": "code",
   "execution_count": null,
   "id": "16554870",
   "metadata": {},
   "outputs": [],
   "source": [
    "# Topic: Decorators\n",
    "def decorator(fn):\n",
    "    def wrapper():\n",
    "        print('Before')\n",
    "        fn()\n",
    "        print('After')\n",
    "    return wrapper\n",
    "@decorator\n",
    "def say(): print('Hi')\n",
    "say()"
   ]
  },
  {
   "cell_type": "code",
   "execution_count": null,
   "id": "51a7b5f3",
   "metadata": {},
   "outputs": [],
   "source": [
    "# Topic: Recursion\n",
    "def fib(n):\n",
    "    if n <= 1: return n\n",
    "    return fib(n-1) + fib(n-2)\n",
    "print(fib(5))"
   ]
  },
  {
   "cell_type": "code",
   "execution_count": null,
   "id": "e93e8fa0",
   "metadata": {},
   "outputs": [],
   "source": [
    "# Topic: Web Scraping\n",
    "import requests\n",
    "from bs4 import BeautifulSoup\n",
    "r = requests.get('https://example.com')\n",
    "soup = BeautifulSoup(r.text, 'html.parser')\n",
    "print(soup.title.string)"
   ]
  },
  {
   "cell_type": "code",
   "execution_count": null,
   "id": "89fe2875",
   "metadata": {},
   "outputs": [],
   "source": [
    "# Topic: File I/O\n",
    "with open('sample.txt', 'w') as f:\n",
    "    f.write('Hello World')"
   ]
  },
  {
   "cell_type": "code",
   "execution_count": null,
   "id": "910d5333",
   "metadata": {},
   "outputs": [],
   "source": [
    "# Topic: Pandas\n",
    "import pandas as pd\n",
    "df = pd.read_csv('data.csv')\n",
    "print(df.head())"
   ]
  },
  {
   "cell_type": "code",
   "execution_count": null,
   "id": "13569130",
   "metadata": {},
   "outputs": [],
   "source": [
    "# Topic: Recursion\n",
    "def fib(n):\n",
    "    if n <= 1: return n\n",
    "    return fib(n-1) + fib(n-2)\n",
    "print(fib(5))"
   ]
  },
  {
   "cell_type": "code",
   "execution_count": null,
   "id": "ad37c919",
   "metadata": {},
   "outputs": [],
   "source": [
    "# Topic: Dictionaries & Sets\n",
    "d = {'a':1, 'b':2}\n",
    "print(d['a'])"
   ]
  },
  {
   "cell_type": "code",
   "execution_count": null,
   "id": "cbc21718",
   "metadata": {},
   "outputs": [],
   "source": [
    "# Topic: Recursion\n",
    "def fib(n):\n",
    "    if n <= 1: return n\n",
    "    return fib(n-1) + fib(n-2)\n",
    "print(fib(5))"
   ]
  },
  {
   "cell_type": "code",
   "execution_count": null,
   "id": "806e25b9",
   "metadata": {},
   "outputs": [],
   "source": [
    "# Topic: Lists & Tuples\n",
    "t = (1,2,3)\n",
    "print(t[1])"
   ]
  },
  {
   "cell_type": "code",
   "execution_count": null,
   "id": "c4cceebf",
   "metadata": {},
   "outputs": [],
   "source": [
    "# Topic: Functions\n",
    "def add(a, b): return a + b\n",
    "print(add(3, 4))"
   ]
  },
  {
   "cell_type": "code",
   "execution_count": null,
   "id": "dee4ebd4",
   "metadata": {},
   "outputs": [],
   "source": [
    "# Topic: Exceptions\n",
    "try:\n",
    "    print(10/0)\n",
    "except ZeroDivisionError:\n",
    "    print('Cannot divide by zero')"
   ]
  },
  {
   "cell_type": "code",
   "execution_count": null,
   "id": "85881edc",
   "metadata": {},
   "outputs": [],
   "source": [
    "# Topic: Basics\n",
    "name = 'Fahd'\n",
    "print(f'Welcome, {name}')"
   ]
  },
  {
   "cell_type": "code",
   "execution_count": null,
   "id": "6a865539",
   "metadata": {},
   "outputs": [],
   "source": [
    "# Topic: Classes & Objects\n",
    "class Dog:\n",
    "    def bark(self):\n",
    "        print('Woof!')\n",
    "d = Dog()\n",
    "d.bark()"
   ]
  },
  {
   "cell_type": "code",
   "execution_count": null,
   "id": "283d8b2a",
   "metadata": {},
   "outputs": [],
   "source": [
    "# Topic: Decorators\n",
    "def decorator(fn):\n",
    "    def wrapper():\n",
    "        print('Before')\n",
    "        fn()\n",
    "        print('After')\n",
    "    return wrapper\n",
    "@decorator\n",
    "def say(): print('Hi')\n",
    "say()"
   ]
  },
  {
   "cell_type": "code",
   "execution_count": null,
   "id": "0ea1b1a1",
   "metadata": {},
   "outputs": [],
   "source": [
    "# Topic: Decorators\n",
    "def decorator(fn):\n",
    "    def wrapper():\n",
    "        print('Before')\n",
    "        fn()\n",
    "        print('After')\n",
    "    return wrapper\n",
    "@decorator\n",
    "def say(): print('Hi')\n",
    "say()"
   ]
  },
  {
   "cell_type": "code",
   "execution_count": null,
   "id": "9a239b32",
   "metadata": {},
   "outputs": [],
   "source": [
    "# Topic: Basics\n",
    "a = 5\n",
    "b = 3\n",
    "print(a * b)"
   ]
  },
  {
   "cell_type": "code",
   "execution_count": null,
   "id": "c66bbb3e",
   "metadata": {},
   "outputs": [],
   "source": [
    "# Topic: Loops\n",
    "for i in range(10): print(i*i)"
   ]
  },
  {
   "cell_type": "code",
   "execution_count": null,
   "id": "50f53b0b",
   "metadata": {},
   "outputs": [],
   "source": [
    "# Topic: Loops\n",
    "for i in range(10): print(i*i)"
   ]
  },
  {
   "cell_type": "code",
   "execution_count": null,
   "id": "49bc6748",
   "metadata": {},
   "outputs": [],
   "source": [
    "# Topic: Recursion\n",
    "def fib(n):\n",
    "    if n <= 1: return n\n",
    "    return fib(n-1) + fib(n-2)\n",
    "print(fib(5))"
   ]
  },
  {
   "cell_type": "code",
   "execution_count": null,
   "id": "fc16db8f",
   "metadata": {},
   "outputs": [],
   "source": [
    "# Topic: Exceptions\n",
    "try:\n",
    "    print(10/0)\n",
    "except ZeroDivisionError:\n",
    "    print('Cannot divide by zero')"
   ]
  },
  {
   "cell_type": "code",
   "execution_count": null,
   "id": "a0df154d",
   "metadata": {},
   "outputs": [],
   "source": [
    "# Topic: Web Scraping\n",
    "import requests\n",
    "from bs4 import BeautifulSoup\n",
    "r = requests.get('https://example.com')\n",
    "soup = BeautifulSoup(r.text, 'html.parser')\n",
    "print(soup.title.string)"
   ]
  },
  {
   "cell_type": "code",
   "execution_count": null,
   "id": "c8cb5edc",
   "metadata": {},
   "outputs": [],
   "source": [
    "# Topic: Loops\n",
    "i = 0\n",
    "while i < 5:\n",
    "    print(i)\n",
    "    i += 1"
   ]
  },
  {
   "cell_type": "code",
   "execution_count": null,
   "id": "3bc42e5f",
   "metadata": {},
   "outputs": [],
   "source": [
    "# Topic: Mini Projects\n",
    "# Palindrome checker\n",
    "def is_palindrome(s):\n",
    " return s == s[::-1]\n",
    "print(is_palindrome('madam'))"
   ]
  },
  {
   "cell_type": "code",
   "execution_count": null,
   "id": "2809b56e",
   "metadata": {},
   "outputs": [],
   "source": [
    "# Topic: Web Scraping\n",
    "import requests\n",
    "from bs4 import BeautifulSoup\n",
    "r = requests.get('https://example.com')\n",
    "soup = BeautifulSoup(r.text, 'html.parser')\n",
    "print(soup.title.string)"
   ]
  },
  {
   "cell_type": "code",
   "execution_count": null,
   "id": "dd6919bb",
   "metadata": {},
   "outputs": [],
   "source": [
    "# Topic: Basics\n",
    "name = 'Fahd'\n",
    "print(f'Welcome, {name}')"
   ]
  },
  {
   "cell_type": "code",
   "execution_count": null,
   "id": "a39256d1",
   "metadata": {},
   "outputs": [],
   "source": [
    "# Topic: Decorators\n",
    "def decorator(fn):\n",
    "    def wrapper():\n",
    "        print('Before')\n",
    "        fn()\n",
    "        print('After')\n",
    "    return wrapper\n",
    "@decorator\n",
    "def say(): print('Hi')\n",
    "say()"
   ]
  },
  {
   "cell_type": "code",
   "execution_count": null,
   "id": "cdad4f16",
   "metadata": {},
   "outputs": [],
   "source": [
    "# Topic: Web Scraping\n",
    "import requests\n",
    "from bs4 import BeautifulSoup\n",
    "r = requests.get('https://example.com')\n",
    "soup = BeautifulSoup(r.text, 'html.parser')\n",
    "print(soup.title.string)"
   ]
  },
  {
   "cell_type": "code",
   "execution_count": null,
   "id": "59d785c1",
   "metadata": {},
   "outputs": [],
   "source": [
    "# Topic: Dictionaries & Sets\n",
    "d = {'a':1, 'b':2}\n",
    "print(d['a'])"
   ]
  },
  {
   "cell_type": "code",
   "execution_count": null,
   "id": "a30505e8",
   "metadata": {},
   "outputs": [],
   "source": [
    "# Topic: Decorators\n",
    "def decorator(fn):\n",
    "    def wrapper():\n",
    "        print('Before')\n",
    "        fn()\n",
    "        print('After')\n",
    "    return wrapper\n",
    "@decorator\n",
    "def say(): print('Hi')\n",
    "say()"
   ]
  },
  {
   "cell_type": "code",
   "execution_count": null,
   "id": "bb8e3f20",
   "metadata": {},
   "outputs": [],
   "source": [
    "# Topic: Mini Projects\n",
    "# Simple calculator\n",
    "def calc(a,b,op):\n",
    " if op=='+': return a+b\n",
    " elif op=='-': return a-b\n",
    "print(calc(10,5,'+'))"
   ]
  },
  {
   "cell_type": "code",
   "execution_count": null,
   "id": "42c0b8a6",
   "metadata": {},
   "outputs": [],
   "source": [
    "# Topic: File I/O\n",
    "with open('sample.txt') as f:\n",
    "    print(f.read())"
   ]
  },
  {
   "cell_type": "code",
   "execution_count": null,
   "id": "2a92732a",
   "metadata": {},
   "outputs": [],
   "source": [
    "# Topic: File I/O\n",
    "with open('sample.txt') as f:\n",
    "    print(f.read())"
   ]
  },
  {
   "cell_type": "code",
   "execution_count": null,
   "id": "97e041da",
   "metadata": {},
   "outputs": [],
   "source": [
    "# Topic: Lists & Tuples\n",
    "t = (1,2,3)\n",
    "print(t[1])"
   ]
  },
  {
   "cell_type": "code",
   "execution_count": null,
   "id": "2f6ea7a3",
   "metadata": {},
   "outputs": [],
   "source": [
    "# Topic: Basics\n",
    "name = 'Fahd'\n",
    "print(f'Welcome, {name}')"
   ]
  },
  {
   "cell_type": "code",
   "execution_count": null,
   "id": "2bcbe5ed",
   "metadata": {},
   "outputs": [],
   "source": [
    "# Topic: Exceptions\n",
    "try:\n",
    "    print(10/0)\n",
    "except ZeroDivisionError:\n",
    "    print('Cannot divide by zero')"
   ]
  },
  {
   "cell_type": "code",
   "execution_count": null,
   "id": "3605a54b",
   "metadata": {},
   "outputs": [],
   "source": [
    "# Topic: Lists & Tuples\n",
    "nums = [1,2,3]\n",
    "nums.append(4)\n",
    "print(nums)"
   ]
  },
  {
   "cell_type": "code",
   "execution_count": null,
   "id": "b5d77eac",
   "metadata": {},
   "outputs": [],
   "source": [
    "# Topic: Decorators\n",
    "def decorator(fn):\n",
    "    def wrapper():\n",
    "        print('Before')\n",
    "        fn()\n",
    "        print('After')\n",
    "    return wrapper\n",
    "@decorator\n",
    "def say(): print('Hi')\n",
    "say()"
   ]
  },
  {
   "cell_type": "code",
   "execution_count": null,
   "id": "872ef5c2",
   "metadata": {},
   "outputs": [],
   "source": [
    "# Topic: File I/O\n",
    "with open('sample.txt', 'w') as f:\n",
    "    f.write('Hello World')"
   ]
  },
  {
   "cell_type": "code",
   "execution_count": null,
   "id": "32883fc3",
   "metadata": {},
   "outputs": [],
   "source": [
    "# Topic: Decorators\n",
    "def decorator(fn):\n",
    "    def wrapper():\n",
    "        print('Before')\n",
    "        fn()\n",
    "        print('After')\n",
    "    return wrapper\n",
    "@decorator\n",
    "def say(): print('Hi')\n",
    "say()"
   ]
  },
  {
   "cell_type": "code",
   "execution_count": null,
   "id": "274d576b",
   "metadata": {},
   "outputs": [],
   "source": [
    "# Topic: File I/O\n",
    "with open('sample.txt', 'w') as f:\n",
    "    f.write('Hello World')"
   ]
  },
  {
   "cell_type": "code",
   "execution_count": null,
   "id": "bf15ae41",
   "metadata": {},
   "outputs": [],
   "source": [
    "# Topic: Loops\n",
    "for i in range(10): print(i*i)"
   ]
  },
  {
   "cell_type": "code",
   "execution_count": null,
   "id": "e02dea6d",
   "metadata": {},
   "outputs": [],
   "source": [
    "# Topic: File I/O\n",
    "with open('sample.txt') as f:\n",
    "    print(f.read())"
   ]
  },
  {
   "cell_type": "code",
   "execution_count": null,
   "id": "01e0b049",
   "metadata": {},
   "outputs": [],
   "source": [
    "# Topic: Basics\n",
    "name = 'Fahd'\n",
    "print(f'Welcome, {name}')"
   ]
  },
  {
   "cell_type": "code",
   "execution_count": null,
   "id": "dd59c0d2",
   "metadata": {},
   "outputs": [],
   "source": [
    "# Topic: Matplotlib\n",
    "import matplotlib.pyplot as plt\n",
    "plt.bar(['A','B'], [10,20])\n",
    "plt.show()"
   ]
  },
  {
   "cell_type": "code",
   "execution_count": null,
   "id": "df5e5583",
   "metadata": {},
   "outputs": [],
   "source": [
    "# Topic: Recursion\n",
    "def fib(n):\n",
    "    if n <= 1: return n\n",
    "    return fib(n-1) + fib(n-2)\n",
    "print(fib(5))"
   ]
  },
  {
   "cell_type": "code",
   "execution_count": null,
   "id": "3221d227",
   "metadata": {},
   "outputs": [],
   "source": [
    "# Topic: Loops\n",
    "i = 0\n",
    "while i < 5:\n",
    "    print(i)\n",
    "    i += 1"
   ]
  },
  {
   "cell_type": "code",
   "execution_count": null,
   "id": "be84d0bf",
   "metadata": {},
   "outputs": [],
   "source": [
    "# Topic: File I/O\n",
    "with open('sample.txt') as f:\n",
    "    print(f.read())"
   ]
  },
  {
   "cell_type": "code",
   "execution_count": null,
   "id": "2126fca2",
   "metadata": {},
   "outputs": [],
   "source": [
    "# Topic: Functions\n",
    "def add(a, b): return a + b\n",
    "print(add(3, 4))"
   ]
  },
  {
   "cell_type": "code",
   "execution_count": null,
   "id": "617c10b5",
   "metadata": {},
   "outputs": [],
   "source": [
    "# Topic: Pandas\n",
    "import pandas as pd\n",
    "df = pd.read_csv('data.csv')\n",
    "print(df.head())"
   ]
  },
  {
   "cell_type": "code",
   "execution_count": null,
   "id": "fa7cc76b",
   "metadata": {},
   "outputs": [],
   "source": [
    "# Topic: Exceptions\n",
    "try:\n",
    "    print(10/0)\n",
    "except ZeroDivisionError:\n",
    "    print('Cannot divide by zero')"
   ]
  },
  {
   "cell_type": "code",
   "execution_count": null,
   "id": "b3624933",
   "metadata": {},
   "outputs": [],
   "source": [
    "# Topic: NumPy\n",
    "import numpy as np\n",
    "a = np.array([1,2,3])\n",
    "print(a * 2)"
   ]
  },
  {
   "cell_type": "code",
   "execution_count": null,
   "id": "1541c517",
   "metadata": {},
   "outputs": [],
   "source": [
    "# Topic: Lists & Tuples\n",
    "nums = [1,2,3]\n",
    "nums.append(4)\n",
    "print(nums)"
   ]
  },
  {
   "cell_type": "code",
   "execution_count": null,
   "id": "780d8686",
   "metadata": {},
   "outputs": [],
   "source": [
    "# Topic: Pandas\n",
    "import pandas as pd\n",
    "df = pd.DataFrame({'A':[1,2],'B':[3,4]})\n",
    "print(df)"
   ]
  },
  {
   "cell_type": "code",
   "execution_count": null,
   "id": "c5ea3fad",
   "metadata": {},
   "outputs": [],
   "source": [
    "# Topic: Classes & Objects\n",
    "class Dog:\n",
    "    def bark(self):\n",
    "        print('Woof!')\n",
    "d = Dog()\n",
    "d.bark()"
   ]
  },
  {
   "cell_type": "code",
   "execution_count": null,
   "id": "149bb881",
   "metadata": {},
   "outputs": [],
   "source": [
    "# Topic: Exceptions\n",
    "try:\n",
    "    print(10/0)\n",
    "except ZeroDivisionError:\n",
    "    print('Cannot divide by zero')"
   ]
  },
  {
   "cell_type": "code",
   "execution_count": null,
   "id": "6a3717cd",
   "metadata": {},
   "outputs": [],
   "source": [
    "# Topic: Exceptions\n",
    "try:\n",
    "    print(10/0)\n",
    "except ZeroDivisionError:\n",
    "    print('Cannot divide by zero')"
   ]
  },
  {
   "cell_type": "code",
   "execution_count": null,
   "id": "c5691297",
   "metadata": {},
   "outputs": [],
   "source": [
    "# Topic: Mini Projects\n",
    "# Simple calculator\n",
    "def calc(a,b,op):\n",
    " if op=='+': return a+b\n",
    " elif op=='-': return a-b\n",
    "print(calc(10,5,'+'))"
   ]
  },
  {
   "cell_type": "code",
   "execution_count": null,
   "id": "9f6e3ffb",
   "metadata": {},
   "outputs": [],
   "source": [
    "# Topic: Matplotlib\n",
    "import matplotlib.pyplot as plt\n",
    "plt.bar(['A','B'], [10,20])\n",
    "plt.show()"
   ]
  },
  {
   "cell_type": "code",
   "execution_count": null,
   "id": "448b61dc",
   "metadata": {},
   "outputs": [],
   "source": [
    "# Topic: Loops\n",
    "for i in range(10): print(i*i)"
   ]
  },
  {
   "cell_type": "code",
   "execution_count": null,
   "id": "f3ac2c72",
   "metadata": {},
   "outputs": [],
   "source": [
    "# Topic: File I/O\n",
    "with open('sample.txt') as f:\n",
    "    print(f.read())"
   ]
  },
  {
   "cell_type": "code",
   "execution_count": null,
   "id": "30a0a9a3",
   "metadata": {},
   "outputs": [],
   "source": [
    "# Topic: Lists & Tuples\n",
    "t = (1,2,3)\n",
    "print(t[1])"
   ]
  },
  {
   "cell_type": "code",
   "execution_count": null,
   "id": "8cb2db43",
   "metadata": {},
   "outputs": [],
   "source": [
    "# Topic: File I/O\n",
    "with open('sample.txt') as f:\n",
    "    print(f.read())"
   ]
  },
  {
   "cell_type": "code",
   "execution_count": null,
   "id": "c48900fa",
   "metadata": {},
   "outputs": [],
   "source": [
    "# Topic: File I/O\n",
    "with open('sample.txt') as f:\n",
    "    print(f.read())"
   ]
  },
  {
   "cell_type": "code",
   "execution_count": null,
   "id": "ddab8ba3",
   "metadata": {},
   "outputs": [],
   "source": [
    "# Topic: Dictionaries & Sets\n",
    "d = {'a':1, 'b':2}\n",
    "print(d['a'])"
   ]
  },
  {
   "cell_type": "code",
   "execution_count": null,
   "id": "2034e5e7",
   "metadata": {},
   "outputs": [],
   "source": [
    "# Topic: Decorators\n",
    "def decorator(fn):\n",
    "    def wrapper():\n",
    "        print('Before')\n",
    "        fn()\n",
    "        print('After')\n",
    "    return wrapper\n",
    "@decorator\n",
    "def say(): print('Hi')\n",
    "say()"
   ]
  },
  {
   "cell_type": "code",
   "execution_count": null,
   "id": "6041969a",
   "metadata": {},
   "outputs": [],
   "source": [
    "# Topic: Decorators\n",
    "def decorator(fn):\n",
    "    def wrapper():\n",
    "        print('Before')\n",
    "        fn()\n",
    "        print('After')\n",
    "    return wrapper\n",
    "@decorator\n",
    "def say(): print('Hi')\n",
    "say()"
   ]
  },
  {
   "cell_type": "code",
   "execution_count": null,
   "id": "bd219dd8",
   "metadata": {},
   "outputs": [],
   "source": [
    "# Topic: File I/O\n",
    "with open('sample.txt') as f:\n",
    "    print(f.read())"
   ]
  },
  {
   "cell_type": "code",
   "execution_count": null,
   "id": "6141d551",
   "metadata": {},
   "outputs": [],
   "source": [
    "# Topic: Recursion\n",
    "def fib(n):\n",
    "    if n <= 1: return n\n",
    "    return fib(n-1) + fib(n-2)\n",
    "print(fib(5))"
   ]
  },
  {
   "cell_type": "code",
   "execution_count": null,
   "id": "73356338",
   "metadata": {},
   "outputs": [],
   "source": [
    "# Topic: Pandas\n",
    "import pandas as pd\n",
    "df = pd.read_csv('data.csv')\n",
    "print(df.head())"
   ]
  },
  {
   "cell_type": "code",
   "execution_count": null,
   "id": "47b4d7d2",
   "metadata": {},
   "outputs": [],
   "source": [
    "# Topic: Recursion\n",
    "def fib(n):\n",
    "    if n <= 1: return n\n",
    "    return fib(n-1) + fib(n-2)\n",
    "print(fib(5))"
   ]
  },
  {
   "cell_type": "code",
   "execution_count": null,
   "id": "ef17d8bb",
   "metadata": {},
   "outputs": [],
   "source": [
    "# Topic: Classes & Objects\n",
    "class Dog:\n",
    "    def bark(self):\n",
    "        print('Woof!')\n",
    "d = Dog()\n",
    "d.bark()"
   ]
  },
  {
   "cell_type": "code",
   "execution_count": null,
   "id": "0b6284fd",
   "metadata": {},
   "outputs": [],
   "source": [
    "# Topic: Basics\n",
    "x = 7\n",
    "print('Odd' if x % 2 else 'Even')"
   ]
  },
  {
   "cell_type": "code",
   "execution_count": null,
   "id": "005bf854",
   "metadata": {},
   "outputs": [],
   "source": [
    "# Topic: Matplotlib\n",
    "import matplotlib.pyplot as plt\n",
    "plt.plot([1,2],[3,4])\n",
    "plt.show()"
   ]
  },
  {
   "cell_type": "code",
   "execution_count": null,
   "id": "5b2b5e03",
   "metadata": {},
   "outputs": [],
   "source": [
    "# Topic: Mini Projects\n",
    "# Simple calculator\n",
    "def calc(a,b,op):\n",
    " if op=='+': return a+b\n",
    " elif op=='-': return a-b\n",
    "print(calc(10,5,'+'))"
   ]
  },
  {
   "cell_type": "code",
   "execution_count": null,
   "id": "c5294dbe",
   "metadata": {},
   "outputs": [],
   "source": [
    "# Topic: Lists & Tuples\n",
    "nums = [1,2,3]\n",
    "nums.append(4)\n",
    "print(nums)"
   ]
  },
  {
   "cell_type": "code",
   "execution_count": null,
   "id": "bbca4bdf",
   "metadata": {},
   "outputs": [],
   "source": [
    "# Topic: Matplotlib\n",
    "import matplotlib.pyplot as plt\n",
    "plt.plot([1,2],[3,4])\n",
    "plt.show()"
   ]
  },
  {
   "cell_type": "code",
   "execution_count": null,
   "id": "f911b6ab",
   "metadata": {},
   "outputs": [],
   "source": [
    "# Topic: Matplotlib\n",
    "import matplotlib.pyplot as plt\n",
    "plt.plot([1,2],[3,4])\n",
    "plt.show()"
   ]
  },
  {
   "cell_type": "code",
   "execution_count": null,
   "id": "751e387e",
   "metadata": {},
   "outputs": [],
   "source": [
    "# Topic: Lists & Tuples\n",
    "t = (1,2,3)\n",
    "print(t[1])"
   ]
  },
  {
   "cell_type": "code",
   "execution_count": null,
   "id": "a1aca78f",
   "metadata": {},
   "outputs": [],
   "source": [
    "# Topic: File I/O\n",
    "with open('sample.txt') as f:\n",
    "    print(f.read())"
   ]
  },
  {
   "cell_type": "code",
   "execution_count": null,
   "id": "fd9f6794",
   "metadata": {},
   "outputs": [],
   "source": [
    "# Topic: Classes & Objects\n",
    "class Dog:\n",
    "    def bark(self):\n",
    "        print('Woof!')\n",
    "d = Dog()\n",
    "d.bark()"
   ]
  },
  {
   "cell_type": "code",
   "execution_count": null,
   "id": "7fe3a276",
   "metadata": {},
   "outputs": [],
   "source": [
    "# Topic: Basics\n",
    "name = 'Fahd'\n",
    "print(f'Welcome, {name}')"
   ]
  },
  {
   "cell_type": "code",
   "execution_count": null,
   "id": "71ae5af1",
   "metadata": {},
   "outputs": [],
   "source": [
    "# Topic: Matplotlib\n",
    "import matplotlib.pyplot as plt\n",
    "plt.plot([1,2],[3,4])\n",
    "plt.show()"
   ]
  },
  {
   "cell_type": "code",
   "execution_count": null,
   "id": "a723584c",
   "metadata": {},
   "outputs": [],
   "source": [
    "# Topic: File I/O\n",
    "with open('sample.txt', 'w') as f:\n",
    "    f.write('Hello World')"
   ]
  },
  {
   "cell_type": "code",
   "execution_count": null,
   "id": "35455aab",
   "metadata": {},
   "outputs": [],
   "source": [
    "# Topic: Loops\n",
    "i = 0\n",
    "while i < 5:\n",
    "    print(i)\n",
    "    i += 1"
   ]
  },
  {
   "cell_type": "code",
   "execution_count": null,
   "id": "923db2ec",
   "metadata": {},
   "outputs": [],
   "source": [
    "# Topic: Basics\n",
    "x = 7\n",
    "print('Odd' if x % 2 else 'Even')"
   ]
  },
  {
   "cell_type": "code",
   "execution_count": null,
   "id": "229d6e32",
   "metadata": {},
   "outputs": [],
   "source": [
    "# Topic: Functions\n",
    "def add(a, b): return a + b\n",
    "print(add(3, 4))"
   ]
  },
  {
   "cell_type": "code",
   "execution_count": null,
   "id": "3d87b4af",
   "metadata": {},
   "outputs": [],
   "source": [
    "# Topic: Lists & Tuples\n",
    "nums = [1,2,3]\n",
    "nums.append(4)\n",
    "print(nums)"
   ]
  },
  {
   "cell_type": "code",
   "execution_count": null,
   "id": "908129cf",
   "metadata": {},
   "outputs": [],
   "source": [
    "# Topic: Classes & Objects\n",
    "class Dog:\n",
    "    def bark(self):\n",
    "        print('Woof!')\n",
    "d = Dog()\n",
    "d.bark()"
   ]
  },
  {
   "cell_type": "code",
   "execution_count": null,
   "id": "7274151c",
   "metadata": {},
   "outputs": [],
   "source": [
    "# Topic: Basics\n",
    "name = 'Fahd'\n",
    "print(f'Welcome, {name}')"
   ]
  },
  {
   "cell_type": "code",
   "execution_count": null,
   "id": "dc436051",
   "metadata": {},
   "outputs": [],
   "source": [
    "# Topic: NumPy\n",
    "import numpy as np\n",
    "print(np.arange(0, 10, 2))"
   ]
  },
  {
   "cell_type": "code",
   "execution_count": null,
   "id": "ff3d29d2",
   "metadata": {},
   "outputs": [],
   "source": [
    "# Topic: Exceptions\n",
    "try:\n",
    "    print(10/0)\n",
    "except ZeroDivisionError:\n",
    "    print('Cannot divide by zero')"
   ]
  },
  {
   "cell_type": "code",
   "execution_count": null,
   "id": "ec150363",
   "metadata": {},
   "outputs": [],
   "source": [
    "# Topic: Dictionaries & Sets\n",
    "s = {1,2,3}\n",
    "s.add(4)\n",
    "print(s)"
   ]
  },
  {
   "cell_type": "code",
   "execution_count": null,
   "id": "78302abd",
   "metadata": {},
   "outputs": [],
   "source": [
    "# Topic: Exceptions\n",
    "try:\n",
    "    print(10/0)\n",
    "except ZeroDivisionError:\n",
    "    print('Cannot divide by zero')"
   ]
  },
  {
   "cell_type": "code",
   "execution_count": null,
   "id": "330c697a",
   "metadata": {},
   "outputs": [],
   "source": [
    "# Topic: Dictionaries & Sets\n",
    "d = {'a':1, 'b':2}\n",
    "print(d['a'])"
   ]
  },
  {
   "cell_type": "code",
   "execution_count": null,
   "id": "33c48c3c",
   "metadata": {},
   "outputs": [],
   "source": [
    "# Topic: Matplotlib\n",
    "import matplotlib.pyplot as plt\n",
    "plt.bar(['A','B'], [10,20])\n",
    "plt.show()"
   ]
  },
  {
   "cell_type": "code",
   "execution_count": null,
   "id": "10da1538",
   "metadata": {},
   "outputs": [],
   "source": [
    "# Topic: Mini Projects\n",
    "# Simple calculator\n",
    "def calc(a,b,op):\n",
    " if op=='+': return a+b\n",
    " elif op=='-': return a-b\n",
    "print(calc(10,5,'+'))"
   ]
  },
  {
   "cell_type": "code",
   "execution_count": null,
   "id": "e78b328b",
   "metadata": {},
   "outputs": [],
   "source": [
    "# Topic: Mini Projects\n",
    "# Palindrome checker\n",
    "def is_palindrome(s):\n",
    " return s == s[::-1]\n",
    "print(is_palindrome('madam'))"
   ]
  },
  {
   "cell_type": "code",
   "execution_count": null,
   "id": "dfb54fa0",
   "metadata": {},
   "outputs": [],
   "source": [
    "# Topic: Dictionaries & Sets\n",
    "d = {'a':1, 'b':2}\n",
    "print(d['a'])"
   ]
  },
  {
   "cell_type": "code",
   "execution_count": null,
   "id": "4908a94f",
   "metadata": {},
   "outputs": [],
   "source": [
    "# Topic: Functions\n",
    "def factorial(n):\n",
    "    return 1 if n==0 else n * factorial(n-1)\n",
    "print(factorial(5))"
   ]
  },
  {
   "cell_type": "code",
   "execution_count": null,
   "id": "608331cd",
   "metadata": {},
   "outputs": [],
   "source": [
    "# Topic: Web Scraping\n",
    "import requests\n",
    "from bs4 import BeautifulSoup\n",
    "r = requests.get('https://example.com')\n",
    "soup = BeautifulSoup(r.text, 'html.parser')\n",
    "print(soup.title.string)"
   ]
  },
  {
   "cell_type": "code",
   "execution_count": null,
   "id": "102a6426",
   "metadata": {},
   "outputs": [],
   "source": [
    "# Topic: Lists & Tuples\n",
    "t = (1,2,3)\n",
    "print(t[1])"
   ]
  },
  {
   "cell_type": "code",
   "execution_count": null,
   "id": "e12e79c5",
   "metadata": {},
   "outputs": [],
   "source": [
    "# Topic: Web Scraping\n",
    "import requests\n",
    "from bs4 import BeautifulSoup\n",
    "r = requests.get('https://example.com')\n",
    "soup = BeautifulSoup(r.text, 'html.parser')\n",
    "print(soup.title.string)"
   ]
  },
  {
   "cell_type": "code",
   "execution_count": null,
   "id": "cb4626ad",
   "metadata": {},
   "outputs": [],
   "source": [
    "# Topic: Basics\n",
    "a = 5\n",
    "b = 3\n",
    "print(a * b)"
   ]
  },
  {
   "cell_type": "code",
   "execution_count": null,
   "id": "df4179e6",
   "metadata": {},
   "outputs": [],
   "source": [
    "# Topic: Basics\n",
    "name = 'Fahd'\n",
    "print(f'Welcome, {name}')"
   ]
  },
  {
   "cell_type": "code",
   "execution_count": null,
   "id": "92ed1034",
   "metadata": {},
   "outputs": [],
   "source": [
    "# Topic: Mini Projects\n",
    "# Palindrome checker\n",
    "def is_palindrome(s):\n",
    " return s == s[::-1]\n",
    "print(is_palindrome('madam'))"
   ]
  },
  {
   "cell_type": "code",
   "execution_count": null,
   "id": "07b2981e",
   "metadata": {},
   "outputs": [],
   "source": [
    "# Topic: Lists & Tuples\n",
    "t = (1,2,3)\n",
    "print(t[1])"
   ]
  },
  {
   "cell_type": "code",
   "execution_count": null,
   "id": "ce4b2c2c",
   "metadata": {},
   "outputs": [],
   "source": [
    "# Topic: Basics\n",
    "a = 5\n",
    "b = 3\n",
    "print(a * b)"
   ]
  },
  {
   "cell_type": "code",
   "execution_count": null,
   "id": "4324aa3d",
   "metadata": {},
   "outputs": [],
   "source": [
    "# Topic: NumPy\n",
    "import numpy as np\n",
    "print(np.arange(0, 10, 2))"
   ]
  },
  {
   "cell_type": "code",
   "execution_count": null,
   "id": "3a1659d4",
   "metadata": {},
   "outputs": [],
   "source": [
    "# Topic: Matplotlib\n",
    "import matplotlib.pyplot as plt\n",
    "plt.bar(['A','B'], [10,20])\n",
    "plt.show()"
   ]
  },
  {
   "cell_type": "code",
   "execution_count": null,
   "id": "269d02fe",
   "metadata": {},
   "outputs": [],
   "source": [
    "# Topic: Dictionaries & Sets\n",
    "d = {'a':1, 'b':2}\n",
    "print(d['a'])"
   ]
  },
  {
   "cell_type": "code",
   "execution_count": null,
   "id": "666b050b",
   "metadata": {},
   "outputs": [],
   "source": [
    "# Topic: Exceptions\n",
    "try:\n",
    "    print(10/0)\n",
    "except ZeroDivisionError:\n",
    "    print('Cannot divide by zero')"
   ]
  },
  {
   "cell_type": "code",
   "execution_count": null,
   "id": "7ecd68c2",
   "metadata": {},
   "outputs": [],
   "source": [
    "# Topic: Dictionaries & Sets\n",
    "d = {'a':1, 'b':2}\n",
    "print(d['a'])"
   ]
  },
  {
   "cell_type": "code",
   "execution_count": null,
   "id": "b842d6d7",
   "metadata": {},
   "outputs": [],
   "source": [
    "# Topic: Matplotlib\n",
    "import matplotlib.pyplot as plt\n",
    "plt.bar(['A','B'], [10,20])\n",
    "plt.show()"
   ]
  },
  {
   "cell_type": "code",
   "execution_count": null,
   "id": "f3cc6ede",
   "metadata": {},
   "outputs": [],
   "source": [
    "# Topic: Matplotlib\n",
    "import matplotlib.pyplot as plt\n",
    "plt.plot([1,2],[3,4])\n",
    "plt.show()"
   ]
  },
  {
   "cell_type": "code",
   "execution_count": null,
   "id": "b341ea64",
   "metadata": {},
   "outputs": [],
   "source": [
    "# Topic: Decorators\n",
    "def decorator(fn):\n",
    "    def wrapper():\n",
    "        print('Before')\n",
    "        fn()\n",
    "        print('After')\n",
    "    return wrapper\n",
    "@decorator\n",
    "def say(): print('Hi')\n",
    "say()"
   ]
  },
  {
   "cell_type": "code",
   "execution_count": null,
   "id": "ca1679aa",
   "metadata": {},
   "outputs": [],
   "source": [
    "# Topic: Lists & Tuples\n",
    "t = (1,2,3)\n",
    "print(t[1])"
   ]
  },
  {
   "cell_type": "code",
   "execution_count": null,
   "id": "d1d8db42",
   "metadata": {},
   "outputs": [],
   "source": [
    "# Topic: NumPy\n",
    "import numpy as np\n",
    "a = np.array([1,2,3])\n",
    "print(a * 2)"
   ]
  },
  {
   "cell_type": "code",
   "execution_count": null,
   "id": "8b45e5f0",
   "metadata": {},
   "outputs": [],
   "source": [
    "# Topic: Web Scraping\n",
    "import requests\n",
    "from bs4 import BeautifulSoup\n",
    "r = requests.get('https://example.com')\n",
    "soup = BeautifulSoup(r.text, 'html.parser')\n",
    "print(soup.title.string)"
   ]
  },
  {
   "cell_type": "code",
   "execution_count": null,
   "id": "823bb224",
   "metadata": {},
   "outputs": [],
   "source": [
    "# Topic: Loops\n",
    "for i in range(10): print(i*i)"
   ]
  },
  {
   "cell_type": "code",
   "execution_count": null,
   "id": "89531545",
   "metadata": {},
   "outputs": [],
   "source": [
    "# Topic: Mini Projects\n",
    "# Simple calculator\n",
    "def calc(a,b,op):\n",
    " if op=='+': return a+b\n",
    " elif op=='-': return a-b\n",
    "print(calc(10,5,'+'))"
   ]
  },
  {
   "cell_type": "code",
   "execution_count": null,
   "id": "ad6765d5",
   "metadata": {},
   "outputs": [],
   "source": [
    "# Topic: NumPy\n",
    "import numpy as np\n",
    "print(np.arange(0, 10, 2))"
   ]
  },
  {
   "cell_type": "code",
   "execution_count": null,
   "id": "46f1c84d",
   "metadata": {},
   "outputs": [],
   "source": [
    "# Topic: NumPy\n",
    "import numpy as np\n",
    "print(np.arange(0, 10, 2))"
   ]
  },
  {
   "cell_type": "code",
   "execution_count": null,
   "id": "5ff4b86a",
   "metadata": {},
   "outputs": [],
   "source": [
    "# Topic: NumPy\n",
    "import numpy as np\n",
    "a = np.array([1,2,3])\n",
    "print(a * 2)"
   ]
  },
  {
   "cell_type": "code",
   "execution_count": null,
   "id": "8e47abd6",
   "metadata": {},
   "outputs": [],
   "source": [
    "# Topic: Recursion\n",
    "def fib(n):\n",
    "    if n <= 1: return n\n",
    "    return fib(n-1) + fib(n-2)\n",
    "print(fib(5))"
   ]
  },
  {
   "cell_type": "code",
   "execution_count": null,
   "id": "f1aa94e7",
   "metadata": {},
   "outputs": [],
   "source": [
    "# Topic: Recursion\n",
    "def fib(n):\n",
    "    if n <= 1: return n\n",
    "    return fib(n-1) + fib(n-2)\n",
    "print(fib(5))"
   ]
  },
  {
   "cell_type": "code",
   "execution_count": null,
   "id": "d715ec27",
   "metadata": {},
   "outputs": [],
   "source": [
    "# Topic: Web Scraping\n",
    "import requests\n",
    "from bs4 import BeautifulSoup\n",
    "r = requests.get('https://example.com')\n",
    "soup = BeautifulSoup(r.text, 'html.parser')\n",
    "print(soup.title.string)"
   ]
  },
  {
   "cell_type": "code",
   "execution_count": null,
   "id": "c3c97b43",
   "metadata": {},
   "outputs": [],
   "source": [
    "# Topic: Pandas\n",
    "import pandas as pd\n",
    "df = pd.read_csv('data.csv')\n",
    "print(df.head())"
   ]
  },
  {
   "cell_type": "code",
   "execution_count": null,
   "id": "b3fb207e",
   "metadata": {},
   "outputs": [],
   "source": [
    "# Topic: Dictionaries & Sets\n",
    "s = {1,2,3}\n",
    "s.add(4)\n",
    "print(s)"
   ]
  },
  {
   "cell_type": "code",
   "execution_count": null,
   "id": "d1b05bc1",
   "metadata": {},
   "outputs": [],
   "source": [
    "# Topic: Lists & Tuples\n",
    "nums = [1,2,3]\n",
    "nums.append(4)\n",
    "print(nums)"
   ]
  },
  {
   "cell_type": "code",
   "execution_count": null,
   "id": "9e0ad349",
   "metadata": {},
   "outputs": [],
   "source": [
    "# Topic: Classes & Objects\n",
    "class Dog:\n",
    "    def bark(self):\n",
    "        print('Woof!')\n",
    "d = Dog()\n",
    "d.bark()"
   ]
  },
  {
   "cell_type": "code",
   "execution_count": null,
   "id": "c5029828",
   "metadata": {},
   "outputs": [],
   "source": [
    "# Topic: Basics\n",
    "x = 7\n",
    "print('Odd' if x % 2 else 'Even')"
   ]
  },
  {
   "cell_type": "code",
   "execution_count": null,
   "id": "bb097488",
   "metadata": {},
   "outputs": [],
   "source": [
    "# Topic: Loops\n",
    "for i in range(10): print(i*i)"
   ]
  },
  {
   "cell_type": "code",
   "execution_count": null,
   "id": "c2b3100e",
   "metadata": {},
   "outputs": [],
   "source": [
    "# Topic: Dictionaries & Sets\n",
    "s = {1,2,3}\n",
    "s.add(4)\n",
    "print(s)"
   ]
  },
  {
   "cell_type": "code",
   "execution_count": null,
   "id": "5dce2460",
   "metadata": {},
   "outputs": [],
   "source": [
    "# Topic: Basics\n",
    "name = 'Fahd'\n",
    "print(f'Welcome, {name}')"
   ]
  },
  {
   "cell_type": "code",
   "execution_count": null,
   "id": "909ca7e1",
   "metadata": {},
   "outputs": [],
   "source": [
    "# Topic: Matplotlib\n",
    "import matplotlib.pyplot as plt\n",
    "plt.plot([1,2],[3,4])\n",
    "plt.show()"
   ]
  },
  {
   "cell_type": "code",
   "execution_count": null,
   "id": "a6b569d0",
   "metadata": {},
   "outputs": [],
   "source": [
    "# Topic: Decorators\n",
    "def decorator(fn):\n",
    "    def wrapper():\n",
    "        print('Before')\n",
    "        fn()\n",
    "        print('After')\n",
    "    return wrapper\n",
    "@decorator\n",
    "def say(): print('Hi')\n",
    "say()"
   ]
  },
  {
   "cell_type": "code",
   "execution_count": null,
   "id": "f01b4a2f",
   "metadata": {},
   "outputs": [],
   "source": [
    "# Topic: Lists & Tuples\n",
    "nums = [1,2,3]\n",
    "nums.append(4)\n",
    "print(nums)"
   ]
  },
  {
   "cell_type": "code",
   "execution_count": null,
   "id": "f3fd23b5",
   "metadata": {},
   "outputs": [],
   "source": [
    "# Topic: Classes & Objects\n",
    "class Dog:\n",
    "    def bark(self):\n",
    "        print('Woof!')\n",
    "d = Dog()\n",
    "d.bark()"
   ]
  },
  {
   "cell_type": "code",
   "execution_count": null,
   "id": "1f14ff39",
   "metadata": {},
   "outputs": [],
   "source": [
    "# Topic: Loops\n",
    "i = 0\n",
    "while i < 5:\n",
    "    print(i)\n",
    "    i += 1"
   ]
  },
  {
   "cell_type": "code",
   "execution_count": null,
   "id": "dcbea65e",
   "metadata": {},
   "outputs": [],
   "source": [
    "# Topic: Basics\n",
    "x = 7\n",
    "print('Odd' if x % 2 else 'Even')"
   ]
  },
  {
   "cell_type": "code",
   "execution_count": null,
   "id": "ce71c860",
   "metadata": {},
   "outputs": [],
   "source": [
    "# Topic: Basics\n",
    "name = 'Fahd'\n",
    "print(f'Welcome, {name}')"
   ]
  },
  {
   "cell_type": "code",
   "execution_count": null,
   "id": "6d359a3a",
   "metadata": {},
   "outputs": [],
   "source": [
    "# Topic: Pandas\n",
    "import pandas as pd\n",
    "df = pd.read_csv('data.csv')\n",
    "print(df.head())"
   ]
  },
  {
   "cell_type": "code",
   "execution_count": null,
   "id": "5b4312f8",
   "metadata": {},
   "outputs": [],
   "source": [
    "# Topic: Matplotlib\n",
    "import matplotlib.pyplot as plt\n",
    "plt.plot([1,2],[3,4])\n",
    "plt.show()"
   ]
  },
  {
   "cell_type": "code",
   "execution_count": null,
   "id": "a7f57780",
   "metadata": {},
   "outputs": [],
   "source": [
    "# Topic: Pandas\n",
    "import pandas as pd\n",
    "df = pd.read_csv('data.csv')\n",
    "print(df.head())"
   ]
  },
  {
   "cell_type": "code",
   "execution_count": null,
   "id": "31b00f06",
   "metadata": {},
   "outputs": [],
   "source": [
    "# Topic: Classes & Objects\n",
    "class Dog:\n",
    "    def bark(self):\n",
    "        print('Woof!')\n",
    "d = Dog()\n",
    "d.bark()"
   ]
  },
  {
   "cell_type": "code",
   "execution_count": null,
   "id": "b2114fb8",
   "metadata": {},
   "outputs": [],
   "source": [
    "# Topic: File I/O\n",
    "with open('sample.txt') as f:\n",
    "    print(f.read())"
   ]
  },
  {
   "cell_type": "code",
   "execution_count": null,
   "id": "3c3651c3",
   "metadata": {},
   "outputs": [],
   "source": [
    "# Topic: Exceptions\n",
    "try:\n",
    "    print(10/0)\n",
    "except ZeroDivisionError:\n",
    "    print('Cannot divide by zero')"
   ]
  },
  {
   "cell_type": "code",
   "execution_count": null,
   "id": "a47493ed",
   "metadata": {},
   "outputs": [],
   "source": [
    "# Topic: Basics\n",
    "name = 'Fahd'\n",
    "print(f'Welcome, {name}')"
   ]
  },
  {
   "cell_type": "code",
   "execution_count": null,
   "id": "1b70db1d",
   "metadata": {},
   "outputs": [],
   "source": [
    "# Topic: Classes & Objects\n",
    "class Dog:\n",
    "    def bark(self):\n",
    "        print('Woof!')\n",
    "d = Dog()\n",
    "d.bark()"
   ]
  },
  {
   "cell_type": "code",
   "execution_count": null,
   "id": "47525d4a",
   "metadata": {},
   "outputs": [],
   "source": [
    "# Topic: Web Scraping\n",
    "import requests\n",
    "from bs4 import BeautifulSoup\n",
    "r = requests.get('https://example.com')\n",
    "soup = BeautifulSoup(r.text, 'html.parser')\n",
    "print(soup.title.string)"
   ]
  },
  {
   "cell_type": "code",
   "execution_count": null,
   "id": "79970e68",
   "metadata": {},
   "outputs": [],
   "source": [
    "# Topic: Lists & Tuples\n",
    "t = (1,2,3)\n",
    "print(t[1])"
   ]
  },
  {
   "cell_type": "code",
   "execution_count": null,
   "id": "94245395",
   "metadata": {},
   "outputs": [],
   "source": [
    "# Topic: Dictionaries & Sets\n",
    "s = {1,2,3}\n",
    "s.add(4)\n",
    "print(s)"
   ]
  },
  {
   "cell_type": "code",
   "execution_count": null,
   "id": "4598c96f",
   "metadata": {},
   "outputs": [],
   "source": [
    "# Topic: Loops\n",
    "i = 0\n",
    "while i < 5:\n",
    "    print(i)\n",
    "    i += 1"
   ]
  },
  {
   "cell_type": "code",
   "execution_count": null,
   "id": "e29f3981",
   "metadata": {},
   "outputs": [],
   "source": [
    "# Topic: Recursion\n",
    "def fib(n):\n",
    "    if n <= 1: return n\n",
    "    return fib(n-1) + fib(n-2)\n",
    "print(fib(5))"
   ]
  },
  {
   "cell_type": "code",
   "execution_count": null,
   "id": "739bf2bc",
   "metadata": {},
   "outputs": [],
   "source": [
    "# Topic: Mini Projects\n",
    "# Palindrome checker\n",
    "def is_palindrome(s):\n",
    " return s == s[::-1]\n",
    "print(is_palindrome('madam'))"
   ]
  },
  {
   "cell_type": "code",
   "execution_count": null,
   "id": "7787513a",
   "metadata": {},
   "outputs": [],
   "source": [
    "# Topic: Web Scraping\n",
    "import requests\n",
    "from bs4 import BeautifulSoup\n",
    "r = requests.get('https://example.com')\n",
    "soup = BeautifulSoup(r.text, 'html.parser')\n",
    "print(soup.title.string)"
   ]
  },
  {
   "cell_type": "code",
   "execution_count": null,
   "id": "9ffeacd7",
   "metadata": {},
   "outputs": [],
   "source": [
    "# Topic: Matplotlib\n",
    "import matplotlib.pyplot as plt\n",
    "plt.bar(['A','B'], [10,20])\n",
    "plt.show()"
   ]
  },
  {
   "cell_type": "code",
   "execution_count": null,
   "id": "04b76b58",
   "metadata": {},
   "outputs": [],
   "source": [
    "# Topic: NumPy\n",
    "import numpy as np\n",
    "a = np.array([1,2,3])\n",
    "print(a * 2)"
   ]
  },
  {
   "cell_type": "code",
   "execution_count": null,
   "id": "9250aff9",
   "metadata": {},
   "outputs": [],
   "source": [
    "# Topic: Classes & Objects\n",
    "class Dog:\n",
    "    def bark(self):\n",
    "        print('Woof!')\n",
    "d = Dog()\n",
    "d.bark()"
   ]
  },
  {
   "cell_type": "code",
   "execution_count": null,
   "id": "7428a01b",
   "metadata": {},
   "outputs": [],
   "source": [
    "# Topic: Decorators\n",
    "def decorator(fn):\n",
    "    def wrapper():\n",
    "        print('Before')\n",
    "        fn()\n",
    "        print('After')\n",
    "    return wrapper\n",
    "@decorator\n",
    "def say(): print('Hi')\n",
    "say()"
   ]
  },
  {
   "cell_type": "code",
   "execution_count": null,
   "id": "a63f3137",
   "metadata": {},
   "outputs": [],
   "source": [
    "# Topic: Decorators\n",
    "def decorator(fn):\n",
    "    def wrapper():\n",
    "        print('Before')\n",
    "        fn()\n",
    "        print('After')\n",
    "    return wrapper\n",
    "@decorator\n",
    "def say(): print('Hi')\n",
    "say()"
   ]
  },
  {
   "cell_type": "code",
   "execution_count": null,
   "id": "db7d881d",
   "metadata": {},
   "outputs": [],
   "source": [
    "# Topic: File I/O\n",
    "with open('sample.txt', 'w') as f:\n",
    "    f.write('Hello World')"
   ]
  },
  {
   "cell_type": "code",
   "execution_count": null,
   "id": "441afd89",
   "metadata": {},
   "outputs": [],
   "source": [
    "# Topic: Recursion\n",
    "def fib(n):\n",
    "    if n <= 1: return n\n",
    "    return fib(n-1) + fib(n-2)\n",
    "print(fib(5))"
   ]
  },
  {
   "cell_type": "code",
   "execution_count": null,
   "id": "53d5db87",
   "metadata": {},
   "outputs": [],
   "source": [
    "# Topic: File I/O\n",
    "with open('sample.txt') as f:\n",
    "    print(f.read())"
   ]
  },
  {
   "cell_type": "code",
   "execution_count": null,
   "id": "8ddccc20",
   "metadata": {},
   "outputs": [],
   "source": [
    "# Topic: Basics\n",
    "name = 'Fahd'\n",
    "print(f'Welcome, {name}')"
   ]
  },
  {
   "cell_type": "code",
   "execution_count": null,
   "id": "d37c6704",
   "metadata": {},
   "outputs": [],
   "source": [
    "# Topic: Basics\n",
    "x = 7\n",
    "print('Odd' if x % 2 else 'Even')"
   ]
  },
  {
   "cell_type": "code",
   "execution_count": null,
   "id": "3552b094",
   "metadata": {},
   "outputs": [],
   "source": [
    "# Topic: Recursion\n",
    "def fib(n):\n",
    "    if n <= 1: return n\n",
    "    return fib(n-1) + fib(n-2)\n",
    "print(fib(5))"
   ]
  },
  {
   "cell_type": "code",
   "execution_count": null,
   "id": "0e73fbb2",
   "metadata": {},
   "outputs": [],
   "source": [
    "# Topic: NumPy\n",
    "import numpy as np\n",
    "a = np.array([1,2,3])\n",
    "print(a * 2)"
   ]
  },
  {
   "cell_type": "code",
   "execution_count": null,
   "id": "2072cca8",
   "metadata": {},
   "outputs": [],
   "source": [
    "# Topic: Matplotlib\n",
    "import matplotlib.pyplot as plt\n",
    "plt.plot([1,2],[3,4])\n",
    "plt.show()"
   ]
  },
  {
   "cell_type": "code",
   "execution_count": null,
   "id": "a9cdb7a7",
   "metadata": {},
   "outputs": [],
   "source": [
    "# Topic: Dictionaries & Sets\n",
    "s = {1,2,3}\n",
    "s.add(4)\n",
    "print(s)"
   ]
  },
  {
   "cell_type": "code",
   "execution_count": null,
   "id": "5ebab07d",
   "metadata": {},
   "outputs": [],
   "source": [
    "# Topic: Lists & Tuples\n",
    "t = (1,2,3)\n",
    "print(t[1])"
   ]
  },
  {
   "cell_type": "code",
   "execution_count": null,
   "id": "c60ea392",
   "metadata": {},
   "outputs": [],
   "source": [
    "# Topic: Decorators\n",
    "def decorator(fn):\n",
    "    def wrapper():\n",
    "        print('Before')\n",
    "        fn()\n",
    "        print('After')\n",
    "    return wrapper\n",
    "@decorator\n",
    "def say(): print('Hi')\n",
    "say()"
   ]
  },
  {
   "cell_type": "code",
   "execution_count": null,
   "id": "8a8dac3f",
   "metadata": {},
   "outputs": [],
   "source": [
    "# Topic: Matplotlib\n",
    "import matplotlib.pyplot as plt\n",
    "plt.bar(['A','B'], [10,20])\n",
    "plt.show()"
   ]
  },
  {
   "cell_type": "code",
   "execution_count": null,
   "id": "376c980b",
   "metadata": {},
   "outputs": [],
   "source": [
    "# Topic: Exceptions\n",
    "try:\n",
    "    print(10/0)\n",
    "except ZeroDivisionError:\n",
    "    print('Cannot divide by zero')"
   ]
  },
  {
   "cell_type": "code",
   "execution_count": null,
   "id": "715f9395",
   "metadata": {},
   "outputs": [],
   "source": [
    "# Topic: Classes & Objects\n",
    "class Dog:\n",
    "    def bark(self):\n",
    "        print('Woof!')\n",
    "d = Dog()\n",
    "d.bark()"
   ]
  },
  {
   "cell_type": "code",
   "execution_count": null,
   "id": "d9d1ce2f",
   "metadata": {},
   "outputs": [],
   "source": [
    "# Topic: Mini Projects\n",
    "# Simple calculator\n",
    "def calc(a,b,op):\n",
    " if op=='+': return a+b\n",
    " elif op=='-': return a-b\n",
    "print(calc(10,5,'+'))"
   ]
  },
  {
   "cell_type": "code",
   "execution_count": null,
   "id": "4f89cfe5",
   "metadata": {},
   "outputs": [],
   "source": [
    "# Topic: Dictionaries & Sets\n",
    "d = {'a':1, 'b':2}\n",
    "print(d['a'])"
   ]
  },
  {
   "cell_type": "code",
   "execution_count": null,
   "id": "ccd05040",
   "metadata": {},
   "outputs": [],
   "source": [
    "# Topic: Basics\n",
    "name = 'Fahd'\n",
    "print(f'Welcome, {name}')"
   ]
  },
  {
   "cell_type": "code",
   "execution_count": null,
   "id": "03ac9a8e",
   "metadata": {},
   "outputs": [],
   "source": [
    "# Topic: Web Scraping\n",
    "import requests\n",
    "from bs4 import BeautifulSoup\n",
    "r = requests.get('https://example.com')\n",
    "soup = BeautifulSoup(r.text, 'html.parser')\n",
    "print(soup.title.string)"
   ]
  },
  {
   "cell_type": "code",
   "execution_count": null,
   "id": "6573cc14",
   "metadata": {},
   "outputs": [],
   "source": [
    "# Topic: Recursion\n",
    "def fib(n):\n",
    "    if n <= 1: return n\n",
    "    return fib(n-1) + fib(n-2)\n",
    "print(fib(5))"
   ]
  },
  {
   "cell_type": "code",
   "execution_count": null,
   "id": "b2f43e19",
   "metadata": {},
   "outputs": [],
   "source": [
    "# Topic: Pandas\n",
    "import pandas as pd\n",
    "df = pd.read_csv('data.csv')\n",
    "print(df.head())"
   ]
  },
  {
   "cell_type": "code",
   "execution_count": null,
   "id": "0aac93b5",
   "metadata": {},
   "outputs": [],
   "source": [
    "# Topic: File I/O\n",
    "with open('sample.txt') as f:\n",
    "    print(f.read())"
   ]
  },
  {
   "cell_type": "code",
   "execution_count": null,
   "id": "788b38c8",
   "metadata": {},
   "outputs": [],
   "source": [
    "# Topic: Basics\n",
    "a = 5\n",
    "b = 3\n",
    "print(a * b)"
   ]
  },
  {
   "cell_type": "code",
   "execution_count": null,
   "id": "8e5eb4e8",
   "metadata": {},
   "outputs": [],
   "source": [
    "# Topic: Basics\n",
    "a = 5\n",
    "b = 3\n",
    "print(a * b)"
   ]
  },
  {
   "cell_type": "code",
   "execution_count": null,
   "id": "fd9c9687",
   "metadata": {},
   "outputs": [],
   "source": [
    "# Topic: Basics\n",
    "x = 7\n",
    "print('Odd' if x % 2 else 'Even')"
   ]
  },
  {
   "cell_type": "code",
   "execution_count": null,
   "id": "2bf36294",
   "metadata": {},
   "outputs": [],
   "source": [
    "# Topic: Basics\n",
    "a = 5\n",
    "b = 3\n",
    "print(a * b)"
   ]
  },
  {
   "cell_type": "code",
   "execution_count": null,
   "id": "14edf6cb",
   "metadata": {},
   "outputs": [],
   "source": [
    "# Topic: NumPy\n",
    "import numpy as np\n",
    "print(np.arange(0, 10, 2))"
   ]
  },
  {
   "cell_type": "code",
   "execution_count": null,
   "id": "0dbada9f",
   "metadata": {},
   "outputs": [],
   "source": [
    "# Topic: Loops\n",
    "for i in range(10): print(i*i)"
   ]
  },
  {
   "cell_type": "code",
   "execution_count": null,
   "id": "218aaa82",
   "metadata": {},
   "outputs": [],
   "source": [
    "# Topic: Dictionaries & Sets\n",
    "d = {'a':1, 'b':2}\n",
    "print(d['a'])"
   ]
  },
  {
   "cell_type": "code",
   "execution_count": null,
   "id": "79df4ac0",
   "metadata": {},
   "outputs": [],
   "source": [
    "# Topic: Dictionaries & Sets\n",
    "d = {'a':1, 'b':2}\n",
    "print(d['a'])"
   ]
  },
  {
   "cell_type": "code",
   "execution_count": null,
   "id": "420df0a1",
   "metadata": {},
   "outputs": [],
   "source": [
    "# Topic: Mini Projects\n",
    "# Palindrome checker\n",
    "def is_palindrome(s):\n",
    " return s == s[::-1]\n",
    "print(is_palindrome('madam'))"
   ]
  },
  {
   "cell_type": "code",
   "execution_count": null,
   "id": "84f86d2e",
   "metadata": {},
   "outputs": [],
   "source": [
    "# Topic: Decorators\n",
    "def decorator(fn):\n",
    "    def wrapper():\n",
    "        print('Before')\n",
    "        fn()\n",
    "        print('After')\n",
    "    return wrapper\n",
    "@decorator\n",
    "def say(): print('Hi')\n",
    "say()"
   ]
  },
  {
   "cell_type": "code",
   "execution_count": null,
   "id": "8da8b774",
   "metadata": {},
   "outputs": [],
   "source": [
    "# Topic: Functions\n",
    "def factorial(n):\n",
    "    return 1 if n==0 else n * factorial(n-1)\n",
    "print(factorial(5))"
   ]
  },
  {
   "cell_type": "code",
   "execution_count": null,
   "id": "898bc40d",
   "metadata": {},
   "outputs": [],
   "source": [
    "# Topic: Loops\n",
    "i = 0\n",
    "while i < 5:\n",
    "    print(i)\n",
    "    i += 1"
   ]
  },
  {
   "cell_type": "code",
   "execution_count": null,
   "id": "6523ae10",
   "metadata": {},
   "outputs": [],
   "source": [
    "# Topic: File I/O\n",
    "with open('sample.txt', 'w') as f:\n",
    "    f.write('Hello World')"
   ]
  },
  {
   "cell_type": "code",
   "execution_count": null,
   "id": "4f37dc5a",
   "metadata": {},
   "outputs": [],
   "source": [
    "# Topic: Exceptions\n",
    "try:\n",
    "    print(10/0)\n",
    "except ZeroDivisionError:\n",
    "    print('Cannot divide by zero')"
   ]
  },
  {
   "cell_type": "code",
   "execution_count": null,
   "id": "fa42bec8",
   "metadata": {},
   "outputs": [],
   "source": [
    "# Topic: Decorators\n",
    "def decorator(fn):\n",
    "    def wrapper():\n",
    "        print('Before')\n",
    "        fn()\n",
    "        print('After')\n",
    "    return wrapper\n",
    "@decorator\n",
    "def say(): print('Hi')\n",
    "say()"
   ]
  },
  {
   "cell_type": "code",
   "execution_count": null,
   "id": "599083d7",
   "metadata": {},
   "outputs": [],
   "source": [
    "# Topic: NumPy\n",
    "import numpy as np\n",
    "print(np.arange(0, 10, 2))"
   ]
  },
  {
   "cell_type": "code",
   "execution_count": null,
   "id": "aceb0f84",
   "metadata": {},
   "outputs": [],
   "source": [
    "# Topic: Lists & Tuples\n",
    "t = (1,2,3)\n",
    "print(t[1])"
   ]
  },
  {
   "cell_type": "code",
   "execution_count": null,
   "id": "b6c869d3",
   "metadata": {},
   "outputs": [],
   "source": [
    "# Topic: Matplotlib\n",
    "import matplotlib.pyplot as plt\n",
    "plt.plot([1,2],[3,4])\n",
    "plt.show()"
   ]
  },
  {
   "cell_type": "code",
   "execution_count": null,
   "id": "6080dc7f",
   "metadata": {},
   "outputs": [],
   "source": [
    "# Topic: Dictionaries & Sets\n",
    "s = {1,2,3}\n",
    "s.add(4)\n",
    "print(s)"
   ]
  },
  {
   "cell_type": "code",
   "execution_count": null,
   "id": "fe73ef06",
   "metadata": {},
   "outputs": [],
   "source": [
    "# Topic: Functions\n",
    "def factorial(n):\n",
    "    return 1 if n==0 else n * factorial(n-1)\n",
    "print(factorial(5))"
   ]
  },
  {
   "cell_type": "code",
   "execution_count": null,
   "id": "d153b429",
   "metadata": {},
   "outputs": [],
   "source": [
    "# Topic: Decorators\n",
    "def decorator(fn):\n",
    "    def wrapper():\n",
    "        print('Before')\n",
    "        fn()\n",
    "        print('After')\n",
    "    return wrapper\n",
    "@decorator\n",
    "def say(): print('Hi')\n",
    "say()"
   ]
  },
  {
   "cell_type": "code",
   "execution_count": null,
   "id": "04b9d72f",
   "metadata": {},
   "outputs": [],
   "source": [
    "# Topic: Lists & Tuples\n",
    "nums = [1,2,3]\n",
    "nums.append(4)\n",
    "print(nums)"
   ]
  },
  {
   "cell_type": "code",
   "execution_count": null,
   "id": "07df78db",
   "metadata": {},
   "outputs": [],
   "source": [
    "# Topic: Lists & Tuples\n",
    "nums = [1,2,3]\n",
    "nums.append(4)\n",
    "print(nums)"
   ]
  },
  {
   "cell_type": "code",
   "execution_count": null,
   "id": "e19a1207",
   "metadata": {},
   "outputs": [],
   "source": [
    "# Topic: Matplotlib\n",
    "import matplotlib.pyplot as plt\n",
    "plt.plot([1,2],[3,4])\n",
    "plt.show()"
   ]
  },
  {
   "cell_type": "code",
   "execution_count": null,
   "id": "124ae67e",
   "metadata": {},
   "outputs": [],
   "source": [
    "# Topic: Recursion\n",
    "def fib(n):\n",
    "    if n <= 1: return n\n",
    "    return fib(n-1) + fib(n-2)\n",
    "print(fib(5))"
   ]
  },
  {
   "cell_type": "code",
   "execution_count": null,
   "id": "7837a59b",
   "metadata": {},
   "outputs": [],
   "source": [
    "# Topic: Basics\n",
    "x = 7\n",
    "print('Odd' if x % 2 else 'Even')"
   ]
  },
  {
   "cell_type": "code",
   "execution_count": null,
   "id": "d5abe23b",
   "metadata": {},
   "outputs": [],
   "source": [
    "# Topic: Exceptions\n",
    "try:\n",
    "    print(10/0)\n",
    "except ZeroDivisionError:\n",
    "    print('Cannot divide by zero')"
   ]
  },
  {
   "cell_type": "code",
   "execution_count": null,
   "id": "3171201b",
   "metadata": {},
   "outputs": [],
   "source": [
    "# Topic: Functions\n",
    "def add(a, b): return a + b\n",
    "print(add(3, 4))"
   ]
  },
  {
   "cell_type": "code",
   "execution_count": null,
   "id": "8c97dc6b",
   "metadata": {},
   "outputs": [],
   "source": [
    "# Topic: NumPy\n",
    "import numpy as np\n",
    "print(np.arange(0, 10, 2))"
   ]
  },
  {
   "cell_type": "code",
   "execution_count": null,
   "id": "95d0fa82",
   "metadata": {},
   "outputs": [],
   "source": [
    "# Topic: Decorators\n",
    "def decorator(fn):\n",
    "    def wrapper():\n",
    "        print('Before')\n",
    "        fn()\n",
    "        print('After')\n",
    "    return wrapper\n",
    "@decorator\n",
    "def say(): print('Hi')\n",
    "say()"
   ]
  },
  {
   "cell_type": "code",
   "execution_count": null,
   "id": "ab12ba4a",
   "metadata": {},
   "outputs": [],
   "source": [
    "# Topic: Matplotlib\n",
    "import matplotlib.pyplot as plt\n",
    "plt.bar(['A','B'], [10,20])\n",
    "plt.show()"
   ]
  },
  {
   "cell_type": "code",
   "execution_count": null,
   "id": "1a87957c",
   "metadata": {},
   "outputs": [],
   "source": [
    "# Topic: Classes & Objects\n",
    "class Dog:\n",
    "    def bark(self):\n",
    "        print('Woof!')\n",
    "d = Dog()\n",
    "d.bark()"
   ]
  },
  {
   "cell_type": "code",
   "execution_count": null,
   "id": "e32fe4b9",
   "metadata": {},
   "outputs": [],
   "source": [
    "# Topic: Mini Projects\n",
    "# Palindrome checker\n",
    "def is_palindrome(s):\n",
    " return s == s[::-1]\n",
    "print(is_palindrome('madam'))"
   ]
  },
  {
   "cell_type": "code",
   "execution_count": null,
   "id": "a4a959ba",
   "metadata": {},
   "outputs": [],
   "source": [
    "# Topic: Dictionaries & Sets\n",
    "s = {1,2,3}\n",
    "s.add(4)\n",
    "print(s)"
   ]
  },
  {
   "cell_type": "code",
   "execution_count": null,
   "id": "122e1119",
   "metadata": {},
   "outputs": [],
   "source": [
    "# Topic: Functions\n",
    "def factorial(n):\n",
    "    return 1 if n==0 else n * factorial(n-1)\n",
    "print(factorial(5))"
   ]
  },
  {
   "cell_type": "code",
   "execution_count": null,
   "id": "c576dbe6",
   "metadata": {},
   "outputs": [],
   "source": [
    "# Topic: Basics\n",
    "name = 'Fahd'\n",
    "print(f'Welcome, {name}')"
   ]
  },
  {
   "cell_type": "code",
   "execution_count": null,
   "id": "8496816e",
   "metadata": {},
   "outputs": [],
   "source": [
    "# Topic: Web Scraping\n",
    "import requests\n",
    "from bs4 import BeautifulSoup\n",
    "r = requests.get('https://example.com')\n",
    "soup = BeautifulSoup(r.text, 'html.parser')\n",
    "print(soup.title.string)"
   ]
  },
  {
   "cell_type": "code",
   "execution_count": null,
   "id": "15125b0d",
   "metadata": {},
   "outputs": [],
   "source": [
    "# Topic: Web Scraping\n",
    "import requests\n",
    "from bs4 import BeautifulSoup\n",
    "r = requests.get('https://example.com')\n",
    "soup = BeautifulSoup(r.text, 'html.parser')\n",
    "print(soup.title.string)"
   ]
  },
  {
   "cell_type": "code",
   "execution_count": null,
   "id": "fdc6f838",
   "metadata": {},
   "outputs": [],
   "source": [
    "# Topic: Lists & Tuples\n",
    "nums = [1,2,3]\n",
    "nums.append(4)\n",
    "print(nums)"
   ]
  },
  {
   "cell_type": "code",
   "execution_count": null,
   "id": "fce24c87",
   "metadata": {},
   "outputs": [],
   "source": [
    "# Topic: Classes & Objects\n",
    "class Dog:\n",
    "    def bark(self):\n",
    "        print('Woof!')\n",
    "d = Dog()\n",
    "d.bark()"
   ]
  },
  {
   "cell_type": "code",
   "execution_count": null,
   "id": "5e901761",
   "metadata": {},
   "outputs": [],
   "source": [
    "# Topic: Lists & Tuples\n",
    "t = (1,2,3)\n",
    "print(t[1])"
   ]
  },
  {
   "cell_type": "code",
   "execution_count": null,
   "id": "51070a85",
   "metadata": {},
   "outputs": [],
   "source": [
    "# Topic: Dictionaries & Sets\n",
    "s = {1,2,3}\n",
    "s.add(4)\n",
    "print(s)"
   ]
  },
  {
   "cell_type": "code",
   "execution_count": null,
   "id": "fe012770",
   "metadata": {},
   "outputs": [],
   "source": [
    "# Topic: Basics\n",
    "a = 5\n",
    "b = 3\n",
    "print(a * b)"
   ]
  },
  {
   "cell_type": "code",
   "execution_count": null,
   "id": "5c2131ee",
   "metadata": {},
   "outputs": [],
   "source": [
    "# Topic: Decorators\n",
    "def decorator(fn):\n",
    "    def wrapper():\n",
    "        print('Before')\n",
    "        fn()\n",
    "        print('After')\n",
    "    return wrapper\n",
    "@decorator\n",
    "def say(): print('Hi')\n",
    "say()"
   ]
  },
  {
   "cell_type": "code",
   "execution_count": null,
   "id": "41b6c18c",
   "metadata": {},
   "outputs": [],
   "source": [
    "# Topic: Functions\n",
    "def factorial(n):\n",
    "    return 1 if n==0 else n * factorial(n-1)\n",
    "print(factorial(5))"
   ]
  },
  {
   "cell_type": "code",
   "execution_count": null,
   "id": "02aad6bc",
   "metadata": {},
   "outputs": [],
   "source": [
    "# Topic: Exceptions\n",
    "try:\n",
    "    print(10/0)\n",
    "except ZeroDivisionError:\n",
    "    print('Cannot divide by zero')"
   ]
  },
  {
   "cell_type": "code",
   "execution_count": null,
   "id": "a2e9e7ed",
   "metadata": {},
   "outputs": [],
   "source": [
    "# Topic: NumPy\n",
    "import numpy as np\n",
    "a = np.array([1,2,3])\n",
    "print(a * 2)"
   ]
  },
  {
   "cell_type": "code",
   "execution_count": null,
   "id": "b10a3026",
   "metadata": {},
   "outputs": [],
   "source": [
    "# Topic: Basics\n",
    "name = 'Fahd'\n",
    "print(f'Welcome, {name}')"
   ]
  },
  {
   "cell_type": "code",
   "execution_count": null,
   "id": "8cfc4637",
   "metadata": {},
   "outputs": [],
   "source": [
    "# Topic: Web Scraping\n",
    "import requests\n",
    "from bs4 import BeautifulSoup\n",
    "r = requests.get('https://example.com')\n",
    "soup = BeautifulSoup(r.text, 'html.parser')\n",
    "print(soup.title.string)"
   ]
  },
  {
   "cell_type": "code",
   "execution_count": null,
   "id": "7c285b94",
   "metadata": {},
   "outputs": [],
   "source": [
    "# Topic: Loops\n",
    "for i in range(10): print(i*i)"
   ]
  },
  {
   "cell_type": "code",
   "execution_count": null,
   "id": "30b49855",
   "metadata": {},
   "outputs": [],
   "source": [
    "# Topic: Functions\n",
    "def add(a, b): return a + b\n",
    "print(add(3, 4))"
   ]
  },
  {
   "cell_type": "code",
   "execution_count": null,
   "id": "12b829ef",
   "metadata": {},
   "outputs": [],
   "source": [
    "# Topic: Dictionaries & Sets\n",
    "s = {1,2,3}\n",
    "s.add(4)\n",
    "print(s)"
   ]
  },
  {
   "cell_type": "code",
   "execution_count": null,
   "id": "69ec32c9",
   "metadata": {},
   "outputs": [],
   "source": [
    "# Topic: NumPy\n",
    "import numpy as np\n",
    "a = np.array([1,2,3])\n",
    "print(a * 2)"
   ]
  },
  {
   "cell_type": "code",
   "execution_count": null,
   "id": "f7639b92",
   "metadata": {},
   "outputs": [],
   "source": [
    "# Topic: Functions\n",
    "def add(a, b): return a + b\n",
    "print(add(3, 4))"
   ]
  },
  {
   "cell_type": "code",
   "execution_count": null,
   "id": "bcae7e93",
   "metadata": {},
   "outputs": [],
   "source": [
    "# Topic: NumPy\n",
    "import numpy as np\n",
    "print(np.arange(0, 10, 2))"
   ]
  },
  {
   "cell_type": "code",
   "execution_count": null,
   "id": "87360d2a",
   "metadata": {},
   "outputs": [],
   "source": [
    "# Topic: Decorators\n",
    "def decorator(fn):\n",
    "    def wrapper():\n",
    "        print('Before')\n",
    "        fn()\n",
    "        print('After')\n",
    "    return wrapper\n",
    "@decorator\n",
    "def say(): print('Hi')\n",
    "say()"
   ]
  },
  {
   "cell_type": "code",
   "execution_count": null,
   "id": "b40531ef",
   "metadata": {},
   "outputs": [],
   "source": [
    "# Topic: NumPy\n",
    "import numpy as np\n",
    "print(np.arange(0, 10, 2))"
   ]
  },
  {
   "cell_type": "code",
   "execution_count": null,
   "id": "acf27e16",
   "metadata": {},
   "outputs": [],
   "source": [
    "# Topic: Mini Projects\n",
    "# Simple calculator\n",
    "def calc(a,b,op):\n",
    " if op=='+': return a+b\n",
    " elif op=='-': return a-b\n",
    "print(calc(10,5,'+'))"
   ]
  },
  {
   "cell_type": "code",
   "execution_count": null,
   "id": "dcce9ca3",
   "metadata": {},
   "outputs": [],
   "source": [
    "# Topic: File I/O\n",
    "with open('sample.txt') as f:\n",
    "    print(f.read())"
   ]
  },
  {
   "cell_type": "code",
   "execution_count": null,
   "id": "50d9c7f2",
   "metadata": {},
   "outputs": [],
   "source": [
    "# Topic: Classes & Objects\n",
    "class Dog:\n",
    "    def bark(self):\n",
    "        print('Woof!')\n",
    "d = Dog()\n",
    "d.bark()"
   ]
  },
  {
   "cell_type": "code",
   "execution_count": null,
   "id": "60c23b79",
   "metadata": {},
   "outputs": [],
   "source": [
    "# Topic: Basics\n",
    "name = 'Fahd'\n",
    "print(f'Welcome, {name}')"
   ]
  },
  {
   "cell_type": "code",
   "execution_count": null,
   "id": "fee30c05",
   "metadata": {},
   "outputs": [],
   "source": [
    "# Topic: Recursion\n",
    "def fib(n):\n",
    "    if n <= 1: return n\n",
    "    return fib(n-1) + fib(n-2)\n",
    "print(fib(5))"
   ]
  },
  {
   "cell_type": "code",
   "execution_count": null,
   "id": "ed3031f0",
   "metadata": {},
   "outputs": [],
   "source": [
    "# Topic: Decorators\n",
    "def decorator(fn):\n",
    "    def wrapper():\n",
    "        print('Before')\n",
    "        fn()\n",
    "        print('After')\n",
    "    return wrapper\n",
    "@decorator\n",
    "def say(): print('Hi')\n",
    "say()"
   ]
  },
  {
   "cell_type": "code",
   "execution_count": null,
   "id": "72b0d6b4",
   "metadata": {},
   "outputs": [],
   "source": [
    "# Topic: Basics\n",
    "a = 5\n",
    "b = 3\n",
    "print(a * b)"
   ]
  },
  {
   "cell_type": "code",
   "execution_count": null,
   "id": "e9ce55e0",
   "metadata": {},
   "outputs": [],
   "source": [
    "# Topic: Mini Projects\n",
    "# Simple calculator\n",
    "def calc(a,b,op):\n",
    " if op=='+': return a+b\n",
    " elif op=='-': return a-b\n",
    "print(calc(10,5,'+'))"
   ]
  },
  {
   "cell_type": "code",
   "execution_count": null,
   "id": "2aec890c",
   "metadata": {},
   "outputs": [],
   "source": [
    "# Topic: Loops\n",
    "i = 0\n",
    "while i < 5:\n",
    "    print(i)\n",
    "    i += 1"
   ]
  },
  {
   "cell_type": "code",
   "execution_count": null,
   "id": "27e3d61d",
   "metadata": {},
   "outputs": [],
   "source": [
    "# Topic: Loops\n",
    "i = 0\n",
    "while i < 5:\n",
    "    print(i)\n",
    "    i += 1"
   ]
  },
  {
   "cell_type": "code",
   "execution_count": null,
   "id": "60c4b97b",
   "metadata": {},
   "outputs": [],
   "source": [
    "# Topic: File I/O\n",
    "with open('sample.txt', 'w') as f:\n",
    "    f.write('Hello World')"
   ]
  },
  {
   "cell_type": "code",
   "execution_count": null,
   "id": "df19bf0b",
   "metadata": {},
   "outputs": [],
   "source": [
    "# Topic: Basics\n",
    "a = 5\n",
    "b = 3\n",
    "print(a * b)"
   ]
  },
  {
   "cell_type": "code",
   "execution_count": null,
   "id": "fe12d481",
   "metadata": {},
   "outputs": [],
   "source": [
    "# Topic: Classes & Objects\n",
    "class Dog:\n",
    "    def bark(self):\n",
    "        print('Woof!')\n",
    "d = Dog()\n",
    "d.bark()"
   ]
  },
  {
   "cell_type": "code",
   "execution_count": null,
   "id": "68a76795",
   "metadata": {},
   "outputs": [],
   "source": [
    "# Topic: Web Scraping\n",
    "import requests\n",
    "from bs4 import BeautifulSoup\n",
    "r = requests.get('https://example.com')\n",
    "soup = BeautifulSoup(r.text, 'html.parser')\n",
    "print(soup.title.string)"
   ]
  },
  {
   "cell_type": "code",
   "execution_count": null,
   "id": "19dbc978",
   "metadata": {},
   "outputs": [],
   "source": [
    "# Topic: Classes & Objects\n",
    "class Dog:\n",
    "    def bark(self):\n",
    "        print('Woof!')\n",
    "d = Dog()\n",
    "d.bark()"
   ]
  },
  {
   "cell_type": "code",
   "execution_count": null,
   "id": "1daa1945",
   "metadata": {},
   "outputs": [],
   "source": [
    "# Topic: Decorators\n",
    "def decorator(fn):\n",
    "    def wrapper():\n",
    "        print('Before')\n",
    "        fn()\n",
    "        print('After')\n",
    "    return wrapper\n",
    "@decorator\n",
    "def say(): print('Hi')\n",
    "say()"
   ]
  },
  {
   "cell_type": "code",
   "execution_count": null,
   "id": "3b4859c0",
   "metadata": {},
   "outputs": [],
   "source": [
    "# Topic: Classes & Objects\n",
    "class Dog:\n",
    "    def bark(self):\n",
    "        print('Woof!')\n",
    "d = Dog()\n",
    "d.bark()"
   ]
  },
  {
   "cell_type": "code",
   "execution_count": null,
   "id": "a9bec690",
   "metadata": {},
   "outputs": [],
   "source": [
    "# Topic: Pandas\n",
    "import pandas as pd\n",
    "df = pd.read_csv('data.csv')\n",
    "print(df.head())"
   ]
  },
  {
   "cell_type": "code",
   "execution_count": null,
   "id": "8692bb2a",
   "metadata": {},
   "outputs": [],
   "source": [
    "# Topic: Functions\n",
    "def factorial(n):\n",
    "    return 1 if n==0 else n * factorial(n-1)\n",
    "print(factorial(5))"
   ]
  },
  {
   "cell_type": "code",
   "execution_count": null,
   "id": "c800ded6",
   "metadata": {},
   "outputs": [],
   "source": [
    "# Topic: Mini Projects\n",
    "# Simple calculator\n",
    "def calc(a,b,op):\n",
    " if op=='+': return a+b\n",
    " elif op=='-': return a-b\n",
    "print(calc(10,5,'+'))"
   ]
  },
  {
   "cell_type": "code",
   "execution_count": null,
   "id": "443797d4",
   "metadata": {},
   "outputs": [],
   "source": [
    "# Topic: Matplotlib\n",
    "import matplotlib.pyplot as plt\n",
    "plt.bar(['A','B'], [10,20])\n",
    "plt.show()"
   ]
  },
  {
   "cell_type": "code",
   "execution_count": null,
   "id": "bf39d52a",
   "metadata": {},
   "outputs": [],
   "source": [
    "# Topic: Classes & Objects\n",
    "class Dog:\n",
    "    def bark(self):\n",
    "        print('Woof!')\n",
    "d = Dog()\n",
    "d.bark()"
   ]
  },
  {
   "cell_type": "code",
   "execution_count": null,
   "id": "32f549b9",
   "metadata": {},
   "outputs": [],
   "source": [
    "# Topic: Web Scraping\n",
    "import requests\n",
    "from bs4 import BeautifulSoup\n",
    "r = requests.get('https://example.com')\n",
    "soup = BeautifulSoup(r.text, 'html.parser')\n",
    "print(soup.title.string)"
   ]
  },
  {
   "cell_type": "code",
   "execution_count": null,
   "id": "c9cf29ee",
   "metadata": {},
   "outputs": [],
   "source": [
    "# Topic: Functions\n",
    "def add(a, b): return a + b\n",
    "print(add(3, 4))"
   ]
  },
  {
   "cell_type": "code",
   "execution_count": null,
   "id": "ed317d50",
   "metadata": {},
   "outputs": [],
   "source": [
    "# Topic: Dictionaries & Sets\n",
    "d = {'a':1, 'b':2}\n",
    "print(d['a'])"
   ]
  },
  {
   "cell_type": "code",
   "execution_count": null,
   "id": "fe1739cc",
   "metadata": {},
   "outputs": [],
   "source": [
    "# Topic: File I/O\n",
    "with open('sample.txt', 'w') as f:\n",
    "    f.write('Hello World')"
   ]
  },
  {
   "cell_type": "code",
   "execution_count": null,
   "id": "dba3cf9e",
   "metadata": {},
   "outputs": [],
   "source": [
    "# Topic: Dictionaries & Sets\n",
    "d = {'a':1, 'b':2}\n",
    "print(d['a'])"
   ]
  },
  {
   "cell_type": "code",
   "execution_count": null,
   "id": "ed6cca3f",
   "metadata": {},
   "outputs": [],
   "source": [
    "# Topic: Functions\n",
    "def factorial(n):\n",
    "    return 1 if n==0 else n * factorial(n-1)\n",
    "print(factorial(5))"
   ]
  },
  {
   "cell_type": "code",
   "execution_count": null,
   "id": "991d75fd",
   "metadata": {},
   "outputs": [],
   "source": [
    "# Topic: Pandas\n",
    "import pandas as pd\n",
    "df = pd.DataFrame({'A':[1,2],'B':[3,4]})\n",
    "print(df)"
   ]
  },
  {
   "cell_type": "code",
   "execution_count": null,
   "id": "36eac40e",
   "metadata": {},
   "outputs": [],
   "source": [
    "# Topic: Decorators\n",
    "def decorator(fn):\n",
    "    def wrapper():\n",
    "        print('Before')\n",
    "        fn()\n",
    "        print('After')\n",
    "    return wrapper\n",
    "@decorator\n",
    "def say(): print('Hi')\n",
    "say()"
   ]
  },
  {
   "cell_type": "code",
   "execution_count": null,
   "id": "fb3e766f",
   "metadata": {},
   "outputs": [],
   "source": [
    "# Topic: File I/O\n",
    "with open('sample.txt') as f:\n",
    "    print(f.read())"
   ]
  },
  {
   "cell_type": "code",
   "execution_count": null,
   "id": "79343181",
   "metadata": {},
   "outputs": [],
   "source": [
    "# Topic: Classes & Objects\n",
    "class Dog:\n",
    "    def bark(self):\n",
    "        print('Woof!')\n",
    "d = Dog()\n",
    "d.bark()"
   ]
  },
  {
   "cell_type": "code",
   "execution_count": null,
   "id": "cacf5b04",
   "metadata": {},
   "outputs": [],
   "source": [
    "# Topic: Recursion\n",
    "def fib(n):\n",
    "    if n <= 1: return n\n",
    "    return fib(n-1) + fib(n-2)\n",
    "print(fib(5))"
   ]
  },
  {
   "cell_type": "code",
   "execution_count": null,
   "id": "5c92ef1d",
   "metadata": {},
   "outputs": [],
   "source": [
    "# Topic: Decorators\n",
    "def decorator(fn):\n",
    "    def wrapper():\n",
    "        print('Before')\n",
    "        fn()\n",
    "        print('After')\n",
    "    return wrapper\n",
    "@decorator\n",
    "def say(): print('Hi')\n",
    "say()"
   ]
  },
  {
   "cell_type": "code",
   "execution_count": null,
   "id": "f7e61e18",
   "metadata": {},
   "outputs": [],
   "source": [
    "# Topic: Classes & Objects\n",
    "class Dog:\n",
    "    def bark(self):\n",
    "        print('Woof!')\n",
    "d = Dog()\n",
    "d.bark()"
   ]
  },
  {
   "cell_type": "code",
   "execution_count": null,
   "id": "a3d4110a",
   "metadata": {},
   "outputs": [],
   "source": [
    "# Topic: Functions\n",
    "def factorial(n):\n",
    "    return 1 if n==0 else n * factorial(n-1)\n",
    "print(factorial(5))"
   ]
  },
  {
   "cell_type": "code",
   "execution_count": null,
   "id": "406f90b7",
   "metadata": {},
   "outputs": [],
   "source": [
    "# Topic: File I/O\n",
    "with open('sample.txt') as f:\n",
    "    print(f.read())"
   ]
  },
  {
   "cell_type": "code",
   "execution_count": null,
   "id": "ae016475",
   "metadata": {},
   "outputs": [],
   "source": [
    "# Topic: Dictionaries & Sets\n",
    "s = {1,2,3}\n",
    "s.add(4)\n",
    "print(s)"
   ]
  },
  {
   "cell_type": "code",
   "execution_count": null,
   "id": "b8947261",
   "metadata": {},
   "outputs": [],
   "source": [
    "# Topic: Web Scraping\n",
    "import requests\n",
    "from bs4 import BeautifulSoup\n",
    "r = requests.get('https://example.com')\n",
    "soup = BeautifulSoup(r.text, 'html.parser')\n",
    "print(soup.title.string)"
   ]
  },
  {
   "cell_type": "code",
   "execution_count": null,
   "id": "46181668",
   "metadata": {},
   "outputs": [],
   "source": [
    "# Topic: Dictionaries & Sets\n",
    "s = {1,2,3}\n",
    "s.add(4)\n",
    "print(s)"
   ]
  },
  {
   "cell_type": "code",
   "execution_count": null,
   "id": "f335ab98",
   "metadata": {},
   "outputs": [],
   "source": [
    "# Topic: File I/O\n",
    "with open('sample.txt') as f:\n",
    "    print(f.read())"
   ]
  },
  {
   "cell_type": "code",
   "execution_count": null,
   "id": "2881cb0d",
   "metadata": {},
   "outputs": [],
   "source": [
    "# Topic: Basics\n",
    "name = 'Fahd'\n",
    "print(f'Welcome, {name}')"
   ]
  },
  {
   "cell_type": "code",
   "execution_count": null,
   "id": "1e6e784c",
   "metadata": {},
   "outputs": [],
   "source": [
    "# Topic: Exceptions\n",
    "try:\n",
    "    print(10/0)\n",
    "except ZeroDivisionError:\n",
    "    print('Cannot divide by zero')"
   ]
  },
  {
   "cell_type": "code",
   "execution_count": null,
   "id": "bd861b07",
   "metadata": {},
   "outputs": [],
   "source": [
    "# Topic: Web Scraping\n",
    "import requests\n",
    "from bs4 import BeautifulSoup\n",
    "r = requests.get('https://example.com')\n",
    "soup = BeautifulSoup(r.text, 'html.parser')\n",
    "print(soup.title.string)"
   ]
  },
  {
   "cell_type": "code",
   "execution_count": null,
   "id": "9bd5d566",
   "metadata": {},
   "outputs": [],
   "source": [
    "# Topic: Recursion\n",
    "def fib(n):\n",
    "    if n <= 1: return n\n",
    "    return fib(n-1) + fib(n-2)\n",
    "print(fib(5))"
   ]
  },
  {
   "cell_type": "code",
   "execution_count": null,
   "id": "50720858",
   "metadata": {},
   "outputs": [],
   "source": [
    "# Topic: Functions\n",
    "def add(a, b): return a + b\n",
    "print(add(3, 4))"
   ]
  },
  {
   "cell_type": "code",
   "execution_count": null,
   "id": "d5e6f75d",
   "metadata": {},
   "outputs": [],
   "source": [
    "# Topic: Web Scraping\n",
    "import requests\n",
    "from bs4 import BeautifulSoup\n",
    "r = requests.get('https://example.com')\n",
    "soup = BeautifulSoup(r.text, 'html.parser')\n",
    "print(soup.title.string)"
   ]
  },
  {
   "cell_type": "code",
   "execution_count": null,
   "id": "800adaa4",
   "metadata": {},
   "outputs": [],
   "source": [
    "# Topic: Matplotlib\n",
    "import matplotlib.pyplot as plt\n",
    "plt.bar(['A','B'], [10,20])\n",
    "plt.show()"
   ]
  },
  {
   "cell_type": "code",
   "execution_count": null,
   "id": "3b2175da",
   "metadata": {},
   "outputs": [],
   "source": [
    "# Topic: Dictionaries & Sets\n",
    "d = {'a':1, 'b':2}\n",
    "print(d['a'])"
   ]
  },
  {
   "cell_type": "code",
   "execution_count": null,
   "id": "2fe6258a",
   "metadata": {},
   "outputs": [],
   "source": [
    "# Topic: Mini Projects\n",
    "# Palindrome checker\n",
    "def is_palindrome(s):\n",
    " return s == s[::-1]\n",
    "print(is_palindrome('madam'))"
   ]
  },
  {
   "cell_type": "code",
   "execution_count": null,
   "id": "84bd8e7a",
   "metadata": {},
   "outputs": [],
   "source": [
    "# Topic: Classes & Objects\n",
    "class Dog:\n",
    "    def bark(self):\n",
    "        print('Woof!')\n",
    "d = Dog()\n",
    "d.bark()"
   ]
  },
  {
   "cell_type": "code",
   "execution_count": null,
   "id": "0fec9cd0",
   "metadata": {},
   "outputs": [],
   "source": [
    "# Topic: Functions\n",
    "def add(a, b): return a + b\n",
    "print(add(3, 4))"
   ]
  },
  {
   "cell_type": "code",
   "execution_count": null,
   "id": "00903643",
   "metadata": {},
   "outputs": [],
   "source": [
    "# Topic: Decorators\n",
    "def decorator(fn):\n",
    "    def wrapper():\n",
    "        print('Before')\n",
    "        fn()\n",
    "        print('After')\n",
    "    return wrapper\n",
    "@decorator\n",
    "def say(): print('Hi')\n",
    "say()"
   ]
  },
  {
   "cell_type": "code",
   "execution_count": null,
   "id": "0887123c",
   "metadata": {},
   "outputs": [],
   "source": [
    "# Topic: Functions\n",
    "def factorial(n):\n",
    "    return 1 if n==0 else n * factorial(n-1)\n",
    "print(factorial(5))"
   ]
  },
  {
   "cell_type": "code",
   "execution_count": null,
   "id": "7ebc665d",
   "metadata": {},
   "outputs": [],
   "source": [
    "# Topic: Mini Projects\n",
    "# Palindrome checker\n",
    "def is_palindrome(s):\n",
    " return s == s[::-1]\n",
    "print(is_palindrome('madam'))"
   ]
  },
  {
   "cell_type": "code",
   "execution_count": null,
   "id": "9693b7f7",
   "metadata": {},
   "outputs": [],
   "source": [
    "# Topic: Loops\n",
    "i = 0\n",
    "while i < 5:\n",
    "    print(i)\n",
    "    i += 1"
   ]
  },
  {
   "cell_type": "code",
   "execution_count": null,
   "id": "cb0b8a3c",
   "metadata": {},
   "outputs": [],
   "source": [
    "# Topic: Loops\n",
    "i = 0\n",
    "while i < 5:\n",
    "    print(i)\n",
    "    i += 1"
   ]
  },
  {
   "cell_type": "code",
   "execution_count": null,
   "id": "ce23f338",
   "metadata": {},
   "outputs": [],
   "source": [
    "# Topic: Web Scraping\n",
    "import requests\n",
    "from bs4 import BeautifulSoup\n",
    "r = requests.get('https://example.com')\n",
    "soup = BeautifulSoup(r.text, 'html.parser')\n",
    "print(soup.title.string)"
   ]
  },
  {
   "cell_type": "code",
   "execution_count": null,
   "id": "03c6cc50",
   "metadata": {},
   "outputs": [],
   "source": [
    "# Topic: Classes & Objects\n",
    "class Dog:\n",
    "    def bark(self):\n",
    "        print('Woof!')\n",
    "d = Dog()\n",
    "d.bark()"
   ]
  },
  {
   "cell_type": "code",
   "execution_count": null,
   "id": "daec0f2c",
   "metadata": {},
   "outputs": [],
   "source": [
    "# Topic: NumPy\n",
    "import numpy as np\n",
    "a = np.array([1,2,3])\n",
    "print(a * 2)"
   ]
  },
  {
   "cell_type": "code",
   "execution_count": null,
   "id": "69cb2375",
   "metadata": {},
   "outputs": [],
   "source": [
    "# Topic: Matplotlib\n",
    "import matplotlib.pyplot as plt\n",
    "plt.bar(['A','B'], [10,20])\n",
    "plt.show()"
   ]
  },
  {
   "cell_type": "code",
   "execution_count": null,
   "id": "084657d4",
   "metadata": {},
   "outputs": [],
   "source": [
    "# Topic: Loops\n",
    "i = 0\n",
    "while i < 5:\n",
    "    print(i)\n",
    "    i += 1"
   ]
  },
  {
   "cell_type": "code",
   "execution_count": null,
   "id": "e9897ada",
   "metadata": {},
   "outputs": [],
   "source": [
    "# Topic: Loops\n",
    "i = 0\n",
    "while i < 5:\n",
    "    print(i)\n",
    "    i += 1"
   ]
  },
  {
   "cell_type": "code",
   "execution_count": null,
   "id": "21afd277",
   "metadata": {},
   "outputs": [],
   "source": [
    "# Topic: Web Scraping\n",
    "import requests\n",
    "from bs4 import BeautifulSoup\n",
    "r = requests.get('https://example.com')\n",
    "soup = BeautifulSoup(r.text, 'html.parser')\n",
    "print(soup.title.string)"
   ]
  },
  {
   "cell_type": "code",
   "execution_count": null,
   "id": "806d9aec",
   "metadata": {},
   "outputs": [],
   "source": [
    "# Topic: Lists & Tuples\n",
    "t = (1,2,3)\n",
    "print(t[1])"
   ]
  },
  {
   "cell_type": "code",
   "execution_count": null,
   "id": "709e5d88",
   "metadata": {},
   "outputs": [],
   "source": [
    "# Topic: Matplotlib\n",
    "import matplotlib.pyplot as plt\n",
    "plt.bar(['A','B'], [10,20])\n",
    "plt.show()"
   ]
  },
  {
   "cell_type": "code",
   "execution_count": null,
   "id": "e7e9cd47",
   "metadata": {},
   "outputs": [],
   "source": [
    "# Topic: Recursion\n",
    "def fib(n):\n",
    "    if n <= 1: return n\n",
    "    return fib(n-1) + fib(n-2)\n",
    "print(fib(5))"
   ]
  },
  {
   "cell_type": "code",
   "execution_count": null,
   "id": "97a19d05",
   "metadata": {},
   "outputs": [],
   "source": [
    "# Topic: Basics\n",
    "x = 7\n",
    "print('Odd' if x % 2 else 'Even')"
   ]
  },
  {
   "cell_type": "code",
   "execution_count": null,
   "id": "4cce0ad6",
   "metadata": {},
   "outputs": [],
   "source": [
    "# Topic: Web Scraping\n",
    "import requests\n",
    "from bs4 import BeautifulSoup\n",
    "r = requests.get('https://example.com')\n",
    "soup = BeautifulSoup(r.text, 'html.parser')\n",
    "print(soup.title.string)"
   ]
  },
  {
   "cell_type": "code",
   "execution_count": null,
   "id": "1d1257a3",
   "metadata": {},
   "outputs": [],
   "source": [
    "# Topic: Functions\n",
    "def factorial(n):\n",
    "    return 1 if n==0 else n * factorial(n-1)\n",
    "print(factorial(5))"
   ]
  },
  {
   "cell_type": "code",
   "execution_count": null,
   "id": "e3cceb41",
   "metadata": {},
   "outputs": [],
   "source": [
    "# Topic: Lists & Tuples\n",
    "nums = [1,2,3]\n",
    "nums.append(4)\n",
    "print(nums)"
   ]
  },
  {
   "cell_type": "code",
   "execution_count": null,
   "id": "05711b5b",
   "metadata": {},
   "outputs": [],
   "source": [
    "# Topic: Web Scraping\n",
    "import requests\n",
    "from bs4 import BeautifulSoup\n",
    "r = requests.get('https://example.com')\n",
    "soup = BeautifulSoup(r.text, 'html.parser')\n",
    "print(soup.title.string)"
   ]
  },
  {
   "cell_type": "code",
   "execution_count": null,
   "id": "872a23fe",
   "metadata": {},
   "outputs": [],
   "source": [
    "# Topic: Mini Projects\n",
    "# Simple calculator\n",
    "def calc(a,b,op):\n",
    " if op=='+': return a+b\n",
    " elif op=='-': return a-b\n",
    "print(calc(10,5,'+'))"
   ]
  },
  {
   "cell_type": "code",
   "execution_count": null,
   "id": "c394dab0",
   "metadata": {},
   "outputs": [],
   "source": [
    "# Topic: File I/O\n",
    "with open('sample.txt', 'w') as f:\n",
    "    f.write('Hello World')"
   ]
  },
  {
   "cell_type": "code",
   "execution_count": null,
   "id": "32be837f",
   "metadata": {},
   "outputs": [],
   "source": [
    "# Topic: Lists & Tuples\n",
    "t = (1,2,3)\n",
    "print(t[1])"
   ]
  },
  {
   "cell_type": "code",
   "execution_count": null,
   "id": "bc73e4cd",
   "metadata": {},
   "outputs": [],
   "source": [
    "# Topic: Decorators\n",
    "def decorator(fn):\n",
    "    def wrapper():\n",
    "        print('Before')\n",
    "        fn()\n",
    "        print('After')\n",
    "    return wrapper\n",
    "@decorator\n",
    "def say(): print('Hi')\n",
    "say()"
   ]
  },
  {
   "cell_type": "code",
   "execution_count": null,
   "id": "619e68bf",
   "metadata": {},
   "outputs": [],
   "source": [
    "# Topic: Decorators\n",
    "def decorator(fn):\n",
    "    def wrapper():\n",
    "        print('Before')\n",
    "        fn()\n",
    "        print('After')\n",
    "    return wrapper\n",
    "@decorator\n",
    "def say(): print('Hi')\n",
    "say()"
   ]
  },
  {
   "cell_type": "code",
   "execution_count": null,
   "id": "3a512ad8",
   "metadata": {},
   "outputs": [],
   "source": [
    "# Topic: Mini Projects\n",
    "# Simple calculator\n",
    "def calc(a,b,op):\n",
    " if op=='+': return a+b\n",
    " elif op=='-': return a-b\n",
    "print(calc(10,5,'+'))"
   ]
  },
  {
   "cell_type": "code",
   "execution_count": null,
   "id": "ee79139b",
   "metadata": {},
   "outputs": [],
   "source": [
    "# Topic: Exceptions\n",
    "try:\n",
    "    print(10/0)\n",
    "except ZeroDivisionError:\n",
    "    print('Cannot divide by zero')"
   ]
  },
  {
   "cell_type": "code",
   "execution_count": null,
   "id": "e48a6cb6",
   "metadata": {},
   "outputs": [],
   "source": [
    "# Topic: Lists & Tuples\n",
    "t = (1,2,3)\n",
    "print(t[1])"
   ]
  },
  {
   "cell_type": "code",
   "execution_count": null,
   "id": "82fbcba7",
   "metadata": {},
   "outputs": [],
   "source": [
    "# Topic: Matplotlib\n",
    "import matplotlib.pyplot as plt\n",
    "plt.plot([1,2],[3,4])\n",
    "plt.show()"
   ]
  },
  {
   "cell_type": "code",
   "execution_count": null,
   "id": "1c3c456d",
   "metadata": {},
   "outputs": [],
   "source": [
    "# Topic: Classes & Objects\n",
    "class Dog:\n",
    "    def bark(self):\n",
    "        print('Woof!')\n",
    "d = Dog()\n",
    "d.bark()"
   ]
  },
  {
   "cell_type": "code",
   "execution_count": null,
   "id": "e0b20f0c",
   "metadata": {},
   "outputs": [],
   "source": [
    "# Topic: Dictionaries & Sets\n",
    "d = {'a':1, 'b':2}\n",
    "print(d['a'])"
   ]
  },
  {
   "cell_type": "code",
   "execution_count": null,
   "id": "38a18186",
   "metadata": {},
   "outputs": [],
   "source": [
    "# Topic: Mini Projects\n",
    "# Palindrome checker\n",
    "def is_palindrome(s):\n",
    " return s == s[::-1]\n",
    "print(is_palindrome('madam'))"
   ]
  },
  {
   "cell_type": "code",
   "execution_count": null,
   "id": "51e87cba",
   "metadata": {},
   "outputs": [],
   "source": [
    "# Topic: Loops\n",
    "i = 0\n",
    "while i < 5:\n",
    "    print(i)\n",
    "    i += 1"
   ]
  },
  {
   "cell_type": "code",
   "execution_count": null,
   "id": "2ba11224",
   "metadata": {},
   "outputs": [],
   "source": [
    "# Topic: Pandas\n",
    "import pandas as pd\n",
    "df = pd.DataFrame({'A':[1,2],'B':[3,4]})\n",
    "print(df)"
   ]
  },
  {
   "cell_type": "code",
   "execution_count": null,
   "id": "df1c0a0a",
   "metadata": {},
   "outputs": [],
   "source": [
    "# Topic: Classes & Objects\n",
    "class Dog:\n",
    "    def bark(self):\n",
    "        print('Woof!')\n",
    "d = Dog()\n",
    "d.bark()"
   ]
  },
  {
   "cell_type": "code",
   "execution_count": null,
   "id": "c82c6dec",
   "metadata": {},
   "outputs": [],
   "source": [
    "# Topic: Basics\n",
    "name = 'Fahd'\n",
    "print(f'Welcome, {name}')"
   ]
  },
  {
   "cell_type": "code",
   "execution_count": null,
   "id": "5f6be7b2",
   "metadata": {},
   "outputs": [],
   "source": [
    "# Topic: File I/O\n",
    "with open('sample.txt', 'w') as f:\n",
    "    f.write('Hello World')"
   ]
  },
  {
   "cell_type": "code",
   "execution_count": null,
   "id": "f32f39a9",
   "metadata": {},
   "outputs": [],
   "source": [
    "# Topic: Matplotlib\n",
    "import matplotlib.pyplot as plt\n",
    "plt.plot([1,2],[3,4])\n",
    "plt.show()"
   ]
  },
  {
   "cell_type": "code",
   "execution_count": null,
   "id": "91d302db",
   "metadata": {},
   "outputs": [],
   "source": [
    "# Topic: Functions\n",
    "def add(a, b): return a + b\n",
    "print(add(3, 4))"
   ]
  },
  {
   "cell_type": "code",
   "execution_count": null,
   "id": "5ddf9d1e",
   "metadata": {},
   "outputs": [],
   "source": [
    "# Topic: Loops\n",
    "for i in range(10): print(i*i)"
   ]
  },
  {
   "cell_type": "code",
   "execution_count": null,
   "id": "4d0c76ca",
   "metadata": {},
   "outputs": [],
   "source": [
    "# Topic: File I/O\n",
    "with open('sample.txt', 'w') as f:\n",
    "    f.write('Hello World')"
   ]
  },
  {
   "cell_type": "code",
   "execution_count": null,
   "id": "2f22e9b1",
   "metadata": {},
   "outputs": [],
   "source": [
    "# Topic: File I/O\n",
    "with open('sample.txt') as f:\n",
    "    print(f.read())"
   ]
  },
  {
   "cell_type": "code",
   "execution_count": null,
   "id": "c239f33d",
   "metadata": {},
   "outputs": [],
   "source": [
    "# Topic: Web Scraping\n",
    "import requests\n",
    "from bs4 import BeautifulSoup\n",
    "r = requests.get('https://example.com')\n",
    "soup = BeautifulSoup(r.text, 'html.parser')\n",
    "print(soup.title.string)"
   ]
  },
  {
   "cell_type": "code",
   "execution_count": null,
   "id": "1d81a5ee",
   "metadata": {},
   "outputs": [],
   "source": [
    "# Topic: File I/O\n",
    "with open('sample.txt') as f:\n",
    "    print(f.read())"
   ]
  },
  {
   "cell_type": "code",
   "execution_count": null,
   "id": "eb598972",
   "metadata": {},
   "outputs": [],
   "source": [
    "# Topic: Mini Projects\n",
    "# Simple calculator\n",
    "def calc(a,b,op):\n",
    " if op=='+': return a+b\n",
    " elif op=='-': return a-b\n",
    "print(calc(10,5,'+'))"
   ]
  },
  {
   "cell_type": "code",
   "execution_count": null,
   "id": "1baeb360",
   "metadata": {},
   "outputs": [],
   "source": [
    "# Topic: Recursion\n",
    "def fib(n):\n",
    "    if n <= 1: return n\n",
    "    return fib(n-1) + fib(n-2)\n",
    "print(fib(5))"
   ]
  },
  {
   "cell_type": "code",
   "execution_count": null,
   "id": "4b2e4437",
   "metadata": {},
   "outputs": [],
   "source": [
    "# Topic: Mini Projects\n",
    "# Simple calculator\n",
    "def calc(a,b,op):\n",
    " if op=='+': return a+b\n",
    " elif op=='-': return a-b\n",
    "print(calc(10,5,'+'))"
   ]
  },
  {
   "cell_type": "code",
   "execution_count": null,
   "id": "0f2788aa",
   "metadata": {},
   "outputs": [],
   "source": [
    "# Topic: Mini Projects\n",
    "# Palindrome checker\n",
    "def is_palindrome(s):\n",
    " return s == s[::-1]\n",
    "print(is_palindrome('madam'))"
   ]
  },
  {
   "cell_type": "code",
   "execution_count": null,
   "id": "48be7f1b",
   "metadata": {},
   "outputs": [],
   "source": [
    "# Topic: Decorators\n",
    "def decorator(fn):\n",
    "    def wrapper():\n",
    "        print('Before')\n",
    "        fn()\n",
    "        print('After')\n",
    "    return wrapper\n",
    "@decorator\n",
    "def say(): print('Hi')\n",
    "say()"
   ]
  },
  {
   "cell_type": "code",
   "execution_count": null,
   "id": "8ee0080f",
   "metadata": {},
   "outputs": [],
   "source": [
    "# Topic: Matplotlib\n",
    "import matplotlib.pyplot as plt\n",
    "plt.bar(['A','B'], [10,20])\n",
    "plt.show()"
   ]
  },
  {
   "cell_type": "code",
   "execution_count": null,
   "id": "71fc07d2",
   "metadata": {},
   "outputs": [],
   "source": [
    "# Topic: Web Scraping\n",
    "import requests\n",
    "from bs4 import BeautifulSoup\n",
    "r = requests.get('https://example.com')\n",
    "soup = BeautifulSoup(r.text, 'html.parser')\n",
    "print(soup.title.string)"
   ]
  },
  {
   "cell_type": "code",
   "execution_count": null,
   "id": "a1d0d7da",
   "metadata": {},
   "outputs": [],
   "source": [
    "# Topic: Exceptions\n",
    "try:\n",
    "    print(10/0)\n",
    "except ZeroDivisionError:\n",
    "    print('Cannot divide by zero')"
   ]
  },
  {
   "cell_type": "code",
   "execution_count": null,
   "id": "01af1228",
   "metadata": {},
   "outputs": [],
   "source": [
    "# Topic: Matplotlib\n",
    "import matplotlib.pyplot as plt\n",
    "plt.plot([1,2],[3,4])\n",
    "plt.show()"
   ]
  },
  {
   "cell_type": "code",
   "execution_count": null,
   "id": "5d1f4c63",
   "metadata": {},
   "outputs": [],
   "source": [
    "# Topic: Dictionaries & Sets\n",
    "s = {1,2,3}\n",
    "s.add(4)\n",
    "print(s)"
   ]
  },
  {
   "cell_type": "code",
   "execution_count": null,
   "id": "c92437ef",
   "metadata": {},
   "outputs": [],
   "source": [
    "# Topic: Lists & Tuples\n",
    "t = (1,2,3)\n",
    "print(t[1])"
   ]
  },
  {
   "cell_type": "code",
   "execution_count": null,
   "id": "5696b038",
   "metadata": {},
   "outputs": [],
   "source": [
    "# Topic: Matplotlib\n",
    "import matplotlib.pyplot as plt\n",
    "plt.bar(['A','B'], [10,20])\n",
    "plt.show()"
   ]
  },
  {
   "cell_type": "code",
   "execution_count": null,
   "id": "5a8fb8d8",
   "metadata": {},
   "outputs": [],
   "source": [
    "# Topic: Basics\n",
    "name = 'Fahd'\n",
    "print(f'Welcome, {name}')"
   ]
  },
  {
   "cell_type": "code",
   "execution_count": null,
   "id": "b1037a5f",
   "metadata": {},
   "outputs": [],
   "source": [
    "# Topic: Exceptions\n",
    "try:\n",
    "    print(10/0)\n",
    "except ZeroDivisionError:\n",
    "    print('Cannot divide by zero')"
   ]
  },
  {
   "cell_type": "code",
   "execution_count": null,
   "id": "2549d3bc",
   "metadata": {},
   "outputs": [],
   "source": [
    "# Topic: Loops\n",
    "i = 0\n",
    "while i < 5:\n",
    "    print(i)\n",
    "    i += 1"
   ]
  },
  {
   "cell_type": "code",
   "execution_count": null,
   "id": "7c5845b1",
   "metadata": {},
   "outputs": [],
   "source": [
    "# Topic: Lists & Tuples\n",
    "t = (1,2,3)\n",
    "print(t[1])"
   ]
  },
  {
   "cell_type": "code",
   "execution_count": null,
   "id": "d6e78a79",
   "metadata": {},
   "outputs": [],
   "source": [
    "# Topic: Decorators\n",
    "def decorator(fn):\n",
    "    def wrapper():\n",
    "        print('Before')\n",
    "        fn()\n",
    "        print('After')\n",
    "    return wrapper\n",
    "@decorator\n",
    "def say(): print('Hi')\n",
    "say()"
   ]
  },
  {
   "cell_type": "code",
   "execution_count": null,
   "id": "7e4addbe",
   "metadata": {},
   "outputs": [],
   "source": [
    "# Topic: Exceptions\n",
    "try:\n",
    "    print(10/0)\n",
    "except ZeroDivisionError:\n",
    "    print('Cannot divide by zero')"
   ]
  },
  {
   "cell_type": "code",
   "execution_count": null,
   "id": "3380ee82",
   "metadata": {},
   "outputs": [],
   "source": [
    "# Topic: Web Scraping\n",
    "import requests\n",
    "from bs4 import BeautifulSoup\n",
    "r = requests.get('https://example.com')\n",
    "soup = BeautifulSoup(r.text, 'html.parser')\n",
    "print(soup.title.string)"
   ]
  },
  {
   "cell_type": "code",
   "execution_count": null,
   "id": "5be79540",
   "metadata": {},
   "outputs": [],
   "source": [
    "# Topic: Mini Projects\n",
    "# Palindrome checker\n",
    "def is_palindrome(s):\n",
    " return s == s[::-1]\n",
    "print(is_palindrome('madam'))"
   ]
  },
  {
   "cell_type": "code",
   "execution_count": null,
   "id": "2e9d16a7",
   "metadata": {},
   "outputs": [],
   "source": [
    "# Topic: Matplotlib\n",
    "import matplotlib.pyplot as plt\n",
    "plt.bar(['A','B'], [10,20])\n",
    "plt.show()"
   ]
  },
  {
   "cell_type": "code",
   "execution_count": null,
   "id": "7e2db45a",
   "metadata": {},
   "outputs": [],
   "source": [
    "# Topic: Web Scraping\n",
    "import requests\n",
    "from bs4 import BeautifulSoup\n",
    "r = requests.get('https://example.com')\n",
    "soup = BeautifulSoup(r.text, 'html.parser')\n",
    "print(soup.title.string)"
   ]
  },
  {
   "cell_type": "code",
   "execution_count": null,
   "id": "4243a632",
   "metadata": {},
   "outputs": [],
   "source": [
    "# Topic: Exceptions\n",
    "try:\n",
    "    print(10/0)\n",
    "except ZeroDivisionError:\n",
    "    print('Cannot divide by zero')"
   ]
  },
  {
   "cell_type": "code",
   "execution_count": null,
   "id": "0787ff1b",
   "metadata": {},
   "outputs": [],
   "source": [
    "# Topic: NumPy\n",
    "import numpy as np\n",
    "print(np.arange(0, 10, 2))"
   ]
  },
  {
   "cell_type": "code",
   "execution_count": null,
   "id": "f5928b86",
   "metadata": {},
   "outputs": [],
   "source": [
    "# Topic: Recursion\n",
    "def fib(n):\n",
    "    if n <= 1: return n\n",
    "    return fib(n-1) + fib(n-2)\n",
    "print(fib(5))"
   ]
  },
  {
   "cell_type": "code",
   "execution_count": null,
   "id": "5a926d59",
   "metadata": {},
   "outputs": [],
   "source": [
    "# Topic: Web Scraping\n",
    "import requests\n",
    "from bs4 import BeautifulSoup\n",
    "r = requests.get('https://example.com')\n",
    "soup = BeautifulSoup(r.text, 'html.parser')\n",
    "print(soup.title.string)"
   ]
  },
  {
   "cell_type": "code",
   "execution_count": null,
   "id": "ee8fefc7",
   "metadata": {},
   "outputs": [],
   "source": [
    "# Topic: Pandas\n",
    "import pandas as pd\n",
    "df = pd.read_csv('data.csv')\n",
    "print(df.head())"
   ]
  },
  {
   "cell_type": "code",
   "execution_count": null,
   "id": "1fab7e17",
   "metadata": {},
   "outputs": [],
   "source": [
    "# Topic: File I/O\n",
    "with open('sample.txt') as f:\n",
    "    print(f.read())"
   ]
  },
  {
   "cell_type": "code",
   "execution_count": null,
   "id": "26652418",
   "metadata": {},
   "outputs": [],
   "source": [
    "# Topic: File I/O\n",
    "with open('sample.txt') as f:\n",
    "    print(f.read())"
   ]
  },
  {
   "cell_type": "code",
   "execution_count": null,
   "id": "c006914b",
   "metadata": {},
   "outputs": [],
   "source": [
    "# Topic: Matplotlib\n",
    "import matplotlib.pyplot as plt\n",
    "plt.bar(['A','B'], [10,20])\n",
    "plt.show()"
   ]
  },
  {
   "cell_type": "code",
   "execution_count": null,
   "id": "cbba13e5",
   "metadata": {},
   "outputs": [],
   "source": [
    "# Topic: Functions\n",
    "def factorial(n):\n",
    "    return 1 if n==0 else n * factorial(n-1)\n",
    "print(factorial(5))"
   ]
  },
  {
   "cell_type": "code",
   "execution_count": null,
   "id": "830bb1c1",
   "metadata": {},
   "outputs": [],
   "source": [
    "# Topic: Recursion\n",
    "def fib(n):\n",
    "    if n <= 1: return n\n",
    "    return fib(n-1) + fib(n-2)\n",
    "print(fib(5))"
   ]
  },
  {
   "cell_type": "code",
   "execution_count": null,
   "id": "900c7456",
   "metadata": {},
   "outputs": [],
   "source": [
    "# Topic: Mini Projects\n",
    "# Palindrome checker\n",
    "def is_palindrome(s):\n",
    " return s == s[::-1]\n",
    "print(is_palindrome('madam'))"
   ]
  },
  {
   "cell_type": "code",
   "execution_count": null,
   "id": "5dff5152",
   "metadata": {},
   "outputs": [],
   "source": [
    "# Topic: Loops\n",
    "for i in range(10): print(i*i)"
   ]
  },
  {
   "cell_type": "code",
   "execution_count": null,
   "id": "fc0f44aa",
   "metadata": {},
   "outputs": [],
   "source": [
    "# Topic: Loops\n",
    "i = 0\n",
    "while i < 5:\n",
    "    print(i)\n",
    "    i += 1"
   ]
  },
  {
   "cell_type": "code",
   "execution_count": null,
   "id": "af55e67a",
   "metadata": {},
   "outputs": [],
   "source": [
    "# Topic: Pandas\n",
    "import pandas as pd\n",
    "df = pd.read_csv('data.csv')\n",
    "print(df.head())"
   ]
  },
  {
   "cell_type": "code",
   "execution_count": null,
   "id": "3c511896",
   "metadata": {},
   "outputs": [],
   "source": [
    "# Topic: Loops\n",
    "for i in range(10): print(i*i)"
   ]
  },
  {
   "cell_type": "code",
   "execution_count": null,
   "id": "e8327d51",
   "metadata": {},
   "outputs": [],
   "source": [
    "# Topic: Matplotlib\n",
    "import matplotlib.pyplot as plt\n",
    "plt.plot([1,2],[3,4])\n",
    "plt.show()"
   ]
  },
  {
   "cell_type": "code",
   "execution_count": null,
   "id": "b1528e57",
   "metadata": {},
   "outputs": [],
   "source": [
    "# Topic: Matplotlib\n",
    "import matplotlib.pyplot as plt\n",
    "plt.plot([1,2],[3,4])\n",
    "plt.show()"
   ]
  },
  {
   "cell_type": "code",
   "execution_count": null,
   "id": "bc09743b",
   "metadata": {},
   "outputs": [],
   "source": [
    "# Topic: Basics\n",
    "name = 'Fahd'\n",
    "print(f'Welcome, {name}')"
   ]
  },
  {
   "cell_type": "code",
   "execution_count": null,
   "id": "5fae41b8",
   "metadata": {},
   "outputs": [],
   "source": [
    "# Topic: Mini Projects\n",
    "# Simple calculator\n",
    "def calc(a,b,op):\n",
    " if op=='+': return a+b\n",
    " elif op=='-': return a-b\n",
    "print(calc(10,5,'+'))"
   ]
  },
  {
   "cell_type": "code",
   "execution_count": null,
   "id": "30798943",
   "metadata": {},
   "outputs": [],
   "source": [
    "# Topic: Mini Projects\n",
    "# Palindrome checker\n",
    "def is_palindrome(s):\n",
    " return s == s[::-1]\n",
    "print(is_palindrome('madam'))"
   ]
  },
  {
   "cell_type": "code",
   "execution_count": null,
   "id": "fba28e30",
   "metadata": {},
   "outputs": [],
   "source": [
    "# Topic: File I/O\n",
    "with open('sample.txt') as f:\n",
    "    print(f.read())"
   ]
  },
  {
   "cell_type": "code",
   "execution_count": null,
   "id": "59c028a7",
   "metadata": {},
   "outputs": [],
   "source": [
    "# Topic: Exceptions\n",
    "try:\n",
    "    print(10/0)\n",
    "except ZeroDivisionError:\n",
    "    print('Cannot divide by zero')"
   ]
  },
  {
   "cell_type": "code",
   "execution_count": null,
   "id": "4975bdfc",
   "metadata": {},
   "outputs": [],
   "source": [
    "# Topic: Recursion\n",
    "def fib(n):\n",
    "    if n <= 1: return n\n",
    "    return fib(n-1) + fib(n-2)\n",
    "print(fib(5))"
   ]
  },
  {
   "cell_type": "code",
   "execution_count": null,
   "id": "bd4dfbb0",
   "metadata": {},
   "outputs": [],
   "source": [
    "# Topic: File I/O\n",
    "with open('sample.txt') as f:\n",
    "    print(f.read())"
   ]
  },
  {
   "cell_type": "code",
   "execution_count": null,
   "id": "5c257312",
   "metadata": {},
   "outputs": [],
   "source": [
    "# Topic: File I/O\n",
    "with open('sample.txt') as f:\n",
    "    print(f.read())"
   ]
  },
  {
   "cell_type": "code",
   "execution_count": null,
   "id": "ea2e20a5",
   "metadata": {},
   "outputs": [],
   "source": [
    "# Topic: Pandas\n",
    "import pandas as pd\n",
    "df = pd.read_csv('data.csv')\n",
    "print(df.head())"
   ]
  },
  {
   "cell_type": "code",
   "execution_count": null,
   "id": "38af65bb",
   "metadata": {},
   "outputs": [],
   "source": [
    "# Topic: Classes & Objects\n",
    "class Dog:\n",
    "    def bark(self):\n",
    "        print('Woof!')\n",
    "d = Dog()\n",
    "d.bark()"
   ]
  },
  {
   "cell_type": "code",
   "execution_count": null,
   "id": "e7a25f41",
   "metadata": {},
   "outputs": [],
   "source": [
    "# Topic: Loops\n",
    "i = 0\n",
    "while i < 5:\n",
    "    print(i)\n",
    "    i += 1"
   ]
  },
  {
   "cell_type": "code",
   "execution_count": null,
   "id": "51b738f3",
   "metadata": {},
   "outputs": [],
   "source": [
    "# Topic: Lists & Tuples\n",
    "nums = [1,2,3]\n",
    "nums.append(4)\n",
    "print(nums)"
   ]
  },
  {
   "cell_type": "code",
   "execution_count": null,
   "id": "e1e08bde",
   "metadata": {},
   "outputs": [],
   "source": [
    "# Topic: Basics\n",
    "x = 7\n",
    "print('Odd' if x % 2 else 'Even')"
   ]
  },
  {
   "cell_type": "code",
   "execution_count": null,
   "id": "9254705e",
   "metadata": {},
   "outputs": [],
   "source": [
    "# Topic: Functions\n",
    "def factorial(n):\n",
    "    return 1 if n==0 else n * factorial(n-1)\n",
    "print(factorial(5))"
   ]
  },
  {
   "cell_type": "code",
   "execution_count": null,
   "id": "355bef30",
   "metadata": {},
   "outputs": [],
   "source": [
    "# Topic: Web Scraping\n",
    "import requests\n",
    "from bs4 import BeautifulSoup\n",
    "r = requests.get('https://example.com')\n",
    "soup = BeautifulSoup(r.text, 'html.parser')\n",
    "print(soup.title.string)"
   ]
  },
  {
   "cell_type": "code",
   "execution_count": null,
   "id": "742c2ff6",
   "metadata": {},
   "outputs": [],
   "source": [
    "# Topic: Mini Projects\n",
    "# Palindrome checker\n",
    "def is_palindrome(s):\n",
    " return s == s[::-1]\n",
    "print(is_palindrome('madam'))"
   ]
  },
  {
   "cell_type": "code",
   "execution_count": null,
   "id": "fc71b398",
   "metadata": {},
   "outputs": [],
   "source": [
    "# Topic: Mini Projects\n",
    "# Palindrome checker\n",
    "def is_palindrome(s):\n",
    " return s == s[::-1]\n",
    "print(is_palindrome('madam'))"
   ]
  },
  {
   "cell_type": "code",
   "execution_count": null,
   "id": "6bad16a5",
   "metadata": {},
   "outputs": [],
   "source": [
    "# Topic: Recursion\n",
    "def fib(n):\n",
    "    if n <= 1: return n\n",
    "    return fib(n-1) + fib(n-2)\n",
    "print(fib(5))"
   ]
  },
  {
   "cell_type": "code",
   "execution_count": null,
   "id": "79025e7f",
   "metadata": {},
   "outputs": [],
   "source": [
    "# Topic: Dictionaries & Sets\n",
    "d = {'a':1, 'b':2}\n",
    "print(d['a'])"
   ]
  },
  {
   "cell_type": "code",
   "execution_count": null,
   "id": "4054e202",
   "metadata": {},
   "outputs": [],
   "source": [
    "# Topic: Decorators\n",
    "def decorator(fn):\n",
    "    def wrapper():\n",
    "        print('Before')\n",
    "        fn()\n",
    "        print('After')\n",
    "    return wrapper\n",
    "@decorator\n",
    "def say(): print('Hi')\n",
    "say()"
   ]
  },
  {
   "cell_type": "code",
   "execution_count": null,
   "id": "9b222965",
   "metadata": {},
   "outputs": [],
   "source": [
    "# Topic: Lists & Tuples\n",
    "t = (1,2,3)\n",
    "print(t[1])"
   ]
  },
  {
   "cell_type": "code",
   "execution_count": null,
   "id": "069b3414",
   "metadata": {},
   "outputs": [],
   "source": [
    "# Topic: File I/O\n",
    "with open('sample.txt') as f:\n",
    "    print(f.read())"
   ]
  },
  {
   "cell_type": "code",
   "execution_count": null,
   "id": "4c9d4f09",
   "metadata": {},
   "outputs": [],
   "source": [
    "# Topic: Basics\n",
    "name = 'Fahd'\n",
    "print(f'Welcome, {name}')"
   ]
  },
  {
   "cell_type": "code",
   "execution_count": null,
   "id": "0f013c05",
   "metadata": {},
   "outputs": [],
   "source": [
    "# Topic: Pandas\n",
    "import pandas as pd\n",
    "df = pd.read_csv('data.csv')\n",
    "print(df.head())"
   ]
  },
  {
   "cell_type": "code",
   "execution_count": null,
   "id": "13366b0c",
   "metadata": {},
   "outputs": [],
   "source": [
    "# Topic: Pandas\n",
    "import pandas as pd\n",
    "df = pd.DataFrame({'A':[1,2],'B':[3,4]})\n",
    "print(df)"
   ]
  },
  {
   "cell_type": "code",
   "execution_count": null,
   "id": "cac049ff",
   "metadata": {},
   "outputs": [],
   "source": [
    "# Topic: Matplotlib\n",
    "import matplotlib.pyplot as plt\n",
    "plt.bar(['A','B'], [10,20])\n",
    "plt.show()"
   ]
  },
  {
   "cell_type": "code",
   "execution_count": null,
   "id": "a0a9cf08",
   "metadata": {},
   "outputs": [],
   "source": [
    "# Topic: Mini Projects\n",
    "# Palindrome checker\n",
    "def is_palindrome(s):\n",
    " return s == s[::-1]\n",
    "print(is_palindrome('madam'))"
   ]
  },
  {
   "cell_type": "code",
   "execution_count": null,
   "id": "a5de10e2",
   "metadata": {},
   "outputs": [],
   "source": [
    "# Topic: Recursion\n",
    "def fib(n):\n",
    "    if n <= 1: return n\n",
    "    return fib(n-1) + fib(n-2)\n",
    "print(fib(5))"
   ]
  },
  {
   "cell_type": "code",
   "execution_count": null,
   "id": "4ec8be6e",
   "metadata": {},
   "outputs": [],
   "source": [
    "# Topic: Classes & Objects\n",
    "class Dog:\n",
    "    def bark(self):\n",
    "        print('Woof!')\n",
    "d = Dog()\n",
    "d.bark()"
   ]
  },
  {
   "cell_type": "code",
   "execution_count": null,
   "id": "f5543e1e",
   "metadata": {},
   "outputs": [],
   "source": [
    "# Topic: Classes & Objects\n",
    "class Dog:\n",
    "    def bark(self):\n",
    "        print('Woof!')\n",
    "d = Dog()\n",
    "d.bark()"
   ]
  },
  {
   "cell_type": "code",
   "execution_count": null,
   "id": "1f992320",
   "metadata": {},
   "outputs": [],
   "source": [
    "# Topic: Web Scraping\n",
    "import requests\n",
    "from bs4 import BeautifulSoup\n",
    "r = requests.get('https://example.com')\n",
    "soup = BeautifulSoup(r.text, 'html.parser')\n",
    "print(soup.title.string)"
   ]
  },
  {
   "cell_type": "code",
   "execution_count": null,
   "id": "5e1b2c84",
   "metadata": {},
   "outputs": [],
   "source": [
    "# Topic: Functions\n",
    "def add(a, b): return a + b\n",
    "print(add(3, 4))"
   ]
  },
  {
   "cell_type": "code",
   "execution_count": null,
   "id": "17f92886",
   "metadata": {},
   "outputs": [],
   "source": [
    "# Topic: Decorators\n",
    "def decorator(fn):\n",
    "    def wrapper():\n",
    "        print('Before')\n",
    "        fn()\n",
    "        print('After')\n",
    "    return wrapper\n",
    "@decorator\n",
    "def say(): print('Hi')\n",
    "say()"
   ]
  },
  {
   "cell_type": "code",
   "execution_count": null,
   "id": "3f7eb7fe",
   "metadata": {},
   "outputs": [],
   "source": [
    "# Topic: Decorators\n",
    "def decorator(fn):\n",
    "    def wrapper():\n",
    "        print('Before')\n",
    "        fn()\n",
    "        print('After')\n",
    "    return wrapper\n",
    "@decorator\n",
    "def say(): print('Hi')\n",
    "say()"
   ]
  },
  {
   "cell_type": "code",
   "execution_count": null,
   "id": "1e3a63dc",
   "metadata": {},
   "outputs": [],
   "source": [
    "# Topic: Functions\n",
    "def add(a, b): return a + b\n",
    "print(add(3, 4))"
   ]
  },
  {
   "cell_type": "code",
   "execution_count": null,
   "id": "0e3a72de",
   "metadata": {},
   "outputs": [],
   "source": [
    "# Topic: File I/O\n",
    "with open('sample.txt') as f:\n",
    "    print(f.read())"
   ]
  },
  {
   "cell_type": "code",
   "execution_count": null,
   "id": "54f2dcf2",
   "metadata": {},
   "outputs": [],
   "source": [
    "# Topic: Classes & Objects\n",
    "class Dog:\n",
    "    def bark(self):\n",
    "        print('Woof!')\n",
    "d = Dog()\n",
    "d.bark()"
   ]
  },
  {
   "cell_type": "code",
   "execution_count": null,
   "id": "45083663",
   "metadata": {},
   "outputs": [],
   "source": [
    "# Topic: Matplotlib\n",
    "import matplotlib.pyplot as plt\n",
    "plt.plot([1,2],[3,4])\n",
    "plt.show()"
   ]
  },
  {
   "cell_type": "code",
   "execution_count": null,
   "id": "d5575be2",
   "metadata": {},
   "outputs": [],
   "source": [
    "# Topic: Recursion\n",
    "def fib(n):\n",
    "    if n <= 1: return n\n",
    "    return fib(n-1) + fib(n-2)\n",
    "print(fib(5))"
   ]
  },
  {
   "cell_type": "code",
   "execution_count": null,
   "id": "95d989f2",
   "metadata": {},
   "outputs": [],
   "source": [
    "# Topic: Pandas\n",
    "import pandas as pd\n",
    "df = pd.DataFrame({'A':[1,2],'B':[3,4]})\n",
    "print(df)"
   ]
  },
  {
   "cell_type": "code",
   "execution_count": null,
   "id": "952bd7ba",
   "metadata": {},
   "outputs": [],
   "source": [
    "# Topic: Web Scraping\n",
    "import requests\n",
    "from bs4 import BeautifulSoup\n",
    "r = requests.get('https://example.com')\n",
    "soup = BeautifulSoup(r.text, 'html.parser')\n",
    "print(soup.title.string)"
   ]
  },
  {
   "cell_type": "code",
   "execution_count": null,
   "id": "ea313b89",
   "metadata": {},
   "outputs": [],
   "source": [
    "# Topic: Pandas\n",
    "import pandas as pd\n",
    "df = pd.DataFrame({'A':[1,2],'B':[3,4]})\n",
    "print(df)"
   ]
  },
  {
   "cell_type": "code",
   "execution_count": null,
   "id": "bae42d15",
   "metadata": {},
   "outputs": [],
   "source": [
    "# Topic: Loops\n",
    "i = 0\n",
    "while i < 5:\n",
    "    print(i)\n",
    "    i += 1"
   ]
  },
  {
   "cell_type": "code",
   "execution_count": null,
   "id": "6e01ccfe",
   "metadata": {},
   "outputs": [],
   "source": [
    "# Topic: Classes & Objects\n",
    "class Dog:\n",
    "    def bark(self):\n",
    "        print('Woof!')\n",
    "d = Dog()\n",
    "d.bark()"
   ]
  },
  {
   "cell_type": "code",
   "execution_count": null,
   "id": "905c602b",
   "metadata": {},
   "outputs": [],
   "source": [
    "# Topic: Dictionaries & Sets\n",
    "s = {1,2,3}\n",
    "s.add(4)\n",
    "print(s)"
   ]
  },
  {
   "cell_type": "code",
   "execution_count": null,
   "id": "6f9600e4",
   "metadata": {},
   "outputs": [],
   "source": [
    "# Topic: Classes & Objects\n",
    "class Dog:\n",
    "    def bark(self):\n",
    "        print('Woof!')\n",
    "d = Dog()\n",
    "d.bark()"
   ]
  },
  {
   "cell_type": "code",
   "execution_count": null,
   "id": "5dc99df2",
   "metadata": {},
   "outputs": [],
   "source": [
    "# Topic: Pandas\n",
    "import pandas as pd\n",
    "df = pd.DataFrame({'A':[1,2],'B':[3,4]})\n",
    "print(df)"
   ]
  },
  {
   "cell_type": "code",
   "execution_count": null,
   "id": "a87290e2",
   "metadata": {},
   "outputs": [],
   "source": [
    "# Topic: Decorators\n",
    "def decorator(fn):\n",
    "    def wrapper():\n",
    "        print('Before')\n",
    "        fn()\n",
    "        print('After')\n",
    "    return wrapper\n",
    "@decorator\n",
    "def say(): print('Hi')\n",
    "say()"
   ]
  },
  {
   "cell_type": "code",
   "execution_count": null,
   "id": "bb4262d5",
   "metadata": {},
   "outputs": [],
   "source": [
    "# Topic: Mini Projects\n",
    "# Palindrome checker\n",
    "def is_palindrome(s):\n",
    " return s == s[::-1]\n",
    "print(is_palindrome('madam'))"
   ]
  },
  {
   "cell_type": "code",
   "execution_count": null,
   "id": "d346c2e3",
   "metadata": {},
   "outputs": [],
   "source": [
    "# Topic: Matplotlib\n",
    "import matplotlib.pyplot as plt\n",
    "plt.bar(['A','B'], [10,20])\n",
    "plt.show()"
   ]
  },
  {
   "cell_type": "code",
   "execution_count": null,
   "id": "057539d8",
   "metadata": {},
   "outputs": [],
   "source": [
    "# Topic: Exceptions\n",
    "try:\n",
    "    print(10/0)\n",
    "except ZeroDivisionError:\n",
    "    print('Cannot divide by zero')"
   ]
  },
  {
   "cell_type": "code",
   "execution_count": null,
   "id": "600fba69",
   "metadata": {},
   "outputs": [],
   "source": [
    "# Topic: File I/O\n",
    "with open('sample.txt', 'w') as f:\n",
    "    f.write('Hello World')"
   ]
  },
  {
   "cell_type": "code",
   "execution_count": null,
   "id": "3c0b1abd",
   "metadata": {},
   "outputs": [],
   "source": [
    "# Topic: Mini Projects\n",
    "# Palindrome checker\n",
    "def is_palindrome(s):\n",
    " return s == s[::-1]\n",
    "print(is_palindrome('madam'))"
   ]
  },
  {
   "cell_type": "code",
   "execution_count": null,
   "id": "d96554b5",
   "metadata": {},
   "outputs": [],
   "source": [
    "# Topic: Web Scraping\n",
    "import requests\n",
    "from bs4 import BeautifulSoup\n",
    "r = requests.get('https://example.com')\n",
    "soup = BeautifulSoup(r.text, 'html.parser')\n",
    "print(soup.title.string)"
   ]
  },
  {
   "cell_type": "code",
   "execution_count": null,
   "id": "8fa8771e",
   "metadata": {},
   "outputs": [],
   "source": [
    "# Topic: Pandas\n",
    "import pandas as pd\n",
    "df = pd.read_csv('data.csv')\n",
    "print(df.head())"
   ]
  },
  {
   "cell_type": "code",
   "execution_count": null,
   "id": "9a2be09c",
   "metadata": {},
   "outputs": [],
   "source": [
    "# Topic: Recursion\n",
    "def fib(n):\n",
    "    if n <= 1: return n\n",
    "    return fib(n-1) + fib(n-2)\n",
    "print(fib(5))"
   ]
  },
  {
   "cell_type": "code",
   "execution_count": null,
   "id": "1175c7af",
   "metadata": {},
   "outputs": [],
   "source": [
    "# Topic: Loops\n",
    "for i in range(10): print(i*i)"
   ]
  },
  {
   "cell_type": "code",
   "execution_count": null,
   "id": "79bf2c0a",
   "metadata": {},
   "outputs": [],
   "source": [
    "# Topic: Basics\n",
    "name = 'Fahd'\n",
    "print(f'Welcome, {name}')"
   ]
  },
  {
   "cell_type": "code",
   "execution_count": null,
   "id": "f9d3cb65",
   "metadata": {},
   "outputs": [],
   "source": [
    "# Topic: Basics\n",
    "name = 'Fahd'\n",
    "print(f'Welcome, {name}')"
   ]
  },
  {
   "cell_type": "code",
   "execution_count": null,
   "id": "b35b5215",
   "metadata": {},
   "outputs": [],
   "source": [
    "# Topic: Dictionaries & Sets\n",
    "d = {'a':1, 'b':2}\n",
    "print(d['a'])"
   ]
  },
  {
   "cell_type": "code",
   "execution_count": null,
   "id": "e0032074",
   "metadata": {},
   "outputs": [],
   "source": [
    "# Topic: Functions\n",
    "def factorial(n):\n",
    "    return 1 if n==0 else n * factorial(n-1)\n",
    "print(factorial(5))"
   ]
  },
  {
   "cell_type": "code",
   "execution_count": null,
   "id": "9d19024b",
   "metadata": {},
   "outputs": [],
   "source": [
    "# Topic: Decorators\n",
    "def decorator(fn):\n",
    "    def wrapper():\n",
    "        print('Before')\n",
    "        fn()\n",
    "        print('After')\n",
    "    return wrapper\n",
    "@decorator\n",
    "def say(): print('Hi')\n",
    "say()"
   ]
  },
  {
   "cell_type": "code",
   "execution_count": null,
   "id": "9ff3870e",
   "metadata": {},
   "outputs": [],
   "source": [
    "# Topic: Decorators\n",
    "def decorator(fn):\n",
    "    def wrapper():\n",
    "        print('Before')\n",
    "        fn()\n",
    "        print('After')\n",
    "    return wrapper\n",
    "@decorator\n",
    "def say(): print('Hi')\n",
    "say()"
   ]
  },
  {
   "cell_type": "code",
   "execution_count": null,
   "id": "aa445e54",
   "metadata": {},
   "outputs": [],
   "source": [
    "# Topic: Web Scraping\n",
    "import requests\n",
    "from bs4 import BeautifulSoup\n",
    "r = requests.get('https://example.com')\n",
    "soup = BeautifulSoup(r.text, 'html.parser')\n",
    "print(soup.title.string)"
   ]
  },
  {
   "cell_type": "code",
   "execution_count": null,
   "id": "d95dcf05",
   "metadata": {},
   "outputs": [],
   "source": [
    "# Topic: Web Scraping\n",
    "import requests\n",
    "from bs4 import BeautifulSoup\n",
    "r = requests.get('https://example.com')\n",
    "soup = BeautifulSoup(r.text, 'html.parser')\n",
    "print(soup.title.string)"
   ]
  },
  {
   "cell_type": "code",
   "execution_count": null,
   "id": "d672e7ab",
   "metadata": {},
   "outputs": [],
   "source": [
    "# Topic: Matplotlib\n",
    "import matplotlib.pyplot as plt\n",
    "plt.bar(['A','B'], [10,20])\n",
    "plt.show()"
   ]
  },
  {
   "cell_type": "code",
   "execution_count": null,
   "id": "336e22b2",
   "metadata": {},
   "outputs": [],
   "source": [
    "# Topic: Pandas\n",
    "import pandas as pd\n",
    "df = pd.DataFrame({'A':[1,2],'B':[3,4]})\n",
    "print(df)"
   ]
  },
  {
   "cell_type": "code",
   "execution_count": null,
   "id": "fdbaed2d",
   "metadata": {},
   "outputs": [],
   "source": [
    "# Topic: Functions\n",
    "def add(a, b): return a + b\n",
    "print(add(3, 4))"
   ]
  },
  {
   "cell_type": "code",
   "execution_count": null,
   "id": "3ce44a52",
   "metadata": {},
   "outputs": [],
   "source": [
    "# Topic: Recursion\n",
    "def fib(n):\n",
    "    if n <= 1: return n\n",
    "    return fib(n-1) + fib(n-2)\n",
    "print(fib(5))"
   ]
  },
  {
   "cell_type": "code",
   "execution_count": null,
   "id": "7e8772b6",
   "metadata": {},
   "outputs": [],
   "source": [
    "# Topic: Functions\n",
    "def add(a, b): return a + b\n",
    "print(add(3, 4))"
   ]
  },
  {
   "cell_type": "code",
   "execution_count": null,
   "id": "958a87ca",
   "metadata": {},
   "outputs": [],
   "source": [
    "# Topic: Loops\n",
    "i = 0\n",
    "while i < 5:\n",
    "    print(i)\n",
    "    i += 1"
   ]
  },
  {
   "cell_type": "code",
   "execution_count": null,
   "id": "68613449",
   "metadata": {},
   "outputs": [],
   "source": [
    "# Topic: Lists & Tuples\n",
    "nums = [1,2,3]\n",
    "nums.append(4)\n",
    "print(nums)"
   ]
  },
  {
   "cell_type": "code",
   "execution_count": null,
   "id": "e7ed7719",
   "metadata": {},
   "outputs": [],
   "source": [
    "# Topic: Functions\n",
    "def add(a, b): return a + b\n",
    "print(add(3, 4))"
   ]
  },
  {
   "cell_type": "code",
   "execution_count": null,
   "id": "171eda1d",
   "metadata": {},
   "outputs": [],
   "source": [
    "# Topic: Decorators\n",
    "def decorator(fn):\n",
    "    def wrapper():\n",
    "        print('Before')\n",
    "        fn()\n",
    "        print('After')\n",
    "    return wrapper\n",
    "@decorator\n",
    "def say(): print('Hi')\n",
    "say()"
   ]
  },
  {
   "cell_type": "code",
   "execution_count": null,
   "id": "9c733ca5",
   "metadata": {},
   "outputs": [],
   "source": [
    "# Topic: NumPy\n",
    "import numpy as np\n",
    "a = np.array([1,2,3])\n",
    "print(a * 2)"
   ]
  },
  {
   "cell_type": "code",
   "execution_count": null,
   "id": "d69048f4",
   "metadata": {},
   "outputs": [],
   "source": [
    "# Topic: Lists & Tuples\n",
    "nums = [1,2,3]\n",
    "nums.append(4)\n",
    "print(nums)"
   ]
  },
  {
   "cell_type": "code",
   "execution_count": null,
   "id": "163e76b2",
   "metadata": {},
   "outputs": [],
   "source": [
    "# Topic: Loops\n",
    "for i in range(10): print(i*i)"
   ]
  },
  {
   "cell_type": "code",
   "execution_count": null,
   "id": "4861a5df",
   "metadata": {},
   "outputs": [],
   "source": [
    "# Topic: Classes & Objects\n",
    "class Dog:\n",
    "    def bark(self):\n",
    "        print('Woof!')\n",
    "d = Dog()\n",
    "d.bark()"
   ]
  },
  {
   "cell_type": "code",
   "execution_count": null,
   "id": "67096c04",
   "metadata": {},
   "outputs": [],
   "source": [
    "# Topic: File I/O\n",
    "with open('sample.txt', 'w') as f:\n",
    "    f.write('Hello World')"
   ]
  },
  {
   "cell_type": "code",
   "execution_count": null,
   "id": "7bed06d4",
   "metadata": {},
   "outputs": [],
   "source": [
    "# Topic: Mini Projects\n",
    "# Simple calculator\n",
    "def calc(a,b,op):\n",
    " if op=='+': return a+b\n",
    " elif op=='-': return a-b\n",
    "print(calc(10,5,'+'))"
   ]
  },
  {
   "cell_type": "code",
   "execution_count": null,
   "id": "340ea0d6",
   "metadata": {},
   "outputs": [],
   "source": [
    "# Topic: Recursion\n",
    "def fib(n):\n",
    "    if n <= 1: return n\n",
    "    return fib(n-1) + fib(n-2)\n",
    "print(fib(5))"
   ]
  },
  {
   "cell_type": "code",
   "execution_count": null,
   "id": "06f7dfc1",
   "metadata": {},
   "outputs": [],
   "source": [
    "# Topic: Matplotlib\n",
    "import matplotlib.pyplot as plt\n",
    "plt.plot([1,2],[3,4])\n",
    "plt.show()"
   ]
  },
  {
   "cell_type": "code",
   "execution_count": null,
   "id": "c4faef07",
   "metadata": {},
   "outputs": [],
   "source": [
    "# Topic: File I/O\n",
    "with open('sample.txt') as f:\n",
    "    print(f.read())"
   ]
  },
  {
   "cell_type": "code",
   "execution_count": null,
   "id": "762a1072",
   "metadata": {},
   "outputs": [],
   "source": [
    "# Topic: NumPy\n",
    "import numpy as np\n",
    "print(np.arange(0, 10, 2))"
   ]
  },
  {
   "cell_type": "code",
   "execution_count": null,
   "id": "9cd50f8b",
   "metadata": {},
   "outputs": [],
   "source": [
    "# Topic: Web Scraping\n",
    "import requests\n",
    "from bs4 import BeautifulSoup\n",
    "r = requests.get('https://example.com')\n",
    "soup = BeautifulSoup(r.text, 'html.parser')\n",
    "print(soup.title.string)"
   ]
  },
  {
   "cell_type": "code",
   "execution_count": null,
   "id": "63ea3b59",
   "metadata": {},
   "outputs": [],
   "source": [
    "# Topic: Loops\n",
    "i = 0\n",
    "while i < 5:\n",
    "    print(i)\n",
    "    i += 1"
   ]
  },
  {
   "cell_type": "code",
   "execution_count": null,
   "id": "91885d69",
   "metadata": {},
   "outputs": [],
   "source": [
    "# Topic: Mini Projects\n",
    "# Simple calculator\n",
    "def calc(a,b,op):\n",
    " if op=='+': return a+b\n",
    " elif op=='-': return a-b\n",
    "print(calc(10,5,'+'))"
   ]
  },
  {
   "cell_type": "code",
   "execution_count": null,
   "id": "255d2643",
   "metadata": {},
   "outputs": [],
   "source": [
    "# Topic: Web Scraping\n",
    "import requests\n",
    "from bs4 import BeautifulSoup\n",
    "r = requests.get('https://example.com')\n",
    "soup = BeautifulSoup(r.text, 'html.parser')\n",
    "print(soup.title.string)"
   ]
  },
  {
   "cell_type": "code",
   "execution_count": null,
   "id": "b15f8971",
   "metadata": {},
   "outputs": [],
   "source": [
    "# Topic: Classes & Objects\n",
    "class Dog:\n",
    "    def bark(self):\n",
    "        print('Woof!')\n",
    "d = Dog()\n",
    "d.bark()"
   ]
  },
  {
   "cell_type": "code",
   "execution_count": null,
   "id": "143771eb",
   "metadata": {},
   "outputs": [],
   "source": [
    "# Topic: Recursion\n",
    "def fib(n):\n",
    "    if n <= 1: return n\n",
    "    return fib(n-1) + fib(n-2)\n",
    "print(fib(5))"
   ]
  },
  {
   "cell_type": "code",
   "execution_count": null,
   "id": "2e04d29b",
   "metadata": {},
   "outputs": [],
   "source": [
    "# Topic: Web Scraping\n",
    "import requests\n",
    "from bs4 import BeautifulSoup\n",
    "r = requests.get('https://example.com')\n",
    "soup = BeautifulSoup(r.text, 'html.parser')\n",
    "print(soup.title.string)"
   ]
  },
  {
   "cell_type": "code",
   "execution_count": null,
   "id": "9eed1187",
   "metadata": {},
   "outputs": [],
   "source": [
    "# Topic: NumPy\n",
    "import numpy as np\n",
    "print(np.arange(0, 10, 2))"
   ]
  },
  {
   "cell_type": "code",
   "execution_count": null,
   "id": "3320f90e",
   "metadata": {},
   "outputs": [],
   "source": [
    "# Topic: Classes & Objects\n",
    "class Dog:\n",
    "    def bark(self):\n",
    "        print('Woof!')\n",
    "d = Dog()\n",
    "d.bark()"
   ]
  },
  {
   "cell_type": "code",
   "execution_count": null,
   "id": "f562818c",
   "metadata": {},
   "outputs": [],
   "source": [
    "# Topic: NumPy\n",
    "import numpy as np\n",
    "a = np.array([1,2,3])\n",
    "print(a * 2)"
   ]
  },
  {
   "cell_type": "code",
   "execution_count": null,
   "id": "91bc13fe",
   "metadata": {},
   "outputs": [],
   "source": [
    "# Topic: Pandas\n",
    "import pandas as pd\n",
    "df = pd.DataFrame({'A':[1,2],'B':[3,4]})\n",
    "print(df)"
   ]
  },
  {
   "cell_type": "code",
   "execution_count": null,
   "id": "968de36a",
   "metadata": {},
   "outputs": [],
   "source": [
    "# Topic: Functions\n",
    "def factorial(n):\n",
    "    return 1 if n==0 else n * factorial(n-1)\n",
    "print(factorial(5))"
   ]
  },
  {
   "cell_type": "code",
   "execution_count": null,
   "id": "ff2a4b25",
   "metadata": {},
   "outputs": [],
   "source": [
    "# Topic: Loops\n",
    "i = 0\n",
    "while i < 5:\n",
    "    print(i)\n",
    "    i += 1"
   ]
  },
  {
   "cell_type": "code",
   "execution_count": null,
   "id": "d5614679",
   "metadata": {},
   "outputs": [],
   "source": [
    "# Topic: Loops\n",
    "for i in range(10): print(i*i)"
   ]
  },
  {
   "cell_type": "code",
   "execution_count": null,
   "id": "f67b430c",
   "metadata": {},
   "outputs": [],
   "source": [
    "# Topic: Lists & Tuples\n",
    "nums = [1,2,3]\n",
    "nums.append(4)\n",
    "print(nums)"
   ]
  },
  {
   "cell_type": "code",
   "execution_count": null,
   "id": "db9b6728",
   "metadata": {},
   "outputs": [],
   "source": [
    "# Topic: Loops\n",
    "i = 0\n",
    "while i < 5:\n",
    "    print(i)\n",
    "    i += 1"
   ]
  },
  {
   "cell_type": "code",
   "execution_count": null,
   "id": "ad96d5b7",
   "metadata": {},
   "outputs": [],
   "source": [
    "# Topic: Pandas\n",
    "import pandas as pd\n",
    "df = pd.read_csv('data.csv')\n",
    "print(df.head())"
   ]
  },
  {
   "cell_type": "code",
   "execution_count": null,
   "id": "a46a743c",
   "metadata": {},
   "outputs": [],
   "source": [
    "# Topic: Web Scraping\n",
    "import requests\n",
    "from bs4 import BeautifulSoup\n",
    "r = requests.get('https://example.com')\n",
    "soup = BeautifulSoup(r.text, 'html.parser')\n",
    "print(soup.title.string)"
   ]
  },
  {
   "cell_type": "code",
   "execution_count": null,
   "id": "ec4f8e46",
   "metadata": {},
   "outputs": [],
   "source": [
    "# Topic: Lists & Tuples\n",
    "nums = [1,2,3]\n",
    "nums.append(4)\n",
    "print(nums)"
   ]
  },
  {
   "cell_type": "code",
   "execution_count": null,
   "id": "ace55f9c",
   "metadata": {},
   "outputs": [],
   "source": [
    "# Topic: Lists & Tuples\n",
    "nums = [1,2,3]\n",
    "nums.append(4)\n",
    "print(nums)"
   ]
  },
  {
   "cell_type": "code",
   "execution_count": null,
   "id": "59eb8568",
   "metadata": {},
   "outputs": [],
   "source": [
    "# Topic: File I/O\n",
    "with open('sample.txt', 'w') as f:\n",
    "    f.write('Hello World')"
   ]
  },
  {
   "cell_type": "code",
   "execution_count": null,
   "id": "2a8b9967",
   "metadata": {},
   "outputs": [],
   "source": [
    "# Topic: File I/O\n",
    "with open('sample.txt', 'w') as f:\n",
    "    f.write('Hello World')"
   ]
  },
  {
   "cell_type": "code",
   "execution_count": null,
   "id": "8435b1d6",
   "metadata": {},
   "outputs": [],
   "source": [
    "# Topic: Loops\n",
    "for i in range(10): print(i*i)"
   ]
  },
  {
   "cell_type": "code",
   "execution_count": null,
   "id": "19b4d32e",
   "metadata": {},
   "outputs": [],
   "source": [
    "# Topic: Lists & Tuples\n",
    "t = (1,2,3)\n",
    "print(t[1])"
   ]
  },
  {
   "cell_type": "code",
   "execution_count": null,
   "id": "ac04ba1f",
   "metadata": {},
   "outputs": [],
   "source": [
    "# Topic: Matplotlib\n",
    "import matplotlib.pyplot as plt\n",
    "plt.plot([1,2],[3,4])\n",
    "plt.show()"
   ]
  },
  {
   "cell_type": "code",
   "execution_count": null,
   "id": "0ff0c484",
   "metadata": {},
   "outputs": [],
   "source": [
    "# Topic: Basics\n",
    "x = 7\n",
    "print('Odd' if x % 2 else 'Even')"
   ]
  },
  {
   "cell_type": "code",
   "execution_count": null,
   "id": "71956535",
   "metadata": {},
   "outputs": [],
   "source": [
    "# Topic: Web Scraping\n",
    "import requests\n",
    "from bs4 import BeautifulSoup\n",
    "r = requests.get('https://example.com')\n",
    "soup = BeautifulSoup(r.text, 'html.parser')\n",
    "print(soup.title.string)"
   ]
  },
  {
   "cell_type": "code",
   "execution_count": null,
   "id": "19ac1d88",
   "metadata": {},
   "outputs": [],
   "source": [
    "# Topic: Lists & Tuples\n",
    "t = (1,2,3)\n",
    "print(t[1])"
   ]
  },
  {
   "cell_type": "code",
   "execution_count": null,
   "id": "5ca23334",
   "metadata": {},
   "outputs": [],
   "source": [
    "# Topic: Loops\n",
    "i = 0\n",
    "while i < 5:\n",
    "    print(i)\n",
    "    i += 1"
   ]
  },
  {
   "cell_type": "code",
   "execution_count": null,
   "id": "78c08fd4",
   "metadata": {},
   "outputs": [],
   "source": [
    "# Topic: Matplotlib\n",
    "import matplotlib.pyplot as plt\n",
    "plt.plot([1,2],[3,4])\n",
    "plt.show()"
   ]
  },
  {
   "cell_type": "code",
   "execution_count": null,
   "id": "a0f96054",
   "metadata": {},
   "outputs": [],
   "source": [
    "# Topic: Decorators\n",
    "def decorator(fn):\n",
    "    def wrapper():\n",
    "        print('Before')\n",
    "        fn()\n",
    "        print('After')\n",
    "    return wrapper\n",
    "@decorator\n",
    "def say(): print('Hi')\n",
    "say()"
   ]
  },
  {
   "cell_type": "code",
   "execution_count": null,
   "id": "06e80ea8",
   "metadata": {},
   "outputs": [],
   "source": [
    "# Topic: Lists & Tuples\n",
    "t = (1,2,3)\n",
    "print(t[1])"
   ]
  },
  {
   "cell_type": "code",
   "execution_count": null,
   "id": "1376d69c",
   "metadata": {},
   "outputs": [],
   "source": [
    "# Topic: Classes & Objects\n",
    "class Dog:\n",
    "    def bark(self):\n",
    "        print('Woof!')\n",
    "d = Dog()\n",
    "d.bark()"
   ]
  },
  {
   "cell_type": "code",
   "execution_count": null,
   "id": "ae5cbd09",
   "metadata": {},
   "outputs": [],
   "source": [
    "# Topic: Loops\n",
    "for i in range(10): print(i*i)"
   ]
  },
  {
   "cell_type": "code",
   "execution_count": null,
   "id": "c2936cd1",
   "metadata": {},
   "outputs": [],
   "source": [
    "# Topic: NumPy\n",
    "import numpy as np\n",
    "print(np.arange(0, 10, 2))"
   ]
  },
  {
   "cell_type": "code",
   "execution_count": null,
   "id": "ccb23fc6",
   "metadata": {},
   "outputs": [],
   "source": [
    "# Topic: Web Scraping\n",
    "import requests\n",
    "from bs4 import BeautifulSoup\n",
    "r = requests.get('https://example.com')\n",
    "soup = BeautifulSoup(r.text, 'html.parser')\n",
    "print(soup.title.string)"
   ]
  },
  {
   "cell_type": "code",
   "execution_count": null,
   "id": "fe968739",
   "metadata": {},
   "outputs": [],
   "source": [
    "# Topic: Matplotlib\n",
    "import matplotlib.pyplot as plt\n",
    "plt.bar(['A','B'], [10,20])\n",
    "plt.show()"
   ]
  },
  {
   "cell_type": "code",
   "execution_count": null,
   "id": "92cb685c",
   "metadata": {},
   "outputs": [],
   "source": [
    "# Topic: Decorators\n",
    "def decorator(fn):\n",
    "    def wrapper():\n",
    "        print('Before')\n",
    "        fn()\n",
    "        print('After')\n",
    "    return wrapper\n",
    "@decorator\n",
    "def say(): print('Hi')\n",
    "say()"
   ]
  },
  {
   "cell_type": "code",
   "execution_count": null,
   "id": "01d78f3a",
   "metadata": {},
   "outputs": [],
   "source": [
    "# Topic: Web Scraping\n",
    "import requests\n",
    "from bs4 import BeautifulSoup\n",
    "r = requests.get('https://example.com')\n",
    "soup = BeautifulSoup(r.text, 'html.parser')\n",
    "print(soup.title.string)"
   ]
  },
  {
   "cell_type": "code",
   "execution_count": null,
   "id": "11d6c706",
   "metadata": {},
   "outputs": [],
   "source": [
    "# Topic: Decorators\n",
    "def decorator(fn):\n",
    "    def wrapper():\n",
    "        print('Before')\n",
    "        fn()\n",
    "        print('After')\n",
    "    return wrapper\n",
    "@decorator\n",
    "def say(): print('Hi')\n",
    "say()"
   ]
  },
  {
   "cell_type": "code",
   "execution_count": null,
   "id": "a5609e27",
   "metadata": {},
   "outputs": [],
   "source": [
    "# Topic: Functions\n",
    "def add(a, b): return a + b\n",
    "print(add(3, 4))"
   ]
  },
  {
   "cell_type": "code",
   "execution_count": null,
   "id": "da552144",
   "metadata": {},
   "outputs": [],
   "source": [
    "# Topic: Web Scraping\n",
    "import requests\n",
    "from bs4 import BeautifulSoup\n",
    "r = requests.get('https://example.com')\n",
    "soup = BeautifulSoup(r.text, 'html.parser')\n",
    "print(soup.title.string)"
   ]
  },
  {
   "cell_type": "code",
   "execution_count": null,
   "id": "ffe3678a",
   "metadata": {},
   "outputs": [],
   "source": [
    "# Topic: Recursion\n",
    "def fib(n):\n",
    "    if n <= 1: return n\n",
    "    return fib(n-1) + fib(n-2)\n",
    "print(fib(5))"
   ]
  },
  {
   "cell_type": "code",
   "execution_count": null,
   "id": "33540c47",
   "metadata": {},
   "outputs": [],
   "source": [
    "# Topic: Basics\n",
    "name = 'Fahd'\n",
    "print(f'Welcome, {name}')"
   ]
  },
  {
   "cell_type": "code",
   "execution_count": null,
   "id": "8a1755a7",
   "metadata": {},
   "outputs": [],
   "source": [
    "# Topic: Basics\n",
    "a = 5\n",
    "b = 3\n",
    "print(a * b)"
   ]
  },
  {
   "cell_type": "code",
   "execution_count": null,
   "id": "ef59278e",
   "metadata": {},
   "outputs": [],
   "source": [
    "# Topic: Pandas\n",
    "import pandas as pd\n",
    "df = pd.read_csv('data.csv')\n",
    "print(df.head())"
   ]
  },
  {
   "cell_type": "code",
   "execution_count": null,
   "id": "ecb885df",
   "metadata": {},
   "outputs": [],
   "source": [
    "# Topic: Recursion\n",
    "def fib(n):\n",
    "    if n <= 1: return n\n",
    "    return fib(n-1) + fib(n-2)\n",
    "print(fib(5))"
   ]
  },
  {
   "cell_type": "code",
   "execution_count": null,
   "id": "b2c0f2dc",
   "metadata": {},
   "outputs": [],
   "source": [
    "# Topic: Recursion\n",
    "def fib(n):\n",
    "    if n <= 1: return n\n",
    "    return fib(n-1) + fib(n-2)\n",
    "print(fib(5))"
   ]
  },
  {
   "cell_type": "code",
   "execution_count": null,
   "id": "d5ea5546",
   "metadata": {},
   "outputs": [],
   "source": [
    "# Topic: Mini Projects\n",
    "# Palindrome checker\n",
    "def is_palindrome(s):\n",
    " return s == s[::-1]\n",
    "print(is_palindrome('madam'))"
   ]
  },
  {
   "cell_type": "code",
   "execution_count": null,
   "id": "6ae00d19",
   "metadata": {},
   "outputs": [],
   "source": [
    "# Topic: Functions\n",
    "def add(a, b): return a + b\n",
    "print(add(3, 4))"
   ]
  },
  {
   "cell_type": "code",
   "execution_count": null,
   "id": "baae70e3",
   "metadata": {},
   "outputs": [],
   "source": [
    "# Topic: Basics\n",
    "x = 7\n",
    "print('Odd' if x % 2 else 'Even')"
   ]
  },
  {
   "cell_type": "code",
   "execution_count": null,
   "id": "4f81a7aa",
   "metadata": {},
   "outputs": [],
   "source": [
    "# Topic: NumPy\n",
    "import numpy as np\n",
    "a = np.array([1,2,3])\n",
    "print(a * 2)"
   ]
  },
  {
   "cell_type": "code",
   "execution_count": null,
   "id": "dbef43cd",
   "metadata": {},
   "outputs": [],
   "source": [
    "# Topic: Dictionaries & Sets\n",
    "s = {1,2,3}\n",
    "s.add(4)\n",
    "print(s)"
   ]
  },
  {
   "cell_type": "code",
   "execution_count": null,
   "id": "8752d642",
   "metadata": {},
   "outputs": [],
   "source": [
    "# Topic: Lists & Tuples\n",
    "t = (1,2,3)\n",
    "print(t[1])"
   ]
  },
  {
   "cell_type": "code",
   "execution_count": null,
   "id": "3ad63e58",
   "metadata": {},
   "outputs": [],
   "source": [
    "# Topic: Functions\n",
    "def add(a, b): return a + b\n",
    "print(add(3, 4))"
   ]
  },
  {
   "cell_type": "code",
   "execution_count": null,
   "id": "2179dc80",
   "metadata": {},
   "outputs": [],
   "source": [
    "# Topic: File I/O\n",
    "with open('sample.txt') as f:\n",
    "    print(f.read())"
   ]
  },
  {
   "cell_type": "code",
   "execution_count": null,
   "id": "3aa945d0",
   "metadata": {},
   "outputs": [],
   "source": [
    "# Topic: File I/O\n",
    "with open('sample.txt', 'w') as f:\n",
    "    f.write('Hello World')"
   ]
  },
  {
   "cell_type": "code",
   "execution_count": null,
   "id": "e78e15df",
   "metadata": {},
   "outputs": [],
   "source": [
    "# Topic: Pandas\n",
    "import pandas as pd\n",
    "df = pd.read_csv('data.csv')\n",
    "print(df.head())"
   ]
  },
  {
   "cell_type": "code",
   "execution_count": null,
   "id": "129afb26",
   "metadata": {},
   "outputs": [],
   "source": [
    "# Topic: Mini Projects\n",
    "# Palindrome checker\n",
    "def is_palindrome(s):\n",
    " return s == s[::-1]\n",
    "print(is_palindrome('madam'))"
   ]
  },
  {
   "cell_type": "code",
   "execution_count": null,
   "id": "c29a8b11",
   "metadata": {},
   "outputs": [],
   "source": [
    "# Topic: Loops\n",
    "i = 0\n",
    "while i < 5:\n",
    "    print(i)\n",
    "    i += 1"
   ]
  },
  {
   "cell_type": "code",
   "execution_count": null,
   "id": "3470f220",
   "metadata": {},
   "outputs": [],
   "source": [
    "# Topic: Basics\n",
    "x = 7\n",
    "print('Odd' if x % 2 else 'Even')"
   ]
  },
  {
   "cell_type": "code",
   "execution_count": null,
   "id": "44c6de77",
   "metadata": {},
   "outputs": [],
   "source": [
    "# Topic: Basics\n",
    "x = 7\n",
    "print('Odd' if x % 2 else 'Even')"
   ]
  },
  {
   "cell_type": "code",
   "execution_count": null,
   "id": "19b053a8",
   "metadata": {},
   "outputs": [],
   "source": [
    "# Topic: Exceptions\n",
    "try:\n",
    "    print(10/0)\n",
    "except ZeroDivisionError:\n",
    "    print('Cannot divide by zero')"
   ]
  },
  {
   "cell_type": "code",
   "execution_count": null,
   "id": "634443c0",
   "metadata": {},
   "outputs": [],
   "source": [
    "# Topic: Basics\n",
    "x = 7\n",
    "print('Odd' if x % 2 else 'Even')"
   ]
  },
  {
   "cell_type": "code",
   "execution_count": null,
   "id": "8c6d44f8",
   "metadata": {},
   "outputs": [],
   "source": [
    "# Topic: Web Scraping\n",
    "import requests\n",
    "from bs4 import BeautifulSoup\n",
    "r = requests.get('https://example.com')\n",
    "soup = BeautifulSoup(r.text, 'html.parser')\n",
    "print(soup.title.string)"
   ]
  },
  {
   "cell_type": "code",
   "execution_count": null,
   "id": "b245b94e",
   "metadata": {},
   "outputs": [],
   "source": [
    "# Topic: Loops\n",
    "i = 0\n",
    "while i < 5:\n",
    "    print(i)\n",
    "    i += 1"
   ]
  },
  {
   "cell_type": "code",
   "execution_count": null,
   "id": "462c1683",
   "metadata": {},
   "outputs": [],
   "source": [
    "# Topic: Matplotlib\n",
    "import matplotlib.pyplot as plt\n",
    "plt.bar(['A','B'], [10,20])\n",
    "plt.show()"
   ]
  },
  {
   "cell_type": "code",
   "execution_count": null,
   "id": "ce8b2559",
   "metadata": {},
   "outputs": [],
   "source": [
    "# Topic: Recursion\n",
    "def fib(n):\n",
    "    if n <= 1: return n\n",
    "    return fib(n-1) + fib(n-2)\n",
    "print(fib(5))"
   ]
  },
  {
   "cell_type": "code",
   "execution_count": null,
   "id": "97965fd1",
   "metadata": {},
   "outputs": [],
   "source": [
    "# Topic: Recursion\n",
    "def fib(n):\n",
    "    if n <= 1: return n\n",
    "    return fib(n-1) + fib(n-2)\n",
    "print(fib(5))"
   ]
  },
  {
   "cell_type": "code",
   "execution_count": null,
   "id": "76853157",
   "metadata": {},
   "outputs": [],
   "source": [
    "# Topic: Recursion\n",
    "def fib(n):\n",
    "    if n <= 1: return n\n",
    "    return fib(n-1) + fib(n-2)\n",
    "print(fib(5))"
   ]
  },
  {
   "cell_type": "code",
   "execution_count": null,
   "id": "04f43f67",
   "metadata": {},
   "outputs": [],
   "source": [
    "# Topic: NumPy\n",
    "import numpy as np\n",
    "a = np.array([1,2,3])\n",
    "print(a * 2)"
   ]
  },
  {
   "cell_type": "code",
   "execution_count": null,
   "id": "f29514db",
   "metadata": {},
   "outputs": [],
   "source": [
    "# Topic: Basics\n",
    "name = 'Fahd'\n",
    "print(f'Welcome, {name}')"
   ]
  },
  {
   "cell_type": "code",
   "execution_count": null,
   "id": "bf9a4500",
   "metadata": {},
   "outputs": [],
   "source": [
    "# Topic: Pandas\n",
    "import pandas as pd\n",
    "df = pd.DataFrame({'A':[1,2],'B':[3,4]})\n",
    "print(df)"
   ]
  },
  {
   "cell_type": "code",
   "execution_count": null,
   "id": "448e7e69",
   "metadata": {},
   "outputs": [],
   "source": [
    "# Topic: Matplotlib\n",
    "import matplotlib.pyplot as plt\n",
    "plt.bar(['A','B'], [10,20])\n",
    "plt.show()"
   ]
  },
  {
   "cell_type": "code",
   "execution_count": null,
   "id": "038b9f8a",
   "metadata": {},
   "outputs": [],
   "source": [
    "# Topic: Matplotlib\n",
    "import matplotlib.pyplot as plt\n",
    "plt.bar(['A','B'], [10,20])\n",
    "plt.show()"
   ]
  },
  {
   "cell_type": "code",
   "execution_count": null,
   "id": "fd6f251c",
   "metadata": {},
   "outputs": [],
   "source": [
    "# Topic: Basics\n",
    "a = 5\n",
    "b = 3\n",
    "print(a * b)"
   ]
  },
  {
   "cell_type": "code",
   "execution_count": null,
   "id": "62769af4",
   "metadata": {},
   "outputs": [],
   "source": [
    "# Topic: Classes & Objects\n",
    "class Dog:\n",
    "    def bark(self):\n",
    "        print('Woof!')\n",
    "d = Dog()\n",
    "d.bark()"
   ]
  },
  {
   "cell_type": "code",
   "execution_count": null,
   "id": "ffdec1e0",
   "metadata": {},
   "outputs": [],
   "source": [
    "# Topic: Dictionaries & Sets\n",
    "s = {1,2,3}\n",
    "s.add(4)\n",
    "print(s)"
   ]
  },
  {
   "cell_type": "code",
   "execution_count": null,
   "id": "26b25332",
   "metadata": {},
   "outputs": [],
   "source": [
    "# Topic: Exceptions\n",
    "try:\n",
    "    print(10/0)\n",
    "except ZeroDivisionError:\n",
    "    print('Cannot divide by zero')"
   ]
  },
  {
   "cell_type": "code",
   "execution_count": null,
   "id": "23af01d4",
   "metadata": {},
   "outputs": [],
   "source": [
    "# Topic: Functions\n",
    "def add(a, b): return a + b\n",
    "print(add(3, 4))"
   ]
  },
  {
   "cell_type": "code",
   "execution_count": null,
   "id": "9bedc0fa",
   "metadata": {},
   "outputs": [],
   "source": [
    "# Topic: File I/O\n",
    "with open('sample.txt', 'w') as f:\n",
    "    f.write('Hello World')"
   ]
  },
  {
   "cell_type": "code",
   "execution_count": null,
   "id": "9668e6be",
   "metadata": {},
   "outputs": [],
   "source": [
    "# Topic: Loops\n",
    "i = 0\n",
    "while i < 5:\n",
    "    print(i)\n",
    "    i += 1"
   ]
  },
  {
   "cell_type": "code",
   "execution_count": null,
   "id": "d51b8c87",
   "metadata": {},
   "outputs": [],
   "source": [
    "# Topic: NumPy\n",
    "import numpy as np\n",
    "print(np.arange(0, 10, 2))"
   ]
  },
  {
   "cell_type": "code",
   "execution_count": null,
   "id": "956273c5",
   "metadata": {},
   "outputs": [],
   "source": [
    "# Topic: NumPy\n",
    "import numpy as np\n",
    "a = np.array([1,2,3])\n",
    "print(a * 2)"
   ]
  },
  {
   "cell_type": "code",
   "execution_count": null,
   "id": "66337c6f",
   "metadata": {},
   "outputs": [],
   "source": [
    "# Topic: Web Scraping\n",
    "import requests\n",
    "from bs4 import BeautifulSoup\n",
    "r = requests.get('https://example.com')\n",
    "soup = BeautifulSoup(r.text, 'html.parser')\n",
    "print(soup.title.string)"
   ]
  },
  {
   "cell_type": "code",
   "execution_count": null,
   "id": "803601bb",
   "metadata": {},
   "outputs": [],
   "source": [
    "# Topic: Exceptions\n",
    "try:\n",
    "    print(10/0)\n",
    "except ZeroDivisionError:\n",
    "    print('Cannot divide by zero')"
   ]
  },
  {
   "cell_type": "code",
   "execution_count": null,
   "id": "1769f869",
   "metadata": {},
   "outputs": [],
   "source": [
    "# Topic: Loops\n",
    "i = 0\n",
    "while i < 5:\n",
    "    print(i)\n",
    "    i += 1"
   ]
  },
  {
   "cell_type": "code",
   "execution_count": null,
   "id": "06792ec1",
   "metadata": {},
   "outputs": [],
   "source": [
    "# Topic: Dictionaries & Sets\n",
    "s = {1,2,3}\n",
    "s.add(4)\n",
    "print(s)"
   ]
  },
  {
   "cell_type": "code",
   "execution_count": null,
   "id": "e98c219a",
   "metadata": {},
   "outputs": [],
   "source": [
    "# Topic: Exceptions\n",
    "try:\n",
    "    print(10/0)\n",
    "except ZeroDivisionError:\n",
    "    print('Cannot divide by zero')"
   ]
  },
  {
   "cell_type": "code",
   "execution_count": null,
   "id": "dd081b2f",
   "metadata": {},
   "outputs": [],
   "source": [
    "# Topic: Dictionaries & Sets\n",
    "d = {'a':1, 'b':2}\n",
    "print(d['a'])"
   ]
  },
  {
   "cell_type": "code",
   "execution_count": null,
   "id": "8976163d",
   "metadata": {},
   "outputs": [],
   "source": [
    "# Topic: Exceptions\n",
    "try:\n",
    "    print(10/0)\n",
    "except ZeroDivisionError:\n",
    "    print('Cannot divide by zero')"
   ]
  },
  {
   "cell_type": "code",
   "execution_count": null,
   "id": "4935ca63",
   "metadata": {},
   "outputs": [],
   "source": [
    "# Topic: Matplotlib\n",
    "import matplotlib.pyplot as plt\n",
    "plt.bar(['A','B'], [10,20])\n",
    "plt.show()"
   ]
  },
  {
   "cell_type": "code",
   "execution_count": null,
   "id": "6d683881",
   "metadata": {},
   "outputs": [],
   "source": [
    "# Topic: Exceptions\n",
    "try:\n",
    "    print(10/0)\n",
    "except ZeroDivisionError:\n",
    "    print('Cannot divide by zero')"
   ]
  },
  {
   "cell_type": "code",
   "execution_count": null,
   "id": "785a5fcf",
   "metadata": {},
   "outputs": [],
   "source": [
    "# Topic: Classes & Objects\n",
    "class Dog:\n",
    "    def bark(self):\n",
    "        print('Woof!')\n",
    "d = Dog()\n",
    "d.bark()"
   ]
  },
  {
   "cell_type": "code",
   "execution_count": null,
   "id": "b056b21d",
   "metadata": {},
   "outputs": [],
   "source": [
    "# Topic: Loops\n",
    "for i in range(10): print(i*i)"
   ]
  },
  {
   "cell_type": "code",
   "execution_count": null,
   "id": "f4258225",
   "metadata": {},
   "outputs": [],
   "source": [
    "# Topic: Matplotlib\n",
    "import matplotlib.pyplot as plt\n",
    "plt.bar(['A','B'], [10,20])\n",
    "plt.show()"
   ]
  },
  {
   "cell_type": "code",
   "execution_count": null,
   "id": "765a38d6",
   "metadata": {},
   "outputs": [],
   "source": [
    "# Topic: Matplotlib\n",
    "import matplotlib.pyplot as plt\n",
    "plt.plot([1,2],[3,4])\n",
    "plt.show()"
   ]
  },
  {
   "cell_type": "code",
   "execution_count": null,
   "id": "5aec4ade",
   "metadata": {},
   "outputs": [],
   "source": [
    "# Topic: Decorators\n",
    "def decorator(fn):\n",
    "    def wrapper():\n",
    "        print('Before')\n",
    "        fn()\n",
    "        print('After')\n",
    "    return wrapper\n",
    "@decorator\n",
    "def say(): print('Hi')\n",
    "say()"
   ]
  },
  {
   "cell_type": "code",
   "execution_count": null,
   "id": "7f849b24",
   "metadata": {},
   "outputs": [],
   "source": [
    "# Topic: Decorators\n",
    "def decorator(fn):\n",
    "    def wrapper():\n",
    "        print('Before')\n",
    "        fn()\n",
    "        print('After')\n",
    "    return wrapper\n",
    "@decorator\n",
    "def say(): print('Hi')\n",
    "say()"
   ]
  },
  {
   "cell_type": "code",
   "execution_count": null,
   "id": "59da0e89",
   "metadata": {},
   "outputs": [],
   "source": [
    "# Topic: Mini Projects\n",
    "# Simple calculator\n",
    "def calc(a,b,op):\n",
    " if op=='+': return a+b\n",
    " elif op=='-': return a-b\n",
    "print(calc(10,5,'+'))"
   ]
  },
  {
   "cell_type": "code",
   "execution_count": null,
   "id": "1e026023",
   "metadata": {},
   "outputs": [],
   "source": [
    "# Topic: Mini Projects\n",
    "# Simple calculator\n",
    "def calc(a,b,op):\n",
    " if op=='+': return a+b\n",
    " elif op=='-': return a-b\n",
    "print(calc(10,5,'+'))"
   ]
  },
  {
   "cell_type": "code",
   "execution_count": null,
   "id": "5819808e",
   "metadata": {},
   "outputs": [],
   "source": [
    "# Topic: File I/O\n",
    "with open('sample.txt', 'w') as f:\n",
    "    f.write('Hello World')"
   ]
  },
  {
   "cell_type": "code",
   "execution_count": null,
   "id": "33a88abb",
   "metadata": {},
   "outputs": [],
   "source": [
    "# Topic: Mini Projects\n",
    "# Palindrome checker\n",
    "def is_palindrome(s):\n",
    " return s == s[::-1]\n",
    "print(is_palindrome('madam'))"
   ]
  },
  {
   "cell_type": "code",
   "execution_count": null,
   "id": "59b60e1e",
   "metadata": {},
   "outputs": [],
   "source": [
    "# Topic: Functions\n",
    "def add(a, b): return a + b\n",
    "print(add(3, 4))"
   ]
  },
  {
   "cell_type": "code",
   "execution_count": null,
   "id": "6199399d",
   "metadata": {},
   "outputs": [],
   "source": [
    "# Topic: NumPy\n",
    "import numpy as np\n",
    "print(np.arange(0, 10, 2))"
   ]
  },
  {
   "cell_type": "code",
   "execution_count": null,
   "id": "2dfa182b",
   "metadata": {},
   "outputs": [],
   "source": [
    "# Topic: Lists & Tuples\n",
    "nums = [1,2,3]\n",
    "nums.append(4)\n",
    "print(nums)"
   ]
  },
  {
   "cell_type": "code",
   "execution_count": null,
   "id": "ccada450",
   "metadata": {},
   "outputs": [],
   "source": [
    "# Topic: Functions\n",
    "def factorial(n):\n",
    "    return 1 if n==0 else n * factorial(n-1)\n",
    "print(factorial(5))"
   ]
  },
  {
   "cell_type": "code",
   "execution_count": null,
   "id": "3b0b2e05",
   "metadata": {},
   "outputs": [],
   "source": [
    "# Topic: NumPy\n",
    "import numpy as np\n",
    "a = np.array([1,2,3])\n",
    "print(a * 2)"
   ]
  },
  {
   "cell_type": "code",
   "execution_count": null,
   "id": "f2236779",
   "metadata": {},
   "outputs": [],
   "source": [
    "# Topic: Classes & Objects\n",
    "class Dog:\n",
    "    def bark(self):\n",
    "        print('Woof!')\n",
    "d = Dog()\n",
    "d.bark()"
   ]
  },
  {
   "cell_type": "code",
   "execution_count": null,
   "id": "81b03131",
   "metadata": {},
   "outputs": [],
   "source": [
    "# Topic: Loops\n",
    "i = 0\n",
    "while i < 5:\n",
    "    print(i)\n",
    "    i += 1"
   ]
  },
  {
   "cell_type": "code",
   "execution_count": null,
   "id": "a6223993",
   "metadata": {},
   "outputs": [],
   "source": [
    "# Topic: Loops\n",
    "i = 0\n",
    "while i < 5:\n",
    "    print(i)\n",
    "    i += 1"
   ]
  },
  {
   "cell_type": "code",
   "execution_count": null,
   "id": "d46ce1d4",
   "metadata": {},
   "outputs": [],
   "source": [
    "# Topic: Decorators\n",
    "def decorator(fn):\n",
    "    def wrapper():\n",
    "        print('Before')\n",
    "        fn()\n",
    "        print('After')\n",
    "    return wrapper\n",
    "@decorator\n",
    "def say(): print('Hi')\n",
    "say()"
   ]
  },
  {
   "cell_type": "code",
   "execution_count": null,
   "id": "233e2c5a",
   "metadata": {},
   "outputs": [],
   "source": [
    "# Topic: Classes & Objects\n",
    "class Dog:\n",
    "    def bark(self):\n",
    "        print('Woof!')\n",
    "d = Dog()\n",
    "d.bark()"
   ]
  },
  {
   "cell_type": "code",
   "execution_count": null,
   "id": "bdd30f53",
   "metadata": {},
   "outputs": [],
   "source": [
    "# Topic: Exceptions\n",
    "try:\n",
    "    print(10/0)\n",
    "except ZeroDivisionError:\n",
    "    print('Cannot divide by zero')"
   ]
  },
  {
   "cell_type": "code",
   "execution_count": null,
   "id": "cdc45ff8",
   "metadata": {},
   "outputs": [],
   "source": [
    "# Topic: Decorators\n",
    "def decorator(fn):\n",
    "    def wrapper():\n",
    "        print('Before')\n",
    "        fn()\n",
    "        print('After')\n",
    "    return wrapper\n",
    "@decorator\n",
    "def say(): print('Hi')\n",
    "say()"
   ]
  },
  {
   "cell_type": "code",
   "execution_count": null,
   "id": "27fec597",
   "metadata": {},
   "outputs": [],
   "source": [
    "# Topic: Web Scraping\n",
    "import requests\n",
    "from bs4 import BeautifulSoup\n",
    "r = requests.get('https://example.com')\n",
    "soup = BeautifulSoup(r.text, 'html.parser')\n",
    "print(soup.title.string)"
   ]
  },
  {
   "cell_type": "code",
   "execution_count": null,
   "id": "02d4def1",
   "metadata": {},
   "outputs": [],
   "source": [
    "# Topic: Pandas\n",
    "import pandas as pd\n",
    "df = pd.DataFrame({'A':[1,2],'B':[3,4]})\n",
    "print(df)"
   ]
  },
  {
   "cell_type": "code",
   "execution_count": null,
   "id": "2bbfeeca",
   "metadata": {},
   "outputs": [],
   "source": [
    "# Topic: Pandas\n",
    "import pandas as pd\n",
    "df = pd.read_csv('data.csv')\n",
    "print(df.head())"
   ]
  },
  {
   "cell_type": "code",
   "execution_count": null,
   "id": "4993c800",
   "metadata": {},
   "outputs": [],
   "source": [
    "# Topic: Basics\n",
    "x = 7\n",
    "print('Odd' if x % 2 else 'Even')"
   ]
  },
  {
   "cell_type": "code",
   "execution_count": null,
   "id": "e387abd4",
   "metadata": {},
   "outputs": [],
   "source": [
    "# Topic: Exceptions\n",
    "try:\n",
    "    print(10/0)\n",
    "except ZeroDivisionError:\n",
    "    print('Cannot divide by zero')"
   ]
  },
  {
   "cell_type": "code",
   "execution_count": null,
   "id": "11349a72",
   "metadata": {},
   "outputs": [],
   "source": [
    "# Topic: Dictionaries & Sets\n",
    "d = {'a':1, 'b':2}\n",
    "print(d['a'])"
   ]
  },
  {
   "cell_type": "code",
   "execution_count": null,
   "id": "9a21ea03",
   "metadata": {},
   "outputs": [],
   "source": [
    "# Topic: Lists & Tuples\n",
    "t = (1,2,3)\n",
    "print(t[1])"
   ]
  },
  {
   "cell_type": "code",
   "execution_count": null,
   "id": "c5276e0c",
   "metadata": {},
   "outputs": [],
   "source": [
    "# Topic: Classes & Objects\n",
    "class Dog:\n",
    "    def bark(self):\n",
    "        print('Woof!')\n",
    "d = Dog()\n",
    "d.bark()"
   ]
  },
  {
   "cell_type": "code",
   "execution_count": null,
   "id": "3fb52c5a",
   "metadata": {},
   "outputs": [],
   "source": [
    "# Topic: Web Scraping\n",
    "import requests\n",
    "from bs4 import BeautifulSoup\n",
    "r = requests.get('https://example.com')\n",
    "soup = BeautifulSoup(r.text, 'html.parser')\n",
    "print(soup.title.string)"
   ]
  },
  {
   "cell_type": "code",
   "execution_count": null,
   "id": "4277bc1f",
   "metadata": {},
   "outputs": [],
   "source": [
    "# Topic: File I/O\n",
    "with open('sample.txt', 'w') as f:\n",
    "    f.write('Hello World')"
   ]
  },
  {
   "cell_type": "code",
   "execution_count": null,
   "id": "2ad6ff5d",
   "metadata": {},
   "outputs": [],
   "source": [
    "# Topic: Classes & Objects\n",
    "class Dog:\n",
    "    def bark(self):\n",
    "        print('Woof!')\n",
    "d = Dog()\n",
    "d.bark()"
   ]
  },
  {
   "cell_type": "code",
   "execution_count": null,
   "id": "250e902b",
   "metadata": {},
   "outputs": [],
   "source": [
    "# Topic: Pandas\n",
    "import pandas as pd\n",
    "df = pd.DataFrame({'A':[1,2],'B':[3,4]})\n",
    "print(df)"
   ]
  },
  {
   "cell_type": "code",
   "execution_count": null,
   "id": "3409ae23",
   "metadata": {},
   "outputs": [],
   "source": [
    "# Topic: Mini Projects\n",
    "# Simple calculator\n",
    "def calc(a,b,op):\n",
    " if op=='+': return a+b\n",
    " elif op=='-': return a-b\n",
    "print(calc(10,5,'+'))"
   ]
  },
  {
   "cell_type": "code",
   "execution_count": null,
   "id": "42e4cef3",
   "metadata": {},
   "outputs": [],
   "source": [
    "# Topic: Dictionaries & Sets\n",
    "d = {'a':1, 'b':2}\n",
    "print(d['a'])"
   ]
  },
  {
   "cell_type": "code",
   "execution_count": null,
   "id": "dc6001fb",
   "metadata": {},
   "outputs": [],
   "source": [
    "# Topic: Web Scraping\n",
    "import requests\n",
    "from bs4 import BeautifulSoup\n",
    "r = requests.get('https://example.com')\n",
    "soup = BeautifulSoup(r.text, 'html.parser')\n",
    "print(soup.title.string)"
   ]
  },
  {
   "cell_type": "code",
   "execution_count": null,
   "id": "0705a8df",
   "metadata": {},
   "outputs": [],
   "source": [
    "# Topic: Dictionaries & Sets\n",
    "d = {'a':1, 'b':2}\n",
    "print(d['a'])"
   ]
  },
  {
   "cell_type": "code",
   "execution_count": null,
   "id": "8d4b6624",
   "metadata": {},
   "outputs": [],
   "source": [
    "# Topic: Exceptions\n",
    "try:\n",
    "    print(10/0)\n",
    "except ZeroDivisionError:\n",
    "    print('Cannot divide by zero')"
   ]
  },
  {
   "cell_type": "code",
   "execution_count": null,
   "id": "ab249898",
   "metadata": {},
   "outputs": [],
   "source": [
    "# Topic: Pandas\n",
    "import pandas as pd\n",
    "df = pd.DataFrame({'A':[1,2],'B':[3,4]})\n",
    "print(df)"
   ]
  },
  {
   "cell_type": "code",
   "execution_count": null,
   "id": "16c89780",
   "metadata": {},
   "outputs": [],
   "source": [
    "# Topic: Functions\n",
    "def add(a, b): return a + b\n",
    "print(add(3, 4))"
   ]
  },
  {
   "cell_type": "code",
   "execution_count": null,
   "id": "93e7f4a7",
   "metadata": {},
   "outputs": [],
   "source": [
    "# Topic: Recursion\n",
    "def fib(n):\n",
    "    if n <= 1: return n\n",
    "    return fib(n-1) + fib(n-2)\n",
    "print(fib(5))"
   ]
  },
  {
   "cell_type": "code",
   "execution_count": null,
   "id": "2fe48b02",
   "metadata": {},
   "outputs": [],
   "source": [
    "# Topic: File I/O\n",
    "with open('sample.txt', 'w') as f:\n",
    "    f.write('Hello World')"
   ]
  },
  {
   "cell_type": "code",
   "execution_count": null,
   "id": "68766b65",
   "metadata": {},
   "outputs": [],
   "source": [
    "# Topic: Lists & Tuples\n",
    "t = (1,2,3)\n",
    "print(t[1])"
   ]
  },
  {
   "cell_type": "code",
   "execution_count": null,
   "id": "116c413b",
   "metadata": {},
   "outputs": [],
   "source": [
    "# Topic: NumPy\n",
    "import numpy as np\n",
    "a = np.array([1,2,3])\n",
    "print(a * 2)"
   ]
  },
  {
   "cell_type": "code",
   "execution_count": null,
   "id": "13447fd8",
   "metadata": {},
   "outputs": [],
   "source": [
    "# Topic: Classes & Objects\n",
    "class Dog:\n",
    "    def bark(self):\n",
    "        print('Woof!')\n",
    "d = Dog()\n",
    "d.bark()"
   ]
  },
  {
   "cell_type": "code",
   "execution_count": null,
   "id": "8233360d",
   "metadata": {},
   "outputs": [],
   "source": [
    "# Topic: Exceptions\n",
    "try:\n",
    "    print(10/0)\n",
    "except ZeroDivisionError:\n",
    "    print('Cannot divide by zero')"
   ]
  },
  {
   "cell_type": "code",
   "execution_count": null,
   "id": "49bb06a7",
   "metadata": {},
   "outputs": [],
   "source": [
    "# Topic: Pandas\n",
    "import pandas as pd\n",
    "df = pd.DataFrame({'A':[1,2],'B':[3,4]})\n",
    "print(df)"
   ]
  },
  {
   "cell_type": "code",
   "execution_count": null,
   "id": "a8dd6bca",
   "metadata": {},
   "outputs": [],
   "source": [
    "# Topic: Classes & Objects\n",
    "class Dog:\n",
    "    def bark(self):\n",
    "        print('Woof!')\n",
    "d = Dog()\n",
    "d.bark()"
   ]
  },
  {
   "cell_type": "code",
   "execution_count": null,
   "id": "3aa7f9e8",
   "metadata": {},
   "outputs": [],
   "source": [
    "# Topic: NumPy\n",
    "import numpy as np\n",
    "print(np.arange(0, 10, 2))"
   ]
  },
  {
   "cell_type": "code",
   "execution_count": null,
   "id": "da114c41",
   "metadata": {},
   "outputs": [],
   "source": [
    "# Topic: NumPy\n",
    "import numpy as np\n",
    "print(np.arange(0, 10, 2))"
   ]
  },
  {
   "cell_type": "code",
   "execution_count": null,
   "id": "576407ff",
   "metadata": {},
   "outputs": [],
   "source": [
    "# Topic: Web Scraping\n",
    "import requests\n",
    "from bs4 import BeautifulSoup\n",
    "r = requests.get('https://example.com')\n",
    "soup = BeautifulSoup(r.text, 'html.parser')\n",
    "print(soup.title.string)"
   ]
  },
  {
   "cell_type": "code",
   "execution_count": null,
   "id": "a62cd0a3",
   "metadata": {},
   "outputs": [],
   "source": [
    "# Topic: Dictionaries & Sets\n",
    "d = {'a':1, 'b':2}\n",
    "print(d['a'])"
   ]
  },
  {
   "cell_type": "code",
   "execution_count": null,
   "id": "bf08c888",
   "metadata": {},
   "outputs": [],
   "source": [
    "# Topic: Classes & Objects\n",
    "class Dog:\n",
    "    def bark(self):\n",
    "        print('Woof!')\n",
    "d = Dog()\n",
    "d.bark()"
   ]
  },
  {
   "cell_type": "code",
   "execution_count": null,
   "id": "6286477c",
   "metadata": {},
   "outputs": [],
   "source": [
    "# Topic: Functions\n",
    "def add(a, b): return a + b\n",
    "print(add(3, 4))"
   ]
  },
  {
   "cell_type": "code",
   "execution_count": null,
   "id": "2919c8a4",
   "metadata": {},
   "outputs": [],
   "source": [
    "# Topic: Recursion\n",
    "def fib(n):\n",
    "    if n <= 1: return n\n",
    "    return fib(n-1) + fib(n-2)\n",
    "print(fib(5))"
   ]
  },
  {
   "cell_type": "code",
   "execution_count": null,
   "id": "c4dd45d5",
   "metadata": {},
   "outputs": [],
   "source": [
    "# Topic: NumPy\n",
    "import numpy as np\n",
    "a = np.array([1,2,3])\n",
    "print(a * 2)"
   ]
  },
  {
   "cell_type": "code",
   "execution_count": null,
   "id": "d3c35c0e",
   "metadata": {},
   "outputs": [],
   "source": [
    "# Topic: Pandas\n",
    "import pandas as pd\n",
    "df = pd.read_csv('data.csv')\n",
    "print(df.head())"
   ]
  },
  {
   "cell_type": "code",
   "execution_count": null,
   "id": "2e6b0a26",
   "metadata": {},
   "outputs": [],
   "source": [
    "# Topic: Decorators\n",
    "def decorator(fn):\n",
    "    def wrapper():\n",
    "        print('Before')\n",
    "        fn()\n",
    "        print('After')\n",
    "    return wrapper\n",
    "@decorator\n",
    "def say(): print('Hi')\n",
    "say()"
   ]
  },
  {
   "cell_type": "code",
   "execution_count": null,
   "id": "f5202923",
   "metadata": {},
   "outputs": [],
   "source": [
    "# Topic: File I/O\n",
    "with open('sample.txt') as f:\n",
    "    print(f.read())"
   ]
  },
  {
   "cell_type": "code",
   "execution_count": null,
   "id": "b2803da6",
   "metadata": {},
   "outputs": [],
   "source": [
    "# Topic: NumPy\n",
    "import numpy as np\n",
    "a = np.array([1,2,3])\n",
    "print(a * 2)"
   ]
  },
  {
   "cell_type": "code",
   "execution_count": null,
   "id": "8ccae622",
   "metadata": {},
   "outputs": [],
   "source": [
    "# Topic: Pandas\n",
    "import pandas as pd\n",
    "df = pd.DataFrame({'A':[1,2],'B':[3,4]})\n",
    "print(df)"
   ]
  },
  {
   "cell_type": "code",
   "execution_count": null,
   "id": "574cca8f",
   "metadata": {},
   "outputs": [],
   "source": [
    "# Topic: Basics\n",
    "a = 5\n",
    "b = 3\n",
    "print(a * b)"
   ]
  },
  {
   "cell_type": "code",
   "execution_count": null,
   "id": "9bec4f48",
   "metadata": {},
   "outputs": [],
   "source": [
    "# Topic: Basics\n",
    "name = 'Fahd'\n",
    "print(f'Welcome, {name}')"
   ]
  },
  {
   "cell_type": "code",
   "execution_count": null,
   "id": "4c122f15",
   "metadata": {},
   "outputs": [],
   "source": [
    "# Topic: Loops\n",
    "i = 0\n",
    "while i < 5:\n",
    "    print(i)\n",
    "    i += 1"
   ]
  },
  {
   "cell_type": "code",
   "execution_count": null,
   "id": "aac9e4d4",
   "metadata": {},
   "outputs": [],
   "source": [
    "# Topic: NumPy\n",
    "import numpy as np\n",
    "a = np.array([1,2,3])\n",
    "print(a * 2)"
   ]
  },
  {
   "cell_type": "code",
   "execution_count": null,
   "id": "e5c21e2a",
   "metadata": {},
   "outputs": [],
   "source": [
    "# Topic: Basics\n",
    "name = 'Fahd'\n",
    "print(f'Welcome, {name}')"
   ]
  },
  {
   "cell_type": "code",
   "execution_count": null,
   "id": "192d8f96",
   "metadata": {},
   "outputs": [],
   "source": [
    "# Topic: Mini Projects\n",
    "# Simple calculator\n",
    "def calc(a,b,op):\n",
    " if op=='+': return a+b\n",
    " elif op=='-': return a-b\n",
    "print(calc(10,5,'+'))"
   ]
  },
  {
   "cell_type": "code",
   "execution_count": null,
   "id": "273a190a",
   "metadata": {},
   "outputs": [],
   "source": [
    "# Topic: Matplotlib\n",
    "import matplotlib.pyplot as plt\n",
    "plt.plot([1,2],[3,4])\n",
    "plt.show()"
   ]
  },
  {
   "cell_type": "code",
   "execution_count": null,
   "id": "70598dbc",
   "metadata": {},
   "outputs": [],
   "source": [
    "# Topic: NumPy\n",
    "import numpy as np\n",
    "a = np.array([1,2,3])\n",
    "print(a * 2)"
   ]
  },
  {
   "cell_type": "code",
   "execution_count": null,
   "id": "6869a9e4",
   "metadata": {},
   "outputs": [],
   "source": [
    "# Topic: Loops\n",
    "for i in range(10): print(i*i)"
   ]
  },
  {
   "cell_type": "code",
   "execution_count": null,
   "id": "387a1af1",
   "metadata": {},
   "outputs": [],
   "source": [
    "# Topic: Pandas\n",
    "import pandas as pd\n",
    "df = pd.DataFrame({'A':[1,2],'B':[3,4]})\n",
    "print(df)"
   ]
  },
  {
   "cell_type": "code",
   "execution_count": null,
   "id": "83b85578",
   "metadata": {},
   "outputs": [],
   "source": [
    "# Topic: Functions\n",
    "def add(a, b): return a + b\n",
    "print(add(3, 4))"
   ]
  },
  {
   "cell_type": "code",
   "execution_count": null,
   "id": "d3996cc0",
   "metadata": {},
   "outputs": [],
   "source": [
    "# Topic: Exceptions\n",
    "try:\n",
    "    print(10/0)\n",
    "except ZeroDivisionError:\n",
    "    print('Cannot divide by zero')"
   ]
  },
  {
   "cell_type": "code",
   "execution_count": null,
   "id": "5539eba0",
   "metadata": {},
   "outputs": [],
   "source": [
    "# Topic: Exceptions\n",
    "try:\n",
    "    print(10/0)\n",
    "except ZeroDivisionError:\n",
    "    print('Cannot divide by zero')"
   ]
  },
  {
   "cell_type": "code",
   "execution_count": null,
   "id": "bd2d1e78",
   "metadata": {},
   "outputs": [],
   "source": [
    "# Topic: Classes & Objects\n",
    "class Dog:\n",
    "    def bark(self):\n",
    "        print('Woof!')\n",
    "d = Dog()\n",
    "d.bark()"
   ]
  },
  {
   "cell_type": "code",
   "execution_count": null,
   "id": "4447d6a5",
   "metadata": {},
   "outputs": [],
   "source": [
    "# Topic: File I/O\n",
    "with open('sample.txt', 'w') as f:\n",
    "    f.write('Hello World')"
   ]
  },
  {
   "cell_type": "code",
   "execution_count": null,
   "id": "0d2f0d8e",
   "metadata": {},
   "outputs": [],
   "source": [
    "# Topic: Matplotlib\n",
    "import matplotlib.pyplot as plt\n",
    "plt.bar(['A','B'], [10,20])\n",
    "plt.show()"
   ]
  },
  {
   "cell_type": "code",
   "execution_count": null,
   "id": "ac233a08",
   "metadata": {},
   "outputs": [],
   "source": [
    "# Topic: Pandas\n",
    "import pandas as pd\n",
    "df = pd.read_csv('data.csv')\n",
    "print(df.head())"
   ]
  },
  {
   "cell_type": "code",
   "execution_count": null,
   "id": "a1a0f6f0",
   "metadata": {},
   "outputs": [],
   "source": [
    "# Topic: Mini Projects\n",
    "# Palindrome checker\n",
    "def is_palindrome(s):\n",
    " return s == s[::-1]\n",
    "print(is_palindrome('madam'))"
   ]
  },
  {
   "cell_type": "code",
   "execution_count": null,
   "id": "834ffe99",
   "metadata": {},
   "outputs": [],
   "source": [
    "# Topic: Dictionaries & Sets\n",
    "d = {'a':1, 'b':2}\n",
    "print(d['a'])"
   ]
  },
  {
   "cell_type": "code",
   "execution_count": null,
   "id": "b6c4e506",
   "metadata": {},
   "outputs": [],
   "source": [
    "# Topic: Exceptions\n",
    "try:\n",
    "    print(10/0)\n",
    "except ZeroDivisionError:\n",
    "    print('Cannot divide by zero')"
   ]
  },
  {
   "cell_type": "code",
   "execution_count": null,
   "id": "bd13d6c2",
   "metadata": {},
   "outputs": [],
   "source": [
    "# Topic: Pandas\n",
    "import pandas as pd\n",
    "df = pd.read_csv('data.csv')\n",
    "print(df.head())"
   ]
  },
  {
   "cell_type": "code",
   "execution_count": null,
   "id": "acc058fe",
   "metadata": {},
   "outputs": [],
   "source": [
    "# Topic: NumPy\n",
    "import numpy as np\n",
    "print(np.arange(0, 10, 2))"
   ]
  },
  {
   "cell_type": "code",
   "execution_count": null,
   "id": "bad9e892",
   "metadata": {},
   "outputs": [],
   "source": [
    "# Topic: Matplotlib\n",
    "import matplotlib.pyplot as plt\n",
    "plt.plot([1,2],[3,4])\n",
    "plt.show()"
   ]
  },
  {
   "cell_type": "code",
   "execution_count": null,
   "id": "d9fae42c",
   "metadata": {},
   "outputs": [],
   "source": [
    "# Topic: File I/O\n",
    "with open('sample.txt') as f:\n",
    "    print(f.read())"
   ]
  },
  {
   "cell_type": "code",
   "execution_count": null,
   "id": "5ff8a499",
   "metadata": {},
   "outputs": [],
   "source": [
    "# Topic: Loops\n",
    "i = 0\n",
    "while i < 5:\n",
    "    print(i)\n",
    "    i += 1"
   ]
  },
  {
   "cell_type": "code",
   "execution_count": null,
   "id": "2deaefdb",
   "metadata": {},
   "outputs": [],
   "source": [
    "# Topic: Lists & Tuples\n",
    "nums = [1,2,3]\n",
    "nums.append(4)\n",
    "print(nums)"
   ]
  },
  {
   "cell_type": "code",
   "execution_count": null,
   "id": "a7979e8a",
   "metadata": {},
   "outputs": [],
   "source": [
    "# Topic: Decorators\n",
    "def decorator(fn):\n",
    "    def wrapper():\n",
    "        print('Before')\n",
    "        fn()\n",
    "        print('After')\n",
    "    return wrapper\n",
    "@decorator\n",
    "def say(): print('Hi')\n",
    "say()"
   ]
  },
  {
   "cell_type": "code",
   "execution_count": null,
   "id": "54505593",
   "metadata": {},
   "outputs": [],
   "source": [
    "# Topic: Exceptions\n",
    "try:\n",
    "    print(10/0)\n",
    "except ZeroDivisionError:\n",
    "    print('Cannot divide by zero')"
   ]
  }
 ],
 "metadata": {},
 "nbformat": 4,
 "nbformat_minor": 5
}
