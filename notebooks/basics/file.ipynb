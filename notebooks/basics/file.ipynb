{
 "cells": [
  {
   "cell_type": "code",
   "execution_count": 1,
   "id": "4f824515-6e78-4319-85a0-082ef5fbaeb6",
   "metadata": {},
   "outputs": [],
   "source": [
    "# Create sample text\n",
    "sample_text = \"\"\"\n",
    "Python is an amazing programming language.\n",
    "It is popular for data science, AI, and more.\n",
    "Python emphasizes code readability.\n",
    "\"\"\"\n"
   ]
  },
  {
   "cell_type": "code",
   "execution_count": 2,
   "id": "5a1197ae-cf07-4501-99f9-5906802ad115",
   "metadata": {},
   "outputs": [],
   "source": [
    "# Write to file\n",
    "with open(\"sample.txt\", \"w\") as f:\n",
    "    f.write(sample_text)\n"
   ]
  },
  {
   "cell_type": "code",
   "execution_count": 3,
   "id": "a1c5782d-17f0-46cf-9e87-5df2f642fd0b",
   "metadata": {},
   "outputs": [
    {
     "name": "stdout",
     "output_type": "stream",
     "text": [
      "\n",
      "Python is an amazing programming language.\n",
      "It is popular for data science, AI, and more.\n",
      "Python emphasizes code readability.\n",
      "\n"
     ]
    }
   ],
   "source": [
    "# Read the file\n",
    "with open(\"sample.txt\", \"r\") as f:\n",
    "    content = f.read()\n",
    "\n",
    "print(content)\n"
   ]
  },
  {
   "cell_type": "code",
   "execution_count": 4,
   "id": "4b87e678-993a-47f7-add0-c2b3e32c1a90",
   "metadata": {},
   "outputs": [
    {
     "data": {
      "text/plain": [
       "3"
      ]
     },
     "execution_count": 4,
     "metadata": {},
     "output_type": "execute_result"
    }
   ],
   "source": [
    "# Line count\n",
    "lines = content.strip().split(\"\\n\")\n",
    "len(lines)\n"
   ]
  },
  {
   "cell_type": "code",
   "execution_count": 5,
   "id": "71943fc9-907c-4e38-bbf3-37c0172ce1bc",
   "metadata": {},
   "outputs": [
    {
     "data": {
      "text/plain": [
       "19"
      ]
     },
     "execution_count": 5,
     "metadata": {},
     "output_type": "execute_result"
    }
   ],
   "source": [
    "# Word count\n",
    "words = content.split()\n",
    "len(words)\n"
   ]
  },
  {
   "cell_type": "code",
   "execution_count": 6,
   "id": "96d4f94b-3aa1-4c0b-aebe-40c3b16092b2",
   "metadata": {},
   "outputs": [
    {
     "data": {
      "text/plain": [
       "106"
      ]
     },
     "execution_count": 6,
     "metadata": {},
     "output_type": "execute_result"
    }
   ],
   "source": [
    "# Char count (excluding whitespace)\n",
    "len(content.replace(\" \", \"\").replace(\"\\n\", \"\"))\n"
   ]
  },
  {
   "cell_type": "code",
   "execution_count": 7,
   "id": "641b133a-0f68-4c6a-88e0-a87a624fe08e",
   "metadata": {},
   "outputs": [
    {
     "data": {
      "text/plain": [
       "Counter({'Python': 2,\n",
       "         'is': 2,\n",
       "         'an': 1,\n",
       "         'amazing': 1,\n",
       "         'programming': 1,\n",
       "         'language.': 1,\n",
       "         'It': 1,\n",
       "         'popular': 1,\n",
       "         'for': 1,\n",
       "         'data': 1,\n",
       "         'science,': 1,\n",
       "         'AI,': 1,\n",
       "         'and': 1,\n",
       "         'more.': 1,\n",
       "         'emphasizes': 1,\n",
       "         'code': 1,\n",
       "         'readability.': 1})"
      ]
     },
     "execution_count": 7,
     "metadata": {},
     "output_type": "execute_result"
    }
   ],
   "source": [
    "# Word frequency\n",
    "from collections import Counter\n",
    "freq = Counter(words)\n",
    "freq\n"
   ]
  },
  {
   "cell_type": "code",
   "execution_count": 8,
   "id": "b5935fb1-4716-4961-9504-1c6ca84ee5fe",
   "metadata": {},
   "outputs": [
    {
     "data": {
      "text/plain": [
       "[('Python', 2)]"
      ]
     },
     "execution_count": 8,
     "metadata": {},
     "output_type": "execute_result"
    }
   ],
   "source": [
    "# Most common word\n",
    "freq.most_common(1)\n"
   ]
  },
  {
   "cell_type": "code",
   "execution_count": 9,
   "id": "d6d129de-654e-4be3-95f6-560e2e1891a2",
   "metadata": {},
   "outputs": [
    {
     "data": {
      "text/plain": [
       "'readability.'"
      ]
     },
     "execution_count": 9,
     "metadata": {},
     "output_type": "execute_result"
    }
   ],
   "source": [
    "# Longest word\n",
    "max(words, key=len)\n"
   ]
  },
  {
   "cell_type": "code",
   "execution_count": null,
   "id": "6c905957-8db5-40f3-bdb6-58b082173a14",
   "metadata": {},
   "outputs": [],
   "source": []
  }
 ],
 "metadata": {
  "kernelspec": {
   "display_name": "Python 3 (ipykernel)",
   "language": "python",
   "name": "python3"
  },
  "language_info": {
   "codemirror_mode": {
    "name": "ipython",
    "version": 3
   },
   "file_extension": ".py",
   "mimetype": "text/x-python",
   "name": "python",
   "nbconvert_exporter": "python",
   "pygments_lexer": "ipython3",
   "version": "3.12.11"
  }
 },
 "nbformat": 4,
 "nbformat_minor": 5
}
