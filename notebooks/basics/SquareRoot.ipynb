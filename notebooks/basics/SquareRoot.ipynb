{
 "cells": [
  {
   "cell_type": "code",
   "execution_count": 2,
   "id": "07246baa-627e-4110-884b-4617606c354b",
   "metadata": {},
   "outputs": [
    {
     "name": "stdin",
     "output_type": "stream",
     "text": [
      "Enter the number:  9\n"
     ]
    },
    {
     "name": "stdout",
     "output_type": "stream",
     "text": [
      "The square root of 9 is 3.0\n"
     ]
    }
   ],
   "source": [
    "import math\n",
    "a = int(input(\"Enter the number: \"))\n",
    "b = math.sqrt(a)\n",
    "print(\"The square root of\",a,\"is\",b)"
   ]
  },
  {
   "cell_type": "code",
   "execution_count": null,
   "id": "32d68685-94d1-4f7b-813e-469e09ae89a6",
   "metadata": {},
   "outputs": [],
   "source": []
  }
 ],
 "metadata": {
  "kernelspec": {
   "display_name": "Python 3 (ipykernel)",
   "language": "python",
   "name": "python3"
  },
  "language_info": {
   "codemirror_mode": {
    "name": "ipython",
    "version": 3
   },
   "file_extension": ".py",
   "mimetype": "text/x-python",
   "name": "python",
   "nbconvert_exporter": "python",
   "pygments_lexer": "ipython3",
   "version": "3.12.11"
  }
 },
 "nbformat": 4,
 "nbformat_minor": 5
}
