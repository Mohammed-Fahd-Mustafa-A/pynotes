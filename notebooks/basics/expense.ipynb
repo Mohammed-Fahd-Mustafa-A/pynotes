{
 "cells": [
  {
   "cell_type": "code",
   "execution_count": 1,
   "id": "31c45fbe-fd3f-4ce7-ac7b-29b7a54eb6c7",
   "metadata": {},
   "outputs": [],
   "source": [
    "# Import libraries\n",
    "import pandas as pd\n",
    "import matplotlib.pyplot as plt\n"
   ]
  },
  {
   "cell_type": "code",
   "execution_count": 2,
   "id": "f16da291-e100-4c89-9311-757bbd4c659f",
   "metadata": {},
   "outputs": [],
   "source": [
    "# Define expense data\n",
    "data = [\n",
    "    {\"Date\": \"2025-06-01\", \"Category\": \"Food\", \"Amount\": 250},\n",
    "    {\"Date\": \"2025-06-03\", \"Category\": \"Transport\", \"Amount\": 80},\n",
    "    {\"Date\": \"2025-06-05\", \"Category\": \"Rent\", \"Amount\": 5000},\n",
    "    {\"Date\": \"2025-06-10\", \"Category\": \"Food\", \"Amount\": 300},\n",
    "    {\"Date\": \"2025-06-15\", \"Category\": \"Shopping\", \"Amount\": 1200},\n",
    "    {\"Date\": \"2025-06-20\", \"Category\": \"Entertainment\", \"Amount\": 600},\n",
    "    {\"Date\": \"2025-06-25\", \"Category\": \"Food\", \"Amount\": 280},\n",
    "]\n"
   ]
  },
  {
   "cell_type": "code",
   "execution_count": 3,
   "id": "36e739bb-3c77-4230-8712-7c952470703d",
   "metadata": {},
   "outputs": [
    {
     "data": {
      "text/html": [
       "<div>\n",
       "<style scoped>\n",
       "    .dataframe tbody tr th:only-of-type {\n",
       "        vertical-align: middle;\n",
       "    }\n",
       "\n",
       "    .dataframe tbody tr th {\n",
       "        vertical-align: top;\n",
       "    }\n",
       "\n",
       "    .dataframe thead th {\n",
       "        text-align: right;\n",
       "    }\n",
       "</style>\n",
       "<table border=\"1\" class=\"dataframe\">\n",
       "  <thead>\n",
       "    <tr style=\"text-align: right;\">\n",
       "      <th></th>\n",
       "      <th>Date</th>\n",
       "      <th>Category</th>\n",
       "      <th>Amount</th>\n",
       "    </tr>\n",
       "  </thead>\n",
       "  <tbody>\n",
       "    <tr>\n",
       "      <th>0</th>\n",
       "      <td>2025-06-01</td>\n",
       "      <td>Food</td>\n",
       "      <td>250</td>\n",
       "    </tr>\n",
       "    <tr>\n",
       "      <th>1</th>\n",
       "      <td>2025-06-03</td>\n",
       "      <td>Transport</td>\n",
       "      <td>80</td>\n",
       "    </tr>\n",
       "    <tr>\n",
       "      <th>2</th>\n",
       "      <td>2025-06-05</td>\n",
       "      <td>Rent</td>\n",
       "      <td>5000</td>\n",
       "    </tr>\n",
       "    <tr>\n",
       "      <th>3</th>\n",
       "      <td>2025-06-10</td>\n",
       "      <td>Food</td>\n",
       "      <td>300</td>\n",
       "    </tr>\n",
       "    <tr>\n",
       "      <th>4</th>\n",
       "      <td>2025-06-15</td>\n",
       "      <td>Shopping</td>\n",
       "      <td>1200</td>\n",
       "    </tr>\n",
       "    <tr>\n",
       "      <th>5</th>\n",
       "      <td>2025-06-20</td>\n",
       "      <td>Entertainment</td>\n",
       "      <td>600</td>\n",
       "    </tr>\n",
       "    <tr>\n",
       "      <th>6</th>\n",
       "      <td>2025-06-25</td>\n",
       "      <td>Food</td>\n",
       "      <td>280</td>\n",
       "    </tr>\n",
       "  </tbody>\n",
       "</table>\n",
       "</div>"
      ],
      "text/plain": [
       "         Date       Category  Amount\n",
       "0  2025-06-01           Food     250\n",
       "1  2025-06-03      Transport      80\n",
       "2  2025-06-05           Rent    5000\n",
       "3  2025-06-10           Food     300\n",
       "4  2025-06-15       Shopping    1200\n",
       "5  2025-06-20  Entertainment     600\n",
       "6  2025-06-25           Food     280"
      ]
     },
     "execution_count": 3,
     "metadata": {},
     "output_type": "execute_result"
    }
   ],
   "source": [
    "# Create DataFrame\n",
    "df = pd.DataFrame(data)\n",
    "df\n"
   ]
  },
  {
   "cell_type": "code",
   "execution_count": 4,
   "id": "934f9796-045b-475e-8524-ab042cbee2ac",
   "metadata": {},
   "outputs": [
    {
     "data": {
      "text/plain": [
       "np.int64(7710)"
      ]
     },
     "execution_count": 4,
     "metadata": {},
     "output_type": "execute_result"
    }
   ],
   "source": [
    "# Total expenses\n",
    "df[\"Amount\"].sum()\n"
   ]
  },
  {
   "cell_type": "code",
   "execution_count": 5,
   "id": "fee7fcc9-4068-47ec-91e9-65e1585661b3",
   "metadata": {},
   "outputs": [
    {
     "data": {
      "text/plain": [
       "Category\n",
       "Entertainment     600\n",
       "Food              830\n",
       "Rent             5000\n",
       "Shopping         1200\n",
       "Transport          80\n",
       "Name: Amount, dtype: int64"
      ]
     },
     "execution_count": 5,
     "metadata": {},
     "output_type": "execute_result"
    }
   ],
   "source": [
    "# Total by category\n",
    "df.groupby(\"Category\")[\"Amount\"].sum()\n"
   ]
  },
  {
   "cell_type": "code",
   "execution_count": 6,
   "id": "c22eb451-10d0-4b76-87a5-5fbaaa8a7276",
   "metadata": {},
   "outputs": [
    {
     "data": {
      "text/html": [
       "<div>\n",
       "<style scoped>\n",
       "    .dataframe tbody tr th:only-of-type {\n",
       "        vertical-align: middle;\n",
       "    }\n",
       "\n",
       "    .dataframe tbody tr th {\n",
       "        vertical-align: top;\n",
       "    }\n",
       "\n",
       "    .dataframe thead th {\n",
       "        text-align: right;\n",
       "    }\n",
       "</style>\n",
       "<table border=\"1\" class=\"dataframe\">\n",
       "  <thead>\n",
       "    <tr style=\"text-align: right;\">\n",
       "      <th></th>\n",
       "      <th>Date</th>\n",
       "      <th>Category</th>\n",
       "      <th>Amount</th>\n",
       "      <th>Weekday</th>\n",
       "    </tr>\n",
       "  </thead>\n",
       "  <tbody>\n",
       "    <tr>\n",
       "      <th>0</th>\n",
       "      <td>2025-06-01</td>\n",
       "      <td>Food</td>\n",
       "      <td>250</td>\n",
       "      <td>Sunday</td>\n",
       "    </tr>\n",
       "    <tr>\n",
       "      <th>1</th>\n",
       "      <td>2025-06-03</td>\n",
       "      <td>Transport</td>\n",
       "      <td>80</td>\n",
       "      <td>Tuesday</td>\n",
       "    </tr>\n",
       "    <tr>\n",
       "      <th>2</th>\n",
       "      <td>2025-06-05</td>\n",
       "      <td>Rent</td>\n",
       "      <td>5000</td>\n",
       "      <td>Thursday</td>\n",
       "    </tr>\n",
       "    <tr>\n",
       "      <th>3</th>\n",
       "      <td>2025-06-10</td>\n",
       "      <td>Food</td>\n",
       "      <td>300</td>\n",
       "      <td>Tuesday</td>\n",
       "    </tr>\n",
       "    <tr>\n",
       "      <th>4</th>\n",
       "      <td>2025-06-15</td>\n",
       "      <td>Shopping</td>\n",
       "      <td>1200</td>\n",
       "      <td>Sunday</td>\n",
       "    </tr>\n",
       "    <tr>\n",
       "      <th>5</th>\n",
       "      <td>2025-06-20</td>\n",
       "      <td>Entertainment</td>\n",
       "      <td>600</td>\n",
       "      <td>Friday</td>\n",
       "    </tr>\n",
       "    <tr>\n",
       "      <th>6</th>\n",
       "      <td>2025-06-25</td>\n",
       "      <td>Food</td>\n",
       "      <td>280</td>\n",
       "      <td>Wednesday</td>\n",
       "    </tr>\n",
       "  </tbody>\n",
       "</table>\n",
       "</div>"
      ],
      "text/plain": [
       "        Date       Category  Amount    Weekday\n",
       "0 2025-06-01           Food     250     Sunday\n",
       "1 2025-06-03      Transport      80    Tuesday\n",
       "2 2025-06-05           Rent    5000   Thursday\n",
       "3 2025-06-10           Food     300    Tuesday\n",
       "4 2025-06-15       Shopping    1200     Sunday\n",
       "5 2025-06-20  Entertainment     600     Friday\n",
       "6 2025-06-25           Food     280  Wednesday"
      ]
     },
     "execution_count": 6,
     "metadata": {},
     "output_type": "execute_result"
    }
   ],
   "source": [
    "# Add weekday\n",
    "df[\"Date\"] = pd.to_datetime(df[\"Date\"])\n",
    "df[\"Weekday\"] = df[\"Date\"].dt.day_name()\n",
    "df\n"
   ]
  },
  {
   "cell_type": "code",
   "execution_count": 7,
   "id": "5ee0eedd-2fc2-4081-bdb9-348770fa99f0",
   "metadata": {},
   "outputs": [
    {
     "data": {
      "text/plain": [
       "Weekday\n",
       "Wednesday     280\n",
       "Tuesday       380\n",
       "Friday        600\n",
       "Sunday       1450\n",
       "Thursday     5000\n",
       "Name: Amount, dtype: int64"
      ]
     },
     "execution_count": 7,
     "metadata": {},
     "output_type": "execute_result"
    }
   ],
   "source": [
    "# Expenses by weekday\n",
    "df.groupby(\"Weekday\")[\"Amount\"].sum().sort_values()\n"
   ]
  },
  {
   "cell_type": "code",
   "execution_count": 8,
   "id": "9f3f061d-b2fa-4ba6-8593-4b54a496627a",
   "metadata": {},
   "outputs": [
    {
     "data": {
      "image/png": "[encoded data removed]",
      "text/plain": [
       "<Figure size 600x600 with 1 Axes>"
      ]
     },
     "metadata": {},
     "output_type": "display_data"
    }
   ],
   "source": [
    "# Pie chart by category\n",
    "df.groupby(\"Category\")[\"Amount\"].sum().plot.pie(autopct=\"%1.1f%%\", figsize=(6,6))\n",
    "plt.title(\"Expense Distribution\")\n",
    "plt.ylabel(\"\")\n",
    "plt.show()\n"
   ]
  },
  {
   "cell_type": "code",
   "execution_count": 9,
   "id": "296277a3-3bd2-40c8-b2f5-57b778f14978",
   "metadata": {},
   "outputs": [
    {
     "data": {
      "image/png": "[encoded data removed]",
      "text/plain": [
       "<Figure size 640x480 with 1 Axes>"
      ]
     },
     "metadata": {},
     "output_type": "display_data"
    }
   ],
   "source": [
    "# Daily trend line\n",
    "df.groupby(\"Date\")[\"Amount\"].sum().plot(marker=\"o\")\n",
    "plt.title(\"Daily Expense Trend\")\n",
    "plt.xticks(rotation=45)\n",
    "plt.grid(True)\n",
    "plt.show()\n"
   ]
  },
  {
   "cell_type": "code",
   "execution_count": 10,
   "id": "250e3196-0396-4dc9-932d-89d62b6ce079",
   "metadata": {},
   "outputs": [
    {
     "data": {
      "text/html": [
       "<div>\n",
       "<style scoped>\n",
       "    .dataframe tbody tr th:only-of-type {\n",
       "        vertical-align: middle;\n",
       "    }\n",
       "\n",
       "    .dataframe tbody tr th {\n",
       "        vertical-align: top;\n",
       "    }\n",
       "\n",
       "    .dataframe thead th {\n",
       "        text-align: right;\n",
       "    }\n",
       "</style>\n",
       "<table border=\"1\" class=\"dataframe\">\n",
       "  <thead>\n",
       "    <tr style=\"text-align: right;\">\n",
       "      <th></th>\n",
       "      <th>Date</th>\n",
       "      <th>Category</th>\n",
       "      <th>Amount</th>\n",
       "      <th>Weekday</th>\n",
       "    </tr>\n",
       "  </thead>\n",
       "  <tbody>\n",
       "    <tr>\n",
       "      <th>2</th>\n",
       "      <td>2025-06-05</td>\n",
       "      <td>Rent</td>\n",
       "      <td>5000</td>\n",
       "      <td>Thursday</td>\n",
       "    </tr>\n",
       "  </tbody>\n",
       "</table>\n",
       "</div>"
      ],
      "text/plain": [
       "        Date Category  Amount   Weekday\n",
       "2 2025-06-05     Rent    5000  Thursday"
      ]
     },
     "execution_count": 10,
     "metadata": {},
     "output_type": "execute_result"
    }
   ],
   "source": [
    "# Highest spending day\n",
    "df[df[\"Amount\"] == df[\"Amount\"].max()]\n"
   ]
  },
  {
   "cell_type": "code",
   "execution_count": 11,
   "id": "268c32e4-1d01-43e3-bef9-23c9ae9130e4",
   "metadata": {},
   "outputs": [
    {
     "data": {
      "text/html": [
       "<div>\n",
       "<style scoped>\n",
       "    .dataframe tbody tr th:only-of-type {\n",
       "        vertical-align: middle;\n",
       "    }\n",
       "\n",
       "    .dataframe tbody tr th {\n",
       "        vertical-align: top;\n",
       "    }\n",
       "\n",
       "    .dataframe thead th {\n",
       "        text-align: right;\n",
       "    }\n",
       "</style>\n",
       "<table border=\"1\" class=\"dataframe\">\n",
       "  <thead>\n",
       "    <tr style=\"text-align: right;\">\n",
       "      <th></th>\n",
       "      <th>Date</th>\n",
       "      <th>Category</th>\n",
       "      <th>Amount</th>\n",
       "      <th>Weekday</th>\n",
       "      <th>Comment</th>\n",
       "    </tr>\n",
       "  </thead>\n",
       "  <tbody>\n",
       "    <tr>\n",
       "      <th>0</th>\n",
       "      <td>2025-06-01</td>\n",
       "      <td>Food</td>\n",
       "      <td>250</td>\n",
       "      <td>Sunday</td>\n",
       "      <td>Okay</td>\n",
       "    </tr>\n",
       "    <tr>\n",
       "      <th>1</th>\n",
       "      <td>2025-06-03</td>\n",
       "      <td>Transport</td>\n",
       "      <td>80</td>\n",
       "      <td>Tuesday</td>\n",
       "      <td>Okay</td>\n",
       "    </tr>\n",
       "    <tr>\n",
       "      <th>2</th>\n",
       "      <td>2025-06-05</td>\n",
       "      <td>Rent</td>\n",
       "      <td>5000</td>\n",
       "      <td>Thursday</td>\n",
       "      <td>Too much!</td>\n",
       "    </tr>\n",
       "    <tr>\n",
       "      <th>3</th>\n",
       "      <td>2025-06-10</td>\n",
       "      <td>Food</td>\n",
       "      <td>300</td>\n",
       "      <td>Tuesday</td>\n",
       "      <td>Okay</td>\n",
       "    </tr>\n",
       "    <tr>\n",
       "      <th>4</th>\n",
       "      <td>2025-06-15</td>\n",
       "      <td>Shopping</td>\n",
       "      <td>1200</td>\n",
       "      <td>Sunday</td>\n",
       "      <td>Too much!</td>\n",
       "    </tr>\n",
       "    <tr>\n",
       "      <th>5</th>\n",
       "      <td>2025-06-20</td>\n",
       "      <td>Entertainment</td>\n",
       "      <td>600</td>\n",
       "      <td>Friday</td>\n",
       "      <td>Okay</td>\n",
       "    </tr>\n",
       "    <tr>\n",
       "      <th>6</th>\n",
       "      <td>2025-06-25</td>\n",
       "      <td>Food</td>\n",
       "      <td>280</td>\n",
       "      <td>Wednesday</td>\n",
       "      <td>Okay</td>\n",
       "    </tr>\n",
       "  </tbody>\n",
       "</table>\n",
       "</div>"
      ],
      "text/plain": [
       "        Date       Category  Amount    Weekday    Comment\n",
       "0 2025-06-01           Food     250     Sunday       Okay\n",
       "1 2025-06-03      Transport      80    Tuesday       Okay\n",
       "2 2025-06-05           Rent    5000   Thursday  Too much!\n",
       "3 2025-06-10           Food     300    Tuesday       Okay\n",
       "4 2025-06-15       Shopping    1200     Sunday  Too much!\n",
       "5 2025-06-20  Entertainment     600     Friday       Okay\n",
       "6 2025-06-25           Food     280  Wednesday       Okay"
      ]
     },
     "execution_count": 11,
     "metadata": {},
     "output_type": "execute_result"
    }
   ],
   "source": [
    "# Add comments\n",
    "df[\"Comment\"] = df[\"Amount\"].apply(lambda x: \"Too much!\" if x > 1000 else \"Okay\")\n",
    "df\n"
   ]
  },
  {
   "cell_type": "code",
   "execution_count": 12,
   "id": "64abf374-2f74-427c-b57b-b878443232e8",
   "metadata": {},
   "outputs": [],
   "source": [
    "# Save report\n",
    "df.to_csv(\"expenses_report.csv\", index=False)\n"
   ]
  },
  {
   "cell_type": "code",
   "execution_count": null,
   "id": "09fc6bba-05c6-495d-95fa-452aec088673",
   "metadata": {},
   "outputs": [],
   "source": []
  }
 ],
 "metadata": {
  "kernelspec": {
   "display_name": "Python 3 (ipykernel)",
   "language": "python",
   "name": "python3"
  },
  "language_info": {
   "codemirror_mode": {
    "name": "ipython",
    "version": 3
   },
   "file_extension": ".py",
   "mimetype": "text/x-python",
   "name": "python",
   "nbconvert_exporter": "python",
   "pygments_lexer": "ipython3",
   "version": "3.12.11"
  }
 },
 "nbformat": 4,
 "nbformat_minor": 5
}
