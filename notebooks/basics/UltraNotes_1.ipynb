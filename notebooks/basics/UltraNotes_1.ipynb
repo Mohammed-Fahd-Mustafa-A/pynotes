{
 "cells": [
  {
   "cell_type": "code",
   "execution_count": null,
   "id": "9003f8e7",
   "metadata": {},
   "outputs": [],
   "source": [
    "# Topic: Regex\n",
    "import re\n",
    "text = 'email: test@example.com'\n",
    "print(re.findall(r'\\S+@\\S+', text))"
   ]
  },
  {
   "cell_type": "code",
   "execution_count": null,
   "id": "d782f858",
   "metadata": {},
   "outputs": [],
   "source": [
    "# Topic: Functions\n",
    "def square(x): return x*x\n",
    "print(square(5))"
   ]
  },
  {
   "cell_type": "code",
   "execution_count": null,
   "id": "3e79d5f4",
   "metadata": {},
   "outputs": [],
   "source": [
    "# Topic: File I/O\n",
    "with open('test.txt', 'r') as f:\n",
    "    print(f.read())"
   ]
  },
  {
   "cell_type": "code",
   "execution_count": null,
   "id": "d646981f",
   "metadata": {},
   "outputs": [],
   "source": [
    "# Topic: Basic ML\n",
    "from sklearn.linear_model import LinearRegression\n",
    "model = LinearRegression()\n",
    "print(model)"
   ]
  },
  {
   "cell_type": "code",
   "execution_count": null,
   "id": "b1b34c89",
   "metadata": {},
   "outputs": [],
   "source": [
    "# Topic: Dictionaries & Sets\n",
    "d = {'name': 'Fahd', 'age': 20}\n",
    "print(d.get('name'))"
   ]
  },
  {
   "cell_type": "code",
   "execution_count": null,
   "id": "d53f6369",
   "metadata": {},
   "outputs": [],
   "source": [
    "# Topic: Mini Projects\n",
    "# Calculator\n",
    "def calc(a,b,op): return eval(f'{a}{op}{b}')\n",
    "print(calc(5,2,'+'))"
   ]
  },
  {
   "cell_type": "code",
   "execution_count": null,
   "id": "97716c6e",
   "metadata": {},
   "outputs": [],
   "source": [
    "# Topic: Functions\n",
    "def greet(name='User'):\n",
    "    print(f'Hi, {name}')\n",
    "greet()"
   ]
  },
  {
   "cell_type": "code",
   "execution_count": null,
   "id": "f720b2e9",
   "metadata": {},
   "outputs": [],
   "source": [
    "# Topic: File I/O\n",
    "with open('test.txt', 'r') as f:\n",
    "    print(f.read())"
   ]
  },
  {
   "cell_type": "code",
   "execution_count": null,
   "id": "6f3ccf26",
   "metadata": {},
   "outputs": [],
   "source": [
    "# Topic: Algorithms\n",
    "# Bubble sort\n",
    "def bubble(arr):\n",
    " for i in range(len(arr)):\n",
    "  for j in range(0, len(arr)-i-1):\n",
    "   if arr[j]>arr[j+1]: arr[j],arr[j+1]=arr[j+1],arr[j]\n",
    "a=[5,3,8]\n",
    "bubble(a)\n",
    "print(a)"
   ]
  },
  {
   "cell_type": "code",
   "execution_count": null,
   "id": "470b9175",
   "metadata": {},
   "outputs": [],
   "source": [
    "# Topic: Decorators\n",
    "def log(func):\n",
    " def wrapper():\n",
    "  print('Call')\n",
    "  func()\n",
    " return wrapper\n",
    "@log\n",
    "def say(): print('Hi')\n",
    "say()"
   ]
  },
  {
   "cell_type": "code",
   "execution_count": null,
   "id": "43e2fe13",
   "metadata": {},
   "outputs": [],
   "source": [
    "# Topic: File I/O\n",
    "with open('test.txt', 'w') as f:\n",
    "    f.write('Hello World')"
   ]
  },
  {
   "cell_type": "code",
   "execution_count": null,
   "id": "d9bba068",
   "metadata": {},
   "outputs": [],
   "source": [
    "# Topic: Recursion\n",
    "def fact(n): return 1 if n==0 else n*fact(n-1)\n",
    "print(fact(5))"
   ]
  },
  {
   "cell_type": "code",
   "execution_count": null,
   "id": "17ab8043",
   "metadata": {},
   "outputs": [],
   "source": [
    "# Topic: Decorators\n",
    "def log(func):\n",
    " def wrapper():\n",
    "  print('Call')\n",
    "  func()\n",
    " return wrapper\n",
    "@log\n",
    "def say(): print('Hi')\n",
    "say()"
   ]
  },
  {
   "cell_type": "code",
   "execution_count": null,
   "id": "8740840f",
   "metadata": {},
   "outputs": [],
   "source": [
    "# Topic: Data Cleaning\n",
    "import pandas as pd\n",
    "df = pd.DataFrame({'A':[1,None,3]})\n",
    "df = df.fillna(0)\n",
    "print(df)"
   ]
  },
  {
   "cell_type": "code",
   "execution_count": null,
   "id": "20abc981",
   "metadata": {},
   "outputs": [],
   "source": [
    "# Topic: OOP\n",
    "class Student:\n",
    "    def __init__(self, name): self.name = name\n",
    "s = Student('Fahd')\n",
    "print(s.name)"
   ]
  },
  {
   "cell_type": "code",
   "execution_count": null,
   "id": "fd323b92",
   "metadata": {},
   "outputs": [],
   "source": [
    "# Topic: Mini Projects\n",
    "# Calculator\n",
    "def calc(a,b,op): return eval(f'{a}{op}{b}')\n",
    "print(calc(5,2,'+'))"
   ]
  },
  {
   "cell_type": "code",
   "execution_count": null,
   "id": "8945ff6a",
   "metadata": {},
   "outputs": [],
   "source": [
    "# Topic: Lists & Tuples\n",
    "lst = [1, 2, 3]\n",
    "lst.append(4)\n",
    "print(lst)"
   ]
  },
  {
   "cell_type": "code",
   "execution_count": null,
   "id": "33c942cd",
   "metadata": {},
   "outputs": [],
   "source": [
    "# Topic: NumPy\n",
    "import numpy as np\n",
    "print(np.linspace(0, 1, 5))"
   ]
  },
  {
   "cell_type": "code",
   "execution_count": null,
   "id": "06290f18",
   "metadata": {},
   "outputs": [],
   "source": [
    "# Topic: Data Cleaning\n",
    "import pandas as pd\n",
    "df = pd.DataFrame({'A':[1,None,3]})\n",
    "df = df.fillna(0)\n",
    "print(df)"
   ]
  },
  {
   "cell_type": "code",
   "execution_count": null,
   "id": "40c1f0f4",
   "metadata": {},
   "outputs": [],
   "source": [
    "# Topic: Decorators\n",
    "def log(func):\n",
    " def wrapper():\n",
    "  print('Call')\n",
    "  func()\n",
    " return wrapper\n",
    "@log\n",
    "def say(): print('Hi')\n",
    "say()"
   ]
  },
  {
   "cell_type": "code",
   "execution_count": null,
   "id": "b9d6bb50",
   "metadata": {},
   "outputs": [],
   "source": [
    "# Topic: NumPy\n",
    "import numpy as np\n",
    "a = np.array([1, 2, 3])\n",
    "print(a + 5)"
   ]
  },
  {
   "cell_type": "code",
   "execution_count": null,
   "id": "2c72c46f",
   "metadata": {},
   "outputs": [],
   "source": [
    "# Topic: OOP\n",
    "class Student:\n",
    "    def __init__(self, name): self.name = name\n",
    "s = Student('Fahd')\n",
    "print(s.name)"
   ]
  },
  {
   "cell_type": "code",
   "execution_count": null,
   "id": "3e40b01d",
   "metadata": {},
   "outputs": [],
   "source": [
    "# Topic: CLI Tools\n",
    "import sys\n",
    "print(f'Arguments: {sys.argv}')"
   ]
  },
  {
   "cell_type": "code",
   "execution_count": null,
   "id": "6865c71c",
   "metadata": {},
   "outputs": [],
   "source": [
    "# Topic: Matplotlib & Seaborn\n",
    "import matplotlib.pyplot as plt\n",
    "plt.plot([1,2],[3,4])\n",
    "plt.show()"
   ]
  },
  {
   "cell_type": "code",
   "execution_count": null,
   "id": "6edd5623",
   "metadata": {},
   "outputs": [],
   "source": [
    "# Topic: Basics\n",
    "x = 10\n",
    "y = 20\n",
    "print(x + y)"
   ]
  },
  {
   "cell_type": "code",
   "execution_count": null,
   "id": "f1e4b4b2",
   "metadata": {},
   "outputs": [],
   "source": [
    "# Topic: OOP\n",
    "class Student:\n",
    "    def __init__(self, name): self.name = name\n",
    "s = Student('Fahd')\n",
    "print(s.name)"
   ]
  },
  {
   "cell_type": "code",
   "execution_count": null,
   "id": "73757a05",
   "metadata": {},
   "outputs": [],
   "source": [
    "# Topic: Pandas\n",
    "import pandas as pd\n",
    "df = pd.read_csv('file.csv')\n",
    "print(df.head())"
   ]
  },
  {
   "cell_type": "code",
   "execution_count": null,
   "id": "83e48031",
   "metadata": {},
   "outputs": [],
   "source": [
    "# Topic: Functions\n",
    "def greet(name='User'):\n",
    "    print(f'Hi, {name}')\n",
    "greet()"
   ]
  },
  {
   "cell_type": "code",
   "execution_count": null,
   "id": "f0f18f4e",
   "metadata": {},
   "outputs": [],
   "source": [
    "# Topic: CLI Tools\n",
    "import sys\n",
    "print(f'Arguments: {sys.argv}')"
   ]
  },
  {
   "cell_type": "code",
   "execution_count": null,
   "id": "c48ea6f4",
   "metadata": {},
   "outputs": [],
   "source": [
    "# Topic: Basic ML\n",
    "from sklearn.linear_model import LinearRegression\n",
    "model = LinearRegression()\n",
    "print(model)"
   ]
  },
  {
   "cell_type": "code",
   "execution_count": null,
   "id": "c30e190f",
   "metadata": {},
   "outputs": [],
   "source": [
    "# Topic: Dictionaries & Sets\n",
    "d = {'name': 'Fahd', 'age': 20}\n",
    "print(d.get('name'))"
   ]
  },
  {
   "cell_type": "code",
   "execution_count": null,
   "id": "d9440b4e",
   "metadata": {},
   "outputs": [],
   "source": [
    "# Topic: Matplotlib & Seaborn\n",
    "import matplotlib.pyplot as plt\n",
    "plt.plot([1,2],[3,4])\n",
    "plt.show()"
   ]
  },
  {
   "cell_type": "code",
   "execution_count": null,
   "id": "f65f8414",
   "metadata": {},
   "outputs": [],
   "source": [
    "# Topic: File I/O\n",
    "with open('test.txt', 'w') as f:\n",
    "    f.write('Hello World')"
   ]
  },
  {
   "cell_type": "code",
   "execution_count": null,
   "id": "adbe03df",
   "metadata": {},
   "outputs": [],
   "source": [
    "# Topic: Algorithms\n",
    "# Bubble sort\n",
    "def bubble(arr):\n",
    " for i in range(len(arr)):\n",
    "  for j in range(0, len(arr)-i-1):\n",
    "   if arr[j]>arr[j+1]: arr[j],arr[j+1]=arr[j+1],arr[j]\n",
    "a=[5,3,8]\n",
    "bubble(a)\n",
    "print(a)"
   ]
  },
  {
   "cell_type": "code",
   "execution_count": null,
   "id": "c5854e1d",
   "metadata": {},
   "outputs": [],
   "source": [
    "# Topic: Recursion\n",
    "def fact(n): return 1 if n==0 else n*fact(n-1)\n",
    "print(fact(5))"
   ]
  },
  {
   "cell_type": "code",
   "execution_count": null,
   "id": "91f37658",
   "metadata": {},
   "outputs": [],
   "source": [
    "# Topic: JSON & CSV\n",
    "import csv\n",
    "with open('file.csv', 'w', newline='') as f:\n",
    " csv.writer(f).writerow(['a','b','c'])"
   ]
  },
  {
   "cell_type": "code",
   "execution_count": null,
   "id": "725f8700",
   "metadata": {},
   "outputs": [],
   "source": [
    "# Topic: Pandas\n",
    "import pandas as pd\n",
    "df = pd.read_csv('file.csv')\n",
    "print(df.head())"
   ]
  },
  {
   "cell_type": "code",
   "execution_count": null,
   "id": "fe60004f",
   "metadata": {},
   "outputs": [],
   "source": [
    "# Topic: Mini Projects\n",
    "# Palindrome check\n",
    "def is_pal(s): return s == s[::-1]\n",
    "print(is_pal('madam'))"
   ]
  },
  {
   "cell_type": "code",
   "execution_count": null,
   "id": "16698024",
   "metadata": {},
   "outputs": [],
   "source": [
    "# Topic: Matplotlib & Seaborn\n",
    "import matplotlib.pyplot as plt\n",
    "plt.plot([1,2],[3,4])\n",
    "plt.show()"
   ]
  },
  {
   "cell_type": "code",
   "execution_count": null,
   "id": "b7425370",
   "metadata": {},
   "outputs": [],
   "source": [
    "# Topic: Web Scraping\n",
    "import requests\n",
    "from bs4 import BeautifulSoup\n",
    "r = requests.get('https://example.com')\n",
    "soup = BeautifulSoup(r.text, 'html.parser')\n",
    "print(soup.title.text)"
   ]
  },
  {
   "cell_type": "code",
   "execution_count": null,
   "id": "3d102929",
   "metadata": {},
   "outputs": [],
   "source": [
    "# Topic: Lists & Tuples\n",
    "t = (1, 2, 3)\n",
    "print(t[0])"
   ]
  },
  {
   "cell_type": "code",
   "execution_count": null,
   "id": "b04bd803",
   "metadata": {},
   "outputs": [],
   "source": [
    "# Topic: Recursion\n",
    "def fact(n): return 1 if n==0 else n*fact(n-1)\n",
    "print(fact(5))"
   ]
  },
  {
   "cell_type": "code",
   "execution_count": null,
   "id": "b536e669",
   "metadata": {},
   "outputs": [],
   "source": [
    "# Topic: Algorithms\n",
    "# Bubble sort\n",
    "def bubble(arr):\n",
    " for i in range(len(arr)):\n",
    "  for j in range(0, len(arr)-i-1):\n",
    "   if arr[j]>arr[j+1]: arr[j],arr[j+1]=arr[j+1],arr[j]\n",
    "a=[5,3,8]\n",
    "bubble(a)\n",
    "print(a)"
   ]
  },
  {
   "cell_type": "code",
   "execution_count": null,
   "id": "db4a2439",
   "metadata": {},
   "outputs": [],
   "source": [
    "# Topic: Matplotlib & Seaborn\n",
    "import matplotlib.pyplot as plt\n",
    "plt.plot([1,2],[3,4])\n",
    "plt.show()"
   ]
  },
  {
   "cell_type": "code",
   "execution_count": null,
   "id": "8c9c1be5",
   "metadata": {},
   "outputs": [],
   "source": [
    "# Topic: Lists & Tuples\n",
    "t = (1, 2, 3)\n",
    "print(t[0])"
   ]
  },
  {
   "cell_type": "code",
   "execution_count": null,
   "id": "68da20e0",
   "metadata": {},
   "outputs": [],
   "source": [
    "# Topic: Pandas\n",
    "import pandas as pd\n",
    "df = pd.DataFrame({'A':[1,2],'B':[3,4]})\n",
    "print(df)"
   ]
  },
  {
   "cell_type": "code",
   "execution_count": null,
   "id": "8c15a178",
   "metadata": {},
   "outputs": [],
   "source": [
    "# Topic: CLI Tools\n",
    "import sys\n",
    "print(f'Arguments: {sys.argv}')"
   ]
  },
  {
   "cell_type": "code",
   "execution_count": null,
   "id": "3c74b498",
   "metadata": {},
   "outputs": [],
   "source": [
    "# Topic: Dictionaries & Sets\n",
    "s = set([1, 2, 3, 2])\n",
    "print(s)"
   ]
  },
  {
   "cell_type": "code",
   "execution_count": null,
   "id": "e832c502",
   "metadata": {},
   "outputs": [],
   "source": [
    "# Topic: Data Cleaning\n",
    "import pandas as pd\n",
    "df = pd.DataFrame({'A':[1,None,3]})\n",
    "df = df.fillna(0)\n",
    "print(df)"
   ]
  },
  {
   "cell_type": "code",
   "execution_count": null,
   "id": "65ddc56c",
   "metadata": {},
   "outputs": [],
   "source": [
    "# Topic: Regex\n",
    "import re\n",
    "text = 'email: test@example.com'\n",
    "print(re.findall(r'\\S+@\\S+', text))"
   ]
  },
  {
   "cell_type": "code",
   "execution_count": null,
   "id": "a0edd744",
   "metadata": {},
   "outputs": [],
   "source": [
    "# Topic: Decorators\n",
    "def log(func):\n",
    " def wrapper():\n",
    "  print('Call')\n",
    "  func()\n",
    " return wrapper\n",
    "@log\n",
    "def say(): print('Hi')\n",
    "say()"
   ]
  },
  {
   "cell_type": "code",
   "execution_count": null,
   "id": "8d4ca657",
   "metadata": {},
   "outputs": [],
   "source": [
    "# Topic: Basics\n",
    "name = 'Fahd'\n",
    "print(f'Hello, {name}')"
   ]
  },
  {
   "cell_type": "code",
   "execution_count": null,
   "id": "ad1878cf",
   "metadata": {},
   "outputs": [],
   "source": [
    "# Topic: Algorithms\n",
    "# Bubble sort\n",
    "def bubble(arr):\n",
    " for i in range(len(arr)):\n",
    "  for j in range(0, len(arr)-i-1):\n",
    "   if arr[j]>arr[j+1]: arr[j],arr[j+1]=arr[j+1],arr[j]\n",
    "a=[5,3,8]\n",
    "bubble(a)\n",
    "print(a)"
   ]
  },
  {
   "cell_type": "code",
   "execution_count": null,
   "id": "f374966d",
   "metadata": {},
   "outputs": [],
   "source": [
    "# Topic: Functions\n",
    "def greet(name='User'):\n",
    "    print(f'Hi, {name}')\n",
    "greet()"
   ]
  },
  {
   "cell_type": "code",
   "execution_count": null,
   "id": "591910f4",
   "metadata": {},
   "outputs": [],
   "source": [
    "# Topic: Pandas\n",
    "import pandas as pd\n",
    "df = pd.DataFrame({'A':[1,2],'B':[3,4]})\n",
    "print(df)"
   ]
  },
  {
   "cell_type": "code",
   "execution_count": null,
   "id": "09a39065",
   "metadata": {},
   "outputs": [],
   "source": [
    "# Topic: Lists & Tuples\n",
    "lst = [1, 2, 3]\n",
    "lst.append(4)\n",
    "print(lst)"
   ]
  },
  {
   "cell_type": "code",
   "execution_count": null,
   "id": "740e0e32",
   "metadata": {},
   "outputs": [],
   "source": [
    "# Topic: Pandas\n",
    "import pandas as pd\n",
    "df = pd.read_csv('file.csv')\n",
    "print(df.head())"
   ]
  },
  {
   "cell_type": "code",
   "execution_count": null,
   "id": "7b5c02fb",
   "metadata": {},
   "outputs": [],
   "source": [
    "# Topic: Basics\n",
    "x = 10\n",
    "y = 20\n",
    "print(x + y)"
   ]
  },
  {
   "cell_type": "code",
   "execution_count": null,
   "id": "f217c629",
   "metadata": {},
   "outputs": [],
   "source": [
    "# Topic: Dictionaries & Sets\n",
    "s = set([1, 2, 3, 2])\n",
    "print(s)"
   ]
  },
  {
   "cell_type": "code",
   "execution_count": null,
   "id": "8f10c941",
   "metadata": {},
   "outputs": [],
   "source": [
    "# Topic: Functions\n",
    "def greet(name='User'):\n",
    "    print(f'Hi, {name}')\n",
    "greet()"
   ]
  },
  {
   "cell_type": "code",
   "execution_count": null,
   "id": "d68a5a86",
   "metadata": {},
   "outputs": [],
   "source": [
    "# Topic: Mini Projects\n",
    "# Calculator\n",
    "def calc(a,b,op): return eval(f'{a}{op}{b}')\n",
    "print(calc(5,2,'+'))"
   ]
  },
  {
   "cell_type": "code",
   "execution_count": null,
   "id": "cfaabe02",
   "metadata": {},
   "outputs": [],
   "source": [
    "# Topic: Regex\n",
    "import re\n",
    "text = 'email: test@example.com'\n",
    "print(re.findall(r'\\S+@\\S+', text))"
   ]
  },
  {
   "cell_type": "code",
   "execution_count": null,
   "id": "715af4d5",
   "metadata": {},
   "outputs": [],
   "source": [
    "# Topic: OOP\n",
    "class Student:\n",
    "    def __init__(self, name): self.name = name\n",
    "s = Student('Fahd')\n",
    "print(s.name)"
   ]
  },
  {
   "cell_type": "code",
   "execution_count": null,
   "id": "a57bf611",
   "metadata": {},
   "outputs": [],
   "source": [
    "# Topic: Regex\n",
    "import re\n",
    "text = 'email: test@example.com'\n",
    "print(re.findall(r'\\S+@\\S+', text))"
   ]
  },
  {
   "cell_type": "code",
   "execution_count": null,
   "id": "1615511c",
   "metadata": {},
   "outputs": [],
   "source": [
    "# Topic: Functions\n",
    "def square(x): return x*x\n",
    "print(square(5))"
   ]
  },
  {
   "cell_type": "code",
   "execution_count": null,
   "id": "39b2436f",
   "metadata": {},
   "outputs": [],
   "source": [
    "# Topic: Pandas\n",
    "import pandas as pd\n",
    "df = pd.DataFrame({'A':[1,2],'B':[3,4]})\n",
    "print(df)"
   ]
  },
  {
   "cell_type": "code",
   "execution_count": null,
   "id": "1f8604df",
   "metadata": {},
   "outputs": [],
   "source": [
    "# Topic: Data Cleaning\n",
    "import pandas as pd\n",
    "df = pd.DataFrame({'A':[1,None,3]})\n",
    "df = df.fillna(0)\n",
    "print(df)"
   ]
  },
  {
   "cell_type": "code",
   "execution_count": null,
   "id": "4ff908a1",
   "metadata": {},
   "outputs": [],
   "source": [
    "# Topic: OOP\n",
    "class Student:\n",
    "    def __init__(self, name): self.name = name\n",
    "s = Student('Fahd')\n",
    "print(s.name)"
   ]
  },
  {
   "cell_type": "code",
   "execution_count": null,
   "id": "0e665c5c",
   "metadata": {},
   "outputs": [],
   "source": [
    "# Topic: Mini Projects\n",
    "# Palindrome check\n",
    "def is_pal(s): return s == s[::-1]\n",
    "print(is_pal('madam'))"
   ]
  },
  {
   "cell_type": "code",
   "execution_count": null,
   "id": "ad829667",
   "metadata": {},
   "outputs": [],
   "source": [
    "# Topic: Data Cleaning\n",
    "import pandas as pd\n",
    "df = pd.DataFrame({'A':[1,None,3]})\n",
    "df = df.fillna(0)\n",
    "print(df)"
   ]
  },
  {
   "cell_type": "code",
   "execution_count": null,
   "id": "c6162ca8",
   "metadata": {},
   "outputs": [],
   "source": [
    "# Topic: JSON & CSV\n",
    "import json\n",
    "data = {'a': 1}\n",
    "print(json.dumps(data))"
   ]
  },
  {
   "cell_type": "code",
   "execution_count": null,
   "id": "ae3109ed",
   "metadata": {},
   "outputs": [],
   "source": [
    "# Topic: Functions\n",
    "def greet(name='User'):\n",
    "    print(f'Hi, {name}')\n",
    "greet()"
   ]
  },
  {
   "cell_type": "code",
   "execution_count": null,
   "id": "57d9e84c",
   "metadata": {},
   "outputs": [],
   "source": [
    "# Topic: Mini Projects\n",
    "# Calculator\n",
    "def calc(a,b,op): return eval(f'{a}{op}{b}')\n",
    "print(calc(5,2,'+'))"
   ]
  },
  {
   "cell_type": "code",
   "execution_count": null,
   "id": "274175c9",
   "metadata": {},
   "outputs": [],
   "source": [
    "# Topic: Recursion\n",
    "def fact(n): return 1 if n==0 else n*fact(n-1)\n",
    "print(fact(5))"
   ]
  },
  {
   "cell_type": "code",
   "execution_count": null,
   "id": "3833493b",
   "metadata": {},
   "outputs": [],
   "source": [
    "# Topic: Algorithms\n",
    "# Bubble sort\n",
    "def bubble(arr):\n",
    " for i in range(len(arr)):\n",
    "  for j in range(0, len(arr)-i-1):\n",
    "   if arr[j]>arr[j+1]: arr[j],arr[j+1]=arr[j+1],arr[j]\n",
    "a=[5,3,8]\n",
    "bubble(a)\n",
    "print(a)"
   ]
  },
  {
   "cell_type": "code",
   "execution_count": null,
   "id": "3a04ae41",
   "metadata": {},
   "outputs": [],
   "source": [
    "# Topic: Algorithms\n",
    "# Bubble sort\n",
    "def bubble(arr):\n",
    " for i in range(len(arr)):\n",
    "  for j in range(0, len(arr)-i-1):\n",
    "   if arr[j]>arr[j+1]: arr[j],arr[j+1]=arr[j+1],arr[j]\n",
    "a=[5,3,8]\n",
    "bubble(a)\n",
    "print(a)"
   ]
  },
  {
   "cell_type": "code",
   "execution_count": null,
   "id": "bcf0c661",
   "metadata": {},
   "outputs": [],
   "source": [
    "# Topic: Loops\n",
    "for i in range(10): print(i*i)"
   ]
  },
  {
   "cell_type": "code",
   "execution_count": null,
   "id": "e8373870",
   "metadata": {},
   "outputs": [],
   "source": [
    "# Topic: CLI Tools\n",
    "import sys\n",
    "print(f'Arguments: {sys.argv}')"
   ]
  },
  {
   "cell_type": "code",
   "execution_count": null,
   "id": "964707a0",
   "metadata": {},
   "outputs": [],
   "source": [
    "# Topic: Matplotlib & Seaborn\n",
    "import matplotlib.pyplot as plt\n",
    "plt.plot([1,2],[3,4])\n",
    "plt.show()"
   ]
  },
  {
   "cell_type": "code",
   "execution_count": null,
   "id": "deda83ed",
   "metadata": {},
   "outputs": [],
   "source": [
    "# Topic: Mini Projects\n",
    "# Calculator\n",
    "def calc(a,b,op): return eval(f'{a}{op}{b}')\n",
    "print(calc(5,2,'+'))"
   ]
  },
  {
   "cell_type": "code",
   "execution_count": null,
   "id": "e53c5271",
   "metadata": {},
   "outputs": [],
   "source": [
    "# Topic: NumPy\n",
    "import numpy as np\n",
    "print(np.linspace(0, 1, 5))"
   ]
  },
  {
   "cell_type": "code",
   "execution_count": null,
   "id": "6ccb70b1",
   "metadata": {},
   "outputs": [],
   "source": [
    "# Topic: Matplotlib & Seaborn\n",
    "import seaborn as sns\n",
    "import pandas as pd\n",
    "sns.set()\n",
    "sns.histplot(pd.Series([1,2,2,3]));"
   ]
  },
  {
   "cell_type": "code",
   "execution_count": null,
   "id": "4e9e9850",
   "metadata": {},
   "outputs": [],
   "source": [
    "# Topic: Regex\n",
    "import re\n",
    "text = 'email: test@example.com'\n",
    "print(re.findall(r'\\S+@\\S+', text))"
   ]
  },
  {
   "cell_type": "code",
   "execution_count": null,
   "id": "0ffbe087",
   "metadata": {},
   "outputs": [],
   "source": [
    "# Topic: JSON & CSV\n",
    "import json\n",
    "data = {'a': 1}\n",
    "print(json.dumps(data))"
   ]
  },
  {
   "cell_type": "code",
   "execution_count": null,
   "id": "3e4cf8e7",
   "metadata": {},
   "outputs": [],
   "source": [
    "# Topic: Functions\n",
    "def greet(name='User'):\n",
    "    print(f'Hi, {name}')\n",
    "greet()"
   ]
  },
  {
   "cell_type": "code",
   "execution_count": null,
   "id": "998269c1",
   "metadata": {},
   "outputs": [],
   "source": [
    "# Topic: JSON & CSV\n",
    "import csv\n",
    "with open('file.csv', 'w', newline='') as f:\n",
    " csv.writer(f).writerow(['a','b','c'])"
   ]
  },
  {
   "cell_type": "code",
   "execution_count": null,
   "id": "204f021d",
   "metadata": {},
   "outputs": [],
   "source": [
    "# Topic: Data Cleaning\n",
    "import pandas as pd\n",
    "df = pd.DataFrame({'A':[1,None,3]})\n",
    "df = df.fillna(0)\n",
    "print(df)"
   ]
  },
  {
   "cell_type": "code",
   "execution_count": null,
   "id": "9ecfa2f9",
   "metadata": {},
   "outputs": [],
   "source": [
    "# Topic: Basic ML\n",
    "from sklearn.linear_model import LinearRegression\n",
    "model = LinearRegression()\n",
    "print(model)"
   ]
  },
  {
   "cell_type": "code",
   "execution_count": null,
   "id": "e229f9d2",
   "metadata": {},
   "outputs": [],
   "source": [
    "# Topic: Basics\n",
    "x = 10\n",
    "y = 20\n",
    "print(x + y)"
   ]
  },
  {
   "cell_type": "code",
   "execution_count": null,
   "id": "cec40fd8",
   "metadata": {},
   "outputs": [],
   "source": [
    "# Topic: Pandas\n",
    "import pandas as pd\n",
    "df = pd.DataFrame({'A':[1,2],'B':[3,4]})\n",
    "print(df)"
   ]
  },
  {
   "cell_type": "code",
   "execution_count": null,
   "id": "85e611b2",
   "metadata": {},
   "outputs": [],
   "source": [
    "# Topic: Lists & Tuples\n",
    "t = (1, 2, 3)\n",
    "print(t[0])"
   ]
  },
  {
   "cell_type": "code",
   "execution_count": null,
   "id": "ce4b97f7",
   "metadata": {},
   "outputs": [],
   "source": [
    "# Topic: Mini Projects\n",
    "# Palindrome check\n",
    "def is_pal(s): return s == s[::-1]\n",
    "print(is_pal('madam'))"
   ]
  },
  {
   "cell_type": "code",
   "execution_count": null,
   "id": "b04394fc",
   "metadata": {},
   "outputs": [],
   "source": [
    "# Topic: Web Scraping\n",
    "import requests\n",
    "from bs4 import BeautifulSoup\n",
    "r = requests.get('https://example.com')\n",
    "soup = BeautifulSoup(r.text, 'html.parser')\n",
    "print(soup.title.text)"
   ]
  },
  {
   "cell_type": "code",
   "execution_count": null,
   "id": "e0cf9df9",
   "metadata": {},
   "outputs": [],
   "source": [
    "# Topic: NumPy\n",
    "import numpy as np\n",
    "a = np.array([1, 2, 3])\n",
    "print(a + 5)"
   ]
  },
  {
   "cell_type": "code",
   "execution_count": null,
   "id": "d4e0006d",
   "metadata": {},
   "outputs": [],
   "source": [
    "# Topic: File I/O\n",
    "with open('test.txt', 'r') as f:\n",
    "    print(f.read())"
   ]
  },
  {
   "cell_type": "code",
   "execution_count": null,
   "id": "058ffc4e",
   "metadata": {},
   "outputs": [],
   "source": [
    "# Topic: Matplotlib & Seaborn\n",
    "import matplotlib.pyplot as plt\n",
    "plt.plot([1,2],[3,4])\n",
    "plt.show()"
   ]
  },
  {
   "cell_type": "code",
   "execution_count": null,
   "id": "dff92430",
   "metadata": {},
   "outputs": [],
   "source": [
    "# Topic: Loops\n",
    "while True:\n",
    "    print('Break')\n",
    "    break"
   ]
  },
  {
   "cell_type": "code",
   "execution_count": null,
   "id": "d81fdcd6",
   "metadata": {},
   "outputs": [],
   "source": [
    "# Topic: OOP\n",
    "class Student:\n",
    "    def __init__(self, name): self.name = name\n",
    "s = Student('Fahd')\n",
    "print(s.name)"
   ]
  },
  {
   "cell_type": "code",
   "execution_count": null,
   "id": "8729739b",
   "metadata": {},
   "outputs": [],
   "source": [
    "# Topic: Dictionaries & Sets\n",
    "d = {'name': 'Fahd', 'age': 20}\n",
    "print(d.get('name'))"
   ]
  },
  {
   "cell_type": "code",
   "execution_count": null,
   "id": "01b85d73",
   "metadata": {},
   "outputs": [],
   "source": [
    "# Topic: Functions\n",
    "def greet(name='User'):\n",
    "    print(f'Hi, {name}')\n",
    "greet()"
   ]
  },
  {
   "cell_type": "code",
   "execution_count": null,
   "id": "7ed887c0",
   "metadata": {},
   "outputs": [],
   "source": [
    "# Topic: Regex\n",
    "import re\n",
    "text = 'email: test@example.com'\n",
    "print(re.findall(r'\\S+@\\S+', text))"
   ]
  },
  {
   "cell_type": "code",
   "execution_count": null,
   "id": "5c4eb700",
   "metadata": {},
   "outputs": [],
   "source": [
    "# Topic: Mini Projects\n",
    "# Calculator\n",
    "def calc(a,b,op): return eval(f'{a}{op}{b}')\n",
    "print(calc(5,2,'+'))"
   ]
  },
  {
   "cell_type": "code",
   "execution_count": null,
   "id": "1a4841f3",
   "metadata": {},
   "outputs": [],
   "source": [
    "# Topic: Regex\n",
    "import re\n",
    "text = 'email: test@example.com'\n",
    "print(re.findall(r'\\S+@\\S+', text))"
   ]
  },
  {
   "cell_type": "code",
   "execution_count": null,
   "id": "1bb76c5f",
   "metadata": {},
   "outputs": [],
   "source": [
    "# Topic: Functions\n",
    "def greet(name='User'):\n",
    "    print(f'Hi, {name}')\n",
    "greet()"
   ]
  },
  {
   "cell_type": "code",
   "execution_count": null,
   "id": "c7e2e7ce",
   "metadata": {},
   "outputs": [],
   "source": [
    "# Topic: OOP\n",
    "class Student:\n",
    "    def __init__(self, name): self.name = name\n",
    "s = Student('Fahd')\n",
    "print(s.name)"
   ]
  },
  {
   "cell_type": "code",
   "execution_count": null,
   "id": "9d942115",
   "metadata": {},
   "outputs": [],
   "source": [
    "# Topic: Web Scraping\n",
    "import requests\n",
    "from bs4 import BeautifulSoup\n",
    "r = requests.get('https://example.com')\n",
    "soup = BeautifulSoup(r.text, 'html.parser')\n",
    "print(soup.title.text)"
   ]
  },
  {
   "cell_type": "code",
   "execution_count": null,
   "id": "a091a400",
   "metadata": {},
   "outputs": [],
   "source": [
    "# Topic: Recursion\n",
    "def fact(n): return 1 if n==0 else n*fact(n-1)\n",
    "print(fact(5))"
   ]
  },
  {
   "cell_type": "code",
   "execution_count": null,
   "id": "246ce6fe",
   "metadata": {},
   "outputs": [],
   "source": [
    "# Topic: Lists & Tuples\n",
    "t = (1, 2, 3)\n",
    "print(t[0])"
   ]
  },
  {
   "cell_type": "code",
   "execution_count": null,
   "id": "8caa83ed",
   "metadata": {},
   "outputs": [],
   "source": [
    "# Topic: Basic ML\n",
    "from sklearn.linear_model import LinearRegression\n",
    "model = LinearRegression()\n",
    "print(model)"
   ]
  },
  {
   "cell_type": "code",
   "execution_count": null,
   "id": "974b84c0",
   "metadata": {},
   "outputs": [],
   "source": [
    "# Topic: Mini Projects\n",
    "# Palindrome check\n",
    "def is_pal(s): return s == s[::-1]\n",
    "print(is_pal('madam'))"
   ]
  },
  {
   "cell_type": "code",
   "execution_count": null,
   "id": "45936895",
   "metadata": {},
   "outputs": [],
   "source": [
    "# Topic: Functions\n",
    "def square(x): return x*x\n",
    "print(square(5))"
   ]
  },
  {
   "cell_type": "code",
   "execution_count": null,
   "id": "fc98977d",
   "metadata": {},
   "outputs": [],
   "source": [
    "# Topic: JSON & CSV\n",
    "import csv\n",
    "with open('file.csv', 'w', newline='') as f:\n",
    " csv.writer(f).writerow(['a','b','c'])"
   ]
  },
  {
   "cell_type": "code",
   "execution_count": null,
   "id": "fec8a729",
   "metadata": {},
   "outputs": [],
   "source": [
    "# Topic: Algorithms\n",
    "# Bubble sort\n",
    "def bubble(arr):\n",
    " for i in range(len(arr)):\n",
    "  for j in range(0, len(arr)-i-1):\n",
    "   if arr[j]>arr[j+1]: arr[j],arr[j+1]=arr[j+1],arr[j]\n",
    "a=[5,3,8]\n",
    "bubble(a)\n",
    "print(a)"
   ]
  },
  {
   "cell_type": "code",
   "execution_count": null,
   "id": "d682a6f2",
   "metadata": {},
   "outputs": [],
   "source": [
    "# Topic: Algorithms\n",
    "# Bubble sort\n",
    "def bubble(arr):\n",
    " for i in range(len(arr)):\n",
    "  for j in range(0, len(arr)-i-1):\n",
    "   if arr[j]>arr[j+1]: arr[j],arr[j+1]=arr[j+1],arr[j]\n",
    "a=[5,3,8]\n",
    "bubble(a)\n",
    "print(a)"
   ]
  },
  {
   "cell_type": "code",
   "execution_count": null,
   "id": "70bc0dd6",
   "metadata": {},
   "outputs": [],
   "source": [
    "# Topic: Lists & Tuples\n",
    "lst = [1, 2, 3]\n",
    "lst.append(4)\n",
    "print(lst)"
   ]
  },
  {
   "cell_type": "code",
   "execution_count": null,
   "id": "0d19a441",
   "metadata": {},
   "outputs": [],
   "source": [
    "# Topic: Decorators\n",
    "def log(func):\n",
    " def wrapper():\n",
    "  print('Call')\n",
    "  func()\n",
    " return wrapper\n",
    "@log\n",
    "def say(): print('Hi')\n",
    "say()"
   ]
  },
  {
   "cell_type": "code",
   "execution_count": null,
   "id": "6ccd2081",
   "metadata": {},
   "outputs": [],
   "source": [
    "# Topic: JSON & CSV\n",
    "import csv\n",
    "with open('file.csv', 'w', newline='') as f:\n",
    " csv.writer(f).writerow(['a','b','c'])"
   ]
  },
  {
   "cell_type": "code",
   "execution_count": null,
   "id": "3177257d",
   "metadata": {},
   "outputs": [],
   "source": [
    "# Topic: Loops\n",
    "while True:\n",
    "    print('Break')\n",
    "    break"
   ]
  },
  {
   "cell_type": "code",
   "execution_count": null,
   "id": "f9d17f30",
   "metadata": {},
   "outputs": [],
   "source": [
    "# Topic: Web Scraping\n",
    "import requests\n",
    "from bs4 import BeautifulSoup\n",
    "r = requests.get('https://example.com')\n",
    "soup = BeautifulSoup(r.text, 'html.parser')\n",
    "print(soup.title.text)"
   ]
  },
  {
   "cell_type": "code",
   "execution_count": null,
   "id": "981c3b78",
   "metadata": {},
   "outputs": [],
   "source": [
    "# Topic: Decorators\n",
    "def log(func):\n",
    " def wrapper():\n",
    "  print('Call')\n",
    "  func()\n",
    " return wrapper\n",
    "@log\n",
    "def say(): print('Hi')\n",
    "say()"
   ]
  },
  {
   "cell_type": "code",
   "execution_count": null,
   "id": "d88f8d2b",
   "metadata": {},
   "outputs": [],
   "source": [
    "# Topic: JSON & CSV\n",
    "import json\n",
    "data = {'a': 1}\n",
    "print(json.dumps(data))"
   ]
  },
  {
   "cell_type": "code",
   "execution_count": null,
   "id": "b1f21f6f",
   "metadata": {},
   "outputs": [],
   "source": [
    "# Topic: Data Cleaning\n",
    "import pandas as pd\n",
    "df = pd.DataFrame({'A':[1,None,3]})\n",
    "df = df.fillna(0)\n",
    "print(df)"
   ]
  },
  {
   "cell_type": "code",
   "execution_count": null,
   "id": "a4c65293",
   "metadata": {},
   "outputs": [],
   "source": [
    "# Topic: JSON & CSV\n",
    "import csv\n",
    "with open('file.csv', 'w', newline='') as f:\n",
    " csv.writer(f).writerow(['a','b','c'])"
   ]
  },
  {
   "cell_type": "code",
   "execution_count": null,
   "id": "fda7e41c",
   "metadata": {},
   "outputs": [],
   "source": [
    "# Topic: CLI Tools\n",
    "import sys\n",
    "print(f'Arguments: {sys.argv}')"
   ]
  },
  {
   "cell_type": "code",
   "execution_count": null,
   "id": "dd181a76",
   "metadata": {},
   "outputs": [],
   "source": [
    "# Topic: Web Scraping\n",
    "import requests\n",
    "from bs4 import BeautifulSoup\n",
    "r = requests.get('https://example.com')\n",
    "soup = BeautifulSoup(r.text, 'html.parser')\n",
    "print(soup.title.text)"
   ]
  },
  {
   "cell_type": "code",
   "execution_count": null,
   "id": "d0f5077f",
   "metadata": {},
   "outputs": [],
   "source": [
    "# Topic: Regex\n",
    "import re\n",
    "text = 'email: test@example.com'\n",
    "print(re.findall(r'\\S+@\\S+', text))"
   ]
  },
  {
   "cell_type": "code",
   "execution_count": null,
   "id": "c0ebbad3",
   "metadata": {},
   "outputs": [],
   "source": [
    "# Topic: Algorithms\n",
    "# Bubble sort\n",
    "def bubble(arr):\n",
    " for i in range(len(arr)):\n",
    "  for j in range(0, len(arr)-i-1):\n",
    "   if arr[j]>arr[j+1]: arr[j],arr[j+1]=arr[j+1],arr[j]\n",
    "a=[5,3,8]\n",
    "bubble(a)\n",
    "print(a)"
   ]
  },
  {
   "cell_type": "code",
   "execution_count": null,
   "id": "191d85ab",
   "metadata": {},
   "outputs": [],
   "source": [
    "# Topic: JSON & CSV\n",
    "import json\n",
    "data = {'a': 1}\n",
    "print(json.dumps(data))"
   ]
  },
  {
   "cell_type": "code",
   "execution_count": null,
   "id": "e29bf791",
   "metadata": {},
   "outputs": [],
   "source": [
    "# Topic: Regex\n",
    "import re\n",
    "text = 'email: test@example.com'\n",
    "print(re.findall(r'\\S+@\\S+', text))"
   ]
  },
  {
   "cell_type": "code",
   "execution_count": null,
   "id": "adee4b21",
   "metadata": {},
   "outputs": [],
   "source": [
    "# Topic: Web Scraping\n",
    "import requests\n",
    "from bs4 import BeautifulSoup\n",
    "r = requests.get('https://example.com')\n",
    "soup = BeautifulSoup(r.text, 'html.parser')\n",
    "print(soup.title.text)"
   ]
  },
  {
   "cell_type": "code",
   "execution_count": null,
   "id": "dd4a9878",
   "metadata": {},
   "outputs": [],
   "source": [
    "# Topic: Data Cleaning\n",
    "import pandas as pd\n",
    "df = pd.DataFrame({'A':[1,None,3]})\n",
    "df = df.fillna(0)\n",
    "print(df)"
   ]
  },
  {
   "cell_type": "code",
   "execution_count": null,
   "id": "d039a749",
   "metadata": {},
   "outputs": [],
   "source": [
    "# Topic: Pandas\n",
    "import pandas as pd\n",
    "df = pd.read_csv('file.csv')\n",
    "print(df.head())"
   ]
  },
  {
   "cell_type": "code",
   "execution_count": null,
   "id": "af49faa6",
   "metadata": {},
   "outputs": [],
   "source": [
    "# Topic: Basics\n",
    "name = 'Fahd'\n",
    "print(f'Hello, {name}')"
   ]
  },
  {
   "cell_type": "code",
   "execution_count": null,
   "id": "d5eca444",
   "metadata": {},
   "outputs": [],
   "source": [
    "# Topic: File I/O\n",
    "with open('test.txt', 'r') as f:\n",
    "    print(f.read())"
   ]
  },
  {
   "cell_type": "code",
   "execution_count": null,
   "id": "9dbfff4c",
   "metadata": {},
   "outputs": [],
   "source": [
    "# Topic: CLI Tools\n",
    "import sys\n",
    "print(f'Arguments: {sys.argv}')"
   ]
  },
  {
   "cell_type": "code",
   "execution_count": null,
   "id": "372a4308",
   "metadata": {},
   "outputs": [],
   "source": [
    "# Topic: Web Scraping\n",
    "import requests\n",
    "from bs4 import BeautifulSoup\n",
    "r = requests.get('https://example.com')\n",
    "soup = BeautifulSoup(r.text, 'html.parser')\n",
    "print(soup.title.text)"
   ]
  },
  {
   "cell_type": "code",
   "execution_count": null,
   "id": "f074cb60",
   "metadata": {},
   "outputs": [],
   "source": [
    "# Topic: Basics\n",
    "name = 'Fahd'\n",
    "print(f'Hello, {name}')"
   ]
  },
  {
   "cell_type": "code",
   "execution_count": null,
   "id": "c7c5e59e",
   "metadata": {},
   "outputs": [],
   "source": [
    "# Topic: Basics\n",
    "name = 'Fahd'\n",
    "print(f'Hello, {name}')"
   ]
  },
  {
   "cell_type": "code",
   "execution_count": null,
   "id": "911648c1",
   "metadata": {},
   "outputs": [],
   "source": [
    "# Topic: OOP\n",
    "class Student:\n",
    "    def __init__(self, name): self.name = name\n",
    "s = Student('Fahd')\n",
    "print(s.name)"
   ]
  },
  {
   "cell_type": "code",
   "execution_count": null,
   "id": "2896a3f3",
   "metadata": {},
   "outputs": [],
   "source": [
    "# Topic: File I/O\n",
    "with open('test.txt', 'w') as f:\n",
    "    f.write('Hello World')"
   ]
  },
  {
   "cell_type": "code",
   "execution_count": null,
   "id": "173b1652",
   "metadata": {},
   "outputs": [],
   "source": [
    "# Topic: Decorators\n",
    "def log(func):\n",
    " def wrapper():\n",
    "  print('Call')\n",
    "  func()\n",
    " return wrapper\n",
    "@log\n",
    "def say(): print('Hi')\n",
    "say()"
   ]
  },
  {
   "cell_type": "code",
   "execution_count": null,
   "id": "d89e065f",
   "metadata": {},
   "outputs": [],
   "source": [
    "# Topic: Data Cleaning\n",
    "import pandas as pd\n",
    "df = pd.DataFrame({'A':[1,None,3]})\n",
    "df = df.fillna(0)\n",
    "print(df)"
   ]
  },
  {
   "cell_type": "code",
   "execution_count": null,
   "id": "f6390b7c",
   "metadata": {},
   "outputs": [],
   "source": [
    "# Topic: Web Scraping\n",
    "import requests\n",
    "from bs4 import BeautifulSoup\n",
    "r = requests.get('https://example.com')\n",
    "soup = BeautifulSoup(r.text, 'html.parser')\n",
    "print(soup.title.text)"
   ]
  },
  {
   "cell_type": "code",
   "execution_count": null,
   "id": "430c15e0",
   "metadata": {},
   "outputs": [],
   "source": [
    "# Topic: Functions\n",
    "def square(x): return x*x\n",
    "print(square(5))"
   ]
  },
  {
   "cell_type": "code",
   "execution_count": null,
   "id": "f81dea96",
   "metadata": {},
   "outputs": [],
   "source": [
    "# Topic: Lists & Tuples\n",
    "lst = [1, 2, 3]\n",
    "lst.append(4)\n",
    "print(lst)"
   ]
  },
  {
   "cell_type": "code",
   "execution_count": null,
   "id": "236e2a0d",
   "metadata": {},
   "outputs": [],
   "source": [
    "# Topic: Data Cleaning\n",
    "import pandas as pd\n",
    "df = pd.DataFrame({'A':[1,None,3]})\n",
    "df = df.fillna(0)\n",
    "print(df)"
   ]
  },
  {
   "cell_type": "code",
   "execution_count": null,
   "id": "06c2ce61",
   "metadata": {},
   "outputs": [],
   "source": [
    "# Topic: Algorithms\n",
    "# Bubble sort\n",
    "def bubble(arr):\n",
    " for i in range(len(arr)):\n",
    "  for j in range(0, len(arr)-i-1):\n",
    "   if arr[j]>arr[j+1]: arr[j],arr[j+1]=arr[j+1],arr[j]\n",
    "a=[5,3,8]\n",
    "bubble(a)\n",
    "print(a)"
   ]
  },
  {
   "cell_type": "code",
   "execution_count": null,
   "id": "03b66ed5",
   "metadata": {},
   "outputs": [],
   "source": [
    "# Topic: Regex\n",
    "import re\n",
    "text = 'email: test@example.com'\n",
    "print(re.findall(r'\\S+@\\S+', text))"
   ]
  },
  {
   "cell_type": "code",
   "execution_count": null,
   "id": "3895b160",
   "metadata": {},
   "outputs": [],
   "source": [
    "# Topic: Recursion\n",
    "def fact(n): return 1 if n==0 else n*fact(n-1)\n",
    "print(fact(5))"
   ]
  },
  {
   "cell_type": "code",
   "execution_count": null,
   "id": "acabb0a5",
   "metadata": {},
   "outputs": [],
   "source": [
    "# Topic: CLI Tools\n",
    "import sys\n",
    "print(f'Arguments: {sys.argv}')"
   ]
  },
  {
   "cell_type": "code",
   "execution_count": null,
   "id": "b56d3c49",
   "metadata": {},
   "outputs": [],
   "source": [
    "# Topic: Matplotlib & Seaborn\n",
    "import seaborn as sns\n",
    "import pandas as pd\n",
    "sns.set()\n",
    "sns.histplot(pd.Series([1,2,2,3]));"
   ]
  },
  {
   "cell_type": "code",
   "execution_count": null,
   "id": "c6a280da",
   "metadata": {},
   "outputs": [],
   "source": [
    "# Topic: Functions\n",
    "def square(x): return x*x\n",
    "print(square(5))"
   ]
  },
  {
   "cell_type": "code",
   "execution_count": null,
   "id": "3526de20",
   "metadata": {},
   "outputs": [],
   "source": [
    "# Topic: Basic ML\n",
    "from sklearn.linear_model import LinearRegression\n",
    "model = LinearRegression()\n",
    "print(model)"
   ]
  },
  {
   "cell_type": "code",
   "execution_count": null,
   "id": "59409b53",
   "metadata": {},
   "outputs": [],
   "source": [
    "# Topic: Mini Projects\n",
    "# Palindrome check\n",
    "def is_pal(s): return s == s[::-1]\n",
    "print(is_pal('madam'))"
   ]
  },
  {
   "cell_type": "code",
   "execution_count": null,
   "id": "438bc8f5",
   "metadata": {},
   "outputs": [],
   "source": [
    "# Topic: OOP\n",
    "class Student:\n",
    "    def __init__(self, name): self.name = name\n",
    "s = Student('Fahd')\n",
    "print(s.name)"
   ]
  },
  {
   "cell_type": "code",
   "execution_count": null,
   "id": "dccbe1fd",
   "metadata": {},
   "outputs": [],
   "source": [
    "# Topic: NumPy\n",
    "import numpy as np\n",
    "a = np.array([1, 2, 3])\n",
    "print(a + 5)"
   ]
  },
  {
   "cell_type": "code",
   "execution_count": null,
   "id": "e68b82a6",
   "metadata": {},
   "outputs": [],
   "source": [
    "# Topic: File I/O\n",
    "with open('test.txt', 'w') as f:\n",
    "    f.write('Hello World')"
   ]
  },
  {
   "cell_type": "code",
   "execution_count": null,
   "id": "0d9e3982",
   "metadata": {},
   "outputs": [],
   "source": [
    "# Topic: Functions\n",
    "def square(x): return x*x\n",
    "print(square(5))"
   ]
  },
  {
   "cell_type": "code",
   "execution_count": null,
   "id": "b63a132c",
   "metadata": {},
   "outputs": [],
   "source": [
    "# Topic: Regex\n",
    "import re\n",
    "text = 'email: test@example.com'\n",
    "print(re.findall(r'\\S+@\\S+', text))"
   ]
  },
  {
   "cell_type": "code",
   "execution_count": null,
   "id": "ab333d11",
   "metadata": {},
   "outputs": [],
   "source": [
    "# Topic: OOP\n",
    "class Student:\n",
    "    def __init__(self, name): self.name = name\n",
    "s = Student('Fahd')\n",
    "print(s.name)"
   ]
  },
  {
   "cell_type": "code",
   "execution_count": null,
   "id": "3d0fe09e",
   "metadata": {},
   "outputs": [],
   "source": [
    "# Topic: Basics\n",
    "name = 'Fahd'\n",
    "print(f'Hello, {name}')"
   ]
  },
  {
   "cell_type": "code",
   "execution_count": null,
   "id": "182063d6",
   "metadata": {},
   "outputs": [],
   "source": [
    "# Topic: Basic ML\n",
    "from sklearn.linear_model import LinearRegression\n",
    "model = LinearRegression()\n",
    "print(model)"
   ]
  },
  {
   "cell_type": "code",
   "execution_count": null,
   "id": "f21b213d",
   "metadata": {},
   "outputs": [],
   "source": [
    "# Topic: Dictionaries & Sets\n",
    "d = {'name': 'Fahd', 'age': 20}\n",
    "print(d.get('name'))"
   ]
  },
  {
   "cell_type": "code",
   "execution_count": null,
   "id": "2418e385",
   "metadata": {},
   "outputs": [],
   "source": [
    "# Topic: Functions\n",
    "def square(x): return x*x\n",
    "print(square(5))"
   ]
  },
  {
   "cell_type": "code",
   "execution_count": null,
   "id": "6fab399c",
   "metadata": {},
   "outputs": [],
   "source": [
    "# Topic: File I/O\n",
    "with open('test.txt', 'w') as f:\n",
    "    f.write('Hello World')"
   ]
  },
  {
   "cell_type": "code",
   "execution_count": null,
   "id": "cabe17c4",
   "metadata": {},
   "outputs": [],
   "source": [
    "# Topic: Pandas\n",
    "import pandas as pd\n",
    "df = pd.read_csv('file.csv')\n",
    "print(df.head())"
   ]
  },
  {
   "cell_type": "code",
   "execution_count": null,
   "id": "a82e82f3",
   "metadata": {},
   "outputs": [],
   "source": [
    "# Topic: Basics\n",
    "name = 'Fahd'\n",
    "print(f'Hello, {name}')"
   ]
  },
  {
   "cell_type": "code",
   "execution_count": null,
   "id": "a9c523d7",
   "metadata": {},
   "outputs": [],
   "source": [
    "# Topic: Pandas\n",
    "import pandas as pd\n",
    "df = pd.DataFrame({'A':[1,2],'B':[3,4]})\n",
    "print(df)"
   ]
  },
  {
   "cell_type": "code",
   "execution_count": null,
   "id": "74bcb528",
   "metadata": {},
   "outputs": [],
   "source": [
    "# Topic: Dictionaries & Sets\n",
    "s = set([1, 2, 3, 2])\n",
    "print(s)"
   ]
  },
  {
   "cell_type": "code",
   "execution_count": null,
   "id": "e66d0f01",
   "metadata": {},
   "outputs": [],
   "source": [
    "# Topic: CLI Tools\n",
    "import sys\n",
    "print(f'Arguments: {sys.argv}')"
   ]
  },
  {
   "cell_type": "code",
   "execution_count": null,
   "id": "58e0c71e",
   "metadata": {},
   "outputs": [],
   "source": [
    "# Topic: CLI Tools\n",
    "import sys\n",
    "print(f'Arguments: {sys.argv}')"
   ]
  },
  {
   "cell_type": "code",
   "execution_count": null,
   "id": "314a066a",
   "metadata": {},
   "outputs": [],
   "source": [
    "# Topic: CLI Tools\n",
    "import sys\n",
    "print(f'Arguments: {sys.argv}')"
   ]
  },
  {
   "cell_type": "code",
   "execution_count": null,
   "id": "aaff0134",
   "metadata": {},
   "outputs": [],
   "source": [
    "# Topic: Mini Projects\n",
    "# Calculator\n",
    "def calc(a,b,op): return eval(f'{a}{op}{b}')\n",
    "print(calc(5,2,'+'))"
   ]
  },
  {
   "cell_type": "code",
   "execution_count": null,
   "id": "f2f1a491",
   "metadata": {},
   "outputs": [],
   "source": [
    "# Topic: Web Scraping\n",
    "import requests\n",
    "from bs4 import BeautifulSoup\n",
    "r = requests.get('https://example.com')\n",
    "soup = BeautifulSoup(r.text, 'html.parser')\n",
    "print(soup.title.text)"
   ]
  },
  {
   "cell_type": "code",
   "execution_count": null,
   "id": "d8ab41e4",
   "metadata": {},
   "outputs": [],
   "source": [
    "# Topic: NumPy\n",
    "import numpy as np\n",
    "a = np.array([1, 2, 3])\n",
    "print(a + 5)"
   ]
  },
  {
   "cell_type": "code",
   "execution_count": null,
   "id": "d49234fb",
   "metadata": {},
   "outputs": [],
   "source": [
    "# Topic: Matplotlib & Seaborn\n",
    "import matplotlib.pyplot as plt\n",
    "plt.plot([1,2],[3,4])\n",
    "plt.show()"
   ]
  },
  {
   "cell_type": "code",
   "execution_count": null,
   "id": "b709992c",
   "metadata": {},
   "outputs": [],
   "source": [
    "# Topic: Loops\n",
    "while True:\n",
    "    print('Break')\n",
    "    break"
   ]
  },
  {
   "cell_type": "code",
   "execution_count": null,
   "id": "4ebff4ac",
   "metadata": {},
   "outputs": [],
   "source": [
    "# Topic: NumPy\n",
    "import numpy as np\n",
    "print(np.linspace(0, 1, 5))"
   ]
  },
  {
   "cell_type": "code",
   "execution_count": null,
   "id": "121ecfec",
   "metadata": {},
   "outputs": [],
   "source": [
    "# Topic: File I/O\n",
    "with open('test.txt', 'w') as f:\n",
    "    f.write('Hello World')"
   ]
  },
  {
   "cell_type": "code",
   "execution_count": null,
   "id": "90ecc8c5",
   "metadata": {},
   "outputs": [],
   "source": [
    "# Topic: Mini Projects\n",
    "# Palindrome check\n",
    "def is_pal(s): return s == s[::-1]\n",
    "print(is_pal('madam'))"
   ]
  },
  {
   "cell_type": "code",
   "execution_count": null,
   "id": "6ebbebaa",
   "metadata": {},
   "outputs": [],
   "source": [
    "# Topic: Dictionaries & Sets\n",
    "s = set([1, 2, 3, 2])\n",
    "print(s)"
   ]
  },
  {
   "cell_type": "code",
   "execution_count": null,
   "id": "379e29fb",
   "metadata": {},
   "outputs": [],
   "source": [
    "# Topic: CLI Tools\n",
    "import sys\n",
    "print(f'Arguments: {sys.argv}')"
   ]
  },
  {
   "cell_type": "code",
   "execution_count": null,
   "id": "7c15c115",
   "metadata": {},
   "outputs": [],
   "source": [
    "# Topic: CLI Tools\n",
    "import sys\n",
    "print(f'Arguments: {sys.argv}')"
   ]
  },
  {
   "cell_type": "code",
   "execution_count": null,
   "id": "e4f8eb71",
   "metadata": {},
   "outputs": [],
   "source": [
    "# Topic: Basics\n",
    "name = 'Fahd'\n",
    "print(f'Hello, {name}')"
   ]
  },
  {
   "cell_type": "code",
   "execution_count": null,
   "id": "593d15fc",
   "metadata": {},
   "outputs": [],
   "source": [
    "# Topic: Lists & Tuples\n",
    "t = (1, 2, 3)\n",
    "print(t[0])"
   ]
  },
  {
   "cell_type": "code",
   "execution_count": null,
   "id": "daa56aa1",
   "metadata": {},
   "outputs": [],
   "source": [
    "# Topic: JSON & CSV\n",
    "import json\n",
    "data = {'a': 1}\n",
    "print(json.dumps(data))"
   ]
  },
  {
   "cell_type": "code",
   "execution_count": null,
   "id": "0cd92e06",
   "metadata": {},
   "outputs": [],
   "source": [
    "# Topic: Lists & Tuples\n",
    "lst = [1, 2, 3]\n",
    "lst.append(4)\n",
    "print(lst)"
   ]
  },
  {
   "cell_type": "code",
   "execution_count": null,
   "id": "4ced7a27",
   "metadata": {},
   "outputs": [],
   "source": [
    "# Topic: Functions\n",
    "def greet(name='User'):\n",
    "    print(f'Hi, {name}')\n",
    "greet()"
   ]
  },
  {
   "cell_type": "code",
   "execution_count": null,
   "id": "09ebecd6",
   "metadata": {},
   "outputs": [],
   "source": [
    "# Topic: JSON & CSV\n",
    "import json\n",
    "data = {'a': 1}\n",
    "print(json.dumps(data))"
   ]
  },
  {
   "cell_type": "code",
   "execution_count": null,
   "id": "e165c73c",
   "metadata": {},
   "outputs": [],
   "source": [
    "# Topic: Recursion\n",
    "def fact(n): return 1 if n==0 else n*fact(n-1)\n",
    "print(fact(5))"
   ]
  },
  {
   "cell_type": "code",
   "execution_count": null,
   "id": "6abf7f2d",
   "metadata": {},
   "outputs": [],
   "source": [
    "# Topic: Recursion\n",
    "def fact(n): return 1 if n==0 else n*fact(n-1)\n",
    "print(fact(5))"
   ]
  },
  {
   "cell_type": "code",
   "execution_count": null,
   "id": "4a64ae8e",
   "metadata": {},
   "outputs": [],
   "source": [
    "# Topic: Functions\n",
    "def square(x): return x*x\n",
    "print(square(5))"
   ]
  },
  {
   "cell_type": "code",
   "execution_count": null,
   "id": "38b92a9d",
   "metadata": {},
   "outputs": [],
   "source": [
    "# Topic: Pandas\n",
    "import pandas as pd\n",
    "df = pd.DataFrame({'A':[1,2],'B':[3,4]})\n",
    "print(df)"
   ]
  },
  {
   "cell_type": "code",
   "execution_count": null,
   "id": "50d786f1",
   "metadata": {},
   "outputs": [],
   "source": [
    "# Topic: Algorithms\n",
    "# Bubble sort\n",
    "def bubble(arr):\n",
    " for i in range(len(arr)):\n",
    "  for j in range(0, len(arr)-i-1):\n",
    "   if arr[j]>arr[j+1]: arr[j],arr[j+1]=arr[j+1],arr[j]\n",
    "a=[5,3,8]\n",
    "bubble(a)\n",
    "print(a)"
   ]
  },
  {
   "cell_type": "code",
   "execution_count": null,
   "id": "a19d3809",
   "metadata": {},
   "outputs": [],
   "source": [
    "# Topic: Decorators\n",
    "def log(func):\n",
    " def wrapper():\n",
    "  print('Call')\n",
    "  func()\n",
    " return wrapper\n",
    "@log\n",
    "def say(): print('Hi')\n",
    "say()"
   ]
  },
  {
   "cell_type": "code",
   "execution_count": null,
   "id": "8b302102",
   "metadata": {},
   "outputs": [],
   "source": [
    "# Topic: Loops\n",
    "for i in range(10): print(i*i)"
   ]
  },
  {
   "cell_type": "code",
   "execution_count": null,
   "id": "89b1eeaf",
   "metadata": {},
   "outputs": [],
   "source": [
    "# Topic: Decorators\n",
    "def log(func):\n",
    " def wrapper():\n",
    "  print('Call')\n",
    "  func()\n",
    " return wrapper\n",
    "@log\n",
    "def say(): print('Hi')\n",
    "say()"
   ]
  },
  {
   "cell_type": "code",
   "execution_count": null,
   "id": "f6c8f2a5",
   "metadata": {},
   "outputs": [],
   "source": [
    "# Topic: Loops\n",
    "while True:\n",
    "    print('Break')\n",
    "    break"
   ]
  },
  {
   "cell_type": "code",
   "execution_count": null,
   "id": "dd295e12",
   "metadata": {},
   "outputs": [],
   "source": [
    "# Topic: Basics\n",
    "x = 10\n",
    "y = 20\n",
    "print(x + y)"
   ]
  },
  {
   "cell_type": "code",
   "execution_count": null,
   "id": "53be1b6a",
   "metadata": {},
   "outputs": [],
   "source": [
    "# Topic: Decorators\n",
    "def log(func):\n",
    " def wrapper():\n",
    "  print('Call')\n",
    "  func()\n",
    " return wrapper\n",
    "@log\n",
    "def say(): print('Hi')\n",
    "say()"
   ]
  },
  {
   "cell_type": "code",
   "execution_count": null,
   "id": "363437c4",
   "metadata": {},
   "outputs": [],
   "source": [
    "# Topic: Basics\n",
    "x = 10\n",
    "y = 20\n",
    "print(x + y)"
   ]
  },
  {
   "cell_type": "code",
   "execution_count": null,
   "id": "21d89e33",
   "metadata": {},
   "outputs": [],
   "source": [
    "# Topic: Basics\n",
    "name = 'Fahd'\n",
    "print(f'Hello, {name}')"
   ]
  },
  {
   "cell_type": "code",
   "execution_count": null,
   "id": "e93d2e40",
   "metadata": {},
   "outputs": [],
   "source": [
    "# Topic: Pandas\n",
    "import pandas as pd\n",
    "df = pd.DataFrame({'A':[1,2],'B':[3,4]})\n",
    "print(df)"
   ]
  },
  {
   "cell_type": "code",
   "execution_count": null,
   "id": "36e71873",
   "metadata": {},
   "outputs": [],
   "source": [
    "# Topic: NumPy\n",
    "import numpy as np\n",
    "print(np.linspace(0, 1, 5))"
   ]
  },
  {
   "cell_type": "code",
   "execution_count": null,
   "id": "5eea678b",
   "metadata": {},
   "outputs": [],
   "source": [
    "# Topic: Dictionaries & Sets\n",
    "d = {'name': 'Fahd', 'age': 20}\n",
    "print(d.get('name'))"
   ]
  },
  {
   "cell_type": "code",
   "execution_count": null,
   "id": "18e778b5",
   "metadata": {},
   "outputs": [],
   "source": [
    "# Topic: Decorators\n",
    "def log(func):\n",
    " def wrapper():\n",
    "  print('Call')\n",
    "  func()\n",
    " return wrapper\n",
    "@log\n",
    "def say(): print('Hi')\n",
    "say()"
   ]
  },
  {
   "cell_type": "code",
   "execution_count": null,
   "id": "29f113e6",
   "metadata": {},
   "outputs": [],
   "source": [
    "# Topic: Regex\n",
    "import re\n",
    "text = 'email: test@example.com'\n",
    "print(re.findall(r'\\S+@\\S+', text))"
   ]
  },
  {
   "cell_type": "code",
   "execution_count": null,
   "id": "c2f0890b",
   "metadata": {},
   "outputs": [],
   "source": [
    "# Topic: NumPy\n",
    "import numpy as np\n",
    "print(np.linspace(0, 1, 5))"
   ]
  },
  {
   "cell_type": "code",
   "execution_count": null,
   "id": "69126c90",
   "metadata": {},
   "outputs": [],
   "source": [
    "# Topic: File I/O\n",
    "with open('test.txt', 'w') as f:\n",
    "    f.write('Hello World')"
   ]
  },
  {
   "cell_type": "code",
   "execution_count": null,
   "id": "9016d088",
   "metadata": {},
   "outputs": [],
   "source": [
    "# Topic: Recursion\n",
    "def fact(n): return 1 if n==0 else n*fact(n-1)\n",
    "print(fact(5))"
   ]
  },
  {
   "cell_type": "code",
   "execution_count": null,
   "id": "aec1ac7f",
   "metadata": {},
   "outputs": [],
   "source": [
    "# Topic: Decorators\n",
    "def log(func):\n",
    " def wrapper():\n",
    "  print('Call')\n",
    "  func()\n",
    " return wrapper\n",
    "@log\n",
    "def say(): print('Hi')\n",
    "say()"
   ]
  },
  {
   "cell_type": "code",
   "execution_count": null,
   "id": "98cb04cc",
   "metadata": {},
   "outputs": [],
   "source": [
    "# Topic: Basics\n",
    "x = 10\n",
    "y = 20\n",
    "print(x + y)"
   ]
  },
  {
   "cell_type": "code",
   "execution_count": null,
   "id": "fbfcf22c",
   "metadata": {},
   "outputs": [],
   "source": [
    "# Topic: Mini Projects\n",
    "# Palindrome check\n",
    "def is_pal(s): return s == s[::-1]\n",
    "print(is_pal('madam'))"
   ]
  },
  {
   "cell_type": "code",
   "execution_count": null,
   "id": "c0cff780",
   "metadata": {},
   "outputs": [],
   "source": [
    "# Topic: Basics\n",
    "x = 10\n",
    "y = 20\n",
    "print(x + y)"
   ]
  },
  {
   "cell_type": "code",
   "execution_count": null,
   "id": "9e16278d",
   "metadata": {},
   "outputs": [],
   "source": [
    "# Topic: Basics\n",
    "name = 'Fahd'\n",
    "print(f'Hello, {name}')"
   ]
  },
  {
   "cell_type": "code",
   "execution_count": null,
   "id": "25bc1676",
   "metadata": {},
   "outputs": [],
   "source": [
    "# Topic: NumPy\n",
    "import numpy as np\n",
    "print(np.linspace(0, 1, 5))"
   ]
  },
  {
   "cell_type": "code",
   "execution_count": null,
   "id": "c6ce389c",
   "metadata": {},
   "outputs": [],
   "source": [
    "# Topic: JSON & CSV\n",
    "import csv\n",
    "with open('file.csv', 'w', newline='') as f:\n",
    " csv.writer(f).writerow(['a','b','c'])"
   ]
  },
  {
   "cell_type": "code",
   "execution_count": null,
   "id": "27712abb",
   "metadata": {},
   "outputs": [],
   "source": [
    "# Topic: Pandas\n",
    "import pandas as pd\n",
    "df = pd.read_csv('file.csv')\n",
    "print(df.head())"
   ]
  },
  {
   "cell_type": "code",
   "execution_count": null,
   "id": "c5a8702d",
   "metadata": {},
   "outputs": [],
   "source": [
    "# Topic: Dictionaries & Sets\n",
    "s = set([1, 2, 3, 2])\n",
    "print(s)"
   ]
  },
  {
   "cell_type": "code",
   "execution_count": null,
   "id": "1b4cf408",
   "metadata": {},
   "outputs": [],
   "source": [
    "# Topic: Basic ML\n",
    "from sklearn.linear_model import LinearRegression\n",
    "model = LinearRegression()\n",
    "print(model)"
   ]
  },
  {
   "cell_type": "code",
   "execution_count": null,
   "id": "530d713d",
   "metadata": {},
   "outputs": [],
   "source": [
    "# Topic: Functions\n",
    "def greet(name='User'):\n",
    "    print(f'Hi, {name}')\n",
    "greet()"
   ]
  },
  {
   "cell_type": "code",
   "execution_count": null,
   "id": "bce6f02b",
   "metadata": {},
   "outputs": [],
   "source": [
    "# Topic: Recursion\n",
    "def fact(n): return 1 if n==0 else n*fact(n-1)\n",
    "print(fact(5))"
   ]
  },
  {
   "cell_type": "code",
   "execution_count": null,
   "id": "f31ca4de",
   "metadata": {},
   "outputs": [],
   "source": [
    "# Topic: Algorithms\n",
    "# Bubble sort\n",
    "def bubble(arr):\n",
    " for i in range(len(arr)):\n",
    "  for j in range(0, len(arr)-i-1):\n",
    "   if arr[j]>arr[j+1]: arr[j],arr[j+1]=arr[j+1],arr[j]\n",
    "a=[5,3,8]\n",
    "bubble(a)\n",
    "print(a)"
   ]
  },
  {
   "cell_type": "code",
   "execution_count": null,
   "id": "adf29d9f",
   "metadata": {},
   "outputs": [],
   "source": [
    "# Topic: Data Cleaning\n",
    "import pandas as pd\n",
    "df = pd.DataFrame({'A':[1,None,3]})\n",
    "df = df.fillna(0)\n",
    "print(df)"
   ]
  },
  {
   "cell_type": "code",
   "execution_count": null,
   "id": "aba082c2",
   "metadata": {},
   "outputs": [],
   "source": [
    "# Topic: Pandas\n",
    "import pandas as pd\n",
    "df = pd.DataFrame({'A':[1,2],'B':[3,4]})\n",
    "print(df)"
   ]
  },
  {
   "cell_type": "code",
   "execution_count": null,
   "id": "ef7ff580",
   "metadata": {},
   "outputs": [],
   "source": [
    "# Topic: Loops\n",
    "for i in range(10): print(i*i)"
   ]
  },
  {
   "cell_type": "code",
   "execution_count": null,
   "id": "58d8009c",
   "metadata": {},
   "outputs": [],
   "source": [
    "# Topic: Data Cleaning\n",
    "import pandas as pd\n",
    "df = pd.DataFrame({'A':[1,None,3]})\n",
    "df = df.fillna(0)\n",
    "print(df)"
   ]
  },
  {
   "cell_type": "code",
   "execution_count": null,
   "id": "b0d0e875",
   "metadata": {},
   "outputs": [],
   "source": [
    "# Topic: Web Scraping\n",
    "import requests\n",
    "from bs4 import BeautifulSoup\n",
    "r = requests.get('https://example.com')\n",
    "soup = BeautifulSoup(r.text, 'html.parser')\n",
    "print(soup.title.text)"
   ]
  },
  {
   "cell_type": "code",
   "execution_count": null,
   "id": "09ae3039",
   "metadata": {},
   "outputs": [],
   "source": [
    "# Topic: NumPy\n",
    "import numpy as np\n",
    "a = np.array([1, 2, 3])\n",
    "print(a + 5)"
   ]
  },
  {
   "cell_type": "code",
   "execution_count": null,
   "id": "c2f09e33",
   "metadata": {},
   "outputs": [],
   "source": [
    "# Topic: Web Scraping\n",
    "import requests\n",
    "from bs4 import BeautifulSoup\n",
    "r = requests.get('https://example.com')\n",
    "soup = BeautifulSoup(r.text, 'html.parser')\n",
    "print(soup.title.text)"
   ]
  },
  {
   "cell_type": "code",
   "execution_count": null,
   "id": "5e1615a9",
   "metadata": {},
   "outputs": [],
   "source": [
    "# Topic: Decorators\n",
    "def log(func):\n",
    " def wrapper():\n",
    "  print('Call')\n",
    "  func()\n",
    " return wrapper\n",
    "@log\n",
    "def say(): print('Hi')\n",
    "say()"
   ]
  },
  {
   "cell_type": "code",
   "execution_count": null,
   "id": "f83dea94",
   "metadata": {},
   "outputs": [],
   "source": [
    "# Topic: Mini Projects\n",
    "# Calculator\n",
    "def calc(a,b,op): return eval(f'{a}{op}{b}')\n",
    "print(calc(5,2,'+'))"
   ]
  },
  {
   "cell_type": "code",
   "execution_count": null,
   "id": "a5e087ab",
   "metadata": {},
   "outputs": [],
   "source": [
    "# Topic: Basic ML\n",
    "from sklearn.linear_model import LinearRegression\n",
    "model = LinearRegression()\n",
    "print(model)"
   ]
  },
  {
   "cell_type": "code",
   "execution_count": null,
   "id": "abf531b7",
   "metadata": {},
   "outputs": [],
   "source": [
    "# Topic: Lists & Tuples\n",
    "lst = [1, 2, 3]\n",
    "lst.append(4)\n",
    "print(lst)"
   ]
  },
  {
   "cell_type": "code",
   "execution_count": null,
   "id": "6104a56c",
   "metadata": {},
   "outputs": [],
   "source": [
    "# Topic: Decorators\n",
    "def log(func):\n",
    " def wrapper():\n",
    "  print('Call')\n",
    "  func()\n",
    " return wrapper\n",
    "@log\n",
    "def say(): print('Hi')\n",
    "say()"
   ]
  },
  {
   "cell_type": "code",
   "execution_count": null,
   "id": "e119a73b",
   "metadata": {},
   "outputs": [],
   "source": [
    "# Topic: Pandas\n",
    "import pandas as pd\n",
    "df = pd.DataFrame({'A':[1,2],'B':[3,4]})\n",
    "print(df)"
   ]
  },
  {
   "cell_type": "code",
   "execution_count": null,
   "id": "c623cb6d",
   "metadata": {},
   "outputs": [],
   "source": [
    "# Topic: Loops\n",
    "while True:\n",
    "    print('Break')\n",
    "    break"
   ]
  },
  {
   "cell_type": "code",
   "execution_count": null,
   "id": "5c99b881",
   "metadata": {},
   "outputs": [],
   "source": [
    "# Topic: Pandas\n",
    "import pandas as pd\n",
    "df = pd.DataFrame({'A':[1,2],'B':[3,4]})\n",
    "print(df)"
   ]
  },
  {
   "cell_type": "code",
   "execution_count": null,
   "id": "4f6dbca5",
   "metadata": {},
   "outputs": [],
   "source": [
    "# Topic: Dictionaries & Sets\n",
    "s = set([1, 2, 3, 2])\n",
    "print(s)"
   ]
  },
  {
   "cell_type": "code",
   "execution_count": null,
   "id": "799c18f1",
   "metadata": {},
   "outputs": [],
   "source": [
    "# Topic: NumPy\n",
    "import numpy as np\n",
    "a = np.array([1, 2, 3])\n",
    "print(a + 5)"
   ]
  },
  {
   "cell_type": "code",
   "execution_count": null,
   "id": "037d30a3",
   "metadata": {},
   "outputs": [],
   "source": [
    "# Topic: JSON & CSV\n",
    "import json\n",
    "data = {'a': 1}\n",
    "print(json.dumps(data))"
   ]
  },
  {
   "cell_type": "code",
   "execution_count": null,
   "id": "55a32d78",
   "metadata": {},
   "outputs": [],
   "source": [
    "# Topic: Regex\n",
    "import re\n",
    "text = 'email: test@example.com'\n",
    "print(re.findall(r'\\S+@\\S+', text))"
   ]
  },
  {
   "cell_type": "code",
   "execution_count": null,
   "id": "bb185e3e",
   "metadata": {},
   "outputs": [],
   "source": [
    "# Topic: Functions\n",
    "def greet(name='User'):\n",
    "    print(f'Hi, {name}')\n",
    "greet()"
   ]
  },
  {
   "cell_type": "code",
   "execution_count": null,
   "id": "602683b0",
   "metadata": {},
   "outputs": [],
   "source": [
    "# Topic: Decorators\n",
    "def log(func):\n",
    " def wrapper():\n",
    "  print('Call')\n",
    "  func()\n",
    " return wrapper\n",
    "@log\n",
    "def say(): print('Hi')\n",
    "say()"
   ]
  },
  {
   "cell_type": "code",
   "execution_count": null,
   "id": "436abce1",
   "metadata": {},
   "outputs": [],
   "source": [
    "# Topic: OOP\n",
    "class Student:\n",
    "    def __init__(self, name): self.name = name\n",
    "s = Student('Fahd')\n",
    "print(s.name)"
   ]
  },
  {
   "cell_type": "code",
   "execution_count": null,
   "id": "8d8d9737",
   "metadata": {},
   "outputs": [],
   "source": [
    "# Topic: Basic ML\n",
    "from sklearn.linear_model import LinearRegression\n",
    "model = LinearRegression()\n",
    "print(model)"
   ]
  },
  {
   "cell_type": "code",
   "execution_count": null,
   "id": "f5ea458f",
   "metadata": {},
   "outputs": [],
   "source": [
    "# Topic: Basics\n",
    "x = 10\n",
    "y = 20\n",
    "print(x + y)"
   ]
  },
  {
   "cell_type": "code",
   "execution_count": null,
   "id": "41e5c741",
   "metadata": {},
   "outputs": [],
   "source": [
    "# Topic: JSON & CSV\n",
    "import csv\n",
    "with open('file.csv', 'w', newline='') as f:\n",
    " csv.writer(f).writerow(['a','b','c'])"
   ]
  },
  {
   "cell_type": "code",
   "execution_count": null,
   "id": "2ed0df6c",
   "metadata": {},
   "outputs": [],
   "source": [
    "# Topic: JSON & CSV\n",
    "import json\n",
    "data = {'a': 1}\n",
    "print(json.dumps(data))"
   ]
  },
  {
   "cell_type": "code",
   "execution_count": null,
   "id": "056756e3",
   "metadata": {},
   "outputs": [],
   "source": [
    "# Topic: Dictionaries & Sets\n",
    "d = {'name': 'Fahd', 'age': 20}\n",
    "print(d.get('name'))"
   ]
  },
  {
   "cell_type": "code",
   "execution_count": null,
   "id": "9191cfe1",
   "metadata": {},
   "outputs": [],
   "source": [
    "# Topic: Basic ML\n",
    "from sklearn.linear_model import LinearRegression\n",
    "model = LinearRegression()\n",
    "print(model)"
   ]
  },
  {
   "cell_type": "code",
   "execution_count": null,
   "id": "b875e121",
   "metadata": {},
   "outputs": [],
   "source": [
    "# Topic: Data Cleaning\n",
    "import pandas as pd\n",
    "df = pd.DataFrame({'A':[1,None,3]})\n",
    "df = df.fillna(0)\n",
    "print(df)"
   ]
  },
  {
   "cell_type": "code",
   "execution_count": null,
   "id": "13635b68",
   "metadata": {},
   "outputs": [],
   "source": [
    "# Topic: Functions\n",
    "def greet(name='User'):\n",
    "    print(f'Hi, {name}')\n",
    "greet()"
   ]
  },
  {
   "cell_type": "code",
   "execution_count": null,
   "id": "5c4955d2",
   "metadata": {},
   "outputs": [],
   "source": [
    "# Topic: Dictionaries & Sets\n",
    "s = set([1, 2, 3, 2])\n",
    "print(s)"
   ]
  },
  {
   "cell_type": "code",
   "execution_count": null,
   "id": "397b5a05",
   "metadata": {},
   "outputs": [],
   "source": [
    "# Topic: Web Scraping\n",
    "import requests\n",
    "from bs4 import BeautifulSoup\n",
    "r = requests.get('https://example.com')\n",
    "soup = BeautifulSoup(r.text, 'html.parser')\n",
    "print(soup.title.text)"
   ]
  },
  {
   "cell_type": "code",
   "execution_count": null,
   "id": "30a2aa39",
   "metadata": {},
   "outputs": [],
   "source": [
    "# Topic: Pandas\n",
    "import pandas as pd\n",
    "df = pd.DataFrame({'A':[1,2],'B':[3,4]})\n",
    "print(df)"
   ]
  },
  {
   "cell_type": "code",
   "execution_count": null,
   "id": "23f88d72",
   "metadata": {},
   "outputs": [],
   "source": [
    "# Topic: Recursion\n",
    "def fact(n): return 1 if n==0 else n*fact(n-1)\n",
    "print(fact(5))"
   ]
  },
  {
   "cell_type": "code",
   "execution_count": null,
   "id": "f7148197",
   "metadata": {},
   "outputs": [],
   "source": [
    "# Topic: Regex\n",
    "import re\n",
    "text = 'email: test@example.com'\n",
    "print(re.findall(r'\\S+@\\S+', text))"
   ]
  },
  {
   "cell_type": "code",
   "execution_count": null,
   "id": "a42a1a7c",
   "metadata": {},
   "outputs": [],
   "source": [
    "# Topic: File I/O\n",
    "with open('test.txt', 'r') as f:\n",
    "    print(f.read())"
   ]
  },
  {
   "cell_type": "code",
   "execution_count": null,
   "id": "3707c140",
   "metadata": {},
   "outputs": [],
   "source": [
    "# Topic: Lists & Tuples\n",
    "lst = [1, 2, 3]\n",
    "lst.append(4)\n",
    "print(lst)"
   ]
  },
  {
   "cell_type": "code",
   "execution_count": null,
   "id": "66efdb1d",
   "metadata": {},
   "outputs": [],
   "source": [
    "# Topic: Matplotlib & Seaborn\n",
    "import matplotlib.pyplot as plt\n",
    "plt.plot([1,2],[3,4])\n",
    "plt.show()"
   ]
  },
  {
   "cell_type": "code",
   "execution_count": null,
   "id": "0af558e1",
   "metadata": {},
   "outputs": [],
   "source": [
    "# Topic: Pandas\n",
    "import pandas as pd\n",
    "df = pd.read_csv('file.csv')\n",
    "print(df.head())"
   ]
  },
  {
   "cell_type": "code",
   "execution_count": null,
   "id": "cba2b86e",
   "metadata": {},
   "outputs": [],
   "source": [
    "# Topic: Functions\n",
    "def square(x): return x*x\n",
    "print(square(5))"
   ]
  },
  {
   "cell_type": "code",
   "execution_count": null,
   "id": "ba1a4f03",
   "metadata": {},
   "outputs": [],
   "source": [
    "# Topic: Data Cleaning\n",
    "import pandas as pd\n",
    "df = pd.DataFrame({'A':[1,None,3]})\n",
    "df = df.fillna(0)\n",
    "print(df)"
   ]
  },
  {
   "cell_type": "code",
   "execution_count": null,
   "id": "261ca18d",
   "metadata": {},
   "outputs": [],
   "source": [
    "# Topic: Functions\n",
    "def square(x): return x*x\n",
    "print(square(5))"
   ]
  },
  {
   "cell_type": "code",
   "execution_count": null,
   "id": "a1383e49",
   "metadata": {},
   "outputs": [],
   "source": [
    "# Topic: Pandas\n",
    "import pandas as pd\n",
    "df = pd.read_csv('file.csv')\n",
    "print(df.head())"
   ]
  },
  {
   "cell_type": "code",
   "execution_count": null,
   "id": "0831a16e",
   "metadata": {},
   "outputs": [],
   "source": [
    "# Topic: Data Cleaning\n",
    "import pandas as pd\n",
    "df = pd.DataFrame({'A':[1,None,3]})\n",
    "df = df.fillna(0)\n",
    "print(df)"
   ]
  },
  {
   "cell_type": "code",
   "execution_count": null,
   "id": "ee578075",
   "metadata": {},
   "outputs": [],
   "source": [
    "# Topic: Basic ML\n",
    "from sklearn.linear_model import LinearRegression\n",
    "model = LinearRegression()\n",
    "print(model)"
   ]
  },
  {
   "cell_type": "code",
   "execution_count": null,
   "id": "51cdbf28",
   "metadata": {},
   "outputs": [],
   "source": [
    "# Topic: Pandas\n",
    "import pandas as pd\n",
    "df = pd.DataFrame({'A':[1,2],'B':[3,4]})\n",
    "print(df)"
   ]
  },
  {
   "cell_type": "code",
   "execution_count": null,
   "id": "d6bb4f1a",
   "metadata": {},
   "outputs": [],
   "source": [
    "# Topic: Loops\n",
    "for i in range(10): print(i*i)"
   ]
  },
  {
   "cell_type": "code",
   "execution_count": null,
   "id": "1938d17c",
   "metadata": {},
   "outputs": [],
   "source": [
    "# Topic: OOP\n",
    "class Student:\n",
    "    def __init__(self, name): self.name = name\n",
    "s = Student('Fahd')\n",
    "print(s.name)"
   ]
  },
  {
   "cell_type": "code",
   "execution_count": null,
   "id": "456e0b5a",
   "metadata": {},
   "outputs": [],
   "source": [
    "# Topic: Lists & Tuples\n",
    "lst = [1, 2, 3]\n",
    "lst.append(4)\n",
    "print(lst)"
   ]
  },
  {
   "cell_type": "code",
   "execution_count": null,
   "id": "969cdf61",
   "metadata": {},
   "outputs": [],
   "source": [
    "# Topic: OOP\n",
    "class Student:\n",
    "    def __init__(self, name): self.name = name\n",
    "s = Student('Fahd')\n",
    "print(s.name)"
   ]
  },
  {
   "cell_type": "code",
   "execution_count": null,
   "id": "f4529a2c",
   "metadata": {},
   "outputs": [],
   "source": [
    "# Topic: Dictionaries & Sets\n",
    "s = set([1, 2, 3, 2])\n",
    "print(s)"
   ]
  },
  {
   "cell_type": "code",
   "execution_count": null,
   "id": "94bd26dd",
   "metadata": {},
   "outputs": [],
   "source": [
    "# Topic: Basic ML\n",
    "from sklearn.linear_model import LinearRegression\n",
    "model = LinearRegression()\n",
    "print(model)"
   ]
  },
  {
   "cell_type": "code",
   "execution_count": null,
   "id": "5918c4c9",
   "metadata": {},
   "outputs": [],
   "source": [
    "# Topic: Basic ML\n",
    "from sklearn.linear_model import LinearRegression\n",
    "model = LinearRegression()\n",
    "print(model)"
   ]
  },
  {
   "cell_type": "code",
   "execution_count": null,
   "id": "b8ef5e87",
   "metadata": {},
   "outputs": [],
   "source": [
    "# Topic: NumPy\n",
    "import numpy as np\n",
    "a = np.array([1, 2, 3])\n",
    "print(a + 5)"
   ]
  },
  {
   "cell_type": "code",
   "execution_count": null,
   "id": "75fd57f1",
   "metadata": {},
   "outputs": [],
   "source": [
    "# Topic: Dictionaries & Sets\n",
    "d = {'name': 'Fahd', 'age': 20}\n",
    "print(d.get('name'))"
   ]
  },
  {
   "cell_type": "code",
   "execution_count": null,
   "id": "76050b45",
   "metadata": {},
   "outputs": [],
   "source": [
    "# Topic: Functions\n",
    "def greet(name='User'):\n",
    "    print(f'Hi, {name}')\n",
    "greet()"
   ]
  },
  {
   "cell_type": "code",
   "execution_count": null,
   "id": "f57a4981",
   "metadata": {},
   "outputs": [],
   "source": [
    "# Topic: Recursion\n",
    "def fact(n): return 1 if n==0 else n*fact(n-1)\n",
    "print(fact(5))"
   ]
  },
  {
   "cell_type": "code",
   "execution_count": null,
   "id": "082c9943",
   "metadata": {},
   "outputs": [],
   "source": [
    "# Topic: Pandas\n",
    "import pandas as pd\n",
    "df = pd.DataFrame({'A':[1,2],'B':[3,4]})\n",
    "print(df)"
   ]
  },
  {
   "cell_type": "code",
   "execution_count": null,
   "id": "92986967",
   "metadata": {},
   "outputs": [],
   "source": [
    "# Topic: Basic ML\n",
    "from sklearn.linear_model import LinearRegression\n",
    "model = LinearRegression()\n",
    "print(model)"
   ]
  },
  {
   "cell_type": "code",
   "execution_count": null,
   "id": "1fe08dec",
   "metadata": {},
   "outputs": [],
   "source": [
    "# Topic: CLI Tools\n",
    "import sys\n",
    "print(f'Arguments: {sys.argv}')"
   ]
  },
  {
   "cell_type": "code",
   "execution_count": null,
   "id": "bf7eb6bd",
   "metadata": {},
   "outputs": [],
   "source": [
    "# Topic: Matplotlib & Seaborn\n",
    "import seaborn as sns\n",
    "import pandas as pd\n",
    "sns.set()\n",
    "sns.histplot(pd.Series([1,2,2,3]));"
   ]
  },
  {
   "cell_type": "code",
   "execution_count": null,
   "id": "c49791b7",
   "metadata": {},
   "outputs": [],
   "source": [
    "# Topic: File I/O\n",
    "with open('test.txt', 'w') as f:\n",
    "    f.write('Hello World')"
   ]
  },
  {
   "cell_type": "code",
   "execution_count": null,
   "id": "cbe7dd0d",
   "metadata": {},
   "outputs": [],
   "source": [
    "# Topic: Functions\n",
    "def greet(name='User'):\n",
    "    print(f'Hi, {name}')\n",
    "greet()"
   ]
  },
  {
   "cell_type": "code",
   "execution_count": null,
   "id": "3d2e6a81",
   "metadata": {},
   "outputs": [],
   "source": [
    "# Topic: Basics\n",
    "x = 10\n",
    "y = 20\n",
    "print(x + y)"
   ]
  },
  {
   "cell_type": "code",
   "execution_count": null,
   "id": "4b5ce85f",
   "metadata": {},
   "outputs": [],
   "source": [
    "# Topic: Regex\n",
    "import re\n",
    "text = 'email: test@example.com'\n",
    "print(re.findall(r'\\S+@\\S+', text))"
   ]
  },
  {
   "cell_type": "code",
   "execution_count": null,
   "id": "24ed2bb6",
   "metadata": {},
   "outputs": [],
   "source": [
    "# Topic: CLI Tools\n",
    "import sys\n",
    "print(f'Arguments: {sys.argv}')"
   ]
  },
  {
   "cell_type": "code",
   "execution_count": null,
   "id": "b41e124e",
   "metadata": {},
   "outputs": [],
   "source": [
    "# Topic: OOP\n",
    "class Student:\n",
    "    def __init__(self, name): self.name = name\n",
    "s = Student('Fahd')\n",
    "print(s.name)"
   ]
  },
  {
   "cell_type": "code",
   "execution_count": null,
   "id": "b1451af5",
   "metadata": {},
   "outputs": [],
   "source": [
    "# Topic: Algorithms\n",
    "# Bubble sort\n",
    "def bubble(arr):\n",
    " for i in range(len(arr)):\n",
    "  for j in range(0, len(arr)-i-1):\n",
    "   if arr[j]>arr[j+1]: arr[j],arr[j+1]=arr[j+1],arr[j]\n",
    "a=[5,3,8]\n",
    "bubble(a)\n",
    "print(a)"
   ]
  },
  {
   "cell_type": "code",
   "execution_count": null,
   "id": "a48a9471",
   "metadata": {},
   "outputs": [],
   "source": [
    "# Topic: Algorithms\n",
    "# Bubble sort\n",
    "def bubble(arr):\n",
    " for i in range(len(arr)):\n",
    "  for j in range(0, len(arr)-i-1):\n",
    "   if arr[j]>arr[j+1]: arr[j],arr[j+1]=arr[j+1],arr[j]\n",
    "a=[5,3,8]\n",
    "bubble(a)\n",
    "print(a)"
   ]
  },
  {
   "cell_type": "code",
   "execution_count": null,
   "id": "03bec902",
   "metadata": {},
   "outputs": [],
   "source": [
    "# Topic: Recursion\n",
    "def fact(n): return 1 if n==0 else n*fact(n-1)\n",
    "print(fact(5))"
   ]
  },
  {
   "cell_type": "code",
   "execution_count": null,
   "id": "b3fd77eb",
   "metadata": {},
   "outputs": [],
   "source": [
    "# Topic: Functions\n",
    "def square(x): return x*x\n",
    "print(square(5))"
   ]
  },
  {
   "cell_type": "code",
   "execution_count": null,
   "id": "a15dd5c1",
   "metadata": {},
   "outputs": [],
   "source": [
    "# Topic: Loops\n",
    "while True:\n",
    "    print('Break')\n",
    "    break"
   ]
  },
  {
   "cell_type": "code",
   "execution_count": null,
   "id": "f8f34652",
   "metadata": {},
   "outputs": [],
   "source": [
    "# Topic: Lists & Tuples\n",
    "lst = [1, 2, 3]\n",
    "lst.append(4)\n",
    "print(lst)"
   ]
  },
  {
   "cell_type": "code",
   "execution_count": null,
   "id": "3fff741e",
   "metadata": {},
   "outputs": [],
   "source": [
    "# Topic: CLI Tools\n",
    "import sys\n",
    "print(f'Arguments: {sys.argv}')"
   ]
  },
  {
   "cell_type": "code",
   "execution_count": null,
   "id": "0da03bbd",
   "metadata": {},
   "outputs": [],
   "source": [
    "# Topic: Decorators\n",
    "def log(func):\n",
    " def wrapper():\n",
    "  print('Call')\n",
    "  func()\n",
    " return wrapper\n",
    "@log\n",
    "def say(): print('Hi')\n",
    "say()"
   ]
  },
  {
   "cell_type": "code",
   "execution_count": null,
   "id": "62cf368f",
   "metadata": {},
   "outputs": [],
   "source": [
    "# Topic: Data Cleaning\n",
    "import pandas as pd\n",
    "df = pd.DataFrame({'A':[1,None,3]})\n",
    "df = df.fillna(0)\n",
    "print(df)"
   ]
  },
  {
   "cell_type": "code",
   "execution_count": null,
   "id": "807fdae4",
   "metadata": {},
   "outputs": [],
   "source": [
    "# Topic: Dictionaries & Sets\n",
    "d = {'name': 'Fahd', 'age': 20}\n",
    "print(d.get('name'))"
   ]
  },
  {
   "cell_type": "code",
   "execution_count": null,
   "id": "d45920f5",
   "metadata": {},
   "outputs": [],
   "source": [
    "# Topic: Data Cleaning\n",
    "import pandas as pd\n",
    "df = pd.DataFrame({'A':[1,None,3]})\n",
    "df = df.fillna(0)\n",
    "print(df)"
   ]
  },
  {
   "cell_type": "code",
   "execution_count": null,
   "id": "f31fe98d",
   "metadata": {},
   "outputs": [],
   "source": [
    "# Topic: Regex\n",
    "import re\n",
    "text = 'email: test@example.com'\n",
    "print(re.findall(r'\\S+@\\S+', text))"
   ]
  },
  {
   "cell_type": "code",
   "execution_count": null,
   "id": "9fc4b7f9",
   "metadata": {},
   "outputs": [],
   "source": [
    "# Topic: Dictionaries & Sets\n",
    "s = set([1, 2, 3, 2])\n",
    "print(s)"
   ]
  },
  {
   "cell_type": "code",
   "execution_count": null,
   "id": "978667c6",
   "metadata": {},
   "outputs": [],
   "source": [
    "# Topic: Lists & Tuples\n",
    "t = (1, 2, 3)\n",
    "print(t[0])"
   ]
  },
  {
   "cell_type": "code",
   "execution_count": null,
   "id": "db405219",
   "metadata": {},
   "outputs": [],
   "source": [
    "# Topic: Lists & Tuples\n",
    "t = (1, 2, 3)\n",
    "print(t[0])"
   ]
  },
  {
   "cell_type": "code",
   "execution_count": null,
   "id": "39a34ecc",
   "metadata": {},
   "outputs": [],
   "source": [
    "# Topic: Regex\n",
    "import re\n",
    "text = 'email: test@example.com'\n",
    "print(re.findall(r'\\S+@\\S+', text))"
   ]
  },
  {
   "cell_type": "code",
   "execution_count": null,
   "id": "0a51922a",
   "metadata": {},
   "outputs": [],
   "source": [
    "# Topic: OOP\n",
    "class Student:\n",
    "    def __init__(self, name): self.name = name\n",
    "s = Student('Fahd')\n",
    "print(s.name)"
   ]
  },
  {
   "cell_type": "code",
   "execution_count": null,
   "id": "4c914df8",
   "metadata": {},
   "outputs": [],
   "source": [
    "# Topic: Dictionaries & Sets\n",
    "s = set([1, 2, 3, 2])\n",
    "print(s)"
   ]
  },
  {
   "cell_type": "code",
   "execution_count": null,
   "id": "619a8359",
   "metadata": {},
   "outputs": [],
   "source": [
    "# Topic: File I/O\n",
    "with open('test.txt', 'r') as f:\n",
    "    print(f.read())"
   ]
  },
  {
   "cell_type": "code",
   "execution_count": null,
   "id": "75b4dc29",
   "metadata": {},
   "outputs": [],
   "source": [
    "# Topic: Loops\n",
    "for i in range(10): print(i*i)"
   ]
  },
  {
   "cell_type": "code",
   "execution_count": null,
   "id": "a4193038",
   "metadata": {},
   "outputs": [],
   "source": [
    "# Topic: Loops\n",
    "while True:\n",
    "    print('Break')\n",
    "    break"
   ]
  },
  {
   "cell_type": "code",
   "execution_count": null,
   "id": "a0adee1e",
   "metadata": {},
   "outputs": [],
   "source": [
    "# Topic: Lists & Tuples\n",
    "lst = [1, 2, 3]\n",
    "lst.append(4)\n",
    "print(lst)"
   ]
  },
  {
   "cell_type": "code",
   "execution_count": null,
   "id": "98b68727",
   "metadata": {},
   "outputs": [],
   "source": [
    "# Topic: Lists & Tuples\n",
    "t = (1, 2, 3)\n",
    "print(t[0])"
   ]
  },
  {
   "cell_type": "code",
   "execution_count": null,
   "id": "206c0a40",
   "metadata": {},
   "outputs": [],
   "source": [
    "# Topic: CLI Tools\n",
    "import sys\n",
    "print(f'Arguments: {sys.argv}')"
   ]
  },
  {
   "cell_type": "code",
   "execution_count": null,
   "id": "e3549f0a",
   "metadata": {},
   "outputs": [],
   "source": [
    "# Topic: Loops\n",
    "while True:\n",
    "    print('Break')\n",
    "    break"
   ]
  },
  {
   "cell_type": "code",
   "execution_count": null,
   "id": "112f129a",
   "metadata": {},
   "outputs": [],
   "source": [
    "# Topic: File I/O\n",
    "with open('test.txt', 'r') as f:\n",
    "    print(f.read())"
   ]
  },
  {
   "cell_type": "code",
   "execution_count": null,
   "id": "236a996a",
   "metadata": {},
   "outputs": [],
   "source": [
    "# Topic: OOP\n",
    "class Student:\n",
    "    def __init__(self, name): self.name = name\n",
    "s = Student('Fahd')\n",
    "print(s.name)"
   ]
  },
  {
   "cell_type": "code",
   "execution_count": null,
   "id": "c61eac49",
   "metadata": {},
   "outputs": [],
   "source": [
    "# Topic: JSON & CSV\n",
    "import json\n",
    "data = {'a': 1}\n",
    "print(json.dumps(data))"
   ]
  },
  {
   "cell_type": "code",
   "execution_count": null,
   "id": "05eee80e",
   "metadata": {},
   "outputs": [],
   "source": [
    "# Topic: Pandas\n",
    "import pandas as pd\n",
    "df = pd.DataFrame({'A':[1,2],'B':[3,4]})\n",
    "print(df)"
   ]
  },
  {
   "cell_type": "code",
   "execution_count": null,
   "id": "e087ef63",
   "metadata": {},
   "outputs": [],
   "source": [
    "# Topic: OOP\n",
    "class Student:\n",
    "    def __init__(self, name): self.name = name\n",
    "s = Student('Fahd')\n",
    "print(s.name)"
   ]
  },
  {
   "cell_type": "code",
   "execution_count": null,
   "id": "11888ea2",
   "metadata": {},
   "outputs": [],
   "source": [
    "# Topic: File I/O\n",
    "with open('test.txt', 'w') as f:\n",
    "    f.write('Hello World')"
   ]
  },
  {
   "cell_type": "code",
   "execution_count": null,
   "id": "56eb7bf6",
   "metadata": {},
   "outputs": [],
   "source": [
    "# Topic: Algorithms\n",
    "# Bubble sort\n",
    "def bubble(arr):\n",
    " for i in range(len(arr)):\n",
    "  for j in range(0, len(arr)-i-1):\n",
    "   if arr[j]>arr[j+1]: arr[j],arr[j+1]=arr[j+1],arr[j]\n",
    "a=[5,3,8]\n",
    "bubble(a)\n",
    "print(a)"
   ]
  },
  {
   "cell_type": "code",
   "execution_count": null,
   "id": "5c679366",
   "metadata": {},
   "outputs": [],
   "source": [
    "# Topic: Basic ML\n",
    "from sklearn.linear_model import LinearRegression\n",
    "model = LinearRegression()\n",
    "print(model)"
   ]
  },
  {
   "cell_type": "code",
   "execution_count": null,
   "id": "d6e17999",
   "metadata": {},
   "outputs": [],
   "source": [
    "# Topic: File I/O\n",
    "with open('test.txt', 'w') as f:\n",
    "    f.write('Hello World')"
   ]
  },
  {
   "cell_type": "code",
   "execution_count": null,
   "id": "9ca62487",
   "metadata": {},
   "outputs": [],
   "source": [
    "# Topic: Recursion\n",
    "def fact(n): return 1 if n==0 else n*fact(n-1)\n",
    "print(fact(5))"
   ]
  },
  {
   "cell_type": "code",
   "execution_count": null,
   "id": "677727f2",
   "metadata": {},
   "outputs": [],
   "source": [
    "# Topic: CLI Tools\n",
    "import sys\n",
    "print(f'Arguments: {sys.argv}')"
   ]
  },
  {
   "cell_type": "code",
   "execution_count": null,
   "id": "443df4cb",
   "metadata": {},
   "outputs": [],
   "source": [
    "# Topic: JSON & CSV\n",
    "import csv\n",
    "with open('file.csv', 'w', newline='') as f:\n",
    " csv.writer(f).writerow(['a','b','c'])"
   ]
  },
  {
   "cell_type": "code",
   "execution_count": null,
   "id": "b554b09b",
   "metadata": {},
   "outputs": [],
   "source": [
    "# Topic: Pandas\n",
    "import pandas as pd\n",
    "df = pd.DataFrame({'A':[1,2],'B':[3,4]})\n",
    "print(df)"
   ]
  },
  {
   "cell_type": "code",
   "execution_count": null,
   "id": "b0bde798",
   "metadata": {},
   "outputs": [],
   "source": [
    "# Topic: JSON & CSV\n",
    "import json\n",
    "data = {'a': 1}\n",
    "print(json.dumps(data))"
   ]
  },
  {
   "cell_type": "code",
   "execution_count": null,
   "id": "d5f2c717",
   "metadata": {},
   "outputs": [],
   "source": [
    "# Topic: Regex\n",
    "import re\n",
    "text = 'email: test@example.com'\n",
    "print(re.findall(r'\\S+@\\S+', text))"
   ]
  },
  {
   "cell_type": "code",
   "execution_count": null,
   "id": "93837064",
   "metadata": {},
   "outputs": [],
   "source": [
    "# Topic: Basic ML\n",
    "from sklearn.linear_model import LinearRegression\n",
    "model = LinearRegression()\n",
    "print(model)"
   ]
  },
  {
   "cell_type": "code",
   "execution_count": null,
   "id": "19b33f5d",
   "metadata": {},
   "outputs": [],
   "source": [
    "# Topic: Functions\n",
    "def greet(name='User'):\n",
    "    print(f'Hi, {name}')\n",
    "greet()"
   ]
  },
  {
   "cell_type": "code",
   "execution_count": null,
   "id": "12413056",
   "metadata": {},
   "outputs": [],
   "source": [
    "# Topic: JSON & CSV\n",
    "import json\n",
    "data = {'a': 1}\n",
    "print(json.dumps(data))"
   ]
  },
  {
   "cell_type": "code",
   "execution_count": null,
   "id": "e9ec9039",
   "metadata": {},
   "outputs": [],
   "source": [
    "# Topic: Data Cleaning\n",
    "import pandas as pd\n",
    "df = pd.DataFrame({'A':[1,None,3]})\n",
    "df = df.fillna(0)\n",
    "print(df)"
   ]
  },
  {
   "cell_type": "code",
   "execution_count": null,
   "id": "b00cd737",
   "metadata": {},
   "outputs": [],
   "source": [
    "# Topic: Pandas\n",
    "import pandas as pd\n",
    "df = pd.DataFrame({'A':[1,2],'B':[3,4]})\n",
    "print(df)"
   ]
  },
  {
   "cell_type": "code",
   "execution_count": null,
   "id": "1edf18cc",
   "metadata": {},
   "outputs": [],
   "source": [
    "# Topic: CLI Tools\n",
    "import sys\n",
    "print(f'Arguments: {sys.argv}')"
   ]
  },
  {
   "cell_type": "code",
   "execution_count": null,
   "id": "b3e640c0",
   "metadata": {},
   "outputs": [],
   "source": [
    "# Topic: Basic ML\n",
    "from sklearn.linear_model import LinearRegression\n",
    "model = LinearRegression()\n",
    "print(model)"
   ]
  },
  {
   "cell_type": "code",
   "execution_count": null,
   "id": "3ffd4ef2",
   "metadata": {},
   "outputs": [],
   "source": [
    "# Topic: File I/O\n",
    "with open('test.txt', 'r') as f:\n",
    "    print(f.read())"
   ]
  },
  {
   "cell_type": "code",
   "execution_count": null,
   "id": "f55c11cc",
   "metadata": {},
   "outputs": [],
   "source": [
    "# Topic: Matplotlib & Seaborn\n",
    "import matplotlib.pyplot as plt\n",
    "plt.plot([1,2],[3,4])\n",
    "plt.show()"
   ]
  },
  {
   "cell_type": "code",
   "execution_count": null,
   "id": "f6768688",
   "metadata": {},
   "outputs": [],
   "source": [
    "# Topic: NumPy\n",
    "import numpy as np\n",
    "print(np.linspace(0, 1, 5))"
   ]
  },
  {
   "cell_type": "code",
   "execution_count": null,
   "id": "46667b6e",
   "metadata": {},
   "outputs": [],
   "source": [
    "# Topic: Mini Projects\n",
    "# Palindrome check\n",
    "def is_pal(s): return s == s[::-1]\n",
    "print(is_pal('madam'))"
   ]
  },
  {
   "cell_type": "code",
   "execution_count": null,
   "id": "9795226f",
   "metadata": {},
   "outputs": [],
   "source": [
    "# Topic: Basic ML\n",
    "from sklearn.linear_model import LinearRegression\n",
    "model = LinearRegression()\n",
    "print(model)"
   ]
  },
  {
   "cell_type": "code",
   "execution_count": null,
   "id": "31da4cc0",
   "metadata": {},
   "outputs": [],
   "source": [
    "# Topic: Matplotlib & Seaborn\n",
    "import matplotlib.pyplot as plt\n",
    "plt.plot([1,2],[3,4])\n",
    "plt.show()"
   ]
  },
  {
   "cell_type": "code",
   "execution_count": null,
   "id": "44b8e725",
   "metadata": {},
   "outputs": [],
   "source": [
    "# Topic: Algorithms\n",
    "# Bubble sort\n",
    "def bubble(arr):\n",
    " for i in range(len(arr)):\n",
    "  for j in range(0, len(arr)-i-1):\n",
    "   if arr[j]>arr[j+1]: arr[j],arr[j+1]=arr[j+1],arr[j]\n",
    "a=[5,3,8]\n",
    "bubble(a)\n",
    "print(a)"
   ]
  },
  {
   "cell_type": "code",
   "execution_count": null,
   "id": "7ca198f3",
   "metadata": {},
   "outputs": [],
   "source": [
    "# Topic: Algorithms\n",
    "# Bubble sort\n",
    "def bubble(arr):\n",
    " for i in range(len(arr)):\n",
    "  for j in range(0, len(arr)-i-1):\n",
    "   if arr[j]>arr[j+1]: arr[j],arr[j+1]=arr[j+1],arr[j]\n",
    "a=[5,3,8]\n",
    "bubble(a)\n",
    "print(a)"
   ]
  },
  {
   "cell_type": "code",
   "execution_count": null,
   "id": "adcd37b3",
   "metadata": {},
   "outputs": [],
   "source": [
    "# Topic: Functions\n",
    "def greet(name='User'):\n",
    "    print(f'Hi, {name}')\n",
    "greet()"
   ]
  },
  {
   "cell_type": "code",
   "execution_count": null,
   "id": "ae8486e9",
   "metadata": {},
   "outputs": [],
   "source": [
    "# Topic: CLI Tools\n",
    "import sys\n",
    "print(f'Arguments: {sys.argv}')"
   ]
  },
  {
   "cell_type": "code",
   "execution_count": null,
   "id": "b957f9d7",
   "metadata": {},
   "outputs": [],
   "source": [
    "# Topic: OOP\n",
    "class Student:\n",
    "    def __init__(self, name): self.name = name\n",
    "s = Student('Fahd')\n",
    "print(s.name)"
   ]
  },
  {
   "cell_type": "code",
   "execution_count": null,
   "id": "5f8e8b34",
   "metadata": {},
   "outputs": [],
   "source": [
    "# Topic: Pandas\n",
    "import pandas as pd\n",
    "df = pd.DataFrame({'A':[1,2],'B':[3,4]})\n",
    "print(df)"
   ]
  },
  {
   "cell_type": "code",
   "execution_count": null,
   "id": "e416f72c",
   "metadata": {},
   "outputs": [],
   "source": [
    "# Topic: NumPy\n",
    "import numpy as np\n",
    "print(np.linspace(0, 1, 5))"
   ]
  },
  {
   "cell_type": "code",
   "execution_count": null,
   "id": "1bbffaa6",
   "metadata": {},
   "outputs": [],
   "source": [
    "# Topic: JSON & CSV\n",
    "import csv\n",
    "with open('file.csv', 'w', newline='') as f:\n",
    " csv.writer(f).writerow(['a','b','c'])"
   ]
  },
  {
   "cell_type": "code",
   "execution_count": null,
   "id": "ee7c96c9",
   "metadata": {},
   "outputs": [],
   "source": [
    "# Topic: Lists & Tuples\n",
    "t = (1, 2, 3)\n",
    "print(t[0])"
   ]
  },
  {
   "cell_type": "code",
   "execution_count": null,
   "id": "708f30da",
   "metadata": {},
   "outputs": [],
   "source": [
    "# Topic: Decorators\n",
    "def log(func):\n",
    " def wrapper():\n",
    "  print('Call')\n",
    "  func()\n",
    " return wrapper\n",
    "@log\n",
    "def say(): print('Hi')\n",
    "say()"
   ]
  },
  {
   "cell_type": "code",
   "execution_count": null,
   "id": "f3d9f978",
   "metadata": {},
   "outputs": [],
   "source": [
    "# Topic: Basics\n",
    "name = 'Fahd'\n",
    "print(f'Hello, {name}')"
   ]
  },
  {
   "cell_type": "code",
   "execution_count": null,
   "id": "728572d6",
   "metadata": {},
   "outputs": [],
   "source": [
    "# Topic: Lists & Tuples\n",
    "t = (1, 2, 3)\n",
    "print(t[0])"
   ]
  },
  {
   "cell_type": "code",
   "execution_count": null,
   "id": "39048b4e",
   "metadata": {},
   "outputs": [],
   "source": [
    "# Topic: Basic ML\n",
    "from sklearn.linear_model import LinearRegression\n",
    "model = LinearRegression()\n",
    "print(model)"
   ]
  },
  {
   "cell_type": "code",
   "execution_count": null,
   "id": "8823a3e0",
   "metadata": {},
   "outputs": [],
   "source": [
    "# Topic: NumPy\n",
    "import numpy as np\n",
    "a = np.array([1, 2, 3])\n",
    "print(a + 5)"
   ]
  },
  {
   "cell_type": "code",
   "execution_count": null,
   "id": "f84cc624",
   "metadata": {},
   "outputs": [],
   "source": [
    "# Topic: Loops\n",
    "while True:\n",
    "    print('Break')\n",
    "    break"
   ]
  },
  {
   "cell_type": "code",
   "execution_count": null,
   "id": "69e0a6b4",
   "metadata": {},
   "outputs": [],
   "source": [
    "# Topic: Recursion\n",
    "def fact(n): return 1 if n==0 else n*fact(n-1)\n",
    "print(fact(5))"
   ]
  },
  {
   "cell_type": "code",
   "execution_count": null,
   "id": "b95142c7",
   "metadata": {},
   "outputs": [],
   "source": [
    "# Topic: Basic ML\n",
    "from sklearn.linear_model import LinearRegression\n",
    "model = LinearRegression()\n",
    "print(model)"
   ]
  },
  {
   "cell_type": "code",
   "execution_count": null,
   "id": "2830c900",
   "metadata": {},
   "outputs": [],
   "source": [
    "# Topic: Functions\n",
    "def greet(name='User'):\n",
    "    print(f'Hi, {name}')\n",
    "greet()"
   ]
  },
  {
   "cell_type": "code",
   "execution_count": null,
   "id": "a54785b6",
   "metadata": {},
   "outputs": [],
   "source": [
    "# Topic: Decorators\n",
    "def log(func):\n",
    " def wrapper():\n",
    "  print('Call')\n",
    "  func()\n",
    " return wrapper\n",
    "@log\n",
    "def say(): print('Hi')\n",
    "say()"
   ]
  },
  {
   "cell_type": "code",
   "execution_count": null,
   "id": "96a059c4",
   "metadata": {},
   "outputs": [],
   "source": [
    "# Topic: Data Cleaning\n",
    "import pandas as pd\n",
    "df = pd.DataFrame({'A':[1,None,3]})\n",
    "df = df.fillna(0)\n",
    "print(df)"
   ]
  },
  {
   "cell_type": "code",
   "execution_count": null,
   "id": "88518519",
   "metadata": {},
   "outputs": [],
   "source": [
    "# Topic: Web Scraping\n",
    "import requests\n",
    "from bs4 import BeautifulSoup\n",
    "r = requests.get('https://example.com')\n",
    "soup = BeautifulSoup(r.text, 'html.parser')\n",
    "print(soup.title.text)"
   ]
  },
  {
   "cell_type": "code",
   "execution_count": null,
   "id": "6ab0e59a",
   "metadata": {},
   "outputs": [],
   "source": [
    "# Topic: Basics\n",
    "x = 10\n",
    "y = 20\n",
    "print(x + y)"
   ]
  },
  {
   "cell_type": "code",
   "execution_count": null,
   "id": "9026d2ba",
   "metadata": {},
   "outputs": [],
   "source": [
    "# Topic: JSON & CSV\n",
    "import json\n",
    "data = {'a': 1}\n",
    "print(json.dumps(data))"
   ]
  },
  {
   "cell_type": "code",
   "execution_count": null,
   "id": "fe4d1469",
   "metadata": {},
   "outputs": [],
   "source": [
    "# Topic: Regex\n",
    "import re\n",
    "text = 'email: test@example.com'\n",
    "print(re.findall(r'\\S+@\\S+', text))"
   ]
  },
  {
   "cell_type": "code",
   "execution_count": null,
   "id": "526795d0",
   "metadata": {},
   "outputs": [],
   "source": [
    "# Topic: Basics\n",
    "name = 'Fahd'\n",
    "print(f'Hello, {name}')"
   ]
  },
  {
   "cell_type": "code",
   "execution_count": null,
   "id": "08c7aeeb",
   "metadata": {},
   "outputs": [],
   "source": [
    "# Topic: Web Scraping\n",
    "import requests\n",
    "from bs4 import BeautifulSoup\n",
    "r = requests.get('https://example.com')\n",
    "soup = BeautifulSoup(r.text, 'html.parser')\n",
    "print(soup.title.text)"
   ]
  },
  {
   "cell_type": "code",
   "execution_count": null,
   "id": "9adedcff",
   "metadata": {},
   "outputs": [],
   "source": [
    "# Topic: Algorithms\n",
    "# Bubble sort\n",
    "def bubble(arr):\n",
    " for i in range(len(arr)):\n",
    "  for j in range(0, len(arr)-i-1):\n",
    "   if arr[j]>arr[j+1]: arr[j],arr[j+1]=arr[j+1],arr[j]\n",
    "a=[5,3,8]\n",
    "bubble(a)\n",
    "print(a)"
   ]
  },
  {
   "cell_type": "code",
   "execution_count": null,
   "id": "2dcba0ec",
   "metadata": {},
   "outputs": [],
   "source": [
    "# Topic: File I/O\n",
    "with open('test.txt', 'w') as f:\n",
    "    f.write('Hello World')"
   ]
  },
  {
   "cell_type": "code",
   "execution_count": null,
   "id": "a6688bde",
   "metadata": {},
   "outputs": [],
   "source": [
    "# Topic: Basic ML\n",
    "from sklearn.linear_model import LinearRegression\n",
    "model = LinearRegression()\n",
    "print(model)"
   ]
  },
  {
   "cell_type": "code",
   "execution_count": null,
   "id": "dd66c41d",
   "metadata": {},
   "outputs": [],
   "source": [
    "# Topic: Loops\n",
    "for i in range(10): print(i*i)"
   ]
  },
  {
   "cell_type": "code",
   "execution_count": null,
   "id": "5ee36a59",
   "metadata": {},
   "outputs": [],
   "source": [
    "# Topic: Basics\n",
    "name = 'Fahd'\n",
    "print(f'Hello, {name}')"
   ]
  },
  {
   "cell_type": "code",
   "execution_count": null,
   "id": "e71b0f7e",
   "metadata": {},
   "outputs": [],
   "source": [
    "# Topic: Web Scraping\n",
    "import requests\n",
    "from bs4 import BeautifulSoup\n",
    "r = requests.get('https://example.com')\n",
    "soup = BeautifulSoup(r.text, 'html.parser')\n",
    "print(soup.title.text)"
   ]
  },
  {
   "cell_type": "code",
   "execution_count": null,
   "id": "d3f231d7",
   "metadata": {},
   "outputs": [],
   "source": [
    "# Topic: Mini Projects\n",
    "# Calculator\n",
    "def calc(a,b,op): return eval(f'{a}{op}{b}')\n",
    "print(calc(5,2,'+'))"
   ]
  },
  {
   "cell_type": "code",
   "execution_count": null,
   "id": "d0d369bc",
   "metadata": {},
   "outputs": [],
   "source": [
    "# Topic: Pandas\n",
    "import pandas as pd\n",
    "df = pd.read_csv('file.csv')\n",
    "print(df.head())"
   ]
  },
  {
   "cell_type": "code",
   "execution_count": null,
   "id": "6d3dcb9b",
   "metadata": {},
   "outputs": [],
   "source": [
    "# Topic: Algorithms\n",
    "# Bubble sort\n",
    "def bubble(arr):\n",
    " for i in range(len(arr)):\n",
    "  for j in range(0, len(arr)-i-1):\n",
    "   if arr[j]>arr[j+1]: arr[j],arr[j+1]=arr[j+1],arr[j]\n",
    "a=[5,3,8]\n",
    "bubble(a)\n",
    "print(a)"
   ]
  },
  {
   "cell_type": "code",
   "execution_count": null,
   "id": "082e3bf2",
   "metadata": {},
   "outputs": [],
   "source": [
    "# Topic: Loops\n",
    "for i in range(10): print(i*i)"
   ]
  },
  {
   "cell_type": "code",
   "execution_count": null,
   "id": "b52a8a0d",
   "metadata": {},
   "outputs": [],
   "source": [
    "# Topic: Regex\n",
    "import re\n",
    "text = 'email: test@example.com'\n",
    "print(re.findall(r'\\S+@\\S+', text))"
   ]
  },
  {
   "cell_type": "code",
   "execution_count": null,
   "id": "280650f7",
   "metadata": {},
   "outputs": [],
   "source": [
    "# Topic: JSON & CSV\n",
    "import json\n",
    "data = {'a': 1}\n",
    "print(json.dumps(data))"
   ]
  },
  {
   "cell_type": "code",
   "execution_count": null,
   "id": "a0b48948",
   "metadata": {},
   "outputs": [],
   "source": [
    "# Topic: CLI Tools\n",
    "import sys\n",
    "print(f'Arguments: {sys.argv}')"
   ]
  },
  {
   "cell_type": "code",
   "execution_count": null,
   "id": "5782eb17",
   "metadata": {},
   "outputs": [],
   "source": [
    "# Topic: Decorators\n",
    "def log(func):\n",
    " def wrapper():\n",
    "  print('Call')\n",
    "  func()\n",
    " return wrapper\n",
    "@log\n",
    "def say(): print('Hi')\n",
    "say()"
   ]
  },
  {
   "cell_type": "code",
   "execution_count": null,
   "id": "4f07ce5e",
   "metadata": {},
   "outputs": [],
   "source": [
    "# Topic: JSON & CSV\n",
    "import json\n",
    "data = {'a': 1}\n",
    "print(json.dumps(data))"
   ]
  },
  {
   "cell_type": "code",
   "execution_count": null,
   "id": "856d8021",
   "metadata": {},
   "outputs": [],
   "source": [
    "# Topic: CLI Tools\n",
    "import sys\n",
    "print(f'Arguments: {sys.argv}')"
   ]
  },
  {
   "cell_type": "code",
   "execution_count": null,
   "id": "317be724",
   "metadata": {},
   "outputs": [],
   "source": [
    "# Topic: Dictionaries & Sets\n",
    "d = {'name': 'Fahd', 'age': 20}\n",
    "print(d.get('name'))"
   ]
  },
  {
   "cell_type": "code",
   "execution_count": null,
   "id": "32b74844",
   "metadata": {},
   "outputs": [],
   "source": [
    "# Topic: Loops\n",
    "for i in range(10): print(i*i)"
   ]
  },
  {
   "cell_type": "code",
   "execution_count": null,
   "id": "fbfbb9d4",
   "metadata": {},
   "outputs": [],
   "source": [
    "# Topic: Web Scraping\n",
    "import requests\n",
    "from bs4 import BeautifulSoup\n",
    "r = requests.get('https://example.com')\n",
    "soup = BeautifulSoup(r.text, 'html.parser')\n",
    "print(soup.title.text)"
   ]
  },
  {
   "cell_type": "code",
   "execution_count": null,
   "id": "adde4842",
   "metadata": {},
   "outputs": [],
   "source": [
    "# Topic: Functions\n",
    "def square(x): return x*x\n",
    "print(square(5))"
   ]
  },
  {
   "cell_type": "code",
   "execution_count": null,
   "id": "c8202ec6",
   "metadata": {},
   "outputs": [],
   "source": [
    "# Topic: Loops\n",
    "for i in range(10): print(i*i)"
   ]
  },
  {
   "cell_type": "code",
   "execution_count": null,
   "id": "6a7947a0",
   "metadata": {},
   "outputs": [],
   "source": [
    "# Topic: Algorithms\n",
    "# Bubble sort\n",
    "def bubble(arr):\n",
    " for i in range(len(arr)):\n",
    "  for j in range(0, len(arr)-i-1):\n",
    "   if arr[j]>arr[j+1]: arr[j],arr[j+1]=arr[j+1],arr[j]\n",
    "a=[5,3,8]\n",
    "bubble(a)\n",
    "print(a)"
   ]
  },
  {
   "cell_type": "code",
   "execution_count": null,
   "id": "a23bd224",
   "metadata": {},
   "outputs": [],
   "source": [
    "# Topic: Algorithms\n",
    "# Bubble sort\n",
    "def bubble(arr):\n",
    " for i in range(len(arr)):\n",
    "  for j in range(0, len(arr)-i-1):\n",
    "   if arr[j]>arr[j+1]: arr[j],arr[j+1]=arr[j+1],arr[j]\n",
    "a=[5,3,8]\n",
    "bubble(a)\n",
    "print(a)"
   ]
  },
  {
   "cell_type": "code",
   "execution_count": null,
   "id": "b65b2493",
   "metadata": {},
   "outputs": [],
   "source": [
    "# Topic: Matplotlib & Seaborn\n",
    "import matplotlib.pyplot as plt\n",
    "plt.plot([1,2],[3,4])\n",
    "plt.show()"
   ]
  },
  {
   "cell_type": "code",
   "execution_count": null,
   "id": "ff2edadf",
   "metadata": {},
   "outputs": [],
   "source": [
    "# Topic: Dictionaries & Sets\n",
    "d = {'name': 'Fahd', 'age': 20}\n",
    "print(d.get('name'))"
   ]
  },
  {
   "cell_type": "code",
   "execution_count": null,
   "id": "2b273f2b",
   "metadata": {},
   "outputs": [],
   "source": [
    "# Topic: Lists & Tuples\n",
    "lst = [1, 2, 3]\n",
    "lst.append(4)\n",
    "print(lst)"
   ]
  },
  {
   "cell_type": "code",
   "execution_count": null,
   "id": "ffe91e35",
   "metadata": {},
   "outputs": [],
   "source": [
    "# Topic: Decorators\n",
    "def log(func):\n",
    " def wrapper():\n",
    "  print('Call')\n",
    "  func()\n",
    " return wrapper\n",
    "@log\n",
    "def say(): print('Hi')\n",
    "say()"
   ]
  },
  {
   "cell_type": "code",
   "execution_count": null,
   "id": "d5126931",
   "metadata": {},
   "outputs": [],
   "source": [
    "# Topic: Regex\n",
    "import re\n",
    "text = 'email: test@example.com'\n",
    "print(re.findall(r'\\S+@\\S+', text))"
   ]
  },
  {
   "cell_type": "code",
   "execution_count": null,
   "id": "43fae677",
   "metadata": {},
   "outputs": [],
   "source": [
    "# Topic: File I/O\n",
    "with open('test.txt', 'r') as f:\n",
    "    print(f.read())"
   ]
  },
  {
   "cell_type": "code",
   "execution_count": null,
   "id": "dd86a67a",
   "metadata": {},
   "outputs": [],
   "source": [
    "# Topic: Mini Projects\n",
    "# Calculator\n",
    "def calc(a,b,op): return eval(f'{a}{op}{b}')\n",
    "print(calc(5,2,'+'))"
   ]
  },
  {
   "cell_type": "code",
   "execution_count": null,
   "id": "230a5ca7",
   "metadata": {},
   "outputs": [],
   "source": [
    "# Topic: Matplotlib & Seaborn\n",
    "import seaborn as sns\n",
    "import pandas as pd\n",
    "sns.set()\n",
    "sns.histplot(pd.Series([1,2,2,3]));"
   ]
  },
  {
   "cell_type": "code",
   "execution_count": null,
   "id": "2e57e53d",
   "metadata": {},
   "outputs": [],
   "source": [
    "# Topic: Loops\n",
    "for i in range(10): print(i*i)"
   ]
  },
  {
   "cell_type": "code",
   "execution_count": null,
   "id": "e2164d84",
   "metadata": {},
   "outputs": [],
   "source": [
    "# Topic: Regex\n",
    "import re\n",
    "text = 'email: test@example.com'\n",
    "print(re.findall(r'\\S+@\\S+', text))"
   ]
  },
  {
   "cell_type": "code",
   "execution_count": null,
   "id": "7c45a351",
   "metadata": {},
   "outputs": [],
   "source": [
    "# Topic: Loops\n",
    "for i in range(10): print(i*i)"
   ]
  },
  {
   "cell_type": "code",
   "execution_count": null,
   "id": "20b9a503",
   "metadata": {},
   "outputs": [],
   "source": [
    "# Topic: Regex\n",
    "import re\n",
    "text = 'email: test@example.com'\n",
    "print(re.findall(r'\\S+@\\S+', text))"
   ]
  },
  {
   "cell_type": "code",
   "execution_count": null,
   "id": "aad2eb48",
   "metadata": {},
   "outputs": [],
   "source": [
    "# Topic: Recursion\n",
    "def fact(n): return 1 if n==0 else n*fact(n-1)\n",
    "print(fact(5))"
   ]
  },
  {
   "cell_type": "code",
   "execution_count": null,
   "id": "a6db05ee",
   "metadata": {},
   "outputs": [],
   "source": [
    "# Topic: Loops\n",
    "while True:\n",
    "    print('Break')\n",
    "    break"
   ]
  },
  {
   "cell_type": "code",
   "execution_count": null,
   "id": "ace40fb6",
   "metadata": {},
   "outputs": [],
   "source": [
    "# Topic: Web Scraping\n",
    "import requests\n",
    "from bs4 import BeautifulSoup\n",
    "r = requests.get('https://example.com')\n",
    "soup = BeautifulSoup(r.text, 'html.parser')\n",
    "print(soup.title.text)"
   ]
  },
  {
   "cell_type": "code",
   "execution_count": null,
   "id": "0c528273",
   "metadata": {},
   "outputs": [],
   "source": [
    "# Topic: Dictionaries & Sets\n",
    "d = {'name': 'Fahd', 'age': 20}\n",
    "print(d.get('name'))"
   ]
  },
  {
   "cell_type": "code",
   "execution_count": null,
   "id": "b2c102d4",
   "metadata": {},
   "outputs": [],
   "source": [
    "# Topic: OOP\n",
    "class Student:\n",
    "    def __init__(self, name): self.name = name\n",
    "s = Student('Fahd')\n",
    "print(s.name)"
   ]
  },
  {
   "cell_type": "code",
   "execution_count": null,
   "id": "2eea1bdf",
   "metadata": {},
   "outputs": [],
   "source": [
    "# Topic: Functions\n",
    "def square(x): return x*x\n",
    "print(square(5))"
   ]
  },
  {
   "cell_type": "code",
   "execution_count": null,
   "id": "def05426",
   "metadata": {},
   "outputs": [],
   "source": [
    "# Topic: JSON & CSV\n",
    "import json\n",
    "data = {'a': 1}\n",
    "print(json.dumps(data))"
   ]
  },
  {
   "cell_type": "code",
   "execution_count": null,
   "id": "d0f6f5aa",
   "metadata": {},
   "outputs": [],
   "source": [
    "# Topic: Basics\n",
    "name = 'Fahd'\n",
    "print(f'Hello, {name}')"
   ]
  },
  {
   "cell_type": "code",
   "execution_count": null,
   "id": "a0088c10",
   "metadata": {},
   "outputs": [],
   "source": [
    "# Topic: Basic ML\n",
    "from sklearn.linear_model import LinearRegression\n",
    "model = LinearRegression()\n",
    "print(model)"
   ]
  },
  {
   "cell_type": "code",
   "execution_count": null,
   "id": "fae738bc",
   "metadata": {},
   "outputs": [],
   "source": [
    "# Topic: Matplotlib & Seaborn\n",
    "import seaborn as sns\n",
    "import pandas as pd\n",
    "sns.set()\n",
    "sns.histplot(pd.Series([1,2,2,3]));"
   ]
  },
  {
   "cell_type": "code",
   "execution_count": null,
   "id": "e578d960",
   "metadata": {},
   "outputs": [],
   "source": [
    "# Topic: Functions\n",
    "def greet(name='User'):\n",
    "    print(f'Hi, {name}')\n",
    "greet()"
   ]
  },
  {
   "cell_type": "code",
   "execution_count": null,
   "id": "e0a8648e",
   "metadata": {},
   "outputs": [],
   "source": [
    "# Topic: OOP\n",
    "class Student:\n",
    "    def __init__(self, name): self.name = name\n",
    "s = Student('Fahd')\n",
    "print(s.name)"
   ]
  },
  {
   "cell_type": "code",
   "execution_count": null,
   "id": "f85ed756",
   "metadata": {},
   "outputs": [],
   "source": [
    "# Topic: Matplotlib & Seaborn\n",
    "import seaborn as sns\n",
    "import pandas as pd\n",
    "sns.set()\n",
    "sns.histplot(pd.Series([1,2,2,3]));"
   ]
  },
  {
   "cell_type": "code",
   "execution_count": null,
   "id": "808927dd",
   "metadata": {},
   "outputs": [],
   "source": [
    "# Topic: Functions\n",
    "def greet(name='User'):\n",
    "    print(f'Hi, {name}')\n",
    "greet()"
   ]
  },
  {
   "cell_type": "code",
   "execution_count": null,
   "id": "39afc338",
   "metadata": {},
   "outputs": [],
   "source": [
    "# Topic: OOP\n",
    "class Student:\n",
    "    def __init__(self, name): self.name = name\n",
    "s = Student('Fahd')\n",
    "print(s.name)"
   ]
  },
  {
   "cell_type": "code",
   "execution_count": null,
   "id": "20fd8d82",
   "metadata": {},
   "outputs": [],
   "source": [
    "# Topic: Functions\n",
    "def greet(name='User'):\n",
    "    print(f'Hi, {name}')\n",
    "greet()"
   ]
  },
  {
   "cell_type": "code",
   "execution_count": null,
   "id": "8442aae0",
   "metadata": {},
   "outputs": [],
   "source": [
    "# Topic: JSON & CSV\n",
    "import json\n",
    "data = {'a': 1}\n",
    "print(json.dumps(data))"
   ]
  },
  {
   "cell_type": "code",
   "execution_count": null,
   "id": "fb4af6da",
   "metadata": {},
   "outputs": [],
   "source": [
    "# Topic: CLI Tools\n",
    "import sys\n",
    "print(f'Arguments: {sys.argv}')"
   ]
  },
  {
   "cell_type": "code",
   "execution_count": null,
   "id": "0ed6c29b",
   "metadata": {},
   "outputs": [],
   "source": [
    "# Topic: Web Scraping\n",
    "import requests\n",
    "from bs4 import BeautifulSoup\n",
    "r = requests.get('https://example.com')\n",
    "soup = BeautifulSoup(r.text, 'html.parser')\n",
    "print(soup.title.text)"
   ]
  },
  {
   "cell_type": "code",
   "execution_count": null,
   "id": "9a50981c",
   "metadata": {},
   "outputs": [],
   "source": [
    "# Topic: Decorators\n",
    "def log(func):\n",
    " def wrapper():\n",
    "  print('Call')\n",
    "  func()\n",
    " return wrapper\n",
    "@log\n",
    "def say(): print('Hi')\n",
    "say()"
   ]
  },
  {
   "cell_type": "code",
   "execution_count": null,
   "id": "5acbffd1",
   "metadata": {},
   "outputs": [],
   "source": [
    "# Topic: Basics\n",
    "name = 'Fahd'\n",
    "print(f'Hello, {name}')"
   ]
  },
  {
   "cell_type": "code",
   "execution_count": null,
   "id": "247621b2",
   "metadata": {},
   "outputs": [],
   "source": [
    "# Topic: Decorators\n",
    "def log(func):\n",
    " def wrapper():\n",
    "  print('Call')\n",
    "  func()\n",
    " return wrapper\n",
    "@log\n",
    "def say(): print('Hi')\n",
    "say()"
   ]
  },
  {
   "cell_type": "code",
   "execution_count": null,
   "id": "fb1021aa",
   "metadata": {},
   "outputs": [],
   "source": [
    "# Topic: NumPy\n",
    "import numpy as np\n",
    "print(np.linspace(0, 1, 5))"
   ]
  },
  {
   "cell_type": "code",
   "execution_count": null,
   "id": "edaea779",
   "metadata": {},
   "outputs": [],
   "source": [
    "# Topic: Matplotlib & Seaborn\n",
    "import seaborn as sns\n",
    "import pandas as pd\n",
    "sns.set()\n",
    "sns.histplot(pd.Series([1,2,2,3]));"
   ]
  },
  {
   "cell_type": "code",
   "execution_count": null,
   "id": "b3a7908c",
   "metadata": {},
   "outputs": [],
   "source": [
    "# Topic: Regex\n",
    "import re\n",
    "text = 'email: test@example.com'\n",
    "print(re.findall(r'\\S+@\\S+', text))"
   ]
  },
  {
   "cell_type": "code",
   "execution_count": null,
   "id": "104ebff9",
   "metadata": {},
   "outputs": [],
   "source": [
    "# Topic: Lists & Tuples\n",
    "t = (1, 2, 3)\n",
    "print(t[0])"
   ]
  },
  {
   "cell_type": "code",
   "execution_count": null,
   "id": "6d449cec",
   "metadata": {},
   "outputs": [],
   "source": [
    "# Topic: Dictionaries & Sets\n",
    "s = set([1, 2, 3, 2])\n",
    "print(s)"
   ]
  },
  {
   "cell_type": "code",
   "execution_count": null,
   "id": "d440ee2f",
   "metadata": {},
   "outputs": [],
   "source": [
    "# Topic: Lists & Tuples\n",
    "lst = [1, 2, 3]\n",
    "lst.append(4)\n",
    "print(lst)"
   ]
  },
  {
   "cell_type": "code",
   "execution_count": null,
   "id": "849c1542",
   "metadata": {},
   "outputs": [],
   "source": [
    "# Topic: Regex\n",
    "import re\n",
    "text = 'email: test@example.com'\n",
    "print(re.findall(r'\\S+@\\S+', text))"
   ]
  },
  {
   "cell_type": "code",
   "execution_count": null,
   "id": "c710f75b",
   "metadata": {},
   "outputs": [],
   "source": [
    "# Topic: Pandas\n",
    "import pandas as pd\n",
    "df = pd.read_csv('file.csv')\n",
    "print(df.head())"
   ]
  },
  {
   "cell_type": "code",
   "execution_count": null,
   "id": "6c2bc824",
   "metadata": {},
   "outputs": [],
   "source": [
    "# Topic: Mini Projects\n",
    "# Palindrome check\n",
    "def is_pal(s): return s == s[::-1]\n",
    "print(is_pal('madam'))"
   ]
  },
  {
   "cell_type": "code",
   "execution_count": null,
   "id": "b90369c0",
   "metadata": {},
   "outputs": [],
   "source": [
    "# Topic: File I/O\n",
    "with open('test.txt', 'w') as f:\n",
    "    f.write('Hello World')"
   ]
  },
  {
   "cell_type": "code",
   "execution_count": null,
   "id": "36e5927d",
   "metadata": {},
   "outputs": [],
   "source": [
    "# Topic: Matplotlib & Seaborn\n",
    "import matplotlib.pyplot as plt\n",
    "plt.plot([1,2],[3,4])\n",
    "plt.show()"
   ]
  },
  {
   "cell_type": "code",
   "execution_count": null,
   "id": "fc261692",
   "metadata": {},
   "outputs": [],
   "source": [
    "# Topic: Recursion\n",
    "def fact(n): return 1 if n==0 else n*fact(n-1)\n",
    "print(fact(5))"
   ]
  },
  {
   "cell_type": "code",
   "execution_count": null,
   "id": "3011549f",
   "metadata": {},
   "outputs": [],
   "source": [
    "# Topic: JSON & CSV\n",
    "import csv\n",
    "with open('file.csv', 'w', newline='') as f:\n",
    " csv.writer(f).writerow(['a','b','c'])"
   ]
  },
  {
   "cell_type": "code",
   "execution_count": null,
   "id": "b3e86780",
   "metadata": {},
   "outputs": [],
   "source": [
    "# Topic: Recursion\n",
    "def fact(n): return 1 if n==0 else n*fact(n-1)\n",
    "print(fact(5))"
   ]
  },
  {
   "cell_type": "code",
   "execution_count": null,
   "id": "d79ad994",
   "metadata": {},
   "outputs": [],
   "source": [
    "# Topic: Loops\n",
    "for i in range(10): print(i*i)"
   ]
  },
  {
   "cell_type": "code",
   "execution_count": null,
   "id": "4cf55c01",
   "metadata": {},
   "outputs": [],
   "source": [
    "# Topic: OOP\n",
    "class Student:\n",
    "    def __init__(self, name): self.name = name\n",
    "s = Student('Fahd')\n",
    "print(s.name)"
   ]
  },
  {
   "cell_type": "code",
   "execution_count": null,
   "id": "2d1f0f9c",
   "metadata": {},
   "outputs": [],
   "source": [
    "# Topic: Mini Projects\n",
    "# Palindrome check\n",
    "def is_pal(s): return s == s[::-1]\n",
    "print(is_pal('madam'))"
   ]
  },
  {
   "cell_type": "code",
   "execution_count": null,
   "id": "f7a72f41",
   "metadata": {},
   "outputs": [],
   "source": [
    "# Topic: Data Cleaning\n",
    "import pandas as pd\n",
    "df = pd.DataFrame({'A':[1,None,3]})\n",
    "df = df.fillna(0)\n",
    "print(df)"
   ]
  },
  {
   "cell_type": "code",
   "execution_count": null,
   "id": "63d91c92",
   "metadata": {},
   "outputs": [],
   "source": [
    "# Topic: Web Scraping\n",
    "import requests\n",
    "from bs4 import BeautifulSoup\n",
    "r = requests.get('https://example.com')\n",
    "soup = BeautifulSoup(r.text, 'html.parser')\n",
    "print(soup.title.text)"
   ]
  },
  {
   "cell_type": "code",
   "execution_count": null,
   "id": "7bf04597",
   "metadata": {},
   "outputs": [],
   "source": [
    "# Topic: Pandas\n",
    "import pandas as pd\n",
    "df = pd.DataFrame({'A':[1,2],'B':[3,4]})\n",
    "print(df)"
   ]
  },
  {
   "cell_type": "code",
   "execution_count": null,
   "id": "a0efd853",
   "metadata": {},
   "outputs": [],
   "source": [
    "# Topic: CLI Tools\n",
    "import sys\n",
    "print(f'Arguments: {sys.argv}')"
   ]
  },
  {
   "cell_type": "code",
   "execution_count": null,
   "id": "d0dd24c1",
   "metadata": {},
   "outputs": [],
   "source": [
    "# Topic: CLI Tools\n",
    "import sys\n",
    "print(f'Arguments: {sys.argv}')"
   ]
  },
  {
   "cell_type": "code",
   "execution_count": null,
   "id": "f9706bf0",
   "metadata": {},
   "outputs": [],
   "source": [
    "# Topic: JSON & CSV\n",
    "import json\n",
    "data = {'a': 1}\n",
    "print(json.dumps(data))"
   ]
  },
  {
   "cell_type": "code",
   "execution_count": null,
   "id": "e06edbc9",
   "metadata": {},
   "outputs": [],
   "source": [
    "# Topic: Recursion\n",
    "def fact(n): return 1 if n==0 else n*fact(n-1)\n",
    "print(fact(5))"
   ]
  },
  {
   "cell_type": "code",
   "execution_count": null,
   "id": "a7832304",
   "metadata": {},
   "outputs": [],
   "source": [
    "# Topic: Mini Projects\n",
    "# Calculator\n",
    "def calc(a,b,op): return eval(f'{a}{op}{b}')\n",
    "print(calc(5,2,'+'))"
   ]
  },
  {
   "cell_type": "code",
   "execution_count": null,
   "id": "1a6460b7",
   "metadata": {},
   "outputs": [],
   "source": [
    "# Topic: Web Scraping\n",
    "import requests\n",
    "from bs4 import BeautifulSoup\n",
    "r = requests.get('https://example.com')\n",
    "soup = BeautifulSoup(r.text, 'html.parser')\n",
    "print(soup.title.text)"
   ]
  },
  {
   "cell_type": "code",
   "execution_count": null,
   "id": "b59a2d4d",
   "metadata": {},
   "outputs": [],
   "source": [
    "# Topic: Matplotlib & Seaborn\n",
    "import seaborn as sns\n",
    "import pandas as pd\n",
    "sns.set()\n",
    "sns.histplot(pd.Series([1,2,2,3]));"
   ]
  },
  {
   "cell_type": "code",
   "execution_count": null,
   "id": "a0409f0a",
   "metadata": {},
   "outputs": [],
   "source": [
    "# Topic: OOP\n",
    "class Student:\n",
    "    def __init__(self, name): self.name = name\n",
    "s = Student('Fahd')\n",
    "print(s.name)"
   ]
  },
  {
   "cell_type": "code",
   "execution_count": null,
   "id": "47c26240",
   "metadata": {},
   "outputs": [],
   "source": [
    "# Topic: Decorators\n",
    "def log(func):\n",
    " def wrapper():\n",
    "  print('Call')\n",
    "  func()\n",
    " return wrapper\n",
    "@log\n",
    "def say(): print('Hi')\n",
    "say()"
   ]
  },
  {
   "cell_type": "code",
   "execution_count": null,
   "id": "f4313c41",
   "metadata": {},
   "outputs": [],
   "source": [
    "# Topic: Regex\n",
    "import re\n",
    "text = 'email: test@example.com'\n",
    "print(re.findall(r'\\S+@\\S+', text))"
   ]
  },
  {
   "cell_type": "code",
   "execution_count": null,
   "id": "d997b3c6",
   "metadata": {},
   "outputs": [],
   "source": [
    "# Topic: Data Cleaning\n",
    "import pandas as pd\n",
    "df = pd.DataFrame({'A':[1,None,3]})\n",
    "df = df.fillna(0)\n",
    "print(df)"
   ]
  },
  {
   "cell_type": "code",
   "execution_count": null,
   "id": "d2287733",
   "metadata": {},
   "outputs": [],
   "source": [
    "# Topic: Decorators\n",
    "def log(func):\n",
    " def wrapper():\n",
    "  print('Call')\n",
    "  func()\n",
    " return wrapper\n",
    "@log\n",
    "def say(): print('Hi')\n",
    "say()"
   ]
  },
  {
   "cell_type": "code",
   "execution_count": null,
   "id": "b187afce",
   "metadata": {},
   "outputs": [],
   "source": [
    "# Topic: JSON & CSV\n",
    "import json\n",
    "data = {'a': 1}\n",
    "print(json.dumps(data))"
   ]
  },
  {
   "cell_type": "code",
   "execution_count": null,
   "id": "534b9f91",
   "metadata": {},
   "outputs": [],
   "source": [
    "# Topic: Web Scraping\n",
    "import requests\n",
    "from bs4 import BeautifulSoup\n",
    "r = requests.get('https://example.com')\n",
    "soup = BeautifulSoup(r.text, 'html.parser')\n",
    "print(soup.title.text)"
   ]
  },
  {
   "cell_type": "code",
   "execution_count": null,
   "id": "cd1b48ef",
   "metadata": {},
   "outputs": [],
   "source": [
    "# Topic: CLI Tools\n",
    "import sys\n",
    "print(f'Arguments: {sys.argv}')"
   ]
  },
  {
   "cell_type": "code",
   "execution_count": null,
   "id": "a23d2887",
   "metadata": {},
   "outputs": [],
   "source": [
    "# Topic: Basics\n",
    "x = 10\n",
    "y = 20\n",
    "print(x + y)"
   ]
  },
  {
   "cell_type": "code",
   "execution_count": null,
   "id": "7db8a01e",
   "metadata": {},
   "outputs": [],
   "source": [
    "# Topic: Lists & Tuples\n",
    "lst = [1, 2, 3]\n",
    "lst.append(4)\n",
    "print(lst)"
   ]
  },
  {
   "cell_type": "code",
   "execution_count": null,
   "id": "254d3679",
   "metadata": {},
   "outputs": [],
   "source": [
    "# Topic: Pandas\n",
    "import pandas as pd\n",
    "df = pd.read_csv('file.csv')\n",
    "print(df.head())"
   ]
  },
  {
   "cell_type": "code",
   "execution_count": null,
   "id": "15022488",
   "metadata": {},
   "outputs": [],
   "source": [
    "# Topic: Decorators\n",
    "def log(func):\n",
    " def wrapper():\n",
    "  print('Call')\n",
    "  func()\n",
    " return wrapper\n",
    "@log\n",
    "def say(): print('Hi')\n",
    "say()"
   ]
  },
  {
   "cell_type": "code",
   "execution_count": null,
   "id": "d0f0993a",
   "metadata": {},
   "outputs": [],
   "source": [
    "# Topic: NumPy\n",
    "import numpy as np\n",
    "print(np.linspace(0, 1, 5))"
   ]
  },
  {
   "cell_type": "code",
   "execution_count": null,
   "id": "fee37458",
   "metadata": {},
   "outputs": [],
   "source": [
    "# Topic: Decorators\n",
    "def log(func):\n",
    " def wrapper():\n",
    "  print('Call')\n",
    "  func()\n",
    " return wrapper\n",
    "@log\n",
    "def say(): print('Hi')\n",
    "say()"
   ]
  },
  {
   "cell_type": "code",
   "execution_count": null,
   "id": "7bdb878c",
   "metadata": {},
   "outputs": [],
   "source": [
    "# Topic: Decorators\n",
    "def log(func):\n",
    " def wrapper():\n",
    "  print('Call')\n",
    "  func()\n",
    " return wrapper\n",
    "@log\n",
    "def say(): print('Hi')\n",
    "say()"
   ]
  },
  {
   "cell_type": "code",
   "execution_count": null,
   "id": "dd56cb30",
   "metadata": {},
   "outputs": [],
   "source": [
    "# Topic: File I/O\n",
    "with open('test.txt', 'r') as f:\n",
    "    print(f.read())"
   ]
  },
  {
   "cell_type": "code",
   "execution_count": null,
   "id": "97eb8b88",
   "metadata": {},
   "outputs": [],
   "source": [
    "# Topic: Recursion\n",
    "def fact(n): return 1 if n==0 else n*fact(n-1)\n",
    "print(fact(5))"
   ]
  },
  {
   "cell_type": "code",
   "execution_count": null,
   "id": "fa6bb4b9",
   "metadata": {},
   "outputs": [],
   "source": [
    "# Topic: Dictionaries & Sets\n",
    "d = {'name': 'Fahd', 'age': 20}\n",
    "print(d.get('name'))"
   ]
  },
  {
   "cell_type": "code",
   "execution_count": null,
   "id": "907cf3f4",
   "metadata": {},
   "outputs": [],
   "source": [
    "# Topic: Lists & Tuples\n",
    "t = (1, 2, 3)\n",
    "print(t[0])"
   ]
  },
  {
   "cell_type": "code",
   "execution_count": null,
   "id": "2c483c05",
   "metadata": {},
   "outputs": [],
   "source": [
    "# Topic: Basic ML\n",
    "from sklearn.linear_model import LinearRegression\n",
    "model = LinearRegression()\n",
    "print(model)"
   ]
  },
  {
   "cell_type": "code",
   "execution_count": null,
   "id": "08b92dab",
   "metadata": {},
   "outputs": [],
   "source": [
    "# Topic: NumPy\n",
    "import numpy as np\n",
    "print(np.linspace(0, 1, 5))"
   ]
  },
  {
   "cell_type": "code",
   "execution_count": null,
   "id": "19034073",
   "metadata": {},
   "outputs": [],
   "source": [
    "# Topic: Lists & Tuples\n",
    "lst = [1, 2, 3]\n",
    "lst.append(4)\n",
    "print(lst)"
   ]
  },
  {
   "cell_type": "code",
   "execution_count": null,
   "id": "5adec15e",
   "metadata": {},
   "outputs": [],
   "source": [
    "# Topic: Mini Projects\n",
    "# Calculator\n",
    "def calc(a,b,op): return eval(f'{a}{op}{b}')\n",
    "print(calc(5,2,'+'))"
   ]
  },
  {
   "cell_type": "code",
   "execution_count": null,
   "id": "27cb20ba",
   "metadata": {},
   "outputs": [],
   "source": [
    "# Topic: Basics\n",
    "x = 10\n",
    "y = 20\n",
    "print(x + y)"
   ]
  },
  {
   "cell_type": "code",
   "execution_count": null,
   "id": "db0ef9bb",
   "metadata": {},
   "outputs": [],
   "source": [
    "# Topic: Recursion\n",
    "def fact(n): return 1 if n==0 else n*fact(n-1)\n",
    "print(fact(5))"
   ]
  },
  {
   "cell_type": "code",
   "execution_count": null,
   "id": "be2aac43",
   "metadata": {},
   "outputs": [],
   "source": [
    "# Topic: Basic ML\n",
    "from sklearn.linear_model import LinearRegression\n",
    "model = LinearRegression()\n",
    "print(model)"
   ]
  },
  {
   "cell_type": "code",
   "execution_count": null,
   "id": "dd335585",
   "metadata": {},
   "outputs": [],
   "source": [
    "# Topic: Decorators\n",
    "def log(func):\n",
    " def wrapper():\n",
    "  print('Call')\n",
    "  func()\n",
    " return wrapper\n",
    "@log\n",
    "def say(): print('Hi')\n",
    "say()"
   ]
  },
  {
   "cell_type": "code",
   "execution_count": null,
   "id": "f316deb5",
   "metadata": {},
   "outputs": [],
   "source": [
    "# Topic: Decorators\n",
    "def log(func):\n",
    " def wrapper():\n",
    "  print('Call')\n",
    "  func()\n",
    " return wrapper\n",
    "@log\n",
    "def say(): print('Hi')\n",
    "say()"
   ]
  },
  {
   "cell_type": "code",
   "execution_count": null,
   "id": "fc31f8cc",
   "metadata": {},
   "outputs": [],
   "source": [
    "# Topic: NumPy\n",
    "import numpy as np\n",
    "print(np.linspace(0, 1, 5))"
   ]
  },
  {
   "cell_type": "code",
   "execution_count": null,
   "id": "0ae5e59e",
   "metadata": {},
   "outputs": [],
   "source": [
    "# Topic: Loops\n",
    "for i in range(10): print(i*i)"
   ]
  },
  {
   "cell_type": "code",
   "execution_count": null,
   "id": "bd855b60",
   "metadata": {},
   "outputs": [],
   "source": [
    "# Topic: Basics\n",
    "x = 10\n",
    "y = 20\n",
    "print(x + y)"
   ]
  },
  {
   "cell_type": "code",
   "execution_count": null,
   "id": "cd75007a",
   "metadata": {},
   "outputs": [],
   "source": [
    "# Topic: Data Cleaning\n",
    "import pandas as pd\n",
    "df = pd.DataFrame({'A':[1,None,3]})\n",
    "df = df.fillna(0)\n",
    "print(df)"
   ]
  },
  {
   "cell_type": "code",
   "execution_count": null,
   "id": "239bd1c6",
   "metadata": {},
   "outputs": [],
   "source": [
    "# Topic: Pandas\n",
    "import pandas as pd\n",
    "df = pd.DataFrame({'A':[1,2],'B':[3,4]})\n",
    "print(df)"
   ]
  },
  {
   "cell_type": "code",
   "execution_count": null,
   "id": "d68eb37e",
   "metadata": {},
   "outputs": [],
   "source": [
    "# Topic: Functions\n",
    "def greet(name='User'):\n",
    "    print(f'Hi, {name}')\n",
    "greet()"
   ]
  },
  {
   "cell_type": "code",
   "execution_count": null,
   "id": "49fe1330",
   "metadata": {},
   "outputs": [],
   "source": [
    "# Topic: CLI Tools\n",
    "import sys\n",
    "print(f'Arguments: {sys.argv}')"
   ]
  },
  {
   "cell_type": "code",
   "execution_count": null,
   "id": "3599601d",
   "metadata": {},
   "outputs": [],
   "source": [
    "# Topic: Lists & Tuples\n",
    "lst = [1, 2, 3]\n",
    "lst.append(4)\n",
    "print(lst)"
   ]
  },
  {
   "cell_type": "code",
   "execution_count": null,
   "id": "953f4f99",
   "metadata": {},
   "outputs": [],
   "source": [
    "# Topic: Loops\n",
    "for i in range(10): print(i*i)"
   ]
  },
  {
   "cell_type": "code",
   "execution_count": null,
   "id": "4439425c",
   "metadata": {},
   "outputs": [],
   "source": [
    "# Topic: Decorators\n",
    "def log(func):\n",
    " def wrapper():\n",
    "  print('Call')\n",
    "  func()\n",
    " return wrapper\n",
    "@log\n",
    "def say(): print('Hi')\n",
    "say()"
   ]
  },
  {
   "cell_type": "code",
   "execution_count": null,
   "id": "ce48337c",
   "metadata": {},
   "outputs": [],
   "source": [
    "# Topic: File I/O\n",
    "with open('test.txt', 'w') as f:\n",
    "    f.write('Hello World')"
   ]
  },
  {
   "cell_type": "code",
   "execution_count": null,
   "id": "2afd0b2a",
   "metadata": {},
   "outputs": [],
   "source": [
    "# Topic: Basic ML\n",
    "from sklearn.linear_model import LinearRegression\n",
    "model = LinearRegression()\n",
    "print(model)"
   ]
  },
  {
   "cell_type": "code",
   "execution_count": null,
   "id": "336533e1",
   "metadata": {},
   "outputs": [],
   "source": [
    "# Topic: NumPy\n",
    "import numpy as np\n",
    "a = np.array([1, 2, 3])\n",
    "print(a + 5)"
   ]
  },
  {
   "cell_type": "code",
   "execution_count": null,
   "id": "8ef9353b",
   "metadata": {},
   "outputs": [],
   "source": [
    "# Topic: Recursion\n",
    "def fact(n): return 1 if n==0 else n*fact(n-1)\n",
    "print(fact(5))"
   ]
  },
  {
   "cell_type": "code",
   "execution_count": null,
   "id": "29f3190b",
   "metadata": {},
   "outputs": [],
   "source": [
    "# Topic: Mini Projects\n",
    "# Palindrome check\n",
    "def is_pal(s): return s == s[::-1]\n",
    "print(is_pal('madam'))"
   ]
  },
  {
   "cell_type": "code",
   "execution_count": null,
   "id": "40cbd4fb",
   "metadata": {},
   "outputs": [],
   "source": [
    "# Topic: JSON & CSV\n",
    "import csv\n",
    "with open('file.csv', 'w', newline='') as f:\n",
    " csv.writer(f).writerow(['a','b','c'])"
   ]
  },
  {
   "cell_type": "code",
   "execution_count": null,
   "id": "0cf61cdd",
   "metadata": {},
   "outputs": [],
   "source": [
    "# Topic: Mini Projects\n",
    "# Calculator\n",
    "def calc(a,b,op): return eval(f'{a}{op}{b}')\n",
    "print(calc(5,2,'+'))"
   ]
  },
  {
   "cell_type": "code",
   "execution_count": null,
   "id": "459564f0",
   "metadata": {},
   "outputs": [],
   "source": [
    "# Topic: Loops\n",
    "for i in range(10): print(i*i)"
   ]
  },
  {
   "cell_type": "code",
   "execution_count": null,
   "id": "dde4f867",
   "metadata": {},
   "outputs": [],
   "source": [
    "# Topic: Dictionaries & Sets\n",
    "d = {'name': 'Fahd', 'age': 20}\n",
    "print(d.get('name'))"
   ]
  },
  {
   "cell_type": "code",
   "execution_count": null,
   "id": "b34293ad",
   "metadata": {},
   "outputs": [],
   "source": [
    "# Topic: Matplotlib & Seaborn\n",
    "import matplotlib.pyplot as plt\n",
    "plt.plot([1,2],[3,4])\n",
    "plt.show()"
   ]
  },
  {
   "cell_type": "code",
   "execution_count": null,
   "id": "fbf58321",
   "metadata": {},
   "outputs": [],
   "source": [
    "# Topic: Basics\n",
    "name = 'Fahd'\n",
    "print(f'Hello, {name}')"
   ]
  },
  {
   "cell_type": "code",
   "execution_count": null,
   "id": "6dd2c971",
   "metadata": {},
   "outputs": [],
   "source": [
    "# Topic: NumPy\n",
    "import numpy as np\n",
    "print(np.linspace(0, 1, 5))"
   ]
  },
  {
   "cell_type": "code",
   "execution_count": null,
   "id": "01ba493e",
   "metadata": {},
   "outputs": [],
   "source": [
    "# Topic: Regex\n",
    "import re\n",
    "text = 'email: test@example.com'\n",
    "print(re.findall(r'\\S+@\\S+', text))"
   ]
  },
  {
   "cell_type": "code",
   "execution_count": null,
   "id": "a18d8175",
   "metadata": {},
   "outputs": [],
   "source": [
    "# Topic: Regex\n",
    "import re\n",
    "text = 'email: test@example.com'\n",
    "print(re.findall(r'\\S+@\\S+', text))"
   ]
  },
  {
   "cell_type": "code",
   "execution_count": null,
   "id": "d9f843bd",
   "metadata": {},
   "outputs": [],
   "source": [
    "# Topic: File I/O\n",
    "with open('test.txt', 'w') as f:\n",
    "    f.write('Hello World')"
   ]
  },
  {
   "cell_type": "code",
   "execution_count": null,
   "id": "828cb7b2",
   "metadata": {},
   "outputs": [],
   "source": [
    "# Topic: Dictionaries & Sets\n",
    "d = {'name': 'Fahd', 'age': 20}\n",
    "print(d.get('name'))"
   ]
  },
  {
   "cell_type": "code",
   "execution_count": null,
   "id": "5e5e98f1",
   "metadata": {},
   "outputs": [],
   "source": [
    "# Topic: Basics\n",
    "name = 'Fahd'\n",
    "print(f'Hello, {name}')"
   ]
  },
  {
   "cell_type": "code",
   "execution_count": null,
   "id": "91439355",
   "metadata": {},
   "outputs": [],
   "source": [
    "# Topic: JSON & CSV\n",
    "import csv\n",
    "with open('file.csv', 'w', newline='') as f:\n",
    " csv.writer(f).writerow(['a','b','c'])"
   ]
  },
  {
   "cell_type": "code",
   "execution_count": null,
   "id": "e823f7ed",
   "metadata": {},
   "outputs": [],
   "source": [
    "# Topic: Pandas\n",
    "import pandas as pd\n",
    "df = pd.DataFrame({'A':[1,2],'B':[3,4]})\n",
    "print(df)"
   ]
  },
  {
   "cell_type": "code",
   "execution_count": null,
   "id": "399021bd",
   "metadata": {},
   "outputs": [],
   "source": [
    "# Topic: Basic ML\n",
    "from sklearn.linear_model import LinearRegression\n",
    "model = LinearRegression()\n",
    "print(model)"
   ]
  },
  {
   "cell_type": "code",
   "execution_count": null,
   "id": "9b568635",
   "metadata": {},
   "outputs": [],
   "source": [
    "# Topic: File I/O\n",
    "with open('test.txt', 'w') as f:\n",
    "    f.write('Hello World')"
   ]
  },
  {
   "cell_type": "code",
   "execution_count": null,
   "id": "a7ab194a",
   "metadata": {},
   "outputs": [],
   "source": [
    "# Topic: Regex\n",
    "import re\n",
    "text = 'email: test@example.com'\n",
    "print(re.findall(r'\\S+@\\S+', text))"
   ]
  },
  {
   "cell_type": "code",
   "execution_count": null,
   "id": "096dd06d",
   "metadata": {},
   "outputs": [],
   "source": [
    "# Topic: Web Scraping\n",
    "import requests\n",
    "from bs4 import BeautifulSoup\n",
    "r = requests.get('https://example.com')\n",
    "soup = BeautifulSoup(r.text, 'html.parser')\n",
    "print(soup.title.text)"
   ]
  },
  {
   "cell_type": "code",
   "execution_count": null,
   "id": "f79d9b9f",
   "metadata": {},
   "outputs": [],
   "source": [
    "# Topic: Regex\n",
    "import re\n",
    "text = 'email: test@example.com'\n",
    "print(re.findall(r'\\S+@\\S+', text))"
   ]
  },
  {
   "cell_type": "code",
   "execution_count": null,
   "id": "c1db10d5",
   "metadata": {},
   "outputs": [],
   "source": [
    "# Topic: Dictionaries & Sets\n",
    "s = set([1, 2, 3, 2])\n",
    "print(s)"
   ]
  },
  {
   "cell_type": "code",
   "execution_count": null,
   "id": "460dfb52",
   "metadata": {},
   "outputs": [],
   "source": [
    "# Topic: JSON & CSV\n",
    "import csv\n",
    "with open('file.csv', 'w', newline='') as f:\n",
    " csv.writer(f).writerow(['a','b','c'])"
   ]
  },
  {
   "cell_type": "code",
   "execution_count": null,
   "id": "6983ab68",
   "metadata": {},
   "outputs": [],
   "source": [
    "# Topic: Mini Projects\n",
    "# Palindrome check\n",
    "def is_pal(s): return s == s[::-1]\n",
    "print(is_pal('madam'))"
   ]
  },
  {
   "cell_type": "code",
   "execution_count": null,
   "id": "6c4f8da7",
   "metadata": {},
   "outputs": [],
   "source": [
    "# Topic: Dictionaries & Sets\n",
    "s = set([1, 2, 3, 2])\n",
    "print(s)"
   ]
  },
  {
   "cell_type": "code",
   "execution_count": null,
   "id": "7c22d2ac",
   "metadata": {},
   "outputs": [],
   "source": [
    "# Topic: Loops\n",
    "while True:\n",
    "    print('Break')\n",
    "    break"
   ]
  },
  {
   "cell_type": "code",
   "execution_count": null,
   "id": "a4ed64ce",
   "metadata": {},
   "outputs": [],
   "source": [
    "# Topic: Web Scraping\n",
    "import requests\n",
    "from bs4 import BeautifulSoup\n",
    "r = requests.get('https://example.com')\n",
    "soup = BeautifulSoup(r.text, 'html.parser')\n",
    "print(soup.title.text)"
   ]
  },
  {
   "cell_type": "code",
   "execution_count": null,
   "id": "872bec9c",
   "metadata": {},
   "outputs": [],
   "source": [
    "# Topic: NumPy\n",
    "import numpy as np\n",
    "print(np.linspace(0, 1, 5))"
   ]
  },
  {
   "cell_type": "code",
   "execution_count": null,
   "id": "dd10d0de",
   "metadata": {},
   "outputs": [],
   "source": [
    "# Topic: Mini Projects\n",
    "# Calculator\n",
    "def calc(a,b,op): return eval(f'{a}{op}{b}')\n",
    "print(calc(5,2,'+'))"
   ]
  },
  {
   "cell_type": "code",
   "execution_count": null,
   "id": "4ba69069",
   "metadata": {},
   "outputs": [],
   "source": [
    "# Topic: Web Scraping\n",
    "import requests\n",
    "from bs4 import BeautifulSoup\n",
    "r = requests.get('https://example.com')\n",
    "soup = BeautifulSoup(r.text, 'html.parser')\n",
    "print(soup.title.text)"
   ]
  },
  {
   "cell_type": "code",
   "execution_count": null,
   "id": "80be19f8",
   "metadata": {},
   "outputs": [],
   "source": [
    "# Topic: Basic ML\n",
    "from sklearn.linear_model import LinearRegression\n",
    "model = LinearRegression()\n",
    "print(model)"
   ]
  },
  {
   "cell_type": "code",
   "execution_count": null,
   "id": "49af8fb8",
   "metadata": {},
   "outputs": [],
   "source": [
    "# Topic: Matplotlib & Seaborn\n",
    "import seaborn as sns\n",
    "import pandas as pd\n",
    "sns.set()\n",
    "sns.histplot(pd.Series([1,2,2,3]));"
   ]
  },
  {
   "cell_type": "code",
   "execution_count": null,
   "id": "cbaadd04",
   "metadata": {},
   "outputs": [],
   "source": [
    "# Topic: JSON & CSV\n",
    "import json\n",
    "data = {'a': 1}\n",
    "print(json.dumps(data))"
   ]
  },
  {
   "cell_type": "code",
   "execution_count": null,
   "id": "282b2650",
   "metadata": {},
   "outputs": [],
   "source": [
    "# Topic: OOP\n",
    "class Student:\n",
    "    def __init__(self, name): self.name = name\n",
    "s = Student('Fahd')\n",
    "print(s.name)"
   ]
  },
  {
   "cell_type": "code",
   "execution_count": null,
   "id": "e95c6a19",
   "metadata": {},
   "outputs": [],
   "source": [
    "# Topic: OOP\n",
    "class Student:\n",
    "    def __init__(self, name): self.name = name\n",
    "s = Student('Fahd')\n",
    "print(s.name)"
   ]
  },
  {
   "cell_type": "code",
   "execution_count": null,
   "id": "df969da3",
   "metadata": {},
   "outputs": [],
   "source": [
    "# Topic: Pandas\n",
    "import pandas as pd\n",
    "df = pd.read_csv('file.csv')\n",
    "print(df.head())"
   ]
  },
  {
   "cell_type": "code",
   "execution_count": null,
   "id": "c1d53694",
   "metadata": {},
   "outputs": [],
   "source": [
    "# Topic: Web Scraping\n",
    "import requests\n",
    "from bs4 import BeautifulSoup\n",
    "r = requests.get('https://example.com')\n",
    "soup = BeautifulSoup(r.text, 'html.parser')\n",
    "print(soup.title.text)"
   ]
  },
  {
   "cell_type": "code",
   "execution_count": null,
   "id": "9f801db1",
   "metadata": {},
   "outputs": [],
   "source": [
    "# Topic: Decorators\n",
    "def log(func):\n",
    " def wrapper():\n",
    "  print('Call')\n",
    "  func()\n",
    " return wrapper\n",
    "@log\n",
    "def say(): print('Hi')\n",
    "say()"
   ]
  },
  {
   "cell_type": "code",
   "execution_count": null,
   "id": "de8fb45d",
   "metadata": {},
   "outputs": [],
   "source": [
    "# Topic: NumPy\n",
    "import numpy as np\n",
    "print(np.linspace(0, 1, 5))"
   ]
  },
  {
   "cell_type": "code",
   "execution_count": null,
   "id": "dc682fe0",
   "metadata": {},
   "outputs": [],
   "source": [
    "# Topic: Data Cleaning\n",
    "import pandas as pd\n",
    "df = pd.DataFrame({'A':[1,None,3]})\n",
    "df = df.fillna(0)\n",
    "print(df)"
   ]
  },
  {
   "cell_type": "code",
   "execution_count": null,
   "id": "535c2e47",
   "metadata": {},
   "outputs": [],
   "source": [
    "# Topic: Decorators\n",
    "def log(func):\n",
    " def wrapper():\n",
    "  print('Call')\n",
    "  func()\n",
    " return wrapper\n",
    "@log\n",
    "def say(): print('Hi')\n",
    "say()"
   ]
  },
  {
   "cell_type": "code",
   "execution_count": null,
   "id": "c524135a",
   "metadata": {},
   "outputs": [],
   "source": [
    "# Topic: Basics\n",
    "name = 'Fahd'\n",
    "print(f'Hello, {name}')"
   ]
  },
  {
   "cell_type": "code",
   "execution_count": null,
   "id": "84926e62",
   "metadata": {},
   "outputs": [],
   "source": [
    "# Topic: Algorithms\n",
    "# Bubble sort\n",
    "def bubble(arr):\n",
    " for i in range(len(arr)):\n",
    "  for j in range(0, len(arr)-i-1):\n",
    "   if arr[j]>arr[j+1]: arr[j],arr[j+1]=arr[j+1],arr[j]\n",
    "a=[5,3,8]\n",
    "bubble(a)\n",
    "print(a)"
   ]
  },
  {
   "cell_type": "code",
   "execution_count": null,
   "id": "90da85f6",
   "metadata": {},
   "outputs": [],
   "source": [
    "# Topic: Recursion\n",
    "def fact(n): return 1 if n==0 else n*fact(n-1)\n",
    "print(fact(5))"
   ]
  },
  {
   "cell_type": "code",
   "execution_count": null,
   "id": "5615170a",
   "metadata": {},
   "outputs": [],
   "source": [
    "# Topic: File I/O\n",
    "with open('test.txt', 'w') as f:\n",
    "    f.write('Hello World')"
   ]
  },
  {
   "cell_type": "code",
   "execution_count": null,
   "id": "6642be2d",
   "metadata": {},
   "outputs": [],
   "source": [
    "# Topic: Pandas\n",
    "import pandas as pd\n",
    "df = pd.DataFrame({'A':[1,2],'B':[3,4]})\n",
    "print(df)"
   ]
  },
  {
   "cell_type": "code",
   "execution_count": null,
   "id": "6467ce24",
   "metadata": {},
   "outputs": [],
   "source": [
    "# Topic: Functions\n",
    "def greet(name='User'):\n",
    "    print(f'Hi, {name}')\n",
    "greet()"
   ]
  },
  {
   "cell_type": "code",
   "execution_count": null,
   "id": "498b642e",
   "metadata": {},
   "outputs": [],
   "source": [
    "# Topic: Dictionaries & Sets\n",
    "s = set([1, 2, 3, 2])\n",
    "print(s)"
   ]
  },
  {
   "cell_type": "code",
   "execution_count": null,
   "id": "b7768ed6",
   "metadata": {},
   "outputs": [],
   "source": [
    "# Topic: Algorithms\n",
    "# Bubble sort\n",
    "def bubble(arr):\n",
    " for i in range(len(arr)):\n",
    "  for j in range(0, len(arr)-i-1):\n",
    "   if arr[j]>arr[j+1]: arr[j],arr[j+1]=arr[j+1],arr[j]\n",
    "a=[5,3,8]\n",
    "bubble(a)\n",
    "print(a)"
   ]
  },
  {
   "cell_type": "code",
   "execution_count": null,
   "id": "a0bf08f5",
   "metadata": {},
   "outputs": [],
   "source": [
    "# Topic: JSON & CSV\n",
    "import csv\n",
    "with open('file.csv', 'w', newline='') as f:\n",
    " csv.writer(f).writerow(['a','b','c'])"
   ]
  },
  {
   "cell_type": "code",
   "execution_count": null,
   "id": "9f8d0b41",
   "metadata": {},
   "outputs": [],
   "source": [
    "# Topic: Basics\n",
    "name = 'Fahd'\n",
    "print(f'Hello, {name}')"
   ]
  },
  {
   "cell_type": "code",
   "execution_count": null,
   "id": "344279f5",
   "metadata": {},
   "outputs": [],
   "source": [
    "# Topic: Functions\n",
    "def greet(name='User'):\n",
    "    print(f'Hi, {name}')\n",
    "greet()"
   ]
  },
  {
   "cell_type": "code",
   "execution_count": null,
   "id": "a8de0268",
   "metadata": {},
   "outputs": [],
   "source": [
    "# Topic: Decorators\n",
    "def log(func):\n",
    " def wrapper():\n",
    "  print('Call')\n",
    "  func()\n",
    " return wrapper\n",
    "@log\n",
    "def say(): print('Hi')\n",
    "say()"
   ]
  },
  {
   "cell_type": "code",
   "execution_count": null,
   "id": "0aefb642",
   "metadata": {},
   "outputs": [],
   "source": [
    "# Topic: JSON & CSV\n",
    "import csv\n",
    "with open('file.csv', 'w', newline='') as f:\n",
    " csv.writer(f).writerow(['a','b','c'])"
   ]
  },
  {
   "cell_type": "code",
   "execution_count": null,
   "id": "3782e347",
   "metadata": {},
   "outputs": [],
   "source": [
    "# Topic: File I/O\n",
    "with open('test.txt', 'r') as f:\n",
    "    print(f.read())"
   ]
  },
  {
   "cell_type": "code",
   "execution_count": null,
   "id": "4628c47a",
   "metadata": {},
   "outputs": [],
   "source": [
    "# Topic: Mini Projects\n",
    "# Calculator\n",
    "def calc(a,b,op): return eval(f'{a}{op}{b}')\n",
    "print(calc(5,2,'+'))"
   ]
  },
  {
   "cell_type": "code",
   "execution_count": null,
   "id": "ad603390",
   "metadata": {},
   "outputs": [],
   "source": [
    "# Topic: Recursion\n",
    "def fact(n): return 1 if n==0 else n*fact(n-1)\n",
    "print(fact(5))"
   ]
  },
  {
   "cell_type": "code",
   "execution_count": null,
   "id": "ed7ba406",
   "metadata": {},
   "outputs": [],
   "source": [
    "# Topic: CLI Tools\n",
    "import sys\n",
    "print(f'Arguments: {sys.argv}')"
   ]
  },
  {
   "cell_type": "code",
   "execution_count": null,
   "id": "4a270ad7",
   "metadata": {},
   "outputs": [],
   "source": [
    "# Topic: NumPy\n",
    "import numpy as np\n",
    "print(np.linspace(0, 1, 5))"
   ]
  },
  {
   "cell_type": "code",
   "execution_count": null,
   "id": "a64d2334",
   "metadata": {},
   "outputs": [],
   "source": [
    "# Topic: Regex\n",
    "import re\n",
    "text = 'email: test@example.com'\n",
    "print(re.findall(r'\\S+@\\S+', text))"
   ]
  },
  {
   "cell_type": "code",
   "execution_count": null,
   "id": "1eeeb605",
   "metadata": {},
   "outputs": [],
   "source": [
    "# Topic: Basics\n",
    "name = 'Fahd'\n",
    "print(f'Hello, {name}')"
   ]
  },
  {
   "cell_type": "code",
   "execution_count": null,
   "id": "ef1c633c",
   "metadata": {},
   "outputs": [],
   "source": [
    "# Topic: OOP\n",
    "class Student:\n",
    "    def __init__(self, name): self.name = name\n",
    "s = Student('Fahd')\n",
    "print(s.name)"
   ]
  },
  {
   "cell_type": "code",
   "execution_count": null,
   "id": "2e72958b",
   "metadata": {},
   "outputs": [],
   "source": [
    "# Topic: File I/O\n",
    "with open('test.txt', 'r') as f:\n",
    "    print(f.read())"
   ]
  },
  {
   "cell_type": "code",
   "execution_count": null,
   "id": "20352b14",
   "metadata": {},
   "outputs": [],
   "source": [
    "# Topic: Recursion\n",
    "def fact(n): return 1 if n==0 else n*fact(n-1)\n",
    "print(fact(5))"
   ]
  },
  {
   "cell_type": "code",
   "execution_count": null,
   "id": "8ad1cc57",
   "metadata": {},
   "outputs": [],
   "source": [
    "# Topic: Regex\n",
    "import re\n",
    "text = 'email: test@example.com'\n",
    "print(re.findall(r'\\S+@\\S+', text))"
   ]
  },
  {
   "cell_type": "code",
   "execution_count": null,
   "id": "dfd0fab9",
   "metadata": {},
   "outputs": [],
   "source": [
    "# Topic: Loops\n",
    "for i in range(10): print(i*i)"
   ]
  },
  {
   "cell_type": "code",
   "execution_count": null,
   "id": "be2af047",
   "metadata": {},
   "outputs": [],
   "source": [
    "# Topic: OOP\n",
    "class Student:\n",
    "    def __init__(self, name): self.name = name\n",
    "s = Student('Fahd')\n",
    "print(s.name)"
   ]
  },
  {
   "cell_type": "code",
   "execution_count": null,
   "id": "5d1f9fe7",
   "metadata": {},
   "outputs": [],
   "source": [
    "# Topic: Loops\n",
    "for i in range(10): print(i*i)"
   ]
  },
  {
   "cell_type": "code",
   "execution_count": null,
   "id": "10bba55a",
   "metadata": {},
   "outputs": [],
   "source": [
    "# Topic: Matplotlib & Seaborn\n",
    "import seaborn as sns\n",
    "import pandas as pd\n",
    "sns.set()\n",
    "sns.histplot(pd.Series([1,2,2,3]));"
   ]
  },
  {
   "cell_type": "code",
   "execution_count": null,
   "id": "7976f629",
   "metadata": {},
   "outputs": [],
   "source": [
    "# Topic: Decorators\n",
    "def log(func):\n",
    " def wrapper():\n",
    "  print('Call')\n",
    "  func()\n",
    " return wrapper\n",
    "@log\n",
    "def say(): print('Hi')\n",
    "say()"
   ]
  },
  {
   "cell_type": "code",
   "execution_count": null,
   "id": "d9b35ddd",
   "metadata": {},
   "outputs": [],
   "source": [
    "# Topic: JSON & CSV\n",
    "import csv\n",
    "with open('file.csv', 'w', newline='') as f:\n",
    " csv.writer(f).writerow(['a','b','c'])"
   ]
  },
  {
   "cell_type": "code",
   "execution_count": null,
   "id": "b22ec624",
   "metadata": {},
   "outputs": [],
   "source": [
    "# Topic: Pandas\n",
    "import pandas as pd\n",
    "df = pd.DataFrame({'A':[1,2],'B':[3,4]})\n",
    "print(df)"
   ]
  },
  {
   "cell_type": "code",
   "execution_count": null,
   "id": "713637c7",
   "metadata": {},
   "outputs": [],
   "source": [
    "# Topic: Pandas\n",
    "import pandas as pd\n",
    "df = pd.read_csv('file.csv')\n",
    "print(df.head())"
   ]
  },
  {
   "cell_type": "code",
   "execution_count": null,
   "id": "b767bcf8",
   "metadata": {},
   "outputs": [],
   "source": [
    "# Topic: NumPy\n",
    "import numpy as np\n",
    "a = np.array([1, 2, 3])\n",
    "print(a + 5)"
   ]
  },
  {
   "cell_type": "code",
   "execution_count": null,
   "id": "aa29c3e9",
   "metadata": {},
   "outputs": [],
   "source": [
    "# Topic: OOP\n",
    "class Student:\n",
    "    def __init__(self, name): self.name = name\n",
    "s = Student('Fahd')\n",
    "print(s.name)"
   ]
  },
  {
   "cell_type": "code",
   "execution_count": null,
   "id": "2dbdb94a",
   "metadata": {},
   "outputs": [],
   "source": [
    "# Topic: Loops\n",
    "while True:\n",
    "    print('Break')\n",
    "    break"
   ]
  },
  {
   "cell_type": "code",
   "execution_count": null,
   "id": "8e3ede60",
   "metadata": {},
   "outputs": [],
   "source": [
    "# Topic: CLI Tools\n",
    "import sys\n",
    "print(f'Arguments: {sys.argv}')"
   ]
  },
  {
   "cell_type": "code",
   "execution_count": null,
   "id": "a4092b61",
   "metadata": {},
   "outputs": [],
   "source": [
    "# Topic: Functions\n",
    "def greet(name='User'):\n",
    "    print(f'Hi, {name}')\n",
    "greet()"
   ]
  },
  {
   "cell_type": "code",
   "execution_count": null,
   "id": "56853fa7",
   "metadata": {},
   "outputs": [],
   "source": [
    "# Topic: Decorators\n",
    "def log(func):\n",
    " def wrapper():\n",
    "  print('Call')\n",
    "  func()\n",
    " return wrapper\n",
    "@log\n",
    "def say(): print('Hi')\n",
    "say()"
   ]
  },
  {
   "cell_type": "code",
   "execution_count": null,
   "id": "6bc7686e",
   "metadata": {},
   "outputs": [],
   "source": [
    "# Topic: Lists & Tuples\n",
    "lst = [1, 2, 3]\n",
    "lst.append(4)\n",
    "print(lst)"
   ]
  },
  {
   "cell_type": "code",
   "execution_count": null,
   "id": "3d62e4d8",
   "metadata": {},
   "outputs": [],
   "source": [
    "# Topic: Data Cleaning\n",
    "import pandas as pd\n",
    "df = pd.DataFrame({'A':[1,None,3]})\n",
    "df = df.fillna(0)\n",
    "print(df)"
   ]
  },
  {
   "cell_type": "code",
   "execution_count": null,
   "id": "02f3280f",
   "metadata": {},
   "outputs": [],
   "source": [
    "# Topic: Matplotlib & Seaborn\n",
    "import seaborn as sns\n",
    "import pandas as pd\n",
    "sns.set()\n",
    "sns.histplot(pd.Series([1,2,2,3]));"
   ]
  },
  {
   "cell_type": "code",
   "execution_count": null,
   "id": "b263eecc",
   "metadata": {},
   "outputs": [],
   "source": [
    "# Topic: File I/O\n",
    "with open('test.txt', 'w') as f:\n",
    "    f.write('Hello World')"
   ]
  },
  {
   "cell_type": "code",
   "execution_count": null,
   "id": "25d4ce32",
   "metadata": {},
   "outputs": [],
   "source": [
    "# Topic: CLI Tools\n",
    "import sys\n",
    "print(f'Arguments: {sys.argv}')"
   ]
  },
  {
   "cell_type": "code",
   "execution_count": null,
   "id": "11e915bd",
   "metadata": {},
   "outputs": [],
   "source": [
    "# Topic: Lists & Tuples\n",
    "t = (1, 2, 3)\n",
    "print(t[0])"
   ]
  },
  {
   "cell_type": "code",
   "execution_count": null,
   "id": "512b676e",
   "metadata": {},
   "outputs": [],
   "source": [
    "# Topic: Regex\n",
    "import re\n",
    "text = 'email: test@example.com'\n",
    "print(re.findall(r'\\S+@\\S+', text))"
   ]
  },
  {
   "cell_type": "code",
   "execution_count": null,
   "id": "69078257",
   "metadata": {},
   "outputs": [],
   "source": [
    "# Topic: Algorithms\n",
    "# Bubble sort\n",
    "def bubble(arr):\n",
    " for i in range(len(arr)):\n",
    "  for j in range(0, len(arr)-i-1):\n",
    "   if arr[j]>arr[j+1]: arr[j],arr[j+1]=arr[j+1],arr[j]\n",
    "a=[5,3,8]\n",
    "bubble(a)\n",
    "print(a)"
   ]
  },
  {
   "cell_type": "code",
   "execution_count": null,
   "id": "227ab77e",
   "metadata": {},
   "outputs": [],
   "source": [
    "# Topic: JSON & CSV\n",
    "import json\n",
    "data = {'a': 1}\n",
    "print(json.dumps(data))"
   ]
  },
  {
   "cell_type": "code",
   "execution_count": null,
   "id": "23484176",
   "metadata": {},
   "outputs": [],
   "source": [
    "# Topic: Matplotlib & Seaborn\n",
    "import seaborn as sns\n",
    "import pandas as pd\n",
    "sns.set()\n",
    "sns.histplot(pd.Series([1,2,2,3]));"
   ]
  },
  {
   "cell_type": "code",
   "execution_count": null,
   "id": "803e555e",
   "metadata": {},
   "outputs": [],
   "source": [
    "# Topic: NumPy\n",
    "import numpy as np\n",
    "print(np.linspace(0, 1, 5))"
   ]
  },
  {
   "cell_type": "code",
   "execution_count": null,
   "id": "fd65ab41",
   "metadata": {},
   "outputs": [],
   "source": [
    "# Topic: OOP\n",
    "class Student:\n",
    "    def __init__(self, name): self.name = name\n",
    "s = Student('Fahd')\n",
    "print(s.name)"
   ]
  },
  {
   "cell_type": "code",
   "execution_count": null,
   "id": "6fc5f8a9",
   "metadata": {},
   "outputs": [],
   "source": [
    "# Topic: Algorithms\n",
    "# Bubble sort\n",
    "def bubble(arr):\n",
    " for i in range(len(arr)):\n",
    "  for j in range(0, len(arr)-i-1):\n",
    "   if arr[j]>arr[j+1]: arr[j],arr[j+1]=arr[j+1],arr[j]\n",
    "a=[5,3,8]\n",
    "bubble(a)\n",
    "print(a)"
   ]
  },
  {
   "cell_type": "code",
   "execution_count": null,
   "id": "8a82aacc",
   "metadata": {},
   "outputs": [],
   "source": [
    "# Topic: Decorators\n",
    "def log(func):\n",
    " def wrapper():\n",
    "  print('Call')\n",
    "  func()\n",
    " return wrapper\n",
    "@log\n",
    "def say(): print('Hi')\n",
    "say()"
   ]
  },
  {
   "cell_type": "code",
   "execution_count": null,
   "id": "d486aae4",
   "metadata": {},
   "outputs": [],
   "source": [
    "# Topic: Functions\n",
    "def greet(name='User'):\n",
    "    print(f'Hi, {name}')\n",
    "greet()"
   ]
  },
  {
   "cell_type": "code",
   "execution_count": null,
   "id": "db983783",
   "metadata": {},
   "outputs": [],
   "source": [
    "# Topic: Loops\n",
    "for i in range(10): print(i*i)"
   ]
  },
  {
   "cell_type": "code",
   "execution_count": null,
   "id": "5d2335e8",
   "metadata": {},
   "outputs": [],
   "source": [
    "# Topic: Loops\n",
    "while True:\n",
    "    print('Break')\n",
    "    break"
   ]
  },
  {
   "cell_type": "code",
   "execution_count": null,
   "id": "0256445d",
   "metadata": {},
   "outputs": [],
   "source": [
    "# Topic: Regex\n",
    "import re\n",
    "text = 'email: test@example.com'\n",
    "print(re.findall(r'\\S+@\\S+', text))"
   ]
  },
  {
   "cell_type": "code",
   "execution_count": null,
   "id": "ffed6004",
   "metadata": {},
   "outputs": [],
   "source": [
    "# Topic: Mini Projects\n",
    "# Calculator\n",
    "def calc(a,b,op): return eval(f'{a}{op}{b}')\n",
    "print(calc(5,2,'+'))"
   ]
  },
  {
   "cell_type": "code",
   "execution_count": null,
   "id": "3e3102f9",
   "metadata": {},
   "outputs": [],
   "source": [
    "# Topic: Decorators\n",
    "def log(func):\n",
    " def wrapper():\n",
    "  print('Call')\n",
    "  func()\n",
    " return wrapper\n",
    "@log\n",
    "def say(): print('Hi')\n",
    "say()"
   ]
  },
  {
   "cell_type": "code",
   "execution_count": null,
   "id": "3e678e66",
   "metadata": {},
   "outputs": [],
   "source": [
    "# Topic: Web Scraping\n",
    "import requests\n",
    "from bs4 import BeautifulSoup\n",
    "r = requests.get('https://example.com')\n",
    "soup = BeautifulSoup(r.text, 'html.parser')\n",
    "print(soup.title.text)"
   ]
  },
  {
   "cell_type": "code",
   "execution_count": null,
   "id": "8e5b1f93",
   "metadata": {},
   "outputs": [],
   "source": [
    "# Topic: Data Cleaning\n",
    "import pandas as pd\n",
    "df = pd.DataFrame({'A':[1,None,3]})\n",
    "df = df.fillna(0)\n",
    "print(df)"
   ]
  },
  {
   "cell_type": "code",
   "execution_count": null,
   "id": "df055e8c",
   "metadata": {},
   "outputs": [],
   "source": [
    "# Topic: Web Scraping\n",
    "import requests\n",
    "from bs4 import BeautifulSoup\n",
    "r = requests.get('https://example.com')\n",
    "soup = BeautifulSoup(r.text, 'html.parser')\n",
    "print(soup.title.text)"
   ]
  },
  {
   "cell_type": "code",
   "execution_count": null,
   "id": "72bb6e19",
   "metadata": {},
   "outputs": [],
   "source": [
    "# Topic: Web Scraping\n",
    "import requests\n",
    "from bs4 import BeautifulSoup\n",
    "r = requests.get('https://example.com')\n",
    "soup = BeautifulSoup(r.text, 'html.parser')\n",
    "print(soup.title.text)"
   ]
  },
  {
   "cell_type": "code",
   "execution_count": null,
   "id": "3095862b",
   "metadata": {},
   "outputs": [],
   "source": [
    "# Topic: Lists & Tuples\n",
    "t = (1, 2, 3)\n",
    "print(t[0])"
   ]
  },
  {
   "cell_type": "code",
   "execution_count": null,
   "id": "8c0ce1f0",
   "metadata": {},
   "outputs": [],
   "source": [
    "# Topic: Mini Projects\n",
    "# Calculator\n",
    "def calc(a,b,op): return eval(f'{a}{op}{b}')\n",
    "print(calc(5,2,'+'))"
   ]
  },
  {
   "cell_type": "code",
   "execution_count": null,
   "id": "e6ff77c0",
   "metadata": {},
   "outputs": [],
   "source": [
    "# Topic: Data Cleaning\n",
    "import pandas as pd\n",
    "df = pd.DataFrame({'A':[1,None,3]})\n",
    "df = df.fillna(0)\n",
    "print(df)"
   ]
  },
  {
   "cell_type": "code",
   "execution_count": null,
   "id": "9a97db1a",
   "metadata": {},
   "outputs": [],
   "source": [
    "# Topic: Web Scraping\n",
    "import requests\n",
    "from bs4 import BeautifulSoup\n",
    "r = requests.get('https://example.com')\n",
    "soup = BeautifulSoup(r.text, 'html.parser')\n",
    "print(soup.title.text)"
   ]
  },
  {
   "cell_type": "code",
   "execution_count": null,
   "id": "de49c1d2",
   "metadata": {},
   "outputs": [],
   "source": [
    "# Topic: File I/O\n",
    "with open('test.txt', 'r') as f:\n",
    "    print(f.read())"
   ]
  },
  {
   "cell_type": "code",
   "execution_count": null,
   "id": "ad92afde",
   "metadata": {},
   "outputs": [],
   "source": [
    "# Topic: OOP\n",
    "class Student:\n",
    "    def __init__(self, name): self.name = name\n",
    "s = Student('Fahd')\n",
    "print(s.name)"
   ]
  },
  {
   "cell_type": "code",
   "execution_count": null,
   "id": "8713b7ef",
   "metadata": {},
   "outputs": [],
   "source": [
    "# Topic: Matplotlib & Seaborn\n",
    "import matplotlib.pyplot as plt\n",
    "plt.plot([1,2],[3,4])\n",
    "plt.show()"
   ]
  },
  {
   "cell_type": "code",
   "execution_count": null,
   "id": "04a7c9ae",
   "metadata": {},
   "outputs": [],
   "source": [
    "# Topic: Data Cleaning\n",
    "import pandas as pd\n",
    "df = pd.DataFrame({'A':[1,None,3]})\n",
    "df = df.fillna(0)\n",
    "print(df)"
   ]
  },
  {
   "cell_type": "code",
   "execution_count": null,
   "id": "d93230e3",
   "metadata": {},
   "outputs": [],
   "source": [
    "# Topic: Functions\n",
    "def square(x): return x*x\n",
    "print(square(5))"
   ]
  },
  {
   "cell_type": "code",
   "execution_count": null,
   "id": "1c81797a",
   "metadata": {},
   "outputs": [],
   "source": [
    "# Topic: Mini Projects\n",
    "# Calculator\n",
    "def calc(a,b,op): return eval(f'{a}{op}{b}')\n",
    "print(calc(5,2,'+'))"
   ]
  },
  {
   "cell_type": "code",
   "execution_count": null,
   "id": "903d088e",
   "metadata": {},
   "outputs": [],
   "source": [
    "# Topic: Loops\n",
    "while True:\n",
    "    print('Break')\n",
    "    break"
   ]
  },
  {
   "cell_type": "code",
   "execution_count": null,
   "id": "15c7adf5",
   "metadata": {},
   "outputs": [],
   "source": [
    "# Topic: Functions\n",
    "def square(x): return x*x\n",
    "print(square(5))"
   ]
  },
  {
   "cell_type": "code",
   "execution_count": null,
   "id": "86fb42ee",
   "metadata": {},
   "outputs": [],
   "source": [
    "# Topic: Web Scraping\n",
    "import requests\n",
    "from bs4 import BeautifulSoup\n",
    "r = requests.get('https://example.com')\n",
    "soup = BeautifulSoup(r.text, 'html.parser')\n",
    "print(soup.title.text)"
   ]
  },
  {
   "cell_type": "code",
   "execution_count": null,
   "id": "142ee744",
   "metadata": {},
   "outputs": [],
   "source": [
    "# Topic: Dictionaries & Sets\n",
    "d = {'name': 'Fahd', 'age': 20}\n",
    "print(d.get('name'))"
   ]
  },
  {
   "cell_type": "code",
   "execution_count": null,
   "id": "d7e0c220",
   "metadata": {},
   "outputs": [],
   "source": [
    "# Topic: Lists & Tuples\n",
    "lst = [1, 2, 3]\n",
    "lst.append(4)\n",
    "print(lst)"
   ]
  },
  {
   "cell_type": "code",
   "execution_count": null,
   "id": "c43578a3",
   "metadata": {},
   "outputs": [],
   "source": [
    "# Topic: Loops\n",
    "while True:\n",
    "    print('Break')\n",
    "    break"
   ]
  },
  {
   "cell_type": "code",
   "execution_count": null,
   "id": "505e6936",
   "metadata": {},
   "outputs": [],
   "source": [
    "# Topic: Web Scraping\n",
    "import requests\n",
    "from bs4 import BeautifulSoup\n",
    "r = requests.get('https://example.com')\n",
    "soup = BeautifulSoup(r.text, 'html.parser')\n",
    "print(soup.title.text)"
   ]
  },
  {
   "cell_type": "code",
   "execution_count": null,
   "id": "614f452c",
   "metadata": {},
   "outputs": [],
   "source": [
    "# Topic: File I/O\n",
    "with open('test.txt', 'w') as f:\n",
    "    f.write('Hello World')"
   ]
  },
  {
   "cell_type": "code",
   "execution_count": null,
   "id": "6b9857ef",
   "metadata": {},
   "outputs": [],
   "source": [
    "# Topic: Dictionaries & Sets\n",
    "s = set([1, 2, 3, 2])\n",
    "print(s)"
   ]
  },
  {
   "cell_type": "code",
   "execution_count": null,
   "id": "f2d2984b",
   "metadata": {},
   "outputs": [],
   "source": [
    "# Topic: Basics\n",
    "name = 'Fahd'\n",
    "print(f'Hello, {name}')"
   ]
  },
  {
   "cell_type": "code",
   "execution_count": null,
   "id": "1499cafd",
   "metadata": {},
   "outputs": [],
   "source": [
    "# Topic: Basics\n",
    "name = 'Fahd'\n",
    "print(f'Hello, {name}')"
   ]
  },
  {
   "cell_type": "code",
   "execution_count": null,
   "id": "1a5736f8",
   "metadata": {},
   "outputs": [],
   "source": [
    "# Topic: Lists & Tuples\n",
    "lst = [1, 2, 3]\n",
    "lst.append(4)\n",
    "print(lst)"
   ]
  },
  {
   "cell_type": "code",
   "execution_count": null,
   "id": "a30564a5",
   "metadata": {},
   "outputs": [],
   "source": [
    "# Topic: OOP\n",
    "class Student:\n",
    "    def __init__(self, name): self.name = name\n",
    "s = Student('Fahd')\n",
    "print(s.name)"
   ]
  },
  {
   "cell_type": "code",
   "execution_count": null,
   "id": "dd67cd0d",
   "metadata": {},
   "outputs": [],
   "source": [
    "# Topic: Mini Projects\n",
    "# Calculator\n",
    "def calc(a,b,op): return eval(f'{a}{op}{b}')\n",
    "print(calc(5,2,'+'))"
   ]
  },
  {
   "cell_type": "code",
   "execution_count": null,
   "id": "2242d1bc",
   "metadata": {},
   "outputs": [],
   "source": [
    "# Topic: JSON & CSV\n",
    "import csv\n",
    "with open('file.csv', 'w', newline='') as f:\n",
    " csv.writer(f).writerow(['a','b','c'])"
   ]
  },
  {
   "cell_type": "code",
   "execution_count": null,
   "id": "72976691",
   "metadata": {},
   "outputs": [],
   "source": [
    "# Topic: NumPy\n",
    "import numpy as np\n",
    "a = np.array([1, 2, 3])\n",
    "print(a + 5)"
   ]
  },
  {
   "cell_type": "code",
   "execution_count": null,
   "id": "172b60d5",
   "metadata": {},
   "outputs": [],
   "source": [
    "# Topic: Lists & Tuples\n",
    "lst = [1, 2, 3]\n",
    "lst.append(4)\n",
    "print(lst)"
   ]
  },
  {
   "cell_type": "code",
   "execution_count": null,
   "id": "e1e9acd8",
   "metadata": {},
   "outputs": [],
   "source": [
    "# Topic: Recursion\n",
    "def fact(n): return 1 if n==0 else n*fact(n-1)\n",
    "print(fact(5))"
   ]
  },
  {
   "cell_type": "code",
   "execution_count": null,
   "id": "5b4ae170",
   "metadata": {},
   "outputs": [],
   "source": [
    "# Topic: File I/O\n",
    "with open('test.txt', 'w') as f:\n",
    "    f.write('Hello World')"
   ]
  },
  {
   "cell_type": "code",
   "execution_count": null,
   "id": "acbac07c",
   "metadata": {},
   "outputs": [],
   "source": [
    "# Topic: Recursion\n",
    "def fact(n): return 1 if n==0 else n*fact(n-1)\n",
    "print(fact(5))"
   ]
  },
  {
   "cell_type": "code",
   "execution_count": null,
   "id": "a3b9072f",
   "metadata": {},
   "outputs": [],
   "source": [
    "# Topic: OOP\n",
    "class Student:\n",
    "    def __init__(self, name): self.name = name\n",
    "s = Student('Fahd')\n",
    "print(s.name)"
   ]
  },
  {
   "cell_type": "code",
   "execution_count": null,
   "id": "1bca8b98",
   "metadata": {},
   "outputs": [],
   "source": [
    "# Topic: CLI Tools\n",
    "import sys\n",
    "print(f'Arguments: {sys.argv}')"
   ]
  },
  {
   "cell_type": "code",
   "execution_count": null,
   "id": "18ca9df2",
   "metadata": {},
   "outputs": [],
   "source": [
    "# Topic: Basics\n",
    "x = 10\n",
    "y = 20\n",
    "print(x + y)"
   ]
  },
  {
   "cell_type": "code",
   "execution_count": null,
   "id": "93d772a6",
   "metadata": {},
   "outputs": [],
   "source": [
    "# Topic: Mini Projects\n",
    "# Calculator\n",
    "def calc(a,b,op): return eval(f'{a}{op}{b}')\n",
    "print(calc(5,2,'+'))"
   ]
  },
  {
   "cell_type": "code",
   "execution_count": null,
   "id": "7dee6762",
   "metadata": {},
   "outputs": [],
   "source": [
    "# Topic: Dictionaries & Sets\n",
    "s = set([1, 2, 3, 2])\n",
    "print(s)"
   ]
  },
  {
   "cell_type": "code",
   "execution_count": null,
   "id": "0cfb9a71",
   "metadata": {},
   "outputs": [],
   "source": [
    "# Topic: Mini Projects\n",
    "# Palindrome check\n",
    "def is_pal(s): return s == s[::-1]\n",
    "print(is_pal('madam'))"
   ]
  },
  {
   "cell_type": "code",
   "execution_count": null,
   "id": "0f634c3e",
   "metadata": {},
   "outputs": [],
   "source": [
    "# Topic: Decorators\n",
    "def log(func):\n",
    " def wrapper():\n",
    "  print('Call')\n",
    "  func()\n",
    " return wrapper\n",
    "@log\n",
    "def say(): print('Hi')\n",
    "say()"
   ]
  },
  {
   "cell_type": "code",
   "execution_count": null,
   "id": "9166aabc",
   "metadata": {},
   "outputs": [],
   "source": [
    "# Topic: Pandas\n",
    "import pandas as pd\n",
    "df = pd.read_csv('file.csv')\n",
    "print(df.head())"
   ]
  },
  {
   "cell_type": "code",
   "execution_count": null,
   "id": "c016f6ba",
   "metadata": {},
   "outputs": [],
   "source": [
    "# Topic: Pandas\n",
    "import pandas as pd\n",
    "df = pd.read_csv('file.csv')\n",
    "print(df.head())"
   ]
  },
  {
   "cell_type": "code",
   "execution_count": null,
   "id": "4b5b4f35",
   "metadata": {},
   "outputs": [],
   "source": [
    "# Topic: File I/O\n",
    "with open('test.txt', 'w') as f:\n",
    "    f.write('Hello World')"
   ]
  },
  {
   "cell_type": "code",
   "execution_count": null,
   "id": "a4a8b6ca",
   "metadata": {},
   "outputs": [],
   "source": [
    "# Topic: OOP\n",
    "class Student:\n",
    "    def __init__(self, name): self.name = name\n",
    "s = Student('Fahd')\n",
    "print(s.name)"
   ]
  },
  {
   "cell_type": "code",
   "execution_count": null,
   "id": "6fc3edea",
   "metadata": {},
   "outputs": [],
   "source": [
    "# Topic: Web Scraping\n",
    "import requests\n",
    "from bs4 import BeautifulSoup\n",
    "r = requests.get('https://example.com')\n",
    "soup = BeautifulSoup(r.text, 'html.parser')\n",
    "print(soup.title.text)"
   ]
  },
  {
   "cell_type": "code",
   "execution_count": null,
   "id": "5445154f",
   "metadata": {},
   "outputs": [],
   "source": [
    "# Topic: Lists & Tuples\n",
    "lst = [1, 2, 3]\n",
    "lst.append(4)\n",
    "print(lst)"
   ]
  },
  {
   "cell_type": "code",
   "execution_count": null,
   "id": "b358ea9e",
   "metadata": {},
   "outputs": [],
   "source": [
    "# Topic: Web Scraping\n",
    "import requests\n",
    "from bs4 import BeautifulSoup\n",
    "r = requests.get('https://example.com')\n",
    "soup = BeautifulSoup(r.text, 'html.parser')\n",
    "print(soup.title.text)"
   ]
  },
  {
   "cell_type": "code",
   "execution_count": null,
   "id": "344a3f67",
   "metadata": {},
   "outputs": [],
   "source": [
    "# Topic: CLI Tools\n",
    "import sys\n",
    "print(f'Arguments: {sys.argv}')"
   ]
  },
  {
   "cell_type": "code",
   "execution_count": null,
   "id": "e4df03dc",
   "metadata": {},
   "outputs": [],
   "source": [
    "# Topic: Algorithms\n",
    "# Bubble sort\n",
    "def bubble(arr):\n",
    " for i in range(len(arr)):\n",
    "  for j in range(0, len(arr)-i-1):\n",
    "   if arr[j]>arr[j+1]: arr[j],arr[j+1]=arr[j+1],arr[j]\n",
    "a=[5,3,8]\n",
    "bubble(a)\n",
    "print(a)"
   ]
  },
  {
   "cell_type": "code",
   "execution_count": null,
   "id": "0b84dde6",
   "metadata": {},
   "outputs": [],
   "source": [
    "# Topic: Dictionaries & Sets\n",
    "s = set([1, 2, 3, 2])\n",
    "print(s)"
   ]
  },
  {
   "cell_type": "code",
   "execution_count": null,
   "id": "e415efd2",
   "metadata": {},
   "outputs": [],
   "source": [
    "# Topic: Matplotlib & Seaborn\n",
    "import matplotlib.pyplot as plt\n",
    "plt.plot([1,2],[3,4])\n",
    "plt.show()"
   ]
  },
  {
   "cell_type": "code",
   "execution_count": null,
   "id": "6f113174",
   "metadata": {},
   "outputs": [],
   "source": [
    "# Topic: JSON & CSV\n",
    "import json\n",
    "data = {'a': 1}\n",
    "print(json.dumps(data))"
   ]
  },
  {
   "cell_type": "code",
   "execution_count": null,
   "id": "3eeecde7",
   "metadata": {},
   "outputs": [],
   "source": [
    "# Topic: Functions\n",
    "def square(x): return x*x\n",
    "print(square(5))"
   ]
  },
  {
   "cell_type": "code",
   "execution_count": null,
   "id": "43b5d12b",
   "metadata": {},
   "outputs": [],
   "source": [
    "# Topic: Loops\n",
    "for i in range(10): print(i*i)"
   ]
  },
  {
   "cell_type": "code",
   "execution_count": null,
   "id": "d5008d97",
   "metadata": {},
   "outputs": [],
   "source": [
    "# Topic: OOP\n",
    "class Student:\n",
    "    def __init__(self, name): self.name = name\n",
    "s = Student('Fahd')\n",
    "print(s.name)"
   ]
  },
  {
   "cell_type": "code",
   "execution_count": null,
   "id": "1844d503",
   "metadata": {},
   "outputs": [],
   "source": [
    "# Topic: Data Cleaning\n",
    "import pandas as pd\n",
    "df = pd.DataFrame({'A':[1,None,3]})\n",
    "df = df.fillna(0)\n",
    "print(df)"
   ]
  },
  {
   "cell_type": "code",
   "execution_count": null,
   "id": "93b926eb",
   "metadata": {},
   "outputs": [],
   "source": [
    "# Topic: File I/O\n",
    "with open('test.txt', 'w') as f:\n",
    "    f.write('Hello World')"
   ]
  },
  {
   "cell_type": "code",
   "execution_count": null,
   "id": "40fe05f4",
   "metadata": {},
   "outputs": [],
   "source": [
    "# Topic: Lists & Tuples\n",
    "t = (1, 2, 3)\n",
    "print(t[0])"
   ]
  },
  {
   "cell_type": "code",
   "execution_count": null,
   "id": "c1dbd9ce",
   "metadata": {},
   "outputs": [],
   "source": [
    "# Topic: Recursion\n",
    "def fact(n): return 1 if n==0 else n*fact(n-1)\n",
    "print(fact(5))"
   ]
  },
  {
   "cell_type": "code",
   "execution_count": null,
   "id": "ba0f8ebc",
   "metadata": {},
   "outputs": [],
   "source": [
    "# Topic: Functions\n",
    "def square(x): return x*x\n",
    "print(square(5))"
   ]
  },
  {
   "cell_type": "code",
   "execution_count": null,
   "id": "96e371b3",
   "metadata": {},
   "outputs": [],
   "source": [
    "# Topic: Data Cleaning\n",
    "import pandas as pd\n",
    "df = pd.DataFrame({'A':[1,None,3]})\n",
    "df = df.fillna(0)\n",
    "print(df)"
   ]
  },
  {
   "cell_type": "code",
   "execution_count": null,
   "id": "30998ef8",
   "metadata": {},
   "outputs": [],
   "source": [
    "# Topic: Regex\n",
    "import re\n",
    "text = 'email: test@example.com'\n",
    "print(re.findall(r'\\S+@\\S+', text))"
   ]
  },
  {
   "cell_type": "code",
   "execution_count": null,
   "id": "dcfb2891",
   "metadata": {},
   "outputs": [],
   "source": [
    "# Topic: JSON & CSV\n",
    "import json\n",
    "data = {'a': 1}\n",
    "print(json.dumps(data))"
   ]
  },
  {
   "cell_type": "code",
   "execution_count": null,
   "id": "9260bebc",
   "metadata": {},
   "outputs": [],
   "source": [
    "# Topic: OOP\n",
    "class Student:\n",
    "    def __init__(self, name): self.name = name\n",
    "s = Student('Fahd')\n",
    "print(s.name)"
   ]
  },
  {
   "cell_type": "code",
   "execution_count": null,
   "id": "ba779e5d",
   "metadata": {},
   "outputs": [],
   "source": [
    "# Topic: Dictionaries & Sets\n",
    "s = set([1, 2, 3, 2])\n",
    "print(s)"
   ]
  },
  {
   "cell_type": "code",
   "execution_count": null,
   "id": "37a3969e",
   "metadata": {},
   "outputs": [],
   "source": [
    "# Topic: Mini Projects\n",
    "# Palindrome check\n",
    "def is_pal(s): return s == s[::-1]\n",
    "print(is_pal('madam'))"
   ]
  },
  {
   "cell_type": "code",
   "execution_count": null,
   "id": "947065b4",
   "metadata": {},
   "outputs": [],
   "source": [
    "# Topic: File I/O\n",
    "with open('test.txt', 'r') as f:\n",
    "    print(f.read())"
   ]
  },
  {
   "cell_type": "code",
   "execution_count": null,
   "id": "97b9b01e",
   "metadata": {},
   "outputs": [],
   "source": [
    "# Topic: Basics\n",
    "name = 'Fahd'\n",
    "print(f'Hello, {name}')"
   ]
  },
  {
   "cell_type": "code",
   "execution_count": null,
   "id": "fd4dc592",
   "metadata": {},
   "outputs": [],
   "source": [
    "# Topic: Matplotlib & Seaborn\n",
    "import matplotlib.pyplot as plt\n",
    "plt.plot([1,2],[3,4])\n",
    "plt.show()"
   ]
  },
  {
   "cell_type": "code",
   "execution_count": null,
   "id": "cfb6c5e0",
   "metadata": {},
   "outputs": [],
   "source": [
    "# Topic: NumPy\n",
    "import numpy as np\n",
    "a = np.array([1, 2, 3])\n",
    "print(a + 5)"
   ]
  },
  {
   "cell_type": "code",
   "execution_count": null,
   "id": "2308d0af",
   "metadata": {},
   "outputs": [],
   "source": [
    "# Topic: NumPy\n",
    "import numpy as np\n",
    "print(np.linspace(0, 1, 5))"
   ]
  },
  {
   "cell_type": "code",
   "execution_count": null,
   "id": "13f267dd",
   "metadata": {},
   "outputs": [],
   "source": [
    "# Topic: Regex\n",
    "import re\n",
    "text = 'email: test@example.com'\n",
    "print(re.findall(r'\\S+@\\S+', text))"
   ]
  },
  {
   "cell_type": "code",
   "execution_count": null,
   "id": "b8e6359f",
   "metadata": {},
   "outputs": [],
   "source": [
    "# Topic: Matplotlib & Seaborn\n",
    "import seaborn as sns\n",
    "import pandas as pd\n",
    "sns.set()\n",
    "sns.histplot(pd.Series([1,2,2,3]));"
   ]
  },
  {
   "cell_type": "code",
   "execution_count": null,
   "id": "1927cc6a",
   "metadata": {},
   "outputs": [],
   "source": [
    "# Topic: Matplotlib & Seaborn\n",
    "import matplotlib.pyplot as plt\n",
    "plt.plot([1,2],[3,4])\n",
    "plt.show()"
   ]
  },
  {
   "cell_type": "code",
   "execution_count": null,
   "id": "b6b9ecb7",
   "metadata": {},
   "outputs": [],
   "source": [
    "# Topic: JSON & CSV\n",
    "import csv\n",
    "with open('file.csv', 'w', newline='') as f:\n",
    " csv.writer(f).writerow(['a','b','c'])"
   ]
  },
  {
   "cell_type": "code",
   "execution_count": null,
   "id": "2ceafaae",
   "metadata": {},
   "outputs": [],
   "source": [
    "# Topic: Web Scraping\n",
    "import requests\n",
    "from bs4 import BeautifulSoup\n",
    "r = requests.get('https://example.com')\n",
    "soup = BeautifulSoup(r.text, 'html.parser')\n",
    "print(soup.title.text)"
   ]
  },
  {
   "cell_type": "code",
   "execution_count": null,
   "id": "3b27bd25",
   "metadata": {},
   "outputs": [],
   "source": [
    "# Topic: OOP\n",
    "class Student:\n",
    "    def __init__(self, name): self.name = name\n",
    "s = Student('Fahd')\n",
    "print(s.name)"
   ]
  },
  {
   "cell_type": "code",
   "execution_count": null,
   "id": "24be7bc1",
   "metadata": {},
   "outputs": [],
   "source": [
    "# Topic: CLI Tools\n",
    "import sys\n",
    "print(f'Arguments: {sys.argv}')"
   ]
  },
  {
   "cell_type": "code",
   "execution_count": null,
   "id": "bf38c26e",
   "metadata": {},
   "outputs": [],
   "source": [
    "# Topic: Regex\n",
    "import re\n",
    "text = 'email: test@example.com'\n",
    "print(re.findall(r'\\S+@\\S+', text))"
   ]
  },
  {
   "cell_type": "code",
   "execution_count": null,
   "id": "8194a6ca",
   "metadata": {},
   "outputs": [],
   "source": [
    "# Topic: CLI Tools\n",
    "import sys\n",
    "print(f'Arguments: {sys.argv}')"
   ]
  },
  {
   "cell_type": "code",
   "execution_count": null,
   "id": "153ea52e",
   "metadata": {},
   "outputs": [],
   "source": [
    "# Topic: JSON & CSV\n",
    "import json\n",
    "data = {'a': 1}\n",
    "print(json.dumps(data))"
   ]
  },
  {
   "cell_type": "code",
   "execution_count": null,
   "id": "bc064438",
   "metadata": {},
   "outputs": [],
   "source": [
    "# Topic: NumPy\n",
    "import numpy as np\n",
    "a = np.array([1, 2, 3])\n",
    "print(a + 5)"
   ]
  },
  {
   "cell_type": "code",
   "execution_count": null,
   "id": "70aa97af",
   "metadata": {},
   "outputs": [],
   "source": [
    "# Topic: JSON & CSV\n",
    "import json\n",
    "data = {'a': 1}\n",
    "print(json.dumps(data))"
   ]
  },
  {
   "cell_type": "code",
   "execution_count": null,
   "id": "8bfa94c9",
   "metadata": {},
   "outputs": [],
   "source": [
    "# Topic: Pandas\n",
    "import pandas as pd\n",
    "df = pd.DataFrame({'A':[1,2],'B':[3,4]})\n",
    "print(df)"
   ]
  },
  {
   "cell_type": "code",
   "execution_count": null,
   "id": "31582fd4",
   "metadata": {},
   "outputs": [],
   "source": [
    "# Topic: Functions\n",
    "def greet(name='User'):\n",
    "    print(f'Hi, {name}')\n",
    "greet()"
   ]
  },
  {
   "cell_type": "code",
   "execution_count": null,
   "id": "e42567b5",
   "metadata": {},
   "outputs": [],
   "source": [
    "# Topic: File I/O\n",
    "with open('test.txt', 'w') as f:\n",
    "    f.write('Hello World')"
   ]
  },
  {
   "cell_type": "code",
   "execution_count": null,
   "id": "d3d819c7",
   "metadata": {},
   "outputs": [],
   "source": [
    "# Topic: File I/O\n",
    "with open('test.txt', 'w') as f:\n",
    "    f.write('Hello World')"
   ]
  },
  {
   "cell_type": "code",
   "execution_count": null,
   "id": "e3fc020d",
   "metadata": {},
   "outputs": [],
   "source": [
    "# Topic: Algorithms\n",
    "# Bubble sort\n",
    "def bubble(arr):\n",
    " for i in range(len(arr)):\n",
    "  for j in range(0, len(arr)-i-1):\n",
    "   if arr[j]>arr[j+1]: arr[j],arr[j+1]=arr[j+1],arr[j]\n",
    "a=[5,3,8]\n",
    "bubble(a)\n",
    "print(a)"
   ]
  },
  {
   "cell_type": "code",
   "execution_count": null,
   "id": "3eb730e3",
   "metadata": {},
   "outputs": [],
   "source": [
    "# Topic: Matplotlib & Seaborn\n",
    "import seaborn as sns\n",
    "import pandas as pd\n",
    "sns.set()\n",
    "sns.histplot(pd.Series([1,2,2,3]));"
   ]
  },
  {
   "cell_type": "code",
   "execution_count": null,
   "id": "12d687a0",
   "metadata": {},
   "outputs": [],
   "source": [
    "# Topic: Decorators\n",
    "def log(func):\n",
    " def wrapper():\n",
    "  print('Call')\n",
    "  func()\n",
    " return wrapper\n",
    "@log\n",
    "def say(): print('Hi')\n",
    "say()"
   ]
  },
  {
   "cell_type": "code",
   "execution_count": null,
   "id": "841fee16",
   "metadata": {},
   "outputs": [],
   "source": [
    "# Topic: Functions\n",
    "def greet(name='User'):\n",
    "    print(f'Hi, {name}')\n",
    "greet()"
   ]
  },
  {
   "cell_type": "code",
   "execution_count": null,
   "id": "e9c68530",
   "metadata": {},
   "outputs": [],
   "source": [
    "# Topic: CLI Tools\n",
    "import sys\n",
    "print(f'Arguments: {sys.argv}')"
   ]
  },
  {
   "cell_type": "code",
   "execution_count": null,
   "id": "3ab0641b",
   "metadata": {},
   "outputs": [],
   "source": [
    "# Topic: OOP\n",
    "class Student:\n",
    "    def __init__(self, name): self.name = name\n",
    "s = Student('Fahd')\n",
    "print(s.name)"
   ]
  },
  {
   "cell_type": "code",
   "execution_count": null,
   "id": "9f449877",
   "metadata": {},
   "outputs": [],
   "source": [
    "# Topic: Pandas\n",
    "import pandas as pd\n",
    "df = pd.read_csv('file.csv')\n",
    "print(df.head())"
   ]
  },
  {
   "cell_type": "code",
   "execution_count": null,
   "id": "16f26133",
   "metadata": {},
   "outputs": [],
   "source": [
    "# Topic: Loops\n",
    "for i in range(10): print(i*i)"
   ]
  },
  {
   "cell_type": "code",
   "execution_count": null,
   "id": "3ef4da9a",
   "metadata": {},
   "outputs": [],
   "source": [
    "# Topic: Basic ML\n",
    "from sklearn.linear_model import LinearRegression\n",
    "model = LinearRegression()\n",
    "print(model)"
   ]
  },
  {
   "cell_type": "code",
   "execution_count": null,
   "id": "53b45928",
   "metadata": {},
   "outputs": [],
   "source": [
    "# Topic: Basics\n",
    "x = 10\n",
    "y = 20\n",
    "print(x + y)"
   ]
  },
  {
   "cell_type": "code",
   "execution_count": null,
   "id": "6dcea24c",
   "metadata": {},
   "outputs": [],
   "source": [
    "# Topic: Regex\n",
    "import re\n",
    "text = 'email: test@example.com'\n",
    "print(re.findall(r'\\S+@\\S+', text))"
   ]
  },
  {
   "cell_type": "code",
   "execution_count": null,
   "id": "e64ef863",
   "metadata": {},
   "outputs": [],
   "source": [
    "# Topic: Data Cleaning\n",
    "import pandas as pd\n",
    "df = pd.DataFrame({'A':[1,None,3]})\n",
    "df = df.fillna(0)\n",
    "print(df)"
   ]
  },
  {
   "cell_type": "code",
   "execution_count": null,
   "id": "ce15d76d",
   "metadata": {},
   "outputs": [],
   "source": [
    "# Topic: Data Cleaning\n",
    "import pandas as pd\n",
    "df = pd.DataFrame({'A':[1,None,3]})\n",
    "df = df.fillna(0)\n",
    "print(df)"
   ]
  },
  {
   "cell_type": "code",
   "execution_count": null,
   "id": "9a5a7893",
   "metadata": {},
   "outputs": [],
   "source": [
    "# Topic: Web Scraping\n",
    "import requests\n",
    "from bs4 import BeautifulSoup\n",
    "r = requests.get('https://example.com')\n",
    "soup = BeautifulSoup(r.text, 'html.parser')\n",
    "print(soup.title.text)"
   ]
  },
  {
   "cell_type": "code",
   "execution_count": null,
   "id": "23c968eb",
   "metadata": {},
   "outputs": [],
   "source": [
    "# Topic: Lists & Tuples\n",
    "lst = [1, 2, 3]\n",
    "lst.append(4)\n",
    "print(lst)"
   ]
  },
  {
   "cell_type": "code",
   "execution_count": null,
   "id": "5f042f86",
   "metadata": {},
   "outputs": [],
   "source": [
    "# Topic: Algorithms\n",
    "# Bubble sort\n",
    "def bubble(arr):\n",
    " for i in range(len(arr)):\n",
    "  for j in range(0, len(arr)-i-1):\n",
    "   if arr[j]>arr[j+1]: arr[j],arr[j+1]=arr[j+1],arr[j]\n",
    "a=[5,3,8]\n",
    "bubble(a)\n",
    "print(a)"
   ]
  },
  {
   "cell_type": "code",
   "execution_count": null,
   "id": "b36b71ce",
   "metadata": {},
   "outputs": [],
   "source": [
    "# Topic: NumPy\n",
    "import numpy as np\n",
    "a = np.array([1, 2, 3])\n",
    "print(a + 5)"
   ]
  },
  {
   "cell_type": "code",
   "execution_count": null,
   "id": "c2f2596d",
   "metadata": {},
   "outputs": [],
   "source": [
    "# Topic: File I/O\n",
    "with open('test.txt', 'r') as f:\n",
    "    print(f.read())"
   ]
  },
  {
   "cell_type": "code",
   "execution_count": null,
   "id": "bf31cce1",
   "metadata": {},
   "outputs": [],
   "source": [
    "# Topic: Mini Projects\n",
    "# Palindrome check\n",
    "def is_pal(s): return s == s[::-1]\n",
    "print(is_pal('madam'))"
   ]
  },
  {
   "cell_type": "code",
   "execution_count": null,
   "id": "67b711aa",
   "metadata": {},
   "outputs": [],
   "source": [
    "# Topic: Decorators\n",
    "def log(func):\n",
    " def wrapper():\n",
    "  print('Call')\n",
    "  func()\n",
    " return wrapper\n",
    "@log\n",
    "def say(): print('Hi')\n",
    "say()"
   ]
  },
  {
   "cell_type": "code",
   "execution_count": null,
   "id": "97f78f00",
   "metadata": {},
   "outputs": [],
   "source": [
    "# Topic: JSON & CSV\n",
    "import json\n",
    "data = {'a': 1}\n",
    "print(json.dumps(data))"
   ]
  },
  {
   "cell_type": "code",
   "execution_count": null,
   "id": "bdd5769f",
   "metadata": {},
   "outputs": [],
   "source": [
    "# Topic: Basics\n",
    "name = 'Fahd'\n",
    "print(f'Hello, {name}')"
   ]
  },
  {
   "cell_type": "code",
   "execution_count": null,
   "id": "13012bf5",
   "metadata": {},
   "outputs": [],
   "source": [
    "# Topic: Algorithms\n",
    "# Bubble sort\n",
    "def bubble(arr):\n",
    " for i in range(len(arr)):\n",
    "  for j in range(0, len(arr)-i-1):\n",
    "   if arr[j]>arr[j+1]: arr[j],arr[j+1]=arr[j+1],arr[j]\n",
    "a=[5,3,8]\n",
    "bubble(a)\n",
    "print(a)"
   ]
  },
  {
   "cell_type": "code",
   "execution_count": null,
   "id": "b8d04cd3",
   "metadata": {},
   "outputs": [],
   "source": [
    "# Topic: Loops\n",
    "for i in range(10): print(i*i)"
   ]
  },
  {
   "cell_type": "code",
   "execution_count": null,
   "id": "15fb2f81",
   "metadata": {},
   "outputs": [],
   "source": [
    "# Topic: Mini Projects\n",
    "# Calculator\n",
    "def calc(a,b,op): return eval(f'{a}{op}{b}')\n",
    "print(calc(5,2,'+'))"
   ]
  },
  {
   "cell_type": "code",
   "execution_count": null,
   "id": "fc06d44c",
   "metadata": {},
   "outputs": [],
   "source": [
    "# Topic: Web Scraping\n",
    "import requests\n",
    "from bs4 import BeautifulSoup\n",
    "r = requests.get('https://example.com')\n",
    "soup = BeautifulSoup(r.text, 'html.parser')\n",
    "print(soup.title.text)"
   ]
  },
  {
   "cell_type": "code",
   "execution_count": null,
   "id": "05b77768",
   "metadata": {},
   "outputs": [],
   "source": [
    "# Topic: Algorithms\n",
    "# Bubble sort\n",
    "def bubble(arr):\n",
    " for i in range(len(arr)):\n",
    "  for j in range(0, len(arr)-i-1):\n",
    "   if arr[j]>arr[j+1]: arr[j],arr[j+1]=arr[j+1],arr[j]\n",
    "a=[5,3,8]\n",
    "bubble(a)\n",
    "print(a)"
   ]
  },
  {
   "cell_type": "code",
   "execution_count": null,
   "id": "c684e9f6",
   "metadata": {},
   "outputs": [],
   "source": [
    "# Topic: Lists & Tuples\n",
    "t = (1, 2, 3)\n",
    "print(t[0])"
   ]
  },
  {
   "cell_type": "code",
   "execution_count": null,
   "id": "d372e282",
   "metadata": {},
   "outputs": [],
   "source": [
    "# Topic: NumPy\n",
    "import numpy as np\n",
    "print(np.linspace(0, 1, 5))"
   ]
  },
  {
   "cell_type": "code",
   "execution_count": null,
   "id": "f9eb0d94",
   "metadata": {},
   "outputs": [],
   "source": [
    "# Topic: OOP\n",
    "class Student:\n",
    "    def __init__(self, name): self.name = name\n",
    "s = Student('Fahd')\n",
    "print(s.name)"
   ]
  },
  {
   "cell_type": "code",
   "execution_count": null,
   "id": "b69154ed",
   "metadata": {},
   "outputs": [],
   "source": [
    "# Topic: CLI Tools\n",
    "import sys\n",
    "print(f'Arguments: {sys.argv}')"
   ]
  },
  {
   "cell_type": "code",
   "execution_count": null,
   "id": "64deb90f",
   "metadata": {},
   "outputs": [],
   "source": [
    "# Topic: Mini Projects\n",
    "# Calculator\n",
    "def calc(a,b,op): return eval(f'{a}{op}{b}')\n",
    "print(calc(5,2,'+'))"
   ]
  },
  {
   "cell_type": "code",
   "execution_count": null,
   "id": "4fdc8894",
   "metadata": {},
   "outputs": [],
   "source": [
    "# Topic: Algorithms\n",
    "# Bubble sort\n",
    "def bubble(arr):\n",
    " for i in range(len(arr)):\n",
    "  for j in range(0, len(arr)-i-1):\n",
    "   if arr[j]>arr[j+1]: arr[j],arr[j+1]=arr[j+1],arr[j]\n",
    "a=[5,3,8]\n",
    "bubble(a)\n",
    "print(a)"
   ]
  },
  {
   "cell_type": "code",
   "execution_count": null,
   "id": "cbd34a6c",
   "metadata": {},
   "outputs": [],
   "source": [
    "# Topic: Mini Projects\n",
    "# Calculator\n",
    "def calc(a,b,op): return eval(f'{a}{op}{b}')\n",
    "print(calc(5,2,'+'))"
   ]
  },
  {
   "cell_type": "code",
   "execution_count": null,
   "id": "597d2a26",
   "metadata": {},
   "outputs": [],
   "source": [
    "# Topic: NumPy\n",
    "import numpy as np\n",
    "print(np.linspace(0, 1, 5))"
   ]
  },
  {
   "cell_type": "code",
   "execution_count": null,
   "id": "4f6311be",
   "metadata": {},
   "outputs": [],
   "source": [
    "# Topic: Regex\n",
    "import re\n",
    "text = 'email: test@example.com'\n",
    "print(re.findall(r'\\S+@\\S+', text))"
   ]
  },
  {
   "cell_type": "code",
   "execution_count": null,
   "id": "6b27c755",
   "metadata": {},
   "outputs": [],
   "source": [
    "# Topic: Basics\n",
    "name = 'Fahd'\n",
    "print(f'Hello, {name}')"
   ]
  },
  {
   "cell_type": "code",
   "execution_count": null,
   "id": "845501cd",
   "metadata": {},
   "outputs": [],
   "source": [
    "# Topic: Lists & Tuples\n",
    "t = (1, 2, 3)\n",
    "print(t[0])"
   ]
  },
  {
   "cell_type": "code",
   "execution_count": null,
   "id": "37abb4e8",
   "metadata": {},
   "outputs": [],
   "source": [
    "# Topic: Regex\n",
    "import re\n",
    "text = 'email: test@example.com'\n",
    "print(re.findall(r'\\S+@\\S+', text))"
   ]
  },
  {
   "cell_type": "code",
   "execution_count": null,
   "id": "13851fa7",
   "metadata": {},
   "outputs": [],
   "source": [
    "# Topic: Lists & Tuples\n",
    "lst = [1, 2, 3]\n",
    "lst.append(4)\n",
    "print(lst)"
   ]
  },
  {
   "cell_type": "code",
   "execution_count": null,
   "id": "68bd331a",
   "metadata": {},
   "outputs": [],
   "source": [
    "# Topic: Mini Projects\n",
    "# Palindrome check\n",
    "def is_pal(s): return s == s[::-1]\n",
    "print(is_pal('madam'))"
   ]
  },
  {
   "cell_type": "code",
   "execution_count": null,
   "id": "c87d8d98",
   "metadata": {},
   "outputs": [],
   "source": [
    "# Topic: Mini Projects\n",
    "# Calculator\n",
    "def calc(a,b,op): return eval(f'{a}{op}{b}')\n",
    "print(calc(5,2,'+'))"
   ]
  },
  {
   "cell_type": "code",
   "execution_count": null,
   "id": "79b0840a",
   "metadata": {},
   "outputs": [],
   "source": [
    "# Topic: Decorators\n",
    "def log(func):\n",
    " def wrapper():\n",
    "  print('Call')\n",
    "  func()\n",
    " return wrapper\n",
    "@log\n",
    "def say(): print('Hi')\n",
    "say()"
   ]
  },
  {
   "cell_type": "code",
   "execution_count": null,
   "id": "3fa6e2e2",
   "metadata": {},
   "outputs": [],
   "source": [
    "# Topic: NumPy\n",
    "import numpy as np\n",
    "print(np.linspace(0, 1, 5))"
   ]
  },
  {
   "cell_type": "code",
   "execution_count": null,
   "id": "67bff723",
   "metadata": {},
   "outputs": [],
   "source": [
    "# Topic: File I/O\n",
    "with open('test.txt', 'w') as f:\n",
    "    f.write('Hello World')"
   ]
  },
  {
   "cell_type": "code",
   "execution_count": null,
   "id": "d6f50d88",
   "metadata": {},
   "outputs": [],
   "source": [
    "# Topic: File I/O\n",
    "with open('test.txt', 'w') as f:\n",
    "    f.write('Hello World')"
   ]
  },
  {
   "cell_type": "code",
   "execution_count": null,
   "id": "40bf6e0f",
   "metadata": {},
   "outputs": [],
   "source": [
    "# Topic: Recursion\n",
    "def fact(n): return 1 if n==0 else n*fact(n-1)\n",
    "print(fact(5))"
   ]
  },
  {
   "cell_type": "code",
   "execution_count": null,
   "id": "900e0400",
   "metadata": {},
   "outputs": [],
   "source": [
    "# Topic: Dictionaries & Sets\n",
    "d = {'name': 'Fahd', 'age': 20}\n",
    "print(d.get('name'))"
   ]
  },
  {
   "cell_type": "code",
   "execution_count": null,
   "id": "e2e1d244",
   "metadata": {},
   "outputs": [],
   "source": [
    "# Topic: NumPy\n",
    "import numpy as np\n",
    "print(np.linspace(0, 1, 5))"
   ]
  },
  {
   "cell_type": "code",
   "execution_count": null,
   "id": "018cf859",
   "metadata": {},
   "outputs": [],
   "source": [
    "# Topic: Matplotlib & Seaborn\n",
    "import seaborn as sns\n",
    "import pandas as pd\n",
    "sns.set()\n",
    "sns.histplot(pd.Series([1,2,2,3]));"
   ]
  },
  {
   "cell_type": "code",
   "execution_count": null,
   "id": "f1c9d04f",
   "metadata": {},
   "outputs": [],
   "source": [
    "# Topic: Regex\n",
    "import re\n",
    "text = 'email: test@example.com'\n",
    "print(re.findall(r'\\S+@\\S+', text))"
   ]
  },
  {
   "cell_type": "code",
   "execution_count": null,
   "id": "1693179f",
   "metadata": {},
   "outputs": [],
   "source": [
    "# Topic: Basic ML\n",
    "from sklearn.linear_model import LinearRegression\n",
    "model = LinearRegression()\n",
    "print(model)"
   ]
  },
  {
   "cell_type": "code",
   "execution_count": null,
   "id": "cba5af08",
   "metadata": {},
   "outputs": [],
   "source": [
    "# Topic: Decorators\n",
    "def log(func):\n",
    " def wrapper():\n",
    "  print('Call')\n",
    "  func()\n",
    " return wrapper\n",
    "@log\n",
    "def say(): print('Hi')\n",
    "say()"
   ]
  },
  {
   "cell_type": "code",
   "execution_count": null,
   "id": "b27f7065",
   "metadata": {},
   "outputs": [],
   "source": [
    "# Topic: Dictionaries & Sets\n",
    "d = {'name': 'Fahd', 'age': 20}\n",
    "print(d.get('name'))"
   ]
  },
  {
   "cell_type": "code",
   "execution_count": null,
   "id": "7d7c780f",
   "metadata": {},
   "outputs": [],
   "source": [
    "# Topic: File I/O\n",
    "with open('test.txt', 'r') as f:\n",
    "    print(f.read())"
   ]
  },
  {
   "cell_type": "code",
   "execution_count": null,
   "id": "bbc44d62",
   "metadata": {},
   "outputs": [],
   "source": [
    "# Topic: Lists & Tuples\n",
    "lst = [1, 2, 3]\n",
    "lst.append(4)\n",
    "print(lst)"
   ]
  },
  {
   "cell_type": "code",
   "execution_count": null,
   "id": "b4646573",
   "metadata": {},
   "outputs": [],
   "source": [
    "# Topic: Algorithms\n",
    "# Bubble sort\n",
    "def bubble(arr):\n",
    " for i in range(len(arr)):\n",
    "  for j in range(0, len(arr)-i-1):\n",
    "   if arr[j]>arr[j+1]: arr[j],arr[j+1]=arr[j+1],arr[j]\n",
    "a=[5,3,8]\n",
    "bubble(a)\n",
    "print(a)"
   ]
  },
  {
   "cell_type": "code",
   "execution_count": null,
   "id": "088bbab2",
   "metadata": {},
   "outputs": [],
   "source": [
    "# Topic: Dictionaries & Sets\n",
    "s = set([1, 2, 3, 2])\n",
    "print(s)"
   ]
  },
  {
   "cell_type": "code",
   "execution_count": null,
   "id": "c111cc83",
   "metadata": {},
   "outputs": [],
   "source": [
    "# Topic: Functions\n",
    "def greet(name='User'):\n",
    "    print(f'Hi, {name}')\n",
    "greet()"
   ]
  },
  {
   "cell_type": "code",
   "execution_count": null,
   "id": "25871e1e",
   "metadata": {},
   "outputs": [],
   "source": [
    "# Topic: CLI Tools\n",
    "import sys\n",
    "print(f'Arguments: {sys.argv}')"
   ]
  },
  {
   "cell_type": "code",
   "execution_count": null,
   "id": "75c0ec08",
   "metadata": {},
   "outputs": [],
   "source": [
    "# Topic: Matplotlib & Seaborn\n",
    "import seaborn as sns\n",
    "import pandas as pd\n",
    "sns.set()\n",
    "sns.histplot(pd.Series([1,2,2,3]));"
   ]
  },
  {
   "cell_type": "code",
   "execution_count": null,
   "id": "c8f31ba3",
   "metadata": {},
   "outputs": [],
   "source": [
    "# Topic: Basic ML\n",
    "from sklearn.linear_model import LinearRegression\n",
    "model = LinearRegression()\n",
    "print(model)"
   ]
  },
  {
   "cell_type": "code",
   "execution_count": null,
   "id": "14cba6de",
   "metadata": {},
   "outputs": [],
   "source": [
    "# Topic: Web Scraping\n",
    "import requests\n",
    "from bs4 import BeautifulSoup\n",
    "r = requests.get('https://example.com')\n",
    "soup = BeautifulSoup(r.text, 'html.parser')\n",
    "print(soup.title.text)"
   ]
  },
  {
   "cell_type": "code",
   "execution_count": null,
   "id": "a7eb8299",
   "metadata": {},
   "outputs": [],
   "source": [
    "# Topic: Web Scraping\n",
    "import requests\n",
    "from bs4 import BeautifulSoup\n",
    "r = requests.get('https://example.com')\n",
    "soup = BeautifulSoup(r.text, 'html.parser')\n",
    "print(soup.title.text)"
   ]
  },
  {
   "cell_type": "code",
   "execution_count": null,
   "id": "d2033c7e",
   "metadata": {},
   "outputs": [],
   "source": [
    "# Topic: Basics\n",
    "name = 'Fahd'\n",
    "print(f'Hello, {name}')"
   ]
  },
  {
   "cell_type": "code",
   "execution_count": null,
   "id": "bf3c42f4",
   "metadata": {},
   "outputs": [],
   "source": [
    "# Topic: Decorators\n",
    "def log(func):\n",
    " def wrapper():\n",
    "  print('Call')\n",
    "  func()\n",
    " return wrapper\n",
    "@log\n",
    "def say(): print('Hi')\n",
    "say()"
   ]
  },
  {
   "cell_type": "code",
   "execution_count": null,
   "id": "a05a2034",
   "metadata": {},
   "outputs": [],
   "source": [
    "# Topic: Functions\n",
    "def square(x): return x*x\n",
    "print(square(5))"
   ]
  },
  {
   "cell_type": "code",
   "execution_count": null,
   "id": "301801ad",
   "metadata": {},
   "outputs": [],
   "source": [
    "# Topic: OOP\n",
    "class Student:\n",
    "    def __init__(self, name): self.name = name\n",
    "s = Student('Fahd')\n",
    "print(s.name)"
   ]
  },
  {
   "cell_type": "code",
   "execution_count": null,
   "id": "c2e16b16",
   "metadata": {},
   "outputs": [],
   "source": [
    "# Topic: Basic ML\n",
    "from sklearn.linear_model import LinearRegression\n",
    "model = LinearRegression()\n",
    "print(model)"
   ]
  },
  {
   "cell_type": "code",
   "execution_count": null,
   "id": "1497e5de",
   "metadata": {},
   "outputs": [],
   "source": [
    "# Topic: Functions\n",
    "def square(x): return x*x\n",
    "print(square(5))"
   ]
  },
  {
   "cell_type": "code",
   "execution_count": null,
   "id": "38c35781",
   "metadata": {},
   "outputs": [],
   "source": [
    "# Topic: Data Cleaning\n",
    "import pandas as pd\n",
    "df = pd.DataFrame({'A':[1,None,3]})\n",
    "df = df.fillna(0)\n",
    "print(df)"
   ]
  },
  {
   "cell_type": "code",
   "execution_count": null,
   "id": "32b294ed",
   "metadata": {},
   "outputs": [],
   "source": [
    "# Topic: Regex\n",
    "import re\n",
    "text = 'email: test@example.com'\n",
    "print(re.findall(r'\\S+@\\S+', text))"
   ]
  },
  {
   "cell_type": "code",
   "execution_count": null,
   "id": "fdf1b0f3",
   "metadata": {},
   "outputs": [],
   "source": [
    "# Topic: Web Scraping\n",
    "import requests\n",
    "from bs4 import BeautifulSoup\n",
    "r = requests.get('https://example.com')\n",
    "soup = BeautifulSoup(r.text, 'html.parser')\n",
    "print(soup.title.text)"
   ]
  },
  {
   "cell_type": "code",
   "execution_count": null,
   "id": "6d48c722",
   "metadata": {},
   "outputs": [],
   "source": [
    "# Topic: Algorithms\n",
    "# Bubble sort\n",
    "def bubble(arr):\n",
    " for i in range(len(arr)):\n",
    "  for j in range(0, len(arr)-i-1):\n",
    "   if arr[j]>arr[j+1]: arr[j],arr[j+1]=arr[j+1],arr[j]\n",
    "a=[5,3,8]\n",
    "bubble(a)\n",
    "print(a)"
   ]
  },
  {
   "cell_type": "code",
   "execution_count": null,
   "id": "0d281d06",
   "metadata": {},
   "outputs": [],
   "source": [
    "# Topic: Basics\n",
    "name = 'Fahd'\n",
    "print(f'Hello, {name}')"
   ]
  },
  {
   "cell_type": "code",
   "execution_count": null,
   "id": "4464fa76",
   "metadata": {},
   "outputs": [],
   "source": [
    "# Topic: Pandas\n",
    "import pandas as pd\n",
    "df = pd.read_csv('file.csv')\n",
    "print(df.head())"
   ]
  },
  {
   "cell_type": "code",
   "execution_count": null,
   "id": "fc6d33f4",
   "metadata": {},
   "outputs": [],
   "source": [
    "# Topic: File I/O\n",
    "with open('test.txt', 'r') as f:\n",
    "    print(f.read())"
   ]
  },
  {
   "cell_type": "code",
   "execution_count": null,
   "id": "473c1dfd",
   "metadata": {},
   "outputs": [],
   "source": [
    "# Topic: Loops\n",
    "for i in range(10): print(i*i)"
   ]
  },
  {
   "cell_type": "code",
   "execution_count": null,
   "id": "c3656453",
   "metadata": {},
   "outputs": [],
   "source": [
    "# Topic: CLI Tools\n",
    "import sys\n",
    "print(f'Arguments: {sys.argv}')"
   ]
  },
  {
   "cell_type": "code",
   "execution_count": null,
   "id": "e962e1ad",
   "metadata": {},
   "outputs": [],
   "source": [
    "# Topic: Basic ML\n",
    "from sklearn.linear_model import LinearRegression\n",
    "model = LinearRegression()\n",
    "print(model)"
   ]
  },
  {
   "cell_type": "code",
   "execution_count": null,
   "id": "134f3334",
   "metadata": {},
   "outputs": [],
   "source": [
    "# Topic: Web Scraping\n",
    "import requests\n",
    "from bs4 import BeautifulSoup\n",
    "r = requests.get('https://example.com')\n",
    "soup = BeautifulSoup(r.text, 'html.parser')\n",
    "print(soup.title.text)"
   ]
  },
  {
   "cell_type": "code",
   "execution_count": null,
   "id": "2b465c48",
   "metadata": {},
   "outputs": [],
   "source": [
    "# Topic: Recursion\n",
    "def fact(n): return 1 if n==0 else n*fact(n-1)\n",
    "print(fact(5))"
   ]
  },
  {
   "cell_type": "code",
   "execution_count": null,
   "id": "c85db897",
   "metadata": {},
   "outputs": [],
   "source": [
    "# Topic: Loops\n",
    "for i in range(10): print(i*i)"
   ]
  },
  {
   "cell_type": "code",
   "execution_count": null,
   "id": "6f5cac9b",
   "metadata": {},
   "outputs": [],
   "source": [
    "# Topic: Basic ML\n",
    "from sklearn.linear_model import LinearRegression\n",
    "model = LinearRegression()\n",
    "print(model)"
   ]
  },
  {
   "cell_type": "code",
   "execution_count": null,
   "id": "649ddca3",
   "metadata": {},
   "outputs": [],
   "source": [
    "# Topic: Decorators\n",
    "def log(func):\n",
    " def wrapper():\n",
    "  print('Call')\n",
    "  func()\n",
    " return wrapper\n",
    "@log\n",
    "def say(): print('Hi')\n",
    "say()"
   ]
  },
  {
   "cell_type": "code",
   "execution_count": null,
   "id": "1dfd97a7",
   "metadata": {},
   "outputs": [],
   "source": [
    "# Topic: Matplotlib & Seaborn\n",
    "import seaborn as sns\n",
    "import pandas as pd\n",
    "sns.set()\n",
    "sns.histplot(pd.Series([1,2,2,3]));"
   ]
  },
  {
   "cell_type": "code",
   "execution_count": null,
   "id": "c44d2dbe",
   "metadata": {},
   "outputs": [],
   "source": [
    "# Topic: Web Scraping\n",
    "import requests\n",
    "from bs4 import BeautifulSoup\n",
    "r = requests.get('https://example.com')\n",
    "soup = BeautifulSoup(r.text, 'html.parser')\n",
    "print(soup.title.text)"
   ]
  },
  {
   "cell_type": "code",
   "execution_count": null,
   "id": "5c86791b",
   "metadata": {},
   "outputs": [],
   "source": [
    "# Topic: CLI Tools\n",
    "import sys\n",
    "print(f'Arguments: {sys.argv}')"
   ]
  },
  {
   "cell_type": "code",
   "execution_count": null,
   "id": "ef1dcc42",
   "metadata": {},
   "outputs": [],
   "source": [
    "# Topic: OOP\n",
    "class Student:\n",
    "    def __init__(self, name): self.name = name\n",
    "s = Student('Fahd')\n",
    "print(s.name)"
   ]
  },
  {
   "cell_type": "code",
   "execution_count": null,
   "id": "19177ed5",
   "metadata": {},
   "outputs": [],
   "source": [
    "# Topic: Basics\n",
    "name = 'Fahd'\n",
    "print(f'Hello, {name}')"
   ]
  },
  {
   "cell_type": "code",
   "execution_count": null,
   "id": "800cd54e",
   "metadata": {},
   "outputs": [],
   "source": [
    "# Topic: Dictionaries & Sets\n",
    "d = {'name': 'Fahd', 'age': 20}\n",
    "print(d.get('name'))"
   ]
  },
  {
   "cell_type": "code",
   "execution_count": null,
   "id": "75d74115",
   "metadata": {},
   "outputs": [],
   "source": [
    "# Topic: Loops\n",
    "while True:\n",
    "    print('Break')\n",
    "    break"
   ]
  },
  {
   "cell_type": "code",
   "execution_count": null,
   "id": "384d2267",
   "metadata": {},
   "outputs": [],
   "source": [
    "# Topic: Recursion\n",
    "def fact(n): return 1 if n==0 else n*fact(n-1)\n",
    "print(fact(5))"
   ]
  },
  {
   "cell_type": "code",
   "execution_count": null,
   "id": "f20903a6",
   "metadata": {},
   "outputs": [],
   "source": [
    "# Topic: Basic ML\n",
    "from sklearn.linear_model import LinearRegression\n",
    "model = LinearRegression()\n",
    "print(model)"
   ]
  },
  {
   "cell_type": "code",
   "execution_count": null,
   "id": "1fa042ab",
   "metadata": {},
   "outputs": [],
   "source": [
    "# Topic: Functions\n",
    "def square(x): return x*x\n",
    "print(square(5))"
   ]
  },
  {
   "cell_type": "code",
   "execution_count": null,
   "id": "43029bc6",
   "metadata": {},
   "outputs": [],
   "source": [
    "# Topic: Functions\n",
    "def greet(name='User'):\n",
    "    print(f'Hi, {name}')\n",
    "greet()"
   ]
  },
  {
   "cell_type": "code",
   "execution_count": null,
   "id": "f89b7fc6",
   "metadata": {},
   "outputs": [],
   "source": [
    "# Topic: OOP\n",
    "class Student:\n",
    "    def __init__(self, name): self.name = name\n",
    "s = Student('Fahd')\n",
    "print(s.name)"
   ]
  },
  {
   "cell_type": "code",
   "execution_count": null,
   "id": "4e74bb30",
   "metadata": {},
   "outputs": [],
   "source": [
    "# Topic: Dictionaries & Sets\n",
    "d = {'name': 'Fahd', 'age': 20}\n",
    "print(d.get('name'))"
   ]
  },
  {
   "cell_type": "code",
   "execution_count": null,
   "id": "ade4ae12",
   "metadata": {},
   "outputs": [],
   "source": [
    "# Topic: Basic ML\n",
    "from sklearn.linear_model import LinearRegression\n",
    "model = LinearRegression()\n",
    "print(model)"
   ]
  },
  {
   "cell_type": "code",
   "execution_count": null,
   "id": "9f3b64d1",
   "metadata": {},
   "outputs": [],
   "source": [
    "# Topic: Lists & Tuples\n",
    "lst = [1, 2, 3]\n",
    "lst.append(4)\n",
    "print(lst)"
   ]
  },
  {
   "cell_type": "code",
   "execution_count": null,
   "id": "0503e1aa",
   "metadata": {},
   "outputs": [],
   "source": [
    "# Topic: Decorators\n",
    "def log(func):\n",
    " def wrapper():\n",
    "  print('Call')\n",
    "  func()\n",
    " return wrapper\n",
    "@log\n",
    "def say(): print('Hi')\n",
    "say()"
   ]
  },
  {
   "cell_type": "code",
   "execution_count": null,
   "id": "877ead45",
   "metadata": {},
   "outputs": [],
   "source": [
    "# Topic: Mini Projects\n",
    "# Palindrome check\n",
    "def is_pal(s): return s == s[::-1]\n",
    "print(is_pal('madam'))"
   ]
  },
  {
   "cell_type": "code",
   "execution_count": null,
   "id": "e1bb732e",
   "metadata": {},
   "outputs": [],
   "source": [
    "# Topic: Dictionaries & Sets\n",
    "s = set([1, 2, 3, 2])\n",
    "print(s)"
   ]
  },
  {
   "cell_type": "code",
   "execution_count": null,
   "id": "263cfaf0",
   "metadata": {},
   "outputs": [],
   "source": [
    "# Topic: Decorators\n",
    "def log(func):\n",
    " def wrapper():\n",
    "  print('Call')\n",
    "  func()\n",
    " return wrapper\n",
    "@log\n",
    "def say(): print('Hi')\n",
    "say()"
   ]
  },
  {
   "cell_type": "code",
   "execution_count": null,
   "id": "be8547a9",
   "metadata": {},
   "outputs": [],
   "source": [
    "# Topic: CLI Tools\n",
    "import sys\n",
    "print(f'Arguments: {sys.argv}')"
   ]
  },
  {
   "cell_type": "code",
   "execution_count": null,
   "id": "d133c4a9",
   "metadata": {},
   "outputs": [],
   "source": [
    "# Topic: NumPy\n",
    "import numpy as np\n",
    "print(np.linspace(0, 1, 5))"
   ]
  },
  {
   "cell_type": "code",
   "execution_count": null,
   "id": "438ed352",
   "metadata": {},
   "outputs": [],
   "source": [
    "# Topic: Pandas\n",
    "import pandas as pd\n",
    "df = pd.DataFrame({'A':[1,2],'B':[3,4]})\n",
    "print(df)"
   ]
  },
  {
   "cell_type": "code",
   "execution_count": null,
   "id": "c64c316e",
   "metadata": {},
   "outputs": [],
   "source": [
    "# Topic: Loops\n",
    "while True:\n",
    "    print('Break')\n",
    "    break"
   ]
  },
  {
   "cell_type": "code",
   "execution_count": null,
   "id": "9a91e02e",
   "metadata": {},
   "outputs": [],
   "source": [
    "# Topic: Matplotlib & Seaborn\n",
    "import matplotlib.pyplot as plt\n",
    "plt.plot([1,2],[3,4])\n",
    "plt.show()"
   ]
  },
  {
   "cell_type": "code",
   "execution_count": null,
   "id": "6a5ba189",
   "metadata": {},
   "outputs": [],
   "source": [
    "# Topic: CLI Tools\n",
    "import sys\n",
    "print(f'Arguments: {sys.argv}')"
   ]
  },
  {
   "cell_type": "code",
   "execution_count": null,
   "id": "c1c41b56",
   "metadata": {},
   "outputs": [],
   "source": [
    "# Topic: Pandas\n",
    "import pandas as pd\n",
    "df = pd.read_csv('file.csv')\n",
    "print(df.head())"
   ]
  },
  {
   "cell_type": "code",
   "execution_count": null,
   "id": "23bb4f1c",
   "metadata": {},
   "outputs": [],
   "source": [
    "# Topic: Data Cleaning\n",
    "import pandas as pd\n",
    "df = pd.DataFrame({'A':[1,None,3]})\n",
    "df = df.fillna(0)\n",
    "print(df)"
   ]
  },
  {
   "cell_type": "code",
   "execution_count": null,
   "id": "7efb0873",
   "metadata": {},
   "outputs": [],
   "source": [
    "# Topic: Web Scraping\n",
    "import requests\n",
    "from bs4 import BeautifulSoup\n",
    "r = requests.get('https://example.com')\n",
    "soup = BeautifulSoup(r.text, 'html.parser')\n",
    "print(soup.title.text)"
   ]
  },
  {
   "cell_type": "code",
   "execution_count": null,
   "id": "84b583b6",
   "metadata": {},
   "outputs": [],
   "source": [
    "# Topic: NumPy\n",
    "import numpy as np\n",
    "print(np.linspace(0, 1, 5))"
   ]
  },
  {
   "cell_type": "code",
   "execution_count": null,
   "id": "a41e1c18",
   "metadata": {},
   "outputs": [],
   "source": [
    "# Topic: OOP\n",
    "class Student:\n",
    "    def __init__(self, name): self.name = name\n",
    "s = Student('Fahd')\n",
    "print(s.name)"
   ]
  },
  {
   "cell_type": "code",
   "execution_count": null,
   "id": "ace8f240",
   "metadata": {},
   "outputs": [],
   "source": [
    "# Topic: Decorators\n",
    "def log(func):\n",
    " def wrapper():\n",
    "  print('Call')\n",
    "  func()\n",
    " return wrapper\n",
    "@log\n",
    "def say(): print('Hi')\n",
    "say()"
   ]
  },
  {
   "cell_type": "code",
   "execution_count": null,
   "id": "23c357c9",
   "metadata": {},
   "outputs": [],
   "source": [
    "# Topic: CLI Tools\n",
    "import sys\n",
    "print(f'Arguments: {sys.argv}')"
   ]
  },
  {
   "cell_type": "code",
   "execution_count": null,
   "id": "97f7800d",
   "metadata": {},
   "outputs": [],
   "source": [
    "# Topic: Recursion\n",
    "def fact(n): return 1 if n==0 else n*fact(n-1)\n",
    "print(fact(5))"
   ]
  },
  {
   "cell_type": "code",
   "execution_count": null,
   "id": "58360000",
   "metadata": {},
   "outputs": [],
   "source": [
    "# Topic: File I/O\n",
    "with open('test.txt', 'r') as f:\n",
    "    print(f.read())"
   ]
  },
  {
   "cell_type": "code",
   "execution_count": null,
   "id": "88a86e3c",
   "metadata": {},
   "outputs": [],
   "source": [
    "# Topic: Dictionaries & Sets\n",
    "d = {'name': 'Fahd', 'age': 20}\n",
    "print(d.get('name'))"
   ]
  },
  {
   "cell_type": "code",
   "execution_count": null,
   "id": "453709ac",
   "metadata": {},
   "outputs": [],
   "source": [
    "# Topic: Algorithms\n",
    "# Bubble sort\n",
    "def bubble(arr):\n",
    " for i in range(len(arr)):\n",
    "  for j in range(0, len(arr)-i-1):\n",
    "   if arr[j]>arr[j+1]: arr[j],arr[j+1]=arr[j+1],arr[j]\n",
    "a=[5,3,8]\n",
    "bubble(a)\n",
    "print(a)"
   ]
  },
  {
   "cell_type": "code",
   "execution_count": null,
   "id": "d52dbb9b",
   "metadata": {},
   "outputs": [],
   "source": [
    "# Topic: Web Scraping\n",
    "import requests\n",
    "from bs4 import BeautifulSoup\n",
    "r = requests.get('https://example.com')\n",
    "soup = BeautifulSoup(r.text, 'html.parser')\n",
    "print(soup.title.text)"
   ]
  },
  {
   "cell_type": "code",
   "execution_count": null,
   "id": "067a4526",
   "metadata": {},
   "outputs": [],
   "source": [
    "# Topic: Loops\n",
    "for i in range(10): print(i*i)"
   ]
  },
  {
   "cell_type": "code",
   "execution_count": null,
   "id": "a0ddf3c8",
   "metadata": {},
   "outputs": [],
   "source": [
    "# Topic: Regex\n",
    "import re\n",
    "text = 'email: test@example.com'\n",
    "print(re.findall(r'\\S+@\\S+', text))"
   ]
  },
  {
   "cell_type": "code",
   "execution_count": null,
   "id": "0859ad86",
   "metadata": {},
   "outputs": [],
   "source": [
    "# Topic: Pandas\n",
    "import pandas as pd\n",
    "df = pd.read_csv('file.csv')\n",
    "print(df.head())"
   ]
  },
  {
   "cell_type": "code",
   "execution_count": null,
   "id": "4b931123",
   "metadata": {},
   "outputs": [],
   "source": [
    "# Topic: Regex\n",
    "import re\n",
    "text = 'email: test@example.com'\n",
    "print(re.findall(r'\\S+@\\S+', text))"
   ]
  },
  {
   "cell_type": "code",
   "execution_count": null,
   "id": "5ca9050c",
   "metadata": {},
   "outputs": [],
   "source": [
    "# Topic: CLI Tools\n",
    "import sys\n",
    "print(f'Arguments: {sys.argv}')"
   ]
  },
  {
   "cell_type": "code",
   "execution_count": null,
   "id": "dc1cfe6d",
   "metadata": {},
   "outputs": [],
   "source": [
    "# Topic: Recursion\n",
    "def fact(n): return 1 if n==0 else n*fact(n-1)\n",
    "print(fact(5))"
   ]
  },
  {
   "cell_type": "code",
   "execution_count": null,
   "id": "d9c90150",
   "metadata": {},
   "outputs": [],
   "source": [
    "# Topic: JSON & CSV\n",
    "import json\n",
    "data = {'a': 1}\n",
    "print(json.dumps(data))"
   ]
  },
  {
   "cell_type": "code",
   "execution_count": null,
   "id": "7a8dd0e1",
   "metadata": {},
   "outputs": [],
   "source": [
    "# Topic: Mini Projects\n",
    "# Calculator\n",
    "def calc(a,b,op): return eval(f'{a}{op}{b}')\n",
    "print(calc(5,2,'+'))"
   ]
  },
  {
   "cell_type": "code",
   "execution_count": null,
   "id": "a1f61f3b",
   "metadata": {},
   "outputs": [],
   "source": [
    "# Topic: CLI Tools\n",
    "import sys\n",
    "print(f'Arguments: {sys.argv}')"
   ]
  },
  {
   "cell_type": "code",
   "execution_count": null,
   "id": "bd0c460c",
   "metadata": {},
   "outputs": [],
   "source": [
    "# Topic: Basics\n",
    "x = 10\n",
    "y = 20\n",
    "print(x + y)"
   ]
  },
  {
   "cell_type": "code",
   "execution_count": null,
   "id": "589ba33a",
   "metadata": {},
   "outputs": [],
   "source": [
    "# Topic: Matplotlib & Seaborn\n",
    "import seaborn as sns\n",
    "import pandas as pd\n",
    "sns.set()\n",
    "sns.histplot(pd.Series([1,2,2,3]));"
   ]
  },
  {
   "cell_type": "code",
   "execution_count": null,
   "id": "ea54a898",
   "metadata": {},
   "outputs": [],
   "source": [
    "# Topic: Recursion\n",
    "def fact(n): return 1 if n==0 else n*fact(n-1)\n",
    "print(fact(5))"
   ]
  },
  {
   "cell_type": "code",
   "execution_count": null,
   "id": "273302ac",
   "metadata": {},
   "outputs": [],
   "source": [
    "# Topic: Recursion\n",
    "def fact(n): return 1 if n==0 else n*fact(n-1)\n",
    "print(fact(5))"
   ]
  },
  {
   "cell_type": "code",
   "execution_count": null,
   "id": "d246fad8",
   "metadata": {},
   "outputs": [],
   "source": [
    "# Topic: CLI Tools\n",
    "import sys\n",
    "print(f'Arguments: {sys.argv}')"
   ]
  },
  {
   "cell_type": "code",
   "execution_count": null,
   "id": "c72750fb",
   "metadata": {},
   "outputs": [],
   "source": [
    "# Topic: Recursion\n",
    "def fact(n): return 1 if n==0 else n*fact(n-1)\n",
    "print(fact(5))"
   ]
  },
  {
   "cell_type": "code",
   "execution_count": null,
   "id": "ba9a7164",
   "metadata": {},
   "outputs": [],
   "source": [
    "# Topic: Data Cleaning\n",
    "import pandas as pd\n",
    "df = pd.DataFrame({'A':[1,None,3]})\n",
    "df = df.fillna(0)\n",
    "print(df)"
   ]
  },
  {
   "cell_type": "code",
   "execution_count": null,
   "id": "7ed266a5",
   "metadata": {},
   "outputs": [],
   "source": [
    "# Topic: Lists & Tuples\n",
    "lst = [1, 2, 3]\n",
    "lst.append(4)\n",
    "print(lst)"
   ]
  },
  {
   "cell_type": "code",
   "execution_count": null,
   "id": "f2d150d3",
   "metadata": {},
   "outputs": [],
   "source": [
    "# Topic: Basics\n",
    "x = 10\n",
    "y = 20\n",
    "print(x + y)"
   ]
  },
  {
   "cell_type": "code",
   "execution_count": null,
   "id": "05fc6991",
   "metadata": {},
   "outputs": [],
   "source": [
    "# Topic: Data Cleaning\n",
    "import pandas as pd\n",
    "df = pd.DataFrame({'A':[1,None,3]})\n",
    "df = df.fillna(0)\n",
    "print(df)"
   ]
  },
  {
   "cell_type": "code",
   "execution_count": null,
   "id": "a4e09c89",
   "metadata": {},
   "outputs": [],
   "source": [
    "# Topic: Recursion\n",
    "def fact(n): return 1 if n==0 else n*fact(n-1)\n",
    "print(fact(5))"
   ]
  },
  {
   "cell_type": "code",
   "execution_count": null,
   "id": "66b59a4f",
   "metadata": {},
   "outputs": [],
   "source": [
    "# Topic: Loops\n",
    "while True:\n",
    "    print('Break')\n",
    "    break"
   ]
  },
  {
   "cell_type": "code",
   "execution_count": null,
   "id": "203a95b0",
   "metadata": {},
   "outputs": [],
   "source": [
    "# Topic: Matplotlib & Seaborn\n",
    "import seaborn as sns\n",
    "import pandas as pd\n",
    "sns.set()\n",
    "sns.histplot(pd.Series([1,2,2,3]));"
   ]
  },
  {
   "cell_type": "code",
   "execution_count": null,
   "id": "50eb5d92",
   "metadata": {},
   "outputs": [],
   "source": [
    "# Topic: Regex\n",
    "import re\n",
    "text = 'email: test@example.com'\n",
    "print(re.findall(r'\\S+@\\S+', text))"
   ]
  },
  {
   "cell_type": "code",
   "execution_count": null,
   "id": "c9b9f2db",
   "metadata": {},
   "outputs": [],
   "source": [
    "# Topic: Data Cleaning\n",
    "import pandas as pd\n",
    "df = pd.DataFrame({'A':[1,None,3]})\n",
    "df = df.fillna(0)\n",
    "print(df)"
   ]
  },
  {
   "cell_type": "code",
   "execution_count": null,
   "id": "dcc5a1c2",
   "metadata": {},
   "outputs": [],
   "source": [
    "# Topic: Recursion\n",
    "def fact(n): return 1 if n==0 else n*fact(n-1)\n",
    "print(fact(5))"
   ]
  },
  {
   "cell_type": "code",
   "execution_count": null,
   "id": "a34ff9eb",
   "metadata": {},
   "outputs": [],
   "source": [
    "# Topic: Pandas\n",
    "import pandas as pd\n",
    "df = pd.read_csv('file.csv')\n",
    "print(df.head())"
   ]
  },
  {
   "cell_type": "code",
   "execution_count": null,
   "id": "3a913aff",
   "metadata": {},
   "outputs": [],
   "source": [
    "# Topic: Pandas\n",
    "import pandas as pd\n",
    "df = pd.DataFrame({'A':[1,2],'B':[3,4]})\n",
    "print(df)"
   ]
  },
  {
   "cell_type": "code",
   "execution_count": null,
   "id": "3aba323b",
   "metadata": {},
   "outputs": [],
   "source": [
    "# Topic: Basic ML\n",
    "from sklearn.linear_model import LinearRegression\n",
    "model = LinearRegression()\n",
    "print(model)"
   ]
  },
  {
   "cell_type": "code",
   "execution_count": null,
   "id": "e5b60c27",
   "metadata": {},
   "outputs": [],
   "source": [
    "# Topic: NumPy\n",
    "import numpy as np\n",
    "a = np.array([1, 2, 3])\n",
    "print(a + 5)"
   ]
  },
  {
   "cell_type": "code",
   "execution_count": null,
   "id": "afb899d5",
   "metadata": {},
   "outputs": [],
   "source": [
    "# Topic: Lists & Tuples\n",
    "lst = [1, 2, 3]\n",
    "lst.append(4)\n",
    "print(lst)"
   ]
  },
  {
   "cell_type": "code",
   "execution_count": null,
   "id": "e21f46a6",
   "metadata": {},
   "outputs": [],
   "source": [
    "# Topic: Matplotlib & Seaborn\n",
    "import matplotlib.pyplot as plt\n",
    "plt.plot([1,2],[3,4])\n",
    "plt.show()"
   ]
  },
  {
   "cell_type": "code",
   "execution_count": null,
   "id": "c39617f6",
   "metadata": {},
   "outputs": [],
   "source": [
    "# Topic: Dictionaries & Sets\n",
    "d = {'name': 'Fahd', 'age': 20}\n",
    "print(d.get('name'))"
   ]
  },
  {
   "cell_type": "code",
   "execution_count": null,
   "id": "e2cbf76e",
   "metadata": {},
   "outputs": [],
   "source": [
    "# Topic: NumPy\n",
    "import numpy as np\n",
    "a = np.array([1, 2, 3])\n",
    "print(a + 5)"
   ]
  },
  {
   "cell_type": "code",
   "execution_count": null,
   "id": "d311d71c",
   "metadata": {},
   "outputs": [],
   "source": [
    "# Topic: Matplotlib & Seaborn\n",
    "import seaborn as sns\n",
    "import pandas as pd\n",
    "sns.set()\n",
    "sns.histplot(pd.Series([1,2,2,3]));"
   ]
  },
  {
   "cell_type": "code",
   "execution_count": null,
   "id": "1585e1ac",
   "metadata": {},
   "outputs": [],
   "source": [
    "# Topic: Mini Projects\n",
    "# Calculator\n",
    "def calc(a,b,op): return eval(f'{a}{op}{b}')\n",
    "print(calc(5,2,'+'))"
   ]
  },
  {
   "cell_type": "code",
   "execution_count": null,
   "id": "7b963033",
   "metadata": {},
   "outputs": [],
   "source": [
    "# Topic: Dictionaries & Sets\n",
    "d = {'name': 'Fahd', 'age': 20}\n",
    "print(d.get('name'))"
   ]
  },
  {
   "cell_type": "code",
   "execution_count": null,
   "id": "24508d63",
   "metadata": {},
   "outputs": [],
   "source": [
    "# Topic: Functions\n",
    "def square(x): return x*x\n",
    "print(square(5))"
   ]
  },
  {
   "cell_type": "code",
   "execution_count": null,
   "id": "59d618b3",
   "metadata": {},
   "outputs": [],
   "source": [
    "# Topic: Pandas\n",
    "import pandas as pd\n",
    "df = pd.DataFrame({'A':[1,2],'B':[3,4]})\n",
    "print(df)"
   ]
  },
  {
   "cell_type": "code",
   "execution_count": null,
   "id": "9b3658ef",
   "metadata": {},
   "outputs": [],
   "source": [
    "# Topic: Matplotlib & Seaborn\n",
    "import seaborn as sns\n",
    "import pandas as pd\n",
    "sns.set()\n",
    "sns.histplot(pd.Series([1,2,2,3]));"
   ]
  },
  {
   "cell_type": "code",
   "execution_count": null,
   "id": "8d65ff21",
   "metadata": {},
   "outputs": [],
   "source": [
    "# Topic: Functions\n",
    "def square(x): return x*x\n",
    "print(square(5))"
   ]
  },
  {
   "cell_type": "code",
   "execution_count": null,
   "id": "a4bdfc87",
   "metadata": {},
   "outputs": [],
   "source": [
    "# Topic: File I/O\n",
    "with open('test.txt', 'r') as f:\n",
    "    print(f.read())"
   ]
  },
  {
   "cell_type": "code",
   "execution_count": null,
   "id": "49ff64dc",
   "metadata": {},
   "outputs": [],
   "source": [
    "# Topic: File I/O\n",
    "with open('test.txt', 'r') as f:\n",
    "    print(f.read())"
   ]
  },
  {
   "cell_type": "code",
   "execution_count": null,
   "id": "ad599e3b",
   "metadata": {},
   "outputs": [],
   "source": [
    "# Topic: Basics\n",
    "name = 'Fahd'\n",
    "print(f'Hello, {name}')"
   ]
  },
  {
   "cell_type": "code",
   "execution_count": null,
   "id": "9350c37e",
   "metadata": {},
   "outputs": [],
   "source": [
    "# Topic: Recursion\n",
    "def fact(n): return 1 if n==0 else n*fact(n-1)\n",
    "print(fact(5))"
   ]
  },
  {
   "cell_type": "code",
   "execution_count": null,
   "id": "d1aba659",
   "metadata": {},
   "outputs": [],
   "source": [
    "# Topic: Functions\n",
    "def square(x): return x*x\n",
    "print(square(5))"
   ]
  },
  {
   "cell_type": "code",
   "execution_count": null,
   "id": "0cfe90a3",
   "metadata": {},
   "outputs": [],
   "source": [
    "# Topic: Basic ML\n",
    "from sklearn.linear_model import LinearRegression\n",
    "model = LinearRegression()\n",
    "print(model)"
   ]
  },
  {
   "cell_type": "code",
   "execution_count": null,
   "id": "52b78552",
   "metadata": {},
   "outputs": [],
   "source": [
    "# Topic: Recursion\n",
    "def fact(n): return 1 if n==0 else n*fact(n-1)\n",
    "print(fact(5))"
   ]
  },
  {
   "cell_type": "code",
   "execution_count": null,
   "id": "741e5716",
   "metadata": {},
   "outputs": [],
   "source": [
    "# Topic: Functions\n",
    "def square(x): return x*x\n",
    "print(square(5))"
   ]
  },
  {
   "cell_type": "code",
   "execution_count": null,
   "id": "9dba02df",
   "metadata": {},
   "outputs": [],
   "source": [
    "# Topic: Matplotlib & Seaborn\n",
    "import seaborn as sns\n",
    "import pandas as pd\n",
    "sns.set()\n",
    "sns.histplot(pd.Series([1,2,2,3]));"
   ]
  },
  {
   "cell_type": "code",
   "execution_count": null,
   "id": "c8c5cc65",
   "metadata": {},
   "outputs": [],
   "source": [
    "# Topic: Matplotlib & Seaborn\n",
    "import matplotlib.pyplot as plt\n",
    "plt.plot([1,2],[3,4])\n",
    "plt.show()"
   ]
  },
  {
   "cell_type": "code",
   "execution_count": null,
   "id": "658c9af7",
   "metadata": {},
   "outputs": [],
   "source": [
    "# Topic: Matplotlib & Seaborn\n",
    "import matplotlib.pyplot as plt\n",
    "plt.plot([1,2],[3,4])\n",
    "plt.show()"
   ]
  },
  {
   "cell_type": "code",
   "execution_count": null,
   "id": "6c7a48a0",
   "metadata": {},
   "outputs": [],
   "source": [
    "# Topic: Mini Projects\n",
    "# Palindrome check\n",
    "def is_pal(s): return s == s[::-1]\n",
    "print(is_pal('madam'))"
   ]
  },
  {
   "cell_type": "code",
   "execution_count": null,
   "id": "b63bc33c",
   "metadata": {},
   "outputs": [],
   "source": [
    "# Topic: Pandas\n",
    "import pandas as pd\n",
    "df = pd.DataFrame({'A':[1,2],'B':[3,4]})\n",
    "print(df)"
   ]
  },
  {
   "cell_type": "code",
   "execution_count": null,
   "id": "f5b4f409",
   "metadata": {},
   "outputs": [],
   "source": [
    "# Topic: Dictionaries & Sets\n",
    "d = {'name': 'Fahd', 'age': 20}\n",
    "print(d.get('name'))"
   ]
  },
  {
   "cell_type": "code",
   "execution_count": null,
   "id": "61ff308f",
   "metadata": {},
   "outputs": [],
   "source": [
    "# Topic: Lists & Tuples\n",
    "lst = [1, 2, 3]\n",
    "lst.append(4)\n",
    "print(lst)"
   ]
  },
  {
   "cell_type": "code",
   "execution_count": null,
   "id": "6fa2b379",
   "metadata": {},
   "outputs": [],
   "source": [
    "# Topic: Basic ML\n",
    "from sklearn.linear_model import LinearRegression\n",
    "model = LinearRegression()\n",
    "print(model)"
   ]
  },
  {
   "cell_type": "code",
   "execution_count": null,
   "id": "94f33647",
   "metadata": {},
   "outputs": [],
   "source": [
    "# Topic: Basics\n",
    "x = 10\n",
    "y = 20\n",
    "print(x + y)"
   ]
  },
  {
   "cell_type": "code",
   "execution_count": null,
   "id": "1043add3",
   "metadata": {},
   "outputs": [],
   "source": [
    "# Topic: OOP\n",
    "class Student:\n",
    "    def __init__(self, name): self.name = name\n",
    "s = Student('Fahd')\n",
    "print(s.name)"
   ]
  },
  {
   "cell_type": "code",
   "execution_count": null,
   "id": "b4978197",
   "metadata": {},
   "outputs": [],
   "source": [
    "# Topic: JSON & CSV\n",
    "import json\n",
    "data = {'a': 1}\n",
    "print(json.dumps(data))"
   ]
  },
  {
   "cell_type": "code",
   "execution_count": null,
   "id": "c492271a",
   "metadata": {},
   "outputs": [],
   "source": [
    "# Topic: Mini Projects\n",
    "# Palindrome check\n",
    "def is_pal(s): return s == s[::-1]\n",
    "print(is_pal('madam'))"
   ]
  },
  {
   "cell_type": "code",
   "execution_count": null,
   "id": "6734c02f",
   "metadata": {},
   "outputs": [],
   "source": [
    "# Topic: Pandas\n",
    "import pandas as pd\n",
    "df = pd.read_csv('file.csv')\n",
    "print(df.head())"
   ]
  },
  {
   "cell_type": "code",
   "execution_count": null,
   "id": "90e91ce6",
   "metadata": {},
   "outputs": [],
   "source": [
    "# Topic: Algorithms\n",
    "# Bubble sort\n",
    "def bubble(arr):\n",
    " for i in range(len(arr)):\n",
    "  for j in range(0, len(arr)-i-1):\n",
    "   if arr[j]>arr[j+1]: arr[j],arr[j+1]=arr[j+1],arr[j]\n",
    "a=[5,3,8]\n",
    "bubble(a)\n",
    "print(a)"
   ]
  },
  {
   "cell_type": "code",
   "execution_count": null,
   "id": "0ca0ff21",
   "metadata": {},
   "outputs": [],
   "source": [
    "# Topic: Lists & Tuples\n",
    "lst = [1, 2, 3]\n",
    "lst.append(4)\n",
    "print(lst)"
   ]
  },
  {
   "cell_type": "code",
   "execution_count": null,
   "id": "ec0e3eac",
   "metadata": {},
   "outputs": [],
   "source": [
    "# Topic: Web Scraping\n",
    "import requests\n",
    "from bs4 import BeautifulSoup\n",
    "r = requests.get('https://example.com')\n",
    "soup = BeautifulSoup(r.text, 'html.parser')\n",
    "print(soup.title.text)"
   ]
  },
  {
   "cell_type": "code",
   "execution_count": null,
   "id": "61a6e7cf",
   "metadata": {},
   "outputs": [],
   "source": [
    "# Topic: File I/O\n",
    "with open('test.txt', 'r') as f:\n",
    "    print(f.read())"
   ]
  },
  {
   "cell_type": "code",
   "execution_count": null,
   "id": "ed0f6dc8",
   "metadata": {},
   "outputs": [],
   "source": [
    "# Topic: Basic ML\n",
    "from sklearn.linear_model import LinearRegression\n",
    "model = LinearRegression()\n",
    "print(model)"
   ]
  },
  {
   "cell_type": "code",
   "execution_count": null,
   "id": "78a0f0a0",
   "metadata": {},
   "outputs": [],
   "source": [
    "# Topic: File I/O\n",
    "with open('test.txt', 'r') as f:\n",
    "    print(f.read())"
   ]
  },
  {
   "cell_type": "code",
   "execution_count": null,
   "id": "75a683e4",
   "metadata": {},
   "outputs": [],
   "source": [
    "# Topic: Basics\n",
    "x = 10\n",
    "y = 20\n",
    "print(x + y)"
   ]
  },
  {
   "cell_type": "code",
   "execution_count": null,
   "id": "d6ba8582",
   "metadata": {},
   "outputs": [],
   "source": [
    "# Topic: Loops\n",
    "while True:\n",
    "    print('Break')\n",
    "    break"
   ]
  },
  {
   "cell_type": "code",
   "execution_count": null,
   "id": "e151d73e",
   "metadata": {},
   "outputs": [],
   "source": [
    "# Topic: File I/O\n",
    "with open('test.txt', 'w') as f:\n",
    "    f.write('Hello World')"
   ]
  },
  {
   "cell_type": "code",
   "execution_count": null,
   "id": "ef882c5f",
   "metadata": {},
   "outputs": [],
   "source": [
    "# Topic: CLI Tools\n",
    "import sys\n",
    "print(f'Arguments: {sys.argv}')"
   ]
  },
  {
   "cell_type": "code",
   "execution_count": null,
   "id": "b0b3e37d",
   "metadata": {},
   "outputs": [],
   "source": [
    "# Topic: Basic ML\n",
    "from sklearn.linear_model import LinearRegression\n",
    "model = LinearRegression()\n",
    "print(model)"
   ]
  },
  {
   "cell_type": "code",
   "execution_count": null,
   "id": "f95ac3a7",
   "metadata": {},
   "outputs": [],
   "source": [
    "# Topic: Pandas\n",
    "import pandas as pd\n",
    "df = pd.DataFrame({'A':[1,2],'B':[3,4]})\n",
    "print(df)"
   ]
  },
  {
   "cell_type": "code",
   "execution_count": null,
   "id": "4c715d53",
   "metadata": {},
   "outputs": [],
   "source": [
    "# Topic: Decorators\n",
    "def log(func):\n",
    " def wrapper():\n",
    "  print('Call')\n",
    "  func()\n",
    " return wrapper\n",
    "@log\n",
    "def say(): print('Hi')\n",
    "say()"
   ]
  },
  {
   "cell_type": "code",
   "execution_count": null,
   "id": "d9c0ca9d",
   "metadata": {},
   "outputs": [],
   "source": [
    "# Topic: Loops\n",
    "for i in range(10): print(i*i)"
   ]
  },
  {
   "cell_type": "code",
   "execution_count": null,
   "id": "349c288f",
   "metadata": {},
   "outputs": [],
   "source": [
    "# Topic: Mini Projects\n",
    "# Calculator\n",
    "def calc(a,b,op): return eval(f'{a}{op}{b}')\n",
    "print(calc(5,2,'+'))"
   ]
  },
  {
   "cell_type": "code",
   "execution_count": null,
   "id": "90f4b1f4",
   "metadata": {},
   "outputs": [],
   "source": [
    "# Topic: Mini Projects\n",
    "# Palindrome check\n",
    "def is_pal(s): return s == s[::-1]\n",
    "print(is_pal('madam'))"
   ]
  },
  {
   "cell_type": "code",
   "execution_count": null,
   "id": "3aee6787",
   "metadata": {},
   "outputs": [],
   "source": [
    "# Topic: Matplotlib & Seaborn\n",
    "import matplotlib.pyplot as plt\n",
    "plt.plot([1,2],[3,4])\n",
    "plt.show()"
   ]
  },
  {
   "cell_type": "code",
   "execution_count": null,
   "id": "eabb7ce7",
   "metadata": {},
   "outputs": [],
   "source": [
    "# Topic: Lists & Tuples\n",
    "t = (1, 2, 3)\n",
    "print(t[0])"
   ]
  },
  {
   "cell_type": "code",
   "execution_count": null,
   "id": "d8a44b15",
   "metadata": {},
   "outputs": [],
   "source": [
    "# Topic: Data Cleaning\n",
    "import pandas as pd\n",
    "df = pd.DataFrame({'A':[1,None,3]})\n",
    "df = df.fillna(0)\n",
    "print(df)"
   ]
  },
  {
   "cell_type": "code",
   "execution_count": null,
   "id": "0d0eb3f8",
   "metadata": {},
   "outputs": [],
   "source": [
    "# Topic: Matplotlib & Seaborn\n",
    "import seaborn as sns\n",
    "import pandas as pd\n",
    "sns.set()\n",
    "sns.histplot(pd.Series([1,2,2,3]));"
   ]
  },
  {
   "cell_type": "code",
   "execution_count": null,
   "id": "46a2331a",
   "metadata": {},
   "outputs": [],
   "source": [
    "# Topic: Basic ML\n",
    "from sklearn.linear_model import LinearRegression\n",
    "model = LinearRegression()\n",
    "print(model)"
   ]
  },
  {
   "cell_type": "code",
   "execution_count": null,
   "id": "c0486d3b",
   "metadata": {},
   "outputs": [],
   "source": [
    "# Topic: Web Scraping\n",
    "import requests\n",
    "from bs4 import BeautifulSoup\n",
    "r = requests.get('https://example.com')\n",
    "soup = BeautifulSoup(r.text, 'html.parser')\n",
    "print(soup.title.text)"
   ]
  },
  {
   "cell_type": "code",
   "execution_count": null,
   "id": "d781c725",
   "metadata": {},
   "outputs": [],
   "source": [
    "# Topic: Basic ML\n",
    "from sklearn.linear_model import LinearRegression\n",
    "model = LinearRegression()\n",
    "print(model)"
   ]
  },
  {
   "cell_type": "code",
   "execution_count": null,
   "id": "aea1984f",
   "metadata": {},
   "outputs": [],
   "source": [
    "# Topic: Loops\n",
    "for i in range(10): print(i*i)"
   ]
  },
  {
   "cell_type": "code",
   "execution_count": null,
   "id": "6db5faf7",
   "metadata": {},
   "outputs": [],
   "source": [
    "# Topic: File I/O\n",
    "with open('test.txt', 'r') as f:\n",
    "    print(f.read())"
   ]
  },
  {
   "cell_type": "code",
   "execution_count": null,
   "id": "b7e06a94",
   "metadata": {},
   "outputs": [],
   "source": [
    "# Topic: Pandas\n",
    "import pandas as pd\n",
    "df = pd.read_csv('file.csv')\n",
    "print(df.head())"
   ]
  },
  {
   "cell_type": "code",
   "execution_count": null,
   "id": "e032da4d",
   "metadata": {},
   "outputs": [],
   "source": [
    "# Topic: Basics\n",
    "name = 'Fahd'\n",
    "print(f'Hello, {name}')"
   ]
  },
  {
   "cell_type": "code",
   "execution_count": null,
   "id": "bc195ea3",
   "metadata": {},
   "outputs": [],
   "source": [
    "# Topic: Mini Projects\n",
    "# Palindrome check\n",
    "def is_pal(s): return s == s[::-1]\n",
    "print(is_pal('madam'))"
   ]
  },
  {
   "cell_type": "code",
   "execution_count": null,
   "id": "34a8cb49",
   "metadata": {},
   "outputs": [],
   "source": [
    "# Topic: Decorators\n",
    "def log(func):\n",
    " def wrapper():\n",
    "  print('Call')\n",
    "  func()\n",
    " return wrapper\n",
    "@log\n",
    "def say(): print('Hi')\n",
    "say()"
   ]
  },
  {
   "cell_type": "code",
   "execution_count": null,
   "id": "2aed0919",
   "metadata": {},
   "outputs": [],
   "source": [
    "# Topic: Web Scraping\n",
    "import requests\n",
    "from bs4 import BeautifulSoup\n",
    "r = requests.get('https://example.com')\n",
    "soup = BeautifulSoup(r.text, 'html.parser')\n",
    "print(soup.title.text)"
   ]
  },
  {
   "cell_type": "code",
   "execution_count": null,
   "id": "3ceacb59",
   "metadata": {},
   "outputs": [],
   "source": [
    "# Topic: Decorators\n",
    "def log(func):\n",
    " def wrapper():\n",
    "  print('Call')\n",
    "  func()\n",
    " return wrapper\n",
    "@log\n",
    "def say(): print('Hi')\n",
    "say()"
   ]
  },
  {
   "cell_type": "code",
   "execution_count": null,
   "id": "f26d233c",
   "metadata": {},
   "outputs": [],
   "source": [
    "# Topic: OOP\n",
    "class Student:\n",
    "    def __init__(self, name): self.name = name\n",
    "s = Student('Fahd')\n",
    "print(s.name)"
   ]
  },
  {
   "cell_type": "code",
   "execution_count": null,
   "id": "5850779f",
   "metadata": {},
   "outputs": [],
   "source": [
    "# Topic: Dictionaries & Sets\n",
    "d = {'name': 'Fahd', 'age': 20}\n",
    "print(d.get('name'))"
   ]
  },
  {
   "cell_type": "code",
   "execution_count": null,
   "id": "c114741f",
   "metadata": {},
   "outputs": [],
   "source": [
    "# Topic: Mini Projects\n",
    "# Palindrome check\n",
    "def is_pal(s): return s == s[::-1]\n",
    "print(is_pal('madam'))"
   ]
  },
  {
   "cell_type": "code",
   "execution_count": null,
   "id": "d30dcb64",
   "metadata": {},
   "outputs": [],
   "source": [
    "# Topic: Basic ML\n",
    "from sklearn.linear_model import LinearRegression\n",
    "model = LinearRegression()\n",
    "print(model)"
   ]
  },
  {
   "cell_type": "code",
   "execution_count": null,
   "id": "48600827",
   "metadata": {},
   "outputs": [],
   "source": [
    "# Topic: Functions\n",
    "def square(x): return x*x\n",
    "print(square(5))"
   ]
  },
  {
   "cell_type": "code",
   "execution_count": null,
   "id": "cb60cfa4",
   "metadata": {},
   "outputs": [],
   "source": [
    "# Topic: NumPy\n",
    "import numpy as np\n",
    "a = np.array([1, 2, 3])\n",
    "print(a + 5)"
   ]
  },
  {
   "cell_type": "code",
   "execution_count": null,
   "id": "46e20c7e",
   "metadata": {},
   "outputs": [],
   "source": [
    "# Topic: Data Cleaning\n",
    "import pandas as pd\n",
    "df = pd.DataFrame({'A':[1,None,3]})\n",
    "df = df.fillna(0)\n",
    "print(df)"
   ]
  },
  {
   "cell_type": "code",
   "execution_count": null,
   "id": "2813859a",
   "metadata": {},
   "outputs": [],
   "source": [
    "# Topic: Basic ML\n",
    "from sklearn.linear_model import LinearRegression\n",
    "model = LinearRegression()\n",
    "print(model)"
   ]
  },
  {
   "cell_type": "code",
   "execution_count": null,
   "id": "535495bd",
   "metadata": {},
   "outputs": [],
   "source": [
    "# Topic: Basic ML\n",
    "from sklearn.linear_model import LinearRegression\n",
    "model = LinearRegression()\n",
    "print(model)"
   ]
  },
  {
   "cell_type": "code",
   "execution_count": null,
   "id": "a1682c38",
   "metadata": {},
   "outputs": [],
   "source": [
    "# Topic: Data Cleaning\n",
    "import pandas as pd\n",
    "df = pd.DataFrame({'A':[1,None,3]})\n",
    "df = df.fillna(0)\n",
    "print(df)"
   ]
  },
  {
   "cell_type": "code",
   "execution_count": null,
   "id": "69b7c82c",
   "metadata": {},
   "outputs": [],
   "source": [
    "# Topic: Dictionaries & Sets\n",
    "d = {'name': 'Fahd', 'age': 20}\n",
    "print(d.get('name'))"
   ]
  },
  {
   "cell_type": "code",
   "execution_count": null,
   "id": "57d5b783",
   "metadata": {},
   "outputs": [],
   "source": [
    "# Topic: JSON & CSV\n",
    "import json\n",
    "data = {'a': 1}\n",
    "print(json.dumps(data))"
   ]
  },
  {
   "cell_type": "code",
   "execution_count": null,
   "id": "de884a98",
   "metadata": {},
   "outputs": [],
   "source": [
    "# Topic: NumPy\n",
    "import numpy as np\n",
    "print(np.linspace(0, 1, 5))"
   ]
  },
  {
   "cell_type": "code",
   "execution_count": null,
   "id": "380e7f6a",
   "metadata": {},
   "outputs": [],
   "source": [
    "# Topic: Decorators\n",
    "def log(func):\n",
    " def wrapper():\n",
    "  print('Call')\n",
    "  func()\n",
    " return wrapper\n",
    "@log\n",
    "def say(): print('Hi')\n",
    "say()"
   ]
  },
  {
   "cell_type": "code",
   "execution_count": null,
   "id": "63201ec7",
   "metadata": {},
   "outputs": [],
   "source": [
    "# Topic: Pandas\n",
    "import pandas as pd\n",
    "df = pd.read_csv('file.csv')\n",
    "print(df.head())"
   ]
  },
  {
   "cell_type": "code",
   "execution_count": null,
   "id": "3884f4c2",
   "metadata": {},
   "outputs": [],
   "source": [
    "# Topic: CLI Tools\n",
    "import sys\n",
    "print(f'Arguments: {sys.argv}')"
   ]
  },
  {
   "cell_type": "code",
   "execution_count": null,
   "id": "050b7eba",
   "metadata": {},
   "outputs": [],
   "source": [
    "# Topic: Lists & Tuples\n",
    "lst = [1, 2, 3]\n",
    "lst.append(4)\n",
    "print(lst)"
   ]
  },
  {
   "cell_type": "code",
   "execution_count": null,
   "id": "e9f9259b",
   "metadata": {},
   "outputs": [],
   "source": [
    "# Topic: Mini Projects\n",
    "# Palindrome check\n",
    "def is_pal(s): return s == s[::-1]\n",
    "print(is_pal('madam'))"
   ]
  },
  {
   "cell_type": "code",
   "execution_count": null,
   "id": "50ef4a8c",
   "metadata": {},
   "outputs": [],
   "source": [
    "# Topic: Basics\n",
    "name = 'Fahd'\n",
    "print(f'Hello, {name}')"
   ]
  },
  {
   "cell_type": "code",
   "execution_count": null,
   "id": "4ab75e52",
   "metadata": {},
   "outputs": [],
   "source": [
    "# Topic: JSON & CSV\n",
    "import csv\n",
    "with open('file.csv', 'w', newline='') as f:\n",
    " csv.writer(f).writerow(['a','b','c'])"
   ]
  },
  {
   "cell_type": "code",
   "execution_count": null,
   "id": "3543a630",
   "metadata": {},
   "outputs": [],
   "source": [
    "# Topic: Recursion\n",
    "def fact(n): return 1 if n==0 else n*fact(n-1)\n",
    "print(fact(5))"
   ]
  },
  {
   "cell_type": "code",
   "execution_count": null,
   "id": "2d028516",
   "metadata": {},
   "outputs": [],
   "source": [
    "# Topic: Pandas\n",
    "import pandas as pd\n",
    "df = pd.DataFrame({'A':[1,2],'B':[3,4]})\n",
    "print(df)"
   ]
  },
  {
   "cell_type": "code",
   "execution_count": null,
   "id": "e442c477",
   "metadata": {},
   "outputs": [],
   "source": [
    "# Topic: Mini Projects\n",
    "# Palindrome check\n",
    "def is_pal(s): return s == s[::-1]\n",
    "print(is_pal('madam'))"
   ]
  },
  {
   "cell_type": "code",
   "execution_count": null,
   "id": "37240384",
   "metadata": {},
   "outputs": [],
   "source": [
    "# Topic: Pandas\n",
    "import pandas as pd\n",
    "df = pd.read_csv('file.csv')\n",
    "print(df.head())"
   ]
  },
  {
   "cell_type": "code",
   "execution_count": null,
   "id": "2bb70c58",
   "metadata": {},
   "outputs": [],
   "source": [
    "# Topic: Basic ML\n",
    "from sklearn.linear_model import LinearRegression\n",
    "model = LinearRegression()\n",
    "print(model)"
   ]
  },
  {
   "cell_type": "code",
   "execution_count": null,
   "id": "19fd596f",
   "metadata": {},
   "outputs": [],
   "source": [
    "# Topic: Matplotlib & Seaborn\n",
    "import seaborn as sns\n",
    "import pandas as pd\n",
    "sns.set()\n",
    "sns.histplot(pd.Series([1,2,2,3]));"
   ]
  },
  {
   "cell_type": "code",
   "execution_count": null,
   "id": "edac869b",
   "metadata": {},
   "outputs": [],
   "source": [
    "# Topic: File I/O\n",
    "with open('test.txt', 'w') as f:\n",
    "    f.write('Hello World')"
   ]
  },
  {
   "cell_type": "code",
   "execution_count": null,
   "id": "ba5ca953",
   "metadata": {},
   "outputs": [],
   "source": [
    "# Topic: Algorithms\n",
    "# Bubble sort\n",
    "def bubble(arr):\n",
    " for i in range(len(arr)):\n",
    "  for j in range(0, len(arr)-i-1):\n",
    "   if arr[j]>arr[j+1]: arr[j],arr[j+1]=arr[j+1],arr[j]\n",
    "a=[5,3,8]\n",
    "bubble(a)\n",
    "print(a)"
   ]
  },
  {
   "cell_type": "code",
   "execution_count": null,
   "id": "89ca9f09",
   "metadata": {},
   "outputs": [],
   "source": [
    "# Topic: Pandas\n",
    "import pandas as pd\n",
    "df = pd.read_csv('file.csv')\n",
    "print(df.head())"
   ]
  },
  {
   "cell_type": "code",
   "execution_count": null,
   "id": "91a8d628",
   "metadata": {},
   "outputs": [],
   "source": [
    "# Topic: Basics\n",
    "x = 10\n",
    "y = 20\n",
    "print(x + y)"
   ]
  },
  {
   "cell_type": "code",
   "execution_count": null,
   "id": "c9aae05c",
   "metadata": {},
   "outputs": [],
   "source": [
    "# Topic: Dictionaries & Sets\n",
    "d = {'name': 'Fahd', 'age': 20}\n",
    "print(d.get('name'))"
   ]
  },
  {
   "cell_type": "code",
   "execution_count": null,
   "id": "d22f19d9",
   "metadata": {},
   "outputs": [],
   "source": [
    "# Topic: NumPy\n",
    "import numpy as np\n",
    "print(np.linspace(0, 1, 5))"
   ]
  },
  {
   "cell_type": "code",
   "execution_count": null,
   "id": "1899b119",
   "metadata": {},
   "outputs": [],
   "source": [
    "# Topic: Lists & Tuples\n",
    "lst = [1, 2, 3]\n",
    "lst.append(4)\n",
    "print(lst)"
   ]
  },
  {
   "cell_type": "code",
   "execution_count": null,
   "id": "d5a5ba1a",
   "metadata": {},
   "outputs": [],
   "source": [
    "# Topic: Functions\n",
    "def greet(name='User'):\n",
    "    print(f'Hi, {name}')\n",
    "greet()"
   ]
  },
  {
   "cell_type": "code",
   "execution_count": null,
   "id": "b19244a8",
   "metadata": {},
   "outputs": [],
   "source": [
    "# Topic: Basics\n",
    "x = 10\n",
    "y = 20\n",
    "print(x + y)"
   ]
  },
  {
   "cell_type": "code",
   "execution_count": null,
   "id": "1f2a7a6f",
   "metadata": {},
   "outputs": [],
   "source": [
    "# Topic: CLI Tools\n",
    "import sys\n",
    "print(f'Arguments: {sys.argv}')"
   ]
  },
  {
   "cell_type": "code",
   "execution_count": null,
   "id": "2b28cff6",
   "metadata": {},
   "outputs": [],
   "source": [
    "# Topic: NumPy\n",
    "import numpy as np\n",
    "print(np.linspace(0, 1, 5))"
   ]
  },
  {
   "cell_type": "code",
   "execution_count": null,
   "id": "6c30aec1",
   "metadata": {},
   "outputs": [],
   "source": [
    "# Topic: Web Scraping\n",
    "import requests\n",
    "from bs4 import BeautifulSoup\n",
    "r = requests.get('https://example.com')\n",
    "soup = BeautifulSoup(r.text, 'html.parser')\n",
    "print(soup.title.text)"
   ]
  },
  {
   "cell_type": "code",
   "execution_count": null,
   "id": "b4d5db1c",
   "metadata": {},
   "outputs": [],
   "source": [
    "# Topic: Web Scraping\n",
    "import requests\n",
    "from bs4 import BeautifulSoup\n",
    "r = requests.get('https://example.com')\n",
    "soup = BeautifulSoup(r.text, 'html.parser')\n",
    "print(soup.title.text)"
   ]
  },
  {
   "cell_type": "code",
   "execution_count": null,
   "id": "2e370857",
   "metadata": {},
   "outputs": [],
   "source": [
    "# Topic: Decorators\n",
    "def log(func):\n",
    " def wrapper():\n",
    "  print('Call')\n",
    "  func()\n",
    " return wrapper\n",
    "@log\n",
    "def say(): print('Hi')\n",
    "say()"
   ]
  },
  {
   "cell_type": "code",
   "execution_count": null,
   "id": "631fe48d",
   "metadata": {},
   "outputs": [],
   "source": [
    "# Topic: Pandas\n",
    "import pandas as pd\n",
    "df = pd.DataFrame({'A':[1,2],'B':[3,4]})\n",
    "print(df)"
   ]
  },
  {
   "cell_type": "code",
   "execution_count": null,
   "id": "7465a69b",
   "metadata": {},
   "outputs": [],
   "source": [
    "# Topic: Basic ML\n",
    "from sklearn.linear_model import LinearRegression\n",
    "model = LinearRegression()\n",
    "print(model)"
   ]
  },
  {
   "cell_type": "code",
   "execution_count": null,
   "id": "feac89cc",
   "metadata": {},
   "outputs": [],
   "source": [
    "# Topic: Algorithms\n",
    "# Bubble sort\n",
    "def bubble(arr):\n",
    " for i in range(len(arr)):\n",
    "  for j in range(0, len(arr)-i-1):\n",
    "   if arr[j]>arr[j+1]: arr[j],arr[j+1]=arr[j+1],arr[j]\n",
    "a=[5,3,8]\n",
    "bubble(a)\n",
    "print(a)"
   ]
  },
  {
   "cell_type": "code",
   "execution_count": null,
   "id": "7641d6bf",
   "metadata": {},
   "outputs": [],
   "source": [
    "# Topic: CLI Tools\n",
    "import sys\n",
    "print(f'Arguments: {sys.argv}')"
   ]
  },
  {
   "cell_type": "code",
   "execution_count": null,
   "id": "b45ddde6",
   "metadata": {},
   "outputs": [],
   "source": [
    "# Topic: Recursion\n",
    "def fact(n): return 1 if n==0 else n*fact(n-1)\n",
    "print(fact(5))"
   ]
  },
  {
   "cell_type": "code",
   "execution_count": null,
   "id": "9a3f8843",
   "metadata": {},
   "outputs": [],
   "source": [
    "# Topic: Dictionaries & Sets\n",
    "s = set([1, 2, 3, 2])\n",
    "print(s)"
   ]
  },
  {
   "cell_type": "code",
   "execution_count": null,
   "id": "69cd395a",
   "metadata": {},
   "outputs": [],
   "source": [
    "# Topic: Web Scraping\n",
    "import requests\n",
    "from bs4 import BeautifulSoup\n",
    "r = requests.get('https://example.com')\n",
    "soup = BeautifulSoup(r.text, 'html.parser')\n",
    "print(soup.title.text)"
   ]
  },
  {
   "cell_type": "code",
   "execution_count": null,
   "id": "3a9e806d",
   "metadata": {},
   "outputs": [],
   "source": [
    "# Topic: JSON & CSV\n",
    "import csv\n",
    "with open('file.csv', 'w', newline='') as f:\n",
    " csv.writer(f).writerow(['a','b','c'])"
   ]
  },
  {
   "cell_type": "code",
   "execution_count": null,
   "id": "f76e52d7",
   "metadata": {},
   "outputs": [],
   "source": [
    "# Topic: Decorators\n",
    "def log(func):\n",
    " def wrapper():\n",
    "  print('Call')\n",
    "  func()\n",
    " return wrapper\n",
    "@log\n",
    "def say(): print('Hi')\n",
    "say()"
   ]
  },
  {
   "cell_type": "code",
   "execution_count": null,
   "id": "a2d2034f",
   "metadata": {},
   "outputs": [],
   "source": [
    "# Topic: Pandas\n",
    "import pandas as pd\n",
    "df = pd.DataFrame({'A':[1,2],'B':[3,4]})\n",
    "print(df)"
   ]
  },
  {
   "cell_type": "code",
   "execution_count": null,
   "id": "1b47902a",
   "metadata": {},
   "outputs": [],
   "source": [
    "# Topic: Data Cleaning\n",
    "import pandas as pd\n",
    "df = pd.DataFrame({'A':[1,None,3]})\n",
    "df = df.fillna(0)\n",
    "print(df)"
   ]
  },
  {
   "cell_type": "code",
   "execution_count": null,
   "id": "0cf4533f",
   "metadata": {},
   "outputs": [],
   "source": [
    "# Topic: Algorithms\n",
    "# Bubble sort\n",
    "def bubble(arr):\n",
    " for i in range(len(arr)):\n",
    "  for j in range(0, len(arr)-i-1):\n",
    "   if arr[j]>arr[j+1]: arr[j],arr[j+1]=arr[j+1],arr[j]\n",
    "a=[5,3,8]\n",
    "bubble(a)\n",
    "print(a)"
   ]
  },
  {
   "cell_type": "code",
   "execution_count": null,
   "id": "adf4bd60",
   "metadata": {},
   "outputs": [],
   "source": [
    "# Topic: Lists & Tuples\n",
    "t = (1, 2, 3)\n",
    "print(t[0])"
   ]
  },
  {
   "cell_type": "code",
   "execution_count": null,
   "id": "0c47301b",
   "metadata": {},
   "outputs": [],
   "source": [
    "# Topic: File I/O\n",
    "with open('test.txt', 'r') as f:\n",
    "    print(f.read())"
   ]
  },
  {
   "cell_type": "code",
   "execution_count": null,
   "id": "b39dec35",
   "metadata": {},
   "outputs": [],
   "source": [
    "# Topic: JSON & CSV\n",
    "import csv\n",
    "with open('file.csv', 'w', newline='') as f:\n",
    " csv.writer(f).writerow(['a','b','c'])"
   ]
  },
  {
   "cell_type": "code",
   "execution_count": null,
   "id": "9e4e76d3",
   "metadata": {},
   "outputs": [],
   "source": [
    "# Topic: Basics\n",
    "name = 'Fahd'\n",
    "print(f'Hello, {name}')"
   ]
  },
  {
   "cell_type": "code",
   "execution_count": null,
   "id": "6f4c8280",
   "metadata": {},
   "outputs": [],
   "source": [
    "# Topic: Loops\n",
    "for i in range(10): print(i*i)"
   ]
  },
  {
   "cell_type": "code",
   "execution_count": null,
   "id": "2c69fd6d",
   "metadata": {},
   "outputs": [],
   "source": [
    "# Topic: Lists & Tuples\n",
    "lst = [1, 2, 3]\n",
    "lst.append(4)\n",
    "print(lst)"
   ]
  },
  {
   "cell_type": "code",
   "execution_count": null,
   "id": "8b7fbb26",
   "metadata": {},
   "outputs": [],
   "source": [
    "# Topic: Regex\n",
    "import re\n",
    "text = 'email: test@example.com'\n",
    "print(re.findall(r'\\S+@\\S+', text))"
   ]
  },
  {
   "cell_type": "code",
   "execution_count": null,
   "id": "f18fad7e",
   "metadata": {},
   "outputs": [],
   "source": [
    "# Topic: CLI Tools\n",
    "import sys\n",
    "print(f'Arguments: {sys.argv}')"
   ]
  },
  {
   "cell_type": "code",
   "execution_count": null,
   "id": "d29147ae",
   "metadata": {},
   "outputs": [],
   "source": [
    "# Topic: Basics\n",
    "x = 10\n",
    "y = 20\n",
    "print(x + y)"
   ]
  },
  {
   "cell_type": "code",
   "execution_count": null,
   "id": "758c48c0",
   "metadata": {},
   "outputs": [],
   "source": [
    "# Topic: NumPy\n",
    "import numpy as np\n",
    "print(np.linspace(0, 1, 5))"
   ]
  },
  {
   "cell_type": "code",
   "execution_count": null,
   "id": "72acf222",
   "metadata": {},
   "outputs": [],
   "source": [
    "# Topic: Algorithms\n",
    "# Bubble sort\n",
    "def bubble(arr):\n",
    " for i in range(len(arr)):\n",
    "  for j in range(0, len(arr)-i-1):\n",
    "   if arr[j]>arr[j+1]: arr[j],arr[j+1]=arr[j+1],arr[j]\n",
    "a=[5,3,8]\n",
    "bubble(a)\n",
    "print(a)"
   ]
  },
  {
   "cell_type": "code",
   "execution_count": null,
   "id": "9426c86d",
   "metadata": {},
   "outputs": [],
   "source": [
    "# Topic: CLI Tools\n",
    "import sys\n",
    "print(f'Arguments: {sys.argv}')"
   ]
  },
  {
   "cell_type": "code",
   "execution_count": null,
   "id": "152725ce",
   "metadata": {},
   "outputs": [],
   "source": [
    "# Topic: JSON & CSV\n",
    "import csv\n",
    "with open('file.csv', 'w', newline='') as f:\n",
    " csv.writer(f).writerow(['a','b','c'])"
   ]
  },
  {
   "cell_type": "code",
   "execution_count": null,
   "id": "ae62472d",
   "metadata": {},
   "outputs": [],
   "source": [
    "# Topic: Lists & Tuples\n",
    "t = (1, 2, 3)\n",
    "print(t[0])"
   ]
  },
  {
   "cell_type": "code",
   "execution_count": null,
   "id": "afcd545b",
   "metadata": {},
   "outputs": [],
   "source": [
    "# Topic: Loops\n",
    "while True:\n",
    "    print('Break')\n",
    "    break"
   ]
  },
  {
   "cell_type": "code",
   "execution_count": null,
   "id": "005b44fc",
   "metadata": {},
   "outputs": [],
   "source": [
    "# Topic: JSON & CSV\n",
    "import csv\n",
    "with open('file.csv', 'w', newline='') as f:\n",
    " csv.writer(f).writerow(['a','b','c'])"
   ]
  },
  {
   "cell_type": "code",
   "execution_count": null,
   "id": "1012aa8b",
   "metadata": {},
   "outputs": [],
   "source": [
    "# Topic: Basic ML\n",
    "from sklearn.linear_model import LinearRegression\n",
    "model = LinearRegression()\n",
    "print(model)"
   ]
  },
  {
   "cell_type": "code",
   "execution_count": null,
   "id": "69f78349",
   "metadata": {},
   "outputs": [],
   "source": [
    "# Topic: Loops\n",
    "while True:\n",
    "    print('Break')\n",
    "    break"
   ]
  },
  {
   "cell_type": "code",
   "execution_count": null,
   "id": "7cd58113",
   "metadata": {},
   "outputs": [],
   "source": [
    "# Topic: Data Cleaning\n",
    "import pandas as pd\n",
    "df = pd.DataFrame({'A':[1,None,3]})\n",
    "df = df.fillna(0)\n",
    "print(df)"
   ]
  },
  {
   "cell_type": "code",
   "execution_count": null,
   "id": "4e3881a4",
   "metadata": {},
   "outputs": [],
   "source": [
    "# Topic: Matplotlib & Seaborn\n",
    "import matplotlib.pyplot as plt\n",
    "plt.plot([1,2],[3,4])\n",
    "plt.show()"
   ]
  },
  {
   "cell_type": "code",
   "execution_count": null,
   "id": "f6704cb4",
   "metadata": {},
   "outputs": [],
   "source": [
    "# Topic: Mini Projects\n",
    "# Palindrome check\n",
    "def is_pal(s): return s == s[::-1]\n",
    "print(is_pal('madam'))"
   ]
  },
  {
   "cell_type": "code",
   "execution_count": null,
   "id": "5b1755e3",
   "metadata": {},
   "outputs": [],
   "source": [
    "# Topic: Regex\n",
    "import re\n",
    "text = 'email: test@example.com'\n",
    "print(re.findall(r'\\S+@\\S+', text))"
   ]
  },
  {
   "cell_type": "code",
   "execution_count": null,
   "id": "0da20ccb",
   "metadata": {},
   "outputs": [],
   "source": [
    "# Topic: Matplotlib & Seaborn\n",
    "import matplotlib.pyplot as plt\n",
    "plt.plot([1,2],[3,4])\n",
    "plt.show()"
   ]
  },
  {
   "cell_type": "code",
   "execution_count": null,
   "id": "4b9e7c9c",
   "metadata": {},
   "outputs": [],
   "source": [
    "# Topic: Regex\n",
    "import re\n",
    "text = 'email: test@example.com'\n",
    "print(re.findall(r'\\S+@\\S+', text))"
   ]
  },
  {
   "cell_type": "code",
   "execution_count": null,
   "id": "c6c142e8",
   "metadata": {},
   "outputs": [],
   "source": [
    "# Topic: Web Scraping\n",
    "import requests\n",
    "from bs4 import BeautifulSoup\n",
    "r = requests.get('https://example.com')\n",
    "soup = BeautifulSoup(r.text, 'html.parser')\n",
    "print(soup.title.text)"
   ]
  },
  {
   "cell_type": "code",
   "execution_count": null,
   "id": "4af8a011",
   "metadata": {},
   "outputs": [],
   "source": [
    "# Topic: Basic ML\n",
    "from sklearn.linear_model import LinearRegression\n",
    "model = LinearRegression()\n",
    "print(model)"
   ]
  },
  {
   "cell_type": "code",
   "execution_count": null,
   "id": "a333a95c",
   "metadata": {},
   "outputs": [],
   "source": [
    "# Topic: File I/O\n",
    "with open('test.txt', 'w') as f:\n",
    "    f.write('Hello World')"
   ]
  },
  {
   "cell_type": "code",
   "execution_count": null,
   "id": "21769717",
   "metadata": {},
   "outputs": [],
   "source": [
    "# Topic: Matplotlib & Seaborn\n",
    "import matplotlib.pyplot as plt\n",
    "plt.plot([1,2],[3,4])\n",
    "plt.show()"
   ]
  },
  {
   "cell_type": "code",
   "execution_count": null,
   "id": "fd2bcd0c",
   "metadata": {},
   "outputs": [],
   "source": [
    "# Topic: Decorators\n",
    "def log(func):\n",
    " def wrapper():\n",
    "  print('Call')\n",
    "  func()\n",
    " return wrapper\n",
    "@log\n",
    "def say(): print('Hi')\n",
    "say()"
   ]
  },
  {
   "cell_type": "code",
   "execution_count": null,
   "id": "f0e178d8",
   "metadata": {},
   "outputs": [],
   "source": [
    "# Topic: Decorators\n",
    "def log(func):\n",
    " def wrapper():\n",
    "  print('Call')\n",
    "  func()\n",
    " return wrapper\n",
    "@log\n",
    "def say(): print('Hi')\n",
    "say()"
   ]
  },
  {
   "cell_type": "code",
   "execution_count": null,
   "id": "48d3be90",
   "metadata": {},
   "outputs": [],
   "source": [
    "# Topic: Functions\n",
    "def greet(name='User'):\n",
    "    print(f'Hi, {name}')\n",
    "greet()"
   ]
  },
  {
   "cell_type": "code",
   "execution_count": null,
   "id": "3bea857f",
   "metadata": {},
   "outputs": [],
   "source": [
    "# Topic: Dictionaries & Sets\n",
    "s = set([1, 2, 3, 2])\n",
    "print(s)"
   ]
  },
  {
   "cell_type": "code",
   "execution_count": null,
   "id": "44bec4fe",
   "metadata": {},
   "outputs": [],
   "source": [
    "# Topic: NumPy\n",
    "import numpy as np\n",
    "a = np.array([1, 2, 3])\n",
    "print(a + 5)"
   ]
  },
  {
   "cell_type": "code",
   "execution_count": null,
   "id": "c155df5d",
   "metadata": {},
   "outputs": [],
   "source": [
    "# Topic: Dictionaries & Sets\n",
    "d = {'name': 'Fahd', 'age': 20}\n",
    "print(d.get('name'))"
   ]
  },
  {
   "cell_type": "code",
   "execution_count": null,
   "id": "b89bdb5a",
   "metadata": {},
   "outputs": [],
   "source": [
    "# Topic: Recursion\n",
    "def fact(n): return 1 if n==0 else n*fact(n-1)\n",
    "print(fact(5))"
   ]
  },
  {
   "cell_type": "code",
   "execution_count": null,
   "id": "0c1a3f0e",
   "metadata": {},
   "outputs": [],
   "source": [
    "# Topic: Mini Projects\n",
    "# Palindrome check\n",
    "def is_pal(s): return s == s[::-1]\n",
    "print(is_pal('madam'))"
   ]
  },
  {
   "cell_type": "code",
   "execution_count": null,
   "id": "cde6862a",
   "metadata": {},
   "outputs": [],
   "source": [
    "# Topic: JSON & CSV\n",
    "import csv\n",
    "with open('file.csv', 'w', newline='') as f:\n",
    " csv.writer(f).writerow(['a','b','c'])"
   ]
  },
  {
   "cell_type": "code",
   "execution_count": null,
   "id": "21452ead",
   "metadata": {},
   "outputs": [],
   "source": [
    "# Topic: JSON & CSV\n",
    "import json\n",
    "data = {'a': 1}\n",
    "print(json.dumps(data))"
   ]
  },
  {
   "cell_type": "code",
   "execution_count": null,
   "id": "6e4c0f3b",
   "metadata": {},
   "outputs": [],
   "source": [
    "# Topic: Functions\n",
    "def square(x): return x*x\n",
    "print(square(5))"
   ]
  },
  {
   "cell_type": "code",
   "execution_count": null,
   "id": "8bde7da4",
   "metadata": {},
   "outputs": [],
   "source": [
    "# Topic: Functions\n",
    "def greet(name='User'):\n",
    "    print(f'Hi, {name}')\n",
    "greet()"
   ]
  },
  {
   "cell_type": "code",
   "execution_count": null,
   "id": "6c1c4fb3",
   "metadata": {},
   "outputs": [],
   "source": [
    "# Topic: Basics\n",
    "name = 'Fahd'\n",
    "print(f'Hello, {name}')"
   ]
  },
  {
   "cell_type": "code",
   "execution_count": null,
   "id": "e62af6de",
   "metadata": {},
   "outputs": [],
   "source": [
    "# Topic: OOP\n",
    "class Student:\n",
    "    def __init__(self, name): self.name = name\n",
    "s = Student('Fahd')\n",
    "print(s.name)"
   ]
  },
  {
   "cell_type": "code",
   "execution_count": null,
   "id": "3afc1d0b",
   "metadata": {},
   "outputs": [],
   "source": [
    "# Topic: Functions\n",
    "def square(x): return x*x\n",
    "print(square(5))"
   ]
  },
  {
   "cell_type": "code",
   "execution_count": null,
   "id": "1f4e676d",
   "metadata": {},
   "outputs": [],
   "source": [
    "# Topic: JSON & CSV\n",
    "import csv\n",
    "with open('file.csv', 'w', newline='') as f:\n",
    " csv.writer(f).writerow(['a','b','c'])"
   ]
  },
  {
   "cell_type": "code",
   "execution_count": null,
   "id": "a29bc35b",
   "metadata": {},
   "outputs": [],
   "source": [
    "# Topic: OOP\n",
    "class Student:\n",
    "    def __init__(self, name): self.name = name\n",
    "s = Student('Fahd')\n",
    "print(s.name)"
   ]
  },
  {
   "cell_type": "code",
   "execution_count": null,
   "id": "711e00cc",
   "metadata": {},
   "outputs": [],
   "source": [
    "# Topic: File I/O\n",
    "with open('test.txt', 'r') as f:\n",
    "    print(f.read())"
   ]
  },
  {
   "cell_type": "code",
   "execution_count": null,
   "id": "8f208a8f",
   "metadata": {},
   "outputs": [],
   "source": [
    "# Topic: Decorators\n",
    "def log(func):\n",
    " def wrapper():\n",
    "  print('Call')\n",
    "  func()\n",
    " return wrapper\n",
    "@log\n",
    "def say(): print('Hi')\n",
    "say()"
   ]
  },
  {
   "cell_type": "code",
   "execution_count": null,
   "id": "8d6a0494",
   "metadata": {},
   "outputs": [],
   "source": [
    "# Topic: Data Cleaning\n",
    "import pandas as pd\n",
    "df = pd.DataFrame({'A':[1,None,3]})\n",
    "df = df.fillna(0)\n",
    "print(df)"
   ]
  },
  {
   "cell_type": "code",
   "execution_count": null,
   "id": "202c040a",
   "metadata": {},
   "outputs": [],
   "source": [
    "# Topic: Functions\n",
    "def square(x): return x*x\n",
    "print(square(5))"
   ]
  },
  {
   "cell_type": "code",
   "execution_count": null,
   "id": "19e7f730",
   "metadata": {},
   "outputs": [],
   "source": [
    "# Topic: Functions\n",
    "def greet(name='User'):\n",
    "    print(f'Hi, {name}')\n",
    "greet()"
   ]
  },
  {
   "cell_type": "code",
   "execution_count": null,
   "id": "d3f9be01",
   "metadata": {},
   "outputs": [],
   "source": [
    "# Topic: Loops\n",
    "while True:\n",
    "    print('Break')\n",
    "    break"
   ]
  },
  {
   "cell_type": "code",
   "execution_count": null,
   "id": "9c4422c7",
   "metadata": {},
   "outputs": [],
   "source": [
    "# Topic: Basics\n",
    "x = 10\n",
    "y = 20\n",
    "print(x + y)"
   ]
  },
  {
   "cell_type": "code",
   "execution_count": null,
   "id": "0ce52b85",
   "metadata": {},
   "outputs": [],
   "source": [
    "# Topic: Basic ML\n",
    "from sklearn.linear_model import LinearRegression\n",
    "model = LinearRegression()\n",
    "print(model)"
   ]
  },
  {
   "cell_type": "code",
   "execution_count": null,
   "id": "f99981fd",
   "metadata": {},
   "outputs": [],
   "source": [
    "# Topic: Algorithms\n",
    "# Bubble sort\n",
    "def bubble(arr):\n",
    " for i in range(len(arr)):\n",
    "  for j in range(0, len(arr)-i-1):\n",
    "   if arr[j]>arr[j+1]: arr[j],arr[j+1]=arr[j+1],arr[j]\n",
    "a=[5,3,8]\n",
    "bubble(a)\n",
    "print(a)"
   ]
  },
  {
   "cell_type": "code",
   "execution_count": null,
   "id": "a0ae30f6",
   "metadata": {},
   "outputs": [],
   "source": [
    "# Topic: CLI Tools\n",
    "import sys\n",
    "print(f'Arguments: {sys.argv}')"
   ]
  },
  {
   "cell_type": "code",
   "execution_count": null,
   "id": "e68dd533",
   "metadata": {},
   "outputs": [],
   "source": [
    "# Topic: Web Scraping\n",
    "import requests\n",
    "from bs4 import BeautifulSoup\n",
    "r = requests.get('https://example.com')\n",
    "soup = BeautifulSoup(r.text, 'html.parser')\n",
    "print(soup.title.text)"
   ]
  },
  {
   "cell_type": "code",
   "execution_count": null,
   "id": "8afb63d6",
   "metadata": {},
   "outputs": [],
   "source": [
    "# Topic: Functions\n",
    "def greet(name='User'):\n",
    "    print(f'Hi, {name}')\n",
    "greet()"
   ]
  },
  {
   "cell_type": "code",
   "execution_count": null,
   "id": "7dd5e185",
   "metadata": {},
   "outputs": [],
   "source": [
    "# Topic: Dictionaries & Sets\n",
    "s = set([1, 2, 3, 2])\n",
    "print(s)"
   ]
  },
  {
   "cell_type": "code",
   "execution_count": null,
   "id": "82de3e7d",
   "metadata": {},
   "outputs": [],
   "source": [
    "# Topic: NumPy\n",
    "import numpy as np\n",
    "a = np.array([1, 2, 3])\n",
    "print(a + 5)"
   ]
  },
  {
   "cell_type": "code",
   "execution_count": null,
   "id": "357402da",
   "metadata": {},
   "outputs": [],
   "source": [
    "# Topic: Dictionaries & Sets\n",
    "d = {'name': 'Fahd', 'age': 20}\n",
    "print(d.get('name'))"
   ]
  },
  {
   "cell_type": "code",
   "execution_count": null,
   "id": "efa7ddde",
   "metadata": {},
   "outputs": [],
   "source": [
    "# Topic: Lists & Tuples\n",
    "lst = [1, 2, 3]\n",
    "lst.append(4)\n",
    "print(lst)"
   ]
  },
  {
   "cell_type": "code",
   "execution_count": null,
   "id": "661f75b3",
   "metadata": {},
   "outputs": [],
   "source": [
    "# Topic: Data Cleaning\n",
    "import pandas as pd\n",
    "df = pd.DataFrame({'A':[1,None,3]})\n",
    "df = df.fillna(0)\n",
    "print(df)"
   ]
  },
  {
   "cell_type": "code",
   "execution_count": null,
   "id": "f1af61dc",
   "metadata": {},
   "outputs": [],
   "source": [
    "# Topic: Decorators\n",
    "def log(func):\n",
    " def wrapper():\n",
    "  print('Call')\n",
    "  func()\n",
    " return wrapper\n",
    "@log\n",
    "def say(): print('Hi')\n",
    "say()"
   ]
  },
  {
   "cell_type": "code",
   "execution_count": null,
   "id": "8b39e14c",
   "metadata": {},
   "outputs": [],
   "source": [
    "# Topic: CLI Tools\n",
    "import sys\n",
    "print(f'Arguments: {sys.argv}')"
   ]
  },
  {
   "cell_type": "code",
   "execution_count": null,
   "id": "7e442c65",
   "metadata": {},
   "outputs": [],
   "source": [
    "# Topic: Algorithms\n",
    "# Bubble sort\n",
    "def bubble(arr):\n",
    " for i in range(len(arr)):\n",
    "  for j in range(0, len(arr)-i-1):\n",
    "   if arr[j]>arr[j+1]: arr[j],arr[j+1]=arr[j+1],arr[j]\n",
    "a=[5,3,8]\n",
    "bubble(a)\n",
    "print(a)"
   ]
  },
  {
   "cell_type": "code",
   "execution_count": null,
   "id": "f1ba8e4b",
   "metadata": {},
   "outputs": [],
   "source": [
    "# Topic: Recursion\n",
    "def fact(n): return 1 if n==0 else n*fact(n-1)\n",
    "print(fact(5))"
   ]
  },
  {
   "cell_type": "code",
   "execution_count": null,
   "id": "66e49346",
   "metadata": {},
   "outputs": [],
   "source": [
    "# Topic: Mini Projects\n",
    "# Calculator\n",
    "def calc(a,b,op): return eval(f'{a}{op}{b}')\n",
    "print(calc(5,2,'+'))"
   ]
  },
  {
   "cell_type": "code",
   "execution_count": null,
   "id": "06238159",
   "metadata": {},
   "outputs": [],
   "source": [
    "# Topic: CLI Tools\n",
    "import sys\n",
    "print(f'Arguments: {sys.argv}')"
   ]
  },
  {
   "cell_type": "code",
   "execution_count": null,
   "id": "037e1098",
   "metadata": {},
   "outputs": [],
   "source": [
    "# Topic: Decorators\n",
    "def log(func):\n",
    " def wrapper():\n",
    "  print('Call')\n",
    "  func()\n",
    " return wrapper\n",
    "@log\n",
    "def say(): print('Hi')\n",
    "say()"
   ]
  },
  {
   "cell_type": "code",
   "execution_count": null,
   "id": "e0675288",
   "metadata": {},
   "outputs": [],
   "source": [
    "# Topic: Algorithms\n",
    "# Bubble sort\n",
    "def bubble(arr):\n",
    " for i in range(len(arr)):\n",
    "  for j in range(0, len(arr)-i-1):\n",
    "   if arr[j]>arr[j+1]: arr[j],arr[j+1]=arr[j+1],arr[j]\n",
    "a=[5,3,8]\n",
    "bubble(a)\n",
    "print(a)"
   ]
  },
  {
   "cell_type": "code",
   "execution_count": null,
   "id": "b2f91ed7",
   "metadata": {},
   "outputs": [],
   "source": [
    "# Topic: Functions\n",
    "def greet(name='User'):\n",
    "    print(f'Hi, {name}')\n",
    "greet()"
   ]
  },
  {
   "cell_type": "code",
   "execution_count": null,
   "id": "aace7efb",
   "metadata": {},
   "outputs": [],
   "source": [
    "# Topic: CLI Tools\n",
    "import sys\n",
    "print(f'Arguments: {sys.argv}')"
   ]
  },
  {
   "cell_type": "code",
   "execution_count": null,
   "id": "eaa7cec5",
   "metadata": {},
   "outputs": [],
   "source": [
    "# Topic: File I/O\n",
    "with open('test.txt', 'r') as f:\n",
    "    print(f.read())"
   ]
  },
  {
   "cell_type": "code",
   "execution_count": null,
   "id": "3c878a2d",
   "metadata": {},
   "outputs": [],
   "source": [
    "# Topic: Regex\n",
    "import re\n",
    "text = 'email: test@example.com'\n",
    "print(re.findall(r'\\S+@\\S+', text))"
   ]
  },
  {
   "cell_type": "code",
   "execution_count": null,
   "id": "ba787c7a",
   "metadata": {},
   "outputs": [],
   "source": [
    "# Topic: Dictionaries & Sets\n",
    "s = set([1, 2, 3, 2])\n",
    "print(s)"
   ]
  },
  {
   "cell_type": "code",
   "execution_count": null,
   "id": "f50694b5",
   "metadata": {},
   "outputs": [],
   "source": [
    "# Topic: Algorithms\n",
    "# Bubble sort\n",
    "def bubble(arr):\n",
    " for i in range(len(arr)):\n",
    "  for j in range(0, len(arr)-i-1):\n",
    "   if arr[j]>arr[j+1]: arr[j],arr[j+1]=arr[j+1],arr[j]\n",
    "a=[5,3,8]\n",
    "bubble(a)\n",
    "print(a)"
   ]
  },
  {
   "cell_type": "code",
   "execution_count": null,
   "id": "08637fb6",
   "metadata": {},
   "outputs": [],
   "source": [
    "# Topic: Data Cleaning\n",
    "import pandas as pd\n",
    "df = pd.DataFrame({'A':[1,None,3]})\n",
    "df = df.fillna(0)\n",
    "print(df)"
   ]
  },
  {
   "cell_type": "code",
   "execution_count": null,
   "id": "4548f3af",
   "metadata": {},
   "outputs": [],
   "source": [
    "# Topic: Algorithms\n",
    "# Bubble sort\n",
    "def bubble(arr):\n",
    " for i in range(len(arr)):\n",
    "  for j in range(0, len(arr)-i-1):\n",
    "   if arr[j]>arr[j+1]: arr[j],arr[j+1]=arr[j+1],arr[j]\n",
    "a=[5,3,8]\n",
    "bubble(a)\n",
    "print(a)"
   ]
  },
  {
   "cell_type": "code",
   "execution_count": null,
   "id": "1f280a79",
   "metadata": {},
   "outputs": [],
   "source": [
    "# Topic: Basic ML\n",
    "from sklearn.linear_model import LinearRegression\n",
    "model = LinearRegression()\n",
    "print(model)"
   ]
  },
  {
   "cell_type": "code",
   "execution_count": null,
   "id": "dbfec087",
   "metadata": {},
   "outputs": [],
   "source": [
    "# Topic: Matplotlib & Seaborn\n",
    "import matplotlib.pyplot as plt\n",
    "plt.plot([1,2],[3,4])\n",
    "plt.show()"
   ]
  },
  {
   "cell_type": "code",
   "execution_count": null,
   "id": "3af03c89",
   "metadata": {},
   "outputs": [],
   "source": [
    "# Topic: Web Scraping\n",
    "import requests\n",
    "from bs4 import BeautifulSoup\n",
    "r = requests.get('https://example.com')\n",
    "soup = BeautifulSoup(r.text, 'html.parser')\n",
    "print(soup.title.text)"
   ]
  },
  {
   "cell_type": "code",
   "execution_count": null,
   "id": "f2ee76a5",
   "metadata": {},
   "outputs": [],
   "source": [
    "# Topic: CLI Tools\n",
    "import sys\n",
    "print(f'Arguments: {sys.argv}')"
   ]
  },
  {
   "cell_type": "code",
   "execution_count": null,
   "id": "4b1dccee",
   "metadata": {},
   "outputs": [],
   "source": [
    "# Topic: Mini Projects\n",
    "# Palindrome check\n",
    "def is_pal(s): return s == s[::-1]\n",
    "print(is_pal('madam'))"
   ]
  },
  {
   "cell_type": "code",
   "execution_count": null,
   "id": "93cd5017",
   "metadata": {},
   "outputs": [],
   "source": [
    "# Topic: Mini Projects\n",
    "# Calculator\n",
    "def calc(a,b,op): return eval(f'{a}{op}{b}')\n",
    "print(calc(5,2,'+'))"
   ]
  },
  {
   "cell_type": "code",
   "execution_count": null,
   "id": "f0bf43f3",
   "metadata": {},
   "outputs": [],
   "source": [
    "# Topic: Functions\n",
    "def greet(name='User'):\n",
    "    print(f'Hi, {name}')\n",
    "greet()"
   ]
  },
  {
   "cell_type": "code",
   "execution_count": null,
   "id": "3c3cd58a",
   "metadata": {},
   "outputs": [],
   "source": [
    "# Topic: CLI Tools\n",
    "import sys\n",
    "print(f'Arguments: {sys.argv}')"
   ]
  },
  {
   "cell_type": "code",
   "execution_count": null,
   "id": "1d9317b2",
   "metadata": {},
   "outputs": [],
   "source": [
    "# Topic: Web Scraping\n",
    "import requests\n",
    "from bs4 import BeautifulSoup\n",
    "r = requests.get('https://example.com')\n",
    "soup = BeautifulSoup(r.text, 'html.parser')\n",
    "print(soup.title.text)"
   ]
  },
  {
   "cell_type": "code",
   "execution_count": null,
   "id": "833360f8",
   "metadata": {},
   "outputs": [],
   "source": [
    "# Topic: Lists & Tuples\n",
    "lst = [1, 2, 3]\n",
    "lst.append(4)\n",
    "print(lst)"
   ]
  },
  {
   "cell_type": "code",
   "execution_count": null,
   "id": "94d56ad4",
   "metadata": {},
   "outputs": [],
   "source": [
    "# Topic: Loops\n",
    "while True:\n",
    "    print('Break')\n",
    "    break"
   ]
  },
  {
   "cell_type": "code",
   "execution_count": null,
   "id": "6a0ccae2",
   "metadata": {},
   "outputs": [],
   "source": [
    "# Topic: Functions\n",
    "def greet(name='User'):\n",
    "    print(f'Hi, {name}')\n",
    "greet()"
   ]
  },
  {
   "cell_type": "code",
   "execution_count": null,
   "id": "b9f4ec80",
   "metadata": {},
   "outputs": [],
   "source": [
    "# Topic: File I/O\n",
    "with open('test.txt', 'r') as f:\n",
    "    print(f.read())"
   ]
  },
  {
   "cell_type": "code",
   "execution_count": null,
   "id": "8a7261d9",
   "metadata": {},
   "outputs": [],
   "source": [
    "# Topic: Mini Projects\n",
    "# Palindrome check\n",
    "def is_pal(s): return s == s[::-1]\n",
    "print(is_pal('madam'))"
   ]
  },
  {
   "cell_type": "code",
   "execution_count": null,
   "id": "4c817c42",
   "metadata": {},
   "outputs": [],
   "source": [
    "# Topic: Regex\n",
    "import re\n",
    "text = 'email: test@example.com'\n",
    "print(re.findall(r'\\S+@\\S+', text))"
   ]
  },
  {
   "cell_type": "code",
   "execution_count": null,
   "id": "3d11ddfa",
   "metadata": {},
   "outputs": [],
   "source": [
    "# Topic: JSON & CSV\n",
    "import json\n",
    "data = {'a': 1}\n",
    "print(json.dumps(data))"
   ]
  },
  {
   "cell_type": "code",
   "execution_count": null,
   "id": "cbff0425",
   "metadata": {},
   "outputs": [],
   "source": [
    "# Topic: JSON & CSV\n",
    "import json\n",
    "data = {'a': 1}\n",
    "print(json.dumps(data))"
   ]
  },
  {
   "cell_type": "code",
   "execution_count": null,
   "id": "1d4631e6",
   "metadata": {},
   "outputs": [],
   "source": [
    "# Topic: Loops\n",
    "while True:\n",
    "    print('Break')\n",
    "    break"
   ]
  },
  {
   "cell_type": "code",
   "execution_count": null,
   "id": "4d48b212",
   "metadata": {},
   "outputs": [],
   "source": [
    "# Topic: Regex\n",
    "import re\n",
    "text = 'email: test@example.com'\n",
    "print(re.findall(r'\\S+@\\S+', text))"
   ]
  },
  {
   "cell_type": "code",
   "execution_count": null,
   "id": "781ceaa1",
   "metadata": {},
   "outputs": [],
   "source": [
    "# Topic: Pandas\n",
    "import pandas as pd\n",
    "df = pd.DataFrame({'A':[1,2],'B':[3,4]})\n",
    "print(df)"
   ]
  },
  {
   "cell_type": "code",
   "execution_count": null,
   "id": "a4f19977",
   "metadata": {},
   "outputs": [],
   "source": [
    "# Topic: CLI Tools\n",
    "import sys\n",
    "print(f'Arguments: {sys.argv}')"
   ]
  },
  {
   "cell_type": "code",
   "execution_count": null,
   "id": "7bfe6437",
   "metadata": {},
   "outputs": [],
   "source": [
    "# Topic: Functions\n",
    "def square(x): return x*x\n",
    "print(square(5))"
   ]
  },
  {
   "cell_type": "code",
   "execution_count": null,
   "id": "537cce86",
   "metadata": {},
   "outputs": [],
   "source": [
    "# Topic: Regex\n",
    "import re\n",
    "text = 'email: test@example.com'\n",
    "print(re.findall(r'\\S+@\\S+', text))"
   ]
  },
  {
   "cell_type": "code",
   "execution_count": null,
   "id": "7466dfe4",
   "metadata": {},
   "outputs": [],
   "source": [
    "# Topic: Pandas\n",
    "import pandas as pd\n",
    "df = pd.read_csv('file.csv')\n",
    "print(df.head())"
   ]
  },
  {
   "cell_type": "code",
   "execution_count": null,
   "id": "3339d035",
   "metadata": {},
   "outputs": [],
   "source": [
    "# Topic: Decorators\n",
    "def log(func):\n",
    " def wrapper():\n",
    "  print('Call')\n",
    "  func()\n",
    " return wrapper\n",
    "@log\n",
    "def say(): print('Hi')\n",
    "say()"
   ]
  },
  {
   "cell_type": "code",
   "execution_count": null,
   "id": "2351a36e",
   "metadata": {},
   "outputs": [],
   "source": [
    "# Topic: Pandas\n",
    "import pandas as pd\n",
    "df = pd.DataFrame({'A':[1,2],'B':[3,4]})\n",
    "print(df)"
   ]
  },
  {
   "cell_type": "code",
   "execution_count": null,
   "id": "46ac7768",
   "metadata": {},
   "outputs": [],
   "source": [
    "# Topic: CLI Tools\n",
    "import sys\n",
    "print(f'Arguments: {sys.argv}')"
   ]
  },
  {
   "cell_type": "code",
   "execution_count": null,
   "id": "09cd3058",
   "metadata": {},
   "outputs": [],
   "source": [
    "# Topic: Functions\n",
    "def square(x): return x*x\n",
    "print(square(5))"
   ]
  },
  {
   "cell_type": "code",
   "execution_count": null,
   "id": "eb167a44",
   "metadata": {},
   "outputs": [],
   "source": [
    "# Topic: Mini Projects\n",
    "# Calculator\n",
    "def calc(a,b,op): return eval(f'{a}{op}{b}')\n",
    "print(calc(5,2,'+'))"
   ]
  },
  {
   "cell_type": "code",
   "execution_count": null,
   "id": "bf8d6205",
   "metadata": {},
   "outputs": [],
   "source": [
    "# Topic: Data Cleaning\n",
    "import pandas as pd\n",
    "df = pd.DataFrame({'A':[1,None,3]})\n",
    "df = df.fillna(0)\n",
    "print(df)"
   ]
  },
  {
   "cell_type": "code",
   "execution_count": null,
   "id": "8ad0100d",
   "metadata": {},
   "outputs": [],
   "source": [
    "# Topic: Mini Projects\n",
    "# Calculator\n",
    "def calc(a,b,op): return eval(f'{a}{op}{b}')\n",
    "print(calc(5,2,'+'))"
   ]
  },
  {
   "cell_type": "code",
   "execution_count": null,
   "id": "020eab0e",
   "metadata": {},
   "outputs": [],
   "source": [
    "# Topic: Recursion\n",
    "def fact(n): return 1 if n==0 else n*fact(n-1)\n",
    "print(fact(5))"
   ]
  },
  {
   "cell_type": "code",
   "execution_count": null,
   "id": "bfd2cf3c",
   "metadata": {},
   "outputs": [],
   "source": [
    "# Topic: NumPy\n",
    "import numpy as np\n",
    "a = np.array([1, 2, 3])\n",
    "print(a + 5)"
   ]
  },
  {
   "cell_type": "code",
   "execution_count": null,
   "id": "6cbcce60",
   "metadata": {},
   "outputs": [],
   "source": [
    "# Topic: File I/O\n",
    "with open('test.txt', 'r') as f:\n",
    "    print(f.read())"
   ]
  },
  {
   "cell_type": "code",
   "execution_count": null,
   "id": "1e653feb",
   "metadata": {},
   "outputs": [],
   "source": [
    "# Topic: Algorithms\n",
    "# Bubble sort\n",
    "def bubble(arr):\n",
    " for i in range(len(arr)):\n",
    "  for j in range(0, len(arr)-i-1):\n",
    "   if arr[j]>arr[j+1]: arr[j],arr[j+1]=arr[j+1],arr[j]\n",
    "a=[5,3,8]\n",
    "bubble(a)\n",
    "print(a)"
   ]
  },
  {
   "cell_type": "code",
   "execution_count": null,
   "id": "61550c07",
   "metadata": {},
   "outputs": [],
   "source": [
    "# Topic: JSON & CSV\n",
    "import json\n",
    "data = {'a': 1}\n",
    "print(json.dumps(data))"
   ]
  },
  {
   "cell_type": "code",
   "execution_count": null,
   "id": "a2d9bb45",
   "metadata": {},
   "outputs": [],
   "source": [
    "# Topic: Basics\n",
    "name = 'Fahd'\n",
    "print(f'Hello, {name}')"
   ]
  },
  {
   "cell_type": "code",
   "execution_count": null,
   "id": "beda0d68",
   "metadata": {},
   "outputs": [],
   "source": [
    "# Topic: CLI Tools\n",
    "import sys\n",
    "print(f'Arguments: {sys.argv}')"
   ]
  },
  {
   "cell_type": "code",
   "execution_count": null,
   "id": "6fc81f6d",
   "metadata": {},
   "outputs": [],
   "source": [
    "# Topic: Data Cleaning\n",
    "import pandas as pd\n",
    "df = pd.DataFrame({'A':[1,None,3]})\n",
    "df = df.fillna(0)\n",
    "print(df)"
   ]
  },
  {
   "cell_type": "code",
   "execution_count": null,
   "id": "98f3b15b",
   "metadata": {},
   "outputs": [],
   "source": [
    "# Topic: Pandas\n",
    "import pandas as pd\n",
    "df = pd.DataFrame({'A':[1,2],'B':[3,4]})\n",
    "print(df)"
   ]
  },
  {
   "cell_type": "code",
   "execution_count": null,
   "id": "3676b396",
   "metadata": {},
   "outputs": [],
   "source": [
    "# Topic: Web Scraping\n",
    "import requests\n",
    "from bs4 import BeautifulSoup\n",
    "r = requests.get('https://example.com')\n",
    "soup = BeautifulSoup(r.text, 'html.parser')\n",
    "print(soup.title.text)"
   ]
  },
  {
   "cell_type": "code",
   "execution_count": null,
   "id": "926ed57a",
   "metadata": {},
   "outputs": [],
   "source": [
    "# Topic: Loops\n",
    "while True:\n",
    "    print('Break')\n",
    "    break"
   ]
  },
  {
   "cell_type": "code",
   "execution_count": null,
   "id": "0c43e616",
   "metadata": {},
   "outputs": [],
   "source": [
    "# Topic: Matplotlib & Seaborn\n",
    "import matplotlib.pyplot as plt\n",
    "plt.plot([1,2],[3,4])\n",
    "plt.show()"
   ]
  },
  {
   "cell_type": "code",
   "execution_count": null,
   "id": "a7c2d44d",
   "metadata": {},
   "outputs": [],
   "source": [
    "# Topic: Functions\n",
    "def greet(name='User'):\n",
    "    print(f'Hi, {name}')\n",
    "greet()"
   ]
  },
  {
   "cell_type": "code",
   "execution_count": null,
   "id": "e464ec02",
   "metadata": {},
   "outputs": [],
   "source": [
    "# Topic: Decorators\n",
    "def log(func):\n",
    " def wrapper():\n",
    "  print('Call')\n",
    "  func()\n",
    " return wrapper\n",
    "@log\n",
    "def say(): print('Hi')\n",
    "say()"
   ]
  },
  {
   "cell_type": "code",
   "execution_count": null,
   "id": "4fce8837",
   "metadata": {},
   "outputs": [],
   "source": [
    "# Topic: Functions\n",
    "def greet(name='User'):\n",
    "    print(f'Hi, {name}')\n",
    "greet()"
   ]
  },
  {
   "cell_type": "code",
   "execution_count": null,
   "id": "fad9d851",
   "metadata": {},
   "outputs": [],
   "source": [
    "# Topic: Mini Projects\n",
    "# Palindrome check\n",
    "def is_pal(s): return s == s[::-1]\n",
    "print(is_pal('madam'))"
   ]
  },
  {
   "cell_type": "code",
   "execution_count": null,
   "id": "d9552274",
   "metadata": {},
   "outputs": [],
   "source": [
    "# Topic: Algorithms\n",
    "# Bubble sort\n",
    "def bubble(arr):\n",
    " for i in range(len(arr)):\n",
    "  for j in range(0, len(arr)-i-1):\n",
    "   if arr[j]>arr[j+1]: arr[j],arr[j+1]=arr[j+1],arr[j]\n",
    "a=[5,3,8]\n",
    "bubble(a)\n",
    "print(a)"
   ]
  },
  {
   "cell_type": "code",
   "execution_count": null,
   "id": "041f197e",
   "metadata": {},
   "outputs": [],
   "source": [
    "# Topic: OOP\n",
    "class Student:\n",
    "    def __init__(self, name): self.name = name\n",
    "s = Student('Fahd')\n",
    "print(s.name)"
   ]
  },
  {
   "cell_type": "code",
   "execution_count": null,
   "id": "88610f7e",
   "metadata": {},
   "outputs": [],
   "source": [
    "# Topic: Mini Projects\n",
    "# Palindrome check\n",
    "def is_pal(s): return s == s[::-1]\n",
    "print(is_pal('madam'))"
   ]
  },
  {
   "cell_type": "code",
   "execution_count": null,
   "id": "9b2b4c4f",
   "metadata": {},
   "outputs": [],
   "source": [
    "# Topic: CLI Tools\n",
    "import sys\n",
    "print(f'Arguments: {sys.argv}')"
   ]
  },
  {
   "cell_type": "code",
   "execution_count": null,
   "id": "28152503",
   "metadata": {},
   "outputs": [],
   "source": [
    "# Topic: Functions\n",
    "def square(x): return x*x\n",
    "print(square(5))"
   ]
  },
  {
   "cell_type": "code",
   "execution_count": null,
   "id": "4ec130da",
   "metadata": {},
   "outputs": [],
   "source": [
    "# Topic: Matplotlib & Seaborn\n",
    "import matplotlib.pyplot as plt\n",
    "plt.plot([1,2],[3,4])\n",
    "plt.show()"
   ]
  },
  {
   "cell_type": "code",
   "execution_count": null,
   "id": "eda643c1",
   "metadata": {},
   "outputs": [],
   "source": [
    "# Topic: Functions\n",
    "def square(x): return x*x\n",
    "print(square(5))"
   ]
  },
  {
   "cell_type": "code",
   "execution_count": null,
   "id": "c232fd57",
   "metadata": {},
   "outputs": [],
   "source": [
    "# Topic: Mini Projects\n",
    "# Palindrome check\n",
    "def is_pal(s): return s == s[::-1]\n",
    "print(is_pal('madam'))"
   ]
  },
  {
   "cell_type": "code",
   "execution_count": null,
   "id": "ac884bed",
   "metadata": {},
   "outputs": [],
   "source": [
    "# Topic: Loops\n",
    "for i in range(10): print(i*i)"
   ]
  },
  {
   "cell_type": "code",
   "execution_count": null,
   "id": "f8a824b8",
   "metadata": {},
   "outputs": [],
   "source": [
    "# Topic: Basic ML\n",
    "from sklearn.linear_model import LinearRegression\n",
    "model = LinearRegression()\n",
    "print(model)"
   ]
  },
  {
   "cell_type": "code",
   "execution_count": null,
   "id": "215aeef7",
   "metadata": {},
   "outputs": [],
   "source": [
    "# Topic: Lists & Tuples\n",
    "lst = [1, 2, 3]\n",
    "lst.append(4)\n",
    "print(lst)"
   ]
  },
  {
   "cell_type": "code",
   "execution_count": null,
   "id": "25d09686",
   "metadata": {},
   "outputs": [],
   "source": [
    "# Topic: File I/O\n",
    "with open('test.txt', 'w') as f:\n",
    "    f.write('Hello World')"
   ]
  },
  {
   "cell_type": "code",
   "execution_count": null,
   "id": "9a3df574",
   "metadata": {},
   "outputs": [],
   "source": [
    "# Topic: Matplotlib & Seaborn\n",
    "import seaborn as sns\n",
    "import pandas as pd\n",
    "sns.set()\n",
    "sns.histplot(pd.Series([1,2,2,3]));"
   ]
  },
  {
   "cell_type": "code",
   "execution_count": null,
   "id": "195e091e",
   "metadata": {},
   "outputs": [],
   "source": [
    "# Topic: Mini Projects\n",
    "# Palindrome check\n",
    "def is_pal(s): return s == s[::-1]\n",
    "print(is_pal('madam'))"
   ]
  },
  {
   "cell_type": "code",
   "execution_count": null,
   "id": "349cda58",
   "metadata": {},
   "outputs": [],
   "source": [
    "# Topic: JSON & CSV\n",
    "import json\n",
    "data = {'a': 1}\n",
    "print(json.dumps(data))"
   ]
  },
  {
   "cell_type": "code",
   "execution_count": null,
   "id": "c47bf22f",
   "metadata": {},
   "outputs": [],
   "source": [
    "# Topic: Pandas\n",
    "import pandas as pd\n",
    "df = pd.read_csv('file.csv')\n",
    "print(df.head())"
   ]
  },
  {
   "cell_type": "code",
   "execution_count": null,
   "id": "9595b3e5",
   "metadata": {},
   "outputs": [],
   "source": [
    "# Topic: Data Cleaning\n",
    "import pandas as pd\n",
    "df = pd.DataFrame({'A':[1,None,3]})\n",
    "df = df.fillna(0)\n",
    "print(df)"
   ]
  },
  {
   "cell_type": "code",
   "execution_count": null,
   "id": "85a1337a",
   "metadata": {},
   "outputs": [],
   "source": [
    "# Topic: Data Cleaning\n",
    "import pandas as pd\n",
    "df = pd.DataFrame({'A':[1,None,3]})\n",
    "df = df.fillna(0)\n",
    "print(df)"
   ]
  },
  {
   "cell_type": "code",
   "execution_count": null,
   "id": "38bc6471",
   "metadata": {},
   "outputs": [],
   "source": [
    "# Topic: Dictionaries & Sets\n",
    "s = set([1, 2, 3, 2])\n",
    "print(s)"
   ]
  },
  {
   "cell_type": "code",
   "execution_count": null,
   "id": "d35ef20e",
   "metadata": {},
   "outputs": [],
   "source": [
    "# Topic: OOP\n",
    "class Student:\n",
    "    def __init__(self, name): self.name = name\n",
    "s = Student('Fahd')\n",
    "print(s.name)"
   ]
  },
  {
   "cell_type": "code",
   "execution_count": null,
   "id": "556fb552",
   "metadata": {},
   "outputs": [],
   "source": [
    "# Topic: Data Cleaning\n",
    "import pandas as pd\n",
    "df = pd.DataFrame({'A':[1,None,3]})\n",
    "df = df.fillna(0)\n",
    "print(df)"
   ]
  },
  {
   "cell_type": "code",
   "execution_count": null,
   "id": "99930904",
   "metadata": {},
   "outputs": [],
   "source": [
    "# Topic: Recursion\n",
    "def fact(n): return 1 if n==0 else n*fact(n-1)\n",
    "print(fact(5))"
   ]
  },
  {
   "cell_type": "code",
   "execution_count": null,
   "id": "c67abd94",
   "metadata": {},
   "outputs": [],
   "source": [
    "# Topic: Mini Projects\n",
    "# Palindrome check\n",
    "def is_pal(s): return s == s[::-1]\n",
    "print(is_pal('madam'))"
   ]
  },
  {
   "cell_type": "code",
   "execution_count": null,
   "id": "395f3f6c",
   "metadata": {},
   "outputs": [],
   "source": [
    "# Topic: File I/O\n",
    "with open('test.txt', 'r') as f:\n",
    "    print(f.read())"
   ]
  },
  {
   "cell_type": "code",
   "execution_count": null,
   "id": "34e79a59",
   "metadata": {},
   "outputs": [],
   "source": [
    "# Topic: JSON & CSV\n",
    "import json\n",
    "data = {'a': 1}\n",
    "print(json.dumps(data))"
   ]
  },
  {
   "cell_type": "code",
   "execution_count": null,
   "id": "8ed210a1",
   "metadata": {},
   "outputs": [],
   "source": [
    "# Topic: JSON & CSV\n",
    "import csv\n",
    "with open('file.csv', 'w', newline='') as f:\n",
    " csv.writer(f).writerow(['a','b','c'])"
   ]
  },
  {
   "cell_type": "code",
   "execution_count": null,
   "id": "12dfa390",
   "metadata": {},
   "outputs": [],
   "source": [
    "# Topic: Decorators\n",
    "def log(func):\n",
    " def wrapper():\n",
    "  print('Call')\n",
    "  func()\n",
    " return wrapper\n",
    "@log\n",
    "def say(): print('Hi')\n",
    "say()"
   ]
  },
  {
   "cell_type": "code",
   "execution_count": null,
   "id": "f3fbc1b4",
   "metadata": {},
   "outputs": [],
   "source": [
    "# Topic: Regex\n",
    "import re\n",
    "text = 'email: test@example.com'\n",
    "print(re.findall(r'\\S+@\\S+', text))"
   ]
  },
  {
   "cell_type": "code",
   "execution_count": null,
   "id": "0e200971",
   "metadata": {},
   "outputs": [],
   "source": [
    "# Topic: CLI Tools\n",
    "import sys\n",
    "print(f'Arguments: {sys.argv}')"
   ]
  },
  {
   "cell_type": "code",
   "execution_count": null,
   "id": "19df68fc",
   "metadata": {},
   "outputs": [],
   "source": [
    "# Topic: Regex\n",
    "import re\n",
    "text = 'email: test@example.com'\n",
    "print(re.findall(r'\\S+@\\S+', text))"
   ]
  },
  {
   "cell_type": "code",
   "execution_count": null,
   "id": "2c61e7b7",
   "metadata": {},
   "outputs": [],
   "source": [
    "# Topic: Basic ML\n",
    "from sklearn.linear_model import LinearRegression\n",
    "model = LinearRegression()\n",
    "print(model)"
   ]
  },
  {
   "cell_type": "code",
   "execution_count": null,
   "id": "1fa596ec",
   "metadata": {},
   "outputs": [],
   "source": [
    "# Topic: Mini Projects\n",
    "# Calculator\n",
    "def calc(a,b,op): return eval(f'{a}{op}{b}')\n",
    "print(calc(5,2,'+'))"
   ]
  },
  {
   "cell_type": "code",
   "execution_count": null,
   "id": "061d978b",
   "metadata": {},
   "outputs": [],
   "source": [
    "# Topic: Loops\n",
    "for i in range(10): print(i*i)"
   ]
  },
  {
   "cell_type": "code",
   "execution_count": null,
   "id": "c1f36a9c",
   "metadata": {},
   "outputs": [],
   "source": [
    "# Topic: Recursion\n",
    "def fact(n): return 1 if n==0 else n*fact(n-1)\n",
    "print(fact(5))"
   ]
  },
  {
   "cell_type": "code",
   "execution_count": null,
   "id": "55f359a1",
   "metadata": {},
   "outputs": [],
   "source": [
    "# Topic: JSON & CSV\n",
    "import json\n",
    "data = {'a': 1}\n",
    "print(json.dumps(data))"
   ]
  },
  {
   "cell_type": "code",
   "execution_count": null,
   "id": "27c4854a",
   "metadata": {},
   "outputs": [],
   "source": [
    "# Topic: Recursion\n",
    "def fact(n): return 1 if n==0 else n*fact(n-1)\n",
    "print(fact(5))"
   ]
  },
  {
   "cell_type": "code",
   "execution_count": null,
   "id": "7ac40b6b",
   "metadata": {},
   "outputs": [],
   "source": [
    "# Topic: Pandas\n",
    "import pandas as pd\n",
    "df = pd.read_csv('file.csv')\n",
    "print(df.head())"
   ]
  },
  {
   "cell_type": "code",
   "execution_count": null,
   "id": "04e47f8e",
   "metadata": {},
   "outputs": [],
   "source": [
    "# Topic: Basics\n",
    "name = 'Fahd'\n",
    "print(f'Hello, {name}')"
   ]
  },
  {
   "cell_type": "code",
   "execution_count": null,
   "id": "0cec254c",
   "metadata": {},
   "outputs": [],
   "source": [
    "# Topic: Matplotlib & Seaborn\n",
    "import seaborn as sns\n",
    "import pandas as pd\n",
    "sns.set()\n",
    "sns.histplot(pd.Series([1,2,2,3]));"
   ]
  },
  {
   "cell_type": "code",
   "execution_count": null,
   "id": "55b7012d",
   "metadata": {},
   "outputs": [],
   "source": [
    "# Topic: Matplotlib & Seaborn\n",
    "import matplotlib.pyplot as plt\n",
    "plt.plot([1,2],[3,4])\n",
    "plt.show()"
   ]
  },
  {
   "cell_type": "code",
   "execution_count": null,
   "id": "9d0b93a4",
   "metadata": {},
   "outputs": [],
   "source": [
    "# Topic: File I/O\n",
    "with open('test.txt', 'r') as f:\n",
    "    print(f.read())"
   ]
  },
  {
   "cell_type": "code",
   "execution_count": null,
   "id": "657bb453",
   "metadata": {},
   "outputs": [],
   "source": [
    "# Topic: Web Scraping\n",
    "import requests\n",
    "from bs4 import BeautifulSoup\n",
    "r = requests.get('https://example.com')\n",
    "soup = BeautifulSoup(r.text, 'html.parser')\n",
    "print(soup.title.text)"
   ]
  },
  {
   "cell_type": "code",
   "execution_count": null,
   "id": "10554ea5",
   "metadata": {},
   "outputs": [],
   "source": [
    "# Topic: CLI Tools\n",
    "import sys\n",
    "print(f'Arguments: {sys.argv}')"
   ]
  },
  {
   "cell_type": "code",
   "execution_count": null,
   "id": "0a44aaac",
   "metadata": {},
   "outputs": [],
   "source": [
    "# Topic: Pandas\n",
    "import pandas as pd\n",
    "df = pd.read_csv('file.csv')\n",
    "print(df.head())"
   ]
  },
  {
   "cell_type": "code",
   "execution_count": null,
   "id": "f5da5a30",
   "metadata": {},
   "outputs": [],
   "source": [
    "# Topic: Mini Projects\n",
    "# Calculator\n",
    "def calc(a,b,op): return eval(f'{a}{op}{b}')\n",
    "print(calc(5,2,'+'))"
   ]
  },
  {
   "cell_type": "code",
   "execution_count": null,
   "id": "938388f4",
   "metadata": {},
   "outputs": [],
   "source": [
    "# Topic: Pandas\n",
    "import pandas as pd\n",
    "df = pd.DataFrame({'A':[1,2],'B':[3,4]})\n",
    "print(df)"
   ]
  },
  {
   "cell_type": "code",
   "execution_count": null,
   "id": "c3527e49",
   "metadata": {},
   "outputs": [],
   "source": [
    "# Topic: Algorithms\n",
    "# Bubble sort\n",
    "def bubble(arr):\n",
    " for i in range(len(arr)):\n",
    "  for j in range(0, len(arr)-i-1):\n",
    "   if arr[j]>arr[j+1]: arr[j],arr[j+1]=arr[j+1],arr[j]\n",
    "a=[5,3,8]\n",
    "bubble(a)\n",
    "print(a)"
   ]
  },
  {
   "cell_type": "code",
   "execution_count": null,
   "id": "cd26b4e8",
   "metadata": {},
   "outputs": [],
   "source": [
    "# Topic: Functions\n",
    "def greet(name='User'):\n",
    "    print(f'Hi, {name}')\n",
    "greet()"
   ]
  },
  {
   "cell_type": "code",
   "execution_count": null,
   "id": "6e794677",
   "metadata": {},
   "outputs": [],
   "source": [
    "# Topic: Matplotlib & Seaborn\n",
    "import matplotlib.pyplot as plt\n",
    "plt.plot([1,2],[3,4])\n",
    "plt.show()"
   ]
  },
  {
   "cell_type": "code",
   "execution_count": null,
   "id": "a1c6d87d",
   "metadata": {},
   "outputs": [],
   "source": [
    "# Topic: Dictionaries & Sets\n",
    "s = set([1, 2, 3, 2])\n",
    "print(s)"
   ]
  },
  {
   "cell_type": "code",
   "execution_count": null,
   "id": "cafce82f",
   "metadata": {},
   "outputs": [],
   "source": [
    "# Topic: Decorators\n",
    "def log(func):\n",
    " def wrapper():\n",
    "  print('Call')\n",
    "  func()\n",
    " return wrapper\n",
    "@log\n",
    "def say(): print('Hi')\n",
    "say()"
   ]
  },
  {
   "cell_type": "code",
   "execution_count": null,
   "id": "3cf1a0f6",
   "metadata": {},
   "outputs": [],
   "source": [
    "# Topic: NumPy\n",
    "import numpy as np\n",
    "a = np.array([1, 2, 3])\n",
    "print(a + 5)"
   ]
  },
  {
   "cell_type": "code",
   "execution_count": null,
   "id": "57fad7ef",
   "metadata": {},
   "outputs": [],
   "source": [
    "# Topic: Basics\n",
    "x = 10\n",
    "y = 20\n",
    "print(x + y)"
   ]
  },
  {
   "cell_type": "code",
   "execution_count": null,
   "id": "41fe6346",
   "metadata": {},
   "outputs": [],
   "source": [
    "# Topic: Dictionaries & Sets\n",
    "d = {'name': 'Fahd', 'age': 20}\n",
    "print(d.get('name'))"
   ]
  },
  {
   "cell_type": "code",
   "execution_count": null,
   "id": "e2038a0c",
   "metadata": {},
   "outputs": [],
   "source": [
    "# Topic: Mini Projects\n",
    "# Calculator\n",
    "def calc(a,b,op): return eval(f'{a}{op}{b}')\n",
    "print(calc(5,2,'+'))"
   ]
  },
  {
   "cell_type": "code",
   "execution_count": null,
   "id": "af7e1e6c",
   "metadata": {},
   "outputs": [],
   "source": [
    "# Topic: JSON & CSV\n",
    "import json\n",
    "data = {'a': 1}\n",
    "print(json.dumps(data))"
   ]
  },
  {
   "cell_type": "code",
   "execution_count": null,
   "id": "fbe1ef2a",
   "metadata": {},
   "outputs": [],
   "source": [
    "# Topic: Decorators\n",
    "def log(func):\n",
    " def wrapper():\n",
    "  print('Call')\n",
    "  func()\n",
    " return wrapper\n",
    "@log\n",
    "def say(): print('Hi')\n",
    "say()"
   ]
  },
  {
   "cell_type": "code",
   "execution_count": null,
   "id": "baa8780a",
   "metadata": {},
   "outputs": [],
   "source": [
    "# Topic: NumPy\n",
    "import numpy as np\n",
    "print(np.linspace(0, 1, 5))"
   ]
  },
  {
   "cell_type": "code",
   "execution_count": null,
   "id": "9a044886",
   "metadata": {},
   "outputs": [],
   "source": [
    "# Topic: Basic ML\n",
    "from sklearn.linear_model import LinearRegression\n",
    "model = LinearRegression()\n",
    "print(model)"
   ]
  },
  {
   "cell_type": "code",
   "execution_count": null,
   "id": "57424e41",
   "metadata": {},
   "outputs": [],
   "source": [
    "# Topic: Lists & Tuples\n",
    "t = (1, 2, 3)\n",
    "print(t[0])"
   ]
  },
  {
   "cell_type": "code",
   "execution_count": null,
   "id": "2b7bee87",
   "metadata": {},
   "outputs": [],
   "source": [
    "# Topic: Basic ML\n",
    "from sklearn.linear_model import LinearRegression\n",
    "model = LinearRegression()\n",
    "print(model)"
   ]
  },
  {
   "cell_type": "code",
   "execution_count": null,
   "id": "1fe34767",
   "metadata": {},
   "outputs": [],
   "source": [
    "# Topic: Algorithms\n",
    "# Bubble sort\n",
    "def bubble(arr):\n",
    " for i in range(len(arr)):\n",
    "  for j in range(0, len(arr)-i-1):\n",
    "   if arr[j]>arr[j+1]: arr[j],arr[j+1]=arr[j+1],arr[j]\n",
    "a=[5,3,8]\n",
    "bubble(a)\n",
    "print(a)"
   ]
  },
  {
   "cell_type": "code",
   "execution_count": null,
   "id": "bd5a9140",
   "metadata": {},
   "outputs": [],
   "source": [
    "# Topic: Matplotlib & Seaborn\n",
    "import seaborn as sns\n",
    "import pandas as pd\n",
    "sns.set()\n",
    "sns.histplot(pd.Series([1,2,2,3]));"
   ]
  },
  {
   "cell_type": "code",
   "execution_count": null,
   "id": "152a8279",
   "metadata": {},
   "outputs": [],
   "source": [
    "# Topic: JSON & CSV\n",
    "import json\n",
    "data = {'a': 1}\n",
    "print(json.dumps(data))"
   ]
  },
  {
   "cell_type": "code",
   "execution_count": null,
   "id": "1a2aa8cc",
   "metadata": {},
   "outputs": [],
   "source": [
    "# Topic: Dictionaries & Sets\n",
    "s = set([1, 2, 3, 2])\n",
    "print(s)"
   ]
  },
  {
   "cell_type": "code",
   "execution_count": null,
   "id": "e4536a63",
   "metadata": {},
   "outputs": [],
   "source": [
    "# Topic: Mini Projects\n",
    "# Calculator\n",
    "def calc(a,b,op): return eval(f'{a}{op}{b}')\n",
    "print(calc(5,2,'+'))"
   ]
  },
  {
   "cell_type": "code",
   "execution_count": null,
   "id": "f2a98ec8",
   "metadata": {},
   "outputs": [],
   "source": [
    "# Topic: Functions\n",
    "def greet(name='User'):\n",
    "    print(f'Hi, {name}')\n",
    "greet()"
   ]
  },
  {
   "cell_type": "code",
   "execution_count": null,
   "id": "f691bfc8",
   "metadata": {},
   "outputs": [],
   "source": [
    "# Topic: Regex\n",
    "import re\n",
    "text = 'email: test@example.com'\n",
    "print(re.findall(r'\\S+@\\S+', text))"
   ]
  },
  {
   "cell_type": "code",
   "execution_count": null,
   "id": "13741c95",
   "metadata": {},
   "outputs": [],
   "source": [
    "# Topic: Mini Projects\n",
    "# Calculator\n",
    "def calc(a,b,op): return eval(f'{a}{op}{b}')\n",
    "print(calc(5,2,'+'))"
   ]
  },
  {
   "cell_type": "code",
   "execution_count": null,
   "id": "a5a0c6aa",
   "metadata": {},
   "outputs": [],
   "source": [
    "# Topic: Recursion\n",
    "def fact(n): return 1 if n==0 else n*fact(n-1)\n",
    "print(fact(5))"
   ]
  },
  {
   "cell_type": "code",
   "execution_count": null,
   "id": "ad5ace62",
   "metadata": {},
   "outputs": [],
   "source": [
    "# Topic: Data Cleaning\n",
    "import pandas as pd\n",
    "df = pd.DataFrame({'A':[1,None,3]})\n",
    "df = df.fillna(0)\n",
    "print(df)"
   ]
  },
  {
   "cell_type": "code",
   "execution_count": null,
   "id": "b7a08eb4",
   "metadata": {},
   "outputs": [],
   "source": [
    "# Topic: CLI Tools\n",
    "import sys\n",
    "print(f'Arguments: {sys.argv}')"
   ]
  },
  {
   "cell_type": "code",
   "execution_count": null,
   "id": "560f596b",
   "metadata": {},
   "outputs": [],
   "source": [
    "# Topic: JSON & CSV\n",
    "import json\n",
    "data = {'a': 1}\n",
    "print(json.dumps(data))"
   ]
  },
  {
   "cell_type": "code",
   "execution_count": null,
   "id": "a7f0874a",
   "metadata": {},
   "outputs": [],
   "source": [
    "# Topic: NumPy\n",
    "import numpy as np\n",
    "print(np.linspace(0, 1, 5))"
   ]
  },
  {
   "cell_type": "code",
   "execution_count": null,
   "id": "1e0fd359",
   "metadata": {},
   "outputs": [],
   "source": [
    "# Topic: Algorithms\n",
    "# Bubble sort\n",
    "def bubble(arr):\n",
    " for i in range(len(arr)):\n",
    "  for j in range(0, len(arr)-i-1):\n",
    "   if arr[j]>arr[j+1]: arr[j],arr[j+1]=arr[j+1],arr[j]\n",
    "a=[5,3,8]\n",
    "bubble(a)\n",
    "print(a)"
   ]
  },
  {
   "cell_type": "code",
   "execution_count": null,
   "id": "d6016db5",
   "metadata": {},
   "outputs": [],
   "source": [
    "# Topic: Matplotlib & Seaborn\n",
    "import seaborn as sns\n",
    "import pandas as pd\n",
    "sns.set()\n",
    "sns.histplot(pd.Series([1,2,2,3]));"
   ]
  },
  {
   "cell_type": "code",
   "execution_count": null,
   "id": "2c400766",
   "metadata": {},
   "outputs": [],
   "source": [
    "# Topic: Mini Projects\n",
    "# Palindrome check\n",
    "def is_pal(s): return s == s[::-1]\n",
    "print(is_pal('madam'))"
   ]
  },
  {
   "cell_type": "code",
   "execution_count": null,
   "id": "0a060efc",
   "metadata": {},
   "outputs": [],
   "source": [
    "# Topic: Decorators\n",
    "def log(func):\n",
    " def wrapper():\n",
    "  print('Call')\n",
    "  func()\n",
    " return wrapper\n",
    "@log\n",
    "def say(): print('Hi')\n",
    "say()"
   ]
  },
  {
   "cell_type": "code",
   "execution_count": null,
   "id": "db300399",
   "metadata": {},
   "outputs": [],
   "source": [
    "# Topic: Recursion\n",
    "def fact(n): return 1 if n==0 else n*fact(n-1)\n",
    "print(fact(5))"
   ]
  },
  {
   "cell_type": "code",
   "execution_count": null,
   "id": "d5e5e918",
   "metadata": {},
   "outputs": [],
   "source": [
    "# Topic: Loops\n",
    "while True:\n",
    "    print('Break')\n",
    "    break"
   ]
  },
  {
   "cell_type": "code",
   "execution_count": null,
   "id": "0773888a",
   "metadata": {},
   "outputs": [],
   "source": [
    "# Topic: CLI Tools\n",
    "import sys\n",
    "print(f'Arguments: {sys.argv}')"
   ]
  },
  {
   "cell_type": "code",
   "execution_count": null,
   "id": "9b56b66a",
   "metadata": {},
   "outputs": [],
   "source": [
    "# Topic: Functions\n",
    "def greet(name='User'):\n",
    "    print(f'Hi, {name}')\n",
    "greet()"
   ]
  },
  {
   "cell_type": "code",
   "execution_count": null,
   "id": "88296d5f",
   "metadata": {},
   "outputs": [],
   "source": [
    "# Topic: Lists & Tuples\n",
    "t = (1, 2, 3)\n",
    "print(t[0])"
   ]
  },
  {
   "cell_type": "code",
   "execution_count": null,
   "id": "cef0dcd7",
   "metadata": {},
   "outputs": [],
   "source": [
    "# Topic: Basics\n",
    "name = 'Fahd'\n",
    "print(f'Hello, {name}')"
   ]
  },
  {
   "cell_type": "code",
   "execution_count": null,
   "id": "9bc620b3",
   "metadata": {},
   "outputs": [],
   "source": [
    "# Topic: Functions\n",
    "def square(x): return x*x\n",
    "print(square(5))"
   ]
  },
  {
   "cell_type": "code",
   "execution_count": null,
   "id": "db6986d5",
   "metadata": {},
   "outputs": [],
   "source": [
    "# Topic: Basics\n",
    "name = 'Fahd'\n",
    "print(f'Hello, {name}')"
   ]
  },
  {
   "cell_type": "code",
   "execution_count": null,
   "id": "455b6beb",
   "metadata": {},
   "outputs": [],
   "source": [
    "# Topic: NumPy\n",
    "import numpy as np\n",
    "a = np.array([1, 2, 3])\n",
    "print(a + 5)"
   ]
  },
  {
   "cell_type": "code",
   "execution_count": null,
   "id": "18d5adfb",
   "metadata": {},
   "outputs": [],
   "source": [
    "# Topic: Recursion\n",
    "def fact(n): return 1 if n==0 else n*fact(n-1)\n",
    "print(fact(5))"
   ]
  },
  {
   "cell_type": "code",
   "execution_count": null,
   "id": "01a1ce6c",
   "metadata": {},
   "outputs": [],
   "source": [
    "# Topic: Regex\n",
    "import re\n",
    "text = 'email: test@example.com'\n",
    "print(re.findall(r'\\S+@\\S+', text))"
   ]
  },
  {
   "cell_type": "code",
   "execution_count": null,
   "id": "1ad252c9",
   "metadata": {},
   "outputs": [],
   "source": [
    "# Topic: JSON & CSV\n",
    "import csv\n",
    "with open('file.csv', 'w', newline='') as f:\n",
    " csv.writer(f).writerow(['a','b','c'])"
   ]
  },
  {
   "cell_type": "code",
   "execution_count": null,
   "id": "e3c8e8ef",
   "metadata": {},
   "outputs": [],
   "source": [
    "# Topic: Regex\n",
    "import re\n",
    "text = 'email: test@example.com'\n",
    "print(re.findall(r'\\S+@\\S+', text))"
   ]
  },
  {
   "cell_type": "code",
   "execution_count": null,
   "id": "a41c971a",
   "metadata": {},
   "outputs": [],
   "source": [
    "# Topic: Matplotlib & Seaborn\n",
    "import matplotlib.pyplot as plt\n",
    "plt.plot([1,2],[3,4])\n",
    "plt.show()"
   ]
  },
  {
   "cell_type": "code",
   "execution_count": null,
   "id": "db48c96f",
   "metadata": {},
   "outputs": [],
   "source": [
    "# Topic: Data Cleaning\n",
    "import pandas as pd\n",
    "df = pd.DataFrame({'A':[1,None,3]})\n",
    "df = df.fillna(0)\n",
    "print(df)"
   ]
  },
  {
   "cell_type": "code",
   "execution_count": null,
   "id": "6336b2a3",
   "metadata": {},
   "outputs": [],
   "source": [
    "# Topic: Data Cleaning\n",
    "import pandas as pd\n",
    "df = pd.DataFrame({'A':[1,None,3]})\n",
    "df = df.fillna(0)\n",
    "print(df)"
   ]
  },
  {
   "cell_type": "code",
   "execution_count": null,
   "id": "4c9d7271",
   "metadata": {},
   "outputs": [],
   "source": [
    "# Topic: File I/O\n",
    "with open('test.txt', 'w') as f:\n",
    "    f.write('Hello World')"
   ]
  },
  {
   "cell_type": "code",
   "execution_count": null,
   "id": "8962f2e0",
   "metadata": {},
   "outputs": [],
   "source": [
    "# Topic: Regex\n",
    "import re\n",
    "text = 'email: test@example.com'\n",
    "print(re.findall(r'\\S+@\\S+', text))"
   ]
  },
  {
   "cell_type": "code",
   "execution_count": null,
   "id": "c0aa8f22",
   "metadata": {},
   "outputs": [],
   "source": [
    "# Topic: Regex\n",
    "import re\n",
    "text = 'email: test@example.com'\n",
    "print(re.findall(r'\\S+@\\S+', text))"
   ]
  },
  {
   "cell_type": "code",
   "execution_count": null,
   "id": "755ba72a",
   "metadata": {},
   "outputs": [],
   "source": [
    "# Topic: Lists & Tuples\n",
    "lst = [1, 2, 3]\n",
    "lst.append(4)\n",
    "print(lst)"
   ]
  },
  {
   "cell_type": "code",
   "execution_count": null,
   "id": "dcb81c6b",
   "metadata": {},
   "outputs": [],
   "source": [
    "# Topic: CLI Tools\n",
    "import sys\n",
    "print(f'Arguments: {sys.argv}')"
   ]
  },
  {
   "cell_type": "code",
   "execution_count": null,
   "id": "94286882",
   "metadata": {},
   "outputs": [],
   "source": [
    "# Topic: Data Cleaning\n",
    "import pandas as pd\n",
    "df = pd.DataFrame({'A':[1,None,3]})\n",
    "df = df.fillna(0)\n",
    "print(df)"
   ]
  },
  {
   "cell_type": "code",
   "execution_count": null,
   "id": "53271081",
   "metadata": {},
   "outputs": [],
   "source": [
    "# Topic: NumPy\n",
    "import numpy as np\n",
    "print(np.linspace(0, 1, 5))"
   ]
  },
  {
   "cell_type": "code",
   "execution_count": null,
   "id": "21f37df8",
   "metadata": {},
   "outputs": [],
   "source": [
    "# Topic: NumPy\n",
    "import numpy as np\n",
    "a = np.array([1, 2, 3])\n",
    "print(a + 5)"
   ]
  },
  {
   "cell_type": "code",
   "execution_count": null,
   "id": "8ec4bd84",
   "metadata": {},
   "outputs": [],
   "source": [
    "# Topic: Loops\n",
    "while True:\n",
    "    print('Break')\n",
    "    break"
   ]
  },
  {
   "cell_type": "code",
   "execution_count": null,
   "id": "cdd0d650",
   "metadata": {},
   "outputs": [],
   "source": [
    "# Topic: File I/O\n",
    "with open('test.txt', 'w') as f:\n",
    "    f.write('Hello World')"
   ]
  },
  {
   "cell_type": "code",
   "execution_count": null,
   "id": "244cb1d9",
   "metadata": {},
   "outputs": [],
   "source": [
    "# Topic: Pandas\n",
    "import pandas as pd\n",
    "df = pd.read_csv('file.csv')\n",
    "print(df.head())"
   ]
  },
  {
   "cell_type": "code",
   "execution_count": null,
   "id": "cf5c83b2",
   "metadata": {},
   "outputs": [],
   "source": [
    "# Topic: CLI Tools\n",
    "import sys\n",
    "print(f'Arguments: {sys.argv}')"
   ]
  },
  {
   "cell_type": "code",
   "execution_count": null,
   "id": "5974c6c8",
   "metadata": {},
   "outputs": [],
   "source": [
    "# Topic: File I/O\n",
    "with open('test.txt', 'w') as f:\n",
    "    f.write('Hello World')"
   ]
  },
  {
   "cell_type": "code",
   "execution_count": null,
   "id": "b0786c02",
   "metadata": {},
   "outputs": [],
   "source": [
    "# Topic: OOP\n",
    "class Student:\n",
    "    def __init__(self, name): self.name = name\n",
    "s = Student('Fahd')\n",
    "print(s.name)"
   ]
  },
  {
   "cell_type": "code",
   "execution_count": null,
   "id": "26012f50",
   "metadata": {},
   "outputs": [],
   "source": [
    "# Topic: JSON & CSV\n",
    "import json\n",
    "data = {'a': 1}\n",
    "print(json.dumps(data))"
   ]
  },
  {
   "cell_type": "code",
   "execution_count": null,
   "id": "0eb9a214",
   "metadata": {},
   "outputs": [],
   "source": [
    "# Topic: Web Scraping\n",
    "import requests\n",
    "from bs4 import BeautifulSoup\n",
    "r = requests.get('https://example.com')\n",
    "soup = BeautifulSoup(r.text, 'html.parser')\n",
    "print(soup.title.text)"
   ]
  },
  {
   "cell_type": "code",
   "execution_count": null,
   "id": "d2bd7376",
   "metadata": {},
   "outputs": [],
   "source": [
    "# Topic: Basics\n",
    "name = 'Fahd'\n",
    "print(f'Hello, {name}')"
   ]
  },
  {
   "cell_type": "code",
   "execution_count": null,
   "id": "b011c2ae",
   "metadata": {},
   "outputs": [],
   "source": [
    "# Topic: CLI Tools\n",
    "import sys\n",
    "print(f'Arguments: {sys.argv}')"
   ]
  },
  {
   "cell_type": "code",
   "execution_count": null,
   "id": "70445b88",
   "metadata": {},
   "outputs": [],
   "source": [
    "# Topic: NumPy\n",
    "import numpy as np\n",
    "print(np.linspace(0, 1, 5))"
   ]
  },
  {
   "cell_type": "code",
   "execution_count": null,
   "id": "f78c5a4a",
   "metadata": {},
   "outputs": [],
   "source": [
    "# Topic: CLI Tools\n",
    "import sys\n",
    "print(f'Arguments: {sys.argv}')"
   ]
  },
  {
   "cell_type": "code",
   "execution_count": null,
   "id": "98209c49",
   "metadata": {},
   "outputs": [],
   "source": [
    "# Topic: Basics\n",
    "name = 'Fahd'\n",
    "print(f'Hello, {name}')"
   ]
  },
  {
   "cell_type": "code",
   "execution_count": null,
   "id": "4ad053ae",
   "metadata": {},
   "outputs": [],
   "source": [
    "# Topic: File I/O\n",
    "with open('test.txt', 'w') as f:\n",
    "    f.write('Hello World')"
   ]
  },
  {
   "cell_type": "code",
   "execution_count": null,
   "id": "282bba8d",
   "metadata": {},
   "outputs": [],
   "source": [
    "# Topic: Basic ML\n",
    "from sklearn.linear_model import LinearRegression\n",
    "model = LinearRegression()\n",
    "print(model)"
   ]
  },
  {
   "cell_type": "code",
   "execution_count": null,
   "id": "750fe19a",
   "metadata": {},
   "outputs": [],
   "source": [
    "# Topic: Recursion\n",
    "def fact(n): return 1 if n==0 else n*fact(n-1)\n",
    "print(fact(5))"
   ]
  },
  {
   "cell_type": "code",
   "execution_count": null,
   "id": "ad18a5d3",
   "metadata": {},
   "outputs": [],
   "source": [
    "# Topic: Lists & Tuples\n",
    "t = (1, 2, 3)\n",
    "print(t[0])"
   ]
  },
  {
   "cell_type": "code",
   "execution_count": null,
   "id": "f245f4df",
   "metadata": {},
   "outputs": [],
   "source": [
    "# Topic: Regex\n",
    "import re\n",
    "text = 'email: test@example.com'\n",
    "print(re.findall(r'\\S+@\\S+', text))"
   ]
  },
  {
   "cell_type": "code",
   "execution_count": null,
   "id": "dd558bbd",
   "metadata": {},
   "outputs": [],
   "source": [
    "# Topic: Decorators\n",
    "def log(func):\n",
    " def wrapper():\n",
    "  print('Call')\n",
    "  func()\n",
    " return wrapper\n",
    "@log\n",
    "def say(): print('Hi')\n",
    "say()"
   ]
  },
  {
   "cell_type": "code",
   "execution_count": null,
   "id": "b7b2e8f5",
   "metadata": {},
   "outputs": [],
   "source": [
    "# Topic: Pandas\n",
    "import pandas as pd\n",
    "df = pd.DataFrame({'A':[1,2],'B':[3,4]})\n",
    "print(df)"
   ]
  },
  {
   "cell_type": "code",
   "execution_count": null,
   "id": "061a8729",
   "metadata": {},
   "outputs": [],
   "source": [
    "# Topic: Regex\n",
    "import re\n",
    "text = 'email: test@example.com'\n",
    "print(re.findall(r'\\S+@\\S+', text))"
   ]
  },
  {
   "cell_type": "code",
   "execution_count": null,
   "id": "512376df",
   "metadata": {},
   "outputs": [],
   "source": [
    "# Topic: CLI Tools\n",
    "import sys\n",
    "print(f'Arguments: {sys.argv}')"
   ]
  },
  {
   "cell_type": "code",
   "execution_count": null,
   "id": "fa9487c5",
   "metadata": {},
   "outputs": [],
   "source": [
    "# Topic: Basic ML\n",
    "from sklearn.linear_model import LinearRegression\n",
    "model = LinearRegression()\n",
    "print(model)"
   ]
  },
  {
   "cell_type": "code",
   "execution_count": null,
   "id": "8c6ac49a",
   "metadata": {},
   "outputs": [],
   "source": [
    "# Topic: Dictionaries & Sets\n",
    "s = set([1, 2, 3, 2])\n",
    "print(s)"
   ]
  },
  {
   "cell_type": "code",
   "execution_count": null,
   "id": "2fef8bdb",
   "metadata": {},
   "outputs": [],
   "source": [
    "# Topic: Functions\n",
    "def square(x): return x*x\n",
    "print(square(5))"
   ]
  },
  {
   "cell_type": "code",
   "execution_count": null,
   "id": "f1b1abe9",
   "metadata": {},
   "outputs": [],
   "source": [
    "# Topic: Web Scraping\n",
    "import requests\n",
    "from bs4 import BeautifulSoup\n",
    "r = requests.get('https://example.com')\n",
    "soup = BeautifulSoup(r.text, 'html.parser')\n",
    "print(soup.title.text)"
   ]
  },
  {
   "cell_type": "code",
   "execution_count": null,
   "id": "5bf615a7",
   "metadata": {},
   "outputs": [],
   "source": [
    "# Topic: Decorators\n",
    "def log(func):\n",
    " def wrapper():\n",
    "  print('Call')\n",
    "  func()\n",
    " return wrapper\n",
    "@log\n",
    "def say(): print('Hi')\n",
    "say()"
   ]
  },
  {
   "cell_type": "code",
   "execution_count": null,
   "id": "61b786fd",
   "metadata": {},
   "outputs": [],
   "source": [
    "# Topic: Dictionaries & Sets\n",
    "d = {'name': 'Fahd', 'age': 20}\n",
    "print(d.get('name'))"
   ]
  },
  {
   "cell_type": "code",
   "execution_count": null,
   "id": "41d9103c",
   "metadata": {},
   "outputs": [],
   "source": [
    "# Topic: Dictionaries & Sets\n",
    "d = {'name': 'Fahd', 'age': 20}\n",
    "print(d.get('name'))"
   ]
  },
  {
   "cell_type": "code",
   "execution_count": null,
   "id": "43601e78",
   "metadata": {},
   "outputs": [],
   "source": [
    "# Topic: NumPy\n",
    "import numpy as np\n",
    "a = np.array([1, 2, 3])\n",
    "print(a + 5)"
   ]
  },
  {
   "cell_type": "code",
   "execution_count": null,
   "id": "3666ac0c",
   "metadata": {},
   "outputs": [],
   "source": [
    "# Topic: Loops\n",
    "while True:\n",
    "    print('Break')\n",
    "    break"
   ]
  },
  {
   "cell_type": "code",
   "execution_count": null,
   "id": "72012962",
   "metadata": {},
   "outputs": [],
   "source": [
    "# Topic: Dictionaries & Sets\n",
    "d = {'name': 'Fahd', 'age': 20}\n",
    "print(d.get('name'))"
   ]
  },
  {
   "cell_type": "code",
   "execution_count": null,
   "id": "74aae540",
   "metadata": {},
   "outputs": [],
   "source": [
    "# Topic: Functions\n",
    "def square(x): return x*x\n",
    "print(square(5))"
   ]
  },
  {
   "cell_type": "code",
   "execution_count": null,
   "id": "c003320a",
   "metadata": {},
   "outputs": [],
   "source": [
    "# Topic: Regex\n",
    "import re\n",
    "text = 'email: test@example.com'\n",
    "print(re.findall(r'\\S+@\\S+', text))"
   ]
  },
  {
   "cell_type": "code",
   "execution_count": null,
   "id": "722f5392",
   "metadata": {},
   "outputs": [],
   "source": [
    "# Topic: Data Cleaning\n",
    "import pandas as pd\n",
    "df = pd.DataFrame({'A':[1,None,3]})\n",
    "df = df.fillna(0)\n",
    "print(df)"
   ]
  },
  {
   "cell_type": "code",
   "execution_count": null,
   "id": "6689be1c",
   "metadata": {},
   "outputs": [],
   "source": [
    "# Topic: Lists & Tuples\n",
    "lst = [1, 2, 3]\n",
    "lst.append(4)\n",
    "print(lst)"
   ]
  },
  {
   "cell_type": "code",
   "execution_count": null,
   "id": "def37607",
   "metadata": {},
   "outputs": [],
   "source": [
    "# Topic: File I/O\n",
    "with open('test.txt', 'r') as f:\n",
    "    print(f.read())"
   ]
  },
  {
   "cell_type": "code",
   "execution_count": null,
   "id": "ff9e3505",
   "metadata": {},
   "outputs": [],
   "source": [
    "# Topic: Loops\n",
    "while True:\n",
    "    print('Break')\n",
    "    break"
   ]
  },
  {
   "cell_type": "code",
   "execution_count": null,
   "id": "8b31cee0",
   "metadata": {},
   "outputs": [],
   "source": [
    "# Topic: Lists & Tuples\n",
    "t = (1, 2, 3)\n",
    "print(t[0])"
   ]
  },
  {
   "cell_type": "code",
   "execution_count": null,
   "id": "895fcdee",
   "metadata": {},
   "outputs": [],
   "source": [
    "# Topic: Functions\n",
    "def greet(name='User'):\n",
    "    print(f'Hi, {name}')\n",
    "greet()"
   ]
  },
  {
   "cell_type": "code",
   "execution_count": null,
   "id": "5e3793b0",
   "metadata": {},
   "outputs": [],
   "source": [
    "# Topic: Basics\n",
    "x = 10\n",
    "y = 20\n",
    "print(x + y)"
   ]
  },
  {
   "cell_type": "code",
   "execution_count": null,
   "id": "8240bf97",
   "metadata": {},
   "outputs": [],
   "source": [
    "# Topic: Pandas\n",
    "import pandas as pd\n",
    "df = pd.read_csv('file.csv')\n",
    "print(df.head())"
   ]
  },
  {
   "cell_type": "code",
   "execution_count": null,
   "id": "94da1106",
   "metadata": {},
   "outputs": [],
   "source": [
    "# Topic: Basic ML\n",
    "from sklearn.linear_model import LinearRegression\n",
    "model = LinearRegression()\n",
    "print(model)"
   ]
  },
  {
   "cell_type": "code",
   "execution_count": null,
   "id": "1727fc60",
   "metadata": {},
   "outputs": [],
   "source": [
    "# Topic: Mini Projects\n",
    "# Palindrome check\n",
    "def is_pal(s): return s == s[::-1]\n",
    "print(is_pal('madam'))"
   ]
  },
  {
   "cell_type": "code",
   "execution_count": null,
   "id": "1324d620",
   "metadata": {},
   "outputs": [],
   "source": [
    "# Topic: Pandas\n",
    "import pandas as pd\n",
    "df = pd.read_csv('file.csv')\n",
    "print(df.head())"
   ]
  },
  {
   "cell_type": "code",
   "execution_count": null,
   "id": "ff9a5d67",
   "metadata": {},
   "outputs": [],
   "source": [
    "# Topic: CLI Tools\n",
    "import sys\n",
    "print(f'Arguments: {sys.argv}')"
   ]
  },
  {
   "cell_type": "code",
   "execution_count": null,
   "id": "8d13db4c",
   "metadata": {},
   "outputs": [],
   "source": [
    "# Topic: Algorithms\n",
    "# Bubble sort\n",
    "def bubble(arr):\n",
    " for i in range(len(arr)):\n",
    "  for j in range(0, len(arr)-i-1):\n",
    "   if arr[j]>arr[j+1]: arr[j],arr[j+1]=arr[j+1],arr[j]\n",
    "a=[5,3,8]\n",
    "bubble(a)\n",
    "print(a)"
   ]
  },
  {
   "cell_type": "code",
   "execution_count": null,
   "id": "a504c2d3",
   "metadata": {},
   "outputs": [],
   "source": [
    "# Topic: Web Scraping\n",
    "import requests\n",
    "from bs4 import BeautifulSoup\n",
    "r = requests.get('https://example.com')\n",
    "soup = BeautifulSoup(r.text, 'html.parser')\n",
    "print(soup.title.text)"
   ]
  },
  {
   "cell_type": "code",
   "execution_count": null,
   "id": "43a05bd3",
   "metadata": {},
   "outputs": [],
   "source": [
    "# Topic: CLI Tools\n",
    "import sys\n",
    "print(f'Arguments: {sys.argv}')"
   ]
  },
  {
   "cell_type": "code",
   "execution_count": null,
   "id": "f27603dc",
   "metadata": {},
   "outputs": [],
   "source": [
    "# Topic: Functions\n",
    "def square(x): return x*x\n",
    "print(square(5))"
   ]
  },
  {
   "cell_type": "code",
   "execution_count": null,
   "id": "4bca4ece",
   "metadata": {},
   "outputs": [],
   "source": [
    "# Topic: Basics\n",
    "x = 10\n",
    "y = 20\n",
    "print(x + y)"
   ]
  },
  {
   "cell_type": "code",
   "execution_count": null,
   "id": "7754eabc",
   "metadata": {},
   "outputs": [],
   "source": [
    "# Topic: Functions\n",
    "def square(x): return x*x\n",
    "print(square(5))"
   ]
  },
  {
   "cell_type": "code",
   "execution_count": null,
   "id": "703cbe61",
   "metadata": {},
   "outputs": [],
   "source": [
    "# Topic: Recursion\n",
    "def fact(n): return 1 if n==0 else n*fact(n-1)\n",
    "print(fact(5))"
   ]
  },
  {
   "cell_type": "code",
   "execution_count": null,
   "id": "98667ec5",
   "metadata": {},
   "outputs": [],
   "source": [
    "# Topic: NumPy\n",
    "import numpy as np\n",
    "print(np.linspace(0, 1, 5))"
   ]
  },
  {
   "cell_type": "code",
   "execution_count": null,
   "id": "ad6cb9ae",
   "metadata": {},
   "outputs": [],
   "source": [
    "# Topic: Dictionaries & Sets\n",
    "s = set([1, 2, 3, 2])\n",
    "print(s)"
   ]
  },
  {
   "cell_type": "code",
   "execution_count": null,
   "id": "17367bd3",
   "metadata": {},
   "outputs": [],
   "source": [
    "# Topic: Decorators\n",
    "def log(func):\n",
    " def wrapper():\n",
    "  print('Call')\n",
    "  func()\n",
    " return wrapper\n",
    "@log\n",
    "def say(): print('Hi')\n",
    "say()"
   ]
  },
  {
   "cell_type": "code",
   "execution_count": null,
   "id": "f5e0fd2a",
   "metadata": {},
   "outputs": [],
   "source": [
    "# Topic: Basics\n",
    "name = 'Fahd'\n",
    "print(f'Hello, {name}')"
   ]
  },
  {
   "cell_type": "code",
   "execution_count": null,
   "id": "411cae19",
   "metadata": {},
   "outputs": [],
   "source": [
    "# Topic: Lists & Tuples\n",
    "lst = [1, 2, 3]\n",
    "lst.append(4)\n",
    "print(lst)"
   ]
  },
  {
   "cell_type": "code",
   "execution_count": null,
   "id": "aeb7abce",
   "metadata": {},
   "outputs": [],
   "source": [
    "# Topic: File I/O\n",
    "with open('test.txt', 'r') as f:\n",
    "    print(f.read())"
   ]
  },
  {
   "cell_type": "code",
   "execution_count": null,
   "id": "236144b5",
   "metadata": {},
   "outputs": [],
   "source": [
    "# Topic: Decorators\n",
    "def log(func):\n",
    " def wrapper():\n",
    "  print('Call')\n",
    "  func()\n",
    " return wrapper\n",
    "@log\n",
    "def say(): print('Hi')\n",
    "say()"
   ]
  },
  {
   "cell_type": "code",
   "execution_count": null,
   "id": "971a8fb8",
   "metadata": {},
   "outputs": [],
   "source": [
    "# Topic: Pandas\n",
    "import pandas as pd\n",
    "df = pd.read_csv('file.csv')\n",
    "print(df.head())"
   ]
  },
  {
   "cell_type": "code",
   "execution_count": null,
   "id": "f089f157",
   "metadata": {},
   "outputs": [],
   "source": [
    "# Topic: Web Scraping\n",
    "import requests\n",
    "from bs4 import BeautifulSoup\n",
    "r = requests.get('https://example.com')\n",
    "soup = BeautifulSoup(r.text, 'html.parser')\n",
    "print(soup.title.text)"
   ]
  },
  {
   "cell_type": "code",
   "execution_count": null,
   "id": "e81420f8",
   "metadata": {},
   "outputs": [],
   "source": [
    "# Topic: Loops\n",
    "while True:\n",
    "    print('Break')\n",
    "    break"
   ]
  },
  {
   "cell_type": "code",
   "execution_count": null,
   "id": "2baec0e4",
   "metadata": {},
   "outputs": [],
   "source": [
    "# Topic: Basic ML\n",
    "from sklearn.linear_model import LinearRegression\n",
    "model = LinearRegression()\n",
    "print(model)"
   ]
  },
  {
   "cell_type": "code",
   "execution_count": null,
   "id": "cfe367fa",
   "metadata": {},
   "outputs": [],
   "source": [
    "# Topic: Dictionaries & Sets\n",
    "s = set([1, 2, 3, 2])\n",
    "print(s)"
   ]
  },
  {
   "cell_type": "code",
   "execution_count": null,
   "id": "43143d99",
   "metadata": {},
   "outputs": [],
   "source": [
    "# Topic: Dictionaries & Sets\n",
    "d = {'name': 'Fahd', 'age': 20}\n",
    "print(d.get('name'))"
   ]
  },
  {
   "cell_type": "code",
   "execution_count": null,
   "id": "50c712de",
   "metadata": {},
   "outputs": [],
   "source": [
    "# Topic: Basic ML\n",
    "from sklearn.linear_model import LinearRegression\n",
    "model = LinearRegression()\n",
    "print(model)"
   ]
  },
  {
   "cell_type": "code",
   "execution_count": null,
   "id": "72f1c360",
   "metadata": {},
   "outputs": [],
   "source": [
    "# Topic: CLI Tools\n",
    "import sys\n",
    "print(f'Arguments: {sys.argv}')"
   ]
  },
  {
   "cell_type": "code",
   "execution_count": null,
   "id": "94895dbc",
   "metadata": {},
   "outputs": [],
   "source": [
    "# Topic: CLI Tools\n",
    "import sys\n",
    "print(f'Arguments: {sys.argv}')"
   ]
  },
  {
   "cell_type": "code",
   "execution_count": null,
   "id": "25e9f536",
   "metadata": {},
   "outputs": [],
   "source": [
    "# Topic: Data Cleaning\n",
    "import pandas as pd\n",
    "df = pd.DataFrame({'A':[1,None,3]})\n",
    "df = df.fillna(0)\n",
    "print(df)"
   ]
  },
  {
   "cell_type": "code",
   "execution_count": null,
   "id": "948266af",
   "metadata": {},
   "outputs": [],
   "source": [
    "# Topic: Data Cleaning\n",
    "import pandas as pd\n",
    "df = pd.DataFrame({'A':[1,None,3]})\n",
    "df = df.fillna(0)\n",
    "print(df)"
   ]
  },
  {
   "cell_type": "code",
   "execution_count": null,
   "id": "7667f14a",
   "metadata": {},
   "outputs": [],
   "source": [
    "# Topic: JSON & CSV\n",
    "import json\n",
    "data = {'a': 1}\n",
    "print(json.dumps(data))"
   ]
  },
  {
   "cell_type": "code",
   "execution_count": null,
   "id": "83b436c7",
   "metadata": {},
   "outputs": [],
   "source": [
    "# Topic: Basic ML\n",
    "from sklearn.linear_model import LinearRegression\n",
    "model = LinearRegression()\n",
    "print(model)"
   ]
  },
  {
   "cell_type": "code",
   "execution_count": null,
   "id": "9f5ccd56",
   "metadata": {},
   "outputs": [],
   "source": [
    "# Topic: OOP\n",
    "class Student:\n",
    "    def __init__(self, name): self.name = name\n",
    "s = Student('Fahd')\n",
    "print(s.name)"
   ]
  },
  {
   "cell_type": "code",
   "execution_count": null,
   "id": "328cd5d0",
   "metadata": {},
   "outputs": [],
   "source": [
    "# Topic: Lists & Tuples\n",
    "lst = [1, 2, 3]\n",
    "lst.append(4)\n",
    "print(lst)"
   ]
  },
  {
   "cell_type": "code",
   "execution_count": null,
   "id": "fc07b3cc",
   "metadata": {},
   "outputs": [],
   "source": [
    "# Topic: Regex\n",
    "import re\n",
    "text = 'email: test@example.com'\n",
    "print(re.findall(r'\\S+@\\S+', text))"
   ]
  },
  {
   "cell_type": "code",
   "execution_count": null,
   "id": "d91e885f",
   "metadata": {},
   "outputs": [],
   "source": [
    "# Topic: Decorators\n",
    "def log(func):\n",
    " def wrapper():\n",
    "  print('Call')\n",
    "  func()\n",
    " return wrapper\n",
    "@log\n",
    "def say(): print('Hi')\n",
    "say()"
   ]
  },
  {
   "cell_type": "code",
   "execution_count": null,
   "id": "a9a7f889",
   "metadata": {},
   "outputs": [],
   "source": [
    "# Topic: Web Scraping\n",
    "import requests\n",
    "from bs4 import BeautifulSoup\n",
    "r = requests.get('https://example.com')\n",
    "soup = BeautifulSoup(r.text, 'html.parser')\n",
    "print(soup.title.text)"
   ]
  },
  {
   "cell_type": "code",
   "execution_count": null,
   "id": "2eedc98a",
   "metadata": {},
   "outputs": [],
   "source": [
    "# Topic: Pandas\n",
    "import pandas as pd\n",
    "df = pd.read_csv('file.csv')\n",
    "print(df.head())"
   ]
  },
  {
   "cell_type": "code",
   "execution_count": null,
   "id": "025c59e2",
   "metadata": {},
   "outputs": [],
   "source": [
    "# Topic: Recursion\n",
    "def fact(n): return 1 if n==0 else n*fact(n-1)\n",
    "print(fact(5))"
   ]
  },
  {
   "cell_type": "code",
   "execution_count": null,
   "id": "97e4855a",
   "metadata": {},
   "outputs": [],
   "source": [
    "# Topic: Algorithms\n",
    "# Bubble sort\n",
    "def bubble(arr):\n",
    " for i in range(len(arr)):\n",
    "  for j in range(0, len(arr)-i-1):\n",
    "   if arr[j]>arr[j+1]: arr[j],arr[j+1]=arr[j+1],arr[j]\n",
    "a=[5,3,8]\n",
    "bubble(a)\n",
    "print(a)"
   ]
  },
  {
   "cell_type": "code",
   "execution_count": null,
   "id": "6dd7c213",
   "metadata": {},
   "outputs": [],
   "source": [
    "# Topic: Dictionaries & Sets\n",
    "d = {'name': 'Fahd', 'age': 20}\n",
    "print(d.get('name'))"
   ]
  },
  {
   "cell_type": "code",
   "execution_count": null,
   "id": "4245ed6c",
   "metadata": {},
   "outputs": [],
   "source": [
    "# Topic: Data Cleaning\n",
    "import pandas as pd\n",
    "df = pd.DataFrame({'A':[1,None,3]})\n",
    "df = df.fillna(0)\n",
    "print(df)"
   ]
  },
  {
   "cell_type": "code",
   "execution_count": null,
   "id": "0363e263",
   "metadata": {},
   "outputs": [],
   "source": [
    "# Topic: Lists & Tuples\n",
    "lst = [1, 2, 3]\n",
    "lst.append(4)\n",
    "print(lst)"
   ]
  },
  {
   "cell_type": "code",
   "execution_count": null,
   "id": "08431574",
   "metadata": {},
   "outputs": [],
   "source": [
    "# Topic: Web Scraping\n",
    "import requests\n",
    "from bs4 import BeautifulSoup\n",
    "r = requests.get('https://example.com')\n",
    "soup = BeautifulSoup(r.text, 'html.parser')\n",
    "print(soup.title.text)"
   ]
  },
  {
   "cell_type": "code",
   "execution_count": null,
   "id": "6b258ca7",
   "metadata": {},
   "outputs": [],
   "source": [
    "# Topic: Basic ML\n",
    "from sklearn.linear_model import LinearRegression\n",
    "model = LinearRegression()\n",
    "print(model)"
   ]
  },
  {
   "cell_type": "code",
   "execution_count": null,
   "id": "41abd3b6",
   "metadata": {},
   "outputs": [],
   "source": [
    "# Topic: Basics\n",
    "name = 'Fahd'\n",
    "print(f'Hello, {name}')"
   ]
  },
  {
   "cell_type": "code",
   "execution_count": null,
   "id": "2b084c74",
   "metadata": {},
   "outputs": [],
   "source": [
    "# Topic: Dictionaries & Sets\n",
    "s = set([1, 2, 3, 2])\n",
    "print(s)"
   ]
  },
  {
   "cell_type": "code",
   "execution_count": null,
   "id": "7b69b64d",
   "metadata": {},
   "outputs": [],
   "source": [
    "# Topic: Basic ML\n",
    "from sklearn.linear_model import LinearRegression\n",
    "model = LinearRegression()\n",
    "print(model)"
   ]
  },
  {
   "cell_type": "code",
   "execution_count": null,
   "id": "30fb8c90",
   "metadata": {},
   "outputs": [],
   "source": [
    "# Topic: Dictionaries & Sets\n",
    "d = {'name': 'Fahd', 'age': 20}\n",
    "print(d.get('name'))"
   ]
  },
  {
   "cell_type": "code",
   "execution_count": null,
   "id": "351b3fd7",
   "metadata": {},
   "outputs": [],
   "source": [
    "# Topic: Decorators\n",
    "def log(func):\n",
    " def wrapper():\n",
    "  print('Call')\n",
    "  func()\n",
    " return wrapper\n",
    "@log\n",
    "def say(): print('Hi')\n",
    "say()"
   ]
  },
  {
   "cell_type": "code",
   "execution_count": null,
   "id": "9d5a8372",
   "metadata": {},
   "outputs": [],
   "source": [
    "# Topic: File I/O\n",
    "with open('test.txt', 'w') as f:\n",
    "    f.write('Hello World')"
   ]
  },
  {
   "cell_type": "code",
   "execution_count": null,
   "id": "f3bb4692",
   "metadata": {},
   "outputs": [],
   "source": [
    "# Topic: Basics\n",
    "x = 10\n",
    "y = 20\n",
    "print(x + y)"
   ]
  },
  {
   "cell_type": "code",
   "execution_count": null,
   "id": "8bb04510",
   "metadata": {},
   "outputs": [],
   "source": [
    "# Topic: Lists & Tuples\n",
    "lst = [1, 2, 3]\n",
    "lst.append(4)\n",
    "print(lst)"
   ]
  },
  {
   "cell_type": "code",
   "execution_count": null,
   "id": "22f8e35f",
   "metadata": {},
   "outputs": [],
   "source": [
    "# Topic: Recursion\n",
    "def fact(n): return 1 if n==0 else n*fact(n-1)\n",
    "print(fact(5))"
   ]
  },
  {
   "cell_type": "code",
   "execution_count": null,
   "id": "445e3a4f",
   "metadata": {},
   "outputs": [],
   "source": [
    "# Topic: Decorators\n",
    "def log(func):\n",
    " def wrapper():\n",
    "  print('Call')\n",
    "  func()\n",
    " return wrapper\n",
    "@log\n",
    "def say(): print('Hi')\n",
    "say()"
   ]
  },
  {
   "cell_type": "code",
   "execution_count": null,
   "id": "92c0e449",
   "metadata": {},
   "outputs": [],
   "source": [
    "# Topic: CLI Tools\n",
    "import sys\n",
    "print(f'Arguments: {sys.argv}')"
   ]
  },
  {
   "cell_type": "code",
   "execution_count": null,
   "id": "ce1012c7",
   "metadata": {},
   "outputs": [],
   "source": [
    "# Topic: OOP\n",
    "class Student:\n",
    "    def __init__(self, name): self.name = name\n",
    "s = Student('Fahd')\n",
    "print(s.name)"
   ]
  },
  {
   "cell_type": "code",
   "execution_count": null,
   "id": "5fd3951a",
   "metadata": {},
   "outputs": [],
   "source": [
    "# Topic: JSON & CSV\n",
    "import csv\n",
    "with open('file.csv', 'w', newline='') as f:\n",
    " csv.writer(f).writerow(['a','b','c'])"
   ]
  },
  {
   "cell_type": "code",
   "execution_count": null,
   "id": "b46dbe97",
   "metadata": {},
   "outputs": [],
   "source": [
    "# Topic: Basics\n",
    "x = 10\n",
    "y = 20\n",
    "print(x + y)"
   ]
  },
  {
   "cell_type": "code",
   "execution_count": null,
   "id": "6c9a69c0",
   "metadata": {},
   "outputs": [],
   "source": [
    "# Topic: Lists & Tuples\n",
    "t = (1, 2, 3)\n",
    "print(t[0])"
   ]
  },
  {
   "cell_type": "code",
   "execution_count": null,
   "id": "38ec19cc",
   "metadata": {},
   "outputs": [],
   "source": [
    "# Topic: Web Scraping\n",
    "import requests\n",
    "from bs4 import BeautifulSoup\n",
    "r = requests.get('https://example.com')\n",
    "soup = BeautifulSoup(r.text, 'html.parser')\n",
    "print(soup.title.text)"
   ]
  },
  {
   "cell_type": "code",
   "execution_count": null,
   "id": "1a4ef5c9",
   "metadata": {},
   "outputs": [],
   "source": [
    "# Topic: File I/O\n",
    "with open('test.txt', 'r') as f:\n",
    "    print(f.read())"
   ]
  },
  {
   "cell_type": "code",
   "execution_count": null,
   "id": "8440039e",
   "metadata": {},
   "outputs": [],
   "source": [
    "# Topic: CLI Tools\n",
    "import sys\n",
    "print(f'Arguments: {sys.argv}')"
   ]
  },
  {
   "cell_type": "code",
   "execution_count": null,
   "id": "1649e56e",
   "metadata": {},
   "outputs": [],
   "source": [
    "# Topic: JSON & CSV\n",
    "import csv\n",
    "with open('file.csv', 'w', newline='') as f:\n",
    " csv.writer(f).writerow(['a','b','c'])"
   ]
  },
  {
   "cell_type": "code",
   "execution_count": null,
   "id": "17f2bed6",
   "metadata": {},
   "outputs": [],
   "source": [
    "# Topic: Basic ML\n",
    "from sklearn.linear_model import LinearRegression\n",
    "model = LinearRegression()\n",
    "print(model)"
   ]
  },
  {
   "cell_type": "code",
   "execution_count": null,
   "id": "d09f45b3",
   "metadata": {},
   "outputs": [],
   "source": [
    "# Topic: Data Cleaning\n",
    "import pandas as pd\n",
    "df = pd.DataFrame({'A':[1,None,3]})\n",
    "df = df.fillna(0)\n",
    "print(df)"
   ]
  },
  {
   "cell_type": "code",
   "execution_count": null,
   "id": "9ada43e8",
   "metadata": {},
   "outputs": [],
   "source": [
    "# Topic: Basic ML\n",
    "from sklearn.linear_model import LinearRegression\n",
    "model = LinearRegression()\n",
    "print(model)"
   ]
  },
  {
   "cell_type": "code",
   "execution_count": null,
   "id": "f376d961",
   "metadata": {},
   "outputs": [],
   "source": [
    "# Topic: Regex\n",
    "import re\n",
    "text = 'email: test@example.com'\n",
    "print(re.findall(r'\\S+@\\S+', text))"
   ]
  },
  {
   "cell_type": "code",
   "execution_count": null,
   "id": "b014dfd1",
   "metadata": {},
   "outputs": [],
   "source": [
    "# Topic: Dictionaries & Sets\n",
    "d = {'name': 'Fahd', 'age': 20}\n",
    "print(d.get('name'))"
   ]
  },
  {
   "cell_type": "code",
   "execution_count": null,
   "id": "3d200e2e",
   "metadata": {},
   "outputs": [],
   "source": [
    "# Topic: NumPy\n",
    "import numpy as np\n",
    "a = np.array([1, 2, 3])\n",
    "print(a + 5)"
   ]
  },
  {
   "cell_type": "code",
   "execution_count": null,
   "id": "cabf515b",
   "metadata": {},
   "outputs": [],
   "source": [
    "# Topic: Recursion\n",
    "def fact(n): return 1 if n==0 else n*fact(n-1)\n",
    "print(fact(5))"
   ]
  },
  {
   "cell_type": "code",
   "execution_count": null,
   "id": "6c2b0c36",
   "metadata": {},
   "outputs": [],
   "source": [
    "# Topic: Decorators\n",
    "def log(func):\n",
    " def wrapper():\n",
    "  print('Call')\n",
    "  func()\n",
    " return wrapper\n",
    "@log\n",
    "def say(): print('Hi')\n",
    "say()"
   ]
  },
  {
   "cell_type": "code",
   "execution_count": null,
   "id": "de336a66",
   "metadata": {},
   "outputs": [],
   "source": [
    "# Topic: Functions\n",
    "def square(x): return x*x\n",
    "print(square(5))"
   ]
  },
  {
   "cell_type": "code",
   "execution_count": null,
   "id": "094a30c9",
   "metadata": {},
   "outputs": [],
   "source": [
    "# Topic: JSON & CSV\n",
    "import csv\n",
    "with open('file.csv', 'w', newline='') as f:\n",
    " csv.writer(f).writerow(['a','b','c'])"
   ]
  },
  {
   "cell_type": "code",
   "execution_count": null,
   "id": "b99cc475",
   "metadata": {},
   "outputs": [],
   "source": [
    "# Topic: Dictionaries & Sets\n",
    "s = set([1, 2, 3, 2])\n",
    "print(s)"
   ]
  },
  {
   "cell_type": "code",
   "execution_count": null,
   "id": "a0300d89",
   "metadata": {},
   "outputs": [],
   "source": [
    "# Topic: Data Cleaning\n",
    "import pandas as pd\n",
    "df = pd.DataFrame({'A':[1,None,3]})\n",
    "df = df.fillna(0)\n",
    "print(df)"
   ]
  },
  {
   "cell_type": "code",
   "execution_count": null,
   "id": "1c44e45f",
   "metadata": {},
   "outputs": [],
   "source": [
    "# Topic: Regex\n",
    "import re\n",
    "text = 'email: test@example.com'\n",
    "print(re.findall(r'\\S+@\\S+', text))"
   ]
  },
  {
   "cell_type": "code",
   "execution_count": null,
   "id": "0711e2c6",
   "metadata": {},
   "outputs": [],
   "source": [
    "# Topic: Algorithms\n",
    "# Bubble sort\n",
    "def bubble(arr):\n",
    " for i in range(len(arr)):\n",
    "  for j in range(0, len(arr)-i-1):\n",
    "   if arr[j]>arr[j+1]: arr[j],arr[j+1]=arr[j+1],arr[j]\n",
    "a=[5,3,8]\n",
    "bubble(a)\n",
    "print(a)"
   ]
  },
  {
   "cell_type": "code",
   "execution_count": null,
   "id": "a9fc009c",
   "metadata": {},
   "outputs": [],
   "source": [
    "# Topic: Decorators\n",
    "def log(func):\n",
    " def wrapper():\n",
    "  print('Call')\n",
    "  func()\n",
    " return wrapper\n",
    "@log\n",
    "def say(): print('Hi')\n",
    "say()"
   ]
  },
  {
   "cell_type": "code",
   "execution_count": null,
   "id": "37a8fb9e",
   "metadata": {},
   "outputs": [],
   "source": [
    "# Topic: Loops\n",
    "for i in range(10): print(i*i)"
   ]
  },
  {
   "cell_type": "code",
   "execution_count": null,
   "id": "128648ce",
   "metadata": {},
   "outputs": [],
   "source": [
    "# Topic: Basics\n",
    "x = 10\n",
    "y = 20\n",
    "print(x + y)"
   ]
  },
  {
   "cell_type": "code",
   "execution_count": null,
   "id": "be633258",
   "metadata": {},
   "outputs": [],
   "source": [
    "# Topic: JSON & CSV\n",
    "import csv\n",
    "with open('file.csv', 'w', newline='') as f:\n",
    " csv.writer(f).writerow(['a','b','c'])"
   ]
  },
  {
   "cell_type": "code",
   "execution_count": null,
   "id": "3b2c3fdc",
   "metadata": {},
   "outputs": [],
   "source": [
    "# Topic: CLI Tools\n",
    "import sys\n",
    "print(f'Arguments: {sys.argv}')"
   ]
  },
  {
   "cell_type": "code",
   "execution_count": null,
   "id": "740bc467",
   "metadata": {},
   "outputs": [],
   "source": [
    "# Topic: OOP\n",
    "class Student:\n",
    "    def __init__(self, name): self.name = name\n",
    "s = Student('Fahd')\n",
    "print(s.name)"
   ]
  },
  {
   "cell_type": "code",
   "execution_count": null,
   "id": "8a552db8",
   "metadata": {},
   "outputs": [],
   "source": [
    "# Topic: Recursion\n",
    "def fact(n): return 1 if n==0 else n*fact(n-1)\n",
    "print(fact(5))"
   ]
  },
  {
   "cell_type": "code",
   "execution_count": null,
   "id": "9c50aecf",
   "metadata": {},
   "outputs": [],
   "source": [
    "# Topic: Pandas\n",
    "import pandas as pd\n",
    "df = pd.DataFrame({'A':[1,2],'B':[3,4]})\n",
    "print(df)"
   ]
  },
  {
   "cell_type": "code",
   "execution_count": null,
   "id": "c5347495",
   "metadata": {},
   "outputs": [],
   "source": [
    "# Topic: OOP\n",
    "class Student:\n",
    "    def __init__(self, name): self.name = name\n",
    "s = Student('Fahd')\n",
    "print(s.name)"
   ]
  },
  {
   "cell_type": "code",
   "execution_count": null,
   "id": "1f61bce4",
   "metadata": {},
   "outputs": [],
   "source": [
    "# Topic: Dictionaries & Sets\n",
    "d = {'name': 'Fahd', 'age': 20}\n",
    "print(d.get('name'))"
   ]
  },
  {
   "cell_type": "code",
   "execution_count": null,
   "id": "6d1cbdd2",
   "metadata": {},
   "outputs": [],
   "source": [
    "# Topic: Dictionaries & Sets\n",
    "s = set([1, 2, 3, 2])\n",
    "print(s)"
   ]
  },
  {
   "cell_type": "code",
   "execution_count": null,
   "id": "a325089e",
   "metadata": {},
   "outputs": [],
   "source": [
    "# Topic: Loops\n",
    "for i in range(10): print(i*i)"
   ]
  },
  {
   "cell_type": "code",
   "execution_count": null,
   "id": "e87ee611",
   "metadata": {},
   "outputs": [],
   "source": [
    "# Topic: Web Scraping\n",
    "import requests\n",
    "from bs4 import BeautifulSoup\n",
    "r = requests.get('https://example.com')\n",
    "soup = BeautifulSoup(r.text, 'html.parser')\n",
    "print(soup.title.text)"
   ]
  },
  {
   "cell_type": "code",
   "execution_count": null,
   "id": "fdd2eacf",
   "metadata": {},
   "outputs": [],
   "source": [
    "# Topic: Loops\n",
    "while True:\n",
    "    print('Break')\n",
    "    break"
   ]
  },
  {
   "cell_type": "code",
   "execution_count": null,
   "id": "9fd43f4c",
   "metadata": {},
   "outputs": [],
   "source": [
    "# Topic: Algorithms\n",
    "# Bubble sort\n",
    "def bubble(arr):\n",
    " for i in range(len(arr)):\n",
    "  for j in range(0, len(arr)-i-1):\n",
    "   if arr[j]>arr[j+1]: arr[j],arr[j+1]=arr[j+1],arr[j]\n",
    "a=[5,3,8]\n",
    "bubble(a)\n",
    "print(a)"
   ]
  },
  {
   "cell_type": "code",
   "execution_count": null,
   "id": "a87a280b",
   "metadata": {},
   "outputs": [],
   "source": [
    "# Topic: NumPy\n",
    "import numpy as np\n",
    "a = np.array([1, 2, 3])\n",
    "print(a + 5)"
   ]
  },
  {
   "cell_type": "code",
   "execution_count": null,
   "id": "05e4aef3",
   "metadata": {},
   "outputs": [],
   "source": [
    "# Topic: Decorators\n",
    "def log(func):\n",
    " def wrapper():\n",
    "  print('Call')\n",
    "  func()\n",
    " return wrapper\n",
    "@log\n",
    "def say(): print('Hi')\n",
    "say()"
   ]
  },
  {
   "cell_type": "code",
   "execution_count": null,
   "id": "e9e811a9",
   "metadata": {},
   "outputs": [],
   "source": [
    "# Topic: Basics\n",
    "name = 'Fahd'\n",
    "print(f'Hello, {name}')"
   ]
  },
  {
   "cell_type": "code",
   "execution_count": null,
   "id": "929fc17f",
   "metadata": {},
   "outputs": [],
   "source": [
    "# Topic: Recursion\n",
    "def fact(n): return 1 if n==0 else n*fact(n-1)\n",
    "print(fact(5))"
   ]
  },
  {
   "cell_type": "code",
   "execution_count": null,
   "id": "b0755513",
   "metadata": {},
   "outputs": [],
   "source": [
    "# Topic: OOP\n",
    "class Student:\n",
    "    def __init__(self, name): self.name = name\n",
    "s = Student('Fahd')\n",
    "print(s.name)"
   ]
  },
  {
   "cell_type": "code",
   "execution_count": null,
   "id": "7806d8a9",
   "metadata": {},
   "outputs": [],
   "source": [
    "# Topic: Lists & Tuples\n",
    "lst = [1, 2, 3]\n",
    "lst.append(4)\n",
    "print(lst)"
   ]
  },
  {
   "cell_type": "code",
   "execution_count": null,
   "id": "6e154064",
   "metadata": {},
   "outputs": [],
   "source": [
    "# Topic: Web Scraping\n",
    "import requests\n",
    "from bs4 import BeautifulSoup\n",
    "r = requests.get('https://example.com')\n",
    "soup = BeautifulSoup(r.text, 'html.parser')\n",
    "print(soup.title.text)"
   ]
  },
  {
   "cell_type": "code",
   "execution_count": null,
   "id": "59decb61",
   "metadata": {},
   "outputs": [],
   "source": [
    "# Topic: Pandas\n",
    "import pandas as pd\n",
    "df = pd.read_csv('file.csv')\n",
    "print(df.head())"
   ]
  },
  {
   "cell_type": "code",
   "execution_count": null,
   "id": "e851801a",
   "metadata": {},
   "outputs": [],
   "source": [
    "# Topic: File I/O\n",
    "with open('test.txt', 'r') as f:\n",
    "    print(f.read())"
   ]
  },
  {
   "cell_type": "code",
   "execution_count": null,
   "id": "d7f6b40e",
   "metadata": {},
   "outputs": [],
   "source": [
    "# Topic: Mini Projects\n",
    "# Palindrome check\n",
    "def is_pal(s): return s == s[::-1]\n",
    "print(is_pal('madam'))"
   ]
  },
  {
   "cell_type": "code",
   "execution_count": null,
   "id": "c09fedc1",
   "metadata": {},
   "outputs": [],
   "source": [
    "# Topic: Web Scraping\n",
    "import requests\n",
    "from bs4 import BeautifulSoup\n",
    "r = requests.get('https://example.com')\n",
    "soup = BeautifulSoup(r.text, 'html.parser')\n",
    "print(soup.title.text)"
   ]
  },
  {
   "cell_type": "code",
   "execution_count": null,
   "id": "a4d52a3c",
   "metadata": {},
   "outputs": [],
   "source": [
    "# Topic: Recursion\n",
    "def fact(n): return 1 if n==0 else n*fact(n-1)\n",
    "print(fact(5))"
   ]
  },
  {
   "cell_type": "code",
   "execution_count": null,
   "id": "38cd3758",
   "metadata": {},
   "outputs": [],
   "source": [
    "# Topic: Mini Projects\n",
    "# Palindrome check\n",
    "def is_pal(s): return s == s[::-1]\n",
    "print(is_pal('madam'))"
   ]
  },
  {
   "cell_type": "code",
   "execution_count": null,
   "id": "782bfc15",
   "metadata": {},
   "outputs": [],
   "source": [
    "# Topic: Data Cleaning\n",
    "import pandas as pd\n",
    "df = pd.DataFrame({'A':[1,None,3]})\n",
    "df = df.fillna(0)\n",
    "print(df)"
   ]
  },
  {
   "cell_type": "code",
   "execution_count": null,
   "id": "324105b2",
   "metadata": {},
   "outputs": [],
   "source": [
    "# Topic: Lists & Tuples\n",
    "t = (1, 2, 3)\n",
    "print(t[0])"
   ]
  },
  {
   "cell_type": "code",
   "execution_count": null,
   "id": "62ff2fc2",
   "metadata": {},
   "outputs": [],
   "source": [
    "# Topic: Loops\n",
    "for i in range(10): print(i*i)"
   ]
  },
  {
   "cell_type": "code",
   "execution_count": null,
   "id": "547b31bd",
   "metadata": {},
   "outputs": [],
   "source": [
    "# Topic: File I/O\n",
    "with open('test.txt', 'r') as f:\n",
    "    print(f.read())"
   ]
  },
  {
   "cell_type": "code",
   "execution_count": null,
   "id": "fb23f4d6",
   "metadata": {},
   "outputs": [],
   "source": [
    "# Topic: Loops\n",
    "for i in range(10): print(i*i)"
   ]
  },
  {
   "cell_type": "code",
   "execution_count": null,
   "id": "7ba07f9c",
   "metadata": {},
   "outputs": [],
   "source": [
    "# Topic: Decorators\n",
    "def log(func):\n",
    " def wrapper():\n",
    "  print('Call')\n",
    "  func()\n",
    " return wrapper\n",
    "@log\n",
    "def say(): print('Hi')\n",
    "say()"
   ]
  },
  {
   "cell_type": "code",
   "execution_count": null,
   "id": "149ae3b3",
   "metadata": {},
   "outputs": [],
   "source": [
    "# Topic: Recursion\n",
    "def fact(n): return 1 if n==0 else n*fact(n-1)\n",
    "print(fact(5))"
   ]
  },
  {
   "cell_type": "code",
   "execution_count": null,
   "id": "1684e52d",
   "metadata": {},
   "outputs": [],
   "source": [
    "# Topic: NumPy\n",
    "import numpy as np\n",
    "print(np.linspace(0, 1, 5))"
   ]
  },
  {
   "cell_type": "code",
   "execution_count": null,
   "id": "a414c6a0",
   "metadata": {},
   "outputs": [],
   "source": [
    "# Topic: Lists & Tuples\n",
    "lst = [1, 2, 3]\n",
    "lst.append(4)\n",
    "print(lst)"
   ]
  },
  {
   "cell_type": "code",
   "execution_count": null,
   "id": "bf932aff",
   "metadata": {},
   "outputs": [],
   "source": [
    "# Topic: File I/O\n",
    "with open('test.txt', 'w') as f:\n",
    "    f.write('Hello World')"
   ]
  },
  {
   "cell_type": "code",
   "execution_count": null,
   "id": "b095cce3",
   "metadata": {},
   "outputs": [],
   "source": [
    "# Topic: Loops\n",
    "while True:\n",
    "    print('Break')\n",
    "    break"
   ]
  },
  {
   "cell_type": "code",
   "execution_count": null,
   "id": "2cab9d73",
   "metadata": {},
   "outputs": [],
   "source": [
    "# Topic: Basic ML\n",
    "from sklearn.linear_model import LinearRegression\n",
    "model = LinearRegression()\n",
    "print(model)"
   ]
  },
  {
   "cell_type": "code",
   "execution_count": null,
   "id": "f3536533",
   "metadata": {},
   "outputs": [],
   "source": [
    "# Topic: Recursion\n",
    "def fact(n): return 1 if n==0 else n*fact(n-1)\n",
    "print(fact(5))"
   ]
  },
  {
   "cell_type": "code",
   "execution_count": null,
   "id": "4bef5c59",
   "metadata": {},
   "outputs": [],
   "source": [
    "# Topic: Loops\n",
    "while True:\n",
    "    print('Break')\n",
    "    break"
   ]
  },
  {
   "cell_type": "code",
   "execution_count": null,
   "id": "c4de2c25",
   "metadata": {},
   "outputs": [],
   "source": [
    "# Topic: Loops\n",
    "while True:\n",
    "    print('Break')\n",
    "    break"
   ]
  },
  {
   "cell_type": "code",
   "execution_count": null,
   "id": "dc0ed476",
   "metadata": {},
   "outputs": [],
   "source": [
    "# Topic: Basics\n",
    "name = 'Fahd'\n",
    "print(f'Hello, {name}')"
   ]
  },
  {
   "cell_type": "code",
   "execution_count": null,
   "id": "fac5a603",
   "metadata": {},
   "outputs": [],
   "source": [
    "# Topic: Basics\n",
    "name = 'Fahd'\n",
    "print(f'Hello, {name}')"
   ]
  },
  {
   "cell_type": "code",
   "execution_count": null,
   "id": "4298cee5",
   "metadata": {},
   "outputs": [],
   "source": [
    "# Topic: Regex\n",
    "import re\n",
    "text = 'email: test@example.com'\n",
    "print(re.findall(r'\\S+@\\S+', text))"
   ]
  },
  {
   "cell_type": "code",
   "execution_count": null,
   "id": "cb4c0488",
   "metadata": {},
   "outputs": [],
   "source": [
    "# Topic: Recursion\n",
    "def fact(n): return 1 if n==0 else n*fact(n-1)\n",
    "print(fact(5))"
   ]
  },
  {
   "cell_type": "code",
   "execution_count": null,
   "id": "fb79e858",
   "metadata": {},
   "outputs": [],
   "source": [
    "# Topic: Functions\n",
    "def greet(name='User'):\n",
    "    print(f'Hi, {name}')\n",
    "greet()"
   ]
  },
  {
   "cell_type": "code",
   "execution_count": null,
   "id": "1bc50ab3",
   "metadata": {},
   "outputs": [],
   "source": [
    "# Topic: Basics\n",
    "x = 10\n",
    "y = 20\n",
    "print(x + y)"
   ]
  },
  {
   "cell_type": "code",
   "execution_count": null,
   "id": "f35c562d",
   "metadata": {},
   "outputs": [],
   "source": [
    "# Topic: Matplotlib & Seaborn\n",
    "import seaborn as sns\n",
    "import pandas as pd\n",
    "sns.set()\n",
    "sns.histplot(pd.Series([1,2,2,3]));"
   ]
  },
  {
   "cell_type": "code",
   "execution_count": null,
   "id": "95f1ffb6",
   "metadata": {},
   "outputs": [],
   "source": [
    "# Topic: Mini Projects\n",
    "# Palindrome check\n",
    "def is_pal(s): return s == s[::-1]\n",
    "print(is_pal('madam'))"
   ]
  },
  {
   "cell_type": "code",
   "execution_count": null,
   "id": "e063fc5e",
   "metadata": {},
   "outputs": [],
   "source": [
    "# Topic: JSON & CSV\n",
    "import json\n",
    "data = {'a': 1}\n",
    "print(json.dumps(data))"
   ]
  },
  {
   "cell_type": "code",
   "execution_count": null,
   "id": "1722f701",
   "metadata": {},
   "outputs": [],
   "source": [
    "# Topic: Basic ML\n",
    "from sklearn.linear_model import LinearRegression\n",
    "model = LinearRegression()\n",
    "print(model)"
   ]
  },
  {
   "cell_type": "code",
   "execution_count": null,
   "id": "d0464732",
   "metadata": {},
   "outputs": [],
   "source": [
    "# Topic: NumPy\n",
    "import numpy as np\n",
    "a = np.array([1, 2, 3])\n",
    "print(a + 5)"
   ]
  },
  {
   "cell_type": "code",
   "execution_count": null,
   "id": "7ef7dd56",
   "metadata": {},
   "outputs": [],
   "source": [
    "# Topic: Matplotlib & Seaborn\n",
    "import seaborn as sns\n",
    "import pandas as pd\n",
    "sns.set()\n",
    "sns.histplot(pd.Series([1,2,2,3]));"
   ]
  },
  {
   "cell_type": "code",
   "execution_count": null,
   "id": "be52cb2a",
   "metadata": {},
   "outputs": [],
   "source": [
    "# Topic: Decorators\n",
    "def log(func):\n",
    " def wrapper():\n",
    "  print('Call')\n",
    "  func()\n",
    " return wrapper\n",
    "@log\n",
    "def say(): print('Hi')\n",
    "say()"
   ]
  },
  {
   "cell_type": "code",
   "execution_count": null,
   "id": "96fc256a",
   "metadata": {},
   "outputs": [],
   "source": [
    "# Topic: Lists & Tuples\n",
    "lst = [1, 2, 3]\n",
    "lst.append(4)\n",
    "print(lst)"
   ]
  },
  {
   "cell_type": "code",
   "execution_count": null,
   "id": "12f064bf",
   "metadata": {},
   "outputs": [],
   "source": [
    "# Topic: Algorithms\n",
    "# Bubble sort\n",
    "def bubble(arr):\n",
    " for i in range(len(arr)):\n",
    "  for j in range(0, len(arr)-i-1):\n",
    "   if arr[j]>arr[j+1]: arr[j],arr[j+1]=arr[j+1],arr[j]\n",
    "a=[5,3,8]\n",
    "bubble(a)\n",
    "print(a)"
   ]
  },
  {
   "cell_type": "code",
   "execution_count": null,
   "id": "0ba48178",
   "metadata": {},
   "outputs": [],
   "source": [
    "# Topic: CLI Tools\n",
    "import sys\n",
    "print(f'Arguments: {sys.argv}')"
   ]
  },
  {
   "cell_type": "code",
   "execution_count": null,
   "id": "f6b2434e",
   "metadata": {},
   "outputs": [],
   "source": [
    "# Topic: File I/O\n",
    "with open('test.txt', 'w') as f:\n",
    "    f.write('Hello World')"
   ]
  },
  {
   "cell_type": "code",
   "execution_count": null,
   "id": "de68382a",
   "metadata": {},
   "outputs": [],
   "source": [
    "# Topic: Lists & Tuples\n",
    "t = (1, 2, 3)\n",
    "print(t[0])"
   ]
  },
  {
   "cell_type": "code",
   "execution_count": null,
   "id": "adc1bf2d",
   "metadata": {},
   "outputs": [],
   "source": [
    "# Topic: Functions\n",
    "def square(x): return x*x\n",
    "print(square(5))"
   ]
  },
  {
   "cell_type": "code",
   "execution_count": null,
   "id": "46099be1",
   "metadata": {},
   "outputs": [],
   "source": [
    "# Topic: Recursion\n",
    "def fact(n): return 1 if n==0 else n*fact(n-1)\n",
    "print(fact(5))"
   ]
  },
  {
   "cell_type": "code",
   "execution_count": null,
   "id": "d814ac15",
   "metadata": {},
   "outputs": [],
   "source": [
    "# Topic: Lists & Tuples\n",
    "t = (1, 2, 3)\n",
    "print(t[0])"
   ]
  },
  {
   "cell_type": "code",
   "execution_count": null,
   "id": "589d1716",
   "metadata": {},
   "outputs": [],
   "source": [
    "# Topic: Functions\n",
    "def greet(name='User'):\n",
    "    print(f'Hi, {name}')\n",
    "greet()"
   ]
  },
  {
   "cell_type": "code",
   "execution_count": null,
   "id": "9df1be4d",
   "metadata": {},
   "outputs": [],
   "source": [
    "# Topic: Basic ML\n",
    "from sklearn.linear_model import LinearRegression\n",
    "model = LinearRegression()\n",
    "print(model)"
   ]
  },
  {
   "cell_type": "code",
   "execution_count": null,
   "id": "cac336db",
   "metadata": {},
   "outputs": [],
   "source": [
    "# Topic: OOP\n",
    "class Student:\n",
    "    def __init__(self, name): self.name = name\n",
    "s = Student('Fahd')\n",
    "print(s.name)"
   ]
  },
  {
   "cell_type": "code",
   "execution_count": null,
   "id": "4465a2db",
   "metadata": {},
   "outputs": [],
   "source": [
    "# Topic: Pandas\n",
    "import pandas as pd\n",
    "df = pd.read_csv('file.csv')\n",
    "print(df.head())"
   ]
  },
  {
   "cell_type": "code",
   "execution_count": null,
   "id": "3fe49a09",
   "metadata": {},
   "outputs": [],
   "source": [
    "# Topic: Basics\n",
    "x = 10\n",
    "y = 20\n",
    "print(x + y)"
   ]
  },
  {
   "cell_type": "code",
   "execution_count": null,
   "id": "b7002fa8",
   "metadata": {},
   "outputs": [],
   "source": [
    "# Topic: Data Cleaning\n",
    "import pandas as pd\n",
    "df = pd.DataFrame({'A':[1,None,3]})\n",
    "df = df.fillna(0)\n",
    "print(df)"
   ]
  },
  {
   "cell_type": "code",
   "execution_count": null,
   "id": "d85f9d44",
   "metadata": {},
   "outputs": [],
   "source": [
    "# Topic: JSON & CSV\n",
    "import csv\n",
    "with open('file.csv', 'w', newline='') as f:\n",
    " csv.writer(f).writerow(['a','b','c'])"
   ]
  },
  {
   "cell_type": "code",
   "execution_count": null,
   "id": "d7e97fa5",
   "metadata": {},
   "outputs": [],
   "source": [
    "# Topic: Lists & Tuples\n",
    "lst = [1, 2, 3]\n",
    "lst.append(4)\n",
    "print(lst)"
   ]
  },
  {
   "cell_type": "code",
   "execution_count": null,
   "id": "2230930b",
   "metadata": {},
   "outputs": [],
   "source": [
    "# Topic: Matplotlib & Seaborn\n",
    "import seaborn as sns\n",
    "import pandas as pd\n",
    "sns.set()\n",
    "sns.histplot(pd.Series([1,2,2,3]));"
   ]
  },
  {
   "cell_type": "code",
   "execution_count": null,
   "id": "a4d1d520",
   "metadata": {},
   "outputs": [],
   "source": [
    "# Topic: OOP\n",
    "class Student:\n",
    "    def __init__(self, name): self.name = name\n",
    "s = Student('Fahd')\n",
    "print(s.name)"
   ]
  },
  {
   "cell_type": "code",
   "execution_count": null,
   "id": "6e8fb0a2",
   "metadata": {},
   "outputs": [],
   "source": [
    "# Topic: Mini Projects\n",
    "# Palindrome check\n",
    "def is_pal(s): return s == s[::-1]\n",
    "print(is_pal('madam'))"
   ]
  },
  {
   "cell_type": "code",
   "execution_count": null,
   "id": "25bc4920",
   "metadata": {},
   "outputs": [],
   "source": [
    "# Topic: Regex\n",
    "import re\n",
    "text = 'email: test@example.com'\n",
    "print(re.findall(r'\\S+@\\S+', text))"
   ]
  },
  {
   "cell_type": "code",
   "execution_count": null,
   "id": "e7a9669a",
   "metadata": {},
   "outputs": [],
   "source": [
    "# Topic: Algorithms\n",
    "# Bubble sort\n",
    "def bubble(arr):\n",
    " for i in range(len(arr)):\n",
    "  for j in range(0, len(arr)-i-1):\n",
    "   if arr[j]>arr[j+1]: arr[j],arr[j+1]=arr[j+1],arr[j]\n",
    "a=[5,3,8]\n",
    "bubble(a)\n",
    "print(a)"
   ]
  },
  {
   "cell_type": "code",
   "execution_count": null,
   "id": "580ada49",
   "metadata": {},
   "outputs": [],
   "source": [
    "# Topic: NumPy\n",
    "import numpy as np\n",
    "print(np.linspace(0, 1, 5))"
   ]
  },
  {
   "cell_type": "code",
   "execution_count": null,
   "id": "c5ddd5ac",
   "metadata": {},
   "outputs": [],
   "source": [
    "# Topic: Loops\n",
    "while True:\n",
    "    print('Break')\n",
    "    break"
   ]
  },
  {
   "cell_type": "code",
   "execution_count": null,
   "id": "11578ef0",
   "metadata": {},
   "outputs": [],
   "source": [
    "# Topic: Dictionaries & Sets\n",
    "s = set([1, 2, 3, 2])\n",
    "print(s)"
   ]
  },
  {
   "cell_type": "code",
   "execution_count": null,
   "id": "27b7b3b9",
   "metadata": {},
   "outputs": [],
   "source": [
    "# Topic: Recursion\n",
    "def fact(n): return 1 if n==0 else n*fact(n-1)\n",
    "print(fact(5))"
   ]
  },
  {
   "cell_type": "code",
   "execution_count": null,
   "id": "218802ee",
   "metadata": {},
   "outputs": [],
   "source": [
    "# Topic: Data Cleaning\n",
    "import pandas as pd\n",
    "df = pd.DataFrame({'A':[1,None,3]})\n",
    "df = df.fillna(0)\n",
    "print(df)"
   ]
  },
  {
   "cell_type": "code",
   "execution_count": null,
   "id": "59ad8381",
   "metadata": {},
   "outputs": [],
   "source": [
    "# Topic: Mini Projects\n",
    "# Calculator\n",
    "def calc(a,b,op): return eval(f'{a}{op}{b}')\n",
    "print(calc(5,2,'+'))"
   ]
  },
  {
   "cell_type": "code",
   "execution_count": null,
   "id": "f6be98dc",
   "metadata": {},
   "outputs": [],
   "source": [
    "# Topic: NumPy\n",
    "import numpy as np\n",
    "print(np.linspace(0, 1, 5))"
   ]
  },
  {
   "cell_type": "code",
   "execution_count": null,
   "id": "6889cc35",
   "metadata": {},
   "outputs": [],
   "source": [
    "# Topic: Data Cleaning\n",
    "import pandas as pd\n",
    "df = pd.DataFrame({'A':[1,None,3]})\n",
    "df = df.fillna(0)\n",
    "print(df)"
   ]
  },
  {
   "cell_type": "code",
   "execution_count": null,
   "id": "065587e4",
   "metadata": {},
   "outputs": [],
   "source": [
    "# Topic: Algorithms\n",
    "# Bubble sort\n",
    "def bubble(arr):\n",
    " for i in range(len(arr)):\n",
    "  for j in range(0, len(arr)-i-1):\n",
    "   if arr[j]>arr[j+1]: arr[j],arr[j+1]=arr[j+1],arr[j]\n",
    "a=[5,3,8]\n",
    "bubble(a)\n",
    "print(a)"
   ]
  },
  {
   "cell_type": "code",
   "execution_count": null,
   "id": "22be754a",
   "metadata": {},
   "outputs": [],
   "source": [
    "# Topic: Web Scraping\n",
    "import requests\n",
    "from bs4 import BeautifulSoup\n",
    "r = requests.get('https://example.com')\n",
    "soup = BeautifulSoup(r.text, 'html.parser')\n",
    "print(soup.title.text)"
   ]
  },
  {
   "cell_type": "code",
   "execution_count": null,
   "id": "97c9fa0d",
   "metadata": {},
   "outputs": [],
   "source": [
    "# Topic: JSON & CSV\n",
    "import json\n",
    "data = {'a': 1}\n",
    "print(json.dumps(data))"
   ]
  },
  {
   "cell_type": "code",
   "execution_count": null,
   "id": "e5f279b1",
   "metadata": {},
   "outputs": [],
   "source": [
    "# Topic: File I/O\n",
    "with open('test.txt', 'w') as f:\n",
    "    f.write('Hello World')"
   ]
  },
  {
   "cell_type": "code",
   "execution_count": null,
   "id": "08ccf99b",
   "metadata": {},
   "outputs": [],
   "source": [
    "# Topic: Lists & Tuples\n",
    "t = (1, 2, 3)\n",
    "print(t[0])"
   ]
  },
  {
   "cell_type": "code",
   "execution_count": null,
   "id": "4cb56697",
   "metadata": {},
   "outputs": [],
   "source": [
    "# Topic: Web Scraping\n",
    "import requests\n",
    "from bs4 import BeautifulSoup\n",
    "r = requests.get('https://example.com')\n",
    "soup = BeautifulSoup(r.text, 'html.parser')\n",
    "print(soup.title.text)"
   ]
  },
  {
   "cell_type": "code",
   "execution_count": null,
   "id": "297bf698",
   "metadata": {},
   "outputs": [],
   "source": [
    "# Topic: Dictionaries & Sets\n",
    "d = {'name': 'Fahd', 'age': 20}\n",
    "print(d.get('name'))"
   ]
  },
  {
   "cell_type": "code",
   "execution_count": null,
   "id": "8e8047b5",
   "metadata": {},
   "outputs": [],
   "source": [
    "# Topic: Recursion\n",
    "def fact(n): return 1 if n==0 else n*fact(n-1)\n",
    "print(fact(5))"
   ]
  },
  {
   "cell_type": "code",
   "execution_count": null,
   "id": "482fc72a",
   "metadata": {},
   "outputs": [],
   "source": [
    "# Topic: NumPy\n",
    "import numpy as np\n",
    "print(np.linspace(0, 1, 5))"
   ]
  },
  {
   "cell_type": "code",
   "execution_count": null,
   "id": "c3db4ede",
   "metadata": {},
   "outputs": [],
   "source": [
    "# Topic: Basic ML\n",
    "from sklearn.linear_model import LinearRegression\n",
    "model = LinearRegression()\n",
    "print(model)"
   ]
  },
  {
   "cell_type": "code",
   "execution_count": null,
   "id": "afb68f0c",
   "metadata": {},
   "outputs": [],
   "source": [
    "# Topic: Pandas\n",
    "import pandas as pd\n",
    "df = pd.read_csv('file.csv')\n",
    "print(df.head())"
   ]
  },
  {
   "cell_type": "code",
   "execution_count": null,
   "id": "40346628",
   "metadata": {},
   "outputs": [],
   "source": [
    "# Topic: File I/O\n",
    "with open('test.txt', 'r') as f:\n",
    "    print(f.read())"
   ]
  },
  {
   "cell_type": "code",
   "execution_count": null,
   "id": "56edd414",
   "metadata": {},
   "outputs": [],
   "source": [
    "# Topic: Dictionaries & Sets\n",
    "s = set([1, 2, 3, 2])\n",
    "print(s)"
   ]
  },
  {
   "cell_type": "code",
   "execution_count": null,
   "id": "b2092fe5",
   "metadata": {},
   "outputs": [],
   "source": [
    "# Topic: JSON & CSV\n",
    "import csv\n",
    "with open('file.csv', 'w', newline='') as f:\n",
    " csv.writer(f).writerow(['a','b','c'])"
   ]
  },
  {
   "cell_type": "code",
   "execution_count": null,
   "id": "da55f393",
   "metadata": {},
   "outputs": [],
   "source": [
    "# Topic: CLI Tools\n",
    "import sys\n",
    "print(f'Arguments: {sys.argv}')"
   ]
  },
  {
   "cell_type": "code",
   "execution_count": null,
   "id": "44f47823",
   "metadata": {},
   "outputs": [],
   "source": [
    "# Topic: Basics\n",
    "name = 'Fahd'\n",
    "print(f'Hello, {name}')"
   ]
  },
  {
   "cell_type": "code",
   "execution_count": null,
   "id": "070885a7",
   "metadata": {},
   "outputs": [],
   "source": [
    "# Topic: Pandas\n",
    "import pandas as pd\n",
    "df = pd.DataFrame({'A':[1,2],'B':[3,4]})\n",
    "print(df)"
   ]
  },
  {
   "cell_type": "code",
   "execution_count": null,
   "id": "2e87e26e",
   "metadata": {},
   "outputs": [],
   "source": [
    "# Topic: Dictionaries & Sets\n",
    "s = set([1, 2, 3, 2])\n",
    "print(s)"
   ]
  },
  {
   "cell_type": "code",
   "execution_count": null,
   "id": "eb8d8460",
   "metadata": {},
   "outputs": [],
   "source": [
    "# Topic: Functions\n",
    "def greet(name='User'):\n",
    "    print(f'Hi, {name}')\n",
    "greet()"
   ]
  },
  {
   "cell_type": "code",
   "execution_count": null,
   "id": "5cd390bb",
   "metadata": {},
   "outputs": [],
   "source": [
    "# Topic: Mini Projects\n",
    "# Palindrome check\n",
    "def is_pal(s): return s == s[::-1]\n",
    "print(is_pal('madam'))"
   ]
  },
  {
   "cell_type": "code",
   "execution_count": null,
   "id": "f2ce833d",
   "metadata": {},
   "outputs": [],
   "source": [
    "# Topic: Algorithms\n",
    "# Bubble sort\n",
    "def bubble(arr):\n",
    " for i in range(len(arr)):\n",
    "  for j in range(0, len(arr)-i-1):\n",
    "   if arr[j]>arr[j+1]: arr[j],arr[j+1]=arr[j+1],arr[j]\n",
    "a=[5,3,8]\n",
    "bubble(a)\n",
    "print(a)"
   ]
  },
  {
   "cell_type": "code",
   "execution_count": null,
   "id": "0cce7670",
   "metadata": {},
   "outputs": [],
   "source": [
    "# Topic: Decorators\n",
    "def log(func):\n",
    " def wrapper():\n",
    "  print('Call')\n",
    "  func()\n",
    " return wrapper\n",
    "@log\n",
    "def say(): print('Hi')\n",
    "say()"
   ]
  },
  {
   "cell_type": "code",
   "execution_count": null,
   "id": "31a52c66",
   "metadata": {},
   "outputs": [],
   "source": [
    "# Topic: Functions\n",
    "def square(x): return x*x\n",
    "print(square(5))"
   ]
  },
  {
   "cell_type": "code",
   "execution_count": null,
   "id": "514b8e10",
   "metadata": {},
   "outputs": [],
   "source": [
    "# Topic: Pandas\n",
    "import pandas as pd\n",
    "df = pd.DataFrame({'A':[1,2],'B':[3,4]})\n",
    "print(df)"
   ]
  },
  {
   "cell_type": "code",
   "execution_count": null,
   "id": "eee2126c",
   "metadata": {},
   "outputs": [],
   "source": [
    "# Topic: Regex\n",
    "import re\n",
    "text = 'email: test@example.com'\n",
    "print(re.findall(r'\\S+@\\S+', text))"
   ]
  },
  {
   "cell_type": "code",
   "execution_count": null,
   "id": "6dbd278e",
   "metadata": {},
   "outputs": [],
   "source": [
    "# Topic: Web Scraping\n",
    "import requests\n",
    "from bs4 import BeautifulSoup\n",
    "r = requests.get('https://example.com')\n",
    "soup = BeautifulSoup(r.text, 'html.parser')\n",
    "print(soup.title.text)"
   ]
  },
  {
   "cell_type": "code",
   "execution_count": null,
   "id": "8dd02403",
   "metadata": {},
   "outputs": [],
   "source": [
    "# Topic: File I/O\n",
    "with open('test.txt', 'w') as f:\n",
    "    f.write('Hello World')"
   ]
  },
  {
   "cell_type": "code",
   "execution_count": null,
   "id": "ccb5afec",
   "metadata": {},
   "outputs": [],
   "source": [
    "# Topic: Functions\n",
    "def greet(name='User'):\n",
    "    print(f'Hi, {name}')\n",
    "greet()"
   ]
  },
  {
   "cell_type": "code",
   "execution_count": null,
   "id": "dfcb5a68",
   "metadata": {},
   "outputs": [],
   "source": [
    "# Topic: NumPy\n",
    "import numpy as np\n",
    "print(np.linspace(0, 1, 5))"
   ]
  },
  {
   "cell_type": "code",
   "execution_count": null,
   "id": "584a5739",
   "metadata": {},
   "outputs": [],
   "source": [
    "# Topic: Pandas\n",
    "import pandas as pd\n",
    "df = pd.DataFrame({'A':[1,2],'B':[3,4]})\n",
    "print(df)"
   ]
  },
  {
   "cell_type": "code",
   "execution_count": null,
   "id": "89600927",
   "metadata": {},
   "outputs": [],
   "source": [
    "# Topic: Basics\n",
    "name = 'Fahd'\n",
    "print(f'Hello, {name}')"
   ]
  },
  {
   "cell_type": "code",
   "execution_count": null,
   "id": "677f78af",
   "metadata": {},
   "outputs": [],
   "source": [
    "# Topic: File I/O\n",
    "with open('test.txt', 'w') as f:\n",
    "    f.write('Hello World')"
   ]
  },
  {
   "cell_type": "code",
   "execution_count": null,
   "id": "af57627f",
   "metadata": {},
   "outputs": [],
   "source": [
    "# Topic: Basic ML\n",
    "from sklearn.linear_model import LinearRegression\n",
    "model = LinearRegression()\n",
    "print(model)"
   ]
  },
  {
   "cell_type": "code",
   "execution_count": null,
   "id": "7e30d146",
   "metadata": {},
   "outputs": [],
   "source": [
    "# Topic: Loops\n",
    "for i in range(10): print(i*i)"
   ]
  },
  {
   "cell_type": "code",
   "execution_count": null,
   "id": "adbd5c1e",
   "metadata": {},
   "outputs": [],
   "source": [
    "# Topic: Dictionaries & Sets\n",
    "d = {'name': 'Fahd', 'age': 20}\n",
    "print(d.get('name'))"
   ]
  },
  {
   "cell_type": "code",
   "execution_count": null,
   "id": "67a103dd",
   "metadata": {},
   "outputs": [],
   "source": [
    "# Topic: Basics\n",
    "name = 'Fahd'\n",
    "print(f'Hello, {name}')"
   ]
  },
  {
   "cell_type": "code",
   "execution_count": null,
   "id": "76c49ca3",
   "metadata": {},
   "outputs": [],
   "source": [
    "# Topic: Loops\n",
    "while True:\n",
    "    print('Break')\n",
    "    break"
   ]
  },
  {
   "cell_type": "code",
   "execution_count": null,
   "id": "fd95c567",
   "metadata": {},
   "outputs": [],
   "source": [
    "# Topic: NumPy\n",
    "import numpy as np\n",
    "print(np.linspace(0, 1, 5))"
   ]
  },
  {
   "cell_type": "code",
   "execution_count": null,
   "id": "6d6198a4",
   "metadata": {},
   "outputs": [],
   "source": [
    "# Topic: Decorators\n",
    "def log(func):\n",
    " def wrapper():\n",
    "  print('Call')\n",
    "  func()\n",
    " return wrapper\n",
    "@log\n",
    "def say(): print('Hi')\n",
    "say()"
   ]
  },
  {
   "cell_type": "code",
   "execution_count": null,
   "id": "9f9cf1c6",
   "metadata": {},
   "outputs": [],
   "source": [
    "# Topic: Regex\n",
    "import re\n",
    "text = 'email: test@example.com'\n",
    "print(re.findall(r'\\S+@\\S+', text))"
   ]
  },
  {
   "cell_type": "code",
   "execution_count": null,
   "id": "67e54be4",
   "metadata": {},
   "outputs": [],
   "source": [
    "# Topic: Dictionaries & Sets\n",
    "d = {'name': 'Fahd', 'age': 20}\n",
    "print(d.get('name'))"
   ]
  },
  {
   "cell_type": "code",
   "execution_count": null,
   "id": "1169d184",
   "metadata": {},
   "outputs": [],
   "source": [
    "# Topic: Web Scraping\n",
    "import requests\n",
    "from bs4 import BeautifulSoup\n",
    "r = requests.get('https://example.com')\n",
    "soup = BeautifulSoup(r.text, 'html.parser')\n",
    "print(soup.title.text)"
   ]
  },
  {
   "cell_type": "code",
   "execution_count": null,
   "id": "1040b230",
   "metadata": {},
   "outputs": [],
   "source": [
    "# Topic: Basics\n",
    "name = 'Fahd'\n",
    "print(f'Hello, {name}')"
   ]
  },
  {
   "cell_type": "code",
   "execution_count": null,
   "id": "becd5c79",
   "metadata": {},
   "outputs": [],
   "source": [
    "# Topic: Functions\n",
    "def greet(name='User'):\n",
    "    print(f'Hi, {name}')\n",
    "greet()"
   ]
  },
  {
   "cell_type": "code",
   "execution_count": null,
   "id": "0a337a67",
   "metadata": {},
   "outputs": [],
   "source": [
    "# Topic: Regex\n",
    "import re\n",
    "text = 'email: test@example.com'\n",
    "print(re.findall(r'\\S+@\\S+', text))"
   ]
  },
  {
   "cell_type": "code",
   "execution_count": null,
   "id": "e087a097",
   "metadata": {},
   "outputs": [],
   "source": [
    "# Topic: File I/O\n",
    "with open('test.txt', 'w') as f:\n",
    "    f.write('Hello World')"
   ]
  },
  {
   "cell_type": "code",
   "execution_count": null,
   "id": "33ca6438",
   "metadata": {},
   "outputs": [],
   "source": [
    "# Topic: Algorithms\n",
    "# Bubble sort\n",
    "def bubble(arr):\n",
    " for i in range(len(arr)):\n",
    "  for j in range(0, len(arr)-i-1):\n",
    "   if arr[j]>arr[j+1]: arr[j],arr[j+1]=arr[j+1],arr[j]\n",
    "a=[5,3,8]\n",
    "bubble(a)\n",
    "print(a)"
   ]
  },
  {
   "cell_type": "code",
   "execution_count": null,
   "id": "07eb1481",
   "metadata": {},
   "outputs": [],
   "source": [
    "# Topic: NumPy\n",
    "import numpy as np\n",
    "a = np.array([1, 2, 3])\n",
    "print(a + 5)"
   ]
  },
  {
   "cell_type": "code",
   "execution_count": null,
   "id": "d9dc92be",
   "metadata": {},
   "outputs": [],
   "source": [
    "# Topic: CLI Tools\n",
    "import sys\n",
    "print(f'Arguments: {sys.argv}')"
   ]
  },
  {
   "cell_type": "code",
   "execution_count": null,
   "id": "e84da478",
   "metadata": {},
   "outputs": [],
   "source": [
    "# Topic: Web Scraping\n",
    "import requests\n",
    "from bs4 import BeautifulSoup\n",
    "r = requests.get('https://example.com')\n",
    "soup = BeautifulSoup(r.text, 'html.parser')\n",
    "print(soup.title.text)"
   ]
  },
  {
   "cell_type": "code",
   "execution_count": null,
   "id": "ad278b83",
   "metadata": {},
   "outputs": [],
   "source": [
    "# Topic: CLI Tools\n",
    "import sys\n",
    "print(f'Arguments: {sys.argv}')"
   ]
  },
  {
   "cell_type": "code",
   "execution_count": null,
   "id": "cf8aa446",
   "metadata": {},
   "outputs": [],
   "source": [
    "# Topic: OOP\n",
    "class Student:\n",
    "    def __init__(self, name): self.name = name\n",
    "s = Student('Fahd')\n",
    "print(s.name)"
   ]
  },
  {
   "cell_type": "code",
   "execution_count": null,
   "id": "3a6c5a66",
   "metadata": {},
   "outputs": [],
   "source": [
    "# Topic: NumPy\n",
    "import numpy as np\n",
    "a = np.array([1, 2, 3])\n",
    "print(a + 5)"
   ]
  },
  {
   "cell_type": "code",
   "execution_count": null,
   "id": "ea894337",
   "metadata": {},
   "outputs": [],
   "source": [
    "# Topic: OOP\n",
    "class Student:\n",
    "    def __init__(self, name): self.name = name\n",
    "s = Student('Fahd')\n",
    "print(s.name)"
   ]
  },
  {
   "cell_type": "code",
   "execution_count": null,
   "id": "da22b58a",
   "metadata": {},
   "outputs": [],
   "source": [
    "# Topic: JSON & CSV\n",
    "import json\n",
    "data = {'a': 1}\n",
    "print(json.dumps(data))"
   ]
  },
  {
   "cell_type": "code",
   "execution_count": null,
   "id": "0d39e456",
   "metadata": {},
   "outputs": [],
   "source": [
    "# Topic: File I/O\n",
    "with open('test.txt', 'w') as f:\n",
    "    f.write('Hello World')"
   ]
  },
  {
   "cell_type": "code",
   "execution_count": null,
   "id": "559fdf37",
   "metadata": {},
   "outputs": [],
   "source": [
    "# Topic: OOP\n",
    "class Student:\n",
    "    def __init__(self, name): self.name = name\n",
    "s = Student('Fahd')\n",
    "print(s.name)"
   ]
  },
  {
   "cell_type": "code",
   "execution_count": null,
   "id": "d1935513",
   "metadata": {},
   "outputs": [],
   "source": [
    "# Topic: JSON & CSV\n",
    "import json\n",
    "data = {'a': 1}\n",
    "print(json.dumps(data))"
   ]
  },
  {
   "cell_type": "code",
   "execution_count": null,
   "id": "60948ad6",
   "metadata": {},
   "outputs": [],
   "source": [
    "# Topic: Basics\n",
    "name = 'Fahd'\n",
    "print(f'Hello, {name}')"
   ]
  },
  {
   "cell_type": "code",
   "execution_count": null,
   "id": "372d9d90",
   "metadata": {},
   "outputs": [],
   "source": [
    "# Topic: Recursion\n",
    "def fact(n): return 1 if n==0 else n*fact(n-1)\n",
    "print(fact(5))"
   ]
  },
  {
   "cell_type": "code",
   "execution_count": null,
   "id": "ad3adaa7",
   "metadata": {},
   "outputs": [],
   "source": [
    "# Topic: Web Scraping\n",
    "import requests\n",
    "from bs4 import BeautifulSoup\n",
    "r = requests.get('https://example.com')\n",
    "soup = BeautifulSoup(r.text, 'html.parser')\n",
    "print(soup.title.text)"
   ]
  },
  {
   "cell_type": "code",
   "execution_count": null,
   "id": "faadf785",
   "metadata": {},
   "outputs": [],
   "source": [
    "# Topic: Basics\n",
    "name = 'Fahd'\n",
    "print(f'Hello, {name}')"
   ]
  },
  {
   "cell_type": "code",
   "execution_count": null,
   "id": "6b1196a0",
   "metadata": {},
   "outputs": [],
   "source": [
    "# Topic: Basics\n",
    "x = 10\n",
    "y = 20\n",
    "print(x + y)"
   ]
  },
  {
   "cell_type": "code",
   "execution_count": null,
   "id": "2be4843f",
   "metadata": {},
   "outputs": [],
   "source": [
    "# Topic: Regex\n",
    "import re\n",
    "text = 'email: test@example.com'\n",
    "print(re.findall(r'\\S+@\\S+', text))"
   ]
  },
  {
   "cell_type": "code",
   "execution_count": null,
   "id": "b264cc6c",
   "metadata": {},
   "outputs": [],
   "source": [
    "# Topic: Data Cleaning\n",
    "import pandas as pd\n",
    "df = pd.DataFrame({'A':[1,None,3]})\n",
    "df = df.fillna(0)\n",
    "print(df)"
   ]
  },
  {
   "cell_type": "code",
   "execution_count": null,
   "id": "9c4ffe1d",
   "metadata": {},
   "outputs": [],
   "source": [
    "# Topic: Algorithms\n",
    "# Bubble sort\n",
    "def bubble(arr):\n",
    " for i in range(len(arr)):\n",
    "  for j in range(0, len(arr)-i-1):\n",
    "   if arr[j]>arr[j+1]: arr[j],arr[j+1]=arr[j+1],arr[j]\n",
    "a=[5,3,8]\n",
    "bubble(a)\n",
    "print(a)"
   ]
  },
  {
   "cell_type": "code",
   "execution_count": null,
   "id": "ab2a96bf",
   "metadata": {},
   "outputs": [],
   "source": [
    "# Topic: File I/O\n",
    "with open('test.txt', 'r') as f:\n",
    "    print(f.read())"
   ]
  },
  {
   "cell_type": "code",
   "execution_count": null,
   "id": "b8e5e6a4",
   "metadata": {},
   "outputs": [],
   "source": [
    "# Topic: Functions\n",
    "def greet(name='User'):\n",
    "    print(f'Hi, {name}')\n",
    "greet()"
   ]
  },
  {
   "cell_type": "code",
   "execution_count": null,
   "id": "7b250f4c",
   "metadata": {},
   "outputs": [],
   "source": [
    "# Topic: Mini Projects\n",
    "# Calculator\n",
    "def calc(a,b,op): return eval(f'{a}{op}{b}')\n",
    "print(calc(5,2,'+'))"
   ]
  },
  {
   "cell_type": "code",
   "execution_count": null,
   "id": "fe02b96f",
   "metadata": {},
   "outputs": [],
   "source": [
    "# Topic: OOP\n",
    "class Student:\n",
    "    def __init__(self, name): self.name = name\n",
    "s = Student('Fahd')\n",
    "print(s.name)"
   ]
  },
  {
   "cell_type": "code",
   "execution_count": null,
   "id": "aab55937",
   "metadata": {},
   "outputs": [],
   "source": [
    "# Topic: Decorators\n",
    "def log(func):\n",
    " def wrapper():\n",
    "  print('Call')\n",
    "  func()\n",
    " return wrapper\n",
    "@log\n",
    "def say(): print('Hi')\n",
    "say()"
   ]
  },
  {
   "cell_type": "code",
   "execution_count": null,
   "id": "3bed1456",
   "metadata": {},
   "outputs": [],
   "source": [
    "# Topic: Recursion\n",
    "def fact(n): return 1 if n==0 else n*fact(n-1)\n",
    "print(fact(5))"
   ]
  },
  {
   "cell_type": "code",
   "execution_count": null,
   "id": "06763280",
   "metadata": {},
   "outputs": [],
   "source": [
    "# Topic: Pandas\n",
    "import pandas as pd\n",
    "df = pd.read_csv('file.csv')\n",
    "print(df.head())"
   ]
  },
  {
   "cell_type": "code",
   "execution_count": null,
   "id": "0d68ea92",
   "metadata": {},
   "outputs": [],
   "source": [
    "# Topic: File I/O\n",
    "with open('test.txt', 'w') as f:\n",
    "    f.write('Hello World')"
   ]
  },
  {
   "cell_type": "code",
   "execution_count": null,
   "id": "4604aebd",
   "metadata": {},
   "outputs": [],
   "source": [
    "# Topic: Basics\n",
    "name = 'Fahd'\n",
    "print(f'Hello, {name}')"
   ]
  },
  {
   "cell_type": "code",
   "execution_count": null,
   "id": "0e8097d8",
   "metadata": {},
   "outputs": [],
   "source": [
    "# Topic: File I/O\n",
    "with open('test.txt', 'w') as f:\n",
    "    f.write('Hello World')"
   ]
  },
  {
   "cell_type": "code",
   "execution_count": null,
   "id": "be985f1d",
   "metadata": {},
   "outputs": [],
   "source": [
    "# Topic: OOP\n",
    "class Student:\n",
    "    def __init__(self, name): self.name = name\n",
    "s = Student('Fahd')\n",
    "print(s.name)"
   ]
  },
  {
   "cell_type": "code",
   "execution_count": null,
   "id": "7f4c9290",
   "metadata": {},
   "outputs": [],
   "source": [
    "# Topic: Regex\n",
    "import re\n",
    "text = 'email: test@example.com'\n",
    "print(re.findall(r'\\S+@\\S+', text))"
   ]
  },
  {
   "cell_type": "code",
   "execution_count": null,
   "id": "ea186b1e",
   "metadata": {},
   "outputs": [],
   "source": [
    "# Topic: Functions\n",
    "def greet(name='User'):\n",
    "    print(f'Hi, {name}')\n",
    "greet()"
   ]
  },
  {
   "cell_type": "code",
   "execution_count": null,
   "id": "ddbad825",
   "metadata": {},
   "outputs": [],
   "source": [
    "# Topic: Regex\n",
    "import re\n",
    "text = 'email: test@example.com'\n",
    "print(re.findall(r'\\S+@\\S+', text))"
   ]
  },
  {
   "cell_type": "code",
   "execution_count": null,
   "id": "a82c172b",
   "metadata": {},
   "outputs": [],
   "source": [
    "# Topic: Regex\n",
    "import re\n",
    "text = 'email: test@example.com'\n",
    "print(re.findall(r'\\S+@\\S+', text))"
   ]
  },
  {
   "cell_type": "code",
   "execution_count": null,
   "id": "785e3d7d",
   "metadata": {},
   "outputs": [],
   "source": [
    "# Topic: Matplotlib & Seaborn\n",
    "import seaborn as sns\n",
    "import pandas as pd\n",
    "sns.set()\n",
    "sns.histplot(pd.Series([1,2,2,3]));"
   ]
  },
  {
   "cell_type": "code",
   "execution_count": null,
   "id": "093e326b",
   "metadata": {},
   "outputs": [],
   "source": [
    "# Topic: CLI Tools\n",
    "import sys\n",
    "print(f'Arguments: {sys.argv}')"
   ]
  },
  {
   "cell_type": "code",
   "execution_count": null,
   "id": "6d6618e7",
   "metadata": {},
   "outputs": [],
   "source": [
    "# Topic: OOP\n",
    "class Student:\n",
    "    def __init__(self, name): self.name = name\n",
    "s = Student('Fahd')\n",
    "print(s.name)"
   ]
  },
  {
   "cell_type": "code",
   "execution_count": null,
   "id": "27c1fc71",
   "metadata": {},
   "outputs": [],
   "source": [
    "# Topic: Dictionaries & Sets\n",
    "d = {'name': 'Fahd', 'age': 20}\n",
    "print(d.get('name'))"
   ]
  },
  {
   "cell_type": "code",
   "execution_count": null,
   "id": "8adcd4e1",
   "metadata": {},
   "outputs": [],
   "source": [
    "# Topic: Web Scraping\n",
    "import requests\n",
    "from bs4 import BeautifulSoup\n",
    "r = requests.get('https://example.com')\n",
    "soup = BeautifulSoup(r.text, 'html.parser')\n",
    "print(soup.title.text)"
   ]
  },
  {
   "cell_type": "code",
   "execution_count": null,
   "id": "5624d5bd",
   "metadata": {},
   "outputs": [],
   "source": [
    "# Topic: Decorators\n",
    "def log(func):\n",
    " def wrapper():\n",
    "  print('Call')\n",
    "  func()\n",
    " return wrapper\n",
    "@log\n",
    "def say(): print('Hi')\n",
    "say()"
   ]
  },
  {
   "cell_type": "code",
   "execution_count": null,
   "id": "7e3b928e",
   "metadata": {},
   "outputs": [],
   "source": [
    "# Topic: Basic ML\n",
    "from sklearn.linear_model import LinearRegression\n",
    "model = LinearRegression()\n",
    "print(model)"
   ]
  },
  {
   "cell_type": "code",
   "execution_count": null,
   "id": "c0555875",
   "metadata": {},
   "outputs": [],
   "source": [
    "# Topic: Pandas\n",
    "import pandas as pd\n",
    "df = pd.read_csv('file.csv')\n",
    "print(df.head())"
   ]
  },
  {
   "cell_type": "code",
   "execution_count": null,
   "id": "8bd3e4ae",
   "metadata": {},
   "outputs": [],
   "source": [
    "# Topic: JSON & CSV\n",
    "import csv\n",
    "with open('file.csv', 'w', newline='') as f:\n",
    " csv.writer(f).writerow(['a','b','c'])"
   ]
  },
  {
   "cell_type": "code",
   "execution_count": null,
   "id": "b801aa15",
   "metadata": {},
   "outputs": [],
   "source": [
    "# Topic: Regex\n",
    "import re\n",
    "text = 'email: test@example.com'\n",
    "print(re.findall(r'\\S+@\\S+', text))"
   ]
  },
  {
   "cell_type": "code",
   "execution_count": null,
   "id": "99953390",
   "metadata": {},
   "outputs": [],
   "source": [
    "# Topic: Loops\n",
    "for i in range(10): print(i*i)"
   ]
  },
  {
   "cell_type": "code",
   "execution_count": null,
   "id": "b1598705",
   "metadata": {},
   "outputs": [],
   "source": [
    "# Topic: NumPy\n",
    "import numpy as np\n",
    "print(np.linspace(0, 1, 5))"
   ]
  },
  {
   "cell_type": "code",
   "execution_count": null,
   "id": "bf6f9c58",
   "metadata": {},
   "outputs": [],
   "source": [
    "# Topic: File I/O\n",
    "with open('test.txt', 'w') as f:\n",
    "    f.write('Hello World')"
   ]
  },
  {
   "cell_type": "code",
   "execution_count": null,
   "id": "73321159",
   "metadata": {},
   "outputs": [],
   "source": [
    "# Topic: CLI Tools\n",
    "import sys\n",
    "print(f'Arguments: {sys.argv}')"
   ]
  },
  {
   "cell_type": "code",
   "execution_count": null,
   "id": "c7059358",
   "metadata": {},
   "outputs": [],
   "source": [
    "# Topic: Basic ML\n",
    "from sklearn.linear_model import LinearRegression\n",
    "model = LinearRegression()\n",
    "print(model)"
   ]
  },
  {
   "cell_type": "code",
   "execution_count": null,
   "id": "b6421590",
   "metadata": {},
   "outputs": [],
   "source": [
    "# Topic: Decorators\n",
    "def log(func):\n",
    " def wrapper():\n",
    "  print('Call')\n",
    "  func()\n",
    " return wrapper\n",
    "@log\n",
    "def say(): print('Hi')\n",
    "say()"
   ]
  },
  {
   "cell_type": "code",
   "execution_count": null,
   "id": "47091c7b",
   "metadata": {},
   "outputs": [],
   "source": [
    "# Topic: Basic ML\n",
    "from sklearn.linear_model import LinearRegression\n",
    "model = LinearRegression()\n",
    "print(model)"
   ]
  },
  {
   "cell_type": "code",
   "execution_count": null,
   "id": "6113bc2a",
   "metadata": {},
   "outputs": [],
   "source": [
    "# Topic: Algorithms\n",
    "# Bubble sort\n",
    "def bubble(arr):\n",
    " for i in range(len(arr)):\n",
    "  for j in range(0, len(arr)-i-1):\n",
    "   if arr[j]>arr[j+1]: arr[j],arr[j+1]=arr[j+1],arr[j]\n",
    "a=[5,3,8]\n",
    "bubble(a)\n",
    "print(a)"
   ]
  },
  {
   "cell_type": "code",
   "execution_count": null,
   "id": "540831e2",
   "metadata": {},
   "outputs": [],
   "source": [
    "# Topic: JSON & CSV\n",
    "import csv\n",
    "with open('file.csv', 'w', newline='') as f:\n",
    " csv.writer(f).writerow(['a','b','c'])"
   ]
  },
  {
   "cell_type": "code",
   "execution_count": null,
   "id": "38600a19",
   "metadata": {},
   "outputs": [],
   "source": [
    "# Topic: Basics\n",
    "name = 'Fahd'\n",
    "print(f'Hello, {name}')"
   ]
  },
  {
   "cell_type": "code",
   "execution_count": null,
   "id": "92ff3837",
   "metadata": {},
   "outputs": [],
   "source": [
    "# Topic: Data Cleaning\n",
    "import pandas as pd\n",
    "df = pd.DataFrame({'A':[1,None,3]})\n",
    "df = df.fillna(0)\n",
    "print(df)"
   ]
  },
  {
   "cell_type": "code",
   "execution_count": null,
   "id": "1a719d2e",
   "metadata": {},
   "outputs": [],
   "source": [
    "# Topic: Matplotlib & Seaborn\n",
    "import matplotlib.pyplot as plt\n",
    "plt.plot([1,2],[3,4])\n",
    "plt.show()"
   ]
  },
  {
   "cell_type": "code",
   "execution_count": null,
   "id": "f96ffd66",
   "metadata": {},
   "outputs": [],
   "source": [
    "# Topic: File I/O\n",
    "with open('test.txt', 'w') as f:\n",
    "    f.write('Hello World')"
   ]
  },
  {
   "cell_type": "code",
   "execution_count": null,
   "id": "bec3e239",
   "metadata": {},
   "outputs": [],
   "source": [
    "# Topic: Regex\n",
    "import re\n",
    "text = 'email: test@example.com'\n",
    "print(re.findall(r'\\S+@\\S+', text))"
   ]
  },
  {
   "cell_type": "code",
   "execution_count": null,
   "id": "68182e96",
   "metadata": {},
   "outputs": [],
   "source": [
    "# Topic: Pandas\n",
    "import pandas as pd\n",
    "df = pd.read_csv('file.csv')\n",
    "print(df.head())"
   ]
  },
  {
   "cell_type": "code",
   "execution_count": null,
   "id": "ce1e991a",
   "metadata": {},
   "outputs": [],
   "source": [
    "# Topic: NumPy\n",
    "import numpy as np\n",
    "print(np.linspace(0, 1, 5))"
   ]
  },
  {
   "cell_type": "code",
   "execution_count": null,
   "id": "adf08fc6",
   "metadata": {},
   "outputs": [],
   "source": [
    "# Topic: Matplotlib & Seaborn\n",
    "import matplotlib.pyplot as plt\n",
    "plt.plot([1,2],[3,4])\n",
    "plt.show()"
   ]
  },
  {
   "cell_type": "code",
   "execution_count": null,
   "id": "74479865",
   "metadata": {},
   "outputs": [],
   "source": [
    "# Topic: JSON & CSV\n",
    "import csv\n",
    "with open('file.csv', 'w', newline='') as f:\n",
    " csv.writer(f).writerow(['a','b','c'])"
   ]
  },
  {
   "cell_type": "code",
   "execution_count": null,
   "id": "cf2dd957",
   "metadata": {},
   "outputs": [],
   "source": [
    "# Topic: Data Cleaning\n",
    "import pandas as pd\n",
    "df = pd.DataFrame({'A':[1,None,3]})\n",
    "df = df.fillna(0)\n",
    "print(df)"
   ]
  },
  {
   "cell_type": "code",
   "execution_count": null,
   "id": "4e250704",
   "metadata": {},
   "outputs": [],
   "source": [
    "# Topic: Data Cleaning\n",
    "import pandas as pd\n",
    "df = pd.DataFrame({'A':[1,None,3]})\n",
    "df = df.fillna(0)\n",
    "print(df)"
   ]
  },
  {
   "cell_type": "code",
   "execution_count": null,
   "id": "2cc6e079",
   "metadata": {},
   "outputs": [],
   "source": [
    "# Topic: Loops\n",
    "while True:\n",
    "    print('Break')\n",
    "    break"
   ]
  },
  {
   "cell_type": "code",
   "execution_count": null,
   "id": "2260ebe2",
   "metadata": {},
   "outputs": [],
   "source": [
    "# Topic: File I/O\n",
    "with open('test.txt', 'r') as f:\n",
    "    print(f.read())"
   ]
  },
  {
   "cell_type": "code",
   "execution_count": null,
   "id": "5e9fc5a1",
   "metadata": {},
   "outputs": [],
   "source": [
    "# Topic: NumPy\n",
    "import numpy as np\n",
    "a = np.array([1, 2, 3])\n",
    "print(a + 5)"
   ]
  },
  {
   "cell_type": "code",
   "execution_count": null,
   "id": "8063aebc",
   "metadata": {},
   "outputs": [],
   "source": [
    "# Topic: Decorators\n",
    "def log(func):\n",
    " def wrapper():\n",
    "  print('Call')\n",
    "  func()\n",
    " return wrapper\n",
    "@log\n",
    "def say(): print('Hi')\n",
    "say()"
   ]
  },
  {
   "cell_type": "code",
   "execution_count": null,
   "id": "0cff9045",
   "metadata": {},
   "outputs": [],
   "source": [
    "# Topic: CLI Tools\n",
    "import sys\n",
    "print(f'Arguments: {sys.argv}')"
   ]
  },
  {
   "cell_type": "code",
   "execution_count": null,
   "id": "6bffe9a6",
   "metadata": {},
   "outputs": [],
   "source": [
    "# Topic: Matplotlib & Seaborn\n",
    "import seaborn as sns\n",
    "import pandas as pd\n",
    "sns.set()\n",
    "sns.histplot(pd.Series([1,2,2,3]));"
   ]
  },
  {
   "cell_type": "code",
   "execution_count": null,
   "id": "b2efecc8",
   "metadata": {},
   "outputs": [],
   "source": [
    "# Topic: Algorithms\n",
    "# Bubble sort\n",
    "def bubble(arr):\n",
    " for i in range(len(arr)):\n",
    "  for j in range(0, len(arr)-i-1):\n",
    "   if arr[j]>arr[j+1]: arr[j],arr[j+1]=arr[j+1],arr[j]\n",
    "a=[5,3,8]\n",
    "bubble(a)\n",
    "print(a)"
   ]
  },
  {
   "cell_type": "code",
   "execution_count": null,
   "id": "6d124f3a",
   "metadata": {},
   "outputs": [],
   "source": [
    "# Topic: OOP\n",
    "class Student:\n",
    "    def __init__(self, name): self.name = name\n",
    "s = Student('Fahd')\n",
    "print(s.name)"
   ]
  },
  {
   "cell_type": "code",
   "execution_count": null,
   "id": "a8ab65fd",
   "metadata": {},
   "outputs": [],
   "source": [
    "# Topic: Basic ML\n",
    "from sklearn.linear_model import LinearRegression\n",
    "model = LinearRegression()\n",
    "print(model)"
   ]
  },
  {
   "cell_type": "code",
   "execution_count": null,
   "id": "f567b2eb",
   "metadata": {},
   "outputs": [],
   "source": [
    "# Topic: OOP\n",
    "class Student:\n",
    "    def __init__(self, name): self.name = name\n",
    "s = Student('Fahd')\n",
    "print(s.name)"
   ]
  },
  {
   "cell_type": "code",
   "execution_count": null,
   "id": "ddf29d5d",
   "metadata": {},
   "outputs": [],
   "source": [
    "# Topic: Data Cleaning\n",
    "import pandas as pd\n",
    "df = pd.DataFrame({'A':[1,None,3]})\n",
    "df = df.fillna(0)\n",
    "print(df)"
   ]
  },
  {
   "cell_type": "code",
   "execution_count": null,
   "id": "a3c80100",
   "metadata": {},
   "outputs": [],
   "source": [
    "# Topic: Dictionaries & Sets\n",
    "d = {'name': 'Fahd', 'age': 20}\n",
    "print(d.get('name'))"
   ]
  },
  {
   "cell_type": "code",
   "execution_count": null,
   "id": "bb6ea0b0",
   "metadata": {},
   "outputs": [],
   "source": [
    "# Topic: Basic ML\n",
    "from sklearn.linear_model import LinearRegression\n",
    "model = LinearRegression()\n",
    "print(model)"
   ]
  },
  {
   "cell_type": "code",
   "execution_count": null,
   "id": "877c870e",
   "metadata": {},
   "outputs": [],
   "source": [
    "# Topic: Mini Projects\n",
    "# Calculator\n",
    "def calc(a,b,op): return eval(f'{a}{op}{b}')\n",
    "print(calc(5,2,'+'))"
   ]
  },
  {
   "cell_type": "code",
   "execution_count": null,
   "id": "0ac6df20",
   "metadata": {},
   "outputs": [],
   "source": [
    "# Topic: Loops\n",
    "for i in range(10): print(i*i)"
   ]
  },
  {
   "cell_type": "code",
   "execution_count": null,
   "id": "8d8a76f4",
   "metadata": {},
   "outputs": [],
   "source": [
    "# Topic: Basics\n",
    "x = 10\n",
    "y = 20\n",
    "print(x + y)"
   ]
  },
  {
   "cell_type": "code",
   "execution_count": null,
   "id": "1aad4d90",
   "metadata": {},
   "outputs": [],
   "source": [
    "# Topic: Algorithms\n",
    "# Bubble sort\n",
    "def bubble(arr):\n",
    " for i in range(len(arr)):\n",
    "  for j in range(0, len(arr)-i-1):\n",
    "   if arr[j]>arr[j+1]: arr[j],arr[j+1]=arr[j+1],arr[j]\n",
    "a=[5,3,8]\n",
    "bubble(a)\n",
    "print(a)"
   ]
  },
  {
   "cell_type": "code",
   "execution_count": null,
   "id": "33c045d1",
   "metadata": {},
   "outputs": [],
   "source": [
    "# Topic: Loops\n",
    "for i in range(10): print(i*i)"
   ]
  },
  {
   "cell_type": "code",
   "execution_count": null,
   "id": "f948154d",
   "metadata": {},
   "outputs": [],
   "source": [
    "# Topic: Dictionaries & Sets\n",
    "s = set([1, 2, 3, 2])\n",
    "print(s)"
   ]
  },
  {
   "cell_type": "code",
   "execution_count": null,
   "id": "03830df7",
   "metadata": {},
   "outputs": [],
   "source": [
    "# Topic: Mini Projects\n",
    "# Calculator\n",
    "def calc(a,b,op): return eval(f'{a}{op}{b}')\n",
    "print(calc(5,2,'+'))"
   ]
  },
  {
   "cell_type": "code",
   "execution_count": null,
   "id": "faab5076",
   "metadata": {},
   "outputs": [],
   "source": [
    "# Topic: JSON & CSV\n",
    "import csv\n",
    "with open('file.csv', 'w', newline='') as f:\n",
    " csv.writer(f).writerow(['a','b','c'])"
   ]
  },
  {
   "cell_type": "code",
   "execution_count": null,
   "id": "dbb020de",
   "metadata": {},
   "outputs": [],
   "source": [
    "# Topic: Algorithms\n",
    "# Bubble sort\n",
    "def bubble(arr):\n",
    " for i in range(len(arr)):\n",
    "  for j in range(0, len(arr)-i-1):\n",
    "   if arr[j]>arr[j+1]: arr[j],arr[j+1]=arr[j+1],arr[j]\n",
    "a=[5,3,8]\n",
    "bubble(a)\n",
    "print(a)"
   ]
  },
  {
   "cell_type": "code",
   "execution_count": null,
   "id": "3a136c49",
   "metadata": {},
   "outputs": [],
   "source": [
    "# Topic: Web Scraping\n",
    "import requests\n",
    "from bs4 import BeautifulSoup\n",
    "r = requests.get('https://example.com')\n",
    "soup = BeautifulSoup(r.text, 'html.parser')\n",
    "print(soup.title.text)"
   ]
  },
  {
   "cell_type": "code",
   "execution_count": null,
   "id": "53f91546",
   "metadata": {},
   "outputs": [],
   "source": [
    "# Topic: Functions\n",
    "def greet(name='User'):\n",
    "    print(f'Hi, {name}')\n",
    "greet()"
   ]
  },
  {
   "cell_type": "code",
   "execution_count": null,
   "id": "6c07b9c1",
   "metadata": {},
   "outputs": [],
   "source": [
    "# Topic: JSON & CSV\n",
    "import json\n",
    "data = {'a': 1}\n",
    "print(json.dumps(data))"
   ]
  },
  {
   "cell_type": "code",
   "execution_count": null,
   "id": "fd542c6a",
   "metadata": {},
   "outputs": [],
   "source": [
    "# Topic: Web Scraping\n",
    "import requests\n",
    "from bs4 import BeautifulSoup\n",
    "r = requests.get('https://example.com')\n",
    "soup = BeautifulSoup(r.text, 'html.parser')\n",
    "print(soup.title.text)"
   ]
  },
  {
   "cell_type": "code",
   "execution_count": null,
   "id": "ba6d9595",
   "metadata": {},
   "outputs": [],
   "source": [
    "# Topic: NumPy\n",
    "import numpy as np\n",
    "print(np.linspace(0, 1, 5))"
   ]
  },
  {
   "cell_type": "code",
   "execution_count": null,
   "id": "f037aee4",
   "metadata": {},
   "outputs": [],
   "source": [
    "# Topic: Algorithms\n",
    "# Bubble sort\n",
    "def bubble(arr):\n",
    " for i in range(len(arr)):\n",
    "  for j in range(0, len(arr)-i-1):\n",
    "   if arr[j]>arr[j+1]: arr[j],arr[j+1]=arr[j+1],arr[j]\n",
    "a=[5,3,8]\n",
    "bubble(a)\n",
    "print(a)"
   ]
  },
  {
   "cell_type": "code",
   "execution_count": null,
   "id": "c19b0a33",
   "metadata": {},
   "outputs": [],
   "source": [
    "# Topic: Lists & Tuples\n",
    "lst = [1, 2, 3]\n",
    "lst.append(4)\n",
    "print(lst)"
   ]
  },
  {
   "cell_type": "code",
   "execution_count": null,
   "id": "d6b598d6",
   "metadata": {},
   "outputs": [],
   "source": [
    "# Topic: Dictionaries & Sets\n",
    "d = {'name': 'Fahd', 'age': 20}\n",
    "print(d.get('name'))"
   ]
  },
  {
   "cell_type": "code",
   "execution_count": null,
   "id": "1992227d",
   "metadata": {},
   "outputs": [],
   "source": [
    "# Topic: JSON & CSV\n",
    "import json\n",
    "data = {'a': 1}\n",
    "print(json.dumps(data))"
   ]
  },
  {
   "cell_type": "code",
   "execution_count": null,
   "id": "bcd33cd0",
   "metadata": {},
   "outputs": [],
   "source": [
    "# Topic: Web Scraping\n",
    "import requests\n",
    "from bs4 import BeautifulSoup\n",
    "r = requests.get('https://example.com')\n",
    "soup = BeautifulSoup(r.text, 'html.parser')\n",
    "print(soup.title.text)"
   ]
  },
  {
   "cell_type": "code",
   "execution_count": null,
   "id": "9519e6e0",
   "metadata": {},
   "outputs": [],
   "source": [
    "# Topic: Decorators\n",
    "def log(func):\n",
    " def wrapper():\n",
    "  print('Call')\n",
    "  func()\n",
    " return wrapper\n",
    "@log\n",
    "def say(): print('Hi')\n",
    "say()"
   ]
  },
  {
   "cell_type": "code",
   "execution_count": null,
   "id": "497ff898",
   "metadata": {},
   "outputs": [],
   "source": [
    "# Topic: Matplotlib & Seaborn\n",
    "import matplotlib.pyplot as plt\n",
    "plt.plot([1,2],[3,4])\n",
    "plt.show()"
   ]
  },
  {
   "cell_type": "code",
   "execution_count": null,
   "id": "feac488b",
   "metadata": {},
   "outputs": [],
   "source": [
    "# Topic: OOP\n",
    "class Student:\n",
    "    def __init__(self, name): self.name = name\n",
    "s = Student('Fahd')\n",
    "print(s.name)"
   ]
  },
  {
   "cell_type": "code",
   "execution_count": null,
   "id": "b253f12a",
   "metadata": {},
   "outputs": [],
   "source": [
    "# Topic: Matplotlib & Seaborn\n",
    "import matplotlib.pyplot as plt\n",
    "plt.plot([1,2],[3,4])\n",
    "plt.show()"
   ]
  },
  {
   "cell_type": "code",
   "execution_count": null,
   "id": "a00b089c",
   "metadata": {},
   "outputs": [],
   "source": [
    "# Topic: Regex\n",
    "import re\n",
    "text = 'email: test@example.com'\n",
    "print(re.findall(r'\\S+@\\S+', text))"
   ]
  },
  {
   "cell_type": "code",
   "execution_count": null,
   "id": "58a95628",
   "metadata": {},
   "outputs": [],
   "source": [
    "# Topic: JSON & CSV\n",
    "import json\n",
    "data = {'a': 1}\n",
    "print(json.dumps(data))"
   ]
  },
  {
   "cell_type": "code",
   "execution_count": null,
   "id": "2181c522",
   "metadata": {},
   "outputs": [],
   "source": [
    "# Topic: Decorators\n",
    "def log(func):\n",
    " def wrapper():\n",
    "  print('Call')\n",
    "  func()\n",
    " return wrapper\n",
    "@log\n",
    "def say(): print('Hi')\n",
    "say()"
   ]
  },
  {
   "cell_type": "code",
   "execution_count": null,
   "id": "48ea809c",
   "metadata": {},
   "outputs": [],
   "source": [
    "# Topic: Matplotlib & Seaborn\n",
    "import matplotlib.pyplot as plt\n",
    "plt.plot([1,2],[3,4])\n",
    "plt.show()"
   ]
  },
  {
   "cell_type": "code",
   "execution_count": null,
   "id": "403b1ea4",
   "metadata": {},
   "outputs": [],
   "source": [
    "# Topic: File I/O\n",
    "with open('test.txt', 'r') as f:\n",
    "    print(f.read())"
   ]
  },
  {
   "cell_type": "code",
   "execution_count": null,
   "id": "30ac9ffd",
   "metadata": {},
   "outputs": [],
   "source": [
    "# Topic: File I/O\n",
    "with open('test.txt', 'w') as f:\n",
    "    f.write('Hello World')"
   ]
  },
  {
   "cell_type": "code",
   "execution_count": null,
   "id": "e0adfb7b",
   "metadata": {},
   "outputs": [],
   "source": [
    "# Topic: Mini Projects\n",
    "# Calculator\n",
    "def calc(a,b,op): return eval(f'{a}{op}{b}')\n",
    "print(calc(5,2,'+'))"
   ]
  },
  {
   "cell_type": "code",
   "execution_count": null,
   "id": "72594252",
   "metadata": {},
   "outputs": [],
   "source": [
    "# Topic: Functions\n",
    "def greet(name='User'):\n",
    "    print(f'Hi, {name}')\n",
    "greet()"
   ]
  },
  {
   "cell_type": "code",
   "execution_count": null,
   "id": "21cd4282",
   "metadata": {},
   "outputs": [],
   "source": [
    "# Topic: Regex\n",
    "import re\n",
    "text = 'email: test@example.com'\n",
    "print(re.findall(r'\\S+@\\S+', text))"
   ]
  },
  {
   "cell_type": "code",
   "execution_count": null,
   "id": "fa76547d",
   "metadata": {},
   "outputs": [],
   "source": [
    "# Topic: File I/O\n",
    "with open('test.txt', 'w') as f:\n",
    "    f.write('Hello World')"
   ]
  },
  {
   "cell_type": "code",
   "execution_count": null,
   "id": "0377e02c",
   "metadata": {},
   "outputs": [],
   "source": [
    "# Topic: OOP\n",
    "class Student:\n",
    "    def __init__(self, name): self.name = name\n",
    "s = Student('Fahd')\n",
    "print(s.name)"
   ]
  },
  {
   "cell_type": "code",
   "execution_count": null,
   "id": "677d5fe4",
   "metadata": {},
   "outputs": [],
   "source": [
    "# Topic: Algorithms\n",
    "# Bubble sort\n",
    "def bubble(arr):\n",
    " for i in range(len(arr)):\n",
    "  for j in range(0, len(arr)-i-1):\n",
    "   if arr[j]>arr[j+1]: arr[j],arr[j+1]=arr[j+1],arr[j]\n",
    "a=[5,3,8]\n",
    "bubble(a)\n",
    "print(a)"
   ]
  },
  {
   "cell_type": "code",
   "execution_count": null,
   "id": "fc80ba00",
   "metadata": {},
   "outputs": [],
   "source": [
    "# Topic: Recursion\n",
    "def fact(n): return 1 if n==0 else n*fact(n-1)\n",
    "print(fact(5))"
   ]
  },
  {
   "cell_type": "code",
   "execution_count": null,
   "id": "6406c7c2",
   "metadata": {},
   "outputs": [],
   "source": [
    "# Topic: Functions\n",
    "def greet(name='User'):\n",
    "    print(f'Hi, {name}')\n",
    "greet()"
   ]
  },
  {
   "cell_type": "code",
   "execution_count": null,
   "id": "d2a72468",
   "metadata": {},
   "outputs": [],
   "source": [
    "# Topic: CLI Tools\n",
    "import sys\n",
    "print(f'Arguments: {sys.argv}')"
   ]
  },
  {
   "cell_type": "code",
   "execution_count": null,
   "id": "8ed7c6e0",
   "metadata": {},
   "outputs": [],
   "source": [
    "# Topic: Web Scraping\n",
    "import requests\n",
    "from bs4 import BeautifulSoup\n",
    "r = requests.get('https://example.com')\n",
    "soup = BeautifulSoup(r.text, 'html.parser')\n",
    "print(soup.title.text)"
   ]
  },
  {
   "cell_type": "code",
   "execution_count": null,
   "id": "5921ad83",
   "metadata": {},
   "outputs": [],
   "source": [
    "# Topic: Pandas\n",
    "import pandas as pd\n",
    "df = pd.read_csv('file.csv')\n",
    "print(df.head())"
   ]
  },
  {
   "cell_type": "code",
   "execution_count": null,
   "id": "c00050ae",
   "metadata": {},
   "outputs": [],
   "source": [
    "# Topic: OOP\n",
    "class Student:\n",
    "    def __init__(self, name): self.name = name\n",
    "s = Student('Fahd')\n",
    "print(s.name)"
   ]
  },
  {
   "cell_type": "code",
   "execution_count": null,
   "id": "87c3cb19",
   "metadata": {},
   "outputs": [],
   "source": [
    "# Topic: Recursion\n",
    "def fact(n): return 1 if n==0 else n*fact(n-1)\n",
    "print(fact(5))"
   ]
  },
  {
   "cell_type": "code",
   "execution_count": null,
   "id": "baf67359",
   "metadata": {},
   "outputs": [],
   "source": [
    "# Topic: Algorithms\n",
    "# Bubble sort\n",
    "def bubble(arr):\n",
    " for i in range(len(arr)):\n",
    "  for j in range(0, len(arr)-i-1):\n",
    "   if arr[j]>arr[j+1]: arr[j],arr[j+1]=arr[j+1],arr[j]\n",
    "a=[5,3,8]\n",
    "bubble(a)\n",
    "print(a)"
   ]
  },
  {
   "cell_type": "code",
   "execution_count": null,
   "id": "36071e56",
   "metadata": {},
   "outputs": [],
   "source": [
    "# Topic: Lists & Tuples\n",
    "lst = [1, 2, 3]\n",
    "lst.append(4)\n",
    "print(lst)"
   ]
  },
  {
   "cell_type": "code",
   "execution_count": null,
   "id": "6993c049",
   "metadata": {},
   "outputs": [],
   "source": [
    "# Topic: Dictionaries & Sets\n",
    "s = set([1, 2, 3, 2])\n",
    "print(s)"
   ]
  },
  {
   "cell_type": "code",
   "execution_count": null,
   "id": "94486b9d",
   "metadata": {},
   "outputs": [],
   "source": [
    "# Topic: Pandas\n",
    "import pandas as pd\n",
    "df = pd.DataFrame({'A':[1,2],'B':[3,4]})\n",
    "print(df)"
   ]
  },
  {
   "cell_type": "code",
   "execution_count": null,
   "id": "7c228ea4",
   "metadata": {},
   "outputs": [],
   "source": [
    "# Topic: Mini Projects\n",
    "# Palindrome check\n",
    "def is_pal(s): return s == s[::-1]\n",
    "print(is_pal('madam'))"
   ]
  },
  {
   "cell_type": "code",
   "execution_count": null,
   "id": "871365d3",
   "metadata": {},
   "outputs": [],
   "source": [
    "# Topic: CLI Tools\n",
    "import sys\n",
    "print(f'Arguments: {sys.argv}')"
   ]
  },
  {
   "cell_type": "code",
   "execution_count": null,
   "id": "963721db",
   "metadata": {},
   "outputs": [],
   "source": [
    "# Topic: Functions\n",
    "def square(x): return x*x\n",
    "print(square(5))"
   ]
  },
  {
   "cell_type": "code",
   "execution_count": null,
   "id": "4ca0db3b",
   "metadata": {},
   "outputs": [],
   "source": [
    "# Topic: CLI Tools\n",
    "import sys\n",
    "print(f'Arguments: {sys.argv}')"
   ]
  },
  {
   "cell_type": "code",
   "execution_count": null,
   "id": "dd3f9960",
   "metadata": {},
   "outputs": [],
   "source": [
    "# Topic: Functions\n",
    "def greet(name='User'):\n",
    "    print(f'Hi, {name}')\n",
    "greet()"
   ]
  },
  {
   "cell_type": "code",
   "execution_count": null,
   "id": "41dfa95d",
   "metadata": {},
   "outputs": [],
   "source": [
    "# Topic: Basic ML\n",
    "from sklearn.linear_model import LinearRegression\n",
    "model = LinearRegression()\n",
    "print(model)"
   ]
  },
  {
   "cell_type": "code",
   "execution_count": null,
   "id": "ffcebfb6",
   "metadata": {},
   "outputs": [],
   "source": [
    "# Topic: Functions\n",
    "def square(x): return x*x\n",
    "print(square(5))"
   ]
  },
  {
   "cell_type": "code",
   "execution_count": null,
   "id": "cfc5fd2d",
   "metadata": {},
   "outputs": [],
   "source": [
    "# Topic: Web Scraping\n",
    "import requests\n",
    "from bs4 import BeautifulSoup\n",
    "r = requests.get('https://example.com')\n",
    "soup = BeautifulSoup(r.text, 'html.parser')\n",
    "print(soup.title.text)"
   ]
  },
  {
   "cell_type": "code",
   "execution_count": null,
   "id": "e9618edb",
   "metadata": {},
   "outputs": [],
   "source": [
    "# Topic: Matplotlib & Seaborn\n",
    "import seaborn as sns\n",
    "import pandas as pd\n",
    "sns.set()\n",
    "sns.histplot(pd.Series([1,2,2,3]));"
   ]
  },
  {
   "cell_type": "code",
   "execution_count": null,
   "id": "f1b30e58",
   "metadata": {},
   "outputs": [],
   "source": [
    "# Topic: CLI Tools\n",
    "import sys\n",
    "print(f'Arguments: {sys.argv}')"
   ]
  },
  {
   "cell_type": "code",
   "execution_count": null,
   "id": "5a50c2ad",
   "metadata": {},
   "outputs": [],
   "source": [
    "# Topic: Regex\n",
    "import re\n",
    "text = 'email: test@example.com'\n",
    "print(re.findall(r'\\S+@\\S+', text))"
   ]
  },
  {
   "cell_type": "code",
   "execution_count": null,
   "id": "4729cfcd",
   "metadata": {},
   "outputs": [],
   "source": [
    "# Topic: Mini Projects\n",
    "# Palindrome check\n",
    "def is_pal(s): return s == s[::-1]\n",
    "print(is_pal('madam'))"
   ]
  },
  {
   "cell_type": "code",
   "execution_count": null,
   "id": "4bb9585d",
   "metadata": {},
   "outputs": [],
   "source": [
    "# Topic: File I/O\n",
    "with open('test.txt', 'w') as f:\n",
    "    f.write('Hello World')"
   ]
  },
  {
   "cell_type": "code",
   "execution_count": null,
   "id": "47035fad",
   "metadata": {},
   "outputs": [],
   "source": [
    "# Topic: Algorithms\n",
    "# Bubble sort\n",
    "def bubble(arr):\n",
    " for i in range(len(arr)):\n",
    "  for j in range(0, len(arr)-i-1):\n",
    "   if arr[j]>arr[j+1]: arr[j],arr[j+1]=arr[j+1],arr[j]\n",
    "a=[5,3,8]\n",
    "bubble(a)\n",
    "print(a)"
   ]
  },
  {
   "cell_type": "code",
   "execution_count": null,
   "id": "c75493f4",
   "metadata": {},
   "outputs": [],
   "source": [
    "# Topic: OOP\n",
    "class Student:\n",
    "    def __init__(self, name): self.name = name\n",
    "s = Student('Fahd')\n",
    "print(s.name)"
   ]
  },
  {
   "cell_type": "code",
   "execution_count": null,
   "id": "6a0101ba",
   "metadata": {},
   "outputs": [],
   "source": [
    "# Topic: Mini Projects\n",
    "# Calculator\n",
    "def calc(a,b,op): return eval(f'{a}{op}{b}')\n",
    "print(calc(5,2,'+'))"
   ]
  },
  {
   "cell_type": "code",
   "execution_count": null,
   "id": "7d352d15",
   "metadata": {},
   "outputs": [],
   "source": [
    "# Topic: Regex\n",
    "import re\n",
    "text = 'email: test@example.com'\n",
    "print(re.findall(r'\\S+@\\S+', text))"
   ]
  },
  {
   "cell_type": "code",
   "execution_count": null,
   "id": "3013ecbe",
   "metadata": {},
   "outputs": [],
   "source": [
    "# Topic: Basic ML\n",
    "from sklearn.linear_model import LinearRegression\n",
    "model = LinearRegression()\n",
    "print(model)"
   ]
  },
  {
   "cell_type": "code",
   "execution_count": null,
   "id": "de7de617",
   "metadata": {},
   "outputs": [],
   "source": [
    "# Topic: Functions\n",
    "def greet(name='User'):\n",
    "    print(f'Hi, {name}')\n",
    "greet()"
   ]
  },
  {
   "cell_type": "code",
   "execution_count": null,
   "id": "d0eaf8ba",
   "metadata": {},
   "outputs": [],
   "source": [
    "# Topic: OOP\n",
    "class Student:\n",
    "    def __init__(self, name): self.name = name\n",
    "s = Student('Fahd')\n",
    "print(s.name)"
   ]
  },
  {
   "cell_type": "code",
   "execution_count": null,
   "id": "d40b4655",
   "metadata": {},
   "outputs": [],
   "source": [
    "# Topic: Basic ML\n",
    "from sklearn.linear_model import LinearRegression\n",
    "model = LinearRegression()\n",
    "print(model)"
   ]
  },
  {
   "cell_type": "code",
   "execution_count": null,
   "id": "773a9822",
   "metadata": {},
   "outputs": [],
   "source": [
    "# Topic: JSON & CSV\n",
    "import json\n",
    "data = {'a': 1}\n",
    "print(json.dumps(data))"
   ]
  },
  {
   "cell_type": "code",
   "execution_count": null,
   "id": "3a20c2bf",
   "metadata": {},
   "outputs": [],
   "source": [
    "# Topic: Matplotlib & Seaborn\n",
    "import seaborn as sns\n",
    "import pandas as pd\n",
    "sns.set()\n",
    "sns.histplot(pd.Series([1,2,2,3]));"
   ]
  },
  {
   "cell_type": "code",
   "execution_count": null,
   "id": "5237da4c",
   "metadata": {},
   "outputs": [],
   "source": [
    "# Topic: Regex\n",
    "import re\n",
    "text = 'email: test@example.com'\n",
    "print(re.findall(r'\\S+@\\S+', text))"
   ]
  },
  {
   "cell_type": "code",
   "execution_count": null,
   "id": "678377ac",
   "metadata": {},
   "outputs": [],
   "source": [
    "# Topic: Basic ML\n",
    "from sklearn.linear_model import LinearRegression\n",
    "model = LinearRegression()\n",
    "print(model)"
   ]
  },
  {
   "cell_type": "code",
   "execution_count": null,
   "id": "f2d5eb51",
   "metadata": {},
   "outputs": [],
   "source": [
    "# Topic: Pandas\n",
    "import pandas as pd\n",
    "df = pd.read_csv('file.csv')\n",
    "print(df.head())"
   ]
  },
  {
   "cell_type": "code",
   "execution_count": null,
   "id": "1c638bea",
   "metadata": {},
   "outputs": [],
   "source": [
    "# Topic: Pandas\n",
    "import pandas as pd\n",
    "df = pd.read_csv('file.csv')\n",
    "print(df.head())"
   ]
  },
  {
   "cell_type": "code",
   "execution_count": null,
   "id": "07077542",
   "metadata": {},
   "outputs": [],
   "source": [
    "# Topic: Web Scraping\n",
    "import requests\n",
    "from bs4 import BeautifulSoup\n",
    "r = requests.get('https://example.com')\n",
    "soup = BeautifulSoup(r.text, 'html.parser')\n",
    "print(soup.title.text)"
   ]
  },
  {
   "cell_type": "code",
   "execution_count": null,
   "id": "84c2b35f",
   "metadata": {},
   "outputs": [],
   "source": [
    "# Topic: Mini Projects\n",
    "# Calculator\n",
    "def calc(a,b,op): return eval(f'{a}{op}{b}')\n",
    "print(calc(5,2,'+'))"
   ]
  },
  {
   "cell_type": "code",
   "execution_count": null,
   "id": "572d50a1",
   "metadata": {},
   "outputs": [],
   "source": [
    "# Topic: CLI Tools\n",
    "import sys\n",
    "print(f'Arguments: {sys.argv}')"
   ]
  },
  {
   "cell_type": "code",
   "execution_count": null,
   "id": "1ef1ff59",
   "metadata": {},
   "outputs": [],
   "source": [
    "# Topic: Loops\n",
    "for i in range(10): print(i*i)"
   ]
  },
  {
   "cell_type": "code",
   "execution_count": null,
   "id": "2ee13d47",
   "metadata": {},
   "outputs": [],
   "source": [
    "# Topic: Basic ML\n",
    "from sklearn.linear_model import LinearRegression\n",
    "model = LinearRegression()\n",
    "print(model)"
   ]
  },
  {
   "cell_type": "code",
   "execution_count": null,
   "id": "4f0c9c1a",
   "metadata": {},
   "outputs": [],
   "source": [
    "# Topic: OOP\n",
    "class Student:\n",
    "    def __init__(self, name): self.name = name\n",
    "s = Student('Fahd')\n",
    "print(s.name)"
   ]
  },
  {
   "cell_type": "code",
   "execution_count": null,
   "id": "97b3af60",
   "metadata": {},
   "outputs": [],
   "source": [
    "# Topic: NumPy\n",
    "import numpy as np\n",
    "print(np.linspace(0, 1, 5))"
   ]
  },
  {
   "cell_type": "code",
   "execution_count": null,
   "id": "15a10b12",
   "metadata": {},
   "outputs": [],
   "source": [
    "# Topic: JSON & CSV\n",
    "import csv\n",
    "with open('file.csv', 'w', newline='') as f:\n",
    " csv.writer(f).writerow(['a','b','c'])"
   ]
  },
  {
   "cell_type": "code",
   "execution_count": null,
   "id": "9ddc1254",
   "metadata": {},
   "outputs": [],
   "source": [
    "# Topic: NumPy\n",
    "import numpy as np\n",
    "a = np.array([1, 2, 3])\n",
    "print(a + 5)"
   ]
  },
  {
   "cell_type": "code",
   "execution_count": null,
   "id": "0f82fb06",
   "metadata": {},
   "outputs": [],
   "source": [
    "# Topic: File I/O\n",
    "with open('test.txt', 'r') as f:\n",
    "    print(f.read())"
   ]
  },
  {
   "cell_type": "code",
   "execution_count": null,
   "id": "98220278",
   "metadata": {},
   "outputs": [],
   "source": [
    "# Topic: Mini Projects\n",
    "# Palindrome check\n",
    "def is_pal(s): return s == s[::-1]\n",
    "print(is_pal('madam'))"
   ]
  },
  {
   "cell_type": "code",
   "execution_count": null,
   "id": "a56d3638",
   "metadata": {},
   "outputs": [],
   "source": [
    "# Topic: File I/O\n",
    "with open('test.txt', 'r') as f:\n",
    "    print(f.read())"
   ]
  },
  {
   "cell_type": "code",
   "execution_count": null,
   "id": "f420ce4d",
   "metadata": {},
   "outputs": [],
   "source": [
    "# Topic: Basics\n",
    "x = 10\n",
    "y = 20\n",
    "print(x + y)"
   ]
  },
  {
   "cell_type": "code",
   "execution_count": null,
   "id": "bdb71a7e",
   "metadata": {},
   "outputs": [],
   "source": [
    "# Topic: Web Scraping\n",
    "import requests\n",
    "from bs4 import BeautifulSoup\n",
    "r = requests.get('https://example.com')\n",
    "soup = BeautifulSoup(r.text, 'html.parser')\n",
    "print(soup.title.text)"
   ]
  },
  {
   "cell_type": "code",
   "execution_count": null,
   "id": "dd09c3c3",
   "metadata": {},
   "outputs": [],
   "source": [
    "# Topic: Recursion\n",
    "def fact(n): return 1 if n==0 else n*fact(n-1)\n",
    "print(fact(5))"
   ]
  },
  {
   "cell_type": "code",
   "execution_count": null,
   "id": "7c95e975",
   "metadata": {},
   "outputs": [],
   "source": [
    "# Topic: Web Scraping\n",
    "import requests\n",
    "from bs4 import BeautifulSoup\n",
    "r = requests.get('https://example.com')\n",
    "soup = BeautifulSoup(r.text, 'html.parser')\n",
    "print(soup.title.text)"
   ]
  },
  {
   "cell_type": "code",
   "execution_count": null,
   "id": "827f26b6",
   "metadata": {},
   "outputs": [],
   "source": [
    "# Topic: JSON & CSV\n",
    "import json\n",
    "data = {'a': 1}\n",
    "print(json.dumps(data))"
   ]
  },
  {
   "cell_type": "code",
   "execution_count": null,
   "id": "007eee91",
   "metadata": {},
   "outputs": [],
   "source": [
    "# Topic: Web Scraping\n",
    "import requests\n",
    "from bs4 import BeautifulSoup\n",
    "r = requests.get('https://example.com')\n",
    "soup = BeautifulSoup(r.text, 'html.parser')\n",
    "print(soup.title.text)"
   ]
  },
  {
   "cell_type": "code",
   "execution_count": null,
   "id": "5bdb21aa",
   "metadata": {},
   "outputs": [],
   "source": [
    "# Topic: Mini Projects\n",
    "# Calculator\n",
    "def calc(a,b,op): return eval(f'{a}{op}{b}')\n",
    "print(calc(5,2,'+'))"
   ]
  },
  {
   "cell_type": "code",
   "execution_count": null,
   "id": "ccdb214f",
   "metadata": {},
   "outputs": [],
   "source": [
    "# Topic: Data Cleaning\n",
    "import pandas as pd\n",
    "df = pd.DataFrame({'A':[1,None,3]})\n",
    "df = df.fillna(0)\n",
    "print(df)"
   ]
  },
  {
   "cell_type": "code",
   "execution_count": null,
   "id": "f331d404",
   "metadata": {},
   "outputs": [],
   "source": [
    "# Topic: Decorators\n",
    "def log(func):\n",
    " def wrapper():\n",
    "  print('Call')\n",
    "  func()\n",
    " return wrapper\n",
    "@log\n",
    "def say(): print('Hi')\n",
    "say()"
   ]
  },
  {
   "cell_type": "code",
   "execution_count": null,
   "id": "c8dc2869",
   "metadata": {},
   "outputs": [],
   "source": [
    "# Topic: NumPy\n",
    "import numpy as np\n",
    "a = np.array([1, 2, 3])\n",
    "print(a + 5)"
   ]
  },
  {
   "cell_type": "code",
   "execution_count": null,
   "id": "0d702637",
   "metadata": {},
   "outputs": [],
   "source": [
    "# Topic: Loops\n",
    "while True:\n",
    "    print('Break')\n",
    "    break"
   ]
  },
  {
   "cell_type": "code",
   "execution_count": null,
   "id": "f1400a26",
   "metadata": {},
   "outputs": [],
   "source": [
    "# Topic: Basics\n",
    "x = 10\n",
    "y = 20\n",
    "print(x + y)"
   ]
  },
  {
   "cell_type": "code",
   "execution_count": null,
   "id": "0d7b4825",
   "metadata": {},
   "outputs": [],
   "source": [
    "# Topic: Web Scraping\n",
    "import requests\n",
    "from bs4 import BeautifulSoup\n",
    "r = requests.get('https://example.com')\n",
    "soup = BeautifulSoup(r.text, 'html.parser')\n",
    "print(soup.title.text)"
   ]
  },
  {
   "cell_type": "code",
   "execution_count": null,
   "id": "db611d0c",
   "metadata": {},
   "outputs": [],
   "source": [
    "# Topic: Functions\n",
    "def greet(name='User'):\n",
    "    print(f'Hi, {name}')\n",
    "greet()"
   ]
  },
  {
   "cell_type": "code",
   "execution_count": null,
   "id": "7ee28d05",
   "metadata": {},
   "outputs": [],
   "source": [
    "# Topic: Loops\n",
    "for i in range(10): print(i*i)"
   ]
  },
  {
   "cell_type": "code",
   "execution_count": null,
   "id": "4568d3ad",
   "metadata": {},
   "outputs": [],
   "source": [
    "# Topic: Data Cleaning\n",
    "import pandas as pd\n",
    "df = pd.DataFrame({'A':[1,None,3]})\n",
    "df = df.fillna(0)\n",
    "print(df)"
   ]
  },
  {
   "cell_type": "code",
   "execution_count": null,
   "id": "f8dd172d",
   "metadata": {},
   "outputs": [],
   "source": [
    "# Topic: Web Scraping\n",
    "import requests\n",
    "from bs4 import BeautifulSoup\n",
    "r = requests.get('https://example.com')\n",
    "soup = BeautifulSoup(r.text, 'html.parser')\n",
    "print(soup.title.text)"
   ]
  },
  {
   "cell_type": "code",
   "execution_count": null,
   "id": "db8e79bb",
   "metadata": {},
   "outputs": [],
   "source": [
    "# Topic: Regex\n",
    "import re\n",
    "text = 'email: test@example.com'\n",
    "print(re.findall(r'\\S+@\\S+', text))"
   ]
  },
  {
   "cell_type": "code",
   "execution_count": null,
   "id": "046cc1f2",
   "metadata": {},
   "outputs": [],
   "source": [
    "# Topic: CLI Tools\n",
    "import sys\n",
    "print(f'Arguments: {sys.argv}')"
   ]
  },
  {
   "cell_type": "code",
   "execution_count": null,
   "id": "4db1bbc0",
   "metadata": {},
   "outputs": [],
   "source": [
    "# Topic: Algorithms\n",
    "# Bubble sort\n",
    "def bubble(arr):\n",
    " for i in range(len(arr)):\n",
    "  for j in range(0, len(arr)-i-1):\n",
    "   if arr[j]>arr[j+1]: arr[j],arr[j+1]=arr[j+1],arr[j]\n",
    "a=[5,3,8]\n",
    "bubble(a)\n",
    "print(a)"
   ]
  },
  {
   "cell_type": "code",
   "execution_count": null,
   "id": "342c889d",
   "metadata": {},
   "outputs": [],
   "source": [
    "# Topic: Algorithms\n",
    "# Bubble sort\n",
    "def bubble(arr):\n",
    " for i in range(len(arr)):\n",
    "  for j in range(0, len(arr)-i-1):\n",
    "   if arr[j]>arr[j+1]: arr[j],arr[j+1]=arr[j+1],arr[j]\n",
    "a=[5,3,8]\n",
    "bubble(a)\n",
    "print(a)"
   ]
  },
  {
   "cell_type": "code",
   "execution_count": null,
   "id": "73892eb8",
   "metadata": {},
   "outputs": [],
   "source": [
    "# Topic: OOP\n",
    "class Student:\n",
    "    def __init__(self, name): self.name = name\n",
    "s = Student('Fahd')\n",
    "print(s.name)"
   ]
  },
  {
   "cell_type": "code",
   "execution_count": null,
   "id": "8ac6b679",
   "metadata": {},
   "outputs": [],
   "source": [
    "# Topic: Basics\n",
    "name = 'Fahd'\n",
    "print(f'Hello, {name}')"
   ]
  },
  {
   "cell_type": "code",
   "execution_count": null,
   "id": "e624271b",
   "metadata": {},
   "outputs": [],
   "source": [
    "# Topic: Functions\n",
    "def square(x): return x*x\n",
    "print(square(5))"
   ]
  },
  {
   "cell_type": "code",
   "execution_count": null,
   "id": "ba9e29f4",
   "metadata": {},
   "outputs": [],
   "source": [
    "# Topic: Lists & Tuples\n",
    "t = (1, 2, 3)\n",
    "print(t[0])"
   ]
  },
  {
   "cell_type": "code",
   "execution_count": null,
   "id": "adff9551",
   "metadata": {},
   "outputs": [],
   "source": [
    "# Topic: Matplotlib & Seaborn\n",
    "import seaborn as sns\n",
    "import pandas as pd\n",
    "sns.set()\n",
    "sns.histplot(pd.Series([1,2,2,3]));"
   ]
  },
  {
   "cell_type": "code",
   "execution_count": null,
   "id": "fa397de9",
   "metadata": {},
   "outputs": [],
   "source": [
    "# Topic: Data Cleaning\n",
    "import pandas as pd\n",
    "df = pd.DataFrame({'A':[1,None,3]})\n",
    "df = df.fillna(0)\n",
    "print(df)"
   ]
  },
  {
   "cell_type": "code",
   "execution_count": null,
   "id": "eb6bb417",
   "metadata": {},
   "outputs": [],
   "source": [
    "# Topic: Web Scraping\n",
    "import requests\n",
    "from bs4 import BeautifulSoup\n",
    "r = requests.get('https://example.com')\n",
    "soup = BeautifulSoup(r.text, 'html.parser')\n",
    "print(soup.title.text)"
   ]
  },
  {
   "cell_type": "code",
   "execution_count": null,
   "id": "26350cf1",
   "metadata": {},
   "outputs": [],
   "source": [
    "# Topic: Functions\n",
    "def square(x): return x*x\n",
    "print(square(5))"
   ]
  },
  {
   "cell_type": "code",
   "execution_count": null,
   "id": "1f9212d1",
   "metadata": {},
   "outputs": [],
   "source": [
    "# Topic: NumPy\n",
    "import numpy as np\n",
    "print(np.linspace(0, 1, 5))"
   ]
  },
  {
   "cell_type": "code",
   "execution_count": null,
   "id": "920a9155",
   "metadata": {},
   "outputs": [],
   "source": [
    "# Topic: Web Scraping\n",
    "import requests\n",
    "from bs4 import BeautifulSoup\n",
    "r = requests.get('https://example.com')\n",
    "soup = BeautifulSoup(r.text, 'html.parser')\n",
    "print(soup.title.text)"
   ]
  },
  {
   "cell_type": "code",
   "execution_count": null,
   "id": "6220c001",
   "metadata": {},
   "outputs": [],
   "source": [
    "# Topic: Data Cleaning\n",
    "import pandas as pd\n",
    "df = pd.DataFrame({'A':[1,None,3]})\n",
    "df = df.fillna(0)\n",
    "print(df)"
   ]
  },
  {
   "cell_type": "code",
   "execution_count": null,
   "id": "d0179f13",
   "metadata": {},
   "outputs": [],
   "source": [
    "# Topic: OOP\n",
    "class Student:\n",
    "    def __init__(self, name): self.name = name\n",
    "s = Student('Fahd')\n",
    "print(s.name)"
   ]
  },
  {
   "cell_type": "code",
   "execution_count": null,
   "id": "5c9e82fe",
   "metadata": {},
   "outputs": [],
   "source": [
    "# Topic: Basics\n",
    "x = 10\n",
    "y = 20\n",
    "print(x + y)"
   ]
  },
  {
   "cell_type": "code",
   "execution_count": null,
   "id": "13503eae",
   "metadata": {},
   "outputs": [],
   "source": [
    "# Topic: Dictionaries & Sets\n",
    "d = {'name': 'Fahd', 'age': 20}\n",
    "print(d.get('name'))"
   ]
  },
  {
   "cell_type": "code",
   "execution_count": null,
   "id": "e4392cf2",
   "metadata": {},
   "outputs": [],
   "source": [
    "# Topic: Data Cleaning\n",
    "import pandas as pd\n",
    "df = pd.DataFrame({'A':[1,None,3]})\n",
    "df = df.fillna(0)\n",
    "print(df)"
   ]
  },
  {
   "cell_type": "code",
   "execution_count": null,
   "id": "42eb7f5f",
   "metadata": {},
   "outputs": [],
   "source": [
    "# Topic: Dictionaries & Sets\n",
    "s = set([1, 2, 3, 2])\n",
    "print(s)"
   ]
  },
  {
   "cell_type": "code",
   "execution_count": null,
   "id": "84daea9d",
   "metadata": {},
   "outputs": [],
   "source": [
    "# Topic: Dictionaries & Sets\n",
    "s = set([1, 2, 3, 2])\n",
    "print(s)"
   ]
  },
  {
   "cell_type": "code",
   "execution_count": null,
   "id": "e6943e87",
   "metadata": {},
   "outputs": [],
   "source": [
    "# Topic: Dictionaries & Sets\n",
    "s = set([1, 2, 3, 2])\n",
    "print(s)"
   ]
  },
  {
   "cell_type": "code",
   "execution_count": null,
   "id": "02da4749",
   "metadata": {},
   "outputs": [],
   "source": [
    "# Topic: Recursion\n",
    "def fact(n): return 1 if n==0 else n*fact(n-1)\n",
    "print(fact(5))"
   ]
  },
  {
   "cell_type": "code",
   "execution_count": null,
   "id": "e8dd0f66",
   "metadata": {},
   "outputs": [],
   "source": [
    "# Topic: File I/O\n",
    "with open('test.txt', 'r') as f:\n",
    "    print(f.read())"
   ]
  },
  {
   "cell_type": "code",
   "execution_count": null,
   "id": "856e32f5",
   "metadata": {},
   "outputs": [],
   "source": [
    "# Topic: Matplotlib & Seaborn\n",
    "import matplotlib.pyplot as plt\n",
    "plt.plot([1,2],[3,4])\n",
    "plt.show()"
   ]
  },
  {
   "cell_type": "code",
   "execution_count": null,
   "id": "cae288aa",
   "metadata": {},
   "outputs": [],
   "source": [
    "# Topic: JSON & CSV\n",
    "import json\n",
    "data = {'a': 1}\n",
    "print(json.dumps(data))"
   ]
  },
  {
   "cell_type": "code",
   "execution_count": null,
   "id": "78c75607",
   "metadata": {},
   "outputs": [],
   "source": [
    "# Topic: NumPy\n",
    "import numpy as np\n",
    "a = np.array([1, 2, 3])\n",
    "print(a + 5)"
   ]
  },
  {
   "cell_type": "code",
   "execution_count": null,
   "id": "1919b84b",
   "metadata": {},
   "outputs": [],
   "source": [
    "# Topic: Web Scraping\n",
    "import requests\n",
    "from bs4 import BeautifulSoup\n",
    "r = requests.get('https://example.com')\n",
    "soup = BeautifulSoup(r.text, 'html.parser')\n",
    "print(soup.title.text)"
   ]
  },
  {
   "cell_type": "code",
   "execution_count": null,
   "id": "f9bca878",
   "metadata": {},
   "outputs": [],
   "source": [
    "# Topic: Web Scraping\n",
    "import requests\n",
    "from bs4 import BeautifulSoup\n",
    "r = requests.get('https://example.com')\n",
    "soup = BeautifulSoup(r.text, 'html.parser')\n",
    "print(soup.title.text)"
   ]
  },
  {
   "cell_type": "code",
   "execution_count": null,
   "id": "64a0692a",
   "metadata": {},
   "outputs": [],
   "source": [
    "# Topic: Loops\n",
    "while True:\n",
    "    print('Break')\n",
    "    break"
   ]
  },
  {
   "cell_type": "code",
   "execution_count": null,
   "id": "f00c7d67",
   "metadata": {},
   "outputs": [],
   "source": [
    "# Topic: Basic ML\n",
    "from sklearn.linear_model import LinearRegression\n",
    "model = LinearRegression()\n",
    "print(model)"
   ]
  },
  {
   "cell_type": "code",
   "execution_count": null,
   "id": "39a27b4b",
   "metadata": {},
   "outputs": [],
   "source": [
    "# Topic: Functions\n",
    "def greet(name='User'):\n",
    "    print(f'Hi, {name}')\n",
    "greet()"
   ]
  },
  {
   "cell_type": "code",
   "execution_count": null,
   "id": "a559fdca",
   "metadata": {},
   "outputs": [],
   "source": [
    "# Topic: File I/O\n",
    "with open('test.txt', 'r') as f:\n",
    "    print(f.read())"
   ]
  },
  {
   "cell_type": "code",
   "execution_count": null,
   "id": "16b8775f",
   "metadata": {},
   "outputs": [],
   "source": [
    "# Topic: Pandas\n",
    "import pandas as pd\n",
    "df = pd.read_csv('file.csv')\n",
    "print(df.head())"
   ]
  },
  {
   "cell_type": "code",
   "execution_count": null,
   "id": "5316ad94",
   "metadata": {},
   "outputs": [],
   "source": [
    "# Topic: Pandas\n",
    "import pandas as pd\n",
    "df = pd.DataFrame({'A':[1,2],'B':[3,4]})\n",
    "print(df)"
   ]
  },
  {
   "cell_type": "code",
   "execution_count": null,
   "id": "9086fa3e",
   "metadata": {},
   "outputs": [],
   "source": [
    "# Topic: Loops\n",
    "for i in range(10): print(i*i)"
   ]
  },
  {
   "cell_type": "code",
   "execution_count": null,
   "id": "d486b55a",
   "metadata": {},
   "outputs": [],
   "source": [
    "# Topic: Basics\n",
    "x = 10\n",
    "y = 20\n",
    "print(x + y)"
   ]
  },
  {
   "cell_type": "code",
   "execution_count": null,
   "id": "dd9f81db",
   "metadata": {},
   "outputs": [],
   "source": [
    "# Topic: OOP\n",
    "class Student:\n",
    "    def __init__(self, name): self.name = name\n",
    "s = Student('Fahd')\n",
    "print(s.name)"
   ]
  },
  {
   "cell_type": "code",
   "execution_count": null,
   "id": "b7645638",
   "metadata": {},
   "outputs": [],
   "source": [
    "# Topic: CLI Tools\n",
    "import sys\n",
    "print(f'Arguments: {sys.argv}')"
   ]
  },
  {
   "cell_type": "code",
   "execution_count": null,
   "id": "be31499b",
   "metadata": {},
   "outputs": [],
   "source": [
    "# Topic: Functions\n",
    "def greet(name='User'):\n",
    "    print(f'Hi, {name}')\n",
    "greet()"
   ]
  },
  {
   "cell_type": "code",
   "execution_count": null,
   "id": "b96380b9",
   "metadata": {},
   "outputs": [],
   "source": [
    "# Topic: Dictionaries & Sets\n",
    "s = set([1, 2, 3, 2])\n",
    "print(s)"
   ]
  },
  {
   "cell_type": "code",
   "execution_count": null,
   "id": "68400123",
   "metadata": {},
   "outputs": [],
   "source": [
    "# Topic: Decorators\n",
    "def log(func):\n",
    " def wrapper():\n",
    "  print('Call')\n",
    "  func()\n",
    " return wrapper\n",
    "@log\n",
    "def say(): print('Hi')\n",
    "say()"
   ]
  },
  {
   "cell_type": "code",
   "execution_count": null,
   "id": "06313c5f",
   "metadata": {},
   "outputs": [],
   "source": [
    "# Topic: Pandas\n",
    "import pandas as pd\n",
    "df = pd.DataFrame({'A':[1,2],'B':[3,4]})\n",
    "print(df)"
   ]
  },
  {
   "cell_type": "code",
   "execution_count": null,
   "id": "75301800",
   "metadata": {},
   "outputs": [],
   "source": [
    "# Topic: NumPy\n",
    "import numpy as np\n",
    "print(np.linspace(0, 1, 5))"
   ]
  },
  {
   "cell_type": "code",
   "execution_count": null,
   "id": "aa2c0c30",
   "metadata": {},
   "outputs": [],
   "source": [
    "# Topic: Matplotlib & Seaborn\n",
    "import seaborn as sns\n",
    "import pandas as pd\n",
    "sns.set()\n",
    "sns.histplot(pd.Series([1,2,2,3]));"
   ]
  },
  {
   "cell_type": "code",
   "execution_count": null,
   "id": "90a24535",
   "metadata": {},
   "outputs": [],
   "source": [
    "# Topic: Lists & Tuples\n",
    "lst = [1, 2, 3]\n",
    "lst.append(4)\n",
    "print(lst)"
   ]
  },
  {
   "cell_type": "code",
   "execution_count": null,
   "id": "b81e37ea",
   "metadata": {},
   "outputs": [],
   "source": [
    "# Topic: OOP\n",
    "class Student:\n",
    "    def __init__(self, name): self.name = name\n",
    "s = Student('Fahd')\n",
    "print(s.name)"
   ]
  },
  {
   "cell_type": "code",
   "execution_count": null,
   "id": "b4c94870",
   "metadata": {},
   "outputs": [],
   "source": [
    "# Topic: Regex\n",
    "import re\n",
    "text = 'email: test@example.com'\n",
    "print(re.findall(r'\\S+@\\S+', text))"
   ]
  },
  {
   "cell_type": "code",
   "execution_count": null,
   "id": "22c56993",
   "metadata": {},
   "outputs": [],
   "source": [
    "# Topic: Functions\n",
    "def greet(name='User'):\n",
    "    print(f'Hi, {name}')\n",
    "greet()"
   ]
  },
  {
   "cell_type": "code",
   "execution_count": null,
   "id": "e12687dc",
   "metadata": {},
   "outputs": [],
   "source": [
    "# Topic: Lists & Tuples\n",
    "t = (1, 2, 3)\n",
    "print(t[0])"
   ]
  },
  {
   "cell_type": "code",
   "execution_count": null,
   "id": "9f0ba090",
   "metadata": {},
   "outputs": [],
   "source": [
    "# Topic: Dictionaries & Sets\n",
    "s = set([1, 2, 3, 2])\n",
    "print(s)"
   ]
  },
  {
   "cell_type": "code",
   "execution_count": null,
   "id": "6f3f57be",
   "metadata": {},
   "outputs": [],
   "source": [
    "# Topic: JSON & CSV\n",
    "import csv\n",
    "with open('file.csv', 'w', newline='') as f:\n",
    " csv.writer(f).writerow(['a','b','c'])"
   ]
  },
  {
   "cell_type": "code",
   "execution_count": null,
   "id": "c69c6c75",
   "metadata": {},
   "outputs": [],
   "source": [
    "# Topic: Data Cleaning\n",
    "import pandas as pd\n",
    "df = pd.DataFrame({'A':[1,None,3]})\n",
    "df = df.fillna(0)\n",
    "print(df)"
   ]
  },
  {
   "cell_type": "code",
   "execution_count": null,
   "id": "c1687f71",
   "metadata": {},
   "outputs": [],
   "source": [
    "# Topic: Algorithms\n",
    "# Bubble sort\n",
    "def bubble(arr):\n",
    " for i in range(len(arr)):\n",
    "  for j in range(0, len(arr)-i-1):\n",
    "   if arr[j]>arr[j+1]: arr[j],arr[j+1]=arr[j+1],arr[j]\n",
    "a=[5,3,8]\n",
    "bubble(a)\n",
    "print(a)"
   ]
  },
  {
   "cell_type": "code",
   "execution_count": null,
   "id": "d39785f1",
   "metadata": {},
   "outputs": [],
   "source": [
    "# Topic: Basics\n",
    "x = 10\n",
    "y = 20\n",
    "print(x + y)"
   ]
  },
  {
   "cell_type": "code",
   "execution_count": null,
   "id": "198f0cf4",
   "metadata": {},
   "outputs": [],
   "source": [
    "# Topic: Algorithms\n",
    "# Bubble sort\n",
    "def bubble(arr):\n",
    " for i in range(len(arr)):\n",
    "  for j in range(0, len(arr)-i-1):\n",
    "   if arr[j]>arr[j+1]: arr[j],arr[j+1]=arr[j+1],arr[j]\n",
    "a=[5,3,8]\n",
    "bubble(a)\n",
    "print(a)"
   ]
  },
  {
   "cell_type": "code",
   "execution_count": null,
   "id": "5b93b154",
   "metadata": {},
   "outputs": [],
   "source": [
    "# Topic: Dictionaries & Sets\n",
    "s = set([1, 2, 3, 2])\n",
    "print(s)"
   ]
  },
  {
   "cell_type": "code",
   "execution_count": null,
   "id": "76f14008",
   "metadata": {},
   "outputs": [],
   "source": [
    "# Topic: Matplotlib & Seaborn\n",
    "import seaborn as sns\n",
    "import pandas as pd\n",
    "sns.set()\n",
    "sns.histplot(pd.Series([1,2,2,3]));"
   ]
  },
  {
   "cell_type": "code",
   "execution_count": null,
   "id": "23cc1ef3",
   "metadata": {},
   "outputs": [],
   "source": [
    "# Topic: Recursion\n",
    "def fact(n): return 1 if n==0 else n*fact(n-1)\n",
    "print(fact(5))"
   ]
  },
  {
   "cell_type": "code",
   "execution_count": null,
   "id": "7dfb3730",
   "metadata": {},
   "outputs": [],
   "source": [
    "# Topic: Functions\n",
    "def greet(name='User'):\n",
    "    print(f'Hi, {name}')\n",
    "greet()"
   ]
  },
  {
   "cell_type": "code",
   "execution_count": null,
   "id": "604af2cf",
   "metadata": {},
   "outputs": [],
   "source": [
    "# Topic: JSON & CSV\n",
    "import csv\n",
    "with open('file.csv', 'w', newline='') as f:\n",
    " csv.writer(f).writerow(['a','b','c'])"
   ]
  },
  {
   "cell_type": "code",
   "execution_count": null,
   "id": "35b7959e",
   "metadata": {},
   "outputs": [],
   "source": [
    "# Topic: Pandas\n",
    "import pandas as pd\n",
    "df = pd.DataFrame({'A':[1,2],'B':[3,4]})\n",
    "print(df)"
   ]
  },
  {
   "cell_type": "code",
   "execution_count": null,
   "id": "cc34d9ec",
   "metadata": {},
   "outputs": [],
   "source": [
    "# Topic: Decorators\n",
    "def log(func):\n",
    " def wrapper():\n",
    "  print('Call')\n",
    "  func()\n",
    " return wrapper\n",
    "@log\n",
    "def say(): print('Hi')\n",
    "say()"
   ]
  },
  {
   "cell_type": "code",
   "execution_count": null,
   "id": "8d0c6f2d",
   "metadata": {},
   "outputs": [],
   "source": [
    "# Topic: JSON & CSV\n",
    "import json\n",
    "data = {'a': 1}\n",
    "print(json.dumps(data))"
   ]
  },
  {
   "cell_type": "code",
   "execution_count": null,
   "id": "77265da6",
   "metadata": {},
   "outputs": [],
   "source": [
    "# Topic: NumPy\n",
    "import numpy as np\n",
    "print(np.linspace(0, 1, 5))"
   ]
  },
  {
   "cell_type": "code",
   "execution_count": null,
   "id": "7b812346",
   "metadata": {},
   "outputs": [],
   "source": [
    "# Topic: OOP\n",
    "class Student:\n",
    "    def __init__(self, name): self.name = name\n",
    "s = Student('Fahd')\n",
    "print(s.name)"
   ]
  },
  {
   "cell_type": "code",
   "execution_count": null,
   "id": "361d852a",
   "metadata": {},
   "outputs": [],
   "source": [
    "# Topic: Functions\n",
    "def greet(name='User'):\n",
    "    print(f'Hi, {name}')\n",
    "greet()"
   ]
  },
  {
   "cell_type": "code",
   "execution_count": null,
   "id": "2dad74ae",
   "metadata": {},
   "outputs": [],
   "source": [
    "# Topic: Pandas\n",
    "import pandas as pd\n",
    "df = pd.DataFrame({'A':[1,2],'B':[3,4]})\n",
    "print(df)"
   ]
  },
  {
   "cell_type": "code",
   "execution_count": null,
   "id": "b5653142",
   "metadata": {},
   "outputs": [],
   "source": [
    "# Topic: Basics\n",
    "name = 'Fahd'\n",
    "print(f'Hello, {name}')"
   ]
  },
  {
   "cell_type": "code",
   "execution_count": null,
   "id": "753ddbf0",
   "metadata": {},
   "outputs": [],
   "source": [
    "# Topic: Loops\n",
    "for i in range(10): print(i*i)"
   ]
  },
  {
   "cell_type": "code",
   "execution_count": null,
   "id": "031bc768",
   "metadata": {},
   "outputs": [],
   "source": [
    "# Topic: Basic ML\n",
    "from sklearn.linear_model import LinearRegression\n",
    "model = LinearRegression()\n",
    "print(model)"
   ]
  },
  {
   "cell_type": "code",
   "execution_count": null,
   "id": "db1b98c9",
   "metadata": {},
   "outputs": [],
   "source": [
    "# Topic: File I/O\n",
    "with open('test.txt', 'r') as f:\n",
    "    print(f.read())"
   ]
  },
  {
   "cell_type": "code",
   "execution_count": null,
   "id": "0892c65f",
   "metadata": {},
   "outputs": [],
   "source": [
    "# Topic: Dictionaries & Sets\n",
    "s = set([1, 2, 3, 2])\n",
    "print(s)"
   ]
  },
  {
   "cell_type": "code",
   "execution_count": null,
   "id": "29fe995c",
   "metadata": {},
   "outputs": [],
   "source": [
    "# Topic: JSON & CSV\n",
    "import csv\n",
    "with open('file.csv', 'w', newline='') as f:\n",
    " csv.writer(f).writerow(['a','b','c'])"
   ]
  },
  {
   "cell_type": "code",
   "execution_count": null,
   "id": "148bb2af",
   "metadata": {},
   "outputs": [],
   "source": [
    "# Topic: Web Scraping\n",
    "import requests\n",
    "from bs4 import BeautifulSoup\n",
    "r = requests.get('https://example.com')\n",
    "soup = BeautifulSoup(r.text, 'html.parser')\n",
    "print(soup.title.text)"
   ]
  },
  {
   "cell_type": "code",
   "execution_count": null,
   "id": "fadb4002",
   "metadata": {},
   "outputs": [],
   "source": [
    "# Topic: Regex\n",
    "import re\n",
    "text = 'email: test@example.com'\n",
    "print(re.findall(r'\\S+@\\S+', text))"
   ]
  },
  {
   "cell_type": "code",
   "execution_count": null,
   "id": "c0a68256",
   "metadata": {},
   "outputs": [],
   "source": [
    "# Topic: Basics\n",
    "x = 10\n",
    "y = 20\n",
    "print(x + y)"
   ]
  },
  {
   "cell_type": "code",
   "execution_count": null,
   "id": "33c4e030",
   "metadata": {},
   "outputs": [],
   "source": [
    "# Topic: Algorithms\n",
    "# Bubble sort\n",
    "def bubble(arr):\n",
    " for i in range(len(arr)):\n",
    "  for j in range(0, len(arr)-i-1):\n",
    "   if arr[j]>arr[j+1]: arr[j],arr[j+1]=arr[j+1],arr[j]\n",
    "a=[5,3,8]\n",
    "bubble(a)\n",
    "print(a)"
   ]
  },
  {
   "cell_type": "code",
   "execution_count": null,
   "id": "ca2f04ec",
   "metadata": {},
   "outputs": [],
   "source": [
    "# Topic: Basic ML\n",
    "from sklearn.linear_model import LinearRegression\n",
    "model = LinearRegression()\n",
    "print(model)"
   ]
  },
  {
   "cell_type": "code",
   "execution_count": null,
   "id": "a2c3275b",
   "metadata": {},
   "outputs": [],
   "source": [
    "# Topic: NumPy\n",
    "import numpy as np\n",
    "print(np.linspace(0, 1, 5))"
   ]
  },
  {
   "cell_type": "code",
   "execution_count": null,
   "id": "261a654b",
   "metadata": {},
   "outputs": [],
   "source": [
    "# Topic: Decorators\n",
    "def log(func):\n",
    " def wrapper():\n",
    "  print('Call')\n",
    "  func()\n",
    " return wrapper\n",
    "@log\n",
    "def say(): print('Hi')\n",
    "say()"
   ]
  },
  {
   "cell_type": "code",
   "execution_count": null,
   "id": "5c3ed176",
   "metadata": {},
   "outputs": [],
   "source": [
    "# Topic: JSON & CSV\n",
    "import json\n",
    "data = {'a': 1}\n",
    "print(json.dumps(data))"
   ]
  },
  {
   "cell_type": "code",
   "execution_count": null,
   "id": "af01fc82",
   "metadata": {},
   "outputs": [],
   "source": [
    "# Topic: OOP\n",
    "class Student:\n",
    "    def __init__(self, name): self.name = name\n",
    "s = Student('Fahd')\n",
    "print(s.name)"
   ]
  },
  {
   "cell_type": "code",
   "execution_count": null,
   "id": "a39e1631",
   "metadata": {},
   "outputs": [],
   "source": [
    "# Topic: Mini Projects\n",
    "# Calculator\n",
    "def calc(a,b,op): return eval(f'{a}{op}{b}')\n",
    "print(calc(5,2,'+'))"
   ]
  },
  {
   "cell_type": "code",
   "execution_count": null,
   "id": "e3b9462e",
   "metadata": {},
   "outputs": [],
   "source": [
    "# Topic: Algorithms\n",
    "# Bubble sort\n",
    "def bubble(arr):\n",
    " for i in range(len(arr)):\n",
    "  for j in range(0, len(arr)-i-1):\n",
    "   if arr[j]>arr[j+1]: arr[j],arr[j+1]=arr[j+1],arr[j]\n",
    "a=[5,3,8]\n",
    "bubble(a)\n",
    "print(a)"
   ]
  },
  {
   "cell_type": "code",
   "execution_count": null,
   "id": "6eac21f8",
   "metadata": {},
   "outputs": [],
   "source": [
    "# Topic: Algorithms\n",
    "# Bubble sort\n",
    "def bubble(arr):\n",
    " for i in range(len(arr)):\n",
    "  for j in range(0, len(arr)-i-1):\n",
    "   if arr[j]>arr[j+1]: arr[j],arr[j+1]=arr[j+1],arr[j]\n",
    "a=[5,3,8]\n",
    "bubble(a)\n",
    "print(a)"
   ]
  },
  {
   "cell_type": "code",
   "execution_count": null,
   "id": "5475ca0b",
   "metadata": {},
   "outputs": [],
   "source": [
    "# Topic: Algorithms\n",
    "# Bubble sort\n",
    "def bubble(arr):\n",
    " for i in range(len(arr)):\n",
    "  for j in range(0, len(arr)-i-1):\n",
    "   if arr[j]>arr[j+1]: arr[j],arr[j+1]=arr[j+1],arr[j]\n",
    "a=[5,3,8]\n",
    "bubble(a)\n",
    "print(a)"
   ]
  },
  {
   "cell_type": "code",
   "execution_count": null,
   "id": "547f35b6",
   "metadata": {},
   "outputs": [],
   "source": [
    "# Topic: Loops\n",
    "for i in range(10): print(i*i)"
   ]
  },
  {
   "cell_type": "code",
   "execution_count": null,
   "id": "88443f2d",
   "metadata": {},
   "outputs": [],
   "source": [
    "# Topic: Pandas\n",
    "import pandas as pd\n",
    "df = pd.DataFrame({'A':[1,2],'B':[3,4]})\n",
    "print(df)"
   ]
  },
  {
   "cell_type": "code",
   "execution_count": null,
   "id": "0544ffc1",
   "metadata": {},
   "outputs": [],
   "source": [
    "# Topic: File I/O\n",
    "with open('test.txt', 'r') as f:\n",
    "    print(f.read())"
   ]
  },
  {
   "cell_type": "code",
   "execution_count": null,
   "id": "5168f112",
   "metadata": {},
   "outputs": [],
   "source": [
    "# Topic: Data Cleaning\n",
    "import pandas as pd\n",
    "df = pd.DataFrame({'A':[1,None,3]})\n",
    "df = df.fillna(0)\n",
    "print(df)"
   ]
  },
  {
   "cell_type": "code",
   "execution_count": null,
   "id": "cbb4aed8",
   "metadata": {},
   "outputs": [],
   "source": [
    "# Topic: NumPy\n",
    "import numpy as np\n",
    "print(np.linspace(0, 1, 5))"
   ]
  },
  {
   "cell_type": "code",
   "execution_count": null,
   "id": "1d8a952b",
   "metadata": {},
   "outputs": [],
   "source": [
    "# Topic: Regex\n",
    "import re\n",
    "text = 'email: test@example.com'\n",
    "print(re.findall(r'\\S+@\\S+', text))"
   ]
  },
  {
   "cell_type": "code",
   "execution_count": null,
   "id": "ae6afa1e",
   "metadata": {},
   "outputs": [],
   "source": [
    "# Topic: OOP\n",
    "class Student:\n",
    "    def __init__(self, name): self.name = name\n",
    "s = Student('Fahd')\n",
    "print(s.name)"
   ]
  },
  {
   "cell_type": "code",
   "execution_count": null,
   "id": "b57d79f3",
   "metadata": {},
   "outputs": [],
   "source": [
    "# Topic: Dictionaries & Sets\n",
    "s = set([1, 2, 3, 2])\n",
    "print(s)"
   ]
  },
  {
   "cell_type": "code",
   "execution_count": null,
   "id": "5f935ec1",
   "metadata": {},
   "outputs": [],
   "source": [
    "# Topic: Matplotlib & Seaborn\n",
    "import matplotlib.pyplot as plt\n",
    "plt.plot([1,2],[3,4])\n",
    "plt.show()"
   ]
  },
  {
   "cell_type": "code",
   "execution_count": null,
   "id": "81e3ae25",
   "metadata": {},
   "outputs": [],
   "source": [
    "# Topic: Functions\n",
    "def greet(name='User'):\n",
    "    print(f'Hi, {name}')\n",
    "greet()"
   ]
  },
  {
   "cell_type": "code",
   "execution_count": null,
   "id": "43182651",
   "metadata": {},
   "outputs": [],
   "source": [
    "# Topic: Dictionaries & Sets\n",
    "s = set([1, 2, 3, 2])\n",
    "print(s)"
   ]
  },
  {
   "cell_type": "code",
   "execution_count": null,
   "id": "fa7ee594",
   "metadata": {},
   "outputs": [],
   "source": [
    "# Topic: Decorators\n",
    "def log(func):\n",
    " def wrapper():\n",
    "  print('Call')\n",
    "  func()\n",
    " return wrapper\n",
    "@log\n",
    "def say(): print('Hi')\n",
    "say()"
   ]
  },
  {
   "cell_type": "code",
   "execution_count": null,
   "id": "3a22c31a",
   "metadata": {},
   "outputs": [],
   "source": [
    "# Topic: JSON & CSV\n",
    "import csv\n",
    "with open('file.csv', 'w', newline='') as f:\n",
    " csv.writer(f).writerow(['a','b','c'])"
   ]
  },
  {
   "cell_type": "code",
   "execution_count": null,
   "id": "2a51a003",
   "metadata": {},
   "outputs": [],
   "source": [
    "# Topic: Pandas\n",
    "import pandas as pd\n",
    "df = pd.DataFrame({'A':[1,2],'B':[3,4]})\n",
    "print(df)"
   ]
  },
  {
   "cell_type": "code",
   "execution_count": null,
   "id": "5d1cd5e2",
   "metadata": {},
   "outputs": [],
   "source": [
    "# Topic: Basics\n",
    "name = 'Fahd'\n",
    "print(f'Hello, {name}')"
   ]
  },
  {
   "cell_type": "code",
   "execution_count": null,
   "id": "ce057724",
   "metadata": {},
   "outputs": [],
   "source": [
    "# Topic: Data Cleaning\n",
    "import pandas as pd\n",
    "df = pd.DataFrame({'A':[1,None,3]})\n",
    "df = df.fillna(0)\n",
    "print(df)"
   ]
  },
  {
   "cell_type": "code",
   "execution_count": null,
   "id": "13323e49",
   "metadata": {},
   "outputs": [],
   "source": [
    "# Topic: OOP\n",
    "class Student:\n",
    "    def __init__(self, name): self.name = name\n",
    "s = Student('Fahd')\n",
    "print(s.name)"
   ]
  },
  {
   "cell_type": "code",
   "execution_count": null,
   "id": "aa8ac1f9",
   "metadata": {},
   "outputs": [],
   "source": [
    "# Topic: Data Cleaning\n",
    "import pandas as pd\n",
    "df = pd.DataFrame({'A':[1,None,3]})\n",
    "df = df.fillna(0)\n",
    "print(df)"
   ]
  },
  {
   "cell_type": "code",
   "execution_count": null,
   "id": "c2adb6ad",
   "metadata": {},
   "outputs": [],
   "source": [
    "# Topic: Basic ML\n",
    "from sklearn.linear_model import LinearRegression\n",
    "model = LinearRegression()\n",
    "print(model)"
   ]
  },
  {
   "cell_type": "code",
   "execution_count": null,
   "id": "7159caf2",
   "metadata": {},
   "outputs": [],
   "source": [
    "# Topic: Recursion\n",
    "def fact(n): return 1 if n==0 else n*fact(n-1)\n",
    "print(fact(5))"
   ]
  },
  {
   "cell_type": "code",
   "execution_count": null,
   "id": "c1520680",
   "metadata": {},
   "outputs": [],
   "source": [
    "# Topic: Lists & Tuples\n",
    "t = (1, 2, 3)\n",
    "print(t[0])"
   ]
  },
  {
   "cell_type": "code",
   "execution_count": null,
   "id": "d24da84c",
   "metadata": {},
   "outputs": [],
   "source": [
    "# Topic: Algorithms\n",
    "# Bubble sort\n",
    "def bubble(arr):\n",
    " for i in range(len(arr)):\n",
    "  for j in range(0, len(arr)-i-1):\n",
    "   if arr[j]>arr[j+1]: arr[j],arr[j+1]=arr[j+1],arr[j]\n",
    "a=[5,3,8]\n",
    "bubble(a)\n",
    "print(a)"
   ]
  },
  {
   "cell_type": "code",
   "execution_count": null,
   "id": "2ac5ea11",
   "metadata": {},
   "outputs": [],
   "source": [
    "# Topic: Web Scraping\n",
    "import requests\n",
    "from bs4 import BeautifulSoup\n",
    "r = requests.get('https://example.com')\n",
    "soup = BeautifulSoup(r.text, 'html.parser')\n",
    "print(soup.title.text)"
   ]
  },
  {
   "cell_type": "code",
   "execution_count": null,
   "id": "119fd8a2",
   "metadata": {},
   "outputs": [],
   "source": [
    "# Topic: Lists & Tuples\n",
    "lst = [1, 2, 3]\n",
    "lst.append(4)\n",
    "print(lst)"
   ]
  },
  {
   "cell_type": "code",
   "execution_count": null,
   "id": "0291ffcc",
   "metadata": {},
   "outputs": [],
   "source": [
    "# Topic: Recursion\n",
    "def fact(n): return 1 if n==0 else n*fact(n-1)\n",
    "print(fact(5))"
   ]
  },
  {
   "cell_type": "code",
   "execution_count": null,
   "id": "d994ac1b",
   "metadata": {},
   "outputs": [],
   "source": [
    "# Topic: Pandas\n",
    "import pandas as pd\n",
    "df = pd.read_csv('file.csv')\n",
    "print(df.head())"
   ]
  },
  {
   "cell_type": "code",
   "execution_count": null,
   "id": "e757ac9b",
   "metadata": {},
   "outputs": [],
   "source": [
    "# Topic: Recursion\n",
    "def fact(n): return 1 if n==0 else n*fact(n-1)\n",
    "print(fact(5))"
   ]
  },
  {
   "cell_type": "code",
   "execution_count": null,
   "id": "1891f19d",
   "metadata": {},
   "outputs": [],
   "source": [
    "# Topic: Basics\n",
    "x = 10\n",
    "y = 20\n",
    "print(x + y)"
   ]
  },
  {
   "cell_type": "code",
   "execution_count": null,
   "id": "fdf67775",
   "metadata": {},
   "outputs": [],
   "source": [
    "# Topic: OOP\n",
    "class Student:\n",
    "    def __init__(self, name): self.name = name\n",
    "s = Student('Fahd')\n",
    "print(s.name)"
   ]
  },
  {
   "cell_type": "code",
   "execution_count": null,
   "id": "63187e68",
   "metadata": {},
   "outputs": [],
   "source": [
    "# Topic: Data Cleaning\n",
    "import pandas as pd\n",
    "df = pd.DataFrame({'A':[1,None,3]})\n",
    "df = df.fillna(0)\n",
    "print(df)"
   ]
  },
  {
   "cell_type": "code",
   "execution_count": null,
   "id": "d11100bd",
   "metadata": {},
   "outputs": [],
   "source": [
    "# Topic: JSON & CSV\n",
    "import json\n",
    "data = {'a': 1}\n",
    "print(json.dumps(data))"
   ]
  },
  {
   "cell_type": "code",
   "execution_count": null,
   "id": "5514af76",
   "metadata": {},
   "outputs": [],
   "source": [
    "# Topic: Basic ML\n",
    "from sklearn.linear_model import LinearRegression\n",
    "model = LinearRegression()\n",
    "print(model)"
   ]
  },
  {
   "cell_type": "code",
   "execution_count": null,
   "id": "bc6e7c13",
   "metadata": {},
   "outputs": [],
   "source": [
    "# Topic: Pandas\n",
    "import pandas as pd\n",
    "df = pd.read_csv('file.csv')\n",
    "print(df.head())"
   ]
  },
  {
   "cell_type": "code",
   "execution_count": null,
   "id": "be305505",
   "metadata": {},
   "outputs": [],
   "source": [
    "# Topic: Lists & Tuples\n",
    "lst = [1, 2, 3]\n",
    "lst.append(4)\n",
    "print(lst)"
   ]
  },
  {
   "cell_type": "code",
   "execution_count": null,
   "id": "bfcd5f61",
   "metadata": {},
   "outputs": [],
   "source": [
    "# Topic: Web Scraping\n",
    "import requests\n",
    "from bs4 import BeautifulSoup\n",
    "r = requests.get('https://example.com')\n",
    "soup = BeautifulSoup(r.text, 'html.parser')\n",
    "print(soup.title.text)"
   ]
  },
  {
   "cell_type": "code",
   "execution_count": null,
   "id": "8793c46c",
   "metadata": {},
   "outputs": [],
   "source": [
    "# Topic: Matplotlib & Seaborn\n",
    "import matplotlib.pyplot as plt\n",
    "plt.plot([1,2],[3,4])\n",
    "plt.show()"
   ]
  },
  {
   "cell_type": "code",
   "execution_count": null,
   "id": "b7e96030",
   "metadata": {},
   "outputs": [],
   "source": [
    "# Topic: Decorators\n",
    "def log(func):\n",
    " def wrapper():\n",
    "  print('Call')\n",
    "  func()\n",
    " return wrapper\n",
    "@log\n",
    "def say(): print('Hi')\n",
    "say()"
   ]
  },
  {
   "cell_type": "code",
   "execution_count": null,
   "id": "a4a33b63",
   "metadata": {},
   "outputs": [],
   "source": [
    "# Topic: Basics\n",
    "x = 10\n",
    "y = 20\n",
    "print(x + y)"
   ]
  },
  {
   "cell_type": "code",
   "execution_count": null,
   "id": "d9dbdb5e",
   "metadata": {},
   "outputs": [],
   "source": [
    "# Topic: Pandas\n",
    "import pandas as pd\n",
    "df = pd.DataFrame({'A':[1,2],'B':[3,4]})\n",
    "print(df)"
   ]
  },
  {
   "cell_type": "code",
   "execution_count": null,
   "id": "a33a6cc4",
   "metadata": {},
   "outputs": [],
   "source": [
    "# Topic: JSON & CSV\n",
    "import csv\n",
    "with open('file.csv', 'w', newline='') as f:\n",
    " csv.writer(f).writerow(['a','b','c'])"
   ]
  },
  {
   "cell_type": "code",
   "execution_count": null,
   "id": "c909ae88",
   "metadata": {},
   "outputs": [],
   "source": [
    "# Topic: CLI Tools\n",
    "import sys\n",
    "print(f'Arguments: {sys.argv}')"
   ]
  },
  {
   "cell_type": "code",
   "execution_count": null,
   "id": "8536c806",
   "metadata": {},
   "outputs": [],
   "source": [
    "# Topic: Web Scraping\n",
    "import requests\n",
    "from bs4 import BeautifulSoup\n",
    "r = requests.get('https://example.com')\n",
    "soup = BeautifulSoup(r.text, 'html.parser')\n",
    "print(soup.title.text)"
   ]
  },
  {
   "cell_type": "code",
   "execution_count": null,
   "id": "f6651544",
   "metadata": {},
   "outputs": [],
   "source": [
    "# Topic: JSON & CSV\n",
    "import csv\n",
    "with open('file.csv', 'w', newline='') as f:\n",
    " csv.writer(f).writerow(['a','b','c'])"
   ]
  },
  {
   "cell_type": "code",
   "execution_count": null,
   "id": "b7ca3674",
   "metadata": {},
   "outputs": [],
   "source": [
    "# Topic: Mini Projects\n",
    "# Palindrome check\n",
    "def is_pal(s): return s == s[::-1]\n",
    "print(is_pal('madam'))"
   ]
  },
  {
   "cell_type": "code",
   "execution_count": null,
   "id": "ba735092",
   "metadata": {},
   "outputs": [],
   "source": [
    "# Topic: Decorators\n",
    "def log(func):\n",
    " def wrapper():\n",
    "  print('Call')\n",
    "  func()\n",
    " return wrapper\n",
    "@log\n",
    "def say(): print('Hi')\n",
    "say()"
   ]
  },
  {
   "cell_type": "code",
   "execution_count": null,
   "id": "82b94b58",
   "metadata": {},
   "outputs": [],
   "source": [
    "# Topic: Basic ML\n",
    "from sklearn.linear_model import LinearRegression\n",
    "model = LinearRegression()\n",
    "print(model)"
   ]
  },
  {
   "cell_type": "code",
   "execution_count": null,
   "id": "5b6ea17a",
   "metadata": {},
   "outputs": [],
   "source": [
    "# Topic: NumPy\n",
    "import numpy as np\n",
    "a = np.array([1, 2, 3])\n",
    "print(a + 5)"
   ]
  },
  {
   "cell_type": "code",
   "execution_count": null,
   "id": "66095691",
   "metadata": {},
   "outputs": [],
   "source": [
    "# Topic: Basics\n",
    "name = 'Fahd'\n",
    "print(f'Hello, {name}')"
   ]
  },
  {
   "cell_type": "code",
   "execution_count": null,
   "id": "48d509a8",
   "metadata": {},
   "outputs": [],
   "source": [
    "# Topic: File I/O\n",
    "with open('test.txt', 'w') as f:\n",
    "    f.write('Hello World')"
   ]
  },
  {
   "cell_type": "code",
   "execution_count": null,
   "id": "384a4319",
   "metadata": {},
   "outputs": [],
   "source": [
    "# Topic: OOP\n",
    "class Student:\n",
    "    def __init__(self, name): self.name = name\n",
    "s = Student('Fahd')\n",
    "print(s.name)"
   ]
  },
  {
   "cell_type": "code",
   "execution_count": null,
   "id": "48747512",
   "metadata": {},
   "outputs": [],
   "source": [
    "# Topic: Matplotlib & Seaborn\n",
    "import matplotlib.pyplot as plt\n",
    "plt.plot([1,2],[3,4])\n",
    "plt.show()"
   ]
  },
  {
   "cell_type": "code",
   "execution_count": null,
   "id": "1cecbc08",
   "metadata": {},
   "outputs": [],
   "source": [
    "# Topic: JSON & CSV\n",
    "import csv\n",
    "with open('file.csv', 'w', newline='') as f:\n",
    " csv.writer(f).writerow(['a','b','c'])"
   ]
  },
  {
   "cell_type": "code",
   "execution_count": null,
   "id": "dd870b4d",
   "metadata": {},
   "outputs": [],
   "source": [
    "# Topic: Data Cleaning\n",
    "import pandas as pd\n",
    "df = pd.DataFrame({'A':[1,None,3]})\n",
    "df = df.fillna(0)\n",
    "print(df)"
   ]
  },
  {
   "cell_type": "code",
   "execution_count": null,
   "id": "4f95e5c0",
   "metadata": {},
   "outputs": [],
   "source": [
    "# Topic: Dictionaries & Sets\n",
    "s = set([1, 2, 3, 2])\n",
    "print(s)"
   ]
  },
  {
   "cell_type": "code",
   "execution_count": null,
   "id": "5e753533",
   "metadata": {},
   "outputs": [],
   "source": [
    "# Topic: Basic ML\n",
    "from sklearn.linear_model import LinearRegression\n",
    "model = LinearRegression()\n",
    "print(model)"
   ]
  },
  {
   "cell_type": "code",
   "execution_count": null,
   "id": "5af87ff9",
   "metadata": {},
   "outputs": [],
   "source": [
    "# Topic: Dictionaries & Sets\n",
    "s = set([1, 2, 3, 2])\n",
    "print(s)"
   ]
  },
  {
   "cell_type": "code",
   "execution_count": null,
   "id": "f7e81745",
   "metadata": {},
   "outputs": [],
   "source": [
    "# Topic: Mini Projects\n",
    "# Palindrome check\n",
    "def is_pal(s): return s == s[::-1]\n",
    "print(is_pal('madam'))"
   ]
  },
  {
   "cell_type": "code",
   "execution_count": null,
   "id": "ac2e6409",
   "metadata": {},
   "outputs": [],
   "source": [
    "# Topic: Loops\n",
    "for i in range(10): print(i*i)"
   ]
  },
  {
   "cell_type": "code",
   "execution_count": null,
   "id": "37602c14",
   "metadata": {},
   "outputs": [],
   "source": [
    "# Topic: JSON & CSV\n",
    "import csv\n",
    "with open('file.csv', 'w', newline='') as f:\n",
    " csv.writer(f).writerow(['a','b','c'])"
   ]
  },
  {
   "cell_type": "code",
   "execution_count": null,
   "id": "2dfe4f33",
   "metadata": {},
   "outputs": [],
   "source": [
    "# Topic: Decorators\n",
    "def log(func):\n",
    " def wrapper():\n",
    "  print('Call')\n",
    "  func()\n",
    " return wrapper\n",
    "@log\n",
    "def say(): print('Hi')\n",
    "say()"
   ]
  },
  {
   "cell_type": "code",
   "execution_count": null,
   "id": "cb0c7e7f",
   "metadata": {},
   "outputs": [],
   "source": [
    "# Topic: JSON & CSV\n",
    "import json\n",
    "data = {'a': 1}\n",
    "print(json.dumps(data))"
   ]
  },
  {
   "cell_type": "code",
   "execution_count": null,
   "id": "bbd3c389",
   "metadata": {},
   "outputs": [],
   "source": [
    "# Topic: OOP\n",
    "class Student:\n",
    "    def __init__(self, name): self.name = name\n",
    "s = Student('Fahd')\n",
    "print(s.name)"
   ]
  },
  {
   "cell_type": "code",
   "execution_count": null,
   "id": "78b027d5",
   "metadata": {},
   "outputs": [],
   "source": [
    "# Topic: Decorators\n",
    "def log(func):\n",
    " def wrapper():\n",
    "  print('Call')\n",
    "  func()\n",
    " return wrapper\n",
    "@log\n",
    "def say(): print('Hi')\n",
    "say()"
   ]
  },
  {
   "cell_type": "code",
   "execution_count": null,
   "id": "77c5d4b4",
   "metadata": {},
   "outputs": [],
   "source": [
    "# Topic: Dictionaries & Sets\n",
    "s = set([1, 2, 3, 2])\n",
    "print(s)"
   ]
  },
  {
   "cell_type": "code",
   "execution_count": null,
   "id": "b8cf94df",
   "metadata": {},
   "outputs": [],
   "source": [
    "# Topic: Basics\n",
    "name = 'Fahd'\n",
    "print(f'Hello, {name}')"
   ]
  },
  {
   "cell_type": "code",
   "execution_count": null,
   "id": "dd5811b2",
   "metadata": {},
   "outputs": [],
   "source": [
    "# Topic: NumPy\n",
    "import numpy as np\n",
    "print(np.linspace(0, 1, 5))"
   ]
  },
  {
   "cell_type": "code",
   "execution_count": null,
   "id": "a892a898",
   "metadata": {},
   "outputs": [],
   "source": [
    "# Topic: Basic ML\n",
    "from sklearn.linear_model import LinearRegression\n",
    "model = LinearRegression()\n",
    "print(model)"
   ]
  },
  {
   "cell_type": "code",
   "execution_count": null,
   "id": "6d4b5f50",
   "metadata": {},
   "outputs": [],
   "source": [
    "# Topic: Web Scraping\n",
    "import requests\n",
    "from bs4 import BeautifulSoup\n",
    "r = requests.get('https://example.com')\n",
    "soup = BeautifulSoup(r.text, 'html.parser')\n",
    "print(soup.title.text)"
   ]
  },
  {
   "cell_type": "code",
   "execution_count": null,
   "id": "c3613e5c",
   "metadata": {},
   "outputs": [],
   "source": [
    "# Topic: Loops\n",
    "while True:\n",
    "    print('Break')\n",
    "    break"
   ]
  },
  {
   "cell_type": "code",
   "execution_count": null,
   "id": "79ebfbad",
   "metadata": {},
   "outputs": [],
   "source": [
    "# Topic: Regex\n",
    "import re\n",
    "text = 'email: test@example.com'\n",
    "print(re.findall(r'\\S+@\\S+', text))"
   ]
  },
  {
   "cell_type": "code",
   "execution_count": null,
   "id": "28de7fe3",
   "metadata": {},
   "outputs": [],
   "source": [
    "# Topic: Data Cleaning\n",
    "import pandas as pd\n",
    "df = pd.DataFrame({'A':[1,None,3]})\n",
    "df = df.fillna(0)\n",
    "print(df)"
   ]
  },
  {
   "cell_type": "code",
   "execution_count": null,
   "id": "f3c8bf24",
   "metadata": {},
   "outputs": [],
   "source": [
    "# Topic: OOP\n",
    "class Student:\n",
    "    def __init__(self, name): self.name = name\n",
    "s = Student('Fahd')\n",
    "print(s.name)"
   ]
  },
  {
   "cell_type": "code",
   "execution_count": null,
   "id": "11688897",
   "metadata": {},
   "outputs": [],
   "source": [
    "# Topic: Pandas\n",
    "import pandas as pd\n",
    "df = pd.read_csv('file.csv')\n",
    "print(df.head())"
   ]
  },
  {
   "cell_type": "code",
   "execution_count": null,
   "id": "8833a215",
   "metadata": {},
   "outputs": [],
   "source": [
    "# Topic: Recursion\n",
    "def fact(n): return 1 if n==0 else n*fact(n-1)\n",
    "print(fact(5))"
   ]
  },
  {
   "cell_type": "code",
   "execution_count": null,
   "id": "dc7bd963",
   "metadata": {},
   "outputs": [],
   "source": [
    "# Topic: Mini Projects\n",
    "# Calculator\n",
    "def calc(a,b,op): return eval(f'{a}{op}{b}')\n",
    "print(calc(5,2,'+'))"
   ]
  },
  {
   "cell_type": "code",
   "execution_count": null,
   "id": "afc818a2",
   "metadata": {},
   "outputs": [],
   "source": [
    "# Topic: Algorithms\n",
    "# Bubble sort\n",
    "def bubble(arr):\n",
    " for i in range(len(arr)):\n",
    "  for j in range(0, len(arr)-i-1):\n",
    "   if arr[j]>arr[j+1]: arr[j],arr[j+1]=arr[j+1],arr[j]\n",
    "a=[5,3,8]\n",
    "bubble(a)\n",
    "print(a)"
   ]
  },
  {
   "cell_type": "code",
   "execution_count": null,
   "id": "aec462d6",
   "metadata": {},
   "outputs": [],
   "source": [
    "# Topic: Algorithms\n",
    "# Bubble sort\n",
    "def bubble(arr):\n",
    " for i in range(len(arr)):\n",
    "  for j in range(0, len(arr)-i-1):\n",
    "   if arr[j]>arr[j+1]: arr[j],arr[j+1]=arr[j+1],arr[j]\n",
    "a=[5,3,8]\n",
    "bubble(a)\n",
    "print(a)"
   ]
  },
  {
   "cell_type": "code",
   "execution_count": null,
   "id": "abc58bb9",
   "metadata": {},
   "outputs": [],
   "source": [
    "# Topic: Web Scraping\n",
    "import requests\n",
    "from bs4 import BeautifulSoup\n",
    "r = requests.get('https://example.com')\n",
    "soup = BeautifulSoup(r.text, 'html.parser')\n",
    "print(soup.title.text)"
   ]
  },
  {
   "cell_type": "code",
   "execution_count": null,
   "id": "c1ba9610",
   "metadata": {},
   "outputs": [],
   "source": [
    "# Topic: Basics\n",
    "x = 10\n",
    "y = 20\n",
    "print(x + y)"
   ]
  },
  {
   "cell_type": "code",
   "execution_count": null,
   "id": "7fdebd6c",
   "metadata": {},
   "outputs": [],
   "source": [
    "# Topic: CLI Tools\n",
    "import sys\n",
    "print(f'Arguments: {sys.argv}')"
   ]
  },
  {
   "cell_type": "code",
   "execution_count": null,
   "id": "cd1c94bf",
   "metadata": {},
   "outputs": [],
   "source": [
    "# Topic: File I/O\n",
    "with open('test.txt', 'w') as f:\n",
    "    f.write('Hello World')"
   ]
  },
  {
   "cell_type": "code",
   "execution_count": null,
   "id": "de43a506",
   "metadata": {},
   "outputs": [],
   "source": [
    "# Topic: Algorithms\n",
    "# Bubble sort\n",
    "def bubble(arr):\n",
    " for i in range(len(arr)):\n",
    "  for j in range(0, len(arr)-i-1):\n",
    "   if arr[j]>arr[j+1]: arr[j],arr[j+1]=arr[j+1],arr[j]\n",
    "a=[5,3,8]\n",
    "bubble(a)\n",
    "print(a)"
   ]
  },
  {
   "cell_type": "code",
   "execution_count": null,
   "id": "cc23092e",
   "metadata": {},
   "outputs": [],
   "source": [
    "# Topic: Lists & Tuples\n",
    "t = (1, 2, 3)\n",
    "print(t[0])"
   ]
  },
  {
   "cell_type": "code",
   "execution_count": null,
   "id": "06af2482",
   "metadata": {},
   "outputs": [],
   "source": [
    "# Topic: Functions\n",
    "def greet(name='User'):\n",
    "    print(f'Hi, {name}')\n",
    "greet()"
   ]
  },
  {
   "cell_type": "code",
   "execution_count": null,
   "id": "72378d9a",
   "metadata": {},
   "outputs": [],
   "source": [
    "# Topic: Data Cleaning\n",
    "import pandas as pd\n",
    "df = pd.DataFrame({'A':[1,None,3]})\n",
    "df = df.fillna(0)\n",
    "print(df)"
   ]
  },
  {
   "cell_type": "code",
   "execution_count": null,
   "id": "1fdf7fce",
   "metadata": {},
   "outputs": [],
   "source": [
    "# Topic: Data Cleaning\n",
    "import pandas as pd\n",
    "df = pd.DataFrame({'A':[1,None,3]})\n",
    "df = df.fillna(0)\n",
    "print(df)"
   ]
  },
  {
   "cell_type": "code",
   "execution_count": null,
   "id": "4d32b7c4",
   "metadata": {},
   "outputs": [],
   "source": [
    "# Topic: Basic ML\n",
    "from sklearn.linear_model import LinearRegression\n",
    "model = LinearRegression()\n",
    "print(model)"
   ]
  },
  {
   "cell_type": "code",
   "execution_count": null,
   "id": "e26096cf",
   "metadata": {},
   "outputs": [],
   "source": [
    "# Topic: Data Cleaning\n",
    "import pandas as pd\n",
    "df = pd.DataFrame({'A':[1,None,3]})\n",
    "df = df.fillna(0)\n",
    "print(df)"
   ]
  },
  {
   "cell_type": "code",
   "execution_count": null,
   "id": "3539d2d8",
   "metadata": {},
   "outputs": [],
   "source": [
    "# Topic: Recursion\n",
    "def fact(n): return 1 if n==0 else n*fact(n-1)\n",
    "print(fact(5))"
   ]
  },
  {
   "cell_type": "code",
   "execution_count": null,
   "id": "85ea043c",
   "metadata": {},
   "outputs": [],
   "source": [
    "# Topic: Basic ML\n",
    "from sklearn.linear_model import LinearRegression\n",
    "model = LinearRegression()\n",
    "print(model)"
   ]
  },
  {
   "cell_type": "code",
   "execution_count": null,
   "id": "b062b653",
   "metadata": {},
   "outputs": [],
   "source": [
    "# Topic: NumPy\n",
    "import numpy as np\n",
    "print(np.linspace(0, 1, 5))"
   ]
  },
  {
   "cell_type": "code",
   "execution_count": null,
   "id": "4cb1891d",
   "metadata": {},
   "outputs": [],
   "source": [
    "# Topic: OOP\n",
    "class Student:\n",
    "    def __init__(self, name): self.name = name\n",
    "s = Student('Fahd')\n",
    "print(s.name)"
   ]
  },
  {
   "cell_type": "code",
   "execution_count": null,
   "id": "16bb8db9",
   "metadata": {},
   "outputs": [],
   "source": [
    "# Topic: Pandas\n",
    "import pandas as pd\n",
    "df = pd.DataFrame({'A':[1,2],'B':[3,4]})\n",
    "print(df)"
   ]
  },
  {
   "cell_type": "code",
   "execution_count": null,
   "id": "462f5fa3",
   "metadata": {},
   "outputs": [],
   "source": [
    "# Topic: Functions\n",
    "def square(x): return x*x\n",
    "print(square(5))"
   ]
  },
  {
   "cell_type": "code",
   "execution_count": null,
   "id": "7144c357",
   "metadata": {},
   "outputs": [],
   "source": [
    "# Topic: Basic ML\n",
    "from sklearn.linear_model import LinearRegression\n",
    "model = LinearRegression()\n",
    "print(model)"
   ]
  },
  {
   "cell_type": "code",
   "execution_count": null,
   "id": "d669012f",
   "metadata": {},
   "outputs": [],
   "source": [
    "# Topic: Data Cleaning\n",
    "import pandas as pd\n",
    "df = pd.DataFrame({'A':[1,None,3]})\n",
    "df = df.fillna(0)\n",
    "print(df)"
   ]
  },
  {
   "cell_type": "code",
   "execution_count": null,
   "id": "8224ed2a",
   "metadata": {},
   "outputs": [],
   "source": [
    "# Topic: Decorators\n",
    "def log(func):\n",
    " def wrapper():\n",
    "  print('Call')\n",
    "  func()\n",
    " return wrapper\n",
    "@log\n",
    "def say(): print('Hi')\n",
    "say()"
   ]
  },
  {
   "cell_type": "code",
   "execution_count": null,
   "id": "6e25aa06",
   "metadata": {},
   "outputs": [],
   "source": [
    "# Topic: File I/O\n",
    "with open('test.txt', 'r') as f:\n",
    "    print(f.read())"
   ]
  },
  {
   "cell_type": "code",
   "execution_count": null,
   "id": "2350f638",
   "metadata": {},
   "outputs": [],
   "source": [
    "# Topic: Mini Projects\n",
    "# Palindrome check\n",
    "def is_pal(s): return s == s[::-1]\n",
    "print(is_pal('madam'))"
   ]
  },
  {
   "cell_type": "code",
   "execution_count": null,
   "id": "1f3f7221",
   "metadata": {},
   "outputs": [],
   "source": [
    "# Topic: JSON & CSV\n",
    "import csv\n",
    "with open('file.csv', 'w', newline='') as f:\n",
    " csv.writer(f).writerow(['a','b','c'])"
   ]
  },
  {
   "cell_type": "code",
   "execution_count": null,
   "id": "f5b07d98",
   "metadata": {},
   "outputs": [],
   "source": [
    "# Topic: OOP\n",
    "class Student:\n",
    "    def __init__(self, name): self.name = name\n",
    "s = Student('Fahd')\n",
    "print(s.name)"
   ]
  },
  {
   "cell_type": "code",
   "execution_count": null,
   "id": "a2630da9",
   "metadata": {},
   "outputs": [],
   "source": [
    "# Topic: Loops\n",
    "while True:\n",
    "    print('Break')\n",
    "    break"
   ]
  },
  {
   "cell_type": "code",
   "execution_count": null,
   "id": "fc9ee624",
   "metadata": {},
   "outputs": [],
   "source": [
    "# Topic: Web Scraping\n",
    "import requests\n",
    "from bs4 import BeautifulSoup\n",
    "r = requests.get('https://example.com')\n",
    "soup = BeautifulSoup(r.text, 'html.parser')\n",
    "print(soup.title.text)"
   ]
  },
  {
   "cell_type": "code",
   "execution_count": null,
   "id": "2d88ca32",
   "metadata": {},
   "outputs": [],
   "source": [
    "# Topic: JSON & CSV\n",
    "import csv\n",
    "with open('file.csv', 'w', newline='') as f:\n",
    " csv.writer(f).writerow(['a','b','c'])"
   ]
  },
  {
   "cell_type": "code",
   "execution_count": null,
   "id": "93c9a682",
   "metadata": {},
   "outputs": [],
   "source": [
    "# Topic: Recursion\n",
    "def fact(n): return 1 if n==0 else n*fact(n-1)\n",
    "print(fact(5))"
   ]
  },
  {
   "cell_type": "code",
   "execution_count": null,
   "id": "48c14b7c",
   "metadata": {},
   "outputs": [],
   "source": [
    "# Topic: Basic ML\n",
    "from sklearn.linear_model import LinearRegression\n",
    "model = LinearRegression()\n",
    "print(model)"
   ]
  },
  {
   "cell_type": "code",
   "execution_count": null,
   "id": "ba6807d8",
   "metadata": {},
   "outputs": [],
   "source": [
    "# Topic: Algorithms\n",
    "# Bubble sort\n",
    "def bubble(arr):\n",
    " for i in range(len(arr)):\n",
    "  for j in range(0, len(arr)-i-1):\n",
    "   if arr[j]>arr[j+1]: arr[j],arr[j+1]=arr[j+1],arr[j]\n",
    "a=[5,3,8]\n",
    "bubble(a)\n",
    "print(a)"
   ]
  },
  {
   "cell_type": "code",
   "execution_count": null,
   "id": "d316fdd5",
   "metadata": {},
   "outputs": [],
   "source": [
    "# Topic: Basic ML\n",
    "from sklearn.linear_model import LinearRegression\n",
    "model = LinearRegression()\n",
    "print(model)"
   ]
  },
  {
   "cell_type": "code",
   "execution_count": null,
   "id": "80d6ce19",
   "metadata": {},
   "outputs": [],
   "source": [
    "# Topic: OOP\n",
    "class Student:\n",
    "    def __init__(self, name): self.name = name\n",
    "s = Student('Fahd')\n",
    "print(s.name)"
   ]
  },
  {
   "cell_type": "code",
   "execution_count": null,
   "id": "fccee2f3",
   "metadata": {},
   "outputs": [],
   "source": [
    "# Topic: Dictionaries & Sets\n",
    "d = {'name': 'Fahd', 'age': 20}\n",
    "print(d.get('name'))"
   ]
  },
  {
   "cell_type": "code",
   "execution_count": null,
   "id": "98c79aee",
   "metadata": {},
   "outputs": [],
   "source": [
    "# Topic: File I/O\n",
    "with open('test.txt', 'w') as f:\n",
    "    f.write('Hello World')"
   ]
  },
  {
   "cell_type": "code",
   "execution_count": null,
   "id": "2a6e9191",
   "metadata": {},
   "outputs": [],
   "source": [
    "# Topic: Matplotlib & Seaborn\n",
    "import seaborn as sns\n",
    "import pandas as pd\n",
    "sns.set()\n",
    "sns.histplot(pd.Series([1,2,2,3]));"
   ]
  },
  {
   "cell_type": "code",
   "execution_count": null,
   "id": "26a07324",
   "metadata": {},
   "outputs": [],
   "source": [
    "# Topic: OOP\n",
    "class Student:\n",
    "    def __init__(self, name): self.name = name\n",
    "s = Student('Fahd')\n",
    "print(s.name)"
   ]
  },
  {
   "cell_type": "code",
   "execution_count": null,
   "id": "9c9d7e40",
   "metadata": {},
   "outputs": [],
   "source": [
    "# Topic: Matplotlib & Seaborn\n",
    "import seaborn as sns\n",
    "import pandas as pd\n",
    "sns.set()\n",
    "sns.histplot(pd.Series([1,2,2,3]));"
   ]
  },
  {
   "cell_type": "code",
   "execution_count": null,
   "id": "65576e6e",
   "metadata": {},
   "outputs": [],
   "source": [
    "# Topic: NumPy\n",
    "import numpy as np\n",
    "a = np.array([1, 2, 3])\n",
    "print(a + 5)"
   ]
  },
  {
   "cell_type": "code",
   "execution_count": null,
   "id": "2c4e182d",
   "metadata": {},
   "outputs": [],
   "source": [
    "# Topic: Web Scraping\n",
    "import requests\n",
    "from bs4 import BeautifulSoup\n",
    "r = requests.get('https://example.com')\n",
    "soup = BeautifulSoup(r.text, 'html.parser')\n",
    "print(soup.title.text)"
   ]
  },
  {
   "cell_type": "code",
   "execution_count": null,
   "id": "d970429c",
   "metadata": {},
   "outputs": [],
   "source": [
    "# Topic: OOP\n",
    "class Student:\n",
    "    def __init__(self, name): self.name = name\n",
    "s = Student('Fahd')\n",
    "print(s.name)"
   ]
  },
  {
   "cell_type": "code",
   "execution_count": null,
   "id": "ddde5fd5",
   "metadata": {},
   "outputs": [],
   "source": [
    "# Topic: Data Cleaning\n",
    "import pandas as pd\n",
    "df = pd.DataFrame({'A':[1,None,3]})\n",
    "df = df.fillna(0)\n",
    "print(df)"
   ]
  },
  {
   "cell_type": "code",
   "execution_count": null,
   "id": "c484d421",
   "metadata": {},
   "outputs": [],
   "source": [
    "# Topic: CLI Tools\n",
    "import sys\n",
    "print(f'Arguments: {sys.argv}')"
   ]
  },
  {
   "cell_type": "code",
   "execution_count": null,
   "id": "b5929d75",
   "metadata": {},
   "outputs": [],
   "source": [
    "# Topic: Lists & Tuples\n",
    "t = (1, 2, 3)\n",
    "print(t[0])"
   ]
  },
  {
   "cell_type": "code",
   "execution_count": null,
   "id": "f300481c",
   "metadata": {},
   "outputs": [],
   "source": [
    "# Topic: CLI Tools\n",
    "import sys\n",
    "print(f'Arguments: {sys.argv}')"
   ]
  },
  {
   "cell_type": "code",
   "execution_count": null,
   "id": "740d4960",
   "metadata": {},
   "outputs": [],
   "source": [
    "# Topic: Recursion\n",
    "def fact(n): return 1 if n==0 else n*fact(n-1)\n",
    "print(fact(5))"
   ]
  },
  {
   "cell_type": "code",
   "execution_count": null,
   "id": "d3fd753d",
   "metadata": {},
   "outputs": [],
   "source": [
    "# Topic: OOP\n",
    "class Student:\n",
    "    def __init__(self, name): self.name = name\n",
    "s = Student('Fahd')\n",
    "print(s.name)"
   ]
  },
  {
   "cell_type": "code",
   "execution_count": null,
   "id": "96ac23d2",
   "metadata": {},
   "outputs": [],
   "source": [
    "# Topic: Decorators\n",
    "def log(func):\n",
    " def wrapper():\n",
    "  print('Call')\n",
    "  func()\n",
    " return wrapper\n",
    "@log\n",
    "def say(): print('Hi')\n",
    "say()"
   ]
  },
  {
   "cell_type": "code",
   "execution_count": null,
   "id": "42b0fa9e",
   "metadata": {},
   "outputs": [],
   "source": [
    "# Topic: Dictionaries & Sets\n",
    "d = {'name': 'Fahd', 'age': 20}\n",
    "print(d.get('name'))"
   ]
  },
  {
   "cell_type": "code",
   "execution_count": null,
   "id": "eb246d13",
   "metadata": {},
   "outputs": [],
   "source": [
    "# Topic: Basic ML\n",
    "from sklearn.linear_model import LinearRegression\n",
    "model = LinearRegression()\n",
    "print(model)"
   ]
  },
  {
   "cell_type": "code",
   "execution_count": null,
   "id": "ea4dad15",
   "metadata": {},
   "outputs": [],
   "source": [
    "# Topic: Decorators\n",
    "def log(func):\n",
    " def wrapper():\n",
    "  print('Call')\n",
    "  func()\n",
    " return wrapper\n",
    "@log\n",
    "def say(): print('Hi')\n",
    "say()"
   ]
  },
  {
   "cell_type": "code",
   "execution_count": null,
   "id": "ef3a0cf4",
   "metadata": {},
   "outputs": [],
   "source": [
    "# Topic: Lists & Tuples\n",
    "t = (1, 2, 3)\n",
    "print(t[0])"
   ]
  },
  {
   "cell_type": "code",
   "execution_count": null,
   "id": "06d77699",
   "metadata": {},
   "outputs": [],
   "source": [
    "# Topic: Regex\n",
    "import re\n",
    "text = 'email: test@example.com'\n",
    "print(re.findall(r'\\S+@\\S+', text))"
   ]
  },
  {
   "cell_type": "code",
   "execution_count": null,
   "id": "9eea9b32",
   "metadata": {},
   "outputs": [],
   "source": [
    "# Topic: Lists & Tuples\n",
    "lst = [1, 2, 3]\n",
    "lst.append(4)\n",
    "print(lst)"
   ]
  },
  {
   "cell_type": "code",
   "execution_count": null,
   "id": "b053e56c",
   "metadata": {},
   "outputs": [],
   "source": [
    "# Topic: CLI Tools\n",
    "import sys\n",
    "print(f'Arguments: {sys.argv}')"
   ]
  },
  {
   "cell_type": "code",
   "execution_count": null,
   "id": "c351a8a5",
   "metadata": {},
   "outputs": [],
   "source": [
    "# Topic: JSON & CSV\n",
    "import csv\n",
    "with open('file.csv', 'w', newline='') as f:\n",
    " csv.writer(f).writerow(['a','b','c'])"
   ]
  },
  {
   "cell_type": "code",
   "execution_count": null,
   "id": "54ce3edd",
   "metadata": {},
   "outputs": [],
   "source": [
    "# Topic: NumPy\n",
    "import numpy as np\n",
    "print(np.linspace(0, 1, 5))"
   ]
  },
  {
   "cell_type": "code",
   "execution_count": null,
   "id": "225f3008",
   "metadata": {},
   "outputs": [],
   "source": [
    "# Topic: Decorators\n",
    "def log(func):\n",
    " def wrapper():\n",
    "  print('Call')\n",
    "  func()\n",
    " return wrapper\n",
    "@log\n",
    "def say(): print('Hi')\n",
    "say()"
   ]
  },
  {
   "cell_type": "code",
   "execution_count": null,
   "id": "36dade4f",
   "metadata": {},
   "outputs": [],
   "source": [
    "# Topic: Algorithms\n",
    "# Bubble sort\n",
    "def bubble(arr):\n",
    " for i in range(len(arr)):\n",
    "  for j in range(0, len(arr)-i-1):\n",
    "   if arr[j]>arr[j+1]: arr[j],arr[j+1]=arr[j+1],arr[j]\n",
    "a=[5,3,8]\n",
    "bubble(a)\n",
    "print(a)"
   ]
  },
  {
   "cell_type": "code",
   "execution_count": null,
   "id": "a52f5483",
   "metadata": {},
   "outputs": [],
   "source": [
    "# Topic: Algorithms\n",
    "# Bubble sort\n",
    "def bubble(arr):\n",
    " for i in range(len(arr)):\n",
    "  for j in range(0, len(arr)-i-1):\n",
    "   if arr[j]>arr[j+1]: arr[j],arr[j+1]=arr[j+1],arr[j]\n",
    "a=[5,3,8]\n",
    "bubble(a)\n",
    "print(a)"
   ]
  },
  {
   "cell_type": "code",
   "execution_count": null,
   "id": "b54fd661",
   "metadata": {},
   "outputs": [],
   "source": [
    "# Topic: OOP\n",
    "class Student:\n",
    "    def __init__(self, name): self.name = name\n",
    "s = Student('Fahd')\n",
    "print(s.name)"
   ]
  },
  {
   "cell_type": "code",
   "execution_count": null,
   "id": "f9a6e6d6",
   "metadata": {},
   "outputs": [],
   "source": [
    "# Topic: Functions\n",
    "def square(x): return x*x\n",
    "print(square(5))"
   ]
  },
  {
   "cell_type": "code",
   "execution_count": null,
   "id": "4bd6eba8",
   "metadata": {},
   "outputs": [],
   "source": [
    "# Topic: Lists & Tuples\n",
    "t = (1, 2, 3)\n",
    "print(t[0])"
   ]
  },
  {
   "cell_type": "code",
   "execution_count": null,
   "id": "5e93f4e0",
   "metadata": {},
   "outputs": [],
   "source": [
    "# Topic: Decorators\n",
    "def log(func):\n",
    " def wrapper():\n",
    "  print('Call')\n",
    "  func()\n",
    " return wrapper\n",
    "@log\n",
    "def say(): print('Hi')\n",
    "say()"
   ]
  },
  {
   "cell_type": "code",
   "execution_count": null,
   "id": "bee9f69f",
   "metadata": {},
   "outputs": [],
   "source": [
    "# Topic: Algorithms\n",
    "# Bubble sort\n",
    "def bubble(arr):\n",
    " for i in range(len(arr)):\n",
    "  for j in range(0, len(arr)-i-1):\n",
    "   if arr[j]>arr[j+1]: arr[j],arr[j+1]=arr[j+1],arr[j]\n",
    "a=[5,3,8]\n",
    "bubble(a)\n",
    "print(a)"
   ]
  },
  {
   "cell_type": "code",
   "execution_count": null,
   "id": "9b38b15d",
   "metadata": {},
   "outputs": [],
   "source": [
    "# Topic: Web Scraping\n",
    "import requests\n",
    "from bs4 import BeautifulSoup\n",
    "r = requests.get('https://example.com')\n",
    "soup = BeautifulSoup(r.text, 'html.parser')\n",
    "print(soup.title.text)"
   ]
  },
  {
   "cell_type": "code",
   "execution_count": null,
   "id": "914f716c",
   "metadata": {},
   "outputs": [],
   "source": [
    "# Topic: Mini Projects\n",
    "# Calculator\n",
    "def calc(a,b,op): return eval(f'{a}{op}{b}')\n",
    "print(calc(5,2,'+'))"
   ]
  },
  {
   "cell_type": "code",
   "execution_count": null,
   "id": "fa4ce160",
   "metadata": {},
   "outputs": [],
   "source": [
    "# Topic: Pandas\n",
    "import pandas as pd\n",
    "df = pd.read_csv('file.csv')\n",
    "print(df.head())"
   ]
  },
  {
   "cell_type": "code",
   "execution_count": null,
   "id": "fb612566",
   "metadata": {},
   "outputs": [],
   "source": [
    "# Topic: Loops\n",
    "while True:\n",
    "    print('Break')\n",
    "    break"
   ]
  },
  {
   "cell_type": "code",
   "execution_count": null,
   "id": "43e5b41f",
   "metadata": {},
   "outputs": [],
   "source": [
    "# Topic: Matplotlib & Seaborn\n",
    "import seaborn as sns\n",
    "import pandas as pd\n",
    "sns.set()\n",
    "sns.histplot(pd.Series([1,2,2,3]));"
   ]
  },
  {
   "cell_type": "code",
   "execution_count": null,
   "id": "bbeb33c0",
   "metadata": {},
   "outputs": [],
   "source": [
    "# Topic: CLI Tools\n",
    "import sys\n",
    "print(f'Arguments: {sys.argv}')"
   ]
  },
  {
   "cell_type": "code",
   "execution_count": null,
   "id": "093a291f",
   "metadata": {},
   "outputs": [],
   "source": [
    "# Topic: JSON & CSV\n",
    "import json\n",
    "data = {'a': 1}\n",
    "print(json.dumps(data))"
   ]
  },
  {
   "cell_type": "code",
   "execution_count": null,
   "id": "462c4c3b",
   "metadata": {},
   "outputs": [],
   "source": [
    "# Topic: Basics\n",
    "name = 'Fahd'\n",
    "print(f'Hello, {name}')"
   ]
  },
  {
   "cell_type": "code",
   "execution_count": null,
   "id": "3bf3b488",
   "metadata": {},
   "outputs": [],
   "source": [
    "# Topic: Decorators\n",
    "def log(func):\n",
    " def wrapper():\n",
    "  print('Call')\n",
    "  func()\n",
    " return wrapper\n",
    "@log\n",
    "def say(): print('Hi')\n",
    "say()"
   ]
  },
  {
   "cell_type": "code",
   "execution_count": null,
   "id": "52dca786",
   "metadata": {},
   "outputs": [],
   "source": [
    "# Topic: Basic ML\n",
    "from sklearn.linear_model import LinearRegression\n",
    "model = LinearRegression()\n",
    "print(model)"
   ]
  },
  {
   "cell_type": "code",
   "execution_count": null,
   "id": "6c8a49d6",
   "metadata": {},
   "outputs": [],
   "source": [
    "# Topic: Algorithms\n",
    "# Bubble sort\n",
    "def bubble(arr):\n",
    " for i in range(len(arr)):\n",
    "  for j in range(0, len(arr)-i-1):\n",
    "   if arr[j]>arr[j+1]: arr[j],arr[j+1]=arr[j+1],arr[j]\n",
    "a=[5,3,8]\n",
    "bubble(a)\n",
    "print(a)"
   ]
  },
  {
   "cell_type": "code",
   "execution_count": null,
   "id": "5e792b85",
   "metadata": {},
   "outputs": [],
   "source": [
    "# Topic: Lists & Tuples\n",
    "lst = [1, 2, 3]\n",
    "lst.append(4)\n",
    "print(lst)"
   ]
  },
  {
   "cell_type": "code",
   "execution_count": null,
   "id": "aa69c647",
   "metadata": {},
   "outputs": [],
   "source": [
    "# Topic: NumPy\n",
    "import numpy as np\n",
    "a = np.array([1, 2, 3])\n",
    "print(a + 5)"
   ]
  },
  {
   "cell_type": "code",
   "execution_count": null,
   "id": "9a5fb99a",
   "metadata": {},
   "outputs": [],
   "source": [
    "# Topic: Recursion\n",
    "def fact(n): return 1 if n==0 else n*fact(n-1)\n",
    "print(fact(5))"
   ]
  },
  {
   "cell_type": "code",
   "execution_count": null,
   "id": "55eb9f66",
   "metadata": {},
   "outputs": [],
   "source": [
    "# Topic: Loops\n",
    "for i in range(10): print(i*i)"
   ]
  },
  {
   "cell_type": "code",
   "execution_count": null,
   "id": "74b95230",
   "metadata": {},
   "outputs": [],
   "source": [
    "# Topic: Lists & Tuples\n",
    "lst = [1, 2, 3]\n",
    "lst.append(4)\n",
    "print(lst)"
   ]
  },
  {
   "cell_type": "code",
   "execution_count": null,
   "id": "84f923c7",
   "metadata": {},
   "outputs": [],
   "source": [
    "# Topic: Algorithms\n",
    "# Bubble sort\n",
    "def bubble(arr):\n",
    " for i in range(len(arr)):\n",
    "  for j in range(0, len(arr)-i-1):\n",
    "   if arr[j]>arr[j+1]: arr[j],arr[j+1]=arr[j+1],arr[j]\n",
    "a=[5,3,8]\n",
    "bubble(a)\n",
    "print(a)"
   ]
  },
  {
   "cell_type": "code",
   "execution_count": null,
   "id": "6c72b807",
   "metadata": {},
   "outputs": [],
   "source": [
    "# Topic: Basic ML\n",
    "from sklearn.linear_model import LinearRegression\n",
    "model = LinearRegression()\n",
    "print(model)"
   ]
  },
  {
   "cell_type": "code",
   "execution_count": null,
   "id": "6aa7039d",
   "metadata": {},
   "outputs": [],
   "source": [
    "# Topic: Web Scraping\n",
    "import requests\n",
    "from bs4 import BeautifulSoup\n",
    "r = requests.get('https://example.com')\n",
    "soup = BeautifulSoup(r.text, 'html.parser')\n",
    "print(soup.title.text)"
   ]
  },
  {
   "cell_type": "code",
   "execution_count": null,
   "id": "7012f4a7",
   "metadata": {},
   "outputs": [],
   "source": [
    "# Topic: Lists & Tuples\n",
    "t = (1, 2, 3)\n",
    "print(t[0])"
   ]
  },
  {
   "cell_type": "code",
   "execution_count": null,
   "id": "ddf9a9bf",
   "metadata": {},
   "outputs": [],
   "source": [
    "# Topic: Recursion\n",
    "def fact(n): return 1 if n==0 else n*fact(n-1)\n",
    "print(fact(5))"
   ]
  },
  {
   "cell_type": "code",
   "execution_count": null,
   "id": "9654a401",
   "metadata": {},
   "outputs": [],
   "source": [
    "# Topic: Dictionaries & Sets\n",
    "s = set([1, 2, 3, 2])\n",
    "print(s)"
   ]
  },
  {
   "cell_type": "code",
   "execution_count": null,
   "id": "bdcf5378",
   "metadata": {},
   "outputs": [],
   "source": [
    "# Topic: Data Cleaning\n",
    "import pandas as pd\n",
    "df = pd.DataFrame({'A':[1,None,3]})\n",
    "df = df.fillna(0)\n",
    "print(df)"
   ]
  },
  {
   "cell_type": "code",
   "execution_count": null,
   "id": "3f471da8",
   "metadata": {},
   "outputs": [],
   "source": [
    "# Topic: OOP\n",
    "class Student:\n",
    "    def __init__(self, name): self.name = name\n",
    "s = Student('Fahd')\n",
    "print(s.name)"
   ]
  },
  {
   "cell_type": "code",
   "execution_count": null,
   "id": "f1343d59",
   "metadata": {},
   "outputs": [],
   "source": [
    "# Topic: Loops\n",
    "while True:\n",
    "    print('Break')\n",
    "    break"
   ]
  },
  {
   "cell_type": "code",
   "execution_count": null,
   "id": "f45d30a1",
   "metadata": {},
   "outputs": [],
   "source": [
    "# Topic: Basic ML\n",
    "from sklearn.linear_model import LinearRegression\n",
    "model = LinearRegression()\n",
    "print(model)"
   ]
  },
  {
   "cell_type": "code",
   "execution_count": null,
   "id": "a6a05c60",
   "metadata": {},
   "outputs": [],
   "source": [
    "# Topic: Web Scraping\n",
    "import requests\n",
    "from bs4 import BeautifulSoup\n",
    "r = requests.get('https://example.com')\n",
    "soup = BeautifulSoup(r.text, 'html.parser')\n",
    "print(soup.title.text)"
   ]
  },
  {
   "cell_type": "code",
   "execution_count": null,
   "id": "08c1e941",
   "metadata": {},
   "outputs": [],
   "source": [
    "# Topic: Dictionaries & Sets\n",
    "s = set([1, 2, 3, 2])\n",
    "print(s)"
   ]
  },
  {
   "cell_type": "code",
   "execution_count": null,
   "id": "b4e3ed88",
   "metadata": {},
   "outputs": [],
   "source": [
    "# Topic: JSON & CSV\n",
    "import json\n",
    "data = {'a': 1}\n",
    "print(json.dumps(data))"
   ]
  },
  {
   "cell_type": "code",
   "execution_count": null,
   "id": "fe229565",
   "metadata": {},
   "outputs": [],
   "source": [
    "# Topic: OOP\n",
    "class Student:\n",
    "    def __init__(self, name): self.name = name\n",
    "s = Student('Fahd')\n",
    "print(s.name)"
   ]
  },
  {
   "cell_type": "code",
   "execution_count": null,
   "id": "d9f8424d",
   "metadata": {},
   "outputs": [],
   "source": [
    "# Topic: Matplotlib & Seaborn\n",
    "import seaborn as sns\n",
    "import pandas as pd\n",
    "sns.set()\n",
    "sns.histplot(pd.Series([1,2,2,3]));"
   ]
  },
  {
   "cell_type": "code",
   "execution_count": null,
   "id": "879fd5d2",
   "metadata": {},
   "outputs": [],
   "source": [
    "# Topic: JSON & CSV\n",
    "import csv\n",
    "with open('file.csv', 'w', newline='') as f:\n",
    " csv.writer(f).writerow(['a','b','c'])"
   ]
  },
  {
   "cell_type": "code",
   "execution_count": null,
   "id": "722bf9a0",
   "metadata": {},
   "outputs": [],
   "source": [
    "# Topic: JSON & CSV\n",
    "import csv\n",
    "with open('file.csv', 'w', newline='') as f:\n",
    " csv.writer(f).writerow(['a','b','c'])"
   ]
  },
  {
   "cell_type": "code",
   "execution_count": null,
   "id": "abc3b43d",
   "metadata": {},
   "outputs": [],
   "source": [
    "# Topic: Algorithms\n",
    "# Bubble sort\n",
    "def bubble(arr):\n",
    " for i in range(len(arr)):\n",
    "  for j in range(0, len(arr)-i-1):\n",
    "   if arr[j]>arr[j+1]: arr[j],arr[j+1]=arr[j+1],arr[j]\n",
    "a=[5,3,8]\n",
    "bubble(a)\n",
    "print(a)"
   ]
  },
  {
   "cell_type": "code",
   "execution_count": null,
   "id": "11a56047",
   "metadata": {},
   "outputs": [],
   "source": [
    "# Topic: Decorators\n",
    "def log(func):\n",
    " def wrapper():\n",
    "  print('Call')\n",
    "  func()\n",
    " return wrapper\n",
    "@log\n",
    "def say(): print('Hi')\n",
    "say()"
   ]
  },
  {
   "cell_type": "code",
   "execution_count": null,
   "id": "60822a82",
   "metadata": {},
   "outputs": [],
   "source": [
    "# Topic: Recursion\n",
    "def fact(n): return 1 if n==0 else n*fact(n-1)\n",
    "print(fact(5))"
   ]
  },
  {
   "cell_type": "code",
   "execution_count": null,
   "id": "78739a92",
   "metadata": {},
   "outputs": [],
   "source": [
    "# Topic: Decorators\n",
    "def log(func):\n",
    " def wrapper():\n",
    "  print('Call')\n",
    "  func()\n",
    " return wrapper\n",
    "@log\n",
    "def say(): print('Hi')\n",
    "say()"
   ]
  },
  {
   "cell_type": "code",
   "execution_count": null,
   "id": "8c106afa",
   "metadata": {},
   "outputs": [],
   "source": [
    "# Topic: Decorators\n",
    "def log(func):\n",
    " def wrapper():\n",
    "  print('Call')\n",
    "  func()\n",
    " return wrapper\n",
    "@log\n",
    "def say(): print('Hi')\n",
    "say()"
   ]
  },
  {
   "cell_type": "code",
   "execution_count": null,
   "id": "4aa10e92",
   "metadata": {},
   "outputs": [],
   "source": [
    "# Topic: Matplotlib & Seaborn\n",
    "import matplotlib.pyplot as plt\n",
    "plt.plot([1,2],[3,4])\n",
    "plt.show()"
   ]
  },
  {
   "cell_type": "code",
   "execution_count": null,
   "id": "78296d37",
   "metadata": {},
   "outputs": [],
   "source": [
    "# Topic: Regex\n",
    "import re\n",
    "text = 'email: test@example.com'\n",
    "print(re.findall(r'\\S+@\\S+', text))"
   ]
  },
  {
   "cell_type": "code",
   "execution_count": null,
   "id": "6ec481ff",
   "metadata": {},
   "outputs": [],
   "source": [
    "# Topic: Basics\n",
    "name = 'Fahd'\n",
    "print(f'Hello, {name}')"
   ]
  },
  {
   "cell_type": "code",
   "execution_count": null,
   "id": "d9068bbb",
   "metadata": {},
   "outputs": [],
   "source": [
    "# Topic: Functions\n",
    "def square(x): return x*x\n",
    "print(square(5))"
   ]
  },
  {
   "cell_type": "code",
   "execution_count": null,
   "id": "c8d5b3ec",
   "metadata": {},
   "outputs": [],
   "source": [
    "# Topic: Regex\n",
    "import re\n",
    "text = 'email: test@example.com'\n",
    "print(re.findall(r'\\S+@\\S+', text))"
   ]
  },
  {
   "cell_type": "code",
   "execution_count": null,
   "id": "cc3d02c9",
   "metadata": {},
   "outputs": [],
   "source": [
    "# Topic: Data Cleaning\n",
    "import pandas as pd\n",
    "df = pd.DataFrame({'A':[1,None,3]})\n",
    "df = df.fillna(0)\n",
    "print(df)"
   ]
  },
  {
   "cell_type": "code",
   "execution_count": null,
   "id": "3f08a834",
   "metadata": {},
   "outputs": [],
   "source": [
    "# Topic: NumPy\n",
    "import numpy as np\n",
    "print(np.linspace(0, 1, 5))"
   ]
  },
  {
   "cell_type": "code",
   "execution_count": null,
   "id": "1c349f1e",
   "metadata": {},
   "outputs": [],
   "source": [
    "# Topic: Lists & Tuples\n",
    "t = (1, 2, 3)\n",
    "print(t[0])"
   ]
  },
  {
   "cell_type": "code",
   "execution_count": null,
   "id": "bd3e165e",
   "metadata": {},
   "outputs": [],
   "source": [
    "# Topic: File I/O\n",
    "with open('test.txt', 'w') as f:\n",
    "    f.write('Hello World')"
   ]
  },
  {
   "cell_type": "code",
   "execution_count": null,
   "id": "50655aa2",
   "metadata": {},
   "outputs": [],
   "source": [
    "# Topic: Dictionaries & Sets\n",
    "d = {'name': 'Fahd', 'age': 20}\n",
    "print(d.get('name'))"
   ]
  },
  {
   "cell_type": "code",
   "execution_count": null,
   "id": "03bd0585",
   "metadata": {},
   "outputs": [],
   "source": [
    "# Topic: Decorators\n",
    "def log(func):\n",
    " def wrapper():\n",
    "  print('Call')\n",
    "  func()\n",
    " return wrapper\n",
    "@log\n",
    "def say(): print('Hi')\n",
    "say()"
   ]
  },
  {
   "cell_type": "code",
   "execution_count": null,
   "id": "181e86e7",
   "metadata": {},
   "outputs": [],
   "source": [
    "# Topic: Functions\n",
    "def greet(name='User'):\n",
    "    print(f'Hi, {name}')\n",
    "greet()"
   ]
  },
  {
   "cell_type": "code",
   "execution_count": null,
   "id": "69b18292",
   "metadata": {},
   "outputs": [],
   "source": [
    "# Topic: OOP\n",
    "class Student:\n",
    "    def __init__(self, name): self.name = name\n",
    "s = Student('Fahd')\n",
    "print(s.name)"
   ]
  },
  {
   "cell_type": "code",
   "execution_count": null,
   "id": "df516e14",
   "metadata": {},
   "outputs": [],
   "source": [
    "# Topic: Matplotlib & Seaborn\n",
    "import seaborn as sns\n",
    "import pandas as pd\n",
    "sns.set()\n",
    "sns.histplot(pd.Series([1,2,2,3]));"
   ]
  },
  {
   "cell_type": "code",
   "execution_count": null,
   "id": "08ef7eb6",
   "metadata": {},
   "outputs": [],
   "source": [
    "# Topic: Matplotlib & Seaborn\n",
    "import matplotlib.pyplot as plt\n",
    "plt.plot([1,2],[3,4])\n",
    "plt.show()"
   ]
  },
  {
   "cell_type": "code",
   "execution_count": null,
   "id": "e84739e7",
   "metadata": {},
   "outputs": [],
   "source": [
    "# Topic: Data Cleaning\n",
    "import pandas as pd\n",
    "df = pd.DataFrame({'A':[1,None,3]})\n",
    "df = df.fillna(0)\n",
    "print(df)"
   ]
  },
  {
   "cell_type": "code",
   "execution_count": null,
   "id": "f86d4e02",
   "metadata": {},
   "outputs": [],
   "source": [
    "# Topic: Matplotlib & Seaborn\n",
    "import matplotlib.pyplot as plt\n",
    "plt.plot([1,2],[3,4])\n",
    "plt.show()"
   ]
  },
  {
   "cell_type": "code",
   "execution_count": null,
   "id": "3fe4732b",
   "metadata": {},
   "outputs": [],
   "source": [
    "# Topic: OOP\n",
    "class Student:\n",
    "    def __init__(self, name): self.name = name\n",
    "s = Student('Fahd')\n",
    "print(s.name)"
   ]
  },
  {
   "cell_type": "code",
   "execution_count": null,
   "id": "c7ddfc2a",
   "metadata": {},
   "outputs": [],
   "source": [
    "# Topic: Loops\n",
    "for i in range(10): print(i*i)"
   ]
  },
  {
   "cell_type": "code",
   "execution_count": null,
   "id": "1f70c5ca",
   "metadata": {},
   "outputs": [],
   "source": [
    "# Topic: Basics\n",
    "name = 'Fahd'\n",
    "print(f'Hello, {name}')"
   ]
  },
  {
   "cell_type": "code",
   "execution_count": null,
   "id": "0376136a",
   "metadata": {},
   "outputs": [],
   "source": [
    "# Topic: Regex\n",
    "import re\n",
    "text = 'email: test@example.com'\n",
    "print(re.findall(r'\\S+@\\S+', text))"
   ]
  },
  {
   "cell_type": "code",
   "execution_count": null,
   "id": "b20e4024",
   "metadata": {},
   "outputs": [],
   "source": [
    "# Topic: Basics\n",
    "x = 10\n",
    "y = 20\n",
    "print(x + y)"
   ]
  },
  {
   "cell_type": "code",
   "execution_count": null,
   "id": "adc27320",
   "metadata": {},
   "outputs": [],
   "source": [
    "# Topic: Basics\n",
    "x = 10\n",
    "y = 20\n",
    "print(x + y)"
   ]
  },
  {
   "cell_type": "code",
   "execution_count": null,
   "id": "974d0e39",
   "metadata": {},
   "outputs": [],
   "source": [
    "# Topic: Basic ML\n",
    "from sklearn.linear_model import LinearRegression\n",
    "model = LinearRegression()\n",
    "print(model)"
   ]
  },
  {
   "cell_type": "code",
   "execution_count": null,
   "id": "8f7dcfe8",
   "metadata": {},
   "outputs": [],
   "source": [
    "# Topic: Functions\n",
    "def square(x): return x*x\n",
    "print(square(5))"
   ]
  },
  {
   "cell_type": "code",
   "execution_count": null,
   "id": "223766d0",
   "metadata": {},
   "outputs": [],
   "source": [
    "# Topic: Recursion\n",
    "def fact(n): return 1 if n==0 else n*fact(n-1)\n",
    "print(fact(5))"
   ]
  },
  {
   "cell_type": "code",
   "execution_count": null,
   "id": "d3a8dba5",
   "metadata": {},
   "outputs": [],
   "source": [
    "# Topic: NumPy\n",
    "import numpy as np\n",
    "a = np.array([1, 2, 3])\n",
    "print(a + 5)"
   ]
  },
  {
   "cell_type": "code",
   "execution_count": null,
   "id": "94349aae",
   "metadata": {},
   "outputs": [],
   "source": [
    "# Topic: Pandas\n",
    "import pandas as pd\n",
    "df = pd.read_csv('file.csv')\n",
    "print(df.head())"
   ]
  },
  {
   "cell_type": "code",
   "execution_count": null,
   "id": "9c771213",
   "metadata": {},
   "outputs": [],
   "source": [
    "# Topic: Basic ML\n",
    "from sklearn.linear_model import LinearRegression\n",
    "model = LinearRegression()\n",
    "print(model)"
   ]
  },
  {
   "cell_type": "code",
   "execution_count": null,
   "id": "37990698",
   "metadata": {},
   "outputs": [],
   "source": [
    "# Topic: Loops\n",
    "for i in range(10): print(i*i)"
   ]
  },
  {
   "cell_type": "code",
   "execution_count": null,
   "id": "5e429e14",
   "metadata": {},
   "outputs": [],
   "source": [
    "# Topic: JSON & CSV\n",
    "import json\n",
    "data = {'a': 1}\n",
    "print(json.dumps(data))"
   ]
  },
  {
   "cell_type": "code",
   "execution_count": null,
   "id": "eb07e80e",
   "metadata": {},
   "outputs": [],
   "source": [
    "# Topic: OOP\n",
    "class Student:\n",
    "    def __init__(self, name): self.name = name\n",
    "s = Student('Fahd')\n",
    "print(s.name)"
   ]
  },
  {
   "cell_type": "code",
   "execution_count": null,
   "id": "08be4787",
   "metadata": {},
   "outputs": [],
   "source": [
    "# Topic: Lists & Tuples\n",
    "lst = [1, 2, 3]\n",
    "lst.append(4)\n",
    "print(lst)"
   ]
  },
  {
   "cell_type": "code",
   "execution_count": null,
   "id": "82f5dc1c",
   "metadata": {},
   "outputs": [],
   "source": [
    "# Topic: Lists & Tuples\n",
    "lst = [1, 2, 3]\n",
    "lst.append(4)\n",
    "print(lst)"
   ]
  },
  {
   "cell_type": "code",
   "execution_count": null,
   "id": "56b35e49",
   "metadata": {},
   "outputs": [],
   "source": [
    "# Topic: JSON & CSV\n",
    "import csv\n",
    "with open('file.csv', 'w', newline='') as f:\n",
    " csv.writer(f).writerow(['a','b','c'])"
   ]
  },
  {
   "cell_type": "code",
   "execution_count": null,
   "id": "46db78df",
   "metadata": {},
   "outputs": [],
   "source": [
    "# Topic: Dictionaries & Sets\n",
    "s = set([1, 2, 3, 2])\n",
    "print(s)"
   ]
  },
  {
   "cell_type": "code",
   "execution_count": null,
   "id": "d4444f7d",
   "metadata": {},
   "outputs": [],
   "source": [
    "# Topic: Web Scraping\n",
    "import requests\n",
    "from bs4 import BeautifulSoup\n",
    "r = requests.get('https://example.com')\n",
    "soup = BeautifulSoup(r.text, 'html.parser')\n",
    "print(soup.title.text)"
   ]
  },
  {
   "cell_type": "code",
   "execution_count": null,
   "id": "58a5c8d5",
   "metadata": {},
   "outputs": [],
   "source": [
    "# Topic: Dictionaries & Sets\n",
    "s = set([1, 2, 3, 2])\n",
    "print(s)"
   ]
  },
  {
   "cell_type": "code",
   "execution_count": null,
   "id": "b80fc8fb",
   "metadata": {},
   "outputs": [],
   "source": [
    "# Topic: Basics\n",
    "name = 'Fahd'\n",
    "print(f'Hello, {name}')"
   ]
  },
  {
   "cell_type": "code",
   "execution_count": null,
   "id": "3d6cae31",
   "metadata": {},
   "outputs": [],
   "source": [
    "# Topic: File I/O\n",
    "with open('test.txt', 'r') as f:\n",
    "    print(f.read())"
   ]
  },
  {
   "cell_type": "code",
   "execution_count": null,
   "id": "51efce0e",
   "metadata": {},
   "outputs": [],
   "source": [
    "# Topic: Regex\n",
    "import re\n",
    "text = 'email: test@example.com'\n",
    "print(re.findall(r'\\S+@\\S+', text))"
   ]
  },
  {
   "cell_type": "code",
   "execution_count": null,
   "id": "d4ff8846",
   "metadata": {},
   "outputs": [],
   "source": [
    "# Topic: Basics\n",
    "x = 10\n",
    "y = 20\n",
    "print(x + y)"
   ]
  },
  {
   "cell_type": "code",
   "execution_count": null,
   "id": "dff496a8",
   "metadata": {},
   "outputs": [],
   "source": [
    "# Topic: Lists & Tuples\n",
    "t = (1, 2, 3)\n",
    "print(t[0])"
   ]
  },
  {
   "cell_type": "code",
   "execution_count": null,
   "id": "a14ff729",
   "metadata": {},
   "outputs": [],
   "source": [
    "# Topic: Pandas\n",
    "import pandas as pd\n",
    "df = pd.read_csv('file.csv')\n",
    "print(df.head())"
   ]
  },
  {
   "cell_type": "code",
   "execution_count": null,
   "id": "79ad56eb",
   "metadata": {},
   "outputs": [],
   "source": [
    "# Topic: Data Cleaning\n",
    "import pandas as pd\n",
    "df = pd.DataFrame({'A':[1,None,3]})\n",
    "df = df.fillna(0)\n",
    "print(df)"
   ]
  },
  {
   "cell_type": "code",
   "execution_count": null,
   "id": "ef27c8d9",
   "metadata": {},
   "outputs": [],
   "source": [
    "# Topic: NumPy\n",
    "import numpy as np\n",
    "print(np.linspace(0, 1, 5))"
   ]
  },
  {
   "cell_type": "code",
   "execution_count": null,
   "id": "ae83a594",
   "metadata": {},
   "outputs": [],
   "source": [
    "# Topic: Functions\n",
    "def square(x): return x*x\n",
    "print(square(5))"
   ]
  },
  {
   "cell_type": "code",
   "execution_count": null,
   "id": "80df60a4",
   "metadata": {},
   "outputs": [],
   "source": [
    "# Topic: Data Cleaning\n",
    "import pandas as pd\n",
    "df = pd.DataFrame({'A':[1,None,3]})\n",
    "df = df.fillna(0)\n",
    "print(df)"
   ]
  },
  {
   "cell_type": "code",
   "execution_count": null,
   "id": "272a5b2d",
   "metadata": {},
   "outputs": [],
   "source": [
    "# Topic: Matplotlib & Seaborn\n",
    "import matplotlib.pyplot as plt\n",
    "plt.plot([1,2],[3,4])\n",
    "plt.show()"
   ]
  },
  {
   "cell_type": "code",
   "execution_count": null,
   "id": "ad68bdd2",
   "metadata": {},
   "outputs": [],
   "source": [
    "# Topic: Basic ML\n",
    "from sklearn.linear_model import LinearRegression\n",
    "model = LinearRegression()\n",
    "print(model)"
   ]
  },
  {
   "cell_type": "code",
   "execution_count": null,
   "id": "09441575",
   "metadata": {},
   "outputs": [],
   "source": [
    "# Topic: File I/O\n",
    "with open('test.txt', 'r') as f:\n",
    "    print(f.read())"
   ]
  },
  {
   "cell_type": "code",
   "execution_count": null,
   "id": "1b215498",
   "metadata": {},
   "outputs": [],
   "source": [
    "# Topic: Lists & Tuples\n",
    "t = (1, 2, 3)\n",
    "print(t[0])"
   ]
  },
  {
   "cell_type": "code",
   "execution_count": null,
   "id": "13252e08",
   "metadata": {},
   "outputs": [],
   "source": [
    "# Topic: Decorators\n",
    "def log(func):\n",
    " def wrapper():\n",
    "  print('Call')\n",
    "  func()\n",
    " return wrapper\n",
    "@log\n",
    "def say(): print('Hi')\n",
    "say()"
   ]
  },
  {
   "cell_type": "code",
   "execution_count": null,
   "id": "ff35042e",
   "metadata": {},
   "outputs": [],
   "source": [
    "# Topic: CLI Tools\n",
    "import sys\n",
    "print(f'Arguments: {sys.argv}')"
   ]
  },
  {
   "cell_type": "code",
   "execution_count": null,
   "id": "84899d9e",
   "metadata": {},
   "outputs": [],
   "source": [
    "# Topic: Basics\n",
    "name = 'Fahd'\n",
    "print(f'Hello, {name}')"
   ]
  },
  {
   "cell_type": "code",
   "execution_count": null,
   "id": "048100c5",
   "metadata": {},
   "outputs": [],
   "source": [
    "# Topic: Functions\n",
    "def greet(name='User'):\n",
    "    print(f'Hi, {name}')\n",
    "greet()"
   ]
  },
  {
   "cell_type": "code",
   "execution_count": null,
   "id": "21bced06",
   "metadata": {},
   "outputs": [],
   "source": [
    "# Topic: Loops\n",
    "for i in range(10): print(i*i)"
   ]
  },
  {
   "cell_type": "code",
   "execution_count": null,
   "id": "498292fc",
   "metadata": {},
   "outputs": [],
   "source": [
    "# Topic: Basics\n",
    "x = 10\n",
    "y = 20\n",
    "print(x + y)"
   ]
  },
  {
   "cell_type": "code",
   "execution_count": null,
   "id": "da424fbd",
   "metadata": {},
   "outputs": [],
   "source": [
    "# Topic: Mini Projects\n",
    "# Calculator\n",
    "def calc(a,b,op): return eval(f'{a}{op}{b}')\n",
    "print(calc(5,2,'+'))"
   ]
  },
  {
   "cell_type": "code",
   "execution_count": null,
   "id": "e56ed4fa",
   "metadata": {},
   "outputs": [],
   "source": [
    "# Topic: Decorators\n",
    "def log(func):\n",
    " def wrapper():\n",
    "  print('Call')\n",
    "  func()\n",
    " return wrapper\n",
    "@log\n",
    "def say(): print('Hi')\n",
    "say()"
   ]
  },
  {
   "cell_type": "code",
   "execution_count": null,
   "id": "fac0f762",
   "metadata": {},
   "outputs": [],
   "source": [
    "# Topic: Matplotlib & Seaborn\n",
    "import seaborn as sns\n",
    "import pandas as pd\n",
    "sns.set()\n",
    "sns.histplot(pd.Series([1,2,2,3]));"
   ]
  },
  {
   "cell_type": "code",
   "execution_count": null,
   "id": "0bcced06",
   "metadata": {},
   "outputs": [],
   "source": [
    "# Topic: Pandas\n",
    "import pandas as pd\n",
    "df = pd.read_csv('file.csv')\n",
    "print(df.head())"
   ]
  },
  {
   "cell_type": "code",
   "execution_count": null,
   "id": "8a1d672a",
   "metadata": {},
   "outputs": [],
   "source": [
    "# Topic: Algorithms\n",
    "# Bubble sort\n",
    "def bubble(arr):\n",
    " for i in range(len(arr)):\n",
    "  for j in range(0, len(arr)-i-1):\n",
    "   if arr[j]>arr[j+1]: arr[j],arr[j+1]=arr[j+1],arr[j]\n",
    "a=[5,3,8]\n",
    "bubble(a)\n",
    "print(a)"
   ]
  },
  {
   "cell_type": "code",
   "execution_count": null,
   "id": "30a3aa72",
   "metadata": {},
   "outputs": [],
   "source": [
    "# Topic: File I/O\n",
    "with open('test.txt', 'r') as f:\n",
    "    print(f.read())"
   ]
  },
  {
   "cell_type": "code",
   "execution_count": null,
   "id": "b048f1ea",
   "metadata": {},
   "outputs": [],
   "source": [
    "# Topic: Basics\n",
    "x = 10\n",
    "y = 20\n",
    "print(x + y)"
   ]
  },
  {
   "cell_type": "code",
   "execution_count": null,
   "id": "583a6bd1",
   "metadata": {},
   "outputs": [],
   "source": [
    "# Topic: JSON & CSV\n",
    "import json\n",
    "data = {'a': 1}\n",
    "print(json.dumps(data))"
   ]
  },
  {
   "cell_type": "code",
   "execution_count": null,
   "id": "f9570211",
   "metadata": {},
   "outputs": [],
   "source": [
    "# Topic: Dictionaries & Sets\n",
    "d = {'name': 'Fahd', 'age': 20}\n",
    "print(d.get('name'))"
   ]
  },
  {
   "cell_type": "code",
   "execution_count": null,
   "id": "99997916",
   "metadata": {},
   "outputs": [],
   "source": [
    "# Topic: Dictionaries & Sets\n",
    "s = set([1, 2, 3, 2])\n",
    "print(s)"
   ]
  },
  {
   "cell_type": "code",
   "execution_count": null,
   "id": "86e380d6",
   "metadata": {},
   "outputs": [],
   "source": [
    "# Topic: Regex\n",
    "import re\n",
    "text = 'email: test@example.com'\n",
    "print(re.findall(r'\\S+@\\S+', text))"
   ]
  },
  {
   "cell_type": "code",
   "execution_count": null,
   "id": "cb950182",
   "metadata": {},
   "outputs": [],
   "source": [
    "# Topic: CLI Tools\n",
    "import sys\n",
    "print(f'Arguments: {sys.argv}')"
   ]
  },
  {
   "cell_type": "code",
   "execution_count": null,
   "id": "7c848cc8",
   "metadata": {},
   "outputs": [],
   "source": [
    "# Topic: NumPy\n",
    "import numpy as np\n",
    "a = np.array([1, 2, 3])\n",
    "print(a + 5)"
   ]
  },
  {
   "cell_type": "code",
   "execution_count": null,
   "id": "f4c937d9",
   "metadata": {},
   "outputs": [],
   "source": [
    "# Topic: Dictionaries & Sets\n",
    "d = {'name': 'Fahd', 'age': 20}\n",
    "print(d.get('name'))"
   ]
  },
  {
   "cell_type": "code",
   "execution_count": null,
   "id": "45480e82",
   "metadata": {},
   "outputs": [],
   "source": [
    "# Topic: Data Cleaning\n",
    "import pandas as pd\n",
    "df = pd.DataFrame({'A':[1,None,3]})\n",
    "df = df.fillna(0)\n",
    "print(df)"
   ]
  },
  {
   "cell_type": "code",
   "execution_count": null,
   "id": "a80735c2",
   "metadata": {},
   "outputs": [],
   "source": [
    "# Topic: Decorators\n",
    "def log(func):\n",
    " def wrapper():\n",
    "  print('Call')\n",
    "  func()\n",
    " return wrapper\n",
    "@log\n",
    "def say(): print('Hi')\n",
    "say()"
   ]
  },
  {
   "cell_type": "code",
   "execution_count": null,
   "id": "87242cd8",
   "metadata": {},
   "outputs": [],
   "source": [
    "# Topic: Pandas\n",
    "import pandas as pd\n",
    "df = pd.read_csv('file.csv')\n",
    "print(df.head())"
   ]
  },
  {
   "cell_type": "code",
   "execution_count": null,
   "id": "6070d4d4",
   "metadata": {},
   "outputs": [],
   "source": [
    "# Topic: Dictionaries & Sets\n",
    "d = {'name': 'Fahd', 'age': 20}\n",
    "print(d.get('name'))"
   ]
  },
  {
   "cell_type": "code",
   "execution_count": null,
   "id": "2581d3b1",
   "metadata": {},
   "outputs": [],
   "source": [
    "# Topic: Recursion\n",
    "def fact(n): return 1 if n==0 else n*fact(n-1)\n",
    "print(fact(5))"
   ]
  },
  {
   "cell_type": "code",
   "execution_count": null,
   "id": "1063d2bb",
   "metadata": {},
   "outputs": [],
   "source": [
    "# Topic: Algorithms\n",
    "# Bubble sort\n",
    "def bubble(arr):\n",
    " for i in range(len(arr)):\n",
    "  for j in range(0, len(arr)-i-1):\n",
    "   if arr[j]>arr[j+1]: arr[j],arr[j+1]=arr[j+1],arr[j]\n",
    "a=[5,3,8]\n",
    "bubble(a)\n",
    "print(a)"
   ]
  },
  {
   "cell_type": "code",
   "execution_count": null,
   "id": "83c090f8",
   "metadata": {},
   "outputs": [],
   "source": [
    "# Topic: JSON & CSV\n",
    "import csv\n",
    "with open('file.csv', 'w', newline='') as f:\n",
    " csv.writer(f).writerow(['a','b','c'])"
   ]
  },
  {
   "cell_type": "code",
   "execution_count": null,
   "id": "598a197a",
   "metadata": {},
   "outputs": [],
   "source": [
    "# Topic: Matplotlib & Seaborn\n",
    "import matplotlib.pyplot as plt\n",
    "plt.plot([1,2],[3,4])\n",
    "plt.show()"
   ]
  },
  {
   "cell_type": "code",
   "execution_count": null,
   "id": "2fc0f6a5",
   "metadata": {},
   "outputs": [],
   "source": [
    "# Topic: Basic ML\n",
    "from sklearn.linear_model import LinearRegression\n",
    "model = LinearRegression()\n",
    "print(model)"
   ]
  },
  {
   "cell_type": "code",
   "execution_count": null,
   "id": "60fbe2f4",
   "metadata": {},
   "outputs": [],
   "source": [
    "# Topic: Mini Projects\n",
    "# Palindrome check\n",
    "def is_pal(s): return s == s[::-1]\n",
    "print(is_pal('madam'))"
   ]
  },
  {
   "cell_type": "code",
   "execution_count": null,
   "id": "3b340a40",
   "metadata": {},
   "outputs": [],
   "source": [
    "# Topic: Decorators\n",
    "def log(func):\n",
    " def wrapper():\n",
    "  print('Call')\n",
    "  func()\n",
    " return wrapper\n",
    "@log\n",
    "def say(): print('Hi')\n",
    "say()"
   ]
  },
  {
   "cell_type": "code",
   "execution_count": null,
   "id": "b624fec8",
   "metadata": {},
   "outputs": [],
   "source": [
    "# Topic: Matplotlib & Seaborn\n",
    "import seaborn as sns\n",
    "import pandas as pd\n",
    "sns.set()\n",
    "sns.histplot(pd.Series([1,2,2,3]));"
   ]
  },
  {
   "cell_type": "code",
   "execution_count": null,
   "id": "1b51cb82",
   "metadata": {},
   "outputs": [],
   "source": [
    "# Topic: File I/O\n",
    "with open('test.txt', 'w') as f:\n",
    "    f.write('Hello World')"
   ]
  },
  {
   "cell_type": "code",
   "execution_count": null,
   "id": "ced694ee",
   "metadata": {},
   "outputs": [],
   "source": [
    "# Topic: Mini Projects\n",
    "# Palindrome check\n",
    "def is_pal(s): return s == s[::-1]\n",
    "print(is_pal('madam'))"
   ]
  },
  {
   "cell_type": "code",
   "execution_count": null,
   "id": "237994b8",
   "metadata": {},
   "outputs": [],
   "source": [
    "# Topic: JSON & CSV\n",
    "import csv\n",
    "with open('file.csv', 'w', newline='') as f:\n",
    " csv.writer(f).writerow(['a','b','c'])"
   ]
  },
  {
   "cell_type": "code",
   "execution_count": null,
   "id": "e8310779",
   "metadata": {},
   "outputs": [],
   "source": [
    "# Topic: Matplotlib & Seaborn\n",
    "import seaborn as sns\n",
    "import pandas as pd\n",
    "sns.set()\n",
    "sns.histplot(pd.Series([1,2,2,3]));"
   ]
  },
  {
   "cell_type": "code",
   "execution_count": null,
   "id": "248f2af6",
   "metadata": {},
   "outputs": [],
   "source": [
    "# Topic: Matplotlib & Seaborn\n",
    "import matplotlib.pyplot as plt\n",
    "plt.plot([1,2],[3,4])\n",
    "plt.show()"
   ]
  },
  {
   "cell_type": "code",
   "execution_count": null,
   "id": "3889e6d2",
   "metadata": {},
   "outputs": [],
   "source": [
    "# Topic: CLI Tools\n",
    "import sys\n",
    "print(f'Arguments: {sys.argv}')"
   ]
  },
  {
   "cell_type": "code",
   "execution_count": null,
   "id": "20c66564",
   "metadata": {},
   "outputs": [],
   "source": [
    "# Topic: Recursion\n",
    "def fact(n): return 1 if n==0 else n*fact(n-1)\n",
    "print(fact(5))"
   ]
  },
  {
   "cell_type": "code",
   "execution_count": null,
   "id": "4b63292c",
   "metadata": {},
   "outputs": [],
   "source": [
    "# Topic: OOP\n",
    "class Student:\n",
    "    def __init__(self, name): self.name = name\n",
    "s = Student('Fahd')\n",
    "print(s.name)"
   ]
  },
  {
   "cell_type": "code",
   "execution_count": null,
   "id": "4f27088b",
   "metadata": {},
   "outputs": [],
   "source": [
    "# Topic: Basics\n",
    "x = 10\n",
    "y = 20\n",
    "print(x + y)"
   ]
  },
  {
   "cell_type": "code",
   "execution_count": null,
   "id": "27d03006",
   "metadata": {},
   "outputs": [],
   "source": [
    "# Topic: Basics\n",
    "name = 'Fahd'\n",
    "print(f'Hello, {name}')"
   ]
  },
  {
   "cell_type": "code",
   "execution_count": null,
   "id": "a7735912",
   "metadata": {},
   "outputs": [],
   "source": [
    "# Topic: Loops\n",
    "for i in range(10): print(i*i)"
   ]
  },
  {
   "cell_type": "code",
   "execution_count": null,
   "id": "64848485",
   "metadata": {},
   "outputs": [],
   "source": [
    "# Topic: Dictionaries & Sets\n",
    "d = {'name': 'Fahd', 'age': 20}\n",
    "print(d.get('name'))"
   ]
  },
  {
   "cell_type": "code",
   "execution_count": null,
   "id": "27d70a2d",
   "metadata": {},
   "outputs": [],
   "source": [
    "# Topic: Functions\n",
    "def square(x): return x*x\n",
    "print(square(5))"
   ]
  },
  {
   "cell_type": "code",
   "execution_count": null,
   "id": "33f18572",
   "metadata": {},
   "outputs": [],
   "source": [
    "# Topic: Dictionaries & Sets\n",
    "s = set([1, 2, 3, 2])\n",
    "print(s)"
   ]
  },
  {
   "cell_type": "code",
   "execution_count": null,
   "id": "478fb360",
   "metadata": {},
   "outputs": [],
   "source": [
    "# Topic: Dictionaries & Sets\n",
    "d = {'name': 'Fahd', 'age': 20}\n",
    "print(d.get('name'))"
   ]
  },
  {
   "cell_type": "code",
   "execution_count": null,
   "id": "6831b064",
   "metadata": {},
   "outputs": [],
   "source": [
    "# Topic: Pandas\n",
    "import pandas as pd\n",
    "df = pd.read_csv('file.csv')\n",
    "print(df.head())"
   ]
  },
  {
   "cell_type": "code",
   "execution_count": null,
   "id": "fb272132",
   "metadata": {},
   "outputs": [],
   "source": [
    "# Topic: Recursion\n",
    "def fact(n): return 1 if n==0 else n*fact(n-1)\n",
    "print(fact(5))"
   ]
  },
  {
   "cell_type": "code",
   "execution_count": null,
   "id": "ef843a62",
   "metadata": {},
   "outputs": [],
   "source": [
    "# Topic: Algorithms\n",
    "# Bubble sort\n",
    "def bubble(arr):\n",
    " for i in range(len(arr)):\n",
    "  for j in range(0, len(arr)-i-1):\n",
    "   if arr[j]>arr[j+1]: arr[j],arr[j+1]=arr[j+1],arr[j]\n",
    "a=[5,3,8]\n",
    "bubble(a)\n",
    "print(a)"
   ]
  },
  {
   "cell_type": "code",
   "execution_count": null,
   "id": "4c2a9eae",
   "metadata": {},
   "outputs": [],
   "source": [
    "# Topic: Matplotlib & Seaborn\n",
    "import seaborn as sns\n",
    "import pandas as pd\n",
    "sns.set()\n",
    "sns.histplot(pd.Series([1,2,2,3]));"
   ]
  },
  {
   "cell_type": "code",
   "execution_count": null,
   "id": "6b00dfc2",
   "metadata": {},
   "outputs": [],
   "source": [
    "# Topic: Functions\n",
    "def square(x): return x*x\n",
    "print(square(5))"
   ]
  },
  {
   "cell_type": "code",
   "execution_count": null,
   "id": "2cb67afc",
   "metadata": {},
   "outputs": [],
   "source": [
    "# Topic: Recursion\n",
    "def fact(n): return 1 if n==0 else n*fact(n-1)\n",
    "print(fact(5))"
   ]
  },
  {
   "cell_type": "code",
   "execution_count": null,
   "id": "93acd516",
   "metadata": {},
   "outputs": [],
   "source": [
    "# Topic: OOP\n",
    "class Student:\n",
    "    def __init__(self, name): self.name = name\n",
    "s = Student('Fahd')\n",
    "print(s.name)"
   ]
  },
  {
   "cell_type": "code",
   "execution_count": null,
   "id": "a6da2b7e",
   "metadata": {},
   "outputs": [],
   "source": [
    "# Topic: Lists & Tuples\n",
    "t = (1, 2, 3)\n",
    "print(t[0])"
   ]
  },
  {
   "cell_type": "code",
   "execution_count": null,
   "id": "272476b9",
   "metadata": {},
   "outputs": [],
   "source": [
    "# Topic: NumPy\n",
    "import numpy as np\n",
    "print(np.linspace(0, 1, 5))"
   ]
  },
  {
   "cell_type": "code",
   "execution_count": null,
   "id": "ddbd3c2d",
   "metadata": {},
   "outputs": [],
   "source": [
    "# Topic: Basics\n",
    "x = 10\n",
    "y = 20\n",
    "print(x + y)"
   ]
  },
  {
   "cell_type": "code",
   "execution_count": null,
   "id": "d49c80c9",
   "metadata": {},
   "outputs": [],
   "source": [
    "# Topic: Algorithms\n",
    "# Bubble sort\n",
    "def bubble(arr):\n",
    " for i in range(len(arr)):\n",
    "  for j in range(0, len(arr)-i-1):\n",
    "   if arr[j]>arr[j+1]: arr[j],arr[j+1]=arr[j+1],arr[j]\n",
    "a=[5,3,8]\n",
    "bubble(a)\n",
    "print(a)"
   ]
  },
  {
   "cell_type": "code",
   "execution_count": null,
   "id": "2ab2280c",
   "metadata": {},
   "outputs": [],
   "source": [
    "# Topic: Recursion\n",
    "def fact(n): return 1 if n==0 else n*fact(n-1)\n",
    "print(fact(5))"
   ]
  },
  {
   "cell_type": "code",
   "execution_count": null,
   "id": "04c38027",
   "metadata": {},
   "outputs": [],
   "source": [
    "# Topic: Functions\n",
    "def greet(name='User'):\n",
    "    print(f'Hi, {name}')\n",
    "greet()"
   ]
  },
  {
   "cell_type": "code",
   "execution_count": null,
   "id": "fa41540c",
   "metadata": {},
   "outputs": [],
   "source": [
    "# Topic: Functions\n",
    "def square(x): return x*x\n",
    "print(square(5))"
   ]
  },
  {
   "cell_type": "code",
   "execution_count": null,
   "id": "11156042",
   "metadata": {},
   "outputs": [],
   "source": [
    "# Topic: Lists & Tuples\n",
    "t = (1, 2, 3)\n",
    "print(t[0])"
   ]
  },
  {
   "cell_type": "code",
   "execution_count": null,
   "id": "15748c02",
   "metadata": {},
   "outputs": [],
   "source": [
    "# Topic: JSON & CSV\n",
    "import csv\n",
    "with open('file.csv', 'w', newline='') as f:\n",
    " csv.writer(f).writerow(['a','b','c'])"
   ]
  },
  {
   "cell_type": "code",
   "execution_count": null,
   "id": "85a24ee4",
   "metadata": {},
   "outputs": [],
   "source": [
    "# Topic: Lists & Tuples\n",
    "t = (1, 2, 3)\n",
    "print(t[0])"
   ]
  },
  {
   "cell_type": "code",
   "execution_count": null,
   "id": "4b2da502",
   "metadata": {},
   "outputs": [],
   "source": [
    "# Topic: Recursion\n",
    "def fact(n): return 1 if n==0 else n*fact(n-1)\n",
    "print(fact(5))"
   ]
  },
  {
   "cell_type": "code",
   "execution_count": null,
   "id": "9a2646a4",
   "metadata": {},
   "outputs": [],
   "source": [
    "# Topic: OOP\n",
    "class Student:\n",
    "    def __init__(self, name): self.name = name\n",
    "s = Student('Fahd')\n",
    "print(s.name)"
   ]
  },
  {
   "cell_type": "code",
   "execution_count": null,
   "id": "1343847a",
   "metadata": {},
   "outputs": [],
   "source": [
    "# Topic: Pandas\n",
    "import pandas as pd\n",
    "df = pd.read_csv('file.csv')\n",
    "print(df.head())"
   ]
  },
  {
   "cell_type": "code",
   "execution_count": null,
   "id": "3e151abd",
   "metadata": {},
   "outputs": [],
   "source": [
    "# Topic: Pandas\n",
    "import pandas as pd\n",
    "df = pd.read_csv('file.csv')\n",
    "print(df.head())"
   ]
  },
  {
   "cell_type": "code",
   "execution_count": null,
   "id": "ec194230",
   "metadata": {},
   "outputs": [],
   "source": [
    "# Topic: Basic ML\n",
    "from sklearn.linear_model import LinearRegression\n",
    "model = LinearRegression()\n",
    "print(model)"
   ]
  },
  {
   "cell_type": "code",
   "execution_count": null,
   "id": "a9b88953",
   "metadata": {},
   "outputs": [],
   "source": [
    "# Topic: JSON & CSV\n",
    "import csv\n",
    "with open('file.csv', 'w', newline='') as f:\n",
    " csv.writer(f).writerow(['a','b','c'])"
   ]
  },
  {
   "cell_type": "code",
   "execution_count": null,
   "id": "0ae1f0d1",
   "metadata": {},
   "outputs": [],
   "source": [
    "# Topic: File I/O\n",
    "with open('test.txt', 'w') as f:\n",
    "    f.write('Hello World')"
   ]
  },
  {
   "cell_type": "code",
   "execution_count": null,
   "id": "f49c55f8",
   "metadata": {},
   "outputs": [],
   "source": [
    "# Topic: Functions\n",
    "def greet(name='User'):\n",
    "    print(f'Hi, {name}')\n",
    "greet()"
   ]
  },
  {
   "cell_type": "code",
   "execution_count": null,
   "id": "d116a029",
   "metadata": {},
   "outputs": [],
   "source": [
    "# Topic: Algorithms\n",
    "# Bubble sort\n",
    "def bubble(arr):\n",
    " for i in range(len(arr)):\n",
    "  for j in range(0, len(arr)-i-1):\n",
    "   if arr[j]>arr[j+1]: arr[j],arr[j+1]=arr[j+1],arr[j]\n",
    "a=[5,3,8]\n",
    "bubble(a)\n",
    "print(a)"
   ]
  },
  {
   "cell_type": "code",
   "execution_count": null,
   "id": "e1a209d4",
   "metadata": {},
   "outputs": [],
   "source": [
    "# Topic: Regex\n",
    "import re\n",
    "text = 'email: test@example.com'\n",
    "print(re.findall(r'\\S+@\\S+', text))"
   ]
  },
  {
   "cell_type": "code",
   "execution_count": null,
   "id": "c7d94e8a",
   "metadata": {},
   "outputs": [],
   "source": [
    "# Topic: Decorators\n",
    "def log(func):\n",
    " def wrapper():\n",
    "  print('Call')\n",
    "  func()\n",
    " return wrapper\n",
    "@log\n",
    "def say(): print('Hi')\n",
    "say()"
   ]
  },
  {
   "cell_type": "code",
   "execution_count": null,
   "id": "27f7f48c",
   "metadata": {},
   "outputs": [],
   "source": [
    "# Topic: Web Scraping\n",
    "import requests\n",
    "from bs4 import BeautifulSoup\n",
    "r = requests.get('https://example.com')\n",
    "soup = BeautifulSoup(r.text, 'html.parser')\n",
    "print(soup.title.text)"
   ]
  },
  {
   "cell_type": "code",
   "execution_count": null,
   "id": "6e0357fa",
   "metadata": {},
   "outputs": [],
   "source": [
    "# Topic: File I/O\n",
    "with open('test.txt', 'w') as f:\n",
    "    f.write('Hello World')"
   ]
  },
  {
   "cell_type": "code",
   "execution_count": null,
   "id": "959125e0",
   "metadata": {},
   "outputs": [],
   "source": [
    "# Topic: CLI Tools\n",
    "import sys\n",
    "print(f'Arguments: {sys.argv}')"
   ]
  },
  {
   "cell_type": "code",
   "execution_count": null,
   "id": "8bf64e1e",
   "metadata": {},
   "outputs": [],
   "source": [
    "# Topic: Regex\n",
    "import re\n",
    "text = 'email: test@example.com'\n",
    "print(re.findall(r'\\S+@\\S+', text))"
   ]
  },
  {
   "cell_type": "code",
   "execution_count": null,
   "id": "067f1486",
   "metadata": {},
   "outputs": [],
   "source": [
    "# Topic: CLI Tools\n",
    "import sys\n",
    "print(f'Arguments: {sys.argv}')"
   ]
  },
  {
   "cell_type": "code",
   "execution_count": null,
   "id": "8966a5c6",
   "metadata": {},
   "outputs": [],
   "source": [
    "# Topic: Mini Projects\n",
    "# Palindrome check\n",
    "def is_pal(s): return s == s[::-1]\n",
    "print(is_pal('madam'))"
   ]
  },
  {
   "cell_type": "code",
   "execution_count": null,
   "id": "df72e5af",
   "metadata": {},
   "outputs": [],
   "source": [
    "# Topic: OOP\n",
    "class Student:\n",
    "    def __init__(self, name): self.name = name\n",
    "s = Student('Fahd')\n",
    "print(s.name)"
   ]
  },
  {
   "cell_type": "code",
   "execution_count": null,
   "id": "b5660d21",
   "metadata": {},
   "outputs": [],
   "source": [
    "# Topic: OOP\n",
    "class Student:\n",
    "    def __init__(self, name): self.name = name\n",
    "s = Student('Fahd')\n",
    "print(s.name)"
   ]
  },
  {
   "cell_type": "code",
   "execution_count": null,
   "id": "5d8ebeb3",
   "metadata": {},
   "outputs": [],
   "source": [
    "# Topic: Recursion\n",
    "def fact(n): return 1 if n==0 else n*fact(n-1)\n",
    "print(fact(5))"
   ]
  },
  {
   "cell_type": "code",
   "execution_count": null,
   "id": "5307ba38",
   "metadata": {},
   "outputs": [],
   "source": [
    "# Topic: Lists & Tuples\n",
    "t = (1, 2, 3)\n",
    "print(t[0])"
   ]
  },
  {
   "cell_type": "code",
   "execution_count": null,
   "id": "b27e4c84",
   "metadata": {},
   "outputs": [],
   "source": [
    "# Topic: Mini Projects\n",
    "# Palindrome check\n",
    "def is_pal(s): return s == s[::-1]\n",
    "print(is_pal('madam'))"
   ]
  },
  {
   "cell_type": "code",
   "execution_count": null,
   "id": "cc79b458",
   "metadata": {},
   "outputs": [],
   "source": [
    "# Topic: Mini Projects\n",
    "# Calculator\n",
    "def calc(a,b,op): return eval(f'{a}{op}{b}')\n",
    "print(calc(5,2,'+'))"
   ]
  },
  {
   "cell_type": "code",
   "execution_count": null,
   "id": "f80051b7",
   "metadata": {},
   "outputs": [],
   "source": [
    "# Topic: Web Scraping\n",
    "import requests\n",
    "from bs4 import BeautifulSoup\n",
    "r = requests.get('https://example.com')\n",
    "soup = BeautifulSoup(r.text, 'html.parser')\n",
    "print(soup.title.text)"
   ]
  },
  {
   "cell_type": "code",
   "execution_count": null,
   "id": "d5156a12",
   "metadata": {},
   "outputs": [],
   "source": [
    "# Topic: Loops\n",
    "for i in range(10): print(i*i)"
   ]
  },
  {
   "cell_type": "code",
   "execution_count": null,
   "id": "90f4e133",
   "metadata": {},
   "outputs": [],
   "source": [
    "# Topic: Decorators\n",
    "def log(func):\n",
    " def wrapper():\n",
    "  print('Call')\n",
    "  func()\n",
    " return wrapper\n",
    "@log\n",
    "def say(): print('Hi')\n",
    "say()"
   ]
  },
  {
   "cell_type": "code",
   "execution_count": null,
   "id": "cd477826",
   "metadata": {},
   "outputs": [],
   "source": [
    "# Topic: Functions\n",
    "def greet(name='User'):\n",
    "    print(f'Hi, {name}')\n",
    "greet()"
   ]
  },
  {
   "cell_type": "code",
   "execution_count": null,
   "id": "aed4bf0b",
   "metadata": {},
   "outputs": [],
   "source": [
    "# Topic: Decorators\n",
    "def log(func):\n",
    " def wrapper():\n",
    "  print('Call')\n",
    "  func()\n",
    " return wrapper\n",
    "@log\n",
    "def say(): print('Hi')\n",
    "say()"
   ]
  },
  {
   "cell_type": "code",
   "execution_count": null,
   "id": "e445876f",
   "metadata": {},
   "outputs": [],
   "source": [
    "# Topic: Decorators\n",
    "def log(func):\n",
    " def wrapper():\n",
    "  print('Call')\n",
    "  func()\n",
    " return wrapper\n",
    "@log\n",
    "def say(): print('Hi')\n",
    "say()"
   ]
  },
  {
   "cell_type": "code",
   "execution_count": null,
   "id": "79cd649a",
   "metadata": {},
   "outputs": [],
   "source": [
    "# Topic: Web Scraping\n",
    "import requests\n",
    "from bs4 import BeautifulSoup\n",
    "r = requests.get('https://example.com')\n",
    "soup = BeautifulSoup(r.text, 'html.parser')\n",
    "print(soup.title.text)"
   ]
  },
  {
   "cell_type": "code",
   "execution_count": null,
   "id": "f8f4136e",
   "metadata": {},
   "outputs": [],
   "source": [
    "# Topic: Mini Projects\n",
    "# Palindrome check\n",
    "def is_pal(s): return s == s[::-1]\n",
    "print(is_pal('madam'))"
   ]
  },
  {
   "cell_type": "code",
   "execution_count": null,
   "id": "ff01499d",
   "metadata": {},
   "outputs": [],
   "source": [
    "# Topic: Lists & Tuples\n",
    "lst = [1, 2, 3]\n",
    "lst.append(4)\n",
    "print(lst)"
   ]
  },
  {
   "cell_type": "code",
   "execution_count": null,
   "id": "cc0f5f6e",
   "metadata": {},
   "outputs": [],
   "source": [
    "# Topic: Decorators\n",
    "def log(func):\n",
    " def wrapper():\n",
    "  print('Call')\n",
    "  func()\n",
    " return wrapper\n",
    "@log\n",
    "def say(): print('Hi')\n",
    "say()"
   ]
  },
  {
   "cell_type": "code",
   "execution_count": null,
   "id": "462c1983",
   "metadata": {},
   "outputs": [],
   "source": [
    "# Topic: Lists & Tuples\n",
    "lst = [1, 2, 3]\n",
    "lst.append(4)\n",
    "print(lst)"
   ]
  },
  {
   "cell_type": "code",
   "execution_count": null,
   "id": "c8c4dd4b",
   "metadata": {},
   "outputs": [],
   "source": [
    "# Topic: Decorators\n",
    "def log(func):\n",
    " def wrapper():\n",
    "  print('Call')\n",
    "  func()\n",
    " return wrapper\n",
    "@log\n",
    "def say(): print('Hi')\n",
    "say()"
   ]
  },
  {
   "cell_type": "code",
   "execution_count": null,
   "id": "2abd146c",
   "metadata": {},
   "outputs": [],
   "source": [
    "# Topic: Lists & Tuples\n",
    "t = (1, 2, 3)\n",
    "print(t[0])"
   ]
  },
  {
   "cell_type": "code",
   "execution_count": null,
   "id": "a7410348",
   "metadata": {},
   "outputs": [],
   "source": [
    "# Topic: Data Cleaning\n",
    "import pandas as pd\n",
    "df = pd.DataFrame({'A':[1,None,3]})\n",
    "df = df.fillna(0)\n",
    "print(df)"
   ]
  },
  {
   "cell_type": "code",
   "execution_count": null,
   "id": "635fa14b",
   "metadata": {},
   "outputs": [],
   "source": [
    "# Topic: Web Scraping\n",
    "import requests\n",
    "from bs4 import BeautifulSoup\n",
    "r = requests.get('https://example.com')\n",
    "soup = BeautifulSoup(r.text, 'html.parser')\n",
    "print(soup.title.text)"
   ]
  },
  {
   "cell_type": "code",
   "execution_count": null,
   "id": "48459248",
   "metadata": {},
   "outputs": [],
   "source": [
    "# Topic: Mini Projects\n",
    "# Calculator\n",
    "def calc(a,b,op): return eval(f'{a}{op}{b}')\n",
    "print(calc(5,2,'+'))"
   ]
  },
  {
   "cell_type": "code",
   "execution_count": null,
   "id": "73787cfe",
   "metadata": {},
   "outputs": [],
   "source": [
    "# Topic: Dictionaries & Sets\n",
    "d = {'name': 'Fahd', 'age': 20}\n",
    "print(d.get('name'))"
   ]
  },
  {
   "cell_type": "code",
   "execution_count": null,
   "id": "fd4594c9",
   "metadata": {},
   "outputs": [],
   "source": [
    "# Topic: Mini Projects\n",
    "# Calculator\n",
    "def calc(a,b,op): return eval(f'{a}{op}{b}')\n",
    "print(calc(5,2,'+'))"
   ]
  },
  {
   "cell_type": "code",
   "execution_count": null,
   "id": "c8bd69af",
   "metadata": {},
   "outputs": [],
   "source": [
    "# Topic: Regex\n",
    "import re\n",
    "text = 'email: test@example.com'\n",
    "print(re.findall(r'\\S+@\\S+', text))"
   ]
  },
  {
   "cell_type": "code",
   "execution_count": null,
   "id": "c43a39c5",
   "metadata": {},
   "outputs": [],
   "source": [
    "# Topic: Mini Projects\n",
    "# Palindrome check\n",
    "def is_pal(s): return s == s[::-1]\n",
    "print(is_pal('madam'))"
   ]
  },
  {
   "cell_type": "code",
   "execution_count": null,
   "id": "24e5b774",
   "metadata": {},
   "outputs": [],
   "source": [
    "# Topic: Regex\n",
    "import re\n",
    "text = 'email: test@example.com'\n",
    "print(re.findall(r'\\S+@\\S+', text))"
   ]
  },
  {
   "cell_type": "code",
   "execution_count": null,
   "id": "59eb0851",
   "metadata": {},
   "outputs": [],
   "source": [
    "# Topic: CLI Tools\n",
    "import sys\n",
    "print(f'Arguments: {sys.argv}')"
   ]
  },
  {
   "cell_type": "code",
   "execution_count": null,
   "id": "9bdd82ec",
   "metadata": {},
   "outputs": [],
   "source": [
    "# Topic: NumPy\n",
    "import numpy as np\n",
    "a = np.array([1, 2, 3])\n",
    "print(a + 5)"
   ]
  },
  {
   "cell_type": "code",
   "execution_count": null,
   "id": "33f8737e",
   "metadata": {},
   "outputs": [],
   "source": [
    "# Topic: NumPy\n",
    "import numpy as np\n",
    "a = np.array([1, 2, 3])\n",
    "print(a + 5)"
   ]
  },
  {
   "cell_type": "code",
   "execution_count": null,
   "id": "d468c41f",
   "metadata": {},
   "outputs": [],
   "source": [
    "# Topic: Decorators\n",
    "def log(func):\n",
    " def wrapper():\n",
    "  print('Call')\n",
    "  func()\n",
    " return wrapper\n",
    "@log\n",
    "def say(): print('Hi')\n",
    "say()"
   ]
  },
  {
   "cell_type": "code",
   "execution_count": null,
   "id": "a5790b45",
   "metadata": {},
   "outputs": [],
   "source": [
    "# Topic: Lists & Tuples\n",
    "t = (1, 2, 3)\n",
    "print(t[0])"
   ]
  },
  {
   "cell_type": "code",
   "execution_count": null,
   "id": "a892e8ab",
   "metadata": {},
   "outputs": [],
   "source": [
    "# Topic: Web Scraping\n",
    "import requests\n",
    "from bs4 import BeautifulSoup\n",
    "r = requests.get('https://example.com')\n",
    "soup = BeautifulSoup(r.text, 'html.parser')\n",
    "print(soup.title.text)"
   ]
  },
  {
   "cell_type": "code",
   "execution_count": null,
   "id": "5ccc62af",
   "metadata": {},
   "outputs": [],
   "source": [
    "# Topic: Basic ML\n",
    "from sklearn.linear_model import LinearRegression\n",
    "model = LinearRegression()\n",
    "print(model)"
   ]
  },
  {
   "cell_type": "code",
   "execution_count": null,
   "id": "f11092ef",
   "metadata": {},
   "outputs": [],
   "source": [
    "# Topic: Matplotlib & Seaborn\n",
    "import matplotlib.pyplot as plt\n",
    "plt.plot([1,2],[3,4])\n",
    "plt.show()"
   ]
  },
  {
   "cell_type": "code",
   "execution_count": null,
   "id": "8472f275",
   "metadata": {},
   "outputs": [],
   "source": [
    "# Topic: File I/O\n",
    "with open('test.txt', 'r') as f:\n",
    "    print(f.read())"
   ]
  },
  {
   "cell_type": "code",
   "execution_count": null,
   "id": "6ce20b7e",
   "metadata": {},
   "outputs": [],
   "source": [
    "# Topic: NumPy\n",
    "import numpy as np\n",
    "print(np.linspace(0, 1, 5))"
   ]
  },
  {
   "cell_type": "code",
   "execution_count": null,
   "id": "6b1f10ca",
   "metadata": {},
   "outputs": [],
   "source": [
    "# Topic: Algorithms\n",
    "# Bubble sort\n",
    "def bubble(arr):\n",
    " for i in range(len(arr)):\n",
    "  for j in range(0, len(arr)-i-1):\n",
    "   if arr[j]>arr[j+1]: arr[j],arr[j+1]=arr[j+1],arr[j]\n",
    "a=[5,3,8]\n",
    "bubble(a)\n",
    "print(a)"
   ]
  },
  {
   "cell_type": "code",
   "execution_count": null,
   "id": "e53d0828",
   "metadata": {},
   "outputs": [],
   "source": [
    "# Topic: Recursion\n",
    "def fact(n): return 1 if n==0 else n*fact(n-1)\n",
    "print(fact(5))"
   ]
  },
  {
   "cell_type": "code",
   "execution_count": null,
   "id": "d664af7e",
   "metadata": {},
   "outputs": [],
   "source": [
    "# Topic: OOP\n",
    "class Student:\n",
    "    def __init__(self, name): self.name = name\n",
    "s = Student('Fahd')\n",
    "print(s.name)"
   ]
  },
  {
   "cell_type": "code",
   "execution_count": null,
   "id": "d3904d6e",
   "metadata": {},
   "outputs": [],
   "source": [
    "# Topic: Decorators\n",
    "def log(func):\n",
    " def wrapper():\n",
    "  print('Call')\n",
    "  func()\n",
    " return wrapper\n",
    "@log\n",
    "def say(): print('Hi')\n",
    "say()"
   ]
  },
  {
   "cell_type": "code",
   "execution_count": null,
   "id": "d9ce4b7d",
   "metadata": {},
   "outputs": [],
   "source": [
    "# Topic: Loops\n",
    "for i in range(10): print(i*i)"
   ]
  },
  {
   "cell_type": "code",
   "execution_count": null,
   "id": "17fb3ec5",
   "metadata": {},
   "outputs": [],
   "source": [
    "# Topic: Data Cleaning\n",
    "import pandas as pd\n",
    "df = pd.DataFrame({'A':[1,None,3]})\n",
    "df = df.fillna(0)\n",
    "print(df)"
   ]
  },
  {
   "cell_type": "code",
   "execution_count": null,
   "id": "182cae4e",
   "metadata": {},
   "outputs": [],
   "source": [
    "# Topic: Recursion\n",
    "def fact(n): return 1 if n==0 else n*fact(n-1)\n",
    "print(fact(5))"
   ]
  },
  {
   "cell_type": "code",
   "execution_count": null,
   "id": "f10f1687",
   "metadata": {},
   "outputs": [],
   "source": [
    "# Topic: OOP\n",
    "class Student:\n",
    "    def __init__(self, name): self.name = name\n",
    "s = Student('Fahd')\n",
    "print(s.name)"
   ]
  },
  {
   "cell_type": "code",
   "execution_count": null,
   "id": "09d77a14",
   "metadata": {},
   "outputs": [],
   "source": [
    "# Topic: Decorators\n",
    "def log(func):\n",
    " def wrapper():\n",
    "  print('Call')\n",
    "  func()\n",
    " return wrapper\n",
    "@log\n",
    "def say(): print('Hi')\n",
    "say()"
   ]
  },
  {
   "cell_type": "code",
   "execution_count": null,
   "id": "30633604",
   "metadata": {},
   "outputs": [],
   "source": [
    "# Topic: CLI Tools\n",
    "import sys\n",
    "print(f'Arguments: {sys.argv}')"
   ]
  },
  {
   "cell_type": "code",
   "execution_count": null,
   "id": "18238cf4",
   "metadata": {},
   "outputs": [],
   "source": [
    "# Topic: Basic ML\n",
    "from sklearn.linear_model import LinearRegression\n",
    "model = LinearRegression()\n",
    "print(model)"
   ]
  },
  {
   "cell_type": "code",
   "execution_count": null,
   "id": "baa07dae",
   "metadata": {},
   "outputs": [],
   "source": [
    "# Topic: File I/O\n",
    "with open('test.txt', 'r') as f:\n",
    "    print(f.read())"
   ]
  },
  {
   "cell_type": "code",
   "execution_count": null,
   "id": "488633dc",
   "metadata": {},
   "outputs": [],
   "source": [
    "# Topic: Data Cleaning\n",
    "import pandas as pd\n",
    "df = pd.DataFrame({'A':[1,None,3]})\n",
    "df = df.fillna(0)\n",
    "print(df)"
   ]
  },
  {
   "cell_type": "code",
   "execution_count": null,
   "id": "79615060",
   "metadata": {},
   "outputs": [],
   "source": [
    "# Topic: Mini Projects\n",
    "# Palindrome check\n",
    "def is_pal(s): return s == s[::-1]\n",
    "print(is_pal('madam'))"
   ]
  },
  {
   "cell_type": "code",
   "execution_count": null,
   "id": "7e8ce304",
   "metadata": {},
   "outputs": [],
   "source": [
    "# Topic: Decorators\n",
    "def log(func):\n",
    " def wrapper():\n",
    "  print('Call')\n",
    "  func()\n",
    " return wrapper\n",
    "@log\n",
    "def say(): print('Hi')\n",
    "say()"
   ]
  },
  {
   "cell_type": "code",
   "execution_count": null,
   "id": "8d16d070",
   "metadata": {},
   "outputs": [],
   "source": [
    "# Topic: Loops\n",
    "while True:\n",
    "    print('Break')\n",
    "    break"
   ]
  },
  {
   "cell_type": "code",
   "execution_count": null,
   "id": "a96429f8",
   "metadata": {},
   "outputs": [],
   "source": [
    "# Topic: Recursion\n",
    "def fact(n): return 1 if n==0 else n*fact(n-1)\n",
    "print(fact(5))"
   ]
  },
  {
   "cell_type": "code",
   "execution_count": null,
   "id": "6184fc97",
   "metadata": {},
   "outputs": [],
   "source": [
    "# Topic: File I/O\n",
    "with open('test.txt', 'r') as f:\n",
    "    print(f.read())"
   ]
  },
  {
   "cell_type": "code",
   "execution_count": null,
   "id": "8bd1b309",
   "metadata": {},
   "outputs": [],
   "source": [
    "# Topic: Basic ML\n",
    "from sklearn.linear_model import LinearRegression\n",
    "model = LinearRegression()\n",
    "print(model)"
   ]
  },
  {
   "cell_type": "code",
   "execution_count": null,
   "id": "b6bd4532",
   "metadata": {},
   "outputs": [],
   "source": [
    "# Topic: CLI Tools\n",
    "import sys\n",
    "print(f'Arguments: {sys.argv}')"
   ]
  },
  {
   "cell_type": "code",
   "execution_count": null,
   "id": "22d51841",
   "metadata": {},
   "outputs": [],
   "source": [
    "# Topic: Web Scraping\n",
    "import requests\n",
    "from bs4 import BeautifulSoup\n",
    "r = requests.get('https://example.com')\n",
    "soup = BeautifulSoup(r.text, 'html.parser')\n",
    "print(soup.title.text)"
   ]
  },
  {
   "cell_type": "code",
   "execution_count": null,
   "id": "42fbc8ed",
   "metadata": {},
   "outputs": [],
   "source": [
    "# Topic: Regex\n",
    "import re\n",
    "text = 'email: test@example.com'\n",
    "print(re.findall(r'\\S+@\\S+', text))"
   ]
  },
  {
   "cell_type": "code",
   "execution_count": null,
   "id": "fa490cec",
   "metadata": {},
   "outputs": [],
   "source": [
    "# Topic: File I/O\n",
    "with open('test.txt', 'r') as f:\n",
    "    print(f.read())"
   ]
  },
  {
   "cell_type": "code",
   "execution_count": null,
   "id": "e58b3101",
   "metadata": {},
   "outputs": [],
   "source": [
    "# Topic: Data Cleaning\n",
    "import pandas as pd\n",
    "df = pd.DataFrame({'A':[1,None,3]})\n",
    "df = df.fillna(0)\n",
    "print(df)"
   ]
  },
  {
   "cell_type": "code",
   "execution_count": null,
   "id": "d74730de",
   "metadata": {},
   "outputs": [],
   "source": [
    "# Topic: Basic ML\n",
    "from sklearn.linear_model import LinearRegression\n",
    "model = LinearRegression()\n",
    "print(model)"
   ]
  },
  {
   "cell_type": "code",
   "execution_count": null,
   "id": "986c73a9",
   "metadata": {},
   "outputs": [],
   "source": [
    "# Topic: Loops\n",
    "while True:\n",
    "    print('Break')\n",
    "    break"
   ]
  },
  {
   "cell_type": "code",
   "execution_count": null,
   "id": "98fe6c6c",
   "metadata": {},
   "outputs": [],
   "source": [
    "# Topic: Pandas\n",
    "import pandas as pd\n",
    "df = pd.read_csv('file.csv')\n",
    "print(df.head())"
   ]
  },
  {
   "cell_type": "code",
   "execution_count": null,
   "id": "149a7e80",
   "metadata": {},
   "outputs": [],
   "source": [
    "# Topic: OOP\n",
    "class Student:\n",
    "    def __init__(self, name): self.name = name\n",
    "s = Student('Fahd')\n",
    "print(s.name)"
   ]
  },
  {
   "cell_type": "code",
   "execution_count": null,
   "id": "e4b85e93",
   "metadata": {},
   "outputs": [],
   "source": [
    "# Topic: Lists & Tuples\n",
    "t = (1, 2, 3)\n",
    "print(t[0])"
   ]
  },
  {
   "cell_type": "code",
   "execution_count": null,
   "id": "095a4278",
   "metadata": {},
   "outputs": [],
   "source": [
    "# Topic: Basic ML\n",
    "from sklearn.linear_model import LinearRegression\n",
    "model = LinearRegression()\n",
    "print(model)"
   ]
  },
  {
   "cell_type": "code",
   "execution_count": null,
   "id": "15890161",
   "metadata": {},
   "outputs": [],
   "source": [
    "# Topic: File I/O\n",
    "with open('test.txt', 'r') as f:\n",
    "    print(f.read())"
   ]
  },
  {
   "cell_type": "code",
   "execution_count": null,
   "id": "392c91ad",
   "metadata": {},
   "outputs": [],
   "source": [
    "# Topic: Loops\n",
    "for i in range(10): print(i*i)"
   ]
  },
  {
   "cell_type": "code",
   "execution_count": null,
   "id": "61e8e622",
   "metadata": {},
   "outputs": [],
   "source": [
    "# Topic: Loops\n",
    "while True:\n",
    "    print('Break')\n",
    "    break"
   ]
  },
  {
   "cell_type": "code",
   "execution_count": null,
   "id": "4dd24541",
   "metadata": {},
   "outputs": [],
   "source": [
    "# Topic: Matplotlib & Seaborn\n",
    "import seaborn as sns\n",
    "import pandas as pd\n",
    "sns.set()\n",
    "sns.histplot(pd.Series([1,2,2,3]));"
   ]
  },
  {
   "cell_type": "code",
   "execution_count": null,
   "id": "14de922f",
   "metadata": {},
   "outputs": [],
   "source": [
    "# Topic: Mini Projects\n",
    "# Calculator\n",
    "def calc(a,b,op): return eval(f'{a}{op}{b}')\n",
    "print(calc(5,2,'+'))"
   ]
  },
  {
   "cell_type": "code",
   "execution_count": null,
   "id": "45b016ef",
   "metadata": {},
   "outputs": [],
   "source": [
    "# Topic: Regex\n",
    "import re\n",
    "text = 'email: test@example.com'\n",
    "print(re.findall(r'\\S+@\\S+', text))"
   ]
  },
  {
   "cell_type": "code",
   "execution_count": null,
   "id": "2ee60763",
   "metadata": {},
   "outputs": [],
   "source": [
    "# Topic: Decorators\n",
    "def log(func):\n",
    " def wrapper():\n",
    "  print('Call')\n",
    "  func()\n",
    " return wrapper\n",
    "@log\n",
    "def say(): print('Hi')\n",
    "say()"
   ]
  },
  {
   "cell_type": "code",
   "execution_count": null,
   "id": "01faffe0",
   "metadata": {},
   "outputs": [],
   "source": [
    "# Topic: Web Scraping\n",
    "import requests\n",
    "from bs4 import BeautifulSoup\n",
    "r = requests.get('https://example.com')\n",
    "soup = BeautifulSoup(r.text, 'html.parser')\n",
    "print(soup.title.text)"
   ]
  },
  {
   "cell_type": "code",
   "execution_count": null,
   "id": "aa439a29",
   "metadata": {},
   "outputs": [],
   "source": [
    "# Topic: Functions\n",
    "def greet(name='User'):\n",
    "    print(f'Hi, {name}')\n",
    "greet()"
   ]
  },
  {
   "cell_type": "code",
   "execution_count": null,
   "id": "0c928a49",
   "metadata": {},
   "outputs": [],
   "source": [
    "# Topic: Basic ML\n",
    "from sklearn.linear_model import LinearRegression\n",
    "model = LinearRegression()\n",
    "print(model)"
   ]
  },
  {
   "cell_type": "code",
   "execution_count": null,
   "id": "142ba1f2",
   "metadata": {},
   "outputs": [],
   "source": [
    "# Topic: Basic ML\n",
    "from sklearn.linear_model import LinearRegression\n",
    "model = LinearRegression()\n",
    "print(model)"
   ]
  },
  {
   "cell_type": "code",
   "execution_count": null,
   "id": "37cd31eb",
   "metadata": {},
   "outputs": [],
   "source": [
    "# Topic: File I/O\n",
    "with open('test.txt', 'r') as f:\n",
    "    print(f.read())"
   ]
  },
  {
   "cell_type": "code",
   "execution_count": null,
   "id": "d2d400ea",
   "metadata": {},
   "outputs": [],
   "source": [
    "# Topic: Recursion\n",
    "def fact(n): return 1 if n==0 else n*fact(n-1)\n",
    "print(fact(5))"
   ]
  },
  {
   "cell_type": "code",
   "execution_count": null,
   "id": "3c32e466",
   "metadata": {},
   "outputs": [],
   "source": [
    "# Topic: Mini Projects\n",
    "# Palindrome check\n",
    "def is_pal(s): return s == s[::-1]\n",
    "print(is_pal('madam'))"
   ]
  },
  {
   "cell_type": "code",
   "execution_count": null,
   "id": "ca685c31",
   "metadata": {},
   "outputs": [],
   "source": [
    "# Topic: Lists & Tuples\n",
    "t = (1, 2, 3)\n",
    "print(t[0])"
   ]
  },
  {
   "cell_type": "code",
   "execution_count": null,
   "id": "3e07fca3",
   "metadata": {},
   "outputs": [],
   "source": [
    "# Topic: JSON & CSV\n",
    "import json\n",
    "data = {'a': 1}\n",
    "print(json.dumps(data))"
   ]
  },
  {
   "cell_type": "code",
   "execution_count": null,
   "id": "63a24f46",
   "metadata": {},
   "outputs": [],
   "source": [
    "# Topic: Basic ML\n",
    "from sklearn.linear_model import LinearRegression\n",
    "model = LinearRegression()\n",
    "print(model)"
   ]
  },
  {
   "cell_type": "code",
   "execution_count": null,
   "id": "4b335818",
   "metadata": {},
   "outputs": [],
   "source": [
    "# Topic: Loops\n",
    "for i in range(10): print(i*i)"
   ]
  },
  {
   "cell_type": "code",
   "execution_count": null,
   "id": "1c9a502f",
   "metadata": {},
   "outputs": [],
   "source": [
    "# Topic: Data Cleaning\n",
    "import pandas as pd\n",
    "df = pd.DataFrame({'A':[1,None,3]})\n",
    "df = df.fillna(0)\n",
    "print(df)"
   ]
  },
  {
   "cell_type": "code",
   "execution_count": null,
   "id": "775db2e5",
   "metadata": {},
   "outputs": [],
   "source": [
    "# Topic: Regex\n",
    "import re\n",
    "text = 'email: test@example.com'\n",
    "print(re.findall(r'\\S+@\\S+', text))"
   ]
  },
  {
   "cell_type": "code",
   "execution_count": null,
   "id": "08a40d5e",
   "metadata": {},
   "outputs": [],
   "source": [
    "# Topic: Lists & Tuples\n",
    "lst = [1, 2, 3]\n",
    "lst.append(4)\n",
    "print(lst)"
   ]
  },
  {
   "cell_type": "code",
   "execution_count": null,
   "id": "d75a289f",
   "metadata": {},
   "outputs": [],
   "source": [
    "# Topic: Dictionaries & Sets\n",
    "s = set([1, 2, 3, 2])\n",
    "print(s)"
   ]
  },
  {
   "cell_type": "code",
   "execution_count": null,
   "id": "c8fa37cf",
   "metadata": {},
   "outputs": [],
   "source": [
    "# Topic: Web Scraping\n",
    "import requests\n",
    "from bs4 import BeautifulSoup\n",
    "r = requests.get('https://example.com')\n",
    "soup = BeautifulSoup(r.text, 'html.parser')\n",
    "print(soup.title.text)"
   ]
  },
  {
   "cell_type": "code",
   "execution_count": null,
   "id": "da677c2d",
   "metadata": {},
   "outputs": [],
   "source": [
    "# Topic: Loops\n",
    "for i in range(10): print(i*i)"
   ]
  },
  {
   "cell_type": "code",
   "execution_count": null,
   "id": "169252e2",
   "metadata": {},
   "outputs": [],
   "source": [
    "# Topic: Algorithms\n",
    "# Bubble sort\n",
    "def bubble(arr):\n",
    " for i in range(len(arr)):\n",
    "  for j in range(0, len(arr)-i-1):\n",
    "   if arr[j]>arr[j+1]: arr[j],arr[j+1]=arr[j+1],arr[j]\n",
    "a=[5,3,8]\n",
    "bubble(a)\n",
    "print(a)"
   ]
  },
  {
   "cell_type": "code",
   "execution_count": null,
   "id": "010573bc",
   "metadata": {},
   "outputs": [],
   "source": [
    "# Topic: Matplotlib & Seaborn\n",
    "import matplotlib.pyplot as plt\n",
    "plt.plot([1,2],[3,4])\n",
    "plt.show()"
   ]
  },
  {
   "cell_type": "code",
   "execution_count": null,
   "id": "a09367a1",
   "metadata": {},
   "outputs": [],
   "source": [
    "# Topic: OOP\n",
    "class Student:\n",
    "    def __init__(self, name): self.name = name\n",
    "s = Student('Fahd')\n",
    "print(s.name)"
   ]
  },
  {
   "cell_type": "code",
   "execution_count": null,
   "id": "31074d1f",
   "metadata": {},
   "outputs": [],
   "source": [
    "# Topic: Dictionaries & Sets\n",
    "d = {'name': 'Fahd', 'age': 20}\n",
    "print(d.get('name'))"
   ]
  },
  {
   "cell_type": "code",
   "execution_count": null,
   "id": "eaf31c92",
   "metadata": {},
   "outputs": [],
   "source": [
    "# Topic: Data Cleaning\n",
    "import pandas as pd\n",
    "df = pd.DataFrame({'A':[1,None,3]})\n",
    "df = df.fillna(0)\n",
    "print(df)"
   ]
  },
  {
   "cell_type": "code",
   "execution_count": null,
   "id": "44d70992",
   "metadata": {},
   "outputs": [],
   "source": [
    "# Topic: Loops\n",
    "for i in range(10): print(i*i)"
   ]
  },
  {
   "cell_type": "code",
   "execution_count": null,
   "id": "56759fca",
   "metadata": {},
   "outputs": [],
   "source": [
    "# Topic: NumPy\n",
    "import numpy as np\n",
    "print(np.linspace(0, 1, 5))"
   ]
  },
  {
   "cell_type": "code",
   "execution_count": null,
   "id": "93368db6",
   "metadata": {},
   "outputs": [],
   "source": [
    "# Topic: Basics\n",
    "name = 'Fahd'\n",
    "print(f'Hello, {name}')"
   ]
  },
  {
   "cell_type": "code",
   "execution_count": null,
   "id": "1a40cfa3",
   "metadata": {},
   "outputs": [],
   "source": [
    "# Topic: Algorithms\n",
    "# Bubble sort\n",
    "def bubble(arr):\n",
    " for i in range(len(arr)):\n",
    "  for j in range(0, len(arr)-i-1):\n",
    "   if arr[j]>arr[j+1]: arr[j],arr[j+1]=arr[j+1],arr[j]\n",
    "a=[5,3,8]\n",
    "bubble(a)\n",
    "print(a)"
   ]
  },
  {
   "cell_type": "code",
   "execution_count": null,
   "id": "7a4f4b08",
   "metadata": {},
   "outputs": [],
   "source": [
    "# Topic: Recursion\n",
    "def fact(n): return 1 if n==0 else n*fact(n-1)\n",
    "print(fact(5))"
   ]
  },
  {
   "cell_type": "code",
   "execution_count": null,
   "id": "218777f2",
   "metadata": {},
   "outputs": [],
   "source": [
    "# Topic: Data Cleaning\n",
    "import pandas as pd\n",
    "df = pd.DataFrame({'A':[1,None,3]})\n",
    "df = df.fillna(0)\n",
    "print(df)"
   ]
  },
  {
   "cell_type": "code",
   "execution_count": null,
   "id": "866391eb",
   "metadata": {},
   "outputs": [],
   "source": [
    "# Topic: Web Scraping\n",
    "import requests\n",
    "from bs4 import BeautifulSoup\n",
    "r = requests.get('https://example.com')\n",
    "soup = BeautifulSoup(r.text, 'html.parser')\n",
    "print(soup.title.text)"
   ]
  },
  {
   "cell_type": "code",
   "execution_count": null,
   "id": "50b9ca37",
   "metadata": {},
   "outputs": [],
   "source": [
    "# Topic: OOP\n",
    "class Student:\n",
    "    def __init__(self, name): self.name = name\n",
    "s = Student('Fahd')\n",
    "print(s.name)"
   ]
  },
  {
   "cell_type": "code",
   "execution_count": null,
   "id": "1a5ea2ae",
   "metadata": {},
   "outputs": [],
   "source": [
    "# Topic: Basics\n",
    "name = 'Fahd'\n",
    "print(f'Hello, {name}')"
   ]
  },
  {
   "cell_type": "code",
   "execution_count": null,
   "id": "da3c9f5a",
   "metadata": {},
   "outputs": [],
   "source": [
    "# Topic: Decorators\n",
    "def log(func):\n",
    " def wrapper():\n",
    "  print('Call')\n",
    "  func()\n",
    " return wrapper\n",
    "@log\n",
    "def say(): print('Hi')\n",
    "say()"
   ]
  },
  {
   "cell_type": "code",
   "execution_count": null,
   "id": "0da52350",
   "metadata": {},
   "outputs": [],
   "source": [
    "# Topic: Loops\n",
    "while True:\n",
    "    print('Break')\n",
    "    break"
   ]
  },
  {
   "cell_type": "code",
   "execution_count": null,
   "id": "49f71334",
   "metadata": {},
   "outputs": [],
   "source": [
    "# Topic: Dictionaries & Sets\n",
    "d = {'name': 'Fahd', 'age': 20}\n",
    "print(d.get('name'))"
   ]
  },
  {
   "cell_type": "code",
   "execution_count": null,
   "id": "679e67e7",
   "metadata": {},
   "outputs": [],
   "source": [
    "# Topic: Algorithms\n",
    "# Bubble sort\n",
    "def bubble(arr):\n",
    " for i in range(len(arr)):\n",
    "  for j in range(0, len(arr)-i-1):\n",
    "   if arr[j]>arr[j+1]: arr[j],arr[j+1]=arr[j+1],arr[j]\n",
    "a=[5,3,8]\n",
    "bubble(a)\n",
    "print(a)"
   ]
  },
  {
   "cell_type": "code",
   "execution_count": null,
   "id": "2891c142",
   "metadata": {},
   "outputs": [],
   "source": [
    "# Topic: Matplotlib & Seaborn\n",
    "import matplotlib.pyplot as plt\n",
    "plt.plot([1,2],[3,4])\n",
    "plt.show()"
   ]
  },
  {
   "cell_type": "code",
   "execution_count": null,
   "id": "114b2353",
   "metadata": {},
   "outputs": [],
   "source": [
    "# Topic: Matplotlib & Seaborn\n",
    "import seaborn as sns\n",
    "import pandas as pd\n",
    "sns.set()\n",
    "sns.histplot(pd.Series([1,2,2,3]));"
   ]
  },
  {
   "cell_type": "code",
   "execution_count": null,
   "id": "7fbeb4fd",
   "metadata": {},
   "outputs": [],
   "source": [
    "# Topic: Matplotlib & Seaborn\n",
    "import seaborn as sns\n",
    "import pandas as pd\n",
    "sns.set()\n",
    "sns.histplot(pd.Series([1,2,2,3]));"
   ]
  },
  {
   "cell_type": "code",
   "execution_count": null,
   "id": "62ed3592",
   "metadata": {},
   "outputs": [],
   "source": [
    "# Topic: Web Scraping\n",
    "import requests\n",
    "from bs4 import BeautifulSoup\n",
    "r = requests.get('https://example.com')\n",
    "soup = BeautifulSoup(r.text, 'html.parser')\n",
    "print(soup.title.text)"
   ]
  },
  {
   "cell_type": "code",
   "execution_count": null,
   "id": "9997366f",
   "metadata": {},
   "outputs": [],
   "source": [
    "# Topic: Decorators\n",
    "def log(func):\n",
    " def wrapper():\n",
    "  print('Call')\n",
    "  func()\n",
    " return wrapper\n",
    "@log\n",
    "def say(): print('Hi')\n",
    "say()"
   ]
  },
  {
   "cell_type": "code",
   "execution_count": null,
   "id": "f28cb2f8",
   "metadata": {},
   "outputs": [],
   "source": [
    "# Topic: Pandas\n",
    "import pandas as pd\n",
    "df = pd.read_csv('file.csv')\n",
    "print(df.head())"
   ]
  },
  {
   "cell_type": "code",
   "execution_count": null,
   "id": "72fe17a0",
   "metadata": {},
   "outputs": [],
   "source": [
    "# Topic: Algorithms\n",
    "# Bubble sort\n",
    "def bubble(arr):\n",
    " for i in range(len(arr)):\n",
    "  for j in range(0, len(arr)-i-1):\n",
    "   if arr[j]>arr[j+1]: arr[j],arr[j+1]=arr[j+1],arr[j]\n",
    "a=[5,3,8]\n",
    "bubble(a)\n",
    "print(a)"
   ]
  },
  {
   "cell_type": "code",
   "execution_count": null,
   "id": "a841a6c6",
   "metadata": {},
   "outputs": [],
   "source": [
    "# Topic: NumPy\n",
    "import numpy as np\n",
    "a = np.array([1, 2, 3])\n",
    "print(a + 5)"
   ]
  },
  {
   "cell_type": "code",
   "execution_count": null,
   "id": "7ca6b8d3",
   "metadata": {},
   "outputs": [],
   "source": [
    "# Topic: Functions\n",
    "def greet(name='User'):\n",
    "    print(f'Hi, {name}')\n",
    "greet()"
   ]
  },
  {
   "cell_type": "code",
   "execution_count": null,
   "id": "9dffe086",
   "metadata": {},
   "outputs": [],
   "source": [
    "# Topic: Functions\n",
    "def greet(name='User'):\n",
    "    print(f'Hi, {name}')\n",
    "greet()"
   ]
  },
  {
   "cell_type": "code",
   "execution_count": null,
   "id": "eed86850",
   "metadata": {},
   "outputs": [],
   "source": [
    "# Topic: Pandas\n",
    "import pandas as pd\n",
    "df = pd.DataFrame({'A':[1,2],'B':[3,4]})\n",
    "print(df)"
   ]
  },
  {
   "cell_type": "code",
   "execution_count": null,
   "id": "6aa8d4c0",
   "metadata": {},
   "outputs": [],
   "source": [
    "# Topic: Matplotlib & Seaborn\n",
    "import seaborn as sns\n",
    "import pandas as pd\n",
    "sns.set()\n",
    "sns.histplot(pd.Series([1,2,2,3]));"
   ]
  },
  {
   "cell_type": "code",
   "execution_count": null,
   "id": "925b1cb7",
   "metadata": {},
   "outputs": [],
   "source": [
    "# Topic: Regex\n",
    "import re\n",
    "text = 'email: test@example.com'\n",
    "print(re.findall(r'\\S+@\\S+', text))"
   ]
  },
  {
   "cell_type": "code",
   "execution_count": null,
   "id": "9a4aed8c",
   "metadata": {},
   "outputs": [],
   "source": [
    "# Topic: Lists & Tuples\n",
    "lst = [1, 2, 3]\n",
    "lst.append(4)\n",
    "print(lst)"
   ]
  },
  {
   "cell_type": "code",
   "execution_count": null,
   "id": "6fed87d2",
   "metadata": {},
   "outputs": [],
   "source": [
    "# Topic: JSON & CSV\n",
    "import csv\n",
    "with open('file.csv', 'w', newline='') as f:\n",
    " csv.writer(f).writerow(['a','b','c'])"
   ]
  },
  {
   "cell_type": "code",
   "execution_count": null,
   "id": "686a35ce",
   "metadata": {},
   "outputs": [],
   "source": [
    "# Topic: Basic ML\n",
    "from sklearn.linear_model import LinearRegression\n",
    "model = LinearRegression()\n",
    "print(model)"
   ]
  },
  {
   "cell_type": "code",
   "execution_count": null,
   "id": "823b4ea5",
   "metadata": {},
   "outputs": [],
   "source": [
    "# Topic: Matplotlib & Seaborn\n",
    "import seaborn as sns\n",
    "import pandas as pd\n",
    "sns.set()\n",
    "sns.histplot(pd.Series([1,2,2,3]));"
   ]
  },
  {
   "cell_type": "code",
   "execution_count": null,
   "id": "af3b348a",
   "metadata": {},
   "outputs": [],
   "source": [
    "# Topic: File I/O\n",
    "with open('test.txt', 'w') as f:\n",
    "    f.write('Hello World')"
   ]
  },
  {
   "cell_type": "code",
   "execution_count": null,
   "id": "b10a1025",
   "metadata": {},
   "outputs": [],
   "source": [
    "# Topic: OOP\n",
    "class Student:\n",
    "    def __init__(self, name): self.name = name\n",
    "s = Student('Fahd')\n",
    "print(s.name)"
   ]
  },
  {
   "cell_type": "code",
   "execution_count": null,
   "id": "a7f140fa",
   "metadata": {},
   "outputs": [],
   "source": [
    "# Topic: Matplotlib & Seaborn\n",
    "import seaborn as sns\n",
    "import pandas as pd\n",
    "sns.set()\n",
    "sns.histplot(pd.Series([1,2,2,3]));"
   ]
  },
  {
   "cell_type": "code",
   "execution_count": null,
   "id": "26a38317",
   "metadata": {},
   "outputs": [],
   "source": [
    "# Topic: Data Cleaning\n",
    "import pandas as pd\n",
    "df = pd.DataFrame({'A':[1,None,3]})\n",
    "df = df.fillna(0)\n",
    "print(df)"
   ]
  },
  {
   "cell_type": "code",
   "execution_count": null,
   "id": "0505be60",
   "metadata": {},
   "outputs": [],
   "source": [
    "# Topic: Dictionaries & Sets\n",
    "s = set([1, 2, 3, 2])\n",
    "print(s)"
   ]
  },
  {
   "cell_type": "code",
   "execution_count": null,
   "id": "5a806921",
   "metadata": {},
   "outputs": [],
   "source": [
    "# Topic: NumPy\n",
    "import numpy as np\n",
    "print(np.linspace(0, 1, 5))"
   ]
  },
  {
   "cell_type": "code",
   "execution_count": null,
   "id": "2cc449b5",
   "metadata": {},
   "outputs": [],
   "source": [
    "# Topic: OOP\n",
    "class Student:\n",
    "    def __init__(self, name): self.name = name\n",
    "s = Student('Fahd')\n",
    "print(s.name)"
   ]
  },
  {
   "cell_type": "code",
   "execution_count": null,
   "id": "bfdc5bbb",
   "metadata": {},
   "outputs": [],
   "source": [
    "# Topic: Functions\n",
    "def greet(name='User'):\n",
    "    print(f'Hi, {name}')\n",
    "greet()"
   ]
  },
  {
   "cell_type": "code",
   "execution_count": null,
   "id": "80b20df1",
   "metadata": {},
   "outputs": [],
   "source": [
    "# Topic: File I/O\n",
    "with open('test.txt', 'w') as f:\n",
    "    f.write('Hello World')"
   ]
  },
  {
   "cell_type": "code",
   "execution_count": null,
   "id": "eb9a4fde",
   "metadata": {},
   "outputs": [],
   "source": [
    "# Topic: Data Cleaning\n",
    "import pandas as pd\n",
    "df = pd.DataFrame({'A':[1,None,3]})\n",
    "df = df.fillna(0)\n",
    "print(df)"
   ]
  },
  {
   "cell_type": "code",
   "execution_count": null,
   "id": "51affbd3",
   "metadata": {},
   "outputs": [],
   "source": [
    "# Topic: Recursion\n",
    "def fact(n): return 1 if n==0 else n*fact(n-1)\n",
    "print(fact(5))"
   ]
  },
  {
   "cell_type": "code",
   "execution_count": null,
   "id": "21d59de5",
   "metadata": {},
   "outputs": [],
   "source": [
    "# Topic: Decorators\n",
    "def log(func):\n",
    " def wrapper():\n",
    "  print('Call')\n",
    "  func()\n",
    " return wrapper\n",
    "@log\n",
    "def say(): print('Hi')\n",
    "say()"
   ]
  },
  {
   "cell_type": "code",
   "execution_count": null,
   "id": "4ecbd2b9",
   "metadata": {},
   "outputs": [],
   "source": [
    "# Topic: OOP\n",
    "class Student:\n",
    "    def __init__(self, name): self.name = name\n",
    "s = Student('Fahd')\n",
    "print(s.name)"
   ]
  },
  {
   "cell_type": "code",
   "execution_count": null,
   "id": "b4294266",
   "metadata": {},
   "outputs": [],
   "source": [
    "# Topic: Algorithms\n",
    "# Bubble sort\n",
    "def bubble(arr):\n",
    " for i in range(len(arr)):\n",
    "  for j in range(0, len(arr)-i-1):\n",
    "   if arr[j]>arr[j+1]: arr[j],arr[j+1]=arr[j+1],arr[j]\n",
    "a=[5,3,8]\n",
    "bubble(a)\n",
    "print(a)"
   ]
  },
  {
   "cell_type": "code",
   "execution_count": null,
   "id": "41e038e7",
   "metadata": {},
   "outputs": [],
   "source": [
    "# Topic: Lists & Tuples\n",
    "lst = [1, 2, 3]\n",
    "lst.append(4)\n",
    "print(lst)"
   ]
  },
  {
   "cell_type": "code",
   "execution_count": null,
   "id": "8573901a",
   "metadata": {},
   "outputs": [],
   "source": [
    "# Topic: Web Scraping\n",
    "import requests\n",
    "from bs4 import BeautifulSoup\n",
    "r = requests.get('https://example.com')\n",
    "soup = BeautifulSoup(r.text, 'html.parser')\n",
    "print(soup.title.text)"
   ]
  },
  {
   "cell_type": "code",
   "execution_count": null,
   "id": "90e9fc33",
   "metadata": {},
   "outputs": [],
   "source": [
    "# Topic: Data Cleaning\n",
    "import pandas as pd\n",
    "df = pd.DataFrame({'A':[1,None,3]})\n",
    "df = df.fillna(0)\n",
    "print(df)"
   ]
  },
  {
   "cell_type": "code",
   "execution_count": null,
   "id": "386fb07d",
   "metadata": {},
   "outputs": [],
   "source": [
    "# Topic: Regex\n",
    "import re\n",
    "text = 'email: test@example.com'\n",
    "print(re.findall(r'\\S+@\\S+', text))"
   ]
  },
  {
   "cell_type": "code",
   "execution_count": null,
   "id": "6aa53aa2",
   "metadata": {},
   "outputs": [],
   "source": [
    "# Topic: Mini Projects\n",
    "# Calculator\n",
    "def calc(a,b,op): return eval(f'{a}{op}{b}')\n",
    "print(calc(5,2,'+'))"
   ]
  },
  {
   "cell_type": "code",
   "execution_count": null,
   "id": "71759312",
   "metadata": {},
   "outputs": [],
   "source": [
    "# Topic: Matplotlib & Seaborn\n",
    "import seaborn as sns\n",
    "import pandas as pd\n",
    "sns.set()\n",
    "sns.histplot(pd.Series([1,2,2,3]));"
   ]
  },
  {
   "cell_type": "code",
   "execution_count": null,
   "id": "4bf9505b",
   "metadata": {},
   "outputs": [],
   "source": [
    "# Topic: Data Cleaning\n",
    "import pandas as pd\n",
    "df = pd.DataFrame({'A':[1,None,3]})\n",
    "df = df.fillna(0)\n",
    "print(df)"
   ]
  },
  {
   "cell_type": "code",
   "execution_count": null,
   "id": "5cffef58",
   "metadata": {},
   "outputs": [],
   "source": [
    "# Topic: Loops\n",
    "while True:\n",
    "    print('Break')\n",
    "    break"
   ]
  },
  {
   "cell_type": "code",
   "execution_count": null,
   "id": "eeb13402",
   "metadata": {},
   "outputs": [],
   "source": [
    "# Topic: Matplotlib & Seaborn\n",
    "import seaborn as sns\n",
    "import pandas as pd\n",
    "sns.set()\n",
    "sns.histplot(pd.Series([1,2,2,3]));"
   ]
  },
  {
   "cell_type": "code",
   "execution_count": null,
   "id": "6158f703",
   "metadata": {},
   "outputs": [],
   "source": [
    "# Topic: Data Cleaning\n",
    "import pandas as pd\n",
    "df = pd.DataFrame({'A':[1,None,3]})\n",
    "df = df.fillna(0)\n",
    "print(df)"
   ]
  },
  {
   "cell_type": "code",
   "execution_count": null,
   "id": "767eece1",
   "metadata": {},
   "outputs": [],
   "source": [
    "# Topic: CLI Tools\n",
    "import sys\n",
    "print(f'Arguments: {sys.argv}')"
   ]
  },
  {
   "cell_type": "code",
   "execution_count": null,
   "id": "168a2492",
   "metadata": {},
   "outputs": [],
   "source": [
    "# Topic: NumPy\n",
    "import numpy as np\n",
    "print(np.linspace(0, 1, 5))"
   ]
  },
  {
   "cell_type": "code",
   "execution_count": null,
   "id": "c97acc36",
   "metadata": {},
   "outputs": [],
   "source": [
    "# Topic: Loops\n",
    "while True:\n",
    "    print('Break')\n",
    "    break"
   ]
  },
  {
   "cell_type": "code",
   "execution_count": null,
   "id": "23c2f69b",
   "metadata": {},
   "outputs": [],
   "source": [
    "# Topic: Algorithms\n",
    "# Bubble sort\n",
    "def bubble(arr):\n",
    " for i in range(len(arr)):\n",
    "  for j in range(0, len(arr)-i-1):\n",
    "   if arr[j]>arr[j+1]: arr[j],arr[j+1]=arr[j+1],arr[j]\n",
    "a=[5,3,8]\n",
    "bubble(a)\n",
    "print(a)"
   ]
  },
  {
   "cell_type": "code",
   "execution_count": null,
   "id": "b5d5c3e8",
   "metadata": {},
   "outputs": [],
   "source": [
    "# Topic: Basic ML\n",
    "from sklearn.linear_model import LinearRegression\n",
    "model = LinearRegression()\n",
    "print(model)"
   ]
  },
  {
   "cell_type": "code",
   "execution_count": null,
   "id": "a94f88de",
   "metadata": {},
   "outputs": [],
   "source": [
    "# Topic: Loops\n",
    "for i in range(10): print(i*i)"
   ]
  },
  {
   "cell_type": "code",
   "execution_count": null,
   "id": "c84c9d3d",
   "metadata": {},
   "outputs": [],
   "source": [
    "# Topic: CLI Tools\n",
    "import sys\n",
    "print(f'Arguments: {sys.argv}')"
   ]
  },
  {
   "cell_type": "code",
   "execution_count": null,
   "id": "b13905eb",
   "metadata": {},
   "outputs": [],
   "source": [
    "# Topic: Web Scraping\n",
    "import requests\n",
    "from bs4 import BeautifulSoup\n",
    "r = requests.get('https://example.com')\n",
    "soup = BeautifulSoup(r.text, 'html.parser')\n",
    "print(soup.title.text)"
   ]
  },
  {
   "cell_type": "code",
   "execution_count": null,
   "id": "d61164df",
   "metadata": {},
   "outputs": [],
   "source": [
    "# Topic: Dictionaries & Sets\n",
    "s = set([1, 2, 3, 2])\n",
    "print(s)"
   ]
  },
  {
   "cell_type": "code",
   "execution_count": null,
   "id": "fa55ae81",
   "metadata": {},
   "outputs": [],
   "source": [
    "# Topic: OOP\n",
    "class Student:\n",
    "    def __init__(self, name): self.name = name\n",
    "s = Student('Fahd')\n",
    "print(s.name)"
   ]
  },
  {
   "cell_type": "code",
   "execution_count": null,
   "id": "8f18c431",
   "metadata": {},
   "outputs": [],
   "source": [
    "# Topic: Web Scraping\n",
    "import requests\n",
    "from bs4 import BeautifulSoup\n",
    "r = requests.get('https://example.com')\n",
    "soup = BeautifulSoup(r.text, 'html.parser')\n",
    "print(soup.title.text)"
   ]
  },
  {
   "cell_type": "code",
   "execution_count": null,
   "id": "363043e8",
   "metadata": {},
   "outputs": [],
   "source": [
    "# Topic: File I/O\n",
    "with open('test.txt', 'r') as f:\n",
    "    print(f.read())"
   ]
  },
  {
   "cell_type": "code",
   "execution_count": null,
   "id": "3b42441f",
   "metadata": {},
   "outputs": [],
   "source": [
    "# Topic: Functions\n",
    "def square(x): return x*x\n",
    "print(square(5))"
   ]
  },
  {
   "cell_type": "code",
   "execution_count": null,
   "id": "182a1a98",
   "metadata": {},
   "outputs": [],
   "source": [
    "# Topic: NumPy\n",
    "import numpy as np\n",
    "print(np.linspace(0, 1, 5))"
   ]
  },
  {
   "cell_type": "code",
   "execution_count": null,
   "id": "3ef2ed29",
   "metadata": {},
   "outputs": [],
   "source": [
    "# Topic: JSON & CSV\n",
    "import json\n",
    "data = {'a': 1}\n",
    "print(json.dumps(data))"
   ]
  },
  {
   "cell_type": "code",
   "execution_count": null,
   "id": "9eb021aa",
   "metadata": {},
   "outputs": [],
   "source": [
    "# Topic: Matplotlib & Seaborn\n",
    "import matplotlib.pyplot as plt\n",
    "plt.plot([1,2],[3,4])\n",
    "plt.show()"
   ]
  },
  {
   "cell_type": "code",
   "execution_count": null,
   "id": "02d5450a",
   "metadata": {},
   "outputs": [],
   "source": [
    "# Topic: Decorators\n",
    "def log(func):\n",
    " def wrapper():\n",
    "  print('Call')\n",
    "  func()\n",
    " return wrapper\n",
    "@log\n",
    "def say(): print('Hi')\n",
    "say()"
   ]
  },
  {
   "cell_type": "code",
   "execution_count": null,
   "id": "88b96678",
   "metadata": {},
   "outputs": [],
   "source": [
    "# Topic: OOP\n",
    "class Student:\n",
    "    def __init__(self, name): self.name = name\n",
    "s = Student('Fahd')\n",
    "print(s.name)"
   ]
  },
  {
   "cell_type": "code",
   "execution_count": null,
   "id": "cdfcbe95",
   "metadata": {},
   "outputs": [],
   "source": [
    "# Topic: Pandas\n",
    "import pandas as pd\n",
    "df = pd.read_csv('file.csv')\n",
    "print(df.head())"
   ]
  },
  {
   "cell_type": "code",
   "execution_count": null,
   "id": "9af57977",
   "metadata": {},
   "outputs": [],
   "source": [
    "# Topic: CLI Tools\n",
    "import sys\n",
    "print(f'Arguments: {sys.argv}')"
   ]
  },
  {
   "cell_type": "code",
   "execution_count": null,
   "id": "c021ac27",
   "metadata": {},
   "outputs": [],
   "source": [
    "# Topic: Matplotlib & Seaborn\n",
    "import matplotlib.pyplot as plt\n",
    "plt.plot([1,2],[3,4])\n",
    "plt.show()"
   ]
  },
  {
   "cell_type": "code",
   "execution_count": null,
   "id": "f5d364b6",
   "metadata": {},
   "outputs": [],
   "source": [
    "# Topic: Web Scraping\n",
    "import requests\n",
    "from bs4 import BeautifulSoup\n",
    "r = requests.get('https://example.com')\n",
    "soup = BeautifulSoup(r.text, 'html.parser')\n",
    "print(soup.title.text)"
   ]
  },
  {
   "cell_type": "code",
   "execution_count": null,
   "id": "81ab4e15",
   "metadata": {},
   "outputs": [],
   "source": [
    "# Topic: Dictionaries & Sets\n",
    "d = {'name': 'Fahd', 'age': 20}\n",
    "print(d.get('name'))"
   ]
  },
  {
   "cell_type": "code",
   "execution_count": null,
   "id": "e3412696",
   "metadata": {},
   "outputs": [],
   "source": [
    "# Topic: File I/O\n",
    "with open('test.txt', 'r') as f:\n",
    "    print(f.read())"
   ]
  },
  {
   "cell_type": "code",
   "execution_count": null,
   "id": "dbad98b4",
   "metadata": {},
   "outputs": [],
   "source": [
    "# Topic: Basics\n",
    "x = 10\n",
    "y = 20\n",
    "print(x + y)"
   ]
  },
  {
   "cell_type": "code",
   "execution_count": null,
   "id": "564dffc6",
   "metadata": {},
   "outputs": [],
   "source": [
    "# Topic: File I/O\n",
    "with open('test.txt', 'r') as f:\n",
    "    print(f.read())"
   ]
  },
  {
   "cell_type": "code",
   "execution_count": null,
   "id": "6a17c8fa",
   "metadata": {},
   "outputs": [],
   "source": [
    "# Topic: OOP\n",
    "class Student:\n",
    "    def __init__(self, name): self.name = name\n",
    "s = Student('Fahd')\n",
    "print(s.name)"
   ]
  },
  {
   "cell_type": "code",
   "execution_count": null,
   "id": "726bc136",
   "metadata": {},
   "outputs": [],
   "source": [
    "# Topic: Matplotlib & Seaborn\n",
    "import seaborn as sns\n",
    "import pandas as pd\n",
    "sns.set()\n",
    "sns.histplot(pd.Series([1,2,2,3]));"
   ]
  },
  {
   "cell_type": "code",
   "execution_count": null,
   "id": "61271a3f",
   "metadata": {},
   "outputs": [],
   "source": [
    "# Topic: CLI Tools\n",
    "import sys\n",
    "print(f'Arguments: {sys.argv}')"
   ]
  },
  {
   "cell_type": "code",
   "execution_count": null,
   "id": "d3cc5bd2",
   "metadata": {},
   "outputs": [],
   "source": [
    "# Topic: Basic ML\n",
    "from sklearn.linear_model import LinearRegression\n",
    "model = LinearRegression()\n",
    "print(model)"
   ]
  },
  {
   "cell_type": "code",
   "execution_count": null,
   "id": "4a0579b6",
   "metadata": {},
   "outputs": [],
   "source": [
    "# Topic: Mini Projects\n",
    "# Calculator\n",
    "def calc(a,b,op): return eval(f'{a}{op}{b}')\n",
    "print(calc(5,2,'+'))"
   ]
  },
  {
   "cell_type": "code",
   "execution_count": null,
   "id": "1b042d7d",
   "metadata": {},
   "outputs": [],
   "source": [
    "# Topic: JSON & CSV\n",
    "import json\n",
    "data = {'a': 1}\n",
    "print(json.dumps(data))"
   ]
  },
  {
   "cell_type": "code",
   "execution_count": null,
   "id": "3bc986f0",
   "metadata": {},
   "outputs": [],
   "source": [
    "# Topic: Pandas\n",
    "import pandas as pd\n",
    "df = pd.read_csv('file.csv')\n",
    "print(df.head())"
   ]
  },
  {
   "cell_type": "code",
   "execution_count": null,
   "id": "dc9742ab",
   "metadata": {},
   "outputs": [],
   "source": [
    "# Topic: JSON & CSV\n",
    "import csv\n",
    "with open('file.csv', 'w', newline='') as f:\n",
    " csv.writer(f).writerow(['a','b','c'])"
   ]
  },
  {
   "cell_type": "code",
   "execution_count": null,
   "id": "53ad7ae8",
   "metadata": {},
   "outputs": [],
   "source": [
    "# Topic: Loops\n",
    "for i in range(10): print(i*i)"
   ]
  },
  {
   "cell_type": "code",
   "execution_count": null,
   "id": "c666b191",
   "metadata": {},
   "outputs": [],
   "source": [
    "# Topic: Pandas\n",
    "import pandas as pd\n",
    "df = pd.DataFrame({'A':[1,2],'B':[3,4]})\n",
    "print(df)"
   ]
  },
  {
   "cell_type": "code",
   "execution_count": null,
   "id": "e71dc21e",
   "metadata": {},
   "outputs": [],
   "source": [
    "# Topic: Basics\n",
    "x = 10\n",
    "y = 20\n",
    "print(x + y)"
   ]
  },
  {
   "cell_type": "code",
   "execution_count": null,
   "id": "227c0525",
   "metadata": {},
   "outputs": [],
   "source": [
    "# Topic: Matplotlib & Seaborn\n",
    "import seaborn as sns\n",
    "import pandas as pd\n",
    "sns.set()\n",
    "sns.histplot(pd.Series([1,2,2,3]));"
   ]
  },
  {
   "cell_type": "code",
   "execution_count": null,
   "id": "9138f427",
   "metadata": {},
   "outputs": [],
   "source": [
    "# Topic: Dictionaries & Sets\n",
    "s = set([1, 2, 3, 2])\n",
    "print(s)"
   ]
  },
  {
   "cell_type": "code",
   "execution_count": null,
   "id": "fc1e344f",
   "metadata": {},
   "outputs": [],
   "source": [
    "# Topic: Dictionaries & Sets\n",
    "s = set([1, 2, 3, 2])\n",
    "print(s)"
   ]
  },
  {
   "cell_type": "code",
   "execution_count": null,
   "id": "de49120b",
   "metadata": {},
   "outputs": [],
   "source": [
    "# Topic: Mini Projects\n",
    "# Palindrome check\n",
    "def is_pal(s): return s == s[::-1]\n",
    "print(is_pal('madam'))"
   ]
  },
  {
   "cell_type": "code",
   "execution_count": null,
   "id": "14f6772e",
   "metadata": {},
   "outputs": [],
   "source": [
    "# Topic: Web Scraping\n",
    "import requests\n",
    "from bs4 import BeautifulSoup\n",
    "r = requests.get('https://example.com')\n",
    "soup = BeautifulSoup(r.text, 'html.parser')\n",
    "print(soup.title.text)"
   ]
  },
  {
   "cell_type": "code",
   "execution_count": null,
   "id": "0a4df4e2",
   "metadata": {},
   "outputs": [],
   "source": [
    "# Topic: OOP\n",
    "class Student:\n",
    "    def __init__(self, name): self.name = name\n",
    "s = Student('Fahd')\n",
    "print(s.name)"
   ]
  },
  {
   "cell_type": "code",
   "execution_count": null,
   "id": "4357e9f2",
   "metadata": {},
   "outputs": [],
   "source": [
    "# Topic: Algorithms\n",
    "# Bubble sort\n",
    "def bubble(arr):\n",
    " for i in range(len(arr)):\n",
    "  for j in range(0, len(arr)-i-1):\n",
    "   if arr[j]>arr[j+1]: arr[j],arr[j+1]=arr[j+1],arr[j]\n",
    "a=[5,3,8]\n",
    "bubble(a)\n",
    "print(a)"
   ]
  },
  {
   "cell_type": "code",
   "execution_count": null,
   "id": "bf5eba4d",
   "metadata": {},
   "outputs": [],
   "source": [
    "# Topic: CLI Tools\n",
    "import sys\n",
    "print(f'Arguments: {sys.argv}')"
   ]
  },
  {
   "cell_type": "code",
   "execution_count": null,
   "id": "847414a4",
   "metadata": {},
   "outputs": [],
   "source": [
    "# Topic: Algorithms\n",
    "# Bubble sort\n",
    "def bubble(arr):\n",
    " for i in range(len(arr)):\n",
    "  for j in range(0, len(arr)-i-1):\n",
    "   if arr[j]>arr[j+1]: arr[j],arr[j+1]=arr[j+1],arr[j]\n",
    "a=[5,3,8]\n",
    "bubble(a)\n",
    "print(a)"
   ]
  },
  {
   "cell_type": "code",
   "execution_count": null,
   "id": "fdafdd16",
   "metadata": {},
   "outputs": [],
   "source": [
    "# Topic: Basic ML\n",
    "from sklearn.linear_model import LinearRegression\n",
    "model = LinearRegression()\n",
    "print(model)"
   ]
  },
  {
   "cell_type": "code",
   "execution_count": null,
   "id": "95a0c9bf",
   "metadata": {},
   "outputs": [],
   "source": [
    "# Topic: Decorators\n",
    "def log(func):\n",
    " def wrapper():\n",
    "  print('Call')\n",
    "  func()\n",
    " return wrapper\n",
    "@log\n",
    "def say(): print('Hi')\n",
    "say()"
   ]
  },
  {
   "cell_type": "code",
   "execution_count": null,
   "id": "f9e8a21e",
   "metadata": {},
   "outputs": [],
   "source": [
    "# Topic: Lists & Tuples\n",
    "t = (1, 2, 3)\n",
    "print(t[0])"
   ]
  },
  {
   "cell_type": "code",
   "execution_count": null,
   "id": "ea201bcb",
   "metadata": {},
   "outputs": [],
   "source": [
    "# Topic: File I/O\n",
    "with open('test.txt', 'w') as f:\n",
    "    f.write('Hello World')"
   ]
  },
  {
   "cell_type": "code",
   "execution_count": null,
   "id": "3e9a5ab3",
   "metadata": {},
   "outputs": [],
   "source": [
    "# Topic: Algorithms\n",
    "# Bubble sort\n",
    "def bubble(arr):\n",
    " for i in range(len(arr)):\n",
    "  for j in range(0, len(arr)-i-1):\n",
    "   if arr[j]>arr[j+1]: arr[j],arr[j+1]=arr[j+1],arr[j]\n",
    "a=[5,3,8]\n",
    "bubble(a)\n",
    "print(a)"
   ]
  },
  {
   "cell_type": "code",
   "execution_count": null,
   "id": "0c1c2e39",
   "metadata": {},
   "outputs": [],
   "source": [
    "# Topic: NumPy\n",
    "import numpy as np\n",
    "print(np.linspace(0, 1, 5))"
   ]
  },
  {
   "cell_type": "code",
   "execution_count": null,
   "id": "760c7dd8",
   "metadata": {},
   "outputs": [],
   "source": [
    "# Topic: NumPy\n",
    "import numpy as np\n",
    "print(np.linspace(0, 1, 5))"
   ]
  },
  {
   "cell_type": "code",
   "execution_count": null,
   "id": "95012670",
   "metadata": {},
   "outputs": [],
   "source": [
    "# Topic: OOP\n",
    "class Student:\n",
    "    def __init__(self, name): self.name = name\n",
    "s = Student('Fahd')\n",
    "print(s.name)"
   ]
  },
  {
   "cell_type": "code",
   "execution_count": null,
   "id": "0d4e15dd",
   "metadata": {},
   "outputs": [],
   "source": [
    "# Topic: Lists & Tuples\n",
    "t = (1, 2, 3)\n",
    "print(t[0])"
   ]
  },
  {
   "cell_type": "code",
   "execution_count": null,
   "id": "9c3cbd5e",
   "metadata": {},
   "outputs": [],
   "source": [
    "# Topic: Basic ML\n",
    "from sklearn.linear_model import LinearRegression\n",
    "model = LinearRegression()\n",
    "print(model)"
   ]
  },
  {
   "cell_type": "code",
   "execution_count": null,
   "id": "e9c3997b",
   "metadata": {},
   "outputs": [],
   "source": [
    "# Topic: Loops\n",
    "while True:\n",
    "    print('Break')\n",
    "    break"
   ]
  },
  {
   "cell_type": "code",
   "execution_count": null,
   "id": "7bfce15a",
   "metadata": {},
   "outputs": [],
   "source": [
    "# Topic: Lists & Tuples\n",
    "lst = [1, 2, 3]\n",
    "lst.append(4)\n",
    "print(lst)"
   ]
  },
  {
   "cell_type": "code",
   "execution_count": null,
   "id": "726f2192",
   "metadata": {},
   "outputs": [],
   "source": [
    "# Topic: Loops\n",
    "while True:\n",
    "    print('Break')\n",
    "    break"
   ]
  },
  {
   "cell_type": "code",
   "execution_count": null,
   "id": "2d1391d8",
   "metadata": {},
   "outputs": [],
   "source": [
    "# Topic: Lists & Tuples\n",
    "lst = [1, 2, 3]\n",
    "lst.append(4)\n",
    "print(lst)"
   ]
  },
  {
   "cell_type": "code",
   "execution_count": null,
   "id": "1599cabc",
   "metadata": {},
   "outputs": [],
   "source": [
    "# Topic: Decorators\n",
    "def log(func):\n",
    " def wrapper():\n",
    "  print('Call')\n",
    "  func()\n",
    " return wrapper\n",
    "@log\n",
    "def say(): print('Hi')\n",
    "say()"
   ]
  },
  {
   "cell_type": "code",
   "execution_count": null,
   "id": "23e016d2",
   "metadata": {},
   "outputs": [],
   "source": [
    "# Topic: Recursion\n",
    "def fact(n): return 1 if n==0 else n*fact(n-1)\n",
    "print(fact(5))"
   ]
  },
  {
   "cell_type": "code",
   "execution_count": null,
   "id": "d7a172c6",
   "metadata": {},
   "outputs": [],
   "source": [
    "# Topic: CLI Tools\n",
    "import sys\n",
    "print(f'Arguments: {sys.argv}')"
   ]
  },
  {
   "cell_type": "code",
   "execution_count": null,
   "id": "ed652e96",
   "metadata": {},
   "outputs": [],
   "source": [
    "# Topic: CLI Tools\n",
    "import sys\n",
    "print(f'Arguments: {sys.argv}')"
   ]
  },
  {
   "cell_type": "code",
   "execution_count": null,
   "id": "34d65a0b",
   "metadata": {},
   "outputs": [],
   "source": [
    "# Topic: NumPy\n",
    "import numpy as np\n",
    "print(np.linspace(0, 1, 5))"
   ]
  },
  {
   "cell_type": "code",
   "execution_count": null,
   "id": "7090c085",
   "metadata": {},
   "outputs": [],
   "source": [
    "# Topic: Mini Projects\n",
    "# Calculator\n",
    "def calc(a,b,op): return eval(f'{a}{op}{b}')\n",
    "print(calc(5,2,'+'))"
   ]
  },
  {
   "cell_type": "code",
   "execution_count": null,
   "id": "d02568b1",
   "metadata": {},
   "outputs": [],
   "source": [
    "# Topic: Lists & Tuples\n",
    "lst = [1, 2, 3]\n",
    "lst.append(4)\n",
    "print(lst)"
   ]
  },
  {
   "cell_type": "code",
   "execution_count": null,
   "id": "dd7a88db",
   "metadata": {},
   "outputs": [],
   "source": [
    "# Topic: Loops\n",
    "while True:\n",
    "    print('Break')\n",
    "    break"
   ]
  },
  {
   "cell_type": "code",
   "execution_count": null,
   "id": "f59c1df6",
   "metadata": {},
   "outputs": [],
   "source": [
    "# Topic: Matplotlib & Seaborn\n",
    "import seaborn as sns\n",
    "import pandas as pd\n",
    "sns.set()\n",
    "sns.histplot(pd.Series([1,2,2,3]));"
   ]
  },
  {
   "cell_type": "code",
   "execution_count": null,
   "id": "f3d84b6c",
   "metadata": {},
   "outputs": [],
   "source": [
    "# Topic: Basics\n",
    "name = 'Fahd'\n",
    "print(f'Hello, {name}')"
   ]
  },
  {
   "cell_type": "code",
   "execution_count": null,
   "id": "4d66e030",
   "metadata": {},
   "outputs": [],
   "source": [
    "# Topic: Dictionaries & Sets\n",
    "d = {'name': 'Fahd', 'age': 20}\n",
    "print(d.get('name'))"
   ]
  },
  {
   "cell_type": "code",
   "execution_count": null,
   "id": "1416f46a",
   "metadata": {},
   "outputs": [],
   "source": [
    "# Topic: Basics\n",
    "x = 10\n",
    "y = 20\n",
    "print(x + y)"
   ]
  },
  {
   "cell_type": "code",
   "execution_count": null,
   "id": "fee6d6da",
   "metadata": {},
   "outputs": [],
   "source": [
    "# Topic: Matplotlib & Seaborn\n",
    "import seaborn as sns\n",
    "import pandas as pd\n",
    "sns.set()\n",
    "sns.histplot(pd.Series([1,2,2,3]));"
   ]
  },
  {
   "cell_type": "code",
   "execution_count": null,
   "id": "17395573",
   "metadata": {},
   "outputs": [],
   "source": [
    "# Topic: CLI Tools\n",
    "import sys\n",
    "print(f'Arguments: {sys.argv}')"
   ]
  },
  {
   "cell_type": "code",
   "execution_count": null,
   "id": "b6e9ab31",
   "metadata": {},
   "outputs": [],
   "source": [
    "# Topic: Web Scraping\n",
    "import requests\n",
    "from bs4 import BeautifulSoup\n",
    "r = requests.get('https://example.com')\n",
    "soup = BeautifulSoup(r.text, 'html.parser')\n",
    "print(soup.title.text)"
   ]
  },
  {
   "cell_type": "code",
   "execution_count": null,
   "id": "931744e9",
   "metadata": {},
   "outputs": [],
   "source": [
    "# Topic: Matplotlib & Seaborn\n",
    "import matplotlib.pyplot as plt\n",
    "plt.plot([1,2],[3,4])\n",
    "plt.show()"
   ]
  },
  {
   "cell_type": "code",
   "execution_count": null,
   "id": "23da5afe",
   "metadata": {},
   "outputs": [],
   "source": [
    "# Topic: Lists & Tuples\n",
    "t = (1, 2, 3)\n",
    "print(t[0])"
   ]
  },
  {
   "cell_type": "code",
   "execution_count": null,
   "id": "41b02917",
   "metadata": {},
   "outputs": [],
   "source": [
    "# Topic: Recursion\n",
    "def fact(n): return 1 if n==0 else n*fact(n-1)\n",
    "print(fact(5))"
   ]
  },
  {
   "cell_type": "code",
   "execution_count": null,
   "id": "4902c248",
   "metadata": {},
   "outputs": [],
   "source": [
    "# Topic: Dictionaries & Sets\n",
    "s = set([1, 2, 3, 2])\n",
    "print(s)"
   ]
  },
  {
   "cell_type": "code",
   "execution_count": null,
   "id": "5ae9c5a8",
   "metadata": {},
   "outputs": [],
   "source": [
    "# Topic: Pandas\n",
    "import pandas as pd\n",
    "df = pd.DataFrame({'A':[1,2],'B':[3,4]})\n",
    "print(df)"
   ]
  },
  {
   "cell_type": "code",
   "execution_count": null,
   "id": "226618ee",
   "metadata": {},
   "outputs": [],
   "source": [
    "# Topic: Mini Projects\n",
    "# Palindrome check\n",
    "def is_pal(s): return s == s[::-1]\n",
    "print(is_pal('madam'))"
   ]
  },
  {
   "cell_type": "code",
   "execution_count": null,
   "id": "950e182f",
   "metadata": {},
   "outputs": [],
   "source": [
    "# Topic: Mini Projects\n",
    "# Palindrome check\n",
    "def is_pal(s): return s == s[::-1]\n",
    "print(is_pal('madam'))"
   ]
  },
  {
   "cell_type": "code",
   "execution_count": null,
   "id": "00b1c4e3",
   "metadata": {},
   "outputs": [],
   "source": [
    "# Topic: Regex\n",
    "import re\n",
    "text = 'email: test@example.com'\n",
    "print(re.findall(r'\\S+@\\S+', text))"
   ]
  },
  {
   "cell_type": "code",
   "execution_count": null,
   "id": "65dae5f7",
   "metadata": {},
   "outputs": [],
   "source": [
    "# Topic: Recursion\n",
    "def fact(n): return 1 if n==0 else n*fact(n-1)\n",
    "print(fact(5))"
   ]
  },
  {
   "cell_type": "code",
   "execution_count": null,
   "id": "975955f7",
   "metadata": {},
   "outputs": [],
   "source": [
    "# Topic: File I/O\n",
    "with open('test.txt', 'w') as f:\n",
    "    f.write('Hello World')"
   ]
  },
  {
   "cell_type": "code",
   "execution_count": null,
   "id": "4e480df7",
   "metadata": {},
   "outputs": [],
   "source": [
    "# Topic: Lists & Tuples\n",
    "t = (1, 2, 3)\n",
    "print(t[0])"
   ]
  },
  {
   "cell_type": "code",
   "execution_count": null,
   "id": "0b6b192e",
   "metadata": {},
   "outputs": [],
   "source": [
    "# Topic: Decorators\n",
    "def log(func):\n",
    " def wrapper():\n",
    "  print('Call')\n",
    "  func()\n",
    " return wrapper\n",
    "@log\n",
    "def say(): print('Hi')\n",
    "say()"
   ]
  },
  {
   "cell_type": "code",
   "execution_count": null,
   "id": "82b3f310",
   "metadata": {},
   "outputs": [],
   "source": [
    "# Topic: Data Cleaning\n",
    "import pandas as pd\n",
    "df = pd.DataFrame({'A':[1,None,3]})\n",
    "df = df.fillna(0)\n",
    "print(df)"
   ]
  },
  {
   "cell_type": "code",
   "execution_count": null,
   "id": "51f7a787",
   "metadata": {},
   "outputs": [],
   "source": [
    "# Topic: Algorithms\n",
    "# Bubble sort\n",
    "def bubble(arr):\n",
    " for i in range(len(arr)):\n",
    "  for j in range(0, len(arr)-i-1):\n",
    "   if arr[j]>arr[j+1]: arr[j],arr[j+1]=arr[j+1],arr[j]\n",
    "a=[5,3,8]\n",
    "bubble(a)\n",
    "print(a)"
   ]
  },
  {
   "cell_type": "code",
   "execution_count": null,
   "id": "2ca698f8",
   "metadata": {},
   "outputs": [],
   "source": [
    "# Topic: Basic ML\n",
    "from sklearn.linear_model import LinearRegression\n",
    "model = LinearRegression()\n",
    "print(model)"
   ]
  },
  {
   "cell_type": "code",
   "execution_count": null,
   "id": "1233b4ae",
   "metadata": {},
   "outputs": [],
   "source": [
    "# Topic: Pandas\n",
    "import pandas as pd\n",
    "df = pd.read_csv('file.csv')\n",
    "print(df.head())"
   ]
  },
  {
   "cell_type": "code",
   "execution_count": null,
   "id": "bcc98abe",
   "metadata": {},
   "outputs": [],
   "source": [
    "# Topic: Mini Projects\n",
    "# Calculator\n",
    "def calc(a,b,op): return eval(f'{a}{op}{b}')\n",
    "print(calc(5,2,'+'))"
   ]
  },
  {
   "cell_type": "code",
   "execution_count": null,
   "id": "7aeb3e6a",
   "metadata": {},
   "outputs": [],
   "source": [
    "# Topic: Pandas\n",
    "import pandas as pd\n",
    "df = pd.DataFrame({'A':[1,2],'B':[3,4]})\n",
    "print(df)"
   ]
  },
  {
   "cell_type": "code",
   "execution_count": null,
   "id": "e66398c0",
   "metadata": {},
   "outputs": [],
   "source": [
    "# Topic: Regex\n",
    "import re\n",
    "text = 'email: test@example.com'\n",
    "print(re.findall(r'\\S+@\\S+', text))"
   ]
  },
  {
   "cell_type": "code",
   "execution_count": null,
   "id": "9e06397e",
   "metadata": {},
   "outputs": [],
   "source": [
    "# Topic: Decorators\n",
    "def log(func):\n",
    " def wrapper():\n",
    "  print('Call')\n",
    "  func()\n",
    " return wrapper\n",
    "@log\n",
    "def say(): print('Hi')\n",
    "say()"
   ]
  },
  {
   "cell_type": "code",
   "execution_count": null,
   "id": "2ca45096",
   "metadata": {},
   "outputs": [],
   "source": [
    "# Topic: Functions\n",
    "def square(x): return x*x\n",
    "print(square(5))"
   ]
  },
  {
   "cell_type": "code",
   "execution_count": null,
   "id": "a94222e2",
   "metadata": {},
   "outputs": [],
   "source": [
    "# Topic: Lists & Tuples\n",
    "lst = [1, 2, 3]\n",
    "lst.append(4)\n",
    "print(lst)"
   ]
  },
  {
   "cell_type": "code",
   "execution_count": null,
   "id": "d58bbcee",
   "metadata": {},
   "outputs": [],
   "source": [
    "# Topic: Loops\n",
    "for i in range(10): print(i*i)"
   ]
  },
  {
   "cell_type": "code",
   "execution_count": null,
   "id": "8c87b1c2",
   "metadata": {},
   "outputs": [],
   "source": [
    "# Topic: Data Cleaning\n",
    "import pandas as pd\n",
    "df = pd.DataFrame({'A':[1,None,3]})\n",
    "df = df.fillna(0)\n",
    "print(df)"
   ]
  },
  {
   "cell_type": "code",
   "execution_count": null,
   "id": "19ec4feb",
   "metadata": {},
   "outputs": [],
   "source": [
    "# Topic: Dictionaries & Sets\n",
    "s = set([1, 2, 3, 2])\n",
    "print(s)"
   ]
  },
  {
   "cell_type": "code",
   "execution_count": null,
   "id": "6fda1914",
   "metadata": {},
   "outputs": [],
   "source": [
    "# Topic: Regex\n",
    "import re\n",
    "text = 'email: test@example.com'\n",
    "print(re.findall(r'\\S+@\\S+', text))"
   ]
  },
  {
   "cell_type": "code",
   "execution_count": null,
   "id": "493ab3a9",
   "metadata": {},
   "outputs": [],
   "source": [
    "# Topic: Matplotlib & Seaborn\n",
    "import seaborn as sns\n",
    "import pandas as pd\n",
    "sns.set()\n",
    "sns.histplot(pd.Series([1,2,2,3]));"
   ]
  },
  {
   "cell_type": "code",
   "execution_count": null,
   "id": "a6b65c55",
   "metadata": {},
   "outputs": [],
   "source": [
    "# Topic: Lists & Tuples\n",
    "t = (1, 2, 3)\n",
    "print(t[0])"
   ]
  },
  {
   "cell_type": "code",
   "execution_count": null,
   "id": "b1869036",
   "metadata": {},
   "outputs": [],
   "source": [
    "# Topic: Basic ML\n",
    "from sklearn.linear_model import LinearRegression\n",
    "model = LinearRegression()\n",
    "print(model)"
   ]
  },
  {
   "cell_type": "code",
   "execution_count": null,
   "id": "6e667a14",
   "metadata": {},
   "outputs": [],
   "source": [
    "# Topic: NumPy\n",
    "import numpy as np\n",
    "a = np.array([1, 2, 3])\n",
    "print(a + 5)"
   ]
  },
  {
   "cell_type": "code",
   "execution_count": null,
   "id": "b68ee12e",
   "metadata": {},
   "outputs": [],
   "source": [
    "# Topic: Regex\n",
    "import re\n",
    "text = 'email: test@example.com'\n",
    "print(re.findall(r'\\S+@\\S+', text))"
   ]
  },
  {
   "cell_type": "code",
   "execution_count": null,
   "id": "1c5de4e1",
   "metadata": {},
   "outputs": [],
   "source": [
    "# Topic: File I/O\n",
    "with open('test.txt', 'w') as f:\n",
    "    f.write('Hello World')"
   ]
  },
  {
   "cell_type": "code",
   "execution_count": null,
   "id": "9709e09c",
   "metadata": {},
   "outputs": [],
   "source": [
    "# Topic: Basic ML\n",
    "from sklearn.linear_model import LinearRegression\n",
    "model = LinearRegression()\n",
    "print(model)"
   ]
  },
  {
   "cell_type": "code",
   "execution_count": null,
   "id": "adca1310",
   "metadata": {},
   "outputs": [],
   "source": [
    "# Topic: Pandas\n",
    "import pandas as pd\n",
    "df = pd.DataFrame({'A':[1,2],'B':[3,4]})\n",
    "print(df)"
   ]
  },
  {
   "cell_type": "code",
   "execution_count": null,
   "id": "b7389408",
   "metadata": {},
   "outputs": [],
   "source": [
    "# Topic: JSON & CSV\n",
    "import json\n",
    "data = {'a': 1}\n",
    "print(json.dumps(data))"
   ]
  },
  {
   "cell_type": "code",
   "execution_count": null,
   "id": "f8c51eac",
   "metadata": {},
   "outputs": [],
   "source": [
    "# Topic: Data Cleaning\n",
    "import pandas as pd\n",
    "df = pd.DataFrame({'A':[1,None,3]})\n",
    "df = df.fillna(0)\n",
    "print(df)"
   ]
  },
  {
   "cell_type": "code",
   "execution_count": null,
   "id": "b0869b3f",
   "metadata": {},
   "outputs": [],
   "source": [
    "# Topic: Pandas\n",
    "import pandas as pd\n",
    "df = pd.DataFrame({'A':[1,2],'B':[3,4]})\n",
    "print(df)"
   ]
  },
  {
   "cell_type": "code",
   "execution_count": null,
   "id": "1be8e056",
   "metadata": {},
   "outputs": [],
   "source": [
    "# Topic: Basic ML\n",
    "from sklearn.linear_model import LinearRegression\n",
    "model = LinearRegression()\n",
    "print(model)"
   ]
  },
  {
   "cell_type": "code",
   "execution_count": null,
   "id": "6d6152cb",
   "metadata": {},
   "outputs": [],
   "source": [
    "# Topic: Data Cleaning\n",
    "import pandas as pd\n",
    "df = pd.DataFrame({'A':[1,None,3]})\n",
    "df = df.fillna(0)\n",
    "print(df)"
   ]
  },
  {
   "cell_type": "code",
   "execution_count": null,
   "id": "475f3c61",
   "metadata": {},
   "outputs": [],
   "source": [
    "# Topic: Mini Projects\n",
    "# Palindrome check\n",
    "def is_pal(s): return s == s[::-1]\n",
    "print(is_pal('madam'))"
   ]
  },
  {
   "cell_type": "code",
   "execution_count": null,
   "id": "b1ddb2a4",
   "metadata": {},
   "outputs": [],
   "source": [
    "# Topic: Recursion\n",
    "def fact(n): return 1 if n==0 else n*fact(n-1)\n",
    "print(fact(5))"
   ]
  },
  {
   "cell_type": "code",
   "execution_count": null,
   "id": "d2941e29",
   "metadata": {},
   "outputs": [],
   "source": [
    "# Topic: NumPy\n",
    "import numpy as np\n",
    "a = np.array([1, 2, 3])\n",
    "print(a + 5)"
   ]
  },
  {
   "cell_type": "code",
   "execution_count": null,
   "id": "7edc9958",
   "metadata": {},
   "outputs": [],
   "source": [
    "# Topic: Algorithms\n",
    "# Bubble sort\n",
    "def bubble(arr):\n",
    " for i in range(len(arr)):\n",
    "  for j in range(0, len(arr)-i-1):\n",
    "   if arr[j]>arr[j+1]: arr[j],arr[j+1]=arr[j+1],arr[j]\n",
    "a=[5,3,8]\n",
    "bubble(a)\n",
    "print(a)"
   ]
  },
  {
   "cell_type": "code",
   "execution_count": null,
   "id": "78da6db2",
   "metadata": {},
   "outputs": [],
   "source": [
    "# Topic: Web Scraping\n",
    "import requests\n",
    "from bs4 import BeautifulSoup\n",
    "r = requests.get('https://example.com')\n",
    "soup = BeautifulSoup(r.text, 'html.parser')\n",
    "print(soup.title.text)"
   ]
  },
  {
   "cell_type": "code",
   "execution_count": null,
   "id": "0902a501",
   "metadata": {},
   "outputs": [],
   "source": [
    "# Topic: Recursion\n",
    "def fact(n): return 1 if n==0 else n*fact(n-1)\n",
    "print(fact(5))"
   ]
  },
  {
   "cell_type": "code",
   "execution_count": null,
   "id": "66c52490",
   "metadata": {},
   "outputs": [],
   "source": [
    "# Topic: Pandas\n",
    "import pandas as pd\n",
    "df = pd.read_csv('file.csv')\n",
    "print(df.head())"
   ]
  },
  {
   "cell_type": "code",
   "execution_count": null,
   "id": "67a677ab",
   "metadata": {},
   "outputs": [],
   "source": [
    "# Topic: Basic ML\n",
    "from sklearn.linear_model import LinearRegression\n",
    "model = LinearRegression()\n",
    "print(model)"
   ]
  },
  {
   "cell_type": "code",
   "execution_count": null,
   "id": "1e03dae4",
   "metadata": {},
   "outputs": [],
   "source": [
    "# Topic: Recursion\n",
    "def fact(n): return 1 if n==0 else n*fact(n-1)\n",
    "print(fact(5))"
   ]
  },
  {
   "cell_type": "code",
   "execution_count": null,
   "id": "0d13f17a",
   "metadata": {},
   "outputs": [],
   "source": [
    "# Topic: Matplotlib & Seaborn\n",
    "import seaborn as sns\n",
    "import pandas as pd\n",
    "sns.set()\n",
    "sns.histplot(pd.Series([1,2,2,3]));"
   ]
  },
  {
   "cell_type": "code",
   "execution_count": null,
   "id": "a14fa98c",
   "metadata": {},
   "outputs": [],
   "source": [
    "# Topic: JSON & CSV\n",
    "import json\n",
    "data = {'a': 1}\n",
    "print(json.dumps(data))"
   ]
  },
  {
   "cell_type": "code",
   "execution_count": null,
   "id": "7ac6b397",
   "metadata": {},
   "outputs": [],
   "source": [
    "# Topic: Lists & Tuples\n",
    "t = (1, 2, 3)\n",
    "print(t[0])"
   ]
  },
  {
   "cell_type": "code",
   "execution_count": null,
   "id": "92080621",
   "metadata": {},
   "outputs": [],
   "source": [
    "# Topic: Algorithms\n",
    "# Bubble sort\n",
    "def bubble(arr):\n",
    " for i in range(len(arr)):\n",
    "  for j in range(0, len(arr)-i-1):\n",
    "   if arr[j]>arr[j+1]: arr[j],arr[j+1]=arr[j+1],arr[j]\n",
    "a=[5,3,8]\n",
    "bubble(a)\n",
    "print(a)"
   ]
  },
  {
   "cell_type": "code",
   "execution_count": null,
   "id": "30a435a1",
   "metadata": {},
   "outputs": [],
   "source": [
    "# Topic: NumPy\n",
    "import numpy as np\n",
    "a = np.array([1, 2, 3])\n",
    "print(a + 5)"
   ]
  },
  {
   "cell_type": "code",
   "execution_count": null,
   "id": "9778b630",
   "metadata": {},
   "outputs": [],
   "source": [
    "# Topic: JSON & CSV\n",
    "import csv\n",
    "with open('file.csv', 'w', newline='') as f:\n",
    " csv.writer(f).writerow(['a','b','c'])"
   ]
  },
  {
   "cell_type": "code",
   "execution_count": null,
   "id": "e47f2679",
   "metadata": {},
   "outputs": [],
   "source": [
    "# Topic: Matplotlib & Seaborn\n",
    "import seaborn as sns\n",
    "import pandas as pd\n",
    "sns.set()\n",
    "sns.histplot(pd.Series([1,2,2,3]));"
   ]
  },
  {
   "cell_type": "code",
   "execution_count": null,
   "id": "08c1c043",
   "metadata": {},
   "outputs": [],
   "source": [
    "# Topic: JSON & CSV\n",
    "import json\n",
    "data = {'a': 1}\n",
    "print(json.dumps(data))"
   ]
  },
  {
   "cell_type": "code",
   "execution_count": null,
   "id": "b6108628",
   "metadata": {},
   "outputs": [],
   "source": [
    "# Topic: Algorithms\n",
    "# Bubble sort\n",
    "def bubble(arr):\n",
    " for i in range(len(arr)):\n",
    "  for j in range(0, len(arr)-i-1):\n",
    "   if arr[j]>arr[j+1]: arr[j],arr[j+1]=arr[j+1],arr[j]\n",
    "a=[5,3,8]\n",
    "bubble(a)\n",
    "print(a)"
   ]
  },
  {
   "cell_type": "code",
   "execution_count": null,
   "id": "88b48a18",
   "metadata": {},
   "outputs": [],
   "source": [
    "# Topic: Mini Projects\n",
    "# Palindrome check\n",
    "def is_pal(s): return s == s[::-1]\n",
    "print(is_pal('madam'))"
   ]
  },
  {
   "cell_type": "code",
   "execution_count": null,
   "id": "9a0d087f",
   "metadata": {},
   "outputs": [],
   "source": [
    "# Topic: Loops\n",
    "while True:\n",
    "    print('Break')\n",
    "    break"
   ]
  },
  {
   "cell_type": "code",
   "execution_count": null,
   "id": "066419ee",
   "metadata": {},
   "outputs": [],
   "source": [
    "# Topic: Algorithms\n",
    "# Bubble sort\n",
    "def bubble(arr):\n",
    " for i in range(len(arr)):\n",
    "  for j in range(0, len(arr)-i-1):\n",
    "   if arr[j]>arr[j+1]: arr[j],arr[j+1]=arr[j+1],arr[j]\n",
    "a=[5,3,8]\n",
    "bubble(a)\n",
    "print(a)"
   ]
  },
  {
   "cell_type": "code",
   "execution_count": null,
   "id": "dc6c4214",
   "metadata": {},
   "outputs": [],
   "source": [
    "# Topic: Matplotlib & Seaborn\n",
    "import matplotlib.pyplot as plt\n",
    "plt.plot([1,2],[3,4])\n",
    "plt.show()"
   ]
  },
  {
   "cell_type": "code",
   "execution_count": null,
   "id": "246061b6",
   "metadata": {},
   "outputs": [],
   "source": [
    "# Topic: Decorators\n",
    "def log(func):\n",
    " def wrapper():\n",
    "  print('Call')\n",
    "  func()\n",
    " return wrapper\n",
    "@log\n",
    "def say(): print('Hi')\n",
    "say()"
   ]
  },
  {
   "cell_type": "code",
   "execution_count": null,
   "id": "397c2ea5",
   "metadata": {},
   "outputs": [],
   "source": [
    "# Topic: Regex\n",
    "import re\n",
    "text = 'email: test@example.com'\n",
    "print(re.findall(r'\\S+@\\S+', text))"
   ]
  },
  {
   "cell_type": "code",
   "execution_count": null,
   "id": "c696f51d",
   "metadata": {},
   "outputs": [],
   "source": [
    "# Topic: Lists & Tuples\n",
    "lst = [1, 2, 3]\n",
    "lst.append(4)\n",
    "print(lst)"
   ]
  },
  {
   "cell_type": "code",
   "execution_count": null,
   "id": "02c4c68e",
   "metadata": {},
   "outputs": [],
   "source": [
    "# Topic: Decorators\n",
    "def log(func):\n",
    " def wrapper():\n",
    "  print('Call')\n",
    "  func()\n",
    " return wrapper\n",
    "@log\n",
    "def say(): print('Hi')\n",
    "say()"
   ]
  },
  {
   "cell_type": "code",
   "execution_count": null,
   "id": "1f659354",
   "metadata": {},
   "outputs": [],
   "source": [
    "# Topic: Algorithms\n",
    "# Bubble sort\n",
    "def bubble(arr):\n",
    " for i in range(len(arr)):\n",
    "  for j in range(0, len(arr)-i-1):\n",
    "   if arr[j]>arr[j+1]: arr[j],arr[j+1]=arr[j+1],arr[j]\n",
    "a=[5,3,8]\n",
    "bubble(a)\n",
    "print(a)"
   ]
  },
  {
   "cell_type": "code",
   "execution_count": null,
   "id": "4f8991ed",
   "metadata": {},
   "outputs": [],
   "source": [
    "# Topic: Mini Projects\n",
    "# Palindrome check\n",
    "def is_pal(s): return s == s[::-1]\n",
    "print(is_pal('madam'))"
   ]
  },
  {
   "cell_type": "code",
   "execution_count": null,
   "id": "9e195c07",
   "metadata": {},
   "outputs": [],
   "source": [
    "# Topic: Basic ML\n",
    "from sklearn.linear_model import LinearRegression\n",
    "model = LinearRegression()\n",
    "print(model)"
   ]
  },
  {
   "cell_type": "code",
   "execution_count": null,
   "id": "69bd2d3d",
   "metadata": {},
   "outputs": [],
   "source": [
    "# Topic: Data Cleaning\n",
    "import pandas as pd\n",
    "df = pd.DataFrame({'A':[1,None,3]})\n",
    "df = df.fillna(0)\n",
    "print(df)"
   ]
  },
  {
   "cell_type": "code",
   "execution_count": null,
   "id": "7797e9fb",
   "metadata": {},
   "outputs": [],
   "source": [
    "# Topic: File I/O\n",
    "with open('test.txt', 'w') as f:\n",
    "    f.write('Hello World')"
   ]
  },
  {
   "cell_type": "code",
   "execution_count": null,
   "id": "db06603a",
   "metadata": {},
   "outputs": [],
   "source": [
    "# Topic: Mini Projects\n",
    "# Palindrome check\n",
    "def is_pal(s): return s == s[::-1]\n",
    "print(is_pal('madam'))"
   ]
  },
  {
   "cell_type": "code",
   "execution_count": null,
   "id": "4315fbbc",
   "metadata": {},
   "outputs": [],
   "source": [
    "# Topic: Functions\n",
    "def greet(name='User'):\n",
    "    print(f'Hi, {name}')\n",
    "greet()"
   ]
  },
  {
   "cell_type": "code",
   "execution_count": null,
   "id": "da2ca94f",
   "metadata": {},
   "outputs": [],
   "source": [
    "# Topic: Web Scraping\n",
    "import requests\n",
    "from bs4 import BeautifulSoup\n",
    "r = requests.get('https://example.com')\n",
    "soup = BeautifulSoup(r.text, 'html.parser')\n",
    "print(soup.title.text)"
   ]
  },
  {
   "cell_type": "code",
   "execution_count": null,
   "id": "8fd637a1",
   "metadata": {},
   "outputs": [],
   "source": [
    "# Topic: Algorithms\n",
    "# Bubble sort\n",
    "def bubble(arr):\n",
    " for i in range(len(arr)):\n",
    "  for j in range(0, len(arr)-i-1):\n",
    "   if arr[j]>arr[j+1]: arr[j],arr[j+1]=arr[j+1],arr[j]\n",
    "a=[5,3,8]\n",
    "bubble(a)\n",
    "print(a)"
   ]
  },
  {
   "cell_type": "code",
   "execution_count": null,
   "id": "d60a5cc1",
   "metadata": {},
   "outputs": [],
   "source": [
    "# Topic: Decorators\n",
    "def log(func):\n",
    " def wrapper():\n",
    "  print('Call')\n",
    "  func()\n",
    " return wrapper\n",
    "@log\n",
    "def say(): print('Hi')\n",
    "say()"
   ]
  },
  {
   "cell_type": "code",
   "execution_count": null,
   "id": "cf62330b",
   "metadata": {},
   "outputs": [],
   "source": [
    "# Topic: Basic ML\n",
    "from sklearn.linear_model import LinearRegression\n",
    "model = LinearRegression()\n",
    "print(model)"
   ]
  },
  {
   "cell_type": "code",
   "execution_count": null,
   "id": "c8c1ea28",
   "metadata": {},
   "outputs": [],
   "source": [
    "# Topic: Dictionaries & Sets\n",
    "s = set([1, 2, 3, 2])\n",
    "print(s)"
   ]
  },
  {
   "cell_type": "code",
   "execution_count": null,
   "id": "4961cb3b",
   "metadata": {},
   "outputs": [],
   "source": [
    "# Topic: Basic ML\n",
    "from sklearn.linear_model import LinearRegression\n",
    "model = LinearRegression()\n",
    "print(model)"
   ]
  },
  {
   "cell_type": "code",
   "execution_count": null,
   "id": "53b67bee",
   "metadata": {},
   "outputs": [],
   "source": [
    "# Topic: Data Cleaning\n",
    "import pandas as pd\n",
    "df = pd.DataFrame({'A':[1,None,3]})\n",
    "df = df.fillna(0)\n",
    "print(df)"
   ]
  },
  {
   "cell_type": "code",
   "execution_count": null,
   "id": "0b08d662",
   "metadata": {},
   "outputs": [],
   "source": [
    "# Topic: Web Scraping\n",
    "import requests\n",
    "from bs4 import BeautifulSoup\n",
    "r = requests.get('https://example.com')\n",
    "soup = BeautifulSoup(r.text, 'html.parser')\n",
    "print(soup.title.text)"
   ]
  },
  {
   "cell_type": "code",
   "execution_count": null,
   "id": "d888cc37",
   "metadata": {},
   "outputs": [],
   "source": [
    "# Topic: CLI Tools\n",
    "import sys\n",
    "print(f'Arguments: {sys.argv}')"
   ]
  },
  {
   "cell_type": "code",
   "execution_count": null,
   "id": "5e061172",
   "metadata": {},
   "outputs": [],
   "source": [
    "# Topic: NumPy\n",
    "import numpy as np\n",
    "print(np.linspace(0, 1, 5))"
   ]
  },
  {
   "cell_type": "code",
   "execution_count": null,
   "id": "90b3828c",
   "metadata": {},
   "outputs": [],
   "source": [
    "# Topic: Dictionaries & Sets\n",
    "d = {'name': 'Fahd', 'age': 20}\n",
    "print(d.get('name'))"
   ]
  },
  {
   "cell_type": "code",
   "execution_count": null,
   "id": "fd4f3181",
   "metadata": {},
   "outputs": [],
   "source": [
    "# Topic: Decorators\n",
    "def log(func):\n",
    " def wrapper():\n",
    "  print('Call')\n",
    "  func()\n",
    " return wrapper\n",
    "@log\n",
    "def say(): print('Hi')\n",
    "say()"
   ]
  },
  {
   "cell_type": "code",
   "execution_count": null,
   "id": "89388c7a",
   "metadata": {},
   "outputs": [],
   "source": [
    "# Topic: JSON & CSV\n",
    "import json\n",
    "data = {'a': 1}\n",
    "print(json.dumps(data))"
   ]
  },
  {
   "cell_type": "code",
   "execution_count": null,
   "id": "c1fb21fd",
   "metadata": {},
   "outputs": [],
   "source": [
    "# Topic: Mini Projects\n",
    "# Palindrome check\n",
    "def is_pal(s): return s == s[::-1]\n",
    "print(is_pal('madam'))"
   ]
  },
  {
   "cell_type": "code",
   "execution_count": null,
   "id": "e5b67267",
   "metadata": {},
   "outputs": [],
   "source": [
    "# Topic: Pandas\n",
    "import pandas as pd\n",
    "df = pd.DataFrame({'A':[1,2],'B':[3,4]})\n",
    "print(df)"
   ]
  },
  {
   "cell_type": "code",
   "execution_count": null,
   "id": "eb613b8b",
   "metadata": {},
   "outputs": [],
   "source": [
    "# Topic: OOP\n",
    "class Student:\n",
    "    def __init__(self, name): self.name = name\n",
    "s = Student('Fahd')\n",
    "print(s.name)"
   ]
  },
  {
   "cell_type": "code",
   "execution_count": null,
   "id": "36882299",
   "metadata": {},
   "outputs": [],
   "source": [
    "# Topic: Pandas\n",
    "import pandas as pd\n",
    "df = pd.read_csv('file.csv')\n",
    "print(df.head())"
   ]
  },
  {
   "cell_type": "code",
   "execution_count": null,
   "id": "cbbd63ce",
   "metadata": {},
   "outputs": [],
   "source": [
    "# Topic: Matplotlib & Seaborn\n",
    "import matplotlib.pyplot as plt\n",
    "plt.plot([1,2],[3,4])\n",
    "plt.show()"
   ]
  },
  {
   "cell_type": "code",
   "execution_count": null,
   "id": "81c7bd34",
   "metadata": {},
   "outputs": [],
   "source": [
    "# Topic: Basic ML\n",
    "from sklearn.linear_model import LinearRegression\n",
    "model = LinearRegression()\n",
    "print(model)"
   ]
  },
  {
   "cell_type": "code",
   "execution_count": null,
   "id": "ae6e9b59",
   "metadata": {},
   "outputs": [],
   "source": [
    "# Topic: Regex\n",
    "import re\n",
    "text = 'email: test@example.com'\n",
    "print(re.findall(r'\\S+@\\S+', text))"
   ]
  },
  {
   "cell_type": "code",
   "execution_count": null,
   "id": "0a910d94",
   "metadata": {},
   "outputs": [],
   "source": [
    "# Topic: OOP\n",
    "class Student:\n",
    "    def __init__(self, name): self.name = name\n",
    "s = Student('Fahd')\n",
    "print(s.name)"
   ]
  },
  {
   "cell_type": "code",
   "execution_count": null,
   "id": "738bef35",
   "metadata": {},
   "outputs": [],
   "source": [
    "# Topic: JSON & CSV\n",
    "import json\n",
    "data = {'a': 1}\n",
    "print(json.dumps(data))"
   ]
  },
  {
   "cell_type": "code",
   "execution_count": null,
   "id": "fffe3ad1",
   "metadata": {},
   "outputs": [],
   "source": [
    "# Topic: Basic ML\n",
    "from sklearn.linear_model import LinearRegression\n",
    "model = LinearRegression()\n",
    "print(model)"
   ]
  },
  {
   "cell_type": "code",
   "execution_count": null,
   "id": "6dbd770a",
   "metadata": {},
   "outputs": [],
   "source": [
    "# Topic: Basics\n",
    "x = 10\n",
    "y = 20\n",
    "print(x + y)"
   ]
  },
  {
   "cell_type": "code",
   "execution_count": null,
   "id": "6fe2fb88",
   "metadata": {},
   "outputs": [],
   "source": [
    "# Topic: File I/O\n",
    "with open('test.txt', 'w') as f:\n",
    "    f.write('Hello World')"
   ]
  },
  {
   "cell_type": "code",
   "execution_count": null,
   "id": "6988774f",
   "metadata": {},
   "outputs": [],
   "source": [
    "# Topic: OOP\n",
    "class Student:\n",
    "    def __init__(self, name): self.name = name\n",
    "s = Student('Fahd')\n",
    "print(s.name)"
   ]
  },
  {
   "cell_type": "code",
   "execution_count": null,
   "id": "baa85e54",
   "metadata": {},
   "outputs": [],
   "source": [
    "# Topic: Regex\n",
    "import re\n",
    "text = 'email: test@example.com'\n",
    "print(re.findall(r'\\S+@\\S+', text))"
   ]
  },
  {
   "cell_type": "code",
   "execution_count": null,
   "id": "71d60336",
   "metadata": {},
   "outputs": [],
   "source": [
    "# Topic: File I/O\n",
    "with open('test.txt', 'r') as f:\n",
    "    print(f.read())"
   ]
  },
  {
   "cell_type": "code",
   "execution_count": null,
   "id": "26e31acf",
   "metadata": {},
   "outputs": [],
   "source": [
    "# Topic: Mini Projects\n",
    "# Palindrome check\n",
    "def is_pal(s): return s == s[::-1]\n",
    "print(is_pal('madam'))"
   ]
  },
  {
   "cell_type": "code",
   "execution_count": null,
   "id": "c0e2a086",
   "metadata": {},
   "outputs": [],
   "source": [
    "# Topic: Pandas\n",
    "import pandas as pd\n",
    "df = pd.DataFrame({'A':[1,2],'B':[3,4]})\n",
    "print(df)"
   ]
  },
  {
   "cell_type": "code",
   "execution_count": null,
   "id": "b11bd688",
   "metadata": {},
   "outputs": [],
   "source": [
    "# Topic: Algorithms\n",
    "# Bubble sort\n",
    "def bubble(arr):\n",
    " for i in range(len(arr)):\n",
    "  for j in range(0, len(arr)-i-1):\n",
    "   if arr[j]>arr[j+1]: arr[j],arr[j+1]=arr[j+1],arr[j]\n",
    "a=[5,3,8]\n",
    "bubble(a)\n",
    "print(a)"
   ]
  },
  {
   "cell_type": "code",
   "execution_count": null,
   "id": "93f18ee5",
   "metadata": {},
   "outputs": [],
   "source": [
    "# Topic: Mini Projects\n",
    "# Palindrome check\n",
    "def is_pal(s): return s == s[::-1]\n",
    "print(is_pal('madam'))"
   ]
  },
  {
   "cell_type": "code",
   "execution_count": null,
   "id": "ede28199",
   "metadata": {},
   "outputs": [],
   "source": [
    "# Topic: Web Scraping\n",
    "import requests\n",
    "from bs4 import BeautifulSoup\n",
    "r = requests.get('https://example.com')\n",
    "soup = BeautifulSoup(r.text, 'html.parser')\n",
    "print(soup.title.text)"
   ]
  },
  {
   "cell_type": "code",
   "execution_count": null,
   "id": "1be3bacf",
   "metadata": {},
   "outputs": [],
   "source": [
    "# Topic: Web Scraping\n",
    "import requests\n",
    "from bs4 import BeautifulSoup\n",
    "r = requests.get('https://example.com')\n",
    "soup = BeautifulSoup(r.text, 'html.parser')\n",
    "print(soup.title.text)"
   ]
  },
  {
   "cell_type": "code",
   "execution_count": null,
   "id": "63bfe462",
   "metadata": {},
   "outputs": [],
   "source": [
    "# Topic: Lists & Tuples\n",
    "t = (1, 2, 3)\n",
    "print(t[0])"
   ]
  },
  {
   "cell_type": "code",
   "execution_count": null,
   "id": "e5657762",
   "metadata": {},
   "outputs": [],
   "source": [
    "# Topic: Basics\n",
    "x = 10\n",
    "y = 20\n",
    "print(x + y)"
   ]
  },
  {
   "cell_type": "code",
   "execution_count": null,
   "id": "57e0f83d",
   "metadata": {},
   "outputs": [],
   "source": [
    "# Topic: File I/O\n",
    "with open('test.txt', 'r') as f:\n",
    "    print(f.read())"
   ]
  },
  {
   "cell_type": "code",
   "execution_count": null,
   "id": "378dbbad",
   "metadata": {},
   "outputs": [],
   "source": [
    "# Topic: Pandas\n",
    "import pandas as pd\n",
    "df = pd.DataFrame({'A':[1,2],'B':[3,4]})\n",
    "print(df)"
   ]
  },
  {
   "cell_type": "code",
   "execution_count": null,
   "id": "fd93059d",
   "metadata": {},
   "outputs": [],
   "source": [
    "# Topic: Lists & Tuples\n",
    "t = (1, 2, 3)\n",
    "print(t[0])"
   ]
  },
  {
   "cell_type": "code",
   "execution_count": null,
   "id": "545e1ec9",
   "metadata": {},
   "outputs": [],
   "source": [
    "# Topic: Lists & Tuples\n",
    "lst = [1, 2, 3]\n",
    "lst.append(4)\n",
    "print(lst)"
   ]
  },
  {
   "cell_type": "code",
   "execution_count": null,
   "id": "d9a74d57",
   "metadata": {},
   "outputs": [],
   "source": [
    "# Topic: File I/O\n",
    "with open('test.txt', 'w') as f:\n",
    "    f.write('Hello World')"
   ]
  },
  {
   "cell_type": "code",
   "execution_count": null,
   "id": "eaee3b6a",
   "metadata": {},
   "outputs": [],
   "source": [
    "# Topic: CLI Tools\n",
    "import sys\n",
    "print(f'Arguments: {sys.argv}')"
   ]
  },
  {
   "cell_type": "code",
   "execution_count": null,
   "id": "4c03e0eb",
   "metadata": {},
   "outputs": [],
   "source": [
    "# Topic: Decorators\n",
    "def log(func):\n",
    " def wrapper():\n",
    "  print('Call')\n",
    "  func()\n",
    " return wrapper\n",
    "@log\n",
    "def say(): print('Hi')\n",
    "say()"
   ]
  },
  {
   "cell_type": "code",
   "execution_count": null,
   "id": "aeb06730",
   "metadata": {},
   "outputs": [],
   "source": [
    "# Topic: OOP\n",
    "class Student:\n",
    "    def __init__(self, name): self.name = name\n",
    "s = Student('Fahd')\n",
    "print(s.name)"
   ]
  },
  {
   "cell_type": "code",
   "execution_count": null,
   "id": "00d38b20",
   "metadata": {},
   "outputs": [],
   "source": [
    "# Topic: JSON & CSV\n",
    "import json\n",
    "data = {'a': 1}\n",
    "print(json.dumps(data))"
   ]
  },
  {
   "cell_type": "code",
   "execution_count": null,
   "id": "9721e2d3",
   "metadata": {},
   "outputs": [],
   "source": [
    "# Topic: Lists & Tuples\n",
    "lst = [1, 2, 3]\n",
    "lst.append(4)\n",
    "print(lst)"
   ]
  },
  {
   "cell_type": "code",
   "execution_count": null,
   "id": "f698338d",
   "metadata": {},
   "outputs": [],
   "source": [
    "# Topic: Dictionaries & Sets\n",
    "d = {'name': 'Fahd', 'age': 20}\n",
    "print(d.get('name'))"
   ]
  },
  {
   "cell_type": "code",
   "execution_count": null,
   "id": "48ee1d51",
   "metadata": {},
   "outputs": [],
   "source": [
    "# Topic: Web Scraping\n",
    "import requests\n",
    "from bs4 import BeautifulSoup\n",
    "r = requests.get('https://example.com')\n",
    "soup = BeautifulSoup(r.text, 'html.parser')\n",
    "print(soup.title.text)"
   ]
  },
  {
   "cell_type": "code",
   "execution_count": null,
   "id": "47ff11aa",
   "metadata": {},
   "outputs": [],
   "source": [
    "# Topic: Data Cleaning\n",
    "import pandas as pd\n",
    "df = pd.DataFrame({'A':[1,None,3]})\n",
    "df = df.fillna(0)\n",
    "print(df)"
   ]
  },
  {
   "cell_type": "code",
   "execution_count": null,
   "id": "a0f0f72c",
   "metadata": {},
   "outputs": [],
   "source": [
    "# Topic: Mini Projects\n",
    "# Calculator\n",
    "def calc(a,b,op): return eval(f'{a}{op}{b}')\n",
    "print(calc(5,2,'+'))"
   ]
  },
  {
   "cell_type": "code",
   "execution_count": null,
   "id": "95b7ad9c",
   "metadata": {},
   "outputs": [],
   "source": [
    "# Topic: Dictionaries & Sets\n",
    "s = set([1, 2, 3, 2])\n",
    "print(s)"
   ]
  },
  {
   "cell_type": "code",
   "execution_count": null,
   "id": "2e5fdbda",
   "metadata": {},
   "outputs": [],
   "source": [
    "# Topic: NumPy\n",
    "import numpy as np\n",
    "a = np.array([1, 2, 3])\n",
    "print(a + 5)"
   ]
  },
  {
   "cell_type": "code",
   "execution_count": null,
   "id": "02a1772f",
   "metadata": {},
   "outputs": [],
   "source": [
    "# Topic: Loops\n",
    "for i in range(10): print(i*i)"
   ]
  },
  {
   "cell_type": "code",
   "execution_count": null,
   "id": "4439c857",
   "metadata": {},
   "outputs": [],
   "source": [
    "# Topic: CLI Tools\n",
    "import sys\n",
    "print(f'Arguments: {sys.argv}')"
   ]
  },
  {
   "cell_type": "code",
   "execution_count": null,
   "id": "ccefa2b3",
   "metadata": {},
   "outputs": [],
   "source": [
    "# Topic: Lists & Tuples\n",
    "lst = [1, 2, 3]\n",
    "lst.append(4)\n",
    "print(lst)"
   ]
  },
  {
   "cell_type": "code",
   "execution_count": null,
   "id": "40d418ab",
   "metadata": {},
   "outputs": [],
   "source": [
    "# Topic: JSON & CSV\n",
    "import csv\n",
    "with open('file.csv', 'w', newline='') as f:\n",
    " csv.writer(f).writerow(['a','b','c'])"
   ]
  },
  {
   "cell_type": "code",
   "execution_count": null,
   "id": "8edfd2d5",
   "metadata": {},
   "outputs": [],
   "source": [
    "# Topic: Dictionaries & Sets\n",
    "d = {'name': 'Fahd', 'age': 20}\n",
    "print(d.get('name'))"
   ]
  },
  {
   "cell_type": "code",
   "execution_count": null,
   "id": "68b0d968",
   "metadata": {},
   "outputs": [],
   "source": [
    "# Topic: Web Scraping\n",
    "import requests\n",
    "from bs4 import BeautifulSoup\n",
    "r = requests.get('https://example.com')\n",
    "soup = BeautifulSoup(r.text, 'html.parser')\n",
    "print(soup.title.text)"
   ]
  },
  {
   "cell_type": "code",
   "execution_count": null,
   "id": "4a8cf30b",
   "metadata": {},
   "outputs": [],
   "source": [
    "# Topic: Data Cleaning\n",
    "import pandas as pd\n",
    "df = pd.DataFrame({'A':[1,None,3]})\n",
    "df = df.fillna(0)\n",
    "print(df)"
   ]
  },
  {
   "cell_type": "code",
   "execution_count": null,
   "id": "6d2f6223",
   "metadata": {},
   "outputs": [],
   "source": [
    "# Topic: Recursion\n",
    "def fact(n): return 1 if n==0 else n*fact(n-1)\n",
    "print(fact(5))"
   ]
  },
  {
   "cell_type": "code",
   "execution_count": null,
   "id": "5ebc43f4",
   "metadata": {},
   "outputs": [],
   "source": [
    "# Topic: Web Scraping\n",
    "import requests\n",
    "from bs4 import BeautifulSoup\n",
    "r = requests.get('https://example.com')\n",
    "soup = BeautifulSoup(r.text, 'html.parser')\n",
    "print(soup.title.text)"
   ]
  },
  {
   "cell_type": "code",
   "execution_count": null,
   "id": "e4f6a5b3",
   "metadata": {},
   "outputs": [],
   "source": [
    "# Topic: Decorators\n",
    "def log(func):\n",
    " def wrapper():\n",
    "  print('Call')\n",
    "  func()\n",
    " return wrapper\n",
    "@log\n",
    "def say(): print('Hi')\n",
    "say()"
   ]
  },
  {
   "cell_type": "code",
   "execution_count": null,
   "id": "8908d812",
   "metadata": {},
   "outputs": [],
   "source": [
    "# Topic: Algorithms\n",
    "# Bubble sort\n",
    "def bubble(arr):\n",
    " for i in range(len(arr)):\n",
    "  for j in range(0, len(arr)-i-1):\n",
    "   if arr[j]>arr[j+1]: arr[j],arr[j+1]=arr[j+1],arr[j]\n",
    "a=[5,3,8]\n",
    "bubble(a)\n",
    "print(a)"
   ]
  },
  {
   "cell_type": "code",
   "execution_count": null,
   "id": "2e4c811f",
   "metadata": {},
   "outputs": [],
   "source": [
    "# Topic: Loops\n",
    "while True:\n",
    "    print('Break')\n",
    "    break"
   ]
  },
  {
   "cell_type": "code",
   "execution_count": null,
   "id": "a25678c7",
   "metadata": {},
   "outputs": [],
   "source": [
    "# Topic: Regex\n",
    "import re\n",
    "text = 'email: test@example.com'\n",
    "print(re.findall(r'\\S+@\\S+', text))"
   ]
  },
  {
   "cell_type": "code",
   "execution_count": null,
   "id": "776778cf",
   "metadata": {},
   "outputs": [],
   "source": [
    "# Topic: OOP\n",
    "class Student:\n",
    "    def __init__(self, name): self.name = name\n",
    "s = Student('Fahd')\n",
    "print(s.name)"
   ]
  },
  {
   "cell_type": "code",
   "execution_count": null,
   "id": "f70d8dc9",
   "metadata": {},
   "outputs": [],
   "source": [
    "# Topic: CLI Tools\n",
    "import sys\n",
    "print(f'Arguments: {sys.argv}')"
   ]
  },
  {
   "cell_type": "code",
   "execution_count": null,
   "id": "cd69b0af",
   "metadata": {},
   "outputs": [],
   "source": [
    "# Topic: CLI Tools\n",
    "import sys\n",
    "print(f'Arguments: {sys.argv}')"
   ]
  },
  {
   "cell_type": "code",
   "execution_count": null,
   "id": "deac5041",
   "metadata": {},
   "outputs": [],
   "source": [
    "# Topic: Mini Projects\n",
    "# Palindrome check\n",
    "def is_pal(s): return s == s[::-1]\n",
    "print(is_pal('madam'))"
   ]
  },
  {
   "cell_type": "code",
   "execution_count": null,
   "id": "0356dc88",
   "metadata": {},
   "outputs": [],
   "source": [
    "# Topic: CLI Tools\n",
    "import sys\n",
    "print(f'Arguments: {sys.argv}')"
   ]
  },
  {
   "cell_type": "code",
   "execution_count": null,
   "id": "aa4c5b4e",
   "metadata": {},
   "outputs": [],
   "source": [
    "# Topic: Decorators\n",
    "def log(func):\n",
    " def wrapper():\n",
    "  print('Call')\n",
    "  func()\n",
    " return wrapper\n",
    "@log\n",
    "def say(): print('Hi')\n",
    "say()"
   ]
  },
  {
   "cell_type": "code",
   "execution_count": null,
   "id": "72108653",
   "metadata": {},
   "outputs": [],
   "source": [
    "# Topic: JSON & CSV\n",
    "import json\n",
    "data = {'a': 1}\n",
    "print(json.dumps(data))"
   ]
  },
  {
   "cell_type": "code",
   "execution_count": null,
   "id": "5d11202a",
   "metadata": {},
   "outputs": [],
   "source": [
    "# Topic: File I/O\n",
    "with open('test.txt', 'w') as f:\n",
    "    f.write('Hello World')"
   ]
  },
  {
   "cell_type": "code",
   "execution_count": null,
   "id": "74a06e06",
   "metadata": {},
   "outputs": [],
   "source": [
    "# Topic: Basic ML\n",
    "from sklearn.linear_model import LinearRegression\n",
    "model = LinearRegression()\n",
    "print(model)"
   ]
  },
  {
   "cell_type": "code",
   "execution_count": null,
   "id": "791e3a3d",
   "metadata": {},
   "outputs": [],
   "source": [
    "# Topic: Algorithms\n",
    "# Bubble sort\n",
    "def bubble(arr):\n",
    " for i in range(len(arr)):\n",
    "  for j in range(0, len(arr)-i-1):\n",
    "   if arr[j]>arr[j+1]: arr[j],arr[j+1]=arr[j+1],arr[j]\n",
    "a=[5,3,8]\n",
    "bubble(a)\n",
    "print(a)"
   ]
  },
  {
   "cell_type": "code",
   "execution_count": null,
   "id": "c211d187",
   "metadata": {},
   "outputs": [],
   "source": [
    "# Topic: Web Scraping\n",
    "import requests\n",
    "from bs4 import BeautifulSoup\n",
    "r = requests.get('https://example.com')\n",
    "soup = BeautifulSoup(r.text, 'html.parser')\n",
    "print(soup.title.text)"
   ]
  },
  {
   "cell_type": "code",
   "execution_count": null,
   "id": "28430fad",
   "metadata": {},
   "outputs": [],
   "source": [
    "# Topic: NumPy\n",
    "import numpy as np\n",
    "a = np.array([1, 2, 3])\n",
    "print(a + 5)"
   ]
  },
  {
   "cell_type": "code",
   "execution_count": null,
   "id": "36ece895",
   "metadata": {},
   "outputs": [],
   "source": [
    "# Topic: Regex\n",
    "import re\n",
    "text = 'email: test@example.com'\n",
    "print(re.findall(r'\\S+@\\S+', text))"
   ]
  },
  {
   "cell_type": "code",
   "execution_count": null,
   "id": "245690bf",
   "metadata": {},
   "outputs": [],
   "source": [
    "# Topic: Algorithms\n",
    "# Bubble sort\n",
    "def bubble(arr):\n",
    " for i in range(len(arr)):\n",
    "  for j in range(0, len(arr)-i-1):\n",
    "   if arr[j]>arr[j+1]: arr[j],arr[j+1]=arr[j+1],arr[j]\n",
    "a=[5,3,8]\n",
    "bubble(a)\n",
    "print(a)"
   ]
  },
  {
   "cell_type": "code",
   "execution_count": null,
   "id": "00b63511",
   "metadata": {},
   "outputs": [],
   "source": [
    "# Topic: File I/O\n",
    "with open('test.txt', 'r') as f:\n",
    "    print(f.read())"
   ]
  },
  {
   "cell_type": "code",
   "execution_count": null,
   "id": "2318a04d",
   "metadata": {},
   "outputs": [],
   "source": [
    "# Topic: Loops\n",
    "for i in range(10): print(i*i)"
   ]
  },
  {
   "cell_type": "code",
   "execution_count": null,
   "id": "bd116efc",
   "metadata": {},
   "outputs": [],
   "source": [
    "# Topic: JSON & CSV\n",
    "import json\n",
    "data = {'a': 1}\n",
    "print(json.dumps(data))"
   ]
  },
  {
   "cell_type": "code",
   "execution_count": null,
   "id": "364f867f",
   "metadata": {},
   "outputs": [],
   "source": [
    "# Topic: File I/O\n",
    "with open('test.txt', 'r') as f:\n",
    "    print(f.read())"
   ]
  },
  {
   "cell_type": "code",
   "execution_count": null,
   "id": "e3055883",
   "metadata": {},
   "outputs": [],
   "source": [
    "# Topic: JSON & CSV\n",
    "import json\n",
    "data = {'a': 1}\n",
    "print(json.dumps(data))"
   ]
  },
  {
   "cell_type": "code",
   "execution_count": null,
   "id": "7ca43f9d",
   "metadata": {},
   "outputs": [],
   "source": [
    "# Topic: Web Scraping\n",
    "import requests\n",
    "from bs4 import BeautifulSoup\n",
    "r = requests.get('https://example.com')\n",
    "soup = BeautifulSoup(r.text, 'html.parser')\n",
    "print(soup.title.text)"
   ]
  },
  {
   "cell_type": "code",
   "execution_count": null,
   "id": "e9a1dcaa",
   "metadata": {},
   "outputs": [],
   "source": [
    "# Topic: CLI Tools\n",
    "import sys\n",
    "print(f'Arguments: {sys.argv}')"
   ]
  },
  {
   "cell_type": "code",
   "execution_count": null,
   "id": "5bebdac6",
   "metadata": {},
   "outputs": [],
   "source": [
    "# Topic: Dictionaries & Sets\n",
    "s = set([1, 2, 3, 2])\n",
    "print(s)"
   ]
  },
  {
   "cell_type": "code",
   "execution_count": null,
   "id": "b31271c4",
   "metadata": {},
   "outputs": [],
   "source": [
    "# Topic: NumPy\n",
    "import numpy as np\n",
    "print(np.linspace(0, 1, 5))"
   ]
  },
  {
   "cell_type": "code",
   "execution_count": null,
   "id": "14d8ca00",
   "metadata": {},
   "outputs": [],
   "source": [
    "# Topic: Data Cleaning\n",
    "import pandas as pd\n",
    "df = pd.DataFrame({'A':[1,None,3]})\n",
    "df = df.fillna(0)\n",
    "print(df)"
   ]
  },
  {
   "cell_type": "code",
   "execution_count": null,
   "id": "9d946a1f",
   "metadata": {},
   "outputs": [],
   "source": [
    "# Topic: Recursion\n",
    "def fact(n): return 1 if n==0 else n*fact(n-1)\n",
    "print(fact(5))"
   ]
  },
  {
   "cell_type": "code",
   "execution_count": null,
   "id": "016ecea2",
   "metadata": {},
   "outputs": [],
   "source": [
    "# Topic: CLI Tools\n",
    "import sys\n",
    "print(f'Arguments: {sys.argv}')"
   ]
  },
  {
   "cell_type": "code",
   "execution_count": null,
   "id": "a587d0d8",
   "metadata": {},
   "outputs": [],
   "source": [
    "# Topic: Matplotlib & Seaborn\n",
    "import seaborn as sns\n",
    "import pandas as pd\n",
    "sns.set()\n",
    "sns.histplot(pd.Series([1,2,2,3]));"
   ]
  },
  {
   "cell_type": "code",
   "execution_count": null,
   "id": "db8e183b",
   "metadata": {},
   "outputs": [],
   "source": [
    "# Topic: CLI Tools\n",
    "import sys\n",
    "print(f'Arguments: {sys.argv}')"
   ]
  },
  {
   "cell_type": "code",
   "execution_count": null,
   "id": "e2c20384",
   "metadata": {},
   "outputs": [],
   "source": [
    "# Topic: Data Cleaning\n",
    "import pandas as pd\n",
    "df = pd.DataFrame({'A':[1,None,3]})\n",
    "df = df.fillna(0)\n",
    "print(df)"
   ]
  },
  {
   "cell_type": "code",
   "execution_count": null,
   "id": "eb1cecde",
   "metadata": {},
   "outputs": [],
   "source": [
    "# Topic: Lists & Tuples\n",
    "lst = [1, 2, 3]\n",
    "lst.append(4)\n",
    "print(lst)"
   ]
  },
  {
   "cell_type": "code",
   "execution_count": null,
   "id": "6e191223",
   "metadata": {},
   "outputs": [],
   "source": [
    "# Topic: Regex\n",
    "import re\n",
    "text = 'email: test@example.com'\n",
    "print(re.findall(r'\\S+@\\S+', text))"
   ]
  },
  {
   "cell_type": "code",
   "execution_count": null,
   "id": "52a9ce38",
   "metadata": {},
   "outputs": [],
   "source": [
    "# Topic: Matplotlib & Seaborn\n",
    "import seaborn as sns\n",
    "import pandas as pd\n",
    "sns.set()\n",
    "sns.histplot(pd.Series([1,2,2,3]));"
   ]
  },
  {
   "cell_type": "code",
   "execution_count": null,
   "id": "903868d8",
   "metadata": {},
   "outputs": [],
   "source": [
    "# Topic: File I/O\n",
    "with open('test.txt', 'r') as f:\n",
    "    print(f.read())"
   ]
  },
  {
   "cell_type": "code",
   "execution_count": null,
   "id": "8eff9e07",
   "metadata": {},
   "outputs": [],
   "source": [
    "# Topic: Web Scraping\n",
    "import requests\n",
    "from bs4 import BeautifulSoup\n",
    "r = requests.get('https://example.com')\n",
    "soup = BeautifulSoup(r.text, 'html.parser')\n",
    "print(soup.title.text)"
   ]
  },
  {
   "cell_type": "code",
   "execution_count": null,
   "id": "30794c4c",
   "metadata": {},
   "outputs": [],
   "source": [
    "# Topic: Web Scraping\n",
    "import requests\n",
    "from bs4 import BeautifulSoup\n",
    "r = requests.get('https://example.com')\n",
    "soup = BeautifulSoup(r.text, 'html.parser')\n",
    "print(soup.title.text)"
   ]
  },
  {
   "cell_type": "code",
   "execution_count": null,
   "id": "ba01c6dc",
   "metadata": {},
   "outputs": [],
   "source": [
    "# Topic: Dictionaries & Sets\n",
    "s = set([1, 2, 3, 2])\n",
    "print(s)"
   ]
  },
  {
   "cell_type": "code",
   "execution_count": null,
   "id": "fe75c82a",
   "metadata": {},
   "outputs": [],
   "source": [
    "# Topic: Regex\n",
    "import re\n",
    "text = 'email: test@example.com'\n",
    "print(re.findall(r'\\S+@\\S+', text))"
   ]
  },
  {
   "cell_type": "code",
   "execution_count": null,
   "id": "55182f18",
   "metadata": {},
   "outputs": [],
   "source": [
    "# Topic: Dictionaries & Sets\n",
    "d = {'name': 'Fahd', 'age': 20}\n",
    "print(d.get('name'))"
   ]
  },
  {
   "cell_type": "code",
   "execution_count": null,
   "id": "25ade8a6",
   "metadata": {},
   "outputs": [],
   "source": [
    "# Topic: Matplotlib & Seaborn\n",
    "import matplotlib.pyplot as plt\n",
    "plt.plot([1,2],[3,4])\n",
    "plt.show()"
   ]
  },
  {
   "cell_type": "code",
   "execution_count": null,
   "id": "6bc46b0b",
   "metadata": {},
   "outputs": [],
   "source": [
    "# Topic: File I/O\n",
    "with open('test.txt', 'r') as f:\n",
    "    print(f.read())"
   ]
  },
  {
   "cell_type": "code",
   "execution_count": null,
   "id": "05a8e8ed",
   "metadata": {},
   "outputs": [],
   "source": [
    "# Topic: Recursion\n",
    "def fact(n): return 1 if n==0 else n*fact(n-1)\n",
    "print(fact(5))"
   ]
  },
  {
   "cell_type": "code",
   "execution_count": null,
   "id": "f80cbdf2",
   "metadata": {},
   "outputs": [],
   "source": [
    "# Topic: JSON & CSV\n",
    "import csv\n",
    "with open('file.csv', 'w', newline='') as f:\n",
    " csv.writer(f).writerow(['a','b','c'])"
   ]
  },
  {
   "cell_type": "code",
   "execution_count": null,
   "id": "385abc90",
   "metadata": {},
   "outputs": [],
   "source": [
    "# Topic: File I/O\n",
    "with open('test.txt', 'w') as f:\n",
    "    f.write('Hello World')"
   ]
  },
  {
   "cell_type": "code",
   "execution_count": null,
   "id": "5dbed83d",
   "metadata": {},
   "outputs": [],
   "source": [
    "# Topic: Mini Projects\n",
    "# Palindrome check\n",
    "def is_pal(s): return s == s[::-1]\n",
    "print(is_pal('madam'))"
   ]
  },
  {
   "cell_type": "code",
   "execution_count": null,
   "id": "94eff188",
   "metadata": {},
   "outputs": [],
   "source": [
    "# Topic: Basics\n",
    "name = 'Fahd'\n",
    "print(f'Hello, {name}')"
   ]
  },
  {
   "cell_type": "code",
   "execution_count": null,
   "id": "8e4ee8ea",
   "metadata": {},
   "outputs": [],
   "source": [
    "# Topic: Algorithms\n",
    "# Bubble sort\n",
    "def bubble(arr):\n",
    " for i in range(len(arr)):\n",
    "  for j in range(0, len(arr)-i-1):\n",
    "   if arr[j]>arr[j+1]: arr[j],arr[j+1]=arr[j+1],arr[j]\n",
    "a=[5,3,8]\n",
    "bubble(a)\n",
    "print(a)"
   ]
  },
  {
   "cell_type": "code",
   "execution_count": null,
   "id": "8c02a48d",
   "metadata": {},
   "outputs": [],
   "source": [
    "# Topic: Algorithms\n",
    "# Bubble sort\n",
    "def bubble(arr):\n",
    " for i in range(len(arr)):\n",
    "  for j in range(0, len(arr)-i-1):\n",
    "   if arr[j]>arr[j+1]: arr[j],arr[j+1]=arr[j+1],arr[j]\n",
    "a=[5,3,8]\n",
    "bubble(a)\n",
    "print(a)"
   ]
  },
  {
   "cell_type": "code",
   "execution_count": null,
   "id": "b4afc14c",
   "metadata": {},
   "outputs": [],
   "source": [
    "# Topic: Decorators\n",
    "def log(func):\n",
    " def wrapper():\n",
    "  print('Call')\n",
    "  func()\n",
    " return wrapper\n",
    "@log\n",
    "def say(): print('Hi')\n",
    "say()"
   ]
  },
  {
   "cell_type": "code",
   "execution_count": null,
   "id": "a0430299",
   "metadata": {},
   "outputs": [],
   "source": [
    "# Topic: OOP\n",
    "class Student:\n",
    "    def __init__(self, name): self.name = name\n",
    "s = Student('Fahd')\n",
    "print(s.name)"
   ]
  },
  {
   "cell_type": "code",
   "execution_count": null,
   "id": "ad01cf57",
   "metadata": {},
   "outputs": [],
   "source": [
    "# Topic: Basic ML\n",
    "from sklearn.linear_model import LinearRegression\n",
    "model = LinearRegression()\n",
    "print(model)"
   ]
  },
  {
   "cell_type": "code",
   "execution_count": null,
   "id": "eccb7c8c",
   "metadata": {},
   "outputs": [],
   "source": [
    "# Topic: Algorithms\n",
    "# Bubble sort\n",
    "def bubble(arr):\n",
    " for i in range(len(arr)):\n",
    "  for j in range(0, len(arr)-i-1):\n",
    "   if arr[j]>arr[j+1]: arr[j],arr[j+1]=arr[j+1],arr[j]\n",
    "a=[5,3,8]\n",
    "bubble(a)\n",
    "print(a)"
   ]
  },
  {
   "cell_type": "code",
   "execution_count": null,
   "id": "e28f907b",
   "metadata": {},
   "outputs": [],
   "source": [
    "# Topic: Recursion\n",
    "def fact(n): return 1 if n==0 else n*fact(n-1)\n",
    "print(fact(5))"
   ]
  },
  {
   "cell_type": "code",
   "execution_count": null,
   "id": "d2887ddd",
   "metadata": {},
   "outputs": [],
   "source": [
    "# Topic: Dictionaries & Sets\n",
    "d = {'name': 'Fahd', 'age': 20}\n",
    "print(d.get('name'))"
   ]
  },
  {
   "cell_type": "code",
   "execution_count": null,
   "id": "3039b3f2",
   "metadata": {},
   "outputs": [],
   "source": [
    "# Topic: Decorators\n",
    "def log(func):\n",
    " def wrapper():\n",
    "  print('Call')\n",
    "  func()\n",
    " return wrapper\n",
    "@log\n",
    "def say(): print('Hi')\n",
    "say()"
   ]
  },
  {
   "cell_type": "code",
   "execution_count": null,
   "id": "ab946d12",
   "metadata": {},
   "outputs": [],
   "source": [
    "# Topic: Basic ML\n",
    "from sklearn.linear_model import LinearRegression\n",
    "model = LinearRegression()\n",
    "print(model)"
   ]
  },
  {
   "cell_type": "code",
   "execution_count": null,
   "id": "9f4102f0",
   "metadata": {},
   "outputs": [],
   "source": [
    "# Topic: Recursion\n",
    "def fact(n): return 1 if n==0 else n*fact(n-1)\n",
    "print(fact(5))"
   ]
  },
  {
   "cell_type": "code",
   "execution_count": null,
   "id": "6a617132",
   "metadata": {},
   "outputs": [],
   "source": [
    "# Topic: Regex\n",
    "import re\n",
    "text = 'email: test@example.com'\n",
    "print(re.findall(r'\\S+@\\S+', text))"
   ]
  },
  {
   "cell_type": "code",
   "execution_count": null,
   "id": "05b018ab",
   "metadata": {},
   "outputs": [],
   "source": [
    "# Topic: Matplotlib & Seaborn\n",
    "import matplotlib.pyplot as plt\n",
    "plt.plot([1,2],[3,4])\n",
    "plt.show()"
   ]
  },
  {
   "cell_type": "code",
   "execution_count": null,
   "id": "b00fd09d",
   "metadata": {},
   "outputs": [],
   "source": [
    "# Topic: Recursion\n",
    "def fact(n): return 1 if n==0 else n*fact(n-1)\n",
    "print(fact(5))"
   ]
  },
  {
   "cell_type": "code",
   "execution_count": null,
   "id": "e6bde283",
   "metadata": {},
   "outputs": [],
   "source": [
    "# Topic: Regex\n",
    "import re\n",
    "text = 'email: test@example.com'\n",
    "print(re.findall(r'\\S+@\\S+', text))"
   ]
  },
  {
   "cell_type": "code",
   "execution_count": null,
   "id": "b0df6927",
   "metadata": {},
   "outputs": [],
   "source": [
    "# Topic: Matplotlib & Seaborn\n",
    "import matplotlib.pyplot as plt\n",
    "plt.plot([1,2],[3,4])\n",
    "plt.show()"
   ]
  },
  {
   "cell_type": "code",
   "execution_count": null,
   "id": "8062e56f",
   "metadata": {},
   "outputs": [],
   "source": [
    "# Topic: Recursion\n",
    "def fact(n): return 1 if n==0 else n*fact(n-1)\n",
    "print(fact(5))"
   ]
  },
  {
   "cell_type": "code",
   "execution_count": null,
   "id": "15cb8e16",
   "metadata": {},
   "outputs": [],
   "source": [
    "# Topic: Data Cleaning\n",
    "import pandas as pd\n",
    "df = pd.DataFrame({'A':[1,None,3]})\n",
    "df = df.fillna(0)\n",
    "print(df)"
   ]
  },
  {
   "cell_type": "code",
   "execution_count": null,
   "id": "5825abb8",
   "metadata": {},
   "outputs": [],
   "source": [
    "# Topic: Algorithms\n",
    "# Bubble sort\n",
    "def bubble(arr):\n",
    " for i in range(len(arr)):\n",
    "  for j in range(0, len(arr)-i-1):\n",
    "   if arr[j]>arr[j+1]: arr[j],arr[j+1]=arr[j+1],arr[j]\n",
    "a=[5,3,8]\n",
    "bubble(a)\n",
    "print(a)"
   ]
  },
  {
   "cell_type": "code",
   "execution_count": null,
   "id": "64a1e92c",
   "metadata": {},
   "outputs": [],
   "source": [
    "# Topic: CLI Tools\n",
    "import sys\n",
    "print(f'Arguments: {sys.argv}')"
   ]
  },
  {
   "cell_type": "code",
   "execution_count": null,
   "id": "5374ffb7",
   "metadata": {},
   "outputs": [],
   "source": [
    "# Topic: Web Scraping\n",
    "import requests\n",
    "from bs4 import BeautifulSoup\n",
    "r = requests.get('https://example.com')\n",
    "soup = BeautifulSoup(r.text, 'html.parser')\n",
    "print(soup.title.text)"
   ]
  },
  {
   "cell_type": "code",
   "execution_count": null,
   "id": "2423a74f",
   "metadata": {},
   "outputs": [],
   "source": [
    "# Topic: Matplotlib & Seaborn\n",
    "import seaborn as sns\n",
    "import pandas as pd\n",
    "sns.set()\n",
    "sns.histplot(pd.Series([1,2,2,3]));"
   ]
  },
  {
   "cell_type": "code",
   "execution_count": null,
   "id": "b16a63eb",
   "metadata": {},
   "outputs": [],
   "source": [
    "# Topic: Matplotlib & Seaborn\n",
    "import matplotlib.pyplot as plt\n",
    "plt.plot([1,2],[3,4])\n",
    "plt.show()"
   ]
  },
  {
   "cell_type": "code",
   "execution_count": null,
   "id": "33d266a5",
   "metadata": {},
   "outputs": [],
   "source": [
    "# Topic: File I/O\n",
    "with open('test.txt', 'r') as f:\n",
    "    print(f.read())"
   ]
  },
  {
   "cell_type": "code",
   "execution_count": null,
   "id": "3965268c",
   "metadata": {},
   "outputs": [],
   "source": [
    "# Topic: Matplotlib & Seaborn\n",
    "import seaborn as sns\n",
    "import pandas as pd\n",
    "sns.set()\n",
    "sns.histplot(pd.Series([1,2,2,3]));"
   ]
  },
  {
   "cell_type": "code",
   "execution_count": null,
   "id": "f37715b1",
   "metadata": {},
   "outputs": [],
   "source": [
    "# Topic: Basics\n",
    "x = 10\n",
    "y = 20\n",
    "print(x + y)"
   ]
  },
  {
   "cell_type": "code",
   "execution_count": null,
   "id": "13b2571c",
   "metadata": {},
   "outputs": [],
   "source": [
    "# Topic: Matplotlib & Seaborn\n",
    "import seaborn as sns\n",
    "import pandas as pd\n",
    "sns.set()\n",
    "sns.histplot(pd.Series([1,2,2,3]));"
   ]
  },
  {
   "cell_type": "code",
   "execution_count": null,
   "id": "897260cb",
   "metadata": {},
   "outputs": [],
   "source": [
    "# Topic: Mini Projects\n",
    "# Calculator\n",
    "def calc(a,b,op): return eval(f'{a}{op}{b}')\n",
    "print(calc(5,2,'+'))"
   ]
  },
  {
   "cell_type": "code",
   "execution_count": null,
   "id": "6e3b581e",
   "metadata": {},
   "outputs": [],
   "source": [
    "# Topic: Algorithms\n",
    "# Bubble sort\n",
    "def bubble(arr):\n",
    " for i in range(len(arr)):\n",
    "  for j in range(0, len(arr)-i-1):\n",
    "   if arr[j]>arr[j+1]: arr[j],arr[j+1]=arr[j+1],arr[j]\n",
    "a=[5,3,8]\n",
    "bubble(a)\n",
    "print(a)"
   ]
  },
  {
   "cell_type": "code",
   "execution_count": null,
   "id": "55d98219",
   "metadata": {},
   "outputs": [],
   "source": [
    "# Topic: Pandas\n",
    "import pandas as pd\n",
    "df = pd.DataFrame({'A':[1,2],'B':[3,4]})\n",
    "print(df)"
   ]
  },
  {
   "cell_type": "code",
   "execution_count": null,
   "id": "b0eaedac",
   "metadata": {},
   "outputs": [],
   "source": [
    "# Topic: Dictionaries & Sets\n",
    "d = {'name': 'Fahd', 'age': 20}\n",
    "print(d.get('name'))"
   ]
  },
  {
   "cell_type": "code",
   "execution_count": null,
   "id": "f5959aee",
   "metadata": {},
   "outputs": [],
   "source": [
    "# Topic: JSON & CSV\n",
    "import csv\n",
    "with open('file.csv', 'w', newline='') as f:\n",
    " csv.writer(f).writerow(['a','b','c'])"
   ]
  },
  {
   "cell_type": "code",
   "execution_count": null,
   "id": "25306e33",
   "metadata": {},
   "outputs": [],
   "source": [
    "# Topic: Decorators\n",
    "def log(func):\n",
    " def wrapper():\n",
    "  print('Call')\n",
    "  func()\n",
    " return wrapper\n",
    "@log\n",
    "def say(): print('Hi')\n",
    "say()"
   ]
  },
  {
   "cell_type": "code",
   "execution_count": null,
   "id": "fd0b17fd",
   "metadata": {},
   "outputs": [],
   "source": [
    "# Topic: Matplotlib & Seaborn\n",
    "import seaborn as sns\n",
    "import pandas as pd\n",
    "sns.set()\n",
    "sns.histplot(pd.Series([1,2,2,3]));"
   ]
  },
  {
   "cell_type": "code",
   "execution_count": null,
   "id": "a2dfe1d4",
   "metadata": {},
   "outputs": [],
   "source": [
    "# Topic: Basic ML\n",
    "from sklearn.linear_model import LinearRegression\n",
    "model = LinearRegression()\n",
    "print(model)"
   ]
  },
  {
   "cell_type": "code",
   "execution_count": null,
   "id": "fbc487ae",
   "metadata": {},
   "outputs": [],
   "source": [
    "# Topic: Lists & Tuples\n",
    "lst = [1, 2, 3]\n",
    "lst.append(4)\n",
    "print(lst)"
   ]
  },
  {
   "cell_type": "code",
   "execution_count": null,
   "id": "22f01895",
   "metadata": {},
   "outputs": [],
   "source": [
    "# Topic: Algorithms\n",
    "# Bubble sort\n",
    "def bubble(arr):\n",
    " for i in range(len(arr)):\n",
    "  for j in range(0, len(arr)-i-1):\n",
    "   if arr[j]>arr[j+1]: arr[j],arr[j+1]=arr[j+1],arr[j]\n",
    "a=[5,3,8]\n",
    "bubble(a)\n",
    "print(a)"
   ]
  },
  {
   "cell_type": "code",
   "execution_count": null,
   "id": "32815740",
   "metadata": {},
   "outputs": [],
   "source": [
    "# Topic: Decorators\n",
    "def log(func):\n",
    " def wrapper():\n",
    "  print('Call')\n",
    "  func()\n",
    " return wrapper\n",
    "@log\n",
    "def say(): print('Hi')\n",
    "say()"
   ]
  },
  {
   "cell_type": "code",
   "execution_count": null,
   "id": "d64c0735",
   "metadata": {},
   "outputs": [],
   "source": [
    "# Topic: Data Cleaning\n",
    "import pandas as pd\n",
    "df = pd.DataFrame({'A':[1,None,3]})\n",
    "df = df.fillna(0)\n",
    "print(df)"
   ]
  },
  {
   "cell_type": "code",
   "execution_count": null,
   "id": "9e10af26",
   "metadata": {},
   "outputs": [],
   "source": [
    "# Topic: Web Scraping\n",
    "import requests\n",
    "from bs4 import BeautifulSoup\n",
    "r = requests.get('https://example.com')\n",
    "soup = BeautifulSoup(r.text, 'html.parser')\n",
    "print(soup.title.text)"
   ]
  },
  {
   "cell_type": "code",
   "execution_count": null,
   "id": "02fedfd9",
   "metadata": {},
   "outputs": [],
   "source": [
    "# Topic: File I/O\n",
    "with open('test.txt', 'w') as f:\n",
    "    f.write('Hello World')"
   ]
  },
  {
   "cell_type": "code",
   "execution_count": null,
   "id": "45770236",
   "metadata": {},
   "outputs": [],
   "source": [
    "# Topic: Functions\n",
    "def square(x): return x*x\n",
    "print(square(5))"
   ]
  },
  {
   "cell_type": "code",
   "execution_count": null,
   "id": "d26e352d",
   "metadata": {},
   "outputs": [],
   "source": [
    "# Topic: CLI Tools\n",
    "import sys\n",
    "print(f'Arguments: {sys.argv}')"
   ]
  },
  {
   "cell_type": "code",
   "execution_count": null,
   "id": "77ee5424",
   "metadata": {},
   "outputs": [],
   "source": [
    "# Topic: NumPy\n",
    "import numpy as np\n",
    "a = np.array([1, 2, 3])\n",
    "print(a + 5)"
   ]
  },
  {
   "cell_type": "code",
   "execution_count": null,
   "id": "be091f86",
   "metadata": {},
   "outputs": [],
   "source": [
    "# Topic: Basic ML\n",
    "from sklearn.linear_model import LinearRegression\n",
    "model = LinearRegression()\n",
    "print(model)"
   ]
  },
  {
   "cell_type": "code",
   "execution_count": null,
   "id": "5e8a7f3f",
   "metadata": {},
   "outputs": [],
   "source": [
    "# Topic: Decorators\n",
    "def log(func):\n",
    " def wrapper():\n",
    "  print('Call')\n",
    "  func()\n",
    " return wrapper\n",
    "@log\n",
    "def say(): print('Hi')\n",
    "say()"
   ]
  },
  {
   "cell_type": "code",
   "execution_count": null,
   "id": "85249e6e",
   "metadata": {},
   "outputs": [],
   "source": [
    "# Topic: Lists & Tuples\n",
    "lst = [1, 2, 3]\n",
    "lst.append(4)\n",
    "print(lst)"
   ]
  },
  {
   "cell_type": "code",
   "execution_count": null,
   "id": "4f265c63",
   "metadata": {},
   "outputs": [],
   "source": [
    "# Topic: Basics\n",
    "name = 'Fahd'\n",
    "print(f'Hello, {name}')"
   ]
  },
  {
   "cell_type": "code",
   "execution_count": null,
   "id": "fc258019",
   "metadata": {},
   "outputs": [],
   "source": [
    "# Topic: OOP\n",
    "class Student:\n",
    "    def __init__(self, name): self.name = name\n",
    "s = Student('Fahd')\n",
    "print(s.name)"
   ]
  },
  {
   "cell_type": "code",
   "execution_count": null,
   "id": "dafa1a72",
   "metadata": {},
   "outputs": [],
   "source": [
    "# Topic: Basic ML\n",
    "from sklearn.linear_model import LinearRegression\n",
    "model = LinearRegression()\n",
    "print(model)"
   ]
  },
  {
   "cell_type": "code",
   "execution_count": null,
   "id": "f4f2c312",
   "metadata": {},
   "outputs": [],
   "source": [
    "# Topic: Recursion\n",
    "def fact(n): return 1 if n==0 else n*fact(n-1)\n",
    "print(fact(5))"
   ]
  },
  {
   "cell_type": "code",
   "execution_count": null,
   "id": "3101c152",
   "metadata": {},
   "outputs": [],
   "source": [
    "# Topic: Recursion\n",
    "def fact(n): return 1 if n==0 else n*fact(n-1)\n",
    "print(fact(5))"
   ]
  },
  {
   "cell_type": "code",
   "execution_count": null,
   "id": "f89299cd",
   "metadata": {},
   "outputs": [],
   "source": [
    "# Topic: Dictionaries & Sets\n",
    "s = set([1, 2, 3, 2])\n",
    "print(s)"
   ]
  },
  {
   "cell_type": "code",
   "execution_count": null,
   "id": "d3cfaac8",
   "metadata": {},
   "outputs": [],
   "source": [
    "# Topic: OOP\n",
    "class Student:\n",
    "    def __init__(self, name): self.name = name\n",
    "s = Student('Fahd')\n",
    "print(s.name)"
   ]
  },
  {
   "cell_type": "code",
   "execution_count": null,
   "id": "e2155a79",
   "metadata": {},
   "outputs": [],
   "source": [
    "# Topic: Pandas\n",
    "import pandas as pd\n",
    "df = pd.read_csv('file.csv')\n",
    "print(df.head())"
   ]
  },
  {
   "cell_type": "code",
   "execution_count": null,
   "id": "28394312",
   "metadata": {},
   "outputs": [],
   "source": [
    "# Topic: Algorithms\n",
    "# Bubble sort\n",
    "def bubble(arr):\n",
    " for i in range(len(arr)):\n",
    "  for j in range(0, len(arr)-i-1):\n",
    "   if arr[j]>arr[j+1]: arr[j],arr[j+1]=arr[j+1],arr[j]\n",
    "a=[5,3,8]\n",
    "bubble(a)\n",
    "print(a)"
   ]
  },
  {
   "cell_type": "code",
   "execution_count": null,
   "id": "95f305de",
   "metadata": {},
   "outputs": [],
   "source": [
    "# Topic: Recursion\n",
    "def fact(n): return 1 if n==0 else n*fact(n-1)\n",
    "print(fact(5))"
   ]
  },
  {
   "cell_type": "code",
   "execution_count": null,
   "id": "6a8ee7b8",
   "metadata": {},
   "outputs": [],
   "source": [
    "# Topic: Data Cleaning\n",
    "import pandas as pd\n",
    "df = pd.DataFrame({'A':[1,None,3]})\n",
    "df = df.fillna(0)\n",
    "print(df)"
   ]
  },
  {
   "cell_type": "code",
   "execution_count": null,
   "id": "12d9136d",
   "metadata": {},
   "outputs": [],
   "source": [
    "# Topic: Matplotlib & Seaborn\n",
    "import seaborn as sns\n",
    "import pandas as pd\n",
    "sns.set()\n",
    "sns.histplot(pd.Series([1,2,2,3]));"
   ]
  },
  {
   "cell_type": "code",
   "execution_count": null,
   "id": "f314c22b",
   "metadata": {},
   "outputs": [],
   "source": [
    "# Topic: Loops\n",
    "while True:\n",
    "    print('Break')\n",
    "    break"
   ]
  },
  {
   "cell_type": "code",
   "execution_count": null,
   "id": "30d35685",
   "metadata": {},
   "outputs": [],
   "source": [
    "# Topic: Regex\n",
    "import re\n",
    "text = 'email: test@example.com'\n",
    "print(re.findall(r'\\S+@\\S+', text))"
   ]
  },
  {
   "cell_type": "code",
   "execution_count": null,
   "id": "adc2eae2",
   "metadata": {},
   "outputs": [],
   "source": [
    "# Topic: Algorithms\n",
    "# Bubble sort\n",
    "def bubble(arr):\n",
    " for i in range(len(arr)):\n",
    "  for j in range(0, len(arr)-i-1):\n",
    "   if arr[j]>arr[j+1]: arr[j],arr[j+1]=arr[j+1],arr[j]\n",
    "a=[5,3,8]\n",
    "bubble(a)\n",
    "print(a)"
   ]
  },
  {
   "cell_type": "code",
   "execution_count": null,
   "id": "227dde44",
   "metadata": {},
   "outputs": [],
   "source": [
    "# Topic: OOP\n",
    "class Student:\n",
    "    def __init__(self, name): self.name = name\n",
    "s = Student('Fahd')\n",
    "print(s.name)"
   ]
  },
  {
   "cell_type": "code",
   "execution_count": null,
   "id": "f7599278",
   "metadata": {},
   "outputs": [],
   "source": [
    "# Topic: Pandas\n",
    "import pandas as pd\n",
    "df = pd.DataFrame({'A':[1,2],'B':[3,4]})\n",
    "print(df)"
   ]
  },
  {
   "cell_type": "code",
   "execution_count": null,
   "id": "12a348f6",
   "metadata": {},
   "outputs": [],
   "source": [
    "# Topic: Regex\n",
    "import re\n",
    "text = 'email: test@example.com'\n",
    "print(re.findall(r'\\S+@\\S+', text))"
   ]
  },
  {
   "cell_type": "code",
   "execution_count": null,
   "id": "444cea2d",
   "metadata": {},
   "outputs": [],
   "source": [
    "# Topic: Regex\n",
    "import re\n",
    "text = 'email: test@example.com'\n",
    "print(re.findall(r'\\S+@\\S+', text))"
   ]
  },
  {
   "cell_type": "code",
   "execution_count": null,
   "id": "601ebb5e",
   "metadata": {},
   "outputs": [],
   "source": [
    "# Topic: Algorithms\n",
    "# Bubble sort\n",
    "def bubble(arr):\n",
    " for i in range(len(arr)):\n",
    "  for j in range(0, len(arr)-i-1):\n",
    "   if arr[j]>arr[j+1]: arr[j],arr[j+1]=arr[j+1],arr[j]\n",
    "a=[5,3,8]\n",
    "bubble(a)\n",
    "print(a)"
   ]
  },
  {
   "cell_type": "code",
   "execution_count": null,
   "id": "9b80e490",
   "metadata": {},
   "outputs": [],
   "source": [
    "# Topic: Matplotlib & Seaborn\n",
    "import seaborn as sns\n",
    "import pandas as pd\n",
    "sns.set()\n",
    "sns.histplot(pd.Series([1,2,2,3]));"
   ]
  },
  {
   "cell_type": "code",
   "execution_count": null,
   "id": "75b3e9a4",
   "metadata": {},
   "outputs": [],
   "source": [
    "# Topic: Web Scraping\n",
    "import requests\n",
    "from bs4 import BeautifulSoup\n",
    "r = requests.get('https://example.com')\n",
    "soup = BeautifulSoup(r.text, 'html.parser')\n",
    "print(soup.title.text)"
   ]
  },
  {
   "cell_type": "code",
   "execution_count": null,
   "id": "82ccdc1a",
   "metadata": {},
   "outputs": [],
   "source": [
    "# Topic: Recursion\n",
    "def fact(n): return 1 if n==0 else n*fact(n-1)\n",
    "print(fact(5))"
   ]
  },
  {
   "cell_type": "code",
   "execution_count": null,
   "id": "1697bb42",
   "metadata": {},
   "outputs": [],
   "source": [
    "# Topic: OOP\n",
    "class Student:\n",
    "    def __init__(self, name): self.name = name\n",
    "s = Student('Fahd')\n",
    "print(s.name)"
   ]
  },
  {
   "cell_type": "code",
   "execution_count": null,
   "id": "2f231a92",
   "metadata": {},
   "outputs": [],
   "source": [
    "# Topic: Pandas\n",
    "import pandas as pd\n",
    "df = pd.DataFrame({'A':[1,2],'B':[3,4]})\n",
    "print(df)"
   ]
  },
  {
   "cell_type": "code",
   "execution_count": null,
   "id": "0c3167df",
   "metadata": {},
   "outputs": [],
   "source": [
    "# Topic: Algorithms\n",
    "# Bubble sort\n",
    "def bubble(arr):\n",
    " for i in range(len(arr)):\n",
    "  for j in range(0, len(arr)-i-1):\n",
    "   if arr[j]>arr[j+1]: arr[j],arr[j+1]=arr[j+1],arr[j]\n",
    "a=[5,3,8]\n",
    "bubble(a)\n",
    "print(a)"
   ]
  },
  {
   "cell_type": "code",
   "execution_count": null,
   "id": "de124263",
   "metadata": {},
   "outputs": [],
   "source": [
    "# Topic: Basics\n",
    "name = 'Fahd'\n",
    "print(f'Hello, {name}')"
   ]
  },
  {
   "cell_type": "code",
   "execution_count": null,
   "id": "8dcf9492",
   "metadata": {},
   "outputs": [],
   "source": [
    "# Topic: Matplotlib & Seaborn\n",
    "import matplotlib.pyplot as plt\n",
    "plt.plot([1,2],[3,4])\n",
    "plt.show()"
   ]
  },
  {
   "cell_type": "code",
   "execution_count": null,
   "id": "6b2318ea",
   "metadata": {},
   "outputs": [],
   "source": [
    "# Topic: Loops\n",
    "for i in range(10): print(i*i)"
   ]
  },
  {
   "cell_type": "code",
   "execution_count": null,
   "id": "5d1b0e4e",
   "metadata": {},
   "outputs": [],
   "source": [
    "# Topic: Lists & Tuples\n",
    "t = (1, 2, 3)\n",
    "print(t[0])"
   ]
  },
  {
   "cell_type": "code",
   "execution_count": null,
   "id": "8401710b",
   "metadata": {},
   "outputs": [],
   "source": [
    "# Topic: Data Cleaning\n",
    "import pandas as pd\n",
    "df = pd.DataFrame({'A':[1,None,3]})\n",
    "df = df.fillna(0)\n",
    "print(df)"
   ]
  },
  {
   "cell_type": "code",
   "execution_count": null,
   "id": "ebed48a4",
   "metadata": {},
   "outputs": [],
   "source": [
    "# Topic: Data Cleaning\n",
    "import pandas as pd\n",
    "df = pd.DataFrame({'A':[1,None,3]})\n",
    "df = df.fillna(0)\n",
    "print(df)"
   ]
  },
  {
   "cell_type": "code",
   "execution_count": null,
   "id": "f0dec5c6",
   "metadata": {},
   "outputs": [],
   "source": [
    "# Topic: OOP\n",
    "class Student:\n",
    "    def __init__(self, name): self.name = name\n",
    "s = Student('Fahd')\n",
    "print(s.name)"
   ]
  },
  {
   "cell_type": "code",
   "execution_count": null,
   "id": "40e73cae",
   "metadata": {},
   "outputs": [],
   "source": [
    "# Topic: Basic ML\n",
    "from sklearn.linear_model import LinearRegression\n",
    "model = LinearRegression()\n",
    "print(model)"
   ]
  },
  {
   "cell_type": "code",
   "execution_count": null,
   "id": "bca3e786",
   "metadata": {},
   "outputs": [],
   "source": [
    "# Topic: Recursion\n",
    "def fact(n): return 1 if n==0 else n*fact(n-1)\n",
    "print(fact(5))"
   ]
  },
  {
   "cell_type": "code",
   "execution_count": null,
   "id": "5e42baca",
   "metadata": {},
   "outputs": [],
   "source": [
    "# Topic: Basics\n",
    "x = 10\n",
    "y = 20\n",
    "print(x + y)"
   ]
  },
  {
   "cell_type": "code",
   "execution_count": null,
   "id": "4d313323",
   "metadata": {},
   "outputs": [],
   "source": [
    "# Topic: Recursion\n",
    "def fact(n): return 1 if n==0 else n*fact(n-1)\n",
    "print(fact(5))"
   ]
  },
  {
   "cell_type": "code",
   "execution_count": null,
   "id": "8d86ac92",
   "metadata": {},
   "outputs": [],
   "source": [
    "# Topic: OOP\n",
    "class Student:\n",
    "    def __init__(self, name): self.name = name\n",
    "s = Student('Fahd')\n",
    "print(s.name)"
   ]
  },
  {
   "cell_type": "code",
   "execution_count": null,
   "id": "166f9042",
   "metadata": {},
   "outputs": [],
   "source": [
    "# Topic: Pandas\n",
    "import pandas as pd\n",
    "df = pd.read_csv('file.csv')\n",
    "print(df.head())"
   ]
  },
  {
   "cell_type": "code",
   "execution_count": null,
   "id": "b7491175",
   "metadata": {},
   "outputs": [],
   "source": [
    "# Topic: File I/O\n",
    "with open('test.txt', 'w') as f:\n",
    "    f.write('Hello World')"
   ]
  },
  {
   "cell_type": "code",
   "execution_count": null,
   "id": "6cd97c14",
   "metadata": {},
   "outputs": [],
   "source": [
    "# Topic: NumPy\n",
    "import numpy as np\n",
    "print(np.linspace(0, 1, 5))"
   ]
  },
  {
   "cell_type": "code",
   "execution_count": null,
   "id": "a23c56c7",
   "metadata": {},
   "outputs": [],
   "source": [
    "# Topic: Basic ML\n",
    "from sklearn.linear_model import LinearRegression\n",
    "model = LinearRegression()\n",
    "print(model)"
   ]
  },
  {
   "cell_type": "code",
   "execution_count": null,
   "id": "3d45b0c0",
   "metadata": {},
   "outputs": [],
   "source": [
    "# Topic: NumPy\n",
    "import numpy as np\n",
    "a = np.array([1, 2, 3])\n",
    "print(a + 5)"
   ]
  },
  {
   "cell_type": "code",
   "execution_count": null,
   "id": "e5d8a8eb",
   "metadata": {},
   "outputs": [],
   "source": [
    "# Topic: Matplotlib & Seaborn\n",
    "import matplotlib.pyplot as plt\n",
    "plt.plot([1,2],[3,4])\n",
    "plt.show()"
   ]
  },
  {
   "cell_type": "code",
   "execution_count": null,
   "id": "ff9d9734",
   "metadata": {},
   "outputs": [],
   "source": [
    "# Topic: CLI Tools\n",
    "import sys\n",
    "print(f'Arguments: {sys.argv}')"
   ]
  },
  {
   "cell_type": "code",
   "execution_count": null,
   "id": "e6375b6a",
   "metadata": {},
   "outputs": [],
   "source": [
    "# Topic: Algorithms\n",
    "# Bubble sort\n",
    "def bubble(arr):\n",
    " for i in range(len(arr)):\n",
    "  for j in range(0, len(arr)-i-1):\n",
    "   if arr[j]>arr[j+1]: arr[j],arr[j+1]=arr[j+1],arr[j]\n",
    "a=[5,3,8]\n",
    "bubble(a)\n",
    "print(a)"
   ]
  },
  {
   "cell_type": "code",
   "execution_count": null,
   "id": "2b51be93",
   "metadata": {},
   "outputs": [],
   "source": [
    "# Topic: Basic ML\n",
    "from sklearn.linear_model import LinearRegression\n",
    "model = LinearRegression()\n",
    "print(model)"
   ]
  },
  {
   "cell_type": "code",
   "execution_count": null,
   "id": "887fdc3e",
   "metadata": {},
   "outputs": [],
   "source": [
    "# Topic: Basics\n",
    "x = 10\n",
    "y = 20\n",
    "print(x + y)"
   ]
  }
 ],
 "metadata": {},
 "nbformat": 4,
 "nbformat_minor": 5
}
