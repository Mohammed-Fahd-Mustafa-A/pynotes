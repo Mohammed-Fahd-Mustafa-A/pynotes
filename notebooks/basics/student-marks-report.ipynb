{
 "cells": [
  {
   "cell_type": "code",
   "execution_count": null,
   "id": "e5d8c992-b16b-485e-b595-6ea8fcc86a64",
   "metadata": {},
   "outputs": [],
   "source": [
    "---\n",
    "title: Student Marks Report\n",
    "date: 2025-06-28\n",
    "author: Mohammed Fahd Mustafa A.\n",
    "cell_count: 3\n",
    "score: 15\n",
    "---"
   ]
  },
  {
   "cell_type": "code",
   "execution_count": 3,
   "id": "e4eca6d1-1898-4dbd-81b3-b5618d2edb2a",
   "metadata": {},
   "outputs": [
    {
     "name": "stdout",
     "output_type": "stream",
     "text": [
      "Student: Alice\n",
      "Marks: [85, 78, 92]\n",
      "Total: 255\n",
      "Average: 85.00\n",
      "Grade: A\n",
      "------------------------------\n",
      "Student: Bob\n",
      "Marks: [56, 64, 60]\n",
      "Total: 180\n",
      "Average: 60.00\n",
      "Grade: C\n",
      "------------------------------\n",
      "Student: Charlie\n",
      "Marks: [98, 90, 95]\n",
      "Total: 283\n",
      "Average: 94.33\n",
      "Grade: A+\n",
      "------------------------------\n",
      "Student: David\n",
      "Marks: [40, 35, 48]\n",
      "Total: 123\n",
      "Average: 41.00\n",
      "Grade: F\n",
      "------------------------------\n"
     ]
    }
   ],
   "source": [
    "# Student Marks Report Generator\n",
    "\n",
    "def calculate_grade(avg):\n",
    "    if avg >= 90:\n",
    "        return \"A+\"\n",
    "    elif avg >= 80:\n",
    "        return \"A\"\n",
    "    elif avg >= 70:\n",
    "        return \"B\"\n",
    "    elif avg >= 60:\n",
    "        return \"C\"\n",
    "    elif avg >= 50:\n",
    "        return \"D\"\n",
    "    else:\n",
    "        return \"F\"\n",
    "\n",
    "# List of students with marks in 3 subjects\n",
    "students = [\n",
    "    {\"name\": \"Alice\", \"marks\": [85, 78, 92]},\n",
    "    {\"name\": \"Bob\", \"marks\": [56, 64, 60]},\n",
    "    {\"name\": \"Charlie\", \"marks\": [98, 90, 95]},\n",
    "    {\"name\": \"David\", \"marks\": [40, 35, 48]},\n",
    "]\n",
    "\n",
    "# Process each student\n",
    "for student in students:\n",
    "    marks = student[\"marks\"]\n",
    "    total = sum(marks)\n",
    "    average = total / len(marks)\n",
    "    grade = calculate_grade(average)\n",
    "    \n",
    "    print(f\"Student: {student['name']}\")\n",
    "    print(f\"Marks: {marks}\")\n",
    "    print(f\"Total: {total}\")\n",
    "    print(f\"Average: {average:.2f}\")\n",
    "    print(f\"Grade: {grade}\")\n",
    "    print(\"-\" * 30)"
   ]
  },
  {
   "cell_type": "code",
   "execution_count": null,
   "id": "a5149ebb-eeda-45df-a917-c900ba37e9d3",
   "metadata": {},
   "outputs": [],
   "source": []
  }
 ],
 "metadata": {
  "kernelspec": {
   "display_name": "Python 3 (ipykernel)",
   "language": "python",
   "name": "python3"
  },
  "language_info": {
   "codemirror_mode": {
    "name": "ipython",
    "version": 3
   },
   "file_extension": ".py",
   "mimetype": "text/x-python",
   "name": "python",
   "nbconvert_exporter": "python",
   "pygments_lexer": "ipython3",
   "version": "3.12.11"
  }
 },
 "nbformat": 4,
 "nbformat_minor": 5
}
