{
 "cells": [
  {
   "cell_type": "code",
   "execution_count": 4,
   "id": "785db078-1d49-4b09-8e20-428a3baf8ee9",
   "metadata": {},
   "outputs": [
    {
     "name": "stdout",
     "output_type": "stream",
     "text": [
      "Original Array:\n",
      "[[1 2 3]\n",
      " [4 5 6]\n",
      " [7 8 9]]\n",
      "\n",
      "First row:\n",
      "[1 2 3]\n",
      "\n",
      "Second column:\n",
      "[2 5 8]\n",
      "\n",
      "Sub-matrix (first two rows and columns):\n",
      "[[1 2]\n",
      " [4 5]]\n",
      "\n",
      "Reversed array (rows and columns):\n",
      "[[9 8 7]\n",
      " [6 5 4]\n",
      " [3 2 1]]\n"
     ]
    }
   ],
   "source": [
    "import numpy as np\n",
    "\n",
    "# Create a 2D array\n",
    "a = np.array([[1, 2, 3],\n",
    "              [4, 5, 6],\n",
    "              [7, 8, 9]])\n",
    "\n",
    "print(\"Original Array:\")\n",
    "print(a)\n",
    "\n",
    "# Slice a specific row\n",
    "print(\"\\nFirst row:\")\n",
    "print(a[0])\n",
    "\n",
    "# Slice a specific column\n",
    "print(\"\\nSecond column:\")\n",
    "print(a[:, 1])\n",
    "\n",
    "# Slice a sub-matrix\n",
    "print(\"\\nSub-matrix (first two rows and columns):\")\n",
    "print(a[0:2, 0:2])\n",
    "\n",
    "# Reverse the array\n",
    "print(\"\\nReversed array (rows and columns):\")\n",
    "print(a[::-1, ::-1])"
   ]
  },
  {
   "cell_type": "code",
   "execution_count": 5,
   "id": "307120ec-bdae-419d-8812-c8cea4899d8e",
   "metadata": {},
   "outputs": [
    {
     "data": {
      "text/plain": [
       "[10, 20, 30, 40, 50, 60, 70, 80, 90]"
      ]
     },
     "execution_count": 5,
     "metadata": {},
     "output_type": "execute_result"
    }
   ],
   "source": [
    "# Create a list of numbers\n",
    "a = [10, 20, 30, 40, 50, 60, 70, 80, 90]\n",
    "a"
   ]
  },
  {
   "cell_type": "code",
   "execution_count": 6,
   "id": "f9f3d73e-fc3e-4808-84d7-bc728060427f",
   "metadata": {},
   "outputs": [
    {
     "data": {
      "text/plain": [
       "list"
      ]
     },
     "execution_count": 6,
     "metadata": {},
     "output_type": "execute_result"
    }
   ],
   "source": [
    "# Check the type of 'a'\n",
    "type(a)"
   ]
  },
  {
   "cell_type": "code",
   "execution_count": 7,
   "id": "07184e69-e9bb-4831-817f-bbb00864c831",
   "metadata": {},
   "outputs": [
    {
     "data": {
      "text/plain": [
       "[50, 60, 70, 80]"
      ]
     },
     "execution_count": 7,
     "metadata": {},
     "output_type": "execute_result"
    }
   ],
   "source": [
    "# Get elements from index 4 to 7 (not including 8)\n",
    "a[4:8]\n",
    "# Output: [50, 60, 70, 80]"
   ]
  },
  {
   "cell_type": "code",
   "execution_count": 8,
   "id": "29a8577f-51de-4a38-a758-33967226f8e0",
   "metadata": {},
   "outputs": [
    {
     "data": {
      "text/plain": [
       "[10, 20, 30, 40]"
      ]
     },
     "execution_count": 8,
     "metadata": {},
     "output_type": "execute_result"
    }
   ],
   "source": [
    "# Get first 4 items\n",
    "a[:4]\n",
    "# Output: [10, 20, 30, 40]"
   ]
  },
  {
   "cell_type": "code",
   "execution_count": 9,
   "id": "24f77207-06b6-4503-98b7-296598cf4d21",
   "metadata": {},
   "outputs": [
    {
     "data": {
      "text/plain": [
       "[50, 60, 70, 80, 90]"
      ]
     },
     "execution_count": 9,
     "metadata": {},
     "output_type": "execute_result"
    }
   ],
   "source": [
    "# Get all elements from index 4 to the end\n",
    "a[4:]\n",
    "# Output: [50, 60, 70, 80, 90]"
   ]
  },
  {
   "cell_type": "code",
   "execution_count": 10,
   "id": "e36f7793-ab8c-4871-8f72-ba6f7ea7393b",
   "metadata": {},
   "outputs": [
    {
     "data": {
      "text/plain": [
       "[10, 20, 30, 40, 50, 60, 70, 80, 90]"
      ]
     },
     "execution_count": 10,
     "metadata": {},
     "output_type": "execute_result"
    }
   ],
   "source": [
    "# Get a full copy of the list\n",
    "a[:]\n",
    "# Output: [10, 20, 30, 40, 50, 60, 70, 80, 90]"
   ]
  },
  {
   "cell_type": "code",
   "execution_count": 11,
   "id": "d952083f-4fb1-4374-9522-aa914602f254",
   "metadata": {},
   "outputs": [
    {
     "data": {
      "text/plain": [
       "80"
      ]
     },
     "execution_count": 11,
     "metadata": {},
     "output_type": "execute_result"
    }
   ],
   "source": [
    "# Last item\n",
    "a[-1]\n",
    "# Output: 90\n",
    "\n",
    "# Second last item\n",
    "a[-2]\n",
    "# Output: 80"
   ]
  },
  {
   "cell_type": "code",
   "execution_count": 12,
   "id": "4b7b5dc2-218b-4fd4-82c4-bc244bdc9f8e",
   "metadata": {},
   "outputs": [
    {
     "data": {
      "text/plain": [
       "[10, 20, 30, 40, 50, 60, 70]"
      ]
     },
     "execution_count": 12,
     "metadata": {},
     "output_type": "execute_result"
    }
   ],
   "source": [
    "# Last 2 items\n",
    "a[-2:]\n",
    "# Output: [80, 90]\n",
    "\n",
    "# Everything except last 2 items\n",
    "a[:-2]\n",
    "# Output: [10, 20, 30, 40, 50, 60, 70]"
   ]
  },
  {
   "cell_type": "code",
   "execution_count": 13,
   "id": "67b1c410-0558-4073-bf58-8c1e8695e129",
   "metadata": {},
   "outputs": [
    {
     "data": {
      "text/plain": [
       "[90, 80, 70, 60, 50, 40, 30, 20, 10]"
      ]
     },
     "execution_count": 13,
     "metadata": {},
     "output_type": "execute_result"
    }
   ],
   "source": [
    "# All items reversed\n",
    "a[::-1]\n",
    "# Output: [90, 80, 70, 60, 50, 40, 30, 20, 10]"
   ]
  },
  {
   "cell_type": "code",
   "execution_count": 14,
   "id": "83610f97-31f1-489b-9591-63be2a1f0aef",
   "metadata": {},
   "outputs": [
    {
     "data": {
      "text/plain": [
       "[20]"
      ]
     },
     "execution_count": 14,
     "metadata": {},
     "output_type": "execute_result"
    }
   ],
   "source": [
    "# First two items in reverse\n",
    "a[1::-1]\n",
    "# Output: [20, 10]\n",
    "\n",
    "# First two items reversed with step -2\n",
    "a[1::-2]\n",
    "# Output: [20]"
   ]
  },
  {
   "cell_type": "code",
   "execution_count": 15,
   "id": "ebae2b36-7e7e-4b14-8c08-7e7ca66b13ff",
   "metadata": {},
   "outputs": [
    {
     "data": {
      "text/plain": [
       "[30, 20, 10]"
      ]
     },
     "execution_count": 15,
     "metadata": {},
     "output_type": "execute_result"
    }
   ],
   "source": [
    "# Get the first three items reversed\n",
    "a[2::-1]\n",
    "# Output: [30, 20, 10]"
   ]
  },
  {
   "cell_type": "code",
   "execution_count": 16,
   "id": "5ff3a723-02db-4ff2-91a0-d7f2163bea9d",
   "metadata": {},
   "outputs": [
    {
     "data": {
      "text/plain": [
       "[80, 70, 60, 50, 40, 30, 20, 10]"
      ]
     },
     "execution_count": 16,
     "metadata": {},
     "output_type": "execute_result"
    }
   ],
   "source": [
    "# All items reversed except last one\n",
    "a[-2::-1]\n",
    "# Output: [80, 70, 60, 50, 40, 30, 20, 10]"
   ]
  },
  {
   "cell_type": "code",
   "execution_count": 17,
   "id": "baa12978-41c2-4ca9-bd5f-31592ffece6d",
   "metadata": {},
   "outputs": [
    {
     "data": {
      "text/plain": [
       "[70, 60, 50, 40, 30, 20, 10]"
      ]
     },
     "execution_count": 17,
     "metadata": {},
     "output_type": "execute_result"
    }
   ],
   "source": [
    "# Remove last 2 items and reverse the rest\n",
    "a[-3::-1]\n",
    "# Output: [70, 60, 50, 40, 30, 20, 10]"
   ]
  },
  {
   "cell_type": "code",
   "execution_count": 18,
   "id": "4d40dc1f-0823-42af-8d71-a6f8a2e1f90a",
   "metadata": {},
   "outputs": [
    {
     "data": {
      "text/plain": [
       "[90, 80, 70]"
      ]
     },
     "execution_count": 18,
     "metadata": {},
     "output_type": "execute_result"
    }
   ],
   "source": [
    "# Last two items reversed\n",
    "a[:-3:-1]\n",
    "# Output: [90, 80]\n",
    "\n",
    "# Last three items reversed\n",
    "a[:-4:-1]\n",
    "# Output: [90, 80, 70]"
   ]
  },
  {
   "cell_type": "code",
   "execution_count": 19,
   "id": "317200e3-122a-4e8a-800d-3809f4aa1be8",
   "metadata": {},
   "outputs": [
    {
     "data": {
      "text/plain": [
       "[60, 50, 40, 30, 20, 10]"
      ]
     },
     "execution_count": 19,
     "metadata": {},
     "output_type": "execute_result"
    }
   ],
   "source": [
    "# Everything except the last 3 items, reversed\n",
    "a[-4::-1]\n",
    "# Output: [60, 50, 40, 30, 20, 10]"
   ]
  },
  {
   "cell_type": "code",
   "execution_count": null,
   "id": "33716a99-7390-4d63-8a14-0dd64e66bd13",
   "metadata": {},
   "outputs": [],
   "source": []
  }
 ],
 "metadata": {
  "kernelspec": {
   "display_name": "Python 3 (ipykernel)",
   "language": "python",
   "name": "python3"
  },
  "language_info": {
   "codemirror_mode": {
    "name": "ipython",
    "version": 3
   },
   "file_extension": ".py",
   "mimetype": "text/x-python",
   "name": "python",
   "nbconvert_exporter": "python",
   "pygments_lexer": "ipython3",
   "version": "3.12.11"
  }
 },
 "nbformat": 4,
 "nbformat_minor": 5
}
