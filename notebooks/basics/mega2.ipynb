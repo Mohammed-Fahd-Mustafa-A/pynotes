{
 "cells": [
  {
   "cell_type": "code",
   "execution_count": null,
   "id": "ad27750d",
   "metadata": {},
   "outputs": [],
   "source": [
    "# Topic: Lists & Tuples\n",
    "lst = [1, 2, 3]\n",
    "lst.append(4)\n",
    "print(lst)"
   ]
  },
  {
   "cell_type": "code",
   "execution_count": null,
   "id": "1df0aade",
   "metadata": {},
   "outputs": [],
   "source": [
    "# Topic: OOP\n",
    "class Student:\n",
    "    def __init__(self, name): self.name = name\n",
    "s = Student('Fahd')\n",
    "print(s.name)"
   ]
  },
  {
   "cell_type": "code",
   "execution_count": null,
   "id": "2007eb4f",
   "metadata": {},
   "outputs": [],
   "source": [
    "# Topic: Recursion\n",
    "def fact(n): return 1 if n==0 else n*fact(n-1)\n",
    "print(fact(5))"
   ]
  },
  {
   "cell_type": "code",
   "execution_count": null,
   "id": "80e97e86",
   "metadata": {},
   "outputs": [],
   "source": [
    "# Topic: Functions\n",
    "def square(x): return x*x\n",
    "print(square(5))"
   ]
  },
  {
   "cell_type": "code",
   "execution_count": null,
   "id": "1b016b9c",
   "metadata": {},
   "outputs": [],
   "source": [
    "# Topic: File I/O\n",
    "with open('test.txt', 'r') as f:\n",
    "    print(f.read())"
   ]
  },
  {
   "cell_type": "code",
   "execution_count": null,
   "id": "9217dc40",
   "metadata": {},
   "outputs": [],
   "source": [
    "# Topic: Data Cleaning\n",
    "import pandas as pd\n",
    "df = pd.DataFrame({'A':[1,None,3]})\n",
    "df = df.fillna(0)\n",
    "print(df)"
   ]
  },
  {
   "cell_type": "code",
   "execution_count": null,
   "id": "9df9d1ea",
   "metadata": {},
   "outputs": [],
   "source": [
    "# Topic: Recursion\n",
    "def fact(n): return 1 if n==0 else n*fact(n-1)\n",
    "print(fact(5))"
   ]
  },
  {
   "cell_type": "code",
   "execution_count": null,
   "id": "a35c58d3",
   "metadata": {},
   "outputs": [],
   "source": [
    "# Topic: Pandas\n",
    "import pandas as pd\n",
    "df = pd.DataFrame({'A':[1,2],'B':[3,4]})\n",
    "print(df)"
   ]
  },
  {
   "cell_type": "code",
   "execution_count": null,
   "id": "bfab70d5",
   "metadata": {},
   "outputs": [],
   "source": [
    "# Topic: File I/O\n",
    "with open('test.txt', 'r') as f:\n",
    "    print(f.read())"
   ]
  },
  {
   "cell_type": "code",
   "execution_count": null,
   "id": "28f19274",
   "metadata": {},
   "outputs": [],
   "source": [
    "# Topic: OOP\n",
    "class Student:\n",
    "    def __init__(self, name): self.name = name\n",
    "s = Student('Fahd')\n",
    "print(s.name)"
   ]
  },
  {
   "cell_type": "code",
   "execution_count": null,
   "id": "fe1bbf29",
   "metadata": {},
   "outputs": [],
   "source": [
    "# Topic: Mini Projects\n",
    "# Calculator\n",
    "def calc(a,b,op): return eval(f'{a}{op}{b}')\n",
    "print(calc(5,2,'+'))"
   ]
  },
  {
   "cell_type": "code",
   "execution_count": null,
   "id": "89030718",
   "metadata": {},
   "outputs": [],
   "source": [
    "# Topic: File I/O\n",
    "with open('test.txt', 'r') as f:\n",
    "    print(f.read())"
   ]
  },
  {
   "cell_type": "code",
   "execution_count": null,
   "id": "b9125da4",
   "metadata": {},
   "outputs": [],
   "source": [
    "# Topic: Basic ML\n",
    "from sklearn.linear_model import LinearRegression\n",
    "model = LinearRegression()\n",
    "print(model)"
   ]
  },
  {
   "cell_type": "code",
   "execution_count": null,
   "id": "579beb59",
   "metadata": {},
   "outputs": [],
   "source": [
    "# Topic: JSON & CSV\n",
    "import json\n",
    "data = {'a': 1}\n",
    "print(json.dumps(data))"
   ]
  },
  {
   "cell_type": "code",
   "execution_count": null,
   "id": "150f8654",
   "metadata": {},
   "outputs": [],
   "source": [
    "# Topic: Pandas\n",
    "import pandas as pd\n",
    "df = pd.DataFrame({'A':[1,2],'B':[3,4]})\n",
    "print(df)"
   ]
  },
  {
   "cell_type": "code",
   "execution_count": null,
   "id": "c46eb411",
   "metadata": {},
   "outputs": [],
   "source": [
    "# Topic: NumPy\n",
    "import numpy as np\n",
    "print(np.linspace(0, 1, 5))"
   ]
  },
  {
   "cell_type": "code",
   "execution_count": null,
   "id": "89ab266f",
   "metadata": {},
   "outputs": [],
   "source": [
    "# Topic: Pandas\n",
    "import pandas as pd\n",
    "df = pd.read_csv('file.csv')\n",
    "print(df.head())"
   ]
  },
  {
   "cell_type": "code",
   "execution_count": null,
   "id": "6b92fd95",
   "metadata": {},
   "outputs": [],
   "source": [
    "# Topic: Data Cleaning\n",
    "import pandas as pd\n",
    "df = pd.DataFrame({'A':[1,None,3]})\n",
    "df = df.fillna(0)\n",
    "print(df)"
   ]
  },
  {
   "cell_type": "code",
   "execution_count": null,
   "id": "76b141bb",
   "metadata": {},
   "outputs": [],
   "source": [
    "# Topic: Web Scraping\n",
    "import requests\n",
    "from bs4 import BeautifulSoup\n",
    "r = requests.get('https://example.com')\n",
    "soup = BeautifulSoup(r.text, 'html.parser')\n",
    "print(soup.title.text)"
   ]
  },
  {
   "cell_type": "code",
   "execution_count": null,
   "id": "cf0a2f80",
   "metadata": {},
   "outputs": [],
   "source": [
    "# Topic: Mini Projects\n",
    "# Calculator\n",
    "def calc(a,b,op): return eval(f'{a}{op}{b}')\n",
    "print(calc(5,2,'+'))"
   ]
  },
  {
   "cell_type": "code",
   "execution_count": null,
   "id": "0d8fac57",
   "metadata": {},
   "outputs": [],
   "source": [
    "# Topic: Dictionaries & Sets\n",
    "d = {'name': 'Fahd', 'age': 20}\n",
    "print(d.get('name'))"
   ]
  },
  {
   "cell_type": "code",
   "execution_count": null,
   "id": "3d1596d9",
   "metadata": {},
   "outputs": [],
   "source": [
    "# Topic: Recursion\n",
    "def fact(n): return 1 if n==0 else n*fact(n-1)\n",
    "print(fact(5))"
   ]
  },
  {
   "cell_type": "code",
   "execution_count": null,
   "id": "0e9fe425",
   "metadata": {},
   "outputs": [],
   "source": [
    "# Topic: Recursion\n",
    "def fact(n): return 1 if n==0 else n*fact(n-1)\n",
    "print(fact(5))"
   ]
  },
  {
   "cell_type": "code",
   "execution_count": null,
   "id": "deeca64a",
   "metadata": {},
   "outputs": [],
   "source": [
    "# Topic: Recursion\n",
    "def fact(n): return 1 if n==0 else n*fact(n-1)\n",
    "print(fact(5))"
   ]
  },
  {
   "cell_type": "code",
   "execution_count": null,
   "id": "6e8b62dd",
   "metadata": {},
   "outputs": [],
   "source": [
    "# Topic: JSON & CSV\n",
    "import json\n",
    "data = {'a': 1}\n",
    "print(json.dumps(data))"
   ]
  },
  {
   "cell_type": "code",
   "execution_count": null,
   "id": "d09c4235",
   "metadata": {},
   "outputs": [],
   "source": [
    "# Topic: Lists & Tuples\n",
    "t = (1, 2, 3)\n",
    "print(t[0])"
   ]
  },
  {
   "cell_type": "code",
   "execution_count": null,
   "id": "35118432",
   "metadata": {},
   "outputs": [],
   "source": [
    "# Topic: Regex\n",
    "import re\n",
    "text = 'email: test@example.com'\n",
    "print(re.findall(r'\\S+@\\S+', text))"
   ]
  },
  {
   "cell_type": "code",
   "execution_count": null,
   "id": "cb7476d2",
   "metadata": {},
   "outputs": [],
   "source": [
    "# Topic: Mini Projects\n",
    "# Calculator\n",
    "def calc(a,b,op): return eval(f'{a}{op}{b}')\n",
    "print(calc(5,2,'+'))"
   ]
  },
  {
   "cell_type": "code",
   "execution_count": null,
   "id": "c0ff1e3e",
   "metadata": {},
   "outputs": [],
   "source": [
    "# Topic: OOP\n",
    "class Student:\n",
    "    def __init__(self, name): self.name = name\n",
    "s = Student('Fahd')\n",
    "print(s.name)"
   ]
  },
  {
   "cell_type": "code",
   "execution_count": null,
   "id": "90bf5c0b",
   "metadata": {},
   "outputs": [],
   "source": [
    "# Topic: Pandas\n",
    "import pandas as pd\n",
    "df = pd.read_csv('file.csv')\n",
    "print(df.head())"
   ]
  },
  {
   "cell_type": "code",
   "execution_count": null,
   "id": "fdd3e164",
   "metadata": {},
   "outputs": [],
   "source": [
    "# Topic: Decorators\n",
    "def log(func):\n",
    " def wrapper():\n",
    "  print('Call')\n",
    "  func()\n",
    " return wrapper\n",
    "@log\n",
    "def say(): print('Hi')\n",
    "say()"
   ]
  },
  {
   "cell_type": "code",
   "execution_count": null,
   "id": "f1aade8f",
   "metadata": {},
   "outputs": [],
   "source": [
    "# Topic: File I/O\n",
    "with open('test.txt', 'r') as f:\n",
    "    print(f.read())"
   ]
  },
  {
   "cell_type": "code",
   "execution_count": null,
   "id": "e963b1ec",
   "metadata": {},
   "outputs": [],
   "source": [
    "# Topic: Mini Projects\n",
    "# Calculator\n",
    "def calc(a,b,op): return eval(f'{a}{op}{b}')\n",
    "print(calc(5,2,'+'))"
   ]
  },
  {
   "cell_type": "code",
   "execution_count": null,
   "id": "757369ec",
   "metadata": {},
   "outputs": [],
   "source": [
    "# Topic: Web Scraping\n",
    "import requests\n",
    "from bs4 import BeautifulSoup\n",
    "r = requests.get('https://example.com')\n",
    "soup = BeautifulSoup(r.text, 'html.parser')\n",
    "print(soup.title.text)"
   ]
  },
  {
   "cell_type": "code",
   "execution_count": null,
   "id": "00d55c9f",
   "metadata": {},
   "outputs": [],
   "source": [
    "# Topic: Basic ML\n",
    "from sklearn.linear_model import LinearRegression\n",
    "model = LinearRegression()\n",
    "print(model)"
   ]
  },
  {
   "cell_type": "code",
   "execution_count": null,
   "id": "248278c1",
   "metadata": {},
   "outputs": [],
   "source": [
    "# Topic: Matplotlib & Seaborn\n",
    "import seaborn as sns\n",
    "import pandas as pd\n",
    "sns.set()\n",
    "sns.histplot(pd.Series([1,2,2,3]));"
   ]
  },
  {
   "cell_type": "code",
   "execution_count": null,
   "id": "f63a2f6d",
   "metadata": {},
   "outputs": [],
   "source": [
    "# Topic: NumPy\n",
    "import numpy as np\n",
    "print(np.linspace(0, 1, 5))"
   ]
  },
  {
   "cell_type": "code",
   "execution_count": null,
   "id": "bee78382",
   "metadata": {},
   "outputs": [],
   "source": [
    "# Topic: OOP\n",
    "class Student:\n",
    "    def __init__(self, name): self.name = name\n",
    "s = Student('Fahd')\n",
    "print(s.name)"
   ]
  },
  {
   "cell_type": "code",
   "execution_count": null,
   "id": "67738b92",
   "metadata": {},
   "outputs": [],
   "source": [
    "# Topic: Basic ML\n",
    "from sklearn.linear_model import LinearRegression\n",
    "model = LinearRegression()\n",
    "print(model)"
   ]
  },
  {
   "cell_type": "code",
   "execution_count": null,
   "id": "e1c5e938",
   "metadata": {},
   "outputs": [],
   "source": [
    "# Topic: Loops\n",
    "for i in range(10): print(i*i)"
   ]
  },
  {
   "cell_type": "code",
   "execution_count": null,
   "id": "979ca8ae",
   "metadata": {},
   "outputs": [],
   "source": [
    "# Topic: Matplotlib & Seaborn\n",
    "import seaborn as sns\n",
    "import pandas as pd\n",
    "sns.set()\n",
    "sns.histplot(pd.Series([1,2,2,3]));"
   ]
  },
  {
   "cell_type": "code",
   "execution_count": null,
   "id": "ac930f4d",
   "metadata": {},
   "outputs": [],
   "source": [
    "# Topic: Pandas\n",
    "import pandas as pd\n",
    "df = pd.DataFrame({'A':[1,2],'B':[3,4]})\n",
    "print(df)"
   ]
  },
  {
   "cell_type": "code",
   "execution_count": null,
   "id": "9dcf1061",
   "metadata": {},
   "outputs": [],
   "source": [
    "# Topic: Data Cleaning\n",
    "import pandas as pd\n",
    "df = pd.DataFrame({'A':[1,None,3]})\n",
    "df = df.fillna(0)\n",
    "print(df)"
   ]
  },
  {
   "cell_type": "code",
   "execution_count": null,
   "id": "fbee134c",
   "metadata": {},
   "outputs": [],
   "source": [
    "# Topic: File I/O\n",
    "with open('test.txt', 'w') as f:\n",
    "    f.write('Hello World')"
   ]
  },
  {
   "cell_type": "code",
   "execution_count": null,
   "id": "da6fd28a",
   "metadata": {},
   "outputs": [],
   "source": [
    "# Topic: Functions\n",
    "def greet(name='User'):\n",
    "    print(f'Hi, {name}')\n",
    "greet()"
   ]
  },
  {
   "cell_type": "code",
   "execution_count": null,
   "id": "10ebb92c",
   "metadata": {},
   "outputs": [],
   "source": [
    "# Topic: Web Scraping\n",
    "import requests\n",
    "from bs4 import BeautifulSoup\n",
    "r = requests.get('https://example.com')\n",
    "soup = BeautifulSoup(r.text, 'html.parser')\n",
    "print(soup.title.text)"
   ]
  },
  {
   "cell_type": "code",
   "execution_count": null,
   "id": "2d4a1b9a",
   "metadata": {},
   "outputs": [],
   "source": [
    "# Topic: Data Cleaning\n",
    "import pandas as pd\n",
    "df = pd.DataFrame({'A':[1,None,3]})\n",
    "df = df.fillna(0)\n",
    "print(df)"
   ]
  },
  {
   "cell_type": "code",
   "execution_count": null,
   "id": "5eecbac3",
   "metadata": {},
   "outputs": [],
   "source": [
    "# Topic: Functions\n",
    "def square(x): return x*x\n",
    "print(square(5))"
   ]
  },
  {
   "cell_type": "code",
   "execution_count": null,
   "id": "ae1b3a3f",
   "metadata": {},
   "outputs": [],
   "source": [
    "# Topic: Pandas\n",
    "import pandas as pd\n",
    "df = pd.read_csv('file.csv')\n",
    "print(df.head())"
   ]
  },
  {
   "cell_type": "code",
   "execution_count": null,
   "id": "f320a319",
   "metadata": {},
   "outputs": [],
   "source": [
    "# Topic: File I/O\n",
    "with open('test.txt', 'r') as f:\n",
    "    print(f.read())"
   ]
  },
  {
   "cell_type": "code",
   "execution_count": null,
   "id": "58e80b15",
   "metadata": {},
   "outputs": [],
   "source": [
    "# Topic: Sorting Algorithms\n",
    "def bubble_sort(arr):\n",
    " for i in range(len(arr)):\n",
    "  for j in range(0, len(arr)-i-1):\n",
    "   if arr[j]>arr[j+1]: arr[j], arr[j+1]=arr[j+1], arr[j]\n",
    "a = [5,3,8,6]\n",
    "bubble_sort(a)\n",
    "print(a)"
   ]
  },
  {
   "cell_type": "code",
   "execution_count": null,
   "id": "e2fa84c9",
   "metadata": {},
   "outputs": [],
   "source": [
    "# Topic: Pandas\n",
    "import pandas as pd\n",
    "df = pd.DataFrame({'A':[1,2],'B':[3,4]})\n",
    "print(df)"
   ]
  },
  {
   "cell_type": "code",
   "execution_count": null,
   "id": "2d1fa56e",
   "metadata": {},
   "outputs": [],
   "source": [
    "# Topic: Loops\n",
    "while True:\n",
    "    print('Break')\n",
    "    break"
   ]
  },
  {
   "cell_type": "code",
   "execution_count": null,
   "id": "d02864ab",
   "metadata": {},
   "outputs": [],
   "source": [
    "# Topic: Functions\n",
    "def greet(name='User'):\n",
    "    print(f'Hi, {name}')\n",
    "greet()"
   ]
  },
  {
   "cell_type": "code",
   "execution_count": null,
   "id": "e423866b",
   "metadata": {},
   "outputs": [],
   "source": [
    "# Topic: OOP\n",
    "class Student:\n",
    "    def __init__(self, name): self.name = name\n",
    "s = Student('Fahd')\n",
    "print(s.name)"
   ]
  },
  {
   "cell_type": "code",
   "execution_count": null,
   "id": "c0e94b65",
   "metadata": {},
   "outputs": [],
   "source": [
    "# Topic: Sorting Algorithms\n",
    "def bubble_sort(arr):\n",
    " for i in range(len(arr)):\n",
    "  for j in range(0, len(arr)-i-1):\n",
    "   if arr[j]>arr[j+1]: arr[j], arr[j+1]=arr[j+1], arr[j]\n",
    "a = [5,3,8,6]\n",
    "bubble_sort(a)\n",
    "print(a)"
   ]
  },
  {
   "cell_type": "code",
   "execution_count": null,
   "id": "f647bc2c",
   "metadata": {},
   "outputs": [],
   "source": [
    "# Topic: File I/O\n",
    "with open('test.txt', 'w') as f:\n",
    "    f.write('Hello World')"
   ]
  },
  {
   "cell_type": "code",
   "execution_count": null,
   "id": "e28d6fa7",
   "metadata": {},
   "outputs": [],
   "source": [
    "# Topic: Pandas\n",
    "import pandas as pd\n",
    "df = pd.DataFrame({'A':[1,2],'B':[3,4]})\n",
    "print(df)"
   ]
  },
  {
   "cell_type": "code",
   "execution_count": null,
   "id": "1c6d4d54",
   "metadata": {},
   "outputs": [],
   "source": [
    "# Topic: Dictionaries & Sets\n",
    "s = set([1, 2, 3, 2])\n",
    "print(s)"
   ]
  },
  {
   "cell_type": "code",
   "execution_count": null,
   "id": "cef70935",
   "metadata": {},
   "outputs": [],
   "source": [
    "# Topic: Matplotlib & Seaborn\n",
    "import matplotlib.pyplot as plt\n",
    "plt.plot([1,2],[3,4])\n",
    "plt.show()"
   ]
  },
  {
   "cell_type": "code",
   "execution_count": null,
   "id": "31bd7e18",
   "metadata": {},
   "outputs": [],
   "source": [
    "# Topic: Regex\n",
    "import re\n",
    "text = 'email: test@example.com'\n",
    "print(re.findall(r'\\S+@\\S+', text))"
   ]
  },
  {
   "cell_type": "code",
   "execution_count": null,
   "id": "2735c63b",
   "metadata": {},
   "outputs": [],
   "source": [
    "# Topic: Data Cleaning\n",
    "import pandas as pd\n",
    "df = pd.DataFrame({'A':[1,None,3]})\n",
    "df = df.fillna(0)\n",
    "print(df)"
   ]
  },
  {
   "cell_type": "code",
   "execution_count": null,
   "id": "349df406",
   "metadata": {},
   "outputs": [],
   "source": [
    "# Topic: Recursion\n",
    "def fact(n): return 1 if n==0 else n*fact(n-1)\n",
    "print(fact(5))"
   ]
  },
  {
   "cell_type": "code",
   "execution_count": null,
   "id": "7128228d",
   "metadata": {},
   "outputs": [],
   "source": [
    "# Topic: Pandas\n",
    "import pandas as pd\n",
    "df = pd.read_csv('file.csv')\n",
    "print(df.head())"
   ]
  },
  {
   "cell_type": "code",
   "execution_count": null,
   "id": "3713c1f1",
   "metadata": {},
   "outputs": [],
   "source": [
    "# Topic: Basics\n",
    "x = 10\n",
    "y = 20\n",
    "print(x + y)"
   ]
  },
  {
   "cell_type": "code",
   "execution_count": null,
   "id": "a5d9559f",
   "metadata": {},
   "outputs": [],
   "source": [
    "# Topic: Basic ML\n",
    "from sklearn.linear_model import LinearRegression\n",
    "model = LinearRegression()\n",
    "print(model)"
   ]
  },
  {
   "cell_type": "code",
   "execution_count": null,
   "id": "f798ef58",
   "metadata": {},
   "outputs": [],
   "source": [
    "# Topic: Basic ML\n",
    "from sklearn.linear_model import LinearRegression\n",
    "model = LinearRegression()\n",
    "print(model)"
   ]
  },
  {
   "cell_type": "code",
   "execution_count": null,
   "id": "b9e94f65",
   "metadata": {},
   "outputs": [],
   "source": [
    "# Topic: Basics\n",
    "name = 'Fahd'\n",
    "print(f'Hello, {name}')"
   ]
  },
  {
   "cell_type": "code",
   "execution_count": null,
   "id": "1be000b0",
   "metadata": {},
   "outputs": [],
   "source": [
    "# Topic: Lists & Tuples\n",
    "t = (1, 2, 3)\n",
    "print(t[0])"
   ]
  },
  {
   "cell_type": "code",
   "execution_count": null,
   "id": "7ce1eb4f",
   "metadata": {},
   "outputs": [],
   "source": [
    "# Topic: File I/O\n",
    "with open('test.txt', 'w') as f:\n",
    "    f.write('Hello World')"
   ]
  },
  {
   "cell_type": "code",
   "execution_count": null,
   "id": "0cb23b6d",
   "metadata": {},
   "outputs": [],
   "source": [
    "# Topic: Pandas\n",
    "import pandas as pd\n",
    "df = pd.read_csv('file.csv')\n",
    "print(df.head())"
   ]
  },
  {
   "cell_type": "code",
   "execution_count": null,
   "id": "b2f8d0f2",
   "metadata": {},
   "outputs": [],
   "source": [
    "# Topic: Dictionaries & Sets\n",
    "d = {'name': 'Fahd', 'age': 20}\n",
    "print(d.get('name'))"
   ]
  },
  {
   "cell_type": "code",
   "execution_count": null,
   "id": "39719723",
   "metadata": {},
   "outputs": [],
   "source": [
    "# Topic: Mini Projects\n",
    "# Palindrome check\n",
    "def is_pal(s): return s == s[::-1]\n",
    "print(is_pal('madam'))"
   ]
  },
  {
   "cell_type": "code",
   "execution_count": null,
   "id": "ea5a5da6",
   "metadata": {},
   "outputs": [],
   "source": [
    "# Topic: File I/O\n",
    "with open('test.txt', 'w') as f:\n",
    "    f.write('Hello World')"
   ]
  },
  {
   "cell_type": "code",
   "execution_count": null,
   "id": "973c23c2",
   "metadata": {},
   "outputs": [],
   "source": [
    "# Topic: Sorting Algorithms\n",
    "def bubble_sort(arr):\n",
    " for i in range(len(arr)):\n",
    "  for j in range(0, len(arr)-i-1):\n",
    "   if arr[j]>arr[j+1]: arr[j], arr[j+1]=arr[j+1], arr[j]\n",
    "a = [5,3,8,6]\n",
    "bubble_sort(a)\n",
    "print(a)"
   ]
  },
  {
   "cell_type": "code",
   "execution_count": null,
   "id": "da1a931a",
   "metadata": {},
   "outputs": [],
   "source": [
    "# Topic: Basics\n",
    "x = 10\n",
    "y = 20\n",
    "print(x + y)"
   ]
  },
  {
   "cell_type": "code",
   "execution_count": null,
   "id": "8d3aca3b",
   "metadata": {},
   "outputs": [],
   "source": [
    "# Topic: Recursion\n",
    "def fact(n): return 1 if n==0 else n*fact(n-1)\n",
    "print(fact(5))"
   ]
  },
  {
   "cell_type": "code",
   "execution_count": null,
   "id": "0a10efc9",
   "metadata": {},
   "outputs": [],
   "source": [
    "# Topic: Lists & Tuples\n",
    "lst = [1, 2, 3]\n",
    "lst.append(4)\n",
    "print(lst)"
   ]
  },
  {
   "cell_type": "code",
   "execution_count": null,
   "id": "47cb2f3a",
   "metadata": {},
   "outputs": [],
   "source": [
    "# Topic: Web Scraping\n",
    "import requests\n",
    "from bs4 import BeautifulSoup\n",
    "r = requests.get('https://example.com')\n",
    "soup = BeautifulSoup(r.text, 'html.parser')\n",
    "print(soup.title.text)"
   ]
  },
  {
   "cell_type": "code",
   "execution_count": null,
   "id": "560c0a35",
   "metadata": {},
   "outputs": [],
   "source": [
    "# Topic: JSON & CSV\n",
    "import csv\n",
    "with open('file.csv', 'w', newline='') as f:\n",
    " csv.writer(f).writerow(['a','b','c'])"
   ]
  },
  {
   "cell_type": "code",
   "execution_count": null,
   "id": "5a5c9400",
   "metadata": {},
   "outputs": [],
   "source": [
    "# Topic: Mini Projects\n",
    "# Calculator\n",
    "def calc(a,b,op): return eval(f'{a}{op}{b}')\n",
    "print(calc(5,2,'+'))"
   ]
  },
  {
   "cell_type": "code",
   "execution_count": null,
   "id": "00ebb7bd",
   "metadata": {},
   "outputs": [],
   "source": [
    "# Topic: Lists & Tuples\n",
    "lst = [1, 2, 3]\n",
    "lst.append(4)\n",
    "print(lst)"
   ]
  },
  {
   "cell_type": "code",
   "execution_count": null,
   "id": "20370f0e",
   "metadata": {},
   "outputs": [],
   "source": [
    "# Topic: Mini Projects\n",
    "# Calculator\n",
    "def calc(a,b,op): return eval(f'{a}{op}{b}')\n",
    "print(calc(5,2,'+'))"
   ]
  },
  {
   "cell_type": "code",
   "execution_count": null,
   "id": "c204dbaf",
   "metadata": {},
   "outputs": [],
   "source": [
    "# Topic: Pandas\n",
    "import pandas as pd\n",
    "df = pd.read_csv('file.csv')\n",
    "print(df.head())"
   ]
  },
  {
   "cell_type": "code",
   "execution_count": null,
   "id": "98a5055b",
   "metadata": {},
   "outputs": [],
   "source": [
    "# Topic: Data Cleaning\n",
    "import pandas as pd\n",
    "df = pd.DataFrame({'A':[1,None,3]})\n",
    "df = df.fillna(0)\n",
    "print(df)"
   ]
  },
  {
   "cell_type": "code",
   "execution_count": null,
   "id": "a93af414",
   "metadata": {},
   "outputs": [],
   "source": [
    "# Topic: NumPy\n",
    "import numpy as np\n",
    "a = np.array([1, 2, 3])\n",
    "print(a + 5)"
   ]
  },
  {
   "cell_type": "code",
   "execution_count": null,
   "id": "83153836",
   "metadata": {},
   "outputs": [],
   "source": [
    "# Topic: Recursion\n",
    "def fact(n): return 1 if n==0 else n*fact(n-1)\n",
    "print(fact(5))"
   ]
  },
  {
   "cell_type": "code",
   "execution_count": null,
   "id": "d80aa93e",
   "metadata": {},
   "outputs": [],
   "source": [
    "# Topic: Pandas\n",
    "import pandas as pd\n",
    "df = pd.DataFrame({'A':[1,2],'B':[3,4]})\n",
    "print(df)"
   ]
  },
  {
   "cell_type": "code",
   "execution_count": null,
   "id": "3a80d1ea",
   "metadata": {},
   "outputs": [],
   "source": [
    "# Topic: Matplotlib & Seaborn\n",
    "import seaborn as sns\n",
    "import pandas as pd\n",
    "sns.set()\n",
    "sns.histplot(pd.Series([1,2,2,3]));"
   ]
  },
  {
   "cell_type": "code",
   "execution_count": null,
   "id": "8bf78fd4",
   "metadata": {},
   "outputs": [],
   "source": [
    "# Topic: Recursion\n",
    "def fact(n): return 1 if n==0 else n*fact(n-1)\n",
    "print(fact(5))"
   ]
  },
  {
   "cell_type": "code",
   "execution_count": null,
   "id": "76dfcfe2",
   "metadata": {},
   "outputs": [],
   "source": [
    "# Topic: Dictionaries & Sets\n",
    "s = set([1, 2, 3, 2])\n",
    "print(s)"
   ]
  },
  {
   "cell_type": "code",
   "execution_count": null,
   "id": "f9e597fd",
   "metadata": {},
   "outputs": [],
   "source": [
    "# Topic: Matplotlib & Seaborn\n",
    "import matplotlib.pyplot as plt\n",
    "plt.plot([1,2],[3,4])\n",
    "plt.show()"
   ]
  },
  {
   "cell_type": "code",
   "execution_count": null,
   "id": "d14b6179",
   "metadata": {},
   "outputs": [],
   "source": [
    "# Topic: OOP\n",
    "class Student:\n",
    "    def __init__(self, name): self.name = name\n",
    "s = Student('Fahd')\n",
    "print(s.name)"
   ]
  },
  {
   "cell_type": "code",
   "execution_count": null,
   "id": "714462f0",
   "metadata": {},
   "outputs": [],
   "source": [
    "# Topic: Pandas\n",
    "import pandas as pd\n",
    "df = pd.DataFrame({'A':[1,2],'B':[3,4]})\n",
    "print(df)"
   ]
  },
  {
   "cell_type": "code",
   "execution_count": null,
   "id": "10aa3c5b",
   "metadata": {},
   "outputs": [],
   "source": [
    "# Topic: Sorting Algorithms\n",
    "def bubble_sort(arr):\n",
    " for i in range(len(arr)):\n",
    "  for j in range(0, len(arr)-i-1):\n",
    "   if arr[j]>arr[j+1]: arr[j], arr[j+1]=arr[j+1], arr[j]\n",
    "a = [5,3,8,6]\n",
    "bubble_sort(a)\n",
    "print(a)"
   ]
  },
  {
   "cell_type": "code",
   "execution_count": null,
   "id": "6f71c6b0",
   "metadata": {},
   "outputs": [],
   "source": [
    "# Topic: Functions\n",
    "def square(x): return x*x\n",
    "print(square(5))"
   ]
  },
  {
   "cell_type": "code",
   "execution_count": null,
   "id": "b8e1e659",
   "metadata": {},
   "outputs": [],
   "source": [
    "# Topic: Pandas\n",
    "import pandas as pd\n",
    "df = pd.read_csv('file.csv')\n",
    "print(df.head())"
   ]
  },
  {
   "cell_type": "code",
   "execution_count": null,
   "id": "aa0361e3",
   "metadata": {},
   "outputs": [],
   "source": [
    "# Topic: JSON & CSV\n",
    "import json\n",
    "data = {'a': 1}\n",
    "print(json.dumps(data))"
   ]
  },
  {
   "cell_type": "code",
   "execution_count": null,
   "id": "3602de59",
   "metadata": {},
   "outputs": [],
   "source": [
    "# Topic: Lists & Tuples\n",
    "t = (1, 2, 3)\n",
    "print(t[0])"
   ]
  },
  {
   "cell_type": "code",
   "execution_count": null,
   "id": "c59b6637",
   "metadata": {},
   "outputs": [],
   "source": [
    "# Topic: JSON & CSV\n",
    "import json\n",
    "data = {'a': 1}\n",
    "print(json.dumps(data))"
   ]
  },
  {
   "cell_type": "code",
   "execution_count": null,
   "id": "9ee4d6bf",
   "metadata": {},
   "outputs": [],
   "source": [
    "# Topic: Functions\n",
    "def greet(name='User'):\n",
    "    print(f'Hi, {name}')\n",
    "greet()"
   ]
  },
  {
   "cell_type": "code",
   "execution_count": null,
   "id": "5adad77f",
   "metadata": {},
   "outputs": [],
   "source": [
    "# Topic: Basic ML\n",
    "from sklearn.linear_model import LinearRegression\n",
    "model = LinearRegression()\n",
    "print(model)"
   ]
  },
  {
   "cell_type": "code",
   "execution_count": null,
   "id": "d63778ca",
   "metadata": {},
   "outputs": [],
   "source": [
    "# Topic: Regex\n",
    "import re\n",
    "text = 'email: test@example.com'\n",
    "print(re.findall(r'\\S+@\\S+', text))"
   ]
  },
  {
   "cell_type": "code",
   "execution_count": null,
   "id": "f988f48a",
   "metadata": {},
   "outputs": [],
   "source": [
    "# Topic: JSON & CSV\n",
    "import json\n",
    "data = {'a': 1}\n",
    "print(json.dumps(data))"
   ]
  },
  {
   "cell_type": "code",
   "execution_count": null,
   "id": "80ee3ecf",
   "metadata": {},
   "outputs": [],
   "source": [
    "# Topic: Lists & Tuples\n",
    "lst = [1, 2, 3]\n",
    "lst.append(4)\n",
    "print(lst)"
   ]
  },
  {
   "cell_type": "code",
   "execution_count": null,
   "id": "cc1d6066",
   "metadata": {},
   "outputs": [],
   "source": [
    "# Topic: Lists & Tuples\n",
    "lst = [1, 2, 3]\n",
    "lst.append(4)\n",
    "print(lst)"
   ]
  },
  {
   "cell_type": "code",
   "execution_count": null,
   "id": "86296aa7",
   "metadata": {},
   "outputs": [],
   "source": [
    "# Topic: Regex\n",
    "import re\n",
    "text = 'email: test@example.com'\n",
    "print(re.findall(r'\\S+@\\S+', text))"
   ]
  },
  {
   "cell_type": "code",
   "execution_count": null,
   "id": "0834cf68",
   "metadata": {},
   "outputs": [],
   "source": [
    "# Topic: Functions\n",
    "def greet(name='User'):\n",
    "    print(f'Hi, {name}')\n",
    "greet()"
   ]
  },
  {
   "cell_type": "code",
   "execution_count": null,
   "id": "060d18f6",
   "metadata": {},
   "outputs": [],
   "source": [
    "# Topic: Basics\n",
    "name = 'Fahd'\n",
    "print(f'Hello, {name}')"
   ]
  },
  {
   "cell_type": "code",
   "execution_count": null,
   "id": "cd20b354",
   "metadata": {},
   "outputs": [],
   "source": [
    "# Topic: Web Scraping\n",
    "import requests\n",
    "from bs4 import BeautifulSoup\n",
    "r = requests.get('https://example.com')\n",
    "soup = BeautifulSoup(r.text, 'html.parser')\n",
    "print(soup.title.text)"
   ]
  },
  {
   "cell_type": "code",
   "execution_count": null,
   "id": "c987eb85",
   "metadata": {},
   "outputs": [],
   "source": [
    "# Topic: File I/O\n",
    "with open('test.txt', 'w') as f:\n",
    "    f.write('Hello World')"
   ]
  },
  {
   "cell_type": "code",
   "execution_count": null,
   "id": "9e7ea7ff",
   "metadata": {},
   "outputs": [],
   "source": [
    "# Topic: Basic ML\n",
    "from sklearn.linear_model import LinearRegression\n",
    "model = LinearRegression()\n",
    "print(model)"
   ]
  },
  {
   "cell_type": "code",
   "execution_count": null,
   "id": "47ef7da5",
   "metadata": {},
   "outputs": [],
   "source": [
    "# Topic: Loops\n",
    "while True:\n",
    "    print('Break')\n",
    "    break"
   ]
  },
  {
   "cell_type": "code",
   "execution_count": null,
   "id": "61d30b3c",
   "metadata": {},
   "outputs": [],
   "source": [
    "# Topic: Functions\n",
    "def square(x): return x*x\n",
    "print(square(5))"
   ]
  },
  {
   "cell_type": "code",
   "execution_count": null,
   "id": "825b8190",
   "metadata": {},
   "outputs": [],
   "source": [
    "# Topic: Data Cleaning\n",
    "import pandas as pd\n",
    "df = pd.DataFrame({'A':[1,None,3]})\n",
    "df = df.fillna(0)\n",
    "print(df)"
   ]
  },
  {
   "cell_type": "code",
   "execution_count": null,
   "id": "24c2d79f",
   "metadata": {},
   "outputs": [],
   "source": [
    "# Topic: Dictionaries & Sets\n",
    "d = {'name': 'Fahd', 'age': 20}\n",
    "print(d.get('name'))"
   ]
  },
  {
   "cell_type": "code",
   "execution_count": null,
   "id": "fc8d0b9c",
   "metadata": {},
   "outputs": [],
   "source": [
    "# Topic: Regex\n",
    "import re\n",
    "text = 'email: test@example.com'\n",
    "print(re.findall(r'\\S+@\\S+', text))"
   ]
  },
  {
   "cell_type": "code",
   "execution_count": null,
   "id": "0adc5b43",
   "metadata": {},
   "outputs": [],
   "source": [
    "# Topic: Data Cleaning\n",
    "import pandas as pd\n",
    "df = pd.DataFrame({'A':[1,None,3]})\n",
    "df = df.fillna(0)\n",
    "print(df)"
   ]
  },
  {
   "cell_type": "code",
   "execution_count": null,
   "id": "140b5bf3",
   "metadata": {},
   "outputs": [],
   "source": [
    "# Topic: Recursion\n",
    "def fact(n): return 1 if n==0 else n*fact(n-1)\n",
    "print(fact(5))"
   ]
  },
  {
   "cell_type": "code",
   "execution_count": null,
   "id": "ffc3382e",
   "metadata": {},
   "outputs": [],
   "source": [
    "# Topic: Web Scraping\n",
    "import requests\n",
    "from bs4 import BeautifulSoup\n",
    "r = requests.get('https://example.com')\n",
    "soup = BeautifulSoup(r.text, 'html.parser')\n",
    "print(soup.title.text)"
   ]
  },
  {
   "cell_type": "code",
   "execution_count": null,
   "id": "6a1f2b3b",
   "metadata": {},
   "outputs": [],
   "source": [
    "# Topic: Basics\n",
    "x = 10\n",
    "y = 20\n",
    "print(x + y)"
   ]
  },
  {
   "cell_type": "code",
   "execution_count": null,
   "id": "bab3f129",
   "metadata": {},
   "outputs": [],
   "source": [
    "# Topic: Data Cleaning\n",
    "import pandas as pd\n",
    "df = pd.DataFrame({'A':[1,None,3]})\n",
    "df = df.fillna(0)\n",
    "print(df)"
   ]
  },
  {
   "cell_type": "code",
   "execution_count": null,
   "id": "aa431448",
   "metadata": {},
   "outputs": [],
   "source": [
    "# Topic: File I/O\n",
    "with open('test.txt', 'r') as f:\n",
    "    print(f.read())"
   ]
  },
  {
   "cell_type": "code",
   "execution_count": null,
   "id": "d1b2774b",
   "metadata": {},
   "outputs": [],
   "source": [
    "# Topic: Functions\n",
    "def square(x): return x*x\n",
    "print(square(5))"
   ]
  },
  {
   "cell_type": "code",
   "execution_count": null,
   "id": "4d9fca7a",
   "metadata": {},
   "outputs": [],
   "source": [
    "# Topic: Basic ML\n",
    "from sklearn.linear_model import LinearRegression\n",
    "model = LinearRegression()\n",
    "print(model)"
   ]
  },
  {
   "cell_type": "code",
   "execution_count": null,
   "id": "36820b48",
   "metadata": {},
   "outputs": [],
   "source": [
    "# Topic: Recursion\n",
    "def fact(n): return 1 if n==0 else n*fact(n-1)\n",
    "print(fact(5))"
   ]
  },
  {
   "cell_type": "code",
   "execution_count": null,
   "id": "4c5f260a",
   "metadata": {},
   "outputs": [],
   "source": [
    "# Topic: Basics\n",
    "name = 'Fahd'\n",
    "print(f'Hello, {name}')"
   ]
  },
  {
   "cell_type": "code",
   "execution_count": null,
   "id": "a778efa0",
   "metadata": {},
   "outputs": [],
   "source": [
    "# Topic: File I/O\n",
    "with open('test.txt', 'w') as f:\n",
    "    f.write('Hello World')"
   ]
  },
  {
   "cell_type": "code",
   "execution_count": null,
   "id": "2e356ce6",
   "metadata": {},
   "outputs": [],
   "source": [
    "# Topic: JSON & CSV\n",
    "import json\n",
    "data = {'a': 1}\n",
    "print(json.dumps(data))"
   ]
  },
  {
   "cell_type": "code",
   "execution_count": null,
   "id": "e03b14ed",
   "metadata": {},
   "outputs": [],
   "source": [
    "# Topic: Recursion\n",
    "def fact(n): return 1 if n==0 else n*fact(n-1)\n",
    "print(fact(5))"
   ]
  },
  {
   "cell_type": "code",
   "execution_count": null,
   "id": "03080f20",
   "metadata": {},
   "outputs": [],
   "source": [
    "# Topic: NumPy\n",
    "import numpy as np\n",
    "a = np.array([1, 2, 3])\n",
    "print(a + 5)"
   ]
  },
  {
   "cell_type": "code",
   "execution_count": null,
   "id": "7d2ec06e",
   "metadata": {},
   "outputs": [],
   "source": [
    "# Topic: Pandas\n",
    "import pandas as pd\n",
    "df = pd.DataFrame({'A':[1,2],'B':[3,4]})\n",
    "print(df)"
   ]
  },
  {
   "cell_type": "code",
   "execution_count": null,
   "id": "add3b487",
   "metadata": {},
   "outputs": [],
   "source": [
    "# Topic: Loops\n",
    "for i in range(10): print(i*i)"
   ]
  },
  {
   "cell_type": "code",
   "execution_count": null,
   "id": "5bf749b7",
   "metadata": {},
   "outputs": [],
   "source": [
    "# Topic: Dictionaries & Sets\n",
    "s = set([1, 2, 3, 2])\n",
    "print(s)"
   ]
  },
  {
   "cell_type": "code",
   "execution_count": null,
   "id": "aab0a92d",
   "metadata": {},
   "outputs": [],
   "source": [
    "# Topic: Decorators\n",
    "def log(func):\n",
    " def wrapper():\n",
    "  print('Call')\n",
    "  func()\n",
    " return wrapper\n",
    "@log\n",
    "def say(): print('Hi')\n",
    "say()"
   ]
  },
  {
   "cell_type": "code",
   "execution_count": null,
   "id": "ac21902e",
   "metadata": {},
   "outputs": [],
   "source": [
    "# Topic: Matplotlib & Seaborn\n",
    "import matplotlib.pyplot as plt\n",
    "plt.plot([1,2],[3,4])\n",
    "plt.show()"
   ]
  },
  {
   "cell_type": "code",
   "execution_count": null,
   "id": "ffeabf9a",
   "metadata": {},
   "outputs": [],
   "source": [
    "# Topic: Loops\n",
    "while True:\n",
    "    print('Break')\n",
    "    break"
   ]
  },
  {
   "cell_type": "code",
   "execution_count": null,
   "id": "472a1476",
   "metadata": {},
   "outputs": [],
   "source": [
    "# Topic: Recursion\n",
    "def fact(n): return 1 if n==0 else n*fact(n-1)\n",
    "print(fact(5))"
   ]
  },
  {
   "cell_type": "code",
   "execution_count": null,
   "id": "f7fcd47e",
   "metadata": {},
   "outputs": [],
   "source": [
    "# Topic: Sorting Algorithms\n",
    "def bubble_sort(arr):\n",
    " for i in range(len(arr)):\n",
    "  for j in range(0, len(arr)-i-1):\n",
    "   if arr[j]>arr[j+1]: arr[j], arr[j+1]=arr[j+1], arr[j]\n",
    "a = [5,3,8,6]\n",
    "bubble_sort(a)\n",
    "print(a)"
   ]
  },
  {
   "cell_type": "code",
   "execution_count": null,
   "id": "c521834f",
   "metadata": {},
   "outputs": [],
   "source": [
    "# Topic: Basic ML\n",
    "from sklearn.linear_model import LinearRegression\n",
    "model = LinearRegression()\n",
    "print(model)"
   ]
  },
  {
   "cell_type": "code",
   "execution_count": null,
   "id": "88ba5a40",
   "metadata": {},
   "outputs": [],
   "source": [
    "# Topic: Mini Projects\n",
    "# Palindrome check\n",
    "def is_pal(s): return s == s[::-1]\n",
    "print(is_pal('madam'))"
   ]
  },
  {
   "cell_type": "code",
   "execution_count": null,
   "id": "6b4c25f7",
   "metadata": {},
   "outputs": [],
   "source": [
    "# Topic: Regex\n",
    "import re\n",
    "text = 'email: test@example.com'\n",
    "print(re.findall(r'\\S+@\\S+', text))"
   ]
  },
  {
   "cell_type": "code",
   "execution_count": null,
   "id": "af7405e9",
   "metadata": {},
   "outputs": [],
   "source": [
    "# Topic: OOP\n",
    "class Student:\n",
    "    def __init__(self, name): self.name = name\n",
    "s = Student('Fahd')\n",
    "print(s.name)"
   ]
  },
  {
   "cell_type": "code",
   "execution_count": null,
   "id": "a11931de",
   "metadata": {},
   "outputs": [],
   "source": [
    "# Topic: Matplotlib & Seaborn\n",
    "import seaborn as sns\n",
    "import pandas as pd\n",
    "sns.set()\n",
    "sns.histplot(pd.Series([1,2,2,3]));"
   ]
  },
  {
   "cell_type": "code",
   "execution_count": null,
   "id": "d912d03a",
   "metadata": {},
   "outputs": [],
   "source": [
    "# Topic: Basics\n",
    "name = 'Fahd'\n",
    "print(f'Hello, {name}')"
   ]
  },
  {
   "cell_type": "code",
   "execution_count": null,
   "id": "20470249",
   "metadata": {},
   "outputs": [],
   "source": [
    "# Topic: Sorting Algorithms\n",
    "def bubble_sort(arr):\n",
    " for i in range(len(arr)):\n",
    "  for j in range(0, len(arr)-i-1):\n",
    "   if arr[j]>arr[j+1]: arr[j], arr[j+1]=arr[j+1], arr[j]\n",
    "a = [5,3,8,6]\n",
    "bubble_sort(a)\n",
    "print(a)"
   ]
  },
  {
   "cell_type": "code",
   "execution_count": null,
   "id": "94de9b0d",
   "metadata": {},
   "outputs": [],
   "source": [
    "# Topic: JSON & CSV\n",
    "import csv\n",
    "with open('file.csv', 'w', newline='') as f:\n",
    " csv.writer(f).writerow(['a','b','c'])"
   ]
  },
  {
   "cell_type": "code",
   "execution_count": null,
   "id": "4b2e5f79",
   "metadata": {},
   "outputs": [],
   "source": [
    "# Topic: Regex\n",
    "import re\n",
    "text = 'email: test@example.com'\n",
    "print(re.findall(r'\\S+@\\S+', text))"
   ]
  },
  {
   "cell_type": "code",
   "execution_count": null,
   "id": "058c709e",
   "metadata": {},
   "outputs": [],
   "source": [
    "# Topic: JSON & CSV\n",
    "import csv\n",
    "with open('file.csv', 'w', newline='') as f:\n",
    " csv.writer(f).writerow(['a','b','c'])"
   ]
  },
  {
   "cell_type": "code",
   "execution_count": null,
   "id": "254532cd",
   "metadata": {},
   "outputs": [],
   "source": [
    "# Topic: Data Cleaning\n",
    "import pandas as pd\n",
    "df = pd.DataFrame({'A':[1,None,3]})\n",
    "df = df.fillna(0)\n",
    "print(df)"
   ]
  },
  {
   "cell_type": "code",
   "execution_count": null,
   "id": "e6e67c42",
   "metadata": {},
   "outputs": [],
   "source": [
    "# Topic: File I/O\n",
    "with open('test.txt', 'r') as f:\n",
    "    print(f.read())"
   ]
  },
  {
   "cell_type": "code",
   "execution_count": null,
   "id": "ae8d853e",
   "metadata": {},
   "outputs": [],
   "source": [
    "# Topic: Mini Projects\n",
    "# Calculator\n",
    "def calc(a,b,op): return eval(f'{a}{op}{b}')\n",
    "print(calc(5,2,'+'))"
   ]
  },
  {
   "cell_type": "code",
   "execution_count": null,
   "id": "1c601f7b",
   "metadata": {},
   "outputs": [],
   "source": [
    "# Topic: Mini Projects\n",
    "# Calculator\n",
    "def calc(a,b,op): return eval(f'{a}{op}{b}')\n",
    "print(calc(5,2,'+'))"
   ]
  },
  {
   "cell_type": "code",
   "execution_count": null,
   "id": "40f5506b",
   "metadata": {},
   "outputs": [],
   "source": [
    "# Topic: Dictionaries & Sets\n",
    "d = {'name': 'Fahd', 'age': 20}\n",
    "print(d.get('name'))"
   ]
  },
  {
   "cell_type": "code",
   "execution_count": null,
   "id": "7a02f330",
   "metadata": {},
   "outputs": [],
   "source": [
    "# Topic: Pandas\n",
    "import pandas as pd\n",
    "df = pd.read_csv('file.csv')\n",
    "print(df.head())"
   ]
  },
  {
   "cell_type": "code",
   "execution_count": null,
   "id": "290aa92e",
   "metadata": {},
   "outputs": [],
   "source": [
    "# Topic: Sorting Algorithms\n",
    "def bubble_sort(arr):\n",
    " for i in range(len(arr)):\n",
    "  for j in range(0, len(arr)-i-1):\n",
    "   if arr[j]>arr[j+1]: arr[j], arr[j+1]=arr[j+1], arr[j]\n",
    "a = [5,3,8,6]\n",
    "bubble_sort(a)\n",
    "print(a)"
   ]
  },
  {
   "cell_type": "code",
   "execution_count": null,
   "id": "1c069fa8",
   "metadata": {},
   "outputs": [],
   "source": [
    "# Topic: Functions\n",
    "def greet(name='User'):\n",
    "    print(f'Hi, {name}')\n",
    "greet()"
   ]
  },
  {
   "cell_type": "code",
   "execution_count": null,
   "id": "7e497ed0",
   "metadata": {},
   "outputs": [],
   "source": [
    "# Topic: File I/O\n",
    "with open('test.txt', 'r') as f:\n",
    "    print(f.read())"
   ]
  },
  {
   "cell_type": "code",
   "execution_count": null,
   "id": "903bb22f",
   "metadata": {},
   "outputs": [],
   "source": [
    "# Topic: Mini Projects\n",
    "# Calculator\n",
    "def calc(a,b,op): return eval(f'{a}{op}{b}')\n",
    "print(calc(5,2,'+'))"
   ]
  },
  {
   "cell_type": "code",
   "execution_count": null,
   "id": "0ae52ee6",
   "metadata": {},
   "outputs": [],
   "source": [
    "# Topic: Matplotlib & Seaborn\n",
    "import seaborn as sns\n",
    "import pandas as pd\n",
    "sns.set()\n",
    "sns.histplot(pd.Series([1,2,2,3]));"
   ]
  },
  {
   "cell_type": "code",
   "execution_count": null,
   "id": "70164170",
   "metadata": {},
   "outputs": [],
   "source": [
    "# Topic: Sorting Algorithms\n",
    "def bubble_sort(arr):\n",
    " for i in range(len(arr)):\n",
    "  for j in range(0, len(arr)-i-1):\n",
    "   if arr[j]>arr[j+1]: arr[j], arr[j+1]=arr[j+1], arr[j]\n",
    "a = [5,3,8,6]\n",
    "bubble_sort(a)\n",
    "print(a)"
   ]
  },
  {
   "cell_type": "code",
   "execution_count": null,
   "id": "d160f60c",
   "metadata": {},
   "outputs": [],
   "source": [
    "# Topic: Pandas\n",
    "import pandas as pd\n",
    "df = pd.read_csv('file.csv')\n",
    "print(df.head())"
   ]
  },
  {
   "cell_type": "code",
   "execution_count": null,
   "id": "96a8e453",
   "metadata": {},
   "outputs": [],
   "source": [
    "# Topic: Web Scraping\n",
    "import requests\n",
    "from bs4 import BeautifulSoup\n",
    "r = requests.get('https://example.com')\n",
    "soup = BeautifulSoup(r.text, 'html.parser')\n",
    "print(soup.title.text)"
   ]
  },
  {
   "cell_type": "code",
   "execution_count": null,
   "id": "247fe88e",
   "metadata": {},
   "outputs": [],
   "source": [
    "# Topic: Mini Projects\n",
    "# Calculator\n",
    "def calc(a,b,op): return eval(f'{a}{op}{b}')\n",
    "print(calc(5,2,'+'))"
   ]
  },
  {
   "cell_type": "code",
   "execution_count": null,
   "id": "2b4108c1",
   "metadata": {},
   "outputs": [],
   "source": [
    "# Topic: Regex\n",
    "import re\n",
    "text = 'email: test@example.com'\n",
    "print(re.findall(r'\\S+@\\S+', text))"
   ]
  },
  {
   "cell_type": "code",
   "execution_count": null,
   "id": "7e9cee13",
   "metadata": {},
   "outputs": [],
   "source": [
    "# Topic: JSON & CSV\n",
    "import json\n",
    "data = {'a': 1}\n",
    "print(json.dumps(data))"
   ]
  },
  {
   "cell_type": "code",
   "execution_count": null,
   "id": "edd41b3f",
   "metadata": {},
   "outputs": [],
   "source": [
    "# Topic: Functions\n",
    "def greet(name='User'):\n",
    "    print(f'Hi, {name}')\n",
    "greet()"
   ]
  },
  {
   "cell_type": "code",
   "execution_count": null,
   "id": "c17f6d08",
   "metadata": {},
   "outputs": [],
   "source": [
    "# Topic: Mini Projects\n",
    "# Palindrome check\n",
    "def is_pal(s): return s == s[::-1]\n",
    "print(is_pal('madam'))"
   ]
  },
  {
   "cell_type": "code",
   "execution_count": null,
   "id": "0f4d0243",
   "metadata": {},
   "outputs": [],
   "source": [
    "# Topic: Web Scraping\n",
    "import requests\n",
    "from bs4 import BeautifulSoup\n",
    "r = requests.get('https://example.com')\n",
    "soup = BeautifulSoup(r.text, 'html.parser')\n",
    "print(soup.title.text)"
   ]
  },
  {
   "cell_type": "code",
   "execution_count": null,
   "id": "8c65072d",
   "metadata": {},
   "outputs": [],
   "source": [
    "# Topic: Functions\n",
    "def square(x): return x*x\n",
    "print(square(5))"
   ]
  },
  {
   "cell_type": "code",
   "execution_count": null,
   "id": "0d4f9d51",
   "metadata": {},
   "outputs": [],
   "source": [
    "# Topic: Matplotlib & Seaborn\n",
    "import matplotlib.pyplot as plt\n",
    "plt.plot([1,2],[3,4])\n",
    "plt.show()"
   ]
  },
  {
   "cell_type": "code",
   "execution_count": null,
   "id": "8bdb028a",
   "metadata": {},
   "outputs": [],
   "source": [
    "# Topic: Functions\n",
    "def square(x): return x*x\n",
    "print(square(5))"
   ]
  },
  {
   "cell_type": "code",
   "execution_count": null,
   "id": "2e256198",
   "metadata": {},
   "outputs": [],
   "source": [
    "# Topic: Dictionaries & Sets\n",
    "d = {'name': 'Fahd', 'age': 20}\n",
    "print(d.get('name'))"
   ]
  },
  {
   "cell_type": "code",
   "execution_count": null,
   "id": "0604290c",
   "metadata": {},
   "outputs": [],
   "source": [
    "# Topic: JSON & CSV\n",
    "import csv\n",
    "with open('file.csv', 'w', newline='') as f:\n",
    " csv.writer(f).writerow(['a','b','c'])"
   ]
  },
  {
   "cell_type": "code",
   "execution_count": null,
   "id": "fa9a7f53",
   "metadata": {},
   "outputs": [],
   "source": [
    "# Topic: Mini Projects\n",
    "# Calculator\n",
    "def calc(a,b,op): return eval(f'{a}{op}{b}')\n",
    "print(calc(5,2,'+'))"
   ]
  },
  {
   "cell_type": "code",
   "execution_count": null,
   "id": "02bedacb",
   "metadata": {},
   "outputs": [],
   "source": [
    "# Topic: File I/O\n",
    "with open('test.txt', 'r') as f:\n",
    "    print(f.read())"
   ]
  },
  {
   "cell_type": "code",
   "execution_count": null,
   "id": "36adb700",
   "metadata": {},
   "outputs": [],
   "source": [
    "# Topic: Web Scraping\n",
    "import requests\n",
    "from bs4 import BeautifulSoup\n",
    "r = requests.get('https://example.com')\n",
    "soup = BeautifulSoup(r.text, 'html.parser')\n",
    "print(soup.title.text)"
   ]
  },
  {
   "cell_type": "code",
   "execution_count": null,
   "id": "757b2f14",
   "metadata": {},
   "outputs": [],
   "source": [
    "# Topic: Mini Projects\n",
    "# Palindrome check\n",
    "def is_pal(s): return s == s[::-1]\n",
    "print(is_pal('madam'))"
   ]
  },
  {
   "cell_type": "code",
   "execution_count": null,
   "id": "bb446060",
   "metadata": {},
   "outputs": [],
   "source": [
    "# Topic: Decorators\n",
    "def log(func):\n",
    " def wrapper():\n",
    "  print('Call')\n",
    "  func()\n",
    " return wrapper\n",
    "@log\n",
    "def say(): print('Hi')\n",
    "say()"
   ]
  },
  {
   "cell_type": "code",
   "execution_count": null,
   "id": "91dd9c54",
   "metadata": {},
   "outputs": [],
   "source": [
    "# Topic: Pandas\n",
    "import pandas as pd\n",
    "df = pd.read_csv('file.csv')\n",
    "print(df.head())"
   ]
  },
  {
   "cell_type": "code",
   "execution_count": null,
   "id": "06e90c4e",
   "metadata": {},
   "outputs": [],
   "source": [
    "# Topic: Mini Projects\n",
    "# Palindrome check\n",
    "def is_pal(s): return s == s[::-1]\n",
    "print(is_pal('madam'))"
   ]
  },
  {
   "cell_type": "code",
   "execution_count": null,
   "id": "02860d60",
   "metadata": {},
   "outputs": [],
   "source": [
    "# Topic: Dictionaries & Sets\n",
    "d = {'name': 'Fahd', 'age': 20}\n",
    "print(d.get('name'))"
   ]
  },
  {
   "cell_type": "code",
   "execution_count": null,
   "id": "cbd592a7",
   "metadata": {},
   "outputs": [],
   "source": [
    "# Topic: Web Scraping\n",
    "import requests\n",
    "from bs4 import BeautifulSoup\n",
    "r = requests.get('https://example.com')\n",
    "soup = BeautifulSoup(r.text, 'html.parser')\n",
    "print(soup.title.text)"
   ]
  },
  {
   "cell_type": "code",
   "execution_count": null,
   "id": "1157a732",
   "metadata": {},
   "outputs": [],
   "source": [
    "# Topic: Mini Projects\n",
    "# Calculator\n",
    "def calc(a,b,op): return eval(f'{a}{op}{b}')\n",
    "print(calc(5,2,'+'))"
   ]
  },
  {
   "cell_type": "code",
   "execution_count": null,
   "id": "cb70ab32",
   "metadata": {},
   "outputs": [],
   "source": [
    "# Topic: JSON & CSV\n",
    "import csv\n",
    "with open('file.csv', 'w', newline='') as f:\n",
    " csv.writer(f).writerow(['a','b','c'])"
   ]
  },
  {
   "cell_type": "code",
   "execution_count": null,
   "id": "f5f65d70",
   "metadata": {},
   "outputs": [],
   "source": [
    "# Topic: Basic ML\n",
    "from sklearn.linear_model import LinearRegression\n",
    "model = LinearRegression()\n",
    "print(model)"
   ]
  },
  {
   "cell_type": "code",
   "execution_count": null,
   "id": "a208cd3a",
   "metadata": {},
   "outputs": [],
   "source": [
    "# Topic: Web Scraping\n",
    "import requests\n",
    "from bs4 import BeautifulSoup\n",
    "r = requests.get('https://example.com')\n",
    "soup = BeautifulSoup(r.text, 'html.parser')\n",
    "print(soup.title.text)"
   ]
  },
  {
   "cell_type": "code",
   "execution_count": null,
   "id": "4f82ca6c",
   "metadata": {},
   "outputs": [],
   "source": [
    "# Topic: Functions\n",
    "def square(x): return x*x\n",
    "print(square(5))"
   ]
  },
  {
   "cell_type": "code",
   "execution_count": null,
   "id": "fdf05748",
   "metadata": {},
   "outputs": [],
   "source": [
    "# Topic: Recursion\n",
    "def fact(n): return 1 if n==0 else n*fact(n-1)\n",
    "print(fact(5))"
   ]
  },
  {
   "cell_type": "code",
   "execution_count": null,
   "id": "9840d7d0",
   "metadata": {},
   "outputs": [],
   "source": [
    "# Topic: Pandas\n",
    "import pandas as pd\n",
    "df = pd.DataFrame({'A':[1,2],'B':[3,4]})\n",
    "print(df)"
   ]
  },
  {
   "cell_type": "code",
   "execution_count": null,
   "id": "48dff5f2",
   "metadata": {},
   "outputs": [],
   "source": [
    "# Topic: JSON & CSV\n",
    "import csv\n",
    "with open('file.csv', 'w', newline='') as f:\n",
    " csv.writer(f).writerow(['a','b','c'])"
   ]
  },
  {
   "cell_type": "code",
   "execution_count": null,
   "id": "874fd8bb",
   "metadata": {},
   "outputs": [],
   "source": [
    "# Topic: NumPy\n",
    "import numpy as np\n",
    "print(np.linspace(0, 1, 5))"
   ]
  },
  {
   "cell_type": "code",
   "execution_count": null,
   "id": "5b7a5416",
   "metadata": {},
   "outputs": [],
   "source": [
    "# Topic: Sorting Algorithms\n",
    "def bubble_sort(arr):\n",
    " for i in range(len(arr)):\n",
    "  for j in range(0, len(arr)-i-1):\n",
    "   if arr[j]>arr[j+1]: arr[j], arr[j+1]=arr[j+1], arr[j]\n",
    "a = [5,3,8,6]\n",
    "bubble_sort(a)\n",
    "print(a)"
   ]
  },
  {
   "cell_type": "code",
   "execution_count": null,
   "id": "b73ce87b",
   "metadata": {},
   "outputs": [],
   "source": [
    "# Topic: Matplotlib & Seaborn\n",
    "import matplotlib.pyplot as plt\n",
    "plt.plot([1,2],[3,4])\n",
    "plt.show()"
   ]
  },
  {
   "cell_type": "code",
   "execution_count": null,
   "id": "198b88f5",
   "metadata": {},
   "outputs": [],
   "source": [
    "# Topic: Recursion\n",
    "def fact(n): return 1 if n==0 else n*fact(n-1)\n",
    "print(fact(5))"
   ]
  },
  {
   "cell_type": "code",
   "execution_count": null,
   "id": "1e744800",
   "metadata": {},
   "outputs": [],
   "source": [
    "# Topic: Dictionaries & Sets\n",
    "s = set([1, 2, 3, 2])\n",
    "print(s)"
   ]
  },
  {
   "cell_type": "code",
   "execution_count": null,
   "id": "bb146775",
   "metadata": {},
   "outputs": [],
   "source": [
    "# Topic: Decorators\n",
    "def log(func):\n",
    " def wrapper():\n",
    "  print('Call')\n",
    "  func()\n",
    " return wrapper\n",
    "@log\n",
    "def say(): print('Hi')\n",
    "say()"
   ]
  },
  {
   "cell_type": "code",
   "execution_count": null,
   "id": "a9ff3dc3",
   "metadata": {},
   "outputs": [],
   "source": [
    "# Topic: Web Scraping\n",
    "import requests\n",
    "from bs4 import BeautifulSoup\n",
    "r = requests.get('https://example.com')\n",
    "soup = BeautifulSoup(r.text, 'html.parser')\n",
    "print(soup.title.text)"
   ]
  },
  {
   "cell_type": "code",
   "execution_count": null,
   "id": "05cf7dfd",
   "metadata": {},
   "outputs": [],
   "source": [
    "# Topic: Web Scraping\n",
    "import requests\n",
    "from bs4 import BeautifulSoup\n",
    "r = requests.get('https://example.com')\n",
    "soup = BeautifulSoup(r.text, 'html.parser')\n",
    "print(soup.title.text)"
   ]
  },
  {
   "cell_type": "code",
   "execution_count": null,
   "id": "00002189",
   "metadata": {},
   "outputs": [],
   "source": [
    "# Topic: Matplotlib & Seaborn\n",
    "import matplotlib.pyplot as plt\n",
    "plt.plot([1,2],[3,4])\n",
    "plt.show()"
   ]
  },
  {
   "cell_type": "code",
   "execution_count": null,
   "id": "a4bf65cd",
   "metadata": {},
   "outputs": [],
   "source": [
    "# Topic: Lists & Tuples\n",
    "lst = [1, 2, 3]\n",
    "lst.append(4)\n",
    "print(lst)"
   ]
  },
  {
   "cell_type": "code",
   "execution_count": null,
   "id": "8b26bfd9",
   "metadata": {},
   "outputs": [],
   "source": [
    "# Topic: Pandas\n",
    "import pandas as pd\n",
    "df = pd.DataFrame({'A':[1,2],'B':[3,4]})\n",
    "print(df)"
   ]
  },
  {
   "cell_type": "code",
   "execution_count": null,
   "id": "c324254c",
   "metadata": {},
   "outputs": [],
   "source": [
    "# Topic: File I/O\n",
    "with open('test.txt', 'r') as f:\n",
    "    print(f.read())"
   ]
  },
  {
   "cell_type": "code",
   "execution_count": null,
   "id": "e4fd6798",
   "metadata": {},
   "outputs": [],
   "source": [
    "# Topic: Data Cleaning\n",
    "import pandas as pd\n",
    "df = pd.DataFrame({'A':[1,None,3]})\n",
    "df = df.fillna(0)\n",
    "print(df)"
   ]
  },
  {
   "cell_type": "code",
   "execution_count": null,
   "id": "37691092",
   "metadata": {},
   "outputs": [],
   "source": [
    "# Topic: Basic ML\n",
    "from sklearn.linear_model import LinearRegression\n",
    "model = LinearRegression()\n",
    "print(model)"
   ]
  },
  {
   "cell_type": "code",
   "execution_count": null,
   "id": "8bb2fb61",
   "metadata": {},
   "outputs": [],
   "source": [
    "# Topic: Matplotlib & Seaborn\n",
    "import seaborn as sns\n",
    "import pandas as pd\n",
    "sns.set()\n",
    "sns.histplot(pd.Series([1,2,2,3]));"
   ]
  },
  {
   "cell_type": "code",
   "execution_count": null,
   "id": "8e580180",
   "metadata": {},
   "outputs": [],
   "source": [
    "# Topic: File I/O\n",
    "with open('test.txt', 'r') as f:\n",
    "    print(f.read())"
   ]
  },
  {
   "cell_type": "code",
   "execution_count": null,
   "id": "255a2bc8",
   "metadata": {},
   "outputs": [],
   "source": [
    "# Topic: Matplotlib & Seaborn\n",
    "import matplotlib.pyplot as plt\n",
    "plt.plot([1,2],[3,4])\n",
    "plt.show()"
   ]
  },
  {
   "cell_type": "code",
   "execution_count": null,
   "id": "d4798ce7",
   "metadata": {},
   "outputs": [],
   "source": [
    "# Topic: Functions\n",
    "def greet(name='User'):\n",
    "    print(f'Hi, {name}')\n",
    "greet()"
   ]
  },
  {
   "cell_type": "code",
   "execution_count": null,
   "id": "9f62452c",
   "metadata": {},
   "outputs": [],
   "source": [
    "# Topic: NumPy\n",
    "import numpy as np\n",
    "a = np.array([1, 2, 3])\n",
    "print(a + 5)"
   ]
  },
  {
   "cell_type": "code",
   "execution_count": null,
   "id": "7f8341aa",
   "metadata": {},
   "outputs": [],
   "source": [
    "# Topic: Functions\n",
    "def greet(name='User'):\n",
    "    print(f'Hi, {name}')\n",
    "greet()"
   ]
  },
  {
   "cell_type": "code",
   "execution_count": null,
   "id": "22a51bad",
   "metadata": {},
   "outputs": [],
   "source": [
    "# Topic: Lists & Tuples\n",
    "t = (1, 2, 3)\n",
    "print(t[0])"
   ]
  },
  {
   "cell_type": "code",
   "execution_count": null,
   "id": "f38aaf36",
   "metadata": {},
   "outputs": [],
   "source": [
    "# Topic: Data Cleaning\n",
    "import pandas as pd\n",
    "df = pd.DataFrame({'A':[1,None,3]})\n",
    "df = df.fillna(0)\n",
    "print(df)"
   ]
  },
  {
   "cell_type": "code",
   "execution_count": null,
   "id": "f2f9f916",
   "metadata": {},
   "outputs": [],
   "source": [
    "# Topic: JSON & CSV\n",
    "import json\n",
    "data = {'a': 1}\n",
    "print(json.dumps(data))"
   ]
  },
  {
   "cell_type": "code",
   "execution_count": null,
   "id": "03f57d8f",
   "metadata": {},
   "outputs": [],
   "source": [
    "# Topic: Lists & Tuples\n",
    "t = (1, 2, 3)\n",
    "print(t[0])"
   ]
  },
  {
   "cell_type": "code",
   "execution_count": null,
   "id": "f321d1a2",
   "metadata": {},
   "outputs": [],
   "source": [
    "# Topic: Regex\n",
    "import re\n",
    "text = 'email: test@example.com'\n",
    "print(re.findall(r'\\S+@\\S+', text))"
   ]
  },
  {
   "cell_type": "code",
   "execution_count": null,
   "id": "b58de9ba",
   "metadata": {},
   "outputs": [],
   "source": [
    "# Topic: Mini Projects\n",
    "# Palindrome check\n",
    "def is_pal(s): return s == s[::-1]\n",
    "print(is_pal('madam'))"
   ]
  },
  {
   "cell_type": "code",
   "execution_count": null,
   "id": "93a3691e",
   "metadata": {},
   "outputs": [],
   "source": [
    "# Topic: Web Scraping\n",
    "import requests\n",
    "from bs4 import BeautifulSoup\n",
    "r = requests.get('https://example.com')\n",
    "soup = BeautifulSoup(r.text, 'html.parser')\n",
    "print(soup.title.text)"
   ]
  },
  {
   "cell_type": "code",
   "execution_count": null,
   "id": "dbdb9339",
   "metadata": {},
   "outputs": [],
   "source": [
    "# Topic: Recursion\n",
    "def fact(n): return 1 if n==0 else n*fact(n-1)\n",
    "print(fact(5))"
   ]
  },
  {
   "cell_type": "code",
   "execution_count": null,
   "id": "e4ed6dd1",
   "metadata": {},
   "outputs": [],
   "source": [
    "# Topic: Basics\n",
    "name = 'Fahd'\n",
    "print(f'Hello, {name}')"
   ]
  },
  {
   "cell_type": "code",
   "execution_count": null,
   "id": "56e786c8",
   "metadata": {},
   "outputs": [],
   "source": [
    "# Topic: Functions\n",
    "def greet(name='User'):\n",
    "    print(f'Hi, {name}')\n",
    "greet()"
   ]
  },
  {
   "cell_type": "code",
   "execution_count": null,
   "id": "5dbb38a5",
   "metadata": {},
   "outputs": [],
   "source": [
    "# Topic: Pandas\n",
    "import pandas as pd\n",
    "df = pd.DataFrame({'A':[1,2],'B':[3,4]})\n",
    "print(df)"
   ]
  },
  {
   "cell_type": "code",
   "execution_count": null,
   "id": "06007df6",
   "metadata": {},
   "outputs": [],
   "source": [
    "# Topic: Pandas\n",
    "import pandas as pd\n",
    "df = pd.read_csv('file.csv')\n",
    "print(df.head())"
   ]
  },
  {
   "cell_type": "code",
   "execution_count": null,
   "id": "3e8aec04",
   "metadata": {},
   "outputs": [],
   "source": [
    "# Topic: Data Cleaning\n",
    "import pandas as pd\n",
    "df = pd.DataFrame({'A':[1,None,3]})\n",
    "df = df.fillna(0)\n",
    "print(df)"
   ]
  },
  {
   "cell_type": "code",
   "execution_count": null,
   "id": "33b33425",
   "metadata": {},
   "outputs": [],
   "source": [
    "# Topic: Matplotlib & Seaborn\n",
    "import seaborn as sns\n",
    "import pandas as pd\n",
    "sns.set()\n",
    "sns.histplot(pd.Series([1,2,2,3]));"
   ]
  },
  {
   "cell_type": "code",
   "execution_count": null,
   "id": "497a534c",
   "metadata": {},
   "outputs": [],
   "source": [
    "# Topic: Matplotlib & Seaborn\n",
    "import seaborn as sns\n",
    "import pandas as pd\n",
    "sns.set()\n",
    "sns.histplot(pd.Series([1,2,2,3]));"
   ]
  },
  {
   "cell_type": "code",
   "execution_count": null,
   "id": "d5debc57",
   "metadata": {},
   "outputs": [],
   "source": [
    "# Topic: Loops\n",
    "for i in range(10): print(i*i)"
   ]
  },
  {
   "cell_type": "code",
   "execution_count": null,
   "id": "a4a9a6bc",
   "metadata": {},
   "outputs": [],
   "source": [
    "# Topic: Decorators\n",
    "def log(func):\n",
    " def wrapper():\n",
    "  print('Call')\n",
    "  func()\n",
    " return wrapper\n",
    "@log\n",
    "def say(): print('Hi')\n",
    "say()"
   ]
  },
  {
   "cell_type": "code",
   "execution_count": null,
   "id": "d4d95aa3",
   "metadata": {},
   "outputs": [],
   "source": [
    "# Topic: OOP\n",
    "class Student:\n",
    "    def __init__(self, name): self.name = name\n",
    "s = Student('Fahd')\n",
    "print(s.name)"
   ]
  },
  {
   "cell_type": "code",
   "execution_count": null,
   "id": "40bed885",
   "metadata": {},
   "outputs": [],
   "source": [
    "# Topic: Web Scraping\n",
    "import requests\n",
    "from bs4 import BeautifulSoup\n",
    "r = requests.get('https://example.com')\n",
    "soup = BeautifulSoup(r.text, 'html.parser')\n",
    "print(soup.title.text)"
   ]
  },
  {
   "cell_type": "code",
   "execution_count": null,
   "id": "e0964af5",
   "metadata": {},
   "outputs": [],
   "source": [
    "# Topic: Basic ML\n",
    "from sklearn.linear_model import LinearRegression\n",
    "model = LinearRegression()\n",
    "print(model)"
   ]
  },
  {
   "cell_type": "code",
   "execution_count": null,
   "id": "dfbac459",
   "metadata": {},
   "outputs": [],
   "source": [
    "# Topic: Mini Projects\n",
    "# Palindrome check\n",
    "def is_pal(s): return s == s[::-1]\n",
    "print(is_pal('madam'))"
   ]
  },
  {
   "cell_type": "code",
   "execution_count": null,
   "id": "33067ee2",
   "metadata": {},
   "outputs": [],
   "source": [
    "# Topic: Web Scraping\n",
    "import requests\n",
    "from bs4 import BeautifulSoup\n",
    "r = requests.get('https://example.com')\n",
    "soup = BeautifulSoup(r.text, 'html.parser')\n",
    "print(soup.title.text)"
   ]
  },
  {
   "cell_type": "code",
   "execution_count": null,
   "id": "ffd39f2d",
   "metadata": {},
   "outputs": [],
   "source": [
    "# Topic: Lists & Tuples\n",
    "t = (1, 2, 3)\n",
    "print(t[0])"
   ]
  },
  {
   "cell_type": "code",
   "execution_count": null,
   "id": "e4cce90c",
   "metadata": {},
   "outputs": [],
   "source": [
    "# Topic: Dictionaries & Sets\n",
    "s = set([1, 2, 3, 2])\n",
    "print(s)"
   ]
  },
  {
   "cell_type": "code",
   "execution_count": null,
   "id": "c778fa54",
   "metadata": {},
   "outputs": [],
   "source": [
    "# Topic: Recursion\n",
    "def fact(n): return 1 if n==0 else n*fact(n-1)\n",
    "print(fact(5))"
   ]
  },
  {
   "cell_type": "code",
   "execution_count": null,
   "id": "aa599ba3",
   "metadata": {},
   "outputs": [],
   "source": [
    "# Topic: Matplotlib & Seaborn\n",
    "import seaborn as sns\n",
    "import pandas as pd\n",
    "sns.set()\n",
    "sns.histplot(pd.Series([1,2,2,3]));"
   ]
  },
  {
   "cell_type": "code",
   "execution_count": null,
   "id": "90f6a939",
   "metadata": {},
   "outputs": [],
   "source": [
    "# Topic: Pandas\n",
    "import pandas as pd\n",
    "df = pd.DataFrame({'A':[1,2],'B':[3,4]})\n",
    "print(df)"
   ]
  },
  {
   "cell_type": "code",
   "execution_count": null,
   "id": "5a601dbf",
   "metadata": {},
   "outputs": [],
   "source": [
    "# Topic: Loops\n",
    "while True:\n",
    "    print('Break')\n",
    "    break"
   ]
  },
  {
   "cell_type": "code",
   "execution_count": null,
   "id": "28414776",
   "metadata": {},
   "outputs": [],
   "source": [
    "# Topic: Mini Projects\n",
    "# Calculator\n",
    "def calc(a,b,op): return eval(f'{a}{op}{b}')\n",
    "print(calc(5,2,'+'))"
   ]
  },
  {
   "cell_type": "code",
   "execution_count": null,
   "id": "1604690a",
   "metadata": {},
   "outputs": [],
   "source": [
    "# Topic: Matplotlib & Seaborn\n",
    "import matplotlib.pyplot as plt\n",
    "plt.plot([1,2],[3,4])\n",
    "plt.show()"
   ]
  },
  {
   "cell_type": "code",
   "execution_count": null,
   "id": "9b3491fd",
   "metadata": {},
   "outputs": [],
   "source": [
    "# Topic: Pandas\n",
    "import pandas as pd\n",
    "df = pd.read_csv('file.csv')\n",
    "print(df.head())"
   ]
  },
  {
   "cell_type": "code",
   "execution_count": null,
   "id": "97bff2e8",
   "metadata": {},
   "outputs": [],
   "source": [
    "# Topic: Lists & Tuples\n",
    "lst = [1, 2, 3]\n",
    "lst.append(4)\n",
    "print(lst)"
   ]
  },
  {
   "cell_type": "code",
   "execution_count": null,
   "id": "6ad49be9",
   "metadata": {},
   "outputs": [],
   "source": [
    "# Topic: Pandas\n",
    "import pandas as pd\n",
    "df = pd.read_csv('file.csv')\n",
    "print(df.head())"
   ]
  },
  {
   "cell_type": "code",
   "execution_count": null,
   "id": "7e71a46d",
   "metadata": {},
   "outputs": [],
   "source": [
    "# Topic: Regex\n",
    "import re\n",
    "text = 'email: test@example.com'\n",
    "print(re.findall(r'\\S+@\\S+', text))"
   ]
  },
  {
   "cell_type": "code",
   "execution_count": null,
   "id": "9172b471",
   "metadata": {},
   "outputs": [],
   "source": [
    "# Topic: Mini Projects\n",
    "# Palindrome check\n",
    "def is_pal(s): return s == s[::-1]\n",
    "print(is_pal('madam'))"
   ]
  },
  {
   "cell_type": "code",
   "execution_count": null,
   "id": "60b29e87",
   "metadata": {},
   "outputs": [],
   "source": [
    "# Topic: Basic ML\n",
    "from sklearn.linear_model import LinearRegression\n",
    "model = LinearRegression()\n",
    "print(model)"
   ]
  },
  {
   "cell_type": "code",
   "execution_count": null,
   "id": "bcb4a8ef",
   "metadata": {},
   "outputs": [],
   "source": [
    "# Topic: JSON & CSV\n",
    "import json\n",
    "data = {'a': 1}\n",
    "print(json.dumps(data))"
   ]
  },
  {
   "cell_type": "code",
   "execution_count": null,
   "id": "2b9dc388",
   "metadata": {},
   "outputs": [],
   "source": [
    "# Topic: Matplotlib & Seaborn\n",
    "import seaborn as sns\n",
    "import pandas as pd\n",
    "sns.set()\n",
    "sns.histplot(pd.Series([1,2,2,3]));"
   ]
  },
  {
   "cell_type": "code",
   "execution_count": null,
   "id": "256e108b",
   "metadata": {},
   "outputs": [],
   "source": [
    "# Topic: JSON & CSV\n",
    "import csv\n",
    "with open('file.csv', 'w', newline='') as f:\n",
    " csv.writer(f).writerow(['a','b','c'])"
   ]
  },
  {
   "cell_type": "code",
   "execution_count": null,
   "id": "c09b3d82",
   "metadata": {},
   "outputs": [],
   "source": [
    "# Topic: Matplotlib & Seaborn\n",
    "import seaborn as sns\n",
    "import pandas as pd\n",
    "sns.set()\n",
    "sns.histplot(pd.Series([1,2,2,3]));"
   ]
  },
  {
   "cell_type": "code",
   "execution_count": null,
   "id": "1bd8a4c8",
   "metadata": {},
   "outputs": [],
   "source": [
    "# Topic: Loops\n",
    "while True:\n",
    "    print('Break')\n",
    "    break"
   ]
  },
  {
   "cell_type": "code",
   "execution_count": null,
   "id": "a5a53d90",
   "metadata": {},
   "outputs": [],
   "source": [
    "# Topic: Sorting Algorithms\n",
    "def bubble_sort(arr):\n",
    " for i in range(len(arr)):\n",
    "  for j in range(0, len(arr)-i-1):\n",
    "   if arr[j]>arr[j+1]: arr[j], arr[j+1]=arr[j+1], arr[j]\n",
    "a = [5,3,8,6]\n",
    "bubble_sort(a)\n",
    "print(a)"
   ]
  },
  {
   "cell_type": "code",
   "execution_count": null,
   "id": "598ce828",
   "metadata": {},
   "outputs": [],
   "source": [
    "# Topic: Regex\n",
    "import re\n",
    "text = 'email: test@example.com'\n",
    "print(re.findall(r'\\S+@\\S+', text))"
   ]
  },
  {
   "cell_type": "code",
   "execution_count": null,
   "id": "cd8f30e6",
   "metadata": {},
   "outputs": [],
   "source": [
    "# Topic: NumPy\n",
    "import numpy as np\n",
    "a = np.array([1, 2, 3])\n",
    "print(a + 5)"
   ]
  },
  {
   "cell_type": "code",
   "execution_count": null,
   "id": "8f1a0e6d",
   "metadata": {},
   "outputs": [],
   "source": [
    "# Topic: OOP\n",
    "class Student:\n",
    "    def __init__(self, name): self.name = name\n",
    "s = Student('Fahd')\n",
    "print(s.name)"
   ]
  },
  {
   "cell_type": "code",
   "execution_count": null,
   "id": "bbf26109",
   "metadata": {},
   "outputs": [],
   "source": [
    "# Topic: Lists & Tuples\n",
    "lst = [1, 2, 3]\n",
    "lst.append(4)\n",
    "print(lst)"
   ]
  },
  {
   "cell_type": "code",
   "execution_count": null,
   "id": "de0bc562",
   "metadata": {},
   "outputs": [],
   "source": [
    "# Topic: NumPy\n",
    "import numpy as np\n",
    "print(np.linspace(0, 1, 5))"
   ]
  },
  {
   "cell_type": "code",
   "execution_count": null,
   "id": "37436a77",
   "metadata": {},
   "outputs": [],
   "source": [
    "# Topic: NumPy\n",
    "import numpy as np\n",
    "a = np.array([1, 2, 3])\n",
    "print(a + 5)"
   ]
  },
  {
   "cell_type": "code",
   "execution_count": null,
   "id": "af1be76c",
   "metadata": {},
   "outputs": [],
   "source": [
    "# Topic: Data Cleaning\n",
    "import pandas as pd\n",
    "df = pd.DataFrame({'A':[1,None,3]})\n",
    "df = df.fillna(0)\n",
    "print(df)"
   ]
  },
  {
   "cell_type": "code",
   "execution_count": null,
   "id": "08e019ff",
   "metadata": {},
   "outputs": [],
   "source": [
    "# Topic: Basics\n",
    "x = 10\n",
    "y = 20\n",
    "print(x + y)"
   ]
  },
  {
   "cell_type": "code",
   "execution_count": null,
   "id": "db16eb10",
   "metadata": {},
   "outputs": [],
   "source": [
    "# Topic: OOP\n",
    "class Student:\n",
    "    def __init__(self, name): self.name = name\n",
    "s = Student('Fahd')\n",
    "print(s.name)"
   ]
  },
  {
   "cell_type": "code",
   "execution_count": null,
   "id": "85fce1c3",
   "metadata": {},
   "outputs": [],
   "source": [
    "# Topic: Dictionaries & Sets\n",
    "d = {'name': 'Fahd', 'age': 20}\n",
    "print(d.get('name'))"
   ]
  },
  {
   "cell_type": "code",
   "execution_count": null,
   "id": "30776278",
   "metadata": {},
   "outputs": [],
   "source": [
    "# Topic: Regex\n",
    "import re\n",
    "text = 'email: test@example.com'\n",
    "print(re.findall(r'\\S+@\\S+', text))"
   ]
  },
  {
   "cell_type": "code",
   "execution_count": null,
   "id": "c1b1c013",
   "metadata": {},
   "outputs": [],
   "source": [
    "# Topic: Mini Projects\n",
    "# Palindrome check\n",
    "def is_pal(s): return s == s[::-1]\n",
    "print(is_pal('madam'))"
   ]
  },
  {
   "cell_type": "code",
   "execution_count": null,
   "id": "5facb30e",
   "metadata": {},
   "outputs": [],
   "source": [
    "# Topic: Mini Projects\n",
    "# Calculator\n",
    "def calc(a,b,op): return eval(f'{a}{op}{b}')\n",
    "print(calc(5,2,'+'))"
   ]
  },
  {
   "cell_type": "code",
   "execution_count": null,
   "id": "4a0a8295",
   "metadata": {},
   "outputs": [],
   "source": [
    "# Topic: Pandas\n",
    "import pandas as pd\n",
    "df = pd.DataFrame({'A':[1,2],'B':[3,4]})\n",
    "print(df)"
   ]
  },
  {
   "cell_type": "code",
   "execution_count": null,
   "id": "f5412b13",
   "metadata": {},
   "outputs": [],
   "source": [
    "# Topic: Basics\n",
    "name = 'Fahd'\n",
    "print(f'Hello, {name}')"
   ]
  },
  {
   "cell_type": "code",
   "execution_count": null,
   "id": "29a67364",
   "metadata": {},
   "outputs": [],
   "source": [
    "# Topic: File I/O\n",
    "with open('test.txt', 'w') as f:\n",
    "    f.write('Hello World')"
   ]
  },
  {
   "cell_type": "code",
   "execution_count": null,
   "id": "8e4b5bdb",
   "metadata": {},
   "outputs": [],
   "source": [
    "# Topic: Basic ML\n",
    "from sklearn.linear_model import LinearRegression\n",
    "model = LinearRegression()\n",
    "print(model)"
   ]
  },
  {
   "cell_type": "code",
   "execution_count": null,
   "id": "26eda702",
   "metadata": {},
   "outputs": [],
   "source": [
    "# Topic: File I/O\n",
    "with open('test.txt', 'r') as f:\n",
    "    print(f.read())"
   ]
  },
  {
   "cell_type": "code",
   "execution_count": null,
   "id": "380d9b51",
   "metadata": {},
   "outputs": [],
   "source": [
    "# Topic: Web Scraping\n",
    "import requests\n",
    "from bs4 import BeautifulSoup\n",
    "r = requests.get('https://example.com')\n",
    "soup = BeautifulSoup(r.text, 'html.parser')\n",
    "print(soup.title.text)"
   ]
  },
  {
   "cell_type": "code",
   "execution_count": null,
   "id": "dd317934",
   "metadata": {},
   "outputs": [],
   "source": [
    "# Topic: Loops\n",
    "while True:\n",
    "    print('Break')\n",
    "    break"
   ]
  },
  {
   "cell_type": "code",
   "execution_count": null,
   "id": "4ce05ea9",
   "metadata": {},
   "outputs": [],
   "source": [
    "# Topic: Pandas\n",
    "import pandas as pd\n",
    "df = pd.DataFrame({'A':[1,2],'B':[3,4]})\n",
    "print(df)"
   ]
  },
  {
   "cell_type": "code",
   "execution_count": null,
   "id": "82382c87",
   "metadata": {},
   "outputs": [],
   "source": [
    "# Topic: Functions\n",
    "def square(x): return x*x\n",
    "print(square(5))"
   ]
  },
  {
   "cell_type": "code",
   "execution_count": null,
   "id": "00cb6d58",
   "metadata": {},
   "outputs": [],
   "source": [
    "# Topic: Lists & Tuples\n",
    "t = (1, 2, 3)\n",
    "print(t[0])"
   ]
  },
  {
   "cell_type": "code",
   "execution_count": null,
   "id": "6ac4e394",
   "metadata": {},
   "outputs": [],
   "source": [
    "# Topic: NumPy\n",
    "import numpy as np\n",
    "a = np.array([1, 2, 3])\n",
    "print(a + 5)"
   ]
  },
  {
   "cell_type": "code",
   "execution_count": null,
   "id": "9a7d5dd1",
   "metadata": {},
   "outputs": [],
   "source": [
    "# Topic: Pandas\n",
    "import pandas as pd\n",
    "df = pd.read_csv('file.csv')\n",
    "print(df.head())"
   ]
  },
  {
   "cell_type": "code",
   "execution_count": null,
   "id": "42214a8a",
   "metadata": {},
   "outputs": [],
   "source": [
    "# Topic: Basic ML\n",
    "from sklearn.linear_model import LinearRegression\n",
    "model = LinearRegression()\n",
    "print(model)"
   ]
  },
  {
   "cell_type": "code",
   "execution_count": null,
   "id": "021d33e1",
   "metadata": {},
   "outputs": [],
   "source": [
    "# Topic: Functions\n",
    "def greet(name='User'):\n",
    "    print(f'Hi, {name}')\n",
    "greet()"
   ]
  },
  {
   "cell_type": "code",
   "execution_count": null,
   "id": "7a48a94b",
   "metadata": {},
   "outputs": [],
   "source": [
    "# Topic: Basic ML\n",
    "from sklearn.linear_model import LinearRegression\n",
    "model = LinearRegression()\n",
    "print(model)"
   ]
  },
  {
   "cell_type": "code",
   "execution_count": null,
   "id": "ad7c9597",
   "metadata": {},
   "outputs": [],
   "source": [
    "# Topic: Basic ML\n",
    "from sklearn.linear_model import LinearRegression\n",
    "model = LinearRegression()\n",
    "print(model)"
   ]
  },
  {
   "cell_type": "code",
   "execution_count": null,
   "id": "5b6ecb09",
   "metadata": {},
   "outputs": [],
   "source": [
    "# Topic: Data Cleaning\n",
    "import pandas as pd\n",
    "df = pd.DataFrame({'A':[1,None,3]})\n",
    "df = df.fillna(0)\n",
    "print(df)"
   ]
  },
  {
   "cell_type": "code",
   "execution_count": null,
   "id": "2ff5ce19",
   "metadata": {},
   "outputs": [],
   "source": [
    "# Topic: Decorators\n",
    "def log(func):\n",
    " def wrapper():\n",
    "  print('Call')\n",
    "  func()\n",
    " return wrapper\n",
    "@log\n",
    "def say(): print('Hi')\n",
    "say()"
   ]
  },
  {
   "cell_type": "code",
   "execution_count": null,
   "id": "919bebae",
   "metadata": {},
   "outputs": [],
   "source": [
    "# Topic: OOP\n",
    "class Student:\n",
    "    def __init__(self, name): self.name = name\n",
    "s = Student('Fahd')\n",
    "print(s.name)"
   ]
  },
  {
   "cell_type": "code",
   "execution_count": null,
   "id": "3a22669c",
   "metadata": {},
   "outputs": [],
   "source": [
    "# Topic: Basic ML\n",
    "from sklearn.linear_model import LinearRegression\n",
    "model = LinearRegression()\n",
    "print(model)"
   ]
  },
  {
   "cell_type": "code",
   "execution_count": null,
   "id": "2007217d",
   "metadata": {},
   "outputs": [],
   "source": [
    "# Topic: Basic ML\n",
    "from sklearn.linear_model import LinearRegression\n",
    "model = LinearRegression()\n",
    "print(model)"
   ]
  },
  {
   "cell_type": "code",
   "execution_count": null,
   "id": "50cedcfd",
   "metadata": {},
   "outputs": [],
   "source": [
    "# Topic: JSON & CSV\n",
    "import csv\n",
    "with open('file.csv', 'w', newline='') as f:\n",
    " csv.writer(f).writerow(['a','b','c'])"
   ]
  },
  {
   "cell_type": "code",
   "execution_count": null,
   "id": "18423422",
   "metadata": {},
   "outputs": [],
   "source": [
    "# Topic: Lists & Tuples\n",
    "lst = [1, 2, 3]\n",
    "lst.append(4)\n",
    "print(lst)"
   ]
  },
  {
   "cell_type": "code",
   "execution_count": null,
   "id": "8f73d8fc",
   "metadata": {},
   "outputs": [],
   "source": [
    "# Topic: Decorators\n",
    "def log(func):\n",
    " def wrapper():\n",
    "  print('Call')\n",
    "  func()\n",
    " return wrapper\n",
    "@log\n",
    "def say(): print('Hi')\n",
    "say()"
   ]
  },
  {
   "cell_type": "code",
   "execution_count": null,
   "id": "53e04541",
   "metadata": {},
   "outputs": [],
   "source": [
    "# Topic: Functions\n",
    "def square(x): return x*x\n",
    "print(square(5))"
   ]
  },
  {
   "cell_type": "code",
   "execution_count": null,
   "id": "42dfe7c5",
   "metadata": {},
   "outputs": [],
   "source": [
    "# Topic: Mini Projects\n",
    "# Palindrome check\n",
    "def is_pal(s): return s == s[::-1]\n",
    "print(is_pal('madam'))"
   ]
  },
  {
   "cell_type": "code",
   "execution_count": null,
   "id": "afb97eb8",
   "metadata": {},
   "outputs": [],
   "source": [
    "# Topic: Web Scraping\n",
    "import requests\n",
    "from bs4 import BeautifulSoup\n",
    "r = requests.get('https://example.com')\n",
    "soup = BeautifulSoup(r.text, 'html.parser')\n",
    "print(soup.title.text)"
   ]
  },
  {
   "cell_type": "code",
   "execution_count": null,
   "id": "9f257ca9",
   "metadata": {},
   "outputs": [],
   "source": [
    "# Topic: File I/O\n",
    "with open('test.txt', 'w') as f:\n",
    "    f.write('Hello World')"
   ]
  },
  {
   "cell_type": "code",
   "execution_count": null,
   "id": "626c8895",
   "metadata": {},
   "outputs": [],
   "source": [
    "# Topic: File I/O\n",
    "with open('test.txt', 'w') as f:\n",
    "    f.write('Hello World')"
   ]
  },
  {
   "cell_type": "code",
   "execution_count": null,
   "id": "ffa15bd1",
   "metadata": {},
   "outputs": [],
   "source": [
    "# Topic: Decorators\n",
    "def log(func):\n",
    " def wrapper():\n",
    "  print('Call')\n",
    "  func()\n",
    " return wrapper\n",
    "@log\n",
    "def say(): print('Hi')\n",
    "say()"
   ]
  },
  {
   "cell_type": "code",
   "execution_count": null,
   "id": "41726188",
   "metadata": {},
   "outputs": [],
   "source": [
    "# Topic: Basic ML\n",
    "from sklearn.linear_model import LinearRegression\n",
    "model = LinearRegression()\n",
    "print(model)"
   ]
  },
  {
   "cell_type": "code",
   "execution_count": null,
   "id": "0b79fd3d",
   "metadata": {},
   "outputs": [],
   "source": [
    "# Topic: Mini Projects\n",
    "# Palindrome check\n",
    "def is_pal(s): return s == s[::-1]\n",
    "print(is_pal('madam'))"
   ]
  },
  {
   "cell_type": "code",
   "execution_count": null,
   "id": "ebaa1ebf",
   "metadata": {},
   "outputs": [],
   "source": [
    "# Topic: Basics\n",
    "name = 'Fahd'\n",
    "print(f'Hello, {name}')"
   ]
  },
  {
   "cell_type": "code",
   "execution_count": null,
   "id": "38a111dc",
   "metadata": {},
   "outputs": [],
   "source": [
    "# Topic: Decorators\n",
    "def log(func):\n",
    " def wrapper():\n",
    "  print('Call')\n",
    "  func()\n",
    " return wrapper\n",
    "@log\n",
    "def say(): print('Hi')\n",
    "say()"
   ]
  },
  {
   "cell_type": "code",
   "execution_count": null,
   "id": "460b6049",
   "metadata": {},
   "outputs": [],
   "source": [
    "# Topic: Web Scraping\n",
    "import requests\n",
    "from bs4 import BeautifulSoup\n",
    "r = requests.get('https://example.com')\n",
    "soup = BeautifulSoup(r.text, 'html.parser')\n",
    "print(soup.title.text)"
   ]
  },
  {
   "cell_type": "code",
   "execution_count": null,
   "id": "a0ece467",
   "metadata": {},
   "outputs": [],
   "source": [
    "# Topic: JSON & CSV\n",
    "import json\n",
    "data = {'a': 1}\n",
    "print(json.dumps(data))"
   ]
  },
  {
   "cell_type": "code",
   "execution_count": null,
   "id": "12639b1d",
   "metadata": {},
   "outputs": [],
   "source": [
    "# Topic: Loops\n",
    "for i in range(10): print(i*i)"
   ]
  },
  {
   "cell_type": "code",
   "execution_count": null,
   "id": "0d9687a4",
   "metadata": {},
   "outputs": [],
   "source": [
    "# Topic: JSON & CSV\n",
    "import json\n",
    "data = {'a': 1}\n",
    "print(json.dumps(data))"
   ]
  },
  {
   "cell_type": "code",
   "execution_count": null,
   "id": "bb1a2e37",
   "metadata": {},
   "outputs": [],
   "source": [
    "# Topic: Mini Projects\n",
    "# Palindrome check\n",
    "def is_pal(s): return s == s[::-1]\n",
    "print(is_pal('madam'))"
   ]
  },
  {
   "cell_type": "code",
   "execution_count": null,
   "id": "d777766d",
   "metadata": {},
   "outputs": [],
   "source": [
    "# Topic: Functions\n",
    "def greet(name='User'):\n",
    "    print(f'Hi, {name}')\n",
    "greet()"
   ]
  },
  {
   "cell_type": "code",
   "execution_count": null,
   "id": "4c4155cc",
   "metadata": {},
   "outputs": [],
   "source": [
    "# Topic: Web Scraping\n",
    "import requests\n",
    "from bs4 import BeautifulSoup\n",
    "r = requests.get('https://example.com')\n",
    "soup = BeautifulSoup(r.text, 'html.parser')\n",
    "print(soup.title.text)"
   ]
  },
  {
   "cell_type": "code",
   "execution_count": null,
   "id": "133ae7a1",
   "metadata": {},
   "outputs": [],
   "source": [
    "# Topic: Loops\n",
    "while True:\n",
    "    print('Break')\n",
    "    break"
   ]
  },
  {
   "cell_type": "code",
   "execution_count": null,
   "id": "7c97d286",
   "metadata": {},
   "outputs": [],
   "source": [
    "# Topic: NumPy\n",
    "import numpy as np\n",
    "print(np.linspace(0, 1, 5))"
   ]
  },
  {
   "cell_type": "code",
   "execution_count": null,
   "id": "77bb741a",
   "metadata": {},
   "outputs": [],
   "source": [
    "# Topic: Recursion\n",
    "def fact(n): return 1 if n==0 else n*fact(n-1)\n",
    "print(fact(5))"
   ]
  },
  {
   "cell_type": "code",
   "execution_count": null,
   "id": "622e3a0e",
   "metadata": {},
   "outputs": [],
   "source": [
    "# Topic: Decorators\n",
    "def log(func):\n",
    " def wrapper():\n",
    "  print('Call')\n",
    "  func()\n",
    " return wrapper\n",
    "@log\n",
    "def say(): print('Hi')\n",
    "say()"
   ]
  },
  {
   "cell_type": "code",
   "execution_count": null,
   "id": "a4d4505f",
   "metadata": {},
   "outputs": [],
   "source": [
    "# Topic: JSON & CSV\n",
    "import json\n",
    "data = {'a': 1}\n",
    "print(json.dumps(data))"
   ]
  },
  {
   "cell_type": "code",
   "execution_count": null,
   "id": "6876eb4b",
   "metadata": {},
   "outputs": [],
   "source": [
    "# Topic: Loops\n",
    "while True:\n",
    "    print('Break')\n",
    "    break"
   ]
  },
  {
   "cell_type": "code",
   "execution_count": null,
   "id": "9e908144",
   "metadata": {},
   "outputs": [],
   "source": [
    "# Topic: NumPy\n",
    "import numpy as np\n",
    "a = np.array([1, 2, 3])\n",
    "print(a + 5)"
   ]
  },
  {
   "cell_type": "code",
   "execution_count": null,
   "id": "d02bd013",
   "metadata": {},
   "outputs": [],
   "source": [
    "# Topic: Dictionaries & Sets\n",
    "s = set([1, 2, 3, 2])\n",
    "print(s)"
   ]
  },
  {
   "cell_type": "code",
   "execution_count": null,
   "id": "f3ecde13",
   "metadata": {},
   "outputs": [],
   "source": [
    "# Topic: Pandas\n",
    "import pandas as pd\n",
    "df = pd.DataFrame({'A':[1,2],'B':[3,4]})\n",
    "print(df)"
   ]
  },
  {
   "cell_type": "code",
   "execution_count": null,
   "id": "7a6bcd9f",
   "metadata": {},
   "outputs": [],
   "source": [
    "# Topic: Decorators\n",
    "def log(func):\n",
    " def wrapper():\n",
    "  print('Call')\n",
    "  func()\n",
    " return wrapper\n",
    "@log\n",
    "def say(): print('Hi')\n",
    "say()"
   ]
  },
  {
   "cell_type": "code",
   "execution_count": null,
   "id": "2d6d277e",
   "metadata": {},
   "outputs": [],
   "source": [
    "# Topic: Basics\n",
    "name = 'Fahd'\n",
    "print(f'Hello, {name}')"
   ]
  },
  {
   "cell_type": "code",
   "execution_count": null,
   "id": "45952481",
   "metadata": {},
   "outputs": [],
   "source": [
    "# Topic: Lists & Tuples\n",
    "t = (1, 2, 3)\n",
    "print(t[0])"
   ]
  },
  {
   "cell_type": "code",
   "execution_count": null,
   "id": "7a33c9a6",
   "metadata": {},
   "outputs": [],
   "source": [
    "# Topic: Regex\n",
    "import re\n",
    "text = 'email: test@example.com'\n",
    "print(re.findall(r'\\S+@\\S+', text))"
   ]
  },
  {
   "cell_type": "code",
   "execution_count": null,
   "id": "82af1779",
   "metadata": {},
   "outputs": [],
   "source": [
    "# Topic: NumPy\n",
    "import numpy as np\n",
    "print(np.linspace(0, 1, 5))"
   ]
  },
  {
   "cell_type": "code",
   "execution_count": null,
   "id": "e1c8376f",
   "metadata": {},
   "outputs": [],
   "source": [
    "# Topic: Mini Projects\n",
    "# Calculator\n",
    "def calc(a,b,op): return eval(f'{a}{op}{b}')\n",
    "print(calc(5,2,'+'))"
   ]
  },
  {
   "cell_type": "code",
   "execution_count": null,
   "id": "a5b1501a",
   "metadata": {},
   "outputs": [],
   "source": [
    "# Topic: Basic ML\n",
    "from sklearn.linear_model import LinearRegression\n",
    "model = LinearRegression()\n",
    "print(model)"
   ]
  },
  {
   "cell_type": "code",
   "execution_count": null,
   "id": "0097bb1c",
   "metadata": {},
   "outputs": [],
   "source": [
    "# Topic: Lists & Tuples\n",
    "lst = [1, 2, 3]\n",
    "lst.append(4)\n",
    "print(lst)"
   ]
  },
  {
   "cell_type": "code",
   "execution_count": null,
   "id": "cb699973",
   "metadata": {},
   "outputs": [],
   "source": [
    "# Topic: Lists & Tuples\n",
    "lst = [1, 2, 3]\n",
    "lst.append(4)\n",
    "print(lst)"
   ]
  },
  {
   "cell_type": "code",
   "execution_count": null,
   "id": "6fbcf462",
   "metadata": {},
   "outputs": [],
   "source": [
    "# Topic: Data Cleaning\n",
    "import pandas as pd\n",
    "df = pd.DataFrame({'A':[1,None,3]})\n",
    "df = df.fillna(0)\n",
    "print(df)"
   ]
  },
  {
   "cell_type": "code",
   "execution_count": null,
   "id": "bfa09b04",
   "metadata": {},
   "outputs": [],
   "source": [
    "# Topic: OOP\n",
    "class Student:\n",
    "    def __init__(self, name): self.name = name\n",
    "s = Student('Fahd')\n",
    "print(s.name)"
   ]
  },
  {
   "cell_type": "code",
   "execution_count": null,
   "id": "8d950753",
   "metadata": {},
   "outputs": [],
   "source": [
    "# Topic: Sorting Algorithms\n",
    "def bubble_sort(arr):\n",
    " for i in range(len(arr)):\n",
    "  for j in range(0, len(arr)-i-1):\n",
    "   if arr[j]>arr[j+1]: arr[j], arr[j+1]=arr[j+1], arr[j]\n",
    "a = [5,3,8,6]\n",
    "bubble_sort(a)\n",
    "print(a)"
   ]
  },
  {
   "cell_type": "code",
   "execution_count": null,
   "id": "6af3af9c",
   "metadata": {},
   "outputs": [],
   "source": [
    "# Topic: File I/O\n",
    "with open('test.txt', 'w') as f:\n",
    "    f.write('Hello World')"
   ]
  },
  {
   "cell_type": "code",
   "execution_count": null,
   "id": "586ed213",
   "metadata": {},
   "outputs": [],
   "source": [
    "# Topic: Decorators\n",
    "def log(func):\n",
    " def wrapper():\n",
    "  print('Call')\n",
    "  func()\n",
    " return wrapper\n",
    "@log\n",
    "def say(): print('Hi')\n",
    "say()"
   ]
  },
  {
   "cell_type": "code",
   "execution_count": null,
   "id": "eebc191e",
   "metadata": {},
   "outputs": [],
   "source": [
    "# Topic: Lists & Tuples\n",
    "lst = [1, 2, 3]\n",
    "lst.append(4)\n",
    "print(lst)"
   ]
  },
  {
   "cell_type": "code",
   "execution_count": null,
   "id": "7ee6f08c",
   "metadata": {},
   "outputs": [],
   "source": [
    "# Topic: Data Cleaning\n",
    "import pandas as pd\n",
    "df = pd.DataFrame({'A':[1,None,3]})\n",
    "df = df.fillna(0)\n",
    "print(df)"
   ]
  },
  {
   "cell_type": "code",
   "execution_count": null,
   "id": "0e230fca",
   "metadata": {},
   "outputs": [],
   "source": [
    "# Topic: Functions\n",
    "def square(x): return x*x\n",
    "print(square(5))"
   ]
  },
  {
   "cell_type": "code",
   "execution_count": null,
   "id": "5a1dc892",
   "metadata": {},
   "outputs": [],
   "source": [
    "# Topic: Basic ML\n",
    "from sklearn.linear_model import LinearRegression\n",
    "model = LinearRegression()\n",
    "print(model)"
   ]
  },
  {
   "cell_type": "code",
   "execution_count": null,
   "id": "042f40c9",
   "metadata": {},
   "outputs": [],
   "source": [
    "# Topic: Regex\n",
    "import re\n",
    "text = 'email: test@example.com'\n",
    "print(re.findall(r'\\S+@\\S+', text))"
   ]
  },
  {
   "cell_type": "code",
   "execution_count": null,
   "id": "21092e65",
   "metadata": {},
   "outputs": [],
   "source": [
    "# Topic: NumPy\n",
    "import numpy as np\n",
    "print(np.linspace(0, 1, 5))"
   ]
  },
  {
   "cell_type": "code",
   "execution_count": null,
   "id": "2d480605",
   "metadata": {},
   "outputs": [],
   "source": [
    "# Topic: Decorators\n",
    "def log(func):\n",
    " def wrapper():\n",
    "  print('Call')\n",
    "  func()\n",
    " return wrapper\n",
    "@log\n",
    "def say(): print('Hi')\n",
    "say()"
   ]
  },
  {
   "cell_type": "code",
   "execution_count": null,
   "id": "24668a54",
   "metadata": {},
   "outputs": [],
   "source": [
    "# Topic: Recursion\n",
    "def fact(n): return 1 if n==0 else n*fact(n-1)\n",
    "print(fact(5))"
   ]
  },
  {
   "cell_type": "code",
   "execution_count": null,
   "id": "c3aadc03",
   "metadata": {},
   "outputs": [],
   "source": [
    "# Topic: Web Scraping\n",
    "import requests\n",
    "from bs4 import BeautifulSoup\n",
    "r = requests.get('https://example.com')\n",
    "soup = BeautifulSoup(r.text, 'html.parser')\n",
    "print(soup.title.text)"
   ]
  },
  {
   "cell_type": "code",
   "execution_count": null,
   "id": "d38e7e8b",
   "metadata": {},
   "outputs": [],
   "source": [
    "# Topic: Pandas\n",
    "import pandas as pd\n",
    "df = pd.DataFrame({'A':[1,2],'B':[3,4]})\n",
    "print(df)"
   ]
  },
  {
   "cell_type": "code",
   "execution_count": null,
   "id": "6efdd7c4",
   "metadata": {},
   "outputs": [],
   "source": [
    "# Topic: File I/O\n",
    "with open('test.txt', 'r') as f:\n",
    "    print(f.read())"
   ]
  },
  {
   "cell_type": "code",
   "execution_count": null,
   "id": "4ee4560f",
   "metadata": {},
   "outputs": [],
   "source": [
    "# Topic: Sorting Algorithms\n",
    "def bubble_sort(arr):\n",
    " for i in range(len(arr)):\n",
    "  for j in range(0, len(arr)-i-1):\n",
    "   if arr[j]>arr[j+1]: arr[j], arr[j+1]=arr[j+1], arr[j]\n",
    "a = [5,3,8,6]\n",
    "bubble_sort(a)\n",
    "print(a)"
   ]
  },
  {
   "cell_type": "code",
   "execution_count": null,
   "id": "749ea22f",
   "metadata": {},
   "outputs": [],
   "source": [
    "# Topic: Basic ML\n",
    "from sklearn.linear_model import LinearRegression\n",
    "model = LinearRegression()\n",
    "print(model)"
   ]
  },
  {
   "cell_type": "code",
   "execution_count": null,
   "id": "4ef57b13",
   "metadata": {},
   "outputs": [],
   "source": [
    "# Topic: File I/O\n",
    "with open('test.txt', 'w') as f:\n",
    "    f.write('Hello World')"
   ]
  },
  {
   "cell_type": "code",
   "execution_count": null,
   "id": "2d1ca20b",
   "metadata": {},
   "outputs": [],
   "source": [
    "# Topic: File I/O\n",
    "with open('test.txt', 'r') as f:\n",
    "    print(f.read())"
   ]
  },
  {
   "cell_type": "code",
   "execution_count": null,
   "id": "19ba13ed",
   "metadata": {},
   "outputs": [],
   "source": [
    "# Topic: Mini Projects\n",
    "# Calculator\n",
    "def calc(a,b,op): return eval(f'{a}{op}{b}')\n",
    "print(calc(5,2,'+'))"
   ]
  },
  {
   "cell_type": "code",
   "execution_count": null,
   "id": "8db40aac",
   "metadata": {},
   "outputs": [],
   "source": [
    "# Topic: Loops\n",
    "while True:\n",
    "    print('Break')\n",
    "    break"
   ]
  },
  {
   "cell_type": "code",
   "execution_count": null,
   "id": "7fe7f75f",
   "metadata": {},
   "outputs": [],
   "source": [
    "# Topic: Basic ML\n",
    "from sklearn.linear_model import LinearRegression\n",
    "model = LinearRegression()\n",
    "print(model)"
   ]
  },
  {
   "cell_type": "code",
   "execution_count": null,
   "id": "1fa99140",
   "metadata": {},
   "outputs": [],
   "source": [
    "# Topic: NumPy\n",
    "import numpy as np\n",
    "print(np.linspace(0, 1, 5))"
   ]
  },
  {
   "cell_type": "code",
   "execution_count": null,
   "id": "26dcfef6",
   "metadata": {},
   "outputs": [],
   "source": [
    "# Topic: Mini Projects\n",
    "# Calculator\n",
    "def calc(a,b,op): return eval(f'{a}{op}{b}')\n",
    "print(calc(5,2,'+'))"
   ]
  },
  {
   "cell_type": "code",
   "execution_count": null,
   "id": "36b64a21",
   "metadata": {},
   "outputs": [],
   "source": [
    "# Topic: Dictionaries & Sets\n",
    "d = {'name': 'Fahd', 'age': 20}\n",
    "print(d.get('name'))"
   ]
  },
  {
   "cell_type": "code",
   "execution_count": null,
   "id": "e75d07f3",
   "metadata": {},
   "outputs": [],
   "source": [
    "# Topic: OOP\n",
    "class Student:\n",
    "    def __init__(self, name): self.name = name\n",
    "s = Student('Fahd')\n",
    "print(s.name)"
   ]
  },
  {
   "cell_type": "code",
   "execution_count": null,
   "id": "74cfa2d0",
   "metadata": {},
   "outputs": [],
   "source": [
    "# Topic: JSON & CSV\n",
    "import csv\n",
    "with open('file.csv', 'w', newline='') as f:\n",
    " csv.writer(f).writerow(['a','b','c'])"
   ]
  },
  {
   "cell_type": "code",
   "execution_count": null,
   "id": "1fd479fa",
   "metadata": {},
   "outputs": [],
   "source": [
    "# Topic: JSON & CSV\n",
    "import csv\n",
    "with open('file.csv', 'w', newline='') as f:\n",
    " csv.writer(f).writerow(['a','b','c'])"
   ]
  },
  {
   "cell_type": "code",
   "execution_count": null,
   "id": "4e5bc9c7",
   "metadata": {},
   "outputs": [],
   "source": [
    "# Topic: Recursion\n",
    "def fact(n): return 1 if n==0 else n*fact(n-1)\n",
    "print(fact(5))"
   ]
  },
  {
   "cell_type": "code",
   "execution_count": null,
   "id": "f00a7378",
   "metadata": {},
   "outputs": [],
   "source": [
    "# Topic: Mini Projects\n",
    "# Palindrome check\n",
    "def is_pal(s): return s == s[::-1]\n",
    "print(is_pal('madam'))"
   ]
  },
  {
   "cell_type": "code",
   "execution_count": null,
   "id": "e2915484",
   "metadata": {},
   "outputs": [],
   "source": [
    "# Topic: Mini Projects\n",
    "# Palindrome check\n",
    "def is_pal(s): return s == s[::-1]\n",
    "print(is_pal('madam'))"
   ]
  },
  {
   "cell_type": "code",
   "execution_count": null,
   "id": "2af9bb86",
   "metadata": {},
   "outputs": [],
   "source": [
    "# Topic: Basic ML\n",
    "from sklearn.linear_model import LinearRegression\n",
    "model = LinearRegression()\n",
    "print(model)"
   ]
  },
  {
   "cell_type": "code",
   "execution_count": null,
   "id": "d62bf8e6",
   "metadata": {},
   "outputs": [],
   "source": [
    "# Topic: OOP\n",
    "class Student:\n",
    "    def __init__(self, name): self.name = name\n",
    "s = Student('Fahd')\n",
    "print(s.name)"
   ]
  },
  {
   "cell_type": "code",
   "execution_count": null,
   "id": "23eabf4c",
   "metadata": {},
   "outputs": [],
   "source": [
    "# Topic: Recursion\n",
    "def fact(n): return 1 if n==0 else n*fact(n-1)\n",
    "print(fact(5))"
   ]
  },
  {
   "cell_type": "code",
   "execution_count": null,
   "id": "7aaddfbc",
   "metadata": {},
   "outputs": [],
   "source": [
    "# Topic: File I/O\n",
    "with open('test.txt', 'r') as f:\n",
    "    print(f.read())"
   ]
  },
  {
   "cell_type": "code",
   "execution_count": null,
   "id": "5f9d9053",
   "metadata": {},
   "outputs": [],
   "source": [
    "# Topic: Data Cleaning\n",
    "import pandas as pd\n",
    "df = pd.DataFrame({'A':[1,None,3]})\n",
    "df = df.fillna(0)\n",
    "print(df)"
   ]
  },
  {
   "cell_type": "code",
   "execution_count": null,
   "id": "a5adcb6e",
   "metadata": {},
   "outputs": [],
   "source": [
    "# Topic: Regex\n",
    "import re\n",
    "text = 'email: test@example.com'\n",
    "print(re.findall(r'\\S+@\\S+', text))"
   ]
  },
  {
   "cell_type": "code",
   "execution_count": null,
   "id": "1d03a335",
   "metadata": {},
   "outputs": [],
   "source": [
    "# Topic: OOP\n",
    "class Student:\n",
    "    def __init__(self, name): self.name = name\n",
    "s = Student('Fahd')\n",
    "print(s.name)"
   ]
  },
  {
   "cell_type": "code",
   "execution_count": null,
   "id": "b727ed34",
   "metadata": {},
   "outputs": [],
   "source": [
    "# Topic: Regex\n",
    "import re\n",
    "text = 'email: test@example.com'\n",
    "print(re.findall(r'\\S+@\\S+', text))"
   ]
  },
  {
   "cell_type": "code",
   "execution_count": null,
   "id": "f2c28f37",
   "metadata": {},
   "outputs": [],
   "source": [
    "# Topic: Decorators\n",
    "def log(func):\n",
    " def wrapper():\n",
    "  print('Call')\n",
    "  func()\n",
    " return wrapper\n",
    "@log\n",
    "def say(): print('Hi')\n",
    "say()"
   ]
  },
  {
   "cell_type": "code",
   "execution_count": null,
   "id": "0582d4e5",
   "metadata": {},
   "outputs": [],
   "source": [
    "# Topic: Recursion\n",
    "def fact(n): return 1 if n==0 else n*fact(n-1)\n",
    "print(fact(5))"
   ]
  },
  {
   "cell_type": "code",
   "execution_count": null,
   "id": "a41a4534",
   "metadata": {},
   "outputs": [],
   "source": [
    "# Topic: Functions\n",
    "def greet(name='User'):\n",
    "    print(f'Hi, {name}')\n",
    "greet()"
   ]
  },
  {
   "cell_type": "code",
   "execution_count": null,
   "id": "476fb56e",
   "metadata": {},
   "outputs": [],
   "source": [
    "# Topic: Lists & Tuples\n",
    "lst = [1, 2, 3]\n",
    "lst.append(4)\n",
    "print(lst)"
   ]
  },
  {
   "cell_type": "code",
   "execution_count": null,
   "id": "b8c6a5fa",
   "metadata": {},
   "outputs": [],
   "source": [
    "# Topic: Recursion\n",
    "def fact(n): return 1 if n==0 else n*fact(n-1)\n",
    "print(fact(5))"
   ]
  },
  {
   "cell_type": "code",
   "execution_count": null,
   "id": "491daea4",
   "metadata": {},
   "outputs": [],
   "source": [
    "# Topic: Web Scraping\n",
    "import requests\n",
    "from bs4 import BeautifulSoup\n",
    "r = requests.get('https://example.com')\n",
    "soup = BeautifulSoup(r.text, 'html.parser')\n",
    "print(soup.title.text)"
   ]
  },
  {
   "cell_type": "code",
   "execution_count": null,
   "id": "fc9c4efa",
   "metadata": {},
   "outputs": [],
   "source": [
    "# Topic: Regex\n",
    "import re\n",
    "text = 'email: test@example.com'\n",
    "print(re.findall(r'\\S+@\\S+', text))"
   ]
  },
  {
   "cell_type": "code",
   "execution_count": null,
   "id": "236a6660",
   "metadata": {},
   "outputs": [],
   "source": [
    "# Topic: Matplotlib & Seaborn\n",
    "import seaborn as sns\n",
    "import pandas as pd\n",
    "sns.set()\n",
    "sns.histplot(pd.Series([1,2,2,3]));"
   ]
  },
  {
   "cell_type": "code",
   "execution_count": null,
   "id": "3e90f81d",
   "metadata": {},
   "outputs": [],
   "source": [
    "# Topic: Functions\n",
    "def square(x): return x*x\n",
    "print(square(5))"
   ]
  },
  {
   "cell_type": "code",
   "execution_count": null,
   "id": "d0b1dccc",
   "metadata": {},
   "outputs": [],
   "source": [
    "# Topic: OOP\n",
    "class Student:\n",
    "    def __init__(self, name): self.name = name\n",
    "s = Student('Fahd')\n",
    "print(s.name)"
   ]
  },
  {
   "cell_type": "code",
   "execution_count": null,
   "id": "c76fe9be",
   "metadata": {},
   "outputs": [],
   "source": [
    "# Topic: Basic ML\n",
    "from sklearn.linear_model import LinearRegression\n",
    "model = LinearRegression()\n",
    "print(model)"
   ]
  },
  {
   "cell_type": "code",
   "execution_count": null,
   "id": "c8677589",
   "metadata": {},
   "outputs": [],
   "source": [
    "# Topic: Functions\n",
    "def greet(name='User'):\n",
    "    print(f'Hi, {name}')\n",
    "greet()"
   ]
  },
  {
   "cell_type": "code",
   "execution_count": null,
   "id": "1e518c9c",
   "metadata": {},
   "outputs": [],
   "source": [
    "# Topic: Web Scraping\n",
    "import requests\n",
    "from bs4 import BeautifulSoup\n",
    "r = requests.get('https://example.com')\n",
    "soup = BeautifulSoup(r.text, 'html.parser')\n",
    "print(soup.title.text)"
   ]
  },
  {
   "cell_type": "code",
   "execution_count": null,
   "id": "c5d54a1f",
   "metadata": {},
   "outputs": [],
   "source": [
    "# Topic: NumPy\n",
    "import numpy as np\n",
    "a = np.array([1, 2, 3])\n",
    "print(a + 5)"
   ]
  },
  {
   "cell_type": "code",
   "execution_count": null,
   "id": "6f07a1c7",
   "metadata": {},
   "outputs": [],
   "source": [
    "# Topic: Functions\n",
    "def greet(name='User'):\n",
    "    print(f'Hi, {name}')\n",
    "greet()"
   ]
  },
  {
   "cell_type": "code",
   "execution_count": null,
   "id": "f0ab0ad2",
   "metadata": {},
   "outputs": [],
   "source": [
    "# Topic: Lists & Tuples\n",
    "lst = [1, 2, 3]\n",
    "lst.append(4)\n",
    "print(lst)"
   ]
  },
  {
   "cell_type": "code",
   "execution_count": null,
   "id": "15bf4039",
   "metadata": {},
   "outputs": [],
   "source": [
    "# Topic: Recursion\n",
    "def fact(n): return 1 if n==0 else n*fact(n-1)\n",
    "print(fact(5))"
   ]
  },
  {
   "cell_type": "code",
   "execution_count": null,
   "id": "99b6a2c7",
   "metadata": {},
   "outputs": [],
   "source": [
    "# Topic: Lists & Tuples\n",
    "lst = [1, 2, 3]\n",
    "lst.append(4)\n",
    "print(lst)"
   ]
  },
  {
   "cell_type": "code",
   "execution_count": null,
   "id": "8b0dd7b2",
   "metadata": {},
   "outputs": [],
   "source": [
    "# Topic: Dictionaries & Sets\n",
    "s = set([1, 2, 3, 2])\n",
    "print(s)"
   ]
  },
  {
   "cell_type": "code",
   "execution_count": null,
   "id": "83876dc8",
   "metadata": {},
   "outputs": [],
   "source": [
    "# Topic: Decorators\n",
    "def log(func):\n",
    " def wrapper():\n",
    "  print('Call')\n",
    "  func()\n",
    " return wrapper\n",
    "@log\n",
    "def say(): print('Hi')\n",
    "say()"
   ]
  },
  {
   "cell_type": "code",
   "execution_count": null,
   "id": "2d7b48a7",
   "metadata": {},
   "outputs": [],
   "source": [
    "# Topic: Matplotlib & Seaborn\n",
    "import seaborn as sns\n",
    "import pandas as pd\n",
    "sns.set()\n",
    "sns.histplot(pd.Series([1,2,2,3]));"
   ]
  },
  {
   "cell_type": "code",
   "execution_count": null,
   "id": "950fbdac",
   "metadata": {},
   "outputs": [],
   "source": [
    "# Topic: Sorting Algorithms\n",
    "def bubble_sort(arr):\n",
    " for i in range(len(arr)):\n",
    "  for j in range(0, len(arr)-i-1):\n",
    "   if arr[j]>arr[j+1]: arr[j], arr[j+1]=arr[j+1], arr[j]\n",
    "a = [5,3,8,6]\n",
    "bubble_sort(a)\n",
    "print(a)"
   ]
  },
  {
   "cell_type": "code",
   "execution_count": null,
   "id": "0dbee4c7",
   "metadata": {},
   "outputs": [],
   "source": [
    "# Topic: Decorators\n",
    "def log(func):\n",
    " def wrapper():\n",
    "  print('Call')\n",
    "  func()\n",
    " return wrapper\n",
    "@log\n",
    "def say(): print('Hi')\n",
    "say()"
   ]
  },
  {
   "cell_type": "code",
   "execution_count": null,
   "id": "30c9f38c",
   "metadata": {},
   "outputs": [],
   "source": [
    "# Topic: Basics\n",
    "name = 'Fahd'\n",
    "print(f'Hello, {name}')"
   ]
  },
  {
   "cell_type": "code",
   "execution_count": null,
   "id": "05dd4eb2",
   "metadata": {},
   "outputs": [],
   "source": [
    "# Topic: Decorators\n",
    "def log(func):\n",
    " def wrapper():\n",
    "  print('Call')\n",
    "  func()\n",
    " return wrapper\n",
    "@log\n",
    "def say(): print('Hi')\n",
    "say()"
   ]
  },
  {
   "cell_type": "code",
   "execution_count": null,
   "id": "97bf9003",
   "metadata": {},
   "outputs": [],
   "source": [
    "# Topic: File I/O\n",
    "with open('test.txt', 'w') as f:\n",
    "    f.write('Hello World')"
   ]
  },
  {
   "cell_type": "code",
   "execution_count": null,
   "id": "459164f5",
   "metadata": {},
   "outputs": [],
   "source": [
    "# Topic: Recursion\n",
    "def fact(n): return 1 if n==0 else n*fact(n-1)\n",
    "print(fact(5))"
   ]
  },
  {
   "cell_type": "code",
   "execution_count": null,
   "id": "7fd865bf",
   "metadata": {},
   "outputs": [],
   "source": [
    "# Topic: Pandas\n",
    "import pandas as pd\n",
    "df = pd.read_csv('file.csv')\n",
    "print(df.head())"
   ]
  },
  {
   "cell_type": "code",
   "execution_count": null,
   "id": "7566b0c0",
   "metadata": {},
   "outputs": [],
   "source": [
    "# Topic: Matplotlib & Seaborn\n",
    "import seaborn as sns\n",
    "import pandas as pd\n",
    "sns.set()\n",
    "sns.histplot(pd.Series([1,2,2,3]));"
   ]
  },
  {
   "cell_type": "code",
   "execution_count": null,
   "id": "5083156f",
   "metadata": {},
   "outputs": [],
   "source": [
    "# Topic: Data Cleaning\n",
    "import pandas as pd\n",
    "df = pd.DataFrame({'A':[1,None,3]})\n",
    "df = df.fillna(0)\n",
    "print(df)"
   ]
  },
  {
   "cell_type": "code",
   "execution_count": null,
   "id": "93780093",
   "metadata": {},
   "outputs": [],
   "source": [
    "# Topic: Lists & Tuples\n",
    "lst = [1, 2, 3]\n",
    "lst.append(4)\n",
    "print(lst)"
   ]
  },
  {
   "cell_type": "code",
   "execution_count": null,
   "id": "9a9c278b",
   "metadata": {},
   "outputs": [],
   "source": [
    "# Topic: Web Scraping\n",
    "import requests\n",
    "from bs4 import BeautifulSoup\n",
    "r = requests.get('https://example.com')\n",
    "soup = BeautifulSoup(r.text, 'html.parser')\n",
    "print(soup.title.text)"
   ]
  },
  {
   "cell_type": "code",
   "execution_count": null,
   "id": "4e67b98d",
   "metadata": {},
   "outputs": [],
   "source": [
    "# Topic: Data Cleaning\n",
    "import pandas as pd\n",
    "df = pd.DataFrame({'A':[1,None,3]})\n",
    "df = df.fillna(0)\n",
    "print(df)"
   ]
  },
  {
   "cell_type": "code",
   "execution_count": null,
   "id": "c8f9ec1a",
   "metadata": {},
   "outputs": [],
   "source": [
    "# Topic: Matplotlib & Seaborn\n",
    "import matplotlib.pyplot as plt\n",
    "plt.plot([1,2],[3,4])\n",
    "plt.show()"
   ]
  },
  {
   "cell_type": "code",
   "execution_count": null,
   "id": "de202456",
   "metadata": {},
   "outputs": [],
   "source": [
    "# Topic: Basic ML\n",
    "from sklearn.linear_model import LinearRegression\n",
    "model = LinearRegression()\n",
    "print(model)"
   ]
  },
  {
   "cell_type": "code",
   "execution_count": null,
   "id": "b9e3b5ab",
   "metadata": {},
   "outputs": [],
   "source": [
    "# Topic: Web Scraping\n",
    "import requests\n",
    "from bs4 import BeautifulSoup\n",
    "r = requests.get('https://example.com')\n",
    "soup = BeautifulSoup(r.text, 'html.parser')\n",
    "print(soup.title.text)"
   ]
  },
  {
   "cell_type": "code",
   "execution_count": null,
   "id": "c9f7152b",
   "metadata": {},
   "outputs": [],
   "source": [
    "# Topic: File I/O\n",
    "with open('test.txt', 'r') as f:\n",
    "    print(f.read())"
   ]
  },
  {
   "cell_type": "code",
   "execution_count": null,
   "id": "71489648",
   "metadata": {},
   "outputs": [],
   "source": [
    "# Topic: Data Cleaning\n",
    "import pandas as pd\n",
    "df = pd.DataFrame({'A':[1,None,3]})\n",
    "df = df.fillna(0)\n",
    "print(df)"
   ]
  },
  {
   "cell_type": "code",
   "execution_count": null,
   "id": "31a04333",
   "metadata": {},
   "outputs": [],
   "source": [
    "# Topic: Pandas\n",
    "import pandas as pd\n",
    "df = pd.read_csv('file.csv')\n",
    "print(df.head())"
   ]
  },
  {
   "cell_type": "code",
   "execution_count": null,
   "id": "599a9542",
   "metadata": {},
   "outputs": [],
   "source": [
    "# Topic: File I/O\n",
    "with open('test.txt', 'w') as f:\n",
    "    f.write('Hello World')"
   ]
  },
  {
   "cell_type": "code",
   "execution_count": null,
   "id": "7e169e2d",
   "metadata": {},
   "outputs": [],
   "source": [
    "# Topic: JSON & CSV\n",
    "import csv\n",
    "with open('file.csv', 'w', newline='') as f:\n",
    " csv.writer(f).writerow(['a','b','c'])"
   ]
  },
  {
   "cell_type": "code",
   "execution_count": null,
   "id": "95479cb2",
   "metadata": {},
   "outputs": [],
   "source": [
    "# Topic: Recursion\n",
    "def fact(n): return 1 if n==0 else n*fact(n-1)\n",
    "print(fact(5))"
   ]
  },
  {
   "cell_type": "code",
   "execution_count": null,
   "id": "3305fdc4",
   "metadata": {},
   "outputs": [],
   "source": [
    "# Topic: Data Cleaning\n",
    "import pandas as pd\n",
    "df = pd.DataFrame({'A':[1,None,3]})\n",
    "df = df.fillna(0)\n",
    "print(df)"
   ]
  },
  {
   "cell_type": "code",
   "execution_count": null,
   "id": "8a6daab1",
   "metadata": {},
   "outputs": [],
   "source": [
    "# Topic: Matplotlib & Seaborn\n",
    "import seaborn as sns\n",
    "import pandas as pd\n",
    "sns.set()\n",
    "sns.histplot(pd.Series([1,2,2,3]));"
   ]
  },
  {
   "cell_type": "code",
   "execution_count": null,
   "id": "866e1a01",
   "metadata": {},
   "outputs": [],
   "source": [
    "# Topic: JSON & CSV\n",
    "import csv\n",
    "with open('file.csv', 'w', newline='') as f:\n",
    " csv.writer(f).writerow(['a','b','c'])"
   ]
  },
  {
   "cell_type": "code",
   "execution_count": null,
   "id": "25a8db4c",
   "metadata": {},
   "outputs": [],
   "source": [
    "# Topic: Lists & Tuples\n",
    "lst = [1, 2, 3]\n",
    "lst.append(4)\n",
    "print(lst)"
   ]
  },
  {
   "cell_type": "code",
   "execution_count": null,
   "id": "8ffbf063",
   "metadata": {},
   "outputs": [],
   "source": [
    "# Topic: Web Scraping\n",
    "import requests\n",
    "from bs4 import BeautifulSoup\n",
    "r = requests.get('https://example.com')\n",
    "soup = BeautifulSoup(r.text, 'html.parser')\n",
    "print(soup.title.text)"
   ]
  },
  {
   "cell_type": "code",
   "execution_count": null,
   "id": "4560709e",
   "metadata": {},
   "outputs": [],
   "source": [
    "# Topic: Dictionaries & Sets\n",
    "d = {'name': 'Fahd', 'age': 20}\n",
    "print(d.get('name'))"
   ]
  },
  {
   "cell_type": "code",
   "execution_count": null,
   "id": "1bfc32a9",
   "metadata": {},
   "outputs": [],
   "source": [
    "# Topic: Lists & Tuples\n",
    "t = (1, 2, 3)\n",
    "print(t[0])"
   ]
  },
  {
   "cell_type": "code",
   "execution_count": null,
   "id": "22084a4d",
   "metadata": {},
   "outputs": [],
   "source": [
    "# Topic: Regex\n",
    "import re\n",
    "text = 'email: test@example.com'\n",
    "print(re.findall(r'\\S+@\\S+', text))"
   ]
  },
  {
   "cell_type": "code",
   "execution_count": null,
   "id": "72117eca",
   "metadata": {},
   "outputs": [],
   "source": [
    "# Topic: Functions\n",
    "def greet(name='User'):\n",
    "    print(f'Hi, {name}')\n",
    "greet()"
   ]
  },
  {
   "cell_type": "code",
   "execution_count": null,
   "id": "db00a596",
   "metadata": {},
   "outputs": [],
   "source": [
    "# Topic: Lists & Tuples\n",
    "t = (1, 2, 3)\n",
    "print(t[0])"
   ]
  },
  {
   "cell_type": "code",
   "execution_count": null,
   "id": "ddb9467b",
   "metadata": {},
   "outputs": [],
   "source": [
    "# Topic: Functions\n",
    "def square(x): return x*x\n",
    "print(square(5))"
   ]
  },
  {
   "cell_type": "code",
   "execution_count": null,
   "id": "81eecd29",
   "metadata": {},
   "outputs": [],
   "source": [
    "# Topic: Matplotlib & Seaborn\n",
    "import matplotlib.pyplot as plt\n",
    "plt.plot([1,2],[3,4])\n",
    "plt.show()"
   ]
  },
  {
   "cell_type": "code",
   "execution_count": null,
   "id": "bffd2eb9",
   "metadata": {},
   "outputs": [],
   "source": [
    "# Topic: Basics\n",
    "name = 'Fahd'\n",
    "print(f'Hello, {name}')"
   ]
  },
  {
   "cell_type": "code",
   "execution_count": null,
   "id": "916ef9db",
   "metadata": {},
   "outputs": [],
   "source": [
    "# Topic: Regex\n",
    "import re\n",
    "text = 'email: test@example.com'\n",
    "print(re.findall(r'\\S+@\\S+', text))"
   ]
  },
  {
   "cell_type": "code",
   "execution_count": null,
   "id": "bd1e6f59",
   "metadata": {},
   "outputs": [],
   "source": [
    "# Topic: Data Cleaning\n",
    "import pandas as pd\n",
    "df = pd.DataFrame({'A':[1,None,3]})\n",
    "df = df.fillna(0)\n",
    "print(df)"
   ]
  },
  {
   "cell_type": "code",
   "execution_count": null,
   "id": "7b8f3dc1",
   "metadata": {},
   "outputs": [],
   "source": [
    "# Topic: Loops\n",
    "for i in range(10): print(i*i)"
   ]
  },
  {
   "cell_type": "code",
   "execution_count": null,
   "id": "8f27682e",
   "metadata": {},
   "outputs": [],
   "source": [
    "# Topic: Decorators\n",
    "def log(func):\n",
    " def wrapper():\n",
    "  print('Call')\n",
    "  func()\n",
    " return wrapper\n",
    "@log\n",
    "def say(): print('Hi')\n",
    "say()"
   ]
  },
  {
   "cell_type": "code",
   "execution_count": null,
   "id": "1dfb573d",
   "metadata": {},
   "outputs": [],
   "source": [
    "# Topic: Basics\n",
    "name = 'Fahd'\n",
    "print(f'Hello, {name}')"
   ]
  },
  {
   "cell_type": "code",
   "execution_count": null,
   "id": "fa5f06bf",
   "metadata": {},
   "outputs": [],
   "source": [
    "# Topic: Basic ML\n",
    "from sklearn.linear_model import LinearRegression\n",
    "model = LinearRegression()\n",
    "print(model)"
   ]
  },
  {
   "cell_type": "code",
   "execution_count": null,
   "id": "d438b92e",
   "metadata": {},
   "outputs": [],
   "source": [
    "# Topic: Dictionaries & Sets\n",
    "d = {'name': 'Fahd', 'age': 20}\n",
    "print(d.get('name'))"
   ]
  },
  {
   "cell_type": "code",
   "execution_count": null,
   "id": "c41f0c81",
   "metadata": {},
   "outputs": [],
   "source": [
    "# Topic: OOP\n",
    "class Student:\n",
    "    def __init__(self, name): self.name = name\n",
    "s = Student('Fahd')\n",
    "print(s.name)"
   ]
  },
  {
   "cell_type": "code",
   "execution_count": null,
   "id": "c1467706",
   "metadata": {},
   "outputs": [],
   "source": [
    "# Topic: Loops\n",
    "for i in range(10): print(i*i)"
   ]
  },
  {
   "cell_type": "code",
   "execution_count": null,
   "id": "7290a94f",
   "metadata": {},
   "outputs": [],
   "source": [
    "# Topic: Dictionaries & Sets\n",
    "s = set([1, 2, 3, 2])\n",
    "print(s)"
   ]
  },
  {
   "cell_type": "code",
   "execution_count": null,
   "id": "88040b69",
   "metadata": {},
   "outputs": [],
   "source": [
    "# Topic: JSON & CSV\n",
    "import json\n",
    "data = {'a': 1}\n",
    "print(json.dumps(data))"
   ]
  },
  {
   "cell_type": "code",
   "execution_count": null,
   "id": "7408ee44",
   "metadata": {},
   "outputs": [],
   "source": [
    "# Topic: Data Cleaning\n",
    "import pandas as pd\n",
    "df = pd.DataFrame({'A':[1,None,3]})\n",
    "df = df.fillna(0)\n",
    "print(df)"
   ]
  },
  {
   "cell_type": "code",
   "execution_count": null,
   "id": "1ecfef61",
   "metadata": {},
   "outputs": [],
   "source": [
    "# Topic: Recursion\n",
    "def fact(n): return 1 if n==0 else n*fact(n-1)\n",
    "print(fact(5))"
   ]
  },
  {
   "cell_type": "code",
   "execution_count": null,
   "id": "4cb9bb27",
   "metadata": {},
   "outputs": [],
   "source": [
    "# Topic: Pandas\n",
    "import pandas as pd\n",
    "df = pd.DataFrame({'A':[1,2],'B':[3,4]})\n",
    "print(df)"
   ]
  },
  {
   "cell_type": "code",
   "execution_count": null,
   "id": "3c0d0697",
   "metadata": {},
   "outputs": [],
   "source": [
    "# Topic: File I/O\n",
    "with open('test.txt', 'w') as f:\n",
    "    f.write('Hello World')"
   ]
  },
  {
   "cell_type": "code",
   "execution_count": null,
   "id": "1559771d",
   "metadata": {},
   "outputs": [],
   "source": [
    "# Topic: OOP\n",
    "class Student:\n",
    "    def __init__(self, name): self.name = name\n",
    "s = Student('Fahd')\n",
    "print(s.name)"
   ]
  },
  {
   "cell_type": "code",
   "execution_count": null,
   "id": "76d7a5d3",
   "metadata": {},
   "outputs": [],
   "source": [
    "# Topic: Functions\n",
    "def square(x): return x*x\n",
    "print(square(5))"
   ]
  },
  {
   "cell_type": "code",
   "execution_count": null,
   "id": "440d9090",
   "metadata": {},
   "outputs": [],
   "source": [
    "# Topic: Sorting Algorithms\n",
    "def bubble_sort(arr):\n",
    " for i in range(len(arr)):\n",
    "  for j in range(0, len(arr)-i-1):\n",
    "   if arr[j]>arr[j+1]: arr[j], arr[j+1]=arr[j+1], arr[j]\n",
    "a = [5,3,8,6]\n",
    "bubble_sort(a)\n",
    "print(a)"
   ]
  },
  {
   "cell_type": "code",
   "execution_count": null,
   "id": "e53f080e",
   "metadata": {},
   "outputs": [],
   "source": [
    "# Topic: Loops\n",
    "while True:\n",
    "    print('Break')\n",
    "    break"
   ]
  },
  {
   "cell_type": "code",
   "execution_count": null,
   "id": "d4751d29",
   "metadata": {},
   "outputs": [],
   "source": [
    "# Topic: Basic ML\n",
    "from sklearn.linear_model import LinearRegression\n",
    "model = LinearRegression()\n",
    "print(model)"
   ]
  },
  {
   "cell_type": "code",
   "execution_count": null,
   "id": "2de76c26",
   "metadata": {},
   "outputs": [],
   "source": [
    "# Topic: Dictionaries & Sets\n",
    "d = {'name': 'Fahd', 'age': 20}\n",
    "print(d.get('name'))"
   ]
  },
  {
   "cell_type": "code",
   "execution_count": null,
   "id": "60be6ff2",
   "metadata": {},
   "outputs": [],
   "source": [
    "# Topic: Dictionaries & Sets\n",
    "d = {'name': 'Fahd', 'age': 20}\n",
    "print(d.get('name'))"
   ]
  },
  {
   "cell_type": "code",
   "execution_count": null,
   "id": "a6d05f19",
   "metadata": {},
   "outputs": [],
   "source": [
    "# Topic: Basics\n",
    "name = 'Fahd'\n",
    "print(f'Hello, {name}')"
   ]
  },
  {
   "cell_type": "code",
   "execution_count": null,
   "id": "3768206b",
   "metadata": {},
   "outputs": [],
   "source": [
    "# Topic: Regex\n",
    "import re\n",
    "text = 'email: test@example.com'\n",
    "print(re.findall(r'\\S+@\\S+', text))"
   ]
  },
  {
   "cell_type": "code",
   "execution_count": null,
   "id": "56e1e786",
   "metadata": {},
   "outputs": [],
   "source": [
    "# Topic: Mini Projects\n",
    "# Calculator\n",
    "def calc(a,b,op): return eval(f'{a}{op}{b}')\n",
    "print(calc(5,2,'+'))"
   ]
  },
  {
   "cell_type": "code",
   "execution_count": null,
   "id": "b544fed8",
   "metadata": {},
   "outputs": [],
   "source": [
    "# Topic: Pandas\n",
    "import pandas as pd\n",
    "df = pd.DataFrame({'A':[1,2],'B':[3,4]})\n",
    "print(df)"
   ]
  },
  {
   "cell_type": "code",
   "execution_count": null,
   "id": "3ceb044d",
   "metadata": {},
   "outputs": [],
   "source": [
    "# Topic: Mini Projects\n",
    "# Calculator\n",
    "def calc(a,b,op): return eval(f'{a}{op}{b}')\n",
    "print(calc(5,2,'+'))"
   ]
  },
  {
   "cell_type": "code",
   "execution_count": null,
   "id": "ae4fa06a",
   "metadata": {},
   "outputs": [],
   "source": [
    "# Topic: JSON & CSV\n",
    "import json\n",
    "data = {'a': 1}\n",
    "print(json.dumps(data))"
   ]
  },
  {
   "cell_type": "code",
   "execution_count": null,
   "id": "f2ccd4c0",
   "metadata": {},
   "outputs": [],
   "source": [
    "# Topic: OOP\n",
    "class Student:\n",
    "    def __init__(self, name): self.name = name\n",
    "s = Student('Fahd')\n",
    "print(s.name)"
   ]
  },
  {
   "cell_type": "code",
   "execution_count": null,
   "id": "198ae43d",
   "metadata": {},
   "outputs": [],
   "source": [
    "# Topic: Basic ML\n",
    "from sklearn.linear_model import LinearRegression\n",
    "model = LinearRegression()\n",
    "print(model)"
   ]
  },
  {
   "cell_type": "code",
   "execution_count": null,
   "id": "00c83ba2",
   "metadata": {},
   "outputs": [],
   "source": [
    "# Topic: Mini Projects\n",
    "# Calculator\n",
    "def calc(a,b,op): return eval(f'{a}{op}{b}')\n",
    "print(calc(5,2,'+'))"
   ]
  },
  {
   "cell_type": "code",
   "execution_count": null,
   "id": "e21fbeca",
   "metadata": {},
   "outputs": [],
   "source": [
    "# Topic: Matplotlib & Seaborn\n",
    "import matplotlib.pyplot as plt\n",
    "plt.plot([1,2],[3,4])\n",
    "plt.show()"
   ]
  },
  {
   "cell_type": "code",
   "execution_count": null,
   "id": "6ca699ab",
   "metadata": {},
   "outputs": [],
   "source": [
    "# Topic: Basic ML\n",
    "from sklearn.linear_model import LinearRegression\n",
    "model = LinearRegression()\n",
    "print(model)"
   ]
  },
  {
   "cell_type": "code",
   "execution_count": null,
   "id": "d4b510b7",
   "metadata": {},
   "outputs": [],
   "source": [
    "# Topic: OOP\n",
    "class Student:\n",
    "    def __init__(self, name): self.name = name\n",
    "s = Student('Fahd')\n",
    "print(s.name)"
   ]
  },
  {
   "cell_type": "code",
   "execution_count": null,
   "id": "a75fe3d9",
   "metadata": {},
   "outputs": [],
   "source": [
    "# Topic: Loops\n",
    "for i in range(10): print(i*i)"
   ]
  },
  {
   "cell_type": "code",
   "execution_count": null,
   "id": "f65c1f40",
   "metadata": {},
   "outputs": [],
   "source": [
    "# Topic: Sorting Algorithms\n",
    "def bubble_sort(arr):\n",
    " for i in range(len(arr)):\n",
    "  for j in range(0, len(arr)-i-1):\n",
    "   if arr[j]>arr[j+1]: arr[j], arr[j+1]=arr[j+1], arr[j]\n",
    "a = [5,3,8,6]\n",
    "bubble_sort(a)\n",
    "print(a)"
   ]
  },
  {
   "cell_type": "code",
   "execution_count": null,
   "id": "aa4249fd",
   "metadata": {},
   "outputs": [],
   "source": [
    "# Topic: Dictionaries & Sets\n",
    "d = {'name': 'Fahd', 'age': 20}\n",
    "print(d.get('name'))"
   ]
  },
  {
   "cell_type": "code",
   "execution_count": null,
   "id": "aa156310",
   "metadata": {},
   "outputs": [],
   "source": [
    "# Topic: JSON & CSV\n",
    "import csv\n",
    "with open('file.csv', 'w', newline='') as f:\n",
    " csv.writer(f).writerow(['a','b','c'])"
   ]
  },
  {
   "cell_type": "code",
   "execution_count": null,
   "id": "e71607cd",
   "metadata": {},
   "outputs": [],
   "source": [
    "# Topic: Basics\n",
    "name = 'Fahd'\n",
    "print(f'Hello, {name}')"
   ]
  },
  {
   "cell_type": "code",
   "execution_count": null,
   "id": "4f09cafc",
   "metadata": {},
   "outputs": [],
   "source": [
    "# Topic: Lists & Tuples\n",
    "t = (1, 2, 3)\n",
    "print(t[0])"
   ]
  },
  {
   "cell_type": "code",
   "execution_count": null,
   "id": "ded50c81",
   "metadata": {},
   "outputs": [],
   "source": [
    "# Topic: Loops\n",
    "for i in range(10): print(i*i)"
   ]
  },
  {
   "cell_type": "code",
   "execution_count": null,
   "id": "9159f343",
   "metadata": {},
   "outputs": [],
   "source": [
    "# Topic: Basic ML\n",
    "from sklearn.linear_model import LinearRegression\n",
    "model = LinearRegression()\n",
    "print(model)"
   ]
  },
  {
   "cell_type": "code",
   "execution_count": null,
   "id": "3f7d01cb",
   "metadata": {},
   "outputs": [],
   "source": [
    "# Topic: Web Scraping\n",
    "import requests\n",
    "from bs4 import BeautifulSoup\n",
    "r = requests.get('https://example.com')\n",
    "soup = BeautifulSoup(r.text, 'html.parser')\n",
    "print(soup.title.text)"
   ]
  },
  {
   "cell_type": "code",
   "execution_count": null,
   "id": "d1a98001",
   "metadata": {},
   "outputs": [],
   "source": [
    "# Topic: Sorting Algorithms\n",
    "def bubble_sort(arr):\n",
    " for i in range(len(arr)):\n",
    "  for j in range(0, len(arr)-i-1):\n",
    "   if arr[j]>arr[j+1]: arr[j], arr[j+1]=arr[j+1], arr[j]\n",
    "a = [5,3,8,6]\n",
    "bubble_sort(a)\n",
    "print(a)"
   ]
  },
  {
   "cell_type": "code",
   "execution_count": null,
   "id": "7d4f9533",
   "metadata": {},
   "outputs": [],
   "source": [
    "# Topic: OOP\n",
    "class Student:\n",
    "    def __init__(self, name): self.name = name\n",
    "s = Student('Fahd')\n",
    "print(s.name)"
   ]
  },
  {
   "cell_type": "code",
   "execution_count": null,
   "id": "471e92e3",
   "metadata": {},
   "outputs": [],
   "source": [
    "# Topic: Basics\n",
    "x = 10\n",
    "y = 20\n",
    "print(x + y)"
   ]
  },
  {
   "cell_type": "code",
   "execution_count": null,
   "id": "485277d9",
   "metadata": {},
   "outputs": [],
   "source": [
    "# Topic: Regex\n",
    "import re\n",
    "text = 'email: test@example.com'\n",
    "print(re.findall(r'\\S+@\\S+', text))"
   ]
  },
  {
   "cell_type": "code",
   "execution_count": null,
   "id": "666f6f98",
   "metadata": {},
   "outputs": [],
   "source": [
    "# Topic: NumPy\n",
    "import numpy as np\n",
    "a = np.array([1, 2, 3])\n",
    "print(a + 5)"
   ]
  },
  {
   "cell_type": "code",
   "execution_count": null,
   "id": "dfff0c17",
   "metadata": {},
   "outputs": [],
   "source": [
    "# Topic: Web Scraping\n",
    "import requests\n",
    "from bs4 import BeautifulSoup\n",
    "r = requests.get('https://example.com')\n",
    "soup = BeautifulSoup(r.text, 'html.parser')\n",
    "print(soup.title.text)"
   ]
  },
  {
   "cell_type": "code",
   "execution_count": null,
   "id": "7d2ba758",
   "metadata": {},
   "outputs": [],
   "source": [
    "# Topic: Decorators\n",
    "def log(func):\n",
    " def wrapper():\n",
    "  print('Call')\n",
    "  func()\n",
    " return wrapper\n",
    "@log\n",
    "def say(): print('Hi')\n",
    "say()"
   ]
  },
  {
   "cell_type": "code",
   "execution_count": null,
   "id": "52ba1f5d",
   "metadata": {},
   "outputs": [],
   "source": [
    "# Topic: Regex\n",
    "import re\n",
    "text = 'email: test@example.com'\n",
    "print(re.findall(r'\\S+@\\S+', text))"
   ]
  },
  {
   "cell_type": "code",
   "execution_count": null,
   "id": "8e0c43f6",
   "metadata": {},
   "outputs": [],
   "source": [
    "# Topic: Mini Projects\n",
    "# Palindrome check\n",
    "def is_pal(s): return s == s[::-1]\n",
    "print(is_pal('madam'))"
   ]
  },
  {
   "cell_type": "code",
   "execution_count": null,
   "id": "c3358ff6",
   "metadata": {},
   "outputs": [],
   "source": [
    "# Topic: Regex\n",
    "import re\n",
    "text = 'email: test@example.com'\n",
    "print(re.findall(r'\\S+@\\S+', text))"
   ]
  },
  {
   "cell_type": "code",
   "execution_count": null,
   "id": "82ea88f8",
   "metadata": {},
   "outputs": [],
   "source": [
    "# Topic: Recursion\n",
    "def fact(n): return 1 if n==0 else n*fact(n-1)\n",
    "print(fact(5))"
   ]
  },
  {
   "cell_type": "code",
   "execution_count": null,
   "id": "9a597c2f",
   "metadata": {},
   "outputs": [],
   "source": [
    "# Topic: File I/O\n",
    "with open('test.txt', 'r') as f:\n",
    "    print(f.read())"
   ]
  },
  {
   "cell_type": "code",
   "execution_count": null,
   "id": "9d007883",
   "metadata": {},
   "outputs": [],
   "source": [
    "# Topic: Basic ML\n",
    "from sklearn.linear_model import LinearRegression\n",
    "model = LinearRegression()\n",
    "print(model)"
   ]
  },
  {
   "cell_type": "code",
   "execution_count": null,
   "id": "31c86d21",
   "metadata": {},
   "outputs": [],
   "source": [
    "# Topic: Data Cleaning\n",
    "import pandas as pd\n",
    "df = pd.DataFrame({'A':[1,None,3]})\n",
    "df = df.fillna(0)\n",
    "print(df)"
   ]
  },
  {
   "cell_type": "code",
   "execution_count": null,
   "id": "47e343cf",
   "metadata": {},
   "outputs": [],
   "source": [
    "# Topic: Basic ML\n",
    "from sklearn.linear_model import LinearRegression\n",
    "model = LinearRegression()\n",
    "print(model)"
   ]
  },
  {
   "cell_type": "code",
   "execution_count": null,
   "id": "bf159f1d",
   "metadata": {},
   "outputs": [],
   "source": [
    "# Topic: Mini Projects\n",
    "# Palindrome check\n",
    "def is_pal(s): return s == s[::-1]\n",
    "print(is_pal('madam'))"
   ]
  },
  {
   "cell_type": "code",
   "execution_count": null,
   "id": "7df8e2c8",
   "metadata": {},
   "outputs": [],
   "source": [
    "# Topic: File I/O\n",
    "with open('test.txt', 'r') as f:\n",
    "    print(f.read())"
   ]
  },
  {
   "cell_type": "code",
   "execution_count": null,
   "id": "fee01e95",
   "metadata": {},
   "outputs": [],
   "source": [
    "# Topic: Lists & Tuples\n",
    "lst = [1, 2, 3]\n",
    "lst.append(4)\n",
    "print(lst)"
   ]
  },
  {
   "cell_type": "code",
   "execution_count": null,
   "id": "5ff2e5bd",
   "metadata": {},
   "outputs": [],
   "source": [
    "# Topic: Dictionaries & Sets\n",
    "s = set([1, 2, 3, 2])\n",
    "print(s)"
   ]
  },
  {
   "cell_type": "code",
   "execution_count": null,
   "id": "3ae1e6f7",
   "metadata": {},
   "outputs": [],
   "source": [
    "# Topic: Loops\n",
    "while True:\n",
    "    print('Break')\n",
    "    break"
   ]
  },
  {
   "cell_type": "code",
   "execution_count": null,
   "id": "ecab2553",
   "metadata": {},
   "outputs": [],
   "source": [
    "# Topic: Functions\n",
    "def square(x): return x*x\n",
    "print(square(5))"
   ]
  },
  {
   "cell_type": "code",
   "execution_count": null,
   "id": "39f7d4e1",
   "metadata": {},
   "outputs": [],
   "source": [
    "# Topic: Matplotlib & Seaborn\n",
    "import matplotlib.pyplot as plt\n",
    "plt.plot([1,2],[3,4])\n",
    "plt.show()"
   ]
  },
  {
   "cell_type": "code",
   "execution_count": null,
   "id": "5561d57a",
   "metadata": {},
   "outputs": [],
   "source": [
    "# Topic: Lists & Tuples\n",
    "t = (1, 2, 3)\n",
    "print(t[0])"
   ]
  },
  {
   "cell_type": "code",
   "execution_count": null,
   "id": "da6aad53",
   "metadata": {},
   "outputs": [],
   "source": [
    "# Topic: Data Cleaning\n",
    "import pandas as pd\n",
    "df = pd.DataFrame({'A':[1,None,3]})\n",
    "df = df.fillna(0)\n",
    "print(df)"
   ]
  },
  {
   "cell_type": "code",
   "execution_count": null,
   "id": "6492ddc7",
   "metadata": {},
   "outputs": [],
   "source": [
    "# Topic: Basics\n",
    "x = 10\n",
    "y = 20\n",
    "print(x + y)"
   ]
  },
  {
   "cell_type": "code",
   "execution_count": null,
   "id": "4e207f5c",
   "metadata": {},
   "outputs": [],
   "source": [
    "# Topic: Basics\n",
    "x = 10\n",
    "y = 20\n",
    "print(x + y)"
   ]
  },
  {
   "cell_type": "code",
   "execution_count": null,
   "id": "520b94ee",
   "metadata": {},
   "outputs": [],
   "source": [
    "# Topic: Basic ML\n",
    "from sklearn.linear_model import LinearRegression\n",
    "model = LinearRegression()\n",
    "print(model)"
   ]
  },
  {
   "cell_type": "code",
   "execution_count": null,
   "id": "994e398c",
   "metadata": {},
   "outputs": [],
   "source": [
    "# Topic: JSON & CSV\n",
    "import csv\n",
    "with open('file.csv', 'w', newline='') as f:\n",
    " csv.writer(f).writerow(['a','b','c'])"
   ]
  },
  {
   "cell_type": "code",
   "execution_count": null,
   "id": "37e51b0e",
   "metadata": {},
   "outputs": [],
   "source": [
    "# Topic: Mini Projects\n",
    "# Palindrome check\n",
    "def is_pal(s): return s == s[::-1]\n",
    "print(is_pal('madam'))"
   ]
  },
  {
   "cell_type": "code",
   "execution_count": null,
   "id": "ef5d58fe",
   "metadata": {},
   "outputs": [],
   "source": [
    "# Topic: Web Scraping\n",
    "import requests\n",
    "from bs4 import BeautifulSoup\n",
    "r = requests.get('https://example.com')\n",
    "soup = BeautifulSoup(r.text, 'html.parser')\n",
    "print(soup.title.text)"
   ]
  },
  {
   "cell_type": "code",
   "execution_count": null,
   "id": "97690249",
   "metadata": {},
   "outputs": [],
   "source": [
    "# Topic: Lists & Tuples\n",
    "t = (1, 2, 3)\n",
    "print(t[0])"
   ]
  },
  {
   "cell_type": "code",
   "execution_count": null,
   "id": "2b451df0",
   "metadata": {},
   "outputs": [],
   "source": [
    "# Topic: Pandas\n",
    "import pandas as pd\n",
    "df = pd.read_csv('file.csv')\n",
    "print(df.head())"
   ]
  },
  {
   "cell_type": "code",
   "execution_count": null,
   "id": "56461393",
   "metadata": {},
   "outputs": [],
   "source": [
    "# Topic: OOP\n",
    "class Student:\n",
    "    def __init__(self, name): self.name = name\n",
    "s = Student('Fahd')\n",
    "print(s.name)"
   ]
  },
  {
   "cell_type": "code",
   "execution_count": null,
   "id": "116b6a70",
   "metadata": {},
   "outputs": [],
   "source": [
    "# Topic: Matplotlib & Seaborn\n",
    "import seaborn as sns\n",
    "import pandas as pd\n",
    "sns.set()\n",
    "sns.histplot(pd.Series([1,2,2,3]));"
   ]
  },
  {
   "cell_type": "code",
   "execution_count": null,
   "id": "2c7735d8",
   "metadata": {},
   "outputs": [],
   "source": [
    "# Topic: JSON & CSV\n",
    "import json\n",
    "data = {'a': 1}\n",
    "print(json.dumps(data))"
   ]
  },
  {
   "cell_type": "code",
   "execution_count": null,
   "id": "14181dd2",
   "metadata": {},
   "outputs": [],
   "source": [
    "# Topic: Pandas\n",
    "import pandas as pd\n",
    "df = pd.read_csv('file.csv')\n",
    "print(df.head())"
   ]
  },
  {
   "cell_type": "code",
   "execution_count": null,
   "id": "85be6770",
   "metadata": {},
   "outputs": [],
   "source": [
    "# Topic: Web Scraping\n",
    "import requests\n",
    "from bs4 import BeautifulSoup\n",
    "r = requests.get('https://example.com')\n",
    "soup = BeautifulSoup(r.text, 'html.parser')\n",
    "print(soup.title.text)"
   ]
  },
  {
   "cell_type": "code",
   "execution_count": null,
   "id": "81fbda45",
   "metadata": {},
   "outputs": [],
   "source": [
    "# Topic: Sorting Algorithms\n",
    "def bubble_sort(arr):\n",
    " for i in range(len(arr)):\n",
    "  for j in range(0, len(arr)-i-1):\n",
    "   if arr[j]>arr[j+1]: arr[j], arr[j+1]=arr[j+1], arr[j]\n",
    "a = [5,3,8,6]\n",
    "bubble_sort(a)\n",
    "print(a)"
   ]
  },
  {
   "cell_type": "code",
   "execution_count": null,
   "id": "b1453bb4",
   "metadata": {},
   "outputs": [],
   "source": [
    "# Topic: Sorting Algorithms\n",
    "def bubble_sort(arr):\n",
    " for i in range(len(arr)):\n",
    "  for j in range(0, len(arr)-i-1):\n",
    "   if arr[j]>arr[j+1]: arr[j], arr[j+1]=arr[j+1], arr[j]\n",
    "a = [5,3,8,6]\n",
    "bubble_sort(a)\n",
    "print(a)"
   ]
  },
  {
   "cell_type": "code",
   "execution_count": null,
   "id": "9280e254",
   "metadata": {},
   "outputs": [],
   "source": [
    "# Topic: Decorators\n",
    "def log(func):\n",
    " def wrapper():\n",
    "  print('Call')\n",
    "  func()\n",
    " return wrapper\n",
    "@log\n",
    "def say(): print('Hi')\n",
    "say()"
   ]
  },
  {
   "cell_type": "code",
   "execution_count": null,
   "id": "8b65b2bb",
   "metadata": {},
   "outputs": [],
   "source": [
    "# Topic: Mini Projects\n",
    "# Calculator\n",
    "def calc(a,b,op): return eval(f'{a}{op}{b}')\n",
    "print(calc(5,2,'+'))"
   ]
  },
  {
   "cell_type": "code",
   "execution_count": null,
   "id": "a38023ca",
   "metadata": {},
   "outputs": [],
   "source": [
    "# Topic: Mini Projects\n",
    "# Palindrome check\n",
    "def is_pal(s): return s == s[::-1]\n",
    "print(is_pal('madam'))"
   ]
  },
  {
   "cell_type": "code",
   "execution_count": null,
   "id": "7de59e8f",
   "metadata": {},
   "outputs": [],
   "source": [
    "# Topic: JSON & CSV\n",
    "import json\n",
    "data = {'a': 1}\n",
    "print(json.dumps(data))"
   ]
  },
  {
   "cell_type": "code",
   "execution_count": null,
   "id": "c9acfa84",
   "metadata": {},
   "outputs": [],
   "source": [
    "# Topic: Pandas\n",
    "import pandas as pd\n",
    "df = pd.read_csv('file.csv')\n",
    "print(df.head())"
   ]
  },
  {
   "cell_type": "code",
   "execution_count": null,
   "id": "0d23bdf4",
   "metadata": {},
   "outputs": [],
   "source": [
    "# Topic: File I/O\n",
    "with open('test.txt', 'r') as f:\n",
    "    print(f.read())"
   ]
  },
  {
   "cell_type": "code",
   "execution_count": null,
   "id": "c27da45e",
   "metadata": {},
   "outputs": [],
   "source": [
    "# Topic: Loops\n",
    "while True:\n",
    "    print('Break')\n",
    "    break"
   ]
  },
  {
   "cell_type": "code",
   "execution_count": null,
   "id": "a97d5325",
   "metadata": {},
   "outputs": [],
   "source": [
    "# Topic: Basic ML\n",
    "from sklearn.linear_model import LinearRegression\n",
    "model = LinearRegression()\n",
    "print(model)"
   ]
  },
  {
   "cell_type": "code",
   "execution_count": null,
   "id": "3a487f89",
   "metadata": {},
   "outputs": [],
   "source": [
    "# Topic: JSON & CSV\n",
    "import json\n",
    "data = {'a': 1}\n",
    "print(json.dumps(data))"
   ]
  },
  {
   "cell_type": "code",
   "execution_count": null,
   "id": "1e3e839d",
   "metadata": {},
   "outputs": [],
   "source": [
    "# Topic: JSON & CSV\n",
    "import json\n",
    "data = {'a': 1}\n",
    "print(json.dumps(data))"
   ]
  },
  {
   "cell_type": "code",
   "execution_count": null,
   "id": "de512917",
   "metadata": {},
   "outputs": [],
   "source": [
    "# Topic: Lists & Tuples\n",
    "t = (1, 2, 3)\n",
    "print(t[0])"
   ]
  },
  {
   "cell_type": "code",
   "execution_count": null,
   "id": "72606f56",
   "metadata": {},
   "outputs": [],
   "source": [
    "# Topic: Decorators\n",
    "def log(func):\n",
    " def wrapper():\n",
    "  print('Call')\n",
    "  func()\n",
    " return wrapper\n",
    "@log\n",
    "def say(): print('Hi')\n",
    "say()"
   ]
  },
  {
   "cell_type": "code",
   "execution_count": null,
   "id": "de173143",
   "metadata": {},
   "outputs": [],
   "source": [
    "# Topic: Dictionaries & Sets\n",
    "s = set([1, 2, 3, 2])\n",
    "print(s)"
   ]
  },
  {
   "cell_type": "code",
   "execution_count": null,
   "id": "ddb2871f",
   "metadata": {},
   "outputs": [],
   "source": [
    "# Topic: Basic ML\n",
    "from sklearn.linear_model import LinearRegression\n",
    "model = LinearRegression()\n",
    "print(model)"
   ]
  },
  {
   "cell_type": "code",
   "execution_count": null,
   "id": "b8e5d1a3",
   "metadata": {},
   "outputs": [],
   "source": [
    "# Topic: Sorting Algorithms\n",
    "def bubble_sort(arr):\n",
    " for i in range(len(arr)):\n",
    "  for j in range(0, len(arr)-i-1):\n",
    "   if arr[j]>arr[j+1]: arr[j], arr[j+1]=arr[j+1], arr[j]\n",
    "a = [5,3,8,6]\n",
    "bubble_sort(a)\n",
    "print(a)"
   ]
  },
  {
   "cell_type": "code",
   "execution_count": null,
   "id": "ea818deb",
   "metadata": {},
   "outputs": [],
   "source": [
    "# Topic: Mini Projects\n",
    "# Calculator\n",
    "def calc(a,b,op): return eval(f'{a}{op}{b}')\n",
    "print(calc(5,2,'+'))"
   ]
  },
  {
   "cell_type": "code",
   "execution_count": null,
   "id": "643ec777",
   "metadata": {},
   "outputs": [],
   "source": [
    "# Topic: Recursion\n",
    "def fact(n): return 1 if n==0 else n*fact(n-1)\n",
    "print(fact(5))"
   ]
  },
  {
   "cell_type": "code",
   "execution_count": null,
   "id": "6ccf284e",
   "metadata": {},
   "outputs": [],
   "source": [
    "# Topic: Dictionaries & Sets\n",
    "s = set([1, 2, 3, 2])\n",
    "print(s)"
   ]
  },
  {
   "cell_type": "code",
   "execution_count": null,
   "id": "cb6cba99",
   "metadata": {},
   "outputs": [],
   "source": [
    "# Topic: Regex\n",
    "import re\n",
    "text = 'email: test@example.com'\n",
    "print(re.findall(r'\\S+@\\S+', text))"
   ]
  },
  {
   "cell_type": "code",
   "execution_count": null,
   "id": "4e3f6821",
   "metadata": {},
   "outputs": [],
   "source": [
    "# Topic: Decorators\n",
    "def log(func):\n",
    " def wrapper():\n",
    "  print('Call')\n",
    "  func()\n",
    " return wrapper\n",
    "@log\n",
    "def say(): print('Hi')\n",
    "say()"
   ]
  },
  {
   "cell_type": "code",
   "execution_count": null,
   "id": "f5ea0140",
   "metadata": {},
   "outputs": [],
   "source": [
    "# Topic: Recursion\n",
    "def fact(n): return 1 if n==0 else n*fact(n-1)\n",
    "print(fact(5))"
   ]
  },
  {
   "cell_type": "code",
   "execution_count": null,
   "id": "91df5d61",
   "metadata": {},
   "outputs": [],
   "source": [
    "# Topic: Decorators\n",
    "def log(func):\n",
    " def wrapper():\n",
    "  print('Call')\n",
    "  func()\n",
    " return wrapper\n",
    "@log\n",
    "def say(): print('Hi')\n",
    "say()"
   ]
  },
  {
   "cell_type": "code",
   "execution_count": null,
   "id": "1b524bb7",
   "metadata": {},
   "outputs": [],
   "source": [
    "# Topic: Decorators\n",
    "def log(func):\n",
    " def wrapper():\n",
    "  print('Call')\n",
    "  func()\n",
    " return wrapper\n",
    "@log\n",
    "def say(): print('Hi')\n",
    "say()"
   ]
  },
  {
   "cell_type": "code",
   "execution_count": null,
   "id": "02830dbc",
   "metadata": {},
   "outputs": [],
   "source": [
    "# Topic: Matplotlib & Seaborn\n",
    "import matplotlib.pyplot as plt\n",
    "plt.plot([1,2],[3,4])\n",
    "plt.show()"
   ]
  },
  {
   "cell_type": "code",
   "execution_count": null,
   "id": "844c8fbb",
   "metadata": {},
   "outputs": [],
   "source": [
    "# Topic: Recursion\n",
    "def fact(n): return 1 if n==0 else n*fact(n-1)\n",
    "print(fact(5))"
   ]
  },
  {
   "cell_type": "code",
   "execution_count": null,
   "id": "614a9a9d",
   "metadata": {},
   "outputs": [],
   "source": [
    "# Topic: OOP\n",
    "class Student:\n",
    "    def __init__(self, name): self.name = name\n",
    "s = Student('Fahd')\n",
    "print(s.name)"
   ]
  },
  {
   "cell_type": "code",
   "execution_count": null,
   "id": "43b9f547",
   "metadata": {},
   "outputs": [],
   "source": [
    "# Topic: Sorting Algorithms\n",
    "def bubble_sort(arr):\n",
    " for i in range(len(arr)):\n",
    "  for j in range(0, len(arr)-i-1):\n",
    "   if arr[j]>arr[j+1]: arr[j], arr[j+1]=arr[j+1], arr[j]\n",
    "a = [5,3,8,6]\n",
    "bubble_sort(a)\n",
    "print(a)"
   ]
  },
  {
   "cell_type": "code",
   "execution_count": null,
   "id": "cb8834eb",
   "metadata": {},
   "outputs": [],
   "source": [
    "# Topic: JSON & CSV\n",
    "import json\n",
    "data = {'a': 1}\n",
    "print(json.dumps(data))"
   ]
  },
  {
   "cell_type": "code",
   "execution_count": null,
   "id": "431eecdd",
   "metadata": {},
   "outputs": [],
   "source": [
    "# Topic: Basic ML\n",
    "from sklearn.linear_model import LinearRegression\n",
    "model = LinearRegression()\n",
    "print(model)"
   ]
  },
  {
   "cell_type": "code",
   "execution_count": null,
   "id": "df3ee049",
   "metadata": {},
   "outputs": [],
   "source": [
    "# Topic: Pandas\n",
    "import pandas as pd\n",
    "df = pd.read_csv('file.csv')\n",
    "print(df.head())"
   ]
  },
  {
   "cell_type": "code",
   "execution_count": null,
   "id": "7e0c9c3d",
   "metadata": {},
   "outputs": [],
   "source": [
    "# Topic: Dictionaries & Sets\n",
    "d = {'name': 'Fahd', 'age': 20}\n",
    "print(d.get('name'))"
   ]
  },
  {
   "cell_type": "code",
   "execution_count": null,
   "id": "3ba77dc3",
   "metadata": {},
   "outputs": [],
   "source": [
    "# Topic: Mini Projects\n",
    "# Calculator\n",
    "def calc(a,b,op): return eval(f'{a}{op}{b}')\n",
    "print(calc(5,2,'+'))"
   ]
  },
  {
   "cell_type": "code",
   "execution_count": null,
   "id": "07d27aec",
   "metadata": {},
   "outputs": [],
   "source": [
    "# Topic: JSON & CSV\n",
    "import csv\n",
    "with open('file.csv', 'w', newline='') as f:\n",
    " csv.writer(f).writerow(['a','b','c'])"
   ]
  },
  {
   "cell_type": "code",
   "execution_count": null,
   "id": "2217377e",
   "metadata": {},
   "outputs": [],
   "source": [
    "# Topic: Mini Projects\n",
    "# Calculator\n",
    "def calc(a,b,op): return eval(f'{a}{op}{b}')\n",
    "print(calc(5,2,'+'))"
   ]
  },
  {
   "cell_type": "code",
   "execution_count": null,
   "id": "5eec0513",
   "metadata": {},
   "outputs": [],
   "source": [
    "# Topic: Functions\n",
    "def greet(name='User'):\n",
    "    print(f'Hi, {name}')\n",
    "greet()"
   ]
  },
  {
   "cell_type": "code",
   "execution_count": null,
   "id": "d12549b8",
   "metadata": {},
   "outputs": [],
   "source": [
    "# Topic: Web Scraping\n",
    "import requests\n",
    "from bs4 import BeautifulSoup\n",
    "r = requests.get('https://example.com')\n",
    "soup = BeautifulSoup(r.text, 'html.parser')\n",
    "print(soup.title.text)"
   ]
  },
  {
   "cell_type": "code",
   "execution_count": null,
   "id": "a834fd17",
   "metadata": {},
   "outputs": [],
   "source": [
    "# Topic: Pandas\n",
    "import pandas as pd\n",
    "df = pd.DataFrame({'A':[1,2],'B':[3,4]})\n",
    "print(df)"
   ]
  },
  {
   "cell_type": "code",
   "execution_count": null,
   "id": "c5442195",
   "metadata": {},
   "outputs": [],
   "source": [
    "# Topic: Basic ML\n",
    "from sklearn.linear_model import LinearRegression\n",
    "model = LinearRegression()\n",
    "print(model)"
   ]
  },
  {
   "cell_type": "code",
   "execution_count": null,
   "id": "b3654fd3",
   "metadata": {},
   "outputs": [],
   "source": [
    "# Topic: Loops\n",
    "for i in range(10): print(i*i)"
   ]
  },
  {
   "cell_type": "code",
   "execution_count": null,
   "id": "573d1501",
   "metadata": {},
   "outputs": [],
   "source": [
    "# Topic: Web Scraping\n",
    "import requests\n",
    "from bs4 import BeautifulSoup\n",
    "r = requests.get('https://example.com')\n",
    "soup = BeautifulSoup(r.text, 'html.parser')\n",
    "print(soup.title.text)"
   ]
  },
  {
   "cell_type": "code",
   "execution_count": null,
   "id": "86a5df91",
   "metadata": {},
   "outputs": [],
   "source": [
    "# Topic: Pandas\n",
    "import pandas as pd\n",
    "df = pd.DataFrame({'A':[1,2],'B':[3,4]})\n",
    "print(df)"
   ]
  },
  {
   "cell_type": "code",
   "execution_count": null,
   "id": "39398d74",
   "metadata": {},
   "outputs": [],
   "source": [
    "# Topic: Sorting Algorithms\n",
    "def bubble_sort(arr):\n",
    " for i in range(len(arr)):\n",
    "  for j in range(0, len(arr)-i-1):\n",
    "   if arr[j]>arr[j+1]: arr[j], arr[j+1]=arr[j+1], arr[j]\n",
    "a = [5,3,8,6]\n",
    "bubble_sort(a)\n",
    "print(a)"
   ]
  },
  {
   "cell_type": "code",
   "execution_count": null,
   "id": "a08555a2",
   "metadata": {},
   "outputs": [],
   "source": [
    "# Topic: Decorators\n",
    "def log(func):\n",
    " def wrapper():\n",
    "  print('Call')\n",
    "  func()\n",
    " return wrapper\n",
    "@log\n",
    "def say(): print('Hi')\n",
    "say()"
   ]
  },
  {
   "cell_type": "code",
   "execution_count": null,
   "id": "ca91b938",
   "metadata": {},
   "outputs": [],
   "source": [
    "# Topic: Data Cleaning\n",
    "import pandas as pd\n",
    "df = pd.DataFrame({'A':[1,None,3]})\n",
    "df = df.fillna(0)\n",
    "print(df)"
   ]
  },
  {
   "cell_type": "code",
   "execution_count": null,
   "id": "f47b627f",
   "metadata": {},
   "outputs": [],
   "source": [
    "# Topic: NumPy\n",
    "import numpy as np\n",
    "print(np.linspace(0, 1, 5))"
   ]
  },
  {
   "cell_type": "code",
   "execution_count": null,
   "id": "317cdd82",
   "metadata": {},
   "outputs": [],
   "source": [
    "# Topic: Functions\n",
    "def square(x): return x*x\n",
    "print(square(5))"
   ]
  },
  {
   "cell_type": "code",
   "execution_count": null,
   "id": "05ab2c23",
   "metadata": {},
   "outputs": [],
   "source": [
    "# Topic: Lists & Tuples\n",
    "t = (1, 2, 3)\n",
    "print(t[0])"
   ]
  },
  {
   "cell_type": "code",
   "execution_count": null,
   "id": "045df0ac",
   "metadata": {},
   "outputs": [],
   "source": [
    "# Topic: JSON & CSV\n",
    "import json\n",
    "data = {'a': 1}\n",
    "print(json.dumps(data))"
   ]
  },
  {
   "cell_type": "code",
   "execution_count": null,
   "id": "8be3a257",
   "metadata": {},
   "outputs": [],
   "source": [
    "# Topic: Basics\n",
    "x = 10\n",
    "y = 20\n",
    "print(x + y)"
   ]
  },
  {
   "cell_type": "code",
   "execution_count": null,
   "id": "731bbddc",
   "metadata": {},
   "outputs": [],
   "source": [
    "# Topic: Regex\n",
    "import re\n",
    "text = 'email: test@example.com'\n",
    "print(re.findall(r'\\S+@\\S+', text))"
   ]
  },
  {
   "cell_type": "code",
   "execution_count": null,
   "id": "eee99acd",
   "metadata": {},
   "outputs": [],
   "source": [
    "# Topic: Data Cleaning\n",
    "import pandas as pd\n",
    "df = pd.DataFrame({'A':[1,None,3]})\n",
    "df = df.fillna(0)\n",
    "print(df)"
   ]
  },
  {
   "cell_type": "code",
   "execution_count": null,
   "id": "63b9c385",
   "metadata": {},
   "outputs": [],
   "source": [
    "# Topic: Matplotlib & Seaborn\n",
    "import seaborn as sns\n",
    "import pandas as pd\n",
    "sns.set()\n",
    "sns.histplot(pd.Series([1,2,2,3]));"
   ]
  },
  {
   "cell_type": "code",
   "execution_count": null,
   "id": "f7c1b2f7",
   "metadata": {},
   "outputs": [],
   "source": [
    "# Topic: Mini Projects\n",
    "# Palindrome check\n",
    "def is_pal(s): return s == s[::-1]\n",
    "print(is_pal('madam'))"
   ]
  },
  {
   "cell_type": "code",
   "execution_count": null,
   "id": "9fc89280",
   "metadata": {},
   "outputs": [],
   "source": [
    "# Topic: NumPy\n",
    "import numpy as np\n",
    "print(np.linspace(0, 1, 5))"
   ]
  },
  {
   "cell_type": "code",
   "execution_count": null,
   "id": "5b266faa",
   "metadata": {},
   "outputs": [],
   "source": [
    "# Topic: Loops\n",
    "while True:\n",
    "    print('Break')\n",
    "    break"
   ]
  },
  {
   "cell_type": "code",
   "execution_count": null,
   "id": "a2c901cf",
   "metadata": {},
   "outputs": [],
   "source": [
    "# Topic: Basics\n",
    "x = 10\n",
    "y = 20\n",
    "print(x + y)"
   ]
  },
  {
   "cell_type": "code",
   "execution_count": null,
   "id": "ca86b402",
   "metadata": {},
   "outputs": [],
   "source": [
    "# Topic: Functions\n",
    "def greet(name='User'):\n",
    "    print(f'Hi, {name}')\n",
    "greet()"
   ]
  },
  {
   "cell_type": "code",
   "execution_count": null,
   "id": "ac77a1be",
   "metadata": {},
   "outputs": [],
   "source": [
    "# Topic: Decorators\n",
    "def log(func):\n",
    " def wrapper():\n",
    "  print('Call')\n",
    "  func()\n",
    " return wrapper\n",
    "@log\n",
    "def say(): print('Hi')\n",
    "say()"
   ]
  },
  {
   "cell_type": "code",
   "execution_count": null,
   "id": "7495bea4",
   "metadata": {},
   "outputs": [],
   "source": [
    "# Topic: Basics\n",
    "x = 10\n",
    "y = 20\n",
    "print(x + y)"
   ]
  },
  {
   "cell_type": "code",
   "execution_count": null,
   "id": "4e01b534",
   "metadata": {},
   "outputs": [],
   "source": [
    "# Topic: JSON & CSV\n",
    "import json\n",
    "data = {'a': 1}\n",
    "print(json.dumps(data))"
   ]
  },
  {
   "cell_type": "code",
   "execution_count": null,
   "id": "533fd699",
   "metadata": {},
   "outputs": [],
   "source": [
    "# Topic: Web Scraping\n",
    "import requests\n",
    "from bs4 import BeautifulSoup\n",
    "r = requests.get('https://example.com')\n",
    "soup = BeautifulSoup(r.text, 'html.parser')\n",
    "print(soup.title.text)"
   ]
  },
  {
   "cell_type": "code",
   "execution_count": null,
   "id": "4af82c43",
   "metadata": {},
   "outputs": [],
   "source": [
    "# Topic: Mini Projects\n",
    "# Palindrome check\n",
    "def is_pal(s): return s == s[::-1]\n",
    "print(is_pal('madam'))"
   ]
  },
  {
   "cell_type": "code",
   "execution_count": null,
   "id": "b387b86b",
   "metadata": {},
   "outputs": [],
   "source": [
    "# Topic: Basics\n",
    "name = 'Fahd'\n",
    "print(f'Hello, {name}')"
   ]
  },
  {
   "cell_type": "code",
   "execution_count": null,
   "id": "2b919fce",
   "metadata": {},
   "outputs": [],
   "source": [
    "# Topic: Web Scraping\n",
    "import requests\n",
    "from bs4 import BeautifulSoup\n",
    "r = requests.get('https://example.com')\n",
    "soup = BeautifulSoup(r.text, 'html.parser')\n",
    "print(soup.title.text)"
   ]
  },
  {
   "cell_type": "code",
   "execution_count": null,
   "id": "dda87fd9",
   "metadata": {},
   "outputs": [],
   "source": [
    "# Topic: Lists & Tuples\n",
    "t = (1, 2, 3)\n",
    "print(t[0])"
   ]
  },
  {
   "cell_type": "code",
   "execution_count": null,
   "id": "5f701441",
   "metadata": {},
   "outputs": [],
   "source": [
    "# Topic: Loops\n",
    "while True:\n",
    "    print('Break')\n",
    "    break"
   ]
  },
  {
   "cell_type": "code",
   "execution_count": null,
   "id": "b0bdbf14",
   "metadata": {},
   "outputs": [],
   "source": [
    "# Topic: Dictionaries & Sets\n",
    "d = {'name': 'Fahd', 'age': 20}\n",
    "print(d.get('name'))"
   ]
  },
  {
   "cell_type": "code",
   "execution_count": null,
   "id": "3032e083",
   "metadata": {},
   "outputs": [],
   "source": [
    "# Topic: OOP\n",
    "class Student:\n",
    "    def __init__(self, name): self.name = name\n",
    "s = Student('Fahd')\n",
    "print(s.name)"
   ]
  },
  {
   "cell_type": "code",
   "execution_count": null,
   "id": "0ff0375b",
   "metadata": {},
   "outputs": [],
   "source": [
    "# Topic: Decorators\n",
    "def log(func):\n",
    " def wrapper():\n",
    "  print('Call')\n",
    "  func()\n",
    " return wrapper\n",
    "@log\n",
    "def say(): print('Hi')\n",
    "say()"
   ]
  },
  {
   "cell_type": "code",
   "execution_count": null,
   "id": "96243fb8",
   "metadata": {},
   "outputs": [],
   "source": [
    "# Topic: Data Cleaning\n",
    "import pandas as pd\n",
    "df = pd.DataFrame({'A':[1,None,3]})\n",
    "df = df.fillna(0)\n",
    "print(df)"
   ]
  },
  {
   "cell_type": "code",
   "execution_count": null,
   "id": "c24d5d07",
   "metadata": {},
   "outputs": [],
   "source": [
    "# Topic: Functions\n",
    "def greet(name='User'):\n",
    "    print(f'Hi, {name}')\n",
    "greet()"
   ]
  },
  {
   "cell_type": "code",
   "execution_count": null,
   "id": "57beccf3",
   "metadata": {},
   "outputs": [],
   "source": [
    "# Topic: Recursion\n",
    "def fact(n): return 1 if n==0 else n*fact(n-1)\n",
    "print(fact(5))"
   ]
  },
  {
   "cell_type": "code",
   "execution_count": null,
   "id": "aae8c05b",
   "metadata": {},
   "outputs": [],
   "source": [
    "# Topic: File I/O\n",
    "with open('test.txt', 'w') as f:\n",
    "    f.write('Hello World')"
   ]
  },
  {
   "cell_type": "code",
   "execution_count": null,
   "id": "70e2ba23",
   "metadata": {},
   "outputs": [],
   "source": [
    "# Topic: Sorting Algorithms\n",
    "def bubble_sort(arr):\n",
    " for i in range(len(arr)):\n",
    "  for j in range(0, len(arr)-i-1):\n",
    "   if arr[j]>arr[j+1]: arr[j], arr[j+1]=arr[j+1], arr[j]\n",
    "a = [5,3,8,6]\n",
    "bubble_sort(a)\n",
    "print(a)"
   ]
  },
  {
   "cell_type": "code",
   "execution_count": null,
   "id": "ce561522",
   "metadata": {},
   "outputs": [],
   "source": [
    "# Topic: Data Cleaning\n",
    "import pandas as pd\n",
    "df = pd.DataFrame({'A':[1,None,3]})\n",
    "df = df.fillna(0)\n",
    "print(df)"
   ]
  },
  {
   "cell_type": "code",
   "execution_count": null,
   "id": "0d84293d",
   "metadata": {},
   "outputs": [],
   "source": [
    "# Topic: Web Scraping\n",
    "import requests\n",
    "from bs4 import BeautifulSoup\n",
    "r = requests.get('https://example.com')\n",
    "soup = BeautifulSoup(r.text, 'html.parser')\n",
    "print(soup.title.text)"
   ]
  },
  {
   "cell_type": "code",
   "execution_count": null,
   "id": "880f16f8",
   "metadata": {},
   "outputs": [],
   "source": [
    "# Topic: Data Cleaning\n",
    "import pandas as pd\n",
    "df = pd.DataFrame({'A':[1,None,3]})\n",
    "df = df.fillna(0)\n",
    "print(df)"
   ]
  },
  {
   "cell_type": "code",
   "execution_count": null,
   "id": "77465c92",
   "metadata": {},
   "outputs": [],
   "source": [
    "# Topic: Basic ML\n",
    "from sklearn.linear_model import LinearRegression\n",
    "model = LinearRegression()\n",
    "print(model)"
   ]
  },
  {
   "cell_type": "code",
   "execution_count": null,
   "id": "f2b6062a",
   "metadata": {},
   "outputs": [],
   "source": [
    "# Topic: Functions\n",
    "def square(x): return x*x\n",
    "print(square(5))"
   ]
  },
  {
   "cell_type": "code",
   "execution_count": null,
   "id": "3b0a8b42",
   "metadata": {},
   "outputs": [],
   "source": [
    "# Topic: Regex\n",
    "import re\n",
    "text = 'email: test@example.com'\n",
    "print(re.findall(r'\\S+@\\S+', text))"
   ]
  },
  {
   "cell_type": "code",
   "execution_count": null,
   "id": "96027aa4",
   "metadata": {},
   "outputs": [],
   "source": [
    "# Topic: Mini Projects\n",
    "# Palindrome check\n",
    "def is_pal(s): return s == s[::-1]\n",
    "print(is_pal('madam'))"
   ]
  },
  {
   "cell_type": "code",
   "execution_count": null,
   "id": "02aacd8e",
   "metadata": {},
   "outputs": [],
   "source": [
    "# Topic: Decorators\n",
    "def log(func):\n",
    " def wrapper():\n",
    "  print('Call')\n",
    "  func()\n",
    " return wrapper\n",
    "@log\n",
    "def say(): print('Hi')\n",
    "say()"
   ]
  },
  {
   "cell_type": "code",
   "execution_count": null,
   "id": "7635fe7e",
   "metadata": {},
   "outputs": [],
   "source": [
    "# Topic: Web Scraping\n",
    "import requests\n",
    "from bs4 import BeautifulSoup\n",
    "r = requests.get('https://example.com')\n",
    "soup = BeautifulSoup(r.text, 'html.parser')\n",
    "print(soup.title.text)"
   ]
  },
  {
   "cell_type": "code",
   "execution_count": null,
   "id": "35454088",
   "metadata": {},
   "outputs": [],
   "source": [
    "# Topic: JSON & CSV\n",
    "import csv\n",
    "with open('file.csv', 'w', newline='') as f:\n",
    " csv.writer(f).writerow(['a','b','c'])"
   ]
  },
  {
   "cell_type": "code",
   "execution_count": null,
   "id": "09df414d",
   "metadata": {},
   "outputs": [],
   "source": [
    "# Topic: Mini Projects\n",
    "# Palindrome check\n",
    "def is_pal(s): return s == s[::-1]\n",
    "print(is_pal('madam'))"
   ]
  },
  {
   "cell_type": "code",
   "execution_count": null,
   "id": "a2c29637",
   "metadata": {},
   "outputs": [],
   "source": [
    "# Topic: JSON & CSV\n",
    "import json\n",
    "data = {'a': 1}\n",
    "print(json.dumps(data))"
   ]
  },
  {
   "cell_type": "code",
   "execution_count": null,
   "id": "83f80465",
   "metadata": {},
   "outputs": [],
   "source": [
    "# Topic: Recursion\n",
    "def fact(n): return 1 if n==0 else n*fact(n-1)\n",
    "print(fact(5))"
   ]
  },
  {
   "cell_type": "code",
   "execution_count": null,
   "id": "c442974f",
   "metadata": {},
   "outputs": [],
   "source": [
    "# Topic: Regex\n",
    "import re\n",
    "text = 'email: test@example.com'\n",
    "print(re.findall(r'\\S+@\\S+', text))"
   ]
  },
  {
   "cell_type": "code",
   "execution_count": null,
   "id": "a8f66d50",
   "metadata": {},
   "outputs": [],
   "source": [
    "# Topic: Lists & Tuples\n",
    "t = (1, 2, 3)\n",
    "print(t[0])"
   ]
  },
  {
   "cell_type": "code",
   "execution_count": null,
   "id": "b1520ce0",
   "metadata": {},
   "outputs": [],
   "source": [
    "# Topic: Data Cleaning\n",
    "import pandas as pd\n",
    "df = pd.DataFrame({'A':[1,None,3]})\n",
    "df = df.fillna(0)\n",
    "print(df)"
   ]
  },
  {
   "cell_type": "code",
   "execution_count": null,
   "id": "cd2b0fc7",
   "metadata": {},
   "outputs": [],
   "source": [
    "# Topic: Web Scraping\n",
    "import requests\n",
    "from bs4 import BeautifulSoup\n",
    "r = requests.get('https://example.com')\n",
    "soup = BeautifulSoup(r.text, 'html.parser')\n",
    "print(soup.title.text)"
   ]
  },
  {
   "cell_type": "code",
   "execution_count": null,
   "id": "6aba9225",
   "metadata": {},
   "outputs": [],
   "source": [
    "# Topic: Lists & Tuples\n",
    "t = (1, 2, 3)\n",
    "print(t[0])"
   ]
  },
  {
   "cell_type": "code",
   "execution_count": null,
   "id": "9628ac3d",
   "metadata": {},
   "outputs": [],
   "source": [
    "# Topic: Dictionaries & Sets\n",
    "d = {'name': 'Fahd', 'age': 20}\n",
    "print(d.get('name'))"
   ]
  },
  {
   "cell_type": "code",
   "execution_count": null,
   "id": "f9650c96",
   "metadata": {},
   "outputs": [],
   "source": [
    "# Topic: Regex\n",
    "import re\n",
    "text = 'email: test@example.com'\n",
    "print(re.findall(r'\\S+@\\S+', text))"
   ]
  },
  {
   "cell_type": "code",
   "execution_count": null,
   "id": "f727b9a5",
   "metadata": {},
   "outputs": [],
   "source": [
    "# Topic: Pandas\n",
    "import pandas as pd\n",
    "df = pd.DataFrame({'A':[1,2],'B':[3,4]})\n",
    "print(df)"
   ]
  },
  {
   "cell_type": "code",
   "execution_count": null,
   "id": "b452d113",
   "metadata": {},
   "outputs": [],
   "source": [
    "# Topic: OOP\n",
    "class Student:\n",
    "    def __init__(self, name): self.name = name\n",
    "s = Student('Fahd')\n",
    "print(s.name)"
   ]
  },
  {
   "cell_type": "code",
   "execution_count": null,
   "id": "09577715",
   "metadata": {},
   "outputs": [],
   "source": [
    "# Topic: Basics\n",
    "x = 10\n",
    "y = 20\n",
    "print(x + y)"
   ]
  },
  {
   "cell_type": "code",
   "execution_count": null,
   "id": "4b3f2b62",
   "metadata": {},
   "outputs": [],
   "source": [
    "# Topic: Matplotlib & Seaborn\n",
    "import seaborn as sns\n",
    "import pandas as pd\n",
    "sns.set()\n",
    "sns.histplot(pd.Series([1,2,2,3]));"
   ]
  },
  {
   "cell_type": "code",
   "execution_count": null,
   "id": "ddda9ad4",
   "metadata": {},
   "outputs": [],
   "source": [
    "# Topic: Basics\n",
    "name = 'Fahd'\n",
    "print(f'Hello, {name}')"
   ]
  },
  {
   "cell_type": "code",
   "execution_count": null,
   "id": "f1941517",
   "metadata": {},
   "outputs": [],
   "source": [
    "# Topic: Functions\n",
    "def square(x): return x*x\n",
    "print(square(5))"
   ]
  },
  {
   "cell_type": "code",
   "execution_count": null,
   "id": "d8c6ba03",
   "metadata": {},
   "outputs": [],
   "source": [
    "# Topic: Functions\n",
    "def greet(name='User'):\n",
    "    print(f'Hi, {name}')\n",
    "greet()"
   ]
  },
  {
   "cell_type": "code",
   "execution_count": null,
   "id": "35f03e91",
   "metadata": {},
   "outputs": [],
   "source": [
    "# Topic: JSON & CSV\n",
    "import json\n",
    "data = {'a': 1}\n",
    "print(json.dumps(data))"
   ]
  },
  {
   "cell_type": "code",
   "execution_count": null,
   "id": "9c5eedc7",
   "metadata": {},
   "outputs": [],
   "source": [
    "# Topic: Loops\n",
    "for i in range(10): print(i*i)"
   ]
  },
  {
   "cell_type": "code",
   "execution_count": null,
   "id": "17d3cf2f",
   "metadata": {},
   "outputs": [],
   "source": [
    "# Topic: OOP\n",
    "class Student:\n",
    "    def __init__(self, name): self.name = name\n",
    "s = Student('Fahd')\n",
    "print(s.name)"
   ]
  },
  {
   "cell_type": "code",
   "execution_count": null,
   "id": "4b9b4795",
   "metadata": {},
   "outputs": [],
   "source": [
    "# Topic: Functions\n",
    "def square(x): return x*x\n",
    "print(square(5))"
   ]
  },
  {
   "cell_type": "code",
   "execution_count": null,
   "id": "4afda197",
   "metadata": {},
   "outputs": [],
   "source": [
    "# Topic: Data Cleaning\n",
    "import pandas as pd\n",
    "df = pd.DataFrame({'A':[1,None,3]})\n",
    "df = df.fillna(0)\n",
    "print(df)"
   ]
  },
  {
   "cell_type": "code",
   "execution_count": null,
   "id": "b095c7e0",
   "metadata": {},
   "outputs": [],
   "source": [
    "# Topic: Recursion\n",
    "def fact(n): return 1 if n==0 else n*fact(n-1)\n",
    "print(fact(5))"
   ]
  },
  {
   "cell_type": "code",
   "execution_count": null,
   "id": "849df6db",
   "metadata": {},
   "outputs": [],
   "source": [
    "# Topic: Matplotlib & Seaborn\n",
    "import seaborn as sns\n",
    "import pandas as pd\n",
    "sns.set()\n",
    "sns.histplot(pd.Series([1,2,2,3]));"
   ]
  },
  {
   "cell_type": "code",
   "execution_count": null,
   "id": "b3f3d89d",
   "metadata": {},
   "outputs": [],
   "source": [
    "# Topic: JSON & CSV\n",
    "import json\n",
    "data = {'a': 1}\n",
    "print(json.dumps(data))"
   ]
  },
  {
   "cell_type": "code",
   "execution_count": null,
   "id": "ab1adaf8",
   "metadata": {},
   "outputs": [],
   "source": [
    "# Topic: Web Scraping\n",
    "import requests\n",
    "from bs4 import BeautifulSoup\n",
    "r = requests.get('https://example.com')\n",
    "soup = BeautifulSoup(r.text, 'html.parser')\n",
    "print(soup.title.text)"
   ]
  },
  {
   "cell_type": "code",
   "execution_count": null,
   "id": "5daf9e2d",
   "metadata": {},
   "outputs": [],
   "source": [
    "# Topic: Functions\n",
    "def square(x): return x*x\n",
    "print(square(5))"
   ]
  },
  {
   "cell_type": "code",
   "execution_count": null,
   "id": "484cc114",
   "metadata": {},
   "outputs": [],
   "source": [
    "# Topic: NumPy\n",
    "import numpy as np\n",
    "a = np.array([1, 2, 3])\n",
    "print(a + 5)"
   ]
  },
  {
   "cell_type": "code",
   "execution_count": null,
   "id": "0665fa13",
   "metadata": {},
   "outputs": [],
   "source": [
    "# Topic: OOP\n",
    "class Student:\n",
    "    def __init__(self, name): self.name = name\n",
    "s = Student('Fahd')\n",
    "print(s.name)"
   ]
  },
  {
   "cell_type": "code",
   "execution_count": null,
   "id": "e737f286",
   "metadata": {},
   "outputs": [],
   "source": [
    "# Topic: Functions\n",
    "def greet(name='User'):\n",
    "    print(f'Hi, {name}')\n",
    "greet()"
   ]
  },
  {
   "cell_type": "code",
   "execution_count": null,
   "id": "da91b074",
   "metadata": {},
   "outputs": [],
   "source": [
    "# Topic: Dictionaries & Sets\n",
    "d = {'name': 'Fahd', 'age': 20}\n",
    "print(d.get('name'))"
   ]
  },
  {
   "cell_type": "code",
   "execution_count": null,
   "id": "1b52d1d9",
   "metadata": {},
   "outputs": [],
   "source": [
    "# Topic: Dictionaries & Sets\n",
    "s = set([1, 2, 3, 2])\n",
    "print(s)"
   ]
  },
  {
   "cell_type": "code",
   "execution_count": null,
   "id": "cac9e2b1",
   "metadata": {},
   "outputs": [],
   "source": [
    "# Topic: Web Scraping\n",
    "import requests\n",
    "from bs4 import BeautifulSoup\n",
    "r = requests.get('https://example.com')\n",
    "soup = BeautifulSoup(r.text, 'html.parser')\n",
    "print(soup.title.text)"
   ]
  },
  {
   "cell_type": "code",
   "execution_count": null,
   "id": "7415b99b",
   "metadata": {},
   "outputs": [],
   "source": [
    "# Topic: Loops\n",
    "while True:\n",
    "    print('Break')\n",
    "    break"
   ]
  },
  {
   "cell_type": "code",
   "execution_count": null,
   "id": "0ed0f3d0",
   "metadata": {},
   "outputs": [],
   "source": [
    "# Topic: Basics\n",
    "name = 'Fahd'\n",
    "print(f'Hello, {name}')"
   ]
  },
  {
   "cell_type": "code",
   "execution_count": null,
   "id": "079a7d88",
   "metadata": {},
   "outputs": [],
   "source": [
    "# Topic: Mini Projects\n",
    "# Palindrome check\n",
    "def is_pal(s): return s == s[::-1]\n",
    "print(is_pal('madam'))"
   ]
  },
  {
   "cell_type": "code",
   "execution_count": null,
   "id": "a7d2a63d",
   "metadata": {},
   "outputs": [],
   "source": [
    "# Topic: Functions\n",
    "def square(x): return x*x\n",
    "print(square(5))"
   ]
  },
  {
   "cell_type": "code",
   "execution_count": null,
   "id": "e86654e3",
   "metadata": {},
   "outputs": [],
   "source": [
    "# Topic: Data Cleaning\n",
    "import pandas as pd\n",
    "df = pd.DataFrame({'A':[1,None,3]})\n",
    "df = df.fillna(0)\n",
    "print(df)"
   ]
  },
  {
   "cell_type": "code",
   "execution_count": null,
   "id": "7cab42be",
   "metadata": {},
   "outputs": [],
   "source": [
    "# Topic: Matplotlib & Seaborn\n",
    "import seaborn as sns\n",
    "import pandas as pd\n",
    "sns.set()\n",
    "sns.histplot(pd.Series([1,2,2,3]));"
   ]
  },
  {
   "cell_type": "code",
   "execution_count": null,
   "id": "c1ce7dbd",
   "metadata": {},
   "outputs": [],
   "source": [
    "# Topic: File I/O\n",
    "with open('test.txt', 'r') as f:\n",
    "    print(f.read())"
   ]
  },
  {
   "cell_type": "code",
   "execution_count": null,
   "id": "901f4cc0",
   "metadata": {},
   "outputs": [],
   "source": [
    "# Topic: Decorators\n",
    "def log(func):\n",
    " def wrapper():\n",
    "  print('Call')\n",
    "  func()\n",
    " return wrapper\n",
    "@log\n",
    "def say(): print('Hi')\n",
    "say()"
   ]
  },
  {
   "cell_type": "code",
   "execution_count": null,
   "id": "cdc8bf51",
   "metadata": {},
   "outputs": [],
   "source": [
    "# Topic: Functions\n",
    "def greet(name='User'):\n",
    "    print(f'Hi, {name}')\n",
    "greet()"
   ]
  },
  {
   "cell_type": "code",
   "execution_count": null,
   "id": "6cf7e5d1",
   "metadata": {},
   "outputs": [],
   "source": [
    "# Topic: OOP\n",
    "class Student:\n",
    "    def __init__(self, name): self.name = name\n",
    "s = Student('Fahd')\n",
    "print(s.name)"
   ]
  },
  {
   "cell_type": "code",
   "execution_count": null,
   "id": "4a666b05",
   "metadata": {},
   "outputs": [],
   "source": [
    "# Topic: Sorting Algorithms\n",
    "def bubble_sort(arr):\n",
    " for i in range(len(arr)):\n",
    "  for j in range(0, len(arr)-i-1):\n",
    "   if arr[j]>arr[j+1]: arr[j], arr[j+1]=arr[j+1], arr[j]\n",
    "a = [5,3,8,6]\n",
    "bubble_sort(a)\n",
    "print(a)"
   ]
  },
  {
   "cell_type": "code",
   "execution_count": null,
   "id": "f85af26d",
   "metadata": {},
   "outputs": [],
   "source": [
    "# Topic: Web Scraping\n",
    "import requests\n",
    "from bs4 import BeautifulSoup\n",
    "r = requests.get('https://example.com')\n",
    "soup = BeautifulSoup(r.text, 'html.parser')\n",
    "print(soup.title.text)"
   ]
  },
  {
   "cell_type": "code",
   "execution_count": null,
   "id": "9d91bf16",
   "metadata": {},
   "outputs": [],
   "source": [
    "# Topic: OOP\n",
    "class Student:\n",
    "    def __init__(self, name): self.name = name\n",
    "s = Student('Fahd')\n",
    "print(s.name)"
   ]
  },
  {
   "cell_type": "code",
   "execution_count": null,
   "id": "b93d1a37",
   "metadata": {},
   "outputs": [],
   "source": [
    "# Topic: Dictionaries & Sets\n",
    "s = set([1, 2, 3, 2])\n",
    "print(s)"
   ]
  },
  {
   "cell_type": "code",
   "execution_count": null,
   "id": "b430bbc6",
   "metadata": {},
   "outputs": [],
   "source": [
    "# Topic: Functions\n",
    "def square(x): return x*x\n",
    "print(square(5))"
   ]
  },
  {
   "cell_type": "code",
   "execution_count": null,
   "id": "410704ad",
   "metadata": {},
   "outputs": [],
   "source": [
    "# Topic: Matplotlib & Seaborn\n",
    "import seaborn as sns\n",
    "import pandas as pd\n",
    "sns.set()\n",
    "sns.histplot(pd.Series([1,2,2,3]));"
   ]
  },
  {
   "cell_type": "code",
   "execution_count": null,
   "id": "693d90f9",
   "metadata": {},
   "outputs": [],
   "source": [
    "# Topic: Data Cleaning\n",
    "import pandas as pd\n",
    "df = pd.DataFrame({'A':[1,None,3]})\n",
    "df = df.fillna(0)\n",
    "print(df)"
   ]
  },
  {
   "cell_type": "code",
   "execution_count": null,
   "id": "ace4d5ea",
   "metadata": {},
   "outputs": [],
   "source": [
    "# Topic: Basics\n",
    "name = 'Fahd'\n",
    "print(f'Hello, {name}')"
   ]
  },
  {
   "cell_type": "code",
   "execution_count": null,
   "id": "2f0689e9",
   "metadata": {},
   "outputs": [],
   "source": [
    "# Topic: Basics\n",
    "x = 10\n",
    "y = 20\n",
    "print(x + y)"
   ]
  },
  {
   "cell_type": "code",
   "execution_count": null,
   "id": "98bb0209",
   "metadata": {},
   "outputs": [],
   "source": [
    "# Topic: Recursion\n",
    "def fact(n): return 1 if n==0 else n*fact(n-1)\n",
    "print(fact(5))"
   ]
  },
  {
   "cell_type": "code",
   "execution_count": null,
   "id": "9f8fc541",
   "metadata": {},
   "outputs": [],
   "source": [
    "# Topic: JSON & CSV\n",
    "import csv\n",
    "with open('file.csv', 'w', newline='') as f:\n",
    " csv.writer(f).writerow(['a','b','c'])"
   ]
  },
  {
   "cell_type": "code",
   "execution_count": null,
   "id": "344ef593",
   "metadata": {},
   "outputs": [],
   "source": [
    "# Topic: Regex\n",
    "import re\n",
    "text = 'email: test@example.com'\n",
    "print(re.findall(r'\\S+@\\S+', text))"
   ]
  },
  {
   "cell_type": "code",
   "execution_count": null,
   "id": "63d134c4",
   "metadata": {},
   "outputs": [],
   "source": [
    "# Topic: Dictionaries & Sets\n",
    "d = {'name': 'Fahd', 'age': 20}\n",
    "print(d.get('name'))"
   ]
  },
  {
   "cell_type": "code",
   "execution_count": null,
   "id": "1868dead",
   "metadata": {},
   "outputs": [],
   "source": [
    "# Topic: Lists & Tuples\n",
    "t = (1, 2, 3)\n",
    "print(t[0])"
   ]
  },
  {
   "cell_type": "code",
   "execution_count": null,
   "id": "96cc6866",
   "metadata": {},
   "outputs": [],
   "source": [
    "# Topic: Basic ML\n",
    "from sklearn.linear_model import LinearRegression\n",
    "model = LinearRegression()\n",
    "print(model)"
   ]
  },
  {
   "cell_type": "code",
   "execution_count": null,
   "id": "4aa8695d",
   "metadata": {},
   "outputs": [],
   "source": [
    "# Topic: Mini Projects\n",
    "# Palindrome check\n",
    "def is_pal(s): return s == s[::-1]\n",
    "print(is_pal('madam'))"
   ]
  },
  {
   "cell_type": "code",
   "execution_count": null,
   "id": "b0c8929c",
   "metadata": {},
   "outputs": [],
   "source": [
    "# Topic: JSON & CSV\n",
    "import csv\n",
    "with open('file.csv', 'w', newline='') as f:\n",
    " csv.writer(f).writerow(['a','b','c'])"
   ]
  },
  {
   "cell_type": "code",
   "execution_count": null,
   "id": "ebd64fb7",
   "metadata": {},
   "outputs": [],
   "source": [
    "# Topic: Pandas\n",
    "import pandas as pd\n",
    "df = pd.DataFrame({'A':[1,2],'B':[3,4]})\n",
    "print(df)"
   ]
  },
  {
   "cell_type": "code",
   "execution_count": null,
   "id": "d6eee6c5",
   "metadata": {},
   "outputs": [],
   "source": [
    "# Topic: Functions\n",
    "def greet(name='User'):\n",
    "    print(f'Hi, {name}')\n",
    "greet()"
   ]
  },
  {
   "cell_type": "code",
   "execution_count": null,
   "id": "8fa427cc",
   "metadata": {},
   "outputs": [],
   "source": [
    "# Topic: Lists & Tuples\n",
    "t = (1, 2, 3)\n",
    "print(t[0])"
   ]
  },
  {
   "cell_type": "code",
   "execution_count": null,
   "id": "248e28ff",
   "metadata": {},
   "outputs": [],
   "source": [
    "# Topic: Recursion\n",
    "def fact(n): return 1 if n==0 else n*fact(n-1)\n",
    "print(fact(5))"
   ]
  },
  {
   "cell_type": "code",
   "execution_count": null,
   "id": "c987268d",
   "metadata": {},
   "outputs": [],
   "source": [
    "# Topic: Basics\n",
    "x = 10\n",
    "y = 20\n",
    "print(x + y)"
   ]
  },
  {
   "cell_type": "code",
   "execution_count": null,
   "id": "5a96ecfb",
   "metadata": {},
   "outputs": [],
   "source": [
    "# Topic: Lists & Tuples\n",
    "t = (1, 2, 3)\n",
    "print(t[0])"
   ]
  },
  {
   "cell_type": "code",
   "execution_count": null,
   "id": "ae5bced8",
   "metadata": {},
   "outputs": [],
   "source": [
    "# Topic: Basic ML\n",
    "from sklearn.linear_model import LinearRegression\n",
    "model = LinearRegression()\n",
    "print(model)"
   ]
  },
  {
   "cell_type": "code",
   "execution_count": null,
   "id": "fbb1be82",
   "metadata": {},
   "outputs": [],
   "source": [
    "# Topic: Dictionaries & Sets\n",
    "d = {'name': 'Fahd', 'age': 20}\n",
    "print(d.get('name'))"
   ]
  },
  {
   "cell_type": "code",
   "execution_count": null,
   "id": "9ae48464",
   "metadata": {},
   "outputs": [],
   "source": [
    "# Topic: NumPy\n",
    "import numpy as np\n",
    "print(np.linspace(0, 1, 5))"
   ]
  },
  {
   "cell_type": "code",
   "execution_count": null,
   "id": "45e8cf51",
   "metadata": {},
   "outputs": [],
   "source": [
    "# Topic: Loops\n",
    "for i in range(10): print(i*i)"
   ]
  },
  {
   "cell_type": "code",
   "execution_count": null,
   "id": "20e01d88",
   "metadata": {},
   "outputs": [],
   "source": [
    "# Topic: Web Scraping\n",
    "import requests\n",
    "from bs4 import BeautifulSoup\n",
    "r = requests.get('https://example.com')\n",
    "soup = BeautifulSoup(r.text, 'html.parser')\n",
    "print(soup.title.text)"
   ]
  },
  {
   "cell_type": "code",
   "execution_count": null,
   "id": "b8ff0c6f",
   "metadata": {},
   "outputs": [],
   "source": [
    "# Topic: Web Scraping\n",
    "import requests\n",
    "from bs4 import BeautifulSoup\n",
    "r = requests.get('https://example.com')\n",
    "soup = BeautifulSoup(r.text, 'html.parser')\n",
    "print(soup.title.text)"
   ]
  },
  {
   "cell_type": "code",
   "execution_count": null,
   "id": "8f5a1a94",
   "metadata": {},
   "outputs": [],
   "source": [
    "# Topic: Regex\n",
    "import re\n",
    "text = 'email: test@example.com'\n",
    "print(re.findall(r'\\S+@\\S+', text))"
   ]
  },
  {
   "cell_type": "code",
   "execution_count": null,
   "id": "3f6b05a8",
   "metadata": {},
   "outputs": [],
   "source": [
    "# Topic: Data Cleaning\n",
    "import pandas as pd\n",
    "df = pd.DataFrame({'A':[1,None,3]})\n",
    "df = df.fillna(0)\n",
    "print(df)"
   ]
  },
  {
   "cell_type": "code",
   "execution_count": null,
   "id": "a436cdfa",
   "metadata": {},
   "outputs": [],
   "source": [
    "# Topic: Dictionaries & Sets\n",
    "d = {'name': 'Fahd', 'age': 20}\n",
    "print(d.get('name'))"
   ]
  },
  {
   "cell_type": "code",
   "execution_count": null,
   "id": "e8f7ed87",
   "metadata": {},
   "outputs": [],
   "source": [
    "# Topic: Matplotlib & Seaborn\n",
    "import seaborn as sns\n",
    "import pandas as pd\n",
    "sns.set()\n",
    "sns.histplot(pd.Series([1,2,2,3]));"
   ]
  },
  {
   "cell_type": "code",
   "execution_count": null,
   "id": "b94378bc",
   "metadata": {},
   "outputs": [],
   "source": [
    "# Topic: Sorting Algorithms\n",
    "def bubble_sort(arr):\n",
    " for i in range(len(arr)):\n",
    "  for j in range(0, len(arr)-i-1):\n",
    "   if arr[j]>arr[j+1]: arr[j], arr[j+1]=arr[j+1], arr[j]\n",
    "a = [5,3,8,6]\n",
    "bubble_sort(a)\n",
    "print(a)"
   ]
  },
  {
   "cell_type": "code",
   "execution_count": null,
   "id": "1cd78f5b",
   "metadata": {},
   "outputs": [],
   "source": [
    "# Topic: Pandas\n",
    "import pandas as pd\n",
    "df = pd.DataFrame({'A':[1,2],'B':[3,4]})\n",
    "print(df)"
   ]
  },
  {
   "cell_type": "code",
   "execution_count": null,
   "id": "5ef99fde",
   "metadata": {},
   "outputs": [],
   "source": [
    "# Topic: File I/O\n",
    "with open('test.txt', 'w') as f:\n",
    "    f.write('Hello World')"
   ]
  },
  {
   "cell_type": "code",
   "execution_count": null,
   "id": "3563d911",
   "metadata": {},
   "outputs": [],
   "source": [
    "# Topic: Web Scraping\n",
    "import requests\n",
    "from bs4 import BeautifulSoup\n",
    "r = requests.get('https://example.com')\n",
    "soup = BeautifulSoup(r.text, 'html.parser')\n",
    "print(soup.title.text)"
   ]
  },
  {
   "cell_type": "code",
   "execution_count": null,
   "id": "deab1ff8",
   "metadata": {},
   "outputs": [],
   "source": [
    "# Topic: Functions\n",
    "def greet(name='User'):\n",
    "    print(f'Hi, {name}')\n",
    "greet()"
   ]
  },
  {
   "cell_type": "code",
   "execution_count": null,
   "id": "402d379d",
   "metadata": {},
   "outputs": [],
   "source": [
    "# Topic: Mini Projects\n",
    "# Calculator\n",
    "def calc(a,b,op): return eval(f'{a}{op}{b}')\n",
    "print(calc(5,2,'+'))"
   ]
  },
  {
   "cell_type": "code",
   "execution_count": null,
   "id": "17c57768",
   "metadata": {},
   "outputs": [],
   "source": [
    "# Topic: Lists & Tuples\n",
    "t = (1, 2, 3)\n",
    "print(t[0])"
   ]
  },
  {
   "cell_type": "code",
   "execution_count": null,
   "id": "d215b547",
   "metadata": {},
   "outputs": [],
   "source": [
    "# Topic: Loops\n",
    "for i in range(10): print(i*i)"
   ]
  },
  {
   "cell_type": "code",
   "execution_count": null,
   "id": "cfe6e47c",
   "metadata": {},
   "outputs": [],
   "source": [
    "# Topic: Loops\n",
    "for i in range(10): print(i*i)"
   ]
  },
  {
   "cell_type": "code",
   "execution_count": null,
   "id": "0775ae72",
   "metadata": {},
   "outputs": [],
   "source": [
    "# Topic: Basics\n",
    "x = 10\n",
    "y = 20\n",
    "print(x + y)"
   ]
  },
  {
   "cell_type": "code",
   "execution_count": null,
   "id": "a6127e15",
   "metadata": {},
   "outputs": [],
   "source": [
    "# Topic: Data Cleaning\n",
    "import pandas as pd\n",
    "df = pd.DataFrame({'A':[1,None,3]})\n",
    "df = df.fillna(0)\n",
    "print(df)"
   ]
  },
  {
   "cell_type": "code",
   "execution_count": null,
   "id": "390481f3",
   "metadata": {},
   "outputs": [],
   "source": [
    "# Topic: Data Cleaning\n",
    "import pandas as pd\n",
    "df = pd.DataFrame({'A':[1,None,3]})\n",
    "df = df.fillna(0)\n",
    "print(df)"
   ]
  },
  {
   "cell_type": "code",
   "execution_count": null,
   "id": "6384db95",
   "metadata": {},
   "outputs": [],
   "source": [
    "# Topic: Regex\n",
    "import re\n",
    "text = 'email: test@example.com'\n",
    "print(re.findall(r'\\S+@\\S+', text))"
   ]
  },
  {
   "cell_type": "code",
   "execution_count": null,
   "id": "92db4e27",
   "metadata": {},
   "outputs": [],
   "source": [
    "# Topic: Data Cleaning\n",
    "import pandas as pd\n",
    "df = pd.DataFrame({'A':[1,None,3]})\n",
    "df = df.fillna(0)\n",
    "print(df)"
   ]
  },
  {
   "cell_type": "code",
   "execution_count": null,
   "id": "5854b7f0",
   "metadata": {},
   "outputs": [],
   "source": [
    "# Topic: Lists & Tuples\n",
    "lst = [1, 2, 3]\n",
    "lst.append(4)\n",
    "print(lst)"
   ]
  },
  {
   "cell_type": "code",
   "execution_count": null,
   "id": "3ffe611d",
   "metadata": {},
   "outputs": [],
   "source": [
    "# Topic: Functions\n",
    "def square(x): return x*x\n",
    "print(square(5))"
   ]
  },
  {
   "cell_type": "code",
   "execution_count": null,
   "id": "a1747845",
   "metadata": {},
   "outputs": [],
   "source": [
    "# Topic: Web Scraping\n",
    "import requests\n",
    "from bs4 import BeautifulSoup\n",
    "r = requests.get('https://example.com')\n",
    "soup = BeautifulSoup(r.text, 'html.parser')\n",
    "print(soup.title.text)"
   ]
  },
  {
   "cell_type": "code",
   "execution_count": null,
   "id": "398bb29a",
   "metadata": {},
   "outputs": [],
   "source": [
    "# Topic: JSON & CSV\n",
    "import csv\n",
    "with open('file.csv', 'w', newline='') as f:\n",
    " csv.writer(f).writerow(['a','b','c'])"
   ]
  },
  {
   "cell_type": "code",
   "execution_count": null,
   "id": "f53cfd64",
   "metadata": {},
   "outputs": [],
   "source": [
    "# Topic: Dictionaries & Sets\n",
    "s = set([1, 2, 3, 2])\n",
    "print(s)"
   ]
  },
  {
   "cell_type": "code",
   "execution_count": null,
   "id": "ba3f9d43",
   "metadata": {},
   "outputs": [],
   "source": [
    "# Topic: Dictionaries & Sets\n",
    "s = set([1, 2, 3, 2])\n",
    "print(s)"
   ]
  },
  {
   "cell_type": "code",
   "execution_count": null,
   "id": "2d6da0fc",
   "metadata": {},
   "outputs": [],
   "source": [
    "# Topic: Pandas\n",
    "import pandas as pd\n",
    "df = pd.read_csv('file.csv')\n",
    "print(df.head())"
   ]
  },
  {
   "cell_type": "code",
   "execution_count": null,
   "id": "3d967138",
   "metadata": {},
   "outputs": [],
   "source": [
    "# Topic: Decorators\n",
    "def log(func):\n",
    " def wrapper():\n",
    "  print('Call')\n",
    "  func()\n",
    " return wrapper\n",
    "@log\n",
    "def say(): print('Hi')\n",
    "say()"
   ]
  },
  {
   "cell_type": "code",
   "execution_count": null,
   "id": "3f886d1f",
   "metadata": {},
   "outputs": [],
   "source": [
    "# Topic: Pandas\n",
    "import pandas as pd\n",
    "df = pd.DataFrame({'A':[1,2],'B':[3,4]})\n",
    "print(df)"
   ]
  },
  {
   "cell_type": "code",
   "execution_count": null,
   "id": "4cd20a19",
   "metadata": {},
   "outputs": [],
   "source": [
    "# Topic: NumPy\n",
    "import numpy as np\n",
    "a = np.array([1, 2, 3])\n",
    "print(a + 5)"
   ]
  },
  {
   "cell_type": "code",
   "execution_count": null,
   "id": "74a3581f",
   "metadata": {},
   "outputs": [],
   "source": [
    "# Topic: Decorators\n",
    "def log(func):\n",
    " def wrapper():\n",
    "  print('Call')\n",
    "  func()\n",
    " return wrapper\n",
    "@log\n",
    "def say(): print('Hi')\n",
    "say()"
   ]
  },
  {
   "cell_type": "code",
   "execution_count": null,
   "id": "6098e7f0",
   "metadata": {},
   "outputs": [],
   "source": [
    "# Topic: Lists & Tuples\n",
    "lst = [1, 2, 3]\n",
    "lst.append(4)\n",
    "print(lst)"
   ]
  },
  {
   "cell_type": "code",
   "execution_count": null,
   "id": "cbb79c2c",
   "metadata": {},
   "outputs": [],
   "source": [
    "# Topic: Data Cleaning\n",
    "import pandas as pd\n",
    "df = pd.DataFrame({'A':[1,None,3]})\n",
    "df = df.fillna(0)\n",
    "print(df)"
   ]
  },
  {
   "cell_type": "code",
   "execution_count": null,
   "id": "c276b33e",
   "metadata": {},
   "outputs": [],
   "source": [
    "# Topic: Regex\n",
    "import re\n",
    "text = 'email: test@example.com'\n",
    "print(re.findall(r'\\S+@\\S+', text))"
   ]
  },
  {
   "cell_type": "code",
   "execution_count": null,
   "id": "91edaa96",
   "metadata": {},
   "outputs": [],
   "source": [
    "# Topic: Lists & Tuples\n",
    "t = (1, 2, 3)\n",
    "print(t[0])"
   ]
  },
  {
   "cell_type": "code",
   "execution_count": null,
   "id": "3fe0de92",
   "metadata": {},
   "outputs": [],
   "source": [
    "# Topic: File I/O\n",
    "with open('test.txt', 'r') as f:\n",
    "    print(f.read())"
   ]
  },
  {
   "cell_type": "code",
   "execution_count": null,
   "id": "59aa679c",
   "metadata": {},
   "outputs": [],
   "source": [
    "# Topic: Sorting Algorithms\n",
    "def bubble_sort(arr):\n",
    " for i in range(len(arr)):\n",
    "  for j in range(0, len(arr)-i-1):\n",
    "   if arr[j]>arr[j+1]: arr[j], arr[j+1]=arr[j+1], arr[j]\n",
    "a = [5,3,8,6]\n",
    "bubble_sort(a)\n",
    "print(a)"
   ]
  },
  {
   "cell_type": "code",
   "execution_count": null,
   "id": "f3c777a9",
   "metadata": {},
   "outputs": [],
   "source": [
    "# Topic: Dictionaries & Sets\n",
    "d = {'name': 'Fahd', 'age': 20}\n",
    "print(d.get('name'))"
   ]
  },
  {
   "cell_type": "code",
   "execution_count": null,
   "id": "a4d485d0",
   "metadata": {},
   "outputs": [],
   "source": [
    "# Topic: JSON & CSV\n",
    "import json\n",
    "data = {'a': 1}\n",
    "print(json.dumps(data))"
   ]
  },
  {
   "cell_type": "code",
   "execution_count": null,
   "id": "28007e36",
   "metadata": {},
   "outputs": [],
   "source": [
    "# Topic: Basics\n",
    "x = 10\n",
    "y = 20\n",
    "print(x + y)"
   ]
  },
  {
   "cell_type": "code",
   "execution_count": null,
   "id": "9c2ea622",
   "metadata": {},
   "outputs": [],
   "source": [
    "# Topic: Web Scraping\n",
    "import requests\n",
    "from bs4 import BeautifulSoup\n",
    "r = requests.get('https://example.com')\n",
    "soup = BeautifulSoup(r.text, 'html.parser')\n",
    "print(soup.title.text)"
   ]
  },
  {
   "cell_type": "code",
   "execution_count": null,
   "id": "7b421420",
   "metadata": {},
   "outputs": [],
   "source": [
    "# Topic: Web Scraping\n",
    "import requests\n",
    "from bs4 import BeautifulSoup\n",
    "r = requests.get('https://example.com')\n",
    "soup = BeautifulSoup(r.text, 'html.parser')\n",
    "print(soup.title.text)"
   ]
  },
  {
   "cell_type": "code",
   "execution_count": null,
   "id": "bb2beab1",
   "metadata": {},
   "outputs": [],
   "source": [
    "# Topic: Basics\n",
    "x = 10\n",
    "y = 20\n",
    "print(x + y)"
   ]
  },
  {
   "cell_type": "code",
   "execution_count": null,
   "id": "38c2be6e",
   "metadata": {},
   "outputs": [],
   "source": [
    "# Topic: Web Scraping\n",
    "import requests\n",
    "from bs4 import BeautifulSoup\n",
    "r = requests.get('https://example.com')\n",
    "soup = BeautifulSoup(r.text, 'html.parser')\n",
    "print(soup.title.text)"
   ]
  },
  {
   "cell_type": "code",
   "execution_count": null,
   "id": "59ee842c",
   "metadata": {},
   "outputs": [],
   "source": [
    "# Topic: JSON & CSV\n",
    "import csv\n",
    "with open('file.csv', 'w', newline='') as f:\n",
    " csv.writer(f).writerow(['a','b','c'])"
   ]
  },
  {
   "cell_type": "code",
   "execution_count": null,
   "id": "915c09cf",
   "metadata": {},
   "outputs": [],
   "source": [
    "# Topic: Regex\n",
    "import re\n",
    "text = 'email: test@example.com'\n",
    "print(re.findall(r'\\S+@\\S+', text))"
   ]
  },
  {
   "cell_type": "code",
   "execution_count": null,
   "id": "64fac841",
   "metadata": {},
   "outputs": [],
   "source": [
    "# Topic: Loops\n",
    "for i in range(10): print(i*i)"
   ]
  },
  {
   "cell_type": "code",
   "execution_count": null,
   "id": "70318ec4",
   "metadata": {},
   "outputs": [],
   "source": [
    "# Topic: Web Scraping\n",
    "import requests\n",
    "from bs4 import BeautifulSoup\n",
    "r = requests.get('https://example.com')\n",
    "soup = BeautifulSoup(r.text, 'html.parser')\n",
    "print(soup.title.text)"
   ]
  },
  {
   "cell_type": "code",
   "execution_count": null,
   "id": "5dff0edf",
   "metadata": {},
   "outputs": [],
   "source": [
    "# Topic: Matplotlib & Seaborn\n",
    "import matplotlib.pyplot as plt\n",
    "plt.plot([1,2],[3,4])\n",
    "plt.show()"
   ]
  },
  {
   "cell_type": "code",
   "execution_count": null,
   "id": "836de0eb",
   "metadata": {},
   "outputs": [],
   "source": [
    "# Topic: Sorting Algorithms\n",
    "def bubble_sort(arr):\n",
    " for i in range(len(arr)):\n",
    "  for j in range(0, len(arr)-i-1):\n",
    "   if arr[j]>arr[j+1]: arr[j], arr[j+1]=arr[j+1], arr[j]\n",
    "a = [5,3,8,6]\n",
    "bubble_sort(a)\n",
    "print(a)"
   ]
  },
  {
   "cell_type": "code",
   "execution_count": null,
   "id": "d3f3c663",
   "metadata": {},
   "outputs": [],
   "source": [
    "# Topic: OOP\n",
    "class Student:\n",
    "    def __init__(self, name): self.name = name\n",
    "s = Student('Fahd')\n",
    "print(s.name)"
   ]
  },
  {
   "cell_type": "code",
   "execution_count": null,
   "id": "94b7009b",
   "metadata": {},
   "outputs": [],
   "source": [
    "# Topic: Data Cleaning\n",
    "import pandas as pd\n",
    "df = pd.DataFrame({'A':[1,None,3]})\n",
    "df = df.fillna(0)\n",
    "print(df)"
   ]
  },
  {
   "cell_type": "code",
   "execution_count": null,
   "id": "5e6a92c4",
   "metadata": {},
   "outputs": [],
   "source": [
    "# Topic: Loops\n",
    "for i in range(10): print(i*i)"
   ]
  },
  {
   "cell_type": "code",
   "execution_count": null,
   "id": "25a392a5",
   "metadata": {},
   "outputs": [],
   "source": [
    "# Topic: Loops\n",
    "while True:\n",
    "    print('Break')\n",
    "    break"
   ]
  },
  {
   "cell_type": "code",
   "execution_count": null,
   "id": "ae60e97c",
   "metadata": {},
   "outputs": [],
   "source": [
    "# Topic: Basic ML\n",
    "from sklearn.linear_model import LinearRegression\n",
    "model = LinearRegression()\n",
    "print(model)"
   ]
  },
  {
   "cell_type": "code",
   "execution_count": null,
   "id": "0c39bbb3",
   "metadata": {},
   "outputs": [],
   "source": [
    "# Topic: Data Cleaning\n",
    "import pandas as pd\n",
    "df = pd.DataFrame({'A':[1,None,3]})\n",
    "df = df.fillna(0)\n",
    "print(df)"
   ]
  },
  {
   "cell_type": "code",
   "execution_count": null,
   "id": "1de2f5e8",
   "metadata": {},
   "outputs": [],
   "source": [
    "# Topic: Sorting Algorithms\n",
    "def bubble_sort(arr):\n",
    " for i in range(len(arr)):\n",
    "  for j in range(0, len(arr)-i-1):\n",
    "   if arr[j]>arr[j+1]: arr[j], arr[j+1]=arr[j+1], arr[j]\n",
    "a = [5,3,8,6]\n",
    "bubble_sort(a)\n",
    "print(a)"
   ]
  },
  {
   "cell_type": "code",
   "execution_count": null,
   "id": "d275fe63",
   "metadata": {},
   "outputs": [],
   "source": [
    "# Topic: Recursion\n",
    "def fact(n): return 1 if n==0 else n*fact(n-1)\n",
    "print(fact(5))"
   ]
  },
  {
   "cell_type": "code",
   "execution_count": null,
   "id": "f994d356",
   "metadata": {},
   "outputs": [],
   "source": [
    "# Topic: NumPy\n",
    "import numpy as np\n",
    "a = np.array([1, 2, 3])\n",
    "print(a + 5)"
   ]
  },
  {
   "cell_type": "code",
   "execution_count": null,
   "id": "ac7bcbd4",
   "metadata": {},
   "outputs": [],
   "source": [
    "# Topic: Lists & Tuples\n",
    "t = (1, 2, 3)\n",
    "print(t[0])"
   ]
  },
  {
   "cell_type": "code",
   "execution_count": null,
   "id": "66e00ce3",
   "metadata": {},
   "outputs": [],
   "source": [
    "# Topic: Sorting Algorithms\n",
    "def bubble_sort(arr):\n",
    " for i in range(len(arr)):\n",
    "  for j in range(0, len(arr)-i-1):\n",
    "   if arr[j]>arr[j+1]: arr[j], arr[j+1]=arr[j+1], arr[j]\n",
    "a = [5,3,8,6]\n",
    "bubble_sort(a)\n",
    "print(a)"
   ]
  },
  {
   "cell_type": "code",
   "execution_count": null,
   "id": "a82a007b",
   "metadata": {},
   "outputs": [],
   "source": [
    "# Topic: Regex\n",
    "import re\n",
    "text = 'email: test@example.com'\n",
    "print(re.findall(r'\\S+@\\S+', text))"
   ]
  },
  {
   "cell_type": "code",
   "execution_count": null,
   "id": "0b69b11a",
   "metadata": {},
   "outputs": [],
   "source": [
    "# Topic: File I/O\n",
    "with open('test.txt', 'w') as f:\n",
    "    f.write('Hello World')"
   ]
  },
  {
   "cell_type": "code",
   "execution_count": null,
   "id": "ad2ab2e8",
   "metadata": {},
   "outputs": [],
   "source": [
    "# Topic: File I/O\n",
    "with open('test.txt', 'w') as f:\n",
    "    f.write('Hello World')"
   ]
  },
  {
   "cell_type": "code",
   "execution_count": null,
   "id": "6c377a72",
   "metadata": {},
   "outputs": [],
   "source": [
    "# Topic: Dictionaries & Sets\n",
    "d = {'name': 'Fahd', 'age': 20}\n",
    "print(d.get('name'))"
   ]
  },
  {
   "cell_type": "code",
   "execution_count": null,
   "id": "6795f074",
   "metadata": {},
   "outputs": [],
   "source": [
    "# Topic: Regex\n",
    "import re\n",
    "text = 'email: test@example.com'\n",
    "print(re.findall(r'\\S+@\\S+', text))"
   ]
  },
  {
   "cell_type": "code",
   "execution_count": null,
   "id": "b363737a",
   "metadata": {},
   "outputs": [],
   "source": [
    "# Topic: Sorting Algorithms\n",
    "def bubble_sort(arr):\n",
    " for i in range(len(arr)):\n",
    "  for j in range(0, len(arr)-i-1):\n",
    "   if arr[j]>arr[j+1]: arr[j], arr[j+1]=arr[j+1], arr[j]\n",
    "a = [5,3,8,6]\n",
    "bubble_sort(a)\n",
    "print(a)"
   ]
  },
  {
   "cell_type": "code",
   "execution_count": null,
   "id": "67194041",
   "metadata": {},
   "outputs": [],
   "source": [
    "# Topic: Mini Projects\n",
    "# Calculator\n",
    "def calc(a,b,op): return eval(f'{a}{op}{b}')\n",
    "print(calc(5,2,'+'))"
   ]
  },
  {
   "cell_type": "code",
   "execution_count": null,
   "id": "5bef2236",
   "metadata": {},
   "outputs": [],
   "source": [
    "# Topic: Mini Projects\n",
    "# Calculator\n",
    "def calc(a,b,op): return eval(f'{a}{op}{b}')\n",
    "print(calc(5,2,'+'))"
   ]
  },
  {
   "cell_type": "code",
   "execution_count": null,
   "id": "e3b7c49e",
   "metadata": {},
   "outputs": [],
   "source": [
    "# Topic: Regex\n",
    "import re\n",
    "text = 'email: test@example.com'\n",
    "print(re.findall(r'\\S+@\\S+', text))"
   ]
  },
  {
   "cell_type": "code",
   "execution_count": null,
   "id": "3c39f696",
   "metadata": {},
   "outputs": [],
   "source": [
    "# Topic: Basics\n",
    "x = 10\n",
    "y = 20\n",
    "print(x + y)"
   ]
  },
  {
   "cell_type": "code",
   "execution_count": null,
   "id": "4ab25f87",
   "metadata": {},
   "outputs": [],
   "source": [
    "# Topic: Recursion\n",
    "def fact(n): return 1 if n==0 else n*fact(n-1)\n",
    "print(fact(5))"
   ]
  },
  {
   "cell_type": "code",
   "execution_count": null,
   "id": "2f9edf01",
   "metadata": {},
   "outputs": [],
   "source": [
    "# Topic: Matplotlib & Seaborn\n",
    "import matplotlib.pyplot as plt\n",
    "plt.plot([1,2],[3,4])\n",
    "plt.show()"
   ]
  },
  {
   "cell_type": "code",
   "execution_count": null,
   "id": "61f130b8",
   "metadata": {},
   "outputs": [],
   "source": [
    "# Topic: Decorators\n",
    "def log(func):\n",
    " def wrapper():\n",
    "  print('Call')\n",
    "  func()\n",
    " return wrapper\n",
    "@log\n",
    "def say(): print('Hi')\n",
    "say()"
   ]
  },
  {
   "cell_type": "code",
   "execution_count": null,
   "id": "74b2fd0e",
   "metadata": {},
   "outputs": [],
   "source": [
    "# Topic: Matplotlib & Seaborn\n",
    "import matplotlib.pyplot as plt\n",
    "plt.plot([1,2],[3,4])\n",
    "plt.show()"
   ]
  },
  {
   "cell_type": "code",
   "execution_count": null,
   "id": "091351ba",
   "metadata": {},
   "outputs": [],
   "source": [
    "# Topic: Loops\n",
    "for i in range(10): print(i*i)"
   ]
  },
  {
   "cell_type": "code",
   "execution_count": null,
   "id": "9e030b9b",
   "metadata": {},
   "outputs": [],
   "source": [
    "# Topic: Basic ML\n",
    "from sklearn.linear_model import LinearRegression\n",
    "model = LinearRegression()\n",
    "print(model)"
   ]
  },
  {
   "cell_type": "code",
   "execution_count": null,
   "id": "ca3bef6e",
   "metadata": {},
   "outputs": [],
   "source": [
    "# Topic: Pandas\n",
    "import pandas as pd\n",
    "df = pd.read_csv('file.csv')\n",
    "print(df.head())"
   ]
  },
  {
   "cell_type": "code",
   "execution_count": null,
   "id": "a68d61fd",
   "metadata": {},
   "outputs": [],
   "source": [
    "# Topic: Sorting Algorithms\n",
    "def bubble_sort(arr):\n",
    " for i in range(len(arr)):\n",
    "  for j in range(0, len(arr)-i-1):\n",
    "   if arr[j]>arr[j+1]: arr[j], arr[j+1]=arr[j+1], arr[j]\n",
    "a = [5,3,8,6]\n",
    "bubble_sort(a)\n",
    "print(a)"
   ]
  },
  {
   "cell_type": "code",
   "execution_count": null,
   "id": "1a28638d",
   "metadata": {},
   "outputs": [],
   "source": [
    "# Topic: JSON & CSV\n",
    "import csv\n",
    "with open('file.csv', 'w', newline='') as f:\n",
    " csv.writer(f).writerow(['a','b','c'])"
   ]
  },
  {
   "cell_type": "code",
   "execution_count": null,
   "id": "bdfb5128",
   "metadata": {},
   "outputs": [],
   "source": [
    "# Topic: Mini Projects\n",
    "# Palindrome check\n",
    "def is_pal(s): return s == s[::-1]\n",
    "print(is_pal('madam'))"
   ]
  },
  {
   "cell_type": "code",
   "execution_count": null,
   "id": "45e003e2",
   "metadata": {},
   "outputs": [],
   "source": [
    "# Topic: Basics\n",
    "x = 10\n",
    "y = 20\n",
    "print(x + y)"
   ]
  },
  {
   "cell_type": "code",
   "execution_count": null,
   "id": "41a2d587",
   "metadata": {},
   "outputs": [],
   "source": [
    "# Topic: Recursion\n",
    "def fact(n): return 1 if n==0 else n*fact(n-1)\n",
    "print(fact(5))"
   ]
  },
  {
   "cell_type": "code",
   "execution_count": null,
   "id": "82e4d41c",
   "metadata": {},
   "outputs": [],
   "source": [
    "# Topic: Matplotlib & Seaborn\n",
    "import matplotlib.pyplot as plt\n",
    "plt.plot([1,2],[3,4])\n",
    "plt.show()"
   ]
  },
  {
   "cell_type": "code",
   "execution_count": null,
   "id": "75677994",
   "metadata": {},
   "outputs": [],
   "source": [
    "# Topic: Loops\n",
    "while True:\n",
    "    print('Break')\n",
    "    break"
   ]
  },
  {
   "cell_type": "code",
   "execution_count": null,
   "id": "9d061e45",
   "metadata": {},
   "outputs": [],
   "source": [
    "# Topic: Sorting Algorithms\n",
    "def bubble_sort(arr):\n",
    " for i in range(len(arr)):\n",
    "  for j in range(0, len(arr)-i-1):\n",
    "   if arr[j]>arr[j+1]: arr[j], arr[j+1]=arr[j+1], arr[j]\n",
    "a = [5,3,8,6]\n",
    "bubble_sort(a)\n",
    "print(a)"
   ]
  },
  {
   "cell_type": "code",
   "execution_count": null,
   "id": "4364d191",
   "metadata": {},
   "outputs": [],
   "source": [
    "# Topic: Regex\n",
    "import re\n",
    "text = 'email: test@example.com'\n",
    "print(re.findall(r'\\S+@\\S+', text))"
   ]
  },
  {
   "cell_type": "code",
   "execution_count": null,
   "id": "8d9c7dd1",
   "metadata": {},
   "outputs": [],
   "source": [
    "# Topic: Loops\n",
    "while True:\n",
    "    print('Break')\n",
    "    break"
   ]
  },
  {
   "cell_type": "code",
   "execution_count": null,
   "id": "ee214765",
   "metadata": {},
   "outputs": [],
   "source": [
    "# Topic: File I/O\n",
    "with open('test.txt', 'r') as f:\n",
    "    print(f.read())"
   ]
  },
  {
   "cell_type": "code",
   "execution_count": null,
   "id": "19cfe174",
   "metadata": {},
   "outputs": [],
   "source": [
    "# Topic: Decorators\n",
    "def log(func):\n",
    " def wrapper():\n",
    "  print('Call')\n",
    "  func()\n",
    " return wrapper\n",
    "@log\n",
    "def say(): print('Hi')\n",
    "say()"
   ]
  },
  {
   "cell_type": "code",
   "execution_count": null,
   "id": "fcc69607",
   "metadata": {},
   "outputs": [],
   "source": [
    "# Topic: Mini Projects\n",
    "# Palindrome check\n",
    "def is_pal(s): return s == s[::-1]\n",
    "print(is_pal('madam'))"
   ]
  },
  {
   "cell_type": "code",
   "execution_count": null,
   "id": "251e4299",
   "metadata": {},
   "outputs": [],
   "source": [
    "# Topic: Dictionaries & Sets\n",
    "d = {'name': 'Fahd', 'age': 20}\n",
    "print(d.get('name'))"
   ]
  },
  {
   "cell_type": "code",
   "execution_count": null,
   "id": "c7b500a1",
   "metadata": {},
   "outputs": [],
   "source": [
    "# Topic: OOP\n",
    "class Student:\n",
    "    def __init__(self, name): self.name = name\n",
    "s = Student('Fahd')\n",
    "print(s.name)"
   ]
  },
  {
   "cell_type": "code",
   "execution_count": null,
   "id": "54df6dbd",
   "metadata": {},
   "outputs": [],
   "source": [
    "# Topic: Functions\n",
    "def greet(name='User'):\n",
    "    print(f'Hi, {name}')\n",
    "greet()"
   ]
  },
  {
   "cell_type": "code",
   "execution_count": null,
   "id": "3cdb4a0c",
   "metadata": {},
   "outputs": [],
   "source": [
    "# Topic: File I/O\n",
    "with open('test.txt', 'w') as f:\n",
    "    f.write('Hello World')"
   ]
  },
  {
   "cell_type": "code",
   "execution_count": null,
   "id": "2d22df0b",
   "metadata": {},
   "outputs": [],
   "source": [
    "# Topic: Decorators\n",
    "def log(func):\n",
    " def wrapper():\n",
    "  print('Call')\n",
    "  func()\n",
    " return wrapper\n",
    "@log\n",
    "def say(): print('Hi')\n",
    "say()"
   ]
  },
  {
   "cell_type": "code",
   "execution_count": null,
   "id": "93955325",
   "metadata": {},
   "outputs": [],
   "source": [
    "# Topic: Dictionaries & Sets\n",
    "d = {'name': 'Fahd', 'age': 20}\n",
    "print(d.get('name'))"
   ]
  },
  {
   "cell_type": "code",
   "execution_count": null,
   "id": "55890b04",
   "metadata": {},
   "outputs": [],
   "source": [
    "# Topic: Mini Projects\n",
    "# Palindrome check\n",
    "def is_pal(s): return s == s[::-1]\n",
    "print(is_pal('madam'))"
   ]
  },
  {
   "cell_type": "code",
   "execution_count": null,
   "id": "12f011ca",
   "metadata": {},
   "outputs": [],
   "source": [
    "# Topic: Functions\n",
    "def square(x): return x*x\n",
    "print(square(5))"
   ]
  },
  {
   "cell_type": "code",
   "execution_count": null,
   "id": "dcc561a5",
   "metadata": {},
   "outputs": [],
   "source": [
    "# Topic: Decorators\n",
    "def log(func):\n",
    " def wrapper():\n",
    "  print('Call')\n",
    "  func()\n",
    " return wrapper\n",
    "@log\n",
    "def say(): print('Hi')\n",
    "say()"
   ]
  },
  {
   "cell_type": "code",
   "execution_count": null,
   "id": "dbbef6c2",
   "metadata": {},
   "outputs": [],
   "source": [
    "# Topic: Mini Projects\n",
    "# Palindrome check\n",
    "def is_pal(s): return s == s[::-1]\n",
    "print(is_pal('madam'))"
   ]
  },
  {
   "cell_type": "code",
   "execution_count": null,
   "id": "1d3ec94b",
   "metadata": {},
   "outputs": [],
   "source": [
    "# Topic: Functions\n",
    "def greet(name='User'):\n",
    "    print(f'Hi, {name}')\n",
    "greet()"
   ]
  },
  {
   "cell_type": "code",
   "execution_count": null,
   "id": "2726895d",
   "metadata": {},
   "outputs": [],
   "source": [
    "# Topic: Dictionaries & Sets\n",
    "s = set([1, 2, 3, 2])\n",
    "print(s)"
   ]
  },
  {
   "cell_type": "code",
   "execution_count": null,
   "id": "f1162872",
   "metadata": {},
   "outputs": [],
   "source": [
    "# Topic: Basics\n",
    "x = 10\n",
    "y = 20\n",
    "print(x + y)"
   ]
  },
  {
   "cell_type": "code",
   "execution_count": null,
   "id": "4e0139df",
   "metadata": {},
   "outputs": [],
   "source": [
    "# Topic: JSON & CSV\n",
    "import csv\n",
    "with open('file.csv', 'w', newline='') as f:\n",
    " csv.writer(f).writerow(['a','b','c'])"
   ]
  },
  {
   "cell_type": "code",
   "execution_count": null,
   "id": "184ee8c6",
   "metadata": {},
   "outputs": [],
   "source": [
    "# Topic: Functions\n",
    "def greet(name='User'):\n",
    "    print(f'Hi, {name}')\n",
    "greet()"
   ]
  },
  {
   "cell_type": "code",
   "execution_count": null,
   "id": "c00ac836",
   "metadata": {},
   "outputs": [],
   "source": [
    "# Topic: Decorators\n",
    "def log(func):\n",
    " def wrapper():\n",
    "  print('Call')\n",
    "  func()\n",
    " return wrapper\n",
    "@log\n",
    "def say(): print('Hi')\n",
    "say()"
   ]
  },
  {
   "cell_type": "code",
   "execution_count": null,
   "id": "27057f76",
   "metadata": {},
   "outputs": [],
   "source": [
    "# Topic: Web Scraping\n",
    "import requests\n",
    "from bs4 import BeautifulSoup\n",
    "r = requests.get('https://example.com')\n",
    "soup = BeautifulSoup(r.text, 'html.parser')\n",
    "print(soup.title.text)"
   ]
  },
  {
   "cell_type": "code",
   "execution_count": null,
   "id": "f2b2aace",
   "metadata": {},
   "outputs": [],
   "source": [
    "# Topic: File I/O\n",
    "with open('test.txt', 'w') as f:\n",
    "    f.write('Hello World')"
   ]
  },
  {
   "cell_type": "code",
   "execution_count": null,
   "id": "c46c2635",
   "metadata": {},
   "outputs": [],
   "source": [
    "# Topic: OOP\n",
    "class Student:\n",
    "    def __init__(self, name): self.name = name\n",
    "s = Student('Fahd')\n",
    "print(s.name)"
   ]
  },
  {
   "cell_type": "code",
   "execution_count": null,
   "id": "39b98d69",
   "metadata": {},
   "outputs": [],
   "source": [
    "# Topic: Web Scraping\n",
    "import requests\n",
    "from bs4 import BeautifulSoup\n",
    "r = requests.get('https://example.com')\n",
    "soup = BeautifulSoup(r.text, 'html.parser')\n",
    "print(soup.title.text)"
   ]
  },
  {
   "cell_type": "code",
   "execution_count": null,
   "id": "db58806c",
   "metadata": {},
   "outputs": [],
   "source": [
    "# Topic: OOP\n",
    "class Student:\n",
    "    def __init__(self, name): self.name = name\n",
    "s = Student('Fahd')\n",
    "print(s.name)"
   ]
  },
  {
   "cell_type": "code",
   "execution_count": null,
   "id": "d4c3e581",
   "metadata": {},
   "outputs": [],
   "source": [
    "# Topic: File I/O\n",
    "with open('test.txt', 'r') as f:\n",
    "    print(f.read())"
   ]
  },
  {
   "cell_type": "code",
   "execution_count": null,
   "id": "b8c52b31",
   "metadata": {},
   "outputs": [],
   "source": [
    "# Topic: Recursion\n",
    "def fact(n): return 1 if n==0 else n*fact(n-1)\n",
    "print(fact(5))"
   ]
  },
  {
   "cell_type": "code",
   "execution_count": null,
   "id": "cf58e251",
   "metadata": {},
   "outputs": [],
   "source": [
    "# Topic: Regex\n",
    "import re\n",
    "text = 'email: test@example.com'\n",
    "print(re.findall(r'\\S+@\\S+', text))"
   ]
  },
  {
   "cell_type": "code",
   "execution_count": null,
   "id": "c633fd3a",
   "metadata": {},
   "outputs": [],
   "source": [
    "# Topic: NumPy\n",
    "import numpy as np\n",
    "a = np.array([1, 2, 3])\n",
    "print(a + 5)"
   ]
  },
  {
   "cell_type": "code",
   "execution_count": null,
   "id": "88754dad",
   "metadata": {},
   "outputs": [],
   "source": [
    "# Topic: Decorators\n",
    "def log(func):\n",
    " def wrapper():\n",
    "  print('Call')\n",
    "  func()\n",
    " return wrapper\n",
    "@log\n",
    "def say(): print('Hi')\n",
    "say()"
   ]
  },
  {
   "cell_type": "code",
   "execution_count": null,
   "id": "08320207",
   "metadata": {},
   "outputs": [],
   "source": [
    "# Topic: Basic ML\n",
    "from sklearn.linear_model import LinearRegression\n",
    "model = LinearRegression()\n",
    "print(model)"
   ]
  },
  {
   "cell_type": "code",
   "execution_count": null,
   "id": "28190ffb",
   "metadata": {},
   "outputs": [],
   "source": [
    "# Topic: Web Scraping\n",
    "import requests\n",
    "from bs4 import BeautifulSoup\n",
    "r = requests.get('https://example.com')\n",
    "soup = BeautifulSoup(r.text, 'html.parser')\n",
    "print(soup.title.text)"
   ]
  },
  {
   "cell_type": "code",
   "execution_count": null,
   "id": "c32d13a3",
   "metadata": {},
   "outputs": [],
   "source": [
    "# Topic: Mini Projects\n",
    "# Calculator\n",
    "def calc(a,b,op): return eval(f'{a}{op}{b}')\n",
    "print(calc(5,2,'+'))"
   ]
  },
  {
   "cell_type": "code",
   "execution_count": null,
   "id": "6e98a32b",
   "metadata": {},
   "outputs": [],
   "source": [
    "# Topic: Web Scraping\n",
    "import requests\n",
    "from bs4 import BeautifulSoup\n",
    "r = requests.get('https://example.com')\n",
    "soup = BeautifulSoup(r.text, 'html.parser')\n",
    "print(soup.title.text)"
   ]
  },
  {
   "cell_type": "code",
   "execution_count": null,
   "id": "c8d58e9e",
   "metadata": {},
   "outputs": [],
   "source": [
    "# Topic: OOP\n",
    "class Student:\n",
    "    def __init__(self, name): self.name = name\n",
    "s = Student('Fahd')\n",
    "print(s.name)"
   ]
  },
  {
   "cell_type": "code",
   "execution_count": null,
   "id": "5532b4d6",
   "metadata": {},
   "outputs": [],
   "source": [
    "# Topic: Regex\n",
    "import re\n",
    "text = 'email: test@example.com'\n",
    "print(re.findall(r'\\S+@\\S+', text))"
   ]
  },
  {
   "cell_type": "code",
   "execution_count": null,
   "id": "0c392ae9",
   "metadata": {},
   "outputs": [],
   "source": [
    "# Topic: Loops\n",
    "for i in range(10): print(i*i)"
   ]
  },
  {
   "cell_type": "code",
   "execution_count": null,
   "id": "b53e4afc",
   "metadata": {},
   "outputs": [],
   "source": [
    "# Topic: Mini Projects\n",
    "# Palindrome check\n",
    "def is_pal(s): return s == s[::-1]\n",
    "print(is_pal('madam'))"
   ]
  },
  {
   "cell_type": "code",
   "execution_count": null,
   "id": "ca4a648f",
   "metadata": {},
   "outputs": [],
   "source": [
    "# Topic: Recursion\n",
    "def fact(n): return 1 if n==0 else n*fact(n-1)\n",
    "print(fact(5))"
   ]
  },
  {
   "cell_type": "code",
   "execution_count": null,
   "id": "92c19be2",
   "metadata": {},
   "outputs": [],
   "source": [
    "# Topic: Recursion\n",
    "def fact(n): return 1 if n==0 else n*fact(n-1)\n",
    "print(fact(5))"
   ]
  },
  {
   "cell_type": "code",
   "execution_count": null,
   "id": "3a3e8f66",
   "metadata": {},
   "outputs": [],
   "source": [
    "# Topic: JSON & CSV\n",
    "import json\n",
    "data = {'a': 1}\n",
    "print(json.dumps(data))"
   ]
  },
  {
   "cell_type": "code",
   "execution_count": null,
   "id": "94512ee2",
   "metadata": {},
   "outputs": [],
   "source": [
    "# Topic: Web Scraping\n",
    "import requests\n",
    "from bs4 import BeautifulSoup\n",
    "r = requests.get('https://example.com')\n",
    "soup = BeautifulSoup(r.text, 'html.parser')\n",
    "print(soup.title.text)"
   ]
  },
  {
   "cell_type": "code",
   "execution_count": null,
   "id": "8b80b8a4",
   "metadata": {},
   "outputs": [],
   "source": [
    "# Topic: Mini Projects\n",
    "# Calculator\n",
    "def calc(a,b,op): return eval(f'{a}{op}{b}')\n",
    "print(calc(5,2,'+'))"
   ]
  },
  {
   "cell_type": "code",
   "execution_count": null,
   "id": "153b7f90",
   "metadata": {},
   "outputs": [],
   "source": [
    "# Topic: Lists & Tuples\n",
    "lst = [1, 2, 3]\n",
    "lst.append(4)\n",
    "print(lst)"
   ]
  },
  {
   "cell_type": "code",
   "execution_count": null,
   "id": "6a6bcc93",
   "metadata": {},
   "outputs": [],
   "source": [
    "# Topic: Decorators\n",
    "def log(func):\n",
    " def wrapper():\n",
    "  print('Call')\n",
    "  func()\n",
    " return wrapper\n",
    "@log\n",
    "def say(): print('Hi')\n",
    "say()"
   ]
  },
  {
   "cell_type": "code",
   "execution_count": null,
   "id": "68f61d74",
   "metadata": {},
   "outputs": [],
   "source": [
    "# Topic: Matplotlib & Seaborn\n",
    "import seaborn as sns\n",
    "import pandas as pd\n",
    "sns.set()\n",
    "sns.histplot(pd.Series([1,2,2,3]));"
   ]
  },
  {
   "cell_type": "code",
   "execution_count": null,
   "id": "765a6bb8",
   "metadata": {},
   "outputs": [],
   "source": [
    "# Topic: Pandas\n",
    "import pandas as pd\n",
    "df = pd.DataFrame({'A':[1,2],'B':[3,4]})\n",
    "print(df)"
   ]
  },
  {
   "cell_type": "code",
   "execution_count": null,
   "id": "2771e128",
   "metadata": {},
   "outputs": [],
   "source": [
    "# Topic: Matplotlib & Seaborn\n",
    "import matplotlib.pyplot as plt\n",
    "plt.plot([1,2],[3,4])\n",
    "plt.show()"
   ]
  },
  {
   "cell_type": "code",
   "execution_count": null,
   "id": "3428bd82",
   "metadata": {},
   "outputs": [],
   "source": [
    "# Topic: Regex\n",
    "import re\n",
    "text = 'email: test@example.com'\n",
    "print(re.findall(r'\\S+@\\S+', text))"
   ]
  },
  {
   "cell_type": "code",
   "execution_count": null,
   "id": "fb5fb98a",
   "metadata": {},
   "outputs": [],
   "source": [
    "# Topic: Sorting Algorithms\n",
    "def bubble_sort(arr):\n",
    " for i in range(len(arr)):\n",
    "  for j in range(0, len(arr)-i-1):\n",
    "   if arr[j]>arr[j+1]: arr[j], arr[j+1]=arr[j+1], arr[j]\n",
    "a = [5,3,8,6]\n",
    "bubble_sort(a)\n",
    "print(a)"
   ]
  },
  {
   "cell_type": "code",
   "execution_count": null,
   "id": "368ccb68",
   "metadata": {},
   "outputs": [],
   "source": [
    "# Topic: Pandas\n",
    "import pandas as pd\n",
    "df = pd.DataFrame({'A':[1,2],'B':[3,4]})\n",
    "print(df)"
   ]
  },
  {
   "cell_type": "code",
   "execution_count": null,
   "id": "1fd0f8d6",
   "metadata": {},
   "outputs": [],
   "source": [
    "# Topic: Lists & Tuples\n",
    "t = (1, 2, 3)\n",
    "print(t[0])"
   ]
  },
  {
   "cell_type": "code",
   "execution_count": null,
   "id": "e3c79b29",
   "metadata": {},
   "outputs": [],
   "source": [
    "# Topic: JSON & CSV\n",
    "import json\n",
    "data = {'a': 1}\n",
    "print(json.dumps(data))"
   ]
  },
  {
   "cell_type": "code",
   "execution_count": null,
   "id": "c10f603e",
   "metadata": {},
   "outputs": [],
   "source": [
    "# Topic: Web Scraping\n",
    "import requests\n",
    "from bs4 import BeautifulSoup\n",
    "r = requests.get('https://example.com')\n",
    "soup = BeautifulSoup(r.text, 'html.parser')\n",
    "print(soup.title.text)"
   ]
  },
  {
   "cell_type": "code",
   "execution_count": null,
   "id": "4b831c17",
   "metadata": {},
   "outputs": [],
   "source": [
    "# Topic: NumPy\n",
    "import numpy as np\n",
    "print(np.linspace(0, 1, 5))"
   ]
  },
  {
   "cell_type": "code",
   "execution_count": null,
   "id": "6f16a42c",
   "metadata": {},
   "outputs": [],
   "source": [
    "# Topic: Basic ML\n",
    "from sklearn.linear_model import LinearRegression\n",
    "model = LinearRegression()\n",
    "print(model)"
   ]
  },
  {
   "cell_type": "code",
   "execution_count": null,
   "id": "2b4ec815",
   "metadata": {},
   "outputs": [],
   "source": [
    "# Topic: NumPy\n",
    "import numpy as np\n",
    "print(np.linspace(0, 1, 5))"
   ]
  },
  {
   "cell_type": "code",
   "execution_count": null,
   "id": "be95545b",
   "metadata": {},
   "outputs": [],
   "source": [
    "# Topic: Regex\n",
    "import re\n",
    "text = 'email: test@example.com'\n",
    "print(re.findall(r'\\S+@\\S+', text))"
   ]
  },
  {
   "cell_type": "code",
   "execution_count": null,
   "id": "cff1c9d5",
   "metadata": {},
   "outputs": [],
   "source": [
    "# Topic: Decorators\n",
    "def log(func):\n",
    " def wrapper():\n",
    "  print('Call')\n",
    "  func()\n",
    " return wrapper\n",
    "@log\n",
    "def say(): print('Hi')\n",
    "say()"
   ]
  },
  {
   "cell_type": "code",
   "execution_count": null,
   "id": "e428dfd5",
   "metadata": {},
   "outputs": [],
   "source": [
    "# Topic: NumPy\n",
    "import numpy as np\n",
    "print(np.linspace(0, 1, 5))"
   ]
  },
  {
   "cell_type": "code",
   "execution_count": null,
   "id": "dffa34f5",
   "metadata": {},
   "outputs": [],
   "source": [
    "# Topic: Matplotlib & Seaborn\n",
    "import matplotlib.pyplot as plt\n",
    "plt.plot([1,2],[3,4])\n",
    "plt.show()"
   ]
  },
  {
   "cell_type": "code",
   "execution_count": null,
   "id": "bd8c5eda",
   "metadata": {},
   "outputs": [],
   "source": [
    "# Topic: Pandas\n",
    "import pandas as pd\n",
    "df = pd.DataFrame({'A':[1,2],'B':[3,4]})\n",
    "print(df)"
   ]
  },
  {
   "cell_type": "code",
   "execution_count": null,
   "id": "d9621ddf",
   "metadata": {},
   "outputs": [],
   "source": [
    "# Topic: Lists & Tuples\n",
    "lst = [1, 2, 3]\n",
    "lst.append(4)\n",
    "print(lst)"
   ]
  },
  {
   "cell_type": "code",
   "execution_count": null,
   "id": "5e6f8986",
   "metadata": {},
   "outputs": [],
   "source": [
    "# Topic: Matplotlib & Seaborn\n",
    "import seaborn as sns\n",
    "import pandas as pd\n",
    "sns.set()\n",
    "sns.histplot(pd.Series([1,2,2,3]));"
   ]
  },
  {
   "cell_type": "code",
   "execution_count": null,
   "id": "af297f7d",
   "metadata": {},
   "outputs": [],
   "source": [
    "# Topic: Loops\n",
    "for i in range(10): print(i*i)"
   ]
  },
  {
   "cell_type": "code",
   "execution_count": null,
   "id": "614d2447",
   "metadata": {},
   "outputs": [],
   "source": [
    "# Topic: Lists & Tuples\n",
    "t = (1, 2, 3)\n",
    "print(t[0])"
   ]
  },
  {
   "cell_type": "code",
   "execution_count": null,
   "id": "2cef6677",
   "metadata": {},
   "outputs": [],
   "source": [
    "# Topic: File I/O\n",
    "with open('test.txt', 'w') as f:\n",
    "    f.write('Hello World')"
   ]
  },
  {
   "cell_type": "code",
   "execution_count": null,
   "id": "918b27d2",
   "metadata": {},
   "outputs": [],
   "source": [
    "# Topic: Sorting Algorithms\n",
    "def bubble_sort(arr):\n",
    " for i in range(len(arr)):\n",
    "  for j in range(0, len(arr)-i-1):\n",
    "   if arr[j]>arr[j+1]: arr[j], arr[j+1]=arr[j+1], arr[j]\n",
    "a = [5,3,8,6]\n",
    "bubble_sort(a)\n",
    "print(a)"
   ]
  },
  {
   "cell_type": "code",
   "execution_count": null,
   "id": "a3c61bcb",
   "metadata": {},
   "outputs": [],
   "source": [
    "# Topic: Matplotlib & Seaborn\n",
    "import seaborn as sns\n",
    "import pandas as pd\n",
    "sns.set()\n",
    "sns.histplot(pd.Series([1,2,2,3]));"
   ]
  },
  {
   "cell_type": "code",
   "execution_count": null,
   "id": "caa6d210",
   "metadata": {},
   "outputs": [],
   "source": [
    "# Topic: Dictionaries & Sets\n",
    "s = set([1, 2, 3, 2])\n",
    "print(s)"
   ]
  },
  {
   "cell_type": "code",
   "execution_count": null,
   "id": "648c9117",
   "metadata": {},
   "outputs": [],
   "source": [
    "# Topic: Sorting Algorithms\n",
    "def bubble_sort(arr):\n",
    " for i in range(len(arr)):\n",
    "  for j in range(0, len(arr)-i-1):\n",
    "   if arr[j]>arr[j+1]: arr[j], arr[j+1]=arr[j+1], arr[j]\n",
    "a = [5,3,8,6]\n",
    "bubble_sort(a)\n",
    "print(a)"
   ]
  },
  {
   "cell_type": "code",
   "execution_count": null,
   "id": "cff13762",
   "metadata": {},
   "outputs": [],
   "source": [
    "# Topic: Basics\n",
    "x = 10\n",
    "y = 20\n",
    "print(x + y)"
   ]
  },
  {
   "cell_type": "code",
   "execution_count": null,
   "id": "fa75e7be",
   "metadata": {},
   "outputs": [],
   "source": [
    "# Topic: JSON & CSV\n",
    "import json\n",
    "data = {'a': 1}\n",
    "print(json.dumps(data))"
   ]
  },
  {
   "cell_type": "code",
   "execution_count": null,
   "id": "cb57db7a",
   "metadata": {},
   "outputs": [],
   "source": [
    "# Topic: Functions\n",
    "def greet(name='User'):\n",
    "    print(f'Hi, {name}')\n",
    "greet()"
   ]
  },
  {
   "cell_type": "code",
   "execution_count": null,
   "id": "4141a1d1",
   "metadata": {},
   "outputs": [],
   "source": [
    "# Topic: Mini Projects\n",
    "# Palindrome check\n",
    "def is_pal(s): return s == s[::-1]\n",
    "print(is_pal('madam'))"
   ]
  },
  {
   "cell_type": "code",
   "execution_count": null,
   "id": "696177f7",
   "metadata": {},
   "outputs": [],
   "source": [
    "# Topic: Recursion\n",
    "def fact(n): return 1 if n==0 else n*fact(n-1)\n",
    "print(fact(5))"
   ]
  },
  {
   "cell_type": "code",
   "execution_count": null,
   "id": "6d277fce",
   "metadata": {},
   "outputs": [],
   "source": [
    "# Topic: Matplotlib & Seaborn\n",
    "import seaborn as sns\n",
    "import pandas as pd\n",
    "sns.set()\n",
    "sns.histplot(pd.Series([1,2,2,3]));"
   ]
  },
  {
   "cell_type": "code",
   "execution_count": null,
   "id": "6e7dae88",
   "metadata": {},
   "outputs": [],
   "source": [
    "# Topic: NumPy\n",
    "import numpy as np\n",
    "a = np.array([1, 2, 3])\n",
    "print(a + 5)"
   ]
  },
  {
   "cell_type": "code",
   "execution_count": null,
   "id": "0c15f437",
   "metadata": {},
   "outputs": [],
   "source": [
    "# Topic: Lists & Tuples\n",
    "t = (1, 2, 3)\n",
    "print(t[0])"
   ]
  },
  {
   "cell_type": "code",
   "execution_count": null,
   "id": "a2dec00a",
   "metadata": {},
   "outputs": [],
   "source": [
    "# Topic: Web Scraping\n",
    "import requests\n",
    "from bs4 import BeautifulSoup\n",
    "r = requests.get('https://example.com')\n",
    "soup = BeautifulSoup(r.text, 'html.parser')\n",
    "print(soup.title.text)"
   ]
  },
  {
   "cell_type": "code",
   "execution_count": null,
   "id": "2327cdc4",
   "metadata": {},
   "outputs": [],
   "source": [
    "# Topic: Regex\n",
    "import re\n",
    "text = 'email: test@example.com'\n",
    "print(re.findall(r'\\S+@\\S+', text))"
   ]
  },
  {
   "cell_type": "code",
   "execution_count": null,
   "id": "7e320a65",
   "metadata": {},
   "outputs": [],
   "source": [
    "# Topic: Loops\n",
    "for i in range(10): print(i*i)"
   ]
  },
  {
   "cell_type": "code",
   "execution_count": null,
   "id": "13f12ae6",
   "metadata": {},
   "outputs": [],
   "source": [
    "# Topic: Decorators\n",
    "def log(func):\n",
    " def wrapper():\n",
    "  print('Call')\n",
    "  func()\n",
    " return wrapper\n",
    "@log\n",
    "def say(): print('Hi')\n",
    "say()"
   ]
  },
  {
   "cell_type": "code",
   "execution_count": null,
   "id": "c2535f80",
   "metadata": {},
   "outputs": [],
   "source": [
    "# Topic: Recursion\n",
    "def fact(n): return 1 if n==0 else n*fact(n-1)\n",
    "print(fact(5))"
   ]
  },
  {
   "cell_type": "code",
   "execution_count": null,
   "id": "8ef82f71",
   "metadata": {},
   "outputs": [],
   "source": [
    "# Topic: Recursion\n",
    "def fact(n): return 1 if n==0 else n*fact(n-1)\n",
    "print(fact(5))"
   ]
  },
  {
   "cell_type": "code",
   "execution_count": null,
   "id": "56bbe972",
   "metadata": {},
   "outputs": [],
   "source": [
    "# Topic: Loops\n",
    "for i in range(10): print(i*i)"
   ]
  },
  {
   "cell_type": "code",
   "execution_count": null,
   "id": "e62e3775",
   "metadata": {},
   "outputs": [],
   "source": [
    "# Topic: File I/O\n",
    "with open('test.txt', 'r') as f:\n",
    "    print(f.read())"
   ]
  },
  {
   "cell_type": "code",
   "execution_count": null,
   "id": "0a64effd",
   "metadata": {},
   "outputs": [],
   "source": [
    "# Topic: Recursion\n",
    "def fact(n): return 1 if n==0 else n*fact(n-1)\n",
    "print(fact(5))"
   ]
  },
  {
   "cell_type": "code",
   "execution_count": null,
   "id": "522abe30",
   "metadata": {},
   "outputs": [],
   "source": [
    "# Topic: File I/O\n",
    "with open('test.txt', 'r') as f:\n",
    "    print(f.read())"
   ]
  },
  {
   "cell_type": "code",
   "execution_count": null,
   "id": "2117cf78",
   "metadata": {},
   "outputs": [],
   "source": [
    "# Topic: Regex\n",
    "import re\n",
    "text = 'email: test@example.com'\n",
    "print(re.findall(r'\\S+@\\S+', text))"
   ]
  },
  {
   "cell_type": "code",
   "execution_count": null,
   "id": "65d0a347",
   "metadata": {},
   "outputs": [],
   "source": [
    "# Topic: Regex\n",
    "import re\n",
    "text = 'email: test@example.com'\n",
    "print(re.findall(r'\\S+@\\S+', text))"
   ]
  },
  {
   "cell_type": "code",
   "execution_count": null,
   "id": "b8541e6b",
   "metadata": {},
   "outputs": [],
   "source": [
    "# Topic: Functions\n",
    "def square(x): return x*x\n",
    "print(square(5))"
   ]
  },
  {
   "cell_type": "code",
   "execution_count": null,
   "id": "ac7ba152",
   "metadata": {},
   "outputs": [],
   "source": [
    "# Topic: Pandas\n",
    "import pandas as pd\n",
    "df = pd.DataFrame({'A':[1,2],'B':[3,4]})\n",
    "print(df)"
   ]
  },
  {
   "cell_type": "code",
   "execution_count": null,
   "id": "da98ca05",
   "metadata": {},
   "outputs": [],
   "source": [
    "# Topic: Regex\n",
    "import re\n",
    "text = 'email: test@example.com'\n",
    "print(re.findall(r'\\S+@\\S+', text))"
   ]
  },
  {
   "cell_type": "code",
   "execution_count": null,
   "id": "b1f4c5f4",
   "metadata": {},
   "outputs": [],
   "source": [
    "# Topic: Functions\n",
    "def square(x): return x*x\n",
    "print(square(5))"
   ]
  },
  {
   "cell_type": "code",
   "execution_count": null,
   "id": "16dd8616",
   "metadata": {},
   "outputs": [],
   "source": [
    "# Topic: Mini Projects\n",
    "# Calculator\n",
    "def calc(a,b,op): return eval(f'{a}{op}{b}')\n",
    "print(calc(5,2,'+'))"
   ]
  },
  {
   "cell_type": "code",
   "execution_count": null,
   "id": "6926430b",
   "metadata": {},
   "outputs": [],
   "source": [
    "# Topic: Sorting Algorithms\n",
    "def bubble_sort(arr):\n",
    " for i in range(len(arr)):\n",
    "  for j in range(0, len(arr)-i-1):\n",
    "   if arr[j]>arr[j+1]: arr[j], arr[j+1]=arr[j+1], arr[j]\n",
    "a = [5,3,8,6]\n",
    "bubble_sort(a)\n",
    "print(a)"
   ]
  },
  {
   "cell_type": "code",
   "execution_count": null,
   "id": "59bd833f",
   "metadata": {},
   "outputs": [],
   "source": [
    "# Topic: Dictionaries & Sets\n",
    "d = {'name': 'Fahd', 'age': 20}\n",
    "print(d.get('name'))"
   ]
  },
  {
   "cell_type": "code",
   "execution_count": null,
   "id": "06fe6e60",
   "metadata": {},
   "outputs": [],
   "source": [
    "# Topic: JSON & CSV\n",
    "import csv\n",
    "with open('file.csv', 'w', newline='') as f:\n",
    " csv.writer(f).writerow(['a','b','c'])"
   ]
  },
  {
   "cell_type": "code",
   "execution_count": null,
   "id": "d9c9d311",
   "metadata": {},
   "outputs": [],
   "source": [
    "# Topic: NumPy\n",
    "import numpy as np\n",
    "a = np.array([1, 2, 3])\n",
    "print(a + 5)"
   ]
  },
  {
   "cell_type": "code",
   "execution_count": null,
   "id": "043845a7",
   "metadata": {},
   "outputs": [],
   "source": [
    "# Topic: Functions\n",
    "def square(x): return x*x\n",
    "print(square(5))"
   ]
  },
  {
   "cell_type": "code",
   "execution_count": null,
   "id": "fa3ab004",
   "metadata": {},
   "outputs": [],
   "source": [
    "# Topic: Basic ML\n",
    "from sklearn.linear_model import LinearRegression\n",
    "model = LinearRegression()\n",
    "print(model)"
   ]
  },
  {
   "cell_type": "code",
   "execution_count": null,
   "id": "15765310",
   "metadata": {},
   "outputs": [],
   "source": [
    "# Topic: Mini Projects\n",
    "# Palindrome check\n",
    "def is_pal(s): return s == s[::-1]\n",
    "print(is_pal('madam'))"
   ]
  },
  {
   "cell_type": "code",
   "execution_count": null,
   "id": "1ff38296",
   "metadata": {},
   "outputs": [],
   "source": [
    "# Topic: Pandas\n",
    "import pandas as pd\n",
    "df = pd.read_csv('file.csv')\n",
    "print(df.head())"
   ]
  },
  {
   "cell_type": "code",
   "execution_count": null,
   "id": "1a9398fe",
   "metadata": {},
   "outputs": [],
   "source": [
    "# Topic: JSON & CSV\n",
    "import json\n",
    "data = {'a': 1}\n",
    "print(json.dumps(data))"
   ]
  },
  {
   "cell_type": "code",
   "execution_count": null,
   "id": "0554a7d0",
   "metadata": {},
   "outputs": [],
   "source": [
    "# Topic: Recursion\n",
    "def fact(n): return 1 if n==0 else n*fact(n-1)\n",
    "print(fact(5))"
   ]
  },
  {
   "cell_type": "code",
   "execution_count": null,
   "id": "5b3a31f6",
   "metadata": {},
   "outputs": [],
   "source": [
    "# Topic: Functions\n",
    "def square(x): return x*x\n",
    "print(square(5))"
   ]
  },
  {
   "cell_type": "code",
   "execution_count": null,
   "id": "48ade6dd",
   "metadata": {},
   "outputs": [],
   "source": [
    "# Topic: Mini Projects\n",
    "# Palindrome check\n",
    "def is_pal(s): return s == s[::-1]\n",
    "print(is_pal('madam'))"
   ]
  },
  {
   "cell_type": "code",
   "execution_count": null,
   "id": "4fdfc6ce",
   "metadata": {},
   "outputs": [],
   "source": [
    "# Topic: File I/O\n",
    "with open('test.txt', 'r') as f:\n",
    "    print(f.read())"
   ]
  },
  {
   "cell_type": "code",
   "execution_count": null,
   "id": "d71f465d",
   "metadata": {},
   "outputs": [],
   "source": [
    "# Topic: JSON & CSV\n",
    "import csv\n",
    "with open('file.csv', 'w', newline='') as f:\n",
    " csv.writer(f).writerow(['a','b','c'])"
   ]
  },
  {
   "cell_type": "code",
   "execution_count": null,
   "id": "d8d6b63e",
   "metadata": {},
   "outputs": [],
   "source": [
    "# Topic: NumPy\n",
    "import numpy as np\n",
    "print(np.linspace(0, 1, 5))"
   ]
  },
  {
   "cell_type": "code",
   "execution_count": null,
   "id": "92f62620",
   "metadata": {},
   "outputs": [],
   "source": [
    "# Topic: Functions\n",
    "def square(x): return x*x\n",
    "print(square(5))"
   ]
  },
  {
   "cell_type": "code",
   "execution_count": null,
   "id": "0c7f4452",
   "metadata": {},
   "outputs": [],
   "source": [
    "# Topic: Loops\n",
    "while True:\n",
    "    print('Break')\n",
    "    break"
   ]
  },
  {
   "cell_type": "code",
   "execution_count": null,
   "id": "abc19a59",
   "metadata": {},
   "outputs": [],
   "source": [
    "# Topic: Lists & Tuples\n",
    "lst = [1, 2, 3]\n",
    "lst.append(4)\n",
    "print(lst)"
   ]
  },
  {
   "cell_type": "code",
   "execution_count": null,
   "id": "2814d9b4",
   "metadata": {},
   "outputs": [],
   "source": [
    "# Topic: Basics\n",
    "name = 'Fahd'\n",
    "print(f'Hello, {name}')"
   ]
  },
  {
   "cell_type": "code",
   "execution_count": null,
   "id": "3c6bbc3a",
   "metadata": {},
   "outputs": [],
   "source": [
    "# Topic: Data Cleaning\n",
    "import pandas as pd\n",
    "df = pd.DataFrame({'A':[1,None,3]})\n",
    "df = df.fillna(0)\n",
    "print(df)"
   ]
  },
  {
   "cell_type": "code",
   "execution_count": null,
   "id": "58b979fa",
   "metadata": {},
   "outputs": [],
   "source": [
    "# Topic: Data Cleaning\n",
    "import pandas as pd\n",
    "df = pd.DataFrame({'A':[1,None,3]})\n",
    "df = df.fillna(0)\n",
    "print(df)"
   ]
  },
  {
   "cell_type": "code",
   "execution_count": null,
   "id": "89f764df",
   "metadata": {},
   "outputs": [],
   "source": [
    "# Topic: OOP\n",
    "class Student:\n",
    "    def __init__(self, name): self.name = name\n",
    "s = Student('Fahd')\n",
    "print(s.name)"
   ]
  },
  {
   "cell_type": "code",
   "execution_count": null,
   "id": "7c9b3346",
   "metadata": {},
   "outputs": [],
   "source": [
    "# Topic: Regex\n",
    "import re\n",
    "text = 'email: test@example.com'\n",
    "print(re.findall(r'\\S+@\\S+', text))"
   ]
  },
  {
   "cell_type": "code",
   "execution_count": null,
   "id": "706cfa6d",
   "metadata": {},
   "outputs": [],
   "source": [
    "# Topic: JSON & CSV\n",
    "import json\n",
    "data = {'a': 1}\n",
    "print(json.dumps(data))"
   ]
  },
  {
   "cell_type": "code",
   "execution_count": null,
   "id": "6eba1ac2",
   "metadata": {},
   "outputs": [],
   "source": [
    "# Topic: Loops\n",
    "while True:\n",
    "    print('Break')\n",
    "    break"
   ]
  },
  {
   "cell_type": "code",
   "execution_count": null,
   "id": "f71ff4ad",
   "metadata": {},
   "outputs": [],
   "source": [
    "# Topic: Recursion\n",
    "def fact(n): return 1 if n==0 else n*fact(n-1)\n",
    "print(fact(5))"
   ]
  },
  {
   "cell_type": "code",
   "execution_count": null,
   "id": "84afcd27",
   "metadata": {},
   "outputs": [],
   "source": [
    "# Topic: Data Cleaning\n",
    "import pandas as pd\n",
    "df = pd.DataFrame({'A':[1,None,3]})\n",
    "df = df.fillna(0)\n",
    "print(df)"
   ]
  },
  {
   "cell_type": "code",
   "execution_count": null,
   "id": "b9332531",
   "metadata": {},
   "outputs": [],
   "source": [
    "# Topic: Matplotlib & Seaborn\n",
    "import matplotlib.pyplot as plt\n",
    "plt.plot([1,2],[3,4])\n",
    "plt.show()"
   ]
  },
  {
   "cell_type": "code",
   "execution_count": null,
   "id": "7dc363e5",
   "metadata": {},
   "outputs": [],
   "source": [
    "# Topic: JSON & CSV\n",
    "import json\n",
    "data = {'a': 1}\n",
    "print(json.dumps(data))"
   ]
  },
  {
   "cell_type": "code",
   "execution_count": null,
   "id": "cbaf8165",
   "metadata": {},
   "outputs": [],
   "source": [
    "# Topic: NumPy\n",
    "import numpy as np\n",
    "a = np.array([1, 2, 3])\n",
    "print(a + 5)"
   ]
  },
  {
   "cell_type": "code",
   "execution_count": null,
   "id": "4fad3a1b",
   "metadata": {},
   "outputs": [],
   "source": [
    "# Topic: Basic ML\n",
    "from sklearn.linear_model import LinearRegression\n",
    "model = LinearRegression()\n",
    "print(model)"
   ]
  },
  {
   "cell_type": "code",
   "execution_count": null,
   "id": "6ae52774",
   "metadata": {},
   "outputs": [],
   "source": [
    "# Topic: Web Scraping\n",
    "import requests\n",
    "from bs4 import BeautifulSoup\n",
    "r = requests.get('https://example.com')\n",
    "soup = BeautifulSoup(r.text, 'html.parser')\n",
    "print(soup.title.text)"
   ]
  },
  {
   "cell_type": "code",
   "execution_count": null,
   "id": "59d4a37b",
   "metadata": {},
   "outputs": [],
   "source": [
    "# Topic: Functions\n",
    "def square(x): return x*x\n",
    "print(square(5))"
   ]
  },
  {
   "cell_type": "code",
   "execution_count": null,
   "id": "e8f7f69d",
   "metadata": {},
   "outputs": [],
   "source": [
    "# Topic: NumPy\n",
    "import numpy as np\n",
    "a = np.array([1, 2, 3])\n",
    "print(a + 5)"
   ]
  },
  {
   "cell_type": "code",
   "execution_count": null,
   "id": "1bf5ce0e",
   "metadata": {},
   "outputs": [],
   "source": [
    "# Topic: NumPy\n",
    "import numpy as np\n",
    "print(np.linspace(0, 1, 5))"
   ]
  },
  {
   "cell_type": "code",
   "execution_count": null,
   "id": "ba483d46",
   "metadata": {},
   "outputs": [],
   "source": [
    "# Topic: Sorting Algorithms\n",
    "def bubble_sort(arr):\n",
    " for i in range(len(arr)):\n",
    "  for j in range(0, len(arr)-i-1):\n",
    "   if arr[j]>arr[j+1]: arr[j], arr[j+1]=arr[j+1], arr[j]\n",
    "a = [5,3,8,6]\n",
    "bubble_sort(a)\n",
    "print(a)"
   ]
  },
  {
   "cell_type": "code",
   "execution_count": null,
   "id": "cc23e4e8",
   "metadata": {},
   "outputs": [],
   "source": [
    "# Topic: Sorting Algorithms\n",
    "def bubble_sort(arr):\n",
    " for i in range(len(arr)):\n",
    "  for j in range(0, len(arr)-i-1):\n",
    "   if arr[j]>arr[j+1]: arr[j], arr[j+1]=arr[j+1], arr[j]\n",
    "a = [5,3,8,6]\n",
    "bubble_sort(a)\n",
    "print(a)"
   ]
  },
  {
   "cell_type": "code",
   "execution_count": null,
   "id": "f02dd4cb",
   "metadata": {},
   "outputs": [],
   "source": [
    "# Topic: Loops\n",
    "while True:\n",
    "    print('Break')\n",
    "    break"
   ]
  },
  {
   "cell_type": "code",
   "execution_count": null,
   "id": "0dae0125",
   "metadata": {},
   "outputs": [],
   "source": [
    "# Topic: Functions\n",
    "def greet(name='User'):\n",
    "    print(f'Hi, {name}')\n",
    "greet()"
   ]
  },
  {
   "cell_type": "code",
   "execution_count": null,
   "id": "698b7978",
   "metadata": {},
   "outputs": [],
   "source": [
    "# Topic: Basic ML\n",
    "from sklearn.linear_model import LinearRegression\n",
    "model = LinearRegression()\n",
    "print(model)"
   ]
  },
  {
   "cell_type": "code",
   "execution_count": null,
   "id": "bd4ad8fd",
   "metadata": {},
   "outputs": [],
   "source": [
    "# Topic: Pandas\n",
    "import pandas as pd\n",
    "df = pd.read_csv('file.csv')\n",
    "print(df.head())"
   ]
  },
  {
   "cell_type": "code",
   "execution_count": null,
   "id": "41d1f9a7",
   "metadata": {},
   "outputs": [],
   "source": [
    "# Topic: OOP\n",
    "class Student:\n",
    "    def __init__(self, name): self.name = name\n",
    "s = Student('Fahd')\n",
    "print(s.name)"
   ]
  },
  {
   "cell_type": "code",
   "execution_count": null,
   "id": "32749c5f",
   "metadata": {},
   "outputs": [],
   "source": [
    "# Topic: Mini Projects\n",
    "# Palindrome check\n",
    "def is_pal(s): return s == s[::-1]\n",
    "print(is_pal('madam'))"
   ]
  },
  {
   "cell_type": "code",
   "execution_count": null,
   "id": "55e9694d",
   "metadata": {},
   "outputs": [],
   "source": [
    "# Topic: Lists & Tuples\n",
    "lst = [1, 2, 3]\n",
    "lst.append(4)\n",
    "print(lst)"
   ]
  },
  {
   "cell_type": "code",
   "execution_count": null,
   "id": "4a9842af",
   "metadata": {},
   "outputs": [],
   "source": [
    "# Topic: Basics\n",
    "x = 10\n",
    "y = 20\n",
    "print(x + y)"
   ]
  },
  {
   "cell_type": "code",
   "execution_count": null,
   "id": "4b6462a5",
   "metadata": {},
   "outputs": [],
   "source": [
    "# Topic: Loops\n",
    "while True:\n",
    "    print('Break')\n",
    "    break"
   ]
  },
  {
   "cell_type": "code",
   "execution_count": null,
   "id": "6dcff54e",
   "metadata": {},
   "outputs": [],
   "source": [
    "# Topic: Functions\n",
    "def greet(name='User'):\n",
    "    print(f'Hi, {name}')\n",
    "greet()"
   ]
  },
  {
   "cell_type": "code",
   "execution_count": null,
   "id": "6b4af8c5",
   "metadata": {},
   "outputs": [],
   "source": [
    "# Topic: OOP\n",
    "class Student:\n",
    "    def __init__(self, name): self.name = name\n",
    "s = Student('Fahd')\n",
    "print(s.name)"
   ]
  },
  {
   "cell_type": "code",
   "execution_count": null,
   "id": "ba1644ef",
   "metadata": {},
   "outputs": [],
   "source": [
    "# Topic: Lists & Tuples\n",
    "t = (1, 2, 3)\n",
    "print(t[0])"
   ]
  },
  {
   "cell_type": "code",
   "execution_count": null,
   "id": "4df9e9f6",
   "metadata": {},
   "outputs": [],
   "source": [
    "# Topic: Basics\n",
    "x = 10\n",
    "y = 20\n",
    "print(x + y)"
   ]
  },
  {
   "cell_type": "code",
   "execution_count": null,
   "id": "5e7ba2d0",
   "metadata": {},
   "outputs": [],
   "source": [
    "# Topic: Recursion\n",
    "def fact(n): return 1 if n==0 else n*fact(n-1)\n",
    "print(fact(5))"
   ]
  },
  {
   "cell_type": "code",
   "execution_count": null,
   "id": "b3a38c86",
   "metadata": {},
   "outputs": [],
   "source": [
    "# Topic: Regex\n",
    "import re\n",
    "text = 'email: test@example.com'\n",
    "print(re.findall(r'\\S+@\\S+', text))"
   ]
  },
  {
   "cell_type": "code",
   "execution_count": null,
   "id": "2e549761",
   "metadata": {},
   "outputs": [],
   "source": [
    "# Topic: Data Cleaning\n",
    "import pandas as pd\n",
    "df = pd.DataFrame({'A':[1,None,3]})\n",
    "df = df.fillna(0)\n",
    "print(df)"
   ]
  },
  {
   "cell_type": "code",
   "execution_count": null,
   "id": "d227ca0f",
   "metadata": {},
   "outputs": [],
   "source": [
    "# Topic: JSON & CSV\n",
    "import json\n",
    "data = {'a': 1}\n",
    "print(json.dumps(data))"
   ]
  },
  {
   "cell_type": "code",
   "execution_count": null,
   "id": "f1f0419e",
   "metadata": {},
   "outputs": [],
   "source": [
    "# Topic: JSON & CSV\n",
    "import json\n",
    "data = {'a': 1}\n",
    "print(json.dumps(data))"
   ]
  },
  {
   "cell_type": "code",
   "execution_count": null,
   "id": "20a0a3ca",
   "metadata": {},
   "outputs": [],
   "source": [
    "# Topic: JSON & CSV\n",
    "import json\n",
    "data = {'a': 1}\n",
    "print(json.dumps(data))"
   ]
  },
  {
   "cell_type": "code",
   "execution_count": null,
   "id": "35b9f97d",
   "metadata": {},
   "outputs": [],
   "source": [
    "# Topic: OOP\n",
    "class Student:\n",
    "    def __init__(self, name): self.name = name\n",
    "s = Student('Fahd')\n",
    "print(s.name)"
   ]
  },
  {
   "cell_type": "code",
   "execution_count": null,
   "id": "a4379475",
   "metadata": {},
   "outputs": [],
   "source": [
    "# Topic: Mini Projects\n",
    "# Palindrome check\n",
    "def is_pal(s): return s == s[::-1]\n",
    "print(is_pal('madam'))"
   ]
  },
  {
   "cell_type": "code",
   "execution_count": null,
   "id": "6cbcd303",
   "metadata": {},
   "outputs": [],
   "source": [
    "# Topic: Data Cleaning\n",
    "import pandas as pd\n",
    "df = pd.DataFrame({'A':[1,None,3]})\n",
    "df = df.fillna(0)\n",
    "print(df)"
   ]
  },
  {
   "cell_type": "code",
   "execution_count": null,
   "id": "335c41eb",
   "metadata": {},
   "outputs": [],
   "source": [
    "# Topic: Lists & Tuples\n",
    "lst = [1, 2, 3]\n",
    "lst.append(4)\n",
    "print(lst)"
   ]
  },
  {
   "cell_type": "code",
   "execution_count": null,
   "id": "4b699493",
   "metadata": {},
   "outputs": [],
   "source": [
    "# Topic: Functions\n",
    "def square(x): return x*x\n",
    "print(square(5))"
   ]
  },
  {
   "cell_type": "code",
   "execution_count": null,
   "id": "c8be864a",
   "metadata": {},
   "outputs": [],
   "source": [
    "# Topic: Loops\n",
    "for i in range(10): print(i*i)"
   ]
  },
  {
   "cell_type": "code",
   "execution_count": null,
   "id": "c041a9c8",
   "metadata": {},
   "outputs": [],
   "source": [
    "# Topic: Web Scraping\n",
    "import requests\n",
    "from bs4 import BeautifulSoup\n",
    "r = requests.get('https://example.com')\n",
    "soup = BeautifulSoup(r.text, 'html.parser')\n",
    "print(soup.title.text)"
   ]
  },
  {
   "cell_type": "code",
   "execution_count": null,
   "id": "4dcc92bb",
   "metadata": {},
   "outputs": [],
   "source": [
    "# Topic: Decorators\n",
    "def log(func):\n",
    " def wrapper():\n",
    "  print('Call')\n",
    "  func()\n",
    " return wrapper\n",
    "@log\n",
    "def say(): print('Hi')\n",
    "say()"
   ]
  },
  {
   "cell_type": "code",
   "execution_count": null,
   "id": "643d20d6",
   "metadata": {},
   "outputs": [],
   "source": [
    "# Topic: NumPy\n",
    "import numpy as np\n",
    "print(np.linspace(0, 1, 5))"
   ]
  },
  {
   "cell_type": "code",
   "execution_count": null,
   "id": "41869d6a",
   "metadata": {},
   "outputs": [],
   "source": [
    "# Topic: Sorting Algorithms\n",
    "def bubble_sort(arr):\n",
    " for i in range(len(arr)):\n",
    "  for j in range(0, len(arr)-i-1):\n",
    "   if arr[j]>arr[j+1]: arr[j], arr[j+1]=arr[j+1], arr[j]\n",
    "a = [5,3,8,6]\n",
    "bubble_sort(a)\n",
    "print(a)"
   ]
  },
  {
   "cell_type": "code",
   "execution_count": null,
   "id": "c1f006fd",
   "metadata": {},
   "outputs": [],
   "source": [
    "# Topic: Data Cleaning\n",
    "import pandas as pd\n",
    "df = pd.DataFrame({'A':[1,None,3]})\n",
    "df = df.fillna(0)\n",
    "print(df)"
   ]
  },
  {
   "cell_type": "code",
   "execution_count": null,
   "id": "64fe30e8",
   "metadata": {},
   "outputs": [],
   "source": [
    "# Topic: Regex\n",
    "import re\n",
    "text = 'email: test@example.com'\n",
    "print(re.findall(r'\\S+@\\S+', text))"
   ]
  },
  {
   "cell_type": "code",
   "execution_count": null,
   "id": "d9d71210",
   "metadata": {},
   "outputs": [],
   "source": [
    "# Topic: Regex\n",
    "import re\n",
    "text = 'email: test@example.com'\n",
    "print(re.findall(r'\\S+@\\S+', text))"
   ]
  },
  {
   "cell_type": "code",
   "execution_count": null,
   "id": "65786a27",
   "metadata": {},
   "outputs": [],
   "source": [
    "# Topic: Functions\n",
    "def square(x): return x*x\n",
    "print(square(5))"
   ]
  },
  {
   "cell_type": "code",
   "execution_count": null,
   "id": "7fa3ead7",
   "metadata": {},
   "outputs": [],
   "source": [
    "# Topic: Sorting Algorithms\n",
    "def bubble_sort(arr):\n",
    " for i in range(len(arr)):\n",
    "  for j in range(0, len(arr)-i-1):\n",
    "   if arr[j]>arr[j+1]: arr[j], arr[j+1]=arr[j+1], arr[j]\n",
    "a = [5,3,8,6]\n",
    "bubble_sort(a)\n",
    "print(a)"
   ]
  },
  {
   "cell_type": "code",
   "execution_count": null,
   "id": "d405fca2",
   "metadata": {},
   "outputs": [],
   "source": [
    "# Topic: Decorators\n",
    "def log(func):\n",
    " def wrapper():\n",
    "  print('Call')\n",
    "  func()\n",
    " return wrapper\n",
    "@log\n",
    "def say(): print('Hi')\n",
    "say()"
   ]
  },
  {
   "cell_type": "code",
   "execution_count": null,
   "id": "19e2a647",
   "metadata": {},
   "outputs": [],
   "source": [
    "# Topic: Functions\n",
    "def square(x): return x*x\n",
    "print(square(5))"
   ]
  },
  {
   "cell_type": "code",
   "execution_count": null,
   "id": "56155349",
   "metadata": {},
   "outputs": [],
   "source": [
    "# Topic: Basics\n",
    "name = 'Fahd'\n",
    "print(f'Hello, {name}')"
   ]
  },
  {
   "cell_type": "code",
   "execution_count": null,
   "id": "547e90dd",
   "metadata": {},
   "outputs": [],
   "source": [
    "# Topic: Sorting Algorithms\n",
    "def bubble_sort(arr):\n",
    " for i in range(len(arr)):\n",
    "  for j in range(0, len(arr)-i-1):\n",
    "   if arr[j]>arr[j+1]: arr[j], arr[j+1]=arr[j+1], arr[j]\n",
    "a = [5,3,8,6]\n",
    "bubble_sort(a)\n",
    "print(a)"
   ]
  },
  {
   "cell_type": "code",
   "execution_count": null,
   "id": "7810f68d",
   "metadata": {},
   "outputs": [],
   "source": [
    "# Topic: Basic ML\n",
    "from sklearn.linear_model import LinearRegression\n",
    "model = LinearRegression()\n",
    "print(model)"
   ]
  },
  {
   "cell_type": "code",
   "execution_count": null,
   "id": "845e0dd4",
   "metadata": {},
   "outputs": [],
   "source": [
    "# Topic: OOP\n",
    "class Student:\n",
    "    def __init__(self, name): self.name = name\n",
    "s = Student('Fahd')\n",
    "print(s.name)"
   ]
  },
  {
   "cell_type": "code",
   "execution_count": null,
   "id": "91eadf9a",
   "metadata": {},
   "outputs": [],
   "source": [
    "# Topic: Lists & Tuples\n",
    "t = (1, 2, 3)\n",
    "print(t[0])"
   ]
  },
  {
   "cell_type": "code",
   "execution_count": null,
   "id": "d3a2f323",
   "metadata": {},
   "outputs": [],
   "source": [
    "# Topic: Basic ML\n",
    "from sklearn.linear_model import LinearRegression\n",
    "model = LinearRegression()\n",
    "print(model)"
   ]
  },
  {
   "cell_type": "code",
   "execution_count": null,
   "id": "ef29e91b",
   "metadata": {},
   "outputs": [],
   "source": [
    "# Topic: Functions\n",
    "def greet(name='User'):\n",
    "    print(f'Hi, {name}')\n",
    "greet()"
   ]
  },
  {
   "cell_type": "code",
   "execution_count": null,
   "id": "184e2f7b",
   "metadata": {},
   "outputs": [],
   "source": [
    "# Topic: Pandas\n",
    "import pandas as pd\n",
    "df = pd.read_csv('file.csv')\n",
    "print(df.head())"
   ]
  },
  {
   "cell_type": "code",
   "execution_count": null,
   "id": "3fe893c1",
   "metadata": {},
   "outputs": [],
   "source": [
    "# Topic: File I/O\n",
    "with open('test.txt', 'r') as f:\n",
    "    print(f.read())"
   ]
  },
  {
   "cell_type": "code",
   "execution_count": null,
   "id": "c348f79e",
   "metadata": {},
   "outputs": [],
   "source": [
    "# Topic: Basic ML\n",
    "from sklearn.linear_model import LinearRegression\n",
    "model = LinearRegression()\n",
    "print(model)"
   ]
  },
  {
   "cell_type": "code",
   "execution_count": null,
   "id": "87870dab",
   "metadata": {},
   "outputs": [],
   "source": [
    "# Topic: Regex\n",
    "import re\n",
    "text = 'email: test@example.com'\n",
    "print(re.findall(r'\\S+@\\S+', text))"
   ]
  },
  {
   "cell_type": "code",
   "execution_count": null,
   "id": "55fff3e9",
   "metadata": {},
   "outputs": [],
   "source": [
    "# Topic: Sorting Algorithms\n",
    "def bubble_sort(arr):\n",
    " for i in range(len(arr)):\n",
    "  for j in range(0, len(arr)-i-1):\n",
    "   if arr[j]>arr[j+1]: arr[j], arr[j+1]=arr[j+1], arr[j]\n",
    "a = [5,3,8,6]\n",
    "bubble_sort(a)\n",
    "print(a)"
   ]
  },
  {
   "cell_type": "code",
   "execution_count": null,
   "id": "04d90c2d",
   "metadata": {},
   "outputs": [],
   "source": [
    "# Topic: JSON & CSV\n",
    "import json\n",
    "data = {'a': 1}\n",
    "print(json.dumps(data))"
   ]
  },
  {
   "cell_type": "code",
   "execution_count": null,
   "id": "e4f19287",
   "metadata": {},
   "outputs": [],
   "source": [
    "# Topic: Loops\n",
    "while True:\n",
    "    print('Break')\n",
    "    break"
   ]
  },
  {
   "cell_type": "code",
   "execution_count": null,
   "id": "542d9bbd",
   "metadata": {},
   "outputs": [],
   "source": [
    "# Topic: Mini Projects\n",
    "# Palindrome check\n",
    "def is_pal(s): return s == s[::-1]\n",
    "print(is_pal('madam'))"
   ]
  },
  {
   "cell_type": "code",
   "execution_count": null,
   "id": "54852e22",
   "metadata": {},
   "outputs": [],
   "source": [
    "# Topic: Lists & Tuples\n",
    "t = (1, 2, 3)\n",
    "print(t[0])"
   ]
  },
  {
   "cell_type": "code",
   "execution_count": null,
   "id": "dda9e11f",
   "metadata": {},
   "outputs": [],
   "source": [
    "# Topic: File I/O\n",
    "with open('test.txt', 'r') as f:\n",
    "    print(f.read())"
   ]
  },
  {
   "cell_type": "code",
   "execution_count": null,
   "id": "2eb33794",
   "metadata": {},
   "outputs": [],
   "source": [
    "# Topic: Regex\n",
    "import re\n",
    "text = 'email: test@example.com'\n",
    "print(re.findall(r'\\S+@\\S+', text))"
   ]
  },
  {
   "cell_type": "code",
   "execution_count": null,
   "id": "109c29f1",
   "metadata": {},
   "outputs": [],
   "source": [
    "# Topic: Web Scraping\n",
    "import requests\n",
    "from bs4 import BeautifulSoup\n",
    "r = requests.get('https://example.com')\n",
    "soup = BeautifulSoup(r.text, 'html.parser')\n",
    "print(soup.title.text)"
   ]
  },
  {
   "cell_type": "code",
   "execution_count": null,
   "id": "281ece25",
   "metadata": {},
   "outputs": [],
   "source": [
    "# Topic: Dictionaries & Sets\n",
    "s = set([1, 2, 3, 2])\n",
    "print(s)"
   ]
  },
  {
   "cell_type": "code",
   "execution_count": null,
   "id": "74867664",
   "metadata": {},
   "outputs": [],
   "source": [
    "# Topic: Recursion\n",
    "def fact(n): return 1 if n==0 else n*fact(n-1)\n",
    "print(fact(5))"
   ]
  },
  {
   "cell_type": "code",
   "execution_count": null,
   "id": "3cae04ef",
   "metadata": {},
   "outputs": [],
   "source": [
    "# Topic: Sorting Algorithms\n",
    "def bubble_sort(arr):\n",
    " for i in range(len(arr)):\n",
    "  for j in range(0, len(arr)-i-1):\n",
    "   if arr[j]>arr[j+1]: arr[j], arr[j+1]=arr[j+1], arr[j]\n",
    "a = [5,3,8,6]\n",
    "bubble_sort(a)\n",
    "print(a)"
   ]
  },
  {
   "cell_type": "code",
   "execution_count": null,
   "id": "556a92c2",
   "metadata": {},
   "outputs": [],
   "source": [
    "# Topic: Pandas\n",
    "import pandas as pd\n",
    "df = pd.read_csv('file.csv')\n",
    "print(df.head())"
   ]
  },
  {
   "cell_type": "code",
   "execution_count": null,
   "id": "d9fa5f7e",
   "metadata": {},
   "outputs": [],
   "source": [
    "# Topic: JSON & CSV\n",
    "import csv\n",
    "with open('file.csv', 'w', newline='') as f:\n",
    " csv.writer(f).writerow(['a','b','c'])"
   ]
  },
  {
   "cell_type": "code",
   "execution_count": null,
   "id": "af0635a0",
   "metadata": {},
   "outputs": [],
   "source": [
    "# Topic: Web Scraping\n",
    "import requests\n",
    "from bs4 import BeautifulSoup\n",
    "r = requests.get('https://example.com')\n",
    "soup = BeautifulSoup(r.text, 'html.parser')\n",
    "print(soup.title.text)"
   ]
  },
  {
   "cell_type": "code",
   "execution_count": null,
   "id": "8218e4bd",
   "metadata": {},
   "outputs": [],
   "source": [
    "# Topic: Lists & Tuples\n",
    "lst = [1, 2, 3]\n",
    "lst.append(4)\n",
    "print(lst)"
   ]
  },
  {
   "cell_type": "code",
   "execution_count": null,
   "id": "1818bbc0",
   "metadata": {},
   "outputs": [],
   "source": [
    "# Topic: Lists & Tuples\n",
    "lst = [1, 2, 3]\n",
    "lst.append(4)\n",
    "print(lst)"
   ]
  },
  {
   "cell_type": "code",
   "execution_count": null,
   "id": "da88b0ef",
   "metadata": {},
   "outputs": [],
   "source": [
    "# Topic: OOP\n",
    "class Student:\n",
    "    def __init__(self, name): self.name = name\n",
    "s = Student('Fahd')\n",
    "print(s.name)"
   ]
  },
  {
   "cell_type": "code",
   "execution_count": null,
   "id": "e7ea1bcd",
   "metadata": {},
   "outputs": [],
   "source": [
    "# Topic: File I/O\n",
    "with open('test.txt', 'w') as f:\n",
    "    f.write('Hello World')"
   ]
  },
  {
   "cell_type": "code",
   "execution_count": null,
   "id": "0e93c7b7",
   "metadata": {},
   "outputs": [],
   "source": [
    "# Topic: Web Scraping\n",
    "import requests\n",
    "from bs4 import BeautifulSoup\n",
    "r = requests.get('https://example.com')\n",
    "soup = BeautifulSoup(r.text, 'html.parser')\n",
    "print(soup.title.text)"
   ]
  },
  {
   "cell_type": "code",
   "execution_count": null,
   "id": "9538234b",
   "metadata": {},
   "outputs": [],
   "source": [
    "# Topic: Pandas\n",
    "import pandas as pd\n",
    "df = pd.read_csv('file.csv')\n",
    "print(df.head())"
   ]
  },
  {
   "cell_type": "code",
   "execution_count": null,
   "id": "1596f061",
   "metadata": {},
   "outputs": [],
   "source": [
    "# Topic: Decorators\n",
    "def log(func):\n",
    " def wrapper():\n",
    "  print('Call')\n",
    "  func()\n",
    " return wrapper\n",
    "@log\n",
    "def say(): print('Hi')\n",
    "say()"
   ]
  },
  {
   "cell_type": "code",
   "execution_count": null,
   "id": "3c60ccf7",
   "metadata": {},
   "outputs": [],
   "source": [
    "# Topic: Lists & Tuples\n",
    "t = (1, 2, 3)\n",
    "print(t[0])"
   ]
  },
  {
   "cell_type": "code",
   "execution_count": null,
   "id": "bc507511",
   "metadata": {},
   "outputs": [],
   "source": [
    "# Topic: Loops\n",
    "while True:\n",
    "    print('Break')\n",
    "    break"
   ]
  },
  {
   "cell_type": "code",
   "execution_count": null,
   "id": "9e8d9e00",
   "metadata": {},
   "outputs": [],
   "source": [
    "# Topic: Recursion\n",
    "def fact(n): return 1 if n==0 else n*fact(n-1)\n",
    "print(fact(5))"
   ]
  },
  {
   "cell_type": "code",
   "execution_count": null,
   "id": "4f40159c",
   "metadata": {},
   "outputs": [],
   "source": [
    "# Topic: Dictionaries & Sets\n",
    "s = set([1, 2, 3, 2])\n",
    "print(s)"
   ]
  },
  {
   "cell_type": "code",
   "execution_count": null,
   "id": "884482b6",
   "metadata": {},
   "outputs": [],
   "source": [
    "# Topic: Matplotlib & Seaborn\n",
    "import seaborn as sns\n",
    "import pandas as pd\n",
    "sns.set()\n",
    "sns.histplot(pd.Series([1,2,2,3]));"
   ]
  },
  {
   "cell_type": "code",
   "execution_count": null,
   "id": "2125b55b",
   "metadata": {},
   "outputs": [],
   "source": [
    "# Topic: Web Scraping\n",
    "import requests\n",
    "from bs4 import BeautifulSoup\n",
    "r = requests.get('https://example.com')\n",
    "soup = BeautifulSoup(r.text, 'html.parser')\n",
    "print(soup.title.text)"
   ]
  },
  {
   "cell_type": "code",
   "execution_count": null,
   "id": "a053b8c3",
   "metadata": {},
   "outputs": [],
   "source": [
    "# Topic: Web Scraping\n",
    "import requests\n",
    "from bs4 import BeautifulSoup\n",
    "r = requests.get('https://example.com')\n",
    "soup = BeautifulSoup(r.text, 'html.parser')\n",
    "print(soup.title.text)"
   ]
  },
  {
   "cell_type": "code",
   "execution_count": null,
   "id": "fac39462",
   "metadata": {},
   "outputs": [],
   "source": [
    "# Topic: Decorators\n",
    "def log(func):\n",
    " def wrapper():\n",
    "  print('Call')\n",
    "  func()\n",
    " return wrapper\n",
    "@log\n",
    "def say(): print('Hi')\n",
    "say()"
   ]
  },
  {
   "cell_type": "code",
   "execution_count": null,
   "id": "b5151ea6",
   "metadata": {},
   "outputs": [],
   "source": [
    "# Topic: Loops\n",
    "while True:\n",
    "    print('Break')\n",
    "    break"
   ]
  },
  {
   "cell_type": "code",
   "execution_count": null,
   "id": "b853ec27",
   "metadata": {},
   "outputs": [],
   "source": [
    "# Topic: JSON & CSV\n",
    "import csv\n",
    "with open('file.csv', 'w', newline='') as f:\n",
    " csv.writer(f).writerow(['a','b','c'])"
   ]
  },
  {
   "cell_type": "code",
   "execution_count": null,
   "id": "0a98a7b0",
   "metadata": {},
   "outputs": [],
   "source": [
    "# Topic: Basic ML\n",
    "from sklearn.linear_model import LinearRegression\n",
    "model = LinearRegression()\n",
    "print(model)"
   ]
  },
  {
   "cell_type": "code",
   "execution_count": null,
   "id": "c9f96d31",
   "metadata": {},
   "outputs": [],
   "source": [
    "# Topic: NumPy\n",
    "import numpy as np\n",
    "a = np.array([1, 2, 3])\n",
    "print(a + 5)"
   ]
  },
  {
   "cell_type": "code",
   "execution_count": null,
   "id": "ee14b2a6",
   "metadata": {},
   "outputs": [],
   "source": [
    "# Topic: Sorting Algorithms\n",
    "def bubble_sort(arr):\n",
    " for i in range(len(arr)):\n",
    "  for j in range(0, len(arr)-i-1):\n",
    "   if arr[j]>arr[j+1]: arr[j], arr[j+1]=arr[j+1], arr[j]\n",
    "a = [5,3,8,6]\n",
    "bubble_sort(a)\n",
    "print(a)"
   ]
  },
  {
   "cell_type": "code",
   "execution_count": null,
   "id": "d935c038",
   "metadata": {},
   "outputs": [],
   "source": [
    "# Topic: File I/O\n",
    "with open('test.txt', 'r') as f:\n",
    "    print(f.read())"
   ]
  },
  {
   "cell_type": "code",
   "execution_count": null,
   "id": "81c3f0c5",
   "metadata": {},
   "outputs": [],
   "source": [
    "# Topic: Recursion\n",
    "def fact(n): return 1 if n==0 else n*fact(n-1)\n",
    "print(fact(5))"
   ]
  },
  {
   "cell_type": "code",
   "execution_count": null,
   "id": "df8df0b1",
   "metadata": {},
   "outputs": [],
   "source": [
    "# Topic: Dictionaries & Sets\n",
    "s = set([1, 2, 3, 2])\n",
    "print(s)"
   ]
  },
  {
   "cell_type": "code",
   "execution_count": null,
   "id": "793d680e",
   "metadata": {},
   "outputs": [],
   "source": [
    "# Topic: Functions\n",
    "def square(x): return x*x\n",
    "print(square(5))"
   ]
  },
  {
   "cell_type": "code",
   "execution_count": null,
   "id": "4192bd02",
   "metadata": {},
   "outputs": [],
   "source": [
    "# Topic: Regex\n",
    "import re\n",
    "text = 'email: test@example.com'\n",
    "print(re.findall(r'\\S+@\\S+', text))"
   ]
  },
  {
   "cell_type": "code",
   "execution_count": null,
   "id": "274dc26d",
   "metadata": {},
   "outputs": [],
   "source": [
    "# Topic: NumPy\n",
    "import numpy as np\n",
    "a = np.array([1, 2, 3])\n",
    "print(a + 5)"
   ]
  },
  {
   "cell_type": "code",
   "execution_count": null,
   "id": "b48c687d",
   "metadata": {},
   "outputs": [],
   "source": [
    "# Topic: Recursion\n",
    "def fact(n): return 1 if n==0 else n*fact(n-1)\n",
    "print(fact(5))"
   ]
  },
  {
   "cell_type": "code",
   "execution_count": null,
   "id": "87e16231",
   "metadata": {},
   "outputs": [],
   "source": [
    "# Topic: Web Scraping\n",
    "import requests\n",
    "from bs4 import BeautifulSoup\n",
    "r = requests.get('https://example.com')\n",
    "soup = BeautifulSoup(r.text, 'html.parser')\n",
    "print(soup.title.text)"
   ]
  },
  {
   "cell_type": "code",
   "execution_count": null,
   "id": "61e1a334",
   "metadata": {},
   "outputs": [],
   "source": [
    "# Topic: Decorators\n",
    "def log(func):\n",
    " def wrapper():\n",
    "  print('Call')\n",
    "  func()\n",
    " return wrapper\n",
    "@log\n",
    "def say(): print('Hi')\n",
    "say()"
   ]
  },
  {
   "cell_type": "code",
   "execution_count": null,
   "id": "272f6cee",
   "metadata": {},
   "outputs": [],
   "source": [
    "# Topic: JSON & CSV\n",
    "import csv\n",
    "with open('file.csv', 'w', newline='') as f:\n",
    " csv.writer(f).writerow(['a','b','c'])"
   ]
  },
  {
   "cell_type": "code",
   "execution_count": null,
   "id": "af519cbe",
   "metadata": {},
   "outputs": [],
   "source": [
    "# Topic: Dictionaries & Sets\n",
    "d = {'name': 'Fahd', 'age': 20}\n",
    "print(d.get('name'))"
   ]
  },
  {
   "cell_type": "code",
   "execution_count": null,
   "id": "90163fdb",
   "metadata": {},
   "outputs": [],
   "source": [
    "# Topic: JSON & CSV\n",
    "import csv\n",
    "with open('file.csv', 'w', newline='') as f:\n",
    " csv.writer(f).writerow(['a','b','c'])"
   ]
  },
  {
   "cell_type": "code",
   "execution_count": null,
   "id": "3037a326",
   "metadata": {},
   "outputs": [],
   "source": [
    "# Topic: JSON & CSV\n",
    "import json\n",
    "data = {'a': 1}\n",
    "print(json.dumps(data))"
   ]
  },
  {
   "cell_type": "code",
   "execution_count": null,
   "id": "79fe8d0e",
   "metadata": {},
   "outputs": [],
   "source": [
    "# Topic: Functions\n",
    "def square(x): return x*x\n",
    "print(square(5))"
   ]
  },
  {
   "cell_type": "code",
   "execution_count": null,
   "id": "e7cbe0d8",
   "metadata": {},
   "outputs": [],
   "source": [
    "# Topic: Basics\n",
    "x = 10\n",
    "y = 20\n",
    "print(x + y)"
   ]
  },
  {
   "cell_type": "code",
   "execution_count": null,
   "id": "d9f03e18",
   "metadata": {},
   "outputs": [],
   "source": [
    "# Topic: Mini Projects\n",
    "# Calculator\n",
    "def calc(a,b,op): return eval(f'{a}{op}{b}')\n",
    "print(calc(5,2,'+'))"
   ]
  },
  {
   "cell_type": "code",
   "execution_count": null,
   "id": "e3a0b2c3",
   "metadata": {},
   "outputs": [],
   "source": [
    "# Topic: File I/O\n",
    "with open('test.txt', 'r') as f:\n",
    "    print(f.read())"
   ]
  },
  {
   "cell_type": "code",
   "execution_count": null,
   "id": "521875d2",
   "metadata": {},
   "outputs": [],
   "source": [
    "# Topic: Data Cleaning\n",
    "import pandas as pd\n",
    "df = pd.DataFrame({'A':[1,None,3]})\n",
    "df = df.fillna(0)\n",
    "print(df)"
   ]
  },
  {
   "cell_type": "code",
   "execution_count": null,
   "id": "6d087f25",
   "metadata": {},
   "outputs": [],
   "source": [
    "# Topic: NumPy\n",
    "import numpy as np\n",
    "a = np.array([1, 2, 3])\n",
    "print(a + 5)"
   ]
  },
  {
   "cell_type": "code",
   "execution_count": null,
   "id": "d3dc4173",
   "metadata": {},
   "outputs": [],
   "source": [
    "# Topic: Decorators\n",
    "def log(func):\n",
    " def wrapper():\n",
    "  print('Call')\n",
    "  func()\n",
    " return wrapper\n",
    "@log\n",
    "def say(): print('Hi')\n",
    "say()"
   ]
  },
  {
   "cell_type": "code",
   "execution_count": null,
   "id": "c53e6262",
   "metadata": {},
   "outputs": [],
   "source": [
    "# Topic: NumPy\n",
    "import numpy as np\n",
    "a = np.array([1, 2, 3])\n",
    "print(a + 5)"
   ]
  },
  {
   "cell_type": "code",
   "execution_count": null,
   "id": "c0242881",
   "metadata": {},
   "outputs": [],
   "source": [
    "# Topic: Pandas\n",
    "import pandas as pd\n",
    "df = pd.read_csv('file.csv')\n",
    "print(df.head())"
   ]
  },
  {
   "cell_type": "code",
   "execution_count": null,
   "id": "9cd92504",
   "metadata": {},
   "outputs": [],
   "source": [
    "# Topic: OOP\n",
    "class Student:\n",
    "    def __init__(self, name): self.name = name\n",
    "s = Student('Fahd')\n",
    "print(s.name)"
   ]
  },
  {
   "cell_type": "code",
   "execution_count": null,
   "id": "9eb8e0f6",
   "metadata": {},
   "outputs": [],
   "source": [
    "# Topic: Loops\n",
    "for i in range(10): print(i*i)"
   ]
  },
  {
   "cell_type": "code",
   "execution_count": null,
   "id": "a72dcb1f",
   "metadata": {},
   "outputs": [],
   "source": [
    "# Topic: NumPy\n",
    "import numpy as np\n",
    "print(np.linspace(0, 1, 5))"
   ]
  },
  {
   "cell_type": "code",
   "execution_count": null,
   "id": "20635d26",
   "metadata": {},
   "outputs": [],
   "source": [
    "# Topic: Regex\n",
    "import re\n",
    "text = 'email: test@example.com'\n",
    "print(re.findall(r'\\S+@\\S+', text))"
   ]
  },
  {
   "cell_type": "code",
   "execution_count": null,
   "id": "54d98426",
   "metadata": {},
   "outputs": [],
   "source": [
    "# Topic: Decorators\n",
    "def log(func):\n",
    " def wrapper():\n",
    "  print('Call')\n",
    "  func()\n",
    " return wrapper\n",
    "@log\n",
    "def say(): print('Hi')\n",
    "say()"
   ]
  },
  {
   "cell_type": "code",
   "execution_count": null,
   "id": "8778e55c",
   "metadata": {},
   "outputs": [],
   "source": [
    "# Topic: Sorting Algorithms\n",
    "def bubble_sort(arr):\n",
    " for i in range(len(arr)):\n",
    "  for j in range(0, len(arr)-i-1):\n",
    "   if arr[j]>arr[j+1]: arr[j], arr[j+1]=arr[j+1], arr[j]\n",
    "a = [5,3,8,6]\n",
    "bubble_sort(a)\n",
    "print(a)"
   ]
  },
  {
   "cell_type": "code",
   "execution_count": null,
   "id": "d431722f",
   "metadata": {},
   "outputs": [],
   "source": [
    "# Topic: Loops\n",
    "while True:\n",
    "    print('Break')\n",
    "    break"
   ]
  },
  {
   "cell_type": "code",
   "execution_count": null,
   "id": "d3a2196e",
   "metadata": {},
   "outputs": [],
   "source": [
    "# Topic: JSON & CSV\n",
    "import csv\n",
    "with open('file.csv', 'w', newline='') as f:\n",
    " csv.writer(f).writerow(['a','b','c'])"
   ]
  },
  {
   "cell_type": "code",
   "execution_count": null,
   "id": "5b365e6c",
   "metadata": {},
   "outputs": [],
   "source": [
    "# Topic: OOP\n",
    "class Student:\n",
    "    def __init__(self, name): self.name = name\n",
    "s = Student('Fahd')\n",
    "print(s.name)"
   ]
  },
  {
   "cell_type": "code",
   "execution_count": null,
   "id": "367f0ec3",
   "metadata": {},
   "outputs": [],
   "source": [
    "# Topic: Mini Projects\n",
    "# Palindrome check\n",
    "def is_pal(s): return s == s[::-1]\n",
    "print(is_pal('madam'))"
   ]
  },
  {
   "cell_type": "code",
   "execution_count": null,
   "id": "6fc637d1",
   "metadata": {},
   "outputs": [],
   "source": [
    "# Topic: Recursion\n",
    "def fact(n): return 1 if n==0 else n*fact(n-1)\n",
    "print(fact(5))"
   ]
  },
  {
   "cell_type": "code",
   "execution_count": null,
   "id": "a36f8dd7",
   "metadata": {},
   "outputs": [],
   "source": [
    "# Topic: Recursion\n",
    "def fact(n): return 1 if n==0 else n*fact(n-1)\n",
    "print(fact(5))"
   ]
  },
  {
   "cell_type": "code",
   "execution_count": null,
   "id": "3b5181b2",
   "metadata": {},
   "outputs": [],
   "source": [
    "# Topic: Functions\n",
    "def square(x): return x*x\n",
    "print(square(5))"
   ]
  },
  {
   "cell_type": "code",
   "execution_count": null,
   "id": "c0a7bbeb",
   "metadata": {},
   "outputs": [],
   "source": [
    "# Topic: Web Scraping\n",
    "import requests\n",
    "from bs4 import BeautifulSoup\n",
    "r = requests.get('https://example.com')\n",
    "soup = BeautifulSoup(r.text, 'html.parser')\n",
    "print(soup.title.text)"
   ]
  },
  {
   "cell_type": "code",
   "execution_count": null,
   "id": "a59089e9",
   "metadata": {},
   "outputs": [],
   "source": [
    "# Topic: Functions\n",
    "def greet(name='User'):\n",
    "    print(f'Hi, {name}')\n",
    "greet()"
   ]
  },
  {
   "cell_type": "code",
   "execution_count": null,
   "id": "0b27acf1",
   "metadata": {},
   "outputs": [],
   "source": [
    "# Topic: Dictionaries & Sets\n",
    "d = {'name': 'Fahd', 'age': 20}\n",
    "print(d.get('name'))"
   ]
  },
  {
   "cell_type": "code",
   "execution_count": null,
   "id": "59532386",
   "metadata": {},
   "outputs": [],
   "source": [
    "# Topic: Matplotlib & Seaborn\n",
    "import seaborn as sns\n",
    "import pandas as pd\n",
    "sns.set()\n",
    "sns.histplot(pd.Series([1,2,2,3]));"
   ]
  },
  {
   "cell_type": "code",
   "execution_count": null,
   "id": "7b0f17e1",
   "metadata": {},
   "outputs": [],
   "source": [
    "# Topic: Loops\n",
    "for i in range(10): print(i*i)"
   ]
  },
  {
   "cell_type": "code",
   "execution_count": null,
   "id": "41e02933",
   "metadata": {},
   "outputs": [],
   "source": [
    "# Topic: OOP\n",
    "class Student:\n",
    "    def __init__(self, name): self.name = name\n",
    "s = Student('Fahd')\n",
    "print(s.name)"
   ]
  },
  {
   "cell_type": "code",
   "execution_count": null,
   "id": "0f5eb807",
   "metadata": {},
   "outputs": [],
   "source": [
    "# Topic: Mini Projects\n",
    "# Calculator\n",
    "def calc(a,b,op): return eval(f'{a}{op}{b}')\n",
    "print(calc(5,2,'+'))"
   ]
  },
  {
   "cell_type": "code",
   "execution_count": null,
   "id": "449602e4",
   "metadata": {},
   "outputs": [],
   "source": [
    "# Topic: Regex\n",
    "import re\n",
    "text = 'email: test@example.com'\n",
    "print(re.findall(r'\\S+@\\S+', text))"
   ]
  },
  {
   "cell_type": "code",
   "execution_count": null,
   "id": "1d3fae68",
   "metadata": {},
   "outputs": [],
   "source": [
    "# Topic: Basic ML\n",
    "from sklearn.linear_model import LinearRegression\n",
    "model = LinearRegression()\n",
    "print(model)"
   ]
  },
  {
   "cell_type": "code",
   "execution_count": null,
   "id": "fd9c5820",
   "metadata": {},
   "outputs": [],
   "source": [
    "# Topic: Dictionaries & Sets\n",
    "s = set([1, 2, 3, 2])\n",
    "print(s)"
   ]
  },
  {
   "cell_type": "code",
   "execution_count": null,
   "id": "22d34be8",
   "metadata": {},
   "outputs": [],
   "source": [
    "# Topic: Pandas\n",
    "import pandas as pd\n",
    "df = pd.read_csv('file.csv')\n",
    "print(df.head())"
   ]
  },
  {
   "cell_type": "code",
   "execution_count": null,
   "id": "fead7ce3",
   "metadata": {},
   "outputs": [],
   "source": [
    "# Topic: Dictionaries & Sets\n",
    "d = {'name': 'Fahd', 'age': 20}\n",
    "print(d.get('name'))"
   ]
  },
  {
   "cell_type": "code",
   "execution_count": null,
   "id": "a167173f",
   "metadata": {},
   "outputs": [],
   "source": [
    "# Topic: Lists & Tuples\n",
    "lst = [1, 2, 3]\n",
    "lst.append(4)\n",
    "print(lst)"
   ]
  }
 ],
 "metadata": {},
 "nbformat": 4,
 "nbformat_minor": 5
}
