{
 "cells": [
  {
   "cell_type": "code",
   "execution_count": null,
   "id": "64c1bca8",
   "metadata": {},
   "outputs": [],
   "source": [
    "# Topic: Loops\n",
    "while True:\n",
    "    print('Break')\n",
    "    break"
   ]
  },
  {
   "cell_type": "code",
   "execution_count": null,
   "id": "7f3da08a",
   "metadata": {},
   "outputs": [],
   "source": [
    "# Topic: NumPy\n",
    "import numpy as np\n",
    "a = np.array([1, 2, 3])\n",
    "print(a + 5)"
   ]
  },
  {
   "cell_type": "code",
   "execution_count": null,
   "id": "7ee59211",
   "metadata": {},
   "outputs": [],
   "source": [
    "# Topic: Decorators\n",
    "def log(func):\n",
    " def wrapper():\n",
    "  print('Call')\n",
    "  func()\n",
    " return wrapper\n",
    "@log\n",
    "def say(): print('Hi')\n",
    "say()"
   ]
  },
  {
   "cell_type": "code",
   "execution_count": null,
   "id": "b676974e",
   "metadata": {},
   "outputs": [],
   "source": [
    "# Topic: Mini Projects\n",
    "# Palindrome check\n",
    "def is_pal(s): return s == s[::-1]\n",
    "print(is_pal('madam'))"
   ]
  },
  {
   "cell_type": "code",
   "execution_count": null,
   "id": "5a8418f4",
   "metadata": {},
   "outputs": [],
   "source": [
    "# Topic: Basics\n",
    "name = 'Fahd'\n",
    "print(f'Hello, {name}')"
   ]
  },
  {
   "cell_type": "code",
   "execution_count": null,
   "id": "282fe986",
   "metadata": {},
   "outputs": [],
   "source": [
    "# Topic: Recursion\n",
    "def fact(n): return 1 if n==0 else n*fact(n-1)\n",
    "print(fact(5))"
   ]
  },
  {
   "cell_type": "code",
   "execution_count": null,
   "id": "01e90886",
   "metadata": {},
   "outputs": [],
   "source": [
    "# Topic: Data Cleaning\n",
    "import pandas as pd\n",
    "df = pd.DataFrame({'A':[1,None,3]})\n",
    "df = df.fillna(0)\n",
    "print(df)"
   ]
  },
  {
   "cell_type": "code",
   "execution_count": null,
   "id": "46b36c2a",
   "metadata": {},
   "outputs": [],
   "source": [
    "# Topic: Basic ML\n",
    "from sklearn.linear_model import LinearRegression\n",
    "model = LinearRegression()\n",
    "print(model)"
   ]
  },
  {
   "cell_type": "code",
   "execution_count": null,
   "id": "81591912",
   "metadata": {},
   "outputs": [],
   "source": [
    "# Topic: Data Cleaning\n",
    "import pandas as pd\n",
    "df = pd.DataFrame({'A':[1,None,3]})\n",
    "df = df.fillna(0)\n",
    "print(df)"
   ]
  },
  {
   "cell_type": "code",
   "execution_count": null,
   "id": "8fb05eb0",
   "metadata": {},
   "outputs": [],
   "source": [
    "# Topic: Basic ML\n",
    "from sklearn.linear_model import LinearRegression\n",
    "model = LinearRegression()\n",
    "print(model)"
   ]
  },
  {
   "cell_type": "code",
   "execution_count": null,
   "id": "e0b3296d",
   "metadata": {},
   "outputs": [],
   "source": [
    "# Topic: Functions\n",
    "def greet(name='User'):\n",
    "    print(f'Hi, {name}')\n",
    "greet()"
   ]
  },
  {
   "cell_type": "code",
   "execution_count": null,
   "id": "0272cb72",
   "metadata": {},
   "outputs": [],
   "source": [
    "# Topic: File I/O\n",
    "with open('test.txt', 'w') as f:\n",
    "    f.write('Hello World')"
   ]
  },
  {
   "cell_type": "code",
   "execution_count": null,
   "id": "24ce1c29",
   "metadata": {},
   "outputs": [],
   "source": [
    "# Topic: Regex\n",
    "import re\n",
    "text = 'email: test@example.com'\n",
    "print(re.findall(r'\\S+@\\S+', text))"
   ]
  },
  {
   "cell_type": "code",
   "execution_count": null,
   "id": "5470bcf9",
   "metadata": {},
   "outputs": [],
   "source": [
    "# Topic: NumPy\n",
    "import numpy as np\n",
    "print(np.linspace(0, 1, 5))"
   ]
  },
  {
   "cell_type": "code",
   "execution_count": null,
   "id": "eff2707e",
   "metadata": {},
   "outputs": [],
   "source": [
    "# Topic: Basic ML\n",
    "from sklearn.linear_model import LinearRegression\n",
    "model = LinearRegression()\n",
    "print(model)"
   ]
  },
  {
   "cell_type": "code",
   "execution_count": null,
   "id": "80f71d6b",
   "metadata": {},
   "outputs": [],
   "source": [
    "# Topic: Decorators\n",
    "def log(func):\n",
    " def wrapper():\n",
    "  print('Call')\n",
    "  func()\n",
    " return wrapper\n",
    "@log\n",
    "def say(): print('Hi')\n",
    "say()"
   ]
  },
  {
   "cell_type": "code",
   "execution_count": null,
   "id": "624733ef",
   "metadata": {},
   "outputs": [],
   "source": [
    "# Topic: Basics\n",
    "name = 'Fahd'\n",
    "print(f'Hello, {name}')"
   ]
  },
  {
   "cell_type": "code",
   "execution_count": null,
   "id": "ebe43031",
   "metadata": {},
   "outputs": [],
   "source": [
    "# Topic: Basic ML\n",
    "from sklearn.linear_model import LinearRegression\n",
    "model = LinearRegression()\n",
    "print(model)"
   ]
  },
  {
   "cell_type": "code",
   "execution_count": null,
   "id": "bf970f27",
   "metadata": {},
   "outputs": [],
   "source": [
    "# Topic: Regex\n",
    "import re\n",
    "text = 'email: test@example.com'\n",
    "print(re.findall(r'\\S+@\\S+', text))"
   ]
  },
  {
   "cell_type": "code",
   "execution_count": null,
   "id": "7b1fdb72",
   "metadata": {},
   "outputs": [],
   "source": [
    "# Topic: Data Cleaning\n",
    "import pandas as pd\n",
    "df = pd.DataFrame({'A':[1,None,3]})\n",
    "df = df.fillna(0)\n",
    "print(df)"
   ]
  },
  {
   "cell_type": "code",
   "execution_count": null,
   "id": "b298c31f",
   "metadata": {},
   "outputs": [],
   "source": [
    "# Topic: Basic ML\n",
    "from sklearn.linear_model import LinearRegression\n",
    "model = LinearRegression()\n",
    "print(model)"
   ]
  },
  {
   "cell_type": "code",
   "execution_count": null,
   "id": "cabe19d5",
   "metadata": {},
   "outputs": [],
   "source": [
    "# Topic: JSON & CSV\n",
    "import json\n",
    "data = {'a': 1}\n",
    "print(json.dumps(data))"
   ]
  },
  {
   "cell_type": "code",
   "execution_count": null,
   "id": "3926f6bf",
   "metadata": {},
   "outputs": [],
   "source": [
    "# Topic: Algorithms\n",
    "# Bubble sort\n",
    "def bubble(arr):\n",
    " for i in range(len(arr)):\n",
    "  for j in range(0, len(arr)-i-1):\n",
    "   if arr[j]>arr[j+1]: arr[j],arr[j+1]=arr[j+1],arr[j]\n",
    "a=[5,3,8]\n",
    "bubble(a)\n",
    "print(a)"
   ]
  },
  {
   "cell_type": "code",
   "execution_count": null,
   "id": "3f662628",
   "metadata": {},
   "outputs": [],
   "source": [
    "# Topic: Algorithms\n",
    "# Bubble sort\n",
    "def bubble(arr):\n",
    " for i in range(len(arr)):\n",
    "  for j in range(0, len(arr)-i-1):\n",
    "   if arr[j]>arr[j+1]: arr[j],arr[j+1]=arr[j+1],arr[j]\n",
    "a=[5,3,8]\n",
    "bubble(a)\n",
    "print(a)"
   ]
  },
  {
   "cell_type": "code",
   "execution_count": null,
   "id": "83194cc7",
   "metadata": {},
   "outputs": [],
   "source": [
    "# Topic: Lists & Tuples\n",
    "lst = [1, 2, 3]\n",
    "lst.append(4)\n",
    "print(lst)"
   ]
  },
  {
   "cell_type": "code",
   "execution_count": null,
   "id": "ea291476",
   "metadata": {},
   "outputs": [],
   "source": [
    "# Topic: Lists & Tuples\n",
    "t = (1, 2, 3)\n",
    "print(t[0])"
   ]
  },
  {
   "cell_type": "code",
   "execution_count": null,
   "id": "c1ad50d8",
   "metadata": {},
   "outputs": [],
   "source": [
    "# Topic: File I/O\n",
    "with open('test.txt', 'r') as f:\n",
    "    print(f.read())"
   ]
  },
  {
   "cell_type": "code",
   "execution_count": null,
   "id": "226555bb",
   "metadata": {},
   "outputs": [],
   "source": [
    "# Topic: Matplotlib & Seaborn\n",
    "import seaborn as sns\n",
    "import pandas as pd\n",
    "sns.set()\n",
    "sns.histplot(pd.Series([1,2,2,3]));"
   ]
  },
  {
   "cell_type": "code",
   "execution_count": null,
   "id": "634b48ce",
   "metadata": {},
   "outputs": [],
   "source": [
    "# Topic: Lists & Tuples\n",
    "lst = [1, 2, 3]\n",
    "lst.append(4)\n",
    "print(lst)"
   ]
  },
  {
   "cell_type": "code",
   "execution_count": null,
   "id": "05cc6efe",
   "metadata": {},
   "outputs": [],
   "source": [
    "# Topic: JSON & CSV\n",
    "import json\n",
    "data = {'a': 1}\n",
    "print(json.dumps(data))"
   ]
  },
  {
   "cell_type": "code",
   "execution_count": null,
   "id": "c2f1c300",
   "metadata": {},
   "outputs": [],
   "source": [
    "# Topic: OOP\n",
    "class Student:\n",
    "    def __init__(self, name): self.name = name\n",
    "s = Student('Fahd')\n",
    "print(s.name)"
   ]
  },
  {
   "cell_type": "code",
   "execution_count": null,
   "id": "2a1f8a9e",
   "metadata": {},
   "outputs": [],
   "source": [
    "# Topic: Data Cleaning\n",
    "import pandas as pd\n",
    "df = pd.DataFrame({'A':[1,None,3]})\n",
    "df = df.fillna(0)\n",
    "print(df)"
   ]
  },
  {
   "cell_type": "code",
   "execution_count": null,
   "id": "aa9af7fa",
   "metadata": {},
   "outputs": [],
   "source": [
    "# Topic: Algorithms\n",
    "# Bubble sort\n",
    "def bubble(arr):\n",
    " for i in range(len(arr)):\n",
    "  for j in range(0, len(arr)-i-1):\n",
    "   if arr[j]>arr[j+1]: arr[j],arr[j+1]=arr[j+1],arr[j]\n",
    "a=[5,3,8]\n",
    "bubble(a)\n",
    "print(a)"
   ]
  },
  {
   "cell_type": "code",
   "execution_count": null,
   "id": "1f1900aa",
   "metadata": {},
   "outputs": [],
   "source": [
    "# Topic: Data Cleaning\n",
    "import pandas as pd\n",
    "df = pd.DataFrame({'A':[1,None,3]})\n",
    "df = df.fillna(0)\n",
    "print(df)"
   ]
  },
  {
   "cell_type": "code",
   "execution_count": null,
   "id": "7d8f8cbe",
   "metadata": {},
   "outputs": [],
   "source": [
    "# Topic: Matplotlib & Seaborn\n",
    "import matplotlib.pyplot as plt\n",
    "plt.plot([1,2],[3,4])\n",
    "plt.show()"
   ]
  },
  {
   "cell_type": "code",
   "execution_count": null,
   "id": "9528b0b7",
   "metadata": {},
   "outputs": [],
   "source": [
    "# Topic: Pandas\n",
    "import pandas as pd\n",
    "df = pd.read_csv('file.csv')\n",
    "print(df.head())"
   ]
  },
  {
   "cell_type": "code",
   "execution_count": null,
   "id": "05750ff7",
   "metadata": {},
   "outputs": [],
   "source": [
    "# Topic: Mini Projects\n",
    "# Calculator\n",
    "def calc(a,b,op): return eval(f'{a}{op}{b}')\n",
    "print(calc(5,2,'+'))"
   ]
  },
  {
   "cell_type": "code",
   "execution_count": null,
   "id": "7d6996fe",
   "metadata": {},
   "outputs": [],
   "source": [
    "# Topic: Algorithms\n",
    "# Bubble sort\n",
    "def bubble(arr):\n",
    " for i in range(len(arr)):\n",
    "  for j in range(0, len(arr)-i-1):\n",
    "   if arr[j]>arr[j+1]: arr[j],arr[j+1]=arr[j+1],arr[j]\n",
    "a=[5,3,8]\n",
    "bubble(a)\n",
    "print(a)"
   ]
  },
  {
   "cell_type": "code",
   "execution_count": null,
   "id": "94df3e27",
   "metadata": {},
   "outputs": [],
   "source": [
    "# Topic: Decorators\n",
    "def log(func):\n",
    " def wrapper():\n",
    "  print('Call')\n",
    "  func()\n",
    " return wrapper\n",
    "@log\n",
    "def say(): print('Hi')\n",
    "say()"
   ]
  },
  {
   "cell_type": "code",
   "execution_count": null,
   "id": "e88cc109",
   "metadata": {},
   "outputs": [],
   "source": [
    "# Topic: Data Cleaning\n",
    "import pandas as pd\n",
    "df = pd.DataFrame({'A':[1,None,3]})\n",
    "df = df.fillna(0)\n",
    "print(df)"
   ]
  },
  {
   "cell_type": "code",
   "execution_count": null,
   "id": "4cf8be1a",
   "metadata": {},
   "outputs": [],
   "source": [
    "# Topic: Algorithms\n",
    "# Bubble sort\n",
    "def bubble(arr):\n",
    " for i in range(len(arr)):\n",
    "  for j in range(0, len(arr)-i-1):\n",
    "   if arr[j]>arr[j+1]: arr[j],arr[j+1]=arr[j+1],arr[j]\n",
    "a=[5,3,8]\n",
    "bubble(a)\n",
    "print(a)"
   ]
  },
  {
   "cell_type": "code",
   "execution_count": null,
   "id": "085912ab",
   "metadata": {},
   "outputs": [],
   "source": [
    "# Topic: Mini Projects\n",
    "# Calculator\n",
    "def calc(a,b,op): return eval(f'{a}{op}{b}')\n",
    "print(calc(5,2,'+'))"
   ]
  },
  {
   "cell_type": "code",
   "execution_count": null,
   "id": "118917d5",
   "metadata": {},
   "outputs": [],
   "source": [
    "# Topic: OOP\n",
    "class Student:\n",
    "    def __init__(self, name): self.name = name\n",
    "s = Student('Fahd')\n",
    "print(s.name)"
   ]
  },
  {
   "cell_type": "code",
   "execution_count": null,
   "id": "3e2f17b8",
   "metadata": {},
   "outputs": [],
   "source": [
    "# Topic: Algorithms\n",
    "# Bubble sort\n",
    "def bubble(arr):\n",
    " for i in range(len(arr)):\n",
    "  for j in range(0, len(arr)-i-1):\n",
    "   if arr[j]>arr[j+1]: arr[j],arr[j+1]=arr[j+1],arr[j]\n",
    "a=[5,3,8]\n",
    "bubble(a)\n",
    "print(a)"
   ]
  },
  {
   "cell_type": "code",
   "execution_count": null,
   "id": "54764ced",
   "metadata": {},
   "outputs": [],
   "source": [
    "# Topic: Loops\n",
    "while True:\n",
    "    print('Break')\n",
    "    break"
   ]
  },
  {
   "cell_type": "code",
   "execution_count": null,
   "id": "9ed7a120",
   "metadata": {},
   "outputs": [],
   "source": [
    "# Topic: Regex\n",
    "import re\n",
    "text = 'email: test@example.com'\n",
    "print(re.findall(r'\\S+@\\S+', text))"
   ]
  },
  {
   "cell_type": "code",
   "execution_count": null,
   "id": "3f477bc2",
   "metadata": {},
   "outputs": [],
   "source": [
    "# Topic: NumPy\n",
    "import numpy as np\n",
    "a = np.array([1, 2, 3])\n",
    "print(a + 5)"
   ]
  },
  {
   "cell_type": "code",
   "execution_count": null,
   "id": "4c286309",
   "metadata": {},
   "outputs": [],
   "source": [
    "# Topic: Basic ML\n",
    "from sklearn.linear_model import LinearRegression\n",
    "model = LinearRegression()\n",
    "print(model)"
   ]
  },
  {
   "cell_type": "code",
   "execution_count": null,
   "id": "a330b00d",
   "metadata": {},
   "outputs": [],
   "source": [
    "# Topic: NumPy\n",
    "import numpy as np\n",
    "a = np.array([1, 2, 3])\n",
    "print(a + 5)"
   ]
  },
  {
   "cell_type": "code",
   "execution_count": null,
   "id": "51d99d08",
   "metadata": {},
   "outputs": [],
   "source": [
    "# Topic: Recursion\n",
    "def fact(n): return 1 if n==0 else n*fact(n-1)\n",
    "print(fact(5))"
   ]
  },
  {
   "cell_type": "code",
   "execution_count": null,
   "id": "88dbd2cc",
   "metadata": {},
   "outputs": [],
   "source": [
    "# Topic: Loops\n",
    "for i in range(10): print(i*i)"
   ]
  },
  {
   "cell_type": "code",
   "execution_count": null,
   "id": "061dc194",
   "metadata": {},
   "outputs": [],
   "source": [
    "# Topic: Algorithms\n",
    "# Bubble sort\n",
    "def bubble(arr):\n",
    " for i in range(len(arr)):\n",
    "  for j in range(0, len(arr)-i-1):\n",
    "   if arr[j]>arr[j+1]: arr[j],arr[j+1]=arr[j+1],arr[j]\n",
    "a=[5,3,8]\n",
    "bubble(a)\n",
    "print(a)"
   ]
  },
  {
   "cell_type": "code",
   "execution_count": null,
   "id": "f3abc266",
   "metadata": {},
   "outputs": [],
   "source": [
    "# Topic: Data Cleaning\n",
    "import pandas as pd\n",
    "df = pd.DataFrame({'A':[1,None,3]})\n",
    "df = df.fillna(0)\n",
    "print(df)"
   ]
  },
  {
   "cell_type": "code",
   "execution_count": null,
   "id": "56715af2",
   "metadata": {},
   "outputs": [],
   "source": [
    "# Topic: Recursion\n",
    "def fact(n): return 1 if n==0 else n*fact(n-1)\n",
    "print(fact(5))"
   ]
  },
  {
   "cell_type": "code",
   "execution_count": null,
   "id": "66e0672e",
   "metadata": {},
   "outputs": [],
   "source": [
    "# Topic: Pandas\n",
    "import pandas as pd\n",
    "df = pd.read_csv('file.csv')\n",
    "print(df.head())"
   ]
  },
  {
   "cell_type": "code",
   "execution_count": null,
   "id": "402fa58f",
   "metadata": {},
   "outputs": [],
   "source": [
    "# Topic: Pandas\n",
    "import pandas as pd\n",
    "df = pd.DataFrame({'A':[1,2],'B':[3,4]})\n",
    "print(df)"
   ]
  },
  {
   "cell_type": "code",
   "execution_count": null,
   "id": "12fd6059",
   "metadata": {},
   "outputs": [],
   "source": [
    "# Topic: OOP\n",
    "class Student:\n",
    "    def __init__(self, name): self.name = name\n",
    "s = Student('Fahd')\n",
    "print(s.name)"
   ]
  },
  {
   "cell_type": "code",
   "execution_count": null,
   "id": "ebed9a2c",
   "metadata": {},
   "outputs": [],
   "source": [
    "# Topic: Lists & Tuples\n",
    "lst = [1, 2, 3]\n",
    "lst.append(4)\n",
    "print(lst)"
   ]
  },
  {
   "cell_type": "code",
   "execution_count": null,
   "id": "a0561fa8",
   "metadata": {},
   "outputs": [],
   "source": [
    "# Topic: Algorithms\n",
    "# Bubble sort\n",
    "def bubble(arr):\n",
    " for i in range(len(arr)):\n",
    "  for j in range(0, len(arr)-i-1):\n",
    "   if arr[j]>arr[j+1]: arr[j],arr[j+1]=arr[j+1],arr[j]\n",
    "a=[5,3,8]\n",
    "bubble(a)\n",
    "print(a)"
   ]
  },
  {
   "cell_type": "code",
   "execution_count": null,
   "id": "304cb4fc",
   "metadata": {},
   "outputs": [],
   "source": [
    "# Topic: Web Scraping\n",
    "import requests\n",
    "from bs4 import BeautifulSoup\n",
    "r = requests.get('https://example.com')\n",
    "soup = BeautifulSoup(r.text, 'html.parser')\n",
    "print(soup.title.text)"
   ]
  },
  {
   "cell_type": "code",
   "execution_count": null,
   "id": "c78ca475",
   "metadata": {},
   "outputs": [],
   "source": [
    "# Topic: Lists & Tuples\n",
    "lst = [1, 2, 3]\n",
    "lst.append(4)\n",
    "print(lst)"
   ]
  },
  {
   "cell_type": "code",
   "execution_count": null,
   "id": "16c28528",
   "metadata": {},
   "outputs": [],
   "source": [
    "# Topic: NumPy\n",
    "import numpy as np\n",
    "a = np.array([1, 2, 3])\n",
    "print(a + 5)"
   ]
  },
  {
   "cell_type": "code",
   "execution_count": null,
   "id": "d12a2872",
   "metadata": {},
   "outputs": [],
   "source": [
    "# Topic: Web Scraping\n",
    "import requests\n",
    "from bs4 import BeautifulSoup\n",
    "r = requests.get('https://example.com')\n",
    "soup = BeautifulSoup(r.text, 'html.parser')\n",
    "print(soup.title.text)"
   ]
  },
  {
   "cell_type": "code",
   "execution_count": null,
   "id": "21f1fcb2",
   "metadata": {},
   "outputs": [],
   "source": [
    "# Topic: Mini Projects\n",
    "# Palindrome check\n",
    "def is_pal(s): return s == s[::-1]\n",
    "print(is_pal('madam'))"
   ]
  },
  {
   "cell_type": "code",
   "execution_count": null,
   "id": "47e4d5ef",
   "metadata": {},
   "outputs": [],
   "source": [
    "# Topic: CLI Tools\n",
    "import sys\n",
    "print(f'Arguments: {sys.argv}')"
   ]
  },
  {
   "cell_type": "code",
   "execution_count": null,
   "id": "e033d36f",
   "metadata": {},
   "outputs": [],
   "source": [
    "# Topic: Web Scraping\n",
    "import requests\n",
    "from bs4 import BeautifulSoup\n",
    "r = requests.get('https://example.com')\n",
    "soup = BeautifulSoup(r.text, 'html.parser')\n",
    "print(soup.title.text)"
   ]
  },
  {
   "cell_type": "code",
   "execution_count": null,
   "id": "12ed3374",
   "metadata": {},
   "outputs": [],
   "source": [
    "# Topic: Functions\n",
    "def square(x): return x*x\n",
    "print(square(5))"
   ]
  },
  {
   "cell_type": "code",
   "execution_count": null,
   "id": "b5559977",
   "metadata": {},
   "outputs": [],
   "source": [
    "# Topic: Regex\n",
    "import re\n",
    "text = 'email: test@example.com'\n",
    "print(re.findall(r'\\S+@\\S+', text))"
   ]
  },
  {
   "cell_type": "code",
   "execution_count": null,
   "id": "c9bfc0e4",
   "metadata": {},
   "outputs": [],
   "source": [
    "# Topic: Recursion\n",
    "def fact(n): return 1 if n==0 else n*fact(n-1)\n",
    "print(fact(5))"
   ]
  },
  {
   "cell_type": "code",
   "execution_count": null,
   "id": "41f590f2",
   "metadata": {},
   "outputs": [],
   "source": [
    "# Topic: NumPy\n",
    "import numpy as np\n",
    "print(np.linspace(0, 1, 5))"
   ]
  },
  {
   "cell_type": "code",
   "execution_count": null,
   "id": "462a8846",
   "metadata": {},
   "outputs": [],
   "source": [
    "# Topic: Web Scraping\n",
    "import requests\n",
    "from bs4 import BeautifulSoup\n",
    "r = requests.get('https://example.com')\n",
    "soup = BeautifulSoup(r.text, 'html.parser')\n",
    "print(soup.title.text)"
   ]
  },
  {
   "cell_type": "code",
   "execution_count": null,
   "id": "5eee73b5",
   "metadata": {},
   "outputs": [],
   "source": [
    "# Topic: File I/O\n",
    "with open('test.txt', 'r') as f:\n",
    "    print(f.read())"
   ]
  },
  {
   "cell_type": "code",
   "execution_count": null,
   "id": "ced03a2b",
   "metadata": {},
   "outputs": [],
   "source": [
    "# Topic: Web Scraping\n",
    "import requests\n",
    "from bs4 import BeautifulSoup\n",
    "r = requests.get('https://example.com')\n",
    "soup = BeautifulSoup(r.text, 'html.parser')\n",
    "print(soup.title.text)"
   ]
  },
  {
   "cell_type": "code",
   "execution_count": null,
   "id": "77709ccd",
   "metadata": {},
   "outputs": [],
   "source": [
    "# Topic: Lists & Tuples\n",
    "t = (1, 2, 3)\n",
    "print(t[0])"
   ]
  },
  {
   "cell_type": "code",
   "execution_count": null,
   "id": "3415d0b6",
   "metadata": {},
   "outputs": [],
   "source": [
    "# Topic: JSON & CSV\n",
    "import json\n",
    "data = {'a': 1}\n",
    "print(json.dumps(data))"
   ]
  },
  {
   "cell_type": "code",
   "execution_count": null,
   "id": "6a6cfed1",
   "metadata": {},
   "outputs": [],
   "source": [
    "# Topic: JSON & CSV\n",
    "import json\n",
    "data = {'a': 1}\n",
    "print(json.dumps(data))"
   ]
  },
  {
   "cell_type": "code",
   "execution_count": null,
   "id": "74c847da",
   "metadata": {},
   "outputs": [],
   "source": [
    "# Topic: Pandas\n",
    "import pandas as pd\n",
    "df = pd.read_csv('file.csv')\n",
    "print(df.head())"
   ]
  },
  {
   "cell_type": "code",
   "execution_count": null,
   "id": "feacdec2",
   "metadata": {},
   "outputs": [],
   "source": [
    "# Topic: OOP\n",
    "class Student:\n",
    "    def __init__(self, name): self.name = name\n",
    "s = Student('Fahd')\n",
    "print(s.name)"
   ]
  },
  {
   "cell_type": "code",
   "execution_count": null,
   "id": "ded2da78",
   "metadata": {},
   "outputs": [],
   "source": [
    "# Topic: CLI Tools\n",
    "import sys\n",
    "print(f'Arguments: {sys.argv}')"
   ]
  },
  {
   "cell_type": "code",
   "execution_count": null,
   "id": "e59fcfa5",
   "metadata": {},
   "outputs": [],
   "source": [
    "# Topic: Data Cleaning\n",
    "import pandas as pd\n",
    "df = pd.DataFrame({'A':[1,None,3]})\n",
    "df = df.fillna(0)\n",
    "print(df)"
   ]
  },
  {
   "cell_type": "code",
   "execution_count": null,
   "id": "4c36cde3",
   "metadata": {},
   "outputs": [],
   "source": [
    "# Topic: Web Scraping\n",
    "import requests\n",
    "from bs4 import BeautifulSoup\n",
    "r = requests.get('https://example.com')\n",
    "soup = BeautifulSoup(r.text, 'html.parser')\n",
    "print(soup.title.text)"
   ]
  },
  {
   "cell_type": "code",
   "execution_count": null,
   "id": "10bd8984",
   "metadata": {},
   "outputs": [],
   "source": [
    "# Topic: Algorithms\n",
    "# Bubble sort\n",
    "def bubble(arr):\n",
    " for i in range(len(arr)):\n",
    "  for j in range(0, len(arr)-i-1):\n",
    "   if arr[j]>arr[j+1]: arr[j],arr[j+1]=arr[j+1],arr[j]\n",
    "a=[5,3,8]\n",
    "bubble(a)\n",
    "print(a)"
   ]
  },
  {
   "cell_type": "code",
   "execution_count": null,
   "id": "534b52e9",
   "metadata": {},
   "outputs": [],
   "source": [
    "# Topic: Decorators\n",
    "def log(func):\n",
    " def wrapper():\n",
    "  print('Call')\n",
    "  func()\n",
    " return wrapper\n",
    "@log\n",
    "def say(): print('Hi')\n",
    "say()"
   ]
  },
  {
   "cell_type": "code",
   "execution_count": null,
   "id": "6c989e2e",
   "metadata": {},
   "outputs": [],
   "source": [
    "# Topic: Data Cleaning\n",
    "import pandas as pd\n",
    "df = pd.DataFrame({'A':[1,None,3]})\n",
    "df = df.fillna(0)\n",
    "print(df)"
   ]
  },
  {
   "cell_type": "code",
   "execution_count": null,
   "id": "c5184364",
   "metadata": {},
   "outputs": [],
   "source": [
    "# Topic: Lists & Tuples\n",
    "t = (1, 2, 3)\n",
    "print(t[0])"
   ]
  },
  {
   "cell_type": "code",
   "execution_count": null,
   "id": "5e01c73e",
   "metadata": {},
   "outputs": [],
   "source": [
    "# Topic: Pandas\n",
    "import pandas as pd\n",
    "df = pd.read_csv('file.csv')\n",
    "print(df.head())"
   ]
  },
  {
   "cell_type": "code",
   "execution_count": null,
   "id": "1abe92ac",
   "metadata": {},
   "outputs": [],
   "source": [
    "# Topic: Algorithms\n",
    "# Bubble sort\n",
    "def bubble(arr):\n",
    " for i in range(len(arr)):\n",
    "  for j in range(0, len(arr)-i-1):\n",
    "   if arr[j]>arr[j+1]: arr[j],arr[j+1]=arr[j+1],arr[j]\n",
    "a=[5,3,8]\n",
    "bubble(a)\n",
    "print(a)"
   ]
  },
  {
   "cell_type": "code",
   "execution_count": null,
   "id": "70eea87b",
   "metadata": {},
   "outputs": [],
   "source": [
    "# Topic: Web Scraping\n",
    "import requests\n",
    "from bs4 import BeautifulSoup\n",
    "r = requests.get('https://example.com')\n",
    "soup = BeautifulSoup(r.text, 'html.parser')\n",
    "print(soup.title.text)"
   ]
  },
  {
   "cell_type": "code",
   "execution_count": null,
   "id": "bf4be436",
   "metadata": {},
   "outputs": [],
   "source": [
    "# Topic: Algorithms\n",
    "# Bubble sort\n",
    "def bubble(arr):\n",
    " for i in range(len(arr)):\n",
    "  for j in range(0, len(arr)-i-1):\n",
    "   if arr[j]>arr[j+1]: arr[j],arr[j+1]=arr[j+1],arr[j]\n",
    "a=[5,3,8]\n",
    "bubble(a)\n",
    "print(a)"
   ]
  },
  {
   "cell_type": "code",
   "execution_count": null,
   "id": "255091bd",
   "metadata": {},
   "outputs": [],
   "source": [
    "# Topic: Regex\n",
    "import re\n",
    "text = 'email: test@example.com'\n",
    "print(re.findall(r'\\S+@\\S+', text))"
   ]
  },
  {
   "cell_type": "code",
   "execution_count": null,
   "id": "fccaf77f",
   "metadata": {},
   "outputs": [],
   "source": [
    "# Topic: File I/O\n",
    "with open('test.txt', 'r') as f:\n",
    "    print(f.read())"
   ]
  },
  {
   "cell_type": "code",
   "execution_count": null,
   "id": "6a7b2b0a",
   "metadata": {},
   "outputs": [],
   "source": [
    "# Topic: Basic ML\n",
    "from sklearn.linear_model import LinearRegression\n",
    "model = LinearRegression()\n",
    "print(model)"
   ]
  },
  {
   "cell_type": "code",
   "execution_count": null,
   "id": "05dd878b",
   "metadata": {},
   "outputs": [],
   "source": [
    "# Topic: Basics\n",
    "name = 'Fahd'\n",
    "print(f'Hello, {name}')"
   ]
  },
  {
   "cell_type": "code",
   "execution_count": null,
   "id": "3f011f0a",
   "metadata": {},
   "outputs": [],
   "source": [
    "# Topic: Web Scraping\n",
    "import requests\n",
    "from bs4 import BeautifulSoup\n",
    "r = requests.get('https://example.com')\n",
    "soup = BeautifulSoup(r.text, 'html.parser')\n",
    "print(soup.title.text)"
   ]
  },
  {
   "cell_type": "code",
   "execution_count": null,
   "id": "35da9c0b",
   "metadata": {},
   "outputs": [],
   "source": [
    "# Topic: Basics\n",
    "name = 'Fahd'\n",
    "print(f'Hello, {name}')"
   ]
  },
  {
   "cell_type": "code",
   "execution_count": null,
   "id": "f8eb0b1e",
   "metadata": {},
   "outputs": [],
   "source": [
    "# Topic: OOP\n",
    "class Student:\n",
    "    def __init__(self, name): self.name = name\n",
    "s = Student('Fahd')\n",
    "print(s.name)"
   ]
  },
  {
   "cell_type": "code",
   "execution_count": null,
   "id": "88819fdf",
   "metadata": {},
   "outputs": [],
   "source": [
    "# Topic: Matplotlib & Seaborn\n",
    "import matplotlib.pyplot as plt\n",
    "plt.plot([1,2],[3,4])\n",
    "plt.show()"
   ]
  },
  {
   "cell_type": "code",
   "execution_count": null,
   "id": "02d19011",
   "metadata": {},
   "outputs": [],
   "source": [
    "# Topic: Algorithms\n",
    "# Bubble sort\n",
    "def bubble(arr):\n",
    " for i in range(len(arr)):\n",
    "  for j in range(0, len(arr)-i-1):\n",
    "   if arr[j]>arr[j+1]: arr[j],arr[j+1]=arr[j+1],arr[j]\n",
    "a=[5,3,8]\n",
    "bubble(a)\n",
    "print(a)"
   ]
  },
  {
   "cell_type": "code",
   "execution_count": null,
   "id": "762e5bba",
   "metadata": {},
   "outputs": [],
   "source": [
    "# Topic: Pandas\n",
    "import pandas as pd\n",
    "df = pd.read_csv('file.csv')\n",
    "print(df.head())"
   ]
  },
  {
   "cell_type": "code",
   "execution_count": null,
   "id": "4950ad9b",
   "metadata": {},
   "outputs": [],
   "source": [
    "# Topic: File I/O\n",
    "with open('test.txt', 'r') as f:\n",
    "    print(f.read())"
   ]
  },
  {
   "cell_type": "code",
   "execution_count": null,
   "id": "5c0fa005",
   "metadata": {},
   "outputs": [],
   "source": [
    "# Topic: Data Cleaning\n",
    "import pandas as pd\n",
    "df = pd.DataFrame({'A':[1,None,3]})\n",
    "df = df.fillna(0)\n",
    "print(df)"
   ]
  },
  {
   "cell_type": "code",
   "execution_count": null,
   "id": "2fd6f22c",
   "metadata": {},
   "outputs": [],
   "source": [
    "# Topic: NumPy\n",
    "import numpy as np\n",
    "print(np.linspace(0, 1, 5))"
   ]
  },
  {
   "cell_type": "code",
   "execution_count": null,
   "id": "9e8badcb",
   "metadata": {},
   "outputs": [],
   "source": [
    "# Topic: Basic ML\n",
    "from sklearn.linear_model import LinearRegression\n",
    "model = LinearRegression()\n",
    "print(model)"
   ]
  },
  {
   "cell_type": "code",
   "execution_count": null,
   "id": "03a18aee",
   "metadata": {},
   "outputs": [],
   "source": [
    "# Topic: Pandas\n",
    "import pandas as pd\n",
    "df = pd.DataFrame({'A':[1,2],'B':[3,4]})\n",
    "print(df)"
   ]
  },
  {
   "cell_type": "code",
   "execution_count": null,
   "id": "1311a1d3",
   "metadata": {},
   "outputs": [],
   "source": [
    "# Topic: Recursion\n",
    "def fact(n): return 1 if n==0 else n*fact(n-1)\n",
    "print(fact(5))"
   ]
  },
  {
   "cell_type": "code",
   "execution_count": null,
   "id": "895daa2e",
   "metadata": {},
   "outputs": [],
   "source": [
    "# Topic: Dictionaries & Sets\n",
    "d = {'name': 'Fahd', 'age': 20}\n",
    "print(d.get('name'))"
   ]
  },
  {
   "cell_type": "code",
   "execution_count": null,
   "id": "3cbfaecb",
   "metadata": {},
   "outputs": [],
   "source": [
    "# Topic: Functions\n",
    "def square(x): return x*x\n",
    "print(square(5))"
   ]
  },
  {
   "cell_type": "code",
   "execution_count": null,
   "id": "64fbfecf",
   "metadata": {},
   "outputs": [],
   "source": [
    "# Topic: NumPy\n",
    "import numpy as np\n",
    "print(np.linspace(0, 1, 5))"
   ]
  },
  {
   "cell_type": "code",
   "execution_count": null,
   "id": "baaf51d6",
   "metadata": {},
   "outputs": [],
   "source": [
    "# Topic: Decorators\n",
    "def log(func):\n",
    " def wrapper():\n",
    "  print('Call')\n",
    "  func()\n",
    " return wrapper\n",
    "@log\n",
    "def say(): print('Hi')\n",
    "say()"
   ]
  },
  {
   "cell_type": "code",
   "execution_count": null,
   "id": "97b6b9d3",
   "metadata": {},
   "outputs": [],
   "source": [
    "# Topic: Matplotlib & Seaborn\n",
    "import matplotlib.pyplot as plt\n",
    "plt.plot([1,2],[3,4])\n",
    "plt.show()"
   ]
  },
  {
   "cell_type": "code",
   "execution_count": null,
   "id": "2e441b1a",
   "metadata": {},
   "outputs": [],
   "source": [
    "# Topic: CLI Tools\n",
    "import sys\n",
    "print(f'Arguments: {sys.argv}')"
   ]
  },
  {
   "cell_type": "code",
   "execution_count": null,
   "id": "7f89ff11",
   "metadata": {},
   "outputs": [],
   "source": [
    "# Topic: Decorators\n",
    "def log(func):\n",
    " def wrapper():\n",
    "  print('Call')\n",
    "  func()\n",
    " return wrapper\n",
    "@log\n",
    "def say(): print('Hi')\n",
    "say()"
   ]
  },
  {
   "cell_type": "code",
   "execution_count": null,
   "id": "68f9207a",
   "metadata": {},
   "outputs": [],
   "source": [
    "# Topic: NumPy\n",
    "import numpy as np\n",
    "print(np.linspace(0, 1, 5))"
   ]
  },
  {
   "cell_type": "code",
   "execution_count": null,
   "id": "f0672a09",
   "metadata": {},
   "outputs": [],
   "source": [
    "# Topic: Basic ML\n",
    "from sklearn.linear_model import LinearRegression\n",
    "model = LinearRegression()\n",
    "print(model)"
   ]
  },
  {
   "cell_type": "code",
   "execution_count": null,
   "id": "1e9821de",
   "metadata": {},
   "outputs": [],
   "source": [
    "# Topic: Matplotlib & Seaborn\n",
    "import seaborn as sns\n",
    "import pandas as pd\n",
    "sns.set()\n",
    "sns.histplot(pd.Series([1,2,2,3]));"
   ]
  },
  {
   "cell_type": "code",
   "execution_count": null,
   "id": "4e8dfabc",
   "metadata": {},
   "outputs": [],
   "source": [
    "# Topic: File I/O\n",
    "with open('test.txt', 'r') as f:\n",
    "    print(f.read())"
   ]
  },
  {
   "cell_type": "code",
   "execution_count": null,
   "id": "8f0886a7",
   "metadata": {},
   "outputs": [],
   "source": [
    "# Topic: Basics\n",
    "name = 'Fahd'\n",
    "print(f'Hello, {name}')"
   ]
  },
  {
   "cell_type": "code",
   "execution_count": null,
   "id": "c68243d3",
   "metadata": {},
   "outputs": [],
   "source": [
    "# Topic: Web Scraping\n",
    "import requests\n",
    "from bs4 import BeautifulSoup\n",
    "r = requests.get('https://example.com')\n",
    "soup = BeautifulSoup(r.text, 'html.parser')\n",
    "print(soup.title.text)"
   ]
  },
  {
   "cell_type": "code",
   "execution_count": null,
   "id": "ead6641f",
   "metadata": {},
   "outputs": [],
   "source": [
    "# Topic: NumPy\n",
    "import numpy as np\n",
    "a = np.array([1, 2, 3])\n",
    "print(a + 5)"
   ]
  },
  {
   "cell_type": "code",
   "execution_count": null,
   "id": "f35ca4a2",
   "metadata": {},
   "outputs": [],
   "source": [
    "# Topic: File I/O\n",
    "with open('test.txt', 'w') as f:\n",
    "    f.write('Hello World')"
   ]
  },
  {
   "cell_type": "code",
   "execution_count": null,
   "id": "2764f4e7",
   "metadata": {},
   "outputs": [],
   "source": [
    "# Topic: Mini Projects\n",
    "# Calculator\n",
    "def calc(a,b,op): return eval(f'{a}{op}{b}')\n",
    "print(calc(5,2,'+'))"
   ]
  },
  {
   "cell_type": "code",
   "execution_count": null,
   "id": "90c7e492",
   "metadata": {},
   "outputs": [],
   "source": [
    "# Topic: Data Cleaning\n",
    "import pandas as pd\n",
    "df = pd.DataFrame({'A':[1,None,3]})\n",
    "df = df.fillna(0)\n",
    "print(df)"
   ]
  },
  {
   "cell_type": "code",
   "execution_count": null,
   "id": "43cab48d",
   "metadata": {},
   "outputs": [],
   "source": [
    "# Topic: OOP\n",
    "class Student:\n",
    "    def __init__(self, name): self.name = name\n",
    "s = Student('Fahd')\n",
    "print(s.name)"
   ]
  },
  {
   "cell_type": "code",
   "execution_count": null,
   "id": "da829ecd",
   "metadata": {},
   "outputs": [],
   "source": [
    "# Topic: Data Cleaning\n",
    "import pandas as pd\n",
    "df = pd.DataFrame({'A':[1,None,3]})\n",
    "df = df.fillna(0)\n",
    "print(df)"
   ]
  },
  {
   "cell_type": "code",
   "execution_count": null,
   "id": "c64b4510",
   "metadata": {},
   "outputs": [],
   "source": [
    "# Topic: NumPy\n",
    "import numpy as np\n",
    "a = np.array([1, 2, 3])\n",
    "print(a + 5)"
   ]
  },
  {
   "cell_type": "code",
   "execution_count": null,
   "id": "a9dfec7d",
   "metadata": {},
   "outputs": [],
   "source": [
    "# Topic: Algorithms\n",
    "# Bubble sort\n",
    "def bubble(arr):\n",
    " for i in range(len(arr)):\n",
    "  for j in range(0, len(arr)-i-1):\n",
    "   if arr[j]>arr[j+1]: arr[j],arr[j+1]=arr[j+1],arr[j]\n",
    "a=[5,3,8]\n",
    "bubble(a)\n",
    "print(a)"
   ]
  },
  {
   "cell_type": "code",
   "execution_count": null,
   "id": "e0c36b7a",
   "metadata": {},
   "outputs": [],
   "source": [
    "# Topic: Algorithms\n",
    "# Bubble sort\n",
    "def bubble(arr):\n",
    " for i in range(len(arr)):\n",
    "  for j in range(0, len(arr)-i-1):\n",
    "   if arr[j]>arr[j+1]: arr[j],arr[j+1]=arr[j+1],arr[j]\n",
    "a=[5,3,8]\n",
    "bubble(a)\n",
    "print(a)"
   ]
  },
  {
   "cell_type": "code",
   "execution_count": null,
   "id": "f2e03f25",
   "metadata": {},
   "outputs": [],
   "source": [
    "# Topic: Data Cleaning\n",
    "import pandas as pd\n",
    "df = pd.DataFrame({'A':[1,None,3]})\n",
    "df = df.fillna(0)\n",
    "print(df)"
   ]
  },
  {
   "cell_type": "code",
   "execution_count": null,
   "id": "639d5693",
   "metadata": {},
   "outputs": [],
   "source": [
    "# Topic: Matplotlib & Seaborn\n",
    "import matplotlib.pyplot as plt\n",
    "plt.plot([1,2],[3,4])\n",
    "plt.show()"
   ]
  },
  {
   "cell_type": "code",
   "execution_count": null,
   "id": "e71eef85",
   "metadata": {},
   "outputs": [],
   "source": [
    "# Topic: Web Scraping\n",
    "import requests\n",
    "from bs4 import BeautifulSoup\n",
    "r = requests.get('https://example.com')\n",
    "soup = BeautifulSoup(r.text, 'html.parser')\n",
    "print(soup.title.text)"
   ]
  },
  {
   "cell_type": "code",
   "execution_count": null,
   "id": "8db0f571",
   "metadata": {},
   "outputs": [],
   "source": [
    "# Topic: Decorators\n",
    "def log(func):\n",
    " def wrapper():\n",
    "  print('Call')\n",
    "  func()\n",
    " return wrapper\n",
    "@log\n",
    "def say(): print('Hi')\n",
    "say()"
   ]
  },
  {
   "cell_type": "code",
   "execution_count": null,
   "id": "e0144d79",
   "metadata": {},
   "outputs": [],
   "source": [
    "# Topic: Loops\n",
    "for i in range(10): print(i*i)"
   ]
  },
  {
   "cell_type": "code",
   "execution_count": null,
   "id": "a5b9e813",
   "metadata": {},
   "outputs": [],
   "source": [
    "# Topic: Basic ML\n",
    "from sklearn.linear_model import LinearRegression\n",
    "model = LinearRegression()\n",
    "print(model)"
   ]
  },
  {
   "cell_type": "code",
   "execution_count": null,
   "id": "1faa936a",
   "metadata": {},
   "outputs": [],
   "source": [
    "# Topic: Pandas\n",
    "import pandas as pd\n",
    "df = pd.read_csv('file.csv')\n",
    "print(df.head())"
   ]
  },
  {
   "cell_type": "code",
   "execution_count": null,
   "id": "a9fa97bc",
   "metadata": {},
   "outputs": [],
   "source": [
    "# Topic: Data Cleaning\n",
    "import pandas as pd\n",
    "df = pd.DataFrame({'A':[1,None,3]})\n",
    "df = df.fillna(0)\n",
    "print(df)"
   ]
  },
  {
   "cell_type": "code",
   "execution_count": null,
   "id": "a6eda77a",
   "metadata": {},
   "outputs": [],
   "source": [
    "# Topic: CLI Tools\n",
    "import sys\n",
    "print(f'Arguments: {sys.argv}')"
   ]
  },
  {
   "cell_type": "code",
   "execution_count": null,
   "id": "5dfc7ab5",
   "metadata": {},
   "outputs": [],
   "source": [
    "# Topic: OOP\n",
    "class Student:\n",
    "    def __init__(self, name): self.name = name\n",
    "s = Student('Fahd')\n",
    "print(s.name)"
   ]
  },
  {
   "cell_type": "code",
   "execution_count": null,
   "id": "b53b5016",
   "metadata": {},
   "outputs": [],
   "source": [
    "# Topic: Mini Projects\n",
    "# Calculator\n",
    "def calc(a,b,op): return eval(f'{a}{op}{b}')\n",
    "print(calc(5,2,'+'))"
   ]
  },
  {
   "cell_type": "code",
   "execution_count": null,
   "id": "740a5b89",
   "metadata": {},
   "outputs": [],
   "source": [
    "# Topic: Algorithms\n",
    "# Bubble sort\n",
    "def bubble(arr):\n",
    " for i in range(len(arr)):\n",
    "  for j in range(0, len(arr)-i-1):\n",
    "   if arr[j]>arr[j+1]: arr[j],arr[j+1]=arr[j+1],arr[j]\n",
    "a=[5,3,8]\n",
    "bubble(a)\n",
    "print(a)"
   ]
  },
  {
   "cell_type": "code",
   "execution_count": null,
   "id": "17cd12b1",
   "metadata": {},
   "outputs": [],
   "source": [
    "# Topic: Dictionaries & Sets\n",
    "d = {'name': 'Fahd', 'age': 20}\n",
    "print(d.get('name'))"
   ]
  },
  {
   "cell_type": "code",
   "execution_count": null,
   "id": "92fd8ad2",
   "metadata": {},
   "outputs": [],
   "source": [
    "# Topic: Basic ML\n",
    "from sklearn.linear_model import LinearRegression\n",
    "model = LinearRegression()\n",
    "print(model)"
   ]
  },
  {
   "cell_type": "code",
   "execution_count": null,
   "id": "1d887648",
   "metadata": {},
   "outputs": [],
   "source": [
    "# Topic: Basics\n",
    "x = 10\n",
    "y = 20\n",
    "print(x + y)"
   ]
  },
  {
   "cell_type": "code",
   "execution_count": null,
   "id": "518d34e8",
   "metadata": {},
   "outputs": [],
   "source": [
    "# Topic: Basic ML\n",
    "from sklearn.linear_model import LinearRegression\n",
    "model = LinearRegression()\n",
    "print(model)"
   ]
  },
  {
   "cell_type": "code",
   "execution_count": null,
   "id": "7f188cf9",
   "metadata": {},
   "outputs": [],
   "source": [
    "# Topic: Decorators\n",
    "def log(func):\n",
    " def wrapper():\n",
    "  print('Call')\n",
    "  func()\n",
    " return wrapper\n",
    "@log\n",
    "def say(): print('Hi')\n",
    "say()"
   ]
  },
  {
   "cell_type": "code",
   "execution_count": null,
   "id": "e3b9cfe1",
   "metadata": {},
   "outputs": [],
   "source": [
    "# Topic: NumPy\n",
    "import numpy as np\n",
    "a = np.array([1, 2, 3])\n",
    "print(a + 5)"
   ]
  },
  {
   "cell_type": "code",
   "execution_count": null,
   "id": "8ddf5338",
   "metadata": {},
   "outputs": [],
   "source": [
    "# Topic: File I/O\n",
    "with open('test.txt', 'w') as f:\n",
    "    f.write('Hello World')"
   ]
  },
  {
   "cell_type": "code",
   "execution_count": null,
   "id": "692baf82",
   "metadata": {},
   "outputs": [],
   "source": [
    "# Topic: Basic ML\n",
    "from sklearn.linear_model import LinearRegression\n",
    "model = LinearRegression()\n",
    "print(model)"
   ]
  },
  {
   "cell_type": "code",
   "execution_count": null,
   "id": "3bf6c4e0",
   "metadata": {},
   "outputs": [],
   "source": [
    "# Topic: Web Scraping\n",
    "import requests\n",
    "from bs4 import BeautifulSoup\n",
    "r = requests.get('https://example.com')\n",
    "soup = BeautifulSoup(r.text, 'html.parser')\n",
    "print(soup.title.text)"
   ]
  },
  {
   "cell_type": "code",
   "execution_count": null,
   "id": "791f1708",
   "metadata": {},
   "outputs": [],
   "source": [
    "# Topic: NumPy\n",
    "import numpy as np\n",
    "a = np.array([1, 2, 3])\n",
    "print(a + 5)"
   ]
  },
  {
   "cell_type": "code",
   "execution_count": null,
   "id": "b4edf2f3",
   "metadata": {},
   "outputs": [],
   "source": [
    "# Topic: Web Scraping\n",
    "import requests\n",
    "from bs4 import BeautifulSoup\n",
    "r = requests.get('https://example.com')\n",
    "soup = BeautifulSoup(r.text, 'html.parser')\n",
    "print(soup.title.text)"
   ]
  },
  {
   "cell_type": "code",
   "execution_count": null,
   "id": "c8719794",
   "metadata": {},
   "outputs": [],
   "source": [
    "# Topic: Algorithms\n",
    "# Bubble sort\n",
    "def bubble(arr):\n",
    " for i in range(len(arr)):\n",
    "  for j in range(0, len(arr)-i-1):\n",
    "   if arr[j]>arr[j+1]: arr[j],arr[j+1]=arr[j+1],arr[j]\n",
    "a=[5,3,8]\n",
    "bubble(a)\n",
    "print(a)"
   ]
  },
  {
   "cell_type": "code",
   "execution_count": null,
   "id": "b47137a0",
   "metadata": {},
   "outputs": [],
   "source": [
    "# Topic: Algorithms\n",
    "# Bubble sort\n",
    "def bubble(arr):\n",
    " for i in range(len(arr)):\n",
    "  for j in range(0, len(arr)-i-1):\n",
    "   if arr[j]>arr[j+1]: arr[j],arr[j+1]=arr[j+1],arr[j]\n",
    "a=[5,3,8]\n",
    "bubble(a)\n",
    "print(a)"
   ]
  },
  {
   "cell_type": "code",
   "execution_count": null,
   "id": "3c17e150",
   "metadata": {},
   "outputs": [],
   "source": [
    "# Topic: Loops\n",
    "while True:\n",
    "    print('Break')\n",
    "    break"
   ]
  },
  {
   "cell_type": "code",
   "execution_count": null,
   "id": "148c3689",
   "metadata": {},
   "outputs": [],
   "source": [
    "# Topic: NumPy\n",
    "import numpy as np\n",
    "print(np.linspace(0, 1, 5))"
   ]
  },
  {
   "cell_type": "code",
   "execution_count": null,
   "id": "c5b42e33",
   "metadata": {},
   "outputs": [],
   "source": [
    "# Topic: Lists & Tuples\n",
    "t = (1, 2, 3)\n",
    "print(t[0])"
   ]
  },
  {
   "cell_type": "code",
   "execution_count": null,
   "id": "ac3c9c27",
   "metadata": {},
   "outputs": [],
   "source": [
    "# Topic: Mini Projects\n",
    "# Palindrome check\n",
    "def is_pal(s): return s == s[::-1]\n",
    "print(is_pal('madam'))"
   ]
  },
  {
   "cell_type": "code",
   "execution_count": null,
   "id": "0c396c4b",
   "metadata": {},
   "outputs": [],
   "source": [
    "# Topic: Regex\n",
    "import re\n",
    "text = 'email: test@example.com'\n",
    "print(re.findall(r'\\S+@\\S+', text))"
   ]
  },
  {
   "cell_type": "code",
   "execution_count": null,
   "id": "8d27af79",
   "metadata": {},
   "outputs": [],
   "source": [
    "# Topic: Basic ML\n",
    "from sklearn.linear_model import LinearRegression\n",
    "model = LinearRegression()\n",
    "print(model)"
   ]
  },
  {
   "cell_type": "code",
   "execution_count": null,
   "id": "2d00e378",
   "metadata": {},
   "outputs": [],
   "source": [
    "# Topic: Loops\n",
    "while True:\n",
    "    print('Break')\n",
    "    break"
   ]
  },
  {
   "cell_type": "code",
   "execution_count": null,
   "id": "f29cb4f4",
   "metadata": {},
   "outputs": [],
   "source": [
    "# Topic: CLI Tools\n",
    "import sys\n",
    "print(f'Arguments: {sys.argv}')"
   ]
  },
  {
   "cell_type": "code",
   "execution_count": null,
   "id": "8a9d7094",
   "metadata": {},
   "outputs": [],
   "source": [
    "# Topic: Basics\n",
    "name = 'Fahd'\n",
    "print(f'Hello, {name}')"
   ]
  },
  {
   "cell_type": "code",
   "execution_count": null,
   "id": "abc551ac",
   "metadata": {},
   "outputs": [],
   "source": [
    "# Topic: Functions\n",
    "def square(x): return x*x\n",
    "print(square(5))"
   ]
  },
  {
   "cell_type": "code",
   "execution_count": null,
   "id": "d63e6db0",
   "metadata": {},
   "outputs": [],
   "source": [
    "# Topic: Basics\n",
    "name = 'Fahd'\n",
    "print(f'Hello, {name}')"
   ]
  },
  {
   "cell_type": "code",
   "execution_count": null,
   "id": "dc4df8cf",
   "metadata": {},
   "outputs": [],
   "source": [
    "# Topic: Functions\n",
    "def greet(name='User'):\n",
    "    print(f'Hi, {name}')\n",
    "greet()"
   ]
  },
  {
   "cell_type": "code",
   "execution_count": null,
   "id": "241b6ccf",
   "metadata": {},
   "outputs": [],
   "source": [
    "# Topic: Recursion\n",
    "def fact(n): return 1 if n==0 else n*fact(n-1)\n",
    "print(fact(5))"
   ]
  },
  {
   "cell_type": "code",
   "execution_count": null,
   "id": "91bfdf0f",
   "metadata": {},
   "outputs": [],
   "source": [
    "# Topic: Decorators\n",
    "def log(func):\n",
    " def wrapper():\n",
    "  print('Call')\n",
    "  func()\n",
    " return wrapper\n",
    "@log\n",
    "def say(): print('Hi')\n",
    "say()"
   ]
  },
  {
   "cell_type": "code",
   "execution_count": null,
   "id": "26475e12",
   "metadata": {},
   "outputs": [],
   "source": [
    "# Topic: Dictionaries & Sets\n",
    "s = set([1, 2, 3, 2])\n",
    "print(s)"
   ]
  },
  {
   "cell_type": "code",
   "execution_count": null,
   "id": "5feeff5b",
   "metadata": {},
   "outputs": [],
   "source": [
    "# Topic: Decorators\n",
    "def log(func):\n",
    " def wrapper():\n",
    "  print('Call')\n",
    "  func()\n",
    " return wrapper\n",
    "@log\n",
    "def say(): print('Hi')\n",
    "say()"
   ]
  },
  {
   "cell_type": "code",
   "execution_count": null,
   "id": "c05604e4",
   "metadata": {},
   "outputs": [],
   "source": [
    "# Topic: Decorators\n",
    "def log(func):\n",
    " def wrapper():\n",
    "  print('Call')\n",
    "  func()\n",
    " return wrapper\n",
    "@log\n",
    "def say(): print('Hi')\n",
    "say()"
   ]
  },
  {
   "cell_type": "code",
   "execution_count": null,
   "id": "0623baff",
   "metadata": {},
   "outputs": [],
   "source": [
    "# Topic: Algorithms\n",
    "# Bubble sort\n",
    "def bubble(arr):\n",
    " for i in range(len(arr)):\n",
    "  for j in range(0, len(arr)-i-1):\n",
    "   if arr[j]>arr[j+1]: arr[j],arr[j+1]=arr[j+1],arr[j]\n",
    "a=[5,3,8]\n",
    "bubble(a)\n",
    "print(a)"
   ]
  },
  {
   "cell_type": "code",
   "execution_count": null,
   "id": "d4094f6d",
   "metadata": {},
   "outputs": [],
   "source": [
    "# Topic: Dictionaries & Sets\n",
    "s = set([1, 2, 3, 2])\n",
    "print(s)"
   ]
  },
  {
   "cell_type": "code",
   "execution_count": null,
   "id": "faa12db3",
   "metadata": {},
   "outputs": [],
   "source": [
    "# Topic: Basic ML\n",
    "from sklearn.linear_model import LinearRegression\n",
    "model = LinearRegression()\n",
    "print(model)"
   ]
  },
  {
   "cell_type": "code",
   "execution_count": null,
   "id": "2a1f6b92",
   "metadata": {},
   "outputs": [],
   "source": [
    "# Topic: Functions\n",
    "def greet(name='User'):\n",
    "    print(f'Hi, {name}')\n",
    "greet()"
   ]
  },
  {
   "cell_type": "code",
   "execution_count": null,
   "id": "638e269f",
   "metadata": {},
   "outputs": [],
   "source": [
    "# Topic: Matplotlib & Seaborn\n",
    "import matplotlib.pyplot as plt\n",
    "plt.plot([1,2],[3,4])\n",
    "plt.show()"
   ]
  },
  {
   "cell_type": "code",
   "execution_count": null,
   "id": "c42495dd",
   "metadata": {},
   "outputs": [],
   "source": [
    "# Topic: Lists & Tuples\n",
    "t = (1, 2, 3)\n",
    "print(t[0])"
   ]
  },
  {
   "cell_type": "code",
   "execution_count": null,
   "id": "92a9ac24",
   "metadata": {},
   "outputs": [],
   "source": [
    "# Topic: Basic ML\n",
    "from sklearn.linear_model import LinearRegression\n",
    "model = LinearRegression()\n",
    "print(model)"
   ]
  },
  {
   "cell_type": "code",
   "execution_count": null,
   "id": "4d6cd1ff",
   "metadata": {},
   "outputs": [],
   "source": [
    "# Topic: File I/O\n",
    "with open('test.txt', 'r') as f:\n",
    "    print(f.read())"
   ]
  },
  {
   "cell_type": "code",
   "execution_count": null,
   "id": "f66c4b4e",
   "metadata": {},
   "outputs": [],
   "source": [
    "# Topic: Basics\n",
    "name = 'Fahd'\n",
    "print(f'Hello, {name}')"
   ]
  },
  {
   "cell_type": "code",
   "execution_count": null,
   "id": "f6cea32b",
   "metadata": {},
   "outputs": [],
   "source": [
    "# Topic: OOP\n",
    "class Student:\n",
    "    def __init__(self, name): self.name = name\n",
    "s = Student('Fahd')\n",
    "print(s.name)"
   ]
  },
  {
   "cell_type": "code",
   "execution_count": null,
   "id": "c1849fce",
   "metadata": {},
   "outputs": [],
   "source": [
    "# Topic: Data Cleaning\n",
    "import pandas as pd\n",
    "df = pd.DataFrame({'A':[1,None,3]})\n",
    "df = df.fillna(0)\n",
    "print(df)"
   ]
  },
  {
   "cell_type": "code",
   "execution_count": null,
   "id": "0813ad70",
   "metadata": {},
   "outputs": [],
   "source": [
    "# Topic: Matplotlib & Seaborn\n",
    "import seaborn as sns\n",
    "import pandas as pd\n",
    "sns.set()\n",
    "sns.histplot(pd.Series([1,2,2,3]));"
   ]
  },
  {
   "cell_type": "code",
   "execution_count": null,
   "id": "2895aae2",
   "metadata": {},
   "outputs": [],
   "source": [
    "# Topic: Data Cleaning\n",
    "import pandas as pd\n",
    "df = pd.DataFrame({'A':[1,None,3]})\n",
    "df = df.fillna(0)\n",
    "print(df)"
   ]
  },
  {
   "cell_type": "code",
   "execution_count": null,
   "id": "a3371ccb",
   "metadata": {},
   "outputs": [],
   "source": [
    "# Topic: Pandas\n",
    "import pandas as pd\n",
    "df = pd.DataFrame({'A':[1,2],'B':[3,4]})\n",
    "print(df)"
   ]
  },
  {
   "cell_type": "code",
   "execution_count": null,
   "id": "52abf7d9",
   "metadata": {},
   "outputs": [],
   "source": [
    "# Topic: JSON & CSV\n",
    "import csv\n",
    "with open('file.csv', 'w', newline='') as f:\n",
    " csv.writer(f).writerow(['a','b','c'])"
   ]
  },
  {
   "cell_type": "code",
   "execution_count": null,
   "id": "416a4209",
   "metadata": {},
   "outputs": [],
   "source": [
    "# Topic: Algorithms\n",
    "# Bubble sort\n",
    "def bubble(arr):\n",
    " for i in range(len(arr)):\n",
    "  for j in range(0, len(arr)-i-1):\n",
    "   if arr[j]>arr[j+1]: arr[j],arr[j+1]=arr[j+1],arr[j]\n",
    "a=[5,3,8]\n",
    "bubble(a)\n",
    "print(a)"
   ]
  },
  {
   "cell_type": "code",
   "execution_count": null,
   "id": "0e7660e1",
   "metadata": {},
   "outputs": [],
   "source": [
    "# Topic: Decorators\n",
    "def log(func):\n",
    " def wrapper():\n",
    "  print('Call')\n",
    "  func()\n",
    " return wrapper\n",
    "@log\n",
    "def say(): print('Hi')\n",
    "say()"
   ]
  },
  {
   "cell_type": "code",
   "execution_count": null,
   "id": "204cdb83",
   "metadata": {},
   "outputs": [],
   "source": [
    "# Topic: Regex\n",
    "import re\n",
    "text = 'email: test@example.com'\n",
    "print(re.findall(r'\\S+@\\S+', text))"
   ]
  },
  {
   "cell_type": "code",
   "execution_count": null,
   "id": "8eb6da51",
   "metadata": {},
   "outputs": [],
   "source": [
    "# Topic: Dictionaries & Sets\n",
    "s = set([1, 2, 3, 2])\n",
    "print(s)"
   ]
  },
  {
   "cell_type": "code",
   "execution_count": null,
   "id": "e0a9b488",
   "metadata": {},
   "outputs": [],
   "source": [
    "# Topic: OOP\n",
    "class Student:\n",
    "    def __init__(self, name): self.name = name\n",
    "s = Student('Fahd')\n",
    "print(s.name)"
   ]
  },
  {
   "cell_type": "code",
   "execution_count": null,
   "id": "236f191b",
   "metadata": {},
   "outputs": [],
   "source": [
    "# Topic: Web Scraping\n",
    "import requests\n",
    "from bs4 import BeautifulSoup\n",
    "r = requests.get('https://example.com')\n",
    "soup = BeautifulSoup(r.text, 'html.parser')\n",
    "print(soup.title.text)"
   ]
  },
  {
   "cell_type": "code",
   "execution_count": null,
   "id": "55afee2d",
   "metadata": {},
   "outputs": [],
   "source": [
    "# Topic: CLI Tools\n",
    "import sys\n",
    "print(f'Arguments: {sys.argv}')"
   ]
  },
  {
   "cell_type": "code",
   "execution_count": null,
   "id": "32a763b3",
   "metadata": {},
   "outputs": [],
   "source": [
    "# Topic: JSON & CSV\n",
    "import json\n",
    "data = {'a': 1}\n",
    "print(json.dumps(data))"
   ]
  },
  {
   "cell_type": "code",
   "execution_count": null,
   "id": "782e2017",
   "metadata": {},
   "outputs": [],
   "source": [
    "# Topic: CLI Tools\n",
    "import sys\n",
    "print(f'Arguments: {sys.argv}')"
   ]
  },
  {
   "cell_type": "code",
   "execution_count": null,
   "id": "0fa38976",
   "metadata": {},
   "outputs": [],
   "source": [
    "# Topic: JSON & CSV\n",
    "import csv\n",
    "with open('file.csv', 'w', newline='') as f:\n",
    " csv.writer(f).writerow(['a','b','c'])"
   ]
  },
  {
   "cell_type": "code",
   "execution_count": null,
   "id": "30c00c2d",
   "metadata": {},
   "outputs": [],
   "source": [
    "# Topic: Data Cleaning\n",
    "import pandas as pd\n",
    "df = pd.DataFrame({'A':[1,None,3]})\n",
    "df = df.fillna(0)\n",
    "print(df)"
   ]
  },
  {
   "cell_type": "code",
   "execution_count": null,
   "id": "d8d59116",
   "metadata": {},
   "outputs": [],
   "source": [
    "# Topic: CLI Tools\n",
    "import sys\n",
    "print(f'Arguments: {sys.argv}')"
   ]
  },
  {
   "cell_type": "code",
   "execution_count": null,
   "id": "daa7ceeb",
   "metadata": {},
   "outputs": [],
   "source": [
    "# Topic: Loops\n",
    "for i in range(10): print(i*i)"
   ]
  },
  {
   "cell_type": "code",
   "execution_count": null,
   "id": "c6b00236",
   "metadata": {},
   "outputs": [],
   "source": [
    "# Topic: Loops\n",
    "while True:\n",
    "    print('Break')\n",
    "    break"
   ]
  },
  {
   "cell_type": "code",
   "execution_count": null,
   "id": "9be7ab3d",
   "metadata": {},
   "outputs": [],
   "source": [
    "# Topic: Basic ML\n",
    "from sklearn.linear_model import LinearRegression\n",
    "model = LinearRegression()\n",
    "print(model)"
   ]
  },
  {
   "cell_type": "code",
   "execution_count": null,
   "id": "46f74fe6",
   "metadata": {},
   "outputs": [],
   "source": [
    "# Topic: Basic ML\n",
    "from sklearn.linear_model import LinearRegression\n",
    "model = LinearRegression()\n",
    "print(model)"
   ]
  },
  {
   "cell_type": "code",
   "execution_count": null,
   "id": "ce2c4c2d",
   "metadata": {},
   "outputs": [],
   "source": [
    "# Topic: Lists & Tuples\n",
    "lst = [1, 2, 3]\n",
    "lst.append(4)\n",
    "print(lst)"
   ]
  },
  {
   "cell_type": "code",
   "execution_count": null,
   "id": "97d01c00",
   "metadata": {},
   "outputs": [],
   "source": [
    "# Topic: Functions\n",
    "def greet(name='User'):\n",
    "    print(f'Hi, {name}')\n",
    "greet()"
   ]
  },
  {
   "cell_type": "code",
   "execution_count": null,
   "id": "ba772eef",
   "metadata": {},
   "outputs": [],
   "source": [
    "# Topic: JSON & CSV\n",
    "import csv\n",
    "with open('file.csv', 'w', newline='') as f:\n",
    " csv.writer(f).writerow(['a','b','c'])"
   ]
  },
  {
   "cell_type": "code",
   "execution_count": null,
   "id": "2477b7fe",
   "metadata": {},
   "outputs": [],
   "source": [
    "# Topic: NumPy\n",
    "import numpy as np\n",
    "a = np.array([1, 2, 3])\n",
    "print(a + 5)"
   ]
  },
  {
   "cell_type": "code",
   "execution_count": null,
   "id": "bf503711",
   "metadata": {},
   "outputs": [],
   "source": [
    "# Topic: Web Scraping\n",
    "import requests\n",
    "from bs4 import BeautifulSoup\n",
    "r = requests.get('https://example.com')\n",
    "soup = BeautifulSoup(r.text, 'html.parser')\n",
    "print(soup.title.text)"
   ]
  },
  {
   "cell_type": "code",
   "execution_count": null,
   "id": "7fb900b6",
   "metadata": {},
   "outputs": [],
   "source": [
    "# Topic: Lists & Tuples\n",
    "lst = [1, 2, 3]\n",
    "lst.append(4)\n",
    "print(lst)"
   ]
  },
  {
   "cell_type": "code",
   "execution_count": null,
   "id": "75ab7e3a",
   "metadata": {},
   "outputs": [],
   "source": [
    "# Topic: Regex\n",
    "import re\n",
    "text = 'email: test@example.com'\n",
    "print(re.findall(r'\\S+@\\S+', text))"
   ]
  },
  {
   "cell_type": "code",
   "execution_count": null,
   "id": "3100aa02",
   "metadata": {},
   "outputs": [],
   "source": [
    "# Topic: JSON & CSV\n",
    "import json\n",
    "data = {'a': 1}\n",
    "print(json.dumps(data))"
   ]
  },
  {
   "cell_type": "code",
   "execution_count": null,
   "id": "3854ef01",
   "metadata": {},
   "outputs": [],
   "source": [
    "# Topic: Data Cleaning\n",
    "import pandas as pd\n",
    "df = pd.DataFrame({'A':[1,None,3]})\n",
    "df = df.fillna(0)\n",
    "print(df)"
   ]
  },
  {
   "cell_type": "code",
   "execution_count": null,
   "id": "6a0c703a",
   "metadata": {},
   "outputs": [],
   "source": [
    "# Topic: Decorators\n",
    "def log(func):\n",
    " def wrapper():\n",
    "  print('Call')\n",
    "  func()\n",
    " return wrapper\n",
    "@log\n",
    "def say(): print('Hi')\n",
    "say()"
   ]
  },
  {
   "cell_type": "code",
   "execution_count": null,
   "id": "77291c74",
   "metadata": {},
   "outputs": [],
   "source": [
    "# Topic: Dictionaries & Sets\n",
    "s = set([1, 2, 3, 2])\n",
    "print(s)"
   ]
  },
  {
   "cell_type": "code",
   "execution_count": null,
   "id": "03f0eb65",
   "metadata": {},
   "outputs": [],
   "source": [
    "# Topic: Matplotlib & Seaborn\n",
    "import matplotlib.pyplot as plt\n",
    "plt.plot([1,2],[3,4])\n",
    "plt.show()"
   ]
  },
  {
   "cell_type": "code",
   "execution_count": null,
   "id": "8c35f571",
   "metadata": {},
   "outputs": [],
   "source": [
    "# Topic: NumPy\n",
    "import numpy as np\n",
    "a = np.array([1, 2, 3])\n",
    "print(a + 5)"
   ]
  },
  {
   "cell_type": "code",
   "execution_count": null,
   "id": "a8f3df8e",
   "metadata": {},
   "outputs": [],
   "source": [
    "# Topic: JSON & CSV\n",
    "import csv\n",
    "with open('file.csv', 'w', newline='') as f:\n",
    " csv.writer(f).writerow(['a','b','c'])"
   ]
  },
  {
   "cell_type": "code",
   "execution_count": null,
   "id": "a044591d",
   "metadata": {},
   "outputs": [],
   "source": [
    "# Topic: Matplotlib & Seaborn\n",
    "import seaborn as sns\n",
    "import pandas as pd\n",
    "sns.set()\n",
    "sns.histplot(pd.Series([1,2,2,3]));"
   ]
  },
  {
   "cell_type": "code",
   "execution_count": null,
   "id": "1cac70c9",
   "metadata": {},
   "outputs": [],
   "source": [
    "# Topic: Lists & Tuples\n",
    "t = (1, 2, 3)\n",
    "print(t[0])"
   ]
  },
  {
   "cell_type": "code",
   "execution_count": null,
   "id": "260e9d8d",
   "metadata": {},
   "outputs": [],
   "source": [
    "# Topic: Loops\n",
    "for i in range(10): print(i*i)"
   ]
  },
  {
   "cell_type": "code",
   "execution_count": null,
   "id": "6f316183",
   "metadata": {},
   "outputs": [],
   "source": [
    "# Topic: Basic ML\n",
    "from sklearn.linear_model import LinearRegression\n",
    "model = LinearRegression()\n",
    "print(model)"
   ]
  },
  {
   "cell_type": "code",
   "execution_count": null,
   "id": "5703358c",
   "metadata": {},
   "outputs": [],
   "source": [
    "# Topic: Basics\n",
    "x = 10\n",
    "y = 20\n",
    "print(x + y)"
   ]
  },
  {
   "cell_type": "code",
   "execution_count": null,
   "id": "e5d30097",
   "metadata": {},
   "outputs": [],
   "source": [
    "# Topic: File I/O\n",
    "with open('test.txt', 'w') as f:\n",
    "    f.write('Hello World')"
   ]
  },
  {
   "cell_type": "code",
   "execution_count": null,
   "id": "07fc3881",
   "metadata": {},
   "outputs": [],
   "source": [
    "# Topic: Dictionaries & Sets\n",
    "d = {'name': 'Fahd', 'age': 20}\n",
    "print(d.get('name'))"
   ]
  },
  {
   "cell_type": "code",
   "execution_count": null,
   "id": "888bb8dc",
   "metadata": {},
   "outputs": [],
   "source": [
    "# Topic: Mini Projects\n",
    "# Palindrome check\n",
    "def is_pal(s): return s == s[::-1]\n",
    "print(is_pal('madam'))"
   ]
  },
  {
   "cell_type": "code",
   "execution_count": null,
   "id": "cd401d18",
   "metadata": {},
   "outputs": [],
   "source": [
    "# Topic: NumPy\n",
    "import numpy as np\n",
    "a = np.array([1, 2, 3])\n",
    "print(a + 5)"
   ]
  },
  {
   "cell_type": "code",
   "execution_count": null,
   "id": "b3e17d9d",
   "metadata": {},
   "outputs": [],
   "source": [
    "# Topic: Regex\n",
    "import re\n",
    "text = 'email: test@example.com'\n",
    "print(re.findall(r'\\S+@\\S+', text))"
   ]
  },
  {
   "cell_type": "code",
   "execution_count": null,
   "id": "a6545847",
   "metadata": {},
   "outputs": [],
   "source": [
    "# Topic: Functions\n",
    "def square(x): return x*x\n",
    "print(square(5))"
   ]
  },
  {
   "cell_type": "code",
   "execution_count": null,
   "id": "1f3a1e39",
   "metadata": {},
   "outputs": [],
   "source": [
    "# Topic: Data Cleaning\n",
    "import pandas as pd\n",
    "df = pd.DataFrame({'A':[1,None,3]})\n",
    "df = df.fillna(0)\n",
    "print(df)"
   ]
  },
  {
   "cell_type": "code",
   "execution_count": null,
   "id": "567580cc",
   "metadata": {},
   "outputs": [],
   "source": [
    "# Topic: Pandas\n",
    "import pandas as pd\n",
    "df = pd.DataFrame({'A':[1,2],'B':[3,4]})\n",
    "print(df)"
   ]
  },
  {
   "cell_type": "code",
   "execution_count": null,
   "id": "68e1e101",
   "metadata": {},
   "outputs": [],
   "source": [
    "# Topic: JSON & CSV\n",
    "import json\n",
    "data = {'a': 1}\n",
    "print(json.dumps(data))"
   ]
  },
  {
   "cell_type": "code",
   "execution_count": null,
   "id": "d7ee5ca9",
   "metadata": {},
   "outputs": [],
   "source": [
    "# Topic: OOP\n",
    "class Student:\n",
    "    def __init__(self, name): self.name = name\n",
    "s = Student('Fahd')\n",
    "print(s.name)"
   ]
  },
  {
   "cell_type": "code",
   "execution_count": null,
   "id": "c4d1288b",
   "metadata": {},
   "outputs": [],
   "source": [
    "# Topic: Functions\n",
    "def greet(name='User'):\n",
    "    print(f'Hi, {name}')\n",
    "greet()"
   ]
  },
  {
   "cell_type": "code",
   "execution_count": null,
   "id": "c4f6ffa6",
   "metadata": {},
   "outputs": [],
   "source": [
    "# Topic: Web Scraping\n",
    "import requests\n",
    "from bs4 import BeautifulSoup\n",
    "r = requests.get('https://example.com')\n",
    "soup = BeautifulSoup(r.text, 'html.parser')\n",
    "print(soup.title.text)"
   ]
  },
  {
   "cell_type": "code",
   "execution_count": null,
   "id": "e7cb3b81",
   "metadata": {},
   "outputs": [],
   "source": [
    "# Topic: Web Scraping\n",
    "import requests\n",
    "from bs4 import BeautifulSoup\n",
    "r = requests.get('https://example.com')\n",
    "soup = BeautifulSoup(r.text, 'html.parser')\n",
    "print(soup.title.text)"
   ]
  },
  {
   "cell_type": "code",
   "execution_count": null,
   "id": "bbb33cb9",
   "metadata": {},
   "outputs": [],
   "source": [
    "# Topic: Basic ML\n",
    "from sklearn.linear_model import LinearRegression\n",
    "model = LinearRegression()\n",
    "print(model)"
   ]
  },
  {
   "cell_type": "code",
   "execution_count": null,
   "id": "e3bb18e9",
   "metadata": {},
   "outputs": [],
   "source": [
    "# Topic: Decorators\n",
    "def log(func):\n",
    " def wrapper():\n",
    "  print('Call')\n",
    "  func()\n",
    " return wrapper\n",
    "@log\n",
    "def say(): print('Hi')\n",
    "say()"
   ]
  },
  {
   "cell_type": "code",
   "execution_count": null,
   "id": "264d74d5",
   "metadata": {},
   "outputs": [],
   "source": [
    "# Topic: Basic ML\n",
    "from sklearn.linear_model import LinearRegression\n",
    "model = LinearRegression()\n",
    "print(model)"
   ]
  },
  {
   "cell_type": "code",
   "execution_count": null,
   "id": "d4c37702",
   "metadata": {},
   "outputs": [],
   "source": [
    "# Topic: Lists & Tuples\n",
    "lst = [1, 2, 3]\n",
    "lst.append(4)\n",
    "print(lst)"
   ]
  },
  {
   "cell_type": "code",
   "execution_count": null,
   "id": "86c6ea3a",
   "metadata": {},
   "outputs": [],
   "source": [
    "# Topic: Basic ML\n",
    "from sklearn.linear_model import LinearRegression\n",
    "model = LinearRegression()\n",
    "print(model)"
   ]
  },
  {
   "cell_type": "code",
   "execution_count": null,
   "id": "4152115e",
   "metadata": {},
   "outputs": [],
   "source": [
    "# Topic: CLI Tools\n",
    "import sys\n",
    "print(f'Arguments: {sys.argv}')"
   ]
  },
  {
   "cell_type": "code",
   "execution_count": null,
   "id": "5b9dedc7",
   "metadata": {},
   "outputs": [],
   "source": [
    "# Topic: Recursion\n",
    "def fact(n): return 1 if n==0 else n*fact(n-1)\n",
    "print(fact(5))"
   ]
  },
  {
   "cell_type": "code",
   "execution_count": null,
   "id": "ff51f60a",
   "metadata": {},
   "outputs": [],
   "source": [
    "# Topic: Data Cleaning\n",
    "import pandas as pd\n",
    "df = pd.DataFrame({'A':[1,None,3]})\n",
    "df = df.fillna(0)\n",
    "print(df)"
   ]
  },
  {
   "cell_type": "code",
   "execution_count": null,
   "id": "b9579690",
   "metadata": {},
   "outputs": [],
   "source": [
    "# Topic: Decorators\n",
    "def log(func):\n",
    " def wrapper():\n",
    "  print('Call')\n",
    "  func()\n",
    " return wrapper\n",
    "@log\n",
    "def say(): print('Hi')\n",
    "say()"
   ]
  },
  {
   "cell_type": "code",
   "execution_count": null,
   "id": "05b09c71",
   "metadata": {},
   "outputs": [],
   "source": [
    "# Topic: Loops\n",
    "while True:\n",
    "    print('Break')\n",
    "    break"
   ]
  },
  {
   "cell_type": "code",
   "execution_count": null,
   "id": "b102ecd9",
   "metadata": {},
   "outputs": [],
   "source": [
    "# Topic: Recursion\n",
    "def fact(n): return 1 if n==0 else n*fact(n-1)\n",
    "print(fact(5))"
   ]
  },
  {
   "cell_type": "code",
   "execution_count": null,
   "id": "d3559a71",
   "metadata": {},
   "outputs": [],
   "source": [
    "# Topic: Algorithms\n",
    "# Bubble sort\n",
    "def bubble(arr):\n",
    " for i in range(len(arr)):\n",
    "  for j in range(0, len(arr)-i-1):\n",
    "   if arr[j]>arr[j+1]: arr[j],arr[j+1]=arr[j+1],arr[j]\n",
    "a=[5,3,8]\n",
    "bubble(a)\n",
    "print(a)"
   ]
  },
  {
   "cell_type": "code",
   "execution_count": null,
   "id": "5626fbd8",
   "metadata": {},
   "outputs": [],
   "source": [
    "# Topic: Recursion\n",
    "def fact(n): return 1 if n==0 else n*fact(n-1)\n",
    "print(fact(5))"
   ]
  },
  {
   "cell_type": "code",
   "execution_count": null,
   "id": "6d0e299c",
   "metadata": {},
   "outputs": [],
   "source": [
    "# Topic: Matplotlib & Seaborn\n",
    "import matplotlib.pyplot as plt\n",
    "plt.plot([1,2],[3,4])\n",
    "plt.show()"
   ]
  },
  {
   "cell_type": "code",
   "execution_count": null,
   "id": "d9e4ca7e",
   "metadata": {},
   "outputs": [],
   "source": [
    "# Topic: Data Cleaning\n",
    "import pandas as pd\n",
    "df = pd.DataFrame({'A':[1,None,3]})\n",
    "df = df.fillna(0)\n",
    "print(df)"
   ]
  },
  {
   "cell_type": "code",
   "execution_count": null,
   "id": "0ef47a37",
   "metadata": {},
   "outputs": [],
   "source": [
    "# Topic: Recursion\n",
    "def fact(n): return 1 if n==0 else n*fact(n-1)\n",
    "print(fact(5))"
   ]
  },
  {
   "cell_type": "code",
   "execution_count": null,
   "id": "30f77bb9",
   "metadata": {},
   "outputs": [],
   "source": [
    "# Topic: Basic ML\n",
    "from sklearn.linear_model import LinearRegression\n",
    "model = LinearRegression()\n",
    "print(model)"
   ]
  },
  {
   "cell_type": "code",
   "execution_count": null,
   "id": "f1470221",
   "metadata": {},
   "outputs": [],
   "source": [
    "# Topic: NumPy\n",
    "import numpy as np\n",
    "a = np.array([1, 2, 3])\n",
    "print(a + 5)"
   ]
  },
  {
   "cell_type": "code",
   "execution_count": null,
   "id": "718aa259",
   "metadata": {},
   "outputs": [],
   "source": [
    "# Topic: Basics\n",
    "x = 10\n",
    "y = 20\n",
    "print(x + y)"
   ]
  },
  {
   "cell_type": "code",
   "execution_count": null,
   "id": "5396fe7e",
   "metadata": {},
   "outputs": [],
   "source": [
    "# Topic: CLI Tools\n",
    "import sys\n",
    "print(f'Arguments: {sys.argv}')"
   ]
  },
  {
   "cell_type": "code",
   "execution_count": null,
   "id": "367507b5",
   "metadata": {},
   "outputs": [],
   "source": [
    "# Topic: Algorithms\n",
    "# Bubble sort\n",
    "def bubble(arr):\n",
    " for i in range(len(arr)):\n",
    "  for j in range(0, len(arr)-i-1):\n",
    "   if arr[j]>arr[j+1]: arr[j],arr[j+1]=arr[j+1],arr[j]\n",
    "a=[5,3,8]\n",
    "bubble(a)\n",
    "print(a)"
   ]
  },
  {
   "cell_type": "code",
   "execution_count": null,
   "id": "c357a8b9",
   "metadata": {},
   "outputs": [],
   "source": [
    "# Topic: OOP\n",
    "class Student:\n",
    "    def __init__(self, name): self.name = name\n",
    "s = Student('Fahd')\n",
    "print(s.name)"
   ]
  },
  {
   "cell_type": "code",
   "execution_count": null,
   "id": "d47ba327",
   "metadata": {},
   "outputs": [],
   "source": [
    "# Topic: Dictionaries & Sets\n",
    "s = set([1, 2, 3, 2])\n",
    "print(s)"
   ]
  },
  {
   "cell_type": "code",
   "execution_count": null,
   "id": "42283734",
   "metadata": {},
   "outputs": [],
   "source": [
    "# Topic: Functions\n",
    "def greet(name='User'):\n",
    "    print(f'Hi, {name}')\n",
    "greet()"
   ]
  },
  {
   "cell_type": "code",
   "execution_count": null,
   "id": "2cb52be2",
   "metadata": {},
   "outputs": [],
   "source": [
    "# Topic: Loops\n",
    "for i in range(10): print(i*i)"
   ]
  },
  {
   "cell_type": "code",
   "execution_count": null,
   "id": "3fc8ff0d",
   "metadata": {},
   "outputs": [],
   "source": [
    "# Topic: Matplotlib & Seaborn\n",
    "import matplotlib.pyplot as plt\n",
    "plt.plot([1,2],[3,4])\n",
    "plt.show()"
   ]
  },
  {
   "cell_type": "code",
   "execution_count": null,
   "id": "48573823",
   "metadata": {},
   "outputs": [],
   "source": [
    "# Topic: Algorithms\n",
    "# Bubble sort\n",
    "def bubble(arr):\n",
    " for i in range(len(arr)):\n",
    "  for j in range(0, len(arr)-i-1):\n",
    "   if arr[j]>arr[j+1]: arr[j],arr[j+1]=arr[j+1],arr[j]\n",
    "a=[5,3,8]\n",
    "bubble(a)\n",
    "print(a)"
   ]
  },
  {
   "cell_type": "code",
   "execution_count": null,
   "id": "a29cdc08",
   "metadata": {},
   "outputs": [],
   "source": [
    "# Topic: File I/O\n",
    "with open('test.txt', 'r') as f:\n",
    "    print(f.read())"
   ]
  },
  {
   "cell_type": "code",
   "execution_count": null,
   "id": "e288f694",
   "metadata": {},
   "outputs": [],
   "source": [
    "# Topic: Basic ML\n",
    "from sklearn.linear_model import LinearRegression\n",
    "model = LinearRegression()\n",
    "print(model)"
   ]
  },
  {
   "cell_type": "code",
   "execution_count": null,
   "id": "7c92810a",
   "metadata": {},
   "outputs": [],
   "source": [
    "# Topic: NumPy\n",
    "import numpy as np\n",
    "a = np.array([1, 2, 3])\n",
    "print(a + 5)"
   ]
  },
  {
   "cell_type": "code",
   "execution_count": null,
   "id": "af60232b",
   "metadata": {},
   "outputs": [],
   "source": [
    "# Topic: Decorators\n",
    "def log(func):\n",
    " def wrapper():\n",
    "  print('Call')\n",
    "  func()\n",
    " return wrapper\n",
    "@log\n",
    "def say(): print('Hi')\n",
    "say()"
   ]
  },
  {
   "cell_type": "code",
   "execution_count": null,
   "id": "ff3a06de",
   "metadata": {},
   "outputs": [],
   "source": [
    "# Topic: Data Cleaning\n",
    "import pandas as pd\n",
    "df = pd.DataFrame({'A':[1,None,3]})\n",
    "df = df.fillna(0)\n",
    "print(df)"
   ]
  },
  {
   "cell_type": "code",
   "execution_count": null,
   "id": "dcf7c79d",
   "metadata": {},
   "outputs": [],
   "source": [
    "# Topic: Decorators\n",
    "def log(func):\n",
    " def wrapper():\n",
    "  print('Call')\n",
    "  func()\n",
    " return wrapper\n",
    "@log\n",
    "def say(): print('Hi')\n",
    "say()"
   ]
  },
  {
   "cell_type": "code",
   "execution_count": null,
   "id": "2886ce1d",
   "metadata": {},
   "outputs": [],
   "source": [
    "# Topic: OOP\n",
    "class Student:\n",
    "    def __init__(self, name): self.name = name\n",
    "s = Student('Fahd')\n",
    "print(s.name)"
   ]
  },
  {
   "cell_type": "code",
   "execution_count": null,
   "id": "cdd5f6c1",
   "metadata": {},
   "outputs": [],
   "source": [
    "# Topic: Decorators\n",
    "def log(func):\n",
    " def wrapper():\n",
    "  print('Call')\n",
    "  func()\n",
    " return wrapper\n",
    "@log\n",
    "def say(): print('Hi')\n",
    "say()"
   ]
  },
  {
   "cell_type": "code",
   "execution_count": null,
   "id": "61fe51b5",
   "metadata": {},
   "outputs": [],
   "source": [
    "# Topic: Functions\n",
    "def square(x): return x*x\n",
    "print(square(5))"
   ]
  },
  {
   "cell_type": "code",
   "execution_count": null,
   "id": "36b5f9d9",
   "metadata": {},
   "outputs": [],
   "source": [
    "# Topic: JSON & CSV\n",
    "import json\n",
    "data = {'a': 1}\n",
    "print(json.dumps(data))"
   ]
  },
  {
   "cell_type": "code",
   "execution_count": null,
   "id": "e64ee328",
   "metadata": {},
   "outputs": [],
   "source": [
    "# Topic: Data Cleaning\n",
    "import pandas as pd\n",
    "df = pd.DataFrame({'A':[1,None,3]})\n",
    "df = df.fillna(0)\n",
    "print(df)"
   ]
  },
  {
   "cell_type": "code",
   "execution_count": null,
   "id": "6a241cbb",
   "metadata": {},
   "outputs": [],
   "source": [
    "# Topic: Pandas\n",
    "import pandas as pd\n",
    "df = pd.read_csv('file.csv')\n",
    "print(df.head())"
   ]
  },
  {
   "cell_type": "code",
   "execution_count": null,
   "id": "744e6158",
   "metadata": {},
   "outputs": [],
   "source": [
    "# Topic: Basic ML\n",
    "from sklearn.linear_model import LinearRegression\n",
    "model = LinearRegression()\n",
    "print(model)"
   ]
  },
  {
   "cell_type": "code",
   "execution_count": null,
   "id": "fcc4d403",
   "metadata": {},
   "outputs": [],
   "source": [
    "# Topic: Dictionaries & Sets\n",
    "d = {'name': 'Fahd', 'age': 20}\n",
    "print(d.get('name'))"
   ]
  },
  {
   "cell_type": "code",
   "execution_count": null,
   "id": "34432013",
   "metadata": {},
   "outputs": [],
   "source": [
    "# Topic: NumPy\n",
    "import numpy as np\n",
    "print(np.linspace(0, 1, 5))"
   ]
  },
  {
   "cell_type": "code",
   "execution_count": null,
   "id": "4fff2982",
   "metadata": {},
   "outputs": [],
   "source": [
    "# Topic: JSON & CSV\n",
    "import csv\n",
    "with open('file.csv', 'w', newline='') as f:\n",
    " csv.writer(f).writerow(['a','b','c'])"
   ]
  },
  {
   "cell_type": "code",
   "execution_count": null,
   "id": "5200d097",
   "metadata": {},
   "outputs": [],
   "source": [
    "# Topic: OOP\n",
    "class Student:\n",
    "    def __init__(self, name): self.name = name\n",
    "s = Student('Fahd')\n",
    "print(s.name)"
   ]
  },
  {
   "cell_type": "code",
   "execution_count": null,
   "id": "1cd0edeb",
   "metadata": {},
   "outputs": [],
   "source": [
    "# Topic: Functions\n",
    "def square(x): return x*x\n",
    "print(square(5))"
   ]
  },
  {
   "cell_type": "code",
   "execution_count": null,
   "id": "6886237b",
   "metadata": {},
   "outputs": [],
   "source": [
    "# Topic: CLI Tools\n",
    "import sys\n",
    "print(f'Arguments: {sys.argv}')"
   ]
  },
  {
   "cell_type": "code",
   "execution_count": null,
   "id": "323a8571",
   "metadata": {},
   "outputs": [],
   "source": [
    "# Topic: Algorithms\n",
    "# Bubble sort\n",
    "def bubble(arr):\n",
    " for i in range(len(arr)):\n",
    "  for j in range(0, len(arr)-i-1):\n",
    "   if arr[j]>arr[j+1]: arr[j],arr[j+1]=arr[j+1],arr[j]\n",
    "a=[5,3,8]\n",
    "bubble(a)\n",
    "print(a)"
   ]
  },
  {
   "cell_type": "code",
   "execution_count": null,
   "id": "6cf4862e",
   "metadata": {},
   "outputs": [],
   "source": [
    "# Topic: Lists & Tuples\n",
    "t = (1, 2, 3)\n",
    "print(t[0])"
   ]
  },
  {
   "cell_type": "code",
   "execution_count": null,
   "id": "e2c92888",
   "metadata": {},
   "outputs": [],
   "source": [
    "# Topic: File I/O\n",
    "with open('test.txt', 'r') as f:\n",
    "    print(f.read())"
   ]
  },
  {
   "cell_type": "code",
   "execution_count": null,
   "id": "1336625a",
   "metadata": {},
   "outputs": [],
   "source": [
    "# Topic: File I/O\n",
    "with open('test.txt', 'r') as f:\n",
    "    print(f.read())"
   ]
  },
  {
   "cell_type": "code",
   "execution_count": null,
   "id": "5b6dbcc6",
   "metadata": {},
   "outputs": [],
   "source": [
    "# Topic: Basic ML\n",
    "from sklearn.linear_model import LinearRegression\n",
    "model = LinearRegression()\n",
    "print(model)"
   ]
  },
  {
   "cell_type": "code",
   "execution_count": null,
   "id": "d4a82132",
   "metadata": {},
   "outputs": [],
   "source": [
    "# Topic: Algorithms\n",
    "# Bubble sort\n",
    "def bubble(arr):\n",
    " for i in range(len(arr)):\n",
    "  for j in range(0, len(arr)-i-1):\n",
    "   if arr[j]>arr[j+1]: arr[j],arr[j+1]=arr[j+1],arr[j]\n",
    "a=[5,3,8]\n",
    "bubble(a)\n",
    "print(a)"
   ]
  },
  {
   "cell_type": "code",
   "execution_count": null,
   "id": "4e1a8aaa",
   "metadata": {},
   "outputs": [],
   "source": [
    "# Topic: Regex\n",
    "import re\n",
    "text = 'email: test@example.com'\n",
    "print(re.findall(r'\\S+@\\S+', text))"
   ]
  },
  {
   "cell_type": "code",
   "execution_count": null,
   "id": "331dcda2",
   "metadata": {},
   "outputs": [],
   "source": [
    "# Topic: CLI Tools\n",
    "import sys\n",
    "print(f'Arguments: {sys.argv}')"
   ]
  },
  {
   "cell_type": "code",
   "execution_count": null,
   "id": "7af1ae03",
   "metadata": {},
   "outputs": [],
   "source": [
    "# Topic: Functions\n",
    "def greet(name='User'):\n",
    "    print(f'Hi, {name}')\n",
    "greet()"
   ]
  },
  {
   "cell_type": "code",
   "execution_count": null,
   "id": "ae35a98e",
   "metadata": {},
   "outputs": [],
   "source": [
    "# Topic: Functions\n",
    "def square(x): return x*x\n",
    "print(square(5))"
   ]
  },
  {
   "cell_type": "code",
   "execution_count": null,
   "id": "417a9310",
   "metadata": {},
   "outputs": [],
   "source": [
    "# Topic: Recursion\n",
    "def fact(n): return 1 if n==0 else n*fact(n-1)\n",
    "print(fact(5))"
   ]
  },
  {
   "cell_type": "code",
   "execution_count": null,
   "id": "1f5a0f7d",
   "metadata": {},
   "outputs": [],
   "source": [
    "# Topic: Functions\n",
    "def square(x): return x*x\n",
    "print(square(5))"
   ]
  },
  {
   "cell_type": "code",
   "execution_count": null,
   "id": "75b5adcf",
   "metadata": {},
   "outputs": [],
   "source": [
    "# Topic: Lists & Tuples\n",
    "t = (1, 2, 3)\n",
    "print(t[0])"
   ]
  },
  {
   "cell_type": "code",
   "execution_count": null,
   "id": "3e05e09e",
   "metadata": {},
   "outputs": [],
   "source": [
    "# Topic: Lists & Tuples\n",
    "lst = [1, 2, 3]\n",
    "lst.append(4)\n",
    "print(lst)"
   ]
  },
  {
   "cell_type": "code",
   "execution_count": null,
   "id": "31a41b0e",
   "metadata": {},
   "outputs": [],
   "source": [
    "# Topic: Pandas\n",
    "import pandas as pd\n",
    "df = pd.read_csv('file.csv')\n",
    "print(df.head())"
   ]
  },
  {
   "cell_type": "code",
   "execution_count": null,
   "id": "b59d9ad6",
   "metadata": {},
   "outputs": [],
   "source": [
    "# Topic: Recursion\n",
    "def fact(n): return 1 if n==0 else n*fact(n-1)\n",
    "print(fact(5))"
   ]
  },
  {
   "cell_type": "code",
   "execution_count": null,
   "id": "04ccaf7f",
   "metadata": {},
   "outputs": [],
   "source": [
    "# Topic: Web Scraping\n",
    "import requests\n",
    "from bs4 import BeautifulSoup\n",
    "r = requests.get('https://example.com')\n",
    "soup = BeautifulSoup(r.text, 'html.parser')\n",
    "print(soup.title.text)"
   ]
  },
  {
   "cell_type": "code",
   "execution_count": null,
   "id": "adc64b8a",
   "metadata": {},
   "outputs": [],
   "source": [
    "# Topic: Pandas\n",
    "import pandas as pd\n",
    "df = pd.DataFrame({'A':[1,2],'B':[3,4]})\n",
    "print(df)"
   ]
  },
  {
   "cell_type": "code",
   "execution_count": null,
   "id": "7c174376",
   "metadata": {},
   "outputs": [],
   "source": [
    "# Topic: OOP\n",
    "class Student:\n",
    "    def __init__(self, name): self.name = name\n",
    "s = Student('Fahd')\n",
    "print(s.name)"
   ]
  },
  {
   "cell_type": "code",
   "execution_count": null,
   "id": "195ada93",
   "metadata": {},
   "outputs": [],
   "source": [
    "# Topic: File I/O\n",
    "with open('test.txt', 'r') as f:\n",
    "    print(f.read())"
   ]
  },
  {
   "cell_type": "code",
   "execution_count": null,
   "id": "bd34588a",
   "metadata": {},
   "outputs": [],
   "source": [
    "# Topic: File I/O\n",
    "with open('test.txt', 'r') as f:\n",
    "    print(f.read())"
   ]
  },
  {
   "cell_type": "code",
   "execution_count": null,
   "id": "2f72450e",
   "metadata": {},
   "outputs": [],
   "source": [
    "# Topic: Recursion\n",
    "def fact(n): return 1 if n==0 else n*fact(n-1)\n",
    "print(fact(5))"
   ]
  },
  {
   "cell_type": "code",
   "execution_count": null,
   "id": "d84cc575",
   "metadata": {},
   "outputs": [],
   "source": [
    "# Topic: Regex\n",
    "import re\n",
    "text = 'email: test@example.com'\n",
    "print(re.findall(r'\\S+@\\S+', text))"
   ]
  },
  {
   "cell_type": "code",
   "execution_count": null,
   "id": "9278fa52",
   "metadata": {},
   "outputs": [],
   "source": [
    "# Topic: Algorithms\n",
    "# Bubble sort\n",
    "def bubble(arr):\n",
    " for i in range(len(arr)):\n",
    "  for j in range(0, len(arr)-i-1):\n",
    "   if arr[j]>arr[j+1]: arr[j],arr[j+1]=arr[j+1],arr[j]\n",
    "a=[5,3,8]\n",
    "bubble(a)\n",
    "print(a)"
   ]
  },
  {
   "cell_type": "code",
   "execution_count": null,
   "id": "12bacfea",
   "metadata": {},
   "outputs": [],
   "source": [
    "# Topic: Recursion\n",
    "def fact(n): return 1 if n==0 else n*fact(n-1)\n",
    "print(fact(5))"
   ]
  },
  {
   "cell_type": "code",
   "execution_count": null,
   "id": "59a3cc8c",
   "metadata": {},
   "outputs": [],
   "source": [
    "# Topic: Loops\n",
    "while True:\n",
    "    print('Break')\n",
    "    break"
   ]
  },
  {
   "cell_type": "code",
   "execution_count": null,
   "id": "1ed02573",
   "metadata": {},
   "outputs": [],
   "source": [
    "# Topic: CLI Tools\n",
    "import sys\n",
    "print(f'Arguments: {sys.argv}')"
   ]
  },
  {
   "cell_type": "code",
   "execution_count": null,
   "id": "9438b4a9",
   "metadata": {},
   "outputs": [],
   "source": [
    "# Topic: CLI Tools\n",
    "import sys\n",
    "print(f'Arguments: {sys.argv}')"
   ]
  },
  {
   "cell_type": "code",
   "execution_count": null,
   "id": "940c621f",
   "metadata": {},
   "outputs": [],
   "source": [
    "# Topic: Dictionaries & Sets\n",
    "d = {'name': 'Fahd', 'age': 20}\n",
    "print(d.get('name'))"
   ]
  },
  {
   "cell_type": "code",
   "execution_count": null,
   "id": "c0c4ee49",
   "metadata": {},
   "outputs": [],
   "source": [
    "# Topic: CLI Tools\n",
    "import sys\n",
    "print(f'Arguments: {sys.argv}')"
   ]
  },
  {
   "cell_type": "code",
   "execution_count": null,
   "id": "78550590",
   "metadata": {},
   "outputs": [],
   "source": [
    "# Topic: Lists & Tuples\n",
    "lst = [1, 2, 3]\n",
    "lst.append(4)\n",
    "print(lst)"
   ]
  },
  {
   "cell_type": "code",
   "execution_count": null,
   "id": "f37aeb21",
   "metadata": {},
   "outputs": [],
   "source": [
    "# Topic: JSON & CSV\n",
    "import json\n",
    "data = {'a': 1}\n",
    "print(json.dumps(data))"
   ]
  },
  {
   "cell_type": "code",
   "execution_count": null,
   "id": "851a2f31",
   "metadata": {},
   "outputs": [],
   "source": [
    "# Topic: Regex\n",
    "import re\n",
    "text = 'email: test@example.com'\n",
    "print(re.findall(r'\\S+@\\S+', text))"
   ]
  },
  {
   "cell_type": "code",
   "execution_count": null,
   "id": "65a1fd4e",
   "metadata": {},
   "outputs": [],
   "source": [
    "# Topic: Decorators\n",
    "def log(func):\n",
    " def wrapper():\n",
    "  print('Call')\n",
    "  func()\n",
    " return wrapper\n",
    "@log\n",
    "def say(): print('Hi')\n",
    "say()"
   ]
  },
  {
   "cell_type": "code",
   "execution_count": null,
   "id": "205e2d5e",
   "metadata": {},
   "outputs": [],
   "source": [
    "# Topic: Dictionaries & Sets\n",
    "s = set([1, 2, 3, 2])\n",
    "print(s)"
   ]
  },
  {
   "cell_type": "code",
   "execution_count": null,
   "id": "d5aa4d7c",
   "metadata": {},
   "outputs": [],
   "source": [
    "# Topic: Recursion\n",
    "def fact(n): return 1 if n==0 else n*fact(n-1)\n",
    "print(fact(5))"
   ]
  },
  {
   "cell_type": "code",
   "execution_count": null,
   "id": "d213edee",
   "metadata": {},
   "outputs": [],
   "source": [
    "# Topic: Lists & Tuples\n",
    "lst = [1, 2, 3]\n",
    "lst.append(4)\n",
    "print(lst)"
   ]
  },
  {
   "cell_type": "code",
   "execution_count": null,
   "id": "ca471719",
   "metadata": {},
   "outputs": [],
   "source": [
    "# Topic: Regex\n",
    "import re\n",
    "text = 'email: test@example.com'\n",
    "print(re.findall(r'\\S+@\\S+', text))"
   ]
  },
  {
   "cell_type": "code",
   "execution_count": null,
   "id": "66a18e96",
   "metadata": {},
   "outputs": [],
   "source": [
    "# Topic: Algorithms\n",
    "# Bubble sort\n",
    "def bubble(arr):\n",
    " for i in range(len(arr)):\n",
    "  for j in range(0, len(arr)-i-1):\n",
    "   if arr[j]>arr[j+1]: arr[j],arr[j+1]=arr[j+1],arr[j]\n",
    "a=[5,3,8]\n",
    "bubble(a)\n",
    "print(a)"
   ]
  },
  {
   "cell_type": "code",
   "execution_count": null,
   "id": "7ff18e48",
   "metadata": {},
   "outputs": [],
   "source": [
    "# Topic: Matplotlib & Seaborn\n",
    "import seaborn as sns\n",
    "import pandas as pd\n",
    "sns.set()\n",
    "sns.histplot(pd.Series([1,2,2,3]));"
   ]
  },
  {
   "cell_type": "code",
   "execution_count": null,
   "id": "a4f90e31",
   "metadata": {},
   "outputs": [],
   "source": [
    "# Topic: JSON & CSV\n",
    "import csv\n",
    "with open('file.csv', 'w', newline='') as f:\n",
    " csv.writer(f).writerow(['a','b','c'])"
   ]
  },
  {
   "cell_type": "code",
   "execution_count": null,
   "id": "065132f7",
   "metadata": {},
   "outputs": [],
   "source": [
    "# Topic: CLI Tools\n",
    "import sys\n",
    "print(f'Arguments: {sys.argv}')"
   ]
  },
  {
   "cell_type": "code",
   "execution_count": null,
   "id": "640a8109",
   "metadata": {},
   "outputs": [],
   "source": [
    "# Topic: Matplotlib & Seaborn\n",
    "import seaborn as sns\n",
    "import pandas as pd\n",
    "sns.set()\n",
    "sns.histplot(pd.Series([1,2,2,3]));"
   ]
  },
  {
   "cell_type": "code",
   "execution_count": null,
   "id": "62be550f",
   "metadata": {},
   "outputs": [],
   "source": [
    "# Topic: Regex\n",
    "import re\n",
    "text = 'email: test@example.com'\n",
    "print(re.findall(r'\\S+@\\S+', text))"
   ]
  },
  {
   "cell_type": "code",
   "execution_count": null,
   "id": "4ba046e1",
   "metadata": {},
   "outputs": [],
   "source": [
    "# Topic: Decorators\n",
    "def log(func):\n",
    " def wrapper():\n",
    "  print('Call')\n",
    "  func()\n",
    " return wrapper\n",
    "@log\n",
    "def say(): print('Hi')\n",
    "say()"
   ]
  },
  {
   "cell_type": "code",
   "execution_count": null,
   "id": "abfe270b",
   "metadata": {},
   "outputs": [],
   "source": [
    "# Topic: Pandas\n",
    "import pandas as pd\n",
    "df = pd.read_csv('file.csv')\n",
    "print(df.head())"
   ]
  },
  {
   "cell_type": "code",
   "execution_count": null,
   "id": "3c0313ae",
   "metadata": {},
   "outputs": [],
   "source": [
    "# Topic: Dictionaries & Sets\n",
    "d = {'name': 'Fahd', 'age': 20}\n",
    "print(d.get('name'))"
   ]
  },
  {
   "cell_type": "code",
   "execution_count": null,
   "id": "ceaa766c",
   "metadata": {},
   "outputs": [],
   "source": [
    "# Topic: Web Scraping\n",
    "import requests\n",
    "from bs4 import BeautifulSoup\n",
    "r = requests.get('https://example.com')\n",
    "soup = BeautifulSoup(r.text, 'html.parser')\n",
    "print(soup.title.text)"
   ]
  },
  {
   "cell_type": "code",
   "execution_count": null,
   "id": "2795e916",
   "metadata": {},
   "outputs": [],
   "source": [
    "# Topic: Regex\n",
    "import re\n",
    "text = 'email: test@example.com'\n",
    "print(re.findall(r'\\S+@\\S+', text))"
   ]
  },
  {
   "cell_type": "code",
   "execution_count": null,
   "id": "fbf80055",
   "metadata": {},
   "outputs": [],
   "source": [
    "# Topic: CLI Tools\n",
    "import sys\n",
    "print(f'Arguments: {sys.argv}')"
   ]
  },
  {
   "cell_type": "code",
   "execution_count": null,
   "id": "135e5dcc",
   "metadata": {},
   "outputs": [],
   "source": [
    "# Topic: OOP\n",
    "class Student:\n",
    "    def __init__(self, name): self.name = name\n",
    "s = Student('Fahd')\n",
    "print(s.name)"
   ]
  },
  {
   "cell_type": "code",
   "execution_count": null,
   "id": "5a537f9f",
   "metadata": {},
   "outputs": [],
   "source": [
    "# Topic: Basic ML\n",
    "from sklearn.linear_model import LinearRegression\n",
    "model = LinearRegression()\n",
    "print(model)"
   ]
  },
  {
   "cell_type": "code",
   "execution_count": null,
   "id": "61d5d248",
   "metadata": {},
   "outputs": [],
   "source": [
    "# Topic: Recursion\n",
    "def fact(n): return 1 if n==0 else n*fact(n-1)\n",
    "print(fact(5))"
   ]
  },
  {
   "cell_type": "code",
   "execution_count": null,
   "id": "4b2f7bf0",
   "metadata": {},
   "outputs": [],
   "source": [
    "# Topic: NumPy\n",
    "import numpy as np\n",
    "print(np.linspace(0, 1, 5))"
   ]
  },
  {
   "cell_type": "code",
   "execution_count": null,
   "id": "c7457a18",
   "metadata": {},
   "outputs": [],
   "source": [
    "# Topic: Algorithms\n",
    "# Bubble sort\n",
    "def bubble(arr):\n",
    " for i in range(len(arr)):\n",
    "  for j in range(0, len(arr)-i-1):\n",
    "   if arr[j]>arr[j+1]: arr[j],arr[j+1]=arr[j+1],arr[j]\n",
    "a=[5,3,8]\n",
    "bubble(a)\n",
    "print(a)"
   ]
  },
  {
   "cell_type": "code",
   "execution_count": null,
   "id": "c124ec06",
   "metadata": {},
   "outputs": [],
   "source": [
    "# Topic: Pandas\n",
    "import pandas as pd\n",
    "df = pd.DataFrame({'A':[1,2],'B':[3,4]})\n",
    "print(df)"
   ]
  },
  {
   "cell_type": "code",
   "execution_count": null,
   "id": "9da0ed83",
   "metadata": {},
   "outputs": [],
   "source": [
    "# Topic: Functions\n",
    "def greet(name='User'):\n",
    "    print(f'Hi, {name}')\n",
    "greet()"
   ]
  },
  {
   "cell_type": "code",
   "execution_count": null,
   "id": "dc8c7cbb",
   "metadata": {},
   "outputs": [],
   "source": [
    "# Topic: Decorators\n",
    "def log(func):\n",
    " def wrapper():\n",
    "  print('Call')\n",
    "  func()\n",
    " return wrapper\n",
    "@log\n",
    "def say(): print('Hi')\n",
    "say()"
   ]
  },
  {
   "cell_type": "code",
   "execution_count": null,
   "id": "db4933c4",
   "metadata": {},
   "outputs": [],
   "source": [
    "# Topic: Decorators\n",
    "def log(func):\n",
    " def wrapper():\n",
    "  print('Call')\n",
    "  func()\n",
    " return wrapper\n",
    "@log\n",
    "def say(): print('Hi')\n",
    "say()"
   ]
  },
  {
   "cell_type": "code",
   "execution_count": null,
   "id": "77a27369",
   "metadata": {},
   "outputs": [],
   "source": [
    "# Topic: JSON & CSV\n",
    "import csv\n",
    "with open('file.csv', 'w', newline='') as f:\n",
    " csv.writer(f).writerow(['a','b','c'])"
   ]
  },
  {
   "cell_type": "code",
   "execution_count": null,
   "id": "c826565a",
   "metadata": {},
   "outputs": [],
   "source": [
    "# Topic: CLI Tools\n",
    "import sys\n",
    "print(f'Arguments: {sys.argv}')"
   ]
  },
  {
   "cell_type": "code",
   "execution_count": null,
   "id": "4a05594a",
   "metadata": {},
   "outputs": [],
   "source": [
    "# Topic: CLI Tools\n",
    "import sys\n",
    "print(f'Arguments: {sys.argv}')"
   ]
  },
  {
   "cell_type": "code",
   "execution_count": null,
   "id": "0d84092e",
   "metadata": {},
   "outputs": [],
   "source": [
    "# Topic: Basics\n",
    "name = 'Fahd'\n",
    "print(f'Hello, {name}')"
   ]
  },
  {
   "cell_type": "code",
   "execution_count": null,
   "id": "fba71830",
   "metadata": {},
   "outputs": [],
   "source": [
    "# Topic: Recursion\n",
    "def fact(n): return 1 if n==0 else n*fact(n-1)\n",
    "print(fact(5))"
   ]
  },
  {
   "cell_type": "code",
   "execution_count": null,
   "id": "0cae6fdc",
   "metadata": {},
   "outputs": [],
   "source": [
    "# Topic: OOP\n",
    "class Student:\n",
    "    def __init__(self, name): self.name = name\n",
    "s = Student('Fahd')\n",
    "print(s.name)"
   ]
  },
  {
   "cell_type": "code",
   "execution_count": null,
   "id": "a764cb3c",
   "metadata": {},
   "outputs": [],
   "source": [
    "# Topic: Algorithms\n",
    "# Bubble sort\n",
    "def bubble(arr):\n",
    " for i in range(len(arr)):\n",
    "  for j in range(0, len(arr)-i-1):\n",
    "   if arr[j]>arr[j+1]: arr[j],arr[j+1]=arr[j+1],arr[j]\n",
    "a=[5,3,8]\n",
    "bubble(a)\n",
    "print(a)"
   ]
  },
  {
   "cell_type": "code",
   "execution_count": null,
   "id": "c8aaf1d7",
   "metadata": {},
   "outputs": [],
   "source": [
    "# Topic: Algorithms\n",
    "# Bubble sort\n",
    "def bubble(arr):\n",
    " for i in range(len(arr)):\n",
    "  for j in range(0, len(arr)-i-1):\n",
    "   if arr[j]>arr[j+1]: arr[j],arr[j+1]=arr[j+1],arr[j]\n",
    "a=[5,3,8]\n",
    "bubble(a)\n",
    "print(a)"
   ]
  },
  {
   "cell_type": "code",
   "execution_count": null,
   "id": "0c1187ec",
   "metadata": {},
   "outputs": [],
   "source": [
    "# Topic: Basic ML\n",
    "from sklearn.linear_model import LinearRegression\n",
    "model = LinearRegression()\n",
    "print(model)"
   ]
  },
  {
   "cell_type": "code",
   "execution_count": null,
   "id": "9c1d510a",
   "metadata": {},
   "outputs": [],
   "source": [
    "# Topic: NumPy\n",
    "import numpy as np\n",
    "print(np.linspace(0, 1, 5))"
   ]
  },
  {
   "cell_type": "code",
   "execution_count": null,
   "id": "cc94c41e",
   "metadata": {},
   "outputs": [],
   "source": [
    "# Topic: Web Scraping\n",
    "import requests\n",
    "from bs4 import BeautifulSoup\n",
    "r = requests.get('https://example.com')\n",
    "soup = BeautifulSoup(r.text, 'html.parser')\n",
    "print(soup.title.text)"
   ]
  },
  {
   "cell_type": "code",
   "execution_count": null,
   "id": "7270fd8b",
   "metadata": {},
   "outputs": [],
   "source": [
    "# Topic: Dictionaries & Sets\n",
    "s = set([1, 2, 3, 2])\n",
    "print(s)"
   ]
  },
  {
   "cell_type": "code",
   "execution_count": null,
   "id": "a15f50ed",
   "metadata": {},
   "outputs": [],
   "source": [
    "# Topic: Decorators\n",
    "def log(func):\n",
    " def wrapper():\n",
    "  print('Call')\n",
    "  func()\n",
    " return wrapper\n",
    "@log\n",
    "def say(): print('Hi')\n",
    "say()"
   ]
  },
  {
   "cell_type": "code",
   "execution_count": null,
   "id": "6b570a57",
   "metadata": {},
   "outputs": [],
   "source": [
    "# Topic: Pandas\n",
    "import pandas as pd\n",
    "df = pd.read_csv('file.csv')\n",
    "print(df.head())"
   ]
  },
  {
   "cell_type": "code",
   "execution_count": null,
   "id": "496a4f74",
   "metadata": {},
   "outputs": [],
   "source": [
    "# Topic: Basic ML\n",
    "from sklearn.linear_model import LinearRegression\n",
    "model = LinearRegression()\n",
    "print(model)"
   ]
  },
  {
   "cell_type": "code",
   "execution_count": null,
   "id": "de4ee09c",
   "metadata": {},
   "outputs": [],
   "source": [
    "# Topic: NumPy\n",
    "import numpy as np\n",
    "print(np.linspace(0, 1, 5))"
   ]
  },
  {
   "cell_type": "code",
   "execution_count": null,
   "id": "c7d7e778",
   "metadata": {},
   "outputs": [],
   "source": [
    "# Topic: File I/O\n",
    "with open('test.txt', 'w') as f:\n",
    "    f.write('Hello World')"
   ]
  },
  {
   "cell_type": "code",
   "execution_count": null,
   "id": "b7896058",
   "metadata": {},
   "outputs": [],
   "source": [
    "# Topic: Recursion\n",
    "def fact(n): return 1 if n==0 else n*fact(n-1)\n",
    "print(fact(5))"
   ]
  },
  {
   "cell_type": "code",
   "execution_count": null,
   "id": "9863666b",
   "metadata": {},
   "outputs": [],
   "source": [
    "# Topic: Basics\n",
    "name = 'Fahd'\n",
    "print(f'Hello, {name}')"
   ]
  },
  {
   "cell_type": "code",
   "execution_count": null,
   "id": "58de9a74",
   "metadata": {},
   "outputs": [],
   "source": [
    "# Topic: CLI Tools\n",
    "import sys\n",
    "print(f'Arguments: {sys.argv}')"
   ]
  },
  {
   "cell_type": "code",
   "execution_count": null,
   "id": "7e5ee75f",
   "metadata": {},
   "outputs": [],
   "source": [
    "# Topic: Dictionaries & Sets\n",
    "s = set([1, 2, 3, 2])\n",
    "print(s)"
   ]
  },
  {
   "cell_type": "code",
   "execution_count": null,
   "id": "0b8d7f67",
   "metadata": {},
   "outputs": [],
   "source": [
    "# Topic: NumPy\n",
    "import numpy as np\n",
    "a = np.array([1, 2, 3])\n",
    "print(a + 5)"
   ]
  },
  {
   "cell_type": "code",
   "execution_count": null,
   "id": "a89cafc5",
   "metadata": {},
   "outputs": [],
   "source": [
    "# Topic: Algorithms\n",
    "# Bubble sort\n",
    "def bubble(arr):\n",
    " for i in range(len(arr)):\n",
    "  for j in range(0, len(arr)-i-1):\n",
    "   if arr[j]>arr[j+1]: arr[j],arr[j+1]=arr[j+1],arr[j]\n",
    "a=[5,3,8]\n",
    "bubble(a)\n",
    "print(a)"
   ]
  },
  {
   "cell_type": "code",
   "execution_count": null,
   "id": "ef6919b1",
   "metadata": {},
   "outputs": [],
   "source": [
    "# Topic: Lists & Tuples\n",
    "lst = [1, 2, 3]\n",
    "lst.append(4)\n",
    "print(lst)"
   ]
  },
  {
   "cell_type": "code",
   "execution_count": null,
   "id": "969cf42b",
   "metadata": {},
   "outputs": [],
   "source": [
    "# Topic: Regex\n",
    "import re\n",
    "text = 'email: test@example.com'\n",
    "print(re.findall(r'\\S+@\\S+', text))"
   ]
  },
  {
   "cell_type": "code",
   "execution_count": null,
   "id": "f3d7da7e",
   "metadata": {},
   "outputs": [],
   "source": [
    "# Topic: Mini Projects\n",
    "# Calculator\n",
    "def calc(a,b,op): return eval(f'{a}{op}{b}')\n",
    "print(calc(5,2,'+'))"
   ]
  },
  {
   "cell_type": "code",
   "execution_count": null,
   "id": "58b8667e",
   "metadata": {},
   "outputs": [],
   "source": [
    "# Topic: Web Scraping\n",
    "import requests\n",
    "from bs4 import BeautifulSoup\n",
    "r = requests.get('https://example.com')\n",
    "soup = BeautifulSoup(r.text, 'html.parser')\n",
    "print(soup.title.text)"
   ]
  },
  {
   "cell_type": "code",
   "execution_count": null,
   "id": "b6a451c6",
   "metadata": {},
   "outputs": [],
   "source": [
    "# Topic: Dictionaries & Sets\n",
    "s = set([1, 2, 3, 2])\n",
    "print(s)"
   ]
  },
  {
   "cell_type": "code",
   "execution_count": null,
   "id": "2f8d63e8",
   "metadata": {},
   "outputs": [],
   "source": [
    "# Topic: Lists & Tuples\n",
    "lst = [1, 2, 3]\n",
    "lst.append(4)\n",
    "print(lst)"
   ]
  },
  {
   "cell_type": "code",
   "execution_count": null,
   "id": "feb516e9",
   "metadata": {},
   "outputs": [],
   "source": [
    "# Topic: OOP\n",
    "class Student:\n",
    "    def __init__(self, name): self.name = name\n",
    "s = Student('Fahd')\n",
    "print(s.name)"
   ]
  },
  {
   "cell_type": "code",
   "execution_count": null,
   "id": "0405ae26",
   "metadata": {},
   "outputs": [],
   "source": [
    "# Topic: Algorithms\n",
    "# Bubble sort\n",
    "def bubble(arr):\n",
    " for i in range(len(arr)):\n",
    "  for j in range(0, len(arr)-i-1):\n",
    "   if arr[j]>arr[j+1]: arr[j],arr[j+1]=arr[j+1],arr[j]\n",
    "a=[5,3,8]\n",
    "bubble(a)\n",
    "print(a)"
   ]
  },
  {
   "cell_type": "code",
   "execution_count": null,
   "id": "2f2077b4",
   "metadata": {},
   "outputs": [],
   "source": [
    "# Topic: Recursion\n",
    "def fact(n): return 1 if n==0 else n*fact(n-1)\n",
    "print(fact(5))"
   ]
  },
  {
   "cell_type": "code",
   "execution_count": null,
   "id": "03881c52",
   "metadata": {},
   "outputs": [],
   "source": [
    "# Topic: JSON & CSV\n",
    "import json\n",
    "data = {'a': 1}\n",
    "print(json.dumps(data))"
   ]
  },
  {
   "cell_type": "code",
   "execution_count": null,
   "id": "d6badc89",
   "metadata": {},
   "outputs": [],
   "source": [
    "# Topic: Regex\n",
    "import re\n",
    "text = 'email: test@example.com'\n",
    "print(re.findall(r'\\S+@\\S+', text))"
   ]
  },
  {
   "cell_type": "code",
   "execution_count": null,
   "id": "49a2bb87",
   "metadata": {},
   "outputs": [],
   "source": [
    "# Topic: Algorithms\n",
    "# Bubble sort\n",
    "def bubble(arr):\n",
    " for i in range(len(arr)):\n",
    "  for j in range(0, len(arr)-i-1):\n",
    "   if arr[j]>arr[j+1]: arr[j],arr[j+1]=arr[j+1],arr[j]\n",
    "a=[5,3,8]\n",
    "bubble(a)\n",
    "print(a)"
   ]
  },
  {
   "cell_type": "code",
   "execution_count": null,
   "id": "c9b5e721",
   "metadata": {},
   "outputs": [],
   "source": [
    "# Topic: File I/O\n",
    "with open('test.txt', 'r') as f:\n",
    "    print(f.read())"
   ]
  },
  {
   "cell_type": "code",
   "execution_count": null,
   "id": "2f677ae0",
   "metadata": {},
   "outputs": [],
   "source": [
    "# Topic: Basics\n",
    "x = 10\n",
    "y = 20\n",
    "print(x + y)"
   ]
  },
  {
   "cell_type": "code",
   "execution_count": null,
   "id": "7d206e09",
   "metadata": {},
   "outputs": [],
   "source": [
    "# Topic: Basics\n",
    "name = 'Fahd'\n",
    "print(f'Hello, {name}')"
   ]
  },
  {
   "cell_type": "code",
   "execution_count": null,
   "id": "9c55b404",
   "metadata": {},
   "outputs": [],
   "source": [
    "# Topic: Functions\n",
    "def greet(name='User'):\n",
    "    print(f'Hi, {name}')\n",
    "greet()"
   ]
  },
  {
   "cell_type": "code",
   "execution_count": null,
   "id": "8d14ef60",
   "metadata": {},
   "outputs": [],
   "source": [
    "# Topic: Decorators\n",
    "def log(func):\n",
    " def wrapper():\n",
    "  print('Call')\n",
    "  func()\n",
    " return wrapper\n",
    "@log\n",
    "def say(): print('Hi')\n",
    "say()"
   ]
  },
  {
   "cell_type": "code",
   "execution_count": null,
   "id": "d51ef90f",
   "metadata": {},
   "outputs": [],
   "source": [
    "# Topic: Recursion\n",
    "def fact(n): return 1 if n==0 else n*fact(n-1)\n",
    "print(fact(5))"
   ]
  },
  {
   "cell_type": "code",
   "execution_count": null,
   "id": "f034f552",
   "metadata": {},
   "outputs": [],
   "source": [
    "# Topic: Mini Projects\n",
    "# Palindrome check\n",
    "def is_pal(s): return s == s[::-1]\n",
    "print(is_pal('madam'))"
   ]
  },
  {
   "cell_type": "code",
   "execution_count": null,
   "id": "8e6a6735",
   "metadata": {},
   "outputs": [],
   "source": [
    "# Topic: OOP\n",
    "class Student:\n",
    "    def __init__(self, name): self.name = name\n",
    "s = Student('Fahd')\n",
    "print(s.name)"
   ]
  },
  {
   "cell_type": "code",
   "execution_count": null,
   "id": "2ed9a957",
   "metadata": {},
   "outputs": [],
   "source": [
    "# Topic: CLI Tools\n",
    "import sys\n",
    "print(f'Arguments: {sys.argv}')"
   ]
  },
  {
   "cell_type": "code",
   "execution_count": null,
   "id": "8bffad66",
   "metadata": {},
   "outputs": [],
   "source": [
    "# Topic: OOP\n",
    "class Student:\n",
    "    def __init__(self, name): self.name = name\n",
    "s = Student('Fahd')\n",
    "print(s.name)"
   ]
  },
  {
   "cell_type": "code",
   "execution_count": null,
   "id": "431a037d",
   "metadata": {},
   "outputs": [],
   "source": [
    "# Topic: File I/O\n",
    "with open('test.txt', 'w') as f:\n",
    "    f.write('Hello World')"
   ]
  },
  {
   "cell_type": "code",
   "execution_count": null,
   "id": "ff3b324d",
   "metadata": {},
   "outputs": [],
   "source": [
    "# Topic: Decorators\n",
    "def log(func):\n",
    " def wrapper():\n",
    "  print('Call')\n",
    "  func()\n",
    " return wrapper\n",
    "@log\n",
    "def say(): print('Hi')\n",
    "say()"
   ]
  },
  {
   "cell_type": "code",
   "execution_count": null,
   "id": "9912c828",
   "metadata": {},
   "outputs": [],
   "source": [
    "# Topic: Regex\n",
    "import re\n",
    "text = 'email: test@example.com'\n",
    "print(re.findall(r'\\S+@\\S+', text))"
   ]
  },
  {
   "cell_type": "code",
   "execution_count": null,
   "id": "8b9d5c94",
   "metadata": {},
   "outputs": [],
   "source": [
    "# Topic: Data Cleaning\n",
    "import pandas as pd\n",
    "df = pd.DataFrame({'A':[1,None,3]})\n",
    "df = df.fillna(0)\n",
    "print(df)"
   ]
  },
  {
   "cell_type": "code",
   "execution_count": null,
   "id": "b8ab08c5",
   "metadata": {},
   "outputs": [],
   "source": [
    "# Topic: File I/O\n",
    "with open('test.txt', 'r') as f:\n",
    "    print(f.read())"
   ]
  },
  {
   "cell_type": "code",
   "execution_count": null,
   "id": "36602f73",
   "metadata": {},
   "outputs": [],
   "source": [
    "# Topic: NumPy\n",
    "import numpy as np\n",
    "print(np.linspace(0, 1, 5))"
   ]
  },
  {
   "cell_type": "code",
   "execution_count": null,
   "id": "fe3a984a",
   "metadata": {},
   "outputs": [],
   "source": [
    "# Topic: Algorithms\n",
    "# Bubble sort\n",
    "def bubble(arr):\n",
    " for i in range(len(arr)):\n",
    "  for j in range(0, len(arr)-i-1):\n",
    "   if arr[j]>arr[j+1]: arr[j],arr[j+1]=arr[j+1],arr[j]\n",
    "a=[5,3,8]\n",
    "bubble(a)\n",
    "print(a)"
   ]
  },
  {
   "cell_type": "code",
   "execution_count": null,
   "id": "40d7ec96",
   "metadata": {},
   "outputs": [],
   "source": [
    "# Topic: OOP\n",
    "class Student:\n",
    "    def __init__(self, name): self.name = name\n",
    "s = Student('Fahd')\n",
    "print(s.name)"
   ]
  },
  {
   "cell_type": "code",
   "execution_count": null,
   "id": "4368f4e9",
   "metadata": {},
   "outputs": [],
   "source": [
    "# Topic: CLI Tools\n",
    "import sys\n",
    "print(f'Arguments: {sys.argv}')"
   ]
  },
  {
   "cell_type": "code",
   "execution_count": null,
   "id": "fbd53172",
   "metadata": {},
   "outputs": [],
   "source": [
    "# Topic: NumPy\n",
    "import numpy as np\n",
    "a = np.array([1, 2, 3])\n",
    "print(a + 5)"
   ]
  },
  {
   "cell_type": "code",
   "execution_count": null,
   "id": "a51718cf",
   "metadata": {},
   "outputs": [],
   "source": [
    "# Topic: Data Cleaning\n",
    "import pandas as pd\n",
    "df = pd.DataFrame({'A':[1,None,3]})\n",
    "df = df.fillna(0)\n",
    "print(df)"
   ]
  },
  {
   "cell_type": "code",
   "execution_count": null,
   "id": "15581752",
   "metadata": {},
   "outputs": [],
   "source": [
    "# Topic: Basics\n",
    "name = 'Fahd'\n",
    "print(f'Hello, {name}')"
   ]
  },
  {
   "cell_type": "code",
   "execution_count": null,
   "id": "021b1af2",
   "metadata": {},
   "outputs": [],
   "source": [
    "# Topic: Data Cleaning\n",
    "import pandas as pd\n",
    "df = pd.DataFrame({'A':[1,None,3]})\n",
    "df = df.fillna(0)\n",
    "print(df)"
   ]
  },
  {
   "cell_type": "code",
   "execution_count": null,
   "id": "cfdbb77f",
   "metadata": {},
   "outputs": [],
   "source": [
    "# Topic: NumPy\n",
    "import numpy as np\n",
    "print(np.linspace(0, 1, 5))"
   ]
  },
  {
   "cell_type": "code",
   "execution_count": null,
   "id": "77f45465",
   "metadata": {},
   "outputs": [],
   "source": [
    "# Topic: Algorithms\n",
    "# Bubble sort\n",
    "def bubble(arr):\n",
    " for i in range(len(arr)):\n",
    "  for j in range(0, len(arr)-i-1):\n",
    "   if arr[j]>arr[j+1]: arr[j],arr[j+1]=arr[j+1],arr[j]\n",
    "a=[5,3,8]\n",
    "bubble(a)\n",
    "print(a)"
   ]
  },
  {
   "cell_type": "code",
   "execution_count": null,
   "id": "9f0c56b4",
   "metadata": {},
   "outputs": [],
   "source": [
    "# Topic: Dictionaries & Sets\n",
    "d = {'name': 'Fahd', 'age': 20}\n",
    "print(d.get('name'))"
   ]
  },
  {
   "cell_type": "code",
   "execution_count": null,
   "id": "73dd6e78",
   "metadata": {},
   "outputs": [],
   "source": [
    "# Topic: Algorithms\n",
    "# Bubble sort\n",
    "def bubble(arr):\n",
    " for i in range(len(arr)):\n",
    "  for j in range(0, len(arr)-i-1):\n",
    "   if arr[j]>arr[j+1]: arr[j],arr[j+1]=arr[j+1],arr[j]\n",
    "a=[5,3,8]\n",
    "bubble(a)\n",
    "print(a)"
   ]
  },
  {
   "cell_type": "code",
   "execution_count": null,
   "id": "95644051",
   "metadata": {},
   "outputs": [],
   "source": [
    "# Topic: Functions\n",
    "def greet(name='User'):\n",
    "    print(f'Hi, {name}')\n",
    "greet()"
   ]
  },
  {
   "cell_type": "code",
   "execution_count": null,
   "id": "e59b84bc",
   "metadata": {},
   "outputs": [],
   "source": [
    "# Topic: Functions\n",
    "def greet(name='User'):\n",
    "    print(f'Hi, {name}')\n",
    "greet()"
   ]
  },
  {
   "cell_type": "code",
   "execution_count": null,
   "id": "ed2ca378",
   "metadata": {},
   "outputs": [],
   "source": [
    "# Topic: Regex\n",
    "import re\n",
    "text = 'email: test@example.com'\n",
    "print(re.findall(r'\\S+@\\S+', text))"
   ]
  },
  {
   "cell_type": "code",
   "execution_count": null,
   "id": "5b48614b",
   "metadata": {},
   "outputs": [],
   "source": [
    "# Topic: Regex\n",
    "import re\n",
    "text = 'email: test@example.com'\n",
    "print(re.findall(r'\\S+@\\S+', text))"
   ]
  },
  {
   "cell_type": "code",
   "execution_count": null,
   "id": "6454ace8",
   "metadata": {},
   "outputs": [],
   "source": [
    "# Topic: Lists & Tuples\n",
    "t = (1, 2, 3)\n",
    "print(t[0])"
   ]
  },
  {
   "cell_type": "code",
   "execution_count": null,
   "id": "ed9a905a",
   "metadata": {},
   "outputs": [],
   "source": [
    "# Topic: Lists & Tuples\n",
    "t = (1, 2, 3)\n",
    "print(t[0])"
   ]
  },
  {
   "cell_type": "code",
   "execution_count": null,
   "id": "e4fd3646",
   "metadata": {},
   "outputs": [],
   "source": [
    "# Topic: Recursion\n",
    "def fact(n): return 1 if n==0 else n*fact(n-1)\n",
    "print(fact(5))"
   ]
  },
  {
   "cell_type": "code",
   "execution_count": null,
   "id": "68773903",
   "metadata": {},
   "outputs": [],
   "source": [
    "# Topic: Pandas\n",
    "import pandas as pd\n",
    "df = pd.DataFrame({'A':[1,2],'B':[3,4]})\n",
    "print(df)"
   ]
  },
  {
   "cell_type": "code",
   "execution_count": null,
   "id": "a002ab51",
   "metadata": {},
   "outputs": [],
   "source": [
    "# Topic: Data Cleaning\n",
    "import pandas as pd\n",
    "df = pd.DataFrame({'A':[1,None,3]})\n",
    "df = df.fillna(0)\n",
    "print(df)"
   ]
  },
  {
   "cell_type": "code",
   "execution_count": null,
   "id": "093cebb5",
   "metadata": {},
   "outputs": [],
   "source": [
    "# Topic: JSON & CSV\n",
    "import csv\n",
    "with open('file.csv', 'w', newline='') as f:\n",
    " csv.writer(f).writerow(['a','b','c'])"
   ]
  },
  {
   "cell_type": "code",
   "execution_count": null,
   "id": "794d1f43",
   "metadata": {},
   "outputs": [],
   "source": [
    "# Topic: Loops\n",
    "for i in range(10): print(i*i)"
   ]
  },
  {
   "cell_type": "code",
   "execution_count": null,
   "id": "1be66424",
   "metadata": {},
   "outputs": [],
   "source": [
    "# Topic: Lists & Tuples\n",
    "lst = [1, 2, 3]\n",
    "lst.append(4)\n",
    "print(lst)"
   ]
  },
  {
   "cell_type": "code",
   "execution_count": null,
   "id": "63ff9f8a",
   "metadata": {},
   "outputs": [],
   "source": [
    "# Topic: Lists & Tuples\n",
    "t = (1, 2, 3)\n",
    "print(t[0])"
   ]
  },
  {
   "cell_type": "code",
   "execution_count": null,
   "id": "eda4827f",
   "metadata": {},
   "outputs": [],
   "source": [
    "# Topic: Lists & Tuples\n",
    "t = (1, 2, 3)\n",
    "print(t[0])"
   ]
  },
  {
   "cell_type": "code",
   "execution_count": null,
   "id": "1826b89b",
   "metadata": {},
   "outputs": [],
   "source": [
    "# Topic: Data Cleaning\n",
    "import pandas as pd\n",
    "df = pd.DataFrame({'A':[1,None,3]})\n",
    "df = df.fillna(0)\n",
    "print(df)"
   ]
  },
  {
   "cell_type": "code",
   "execution_count": null,
   "id": "2edffb80",
   "metadata": {},
   "outputs": [],
   "source": [
    "# Topic: Algorithms\n",
    "# Bubble sort\n",
    "def bubble(arr):\n",
    " for i in range(len(arr)):\n",
    "  for j in range(0, len(arr)-i-1):\n",
    "   if arr[j]>arr[j+1]: arr[j],arr[j+1]=arr[j+1],arr[j]\n",
    "a=[5,3,8]\n",
    "bubble(a)\n",
    "print(a)"
   ]
  },
  {
   "cell_type": "code",
   "execution_count": null,
   "id": "339af72b",
   "metadata": {},
   "outputs": [],
   "source": [
    "# Topic: Basic ML\n",
    "from sklearn.linear_model import LinearRegression\n",
    "model = LinearRegression()\n",
    "print(model)"
   ]
  },
  {
   "cell_type": "code",
   "execution_count": null,
   "id": "64308e14",
   "metadata": {},
   "outputs": [],
   "source": [
    "# Topic: Basic ML\n",
    "from sklearn.linear_model import LinearRegression\n",
    "model = LinearRegression()\n",
    "print(model)"
   ]
  },
  {
   "cell_type": "code",
   "execution_count": null,
   "id": "8a890602",
   "metadata": {},
   "outputs": [],
   "source": [
    "# Topic: Pandas\n",
    "import pandas as pd\n",
    "df = pd.read_csv('file.csv')\n",
    "print(df.head())"
   ]
  },
  {
   "cell_type": "code",
   "execution_count": null,
   "id": "51f09587",
   "metadata": {},
   "outputs": [],
   "source": [
    "# Topic: Dictionaries & Sets\n",
    "s = set([1, 2, 3, 2])\n",
    "print(s)"
   ]
  },
  {
   "cell_type": "code",
   "execution_count": null,
   "id": "f80e64e0",
   "metadata": {},
   "outputs": [],
   "source": [
    "# Topic: Pandas\n",
    "import pandas as pd\n",
    "df = pd.DataFrame({'A':[1,2],'B':[3,4]})\n",
    "print(df)"
   ]
  },
  {
   "cell_type": "code",
   "execution_count": null,
   "id": "6c5929c9",
   "metadata": {},
   "outputs": [],
   "source": [
    "# Topic: Algorithms\n",
    "# Bubble sort\n",
    "def bubble(arr):\n",
    " for i in range(len(arr)):\n",
    "  for j in range(0, len(arr)-i-1):\n",
    "   if arr[j]>arr[j+1]: arr[j],arr[j+1]=arr[j+1],arr[j]\n",
    "a=[5,3,8]\n",
    "bubble(a)\n",
    "print(a)"
   ]
  },
  {
   "cell_type": "code",
   "execution_count": null,
   "id": "abdc619e",
   "metadata": {},
   "outputs": [],
   "source": [
    "# Topic: Pandas\n",
    "import pandas as pd\n",
    "df = pd.read_csv('file.csv')\n",
    "print(df.head())"
   ]
  },
  {
   "cell_type": "code",
   "execution_count": null,
   "id": "4e12e24d",
   "metadata": {},
   "outputs": [],
   "source": [
    "# Topic: Mini Projects\n",
    "# Calculator\n",
    "def calc(a,b,op): return eval(f'{a}{op}{b}')\n",
    "print(calc(5,2,'+'))"
   ]
  },
  {
   "cell_type": "code",
   "execution_count": null,
   "id": "e84390fe",
   "metadata": {},
   "outputs": [],
   "source": [
    "# Topic: CLI Tools\n",
    "import sys\n",
    "print(f'Arguments: {sys.argv}')"
   ]
  },
  {
   "cell_type": "code",
   "execution_count": null,
   "id": "9d9540ff",
   "metadata": {},
   "outputs": [],
   "source": [
    "# Topic: Matplotlib & Seaborn\n",
    "import seaborn as sns\n",
    "import pandas as pd\n",
    "sns.set()\n",
    "sns.histplot(pd.Series([1,2,2,3]));"
   ]
  },
  {
   "cell_type": "code",
   "execution_count": null,
   "id": "cc1b1f10",
   "metadata": {},
   "outputs": [],
   "source": [
    "# Topic: Regex\n",
    "import re\n",
    "text = 'email: test@example.com'\n",
    "print(re.findall(r'\\S+@\\S+', text))"
   ]
  },
  {
   "cell_type": "code",
   "execution_count": null,
   "id": "edafd902",
   "metadata": {},
   "outputs": [],
   "source": [
    "# Topic: Basics\n",
    "x = 10\n",
    "y = 20\n",
    "print(x + y)"
   ]
  },
  {
   "cell_type": "code",
   "execution_count": null,
   "id": "a23d0240",
   "metadata": {},
   "outputs": [],
   "source": [
    "# Topic: Functions\n",
    "def greet(name='User'):\n",
    "    print(f'Hi, {name}')\n",
    "greet()"
   ]
  },
  {
   "cell_type": "code",
   "execution_count": null,
   "id": "da9d87ef",
   "metadata": {},
   "outputs": [],
   "source": [
    "# Topic: CLI Tools\n",
    "import sys\n",
    "print(f'Arguments: {sys.argv}')"
   ]
  },
  {
   "cell_type": "code",
   "execution_count": null,
   "id": "c7db64e4",
   "metadata": {},
   "outputs": [],
   "source": [
    "# Topic: Regex\n",
    "import re\n",
    "text = 'email: test@example.com'\n",
    "print(re.findall(r'\\S+@\\S+', text))"
   ]
  },
  {
   "cell_type": "code",
   "execution_count": null,
   "id": "d82023ea",
   "metadata": {},
   "outputs": [],
   "source": [
    "# Topic: Algorithms\n",
    "# Bubble sort\n",
    "def bubble(arr):\n",
    " for i in range(len(arr)):\n",
    "  for j in range(0, len(arr)-i-1):\n",
    "   if arr[j]>arr[j+1]: arr[j],arr[j+1]=arr[j+1],arr[j]\n",
    "a=[5,3,8]\n",
    "bubble(a)\n",
    "print(a)"
   ]
  },
  {
   "cell_type": "code",
   "execution_count": null,
   "id": "be0e406f",
   "metadata": {},
   "outputs": [],
   "source": [
    "# Topic: Lists & Tuples\n",
    "lst = [1, 2, 3]\n",
    "lst.append(4)\n",
    "print(lst)"
   ]
  },
  {
   "cell_type": "code",
   "execution_count": null,
   "id": "a6feea4a",
   "metadata": {},
   "outputs": [],
   "source": [
    "# Topic: OOP\n",
    "class Student:\n",
    "    def __init__(self, name): self.name = name\n",
    "s = Student('Fahd')\n",
    "print(s.name)"
   ]
  },
  {
   "cell_type": "code",
   "execution_count": null,
   "id": "2e113c58",
   "metadata": {},
   "outputs": [],
   "source": [
    "# Topic: JSON & CSV\n",
    "import json\n",
    "data = {'a': 1}\n",
    "print(json.dumps(data))"
   ]
  },
  {
   "cell_type": "code",
   "execution_count": null,
   "id": "04bbe5fe",
   "metadata": {},
   "outputs": [],
   "source": [
    "# Topic: Decorators\n",
    "def log(func):\n",
    " def wrapper():\n",
    "  print('Call')\n",
    "  func()\n",
    " return wrapper\n",
    "@log\n",
    "def say(): print('Hi')\n",
    "say()"
   ]
  },
  {
   "cell_type": "code",
   "execution_count": null,
   "id": "1c2ea7d6",
   "metadata": {},
   "outputs": [],
   "source": [
    "# Topic: Functions\n",
    "def greet(name='User'):\n",
    "    print(f'Hi, {name}')\n",
    "greet()"
   ]
  },
  {
   "cell_type": "code",
   "execution_count": null,
   "id": "cfd6150e",
   "metadata": {},
   "outputs": [],
   "source": [
    "# Topic: Recursion\n",
    "def fact(n): return 1 if n==0 else n*fact(n-1)\n",
    "print(fact(5))"
   ]
  },
  {
   "cell_type": "code",
   "execution_count": null,
   "id": "41ed8351",
   "metadata": {},
   "outputs": [],
   "source": [
    "# Topic: Decorators\n",
    "def log(func):\n",
    " def wrapper():\n",
    "  print('Call')\n",
    "  func()\n",
    " return wrapper\n",
    "@log\n",
    "def say(): print('Hi')\n",
    "say()"
   ]
  },
  {
   "cell_type": "code",
   "execution_count": null,
   "id": "79e1bc39",
   "metadata": {},
   "outputs": [],
   "source": [
    "# Topic: Data Cleaning\n",
    "import pandas as pd\n",
    "df = pd.DataFrame({'A':[1,None,3]})\n",
    "df = df.fillna(0)\n",
    "print(df)"
   ]
  },
  {
   "cell_type": "code",
   "execution_count": null,
   "id": "977ae7a3",
   "metadata": {},
   "outputs": [],
   "source": [
    "# Topic: Basics\n",
    "x = 10\n",
    "y = 20\n",
    "print(x + y)"
   ]
  },
  {
   "cell_type": "code",
   "execution_count": null,
   "id": "4d795018",
   "metadata": {},
   "outputs": [],
   "source": [
    "# Topic: Decorators\n",
    "def log(func):\n",
    " def wrapper():\n",
    "  print('Call')\n",
    "  func()\n",
    " return wrapper\n",
    "@log\n",
    "def say(): print('Hi')\n",
    "say()"
   ]
  },
  {
   "cell_type": "code",
   "execution_count": null,
   "id": "dafb17a8",
   "metadata": {},
   "outputs": [],
   "source": [
    "# Topic: Data Cleaning\n",
    "import pandas as pd\n",
    "df = pd.DataFrame({'A':[1,None,3]})\n",
    "df = df.fillna(0)\n",
    "print(df)"
   ]
  },
  {
   "cell_type": "code",
   "execution_count": null,
   "id": "1964d8ea",
   "metadata": {},
   "outputs": [],
   "source": [
    "# Topic: OOP\n",
    "class Student:\n",
    "    def __init__(self, name): self.name = name\n",
    "s = Student('Fahd')\n",
    "print(s.name)"
   ]
  },
  {
   "cell_type": "code",
   "execution_count": null,
   "id": "5e6db1d5",
   "metadata": {},
   "outputs": [],
   "source": [
    "# Topic: Dictionaries & Sets\n",
    "s = set([1, 2, 3, 2])\n",
    "print(s)"
   ]
  },
  {
   "cell_type": "code",
   "execution_count": null,
   "id": "e0ba626a",
   "metadata": {},
   "outputs": [],
   "source": [
    "# Topic: Basic ML\n",
    "from sklearn.linear_model import LinearRegression\n",
    "model = LinearRegression()\n",
    "print(model)"
   ]
  },
  {
   "cell_type": "code",
   "execution_count": null,
   "id": "cf4d0066",
   "metadata": {},
   "outputs": [],
   "source": [
    "# Topic: OOP\n",
    "class Student:\n",
    "    def __init__(self, name): self.name = name\n",
    "s = Student('Fahd')\n",
    "print(s.name)"
   ]
  },
  {
   "cell_type": "code",
   "execution_count": null,
   "id": "02327ea2",
   "metadata": {},
   "outputs": [],
   "source": [
    "# Topic: File I/O\n",
    "with open('test.txt', 'r') as f:\n",
    "    print(f.read())"
   ]
  },
  {
   "cell_type": "code",
   "execution_count": null,
   "id": "f5a64d5b",
   "metadata": {},
   "outputs": [],
   "source": [
    "# Topic: File I/O\n",
    "with open('test.txt', 'r') as f:\n",
    "    print(f.read())"
   ]
  },
  {
   "cell_type": "code",
   "execution_count": null,
   "id": "5f3126b2",
   "metadata": {},
   "outputs": [],
   "source": [
    "# Topic: Web Scraping\n",
    "import requests\n",
    "from bs4 import BeautifulSoup\n",
    "r = requests.get('https://example.com')\n",
    "soup = BeautifulSoup(r.text, 'html.parser')\n",
    "print(soup.title.text)"
   ]
  },
  {
   "cell_type": "code",
   "execution_count": null,
   "id": "c167ba26",
   "metadata": {},
   "outputs": [],
   "source": [
    "# Topic: Functions\n",
    "def greet(name='User'):\n",
    "    print(f'Hi, {name}')\n",
    "greet()"
   ]
  },
  {
   "cell_type": "code",
   "execution_count": null,
   "id": "f4415046",
   "metadata": {},
   "outputs": [],
   "source": [
    "# Topic: CLI Tools\n",
    "import sys\n",
    "print(f'Arguments: {sys.argv}')"
   ]
  },
  {
   "cell_type": "code",
   "execution_count": null,
   "id": "21d60373",
   "metadata": {},
   "outputs": [],
   "source": [
    "# Topic: NumPy\n",
    "import numpy as np\n",
    "print(np.linspace(0, 1, 5))"
   ]
  },
  {
   "cell_type": "code",
   "execution_count": null,
   "id": "a8f0a96a",
   "metadata": {},
   "outputs": [],
   "source": [
    "# Topic: CLI Tools\n",
    "import sys\n",
    "print(f'Arguments: {sys.argv}')"
   ]
  },
  {
   "cell_type": "code",
   "execution_count": null,
   "id": "779fde5f",
   "metadata": {},
   "outputs": [],
   "source": [
    "# Topic: Decorators\n",
    "def log(func):\n",
    " def wrapper():\n",
    "  print('Call')\n",
    "  func()\n",
    " return wrapper\n",
    "@log\n",
    "def say(): print('Hi')\n",
    "say()"
   ]
  },
  {
   "cell_type": "code",
   "execution_count": null,
   "id": "abd6d200",
   "metadata": {},
   "outputs": [],
   "source": [
    "# Topic: File I/O\n",
    "with open('test.txt', 'r') as f:\n",
    "    print(f.read())"
   ]
  },
  {
   "cell_type": "code",
   "execution_count": null,
   "id": "ea0a6d5a",
   "metadata": {},
   "outputs": [],
   "source": [
    "# Topic: Regex\n",
    "import re\n",
    "text = 'email: test@example.com'\n",
    "print(re.findall(r'\\S+@\\S+', text))"
   ]
  },
  {
   "cell_type": "code",
   "execution_count": null,
   "id": "1c670dee",
   "metadata": {},
   "outputs": [],
   "source": [
    "# Topic: CLI Tools\n",
    "import sys\n",
    "print(f'Arguments: {sys.argv}')"
   ]
  },
  {
   "cell_type": "code",
   "execution_count": null,
   "id": "5340d8d6",
   "metadata": {},
   "outputs": [],
   "source": [
    "# Topic: Pandas\n",
    "import pandas as pd\n",
    "df = pd.read_csv('file.csv')\n",
    "print(df.head())"
   ]
  },
  {
   "cell_type": "code",
   "execution_count": null,
   "id": "d6952de9",
   "metadata": {},
   "outputs": [],
   "source": [
    "# Topic: OOP\n",
    "class Student:\n",
    "    def __init__(self, name): self.name = name\n",
    "s = Student('Fahd')\n",
    "print(s.name)"
   ]
  },
  {
   "cell_type": "code",
   "execution_count": null,
   "id": "697fdd50",
   "metadata": {},
   "outputs": [],
   "source": [
    "# Topic: Mini Projects\n",
    "# Calculator\n",
    "def calc(a,b,op): return eval(f'{a}{op}{b}')\n",
    "print(calc(5,2,'+'))"
   ]
  },
  {
   "cell_type": "code",
   "execution_count": null,
   "id": "a0238d16",
   "metadata": {},
   "outputs": [],
   "source": [
    "# Topic: Matplotlib & Seaborn\n",
    "import matplotlib.pyplot as plt\n",
    "plt.plot([1,2],[3,4])\n",
    "plt.show()"
   ]
  },
  {
   "cell_type": "code",
   "execution_count": null,
   "id": "ca9d13ac",
   "metadata": {},
   "outputs": [],
   "source": [
    "# Topic: Recursion\n",
    "def fact(n): return 1 if n==0 else n*fact(n-1)\n",
    "print(fact(5))"
   ]
  },
  {
   "cell_type": "code",
   "execution_count": null,
   "id": "7b1191cd",
   "metadata": {},
   "outputs": [],
   "source": [
    "# Topic: Regex\n",
    "import re\n",
    "text = 'email: test@example.com'\n",
    "print(re.findall(r'\\S+@\\S+', text))"
   ]
  },
  {
   "cell_type": "code",
   "execution_count": null,
   "id": "f46fc9bb",
   "metadata": {},
   "outputs": [],
   "source": [
    "# Topic: Mini Projects\n",
    "# Calculator\n",
    "def calc(a,b,op): return eval(f'{a}{op}{b}')\n",
    "print(calc(5,2,'+'))"
   ]
  },
  {
   "cell_type": "code",
   "execution_count": null,
   "id": "50a4073a",
   "metadata": {},
   "outputs": [],
   "source": [
    "# Topic: Lists & Tuples\n",
    "lst = [1, 2, 3]\n",
    "lst.append(4)\n",
    "print(lst)"
   ]
  },
  {
   "cell_type": "code",
   "execution_count": null,
   "id": "b3656c03",
   "metadata": {},
   "outputs": [],
   "source": [
    "# Topic: Matplotlib & Seaborn\n",
    "import seaborn as sns\n",
    "import pandas as pd\n",
    "sns.set()\n",
    "sns.histplot(pd.Series([1,2,2,3]));"
   ]
  },
  {
   "cell_type": "code",
   "execution_count": null,
   "id": "e1b88558",
   "metadata": {},
   "outputs": [],
   "source": [
    "# Topic: Loops\n",
    "while True:\n",
    "    print('Break')\n",
    "    break"
   ]
  },
  {
   "cell_type": "code",
   "execution_count": null,
   "id": "9ec7b158",
   "metadata": {},
   "outputs": [],
   "source": [
    "# Topic: Pandas\n",
    "import pandas as pd\n",
    "df = pd.read_csv('file.csv')\n",
    "print(df.head())"
   ]
  },
  {
   "cell_type": "code",
   "execution_count": null,
   "id": "afd858f7",
   "metadata": {},
   "outputs": [],
   "source": [
    "# Topic: File I/O\n",
    "with open('test.txt', 'r') as f:\n",
    "    print(f.read())"
   ]
  },
  {
   "cell_type": "code",
   "execution_count": null,
   "id": "a84a8599",
   "metadata": {},
   "outputs": [],
   "source": [
    "# Topic: Data Cleaning\n",
    "import pandas as pd\n",
    "df = pd.DataFrame({'A':[1,None,3]})\n",
    "df = df.fillna(0)\n",
    "print(df)"
   ]
  },
  {
   "cell_type": "code",
   "execution_count": null,
   "id": "d8761527",
   "metadata": {},
   "outputs": [],
   "source": [
    "# Topic: Lists & Tuples\n",
    "lst = [1, 2, 3]\n",
    "lst.append(4)\n",
    "print(lst)"
   ]
  },
  {
   "cell_type": "code",
   "execution_count": null,
   "id": "c9fc5829",
   "metadata": {},
   "outputs": [],
   "source": [
    "# Topic: Basics\n",
    "name = 'Fahd'\n",
    "print(f'Hello, {name}')"
   ]
  },
  {
   "cell_type": "code",
   "execution_count": null,
   "id": "2a4f855c",
   "metadata": {},
   "outputs": [],
   "source": [
    "# Topic: NumPy\n",
    "import numpy as np\n",
    "print(np.linspace(0, 1, 5))"
   ]
  },
  {
   "cell_type": "code",
   "execution_count": null,
   "id": "7a786697",
   "metadata": {},
   "outputs": [],
   "source": [
    "# Topic: Mini Projects\n",
    "# Palindrome check\n",
    "def is_pal(s): return s == s[::-1]\n",
    "print(is_pal('madam'))"
   ]
  },
  {
   "cell_type": "code",
   "execution_count": null,
   "id": "fc232600",
   "metadata": {},
   "outputs": [],
   "source": [
    "# Topic: Regex\n",
    "import re\n",
    "text = 'email: test@example.com'\n",
    "print(re.findall(r'\\S+@\\S+', text))"
   ]
  },
  {
   "cell_type": "code",
   "execution_count": null,
   "id": "712046cb",
   "metadata": {},
   "outputs": [],
   "source": [
    "# Topic: CLI Tools\n",
    "import sys\n",
    "print(f'Arguments: {sys.argv}')"
   ]
  },
  {
   "cell_type": "code",
   "execution_count": null,
   "id": "d42d981c",
   "metadata": {},
   "outputs": [],
   "source": [
    "# Topic: Mini Projects\n",
    "# Calculator\n",
    "def calc(a,b,op): return eval(f'{a}{op}{b}')\n",
    "print(calc(5,2,'+'))"
   ]
  },
  {
   "cell_type": "code",
   "execution_count": null,
   "id": "2c7c3362",
   "metadata": {},
   "outputs": [],
   "source": [
    "# Topic: Decorators\n",
    "def log(func):\n",
    " def wrapper():\n",
    "  print('Call')\n",
    "  func()\n",
    " return wrapper\n",
    "@log\n",
    "def say(): print('Hi')\n",
    "say()"
   ]
  },
  {
   "cell_type": "code",
   "execution_count": null,
   "id": "a9174e19",
   "metadata": {},
   "outputs": [],
   "source": [
    "# Topic: Algorithms\n",
    "# Bubble sort\n",
    "def bubble(arr):\n",
    " for i in range(len(arr)):\n",
    "  for j in range(0, len(arr)-i-1):\n",
    "   if arr[j]>arr[j+1]: arr[j],arr[j+1]=arr[j+1],arr[j]\n",
    "a=[5,3,8]\n",
    "bubble(a)\n",
    "print(a)"
   ]
  },
  {
   "cell_type": "code",
   "execution_count": null,
   "id": "ae24206f",
   "metadata": {},
   "outputs": [],
   "source": [
    "# Topic: CLI Tools\n",
    "import sys\n",
    "print(f'Arguments: {sys.argv}')"
   ]
  },
  {
   "cell_type": "code",
   "execution_count": null,
   "id": "e39fc4a4",
   "metadata": {},
   "outputs": [],
   "source": [
    "# Topic: OOP\n",
    "class Student:\n",
    "    def __init__(self, name): self.name = name\n",
    "s = Student('Fahd')\n",
    "print(s.name)"
   ]
  },
  {
   "cell_type": "code",
   "execution_count": null,
   "id": "fab4f8c4",
   "metadata": {},
   "outputs": [],
   "source": [
    "# Topic: JSON & CSV\n",
    "import json\n",
    "data = {'a': 1}\n",
    "print(json.dumps(data))"
   ]
  },
  {
   "cell_type": "code",
   "execution_count": null,
   "id": "74965190",
   "metadata": {},
   "outputs": [],
   "source": [
    "# Topic: Recursion\n",
    "def fact(n): return 1 if n==0 else n*fact(n-1)\n",
    "print(fact(5))"
   ]
  },
  {
   "cell_type": "code",
   "execution_count": null,
   "id": "737f9783",
   "metadata": {},
   "outputs": [],
   "source": [
    "# Topic: OOP\n",
    "class Student:\n",
    "    def __init__(self, name): self.name = name\n",
    "s = Student('Fahd')\n",
    "print(s.name)"
   ]
  },
  {
   "cell_type": "code",
   "execution_count": null,
   "id": "0c604fa8",
   "metadata": {},
   "outputs": [],
   "source": [
    "# Topic: OOP\n",
    "class Student:\n",
    "    def __init__(self, name): self.name = name\n",
    "s = Student('Fahd')\n",
    "print(s.name)"
   ]
  },
  {
   "cell_type": "code",
   "execution_count": null,
   "id": "c2687f5a",
   "metadata": {},
   "outputs": [],
   "source": [
    "# Topic: Basics\n",
    "name = 'Fahd'\n",
    "print(f'Hello, {name}')"
   ]
  },
  {
   "cell_type": "code",
   "execution_count": null,
   "id": "16aed2d0",
   "metadata": {},
   "outputs": [],
   "source": [
    "# Topic: Data Cleaning\n",
    "import pandas as pd\n",
    "df = pd.DataFrame({'A':[1,None,3]})\n",
    "df = df.fillna(0)\n",
    "print(df)"
   ]
  },
  {
   "cell_type": "code",
   "execution_count": null,
   "id": "a037373a",
   "metadata": {},
   "outputs": [],
   "source": [
    "# Topic: CLI Tools\n",
    "import sys\n",
    "print(f'Arguments: {sys.argv}')"
   ]
  },
  {
   "cell_type": "code",
   "execution_count": null,
   "id": "922ce4f1",
   "metadata": {},
   "outputs": [],
   "source": [
    "# Topic: Basic ML\n",
    "from sklearn.linear_model import LinearRegression\n",
    "model = LinearRegression()\n",
    "print(model)"
   ]
  },
  {
   "cell_type": "code",
   "execution_count": null,
   "id": "12a95775",
   "metadata": {},
   "outputs": [],
   "source": [
    "# Topic: OOP\n",
    "class Student:\n",
    "    def __init__(self, name): self.name = name\n",
    "s = Student('Fahd')\n",
    "print(s.name)"
   ]
  },
  {
   "cell_type": "code",
   "execution_count": null,
   "id": "8861c410",
   "metadata": {},
   "outputs": [],
   "source": [
    "# Topic: Pandas\n",
    "import pandas as pd\n",
    "df = pd.read_csv('file.csv')\n",
    "print(df.head())"
   ]
  },
  {
   "cell_type": "code",
   "execution_count": null,
   "id": "43fd302e",
   "metadata": {},
   "outputs": [],
   "source": [
    "# Topic: Web Scraping\n",
    "import requests\n",
    "from bs4 import BeautifulSoup\n",
    "r = requests.get('https://example.com')\n",
    "soup = BeautifulSoup(r.text, 'html.parser')\n",
    "print(soup.title.text)"
   ]
  },
  {
   "cell_type": "code",
   "execution_count": null,
   "id": "13997a90",
   "metadata": {},
   "outputs": [],
   "source": [
    "# Topic: Web Scraping\n",
    "import requests\n",
    "from bs4 import BeautifulSoup\n",
    "r = requests.get('https://example.com')\n",
    "soup = BeautifulSoup(r.text, 'html.parser')\n",
    "print(soup.title.text)"
   ]
  },
  {
   "cell_type": "code",
   "execution_count": null,
   "id": "200c6f49",
   "metadata": {},
   "outputs": [],
   "source": [
    "# Topic: Data Cleaning\n",
    "import pandas as pd\n",
    "df = pd.DataFrame({'A':[1,None,3]})\n",
    "df = df.fillna(0)\n",
    "print(df)"
   ]
  },
  {
   "cell_type": "code",
   "execution_count": null,
   "id": "c635b2b4",
   "metadata": {},
   "outputs": [],
   "source": [
    "# Topic: Lists & Tuples\n",
    "lst = [1, 2, 3]\n",
    "lst.append(4)\n",
    "print(lst)"
   ]
  },
  {
   "cell_type": "code",
   "execution_count": null,
   "id": "d87941af",
   "metadata": {},
   "outputs": [],
   "source": [
    "# Topic: Basic ML\n",
    "from sklearn.linear_model import LinearRegression\n",
    "model = LinearRegression()\n",
    "print(model)"
   ]
  },
  {
   "cell_type": "code",
   "execution_count": null,
   "id": "47ece37b",
   "metadata": {},
   "outputs": [],
   "source": [
    "# Topic: Pandas\n",
    "import pandas as pd\n",
    "df = pd.read_csv('file.csv')\n",
    "print(df.head())"
   ]
  },
  {
   "cell_type": "code",
   "execution_count": null,
   "id": "a52c42e5",
   "metadata": {},
   "outputs": [],
   "source": [
    "# Topic: Web Scraping\n",
    "import requests\n",
    "from bs4 import BeautifulSoup\n",
    "r = requests.get('https://example.com')\n",
    "soup = BeautifulSoup(r.text, 'html.parser')\n",
    "print(soup.title.text)"
   ]
  },
  {
   "cell_type": "code",
   "execution_count": null,
   "id": "d218027a",
   "metadata": {},
   "outputs": [],
   "source": [
    "# Topic: Recursion\n",
    "def fact(n): return 1 if n==0 else n*fact(n-1)\n",
    "print(fact(5))"
   ]
  },
  {
   "cell_type": "code",
   "execution_count": null,
   "id": "d1eabb17",
   "metadata": {},
   "outputs": [],
   "source": [
    "# Topic: Basics\n",
    "x = 10\n",
    "y = 20\n",
    "print(x + y)"
   ]
  },
  {
   "cell_type": "code",
   "execution_count": null,
   "id": "16bdb5e3",
   "metadata": {},
   "outputs": [],
   "source": [
    "# Topic: Matplotlib & Seaborn\n",
    "import seaborn as sns\n",
    "import pandas as pd\n",
    "sns.set()\n",
    "sns.histplot(pd.Series([1,2,2,3]));"
   ]
  },
  {
   "cell_type": "code",
   "execution_count": null,
   "id": "88a33385",
   "metadata": {},
   "outputs": [],
   "source": [
    "# Topic: Regex\n",
    "import re\n",
    "text = 'email: test@example.com'\n",
    "print(re.findall(r'\\S+@\\S+', text))"
   ]
  },
  {
   "cell_type": "code",
   "execution_count": null,
   "id": "e57adb1e",
   "metadata": {},
   "outputs": [],
   "source": [
    "# Topic: Loops\n",
    "for i in range(10): print(i*i)"
   ]
  },
  {
   "cell_type": "code",
   "execution_count": null,
   "id": "f24001b7",
   "metadata": {},
   "outputs": [],
   "source": [
    "# Topic: Data Cleaning\n",
    "import pandas as pd\n",
    "df = pd.DataFrame({'A':[1,None,3]})\n",
    "df = df.fillna(0)\n",
    "print(df)"
   ]
  },
  {
   "cell_type": "code",
   "execution_count": null,
   "id": "7b291e63",
   "metadata": {},
   "outputs": [],
   "source": [
    "# Topic: Basics\n",
    "x = 10\n",
    "y = 20\n",
    "print(x + y)"
   ]
  },
  {
   "cell_type": "code",
   "execution_count": null,
   "id": "7d08c4c8",
   "metadata": {},
   "outputs": [],
   "source": [
    "# Topic: Basic ML\n",
    "from sklearn.linear_model import LinearRegression\n",
    "model = LinearRegression()\n",
    "print(model)"
   ]
  },
  {
   "cell_type": "code",
   "execution_count": null,
   "id": "c112c23f",
   "metadata": {},
   "outputs": [],
   "source": [
    "# Topic: Recursion\n",
    "def fact(n): return 1 if n==0 else n*fact(n-1)\n",
    "print(fact(5))"
   ]
  },
  {
   "cell_type": "code",
   "execution_count": null,
   "id": "e5772914",
   "metadata": {},
   "outputs": [],
   "source": [
    "# Topic: File I/O\n",
    "with open('test.txt', 'r') as f:\n",
    "    print(f.read())"
   ]
  },
  {
   "cell_type": "code",
   "execution_count": null,
   "id": "366d7413",
   "metadata": {},
   "outputs": [],
   "source": [
    "# Topic: Functions\n",
    "def greet(name='User'):\n",
    "    print(f'Hi, {name}')\n",
    "greet()"
   ]
  },
  {
   "cell_type": "code",
   "execution_count": null,
   "id": "1c0a34d5",
   "metadata": {},
   "outputs": [],
   "source": [
    "# Topic: NumPy\n",
    "import numpy as np\n",
    "print(np.linspace(0, 1, 5))"
   ]
  },
  {
   "cell_type": "code",
   "execution_count": null,
   "id": "e275ef4e",
   "metadata": {},
   "outputs": [],
   "source": [
    "# Topic: Lists & Tuples\n",
    "lst = [1, 2, 3]\n",
    "lst.append(4)\n",
    "print(lst)"
   ]
  },
  {
   "cell_type": "code",
   "execution_count": null,
   "id": "ffd92660",
   "metadata": {},
   "outputs": [],
   "source": [
    "# Topic: Matplotlib & Seaborn\n",
    "import seaborn as sns\n",
    "import pandas as pd\n",
    "sns.set()\n",
    "sns.histplot(pd.Series([1,2,2,3]));"
   ]
  },
  {
   "cell_type": "code",
   "execution_count": null,
   "id": "834539a4",
   "metadata": {},
   "outputs": [],
   "source": [
    "# Topic: Mini Projects\n",
    "# Palindrome check\n",
    "def is_pal(s): return s == s[::-1]\n",
    "print(is_pal('madam'))"
   ]
  },
  {
   "cell_type": "code",
   "execution_count": null,
   "id": "280f5a8e",
   "metadata": {},
   "outputs": [],
   "source": [
    "# Topic: Decorators\n",
    "def log(func):\n",
    " def wrapper():\n",
    "  print('Call')\n",
    "  func()\n",
    " return wrapper\n",
    "@log\n",
    "def say(): print('Hi')\n",
    "say()"
   ]
  },
  {
   "cell_type": "code",
   "execution_count": null,
   "id": "1b55aaa9",
   "metadata": {},
   "outputs": [],
   "source": [
    "# Topic: JSON & CSV\n",
    "import json\n",
    "data = {'a': 1}\n",
    "print(json.dumps(data))"
   ]
  },
  {
   "cell_type": "code",
   "execution_count": null,
   "id": "7d955b90",
   "metadata": {},
   "outputs": [],
   "source": [
    "# Topic: Decorators\n",
    "def log(func):\n",
    " def wrapper():\n",
    "  print('Call')\n",
    "  func()\n",
    " return wrapper\n",
    "@log\n",
    "def say(): print('Hi')\n",
    "say()"
   ]
  },
  {
   "cell_type": "code",
   "execution_count": null,
   "id": "8d62e69b",
   "metadata": {},
   "outputs": [],
   "source": [
    "# Topic: NumPy\n",
    "import numpy as np\n",
    "print(np.linspace(0, 1, 5))"
   ]
  },
  {
   "cell_type": "code",
   "execution_count": null,
   "id": "2d02c586",
   "metadata": {},
   "outputs": [],
   "source": [
    "# Topic: Algorithms\n",
    "# Bubble sort\n",
    "def bubble(arr):\n",
    " for i in range(len(arr)):\n",
    "  for j in range(0, len(arr)-i-1):\n",
    "   if arr[j]>arr[j+1]: arr[j],arr[j+1]=arr[j+1],arr[j]\n",
    "a=[5,3,8]\n",
    "bubble(a)\n",
    "print(a)"
   ]
  },
  {
   "cell_type": "code",
   "execution_count": null,
   "id": "16788268",
   "metadata": {},
   "outputs": [],
   "source": [
    "# Topic: Basic ML\n",
    "from sklearn.linear_model import LinearRegression\n",
    "model = LinearRegression()\n",
    "print(model)"
   ]
  },
  {
   "cell_type": "code",
   "execution_count": null,
   "id": "48d9156b",
   "metadata": {},
   "outputs": [],
   "source": [
    "# Topic: Matplotlib & Seaborn\n",
    "import seaborn as sns\n",
    "import pandas as pd\n",
    "sns.set()\n",
    "sns.histplot(pd.Series([1,2,2,3]));"
   ]
  },
  {
   "cell_type": "code",
   "execution_count": null,
   "id": "f1dc3a03",
   "metadata": {},
   "outputs": [],
   "source": [
    "# Topic: Basics\n",
    "x = 10\n",
    "y = 20\n",
    "print(x + y)"
   ]
  },
  {
   "cell_type": "code",
   "execution_count": null,
   "id": "7b7dea09",
   "metadata": {},
   "outputs": [],
   "source": [
    "# Topic: Basics\n",
    "name = 'Fahd'\n",
    "print(f'Hello, {name}')"
   ]
  },
  {
   "cell_type": "code",
   "execution_count": null,
   "id": "1e156844",
   "metadata": {},
   "outputs": [],
   "source": [
    "# Topic: Dictionaries & Sets\n",
    "d = {'name': 'Fahd', 'age': 20}\n",
    "print(d.get('name'))"
   ]
  },
  {
   "cell_type": "code",
   "execution_count": null,
   "id": "7017a9e5",
   "metadata": {},
   "outputs": [],
   "source": [
    "# Topic: NumPy\n",
    "import numpy as np\n",
    "print(np.linspace(0, 1, 5))"
   ]
  },
  {
   "cell_type": "code",
   "execution_count": null,
   "id": "6d3ac33d",
   "metadata": {},
   "outputs": [],
   "source": [
    "# Topic: Loops\n",
    "while True:\n",
    "    print('Break')\n",
    "    break"
   ]
  },
  {
   "cell_type": "code",
   "execution_count": null,
   "id": "84380c46",
   "metadata": {},
   "outputs": [],
   "source": [
    "# Topic: CLI Tools\n",
    "import sys\n",
    "print(f'Arguments: {sys.argv}')"
   ]
  },
  {
   "cell_type": "code",
   "execution_count": null,
   "id": "d22f3094",
   "metadata": {},
   "outputs": [],
   "source": [
    "# Topic: Basics\n",
    "name = 'Fahd'\n",
    "print(f'Hello, {name}')"
   ]
  },
  {
   "cell_type": "code",
   "execution_count": null,
   "id": "eb91d637",
   "metadata": {},
   "outputs": [],
   "source": [
    "# Topic: Basics\n",
    "name = 'Fahd'\n",
    "print(f'Hello, {name}')"
   ]
  },
  {
   "cell_type": "code",
   "execution_count": null,
   "id": "22ab11c3",
   "metadata": {},
   "outputs": [],
   "source": [
    "# Topic: Loops\n",
    "for i in range(10): print(i*i)"
   ]
  },
  {
   "cell_type": "code",
   "execution_count": null,
   "id": "cd6fafb1",
   "metadata": {},
   "outputs": [],
   "source": [
    "# Topic: Basic ML\n",
    "from sklearn.linear_model import LinearRegression\n",
    "model = LinearRegression()\n",
    "print(model)"
   ]
  },
  {
   "cell_type": "code",
   "execution_count": null,
   "id": "612ee44e",
   "metadata": {},
   "outputs": [],
   "source": [
    "# Topic: Web Scraping\n",
    "import requests\n",
    "from bs4 import BeautifulSoup\n",
    "r = requests.get('https://example.com')\n",
    "soup = BeautifulSoup(r.text, 'html.parser')\n",
    "print(soup.title.text)"
   ]
  },
  {
   "cell_type": "code",
   "execution_count": null,
   "id": "9039a8d3",
   "metadata": {},
   "outputs": [],
   "source": [
    "# Topic: Regex\n",
    "import re\n",
    "text = 'email: test@example.com'\n",
    "print(re.findall(r'\\S+@\\S+', text))"
   ]
  },
  {
   "cell_type": "code",
   "execution_count": null,
   "id": "20afbf76",
   "metadata": {},
   "outputs": [],
   "source": [
    "# Topic: Data Cleaning\n",
    "import pandas as pd\n",
    "df = pd.DataFrame({'A':[1,None,3]})\n",
    "df = df.fillna(0)\n",
    "print(df)"
   ]
  },
  {
   "cell_type": "code",
   "execution_count": null,
   "id": "540dff3b",
   "metadata": {},
   "outputs": [],
   "source": [
    "# Topic: Algorithms\n",
    "# Bubble sort\n",
    "def bubble(arr):\n",
    " for i in range(len(arr)):\n",
    "  for j in range(0, len(arr)-i-1):\n",
    "   if arr[j]>arr[j+1]: arr[j],arr[j+1]=arr[j+1],arr[j]\n",
    "a=[5,3,8]\n",
    "bubble(a)\n",
    "print(a)"
   ]
  },
  {
   "cell_type": "code",
   "execution_count": null,
   "id": "7ae69b10",
   "metadata": {},
   "outputs": [],
   "source": [
    "# Topic: CLI Tools\n",
    "import sys\n",
    "print(f'Arguments: {sys.argv}')"
   ]
  },
  {
   "cell_type": "code",
   "execution_count": null,
   "id": "1e8100e8",
   "metadata": {},
   "outputs": [],
   "source": [
    "# Topic: Algorithms\n",
    "# Bubble sort\n",
    "def bubble(arr):\n",
    " for i in range(len(arr)):\n",
    "  for j in range(0, len(arr)-i-1):\n",
    "   if arr[j]>arr[j+1]: arr[j],arr[j+1]=arr[j+1],arr[j]\n",
    "a=[5,3,8]\n",
    "bubble(a)\n",
    "print(a)"
   ]
  },
  {
   "cell_type": "code",
   "execution_count": null,
   "id": "ffd7a4b4",
   "metadata": {},
   "outputs": [],
   "source": [
    "# Topic: Pandas\n",
    "import pandas as pd\n",
    "df = pd.DataFrame({'A':[1,2],'B':[3,4]})\n",
    "print(df)"
   ]
  },
  {
   "cell_type": "code",
   "execution_count": null,
   "id": "54e58ea7",
   "metadata": {},
   "outputs": [],
   "source": [
    "# Topic: Basic ML\n",
    "from sklearn.linear_model import LinearRegression\n",
    "model = LinearRegression()\n",
    "print(model)"
   ]
  },
  {
   "cell_type": "code",
   "execution_count": null,
   "id": "68e7015a",
   "metadata": {},
   "outputs": [],
   "source": [
    "# Topic: OOP\n",
    "class Student:\n",
    "    def __init__(self, name): self.name = name\n",
    "s = Student('Fahd')\n",
    "print(s.name)"
   ]
  },
  {
   "cell_type": "code",
   "execution_count": null,
   "id": "1f4bc95f",
   "metadata": {},
   "outputs": [],
   "source": [
    "# Topic: Functions\n",
    "def greet(name='User'):\n",
    "    print(f'Hi, {name}')\n",
    "greet()"
   ]
  },
  {
   "cell_type": "code",
   "execution_count": null,
   "id": "ceaa0fec",
   "metadata": {},
   "outputs": [],
   "source": [
    "# Topic: JSON & CSV\n",
    "import csv\n",
    "with open('file.csv', 'w', newline='') as f:\n",
    " csv.writer(f).writerow(['a','b','c'])"
   ]
  },
  {
   "cell_type": "code",
   "execution_count": null,
   "id": "8aaa85ef",
   "metadata": {},
   "outputs": [],
   "source": [
    "# Topic: Web Scraping\n",
    "import requests\n",
    "from bs4 import BeautifulSoup\n",
    "r = requests.get('https://example.com')\n",
    "soup = BeautifulSoup(r.text, 'html.parser')\n",
    "print(soup.title.text)"
   ]
  },
  {
   "cell_type": "code",
   "execution_count": null,
   "id": "d947efef",
   "metadata": {},
   "outputs": [],
   "source": [
    "# Topic: Basic ML\n",
    "from sklearn.linear_model import LinearRegression\n",
    "model = LinearRegression()\n",
    "print(model)"
   ]
  },
  {
   "cell_type": "code",
   "execution_count": null,
   "id": "a0301a27",
   "metadata": {},
   "outputs": [],
   "source": [
    "# Topic: Mini Projects\n",
    "# Palindrome check\n",
    "def is_pal(s): return s == s[::-1]\n",
    "print(is_pal('madam'))"
   ]
  },
  {
   "cell_type": "code",
   "execution_count": null,
   "id": "8c46d1b7",
   "metadata": {},
   "outputs": [],
   "source": [
    "# Topic: Lists & Tuples\n",
    "lst = [1, 2, 3]\n",
    "lst.append(4)\n",
    "print(lst)"
   ]
  },
  {
   "cell_type": "code",
   "execution_count": null,
   "id": "64f95d84",
   "metadata": {},
   "outputs": [],
   "source": [
    "# Topic: Matplotlib & Seaborn\n",
    "import seaborn as sns\n",
    "import pandas as pd\n",
    "sns.set()\n",
    "sns.histplot(pd.Series([1,2,2,3]));"
   ]
  },
  {
   "cell_type": "code",
   "execution_count": null,
   "id": "011b6ccf",
   "metadata": {},
   "outputs": [],
   "source": [
    "# Topic: OOP\n",
    "class Student:\n",
    "    def __init__(self, name): self.name = name\n",
    "s = Student('Fahd')\n",
    "print(s.name)"
   ]
  },
  {
   "cell_type": "code",
   "execution_count": null,
   "id": "fdb3787c",
   "metadata": {},
   "outputs": [],
   "source": [
    "# Topic: OOP\n",
    "class Student:\n",
    "    def __init__(self, name): self.name = name\n",
    "s = Student('Fahd')\n",
    "print(s.name)"
   ]
  },
  {
   "cell_type": "code",
   "execution_count": null,
   "id": "514acf6c",
   "metadata": {},
   "outputs": [],
   "source": [
    "# Topic: JSON & CSV\n",
    "import json\n",
    "data = {'a': 1}\n",
    "print(json.dumps(data))"
   ]
  },
  {
   "cell_type": "code",
   "execution_count": null,
   "id": "78c7a195",
   "metadata": {},
   "outputs": [],
   "source": [
    "# Topic: Algorithms\n",
    "# Bubble sort\n",
    "def bubble(arr):\n",
    " for i in range(len(arr)):\n",
    "  for j in range(0, len(arr)-i-1):\n",
    "   if arr[j]>arr[j+1]: arr[j],arr[j+1]=arr[j+1],arr[j]\n",
    "a=[5,3,8]\n",
    "bubble(a)\n",
    "print(a)"
   ]
  },
  {
   "cell_type": "code",
   "execution_count": null,
   "id": "8ba17e9d",
   "metadata": {},
   "outputs": [],
   "source": [
    "# Topic: Data Cleaning\n",
    "import pandas as pd\n",
    "df = pd.DataFrame({'A':[1,None,3]})\n",
    "df = df.fillna(0)\n",
    "print(df)"
   ]
  },
  {
   "cell_type": "code",
   "execution_count": null,
   "id": "f9bca866",
   "metadata": {},
   "outputs": [],
   "source": [
    "# Topic: Mini Projects\n",
    "# Calculator\n",
    "def calc(a,b,op): return eval(f'{a}{op}{b}')\n",
    "print(calc(5,2,'+'))"
   ]
  },
  {
   "cell_type": "code",
   "execution_count": null,
   "id": "76904bed",
   "metadata": {},
   "outputs": [],
   "source": [
    "# Topic: Functions\n",
    "def square(x): return x*x\n",
    "print(square(5))"
   ]
  },
  {
   "cell_type": "code",
   "execution_count": null,
   "id": "07c47c38",
   "metadata": {},
   "outputs": [],
   "source": [
    "# Topic: Data Cleaning\n",
    "import pandas as pd\n",
    "df = pd.DataFrame({'A':[1,None,3]})\n",
    "df = df.fillna(0)\n",
    "print(df)"
   ]
  },
  {
   "cell_type": "code",
   "execution_count": null,
   "id": "90fa30e3",
   "metadata": {},
   "outputs": [],
   "source": [
    "# Topic: File I/O\n",
    "with open('test.txt', 'w') as f:\n",
    "    f.write('Hello World')"
   ]
  },
  {
   "cell_type": "code",
   "execution_count": null,
   "id": "7754f1cf",
   "metadata": {},
   "outputs": [],
   "source": [
    "# Topic: Dictionaries & Sets\n",
    "s = set([1, 2, 3, 2])\n",
    "print(s)"
   ]
  },
  {
   "cell_type": "code",
   "execution_count": null,
   "id": "487f9019",
   "metadata": {},
   "outputs": [],
   "source": [
    "# Topic: NumPy\n",
    "import numpy as np\n",
    "print(np.linspace(0, 1, 5))"
   ]
  },
  {
   "cell_type": "code",
   "execution_count": null,
   "id": "e49242d7",
   "metadata": {},
   "outputs": [],
   "source": [
    "# Topic: Lists & Tuples\n",
    "t = (1, 2, 3)\n",
    "print(t[0])"
   ]
  },
  {
   "cell_type": "code",
   "execution_count": null,
   "id": "bd514190",
   "metadata": {},
   "outputs": [],
   "source": [
    "# Topic: Web Scraping\n",
    "import requests\n",
    "from bs4 import BeautifulSoup\n",
    "r = requests.get('https://example.com')\n",
    "soup = BeautifulSoup(r.text, 'html.parser')\n",
    "print(soup.title.text)"
   ]
  },
  {
   "cell_type": "code",
   "execution_count": null,
   "id": "e43c127f",
   "metadata": {},
   "outputs": [],
   "source": [
    "# Topic: Dictionaries & Sets\n",
    "d = {'name': 'Fahd', 'age': 20}\n",
    "print(d.get('name'))"
   ]
  },
  {
   "cell_type": "code",
   "execution_count": null,
   "id": "46d7bfdd",
   "metadata": {},
   "outputs": [],
   "source": [
    "# Topic: Recursion\n",
    "def fact(n): return 1 if n==0 else n*fact(n-1)\n",
    "print(fact(5))"
   ]
  },
  {
   "cell_type": "code",
   "execution_count": null,
   "id": "cc6ca225",
   "metadata": {},
   "outputs": [],
   "source": [
    "# Topic: CLI Tools\n",
    "import sys\n",
    "print(f'Arguments: {sys.argv}')"
   ]
  },
  {
   "cell_type": "code",
   "execution_count": null,
   "id": "09b44dcd",
   "metadata": {},
   "outputs": [],
   "source": [
    "# Topic: File I/O\n",
    "with open('test.txt', 'w') as f:\n",
    "    f.write('Hello World')"
   ]
  },
  {
   "cell_type": "code",
   "execution_count": null,
   "id": "f0da0fb2",
   "metadata": {},
   "outputs": [],
   "source": [
    "# Topic: Loops\n",
    "for i in range(10): print(i*i)"
   ]
  },
  {
   "cell_type": "code",
   "execution_count": null,
   "id": "7bb53a14",
   "metadata": {},
   "outputs": [],
   "source": [
    "# Topic: Mini Projects\n",
    "# Calculator\n",
    "def calc(a,b,op): return eval(f'{a}{op}{b}')\n",
    "print(calc(5,2,'+'))"
   ]
  },
  {
   "cell_type": "code",
   "execution_count": null,
   "id": "8d40b2f6",
   "metadata": {},
   "outputs": [],
   "source": [
    "# Topic: Loops\n",
    "while True:\n",
    "    print('Break')\n",
    "    break"
   ]
  },
  {
   "cell_type": "code",
   "execution_count": null,
   "id": "9697adb6",
   "metadata": {},
   "outputs": [],
   "source": [
    "# Topic: Basics\n",
    "name = 'Fahd'\n",
    "print(f'Hello, {name}')"
   ]
  },
  {
   "cell_type": "code",
   "execution_count": null,
   "id": "ea2a8275",
   "metadata": {},
   "outputs": [],
   "source": [
    "# Topic: Loops\n",
    "while True:\n",
    "    print('Break')\n",
    "    break"
   ]
  },
  {
   "cell_type": "code",
   "execution_count": null,
   "id": "661fe9c5",
   "metadata": {},
   "outputs": [],
   "source": [
    "# Topic: Dictionaries & Sets\n",
    "d = {'name': 'Fahd', 'age': 20}\n",
    "print(d.get('name'))"
   ]
  },
  {
   "cell_type": "code",
   "execution_count": null,
   "id": "0c5fb988",
   "metadata": {},
   "outputs": [],
   "source": [
    "# Topic: OOP\n",
    "class Student:\n",
    "    def __init__(self, name): self.name = name\n",
    "s = Student('Fahd')\n",
    "print(s.name)"
   ]
  },
  {
   "cell_type": "code",
   "execution_count": null,
   "id": "a4571ce7",
   "metadata": {},
   "outputs": [],
   "source": [
    "# Topic: File I/O\n",
    "with open('test.txt', 'w') as f:\n",
    "    f.write('Hello World')"
   ]
  },
  {
   "cell_type": "code",
   "execution_count": null,
   "id": "f40fac58",
   "metadata": {},
   "outputs": [],
   "source": [
    "# Topic: JSON & CSV\n",
    "import csv\n",
    "with open('file.csv', 'w', newline='') as f:\n",
    " csv.writer(f).writerow(['a','b','c'])"
   ]
  },
  {
   "cell_type": "code",
   "execution_count": null,
   "id": "cc5f4dc1",
   "metadata": {},
   "outputs": [],
   "source": [
    "# Topic: File I/O\n",
    "with open('test.txt', 'w') as f:\n",
    "    f.write('Hello World')"
   ]
  },
  {
   "cell_type": "code",
   "execution_count": null,
   "id": "eab046b4",
   "metadata": {},
   "outputs": [],
   "source": [
    "# Topic: File I/O\n",
    "with open('test.txt', 'r') as f:\n",
    "    print(f.read())"
   ]
  },
  {
   "cell_type": "code",
   "execution_count": null,
   "id": "88cebc72",
   "metadata": {},
   "outputs": [],
   "source": [
    "# Topic: Dictionaries & Sets\n",
    "d = {'name': 'Fahd', 'age': 20}\n",
    "print(d.get('name'))"
   ]
  },
  {
   "cell_type": "code",
   "execution_count": null,
   "id": "07e3a746",
   "metadata": {},
   "outputs": [],
   "source": [
    "# Topic: CLI Tools\n",
    "import sys\n",
    "print(f'Arguments: {sys.argv}')"
   ]
  },
  {
   "cell_type": "code",
   "execution_count": null,
   "id": "e2d2b257",
   "metadata": {},
   "outputs": [],
   "source": [
    "# Topic: NumPy\n",
    "import numpy as np\n",
    "a = np.array([1, 2, 3])\n",
    "print(a + 5)"
   ]
  },
  {
   "cell_type": "code",
   "execution_count": null,
   "id": "01b43df4",
   "metadata": {},
   "outputs": [],
   "source": [
    "# Topic: Dictionaries & Sets\n",
    "s = set([1, 2, 3, 2])\n",
    "print(s)"
   ]
  },
  {
   "cell_type": "code",
   "execution_count": null,
   "id": "533e66b6",
   "metadata": {},
   "outputs": [],
   "source": [
    "# Topic: Data Cleaning\n",
    "import pandas as pd\n",
    "df = pd.DataFrame({'A':[1,None,3]})\n",
    "df = df.fillna(0)\n",
    "print(df)"
   ]
  },
  {
   "cell_type": "code",
   "execution_count": null,
   "id": "057d3d12",
   "metadata": {},
   "outputs": [],
   "source": [
    "# Topic: Pandas\n",
    "import pandas as pd\n",
    "df = pd.DataFrame({'A':[1,2],'B':[3,4]})\n",
    "print(df)"
   ]
  },
  {
   "cell_type": "code",
   "execution_count": null,
   "id": "597ba4a5",
   "metadata": {},
   "outputs": [],
   "source": [
    "# Topic: CLI Tools\n",
    "import sys\n",
    "print(f'Arguments: {sys.argv}')"
   ]
  },
  {
   "cell_type": "code",
   "execution_count": null,
   "id": "c42101af",
   "metadata": {},
   "outputs": [],
   "source": [
    "# Topic: CLI Tools\n",
    "import sys\n",
    "print(f'Arguments: {sys.argv}')"
   ]
  },
  {
   "cell_type": "code",
   "execution_count": null,
   "id": "688cac29",
   "metadata": {},
   "outputs": [],
   "source": [
    "# Topic: NumPy\n",
    "import numpy as np\n",
    "print(np.linspace(0, 1, 5))"
   ]
  },
  {
   "cell_type": "code",
   "execution_count": null,
   "id": "30080d0a",
   "metadata": {},
   "outputs": [],
   "source": [
    "# Topic: OOP\n",
    "class Student:\n",
    "    def __init__(self, name): self.name = name\n",
    "s = Student('Fahd')\n",
    "print(s.name)"
   ]
  },
  {
   "cell_type": "code",
   "execution_count": null,
   "id": "4ad3fe7f",
   "metadata": {},
   "outputs": [],
   "source": [
    "# Topic: Matplotlib & Seaborn\n",
    "import seaborn as sns\n",
    "import pandas as pd\n",
    "sns.set()\n",
    "sns.histplot(pd.Series([1,2,2,3]));"
   ]
  },
  {
   "cell_type": "code",
   "execution_count": null,
   "id": "8ec11a58",
   "metadata": {},
   "outputs": [],
   "source": [
    "# Topic: Regex\n",
    "import re\n",
    "text = 'email: test@example.com'\n",
    "print(re.findall(r'\\S+@\\S+', text))"
   ]
  },
  {
   "cell_type": "code",
   "execution_count": null,
   "id": "dff0a289",
   "metadata": {},
   "outputs": [],
   "source": [
    "# Topic: Lists & Tuples\n",
    "t = (1, 2, 3)\n",
    "print(t[0])"
   ]
  },
  {
   "cell_type": "code",
   "execution_count": null,
   "id": "7307a552",
   "metadata": {},
   "outputs": [],
   "source": [
    "# Topic: Recursion\n",
    "def fact(n): return 1 if n==0 else n*fact(n-1)\n",
    "print(fact(5))"
   ]
  },
  {
   "cell_type": "code",
   "execution_count": null,
   "id": "5e7f484f",
   "metadata": {},
   "outputs": [],
   "source": [
    "# Topic: Basics\n",
    "name = 'Fahd'\n",
    "print(f'Hello, {name}')"
   ]
  },
  {
   "cell_type": "code",
   "execution_count": null,
   "id": "bcc30b58",
   "metadata": {},
   "outputs": [],
   "source": [
    "# Topic: Basics\n",
    "name = 'Fahd'\n",
    "print(f'Hello, {name}')"
   ]
  },
  {
   "cell_type": "code",
   "execution_count": null,
   "id": "cf82991f",
   "metadata": {},
   "outputs": [],
   "source": [
    "# Topic: Web Scraping\n",
    "import requests\n",
    "from bs4 import BeautifulSoup\n",
    "r = requests.get('https://example.com')\n",
    "soup = BeautifulSoup(r.text, 'html.parser')\n",
    "print(soup.title.text)"
   ]
  },
  {
   "cell_type": "code",
   "execution_count": null,
   "id": "6e967768",
   "metadata": {},
   "outputs": [],
   "source": [
    "# Topic: OOP\n",
    "class Student:\n",
    "    def __init__(self, name): self.name = name\n",
    "s = Student('Fahd')\n",
    "print(s.name)"
   ]
  },
  {
   "cell_type": "code",
   "execution_count": null,
   "id": "fa78f0e2",
   "metadata": {},
   "outputs": [],
   "source": [
    "# Topic: Regex\n",
    "import re\n",
    "text = 'email: test@example.com'\n",
    "print(re.findall(r'\\S+@\\S+', text))"
   ]
  },
  {
   "cell_type": "code",
   "execution_count": null,
   "id": "9cd43c40",
   "metadata": {},
   "outputs": [],
   "source": [
    "# Topic: Pandas\n",
    "import pandas as pd\n",
    "df = pd.read_csv('file.csv')\n",
    "print(df.head())"
   ]
  },
  {
   "cell_type": "code",
   "execution_count": null,
   "id": "331effc1",
   "metadata": {},
   "outputs": [],
   "source": [
    "# Topic: JSON & CSV\n",
    "import json\n",
    "data = {'a': 1}\n",
    "print(json.dumps(data))"
   ]
  },
  {
   "cell_type": "code",
   "execution_count": null,
   "id": "07601d38",
   "metadata": {},
   "outputs": [],
   "source": [
    "# Topic: JSON & CSV\n",
    "import csv\n",
    "with open('file.csv', 'w', newline='') as f:\n",
    " csv.writer(f).writerow(['a','b','c'])"
   ]
  },
  {
   "cell_type": "code",
   "execution_count": null,
   "id": "ed729da2",
   "metadata": {},
   "outputs": [],
   "source": [
    "# Topic: Data Cleaning\n",
    "import pandas as pd\n",
    "df = pd.DataFrame({'A':[1,None,3]})\n",
    "df = df.fillna(0)\n",
    "print(df)"
   ]
  },
  {
   "cell_type": "code",
   "execution_count": null,
   "id": "a7412b82",
   "metadata": {},
   "outputs": [],
   "source": [
    "# Topic: File I/O\n",
    "with open('test.txt', 'w') as f:\n",
    "    f.write('Hello World')"
   ]
  },
  {
   "cell_type": "code",
   "execution_count": null,
   "id": "46e92191",
   "metadata": {},
   "outputs": [],
   "source": [
    "# Topic: Algorithms\n",
    "# Bubble sort\n",
    "def bubble(arr):\n",
    " for i in range(len(arr)):\n",
    "  for j in range(0, len(arr)-i-1):\n",
    "   if arr[j]>arr[j+1]: arr[j],arr[j+1]=arr[j+1],arr[j]\n",
    "a=[5,3,8]\n",
    "bubble(a)\n",
    "print(a)"
   ]
  },
  {
   "cell_type": "code",
   "execution_count": null,
   "id": "076fb681",
   "metadata": {},
   "outputs": [],
   "source": [
    "# Topic: CLI Tools\n",
    "import sys\n",
    "print(f'Arguments: {sys.argv}')"
   ]
  },
  {
   "cell_type": "code",
   "execution_count": null,
   "id": "50525dec",
   "metadata": {},
   "outputs": [],
   "source": [
    "# Topic: Data Cleaning\n",
    "import pandas as pd\n",
    "df = pd.DataFrame({'A':[1,None,3]})\n",
    "df = df.fillna(0)\n",
    "print(df)"
   ]
  },
  {
   "cell_type": "code",
   "execution_count": null,
   "id": "9a343154",
   "metadata": {},
   "outputs": [],
   "source": [
    "# Topic: Loops\n",
    "for i in range(10): print(i*i)"
   ]
  },
  {
   "cell_type": "code",
   "execution_count": null,
   "id": "fb732969",
   "metadata": {},
   "outputs": [],
   "source": [
    "# Topic: Pandas\n",
    "import pandas as pd\n",
    "df = pd.read_csv('file.csv')\n",
    "print(df.head())"
   ]
  },
  {
   "cell_type": "code",
   "execution_count": null,
   "id": "d25ae32c",
   "metadata": {},
   "outputs": [],
   "source": [
    "# Topic: Basic ML\n",
    "from sklearn.linear_model import LinearRegression\n",
    "model = LinearRegression()\n",
    "print(model)"
   ]
  },
  {
   "cell_type": "code",
   "execution_count": null,
   "id": "c6dacf4f",
   "metadata": {},
   "outputs": [],
   "source": [
    "# Topic: Pandas\n",
    "import pandas as pd\n",
    "df = pd.read_csv('file.csv')\n",
    "print(df.head())"
   ]
  },
  {
   "cell_type": "code",
   "execution_count": null,
   "id": "eae4a452",
   "metadata": {},
   "outputs": [],
   "source": [
    "# Topic: Algorithms\n",
    "# Bubble sort\n",
    "def bubble(arr):\n",
    " for i in range(len(arr)):\n",
    "  for j in range(0, len(arr)-i-1):\n",
    "   if arr[j]>arr[j+1]: arr[j],arr[j+1]=arr[j+1],arr[j]\n",
    "a=[5,3,8]\n",
    "bubble(a)\n",
    "print(a)"
   ]
  },
  {
   "cell_type": "code",
   "execution_count": null,
   "id": "d4575554",
   "metadata": {},
   "outputs": [],
   "source": [
    "# Topic: Recursion\n",
    "def fact(n): return 1 if n==0 else n*fact(n-1)\n",
    "print(fact(5))"
   ]
  },
  {
   "cell_type": "code",
   "execution_count": null,
   "id": "58abd7f7",
   "metadata": {},
   "outputs": [],
   "source": [
    "# Topic: Web Scraping\n",
    "import requests\n",
    "from bs4 import BeautifulSoup\n",
    "r = requests.get('https://example.com')\n",
    "soup = BeautifulSoup(r.text, 'html.parser')\n",
    "print(soup.title.text)"
   ]
  },
  {
   "cell_type": "code",
   "execution_count": null,
   "id": "79f89443",
   "metadata": {},
   "outputs": [],
   "source": [
    "# Topic: Data Cleaning\n",
    "import pandas as pd\n",
    "df = pd.DataFrame({'A':[1,None,3]})\n",
    "df = df.fillna(0)\n",
    "print(df)"
   ]
  },
  {
   "cell_type": "code",
   "execution_count": null,
   "id": "c69aa491",
   "metadata": {},
   "outputs": [],
   "source": [
    "# Topic: Data Cleaning\n",
    "import pandas as pd\n",
    "df = pd.DataFrame({'A':[1,None,3]})\n",
    "df = df.fillna(0)\n",
    "print(df)"
   ]
  },
  {
   "cell_type": "code",
   "execution_count": null,
   "id": "e88a92b2",
   "metadata": {},
   "outputs": [],
   "source": [
    "# Topic: Pandas\n",
    "import pandas as pd\n",
    "df = pd.DataFrame({'A':[1,2],'B':[3,4]})\n",
    "print(df)"
   ]
  },
  {
   "cell_type": "code",
   "execution_count": null,
   "id": "6a338d52",
   "metadata": {},
   "outputs": [],
   "source": [
    "# Topic: Data Cleaning\n",
    "import pandas as pd\n",
    "df = pd.DataFrame({'A':[1,None,3]})\n",
    "df = df.fillna(0)\n",
    "print(df)"
   ]
  },
  {
   "cell_type": "code",
   "execution_count": null,
   "id": "c919aa0b",
   "metadata": {},
   "outputs": [],
   "source": [
    "# Topic: Dictionaries & Sets\n",
    "d = {'name': 'Fahd', 'age': 20}\n",
    "print(d.get('name'))"
   ]
  },
  {
   "cell_type": "code",
   "execution_count": null,
   "id": "227aa484",
   "metadata": {},
   "outputs": [],
   "source": [
    "# Topic: Mini Projects\n",
    "# Palindrome check\n",
    "def is_pal(s): return s == s[::-1]\n",
    "print(is_pal('madam'))"
   ]
  },
  {
   "cell_type": "code",
   "execution_count": null,
   "id": "9d1e5145",
   "metadata": {},
   "outputs": [],
   "source": [
    "# Topic: Algorithms\n",
    "# Bubble sort\n",
    "def bubble(arr):\n",
    " for i in range(len(arr)):\n",
    "  for j in range(0, len(arr)-i-1):\n",
    "   if arr[j]>arr[j+1]: arr[j],arr[j+1]=arr[j+1],arr[j]\n",
    "a=[5,3,8]\n",
    "bubble(a)\n",
    "print(a)"
   ]
  },
  {
   "cell_type": "code",
   "execution_count": null,
   "id": "b5961232",
   "metadata": {},
   "outputs": [],
   "source": [
    "# Topic: Lists & Tuples\n",
    "t = (1, 2, 3)\n",
    "print(t[0])"
   ]
  },
  {
   "cell_type": "code",
   "execution_count": null,
   "id": "0ec16766",
   "metadata": {},
   "outputs": [],
   "source": [
    "# Topic: Lists & Tuples\n",
    "lst = [1, 2, 3]\n",
    "lst.append(4)\n",
    "print(lst)"
   ]
  },
  {
   "cell_type": "code",
   "execution_count": null,
   "id": "8eab80a0",
   "metadata": {},
   "outputs": [],
   "source": [
    "# Topic: Loops\n",
    "while True:\n",
    "    print('Break')\n",
    "    break"
   ]
  },
  {
   "cell_type": "code",
   "execution_count": null,
   "id": "794c8552",
   "metadata": {},
   "outputs": [],
   "source": [
    "# Topic: Pandas\n",
    "import pandas as pd\n",
    "df = pd.read_csv('file.csv')\n",
    "print(df.head())"
   ]
  },
  {
   "cell_type": "code",
   "execution_count": null,
   "id": "f74bb3f9",
   "metadata": {},
   "outputs": [],
   "source": [
    "# Topic: File I/O\n",
    "with open('test.txt', 'w') as f:\n",
    "    f.write('Hello World')"
   ]
  },
  {
   "cell_type": "code",
   "execution_count": null,
   "id": "81f5f49f",
   "metadata": {},
   "outputs": [],
   "source": [
    "# Topic: Recursion\n",
    "def fact(n): return 1 if n==0 else n*fact(n-1)\n",
    "print(fact(5))"
   ]
  },
  {
   "cell_type": "code",
   "execution_count": null,
   "id": "1f6ce2cb",
   "metadata": {},
   "outputs": [],
   "source": [
    "# Topic: Pandas\n",
    "import pandas as pd\n",
    "df = pd.DataFrame({'A':[1,2],'B':[3,4]})\n",
    "print(df)"
   ]
  },
  {
   "cell_type": "code",
   "execution_count": null,
   "id": "2aba440f",
   "metadata": {},
   "outputs": [],
   "source": [
    "# Topic: Matplotlib & Seaborn\n",
    "import matplotlib.pyplot as plt\n",
    "plt.plot([1,2],[3,4])\n",
    "plt.show()"
   ]
  },
  {
   "cell_type": "code",
   "execution_count": null,
   "id": "0d2c5695",
   "metadata": {},
   "outputs": [],
   "source": [
    "# Topic: Algorithms\n",
    "# Bubble sort\n",
    "def bubble(arr):\n",
    " for i in range(len(arr)):\n",
    "  for j in range(0, len(arr)-i-1):\n",
    "   if arr[j]>arr[j+1]: arr[j],arr[j+1]=arr[j+1],arr[j]\n",
    "a=[5,3,8]\n",
    "bubble(a)\n",
    "print(a)"
   ]
  },
  {
   "cell_type": "code",
   "execution_count": null,
   "id": "138f491d",
   "metadata": {},
   "outputs": [],
   "source": [
    "# Topic: Regex\n",
    "import re\n",
    "text = 'email: test@example.com'\n",
    "print(re.findall(r'\\S+@\\S+', text))"
   ]
  },
  {
   "cell_type": "code",
   "execution_count": null,
   "id": "adf4d131",
   "metadata": {},
   "outputs": [],
   "source": [
    "# Topic: Web Scraping\n",
    "import requests\n",
    "from bs4 import BeautifulSoup\n",
    "r = requests.get('https://example.com')\n",
    "soup = BeautifulSoup(r.text, 'html.parser')\n",
    "print(soup.title.text)"
   ]
  },
  {
   "cell_type": "code",
   "execution_count": null,
   "id": "65e280c5",
   "metadata": {},
   "outputs": [],
   "source": [
    "# Topic: Regex\n",
    "import re\n",
    "text = 'email: test@example.com'\n",
    "print(re.findall(r'\\S+@\\S+', text))"
   ]
  },
  {
   "cell_type": "code",
   "execution_count": null,
   "id": "7fb8f56d",
   "metadata": {},
   "outputs": [],
   "source": [
    "# Topic: Data Cleaning\n",
    "import pandas as pd\n",
    "df = pd.DataFrame({'A':[1,None,3]})\n",
    "df = df.fillna(0)\n",
    "print(df)"
   ]
  },
  {
   "cell_type": "code",
   "execution_count": null,
   "id": "1a780b27",
   "metadata": {},
   "outputs": [],
   "source": [
    "# Topic: Basic ML\n",
    "from sklearn.linear_model import LinearRegression\n",
    "model = LinearRegression()\n",
    "print(model)"
   ]
  },
  {
   "cell_type": "code",
   "execution_count": null,
   "id": "48c0d0c6",
   "metadata": {},
   "outputs": [],
   "source": [
    "# Topic: Data Cleaning\n",
    "import pandas as pd\n",
    "df = pd.DataFrame({'A':[1,None,3]})\n",
    "df = df.fillna(0)\n",
    "print(df)"
   ]
  },
  {
   "cell_type": "code",
   "execution_count": null,
   "id": "cfb9402b",
   "metadata": {},
   "outputs": [],
   "source": [
    "# Topic: Pandas\n",
    "import pandas as pd\n",
    "df = pd.DataFrame({'A':[1,2],'B':[3,4]})\n",
    "print(df)"
   ]
  },
  {
   "cell_type": "code",
   "execution_count": null,
   "id": "51f1910e",
   "metadata": {},
   "outputs": [],
   "source": [
    "# Topic: Basic ML\n",
    "from sklearn.linear_model import LinearRegression\n",
    "model = LinearRegression()\n",
    "print(model)"
   ]
  },
  {
   "cell_type": "code",
   "execution_count": null,
   "id": "2e3789ac",
   "metadata": {},
   "outputs": [],
   "source": [
    "# Topic: Lists & Tuples\n",
    "t = (1, 2, 3)\n",
    "print(t[0])"
   ]
  },
  {
   "cell_type": "code",
   "execution_count": null,
   "id": "7b0280b7",
   "metadata": {},
   "outputs": [],
   "source": [
    "# Topic: Web Scraping\n",
    "import requests\n",
    "from bs4 import BeautifulSoup\n",
    "r = requests.get('https://example.com')\n",
    "soup = BeautifulSoup(r.text, 'html.parser')\n",
    "print(soup.title.text)"
   ]
  },
  {
   "cell_type": "code",
   "execution_count": null,
   "id": "7d4ea5d5",
   "metadata": {},
   "outputs": [],
   "source": [
    "# Topic: Recursion\n",
    "def fact(n): return 1 if n==0 else n*fact(n-1)\n",
    "print(fact(5))"
   ]
  },
  {
   "cell_type": "code",
   "execution_count": null,
   "id": "65cc4ae3",
   "metadata": {},
   "outputs": [],
   "source": [
    "# Topic: Regex\n",
    "import re\n",
    "text = 'email: test@example.com'\n",
    "print(re.findall(r'\\S+@\\S+', text))"
   ]
  },
  {
   "cell_type": "code",
   "execution_count": null,
   "id": "c467d416",
   "metadata": {},
   "outputs": [],
   "source": [
    "# Topic: NumPy\n",
    "import numpy as np\n",
    "a = np.array([1, 2, 3])\n",
    "print(a + 5)"
   ]
  },
  {
   "cell_type": "code",
   "execution_count": null,
   "id": "9d2e3c84",
   "metadata": {},
   "outputs": [],
   "source": [
    "# Topic: Decorators\n",
    "def log(func):\n",
    " def wrapper():\n",
    "  print('Call')\n",
    "  func()\n",
    " return wrapper\n",
    "@log\n",
    "def say(): print('Hi')\n",
    "say()"
   ]
  },
  {
   "cell_type": "code",
   "execution_count": null,
   "id": "0a82a043",
   "metadata": {},
   "outputs": [],
   "source": [
    "# Topic: Data Cleaning\n",
    "import pandas as pd\n",
    "df = pd.DataFrame({'A':[1,None,3]})\n",
    "df = df.fillna(0)\n",
    "print(df)"
   ]
  },
  {
   "cell_type": "code",
   "execution_count": null,
   "id": "c3244ab2",
   "metadata": {},
   "outputs": [],
   "source": [
    "# Topic: Algorithms\n",
    "# Bubble sort\n",
    "def bubble(arr):\n",
    " for i in range(len(arr)):\n",
    "  for j in range(0, len(arr)-i-1):\n",
    "   if arr[j]>arr[j+1]: arr[j],arr[j+1]=arr[j+1],arr[j]\n",
    "a=[5,3,8]\n",
    "bubble(a)\n",
    "print(a)"
   ]
  },
  {
   "cell_type": "code",
   "execution_count": null,
   "id": "9f2ef90d",
   "metadata": {},
   "outputs": [],
   "source": [
    "# Topic: Algorithms\n",
    "# Bubble sort\n",
    "def bubble(arr):\n",
    " for i in range(len(arr)):\n",
    "  for j in range(0, len(arr)-i-1):\n",
    "   if arr[j]>arr[j+1]: arr[j],arr[j+1]=arr[j+1],arr[j]\n",
    "a=[5,3,8]\n",
    "bubble(a)\n",
    "print(a)"
   ]
  },
  {
   "cell_type": "code",
   "execution_count": null,
   "id": "18e6520a",
   "metadata": {},
   "outputs": [],
   "source": [
    "# Topic: Basics\n",
    "x = 10\n",
    "y = 20\n",
    "print(x + y)"
   ]
  },
  {
   "cell_type": "code",
   "execution_count": null,
   "id": "4ef713f2",
   "metadata": {},
   "outputs": [],
   "source": [
    "# Topic: Basics\n",
    "name = 'Fahd'\n",
    "print(f'Hello, {name}')"
   ]
  },
  {
   "cell_type": "code",
   "execution_count": null,
   "id": "28ecefe6",
   "metadata": {},
   "outputs": [],
   "source": [
    "# Topic: Web Scraping\n",
    "import requests\n",
    "from bs4 import BeautifulSoup\n",
    "r = requests.get('https://example.com')\n",
    "soup = BeautifulSoup(r.text, 'html.parser')\n",
    "print(soup.title.text)"
   ]
  },
  {
   "cell_type": "code",
   "execution_count": null,
   "id": "c9bd5358",
   "metadata": {},
   "outputs": [],
   "source": [
    "# Topic: Lists & Tuples\n",
    "t = (1, 2, 3)\n",
    "print(t[0])"
   ]
  },
  {
   "cell_type": "code",
   "execution_count": null,
   "id": "d0bcb298",
   "metadata": {},
   "outputs": [],
   "source": [
    "# Topic: Functions\n",
    "def greet(name='User'):\n",
    "    print(f'Hi, {name}')\n",
    "greet()"
   ]
  },
  {
   "cell_type": "code",
   "execution_count": null,
   "id": "63a3d55d",
   "metadata": {},
   "outputs": [],
   "source": [
    "# Topic: Basic ML\n",
    "from sklearn.linear_model import LinearRegression\n",
    "model = LinearRegression()\n",
    "print(model)"
   ]
  },
  {
   "cell_type": "code",
   "execution_count": null,
   "id": "45b80f44",
   "metadata": {},
   "outputs": [],
   "source": [
    "# Topic: Matplotlib & Seaborn\n",
    "import seaborn as sns\n",
    "import pandas as pd\n",
    "sns.set()\n",
    "sns.histplot(pd.Series([1,2,2,3]));"
   ]
  },
  {
   "cell_type": "code",
   "execution_count": null,
   "id": "f4da7492",
   "metadata": {},
   "outputs": [],
   "source": [
    "# Topic: Basics\n",
    "x = 10\n",
    "y = 20\n",
    "print(x + y)"
   ]
  },
  {
   "cell_type": "code",
   "execution_count": null,
   "id": "c8c7aa24",
   "metadata": {},
   "outputs": [],
   "source": [
    "# Topic: Regex\n",
    "import re\n",
    "text = 'email: test@example.com'\n",
    "print(re.findall(r'\\S+@\\S+', text))"
   ]
  },
  {
   "cell_type": "code",
   "execution_count": null,
   "id": "c6a1d877",
   "metadata": {},
   "outputs": [],
   "source": [
    "# Topic: Basics\n",
    "x = 10\n",
    "y = 20\n",
    "print(x + y)"
   ]
  },
  {
   "cell_type": "code",
   "execution_count": null,
   "id": "657044ab",
   "metadata": {},
   "outputs": [],
   "source": [
    "# Topic: Basic ML\n",
    "from sklearn.linear_model import LinearRegression\n",
    "model = LinearRegression()\n",
    "print(model)"
   ]
  },
  {
   "cell_type": "code",
   "execution_count": null,
   "id": "c76f3f1e",
   "metadata": {},
   "outputs": [],
   "source": [
    "# Topic: Basics\n",
    "name = 'Fahd'\n",
    "print(f'Hello, {name}')"
   ]
  },
  {
   "cell_type": "code",
   "execution_count": null,
   "id": "63ed305a",
   "metadata": {},
   "outputs": [],
   "source": [
    "# Topic: Loops\n",
    "for i in range(10): print(i*i)"
   ]
  },
  {
   "cell_type": "code",
   "execution_count": null,
   "id": "1976db5a",
   "metadata": {},
   "outputs": [],
   "source": [
    "# Topic: Decorators\n",
    "def log(func):\n",
    " def wrapper():\n",
    "  print('Call')\n",
    "  func()\n",
    " return wrapper\n",
    "@log\n",
    "def say(): print('Hi')\n",
    "say()"
   ]
  },
  {
   "cell_type": "code",
   "execution_count": null,
   "id": "d4661d16",
   "metadata": {},
   "outputs": [],
   "source": [
    "# Topic: Dictionaries & Sets\n",
    "d = {'name': 'Fahd', 'age': 20}\n",
    "print(d.get('name'))"
   ]
  },
  {
   "cell_type": "code",
   "execution_count": null,
   "id": "d901754b",
   "metadata": {},
   "outputs": [],
   "source": [
    "# Topic: JSON & CSV\n",
    "import json\n",
    "data = {'a': 1}\n",
    "print(json.dumps(data))"
   ]
  },
  {
   "cell_type": "code",
   "execution_count": null,
   "id": "f7d6aa9d",
   "metadata": {},
   "outputs": [],
   "source": [
    "# Topic: JSON & CSV\n",
    "import json\n",
    "data = {'a': 1}\n",
    "print(json.dumps(data))"
   ]
  },
  {
   "cell_type": "code",
   "execution_count": null,
   "id": "a23a0921",
   "metadata": {},
   "outputs": [],
   "source": [
    "# Topic: Basic ML\n",
    "from sklearn.linear_model import LinearRegression\n",
    "model = LinearRegression()\n",
    "print(model)"
   ]
  },
  {
   "cell_type": "code",
   "execution_count": null,
   "id": "b32bcfe4",
   "metadata": {},
   "outputs": [],
   "source": [
    "# Topic: NumPy\n",
    "import numpy as np\n",
    "print(np.linspace(0, 1, 5))"
   ]
  },
  {
   "cell_type": "code",
   "execution_count": null,
   "id": "66a999d7",
   "metadata": {},
   "outputs": [],
   "source": [
    "# Topic: Pandas\n",
    "import pandas as pd\n",
    "df = pd.DataFrame({'A':[1,2],'B':[3,4]})\n",
    "print(df)"
   ]
  },
  {
   "cell_type": "code",
   "execution_count": null,
   "id": "92ab1d8f",
   "metadata": {},
   "outputs": [],
   "source": [
    "# Topic: Basic ML\n",
    "from sklearn.linear_model import LinearRegression\n",
    "model = LinearRegression()\n",
    "print(model)"
   ]
  },
  {
   "cell_type": "code",
   "execution_count": null,
   "id": "e50a585a",
   "metadata": {},
   "outputs": [],
   "source": [
    "# Topic: Dictionaries & Sets\n",
    "s = set([1, 2, 3, 2])\n",
    "print(s)"
   ]
  },
  {
   "cell_type": "code",
   "execution_count": null,
   "id": "600f5c16",
   "metadata": {},
   "outputs": [],
   "source": [
    "# Topic: Basics\n",
    "x = 10\n",
    "y = 20\n",
    "print(x + y)"
   ]
  },
  {
   "cell_type": "code",
   "execution_count": null,
   "id": "55bf4fd5",
   "metadata": {},
   "outputs": [],
   "source": [
    "# Topic: Loops\n",
    "for i in range(10): print(i*i)"
   ]
  },
  {
   "cell_type": "code",
   "execution_count": null,
   "id": "1af1b2e4",
   "metadata": {},
   "outputs": [],
   "source": [
    "# Topic: Algorithms\n",
    "# Bubble sort\n",
    "def bubble(arr):\n",
    " for i in range(len(arr)):\n",
    "  for j in range(0, len(arr)-i-1):\n",
    "   if arr[j]>arr[j+1]: arr[j],arr[j+1]=arr[j+1],arr[j]\n",
    "a=[5,3,8]\n",
    "bubble(a)\n",
    "print(a)"
   ]
  },
  {
   "cell_type": "code",
   "execution_count": null,
   "id": "6b3f0d14",
   "metadata": {},
   "outputs": [],
   "source": [
    "# Topic: NumPy\n",
    "import numpy as np\n",
    "print(np.linspace(0, 1, 5))"
   ]
  },
  {
   "cell_type": "code",
   "execution_count": null,
   "id": "5f9bf7f6",
   "metadata": {},
   "outputs": [],
   "source": [
    "# Topic: Data Cleaning\n",
    "import pandas as pd\n",
    "df = pd.DataFrame({'A':[1,None,3]})\n",
    "df = df.fillna(0)\n",
    "print(df)"
   ]
  },
  {
   "cell_type": "code",
   "execution_count": null,
   "id": "1c6a2990",
   "metadata": {},
   "outputs": [],
   "source": [
    "# Topic: Lists & Tuples\n",
    "t = (1, 2, 3)\n",
    "print(t[0])"
   ]
  },
  {
   "cell_type": "code",
   "execution_count": null,
   "id": "7ef8f4bf",
   "metadata": {},
   "outputs": [],
   "source": [
    "# Topic: Dictionaries & Sets\n",
    "d = {'name': 'Fahd', 'age': 20}\n",
    "print(d.get('name'))"
   ]
  },
  {
   "cell_type": "code",
   "execution_count": null,
   "id": "dd5ea79f",
   "metadata": {},
   "outputs": [],
   "source": [
    "# Topic: Loops\n",
    "for i in range(10): print(i*i)"
   ]
  },
  {
   "cell_type": "code",
   "execution_count": null,
   "id": "f2983320",
   "metadata": {},
   "outputs": [],
   "source": [
    "# Topic: Basics\n",
    "x = 10\n",
    "y = 20\n",
    "print(x + y)"
   ]
  },
  {
   "cell_type": "code",
   "execution_count": null,
   "id": "ed2996a1",
   "metadata": {},
   "outputs": [],
   "source": [
    "# Topic: Loops\n",
    "while True:\n",
    "    print('Break')\n",
    "    break"
   ]
  },
  {
   "cell_type": "code",
   "execution_count": null,
   "id": "babf0ede",
   "metadata": {},
   "outputs": [],
   "source": [
    "# Topic: Basics\n",
    "name = 'Fahd'\n",
    "print(f'Hello, {name}')"
   ]
  },
  {
   "cell_type": "code",
   "execution_count": null,
   "id": "cd7309c2",
   "metadata": {},
   "outputs": [],
   "source": [
    "# Topic: OOP\n",
    "class Student:\n",
    "    def __init__(self, name): self.name = name\n",
    "s = Student('Fahd')\n",
    "print(s.name)"
   ]
  },
  {
   "cell_type": "code",
   "execution_count": null,
   "id": "ccb0ae31",
   "metadata": {},
   "outputs": [],
   "source": [
    "# Topic: Basics\n",
    "name = 'Fahd'\n",
    "print(f'Hello, {name}')"
   ]
  },
  {
   "cell_type": "code",
   "execution_count": null,
   "id": "c07513a3",
   "metadata": {},
   "outputs": [],
   "source": [
    "# Topic: Decorators\n",
    "def log(func):\n",
    " def wrapper():\n",
    "  print('Call')\n",
    "  func()\n",
    " return wrapper\n",
    "@log\n",
    "def say(): print('Hi')\n",
    "say()"
   ]
  },
  {
   "cell_type": "code",
   "execution_count": null,
   "id": "0887b1cd",
   "metadata": {},
   "outputs": [],
   "source": [
    "# Topic: Web Scraping\n",
    "import requests\n",
    "from bs4 import BeautifulSoup\n",
    "r = requests.get('https://example.com')\n",
    "soup = BeautifulSoup(r.text, 'html.parser')\n",
    "print(soup.title.text)"
   ]
  },
  {
   "cell_type": "code",
   "execution_count": null,
   "id": "bf31882b",
   "metadata": {},
   "outputs": [],
   "source": [
    "# Topic: Web Scraping\n",
    "import requests\n",
    "from bs4 import BeautifulSoup\n",
    "r = requests.get('https://example.com')\n",
    "soup = BeautifulSoup(r.text, 'html.parser')\n",
    "print(soup.title.text)"
   ]
  },
  {
   "cell_type": "code",
   "execution_count": null,
   "id": "54b1572a",
   "metadata": {},
   "outputs": [],
   "source": [
    "# Topic: Lists & Tuples\n",
    "t = (1, 2, 3)\n",
    "print(t[0])"
   ]
  },
  {
   "cell_type": "code",
   "execution_count": null,
   "id": "ee55ae46",
   "metadata": {},
   "outputs": [],
   "source": [
    "# Topic: Dictionaries & Sets\n",
    "s = set([1, 2, 3, 2])\n",
    "print(s)"
   ]
  },
  {
   "cell_type": "code",
   "execution_count": null,
   "id": "66a2c231",
   "metadata": {},
   "outputs": [],
   "source": [
    "# Topic: OOP\n",
    "class Student:\n",
    "    def __init__(self, name): self.name = name\n",
    "s = Student('Fahd')\n",
    "print(s.name)"
   ]
  },
  {
   "cell_type": "code",
   "execution_count": null,
   "id": "48a5c4cb",
   "metadata": {},
   "outputs": [],
   "source": [
    "# Topic: Web Scraping\n",
    "import requests\n",
    "from bs4 import BeautifulSoup\n",
    "r = requests.get('https://example.com')\n",
    "soup = BeautifulSoup(r.text, 'html.parser')\n",
    "print(soup.title.text)"
   ]
  },
  {
   "cell_type": "code",
   "execution_count": null,
   "id": "8c968040",
   "metadata": {},
   "outputs": [],
   "source": [
    "# Topic: Loops\n",
    "while True:\n",
    "    print('Break')\n",
    "    break"
   ]
  },
  {
   "cell_type": "code",
   "execution_count": null,
   "id": "e15e197f",
   "metadata": {},
   "outputs": [],
   "source": [
    "# Topic: OOP\n",
    "class Student:\n",
    "    def __init__(self, name): self.name = name\n",
    "s = Student('Fahd')\n",
    "print(s.name)"
   ]
  },
  {
   "cell_type": "code",
   "execution_count": null,
   "id": "f159e442",
   "metadata": {},
   "outputs": [],
   "source": [
    "# Topic: Basic ML\n",
    "from sklearn.linear_model import LinearRegression\n",
    "model = LinearRegression()\n",
    "print(model)"
   ]
  },
  {
   "cell_type": "code",
   "execution_count": null,
   "id": "86617271",
   "metadata": {},
   "outputs": [],
   "source": [
    "# Topic: Lists & Tuples\n",
    "lst = [1, 2, 3]\n",
    "lst.append(4)\n",
    "print(lst)"
   ]
  },
  {
   "cell_type": "code",
   "execution_count": null,
   "id": "4a215a25",
   "metadata": {},
   "outputs": [],
   "source": [
    "# Topic: Mini Projects\n",
    "# Palindrome check\n",
    "def is_pal(s): return s == s[::-1]\n",
    "print(is_pal('madam'))"
   ]
  },
  {
   "cell_type": "code",
   "execution_count": null,
   "id": "5e5e3dd2",
   "metadata": {},
   "outputs": [],
   "source": [
    "# Topic: NumPy\n",
    "import numpy as np\n",
    "a = np.array([1, 2, 3])\n",
    "print(a + 5)"
   ]
  },
  {
   "cell_type": "code",
   "execution_count": null,
   "id": "ab1f0ed8",
   "metadata": {},
   "outputs": [],
   "source": [
    "# Topic: Decorators\n",
    "def log(func):\n",
    " def wrapper():\n",
    "  print('Call')\n",
    "  func()\n",
    " return wrapper\n",
    "@log\n",
    "def say(): print('Hi')\n",
    "say()"
   ]
  },
  {
   "cell_type": "code",
   "execution_count": null,
   "id": "92b31805",
   "metadata": {},
   "outputs": [],
   "source": [
    "# Topic: Decorators\n",
    "def log(func):\n",
    " def wrapper():\n",
    "  print('Call')\n",
    "  func()\n",
    " return wrapper\n",
    "@log\n",
    "def say(): print('Hi')\n",
    "say()"
   ]
  },
  {
   "cell_type": "code",
   "execution_count": null,
   "id": "21d95a51",
   "metadata": {},
   "outputs": [],
   "source": [
    "# Topic: Dictionaries & Sets\n",
    "s = set([1, 2, 3, 2])\n",
    "print(s)"
   ]
  },
  {
   "cell_type": "code",
   "execution_count": null,
   "id": "9e20e271",
   "metadata": {},
   "outputs": [],
   "source": [
    "# Topic: Matplotlib & Seaborn\n",
    "import seaborn as sns\n",
    "import pandas as pd\n",
    "sns.set()\n",
    "sns.histplot(pd.Series([1,2,2,3]));"
   ]
  },
  {
   "cell_type": "code",
   "execution_count": null,
   "id": "63599fe6",
   "metadata": {},
   "outputs": [],
   "source": [
    "# Topic: Mini Projects\n",
    "# Calculator\n",
    "def calc(a,b,op): return eval(f'{a}{op}{b}')\n",
    "print(calc(5,2,'+'))"
   ]
  },
  {
   "cell_type": "code",
   "execution_count": null,
   "id": "b01854d1",
   "metadata": {},
   "outputs": [],
   "source": [
    "# Topic: CLI Tools\n",
    "import sys\n",
    "print(f'Arguments: {sys.argv}')"
   ]
  },
  {
   "cell_type": "code",
   "execution_count": null,
   "id": "7d1743c9",
   "metadata": {},
   "outputs": [],
   "source": [
    "# Topic: Decorators\n",
    "def log(func):\n",
    " def wrapper():\n",
    "  print('Call')\n",
    "  func()\n",
    " return wrapper\n",
    "@log\n",
    "def say(): print('Hi')\n",
    "say()"
   ]
  },
  {
   "cell_type": "code",
   "execution_count": null,
   "id": "815428af",
   "metadata": {},
   "outputs": [],
   "source": [
    "# Topic: Lists & Tuples\n",
    "lst = [1, 2, 3]\n",
    "lst.append(4)\n",
    "print(lst)"
   ]
  },
  {
   "cell_type": "code",
   "execution_count": null,
   "id": "aecd4cfe",
   "metadata": {},
   "outputs": [],
   "source": [
    "# Topic: JSON & CSV\n",
    "import json\n",
    "data = {'a': 1}\n",
    "print(json.dumps(data))"
   ]
  },
  {
   "cell_type": "code",
   "execution_count": null,
   "id": "6fe68e2f",
   "metadata": {},
   "outputs": [],
   "source": [
    "# Topic: Regex\n",
    "import re\n",
    "text = 'email: test@example.com'\n",
    "print(re.findall(r'\\S+@\\S+', text))"
   ]
  },
  {
   "cell_type": "code",
   "execution_count": null,
   "id": "180f9c2a",
   "metadata": {},
   "outputs": [],
   "source": [
    "# Topic: Data Cleaning\n",
    "import pandas as pd\n",
    "df = pd.DataFrame({'A':[1,None,3]})\n",
    "df = df.fillna(0)\n",
    "print(df)"
   ]
  },
  {
   "cell_type": "code",
   "execution_count": null,
   "id": "2de7923f",
   "metadata": {},
   "outputs": [],
   "source": [
    "# Topic: NumPy\n",
    "import numpy as np\n",
    "a = np.array([1, 2, 3])\n",
    "print(a + 5)"
   ]
  },
  {
   "cell_type": "code",
   "execution_count": null,
   "id": "0e6e86bd",
   "metadata": {},
   "outputs": [],
   "source": [
    "# Topic: Mini Projects\n",
    "# Calculator\n",
    "def calc(a,b,op): return eval(f'{a}{op}{b}')\n",
    "print(calc(5,2,'+'))"
   ]
  },
  {
   "cell_type": "code",
   "execution_count": null,
   "id": "9f9f0cfa",
   "metadata": {},
   "outputs": [],
   "source": [
    "# Topic: File I/O\n",
    "with open('test.txt', 'r') as f:\n",
    "    print(f.read())"
   ]
  },
  {
   "cell_type": "code",
   "execution_count": null,
   "id": "078b25c0",
   "metadata": {},
   "outputs": [],
   "source": [
    "# Topic: Matplotlib & Seaborn\n",
    "import matplotlib.pyplot as plt\n",
    "plt.plot([1,2],[3,4])\n",
    "plt.show()"
   ]
  },
  {
   "cell_type": "code",
   "execution_count": null,
   "id": "e6f24892",
   "metadata": {},
   "outputs": [],
   "source": [
    "# Topic: CLI Tools\n",
    "import sys\n",
    "print(f'Arguments: {sys.argv}')"
   ]
  },
  {
   "cell_type": "code",
   "execution_count": null,
   "id": "e9b8ba7c",
   "metadata": {},
   "outputs": [],
   "source": [
    "# Topic: Decorators\n",
    "def log(func):\n",
    " def wrapper():\n",
    "  print('Call')\n",
    "  func()\n",
    " return wrapper\n",
    "@log\n",
    "def say(): print('Hi')\n",
    "say()"
   ]
  },
  {
   "cell_type": "code",
   "execution_count": null,
   "id": "0c172f42",
   "metadata": {},
   "outputs": [],
   "source": [
    "# Topic: Lists & Tuples\n",
    "lst = [1, 2, 3]\n",
    "lst.append(4)\n",
    "print(lst)"
   ]
  },
  {
   "cell_type": "code",
   "execution_count": null,
   "id": "e870d7ee",
   "metadata": {},
   "outputs": [],
   "source": [
    "# Topic: Algorithms\n",
    "# Bubble sort\n",
    "def bubble(arr):\n",
    " for i in range(len(arr)):\n",
    "  for j in range(0, len(arr)-i-1):\n",
    "   if arr[j]>arr[j+1]: arr[j],arr[j+1]=arr[j+1],arr[j]\n",
    "a=[5,3,8]\n",
    "bubble(a)\n",
    "print(a)"
   ]
  },
  {
   "cell_type": "code",
   "execution_count": null,
   "id": "12a7f367",
   "metadata": {},
   "outputs": [],
   "source": [
    "# Topic: Lists & Tuples\n",
    "lst = [1, 2, 3]\n",
    "lst.append(4)\n",
    "print(lst)"
   ]
  },
  {
   "cell_type": "code",
   "execution_count": null,
   "id": "40356395",
   "metadata": {},
   "outputs": [],
   "source": [
    "# Topic: NumPy\n",
    "import numpy as np\n",
    "print(np.linspace(0, 1, 5))"
   ]
  },
  {
   "cell_type": "code",
   "execution_count": null,
   "id": "6d68f7a0",
   "metadata": {},
   "outputs": [],
   "source": [
    "# Topic: Loops\n",
    "for i in range(10): print(i*i)"
   ]
  },
  {
   "cell_type": "code",
   "execution_count": null,
   "id": "91bf6376",
   "metadata": {},
   "outputs": [],
   "source": [
    "# Topic: Recursion\n",
    "def fact(n): return 1 if n==0 else n*fact(n-1)\n",
    "print(fact(5))"
   ]
  },
  {
   "cell_type": "code",
   "execution_count": null,
   "id": "46589590",
   "metadata": {},
   "outputs": [],
   "source": [
    "# Topic: Pandas\n",
    "import pandas as pd\n",
    "df = pd.DataFrame({'A':[1,2],'B':[3,4]})\n",
    "print(df)"
   ]
  },
  {
   "cell_type": "code",
   "execution_count": null,
   "id": "1c61a3ad",
   "metadata": {},
   "outputs": [],
   "source": [
    "# Topic: Basic ML\n",
    "from sklearn.linear_model import LinearRegression\n",
    "model = LinearRegression()\n",
    "print(model)"
   ]
  },
  {
   "cell_type": "code",
   "execution_count": null,
   "id": "85faae03",
   "metadata": {},
   "outputs": [],
   "source": [
    "# Topic: Algorithms\n",
    "# Bubble sort\n",
    "def bubble(arr):\n",
    " for i in range(len(arr)):\n",
    "  for j in range(0, len(arr)-i-1):\n",
    "   if arr[j]>arr[j+1]: arr[j],arr[j+1]=arr[j+1],arr[j]\n",
    "a=[5,3,8]\n",
    "bubble(a)\n",
    "print(a)"
   ]
  },
  {
   "cell_type": "code",
   "execution_count": null,
   "id": "ae1a1b94",
   "metadata": {},
   "outputs": [],
   "source": [
    "# Topic: Functions\n",
    "def square(x): return x*x\n",
    "print(square(5))"
   ]
  },
  {
   "cell_type": "code",
   "execution_count": null,
   "id": "80b22d48",
   "metadata": {},
   "outputs": [],
   "source": [
    "# Topic: Pandas\n",
    "import pandas as pd\n",
    "df = pd.read_csv('file.csv')\n",
    "print(df.head())"
   ]
  },
  {
   "cell_type": "code",
   "execution_count": null,
   "id": "029fec99",
   "metadata": {},
   "outputs": [],
   "source": [
    "# Topic: Basic ML\n",
    "from sklearn.linear_model import LinearRegression\n",
    "model = LinearRegression()\n",
    "print(model)"
   ]
  },
  {
   "cell_type": "code",
   "execution_count": null,
   "id": "0634288e",
   "metadata": {},
   "outputs": [],
   "source": [
    "# Topic: Basics\n",
    "x = 10\n",
    "y = 20\n",
    "print(x + y)"
   ]
  },
  {
   "cell_type": "code",
   "execution_count": null,
   "id": "83ef3db4",
   "metadata": {},
   "outputs": [],
   "source": [
    "# Topic: Algorithms\n",
    "# Bubble sort\n",
    "def bubble(arr):\n",
    " for i in range(len(arr)):\n",
    "  for j in range(0, len(arr)-i-1):\n",
    "   if arr[j]>arr[j+1]: arr[j],arr[j+1]=arr[j+1],arr[j]\n",
    "a=[5,3,8]\n",
    "bubble(a)\n",
    "print(a)"
   ]
  },
  {
   "cell_type": "code",
   "execution_count": null,
   "id": "66d23ad4",
   "metadata": {},
   "outputs": [],
   "source": [
    "# Topic: Decorators\n",
    "def log(func):\n",
    " def wrapper():\n",
    "  print('Call')\n",
    "  func()\n",
    " return wrapper\n",
    "@log\n",
    "def say(): print('Hi')\n",
    "say()"
   ]
  },
  {
   "cell_type": "code",
   "execution_count": null,
   "id": "62897a70",
   "metadata": {},
   "outputs": [],
   "source": [
    "# Topic: Data Cleaning\n",
    "import pandas as pd\n",
    "df = pd.DataFrame({'A':[1,None,3]})\n",
    "df = df.fillna(0)\n",
    "print(df)"
   ]
  },
  {
   "cell_type": "code",
   "execution_count": null,
   "id": "3e5e9ee5",
   "metadata": {},
   "outputs": [],
   "source": [
    "# Topic: Matplotlib & Seaborn\n",
    "import seaborn as sns\n",
    "import pandas as pd\n",
    "sns.set()\n",
    "sns.histplot(pd.Series([1,2,2,3]));"
   ]
  },
  {
   "cell_type": "code",
   "execution_count": null,
   "id": "f7a6578d",
   "metadata": {},
   "outputs": [],
   "source": [
    "# Topic: Algorithms\n",
    "# Bubble sort\n",
    "def bubble(arr):\n",
    " for i in range(len(arr)):\n",
    "  for j in range(0, len(arr)-i-1):\n",
    "   if arr[j]>arr[j+1]: arr[j],arr[j+1]=arr[j+1],arr[j]\n",
    "a=[5,3,8]\n",
    "bubble(a)\n",
    "print(a)"
   ]
  },
  {
   "cell_type": "code",
   "execution_count": null,
   "id": "0a039dd8",
   "metadata": {},
   "outputs": [],
   "source": [
    "# Topic: Lists & Tuples\n",
    "t = (1, 2, 3)\n",
    "print(t[0])"
   ]
  },
  {
   "cell_type": "code",
   "execution_count": null,
   "id": "52a0e767",
   "metadata": {},
   "outputs": [],
   "source": [
    "# Topic: Lists & Tuples\n",
    "t = (1, 2, 3)\n",
    "print(t[0])"
   ]
  },
  {
   "cell_type": "code",
   "execution_count": null,
   "id": "e889f9a3",
   "metadata": {},
   "outputs": [],
   "source": [
    "# Topic: OOP\n",
    "class Student:\n",
    "    def __init__(self, name): self.name = name\n",
    "s = Student('Fahd')\n",
    "print(s.name)"
   ]
  },
  {
   "cell_type": "code",
   "execution_count": null,
   "id": "0685d1db",
   "metadata": {},
   "outputs": [],
   "source": [
    "# Topic: Decorators\n",
    "def log(func):\n",
    " def wrapper():\n",
    "  print('Call')\n",
    "  func()\n",
    " return wrapper\n",
    "@log\n",
    "def say(): print('Hi')\n",
    "say()"
   ]
  },
  {
   "cell_type": "code",
   "execution_count": null,
   "id": "12e9fc17",
   "metadata": {},
   "outputs": [],
   "source": [
    "# Topic: Functions\n",
    "def greet(name='User'):\n",
    "    print(f'Hi, {name}')\n",
    "greet()"
   ]
  },
  {
   "cell_type": "code",
   "execution_count": null,
   "id": "2633c24e",
   "metadata": {},
   "outputs": [],
   "source": [
    "# Topic: Matplotlib & Seaborn\n",
    "import matplotlib.pyplot as plt\n",
    "plt.plot([1,2],[3,4])\n",
    "plt.show()"
   ]
  },
  {
   "cell_type": "code",
   "execution_count": null,
   "id": "9795959e",
   "metadata": {},
   "outputs": [],
   "source": [
    "# Topic: Decorators\n",
    "def log(func):\n",
    " def wrapper():\n",
    "  print('Call')\n",
    "  func()\n",
    " return wrapper\n",
    "@log\n",
    "def say(): print('Hi')\n",
    "say()"
   ]
  },
  {
   "cell_type": "code",
   "execution_count": null,
   "id": "76b3ec9a",
   "metadata": {},
   "outputs": [],
   "source": [
    "# Topic: Pandas\n",
    "import pandas as pd\n",
    "df = pd.read_csv('file.csv')\n",
    "print(df.head())"
   ]
  },
  {
   "cell_type": "code",
   "execution_count": null,
   "id": "78925443",
   "metadata": {},
   "outputs": [],
   "source": [
    "# Topic: Matplotlib & Seaborn\n",
    "import seaborn as sns\n",
    "import pandas as pd\n",
    "sns.set()\n",
    "sns.histplot(pd.Series([1,2,2,3]));"
   ]
  },
  {
   "cell_type": "code",
   "execution_count": null,
   "id": "31f59c96",
   "metadata": {},
   "outputs": [],
   "source": [
    "# Topic: Basics\n",
    "x = 10\n",
    "y = 20\n",
    "print(x + y)"
   ]
  },
  {
   "cell_type": "code",
   "execution_count": null,
   "id": "d5706b39",
   "metadata": {},
   "outputs": [],
   "source": [
    "# Topic: NumPy\n",
    "import numpy as np\n",
    "a = np.array([1, 2, 3])\n",
    "print(a + 5)"
   ]
  },
  {
   "cell_type": "code",
   "execution_count": null,
   "id": "189f801b",
   "metadata": {},
   "outputs": [],
   "source": [
    "# Topic: JSON & CSV\n",
    "import csv\n",
    "with open('file.csv', 'w', newline='') as f:\n",
    " csv.writer(f).writerow(['a','b','c'])"
   ]
  },
  {
   "cell_type": "code",
   "execution_count": null,
   "id": "34cb807c",
   "metadata": {},
   "outputs": [],
   "source": [
    "# Topic: Basics\n",
    "x = 10\n",
    "y = 20\n",
    "print(x + y)"
   ]
  },
  {
   "cell_type": "code",
   "execution_count": null,
   "id": "b5d6dee6",
   "metadata": {},
   "outputs": [],
   "source": [
    "# Topic: Dictionaries & Sets\n",
    "s = set([1, 2, 3, 2])\n",
    "print(s)"
   ]
  },
  {
   "cell_type": "code",
   "execution_count": null,
   "id": "97bb55f4",
   "metadata": {},
   "outputs": [],
   "source": [
    "# Topic: File I/O\n",
    "with open('test.txt', 'w') as f:\n",
    "    f.write('Hello World')"
   ]
  },
  {
   "cell_type": "code",
   "execution_count": null,
   "id": "94b56405",
   "metadata": {},
   "outputs": [],
   "source": [
    "# Topic: JSON & CSV\n",
    "import json\n",
    "data = {'a': 1}\n",
    "print(json.dumps(data))"
   ]
  },
  {
   "cell_type": "code",
   "execution_count": null,
   "id": "ea1aa935",
   "metadata": {},
   "outputs": [],
   "source": [
    "# Topic: Dictionaries & Sets\n",
    "d = {'name': 'Fahd', 'age': 20}\n",
    "print(d.get('name'))"
   ]
  },
  {
   "cell_type": "code",
   "execution_count": null,
   "id": "93427447",
   "metadata": {},
   "outputs": [],
   "source": [
    "# Topic: Algorithms\n",
    "# Bubble sort\n",
    "def bubble(arr):\n",
    " for i in range(len(arr)):\n",
    "  for j in range(0, len(arr)-i-1):\n",
    "   if arr[j]>arr[j+1]: arr[j],arr[j+1]=arr[j+1],arr[j]\n",
    "a=[5,3,8]\n",
    "bubble(a)\n",
    "print(a)"
   ]
  },
  {
   "cell_type": "code",
   "execution_count": null,
   "id": "94bc008e",
   "metadata": {},
   "outputs": [],
   "source": [
    "# Topic: CLI Tools\n",
    "import sys\n",
    "print(f'Arguments: {sys.argv}')"
   ]
  },
  {
   "cell_type": "code",
   "execution_count": null,
   "id": "6844e95e",
   "metadata": {},
   "outputs": [],
   "source": [
    "# Topic: File I/O\n",
    "with open('test.txt', 'w') as f:\n",
    "    f.write('Hello World')"
   ]
  },
  {
   "cell_type": "code",
   "execution_count": null,
   "id": "b23800dd",
   "metadata": {},
   "outputs": [],
   "source": [
    "# Topic: Basics\n",
    "x = 10\n",
    "y = 20\n",
    "print(x + y)"
   ]
  },
  {
   "cell_type": "code",
   "execution_count": null,
   "id": "9e2deb3c",
   "metadata": {},
   "outputs": [],
   "source": [
    "# Topic: Basic ML\n",
    "from sklearn.linear_model import LinearRegression\n",
    "model = LinearRegression()\n",
    "print(model)"
   ]
  },
  {
   "cell_type": "code",
   "execution_count": null,
   "id": "f224fa7e",
   "metadata": {},
   "outputs": [],
   "source": [
    "# Topic: Recursion\n",
    "def fact(n): return 1 if n==0 else n*fact(n-1)\n",
    "print(fact(5))"
   ]
  },
  {
   "cell_type": "code",
   "execution_count": null,
   "id": "78323443",
   "metadata": {},
   "outputs": [],
   "source": [
    "# Topic: Recursion\n",
    "def fact(n): return 1 if n==0 else n*fact(n-1)\n",
    "print(fact(5))"
   ]
  },
  {
   "cell_type": "code",
   "execution_count": null,
   "id": "95e15451",
   "metadata": {},
   "outputs": [],
   "source": [
    "# Topic: JSON & CSV\n",
    "import csv\n",
    "with open('file.csv', 'w', newline='') as f:\n",
    " csv.writer(f).writerow(['a','b','c'])"
   ]
  },
  {
   "cell_type": "code",
   "execution_count": null,
   "id": "c246bab9",
   "metadata": {},
   "outputs": [],
   "source": [
    "# Topic: Lists & Tuples\n",
    "t = (1, 2, 3)\n",
    "print(t[0])"
   ]
  },
  {
   "cell_type": "code",
   "execution_count": null,
   "id": "64cf74c1",
   "metadata": {},
   "outputs": [],
   "source": [
    "# Topic: Decorators\n",
    "def log(func):\n",
    " def wrapper():\n",
    "  print('Call')\n",
    "  func()\n",
    " return wrapper\n",
    "@log\n",
    "def say(): print('Hi')\n",
    "say()"
   ]
  },
  {
   "cell_type": "code",
   "execution_count": null,
   "id": "d949bc2f",
   "metadata": {},
   "outputs": [],
   "source": [
    "# Topic: Dictionaries & Sets\n",
    "d = {'name': 'Fahd', 'age': 20}\n",
    "print(d.get('name'))"
   ]
  },
  {
   "cell_type": "code",
   "execution_count": null,
   "id": "6ab7f024",
   "metadata": {},
   "outputs": [],
   "source": [
    "# Topic: CLI Tools\n",
    "import sys\n",
    "print(f'Arguments: {sys.argv}')"
   ]
  },
  {
   "cell_type": "code",
   "execution_count": null,
   "id": "a7bc479d",
   "metadata": {},
   "outputs": [],
   "source": [
    "# Topic: Decorators\n",
    "def log(func):\n",
    " def wrapper():\n",
    "  print('Call')\n",
    "  func()\n",
    " return wrapper\n",
    "@log\n",
    "def say(): print('Hi')\n",
    "say()"
   ]
  },
  {
   "cell_type": "code",
   "execution_count": null,
   "id": "318709ee",
   "metadata": {},
   "outputs": [],
   "source": [
    "# Topic: Recursion\n",
    "def fact(n): return 1 if n==0 else n*fact(n-1)\n",
    "print(fact(5))"
   ]
  },
  {
   "cell_type": "code",
   "execution_count": null,
   "id": "c7dca283",
   "metadata": {},
   "outputs": [],
   "source": [
    "# Topic: JSON & CSV\n",
    "import csv\n",
    "with open('file.csv', 'w', newline='') as f:\n",
    " csv.writer(f).writerow(['a','b','c'])"
   ]
  },
  {
   "cell_type": "code",
   "execution_count": null,
   "id": "ef06bac5",
   "metadata": {},
   "outputs": [],
   "source": [
    "# Topic: Matplotlib & Seaborn\n",
    "import matplotlib.pyplot as plt\n",
    "plt.plot([1,2],[3,4])\n",
    "plt.show()"
   ]
  },
  {
   "cell_type": "code",
   "execution_count": null,
   "id": "554dda89",
   "metadata": {},
   "outputs": [],
   "source": [
    "# Topic: Decorators\n",
    "def log(func):\n",
    " def wrapper():\n",
    "  print('Call')\n",
    "  func()\n",
    " return wrapper\n",
    "@log\n",
    "def say(): print('Hi')\n",
    "say()"
   ]
  },
  {
   "cell_type": "code",
   "execution_count": null,
   "id": "7af40d8f",
   "metadata": {},
   "outputs": [],
   "source": [
    "# Topic: Data Cleaning\n",
    "import pandas as pd\n",
    "df = pd.DataFrame({'A':[1,None,3]})\n",
    "df = df.fillna(0)\n",
    "print(df)"
   ]
  },
  {
   "cell_type": "code",
   "execution_count": null,
   "id": "c377c667",
   "metadata": {},
   "outputs": [],
   "source": [
    "# Topic: Matplotlib & Seaborn\n",
    "import seaborn as sns\n",
    "import pandas as pd\n",
    "sns.set()\n",
    "sns.histplot(pd.Series([1,2,2,3]));"
   ]
  },
  {
   "cell_type": "code",
   "execution_count": null,
   "id": "3524fdfb",
   "metadata": {},
   "outputs": [],
   "source": [
    "# Topic: Mini Projects\n",
    "# Calculator\n",
    "def calc(a,b,op): return eval(f'{a}{op}{b}')\n",
    "print(calc(5,2,'+'))"
   ]
  },
  {
   "cell_type": "code",
   "execution_count": null,
   "id": "edf57c9c",
   "metadata": {},
   "outputs": [],
   "source": [
    "# Topic: Functions\n",
    "def greet(name='User'):\n",
    "    print(f'Hi, {name}')\n",
    "greet()"
   ]
  },
  {
   "cell_type": "code",
   "execution_count": null,
   "id": "cf1ebcce",
   "metadata": {},
   "outputs": [],
   "source": [
    "# Topic: Algorithms\n",
    "# Bubble sort\n",
    "def bubble(arr):\n",
    " for i in range(len(arr)):\n",
    "  for j in range(0, len(arr)-i-1):\n",
    "   if arr[j]>arr[j+1]: arr[j],arr[j+1]=arr[j+1],arr[j]\n",
    "a=[5,3,8]\n",
    "bubble(a)\n",
    "print(a)"
   ]
  },
  {
   "cell_type": "code",
   "execution_count": null,
   "id": "14af926e",
   "metadata": {},
   "outputs": [],
   "source": [
    "# Topic: NumPy\n",
    "import numpy as np\n",
    "print(np.linspace(0, 1, 5))"
   ]
  },
  {
   "cell_type": "code",
   "execution_count": null,
   "id": "5c74fe55",
   "metadata": {},
   "outputs": [],
   "source": [
    "# Topic: Pandas\n",
    "import pandas as pd\n",
    "df = pd.DataFrame({'A':[1,2],'B':[3,4]})\n",
    "print(df)"
   ]
  },
  {
   "cell_type": "code",
   "execution_count": null,
   "id": "5f9a21fb",
   "metadata": {},
   "outputs": [],
   "source": [
    "# Topic: Functions\n",
    "def square(x): return x*x\n",
    "print(square(5))"
   ]
  },
  {
   "cell_type": "code",
   "execution_count": null,
   "id": "cea66bbc",
   "metadata": {},
   "outputs": [],
   "source": [
    "# Topic: NumPy\n",
    "import numpy as np\n",
    "a = np.array([1, 2, 3])\n",
    "print(a + 5)"
   ]
  },
  {
   "cell_type": "code",
   "execution_count": null,
   "id": "bea27aa8",
   "metadata": {},
   "outputs": [],
   "source": [
    "# Topic: Lists & Tuples\n",
    "lst = [1, 2, 3]\n",
    "lst.append(4)\n",
    "print(lst)"
   ]
  },
  {
   "cell_type": "code",
   "execution_count": null,
   "id": "6997ecf1",
   "metadata": {},
   "outputs": [],
   "source": [
    "# Topic: Algorithms\n",
    "# Bubble sort\n",
    "def bubble(arr):\n",
    " for i in range(len(arr)):\n",
    "  for j in range(0, len(arr)-i-1):\n",
    "   if arr[j]>arr[j+1]: arr[j],arr[j+1]=arr[j+1],arr[j]\n",
    "a=[5,3,8]\n",
    "bubble(a)\n",
    "print(a)"
   ]
  },
  {
   "cell_type": "code",
   "execution_count": null,
   "id": "0918f7d5",
   "metadata": {},
   "outputs": [],
   "source": [
    "# Topic: Regex\n",
    "import re\n",
    "text = 'email: test@example.com'\n",
    "print(re.findall(r'\\S+@\\S+', text))"
   ]
  },
  {
   "cell_type": "code",
   "execution_count": null,
   "id": "0019c542",
   "metadata": {},
   "outputs": [],
   "source": [
    "# Topic: Recursion\n",
    "def fact(n): return 1 if n==0 else n*fact(n-1)\n",
    "print(fact(5))"
   ]
  },
  {
   "cell_type": "code",
   "execution_count": null,
   "id": "edbcad6b",
   "metadata": {},
   "outputs": [],
   "source": [
    "# Topic: Matplotlib & Seaborn\n",
    "import seaborn as sns\n",
    "import pandas as pd\n",
    "sns.set()\n",
    "sns.histplot(pd.Series([1,2,2,3]));"
   ]
  },
  {
   "cell_type": "code",
   "execution_count": null,
   "id": "d74d565c",
   "metadata": {},
   "outputs": [],
   "source": [
    "# Topic: JSON & CSV\n",
    "import csv\n",
    "with open('file.csv', 'w', newline='') as f:\n",
    " csv.writer(f).writerow(['a','b','c'])"
   ]
  },
  {
   "cell_type": "code",
   "execution_count": null,
   "id": "9e8fada0",
   "metadata": {},
   "outputs": [],
   "source": [
    "# Topic: Regex\n",
    "import re\n",
    "text = 'email: test@example.com'\n",
    "print(re.findall(r'\\S+@\\S+', text))"
   ]
  },
  {
   "cell_type": "code",
   "execution_count": null,
   "id": "e3068631",
   "metadata": {},
   "outputs": [],
   "source": [
    "# Topic: Pandas\n",
    "import pandas as pd\n",
    "df = pd.read_csv('file.csv')\n",
    "print(df.head())"
   ]
  },
  {
   "cell_type": "code",
   "execution_count": null,
   "id": "9f1fdcd5",
   "metadata": {},
   "outputs": [],
   "source": [
    "# Topic: Algorithms\n",
    "# Bubble sort\n",
    "def bubble(arr):\n",
    " for i in range(len(arr)):\n",
    "  for j in range(0, len(arr)-i-1):\n",
    "   if arr[j]>arr[j+1]: arr[j],arr[j+1]=arr[j+1],arr[j]\n",
    "a=[5,3,8]\n",
    "bubble(a)\n",
    "print(a)"
   ]
  },
  {
   "cell_type": "code",
   "execution_count": null,
   "id": "4c685826",
   "metadata": {},
   "outputs": [],
   "source": [
    "# Topic: Mini Projects\n",
    "# Palindrome check\n",
    "def is_pal(s): return s == s[::-1]\n",
    "print(is_pal('madam'))"
   ]
  },
  {
   "cell_type": "code",
   "execution_count": null,
   "id": "3b2e1abc",
   "metadata": {},
   "outputs": [],
   "source": [
    "# Topic: File I/O\n",
    "with open('test.txt', 'w') as f:\n",
    "    f.write('Hello World')"
   ]
  },
  {
   "cell_type": "code",
   "execution_count": null,
   "id": "2121731b",
   "metadata": {},
   "outputs": [],
   "source": [
    "# Topic: Regex\n",
    "import re\n",
    "text = 'email: test@example.com'\n",
    "print(re.findall(r'\\S+@\\S+', text))"
   ]
  },
  {
   "cell_type": "code",
   "execution_count": null,
   "id": "20a2aa89",
   "metadata": {},
   "outputs": [],
   "source": [
    "# Topic: CLI Tools\n",
    "import sys\n",
    "print(f'Arguments: {sys.argv}')"
   ]
  },
  {
   "cell_type": "code",
   "execution_count": null,
   "id": "82096882",
   "metadata": {},
   "outputs": [],
   "source": [
    "# Topic: File I/O\n",
    "with open('test.txt', 'w') as f:\n",
    "    f.write('Hello World')"
   ]
  },
  {
   "cell_type": "code",
   "execution_count": null,
   "id": "cb0c1ca2",
   "metadata": {},
   "outputs": [],
   "source": [
    "# Topic: File I/O\n",
    "with open('test.txt', 'w') as f:\n",
    "    f.write('Hello World')"
   ]
  },
  {
   "cell_type": "code",
   "execution_count": null,
   "id": "88262eb0",
   "metadata": {},
   "outputs": [],
   "source": [
    "# Topic: Pandas\n",
    "import pandas as pd\n",
    "df = pd.read_csv('file.csv')\n",
    "print(df.head())"
   ]
  },
  {
   "cell_type": "code",
   "execution_count": null,
   "id": "d8d8ab25",
   "metadata": {},
   "outputs": [],
   "source": [
    "# Topic: NumPy\n",
    "import numpy as np\n",
    "a = np.array([1, 2, 3])\n",
    "print(a + 5)"
   ]
  },
  {
   "cell_type": "code",
   "execution_count": null,
   "id": "b32fd2d2",
   "metadata": {},
   "outputs": [],
   "source": [
    "# Topic: Decorators\n",
    "def log(func):\n",
    " def wrapper():\n",
    "  print('Call')\n",
    "  func()\n",
    " return wrapper\n",
    "@log\n",
    "def say(): print('Hi')\n",
    "say()"
   ]
  },
  {
   "cell_type": "code",
   "execution_count": null,
   "id": "4f8c1512",
   "metadata": {},
   "outputs": [],
   "source": [
    "# Topic: Loops\n",
    "for i in range(10): print(i*i)"
   ]
  },
  {
   "cell_type": "code",
   "execution_count": null,
   "id": "00d36cea",
   "metadata": {},
   "outputs": [],
   "source": [
    "# Topic: JSON & CSV\n",
    "import csv\n",
    "with open('file.csv', 'w', newline='') as f:\n",
    " csv.writer(f).writerow(['a','b','c'])"
   ]
  },
  {
   "cell_type": "code",
   "execution_count": null,
   "id": "93ef5ae1",
   "metadata": {},
   "outputs": [],
   "source": [
    "# Topic: CLI Tools\n",
    "import sys\n",
    "print(f'Arguments: {sys.argv}')"
   ]
  },
  {
   "cell_type": "code",
   "execution_count": null,
   "id": "04f9f533",
   "metadata": {},
   "outputs": [],
   "source": [
    "# Topic: Algorithms\n",
    "# Bubble sort\n",
    "def bubble(arr):\n",
    " for i in range(len(arr)):\n",
    "  for j in range(0, len(arr)-i-1):\n",
    "   if arr[j]>arr[j+1]: arr[j],arr[j+1]=arr[j+1],arr[j]\n",
    "a=[5,3,8]\n",
    "bubble(a)\n",
    "print(a)"
   ]
  },
  {
   "cell_type": "code",
   "execution_count": null,
   "id": "0441f267",
   "metadata": {},
   "outputs": [],
   "source": [
    "# Topic: Basics\n",
    "name = 'Fahd'\n",
    "print(f'Hello, {name}')"
   ]
  },
  {
   "cell_type": "code",
   "execution_count": null,
   "id": "d78ec1ee",
   "metadata": {},
   "outputs": [],
   "source": [
    "# Topic: Recursion\n",
    "def fact(n): return 1 if n==0 else n*fact(n-1)\n",
    "print(fact(5))"
   ]
  },
  {
   "cell_type": "code",
   "execution_count": null,
   "id": "0922333e",
   "metadata": {},
   "outputs": [],
   "source": [
    "# Topic: Pandas\n",
    "import pandas as pd\n",
    "df = pd.read_csv('file.csv')\n",
    "print(df.head())"
   ]
  },
  {
   "cell_type": "code",
   "execution_count": null,
   "id": "d3d4d4d2",
   "metadata": {},
   "outputs": [],
   "source": [
    "# Topic: JSON & CSV\n",
    "import json\n",
    "data = {'a': 1}\n",
    "print(json.dumps(data))"
   ]
  },
  {
   "cell_type": "code",
   "execution_count": null,
   "id": "77d9d693",
   "metadata": {},
   "outputs": [],
   "source": [
    "# Topic: Pandas\n",
    "import pandas as pd\n",
    "df = pd.read_csv('file.csv')\n",
    "print(df.head())"
   ]
  },
  {
   "cell_type": "code",
   "execution_count": null,
   "id": "20ea52d7",
   "metadata": {},
   "outputs": [],
   "source": [
    "# Topic: Web Scraping\n",
    "import requests\n",
    "from bs4 import BeautifulSoup\n",
    "r = requests.get('https://example.com')\n",
    "soup = BeautifulSoup(r.text, 'html.parser')\n",
    "print(soup.title.text)"
   ]
  },
  {
   "cell_type": "code",
   "execution_count": null,
   "id": "02525470",
   "metadata": {},
   "outputs": [],
   "source": [
    "# Topic: Basic ML\n",
    "from sklearn.linear_model import LinearRegression\n",
    "model = LinearRegression()\n",
    "print(model)"
   ]
  },
  {
   "cell_type": "code",
   "execution_count": null,
   "id": "0507731b",
   "metadata": {},
   "outputs": [],
   "source": [
    "# Topic: Regex\n",
    "import re\n",
    "text = 'email: test@example.com'\n",
    "print(re.findall(r'\\S+@\\S+', text))"
   ]
  },
  {
   "cell_type": "code",
   "execution_count": null,
   "id": "29c1cac7",
   "metadata": {},
   "outputs": [],
   "source": [
    "# Topic: Recursion\n",
    "def fact(n): return 1 if n==0 else n*fact(n-1)\n",
    "print(fact(5))"
   ]
  },
  {
   "cell_type": "code",
   "execution_count": null,
   "id": "09edc8f4",
   "metadata": {},
   "outputs": [],
   "source": [
    "# Topic: CLI Tools\n",
    "import sys\n",
    "print(f'Arguments: {sys.argv}')"
   ]
  },
  {
   "cell_type": "code",
   "execution_count": null,
   "id": "999638cc",
   "metadata": {},
   "outputs": [],
   "source": [
    "# Topic: Decorators\n",
    "def log(func):\n",
    " def wrapper():\n",
    "  print('Call')\n",
    "  func()\n",
    " return wrapper\n",
    "@log\n",
    "def say(): print('Hi')\n",
    "say()"
   ]
  },
  {
   "cell_type": "code",
   "execution_count": null,
   "id": "af4d8ce2",
   "metadata": {},
   "outputs": [],
   "source": [
    "# Topic: Data Cleaning\n",
    "import pandas as pd\n",
    "df = pd.DataFrame({'A':[1,None,3]})\n",
    "df = df.fillna(0)\n",
    "print(df)"
   ]
  },
  {
   "cell_type": "code",
   "execution_count": null,
   "id": "ae47a39d",
   "metadata": {},
   "outputs": [],
   "source": [
    "# Topic: Regex\n",
    "import re\n",
    "text = 'email: test@example.com'\n",
    "print(re.findall(r'\\S+@\\S+', text))"
   ]
  },
  {
   "cell_type": "code",
   "execution_count": null,
   "id": "acf55af2",
   "metadata": {},
   "outputs": [],
   "source": [
    "# Topic: Functions\n",
    "def greet(name='User'):\n",
    "    print(f'Hi, {name}')\n",
    "greet()"
   ]
  },
  {
   "cell_type": "code",
   "execution_count": null,
   "id": "e89597fc",
   "metadata": {},
   "outputs": [],
   "source": [
    "# Topic: Recursion\n",
    "def fact(n): return 1 if n==0 else n*fact(n-1)\n",
    "print(fact(5))"
   ]
  },
  {
   "cell_type": "code",
   "execution_count": null,
   "id": "ecac5df5",
   "metadata": {},
   "outputs": [],
   "source": [
    "# Topic: CLI Tools\n",
    "import sys\n",
    "print(f'Arguments: {sys.argv}')"
   ]
  },
  {
   "cell_type": "code",
   "execution_count": null,
   "id": "8d55aefe",
   "metadata": {},
   "outputs": [],
   "source": [
    "# Topic: Basic ML\n",
    "from sklearn.linear_model import LinearRegression\n",
    "model = LinearRegression()\n",
    "print(model)"
   ]
  },
  {
   "cell_type": "code",
   "execution_count": null,
   "id": "2804f2c8",
   "metadata": {},
   "outputs": [],
   "source": [
    "# Topic: Data Cleaning\n",
    "import pandas as pd\n",
    "df = pd.DataFrame({'A':[1,None,3]})\n",
    "df = df.fillna(0)\n",
    "print(df)"
   ]
  },
  {
   "cell_type": "code",
   "execution_count": null,
   "id": "74411033",
   "metadata": {},
   "outputs": [],
   "source": [
    "# Topic: Dictionaries & Sets\n",
    "s = set([1, 2, 3, 2])\n",
    "print(s)"
   ]
  },
  {
   "cell_type": "code",
   "execution_count": null,
   "id": "fc4c2bde",
   "metadata": {},
   "outputs": [],
   "source": [
    "# Topic: CLI Tools\n",
    "import sys\n",
    "print(f'Arguments: {sys.argv}')"
   ]
  },
  {
   "cell_type": "code",
   "execution_count": null,
   "id": "80e30e51",
   "metadata": {},
   "outputs": [],
   "source": [
    "# Topic: Basics\n",
    "name = 'Fahd'\n",
    "print(f'Hello, {name}')"
   ]
  },
  {
   "cell_type": "code",
   "execution_count": null,
   "id": "ec6c9dc0",
   "metadata": {},
   "outputs": [],
   "source": [
    "# Topic: Data Cleaning\n",
    "import pandas as pd\n",
    "df = pd.DataFrame({'A':[1,None,3]})\n",
    "df = df.fillna(0)\n",
    "print(df)"
   ]
  },
  {
   "cell_type": "code",
   "execution_count": null,
   "id": "c022b775",
   "metadata": {},
   "outputs": [],
   "source": [
    "# Topic: Dictionaries & Sets\n",
    "s = set([1, 2, 3, 2])\n",
    "print(s)"
   ]
  },
  {
   "cell_type": "code",
   "execution_count": null,
   "id": "150e1ffa",
   "metadata": {},
   "outputs": [],
   "source": [
    "# Topic: Pandas\n",
    "import pandas as pd\n",
    "df = pd.DataFrame({'A':[1,2],'B':[3,4]})\n",
    "print(df)"
   ]
  },
  {
   "cell_type": "code",
   "execution_count": null,
   "id": "07de3e5b",
   "metadata": {},
   "outputs": [],
   "source": [
    "# Topic: File I/O\n",
    "with open('test.txt', 'r') as f:\n",
    "    print(f.read())"
   ]
  },
  {
   "cell_type": "code",
   "execution_count": null,
   "id": "8f8ed1e9",
   "metadata": {},
   "outputs": [],
   "source": [
    "# Topic: Decorators\n",
    "def log(func):\n",
    " def wrapper():\n",
    "  print('Call')\n",
    "  func()\n",
    " return wrapper\n",
    "@log\n",
    "def say(): print('Hi')\n",
    "say()"
   ]
  },
  {
   "cell_type": "code",
   "execution_count": null,
   "id": "fc30379c",
   "metadata": {},
   "outputs": [],
   "source": [
    "# Topic: Decorators\n",
    "def log(func):\n",
    " def wrapper():\n",
    "  print('Call')\n",
    "  func()\n",
    " return wrapper\n",
    "@log\n",
    "def say(): print('Hi')\n",
    "say()"
   ]
  },
  {
   "cell_type": "code",
   "execution_count": null,
   "id": "2cfa486b",
   "metadata": {},
   "outputs": [],
   "source": [
    "# Topic: Basics\n",
    "name = 'Fahd'\n",
    "print(f'Hello, {name}')"
   ]
  },
  {
   "cell_type": "code",
   "execution_count": null,
   "id": "5bd0f6b9",
   "metadata": {},
   "outputs": [],
   "source": [
    "# Topic: Dictionaries & Sets\n",
    "d = {'name': 'Fahd', 'age': 20}\n",
    "print(d.get('name'))"
   ]
  },
  {
   "cell_type": "code",
   "execution_count": null,
   "id": "8ee9cf60",
   "metadata": {},
   "outputs": [],
   "source": [
    "# Topic: Decorators\n",
    "def log(func):\n",
    " def wrapper():\n",
    "  print('Call')\n",
    "  func()\n",
    " return wrapper\n",
    "@log\n",
    "def say(): print('Hi')\n",
    "say()"
   ]
  },
  {
   "cell_type": "code",
   "execution_count": null,
   "id": "6c957f73",
   "metadata": {},
   "outputs": [],
   "source": [
    "# Topic: Pandas\n",
    "import pandas as pd\n",
    "df = pd.DataFrame({'A':[1,2],'B':[3,4]})\n",
    "print(df)"
   ]
  },
  {
   "cell_type": "code",
   "execution_count": null,
   "id": "ed8c93a9",
   "metadata": {},
   "outputs": [],
   "source": [
    "# Topic: Loops\n",
    "for i in range(10): print(i*i)"
   ]
  },
  {
   "cell_type": "code",
   "execution_count": null,
   "id": "56b4c8a5",
   "metadata": {},
   "outputs": [],
   "source": [
    "# Topic: Basics\n",
    "name = 'Fahd'\n",
    "print(f'Hello, {name}')"
   ]
  },
  {
   "cell_type": "code",
   "execution_count": null,
   "id": "7e7d5d4f",
   "metadata": {},
   "outputs": [],
   "source": [
    "# Topic: CLI Tools\n",
    "import sys\n",
    "print(f'Arguments: {sys.argv}')"
   ]
  },
  {
   "cell_type": "code",
   "execution_count": null,
   "id": "c3dd941b",
   "metadata": {},
   "outputs": [],
   "source": [
    "# Topic: Mini Projects\n",
    "# Calculator\n",
    "def calc(a,b,op): return eval(f'{a}{op}{b}')\n",
    "print(calc(5,2,'+'))"
   ]
  },
  {
   "cell_type": "code",
   "execution_count": null,
   "id": "624a2a86",
   "metadata": {},
   "outputs": [],
   "source": [
    "# Topic: Basics\n",
    "x = 10\n",
    "y = 20\n",
    "print(x + y)"
   ]
  },
  {
   "cell_type": "code",
   "execution_count": null,
   "id": "87b721c1",
   "metadata": {},
   "outputs": [],
   "source": [
    "# Topic: Matplotlib & Seaborn\n",
    "import seaborn as sns\n",
    "import pandas as pd\n",
    "sns.set()\n",
    "sns.histplot(pd.Series([1,2,2,3]));"
   ]
  },
  {
   "cell_type": "code",
   "execution_count": null,
   "id": "29bebbd1",
   "metadata": {},
   "outputs": [],
   "source": [
    "# Topic: Basic ML\n",
    "from sklearn.linear_model import LinearRegression\n",
    "model = LinearRegression()\n",
    "print(model)"
   ]
  },
  {
   "cell_type": "code",
   "execution_count": null,
   "id": "6d445455",
   "metadata": {},
   "outputs": [],
   "source": [
    "# Topic: Regex\n",
    "import re\n",
    "text = 'email: test@example.com'\n",
    "print(re.findall(r'\\S+@\\S+', text))"
   ]
  },
  {
   "cell_type": "code",
   "execution_count": null,
   "id": "8a79d8f7",
   "metadata": {},
   "outputs": [],
   "source": [
    "# Topic: Lists & Tuples\n",
    "t = (1, 2, 3)\n",
    "print(t[0])"
   ]
  },
  {
   "cell_type": "code",
   "execution_count": null,
   "id": "ffa2f7ef",
   "metadata": {},
   "outputs": [],
   "source": [
    "# Topic: Pandas\n",
    "import pandas as pd\n",
    "df = pd.DataFrame({'A':[1,2],'B':[3,4]})\n",
    "print(df)"
   ]
  },
  {
   "cell_type": "code",
   "execution_count": null,
   "id": "4ded5820",
   "metadata": {},
   "outputs": [],
   "source": [
    "# Topic: JSON & CSV\n",
    "import json\n",
    "data = {'a': 1}\n",
    "print(json.dumps(data))"
   ]
  },
  {
   "cell_type": "code",
   "execution_count": null,
   "id": "0747aa08",
   "metadata": {},
   "outputs": [],
   "source": [
    "# Topic: OOP\n",
    "class Student:\n",
    "    def __init__(self, name): self.name = name\n",
    "s = Student('Fahd')\n",
    "print(s.name)"
   ]
  },
  {
   "cell_type": "code",
   "execution_count": null,
   "id": "5d502173",
   "metadata": {},
   "outputs": [],
   "source": [
    "# Topic: CLI Tools\n",
    "import sys\n",
    "print(f'Arguments: {sys.argv}')"
   ]
  },
  {
   "cell_type": "code",
   "execution_count": null,
   "id": "037ce85a",
   "metadata": {},
   "outputs": [],
   "source": [
    "# Topic: JSON & CSV\n",
    "import json\n",
    "data = {'a': 1}\n",
    "print(json.dumps(data))"
   ]
  },
  {
   "cell_type": "code",
   "execution_count": null,
   "id": "00cda05d",
   "metadata": {},
   "outputs": [],
   "source": [
    "# Topic: Lists & Tuples\n",
    "t = (1, 2, 3)\n",
    "print(t[0])"
   ]
  },
  {
   "cell_type": "code",
   "execution_count": null,
   "id": "429bd3d3",
   "metadata": {},
   "outputs": [],
   "source": [
    "# Topic: Web Scraping\n",
    "import requests\n",
    "from bs4 import BeautifulSoup\n",
    "r = requests.get('https://example.com')\n",
    "soup = BeautifulSoup(r.text, 'html.parser')\n",
    "print(soup.title.text)"
   ]
  },
  {
   "cell_type": "code",
   "execution_count": null,
   "id": "480a142c",
   "metadata": {},
   "outputs": [],
   "source": [
    "# Topic: Dictionaries & Sets\n",
    "d = {'name': 'Fahd', 'age': 20}\n",
    "print(d.get('name'))"
   ]
  },
  {
   "cell_type": "code",
   "execution_count": null,
   "id": "1cf13619",
   "metadata": {},
   "outputs": [],
   "source": [
    "# Topic: Decorators\n",
    "def log(func):\n",
    " def wrapper():\n",
    "  print('Call')\n",
    "  func()\n",
    " return wrapper\n",
    "@log\n",
    "def say(): print('Hi')\n",
    "say()"
   ]
  },
  {
   "cell_type": "code",
   "execution_count": null,
   "id": "68230589",
   "metadata": {},
   "outputs": [],
   "source": [
    "# Topic: JSON & CSV\n",
    "import csv\n",
    "with open('file.csv', 'w', newline='') as f:\n",
    " csv.writer(f).writerow(['a','b','c'])"
   ]
  },
  {
   "cell_type": "code",
   "execution_count": null,
   "id": "63918703",
   "metadata": {},
   "outputs": [],
   "source": [
    "# Topic: OOP\n",
    "class Student:\n",
    "    def __init__(self, name): self.name = name\n",
    "s = Student('Fahd')\n",
    "print(s.name)"
   ]
  },
  {
   "cell_type": "code",
   "execution_count": null,
   "id": "cd8b3eb0",
   "metadata": {},
   "outputs": [],
   "source": [
    "# Topic: NumPy\n",
    "import numpy as np\n",
    "print(np.linspace(0, 1, 5))"
   ]
  },
  {
   "cell_type": "code",
   "execution_count": null,
   "id": "4d9b2bc6",
   "metadata": {},
   "outputs": [],
   "source": [
    "# Topic: JSON & CSV\n",
    "import json\n",
    "data = {'a': 1}\n",
    "print(json.dumps(data))"
   ]
  },
  {
   "cell_type": "code",
   "execution_count": null,
   "id": "efd39acc",
   "metadata": {},
   "outputs": [],
   "source": [
    "# Topic: Mini Projects\n",
    "# Palindrome check\n",
    "def is_pal(s): return s == s[::-1]\n",
    "print(is_pal('madam'))"
   ]
  },
  {
   "cell_type": "code",
   "execution_count": null,
   "id": "a924d891",
   "metadata": {},
   "outputs": [],
   "source": [
    "# Topic: Algorithms\n",
    "# Bubble sort\n",
    "def bubble(arr):\n",
    " for i in range(len(arr)):\n",
    "  for j in range(0, len(arr)-i-1):\n",
    "   if arr[j]>arr[j+1]: arr[j],arr[j+1]=arr[j+1],arr[j]\n",
    "a=[5,3,8]\n",
    "bubble(a)\n",
    "print(a)"
   ]
  },
  {
   "cell_type": "code",
   "execution_count": null,
   "id": "7db38d4e",
   "metadata": {},
   "outputs": [],
   "source": [
    "# Topic: Dictionaries & Sets\n",
    "s = set([1, 2, 3, 2])\n",
    "print(s)"
   ]
  },
  {
   "cell_type": "code",
   "execution_count": null,
   "id": "1c747037",
   "metadata": {},
   "outputs": [],
   "source": [
    "# Topic: Mini Projects\n",
    "# Calculator\n",
    "def calc(a,b,op): return eval(f'{a}{op}{b}')\n",
    "print(calc(5,2,'+'))"
   ]
  },
  {
   "cell_type": "code",
   "execution_count": null,
   "id": "c4dd0b79",
   "metadata": {},
   "outputs": [],
   "source": [
    "# Topic: Recursion\n",
    "def fact(n): return 1 if n==0 else n*fact(n-1)\n",
    "print(fact(5))"
   ]
  },
  {
   "cell_type": "code",
   "execution_count": null,
   "id": "a4bd39ec",
   "metadata": {},
   "outputs": [],
   "source": [
    "# Topic: OOP\n",
    "class Student:\n",
    "    def __init__(self, name): self.name = name\n",
    "s = Student('Fahd')\n",
    "print(s.name)"
   ]
  },
  {
   "cell_type": "code",
   "execution_count": null,
   "id": "3c40dc66",
   "metadata": {},
   "outputs": [],
   "source": [
    "# Topic: Data Cleaning\n",
    "import pandas as pd\n",
    "df = pd.DataFrame({'A':[1,None,3]})\n",
    "df = df.fillna(0)\n",
    "print(df)"
   ]
  },
  {
   "cell_type": "code",
   "execution_count": null,
   "id": "1b0ca8c3",
   "metadata": {},
   "outputs": [],
   "source": [
    "# Topic: Decorators\n",
    "def log(func):\n",
    " def wrapper():\n",
    "  print('Call')\n",
    "  func()\n",
    " return wrapper\n",
    "@log\n",
    "def say(): print('Hi')\n",
    "say()"
   ]
  },
  {
   "cell_type": "code",
   "execution_count": null,
   "id": "bf7a910a",
   "metadata": {},
   "outputs": [],
   "source": [
    "# Topic: Matplotlib & Seaborn\n",
    "import seaborn as sns\n",
    "import pandas as pd\n",
    "sns.set()\n",
    "sns.histplot(pd.Series([1,2,2,3]));"
   ]
  },
  {
   "cell_type": "code",
   "execution_count": null,
   "id": "22a262f2",
   "metadata": {},
   "outputs": [],
   "source": [
    "# Topic: Lists & Tuples\n",
    "t = (1, 2, 3)\n",
    "print(t[0])"
   ]
  },
  {
   "cell_type": "code",
   "execution_count": null,
   "id": "2233e8cb",
   "metadata": {},
   "outputs": [],
   "source": [
    "# Topic: Loops\n",
    "for i in range(10): print(i*i)"
   ]
  },
  {
   "cell_type": "code",
   "execution_count": null,
   "id": "f57b0106",
   "metadata": {},
   "outputs": [],
   "source": [
    "# Topic: NumPy\n",
    "import numpy as np\n",
    "a = np.array([1, 2, 3])\n",
    "print(a + 5)"
   ]
  },
  {
   "cell_type": "code",
   "execution_count": null,
   "id": "68a5d7c5",
   "metadata": {},
   "outputs": [],
   "source": [
    "# Topic: Dictionaries & Sets\n",
    "s = set([1, 2, 3, 2])\n",
    "print(s)"
   ]
  },
  {
   "cell_type": "code",
   "execution_count": null,
   "id": "825db699",
   "metadata": {},
   "outputs": [],
   "source": [
    "# Topic: Regex\n",
    "import re\n",
    "text = 'email: test@example.com'\n",
    "print(re.findall(r'\\S+@\\S+', text))"
   ]
  },
  {
   "cell_type": "code",
   "execution_count": null,
   "id": "7f132b23",
   "metadata": {},
   "outputs": [],
   "source": [
    "# Topic: NumPy\n",
    "import numpy as np\n",
    "a = np.array([1, 2, 3])\n",
    "print(a + 5)"
   ]
  },
  {
   "cell_type": "code",
   "execution_count": null,
   "id": "1898364f",
   "metadata": {},
   "outputs": [],
   "source": [
    "# Topic: JSON & CSV\n",
    "import json\n",
    "data = {'a': 1}\n",
    "print(json.dumps(data))"
   ]
  },
  {
   "cell_type": "code",
   "execution_count": null,
   "id": "9ffb888b",
   "metadata": {},
   "outputs": [],
   "source": [
    "# Topic: File I/O\n",
    "with open('test.txt', 'r') as f:\n",
    "    print(f.read())"
   ]
  },
  {
   "cell_type": "code",
   "execution_count": null,
   "id": "e1eaa2a0",
   "metadata": {},
   "outputs": [],
   "source": [
    "# Topic: Pandas\n",
    "import pandas as pd\n",
    "df = pd.DataFrame({'A':[1,2],'B':[3,4]})\n",
    "print(df)"
   ]
  },
  {
   "cell_type": "code",
   "execution_count": null,
   "id": "faaa45c2",
   "metadata": {},
   "outputs": [],
   "source": [
    "# Topic: Regex\n",
    "import re\n",
    "text = 'email: test@example.com'\n",
    "print(re.findall(r'\\S+@\\S+', text))"
   ]
  },
  {
   "cell_type": "code",
   "execution_count": null,
   "id": "83fdc5af",
   "metadata": {},
   "outputs": [],
   "source": [
    "# Topic: Mini Projects\n",
    "# Palindrome check\n",
    "def is_pal(s): return s == s[::-1]\n",
    "print(is_pal('madam'))"
   ]
  },
  {
   "cell_type": "code",
   "execution_count": null,
   "id": "40de67c3",
   "metadata": {},
   "outputs": [],
   "source": [
    "# Topic: Data Cleaning\n",
    "import pandas as pd\n",
    "df = pd.DataFrame({'A':[1,None,3]})\n",
    "df = df.fillna(0)\n",
    "print(df)"
   ]
  },
  {
   "cell_type": "code",
   "execution_count": null,
   "id": "d59a6860",
   "metadata": {},
   "outputs": [],
   "source": [
    "# Topic: Data Cleaning\n",
    "import pandas as pd\n",
    "df = pd.DataFrame({'A':[1,None,3]})\n",
    "df = df.fillna(0)\n",
    "print(df)"
   ]
  },
  {
   "cell_type": "code",
   "execution_count": null,
   "id": "d7eb1780",
   "metadata": {},
   "outputs": [],
   "source": [
    "# Topic: JSON & CSV\n",
    "import csv\n",
    "with open('file.csv', 'w', newline='') as f:\n",
    " csv.writer(f).writerow(['a','b','c'])"
   ]
  },
  {
   "cell_type": "code",
   "execution_count": null,
   "id": "b6461dcc",
   "metadata": {},
   "outputs": [],
   "source": [
    "# Topic: Matplotlib & Seaborn\n",
    "import matplotlib.pyplot as plt\n",
    "plt.plot([1,2],[3,4])\n",
    "plt.show()"
   ]
  },
  {
   "cell_type": "code",
   "execution_count": null,
   "id": "ca9af225",
   "metadata": {},
   "outputs": [],
   "source": [
    "# Topic: Basic ML\n",
    "from sklearn.linear_model import LinearRegression\n",
    "model = LinearRegression()\n",
    "print(model)"
   ]
  },
  {
   "cell_type": "code",
   "execution_count": null,
   "id": "a58cd428",
   "metadata": {},
   "outputs": [],
   "source": [
    "# Topic: Functions\n",
    "def square(x): return x*x\n",
    "print(square(5))"
   ]
  },
  {
   "cell_type": "code",
   "execution_count": null,
   "id": "a348e3b3",
   "metadata": {},
   "outputs": [],
   "source": [
    "# Topic: Pandas\n",
    "import pandas as pd\n",
    "df = pd.read_csv('file.csv')\n",
    "print(df.head())"
   ]
  },
  {
   "cell_type": "code",
   "execution_count": null,
   "id": "161e7f66",
   "metadata": {},
   "outputs": [],
   "source": [
    "# Topic: Recursion\n",
    "def fact(n): return 1 if n==0 else n*fact(n-1)\n",
    "print(fact(5))"
   ]
  },
  {
   "cell_type": "code",
   "execution_count": null,
   "id": "652cb75a",
   "metadata": {},
   "outputs": [],
   "source": [
    "# Topic: Data Cleaning\n",
    "import pandas as pd\n",
    "df = pd.DataFrame({'A':[1,None,3]})\n",
    "df = df.fillna(0)\n",
    "print(df)"
   ]
  },
  {
   "cell_type": "code",
   "execution_count": null,
   "id": "97a0af1e",
   "metadata": {},
   "outputs": [],
   "source": [
    "# Topic: CLI Tools\n",
    "import sys\n",
    "print(f'Arguments: {sys.argv}')"
   ]
  },
  {
   "cell_type": "code",
   "execution_count": null,
   "id": "db0cd235",
   "metadata": {},
   "outputs": [],
   "source": [
    "# Topic: Data Cleaning\n",
    "import pandas as pd\n",
    "df = pd.DataFrame({'A':[1,None,3]})\n",
    "df = df.fillna(0)\n",
    "print(df)"
   ]
  },
  {
   "cell_type": "code",
   "execution_count": null,
   "id": "3681d0ae",
   "metadata": {},
   "outputs": [],
   "source": [
    "# Topic: Recursion\n",
    "def fact(n): return 1 if n==0 else n*fact(n-1)\n",
    "print(fact(5))"
   ]
  },
  {
   "cell_type": "code",
   "execution_count": null,
   "id": "4b8410bf",
   "metadata": {},
   "outputs": [],
   "source": [
    "# Topic: Recursion\n",
    "def fact(n): return 1 if n==0 else n*fact(n-1)\n",
    "print(fact(5))"
   ]
  },
  {
   "cell_type": "code",
   "execution_count": null,
   "id": "7f9e543b",
   "metadata": {},
   "outputs": [],
   "source": [
    "# Topic: Decorators\n",
    "def log(func):\n",
    " def wrapper():\n",
    "  print('Call')\n",
    "  func()\n",
    " return wrapper\n",
    "@log\n",
    "def say(): print('Hi')\n",
    "say()"
   ]
  },
  {
   "cell_type": "code",
   "execution_count": null,
   "id": "396d41a8",
   "metadata": {},
   "outputs": [],
   "source": [
    "# Topic: Decorators\n",
    "def log(func):\n",
    " def wrapper():\n",
    "  print('Call')\n",
    "  func()\n",
    " return wrapper\n",
    "@log\n",
    "def say(): print('Hi')\n",
    "say()"
   ]
  },
  {
   "cell_type": "code",
   "execution_count": null,
   "id": "0309ff0a",
   "metadata": {},
   "outputs": [],
   "source": [
    "# Topic: Web Scraping\n",
    "import requests\n",
    "from bs4 import BeautifulSoup\n",
    "r = requests.get('https://example.com')\n",
    "soup = BeautifulSoup(r.text, 'html.parser')\n",
    "print(soup.title.text)"
   ]
  },
  {
   "cell_type": "code",
   "execution_count": null,
   "id": "c839371e",
   "metadata": {},
   "outputs": [],
   "source": [
    "# Topic: Basic ML\n",
    "from sklearn.linear_model import LinearRegression\n",
    "model = LinearRegression()\n",
    "print(model)"
   ]
  },
  {
   "cell_type": "code",
   "execution_count": null,
   "id": "f2a4fb4f",
   "metadata": {},
   "outputs": [],
   "source": [
    "# Topic: OOP\n",
    "class Student:\n",
    "    def __init__(self, name): self.name = name\n",
    "s = Student('Fahd')\n",
    "print(s.name)"
   ]
  },
  {
   "cell_type": "code",
   "execution_count": null,
   "id": "f11608bc",
   "metadata": {},
   "outputs": [],
   "source": [
    "# Topic: Dictionaries & Sets\n",
    "s = set([1, 2, 3, 2])\n",
    "print(s)"
   ]
  },
  {
   "cell_type": "code",
   "execution_count": null,
   "id": "751007d8",
   "metadata": {},
   "outputs": [],
   "source": [
    "# Topic: Regex\n",
    "import re\n",
    "text = 'email: test@example.com'\n",
    "print(re.findall(r'\\S+@\\S+', text))"
   ]
  },
  {
   "cell_type": "code",
   "execution_count": null,
   "id": "8e75ccb2",
   "metadata": {},
   "outputs": [],
   "source": [
    "# Topic: Regex\n",
    "import re\n",
    "text = 'email: test@example.com'\n",
    "print(re.findall(r'\\S+@\\S+', text))"
   ]
  },
  {
   "cell_type": "code",
   "execution_count": null,
   "id": "4108c056",
   "metadata": {},
   "outputs": [],
   "source": [
    "# Topic: Algorithms\n",
    "# Bubble sort\n",
    "def bubble(arr):\n",
    " for i in range(len(arr)):\n",
    "  for j in range(0, len(arr)-i-1):\n",
    "   if arr[j]>arr[j+1]: arr[j],arr[j+1]=arr[j+1],arr[j]\n",
    "a=[5,3,8]\n",
    "bubble(a)\n",
    "print(a)"
   ]
  },
  {
   "cell_type": "code",
   "execution_count": null,
   "id": "45466214",
   "metadata": {},
   "outputs": [],
   "source": [
    "# Topic: Functions\n",
    "def greet(name='User'):\n",
    "    print(f'Hi, {name}')\n",
    "greet()"
   ]
  },
  {
   "cell_type": "code",
   "execution_count": null,
   "id": "ff34575d",
   "metadata": {},
   "outputs": [],
   "source": [
    "# Topic: Lists & Tuples\n",
    "lst = [1, 2, 3]\n",
    "lst.append(4)\n",
    "print(lst)"
   ]
  },
  {
   "cell_type": "code",
   "execution_count": null,
   "id": "8c5eb3bb",
   "metadata": {},
   "outputs": [],
   "source": [
    "# Topic: NumPy\n",
    "import numpy as np\n",
    "print(np.linspace(0, 1, 5))"
   ]
  },
  {
   "cell_type": "code",
   "execution_count": null,
   "id": "088537ce",
   "metadata": {},
   "outputs": [],
   "source": [
    "# Topic: NumPy\n",
    "import numpy as np\n",
    "print(np.linspace(0, 1, 5))"
   ]
  },
  {
   "cell_type": "code",
   "execution_count": null,
   "id": "4ed999a5",
   "metadata": {},
   "outputs": [],
   "source": [
    "# Topic: Regex\n",
    "import re\n",
    "text = 'email: test@example.com'\n",
    "print(re.findall(r'\\S+@\\S+', text))"
   ]
  },
  {
   "cell_type": "code",
   "execution_count": null,
   "id": "df77229e",
   "metadata": {},
   "outputs": [],
   "source": [
    "# Topic: File I/O\n",
    "with open('test.txt', 'w') as f:\n",
    "    f.write('Hello World')"
   ]
  },
  {
   "cell_type": "code",
   "execution_count": null,
   "id": "01167e1b",
   "metadata": {},
   "outputs": [],
   "source": [
    "# Topic: Recursion\n",
    "def fact(n): return 1 if n==0 else n*fact(n-1)\n",
    "print(fact(5))"
   ]
  },
  {
   "cell_type": "code",
   "execution_count": null,
   "id": "3a5ae159",
   "metadata": {},
   "outputs": [],
   "source": [
    "# Topic: Recursion\n",
    "def fact(n): return 1 if n==0 else n*fact(n-1)\n",
    "print(fact(5))"
   ]
  },
  {
   "cell_type": "code",
   "execution_count": null,
   "id": "2644b9ed",
   "metadata": {},
   "outputs": [],
   "source": [
    "# Topic: Algorithms\n",
    "# Bubble sort\n",
    "def bubble(arr):\n",
    " for i in range(len(arr)):\n",
    "  for j in range(0, len(arr)-i-1):\n",
    "   if arr[j]>arr[j+1]: arr[j],arr[j+1]=arr[j+1],arr[j]\n",
    "a=[5,3,8]\n",
    "bubble(a)\n",
    "print(a)"
   ]
  },
  {
   "cell_type": "code",
   "execution_count": null,
   "id": "351b3096",
   "metadata": {},
   "outputs": [],
   "source": [
    "# Topic: Functions\n",
    "def greet(name='User'):\n",
    "    print(f'Hi, {name}')\n",
    "greet()"
   ]
  },
  {
   "cell_type": "code",
   "execution_count": null,
   "id": "e72ab755",
   "metadata": {},
   "outputs": [],
   "source": [
    "# Topic: NumPy\n",
    "import numpy as np\n",
    "print(np.linspace(0, 1, 5))"
   ]
  },
  {
   "cell_type": "code",
   "execution_count": null,
   "id": "50816332",
   "metadata": {},
   "outputs": [],
   "source": [
    "# Topic: Regex\n",
    "import re\n",
    "text = 'email: test@example.com'\n",
    "print(re.findall(r'\\S+@\\S+', text))"
   ]
  },
  {
   "cell_type": "code",
   "execution_count": null,
   "id": "7645caf3",
   "metadata": {},
   "outputs": [],
   "source": [
    "# Topic: Algorithms\n",
    "# Bubble sort\n",
    "def bubble(arr):\n",
    " for i in range(len(arr)):\n",
    "  for j in range(0, len(arr)-i-1):\n",
    "   if arr[j]>arr[j+1]: arr[j],arr[j+1]=arr[j+1],arr[j]\n",
    "a=[5,3,8]\n",
    "bubble(a)\n",
    "print(a)"
   ]
  },
  {
   "cell_type": "code",
   "execution_count": null,
   "id": "9a983e29",
   "metadata": {},
   "outputs": [],
   "source": [
    "# Topic: Matplotlib & Seaborn\n",
    "import matplotlib.pyplot as plt\n",
    "plt.plot([1,2],[3,4])\n",
    "plt.show()"
   ]
  },
  {
   "cell_type": "code",
   "execution_count": null,
   "id": "5a05e50a",
   "metadata": {},
   "outputs": [],
   "source": [
    "# Topic: Basic ML\n",
    "from sklearn.linear_model import LinearRegression\n",
    "model = LinearRegression()\n",
    "print(model)"
   ]
  },
  {
   "cell_type": "code",
   "execution_count": null,
   "id": "9a254494",
   "metadata": {},
   "outputs": [],
   "source": [
    "# Topic: Algorithms\n",
    "# Bubble sort\n",
    "def bubble(arr):\n",
    " for i in range(len(arr)):\n",
    "  for j in range(0, len(arr)-i-1):\n",
    "   if arr[j]>arr[j+1]: arr[j],arr[j+1]=arr[j+1],arr[j]\n",
    "a=[5,3,8]\n",
    "bubble(a)\n",
    "print(a)"
   ]
  },
  {
   "cell_type": "code",
   "execution_count": null,
   "id": "d0c5dda6",
   "metadata": {},
   "outputs": [],
   "source": [
    "# Topic: NumPy\n",
    "import numpy as np\n",
    "a = np.array([1, 2, 3])\n",
    "print(a + 5)"
   ]
  },
  {
   "cell_type": "code",
   "execution_count": null,
   "id": "ea108612",
   "metadata": {},
   "outputs": [],
   "source": [
    "# Topic: Algorithms\n",
    "# Bubble sort\n",
    "def bubble(arr):\n",
    " for i in range(len(arr)):\n",
    "  for j in range(0, len(arr)-i-1):\n",
    "   if arr[j]>arr[j+1]: arr[j],arr[j+1]=arr[j+1],arr[j]\n",
    "a=[5,3,8]\n",
    "bubble(a)\n",
    "print(a)"
   ]
  },
  {
   "cell_type": "code",
   "execution_count": null,
   "id": "558b4db5",
   "metadata": {},
   "outputs": [],
   "source": [
    "# Topic: Regex\n",
    "import re\n",
    "text = 'email: test@example.com'\n",
    "print(re.findall(r'\\S+@\\S+', text))"
   ]
  },
  {
   "cell_type": "code",
   "execution_count": null,
   "id": "a9e0adb5",
   "metadata": {},
   "outputs": [],
   "source": [
    "# Topic: Dictionaries & Sets\n",
    "d = {'name': 'Fahd', 'age': 20}\n",
    "print(d.get('name'))"
   ]
  },
  {
   "cell_type": "code",
   "execution_count": null,
   "id": "60e1bca7",
   "metadata": {},
   "outputs": [],
   "source": [
    "# Topic: Matplotlib & Seaborn\n",
    "import seaborn as sns\n",
    "import pandas as pd\n",
    "sns.set()\n",
    "sns.histplot(pd.Series([1,2,2,3]));"
   ]
  },
  {
   "cell_type": "code",
   "execution_count": null,
   "id": "e010b807",
   "metadata": {},
   "outputs": [],
   "source": [
    "# Topic: Decorators\n",
    "def log(func):\n",
    " def wrapper():\n",
    "  print('Call')\n",
    "  func()\n",
    " return wrapper\n",
    "@log\n",
    "def say(): print('Hi')\n",
    "say()"
   ]
  },
  {
   "cell_type": "code",
   "execution_count": null,
   "id": "45e18ff3",
   "metadata": {},
   "outputs": [],
   "source": [
    "# Topic: Data Cleaning\n",
    "import pandas as pd\n",
    "df = pd.DataFrame({'A':[1,None,3]})\n",
    "df = df.fillna(0)\n",
    "print(df)"
   ]
  },
  {
   "cell_type": "code",
   "execution_count": null,
   "id": "83ea5ed5",
   "metadata": {},
   "outputs": [],
   "source": [
    "# Topic: Web Scraping\n",
    "import requests\n",
    "from bs4 import BeautifulSoup\n",
    "r = requests.get('https://example.com')\n",
    "soup = BeautifulSoup(r.text, 'html.parser')\n",
    "print(soup.title.text)"
   ]
  },
  {
   "cell_type": "code",
   "execution_count": null,
   "id": "0b5cc846",
   "metadata": {},
   "outputs": [],
   "source": [
    "# Topic: Web Scraping\n",
    "import requests\n",
    "from bs4 import BeautifulSoup\n",
    "r = requests.get('https://example.com')\n",
    "soup = BeautifulSoup(r.text, 'html.parser')\n",
    "print(soup.title.text)"
   ]
  },
  {
   "cell_type": "code",
   "execution_count": null,
   "id": "96f0ce97",
   "metadata": {},
   "outputs": [],
   "source": [
    "# Topic: Algorithms\n",
    "# Bubble sort\n",
    "def bubble(arr):\n",
    " for i in range(len(arr)):\n",
    "  for j in range(0, len(arr)-i-1):\n",
    "   if arr[j]>arr[j+1]: arr[j],arr[j+1]=arr[j+1],arr[j]\n",
    "a=[5,3,8]\n",
    "bubble(a)\n",
    "print(a)"
   ]
  },
  {
   "cell_type": "code",
   "execution_count": null,
   "id": "a95bfaa5",
   "metadata": {},
   "outputs": [],
   "source": [
    "# Topic: Basic ML\n",
    "from sklearn.linear_model import LinearRegression\n",
    "model = LinearRegression()\n",
    "print(model)"
   ]
  },
  {
   "cell_type": "code",
   "execution_count": null,
   "id": "ca3d8e3b",
   "metadata": {},
   "outputs": [],
   "source": [
    "# Topic: NumPy\n",
    "import numpy as np\n",
    "print(np.linspace(0, 1, 5))"
   ]
  },
  {
   "cell_type": "code",
   "execution_count": null,
   "id": "5a453e3e",
   "metadata": {},
   "outputs": [],
   "source": [
    "# Topic: Functions\n",
    "def square(x): return x*x\n",
    "print(square(5))"
   ]
  },
  {
   "cell_type": "code",
   "execution_count": null,
   "id": "af4c0043",
   "metadata": {},
   "outputs": [],
   "source": [
    "# Topic: File I/O\n",
    "with open('test.txt', 'w') as f:\n",
    "    f.write('Hello World')"
   ]
  },
  {
   "cell_type": "code",
   "execution_count": null,
   "id": "57cfd37a",
   "metadata": {},
   "outputs": [],
   "source": [
    "# Topic: Basic ML\n",
    "from sklearn.linear_model import LinearRegression\n",
    "model = LinearRegression()\n",
    "print(model)"
   ]
  },
  {
   "cell_type": "code",
   "execution_count": null,
   "id": "26c7616a",
   "metadata": {},
   "outputs": [],
   "source": [
    "# Topic: Recursion\n",
    "def fact(n): return 1 if n==0 else n*fact(n-1)\n",
    "print(fact(5))"
   ]
  },
  {
   "cell_type": "code",
   "execution_count": null,
   "id": "f8ab14df",
   "metadata": {},
   "outputs": [],
   "source": [
    "# Topic: Basics\n",
    "x = 10\n",
    "y = 20\n",
    "print(x + y)"
   ]
  },
  {
   "cell_type": "code",
   "execution_count": null,
   "id": "2272393a",
   "metadata": {},
   "outputs": [],
   "source": [
    "# Topic: NumPy\n",
    "import numpy as np\n",
    "print(np.linspace(0, 1, 5))"
   ]
  },
  {
   "cell_type": "code",
   "execution_count": null,
   "id": "7371783a",
   "metadata": {},
   "outputs": [],
   "source": [
    "# Topic: Web Scraping\n",
    "import requests\n",
    "from bs4 import BeautifulSoup\n",
    "r = requests.get('https://example.com')\n",
    "soup = BeautifulSoup(r.text, 'html.parser')\n",
    "print(soup.title.text)"
   ]
  },
  {
   "cell_type": "code",
   "execution_count": null,
   "id": "816b6fd1",
   "metadata": {},
   "outputs": [],
   "source": [
    "# Topic: JSON & CSV\n",
    "import csv\n",
    "with open('file.csv', 'w', newline='') as f:\n",
    " csv.writer(f).writerow(['a','b','c'])"
   ]
  },
  {
   "cell_type": "code",
   "execution_count": null,
   "id": "53a05707",
   "metadata": {},
   "outputs": [],
   "source": [
    "# Topic: Lists & Tuples\n",
    "lst = [1, 2, 3]\n",
    "lst.append(4)\n",
    "print(lst)"
   ]
  },
  {
   "cell_type": "code",
   "execution_count": null,
   "id": "5623d209",
   "metadata": {},
   "outputs": [],
   "source": [
    "# Topic: Dictionaries & Sets\n",
    "s = set([1, 2, 3, 2])\n",
    "print(s)"
   ]
  },
  {
   "cell_type": "code",
   "execution_count": null,
   "id": "0fd2ab7f",
   "metadata": {},
   "outputs": [],
   "source": [
    "# Topic: CLI Tools\n",
    "import sys\n",
    "print(f'Arguments: {sys.argv}')"
   ]
  },
  {
   "cell_type": "code",
   "execution_count": null,
   "id": "c8338352",
   "metadata": {},
   "outputs": [],
   "source": [
    "# Topic: CLI Tools\n",
    "import sys\n",
    "print(f'Arguments: {sys.argv}')"
   ]
  },
  {
   "cell_type": "code",
   "execution_count": null,
   "id": "3d6d6bb9",
   "metadata": {},
   "outputs": [],
   "source": [
    "# Topic: File I/O\n",
    "with open('test.txt', 'r') as f:\n",
    "    print(f.read())"
   ]
  },
  {
   "cell_type": "code",
   "execution_count": null,
   "id": "6788fcba",
   "metadata": {},
   "outputs": [],
   "source": [
    "# Topic: JSON & CSV\n",
    "import csv\n",
    "with open('file.csv', 'w', newline='') as f:\n",
    " csv.writer(f).writerow(['a','b','c'])"
   ]
  },
  {
   "cell_type": "code",
   "execution_count": null,
   "id": "2ee9dffd",
   "metadata": {},
   "outputs": [],
   "source": [
    "# Topic: Functions\n",
    "def square(x): return x*x\n",
    "print(square(5))"
   ]
  },
  {
   "cell_type": "code",
   "execution_count": null,
   "id": "32f35cf5",
   "metadata": {},
   "outputs": [],
   "source": [
    "# Topic: Dictionaries & Sets\n",
    "d = {'name': 'Fahd', 'age': 20}\n",
    "print(d.get('name'))"
   ]
  },
  {
   "cell_type": "code",
   "execution_count": null,
   "id": "32443ce5",
   "metadata": {},
   "outputs": [],
   "source": [
    "# Topic: Basic ML\n",
    "from sklearn.linear_model import LinearRegression\n",
    "model = LinearRegression()\n",
    "print(model)"
   ]
  },
  {
   "cell_type": "code",
   "execution_count": null,
   "id": "120d2b21",
   "metadata": {},
   "outputs": [],
   "source": [
    "# Topic: Recursion\n",
    "def fact(n): return 1 if n==0 else n*fact(n-1)\n",
    "print(fact(5))"
   ]
  },
  {
   "cell_type": "code",
   "execution_count": null,
   "id": "4d5e4eb1",
   "metadata": {},
   "outputs": [],
   "source": [
    "# Topic: Loops\n",
    "for i in range(10): print(i*i)"
   ]
  },
  {
   "cell_type": "code",
   "execution_count": null,
   "id": "956deac7",
   "metadata": {},
   "outputs": [],
   "source": [
    "# Topic: Mini Projects\n",
    "# Palindrome check\n",
    "def is_pal(s): return s == s[::-1]\n",
    "print(is_pal('madam'))"
   ]
  },
  {
   "cell_type": "code",
   "execution_count": null,
   "id": "6cf7163f",
   "metadata": {},
   "outputs": [],
   "source": [
    "# Topic: Algorithms\n",
    "# Bubble sort\n",
    "def bubble(arr):\n",
    " for i in range(len(arr)):\n",
    "  for j in range(0, len(arr)-i-1):\n",
    "   if arr[j]>arr[j+1]: arr[j],arr[j+1]=arr[j+1],arr[j]\n",
    "a=[5,3,8]\n",
    "bubble(a)\n",
    "print(a)"
   ]
  },
  {
   "cell_type": "code",
   "execution_count": null,
   "id": "9355deb9",
   "metadata": {},
   "outputs": [],
   "source": [
    "# Topic: Regex\n",
    "import re\n",
    "text = 'email: test@example.com'\n",
    "print(re.findall(r'\\S+@\\S+', text))"
   ]
  },
  {
   "cell_type": "code",
   "execution_count": null,
   "id": "d68d4f01",
   "metadata": {},
   "outputs": [],
   "source": [
    "# Topic: Lists & Tuples\n",
    "t = (1, 2, 3)\n",
    "print(t[0])"
   ]
  },
  {
   "cell_type": "code",
   "execution_count": null,
   "id": "201f4286",
   "metadata": {},
   "outputs": [],
   "source": [
    "# Topic: Regex\n",
    "import re\n",
    "text = 'email: test@example.com'\n",
    "print(re.findall(r'\\S+@\\S+', text))"
   ]
  },
  {
   "cell_type": "code",
   "execution_count": null,
   "id": "e262eac4",
   "metadata": {},
   "outputs": [],
   "source": [
    "# Topic: Dictionaries & Sets\n",
    "d = {'name': 'Fahd', 'age': 20}\n",
    "print(d.get('name'))"
   ]
  },
  {
   "cell_type": "code",
   "execution_count": null,
   "id": "2143c9d7",
   "metadata": {},
   "outputs": [],
   "source": [
    "# Topic: File I/O\n",
    "with open('test.txt', 'r') as f:\n",
    "    print(f.read())"
   ]
  },
  {
   "cell_type": "code",
   "execution_count": null,
   "id": "a8736409",
   "metadata": {},
   "outputs": [],
   "source": [
    "# Topic: Recursion\n",
    "def fact(n): return 1 if n==0 else n*fact(n-1)\n",
    "print(fact(5))"
   ]
  },
  {
   "cell_type": "code",
   "execution_count": null,
   "id": "ac714856",
   "metadata": {},
   "outputs": [],
   "source": [
    "# Topic: Algorithms\n",
    "# Bubble sort\n",
    "def bubble(arr):\n",
    " for i in range(len(arr)):\n",
    "  for j in range(0, len(arr)-i-1):\n",
    "   if arr[j]>arr[j+1]: arr[j],arr[j+1]=arr[j+1],arr[j]\n",
    "a=[5,3,8]\n",
    "bubble(a)\n",
    "print(a)"
   ]
  },
  {
   "cell_type": "code",
   "execution_count": null,
   "id": "483d0e6b",
   "metadata": {},
   "outputs": [],
   "source": [
    "# Topic: Matplotlib & Seaborn\n",
    "import matplotlib.pyplot as plt\n",
    "plt.plot([1,2],[3,4])\n",
    "plt.show()"
   ]
  },
  {
   "cell_type": "code",
   "execution_count": null,
   "id": "f60b5b7a",
   "metadata": {},
   "outputs": [],
   "source": [
    "# Topic: Decorators\n",
    "def log(func):\n",
    " def wrapper():\n",
    "  print('Call')\n",
    "  func()\n",
    " return wrapper\n",
    "@log\n",
    "def say(): print('Hi')\n",
    "say()"
   ]
  },
  {
   "cell_type": "code",
   "execution_count": null,
   "id": "b89b715a",
   "metadata": {},
   "outputs": [],
   "source": [
    "# Topic: Dictionaries & Sets\n",
    "d = {'name': 'Fahd', 'age': 20}\n",
    "print(d.get('name'))"
   ]
  },
  {
   "cell_type": "code",
   "execution_count": null,
   "id": "cf7c9d34",
   "metadata": {},
   "outputs": [],
   "source": [
    "# Topic: Algorithms\n",
    "# Bubble sort\n",
    "def bubble(arr):\n",
    " for i in range(len(arr)):\n",
    "  for j in range(0, len(arr)-i-1):\n",
    "   if arr[j]>arr[j+1]: arr[j],arr[j+1]=arr[j+1],arr[j]\n",
    "a=[5,3,8]\n",
    "bubble(a)\n",
    "print(a)"
   ]
  },
  {
   "cell_type": "code",
   "execution_count": null,
   "id": "8c3f497e",
   "metadata": {},
   "outputs": [],
   "source": [
    "# Topic: Mini Projects\n",
    "# Palindrome check\n",
    "def is_pal(s): return s == s[::-1]\n",
    "print(is_pal('madam'))"
   ]
  },
  {
   "cell_type": "code",
   "execution_count": null,
   "id": "6728abc0",
   "metadata": {},
   "outputs": [],
   "source": [
    "# Topic: Recursion\n",
    "def fact(n): return 1 if n==0 else n*fact(n-1)\n",
    "print(fact(5))"
   ]
  },
  {
   "cell_type": "code",
   "execution_count": null,
   "id": "7c5f8c24",
   "metadata": {},
   "outputs": [],
   "source": [
    "# Topic: Algorithms\n",
    "# Bubble sort\n",
    "def bubble(arr):\n",
    " for i in range(len(arr)):\n",
    "  for j in range(0, len(arr)-i-1):\n",
    "   if arr[j]>arr[j+1]: arr[j],arr[j+1]=arr[j+1],arr[j]\n",
    "a=[5,3,8]\n",
    "bubble(a)\n",
    "print(a)"
   ]
  },
  {
   "cell_type": "code",
   "execution_count": null,
   "id": "89a5f74b",
   "metadata": {},
   "outputs": [],
   "source": [
    "# Topic: OOP\n",
    "class Student:\n",
    "    def __init__(self, name): self.name = name\n",
    "s = Student('Fahd')\n",
    "print(s.name)"
   ]
  },
  {
   "cell_type": "code",
   "execution_count": null,
   "id": "1d13e3cd",
   "metadata": {},
   "outputs": [],
   "source": [
    "# Topic: Lists & Tuples\n",
    "lst = [1, 2, 3]\n",
    "lst.append(4)\n",
    "print(lst)"
   ]
  },
  {
   "cell_type": "code",
   "execution_count": null,
   "id": "080d872e",
   "metadata": {},
   "outputs": [],
   "source": [
    "# Topic: Regex\n",
    "import re\n",
    "text = 'email: test@example.com'\n",
    "print(re.findall(r'\\S+@\\S+', text))"
   ]
  },
  {
   "cell_type": "code",
   "execution_count": null,
   "id": "90ab5a92",
   "metadata": {},
   "outputs": [],
   "source": [
    "# Topic: Pandas\n",
    "import pandas as pd\n",
    "df = pd.read_csv('file.csv')\n",
    "print(df.head())"
   ]
  },
  {
   "cell_type": "code",
   "execution_count": null,
   "id": "5bcb6994",
   "metadata": {},
   "outputs": [],
   "source": [
    "# Topic: Dictionaries & Sets\n",
    "d = {'name': 'Fahd', 'age': 20}\n",
    "print(d.get('name'))"
   ]
  },
  {
   "cell_type": "code",
   "execution_count": null,
   "id": "4ab78e23",
   "metadata": {},
   "outputs": [],
   "source": [
    "# Topic: NumPy\n",
    "import numpy as np\n",
    "a = np.array([1, 2, 3])\n",
    "print(a + 5)"
   ]
  },
  {
   "cell_type": "code",
   "execution_count": null,
   "id": "18254647",
   "metadata": {},
   "outputs": [],
   "source": [
    "# Topic: Dictionaries & Sets\n",
    "d = {'name': 'Fahd', 'age': 20}\n",
    "print(d.get('name'))"
   ]
  },
  {
   "cell_type": "code",
   "execution_count": null,
   "id": "5a4beb9c",
   "metadata": {},
   "outputs": [],
   "source": [
    "# Topic: Pandas\n",
    "import pandas as pd\n",
    "df = pd.DataFrame({'A':[1,2],'B':[3,4]})\n",
    "print(df)"
   ]
  },
  {
   "cell_type": "code",
   "execution_count": null,
   "id": "ac70ab5e",
   "metadata": {},
   "outputs": [],
   "source": [
    "# Topic: Recursion\n",
    "def fact(n): return 1 if n==0 else n*fact(n-1)\n",
    "print(fact(5))"
   ]
  },
  {
   "cell_type": "code",
   "execution_count": null,
   "id": "5d91c6f4",
   "metadata": {},
   "outputs": [],
   "source": [
    "# Topic: Lists & Tuples\n",
    "lst = [1, 2, 3]\n",
    "lst.append(4)\n",
    "print(lst)"
   ]
  },
  {
   "cell_type": "code",
   "execution_count": null,
   "id": "56feed9b",
   "metadata": {},
   "outputs": [],
   "source": [
    "# Topic: Matplotlib & Seaborn\n",
    "import matplotlib.pyplot as plt\n",
    "plt.plot([1,2],[3,4])\n",
    "plt.show()"
   ]
  },
  {
   "cell_type": "code",
   "execution_count": null,
   "id": "6ad28e84",
   "metadata": {},
   "outputs": [],
   "source": [
    "# Topic: File I/O\n",
    "with open('test.txt', 'r') as f:\n",
    "    print(f.read())"
   ]
  },
  {
   "cell_type": "code",
   "execution_count": null,
   "id": "b61fa6ea",
   "metadata": {},
   "outputs": [],
   "source": [
    "# Topic: Data Cleaning\n",
    "import pandas as pd\n",
    "df = pd.DataFrame({'A':[1,None,3]})\n",
    "df = df.fillna(0)\n",
    "print(df)"
   ]
  },
  {
   "cell_type": "code",
   "execution_count": null,
   "id": "524e4cf4",
   "metadata": {},
   "outputs": [],
   "source": [
    "# Topic: Functions\n",
    "def square(x): return x*x\n",
    "print(square(5))"
   ]
  },
  {
   "cell_type": "code",
   "execution_count": null,
   "id": "11b99a82",
   "metadata": {},
   "outputs": [],
   "source": [
    "# Topic: Matplotlib & Seaborn\n",
    "import matplotlib.pyplot as plt\n",
    "plt.plot([1,2],[3,4])\n",
    "plt.show()"
   ]
  },
  {
   "cell_type": "code",
   "execution_count": null,
   "id": "a19428a7",
   "metadata": {},
   "outputs": [],
   "source": [
    "# Topic: Loops\n",
    "for i in range(10): print(i*i)"
   ]
  },
  {
   "cell_type": "code",
   "execution_count": null,
   "id": "d0d266df",
   "metadata": {},
   "outputs": [],
   "source": [
    "# Topic: Functions\n",
    "def greet(name='User'):\n",
    "    print(f'Hi, {name}')\n",
    "greet()"
   ]
  },
  {
   "cell_type": "code",
   "execution_count": null,
   "id": "b869e27a",
   "metadata": {},
   "outputs": [],
   "source": [
    "# Topic: CLI Tools\n",
    "import sys\n",
    "print(f'Arguments: {sys.argv}')"
   ]
  },
  {
   "cell_type": "code",
   "execution_count": null,
   "id": "7c28dffb",
   "metadata": {},
   "outputs": [],
   "source": [
    "# Topic: Decorators\n",
    "def log(func):\n",
    " def wrapper():\n",
    "  print('Call')\n",
    "  func()\n",
    " return wrapper\n",
    "@log\n",
    "def say(): print('Hi')\n",
    "say()"
   ]
  },
  {
   "cell_type": "code",
   "execution_count": null,
   "id": "4cfc0c2a",
   "metadata": {},
   "outputs": [],
   "source": [
    "# Topic: OOP\n",
    "class Student:\n",
    "    def __init__(self, name): self.name = name\n",
    "s = Student('Fahd')\n",
    "print(s.name)"
   ]
  },
  {
   "cell_type": "code",
   "execution_count": null,
   "id": "188024b4",
   "metadata": {},
   "outputs": [],
   "source": [
    "# Topic: Lists & Tuples\n",
    "lst = [1, 2, 3]\n",
    "lst.append(4)\n",
    "print(lst)"
   ]
  },
  {
   "cell_type": "code",
   "execution_count": null,
   "id": "6b44f6bd",
   "metadata": {},
   "outputs": [],
   "source": [
    "# Topic: Basic ML\n",
    "from sklearn.linear_model import LinearRegression\n",
    "model = LinearRegression()\n",
    "print(model)"
   ]
  },
  {
   "cell_type": "code",
   "execution_count": null,
   "id": "9de18c6c",
   "metadata": {},
   "outputs": [],
   "source": [
    "# Topic: Data Cleaning\n",
    "import pandas as pd\n",
    "df = pd.DataFrame({'A':[1,None,3]})\n",
    "df = df.fillna(0)\n",
    "print(df)"
   ]
  },
  {
   "cell_type": "code",
   "execution_count": null,
   "id": "28cbf84a",
   "metadata": {},
   "outputs": [],
   "source": [
    "# Topic: Mini Projects\n",
    "# Palindrome check\n",
    "def is_pal(s): return s == s[::-1]\n",
    "print(is_pal('madam'))"
   ]
  },
  {
   "cell_type": "code",
   "execution_count": null,
   "id": "670e2317",
   "metadata": {},
   "outputs": [],
   "source": [
    "# Topic: Functions\n",
    "def greet(name='User'):\n",
    "    print(f'Hi, {name}')\n",
    "greet()"
   ]
  },
  {
   "cell_type": "code",
   "execution_count": null,
   "id": "5a77efe8",
   "metadata": {},
   "outputs": [],
   "source": [
    "# Topic: Regex\n",
    "import re\n",
    "text = 'email: test@example.com'\n",
    "print(re.findall(r'\\S+@\\S+', text))"
   ]
  },
  {
   "cell_type": "code",
   "execution_count": null,
   "id": "53b6e69b",
   "metadata": {},
   "outputs": [],
   "source": [
    "# Topic: Pandas\n",
    "import pandas as pd\n",
    "df = pd.read_csv('file.csv')\n",
    "print(df.head())"
   ]
  },
  {
   "cell_type": "code",
   "execution_count": null,
   "id": "35b9a088",
   "metadata": {},
   "outputs": [],
   "source": [
    "# Topic: Lists & Tuples\n",
    "t = (1, 2, 3)\n",
    "print(t[0])"
   ]
  },
  {
   "cell_type": "code",
   "execution_count": null,
   "id": "9b737d7c",
   "metadata": {},
   "outputs": [],
   "source": [
    "# Topic: Loops\n",
    "for i in range(10): print(i*i)"
   ]
  },
  {
   "cell_type": "code",
   "execution_count": null,
   "id": "6e01977d",
   "metadata": {},
   "outputs": [],
   "source": [
    "# Topic: Basics\n",
    "x = 10\n",
    "y = 20\n",
    "print(x + y)"
   ]
  },
  {
   "cell_type": "code",
   "execution_count": null,
   "id": "6833211c",
   "metadata": {},
   "outputs": [],
   "source": [
    "# Topic: Data Cleaning\n",
    "import pandas as pd\n",
    "df = pd.DataFrame({'A':[1,None,3]})\n",
    "df = df.fillna(0)\n",
    "print(df)"
   ]
  },
  {
   "cell_type": "code",
   "execution_count": null,
   "id": "a7f151c1",
   "metadata": {},
   "outputs": [],
   "source": [
    "# Topic: Data Cleaning\n",
    "import pandas as pd\n",
    "df = pd.DataFrame({'A':[1,None,3]})\n",
    "df = df.fillna(0)\n",
    "print(df)"
   ]
  },
  {
   "cell_type": "code",
   "execution_count": null,
   "id": "8c811ccd",
   "metadata": {},
   "outputs": [],
   "source": [
    "# Topic: Basics\n",
    "name = 'Fahd'\n",
    "print(f'Hello, {name}')"
   ]
  },
  {
   "cell_type": "code",
   "execution_count": null,
   "id": "46fb5be8",
   "metadata": {},
   "outputs": [],
   "source": [
    "# Topic: Pandas\n",
    "import pandas as pd\n",
    "df = pd.read_csv('file.csv')\n",
    "print(df.head())"
   ]
  },
  {
   "cell_type": "code",
   "execution_count": null,
   "id": "6625c550",
   "metadata": {},
   "outputs": [],
   "source": [
    "# Topic: Data Cleaning\n",
    "import pandas as pd\n",
    "df = pd.DataFrame({'A':[1,None,3]})\n",
    "df = df.fillna(0)\n",
    "print(df)"
   ]
  },
  {
   "cell_type": "code",
   "execution_count": null,
   "id": "85398348",
   "metadata": {},
   "outputs": [],
   "source": [
    "# Topic: Web Scraping\n",
    "import requests\n",
    "from bs4 import BeautifulSoup\n",
    "r = requests.get('https://example.com')\n",
    "soup = BeautifulSoup(r.text, 'html.parser')\n",
    "print(soup.title.text)"
   ]
  },
  {
   "cell_type": "code",
   "execution_count": null,
   "id": "ef2213f9",
   "metadata": {},
   "outputs": [],
   "source": [
    "# Topic: Matplotlib & Seaborn\n",
    "import seaborn as sns\n",
    "import pandas as pd\n",
    "sns.set()\n",
    "sns.histplot(pd.Series([1,2,2,3]));"
   ]
  },
  {
   "cell_type": "code",
   "execution_count": null,
   "id": "4a2725e7",
   "metadata": {},
   "outputs": [],
   "source": [
    "# Topic: Dictionaries & Sets\n",
    "d = {'name': 'Fahd', 'age': 20}\n",
    "print(d.get('name'))"
   ]
  },
  {
   "cell_type": "code",
   "execution_count": null,
   "id": "f8a5615e",
   "metadata": {},
   "outputs": [],
   "source": [
    "# Topic: Decorators\n",
    "def log(func):\n",
    " def wrapper():\n",
    "  print('Call')\n",
    "  func()\n",
    " return wrapper\n",
    "@log\n",
    "def say(): print('Hi')\n",
    "say()"
   ]
  },
  {
   "cell_type": "code",
   "execution_count": null,
   "id": "1ad487d0",
   "metadata": {},
   "outputs": [],
   "source": [
    "# Topic: JSON & CSV\n",
    "import csv\n",
    "with open('file.csv', 'w', newline='') as f:\n",
    " csv.writer(f).writerow(['a','b','c'])"
   ]
  },
  {
   "cell_type": "code",
   "execution_count": null,
   "id": "2bc57e14",
   "metadata": {},
   "outputs": [],
   "source": [
    "# Topic: Basic ML\n",
    "from sklearn.linear_model import LinearRegression\n",
    "model = LinearRegression()\n",
    "print(model)"
   ]
  },
  {
   "cell_type": "code",
   "execution_count": null,
   "id": "9eaea033",
   "metadata": {},
   "outputs": [],
   "source": [
    "# Topic: Basic ML\n",
    "from sklearn.linear_model import LinearRegression\n",
    "model = LinearRegression()\n",
    "print(model)"
   ]
  },
  {
   "cell_type": "code",
   "execution_count": null,
   "id": "d87a1ee8",
   "metadata": {},
   "outputs": [],
   "source": [
    "# Topic: Decorators\n",
    "def log(func):\n",
    " def wrapper():\n",
    "  print('Call')\n",
    "  func()\n",
    " return wrapper\n",
    "@log\n",
    "def say(): print('Hi')\n",
    "say()"
   ]
  },
  {
   "cell_type": "code",
   "execution_count": null,
   "id": "281ee7c9",
   "metadata": {},
   "outputs": [],
   "source": [
    "# Topic: Algorithms\n",
    "# Bubble sort\n",
    "def bubble(arr):\n",
    " for i in range(len(arr)):\n",
    "  for j in range(0, len(arr)-i-1):\n",
    "   if arr[j]>arr[j+1]: arr[j],arr[j+1]=arr[j+1],arr[j]\n",
    "a=[5,3,8]\n",
    "bubble(a)\n",
    "print(a)"
   ]
  },
  {
   "cell_type": "code",
   "execution_count": null,
   "id": "c2c78326",
   "metadata": {},
   "outputs": [],
   "source": [
    "# Topic: Basics\n",
    "name = 'Fahd'\n",
    "print(f'Hello, {name}')"
   ]
  },
  {
   "cell_type": "code",
   "execution_count": null,
   "id": "66557819",
   "metadata": {},
   "outputs": [],
   "source": [
    "# Topic: Functions\n",
    "def square(x): return x*x\n",
    "print(square(5))"
   ]
  },
  {
   "cell_type": "code",
   "execution_count": null,
   "id": "19400f78",
   "metadata": {},
   "outputs": [],
   "source": [
    "# Topic: Recursion\n",
    "def fact(n): return 1 if n==0 else n*fact(n-1)\n",
    "print(fact(5))"
   ]
  },
  {
   "cell_type": "code",
   "execution_count": null,
   "id": "fec3f335",
   "metadata": {},
   "outputs": [],
   "source": [
    "# Topic: Data Cleaning\n",
    "import pandas as pd\n",
    "df = pd.DataFrame({'A':[1,None,3]})\n",
    "df = df.fillna(0)\n",
    "print(df)"
   ]
  },
  {
   "cell_type": "code",
   "execution_count": null,
   "id": "d5d3ed30",
   "metadata": {},
   "outputs": [],
   "source": [
    "# Topic: Lists & Tuples\n",
    "t = (1, 2, 3)\n",
    "print(t[0])"
   ]
  },
  {
   "cell_type": "code",
   "execution_count": null,
   "id": "7b56c1e4",
   "metadata": {},
   "outputs": [],
   "source": [
    "# Topic: Matplotlib & Seaborn\n",
    "import matplotlib.pyplot as plt\n",
    "plt.plot([1,2],[3,4])\n",
    "plt.show()"
   ]
  },
  {
   "cell_type": "code",
   "execution_count": null,
   "id": "7f80e4fe",
   "metadata": {},
   "outputs": [],
   "source": [
    "# Topic: Algorithms\n",
    "# Bubble sort\n",
    "def bubble(arr):\n",
    " for i in range(len(arr)):\n",
    "  for j in range(0, len(arr)-i-1):\n",
    "   if arr[j]>arr[j+1]: arr[j],arr[j+1]=arr[j+1],arr[j]\n",
    "a=[5,3,8]\n",
    "bubble(a)\n",
    "print(a)"
   ]
  },
  {
   "cell_type": "code",
   "execution_count": null,
   "id": "84be6521",
   "metadata": {},
   "outputs": [],
   "source": [
    "# Topic: Basic ML\n",
    "from sklearn.linear_model import LinearRegression\n",
    "model = LinearRegression()\n",
    "print(model)"
   ]
  },
  {
   "cell_type": "code",
   "execution_count": null,
   "id": "84efeeea",
   "metadata": {},
   "outputs": [],
   "source": [
    "# Topic: Decorators\n",
    "def log(func):\n",
    " def wrapper():\n",
    "  print('Call')\n",
    "  func()\n",
    " return wrapper\n",
    "@log\n",
    "def say(): print('Hi')\n",
    "say()"
   ]
  },
  {
   "cell_type": "code",
   "execution_count": null,
   "id": "07a323ea",
   "metadata": {},
   "outputs": [],
   "source": [
    "# Topic: Data Cleaning\n",
    "import pandas as pd\n",
    "df = pd.DataFrame({'A':[1,None,3]})\n",
    "df = df.fillna(0)\n",
    "print(df)"
   ]
  },
  {
   "cell_type": "code",
   "execution_count": null,
   "id": "a9539107",
   "metadata": {},
   "outputs": [],
   "source": [
    "# Topic: Loops\n",
    "for i in range(10): print(i*i)"
   ]
  },
  {
   "cell_type": "code",
   "execution_count": null,
   "id": "d1917bc9",
   "metadata": {},
   "outputs": [],
   "source": [
    "# Topic: Loops\n",
    "while True:\n",
    "    print('Break')\n",
    "    break"
   ]
  },
  {
   "cell_type": "code",
   "execution_count": null,
   "id": "476c1778",
   "metadata": {},
   "outputs": [],
   "source": [
    "# Topic: JSON & CSV\n",
    "import csv\n",
    "with open('file.csv', 'w', newline='') as f:\n",
    " csv.writer(f).writerow(['a','b','c'])"
   ]
  },
  {
   "cell_type": "code",
   "execution_count": null,
   "id": "a937cff4",
   "metadata": {},
   "outputs": [],
   "source": [
    "# Topic: OOP\n",
    "class Student:\n",
    "    def __init__(self, name): self.name = name\n",
    "s = Student('Fahd')\n",
    "print(s.name)"
   ]
  },
  {
   "cell_type": "code",
   "execution_count": null,
   "id": "1549dbc9",
   "metadata": {},
   "outputs": [],
   "source": [
    "# Topic: Web Scraping\n",
    "import requests\n",
    "from bs4 import BeautifulSoup\n",
    "r = requests.get('https://example.com')\n",
    "soup = BeautifulSoup(r.text, 'html.parser')\n",
    "print(soup.title.text)"
   ]
  },
  {
   "cell_type": "code",
   "execution_count": null,
   "id": "dd125b52",
   "metadata": {},
   "outputs": [],
   "source": [
    "# Topic: Functions\n",
    "def square(x): return x*x\n",
    "print(square(5))"
   ]
  },
  {
   "cell_type": "code",
   "execution_count": null,
   "id": "38aefd8c",
   "metadata": {},
   "outputs": [],
   "source": [
    "# Topic: Lists & Tuples\n",
    "lst = [1, 2, 3]\n",
    "lst.append(4)\n",
    "print(lst)"
   ]
  },
  {
   "cell_type": "code",
   "execution_count": null,
   "id": "1b4d4f2c",
   "metadata": {},
   "outputs": [],
   "source": [
    "# Topic: JSON & CSV\n",
    "import json\n",
    "data = {'a': 1}\n",
    "print(json.dumps(data))"
   ]
  },
  {
   "cell_type": "code",
   "execution_count": null,
   "id": "1732bc7f",
   "metadata": {},
   "outputs": [],
   "source": [
    "# Topic: Recursion\n",
    "def fact(n): return 1 if n==0 else n*fact(n-1)\n",
    "print(fact(5))"
   ]
  },
  {
   "cell_type": "code",
   "execution_count": null,
   "id": "99927de9",
   "metadata": {},
   "outputs": [],
   "source": [
    "# Topic: Recursion\n",
    "def fact(n): return 1 if n==0 else n*fact(n-1)\n",
    "print(fact(5))"
   ]
  },
  {
   "cell_type": "code",
   "execution_count": null,
   "id": "e9f357e2",
   "metadata": {},
   "outputs": [],
   "source": [
    "# Topic: Pandas\n",
    "import pandas as pd\n",
    "df = pd.DataFrame({'A':[1,2],'B':[3,4]})\n",
    "print(df)"
   ]
  },
  {
   "cell_type": "code",
   "execution_count": null,
   "id": "965f237a",
   "metadata": {},
   "outputs": [],
   "source": [
    "# Topic: Decorators\n",
    "def log(func):\n",
    " def wrapper():\n",
    "  print('Call')\n",
    "  func()\n",
    " return wrapper\n",
    "@log\n",
    "def say(): print('Hi')\n",
    "say()"
   ]
  },
  {
   "cell_type": "code",
   "execution_count": null,
   "id": "0398b68d",
   "metadata": {},
   "outputs": [],
   "source": [
    "# Topic: Functions\n",
    "def square(x): return x*x\n",
    "print(square(5))"
   ]
  },
  {
   "cell_type": "code",
   "execution_count": null,
   "id": "5230cbb9",
   "metadata": {},
   "outputs": [],
   "source": [
    "# Topic: Pandas\n",
    "import pandas as pd\n",
    "df = pd.DataFrame({'A':[1,2],'B':[3,4]})\n",
    "print(df)"
   ]
  },
  {
   "cell_type": "code",
   "execution_count": null,
   "id": "20301c6a",
   "metadata": {},
   "outputs": [],
   "source": [
    "# Topic: Web Scraping\n",
    "import requests\n",
    "from bs4 import BeautifulSoup\n",
    "r = requests.get('https://example.com')\n",
    "soup = BeautifulSoup(r.text, 'html.parser')\n",
    "print(soup.title.text)"
   ]
  },
  {
   "cell_type": "code",
   "execution_count": null,
   "id": "9241e7df",
   "metadata": {},
   "outputs": [],
   "source": [
    "# Topic: Web Scraping\n",
    "import requests\n",
    "from bs4 import BeautifulSoup\n",
    "r = requests.get('https://example.com')\n",
    "soup = BeautifulSoup(r.text, 'html.parser')\n",
    "print(soup.title.text)"
   ]
  },
  {
   "cell_type": "code",
   "execution_count": null,
   "id": "57da2ef5",
   "metadata": {},
   "outputs": [],
   "source": [
    "# Topic: Basic ML\n",
    "from sklearn.linear_model import LinearRegression\n",
    "model = LinearRegression()\n",
    "print(model)"
   ]
  },
  {
   "cell_type": "code",
   "execution_count": null,
   "id": "7705bd51",
   "metadata": {},
   "outputs": [],
   "source": [
    "# Topic: OOP\n",
    "class Student:\n",
    "    def __init__(self, name): self.name = name\n",
    "s = Student('Fahd')\n",
    "print(s.name)"
   ]
  },
  {
   "cell_type": "code",
   "execution_count": null,
   "id": "551178d9",
   "metadata": {},
   "outputs": [],
   "source": [
    "# Topic: Loops\n",
    "while True:\n",
    "    print('Break')\n",
    "    break"
   ]
  },
  {
   "cell_type": "code",
   "execution_count": null,
   "id": "37dc9702",
   "metadata": {},
   "outputs": [],
   "source": [
    "# Topic: Mini Projects\n",
    "# Palindrome check\n",
    "def is_pal(s): return s == s[::-1]\n",
    "print(is_pal('madam'))"
   ]
  },
  {
   "cell_type": "code",
   "execution_count": null,
   "id": "11ceaf5b",
   "metadata": {},
   "outputs": [],
   "source": [
    "# Topic: Decorators\n",
    "def log(func):\n",
    " def wrapper():\n",
    "  print('Call')\n",
    "  func()\n",
    " return wrapper\n",
    "@log\n",
    "def say(): print('Hi')\n",
    "say()"
   ]
  },
  {
   "cell_type": "code",
   "execution_count": null,
   "id": "d2c254a1",
   "metadata": {},
   "outputs": [],
   "source": [
    "# Topic: Mini Projects\n",
    "# Calculator\n",
    "def calc(a,b,op): return eval(f'{a}{op}{b}')\n",
    "print(calc(5,2,'+'))"
   ]
  },
  {
   "cell_type": "code",
   "execution_count": null,
   "id": "f4681e88",
   "metadata": {},
   "outputs": [],
   "source": [
    "# Topic: OOP\n",
    "class Student:\n",
    "    def __init__(self, name): self.name = name\n",
    "s = Student('Fahd')\n",
    "print(s.name)"
   ]
  },
  {
   "cell_type": "code",
   "execution_count": null,
   "id": "3b40ecdf",
   "metadata": {},
   "outputs": [],
   "source": [
    "# Topic: Data Cleaning\n",
    "import pandas as pd\n",
    "df = pd.DataFrame({'A':[1,None,3]})\n",
    "df = df.fillna(0)\n",
    "print(df)"
   ]
  },
  {
   "cell_type": "code",
   "execution_count": null,
   "id": "f195fd1f",
   "metadata": {},
   "outputs": [],
   "source": [
    "# Topic: Mini Projects\n",
    "# Calculator\n",
    "def calc(a,b,op): return eval(f'{a}{op}{b}')\n",
    "print(calc(5,2,'+'))"
   ]
  },
  {
   "cell_type": "code",
   "execution_count": null,
   "id": "17198f33",
   "metadata": {},
   "outputs": [],
   "source": [
    "# Topic: Loops\n",
    "for i in range(10): print(i*i)"
   ]
  },
  {
   "cell_type": "code",
   "execution_count": null,
   "id": "61fc3dba",
   "metadata": {},
   "outputs": [],
   "source": [
    "# Topic: NumPy\n",
    "import numpy as np\n",
    "print(np.linspace(0, 1, 5))"
   ]
  },
  {
   "cell_type": "code",
   "execution_count": null,
   "id": "c711def1",
   "metadata": {},
   "outputs": [],
   "source": [
    "# Topic: Loops\n",
    "for i in range(10): print(i*i)"
   ]
  },
  {
   "cell_type": "code",
   "execution_count": null,
   "id": "0c371ed6",
   "metadata": {},
   "outputs": [],
   "source": [
    "# Topic: Functions\n",
    "def square(x): return x*x\n",
    "print(square(5))"
   ]
  },
  {
   "cell_type": "code",
   "execution_count": null,
   "id": "3bff9335",
   "metadata": {},
   "outputs": [],
   "source": [
    "# Topic: CLI Tools\n",
    "import sys\n",
    "print(f'Arguments: {sys.argv}')"
   ]
  },
  {
   "cell_type": "code",
   "execution_count": null,
   "id": "814d47d7",
   "metadata": {},
   "outputs": [],
   "source": [
    "# Topic: CLI Tools\n",
    "import sys\n",
    "print(f'Arguments: {sys.argv}')"
   ]
  },
  {
   "cell_type": "code",
   "execution_count": null,
   "id": "1cc15f67",
   "metadata": {},
   "outputs": [],
   "source": [
    "# Topic: Basics\n",
    "x = 10\n",
    "y = 20\n",
    "print(x + y)"
   ]
  },
  {
   "cell_type": "code",
   "execution_count": null,
   "id": "e8692bea",
   "metadata": {},
   "outputs": [],
   "source": [
    "# Topic: File I/O\n",
    "with open('test.txt', 'w') as f:\n",
    "    f.write('Hello World')"
   ]
  },
  {
   "cell_type": "code",
   "execution_count": null,
   "id": "42876837",
   "metadata": {},
   "outputs": [],
   "source": [
    "# Topic: Decorators\n",
    "def log(func):\n",
    " def wrapper():\n",
    "  print('Call')\n",
    "  func()\n",
    " return wrapper\n",
    "@log\n",
    "def say(): print('Hi')\n",
    "say()"
   ]
  },
  {
   "cell_type": "code",
   "execution_count": null,
   "id": "e3a5636e",
   "metadata": {},
   "outputs": [],
   "source": [
    "# Topic: NumPy\n",
    "import numpy as np\n",
    "a = np.array([1, 2, 3])\n",
    "print(a + 5)"
   ]
  },
  {
   "cell_type": "code",
   "execution_count": null,
   "id": "23866dd0",
   "metadata": {},
   "outputs": [],
   "source": [
    "# Topic: Functions\n",
    "def greet(name='User'):\n",
    "    print(f'Hi, {name}')\n",
    "greet()"
   ]
  },
  {
   "cell_type": "code",
   "execution_count": null,
   "id": "5565e75e",
   "metadata": {},
   "outputs": [],
   "source": [
    "# Topic: NumPy\n",
    "import numpy as np\n",
    "a = np.array([1, 2, 3])\n",
    "print(a + 5)"
   ]
  },
  {
   "cell_type": "code",
   "execution_count": null,
   "id": "3ef41662",
   "metadata": {},
   "outputs": [],
   "source": [
    "# Topic: NumPy\n",
    "import numpy as np\n",
    "a = np.array([1, 2, 3])\n",
    "print(a + 5)"
   ]
  },
  {
   "cell_type": "code",
   "execution_count": null,
   "id": "362ef02e",
   "metadata": {},
   "outputs": [],
   "source": [
    "# Topic: OOP\n",
    "class Student:\n",
    "    def __init__(self, name): self.name = name\n",
    "s = Student('Fahd')\n",
    "print(s.name)"
   ]
  },
  {
   "cell_type": "code",
   "execution_count": null,
   "id": "e2a50fba",
   "metadata": {},
   "outputs": [],
   "source": [
    "# Topic: Basic ML\n",
    "from sklearn.linear_model import LinearRegression\n",
    "model = LinearRegression()\n",
    "print(model)"
   ]
  },
  {
   "cell_type": "code",
   "execution_count": null,
   "id": "56684e8f",
   "metadata": {},
   "outputs": [],
   "source": [
    "# Topic: Dictionaries & Sets\n",
    "d = {'name': 'Fahd', 'age': 20}\n",
    "print(d.get('name'))"
   ]
  },
  {
   "cell_type": "code",
   "execution_count": null,
   "id": "aec022ae",
   "metadata": {},
   "outputs": [],
   "source": [
    "# Topic: OOP\n",
    "class Student:\n",
    "    def __init__(self, name): self.name = name\n",
    "s = Student('Fahd')\n",
    "print(s.name)"
   ]
  },
  {
   "cell_type": "code",
   "execution_count": null,
   "id": "b48ab409",
   "metadata": {},
   "outputs": [],
   "source": [
    "# Topic: Web Scraping\n",
    "import requests\n",
    "from bs4 import BeautifulSoup\n",
    "r = requests.get('https://example.com')\n",
    "soup = BeautifulSoup(r.text, 'html.parser')\n",
    "print(soup.title.text)"
   ]
  },
  {
   "cell_type": "code",
   "execution_count": null,
   "id": "27da3ce0",
   "metadata": {},
   "outputs": [],
   "source": [
    "# Topic: Pandas\n",
    "import pandas as pd\n",
    "df = pd.read_csv('file.csv')\n",
    "print(df.head())"
   ]
  },
  {
   "cell_type": "code",
   "execution_count": null,
   "id": "b9111d3b",
   "metadata": {},
   "outputs": [],
   "source": [
    "# Topic: Recursion\n",
    "def fact(n): return 1 if n==0 else n*fact(n-1)\n",
    "print(fact(5))"
   ]
  },
  {
   "cell_type": "code",
   "execution_count": null,
   "id": "807ee07b",
   "metadata": {},
   "outputs": [],
   "source": [
    "# Topic: Decorators\n",
    "def log(func):\n",
    " def wrapper():\n",
    "  print('Call')\n",
    "  func()\n",
    " return wrapper\n",
    "@log\n",
    "def say(): print('Hi')\n",
    "say()"
   ]
  },
  {
   "cell_type": "code",
   "execution_count": null,
   "id": "1f5c10e4",
   "metadata": {},
   "outputs": [],
   "source": [
    "# Topic: Web Scraping\n",
    "import requests\n",
    "from bs4 import BeautifulSoup\n",
    "r = requests.get('https://example.com')\n",
    "soup = BeautifulSoup(r.text, 'html.parser')\n",
    "print(soup.title.text)"
   ]
  },
  {
   "cell_type": "code",
   "execution_count": null,
   "id": "dde017be",
   "metadata": {},
   "outputs": [],
   "source": [
    "# Topic: Decorators\n",
    "def log(func):\n",
    " def wrapper():\n",
    "  print('Call')\n",
    "  func()\n",
    " return wrapper\n",
    "@log\n",
    "def say(): print('Hi')\n",
    "say()"
   ]
  },
  {
   "cell_type": "code",
   "execution_count": null,
   "id": "59ee605a",
   "metadata": {},
   "outputs": [],
   "source": [
    "# Topic: Decorators\n",
    "def log(func):\n",
    " def wrapper():\n",
    "  print('Call')\n",
    "  func()\n",
    " return wrapper\n",
    "@log\n",
    "def say(): print('Hi')\n",
    "say()"
   ]
  },
  {
   "cell_type": "code",
   "execution_count": null,
   "id": "b7a44a0a",
   "metadata": {},
   "outputs": [],
   "source": [
    "# Topic: Lists & Tuples\n",
    "lst = [1, 2, 3]\n",
    "lst.append(4)\n",
    "print(lst)"
   ]
  },
  {
   "cell_type": "code",
   "execution_count": null,
   "id": "02fb6af2",
   "metadata": {},
   "outputs": [],
   "source": [
    "# Topic: Basic ML\n",
    "from sklearn.linear_model import LinearRegression\n",
    "model = LinearRegression()\n",
    "print(model)"
   ]
  },
  {
   "cell_type": "code",
   "execution_count": null,
   "id": "94a042ca",
   "metadata": {},
   "outputs": [],
   "source": [
    "# Topic: Lists & Tuples\n",
    "lst = [1, 2, 3]\n",
    "lst.append(4)\n",
    "print(lst)"
   ]
  },
  {
   "cell_type": "code",
   "execution_count": null,
   "id": "a27a94c0",
   "metadata": {},
   "outputs": [],
   "source": [
    "# Topic: Regex\n",
    "import re\n",
    "text = 'email: test@example.com'\n",
    "print(re.findall(r'\\S+@\\S+', text))"
   ]
  },
  {
   "cell_type": "code",
   "execution_count": null,
   "id": "92da590d",
   "metadata": {},
   "outputs": [],
   "source": [
    "# Topic: Regex\n",
    "import re\n",
    "text = 'email: test@example.com'\n",
    "print(re.findall(r'\\S+@\\S+', text))"
   ]
  },
  {
   "cell_type": "code",
   "execution_count": null,
   "id": "27757e48",
   "metadata": {},
   "outputs": [],
   "source": [
    "# Topic: Functions\n",
    "def greet(name='User'):\n",
    "    print(f'Hi, {name}')\n",
    "greet()"
   ]
  },
  {
   "cell_type": "code",
   "execution_count": null,
   "id": "d9960b08",
   "metadata": {},
   "outputs": [],
   "source": [
    "# Topic: Regex\n",
    "import re\n",
    "text = 'email: test@example.com'\n",
    "print(re.findall(r'\\S+@\\S+', text))"
   ]
  },
  {
   "cell_type": "code",
   "execution_count": null,
   "id": "f836ea12",
   "metadata": {},
   "outputs": [],
   "source": [
    "# Topic: Decorators\n",
    "def log(func):\n",
    " def wrapper():\n",
    "  print('Call')\n",
    "  func()\n",
    " return wrapper\n",
    "@log\n",
    "def say(): print('Hi')\n",
    "say()"
   ]
  },
  {
   "cell_type": "code",
   "execution_count": null,
   "id": "77414725",
   "metadata": {},
   "outputs": [],
   "source": [
    "# Topic: JSON & CSV\n",
    "import json\n",
    "data = {'a': 1}\n",
    "print(json.dumps(data))"
   ]
  },
  {
   "cell_type": "code",
   "execution_count": null,
   "id": "d86c9494",
   "metadata": {},
   "outputs": [],
   "source": [
    "# Topic: Basic ML\n",
    "from sklearn.linear_model import LinearRegression\n",
    "model = LinearRegression()\n",
    "print(model)"
   ]
  },
  {
   "cell_type": "code",
   "execution_count": null,
   "id": "32a94746",
   "metadata": {},
   "outputs": [],
   "source": [
    "# Topic: Basic ML\n",
    "from sklearn.linear_model import LinearRegression\n",
    "model = LinearRegression()\n",
    "print(model)"
   ]
  },
  {
   "cell_type": "code",
   "execution_count": null,
   "id": "98f0a338",
   "metadata": {},
   "outputs": [],
   "source": [
    "# Topic: Pandas\n",
    "import pandas as pd\n",
    "df = pd.DataFrame({'A':[1,2],'B':[3,4]})\n",
    "print(df)"
   ]
  },
  {
   "cell_type": "code",
   "execution_count": null,
   "id": "a14fac15",
   "metadata": {},
   "outputs": [],
   "source": [
    "# Topic: Mini Projects\n",
    "# Calculator\n",
    "def calc(a,b,op): return eval(f'{a}{op}{b}')\n",
    "print(calc(5,2,'+'))"
   ]
  },
  {
   "cell_type": "code",
   "execution_count": null,
   "id": "2fb9cdcd",
   "metadata": {},
   "outputs": [],
   "source": [
    "# Topic: Algorithms\n",
    "# Bubble sort\n",
    "def bubble(arr):\n",
    " for i in range(len(arr)):\n",
    "  for j in range(0, len(arr)-i-1):\n",
    "   if arr[j]>arr[j+1]: arr[j],arr[j+1]=arr[j+1],arr[j]\n",
    "a=[5,3,8]\n",
    "bubble(a)\n",
    "print(a)"
   ]
  },
  {
   "cell_type": "code",
   "execution_count": null,
   "id": "7519309a",
   "metadata": {},
   "outputs": [],
   "source": [
    "# Topic: Recursion\n",
    "def fact(n): return 1 if n==0 else n*fact(n-1)\n",
    "print(fact(5))"
   ]
  },
  {
   "cell_type": "code",
   "execution_count": null,
   "id": "6d96e7f7",
   "metadata": {},
   "outputs": [],
   "source": [
    "# Topic: CLI Tools\n",
    "import sys\n",
    "print(f'Arguments: {sys.argv}')"
   ]
  },
  {
   "cell_type": "code",
   "execution_count": null,
   "id": "efff7fa5",
   "metadata": {},
   "outputs": [],
   "source": [
    "# Topic: Functions\n",
    "def greet(name='User'):\n",
    "    print(f'Hi, {name}')\n",
    "greet()"
   ]
  },
  {
   "cell_type": "code",
   "execution_count": null,
   "id": "e2fd5d42",
   "metadata": {},
   "outputs": [],
   "source": [
    "# Topic: Decorators\n",
    "def log(func):\n",
    " def wrapper():\n",
    "  print('Call')\n",
    "  func()\n",
    " return wrapper\n",
    "@log\n",
    "def say(): print('Hi')\n",
    "say()"
   ]
  },
  {
   "cell_type": "code",
   "execution_count": null,
   "id": "93e789fb",
   "metadata": {},
   "outputs": [],
   "source": [
    "# Topic: Basic ML\n",
    "from sklearn.linear_model import LinearRegression\n",
    "model = LinearRegression()\n",
    "print(model)"
   ]
  },
  {
   "cell_type": "code",
   "execution_count": null,
   "id": "263fe759",
   "metadata": {},
   "outputs": [],
   "source": [
    "# Topic: File I/O\n",
    "with open('test.txt', 'w') as f:\n",
    "    f.write('Hello World')"
   ]
  },
  {
   "cell_type": "code",
   "execution_count": null,
   "id": "216db06c",
   "metadata": {},
   "outputs": [],
   "source": [
    "# Topic: Basics\n",
    "name = 'Fahd'\n",
    "print(f'Hello, {name}')"
   ]
  },
  {
   "cell_type": "code",
   "execution_count": null,
   "id": "ddbfecf0",
   "metadata": {},
   "outputs": [],
   "source": [
    "# Topic: Algorithms\n",
    "# Bubble sort\n",
    "def bubble(arr):\n",
    " for i in range(len(arr)):\n",
    "  for j in range(0, len(arr)-i-1):\n",
    "   if arr[j]>arr[j+1]: arr[j],arr[j+1]=arr[j+1],arr[j]\n",
    "a=[5,3,8]\n",
    "bubble(a)\n",
    "print(a)"
   ]
  },
  {
   "cell_type": "code",
   "execution_count": null,
   "id": "26e020ae",
   "metadata": {},
   "outputs": [],
   "source": [
    "# Topic: File I/O\n",
    "with open('test.txt', 'r') as f:\n",
    "    print(f.read())"
   ]
  },
  {
   "cell_type": "code",
   "execution_count": null,
   "id": "015b32e7",
   "metadata": {},
   "outputs": [],
   "source": [
    "# Topic: Data Cleaning\n",
    "import pandas as pd\n",
    "df = pd.DataFrame({'A':[1,None,3]})\n",
    "df = df.fillna(0)\n",
    "print(df)"
   ]
  },
  {
   "cell_type": "code",
   "execution_count": null,
   "id": "f606fbe7",
   "metadata": {},
   "outputs": [],
   "source": [
    "# Topic: JSON & CSV\n",
    "import csv\n",
    "with open('file.csv', 'w', newline='') as f:\n",
    " csv.writer(f).writerow(['a','b','c'])"
   ]
  },
  {
   "cell_type": "code",
   "execution_count": null,
   "id": "b848ce03",
   "metadata": {},
   "outputs": [],
   "source": [
    "# Topic: Recursion\n",
    "def fact(n): return 1 if n==0 else n*fact(n-1)\n",
    "print(fact(5))"
   ]
  },
  {
   "cell_type": "code",
   "execution_count": null,
   "id": "401eb65b",
   "metadata": {},
   "outputs": [],
   "source": [
    "# Topic: Recursion\n",
    "def fact(n): return 1 if n==0 else n*fact(n-1)\n",
    "print(fact(5))"
   ]
  },
  {
   "cell_type": "code",
   "execution_count": null,
   "id": "208a7452",
   "metadata": {},
   "outputs": [],
   "source": [
    "# Topic: CLI Tools\n",
    "import sys\n",
    "print(f'Arguments: {sys.argv}')"
   ]
  },
  {
   "cell_type": "code",
   "execution_count": null,
   "id": "937075cb",
   "metadata": {},
   "outputs": [],
   "source": [
    "# Topic: Algorithms\n",
    "# Bubble sort\n",
    "def bubble(arr):\n",
    " for i in range(len(arr)):\n",
    "  for j in range(0, len(arr)-i-1):\n",
    "   if arr[j]>arr[j+1]: arr[j],arr[j+1]=arr[j+1],arr[j]\n",
    "a=[5,3,8]\n",
    "bubble(a)\n",
    "print(a)"
   ]
  },
  {
   "cell_type": "code",
   "execution_count": null,
   "id": "e1d497cd",
   "metadata": {},
   "outputs": [],
   "source": [
    "# Topic: File I/O\n",
    "with open('test.txt', 'w') as f:\n",
    "    f.write('Hello World')"
   ]
  },
  {
   "cell_type": "code",
   "execution_count": null,
   "id": "1c1229cc",
   "metadata": {},
   "outputs": [],
   "source": [
    "# Topic: Functions\n",
    "def greet(name='User'):\n",
    "    print(f'Hi, {name}')\n",
    "greet()"
   ]
  },
  {
   "cell_type": "code",
   "execution_count": null,
   "id": "c4826a23",
   "metadata": {},
   "outputs": [],
   "source": [
    "# Topic: Regex\n",
    "import re\n",
    "text = 'email: test@example.com'\n",
    "print(re.findall(r'\\S+@\\S+', text))"
   ]
  },
  {
   "cell_type": "code",
   "execution_count": null,
   "id": "572d6300",
   "metadata": {},
   "outputs": [],
   "source": [
    "# Topic: Algorithms\n",
    "# Bubble sort\n",
    "def bubble(arr):\n",
    " for i in range(len(arr)):\n",
    "  for j in range(0, len(arr)-i-1):\n",
    "   if arr[j]>arr[j+1]: arr[j],arr[j+1]=arr[j+1],arr[j]\n",
    "a=[5,3,8]\n",
    "bubble(a)\n",
    "print(a)"
   ]
  },
  {
   "cell_type": "code",
   "execution_count": null,
   "id": "801d170b",
   "metadata": {},
   "outputs": [],
   "source": [
    "# Topic: Matplotlib & Seaborn\n",
    "import matplotlib.pyplot as plt\n",
    "plt.plot([1,2],[3,4])\n",
    "plt.show()"
   ]
  },
  {
   "cell_type": "code",
   "execution_count": null,
   "id": "74fa7a54",
   "metadata": {},
   "outputs": [],
   "source": [
    "# Topic: Basic ML\n",
    "from sklearn.linear_model import LinearRegression\n",
    "model = LinearRegression()\n",
    "print(model)"
   ]
  },
  {
   "cell_type": "code",
   "execution_count": null,
   "id": "10a351dd",
   "metadata": {},
   "outputs": [],
   "source": [
    "# Topic: Pandas\n",
    "import pandas as pd\n",
    "df = pd.DataFrame({'A':[1,2],'B':[3,4]})\n",
    "print(df)"
   ]
  },
  {
   "cell_type": "code",
   "execution_count": null,
   "id": "249f2f24",
   "metadata": {},
   "outputs": [],
   "source": [
    "# Topic: Loops\n",
    "for i in range(10): print(i*i)"
   ]
  },
  {
   "cell_type": "code",
   "execution_count": null,
   "id": "51aedf7e",
   "metadata": {},
   "outputs": [],
   "source": [
    "# Topic: Data Cleaning\n",
    "import pandas as pd\n",
    "df = pd.DataFrame({'A':[1,None,3]})\n",
    "df = df.fillna(0)\n",
    "print(df)"
   ]
  },
  {
   "cell_type": "code",
   "execution_count": null,
   "id": "877e88af",
   "metadata": {},
   "outputs": [],
   "source": [
    "# Topic: CLI Tools\n",
    "import sys\n",
    "print(f'Arguments: {sys.argv}')"
   ]
  },
  {
   "cell_type": "code",
   "execution_count": null,
   "id": "c519dfdc",
   "metadata": {},
   "outputs": [],
   "source": [
    "# Topic: Mini Projects\n",
    "# Calculator\n",
    "def calc(a,b,op): return eval(f'{a}{op}{b}')\n",
    "print(calc(5,2,'+'))"
   ]
  },
  {
   "cell_type": "code",
   "execution_count": null,
   "id": "fd428a1d",
   "metadata": {},
   "outputs": [],
   "source": [
    "# Topic: Lists & Tuples\n",
    "t = (1, 2, 3)\n",
    "print(t[0])"
   ]
  },
  {
   "cell_type": "code",
   "execution_count": null,
   "id": "8e1c2465",
   "metadata": {},
   "outputs": [],
   "source": [
    "# Topic: Loops\n",
    "while True:\n",
    "    print('Break')\n",
    "    break"
   ]
  },
  {
   "cell_type": "code",
   "execution_count": null,
   "id": "474ba5d6",
   "metadata": {},
   "outputs": [],
   "source": [
    "# Topic: Web Scraping\n",
    "import requests\n",
    "from bs4 import BeautifulSoup\n",
    "r = requests.get('https://example.com')\n",
    "soup = BeautifulSoup(r.text, 'html.parser')\n",
    "print(soup.title.text)"
   ]
  },
  {
   "cell_type": "code",
   "execution_count": null,
   "id": "447177d8",
   "metadata": {},
   "outputs": [],
   "source": [
    "# Topic: JSON & CSV\n",
    "import csv\n",
    "with open('file.csv', 'w', newline='') as f:\n",
    " csv.writer(f).writerow(['a','b','c'])"
   ]
  },
  {
   "cell_type": "code",
   "execution_count": null,
   "id": "1b165681",
   "metadata": {},
   "outputs": [],
   "source": [
    "# Topic: Basic ML\n",
    "from sklearn.linear_model import LinearRegression\n",
    "model = LinearRegression()\n",
    "print(model)"
   ]
  },
  {
   "cell_type": "code",
   "execution_count": null,
   "id": "e6a1d34e",
   "metadata": {},
   "outputs": [],
   "source": [
    "# Topic: Recursion\n",
    "def fact(n): return 1 if n==0 else n*fact(n-1)\n",
    "print(fact(5))"
   ]
  },
  {
   "cell_type": "code",
   "execution_count": null,
   "id": "7e8f1ff9",
   "metadata": {},
   "outputs": [],
   "source": [
    "# Topic: Data Cleaning\n",
    "import pandas as pd\n",
    "df = pd.DataFrame({'A':[1,None,3]})\n",
    "df = df.fillna(0)\n",
    "print(df)"
   ]
  },
  {
   "cell_type": "code",
   "execution_count": null,
   "id": "6ad42506",
   "metadata": {},
   "outputs": [],
   "source": [
    "# Topic: Matplotlib & Seaborn\n",
    "import matplotlib.pyplot as plt\n",
    "plt.plot([1,2],[3,4])\n",
    "plt.show()"
   ]
  },
  {
   "cell_type": "code",
   "execution_count": null,
   "id": "b4def82c",
   "metadata": {},
   "outputs": [],
   "source": [
    "# Topic: Loops\n",
    "while True:\n",
    "    print('Break')\n",
    "    break"
   ]
  },
  {
   "cell_type": "code",
   "execution_count": null,
   "id": "8cd927cc",
   "metadata": {},
   "outputs": [],
   "source": [
    "# Topic: Algorithms\n",
    "# Bubble sort\n",
    "def bubble(arr):\n",
    " for i in range(len(arr)):\n",
    "  for j in range(0, len(arr)-i-1):\n",
    "   if arr[j]>arr[j+1]: arr[j],arr[j+1]=arr[j+1],arr[j]\n",
    "a=[5,3,8]\n",
    "bubble(a)\n",
    "print(a)"
   ]
  },
  {
   "cell_type": "code",
   "execution_count": null,
   "id": "fa537859",
   "metadata": {},
   "outputs": [],
   "source": [
    "# Topic: Basics\n",
    "x = 10\n",
    "y = 20\n",
    "print(x + y)"
   ]
  },
  {
   "cell_type": "code",
   "execution_count": null,
   "id": "23d39cb3",
   "metadata": {},
   "outputs": [],
   "source": [
    "# Topic: Basic ML\n",
    "from sklearn.linear_model import LinearRegression\n",
    "model = LinearRegression()\n",
    "print(model)"
   ]
  },
  {
   "cell_type": "code",
   "execution_count": null,
   "id": "0e166205",
   "metadata": {},
   "outputs": [],
   "source": [
    "# Topic: CLI Tools\n",
    "import sys\n",
    "print(f'Arguments: {sys.argv}')"
   ]
  },
  {
   "cell_type": "code",
   "execution_count": null,
   "id": "9e0a1bfb",
   "metadata": {},
   "outputs": [],
   "source": [
    "# Topic: Basic ML\n",
    "from sklearn.linear_model import LinearRegression\n",
    "model = LinearRegression()\n",
    "print(model)"
   ]
  },
  {
   "cell_type": "code",
   "execution_count": null,
   "id": "0bdaca07",
   "metadata": {},
   "outputs": [],
   "source": [
    "# Topic: Lists & Tuples\n",
    "lst = [1, 2, 3]\n",
    "lst.append(4)\n",
    "print(lst)"
   ]
  },
  {
   "cell_type": "code",
   "execution_count": null,
   "id": "7d1b89d0",
   "metadata": {},
   "outputs": [],
   "source": [
    "# Topic: Dictionaries & Sets\n",
    "d = {'name': 'Fahd', 'age': 20}\n",
    "print(d.get('name'))"
   ]
  },
  {
   "cell_type": "code",
   "execution_count": null,
   "id": "36c3e488",
   "metadata": {},
   "outputs": [],
   "source": [
    "# Topic: Algorithms\n",
    "# Bubble sort\n",
    "def bubble(arr):\n",
    " for i in range(len(arr)):\n",
    "  for j in range(0, len(arr)-i-1):\n",
    "   if arr[j]>arr[j+1]: arr[j],arr[j+1]=arr[j+1],arr[j]\n",
    "a=[5,3,8]\n",
    "bubble(a)\n",
    "print(a)"
   ]
  },
  {
   "cell_type": "code",
   "execution_count": null,
   "id": "174af8b0",
   "metadata": {},
   "outputs": [],
   "source": [
    "# Topic: OOP\n",
    "class Student:\n",
    "    def __init__(self, name): self.name = name\n",
    "s = Student('Fahd')\n",
    "print(s.name)"
   ]
  },
  {
   "cell_type": "code",
   "execution_count": null,
   "id": "83de03ce",
   "metadata": {},
   "outputs": [],
   "source": [
    "# Topic: Data Cleaning\n",
    "import pandas as pd\n",
    "df = pd.DataFrame({'A':[1,None,3]})\n",
    "df = df.fillna(0)\n",
    "print(df)"
   ]
  },
  {
   "cell_type": "code",
   "execution_count": null,
   "id": "7e0a0189",
   "metadata": {},
   "outputs": [],
   "source": [
    "# Topic: Matplotlib & Seaborn\n",
    "import matplotlib.pyplot as plt\n",
    "plt.plot([1,2],[3,4])\n",
    "plt.show()"
   ]
  },
  {
   "cell_type": "code",
   "execution_count": null,
   "id": "30f00b64",
   "metadata": {},
   "outputs": [],
   "source": [
    "# Topic: Loops\n",
    "for i in range(10): print(i*i)"
   ]
  },
  {
   "cell_type": "code",
   "execution_count": null,
   "id": "265e676d",
   "metadata": {},
   "outputs": [],
   "source": [
    "# Topic: Matplotlib & Seaborn\n",
    "import matplotlib.pyplot as plt\n",
    "plt.plot([1,2],[3,4])\n",
    "plt.show()"
   ]
  },
  {
   "cell_type": "code",
   "execution_count": null,
   "id": "66dec2a0",
   "metadata": {},
   "outputs": [],
   "source": [
    "# Topic: Basics\n",
    "x = 10\n",
    "y = 20\n",
    "print(x + y)"
   ]
  },
  {
   "cell_type": "code",
   "execution_count": null,
   "id": "17ccf914",
   "metadata": {},
   "outputs": [],
   "source": [
    "# Topic: Matplotlib & Seaborn\n",
    "import matplotlib.pyplot as plt\n",
    "plt.plot([1,2],[3,4])\n",
    "plt.show()"
   ]
  },
  {
   "cell_type": "code",
   "execution_count": null,
   "id": "789b65d7",
   "metadata": {},
   "outputs": [],
   "source": [
    "# Topic: Regex\n",
    "import re\n",
    "text = 'email: test@example.com'\n",
    "print(re.findall(r'\\S+@\\S+', text))"
   ]
  },
  {
   "cell_type": "code",
   "execution_count": null,
   "id": "3e13d491",
   "metadata": {},
   "outputs": [],
   "source": [
    "# Topic: Loops\n",
    "while True:\n",
    "    print('Break')\n",
    "    break"
   ]
  },
  {
   "cell_type": "code",
   "execution_count": null,
   "id": "df0d4fb3",
   "metadata": {},
   "outputs": [],
   "source": [
    "# Topic: Pandas\n",
    "import pandas as pd\n",
    "df = pd.DataFrame({'A':[1,2],'B':[3,4]})\n",
    "print(df)"
   ]
  },
  {
   "cell_type": "code",
   "execution_count": null,
   "id": "47fadfd9",
   "metadata": {},
   "outputs": [],
   "source": [
    "# Topic: Pandas\n",
    "import pandas as pd\n",
    "df = pd.read_csv('file.csv')\n",
    "print(df.head())"
   ]
  },
  {
   "cell_type": "code",
   "execution_count": null,
   "id": "0724bec9",
   "metadata": {},
   "outputs": [],
   "source": [
    "# Topic: File I/O\n",
    "with open('test.txt', 'w') as f:\n",
    "    f.write('Hello World')"
   ]
  },
  {
   "cell_type": "code",
   "execution_count": null,
   "id": "6879474d",
   "metadata": {},
   "outputs": [],
   "source": [
    "# Topic: Data Cleaning\n",
    "import pandas as pd\n",
    "df = pd.DataFrame({'A':[1,None,3]})\n",
    "df = df.fillna(0)\n",
    "print(df)"
   ]
  },
  {
   "cell_type": "code",
   "execution_count": null,
   "id": "aa3c2ef9",
   "metadata": {},
   "outputs": [],
   "source": [
    "# Topic: Algorithms\n",
    "# Bubble sort\n",
    "def bubble(arr):\n",
    " for i in range(len(arr)):\n",
    "  for j in range(0, len(arr)-i-1):\n",
    "   if arr[j]>arr[j+1]: arr[j],arr[j+1]=arr[j+1],arr[j]\n",
    "a=[5,3,8]\n",
    "bubble(a)\n",
    "print(a)"
   ]
  },
  {
   "cell_type": "code",
   "execution_count": null,
   "id": "cf5c8065",
   "metadata": {},
   "outputs": [],
   "source": [
    "# Topic: File I/O\n",
    "with open('test.txt', 'w') as f:\n",
    "    f.write('Hello World')"
   ]
  },
  {
   "cell_type": "code",
   "execution_count": null,
   "id": "0b574a76",
   "metadata": {},
   "outputs": [],
   "source": [
    "# Topic: Regex\n",
    "import re\n",
    "text = 'email: test@example.com'\n",
    "print(re.findall(r'\\S+@\\S+', text))"
   ]
  },
  {
   "cell_type": "code",
   "execution_count": null,
   "id": "17c3d4b6",
   "metadata": {},
   "outputs": [],
   "source": [
    "# Topic: File I/O\n",
    "with open('test.txt', 'r') as f:\n",
    "    print(f.read())"
   ]
  },
  {
   "cell_type": "code",
   "execution_count": null,
   "id": "cb25d868",
   "metadata": {},
   "outputs": [],
   "source": [
    "# Topic: Decorators\n",
    "def log(func):\n",
    " def wrapper():\n",
    "  print('Call')\n",
    "  func()\n",
    " return wrapper\n",
    "@log\n",
    "def say(): print('Hi')\n",
    "say()"
   ]
  },
  {
   "cell_type": "code",
   "execution_count": null,
   "id": "a883dd3a",
   "metadata": {},
   "outputs": [],
   "source": [
    "# Topic: OOP\n",
    "class Student:\n",
    "    def __init__(self, name): self.name = name\n",
    "s = Student('Fahd')\n",
    "print(s.name)"
   ]
  },
  {
   "cell_type": "code",
   "execution_count": null,
   "id": "a63426c0",
   "metadata": {},
   "outputs": [],
   "source": [
    "# Topic: NumPy\n",
    "import numpy as np\n",
    "a = np.array([1, 2, 3])\n",
    "print(a + 5)"
   ]
  },
  {
   "cell_type": "code",
   "execution_count": null,
   "id": "357957b4",
   "metadata": {},
   "outputs": [],
   "source": [
    "# Topic: Regex\n",
    "import re\n",
    "text = 'email: test@example.com'\n",
    "print(re.findall(r'\\S+@\\S+', text))"
   ]
  },
  {
   "cell_type": "code",
   "execution_count": null,
   "id": "0c2c08c8",
   "metadata": {},
   "outputs": [],
   "source": [
    "# Topic: Matplotlib & Seaborn\n",
    "import matplotlib.pyplot as plt\n",
    "plt.plot([1,2],[3,4])\n",
    "plt.show()"
   ]
  },
  {
   "cell_type": "code",
   "execution_count": null,
   "id": "1164c5da",
   "metadata": {},
   "outputs": [],
   "source": [
    "# Topic: Dictionaries & Sets\n",
    "d = {'name': 'Fahd', 'age': 20}\n",
    "print(d.get('name'))"
   ]
  },
  {
   "cell_type": "code",
   "execution_count": null,
   "id": "ab135cf1",
   "metadata": {},
   "outputs": [],
   "source": [
    "# Topic: Algorithms\n",
    "# Bubble sort\n",
    "def bubble(arr):\n",
    " for i in range(len(arr)):\n",
    "  for j in range(0, len(arr)-i-1):\n",
    "   if arr[j]>arr[j+1]: arr[j],arr[j+1]=arr[j+1],arr[j]\n",
    "a=[5,3,8]\n",
    "bubble(a)\n",
    "print(a)"
   ]
  },
  {
   "cell_type": "code",
   "execution_count": null,
   "id": "5baeeca6",
   "metadata": {},
   "outputs": [],
   "source": [
    "# Topic: Basics\n",
    "name = 'Fahd'\n",
    "print(f'Hello, {name}')"
   ]
  },
  {
   "cell_type": "code",
   "execution_count": null,
   "id": "2886dd55",
   "metadata": {},
   "outputs": [],
   "source": [
    "# Topic: JSON & CSV\n",
    "import csv\n",
    "with open('file.csv', 'w', newline='') as f:\n",
    " csv.writer(f).writerow(['a','b','c'])"
   ]
  },
  {
   "cell_type": "code",
   "execution_count": null,
   "id": "f994256c",
   "metadata": {},
   "outputs": [],
   "source": [
    "# Topic: Mini Projects\n",
    "# Calculator\n",
    "def calc(a,b,op): return eval(f'{a}{op}{b}')\n",
    "print(calc(5,2,'+'))"
   ]
  },
  {
   "cell_type": "code",
   "execution_count": null,
   "id": "4f90c0fc",
   "metadata": {},
   "outputs": [],
   "source": [
    "# Topic: Decorators\n",
    "def log(func):\n",
    " def wrapper():\n",
    "  print('Call')\n",
    "  func()\n",
    " return wrapper\n",
    "@log\n",
    "def say(): print('Hi')\n",
    "say()"
   ]
  },
  {
   "cell_type": "code",
   "execution_count": null,
   "id": "003d69aa",
   "metadata": {},
   "outputs": [],
   "source": [
    "# Topic: Algorithms\n",
    "# Bubble sort\n",
    "def bubble(arr):\n",
    " for i in range(len(arr)):\n",
    "  for j in range(0, len(arr)-i-1):\n",
    "   if arr[j]>arr[j+1]: arr[j],arr[j+1]=arr[j+1],arr[j]\n",
    "a=[5,3,8]\n",
    "bubble(a)\n",
    "print(a)"
   ]
  },
  {
   "cell_type": "code",
   "execution_count": null,
   "id": "a4bc5e82",
   "metadata": {},
   "outputs": [],
   "source": [
    "# Topic: Decorators\n",
    "def log(func):\n",
    " def wrapper():\n",
    "  print('Call')\n",
    "  func()\n",
    " return wrapper\n",
    "@log\n",
    "def say(): print('Hi')\n",
    "say()"
   ]
  },
  {
   "cell_type": "code",
   "execution_count": null,
   "id": "ac84ab3d",
   "metadata": {},
   "outputs": [],
   "source": [
    "# Topic: Functions\n",
    "def greet(name='User'):\n",
    "    print(f'Hi, {name}')\n",
    "greet()"
   ]
  },
  {
   "cell_type": "code",
   "execution_count": null,
   "id": "88063ce6",
   "metadata": {},
   "outputs": [],
   "source": [
    "# Topic: Web Scraping\n",
    "import requests\n",
    "from bs4 import BeautifulSoup\n",
    "r = requests.get('https://example.com')\n",
    "soup = BeautifulSoup(r.text, 'html.parser')\n",
    "print(soup.title.text)"
   ]
  },
  {
   "cell_type": "code",
   "execution_count": null,
   "id": "49d3ece6",
   "metadata": {},
   "outputs": [],
   "source": [
    "# Topic: Mini Projects\n",
    "# Palindrome check\n",
    "def is_pal(s): return s == s[::-1]\n",
    "print(is_pal('madam'))"
   ]
  },
  {
   "cell_type": "code",
   "execution_count": null,
   "id": "33a72c5a",
   "metadata": {},
   "outputs": [],
   "source": [
    "# Topic: Mini Projects\n",
    "# Calculator\n",
    "def calc(a,b,op): return eval(f'{a}{op}{b}')\n",
    "print(calc(5,2,'+'))"
   ]
  },
  {
   "cell_type": "code",
   "execution_count": null,
   "id": "c8539b43",
   "metadata": {},
   "outputs": [],
   "source": [
    "# Topic: Recursion\n",
    "def fact(n): return 1 if n==0 else n*fact(n-1)\n",
    "print(fact(5))"
   ]
  },
  {
   "cell_type": "code",
   "execution_count": null,
   "id": "74ca4193",
   "metadata": {},
   "outputs": [],
   "source": [
    "# Topic: Basic ML\n",
    "from sklearn.linear_model import LinearRegression\n",
    "model = LinearRegression()\n",
    "print(model)"
   ]
  },
  {
   "cell_type": "code",
   "execution_count": null,
   "id": "41e1a375",
   "metadata": {},
   "outputs": [],
   "source": [
    "# Topic: Basics\n",
    "x = 10\n",
    "y = 20\n",
    "print(x + y)"
   ]
  },
  {
   "cell_type": "code",
   "execution_count": null,
   "id": "fe5e5f2c",
   "metadata": {},
   "outputs": [],
   "source": [
    "# Topic: Basic ML\n",
    "from sklearn.linear_model import LinearRegression\n",
    "model = LinearRegression()\n",
    "print(model)"
   ]
  },
  {
   "cell_type": "code",
   "execution_count": null,
   "id": "e4d8a9b0",
   "metadata": {},
   "outputs": [],
   "source": [
    "# Topic: Basics\n",
    "x = 10\n",
    "y = 20\n",
    "print(x + y)"
   ]
  },
  {
   "cell_type": "code",
   "execution_count": null,
   "id": "7504f66a",
   "metadata": {},
   "outputs": [],
   "source": [
    "# Topic: CLI Tools\n",
    "import sys\n",
    "print(f'Arguments: {sys.argv}')"
   ]
  },
  {
   "cell_type": "code",
   "execution_count": null,
   "id": "0ddba12b",
   "metadata": {},
   "outputs": [],
   "source": [
    "# Topic: JSON & CSV\n",
    "import csv\n",
    "with open('file.csv', 'w', newline='') as f:\n",
    " csv.writer(f).writerow(['a','b','c'])"
   ]
  },
  {
   "cell_type": "code",
   "execution_count": null,
   "id": "1be50820",
   "metadata": {},
   "outputs": [],
   "source": [
    "# Topic: File I/O\n",
    "with open('test.txt', 'w') as f:\n",
    "    f.write('Hello World')"
   ]
  },
  {
   "cell_type": "code",
   "execution_count": null,
   "id": "eb64a069",
   "metadata": {},
   "outputs": [],
   "source": [
    "# Topic: Dictionaries & Sets\n",
    "s = set([1, 2, 3, 2])\n",
    "print(s)"
   ]
  },
  {
   "cell_type": "code",
   "execution_count": null,
   "id": "81dcdd4d",
   "metadata": {},
   "outputs": [],
   "source": [
    "# Topic: Basic ML\n",
    "from sklearn.linear_model import LinearRegression\n",
    "model = LinearRegression()\n",
    "print(model)"
   ]
  },
  {
   "cell_type": "code",
   "execution_count": null,
   "id": "09156f1a",
   "metadata": {},
   "outputs": [],
   "source": [
    "# Topic: Functions\n",
    "def square(x): return x*x\n",
    "print(square(5))"
   ]
  },
  {
   "cell_type": "code",
   "execution_count": null,
   "id": "8711ff8e",
   "metadata": {},
   "outputs": [],
   "source": [
    "# Topic: Basic ML\n",
    "from sklearn.linear_model import LinearRegression\n",
    "model = LinearRegression()\n",
    "print(model)"
   ]
  },
  {
   "cell_type": "code",
   "execution_count": null,
   "id": "a10a4f99",
   "metadata": {},
   "outputs": [],
   "source": [
    "# Topic: Pandas\n",
    "import pandas as pd\n",
    "df = pd.DataFrame({'A':[1,2],'B':[3,4]})\n",
    "print(df)"
   ]
  },
  {
   "cell_type": "code",
   "execution_count": null,
   "id": "a4c8f7e4",
   "metadata": {},
   "outputs": [],
   "source": [
    "# Topic: Mini Projects\n",
    "# Calculator\n",
    "def calc(a,b,op): return eval(f'{a}{op}{b}')\n",
    "print(calc(5,2,'+'))"
   ]
  },
  {
   "cell_type": "code",
   "execution_count": null,
   "id": "929fee77",
   "metadata": {},
   "outputs": [],
   "source": [
    "# Topic: Mini Projects\n",
    "# Palindrome check\n",
    "def is_pal(s): return s == s[::-1]\n",
    "print(is_pal('madam'))"
   ]
  },
  {
   "cell_type": "code",
   "execution_count": null,
   "id": "b83f8952",
   "metadata": {},
   "outputs": [],
   "source": [
    "# Topic: Lists & Tuples\n",
    "lst = [1, 2, 3]\n",
    "lst.append(4)\n",
    "print(lst)"
   ]
  },
  {
   "cell_type": "code",
   "execution_count": null,
   "id": "dbad9a31",
   "metadata": {},
   "outputs": [],
   "source": [
    "# Topic: JSON & CSV\n",
    "import json\n",
    "data = {'a': 1}\n",
    "print(json.dumps(data))"
   ]
  },
  {
   "cell_type": "code",
   "execution_count": null,
   "id": "1aeff583",
   "metadata": {},
   "outputs": [],
   "source": [
    "# Topic: Web Scraping\n",
    "import requests\n",
    "from bs4 import BeautifulSoup\n",
    "r = requests.get('https://example.com')\n",
    "soup = BeautifulSoup(r.text, 'html.parser')\n",
    "print(soup.title.text)"
   ]
  },
  {
   "cell_type": "code",
   "execution_count": null,
   "id": "e734f22a",
   "metadata": {},
   "outputs": [],
   "source": [
    "# Topic: Decorators\n",
    "def log(func):\n",
    " def wrapper():\n",
    "  print('Call')\n",
    "  func()\n",
    " return wrapper\n",
    "@log\n",
    "def say(): print('Hi')\n",
    "say()"
   ]
  },
  {
   "cell_type": "code",
   "execution_count": null,
   "id": "07f26dc3",
   "metadata": {},
   "outputs": [],
   "source": [
    "# Topic: Basics\n",
    "name = 'Fahd'\n",
    "print(f'Hello, {name}')"
   ]
  },
  {
   "cell_type": "code",
   "execution_count": null,
   "id": "ab703c9b",
   "metadata": {},
   "outputs": [],
   "source": [
    "# Topic: Decorators\n",
    "def log(func):\n",
    " def wrapper():\n",
    "  print('Call')\n",
    "  func()\n",
    " return wrapper\n",
    "@log\n",
    "def say(): print('Hi')\n",
    "say()"
   ]
  },
  {
   "cell_type": "code",
   "execution_count": null,
   "id": "e674b4a8",
   "metadata": {},
   "outputs": [],
   "source": [
    "# Topic: Functions\n",
    "def greet(name='User'):\n",
    "    print(f'Hi, {name}')\n",
    "greet()"
   ]
  },
  {
   "cell_type": "code",
   "execution_count": null,
   "id": "22a2f256",
   "metadata": {},
   "outputs": [],
   "source": [
    "# Topic: OOP\n",
    "class Student:\n",
    "    def __init__(self, name): self.name = name\n",
    "s = Student('Fahd')\n",
    "print(s.name)"
   ]
  },
  {
   "cell_type": "code",
   "execution_count": null,
   "id": "63266626",
   "metadata": {},
   "outputs": [],
   "source": [
    "# Topic: Basics\n",
    "name = 'Fahd'\n",
    "print(f'Hello, {name}')"
   ]
  },
  {
   "cell_type": "code",
   "execution_count": null,
   "id": "2045d649",
   "metadata": {},
   "outputs": [],
   "source": [
    "# Topic: Loops\n",
    "for i in range(10): print(i*i)"
   ]
  },
  {
   "cell_type": "code",
   "execution_count": null,
   "id": "c68d7de2",
   "metadata": {},
   "outputs": [],
   "source": [
    "# Topic: Dictionaries & Sets\n",
    "d = {'name': 'Fahd', 'age': 20}\n",
    "print(d.get('name'))"
   ]
  },
  {
   "cell_type": "code",
   "execution_count": null,
   "id": "dde07b8b",
   "metadata": {},
   "outputs": [],
   "source": [
    "# Topic: Pandas\n",
    "import pandas as pd\n",
    "df = pd.read_csv('file.csv')\n",
    "print(df.head())"
   ]
  },
  {
   "cell_type": "code",
   "execution_count": null,
   "id": "859d85e1",
   "metadata": {},
   "outputs": [],
   "source": [
    "# Topic: Loops\n",
    "for i in range(10): print(i*i)"
   ]
  },
  {
   "cell_type": "code",
   "execution_count": null,
   "id": "a53233fe",
   "metadata": {},
   "outputs": [],
   "source": [
    "# Topic: File I/O\n",
    "with open('test.txt', 'r') as f:\n",
    "    print(f.read())"
   ]
  },
  {
   "cell_type": "code",
   "execution_count": null,
   "id": "e00c6ced",
   "metadata": {},
   "outputs": [],
   "source": [
    "# Topic: Functions\n",
    "def greet(name='User'):\n",
    "    print(f'Hi, {name}')\n",
    "greet()"
   ]
  },
  {
   "cell_type": "code",
   "execution_count": null,
   "id": "e4d1704f",
   "metadata": {},
   "outputs": [],
   "source": [
    "# Topic: File I/O\n",
    "with open('test.txt', 'r') as f:\n",
    "    print(f.read())"
   ]
  },
  {
   "cell_type": "code",
   "execution_count": null,
   "id": "0cfe5f76",
   "metadata": {},
   "outputs": [],
   "source": [
    "# Topic: JSON & CSV\n",
    "import csv\n",
    "with open('file.csv', 'w', newline='') as f:\n",
    " csv.writer(f).writerow(['a','b','c'])"
   ]
  },
  {
   "cell_type": "code",
   "execution_count": null,
   "id": "4e62e171",
   "metadata": {},
   "outputs": [],
   "source": [
    "# Topic: Mini Projects\n",
    "# Calculator\n",
    "def calc(a,b,op): return eval(f'{a}{op}{b}')\n",
    "print(calc(5,2,'+'))"
   ]
  },
  {
   "cell_type": "code",
   "execution_count": null,
   "id": "7d4e159a",
   "metadata": {},
   "outputs": [],
   "source": [
    "# Topic: Algorithms\n",
    "# Bubble sort\n",
    "def bubble(arr):\n",
    " for i in range(len(arr)):\n",
    "  for j in range(0, len(arr)-i-1):\n",
    "   if arr[j]>arr[j+1]: arr[j],arr[j+1]=arr[j+1],arr[j]\n",
    "a=[5,3,8]\n",
    "bubble(a)\n",
    "print(a)"
   ]
  },
  {
   "cell_type": "code",
   "execution_count": null,
   "id": "895efd59",
   "metadata": {},
   "outputs": [],
   "source": [
    "# Topic: Pandas\n",
    "import pandas as pd\n",
    "df = pd.read_csv('file.csv')\n",
    "print(df.head())"
   ]
  },
  {
   "cell_type": "code",
   "execution_count": null,
   "id": "5d0e6366",
   "metadata": {},
   "outputs": [],
   "source": [
    "# Topic: OOP\n",
    "class Student:\n",
    "    def __init__(self, name): self.name = name\n",
    "s = Student('Fahd')\n",
    "print(s.name)"
   ]
  },
  {
   "cell_type": "code",
   "execution_count": null,
   "id": "1ae98e8a",
   "metadata": {},
   "outputs": [],
   "source": [
    "# Topic: Algorithms\n",
    "# Bubble sort\n",
    "def bubble(arr):\n",
    " for i in range(len(arr)):\n",
    "  for j in range(0, len(arr)-i-1):\n",
    "   if arr[j]>arr[j+1]: arr[j],arr[j+1]=arr[j+1],arr[j]\n",
    "a=[5,3,8]\n",
    "bubble(a)\n",
    "print(a)"
   ]
  },
  {
   "cell_type": "code",
   "execution_count": null,
   "id": "e8e10de9",
   "metadata": {},
   "outputs": [],
   "source": [
    "# Topic: Decorators\n",
    "def log(func):\n",
    " def wrapper():\n",
    "  print('Call')\n",
    "  func()\n",
    " return wrapper\n",
    "@log\n",
    "def say(): print('Hi')\n",
    "say()"
   ]
  },
  {
   "cell_type": "code",
   "execution_count": null,
   "id": "b2b3f95d",
   "metadata": {},
   "outputs": [],
   "source": [
    "# Topic: Matplotlib & Seaborn\n",
    "import matplotlib.pyplot as plt\n",
    "plt.plot([1,2],[3,4])\n",
    "plt.show()"
   ]
  },
  {
   "cell_type": "code",
   "execution_count": null,
   "id": "f096d6ba",
   "metadata": {},
   "outputs": [],
   "source": [
    "# Topic: Algorithms\n",
    "# Bubble sort\n",
    "def bubble(arr):\n",
    " for i in range(len(arr)):\n",
    "  for j in range(0, len(arr)-i-1):\n",
    "   if arr[j]>arr[j+1]: arr[j],arr[j+1]=arr[j+1],arr[j]\n",
    "a=[5,3,8]\n",
    "bubble(a)\n",
    "print(a)"
   ]
  },
  {
   "cell_type": "code",
   "execution_count": null,
   "id": "17d090b6",
   "metadata": {},
   "outputs": [],
   "source": [
    "# Topic: Web Scraping\n",
    "import requests\n",
    "from bs4 import BeautifulSoup\n",
    "r = requests.get('https://example.com')\n",
    "soup = BeautifulSoup(r.text, 'html.parser')\n",
    "print(soup.title.text)"
   ]
  },
  {
   "cell_type": "code",
   "execution_count": null,
   "id": "142ab7e4",
   "metadata": {},
   "outputs": [],
   "source": [
    "# Topic: Basic ML\n",
    "from sklearn.linear_model import LinearRegression\n",
    "model = LinearRegression()\n",
    "print(model)"
   ]
  },
  {
   "cell_type": "code",
   "execution_count": null,
   "id": "5f2c9de1",
   "metadata": {},
   "outputs": [],
   "source": [
    "# Topic: Regex\n",
    "import re\n",
    "text = 'email: test@example.com'\n",
    "print(re.findall(r'\\S+@\\S+', text))"
   ]
  },
  {
   "cell_type": "code",
   "execution_count": null,
   "id": "6a0a038a",
   "metadata": {},
   "outputs": [],
   "source": [
    "# Topic: JSON & CSV\n",
    "import json\n",
    "data = {'a': 1}\n",
    "print(json.dumps(data))"
   ]
  },
  {
   "cell_type": "code",
   "execution_count": null,
   "id": "c95c5179",
   "metadata": {},
   "outputs": [],
   "source": [
    "# Topic: Mini Projects\n",
    "# Calculator\n",
    "def calc(a,b,op): return eval(f'{a}{op}{b}')\n",
    "print(calc(5,2,'+'))"
   ]
  },
  {
   "cell_type": "code",
   "execution_count": null,
   "id": "01be1b70",
   "metadata": {},
   "outputs": [],
   "source": [
    "# Topic: JSON & CSV\n",
    "import csv\n",
    "with open('file.csv', 'w', newline='') as f:\n",
    " csv.writer(f).writerow(['a','b','c'])"
   ]
  },
  {
   "cell_type": "code",
   "execution_count": null,
   "id": "d30d0f3c",
   "metadata": {},
   "outputs": [],
   "source": [
    "# Topic: NumPy\n",
    "import numpy as np\n",
    "a = np.array([1, 2, 3])\n",
    "print(a + 5)"
   ]
  },
  {
   "cell_type": "code",
   "execution_count": null,
   "id": "48b1d541",
   "metadata": {},
   "outputs": [],
   "source": [
    "# Topic: Decorators\n",
    "def log(func):\n",
    " def wrapper():\n",
    "  print('Call')\n",
    "  func()\n",
    " return wrapper\n",
    "@log\n",
    "def say(): print('Hi')\n",
    "say()"
   ]
  },
  {
   "cell_type": "code",
   "execution_count": null,
   "id": "bff35b1d",
   "metadata": {},
   "outputs": [],
   "source": [
    "# Topic: Web Scraping\n",
    "import requests\n",
    "from bs4 import BeautifulSoup\n",
    "r = requests.get('https://example.com')\n",
    "soup = BeautifulSoup(r.text, 'html.parser')\n",
    "print(soup.title.text)"
   ]
  },
  {
   "cell_type": "code",
   "execution_count": null,
   "id": "6e1193ae",
   "metadata": {},
   "outputs": [],
   "source": [
    "# Topic: JSON & CSV\n",
    "import csv\n",
    "with open('file.csv', 'w', newline='') as f:\n",
    " csv.writer(f).writerow(['a','b','c'])"
   ]
  },
  {
   "cell_type": "code",
   "execution_count": null,
   "id": "55c065f5",
   "metadata": {},
   "outputs": [],
   "source": [
    "# Topic: Lists & Tuples\n",
    "lst = [1, 2, 3]\n",
    "lst.append(4)\n",
    "print(lst)"
   ]
  },
  {
   "cell_type": "code",
   "execution_count": null,
   "id": "a4f35c74",
   "metadata": {},
   "outputs": [],
   "source": [
    "# Topic: File I/O\n",
    "with open('test.txt', 'w') as f:\n",
    "    f.write('Hello World')"
   ]
  },
  {
   "cell_type": "code",
   "execution_count": null,
   "id": "68cc3ac5",
   "metadata": {},
   "outputs": [],
   "source": [
    "# Topic: JSON & CSV\n",
    "import csv\n",
    "with open('file.csv', 'w', newline='') as f:\n",
    " csv.writer(f).writerow(['a','b','c'])"
   ]
  },
  {
   "cell_type": "code",
   "execution_count": null,
   "id": "fb5099dc",
   "metadata": {},
   "outputs": [],
   "source": [
    "# Topic: OOP\n",
    "class Student:\n",
    "    def __init__(self, name): self.name = name\n",
    "s = Student('Fahd')\n",
    "print(s.name)"
   ]
  },
  {
   "cell_type": "code",
   "execution_count": null,
   "id": "6bee56b0",
   "metadata": {},
   "outputs": [],
   "source": [
    "# Topic: CLI Tools\n",
    "import sys\n",
    "print(f'Arguments: {sys.argv}')"
   ]
  },
  {
   "cell_type": "code",
   "execution_count": null,
   "id": "f41cbc4c",
   "metadata": {},
   "outputs": [],
   "source": [
    "# Topic: Matplotlib & Seaborn\n",
    "import seaborn as sns\n",
    "import pandas as pd\n",
    "sns.set()\n",
    "sns.histplot(pd.Series([1,2,2,3]));"
   ]
  },
  {
   "cell_type": "code",
   "execution_count": null,
   "id": "27a13745",
   "metadata": {},
   "outputs": [],
   "source": [
    "# Topic: Recursion\n",
    "def fact(n): return 1 if n==0 else n*fact(n-1)\n",
    "print(fact(5))"
   ]
  },
  {
   "cell_type": "code",
   "execution_count": null,
   "id": "388a8fbe",
   "metadata": {},
   "outputs": [],
   "source": [
    "# Topic: Pandas\n",
    "import pandas as pd\n",
    "df = pd.DataFrame({'A':[1,2],'B':[3,4]})\n",
    "print(df)"
   ]
  },
  {
   "cell_type": "code",
   "execution_count": null,
   "id": "1bed512b",
   "metadata": {},
   "outputs": [],
   "source": [
    "# Topic: Functions\n",
    "def square(x): return x*x\n",
    "print(square(5))"
   ]
  },
  {
   "cell_type": "code",
   "execution_count": null,
   "id": "1ddc9cac",
   "metadata": {},
   "outputs": [],
   "source": [
    "# Topic: Mini Projects\n",
    "# Palindrome check\n",
    "def is_pal(s): return s == s[::-1]\n",
    "print(is_pal('madam'))"
   ]
  },
  {
   "cell_type": "code",
   "execution_count": null,
   "id": "459d0dad",
   "metadata": {},
   "outputs": [],
   "source": [
    "# Topic: Pandas\n",
    "import pandas as pd\n",
    "df = pd.read_csv('file.csv')\n",
    "print(df.head())"
   ]
  },
  {
   "cell_type": "code",
   "execution_count": null,
   "id": "40ea603d",
   "metadata": {},
   "outputs": [],
   "source": [
    "# Topic: Data Cleaning\n",
    "import pandas as pd\n",
    "df = pd.DataFrame({'A':[1,None,3]})\n",
    "df = df.fillna(0)\n",
    "print(df)"
   ]
  },
  {
   "cell_type": "code",
   "execution_count": null,
   "id": "1d237454",
   "metadata": {},
   "outputs": [],
   "source": [
    "# Topic: Regex\n",
    "import re\n",
    "text = 'email: test@example.com'\n",
    "print(re.findall(r'\\S+@\\S+', text))"
   ]
  },
  {
   "cell_type": "code",
   "execution_count": null,
   "id": "76ee59ac",
   "metadata": {},
   "outputs": [],
   "source": [
    "# Topic: Loops\n",
    "while True:\n",
    "    print('Break')\n",
    "    break"
   ]
  },
  {
   "cell_type": "code",
   "execution_count": null,
   "id": "16a1b9b8",
   "metadata": {},
   "outputs": [],
   "source": [
    "# Topic: File I/O\n",
    "with open('test.txt', 'r') as f:\n",
    "    print(f.read())"
   ]
  },
  {
   "cell_type": "code",
   "execution_count": null,
   "id": "a8de1bf9",
   "metadata": {},
   "outputs": [],
   "source": [
    "# Topic: Data Cleaning\n",
    "import pandas as pd\n",
    "df = pd.DataFrame({'A':[1,None,3]})\n",
    "df = df.fillna(0)\n",
    "print(df)"
   ]
  },
  {
   "cell_type": "code",
   "execution_count": null,
   "id": "1da1f5c6",
   "metadata": {},
   "outputs": [],
   "source": [
    "# Topic: Functions\n",
    "def greet(name='User'):\n",
    "    print(f'Hi, {name}')\n",
    "greet()"
   ]
  },
  {
   "cell_type": "code",
   "execution_count": null,
   "id": "b50fd65f",
   "metadata": {},
   "outputs": [],
   "source": [
    "# Topic: Dictionaries & Sets\n",
    "d = {'name': 'Fahd', 'age': 20}\n",
    "print(d.get('name'))"
   ]
  },
  {
   "cell_type": "code",
   "execution_count": null,
   "id": "9c11ef33",
   "metadata": {},
   "outputs": [],
   "source": [
    "# Topic: Basic ML\n",
    "from sklearn.linear_model import LinearRegression\n",
    "model = LinearRegression()\n",
    "print(model)"
   ]
  },
  {
   "cell_type": "code",
   "execution_count": null,
   "id": "29168a98",
   "metadata": {},
   "outputs": [],
   "source": [
    "# Topic: File I/O\n",
    "with open('test.txt', 'r') as f:\n",
    "    print(f.read())"
   ]
  },
  {
   "cell_type": "code",
   "execution_count": null,
   "id": "c836ea5c",
   "metadata": {},
   "outputs": [],
   "source": [
    "# Topic: Web Scraping\n",
    "import requests\n",
    "from bs4 import BeautifulSoup\n",
    "r = requests.get('https://example.com')\n",
    "soup = BeautifulSoup(r.text, 'html.parser')\n",
    "print(soup.title.text)"
   ]
  },
  {
   "cell_type": "code",
   "execution_count": null,
   "id": "9ee959c1",
   "metadata": {},
   "outputs": [],
   "source": [
    "# Topic: Decorators\n",
    "def log(func):\n",
    " def wrapper():\n",
    "  print('Call')\n",
    "  func()\n",
    " return wrapper\n",
    "@log\n",
    "def say(): print('Hi')\n",
    "say()"
   ]
  },
  {
   "cell_type": "code",
   "execution_count": null,
   "id": "fc040221",
   "metadata": {},
   "outputs": [],
   "source": [
    "# Topic: Web Scraping\n",
    "import requests\n",
    "from bs4 import BeautifulSoup\n",
    "r = requests.get('https://example.com')\n",
    "soup = BeautifulSoup(r.text, 'html.parser')\n",
    "print(soup.title.text)"
   ]
  },
  {
   "cell_type": "code",
   "execution_count": null,
   "id": "4a4e7181",
   "metadata": {},
   "outputs": [],
   "source": [
    "# Topic: OOP\n",
    "class Student:\n",
    "    def __init__(self, name): self.name = name\n",
    "s = Student('Fahd')\n",
    "print(s.name)"
   ]
  },
  {
   "cell_type": "code",
   "execution_count": null,
   "id": "a003e205",
   "metadata": {},
   "outputs": [],
   "source": [
    "# Topic: Decorators\n",
    "def log(func):\n",
    " def wrapper():\n",
    "  print('Call')\n",
    "  func()\n",
    " return wrapper\n",
    "@log\n",
    "def say(): print('Hi')\n",
    "say()"
   ]
  },
  {
   "cell_type": "code",
   "execution_count": null,
   "id": "6ac32153",
   "metadata": {},
   "outputs": [],
   "source": [
    "# Topic: Decorators\n",
    "def log(func):\n",
    " def wrapper():\n",
    "  print('Call')\n",
    "  func()\n",
    " return wrapper\n",
    "@log\n",
    "def say(): print('Hi')\n",
    "say()"
   ]
  },
  {
   "cell_type": "code",
   "execution_count": null,
   "id": "28aa2004",
   "metadata": {},
   "outputs": [],
   "source": [
    "# Topic: OOP\n",
    "class Student:\n",
    "    def __init__(self, name): self.name = name\n",
    "s = Student('Fahd')\n",
    "print(s.name)"
   ]
  },
  {
   "cell_type": "code",
   "execution_count": null,
   "id": "bde11116",
   "metadata": {},
   "outputs": [],
   "source": [
    "# Topic: Decorators\n",
    "def log(func):\n",
    " def wrapper():\n",
    "  print('Call')\n",
    "  func()\n",
    " return wrapper\n",
    "@log\n",
    "def say(): print('Hi')\n",
    "say()"
   ]
  },
  {
   "cell_type": "code",
   "execution_count": null,
   "id": "41680d59",
   "metadata": {},
   "outputs": [],
   "source": [
    "# Topic: Matplotlib & Seaborn\n",
    "import matplotlib.pyplot as plt\n",
    "plt.plot([1,2],[3,4])\n",
    "plt.show()"
   ]
  },
  {
   "cell_type": "code",
   "execution_count": null,
   "id": "7e08b557",
   "metadata": {},
   "outputs": [],
   "source": [
    "# Topic: Lists & Tuples\n",
    "lst = [1, 2, 3]\n",
    "lst.append(4)\n",
    "print(lst)"
   ]
  },
  {
   "cell_type": "code",
   "execution_count": null,
   "id": "d290bf44",
   "metadata": {},
   "outputs": [],
   "source": [
    "# Topic: Dictionaries & Sets\n",
    "d = {'name': 'Fahd', 'age': 20}\n",
    "print(d.get('name'))"
   ]
  },
  {
   "cell_type": "code",
   "execution_count": null,
   "id": "faeea84e",
   "metadata": {},
   "outputs": [],
   "source": [
    "# Topic: Data Cleaning\n",
    "import pandas as pd\n",
    "df = pd.DataFrame({'A':[1,None,3]})\n",
    "df = df.fillna(0)\n",
    "print(df)"
   ]
  },
  {
   "cell_type": "code",
   "execution_count": null,
   "id": "7445df01",
   "metadata": {},
   "outputs": [],
   "source": [
    "# Topic: Decorators\n",
    "def log(func):\n",
    " def wrapper():\n",
    "  print('Call')\n",
    "  func()\n",
    " return wrapper\n",
    "@log\n",
    "def say(): print('Hi')\n",
    "say()"
   ]
  },
  {
   "cell_type": "code",
   "execution_count": null,
   "id": "50fd7fea",
   "metadata": {},
   "outputs": [],
   "source": [
    "# Topic: Loops\n",
    "for i in range(10): print(i*i)"
   ]
  },
  {
   "cell_type": "code",
   "execution_count": null,
   "id": "6ae10e90",
   "metadata": {},
   "outputs": [],
   "source": [
    "# Topic: Algorithms\n",
    "# Bubble sort\n",
    "def bubble(arr):\n",
    " for i in range(len(arr)):\n",
    "  for j in range(0, len(arr)-i-1):\n",
    "   if arr[j]>arr[j+1]: arr[j],arr[j+1]=arr[j+1],arr[j]\n",
    "a=[5,3,8]\n",
    "bubble(a)\n",
    "print(a)"
   ]
  },
  {
   "cell_type": "code",
   "execution_count": null,
   "id": "c063b60d",
   "metadata": {},
   "outputs": [],
   "source": [
    "# Topic: OOP\n",
    "class Student:\n",
    "    def __init__(self, name): self.name = name\n",
    "s = Student('Fahd')\n",
    "print(s.name)"
   ]
  },
  {
   "cell_type": "code",
   "execution_count": null,
   "id": "0f4199b3",
   "metadata": {},
   "outputs": [],
   "source": [
    "# Topic: Regex\n",
    "import re\n",
    "text = 'email: test@example.com'\n",
    "print(re.findall(r'\\S+@\\S+', text))"
   ]
  },
  {
   "cell_type": "code",
   "execution_count": null,
   "id": "c851f9e8",
   "metadata": {},
   "outputs": [],
   "source": [
    "# Topic: Loops\n",
    "while True:\n",
    "    print('Break')\n",
    "    break"
   ]
  },
  {
   "cell_type": "code",
   "execution_count": null,
   "id": "62349b48",
   "metadata": {},
   "outputs": [],
   "source": [
    "# Topic: OOP\n",
    "class Student:\n",
    "    def __init__(self, name): self.name = name\n",
    "s = Student('Fahd')\n",
    "print(s.name)"
   ]
  },
  {
   "cell_type": "code",
   "execution_count": null,
   "id": "fc6d4d5d",
   "metadata": {},
   "outputs": [],
   "source": [
    "# Topic: Pandas\n",
    "import pandas as pd\n",
    "df = pd.DataFrame({'A':[1,2],'B':[3,4]})\n",
    "print(df)"
   ]
  },
  {
   "cell_type": "code",
   "execution_count": null,
   "id": "ee457678",
   "metadata": {},
   "outputs": [],
   "source": [
    "# Topic: File I/O\n",
    "with open('test.txt', 'w') as f:\n",
    "    f.write('Hello World')"
   ]
  },
  {
   "cell_type": "code",
   "execution_count": null,
   "id": "14046e0f",
   "metadata": {},
   "outputs": [],
   "source": [
    "# Topic: CLI Tools\n",
    "import sys\n",
    "print(f'Arguments: {sys.argv}')"
   ]
  },
  {
   "cell_type": "code",
   "execution_count": null,
   "id": "2ad83ff8",
   "metadata": {},
   "outputs": [],
   "source": [
    "# Topic: Basics\n",
    "name = 'Fahd'\n",
    "print(f'Hello, {name}')"
   ]
  },
  {
   "cell_type": "code",
   "execution_count": null,
   "id": "bc5c4ebd",
   "metadata": {},
   "outputs": [],
   "source": [
    "# Topic: Recursion\n",
    "def fact(n): return 1 if n==0 else n*fact(n-1)\n",
    "print(fact(5))"
   ]
  },
  {
   "cell_type": "code",
   "execution_count": null,
   "id": "e8dd5535",
   "metadata": {},
   "outputs": [],
   "source": [
    "# Topic: Basics\n",
    "x = 10\n",
    "y = 20\n",
    "print(x + y)"
   ]
  },
  {
   "cell_type": "code",
   "execution_count": null,
   "id": "4cccc191",
   "metadata": {},
   "outputs": [],
   "source": [
    "# Topic: Loops\n",
    "for i in range(10): print(i*i)"
   ]
  },
  {
   "cell_type": "code",
   "execution_count": null,
   "id": "3ffd0cdc",
   "metadata": {},
   "outputs": [],
   "source": [
    "# Topic: Pandas\n",
    "import pandas as pd\n",
    "df = pd.read_csv('file.csv')\n",
    "print(df.head())"
   ]
  },
  {
   "cell_type": "code",
   "execution_count": null,
   "id": "093ef28d",
   "metadata": {},
   "outputs": [],
   "source": [
    "# Topic: Basics\n",
    "name = 'Fahd'\n",
    "print(f'Hello, {name}')"
   ]
  },
  {
   "cell_type": "code",
   "execution_count": null,
   "id": "c78d5857",
   "metadata": {},
   "outputs": [],
   "source": [
    "# Topic: Matplotlib & Seaborn\n",
    "import matplotlib.pyplot as plt\n",
    "plt.plot([1,2],[3,4])\n",
    "plt.show()"
   ]
  },
  {
   "cell_type": "code",
   "execution_count": null,
   "id": "33ce8808",
   "metadata": {},
   "outputs": [],
   "source": [
    "# Topic: Pandas\n",
    "import pandas as pd\n",
    "df = pd.DataFrame({'A':[1,2],'B':[3,4]})\n",
    "print(df)"
   ]
  },
  {
   "cell_type": "code",
   "execution_count": null,
   "id": "83c7b535",
   "metadata": {},
   "outputs": [],
   "source": [
    "# Topic: JSON & CSV\n",
    "import json\n",
    "data = {'a': 1}\n",
    "print(json.dumps(data))"
   ]
  },
  {
   "cell_type": "code",
   "execution_count": null,
   "id": "62441345",
   "metadata": {},
   "outputs": [],
   "source": [
    "# Topic: Recursion\n",
    "def fact(n): return 1 if n==0 else n*fact(n-1)\n",
    "print(fact(5))"
   ]
  },
  {
   "cell_type": "code",
   "execution_count": null,
   "id": "8fa5a5f5",
   "metadata": {},
   "outputs": [],
   "source": [
    "# Topic: File I/O\n",
    "with open('test.txt', 'r') as f:\n",
    "    print(f.read())"
   ]
  },
  {
   "cell_type": "code",
   "execution_count": null,
   "id": "ec410281",
   "metadata": {},
   "outputs": [],
   "source": [
    "# Topic: NumPy\n",
    "import numpy as np\n",
    "a = np.array([1, 2, 3])\n",
    "print(a + 5)"
   ]
  },
  {
   "cell_type": "code",
   "execution_count": null,
   "id": "9f68b7d2",
   "metadata": {},
   "outputs": [],
   "source": [
    "# Topic: Data Cleaning\n",
    "import pandas as pd\n",
    "df = pd.DataFrame({'A':[1,None,3]})\n",
    "df = df.fillna(0)\n",
    "print(df)"
   ]
  },
  {
   "cell_type": "code",
   "execution_count": null,
   "id": "40ea9992",
   "metadata": {},
   "outputs": [],
   "source": [
    "# Topic: Basics\n",
    "name = 'Fahd'\n",
    "print(f'Hello, {name}')"
   ]
  },
  {
   "cell_type": "code",
   "execution_count": null,
   "id": "f2a810f3",
   "metadata": {},
   "outputs": [],
   "source": [
    "# Topic: Dictionaries & Sets\n",
    "d = {'name': 'Fahd', 'age': 20}\n",
    "print(d.get('name'))"
   ]
  },
  {
   "cell_type": "code",
   "execution_count": null,
   "id": "f1561c1e",
   "metadata": {},
   "outputs": [],
   "source": [
    "# Topic: Decorators\n",
    "def log(func):\n",
    " def wrapper():\n",
    "  print('Call')\n",
    "  func()\n",
    " return wrapper\n",
    "@log\n",
    "def say(): print('Hi')\n",
    "say()"
   ]
  },
  {
   "cell_type": "code",
   "execution_count": null,
   "id": "5b587374",
   "metadata": {},
   "outputs": [],
   "source": [
    "# Topic: Basics\n",
    "name = 'Fahd'\n",
    "print(f'Hello, {name}')"
   ]
  },
  {
   "cell_type": "code",
   "execution_count": null,
   "id": "9937b72b",
   "metadata": {},
   "outputs": [],
   "source": [
    "# Topic: OOP\n",
    "class Student:\n",
    "    def __init__(self, name): self.name = name\n",
    "s = Student('Fahd')\n",
    "print(s.name)"
   ]
  },
  {
   "cell_type": "code",
   "execution_count": null,
   "id": "f3e1839c",
   "metadata": {},
   "outputs": [],
   "source": [
    "# Topic: Recursion\n",
    "def fact(n): return 1 if n==0 else n*fact(n-1)\n",
    "print(fact(5))"
   ]
  },
  {
   "cell_type": "code",
   "execution_count": null,
   "id": "a6d00620",
   "metadata": {},
   "outputs": [],
   "source": [
    "# Topic: Basic ML\n",
    "from sklearn.linear_model import LinearRegression\n",
    "model = LinearRegression()\n",
    "print(model)"
   ]
  },
  {
   "cell_type": "code",
   "execution_count": null,
   "id": "bfb8c278",
   "metadata": {},
   "outputs": [],
   "source": [
    "# Topic: NumPy\n",
    "import numpy as np\n",
    "a = np.array([1, 2, 3])\n",
    "print(a + 5)"
   ]
  },
  {
   "cell_type": "code",
   "execution_count": null,
   "id": "5cd72f16",
   "metadata": {},
   "outputs": [],
   "source": [
    "# Topic: Functions\n",
    "def greet(name='User'):\n",
    "    print(f'Hi, {name}')\n",
    "greet()"
   ]
  },
  {
   "cell_type": "code",
   "execution_count": null,
   "id": "9b42a23c",
   "metadata": {},
   "outputs": [],
   "source": [
    "# Topic: OOP\n",
    "class Student:\n",
    "    def __init__(self, name): self.name = name\n",
    "s = Student('Fahd')\n",
    "print(s.name)"
   ]
  },
  {
   "cell_type": "code",
   "execution_count": null,
   "id": "c5df60bb",
   "metadata": {},
   "outputs": [],
   "source": [
    "# Topic: JSON & CSV\n",
    "import csv\n",
    "with open('file.csv', 'w', newline='') as f:\n",
    " csv.writer(f).writerow(['a','b','c'])"
   ]
  },
  {
   "cell_type": "code",
   "execution_count": null,
   "id": "fbbfc023",
   "metadata": {},
   "outputs": [],
   "source": [
    "# Topic: Mini Projects\n",
    "# Palindrome check\n",
    "def is_pal(s): return s == s[::-1]\n",
    "print(is_pal('madam'))"
   ]
  },
  {
   "cell_type": "code",
   "execution_count": null,
   "id": "e05bf411",
   "metadata": {},
   "outputs": [],
   "source": [
    "# Topic: Mini Projects\n",
    "# Palindrome check\n",
    "def is_pal(s): return s == s[::-1]\n",
    "print(is_pal('madam'))"
   ]
  },
  {
   "cell_type": "code",
   "execution_count": null,
   "id": "c78027ce",
   "metadata": {},
   "outputs": [],
   "source": [
    "# Topic: JSON & CSV\n",
    "import json\n",
    "data = {'a': 1}\n",
    "print(json.dumps(data))"
   ]
  },
  {
   "cell_type": "code",
   "execution_count": null,
   "id": "47c57f3d",
   "metadata": {},
   "outputs": [],
   "source": [
    "# Topic: Data Cleaning\n",
    "import pandas as pd\n",
    "df = pd.DataFrame({'A':[1,None,3]})\n",
    "df = df.fillna(0)\n",
    "print(df)"
   ]
  },
  {
   "cell_type": "code",
   "execution_count": null,
   "id": "93539838",
   "metadata": {},
   "outputs": [],
   "source": [
    "# Topic: Mini Projects\n",
    "# Palindrome check\n",
    "def is_pal(s): return s == s[::-1]\n",
    "print(is_pal('madam'))"
   ]
  },
  {
   "cell_type": "code",
   "execution_count": null,
   "id": "0581e107",
   "metadata": {},
   "outputs": [],
   "source": [
    "# Topic: Functions\n",
    "def greet(name='User'):\n",
    "    print(f'Hi, {name}')\n",
    "greet()"
   ]
  },
  {
   "cell_type": "code",
   "execution_count": null,
   "id": "61061228",
   "metadata": {},
   "outputs": [],
   "source": [
    "# Topic: Basic ML\n",
    "from sklearn.linear_model import LinearRegression\n",
    "model = LinearRegression()\n",
    "print(model)"
   ]
  },
  {
   "cell_type": "code",
   "execution_count": null,
   "id": "aedef5cd",
   "metadata": {},
   "outputs": [],
   "source": [
    "# Topic: Functions\n",
    "def greet(name='User'):\n",
    "    print(f'Hi, {name}')\n",
    "greet()"
   ]
  },
  {
   "cell_type": "code",
   "execution_count": null,
   "id": "f28a65f1",
   "metadata": {},
   "outputs": [],
   "source": [
    "# Topic: Decorators\n",
    "def log(func):\n",
    " def wrapper():\n",
    "  print('Call')\n",
    "  func()\n",
    " return wrapper\n",
    "@log\n",
    "def say(): print('Hi')\n",
    "say()"
   ]
  },
  {
   "cell_type": "code",
   "execution_count": null,
   "id": "5d246b40",
   "metadata": {},
   "outputs": [],
   "source": [
    "# Topic: Decorators\n",
    "def log(func):\n",
    " def wrapper():\n",
    "  print('Call')\n",
    "  func()\n",
    " return wrapper\n",
    "@log\n",
    "def say(): print('Hi')\n",
    "say()"
   ]
  },
  {
   "cell_type": "code",
   "execution_count": null,
   "id": "cdd9ec7f",
   "metadata": {},
   "outputs": [],
   "source": [
    "# Topic: Recursion\n",
    "def fact(n): return 1 if n==0 else n*fact(n-1)\n",
    "print(fact(5))"
   ]
  },
  {
   "cell_type": "code",
   "execution_count": null,
   "id": "1d256864",
   "metadata": {},
   "outputs": [],
   "source": [
    "# Topic: Recursion\n",
    "def fact(n): return 1 if n==0 else n*fact(n-1)\n",
    "print(fact(5))"
   ]
  },
  {
   "cell_type": "code",
   "execution_count": null,
   "id": "ce6e17c7",
   "metadata": {},
   "outputs": [],
   "source": [
    "# Topic: OOP\n",
    "class Student:\n",
    "    def __init__(self, name): self.name = name\n",
    "s = Student('Fahd')\n",
    "print(s.name)"
   ]
  },
  {
   "cell_type": "code",
   "execution_count": null,
   "id": "6ce11d58",
   "metadata": {},
   "outputs": [],
   "source": [
    "# Topic: Data Cleaning\n",
    "import pandas as pd\n",
    "df = pd.DataFrame({'A':[1,None,3]})\n",
    "df = df.fillna(0)\n",
    "print(df)"
   ]
  },
  {
   "cell_type": "code",
   "execution_count": null,
   "id": "2efcc131",
   "metadata": {},
   "outputs": [],
   "source": [
    "# Topic: Dictionaries & Sets\n",
    "s = set([1, 2, 3, 2])\n",
    "print(s)"
   ]
  },
  {
   "cell_type": "code",
   "execution_count": null,
   "id": "a004f9a5",
   "metadata": {},
   "outputs": [],
   "source": [
    "# Topic: CLI Tools\n",
    "import sys\n",
    "print(f'Arguments: {sys.argv}')"
   ]
  },
  {
   "cell_type": "code",
   "execution_count": null,
   "id": "90e1e42b",
   "metadata": {},
   "outputs": [],
   "source": [
    "# Topic: Basics\n",
    "name = 'Fahd'\n",
    "print(f'Hello, {name}')"
   ]
  },
  {
   "cell_type": "code",
   "execution_count": null,
   "id": "cc474b4c",
   "metadata": {},
   "outputs": [],
   "source": [
    "# Topic: Regex\n",
    "import re\n",
    "text = 'email: test@example.com'\n",
    "print(re.findall(r'\\S+@\\S+', text))"
   ]
  },
  {
   "cell_type": "code",
   "execution_count": null,
   "id": "7cbfa847",
   "metadata": {},
   "outputs": [],
   "source": [
    "# Topic: Algorithms\n",
    "# Bubble sort\n",
    "def bubble(arr):\n",
    " for i in range(len(arr)):\n",
    "  for j in range(0, len(arr)-i-1):\n",
    "   if arr[j]>arr[j+1]: arr[j],arr[j+1]=arr[j+1],arr[j]\n",
    "a=[5,3,8]\n",
    "bubble(a)\n",
    "print(a)"
   ]
  },
  {
   "cell_type": "code",
   "execution_count": null,
   "id": "758a4f9c",
   "metadata": {},
   "outputs": [],
   "source": [
    "# Topic: Loops\n",
    "while True:\n",
    "    print('Break')\n",
    "    break"
   ]
  },
  {
   "cell_type": "code",
   "execution_count": null,
   "id": "7b7d40da",
   "metadata": {},
   "outputs": [],
   "source": [
    "# Topic: Web Scraping\n",
    "import requests\n",
    "from bs4 import BeautifulSoup\n",
    "r = requests.get('https://example.com')\n",
    "soup = BeautifulSoup(r.text, 'html.parser')\n",
    "print(soup.title.text)"
   ]
  },
  {
   "cell_type": "code",
   "execution_count": null,
   "id": "7a6a73fb",
   "metadata": {},
   "outputs": [],
   "source": [
    "# Topic: Web Scraping\n",
    "import requests\n",
    "from bs4 import BeautifulSoup\n",
    "r = requests.get('https://example.com')\n",
    "soup = BeautifulSoup(r.text, 'html.parser')\n",
    "print(soup.title.text)"
   ]
  },
  {
   "cell_type": "code",
   "execution_count": null,
   "id": "e20ba536",
   "metadata": {},
   "outputs": [],
   "source": [
    "# Topic: OOP\n",
    "class Student:\n",
    "    def __init__(self, name): self.name = name\n",
    "s = Student('Fahd')\n",
    "print(s.name)"
   ]
  },
  {
   "cell_type": "code",
   "execution_count": null,
   "id": "f2a3caf4",
   "metadata": {},
   "outputs": [],
   "source": [
    "# Topic: Basic ML\n",
    "from sklearn.linear_model import LinearRegression\n",
    "model = LinearRegression()\n",
    "print(model)"
   ]
  },
  {
   "cell_type": "code",
   "execution_count": null,
   "id": "eee8eb0b",
   "metadata": {},
   "outputs": [],
   "source": [
    "# Topic: Algorithms\n",
    "# Bubble sort\n",
    "def bubble(arr):\n",
    " for i in range(len(arr)):\n",
    "  for j in range(0, len(arr)-i-1):\n",
    "   if arr[j]>arr[j+1]: arr[j],arr[j+1]=arr[j+1],arr[j]\n",
    "a=[5,3,8]\n",
    "bubble(a)\n",
    "print(a)"
   ]
  },
  {
   "cell_type": "code",
   "execution_count": null,
   "id": "36a0a2cf",
   "metadata": {},
   "outputs": [],
   "source": [
    "# Topic: Web Scraping\n",
    "import requests\n",
    "from bs4 import BeautifulSoup\n",
    "r = requests.get('https://example.com')\n",
    "soup = BeautifulSoup(r.text, 'html.parser')\n",
    "print(soup.title.text)"
   ]
  },
  {
   "cell_type": "code",
   "execution_count": null,
   "id": "e8138850",
   "metadata": {},
   "outputs": [],
   "source": [
    "# Topic: Lists & Tuples\n",
    "lst = [1, 2, 3]\n",
    "lst.append(4)\n",
    "print(lst)"
   ]
  },
  {
   "cell_type": "code",
   "execution_count": null,
   "id": "30f58a58",
   "metadata": {},
   "outputs": [],
   "source": [
    "# Topic: Decorators\n",
    "def log(func):\n",
    " def wrapper():\n",
    "  print('Call')\n",
    "  func()\n",
    " return wrapper\n",
    "@log\n",
    "def say(): print('Hi')\n",
    "say()"
   ]
  },
  {
   "cell_type": "code",
   "execution_count": null,
   "id": "19f8aac1",
   "metadata": {},
   "outputs": [],
   "source": [
    "# Topic: Mini Projects\n",
    "# Calculator\n",
    "def calc(a,b,op): return eval(f'{a}{op}{b}')\n",
    "print(calc(5,2,'+'))"
   ]
  },
  {
   "cell_type": "code",
   "execution_count": null,
   "id": "a86614e7",
   "metadata": {},
   "outputs": [],
   "source": [
    "# Topic: Recursion\n",
    "def fact(n): return 1 if n==0 else n*fact(n-1)\n",
    "print(fact(5))"
   ]
  },
  {
   "cell_type": "code",
   "execution_count": null,
   "id": "bab104ee",
   "metadata": {},
   "outputs": [],
   "source": [
    "# Topic: Recursion\n",
    "def fact(n): return 1 if n==0 else n*fact(n-1)\n",
    "print(fact(5))"
   ]
  },
  {
   "cell_type": "code",
   "execution_count": null,
   "id": "0925898d",
   "metadata": {},
   "outputs": [],
   "source": [
    "# Topic: Recursion\n",
    "def fact(n): return 1 if n==0 else n*fact(n-1)\n",
    "print(fact(5))"
   ]
  },
  {
   "cell_type": "code",
   "execution_count": null,
   "id": "0cf3aecb",
   "metadata": {},
   "outputs": [],
   "source": [
    "# Topic: Basic ML\n",
    "from sklearn.linear_model import LinearRegression\n",
    "model = LinearRegression()\n",
    "print(model)"
   ]
  },
  {
   "cell_type": "code",
   "execution_count": null,
   "id": "cacd98ea",
   "metadata": {},
   "outputs": [],
   "source": [
    "# Topic: NumPy\n",
    "import numpy as np\n",
    "a = np.array([1, 2, 3])\n",
    "print(a + 5)"
   ]
  },
  {
   "cell_type": "code",
   "execution_count": null,
   "id": "39361018",
   "metadata": {},
   "outputs": [],
   "source": [
    "# Topic: Web Scraping\n",
    "import requests\n",
    "from bs4 import BeautifulSoup\n",
    "r = requests.get('https://example.com')\n",
    "soup = BeautifulSoup(r.text, 'html.parser')\n",
    "print(soup.title.text)"
   ]
  },
  {
   "cell_type": "code",
   "execution_count": null,
   "id": "485e582d",
   "metadata": {},
   "outputs": [],
   "source": [
    "# Topic: Dictionaries & Sets\n",
    "d = {'name': 'Fahd', 'age': 20}\n",
    "print(d.get('name'))"
   ]
  },
  {
   "cell_type": "code",
   "execution_count": null,
   "id": "816ed069",
   "metadata": {},
   "outputs": [],
   "source": [
    "# Topic: Basics\n",
    "x = 10\n",
    "y = 20\n",
    "print(x + y)"
   ]
  },
  {
   "cell_type": "code",
   "execution_count": null,
   "id": "ed3665c8",
   "metadata": {},
   "outputs": [],
   "source": [
    "# Topic: Pandas\n",
    "import pandas as pd\n",
    "df = pd.read_csv('file.csv')\n",
    "print(df.head())"
   ]
  },
  {
   "cell_type": "code",
   "execution_count": null,
   "id": "415bf27b",
   "metadata": {},
   "outputs": [],
   "source": [
    "# Topic: OOP\n",
    "class Student:\n",
    "    def __init__(self, name): self.name = name\n",
    "s = Student('Fahd')\n",
    "print(s.name)"
   ]
  },
  {
   "cell_type": "code",
   "execution_count": null,
   "id": "27959da1",
   "metadata": {},
   "outputs": [],
   "source": [
    "# Topic: Functions\n",
    "def greet(name='User'):\n",
    "    print(f'Hi, {name}')\n",
    "greet()"
   ]
  },
  {
   "cell_type": "code",
   "execution_count": null,
   "id": "8efdc048",
   "metadata": {},
   "outputs": [],
   "source": [
    "# Topic: Matplotlib & Seaborn\n",
    "import matplotlib.pyplot as plt\n",
    "plt.plot([1,2],[3,4])\n",
    "plt.show()"
   ]
  },
  {
   "cell_type": "code",
   "execution_count": null,
   "id": "5c4748a6",
   "metadata": {},
   "outputs": [],
   "source": [
    "# Topic: Recursion\n",
    "def fact(n): return 1 if n==0 else n*fact(n-1)\n",
    "print(fact(5))"
   ]
  },
  {
   "cell_type": "code",
   "execution_count": null,
   "id": "ef65e0bd",
   "metadata": {},
   "outputs": [],
   "source": [
    "# Topic: Regex\n",
    "import re\n",
    "text = 'email: test@example.com'\n",
    "print(re.findall(r'\\S+@\\S+', text))"
   ]
  },
  {
   "cell_type": "code",
   "execution_count": null,
   "id": "9e91c4b5",
   "metadata": {},
   "outputs": [],
   "source": [
    "# Topic: Matplotlib & Seaborn\n",
    "import matplotlib.pyplot as plt\n",
    "plt.plot([1,2],[3,4])\n",
    "plt.show()"
   ]
  },
  {
   "cell_type": "code",
   "execution_count": null,
   "id": "3f1d32af",
   "metadata": {},
   "outputs": [],
   "source": [
    "# Topic: Pandas\n",
    "import pandas as pd\n",
    "df = pd.DataFrame({'A':[1,2],'B':[3,4]})\n",
    "print(df)"
   ]
  },
  {
   "cell_type": "code",
   "execution_count": null,
   "id": "9e0ea7b8",
   "metadata": {},
   "outputs": [],
   "source": [
    "# Topic: Loops\n",
    "for i in range(10): print(i*i)"
   ]
  },
  {
   "cell_type": "code",
   "execution_count": null,
   "id": "b463963e",
   "metadata": {},
   "outputs": [],
   "source": [
    "# Topic: JSON & CSV\n",
    "import json\n",
    "data = {'a': 1}\n",
    "print(json.dumps(data))"
   ]
  },
  {
   "cell_type": "code",
   "execution_count": null,
   "id": "044a227e",
   "metadata": {},
   "outputs": [],
   "source": [
    "# Topic: Algorithms\n",
    "# Bubble sort\n",
    "def bubble(arr):\n",
    " for i in range(len(arr)):\n",
    "  for j in range(0, len(arr)-i-1):\n",
    "   if arr[j]>arr[j+1]: arr[j],arr[j+1]=arr[j+1],arr[j]\n",
    "a=[5,3,8]\n",
    "bubble(a)\n",
    "print(a)"
   ]
  },
  {
   "cell_type": "code",
   "execution_count": null,
   "id": "d535c0ec",
   "metadata": {},
   "outputs": [],
   "source": [
    "# Topic: Lists & Tuples\n",
    "lst = [1, 2, 3]\n",
    "lst.append(4)\n",
    "print(lst)"
   ]
  },
  {
   "cell_type": "code",
   "execution_count": null,
   "id": "fed962ad",
   "metadata": {},
   "outputs": [],
   "source": [
    "# Topic: Pandas\n",
    "import pandas as pd\n",
    "df = pd.DataFrame({'A':[1,2],'B':[3,4]})\n",
    "print(df)"
   ]
  },
  {
   "cell_type": "code",
   "execution_count": null,
   "id": "78f44e22",
   "metadata": {},
   "outputs": [],
   "source": [
    "# Topic: Loops\n",
    "for i in range(10): print(i*i)"
   ]
  },
  {
   "cell_type": "code",
   "execution_count": null,
   "id": "17038507",
   "metadata": {},
   "outputs": [],
   "source": [
    "# Topic: JSON & CSV\n",
    "import csv\n",
    "with open('file.csv', 'w', newline='') as f:\n",
    " csv.writer(f).writerow(['a','b','c'])"
   ]
  },
  {
   "cell_type": "code",
   "execution_count": null,
   "id": "6a71f486",
   "metadata": {},
   "outputs": [],
   "source": [
    "# Topic: Matplotlib & Seaborn\n",
    "import matplotlib.pyplot as plt\n",
    "plt.plot([1,2],[3,4])\n",
    "plt.show()"
   ]
  },
  {
   "cell_type": "code",
   "execution_count": null,
   "id": "e0a818eb",
   "metadata": {},
   "outputs": [],
   "source": [
    "# Topic: NumPy\n",
    "import numpy as np\n",
    "print(np.linspace(0, 1, 5))"
   ]
  },
  {
   "cell_type": "code",
   "execution_count": null,
   "id": "2b9fcf73",
   "metadata": {},
   "outputs": [],
   "source": [
    "# Topic: Basic ML\n",
    "from sklearn.linear_model import LinearRegression\n",
    "model = LinearRegression()\n",
    "print(model)"
   ]
  },
  {
   "cell_type": "code",
   "execution_count": null,
   "id": "bcd26ea8",
   "metadata": {},
   "outputs": [],
   "source": [
    "# Topic: Pandas\n",
    "import pandas as pd\n",
    "df = pd.DataFrame({'A':[1,2],'B':[3,4]})\n",
    "print(df)"
   ]
  },
  {
   "cell_type": "code",
   "execution_count": null,
   "id": "1301e90f",
   "metadata": {},
   "outputs": [],
   "source": [
    "# Topic: CLI Tools\n",
    "import sys\n",
    "print(f'Arguments: {sys.argv}')"
   ]
  },
  {
   "cell_type": "code",
   "execution_count": null,
   "id": "639ee104",
   "metadata": {},
   "outputs": [],
   "source": [
    "# Topic: Regex\n",
    "import re\n",
    "text = 'email: test@example.com'\n",
    "print(re.findall(r'\\S+@\\S+', text))"
   ]
  },
  {
   "cell_type": "code",
   "execution_count": null,
   "id": "bb469476",
   "metadata": {},
   "outputs": [],
   "source": [
    "# Topic: Web Scraping\n",
    "import requests\n",
    "from bs4 import BeautifulSoup\n",
    "r = requests.get('https://example.com')\n",
    "soup = BeautifulSoup(r.text, 'html.parser')\n",
    "print(soup.title.text)"
   ]
  },
  {
   "cell_type": "code",
   "execution_count": null,
   "id": "81fe96eb",
   "metadata": {},
   "outputs": [],
   "source": [
    "# Topic: Mini Projects\n",
    "# Calculator\n",
    "def calc(a,b,op): return eval(f'{a}{op}{b}')\n",
    "print(calc(5,2,'+'))"
   ]
  },
  {
   "cell_type": "code",
   "execution_count": null,
   "id": "77508405",
   "metadata": {},
   "outputs": [],
   "source": [
    "# Topic: Lists & Tuples\n",
    "lst = [1, 2, 3]\n",
    "lst.append(4)\n",
    "print(lst)"
   ]
  },
  {
   "cell_type": "code",
   "execution_count": null,
   "id": "08580d12",
   "metadata": {},
   "outputs": [],
   "source": [
    "# Topic: Recursion\n",
    "def fact(n): return 1 if n==0 else n*fact(n-1)\n",
    "print(fact(5))"
   ]
  },
  {
   "cell_type": "code",
   "execution_count": null,
   "id": "d2c41f85",
   "metadata": {},
   "outputs": [],
   "source": [
    "# Topic: NumPy\n",
    "import numpy as np\n",
    "print(np.linspace(0, 1, 5))"
   ]
  },
  {
   "cell_type": "code",
   "execution_count": null,
   "id": "384bbbbe",
   "metadata": {},
   "outputs": [],
   "source": [
    "# Topic: Basics\n",
    "x = 10\n",
    "y = 20\n",
    "print(x + y)"
   ]
  },
  {
   "cell_type": "code",
   "execution_count": null,
   "id": "78857b56",
   "metadata": {},
   "outputs": [],
   "source": [
    "# Topic: NumPy\n",
    "import numpy as np\n",
    "a = np.array([1, 2, 3])\n",
    "print(a + 5)"
   ]
  },
  {
   "cell_type": "code",
   "execution_count": null,
   "id": "a7beb74f",
   "metadata": {},
   "outputs": [],
   "source": [
    "# Topic: NumPy\n",
    "import numpy as np\n",
    "a = np.array([1, 2, 3])\n",
    "print(a + 5)"
   ]
  },
  {
   "cell_type": "code",
   "execution_count": null,
   "id": "04d8f466",
   "metadata": {},
   "outputs": [],
   "source": [
    "# Topic: Recursion\n",
    "def fact(n): return 1 if n==0 else n*fact(n-1)\n",
    "print(fact(5))"
   ]
  },
  {
   "cell_type": "code",
   "execution_count": null,
   "id": "ba462900",
   "metadata": {},
   "outputs": [],
   "source": [
    "# Topic: OOP\n",
    "class Student:\n",
    "    def __init__(self, name): self.name = name\n",
    "s = Student('Fahd')\n",
    "print(s.name)"
   ]
  },
  {
   "cell_type": "code",
   "execution_count": null,
   "id": "039dbab3",
   "metadata": {},
   "outputs": [],
   "source": [
    "# Topic: Loops\n",
    "while True:\n",
    "    print('Break')\n",
    "    break"
   ]
  },
  {
   "cell_type": "code",
   "execution_count": null,
   "id": "afee7d38",
   "metadata": {},
   "outputs": [],
   "source": [
    "# Topic: Basic ML\n",
    "from sklearn.linear_model import LinearRegression\n",
    "model = LinearRegression()\n",
    "print(model)"
   ]
  },
  {
   "cell_type": "code",
   "execution_count": null,
   "id": "faed4ae2",
   "metadata": {},
   "outputs": [],
   "source": [
    "# Topic: NumPy\n",
    "import numpy as np\n",
    "print(np.linspace(0, 1, 5))"
   ]
  },
  {
   "cell_type": "code",
   "execution_count": null,
   "id": "c7a24494",
   "metadata": {},
   "outputs": [],
   "source": [
    "# Topic: Recursion\n",
    "def fact(n): return 1 if n==0 else n*fact(n-1)\n",
    "print(fact(5))"
   ]
  },
  {
   "cell_type": "code",
   "execution_count": null,
   "id": "5e0779a1",
   "metadata": {},
   "outputs": [],
   "source": [
    "# Topic: Recursion\n",
    "def fact(n): return 1 if n==0 else n*fact(n-1)\n",
    "print(fact(5))"
   ]
  },
  {
   "cell_type": "code",
   "execution_count": null,
   "id": "97df8f9e",
   "metadata": {},
   "outputs": [],
   "source": [
    "# Topic: Basics\n",
    "x = 10\n",
    "y = 20\n",
    "print(x + y)"
   ]
  },
  {
   "cell_type": "code",
   "execution_count": null,
   "id": "fd736194",
   "metadata": {},
   "outputs": [],
   "source": [
    "# Topic: File I/O\n",
    "with open('test.txt', 'r') as f:\n",
    "    print(f.read())"
   ]
  },
  {
   "cell_type": "code",
   "execution_count": null,
   "id": "a4c25815",
   "metadata": {},
   "outputs": [],
   "source": [
    "# Topic: Functions\n",
    "def square(x): return x*x\n",
    "print(square(5))"
   ]
  },
  {
   "cell_type": "code",
   "execution_count": null,
   "id": "3f9f2c51",
   "metadata": {},
   "outputs": [],
   "source": [
    "# Topic: Decorators\n",
    "def log(func):\n",
    " def wrapper():\n",
    "  print('Call')\n",
    "  func()\n",
    " return wrapper\n",
    "@log\n",
    "def say(): print('Hi')\n",
    "say()"
   ]
  },
  {
   "cell_type": "code",
   "execution_count": null,
   "id": "d9891207",
   "metadata": {},
   "outputs": [],
   "source": [
    "# Topic: JSON & CSV\n",
    "import json\n",
    "data = {'a': 1}\n",
    "print(json.dumps(data))"
   ]
  },
  {
   "cell_type": "code",
   "execution_count": null,
   "id": "139fd646",
   "metadata": {},
   "outputs": [],
   "source": [
    "# Topic: Functions\n",
    "def greet(name='User'):\n",
    "    print(f'Hi, {name}')\n",
    "greet()"
   ]
  },
  {
   "cell_type": "code",
   "execution_count": null,
   "id": "61da91e4",
   "metadata": {},
   "outputs": [],
   "source": [
    "# Topic: Recursion\n",
    "def fact(n): return 1 if n==0 else n*fact(n-1)\n",
    "print(fact(5))"
   ]
  },
  {
   "cell_type": "code",
   "execution_count": null,
   "id": "d7cb085f",
   "metadata": {},
   "outputs": [],
   "source": [
    "# Topic: OOP\n",
    "class Student:\n",
    "    def __init__(self, name): self.name = name\n",
    "s = Student('Fahd')\n",
    "print(s.name)"
   ]
  },
  {
   "cell_type": "code",
   "execution_count": null,
   "id": "dc92926c",
   "metadata": {},
   "outputs": [],
   "source": [
    "# Topic: Algorithms\n",
    "# Bubble sort\n",
    "def bubble(arr):\n",
    " for i in range(len(arr)):\n",
    "  for j in range(0, len(arr)-i-1):\n",
    "   if arr[j]>arr[j+1]: arr[j],arr[j+1]=arr[j+1],arr[j]\n",
    "a=[5,3,8]\n",
    "bubble(a)\n",
    "print(a)"
   ]
  },
  {
   "cell_type": "code",
   "execution_count": null,
   "id": "4ac19253",
   "metadata": {},
   "outputs": [],
   "source": [
    "# Topic: Lists & Tuples\n",
    "t = (1, 2, 3)\n",
    "print(t[0])"
   ]
  },
  {
   "cell_type": "code",
   "execution_count": null,
   "id": "18f421de",
   "metadata": {},
   "outputs": [],
   "source": [
    "# Topic: Mini Projects\n",
    "# Palindrome check\n",
    "def is_pal(s): return s == s[::-1]\n",
    "print(is_pal('madam'))"
   ]
  },
  {
   "cell_type": "code",
   "execution_count": null,
   "id": "03c3fede",
   "metadata": {},
   "outputs": [],
   "source": [
    "# Topic: NumPy\n",
    "import numpy as np\n",
    "print(np.linspace(0, 1, 5))"
   ]
  },
  {
   "cell_type": "code",
   "execution_count": null,
   "id": "d6d5018f",
   "metadata": {},
   "outputs": [],
   "source": [
    "# Topic: Dictionaries & Sets\n",
    "s = set([1, 2, 3, 2])\n",
    "print(s)"
   ]
  },
  {
   "cell_type": "code",
   "execution_count": null,
   "id": "9aa3c9f6",
   "metadata": {},
   "outputs": [],
   "source": [
    "# Topic: JSON & CSV\n",
    "import csv\n",
    "with open('file.csv', 'w', newline='') as f:\n",
    " csv.writer(f).writerow(['a','b','c'])"
   ]
  },
  {
   "cell_type": "code",
   "execution_count": null,
   "id": "95bc5e30",
   "metadata": {},
   "outputs": [],
   "source": [
    "# Topic: Algorithms\n",
    "# Bubble sort\n",
    "def bubble(arr):\n",
    " for i in range(len(arr)):\n",
    "  for j in range(0, len(arr)-i-1):\n",
    "   if arr[j]>arr[j+1]: arr[j],arr[j+1]=arr[j+1],arr[j]\n",
    "a=[5,3,8]\n",
    "bubble(a)\n",
    "print(a)"
   ]
  },
  {
   "cell_type": "code",
   "execution_count": null,
   "id": "b5ba9596",
   "metadata": {},
   "outputs": [],
   "source": [
    "# Topic: Matplotlib & Seaborn\n",
    "import seaborn as sns\n",
    "import pandas as pd\n",
    "sns.set()\n",
    "sns.histplot(pd.Series([1,2,2,3]));"
   ]
  },
  {
   "cell_type": "code",
   "execution_count": null,
   "id": "e66a3e2b",
   "metadata": {},
   "outputs": [],
   "source": [
    "# Topic: Pandas\n",
    "import pandas as pd\n",
    "df = pd.DataFrame({'A':[1,2],'B':[3,4]})\n",
    "print(df)"
   ]
  },
  {
   "cell_type": "code",
   "execution_count": null,
   "id": "8297e644",
   "metadata": {},
   "outputs": [],
   "source": [
    "# Topic: OOP\n",
    "class Student:\n",
    "    def __init__(self, name): self.name = name\n",
    "s = Student('Fahd')\n",
    "print(s.name)"
   ]
  },
  {
   "cell_type": "code",
   "execution_count": null,
   "id": "75267b20",
   "metadata": {},
   "outputs": [],
   "source": [
    "# Topic: Lists & Tuples\n",
    "t = (1, 2, 3)\n",
    "print(t[0])"
   ]
  },
  {
   "cell_type": "code",
   "execution_count": null,
   "id": "1a16d22a",
   "metadata": {},
   "outputs": [],
   "source": [
    "# Topic: Functions\n",
    "def greet(name='User'):\n",
    "    print(f'Hi, {name}')\n",
    "greet()"
   ]
  },
  {
   "cell_type": "code",
   "execution_count": null,
   "id": "ce8831e5",
   "metadata": {},
   "outputs": [],
   "source": [
    "# Topic: Recursion\n",
    "def fact(n): return 1 if n==0 else n*fact(n-1)\n",
    "print(fact(5))"
   ]
  },
  {
   "cell_type": "code",
   "execution_count": null,
   "id": "f2688b0f",
   "metadata": {},
   "outputs": [],
   "source": [
    "# Topic: Matplotlib & Seaborn\n",
    "import matplotlib.pyplot as plt\n",
    "plt.plot([1,2],[3,4])\n",
    "plt.show()"
   ]
  },
  {
   "cell_type": "code",
   "execution_count": null,
   "id": "2e34207f",
   "metadata": {},
   "outputs": [],
   "source": [
    "# Topic: Lists & Tuples\n",
    "lst = [1, 2, 3]\n",
    "lst.append(4)\n",
    "print(lst)"
   ]
  },
  {
   "cell_type": "code",
   "execution_count": null,
   "id": "da9f99b1",
   "metadata": {},
   "outputs": [],
   "source": [
    "# Topic: CLI Tools\n",
    "import sys\n",
    "print(f'Arguments: {sys.argv}')"
   ]
  },
  {
   "cell_type": "code",
   "execution_count": null,
   "id": "5f3f5a1b",
   "metadata": {},
   "outputs": [],
   "source": [
    "# Topic: Dictionaries & Sets\n",
    "d = {'name': 'Fahd', 'age': 20}\n",
    "print(d.get('name'))"
   ]
  },
  {
   "cell_type": "code",
   "execution_count": null,
   "id": "d286f6d3",
   "metadata": {},
   "outputs": [],
   "source": [
    "# Topic: File I/O\n",
    "with open('test.txt', 'w') as f:\n",
    "    f.write('Hello World')"
   ]
  },
  {
   "cell_type": "code",
   "execution_count": null,
   "id": "a3c059f8",
   "metadata": {},
   "outputs": [],
   "source": [
    "# Topic: Lists & Tuples\n",
    "t = (1, 2, 3)\n",
    "print(t[0])"
   ]
  },
  {
   "cell_type": "code",
   "execution_count": null,
   "id": "278be696",
   "metadata": {},
   "outputs": [],
   "source": [
    "# Topic: Functions\n",
    "def square(x): return x*x\n",
    "print(square(5))"
   ]
  },
  {
   "cell_type": "code",
   "execution_count": null,
   "id": "4d33bc76",
   "metadata": {},
   "outputs": [],
   "source": [
    "# Topic: File I/O\n",
    "with open('test.txt', 'r') as f:\n",
    "    print(f.read())"
   ]
  },
  {
   "cell_type": "code",
   "execution_count": null,
   "id": "53a35417",
   "metadata": {},
   "outputs": [],
   "source": [
    "# Topic: JSON & CSV\n",
    "import json\n",
    "data = {'a': 1}\n",
    "print(json.dumps(data))"
   ]
  },
  {
   "cell_type": "code",
   "execution_count": null,
   "id": "a1805ab3",
   "metadata": {},
   "outputs": [],
   "source": [
    "# Topic: Functions\n",
    "def greet(name='User'):\n",
    "    print(f'Hi, {name}')\n",
    "greet()"
   ]
  },
  {
   "cell_type": "code",
   "execution_count": null,
   "id": "fa6d148f",
   "metadata": {},
   "outputs": [],
   "source": [
    "# Topic: Dictionaries & Sets\n",
    "d = {'name': 'Fahd', 'age': 20}\n",
    "print(d.get('name'))"
   ]
  },
  {
   "cell_type": "code",
   "execution_count": null,
   "id": "f6aad809",
   "metadata": {},
   "outputs": [],
   "source": [
    "# Topic: Decorators\n",
    "def log(func):\n",
    " def wrapper():\n",
    "  print('Call')\n",
    "  func()\n",
    " return wrapper\n",
    "@log\n",
    "def say(): print('Hi')\n",
    "say()"
   ]
  },
  {
   "cell_type": "code",
   "execution_count": null,
   "id": "d5890ea2",
   "metadata": {},
   "outputs": [],
   "source": [
    "# Topic: Dictionaries & Sets\n",
    "s = set([1, 2, 3, 2])\n",
    "print(s)"
   ]
  },
  {
   "cell_type": "code",
   "execution_count": null,
   "id": "c4865e1c",
   "metadata": {},
   "outputs": [],
   "source": [
    "# Topic: Recursion\n",
    "def fact(n): return 1 if n==0 else n*fact(n-1)\n",
    "print(fact(5))"
   ]
  },
  {
   "cell_type": "code",
   "execution_count": null,
   "id": "818777d6",
   "metadata": {},
   "outputs": [],
   "source": [
    "# Topic: Web Scraping\n",
    "import requests\n",
    "from bs4 import BeautifulSoup\n",
    "r = requests.get('https://example.com')\n",
    "soup = BeautifulSoup(r.text, 'html.parser')\n",
    "print(soup.title.text)"
   ]
  },
  {
   "cell_type": "code",
   "execution_count": null,
   "id": "4beec139",
   "metadata": {},
   "outputs": [],
   "source": [
    "# Topic: Decorators\n",
    "def log(func):\n",
    " def wrapper():\n",
    "  print('Call')\n",
    "  func()\n",
    " return wrapper\n",
    "@log\n",
    "def say(): print('Hi')\n",
    "say()"
   ]
  },
  {
   "cell_type": "code",
   "execution_count": null,
   "id": "23c9ba5d",
   "metadata": {},
   "outputs": [],
   "source": [
    "# Topic: File I/O\n",
    "with open('test.txt', 'w') as f:\n",
    "    f.write('Hello World')"
   ]
  },
  {
   "cell_type": "code",
   "execution_count": null,
   "id": "32c2576d",
   "metadata": {},
   "outputs": [],
   "source": [
    "# Topic: Lists & Tuples\n",
    "t = (1, 2, 3)\n",
    "print(t[0])"
   ]
  },
  {
   "cell_type": "code",
   "execution_count": null,
   "id": "e440eddd",
   "metadata": {},
   "outputs": [],
   "source": [
    "# Topic: JSON & CSV\n",
    "import json\n",
    "data = {'a': 1}\n",
    "print(json.dumps(data))"
   ]
  },
  {
   "cell_type": "code",
   "execution_count": null,
   "id": "94eec7d3",
   "metadata": {},
   "outputs": [],
   "source": [
    "# Topic: Lists & Tuples\n",
    "lst = [1, 2, 3]\n",
    "lst.append(4)\n",
    "print(lst)"
   ]
  },
  {
   "cell_type": "code",
   "execution_count": null,
   "id": "9bcb5a3d",
   "metadata": {},
   "outputs": [],
   "source": [
    "# Topic: Decorators\n",
    "def log(func):\n",
    " def wrapper():\n",
    "  print('Call')\n",
    "  func()\n",
    " return wrapper\n",
    "@log\n",
    "def say(): print('Hi')\n",
    "say()"
   ]
  },
  {
   "cell_type": "code",
   "execution_count": null,
   "id": "7ca9b336",
   "metadata": {},
   "outputs": [],
   "source": [
    "# Topic: Web Scraping\n",
    "import requests\n",
    "from bs4 import BeautifulSoup\n",
    "r = requests.get('https://example.com')\n",
    "soup = BeautifulSoup(r.text, 'html.parser')\n",
    "print(soup.title.text)"
   ]
  },
  {
   "cell_type": "code",
   "execution_count": null,
   "id": "003a1910",
   "metadata": {},
   "outputs": [],
   "source": [
    "# Topic: Loops\n",
    "while True:\n",
    "    print('Break')\n",
    "    break"
   ]
  },
  {
   "cell_type": "code",
   "execution_count": null,
   "id": "d1debf6c",
   "metadata": {},
   "outputs": [],
   "source": [
    "# Topic: CLI Tools\n",
    "import sys\n",
    "print(f'Arguments: {sys.argv}')"
   ]
  },
  {
   "cell_type": "code",
   "execution_count": null,
   "id": "b3e1e8cc",
   "metadata": {},
   "outputs": [],
   "source": [
    "# Topic: Lists & Tuples\n",
    "lst = [1, 2, 3]\n",
    "lst.append(4)\n",
    "print(lst)"
   ]
  },
  {
   "cell_type": "code",
   "execution_count": null,
   "id": "84c2054a",
   "metadata": {},
   "outputs": [],
   "source": [
    "# Topic: Functions\n",
    "def square(x): return x*x\n",
    "print(square(5))"
   ]
  },
  {
   "cell_type": "code",
   "execution_count": null,
   "id": "98669ab7",
   "metadata": {},
   "outputs": [],
   "source": [
    "# Topic: Data Cleaning\n",
    "import pandas as pd\n",
    "df = pd.DataFrame({'A':[1,None,3]})\n",
    "df = df.fillna(0)\n",
    "print(df)"
   ]
  },
  {
   "cell_type": "code",
   "execution_count": null,
   "id": "56c76d40",
   "metadata": {},
   "outputs": [],
   "source": [
    "# Topic: Data Cleaning\n",
    "import pandas as pd\n",
    "df = pd.DataFrame({'A':[1,None,3]})\n",
    "df = df.fillna(0)\n",
    "print(df)"
   ]
  },
  {
   "cell_type": "code",
   "execution_count": null,
   "id": "33b37d1e",
   "metadata": {},
   "outputs": [],
   "source": [
    "# Topic: CLI Tools\n",
    "import sys\n",
    "print(f'Arguments: {sys.argv}')"
   ]
  },
  {
   "cell_type": "code",
   "execution_count": null,
   "id": "4a813305",
   "metadata": {},
   "outputs": [],
   "source": [
    "# Topic: Decorators\n",
    "def log(func):\n",
    " def wrapper():\n",
    "  print('Call')\n",
    "  func()\n",
    " return wrapper\n",
    "@log\n",
    "def say(): print('Hi')\n",
    "say()"
   ]
  },
  {
   "cell_type": "code",
   "execution_count": null,
   "id": "3529f558",
   "metadata": {},
   "outputs": [],
   "source": [
    "# Topic: Data Cleaning\n",
    "import pandas as pd\n",
    "df = pd.DataFrame({'A':[1,None,3]})\n",
    "df = df.fillna(0)\n",
    "print(df)"
   ]
  },
  {
   "cell_type": "code",
   "execution_count": null,
   "id": "d06e425a",
   "metadata": {},
   "outputs": [],
   "source": [
    "# Topic: File I/O\n",
    "with open('test.txt', 'w') as f:\n",
    "    f.write('Hello World')"
   ]
  },
  {
   "cell_type": "code",
   "execution_count": null,
   "id": "a79fcaf9",
   "metadata": {},
   "outputs": [],
   "source": [
    "# Topic: Web Scraping\n",
    "import requests\n",
    "from bs4 import BeautifulSoup\n",
    "r = requests.get('https://example.com')\n",
    "soup = BeautifulSoup(r.text, 'html.parser')\n",
    "print(soup.title.text)"
   ]
  },
  {
   "cell_type": "code",
   "execution_count": null,
   "id": "b48c4dc2",
   "metadata": {},
   "outputs": [],
   "source": [
    "# Topic: Decorators\n",
    "def log(func):\n",
    " def wrapper():\n",
    "  print('Call')\n",
    "  func()\n",
    " return wrapper\n",
    "@log\n",
    "def say(): print('Hi')\n",
    "say()"
   ]
  },
  {
   "cell_type": "code",
   "execution_count": null,
   "id": "ca2e2729",
   "metadata": {},
   "outputs": [],
   "source": [
    "# Topic: Data Cleaning\n",
    "import pandas as pd\n",
    "df = pd.DataFrame({'A':[1,None,3]})\n",
    "df = df.fillna(0)\n",
    "print(df)"
   ]
  },
  {
   "cell_type": "code",
   "execution_count": null,
   "id": "7cee7910",
   "metadata": {},
   "outputs": [],
   "source": [
    "# Topic: JSON & CSV\n",
    "import json\n",
    "data = {'a': 1}\n",
    "print(json.dumps(data))"
   ]
  },
  {
   "cell_type": "code",
   "execution_count": null,
   "id": "d41aff36",
   "metadata": {},
   "outputs": [],
   "source": [
    "# Topic: Basics\n",
    "name = 'Fahd'\n",
    "print(f'Hello, {name}')"
   ]
  },
  {
   "cell_type": "code",
   "execution_count": null,
   "id": "adb8b69c",
   "metadata": {},
   "outputs": [],
   "source": [
    "# Topic: Algorithms\n",
    "# Bubble sort\n",
    "def bubble(arr):\n",
    " for i in range(len(arr)):\n",
    "  for j in range(0, len(arr)-i-1):\n",
    "   if arr[j]>arr[j+1]: arr[j],arr[j+1]=arr[j+1],arr[j]\n",
    "a=[5,3,8]\n",
    "bubble(a)\n",
    "print(a)"
   ]
  },
  {
   "cell_type": "code",
   "execution_count": null,
   "id": "e65c8b35",
   "metadata": {},
   "outputs": [],
   "source": [
    "# Topic: Recursion\n",
    "def fact(n): return 1 if n==0 else n*fact(n-1)\n",
    "print(fact(5))"
   ]
  },
  {
   "cell_type": "code",
   "execution_count": null,
   "id": "b8a3c9c8",
   "metadata": {},
   "outputs": [],
   "source": [
    "# Topic: OOP\n",
    "class Student:\n",
    "    def __init__(self, name): self.name = name\n",
    "s = Student('Fahd')\n",
    "print(s.name)"
   ]
  },
  {
   "cell_type": "code",
   "execution_count": null,
   "id": "352a2c42",
   "metadata": {},
   "outputs": [],
   "source": [
    "# Topic: Regex\n",
    "import re\n",
    "text = 'email: test@example.com'\n",
    "print(re.findall(r'\\S+@\\S+', text))"
   ]
  },
  {
   "cell_type": "code",
   "execution_count": null,
   "id": "b8edb6c5",
   "metadata": {},
   "outputs": [],
   "source": [
    "# Topic: Lists & Tuples\n",
    "t = (1, 2, 3)\n",
    "print(t[0])"
   ]
  },
  {
   "cell_type": "code",
   "execution_count": null,
   "id": "86853fc6",
   "metadata": {},
   "outputs": [],
   "source": [
    "# Topic: Web Scraping\n",
    "import requests\n",
    "from bs4 import BeautifulSoup\n",
    "r = requests.get('https://example.com')\n",
    "soup = BeautifulSoup(r.text, 'html.parser')\n",
    "print(soup.title.text)"
   ]
  },
  {
   "cell_type": "code",
   "execution_count": null,
   "id": "b88aeffe",
   "metadata": {},
   "outputs": [],
   "source": [
    "# Topic: Algorithms\n",
    "# Bubble sort\n",
    "def bubble(arr):\n",
    " for i in range(len(arr)):\n",
    "  for j in range(0, len(arr)-i-1):\n",
    "   if arr[j]>arr[j+1]: arr[j],arr[j+1]=arr[j+1],arr[j]\n",
    "a=[5,3,8]\n",
    "bubble(a)\n",
    "print(a)"
   ]
  },
  {
   "cell_type": "code",
   "execution_count": null,
   "id": "3f6760af",
   "metadata": {},
   "outputs": [],
   "source": [
    "# Topic: JSON & CSV\n",
    "import csv\n",
    "with open('file.csv', 'w', newline='') as f:\n",
    " csv.writer(f).writerow(['a','b','c'])"
   ]
  },
  {
   "cell_type": "code",
   "execution_count": null,
   "id": "469cc46e",
   "metadata": {},
   "outputs": [],
   "source": [
    "# Topic: CLI Tools\n",
    "import sys\n",
    "print(f'Arguments: {sys.argv}')"
   ]
  },
  {
   "cell_type": "code",
   "execution_count": null,
   "id": "0a9d8ea0",
   "metadata": {},
   "outputs": [],
   "source": [
    "# Topic: Mini Projects\n",
    "# Calculator\n",
    "def calc(a,b,op): return eval(f'{a}{op}{b}')\n",
    "print(calc(5,2,'+'))"
   ]
  },
  {
   "cell_type": "code",
   "execution_count": null,
   "id": "b3ab6e15",
   "metadata": {},
   "outputs": [],
   "source": [
    "# Topic: Web Scraping\n",
    "import requests\n",
    "from bs4 import BeautifulSoup\n",
    "r = requests.get('https://example.com')\n",
    "soup = BeautifulSoup(r.text, 'html.parser')\n",
    "print(soup.title.text)"
   ]
  },
  {
   "cell_type": "code",
   "execution_count": null,
   "id": "18315e97",
   "metadata": {},
   "outputs": [],
   "source": [
    "# Topic: Recursion\n",
    "def fact(n): return 1 if n==0 else n*fact(n-1)\n",
    "print(fact(5))"
   ]
  },
  {
   "cell_type": "code",
   "execution_count": null,
   "id": "0ba5f300",
   "metadata": {},
   "outputs": [],
   "source": [
    "# Topic: OOP\n",
    "class Student:\n",
    "    def __init__(self, name): self.name = name\n",
    "s = Student('Fahd')\n",
    "print(s.name)"
   ]
  },
  {
   "cell_type": "code",
   "execution_count": null,
   "id": "934dbaad",
   "metadata": {},
   "outputs": [],
   "source": [
    "# Topic: Functions\n",
    "def greet(name='User'):\n",
    "    print(f'Hi, {name}')\n",
    "greet()"
   ]
  },
  {
   "cell_type": "code",
   "execution_count": null,
   "id": "f67ceb98",
   "metadata": {},
   "outputs": [],
   "source": [
    "# Topic: Web Scraping\n",
    "import requests\n",
    "from bs4 import BeautifulSoup\n",
    "r = requests.get('https://example.com')\n",
    "soup = BeautifulSoup(r.text, 'html.parser')\n",
    "print(soup.title.text)"
   ]
  },
  {
   "cell_type": "code",
   "execution_count": null,
   "id": "75542a77",
   "metadata": {},
   "outputs": [],
   "source": [
    "# Topic: CLI Tools\n",
    "import sys\n",
    "print(f'Arguments: {sys.argv}')"
   ]
  },
  {
   "cell_type": "code",
   "execution_count": null,
   "id": "9c5d02aa",
   "metadata": {},
   "outputs": [],
   "source": [
    "# Topic: Decorators\n",
    "def log(func):\n",
    " def wrapper():\n",
    "  print('Call')\n",
    "  func()\n",
    " return wrapper\n",
    "@log\n",
    "def say(): print('Hi')\n",
    "say()"
   ]
  },
  {
   "cell_type": "code",
   "execution_count": null,
   "id": "f4be11f7",
   "metadata": {},
   "outputs": [],
   "source": [
    "# Topic: Lists & Tuples\n",
    "lst = [1, 2, 3]\n",
    "lst.append(4)\n",
    "print(lst)"
   ]
  },
  {
   "cell_type": "code",
   "execution_count": null,
   "id": "9e6bfaeb",
   "metadata": {},
   "outputs": [],
   "source": [
    "# Topic: Functions\n",
    "def square(x): return x*x\n",
    "print(square(5))"
   ]
  },
  {
   "cell_type": "code",
   "execution_count": null,
   "id": "84d9da28",
   "metadata": {},
   "outputs": [],
   "source": [
    "# Topic: Data Cleaning\n",
    "import pandas as pd\n",
    "df = pd.DataFrame({'A':[1,None,3]})\n",
    "df = df.fillna(0)\n",
    "print(df)"
   ]
  },
  {
   "cell_type": "code",
   "execution_count": null,
   "id": "0df64bcc",
   "metadata": {},
   "outputs": [],
   "source": [
    "# Topic: Data Cleaning\n",
    "import pandas as pd\n",
    "df = pd.DataFrame({'A':[1,None,3]})\n",
    "df = df.fillna(0)\n",
    "print(df)"
   ]
  },
  {
   "cell_type": "code",
   "execution_count": null,
   "id": "e8925b7c",
   "metadata": {},
   "outputs": [],
   "source": [
    "# Topic: Loops\n",
    "while True:\n",
    "    print('Break')\n",
    "    break"
   ]
  },
  {
   "cell_type": "code",
   "execution_count": null,
   "id": "8768eacc",
   "metadata": {},
   "outputs": [],
   "source": [
    "# Topic: JSON & CSV\n",
    "import csv\n",
    "with open('file.csv', 'w', newline='') as f:\n",
    " csv.writer(f).writerow(['a','b','c'])"
   ]
  },
  {
   "cell_type": "code",
   "execution_count": null,
   "id": "9a472d52",
   "metadata": {},
   "outputs": [],
   "source": [
    "# Topic: Functions\n",
    "def square(x): return x*x\n",
    "print(square(5))"
   ]
  },
  {
   "cell_type": "code",
   "execution_count": null,
   "id": "48ee3ce4",
   "metadata": {},
   "outputs": [],
   "source": [
    "# Topic: Matplotlib & Seaborn\n",
    "import seaborn as sns\n",
    "import pandas as pd\n",
    "sns.set()\n",
    "sns.histplot(pd.Series([1,2,2,3]));"
   ]
  },
  {
   "cell_type": "code",
   "execution_count": null,
   "id": "6a7e469d",
   "metadata": {},
   "outputs": [],
   "source": [
    "# Topic: Decorators\n",
    "def log(func):\n",
    " def wrapper():\n",
    "  print('Call')\n",
    "  func()\n",
    " return wrapper\n",
    "@log\n",
    "def say(): print('Hi')\n",
    "say()"
   ]
  },
  {
   "cell_type": "code",
   "execution_count": null,
   "id": "53c08f6c",
   "metadata": {},
   "outputs": [],
   "source": [
    "# Topic: Web Scraping\n",
    "import requests\n",
    "from bs4 import BeautifulSoup\n",
    "r = requests.get('https://example.com')\n",
    "soup = BeautifulSoup(r.text, 'html.parser')\n",
    "print(soup.title.text)"
   ]
  },
  {
   "cell_type": "code",
   "execution_count": null,
   "id": "38d95622",
   "metadata": {},
   "outputs": [],
   "source": [
    "# Topic: Mini Projects\n",
    "# Palindrome check\n",
    "def is_pal(s): return s == s[::-1]\n",
    "print(is_pal('madam'))"
   ]
  },
  {
   "cell_type": "code",
   "execution_count": null,
   "id": "8e57b523",
   "metadata": {},
   "outputs": [],
   "source": [
    "# Topic: Basics\n",
    "name = 'Fahd'\n",
    "print(f'Hello, {name}')"
   ]
  },
  {
   "cell_type": "code",
   "execution_count": null,
   "id": "844a5fd5",
   "metadata": {},
   "outputs": [],
   "source": [
    "# Topic: Functions\n",
    "def square(x): return x*x\n",
    "print(square(5))"
   ]
  },
  {
   "cell_type": "code",
   "execution_count": null,
   "id": "6a18a40a",
   "metadata": {},
   "outputs": [],
   "source": [
    "# Topic: Algorithms\n",
    "# Bubble sort\n",
    "def bubble(arr):\n",
    " for i in range(len(arr)):\n",
    "  for j in range(0, len(arr)-i-1):\n",
    "   if arr[j]>arr[j+1]: arr[j],arr[j+1]=arr[j+1],arr[j]\n",
    "a=[5,3,8]\n",
    "bubble(a)\n",
    "print(a)"
   ]
  },
  {
   "cell_type": "code",
   "execution_count": null,
   "id": "df9568f8",
   "metadata": {},
   "outputs": [],
   "source": [
    "# Topic: Dictionaries & Sets\n",
    "s = set([1, 2, 3, 2])\n",
    "print(s)"
   ]
  },
  {
   "cell_type": "code",
   "execution_count": null,
   "id": "2f02c448",
   "metadata": {},
   "outputs": [],
   "source": [
    "# Topic: Matplotlib & Seaborn\n",
    "import seaborn as sns\n",
    "import pandas as pd\n",
    "sns.set()\n",
    "sns.histplot(pd.Series([1,2,2,3]));"
   ]
  },
  {
   "cell_type": "code",
   "execution_count": null,
   "id": "ff4a8f9b",
   "metadata": {},
   "outputs": [],
   "source": [
    "# Topic: Dictionaries & Sets\n",
    "s = set([1, 2, 3, 2])\n",
    "print(s)"
   ]
  },
  {
   "cell_type": "code",
   "execution_count": null,
   "id": "ec3dbc6d",
   "metadata": {},
   "outputs": [],
   "source": [
    "# Topic: Lists & Tuples\n",
    "lst = [1, 2, 3]\n",
    "lst.append(4)\n",
    "print(lst)"
   ]
  },
  {
   "cell_type": "code",
   "execution_count": null,
   "id": "aae57878",
   "metadata": {},
   "outputs": [],
   "source": [
    "# Topic: Mini Projects\n",
    "# Palindrome check\n",
    "def is_pal(s): return s == s[::-1]\n",
    "print(is_pal('madam'))"
   ]
  },
  {
   "cell_type": "code",
   "execution_count": null,
   "id": "c0fb406b",
   "metadata": {},
   "outputs": [],
   "source": [
    "# Topic: Mini Projects\n",
    "# Calculator\n",
    "def calc(a,b,op): return eval(f'{a}{op}{b}')\n",
    "print(calc(5,2,'+'))"
   ]
  },
  {
   "cell_type": "code",
   "execution_count": null,
   "id": "6ff1b06e",
   "metadata": {},
   "outputs": [],
   "source": [
    "# Topic: Basic ML\n",
    "from sklearn.linear_model import LinearRegression\n",
    "model = LinearRegression()\n",
    "print(model)"
   ]
  },
  {
   "cell_type": "code",
   "execution_count": null,
   "id": "299893e2",
   "metadata": {},
   "outputs": [],
   "source": [
    "# Topic: Lists & Tuples\n",
    "lst = [1, 2, 3]\n",
    "lst.append(4)\n",
    "print(lst)"
   ]
  },
  {
   "cell_type": "code",
   "execution_count": null,
   "id": "571a5826",
   "metadata": {},
   "outputs": [],
   "source": [
    "# Topic: Mini Projects\n",
    "# Calculator\n",
    "def calc(a,b,op): return eval(f'{a}{op}{b}')\n",
    "print(calc(5,2,'+'))"
   ]
  },
  {
   "cell_type": "code",
   "execution_count": null,
   "id": "3d95df48",
   "metadata": {},
   "outputs": [],
   "source": [
    "# Topic: Data Cleaning\n",
    "import pandas as pd\n",
    "df = pd.DataFrame({'A':[1,None,3]})\n",
    "df = df.fillna(0)\n",
    "print(df)"
   ]
  },
  {
   "cell_type": "code",
   "execution_count": null,
   "id": "41f12cd6",
   "metadata": {},
   "outputs": [],
   "source": [
    "# Topic: Matplotlib & Seaborn\n",
    "import seaborn as sns\n",
    "import pandas as pd\n",
    "sns.set()\n",
    "sns.histplot(pd.Series([1,2,2,3]));"
   ]
  },
  {
   "cell_type": "code",
   "execution_count": null,
   "id": "f324e929",
   "metadata": {},
   "outputs": [],
   "source": [
    "# Topic: Basic ML\n",
    "from sklearn.linear_model import LinearRegression\n",
    "model = LinearRegression()\n",
    "print(model)"
   ]
  },
  {
   "cell_type": "code",
   "execution_count": null,
   "id": "74b8d6ea",
   "metadata": {},
   "outputs": [],
   "source": [
    "# Topic: Basics\n",
    "x = 10\n",
    "y = 20\n",
    "print(x + y)"
   ]
  },
  {
   "cell_type": "code",
   "execution_count": null,
   "id": "5010f0f1",
   "metadata": {},
   "outputs": [],
   "source": [
    "# Topic: Decorators\n",
    "def log(func):\n",
    " def wrapper():\n",
    "  print('Call')\n",
    "  func()\n",
    " return wrapper\n",
    "@log\n",
    "def say(): print('Hi')\n",
    "say()"
   ]
  },
  {
   "cell_type": "code",
   "execution_count": null,
   "id": "71e67f1f",
   "metadata": {},
   "outputs": [],
   "source": [
    "# Topic: Algorithms\n",
    "# Bubble sort\n",
    "def bubble(arr):\n",
    " for i in range(len(arr)):\n",
    "  for j in range(0, len(arr)-i-1):\n",
    "   if arr[j]>arr[j+1]: arr[j],arr[j+1]=arr[j+1],arr[j]\n",
    "a=[5,3,8]\n",
    "bubble(a)\n",
    "print(a)"
   ]
  },
  {
   "cell_type": "code",
   "execution_count": null,
   "id": "3ea4c656",
   "metadata": {},
   "outputs": [],
   "source": [
    "# Topic: Algorithms\n",
    "# Bubble sort\n",
    "def bubble(arr):\n",
    " for i in range(len(arr)):\n",
    "  for j in range(0, len(arr)-i-1):\n",
    "   if arr[j]>arr[j+1]: arr[j],arr[j+1]=arr[j+1],arr[j]\n",
    "a=[5,3,8]\n",
    "bubble(a)\n",
    "print(a)"
   ]
  },
  {
   "cell_type": "code",
   "execution_count": null,
   "id": "d5865cf5",
   "metadata": {},
   "outputs": [],
   "source": [
    "# Topic: Dictionaries & Sets\n",
    "d = {'name': 'Fahd', 'age': 20}\n",
    "print(d.get('name'))"
   ]
  },
  {
   "cell_type": "code",
   "execution_count": null,
   "id": "c06df5aa",
   "metadata": {},
   "outputs": [],
   "source": [
    "# Topic: Lists & Tuples\n",
    "t = (1, 2, 3)\n",
    "print(t[0])"
   ]
  },
  {
   "cell_type": "code",
   "execution_count": null,
   "id": "3b76011c",
   "metadata": {},
   "outputs": [],
   "source": [
    "# Topic: Web Scraping\n",
    "import requests\n",
    "from bs4 import BeautifulSoup\n",
    "r = requests.get('https://example.com')\n",
    "soup = BeautifulSoup(r.text, 'html.parser')\n",
    "print(soup.title.text)"
   ]
  },
  {
   "cell_type": "code",
   "execution_count": null,
   "id": "0f569e81",
   "metadata": {},
   "outputs": [],
   "source": [
    "# Topic: Functions\n",
    "def square(x): return x*x\n",
    "print(square(5))"
   ]
  },
  {
   "cell_type": "code",
   "execution_count": null,
   "id": "3948370e",
   "metadata": {},
   "outputs": [],
   "source": [
    "# Topic: Functions\n",
    "def greet(name='User'):\n",
    "    print(f'Hi, {name}')\n",
    "greet()"
   ]
  },
  {
   "cell_type": "code",
   "execution_count": null,
   "id": "5de166c6",
   "metadata": {},
   "outputs": [],
   "source": [
    "# Topic: Data Cleaning\n",
    "import pandas as pd\n",
    "df = pd.DataFrame({'A':[1,None,3]})\n",
    "df = df.fillna(0)\n",
    "print(df)"
   ]
  },
  {
   "cell_type": "code",
   "execution_count": null,
   "id": "e45f85e2",
   "metadata": {},
   "outputs": [],
   "source": [
    "# Topic: Matplotlib & Seaborn\n",
    "import seaborn as sns\n",
    "import pandas as pd\n",
    "sns.set()\n",
    "sns.histplot(pd.Series([1,2,2,3]));"
   ]
  },
  {
   "cell_type": "code",
   "execution_count": null,
   "id": "5485d030",
   "metadata": {},
   "outputs": [],
   "source": [
    "# Topic: Functions\n",
    "def square(x): return x*x\n",
    "print(square(5))"
   ]
  },
  {
   "cell_type": "code",
   "execution_count": null,
   "id": "178e091b",
   "metadata": {},
   "outputs": [],
   "source": [
    "# Topic: Algorithms\n",
    "# Bubble sort\n",
    "def bubble(arr):\n",
    " for i in range(len(arr)):\n",
    "  for j in range(0, len(arr)-i-1):\n",
    "   if arr[j]>arr[j+1]: arr[j],arr[j+1]=arr[j+1],arr[j]\n",
    "a=[5,3,8]\n",
    "bubble(a)\n",
    "print(a)"
   ]
  },
  {
   "cell_type": "code",
   "execution_count": null,
   "id": "74e16342",
   "metadata": {},
   "outputs": [],
   "source": [
    "# Topic: Basic ML\n",
    "from sklearn.linear_model import LinearRegression\n",
    "model = LinearRegression()\n",
    "print(model)"
   ]
  },
  {
   "cell_type": "code",
   "execution_count": null,
   "id": "b891a86c",
   "metadata": {},
   "outputs": [],
   "source": [
    "# Topic: Algorithms\n",
    "# Bubble sort\n",
    "def bubble(arr):\n",
    " for i in range(len(arr)):\n",
    "  for j in range(0, len(arr)-i-1):\n",
    "   if arr[j]>arr[j+1]: arr[j],arr[j+1]=arr[j+1],arr[j]\n",
    "a=[5,3,8]\n",
    "bubble(a)\n",
    "print(a)"
   ]
  },
  {
   "cell_type": "code",
   "execution_count": null,
   "id": "8d715964",
   "metadata": {},
   "outputs": [],
   "source": [
    "# Topic: Mini Projects\n",
    "# Calculator\n",
    "def calc(a,b,op): return eval(f'{a}{op}{b}')\n",
    "print(calc(5,2,'+'))"
   ]
  },
  {
   "cell_type": "code",
   "execution_count": null,
   "id": "f3bf2e66",
   "metadata": {},
   "outputs": [],
   "source": [
    "# Topic: Decorators\n",
    "def log(func):\n",
    " def wrapper():\n",
    "  print('Call')\n",
    "  func()\n",
    " return wrapper\n",
    "@log\n",
    "def say(): print('Hi')\n",
    "say()"
   ]
  },
  {
   "cell_type": "code",
   "execution_count": null,
   "id": "c15af03e",
   "metadata": {},
   "outputs": [],
   "source": [
    "# Topic: Dictionaries & Sets\n",
    "d = {'name': 'Fahd', 'age': 20}\n",
    "print(d.get('name'))"
   ]
  },
  {
   "cell_type": "code",
   "execution_count": null,
   "id": "bea3d46c",
   "metadata": {},
   "outputs": [],
   "source": [
    "# Topic: OOP\n",
    "class Student:\n",
    "    def __init__(self, name): self.name = name\n",
    "s = Student('Fahd')\n",
    "print(s.name)"
   ]
  },
  {
   "cell_type": "code",
   "execution_count": null,
   "id": "c877a680",
   "metadata": {},
   "outputs": [],
   "source": [
    "# Topic: Loops\n",
    "for i in range(10): print(i*i)"
   ]
  },
  {
   "cell_type": "code",
   "execution_count": null,
   "id": "c0b8f0de",
   "metadata": {},
   "outputs": [],
   "source": [
    "# Topic: JSON & CSV\n",
    "import json\n",
    "data = {'a': 1}\n",
    "print(json.dumps(data))"
   ]
  },
  {
   "cell_type": "code",
   "execution_count": null,
   "id": "79cbaea9",
   "metadata": {},
   "outputs": [],
   "source": [
    "# Topic: Data Cleaning\n",
    "import pandas as pd\n",
    "df = pd.DataFrame({'A':[1,None,3]})\n",
    "df = df.fillna(0)\n",
    "print(df)"
   ]
  },
  {
   "cell_type": "code",
   "execution_count": null,
   "id": "f52d88e5",
   "metadata": {},
   "outputs": [],
   "source": [
    "# Topic: JSON & CSV\n",
    "import csv\n",
    "with open('file.csv', 'w', newline='') as f:\n",
    " csv.writer(f).writerow(['a','b','c'])"
   ]
  },
  {
   "cell_type": "code",
   "execution_count": null,
   "id": "5c66fda9",
   "metadata": {},
   "outputs": [],
   "source": [
    "# Topic: Pandas\n",
    "import pandas as pd\n",
    "df = pd.read_csv('file.csv')\n",
    "print(df.head())"
   ]
  },
  {
   "cell_type": "code",
   "execution_count": null,
   "id": "ded318e5",
   "metadata": {},
   "outputs": [],
   "source": [
    "# Topic: Pandas\n",
    "import pandas as pd\n",
    "df = pd.read_csv('file.csv')\n",
    "print(df.head())"
   ]
  },
  {
   "cell_type": "code",
   "execution_count": null,
   "id": "b565e1ed",
   "metadata": {},
   "outputs": [],
   "source": [
    "# Topic: Decorators\n",
    "def log(func):\n",
    " def wrapper():\n",
    "  print('Call')\n",
    "  func()\n",
    " return wrapper\n",
    "@log\n",
    "def say(): print('Hi')\n",
    "say()"
   ]
  },
  {
   "cell_type": "code",
   "execution_count": null,
   "id": "9c7fd44c",
   "metadata": {},
   "outputs": [],
   "source": [
    "# Topic: Recursion\n",
    "def fact(n): return 1 if n==0 else n*fact(n-1)\n",
    "print(fact(5))"
   ]
  },
  {
   "cell_type": "code",
   "execution_count": null,
   "id": "cbcb939c",
   "metadata": {},
   "outputs": [],
   "source": [
    "# Topic: Recursion\n",
    "def fact(n): return 1 if n==0 else n*fact(n-1)\n",
    "print(fact(5))"
   ]
  },
  {
   "cell_type": "code",
   "execution_count": null,
   "id": "81662f91",
   "metadata": {},
   "outputs": [],
   "source": [
    "# Topic: NumPy\n",
    "import numpy as np\n",
    "a = np.array([1, 2, 3])\n",
    "print(a + 5)"
   ]
  },
  {
   "cell_type": "code",
   "execution_count": null,
   "id": "28224007",
   "metadata": {},
   "outputs": [],
   "source": [
    "# Topic: Functions\n",
    "def square(x): return x*x\n",
    "print(square(5))"
   ]
  },
  {
   "cell_type": "code",
   "execution_count": null,
   "id": "fbff8c53",
   "metadata": {},
   "outputs": [],
   "source": [
    "# Topic: Regex\n",
    "import re\n",
    "text = 'email: test@example.com'\n",
    "print(re.findall(r'\\S+@\\S+', text))"
   ]
  },
  {
   "cell_type": "code",
   "execution_count": null,
   "id": "ea858522",
   "metadata": {},
   "outputs": [],
   "source": [
    "# Topic: Data Cleaning\n",
    "import pandas as pd\n",
    "df = pd.DataFrame({'A':[1,None,3]})\n",
    "df = df.fillna(0)\n",
    "print(df)"
   ]
  },
  {
   "cell_type": "code",
   "execution_count": null,
   "id": "ee25dfec",
   "metadata": {},
   "outputs": [],
   "source": [
    "# Topic: Mini Projects\n",
    "# Calculator\n",
    "def calc(a,b,op): return eval(f'{a}{op}{b}')\n",
    "print(calc(5,2,'+'))"
   ]
  },
  {
   "cell_type": "code",
   "execution_count": null,
   "id": "be43e781",
   "metadata": {},
   "outputs": [],
   "source": [
    "# Topic: Pandas\n",
    "import pandas as pd\n",
    "df = pd.read_csv('file.csv')\n",
    "print(df.head())"
   ]
  },
  {
   "cell_type": "code",
   "execution_count": null,
   "id": "4fb99000",
   "metadata": {},
   "outputs": [],
   "source": [
    "# Topic: Web Scraping\n",
    "import requests\n",
    "from bs4 import BeautifulSoup\n",
    "r = requests.get('https://example.com')\n",
    "soup = BeautifulSoup(r.text, 'html.parser')\n",
    "print(soup.title.text)"
   ]
  },
  {
   "cell_type": "code",
   "execution_count": null,
   "id": "7a204dba",
   "metadata": {},
   "outputs": [],
   "source": [
    "# Topic: Matplotlib & Seaborn\n",
    "import matplotlib.pyplot as plt\n",
    "plt.plot([1,2],[3,4])\n",
    "plt.show()"
   ]
  },
  {
   "cell_type": "code",
   "execution_count": null,
   "id": "b00a322c",
   "metadata": {},
   "outputs": [],
   "source": [
    "# Topic: Lists & Tuples\n",
    "t = (1, 2, 3)\n",
    "print(t[0])"
   ]
  },
  {
   "cell_type": "code",
   "execution_count": null,
   "id": "2650d7c4",
   "metadata": {},
   "outputs": [],
   "source": [
    "# Topic: Dictionaries & Sets\n",
    "s = set([1, 2, 3, 2])\n",
    "print(s)"
   ]
  },
  {
   "cell_type": "code",
   "execution_count": null,
   "id": "b88fe2f1",
   "metadata": {},
   "outputs": [],
   "source": [
    "# Topic: NumPy\n",
    "import numpy as np\n",
    "print(np.linspace(0, 1, 5))"
   ]
  },
  {
   "cell_type": "code",
   "execution_count": null,
   "id": "b2c773a1",
   "metadata": {},
   "outputs": [],
   "source": [
    "# Topic: Algorithms\n",
    "# Bubble sort\n",
    "def bubble(arr):\n",
    " for i in range(len(arr)):\n",
    "  for j in range(0, len(arr)-i-1):\n",
    "   if arr[j]>arr[j+1]: arr[j],arr[j+1]=arr[j+1],arr[j]\n",
    "a=[5,3,8]\n",
    "bubble(a)\n",
    "print(a)"
   ]
  },
  {
   "cell_type": "code",
   "execution_count": null,
   "id": "0a0a7f85",
   "metadata": {},
   "outputs": [],
   "source": [
    "# Topic: Pandas\n",
    "import pandas as pd\n",
    "df = pd.read_csv('file.csv')\n",
    "print(df.head())"
   ]
  },
  {
   "cell_type": "code",
   "execution_count": null,
   "id": "1ff8bd13",
   "metadata": {},
   "outputs": [],
   "source": [
    "# Topic: Matplotlib & Seaborn\n",
    "import matplotlib.pyplot as plt\n",
    "plt.plot([1,2],[3,4])\n",
    "plt.show()"
   ]
  },
  {
   "cell_type": "code",
   "execution_count": null,
   "id": "69135de1",
   "metadata": {},
   "outputs": [],
   "source": [
    "# Topic: Web Scraping\n",
    "import requests\n",
    "from bs4 import BeautifulSoup\n",
    "r = requests.get('https://example.com')\n",
    "soup = BeautifulSoup(r.text, 'html.parser')\n",
    "print(soup.title.text)"
   ]
  },
  {
   "cell_type": "code",
   "execution_count": null,
   "id": "bdb32d16",
   "metadata": {},
   "outputs": [],
   "source": [
    "# Topic: JSON & CSV\n",
    "import json\n",
    "data = {'a': 1}\n",
    "print(json.dumps(data))"
   ]
  },
  {
   "cell_type": "code",
   "execution_count": null,
   "id": "3b4c62e7",
   "metadata": {},
   "outputs": [],
   "source": [
    "# Topic: Matplotlib & Seaborn\n",
    "import seaborn as sns\n",
    "import pandas as pd\n",
    "sns.set()\n",
    "sns.histplot(pd.Series([1,2,2,3]));"
   ]
  },
  {
   "cell_type": "code",
   "execution_count": null,
   "id": "e61347d2",
   "metadata": {},
   "outputs": [],
   "source": [
    "# Topic: Dictionaries & Sets\n",
    "s = set([1, 2, 3, 2])\n",
    "print(s)"
   ]
  },
  {
   "cell_type": "code",
   "execution_count": null,
   "id": "5093df7d",
   "metadata": {},
   "outputs": [],
   "source": [
    "# Topic: CLI Tools\n",
    "import sys\n",
    "print(f'Arguments: {sys.argv}')"
   ]
  },
  {
   "cell_type": "code",
   "execution_count": null,
   "id": "e4c86f03",
   "metadata": {},
   "outputs": [],
   "source": [
    "# Topic: Recursion\n",
    "def fact(n): return 1 if n==0 else n*fact(n-1)\n",
    "print(fact(5))"
   ]
  },
  {
   "cell_type": "code",
   "execution_count": null,
   "id": "f655d2da",
   "metadata": {},
   "outputs": [],
   "source": [
    "# Topic: Lists & Tuples\n",
    "lst = [1, 2, 3]\n",
    "lst.append(4)\n",
    "print(lst)"
   ]
  },
  {
   "cell_type": "code",
   "execution_count": null,
   "id": "53233895",
   "metadata": {},
   "outputs": [],
   "source": [
    "# Topic: Loops\n",
    "for i in range(10): print(i*i)"
   ]
  },
  {
   "cell_type": "code",
   "execution_count": null,
   "id": "41f6bb2a",
   "metadata": {},
   "outputs": [],
   "source": [
    "# Topic: NumPy\n",
    "import numpy as np\n",
    "print(np.linspace(0, 1, 5))"
   ]
  },
  {
   "cell_type": "code",
   "execution_count": null,
   "id": "a6a2b794",
   "metadata": {},
   "outputs": [],
   "source": [
    "# Topic: Basics\n",
    "x = 10\n",
    "y = 20\n",
    "print(x + y)"
   ]
  },
  {
   "cell_type": "code",
   "execution_count": null,
   "id": "9e247fe3",
   "metadata": {},
   "outputs": [],
   "source": [
    "# Topic: Loops\n",
    "for i in range(10): print(i*i)"
   ]
  },
  {
   "cell_type": "code",
   "execution_count": null,
   "id": "2256e996",
   "metadata": {},
   "outputs": [],
   "source": [
    "# Topic: Web Scraping\n",
    "import requests\n",
    "from bs4 import BeautifulSoup\n",
    "r = requests.get('https://example.com')\n",
    "soup = BeautifulSoup(r.text, 'html.parser')\n",
    "print(soup.title.text)"
   ]
  },
  {
   "cell_type": "code",
   "execution_count": null,
   "id": "7e0fba28",
   "metadata": {},
   "outputs": [],
   "source": [
    "# Topic: Algorithms\n",
    "# Bubble sort\n",
    "def bubble(arr):\n",
    " for i in range(len(arr)):\n",
    "  for j in range(0, len(arr)-i-1):\n",
    "   if arr[j]>arr[j+1]: arr[j],arr[j+1]=arr[j+1],arr[j]\n",
    "a=[5,3,8]\n",
    "bubble(a)\n",
    "print(a)"
   ]
  },
  {
   "cell_type": "code",
   "execution_count": null,
   "id": "c96f212f",
   "metadata": {},
   "outputs": [],
   "source": [
    "# Topic: Dictionaries & Sets\n",
    "s = set([1, 2, 3, 2])\n",
    "print(s)"
   ]
  },
  {
   "cell_type": "code",
   "execution_count": null,
   "id": "23d05a09",
   "metadata": {},
   "outputs": [],
   "source": [
    "# Topic: Mini Projects\n",
    "# Palindrome check\n",
    "def is_pal(s): return s == s[::-1]\n",
    "print(is_pal('madam'))"
   ]
  },
  {
   "cell_type": "code",
   "execution_count": null,
   "id": "03d98a97",
   "metadata": {},
   "outputs": [],
   "source": [
    "# Topic: Basics\n",
    "x = 10\n",
    "y = 20\n",
    "print(x + y)"
   ]
  },
  {
   "cell_type": "code",
   "execution_count": null,
   "id": "b429eb43",
   "metadata": {},
   "outputs": [],
   "source": [
    "# Topic: Data Cleaning\n",
    "import pandas as pd\n",
    "df = pd.DataFrame({'A':[1,None,3]})\n",
    "df = df.fillna(0)\n",
    "print(df)"
   ]
  },
  {
   "cell_type": "code",
   "execution_count": null,
   "id": "70728f48",
   "metadata": {},
   "outputs": [],
   "source": [
    "# Topic: OOP\n",
    "class Student:\n",
    "    def __init__(self, name): self.name = name\n",
    "s = Student('Fahd')\n",
    "print(s.name)"
   ]
  },
  {
   "cell_type": "code",
   "execution_count": null,
   "id": "8501cbd9",
   "metadata": {},
   "outputs": [],
   "source": [
    "# Topic: Pandas\n",
    "import pandas as pd\n",
    "df = pd.DataFrame({'A':[1,2],'B':[3,4]})\n",
    "print(df)"
   ]
  },
  {
   "cell_type": "code",
   "execution_count": null,
   "id": "f17a93cc",
   "metadata": {},
   "outputs": [],
   "source": [
    "# Topic: Basic ML\n",
    "from sklearn.linear_model import LinearRegression\n",
    "model = LinearRegression()\n",
    "print(model)"
   ]
  },
  {
   "cell_type": "code",
   "execution_count": null,
   "id": "da12005a",
   "metadata": {},
   "outputs": [],
   "source": [
    "# Topic: OOP\n",
    "class Student:\n",
    "    def __init__(self, name): self.name = name\n",
    "s = Student('Fahd')\n",
    "print(s.name)"
   ]
  },
  {
   "cell_type": "code",
   "execution_count": null,
   "id": "1fe5f64c",
   "metadata": {},
   "outputs": [],
   "source": [
    "# Topic: File I/O\n",
    "with open('test.txt', 'r') as f:\n",
    "    print(f.read())"
   ]
  },
  {
   "cell_type": "code",
   "execution_count": null,
   "id": "d1c7bbde",
   "metadata": {},
   "outputs": [],
   "source": [
    "# Topic: Basic ML\n",
    "from sklearn.linear_model import LinearRegression\n",
    "model = LinearRegression()\n",
    "print(model)"
   ]
  },
  {
   "cell_type": "code",
   "execution_count": null,
   "id": "807b13ef",
   "metadata": {},
   "outputs": [],
   "source": [
    "# Topic: Basics\n",
    "x = 10\n",
    "y = 20\n",
    "print(x + y)"
   ]
  },
  {
   "cell_type": "code",
   "execution_count": null,
   "id": "7f2b227f",
   "metadata": {},
   "outputs": [],
   "source": [
    "# Topic: Dictionaries & Sets\n",
    "d = {'name': 'Fahd', 'age': 20}\n",
    "print(d.get('name'))"
   ]
  },
  {
   "cell_type": "code",
   "execution_count": null,
   "id": "9dccaed7",
   "metadata": {},
   "outputs": [],
   "source": [
    "# Topic: Recursion\n",
    "def fact(n): return 1 if n==0 else n*fact(n-1)\n",
    "print(fact(5))"
   ]
  },
  {
   "cell_type": "code",
   "execution_count": null,
   "id": "6e787e6d",
   "metadata": {},
   "outputs": [],
   "source": [
    "# Topic: Loops\n",
    "while True:\n",
    "    print('Break')\n",
    "    break"
   ]
  },
  {
   "cell_type": "code",
   "execution_count": null,
   "id": "98ca7ac2",
   "metadata": {},
   "outputs": [],
   "source": [
    "# Topic: Mini Projects\n",
    "# Palindrome check\n",
    "def is_pal(s): return s == s[::-1]\n",
    "print(is_pal('madam'))"
   ]
  },
  {
   "cell_type": "code",
   "execution_count": null,
   "id": "a1138eb7",
   "metadata": {},
   "outputs": [],
   "source": [
    "# Topic: Loops\n",
    "while True:\n",
    "    print('Break')\n",
    "    break"
   ]
  },
  {
   "cell_type": "code",
   "execution_count": null,
   "id": "71a2ee65",
   "metadata": {},
   "outputs": [],
   "source": [
    "# Topic: Regex\n",
    "import re\n",
    "text = 'email: test@example.com'\n",
    "print(re.findall(r'\\S+@\\S+', text))"
   ]
  },
  {
   "cell_type": "code",
   "execution_count": null,
   "id": "dbcbcba5",
   "metadata": {},
   "outputs": [],
   "source": [
    "# Topic: Basic ML\n",
    "from sklearn.linear_model import LinearRegression\n",
    "model = LinearRegression()\n",
    "print(model)"
   ]
  },
  {
   "cell_type": "code",
   "execution_count": null,
   "id": "186f0b7a",
   "metadata": {},
   "outputs": [],
   "source": [
    "# Topic: Basics\n",
    "x = 10\n",
    "y = 20\n",
    "print(x + y)"
   ]
  },
  {
   "cell_type": "code",
   "execution_count": null,
   "id": "180e443c",
   "metadata": {},
   "outputs": [],
   "source": [
    "# Topic: Pandas\n",
    "import pandas as pd\n",
    "df = pd.read_csv('file.csv')\n",
    "print(df.head())"
   ]
  },
  {
   "cell_type": "code",
   "execution_count": null,
   "id": "30492000",
   "metadata": {},
   "outputs": [],
   "source": [
    "# Topic: Algorithms\n",
    "# Bubble sort\n",
    "def bubble(arr):\n",
    " for i in range(len(arr)):\n",
    "  for j in range(0, len(arr)-i-1):\n",
    "   if arr[j]>arr[j+1]: arr[j],arr[j+1]=arr[j+1],arr[j]\n",
    "a=[5,3,8]\n",
    "bubble(a)\n",
    "print(a)"
   ]
  },
  {
   "cell_type": "code",
   "execution_count": null,
   "id": "859e71b7",
   "metadata": {},
   "outputs": [],
   "source": [
    "# Topic: JSON & CSV\n",
    "import json\n",
    "data = {'a': 1}\n",
    "print(json.dumps(data))"
   ]
  },
  {
   "cell_type": "code",
   "execution_count": null,
   "id": "e0f3521e",
   "metadata": {},
   "outputs": [],
   "source": [
    "# Topic: Decorators\n",
    "def log(func):\n",
    " def wrapper():\n",
    "  print('Call')\n",
    "  func()\n",
    " return wrapper\n",
    "@log\n",
    "def say(): print('Hi')\n",
    "say()"
   ]
  },
  {
   "cell_type": "code",
   "execution_count": null,
   "id": "52236862",
   "metadata": {},
   "outputs": [],
   "source": [
    "# Topic: NumPy\n",
    "import numpy as np\n",
    "a = np.array([1, 2, 3])\n",
    "print(a + 5)"
   ]
  },
  {
   "cell_type": "code",
   "execution_count": null,
   "id": "c93a7c0a",
   "metadata": {},
   "outputs": [],
   "source": [
    "# Topic: OOP\n",
    "class Student:\n",
    "    def __init__(self, name): self.name = name\n",
    "s = Student('Fahd')\n",
    "print(s.name)"
   ]
  },
  {
   "cell_type": "code",
   "execution_count": null,
   "id": "dbaf60c4",
   "metadata": {},
   "outputs": [],
   "source": [
    "# Topic: Pandas\n",
    "import pandas as pd\n",
    "df = pd.DataFrame({'A':[1,2],'B':[3,4]})\n",
    "print(df)"
   ]
  },
  {
   "cell_type": "code",
   "execution_count": null,
   "id": "00d7211a",
   "metadata": {},
   "outputs": [],
   "source": [
    "# Topic: Decorators\n",
    "def log(func):\n",
    " def wrapper():\n",
    "  print('Call')\n",
    "  func()\n",
    " return wrapper\n",
    "@log\n",
    "def say(): print('Hi')\n",
    "say()"
   ]
  },
  {
   "cell_type": "code",
   "execution_count": null,
   "id": "ba62714c",
   "metadata": {},
   "outputs": [],
   "source": [
    "# Topic: CLI Tools\n",
    "import sys\n",
    "print(f'Arguments: {sys.argv}')"
   ]
  },
  {
   "cell_type": "code",
   "execution_count": null,
   "id": "73a2b03a",
   "metadata": {},
   "outputs": [],
   "source": [
    "# Topic: Web Scraping\n",
    "import requests\n",
    "from bs4 import BeautifulSoup\n",
    "r = requests.get('https://example.com')\n",
    "soup = BeautifulSoup(r.text, 'html.parser')\n",
    "print(soup.title.text)"
   ]
  },
  {
   "cell_type": "code",
   "execution_count": null,
   "id": "0aa674e9",
   "metadata": {},
   "outputs": [],
   "source": [
    "# Topic: NumPy\n",
    "import numpy as np\n",
    "a = np.array([1, 2, 3])\n",
    "print(a + 5)"
   ]
  },
  {
   "cell_type": "code",
   "execution_count": null,
   "id": "b54c7400",
   "metadata": {},
   "outputs": [],
   "source": [
    "# Topic: Web Scraping\n",
    "import requests\n",
    "from bs4 import BeautifulSoup\n",
    "r = requests.get('https://example.com')\n",
    "soup = BeautifulSoup(r.text, 'html.parser')\n",
    "print(soup.title.text)"
   ]
  },
  {
   "cell_type": "code",
   "execution_count": null,
   "id": "67125eb5",
   "metadata": {},
   "outputs": [],
   "source": [
    "# Topic: Web Scraping\n",
    "import requests\n",
    "from bs4 import BeautifulSoup\n",
    "r = requests.get('https://example.com')\n",
    "soup = BeautifulSoup(r.text, 'html.parser')\n",
    "print(soup.title.text)"
   ]
  },
  {
   "cell_type": "code",
   "execution_count": null,
   "id": "645d75b8",
   "metadata": {},
   "outputs": [],
   "source": [
    "# Topic: Decorators\n",
    "def log(func):\n",
    " def wrapper():\n",
    "  print('Call')\n",
    "  func()\n",
    " return wrapper\n",
    "@log\n",
    "def say(): print('Hi')\n",
    "say()"
   ]
  },
  {
   "cell_type": "code",
   "execution_count": null,
   "id": "0c761612",
   "metadata": {},
   "outputs": [],
   "source": [
    "# Topic: Lists & Tuples\n",
    "lst = [1, 2, 3]\n",
    "lst.append(4)\n",
    "print(lst)"
   ]
  },
  {
   "cell_type": "code",
   "execution_count": null,
   "id": "d1595770",
   "metadata": {},
   "outputs": [],
   "source": [
    "# Topic: Data Cleaning\n",
    "import pandas as pd\n",
    "df = pd.DataFrame({'A':[1,None,3]})\n",
    "df = df.fillna(0)\n",
    "print(df)"
   ]
  },
  {
   "cell_type": "code",
   "execution_count": null,
   "id": "b2ffe0e5",
   "metadata": {},
   "outputs": [],
   "source": [
    "# Topic: Matplotlib & Seaborn\n",
    "import seaborn as sns\n",
    "import pandas as pd\n",
    "sns.set()\n",
    "sns.histplot(pd.Series([1,2,2,3]));"
   ]
  },
  {
   "cell_type": "code",
   "execution_count": null,
   "id": "483c576c",
   "metadata": {},
   "outputs": [],
   "source": [
    "# Topic: Pandas\n",
    "import pandas as pd\n",
    "df = pd.DataFrame({'A':[1,2],'B':[3,4]})\n",
    "print(df)"
   ]
  },
  {
   "cell_type": "code",
   "execution_count": null,
   "id": "66a2d2b5",
   "metadata": {},
   "outputs": [],
   "source": [
    "# Topic: Algorithms\n",
    "# Bubble sort\n",
    "def bubble(arr):\n",
    " for i in range(len(arr)):\n",
    "  for j in range(0, len(arr)-i-1):\n",
    "   if arr[j]>arr[j+1]: arr[j],arr[j+1]=arr[j+1],arr[j]\n",
    "a=[5,3,8]\n",
    "bubble(a)\n",
    "print(a)"
   ]
  },
  {
   "cell_type": "code",
   "execution_count": null,
   "id": "05c528b4",
   "metadata": {},
   "outputs": [],
   "source": [
    "# Topic: Dictionaries & Sets\n",
    "d = {'name': 'Fahd', 'age': 20}\n",
    "print(d.get('name'))"
   ]
  },
  {
   "cell_type": "code",
   "execution_count": null,
   "id": "3a8bf051",
   "metadata": {},
   "outputs": [],
   "source": [
    "# Topic: File I/O\n",
    "with open('test.txt', 'w') as f:\n",
    "    f.write('Hello World')"
   ]
  },
  {
   "cell_type": "code",
   "execution_count": null,
   "id": "428a17ad",
   "metadata": {},
   "outputs": [],
   "source": [
    "# Topic: JSON & CSV\n",
    "import json\n",
    "data = {'a': 1}\n",
    "print(json.dumps(data))"
   ]
  },
  {
   "cell_type": "code",
   "execution_count": null,
   "id": "3dd50948",
   "metadata": {},
   "outputs": [],
   "source": [
    "# Topic: Algorithms\n",
    "# Bubble sort\n",
    "def bubble(arr):\n",
    " for i in range(len(arr)):\n",
    "  for j in range(0, len(arr)-i-1):\n",
    "   if arr[j]>arr[j+1]: arr[j],arr[j+1]=arr[j+1],arr[j]\n",
    "a=[5,3,8]\n",
    "bubble(a)\n",
    "print(a)"
   ]
  },
  {
   "cell_type": "code",
   "execution_count": null,
   "id": "731c9380",
   "metadata": {},
   "outputs": [],
   "source": [
    "# Topic: Web Scraping\n",
    "import requests\n",
    "from bs4 import BeautifulSoup\n",
    "r = requests.get('https://example.com')\n",
    "soup = BeautifulSoup(r.text, 'html.parser')\n",
    "print(soup.title.text)"
   ]
  },
  {
   "cell_type": "code",
   "execution_count": null,
   "id": "6e70bd5e",
   "metadata": {},
   "outputs": [],
   "source": [
    "# Topic: Loops\n",
    "while True:\n",
    "    print('Break')\n",
    "    break"
   ]
  },
  {
   "cell_type": "code",
   "execution_count": null,
   "id": "4857ee8b",
   "metadata": {},
   "outputs": [],
   "source": [
    "# Topic: Recursion\n",
    "def fact(n): return 1 if n==0 else n*fact(n-1)\n",
    "print(fact(5))"
   ]
  },
  {
   "cell_type": "code",
   "execution_count": null,
   "id": "25123be7",
   "metadata": {},
   "outputs": [],
   "source": [
    "# Topic: Recursion\n",
    "def fact(n): return 1 if n==0 else n*fact(n-1)\n",
    "print(fact(5))"
   ]
  },
  {
   "cell_type": "code",
   "execution_count": null,
   "id": "e84a4386",
   "metadata": {},
   "outputs": [],
   "source": [
    "# Topic: Basics\n",
    "x = 10\n",
    "y = 20\n",
    "print(x + y)"
   ]
  },
  {
   "cell_type": "code",
   "execution_count": null,
   "id": "055c32be",
   "metadata": {},
   "outputs": [],
   "source": [
    "# Topic: Basics\n",
    "name = 'Fahd'\n",
    "print(f'Hello, {name}')"
   ]
  },
  {
   "cell_type": "code",
   "execution_count": null,
   "id": "fe0025cc",
   "metadata": {},
   "outputs": [],
   "source": [
    "# Topic: Regex\n",
    "import re\n",
    "text = 'email: test@example.com'\n",
    "print(re.findall(r'\\S+@\\S+', text))"
   ]
  },
  {
   "cell_type": "code",
   "execution_count": null,
   "id": "5b9dc34e",
   "metadata": {},
   "outputs": [],
   "source": [
    "# Topic: Loops\n",
    "while True:\n",
    "    print('Break')\n",
    "    break"
   ]
  },
  {
   "cell_type": "code",
   "execution_count": null,
   "id": "9823ef21",
   "metadata": {},
   "outputs": [],
   "source": [
    "# Topic: NumPy\n",
    "import numpy as np\n",
    "a = np.array([1, 2, 3])\n",
    "print(a + 5)"
   ]
  },
  {
   "cell_type": "code",
   "execution_count": null,
   "id": "f0807861",
   "metadata": {},
   "outputs": [],
   "source": [
    "# Topic: CLI Tools\n",
    "import sys\n",
    "print(f'Arguments: {sys.argv}')"
   ]
  },
  {
   "cell_type": "code",
   "execution_count": null,
   "id": "31c01c6e",
   "metadata": {},
   "outputs": [],
   "source": [
    "# Topic: Web Scraping\n",
    "import requests\n",
    "from bs4 import BeautifulSoup\n",
    "r = requests.get('https://example.com')\n",
    "soup = BeautifulSoup(r.text, 'html.parser')\n",
    "print(soup.title.text)"
   ]
  },
  {
   "cell_type": "code",
   "execution_count": null,
   "id": "c59fcf14",
   "metadata": {},
   "outputs": [],
   "source": [
    "# Topic: Regex\n",
    "import re\n",
    "text = 'email: test@example.com'\n",
    "print(re.findall(r'\\S+@\\S+', text))"
   ]
  },
  {
   "cell_type": "code",
   "execution_count": null,
   "id": "a4ba1b4f",
   "metadata": {},
   "outputs": [],
   "source": [
    "# Topic: Web Scraping\n",
    "import requests\n",
    "from bs4 import BeautifulSoup\n",
    "r = requests.get('https://example.com')\n",
    "soup = BeautifulSoup(r.text, 'html.parser')\n",
    "print(soup.title.text)"
   ]
  },
  {
   "cell_type": "code",
   "execution_count": null,
   "id": "31d20cae",
   "metadata": {},
   "outputs": [],
   "source": [
    "# Topic: Algorithms\n",
    "# Bubble sort\n",
    "def bubble(arr):\n",
    " for i in range(len(arr)):\n",
    "  for j in range(0, len(arr)-i-1):\n",
    "   if arr[j]>arr[j+1]: arr[j],arr[j+1]=arr[j+1],arr[j]\n",
    "a=[5,3,8]\n",
    "bubble(a)\n",
    "print(a)"
   ]
  },
  {
   "cell_type": "code",
   "execution_count": null,
   "id": "3867a2d4",
   "metadata": {},
   "outputs": [],
   "source": [
    "# Topic: OOP\n",
    "class Student:\n",
    "    def __init__(self, name): self.name = name\n",
    "s = Student('Fahd')\n",
    "print(s.name)"
   ]
  },
  {
   "cell_type": "code",
   "execution_count": null,
   "id": "d8c10b63",
   "metadata": {},
   "outputs": [],
   "source": [
    "# Topic: Web Scraping\n",
    "import requests\n",
    "from bs4 import BeautifulSoup\n",
    "r = requests.get('https://example.com')\n",
    "soup = BeautifulSoup(r.text, 'html.parser')\n",
    "print(soup.title.text)"
   ]
  },
  {
   "cell_type": "code",
   "execution_count": null,
   "id": "16d947c3",
   "metadata": {},
   "outputs": [],
   "source": [
    "# Topic: File I/O\n",
    "with open('test.txt', 'w') as f:\n",
    "    f.write('Hello World')"
   ]
  },
  {
   "cell_type": "code",
   "execution_count": null,
   "id": "211e42b8",
   "metadata": {},
   "outputs": [],
   "source": [
    "# Topic: Recursion\n",
    "def fact(n): return 1 if n==0 else n*fact(n-1)\n",
    "print(fact(5))"
   ]
  },
  {
   "cell_type": "code",
   "execution_count": null,
   "id": "c3aad480",
   "metadata": {},
   "outputs": [],
   "source": [
    "# Topic: Decorators\n",
    "def log(func):\n",
    " def wrapper():\n",
    "  print('Call')\n",
    "  func()\n",
    " return wrapper\n",
    "@log\n",
    "def say(): print('Hi')\n",
    "say()"
   ]
  },
  {
   "cell_type": "code",
   "execution_count": null,
   "id": "2f6155b6",
   "metadata": {},
   "outputs": [],
   "source": [
    "# Topic: NumPy\n",
    "import numpy as np\n",
    "a = np.array([1, 2, 3])\n",
    "print(a + 5)"
   ]
  },
  {
   "cell_type": "code",
   "execution_count": null,
   "id": "87c1dc1f",
   "metadata": {},
   "outputs": [],
   "source": [
    "# Topic: Web Scraping\n",
    "import requests\n",
    "from bs4 import BeautifulSoup\n",
    "r = requests.get('https://example.com')\n",
    "soup = BeautifulSoup(r.text, 'html.parser')\n",
    "print(soup.title.text)"
   ]
  },
  {
   "cell_type": "code",
   "execution_count": null,
   "id": "4e833cdc",
   "metadata": {},
   "outputs": [],
   "source": [
    "# Topic: Web Scraping\n",
    "import requests\n",
    "from bs4 import BeautifulSoup\n",
    "r = requests.get('https://example.com')\n",
    "soup = BeautifulSoup(r.text, 'html.parser')\n",
    "print(soup.title.text)"
   ]
  },
  {
   "cell_type": "code",
   "execution_count": null,
   "id": "770affef",
   "metadata": {},
   "outputs": [],
   "source": [
    "# Topic: Web Scraping\n",
    "import requests\n",
    "from bs4 import BeautifulSoup\n",
    "r = requests.get('https://example.com')\n",
    "soup = BeautifulSoup(r.text, 'html.parser')\n",
    "print(soup.title.text)"
   ]
  },
  {
   "cell_type": "code",
   "execution_count": null,
   "id": "d039f148",
   "metadata": {},
   "outputs": [],
   "source": [
    "# Topic: Data Cleaning\n",
    "import pandas as pd\n",
    "df = pd.DataFrame({'A':[1,None,3]})\n",
    "df = df.fillna(0)\n",
    "print(df)"
   ]
  },
  {
   "cell_type": "code",
   "execution_count": null,
   "id": "0104699f",
   "metadata": {},
   "outputs": [],
   "source": [
    "# Topic: Data Cleaning\n",
    "import pandas as pd\n",
    "df = pd.DataFrame({'A':[1,None,3]})\n",
    "df = df.fillna(0)\n",
    "print(df)"
   ]
  },
  {
   "cell_type": "code",
   "execution_count": null,
   "id": "13e84598",
   "metadata": {},
   "outputs": [],
   "source": [
    "# Topic: OOP\n",
    "class Student:\n",
    "    def __init__(self, name): self.name = name\n",
    "s = Student('Fahd')\n",
    "print(s.name)"
   ]
  },
  {
   "cell_type": "code",
   "execution_count": null,
   "id": "b79bab6d",
   "metadata": {},
   "outputs": [],
   "source": [
    "# Topic: Web Scraping\n",
    "import requests\n",
    "from bs4 import BeautifulSoup\n",
    "r = requests.get('https://example.com')\n",
    "soup = BeautifulSoup(r.text, 'html.parser')\n",
    "print(soup.title.text)"
   ]
  },
  {
   "cell_type": "code",
   "execution_count": null,
   "id": "9445fb63",
   "metadata": {},
   "outputs": [],
   "source": [
    "# Topic: OOP\n",
    "class Student:\n",
    "    def __init__(self, name): self.name = name\n",
    "s = Student('Fahd')\n",
    "print(s.name)"
   ]
  },
  {
   "cell_type": "code",
   "execution_count": null,
   "id": "0f55622a",
   "metadata": {},
   "outputs": [],
   "source": [
    "# Topic: Recursion\n",
    "def fact(n): return 1 if n==0 else n*fact(n-1)\n",
    "print(fact(5))"
   ]
  },
  {
   "cell_type": "code",
   "execution_count": null,
   "id": "2c2301b3",
   "metadata": {},
   "outputs": [],
   "source": [
    "# Topic: Algorithms\n",
    "# Bubble sort\n",
    "def bubble(arr):\n",
    " for i in range(len(arr)):\n",
    "  for j in range(0, len(arr)-i-1):\n",
    "   if arr[j]>arr[j+1]: arr[j],arr[j+1]=arr[j+1],arr[j]\n",
    "a=[5,3,8]\n",
    "bubble(a)\n",
    "print(a)"
   ]
  },
  {
   "cell_type": "code",
   "execution_count": null,
   "id": "2cb89e7c",
   "metadata": {},
   "outputs": [],
   "source": [
    "# Topic: Web Scraping\n",
    "import requests\n",
    "from bs4 import BeautifulSoup\n",
    "r = requests.get('https://example.com')\n",
    "soup = BeautifulSoup(r.text, 'html.parser')\n",
    "print(soup.title.text)"
   ]
  },
  {
   "cell_type": "code",
   "execution_count": null,
   "id": "369e09af",
   "metadata": {},
   "outputs": [],
   "source": [
    "# Topic: Decorators\n",
    "def log(func):\n",
    " def wrapper():\n",
    "  print('Call')\n",
    "  func()\n",
    " return wrapper\n",
    "@log\n",
    "def say(): print('Hi')\n",
    "say()"
   ]
  },
  {
   "cell_type": "code",
   "execution_count": null,
   "id": "5d6c7414",
   "metadata": {},
   "outputs": [],
   "source": [
    "# Topic: Web Scraping\n",
    "import requests\n",
    "from bs4 import BeautifulSoup\n",
    "r = requests.get('https://example.com')\n",
    "soup = BeautifulSoup(r.text, 'html.parser')\n",
    "print(soup.title.text)"
   ]
  },
  {
   "cell_type": "code",
   "execution_count": null,
   "id": "0e451103",
   "metadata": {},
   "outputs": [],
   "source": [
    "# Topic: NumPy\n",
    "import numpy as np\n",
    "a = np.array([1, 2, 3])\n",
    "print(a + 5)"
   ]
  },
  {
   "cell_type": "code",
   "execution_count": null,
   "id": "4ee2aee5",
   "metadata": {},
   "outputs": [],
   "source": [
    "# Topic: Decorators\n",
    "def log(func):\n",
    " def wrapper():\n",
    "  print('Call')\n",
    "  func()\n",
    " return wrapper\n",
    "@log\n",
    "def say(): print('Hi')\n",
    "say()"
   ]
  },
  {
   "cell_type": "code",
   "execution_count": null,
   "id": "3d2eb205",
   "metadata": {},
   "outputs": [],
   "source": [
    "# Topic: OOP\n",
    "class Student:\n",
    "    def __init__(self, name): self.name = name\n",
    "s = Student('Fahd')\n",
    "print(s.name)"
   ]
  },
  {
   "cell_type": "code",
   "execution_count": null,
   "id": "6df36890",
   "metadata": {},
   "outputs": [],
   "source": [
    "# Topic: Algorithms\n",
    "# Bubble sort\n",
    "def bubble(arr):\n",
    " for i in range(len(arr)):\n",
    "  for j in range(0, len(arr)-i-1):\n",
    "   if arr[j]>arr[j+1]: arr[j],arr[j+1]=arr[j+1],arr[j]\n",
    "a=[5,3,8]\n",
    "bubble(a)\n",
    "print(a)"
   ]
  },
  {
   "cell_type": "code",
   "execution_count": null,
   "id": "a0c8f5ce",
   "metadata": {},
   "outputs": [],
   "source": [
    "# Topic: Pandas\n",
    "import pandas as pd\n",
    "df = pd.DataFrame({'A':[1,2],'B':[3,4]})\n",
    "print(df)"
   ]
  },
  {
   "cell_type": "code",
   "execution_count": null,
   "id": "2accd67e",
   "metadata": {},
   "outputs": [],
   "source": [
    "# Topic: CLI Tools\n",
    "import sys\n",
    "print(f'Arguments: {sys.argv}')"
   ]
  },
  {
   "cell_type": "code",
   "execution_count": null,
   "id": "29dd287e",
   "metadata": {},
   "outputs": [],
   "source": [
    "# Topic: Mini Projects\n",
    "# Palindrome check\n",
    "def is_pal(s): return s == s[::-1]\n",
    "print(is_pal('madam'))"
   ]
  },
  {
   "cell_type": "code",
   "execution_count": null,
   "id": "fa1d498a",
   "metadata": {},
   "outputs": [],
   "source": [
    "# Topic: Loops\n",
    "while True:\n",
    "    print('Break')\n",
    "    break"
   ]
  },
  {
   "cell_type": "code",
   "execution_count": null,
   "id": "33a6947e",
   "metadata": {},
   "outputs": [],
   "source": [
    "# Topic: Pandas\n",
    "import pandas as pd\n",
    "df = pd.read_csv('file.csv')\n",
    "print(df.head())"
   ]
  },
  {
   "cell_type": "code",
   "execution_count": null,
   "id": "6c73a8cd",
   "metadata": {},
   "outputs": [],
   "source": [
    "# Topic: Basics\n",
    "name = 'Fahd'\n",
    "print(f'Hello, {name}')"
   ]
  },
  {
   "cell_type": "code",
   "execution_count": null,
   "id": "8a2f8304",
   "metadata": {},
   "outputs": [],
   "source": [
    "# Topic: Decorators\n",
    "def log(func):\n",
    " def wrapper():\n",
    "  print('Call')\n",
    "  func()\n",
    " return wrapper\n",
    "@log\n",
    "def say(): print('Hi')\n",
    "say()"
   ]
  },
  {
   "cell_type": "code",
   "execution_count": null,
   "id": "faafe4a9",
   "metadata": {},
   "outputs": [],
   "source": [
    "# Topic: NumPy\n",
    "import numpy as np\n",
    "a = np.array([1, 2, 3])\n",
    "print(a + 5)"
   ]
  },
  {
   "cell_type": "code",
   "execution_count": null,
   "id": "303b5e37",
   "metadata": {},
   "outputs": [],
   "source": [
    "# Topic: Basics\n",
    "name = 'Fahd'\n",
    "print(f'Hello, {name}')"
   ]
  },
  {
   "cell_type": "code",
   "execution_count": null,
   "id": "71aa173d",
   "metadata": {},
   "outputs": [],
   "source": [
    "# Topic: Recursion\n",
    "def fact(n): return 1 if n==0 else n*fact(n-1)\n",
    "print(fact(5))"
   ]
  },
  {
   "cell_type": "code",
   "execution_count": null,
   "id": "18a437ea",
   "metadata": {},
   "outputs": [],
   "source": [
    "# Topic: JSON & CSV\n",
    "import csv\n",
    "with open('file.csv', 'w', newline='') as f:\n",
    " csv.writer(f).writerow(['a','b','c'])"
   ]
  },
  {
   "cell_type": "code",
   "execution_count": null,
   "id": "e841af86",
   "metadata": {},
   "outputs": [],
   "source": [
    "# Topic: JSON & CSV\n",
    "import csv\n",
    "with open('file.csv', 'w', newline='') as f:\n",
    " csv.writer(f).writerow(['a','b','c'])"
   ]
  },
  {
   "cell_type": "code",
   "execution_count": null,
   "id": "504e0606",
   "metadata": {},
   "outputs": [],
   "source": [
    "# Topic: Lists & Tuples\n",
    "lst = [1, 2, 3]\n",
    "lst.append(4)\n",
    "print(lst)"
   ]
  },
  {
   "cell_type": "code",
   "execution_count": null,
   "id": "b550e70a",
   "metadata": {},
   "outputs": [],
   "source": [
    "# Topic: Regex\n",
    "import re\n",
    "text = 'email: test@example.com'\n",
    "print(re.findall(r'\\S+@\\S+', text))"
   ]
  },
  {
   "cell_type": "code",
   "execution_count": null,
   "id": "36ddf633",
   "metadata": {},
   "outputs": [],
   "source": [
    "# Topic: Recursion\n",
    "def fact(n): return 1 if n==0 else n*fact(n-1)\n",
    "print(fact(5))"
   ]
  },
  {
   "cell_type": "code",
   "execution_count": null,
   "id": "c215bd35",
   "metadata": {},
   "outputs": [],
   "source": [
    "# Topic: Algorithms\n",
    "# Bubble sort\n",
    "def bubble(arr):\n",
    " for i in range(len(arr)):\n",
    "  for j in range(0, len(arr)-i-1):\n",
    "   if arr[j]>arr[j+1]: arr[j],arr[j+1]=arr[j+1],arr[j]\n",
    "a=[5,3,8]\n",
    "bubble(a)\n",
    "print(a)"
   ]
  },
  {
   "cell_type": "code",
   "execution_count": null,
   "id": "f14ca00f",
   "metadata": {},
   "outputs": [],
   "source": [
    "# Topic: OOP\n",
    "class Student:\n",
    "    def __init__(self, name): self.name = name\n",
    "s = Student('Fahd')\n",
    "print(s.name)"
   ]
  },
  {
   "cell_type": "code",
   "execution_count": null,
   "id": "4e696c03",
   "metadata": {},
   "outputs": [],
   "source": [
    "# Topic: Data Cleaning\n",
    "import pandas as pd\n",
    "df = pd.DataFrame({'A':[1,None,3]})\n",
    "df = df.fillna(0)\n",
    "print(df)"
   ]
  },
  {
   "cell_type": "code",
   "execution_count": null,
   "id": "4e0377d9",
   "metadata": {},
   "outputs": [],
   "source": [
    "# Topic: File I/O\n",
    "with open('test.txt', 'w') as f:\n",
    "    f.write('Hello World')"
   ]
  },
  {
   "cell_type": "code",
   "execution_count": null,
   "id": "b0361b88",
   "metadata": {},
   "outputs": [],
   "source": [
    "# Topic: Decorators\n",
    "def log(func):\n",
    " def wrapper():\n",
    "  print('Call')\n",
    "  func()\n",
    " return wrapper\n",
    "@log\n",
    "def say(): print('Hi')\n",
    "say()"
   ]
  },
  {
   "cell_type": "code",
   "execution_count": null,
   "id": "2ec2c181",
   "metadata": {},
   "outputs": [],
   "source": [
    "# Topic: Mini Projects\n",
    "# Calculator\n",
    "def calc(a,b,op): return eval(f'{a}{op}{b}')\n",
    "print(calc(5,2,'+'))"
   ]
  },
  {
   "cell_type": "code",
   "execution_count": null,
   "id": "50d3b0f0",
   "metadata": {},
   "outputs": [],
   "source": [
    "# Topic: Mini Projects\n",
    "# Palindrome check\n",
    "def is_pal(s): return s == s[::-1]\n",
    "print(is_pal('madam'))"
   ]
  },
  {
   "cell_type": "code",
   "execution_count": null,
   "id": "ba5f7761",
   "metadata": {},
   "outputs": [],
   "source": [
    "# Topic: Algorithms\n",
    "# Bubble sort\n",
    "def bubble(arr):\n",
    " for i in range(len(arr)):\n",
    "  for j in range(0, len(arr)-i-1):\n",
    "   if arr[j]>arr[j+1]: arr[j],arr[j+1]=arr[j+1],arr[j]\n",
    "a=[5,3,8]\n",
    "bubble(a)\n",
    "print(a)"
   ]
  },
  {
   "cell_type": "code",
   "execution_count": null,
   "id": "038f7c69",
   "metadata": {},
   "outputs": [],
   "source": [
    "# Topic: Lists & Tuples\n",
    "t = (1, 2, 3)\n",
    "print(t[0])"
   ]
  },
  {
   "cell_type": "code",
   "execution_count": null,
   "id": "f7ea96ae",
   "metadata": {},
   "outputs": [],
   "source": [
    "# Topic: Mini Projects\n",
    "# Calculator\n",
    "def calc(a,b,op): return eval(f'{a}{op}{b}')\n",
    "print(calc(5,2,'+'))"
   ]
  },
  {
   "cell_type": "code",
   "execution_count": null,
   "id": "d146359d",
   "metadata": {},
   "outputs": [],
   "source": [
    "# Topic: Mini Projects\n",
    "# Palindrome check\n",
    "def is_pal(s): return s == s[::-1]\n",
    "print(is_pal('madam'))"
   ]
  },
  {
   "cell_type": "code",
   "execution_count": null,
   "id": "4d91df8b",
   "metadata": {},
   "outputs": [],
   "source": [
    "# Topic: Web Scraping\n",
    "import requests\n",
    "from bs4 import BeautifulSoup\n",
    "r = requests.get('https://example.com')\n",
    "soup = BeautifulSoup(r.text, 'html.parser')\n",
    "print(soup.title.text)"
   ]
  },
  {
   "cell_type": "code",
   "execution_count": null,
   "id": "54047ef2",
   "metadata": {},
   "outputs": [],
   "source": [
    "# Topic: Regex\n",
    "import re\n",
    "text = 'email: test@example.com'\n",
    "print(re.findall(r'\\S+@\\S+', text))"
   ]
  },
  {
   "cell_type": "code",
   "execution_count": null,
   "id": "39036246",
   "metadata": {},
   "outputs": [],
   "source": [
    "# Topic: OOP\n",
    "class Student:\n",
    "    def __init__(self, name): self.name = name\n",
    "s = Student('Fahd')\n",
    "print(s.name)"
   ]
  },
  {
   "cell_type": "code",
   "execution_count": null,
   "id": "781401ca",
   "metadata": {},
   "outputs": [],
   "source": [
    "# Topic: File I/O\n",
    "with open('test.txt', 'w') as f:\n",
    "    f.write('Hello World')"
   ]
  },
  {
   "cell_type": "code",
   "execution_count": null,
   "id": "969289d0",
   "metadata": {},
   "outputs": [],
   "source": [
    "# Topic: Dictionaries & Sets\n",
    "s = set([1, 2, 3, 2])\n",
    "print(s)"
   ]
  },
  {
   "cell_type": "code",
   "execution_count": null,
   "id": "7f84fff7",
   "metadata": {},
   "outputs": [],
   "source": [
    "# Topic: Regex\n",
    "import re\n",
    "text = 'email: test@example.com'\n",
    "print(re.findall(r'\\S+@\\S+', text))"
   ]
  },
  {
   "cell_type": "code",
   "execution_count": null,
   "id": "0e2edb8f",
   "metadata": {},
   "outputs": [],
   "source": [
    "# Topic: Mini Projects\n",
    "# Calculator\n",
    "def calc(a,b,op): return eval(f'{a}{op}{b}')\n",
    "print(calc(5,2,'+'))"
   ]
  },
  {
   "cell_type": "code",
   "execution_count": null,
   "id": "58734ce7",
   "metadata": {},
   "outputs": [],
   "source": [
    "# Topic: Functions\n",
    "def square(x): return x*x\n",
    "print(square(5))"
   ]
  },
  {
   "cell_type": "code",
   "execution_count": null,
   "id": "31ebd69d",
   "metadata": {},
   "outputs": [],
   "source": [
    "# Topic: NumPy\n",
    "import numpy as np\n",
    "a = np.array([1, 2, 3])\n",
    "print(a + 5)"
   ]
  },
  {
   "cell_type": "code",
   "execution_count": null,
   "id": "ecd7520b",
   "metadata": {},
   "outputs": [],
   "source": [
    "# Topic: Data Cleaning\n",
    "import pandas as pd\n",
    "df = pd.DataFrame({'A':[1,None,3]})\n",
    "df = df.fillna(0)\n",
    "print(df)"
   ]
  },
  {
   "cell_type": "code",
   "execution_count": null,
   "id": "151b2e19",
   "metadata": {},
   "outputs": [],
   "source": [
    "# Topic: File I/O\n",
    "with open('test.txt', 'w') as f:\n",
    "    f.write('Hello World')"
   ]
  },
  {
   "cell_type": "code",
   "execution_count": null,
   "id": "dbadbde2",
   "metadata": {},
   "outputs": [],
   "source": [
    "# Topic: Regex\n",
    "import re\n",
    "text = 'email: test@example.com'\n",
    "print(re.findall(r'\\S+@\\S+', text))"
   ]
  },
  {
   "cell_type": "code",
   "execution_count": null,
   "id": "359f00ff",
   "metadata": {},
   "outputs": [],
   "source": [
    "# Topic: Functions\n",
    "def square(x): return x*x\n",
    "print(square(5))"
   ]
  },
  {
   "cell_type": "code",
   "execution_count": null,
   "id": "60c5b509",
   "metadata": {},
   "outputs": [],
   "source": [
    "# Topic: Mini Projects\n",
    "# Calculator\n",
    "def calc(a,b,op): return eval(f'{a}{op}{b}')\n",
    "print(calc(5,2,'+'))"
   ]
  },
  {
   "cell_type": "code",
   "execution_count": null,
   "id": "13fa81ae",
   "metadata": {},
   "outputs": [],
   "source": [
    "# Topic: Lists & Tuples\n",
    "lst = [1, 2, 3]\n",
    "lst.append(4)\n",
    "print(lst)"
   ]
  },
  {
   "cell_type": "code",
   "execution_count": null,
   "id": "77d53514",
   "metadata": {},
   "outputs": [],
   "source": [
    "# Topic: Recursion\n",
    "def fact(n): return 1 if n==0 else n*fact(n-1)\n",
    "print(fact(5))"
   ]
  },
  {
   "cell_type": "code",
   "execution_count": null,
   "id": "77829bc4",
   "metadata": {},
   "outputs": [],
   "source": [
    "# Topic: Data Cleaning\n",
    "import pandas as pd\n",
    "df = pd.DataFrame({'A':[1,None,3]})\n",
    "df = df.fillna(0)\n",
    "print(df)"
   ]
  },
  {
   "cell_type": "code",
   "execution_count": null,
   "id": "6758bf00",
   "metadata": {},
   "outputs": [],
   "source": [
    "# Topic: Lists & Tuples\n",
    "t = (1, 2, 3)\n",
    "print(t[0])"
   ]
  },
  {
   "cell_type": "code",
   "execution_count": null,
   "id": "7d11f069",
   "metadata": {},
   "outputs": [],
   "source": [
    "# Topic: Data Cleaning\n",
    "import pandas as pd\n",
    "df = pd.DataFrame({'A':[1,None,3]})\n",
    "df = df.fillna(0)\n",
    "print(df)"
   ]
  },
  {
   "cell_type": "code",
   "execution_count": null,
   "id": "23204ee9",
   "metadata": {},
   "outputs": [],
   "source": [
    "# Topic: OOP\n",
    "class Student:\n",
    "    def __init__(self, name): self.name = name\n",
    "s = Student('Fahd')\n",
    "print(s.name)"
   ]
  },
  {
   "cell_type": "code",
   "execution_count": null,
   "id": "e46bb5a2",
   "metadata": {},
   "outputs": [],
   "source": [
    "# Topic: Basic ML\n",
    "from sklearn.linear_model import LinearRegression\n",
    "model = LinearRegression()\n",
    "print(model)"
   ]
  },
  {
   "cell_type": "code",
   "execution_count": null,
   "id": "241d00ac",
   "metadata": {},
   "outputs": [],
   "source": [
    "# Topic: NumPy\n",
    "import numpy as np\n",
    "a = np.array([1, 2, 3])\n",
    "print(a + 5)"
   ]
  },
  {
   "cell_type": "code",
   "execution_count": null,
   "id": "6c8e33b7",
   "metadata": {},
   "outputs": [],
   "source": [
    "# Topic: Lists & Tuples\n",
    "lst = [1, 2, 3]\n",
    "lst.append(4)\n",
    "print(lst)"
   ]
  },
  {
   "cell_type": "code",
   "execution_count": null,
   "id": "23b726b6",
   "metadata": {},
   "outputs": [],
   "source": [
    "# Topic: Dictionaries & Sets\n",
    "d = {'name': 'Fahd', 'age': 20}\n",
    "print(d.get('name'))"
   ]
  },
  {
   "cell_type": "code",
   "execution_count": null,
   "id": "5d340e97",
   "metadata": {},
   "outputs": [],
   "source": [
    "# Topic: Regex\n",
    "import re\n",
    "text = 'email: test@example.com'\n",
    "print(re.findall(r'\\S+@\\S+', text))"
   ]
  },
  {
   "cell_type": "code",
   "execution_count": null,
   "id": "4dc8c102",
   "metadata": {},
   "outputs": [],
   "source": [
    "# Topic: File I/O\n",
    "with open('test.txt', 'r') as f:\n",
    "    print(f.read())"
   ]
  },
  {
   "cell_type": "code",
   "execution_count": null,
   "id": "549dc282",
   "metadata": {},
   "outputs": [],
   "source": [
    "# Topic: Web Scraping\n",
    "import requests\n",
    "from bs4 import BeautifulSoup\n",
    "r = requests.get('https://example.com')\n",
    "soup = BeautifulSoup(r.text, 'html.parser')\n",
    "print(soup.title.text)"
   ]
  },
  {
   "cell_type": "code",
   "execution_count": null,
   "id": "08de1819",
   "metadata": {},
   "outputs": [],
   "source": [
    "# Topic: Loops\n",
    "for i in range(10): print(i*i)"
   ]
  },
  {
   "cell_type": "code",
   "execution_count": null,
   "id": "c7083508",
   "metadata": {},
   "outputs": [],
   "source": [
    "# Topic: Basic ML\n",
    "from sklearn.linear_model import LinearRegression\n",
    "model = LinearRegression()\n",
    "print(model)"
   ]
  },
  {
   "cell_type": "code",
   "execution_count": null,
   "id": "13c6fff0",
   "metadata": {},
   "outputs": [],
   "source": [
    "# Topic: OOP\n",
    "class Student:\n",
    "    def __init__(self, name): self.name = name\n",
    "s = Student('Fahd')\n",
    "print(s.name)"
   ]
  },
  {
   "cell_type": "code",
   "execution_count": null,
   "id": "2143afee",
   "metadata": {},
   "outputs": [],
   "source": [
    "# Topic: Lists & Tuples\n",
    "t = (1, 2, 3)\n",
    "print(t[0])"
   ]
  },
  {
   "cell_type": "code",
   "execution_count": null,
   "id": "6a278c70",
   "metadata": {},
   "outputs": [],
   "source": [
    "# Topic: Basic ML\n",
    "from sklearn.linear_model import LinearRegression\n",
    "model = LinearRegression()\n",
    "print(model)"
   ]
  },
  {
   "cell_type": "code",
   "execution_count": null,
   "id": "20d8aee3",
   "metadata": {},
   "outputs": [],
   "source": [
    "# Topic: NumPy\n",
    "import numpy as np\n",
    "print(np.linspace(0, 1, 5))"
   ]
  },
  {
   "cell_type": "code",
   "execution_count": null,
   "id": "2c83bfcc",
   "metadata": {},
   "outputs": [],
   "source": [
    "# Topic: OOP\n",
    "class Student:\n",
    "    def __init__(self, name): self.name = name\n",
    "s = Student('Fahd')\n",
    "print(s.name)"
   ]
  },
  {
   "cell_type": "code",
   "execution_count": null,
   "id": "579d98bc",
   "metadata": {},
   "outputs": [],
   "source": [
    "# Topic: Web Scraping\n",
    "import requests\n",
    "from bs4 import BeautifulSoup\n",
    "r = requests.get('https://example.com')\n",
    "soup = BeautifulSoup(r.text, 'html.parser')\n",
    "print(soup.title.text)"
   ]
  },
  {
   "cell_type": "code",
   "execution_count": null,
   "id": "3aae8285",
   "metadata": {},
   "outputs": [],
   "source": [
    "# Topic: OOP\n",
    "class Student:\n",
    "    def __init__(self, name): self.name = name\n",
    "s = Student('Fahd')\n",
    "print(s.name)"
   ]
  },
  {
   "cell_type": "code",
   "execution_count": null,
   "id": "ddc6c699",
   "metadata": {},
   "outputs": [],
   "source": [
    "# Topic: Recursion\n",
    "def fact(n): return 1 if n==0 else n*fact(n-1)\n",
    "print(fact(5))"
   ]
  },
  {
   "cell_type": "code",
   "execution_count": null,
   "id": "111c8540",
   "metadata": {},
   "outputs": [],
   "source": [
    "# Topic: Lists & Tuples\n",
    "lst = [1, 2, 3]\n",
    "lst.append(4)\n",
    "print(lst)"
   ]
  },
  {
   "cell_type": "code",
   "execution_count": null,
   "id": "4ba40868",
   "metadata": {},
   "outputs": [],
   "source": [
    "# Topic: Loops\n",
    "while True:\n",
    "    print('Break')\n",
    "    break"
   ]
  },
  {
   "cell_type": "code",
   "execution_count": null,
   "id": "cf129e90",
   "metadata": {},
   "outputs": [],
   "source": [
    "# Topic: Matplotlib & Seaborn\n",
    "import seaborn as sns\n",
    "import pandas as pd\n",
    "sns.set()\n",
    "sns.histplot(pd.Series([1,2,2,3]));"
   ]
  },
  {
   "cell_type": "code",
   "execution_count": null,
   "id": "ba1d2b74",
   "metadata": {},
   "outputs": [],
   "source": [
    "# Topic: Recursion\n",
    "def fact(n): return 1 if n==0 else n*fact(n-1)\n",
    "print(fact(5))"
   ]
  },
  {
   "cell_type": "code",
   "execution_count": null,
   "id": "56e5b488",
   "metadata": {},
   "outputs": [],
   "source": [
    "# Topic: JSON & CSV\n",
    "import json\n",
    "data = {'a': 1}\n",
    "print(json.dumps(data))"
   ]
  },
  {
   "cell_type": "code",
   "execution_count": null,
   "id": "3713dfe0",
   "metadata": {},
   "outputs": [],
   "source": [
    "# Topic: NumPy\n",
    "import numpy as np\n",
    "print(np.linspace(0, 1, 5))"
   ]
  },
  {
   "cell_type": "code",
   "execution_count": null,
   "id": "b386a250",
   "metadata": {},
   "outputs": [],
   "source": [
    "# Topic: Decorators\n",
    "def log(func):\n",
    " def wrapper():\n",
    "  print('Call')\n",
    "  func()\n",
    " return wrapper\n",
    "@log\n",
    "def say(): print('Hi')\n",
    "say()"
   ]
  },
  {
   "cell_type": "code",
   "execution_count": null,
   "id": "4d80878c",
   "metadata": {},
   "outputs": [],
   "source": [
    "# Topic: Dictionaries & Sets\n",
    "d = {'name': 'Fahd', 'age': 20}\n",
    "print(d.get('name'))"
   ]
  },
  {
   "cell_type": "code",
   "execution_count": null,
   "id": "3b8e1f88",
   "metadata": {},
   "outputs": [],
   "source": [
    "# Topic: Matplotlib & Seaborn\n",
    "import matplotlib.pyplot as plt\n",
    "plt.plot([1,2],[3,4])\n",
    "plt.show()"
   ]
  },
  {
   "cell_type": "code",
   "execution_count": null,
   "id": "a824c887",
   "metadata": {},
   "outputs": [],
   "source": [
    "# Topic: Pandas\n",
    "import pandas as pd\n",
    "df = pd.DataFrame({'A':[1,2],'B':[3,4]})\n",
    "print(df)"
   ]
  },
  {
   "cell_type": "code",
   "execution_count": null,
   "id": "d4880ea4",
   "metadata": {},
   "outputs": [],
   "source": [
    "# Topic: Loops\n",
    "for i in range(10): print(i*i)"
   ]
  },
  {
   "cell_type": "code",
   "execution_count": null,
   "id": "7c44076a",
   "metadata": {},
   "outputs": [],
   "source": [
    "# Topic: Algorithms\n",
    "# Bubble sort\n",
    "def bubble(arr):\n",
    " for i in range(len(arr)):\n",
    "  for j in range(0, len(arr)-i-1):\n",
    "   if arr[j]>arr[j+1]: arr[j],arr[j+1]=arr[j+1],arr[j]\n",
    "a=[5,3,8]\n",
    "bubble(a)\n",
    "print(a)"
   ]
  },
  {
   "cell_type": "code",
   "execution_count": null,
   "id": "a76ea589",
   "metadata": {},
   "outputs": [],
   "source": [
    "# Topic: Dictionaries & Sets\n",
    "s = set([1, 2, 3, 2])\n",
    "print(s)"
   ]
  },
  {
   "cell_type": "code",
   "execution_count": null,
   "id": "a722c550",
   "metadata": {},
   "outputs": [],
   "source": [
    "# Topic: Dictionaries & Sets\n",
    "s = set([1, 2, 3, 2])\n",
    "print(s)"
   ]
  },
  {
   "cell_type": "code",
   "execution_count": null,
   "id": "d575fcac",
   "metadata": {},
   "outputs": [],
   "source": [
    "# Topic: Decorators\n",
    "def log(func):\n",
    " def wrapper():\n",
    "  print('Call')\n",
    "  func()\n",
    " return wrapper\n",
    "@log\n",
    "def say(): print('Hi')\n",
    "say()"
   ]
  },
  {
   "cell_type": "code",
   "execution_count": null,
   "id": "5885a042",
   "metadata": {},
   "outputs": [],
   "source": [
    "# Topic: JSON & CSV\n",
    "import csv\n",
    "with open('file.csv', 'w', newline='') as f:\n",
    " csv.writer(f).writerow(['a','b','c'])"
   ]
  },
  {
   "cell_type": "code",
   "execution_count": null,
   "id": "66f952d8",
   "metadata": {},
   "outputs": [],
   "source": [
    "# Topic: Basics\n",
    "x = 10\n",
    "y = 20\n",
    "print(x + y)"
   ]
  },
  {
   "cell_type": "code",
   "execution_count": null,
   "id": "a59dc5d8",
   "metadata": {},
   "outputs": [],
   "source": [
    "# Topic: Data Cleaning\n",
    "import pandas as pd\n",
    "df = pd.DataFrame({'A':[1,None,3]})\n",
    "df = df.fillna(0)\n",
    "print(df)"
   ]
  },
  {
   "cell_type": "code",
   "execution_count": null,
   "id": "af8029da",
   "metadata": {},
   "outputs": [],
   "source": [
    "# Topic: Basics\n",
    "name = 'Fahd'\n",
    "print(f'Hello, {name}')"
   ]
  },
  {
   "cell_type": "code",
   "execution_count": null,
   "id": "dd028a20",
   "metadata": {},
   "outputs": [],
   "source": [
    "# Topic: JSON & CSV\n",
    "import json\n",
    "data = {'a': 1}\n",
    "print(json.dumps(data))"
   ]
  },
  {
   "cell_type": "code",
   "execution_count": null,
   "id": "a27a9f30",
   "metadata": {},
   "outputs": [],
   "source": [
    "# Topic: Decorators\n",
    "def log(func):\n",
    " def wrapper():\n",
    "  print('Call')\n",
    "  func()\n",
    " return wrapper\n",
    "@log\n",
    "def say(): print('Hi')\n",
    "say()"
   ]
  },
  {
   "cell_type": "code",
   "execution_count": null,
   "id": "fb0af783",
   "metadata": {},
   "outputs": [],
   "source": [
    "# Topic: JSON & CSV\n",
    "import csv\n",
    "with open('file.csv', 'w', newline='') as f:\n",
    " csv.writer(f).writerow(['a','b','c'])"
   ]
  },
  {
   "cell_type": "code",
   "execution_count": null,
   "id": "13b7389a",
   "metadata": {},
   "outputs": [],
   "source": [
    "# Topic: File I/O\n",
    "with open('test.txt', 'r') as f:\n",
    "    print(f.read())"
   ]
  },
  {
   "cell_type": "code",
   "execution_count": null,
   "id": "08426b19",
   "metadata": {},
   "outputs": [],
   "source": [
    "# Topic: Data Cleaning\n",
    "import pandas as pd\n",
    "df = pd.DataFrame({'A':[1,None,3]})\n",
    "df = df.fillna(0)\n",
    "print(df)"
   ]
  },
  {
   "cell_type": "code",
   "execution_count": null,
   "id": "36980267",
   "metadata": {},
   "outputs": [],
   "source": [
    "# Topic: Algorithms\n",
    "# Bubble sort\n",
    "def bubble(arr):\n",
    " for i in range(len(arr)):\n",
    "  for j in range(0, len(arr)-i-1):\n",
    "   if arr[j]>arr[j+1]: arr[j],arr[j+1]=arr[j+1],arr[j]\n",
    "a=[5,3,8]\n",
    "bubble(a)\n",
    "print(a)"
   ]
  },
  {
   "cell_type": "code",
   "execution_count": null,
   "id": "c36dfebd",
   "metadata": {},
   "outputs": [],
   "source": [
    "# Topic: File I/O\n",
    "with open('test.txt', 'w') as f:\n",
    "    f.write('Hello World')"
   ]
  },
  {
   "cell_type": "code",
   "execution_count": null,
   "id": "c1bf6c6d",
   "metadata": {},
   "outputs": [],
   "source": [
    "# Topic: Basics\n",
    "x = 10\n",
    "y = 20\n",
    "print(x + y)"
   ]
  },
  {
   "cell_type": "code",
   "execution_count": null,
   "id": "a48bbacd",
   "metadata": {},
   "outputs": [],
   "source": [
    "# Topic: Pandas\n",
    "import pandas as pd\n",
    "df = pd.DataFrame({'A':[1,2],'B':[3,4]})\n",
    "print(df)"
   ]
  },
  {
   "cell_type": "code",
   "execution_count": null,
   "id": "ddb5e64c",
   "metadata": {},
   "outputs": [],
   "source": [
    "# Topic: Lists & Tuples\n",
    "lst = [1, 2, 3]\n",
    "lst.append(4)\n",
    "print(lst)"
   ]
  },
  {
   "cell_type": "code",
   "execution_count": null,
   "id": "b742206e",
   "metadata": {},
   "outputs": [],
   "source": [
    "# Topic: Mini Projects\n",
    "# Calculator\n",
    "def calc(a,b,op): return eval(f'{a}{op}{b}')\n",
    "print(calc(5,2,'+'))"
   ]
  },
  {
   "cell_type": "code",
   "execution_count": null,
   "id": "8ce990d7",
   "metadata": {},
   "outputs": [],
   "source": [
    "# Topic: Web Scraping\n",
    "import requests\n",
    "from bs4 import BeautifulSoup\n",
    "r = requests.get('https://example.com')\n",
    "soup = BeautifulSoup(r.text, 'html.parser')\n",
    "print(soup.title.text)"
   ]
  },
  {
   "cell_type": "code",
   "execution_count": null,
   "id": "b0f84059",
   "metadata": {},
   "outputs": [],
   "source": [
    "# Topic: JSON & CSV\n",
    "import json\n",
    "data = {'a': 1}\n",
    "print(json.dumps(data))"
   ]
  },
  {
   "cell_type": "code",
   "execution_count": null,
   "id": "6713d745",
   "metadata": {},
   "outputs": [],
   "source": [
    "# Topic: Basic ML\n",
    "from sklearn.linear_model import LinearRegression\n",
    "model = LinearRegression()\n",
    "print(model)"
   ]
  },
  {
   "cell_type": "code",
   "execution_count": null,
   "id": "c73cda3d",
   "metadata": {},
   "outputs": [],
   "source": [
    "# Topic: Regex\n",
    "import re\n",
    "text = 'email: test@example.com'\n",
    "print(re.findall(r'\\S+@\\S+', text))"
   ]
  },
  {
   "cell_type": "code",
   "execution_count": null,
   "id": "9918c02d",
   "metadata": {},
   "outputs": [],
   "source": [
    "# Topic: Web Scraping\n",
    "import requests\n",
    "from bs4 import BeautifulSoup\n",
    "r = requests.get('https://example.com')\n",
    "soup = BeautifulSoup(r.text, 'html.parser')\n",
    "print(soup.title.text)"
   ]
  },
  {
   "cell_type": "code",
   "execution_count": null,
   "id": "da8056f7",
   "metadata": {},
   "outputs": [],
   "source": [
    "# Topic: Regex\n",
    "import re\n",
    "text = 'email: test@example.com'\n",
    "print(re.findall(r'\\S+@\\S+', text))"
   ]
  },
  {
   "cell_type": "code",
   "execution_count": null,
   "id": "2ee543fd",
   "metadata": {},
   "outputs": [],
   "source": [
    "# Topic: Dictionaries & Sets\n",
    "d = {'name': 'Fahd', 'age': 20}\n",
    "print(d.get('name'))"
   ]
  },
  {
   "cell_type": "code",
   "execution_count": null,
   "id": "45107b53",
   "metadata": {},
   "outputs": [],
   "source": [
    "# Topic: Basic ML\n",
    "from sklearn.linear_model import LinearRegression\n",
    "model = LinearRegression()\n",
    "print(model)"
   ]
  },
  {
   "cell_type": "code",
   "execution_count": null,
   "id": "8331ad1d",
   "metadata": {},
   "outputs": [],
   "source": [
    "# Topic: Basic ML\n",
    "from sklearn.linear_model import LinearRegression\n",
    "model = LinearRegression()\n",
    "print(model)"
   ]
  },
  {
   "cell_type": "code",
   "execution_count": null,
   "id": "7aeaeba4",
   "metadata": {},
   "outputs": [],
   "source": [
    "# Topic: Decorators\n",
    "def log(func):\n",
    " def wrapper():\n",
    "  print('Call')\n",
    "  func()\n",
    " return wrapper\n",
    "@log\n",
    "def say(): print('Hi')\n",
    "say()"
   ]
  },
  {
   "cell_type": "code",
   "execution_count": null,
   "id": "bb95ae71",
   "metadata": {},
   "outputs": [],
   "source": [
    "# Topic: Decorators\n",
    "def log(func):\n",
    " def wrapper():\n",
    "  print('Call')\n",
    "  func()\n",
    " return wrapper\n",
    "@log\n",
    "def say(): print('Hi')\n",
    "say()"
   ]
  },
  {
   "cell_type": "code",
   "execution_count": null,
   "id": "06c05be3",
   "metadata": {},
   "outputs": [],
   "source": [
    "# Topic: Recursion\n",
    "def fact(n): return 1 if n==0 else n*fact(n-1)\n",
    "print(fact(5))"
   ]
  },
  {
   "cell_type": "code",
   "execution_count": null,
   "id": "e708a310",
   "metadata": {},
   "outputs": [],
   "source": [
    "# Topic: Pandas\n",
    "import pandas as pd\n",
    "df = pd.read_csv('file.csv')\n",
    "print(df.head())"
   ]
  },
  {
   "cell_type": "code",
   "execution_count": null,
   "id": "992d7082",
   "metadata": {},
   "outputs": [],
   "source": [
    "# Topic: Basics\n",
    "x = 10\n",
    "y = 20\n",
    "print(x + y)"
   ]
  },
  {
   "cell_type": "code",
   "execution_count": null,
   "id": "54f03469",
   "metadata": {},
   "outputs": [],
   "source": [
    "# Topic: JSON & CSV\n",
    "import json\n",
    "data = {'a': 1}\n",
    "print(json.dumps(data))"
   ]
  },
  {
   "cell_type": "code",
   "execution_count": null,
   "id": "c7f5b9cd",
   "metadata": {},
   "outputs": [],
   "source": [
    "# Topic: Recursion\n",
    "def fact(n): return 1 if n==0 else n*fact(n-1)\n",
    "print(fact(5))"
   ]
  },
  {
   "cell_type": "code",
   "execution_count": null,
   "id": "1693808f",
   "metadata": {},
   "outputs": [],
   "source": [
    "# Topic: Basic ML\n",
    "from sklearn.linear_model import LinearRegression\n",
    "model = LinearRegression()\n",
    "print(model)"
   ]
  },
  {
   "cell_type": "code",
   "execution_count": null,
   "id": "9f44fdcb",
   "metadata": {},
   "outputs": [],
   "source": [
    "# Topic: Functions\n",
    "def square(x): return x*x\n",
    "print(square(5))"
   ]
  },
  {
   "cell_type": "code",
   "execution_count": null,
   "id": "cbf4c47d",
   "metadata": {},
   "outputs": [],
   "source": [
    "# Topic: OOP\n",
    "class Student:\n",
    "    def __init__(self, name): self.name = name\n",
    "s = Student('Fahd')\n",
    "print(s.name)"
   ]
  },
  {
   "cell_type": "code",
   "execution_count": null,
   "id": "d16adca6",
   "metadata": {},
   "outputs": [],
   "source": [
    "# Topic: Regex\n",
    "import re\n",
    "text = 'email: test@example.com'\n",
    "print(re.findall(r'\\S+@\\S+', text))"
   ]
  },
  {
   "cell_type": "code",
   "execution_count": null,
   "id": "c5e69f7a",
   "metadata": {},
   "outputs": [],
   "source": [
    "# Topic: Basic ML\n",
    "from sklearn.linear_model import LinearRegression\n",
    "model = LinearRegression()\n",
    "print(model)"
   ]
  },
  {
   "cell_type": "code",
   "execution_count": null,
   "id": "aca5380e",
   "metadata": {},
   "outputs": [],
   "source": [
    "# Topic: CLI Tools\n",
    "import sys\n",
    "print(f'Arguments: {sys.argv}')"
   ]
  },
  {
   "cell_type": "code",
   "execution_count": null,
   "id": "16857cfd",
   "metadata": {},
   "outputs": [],
   "source": [
    "# Topic: JSON & CSV\n",
    "import json\n",
    "data = {'a': 1}\n",
    "print(json.dumps(data))"
   ]
  },
  {
   "cell_type": "code",
   "execution_count": null,
   "id": "cea801cc",
   "metadata": {},
   "outputs": [],
   "source": [
    "# Topic: Algorithms\n",
    "# Bubble sort\n",
    "def bubble(arr):\n",
    " for i in range(len(arr)):\n",
    "  for j in range(0, len(arr)-i-1):\n",
    "   if arr[j]>arr[j+1]: arr[j],arr[j+1]=arr[j+1],arr[j]\n",
    "a=[5,3,8]\n",
    "bubble(a)\n",
    "print(a)"
   ]
  },
  {
   "cell_type": "code",
   "execution_count": null,
   "id": "e363a0ec",
   "metadata": {},
   "outputs": [],
   "source": [
    "# Topic: Web Scraping\n",
    "import requests\n",
    "from bs4 import BeautifulSoup\n",
    "r = requests.get('https://example.com')\n",
    "soup = BeautifulSoup(r.text, 'html.parser')\n",
    "print(soup.title.text)"
   ]
  },
  {
   "cell_type": "code",
   "execution_count": null,
   "id": "8d126919",
   "metadata": {},
   "outputs": [],
   "source": [
    "# Topic: Basics\n",
    "x = 10\n",
    "y = 20\n",
    "print(x + y)"
   ]
  },
  {
   "cell_type": "code",
   "execution_count": null,
   "id": "d6d71045",
   "metadata": {},
   "outputs": [],
   "source": [
    "# Topic: Matplotlib & Seaborn\n",
    "import seaborn as sns\n",
    "import pandas as pd\n",
    "sns.set()\n",
    "sns.histplot(pd.Series([1,2,2,3]));"
   ]
  },
  {
   "cell_type": "code",
   "execution_count": null,
   "id": "924dadd1",
   "metadata": {},
   "outputs": [],
   "source": [
    "# Topic: Algorithms\n",
    "# Bubble sort\n",
    "def bubble(arr):\n",
    " for i in range(len(arr)):\n",
    "  for j in range(0, len(arr)-i-1):\n",
    "   if arr[j]>arr[j+1]: arr[j],arr[j+1]=arr[j+1],arr[j]\n",
    "a=[5,3,8]\n",
    "bubble(a)\n",
    "print(a)"
   ]
  },
  {
   "cell_type": "code",
   "execution_count": null,
   "id": "80e82efb",
   "metadata": {},
   "outputs": [],
   "source": [
    "# Topic: Pandas\n",
    "import pandas as pd\n",
    "df = pd.DataFrame({'A':[1,2],'B':[3,4]})\n",
    "print(df)"
   ]
  },
  {
   "cell_type": "code",
   "execution_count": null,
   "id": "d1f8bab8",
   "metadata": {},
   "outputs": [],
   "source": [
    "# Topic: Loops\n",
    "for i in range(10): print(i*i)"
   ]
  },
  {
   "cell_type": "code",
   "execution_count": null,
   "id": "eb048073",
   "metadata": {},
   "outputs": [],
   "source": [
    "# Topic: JSON & CSV\n",
    "import json\n",
    "data = {'a': 1}\n",
    "print(json.dumps(data))"
   ]
  },
  {
   "cell_type": "code",
   "execution_count": null,
   "id": "6086e370",
   "metadata": {},
   "outputs": [],
   "source": [
    "# Topic: Regex\n",
    "import re\n",
    "text = 'email: test@example.com'\n",
    "print(re.findall(r'\\S+@\\S+', text))"
   ]
  },
  {
   "cell_type": "code",
   "execution_count": null,
   "id": "49adb0d2",
   "metadata": {},
   "outputs": [],
   "source": [
    "# Topic: Matplotlib & Seaborn\n",
    "import matplotlib.pyplot as plt\n",
    "plt.plot([1,2],[3,4])\n",
    "plt.show()"
   ]
  },
  {
   "cell_type": "code",
   "execution_count": null,
   "id": "7f3dadb5",
   "metadata": {},
   "outputs": [],
   "source": [
    "# Topic: Basic ML\n",
    "from sklearn.linear_model import LinearRegression\n",
    "model = LinearRegression()\n",
    "print(model)"
   ]
  },
  {
   "cell_type": "code",
   "execution_count": null,
   "id": "7a3f11e9",
   "metadata": {},
   "outputs": [],
   "source": [
    "# Topic: Pandas\n",
    "import pandas as pd\n",
    "df = pd.read_csv('file.csv')\n",
    "print(df.head())"
   ]
  },
  {
   "cell_type": "code",
   "execution_count": null,
   "id": "3ae61d3f",
   "metadata": {},
   "outputs": [],
   "source": [
    "# Topic: Functions\n",
    "def square(x): return x*x\n",
    "print(square(5))"
   ]
  },
  {
   "cell_type": "code",
   "execution_count": null,
   "id": "b87d70ca",
   "metadata": {},
   "outputs": [],
   "source": [
    "# Topic: Algorithms\n",
    "# Bubble sort\n",
    "def bubble(arr):\n",
    " for i in range(len(arr)):\n",
    "  for j in range(0, len(arr)-i-1):\n",
    "   if arr[j]>arr[j+1]: arr[j],arr[j+1]=arr[j+1],arr[j]\n",
    "a=[5,3,8]\n",
    "bubble(a)\n",
    "print(a)"
   ]
  },
  {
   "cell_type": "code",
   "execution_count": null,
   "id": "0f190019",
   "metadata": {},
   "outputs": [],
   "source": [
    "# Topic: Loops\n",
    "while True:\n",
    "    print('Break')\n",
    "    break"
   ]
  },
  {
   "cell_type": "code",
   "execution_count": null,
   "id": "467064ae",
   "metadata": {},
   "outputs": [],
   "source": [
    "# Topic: Pandas\n",
    "import pandas as pd\n",
    "df = pd.read_csv('file.csv')\n",
    "print(df.head())"
   ]
  },
  {
   "cell_type": "code",
   "execution_count": null,
   "id": "e3cd96dc",
   "metadata": {},
   "outputs": [],
   "source": [
    "# Topic: Basic ML\n",
    "from sklearn.linear_model import LinearRegression\n",
    "model = LinearRegression()\n",
    "print(model)"
   ]
  },
  {
   "cell_type": "code",
   "execution_count": null,
   "id": "8a9af89b",
   "metadata": {},
   "outputs": [],
   "source": [
    "# Topic: Recursion\n",
    "def fact(n): return 1 if n==0 else n*fact(n-1)\n",
    "print(fact(5))"
   ]
  },
  {
   "cell_type": "code",
   "execution_count": null,
   "id": "4a77de5c",
   "metadata": {},
   "outputs": [],
   "source": [
    "# Topic: JSON & CSV\n",
    "import csv\n",
    "with open('file.csv', 'w', newline='') as f:\n",
    " csv.writer(f).writerow(['a','b','c'])"
   ]
  },
  {
   "cell_type": "code",
   "execution_count": null,
   "id": "f7925c0c",
   "metadata": {},
   "outputs": [],
   "source": [
    "# Topic: JSON & CSV\n",
    "import csv\n",
    "with open('file.csv', 'w', newline='') as f:\n",
    " csv.writer(f).writerow(['a','b','c'])"
   ]
  },
  {
   "cell_type": "code",
   "execution_count": null,
   "id": "c1996371",
   "metadata": {},
   "outputs": [],
   "source": [
    "# Topic: Data Cleaning\n",
    "import pandas as pd\n",
    "df = pd.DataFrame({'A':[1,None,3]})\n",
    "df = df.fillna(0)\n",
    "print(df)"
   ]
  },
  {
   "cell_type": "code",
   "execution_count": null,
   "id": "0cb3fef3",
   "metadata": {},
   "outputs": [],
   "source": [
    "# Topic: Algorithms\n",
    "# Bubble sort\n",
    "def bubble(arr):\n",
    " for i in range(len(arr)):\n",
    "  for j in range(0, len(arr)-i-1):\n",
    "   if arr[j]>arr[j+1]: arr[j],arr[j+1]=arr[j+1],arr[j]\n",
    "a=[5,3,8]\n",
    "bubble(a)\n",
    "print(a)"
   ]
  },
  {
   "cell_type": "code",
   "execution_count": null,
   "id": "9ffa231a",
   "metadata": {},
   "outputs": [],
   "source": [
    "# Topic: CLI Tools\n",
    "import sys\n",
    "print(f'Arguments: {sys.argv}')"
   ]
  },
  {
   "cell_type": "code",
   "execution_count": null,
   "id": "67401b74",
   "metadata": {},
   "outputs": [],
   "source": [
    "# Topic: Loops\n",
    "while True:\n",
    "    print('Break')\n",
    "    break"
   ]
  },
  {
   "cell_type": "code",
   "execution_count": null,
   "id": "938baaaa",
   "metadata": {},
   "outputs": [],
   "source": [
    "# Topic: Lists & Tuples\n",
    "t = (1, 2, 3)\n",
    "print(t[0])"
   ]
  },
  {
   "cell_type": "code",
   "execution_count": null,
   "id": "e71c877d",
   "metadata": {},
   "outputs": [],
   "source": [
    "# Topic: Decorators\n",
    "def log(func):\n",
    " def wrapper():\n",
    "  print('Call')\n",
    "  func()\n",
    " return wrapper\n",
    "@log\n",
    "def say(): print('Hi')\n",
    "say()"
   ]
  },
  {
   "cell_type": "code",
   "execution_count": null,
   "id": "56b10af3",
   "metadata": {},
   "outputs": [],
   "source": [
    "# Topic: Basics\n",
    "name = 'Fahd'\n",
    "print(f'Hello, {name}')"
   ]
  },
  {
   "cell_type": "code",
   "execution_count": null,
   "id": "71b1040a",
   "metadata": {},
   "outputs": [],
   "source": [
    "# Topic: OOP\n",
    "class Student:\n",
    "    def __init__(self, name): self.name = name\n",
    "s = Student('Fahd')\n",
    "print(s.name)"
   ]
  },
  {
   "cell_type": "code",
   "execution_count": null,
   "id": "1cd7fbb8",
   "metadata": {},
   "outputs": [],
   "source": [
    "# Topic: Recursion\n",
    "def fact(n): return 1 if n==0 else n*fact(n-1)\n",
    "print(fact(5))"
   ]
  },
  {
   "cell_type": "code",
   "execution_count": null,
   "id": "f8a46bf7",
   "metadata": {},
   "outputs": [],
   "source": [
    "# Topic: Functions\n",
    "def greet(name='User'):\n",
    "    print(f'Hi, {name}')\n",
    "greet()"
   ]
  },
  {
   "cell_type": "code",
   "execution_count": null,
   "id": "a8c7176a",
   "metadata": {},
   "outputs": [],
   "source": [
    "# Topic: Lists & Tuples\n",
    "lst = [1, 2, 3]\n",
    "lst.append(4)\n",
    "print(lst)"
   ]
  },
  {
   "cell_type": "code",
   "execution_count": null,
   "id": "8da4634a",
   "metadata": {},
   "outputs": [],
   "source": [
    "# Topic: Web Scraping\n",
    "import requests\n",
    "from bs4 import BeautifulSoup\n",
    "r = requests.get('https://example.com')\n",
    "soup = BeautifulSoup(r.text, 'html.parser')\n",
    "print(soup.title.text)"
   ]
  },
  {
   "cell_type": "code",
   "execution_count": null,
   "id": "804510ec",
   "metadata": {},
   "outputs": [],
   "source": [
    "# Topic: NumPy\n",
    "import numpy as np\n",
    "a = np.array([1, 2, 3])\n",
    "print(a + 5)"
   ]
  },
  {
   "cell_type": "code",
   "execution_count": null,
   "id": "df259a09",
   "metadata": {},
   "outputs": [],
   "source": [
    "# Topic: Basics\n",
    "x = 10\n",
    "y = 20\n",
    "print(x + y)"
   ]
  },
  {
   "cell_type": "code",
   "execution_count": null,
   "id": "dc2f1743",
   "metadata": {},
   "outputs": [],
   "source": [
    "# Topic: Web Scraping\n",
    "import requests\n",
    "from bs4 import BeautifulSoup\n",
    "r = requests.get('https://example.com')\n",
    "soup = BeautifulSoup(r.text, 'html.parser')\n",
    "print(soup.title.text)"
   ]
  },
  {
   "cell_type": "code",
   "execution_count": null,
   "id": "d664a518",
   "metadata": {},
   "outputs": [],
   "source": [
    "# Topic: Pandas\n",
    "import pandas as pd\n",
    "df = pd.read_csv('file.csv')\n",
    "print(df.head())"
   ]
  },
  {
   "cell_type": "code",
   "execution_count": null,
   "id": "0d77aa8a",
   "metadata": {},
   "outputs": [],
   "source": [
    "# Topic: Lists & Tuples\n",
    "lst = [1, 2, 3]\n",
    "lst.append(4)\n",
    "print(lst)"
   ]
  },
  {
   "cell_type": "code",
   "execution_count": null,
   "id": "d15c15b2",
   "metadata": {},
   "outputs": [],
   "source": [
    "# Topic: Functions\n",
    "def greet(name='User'):\n",
    "    print(f'Hi, {name}')\n",
    "greet()"
   ]
  },
  {
   "cell_type": "code",
   "execution_count": null,
   "id": "a25745b8",
   "metadata": {},
   "outputs": [],
   "source": [
    "# Topic: Basics\n",
    "x = 10\n",
    "y = 20\n",
    "print(x + y)"
   ]
  },
  {
   "cell_type": "code",
   "execution_count": null,
   "id": "3c6d389d",
   "metadata": {},
   "outputs": [],
   "source": [
    "# Topic: Mini Projects\n",
    "# Calculator\n",
    "def calc(a,b,op): return eval(f'{a}{op}{b}')\n",
    "print(calc(5,2,'+'))"
   ]
  },
  {
   "cell_type": "code",
   "execution_count": null,
   "id": "a9605c1d",
   "metadata": {},
   "outputs": [],
   "source": [
    "# Topic: Pandas\n",
    "import pandas as pd\n",
    "df = pd.DataFrame({'A':[1,2],'B':[3,4]})\n",
    "print(df)"
   ]
  },
  {
   "cell_type": "code",
   "execution_count": null,
   "id": "8add260d",
   "metadata": {},
   "outputs": [],
   "source": [
    "# Topic: OOP\n",
    "class Student:\n",
    "    def __init__(self, name): self.name = name\n",
    "s = Student('Fahd')\n",
    "print(s.name)"
   ]
  },
  {
   "cell_type": "code",
   "execution_count": null,
   "id": "115560f9",
   "metadata": {},
   "outputs": [],
   "source": [
    "# Topic: Lists & Tuples\n",
    "t = (1, 2, 3)\n",
    "print(t[0])"
   ]
  },
  {
   "cell_type": "code",
   "execution_count": null,
   "id": "1366b6a3",
   "metadata": {},
   "outputs": [],
   "source": [
    "# Topic: Decorators\n",
    "def log(func):\n",
    " def wrapper():\n",
    "  print('Call')\n",
    "  func()\n",
    " return wrapper\n",
    "@log\n",
    "def say(): print('Hi')\n",
    "say()"
   ]
  },
  {
   "cell_type": "code",
   "execution_count": null,
   "id": "b2a82edb",
   "metadata": {},
   "outputs": [],
   "source": [
    "# Topic: OOP\n",
    "class Student:\n",
    "    def __init__(self, name): self.name = name\n",
    "s = Student('Fahd')\n",
    "print(s.name)"
   ]
  },
  {
   "cell_type": "code",
   "execution_count": null,
   "id": "149f1e1b",
   "metadata": {},
   "outputs": [],
   "source": [
    "# Topic: Basics\n",
    "name = 'Fahd'\n",
    "print(f'Hello, {name}')"
   ]
  },
  {
   "cell_type": "code",
   "execution_count": null,
   "id": "a12e72b0",
   "metadata": {},
   "outputs": [],
   "source": [
    "# Topic: Regex\n",
    "import re\n",
    "text = 'email: test@example.com'\n",
    "print(re.findall(r'\\S+@\\S+', text))"
   ]
  },
  {
   "cell_type": "code",
   "execution_count": null,
   "id": "638d2f12",
   "metadata": {},
   "outputs": [],
   "source": [
    "# Topic: Pandas\n",
    "import pandas as pd\n",
    "df = pd.read_csv('file.csv')\n",
    "print(df.head())"
   ]
  },
  {
   "cell_type": "code",
   "execution_count": null,
   "id": "0f9403a0",
   "metadata": {},
   "outputs": [],
   "source": [
    "# Topic: Basic ML\n",
    "from sklearn.linear_model import LinearRegression\n",
    "model = LinearRegression()\n",
    "print(model)"
   ]
  },
  {
   "cell_type": "code",
   "execution_count": null,
   "id": "4dce247e",
   "metadata": {},
   "outputs": [],
   "source": [
    "# Topic: Basics\n",
    "x = 10\n",
    "y = 20\n",
    "print(x + y)"
   ]
  },
  {
   "cell_type": "code",
   "execution_count": null,
   "id": "d7cdbbd2",
   "metadata": {},
   "outputs": [],
   "source": [
    "# Topic: Pandas\n",
    "import pandas as pd\n",
    "df = pd.read_csv('file.csv')\n",
    "print(df.head())"
   ]
  },
  {
   "cell_type": "code",
   "execution_count": null,
   "id": "df5c8a6b",
   "metadata": {},
   "outputs": [],
   "source": [
    "# Topic: Loops\n",
    "for i in range(10): print(i*i)"
   ]
  },
  {
   "cell_type": "code",
   "execution_count": null,
   "id": "db8fc430",
   "metadata": {},
   "outputs": [],
   "source": [
    "# Topic: Recursion\n",
    "def fact(n): return 1 if n==0 else n*fact(n-1)\n",
    "print(fact(5))"
   ]
  },
  {
   "cell_type": "code",
   "execution_count": null,
   "id": "41e34769",
   "metadata": {},
   "outputs": [],
   "source": [
    "# Topic: OOP\n",
    "class Student:\n",
    "    def __init__(self, name): self.name = name\n",
    "s = Student('Fahd')\n",
    "print(s.name)"
   ]
  },
  {
   "cell_type": "code",
   "execution_count": null,
   "id": "1a28f39f",
   "metadata": {},
   "outputs": [],
   "source": [
    "# Topic: Basics\n",
    "name = 'Fahd'\n",
    "print(f'Hello, {name}')"
   ]
  },
  {
   "cell_type": "code",
   "execution_count": null,
   "id": "8f06e88e",
   "metadata": {},
   "outputs": [],
   "source": [
    "# Topic: Dictionaries & Sets\n",
    "d = {'name': 'Fahd', 'age': 20}\n",
    "print(d.get('name'))"
   ]
  },
  {
   "cell_type": "code",
   "execution_count": null,
   "id": "4956010e",
   "metadata": {},
   "outputs": [],
   "source": [
    "# Topic: Algorithms\n",
    "# Bubble sort\n",
    "def bubble(arr):\n",
    " for i in range(len(arr)):\n",
    "  for j in range(0, len(arr)-i-1):\n",
    "   if arr[j]>arr[j+1]: arr[j],arr[j+1]=arr[j+1],arr[j]\n",
    "a=[5,3,8]\n",
    "bubble(a)\n",
    "print(a)"
   ]
  },
  {
   "cell_type": "code",
   "execution_count": null,
   "id": "26e5470f",
   "metadata": {},
   "outputs": [],
   "source": [
    "# Topic: Data Cleaning\n",
    "import pandas as pd\n",
    "df = pd.DataFrame({'A':[1,None,3]})\n",
    "df = df.fillna(0)\n",
    "print(df)"
   ]
  },
  {
   "cell_type": "code",
   "execution_count": null,
   "id": "de2bb328",
   "metadata": {},
   "outputs": [],
   "source": [
    "# Topic: File I/O\n",
    "with open('test.txt', 'w') as f:\n",
    "    f.write('Hello World')"
   ]
  },
  {
   "cell_type": "code",
   "execution_count": null,
   "id": "33c8f490",
   "metadata": {},
   "outputs": [],
   "source": [
    "# Topic: Basics\n",
    "name = 'Fahd'\n",
    "print(f'Hello, {name}')"
   ]
  },
  {
   "cell_type": "code",
   "execution_count": null,
   "id": "d67748ba",
   "metadata": {},
   "outputs": [],
   "source": [
    "# Topic: Mini Projects\n",
    "# Palindrome check\n",
    "def is_pal(s): return s == s[::-1]\n",
    "print(is_pal('madam'))"
   ]
  },
  {
   "cell_type": "code",
   "execution_count": null,
   "id": "f5e18a60",
   "metadata": {},
   "outputs": [],
   "source": [
    "# Topic: Regex\n",
    "import re\n",
    "text = 'email: test@example.com'\n",
    "print(re.findall(r'\\S+@\\S+', text))"
   ]
  },
  {
   "cell_type": "code",
   "execution_count": null,
   "id": "1d68072c",
   "metadata": {},
   "outputs": [],
   "source": [
    "# Topic: Algorithms\n",
    "# Bubble sort\n",
    "def bubble(arr):\n",
    " for i in range(len(arr)):\n",
    "  for j in range(0, len(arr)-i-1):\n",
    "   if arr[j]>arr[j+1]: arr[j],arr[j+1]=arr[j+1],arr[j]\n",
    "a=[5,3,8]\n",
    "bubble(a)\n",
    "print(a)"
   ]
  },
  {
   "cell_type": "code",
   "execution_count": null,
   "id": "f781375f",
   "metadata": {},
   "outputs": [],
   "source": [
    "# Topic: Algorithms\n",
    "# Bubble sort\n",
    "def bubble(arr):\n",
    " for i in range(len(arr)):\n",
    "  for j in range(0, len(arr)-i-1):\n",
    "   if arr[j]>arr[j+1]: arr[j],arr[j+1]=arr[j+1],arr[j]\n",
    "a=[5,3,8]\n",
    "bubble(a)\n",
    "print(a)"
   ]
  },
  {
   "cell_type": "code",
   "execution_count": null,
   "id": "e1e0fd8b",
   "metadata": {},
   "outputs": [],
   "source": [
    "# Topic: OOP\n",
    "class Student:\n",
    "    def __init__(self, name): self.name = name\n",
    "s = Student('Fahd')\n",
    "print(s.name)"
   ]
  },
  {
   "cell_type": "code",
   "execution_count": null,
   "id": "ff94520b",
   "metadata": {},
   "outputs": [],
   "source": [
    "# Topic: Dictionaries & Sets\n",
    "s = set([1, 2, 3, 2])\n",
    "print(s)"
   ]
  },
  {
   "cell_type": "code",
   "execution_count": null,
   "id": "93f695ed",
   "metadata": {},
   "outputs": [],
   "source": [
    "# Topic: Pandas\n",
    "import pandas as pd\n",
    "df = pd.read_csv('file.csv')\n",
    "print(df.head())"
   ]
  },
  {
   "cell_type": "code",
   "execution_count": null,
   "id": "d795a045",
   "metadata": {},
   "outputs": [],
   "source": [
    "# Topic: JSON & CSV\n",
    "import json\n",
    "data = {'a': 1}\n",
    "print(json.dumps(data))"
   ]
  },
  {
   "cell_type": "code",
   "execution_count": null,
   "id": "e862a777",
   "metadata": {},
   "outputs": [],
   "source": [
    "# Topic: Loops\n",
    "for i in range(10): print(i*i)"
   ]
  },
  {
   "cell_type": "code",
   "execution_count": null,
   "id": "b32f551e",
   "metadata": {},
   "outputs": [],
   "source": [
    "# Topic: Pandas\n",
    "import pandas as pd\n",
    "df = pd.read_csv('file.csv')\n",
    "print(df.head())"
   ]
  },
  {
   "cell_type": "code",
   "execution_count": null,
   "id": "d094ea82",
   "metadata": {},
   "outputs": [],
   "source": [
    "# Topic: Regex\n",
    "import re\n",
    "text = 'email: test@example.com'\n",
    "print(re.findall(r'\\S+@\\S+', text))"
   ]
  },
  {
   "cell_type": "code",
   "execution_count": null,
   "id": "6c2946ea",
   "metadata": {},
   "outputs": [],
   "source": [
    "# Topic: Basics\n",
    "name = 'Fahd'\n",
    "print(f'Hello, {name}')"
   ]
  },
  {
   "cell_type": "code",
   "execution_count": null,
   "id": "3c1fcee9",
   "metadata": {},
   "outputs": [],
   "source": [
    "# Topic: Algorithms\n",
    "# Bubble sort\n",
    "def bubble(arr):\n",
    " for i in range(len(arr)):\n",
    "  for j in range(0, len(arr)-i-1):\n",
    "   if arr[j]>arr[j+1]: arr[j],arr[j+1]=arr[j+1],arr[j]\n",
    "a=[5,3,8]\n",
    "bubble(a)\n",
    "print(a)"
   ]
  },
  {
   "cell_type": "code",
   "execution_count": null,
   "id": "47b55547",
   "metadata": {},
   "outputs": [],
   "source": [
    "# Topic: Pandas\n",
    "import pandas as pd\n",
    "df = pd.DataFrame({'A':[1,2],'B':[3,4]})\n",
    "print(df)"
   ]
  },
  {
   "cell_type": "code",
   "execution_count": null,
   "id": "b8c48594",
   "metadata": {},
   "outputs": [],
   "source": [
    "# Topic: Loops\n",
    "for i in range(10): print(i*i)"
   ]
  },
  {
   "cell_type": "code",
   "execution_count": null,
   "id": "ca614564",
   "metadata": {},
   "outputs": [],
   "source": [
    "# Topic: NumPy\n",
    "import numpy as np\n",
    "a = np.array([1, 2, 3])\n",
    "print(a + 5)"
   ]
  },
  {
   "cell_type": "code",
   "execution_count": null,
   "id": "5eddc75e",
   "metadata": {},
   "outputs": [],
   "source": [
    "# Topic: Basics\n",
    "x = 10\n",
    "y = 20\n",
    "print(x + y)"
   ]
  },
  {
   "cell_type": "code",
   "execution_count": null,
   "id": "b94aa625",
   "metadata": {},
   "outputs": [],
   "source": [
    "# Topic: NumPy\n",
    "import numpy as np\n",
    "a = np.array([1, 2, 3])\n",
    "print(a + 5)"
   ]
  },
  {
   "cell_type": "code",
   "execution_count": null,
   "id": "8a0f82d1",
   "metadata": {},
   "outputs": [],
   "source": [
    "# Topic: Mini Projects\n",
    "# Calculator\n",
    "def calc(a,b,op): return eval(f'{a}{op}{b}')\n",
    "print(calc(5,2,'+'))"
   ]
  },
  {
   "cell_type": "code",
   "execution_count": null,
   "id": "972c5e82",
   "metadata": {},
   "outputs": [],
   "source": [
    "# Topic: Pandas\n",
    "import pandas as pd\n",
    "df = pd.DataFrame({'A':[1,2],'B':[3,4]})\n",
    "print(df)"
   ]
  },
  {
   "cell_type": "code",
   "execution_count": null,
   "id": "bbec9e81",
   "metadata": {},
   "outputs": [],
   "source": [
    "# Topic: Algorithms\n",
    "# Bubble sort\n",
    "def bubble(arr):\n",
    " for i in range(len(arr)):\n",
    "  for j in range(0, len(arr)-i-1):\n",
    "   if arr[j]>arr[j+1]: arr[j],arr[j+1]=arr[j+1],arr[j]\n",
    "a=[5,3,8]\n",
    "bubble(a)\n",
    "print(a)"
   ]
  },
  {
   "cell_type": "code",
   "execution_count": null,
   "id": "706cc696",
   "metadata": {},
   "outputs": [],
   "source": [
    "# Topic: Lists & Tuples\n",
    "t = (1, 2, 3)\n",
    "print(t[0])"
   ]
  },
  {
   "cell_type": "code",
   "execution_count": null,
   "id": "3d862306",
   "metadata": {},
   "outputs": [],
   "source": [
    "# Topic: Basic ML\n",
    "from sklearn.linear_model import LinearRegression\n",
    "model = LinearRegression()\n",
    "print(model)"
   ]
  },
  {
   "cell_type": "code",
   "execution_count": null,
   "id": "885b9872",
   "metadata": {},
   "outputs": [],
   "source": [
    "# Topic: Algorithms\n",
    "# Bubble sort\n",
    "def bubble(arr):\n",
    " for i in range(len(arr)):\n",
    "  for j in range(0, len(arr)-i-1):\n",
    "   if arr[j]>arr[j+1]: arr[j],arr[j+1]=arr[j+1],arr[j]\n",
    "a=[5,3,8]\n",
    "bubble(a)\n",
    "print(a)"
   ]
  },
  {
   "cell_type": "code",
   "execution_count": null,
   "id": "c0a34d53",
   "metadata": {},
   "outputs": [],
   "source": [
    "# Topic: Basics\n",
    "name = 'Fahd'\n",
    "print(f'Hello, {name}')"
   ]
  },
  {
   "cell_type": "code",
   "execution_count": null,
   "id": "d4922546",
   "metadata": {},
   "outputs": [],
   "source": [
    "# Topic: Pandas\n",
    "import pandas as pd\n",
    "df = pd.DataFrame({'A':[1,2],'B':[3,4]})\n",
    "print(df)"
   ]
  },
  {
   "cell_type": "code",
   "execution_count": null,
   "id": "41f310d5",
   "metadata": {},
   "outputs": [],
   "source": [
    "# Topic: Matplotlib & Seaborn\n",
    "import matplotlib.pyplot as plt\n",
    "plt.plot([1,2],[3,4])\n",
    "plt.show()"
   ]
  },
  {
   "cell_type": "code",
   "execution_count": null,
   "id": "5be9d690",
   "metadata": {},
   "outputs": [],
   "source": [
    "# Topic: Lists & Tuples\n",
    "t = (1, 2, 3)\n",
    "print(t[0])"
   ]
  },
  {
   "cell_type": "code",
   "execution_count": null,
   "id": "d7101571",
   "metadata": {},
   "outputs": [],
   "source": [
    "# Topic: Pandas\n",
    "import pandas as pd\n",
    "df = pd.read_csv('file.csv')\n",
    "print(df.head())"
   ]
  },
  {
   "cell_type": "code",
   "execution_count": null,
   "id": "7172eb7f",
   "metadata": {},
   "outputs": [],
   "source": [
    "# Topic: Algorithms\n",
    "# Bubble sort\n",
    "def bubble(arr):\n",
    " for i in range(len(arr)):\n",
    "  for j in range(0, len(arr)-i-1):\n",
    "   if arr[j]>arr[j+1]: arr[j],arr[j+1]=arr[j+1],arr[j]\n",
    "a=[5,3,8]\n",
    "bubble(a)\n",
    "print(a)"
   ]
  },
  {
   "cell_type": "code",
   "execution_count": null,
   "id": "80da3238",
   "metadata": {},
   "outputs": [],
   "source": [
    "# Topic: Data Cleaning\n",
    "import pandas as pd\n",
    "df = pd.DataFrame({'A':[1,None,3]})\n",
    "df = df.fillna(0)\n",
    "print(df)"
   ]
  },
  {
   "cell_type": "code",
   "execution_count": null,
   "id": "ab19df4e",
   "metadata": {},
   "outputs": [],
   "source": [
    "# Topic: Lists & Tuples\n",
    "lst = [1, 2, 3]\n",
    "lst.append(4)\n",
    "print(lst)"
   ]
  },
  {
   "cell_type": "code",
   "execution_count": null,
   "id": "c780ad01",
   "metadata": {},
   "outputs": [],
   "source": [
    "# Topic: Web Scraping\n",
    "import requests\n",
    "from bs4 import BeautifulSoup\n",
    "r = requests.get('https://example.com')\n",
    "soup = BeautifulSoup(r.text, 'html.parser')\n",
    "print(soup.title.text)"
   ]
  },
  {
   "cell_type": "code",
   "execution_count": null,
   "id": "1f70a8ef",
   "metadata": {},
   "outputs": [],
   "source": [
    "# Topic: Data Cleaning\n",
    "import pandas as pd\n",
    "df = pd.DataFrame({'A':[1,None,3]})\n",
    "df = df.fillna(0)\n",
    "print(df)"
   ]
  },
  {
   "cell_type": "code",
   "execution_count": null,
   "id": "4f8dbab7",
   "metadata": {},
   "outputs": [],
   "source": [
    "# Topic: Basic ML\n",
    "from sklearn.linear_model import LinearRegression\n",
    "model = LinearRegression()\n",
    "print(model)"
   ]
  },
  {
   "cell_type": "code",
   "execution_count": null,
   "id": "9be0f3df",
   "metadata": {},
   "outputs": [],
   "source": [
    "# Topic: Mini Projects\n",
    "# Palindrome check\n",
    "def is_pal(s): return s == s[::-1]\n",
    "print(is_pal('madam'))"
   ]
  },
  {
   "cell_type": "code",
   "execution_count": null,
   "id": "984eec8d",
   "metadata": {},
   "outputs": [],
   "source": [
    "# Topic: JSON & CSV\n",
    "import csv\n",
    "with open('file.csv', 'w', newline='') as f:\n",
    " csv.writer(f).writerow(['a','b','c'])"
   ]
  },
  {
   "cell_type": "code",
   "execution_count": null,
   "id": "36211657",
   "metadata": {},
   "outputs": [],
   "source": [
    "# Topic: JSON & CSV\n",
    "import csv\n",
    "with open('file.csv', 'w', newline='') as f:\n",
    " csv.writer(f).writerow(['a','b','c'])"
   ]
  },
  {
   "cell_type": "code",
   "execution_count": null,
   "id": "e85f3979",
   "metadata": {},
   "outputs": [],
   "source": [
    "# Topic: Matplotlib & Seaborn\n",
    "import matplotlib.pyplot as plt\n",
    "plt.plot([1,2],[3,4])\n",
    "plt.show()"
   ]
  },
  {
   "cell_type": "code",
   "execution_count": null,
   "id": "837bdc37",
   "metadata": {},
   "outputs": [],
   "source": [
    "# Topic: Matplotlib & Seaborn\n",
    "import seaborn as sns\n",
    "import pandas as pd\n",
    "sns.set()\n",
    "sns.histplot(pd.Series([1,2,2,3]));"
   ]
  },
  {
   "cell_type": "code",
   "execution_count": null,
   "id": "b76ad680",
   "metadata": {},
   "outputs": [],
   "source": [
    "# Topic: Regex\n",
    "import re\n",
    "text = 'email: test@example.com'\n",
    "print(re.findall(r'\\S+@\\S+', text))"
   ]
  },
  {
   "cell_type": "code",
   "execution_count": null,
   "id": "394128e6",
   "metadata": {},
   "outputs": [],
   "source": [
    "# Topic: Dictionaries & Sets\n",
    "s = set([1, 2, 3, 2])\n",
    "print(s)"
   ]
  },
  {
   "cell_type": "code",
   "execution_count": null,
   "id": "31970c5e",
   "metadata": {},
   "outputs": [],
   "source": [
    "# Topic: Recursion\n",
    "def fact(n): return 1 if n==0 else n*fact(n-1)\n",
    "print(fact(5))"
   ]
  },
  {
   "cell_type": "code",
   "execution_count": null,
   "id": "9199c163",
   "metadata": {},
   "outputs": [],
   "source": [
    "# Topic: Mini Projects\n",
    "# Palindrome check\n",
    "def is_pal(s): return s == s[::-1]\n",
    "print(is_pal('madam'))"
   ]
  },
  {
   "cell_type": "code",
   "execution_count": null,
   "id": "e8f5545b",
   "metadata": {},
   "outputs": [],
   "source": [
    "# Topic: Lists & Tuples\n",
    "t = (1, 2, 3)\n",
    "print(t[0])"
   ]
  },
  {
   "cell_type": "code",
   "execution_count": null,
   "id": "b9071ee9",
   "metadata": {},
   "outputs": [],
   "source": [
    "# Topic: Dictionaries & Sets\n",
    "s = set([1, 2, 3, 2])\n",
    "print(s)"
   ]
  },
  {
   "cell_type": "code",
   "execution_count": null,
   "id": "b9f05be1",
   "metadata": {},
   "outputs": [],
   "source": [
    "# Topic: JSON & CSV\n",
    "import csv\n",
    "with open('file.csv', 'w', newline='') as f:\n",
    " csv.writer(f).writerow(['a','b','c'])"
   ]
  },
  {
   "cell_type": "code",
   "execution_count": null,
   "id": "f20221ce",
   "metadata": {},
   "outputs": [],
   "source": [
    "# Topic: Regex\n",
    "import re\n",
    "text = 'email: test@example.com'\n",
    "print(re.findall(r'\\S+@\\S+', text))"
   ]
  },
  {
   "cell_type": "code",
   "execution_count": null,
   "id": "038efa7b",
   "metadata": {},
   "outputs": [],
   "source": [
    "# Topic: File I/O\n",
    "with open('test.txt', 'w') as f:\n",
    "    f.write('Hello World')"
   ]
  },
  {
   "cell_type": "code",
   "execution_count": null,
   "id": "5ea8823c",
   "metadata": {},
   "outputs": [],
   "source": [
    "# Topic: Basics\n",
    "name = 'Fahd'\n",
    "print(f'Hello, {name}')"
   ]
  },
  {
   "cell_type": "code",
   "execution_count": null,
   "id": "8d7a13fc",
   "metadata": {},
   "outputs": [],
   "source": [
    "# Topic: Pandas\n",
    "import pandas as pd\n",
    "df = pd.read_csv('file.csv')\n",
    "print(df.head())"
   ]
  },
  {
   "cell_type": "code",
   "execution_count": null,
   "id": "fcba155b",
   "metadata": {},
   "outputs": [],
   "source": [
    "# Topic: Data Cleaning\n",
    "import pandas as pd\n",
    "df = pd.DataFrame({'A':[1,None,3]})\n",
    "df = df.fillna(0)\n",
    "print(df)"
   ]
  },
  {
   "cell_type": "code",
   "execution_count": null,
   "id": "3fa93eed",
   "metadata": {},
   "outputs": [],
   "source": [
    "# Topic: OOP\n",
    "class Student:\n",
    "    def __init__(self, name): self.name = name\n",
    "s = Student('Fahd')\n",
    "print(s.name)"
   ]
  },
  {
   "cell_type": "code",
   "execution_count": null,
   "id": "9321bda3",
   "metadata": {},
   "outputs": [],
   "source": [
    "# Topic: Dictionaries & Sets\n",
    "d = {'name': 'Fahd', 'age': 20}\n",
    "print(d.get('name'))"
   ]
  },
  {
   "cell_type": "code",
   "execution_count": null,
   "id": "64220cbf",
   "metadata": {},
   "outputs": [],
   "source": [
    "# Topic: Functions\n",
    "def square(x): return x*x\n",
    "print(square(5))"
   ]
  },
  {
   "cell_type": "code",
   "execution_count": null,
   "id": "e8517a42",
   "metadata": {},
   "outputs": [],
   "source": [
    "# Topic: Basics\n",
    "name = 'Fahd'\n",
    "print(f'Hello, {name}')"
   ]
  },
  {
   "cell_type": "code",
   "execution_count": null,
   "id": "96949ce9",
   "metadata": {},
   "outputs": [],
   "source": [
    "# Topic: Lists & Tuples\n",
    "t = (1, 2, 3)\n",
    "print(t[0])"
   ]
  },
  {
   "cell_type": "code",
   "execution_count": null,
   "id": "072b2fc7",
   "metadata": {},
   "outputs": [],
   "source": [
    "# Topic: Web Scraping\n",
    "import requests\n",
    "from bs4 import BeautifulSoup\n",
    "r = requests.get('https://example.com')\n",
    "soup = BeautifulSoup(r.text, 'html.parser')\n",
    "print(soup.title.text)"
   ]
  },
  {
   "cell_type": "code",
   "execution_count": null,
   "id": "359ba7e0",
   "metadata": {},
   "outputs": [],
   "source": [
    "# Topic: Matplotlib & Seaborn\n",
    "import seaborn as sns\n",
    "import pandas as pd\n",
    "sns.set()\n",
    "sns.histplot(pd.Series([1,2,2,3]));"
   ]
  },
  {
   "cell_type": "code",
   "execution_count": null,
   "id": "b059b37e",
   "metadata": {},
   "outputs": [],
   "source": [
    "# Topic: Matplotlib & Seaborn\n",
    "import matplotlib.pyplot as plt\n",
    "plt.plot([1,2],[3,4])\n",
    "plt.show()"
   ]
  },
  {
   "cell_type": "code",
   "execution_count": null,
   "id": "e9eb53b1",
   "metadata": {},
   "outputs": [],
   "source": [
    "# Topic: Recursion\n",
    "def fact(n): return 1 if n==0 else n*fact(n-1)\n",
    "print(fact(5))"
   ]
  },
  {
   "cell_type": "code",
   "execution_count": null,
   "id": "8028ad75",
   "metadata": {},
   "outputs": [],
   "source": [
    "# Topic: OOP\n",
    "class Student:\n",
    "    def __init__(self, name): self.name = name\n",
    "s = Student('Fahd')\n",
    "print(s.name)"
   ]
  },
  {
   "cell_type": "code",
   "execution_count": null,
   "id": "c4f86eda",
   "metadata": {},
   "outputs": [],
   "source": [
    "# Topic: OOP\n",
    "class Student:\n",
    "    def __init__(self, name): self.name = name\n",
    "s = Student('Fahd')\n",
    "print(s.name)"
   ]
  },
  {
   "cell_type": "code",
   "execution_count": null,
   "id": "b709f432",
   "metadata": {},
   "outputs": [],
   "source": [
    "# Topic: Basic ML\n",
    "from sklearn.linear_model import LinearRegression\n",
    "model = LinearRegression()\n",
    "print(model)"
   ]
  },
  {
   "cell_type": "code",
   "execution_count": null,
   "id": "613d6427",
   "metadata": {},
   "outputs": [],
   "source": [
    "# Topic: JSON & CSV\n",
    "import csv\n",
    "with open('file.csv', 'w', newline='') as f:\n",
    " csv.writer(f).writerow(['a','b','c'])"
   ]
  },
  {
   "cell_type": "code",
   "execution_count": null,
   "id": "ef978b2f",
   "metadata": {},
   "outputs": [],
   "source": [
    "# Topic: NumPy\n",
    "import numpy as np\n",
    "print(np.linspace(0, 1, 5))"
   ]
  },
  {
   "cell_type": "code",
   "execution_count": null,
   "id": "c8a98ade",
   "metadata": {},
   "outputs": [],
   "source": [
    "# Topic: Loops\n",
    "for i in range(10): print(i*i)"
   ]
  },
  {
   "cell_type": "code",
   "execution_count": null,
   "id": "ae9f0c0f",
   "metadata": {},
   "outputs": [],
   "source": [
    "# Topic: Basic ML\n",
    "from sklearn.linear_model import LinearRegression\n",
    "model = LinearRegression()\n",
    "print(model)"
   ]
  },
  {
   "cell_type": "code",
   "execution_count": null,
   "id": "802f1bc6",
   "metadata": {},
   "outputs": [],
   "source": [
    "# Topic: Algorithms\n",
    "# Bubble sort\n",
    "def bubble(arr):\n",
    " for i in range(len(arr)):\n",
    "  for j in range(0, len(arr)-i-1):\n",
    "   if arr[j]>arr[j+1]: arr[j],arr[j+1]=arr[j+1],arr[j]\n",
    "a=[5,3,8]\n",
    "bubble(a)\n",
    "print(a)"
   ]
  },
  {
   "cell_type": "code",
   "execution_count": null,
   "id": "a8941dd3",
   "metadata": {},
   "outputs": [],
   "source": [
    "# Topic: File I/O\n",
    "with open('test.txt', 'r') as f:\n",
    "    print(f.read())"
   ]
  },
  {
   "cell_type": "code",
   "execution_count": null,
   "id": "7b530833",
   "metadata": {},
   "outputs": [],
   "source": [
    "# Topic: Matplotlib & Seaborn\n",
    "import seaborn as sns\n",
    "import pandas as pd\n",
    "sns.set()\n",
    "sns.histplot(pd.Series([1,2,2,3]));"
   ]
  },
  {
   "cell_type": "code",
   "execution_count": null,
   "id": "605cb4ec",
   "metadata": {},
   "outputs": [],
   "source": [
    "# Topic: Regex\n",
    "import re\n",
    "text = 'email: test@example.com'\n",
    "print(re.findall(r'\\S+@\\S+', text))"
   ]
  },
  {
   "cell_type": "code",
   "execution_count": null,
   "id": "e547e61c",
   "metadata": {},
   "outputs": [],
   "source": [
    "# Topic: Basics\n",
    "name = 'Fahd'\n",
    "print(f'Hello, {name}')"
   ]
  },
  {
   "cell_type": "code",
   "execution_count": null,
   "id": "9d861917",
   "metadata": {},
   "outputs": [],
   "source": [
    "# Topic: Pandas\n",
    "import pandas as pd\n",
    "df = pd.read_csv('file.csv')\n",
    "print(df.head())"
   ]
  },
  {
   "cell_type": "code",
   "execution_count": null,
   "id": "98f9fffb",
   "metadata": {},
   "outputs": [],
   "source": [
    "# Topic: Dictionaries & Sets\n",
    "d = {'name': 'Fahd', 'age': 20}\n",
    "print(d.get('name'))"
   ]
  },
  {
   "cell_type": "code",
   "execution_count": null,
   "id": "bf5b6d90",
   "metadata": {},
   "outputs": [],
   "source": [
    "# Topic: Data Cleaning\n",
    "import pandas as pd\n",
    "df = pd.DataFrame({'A':[1,None,3]})\n",
    "df = df.fillna(0)\n",
    "print(df)"
   ]
  },
  {
   "cell_type": "code",
   "execution_count": null,
   "id": "84643a50",
   "metadata": {},
   "outputs": [],
   "source": [
    "# Topic: Matplotlib & Seaborn\n",
    "import matplotlib.pyplot as plt\n",
    "plt.plot([1,2],[3,4])\n",
    "plt.show()"
   ]
  },
  {
   "cell_type": "code",
   "execution_count": null,
   "id": "ac3ae8c3",
   "metadata": {},
   "outputs": [],
   "source": [
    "# Topic: Algorithms\n",
    "# Bubble sort\n",
    "def bubble(arr):\n",
    " for i in range(len(arr)):\n",
    "  for j in range(0, len(arr)-i-1):\n",
    "   if arr[j]>arr[j+1]: arr[j],arr[j+1]=arr[j+1],arr[j]\n",
    "a=[5,3,8]\n",
    "bubble(a)\n",
    "print(a)"
   ]
  },
  {
   "cell_type": "code",
   "execution_count": null,
   "id": "375630ba",
   "metadata": {},
   "outputs": [],
   "source": [
    "# Topic: Loops\n",
    "while True:\n",
    "    print('Break')\n",
    "    break"
   ]
  },
  {
   "cell_type": "code",
   "execution_count": null,
   "id": "c8950f2b",
   "metadata": {},
   "outputs": [],
   "source": [
    "# Topic: Basic ML\n",
    "from sklearn.linear_model import LinearRegression\n",
    "model = LinearRegression()\n",
    "print(model)"
   ]
  },
  {
   "cell_type": "code",
   "execution_count": null,
   "id": "ce5a613d",
   "metadata": {},
   "outputs": [],
   "source": [
    "# Topic: Loops\n",
    "for i in range(10): print(i*i)"
   ]
  },
  {
   "cell_type": "code",
   "execution_count": null,
   "id": "0f16a4b4",
   "metadata": {},
   "outputs": [],
   "source": [
    "# Topic: Web Scraping\n",
    "import requests\n",
    "from bs4 import BeautifulSoup\n",
    "r = requests.get('https://example.com')\n",
    "soup = BeautifulSoup(r.text, 'html.parser')\n",
    "print(soup.title.text)"
   ]
  },
  {
   "cell_type": "code",
   "execution_count": null,
   "id": "c5e80daa",
   "metadata": {},
   "outputs": [],
   "source": [
    "# Topic: Decorators\n",
    "def log(func):\n",
    " def wrapper():\n",
    "  print('Call')\n",
    "  func()\n",
    " return wrapper\n",
    "@log\n",
    "def say(): print('Hi')\n",
    "say()"
   ]
  },
  {
   "cell_type": "code",
   "execution_count": null,
   "id": "189f1ca9",
   "metadata": {},
   "outputs": [],
   "source": [
    "# Topic: JSON & CSV\n",
    "import csv\n",
    "with open('file.csv', 'w', newline='') as f:\n",
    " csv.writer(f).writerow(['a','b','c'])"
   ]
  },
  {
   "cell_type": "code",
   "execution_count": null,
   "id": "dd7c6597",
   "metadata": {},
   "outputs": [],
   "source": [
    "# Topic: JSON & CSV\n",
    "import json\n",
    "data = {'a': 1}\n",
    "print(json.dumps(data))"
   ]
  },
  {
   "cell_type": "code",
   "execution_count": null,
   "id": "f822c6df",
   "metadata": {},
   "outputs": [],
   "source": [
    "# Topic: Decorators\n",
    "def log(func):\n",
    " def wrapper():\n",
    "  print('Call')\n",
    "  func()\n",
    " return wrapper\n",
    "@log\n",
    "def say(): print('Hi')\n",
    "say()"
   ]
  },
  {
   "cell_type": "code",
   "execution_count": null,
   "id": "ab9dcb19",
   "metadata": {},
   "outputs": [],
   "source": [
    "# Topic: Loops\n",
    "while True:\n",
    "    print('Break')\n",
    "    break"
   ]
  },
  {
   "cell_type": "code",
   "execution_count": null,
   "id": "b3a3e916",
   "metadata": {},
   "outputs": [],
   "source": [
    "# Topic: OOP\n",
    "class Student:\n",
    "    def __init__(self, name): self.name = name\n",
    "s = Student('Fahd')\n",
    "print(s.name)"
   ]
  },
  {
   "cell_type": "code",
   "execution_count": null,
   "id": "d0a1674d",
   "metadata": {},
   "outputs": [],
   "source": [
    "# Topic: NumPy\n",
    "import numpy as np\n",
    "print(np.linspace(0, 1, 5))"
   ]
  },
  {
   "cell_type": "code",
   "execution_count": null,
   "id": "fc76fe00",
   "metadata": {},
   "outputs": [],
   "source": [
    "# Topic: Web Scraping\n",
    "import requests\n",
    "from bs4 import BeautifulSoup\n",
    "r = requests.get('https://example.com')\n",
    "soup = BeautifulSoup(r.text, 'html.parser')\n",
    "print(soup.title.text)"
   ]
  },
  {
   "cell_type": "code",
   "execution_count": null,
   "id": "b84a9041",
   "metadata": {},
   "outputs": [],
   "source": [
    "# Topic: Algorithms\n",
    "# Bubble sort\n",
    "def bubble(arr):\n",
    " for i in range(len(arr)):\n",
    "  for j in range(0, len(arr)-i-1):\n",
    "   if arr[j]>arr[j+1]: arr[j],arr[j+1]=arr[j+1],arr[j]\n",
    "a=[5,3,8]\n",
    "bubble(a)\n",
    "print(a)"
   ]
  },
  {
   "cell_type": "code",
   "execution_count": null,
   "id": "ab99fc03",
   "metadata": {},
   "outputs": [],
   "source": [
    "# Topic: CLI Tools\n",
    "import sys\n",
    "print(f'Arguments: {sys.argv}')"
   ]
  },
  {
   "cell_type": "code",
   "execution_count": null,
   "id": "87b0ce00",
   "metadata": {},
   "outputs": [],
   "source": [
    "# Topic: Mini Projects\n",
    "# Palindrome check\n",
    "def is_pal(s): return s == s[::-1]\n",
    "print(is_pal('madam'))"
   ]
  },
  {
   "cell_type": "code",
   "execution_count": null,
   "id": "0876412a",
   "metadata": {},
   "outputs": [],
   "source": [
    "# Topic: Functions\n",
    "def square(x): return x*x\n",
    "print(square(5))"
   ]
  },
  {
   "cell_type": "code",
   "execution_count": null,
   "id": "e4e447b7",
   "metadata": {},
   "outputs": [],
   "source": [
    "# Topic: Pandas\n",
    "import pandas as pd\n",
    "df = pd.DataFrame({'A':[1,2],'B':[3,4]})\n",
    "print(df)"
   ]
  },
  {
   "cell_type": "code",
   "execution_count": null,
   "id": "fc5e8f06",
   "metadata": {},
   "outputs": [],
   "source": [
    "# Topic: Regex\n",
    "import re\n",
    "text = 'email: test@example.com'\n",
    "print(re.findall(r'\\S+@\\S+', text))"
   ]
  },
  {
   "cell_type": "code",
   "execution_count": null,
   "id": "69d816dd",
   "metadata": {},
   "outputs": [],
   "source": [
    "# Topic: Recursion\n",
    "def fact(n): return 1 if n==0 else n*fact(n-1)\n",
    "print(fact(5))"
   ]
  },
  {
   "cell_type": "code",
   "execution_count": null,
   "id": "36050752",
   "metadata": {},
   "outputs": [],
   "source": [
    "# Topic: File I/O\n",
    "with open('test.txt', 'w') as f:\n",
    "    f.write('Hello World')"
   ]
  },
  {
   "cell_type": "code",
   "execution_count": null,
   "id": "def334f7",
   "metadata": {},
   "outputs": [],
   "source": [
    "# Topic: JSON & CSV\n",
    "import json\n",
    "data = {'a': 1}\n",
    "print(json.dumps(data))"
   ]
  },
  {
   "cell_type": "code",
   "execution_count": null,
   "id": "9a65ef08",
   "metadata": {},
   "outputs": [],
   "source": [
    "# Topic: Loops\n",
    "for i in range(10): print(i*i)"
   ]
  },
  {
   "cell_type": "code",
   "execution_count": null,
   "id": "b7a372c7",
   "metadata": {},
   "outputs": [],
   "source": [
    "# Topic: Regex\n",
    "import re\n",
    "text = 'email: test@example.com'\n",
    "print(re.findall(r'\\S+@\\S+', text))"
   ]
  },
  {
   "cell_type": "code",
   "execution_count": null,
   "id": "e35b9224",
   "metadata": {},
   "outputs": [],
   "source": [
    "# Topic: OOP\n",
    "class Student:\n",
    "    def __init__(self, name): self.name = name\n",
    "s = Student('Fahd')\n",
    "print(s.name)"
   ]
  },
  {
   "cell_type": "code",
   "execution_count": null,
   "id": "a3f06b80",
   "metadata": {},
   "outputs": [],
   "source": [
    "# Topic: Regex\n",
    "import re\n",
    "text = 'email: test@example.com'\n",
    "print(re.findall(r'\\S+@\\S+', text))"
   ]
  },
  {
   "cell_type": "code",
   "execution_count": null,
   "id": "7adf52bd",
   "metadata": {},
   "outputs": [],
   "source": [
    "# Topic: CLI Tools\n",
    "import sys\n",
    "print(f'Arguments: {sys.argv}')"
   ]
  },
  {
   "cell_type": "code",
   "execution_count": null,
   "id": "d6eede31",
   "metadata": {},
   "outputs": [],
   "source": [
    "# Topic: Dictionaries & Sets\n",
    "s = set([1, 2, 3, 2])\n",
    "print(s)"
   ]
  },
  {
   "cell_type": "code",
   "execution_count": null,
   "id": "bd6fa1a4",
   "metadata": {},
   "outputs": [],
   "source": [
    "# Topic: Lists & Tuples\n",
    "lst = [1, 2, 3]\n",
    "lst.append(4)\n",
    "print(lst)"
   ]
  },
  {
   "cell_type": "code",
   "execution_count": null,
   "id": "e4bf1647",
   "metadata": {},
   "outputs": [],
   "source": [
    "# Topic: Loops\n",
    "for i in range(10): print(i*i)"
   ]
  },
  {
   "cell_type": "code",
   "execution_count": null,
   "id": "21190664",
   "metadata": {},
   "outputs": [],
   "source": [
    "# Topic: Decorators\n",
    "def log(func):\n",
    " def wrapper():\n",
    "  print('Call')\n",
    "  func()\n",
    " return wrapper\n",
    "@log\n",
    "def say(): print('Hi')\n",
    "say()"
   ]
  },
  {
   "cell_type": "code",
   "execution_count": null,
   "id": "d28c760f",
   "metadata": {},
   "outputs": [],
   "source": [
    "# Topic: Pandas\n",
    "import pandas as pd\n",
    "df = pd.read_csv('file.csv')\n",
    "print(df.head())"
   ]
  },
  {
   "cell_type": "code",
   "execution_count": null,
   "id": "79f06bad",
   "metadata": {},
   "outputs": [],
   "source": [
    "# Topic: Dictionaries & Sets\n",
    "s = set([1, 2, 3, 2])\n",
    "print(s)"
   ]
  },
  {
   "cell_type": "code",
   "execution_count": null,
   "id": "f9967e60",
   "metadata": {},
   "outputs": [],
   "source": [
    "# Topic: Lists & Tuples\n",
    "lst = [1, 2, 3]\n",
    "lst.append(4)\n",
    "print(lst)"
   ]
  },
  {
   "cell_type": "code",
   "execution_count": null,
   "id": "23b905a2",
   "metadata": {},
   "outputs": [],
   "source": [
    "# Topic: Algorithms\n",
    "# Bubble sort\n",
    "def bubble(arr):\n",
    " for i in range(len(arr)):\n",
    "  for j in range(0, len(arr)-i-1):\n",
    "   if arr[j]>arr[j+1]: arr[j],arr[j+1]=arr[j+1],arr[j]\n",
    "a=[5,3,8]\n",
    "bubble(a)\n",
    "print(a)"
   ]
  },
  {
   "cell_type": "code",
   "execution_count": null,
   "id": "745a33d6",
   "metadata": {},
   "outputs": [],
   "source": [
    "# Topic: Web Scraping\n",
    "import requests\n",
    "from bs4 import BeautifulSoup\n",
    "r = requests.get('https://example.com')\n",
    "soup = BeautifulSoup(r.text, 'html.parser')\n",
    "print(soup.title.text)"
   ]
  },
  {
   "cell_type": "code",
   "execution_count": null,
   "id": "7b1f957c",
   "metadata": {},
   "outputs": [],
   "source": [
    "# Topic: Functions\n",
    "def square(x): return x*x\n",
    "print(square(5))"
   ]
  },
  {
   "cell_type": "code",
   "execution_count": null,
   "id": "c27fa728",
   "metadata": {},
   "outputs": [],
   "source": [
    "# Topic: Lists & Tuples\n",
    "lst = [1, 2, 3]\n",
    "lst.append(4)\n",
    "print(lst)"
   ]
  },
  {
   "cell_type": "code",
   "execution_count": null,
   "id": "5847f58c",
   "metadata": {},
   "outputs": [],
   "source": [
    "# Topic: Algorithms\n",
    "# Bubble sort\n",
    "def bubble(arr):\n",
    " for i in range(len(arr)):\n",
    "  for j in range(0, len(arr)-i-1):\n",
    "   if arr[j]>arr[j+1]: arr[j],arr[j+1]=arr[j+1],arr[j]\n",
    "a=[5,3,8]\n",
    "bubble(a)\n",
    "print(a)"
   ]
  },
  {
   "cell_type": "code",
   "execution_count": null,
   "id": "5d94d0ba",
   "metadata": {},
   "outputs": [],
   "source": [
    "# Topic: Web Scraping\n",
    "import requests\n",
    "from bs4 import BeautifulSoup\n",
    "r = requests.get('https://example.com')\n",
    "soup = BeautifulSoup(r.text, 'html.parser')\n",
    "print(soup.title.text)"
   ]
  },
  {
   "cell_type": "code",
   "execution_count": null,
   "id": "a667ce2d",
   "metadata": {},
   "outputs": [],
   "source": [
    "# Topic: Recursion\n",
    "def fact(n): return 1 if n==0 else n*fact(n-1)\n",
    "print(fact(5))"
   ]
  },
  {
   "cell_type": "code",
   "execution_count": null,
   "id": "bd6cfd44",
   "metadata": {},
   "outputs": [],
   "source": [
    "# Topic: Algorithms\n",
    "# Bubble sort\n",
    "def bubble(arr):\n",
    " for i in range(len(arr)):\n",
    "  for j in range(0, len(arr)-i-1):\n",
    "   if arr[j]>arr[j+1]: arr[j],arr[j+1]=arr[j+1],arr[j]\n",
    "a=[5,3,8]\n",
    "bubble(a)\n",
    "print(a)"
   ]
  },
  {
   "cell_type": "code",
   "execution_count": null,
   "id": "bd2ecc28",
   "metadata": {},
   "outputs": [],
   "source": [
    "# Topic: Recursion\n",
    "def fact(n): return 1 if n==0 else n*fact(n-1)\n",
    "print(fact(5))"
   ]
  },
  {
   "cell_type": "code",
   "execution_count": null,
   "id": "0e903f00",
   "metadata": {},
   "outputs": [],
   "source": [
    "# Topic: Loops\n",
    "while True:\n",
    "    print('Break')\n",
    "    break"
   ]
  },
  {
   "cell_type": "code",
   "execution_count": null,
   "id": "02e5fdcf",
   "metadata": {},
   "outputs": [],
   "source": [
    "# Topic: OOP\n",
    "class Student:\n",
    "    def __init__(self, name): self.name = name\n",
    "s = Student('Fahd')\n",
    "print(s.name)"
   ]
  },
  {
   "cell_type": "code",
   "execution_count": null,
   "id": "3c99bd3b",
   "metadata": {},
   "outputs": [],
   "source": [
    "# Topic: Regex\n",
    "import re\n",
    "text = 'email: test@example.com'\n",
    "print(re.findall(r'\\S+@\\S+', text))"
   ]
  },
  {
   "cell_type": "code",
   "execution_count": null,
   "id": "6f87ab77",
   "metadata": {},
   "outputs": [],
   "source": [
    "# Topic: Algorithms\n",
    "# Bubble sort\n",
    "def bubble(arr):\n",
    " for i in range(len(arr)):\n",
    "  for j in range(0, len(arr)-i-1):\n",
    "   if arr[j]>arr[j+1]: arr[j],arr[j+1]=arr[j+1],arr[j]\n",
    "a=[5,3,8]\n",
    "bubble(a)\n",
    "print(a)"
   ]
  },
  {
   "cell_type": "code",
   "execution_count": null,
   "id": "1fba848e",
   "metadata": {},
   "outputs": [],
   "source": [
    "# Topic: Web Scraping\n",
    "import requests\n",
    "from bs4 import BeautifulSoup\n",
    "r = requests.get('https://example.com')\n",
    "soup = BeautifulSoup(r.text, 'html.parser')\n",
    "print(soup.title.text)"
   ]
  },
  {
   "cell_type": "code",
   "execution_count": null,
   "id": "2a854e26",
   "metadata": {},
   "outputs": [],
   "source": [
    "# Topic: Lists & Tuples\n",
    "t = (1, 2, 3)\n",
    "print(t[0])"
   ]
  },
  {
   "cell_type": "code",
   "execution_count": null,
   "id": "17f31c87",
   "metadata": {},
   "outputs": [],
   "source": [
    "# Topic: Basics\n",
    "x = 10\n",
    "y = 20\n",
    "print(x + y)"
   ]
  },
  {
   "cell_type": "code",
   "execution_count": null,
   "id": "434c98ea",
   "metadata": {},
   "outputs": [],
   "source": [
    "# Topic: Pandas\n",
    "import pandas as pd\n",
    "df = pd.DataFrame({'A':[1,2],'B':[3,4]})\n",
    "print(df)"
   ]
  },
  {
   "cell_type": "code",
   "execution_count": null,
   "id": "e0250950",
   "metadata": {},
   "outputs": [],
   "source": [
    "# Topic: JSON & CSV\n",
    "import json\n",
    "data = {'a': 1}\n",
    "print(json.dumps(data))"
   ]
  },
  {
   "cell_type": "code",
   "execution_count": null,
   "id": "057afcc9",
   "metadata": {},
   "outputs": [],
   "source": [
    "# Topic: Basic ML\n",
    "from sklearn.linear_model import LinearRegression\n",
    "model = LinearRegression()\n",
    "print(model)"
   ]
  },
  {
   "cell_type": "code",
   "execution_count": null,
   "id": "b97a46c5",
   "metadata": {},
   "outputs": [],
   "source": [
    "# Topic: File I/O\n",
    "with open('test.txt', 'r') as f:\n",
    "    print(f.read())"
   ]
  },
  {
   "cell_type": "code",
   "execution_count": null,
   "id": "ef3634ba",
   "metadata": {},
   "outputs": [],
   "source": [
    "# Topic: Basics\n",
    "x = 10\n",
    "y = 20\n",
    "print(x + y)"
   ]
  },
  {
   "cell_type": "code",
   "execution_count": null,
   "id": "a85c85e1",
   "metadata": {},
   "outputs": [],
   "source": [
    "# Topic: Algorithms\n",
    "# Bubble sort\n",
    "def bubble(arr):\n",
    " for i in range(len(arr)):\n",
    "  for j in range(0, len(arr)-i-1):\n",
    "   if arr[j]>arr[j+1]: arr[j],arr[j+1]=arr[j+1],arr[j]\n",
    "a=[5,3,8]\n",
    "bubble(a)\n",
    "print(a)"
   ]
  },
  {
   "cell_type": "code",
   "execution_count": null,
   "id": "0ea69478",
   "metadata": {},
   "outputs": [],
   "source": [
    "# Topic: CLI Tools\n",
    "import sys\n",
    "print(f'Arguments: {sys.argv}')"
   ]
  },
  {
   "cell_type": "code",
   "execution_count": null,
   "id": "3c4f6cdb",
   "metadata": {},
   "outputs": [],
   "source": [
    "# Topic: Basics\n",
    "x = 10\n",
    "y = 20\n",
    "print(x + y)"
   ]
  },
  {
   "cell_type": "code",
   "execution_count": null,
   "id": "9d2fd4ca",
   "metadata": {},
   "outputs": [],
   "source": [
    "# Topic: NumPy\n",
    "import numpy as np\n",
    "a = np.array([1, 2, 3])\n",
    "print(a + 5)"
   ]
  },
  {
   "cell_type": "code",
   "execution_count": null,
   "id": "a70ed636",
   "metadata": {},
   "outputs": [],
   "source": [
    "# Topic: Web Scraping\n",
    "import requests\n",
    "from bs4 import BeautifulSoup\n",
    "r = requests.get('https://example.com')\n",
    "soup = BeautifulSoup(r.text, 'html.parser')\n",
    "print(soup.title.text)"
   ]
  },
  {
   "cell_type": "code",
   "execution_count": null,
   "id": "46e60947",
   "metadata": {},
   "outputs": [],
   "source": [
    "# Topic: File I/O\n",
    "with open('test.txt', 'r') as f:\n",
    "    print(f.read())"
   ]
  },
  {
   "cell_type": "code",
   "execution_count": null,
   "id": "cd7cfe82",
   "metadata": {},
   "outputs": [],
   "source": [
    "# Topic: Functions\n",
    "def square(x): return x*x\n",
    "print(square(5))"
   ]
  },
  {
   "cell_type": "code",
   "execution_count": null,
   "id": "3fcbcd2c",
   "metadata": {},
   "outputs": [],
   "source": [
    "# Topic: Functions\n",
    "def square(x): return x*x\n",
    "print(square(5))"
   ]
  },
  {
   "cell_type": "code",
   "execution_count": null,
   "id": "1bdf8b48",
   "metadata": {},
   "outputs": [],
   "source": [
    "# Topic: Dictionaries & Sets\n",
    "d = {'name': 'Fahd', 'age': 20}\n",
    "print(d.get('name'))"
   ]
  },
  {
   "cell_type": "code",
   "execution_count": null,
   "id": "70294b5b",
   "metadata": {},
   "outputs": [],
   "source": [
    "# Topic: Basics\n",
    "name = 'Fahd'\n",
    "print(f'Hello, {name}')"
   ]
  },
  {
   "cell_type": "code",
   "execution_count": null,
   "id": "724b4b76",
   "metadata": {},
   "outputs": [],
   "source": [
    "# Topic: NumPy\n",
    "import numpy as np\n",
    "print(np.linspace(0, 1, 5))"
   ]
  },
  {
   "cell_type": "code",
   "execution_count": null,
   "id": "47f4fecb",
   "metadata": {},
   "outputs": [],
   "source": [
    "# Topic: JSON & CSV\n",
    "import csv\n",
    "with open('file.csv', 'w', newline='') as f:\n",
    " csv.writer(f).writerow(['a','b','c'])"
   ]
  },
  {
   "cell_type": "code",
   "execution_count": null,
   "id": "de77c23b",
   "metadata": {},
   "outputs": [],
   "source": [
    "# Topic: Basic ML\n",
    "from sklearn.linear_model import LinearRegression\n",
    "model = LinearRegression()\n",
    "print(model)"
   ]
  },
  {
   "cell_type": "code",
   "execution_count": null,
   "id": "febdff22",
   "metadata": {},
   "outputs": [],
   "source": [
    "# Topic: Algorithms\n",
    "# Bubble sort\n",
    "def bubble(arr):\n",
    " for i in range(len(arr)):\n",
    "  for j in range(0, len(arr)-i-1):\n",
    "   if arr[j]>arr[j+1]: arr[j],arr[j+1]=arr[j+1],arr[j]\n",
    "a=[5,3,8]\n",
    "bubble(a)\n",
    "print(a)"
   ]
  },
  {
   "cell_type": "code",
   "execution_count": null,
   "id": "bcdbda07",
   "metadata": {},
   "outputs": [],
   "source": [
    "# Topic: Pandas\n",
    "import pandas as pd\n",
    "df = pd.read_csv('file.csv')\n",
    "print(df.head())"
   ]
  },
  {
   "cell_type": "code",
   "execution_count": null,
   "id": "b96539b5",
   "metadata": {},
   "outputs": [],
   "source": [
    "# Topic: JSON & CSV\n",
    "import json\n",
    "data = {'a': 1}\n",
    "print(json.dumps(data))"
   ]
  },
  {
   "cell_type": "code",
   "execution_count": null,
   "id": "d5685a42",
   "metadata": {},
   "outputs": [],
   "source": [
    "# Topic: Basic ML\n",
    "from sklearn.linear_model import LinearRegression\n",
    "model = LinearRegression()\n",
    "print(model)"
   ]
  },
  {
   "cell_type": "code",
   "execution_count": null,
   "id": "3a39ecf1",
   "metadata": {},
   "outputs": [],
   "source": [
    "# Topic: Matplotlib & Seaborn\n",
    "import matplotlib.pyplot as plt\n",
    "plt.plot([1,2],[3,4])\n",
    "plt.show()"
   ]
  },
  {
   "cell_type": "code",
   "execution_count": null,
   "id": "4520089d",
   "metadata": {},
   "outputs": [],
   "source": [
    "# Topic: Decorators\n",
    "def log(func):\n",
    " def wrapper():\n",
    "  print('Call')\n",
    "  func()\n",
    " return wrapper\n",
    "@log\n",
    "def say(): print('Hi')\n",
    "say()"
   ]
  },
  {
   "cell_type": "code",
   "execution_count": null,
   "id": "e6a98e81",
   "metadata": {},
   "outputs": [],
   "source": [
    "# Topic: Loops\n",
    "for i in range(10): print(i*i)"
   ]
  },
  {
   "cell_type": "code",
   "execution_count": null,
   "id": "5c65e87a",
   "metadata": {},
   "outputs": [],
   "source": [
    "# Topic: Data Cleaning\n",
    "import pandas as pd\n",
    "df = pd.DataFrame({'A':[1,None,3]})\n",
    "df = df.fillna(0)\n",
    "print(df)"
   ]
  },
  {
   "cell_type": "code",
   "execution_count": null,
   "id": "506d4a2c",
   "metadata": {},
   "outputs": [],
   "source": [
    "# Topic: Dictionaries & Sets\n",
    "d = {'name': 'Fahd', 'age': 20}\n",
    "print(d.get('name'))"
   ]
  },
  {
   "cell_type": "code",
   "execution_count": null,
   "id": "65c41e35",
   "metadata": {},
   "outputs": [],
   "source": [
    "# Topic: Functions\n",
    "def greet(name='User'):\n",
    "    print(f'Hi, {name}')\n",
    "greet()"
   ]
  },
  {
   "cell_type": "code",
   "execution_count": null,
   "id": "5ef42b48",
   "metadata": {},
   "outputs": [],
   "source": [
    "# Topic: Recursion\n",
    "def fact(n): return 1 if n==0 else n*fact(n-1)\n",
    "print(fact(5))"
   ]
  },
  {
   "cell_type": "code",
   "execution_count": null,
   "id": "dd0c751c",
   "metadata": {},
   "outputs": [],
   "source": [
    "# Topic: Functions\n",
    "def square(x): return x*x\n",
    "print(square(5))"
   ]
  },
  {
   "cell_type": "code",
   "execution_count": null,
   "id": "c4355fcf",
   "metadata": {},
   "outputs": [],
   "source": [
    "# Topic: Web Scraping\n",
    "import requests\n",
    "from bs4 import BeautifulSoup\n",
    "r = requests.get('https://example.com')\n",
    "soup = BeautifulSoup(r.text, 'html.parser')\n",
    "print(soup.title.text)"
   ]
  },
  {
   "cell_type": "code",
   "execution_count": null,
   "id": "ce9bec99",
   "metadata": {},
   "outputs": [],
   "source": [
    "# Topic: Matplotlib & Seaborn\n",
    "import seaborn as sns\n",
    "import pandas as pd\n",
    "sns.set()\n",
    "sns.histplot(pd.Series([1,2,2,3]));"
   ]
  },
  {
   "cell_type": "code",
   "execution_count": null,
   "id": "319d9226",
   "metadata": {},
   "outputs": [],
   "source": [
    "# Topic: CLI Tools\n",
    "import sys\n",
    "print(f'Arguments: {sys.argv}')"
   ]
  },
  {
   "cell_type": "code",
   "execution_count": null,
   "id": "d28c709e",
   "metadata": {},
   "outputs": [],
   "source": [
    "# Topic: Mini Projects\n",
    "# Calculator\n",
    "def calc(a,b,op): return eval(f'{a}{op}{b}')\n",
    "print(calc(5,2,'+'))"
   ]
  },
  {
   "cell_type": "code",
   "execution_count": null,
   "id": "5beece8d",
   "metadata": {},
   "outputs": [],
   "source": [
    "# Topic: Dictionaries & Sets\n",
    "s = set([1, 2, 3, 2])\n",
    "print(s)"
   ]
  },
  {
   "cell_type": "code",
   "execution_count": null,
   "id": "d1947140",
   "metadata": {},
   "outputs": [],
   "source": [
    "# Topic: Algorithms\n",
    "# Bubble sort\n",
    "def bubble(arr):\n",
    " for i in range(len(arr)):\n",
    "  for j in range(0, len(arr)-i-1):\n",
    "   if arr[j]>arr[j+1]: arr[j],arr[j+1]=arr[j+1],arr[j]\n",
    "a=[5,3,8]\n",
    "bubble(a)\n",
    "print(a)"
   ]
  },
  {
   "cell_type": "code",
   "execution_count": null,
   "id": "c489809e",
   "metadata": {},
   "outputs": [],
   "source": [
    "# Topic: Loops\n",
    "for i in range(10): print(i*i)"
   ]
  },
  {
   "cell_type": "code",
   "execution_count": null,
   "id": "fa426365",
   "metadata": {},
   "outputs": [],
   "source": [
    "# Topic: Basic ML\n",
    "from sklearn.linear_model import LinearRegression\n",
    "model = LinearRegression()\n",
    "print(model)"
   ]
  },
  {
   "cell_type": "code",
   "execution_count": null,
   "id": "afac5de4",
   "metadata": {},
   "outputs": [],
   "source": [
    "# Topic: Mini Projects\n",
    "# Calculator\n",
    "def calc(a,b,op): return eval(f'{a}{op}{b}')\n",
    "print(calc(5,2,'+'))"
   ]
  },
  {
   "cell_type": "code",
   "execution_count": null,
   "id": "0479a498",
   "metadata": {},
   "outputs": [],
   "source": [
    "# Topic: NumPy\n",
    "import numpy as np\n",
    "print(np.linspace(0, 1, 5))"
   ]
  },
  {
   "cell_type": "code",
   "execution_count": null,
   "id": "41b0b2d8",
   "metadata": {},
   "outputs": [],
   "source": [
    "# Topic: Mini Projects\n",
    "# Calculator\n",
    "def calc(a,b,op): return eval(f'{a}{op}{b}')\n",
    "print(calc(5,2,'+'))"
   ]
  },
  {
   "cell_type": "code",
   "execution_count": null,
   "id": "e38f2f26",
   "metadata": {},
   "outputs": [],
   "source": [
    "# Topic: Loops\n",
    "for i in range(10): print(i*i)"
   ]
  },
  {
   "cell_type": "code",
   "execution_count": null,
   "id": "c04c869f",
   "metadata": {},
   "outputs": [],
   "source": [
    "# Topic: Recursion\n",
    "def fact(n): return 1 if n==0 else n*fact(n-1)\n",
    "print(fact(5))"
   ]
  },
  {
   "cell_type": "code",
   "execution_count": null,
   "id": "972ee479",
   "metadata": {},
   "outputs": [],
   "source": [
    "# Topic: Decorators\n",
    "def log(func):\n",
    " def wrapper():\n",
    "  print('Call')\n",
    "  func()\n",
    " return wrapper\n",
    "@log\n",
    "def say(): print('Hi')\n",
    "say()"
   ]
  },
  {
   "cell_type": "code",
   "execution_count": null,
   "id": "4eccff21",
   "metadata": {},
   "outputs": [],
   "source": [
    "# Topic: Dictionaries & Sets\n",
    "d = {'name': 'Fahd', 'age': 20}\n",
    "print(d.get('name'))"
   ]
  },
  {
   "cell_type": "code",
   "execution_count": null,
   "id": "4153279f",
   "metadata": {},
   "outputs": [],
   "source": [
    "# Topic: Lists & Tuples\n",
    "lst = [1, 2, 3]\n",
    "lst.append(4)\n",
    "print(lst)"
   ]
  },
  {
   "cell_type": "code",
   "execution_count": null,
   "id": "64dcaa56",
   "metadata": {},
   "outputs": [],
   "source": [
    "# Topic: CLI Tools\n",
    "import sys\n",
    "print(f'Arguments: {sys.argv}')"
   ]
  },
  {
   "cell_type": "code",
   "execution_count": null,
   "id": "1de3e8bd",
   "metadata": {},
   "outputs": [],
   "source": [
    "# Topic: Basic ML\n",
    "from sklearn.linear_model import LinearRegression\n",
    "model = LinearRegression()\n",
    "print(model)"
   ]
  },
  {
   "cell_type": "code",
   "execution_count": null,
   "id": "9ec25c39",
   "metadata": {},
   "outputs": [],
   "source": [
    "# Topic: Basic ML\n",
    "from sklearn.linear_model import LinearRegression\n",
    "model = LinearRegression()\n",
    "print(model)"
   ]
  },
  {
   "cell_type": "code",
   "execution_count": null,
   "id": "72d199a1",
   "metadata": {},
   "outputs": [],
   "source": [
    "# Topic: NumPy\n",
    "import numpy as np\n",
    "print(np.linspace(0, 1, 5))"
   ]
  },
  {
   "cell_type": "code",
   "execution_count": null,
   "id": "3cbf8866",
   "metadata": {},
   "outputs": [],
   "source": [
    "# Topic: CLI Tools\n",
    "import sys\n",
    "print(f'Arguments: {sys.argv}')"
   ]
  },
  {
   "cell_type": "code",
   "execution_count": null,
   "id": "d5f009d5",
   "metadata": {},
   "outputs": [],
   "source": [
    "# Topic: Lists & Tuples\n",
    "t = (1, 2, 3)\n",
    "print(t[0])"
   ]
  },
  {
   "cell_type": "code",
   "execution_count": null,
   "id": "3f095207",
   "metadata": {},
   "outputs": [],
   "source": [
    "# Topic: Basics\n",
    "x = 10\n",
    "y = 20\n",
    "print(x + y)"
   ]
  },
  {
   "cell_type": "code",
   "execution_count": null,
   "id": "ffab0697",
   "metadata": {},
   "outputs": [],
   "source": [
    "# Topic: NumPy\n",
    "import numpy as np\n",
    "a = np.array([1, 2, 3])\n",
    "print(a + 5)"
   ]
  },
  {
   "cell_type": "code",
   "execution_count": null,
   "id": "fec2967a",
   "metadata": {},
   "outputs": [],
   "source": [
    "# Topic: CLI Tools\n",
    "import sys\n",
    "print(f'Arguments: {sys.argv}')"
   ]
  },
  {
   "cell_type": "code",
   "execution_count": null,
   "id": "dd7f8653",
   "metadata": {},
   "outputs": [],
   "source": [
    "# Topic: Pandas\n",
    "import pandas as pd\n",
    "df = pd.DataFrame({'A':[1,2],'B':[3,4]})\n",
    "print(df)"
   ]
  },
  {
   "cell_type": "code",
   "execution_count": null,
   "id": "75d0bbf1",
   "metadata": {},
   "outputs": [],
   "source": [
    "# Topic: Regex\n",
    "import re\n",
    "text = 'email: test@example.com'\n",
    "print(re.findall(r'\\S+@\\S+', text))"
   ]
  },
  {
   "cell_type": "code",
   "execution_count": null,
   "id": "994efd92",
   "metadata": {},
   "outputs": [],
   "source": [
    "# Topic: Pandas\n",
    "import pandas as pd\n",
    "df = pd.DataFrame({'A':[1,2],'B':[3,4]})\n",
    "print(df)"
   ]
  },
  {
   "cell_type": "code",
   "execution_count": null,
   "id": "399cd65b",
   "metadata": {},
   "outputs": [],
   "source": [
    "# Topic: Pandas\n",
    "import pandas as pd\n",
    "df = pd.DataFrame({'A':[1,2],'B':[3,4]})\n",
    "print(df)"
   ]
  },
  {
   "cell_type": "code",
   "execution_count": null,
   "id": "05fcf7da",
   "metadata": {},
   "outputs": [],
   "source": [
    "# Topic: Functions\n",
    "def greet(name='User'):\n",
    "    print(f'Hi, {name}')\n",
    "greet()"
   ]
  },
  {
   "cell_type": "code",
   "execution_count": null,
   "id": "f0e4f6e3",
   "metadata": {},
   "outputs": [],
   "source": [
    "# Topic: Matplotlib & Seaborn\n",
    "import seaborn as sns\n",
    "import pandas as pd\n",
    "sns.set()\n",
    "sns.histplot(pd.Series([1,2,2,3]));"
   ]
  },
  {
   "cell_type": "code",
   "execution_count": null,
   "id": "d859560e",
   "metadata": {},
   "outputs": [],
   "source": [
    "# Topic: JSON & CSV\n",
    "import json\n",
    "data = {'a': 1}\n",
    "print(json.dumps(data))"
   ]
  },
  {
   "cell_type": "code",
   "execution_count": null,
   "id": "0cbb9d79",
   "metadata": {},
   "outputs": [],
   "source": [
    "# Topic: Lists & Tuples\n",
    "t = (1, 2, 3)\n",
    "print(t[0])"
   ]
  },
  {
   "cell_type": "code",
   "execution_count": null,
   "id": "2488a296",
   "metadata": {},
   "outputs": [],
   "source": [
    "# Topic: Decorators\n",
    "def log(func):\n",
    " def wrapper():\n",
    "  print('Call')\n",
    "  func()\n",
    " return wrapper\n",
    "@log\n",
    "def say(): print('Hi')\n",
    "say()"
   ]
  },
  {
   "cell_type": "code",
   "execution_count": null,
   "id": "9b19bea1",
   "metadata": {},
   "outputs": [],
   "source": [
    "# Topic: JSON & CSV\n",
    "import json\n",
    "data = {'a': 1}\n",
    "print(json.dumps(data))"
   ]
  },
  {
   "cell_type": "code",
   "execution_count": null,
   "id": "c4570a04",
   "metadata": {},
   "outputs": [],
   "source": [
    "# Topic: Lists & Tuples\n",
    "lst = [1, 2, 3]\n",
    "lst.append(4)\n",
    "print(lst)"
   ]
  },
  {
   "cell_type": "code",
   "execution_count": null,
   "id": "2161cf80",
   "metadata": {},
   "outputs": [],
   "source": [
    "# Topic: OOP\n",
    "class Student:\n",
    "    def __init__(self, name): self.name = name\n",
    "s = Student('Fahd')\n",
    "print(s.name)"
   ]
  },
  {
   "cell_type": "code",
   "execution_count": null,
   "id": "f10387d2",
   "metadata": {},
   "outputs": [],
   "source": [
    "# Topic: Recursion\n",
    "def fact(n): return 1 if n==0 else n*fact(n-1)\n",
    "print(fact(5))"
   ]
  },
  {
   "cell_type": "code",
   "execution_count": null,
   "id": "d5789f5a",
   "metadata": {},
   "outputs": [],
   "source": [
    "# Topic: CLI Tools\n",
    "import sys\n",
    "print(f'Arguments: {sys.argv}')"
   ]
  },
  {
   "cell_type": "code",
   "execution_count": null,
   "id": "4e3d5d53",
   "metadata": {},
   "outputs": [],
   "source": [
    "# Topic: Regex\n",
    "import re\n",
    "text = 'email: test@example.com'\n",
    "print(re.findall(r'\\S+@\\S+', text))"
   ]
  },
  {
   "cell_type": "code",
   "execution_count": null,
   "id": "bd9ac979",
   "metadata": {},
   "outputs": [],
   "source": [
    "# Topic: Mini Projects\n",
    "# Palindrome check\n",
    "def is_pal(s): return s == s[::-1]\n",
    "print(is_pal('madam'))"
   ]
  },
  {
   "cell_type": "code",
   "execution_count": null,
   "id": "b97c7bf0",
   "metadata": {},
   "outputs": [],
   "source": [
    "# Topic: NumPy\n",
    "import numpy as np\n",
    "print(np.linspace(0, 1, 5))"
   ]
  },
  {
   "cell_type": "code",
   "execution_count": null,
   "id": "38b9e7be",
   "metadata": {},
   "outputs": [],
   "source": [
    "# Topic: Pandas\n",
    "import pandas as pd\n",
    "df = pd.DataFrame({'A':[1,2],'B':[3,4]})\n",
    "print(df)"
   ]
  },
  {
   "cell_type": "code",
   "execution_count": null,
   "id": "4c368837",
   "metadata": {},
   "outputs": [],
   "source": [
    "# Topic: Regex\n",
    "import re\n",
    "text = 'email: test@example.com'\n",
    "print(re.findall(r'\\S+@\\S+', text))"
   ]
  },
  {
   "cell_type": "code",
   "execution_count": null,
   "id": "fbf3c967",
   "metadata": {},
   "outputs": [],
   "source": [
    "# Topic: Pandas\n",
    "import pandas as pd\n",
    "df = pd.DataFrame({'A':[1,2],'B':[3,4]})\n",
    "print(df)"
   ]
  },
  {
   "cell_type": "code",
   "execution_count": null,
   "id": "501792f5",
   "metadata": {},
   "outputs": [],
   "source": [
    "# Topic: Web Scraping\n",
    "import requests\n",
    "from bs4 import BeautifulSoup\n",
    "r = requests.get('https://example.com')\n",
    "soup = BeautifulSoup(r.text, 'html.parser')\n",
    "print(soup.title.text)"
   ]
  },
  {
   "cell_type": "code",
   "execution_count": null,
   "id": "c4d38c88",
   "metadata": {},
   "outputs": [],
   "source": [
    "# Topic: Decorators\n",
    "def log(func):\n",
    " def wrapper():\n",
    "  print('Call')\n",
    "  func()\n",
    " return wrapper\n",
    "@log\n",
    "def say(): print('Hi')\n",
    "say()"
   ]
  },
  {
   "cell_type": "code",
   "execution_count": null,
   "id": "4c5b01ee",
   "metadata": {},
   "outputs": [],
   "source": [
    "# Topic: Loops\n",
    "for i in range(10): print(i*i)"
   ]
  },
  {
   "cell_type": "code",
   "execution_count": null,
   "id": "88b39e30",
   "metadata": {},
   "outputs": [],
   "source": [
    "# Topic: Decorators\n",
    "def log(func):\n",
    " def wrapper():\n",
    "  print('Call')\n",
    "  func()\n",
    " return wrapper\n",
    "@log\n",
    "def say(): print('Hi')\n",
    "say()"
   ]
  },
  {
   "cell_type": "code",
   "execution_count": null,
   "id": "5ae39b82",
   "metadata": {},
   "outputs": [],
   "source": [
    "# Topic: Mini Projects\n",
    "# Calculator\n",
    "def calc(a,b,op): return eval(f'{a}{op}{b}')\n",
    "print(calc(5,2,'+'))"
   ]
  },
  {
   "cell_type": "code",
   "execution_count": null,
   "id": "caf8d563",
   "metadata": {},
   "outputs": [],
   "source": [
    "# Topic: File I/O\n",
    "with open('test.txt', 'w') as f:\n",
    "    f.write('Hello World')"
   ]
  },
  {
   "cell_type": "code",
   "execution_count": null,
   "id": "71ca5385",
   "metadata": {},
   "outputs": [],
   "source": [
    "# Topic: Functions\n",
    "def greet(name='User'):\n",
    "    print(f'Hi, {name}')\n",
    "greet()"
   ]
  },
  {
   "cell_type": "code",
   "execution_count": null,
   "id": "d4190d14",
   "metadata": {},
   "outputs": [],
   "source": [
    "# Topic: Pandas\n",
    "import pandas as pd\n",
    "df = pd.DataFrame({'A':[1,2],'B':[3,4]})\n",
    "print(df)"
   ]
  },
  {
   "cell_type": "code",
   "execution_count": null,
   "id": "dfef9298",
   "metadata": {},
   "outputs": [],
   "source": [
    "# Topic: OOP\n",
    "class Student:\n",
    "    def __init__(self, name): self.name = name\n",
    "s = Student('Fahd')\n",
    "print(s.name)"
   ]
  },
  {
   "cell_type": "code",
   "execution_count": null,
   "id": "87e9a560",
   "metadata": {},
   "outputs": [],
   "source": [
    "# Topic: Decorators\n",
    "def log(func):\n",
    " def wrapper():\n",
    "  print('Call')\n",
    "  func()\n",
    " return wrapper\n",
    "@log\n",
    "def say(): print('Hi')\n",
    "say()"
   ]
  },
  {
   "cell_type": "code",
   "execution_count": null,
   "id": "ab4edc16",
   "metadata": {},
   "outputs": [],
   "source": [
    "# Topic: Loops\n",
    "while True:\n",
    "    print('Break')\n",
    "    break"
   ]
  },
  {
   "cell_type": "code",
   "execution_count": null,
   "id": "1a9b5185",
   "metadata": {},
   "outputs": [],
   "source": [
    "# Topic: File I/O\n",
    "with open('test.txt', 'r') as f:\n",
    "    print(f.read())"
   ]
  },
  {
   "cell_type": "code",
   "execution_count": null,
   "id": "bb84a107",
   "metadata": {},
   "outputs": [],
   "source": [
    "# Topic: Mini Projects\n",
    "# Palindrome check\n",
    "def is_pal(s): return s == s[::-1]\n",
    "print(is_pal('madam'))"
   ]
  },
  {
   "cell_type": "code",
   "execution_count": null,
   "id": "73433edd",
   "metadata": {},
   "outputs": [],
   "source": [
    "# Topic: Decorators\n",
    "def log(func):\n",
    " def wrapper():\n",
    "  print('Call')\n",
    "  func()\n",
    " return wrapper\n",
    "@log\n",
    "def say(): print('Hi')\n",
    "say()"
   ]
  },
  {
   "cell_type": "code",
   "execution_count": null,
   "id": "2e76ed54",
   "metadata": {},
   "outputs": [],
   "source": [
    "# Topic: OOP\n",
    "class Student:\n",
    "    def __init__(self, name): self.name = name\n",
    "s = Student('Fahd')\n",
    "print(s.name)"
   ]
  },
  {
   "cell_type": "code",
   "execution_count": null,
   "id": "1be19b19",
   "metadata": {},
   "outputs": [],
   "source": [
    "# Topic: NumPy\n",
    "import numpy as np\n",
    "a = np.array([1, 2, 3])\n",
    "print(a + 5)"
   ]
  },
  {
   "cell_type": "code",
   "execution_count": null,
   "id": "48d8028b",
   "metadata": {},
   "outputs": [],
   "source": [
    "# Topic: Dictionaries & Sets\n",
    "s = set([1, 2, 3, 2])\n",
    "print(s)"
   ]
  },
  {
   "cell_type": "code",
   "execution_count": null,
   "id": "e60f64f0",
   "metadata": {},
   "outputs": [],
   "source": [
    "# Topic: Functions\n",
    "def greet(name='User'):\n",
    "    print(f'Hi, {name}')\n",
    "greet()"
   ]
  },
  {
   "cell_type": "code",
   "execution_count": null,
   "id": "2afe5479",
   "metadata": {},
   "outputs": [],
   "source": [
    "# Topic: Recursion\n",
    "def fact(n): return 1 if n==0 else n*fact(n-1)\n",
    "print(fact(5))"
   ]
  },
  {
   "cell_type": "code",
   "execution_count": null,
   "id": "dad54cfd",
   "metadata": {},
   "outputs": [],
   "source": [
    "# Topic: JSON & CSV\n",
    "import json\n",
    "data = {'a': 1}\n",
    "print(json.dumps(data))"
   ]
  },
  {
   "cell_type": "code",
   "execution_count": null,
   "id": "d2e3b38a",
   "metadata": {},
   "outputs": [],
   "source": [
    "# Topic: Recursion\n",
    "def fact(n): return 1 if n==0 else n*fact(n-1)\n",
    "print(fact(5))"
   ]
  },
  {
   "cell_type": "code",
   "execution_count": null,
   "id": "4d1c7767",
   "metadata": {},
   "outputs": [],
   "source": [
    "# Topic: CLI Tools\n",
    "import sys\n",
    "print(f'Arguments: {sys.argv}')"
   ]
  },
  {
   "cell_type": "code",
   "execution_count": null,
   "id": "5e07a108",
   "metadata": {},
   "outputs": [],
   "source": [
    "# Topic: Web Scraping\n",
    "import requests\n",
    "from bs4 import BeautifulSoup\n",
    "r = requests.get('https://example.com')\n",
    "soup = BeautifulSoup(r.text, 'html.parser')\n",
    "print(soup.title.text)"
   ]
  },
  {
   "cell_type": "code",
   "execution_count": null,
   "id": "c1857ba3",
   "metadata": {},
   "outputs": [],
   "source": [
    "# Topic: Data Cleaning\n",
    "import pandas as pd\n",
    "df = pd.DataFrame({'A':[1,None,3]})\n",
    "df = df.fillna(0)\n",
    "print(df)"
   ]
  },
  {
   "cell_type": "code",
   "execution_count": null,
   "id": "242c0160",
   "metadata": {},
   "outputs": [],
   "source": [
    "# Topic: NumPy\n",
    "import numpy as np\n",
    "print(np.linspace(0, 1, 5))"
   ]
  },
  {
   "cell_type": "code",
   "execution_count": null,
   "id": "b51dd2ba",
   "metadata": {},
   "outputs": [],
   "source": [
    "# Topic: Regex\n",
    "import re\n",
    "text = 'email: test@example.com'\n",
    "print(re.findall(r'\\S+@\\S+', text))"
   ]
  },
  {
   "cell_type": "code",
   "execution_count": null,
   "id": "bf117b26",
   "metadata": {},
   "outputs": [],
   "source": [
    "# Topic: Web Scraping\n",
    "import requests\n",
    "from bs4 import BeautifulSoup\n",
    "r = requests.get('https://example.com')\n",
    "soup = BeautifulSoup(r.text, 'html.parser')\n",
    "print(soup.title.text)"
   ]
  },
  {
   "cell_type": "code",
   "execution_count": null,
   "id": "de1c46fa",
   "metadata": {},
   "outputs": [],
   "source": [
    "# Topic: JSON & CSV\n",
    "import csv\n",
    "with open('file.csv', 'w', newline='') as f:\n",
    " csv.writer(f).writerow(['a','b','c'])"
   ]
  },
  {
   "cell_type": "code",
   "execution_count": null,
   "id": "6f07333f",
   "metadata": {},
   "outputs": [],
   "source": [
    "# Topic: Decorators\n",
    "def log(func):\n",
    " def wrapper():\n",
    "  print('Call')\n",
    "  func()\n",
    " return wrapper\n",
    "@log\n",
    "def say(): print('Hi')\n",
    "say()"
   ]
  },
  {
   "cell_type": "code",
   "execution_count": null,
   "id": "c27cf651",
   "metadata": {},
   "outputs": [],
   "source": [
    "# Topic: Web Scraping\n",
    "import requests\n",
    "from bs4 import BeautifulSoup\n",
    "r = requests.get('https://example.com')\n",
    "soup = BeautifulSoup(r.text, 'html.parser')\n",
    "print(soup.title.text)"
   ]
  },
  {
   "cell_type": "code",
   "execution_count": null,
   "id": "dd62f9dd",
   "metadata": {},
   "outputs": [],
   "source": [
    "# Topic: Algorithms\n",
    "# Bubble sort\n",
    "def bubble(arr):\n",
    " for i in range(len(arr)):\n",
    "  for j in range(0, len(arr)-i-1):\n",
    "   if arr[j]>arr[j+1]: arr[j],arr[j+1]=arr[j+1],arr[j]\n",
    "a=[5,3,8]\n",
    "bubble(a)\n",
    "print(a)"
   ]
  },
  {
   "cell_type": "code",
   "execution_count": null,
   "id": "520f7f4c",
   "metadata": {},
   "outputs": [],
   "source": [
    "# Topic: Basics\n",
    "name = 'Fahd'\n",
    "print(f'Hello, {name}')"
   ]
  },
  {
   "cell_type": "code",
   "execution_count": null,
   "id": "f2961b7e",
   "metadata": {},
   "outputs": [],
   "source": [
    "# Topic: CLI Tools\n",
    "import sys\n",
    "print(f'Arguments: {sys.argv}')"
   ]
  },
  {
   "cell_type": "code",
   "execution_count": null,
   "id": "0a89c3eb",
   "metadata": {},
   "outputs": [],
   "source": [
    "# Topic: NumPy\n",
    "import numpy as np\n",
    "a = np.array([1, 2, 3])\n",
    "print(a + 5)"
   ]
  },
  {
   "cell_type": "code",
   "execution_count": null,
   "id": "aa273dcf",
   "metadata": {},
   "outputs": [],
   "source": [
    "# Topic: Loops\n",
    "for i in range(10): print(i*i)"
   ]
  },
  {
   "cell_type": "code",
   "execution_count": null,
   "id": "ce5ade2a",
   "metadata": {},
   "outputs": [],
   "source": [
    "# Topic: Matplotlib & Seaborn\n",
    "import seaborn as sns\n",
    "import pandas as pd\n",
    "sns.set()\n",
    "sns.histplot(pd.Series([1,2,2,3]));"
   ]
  },
  {
   "cell_type": "code",
   "execution_count": null,
   "id": "5e007322",
   "metadata": {},
   "outputs": [],
   "source": [
    "# Topic: Regex\n",
    "import re\n",
    "text = 'email: test@example.com'\n",
    "print(re.findall(r'\\S+@\\S+', text))"
   ]
  },
  {
   "cell_type": "code",
   "execution_count": null,
   "id": "9b06d9df",
   "metadata": {},
   "outputs": [],
   "source": [
    "# Topic: CLI Tools\n",
    "import sys\n",
    "print(f'Arguments: {sys.argv}')"
   ]
  },
  {
   "cell_type": "code",
   "execution_count": null,
   "id": "cfa3913c",
   "metadata": {},
   "outputs": [],
   "source": [
    "# Topic: Basics\n",
    "name = 'Fahd'\n",
    "print(f'Hello, {name}')"
   ]
  },
  {
   "cell_type": "code",
   "execution_count": null,
   "id": "94108b42",
   "metadata": {},
   "outputs": [],
   "source": [
    "# Topic: CLI Tools\n",
    "import sys\n",
    "print(f'Arguments: {sys.argv}')"
   ]
  },
  {
   "cell_type": "code",
   "execution_count": null,
   "id": "17d4f401",
   "metadata": {},
   "outputs": [],
   "source": [
    "# Topic: NumPy\n",
    "import numpy as np\n",
    "print(np.linspace(0, 1, 5))"
   ]
  },
  {
   "cell_type": "code",
   "execution_count": null,
   "id": "c83b7ae6",
   "metadata": {},
   "outputs": [],
   "source": [
    "# Topic: Mini Projects\n",
    "# Palindrome check\n",
    "def is_pal(s): return s == s[::-1]\n",
    "print(is_pal('madam'))"
   ]
  },
  {
   "cell_type": "code",
   "execution_count": null,
   "id": "4611be6b",
   "metadata": {},
   "outputs": [],
   "source": [
    "# Topic: Functions\n",
    "def greet(name='User'):\n",
    "    print(f'Hi, {name}')\n",
    "greet()"
   ]
  },
  {
   "cell_type": "code",
   "execution_count": null,
   "id": "3e578edb",
   "metadata": {},
   "outputs": [],
   "source": [
    "# Topic: CLI Tools\n",
    "import sys\n",
    "print(f'Arguments: {sys.argv}')"
   ]
  },
  {
   "cell_type": "code",
   "execution_count": null,
   "id": "e1e5f5a6",
   "metadata": {},
   "outputs": [],
   "source": [
    "# Topic: Functions\n",
    "def square(x): return x*x\n",
    "print(square(5))"
   ]
  },
  {
   "cell_type": "code",
   "execution_count": null,
   "id": "4e9e93e3",
   "metadata": {},
   "outputs": [],
   "source": [
    "# Topic: Data Cleaning\n",
    "import pandas as pd\n",
    "df = pd.DataFrame({'A':[1,None,3]})\n",
    "df = df.fillna(0)\n",
    "print(df)"
   ]
  },
  {
   "cell_type": "code",
   "execution_count": null,
   "id": "445b9cfa",
   "metadata": {},
   "outputs": [],
   "source": [
    "# Topic: CLI Tools\n",
    "import sys\n",
    "print(f'Arguments: {sys.argv}')"
   ]
  },
  {
   "cell_type": "code",
   "execution_count": null,
   "id": "bd19b974",
   "metadata": {},
   "outputs": [],
   "source": [
    "# Topic: Basic ML\n",
    "from sklearn.linear_model import LinearRegression\n",
    "model = LinearRegression()\n",
    "print(model)"
   ]
  },
  {
   "cell_type": "code",
   "execution_count": null,
   "id": "3eeabc98",
   "metadata": {},
   "outputs": [],
   "source": [
    "# Topic: Web Scraping\n",
    "import requests\n",
    "from bs4 import BeautifulSoup\n",
    "r = requests.get('https://example.com')\n",
    "soup = BeautifulSoup(r.text, 'html.parser')\n",
    "print(soup.title.text)"
   ]
  },
  {
   "cell_type": "code",
   "execution_count": null,
   "id": "f946802c",
   "metadata": {},
   "outputs": [],
   "source": [
    "# Topic: Data Cleaning\n",
    "import pandas as pd\n",
    "df = pd.DataFrame({'A':[1,None,3]})\n",
    "df = df.fillna(0)\n",
    "print(df)"
   ]
  },
  {
   "cell_type": "code",
   "execution_count": null,
   "id": "b9a2254d",
   "metadata": {},
   "outputs": [],
   "source": [
    "# Topic: File I/O\n",
    "with open('test.txt', 'r') as f:\n",
    "    print(f.read())"
   ]
  },
  {
   "cell_type": "code",
   "execution_count": null,
   "id": "d5b273e3",
   "metadata": {},
   "outputs": [],
   "source": [
    "# Topic: Data Cleaning\n",
    "import pandas as pd\n",
    "df = pd.DataFrame({'A':[1,None,3]})\n",
    "df = df.fillna(0)\n",
    "print(df)"
   ]
  },
  {
   "cell_type": "code",
   "execution_count": null,
   "id": "d6e7290b",
   "metadata": {},
   "outputs": [],
   "source": [
    "# Topic: Dictionaries & Sets\n",
    "d = {'name': 'Fahd', 'age': 20}\n",
    "print(d.get('name'))"
   ]
  },
  {
   "cell_type": "code",
   "execution_count": null,
   "id": "0c4e2a65",
   "metadata": {},
   "outputs": [],
   "source": [
    "# Topic: Pandas\n",
    "import pandas as pd\n",
    "df = pd.read_csv('file.csv')\n",
    "print(df.head())"
   ]
  },
  {
   "cell_type": "code",
   "execution_count": null,
   "id": "11049243",
   "metadata": {},
   "outputs": [],
   "source": [
    "# Topic: Mini Projects\n",
    "# Palindrome check\n",
    "def is_pal(s): return s == s[::-1]\n",
    "print(is_pal('madam'))"
   ]
  },
  {
   "cell_type": "code",
   "execution_count": null,
   "id": "8c7d3fec",
   "metadata": {},
   "outputs": [],
   "source": [
    "# Topic: NumPy\n",
    "import numpy as np\n",
    "print(np.linspace(0, 1, 5))"
   ]
  },
  {
   "cell_type": "code",
   "execution_count": null,
   "id": "fe1101fb",
   "metadata": {},
   "outputs": [],
   "source": [
    "# Topic: Loops\n",
    "for i in range(10): print(i*i)"
   ]
  },
  {
   "cell_type": "code",
   "execution_count": null,
   "id": "e09f14bd",
   "metadata": {},
   "outputs": [],
   "source": [
    "# Topic: Matplotlib & Seaborn\n",
    "import matplotlib.pyplot as plt\n",
    "plt.plot([1,2],[3,4])\n",
    "plt.show()"
   ]
  },
  {
   "cell_type": "code",
   "execution_count": null,
   "id": "6462bd60",
   "metadata": {},
   "outputs": [],
   "source": [
    "# Topic: Data Cleaning\n",
    "import pandas as pd\n",
    "df = pd.DataFrame({'A':[1,None,3]})\n",
    "df = df.fillna(0)\n",
    "print(df)"
   ]
  },
  {
   "cell_type": "code",
   "execution_count": null,
   "id": "c155a148",
   "metadata": {},
   "outputs": [],
   "source": [
    "# Topic: Dictionaries & Sets\n",
    "s = set([1, 2, 3, 2])\n",
    "print(s)"
   ]
  },
  {
   "cell_type": "code",
   "execution_count": null,
   "id": "7c035183",
   "metadata": {},
   "outputs": [],
   "source": [
    "# Topic: Functions\n",
    "def square(x): return x*x\n",
    "print(square(5))"
   ]
  },
  {
   "cell_type": "code",
   "execution_count": null,
   "id": "b1573bed",
   "metadata": {},
   "outputs": [],
   "source": [
    "# Topic: OOP\n",
    "class Student:\n",
    "    def __init__(self, name): self.name = name\n",
    "s = Student('Fahd')\n",
    "print(s.name)"
   ]
  },
  {
   "cell_type": "code",
   "execution_count": null,
   "id": "8b90b904",
   "metadata": {},
   "outputs": [],
   "source": [
    "# Topic: Mini Projects\n",
    "# Calculator\n",
    "def calc(a,b,op): return eval(f'{a}{op}{b}')\n",
    "print(calc(5,2,'+'))"
   ]
  },
  {
   "cell_type": "code",
   "execution_count": null,
   "id": "c6517d74",
   "metadata": {},
   "outputs": [],
   "source": [
    "# Topic: Mini Projects\n",
    "# Calculator\n",
    "def calc(a,b,op): return eval(f'{a}{op}{b}')\n",
    "print(calc(5,2,'+'))"
   ]
  },
  {
   "cell_type": "code",
   "execution_count": null,
   "id": "709d695d",
   "metadata": {},
   "outputs": [],
   "source": [
    "# Topic: Functions\n",
    "def square(x): return x*x\n",
    "print(square(5))"
   ]
  },
  {
   "cell_type": "code",
   "execution_count": null,
   "id": "542f53d7",
   "metadata": {},
   "outputs": [],
   "source": [
    "# Topic: Mini Projects\n",
    "# Calculator\n",
    "def calc(a,b,op): return eval(f'{a}{op}{b}')\n",
    "print(calc(5,2,'+'))"
   ]
  },
  {
   "cell_type": "code",
   "execution_count": null,
   "id": "0d4129b5",
   "metadata": {},
   "outputs": [],
   "source": [
    "# Topic: OOP\n",
    "class Student:\n",
    "    def __init__(self, name): self.name = name\n",
    "s = Student('Fahd')\n",
    "print(s.name)"
   ]
  },
  {
   "cell_type": "code",
   "execution_count": null,
   "id": "024f2da4",
   "metadata": {},
   "outputs": [],
   "source": [
    "# Topic: File I/O\n",
    "with open('test.txt', 'r') as f:\n",
    "    print(f.read())"
   ]
  },
  {
   "cell_type": "code",
   "execution_count": null,
   "id": "77c5b0b9",
   "metadata": {},
   "outputs": [],
   "source": [
    "# Topic: Functions\n",
    "def square(x): return x*x\n",
    "print(square(5))"
   ]
  },
  {
   "cell_type": "code",
   "execution_count": null,
   "id": "2ce8dd2b",
   "metadata": {},
   "outputs": [],
   "source": [
    "# Topic: File I/O\n",
    "with open('test.txt', 'r') as f:\n",
    "    print(f.read())"
   ]
  },
  {
   "cell_type": "code",
   "execution_count": null,
   "id": "cd64d3be",
   "metadata": {},
   "outputs": [],
   "source": [
    "# Topic: Mini Projects\n",
    "# Calculator\n",
    "def calc(a,b,op): return eval(f'{a}{op}{b}')\n",
    "print(calc(5,2,'+'))"
   ]
  },
  {
   "cell_type": "code",
   "execution_count": null,
   "id": "2b37b422",
   "metadata": {},
   "outputs": [],
   "source": [
    "# Topic: File I/O\n",
    "with open('test.txt', 'w') as f:\n",
    "    f.write('Hello World')"
   ]
  },
  {
   "cell_type": "code",
   "execution_count": null,
   "id": "d0382160",
   "metadata": {},
   "outputs": [],
   "source": [
    "# Topic: Algorithms\n",
    "# Bubble sort\n",
    "def bubble(arr):\n",
    " for i in range(len(arr)):\n",
    "  for j in range(0, len(arr)-i-1):\n",
    "   if arr[j]>arr[j+1]: arr[j],arr[j+1]=arr[j+1],arr[j]\n",
    "a=[5,3,8]\n",
    "bubble(a)\n",
    "print(a)"
   ]
  },
  {
   "cell_type": "code",
   "execution_count": null,
   "id": "76dc6e25",
   "metadata": {},
   "outputs": [],
   "source": [
    "# Topic: Regex\n",
    "import re\n",
    "text = 'email: test@example.com'\n",
    "print(re.findall(r'\\S+@\\S+', text))"
   ]
  },
  {
   "cell_type": "code",
   "execution_count": null,
   "id": "861c62e9",
   "metadata": {},
   "outputs": [],
   "source": [
    "# Topic: Web Scraping\n",
    "import requests\n",
    "from bs4 import BeautifulSoup\n",
    "r = requests.get('https://example.com')\n",
    "soup = BeautifulSoup(r.text, 'html.parser')\n",
    "print(soup.title.text)"
   ]
  },
  {
   "cell_type": "code",
   "execution_count": null,
   "id": "f30165cb",
   "metadata": {},
   "outputs": [],
   "source": [
    "# Topic: Data Cleaning\n",
    "import pandas as pd\n",
    "df = pd.DataFrame({'A':[1,None,3]})\n",
    "df = df.fillna(0)\n",
    "print(df)"
   ]
  },
  {
   "cell_type": "code",
   "execution_count": null,
   "id": "a98acec6",
   "metadata": {},
   "outputs": [],
   "source": [
    "# Topic: Basics\n",
    "name = 'Fahd'\n",
    "print(f'Hello, {name}')"
   ]
  },
  {
   "cell_type": "code",
   "execution_count": null,
   "id": "aa87f7a4",
   "metadata": {},
   "outputs": [],
   "source": [
    "# Topic: Decorators\n",
    "def log(func):\n",
    " def wrapper():\n",
    "  print('Call')\n",
    "  func()\n",
    " return wrapper\n",
    "@log\n",
    "def say(): print('Hi')\n",
    "say()"
   ]
  },
  {
   "cell_type": "code",
   "execution_count": null,
   "id": "6c1d0f27",
   "metadata": {},
   "outputs": [],
   "source": [
    "# Topic: Matplotlib & Seaborn\n",
    "import matplotlib.pyplot as plt\n",
    "plt.plot([1,2],[3,4])\n",
    "plt.show()"
   ]
  },
  {
   "cell_type": "code",
   "execution_count": null,
   "id": "40a58705",
   "metadata": {},
   "outputs": [],
   "source": [
    "# Topic: Dictionaries & Sets\n",
    "s = set([1, 2, 3, 2])\n",
    "print(s)"
   ]
  },
  {
   "cell_type": "code",
   "execution_count": null,
   "id": "69ea54bc",
   "metadata": {},
   "outputs": [],
   "source": [
    "# Topic: Dictionaries & Sets\n",
    "s = set([1, 2, 3, 2])\n",
    "print(s)"
   ]
  },
  {
   "cell_type": "code",
   "execution_count": null,
   "id": "d9e4a86f",
   "metadata": {},
   "outputs": [],
   "source": [
    "# Topic: Algorithms\n",
    "# Bubble sort\n",
    "def bubble(arr):\n",
    " for i in range(len(arr)):\n",
    "  for j in range(0, len(arr)-i-1):\n",
    "   if arr[j]>arr[j+1]: arr[j],arr[j+1]=arr[j+1],arr[j]\n",
    "a=[5,3,8]\n",
    "bubble(a)\n",
    "print(a)"
   ]
  },
  {
   "cell_type": "code",
   "execution_count": null,
   "id": "4d9cf9a4",
   "metadata": {},
   "outputs": [],
   "source": [
    "# Topic: Web Scraping\n",
    "import requests\n",
    "from bs4 import BeautifulSoup\n",
    "r = requests.get('https://example.com')\n",
    "soup = BeautifulSoup(r.text, 'html.parser')\n",
    "print(soup.title.text)"
   ]
  },
  {
   "cell_type": "code",
   "execution_count": null,
   "id": "284a8158",
   "metadata": {},
   "outputs": [],
   "source": [
    "# Topic: NumPy\n",
    "import numpy as np\n",
    "print(np.linspace(0, 1, 5))"
   ]
  },
  {
   "cell_type": "code",
   "execution_count": null,
   "id": "6b65b861",
   "metadata": {},
   "outputs": [],
   "source": [
    "# Topic: Lists & Tuples\n",
    "lst = [1, 2, 3]\n",
    "lst.append(4)\n",
    "print(lst)"
   ]
  },
  {
   "cell_type": "code",
   "execution_count": null,
   "id": "2d400b5a",
   "metadata": {},
   "outputs": [],
   "source": [
    "# Topic: CLI Tools\n",
    "import sys\n",
    "print(f'Arguments: {sys.argv}')"
   ]
  },
  {
   "cell_type": "code",
   "execution_count": null,
   "id": "a1cf1f91",
   "metadata": {},
   "outputs": [],
   "source": [
    "# Topic: Dictionaries & Sets\n",
    "s = set([1, 2, 3, 2])\n",
    "print(s)"
   ]
  },
  {
   "cell_type": "code",
   "execution_count": null,
   "id": "a00279ff",
   "metadata": {},
   "outputs": [],
   "source": [
    "# Topic: Recursion\n",
    "def fact(n): return 1 if n==0 else n*fact(n-1)\n",
    "print(fact(5))"
   ]
  },
  {
   "cell_type": "code",
   "execution_count": null,
   "id": "aa54f081",
   "metadata": {},
   "outputs": [],
   "source": [
    "# Topic: Dictionaries & Sets\n",
    "d = {'name': 'Fahd', 'age': 20}\n",
    "print(d.get('name'))"
   ]
  },
  {
   "cell_type": "code",
   "execution_count": null,
   "id": "a3552bd2",
   "metadata": {},
   "outputs": [],
   "source": [
    "# Topic: Functions\n",
    "def square(x): return x*x\n",
    "print(square(5))"
   ]
  },
  {
   "cell_type": "code",
   "execution_count": null,
   "id": "d308ed6b",
   "metadata": {},
   "outputs": [],
   "source": [
    "# Topic: Regex\n",
    "import re\n",
    "text = 'email: test@example.com'\n",
    "print(re.findall(r'\\S+@\\S+', text))"
   ]
  },
  {
   "cell_type": "code",
   "execution_count": null,
   "id": "872c7166",
   "metadata": {},
   "outputs": [],
   "source": [
    "# Topic: NumPy\n",
    "import numpy as np\n",
    "a = np.array([1, 2, 3])\n",
    "print(a + 5)"
   ]
  },
  {
   "cell_type": "code",
   "execution_count": null,
   "id": "e33a9d14",
   "metadata": {},
   "outputs": [],
   "source": [
    "# Topic: Algorithms\n",
    "# Bubble sort\n",
    "def bubble(arr):\n",
    " for i in range(len(arr)):\n",
    "  for j in range(0, len(arr)-i-1):\n",
    "   if arr[j]>arr[j+1]: arr[j],arr[j+1]=arr[j+1],arr[j]\n",
    "a=[5,3,8]\n",
    "bubble(a)\n",
    "print(a)"
   ]
  },
  {
   "cell_type": "code",
   "execution_count": null,
   "id": "36e74bfd",
   "metadata": {},
   "outputs": [],
   "source": [
    "# Topic: Regex\n",
    "import re\n",
    "text = 'email: test@example.com'\n",
    "print(re.findall(r'\\S+@\\S+', text))"
   ]
  },
  {
   "cell_type": "code",
   "execution_count": null,
   "id": "b0f5eef9",
   "metadata": {},
   "outputs": [],
   "source": [
    "# Topic: Pandas\n",
    "import pandas as pd\n",
    "df = pd.read_csv('file.csv')\n",
    "print(df.head())"
   ]
  },
  {
   "cell_type": "code",
   "execution_count": null,
   "id": "b490dfbb",
   "metadata": {},
   "outputs": [],
   "source": [
    "# Topic: Loops\n",
    "while True:\n",
    "    print('Break')\n",
    "    break"
   ]
  },
  {
   "cell_type": "code",
   "execution_count": null,
   "id": "1b366db2",
   "metadata": {},
   "outputs": [],
   "source": [
    "# Topic: Web Scraping\n",
    "import requests\n",
    "from bs4 import BeautifulSoup\n",
    "r = requests.get('https://example.com')\n",
    "soup = BeautifulSoup(r.text, 'html.parser')\n",
    "print(soup.title.text)"
   ]
  },
  {
   "cell_type": "code",
   "execution_count": null,
   "id": "ae9b72b9",
   "metadata": {},
   "outputs": [],
   "source": [
    "# Topic: JSON & CSV\n",
    "import json\n",
    "data = {'a': 1}\n",
    "print(json.dumps(data))"
   ]
  },
  {
   "cell_type": "code",
   "execution_count": null,
   "id": "4127bc31",
   "metadata": {},
   "outputs": [],
   "source": [
    "# Topic: Data Cleaning\n",
    "import pandas as pd\n",
    "df = pd.DataFrame({'A':[1,None,3]})\n",
    "df = df.fillna(0)\n",
    "print(df)"
   ]
  },
  {
   "cell_type": "code",
   "execution_count": null,
   "id": "d6888bd5",
   "metadata": {},
   "outputs": [],
   "source": [
    "# Topic: NumPy\n",
    "import numpy as np\n",
    "print(np.linspace(0, 1, 5))"
   ]
  },
  {
   "cell_type": "code",
   "execution_count": null,
   "id": "7a856383",
   "metadata": {},
   "outputs": [],
   "source": [
    "# Topic: Functions\n",
    "def square(x): return x*x\n",
    "print(square(5))"
   ]
  },
  {
   "cell_type": "code",
   "execution_count": null,
   "id": "8e0e84ce",
   "metadata": {},
   "outputs": [],
   "source": [
    "# Topic: Loops\n",
    "for i in range(10): print(i*i)"
   ]
  },
  {
   "cell_type": "code",
   "execution_count": null,
   "id": "bbc03dc2",
   "metadata": {},
   "outputs": [],
   "source": [
    "# Topic: Regex\n",
    "import re\n",
    "text = 'email: test@example.com'\n",
    "print(re.findall(r'\\S+@\\S+', text))"
   ]
  },
  {
   "cell_type": "code",
   "execution_count": null,
   "id": "02e02519",
   "metadata": {},
   "outputs": [],
   "source": [
    "# Topic: NumPy\n",
    "import numpy as np\n",
    "a = np.array([1, 2, 3])\n",
    "print(a + 5)"
   ]
  },
  {
   "cell_type": "code",
   "execution_count": null,
   "id": "938f135b",
   "metadata": {},
   "outputs": [],
   "source": [
    "# Topic: Loops\n",
    "for i in range(10): print(i*i)"
   ]
  },
  {
   "cell_type": "code",
   "execution_count": null,
   "id": "b55347be",
   "metadata": {},
   "outputs": [],
   "source": [
    "# Topic: OOP\n",
    "class Student:\n",
    "    def __init__(self, name): self.name = name\n",
    "s = Student('Fahd')\n",
    "print(s.name)"
   ]
  },
  {
   "cell_type": "code",
   "execution_count": null,
   "id": "2ca50d6b",
   "metadata": {},
   "outputs": [],
   "source": [
    "# Topic: Basics\n",
    "name = 'Fahd'\n",
    "print(f'Hello, {name}')"
   ]
  },
  {
   "cell_type": "code",
   "execution_count": null,
   "id": "74fe0e1e",
   "metadata": {},
   "outputs": [],
   "source": [
    "# Topic: Data Cleaning\n",
    "import pandas as pd\n",
    "df = pd.DataFrame({'A':[1,None,3]})\n",
    "df = df.fillna(0)\n",
    "print(df)"
   ]
  },
  {
   "cell_type": "code",
   "execution_count": null,
   "id": "01368666",
   "metadata": {},
   "outputs": [],
   "source": [
    "# Topic: Web Scraping\n",
    "import requests\n",
    "from bs4 import BeautifulSoup\n",
    "r = requests.get('https://example.com')\n",
    "soup = BeautifulSoup(r.text, 'html.parser')\n",
    "print(soup.title.text)"
   ]
  },
  {
   "cell_type": "code",
   "execution_count": null,
   "id": "67e06b13",
   "metadata": {},
   "outputs": [],
   "source": [
    "# Topic: OOP\n",
    "class Student:\n",
    "    def __init__(self, name): self.name = name\n",
    "s = Student('Fahd')\n",
    "print(s.name)"
   ]
  },
  {
   "cell_type": "code",
   "execution_count": null,
   "id": "16c8fc9b",
   "metadata": {},
   "outputs": [],
   "source": [
    "# Topic: Basics\n",
    "name = 'Fahd'\n",
    "print(f'Hello, {name}')"
   ]
  },
  {
   "cell_type": "code",
   "execution_count": null,
   "id": "6b621631",
   "metadata": {},
   "outputs": [],
   "source": [
    "# Topic: Data Cleaning\n",
    "import pandas as pd\n",
    "df = pd.DataFrame({'A':[1,None,3]})\n",
    "df = df.fillna(0)\n",
    "print(df)"
   ]
  },
  {
   "cell_type": "code",
   "execution_count": null,
   "id": "6d0c3d82",
   "metadata": {},
   "outputs": [],
   "source": [
    "# Topic: Functions\n",
    "def square(x): return x*x\n",
    "print(square(5))"
   ]
  },
  {
   "cell_type": "code",
   "execution_count": null,
   "id": "9ee4693f",
   "metadata": {},
   "outputs": [],
   "source": [
    "# Topic: File I/O\n",
    "with open('test.txt', 'r') as f:\n",
    "    print(f.read())"
   ]
  },
  {
   "cell_type": "code",
   "execution_count": null,
   "id": "e8a6d7ca",
   "metadata": {},
   "outputs": [],
   "source": [
    "# Topic: Matplotlib & Seaborn\n",
    "import matplotlib.pyplot as plt\n",
    "plt.plot([1,2],[3,4])\n",
    "plt.show()"
   ]
  },
  {
   "cell_type": "code",
   "execution_count": null,
   "id": "c23ac82c",
   "metadata": {},
   "outputs": [],
   "source": [
    "# Topic: Mini Projects\n",
    "# Palindrome check\n",
    "def is_pal(s): return s == s[::-1]\n",
    "print(is_pal('madam'))"
   ]
  },
  {
   "cell_type": "code",
   "execution_count": null,
   "id": "cb8060c7",
   "metadata": {},
   "outputs": [],
   "source": [
    "# Topic: Web Scraping\n",
    "import requests\n",
    "from bs4 import BeautifulSoup\n",
    "r = requests.get('https://example.com')\n",
    "soup = BeautifulSoup(r.text, 'html.parser')\n",
    "print(soup.title.text)"
   ]
  },
  {
   "cell_type": "code",
   "execution_count": null,
   "id": "beea1ccb",
   "metadata": {},
   "outputs": [],
   "source": [
    "# Topic: Algorithms\n",
    "# Bubble sort\n",
    "def bubble(arr):\n",
    " for i in range(len(arr)):\n",
    "  for j in range(0, len(arr)-i-1):\n",
    "   if arr[j]>arr[j+1]: arr[j],arr[j+1]=arr[j+1],arr[j]\n",
    "a=[5,3,8]\n",
    "bubble(a)\n",
    "print(a)"
   ]
  },
  {
   "cell_type": "code",
   "execution_count": null,
   "id": "847c5c4f",
   "metadata": {},
   "outputs": [],
   "source": [
    "# Topic: Lists & Tuples\n",
    "lst = [1, 2, 3]\n",
    "lst.append(4)\n",
    "print(lst)"
   ]
  },
  {
   "cell_type": "code",
   "execution_count": null,
   "id": "49d483f6",
   "metadata": {},
   "outputs": [],
   "source": [
    "# Topic: Recursion\n",
    "def fact(n): return 1 if n==0 else n*fact(n-1)\n",
    "print(fact(5))"
   ]
  },
  {
   "cell_type": "code",
   "execution_count": null,
   "id": "8265f3af",
   "metadata": {},
   "outputs": [],
   "source": [
    "# Topic: Pandas\n",
    "import pandas as pd\n",
    "df = pd.read_csv('file.csv')\n",
    "print(df.head())"
   ]
  },
  {
   "cell_type": "code",
   "execution_count": null,
   "id": "566a92be",
   "metadata": {},
   "outputs": [],
   "source": [
    "# Topic: JSON & CSV\n",
    "import csv\n",
    "with open('file.csv', 'w', newline='') as f:\n",
    " csv.writer(f).writerow(['a','b','c'])"
   ]
  },
  {
   "cell_type": "code",
   "execution_count": null,
   "id": "24c4db2e",
   "metadata": {},
   "outputs": [],
   "source": [
    "# Topic: Mini Projects\n",
    "# Palindrome check\n",
    "def is_pal(s): return s == s[::-1]\n",
    "print(is_pal('madam'))"
   ]
  },
  {
   "cell_type": "code",
   "execution_count": null,
   "id": "9fdbde8f",
   "metadata": {},
   "outputs": [],
   "source": [
    "# Topic: Functions\n",
    "def greet(name='User'):\n",
    "    print(f'Hi, {name}')\n",
    "greet()"
   ]
  },
  {
   "cell_type": "code",
   "execution_count": null,
   "id": "3f87156f",
   "metadata": {},
   "outputs": [],
   "source": [
    "# Topic: Basic ML\n",
    "from sklearn.linear_model import LinearRegression\n",
    "model = LinearRegression()\n",
    "print(model)"
   ]
  },
  {
   "cell_type": "code",
   "execution_count": null,
   "id": "d5ec389f",
   "metadata": {},
   "outputs": [],
   "source": [
    "# Topic: Data Cleaning\n",
    "import pandas as pd\n",
    "df = pd.DataFrame({'A':[1,None,3]})\n",
    "df = df.fillna(0)\n",
    "print(df)"
   ]
  },
  {
   "cell_type": "code",
   "execution_count": null,
   "id": "486cbbcd",
   "metadata": {},
   "outputs": [],
   "source": [
    "# Topic: Algorithms\n",
    "# Bubble sort\n",
    "def bubble(arr):\n",
    " for i in range(len(arr)):\n",
    "  for j in range(0, len(arr)-i-1):\n",
    "   if arr[j]>arr[j+1]: arr[j],arr[j+1]=arr[j+1],arr[j]\n",
    "a=[5,3,8]\n",
    "bubble(a)\n",
    "print(a)"
   ]
  },
  {
   "cell_type": "code",
   "execution_count": null,
   "id": "c0dc7c85",
   "metadata": {},
   "outputs": [],
   "source": [
    "# Topic: Lists & Tuples\n",
    "t = (1, 2, 3)\n",
    "print(t[0])"
   ]
  },
  {
   "cell_type": "code",
   "execution_count": null,
   "id": "0b8abb3b",
   "metadata": {},
   "outputs": [],
   "source": [
    "# Topic: Algorithms\n",
    "# Bubble sort\n",
    "def bubble(arr):\n",
    " for i in range(len(arr)):\n",
    "  for j in range(0, len(arr)-i-1):\n",
    "   if arr[j]>arr[j+1]: arr[j],arr[j+1]=arr[j+1],arr[j]\n",
    "a=[5,3,8]\n",
    "bubble(a)\n",
    "print(a)"
   ]
  },
  {
   "cell_type": "code",
   "execution_count": null,
   "id": "f5682200",
   "metadata": {},
   "outputs": [],
   "source": [
    "# Topic: Dictionaries & Sets\n",
    "d = {'name': 'Fahd', 'age': 20}\n",
    "print(d.get('name'))"
   ]
  },
  {
   "cell_type": "code",
   "execution_count": null,
   "id": "bcc36ef6",
   "metadata": {},
   "outputs": [],
   "source": [
    "# Topic: OOP\n",
    "class Student:\n",
    "    def __init__(self, name): self.name = name\n",
    "s = Student('Fahd')\n",
    "print(s.name)"
   ]
  },
  {
   "cell_type": "code",
   "execution_count": null,
   "id": "b908f5e2",
   "metadata": {},
   "outputs": [],
   "source": [
    "# Topic: Recursion\n",
    "def fact(n): return 1 if n==0 else n*fact(n-1)\n",
    "print(fact(5))"
   ]
  },
  {
   "cell_type": "code",
   "execution_count": null,
   "id": "1751896f",
   "metadata": {},
   "outputs": [],
   "source": [
    "# Topic: Pandas\n",
    "import pandas as pd\n",
    "df = pd.read_csv('file.csv')\n",
    "print(df.head())"
   ]
  },
  {
   "cell_type": "code",
   "execution_count": null,
   "id": "ca7cd7ca",
   "metadata": {},
   "outputs": [],
   "source": [
    "# Topic: Regex\n",
    "import re\n",
    "text = 'email: test@example.com'\n",
    "print(re.findall(r'\\S+@\\S+', text))"
   ]
  },
  {
   "cell_type": "code",
   "execution_count": null,
   "id": "020afd67",
   "metadata": {},
   "outputs": [],
   "source": [
    "# Topic: Recursion\n",
    "def fact(n): return 1 if n==0 else n*fact(n-1)\n",
    "print(fact(5))"
   ]
  },
  {
   "cell_type": "code",
   "execution_count": null,
   "id": "2bee0d69",
   "metadata": {},
   "outputs": [],
   "source": [
    "# Topic: Web Scraping\n",
    "import requests\n",
    "from bs4 import BeautifulSoup\n",
    "r = requests.get('https://example.com')\n",
    "soup = BeautifulSoup(r.text, 'html.parser')\n",
    "print(soup.title.text)"
   ]
  },
  {
   "cell_type": "code",
   "execution_count": null,
   "id": "023e096e",
   "metadata": {},
   "outputs": [],
   "source": [
    "# Topic: Algorithms\n",
    "# Bubble sort\n",
    "def bubble(arr):\n",
    " for i in range(len(arr)):\n",
    "  for j in range(0, len(arr)-i-1):\n",
    "   if arr[j]>arr[j+1]: arr[j],arr[j+1]=arr[j+1],arr[j]\n",
    "a=[5,3,8]\n",
    "bubble(a)\n",
    "print(a)"
   ]
  },
  {
   "cell_type": "code",
   "execution_count": null,
   "id": "330f721d",
   "metadata": {},
   "outputs": [],
   "source": [
    "# Topic: Matplotlib & Seaborn\n",
    "import matplotlib.pyplot as plt\n",
    "plt.plot([1,2],[3,4])\n",
    "plt.show()"
   ]
  },
  {
   "cell_type": "code",
   "execution_count": null,
   "id": "8cd5e3fe",
   "metadata": {},
   "outputs": [],
   "source": [
    "# Topic: File I/O\n",
    "with open('test.txt', 'r') as f:\n",
    "    print(f.read())"
   ]
  },
  {
   "cell_type": "code",
   "execution_count": null,
   "id": "b9375866",
   "metadata": {},
   "outputs": [],
   "source": [
    "# Topic: Decorators\n",
    "def log(func):\n",
    " def wrapper():\n",
    "  print('Call')\n",
    "  func()\n",
    " return wrapper\n",
    "@log\n",
    "def say(): print('Hi')\n",
    "say()"
   ]
  },
  {
   "cell_type": "code",
   "execution_count": null,
   "id": "bdc6a7e6",
   "metadata": {},
   "outputs": [],
   "source": [
    "# Topic: Regex\n",
    "import re\n",
    "text = 'email: test@example.com'\n",
    "print(re.findall(r'\\S+@\\S+', text))"
   ]
  },
  {
   "cell_type": "code",
   "execution_count": null,
   "id": "a6149938",
   "metadata": {},
   "outputs": [],
   "source": [
    "# Topic: Decorators\n",
    "def log(func):\n",
    " def wrapper():\n",
    "  print('Call')\n",
    "  func()\n",
    " return wrapper\n",
    "@log\n",
    "def say(): print('Hi')\n",
    "say()"
   ]
  },
  {
   "cell_type": "code",
   "execution_count": null,
   "id": "1edf431e",
   "metadata": {},
   "outputs": [],
   "source": [
    "# Topic: Regex\n",
    "import re\n",
    "text = 'email: test@example.com'\n",
    "print(re.findall(r'\\S+@\\S+', text))"
   ]
  },
  {
   "cell_type": "code",
   "execution_count": null,
   "id": "f936909e",
   "metadata": {},
   "outputs": [],
   "source": [
    "# Topic: Recursion\n",
    "def fact(n): return 1 if n==0 else n*fact(n-1)\n",
    "print(fact(5))"
   ]
  },
  {
   "cell_type": "code",
   "execution_count": null,
   "id": "d62ce9e9",
   "metadata": {},
   "outputs": [],
   "source": [
    "# Topic: Matplotlib & Seaborn\n",
    "import seaborn as sns\n",
    "import pandas as pd\n",
    "sns.set()\n",
    "sns.histplot(pd.Series([1,2,2,3]));"
   ]
  },
  {
   "cell_type": "code",
   "execution_count": null,
   "id": "cc92f791",
   "metadata": {},
   "outputs": [],
   "source": [
    "# Topic: Algorithms\n",
    "# Bubble sort\n",
    "def bubble(arr):\n",
    " for i in range(len(arr)):\n",
    "  for j in range(0, len(arr)-i-1):\n",
    "   if arr[j]>arr[j+1]: arr[j],arr[j+1]=arr[j+1],arr[j]\n",
    "a=[5,3,8]\n",
    "bubble(a)\n",
    "print(a)"
   ]
  },
  {
   "cell_type": "code",
   "execution_count": null,
   "id": "8204fe31",
   "metadata": {},
   "outputs": [],
   "source": [
    "# Topic: Algorithms\n",
    "# Bubble sort\n",
    "def bubble(arr):\n",
    " for i in range(len(arr)):\n",
    "  for j in range(0, len(arr)-i-1):\n",
    "   if arr[j]>arr[j+1]: arr[j],arr[j+1]=arr[j+1],arr[j]\n",
    "a=[5,3,8]\n",
    "bubble(a)\n",
    "print(a)"
   ]
  },
  {
   "cell_type": "code",
   "execution_count": null,
   "id": "be0e1d69",
   "metadata": {},
   "outputs": [],
   "source": [
    "# Topic: Web Scraping\n",
    "import requests\n",
    "from bs4 import BeautifulSoup\n",
    "r = requests.get('https://example.com')\n",
    "soup = BeautifulSoup(r.text, 'html.parser')\n",
    "print(soup.title.text)"
   ]
  },
  {
   "cell_type": "code",
   "execution_count": null,
   "id": "91a9efd4",
   "metadata": {},
   "outputs": [],
   "source": [
    "# Topic: Web Scraping\n",
    "import requests\n",
    "from bs4 import BeautifulSoup\n",
    "r = requests.get('https://example.com')\n",
    "soup = BeautifulSoup(r.text, 'html.parser')\n",
    "print(soup.title.text)"
   ]
  },
  {
   "cell_type": "code",
   "execution_count": null,
   "id": "75d72d8b",
   "metadata": {},
   "outputs": [],
   "source": [
    "# Topic: Algorithms\n",
    "# Bubble sort\n",
    "def bubble(arr):\n",
    " for i in range(len(arr)):\n",
    "  for j in range(0, len(arr)-i-1):\n",
    "   if arr[j]>arr[j+1]: arr[j],arr[j+1]=arr[j+1],arr[j]\n",
    "a=[5,3,8]\n",
    "bubble(a)\n",
    "print(a)"
   ]
  },
  {
   "cell_type": "code",
   "execution_count": null,
   "id": "a48b7d93",
   "metadata": {},
   "outputs": [],
   "source": [
    "# Topic: Regex\n",
    "import re\n",
    "text = 'email: test@example.com'\n",
    "print(re.findall(r'\\S+@\\S+', text))"
   ]
  },
  {
   "cell_type": "code",
   "execution_count": null,
   "id": "203f0bd7",
   "metadata": {},
   "outputs": [],
   "source": [
    "# Topic: File I/O\n",
    "with open('test.txt', 'w') as f:\n",
    "    f.write('Hello World')"
   ]
  },
  {
   "cell_type": "code",
   "execution_count": null,
   "id": "887409f4",
   "metadata": {},
   "outputs": [],
   "source": [
    "# Topic: OOP\n",
    "class Student:\n",
    "    def __init__(self, name): self.name = name\n",
    "s = Student('Fahd')\n",
    "print(s.name)"
   ]
  },
  {
   "cell_type": "code",
   "execution_count": null,
   "id": "ba44bf0d",
   "metadata": {},
   "outputs": [],
   "source": [
    "# Topic: Loops\n",
    "for i in range(10): print(i*i)"
   ]
  },
  {
   "cell_type": "code",
   "execution_count": null,
   "id": "8f1d6957",
   "metadata": {},
   "outputs": [],
   "source": [
    "# Topic: Lists & Tuples\n",
    "lst = [1, 2, 3]\n",
    "lst.append(4)\n",
    "print(lst)"
   ]
  },
  {
   "cell_type": "code",
   "execution_count": null,
   "id": "25f2ed1a",
   "metadata": {},
   "outputs": [],
   "source": [
    "# Topic: Loops\n",
    "for i in range(10): print(i*i)"
   ]
  },
  {
   "cell_type": "code",
   "execution_count": null,
   "id": "ec53eb19",
   "metadata": {},
   "outputs": [],
   "source": [
    "# Topic: OOP\n",
    "class Student:\n",
    "    def __init__(self, name): self.name = name\n",
    "s = Student('Fahd')\n",
    "print(s.name)"
   ]
  },
  {
   "cell_type": "code",
   "execution_count": null,
   "id": "55b7b38a",
   "metadata": {},
   "outputs": [],
   "source": [
    "# Topic: Lists & Tuples\n",
    "lst = [1, 2, 3]\n",
    "lst.append(4)\n",
    "print(lst)"
   ]
  },
  {
   "cell_type": "code",
   "execution_count": null,
   "id": "c639b750",
   "metadata": {},
   "outputs": [],
   "source": [
    "# Topic: Data Cleaning\n",
    "import pandas as pd\n",
    "df = pd.DataFrame({'A':[1,None,3]})\n",
    "df = df.fillna(0)\n",
    "print(df)"
   ]
  },
  {
   "cell_type": "code",
   "execution_count": null,
   "id": "25d6be13",
   "metadata": {},
   "outputs": [],
   "source": [
    "# Topic: Lists & Tuples\n",
    "lst = [1, 2, 3]\n",
    "lst.append(4)\n",
    "print(lst)"
   ]
  },
  {
   "cell_type": "code",
   "execution_count": null,
   "id": "d2a1adab",
   "metadata": {},
   "outputs": [],
   "source": [
    "# Topic: File I/O\n",
    "with open('test.txt', 'r') as f:\n",
    "    print(f.read())"
   ]
  },
  {
   "cell_type": "code",
   "execution_count": null,
   "id": "137b5a09",
   "metadata": {},
   "outputs": [],
   "source": [
    "# Topic: Data Cleaning\n",
    "import pandas as pd\n",
    "df = pd.DataFrame({'A':[1,None,3]})\n",
    "df = df.fillna(0)\n",
    "print(df)"
   ]
  },
  {
   "cell_type": "code",
   "execution_count": null,
   "id": "b2c7c2d0",
   "metadata": {},
   "outputs": [],
   "source": [
    "# Topic: Decorators\n",
    "def log(func):\n",
    " def wrapper():\n",
    "  print('Call')\n",
    "  func()\n",
    " return wrapper\n",
    "@log\n",
    "def say(): print('Hi')\n",
    "say()"
   ]
  },
  {
   "cell_type": "code",
   "execution_count": null,
   "id": "0644bb99",
   "metadata": {},
   "outputs": [],
   "source": [
    "# Topic: Basic ML\n",
    "from sklearn.linear_model import LinearRegression\n",
    "model = LinearRegression()\n",
    "print(model)"
   ]
  },
  {
   "cell_type": "code",
   "execution_count": null,
   "id": "bea2116a",
   "metadata": {},
   "outputs": [],
   "source": [
    "# Topic: Loops\n",
    "for i in range(10): print(i*i)"
   ]
  },
  {
   "cell_type": "code",
   "execution_count": null,
   "id": "daacc052",
   "metadata": {},
   "outputs": [],
   "source": [
    "# Topic: OOP\n",
    "class Student:\n",
    "    def __init__(self, name): self.name = name\n",
    "s = Student('Fahd')\n",
    "print(s.name)"
   ]
  },
  {
   "cell_type": "code",
   "execution_count": null,
   "id": "09536a75",
   "metadata": {},
   "outputs": [],
   "source": [
    "# Topic: Basics\n",
    "x = 10\n",
    "y = 20\n",
    "print(x + y)"
   ]
  },
  {
   "cell_type": "code",
   "execution_count": null,
   "id": "2429e9fe",
   "metadata": {},
   "outputs": [],
   "source": [
    "# Topic: Decorators\n",
    "def log(func):\n",
    " def wrapper():\n",
    "  print('Call')\n",
    "  func()\n",
    " return wrapper\n",
    "@log\n",
    "def say(): print('Hi')\n",
    "say()"
   ]
  },
  {
   "cell_type": "code",
   "execution_count": null,
   "id": "76dda814",
   "metadata": {},
   "outputs": [],
   "source": [
    "# Topic: Lists & Tuples\n",
    "t = (1, 2, 3)\n",
    "print(t[0])"
   ]
  },
  {
   "cell_type": "code",
   "execution_count": null,
   "id": "78cbeb6b",
   "metadata": {},
   "outputs": [],
   "source": [
    "# Topic: Basics\n",
    "x = 10\n",
    "y = 20\n",
    "print(x + y)"
   ]
  },
  {
   "cell_type": "code",
   "execution_count": null,
   "id": "5007bf53",
   "metadata": {},
   "outputs": [],
   "source": [
    "# Topic: Data Cleaning\n",
    "import pandas as pd\n",
    "df = pd.DataFrame({'A':[1,None,3]})\n",
    "df = df.fillna(0)\n",
    "print(df)"
   ]
  },
  {
   "cell_type": "code",
   "execution_count": null,
   "id": "14d0ab8a",
   "metadata": {},
   "outputs": [],
   "source": [
    "# Topic: Lists & Tuples\n",
    "t = (1, 2, 3)\n",
    "print(t[0])"
   ]
  },
  {
   "cell_type": "code",
   "execution_count": null,
   "id": "88a87fd7",
   "metadata": {},
   "outputs": [],
   "source": [
    "# Topic: Loops\n",
    "for i in range(10): print(i*i)"
   ]
  },
  {
   "cell_type": "code",
   "execution_count": null,
   "id": "557cd348",
   "metadata": {},
   "outputs": [],
   "source": [
    "# Topic: CLI Tools\n",
    "import sys\n",
    "print(f'Arguments: {sys.argv}')"
   ]
  },
  {
   "cell_type": "code",
   "execution_count": null,
   "id": "c711879d",
   "metadata": {},
   "outputs": [],
   "source": [
    "# Topic: JSON & CSV\n",
    "import csv\n",
    "with open('file.csv', 'w', newline='') as f:\n",
    " csv.writer(f).writerow(['a','b','c'])"
   ]
  },
  {
   "cell_type": "code",
   "execution_count": null,
   "id": "2ea8301c",
   "metadata": {},
   "outputs": [],
   "source": [
    "# Topic: CLI Tools\n",
    "import sys\n",
    "print(f'Arguments: {sys.argv}')"
   ]
  },
  {
   "cell_type": "code",
   "execution_count": null,
   "id": "1d8e30f2",
   "metadata": {},
   "outputs": [],
   "source": [
    "# Topic: Web Scraping\n",
    "import requests\n",
    "from bs4 import BeautifulSoup\n",
    "r = requests.get('https://example.com')\n",
    "soup = BeautifulSoup(r.text, 'html.parser')\n",
    "print(soup.title.text)"
   ]
  },
  {
   "cell_type": "code",
   "execution_count": null,
   "id": "4f0056a9",
   "metadata": {},
   "outputs": [],
   "source": [
    "# Topic: Basics\n",
    "x = 10\n",
    "y = 20\n",
    "print(x + y)"
   ]
  },
  {
   "cell_type": "code",
   "execution_count": null,
   "id": "919711d8",
   "metadata": {},
   "outputs": [],
   "source": [
    "# Topic: Recursion\n",
    "def fact(n): return 1 if n==0 else n*fact(n-1)\n",
    "print(fact(5))"
   ]
  },
  {
   "cell_type": "code",
   "execution_count": null,
   "id": "3ec680d3",
   "metadata": {},
   "outputs": [],
   "source": [
    "# Topic: NumPy\n",
    "import numpy as np\n",
    "print(np.linspace(0, 1, 5))"
   ]
  },
  {
   "cell_type": "code",
   "execution_count": null,
   "id": "d0631d64",
   "metadata": {},
   "outputs": [],
   "source": [
    "# Topic: CLI Tools\n",
    "import sys\n",
    "print(f'Arguments: {sys.argv}')"
   ]
  },
  {
   "cell_type": "code",
   "execution_count": null,
   "id": "959b3b0d",
   "metadata": {},
   "outputs": [],
   "source": [
    "# Topic: Loops\n",
    "for i in range(10): print(i*i)"
   ]
  },
  {
   "cell_type": "code",
   "execution_count": null,
   "id": "7d6ac55d",
   "metadata": {},
   "outputs": [],
   "source": [
    "# Topic: NumPy\n",
    "import numpy as np\n",
    "a = np.array([1, 2, 3])\n",
    "print(a + 5)"
   ]
  },
  {
   "cell_type": "code",
   "execution_count": null,
   "id": "898b877d",
   "metadata": {},
   "outputs": [],
   "source": [
    "# Topic: Pandas\n",
    "import pandas as pd\n",
    "df = pd.DataFrame({'A':[1,2],'B':[3,4]})\n",
    "print(df)"
   ]
  },
  {
   "cell_type": "code",
   "execution_count": null,
   "id": "5789c7fd",
   "metadata": {},
   "outputs": [],
   "source": [
    "# Topic: Basics\n",
    "name = 'Fahd'\n",
    "print(f'Hello, {name}')"
   ]
  },
  {
   "cell_type": "code",
   "execution_count": null,
   "id": "cae82efc",
   "metadata": {},
   "outputs": [],
   "source": [
    "# Topic: Pandas\n",
    "import pandas as pd\n",
    "df = pd.read_csv('file.csv')\n",
    "print(df.head())"
   ]
  },
  {
   "cell_type": "code",
   "execution_count": null,
   "id": "612d888e",
   "metadata": {},
   "outputs": [],
   "source": [
    "# Topic: Basics\n",
    "x = 10\n",
    "y = 20\n",
    "print(x + y)"
   ]
  },
  {
   "cell_type": "code",
   "execution_count": null,
   "id": "354af1a8",
   "metadata": {},
   "outputs": [],
   "source": [
    "# Topic: NumPy\n",
    "import numpy as np\n",
    "print(np.linspace(0, 1, 5))"
   ]
  },
  {
   "cell_type": "code",
   "execution_count": null,
   "id": "47313951",
   "metadata": {},
   "outputs": [],
   "source": [
    "# Topic: Regex\n",
    "import re\n",
    "text = 'email: test@example.com'\n",
    "print(re.findall(r'\\S+@\\S+', text))"
   ]
  },
  {
   "cell_type": "code",
   "execution_count": null,
   "id": "82097a70",
   "metadata": {},
   "outputs": [],
   "source": [
    "# Topic: Regex\n",
    "import re\n",
    "text = 'email: test@example.com'\n",
    "print(re.findall(r'\\S+@\\S+', text))"
   ]
  },
  {
   "cell_type": "code",
   "execution_count": null,
   "id": "dd9f8aec",
   "metadata": {},
   "outputs": [],
   "source": [
    "# Topic: Loops\n",
    "for i in range(10): print(i*i)"
   ]
  },
  {
   "cell_type": "code",
   "execution_count": null,
   "id": "81449f4c",
   "metadata": {},
   "outputs": [],
   "source": [
    "# Topic: Decorators\n",
    "def log(func):\n",
    " def wrapper():\n",
    "  print('Call')\n",
    "  func()\n",
    " return wrapper\n",
    "@log\n",
    "def say(): print('Hi')\n",
    "say()"
   ]
  },
  {
   "cell_type": "code",
   "execution_count": null,
   "id": "9fd8e07e",
   "metadata": {},
   "outputs": [],
   "source": [
    "# Topic: Recursion\n",
    "def fact(n): return 1 if n==0 else n*fact(n-1)\n",
    "print(fact(5))"
   ]
  },
  {
   "cell_type": "code",
   "execution_count": null,
   "id": "5950b423",
   "metadata": {},
   "outputs": [],
   "source": [
    "# Topic: Recursion\n",
    "def fact(n): return 1 if n==0 else n*fact(n-1)\n",
    "print(fact(5))"
   ]
  },
  {
   "cell_type": "code",
   "execution_count": null,
   "id": "820c67b2",
   "metadata": {},
   "outputs": [],
   "source": [
    "# Topic: Basics\n",
    "name = 'Fahd'\n",
    "print(f'Hello, {name}')"
   ]
  },
  {
   "cell_type": "code",
   "execution_count": null,
   "id": "5d26e1fc",
   "metadata": {},
   "outputs": [],
   "source": [
    "# Topic: Basics\n",
    "x = 10\n",
    "y = 20\n",
    "print(x + y)"
   ]
  },
  {
   "cell_type": "code",
   "execution_count": null,
   "id": "96da30a4",
   "metadata": {},
   "outputs": [],
   "source": [
    "# Topic: Basic ML\n",
    "from sklearn.linear_model import LinearRegression\n",
    "model = LinearRegression()\n",
    "print(model)"
   ]
  },
  {
   "cell_type": "code",
   "execution_count": null,
   "id": "04fed0ac",
   "metadata": {},
   "outputs": [],
   "source": [
    "# Topic: Web Scraping\n",
    "import requests\n",
    "from bs4 import BeautifulSoup\n",
    "r = requests.get('https://example.com')\n",
    "soup = BeautifulSoup(r.text, 'html.parser')\n",
    "print(soup.title.text)"
   ]
  },
  {
   "cell_type": "code",
   "execution_count": null,
   "id": "d9002f03",
   "metadata": {},
   "outputs": [],
   "source": [
    "# Topic: Lists & Tuples\n",
    "t = (1, 2, 3)\n",
    "print(t[0])"
   ]
  },
  {
   "cell_type": "code",
   "execution_count": null,
   "id": "0f6b85b8",
   "metadata": {},
   "outputs": [],
   "source": [
    "# Topic: NumPy\n",
    "import numpy as np\n",
    "a = np.array([1, 2, 3])\n",
    "print(a + 5)"
   ]
  },
  {
   "cell_type": "code",
   "execution_count": null,
   "id": "b73d6a8a",
   "metadata": {},
   "outputs": [],
   "source": [
    "# Topic: Mini Projects\n",
    "# Palindrome check\n",
    "def is_pal(s): return s == s[::-1]\n",
    "print(is_pal('madam'))"
   ]
  },
  {
   "cell_type": "code",
   "execution_count": null,
   "id": "ad08cf9f",
   "metadata": {},
   "outputs": [],
   "source": [
    "# Topic: Basics\n",
    "x = 10\n",
    "y = 20\n",
    "print(x + y)"
   ]
  },
  {
   "cell_type": "code",
   "execution_count": null,
   "id": "03149849",
   "metadata": {},
   "outputs": [],
   "source": [
    "# Topic: Lists & Tuples\n",
    "lst = [1, 2, 3]\n",
    "lst.append(4)\n",
    "print(lst)"
   ]
  },
  {
   "cell_type": "code",
   "execution_count": null,
   "id": "76d4ed67",
   "metadata": {},
   "outputs": [],
   "source": [
    "# Topic: Matplotlib & Seaborn\n",
    "import matplotlib.pyplot as plt\n",
    "plt.plot([1,2],[3,4])\n",
    "plt.show()"
   ]
  },
  {
   "cell_type": "code",
   "execution_count": null,
   "id": "d7f2536d",
   "metadata": {},
   "outputs": [],
   "source": [
    "# Topic: Mini Projects\n",
    "# Calculator\n",
    "def calc(a,b,op): return eval(f'{a}{op}{b}')\n",
    "print(calc(5,2,'+'))"
   ]
  },
  {
   "cell_type": "code",
   "execution_count": null,
   "id": "9f324de1",
   "metadata": {},
   "outputs": [],
   "source": [
    "# Topic: OOP\n",
    "class Student:\n",
    "    def __init__(self, name): self.name = name\n",
    "s = Student('Fahd')\n",
    "print(s.name)"
   ]
  },
  {
   "cell_type": "code",
   "execution_count": null,
   "id": "a9b9c8ce",
   "metadata": {},
   "outputs": [],
   "source": [
    "# Topic: Basics\n",
    "x = 10\n",
    "y = 20\n",
    "print(x + y)"
   ]
  },
  {
   "cell_type": "code",
   "execution_count": null,
   "id": "e9399403",
   "metadata": {},
   "outputs": [],
   "source": [
    "# Topic: Recursion\n",
    "def fact(n): return 1 if n==0 else n*fact(n-1)\n",
    "print(fact(5))"
   ]
  },
  {
   "cell_type": "code",
   "execution_count": null,
   "id": "ed74d601",
   "metadata": {},
   "outputs": [],
   "source": [
    "# Topic: Algorithms\n",
    "# Bubble sort\n",
    "def bubble(arr):\n",
    " for i in range(len(arr)):\n",
    "  for j in range(0, len(arr)-i-1):\n",
    "   if arr[j]>arr[j+1]: arr[j],arr[j+1]=arr[j+1],arr[j]\n",
    "a=[5,3,8]\n",
    "bubble(a)\n",
    "print(a)"
   ]
  },
  {
   "cell_type": "code",
   "execution_count": null,
   "id": "cbd4b607",
   "metadata": {},
   "outputs": [],
   "source": [
    "# Topic: Data Cleaning\n",
    "import pandas as pd\n",
    "df = pd.DataFrame({'A':[1,None,3]})\n",
    "df = df.fillna(0)\n",
    "print(df)"
   ]
  },
  {
   "cell_type": "code",
   "execution_count": null,
   "id": "90fa4833",
   "metadata": {},
   "outputs": [],
   "source": [
    "# Topic: NumPy\n",
    "import numpy as np\n",
    "print(np.linspace(0, 1, 5))"
   ]
  },
  {
   "cell_type": "code",
   "execution_count": null,
   "id": "0125f087",
   "metadata": {},
   "outputs": [],
   "source": [
    "# Topic: Decorators\n",
    "def log(func):\n",
    " def wrapper():\n",
    "  print('Call')\n",
    "  func()\n",
    " return wrapper\n",
    "@log\n",
    "def say(): print('Hi')\n",
    "say()"
   ]
  },
  {
   "cell_type": "code",
   "execution_count": null,
   "id": "824ba876",
   "metadata": {},
   "outputs": [],
   "source": [
    "# Topic: Basic ML\n",
    "from sklearn.linear_model import LinearRegression\n",
    "model = LinearRegression()\n",
    "print(model)"
   ]
  },
  {
   "cell_type": "code",
   "execution_count": null,
   "id": "9e944ba0",
   "metadata": {},
   "outputs": [],
   "source": [
    "# Topic: Matplotlib & Seaborn\n",
    "import seaborn as sns\n",
    "import pandas as pd\n",
    "sns.set()\n",
    "sns.histplot(pd.Series([1,2,2,3]));"
   ]
  },
  {
   "cell_type": "code",
   "execution_count": null,
   "id": "ebbcf3ed",
   "metadata": {},
   "outputs": [],
   "source": [
    "# Topic: Regex\n",
    "import re\n",
    "text = 'email: test@example.com'\n",
    "print(re.findall(r'\\S+@\\S+', text))"
   ]
  },
  {
   "cell_type": "code",
   "execution_count": null,
   "id": "5b9d2503",
   "metadata": {},
   "outputs": [],
   "source": [
    "# Topic: Algorithms\n",
    "# Bubble sort\n",
    "def bubble(arr):\n",
    " for i in range(len(arr)):\n",
    "  for j in range(0, len(arr)-i-1):\n",
    "   if arr[j]>arr[j+1]: arr[j],arr[j+1]=arr[j+1],arr[j]\n",
    "a=[5,3,8]\n",
    "bubble(a)\n",
    "print(a)"
   ]
  },
  {
   "cell_type": "code",
   "execution_count": null,
   "id": "6849048c",
   "metadata": {},
   "outputs": [],
   "source": [
    "# Topic: Basic ML\n",
    "from sklearn.linear_model import LinearRegression\n",
    "model = LinearRegression()\n",
    "print(model)"
   ]
  },
  {
   "cell_type": "code",
   "execution_count": null,
   "id": "3030619e",
   "metadata": {},
   "outputs": [],
   "source": [
    "# Topic: CLI Tools\n",
    "import sys\n",
    "print(f'Arguments: {sys.argv}')"
   ]
  },
  {
   "cell_type": "code",
   "execution_count": null,
   "id": "685e7133",
   "metadata": {},
   "outputs": [],
   "source": [
    "# Topic: CLI Tools\n",
    "import sys\n",
    "print(f'Arguments: {sys.argv}')"
   ]
  },
  {
   "cell_type": "code",
   "execution_count": null,
   "id": "01775511",
   "metadata": {},
   "outputs": [],
   "source": [
    "# Topic: Basics\n",
    "name = 'Fahd'\n",
    "print(f'Hello, {name}')"
   ]
  },
  {
   "cell_type": "code",
   "execution_count": null,
   "id": "d3455c25",
   "metadata": {},
   "outputs": [],
   "source": [
    "# Topic: Data Cleaning\n",
    "import pandas as pd\n",
    "df = pd.DataFrame({'A':[1,None,3]})\n",
    "df = df.fillna(0)\n",
    "print(df)"
   ]
  },
  {
   "cell_type": "code",
   "execution_count": null,
   "id": "498152e7",
   "metadata": {},
   "outputs": [],
   "source": [
    "# Topic: File I/O\n",
    "with open('test.txt', 'w') as f:\n",
    "    f.write('Hello World')"
   ]
  },
  {
   "cell_type": "code",
   "execution_count": null,
   "id": "ea5851ce",
   "metadata": {},
   "outputs": [],
   "source": [
    "# Topic: Algorithms\n",
    "# Bubble sort\n",
    "def bubble(arr):\n",
    " for i in range(len(arr)):\n",
    "  for j in range(0, len(arr)-i-1):\n",
    "   if arr[j]>arr[j+1]: arr[j],arr[j+1]=arr[j+1],arr[j]\n",
    "a=[5,3,8]\n",
    "bubble(a)\n",
    "print(a)"
   ]
  },
  {
   "cell_type": "code",
   "execution_count": null,
   "id": "f9848540",
   "metadata": {},
   "outputs": [],
   "source": [
    "# Topic: Loops\n",
    "while True:\n",
    "    print('Break')\n",
    "    break"
   ]
  },
  {
   "cell_type": "code",
   "execution_count": null,
   "id": "b338a2fb",
   "metadata": {},
   "outputs": [],
   "source": [
    "# Topic: NumPy\n",
    "import numpy as np\n",
    "a = np.array([1, 2, 3])\n",
    "print(a + 5)"
   ]
  },
  {
   "cell_type": "code",
   "execution_count": null,
   "id": "b0ca0146",
   "metadata": {},
   "outputs": [],
   "source": [
    "# Topic: Loops\n",
    "while True:\n",
    "    print('Break')\n",
    "    break"
   ]
  },
  {
   "cell_type": "code",
   "execution_count": null,
   "id": "1cb23074",
   "metadata": {},
   "outputs": [],
   "source": [
    "# Topic: Pandas\n",
    "import pandas as pd\n",
    "df = pd.read_csv('file.csv')\n",
    "print(df.head())"
   ]
  },
  {
   "cell_type": "code",
   "execution_count": null,
   "id": "f89ef34c",
   "metadata": {},
   "outputs": [],
   "source": [
    "# Topic: Matplotlib & Seaborn\n",
    "import seaborn as sns\n",
    "import pandas as pd\n",
    "sns.set()\n",
    "sns.histplot(pd.Series([1,2,2,3]));"
   ]
  },
  {
   "cell_type": "code",
   "execution_count": null,
   "id": "f106ad05",
   "metadata": {},
   "outputs": [],
   "source": [
    "# Topic: Recursion\n",
    "def fact(n): return 1 if n==0 else n*fact(n-1)\n",
    "print(fact(5))"
   ]
  },
  {
   "cell_type": "code",
   "execution_count": null,
   "id": "d22a8324",
   "metadata": {},
   "outputs": [],
   "source": [
    "# Topic: Regex\n",
    "import re\n",
    "text = 'email: test@example.com'\n",
    "print(re.findall(r'\\S+@\\S+', text))"
   ]
  },
  {
   "cell_type": "code",
   "execution_count": null,
   "id": "92e4740b",
   "metadata": {},
   "outputs": [],
   "source": [
    "# Topic: Lists & Tuples\n",
    "lst = [1, 2, 3]\n",
    "lst.append(4)\n",
    "print(lst)"
   ]
  },
  {
   "cell_type": "code",
   "execution_count": null,
   "id": "e17af296",
   "metadata": {},
   "outputs": [],
   "source": [
    "# Topic: OOP\n",
    "class Student:\n",
    "    def __init__(self, name): self.name = name\n",
    "s = Student('Fahd')\n",
    "print(s.name)"
   ]
  },
  {
   "cell_type": "code",
   "execution_count": null,
   "id": "e4708886",
   "metadata": {},
   "outputs": [],
   "source": [
    "# Topic: Regex\n",
    "import re\n",
    "text = 'email: test@example.com'\n",
    "print(re.findall(r'\\S+@\\S+', text))"
   ]
  },
  {
   "cell_type": "code",
   "execution_count": null,
   "id": "587c75da",
   "metadata": {},
   "outputs": [],
   "source": [
    "# Topic: OOP\n",
    "class Student:\n",
    "    def __init__(self, name): self.name = name\n",
    "s = Student('Fahd')\n",
    "print(s.name)"
   ]
  },
  {
   "cell_type": "code",
   "execution_count": null,
   "id": "7bfdae67",
   "metadata": {},
   "outputs": [],
   "source": [
    "# Topic: OOP\n",
    "class Student:\n",
    "    def __init__(self, name): self.name = name\n",
    "s = Student('Fahd')\n",
    "print(s.name)"
   ]
  },
  {
   "cell_type": "code",
   "execution_count": null,
   "id": "bd40ff41",
   "metadata": {},
   "outputs": [],
   "source": [
    "# Topic: Dictionaries & Sets\n",
    "d = {'name': 'Fahd', 'age': 20}\n",
    "print(d.get('name'))"
   ]
  },
  {
   "cell_type": "code",
   "execution_count": null,
   "id": "a58a3d1b",
   "metadata": {},
   "outputs": [],
   "source": [
    "# Topic: File I/O\n",
    "with open('test.txt', 'r') as f:\n",
    "    print(f.read())"
   ]
  },
  {
   "cell_type": "code",
   "execution_count": null,
   "id": "b6a82008",
   "metadata": {},
   "outputs": [],
   "source": [
    "# Topic: Loops\n",
    "while True:\n",
    "    print('Break')\n",
    "    break"
   ]
  },
  {
   "cell_type": "code",
   "execution_count": null,
   "id": "a0d80abb",
   "metadata": {},
   "outputs": [],
   "source": [
    "# Topic: Loops\n",
    "while True:\n",
    "    print('Break')\n",
    "    break"
   ]
  },
  {
   "cell_type": "code",
   "execution_count": null,
   "id": "6f4b57b2",
   "metadata": {},
   "outputs": [],
   "source": [
    "# Topic: Decorators\n",
    "def log(func):\n",
    " def wrapper():\n",
    "  print('Call')\n",
    "  func()\n",
    " return wrapper\n",
    "@log\n",
    "def say(): print('Hi')\n",
    "say()"
   ]
  },
  {
   "cell_type": "code",
   "execution_count": null,
   "id": "c0f2faac",
   "metadata": {},
   "outputs": [],
   "source": [
    "# Topic: File I/O\n",
    "with open('test.txt', 'w') as f:\n",
    "    f.write('Hello World')"
   ]
  },
  {
   "cell_type": "code",
   "execution_count": null,
   "id": "921b7410",
   "metadata": {},
   "outputs": [],
   "source": [
    "# Topic: File I/O\n",
    "with open('test.txt', 'r') as f:\n",
    "    print(f.read())"
   ]
  },
  {
   "cell_type": "code",
   "execution_count": null,
   "id": "b8dee251",
   "metadata": {},
   "outputs": [],
   "source": [
    "# Topic: Algorithms\n",
    "# Bubble sort\n",
    "def bubble(arr):\n",
    " for i in range(len(arr)):\n",
    "  for j in range(0, len(arr)-i-1):\n",
    "   if arr[j]>arr[j+1]: arr[j],arr[j+1]=arr[j+1],arr[j]\n",
    "a=[5,3,8]\n",
    "bubble(a)\n",
    "print(a)"
   ]
  },
  {
   "cell_type": "code",
   "execution_count": null,
   "id": "cde48b78",
   "metadata": {},
   "outputs": [],
   "source": [
    "# Topic: Basic ML\n",
    "from sklearn.linear_model import LinearRegression\n",
    "model = LinearRegression()\n",
    "print(model)"
   ]
  },
  {
   "cell_type": "code",
   "execution_count": null,
   "id": "2f1dbbab",
   "metadata": {},
   "outputs": [],
   "source": [
    "# Topic: Recursion\n",
    "def fact(n): return 1 if n==0 else n*fact(n-1)\n",
    "print(fact(5))"
   ]
  },
  {
   "cell_type": "code",
   "execution_count": null,
   "id": "dd9c7604",
   "metadata": {},
   "outputs": [],
   "source": [
    "# Topic: Loops\n",
    "while True:\n",
    "    print('Break')\n",
    "    break"
   ]
  },
  {
   "cell_type": "code",
   "execution_count": null,
   "id": "75bd8ddb",
   "metadata": {},
   "outputs": [],
   "source": [
    "# Topic: CLI Tools\n",
    "import sys\n",
    "print(f'Arguments: {sys.argv}')"
   ]
  },
  {
   "cell_type": "code",
   "execution_count": null,
   "id": "3dd07f2c",
   "metadata": {},
   "outputs": [],
   "source": [
    "# Topic: NumPy\n",
    "import numpy as np\n",
    "a = np.array([1, 2, 3])\n",
    "print(a + 5)"
   ]
  },
  {
   "cell_type": "code",
   "execution_count": null,
   "id": "968f21f4",
   "metadata": {},
   "outputs": [],
   "source": [
    "# Topic: Functions\n",
    "def square(x): return x*x\n",
    "print(square(5))"
   ]
  },
  {
   "cell_type": "code",
   "execution_count": null,
   "id": "94b3cbc5",
   "metadata": {},
   "outputs": [],
   "source": [
    "# Topic: Matplotlib & Seaborn\n",
    "import seaborn as sns\n",
    "import pandas as pd\n",
    "sns.set()\n",
    "sns.histplot(pd.Series([1,2,2,3]));"
   ]
  },
  {
   "cell_type": "code",
   "execution_count": null,
   "id": "6a82be02",
   "metadata": {},
   "outputs": [],
   "source": [
    "# Topic: Algorithms\n",
    "# Bubble sort\n",
    "def bubble(arr):\n",
    " for i in range(len(arr)):\n",
    "  for j in range(0, len(arr)-i-1):\n",
    "   if arr[j]>arr[j+1]: arr[j],arr[j+1]=arr[j+1],arr[j]\n",
    "a=[5,3,8]\n",
    "bubble(a)\n",
    "print(a)"
   ]
  },
  {
   "cell_type": "code",
   "execution_count": null,
   "id": "ef60b15d",
   "metadata": {},
   "outputs": [],
   "source": [
    "# Topic: NumPy\n",
    "import numpy as np\n",
    "a = np.array([1, 2, 3])\n",
    "print(a + 5)"
   ]
  },
  {
   "cell_type": "code",
   "execution_count": null,
   "id": "4ff06e6c",
   "metadata": {},
   "outputs": [],
   "source": [
    "# Topic: Mini Projects\n",
    "# Palindrome check\n",
    "def is_pal(s): return s == s[::-1]\n",
    "print(is_pal('madam'))"
   ]
  },
  {
   "cell_type": "code",
   "execution_count": null,
   "id": "475c0fa8",
   "metadata": {},
   "outputs": [],
   "source": [
    "# Topic: Lists & Tuples\n",
    "t = (1, 2, 3)\n",
    "print(t[0])"
   ]
  },
  {
   "cell_type": "code",
   "execution_count": null,
   "id": "cd4baf4c",
   "metadata": {},
   "outputs": [],
   "source": [
    "# Topic: Regex\n",
    "import re\n",
    "text = 'email: test@example.com'\n",
    "print(re.findall(r'\\S+@\\S+', text))"
   ]
  },
  {
   "cell_type": "code",
   "execution_count": null,
   "id": "db6d00d6",
   "metadata": {},
   "outputs": [],
   "source": [
    "# Topic: Pandas\n",
    "import pandas as pd\n",
    "df = pd.DataFrame({'A':[1,2],'B':[3,4]})\n",
    "print(df)"
   ]
  },
  {
   "cell_type": "code",
   "execution_count": null,
   "id": "d7fb3304",
   "metadata": {},
   "outputs": [],
   "source": [
    "# Topic: Pandas\n",
    "import pandas as pd\n",
    "df = pd.DataFrame({'A':[1,2],'B':[3,4]})\n",
    "print(df)"
   ]
  },
  {
   "cell_type": "code",
   "execution_count": null,
   "id": "e58705d2",
   "metadata": {},
   "outputs": [],
   "source": [
    "# Topic: OOP\n",
    "class Student:\n",
    "    def __init__(self, name): self.name = name\n",
    "s = Student('Fahd')\n",
    "print(s.name)"
   ]
  },
  {
   "cell_type": "code",
   "execution_count": null,
   "id": "2553b455",
   "metadata": {},
   "outputs": [],
   "source": [
    "# Topic: OOP\n",
    "class Student:\n",
    "    def __init__(self, name): self.name = name\n",
    "s = Student('Fahd')\n",
    "print(s.name)"
   ]
  },
  {
   "cell_type": "code",
   "execution_count": null,
   "id": "1e184334",
   "metadata": {},
   "outputs": [],
   "source": [
    "# Topic: OOP\n",
    "class Student:\n",
    "    def __init__(self, name): self.name = name\n",
    "s = Student('Fahd')\n",
    "print(s.name)"
   ]
  },
  {
   "cell_type": "code",
   "execution_count": null,
   "id": "35c515f9",
   "metadata": {},
   "outputs": [],
   "source": [
    "# Topic: Recursion\n",
    "def fact(n): return 1 if n==0 else n*fact(n-1)\n",
    "print(fact(5))"
   ]
  },
  {
   "cell_type": "code",
   "execution_count": null,
   "id": "65bc87a8",
   "metadata": {},
   "outputs": [],
   "source": [
    "# Topic: Functions\n",
    "def square(x): return x*x\n",
    "print(square(5))"
   ]
  },
  {
   "cell_type": "code",
   "execution_count": null,
   "id": "c8441135",
   "metadata": {},
   "outputs": [],
   "source": [
    "# Topic: File I/O\n",
    "with open('test.txt', 'w') as f:\n",
    "    f.write('Hello World')"
   ]
  },
  {
   "cell_type": "code",
   "execution_count": null,
   "id": "741354e8",
   "metadata": {},
   "outputs": [],
   "source": [
    "# Topic: File I/O\n",
    "with open('test.txt', 'r') as f:\n",
    "    print(f.read())"
   ]
  },
  {
   "cell_type": "code",
   "execution_count": null,
   "id": "b827368f",
   "metadata": {},
   "outputs": [],
   "source": [
    "# Topic: Web Scraping\n",
    "import requests\n",
    "from bs4 import BeautifulSoup\n",
    "r = requests.get('https://example.com')\n",
    "soup = BeautifulSoup(r.text, 'html.parser')\n",
    "print(soup.title.text)"
   ]
  },
  {
   "cell_type": "code",
   "execution_count": null,
   "id": "0aba8661",
   "metadata": {},
   "outputs": [],
   "source": [
    "# Topic: Lists & Tuples\n",
    "t = (1, 2, 3)\n",
    "print(t[0])"
   ]
  },
  {
   "cell_type": "code",
   "execution_count": null,
   "id": "d541ec3e",
   "metadata": {},
   "outputs": [],
   "source": [
    "# Topic: Pandas\n",
    "import pandas as pd\n",
    "df = pd.DataFrame({'A':[1,2],'B':[3,4]})\n",
    "print(df)"
   ]
  },
  {
   "cell_type": "code",
   "execution_count": null,
   "id": "2e687a8d",
   "metadata": {},
   "outputs": [],
   "source": [
    "# Topic: NumPy\n",
    "import numpy as np\n",
    "print(np.linspace(0, 1, 5))"
   ]
  },
  {
   "cell_type": "code",
   "execution_count": null,
   "id": "8589a22a",
   "metadata": {},
   "outputs": [],
   "source": [
    "# Topic: Basics\n",
    "name = 'Fahd'\n",
    "print(f'Hello, {name}')"
   ]
  },
  {
   "cell_type": "code",
   "execution_count": null,
   "id": "beb6a479",
   "metadata": {},
   "outputs": [],
   "source": [
    "# Topic: Mini Projects\n",
    "# Calculator\n",
    "def calc(a,b,op): return eval(f'{a}{op}{b}')\n",
    "print(calc(5,2,'+'))"
   ]
  },
  {
   "cell_type": "code",
   "execution_count": null,
   "id": "a66cb2ad",
   "metadata": {},
   "outputs": [],
   "source": [
    "# Topic: JSON & CSV\n",
    "import json\n",
    "data = {'a': 1}\n",
    "print(json.dumps(data))"
   ]
  },
  {
   "cell_type": "code",
   "execution_count": null,
   "id": "5a4e8d32",
   "metadata": {},
   "outputs": [],
   "source": [
    "# Topic: JSON & CSV\n",
    "import csv\n",
    "with open('file.csv', 'w', newline='') as f:\n",
    " csv.writer(f).writerow(['a','b','c'])"
   ]
  },
  {
   "cell_type": "code",
   "execution_count": null,
   "id": "b962d11d",
   "metadata": {},
   "outputs": [],
   "source": [
    "# Topic: Regex\n",
    "import re\n",
    "text = 'email: test@example.com'\n",
    "print(re.findall(r'\\S+@\\S+', text))"
   ]
  },
  {
   "cell_type": "code",
   "execution_count": null,
   "id": "a6f9b279",
   "metadata": {},
   "outputs": [],
   "source": [
    "# Topic: Pandas\n",
    "import pandas as pd\n",
    "df = pd.read_csv('file.csv')\n",
    "print(df.head())"
   ]
  },
  {
   "cell_type": "code",
   "execution_count": null,
   "id": "6dd327f5",
   "metadata": {},
   "outputs": [],
   "source": [
    "# Topic: File I/O\n",
    "with open('test.txt', 'r') as f:\n",
    "    print(f.read())"
   ]
  },
  {
   "cell_type": "code",
   "execution_count": null,
   "id": "fc2e935b",
   "metadata": {},
   "outputs": [],
   "source": [
    "# Topic: Functions\n",
    "def square(x): return x*x\n",
    "print(square(5))"
   ]
  },
  {
   "cell_type": "code",
   "execution_count": null,
   "id": "110754b9",
   "metadata": {},
   "outputs": [],
   "source": [
    "# Topic: Lists & Tuples\n",
    "lst = [1, 2, 3]\n",
    "lst.append(4)\n",
    "print(lst)"
   ]
  },
  {
   "cell_type": "code",
   "execution_count": null,
   "id": "ed2d5392",
   "metadata": {},
   "outputs": [],
   "source": [
    "# Topic: Matplotlib & Seaborn\n",
    "import matplotlib.pyplot as plt\n",
    "plt.plot([1,2],[3,4])\n",
    "plt.show()"
   ]
  },
  {
   "cell_type": "code",
   "execution_count": null,
   "id": "20354f78",
   "metadata": {},
   "outputs": [],
   "source": [
    "# Topic: Pandas\n",
    "import pandas as pd\n",
    "df = pd.read_csv('file.csv')\n",
    "print(df.head())"
   ]
  },
  {
   "cell_type": "code",
   "execution_count": null,
   "id": "19ad6a18",
   "metadata": {},
   "outputs": [],
   "source": [
    "# Topic: NumPy\n",
    "import numpy as np\n",
    "print(np.linspace(0, 1, 5))"
   ]
  },
  {
   "cell_type": "code",
   "execution_count": null,
   "id": "09c21b31",
   "metadata": {},
   "outputs": [],
   "source": [
    "# Topic: Dictionaries & Sets\n",
    "d = {'name': 'Fahd', 'age': 20}\n",
    "print(d.get('name'))"
   ]
  },
  {
   "cell_type": "code",
   "execution_count": null,
   "id": "25018f44",
   "metadata": {},
   "outputs": [],
   "source": [
    "# Topic: Functions\n",
    "def greet(name='User'):\n",
    "    print(f'Hi, {name}')\n",
    "greet()"
   ]
  },
  {
   "cell_type": "code",
   "execution_count": null,
   "id": "8dcfe568",
   "metadata": {},
   "outputs": [],
   "source": [
    "# Topic: Basics\n",
    "name = 'Fahd'\n",
    "print(f'Hello, {name}')"
   ]
  },
  {
   "cell_type": "code",
   "execution_count": null,
   "id": "47321a27",
   "metadata": {},
   "outputs": [],
   "source": [
    "# Topic: JSON & CSV\n",
    "import json\n",
    "data = {'a': 1}\n",
    "print(json.dumps(data))"
   ]
  },
  {
   "cell_type": "code",
   "execution_count": null,
   "id": "6e04f3a1",
   "metadata": {},
   "outputs": [],
   "source": [
    "# Topic: Web Scraping\n",
    "import requests\n",
    "from bs4 import BeautifulSoup\n",
    "r = requests.get('https://example.com')\n",
    "soup = BeautifulSoup(r.text, 'html.parser')\n",
    "print(soup.title.text)"
   ]
  },
  {
   "cell_type": "code",
   "execution_count": null,
   "id": "5e3008c9",
   "metadata": {},
   "outputs": [],
   "source": [
    "# Topic: JSON & CSV\n",
    "import csv\n",
    "with open('file.csv', 'w', newline='') as f:\n",
    " csv.writer(f).writerow(['a','b','c'])"
   ]
  },
  {
   "cell_type": "code",
   "execution_count": null,
   "id": "2d46f7c8",
   "metadata": {},
   "outputs": [],
   "source": [
    "# Topic: File I/O\n",
    "with open('test.txt', 'r') as f:\n",
    "    print(f.read())"
   ]
  },
  {
   "cell_type": "code",
   "execution_count": null,
   "id": "1380cda6",
   "metadata": {},
   "outputs": [],
   "source": [
    "# Topic: Recursion\n",
    "def fact(n): return 1 if n==0 else n*fact(n-1)\n",
    "print(fact(5))"
   ]
  },
  {
   "cell_type": "code",
   "execution_count": null,
   "id": "06123427",
   "metadata": {},
   "outputs": [],
   "source": [
    "# Topic: Pandas\n",
    "import pandas as pd\n",
    "df = pd.DataFrame({'A':[1,2],'B':[3,4]})\n",
    "print(df)"
   ]
  },
  {
   "cell_type": "code",
   "execution_count": null,
   "id": "71ab7859",
   "metadata": {},
   "outputs": [],
   "source": [
    "# Topic: Lists & Tuples\n",
    "t = (1, 2, 3)\n",
    "print(t[0])"
   ]
  },
  {
   "cell_type": "code",
   "execution_count": null,
   "id": "3cd44c16",
   "metadata": {},
   "outputs": [],
   "source": [
    "# Topic: Pandas\n",
    "import pandas as pd\n",
    "df = pd.read_csv('file.csv')\n",
    "print(df.head())"
   ]
  },
  {
   "cell_type": "code",
   "execution_count": null,
   "id": "b65c983c",
   "metadata": {},
   "outputs": [],
   "source": [
    "# Topic: Loops\n",
    "while True:\n",
    "    print('Break')\n",
    "    break"
   ]
  },
  {
   "cell_type": "code",
   "execution_count": null,
   "id": "38366953",
   "metadata": {},
   "outputs": [],
   "source": [
    "# Topic: Pandas\n",
    "import pandas as pd\n",
    "df = pd.read_csv('file.csv')\n",
    "print(df.head())"
   ]
  },
  {
   "cell_type": "code",
   "execution_count": null,
   "id": "6cbc09f7",
   "metadata": {},
   "outputs": [],
   "source": [
    "# Topic: Recursion\n",
    "def fact(n): return 1 if n==0 else n*fact(n-1)\n",
    "print(fact(5))"
   ]
  },
  {
   "cell_type": "code",
   "execution_count": null,
   "id": "88edd785",
   "metadata": {},
   "outputs": [],
   "source": [
    "# Topic: Functions\n",
    "def greet(name='User'):\n",
    "    print(f'Hi, {name}')\n",
    "greet()"
   ]
  },
  {
   "cell_type": "code",
   "execution_count": null,
   "id": "7d09c45b",
   "metadata": {},
   "outputs": [],
   "source": [
    "# Topic: Basic ML\n",
    "from sklearn.linear_model import LinearRegression\n",
    "model = LinearRegression()\n",
    "print(model)"
   ]
  },
  {
   "cell_type": "code",
   "execution_count": null,
   "id": "8b3459c2",
   "metadata": {},
   "outputs": [],
   "source": [
    "# Topic: Dictionaries & Sets\n",
    "s = set([1, 2, 3, 2])\n",
    "print(s)"
   ]
  },
  {
   "cell_type": "code",
   "execution_count": null,
   "id": "11f82276",
   "metadata": {},
   "outputs": [],
   "source": [
    "# Topic: Data Cleaning\n",
    "import pandas as pd\n",
    "df = pd.DataFrame({'A':[1,None,3]})\n",
    "df = df.fillna(0)\n",
    "print(df)"
   ]
  },
  {
   "cell_type": "code",
   "execution_count": null,
   "id": "c7725d8c",
   "metadata": {},
   "outputs": [],
   "source": [
    "# Topic: Loops\n",
    "for i in range(10): print(i*i)"
   ]
  },
  {
   "cell_type": "code",
   "execution_count": null,
   "id": "4c53a4fb",
   "metadata": {},
   "outputs": [],
   "source": [
    "# Topic: Mini Projects\n",
    "# Calculator\n",
    "def calc(a,b,op): return eval(f'{a}{op}{b}')\n",
    "print(calc(5,2,'+'))"
   ]
  },
  {
   "cell_type": "code",
   "execution_count": null,
   "id": "69b7ed6e",
   "metadata": {},
   "outputs": [],
   "source": [
    "# Topic: Loops\n",
    "for i in range(10): print(i*i)"
   ]
  },
  {
   "cell_type": "code",
   "execution_count": null,
   "id": "bb2c191e",
   "metadata": {},
   "outputs": [],
   "source": [
    "# Topic: Functions\n",
    "def square(x): return x*x\n",
    "print(square(5))"
   ]
  },
  {
   "cell_type": "code",
   "execution_count": null,
   "id": "28290a1e",
   "metadata": {},
   "outputs": [],
   "source": [
    "# Topic: Algorithms\n",
    "# Bubble sort\n",
    "def bubble(arr):\n",
    " for i in range(len(arr)):\n",
    "  for j in range(0, len(arr)-i-1):\n",
    "   if arr[j]>arr[j+1]: arr[j],arr[j+1]=arr[j+1],arr[j]\n",
    "a=[5,3,8]\n",
    "bubble(a)\n",
    "print(a)"
   ]
  },
  {
   "cell_type": "code",
   "execution_count": null,
   "id": "a59de1b9",
   "metadata": {},
   "outputs": [],
   "source": [
    "# Topic: CLI Tools\n",
    "import sys\n",
    "print(f'Arguments: {sys.argv}')"
   ]
  },
  {
   "cell_type": "code",
   "execution_count": null,
   "id": "75cbcccc",
   "metadata": {},
   "outputs": [],
   "source": [
    "# Topic: Basic ML\n",
    "from sklearn.linear_model import LinearRegression\n",
    "model = LinearRegression()\n",
    "print(model)"
   ]
  },
  {
   "cell_type": "code",
   "execution_count": null,
   "id": "8b6bf37d",
   "metadata": {},
   "outputs": [],
   "source": [
    "# Topic: Matplotlib & Seaborn\n",
    "import seaborn as sns\n",
    "import pandas as pd\n",
    "sns.set()\n",
    "sns.histplot(pd.Series([1,2,2,3]));"
   ]
  },
  {
   "cell_type": "code",
   "execution_count": null,
   "id": "e8260c4d",
   "metadata": {},
   "outputs": [],
   "source": [
    "# Topic: Data Cleaning\n",
    "import pandas as pd\n",
    "df = pd.DataFrame({'A':[1,None,3]})\n",
    "df = df.fillna(0)\n",
    "print(df)"
   ]
  },
  {
   "cell_type": "code",
   "execution_count": null,
   "id": "e9f082e0",
   "metadata": {},
   "outputs": [],
   "source": [
    "# Topic: Regex\n",
    "import re\n",
    "text = 'email: test@example.com'\n",
    "print(re.findall(r'\\S+@\\S+', text))"
   ]
  },
  {
   "cell_type": "code",
   "execution_count": null,
   "id": "eb811182",
   "metadata": {},
   "outputs": [],
   "source": [
    "# Topic: Loops\n",
    "while True:\n",
    "    print('Break')\n",
    "    break"
   ]
  },
  {
   "cell_type": "code",
   "execution_count": null,
   "id": "047caa0c",
   "metadata": {},
   "outputs": [],
   "source": [
    "# Topic: Regex\n",
    "import re\n",
    "text = 'email: test@example.com'\n",
    "print(re.findall(r'\\S+@\\S+', text))"
   ]
  },
  {
   "cell_type": "code",
   "execution_count": null,
   "id": "055e253e",
   "metadata": {},
   "outputs": [],
   "source": [
    "# Topic: Mini Projects\n",
    "# Calculator\n",
    "def calc(a,b,op): return eval(f'{a}{op}{b}')\n",
    "print(calc(5,2,'+'))"
   ]
  },
  {
   "cell_type": "code",
   "execution_count": null,
   "id": "cc8afdda",
   "metadata": {},
   "outputs": [],
   "source": [
    "# Topic: Functions\n",
    "def greet(name='User'):\n",
    "    print(f'Hi, {name}')\n",
    "greet()"
   ]
  },
  {
   "cell_type": "code",
   "execution_count": null,
   "id": "2be7effa",
   "metadata": {},
   "outputs": [],
   "source": [
    "# Topic: Functions\n",
    "def greet(name='User'):\n",
    "    print(f'Hi, {name}')\n",
    "greet()"
   ]
  },
  {
   "cell_type": "code",
   "execution_count": null,
   "id": "14c49b28",
   "metadata": {},
   "outputs": [],
   "source": [
    "# Topic: Regex\n",
    "import re\n",
    "text = 'email: test@example.com'\n",
    "print(re.findall(r'\\S+@\\S+', text))"
   ]
  },
  {
   "cell_type": "code",
   "execution_count": null,
   "id": "2386dbc1",
   "metadata": {},
   "outputs": [],
   "source": [
    "# Topic: Basic ML\n",
    "from sklearn.linear_model import LinearRegression\n",
    "model = LinearRegression()\n",
    "print(model)"
   ]
  },
  {
   "cell_type": "code",
   "execution_count": null,
   "id": "271eeb8f",
   "metadata": {},
   "outputs": [],
   "source": [
    "# Topic: CLI Tools\n",
    "import sys\n",
    "print(f'Arguments: {sys.argv}')"
   ]
  },
  {
   "cell_type": "code",
   "execution_count": null,
   "id": "86455ed2",
   "metadata": {},
   "outputs": [],
   "source": [
    "# Topic: Regex\n",
    "import re\n",
    "text = 'email: test@example.com'\n",
    "print(re.findall(r'\\S+@\\S+', text))"
   ]
  },
  {
   "cell_type": "code",
   "execution_count": null,
   "id": "007cfb30",
   "metadata": {},
   "outputs": [],
   "source": [
    "# Topic: NumPy\n",
    "import numpy as np\n",
    "a = np.array([1, 2, 3])\n",
    "print(a + 5)"
   ]
  },
  {
   "cell_type": "code",
   "execution_count": null,
   "id": "11e23719",
   "metadata": {},
   "outputs": [],
   "source": [
    "# Topic: CLI Tools\n",
    "import sys\n",
    "print(f'Arguments: {sys.argv}')"
   ]
  },
  {
   "cell_type": "code",
   "execution_count": null,
   "id": "d1c2e121",
   "metadata": {},
   "outputs": [],
   "source": [
    "# Topic: Decorators\n",
    "def log(func):\n",
    " def wrapper():\n",
    "  print('Call')\n",
    "  func()\n",
    " return wrapper\n",
    "@log\n",
    "def say(): print('Hi')\n",
    "say()"
   ]
  },
  {
   "cell_type": "code",
   "execution_count": null,
   "id": "20eda718",
   "metadata": {},
   "outputs": [],
   "source": [
    "# Topic: Regex\n",
    "import re\n",
    "text = 'email: test@example.com'\n",
    "print(re.findall(r'\\S+@\\S+', text))"
   ]
  },
  {
   "cell_type": "code",
   "execution_count": null,
   "id": "e954a1be",
   "metadata": {},
   "outputs": [],
   "source": [
    "# Topic: JSON & CSV\n",
    "import json\n",
    "data = {'a': 1}\n",
    "print(json.dumps(data))"
   ]
  },
  {
   "cell_type": "code",
   "execution_count": null,
   "id": "a94a0968",
   "metadata": {},
   "outputs": [],
   "source": [
    "# Topic: File I/O\n",
    "with open('test.txt', 'r') as f:\n",
    "    print(f.read())"
   ]
  },
  {
   "cell_type": "code",
   "execution_count": null,
   "id": "ab0ea810",
   "metadata": {},
   "outputs": [],
   "source": [
    "# Topic: File I/O\n",
    "with open('test.txt', 'r') as f:\n",
    "    print(f.read())"
   ]
  },
  {
   "cell_type": "code",
   "execution_count": null,
   "id": "5f8cc210",
   "metadata": {},
   "outputs": [],
   "source": [
    "# Topic: CLI Tools\n",
    "import sys\n",
    "print(f'Arguments: {sys.argv}')"
   ]
  },
  {
   "cell_type": "code",
   "execution_count": null,
   "id": "367bda1d",
   "metadata": {},
   "outputs": [],
   "source": [
    "# Topic: Dictionaries & Sets\n",
    "s = set([1, 2, 3, 2])\n",
    "print(s)"
   ]
  },
  {
   "cell_type": "code",
   "execution_count": null,
   "id": "f3a6db3b",
   "metadata": {},
   "outputs": [],
   "source": [
    "# Topic: Pandas\n",
    "import pandas as pd\n",
    "df = pd.read_csv('file.csv')\n",
    "print(df.head())"
   ]
  },
  {
   "cell_type": "code",
   "execution_count": null,
   "id": "0466048e",
   "metadata": {},
   "outputs": [],
   "source": [
    "# Topic: Recursion\n",
    "def fact(n): return 1 if n==0 else n*fact(n-1)\n",
    "print(fact(5))"
   ]
  },
  {
   "cell_type": "code",
   "execution_count": null,
   "id": "51653fd2",
   "metadata": {},
   "outputs": [],
   "source": [
    "# Topic: Dictionaries & Sets\n",
    "d = {'name': 'Fahd', 'age': 20}\n",
    "print(d.get('name'))"
   ]
  },
  {
   "cell_type": "code",
   "execution_count": null,
   "id": "308346a4",
   "metadata": {},
   "outputs": [],
   "source": [
    "# Topic: OOP\n",
    "class Student:\n",
    "    def __init__(self, name): self.name = name\n",
    "s = Student('Fahd')\n",
    "print(s.name)"
   ]
  },
  {
   "cell_type": "code",
   "execution_count": null,
   "id": "d6763c29",
   "metadata": {},
   "outputs": [],
   "source": [
    "# Topic: JSON & CSV\n",
    "import csv\n",
    "with open('file.csv', 'w', newline='') as f:\n",
    " csv.writer(f).writerow(['a','b','c'])"
   ]
  },
  {
   "cell_type": "code",
   "execution_count": null,
   "id": "35acd11a",
   "metadata": {},
   "outputs": [],
   "source": [
    "# Topic: Lists & Tuples\n",
    "t = (1, 2, 3)\n",
    "print(t[0])"
   ]
  },
  {
   "cell_type": "code",
   "execution_count": null,
   "id": "b67be0fa",
   "metadata": {},
   "outputs": [],
   "source": [
    "# Topic: Functions\n",
    "def greet(name='User'):\n",
    "    print(f'Hi, {name}')\n",
    "greet()"
   ]
  },
  {
   "cell_type": "code",
   "execution_count": null,
   "id": "81b7b924",
   "metadata": {},
   "outputs": [],
   "source": [
    "# Topic: Web Scraping\n",
    "import requests\n",
    "from bs4 import BeautifulSoup\n",
    "r = requests.get('https://example.com')\n",
    "soup = BeautifulSoup(r.text, 'html.parser')\n",
    "print(soup.title.text)"
   ]
  },
  {
   "cell_type": "code",
   "execution_count": null,
   "id": "54d3248c",
   "metadata": {},
   "outputs": [],
   "source": [
    "# Topic: Basics\n",
    "name = 'Fahd'\n",
    "print(f'Hello, {name}')"
   ]
  },
  {
   "cell_type": "code",
   "execution_count": null,
   "id": "54f9c791",
   "metadata": {},
   "outputs": [],
   "source": [
    "# Topic: JSON & CSV\n",
    "import csv\n",
    "with open('file.csv', 'w', newline='') as f:\n",
    " csv.writer(f).writerow(['a','b','c'])"
   ]
  },
  {
   "cell_type": "code",
   "execution_count": null,
   "id": "df564929",
   "metadata": {},
   "outputs": [],
   "source": [
    "# Topic: Regex\n",
    "import re\n",
    "text = 'email: test@example.com'\n",
    "print(re.findall(r'\\S+@\\S+', text))"
   ]
  },
  {
   "cell_type": "code",
   "execution_count": null,
   "id": "04b58800",
   "metadata": {},
   "outputs": [],
   "source": [
    "# Topic: Pandas\n",
    "import pandas as pd\n",
    "df = pd.read_csv('file.csv')\n",
    "print(df.head())"
   ]
  },
  {
   "cell_type": "code",
   "execution_count": null,
   "id": "e2b30251",
   "metadata": {},
   "outputs": [],
   "source": [
    "# Topic: OOP\n",
    "class Student:\n",
    "    def __init__(self, name): self.name = name\n",
    "s = Student('Fahd')\n",
    "print(s.name)"
   ]
  },
  {
   "cell_type": "code",
   "execution_count": null,
   "id": "981bc589",
   "metadata": {},
   "outputs": [],
   "source": [
    "# Topic: CLI Tools\n",
    "import sys\n",
    "print(f'Arguments: {sys.argv}')"
   ]
  },
  {
   "cell_type": "code",
   "execution_count": null,
   "id": "2cc80fe1",
   "metadata": {},
   "outputs": [],
   "source": [
    "# Topic: Loops\n",
    "for i in range(10): print(i*i)"
   ]
  },
  {
   "cell_type": "code",
   "execution_count": null,
   "id": "2a7e37b2",
   "metadata": {},
   "outputs": [],
   "source": [
    "# Topic: Lists & Tuples\n",
    "lst = [1, 2, 3]\n",
    "lst.append(4)\n",
    "print(lst)"
   ]
  },
  {
   "cell_type": "code",
   "execution_count": null,
   "id": "726ea7ac",
   "metadata": {},
   "outputs": [],
   "source": [
    "# Topic: Algorithms\n",
    "# Bubble sort\n",
    "def bubble(arr):\n",
    " for i in range(len(arr)):\n",
    "  for j in range(0, len(arr)-i-1):\n",
    "   if arr[j]>arr[j+1]: arr[j],arr[j+1]=arr[j+1],arr[j]\n",
    "a=[5,3,8]\n",
    "bubble(a)\n",
    "print(a)"
   ]
  },
  {
   "cell_type": "code",
   "execution_count": null,
   "id": "c5fa9420",
   "metadata": {},
   "outputs": [],
   "source": [
    "# Topic: Pandas\n",
    "import pandas as pd\n",
    "df = pd.read_csv('file.csv')\n",
    "print(df.head())"
   ]
  },
  {
   "cell_type": "code",
   "execution_count": null,
   "id": "341ea875",
   "metadata": {},
   "outputs": [],
   "source": [
    "# Topic: Decorators\n",
    "def log(func):\n",
    " def wrapper():\n",
    "  print('Call')\n",
    "  func()\n",
    " return wrapper\n",
    "@log\n",
    "def say(): print('Hi')\n",
    "say()"
   ]
  },
  {
   "cell_type": "code",
   "execution_count": null,
   "id": "7d92826d",
   "metadata": {},
   "outputs": [],
   "source": [
    "# Topic: Algorithms\n",
    "# Bubble sort\n",
    "def bubble(arr):\n",
    " for i in range(len(arr)):\n",
    "  for j in range(0, len(arr)-i-1):\n",
    "   if arr[j]>arr[j+1]: arr[j],arr[j+1]=arr[j+1],arr[j]\n",
    "a=[5,3,8]\n",
    "bubble(a)\n",
    "print(a)"
   ]
  },
  {
   "cell_type": "code",
   "execution_count": null,
   "id": "f40b4f0d",
   "metadata": {},
   "outputs": [],
   "source": [
    "# Topic: CLI Tools\n",
    "import sys\n",
    "print(f'Arguments: {sys.argv}')"
   ]
  },
  {
   "cell_type": "code",
   "execution_count": null,
   "id": "8be0456c",
   "metadata": {},
   "outputs": [],
   "source": [
    "# Topic: Web Scraping\n",
    "import requests\n",
    "from bs4 import BeautifulSoup\n",
    "r = requests.get('https://example.com')\n",
    "soup = BeautifulSoup(r.text, 'html.parser')\n",
    "print(soup.title.text)"
   ]
  },
  {
   "cell_type": "code",
   "execution_count": null,
   "id": "07603c83",
   "metadata": {},
   "outputs": [],
   "source": [
    "# Topic: Pandas\n",
    "import pandas as pd\n",
    "df = pd.DataFrame({'A':[1,2],'B':[3,4]})\n",
    "print(df)"
   ]
  },
  {
   "cell_type": "code",
   "execution_count": null,
   "id": "7c4c40f2",
   "metadata": {},
   "outputs": [],
   "source": [
    "# Topic: Pandas\n",
    "import pandas as pd\n",
    "df = pd.DataFrame({'A':[1,2],'B':[3,4]})\n",
    "print(df)"
   ]
  },
  {
   "cell_type": "code",
   "execution_count": null,
   "id": "e9eccc51",
   "metadata": {},
   "outputs": [],
   "source": [
    "# Topic: Data Cleaning\n",
    "import pandas as pd\n",
    "df = pd.DataFrame({'A':[1,None,3]})\n",
    "df = df.fillna(0)\n",
    "print(df)"
   ]
  },
  {
   "cell_type": "code",
   "execution_count": null,
   "id": "b17cf95e",
   "metadata": {},
   "outputs": [],
   "source": [
    "# Topic: Lists & Tuples\n",
    "t = (1, 2, 3)\n",
    "print(t[0])"
   ]
  },
  {
   "cell_type": "code",
   "execution_count": null,
   "id": "14493032",
   "metadata": {},
   "outputs": [],
   "source": [
    "# Topic: Recursion\n",
    "def fact(n): return 1 if n==0 else n*fact(n-1)\n",
    "print(fact(5))"
   ]
  },
  {
   "cell_type": "code",
   "execution_count": null,
   "id": "56abcaec",
   "metadata": {},
   "outputs": [],
   "source": [
    "# Topic: Recursion\n",
    "def fact(n): return 1 if n==0 else n*fact(n-1)\n",
    "print(fact(5))"
   ]
  },
  {
   "cell_type": "code",
   "execution_count": null,
   "id": "fd80058c",
   "metadata": {},
   "outputs": [],
   "source": [
    "# Topic: Recursion\n",
    "def fact(n): return 1 if n==0 else n*fact(n-1)\n",
    "print(fact(5))"
   ]
  },
  {
   "cell_type": "code",
   "execution_count": null,
   "id": "bf2385cc",
   "metadata": {},
   "outputs": [],
   "source": [
    "# Topic: NumPy\n",
    "import numpy as np\n",
    "print(np.linspace(0, 1, 5))"
   ]
  },
  {
   "cell_type": "code",
   "execution_count": null,
   "id": "ea7c5382",
   "metadata": {},
   "outputs": [],
   "source": [
    "# Topic: Regex\n",
    "import re\n",
    "text = 'email: test@example.com'\n",
    "print(re.findall(r'\\S+@\\S+', text))"
   ]
  },
  {
   "cell_type": "code",
   "execution_count": null,
   "id": "ccf71b38",
   "metadata": {},
   "outputs": [],
   "source": [
    "# Topic: Functions\n",
    "def greet(name='User'):\n",
    "    print(f'Hi, {name}')\n",
    "greet()"
   ]
  },
  {
   "cell_type": "code",
   "execution_count": null,
   "id": "9e2b8162",
   "metadata": {},
   "outputs": [],
   "source": [
    "# Topic: File I/O\n",
    "with open('test.txt', 'r') as f:\n",
    "    print(f.read())"
   ]
  },
  {
   "cell_type": "code",
   "execution_count": null,
   "id": "995343f0",
   "metadata": {},
   "outputs": [],
   "source": [
    "# Topic: Recursion\n",
    "def fact(n): return 1 if n==0 else n*fact(n-1)\n",
    "print(fact(5))"
   ]
  },
  {
   "cell_type": "code",
   "execution_count": null,
   "id": "1572aab4",
   "metadata": {},
   "outputs": [],
   "source": [
    "# Topic: CLI Tools\n",
    "import sys\n",
    "print(f'Arguments: {sys.argv}')"
   ]
  },
  {
   "cell_type": "code",
   "execution_count": null,
   "id": "9a818e31",
   "metadata": {},
   "outputs": [],
   "source": [
    "# Topic: Loops\n",
    "while True:\n",
    "    print('Break')\n",
    "    break"
   ]
  },
  {
   "cell_type": "code",
   "execution_count": null,
   "id": "ce80ea90",
   "metadata": {},
   "outputs": [],
   "source": [
    "# Topic: Recursion\n",
    "def fact(n): return 1 if n==0 else n*fact(n-1)\n",
    "print(fact(5))"
   ]
  },
  {
   "cell_type": "code",
   "execution_count": null,
   "id": "cad03ce0",
   "metadata": {},
   "outputs": [],
   "source": [
    "# Topic: Functions\n",
    "def greet(name='User'):\n",
    "    print(f'Hi, {name}')\n",
    "greet()"
   ]
  },
  {
   "cell_type": "code",
   "execution_count": null,
   "id": "84e1f1e9",
   "metadata": {},
   "outputs": [],
   "source": [
    "# Topic: JSON & CSV\n",
    "import csv\n",
    "with open('file.csv', 'w', newline='') as f:\n",
    " csv.writer(f).writerow(['a','b','c'])"
   ]
  },
  {
   "cell_type": "code",
   "execution_count": null,
   "id": "a6782ef3",
   "metadata": {},
   "outputs": [],
   "source": [
    "# Topic: Basic ML\n",
    "from sklearn.linear_model import LinearRegression\n",
    "model = LinearRegression()\n",
    "print(model)"
   ]
  },
  {
   "cell_type": "code",
   "execution_count": null,
   "id": "54055c1f",
   "metadata": {},
   "outputs": [],
   "source": [
    "# Topic: JSON & CSV\n",
    "import csv\n",
    "with open('file.csv', 'w', newline='') as f:\n",
    " csv.writer(f).writerow(['a','b','c'])"
   ]
  },
  {
   "cell_type": "code",
   "execution_count": null,
   "id": "fb0e7b5c",
   "metadata": {},
   "outputs": [],
   "source": [
    "# Topic: JSON & CSV\n",
    "import json\n",
    "data = {'a': 1}\n",
    "print(json.dumps(data))"
   ]
  },
  {
   "cell_type": "code",
   "execution_count": null,
   "id": "642a7db2",
   "metadata": {},
   "outputs": [],
   "source": [
    "# Topic: Lists & Tuples\n",
    "t = (1, 2, 3)\n",
    "print(t[0])"
   ]
  },
  {
   "cell_type": "code",
   "execution_count": null,
   "id": "ab4a325a",
   "metadata": {},
   "outputs": [],
   "source": [
    "# Topic: Basics\n",
    "x = 10\n",
    "y = 20\n",
    "print(x + y)"
   ]
  },
  {
   "cell_type": "code",
   "execution_count": null,
   "id": "aede4671",
   "metadata": {},
   "outputs": [],
   "source": [
    "# Topic: Regex\n",
    "import re\n",
    "text = 'email: test@example.com'\n",
    "print(re.findall(r'\\S+@\\S+', text))"
   ]
  },
  {
   "cell_type": "code",
   "execution_count": null,
   "id": "352a853b",
   "metadata": {},
   "outputs": [],
   "source": [
    "# Topic: Matplotlib & Seaborn\n",
    "import matplotlib.pyplot as plt\n",
    "plt.plot([1,2],[3,4])\n",
    "plt.show()"
   ]
  },
  {
   "cell_type": "code",
   "execution_count": null,
   "id": "4d87789e",
   "metadata": {},
   "outputs": [],
   "source": [
    "# Topic: Loops\n",
    "for i in range(10): print(i*i)"
   ]
  },
  {
   "cell_type": "code",
   "execution_count": null,
   "id": "1f510f6b",
   "metadata": {},
   "outputs": [],
   "source": [
    "# Topic: Loops\n",
    "while True:\n",
    "    print('Break')\n",
    "    break"
   ]
  },
  {
   "cell_type": "code",
   "execution_count": null,
   "id": "ffba53f7",
   "metadata": {},
   "outputs": [],
   "source": [
    "# Topic: Basics\n",
    "name = 'Fahd'\n",
    "print(f'Hello, {name}')"
   ]
  },
  {
   "cell_type": "code",
   "execution_count": null,
   "id": "134c678a",
   "metadata": {},
   "outputs": [],
   "source": [
    "# Topic: Matplotlib & Seaborn\n",
    "import seaborn as sns\n",
    "import pandas as pd\n",
    "sns.set()\n",
    "sns.histplot(pd.Series([1,2,2,3]));"
   ]
  },
  {
   "cell_type": "code",
   "execution_count": null,
   "id": "e691ba24",
   "metadata": {},
   "outputs": [],
   "source": [
    "# Topic: NumPy\n",
    "import numpy as np\n",
    "a = np.array([1, 2, 3])\n",
    "print(a + 5)"
   ]
  },
  {
   "cell_type": "code",
   "execution_count": null,
   "id": "c342eb9a",
   "metadata": {},
   "outputs": [],
   "source": [
    "# Topic: Algorithms\n",
    "# Bubble sort\n",
    "def bubble(arr):\n",
    " for i in range(len(arr)):\n",
    "  for j in range(0, len(arr)-i-1):\n",
    "   if arr[j]>arr[j+1]: arr[j],arr[j+1]=arr[j+1],arr[j]\n",
    "a=[5,3,8]\n",
    "bubble(a)\n",
    "print(a)"
   ]
  },
  {
   "cell_type": "code",
   "execution_count": null,
   "id": "3e3b9767",
   "metadata": {},
   "outputs": [],
   "source": [
    "# Topic: Functions\n",
    "def square(x): return x*x\n",
    "print(square(5))"
   ]
  },
  {
   "cell_type": "code",
   "execution_count": null,
   "id": "060a5087",
   "metadata": {},
   "outputs": [],
   "source": [
    "# Topic: Mini Projects\n",
    "# Calculator\n",
    "def calc(a,b,op): return eval(f'{a}{op}{b}')\n",
    "print(calc(5,2,'+'))"
   ]
  },
  {
   "cell_type": "code",
   "execution_count": null,
   "id": "d8659088",
   "metadata": {},
   "outputs": [],
   "source": [
    "# Topic: Algorithms\n",
    "# Bubble sort\n",
    "def bubble(arr):\n",
    " for i in range(len(arr)):\n",
    "  for j in range(0, len(arr)-i-1):\n",
    "   if arr[j]>arr[j+1]: arr[j],arr[j+1]=arr[j+1],arr[j]\n",
    "a=[5,3,8]\n",
    "bubble(a)\n",
    "print(a)"
   ]
  },
  {
   "cell_type": "code",
   "execution_count": null,
   "id": "8784fc74",
   "metadata": {},
   "outputs": [],
   "source": [
    "# Topic: Algorithms\n",
    "# Bubble sort\n",
    "def bubble(arr):\n",
    " for i in range(len(arr)):\n",
    "  for j in range(0, len(arr)-i-1):\n",
    "   if arr[j]>arr[j+1]: arr[j],arr[j+1]=arr[j+1],arr[j]\n",
    "a=[5,3,8]\n",
    "bubble(a)\n",
    "print(a)"
   ]
  },
  {
   "cell_type": "code",
   "execution_count": null,
   "id": "9ef27c27",
   "metadata": {},
   "outputs": [],
   "source": [
    "# Topic: Pandas\n",
    "import pandas as pd\n",
    "df = pd.DataFrame({'A':[1,2],'B':[3,4]})\n",
    "print(df)"
   ]
  },
  {
   "cell_type": "code",
   "execution_count": null,
   "id": "043ea98e",
   "metadata": {},
   "outputs": [],
   "source": [
    "# Topic: OOP\n",
    "class Student:\n",
    "    def __init__(self, name): self.name = name\n",
    "s = Student('Fahd')\n",
    "print(s.name)"
   ]
  },
  {
   "cell_type": "code",
   "execution_count": null,
   "id": "a3697ed0",
   "metadata": {},
   "outputs": [],
   "source": [
    "# Topic: Algorithms\n",
    "# Bubble sort\n",
    "def bubble(arr):\n",
    " for i in range(len(arr)):\n",
    "  for j in range(0, len(arr)-i-1):\n",
    "   if arr[j]>arr[j+1]: arr[j],arr[j+1]=arr[j+1],arr[j]\n",
    "a=[5,3,8]\n",
    "bubble(a)\n",
    "print(a)"
   ]
  },
  {
   "cell_type": "code",
   "execution_count": null,
   "id": "fdcd7667",
   "metadata": {},
   "outputs": [],
   "source": [
    "# Topic: Basic ML\n",
    "from sklearn.linear_model import LinearRegression\n",
    "model = LinearRegression()\n",
    "print(model)"
   ]
  },
  {
   "cell_type": "code",
   "execution_count": null,
   "id": "45c2b0a9",
   "metadata": {},
   "outputs": [],
   "source": [
    "# Topic: Web Scraping\n",
    "import requests\n",
    "from bs4 import BeautifulSoup\n",
    "r = requests.get('https://example.com')\n",
    "soup = BeautifulSoup(r.text, 'html.parser')\n",
    "print(soup.title.text)"
   ]
  },
  {
   "cell_type": "code",
   "execution_count": null,
   "id": "c318def9",
   "metadata": {},
   "outputs": [],
   "source": [
    "# Topic: Dictionaries & Sets\n",
    "d = {'name': 'Fahd', 'age': 20}\n",
    "print(d.get('name'))"
   ]
  },
  {
   "cell_type": "code",
   "execution_count": null,
   "id": "e4b4325a",
   "metadata": {},
   "outputs": [],
   "source": [
    "# Topic: Decorators\n",
    "def log(func):\n",
    " def wrapper():\n",
    "  print('Call')\n",
    "  func()\n",
    " return wrapper\n",
    "@log\n",
    "def say(): print('Hi')\n",
    "say()"
   ]
  },
  {
   "cell_type": "code",
   "execution_count": null,
   "id": "34c889c8",
   "metadata": {},
   "outputs": [],
   "source": [
    "# Topic: CLI Tools\n",
    "import sys\n",
    "print(f'Arguments: {sys.argv}')"
   ]
  },
  {
   "cell_type": "code",
   "execution_count": null,
   "id": "7485deec",
   "metadata": {},
   "outputs": [],
   "source": [
    "# Topic: NumPy\n",
    "import numpy as np\n",
    "a = np.array([1, 2, 3])\n",
    "print(a + 5)"
   ]
  },
  {
   "cell_type": "code",
   "execution_count": null,
   "id": "4c6255bc",
   "metadata": {},
   "outputs": [],
   "source": [
    "# Topic: Basic ML\n",
    "from sklearn.linear_model import LinearRegression\n",
    "model = LinearRegression()\n",
    "print(model)"
   ]
  },
  {
   "cell_type": "code",
   "execution_count": null,
   "id": "73b3add8",
   "metadata": {},
   "outputs": [],
   "source": [
    "# Topic: Matplotlib & Seaborn\n",
    "import seaborn as sns\n",
    "import pandas as pd\n",
    "sns.set()\n",
    "sns.histplot(pd.Series([1,2,2,3]));"
   ]
  },
  {
   "cell_type": "code",
   "execution_count": null,
   "id": "9f5a1167",
   "metadata": {},
   "outputs": [],
   "source": [
    "# Topic: Pandas\n",
    "import pandas as pd\n",
    "df = pd.read_csv('file.csv')\n",
    "print(df.head())"
   ]
  },
  {
   "cell_type": "code",
   "execution_count": null,
   "id": "8b18e2d4",
   "metadata": {},
   "outputs": [],
   "source": [
    "# Topic: Matplotlib & Seaborn\n",
    "import matplotlib.pyplot as plt\n",
    "plt.plot([1,2],[3,4])\n",
    "plt.show()"
   ]
  },
  {
   "cell_type": "code",
   "execution_count": null,
   "id": "bfc4ca1b",
   "metadata": {},
   "outputs": [],
   "source": [
    "# Topic: Matplotlib & Seaborn\n",
    "import seaborn as sns\n",
    "import pandas as pd\n",
    "sns.set()\n",
    "sns.histplot(pd.Series([1,2,2,3]));"
   ]
  },
  {
   "cell_type": "code",
   "execution_count": null,
   "id": "4aa79aa9",
   "metadata": {},
   "outputs": [],
   "source": [
    "# Topic: Regex\n",
    "import re\n",
    "text = 'email: test@example.com'\n",
    "print(re.findall(r'\\S+@\\S+', text))"
   ]
  },
  {
   "cell_type": "code",
   "execution_count": null,
   "id": "801ef2dc",
   "metadata": {},
   "outputs": [],
   "source": [
    "# Topic: NumPy\n",
    "import numpy as np\n",
    "print(np.linspace(0, 1, 5))"
   ]
  },
  {
   "cell_type": "code",
   "execution_count": null,
   "id": "27793ce5",
   "metadata": {},
   "outputs": [],
   "source": [
    "# Topic: Algorithms\n",
    "# Bubble sort\n",
    "def bubble(arr):\n",
    " for i in range(len(arr)):\n",
    "  for j in range(0, len(arr)-i-1):\n",
    "   if arr[j]>arr[j+1]: arr[j],arr[j+1]=arr[j+1],arr[j]\n",
    "a=[5,3,8]\n",
    "bubble(a)\n",
    "print(a)"
   ]
  },
  {
   "cell_type": "code",
   "execution_count": null,
   "id": "599cbdff",
   "metadata": {},
   "outputs": [],
   "source": [
    "# Topic: Recursion\n",
    "def fact(n): return 1 if n==0 else n*fact(n-1)\n",
    "print(fact(5))"
   ]
  },
  {
   "cell_type": "code",
   "execution_count": null,
   "id": "5101aeb8",
   "metadata": {},
   "outputs": [],
   "source": [
    "# Topic: Algorithms\n",
    "# Bubble sort\n",
    "def bubble(arr):\n",
    " for i in range(len(arr)):\n",
    "  for j in range(0, len(arr)-i-1):\n",
    "   if arr[j]>arr[j+1]: arr[j],arr[j+1]=arr[j+1],arr[j]\n",
    "a=[5,3,8]\n",
    "bubble(a)\n",
    "print(a)"
   ]
  },
  {
   "cell_type": "code",
   "execution_count": null,
   "id": "aecfa7c6",
   "metadata": {},
   "outputs": [],
   "source": [
    "# Topic: Basics\n",
    "name = 'Fahd'\n",
    "print(f'Hello, {name}')"
   ]
  },
  {
   "cell_type": "code",
   "execution_count": null,
   "id": "685ff7bd",
   "metadata": {},
   "outputs": [],
   "source": [
    "# Topic: Dictionaries & Sets\n",
    "d = {'name': 'Fahd', 'age': 20}\n",
    "print(d.get('name'))"
   ]
  },
  {
   "cell_type": "code",
   "execution_count": null,
   "id": "5fe519d3",
   "metadata": {},
   "outputs": [],
   "source": [
    "# Topic: Regex\n",
    "import re\n",
    "text = 'email: test@example.com'\n",
    "print(re.findall(r'\\S+@\\S+', text))"
   ]
  },
  {
   "cell_type": "code",
   "execution_count": null,
   "id": "502ce9cd",
   "metadata": {},
   "outputs": [],
   "source": [
    "# Topic: Loops\n",
    "for i in range(10): print(i*i)"
   ]
  },
  {
   "cell_type": "code",
   "execution_count": null,
   "id": "d226c4de",
   "metadata": {},
   "outputs": [],
   "source": [
    "# Topic: Loops\n",
    "while True:\n",
    "    print('Break')\n",
    "    break"
   ]
  },
  {
   "cell_type": "code",
   "execution_count": null,
   "id": "9fc5fdf0",
   "metadata": {},
   "outputs": [],
   "source": [
    "# Topic: CLI Tools\n",
    "import sys\n",
    "print(f'Arguments: {sys.argv}')"
   ]
  },
  {
   "cell_type": "code",
   "execution_count": null,
   "id": "bc16614b",
   "metadata": {},
   "outputs": [],
   "source": [
    "# Topic: Regex\n",
    "import re\n",
    "text = 'email: test@example.com'\n",
    "print(re.findall(r'\\S+@\\S+', text))"
   ]
  },
  {
   "cell_type": "code",
   "execution_count": null,
   "id": "41e97b49",
   "metadata": {},
   "outputs": [],
   "source": [
    "# Topic: Lists & Tuples\n",
    "lst = [1, 2, 3]\n",
    "lst.append(4)\n",
    "print(lst)"
   ]
  },
  {
   "cell_type": "code",
   "execution_count": null,
   "id": "ce04c1a4",
   "metadata": {},
   "outputs": [],
   "source": [
    "# Topic: Algorithms\n",
    "# Bubble sort\n",
    "def bubble(arr):\n",
    " for i in range(len(arr)):\n",
    "  for j in range(0, len(arr)-i-1):\n",
    "   if arr[j]>arr[j+1]: arr[j],arr[j+1]=arr[j+1],arr[j]\n",
    "a=[5,3,8]\n",
    "bubble(a)\n",
    "print(a)"
   ]
  },
  {
   "cell_type": "code",
   "execution_count": null,
   "id": "51f45487",
   "metadata": {},
   "outputs": [],
   "source": [
    "# Topic: Mini Projects\n",
    "# Calculator\n",
    "def calc(a,b,op): return eval(f'{a}{op}{b}')\n",
    "print(calc(5,2,'+'))"
   ]
  },
  {
   "cell_type": "code",
   "execution_count": null,
   "id": "bc14b5a4",
   "metadata": {},
   "outputs": [],
   "source": [
    "# Topic: Pandas\n",
    "import pandas as pd\n",
    "df = pd.read_csv('file.csv')\n",
    "print(df.head())"
   ]
  },
  {
   "cell_type": "code",
   "execution_count": null,
   "id": "ba690ec2",
   "metadata": {},
   "outputs": [],
   "source": [
    "# Topic: Basic ML\n",
    "from sklearn.linear_model import LinearRegression\n",
    "model = LinearRegression()\n",
    "print(model)"
   ]
  },
  {
   "cell_type": "code",
   "execution_count": null,
   "id": "c6a827fa",
   "metadata": {},
   "outputs": [],
   "source": [
    "# Topic: Mini Projects\n",
    "# Calculator\n",
    "def calc(a,b,op): return eval(f'{a}{op}{b}')\n",
    "print(calc(5,2,'+'))"
   ]
  },
  {
   "cell_type": "code",
   "execution_count": null,
   "id": "9138bdab",
   "metadata": {},
   "outputs": [],
   "source": [
    "# Topic: Functions\n",
    "def square(x): return x*x\n",
    "print(square(5))"
   ]
  },
  {
   "cell_type": "code",
   "execution_count": null,
   "id": "8a6a026e",
   "metadata": {},
   "outputs": [],
   "source": [
    "# Topic: Mini Projects\n",
    "# Palindrome check\n",
    "def is_pal(s): return s == s[::-1]\n",
    "print(is_pal('madam'))"
   ]
  },
  {
   "cell_type": "code",
   "execution_count": null,
   "id": "7ff36df8",
   "metadata": {},
   "outputs": [],
   "source": [
    "# Topic: Basic ML\n",
    "from sklearn.linear_model import LinearRegression\n",
    "model = LinearRegression()\n",
    "print(model)"
   ]
  },
  {
   "cell_type": "code",
   "execution_count": null,
   "id": "1da76355",
   "metadata": {},
   "outputs": [],
   "source": [
    "# Topic: Functions\n",
    "def greet(name='User'):\n",
    "    print(f'Hi, {name}')\n",
    "greet()"
   ]
  },
  {
   "cell_type": "code",
   "execution_count": null,
   "id": "a5da38f3",
   "metadata": {},
   "outputs": [],
   "source": [
    "# Topic: Functions\n",
    "def greet(name='User'):\n",
    "    print(f'Hi, {name}')\n",
    "greet()"
   ]
  },
  {
   "cell_type": "code",
   "execution_count": null,
   "id": "a9d1bd46",
   "metadata": {},
   "outputs": [],
   "source": [
    "# Topic: Mini Projects\n",
    "# Palindrome check\n",
    "def is_pal(s): return s == s[::-1]\n",
    "print(is_pal('madam'))"
   ]
  },
  {
   "cell_type": "code",
   "execution_count": null,
   "id": "efa7f118",
   "metadata": {},
   "outputs": [],
   "source": [
    "# Topic: CLI Tools\n",
    "import sys\n",
    "print(f'Arguments: {sys.argv}')"
   ]
  },
  {
   "cell_type": "code",
   "execution_count": null,
   "id": "ebfc0dc9",
   "metadata": {},
   "outputs": [],
   "source": [
    "# Topic: Basic ML\n",
    "from sklearn.linear_model import LinearRegression\n",
    "model = LinearRegression()\n",
    "print(model)"
   ]
  },
  {
   "cell_type": "code",
   "execution_count": null,
   "id": "a4b9a03f",
   "metadata": {},
   "outputs": [],
   "source": [
    "# Topic: CLI Tools\n",
    "import sys\n",
    "print(f'Arguments: {sys.argv}')"
   ]
  },
  {
   "cell_type": "code",
   "execution_count": null,
   "id": "f660e0fd",
   "metadata": {},
   "outputs": [],
   "source": [
    "# Topic: Recursion\n",
    "def fact(n): return 1 if n==0 else n*fact(n-1)\n",
    "print(fact(5))"
   ]
  },
  {
   "cell_type": "code",
   "execution_count": null,
   "id": "b4667db8",
   "metadata": {},
   "outputs": [],
   "source": [
    "# Topic: Lists & Tuples\n",
    "t = (1, 2, 3)\n",
    "print(t[0])"
   ]
  },
  {
   "cell_type": "code",
   "execution_count": null,
   "id": "60ed87ce",
   "metadata": {},
   "outputs": [],
   "source": [
    "# Topic: CLI Tools\n",
    "import sys\n",
    "print(f'Arguments: {sys.argv}')"
   ]
  },
  {
   "cell_type": "code",
   "execution_count": null,
   "id": "aed4d72a",
   "metadata": {},
   "outputs": [],
   "source": [
    "# Topic: JSON & CSV\n",
    "import csv\n",
    "with open('file.csv', 'w', newline='') as f:\n",
    " csv.writer(f).writerow(['a','b','c'])"
   ]
  },
  {
   "cell_type": "code",
   "execution_count": null,
   "id": "e773bded",
   "metadata": {},
   "outputs": [],
   "source": [
    "# Topic: Basic ML\n",
    "from sklearn.linear_model import LinearRegression\n",
    "model = LinearRegression()\n",
    "print(model)"
   ]
  },
  {
   "cell_type": "code",
   "execution_count": null,
   "id": "18ef17a2",
   "metadata": {},
   "outputs": [],
   "source": [
    "# Topic: File I/O\n",
    "with open('test.txt', 'r') as f:\n",
    "    print(f.read())"
   ]
  },
  {
   "cell_type": "code",
   "execution_count": null,
   "id": "e878479c",
   "metadata": {},
   "outputs": [],
   "source": [
    "# Topic: File I/O\n",
    "with open('test.txt', 'w') as f:\n",
    "    f.write('Hello World')"
   ]
  },
  {
   "cell_type": "code",
   "execution_count": null,
   "id": "a9382c46",
   "metadata": {},
   "outputs": [],
   "source": [
    "# Topic: Basic ML\n",
    "from sklearn.linear_model import LinearRegression\n",
    "model = LinearRegression()\n",
    "print(model)"
   ]
  },
  {
   "cell_type": "code",
   "execution_count": null,
   "id": "7775e73c",
   "metadata": {},
   "outputs": [],
   "source": [
    "# Topic: JSON & CSV\n",
    "import json\n",
    "data = {'a': 1}\n",
    "print(json.dumps(data))"
   ]
  },
  {
   "cell_type": "code",
   "execution_count": null,
   "id": "be12279c",
   "metadata": {},
   "outputs": [],
   "source": [
    "# Topic: CLI Tools\n",
    "import sys\n",
    "print(f'Arguments: {sys.argv}')"
   ]
  },
  {
   "cell_type": "code",
   "execution_count": null,
   "id": "a55162a3",
   "metadata": {},
   "outputs": [],
   "source": [
    "# Topic: Basics\n",
    "x = 10\n",
    "y = 20\n",
    "print(x + y)"
   ]
  },
  {
   "cell_type": "code",
   "execution_count": null,
   "id": "5bf258fb",
   "metadata": {},
   "outputs": [],
   "source": [
    "# Topic: Loops\n",
    "for i in range(10): print(i*i)"
   ]
  },
  {
   "cell_type": "code",
   "execution_count": null,
   "id": "d161f189",
   "metadata": {},
   "outputs": [],
   "source": [
    "# Topic: Algorithms\n",
    "# Bubble sort\n",
    "def bubble(arr):\n",
    " for i in range(len(arr)):\n",
    "  for j in range(0, len(arr)-i-1):\n",
    "   if arr[j]>arr[j+1]: arr[j],arr[j+1]=arr[j+1],arr[j]\n",
    "a=[5,3,8]\n",
    "bubble(a)\n",
    "print(a)"
   ]
  },
  {
   "cell_type": "code",
   "execution_count": null,
   "id": "a63a8f24",
   "metadata": {},
   "outputs": [],
   "source": [
    "# Topic: Regex\n",
    "import re\n",
    "text = 'email: test@example.com'\n",
    "print(re.findall(r'\\S+@\\S+', text))"
   ]
  },
  {
   "cell_type": "code",
   "execution_count": null,
   "id": "211bc609",
   "metadata": {},
   "outputs": [],
   "source": [
    "# Topic: Recursion\n",
    "def fact(n): return 1 if n==0 else n*fact(n-1)\n",
    "print(fact(5))"
   ]
  },
  {
   "cell_type": "code",
   "execution_count": null,
   "id": "f0091d9d",
   "metadata": {},
   "outputs": [],
   "source": [
    "# Topic: Pandas\n",
    "import pandas as pd\n",
    "df = pd.read_csv('file.csv')\n",
    "print(df.head())"
   ]
  },
  {
   "cell_type": "code",
   "execution_count": null,
   "id": "2d92f394",
   "metadata": {},
   "outputs": [],
   "source": [
    "# Topic: Loops\n",
    "while True:\n",
    "    print('Break')\n",
    "    break"
   ]
  },
  {
   "cell_type": "code",
   "execution_count": null,
   "id": "43e82eb3",
   "metadata": {},
   "outputs": [],
   "source": [
    "# Topic: JSON & CSV\n",
    "import csv\n",
    "with open('file.csv', 'w', newline='') as f:\n",
    " csv.writer(f).writerow(['a','b','c'])"
   ]
  },
  {
   "cell_type": "code",
   "execution_count": null,
   "id": "f3bb29dd",
   "metadata": {},
   "outputs": [],
   "source": [
    "# Topic: CLI Tools\n",
    "import sys\n",
    "print(f'Arguments: {sys.argv}')"
   ]
  },
  {
   "cell_type": "code",
   "execution_count": null,
   "id": "c4b5f33d",
   "metadata": {},
   "outputs": [],
   "source": [
    "# Topic: Data Cleaning\n",
    "import pandas as pd\n",
    "df = pd.DataFrame({'A':[1,None,3]})\n",
    "df = df.fillna(0)\n",
    "print(df)"
   ]
  },
  {
   "cell_type": "code",
   "execution_count": null,
   "id": "92225b32",
   "metadata": {},
   "outputs": [],
   "source": [
    "# Topic: Pandas\n",
    "import pandas as pd\n",
    "df = pd.read_csv('file.csv')\n",
    "print(df.head())"
   ]
  },
  {
   "cell_type": "code",
   "execution_count": null,
   "id": "af0e027d",
   "metadata": {},
   "outputs": [],
   "source": [
    "# Topic: Basic ML\n",
    "from sklearn.linear_model import LinearRegression\n",
    "model = LinearRegression()\n",
    "print(model)"
   ]
  },
  {
   "cell_type": "code",
   "execution_count": null,
   "id": "6aec655c",
   "metadata": {},
   "outputs": [],
   "source": [
    "# Topic: Basics\n",
    "name = 'Fahd'\n",
    "print(f'Hello, {name}')"
   ]
  },
  {
   "cell_type": "code",
   "execution_count": null,
   "id": "83d8c8cf",
   "metadata": {},
   "outputs": [],
   "source": [
    "# Topic: Algorithms\n",
    "# Bubble sort\n",
    "def bubble(arr):\n",
    " for i in range(len(arr)):\n",
    "  for j in range(0, len(arr)-i-1):\n",
    "   if arr[j]>arr[j+1]: arr[j],arr[j+1]=arr[j+1],arr[j]\n",
    "a=[5,3,8]\n",
    "bubble(a)\n",
    "print(a)"
   ]
  },
  {
   "cell_type": "code",
   "execution_count": null,
   "id": "6d69ac60",
   "metadata": {},
   "outputs": [],
   "source": [
    "# Topic: Recursion\n",
    "def fact(n): return 1 if n==0 else n*fact(n-1)\n",
    "print(fact(5))"
   ]
  },
  {
   "cell_type": "code",
   "execution_count": null,
   "id": "db680f30",
   "metadata": {},
   "outputs": [],
   "source": [
    "# Topic: Regex\n",
    "import re\n",
    "text = 'email: test@example.com'\n",
    "print(re.findall(r'\\S+@\\S+', text))"
   ]
  },
  {
   "cell_type": "code",
   "execution_count": null,
   "id": "67b8869d",
   "metadata": {},
   "outputs": [],
   "source": [
    "# Topic: Recursion\n",
    "def fact(n): return 1 if n==0 else n*fact(n-1)\n",
    "print(fact(5))"
   ]
  },
  {
   "cell_type": "code",
   "execution_count": null,
   "id": "49ff9eb6",
   "metadata": {},
   "outputs": [],
   "source": [
    "# Topic: Basic ML\n",
    "from sklearn.linear_model import LinearRegression\n",
    "model = LinearRegression()\n",
    "print(model)"
   ]
  },
  {
   "cell_type": "code",
   "execution_count": null,
   "id": "b70e94fb",
   "metadata": {},
   "outputs": [],
   "source": [
    "# Topic: OOP\n",
    "class Student:\n",
    "    def __init__(self, name): self.name = name\n",
    "s = Student('Fahd')\n",
    "print(s.name)"
   ]
  },
  {
   "cell_type": "code",
   "execution_count": null,
   "id": "694c4e0a",
   "metadata": {},
   "outputs": [],
   "source": [
    "# Topic: Recursion\n",
    "def fact(n): return 1 if n==0 else n*fact(n-1)\n",
    "print(fact(5))"
   ]
  },
  {
   "cell_type": "code",
   "execution_count": null,
   "id": "c2d129ec",
   "metadata": {},
   "outputs": [],
   "source": [
    "# Topic: Recursion\n",
    "def fact(n): return 1 if n==0 else n*fact(n-1)\n",
    "print(fact(5))"
   ]
  },
  {
   "cell_type": "code",
   "execution_count": null,
   "id": "07138e53",
   "metadata": {},
   "outputs": [],
   "source": [
    "# Topic: Regex\n",
    "import re\n",
    "text = 'email: test@example.com'\n",
    "print(re.findall(r'\\S+@\\S+', text))"
   ]
  },
  {
   "cell_type": "code",
   "execution_count": null,
   "id": "25410cca",
   "metadata": {},
   "outputs": [],
   "source": [
    "# Topic: Data Cleaning\n",
    "import pandas as pd\n",
    "df = pd.DataFrame({'A':[1,None,3]})\n",
    "df = df.fillna(0)\n",
    "print(df)"
   ]
  },
  {
   "cell_type": "code",
   "execution_count": null,
   "id": "59151b9b",
   "metadata": {},
   "outputs": [],
   "source": [
    "# Topic: Algorithms\n",
    "# Bubble sort\n",
    "def bubble(arr):\n",
    " for i in range(len(arr)):\n",
    "  for j in range(0, len(arr)-i-1):\n",
    "   if arr[j]>arr[j+1]: arr[j],arr[j+1]=arr[j+1],arr[j]\n",
    "a=[5,3,8]\n",
    "bubble(a)\n",
    "print(a)"
   ]
  },
  {
   "cell_type": "code",
   "execution_count": null,
   "id": "3cf4e127",
   "metadata": {},
   "outputs": [],
   "source": [
    "# Topic: Regex\n",
    "import re\n",
    "text = 'email: test@example.com'\n",
    "print(re.findall(r'\\S+@\\S+', text))"
   ]
  },
  {
   "cell_type": "code",
   "execution_count": null,
   "id": "cbfc779c",
   "metadata": {},
   "outputs": [],
   "source": [
    "# Topic: Matplotlib & Seaborn\n",
    "import seaborn as sns\n",
    "import pandas as pd\n",
    "sns.set()\n",
    "sns.histplot(pd.Series([1,2,2,3]));"
   ]
  },
  {
   "cell_type": "code",
   "execution_count": null,
   "id": "ca174470",
   "metadata": {},
   "outputs": [],
   "source": [
    "# Topic: Basic ML\n",
    "from sklearn.linear_model import LinearRegression\n",
    "model = LinearRegression()\n",
    "print(model)"
   ]
  },
  {
   "cell_type": "code",
   "execution_count": null,
   "id": "01008c92",
   "metadata": {},
   "outputs": [],
   "source": [
    "# Topic: Mini Projects\n",
    "# Calculator\n",
    "def calc(a,b,op): return eval(f'{a}{op}{b}')\n",
    "print(calc(5,2,'+'))"
   ]
  },
  {
   "cell_type": "code",
   "execution_count": null,
   "id": "264a191b",
   "metadata": {},
   "outputs": [],
   "source": [
    "# Topic: Matplotlib & Seaborn\n",
    "import seaborn as sns\n",
    "import pandas as pd\n",
    "sns.set()\n",
    "sns.histplot(pd.Series([1,2,2,3]));"
   ]
  },
  {
   "cell_type": "code",
   "execution_count": null,
   "id": "950d22ae",
   "metadata": {},
   "outputs": [],
   "source": [
    "# Topic: Mini Projects\n",
    "# Calculator\n",
    "def calc(a,b,op): return eval(f'{a}{op}{b}')\n",
    "print(calc(5,2,'+'))"
   ]
  },
  {
   "cell_type": "code",
   "execution_count": null,
   "id": "f5ec2696",
   "metadata": {},
   "outputs": [],
   "source": [
    "# Topic: OOP\n",
    "class Student:\n",
    "    def __init__(self, name): self.name = name\n",
    "s = Student('Fahd')\n",
    "print(s.name)"
   ]
  },
  {
   "cell_type": "code",
   "execution_count": null,
   "id": "722f15fa",
   "metadata": {},
   "outputs": [],
   "source": [
    "# Topic: Lists & Tuples\n",
    "t = (1, 2, 3)\n",
    "print(t[0])"
   ]
  },
  {
   "cell_type": "code",
   "execution_count": null,
   "id": "b621bc54",
   "metadata": {},
   "outputs": [],
   "source": [
    "# Topic: Pandas\n",
    "import pandas as pd\n",
    "df = pd.read_csv('file.csv')\n",
    "print(df.head())"
   ]
  },
  {
   "cell_type": "code",
   "execution_count": null,
   "id": "b64a2ae5",
   "metadata": {},
   "outputs": [],
   "source": [
    "# Topic: Web Scraping\n",
    "import requests\n",
    "from bs4 import BeautifulSoup\n",
    "r = requests.get('https://example.com')\n",
    "soup = BeautifulSoup(r.text, 'html.parser')\n",
    "print(soup.title.text)"
   ]
  },
  {
   "cell_type": "code",
   "execution_count": null,
   "id": "88df7b63",
   "metadata": {},
   "outputs": [],
   "source": [
    "# Topic: CLI Tools\n",
    "import sys\n",
    "print(f'Arguments: {sys.argv}')"
   ]
  },
  {
   "cell_type": "code",
   "execution_count": null,
   "id": "70416cb8",
   "metadata": {},
   "outputs": [],
   "source": [
    "# Topic: CLI Tools\n",
    "import sys\n",
    "print(f'Arguments: {sys.argv}')"
   ]
  },
  {
   "cell_type": "code",
   "execution_count": null,
   "id": "161b7bb0",
   "metadata": {},
   "outputs": [],
   "source": [
    "# Topic: Basics\n",
    "name = 'Fahd'\n",
    "print(f'Hello, {name}')"
   ]
  },
  {
   "cell_type": "code",
   "execution_count": null,
   "id": "343e478b",
   "metadata": {},
   "outputs": [],
   "source": [
    "# Topic: Mini Projects\n",
    "# Calculator\n",
    "def calc(a,b,op): return eval(f'{a}{op}{b}')\n",
    "print(calc(5,2,'+'))"
   ]
  },
  {
   "cell_type": "code",
   "execution_count": null,
   "id": "aec6ccc9",
   "metadata": {},
   "outputs": [],
   "source": [
    "# Topic: Decorators\n",
    "def log(func):\n",
    " def wrapper():\n",
    "  print('Call')\n",
    "  func()\n",
    " return wrapper\n",
    "@log\n",
    "def say(): print('Hi')\n",
    "say()"
   ]
  },
  {
   "cell_type": "code",
   "execution_count": null,
   "id": "c243edc3",
   "metadata": {},
   "outputs": [],
   "source": [
    "# Topic: OOP\n",
    "class Student:\n",
    "    def __init__(self, name): self.name = name\n",
    "s = Student('Fahd')\n",
    "print(s.name)"
   ]
  },
  {
   "cell_type": "code",
   "execution_count": null,
   "id": "cd05b91b",
   "metadata": {},
   "outputs": [],
   "source": [
    "# Topic: Data Cleaning\n",
    "import pandas as pd\n",
    "df = pd.DataFrame({'A':[1,None,3]})\n",
    "df = df.fillna(0)\n",
    "print(df)"
   ]
  },
  {
   "cell_type": "code",
   "execution_count": null,
   "id": "ff539eb9",
   "metadata": {},
   "outputs": [],
   "source": [
    "# Topic: Dictionaries & Sets\n",
    "s = set([1, 2, 3, 2])\n",
    "print(s)"
   ]
  },
  {
   "cell_type": "code",
   "execution_count": null,
   "id": "5d31bd1b",
   "metadata": {},
   "outputs": [],
   "source": [
    "# Topic: Mini Projects\n",
    "# Palindrome check\n",
    "def is_pal(s): return s == s[::-1]\n",
    "print(is_pal('madam'))"
   ]
  },
  {
   "cell_type": "code",
   "execution_count": null,
   "id": "607a944f",
   "metadata": {},
   "outputs": [],
   "source": [
    "# Topic: Pandas\n",
    "import pandas as pd\n",
    "df = pd.read_csv('file.csv')\n",
    "print(df.head())"
   ]
  },
  {
   "cell_type": "code",
   "execution_count": null,
   "id": "26a81c65",
   "metadata": {},
   "outputs": [],
   "source": [
    "# Topic: Data Cleaning\n",
    "import pandas as pd\n",
    "df = pd.DataFrame({'A':[1,None,3]})\n",
    "df = df.fillna(0)\n",
    "print(df)"
   ]
  },
  {
   "cell_type": "code",
   "execution_count": null,
   "id": "aca80143",
   "metadata": {},
   "outputs": [],
   "source": [
    "# Topic: Matplotlib & Seaborn\n",
    "import matplotlib.pyplot as plt\n",
    "plt.plot([1,2],[3,4])\n",
    "plt.show()"
   ]
  },
  {
   "cell_type": "code",
   "execution_count": null,
   "id": "2b37f8cc",
   "metadata": {},
   "outputs": [],
   "source": [
    "# Topic: Web Scraping\n",
    "import requests\n",
    "from bs4 import BeautifulSoup\n",
    "r = requests.get('https://example.com')\n",
    "soup = BeautifulSoup(r.text, 'html.parser')\n",
    "print(soup.title.text)"
   ]
  },
  {
   "cell_type": "code",
   "execution_count": null,
   "id": "575d84d4",
   "metadata": {},
   "outputs": [],
   "source": [
    "# Topic: Basic ML\n",
    "from sklearn.linear_model import LinearRegression\n",
    "model = LinearRegression()\n",
    "print(model)"
   ]
  },
  {
   "cell_type": "code",
   "execution_count": null,
   "id": "b027c556",
   "metadata": {},
   "outputs": [],
   "source": [
    "# Topic: JSON & CSV\n",
    "import json\n",
    "data = {'a': 1}\n",
    "print(json.dumps(data))"
   ]
  },
  {
   "cell_type": "code",
   "execution_count": null,
   "id": "9780313a",
   "metadata": {},
   "outputs": [],
   "source": [
    "# Topic: Decorators\n",
    "def log(func):\n",
    " def wrapper():\n",
    "  print('Call')\n",
    "  func()\n",
    " return wrapper\n",
    "@log\n",
    "def say(): print('Hi')\n",
    "say()"
   ]
  },
  {
   "cell_type": "code",
   "execution_count": null,
   "id": "f43a2b64",
   "metadata": {},
   "outputs": [],
   "source": [
    "# Topic: Mini Projects\n",
    "# Palindrome check\n",
    "def is_pal(s): return s == s[::-1]\n",
    "print(is_pal('madam'))"
   ]
  },
  {
   "cell_type": "code",
   "execution_count": null,
   "id": "a1d60b16",
   "metadata": {},
   "outputs": [],
   "source": [
    "# Topic: Data Cleaning\n",
    "import pandas as pd\n",
    "df = pd.DataFrame({'A':[1,None,3]})\n",
    "df = df.fillna(0)\n",
    "print(df)"
   ]
  },
  {
   "cell_type": "code",
   "execution_count": null,
   "id": "40a75930",
   "metadata": {},
   "outputs": [],
   "source": [
    "# Topic: Matplotlib & Seaborn\n",
    "import matplotlib.pyplot as plt\n",
    "plt.plot([1,2],[3,4])\n",
    "plt.show()"
   ]
  },
  {
   "cell_type": "code",
   "execution_count": null,
   "id": "d439801b",
   "metadata": {},
   "outputs": [],
   "source": [
    "# Topic: Algorithms\n",
    "# Bubble sort\n",
    "def bubble(arr):\n",
    " for i in range(len(arr)):\n",
    "  for j in range(0, len(arr)-i-1):\n",
    "   if arr[j]>arr[j+1]: arr[j],arr[j+1]=arr[j+1],arr[j]\n",
    "a=[5,3,8]\n",
    "bubble(a)\n",
    "print(a)"
   ]
  },
  {
   "cell_type": "code",
   "execution_count": null,
   "id": "f188b3f1",
   "metadata": {},
   "outputs": [],
   "source": [
    "# Topic: Dictionaries & Sets\n",
    "d = {'name': 'Fahd', 'age': 20}\n",
    "print(d.get('name'))"
   ]
  },
  {
   "cell_type": "code",
   "execution_count": null,
   "id": "49f71e12",
   "metadata": {},
   "outputs": [],
   "source": [
    "# Topic: CLI Tools\n",
    "import sys\n",
    "print(f'Arguments: {sys.argv}')"
   ]
  },
  {
   "cell_type": "code",
   "execution_count": null,
   "id": "1c267719",
   "metadata": {},
   "outputs": [],
   "source": [
    "# Topic: CLI Tools\n",
    "import sys\n",
    "print(f'Arguments: {sys.argv}')"
   ]
  },
  {
   "cell_type": "code",
   "execution_count": null,
   "id": "69851d4f",
   "metadata": {},
   "outputs": [],
   "source": [
    "# Topic: NumPy\n",
    "import numpy as np\n",
    "print(np.linspace(0, 1, 5))"
   ]
  },
  {
   "cell_type": "code",
   "execution_count": null,
   "id": "6e197b7d",
   "metadata": {},
   "outputs": [],
   "source": [
    "# Topic: Regex\n",
    "import re\n",
    "text = 'email: test@example.com'\n",
    "print(re.findall(r'\\S+@\\S+', text))"
   ]
  },
  {
   "cell_type": "code",
   "execution_count": null,
   "id": "036efb2e",
   "metadata": {},
   "outputs": [],
   "source": [
    "# Topic: Pandas\n",
    "import pandas as pd\n",
    "df = pd.read_csv('file.csv')\n",
    "print(df.head())"
   ]
  },
  {
   "cell_type": "code",
   "execution_count": null,
   "id": "05aff2d8",
   "metadata": {},
   "outputs": [],
   "source": [
    "# Topic: CLI Tools\n",
    "import sys\n",
    "print(f'Arguments: {sys.argv}')"
   ]
  },
  {
   "cell_type": "code",
   "execution_count": null,
   "id": "fb4216ca",
   "metadata": {},
   "outputs": [],
   "source": [
    "# Topic: Algorithms\n",
    "# Bubble sort\n",
    "def bubble(arr):\n",
    " for i in range(len(arr)):\n",
    "  for j in range(0, len(arr)-i-1):\n",
    "   if arr[j]>arr[j+1]: arr[j],arr[j+1]=arr[j+1],arr[j]\n",
    "a=[5,3,8]\n",
    "bubble(a)\n",
    "print(a)"
   ]
  },
  {
   "cell_type": "code",
   "execution_count": null,
   "id": "302df7e4",
   "metadata": {},
   "outputs": [],
   "source": [
    "# Topic: Recursion\n",
    "def fact(n): return 1 if n==0 else n*fact(n-1)\n",
    "print(fact(5))"
   ]
  },
  {
   "cell_type": "code",
   "execution_count": null,
   "id": "970036f0",
   "metadata": {},
   "outputs": [],
   "source": [
    "# Topic: Algorithms\n",
    "# Bubble sort\n",
    "def bubble(arr):\n",
    " for i in range(len(arr)):\n",
    "  for j in range(0, len(arr)-i-1):\n",
    "   if arr[j]>arr[j+1]: arr[j],arr[j+1]=arr[j+1],arr[j]\n",
    "a=[5,3,8]\n",
    "bubble(a)\n",
    "print(a)"
   ]
  },
  {
   "cell_type": "code",
   "execution_count": null,
   "id": "db1fde73",
   "metadata": {},
   "outputs": [],
   "source": [
    "# Topic: Basics\n",
    "x = 10\n",
    "y = 20\n",
    "print(x + y)"
   ]
  },
  {
   "cell_type": "code",
   "execution_count": null,
   "id": "82c59bad",
   "metadata": {},
   "outputs": [],
   "source": [
    "# Topic: NumPy\n",
    "import numpy as np\n",
    "a = np.array([1, 2, 3])\n",
    "print(a + 5)"
   ]
  },
  {
   "cell_type": "code",
   "execution_count": null,
   "id": "2048e509",
   "metadata": {},
   "outputs": [],
   "source": [
    "# Topic: Mini Projects\n",
    "# Calculator\n",
    "def calc(a,b,op): return eval(f'{a}{op}{b}')\n",
    "print(calc(5,2,'+'))"
   ]
  },
  {
   "cell_type": "code",
   "execution_count": null,
   "id": "dd30567e",
   "metadata": {},
   "outputs": [],
   "source": [
    "# Topic: Regex\n",
    "import re\n",
    "text = 'email: test@example.com'\n",
    "print(re.findall(r'\\S+@\\S+', text))"
   ]
  },
  {
   "cell_type": "code",
   "execution_count": null,
   "id": "1c14b82b",
   "metadata": {},
   "outputs": [],
   "source": [
    "# Topic: Basic ML\n",
    "from sklearn.linear_model import LinearRegression\n",
    "model = LinearRegression()\n",
    "print(model)"
   ]
  },
  {
   "cell_type": "code",
   "execution_count": null,
   "id": "fad3f1f1",
   "metadata": {},
   "outputs": [],
   "source": [
    "# Topic: Functions\n",
    "def square(x): return x*x\n",
    "print(square(5))"
   ]
  },
  {
   "cell_type": "code",
   "execution_count": null,
   "id": "378dec18",
   "metadata": {},
   "outputs": [],
   "source": [
    "# Topic: File I/O\n",
    "with open('test.txt', 'w') as f:\n",
    "    f.write('Hello World')"
   ]
  },
  {
   "cell_type": "code",
   "execution_count": null,
   "id": "395462ea",
   "metadata": {},
   "outputs": [],
   "source": [
    "# Topic: Basic ML\n",
    "from sklearn.linear_model import LinearRegression\n",
    "model = LinearRegression()\n",
    "print(model)"
   ]
  },
  {
   "cell_type": "code",
   "execution_count": null,
   "id": "d23dfe12",
   "metadata": {},
   "outputs": [],
   "source": [
    "# Topic: Recursion\n",
    "def fact(n): return 1 if n==0 else n*fact(n-1)\n",
    "print(fact(5))"
   ]
  },
  {
   "cell_type": "code",
   "execution_count": null,
   "id": "e8a3608a",
   "metadata": {},
   "outputs": [],
   "source": [
    "# Topic: File I/O\n",
    "with open('test.txt', 'r') as f:\n",
    "    print(f.read())"
   ]
  },
  {
   "cell_type": "code",
   "execution_count": null,
   "id": "17483c3b",
   "metadata": {},
   "outputs": [],
   "source": [
    "# Topic: Recursion\n",
    "def fact(n): return 1 if n==0 else n*fact(n-1)\n",
    "print(fact(5))"
   ]
  },
  {
   "cell_type": "code",
   "execution_count": null,
   "id": "e8560fe5",
   "metadata": {},
   "outputs": [],
   "source": [
    "# Topic: Mini Projects\n",
    "# Palindrome check\n",
    "def is_pal(s): return s == s[::-1]\n",
    "print(is_pal('madam'))"
   ]
  },
  {
   "cell_type": "code",
   "execution_count": null,
   "id": "13deb1a3",
   "metadata": {},
   "outputs": [],
   "source": [
    "# Topic: JSON & CSV\n",
    "import csv\n",
    "with open('file.csv', 'w', newline='') as f:\n",
    " csv.writer(f).writerow(['a','b','c'])"
   ]
  },
  {
   "cell_type": "code",
   "execution_count": null,
   "id": "a922820e",
   "metadata": {},
   "outputs": [],
   "source": [
    "# Topic: Algorithms\n",
    "# Bubble sort\n",
    "def bubble(arr):\n",
    " for i in range(len(arr)):\n",
    "  for j in range(0, len(arr)-i-1):\n",
    "   if arr[j]>arr[j+1]: arr[j],arr[j+1]=arr[j+1],arr[j]\n",
    "a=[5,3,8]\n",
    "bubble(a)\n",
    "print(a)"
   ]
  },
  {
   "cell_type": "code",
   "execution_count": null,
   "id": "0cb01256",
   "metadata": {},
   "outputs": [],
   "source": [
    "# Topic: NumPy\n",
    "import numpy as np\n",
    "print(np.linspace(0, 1, 5))"
   ]
  },
  {
   "cell_type": "code",
   "execution_count": null,
   "id": "6fda53b1",
   "metadata": {},
   "outputs": [],
   "source": [
    "# Topic: Decorators\n",
    "def log(func):\n",
    " def wrapper():\n",
    "  print('Call')\n",
    "  func()\n",
    " return wrapper\n",
    "@log\n",
    "def say(): print('Hi')\n",
    "say()"
   ]
  },
  {
   "cell_type": "code",
   "execution_count": null,
   "id": "9f016660",
   "metadata": {},
   "outputs": [],
   "source": [
    "# Topic: Recursion\n",
    "def fact(n): return 1 if n==0 else n*fact(n-1)\n",
    "print(fact(5))"
   ]
  },
  {
   "cell_type": "code",
   "execution_count": null,
   "id": "5243fe68",
   "metadata": {},
   "outputs": [],
   "source": [
    "# Topic: Matplotlib & Seaborn\n",
    "import seaborn as sns\n",
    "import pandas as pd\n",
    "sns.set()\n",
    "sns.histplot(pd.Series([1,2,2,3]));"
   ]
  },
  {
   "cell_type": "code",
   "execution_count": null,
   "id": "43a68e96",
   "metadata": {},
   "outputs": [],
   "source": [
    "# Topic: Functions\n",
    "def greet(name='User'):\n",
    "    print(f'Hi, {name}')\n",
    "greet()"
   ]
  },
  {
   "cell_type": "code",
   "execution_count": null,
   "id": "4af5f404",
   "metadata": {},
   "outputs": [],
   "source": [
    "# Topic: Loops\n",
    "while True:\n",
    "    print('Break')\n",
    "    break"
   ]
  },
  {
   "cell_type": "code",
   "execution_count": null,
   "id": "6b59048b",
   "metadata": {},
   "outputs": [],
   "source": [
    "# Topic: Matplotlib & Seaborn\n",
    "import seaborn as sns\n",
    "import pandas as pd\n",
    "sns.set()\n",
    "sns.histplot(pd.Series([1,2,2,3]));"
   ]
  },
  {
   "cell_type": "code",
   "execution_count": null,
   "id": "06f29a1b",
   "metadata": {},
   "outputs": [],
   "source": [
    "# Topic: Matplotlib & Seaborn\n",
    "import matplotlib.pyplot as plt\n",
    "plt.plot([1,2],[3,4])\n",
    "plt.show()"
   ]
  },
  {
   "cell_type": "code",
   "execution_count": null,
   "id": "40583429",
   "metadata": {},
   "outputs": [],
   "source": [
    "# Topic: JSON & CSV\n",
    "import json\n",
    "data = {'a': 1}\n",
    "print(json.dumps(data))"
   ]
  },
  {
   "cell_type": "code",
   "execution_count": null,
   "id": "7358157f",
   "metadata": {},
   "outputs": [],
   "source": [
    "# Topic: Pandas\n",
    "import pandas as pd\n",
    "df = pd.read_csv('file.csv')\n",
    "print(df.head())"
   ]
  },
  {
   "cell_type": "code",
   "execution_count": null,
   "id": "14ae0625",
   "metadata": {},
   "outputs": [],
   "source": [
    "# Topic: Regex\n",
    "import re\n",
    "text = 'email: test@example.com'\n",
    "print(re.findall(r'\\S+@\\S+', text))"
   ]
  },
  {
   "cell_type": "code",
   "execution_count": null,
   "id": "ec3cb9a7",
   "metadata": {},
   "outputs": [],
   "source": [
    "# Topic: Loops\n",
    "while True:\n",
    "    print('Break')\n",
    "    break"
   ]
  },
  {
   "cell_type": "code",
   "execution_count": null,
   "id": "40c90971",
   "metadata": {},
   "outputs": [],
   "source": [
    "# Topic: JSON & CSV\n",
    "import json\n",
    "data = {'a': 1}\n",
    "print(json.dumps(data))"
   ]
  },
  {
   "cell_type": "code",
   "execution_count": null,
   "id": "45c5c023",
   "metadata": {},
   "outputs": [],
   "source": [
    "# Topic: Basics\n",
    "x = 10\n",
    "y = 20\n",
    "print(x + y)"
   ]
  },
  {
   "cell_type": "code",
   "execution_count": null,
   "id": "aca13cdb",
   "metadata": {},
   "outputs": [],
   "source": [
    "# Topic: Mini Projects\n",
    "# Calculator\n",
    "def calc(a,b,op): return eval(f'{a}{op}{b}')\n",
    "print(calc(5,2,'+'))"
   ]
  },
  {
   "cell_type": "code",
   "execution_count": null,
   "id": "b35c7887",
   "metadata": {},
   "outputs": [],
   "source": [
    "# Topic: Dictionaries & Sets\n",
    "s = set([1, 2, 3, 2])\n",
    "print(s)"
   ]
  },
  {
   "cell_type": "code",
   "execution_count": null,
   "id": "352f5a19",
   "metadata": {},
   "outputs": [],
   "source": [
    "# Topic: JSON & CSV\n",
    "import csv\n",
    "with open('file.csv', 'w', newline='') as f:\n",
    " csv.writer(f).writerow(['a','b','c'])"
   ]
  },
  {
   "cell_type": "code",
   "execution_count": null,
   "id": "c4103c95",
   "metadata": {},
   "outputs": [],
   "source": [
    "# Topic: Decorators\n",
    "def log(func):\n",
    " def wrapper():\n",
    "  print('Call')\n",
    "  func()\n",
    " return wrapper\n",
    "@log\n",
    "def say(): print('Hi')\n",
    "say()"
   ]
  },
  {
   "cell_type": "code",
   "execution_count": null,
   "id": "73b6078b",
   "metadata": {},
   "outputs": [],
   "source": [
    "# Topic: Mini Projects\n",
    "# Calculator\n",
    "def calc(a,b,op): return eval(f'{a}{op}{b}')\n",
    "print(calc(5,2,'+'))"
   ]
  },
  {
   "cell_type": "code",
   "execution_count": null,
   "id": "1376cf90",
   "metadata": {},
   "outputs": [],
   "source": [
    "# Topic: NumPy\n",
    "import numpy as np\n",
    "print(np.linspace(0, 1, 5))"
   ]
  },
  {
   "cell_type": "code",
   "execution_count": null,
   "id": "19929332",
   "metadata": {},
   "outputs": [],
   "source": [
    "# Topic: Matplotlib & Seaborn\n",
    "import seaborn as sns\n",
    "import pandas as pd\n",
    "sns.set()\n",
    "sns.histplot(pd.Series([1,2,2,3]));"
   ]
  },
  {
   "cell_type": "code",
   "execution_count": null,
   "id": "74dc9062",
   "metadata": {},
   "outputs": [],
   "source": [
    "# Topic: Mini Projects\n",
    "# Calculator\n",
    "def calc(a,b,op): return eval(f'{a}{op}{b}')\n",
    "print(calc(5,2,'+'))"
   ]
  },
  {
   "cell_type": "code",
   "execution_count": null,
   "id": "cd839d54",
   "metadata": {},
   "outputs": [],
   "source": [
    "# Topic: Data Cleaning\n",
    "import pandas as pd\n",
    "df = pd.DataFrame({'A':[1,None,3]})\n",
    "df = df.fillna(0)\n",
    "print(df)"
   ]
  },
  {
   "cell_type": "code",
   "execution_count": null,
   "id": "9100d325",
   "metadata": {},
   "outputs": [],
   "source": [
    "# Topic: Functions\n",
    "def greet(name='User'):\n",
    "    print(f'Hi, {name}')\n",
    "greet()"
   ]
  },
  {
   "cell_type": "code",
   "execution_count": null,
   "id": "c37916e6",
   "metadata": {},
   "outputs": [],
   "source": [
    "# Topic: Basics\n",
    "x = 10\n",
    "y = 20\n",
    "print(x + y)"
   ]
  },
  {
   "cell_type": "code",
   "execution_count": null,
   "id": "cbe706a9",
   "metadata": {},
   "outputs": [],
   "source": [
    "# Topic: Web Scraping\n",
    "import requests\n",
    "from bs4 import BeautifulSoup\n",
    "r = requests.get('https://example.com')\n",
    "soup = BeautifulSoup(r.text, 'html.parser')\n",
    "print(soup.title.text)"
   ]
  },
  {
   "cell_type": "code",
   "execution_count": null,
   "id": "939dc6ec",
   "metadata": {},
   "outputs": [],
   "source": [
    "# Topic: Lists & Tuples\n",
    "t = (1, 2, 3)\n",
    "print(t[0])"
   ]
  },
  {
   "cell_type": "code",
   "execution_count": null,
   "id": "3a5677b4",
   "metadata": {},
   "outputs": [],
   "source": [
    "# Topic: File I/O\n",
    "with open('test.txt', 'r') as f:\n",
    "    print(f.read())"
   ]
  },
  {
   "cell_type": "code",
   "execution_count": null,
   "id": "35e52d74",
   "metadata": {},
   "outputs": [],
   "source": [
    "# Topic: Regex\n",
    "import re\n",
    "text = 'email: test@example.com'\n",
    "print(re.findall(r'\\S+@\\S+', text))"
   ]
  },
  {
   "cell_type": "code",
   "execution_count": null,
   "id": "b78d023d",
   "metadata": {},
   "outputs": [],
   "source": [
    "# Topic: Functions\n",
    "def greet(name='User'):\n",
    "    print(f'Hi, {name}')\n",
    "greet()"
   ]
  },
  {
   "cell_type": "code",
   "execution_count": null,
   "id": "8477cb05",
   "metadata": {},
   "outputs": [],
   "source": [
    "# Topic: Regex\n",
    "import re\n",
    "text = 'email: test@example.com'\n",
    "print(re.findall(r'\\S+@\\S+', text))"
   ]
  },
  {
   "cell_type": "code",
   "execution_count": null,
   "id": "ae29d256",
   "metadata": {},
   "outputs": [],
   "source": [
    "# Topic: Matplotlib & Seaborn\n",
    "import matplotlib.pyplot as plt\n",
    "plt.plot([1,2],[3,4])\n",
    "plt.show()"
   ]
  },
  {
   "cell_type": "code",
   "execution_count": null,
   "id": "bce83d15",
   "metadata": {},
   "outputs": [],
   "source": [
    "# Topic: Matplotlib & Seaborn\n",
    "import matplotlib.pyplot as plt\n",
    "plt.plot([1,2],[3,4])\n",
    "plt.show()"
   ]
  },
  {
   "cell_type": "code",
   "execution_count": null,
   "id": "e63d4a63",
   "metadata": {},
   "outputs": [],
   "source": [
    "# Topic: OOP\n",
    "class Student:\n",
    "    def __init__(self, name): self.name = name\n",
    "s = Student('Fahd')\n",
    "print(s.name)"
   ]
  },
  {
   "cell_type": "code",
   "execution_count": null,
   "id": "81aa6efe",
   "metadata": {},
   "outputs": [],
   "source": [
    "# Topic: Regex\n",
    "import re\n",
    "text = 'email: test@example.com'\n",
    "print(re.findall(r'\\S+@\\S+', text))"
   ]
  },
  {
   "cell_type": "code",
   "execution_count": null,
   "id": "ca1af63e",
   "metadata": {},
   "outputs": [],
   "source": [
    "# Topic: Dictionaries & Sets\n",
    "s = set([1, 2, 3, 2])\n",
    "print(s)"
   ]
  },
  {
   "cell_type": "code",
   "execution_count": null,
   "id": "5a929d64",
   "metadata": {},
   "outputs": [],
   "source": [
    "# Topic: Regex\n",
    "import re\n",
    "text = 'email: test@example.com'\n",
    "print(re.findall(r'\\S+@\\S+', text))"
   ]
  },
  {
   "cell_type": "code",
   "execution_count": null,
   "id": "f22c1ac3",
   "metadata": {},
   "outputs": [],
   "source": [
    "# Topic: Lists & Tuples\n",
    "t = (1, 2, 3)\n",
    "print(t[0])"
   ]
  },
  {
   "cell_type": "code",
   "execution_count": null,
   "id": "d7138f58",
   "metadata": {},
   "outputs": [],
   "source": [
    "# Topic: Loops\n",
    "while True:\n",
    "    print('Break')\n",
    "    break"
   ]
  },
  {
   "cell_type": "code",
   "execution_count": null,
   "id": "1bc7eac5",
   "metadata": {},
   "outputs": [],
   "source": [
    "# Topic: OOP\n",
    "class Student:\n",
    "    def __init__(self, name): self.name = name\n",
    "s = Student('Fahd')\n",
    "print(s.name)"
   ]
  },
  {
   "cell_type": "code",
   "execution_count": null,
   "id": "884ce336",
   "metadata": {},
   "outputs": [],
   "source": [
    "# Topic: Decorators\n",
    "def log(func):\n",
    " def wrapper():\n",
    "  print('Call')\n",
    "  func()\n",
    " return wrapper\n",
    "@log\n",
    "def say(): print('Hi')\n",
    "say()"
   ]
  },
  {
   "cell_type": "code",
   "execution_count": null,
   "id": "d2b07079",
   "metadata": {},
   "outputs": [],
   "source": [
    "# Topic: CLI Tools\n",
    "import sys\n",
    "print(f'Arguments: {sys.argv}')"
   ]
  },
  {
   "cell_type": "code",
   "execution_count": null,
   "id": "e4e76048",
   "metadata": {},
   "outputs": [],
   "source": [
    "# Topic: Data Cleaning\n",
    "import pandas as pd\n",
    "df = pd.DataFrame({'A':[1,None,3]})\n",
    "df = df.fillna(0)\n",
    "print(df)"
   ]
  },
  {
   "cell_type": "code",
   "execution_count": null,
   "id": "79a1a1af",
   "metadata": {},
   "outputs": [],
   "source": [
    "# Topic: Pandas\n",
    "import pandas as pd\n",
    "df = pd.read_csv('file.csv')\n",
    "print(df.head())"
   ]
  },
  {
   "cell_type": "code",
   "execution_count": null,
   "id": "8fa880ad",
   "metadata": {},
   "outputs": [],
   "source": [
    "# Topic: Loops\n",
    "while True:\n",
    "    print('Break')\n",
    "    break"
   ]
  },
  {
   "cell_type": "code",
   "execution_count": null,
   "id": "82e5bc50",
   "metadata": {},
   "outputs": [],
   "source": [
    "# Topic: JSON & CSV\n",
    "import json\n",
    "data = {'a': 1}\n",
    "print(json.dumps(data))"
   ]
  },
  {
   "cell_type": "code",
   "execution_count": null,
   "id": "63ad18f2",
   "metadata": {},
   "outputs": [],
   "source": [
    "# Topic: Lists & Tuples\n",
    "lst = [1, 2, 3]\n",
    "lst.append(4)\n",
    "print(lst)"
   ]
  },
  {
   "cell_type": "code",
   "execution_count": null,
   "id": "3d804e0a",
   "metadata": {},
   "outputs": [],
   "source": [
    "# Topic: Matplotlib & Seaborn\n",
    "import matplotlib.pyplot as plt\n",
    "plt.plot([1,2],[3,4])\n",
    "plt.show()"
   ]
  },
  {
   "cell_type": "code",
   "execution_count": null,
   "id": "9567f199",
   "metadata": {},
   "outputs": [],
   "source": [
    "# Topic: Regex\n",
    "import re\n",
    "text = 'email: test@example.com'\n",
    "print(re.findall(r'\\S+@\\S+', text))"
   ]
  },
  {
   "cell_type": "code",
   "execution_count": null,
   "id": "39e1413a",
   "metadata": {},
   "outputs": [],
   "source": [
    "# Topic: Decorators\n",
    "def log(func):\n",
    " def wrapper():\n",
    "  print('Call')\n",
    "  func()\n",
    " return wrapper\n",
    "@log\n",
    "def say(): print('Hi')\n",
    "say()"
   ]
  },
  {
   "cell_type": "code",
   "execution_count": null,
   "id": "ce350d48",
   "metadata": {},
   "outputs": [],
   "source": [
    "# Topic: Lists & Tuples\n",
    "lst = [1, 2, 3]\n",
    "lst.append(4)\n",
    "print(lst)"
   ]
  }
 ],
 "metadata": {},
 "nbformat": 4,
 "nbformat_minor": 5
}
