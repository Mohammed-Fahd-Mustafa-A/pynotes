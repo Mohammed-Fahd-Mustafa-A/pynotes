{
 "cells": [
  {
   "cell_type": "code",
   "execution_count": 1,
   "id": "18338c29-b5da-4680-b399-2fcbf54f0604",
   "metadata": {},
   "outputs": [],
   "source": [
    "# Quiz data as a list of dictionaries\n",
    "quiz = [\n",
    "    {\"question\": \"What is the capital of France?\", \"options\": [\"Paris\", \"London\", \"Berlin\", \"Rome\"], \"answer\": \"Paris\"},\n",
    "    {\"question\": \"Which planet is known as the Red Planet?\", \"options\": [\"Earth\", \"Mars\", \"Venus\", \"Jupiter\"], \"answer\": \"Mars\"},\n",
    "    {\"question\": \"Who wrote '1984'?\", \"options\": [\"George Orwell\", \"Mark Twain\", \"J.K. Rowling\", \"Ernest Hemingway\"], \"answer\": \"George Orwell\"},\n",
    "    {\"question\": \"What is the square root of 64?\", \"options\": [\"6\", \"8\", \"10\", \"7\"], \"answer\": \"8\"},\n",
    "    {\"question\": \"Which element has the chemical symbol 'O'?\", \"options\": [\"Oxygen\", \"Gold\", \"Iron\", \"Hydrogen\"], \"answer\": \"Oxygen\"}\n",
    "]\n"
   ]
  },
  {
   "cell_type": "code",
   "execution_count": 2,
   "id": "44a1a7f2-af1a-485e-814e-a2bb5e8f7051",
   "metadata": {},
   "outputs": [],
   "source": [
    "import random\n",
    "import time\n"
   ]
  },
  {
   "cell_type": "code",
   "execution_count": 19,
   "id": "4f5fc321-4f46-4189-8501-add4030d7911",
   "metadata": {},
   "outputs": [],
   "source": [
    "random.shuffle(quiz)\n"
   ]
  },
  {
   "cell_type": "code",
   "execution_count": 20,
   "id": "d5473730-2b6d-4b9b-b28e-89dbaadae43f",
   "metadata": {},
   "outputs": [],
   "source": [
    "start_time = time.time()\n"
   ]
  },
  {
   "cell_type": "code",
   "execution_count": 21,
   "id": "35025544-d1f2-4590-9c7d-d8d90e8e9d7e",
   "metadata": {},
   "outputs": [],
   "source": [
    "score = 0\n",
    "responses = []\n"
   ]
  },
  {
   "cell_type": "code",
   "execution_count": 22,
   "id": "dbf8a86e-cfa4-4635-bbbe-211bca6bd891",
   "metadata": {},
   "outputs": [],
   "source": [
    "def ask_question(q_data, index):\n",
    "    print(f\"\\nQ{index + 1}: {q_data['question']}\")\n",
    "    for i, option in enumerate(q_data[\"options\"], 1):\n",
    "        print(f\"{i}. {option}\")\n",
    "    return input(\"Enter the option number: \")\n"
   ]
  },
  {
   "cell_type": "code",
   "execution_count": 23,
   "id": "0c83d2d8-ee00-4ec7-81e2-ece8bf5456a7",
   "metadata": {},
   "outputs": [
    {
     "name": "stdout",
     "output_type": "stream",
     "text": [
      "\n",
      "Q1: What is the square root of 64?\n",
      "1. 6\n",
      "2. 8\n",
      "3. 10\n",
      "4. 7\n"
     ]
    },
    {
     "name": "stdin",
     "output_type": "stream",
     "text": [
      "Enter the option number:  2\n"
     ]
    },
    {
     "name": "stdout",
     "output_type": "stream",
     "text": [
      "✅ Correct!\n",
      "\n",
      "Q2: Who wrote '1984'?\n",
      "1. George Orwell\n",
      "2. Mark Twain\n",
      "3. J.K. Rowling\n",
      "4. Ernest Hemingway\n"
     ]
    },
    {
     "name": "stdin",
     "output_type": "stream",
     "text": [
      "Enter the option number:  1\n"
     ]
    },
    {
     "name": "stdout",
     "output_type": "stream",
     "text": [
      "✅ Correct!\n",
      "\n",
      "Q3: Which element has the chemical symbol 'O'?\n",
      "1. Oxygen\n",
      "2. Gold\n",
      "3. Iron\n",
      "4. Hydrogen\n"
     ]
    },
    {
     "name": "stdin",
     "output_type": "stream",
     "text": [
      "Enter the option number:  1\n"
     ]
    },
    {
     "name": "stdout",
     "output_type": "stream",
     "text": [
      "✅ Correct!\n",
      "\n",
      "Q4: What is the capital of France?\n",
      "1. Paris\n",
      "2. London\n",
      "3. Berlin\n",
      "4. Rome\n"
     ]
    },
    {
     "name": "stdin",
     "output_type": "stream",
     "text": [
      "Enter the option number:  1\n"
     ]
    },
    {
     "name": "stdout",
     "output_type": "stream",
     "text": [
      "✅ Correct!\n",
      "\n",
      "Q5: Which planet is known as the Red Planet?\n",
      "1. Earth\n",
      "2. Mars\n",
      "3. Venus\n",
      "4. Jupiter\n"
     ]
    },
    {
     "name": "stdin",
     "output_type": "stream",
     "text": [
      "Enter the option number:  2\n"
     ]
    },
    {
     "name": "stdout",
     "output_type": "stream",
     "text": [
      "✅ Correct!\n"
     ]
    }
   ],
   "source": [
    "for i, q in enumerate(quiz):\n",
    "    user_input = ask_question(q, i)\n",
    "    try:\n",
    "        selected = q[\"options\"][int(user_input) - 1]\n",
    "    except (IndexError, ValueError):\n",
    "        selected = \"Invalid\"\n",
    "    \n",
    "    correct = selected == q[\"answer\"]\n",
    "    responses.append((q[\"question\"], selected, q[\"answer\"], correct))\n",
    "    if correct:\n",
    "        print(\"✅ Correct!\")\n",
    "        score += 1\n",
    "    else:\n",
    "        print(f\"❌ Incorrect! The correct answer was: {q['answer']}\")\n"
   ]
  },
  {
   "cell_type": "code",
   "execution_count": 24,
   "id": "90bdc28d-480e-48e6-a382-b5dab7f02bbc",
   "metadata": {},
   "outputs": [],
   "source": [
    "end_time = time.time()\n",
    "total_time = round(end_time - start_time, 2)\n"
   ]
  },
  {
   "cell_type": "code",
   "execution_count": 25,
   "id": "d28baa39-37d9-47a3-bb7f-f0ec7f9d766d",
   "metadata": {},
   "outputs": [
    {
     "name": "stdout",
     "output_type": "stream",
     "text": [
      "\n",
      "📊 Quiz Summary:\n",
      "Total Questions: 5\n",
      "Correct Answers: 5\n",
      "Wrong Answers: 0\n",
      "Time Taken: 39.25 seconds\n"
     ]
    }
   ],
   "source": [
    "print(\"\\n📊 Quiz Summary:\")\n",
    "print(f\"Total Questions: {len(quiz)}\")\n",
    "print(f\"Correct Answers: {score}\")\n",
    "print(f\"Wrong Answers: {len(quiz) - score}\")\n",
    "print(f\"Time Taken: {total_time} seconds\")\n"
   ]
  },
  {
   "cell_type": "code",
   "execution_count": 26,
   "id": "8cfab430-9ccb-4440-8df1-b8b4e0c13dcf",
   "metadata": {},
   "outputs": [
    {
     "name": "stdout",
     "output_type": "stream",
     "text": [
      "\n",
      "Question: What is the square root of 64?\n",
      "Your Answer: 8\n",
      "Correct Answer: 8\n",
      "✅\n",
      "\n",
      "Question: Who wrote '1984'?\n",
      "Your Answer: George Orwell\n",
      "Correct Answer: George Orwell\n",
      "✅\n",
      "\n",
      "Question: Which element has the chemical symbol 'O'?\n",
      "Your Answer: Oxygen\n",
      "Correct Answer: Oxygen\n",
      "✅\n",
      "\n",
      "Question: What is the capital of France?\n",
      "Your Answer: Paris\n",
      "Correct Answer: Paris\n",
      "✅\n",
      "\n",
      "Question: Which planet is known as the Red Planet?\n",
      "Your Answer: Mars\n",
      "Correct Answer: Mars\n",
      "✅\n"
     ]
    }
   ],
   "source": [
    "for q, user_ans, correct_ans, result in responses:\n",
    "    print(f\"\\nQuestion: {q}\")\n",
    "    print(f\"Your Answer: {user_ans}\")\n",
    "    print(f\"Correct Answer: {correct_ans}\")\n",
    "    print(\"✅\" if result else \"❌\")\n"
   ]
  },
  {
   "cell_type": "code",
   "execution_count": 27,
   "id": "8591308b-a08f-4e5f-9bde-15c1f09185e8",
   "metadata": {},
   "outputs": [
    {
     "name": "stdout",
     "output_type": "stream",
     "text": [
      "\n",
      "Your Score Percentage: 100.00%\n"
     ]
    }
   ],
   "source": [
    "percentage = (score / len(quiz)) * 100\n",
    "print(f\"\\nYour Score Percentage: {percentage:.2f}%\")\n"
   ]
  },
  {
   "cell_type": "code",
   "execution_count": 28,
   "id": "275e50fd-811a-4c40-8a2b-a32ff755a7c6",
   "metadata": {},
   "outputs": [
    {
     "name": "stdout",
     "output_type": "stream",
     "text": [
      "🌟 Excellent performance!\n"
     ]
    }
   ],
   "source": [
    "if percentage >= 90:\n",
    "    feedback = \"🌟 Excellent performance!\"\n",
    "elif percentage >= 70:\n",
    "    feedback = \"👍 Good job!\"\n",
    "elif percentage >= 50:\n",
    "    feedback = \"🙂 Fair effort, keep practicing!\"\n",
    "else:\n",
    "    feedback = \"😓 Needs improvement.\"\n",
    "print(feedback)\n"
   ]
  },
  {
   "cell_type": "code",
   "execution_count": 30,
   "id": "a8dd980b-cff9-4ce3-9c5e-33bb74618ae7",
   "metadata": {},
   "outputs": [],
   "source": [
    "with open(\"quiz_results.txt\", \"w\", encoding=\"utf-8\") as file:\n",
    "    for q, u, c, r in responses:\n",
    "        file.write(f\"Q: {q}\\nYour Answer: {u}\\nCorrect Answer: {c}\\n{'Correct' if r else 'Wrong'}\\n\\n\")\n",
    "    file.write(f\"Score: {score}/{len(quiz)}\\nPercentage: {percentage:.2f}%\\nFeedback: {feedback}\")\n"
   ]
  },
  {
   "cell_type": "code",
   "execution_count": 31,
   "id": "043ae0c4-ba97-426d-ae28-7e5343bfa39f",
   "metadata": {},
   "outputs": [
    {
     "name": "stdout",
     "output_type": "stream",
     "text": [
      "\n",
      "📁 Saved Result File:\n",
      "\n",
      "Q: What is the square root of 64?\n",
      "Your Answer: 8\n",
      "Correct Answer: 8\n",
      "Correct\n",
      "\n",
      "Q: Who wrote '1984'?\n",
      "Your Answer: George Orwell\n",
      "Correct Answer: George Orwell\n",
      "Correct\n",
      "\n",
      "Q: Which element has the chemical symbol 'O'?\n",
      "Your Answer: Oxygen\n",
      "Correct Answer: Oxygen\n",
      "Correct\n",
      "\n",
      "Q: What is the capital of France?\n",
      "Your Answer: Paris\n",
      "Correct Answer: Paris\n",
      "Correct\n",
      "\n",
      "Q: Which planet is known as the Red Planet?\n",
      "Your Answer: Mars\n",
      "Correct Answer: Mars\n",
      "Correct\n",
      "\n",
      "Score: 5/5\n",
      "Percentage: 100.00%\n",
      "Feedback: ðŸŒŸ Excellent performance!\n"
     ]
    }
   ],
   "source": [
    "with open(\"quiz_results.txt\", \"r\") as file:\n",
    "    print(\"\\n📁 Saved Result File:\\n\")\n",
    "    print(file.read())\n"
   ]
  },
  {
   "cell_type": "code",
   "execution_count": 32,
   "id": "2029b327-1cb2-4c0b-9231-75b576bfe42e",
   "metadata": {},
   "outputs": [],
   "source": [
    "new_q = {\n",
    "    \"question\": \"What language is this quiz written in?\",\n",
    "    \"options\": [\"Java\", \"C++\", \"Python\", \"Go\"],\n",
    "    \"answer\": \"Python\"\n",
    "}\n",
    "quiz.append(new_q)\n"
   ]
  },
  {
   "cell_type": "code",
   "execution_count": null,
   "id": "6822d0cb-9e4b-42b9-a35e-a70282322785",
   "metadata": {},
   "outputs": [],
   "source": []
  }
 ],
 "metadata": {
  "kernelspec": {
   "display_name": "Python 3 (ipykernel)",
   "language": "python",
   "name": "python3"
  },
  "language_info": {
   "codemirror_mode": {
    "name": "ipython",
    "version": 3
   },
   "file_extension": ".py",
   "mimetype": "text/x-python",
   "name": "python",
   "nbconvert_exporter": "python",
   "pygments_lexer": "ipython3",
   "version": "3.12.11"
  }
 },
 "nbformat": 4,
 "nbformat_minor": 5
}
