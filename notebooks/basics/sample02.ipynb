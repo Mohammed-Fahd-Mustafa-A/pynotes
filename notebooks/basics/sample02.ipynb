{
 "cells": [
  {
   "cell_type": "code",
   "execution_count": null,
   "id": "18a99a20",
   "metadata": {},
   "outputs": [],
   "source": [
    "# Topic: Matplotlib & Seaborn\n",
    "import matplotlib.pyplot as plt\n",
    "plt.plot([1,2],[3,4])\n",
    "plt.show()"
   ]
  },
  {
   "cell_type": "code",
   "execution_count": null,
   "id": "0a0ab283",
   "metadata": {},
   "outputs": [],
   "source": [
    "# Topic: Dictionaries & Sets\n",
    "s = set([1, 2, 3, 2])\n",
    "print(s)"
   ]
  },
  {
   "cell_type": "code",
   "execution_count": null,
   "id": "258ea95d",
   "metadata": {},
   "outputs": [],
   "source": [
    "# Topic: OOP\n",
    "class Student:\n",
    "    def __init__(self, name): self.name = name\n",
    "s = Student('Fahd')\n",
    "print(s.name)"
   ]
  },
  {
   "cell_type": "code",
   "execution_count": null,
   "id": "35329a03",
   "metadata": {},
   "outputs": [],
   "source": [
    "# Topic: Loops\n",
    "while True:\n",
    "    print('Break')\n",
    "    break"
   ]
  },
  {
   "cell_type": "code",
   "execution_count": null,
   "id": "c4a23ab1",
   "metadata": {},
   "outputs": [],
   "source": [
    "# Topic: File I/O\n",
    "with open('test.txt', 'w') as f:\n",
    "    f.write('Hello World')"
   ]
  },
  {
   "cell_type": "code",
   "execution_count": null,
   "id": "a5e45cae",
   "metadata": {},
   "outputs": [],
   "source": [
    "# Topic: Regex\n",
    "import re\n",
    "text = 'email: test@example.com'\n",
    "print(re.findall(r'\\S+@\\S+', text))"
   ]
  },
  {
   "cell_type": "code",
   "execution_count": null,
   "id": "9318539a",
   "metadata": {},
   "outputs": [],
   "source": [
    "# Topic: Lists & Tuples\n",
    "lst = [1, 2, 3]\n",
    "lst.append(4)\n",
    "print(lst)"
   ]
  },
  {
   "cell_type": "code",
   "execution_count": null,
   "id": "27b102fe",
   "metadata": {},
   "outputs": [],
   "source": [
    "# Topic: Sorting Algorithms\n",
    "def bubble_sort(arr):\n",
    " for i in range(len(arr)):\n",
    "  for j in range(0, len(arr)-i-1):\n",
    "   if arr[j]>arr[j+1]: arr[j], arr[j+1]=arr[j+1], arr[j]\n",
    "a = [5,3,8,6]\n",
    "bubble_sort(a)\n",
    "print(a)"
   ]
  },
  {
   "cell_type": "code",
   "execution_count": null,
   "id": "4b3e0fd0",
   "metadata": {},
   "outputs": [],
   "source": [
    "# Topic: Lists & Tuples\n",
    "t = (1, 2, 3)\n",
    "print(t[0])"
   ]
  },
  {
   "cell_type": "code",
   "execution_count": null,
   "id": "e40982dc",
   "metadata": {},
   "outputs": [],
   "source": [
    "# Topic: Decorators\n",
    "def log(func):\n",
    " def wrapper():\n",
    "  print('Call')\n",
    "  func()\n",
    " return wrapper\n",
    "@log\n",
    "def say(): print('Hi')\n",
    "say()"
   ]
  },
  {
   "cell_type": "code",
   "execution_count": null,
   "id": "a55c40bf",
   "metadata": {},
   "outputs": [],
   "source": [
    "# Topic: Functions\n",
    "def square(x): return x*x\n",
    "print(square(5))"
   ]
  },
  {
   "cell_type": "code",
   "execution_count": null,
   "id": "a868e8c9",
   "metadata": {},
   "outputs": [],
   "source": [
    "# Topic: Mini Projects\n",
    "# Palindrome check\n",
    "def is_pal(s): return s == s[::-1]\n",
    "print(is_pal('madam'))"
   ]
  },
  {
   "cell_type": "code",
   "execution_count": null,
   "id": "d5568531",
   "metadata": {},
   "outputs": [],
   "source": [
    "# Topic: JSON & CSV\n",
    "import json\n",
    "data = {'a': 1}\n",
    "print(json.dumps(data))"
   ]
  },
  {
   "cell_type": "code",
   "execution_count": null,
   "id": "c88198df",
   "metadata": {},
   "outputs": [],
   "source": [
    "# Topic: Loops\n",
    "for i in range(10): print(i*i)"
   ]
  },
  {
   "cell_type": "code",
   "execution_count": null,
   "id": "b8ea3869",
   "metadata": {},
   "outputs": [],
   "source": [
    "# Topic: Decorators\n",
    "def log(func):\n",
    " def wrapper():\n",
    "  print('Call')\n",
    "  func()\n",
    " return wrapper\n",
    "@log\n",
    "def say(): print('Hi')\n",
    "say()"
   ]
  },
  {
   "cell_type": "code",
   "execution_count": null,
   "id": "3e59f5a1",
   "metadata": {},
   "outputs": [],
   "source": [
    "# Topic: Basic ML\n",
    "from sklearn.linear_model import LinearRegression\n",
    "model = LinearRegression()\n",
    "print(model)"
   ]
  },
  {
   "cell_type": "code",
   "execution_count": null,
   "id": "4e86a2ea",
   "metadata": {},
   "outputs": [],
   "source": [
    "# Topic: Decorators\n",
    "def log(func):\n",
    " def wrapper():\n",
    "  print('Call')\n",
    "  func()\n",
    " return wrapper\n",
    "@log\n",
    "def say(): print('Hi')\n",
    "say()"
   ]
  },
  {
   "cell_type": "code",
   "execution_count": null,
   "id": "1e00dd71",
   "metadata": {},
   "outputs": [],
   "source": [
    "# Topic: Lists & Tuples\n",
    "lst = [1, 2, 3]\n",
    "lst.append(4)\n",
    "print(lst)"
   ]
  },
  {
   "cell_type": "code",
   "execution_count": null,
   "id": "81bb4d80",
   "metadata": {},
   "outputs": [],
   "source": [
    "# Topic: Mini Projects\n",
    "# Calculator\n",
    "def calc(a,b,op): return eval(f'{a}{op}{b}')\n",
    "print(calc(5,2,'+'))"
   ]
  },
  {
   "cell_type": "code",
   "execution_count": null,
   "id": "86b7d50a",
   "metadata": {},
   "outputs": [],
   "source": [
    "# Topic: OOP\n",
    "class Student:\n",
    "    def __init__(self, name): self.name = name\n",
    "s = Student('Fahd')\n",
    "print(s.name)"
   ]
  },
  {
   "cell_type": "code",
   "execution_count": null,
   "id": "7d66f8dd",
   "metadata": {},
   "outputs": [],
   "source": [
    "# Topic: NumPy\n",
    "import numpy as np\n",
    "a = np.array([1, 2, 3])\n",
    "print(a + 5)"
   ]
  },
  {
   "cell_type": "code",
   "execution_count": null,
   "id": "d7d6c5cf",
   "metadata": {},
   "outputs": [],
   "source": [
    "# Topic: Sorting Algorithms\n",
    "def bubble_sort(arr):\n",
    " for i in range(len(arr)):\n",
    "  for j in range(0, len(arr)-i-1):\n",
    "   if arr[j]>arr[j+1]: arr[j], arr[j+1]=arr[j+1], arr[j]\n",
    "a = [5,3,8,6]\n",
    "bubble_sort(a)\n",
    "print(a)"
   ]
  },
  {
   "cell_type": "code",
   "execution_count": null,
   "id": "d5016639",
   "metadata": {},
   "outputs": [],
   "source": [
    "# Topic: Decorators\n",
    "def log(func):\n",
    " def wrapper():\n",
    "  print('Call')\n",
    "  func()\n",
    " return wrapper\n",
    "@log\n",
    "def say(): print('Hi')\n",
    "say()"
   ]
  },
  {
   "cell_type": "code",
   "execution_count": null,
   "id": "52f463c7",
   "metadata": {},
   "outputs": [],
   "source": [
    "# Topic: JSON & CSV\n",
    "import csv\n",
    "with open('file.csv', 'w', newline='') as f:\n",
    " csv.writer(f).writerow(['a','b','c'])"
   ]
  },
  {
   "cell_type": "code",
   "execution_count": null,
   "id": "c5935c41",
   "metadata": {},
   "outputs": [],
   "source": [
    "# Topic: JSON & CSV\n",
    "import csv\n",
    "with open('file.csv', 'w', newline='') as f:\n",
    " csv.writer(f).writerow(['a','b','c'])"
   ]
  },
  {
   "cell_type": "code",
   "execution_count": null,
   "id": "80437a84",
   "metadata": {},
   "outputs": [],
   "source": [
    "# Topic: Loops\n",
    "while True:\n",
    "    print('Break')\n",
    "    break"
   ]
  },
  {
   "cell_type": "code",
   "execution_count": null,
   "id": "983578e2",
   "metadata": {},
   "outputs": [],
   "source": [
    "# Topic: File I/O\n",
    "with open('test.txt', 'r') as f:\n",
    "    print(f.read())"
   ]
  },
  {
   "cell_type": "code",
   "execution_count": null,
   "id": "65ad05bc",
   "metadata": {},
   "outputs": [],
   "source": [
    "# Topic: Dictionaries & Sets\n",
    "d = {'name': 'Fahd', 'age': 20}\n",
    "print(d.get('name'))"
   ]
  },
  {
   "cell_type": "code",
   "execution_count": null,
   "id": "9de62256",
   "metadata": {},
   "outputs": [],
   "source": [
    "# Topic: Basics\n",
    "name = 'Fahd'\n",
    "print(f'Hello, {name}')"
   ]
  },
  {
   "cell_type": "code",
   "execution_count": null,
   "id": "588a07d3",
   "metadata": {},
   "outputs": [],
   "source": [
    "# Topic: Data Cleaning\n",
    "import pandas as pd\n",
    "df = pd.DataFrame({'A':[1,None,3]})\n",
    "df = df.fillna(0)\n",
    "print(df)"
   ]
  },
  {
   "cell_type": "code",
   "execution_count": null,
   "id": "1f87dd74",
   "metadata": {},
   "outputs": [],
   "source": [
    "# Topic: Decorators\n",
    "def log(func):\n",
    " def wrapper():\n",
    "  print('Call')\n",
    "  func()\n",
    " return wrapper\n",
    "@log\n",
    "def say(): print('Hi')\n",
    "say()"
   ]
  },
  {
   "cell_type": "code",
   "execution_count": null,
   "id": "eaf4f948",
   "metadata": {},
   "outputs": [],
   "source": [
    "# Topic: Dictionaries & Sets\n",
    "s = set([1, 2, 3, 2])\n",
    "print(s)"
   ]
  },
  {
   "cell_type": "code",
   "execution_count": null,
   "id": "b67cc661",
   "metadata": {},
   "outputs": [],
   "source": [
    "# Topic: Basic ML\n",
    "from sklearn.linear_model import LinearRegression\n",
    "model = LinearRegression()\n",
    "print(model)"
   ]
  },
  {
   "cell_type": "code",
   "execution_count": null,
   "id": "d7848c31",
   "metadata": {},
   "outputs": [],
   "source": [
    "# Topic: Dictionaries & Sets\n",
    "d = {'name': 'Fahd', 'age': 20}\n",
    "print(d.get('name'))"
   ]
  },
  {
   "cell_type": "code",
   "execution_count": null,
   "id": "988f2b75",
   "metadata": {},
   "outputs": [],
   "source": [
    "# Topic: Decorators\n",
    "def log(func):\n",
    " def wrapper():\n",
    "  print('Call')\n",
    "  func()\n",
    " return wrapper\n",
    "@log\n",
    "def say(): print('Hi')\n",
    "say()"
   ]
  },
  {
   "cell_type": "code",
   "execution_count": null,
   "id": "9445c455",
   "metadata": {},
   "outputs": [],
   "source": [
    "# Topic: Pandas\n",
    "import pandas as pd\n",
    "df = pd.DataFrame({'A':[1,2],'B':[3,4]})\n",
    "print(df)"
   ]
  },
  {
   "cell_type": "code",
   "execution_count": null,
   "id": "aac2b008",
   "metadata": {},
   "outputs": [],
   "source": [
    "# Topic: Basics\n",
    "x = 10\n",
    "y = 20\n",
    "print(x + y)"
   ]
  },
  {
   "cell_type": "code",
   "execution_count": null,
   "id": "b12728b7",
   "metadata": {},
   "outputs": [],
   "source": [
    "# Topic: Mini Projects\n",
    "# Palindrome check\n",
    "def is_pal(s): return s == s[::-1]\n",
    "print(is_pal('madam'))"
   ]
  },
  {
   "cell_type": "code",
   "execution_count": null,
   "id": "e0e9695c",
   "metadata": {},
   "outputs": [],
   "source": [
    "# Topic: OOP\n",
    "class Student:\n",
    "    def __init__(self, name): self.name = name\n",
    "s = Student('Fahd')\n",
    "print(s.name)"
   ]
  },
  {
   "cell_type": "code",
   "execution_count": null,
   "id": "9a91ac09",
   "metadata": {},
   "outputs": [],
   "source": [
    "# Topic: NumPy\n",
    "import numpy as np\n",
    "a = np.array([1, 2, 3])\n",
    "print(a + 5)"
   ]
  },
  {
   "cell_type": "code",
   "execution_count": null,
   "id": "efc9fe7a",
   "metadata": {},
   "outputs": [],
   "source": [
    "# Topic: Sorting Algorithms\n",
    "def bubble_sort(arr):\n",
    " for i in range(len(arr)):\n",
    "  for j in range(0, len(arr)-i-1):\n",
    "   if arr[j]>arr[j+1]: arr[j], arr[j+1]=arr[j+1], arr[j]\n",
    "a = [5,3,8,6]\n",
    "bubble_sort(a)\n",
    "print(a)"
   ]
  },
  {
   "cell_type": "code",
   "execution_count": null,
   "id": "b8d4ebd5",
   "metadata": {},
   "outputs": [],
   "source": [
    "# Topic: File I/O\n",
    "with open('test.txt', 'w') as f:\n",
    "    f.write('Hello World')"
   ]
  },
  {
   "cell_type": "code",
   "execution_count": null,
   "id": "4be2b07b",
   "metadata": {},
   "outputs": [],
   "source": [
    "# Topic: JSON & CSV\n",
    "import csv\n",
    "with open('file.csv', 'w', newline='') as f:\n",
    " csv.writer(f).writerow(['a','b','c'])"
   ]
  },
  {
   "cell_type": "code",
   "execution_count": null,
   "id": "51c6abfe",
   "metadata": {},
   "outputs": [],
   "source": [
    "# Topic: Functions\n",
    "def greet(name='User'):\n",
    "    print(f'Hi, {name}')\n",
    "greet()"
   ]
  },
  {
   "cell_type": "code",
   "execution_count": null,
   "id": "969caaf4",
   "metadata": {},
   "outputs": [],
   "source": [
    "# Topic: Dictionaries & Sets\n",
    "d = {'name': 'Fahd', 'age': 20}\n",
    "print(d.get('name'))"
   ]
  },
  {
   "cell_type": "code",
   "execution_count": null,
   "id": "d7cef778",
   "metadata": {},
   "outputs": [],
   "source": [
    "# Topic: Loops\n",
    "while True:\n",
    "    print('Break')\n",
    "    break"
   ]
  },
  {
   "cell_type": "code",
   "execution_count": null,
   "id": "6b9becd6",
   "metadata": {},
   "outputs": [],
   "source": [
    "# Topic: File I/O\n",
    "with open('test.txt', 'r') as f:\n",
    "    print(f.read())"
   ]
  },
  {
   "cell_type": "code",
   "execution_count": null,
   "id": "4220f406",
   "metadata": {},
   "outputs": [],
   "source": [
    "# Topic: Functions\n",
    "def square(x): return x*x\n",
    "print(square(5))"
   ]
  },
  {
   "cell_type": "code",
   "execution_count": null,
   "id": "0d98b662",
   "metadata": {},
   "outputs": [],
   "source": [
    "# Topic: Lists & Tuples\n",
    "lst = [1, 2, 3]\n",
    "lst.append(4)\n",
    "print(lst)"
   ]
  },
  {
   "cell_type": "code",
   "execution_count": null,
   "id": "61a03a17",
   "metadata": {},
   "outputs": [],
   "source": [
    "# Topic: Matplotlib & Seaborn\n",
    "import matplotlib.pyplot as plt\n",
    "plt.plot([1,2],[3,4])\n",
    "plt.show()"
   ]
  },
  {
   "cell_type": "code",
   "execution_count": null,
   "id": "20ba8b1b",
   "metadata": {},
   "outputs": [],
   "source": [
    "# Topic: Basics\n",
    "x = 10\n",
    "y = 20\n",
    "print(x + y)"
   ]
  },
  {
   "cell_type": "code",
   "execution_count": null,
   "id": "01fc18ef",
   "metadata": {},
   "outputs": [],
   "source": [
    "# Topic: Recursion\n",
    "def fact(n): return 1 if n==0 else n*fact(n-1)\n",
    "print(fact(5))"
   ]
  },
  {
   "cell_type": "code",
   "execution_count": null,
   "id": "d62af339",
   "metadata": {},
   "outputs": [],
   "source": [
    "# Topic: Mini Projects\n",
    "# Calculator\n",
    "def calc(a,b,op): return eval(f'{a}{op}{b}')\n",
    "print(calc(5,2,'+'))"
   ]
  },
  {
   "cell_type": "code",
   "execution_count": null,
   "id": "b8a4f506",
   "metadata": {},
   "outputs": [],
   "source": [
    "# Topic: NumPy\n",
    "import numpy as np\n",
    "a = np.array([1, 2, 3])\n",
    "print(a + 5)"
   ]
  },
  {
   "cell_type": "code",
   "execution_count": null,
   "id": "d998cc98",
   "metadata": {},
   "outputs": [],
   "source": [
    "# Topic: JSON & CSV\n",
    "import csv\n",
    "with open('file.csv', 'w', newline='') as f:\n",
    " csv.writer(f).writerow(['a','b','c'])"
   ]
  },
  {
   "cell_type": "code",
   "execution_count": null,
   "id": "164a71cf",
   "metadata": {},
   "outputs": [],
   "source": [
    "# Topic: OOP\n",
    "class Student:\n",
    "    def __init__(self, name): self.name = name\n",
    "s = Student('Fahd')\n",
    "print(s.name)"
   ]
  },
  {
   "cell_type": "code",
   "execution_count": null,
   "id": "af6eb588",
   "metadata": {},
   "outputs": [],
   "source": [
    "# Topic: Decorators\n",
    "def log(func):\n",
    " def wrapper():\n",
    "  print('Call')\n",
    "  func()\n",
    " return wrapper\n",
    "@log\n",
    "def say(): print('Hi')\n",
    "say()"
   ]
  },
  {
   "cell_type": "code",
   "execution_count": null,
   "id": "61e614a4",
   "metadata": {},
   "outputs": [],
   "source": [
    "# Topic: OOP\n",
    "class Student:\n",
    "    def __init__(self, name): self.name = name\n",
    "s = Student('Fahd')\n",
    "print(s.name)"
   ]
  },
  {
   "cell_type": "code",
   "execution_count": null,
   "id": "da3b25f4",
   "metadata": {},
   "outputs": [],
   "source": [
    "# Topic: Pandas\n",
    "import pandas as pd\n",
    "df = pd.read_csv('file.csv')\n",
    "print(df.head())"
   ]
  },
  {
   "cell_type": "code",
   "execution_count": null,
   "id": "e19d2325",
   "metadata": {},
   "outputs": [],
   "source": [
    "# Topic: Functions\n",
    "def square(x): return x*x\n",
    "print(square(5))"
   ]
  },
  {
   "cell_type": "code",
   "execution_count": null,
   "id": "115d32a2",
   "metadata": {},
   "outputs": [],
   "source": [
    "# Topic: Functions\n",
    "def greet(name='User'):\n",
    "    print(f'Hi, {name}')\n",
    "greet()"
   ]
  },
  {
   "cell_type": "code",
   "execution_count": null,
   "id": "724e7a28",
   "metadata": {},
   "outputs": [],
   "source": [
    "# Topic: Matplotlib & Seaborn\n",
    "import matplotlib.pyplot as plt\n",
    "plt.plot([1,2],[3,4])\n",
    "plt.show()"
   ]
  },
  {
   "cell_type": "code",
   "execution_count": null,
   "id": "35c4b403",
   "metadata": {},
   "outputs": [],
   "source": [
    "# Topic: Regex\n",
    "import re\n",
    "text = 'email: test@example.com'\n",
    "print(re.findall(r'\\S+@\\S+', text))"
   ]
  },
  {
   "cell_type": "code",
   "execution_count": null,
   "id": "4f54afb9",
   "metadata": {},
   "outputs": [],
   "source": [
    "# Topic: Decorators\n",
    "def log(func):\n",
    " def wrapper():\n",
    "  print('Call')\n",
    "  func()\n",
    " return wrapper\n",
    "@log\n",
    "def say(): print('Hi')\n",
    "say()"
   ]
  },
  {
   "cell_type": "code",
   "execution_count": null,
   "id": "26aaea5b",
   "metadata": {},
   "outputs": [],
   "source": [
    "# Topic: Functions\n",
    "def greet(name='User'):\n",
    "    print(f'Hi, {name}')\n",
    "greet()"
   ]
  },
  {
   "cell_type": "code",
   "execution_count": null,
   "id": "9be201c1",
   "metadata": {},
   "outputs": [],
   "source": [
    "# Topic: File I/O\n",
    "with open('test.txt', 'w') as f:\n",
    "    f.write('Hello World')"
   ]
  },
  {
   "cell_type": "code",
   "execution_count": null,
   "id": "e2c12837",
   "metadata": {},
   "outputs": [],
   "source": [
    "# Topic: Basics\n",
    "name = 'Fahd'\n",
    "print(f'Hello, {name}')"
   ]
  },
  {
   "cell_type": "code",
   "execution_count": null,
   "id": "35e5a357",
   "metadata": {},
   "outputs": [],
   "source": [
    "# Topic: Mini Projects\n",
    "# Calculator\n",
    "def calc(a,b,op): return eval(f'{a}{op}{b}')\n",
    "print(calc(5,2,'+'))"
   ]
  },
  {
   "cell_type": "code",
   "execution_count": null,
   "id": "d7f0dd79",
   "metadata": {},
   "outputs": [],
   "source": [
    "# Topic: Basic ML\n",
    "from sklearn.linear_model import LinearRegression\n",
    "model = LinearRegression()\n",
    "print(model)"
   ]
  },
  {
   "cell_type": "code",
   "execution_count": null,
   "id": "f09e7224",
   "metadata": {},
   "outputs": [],
   "source": [
    "# Topic: JSON & CSV\n",
    "import csv\n",
    "with open('file.csv', 'w', newline='') as f:\n",
    " csv.writer(f).writerow(['a','b','c'])"
   ]
  },
  {
   "cell_type": "code",
   "execution_count": null,
   "id": "f009e2b9",
   "metadata": {},
   "outputs": [],
   "source": [
    "# Topic: Lists & Tuples\n",
    "t = (1, 2, 3)\n",
    "print(t[0])"
   ]
  },
  {
   "cell_type": "code",
   "execution_count": null,
   "id": "228b6b1f",
   "metadata": {},
   "outputs": [],
   "source": [
    "# Topic: Mini Projects\n",
    "# Calculator\n",
    "def calc(a,b,op): return eval(f'{a}{op}{b}')\n",
    "print(calc(5,2,'+'))"
   ]
  },
  {
   "cell_type": "code",
   "execution_count": null,
   "id": "f2db7b99",
   "metadata": {},
   "outputs": [],
   "source": [
    "# Topic: Web Scraping\n",
    "import requests\n",
    "from bs4 import BeautifulSoup\n",
    "r = requests.get('https://example.com')\n",
    "soup = BeautifulSoup(r.text, 'html.parser')\n",
    "print(soup.title.text)"
   ]
  },
  {
   "cell_type": "code",
   "execution_count": null,
   "id": "aa22f531",
   "metadata": {},
   "outputs": [],
   "source": [
    "# Topic: Data Cleaning\n",
    "import pandas as pd\n",
    "df = pd.DataFrame({'A':[1,None,3]})\n",
    "df = df.fillna(0)\n",
    "print(df)"
   ]
  },
  {
   "cell_type": "code",
   "execution_count": null,
   "id": "c9472cdd",
   "metadata": {},
   "outputs": [],
   "source": [
    "# Topic: Basic ML\n",
    "from sklearn.linear_model import LinearRegression\n",
    "model = LinearRegression()\n",
    "print(model)"
   ]
  },
  {
   "cell_type": "code",
   "execution_count": null,
   "id": "95a3e345",
   "metadata": {},
   "outputs": [],
   "source": [
    "# Topic: Regex\n",
    "import re\n",
    "text = 'email: test@example.com'\n",
    "print(re.findall(r'\\S+@\\S+', text))"
   ]
  },
  {
   "cell_type": "code",
   "execution_count": null,
   "id": "28f8e65b",
   "metadata": {},
   "outputs": [],
   "source": [
    "# Topic: Mini Projects\n",
    "# Palindrome check\n",
    "def is_pal(s): return s == s[::-1]\n",
    "print(is_pal('madam'))"
   ]
  },
  {
   "cell_type": "code",
   "execution_count": null,
   "id": "8f7c8231",
   "metadata": {},
   "outputs": [],
   "source": [
    "# Topic: File I/O\n",
    "with open('test.txt', 'r') as f:\n",
    "    print(f.read())"
   ]
  },
  {
   "cell_type": "code",
   "execution_count": null,
   "id": "e5da002a",
   "metadata": {},
   "outputs": [],
   "source": [
    "# Topic: Lists & Tuples\n",
    "t = (1, 2, 3)\n",
    "print(t[0])"
   ]
  },
  {
   "cell_type": "code",
   "execution_count": null,
   "id": "0ec17f29",
   "metadata": {},
   "outputs": [],
   "source": [
    "# Topic: JSON & CSV\n",
    "import json\n",
    "data = {'a': 1}\n",
    "print(json.dumps(data))"
   ]
  },
  {
   "cell_type": "code",
   "execution_count": null,
   "id": "2713f8b9",
   "metadata": {},
   "outputs": [],
   "source": [
    "# Topic: Recursion\n",
    "def fact(n): return 1 if n==0 else n*fact(n-1)\n",
    "print(fact(5))"
   ]
  },
  {
   "cell_type": "code",
   "execution_count": null,
   "id": "bd9f40e6",
   "metadata": {},
   "outputs": [],
   "source": [
    "# Topic: Lists & Tuples\n",
    "t = (1, 2, 3)\n",
    "print(t[0])"
   ]
  },
  {
   "cell_type": "code",
   "execution_count": null,
   "id": "09b81c83",
   "metadata": {},
   "outputs": [],
   "source": [
    "# Topic: Mini Projects\n",
    "# Calculator\n",
    "def calc(a,b,op): return eval(f'{a}{op}{b}')\n",
    "print(calc(5,2,'+'))"
   ]
  },
  {
   "cell_type": "code",
   "execution_count": null,
   "id": "cbeb829d",
   "metadata": {},
   "outputs": [],
   "source": [
    "# Topic: NumPy\n",
    "import numpy as np\n",
    "a = np.array([1, 2, 3])\n",
    "print(a + 5)"
   ]
  },
  {
   "cell_type": "code",
   "execution_count": null,
   "id": "a6f9bd81",
   "metadata": {},
   "outputs": [],
   "source": [
    "# Topic: JSON & CSV\n",
    "import json\n",
    "data = {'a': 1}\n",
    "print(json.dumps(data))"
   ]
  },
  {
   "cell_type": "code",
   "execution_count": null,
   "id": "e08857bf",
   "metadata": {},
   "outputs": [],
   "source": [
    "# Topic: Sorting Algorithms\n",
    "def bubble_sort(arr):\n",
    " for i in range(len(arr)):\n",
    "  for j in range(0, len(arr)-i-1):\n",
    "   if arr[j]>arr[j+1]: arr[j], arr[j+1]=arr[j+1], arr[j]\n",
    "a = [5,3,8,6]\n",
    "bubble_sort(a)\n",
    "print(a)"
   ]
  },
  {
   "cell_type": "code",
   "execution_count": null,
   "id": "86ea2238",
   "metadata": {},
   "outputs": [],
   "source": [
    "# Topic: Web Scraping\n",
    "import requests\n",
    "from bs4 import BeautifulSoup\n",
    "r = requests.get('https://example.com')\n",
    "soup = BeautifulSoup(r.text, 'html.parser')\n",
    "print(soup.title.text)"
   ]
  },
  {
   "cell_type": "code",
   "execution_count": null,
   "id": "e3f9af54",
   "metadata": {},
   "outputs": [],
   "source": [
    "# Topic: JSON & CSV\n",
    "import csv\n",
    "with open('file.csv', 'w', newline='') as f:\n",
    " csv.writer(f).writerow(['a','b','c'])"
   ]
  },
  {
   "cell_type": "code",
   "execution_count": null,
   "id": "92a1fffa",
   "metadata": {},
   "outputs": [],
   "source": [
    "# Topic: Pandas\n",
    "import pandas as pd\n",
    "df = pd.DataFrame({'A':[1,2],'B':[3,4]})\n",
    "print(df)"
   ]
  },
  {
   "cell_type": "code",
   "execution_count": null,
   "id": "2db6ceb1",
   "metadata": {},
   "outputs": [],
   "source": [
    "# Topic: Mini Projects\n",
    "# Calculator\n",
    "def calc(a,b,op): return eval(f'{a}{op}{b}')\n",
    "print(calc(5,2,'+'))"
   ]
  },
  {
   "cell_type": "code",
   "execution_count": null,
   "id": "5b1e88fa",
   "metadata": {},
   "outputs": [],
   "source": [
    "# Topic: Sorting Algorithms\n",
    "def bubble_sort(arr):\n",
    " for i in range(len(arr)):\n",
    "  for j in range(0, len(arr)-i-1):\n",
    "   if arr[j]>arr[j+1]: arr[j], arr[j+1]=arr[j+1], arr[j]\n",
    "a = [5,3,8,6]\n",
    "bubble_sort(a)\n",
    "print(a)"
   ]
  },
  {
   "cell_type": "code",
   "execution_count": null,
   "id": "9a2994cd",
   "metadata": {},
   "outputs": [],
   "source": [
    "# Topic: Dictionaries & Sets\n",
    "s = set([1, 2, 3, 2])\n",
    "print(s)"
   ]
  },
  {
   "cell_type": "code",
   "execution_count": null,
   "id": "f3c9b02a",
   "metadata": {},
   "outputs": [],
   "source": [
    "# Topic: OOP\n",
    "class Student:\n",
    "    def __init__(self, name): self.name = name\n",
    "s = Student('Fahd')\n",
    "print(s.name)"
   ]
  },
  {
   "cell_type": "code",
   "execution_count": null,
   "id": "b7a3a6a4",
   "metadata": {},
   "outputs": [],
   "source": [
    "# Topic: Decorators\n",
    "def log(func):\n",
    " def wrapper():\n",
    "  print('Call')\n",
    "  func()\n",
    " return wrapper\n",
    "@log\n",
    "def say(): print('Hi')\n",
    "say()"
   ]
  },
  {
   "cell_type": "code",
   "execution_count": null,
   "id": "a03fed62",
   "metadata": {},
   "outputs": [],
   "source": [
    "# Topic: Matplotlib & Seaborn\n",
    "import matplotlib.pyplot as plt\n",
    "plt.plot([1,2],[3,4])\n",
    "plt.show()"
   ]
  },
  {
   "cell_type": "code",
   "execution_count": null,
   "id": "7f3d1c51",
   "metadata": {},
   "outputs": [],
   "source": [
    "# Topic: OOP\n",
    "class Student:\n",
    "    def __init__(self, name): self.name = name\n",
    "s = Student('Fahd')\n",
    "print(s.name)"
   ]
  },
  {
   "cell_type": "code",
   "execution_count": null,
   "id": "724a8620",
   "metadata": {},
   "outputs": [],
   "source": [
    "# Topic: Basics\n",
    "x = 10\n",
    "y = 20\n",
    "print(x + y)"
   ]
  },
  {
   "cell_type": "code",
   "execution_count": null,
   "id": "110b0807",
   "metadata": {},
   "outputs": [],
   "source": [
    "# Topic: Sorting Algorithms\n",
    "def bubble_sort(arr):\n",
    " for i in range(len(arr)):\n",
    "  for j in range(0, len(arr)-i-1):\n",
    "   if arr[j]>arr[j+1]: arr[j], arr[j+1]=arr[j+1], arr[j]\n",
    "a = [5,3,8,6]\n",
    "bubble_sort(a)\n",
    "print(a)"
   ]
  },
  {
   "cell_type": "code",
   "execution_count": null,
   "id": "4bf93ee6",
   "metadata": {},
   "outputs": [],
   "source": [
    "# Topic: Mini Projects\n",
    "# Calculator\n",
    "def calc(a,b,op): return eval(f'{a}{op}{b}')\n",
    "print(calc(5,2,'+'))"
   ]
  },
  {
   "cell_type": "code",
   "execution_count": null,
   "id": "2c58bdf8",
   "metadata": {},
   "outputs": [],
   "source": [
    "# Topic: Lists & Tuples\n",
    "t = (1, 2, 3)\n",
    "print(t[0])"
   ]
  },
  {
   "cell_type": "code",
   "execution_count": null,
   "id": "23133d7c",
   "metadata": {},
   "outputs": [],
   "source": [
    "# Topic: Dictionaries & Sets\n",
    "d = {'name': 'Fahd', 'age': 20}\n",
    "print(d.get('name'))"
   ]
  },
  {
   "cell_type": "code",
   "execution_count": null,
   "id": "86e11996",
   "metadata": {},
   "outputs": [],
   "source": [
    "# Topic: Matplotlib & Seaborn\n",
    "import seaborn as sns\n",
    "import pandas as pd\n",
    "sns.set()\n",
    "sns.histplot(pd.Series([1,2,2,3]));"
   ]
  },
  {
   "cell_type": "code",
   "execution_count": null,
   "id": "4f1a1c25",
   "metadata": {},
   "outputs": [],
   "source": [
    "# Topic: Lists & Tuples\n",
    "t = (1, 2, 3)\n",
    "print(t[0])"
   ]
  },
  {
   "cell_type": "code",
   "execution_count": null,
   "id": "08733d2b",
   "metadata": {},
   "outputs": [],
   "source": [
    "# Topic: Lists & Tuples\n",
    "lst = [1, 2, 3]\n",
    "lst.append(4)\n",
    "print(lst)"
   ]
  },
  {
   "cell_type": "code",
   "execution_count": null,
   "id": "091461df",
   "metadata": {},
   "outputs": [],
   "source": [
    "# Topic: Web Scraping\n",
    "import requests\n",
    "from bs4 import BeautifulSoup\n",
    "r = requests.get('https://example.com')\n",
    "soup = BeautifulSoup(r.text, 'html.parser')\n",
    "print(soup.title.text)"
   ]
  },
  {
   "cell_type": "code",
   "execution_count": null,
   "id": "bd76135f",
   "metadata": {},
   "outputs": [],
   "source": [
    "# Topic: Basics\n",
    "name = 'Fahd'\n",
    "print(f'Hello, {name}')"
   ]
  },
  {
   "cell_type": "code",
   "execution_count": null,
   "id": "aaa651e0",
   "metadata": {},
   "outputs": [],
   "source": [
    "# Topic: File I/O\n",
    "with open('test.txt', 'w') as f:\n",
    "    f.write('Hello World')"
   ]
  },
  {
   "cell_type": "code",
   "execution_count": null,
   "id": "d1139740",
   "metadata": {},
   "outputs": [],
   "source": [
    "# Topic: Recursion\n",
    "def fact(n): return 1 if n==0 else n*fact(n-1)\n",
    "print(fact(5))"
   ]
  },
  {
   "cell_type": "code",
   "execution_count": null,
   "id": "cfe3f63e",
   "metadata": {},
   "outputs": [],
   "source": [
    "# Topic: Matplotlib & Seaborn\n",
    "import matplotlib.pyplot as plt\n",
    "plt.plot([1,2],[3,4])\n",
    "plt.show()"
   ]
  },
  {
   "cell_type": "code",
   "execution_count": null,
   "id": "a5c97f13",
   "metadata": {},
   "outputs": [],
   "source": [
    "# Topic: Decorators\n",
    "def log(func):\n",
    " def wrapper():\n",
    "  print('Call')\n",
    "  func()\n",
    " return wrapper\n",
    "@log\n",
    "def say(): print('Hi')\n",
    "say()"
   ]
  },
  {
   "cell_type": "code",
   "execution_count": null,
   "id": "00e35357",
   "metadata": {},
   "outputs": [],
   "source": [
    "# Topic: Basics\n",
    "name = 'Fahd'\n",
    "print(f'Hello, {name}')"
   ]
  },
  {
   "cell_type": "code",
   "execution_count": null,
   "id": "d652808e",
   "metadata": {},
   "outputs": [],
   "source": [
    "# Topic: Decorators\n",
    "def log(func):\n",
    " def wrapper():\n",
    "  print('Call')\n",
    "  func()\n",
    " return wrapper\n",
    "@log\n",
    "def say(): print('Hi')\n",
    "say()"
   ]
  },
  {
   "cell_type": "code",
   "execution_count": null,
   "id": "a2f442a2",
   "metadata": {},
   "outputs": [],
   "source": [
    "# Topic: Matplotlib & Seaborn\n",
    "import seaborn as sns\n",
    "import pandas as pd\n",
    "sns.set()\n",
    "sns.histplot(pd.Series([1,2,2,3]));"
   ]
  },
  {
   "cell_type": "code",
   "execution_count": null,
   "id": "ce287ed7",
   "metadata": {},
   "outputs": [],
   "source": [
    "# Topic: Regex\n",
    "import re\n",
    "text = 'email: test@example.com'\n",
    "print(re.findall(r'\\S+@\\S+', text))"
   ]
  },
  {
   "cell_type": "code",
   "execution_count": null,
   "id": "72217648",
   "metadata": {},
   "outputs": [],
   "source": [
    "# Topic: Regex\n",
    "import re\n",
    "text = 'email: test@example.com'\n",
    "print(re.findall(r'\\S+@\\S+', text))"
   ]
  },
  {
   "cell_type": "code",
   "execution_count": null,
   "id": "73c129f9",
   "metadata": {},
   "outputs": [],
   "source": [
    "# Topic: Basic ML\n",
    "from sklearn.linear_model import LinearRegression\n",
    "model = LinearRegression()\n",
    "print(model)"
   ]
  },
  {
   "cell_type": "code",
   "execution_count": null,
   "id": "55ff128d",
   "metadata": {},
   "outputs": [],
   "source": [
    "# Topic: Functions\n",
    "def greet(name='User'):\n",
    "    print(f'Hi, {name}')\n",
    "greet()"
   ]
  },
  {
   "cell_type": "code",
   "execution_count": null,
   "id": "412fe457",
   "metadata": {},
   "outputs": [],
   "source": [
    "# Topic: OOP\n",
    "class Student:\n",
    "    def __init__(self, name): self.name = name\n",
    "s = Student('Fahd')\n",
    "print(s.name)"
   ]
  },
  {
   "cell_type": "code",
   "execution_count": null,
   "id": "f9af5a41",
   "metadata": {},
   "outputs": [],
   "source": [
    "# Topic: Basics\n",
    "name = 'Fahd'\n",
    "print(f'Hello, {name}')"
   ]
  },
  {
   "cell_type": "code",
   "execution_count": null,
   "id": "d51b6a33",
   "metadata": {},
   "outputs": [],
   "source": [
    "# Topic: File I/O\n",
    "with open('test.txt', 'r') as f:\n",
    "    print(f.read())"
   ]
  },
  {
   "cell_type": "code",
   "execution_count": null,
   "id": "01ca29b0",
   "metadata": {},
   "outputs": [],
   "source": [
    "# Topic: Web Scraping\n",
    "import requests\n",
    "from bs4 import BeautifulSoup\n",
    "r = requests.get('https://example.com')\n",
    "soup = BeautifulSoup(r.text, 'html.parser')\n",
    "print(soup.title.text)"
   ]
  },
  {
   "cell_type": "code",
   "execution_count": null,
   "id": "e8a4e9fd",
   "metadata": {},
   "outputs": [],
   "source": [
    "# Topic: File I/O\n",
    "with open('test.txt', 'r') as f:\n",
    "    print(f.read())"
   ]
  },
  {
   "cell_type": "code",
   "execution_count": null,
   "id": "66e56c43",
   "metadata": {},
   "outputs": [],
   "source": [
    "# Topic: Functions\n",
    "def square(x): return x*x\n",
    "print(square(5))"
   ]
  },
  {
   "cell_type": "code",
   "execution_count": null,
   "id": "b46935b9",
   "metadata": {},
   "outputs": [],
   "source": [
    "# Topic: Lists & Tuples\n",
    "t = (1, 2, 3)\n",
    "print(t[0])"
   ]
  },
  {
   "cell_type": "code",
   "execution_count": null,
   "id": "514b76c3",
   "metadata": {},
   "outputs": [],
   "source": [
    "# Topic: Data Cleaning\n",
    "import pandas as pd\n",
    "df = pd.DataFrame({'A':[1,None,3]})\n",
    "df = df.fillna(0)\n",
    "print(df)"
   ]
  },
  {
   "cell_type": "code",
   "execution_count": null,
   "id": "7eb32529",
   "metadata": {},
   "outputs": [],
   "source": [
    "# Topic: Basics\n",
    "name = 'Fahd'\n",
    "print(f'Hello, {name}')"
   ]
  },
  {
   "cell_type": "code",
   "execution_count": null,
   "id": "ee0f6392",
   "metadata": {},
   "outputs": [],
   "source": [
    "# Topic: Dictionaries & Sets\n",
    "d = {'name': 'Fahd', 'age': 20}\n",
    "print(d.get('name'))"
   ]
  },
  {
   "cell_type": "code",
   "execution_count": null,
   "id": "a63ce1a3",
   "metadata": {},
   "outputs": [],
   "source": [
    "# Topic: Basic ML\n",
    "from sklearn.linear_model import LinearRegression\n",
    "model = LinearRegression()\n",
    "print(model)"
   ]
  },
  {
   "cell_type": "code",
   "execution_count": null,
   "id": "1ddd69b0",
   "metadata": {},
   "outputs": [],
   "source": [
    "# Topic: NumPy\n",
    "import numpy as np\n",
    "a = np.array([1, 2, 3])\n",
    "print(a + 5)"
   ]
  },
  {
   "cell_type": "code",
   "execution_count": null,
   "id": "0103fb84",
   "metadata": {},
   "outputs": [],
   "source": [
    "# Topic: Web Scraping\n",
    "import requests\n",
    "from bs4 import BeautifulSoup\n",
    "r = requests.get('https://example.com')\n",
    "soup = BeautifulSoup(r.text, 'html.parser')\n",
    "print(soup.title.text)"
   ]
  },
  {
   "cell_type": "code",
   "execution_count": null,
   "id": "53e87bb3",
   "metadata": {},
   "outputs": [],
   "source": [
    "# Topic: Web Scraping\n",
    "import requests\n",
    "from bs4 import BeautifulSoup\n",
    "r = requests.get('https://example.com')\n",
    "soup = BeautifulSoup(r.text, 'html.parser')\n",
    "print(soup.title.text)"
   ]
  },
  {
   "cell_type": "code",
   "execution_count": null,
   "id": "a5e32866",
   "metadata": {},
   "outputs": [],
   "source": [
    "# Topic: Basic ML\n",
    "from sklearn.linear_model import LinearRegression\n",
    "model = LinearRegression()\n",
    "print(model)"
   ]
  },
  {
   "cell_type": "code",
   "execution_count": null,
   "id": "7d92d5c5",
   "metadata": {},
   "outputs": [],
   "source": [
    "# Topic: NumPy\n",
    "import numpy as np\n",
    "print(np.linspace(0, 1, 5))"
   ]
  },
  {
   "cell_type": "code",
   "execution_count": null,
   "id": "fd4bfb19",
   "metadata": {},
   "outputs": [],
   "source": [
    "# Topic: NumPy\n",
    "import numpy as np\n",
    "print(np.linspace(0, 1, 5))"
   ]
  },
  {
   "cell_type": "code",
   "execution_count": null,
   "id": "c3caaf5e",
   "metadata": {},
   "outputs": [],
   "source": [
    "# Topic: OOP\n",
    "class Student:\n",
    "    def __init__(self, name): self.name = name\n",
    "s = Student('Fahd')\n",
    "print(s.name)"
   ]
  },
  {
   "cell_type": "code",
   "execution_count": null,
   "id": "ebad22e9",
   "metadata": {},
   "outputs": [],
   "source": [
    "# Topic: OOP\n",
    "class Student:\n",
    "    def __init__(self, name): self.name = name\n",
    "s = Student('Fahd')\n",
    "print(s.name)"
   ]
  },
  {
   "cell_type": "code",
   "execution_count": null,
   "id": "70d3d283",
   "metadata": {},
   "outputs": [],
   "source": [
    "# Topic: Lists & Tuples\n",
    "t = (1, 2, 3)\n",
    "print(t[0])"
   ]
  },
  {
   "cell_type": "code",
   "execution_count": null,
   "id": "0f53c03c",
   "metadata": {},
   "outputs": [],
   "source": [
    "# Topic: Matplotlib & Seaborn\n",
    "import seaborn as sns\n",
    "import pandas as pd\n",
    "sns.set()\n",
    "sns.histplot(pd.Series([1,2,2,3]));"
   ]
  },
  {
   "cell_type": "code",
   "execution_count": null,
   "id": "87069fa9",
   "metadata": {},
   "outputs": [],
   "source": [
    "# Topic: Mini Projects\n",
    "# Palindrome check\n",
    "def is_pal(s): return s == s[::-1]\n",
    "print(is_pal('madam'))"
   ]
  },
  {
   "cell_type": "code",
   "execution_count": null,
   "id": "1d1734ce",
   "metadata": {},
   "outputs": [],
   "source": [
    "# Topic: Lists & Tuples\n",
    "t = (1, 2, 3)\n",
    "print(t[0])"
   ]
  },
  {
   "cell_type": "code",
   "execution_count": null,
   "id": "1c3d17f5",
   "metadata": {},
   "outputs": [],
   "source": [
    "# Topic: Decorators\n",
    "def log(func):\n",
    " def wrapper():\n",
    "  print('Call')\n",
    "  func()\n",
    " return wrapper\n",
    "@log\n",
    "def say(): print('Hi')\n",
    "say()"
   ]
  },
  {
   "cell_type": "code",
   "execution_count": null,
   "id": "d30419e0",
   "metadata": {},
   "outputs": [],
   "source": [
    "# Topic: Functions\n",
    "def greet(name='User'):\n",
    "    print(f'Hi, {name}')\n",
    "greet()"
   ]
  },
  {
   "cell_type": "code",
   "execution_count": null,
   "id": "efe7bc43",
   "metadata": {},
   "outputs": [],
   "source": [
    "# Topic: File I/O\n",
    "with open('test.txt', 'r') as f:\n",
    "    print(f.read())"
   ]
  },
  {
   "cell_type": "code",
   "execution_count": null,
   "id": "7d215800",
   "metadata": {},
   "outputs": [],
   "source": [
    "# Topic: Mini Projects\n",
    "# Palindrome check\n",
    "def is_pal(s): return s == s[::-1]\n",
    "print(is_pal('madam'))"
   ]
  },
  {
   "cell_type": "code",
   "execution_count": null,
   "id": "60a93b03",
   "metadata": {},
   "outputs": [],
   "source": [
    "# Topic: Pandas\n",
    "import pandas as pd\n",
    "df = pd.read_csv('file.csv')\n",
    "print(df.head())"
   ]
  },
  {
   "cell_type": "code",
   "execution_count": null,
   "id": "ae218547",
   "metadata": {},
   "outputs": [],
   "source": [
    "# Topic: Mini Projects\n",
    "# Calculator\n",
    "def calc(a,b,op): return eval(f'{a}{op}{b}')\n",
    "print(calc(5,2,'+'))"
   ]
  },
  {
   "cell_type": "code",
   "execution_count": null,
   "id": "80f22e91",
   "metadata": {},
   "outputs": [],
   "source": [
    "# Topic: Mini Projects\n",
    "# Palindrome check\n",
    "def is_pal(s): return s == s[::-1]\n",
    "print(is_pal('madam'))"
   ]
  },
  {
   "cell_type": "code",
   "execution_count": null,
   "id": "386f9406",
   "metadata": {},
   "outputs": [],
   "source": [
    "# Topic: OOP\n",
    "class Student:\n",
    "    def __init__(self, name): self.name = name\n",
    "s = Student('Fahd')\n",
    "print(s.name)"
   ]
  },
  {
   "cell_type": "code",
   "execution_count": null,
   "id": "138227fc",
   "metadata": {},
   "outputs": [],
   "source": [
    "# Topic: File I/O\n",
    "with open('test.txt', 'r') as f:\n",
    "    print(f.read())"
   ]
  },
  {
   "cell_type": "code",
   "execution_count": null,
   "id": "b6839b5b",
   "metadata": {},
   "outputs": [],
   "source": [
    "# Topic: Recursion\n",
    "def fact(n): return 1 if n==0 else n*fact(n-1)\n",
    "print(fact(5))"
   ]
  },
  {
   "cell_type": "code",
   "execution_count": null,
   "id": "01fca5f8",
   "metadata": {},
   "outputs": [],
   "source": [
    "# Topic: Basics\n",
    "name = 'Fahd'\n",
    "print(f'Hello, {name}')"
   ]
  },
  {
   "cell_type": "code",
   "execution_count": null,
   "id": "1e8c2b50",
   "metadata": {},
   "outputs": [],
   "source": [
    "# Topic: Sorting Algorithms\n",
    "def bubble_sort(arr):\n",
    " for i in range(len(arr)):\n",
    "  for j in range(0, len(arr)-i-1):\n",
    "   if arr[j]>arr[j+1]: arr[j], arr[j+1]=arr[j+1], arr[j]\n",
    "a = [5,3,8,6]\n",
    "bubble_sort(a)\n",
    "print(a)"
   ]
  },
  {
   "cell_type": "code",
   "execution_count": null,
   "id": "8d3bf60e",
   "metadata": {},
   "outputs": [],
   "source": [
    "# Topic: File I/O\n",
    "with open('test.txt', 'w') as f:\n",
    "    f.write('Hello World')"
   ]
  },
  {
   "cell_type": "code",
   "execution_count": null,
   "id": "606d625c",
   "metadata": {},
   "outputs": [],
   "source": [
    "# Topic: Decorators\n",
    "def log(func):\n",
    " def wrapper():\n",
    "  print('Call')\n",
    "  func()\n",
    " return wrapper\n",
    "@log\n",
    "def say(): print('Hi')\n",
    "say()"
   ]
  },
  {
   "cell_type": "code",
   "execution_count": null,
   "id": "3e74a447",
   "metadata": {},
   "outputs": [],
   "source": [
    "# Topic: Lists & Tuples\n",
    "lst = [1, 2, 3]\n",
    "lst.append(4)\n",
    "print(lst)"
   ]
  },
  {
   "cell_type": "code",
   "execution_count": null,
   "id": "5fb30bb5",
   "metadata": {},
   "outputs": [],
   "source": [
    "# Topic: Web Scraping\n",
    "import requests\n",
    "from bs4 import BeautifulSoup\n",
    "r = requests.get('https://example.com')\n",
    "soup = BeautifulSoup(r.text, 'html.parser')\n",
    "print(soup.title.text)"
   ]
  },
  {
   "cell_type": "code",
   "execution_count": null,
   "id": "bf51043f",
   "metadata": {},
   "outputs": [],
   "source": [
    "# Topic: Loops\n",
    "for i in range(10): print(i*i)"
   ]
  },
  {
   "cell_type": "code",
   "execution_count": null,
   "id": "7ebdcf18",
   "metadata": {},
   "outputs": [],
   "source": [
    "# Topic: Matplotlib & Seaborn\n",
    "import seaborn as sns\n",
    "import pandas as pd\n",
    "sns.set()\n",
    "sns.histplot(pd.Series([1,2,2,3]));"
   ]
  },
  {
   "cell_type": "code",
   "execution_count": null,
   "id": "029cf290",
   "metadata": {},
   "outputs": [],
   "source": [
    "# Topic: Regex\n",
    "import re\n",
    "text = 'email: test@example.com'\n",
    "print(re.findall(r'\\S+@\\S+', text))"
   ]
  },
  {
   "cell_type": "code",
   "execution_count": null,
   "id": "fa4a4b93",
   "metadata": {},
   "outputs": [],
   "source": [
    "# Topic: Pandas\n",
    "import pandas as pd\n",
    "df = pd.DataFrame({'A':[1,2],'B':[3,4]})\n",
    "print(df)"
   ]
  },
  {
   "cell_type": "code",
   "execution_count": null,
   "id": "b1eddcf1",
   "metadata": {},
   "outputs": [],
   "source": [
    "# Topic: NumPy\n",
    "import numpy as np\n",
    "print(np.linspace(0, 1, 5))"
   ]
  },
  {
   "cell_type": "code",
   "execution_count": null,
   "id": "deb1a3b8",
   "metadata": {},
   "outputs": [],
   "source": [
    "# Topic: Pandas\n",
    "import pandas as pd\n",
    "df = pd.read_csv('file.csv')\n",
    "print(df.head())"
   ]
  },
  {
   "cell_type": "code",
   "execution_count": null,
   "id": "d3b72e36",
   "metadata": {},
   "outputs": [],
   "source": [
    "# Topic: OOP\n",
    "class Student:\n",
    "    def __init__(self, name): self.name = name\n",
    "s = Student('Fahd')\n",
    "print(s.name)"
   ]
  },
  {
   "cell_type": "code",
   "execution_count": null,
   "id": "56a545da",
   "metadata": {},
   "outputs": [],
   "source": [
    "# Topic: Lists & Tuples\n",
    "t = (1, 2, 3)\n",
    "print(t[0])"
   ]
  },
  {
   "cell_type": "code",
   "execution_count": null,
   "id": "e6f13c7b",
   "metadata": {},
   "outputs": [],
   "source": [
    "# Topic: Data Cleaning\n",
    "import pandas as pd\n",
    "df = pd.DataFrame({'A':[1,None,3]})\n",
    "df = df.fillna(0)\n",
    "print(df)"
   ]
  },
  {
   "cell_type": "code",
   "execution_count": null,
   "id": "78d90ff4",
   "metadata": {},
   "outputs": [],
   "source": [
    "# Topic: Pandas\n",
    "import pandas as pd\n",
    "df = pd.read_csv('file.csv')\n",
    "print(df.head())"
   ]
  },
  {
   "cell_type": "code",
   "execution_count": null,
   "id": "3b1f5b8f",
   "metadata": {},
   "outputs": [],
   "source": [
    "# Topic: NumPy\n",
    "import numpy as np\n",
    "print(np.linspace(0, 1, 5))"
   ]
  },
  {
   "cell_type": "code",
   "execution_count": null,
   "id": "12363c78",
   "metadata": {},
   "outputs": [],
   "source": [
    "# Topic: Lists & Tuples\n",
    "lst = [1, 2, 3]\n",
    "lst.append(4)\n",
    "print(lst)"
   ]
  },
  {
   "cell_type": "code",
   "execution_count": null,
   "id": "bf68c562",
   "metadata": {},
   "outputs": [],
   "source": [
    "# Topic: Recursion\n",
    "def fact(n): return 1 if n==0 else n*fact(n-1)\n",
    "print(fact(5))"
   ]
  },
  {
   "cell_type": "code",
   "execution_count": null,
   "id": "15edf17b",
   "metadata": {},
   "outputs": [],
   "source": [
    "# Topic: Dictionaries & Sets\n",
    "d = {'name': 'Fahd', 'age': 20}\n",
    "print(d.get('name'))"
   ]
  },
  {
   "cell_type": "code",
   "execution_count": null,
   "id": "41ceb052",
   "metadata": {},
   "outputs": [],
   "source": [
    "# Topic: Decorators\n",
    "def log(func):\n",
    " def wrapper():\n",
    "  print('Call')\n",
    "  func()\n",
    " return wrapper\n",
    "@log\n",
    "def say(): print('Hi')\n",
    "say()"
   ]
  },
  {
   "cell_type": "code",
   "execution_count": null,
   "id": "3e281cb9",
   "metadata": {},
   "outputs": [],
   "source": [
    "# Topic: Pandas\n",
    "import pandas as pd\n",
    "df = pd.DataFrame({'A':[1,2],'B':[3,4]})\n",
    "print(df)"
   ]
  },
  {
   "cell_type": "code",
   "execution_count": null,
   "id": "5772506f",
   "metadata": {},
   "outputs": [],
   "source": [
    "# Topic: Pandas\n",
    "import pandas as pd\n",
    "df = pd.DataFrame({'A':[1,2],'B':[3,4]})\n",
    "print(df)"
   ]
  },
  {
   "cell_type": "code",
   "execution_count": null,
   "id": "f9ff618d",
   "metadata": {},
   "outputs": [],
   "source": [
    "# Topic: Basic ML\n",
    "from sklearn.linear_model import LinearRegression\n",
    "model = LinearRegression()\n",
    "print(model)"
   ]
  },
  {
   "cell_type": "code",
   "execution_count": null,
   "id": "bb6d4d0d",
   "metadata": {},
   "outputs": [],
   "source": [
    "# Topic: Recursion\n",
    "def fact(n): return 1 if n==0 else n*fact(n-1)\n",
    "print(fact(5))"
   ]
  },
  {
   "cell_type": "code",
   "execution_count": null,
   "id": "5ab760c5",
   "metadata": {},
   "outputs": [],
   "source": [
    "# Topic: Basics\n",
    "name = 'Fahd'\n",
    "print(f'Hello, {name}')"
   ]
  },
  {
   "cell_type": "code",
   "execution_count": null,
   "id": "ce68851e",
   "metadata": {},
   "outputs": [],
   "source": [
    "# Topic: Matplotlib & Seaborn\n",
    "import matplotlib.pyplot as plt\n",
    "plt.plot([1,2],[3,4])\n",
    "plt.show()"
   ]
  },
  {
   "cell_type": "code",
   "execution_count": null,
   "id": "ab4e0c4e",
   "metadata": {},
   "outputs": [],
   "source": [
    "# Topic: Decorators\n",
    "def log(func):\n",
    " def wrapper():\n",
    "  print('Call')\n",
    "  func()\n",
    " return wrapper\n",
    "@log\n",
    "def say(): print('Hi')\n",
    "say()"
   ]
  },
  {
   "cell_type": "code",
   "execution_count": null,
   "id": "57b40be3",
   "metadata": {},
   "outputs": [],
   "source": [
    "# Topic: Mini Projects\n",
    "# Palindrome check\n",
    "def is_pal(s): return s == s[::-1]\n",
    "print(is_pal('madam'))"
   ]
  },
  {
   "cell_type": "code",
   "execution_count": null,
   "id": "73d3c5f6",
   "metadata": {},
   "outputs": [],
   "source": [
    "# Topic: Data Cleaning\n",
    "import pandas as pd\n",
    "df = pd.DataFrame({'A':[1,None,3]})\n",
    "df = df.fillna(0)\n",
    "print(df)"
   ]
  },
  {
   "cell_type": "code",
   "execution_count": null,
   "id": "292373d5",
   "metadata": {},
   "outputs": [],
   "source": [
    "# Topic: Functions\n",
    "def square(x): return x*x\n",
    "print(square(5))"
   ]
  },
  {
   "cell_type": "code",
   "execution_count": null,
   "id": "a48d63e1",
   "metadata": {},
   "outputs": [],
   "source": [
    "# Topic: Decorators\n",
    "def log(func):\n",
    " def wrapper():\n",
    "  print('Call')\n",
    "  func()\n",
    " return wrapper\n",
    "@log\n",
    "def say(): print('Hi')\n",
    "say()"
   ]
  },
  {
   "cell_type": "code",
   "execution_count": null,
   "id": "f76169de",
   "metadata": {},
   "outputs": [],
   "source": [
    "# Topic: Loops\n",
    "while True:\n",
    "    print('Break')\n",
    "    break"
   ]
  },
  {
   "cell_type": "code",
   "execution_count": null,
   "id": "f3e1e67e",
   "metadata": {},
   "outputs": [],
   "source": [
    "# Topic: File I/O\n",
    "with open('test.txt', 'w') as f:\n",
    "    f.write('Hello World')"
   ]
  },
  {
   "cell_type": "code",
   "execution_count": null,
   "id": "a3cd9f02",
   "metadata": {},
   "outputs": [],
   "source": [
    "# Topic: Basics\n",
    "name = 'Fahd'\n",
    "print(f'Hello, {name}')"
   ]
  },
  {
   "cell_type": "code",
   "execution_count": null,
   "id": "03e7b04a",
   "metadata": {},
   "outputs": [],
   "source": [
    "# Topic: Sorting Algorithms\n",
    "def bubble_sort(arr):\n",
    " for i in range(len(arr)):\n",
    "  for j in range(0, len(arr)-i-1):\n",
    "   if arr[j]>arr[j+1]: arr[j], arr[j+1]=arr[j+1], arr[j]\n",
    "a = [5,3,8,6]\n",
    "bubble_sort(a)\n",
    "print(a)"
   ]
  },
  {
   "cell_type": "code",
   "execution_count": null,
   "id": "385abf78",
   "metadata": {},
   "outputs": [],
   "source": [
    "# Topic: Web Scraping\n",
    "import requests\n",
    "from bs4 import BeautifulSoup\n",
    "r = requests.get('https://example.com')\n",
    "soup = BeautifulSoup(r.text, 'html.parser')\n",
    "print(soup.title.text)"
   ]
  },
  {
   "cell_type": "code",
   "execution_count": null,
   "id": "dbf2c1d7",
   "metadata": {},
   "outputs": [],
   "source": [
    "# Topic: Regex\n",
    "import re\n",
    "text = 'email: test@example.com'\n",
    "print(re.findall(r'\\S+@\\S+', text))"
   ]
  },
  {
   "cell_type": "code",
   "execution_count": null,
   "id": "91ce6615",
   "metadata": {},
   "outputs": [],
   "source": [
    "# Topic: File I/O\n",
    "with open('test.txt', 'w') as f:\n",
    "    f.write('Hello World')"
   ]
  },
  {
   "cell_type": "code",
   "execution_count": null,
   "id": "6885761b",
   "metadata": {},
   "outputs": [],
   "source": [
    "# Topic: File I/O\n",
    "with open('test.txt', 'r') as f:\n",
    "    print(f.read())"
   ]
  },
  {
   "cell_type": "code",
   "execution_count": null,
   "id": "b55ab528",
   "metadata": {},
   "outputs": [],
   "source": [
    "# Topic: NumPy\n",
    "import numpy as np\n",
    "a = np.array([1, 2, 3])\n",
    "print(a + 5)"
   ]
  },
  {
   "cell_type": "code",
   "execution_count": null,
   "id": "2988a55f",
   "metadata": {},
   "outputs": [],
   "source": [
    "# Topic: Regex\n",
    "import re\n",
    "text = 'email: test@example.com'\n",
    "print(re.findall(r'\\S+@\\S+', text))"
   ]
  },
  {
   "cell_type": "code",
   "execution_count": null,
   "id": "1eeb3dae",
   "metadata": {},
   "outputs": [],
   "source": [
    "# Topic: Regex\n",
    "import re\n",
    "text = 'email: test@example.com'\n",
    "print(re.findall(r'\\S+@\\S+', text))"
   ]
  },
  {
   "cell_type": "code",
   "execution_count": null,
   "id": "24eaedd8",
   "metadata": {},
   "outputs": [],
   "source": [
    "# Topic: Decorators\n",
    "def log(func):\n",
    " def wrapper():\n",
    "  print('Call')\n",
    "  func()\n",
    " return wrapper\n",
    "@log\n",
    "def say(): print('Hi')\n",
    "say()"
   ]
  },
  {
   "cell_type": "code",
   "execution_count": null,
   "id": "10fae388",
   "metadata": {},
   "outputs": [],
   "source": [
    "# Topic: Recursion\n",
    "def fact(n): return 1 if n==0 else n*fact(n-1)\n",
    "print(fact(5))"
   ]
  },
  {
   "cell_type": "code",
   "execution_count": null,
   "id": "f27925b0",
   "metadata": {},
   "outputs": [],
   "source": [
    "# Topic: Dictionaries & Sets\n",
    "s = set([1, 2, 3, 2])\n",
    "print(s)"
   ]
  },
  {
   "cell_type": "code",
   "execution_count": null,
   "id": "fcdede77",
   "metadata": {},
   "outputs": [],
   "source": [
    "# Topic: Matplotlib & Seaborn\n",
    "import seaborn as sns\n",
    "import pandas as pd\n",
    "sns.set()\n",
    "sns.histplot(pd.Series([1,2,2,3]));"
   ]
  },
  {
   "cell_type": "code",
   "execution_count": null,
   "id": "b58e064b",
   "metadata": {},
   "outputs": [],
   "source": [
    "# Topic: Web Scraping\n",
    "import requests\n",
    "from bs4 import BeautifulSoup\n",
    "r = requests.get('https://example.com')\n",
    "soup = BeautifulSoup(r.text, 'html.parser')\n",
    "print(soup.title.text)"
   ]
  },
  {
   "cell_type": "code",
   "execution_count": null,
   "id": "58d7e20e",
   "metadata": {},
   "outputs": [],
   "source": [
    "# Topic: JSON & CSV\n",
    "import csv\n",
    "with open('file.csv', 'w', newline='') as f:\n",
    " csv.writer(f).writerow(['a','b','c'])"
   ]
  },
  {
   "cell_type": "code",
   "execution_count": null,
   "id": "29335a46",
   "metadata": {},
   "outputs": [],
   "source": [
    "# Topic: Basics\n",
    "x = 10\n",
    "y = 20\n",
    "print(x + y)"
   ]
  },
  {
   "cell_type": "code",
   "execution_count": null,
   "id": "c86d0325",
   "metadata": {},
   "outputs": [],
   "source": [
    "# Topic: Lists & Tuples\n",
    "t = (1, 2, 3)\n",
    "print(t[0])"
   ]
  },
  {
   "cell_type": "code",
   "execution_count": null,
   "id": "96412e7f",
   "metadata": {},
   "outputs": [],
   "source": [
    "# Topic: OOP\n",
    "class Student:\n",
    "    def __init__(self, name): self.name = name\n",
    "s = Student('Fahd')\n",
    "print(s.name)"
   ]
  },
  {
   "cell_type": "code",
   "execution_count": null,
   "id": "1d4b1a14",
   "metadata": {},
   "outputs": [],
   "source": [
    "# Topic: Mini Projects\n",
    "# Calculator\n",
    "def calc(a,b,op): return eval(f'{a}{op}{b}')\n",
    "print(calc(5,2,'+'))"
   ]
  },
  {
   "cell_type": "code",
   "execution_count": null,
   "id": "bcace20e",
   "metadata": {},
   "outputs": [],
   "source": [
    "# Topic: NumPy\n",
    "import numpy as np\n",
    "print(np.linspace(0, 1, 5))"
   ]
  },
  {
   "cell_type": "code",
   "execution_count": null,
   "id": "ce1509a9",
   "metadata": {},
   "outputs": [],
   "source": [
    "# Topic: Basics\n",
    "x = 10\n",
    "y = 20\n",
    "print(x + y)"
   ]
  },
  {
   "cell_type": "code",
   "execution_count": null,
   "id": "ffd5b80f",
   "metadata": {},
   "outputs": [],
   "source": [
    "# Topic: Basics\n",
    "x = 10\n",
    "y = 20\n",
    "print(x + y)"
   ]
  },
  {
   "cell_type": "code",
   "execution_count": null,
   "id": "a63a4e68",
   "metadata": {},
   "outputs": [],
   "source": [
    "# Topic: Lists & Tuples\n",
    "t = (1, 2, 3)\n",
    "print(t[0])"
   ]
  },
  {
   "cell_type": "code",
   "execution_count": null,
   "id": "28ea057f",
   "metadata": {},
   "outputs": [],
   "source": [
    "# Topic: Dictionaries & Sets\n",
    "d = {'name': 'Fahd', 'age': 20}\n",
    "print(d.get('name'))"
   ]
  },
  {
   "cell_type": "code",
   "execution_count": null,
   "id": "9e4f0480",
   "metadata": {},
   "outputs": [],
   "source": [
    "# Topic: OOP\n",
    "class Student:\n",
    "    def __init__(self, name): self.name = name\n",
    "s = Student('Fahd')\n",
    "print(s.name)"
   ]
  },
  {
   "cell_type": "code",
   "execution_count": null,
   "id": "609851c7",
   "metadata": {},
   "outputs": [],
   "source": [
    "# Topic: JSON & CSV\n",
    "import csv\n",
    "with open('file.csv', 'w', newline='') as f:\n",
    " csv.writer(f).writerow(['a','b','c'])"
   ]
  },
  {
   "cell_type": "code",
   "execution_count": null,
   "id": "9e5c6025",
   "metadata": {},
   "outputs": [],
   "source": [
    "# Topic: Data Cleaning\n",
    "import pandas as pd\n",
    "df = pd.DataFrame({'A':[1,None,3]})\n",
    "df = df.fillna(0)\n",
    "print(df)"
   ]
  },
  {
   "cell_type": "code",
   "execution_count": null,
   "id": "a513764a",
   "metadata": {},
   "outputs": [],
   "source": [
    "# Topic: Pandas\n",
    "import pandas as pd\n",
    "df = pd.read_csv('file.csv')\n",
    "print(df.head())"
   ]
  },
  {
   "cell_type": "code",
   "execution_count": null,
   "id": "f5a8d97a",
   "metadata": {},
   "outputs": [],
   "source": [
    "# Topic: NumPy\n",
    "import numpy as np\n",
    "print(np.linspace(0, 1, 5))"
   ]
  },
  {
   "cell_type": "code",
   "execution_count": null,
   "id": "e11e1557",
   "metadata": {},
   "outputs": [],
   "source": [
    "# Topic: Web Scraping\n",
    "import requests\n",
    "from bs4 import BeautifulSoup\n",
    "r = requests.get('https://example.com')\n",
    "soup = BeautifulSoup(r.text, 'html.parser')\n",
    "print(soup.title.text)"
   ]
  },
  {
   "cell_type": "code",
   "execution_count": null,
   "id": "7eef5236",
   "metadata": {},
   "outputs": [],
   "source": [
    "# Topic: JSON & CSV\n",
    "import csv\n",
    "with open('file.csv', 'w', newline='') as f:\n",
    " csv.writer(f).writerow(['a','b','c'])"
   ]
  },
  {
   "cell_type": "code",
   "execution_count": null,
   "id": "efe1de68",
   "metadata": {},
   "outputs": [],
   "source": [
    "# Topic: File I/O\n",
    "with open('test.txt', 'r') as f:\n",
    "    print(f.read())"
   ]
  },
  {
   "cell_type": "code",
   "execution_count": null,
   "id": "8c9c563f",
   "metadata": {},
   "outputs": [],
   "source": [
    "# Topic: JSON & CSV\n",
    "import json\n",
    "data = {'a': 1}\n",
    "print(json.dumps(data))"
   ]
  },
  {
   "cell_type": "code",
   "execution_count": null,
   "id": "14e6690e",
   "metadata": {},
   "outputs": [],
   "source": [
    "# Topic: Lists & Tuples\n",
    "lst = [1, 2, 3]\n",
    "lst.append(4)\n",
    "print(lst)"
   ]
  },
  {
   "cell_type": "code",
   "execution_count": null,
   "id": "14ef135e",
   "metadata": {},
   "outputs": [],
   "source": [
    "# Topic: Functions\n",
    "def square(x): return x*x\n",
    "print(square(5))"
   ]
  },
  {
   "cell_type": "code",
   "execution_count": null,
   "id": "b609b011",
   "metadata": {},
   "outputs": [],
   "source": [
    "# Topic: Loops\n",
    "while True:\n",
    "    print('Break')\n",
    "    break"
   ]
  },
  {
   "cell_type": "code",
   "execution_count": null,
   "id": "df60739c",
   "metadata": {},
   "outputs": [],
   "source": [
    "# Topic: File I/O\n",
    "with open('test.txt', 'w') as f:\n",
    "    f.write('Hello World')"
   ]
  },
  {
   "cell_type": "code",
   "execution_count": null,
   "id": "50d59288",
   "metadata": {},
   "outputs": [],
   "source": [
    "# Topic: File I/O\n",
    "with open('test.txt', 'w') as f:\n",
    "    f.write('Hello World')"
   ]
  },
  {
   "cell_type": "code",
   "execution_count": null,
   "id": "f8496eae",
   "metadata": {},
   "outputs": [],
   "source": [
    "# Topic: Pandas\n",
    "import pandas as pd\n",
    "df = pd.read_csv('file.csv')\n",
    "print(df.head())"
   ]
  },
  {
   "cell_type": "code",
   "execution_count": null,
   "id": "764548e9",
   "metadata": {},
   "outputs": [],
   "source": [
    "# Topic: OOP\n",
    "class Student:\n",
    "    def __init__(self, name): self.name = name\n",
    "s = Student('Fahd')\n",
    "print(s.name)"
   ]
  },
  {
   "cell_type": "code",
   "execution_count": null,
   "id": "c81ba433",
   "metadata": {},
   "outputs": [],
   "source": [
    "# Topic: Recursion\n",
    "def fact(n): return 1 if n==0 else n*fact(n-1)\n",
    "print(fact(5))"
   ]
  },
  {
   "cell_type": "code",
   "execution_count": null,
   "id": "5ff905a6",
   "metadata": {},
   "outputs": [],
   "source": [
    "# Topic: Recursion\n",
    "def fact(n): return 1 if n==0 else n*fact(n-1)\n",
    "print(fact(5))"
   ]
  },
  {
   "cell_type": "code",
   "execution_count": null,
   "id": "d495ccb1",
   "metadata": {},
   "outputs": [],
   "source": [
    "# Topic: File I/O\n",
    "with open('test.txt', 'r') as f:\n",
    "    print(f.read())"
   ]
  },
  {
   "cell_type": "code",
   "execution_count": null,
   "id": "13691a99",
   "metadata": {},
   "outputs": [],
   "source": [
    "# Topic: Mini Projects\n",
    "# Calculator\n",
    "def calc(a,b,op): return eval(f'{a}{op}{b}')\n",
    "print(calc(5,2,'+'))"
   ]
  },
  {
   "cell_type": "code",
   "execution_count": null,
   "id": "627b93a2",
   "metadata": {},
   "outputs": [],
   "source": [
    "# Topic: File I/O\n",
    "with open('test.txt', 'w') as f:\n",
    "    f.write('Hello World')"
   ]
  },
  {
   "cell_type": "code",
   "execution_count": null,
   "id": "20e8e5e0",
   "metadata": {},
   "outputs": [],
   "source": [
    "# Topic: Mini Projects\n",
    "# Calculator\n",
    "def calc(a,b,op): return eval(f'{a}{op}{b}')\n",
    "print(calc(5,2,'+'))"
   ]
  },
  {
   "cell_type": "code",
   "execution_count": null,
   "id": "84ca3809",
   "metadata": {},
   "outputs": [],
   "source": [
    "# Topic: Pandas\n",
    "import pandas as pd\n",
    "df = pd.read_csv('file.csv')\n",
    "print(df.head())"
   ]
  },
  {
   "cell_type": "code",
   "execution_count": null,
   "id": "949c7e46",
   "metadata": {},
   "outputs": [],
   "source": [
    "# Topic: Pandas\n",
    "import pandas as pd\n",
    "df = pd.read_csv('file.csv')\n",
    "print(df.head())"
   ]
  },
  {
   "cell_type": "code",
   "execution_count": null,
   "id": "7122df3b",
   "metadata": {},
   "outputs": [],
   "source": [
    "# Topic: Web Scraping\n",
    "import requests\n",
    "from bs4 import BeautifulSoup\n",
    "r = requests.get('https://example.com')\n",
    "soup = BeautifulSoup(r.text, 'html.parser')\n",
    "print(soup.title.text)"
   ]
  },
  {
   "cell_type": "code",
   "execution_count": null,
   "id": "627f19b5",
   "metadata": {},
   "outputs": [],
   "source": [
    "# Topic: NumPy\n",
    "import numpy as np\n",
    "print(np.linspace(0, 1, 5))"
   ]
  },
  {
   "cell_type": "code",
   "execution_count": null,
   "id": "c4e3abfb",
   "metadata": {},
   "outputs": [],
   "source": [
    "# Topic: OOP\n",
    "class Student:\n",
    "    def __init__(self, name): self.name = name\n",
    "s = Student('Fahd')\n",
    "print(s.name)"
   ]
  },
  {
   "cell_type": "code",
   "execution_count": null,
   "id": "a64cec44",
   "metadata": {},
   "outputs": [],
   "source": [
    "# Topic: Lists & Tuples\n",
    "lst = [1, 2, 3]\n",
    "lst.append(4)\n",
    "print(lst)"
   ]
  },
  {
   "cell_type": "code",
   "execution_count": null,
   "id": "44fb9945",
   "metadata": {},
   "outputs": [],
   "source": [
    "# Topic: Sorting Algorithms\n",
    "def bubble_sort(arr):\n",
    " for i in range(len(arr)):\n",
    "  for j in range(0, len(arr)-i-1):\n",
    "   if arr[j]>arr[j+1]: arr[j], arr[j+1]=arr[j+1], arr[j]\n",
    "a = [5,3,8,6]\n",
    "bubble_sort(a)\n",
    "print(a)"
   ]
  },
  {
   "cell_type": "code",
   "execution_count": null,
   "id": "36f8b45d",
   "metadata": {},
   "outputs": [],
   "source": [
    "# Topic: Lists & Tuples\n",
    "lst = [1, 2, 3]\n",
    "lst.append(4)\n",
    "print(lst)"
   ]
  },
  {
   "cell_type": "code",
   "execution_count": null,
   "id": "96e7ab08",
   "metadata": {},
   "outputs": [],
   "source": [
    "# Topic: Recursion\n",
    "def fact(n): return 1 if n==0 else n*fact(n-1)\n",
    "print(fact(5))"
   ]
  },
  {
   "cell_type": "code",
   "execution_count": null,
   "id": "8f595c6a",
   "metadata": {},
   "outputs": [],
   "source": [
    "# Topic: Sorting Algorithms\n",
    "def bubble_sort(arr):\n",
    " for i in range(len(arr)):\n",
    "  for j in range(0, len(arr)-i-1):\n",
    "   if arr[j]>arr[j+1]: arr[j], arr[j+1]=arr[j+1], arr[j]\n",
    "a = [5,3,8,6]\n",
    "bubble_sort(a)\n",
    "print(a)"
   ]
  },
  {
   "cell_type": "code",
   "execution_count": null,
   "id": "3ec49433",
   "metadata": {},
   "outputs": [],
   "source": [
    "# Topic: OOP\n",
    "class Student:\n",
    "    def __init__(self, name): self.name = name\n",
    "s = Student('Fahd')\n",
    "print(s.name)"
   ]
  },
  {
   "cell_type": "code",
   "execution_count": null,
   "id": "c7183300",
   "metadata": {},
   "outputs": [],
   "source": [
    "# Topic: Recursion\n",
    "def fact(n): return 1 if n==0 else n*fact(n-1)\n",
    "print(fact(5))"
   ]
  },
  {
   "cell_type": "code",
   "execution_count": null,
   "id": "efa8b251",
   "metadata": {},
   "outputs": [],
   "source": [
    "# Topic: Basics\n",
    "name = 'Fahd'\n",
    "print(f'Hello, {name}')"
   ]
  },
  {
   "cell_type": "code",
   "execution_count": null,
   "id": "3351b446",
   "metadata": {},
   "outputs": [],
   "source": [
    "# Topic: JSON & CSV\n",
    "import json\n",
    "data = {'a': 1}\n",
    "print(json.dumps(data))"
   ]
  },
  {
   "cell_type": "code",
   "execution_count": null,
   "id": "37e69e81",
   "metadata": {},
   "outputs": [],
   "source": [
    "# Topic: Mini Projects\n",
    "# Calculator\n",
    "def calc(a,b,op): return eval(f'{a}{op}{b}')\n",
    "print(calc(5,2,'+'))"
   ]
  },
  {
   "cell_type": "code",
   "execution_count": null,
   "id": "6d18a4f2",
   "metadata": {},
   "outputs": [],
   "source": [
    "# Topic: Web Scraping\n",
    "import requests\n",
    "from bs4 import BeautifulSoup\n",
    "r = requests.get('https://example.com')\n",
    "soup = BeautifulSoup(r.text, 'html.parser')\n",
    "print(soup.title.text)"
   ]
  },
  {
   "cell_type": "code",
   "execution_count": null,
   "id": "ce9d8773",
   "metadata": {},
   "outputs": [],
   "source": [
    "# Topic: Dictionaries & Sets\n",
    "s = set([1, 2, 3, 2])\n",
    "print(s)"
   ]
  },
  {
   "cell_type": "code",
   "execution_count": null,
   "id": "4299ba48",
   "metadata": {},
   "outputs": [],
   "source": [
    "# Topic: Lists & Tuples\n",
    "t = (1, 2, 3)\n",
    "print(t[0])"
   ]
  },
  {
   "cell_type": "code",
   "execution_count": null,
   "id": "42724ba3",
   "metadata": {},
   "outputs": [],
   "source": [
    "# Topic: Dictionaries & Sets\n",
    "d = {'name': 'Fahd', 'age': 20}\n",
    "print(d.get('name'))"
   ]
  },
  {
   "cell_type": "code",
   "execution_count": null,
   "id": "2d0274eb",
   "metadata": {},
   "outputs": [],
   "source": [
    "# Topic: Web Scraping\n",
    "import requests\n",
    "from bs4 import BeautifulSoup\n",
    "r = requests.get('https://example.com')\n",
    "soup = BeautifulSoup(r.text, 'html.parser')\n",
    "print(soup.title.text)"
   ]
  },
  {
   "cell_type": "code",
   "execution_count": null,
   "id": "c52b010c",
   "metadata": {},
   "outputs": [],
   "source": [
    "# Topic: OOP\n",
    "class Student:\n",
    "    def __init__(self, name): self.name = name\n",
    "s = Student('Fahd')\n",
    "print(s.name)"
   ]
  },
  {
   "cell_type": "code",
   "execution_count": null,
   "id": "e31a1288",
   "metadata": {},
   "outputs": [],
   "source": [
    "# Topic: Regex\n",
    "import re\n",
    "text = 'email: test@example.com'\n",
    "print(re.findall(r'\\S+@\\S+', text))"
   ]
  },
  {
   "cell_type": "code",
   "execution_count": null,
   "id": "6ef733f5",
   "metadata": {},
   "outputs": [],
   "source": [
    "# Topic: Recursion\n",
    "def fact(n): return 1 if n==0 else n*fact(n-1)\n",
    "print(fact(5))"
   ]
  },
  {
   "cell_type": "code",
   "execution_count": null,
   "id": "f31d7818",
   "metadata": {},
   "outputs": [],
   "source": [
    "# Topic: File I/O\n",
    "with open('test.txt', 'w') as f:\n",
    "    f.write('Hello World')"
   ]
  },
  {
   "cell_type": "code",
   "execution_count": null,
   "id": "5c196620",
   "metadata": {},
   "outputs": [],
   "source": [
    "# Topic: Functions\n",
    "def square(x): return x*x\n",
    "print(square(5))"
   ]
  },
  {
   "cell_type": "code",
   "execution_count": null,
   "id": "0e4c5ab0",
   "metadata": {},
   "outputs": [],
   "source": [
    "# Topic: NumPy\n",
    "import numpy as np\n",
    "a = np.array([1, 2, 3])\n",
    "print(a + 5)"
   ]
  },
  {
   "cell_type": "code",
   "execution_count": null,
   "id": "9897f327",
   "metadata": {},
   "outputs": [],
   "source": [
    "# Topic: Lists & Tuples\n",
    "lst = [1, 2, 3]\n",
    "lst.append(4)\n",
    "print(lst)"
   ]
  },
  {
   "cell_type": "code",
   "execution_count": null,
   "id": "1225db06",
   "metadata": {},
   "outputs": [],
   "source": [
    "# Topic: Recursion\n",
    "def fact(n): return 1 if n==0 else n*fact(n-1)\n",
    "print(fact(5))"
   ]
  },
  {
   "cell_type": "code",
   "execution_count": null,
   "id": "ec0b51a7",
   "metadata": {},
   "outputs": [],
   "source": [
    "# Topic: Functions\n",
    "def greet(name='User'):\n",
    "    print(f'Hi, {name}')\n",
    "greet()"
   ]
  },
  {
   "cell_type": "code",
   "execution_count": null,
   "id": "3e2ef14a",
   "metadata": {},
   "outputs": [],
   "source": [
    "# Topic: Loops\n",
    "for i in range(10): print(i*i)"
   ]
  },
  {
   "cell_type": "code",
   "execution_count": null,
   "id": "5ee4baf9",
   "metadata": {},
   "outputs": [],
   "source": [
    "# Topic: Regex\n",
    "import re\n",
    "text = 'email: test@example.com'\n",
    "print(re.findall(r'\\S+@\\S+', text))"
   ]
  },
  {
   "cell_type": "code",
   "execution_count": null,
   "id": "e26b1407",
   "metadata": {},
   "outputs": [],
   "source": [
    "# Topic: Web Scraping\n",
    "import requests\n",
    "from bs4 import BeautifulSoup\n",
    "r = requests.get('https://example.com')\n",
    "soup = BeautifulSoup(r.text, 'html.parser')\n",
    "print(soup.title.text)"
   ]
  },
  {
   "cell_type": "code",
   "execution_count": null,
   "id": "55cd0f2d",
   "metadata": {},
   "outputs": [],
   "source": [
    "# Topic: JSON & CSV\n",
    "import json\n",
    "data = {'a': 1}\n",
    "print(json.dumps(data))"
   ]
  },
  {
   "cell_type": "code",
   "execution_count": null,
   "id": "9aae166e",
   "metadata": {},
   "outputs": [],
   "source": [
    "# Topic: Dictionaries & Sets\n",
    "d = {'name': 'Fahd', 'age': 20}\n",
    "print(d.get('name'))"
   ]
  },
  {
   "cell_type": "code",
   "execution_count": null,
   "id": "de5f402d",
   "metadata": {},
   "outputs": [],
   "source": [
    "# Topic: Regex\n",
    "import re\n",
    "text = 'email: test@example.com'\n",
    "print(re.findall(r'\\S+@\\S+', text))"
   ]
  },
  {
   "cell_type": "code",
   "execution_count": null,
   "id": "96ffa155",
   "metadata": {},
   "outputs": [],
   "source": [
    "# Topic: Loops\n",
    "while True:\n",
    "    print('Break')\n",
    "    break"
   ]
  },
  {
   "cell_type": "code",
   "execution_count": null,
   "id": "59398db4",
   "metadata": {},
   "outputs": [],
   "source": [
    "# Topic: JSON & CSV\n",
    "import csv\n",
    "with open('file.csv', 'w', newline='') as f:\n",
    " csv.writer(f).writerow(['a','b','c'])"
   ]
  },
  {
   "cell_type": "code",
   "execution_count": null,
   "id": "6cd34d66",
   "metadata": {},
   "outputs": [],
   "source": [
    "# Topic: Loops\n",
    "for i in range(10): print(i*i)"
   ]
  },
  {
   "cell_type": "code",
   "execution_count": null,
   "id": "f7367922",
   "metadata": {},
   "outputs": [],
   "source": [
    "# Topic: Mini Projects\n",
    "# Palindrome check\n",
    "def is_pal(s): return s == s[::-1]\n",
    "print(is_pal('madam'))"
   ]
  },
  {
   "cell_type": "code",
   "execution_count": null,
   "id": "480bf3b4",
   "metadata": {},
   "outputs": [],
   "source": [
    "# Topic: Regex\n",
    "import re\n",
    "text = 'email: test@example.com'\n",
    "print(re.findall(r'\\S+@\\S+', text))"
   ]
  },
  {
   "cell_type": "code",
   "execution_count": null,
   "id": "6f1a24cc",
   "metadata": {},
   "outputs": [],
   "source": [
    "# Topic: Decorators\n",
    "def log(func):\n",
    " def wrapper():\n",
    "  print('Call')\n",
    "  func()\n",
    " return wrapper\n",
    "@log\n",
    "def say(): print('Hi')\n",
    "say()"
   ]
  },
  {
   "cell_type": "code",
   "execution_count": null,
   "id": "1a9404f9",
   "metadata": {},
   "outputs": [],
   "source": [
    "# Topic: Regex\n",
    "import re\n",
    "text = 'email: test@example.com'\n",
    "print(re.findall(r'\\S+@\\S+', text))"
   ]
  },
  {
   "cell_type": "code",
   "execution_count": null,
   "id": "c76d4226",
   "metadata": {},
   "outputs": [],
   "source": [
    "# Topic: Matplotlib & Seaborn\n",
    "import matplotlib.pyplot as plt\n",
    "plt.plot([1,2],[3,4])\n",
    "plt.show()"
   ]
  },
  {
   "cell_type": "code",
   "execution_count": null,
   "id": "e2a87df7",
   "metadata": {},
   "outputs": [],
   "source": [
    "# Topic: Regex\n",
    "import re\n",
    "text = 'email: test@example.com'\n",
    "print(re.findall(r'\\S+@\\S+', text))"
   ]
  },
  {
   "cell_type": "code",
   "execution_count": null,
   "id": "cd2c2c5e",
   "metadata": {},
   "outputs": [],
   "source": [
    "# Topic: OOP\n",
    "class Student:\n",
    "    def __init__(self, name): self.name = name\n",
    "s = Student('Fahd')\n",
    "print(s.name)"
   ]
  },
  {
   "cell_type": "code",
   "execution_count": null,
   "id": "ab211a88",
   "metadata": {},
   "outputs": [],
   "source": [
    "# Topic: File I/O\n",
    "with open('test.txt', 'r') as f:\n",
    "    print(f.read())"
   ]
  },
  {
   "cell_type": "code",
   "execution_count": null,
   "id": "d124e59d",
   "metadata": {},
   "outputs": [],
   "source": [
    "# Topic: Sorting Algorithms\n",
    "def bubble_sort(arr):\n",
    " for i in range(len(arr)):\n",
    "  for j in range(0, len(arr)-i-1):\n",
    "   if arr[j]>arr[j+1]: arr[j], arr[j+1]=arr[j+1], arr[j]\n",
    "a = [5,3,8,6]\n",
    "bubble_sort(a)\n",
    "print(a)"
   ]
  },
  {
   "cell_type": "code",
   "execution_count": null,
   "id": "4e8e1a96",
   "metadata": {},
   "outputs": [],
   "source": [
    "# Topic: OOP\n",
    "class Student:\n",
    "    def __init__(self, name): self.name = name\n",
    "s = Student('Fahd')\n",
    "print(s.name)"
   ]
  },
  {
   "cell_type": "code",
   "execution_count": null,
   "id": "cfd96825",
   "metadata": {},
   "outputs": [],
   "source": [
    "# Topic: JSON & CSV\n",
    "import json\n",
    "data = {'a': 1}\n",
    "print(json.dumps(data))"
   ]
  },
  {
   "cell_type": "code",
   "execution_count": null,
   "id": "acbef513",
   "metadata": {},
   "outputs": [],
   "source": [
    "# Topic: Regex\n",
    "import re\n",
    "text = 'email: test@example.com'\n",
    "print(re.findall(r'\\S+@\\S+', text))"
   ]
  },
  {
   "cell_type": "code",
   "execution_count": null,
   "id": "0e061819",
   "metadata": {},
   "outputs": [],
   "source": [
    "# Topic: JSON & CSV\n",
    "import csv\n",
    "with open('file.csv', 'w', newline='') as f:\n",
    " csv.writer(f).writerow(['a','b','c'])"
   ]
  },
  {
   "cell_type": "code",
   "execution_count": null,
   "id": "97b85bb4",
   "metadata": {},
   "outputs": [],
   "source": [
    "# Topic: Pandas\n",
    "import pandas as pd\n",
    "df = pd.read_csv('file.csv')\n",
    "print(df.head())"
   ]
  },
  {
   "cell_type": "code",
   "execution_count": null,
   "id": "41f1af0f",
   "metadata": {},
   "outputs": [],
   "source": [
    "# Topic: Loops\n",
    "while True:\n",
    "    print('Break')\n",
    "    break"
   ]
  },
  {
   "cell_type": "code",
   "execution_count": null,
   "id": "6d394cce",
   "metadata": {},
   "outputs": [],
   "source": [
    "# Topic: Regex\n",
    "import re\n",
    "text = 'email: test@example.com'\n",
    "print(re.findall(r'\\S+@\\S+', text))"
   ]
  },
  {
   "cell_type": "code",
   "execution_count": null,
   "id": "0c7bc517",
   "metadata": {},
   "outputs": [],
   "source": [
    "# Topic: Basics\n",
    "x = 10\n",
    "y = 20\n",
    "print(x + y)"
   ]
  },
  {
   "cell_type": "code",
   "execution_count": null,
   "id": "146f862e",
   "metadata": {},
   "outputs": [],
   "source": [
    "# Topic: Regex\n",
    "import re\n",
    "text = 'email: test@example.com'\n",
    "print(re.findall(r'\\S+@\\S+', text))"
   ]
  },
  {
   "cell_type": "code",
   "execution_count": null,
   "id": "1c45579f",
   "metadata": {},
   "outputs": [],
   "source": [
    "# Topic: Basics\n",
    "x = 10\n",
    "y = 20\n",
    "print(x + y)"
   ]
  },
  {
   "cell_type": "code",
   "execution_count": null,
   "id": "33206abc",
   "metadata": {},
   "outputs": [],
   "source": [
    "# Topic: Recursion\n",
    "def fact(n): return 1 if n==0 else n*fact(n-1)\n",
    "print(fact(5))"
   ]
  },
  {
   "cell_type": "code",
   "execution_count": null,
   "id": "e7851189",
   "metadata": {},
   "outputs": [],
   "source": [
    "# Topic: Recursion\n",
    "def fact(n): return 1 if n==0 else n*fact(n-1)\n",
    "print(fact(5))"
   ]
  },
  {
   "cell_type": "code",
   "execution_count": null,
   "id": "e924207c",
   "metadata": {},
   "outputs": [],
   "source": [
    "# Topic: Recursion\n",
    "def fact(n): return 1 if n==0 else n*fact(n-1)\n",
    "print(fact(5))"
   ]
  },
  {
   "cell_type": "code",
   "execution_count": null,
   "id": "aacf92fe",
   "metadata": {},
   "outputs": [],
   "source": [
    "# Topic: Lists & Tuples\n",
    "t = (1, 2, 3)\n",
    "print(t[0])"
   ]
  },
  {
   "cell_type": "code",
   "execution_count": null,
   "id": "1d87d2d3",
   "metadata": {},
   "outputs": [],
   "source": [
    "# Topic: Web Scraping\n",
    "import requests\n",
    "from bs4 import BeautifulSoup\n",
    "r = requests.get('https://example.com')\n",
    "soup = BeautifulSoup(r.text, 'html.parser')\n",
    "print(soup.title.text)"
   ]
  },
  {
   "cell_type": "code",
   "execution_count": null,
   "id": "8256321e",
   "metadata": {},
   "outputs": [],
   "source": [
    "# Topic: OOP\n",
    "class Student:\n",
    "    def __init__(self, name): self.name = name\n",
    "s = Student('Fahd')\n",
    "print(s.name)"
   ]
  },
  {
   "cell_type": "code",
   "execution_count": null,
   "id": "ae799494",
   "metadata": {},
   "outputs": [],
   "source": [
    "# Topic: Lists & Tuples\n",
    "lst = [1, 2, 3]\n",
    "lst.append(4)\n",
    "print(lst)"
   ]
  },
  {
   "cell_type": "code",
   "execution_count": null,
   "id": "4db383f6",
   "metadata": {},
   "outputs": [],
   "source": [
    "# Topic: Functions\n",
    "def greet(name='User'):\n",
    "    print(f'Hi, {name}')\n",
    "greet()"
   ]
  },
  {
   "cell_type": "code",
   "execution_count": null,
   "id": "a77b3ab1",
   "metadata": {},
   "outputs": [],
   "source": [
    "# Topic: Matplotlib & Seaborn\n",
    "import matplotlib.pyplot as plt\n",
    "plt.plot([1,2],[3,4])\n",
    "plt.show()"
   ]
  },
  {
   "cell_type": "code",
   "execution_count": null,
   "id": "6a30c0ad",
   "metadata": {},
   "outputs": [],
   "source": [
    "# Topic: Basic ML\n",
    "from sklearn.linear_model import LinearRegression\n",
    "model = LinearRegression()\n",
    "print(model)"
   ]
  },
  {
   "cell_type": "code",
   "execution_count": null,
   "id": "0a435e60",
   "metadata": {},
   "outputs": [],
   "source": [
    "# Topic: Basic ML\n",
    "from sklearn.linear_model import LinearRegression\n",
    "model = LinearRegression()\n",
    "print(model)"
   ]
  },
  {
   "cell_type": "code",
   "execution_count": null,
   "id": "e7afef21",
   "metadata": {},
   "outputs": [],
   "source": [
    "# Topic: Data Cleaning\n",
    "import pandas as pd\n",
    "df = pd.DataFrame({'A':[1,None,3]})\n",
    "df = df.fillna(0)\n",
    "print(df)"
   ]
  },
  {
   "cell_type": "code",
   "execution_count": null,
   "id": "ff8956e8",
   "metadata": {},
   "outputs": [],
   "source": [
    "# Topic: JSON & CSV\n",
    "import csv\n",
    "with open('file.csv', 'w', newline='') as f:\n",
    " csv.writer(f).writerow(['a','b','c'])"
   ]
  },
  {
   "cell_type": "code",
   "execution_count": null,
   "id": "97f872fe",
   "metadata": {},
   "outputs": [],
   "source": [
    "# Topic: Lists & Tuples\n",
    "t = (1, 2, 3)\n",
    "print(t[0])"
   ]
  },
  {
   "cell_type": "code",
   "execution_count": null,
   "id": "92ebdf0a",
   "metadata": {},
   "outputs": [],
   "source": [
    "# Topic: Decorators\n",
    "def log(func):\n",
    " def wrapper():\n",
    "  print('Call')\n",
    "  func()\n",
    " return wrapper\n",
    "@log\n",
    "def say(): print('Hi')\n",
    "say()"
   ]
  },
  {
   "cell_type": "code",
   "execution_count": null,
   "id": "e38dbf98",
   "metadata": {},
   "outputs": [],
   "source": [
    "# Topic: Lists & Tuples\n",
    "t = (1, 2, 3)\n",
    "print(t[0])"
   ]
  },
  {
   "cell_type": "code",
   "execution_count": null,
   "id": "9a83dc37",
   "metadata": {},
   "outputs": [],
   "source": [
    "# Topic: Basic ML\n",
    "from sklearn.linear_model import LinearRegression\n",
    "model = LinearRegression()\n",
    "print(model)"
   ]
  },
  {
   "cell_type": "code",
   "execution_count": null,
   "id": "821b79fb",
   "metadata": {},
   "outputs": [],
   "source": [
    "# Topic: Regex\n",
    "import re\n",
    "text = 'email: test@example.com'\n",
    "print(re.findall(r'\\S+@\\S+', text))"
   ]
  },
  {
   "cell_type": "code",
   "execution_count": null,
   "id": "de99474d",
   "metadata": {},
   "outputs": [],
   "source": [
    "# Topic: OOP\n",
    "class Student:\n",
    "    def __init__(self, name): self.name = name\n",
    "s = Student('Fahd')\n",
    "print(s.name)"
   ]
  },
  {
   "cell_type": "code",
   "execution_count": null,
   "id": "8d232f48",
   "metadata": {},
   "outputs": [],
   "source": [
    "# Topic: Functions\n",
    "def greet(name='User'):\n",
    "    print(f'Hi, {name}')\n",
    "greet()"
   ]
  },
  {
   "cell_type": "code",
   "execution_count": null,
   "id": "12e062d8",
   "metadata": {},
   "outputs": [],
   "source": [
    "# Topic: Lists & Tuples\n",
    "lst = [1, 2, 3]\n",
    "lst.append(4)\n",
    "print(lst)"
   ]
  },
  {
   "cell_type": "code",
   "execution_count": null,
   "id": "b5ab3476",
   "metadata": {},
   "outputs": [],
   "source": [
    "# Topic: Basics\n",
    "x = 10\n",
    "y = 20\n",
    "print(x + y)"
   ]
  },
  {
   "cell_type": "code",
   "execution_count": null,
   "id": "7f941c76",
   "metadata": {},
   "outputs": [],
   "source": [
    "# Topic: Loops\n",
    "for i in range(10): print(i*i)"
   ]
  },
  {
   "cell_type": "code",
   "execution_count": null,
   "id": "09516157",
   "metadata": {},
   "outputs": [],
   "source": [
    "# Topic: File I/O\n",
    "with open('test.txt', 'w') as f:\n",
    "    f.write('Hello World')"
   ]
  },
  {
   "cell_type": "code",
   "execution_count": null,
   "id": "d1256a04",
   "metadata": {},
   "outputs": [],
   "source": [
    "# Topic: Recursion\n",
    "def fact(n): return 1 if n==0 else n*fact(n-1)\n",
    "print(fact(5))"
   ]
  },
  {
   "cell_type": "code",
   "execution_count": null,
   "id": "d694d1d7",
   "metadata": {},
   "outputs": [],
   "source": [
    "# Topic: Loops\n",
    "for i in range(10): print(i*i)"
   ]
  },
  {
   "cell_type": "code",
   "execution_count": null,
   "id": "90ac0388",
   "metadata": {},
   "outputs": [],
   "source": [
    "# Topic: Regex\n",
    "import re\n",
    "text = 'email: test@example.com'\n",
    "print(re.findall(r'\\S+@\\S+', text))"
   ]
  },
  {
   "cell_type": "code",
   "execution_count": null,
   "id": "772b0355",
   "metadata": {},
   "outputs": [],
   "source": [
    "# Topic: Recursion\n",
    "def fact(n): return 1 if n==0 else n*fact(n-1)\n",
    "print(fact(5))"
   ]
  },
  {
   "cell_type": "code",
   "execution_count": null,
   "id": "84cadfc8",
   "metadata": {},
   "outputs": [],
   "source": [
    "# Topic: Basic ML\n",
    "from sklearn.linear_model import LinearRegression\n",
    "model = LinearRegression()\n",
    "print(model)"
   ]
  },
  {
   "cell_type": "code",
   "execution_count": null,
   "id": "e0339d99",
   "metadata": {},
   "outputs": [],
   "source": [
    "# Topic: Loops\n",
    "while True:\n",
    "    print('Break')\n",
    "    break"
   ]
  },
  {
   "cell_type": "code",
   "execution_count": null,
   "id": "83635423",
   "metadata": {},
   "outputs": [],
   "source": [
    "# Topic: Decorators\n",
    "def log(func):\n",
    " def wrapper():\n",
    "  print('Call')\n",
    "  func()\n",
    " return wrapper\n",
    "@log\n",
    "def say(): print('Hi')\n",
    "say()"
   ]
  },
  {
   "cell_type": "code",
   "execution_count": null,
   "id": "826e791b",
   "metadata": {},
   "outputs": [],
   "source": [
    "# Topic: Loops\n",
    "while True:\n",
    "    print('Break')\n",
    "    break"
   ]
  },
  {
   "cell_type": "code",
   "execution_count": null,
   "id": "08413a9b",
   "metadata": {},
   "outputs": [],
   "source": [
    "# Topic: Dictionaries & Sets\n",
    "d = {'name': 'Fahd', 'age': 20}\n",
    "print(d.get('name'))"
   ]
  },
  {
   "cell_type": "code",
   "execution_count": null,
   "id": "b3d490c9",
   "metadata": {},
   "outputs": [],
   "source": [
    "# Topic: Decorators\n",
    "def log(func):\n",
    " def wrapper():\n",
    "  print('Call')\n",
    "  func()\n",
    " return wrapper\n",
    "@log\n",
    "def say(): print('Hi')\n",
    "say()"
   ]
  },
  {
   "cell_type": "code",
   "execution_count": null,
   "id": "d171ef7b",
   "metadata": {},
   "outputs": [],
   "source": [
    "# Topic: Regex\n",
    "import re\n",
    "text = 'email: test@example.com'\n",
    "print(re.findall(r'\\S+@\\S+', text))"
   ]
  },
  {
   "cell_type": "code",
   "execution_count": null,
   "id": "046f64c8",
   "metadata": {},
   "outputs": [],
   "source": [
    "# Topic: Recursion\n",
    "def fact(n): return 1 if n==0 else n*fact(n-1)\n",
    "print(fact(5))"
   ]
  },
  {
   "cell_type": "code",
   "execution_count": null,
   "id": "de700177",
   "metadata": {},
   "outputs": [],
   "source": [
    "# Topic: Basic ML\n",
    "from sklearn.linear_model import LinearRegression\n",
    "model = LinearRegression()\n",
    "print(model)"
   ]
  },
  {
   "cell_type": "code",
   "execution_count": null,
   "id": "77fb98ff",
   "metadata": {},
   "outputs": [],
   "source": [
    "# Topic: Loops\n",
    "for i in range(10): print(i*i)"
   ]
  },
  {
   "cell_type": "code",
   "execution_count": null,
   "id": "bb7ffdb7",
   "metadata": {},
   "outputs": [],
   "source": [
    "# Topic: Dictionaries & Sets\n",
    "s = set([1, 2, 3, 2])\n",
    "print(s)"
   ]
  },
  {
   "cell_type": "code",
   "execution_count": null,
   "id": "63547405",
   "metadata": {},
   "outputs": [],
   "source": [
    "# Topic: Matplotlib & Seaborn\n",
    "import seaborn as sns\n",
    "import pandas as pd\n",
    "sns.set()\n",
    "sns.histplot(pd.Series([1,2,2,3]));"
   ]
  },
  {
   "cell_type": "code",
   "execution_count": null,
   "id": "a25d6799",
   "metadata": {},
   "outputs": [],
   "source": [
    "# Topic: Basics\n",
    "x = 10\n",
    "y = 20\n",
    "print(x + y)"
   ]
  },
  {
   "cell_type": "code",
   "execution_count": null,
   "id": "d0241aa4",
   "metadata": {},
   "outputs": [],
   "source": [
    "# Topic: File I/O\n",
    "with open('test.txt', 'w') as f:\n",
    "    f.write('Hello World')"
   ]
  },
  {
   "cell_type": "code",
   "execution_count": null,
   "id": "32b84c25",
   "metadata": {},
   "outputs": [],
   "source": [
    "# Topic: JSON & CSV\n",
    "import json\n",
    "data = {'a': 1}\n",
    "print(json.dumps(data))"
   ]
  },
  {
   "cell_type": "code",
   "execution_count": null,
   "id": "b4ab0381",
   "metadata": {},
   "outputs": [],
   "source": [
    "# Topic: Recursion\n",
    "def fact(n): return 1 if n==0 else n*fact(n-1)\n",
    "print(fact(5))"
   ]
  },
  {
   "cell_type": "code",
   "execution_count": null,
   "id": "5ae1d1b6",
   "metadata": {},
   "outputs": [],
   "source": [
    "# Topic: Pandas\n",
    "import pandas as pd\n",
    "df = pd.DataFrame({'A':[1,2],'B':[3,4]})\n",
    "print(df)"
   ]
  },
  {
   "cell_type": "code",
   "execution_count": null,
   "id": "8cda01db",
   "metadata": {},
   "outputs": [],
   "source": [
    "# Topic: NumPy\n",
    "import numpy as np\n",
    "a = np.array([1, 2, 3])\n",
    "print(a + 5)"
   ]
  },
  {
   "cell_type": "code",
   "execution_count": null,
   "id": "711971ff",
   "metadata": {},
   "outputs": [],
   "source": [
    "# Topic: Regex\n",
    "import re\n",
    "text = 'email: test@example.com'\n",
    "print(re.findall(r'\\S+@\\S+', text))"
   ]
  },
  {
   "cell_type": "code",
   "execution_count": null,
   "id": "02226da0",
   "metadata": {},
   "outputs": [],
   "source": [
    "# Topic: NumPy\n",
    "import numpy as np\n",
    "a = np.array([1, 2, 3])\n",
    "print(a + 5)"
   ]
  },
  {
   "cell_type": "code",
   "execution_count": null,
   "id": "3c58b213",
   "metadata": {},
   "outputs": [],
   "source": [
    "# Topic: Functions\n",
    "def square(x): return x*x\n",
    "print(square(5))"
   ]
  },
  {
   "cell_type": "code",
   "execution_count": null,
   "id": "ff7943e7",
   "metadata": {},
   "outputs": [],
   "source": [
    "# Topic: Basic ML\n",
    "from sklearn.linear_model import LinearRegression\n",
    "model = LinearRegression()\n",
    "print(model)"
   ]
  },
  {
   "cell_type": "code",
   "execution_count": null,
   "id": "e4fe6184",
   "metadata": {},
   "outputs": [],
   "source": [
    "# Topic: Regex\n",
    "import re\n",
    "text = 'email: test@example.com'\n",
    "print(re.findall(r'\\S+@\\S+', text))"
   ]
  },
  {
   "cell_type": "code",
   "execution_count": null,
   "id": "79ca5669",
   "metadata": {},
   "outputs": [],
   "source": [
    "# Topic: Web Scraping\n",
    "import requests\n",
    "from bs4 import BeautifulSoup\n",
    "r = requests.get('https://example.com')\n",
    "soup = BeautifulSoup(r.text, 'html.parser')\n",
    "print(soup.title.text)"
   ]
  },
  {
   "cell_type": "code",
   "execution_count": null,
   "id": "b5e1e519",
   "metadata": {},
   "outputs": [],
   "source": [
    "# Topic: Functions\n",
    "def square(x): return x*x\n",
    "print(square(5))"
   ]
  },
  {
   "cell_type": "code",
   "execution_count": null,
   "id": "6615ed92",
   "metadata": {},
   "outputs": [],
   "source": [
    "# Topic: NumPy\n",
    "import numpy as np\n",
    "print(np.linspace(0, 1, 5))"
   ]
  },
  {
   "cell_type": "code",
   "execution_count": null,
   "id": "16868cf9",
   "metadata": {},
   "outputs": [],
   "source": [
    "# Topic: Functions\n",
    "def square(x): return x*x\n",
    "print(square(5))"
   ]
  },
  {
   "cell_type": "code",
   "execution_count": null,
   "id": "8753f439",
   "metadata": {},
   "outputs": [],
   "source": [
    "# Topic: File I/O\n",
    "with open('test.txt', 'w') as f:\n",
    "    f.write('Hello World')"
   ]
  },
  {
   "cell_type": "code",
   "execution_count": null,
   "id": "fb11128e",
   "metadata": {},
   "outputs": [],
   "source": [
    "# Topic: Regex\n",
    "import re\n",
    "text = 'email: test@example.com'\n",
    "print(re.findall(r'\\S+@\\S+', text))"
   ]
  },
  {
   "cell_type": "code",
   "execution_count": null,
   "id": "3e393af8",
   "metadata": {},
   "outputs": [],
   "source": [
    "# Topic: Lists & Tuples\n",
    "lst = [1, 2, 3]\n",
    "lst.append(4)\n",
    "print(lst)"
   ]
  },
  {
   "cell_type": "code",
   "execution_count": null,
   "id": "44079d3d",
   "metadata": {},
   "outputs": [],
   "source": [
    "# Topic: Matplotlib & Seaborn\n",
    "import seaborn as sns\n",
    "import pandas as pd\n",
    "sns.set()\n",
    "sns.histplot(pd.Series([1,2,2,3]));"
   ]
  },
  {
   "cell_type": "code",
   "execution_count": null,
   "id": "0a11d3d7",
   "metadata": {},
   "outputs": [],
   "source": [
    "# Topic: JSON & CSV\n",
    "import json\n",
    "data = {'a': 1}\n",
    "print(json.dumps(data))"
   ]
  },
  {
   "cell_type": "code",
   "execution_count": null,
   "id": "fa20bab6",
   "metadata": {},
   "outputs": [],
   "source": [
    "# Topic: Matplotlib & Seaborn\n",
    "import seaborn as sns\n",
    "import pandas as pd\n",
    "sns.set()\n",
    "sns.histplot(pd.Series([1,2,2,3]));"
   ]
  },
  {
   "cell_type": "code",
   "execution_count": null,
   "id": "ade627a1",
   "metadata": {},
   "outputs": [],
   "source": [
    "# Topic: Matplotlib & Seaborn\n",
    "import matplotlib.pyplot as plt\n",
    "plt.plot([1,2],[3,4])\n",
    "plt.show()"
   ]
  },
  {
   "cell_type": "code",
   "execution_count": null,
   "id": "3e76f270",
   "metadata": {},
   "outputs": [],
   "source": [
    "# Topic: Mini Projects\n",
    "# Palindrome check\n",
    "def is_pal(s): return s == s[::-1]\n",
    "print(is_pal('madam'))"
   ]
  },
  {
   "cell_type": "code",
   "execution_count": null,
   "id": "0b68a022",
   "metadata": {},
   "outputs": [],
   "source": [
    "# Topic: Web Scraping\n",
    "import requests\n",
    "from bs4 import BeautifulSoup\n",
    "r = requests.get('https://example.com')\n",
    "soup = BeautifulSoup(r.text, 'html.parser')\n",
    "print(soup.title.text)"
   ]
  },
  {
   "cell_type": "code",
   "execution_count": null,
   "id": "cbc7cfc2",
   "metadata": {},
   "outputs": [],
   "source": [
    "# Topic: Lists & Tuples\n",
    "lst = [1, 2, 3]\n",
    "lst.append(4)\n",
    "print(lst)"
   ]
  },
  {
   "cell_type": "code",
   "execution_count": null,
   "id": "76f4f27e",
   "metadata": {},
   "outputs": [],
   "source": [
    "# Topic: Pandas\n",
    "import pandas as pd\n",
    "df = pd.DataFrame({'A':[1,2],'B':[3,4]})\n",
    "print(df)"
   ]
  },
  {
   "cell_type": "code",
   "execution_count": null,
   "id": "3d067d23",
   "metadata": {},
   "outputs": [],
   "source": [
    "# Topic: Decorators\n",
    "def log(func):\n",
    " def wrapper():\n",
    "  print('Call')\n",
    "  func()\n",
    " return wrapper\n",
    "@log\n",
    "def say(): print('Hi')\n",
    "say()"
   ]
  },
  {
   "cell_type": "code",
   "execution_count": null,
   "id": "ff74b9a8",
   "metadata": {},
   "outputs": [],
   "source": [
    "# Topic: Basic ML\n",
    "from sklearn.linear_model import LinearRegression\n",
    "model = LinearRegression()\n",
    "print(model)"
   ]
  },
  {
   "cell_type": "code",
   "execution_count": null,
   "id": "12e0a2a7",
   "metadata": {},
   "outputs": [],
   "source": [
    "# Topic: File I/O\n",
    "with open('test.txt', 'r') as f:\n",
    "    print(f.read())"
   ]
  },
  {
   "cell_type": "code",
   "execution_count": null,
   "id": "bf61c71b",
   "metadata": {},
   "outputs": [],
   "source": [
    "# Topic: Decorators\n",
    "def log(func):\n",
    " def wrapper():\n",
    "  print('Call')\n",
    "  func()\n",
    " return wrapper\n",
    "@log\n",
    "def say(): print('Hi')\n",
    "say()"
   ]
  },
  {
   "cell_type": "code",
   "execution_count": null,
   "id": "197d39b7",
   "metadata": {},
   "outputs": [],
   "source": [
    "# Topic: Sorting Algorithms\n",
    "def bubble_sort(arr):\n",
    " for i in range(len(arr)):\n",
    "  for j in range(0, len(arr)-i-1):\n",
    "   if arr[j]>arr[j+1]: arr[j], arr[j+1]=arr[j+1], arr[j]\n",
    "a = [5,3,8,6]\n",
    "bubble_sort(a)\n",
    "print(a)"
   ]
  },
  {
   "cell_type": "code",
   "execution_count": null,
   "id": "b6abe52a",
   "metadata": {},
   "outputs": [],
   "source": [
    "# Topic: Functions\n",
    "def square(x): return x*x\n",
    "print(square(5))"
   ]
  },
  {
   "cell_type": "code",
   "execution_count": null,
   "id": "e08d11a5",
   "metadata": {},
   "outputs": [],
   "source": [
    "# Topic: Matplotlib & Seaborn\n",
    "import matplotlib.pyplot as plt\n",
    "plt.plot([1,2],[3,4])\n",
    "plt.show()"
   ]
  },
  {
   "cell_type": "code",
   "execution_count": null,
   "id": "37a49337",
   "metadata": {},
   "outputs": [],
   "source": [
    "# Topic: Sorting Algorithms\n",
    "def bubble_sort(arr):\n",
    " for i in range(len(arr)):\n",
    "  for j in range(0, len(arr)-i-1):\n",
    "   if arr[j]>arr[j+1]: arr[j], arr[j+1]=arr[j+1], arr[j]\n",
    "a = [5,3,8,6]\n",
    "bubble_sort(a)\n",
    "print(a)"
   ]
  },
  {
   "cell_type": "code",
   "execution_count": null,
   "id": "286e11f6",
   "metadata": {},
   "outputs": [],
   "source": [
    "# Topic: Recursion\n",
    "def fact(n): return 1 if n==0 else n*fact(n-1)\n",
    "print(fact(5))"
   ]
  },
  {
   "cell_type": "code",
   "execution_count": null,
   "id": "cef2682b",
   "metadata": {},
   "outputs": [],
   "source": [
    "# Topic: JSON & CSV\n",
    "import json\n",
    "data = {'a': 1}\n",
    "print(json.dumps(data))"
   ]
  },
  {
   "cell_type": "code",
   "execution_count": null,
   "id": "b7464c87",
   "metadata": {},
   "outputs": [],
   "source": [
    "# Topic: OOP\n",
    "class Student:\n",
    "    def __init__(self, name): self.name = name\n",
    "s = Student('Fahd')\n",
    "print(s.name)"
   ]
  },
  {
   "cell_type": "code",
   "execution_count": null,
   "id": "e63b61fe",
   "metadata": {},
   "outputs": [],
   "source": [
    "# Topic: Functions\n",
    "def greet(name='User'):\n",
    "    print(f'Hi, {name}')\n",
    "greet()"
   ]
  },
  {
   "cell_type": "code",
   "execution_count": null,
   "id": "77c7d22f",
   "metadata": {},
   "outputs": [],
   "source": [
    "# Topic: Mini Projects\n",
    "# Calculator\n",
    "def calc(a,b,op): return eval(f'{a}{op}{b}')\n",
    "print(calc(5,2,'+'))"
   ]
  },
  {
   "cell_type": "code",
   "execution_count": null,
   "id": "0e58706d",
   "metadata": {},
   "outputs": [],
   "source": [
    "# Topic: Lists & Tuples\n",
    "lst = [1, 2, 3]\n",
    "lst.append(4)\n",
    "print(lst)"
   ]
  },
  {
   "cell_type": "code",
   "execution_count": null,
   "id": "c4eb2741",
   "metadata": {},
   "outputs": [],
   "source": [
    "# Topic: Regex\n",
    "import re\n",
    "text = 'email: test@example.com'\n",
    "print(re.findall(r'\\S+@\\S+', text))"
   ]
  },
  {
   "cell_type": "code",
   "execution_count": null,
   "id": "cd9a411d",
   "metadata": {},
   "outputs": [],
   "source": [
    "# Topic: Functions\n",
    "def greet(name='User'):\n",
    "    print(f'Hi, {name}')\n",
    "greet()"
   ]
  },
  {
   "cell_type": "code",
   "execution_count": null,
   "id": "b71fc2cd",
   "metadata": {},
   "outputs": [],
   "source": [
    "# Topic: Recursion\n",
    "def fact(n): return 1 if n==0 else n*fact(n-1)\n",
    "print(fact(5))"
   ]
  },
  {
   "cell_type": "code",
   "execution_count": null,
   "id": "e5e75c86",
   "metadata": {},
   "outputs": [],
   "source": [
    "# Topic: Basics\n",
    "name = 'Fahd'\n",
    "print(f'Hello, {name}')"
   ]
  },
  {
   "cell_type": "code",
   "execution_count": null,
   "id": "d0148e3c",
   "metadata": {},
   "outputs": [],
   "source": [
    "# Topic: NumPy\n",
    "import numpy as np\n",
    "a = np.array([1, 2, 3])\n",
    "print(a + 5)"
   ]
  },
  {
   "cell_type": "code",
   "execution_count": null,
   "id": "bb520999",
   "metadata": {},
   "outputs": [],
   "source": [
    "# Topic: Recursion\n",
    "def fact(n): return 1 if n==0 else n*fact(n-1)\n",
    "print(fact(5))"
   ]
  },
  {
   "cell_type": "code",
   "execution_count": null,
   "id": "94667cfe",
   "metadata": {},
   "outputs": [],
   "source": [
    "# Topic: Dictionaries & Sets\n",
    "s = set([1, 2, 3, 2])\n",
    "print(s)"
   ]
  },
  {
   "cell_type": "code",
   "execution_count": null,
   "id": "37d12a5d",
   "metadata": {},
   "outputs": [],
   "source": [
    "# Topic: Basic ML\n",
    "from sklearn.linear_model import LinearRegression\n",
    "model = LinearRegression()\n",
    "print(model)"
   ]
  },
  {
   "cell_type": "code",
   "execution_count": null,
   "id": "01235291",
   "metadata": {},
   "outputs": [],
   "source": [
    "# Topic: Sorting Algorithms\n",
    "def bubble_sort(arr):\n",
    " for i in range(len(arr)):\n",
    "  for j in range(0, len(arr)-i-1):\n",
    "   if arr[j]>arr[j+1]: arr[j], arr[j+1]=arr[j+1], arr[j]\n",
    "a = [5,3,8,6]\n",
    "bubble_sort(a)\n",
    "print(a)"
   ]
  },
  {
   "cell_type": "code",
   "execution_count": null,
   "id": "383aa2f4",
   "metadata": {},
   "outputs": [],
   "source": [
    "# Topic: Functions\n",
    "def square(x): return x*x\n",
    "print(square(5))"
   ]
  },
  {
   "cell_type": "code",
   "execution_count": null,
   "id": "b4102b20",
   "metadata": {},
   "outputs": [],
   "source": [
    "# Topic: Dictionaries & Sets\n",
    "s = set([1, 2, 3, 2])\n",
    "print(s)"
   ]
  },
  {
   "cell_type": "code",
   "execution_count": null,
   "id": "aa600b1c",
   "metadata": {},
   "outputs": [],
   "source": [
    "# Topic: NumPy\n",
    "import numpy as np\n",
    "a = np.array([1, 2, 3])\n",
    "print(a + 5)"
   ]
  },
  {
   "cell_type": "code",
   "execution_count": null,
   "id": "89aa4c26",
   "metadata": {},
   "outputs": [],
   "source": [
    "# Topic: Mini Projects\n",
    "# Palindrome check\n",
    "def is_pal(s): return s == s[::-1]\n",
    "print(is_pal('madam'))"
   ]
  },
  {
   "cell_type": "code",
   "execution_count": null,
   "id": "73718fbd",
   "metadata": {},
   "outputs": [],
   "source": [
    "# Topic: Loops\n",
    "while True:\n",
    "    print('Break')\n",
    "    break"
   ]
  },
  {
   "cell_type": "code",
   "execution_count": null,
   "id": "ab52f32d",
   "metadata": {},
   "outputs": [],
   "source": [
    "# Topic: Basic ML\n",
    "from sklearn.linear_model import LinearRegression\n",
    "model = LinearRegression()\n",
    "print(model)"
   ]
  },
  {
   "cell_type": "code",
   "execution_count": null,
   "id": "95d81aed",
   "metadata": {},
   "outputs": [],
   "source": [
    "# Topic: OOP\n",
    "class Student:\n",
    "    def __init__(self, name): self.name = name\n",
    "s = Student('Fahd')\n",
    "print(s.name)"
   ]
  },
  {
   "cell_type": "code",
   "execution_count": null,
   "id": "ee56f3ac",
   "metadata": {},
   "outputs": [],
   "source": [
    "# Topic: JSON & CSV\n",
    "import csv\n",
    "with open('file.csv', 'w', newline='') as f:\n",
    " csv.writer(f).writerow(['a','b','c'])"
   ]
  },
  {
   "cell_type": "code",
   "execution_count": null,
   "id": "faee9739",
   "metadata": {},
   "outputs": [],
   "source": [
    "# Topic: Basics\n",
    "x = 10\n",
    "y = 20\n",
    "print(x + y)"
   ]
  },
  {
   "cell_type": "code",
   "execution_count": null,
   "id": "252df8bf",
   "metadata": {},
   "outputs": [],
   "source": [
    "# Topic: Lists & Tuples\n",
    "lst = [1, 2, 3]\n",
    "lst.append(4)\n",
    "print(lst)"
   ]
  },
  {
   "cell_type": "code",
   "execution_count": null,
   "id": "64e5dc58",
   "metadata": {},
   "outputs": [],
   "source": [
    "# Topic: Pandas\n",
    "import pandas as pd\n",
    "df = pd.read_csv('file.csv')\n",
    "print(df.head())"
   ]
  },
  {
   "cell_type": "code",
   "execution_count": null,
   "id": "796fac60",
   "metadata": {},
   "outputs": [],
   "source": [
    "# Topic: Data Cleaning\n",
    "import pandas as pd\n",
    "df = pd.DataFrame({'A':[1,None,3]})\n",
    "df = df.fillna(0)\n",
    "print(df)"
   ]
  },
  {
   "cell_type": "code",
   "execution_count": null,
   "id": "79971527",
   "metadata": {},
   "outputs": [],
   "source": [
    "# Topic: Basics\n",
    "name = 'Fahd'\n",
    "print(f'Hello, {name}')"
   ]
  },
  {
   "cell_type": "code",
   "execution_count": null,
   "id": "d03ab146",
   "metadata": {},
   "outputs": [],
   "source": [
    "# Topic: Lists & Tuples\n",
    "t = (1, 2, 3)\n",
    "print(t[0])"
   ]
  },
  {
   "cell_type": "code",
   "execution_count": null,
   "id": "5ca05480",
   "metadata": {},
   "outputs": [],
   "source": [
    "# Topic: Functions\n",
    "def greet(name='User'):\n",
    "    print(f'Hi, {name}')\n",
    "greet()"
   ]
  },
  {
   "cell_type": "code",
   "execution_count": null,
   "id": "6d972066",
   "metadata": {},
   "outputs": [],
   "source": [
    "# Topic: NumPy\n",
    "import numpy as np\n",
    "a = np.array([1, 2, 3])\n",
    "print(a + 5)"
   ]
  },
  {
   "cell_type": "code",
   "execution_count": null,
   "id": "55a037e2",
   "metadata": {},
   "outputs": [],
   "source": [
    "# Topic: Basic ML\n",
    "from sklearn.linear_model import LinearRegression\n",
    "model = LinearRegression()\n",
    "print(model)"
   ]
  },
  {
   "cell_type": "code",
   "execution_count": null,
   "id": "24ff7602",
   "metadata": {},
   "outputs": [],
   "source": [
    "# Topic: Matplotlib & Seaborn\n",
    "import matplotlib.pyplot as plt\n",
    "plt.plot([1,2],[3,4])\n",
    "plt.show()"
   ]
  },
  {
   "cell_type": "code",
   "execution_count": null,
   "id": "b7e2ba6a",
   "metadata": {},
   "outputs": [],
   "source": [
    "# Topic: Basics\n",
    "name = 'Fahd'\n",
    "print(f'Hello, {name}')"
   ]
  },
  {
   "cell_type": "code",
   "execution_count": null,
   "id": "8fd7eae6",
   "metadata": {},
   "outputs": [],
   "source": [
    "# Topic: Dictionaries & Sets\n",
    "s = set([1, 2, 3, 2])\n",
    "print(s)"
   ]
  },
  {
   "cell_type": "code",
   "execution_count": null,
   "id": "e07fb48b",
   "metadata": {},
   "outputs": [],
   "source": [
    "# Topic: OOP\n",
    "class Student:\n",
    "    def __init__(self, name): self.name = name\n",
    "s = Student('Fahd')\n",
    "print(s.name)"
   ]
  },
  {
   "cell_type": "code",
   "execution_count": null,
   "id": "7712086c",
   "metadata": {},
   "outputs": [],
   "source": [
    "# Topic: Functions\n",
    "def square(x): return x*x\n",
    "print(square(5))"
   ]
  },
  {
   "cell_type": "code",
   "execution_count": null,
   "id": "a8f1ec6b",
   "metadata": {},
   "outputs": [],
   "source": [
    "# Topic: Data Cleaning\n",
    "import pandas as pd\n",
    "df = pd.DataFrame({'A':[1,None,3]})\n",
    "df = df.fillna(0)\n",
    "print(df)"
   ]
  },
  {
   "cell_type": "code",
   "execution_count": null,
   "id": "d072e30b",
   "metadata": {},
   "outputs": [],
   "source": [
    "# Topic: Functions\n",
    "def square(x): return x*x\n",
    "print(square(5))"
   ]
  },
  {
   "cell_type": "code",
   "execution_count": null,
   "id": "3637d153",
   "metadata": {},
   "outputs": [],
   "source": [
    "# Topic: Matplotlib & Seaborn\n",
    "import matplotlib.pyplot as plt\n",
    "plt.plot([1,2],[3,4])\n",
    "plt.show()"
   ]
  },
  {
   "cell_type": "code",
   "execution_count": null,
   "id": "04fdc185",
   "metadata": {},
   "outputs": [],
   "source": [
    "# Topic: JSON & CSV\n",
    "import csv\n",
    "with open('file.csv', 'w', newline='') as f:\n",
    " csv.writer(f).writerow(['a','b','c'])"
   ]
  },
  {
   "cell_type": "code",
   "execution_count": null,
   "id": "ac929e43",
   "metadata": {},
   "outputs": [],
   "source": [
    "# Topic: Recursion\n",
    "def fact(n): return 1 if n==0 else n*fact(n-1)\n",
    "print(fact(5))"
   ]
  },
  {
   "cell_type": "code",
   "execution_count": null,
   "id": "4166e300",
   "metadata": {},
   "outputs": [],
   "source": [
    "# Topic: Decorators\n",
    "def log(func):\n",
    " def wrapper():\n",
    "  print('Call')\n",
    "  func()\n",
    " return wrapper\n",
    "@log\n",
    "def say(): print('Hi')\n",
    "say()"
   ]
  },
  {
   "cell_type": "code",
   "execution_count": null,
   "id": "8a360729",
   "metadata": {},
   "outputs": [],
   "source": [
    "# Topic: Pandas\n",
    "import pandas as pd\n",
    "df = pd.DataFrame({'A':[1,2],'B':[3,4]})\n",
    "print(df)"
   ]
  },
  {
   "cell_type": "code",
   "execution_count": null,
   "id": "1352f91c",
   "metadata": {},
   "outputs": [],
   "source": [
    "# Topic: Recursion\n",
    "def fact(n): return 1 if n==0 else n*fact(n-1)\n",
    "print(fact(5))"
   ]
  },
  {
   "cell_type": "code",
   "execution_count": null,
   "id": "16f92924",
   "metadata": {},
   "outputs": [],
   "source": [
    "# Topic: Sorting Algorithms\n",
    "def bubble_sort(arr):\n",
    " for i in range(len(arr)):\n",
    "  for j in range(0, len(arr)-i-1):\n",
    "   if arr[j]>arr[j+1]: arr[j], arr[j+1]=arr[j+1], arr[j]\n",
    "a = [5,3,8,6]\n",
    "bubble_sort(a)\n",
    "print(a)"
   ]
  },
  {
   "cell_type": "code",
   "execution_count": null,
   "id": "1a575078",
   "metadata": {},
   "outputs": [],
   "source": [
    "# Topic: Matplotlib & Seaborn\n",
    "import seaborn as sns\n",
    "import pandas as pd\n",
    "sns.set()\n",
    "sns.histplot(pd.Series([1,2,2,3]));"
   ]
  },
  {
   "cell_type": "code",
   "execution_count": null,
   "id": "b06dd623",
   "metadata": {},
   "outputs": [],
   "source": [
    "# Topic: Web Scraping\n",
    "import requests\n",
    "from bs4 import BeautifulSoup\n",
    "r = requests.get('https://example.com')\n",
    "soup = BeautifulSoup(r.text, 'html.parser')\n",
    "print(soup.title.text)"
   ]
  },
  {
   "cell_type": "code",
   "execution_count": null,
   "id": "5dd08a21",
   "metadata": {},
   "outputs": [],
   "source": [
    "# Topic: Basics\n",
    "x = 10\n",
    "y = 20\n",
    "print(x + y)"
   ]
  },
  {
   "cell_type": "code",
   "execution_count": null,
   "id": "a853bfaa",
   "metadata": {},
   "outputs": [],
   "source": [
    "# Topic: Recursion\n",
    "def fact(n): return 1 if n==0 else n*fact(n-1)\n",
    "print(fact(5))"
   ]
  },
  {
   "cell_type": "code",
   "execution_count": null,
   "id": "ad622727",
   "metadata": {},
   "outputs": [],
   "source": [
    "# Topic: Loops\n",
    "while True:\n",
    "    print('Break')\n",
    "    break"
   ]
  },
  {
   "cell_type": "code",
   "execution_count": null,
   "id": "4173d027",
   "metadata": {},
   "outputs": [],
   "source": [
    "# Topic: OOP\n",
    "class Student:\n",
    "    def __init__(self, name): self.name = name\n",
    "s = Student('Fahd')\n",
    "print(s.name)"
   ]
  },
  {
   "cell_type": "code",
   "execution_count": null,
   "id": "a781339b",
   "metadata": {},
   "outputs": [],
   "source": [
    "# Topic: Decorators\n",
    "def log(func):\n",
    " def wrapper():\n",
    "  print('Call')\n",
    "  func()\n",
    " return wrapper\n",
    "@log\n",
    "def say(): print('Hi')\n",
    "say()"
   ]
  },
  {
   "cell_type": "code",
   "execution_count": null,
   "id": "267d5446",
   "metadata": {},
   "outputs": [],
   "source": [
    "# Topic: Sorting Algorithms\n",
    "def bubble_sort(arr):\n",
    " for i in range(len(arr)):\n",
    "  for j in range(0, len(arr)-i-1):\n",
    "   if arr[j]>arr[j+1]: arr[j], arr[j+1]=arr[j+1], arr[j]\n",
    "a = [5,3,8,6]\n",
    "bubble_sort(a)\n",
    "print(a)"
   ]
  },
  {
   "cell_type": "code",
   "execution_count": null,
   "id": "4509ee28",
   "metadata": {},
   "outputs": [],
   "source": [
    "# Topic: Regex\n",
    "import re\n",
    "text = 'email: test@example.com'\n",
    "print(re.findall(r'\\S+@\\S+', text))"
   ]
  },
  {
   "cell_type": "code",
   "execution_count": null,
   "id": "acb78c06",
   "metadata": {},
   "outputs": [],
   "source": [
    "# Topic: Sorting Algorithms\n",
    "def bubble_sort(arr):\n",
    " for i in range(len(arr)):\n",
    "  for j in range(0, len(arr)-i-1):\n",
    "   if arr[j]>arr[j+1]: arr[j], arr[j+1]=arr[j+1], arr[j]\n",
    "a = [5,3,8,6]\n",
    "bubble_sort(a)\n",
    "print(a)"
   ]
  },
  {
   "cell_type": "code",
   "execution_count": null,
   "id": "2f452678",
   "metadata": {},
   "outputs": [],
   "source": [
    "# Topic: Mini Projects\n",
    "# Palindrome check\n",
    "def is_pal(s): return s == s[::-1]\n",
    "print(is_pal('madam'))"
   ]
  },
  {
   "cell_type": "code",
   "execution_count": null,
   "id": "ac04b69c",
   "metadata": {},
   "outputs": [],
   "source": [
    "# Topic: JSON & CSV\n",
    "import csv\n",
    "with open('file.csv', 'w', newline='') as f:\n",
    " csv.writer(f).writerow(['a','b','c'])"
   ]
  },
  {
   "cell_type": "code",
   "execution_count": null,
   "id": "ac598b13",
   "metadata": {},
   "outputs": [],
   "source": [
    "# Topic: Decorators\n",
    "def log(func):\n",
    " def wrapper():\n",
    "  print('Call')\n",
    "  func()\n",
    " return wrapper\n",
    "@log\n",
    "def say(): print('Hi')\n",
    "say()"
   ]
  },
  {
   "cell_type": "code",
   "execution_count": null,
   "id": "0628bf63",
   "metadata": {},
   "outputs": [],
   "source": [
    "# Topic: Functions\n",
    "def square(x): return x*x\n",
    "print(square(5))"
   ]
  },
  {
   "cell_type": "code",
   "execution_count": null,
   "id": "01e6f912",
   "metadata": {},
   "outputs": [],
   "source": [
    "# Topic: Functions\n",
    "def greet(name='User'):\n",
    "    print(f'Hi, {name}')\n",
    "greet()"
   ]
  },
  {
   "cell_type": "code",
   "execution_count": null,
   "id": "aad75903",
   "metadata": {},
   "outputs": [],
   "source": [
    "# Topic: Sorting Algorithms\n",
    "def bubble_sort(arr):\n",
    " for i in range(len(arr)):\n",
    "  for j in range(0, len(arr)-i-1):\n",
    "   if arr[j]>arr[j+1]: arr[j], arr[j+1]=arr[j+1], arr[j]\n",
    "a = [5,3,8,6]\n",
    "bubble_sort(a)\n",
    "print(a)"
   ]
  },
  {
   "cell_type": "code",
   "execution_count": null,
   "id": "f1ca748e",
   "metadata": {},
   "outputs": [],
   "source": [
    "# Topic: OOP\n",
    "class Student:\n",
    "    def __init__(self, name): self.name = name\n",
    "s = Student('Fahd')\n",
    "print(s.name)"
   ]
  },
  {
   "cell_type": "code",
   "execution_count": null,
   "id": "7d19fe4c",
   "metadata": {},
   "outputs": [],
   "source": [
    "# Topic: Basic ML\n",
    "from sklearn.linear_model import LinearRegression\n",
    "model = LinearRegression()\n",
    "print(model)"
   ]
  },
  {
   "cell_type": "code",
   "execution_count": null,
   "id": "b096679a",
   "metadata": {},
   "outputs": [],
   "source": [
    "# Topic: NumPy\n",
    "import numpy as np\n",
    "a = np.array([1, 2, 3])\n",
    "print(a + 5)"
   ]
  },
  {
   "cell_type": "code",
   "execution_count": null,
   "id": "2ae15813",
   "metadata": {},
   "outputs": [],
   "source": [
    "# Topic: Loops\n",
    "for i in range(10): print(i*i)"
   ]
  },
  {
   "cell_type": "code",
   "execution_count": null,
   "id": "3dd02700",
   "metadata": {},
   "outputs": [],
   "source": [
    "# Topic: File I/O\n",
    "with open('test.txt', 'r') as f:\n",
    "    print(f.read())"
   ]
  },
  {
   "cell_type": "code",
   "execution_count": null,
   "id": "68493536",
   "metadata": {},
   "outputs": [],
   "source": [
    "# Topic: Sorting Algorithms\n",
    "def bubble_sort(arr):\n",
    " for i in range(len(arr)):\n",
    "  for j in range(0, len(arr)-i-1):\n",
    "   if arr[j]>arr[j+1]: arr[j], arr[j+1]=arr[j+1], arr[j]\n",
    "a = [5,3,8,6]\n",
    "bubble_sort(a)\n",
    "print(a)"
   ]
  },
  {
   "cell_type": "code",
   "execution_count": null,
   "id": "ea54c647",
   "metadata": {},
   "outputs": [],
   "source": [
    "# Topic: Pandas\n",
    "import pandas as pd\n",
    "df = pd.DataFrame({'A':[1,2],'B':[3,4]})\n",
    "print(df)"
   ]
  },
  {
   "cell_type": "code",
   "execution_count": null,
   "id": "37d031dd",
   "metadata": {},
   "outputs": [],
   "source": [
    "# Topic: JSON & CSV\n",
    "import csv\n",
    "with open('file.csv', 'w', newline='') as f:\n",
    " csv.writer(f).writerow(['a','b','c'])"
   ]
  },
  {
   "cell_type": "code",
   "execution_count": null,
   "id": "74195fbd",
   "metadata": {},
   "outputs": [],
   "source": [
    "# Topic: OOP\n",
    "class Student:\n",
    "    def __init__(self, name): self.name = name\n",
    "s = Student('Fahd')\n",
    "print(s.name)"
   ]
  },
  {
   "cell_type": "code",
   "execution_count": null,
   "id": "db41c428",
   "metadata": {},
   "outputs": [],
   "source": [
    "# Topic: Lists & Tuples\n",
    "lst = [1, 2, 3]\n",
    "lst.append(4)\n",
    "print(lst)"
   ]
  },
  {
   "cell_type": "code",
   "execution_count": null,
   "id": "72791bf4",
   "metadata": {},
   "outputs": [],
   "source": [
    "# Topic: Basic ML\n",
    "from sklearn.linear_model import LinearRegression\n",
    "model = LinearRegression()\n",
    "print(model)"
   ]
  },
  {
   "cell_type": "code",
   "execution_count": null,
   "id": "3276894f",
   "metadata": {},
   "outputs": [],
   "source": [
    "# Topic: JSON & CSV\n",
    "import json\n",
    "data = {'a': 1}\n",
    "print(json.dumps(data))"
   ]
  },
  {
   "cell_type": "code",
   "execution_count": null,
   "id": "c8c4937f",
   "metadata": {},
   "outputs": [],
   "source": [
    "# Topic: Matplotlib & Seaborn\n",
    "import matplotlib.pyplot as plt\n",
    "plt.plot([1,2],[3,4])\n",
    "plt.show()"
   ]
  },
  {
   "cell_type": "code",
   "execution_count": null,
   "id": "a27ee6a9",
   "metadata": {},
   "outputs": [],
   "source": [
    "# Topic: Web Scraping\n",
    "import requests\n",
    "from bs4 import BeautifulSoup\n",
    "r = requests.get('https://example.com')\n",
    "soup = BeautifulSoup(r.text, 'html.parser')\n",
    "print(soup.title.text)"
   ]
  },
  {
   "cell_type": "code",
   "execution_count": null,
   "id": "7d99d688",
   "metadata": {},
   "outputs": [],
   "source": [
    "# Topic: Lists & Tuples\n",
    "t = (1, 2, 3)\n",
    "print(t[0])"
   ]
  },
  {
   "cell_type": "code",
   "execution_count": null,
   "id": "309e6142",
   "metadata": {},
   "outputs": [],
   "source": [
    "# Topic: Data Cleaning\n",
    "import pandas as pd\n",
    "df = pd.DataFrame({'A':[1,None,3]})\n",
    "df = df.fillna(0)\n",
    "print(df)"
   ]
  },
  {
   "cell_type": "code",
   "execution_count": null,
   "id": "98f719b9",
   "metadata": {},
   "outputs": [],
   "source": [
    "# Topic: Regex\n",
    "import re\n",
    "text = 'email: test@example.com'\n",
    "print(re.findall(r'\\S+@\\S+', text))"
   ]
  },
  {
   "cell_type": "code",
   "execution_count": null,
   "id": "0e4a36ea",
   "metadata": {},
   "outputs": [],
   "source": [
    "# Topic: Lists & Tuples\n",
    "lst = [1, 2, 3]\n",
    "lst.append(4)\n",
    "print(lst)"
   ]
  },
  {
   "cell_type": "code",
   "execution_count": null,
   "id": "70a9ef73",
   "metadata": {},
   "outputs": [],
   "source": [
    "# Topic: Regex\n",
    "import re\n",
    "text = 'email: test@example.com'\n",
    "print(re.findall(r'\\S+@\\S+', text))"
   ]
  },
  {
   "cell_type": "code",
   "execution_count": null,
   "id": "03daf04a",
   "metadata": {},
   "outputs": [],
   "source": [
    "# Topic: Dictionaries & Sets\n",
    "d = {'name': 'Fahd', 'age': 20}\n",
    "print(d.get('name'))"
   ]
  },
  {
   "cell_type": "code",
   "execution_count": null,
   "id": "bff90c05",
   "metadata": {},
   "outputs": [],
   "source": [
    "# Topic: Loops\n",
    "while True:\n",
    "    print('Break')\n",
    "    break"
   ]
  },
  {
   "cell_type": "code",
   "execution_count": null,
   "id": "04415d12",
   "metadata": {},
   "outputs": [],
   "source": [
    "# Topic: Decorators\n",
    "def log(func):\n",
    " def wrapper():\n",
    "  print('Call')\n",
    "  func()\n",
    " return wrapper\n",
    "@log\n",
    "def say(): print('Hi')\n",
    "say()"
   ]
  },
  {
   "cell_type": "code",
   "execution_count": null,
   "id": "06595797",
   "metadata": {},
   "outputs": [],
   "source": [
    "# Topic: Recursion\n",
    "def fact(n): return 1 if n==0 else n*fact(n-1)\n",
    "print(fact(5))"
   ]
  },
  {
   "cell_type": "code",
   "execution_count": null,
   "id": "3ecd34e2",
   "metadata": {},
   "outputs": [],
   "source": [
    "# Topic: Basics\n",
    "x = 10\n",
    "y = 20\n",
    "print(x + y)"
   ]
  },
  {
   "cell_type": "code",
   "execution_count": null,
   "id": "2fca03a6",
   "metadata": {},
   "outputs": [],
   "source": [
    "# Topic: Basics\n",
    "name = 'Fahd'\n",
    "print(f'Hello, {name}')"
   ]
  },
  {
   "cell_type": "code",
   "execution_count": null,
   "id": "e1138cc4",
   "metadata": {},
   "outputs": [],
   "source": [
    "# Topic: JSON & CSV\n",
    "import json\n",
    "data = {'a': 1}\n",
    "print(json.dumps(data))"
   ]
  },
  {
   "cell_type": "code",
   "execution_count": null,
   "id": "a73c3df5",
   "metadata": {},
   "outputs": [],
   "source": [
    "# Topic: Basic ML\n",
    "from sklearn.linear_model import LinearRegression\n",
    "model = LinearRegression()\n",
    "print(model)"
   ]
  },
  {
   "cell_type": "code",
   "execution_count": null,
   "id": "282f80cd",
   "metadata": {},
   "outputs": [],
   "source": [
    "# Topic: JSON & CSV\n",
    "import json\n",
    "data = {'a': 1}\n",
    "print(json.dumps(data))"
   ]
  },
  {
   "cell_type": "code",
   "execution_count": null,
   "id": "7d6bbc19",
   "metadata": {},
   "outputs": [],
   "source": [
    "# Topic: Recursion\n",
    "def fact(n): return 1 if n==0 else n*fact(n-1)\n",
    "print(fact(5))"
   ]
  },
  {
   "cell_type": "code",
   "execution_count": null,
   "id": "133ce1f7",
   "metadata": {},
   "outputs": [],
   "source": [
    "# Topic: File I/O\n",
    "with open('test.txt', 'r') as f:\n",
    "    print(f.read())"
   ]
  },
  {
   "cell_type": "code",
   "execution_count": null,
   "id": "dd969cff",
   "metadata": {},
   "outputs": [],
   "source": [
    "# Topic: Web Scraping\n",
    "import requests\n",
    "from bs4 import BeautifulSoup\n",
    "r = requests.get('https://example.com')\n",
    "soup = BeautifulSoup(r.text, 'html.parser')\n",
    "print(soup.title.text)"
   ]
  },
  {
   "cell_type": "code",
   "execution_count": null,
   "id": "ec3324fa",
   "metadata": {},
   "outputs": [],
   "source": [
    "# Topic: Sorting Algorithms\n",
    "def bubble_sort(arr):\n",
    " for i in range(len(arr)):\n",
    "  for j in range(0, len(arr)-i-1):\n",
    "   if arr[j]>arr[j+1]: arr[j], arr[j+1]=arr[j+1], arr[j]\n",
    "a = [5,3,8,6]\n",
    "bubble_sort(a)\n",
    "print(a)"
   ]
  },
  {
   "cell_type": "code",
   "execution_count": null,
   "id": "36da3e7c",
   "metadata": {},
   "outputs": [],
   "source": [
    "# Topic: JSON & CSV\n",
    "import csv\n",
    "with open('file.csv', 'w', newline='') as f:\n",
    " csv.writer(f).writerow(['a','b','c'])"
   ]
  },
  {
   "cell_type": "code",
   "execution_count": null,
   "id": "e9cf1b1c",
   "metadata": {},
   "outputs": [],
   "source": [
    "# Topic: Lists & Tuples\n",
    "lst = [1, 2, 3]\n",
    "lst.append(4)\n",
    "print(lst)"
   ]
  },
  {
   "cell_type": "code",
   "execution_count": null,
   "id": "6f8a129f",
   "metadata": {},
   "outputs": [],
   "source": [
    "# Topic: Dictionaries & Sets\n",
    "d = {'name': 'Fahd', 'age': 20}\n",
    "print(d.get('name'))"
   ]
  },
  {
   "cell_type": "code",
   "execution_count": null,
   "id": "1b9f56aa",
   "metadata": {},
   "outputs": [],
   "source": [
    "# Topic: Web Scraping\n",
    "import requests\n",
    "from bs4 import BeautifulSoup\n",
    "r = requests.get('https://example.com')\n",
    "soup = BeautifulSoup(r.text, 'html.parser')\n",
    "print(soup.title.text)"
   ]
  },
  {
   "cell_type": "code",
   "execution_count": null,
   "id": "b93f4485",
   "metadata": {},
   "outputs": [],
   "source": [
    "# Topic: Loops\n",
    "while True:\n",
    "    print('Break')\n",
    "    break"
   ]
  },
  {
   "cell_type": "code",
   "execution_count": null,
   "id": "c02eda9e",
   "metadata": {},
   "outputs": [],
   "source": [
    "# Topic: File I/O\n",
    "with open('test.txt', 'w') as f:\n",
    "    f.write('Hello World')"
   ]
  },
  {
   "cell_type": "code",
   "execution_count": null,
   "id": "acd9c39b",
   "metadata": {},
   "outputs": [],
   "source": [
    "# Topic: Web Scraping\n",
    "import requests\n",
    "from bs4 import BeautifulSoup\n",
    "r = requests.get('https://example.com')\n",
    "soup = BeautifulSoup(r.text, 'html.parser')\n",
    "print(soup.title.text)"
   ]
  },
  {
   "cell_type": "code",
   "execution_count": null,
   "id": "bf799b6e",
   "metadata": {},
   "outputs": [],
   "source": [
    "# Topic: Matplotlib & Seaborn\n",
    "import matplotlib.pyplot as plt\n",
    "plt.plot([1,2],[3,4])\n",
    "plt.show()"
   ]
  },
  {
   "cell_type": "code",
   "execution_count": null,
   "id": "fbf006fb",
   "metadata": {},
   "outputs": [],
   "source": [
    "# Topic: Recursion\n",
    "def fact(n): return 1 if n==0 else n*fact(n-1)\n",
    "print(fact(5))"
   ]
  },
  {
   "cell_type": "code",
   "execution_count": null,
   "id": "bef935f2",
   "metadata": {},
   "outputs": [],
   "source": [
    "# Topic: Loops\n",
    "for i in range(10): print(i*i)"
   ]
  },
  {
   "cell_type": "code",
   "execution_count": null,
   "id": "31be15c8",
   "metadata": {},
   "outputs": [],
   "source": [
    "# Topic: Loops\n",
    "while True:\n",
    "    print('Break')\n",
    "    break"
   ]
  },
  {
   "cell_type": "code",
   "execution_count": null,
   "id": "314ae6d3",
   "metadata": {},
   "outputs": [],
   "source": [
    "# Topic: Mini Projects\n",
    "# Palindrome check\n",
    "def is_pal(s): return s == s[::-1]\n",
    "print(is_pal('madam'))"
   ]
  },
  {
   "cell_type": "code",
   "execution_count": null,
   "id": "81edee79",
   "metadata": {},
   "outputs": [],
   "source": [
    "# Topic: Matplotlib & Seaborn\n",
    "import seaborn as sns\n",
    "import pandas as pd\n",
    "sns.set()\n",
    "sns.histplot(pd.Series([1,2,2,3]));"
   ]
  },
  {
   "cell_type": "code",
   "execution_count": null,
   "id": "e58d47ed",
   "metadata": {},
   "outputs": [],
   "source": [
    "# Topic: Sorting Algorithms\n",
    "def bubble_sort(arr):\n",
    " for i in range(len(arr)):\n",
    "  for j in range(0, len(arr)-i-1):\n",
    "   if arr[j]>arr[j+1]: arr[j], arr[j+1]=arr[j+1], arr[j]\n",
    "a = [5,3,8,6]\n",
    "bubble_sort(a)\n",
    "print(a)"
   ]
  },
  {
   "cell_type": "code",
   "execution_count": null,
   "id": "a76545da",
   "metadata": {},
   "outputs": [],
   "source": [
    "# Topic: Basics\n",
    "x = 10\n",
    "y = 20\n",
    "print(x + y)"
   ]
  },
  {
   "cell_type": "code",
   "execution_count": null,
   "id": "5b3f747e",
   "metadata": {},
   "outputs": [],
   "source": [
    "# Topic: JSON & CSV\n",
    "import csv\n",
    "with open('file.csv', 'w', newline='') as f:\n",
    " csv.writer(f).writerow(['a','b','c'])"
   ]
  },
  {
   "cell_type": "code",
   "execution_count": null,
   "id": "52a647b3",
   "metadata": {},
   "outputs": [],
   "source": [
    "# Topic: Web Scraping\n",
    "import requests\n",
    "from bs4 import BeautifulSoup\n",
    "r = requests.get('https://example.com')\n",
    "soup = BeautifulSoup(r.text, 'html.parser')\n",
    "print(soup.title.text)"
   ]
  },
  {
   "cell_type": "code",
   "execution_count": null,
   "id": "b7bd7aff",
   "metadata": {},
   "outputs": [],
   "source": [
    "# Topic: OOP\n",
    "class Student:\n",
    "    def __init__(self, name): self.name = name\n",
    "s = Student('Fahd')\n",
    "print(s.name)"
   ]
  },
  {
   "cell_type": "code",
   "execution_count": null,
   "id": "f96a75cb",
   "metadata": {},
   "outputs": [],
   "source": [
    "# Topic: Recursion\n",
    "def fact(n): return 1 if n==0 else n*fact(n-1)\n",
    "print(fact(5))"
   ]
  },
  {
   "cell_type": "code",
   "execution_count": null,
   "id": "e1e03f42",
   "metadata": {},
   "outputs": [],
   "source": [
    "# Topic: Mini Projects\n",
    "# Calculator\n",
    "def calc(a,b,op): return eval(f'{a}{op}{b}')\n",
    "print(calc(5,2,'+'))"
   ]
  },
  {
   "cell_type": "code",
   "execution_count": null,
   "id": "1fa114e7",
   "metadata": {},
   "outputs": [],
   "source": [
    "# Topic: Mini Projects\n",
    "# Calculator\n",
    "def calc(a,b,op): return eval(f'{a}{op}{b}')\n",
    "print(calc(5,2,'+'))"
   ]
  },
  {
   "cell_type": "code",
   "execution_count": null,
   "id": "cb3c2e56",
   "metadata": {},
   "outputs": [],
   "source": [
    "# Topic: Sorting Algorithms\n",
    "def bubble_sort(arr):\n",
    " for i in range(len(arr)):\n",
    "  for j in range(0, len(arr)-i-1):\n",
    "   if arr[j]>arr[j+1]: arr[j], arr[j+1]=arr[j+1], arr[j]\n",
    "a = [5,3,8,6]\n",
    "bubble_sort(a)\n",
    "print(a)"
   ]
  },
  {
   "cell_type": "code",
   "execution_count": null,
   "id": "be88da68",
   "metadata": {},
   "outputs": [],
   "source": [
    "# Topic: Data Cleaning\n",
    "import pandas as pd\n",
    "df = pd.DataFrame({'A':[1,None,3]})\n",
    "df = df.fillna(0)\n",
    "print(df)"
   ]
  },
  {
   "cell_type": "code",
   "execution_count": null,
   "id": "fc92091c",
   "metadata": {},
   "outputs": [],
   "source": [
    "# Topic: Data Cleaning\n",
    "import pandas as pd\n",
    "df = pd.DataFrame({'A':[1,None,3]})\n",
    "df = df.fillna(0)\n",
    "print(df)"
   ]
  },
  {
   "cell_type": "code",
   "execution_count": null,
   "id": "124a95e8",
   "metadata": {},
   "outputs": [],
   "source": [
    "# Topic: Regex\n",
    "import re\n",
    "text = 'email: test@example.com'\n",
    "print(re.findall(r'\\S+@\\S+', text))"
   ]
  },
  {
   "cell_type": "code",
   "execution_count": null,
   "id": "c75f462b",
   "metadata": {},
   "outputs": [],
   "source": [
    "# Topic: Regex\n",
    "import re\n",
    "text = 'email: test@example.com'\n",
    "print(re.findall(r'\\S+@\\S+', text))"
   ]
  },
  {
   "cell_type": "code",
   "execution_count": null,
   "id": "e4063f4e",
   "metadata": {},
   "outputs": [],
   "source": [
    "# Topic: Web Scraping\n",
    "import requests\n",
    "from bs4 import BeautifulSoup\n",
    "r = requests.get('https://example.com')\n",
    "soup = BeautifulSoup(r.text, 'html.parser')\n",
    "print(soup.title.text)"
   ]
  },
  {
   "cell_type": "code",
   "execution_count": null,
   "id": "610bb2f5",
   "metadata": {},
   "outputs": [],
   "source": [
    "# Topic: Matplotlib & Seaborn\n",
    "import matplotlib.pyplot as plt\n",
    "plt.plot([1,2],[3,4])\n",
    "plt.show()"
   ]
  },
  {
   "cell_type": "code",
   "execution_count": null,
   "id": "4100ef4b",
   "metadata": {},
   "outputs": [],
   "source": [
    "# Topic: Sorting Algorithms\n",
    "def bubble_sort(arr):\n",
    " for i in range(len(arr)):\n",
    "  for j in range(0, len(arr)-i-1):\n",
    "   if arr[j]>arr[j+1]: arr[j], arr[j+1]=arr[j+1], arr[j]\n",
    "a = [5,3,8,6]\n",
    "bubble_sort(a)\n",
    "print(a)"
   ]
  },
  {
   "cell_type": "code",
   "execution_count": null,
   "id": "66e87c00",
   "metadata": {},
   "outputs": [],
   "source": [
    "# Topic: File I/O\n",
    "with open('test.txt', 'r') as f:\n",
    "    print(f.read())"
   ]
  },
  {
   "cell_type": "code",
   "execution_count": null,
   "id": "8227dbde",
   "metadata": {},
   "outputs": [],
   "source": [
    "# Topic: Dictionaries & Sets\n",
    "s = set([1, 2, 3, 2])\n",
    "print(s)"
   ]
  },
  {
   "cell_type": "code",
   "execution_count": null,
   "id": "38c96eed",
   "metadata": {},
   "outputs": [],
   "source": [
    "# Topic: Recursion\n",
    "def fact(n): return 1 if n==0 else n*fact(n-1)\n",
    "print(fact(5))"
   ]
  },
  {
   "cell_type": "code",
   "execution_count": null,
   "id": "a71a1172",
   "metadata": {},
   "outputs": [],
   "source": [
    "# Topic: Data Cleaning\n",
    "import pandas as pd\n",
    "df = pd.DataFrame({'A':[1,None,3]})\n",
    "df = df.fillna(0)\n",
    "print(df)"
   ]
  },
  {
   "cell_type": "code",
   "execution_count": null,
   "id": "1786f6df",
   "metadata": {},
   "outputs": [],
   "source": [
    "# Topic: Lists & Tuples\n",
    "t = (1, 2, 3)\n",
    "print(t[0])"
   ]
  },
  {
   "cell_type": "code",
   "execution_count": null,
   "id": "44de3c99",
   "metadata": {},
   "outputs": [],
   "source": [
    "# Topic: Pandas\n",
    "import pandas as pd\n",
    "df = pd.DataFrame({'A':[1,2],'B':[3,4]})\n",
    "print(df)"
   ]
  },
  {
   "cell_type": "code",
   "execution_count": null,
   "id": "9fb0694b",
   "metadata": {},
   "outputs": [],
   "source": [
    "# Topic: Pandas\n",
    "import pandas as pd\n",
    "df = pd.DataFrame({'A':[1,2],'B':[3,4]})\n",
    "print(df)"
   ]
  },
  {
   "cell_type": "code",
   "execution_count": null,
   "id": "f3545a6b",
   "metadata": {},
   "outputs": [],
   "source": [
    "# Topic: NumPy\n",
    "import numpy as np\n",
    "a = np.array([1, 2, 3])\n",
    "print(a + 5)"
   ]
  },
  {
   "cell_type": "code",
   "execution_count": null,
   "id": "9a51ecbb",
   "metadata": {},
   "outputs": [],
   "source": [
    "# Topic: File I/O\n",
    "with open('test.txt', 'r') as f:\n",
    "    print(f.read())"
   ]
  },
  {
   "cell_type": "code",
   "execution_count": null,
   "id": "0e7fe30f",
   "metadata": {},
   "outputs": [],
   "source": [
    "# Topic: Sorting Algorithms\n",
    "def bubble_sort(arr):\n",
    " for i in range(len(arr)):\n",
    "  for j in range(0, len(arr)-i-1):\n",
    "   if arr[j]>arr[j+1]: arr[j], arr[j+1]=arr[j+1], arr[j]\n",
    "a = [5,3,8,6]\n",
    "bubble_sort(a)\n",
    "print(a)"
   ]
  },
  {
   "cell_type": "code",
   "execution_count": null,
   "id": "b2743727",
   "metadata": {},
   "outputs": [],
   "source": [
    "# Topic: Functions\n",
    "def square(x): return x*x\n",
    "print(square(5))"
   ]
  },
  {
   "cell_type": "code",
   "execution_count": null,
   "id": "71de7c89",
   "metadata": {},
   "outputs": [],
   "source": [
    "# Topic: Lists & Tuples\n",
    "lst = [1, 2, 3]\n",
    "lst.append(4)\n",
    "print(lst)"
   ]
  },
  {
   "cell_type": "code",
   "execution_count": null,
   "id": "7b33f97e",
   "metadata": {},
   "outputs": [],
   "source": [
    "# Topic: Decorators\n",
    "def log(func):\n",
    " def wrapper():\n",
    "  print('Call')\n",
    "  func()\n",
    " return wrapper\n",
    "@log\n",
    "def say(): print('Hi')\n",
    "say()"
   ]
  },
  {
   "cell_type": "code",
   "execution_count": null,
   "id": "ac5f3991",
   "metadata": {},
   "outputs": [],
   "source": [
    "# Topic: Mini Projects\n",
    "# Palindrome check\n",
    "def is_pal(s): return s == s[::-1]\n",
    "print(is_pal('madam'))"
   ]
  },
  {
   "cell_type": "code",
   "execution_count": null,
   "id": "d40f9b5d",
   "metadata": {},
   "outputs": [],
   "source": [
    "# Topic: Matplotlib & Seaborn\n",
    "import seaborn as sns\n",
    "import pandas as pd\n",
    "sns.set()\n",
    "sns.histplot(pd.Series([1,2,2,3]));"
   ]
  },
  {
   "cell_type": "code",
   "execution_count": null,
   "id": "fb2ba6bb",
   "metadata": {},
   "outputs": [],
   "source": [
    "# Topic: Pandas\n",
    "import pandas as pd\n",
    "df = pd.DataFrame({'A':[1,2],'B':[3,4]})\n",
    "print(df)"
   ]
  },
  {
   "cell_type": "code",
   "execution_count": null,
   "id": "0db031a1",
   "metadata": {},
   "outputs": [],
   "source": [
    "# Topic: Regex\n",
    "import re\n",
    "text = 'email: test@example.com'\n",
    "print(re.findall(r'\\S+@\\S+', text))"
   ]
  },
  {
   "cell_type": "code",
   "execution_count": null,
   "id": "2a1ecfeb",
   "metadata": {},
   "outputs": [],
   "source": [
    "# Topic: NumPy\n",
    "import numpy as np\n",
    "a = np.array([1, 2, 3])\n",
    "print(a + 5)"
   ]
  },
  {
   "cell_type": "code",
   "execution_count": null,
   "id": "3e73c5ca",
   "metadata": {},
   "outputs": [],
   "source": [
    "# Topic: OOP\n",
    "class Student:\n",
    "    def __init__(self, name): self.name = name\n",
    "s = Student('Fahd')\n",
    "print(s.name)"
   ]
  },
  {
   "cell_type": "code",
   "execution_count": null,
   "id": "459cadb6",
   "metadata": {},
   "outputs": [],
   "source": [
    "# Topic: Functions\n",
    "def greet(name='User'):\n",
    "    print(f'Hi, {name}')\n",
    "greet()"
   ]
  },
  {
   "cell_type": "code",
   "execution_count": null,
   "id": "cad06313",
   "metadata": {},
   "outputs": [],
   "source": [
    "# Topic: Mini Projects\n",
    "# Palindrome check\n",
    "def is_pal(s): return s == s[::-1]\n",
    "print(is_pal('madam'))"
   ]
  },
  {
   "cell_type": "code",
   "execution_count": null,
   "id": "951acdd3",
   "metadata": {},
   "outputs": [],
   "source": [
    "# Topic: Sorting Algorithms\n",
    "def bubble_sort(arr):\n",
    " for i in range(len(arr)):\n",
    "  for j in range(0, len(arr)-i-1):\n",
    "   if arr[j]>arr[j+1]: arr[j], arr[j+1]=arr[j+1], arr[j]\n",
    "a = [5,3,8,6]\n",
    "bubble_sort(a)\n",
    "print(a)"
   ]
  },
  {
   "cell_type": "code",
   "execution_count": null,
   "id": "48381add",
   "metadata": {},
   "outputs": [],
   "source": [
    "# Topic: Basics\n",
    "x = 10\n",
    "y = 20\n",
    "print(x + y)"
   ]
  },
  {
   "cell_type": "code",
   "execution_count": null,
   "id": "e2ecc57c",
   "metadata": {},
   "outputs": [],
   "source": [
    "# Topic: Loops\n",
    "for i in range(10): print(i*i)"
   ]
  },
  {
   "cell_type": "code",
   "execution_count": null,
   "id": "eb2aa01d",
   "metadata": {},
   "outputs": [],
   "source": [
    "# Topic: Dictionaries & Sets\n",
    "s = set([1, 2, 3, 2])\n",
    "print(s)"
   ]
  },
  {
   "cell_type": "code",
   "execution_count": null,
   "id": "912db2de",
   "metadata": {},
   "outputs": [],
   "source": [
    "# Topic: Matplotlib & Seaborn\n",
    "import seaborn as sns\n",
    "import pandas as pd\n",
    "sns.set()\n",
    "sns.histplot(pd.Series([1,2,2,3]));"
   ]
  },
  {
   "cell_type": "code",
   "execution_count": null,
   "id": "bd2ba544",
   "metadata": {},
   "outputs": [],
   "source": [
    "# Topic: Web Scraping\n",
    "import requests\n",
    "from bs4 import BeautifulSoup\n",
    "r = requests.get('https://example.com')\n",
    "soup = BeautifulSoup(r.text, 'html.parser')\n",
    "print(soup.title.text)"
   ]
  },
  {
   "cell_type": "code",
   "execution_count": null,
   "id": "43ea3cb8",
   "metadata": {},
   "outputs": [],
   "source": [
    "# Topic: Data Cleaning\n",
    "import pandas as pd\n",
    "df = pd.DataFrame({'A':[1,None,3]})\n",
    "df = df.fillna(0)\n",
    "print(df)"
   ]
  },
  {
   "cell_type": "code",
   "execution_count": null,
   "id": "5e88780a",
   "metadata": {},
   "outputs": [],
   "source": [
    "# Topic: Data Cleaning\n",
    "import pandas as pd\n",
    "df = pd.DataFrame({'A':[1,None,3]})\n",
    "df = df.fillna(0)\n",
    "print(df)"
   ]
  },
  {
   "cell_type": "code",
   "execution_count": null,
   "id": "19c6cb1d",
   "metadata": {},
   "outputs": [],
   "source": [
    "# Topic: File I/O\n",
    "with open('test.txt', 'w') as f:\n",
    "    f.write('Hello World')"
   ]
  },
  {
   "cell_type": "code",
   "execution_count": null,
   "id": "05e26536",
   "metadata": {},
   "outputs": [],
   "source": [
    "# Topic: OOP\n",
    "class Student:\n",
    "    def __init__(self, name): self.name = name\n",
    "s = Student('Fahd')\n",
    "print(s.name)"
   ]
  },
  {
   "cell_type": "code",
   "execution_count": null,
   "id": "5d06b017",
   "metadata": {},
   "outputs": [],
   "source": [
    "# Topic: File I/O\n",
    "with open('test.txt', 'r') as f:\n",
    "    print(f.read())"
   ]
  },
  {
   "cell_type": "code",
   "execution_count": null,
   "id": "35c1ff2d",
   "metadata": {},
   "outputs": [],
   "source": [
    "# Topic: Regex\n",
    "import re\n",
    "text = 'email: test@example.com'\n",
    "print(re.findall(r'\\S+@\\S+', text))"
   ]
  },
  {
   "cell_type": "code",
   "execution_count": null,
   "id": "f77ee7b5",
   "metadata": {},
   "outputs": [],
   "source": [
    "# Topic: Data Cleaning\n",
    "import pandas as pd\n",
    "df = pd.DataFrame({'A':[1,None,3]})\n",
    "df = df.fillna(0)\n",
    "print(df)"
   ]
  },
  {
   "cell_type": "code",
   "execution_count": null,
   "id": "a3bf467a",
   "metadata": {},
   "outputs": [],
   "source": [
    "# Topic: Decorators\n",
    "def log(func):\n",
    " def wrapper():\n",
    "  print('Call')\n",
    "  func()\n",
    " return wrapper\n",
    "@log\n",
    "def say(): print('Hi')\n",
    "say()"
   ]
  },
  {
   "cell_type": "code",
   "execution_count": null,
   "id": "2f8f33e6",
   "metadata": {},
   "outputs": [],
   "source": [
    "# Topic: Sorting Algorithms\n",
    "def bubble_sort(arr):\n",
    " for i in range(len(arr)):\n",
    "  for j in range(0, len(arr)-i-1):\n",
    "   if arr[j]>arr[j+1]: arr[j], arr[j+1]=arr[j+1], arr[j]\n",
    "a = [5,3,8,6]\n",
    "bubble_sort(a)\n",
    "print(a)"
   ]
  },
  {
   "cell_type": "code",
   "execution_count": null,
   "id": "bc4b36c4",
   "metadata": {},
   "outputs": [],
   "source": [
    "# Topic: Basic ML\n",
    "from sklearn.linear_model import LinearRegression\n",
    "model = LinearRegression()\n",
    "print(model)"
   ]
  },
  {
   "cell_type": "code",
   "execution_count": null,
   "id": "e4fe7a59",
   "metadata": {},
   "outputs": [],
   "source": [
    "# Topic: NumPy\n",
    "import numpy as np\n",
    "a = np.array([1, 2, 3])\n",
    "print(a + 5)"
   ]
  },
  {
   "cell_type": "code",
   "execution_count": null,
   "id": "1cfc02ef",
   "metadata": {},
   "outputs": [],
   "source": [
    "# Topic: Data Cleaning\n",
    "import pandas as pd\n",
    "df = pd.DataFrame({'A':[1,None,3]})\n",
    "df = df.fillna(0)\n",
    "print(df)"
   ]
  },
  {
   "cell_type": "code",
   "execution_count": null,
   "id": "74de1285",
   "metadata": {},
   "outputs": [],
   "source": [
    "# Topic: OOP\n",
    "class Student:\n",
    "    def __init__(self, name): self.name = name\n",
    "s = Student('Fahd')\n",
    "print(s.name)"
   ]
  },
  {
   "cell_type": "code",
   "execution_count": null,
   "id": "582e98cd",
   "metadata": {},
   "outputs": [],
   "source": [
    "# Topic: Loops\n",
    "while True:\n",
    "    print('Break')\n",
    "    break"
   ]
  },
  {
   "cell_type": "code",
   "execution_count": null,
   "id": "e7f9cc48",
   "metadata": {},
   "outputs": [],
   "source": [
    "# Topic: Recursion\n",
    "def fact(n): return 1 if n==0 else n*fact(n-1)\n",
    "print(fact(5))"
   ]
  },
  {
   "cell_type": "code",
   "execution_count": null,
   "id": "ad21f2d5",
   "metadata": {},
   "outputs": [],
   "source": [
    "# Topic: Data Cleaning\n",
    "import pandas as pd\n",
    "df = pd.DataFrame({'A':[1,None,3]})\n",
    "df = df.fillna(0)\n",
    "print(df)"
   ]
  },
  {
   "cell_type": "code",
   "execution_count": null,
   "id": "bdb5f3c3",
   "metadata": {},
   "outputs": [],
   "source": [
    "# Topic: JSON & CSV\n",
    "import json\n",
    "data = {'a': 1}\n",
    "print(json.dumps(data))"
   ]
  },
  {
   "cell_type": "code",
   "execution_count": null,
   "id": "1be11988",
   "metadata": {},
   "outputs": [],
   "source": [
    "# Topic: JSON & CSV\n",
    "import json\n",
    "data = {'a': 1}\n",
    "print(json.dumps(data))"
   ]
  },
  {
   "cell_type": "code",
   "execution_count": null,
   "id": "e5484f5f",
   "metadata": {},
   "outputs": [],
   "source": [
    "# Topic: Loops\n",
    "while True:\n",
    "    print('Break')\n",
    "    break"
   ]
  },
  {
   "cell_type": "code",
   "execution_count": null,
   "id": "71ba771a",
   "metadata": {},
   "outputs": [],
   "source": [
    "# Topic: Data Cleaning\n",
    "import pandas as pd\n",
    "df = pd.DataFrame({'A':[1,None,3]})\n",
    "df = df.fillna(0)\n",
    "print(df)"
   ]
  },
  {
   "cell_type": "code",
   "execution_count": null,
   "id": "769625fb",
   "metadata": {},
   "outputs": [],
   "source": [
    "# Topic: Functions\n",
    "def square(x): return x*x\n",
    "print(square(5))"
   ]
  },
  {
   "cell_type": "code",
   "execution_count": null,
   "id": "38bb3801",
   "metadata": {},
   "outputs": [],
   "source": [
    "# Topic: Recursion\n",
    "def fact(n): return 1 if n==0 else n*fact(n-1)\n",
    "print(fact(5))"
   ]
  },
  {
   "cell_type": "code",
   "execution_count": null,
   "id": "a3d5cacc",
   "metadata": {},
   "outputs": [],
   "source": [
    "# Topic: Functions\n",
    "def square(x): return x*x\n",
    "print(square(5))"
   ]
  },
  {
   "cell_type": "code",
   "execution_count": null,
   "id": "c6765e3b",
   "metadata": {},
   "outputs": [],
   "source": [
    "# Topic: Mini Projects\n",
    "# Palindrome check\n",
    "def is_pal(s): return s == s[::-1]\n",
    "print(is_pal('madam'))"
   ]
  },
  {
   "cell_type": "code",
   "execution_count": null,
   "id": "d6f916a6",
   "metadata": {},
   "outputs": [],
   "source": [
    "# Topic: Matplotlib & Seaborn\n",
    "import matplotlib.pyplot as plt\n",
    "plt.plot([1,2],[3,4])\n",
    "plt.show()"
   ]
  },
  {
   "cell_type": "code",
   "execution_count": null,
   "id": "d650bded",
   "metadata": {},
   "outputs": [],
   "source": [
    "# Topic: Decorators\n",
    "def log(func):\n",
    " def wrapper():\n",
    "  print('Call')\n",
    "  func()\n",
    " return wrapper\n",
    "@log\n",
    "def say(): print('Hi')\n",
    "say()"
   ]
  },
  {
   "cell_type": "code",
   "execution_count": null,
   "id": "c82e8fe9",
   "metadata": {},
   "outputs": [],
   "source": [
    "# Topic: Pandas\n",
    "import pandas as pd\n",
    "df = pd.DataFrame({'A':[1,2],'B':[3,4]})\n",
    "print(df)"
   ]
  },
  {
   "cell_type": "code",
   "execution_count": null,
   "id": "e8d75a04",
   "metadata": {},
   "outputs": [],
   "source": [
    "# Topic: Recursion\n",
    "def fact(n): return 1 if n==0 else n*fact(n-1)\n",
    "print(fact(5))"
   ]
  },
  {
   "cell_type": "code",
   "execution_count": null,
   "id": "a2ac066a",
   "metadata": {},
   "outputs": [],
   "source": [
    "# Topic: File I/O\n",
    "with open('test.txt', 'r') as f:\n",
    "    print(f.read())"
   ]
  },
  {
   "cell_type": "code",
   "execution_count": null,
   "id": "8d4b7fc2",
   "metadata": {},
   "outputs": [],
   "source": [
    "# Topic: Recursion\n",
    "def fact(n): return 1 if n==0 else n*fact(n-1)\n",
    "print(fact(5))"
   ]
  },
  {
   "cell_type": "code",
   "execution_count": null,
   "id": "07acada1",
   "metadata": {},
   "outputs": [],
   "source": [
    "# Topic: Regex\n",
    "import re\n",
    "text = 'email: test@example.com'\n",
    "print(re.findall(r'\\S+@\\S+', text))"
   ]
  },
  {
   "cell_type": "code",
   "execution_count": null,
   "id": "e90fc9bc",
   "metadata": {},
   "outputs": [],
   "source": [
    "# Topic: Sorting Algorithms\n",
    "def bubble_sort(arr):\n",
    " for i in range(len(arr)):\n",
    "  for j in range(0, len(arr)-i-1):\n",
    "   if arr[j]>arr[j+1]: arr[j], arr[j+1]=arr[j+1], arr[j]\n",
    "a = [5,3,8,6]\n",
    "bubble_sort(a)\n",
    "print(a)"
   ]
  },
  {
   "cell_type": "code",
   "execution_count": null,
   "id": "12a461e9",
   "metadata": {},
   "outputs": [],
   "source": [
    "# Topic: File I/O\n",
    "with open('test.txt', 'r') as f:\n",
    "    print(f.read())"
   ]
  },
  {
   "cell_type": "code",
   "execution_count": null,
   "id": "05a88104",
   "metadata": {},
   "outputs": [],
   "source": [
    "# Topic: Decorators\n",
    "def log(func):\n",
    " def wrapper():\n",
    "  print('Call')\n",
    "  func()\n",
    " return wrapper\n",
    "@log\n",
    "def say(): print('Hi')\n",
    "say()"
   ]
  },
  {
   "cell_type": "code",
   "execution_count": null,
   "id": "c27ab4b5",
   "metadata": {},
   "outputs": [],
   "source": [
    "# Topic: Web Scraping\n",
    "import requests\n",
    "from bs4 import BeautifulSoup\n",
    "r = requests.get('https://example.com')\n",
    "soup = BeautifulSoup(r.text, 'html.parser')\n",
    "print(soup.title.text)"
   ]
  },
  {
   "cell_type": "code",
   "execution_count": null,
   "id": "291b2a71",
   "metadata": {},
   "outputs": [],
   "source": [
    "# Topic: OOP\n",
    "class Student:\n",
    "    def __init__(self, name): self.name = name\n",
    "s = Student('Fahd')\n",
    "print(s.name)"
   ]
  },
  {
   "cell_type": "code",
   "execution_count": null,
   "id": "ca25022b",
   "metadata": {},
   "outputs": [],
   "source": [
    "# Topic: Data Cleaning\n",
    "import pandas as pd\n",
    "df = pd.DataFrame({'A':[1,None,3]})\n",
    "df = df.fillna(0)\n",
    "print(df)"
   ]
  },
  {
   "cell_type": "code",
   "execution_count": null,
   "id": "063d230d",
   "metadata": {},
   "outputs": [],
   "source": [
    "# Topic: File I/O\n",
    "with open('test.txt', 'r') as f:\n",
    "    print(f.read())"
   ]
  },
  {
   "cell_type": "code",
   "execution_count": null,
   "id": "c3123b7a",
   "metadata": {},
   "outputs": [],
   "source": [
    "# Topic: File I/O\n",
    "with open('test.txt', 'r') as f:\n",
    "    print(f.read())"
   ]
  },
  {
   "cell_type": "code",
   "execution_count": null,
   "id": "5a2928ef",
   "metadata": {},
   "outputs": [],
   "source": [
    "# Topic: Recursion\n",
    "def fact(n): return 1 if n==0 else n*fact(n-1)\n",
    "print(fact(5))"
   ]
  },
  {
   "cell_type": "code",
   "execution_count": null,
   "id": "6f0a607c",
   "metadata": {},
   "outputs": [],
   "source": [
    "# Topic: Matplotlib & Seaborn\n",
    "import matplotlib.pyplot as plt\n",
    "plt.plot([1,2],[3,4])\n",
    "plt.show()"
   ]
  },
  {
   "cell_type": "code",
   "execution_count": null,
   "id": "3f5ec2dc",
   "metadata": {},
   "outputs": [],
   "source": [
    "# Topic: OOP\n",
    "class Student:\n",
    "    def __init__(self, name): self.name = name\n",
    "s = Student('Fahd')\n",
    "print(s.name)"
   ]
  },
  {
   "cell_type": "code",
   "execution_count": null,
   "id": "1c8d3904",
   "metadata": {},
   "outputs": [],
   "source": [
    "# Topic: Functions\n",
    "def greet(name='User'):\n",
    "    print(f'Hi, {name}')\n",
    "greet()"
   ]
  },
  {
   "cell_type": "code",
   "execution_count": null,
   "id": "5da0d698",
   "metadata": {},
   "outputs": [],
   "source": [
    "# Topic: Functions\n",
    "def greet(name='User'):\n",
    "    print(f'Hi, {name}')\n",
    "greet()"
   ]
  },
  {
   "cell_type": "code",
   "execution_count": null,
   "id": "972a998e",
   "metadata": {},
   "outputs": [],
   "source": [
    "# Topic: Regex\n",
    "import re\n",
    "text = 'email: test@example.com'\n",
    "print(re.findall(r'\\S+@\\S+', text))"
   ]
  },
  {
   "cell_type": "code",
   "execution_count": null,
   "id": "f974f831",
   "metadata": {},
   "outputs": [],
   "source": [
    "# Topic: Web Scraping\n",
    "import requests\n",
    "from bs4 import BeautifulSoup\n",
    "r = requests.get('https://example.com')\n",
    "soup = BeautifulSoup(r.text, 'html.parser')\n",
    "print(soup.title.text)"
   ]
  },
  {
   "cell_type": "code",
   "execution_count": null,
   "id": "6e611dfc",
   "metadata": {},
   "outputs": [],
   "source": [
    "# Topic: Functions\n",
    "def greet(name='User'):\n",
    "    print(f'Hi, {name}')\n",
    "greet()"
   ]
  },
  {
   "cell_type": "code",
   "execution_count": null,
   "id": "f2d6287d",
   "metadata": {},
   "outputs": [],
   "source": [
    "# Topic: OOP\n",
    "class Student:\n",
    "    def __init__(self, name): self.name = name\n",
    "s = Student('Fahd')\n",
    "print(s.name)"
   ]
  },
  {
   "cell_type": "code",
   "execution_count": null,
   "id": "b8b3c607",
   "metadata": {},
   "outputs": [],
   "source": [
    "# Topic: JSON & CSV\n",
    "import json\n",
    "data = {'a': 1}\n",
    "print(json.dumps(data))"
   ]
  },
  {
   "cell_type": "code",
   "execution_count": null,
   "id": "06d430e2",
   "metadata": {},
   "outputs": [],
   "source": [
    "# Topic: OOP\n",
    "class Student:\n",
    "    def __init__(self, name): self.name = name\n",
    "s = Student('Fahd')\n",
    "print(s.name)"
   ]
  },
  {
   "cell_type": "code",
   "execution_count": null,
   "id": "d08718b2",
   "metadata": {},
   "outputs": [],
   "source": [
    "# Topic: Basic ML\n",
    "from sklearn.linear_model import LinearRegression\n",
    "model = LinearRegression()\n",
    "print(model)"
   ]
  },
  {
   "cell_type": "code",
   "execution_count": null,
   "id": "80f6a877",
   "metadata": {},
   "outputs": [],
   "source": [
    "# Topic: Loops\n",
    "for i in range(10): print(i*i)"
   ]
  },
  {
   "cell_type": "code",
   "execution_count": null,
   "id": "e321d7b5",
   "metadata": {},
   "outputs": [],
   "source": [
    "# Topic: Regex\n",
    "import re\n",
    "text = 'email: test@example.com'\n",
    "print(re.findall(r'\\S+@\\S+', text))"
   ]
  },
  {
   "cell_type": "code",
   "execution_count": null,
   "id": "77b2c933",
   "metadata": {},
   "outputs": [],
   "source": [
    "# Topic: Regex\n",
    "import re\n",
    "text = 'email: test@example.com'\n",
    "print(re.findall(r'\\S+@\\S+', text))"
   ]
  },
  {
   "cell_type": "code",
   "execution_count": null,
   "id": "dd8e2fbc",
   "metadata": {},
   "outputs": [],
   "source": [
    "# Topic: Sorting Algorithms\n",
    "def bubble_sort(arr):\n",
    " for i in range(len(arr)):\n",
    "  for j in range(0, len(arr)-i-1):\n",
    "   if arr[j]>arr[j+1]: arr[j], arr[j+1]=arr[j+1], arr[j]\n",
    "a = [5,3,8,6]\n",
    "bubble_sort(a)\n",
    "print(a)"
   ]
  },
  {
   "cell_type": "code",
   "execution_count": null,
   "id": "605198e7",
   "metadata": {},
   "outputs": [],
   "source": [
    "# Topic: Basics\n",
    "name = 'Fahd'\n",
    "print(f'Hello, {name}')"
   ]
  },
  {
   "cell_type": "code",
   "execution_count": null,
   "id": "b5197294",
   "metadata": {},
   "outputs": [],
   "source": [
    "# Topic: Basics\n",
    "x = 10\n",
    "y = 20\n",
    "print(x + y)"
   ]
  },
  {
   "cell_type": "code",
   "execution_count": null,
   "id": "0e8ecca3",
   "metadata": {},
   "outputs": [],
   "source": [
    "# Topic: Lists & Tuples\n",
    "t = (1, 2, 3)\n",
    "print(t[0])"
   ]
  },
  {
   "cell_type": "code",
   "execution_count": null,
   "id": "8a4e20f7",
   "metadata": {},
   "outputs": [],
   "source": [
    "# Topic: Dictionaries & Sets\n",
    "d = {'name': 'Fahd', 'age': 20}\n",
    "print(d.get('name'))"
   ]
  },
  {
   "cell_type": "code",
   "execution_count": null,
   "id": "175cc16c",
   "metadata": {},
   "outputs": [],
   "source": [
    "# Topic: Loops\n",
    "for i in range(10): print(i*i)"
   ]
  },
  {
   "cell_type": "code",
   "execution_count": null,
   "id": "072f3b6e",
   "metadata": {},
   "outputs": [],
   "source": [
    "# Topic: Loops\n",
    "for i in range(10): print(i*i)"
   ]
  },
  {
   "cell_type": "code",
   "execution_count": null,
   "id": "0ef7059b",
   "metadata": {},
   "outputs": [],
   "source": [
    "# Topic: Loops\n",
    "while True:\n",
    "    print('Break')\n",
    "    break"
   ]
  },
  {
   "cell_type": "code",
   "execution_count": null,
   "id": "4b30f9e5",
   "metadata": {},
   "outputs": [],
   "source": [
    "# Topic: File I/O\n",
    "with open('test.txt', 'r') as f:\n",
    "    print(f.read())"
   ]
  },
  {
   "cell_type": "code",
   "execution_count": null,
   "id": "b376349f",
   "metadata": {},
   "outputs": [],
   "source": [
    "# Topic: Loops\n",
    "for i in range(10): print(i*i)"
   ]
  },
  {
   "cell_type": "code",
   "execution_count": null,
   "id": "52838ad2",
   "metadata": {},
   "outputs": [],
   "source": [
    "# Topic: OOP\n",
    "class Student:\n",
    "    def __init__(self, name): self.name = name\n",
    "s = Student('Fahd')\n",
    "print(s.name)"
   ]
  },
  {
   "cell_type": "code",
   "execution_count": null,
   "id": "2eff2a12",
   "metadata": {},
   "outputs": [],
   "source": [
    "# Topic: Pandas\n",
    "import pandas as pd\n",
    "df = pd.DataFrame({'A':[1,2],'B':[3,4]})\n",
    "print(df)"
   ]
  },
  {
   "cell_type": "code",
   "execution_count": null,
   "id": "6b523de7",
   "metadata": {},
   "outputs": [],
   "source": [
    "# Topic: Regex\n",
    "import re\n",
    "text = 'email: test@example.com'\n",
    "print(re.findall(r'\\S+@\\S+', text))"
   ]
  },
  {
   "cell_type": "code",
   "execution_count": null,
   "id": "84f2129e",
   "metadata": {},
   "outputs": [],
   "source": [
    "# Topic: Dictionaries & Sets\n",
    "d = {'name': 'Fahd', 'age': 20}\n",
    "print(d.get('name'))"
   ]
  },
  {
   "cell_type": "code",
   "execution_count": null,
   "id": "983aa127",
   "metadata": {},
   "outputs": [],
   "source": [
    "# Topic: Pandas\n",
    "import pandas as pd\n",
    "df = pd.DataFrame({'A':[1,2],'B':[3,4]})\n",
    "print(df)"
   ]
  },
  {
   "cell_type": "code",
   "execution_count": null,
   "id": "d3ed1ad9",
   "metadata": {},
   "outputs": [],
   "source": [
    "# Topic: Web Scraping\n",
    "import requests\n",
    "from bs4 import BeautifulSoup\n",
    "r = requests.get('https://example.com')\n",
    "soup = BeautifulSoup(r.text, 'html.parser')\n",
    "print(soup.title.text)"
   ]
  },
  {
   "cell_type": "code",
   "execution_count": null,
   "id": "279f7aaa",
   "metadata": {},
   "outputs": [],
   "source": [
    "# Topic: Basics\n",
    "name = 'Fahd'\n",
    "print(f'Hello, {name}')"
   ]
  },
  {
   "cell_type": "code",
   "execution_count": null,
   "id": "6221ef81",
   "metadata": {},
   "outputs": [],
   "source": [
    "# Topic: Mini Projects\n",
    "# Palindrome check\n",
    "def is_pal(s): return s == s[::-1]\n",
    "print(is_pal('madam'))"
   ]
  },
  {
   "cell_type": "code",
   "execution_count": null,
   "id": "10a7eff1",
   "metadata": {},
   "outputs": [],
   "source": [
    "# Topic: Mini Projects\n",
    "# Calculator\n",
    "def calc(a,b,op): return eval(f'{a}{op}{b}')\n",
    "print(calc(5,2,'+'))"
   ]
  },
  {
   "cell_type": "code",
   "execution_count": null,
   "id": "4f61c6d7",
   "metadata": {},
   "outputs": [],
   "source": [
    "# Topic: File I/O\n",
    "with open('test.txt', 'r') as f:\n",
    "    print(f.read())"
   ]
  },
  {
   "cell_type": "code",
   "execution_count": null,
   "id": "f0f25e9b",
   "metadata": {},
   "outputs": [],
   "source": [
    "# Topic: Lists & Tuples\n",
    "t = (1, 2, 3)\n",
    "print(t[0])"
   ]
  },
  {
   "cell_type": "code",
   "execution_count": null,
   "id": "af131eb8",
   "metadata": {},
   "outputs": [],
   "source": [
    "# Topic: JSON & CSV\n",
    "import csv\n",
    "with open('file.csv', 'w', newline='') as f:\n",
    " csv.writer(f).writerow(['a','b','c'])"
   ]
  },
  {
   "cell_type": "code",
   "execution_count": null,
   "id": "1a2ae650",
   "metadata": {},
   "outputs": [],
   "source": [
    "# Topic: Web Scraping\n",
    "import requests\n",
    "from bs4 import BeautifulSoup\n",
    "r = requests.get('https://example.com')\n",
    "soup = BeautifulSoup(r.text, 'html.parser')\n",
    "print(soup.title.text)"
   ]
  },
  {
   "cell_type": "code",
   "execution_count": null,
   "id": "4f3b3725",
   "metadata": {},
   "outputs": [],
   "source": [
    "# Topic: Basics\n",
    "x = 10\n",
    "y = 20\n",
    "print(x + y)"
   ]
  },
  {
   "cell_type": "code",
   "execution_count": null,
   "id": "1342f87a",
   "metadata": {},
   "outputs": [],
   "source": [
    "# Topic: Basics\n",
    "name = 'Fahd'\n",
    "print(f'Hello, {name}')"
   ]
  },
  {
   "cell_type": "code",
   "execution_count": null,
   "id": "4c2aeb26",
   "metadata": {},
   "outputs": [],
   "source": [
    "# Topic: JSON & CSV\n",
    "import csv\n",
    "with open('file.csv', 'w', newline='') as f:\n",
    " csv.writer(f).writerow(['a','b','c'])"
   ]
  },
  {
   "cell_type": "code",
   "execution_count": null,
   "id": "8586d3bc",
   "metadata": {},
   "outputs": [],
   "source": [
    "# Topic: Regex\n",
    "import re\n",
    "text = 'email: test@example.com'\n",
    "print(re.findall(r'\\S+@\\S+', text))"
   ]
  },
  {
   "cell_type": "code",
   "execution_count": null,
   "id": "8d7cbfb9",
   "metadata": {},
   "outputs": [],
   "source": [
    "# Topic: Recursion\n",
    "def fact(n): return 1 if n==0 else n*fact(n-1)\n",
    "print(fact(5))"
   ]
  },
  {
   "cell_type": "code",
   "execution_count": null,
   "id": "a4a16ae9",
   "metadata": {},
   "outputs": [],
   "source": [
    "# Topic: Recursion\n",
    "def fact(n): return 1 if n==0 else n*fact(n-1)\n",
    "print(fact(5))"
   ]
  },
  {
   "cell_type": "code",
   "execution_count": null,
   "id": "4b4424bd",
   "metadata": {},
   "outputs": [],
   "source": [
    "# Topic: Dictionaries & Sets\n",
    "s = set([1, 2, 3, 2])\n",
    "print(s)"
   ]
  },
  {
   "cell_type": "code",
   "execution_count": null,
   "id": "5fbd8f80",
   "metadata": {},
   "outputs": [],
   "source": [
    "# Topic: Data Cleaning\n",
    "import pandas as pd\n",
    "df = pd.DataFrame({'A':[1,None,3]})\n",
    "df = df.fillna(0)\n",
    "print(df)"
   ]
  },
  {
   "cell_type": "code",
   "execution_count": null,
   "id": "0ab9008c",
   "metadata": {},
   "outputs": [],
   "source": [
    "# Topic: Sorting Algorithms\n",
    "def bubble_sort(arr):\n",
    " for i in range(len(arr)):\n",
    "  for j in range(0, len(arr)-i-1):\n",
    "   if arr[j]>arr[j+1]: arr[j], arr[j+1]=arr[j+1], arr[j]\n",
    "a = [5,3,8,6]\n",
    "bubble_sort(a)\n",
    "print(a)"
   ]
  },
  {
   "cell_type": "code",
   "execution_count": null,
   "id": "f6b51d83",
   "metadata": {},
   "outputs": [],
   "source": [
    "# Topic: Dictionaries & Sets\n",
    "s = set([1, 2, 3, 2])\n",
    "print(s)"
   ]
  },
  {
   "cell_type": "code",
   "execution_count": null,
   "id": "fe934650",
   "metadata": {},
   "outputs": [],
   "source": [
    "# Topic: Mini Projects\n",
    "# Calculator\n",
    "def calc(a,b,op): return eval(f'{a}{op}{b}')\n",
    "print(calc(5,2,'+'))"
   ]
  },
  {
   "cell_type": "code",
   "execution_count": null,
   "id": "9b0324b3",
   "metadata": {},
   "outputs": [],
   "source": [
    "# Topic: Data Cleaning\n",
    "import pandas as pd\n",
    "df = pd.DataFrame({'A':[1,None,3]})\n",
    "df = df.fillna(0)\n",
    "print(df)"
   ]
  },
  {
   "cell_type": "code",
   "execution_count": null,
   "id": "5c576a94",
   "metadata": {},
   "outputs": [],
   "source": [
    "# Topic: Mini Projects\n",
    "# Calculator\n",
    "def calc(a,b,op): return eval(f'{a}{op}{b}')\n",
    "print(calc(5,2,'+'))"
   ]
  },
  {
   "cell_type": "code",
   "execution_count": null,
   "id": "cd99e72e",
   "metadata": {},
   "outputs": [],
   "source": [
    "# Topic: Dictionaries & Sets\n",
    "s = set([1, 2, 3, 2])\n",
    "print(s)"
   ]
  },
  {
   "cell_type": "code",
   "execution_count": null,
   "id": "e698bc29",
   "metadata": {},
   "outputs": [],
   "source": [
    "# Topic: NumPy\n",
    "import numpy as np\n",
    "a = np.array([1, 2, 3])\n",
    "print(a + 5)"
   ]
  },
  {
   "cell_type": "code",
   "execution_count": null,
   "id": "6035f99d",
   "metadata": {},
   "outputs": [],
   "source": [
    "# Topic: Data Cleaning\n",
    "import pandas as pd\n",
    "df = pd.DataFrame({'A':[1,None,3]})\n",
    "df = df.fillna(0)\n",
    "print(df)"
   ]
  },
  {
   "cell_type": "code",
   "execution_count": null,
   "id": "88099833",
   "metadata": {},
   "outputs": [],
   "source": [
    "# Topic: OOP\n",
    "class Student:\n",
    "    def __init__(self, name): self.name = name\n",
    "s = Student('Fahd')\n",
    "print(s.name)"
   ]
  },
  {
   "cell_type": "code",
   "execution_count": null,
   "id": "d1a01f18",
   "metadata": {},
   "outputs": [],
   "source": [
    "# Topic: JSON & CSV\n",
    "import csv\n",
    "with open('file.csv', 'w', newline='') as f:\n",
    " csv.writer(f).writerow(['a','b','c'])"
   ]
  },
  {
   "cell_type": "code",
   "execution_count": null,
   "id": "590322c0",
   "metadata": {},
   "outputs": [],
   "source": [
    "# Topic: Web Scraping\n",
    "import requests\n",
    "from bs4 import BeautifulSoup\n",
    "r = requests.get('https://example.com')\n",
    "soup = BeautifulSoup(r.text, 'html.parser')\n",
    "print(soup.title.text)"
   ]
  },
  {
   "cell_type": "code",
   "execution_count": null,
   "id": "c95efdbf",
   "metadata": {},
   "outputs": [],
   "source": [
    "# Topic: Basics\n",
    "name = 'Fahd'\n",
    "print(f'Hello, {name}')"
   ]
  },
  {
   "cell_type": "code",
   "execution_count": null,
   "id": "7bc7aeef",
   "metadata": {},
   "outputs": [],
   "source": [
    "# Topic: Sorting Algorithms\n",
    "def bubble_sort(arr):\n",
    " for i in range(len(arr)):\n",
    "  for j in range(0, len(arr)-i-1):\n",
    "   if arr[j]>arr[j+1]: arr[j], arr[j+1]=arr[j+1], arr[j]\n",
    "a = [5,3,8,6]\n",
    "bubble_sort(a)\n",
    "print(a)"
   ]
  },
  {
   "cell_type": "code",
   "execution_count": null,
   "id": "0df7a21d",
   "metadata": {},
   "outputs": [],
   "source": [
    "# Topic: Decorators\n",
    "def log(func):\n",
    " def wrapper():\n",
    "  print('Call')\n",
    "  func()\n",
    " return wrapper\n",
    "@log\n",
    "def say(): print('Hi')\n",
    "say()"
   ]
  },
  {
   "cell_type": "code",
   "execution_count": null,
   "id": "ded70d11",
   "metadata": {},
   "outputs": [],
   "source": [
    "# Topic: Recursion\n",
    "def fact(n): return 1 if n==0 else n*fact(n-1)\n",
    "print(fact(5))"
   ]
  },
  {
   "cell_type": "code",
   "execution_count": null,
   "id": "b96b70c7",
   "metadata": {},
   "outputs": [],
   "source": [
    "# Topic: Dictionaries & Sets\n",
    "d = {'name': 'Fahd', 'age': 20}\n",
    "print(d.get('name'))"
   ]
  },
  {
   "cell_type": "code",
   "execution_count": null,
   "id": "aa81a3b1",
   "metadata": {},
   "outputs": [],
   "source": [
    "# Topic: Pandas\n",
    "import pandas as pd\n",
    "df = pd.DataFrame({'A':[1,2],'B':[3,4]})\n",
    "print(df)"
   ]
  },
  {
   "cell_type": "code",
   "execution_count": null,
   "id": "b33b56ae",
   "metadata": {},
   "outputs": [],
   "source": [
    "# Topic: Mini Projects\n",
    "# Calculator\n",
    "def calc(a,b,op): return eval(f'{a}{op}{b}')\n",
    "print(calc(5,2,'+'))"
   ]
  },
  {
   "cell_type": "code",
   "execution_count": null,
   "id": "5bb2c356",
   "metadata": {},
   "outputs": [],
   "source": [
    "# Topic: Decorators\n",
    "def log(func):\n",
    " def wrapper():\n",
    "  print('Call')\n",
    "  func()\n",
    " return wrapper\n",
    "@log\n",
    "def say(): print('Hi')\n",
    "say()"
   ]
  },
  {
   "cell_type": "code",
   "execution_count": null,
   "id": "9bcf5936",
   "metadata": {},
   "outputs": [],
   "source": [
    "# Topic: Web Scraping\n",
    "import requests\n",
    "from bs4 import BeautifulSoup\n",
    "r = requests.get('https://example.com')\n",
    "soup = BeautifulSoup(r.text, 'html.parser')\n",
    "print(soup.title.text)"
   ]
  },
  {
   "cell_type": "code",
   "execution_count": null,
   "id": "96b4eb5e",
   "metadata": {},
   "outputs": [],
   "source": [
    "# Topic: Web Scraping\n",
    "import requests\n",
    "from bs4 import BeautifulSoup\n",
    "r = requests.get('https://example.com')\n",
    "soup = BeautifulSoup(r.text, 'html.parser')\n",
    "print(soup.title.text)"
   ]
  },
  {
   "cell_type": "code",
   "execution_count": null,
   "id": "a97fd19c",
   "metadata": {},
   "outputs": [],
   "source": [
    "# Topic: Data Cleaning\n",
    "import pandas as pd\n",
    "df = pd.DataFrame({'A':[1,None,3]})\n",
    "df = df.fillna(0)\n",
    "print(df)"
   ]
  },
  {
   "cell_type": "code",
   "execution_count": null,
   "id": "2fa22ffb",
   "metadata": {},
   "outputs": [],
   "source": [
    "# Topic: Pandas\n",
    "import pandas as pd\n",
    "df = pd.read_csv('file.csv')\n",
    "print(df.head())"
   ]
  },
  {
   "cell_type": "code",
   "execution_count": null,
   "id": "cd93e88c",
   "metadata": {},
   "outputs": [],
   "source": [
    "# Topic: OOP\n",
    "class Student:\n",
    "    def __init__(self, name): self.name = name\n",
    "s = Student('Fahd')\n",
    "print(s.name)"
   ]
  },
  {
   "cell_type": "code",
   "execution_count": null,
   "id": "6fc14c11",
   "metadata": {},
   "outputs": [],
   "source": [
    "# Topic: Mini Projects\n",
    "# Palindrome check\n",
    "def is_pal(s): return s == s[::-1]\n",
    "print(is_pal('madam'))"
   ]
  },
  {
   "cell_type": "code",
   "execution_count": null,
   "id": "bf0e39e1",
   "metadata": {},
   "outputs": [],
   "source": [
    "# Topic: JSON & CSV\n",
    "import csv\n",
    "with open('file.csv', 'w', newline='') as f:\n",
    " csv.writer(f).writerow(['a','b','c'])"
   ]
  },
  {
   "cell_type": "code",
   "execution_count": null,
   "id": "e76cfea5",
   "metadata": {},
   "outputs": [],
   "source": [
    "# Topic: Sorting Algorithms\n",
    "def bubble_sort(arr):\n",
    " for i in range(len(arr)):\n",
    "  for j in range(0, len(arr)-i-1):\n",
    "   if arr[j]>arr[j+1]: arr[j], arr[j+1]=arr[j+1], arr[j]\n",
    "a = [5,3,8,6]\n",
    "bubble_sort(a)\n",
    "print(a)"
   ]
  },
  {
   "cell_type": "code",
   "execution_count": null,
   "id": "a75aa7bb",
   "metadata": {},
   "outputs": [],
   "source": [
    "# Topic: Matplotlib & Seaborn\n",
    "import seaborn as sns\n",
    "import pandas as pd\n",
    "sns.set()\n",
    "sns.histplot(pd.Series([1,2,2,3]));"
   ]
  },
  {
   "cell_type": "code",
   "execution_count": null,
   "id": "e6a0efa6",
   "metadata": {},
   "outputs": [],
   "source": [
    "# Topic: Web Scraping\n",
    "import requests\n",
    "from bs4 import BeautifulSoup\n",
    "r = requests.get('https://example.com')\n",
    "soup = BeautifulSoup(r.text, 'html.parser')\n",
    "print(soup.title.text)"
   ]
  },
  {
   "cell_type": "code",
   "execution_count": null,
   "id": "43b00ffe",
   "metadata": {},
   "outputs": [],
   "source": [
    "# Topic: Functions\n",
    "def square(x): return x*x\n",
    "print(square(5))"
   ]
  },
  {
   "cell_type": "code",
   "execution_count": null,
   "id": "ec61d817",
   "metadata": {},
   "outputs": [],
   "source": [
    "# Topic: Functions\n",
    "def square(x): return x*x\n",
    "print(square(5))"
   ]
  },
  {
   "cell_type": "code",
   "execution_count": null,
   "id": "103637de",
   "metadata": {},
   "outputs": [],
   "source": [
    "# Topic: Recursion\n",
    "def fact(n): return 1 if n==0 else n*fact(n-1)\n",
    "print(fact(5))"
   ]
  },
  {
   "cell_type": "code",
   "execution_count": null,
   "id": "3980a20d",
   "metadata": {},
   "outputs": [],
   "source": [
    "# Topic: Basic ML\n",
    "from sklearn.linear_model import LinearRegression\n",
    "model = LinearRegression()\n",
    "print(model)"
   ]
  },
  {
   "cell_type": "code",
   "execution_count": null,
   "id": "81fa759e",
   "metadata": {},
   "outputs": [],
   "source": [
    "# Topic: Functions\n",
    "def square(x): return x*x\n",
    "print(square(5))"
   ]
  },
  {
   "cell_type": "code",
   "execution_count": null,
   "id": "8bdd64ce",
   "metadata": {},
   "outputs": [],
   "source": [
    "# Topic: NumPy\n",
    "import numpy as np\n",
    "print(np.linspace(0, 1, 5))"
   ]
  },
  {
   "cell_type": "code",
   "execution_count": null,
   "id": "3e323027",
   "metadata": {},
   "outputs": [],
   "source": [
    "# Topic: Basics\n",
    "x = 10\n",
    "y = 20\n",
    "print(x + y)"
   ]
  },
  {
   "cell_type": "code",
   "execution_count": null,
   "id": "20b1dc47",
   "metadata": {},
   "outputs": [],
   "source": [
    "# Topic: Matplotlib & Seaborn\n",
    "import matplotlib.pyplot as plt\n",
    "plt.plot([1,2],[3,4])\n",
    "plt.show()"
   ]
  },
  {
   "cell_type": "code",
   "execution_count": null,
   "id": "5a68e156",
   "metadata": {},
   "outputs": [],
   "source": [
    "# Topic: Regex\n",
    "import re\n",
    "text = 'email: test@example.com'\n",
    "print(re.findall(r'\\S+@\\S+', text))"
   ]
  },
  {
   "cell_type": "code",
   "execution_count": null,
   "id": "de6a5b0c",
   "metadata": {},
   "outputs": [],
   "source": [
    "# Topic: Mini Projects\n",
    "# Palindrome check\n",
    "def is_pal(s): return s == s[::-1]\n",
    "print(is_pal('madam'))"
   ]
  },
  {
   "cell_type": "code",
   "execution_count": null,
   "id": "5d01de18",
   "metadata": {},
   "outputs": [],
   "source": [
    "# Topic: Pandas\n",
    "import pandas as pd\n",
    "df = pd.DataFrame({'A':[1,2],'B':[3,4]})\n",
    "print(df)"
   ]
  },
  {
   "cell_type": "code",
   "execution_count": null,
   "id": "8bbe57e0",
   "metadata": {},
   "outputs": [],
   "source": [
    "# Topic: NumPy\n",
    "import numpy as np\n",
    "a = np.array([1, 2, 3])\n",
    "print(a + 5)"
   ]
  },
  {
   "cell_type": "code",
   "execution_count": null,
   "id": "35dd768a",
   "metadata": {},
   "outputs": [],
   "source": [
    "# Topic: Mini Projects\n",
    "# Palindrome check\n",
    "def is_pal(s): return s == s[::-1]\n",
    "print(is_pal('madam'))"
   ]
  },
  {
   "cell_type": "code",
   "execution_count": null,
   "id": "b6f2dc42",
   "metadata": {},
   "outputs": [],
   "source": [
    "# Topic: Sorting Algorithms\n",
    "def bubble_sort(arr):\n",
    " for i in range(len(arr)):\n",
    "  for j in range(0, len(arr)-i-1):\n",
    "   if arr[j]>arr[j+1]: arr[j], arr[j+1]=arr[j+1], arr[j]\n",
    "a = [5,3,8,6]\n",
    "bubble_sort(a)\n",
    "print(a)"
   ]
  },
  {
   "cell_type": "code",
   "execution_count": null,
   "id": "24d58416",
   "metadata": {},
   "outputs": [],
   "source": [
    "# Topic: Loops\n",
    "for i in range(10): print(i*i)"
   ]
  },
  {
   "cell_type": "code",
   "execution_count": null,
   "id": "2b6b4267",
   "metadata": {},
   "outputs": [],
   "source": [
    "# Topic: Pandas\n",
    "import pandas as pd\n",
    "df = pd.read_csv('file.csv')\n",
    "print(df.head())"
   ]
  },
  {
   "cell_type": "code",
   "execution_count": null,
   "id": "39186264",
   "metadata": {},
   "outputs": [],
   "source": [
    "# Topic: JSON & CSV\n",
    "import json\n",
    "data = {'a': 1}\n",
    "print(json.dumps(data))"
   ]
  },
  {
   "cell_type": "code",
   "execution_count": null,
   "id": "71d61789",
   "metadata": {},
   "outputs": [],
   "source": [
    "# Topic: Decorators\n",
    "def log(func):\n",
    " def wrapper():\n",
    "  print('Call')\n",
    "  func()\n",
    " return wrapper\n",
    "@log\n",
    "def say(): print('Hi')\n",
    "say()"
   ]
  },
  {
   "cell_type": "code",
   "execution_count": null,
   "id": "66e9b34d",
   "metadata": {},
   "outputs": [],
   "source": [
    "# Topic: Sorting Algorithms\n",
    "def bubble_sort(arr):\n",
    " for i in range(len(arr)):\n",
    "  for j in range(0, len(arr)-i-1):\n",
    "   if arr[j]>arr[j+1]: arr[j], arr[j+1]=arr[j+1], arr[j]\n",
    "a = [5,3,8,6]\n",
    "bubble_sort(a)\n",
    "print(a)"
   ]
  },
  {
   "cell_type": "code",
   "execution_count": null,
   "id": "15688bd3",
   "metadata": {},
   "outputs": [],
   "source": [
    "# Topic: File I/O\n",
    "with open('test.txt', 'r') as f:\n",
    "    print(f.read())"
   ]
  },
  {
   "cell_type": "code",
   "execution_count": null,
   "id": "827587f5",
   "metadata": {},
   "outputs": [],
   "source": [
    "# Topic: File I/O\n",
    "with open('test.txt', 'r') as f:\n",
    "    print(f.read())"
   ]
  },
  {
   "cell_type": "code",
   "execution_count": null,
   "id": "be0aa2f4",
   "metadata": {},
   "outputs": [],
   "source": [
    "# Topic: Regex\n",
    "import re\n",
    "text = 'email: test@example.com'\n",
    "print(re.findall(r'\\S+@\\S+', text))"
   ]
  },
  {
   "cell_type": "code",
   "execution_count": null,
   "id": "5ebd6cd9",
   "metadata": {},
   "outputs": [],
   "source": [
    "# Topic: Decorators\n",
    "def log(func):\n",
    " def wrapper():\n",
    "  print('Call')\n",
    "  func()\n",
    " return wrapper\n",
    "@log\n",
    "def say(): print('Hi')\n",
    "say()"
   ]
  },
  {
   "cell_type": "code",
   "execution_count": null,
   "id": "014cece9",
   "metadata": {},
   "outputs": [],
   "source": [
    "# Topic: Basic ML\n",
    "from sklearn.linear_model import LinearRegression\n",
    "model = LinearRegression()\n",
    "print(model)"
   ]
  },
  {
   "cell_type": "code",
   "execution_count": null,
   "id": "9a86c16b",
   "metadata": {},
   "outputs": [],
   "source": [
    "# Topic: Decorators\n",
    "def log(func):\n",
    " def wrapper():\n",
    "  print('Call')\n",
    "  func()\n",
    " return wrapper\n",
    "@log\n",
    "def say(): print('Hi')\n",
    "say()"
   ]
  },
  {
   "cell_type": "code",
   "execution_count": null,
   "id": "f5066c57",
   "metadata": {},
   "outputs": [],
   "source": [
    "# Topic: Functions\n",
    "def greet(name='User'):\n",
    "    print(f'Hi, {name}')\n",
    "greet()"
   ]
  },
  {
   "cell_type": "code",
   "execution_count": null,
   "id": "1b410e30",
   "metadata": {},
   "outputs": [],
   "source": [
    "# Topic: Matplotlib & Seaborn\n",
    "import seaborn as sns\n",
    "import pandas as pd\n",
    "sns.set()\n",
    "sns.histplot(pd.Series([1,2,2,3]));"
   ]
  },
  {
   "cell_type": "code",
   "execution_count": null,
   "id": "1cc8c101",
   "metadata": {},
   "outputs": [],
   "source": [
    "# Topic: Regex\n",
    "import re\n",
    "text = 'email: test@example.com'\n",
    "print(re.findall(r'\\S+@\\S+', text))"
   ]
  },
  {
   "cell_type": "code",
   "execution_count": null,
   "id": "63169bde",
   "metadata": {},
   "outputs": [],
   "source": [
    "# Topic: Loops\n",
    "while True:\n",
    "    print('Break')\n",
    "    break"
   ]
  },
  {
   "cell_type": "code",
   "execution_count": null,
   "id": "0645479a",
   "metadata": {},
   "outputs": [],
   "source": [
    "# Topic: OOP\n",
    "class Student:\n",
    "    def __init__(self, name): self.name = name\n",
    "s = Student('Fahd')\n",
    "print(s.name)"
   ]
  },
  {
   "cell_type": "code",
   "execution_count": null,
   "id": "6b223029",
   "metadata": {},
   "outputs": [],
   "source": [
    "# Topic: Recursion\n",
    "def fact(n): return 1 if n==0 else n*fact(n-1)\n",
    "print(fact(5))"
   ]
  },
  {
   "cell_type": "code",
   "execution_count": null,
   "id": "bff58728",
   "metadata": {},
   "outputs": [],
   "source": [
    "# Topic: Mini Projects\n",
    "# Calculator\n",
    "def calc(a,b,op): return eval(f'{a}{op}{b}')\n",
    "print(calc(5,2,'+'))"
   ]
  },
  {
   "cell_type": "code",
   "execution_count": null,
   "id": "da706fe3",
   "metadata": {},
   "outputs": [],
   "source": [
    "# Topic: Basics\n",
    "name = 'Fahd'\n",
    "print(f'Hello, {name}')"
   ]
  },
  {
   "cell_type": "code",
   "execution_count": null,
   "id": "91c2889e",
   "metadata": {},
   "outputs": [],
   "source": [
    "# Topic: Data Cleaning\n",
    "import pandas as pd\n",
    "df = pd.DataFrame({'A':[1,None,3]})\n",
    "df = df.fillna(0)\n",
    "print(df)"
   ]
  },
  {
   "cell_type": "code",
   "execution_count": null,
   "id": "0e45e072",
   "metadata": {},
   "outputs": [],
   "source": [
    "# Topic: Pandas\n",
    "import pandas as pd\n",
    "df = pd.read_csv('file.csv')\n",
    "print(df.head())"
   ]
  },
  {
   "cell_type": "code",
   "execution_count": null,
   "id": "4fa935d7",
   "metadata": {},
   "outputs": [],
   "source": [
    "# Topic: JSON & CSV\n",
    "import json\n",
    "data = {'a': 1}\n",
    "print(json.dumps(data))"
   ]
  },
  {
   "cell_type": "code",
   "execution_count": null,
   "id": "40e6715f",
   "metadata": {},
   "outputs": [],
   "source": [
    "# Topic: Decorators\n",
    "def log(func):\n",
    " def wrapper():\n",
    "  print('Call')\n",
    "  func()\n",
    " return wrapper\n",
    "@log\n",
    "def say(): print('Hi')\n",
    "say()"
   ]
  },
  {
   "cell_type": "code",
   "execution_count": null,
   "id": "b435bcbf",
   "metadata": {},
   "outputs": [],
   "source": [
    "# Topic: Functions\n",
    "def greet(name='User'):\n",
    "    print(f'Hi, {name}')\n",
    "greet()"
   ]
  },
  {
   "cell_type": "code",
   "execution_count": null,
   "id": "f51223d0",
   "metadata": {},
   "outputs": [],
   "source": [
    "# Topic: File I/O\n",
    "with open('test.txt', 'w') as f:\n",
    "    f.write('Hello World')"
   ]
  },
  {
   "cell_type": "code",
   "execution_count": null,
   "id": "85dddb12",
   "metadata": {},
   "outputs": [],
   "source": [
    "# Topic: Regex\n",
    "import re\n",
    "text = 'email: test@example.com'\n",
    "print(re.findall(r'\\S+@\\S+', text))"
   ]
  },
  {
   "cell_type": "code",
   "execution_count": null,
   "id": "aefb8008",
   "metadata": {},
   "outputs": [],
   "source": [
    "# Topic: Pandas\n",
    "import pandas as pd\n",
    "df = pd.DataFrame({'A':[1,2],'B':[3,4]})\n",
    "print(df)"
   ]
  },
  {
   "cell_type": "code",
   "execution_count": null,
   "id": "1bdc7068",
   "metadata": {},
   "outputs": [],
   "source": [
    "# Topic: Basic ML\n",
    "from sklearn.linear_model import LinearRegression\n",
    "model = LinearRegression()\n",
    "print(model)"
   ]
  },
  {
   "cell_type": "code",
   "execution_count": null,
   "id": "e3ba0701",
   "metadata": {},
   "outputs": [],
   "source": [
    "# Topic: Pandas\n",
    "import pandas as pd\n",
    "df = pd.DataFrame({'A':[1,2],'B':[3,4]})\n",
    "print(df)"
   ]
  },
  {
   "cell_type": "code",
   "execution_count": null,
   "id": "99527259",
   "metadata": {},
   "outputs": [],
   "source": [
    "# Topic: Functions\n",
    "def greet(name='User'):\n",
    "    print(f'Hi, {name}')\n",
    "greet()"
   ]
  },
  {
   "cell_type": "code",
   "execution_count": null,
   "id": "f4557ae2",
   "metadata": {},
   "outputs": [],
   "source": [
    "# Topic: Data Cleaning\n",
    "import pandas as pd\n",
    "df = pd.DataFrame({'A':[1,None,3]})\n",
    "df = df.fillna(0)\n",
    "print(df)"
   ]
  },
  {
   "cell_type": "code",
   "execution_count": null,
   "id": "7d5850f1",
   "metadata": {},
   "outputs": [],
   "source": [
    "# Topic: Sorting Algorithms\n",
    "def bubble_sort(arr):\n",
    " for i in range(len(arr)):\n",
    "  for j in range(0, len(arr)-i-1):\n",
    "   if arr[j]>arr[j+1]: arr[j], arr[j+1]=arr[j+1], arr[j]\n",
    "a = [5,3,8,6]\n",
    "bubble_sort(a)\n",
    "print(a)"
   ]
  },
  {
   "cell_type": "code",
   "execution_count": null,
   "id": "e864a1d4",
   "metadata": {},
   "outputs": [],
   "source": [
    "# Topic: Loops\n",
    "for i in range(10): print(i*i)"
   ]
  },
  {
   "cell_type": "code",
   "execution_count": null,
   "id": "38c8c90e",
   "metadata": {},
   "outputs": [],
   "source": [
    "# Topic: Matplotlib & Seaborn\n",
    "import seaborn as sns\n",
    "import pandas as pd\n",
    "sns.set()\n",
    "sns.histplot(pd.Series([1,2,2,3]));"
   ]
  },
  {
   "cell_type": "code",
   "execution_count": null,
   "id": "22163b13",
   "metadata": {},
   "outputs": [],
   "source": [
    "# Topic: Mini Projects\n",
    "# Calculator\n",
    "def calc(a,b,op): return eval(f'{a}{op}{b}')\n",
    "print(calc(5,2,'+'))"
   ]
  },
  {
   "cell_type": "code",
   "execution_count": null,
   "id": "ab9b8a88",
   "metadata": {},
   "outputs": [],
   "source": [
    "# Topic: Pandas\n",
    "import pandas as pd\n",
    "df = pd.read_csv('file.csv')\n",
    "print(df.head())"
   ]
  },
  {
   "cell_type": "code",
   "execution_count": null,
   "id": "fb74e3cf",
   "metadata": {},
   "outputs": [],
   "source": [
    "# Topic: Recursion\n",
    "def fact(n): return 1 if n==0 else n*fact(n-1)\n",
    "print(fact(5))"
   ]
  },
  {
   "cell_type": "code",
   "execution_count": null,
   "id": "f281aef3",
   "metadata": {},
   "outputs": [],
   "source": [
    "# Topic: Recursion\n",
    "def fact(n): return 1 if n==0 else n*fact(n-1)\n",
    "print(fact(5))"
   ]
  },
  {
   "cell_type": "code",
   "execution_count": null,
   "id": "02083b90",
   "metadata": {},
   "outputs": [],
   "source": [
    "# Topic: Data Cleaning\n",
    "import pandas as pd\n",
    "df = pd.DataFrame({'A':[1,None,3]})\n",
    "df = df.fillna(0)\n",
    "print(df)"
   ]
  },
  {
   "cell_type": "code",
   "execution_count": null,
   "id": "7613a35e",
   "metadata": {},
   "outputs": [],
   "source": [
    "# Topic: Decorators\n",
    "def log(func):\n",
    " def wrapper():\n",
    "  print('Call')\n",
    "  func()\n",
    " return wrapper\n",
    "@log\n",
    "def say(): print('Hi')\n",
    "say()"
   ]
  },
  {
   "cell_type": "code",
   "execution_count": null,
   "id": "947beb65",
   "metadata": {},
   "outputs": [],
   "source": [
    "# Topic: Data Cleaning\n",
    "import pandas as pd\n",
    "df = pd.DataFrame({'A':[1,None,3]})\n",
    "df = df.fillna(0)\n",
    "print(df)"
   ]
  },
  {
   "cell_type": "code",
   "execution_count": null,
   "id": "f81942c5",
   "metadata": {},
   "outputs": [],
   "source": [
    "# Topic: NumPy\n",
    "import numpy as np\n",
    "a = np.array([1, 2, 3])\n",
    "print(a + 5)"
   ]
  },
  {
   "cell_type": "code",
   "execution_count": null,
   "id": "bc114cb1",
   "metadata": {},
   "outputs": [],
   "source": [
    "# Topic: Sorting Algorithms\n",
    "def bubble_sort(arr):\n",
    " for i in range(len(arr)):\n",
    "  for j in range(0, len(arr)-i-1):\n",
    "   if arr[j]>arr[j+1]: arr[j], arr[j+1]=arr[j+1], arr[j]\n",
    "a = [5,3,8,6]\n",
    "bubble_sort(a)\n",
    "print(a)"
   ]
  },
  {
   "cell_type": "code",
   "execution_count": null,
   "id": "b93497b3",
   "metadata": {},
   "outputs": [],
   "source": [
    "# Topic: Data Cleaning\n",
    "import pandas as pd\n",
    "df = pd.DataFrame({'A':[1,None,3]})\n",
    "df = df.fillna(0)\n",
    "print(df)"
   ]
  },
  {
   "cell_type": "code",
   "execution_count": null,
   "id": "3140f44b",
   "metadata": {},
   "outputs": [],
   "source": [
    "# Topic: Loops\n",
    "while True:\n",
    "    print('Break')\n",
    "    break"
   ]
  },
  {
   "cell_type": "code",
   "execution_count": null,
   "id": "e670f4c0",
   "metadata": {},
   "outputs": [],
   "source": [
    "# Topic: JSON & CSV\n",
    "import json\n",
    "data = {'a': 1}\n",
    "print(json.dumps(data))"
   ]
  },
  {
   "cell_type": "code",
   "execution_count": null,
   "id": "220a80ee",
   "metadata": {},
   "outputs": [],
   "source": [
    "# Topic: Functions\n",
    "def square(x): return x*x\n",
    "print(square(5))"
   ]
  },
  {
   "cell_type": "code",
   "execution_count": null,
   "id": "92145c2f",
   "metadata": {},
   "outputs": [],
   "source": [
    "# Topic: Basic ML\n",
    "from sklearn.linear_model import LinearRegression\n",
    "model = LinearRegression()\n",
    "print(model)"
   ]
  },
  {
   "cell_type": "code",
   "execution_count": null,
   "id": "8c0f97e4",
   "metadata": {},
   "outputs": [],
   "source": [
    "# Topic: Pandas\n",
    "import pandas as pd\n",
    "df = pd.read_csv('file.csv')\n",
    "print(df.head())"
   ]
  },
  {
   "cell_type": "code",
   "execution_count": null,
   "id": "21c1d33d",
   "metadata": {},
   "outputs": [],
   "source": [
    "# Topic: Recursion\n",
    "def fact(n): return 1 if n==0 else n*fact(n-1)\n",
    "print(fact(5))"
   ]
  },
  {
   "cell_type": "code",
   "execution_count": null,
   "id": "c6e462e0",
   "metadata": {},
   "outputs": [],
   "source": [
    "# Topic: Lists & Tuples\n",
    "t = (1, 2, 3)\n",
    "print(t[0])"
   ]
  },
  {
   "cell_type": "code",
   "execution_count": null,
   "id": "f9f35823",
   "metadata": {},
   "outputs": [],
   "source": [
    "# Topic: Sorting Algorithms\n",
    "def bubble_sort(arr):\n",
    " for i in range(len(arr)):\n",
    "  for j in range(0, len(arr)-i-1):\n",
    "   if arr[j]>arr[j+1]: arr[j], arr[j+1]=arr[j+1], arr[j]\n",
    "a = [5,3,8,6]\n",
    "bubble_sort(a)\n",
    "print(a)"
   ]
  },
  {
   "cell_type": "code",
   "execution_count": null,
   "id": "29d6b9fd",
   "metadata": {},
   "outputs": [],
   "source": [
    "# Topic: Lists & Tuples\n",
    "lst = [1, 2, 3]\n",
    "lst.append(4)\n",
    "print(lst)"
   ]
  },
  {
   "cell_type": "code",
   "execution_count": null,
   "id": "223e6275",
   "metadata": {},
   "outputs": [],
   "source": [
    "# Topic: Mini Projects\n",
    "# Calculator\n",
    "def calc(a,b,op): return eval(f'{a}{op}{b}')\n",
    "print(calc(5,2,'+'))"
   ]
  },
  {
   "cell_type": "code",
   "execution_count": null,
   "id": "b8172185",
   "metadata": {},
   "outputs": [],
   "source": [
    "# Topic: Loops\n",
    "for i in range(10): print(i*i)"
   ]
  },
  {
   "cell_type": "code",
   "execution_count": null,
   "id": "d2714352",
   "metadata": {},
   "outputs": [],
   "source": [
    "# Topic: Data Cleaning\n",
    "import pandas as pd\n",
    "df = pd.DataFrame({'A':[1,None,3]})\n",
    "df = df.fillna(0)\n",
    "print(df)"
   ]
  },
  {
   "cell_type": "code",
   "execution_count": null,
   "id": "330a877b",
   "metadata": {},
   "outputs": [],
   "source": [
    "# Topic: Loops\n",
    "for i in range(10): print(i*i)"
   ]
  },
  {
   "cell_type": "code",
   "execution_count": null,
   "id": "eabadf83",
   "metadata": {},
   "outputs": [],
   "source": [
    "# Topic: NumPy\n",
    "import numpy as np\n",
    "a = np.array([1, 2, 3])\n",
    "print(a + 5)"
   ]
  },
  {
   "cell_type": "code",
   "execution_count": null,
   "id": "fe2b4243",
   "metadata": {},
   "outputs": [],
   "source": [
    "# Topic: JSON & CSV\n",
    "import csv\n",
    "with open('file.csv', 'w', newline='') as f:\n",
    " csv.writer(f).writerow(['a','b','c'])"
   ]
  },
  {
   "cell_type": "code",
   "execution_count": null,
   "id": "d22ae370",
   "metadata": {},
   "outputs": [],
   "source": [
    "# Topic: Pandas\n",
    "import pandas as pd\n",
    "df = pd.DataFrame({'A':[1,2],'B':[3,4]})\n",
    "print(df)"
   ]
  },
  {
   "cell_type": "code",
   "execution_count": null,
   "id": "3058da6a",
   "metadata": {},
   "outputs": [],
   "source": [
    "# Topic: JSON & CSV\n",
    "import json\n",
    "data = {'a': 1}\n",
    "print(json.dumps(data))"
   ]
  },
  {
   "cell_type": "code",
   "execution_count": null,
   "id": "fc50d4a4",
   "metadata": {},
   "outputs": [],
   "source": [
    "# Topic: Web Scraping\n",
    "import requests\n",
    "from bs4 import BeautifulSoup\n",
    "r = requests.get('https://example.com')\n",
    "soup = BeautifulSoup(r.text, 'html.parser')\n",
    "print(soup.title.text)"
   ]
  },
  {
   "cell_type": "code",
   "execution_count": null,
   "id": "63f19d9a",
   "metadata": {},
   "outputs": [],
   "source": [
    "# Topic: Dictionaries & Sets\n",
    "s = set([1, 2, 3, 2])\n",
    "print(s)"
   ]
  },
  {
   "cell_type": "code",
   "execution_count": null,
   "id": "858aa2c4",
   "metadata": {},
   "outputs": [],
   "source": [
    "# Topic: Matplotlib & Seaborn\n",
    "import seaborn as sns\n",
    "import pandas as pd\n",
    "sns.set()\n",
    "sns.histplot(pd.Series([1,2,2,3]));"
   ]
  },
  {
   "cell_type": "code",
   "execution_count": null,
   "id": "827fa8d5",
   "metadata": {},
   "outputs": [],
   "source": [
    "# Topic: Mini Projects\n",
    "# Palindrome check\n",
    "def is_pal(s): return s == s[::-1]\n",
    "print(is_pal('madam'))"
   ]
  },
  {
   "cell_type": "code",
   "execution_count": null,
   "id": "cc211600",
   "metadata": {},
   "outputs": [],
   "source": [
    "# Topic: Pandas\n",
    "import pandas as pd\n",
    "df = pd.read_csv('file.csv')\n",
    "print(df.head())"
   ]
  },
  {
   "cell_type": "code",
   "execution_count": null,
   "id": "d15e4666",
   "metadata": {},
   "outputs": [],
   "source": [
    "# Topic: Basics\n",
    "name = 'Fahd'\n",
    "print(f'Hello, {name}')"
   ]
  },
  {
   "cell_type": "code",
   "execution_count": null,
   "id": "b996b993",
   "metadata": {},
   "outputs": [],
   "source": [
    "# Topic: Sorting Algorithms\n",
    "def bubble_sort(arr):\n",
    " for i in range(len(arr)):\n",
    "  for j in range(0, len(arr)-i-1):\n",
    "   if arr[j]>arr[j+1]: arr[j], arr[j+1]=arr[j+1], arr[j]\n",
    "a = [5,3,8,6]\n",
    "bubble_sort(a)\n",
    "print(a)"
   ]
  },
  {
   "cell_type": "code",
   "execution_count": null,
   "id": "1e739a99",
   "metadata": {},
   "outputs": [],
   "source": [
    "# Topic: Web Scraping\n",
    "import requests\n",
    "from bs4 import BeautifulSoup\n",
    "r = requests.get('https://example.com')\n",
    "soup = BeautifulSoup(r.text, 'html.parser')\n",
    "print(soup.title.text)"
   ]
  },
  {
   "cell_type": "code",
   "execution_count": null,
   "id": "5ee3bd1a",
   "metadata": {},
   "outputs": [],
   "source": [
    "# Topic: Matplotlib & Seaborn\n",
    "import seaborn as sns\n",
    "import pandas as pd\n",
    "sns.set()\n",
    "sns.histplot(pd.Series([1,2,2,3]));"
   ]
  },
  {
   "cell_type": "code",
   "execution_count": null,
   "id": "aca1443c",
   "metadata": {},
   "outputs": [],
   "source": [
    "# Topic: OOP\n",
    "class Student:\n",
    "    def __init__(self, name): self.name = name\n",
    "s = Student('Fahd')\n",
    "print(s.name)"
   ]
  },
  {
   "cell_type": "code",
   "execution_count": null,
   "id": "d0482b30",
   "metadata": {},
   "outputs": [],
   "source": [
    "# Topic: Matplotlib & Seaborn\n",
    "import seaborn as sns\n",
    "import pandas as pd\n",
    "sns.set()\n",
    "sns.histplot(pd.Series([1,2,2,3]));"
   ]
  },
  {
   "cell_type": "code",
   "execution_count": null,
   "id": "00ba9a02",
   "metadata": {},
   "outputs": [],
   "source": [
    "# Topic: Data Cleaning\n",
    "import pandas as pd\n",
    "df = pd.DataFrame({'A':[1,None,3]})\n",
    "df = df.fillna(0)\n",
    "print(df)"
   ]
  },
  {
   "cell_type": "code",
   "execution_count": null,
   "id": "c61bb795",
   "metadata": {},
   "outputs": [],
   "source": [
    "# Topic: Dictionaries & Sets\n",
    "d = {'name': 'Fahd', 'age': 20}\n",
    "print(d.get('name'))"
   ]
  },
  {
   "cell_type": "code",
   "execution_count": null,
   "id": "0eabe691",
   "metadata": {},
   "outputs": [],
   "source": [
    "# Topic: Dictionaries & Sets\n",
    "s = set([1, 2, 3, 2])\n",
    "print(s)"
   ]
  },
  {
   "cell_type": "code",
   "execution_count": null,
   "id": "5836d6f2",
   "metadata": {},
   "outputs": [],
   "source": [
    "# Topic: Loops\n",
    "while True:\n",
    "    print('Break')\n",
    "    break"
   ]
  },
  {
   "cell_type": "code",
   "execution_count": null,
   "id": "f2f3f0ec",
   "metadata": {},
   "outputs": [],
   "source": [
    "# Topic: Basic ML\n",
    "from sklearn.linear_model import LinearRegression\n",
    "model = LinearRegression()\n",
    "print(model)"
   ]
  },
  {
   "cell_type": "code",
   "execution_count": null,
   "id": "9b624555",
   "metadata": {},
   "outputs": [],
   "source": [
    "# Topic: Basics\n",
    "name = 'Fahd'\n",
    "print(f'Hello, {name}')"
   ]
  },
  {
   "cell_type": "code",
   "execution_count": null,
   "id": "f3d9d582",
   "metadata": {},
   "outputs": [],
   "source": [
    "# Topic: Dictionaries & Sets\n",
    "s = set([1, 2, 3, 2])\n",
    "print(s)"
   ]
  },
  {
   "cell_type": "code",
   "execution_count": null,
   "id": "8cf82bbf",
   "metadata": {},
   "outputs": [],
   "source": [
    "# Topic: Pandas\n",
    "import pandas as pd\n",
    "df = pd.DataFrame({'A':[1,2],'B':[3,4]})\n",
    "print(df)"
   ]
  },
  {
   "cell_type": "code",
   "execution_count": null,
   "id": "a997214b",
   "metadata": {},
   "outputs": [],
   "source": [
    "# Topic: OOP\n",
    "class Student:\n",
    "    def __init__(self, name): self.name = name\n",
    "s = Student('Fahd')\n",
    "print(s.name)"
   ]
  },
  {
   "cell_type": "code",
   "execution_count": null,
   "id": "9cf9499c",
   "metadata": {},
   "outputs": [],
   "source": [
    "# Topic: Lists & Tuples\n",
    "lst = [1, 2, 3]\n",
    "lst.append(4)\n",
    "print(lst)"
   ]
  },
  {
   "cell_type": "code",
   "execution_count": null,
   "id": "1293f3ca",
   "metadata": {},
   "outputs": [],
   "source": [
    "# Topic: NumPy\n",
    "import numpy as np\n",
    "a = np.array([1, 2, 3])\n",
    "print(a + 5)"
   ]
  },
  {
   "cell_type": "code",
   "execution_count": null,
   "id": "a4d9f61d",
   "metadata": {},
   "outputs": [],
   "source": [
    "# Topic: JSON & CSV\n",
    "import json\n",
    "data = {'a': 1}\n",
    "print(json.dumps(data))"
   ]
  },
  {
   "cell_type": "code",
   "execution_count": null,
   "id": "32e6b8d1",
   "metadata": {},
   "outputs": [],
   "source": [
    "# Topic: Dictionaries & Sets\n",
    "s = set([1, 2, 3, 2])\n",
    "print(s)"
   ]
  },
  {
   "cell_type": "code",
   "execution_count": null,
   "id": "5f0f19aa",
   "metadata": {},
   "outputs": [],
   "source": [
    "# Topic: Sorting Algorithms\n",
    "def bubble_sort(arr):\n",
    " for i in range(len(arr)):\n",
    "  for j in range(0, len(arr)-i-1):\n",
    "   if arr[j]>arr[j+1]: arr[j], arr[j+1]=arr[j+1], arr[j]\n",
    "a = [5,3,8,6]\n",
    "bubble_sort(a)\n",
    "print(a)"
   ]
  },
  {
   "cell_type": "code",
   "execution_count": null,
   "id": "f5a44bbe",
   "metadata": {},
   "outputs": [],
   "source": [
    "# Topic: JSON & CSV\n",
    "import csv\n",
    "with open('file.csv', 'w', newline='') as f:\n",
    " csv.writer(f).writerow(['a','b','c'])"
   ]
  },
  {
   "cell_type": "code",
   "execution_count": null,
   "id": "0c64a114",
   "metadata": {},
   "outputs": [],
   "source": [
    "# Topic: Dictionaries & Sets\n",
    "s = set([1, 2, 3, 2])\n",
    "print(s)"
   ]
  },
  {
   "cell_type": "code",
   "execution_count": null,
   "id": "381ca360",
   "metadata": {},
   "outputs": [],
   "source": [
    "# Topic: Lists & Tuples\n",
    "lst = [1, 2, 3]\n",
    "lst.append(4)\n",
    "print(lst)"
   ]
  },
  {
   "cell_type": "code",
   "execution_count": null,
   "id": "755b9602",
   "metadata": {},
   "outputs": [],
   "source": [
    "# Topic: Data Cleaning\n",
    "import pandas as pd\n",
    "df = pd.DataFrame({'A':[1,None,3]})\n",
    "df = df.fillna(0)\n",
    "print(df)"
   ]
  },
  {
   "cell_type": "code",
   "execution_count": null,
   "id": "a92be398",
   "metadata": {},
   "outputs": [],
   "source": [
    "# Topic: Pandas\n",
    "import pandas as pd\n",
    "df = pd.DataFrame({'A':[1,2],'B':[3,4]})\n",
    "print(df)"
   ]
  },
  {
   "cell_type": "code",
   "execution_count": null,
   "id": "b1d19756",
   "metadata": {},
   "outputs": [],
   "source": [
    "# Topic: Loops\n",
    "for i in range(10): print(i*i)"
   ]
  },
  {
   "cell_type": "code",
   "execution_count": null,
   "id": "16e80dba",
   "metadata": {},
   "outputs": [],
   "source": [
    "# Topic: Functions\n",
    "def greet(name='User'):\n",
    "    print(f'Hi, {name}')\n",
    "greet()"
   ]
  },
  {
   "cell_type": "code",
   "execution_count": null,
   "id": "d1e5b8a9",
   "metadata": {},
   "outputs": [],
   "source": [
    "# Topic: JSON & CSV\n",
    "import json\n",
    "data = {'a': 1}\n",
    "print(json.dumps(data))"
   ]
  },
  {
   "cell_type": "code",
   "execution_count": null,
   "id": "7804d2b2",
   "metadata": {},
   "outputs": [],
   "source": [
    "# Topic: Web Scraping\n",
    "import requests\n",
    "from bs4 import BeautifulSoup\n",
    "r = requests.get('https://example.com')\n",
    "soup = BeautifulSoup(r.text, 'html.parser')\n",
    "print(soup.title.text)"
   ]
  },
  {
   "cell_type": "code",
   "execution_count": null,
   "id": "e230d6f6",
   "metadata": {},
   "outputs": [],
   "source": [
    "# Topic: Basics\n",
    "name = 'Fahd'\n",
    "print(f'Hello, {name}')"
   ]
  },
  {
   "cell_type": "code",
   "execution_count": null,
   "id": "120547cb",
   "metadata": {},
   "outputs": [],
   "source": [
    "# Topic: Basic ML\n",
    "from sklearn.linear_model import LinearRegression\n",
    "model = LinearRegression()\n",
    "print(model)"
   ]
  },
  {
   "cell_type": "code",
   "execution_count": null,
   "id": "21f0b17c",
   "metadata": {},
   "outputs": [],
   "source": [
    "# Topic: NumPy\n",
    "import numpy as np\n",
    "a = np.array([1, 2, 3])\n",
    "print(a + 5)"
   ]
  },
  {
   "cell_type": "code",
   "execution_count": null,
   "id": "323fa165",
   "metadata": {},
   "outputs": [],
   "source": [
    "# Topic: OOP\n",
    "class Student:\n",
    "    def __init__(self, name): self.name = name\n",
    "s = Student('Fahd')\n",
    "print(s.name)"
   ]
  },
  {
   "cell_type": "code",
   "execution_count": null,
   "id": "235632e7",
   "metadata": {},
   "outputs": [],
   "source": [
    "# Topic: Functions\n",
    "def square(x): return x*x\n",
    "print(square(5))"
   ]
  },
  {
   "cell_type": "code",
   "execution_count": null,
   "id": "d0c8ffa0",
   "metadata": {},
   "outputs": [],
   "source": [
    "# Topic: Decorators\n",
    "def log(func):\n",
    " def wrapper():\n",
    "  print('Call')\n",
    "  func()\n",
    " return wrapper\n",
    "@log\n",
    "def say(): print('Hi')\n",
    "say()"
   ]
  },
  {
   "cell_type": "code",
   "execution_count": null,
   "id": "15903878",
   "metadata": {},
   "outputs": [],
   "source": [
    "# Topic: Basic ML\n",
    "from sklearn.linear_model import LinearRegression\n",
    "model = LinearRegression()\n",
    "print(model)"
   ]
  },
  {
   "cell_type": "code",
   "execution_count": null,
   "id": "408c67f9",
   "metadata": {},
   "outputs": [],
   "source": [
    "# Topic: Pandas\n",
    "import pandas as pd\n",
    "df = pd.DataFrame({'A':[1,2],'B':[3,4]})\n",
    "print(df)"
   ]
  },
  {
   "cell_type": "code",
   "execution_count": null,
   "id": "18e0cfbd",
   "metadata": {},
   "outputs": [],
   "source": [
    "# Topic: Regex\n",
    "import re\n",
    "text = 'email: test@example.com'\n",
    "print(re.findall(r'\\S+@\\S+', text))"
   ]
  },
  {
   "cell_type": "code",
   "execution_count": null,
   "id": "0a90ec6f",
   "metadata": {},
   "outputs": [],
   "source": [
    "# Topic: Mini Projects\n",
    "# Calculator\n",
    "def calc(a,b,op): return eval(f'{a}{op}{b}')\n",
    "print(calc(5,2,'+'))"
   ]
  },
  {
   "cell_type": "code",
   "execution_count": null,
   "id": "42718a30",
   "metadata": {},
   "outputs": [],
   "source": [
    "# Topic: Decorators\n",
    "def log(func):\n",
    " def wrapper():\n",
    "  print('Call')\n",
    "  func()\n",
    " return wrapper\n",
    "@log\n",
    "def say(): print('Hi')\n",
    "say()"
   ]
  },
  {
   "cell_type": "code",
   "execution_count": null,
   "id": "58367c70",
   "metadata": {},
   "outputs": [],
   "source": [
    "# Topic: Web Scraping\n",
    "import requests\n",
    "from bs4 import BeautifulSoup\n",
    "r = requests.get('https://example.com')\n",
    "soup = BeautifulSoup(r.text, 'html.parser')\n",
    "print(soup.title.text)"
   ]
  },
  {
   "cell_type": "code",
   "execution_count": null,
   "id": "0dc070de",
   "metadata": {},
   "outputs": [],
   "source": [
    "# Topic: Pandas\n",
    "import pandas as pd\n",
    "df = pd.DataFrame({'A':[1,2],'B':[3,4]})\n",
    "print(df)"
   ]
  },
  {
   "cell_type": "code",
   "execution_count": null,
   "id": "98281366",
   "metadata": {},
   "outputs": [],
   "source": [
    "# Topic: Matplotlib & Seaborn\n",
    "import seaborn as sns\n",
    "import pandas as pd\n",
    "sns.set()\n",
    "sns.histplot(pd.Series([1,2,2,3]));"
   ]
  },
  {
   "cell_type": "code",
   "execution_count": null,
   "id": "c5f7d9e9",
   "metadata": {},
   "outputs": [],
   "source": [
    "# Topic: File I/O\n",
    "with open('test.txt', 'w') as f:\n",
    "    f.write('Hello World')"
   ]
  },
  {
   "cell_type": "code",
   "execution_count": null,
   "id": "3b150837",
   "metadata": {},
   "outputs": [],
   "source": [
    "# Topic: File I/O\n",
    "with open('test.txt', 'r') as f:\n",
    "    print(f.read())"
   ]
  },
  {
   "cell_type": "code",
   "execution_count": null,
   "id": "2c482bfb",
   "metadata": {},
   "outputs": [],
   "source": [
    "# Topic: Functions\n",
    "def square(x): return x*x\n",
    "print(square(5))"
   ]
  },
  {
   "cell_type": "code",
   "execution_count": null,
   "id": "c2882c59",
   "metadata": {},
   "outputs": [],
   "source": [
    "# Topic: Basic ML\n",
    "from sklearn.linear_model import LinearRegression\n",
    "model = LinearRegression()\n",
    "print(model)"
   ]
  },
  {
   "cell_type": "code",
   "execution_count": null,
   "id": "7f915a79",
   "metadata": {},
   "outputs": [],
   "source": [
    "# Topic: Sorting Algorithms\n",
    "def bubble_sort(arr):\n",
    " for i in range(len(arr)):\n",
    "  for j in range(0, len(arr)-i-1):\n",
    "   if arr[j]>arr[j+1]: arr[j], arr[j+1]=arr[j+1], arr[j]\n",
    "a = [5,3,8,6]\n",
    "bubble_sort(a)\n",
    "print(a)"
   ]
  },
  {
   "cell_type": "code",
   "execution_count": null,
   "id": "8592480e",
   "metadata": {},
   "outputs": [],
   "source": [
    "# Topic: OOP\n",
    "class Student:\n",
    "    def __init__(self, name): self.name = name\n",
    "s = Student('Fahd')\n",
    "print(s.name)"
   ]
  },
  {
   "cell_type": "code",
   "execution_count": null,
   "id": "5d08d557",
   "metadata": {},
   "outputs": [],
   "source": [
    "# Topic: Data Cleaning\n",
    "import pandas as pd\n",
    "df = pd.DataFrame({'A':[1,None,3]})\n",
    "df = df.fillna(0)\n",
    "print(df)"
   ]
  },
  {
   "cell_type": "code",
   "execution_count": null,
   "id": "c2d6dc2b",
   "metadata": {},
   "outputs": [],
   "source": [
    "# Topic: Sorting Algorithms\n",
    "def bubble_sort(arr):\n",
    " for i in range(len(arr)):\n",
    "  for j in range(0, len(arr)-i-1):\n",
    "   if arr[j]>arr[j+1]: arr[j], arr[j+1]=arr[j+1], arr[j]\n",
    "a = [5,3,8,6]\n",
    "bubble_sort(a)\n",
    "print(a)"
   ]
  },
  {
   "cell_type": "code",
   "execution_count": null,
   "id": "6b21a642",
   "metadata": {},
   "outputs": [],
   "source": [
    "# Topic: OOP\n",
    "class Student:\n",
    "    def __init__(self, name): self.name = name\n",
    "s = Student('Fahd')\n",
    "print(s.name)"
   ]
  },
  {
   "cell_type": "code",
   "execution_count": null,
   "id": "d932b14d",
   "metadata": {},
   "outputs": [],
   "source": [
    "# Topic: Loops\n",
    "for i in range(10): print(i*i)"
   ]
  },
  {
   "cell_type": "code",
   "execution_count": null,
   "id": "2bec9e1c",
   "metadata": {},
   "outputs": [],
   "source": [
    "# Topic: JSON & CSV\n",
    "import csv\n",
    "with open('file.csv', 'w', newline='') as f:\n",
    " csv.writer(f).writerow(['a','b','c'])"
   ]
  },
  {
   "cell_type": "code",
   "execution_count": null,
   "id": "389f933b",
   "metadata": {},
   "outputs": [],
   "source": [
    "# Topic: Decorators\n",
    "def log(func):\n",
    " def wrapper():\n",
    "  print('Call')\n",
    "  func()\n",
    " return wrapper\n",
    "@log\n",
    "def say(): print('Hi')\n",
    "say()"
   ]
  },
  {
   "cell_type": "code",
   "execution_count": null,
   "id": "a4087136",
   "metadata": {},
   "outputs": [],
   "source": [
    "# Topic: Recursion\n",
    "def fact(n): return 1 if n==0 else n*fact(n-1)\n",
    "print(fact(5))"
   ]
  },
  {
   "cell_type": "code",
   "execution_count": null,
   "id": "b02a8995",
   "metadata": {},
   "outputs": [],
   "source": [
    "# Topic: Lists & Tuples\n",
    "lst = [1, 2, 3]\n",
    "lst.append(4)\n",
    "print(lst)"
   ]
  },
  {
   "cell_type": "code",
   "execution_count": null,
   "id": "8dd498a7",
   "metadata": {},
   "outputs": [],
   "source": [
    "# Topic: Basics\n",
    "x = 10\n",
    "y = 20\n",
    "print(x + y)"
   ]
  },
  {
   "cell_type": "code",
   "execution_count": null,
   "id": "923d4ee3",
   "metadata": {},
   "outputs": [],
   "source": [
    "# Topic: Matplotlib & Seaborn\n",
    "import matplotlib.pyplot as plt\n",
    "plt.plot([1,2],[3,4])\n",
    "plt.show()"
   ]
  },
  {
   "cell_type": "code",
   "execution_count": null,
   "id": "19799ac3",
   "metadata": {},
   "outputs": [],
   "source": [
    "# Topic: OOP\n",
    "class Student:\n",
    "    def __init__(self, name): self.name = name\n",
    "s = Student('Fahd')\n",
    "print(s.name)"
   ]
  },
  {
   "cell_type": "code",
   "execution_count": null,
   "id": "dfc229e4",
   "metadata": {},
   "outputs": [],
   "source": [
    "# Topic: Functions\n",
    "def square(x): return x*x\n",
    "print(square(5))"
   ]
  },
  {
   "cell_type": "code",
   "execution_count": null,
   "id": "f478fae2",
   "metadata": {},
   "outputs": [],
   "source": [
    "# Topic: Regex\n",
    "import re\n",
    "text = 'email: test@example.com'\n",
    "print(re.findall(r'\\S+@\\S+', text))"
   ]
  },
  {
   "cell_type": "code",
   "execution_count": null,
   "id": "c751c904",
   "metadata": {},
   "outputs": [],
   "source": [
    "# Topic: Sorting Algorithms\n",
    "def bubble_sort(arr):\n",
    " for i in range(len(arr)):\n",
    "  for j in range(0, len(arr)-i-1):\n",
    "   if arr[j]>arr[j+1]: arr[j], arr[j+1]=arr[j+1], arr[j]\n",
    "a = [5,3,8,6]\n",
    "bubble_sort(a)\n",
    "print(a)"
   ]
  },
  {
   "cell_type": "code",
   "execution_count": null,
   "id": "47ac1454",
   "metadata": {},
   "outputs": [],
   "source": [
    "# Topic: Recursion\n",
    "def fact(n): return 1 if n==0 else n*fact(n-1)\n",
    "print(fact(5))"
   ]
  },
  {
   "cell_type": "code",
   "execution_count": null,
   "id": "2ff11364",
   "metadata": {},
   "outputs": [],
   "source": [
    "# Topic: Sorting Algorithms\n",
    "def bubble_sort(arr):\n",
    " for i in range(len(arr)):\n",
    "  for j in range(0, len(arr)-i-1):\n",
    "   if arr[j]>arr[j+1]: arr[j], arr[j+1]=arr[j+1], arr[j]\n",
    "a = [5,3,8,6]\n",
    "bubble_sort(a)\n",
    "print(a)"
   ]
  },
  {
   "cell_type": "code",
   "execution_count": null,
   "id": "1a252ff6",
   "metadata": {},
   "outputs": [],
   "source": [
    "# Topic: Decorators\n",
    "def log(func):\n",
    " def wrapper():\n",
    "  print('Call')\n",
    "  func()\n",
    " return wrapper\n",
    "@log\n",
    "def say(): print('Hi')\n",
    "say()"
   ]
  },
  {
   "cell_type": "code",
   "execution_count": null,
   "id": "df107497",
   "metadata": {},
   "outputs": [],
   "source": [
    "# Topic: Pandas\n",
    "import pandas as pd\n",
    "df = pd.read_csv('file.csv')\n",
    "print(df.head())"
   ]
  },
  {
   "cell_type": "code",
   "execution_count": null,
   "id": "c11d3387",
   "metadata": {},
   "outputs": [],
   "source": [
    "# Topic: Decorators\n",
    "def log(func):\n",
    " def wrapper():\n",
    "  print('Call')\n",
    "  func()\n",
    " return wrapper\n",
    "@log\n",
    "def say(): print('Hi')\n",
    "say()"
   ]
  },
  {
   "cell_type": "code",
   "execution_count": null,
   "id": "fa7a92db",
   "metadata": {},
   "outputs": [],
   "source": [
    "# Topic: Basic ML\n",
    "from sklearn.linear_model import LinearRegression\n",
    "model = LinearRegression()\n",
    "print(model)"
   ]
  },
  {
   "cell_type": "code",
   "execution_count": null,
   "id": "12733342",
   "metadata": {},
   "outputs": [],
   "source": [
    "# Topic: File I/O\n",
    "with open('test.txt', 'w') as f:\n",
    "    f.write('Hello World')"
   ]
  },
  {
   "cell_type": "code",
   "execution_count": null,
   "id": "95cab227",
   "metadata": {},
   "outputs": [],
   "source": [
    "# Topic: Mini Projects\n",
    "# Palindrome check\n",
    "def is_pal(s): return s == s[::-1]\n",
    "print(is_pal('madam'))"
   ]
  },
  {
   "cell_type": "code",
   "execution_count": null,
   "id": "3cdd1835",
   "metadata": {},
   "outputs": [],
   "source": [
    "# Topic: NumPy\n",
    "import numpy as np\n",
    "print(np.linspace(0, 1, 5))"
   ]
  },
  {
   "cell_type": "code",
   "execution_count": null,
   "id": "0bd63395",
   "metadata": {},
   "outputs": [],
   "source": [
    "# Topic: Recursion\n",
    "def fact(n): return 1 if n==0 else n*fact(n-1)\n",
    "print(fact(5))"
   ]
  },
  {
   "cell_type": "code",
   "execution_count": null,
   "id": "ef1cc687",
   "metadata": {},
   "outputs": [],
   "source": [
    "# Topic: Data Cleaning\n",
    "import pandas as pd\n",
    "df = pd.DataFrame({'A':[1,None,3]})\n",
    "df = df.fillna(0)\n",
    "print(df)"
   ]
  },
  {
   "cell_type": "code",
   "execution_count": null,
   "id": "70a8a6c7",
   "metadata": {},
   "outputs": [],
   "source": [
    "# Topic: Web Scraping\n",
    "import requests\n",
    "from bs4 import BeautifulSoup\n",
    "r = requests.get('https://example.com')\n",
    "soup = BeautifulSoup(r.text, 'html.parser')\n",
    "print(soup.title.text)"
   ]
  },
  {
   "cell_type": "code",
   "execution_count": null,
   "id": "775d6248",
   "metadata": {},
   "outputs": [],
   "source": [
    "# Topic: Pandas\n",
    "import pandas as pd\n",
    "df = pd.read_csv('file.csv')\n",
    "print(df.head())"
   ]
  },
  {
   "cell_type": "code",
   "execution_count": null,
   "id": "58b9388b",
   "metadata": {},
   "outputs": [],
   "source": [
    "# Topic: Regex\n",
    "import re\n",
    "text = 'email: test@example.com'\n",
    "print(re.findall(r'\\S+@\\S+', text))"
   ]
  },
  {
   "cell_type": "code",
   "execution_count": null,
   "id": "c7c0cfe2",
   "metadata": {},
   "outputs": [],
   "source": [
    "# Topic: OOP\n",
    "class Student:\n",
    "    def __init__(self, name): self.name = name\n",
    "s = Student('Fahd')\n",
    "print(s.name)"
   ]
  },
  {
   "cell_type": "code",
   "execution_count": null,
   "id": "e168d71b",
   "metadata": {},
   "outputs": [],
   "source": [
    "# Topic: File I/O\n",
    "with open('test.txt', 'w') as f:\n",
    "    f.write('Hello World')"
   ]
  },
  {
   "cell_type": "code",
   "execution_count": null,
   "id": "17b71395",
   "metadata": {},
   "outputs": [],
   "source": [
    "# Topic: Data Cleaning\n",
    "import pandas as pd\n",
    "df = pd.DataFrame({'A':[1,None,3]})\n",
    "df = df.fillna(0)\n",
    "print(df)"
   ]
  },
  {
   "cell_type": "code",
   "execution_count": null,
   "id": "8241f621",
   "metadata": {},
   "outputs": [],
   "source": [
    "# Topic: Data Cleaning\n",
    "import pandas as pd\n",
    "df = pd.DataFrame({'A':[1,None,3]})\n",
    "df = df.fillna(0)\n",
    "print(df)"
   ]
  },
  {
   "cell_type": "code",
   "execution_count": null,
   "id": "35d419cb",
   "metadata": {},
   "outputs": [],
   "source": [
    "# Topic: Web Scraping\n",
    "import requests\n",
    "from bs4 import BeautifulSoup\n",
    "r = requests.get('https://example.com')\n",
    "soup = BeautifulSoup(r.text, 'html.parser')\n",
    "print(soup.title.text)"
   ]
  },
  {
   "cell_type": "code",
   "execution_count": null,
   "id": "4e42b51d",
   "metadata": {},
   "outputs": [],
   "source": [
    "# Topic: Functions\n",
    "def square(x): return x*x\n",
    "print(square(5))"
   ]
  },
  {
   "cell_type": "code",
   "execution_count": null,
   "id": "9abaa42d",
   "metadata": {},
   "outputs": [],
   "source": [
    "# Topic: Functions\n",
    "def greet(name='User'):\n",
    "    print(f'Hi, {name}')\n",
    "greet()"
   ]
  },
  {
   "cell_type": "code",
   "execution_count": null,
   "id": "af680989",
   "metadata": {},
   "outputs": [],
   "source": [
    "# Topic: File I/O\n",
    "with open('test.txt', 'r') as f:\n",
    "    print(f.read())"
   ]
  },
  {
   "cell_type": "code",
   "execution_count": null,
   "id": "de99448c",
   "metadata": {},
   "outputs": [],
   "source": [
    "# Topic: Loops\n",
    "for i in range(10): print(i*i)"
   ]
  },
  {
   "cell_type": "code",
   "execution_count": null,
   "id": "2d37a5c5",
   "metadata": {},
   "outputs": [],
   "source": [
    "# Topic: Dictionaries & Sets\n",
    "s = set([1, 2, 3, 2])\n",
    "print(s)"
   ]
  },
  {
   "cell_type": "code",
   "execution_count": null,
   "id": "c43277eb",
   "metadata": {},
   "outputs": [],
   "source": [
    "# Topic: OOP\n",
    "class Student:\n",
    "    def __init__(self, name): self.name = name\n",
    "s = Student('Fahd')\n",
    "print(s.name)"
   ]
  },
  {
   "cell_type": "code",
   "execution_count": null,
   "id": "68d2f275",
   "metadata": {},
   "outputs": [],
   "source": [
    "# Topic: Recursion\n",
    "def fact(n): return 1 if n==0 else n*fact(n-1)\n",
    "print(fact(5))"
   ]
  },
  {
   "cell_type": "code",
   "execution_count": null,
   "id": "4f58de1b",
   "metadata": {},
   "outputs": [],
   "source": [
    "# Topic: Lists & Tuples\n",
    "lst = [1, 2, 3]\n",
    "lst.append(4)\n",
    "print(lst)"
   ]
  },
  {
   "cell_type": "code",
   "execution_count": null,
   "id": "edbb18c8",
   "metadata": {},
   "outputs": [],
   "source": [
    "# Topic: Mini Projects\n",
    "# Palindrome check\n",
    "def is_pal(s): return s == s[::-1]\n",
    "print(is_pal('madam'))"
   ]
  },
  {
   "cell_type": "code",
   "execution_count": null,
   "id": "3fa4a6ed",
   "metadata": {},
   "outputs": [],
   "source": [
    "# Topic: Pandas\n",
    "import pandas as pd\n",
    "df = pd.read_csv('file.csv')\n",
    "print(df.head())"
   ]
  },
  {
   "cell_type": "code",
   "execution_count": null,
   "id": "6a43f26b",
   "metadata": {},
   "outputs": [],
   "source": [
    "# Topic: Basics\n",
    "x = 10\n",
    "y = 20\n",
    "print(x + y)"
   ]
  },
  {
   "cell_type": "code",
   "execution_count": null,
   "id": "c86ab8ab",
   "metadata": {},
   "outputs": [],
   "source": [
    "# Topic: JSON & CSV\n",
    "import json\n",
    "data = {'a': 1}\n",
    "print(json.dumps(data))"
   ]
  },
  {
   "cell_type": "code",
   "execution_count": null,
   "id": "4a77fe3d",
   "metadata": {},
   "outputs": [],
   "source": [
    "# Topic: Decorators\n",
    "def log(func):\n",
    " def wrapper():\n",
    "  print('Call')\n",
    "  func()\n",
    " return wrapper\n",
    "@log\n",
    "def say(): print('Hi')\n",
    "say()"
   ]
  },
  {
   "cell_type": "code",
   "execution_count": null,
   "id": "5f57ad56",
   "metadata": {},
   "outputs": [],
   "source": [
    "# Topic: Basic ML\n",
    "from sklearn.linear_model import LinearRegression\n",
    "model = LinearRegression()\n",
    "print(model)"
   ]
  },
  {
   "cell_type": "code",
   "execution_count": null,
   "id": "4afeb8d7",
   "metadata": {},
   "outputs": [],
   "source": [
    "# Topic: Functions\n",
    "def square(x): return x*x\n",
    "print(square(5))"
   ]
  },
  {
   "cell_type": "code",
   "execution_count": null,
   "id": "e014fdfd",
   "metadata": {},
   "outputs": [],
   "source": [
    "# Topic: Regex\n",
    "import re\n",
    "text = 'email: test@example.com'\n",
    "print(re.findall(r'\\S+@\\S+', text))"
   ]
  },
  {
   "cell_type": "code",
   "execution_count": null,
   "id": "9e179106",
   "metadata": {},
   "outputs": [],
   "source": [
    "# Topic: Data Cleaning\n",
    "import pandas as pd\n",
    "df = pd.DataFrame({'A':[1,None,3]})\n",
    "df = df.fillna(0)\n",
    "print(df)"
   ]
  },
  {
   "cell_type": "code",
   "execution_count": null,
   "id": "a288dba0",
   "metadata": {},
   "outputs": [],
   "source": [
    "# Topic: Pandas\n",
    "import pandas as pd\n",
    "df = pd.DataFrame({'A':[1,2],'B':[3,4]})\n",
    "print(df)"
   ]
  },
  {
   "cell_type": "code",
   "execution_count": null,
   "id": "ddc63faf",
   "metadata": {},
   "outputs": [],
   "source": [
    "# Topic: Lists & Tuples\n",
    "lst = [1, 2, 3]\n",
    "lst.append(4)\n",
    "print(lst)"
   ]
  },
  {
   "cell_type": "code",
   "execution_count": null,
   "id": "951d41ce",
   "metadata": {},
   "outputs": [],
   "source": [
    "# Topic: Pandas\n",
    "import pandas as pd\n",
    "df = pd.DataFrame({'A':[1,2],'B':[3,4]})\n",
    "print(df)"
   ]
  },
  {
   "cell_type": "code",
   "execution_count": null,
   "id": "58ec9372",
   "metadata": {},
   "outputs": [],
   "source": [
    "# Topic: Dictionaries & Sets\n",
    "d = {'name': 'Fahd', 'age': 20}\n",
    "print(d.get('name'))"
   ]
  },
  {
   "cell_type": "code",
   "execution_count": null,
   "id": "5e4f0ff2",
   "metadata": {},
   "outputs": [],
   "source": [
    "# Topic: Basic ML\n",
    "from sklearn.linear_model import LinearRegression\n",
    "model = LinearRegression()\n",
    "print(model)"
   ]
  },
  {
   "cell_type": "code",
   "execution_count": null,
   "id": "807e4be4",
   "metadata": {},
   "outputs": [],
   "source": [
    "# Topic: File I/O\n",
    "with open('test.txt', 'w') as f:\n",
    "    f.write('Hello World')"
   ]
  },
  {
   "cell_type": "code",
   "execution_count": null,
   "id": "9863e8ff",
   "metadata": {},
   "outputs": [],
   "source": [
    "# Topic: Basic ML\n",
    "from sklearn.linear_model import LinearRegression\n",
    "model = LinearRegression()\n",
    "print(model)"
   ]
  },
  {
   "cell_type": "code",
   "execution_count": null,
   "id": "09607a3f",
   "metadata": {},
   "outputs": [],
   "source": [
    "# Topic: Matplotlib & Seaborn\n",
    "import seaborn as sns\n",
    "import pandas as pd\n",
    "sns.set()\n",
    "sns.histplot(pd.Series([1,2,2,3]));"
   ]
  },
  {
   "cell_type": "code",
   "execution_count": null,
   "id": "5706f3fb",
   "metadata": {},
   "outputs": [],
   "source": [
    "# Topic: Loops\n",
    "for i in range(10): print(i*i)"
   ]
  },
  {
   "cell_type": "code",
   "execution_count": null,
   "id": "8d649eaa",
   "metadata": {},
   "outputs": [],
   "source": [
    "# Topic: Mini Projects\n",
    "# Palindrome check\n",
    "def is_pal(s): return s == s[::-1]\n",
    "print(is_pal('madam'))"
   ]
  },
  {
   "cell_type": "code",
   "execution_count": null,
   "id": "2209c44a",
   "metadata": {},
   "outputs": [],
   "source": [
    "# Topic: Sorting Algorithms\n",
    "def bubble_sort(arr):\n",
    " for i in range(len(arr)):\n",
    "  for j in range(0, len(arr)-i-1):\n",
    "   if arr[j]>arr[j+1]: arr[j], arr[j+1]=arr[j+1], arr[j]\n",
    "a = [5,3,8,6]\n",
    "bubble_sort(a)\n",
    "print(a)"
   ]
  },
  {
   "cell_type": "code",
   "execution_count": null,
   "id": "49f71609",
   "metadata": {},
   "outputs": [],
   "source": [
    "# Topic: Loops\n",
    "for i in range(10): print(i*i)"
   ]
  },
  {
   "cell_type": "code",
   "execution_count": null,
   "id": "0c2ee20b",
   "metadata": {},
   "outputs": [],
   "source": [
    "# Topic: Lists & Tuples\n",
    "t = (1, 2, 3)\n",
    "print(t[0])"
   ]
  },
  {
   "cell_type": "code",
   "execution_count": null,
   "id": "c48f46f4",
   "metadata": {},
   "outputs": [],
   "source": [
    "# Topic: Matplotlib & Seaborn\n",
    "import seaborn as sns\n",
    "import pandas as pd\n",
    "sns.set()\n",
    "sns.histplot(pd.Series([1,2,2,3]));"
   ]
  },
  {
   "cell_type": "code",
   "execution_count": null,
   "id": "c01a58a1",
   "metadata": {},
   "outputs": [],
   "source": [
    "# Topic: Dictionaries & Sets\n",
    "s = set([1, 2, 3, 2])\n",
    "print(s)"
   ]
  },
  {
   "cell_type": "code",
   "execution_count": null,
   "id": "9f1103ab",
   "metadata": {},
   "outputs": [],
   "source": [
    "# Topic: Regex\n",
    "import re\n",
    "text = 'email: test@example.com'\n",
    "print(re.findall(r'\\S+@\\S+', text))"
   ]
  },
  {
   "cell_type": "code",
   "execution_count": null,
   "id": "1c7e1821",
   "metadata": {},
   "outputs": [],
   "source": [
    "# Topic: Web Scraping\n",
    "import requests\n",
    "from bs4 import BeautifulSoup\n",
    "r = requests.get('https://example.com')\n",
    "soup = BeautifulSoup(r.text, 'html.parser')\n",
    "print(soup.title.text)"
   ]
  },
  {
   "cell_type": "code",
   "execution_count": null,
   "id": "a8a5fb5b",
   "metadata": {},
   "outputs": [],
   "source": [
    "# Topic: Loops\n",
    "while True:\n",
    "    print('Break')\n",
    "    break"
   ]
  },
  {
   "cell_type": "code",
   "execution_count": null,
   "id": "bb8f21ff",
   "metadata": {},
   "outputs": [],
   "source": [
    "# Topic: File I/O\n",
    "with open('test.txt', 'w') as f:\n",
    "    f.write('Hello World')"
   ]
  },
  {
   "cell_type": "code",
   "execution_count": null,
   "id": "048e9044",
   "metadata": {},
   "outputs": [],
   "source": [
    "# Topic: Pandas\n",
    "import pandas as pd\n",
    "df = pd.read_csv('file.csv')\n",
    "print(df.head())"
   ]
  },
  {
   "cell_type": "code",
   "execution_count": null,
   "id": "09ab0180",
   "metadata": {},
   "outputs": [],
   "source": [
    "# Topic: Recursion\n",
    "def fact(n): return 1 if n==0 else n*fact(n-1)\n",
    "print(fact(5))"
   ]
  },
  {
   "cell_type": "code",
   "execution_count": null,
   "id": "27f07a94",
   "metadata": {},
   "outputs": [],
   "source": [
    "# Topic: Functions\n",
    "def square(x): return x*x\n",
    "print(square(5))"
   ]
  },
  {
   "cell_type": "code",
   "execution_count": null,
   "id": "0227e7ba",
   "metadata": {},
   "outputs": [],
   "source": [
    "# Topic: JSON & CSV\n",
    "import json\n",
    "data = {'a': 1}\n",
    "print(json.dumps(data))"
   ]
  },
  {
   "cell_type": "code",
   "execution_count": null,
   "id": "7ba88f1b",
   "metadata": {},
   "outputs": [],
   "source": [
    "# Topic: Lists & Tuples\n",
    "t = (1, 2, 3)\n",
    "print(t[0])"
   ]
  },
  {
   "cell_type": "code",
   "execution_count": null,
   "id": "e13de526",
   "metadata": {},
   "outputs": [],
   "source": [
    "# Topic: Lists & Tuples\n",
    "t = (1, 2, 3)\n",
    "print(t[0])"
   ]
  },
  {
   "cell_type": "code",
   "execution_count": null,
   "id": "6dae8cfd",
   "metadata": {},
   "outputs": [],
   "source": [
    "# Topic: File I/O\n",
    "with open('test.txt', 'r') as f:\n",
    "    print(f.read())"
   ]
  },
  {
   "cell_type": "code",
   "execution_count": null,
   "id": "8b6081e5",
   "metadata": {},
   "outputs": [],
   "source": [
    "# Topic: Mini Projects\n",
    "# Palindrome check\n",
    "def is_pal(s): return s == s[::-1]\n",
    "print(is_pal('madam'))"
   ]
  },
  {
   "cell_type": "code",
   "execution_count": null,
   "id": "3c61b0a6",
   "metadata": {},
   "outputs": [],
   "source": [
    "# Topic: Lists & Tuples\n",
    "lst = [1, 2, 3]\n",
    "lst.append(4)\n",
    "print(lst)"
   ]
  },
  {
   "cell_type": "code",
   "execution_count": null,
   "id": "f8aa8f13",
   "metadata": {},
   "outputs": [],
   "source": [
    "# Topic: JSON & CSV\n",
    "import csv\n",
    "with open('file.csv', 'w', newline='') as f:\n",
    " csv.writer(f).writerow(['a','b','c'])"
   ]
  },
  {
   "cell_type": "code",
   "execution_count": null,
   "id": "b41ea780",
   "metadata": {},
   "outputs": [],
   "source": [
    "# Topic: JSON & CSV\n",
    "import csv\n",
    "with open('file.csv', 'w', newline='') as f:\n",
    " csv.writer(f).writerow(['a','b','c'])"
   ]
  },
  {
   "cell_type": "code",
   "execution_count": null,
   "id": "a8f540e5",
   "metadata": {},
   "outputs": [],
   "source": [
    "# Topic: Lists & Tuples\n",
    "t = (1, 2, 3)\n",
    "print(t[0])"
   ]
  },
  {
   "cell_type": "code",
   "execution_count": null,
   "id": "7aa458c4",
   "metadata": {},
   "outputs": [],
   "source": [
    "# Topic: Regex\n",
    "import re\n",
    "text = 'email: test@example.com'\n",
    "print(re.findall(r'\\S+@\\S+', text))"
   ]
  },
  {
   "cell_type": "code",
   "execution_count": null,
   "id": "38a1de88",
   "metadata": {},
   "outputs": [],
   "source": [
    "# Topic: File I/O\n",
    "with open('test.txt', 'r') as f:\n",
    "    print(f.read())"
   ]
  },
  {
   "cell_type": "code",
   "execution_count": null,
   "id": "d8814de9",
   "metadata": {},
   "outputs": [],
   "source": [
    "# Topic: Recursion\n",
    "def fact(n): return 1 if n==0 else n*fact(n-1)\n",
    "print(fact(5))"
   ]
  },
  {
   "cell_type": "code",
   "execution_count": null,
   "id": "6f5bf516",
   "metadata": {},
   "outputs": [],
   "source": [
    "# Topic: OOP\n",
    "class Student:\n",
    "    def __init__(self, name): self.name = name\n",
    "s = Student('Fahd')\n",
    "print(s.name)"
   ]
  },
  {
   "cell_type": "code",
   "execution_count": null,
   "id": "3c6109e2",
   "metadata": {},
   "outputs": [],
   "source": [
    "# Topic: Pandas\n",
    "import pandas as pd\n",
    "df = pd.DataFrame({'A':[1,2],'B':[3,4]})\n",
    "print(df)"
   ]
  },
  {
   "cell_type": "code",
   "execution_count": null,
   "id": "29c50558",
   "metadata": {},
   "outputs": [],
   "source": [
    "# Topic: Web Scraping\n",
    "import requests\n",
    "from bs4 import BeautifulSoup\n",
    "r = requests.get('https://example.com')\n",
    "soup = BeautifulSoup(r.text, 'html.parser')\n",
    "print(soup.title.text)"
   ]
  },
  {
   "cell_type": "code",
   "execution_count": null,
   "id": "e8fcb000",
   "metadata": {},
   "outputs": [],
   "source": [
    "# Topic: Functions\n",
    "def square(x): return x*x\n",
    "print(square(5))"
   ]
  },
  {
   "cell_type": "code",
   "execution_count": null,
   "id": "e85145cb",
   "metadata": {},
   "outputs": [],
   "source": [
    "# Topic: Dictionaries & Sets\n",
    "d = {'name': 'Fahd', 'age': 20}\n",
    "print(d.get('name'))"
   ]
  },
  {
   "cell_type": "code",
   "execution_count": null,
   "id": "43460e1d",
   "metadata": {},
   "outputs": [],
   "source": [
    "# Topic: Web Scraping\n",
    "import requests\n",
    "from bs4 import BeautifulSoup\n",
    "r = requests.get('https://example.com')\n",
    "soup = BeautifulSoup(r.text, 'html.parser')\n",
    "print(soup.title.text)"
   ]
  },
  {
   "cell_type": "code",
   "execution_count": null,
   "id": "02d04fbc",
   "metadata": {},
   "outputs": [],
   "source": [
    "# Topic: Decorators\n",
    "def log(func):\n",
    " def wrapper():\n",
    "  print('Call')\n",
    "  func()\n",
    " return wrapper\n",
    "@log\n",
    "def say(): print('Hi')\n",
    "say()"
   ]
  },
  {
   "cell_type": "code",
   "execution_count": null,
   "id": "f3f0a751",
   "metadata": {},
   "outputs": [],
   "source": [
    "# Topic: Recursion\n",
    "def fact(n): return 1 if n==0 else n*fact(n-1)\n",
    "print(fact(5))"
   ]
  },
  {
   "cell_type": "code",
   "execution_count": null,
   "id": "dc95d2cb",
   "metadata": {},
   "outputs": [],
   "source": [
    "# Topic: JSON & CSV\n",
    "import json\n",
    "data = {'a': 1}\n",
    "print(json.dumps(data))"
   ]
  },
  {
   "cell_type": "code",
   "execution_count": null,
   "id": "4402dac5",
   "metadata": {},
   "outputs": [],
   "source": [
    "# Topic: OOP\n",
    "class Student:\n",
    "    def __init__(self, name): self.name = name\n",
    "s = Student('Fahd')\n",
    "print(s.name)"
   ]
  },
  {
   "cell_type": "code",
   "execution_count": null,
   "id": "4a1ad31c",
   "metadata": {},
   "outputs": [],
   "source": [
    "# Topic: Web Scraping\n",
    "import requests\n",
    "from bs4 import BeautifulSoup\n",
    "r = requests.get('https://example.com')\n",
    "soup = BeautifulSoup(r.text, 'html.parser')\n",
    "print(soup.title.text)"
   ]
  },
  {
   "cell_type": "code",
   "execution_count": null,
   "id": "5517afcb",
   "metadata": {},
   "outputs": [],
   "source": [
    "# Topic: Matplotlib & Seaborn\n",
    "import matplotlib.pyplot as plt\n",
    "plt.plot([1,2],[3,4])\n",
    "plt.show()"
   ]
  },
  {
   "cell_type": "code",
   "execution_count": null,
   "id": "e9c0494c",
   "metadata": {},
   "outputs": [],
   "source": [
    "# Topic: Matplotlib & Seaborn\n",
    "import seaborn as sns\n",
    "import pandas as pd\n",
    "sns.set()\n",
    "sns.histplot(pd.Series([1,2,2,3]));"
   ]
  },
  {
   "cell_type": "code",
   "execution_count": null,
   "id": "8bc44c27",
   "metadata": {},
   "outputs": [],
   "source": [
    "# Topic: Regex\n",
    "import re\n",
    "text = 'email: test@example.com'\n",
    "print(re.findall(r'\\S+@\\S+', text))"
   ]
  },
  {
   "cell_type": "code",
   "execution_count": null,
   "id": "d5411c79",
   "metadata": {},
   "outputs": [],
   "source": [
    "# Topic: Matplotlib & Seaborn\n",
    "import seaborn as sns\n",
    "import pandas as pd\n",
    "sns.set()\n",
    "sns.histplot(pd.Series([1,2,2,3]));"
   ]
  },
  {
   "cell_type": "code",
   "execution_count": null,
   "id": "6f632f5c",
   "metadata": {},
   "outputs": [],
   "source": [
    "# Topic: Basic ML\n",
    "from sklearn.linear_model import LinearRegression\n",
    "model = LinearRegression()\n",
    "print(model)"
   ]
  },
  {
   "cell_type": "code",
   "execution_count": null,
   "id": "46b518e3",
   "metadata": {},
   "outputs": [],
   "source": [
    "# Topic: NumPy\n",
    "import numpy as np\n",
    "print(np.linspace(0, 1, 5))"
   ]
  },
  {
   "cell_type": "code",
   "execution_count": null,
   "id": "47f946db",
   "metadata": {},
   "outputs": [],
   "source": [
    "# Topic: Data Cleaning\n",
    "import pandas as pd\n",
    "df = pd.DataFrame({'A':[1,None,3]})\n",
    "df = df.fillna(0)\n",
    "print(df)"
   ]
  },
  {
   "cell_type": "code",
   "execution_count": null,
   "id": "e8576f31",
   "metadata": {},
   "outputs": [],
   "source": [
    "# Topic: Functions\n",
    "def square(x): return x*x\n",
    "print(square(5))"
   ]
  },
  {
   "cell_type": "code",
   "execution_count": null,
   "id": "2fbb5848",
   "metadata": {},
   "outputs": [],
   "source": [
    "# Topic: Pandas\n",
    "import pandas as pd\n",
    "df = pd.read_csv('file.csv')\n",
    "print(df.head())"
   ]
  },
  {
   "cell_type": "code",
   "execution_count": null,
   "id": "bffccf76",
   "metadata": {},
   "outputs": [],
   "source": [
    "# Topic: Data Cleaning\n",
    "import pandas as pd\n",
    "df = pd.DataFrame({'A':[1,None,3]})\n",
    "df = df.fillna(0)\n",
    "print(df)"
   ]
  },
  {
   "cell_type": "code",
   "execution_count": null,
   "id": "6ae75594",
   "metadata": {},
   "outputs": [],
   "source": [
    "# Topic: Functions\n",
    "def greet(name='User'):\n",
    "    print(f'Hi, {name}')\n",
    "greet()"
   ]
  },
  {
   "cell_type": "code",
   "execution_count": null,
   "id": "f7c0c4df",
   "metadata": {},
   "outputs": [],
   "source": [
    "# Topic: Data Cleaning\n",
    "import pandas as pd\n",
    "df = pd.DataFrame({'A':[1,None,3]})\n",
    "df = df.fillna(0)\n",
    "print(df)"
   ]
  },
  {
   "cell_type": "code",
   "execution_count": null,
   "id": "af803149",
   "metadata": {},
   "outputs": [],
   "source": [
    "# Topic: NumPy\n",
    "import numpy as np\n",
    "a = np.array([1, 2, 3])\n",
    "print(a + 5)"
   ]
  },
  {
   "cell_type": "code",
   "execution_count": null,
   "id": "b29e09c5",
   "metadata": {},
   "outputs": [],
   "source": [
    "# Topic: Pandas\n",
    "import pandas as pd\n",
    "df = pd.read_csv('file.csv')\n",
    "print(df.head())"
   ]
  },
  {
   "cell_type": "code",
   "execution_count": null,
   "id": "814e1616",
   "metadata": {},
   "outputs": [],
   "source": [
    "# Topic: File I/O\n",
    "with open('test.txt', 'w') as f:\n",
    "    f.write('Hello World')"
   ]
  },
  {
   "cell_type": "code",
   "execution_count": null,
   "id": "3b77a909",
   "metadata": {},
   "outputs": [],
   "source": [
    "# Topic: JSON & CSV\n",
    "import json\n",
    "data = {'a': 1}\n",
    "print(json.dumps(data))"
   ]
  },
  {
   "cell_type": "code",
   "execution_count": null,
   "id": "1f45a094",
   "metadata": {},
   "outputs": [],
   "source": [
    "# Topic: File I/O\n",
    "with open('test.txt', 'r') as f:\n",
    "    print(f.read())"
   ]
  },
  {
   "cell_type": "code",
   "execution_count": null,
   "id": "06ae5a20",
   "metadata": {},
   "outputs": [],
   "source": [
    "# Topic: Decorators\n",
    "def log(func):\n",
    " def wrapper():\n",
    "  print('Call')\n",
    "  func()\n",
    " return wrapper\n",
    "@log\n",
    "def say(): print('Hi')\n",
    "say()"
   ]
  },
  {
   "cell_type": "code",
   "execution_count": null,
   "id": "4a8bd0b8",
   "metadata": {},
   "outputs": [],
   "source": [
    "# Topic: Decorators\n",
    "def log(func):\n",
    " def wrapper():\n",
    "  print('Call')\n",
    "  func()\n",
    " return wrapper\n",
    "@log\n",
    "def say(): print('Hi')\n",
    "say()"
   ]
  },
  {
   "cell_type": "code",
   "execution_count": null,
   "id": "abb8fe56",
   "metadata": {},
   "outputs": [],
   "source": [
    "# Topic: Sorting Algorithms\n",
    "def bubble_sort(arr):\n",
    " for i in range(len(arr)):\n",
    "  for j in range(0, len(arr)-i-1):\n",
    "   if arr[j]>arr[j+1]: arr[j], arr[j+1]=arr[j+1], arr[j]\n",
    "a = [5,3,8,6]\n",
    "bubble_sort(a)\n",
    "print(a)"
   ]
  },
  {
   "cell_type": "code",
   "execution_count": null,
   "id": "da819840",
   "metadata": {},
   "outputs": [],
   "source": [
    "# Topic: JSON & CSV\n",
    "import csv\n",
    "with open('file.csv', 'w', newline='') as f:\n",
    " csv.writer(f).writerow(['a','b','c'])"
   ]
  },
  {
   "cell_type": "code",
   "execution_count": null,
   "id": "59badc4d",
   "metadata": {},
   "outputs": [],
   "source": [
    "# Topic: Mini Projects\n",
    "# Calculator\n",
    "def calc(a,b,op): return eval(f'{a}{op}{b}')\n",
    "print(calc(5,2,'+'))"
   ]
  },
  {
   "cell_type": "code",
   "execution_count": null,
   "id": "db1627b5",
   "metadata": {},
   "outputs": [],
   "source": [
    "# Topic: Basics\n",
    "x = 10\n",
    "y = 20\n",
    "print(x + y)"
   ]
  },
  {
   "cell_type": "code",
   "execution_count": null,
   "id": "dc61cae6",
   "metadata": {},
   "outputs": [],
   "source": [
    "# Topic: NumPy\n",
    "import numpy as np\n",
    "print(np.linspace(0, 1, 5))"
   ]
  },
  {
   "cell_type": "code",
   "execution_count": null,
   "id": "66429ecf",
   "metadata": {},
   "outputs": [],
   "source": [
    "# Topic: Regex\n",
    "import re\n",
    "text = 'email: test@example.com'\n",
    "print(re.findall(r'\\S+@\\S+', text))"
   ]
  },
  {
   "cell_type": "code",
   "execution_count": null,
   "id": "2e765121",
   "metadata": {},
   "outputs": [],
   "source": [
    "# Topic: Loops\n",
    "while True:\n",
    "    print('Break')\n",
    "    break"
   ]
  },
  {
   "cell_type": "code",
   "execution_count": null,
   "id": "ddb02111",
   "metadata": {},
   "outputs": [],
   "source": [
    "# Topic: Sorting Algorithms\n",
    "def bubble_sort(arr):\n",
    " for i in range(len(arr)):\n",
    "  for j in range(0, len(arr)-i-1):\n",
    "   if arr[j]>arr[j+1]: arr[j], arr[j+1]=arr[j+1], arr[j]\n",
    "a = [5,3,8,6]\n",
    "bubble_sort(a)\n",
    "print(a)"
   ]
  },
  {
   "cell_type": "code",
   "execution_count": null,
   "id": "50e0cc01",
   "metadata": {},
   "outputs": [],
   "source": [
    "# Topic: Web Scraping\n",
    "import requests\n",
    "from bs4 import BeautifulSoup\n",
    "r = requests.get('https://example.com')\n",
    "soup = BeautifulSoup(r.text, 'html.parser')\n",
    "print(soup.title.text)"
   ]
  },
  {
   "cell_type": "code",
   "execution_count": null,
   "id": "1c93192c",
   "metadata": {},
   "outputs": [],
   "source": [
    "# Topic: Sorting Algorithms\n",
    "def bubble_sort(arr):\n",
    " for i in range(len(arr)):\n",
    "  for j in range(0, len(arr)-i-1):\n",
    "   if arr[j]>arr[j+1]: arr[j], arr[j+1]=arr[j+1], arr[j]\n",
    "a = [5,3,8,6]\n",
    "bubble_sort(a)\n",
    "print(a)"
   ]
  },
  {
   "cell_type": "code",
   "execution_count": null,
   "id": "c277ed76",
   "metadata": {},
   "outputs": [],
   "source": [
    "# Topic: Sorting Algorithms\n",
    "def bubble_sort(arr):\n",
    " for i in range(len(arr)):\n",
    "  for j in range(0, len(arr)-i-1):\n",
    "   if arr[j]>arr[j+1]: arr[j], arr[j+1]=arr[j+1], arr[j]\n",
    "a = [5,3,8,6]\n",
    "bubble_sort(a)\n",
    "print(a)"
   ]
  },
  {
   "cell_type": "code",
   "execution_count": null,
   "id": "19990324",
   "metadata": {},
   "outputs": [],
   "source": [
    "# Topic: Mini Projects\n",
    "# Palindrome check\n",
    "def is_pal(s): return s == s[::-1]\n",
    "print(is_pal('madam'))"
   ]
  },
  {
   "cell_type": "code",
   "execution_count": null,
   "id": "cb171e50",
   "metadata": {},
   "outputs": [],
   "source": [
    "# Topic: Recursion\n",
    "def fact(n): return 1 if n==0 else n*fact(n-1)\n",
    "print(fact(5))"
   ]
  },
  {
   "cell_type": "code",
   "execution_count": null,
   "id": "9268b0d0",
   "metadata": {},
   "outputs": [],
   "source": [
    "# Topic: Recursion\n",
    "def fact(n): return 1 if n==0 else n*fact(n-1)\n",
    "print(fact(5))"
   ]
  },
  {
   "cell_type": "code",
   "execution_count": null,
   "id": "ad1473ea",
   "metadata": {},
   "outputs": [],
   "source": [
    "# Topic: Matplotlib & Seaborn\n",
    "import matplotlib.pyplot as plt\n",
    "plt.plot([1,2],[3,4])\n",
    "plt.show()"
   ]
  },
  {
   "cell_type": "code",
   "execution_count": null,
   "id": "2f5b3682",
   "metadata": {},
   "outputs": [],
   "source": [
    "# Topic: Web Scraping\n",
    "import requests\n",
    "from bs4 import BeautifulSoup\n",
    "r = requests.get('https://example.com')\n",
    "soup = BeautifulSoup(r.text, 'html.parser')\n",
    "print(soup.title.text)"
   ]
  },
  {
   "cell_type": "code",
   "execution_count": null,
   "id": "4cfc9f95",
   "metadata": {},
   "outputs": [],
   "source": [
    "# Topic: Loops\n",
    "for i in range(10): print(i*i)"
   ]
  },
  {
   "cell_type": "code",
   "execution_count": null,
   "id": "d5a90025",
   "metadata": {},
   "outputs": [],
   "source": [
    "# Topic: Loops\n",
    "for i in range(10): print(i*i)"
   ]
  },
  {
   "cell_type": "code",
   "execution_count": null,
   "id": "954c53e4",
   "metadata": {},
   "outputs": [],
   "source": [
    "# Topic: OOP\n",
    "class Student:\n",
    "    def __init__(self, name): self.name = name\n",
    "s = Student('Fahd')\n",
    "print(s.name)"
   ]
  },
  {
   "cell_type": "code",
   "execution_count": null,
   "id": "f1695599",
   "metadata": {},
   "outputs": [],
   "source": [
    "# Topic: Data Cleaning\n",
    "import pandas as pd\n",
    "df = pd.DataFrame({'A':[1,None,3]})\n",
    "df = df.fillna(0)\n",
    "print(df)"
   ]
  },
  {
   "cell_type": "code",
   "execution_count": null,
   "id": "b22c67cf",
   "metadata": {},
   "outputs": [],
   "source": [
    "# Topic: Functions\n",
    "def square(x): return x*x\n",
    "print(square(5))"
   ]
  },
  {
   "cell_type": "code",
   "execution_count": null,
   "id": "c445e318",
   "metadata": {},
   "outputs": [],
   "source": [
    "# Topic: Loops\n",
    "while True:\n",
    "    print('Break')\n",
    "    break"
   ]
  },
  {
   "cell_type": "code",
   "execution_count": null,
   "id": "02714e6b",
   "metadata": {},
   "outputs": [],
   "source": [
    "# Topic: File I/O\n",
    "with open('test.txt', 'r') as f:\n",
    "    print(f.read())"
   ]
  },
  {
   "cell_type": "code",
   "execution_count": null,
   "id": "9ffb2039",
   "metadata": {},
   "outputs": [],
   "source": [
    "# Topic: File I/O\n",
    "with open('test.txt', 'r') as f:\n",
    "    print(f.read())"
   ]
  },
  {
   "cell_type": "code",
   "execution_count": null,
   "id": "9a04404d",
   "metadata": {},
   "outputs": [],
   "source": [
    "# Topic: Matplotlib & Seaborn\n",
    "import seaborn as sns\n",
    "import pandas as pd\n",
    "sns.set()\n",
    "sns.histplot(pd.Series([1,2,2,3]));"
   ]
  },
  {
   "cell_type": "code",
   "execution_count": null,
   "id": "b2be97b6",
   "metadata": {},
   "outputs": [],
   "source": [
    "# Topic: Pandas\n",
    "import pandas as pd\n",
    "df = pd.DataFrame({'A':[1,2],'B':[3,4]})\n",
    "print(df)"
   ]
  },
  {
   "cell_type": "code",
   "execution_count": null,
   "id": "68f1540a",
   "metadata": {},
   "outputs": [],
   "source": [
    "# Topic: Pandas\n",
    "import pandas as pd\n",
    "df = pd.DataFrame({'A':[1,2],'B':[3,4]})\n",
    "print(df)"
   ]
  },
  {
   "cell_type": "code",
   "execution_count": null,
   "id": "17175e95",
   "metadata": {},
   "outputs": [],
   "source": [
    "# Topic: Pandas\n",
    "import pandas as pd\n",
    "df = pd.read_csv('file.csv')\n",
    "print(df.head())"
   ]
  },
  {
   "cell_type": "code",
   "execution_count": null,
   "id": "a1981398",
   "metadata": {},
   "outputs": [],
   "source": [
    "# Topic: Regex\n",
    "import re\n",
    "text = 'email: test@example.com'\n",
    "print(re.findall(r'\\S+@\\S+', text))"
   ]
  },
  {
   "cell_type": "code",
   "execution_count": null,
   "id": "1e55982c",
   "metadata": {},
   "outputs": [],
   "source": [
    "# Topic: Web Scraping\n",
    "import requests\n",
    "from bs4 import BeautifulSoup\n",
    "r = requests.get('https://example.com')\n",
    "soup = BeautifulSoup(r.text, 'html.parser')\n",
    "print(soup.title.text)"
   ]
  },
  {
   "cell_type": "code",
   "execution_count": null,
   "id": "8a0f7bf3",
   "metadata": {},
   "outputs": [],
   "source": [
    "# Topic: Mini Projects\n",
    "# Palindrome check\n",
    "def is_pal(s): return s == s[::-1]\n",
    "print(is_pal('madam'))"
   ]
  },
  {
   "cell_type": "code",
   "execution_count": null,
   "id": "a9270244",
   "metadata": {},
   "outputs": [],
   "source": [
    "# Topic: NumPy\n",
    "import numpy as np\n",
    "a = np.array([1, 2, 3])\n",
    "print(a + 5)"
   ]
  },
  {
   "cell_type": "code",
   "execution_count": null,
   "id": "60e07b96",
   "metadata": {},
   "outputs": [],
   "source": [
    "# Topic: Lists & Tuples\n",
    "lst = [1, 2, 3]\n",
    "lst.append(4)\n",
    "print(lst)"
   ]
  },
  {
   "cell_type": "code",
   "execution_count": null,
   "id": "6249e9fd",
   "metadata": {},
   "outputs": [],
   "source": [
    "# Topic: Data Cleaning\n",
    "import pandas as pd\n",
    "df = pd.DataFrame({'A':[1,None,3]})\n",
    "df = df.fillna(0)\n",
    "print(df)"
   ]
  },
  {
   "cell_type": "code",
   "execution_count": null,
   "id": "d51fbfaa",
   "metadata": {},
   "outputs": [],
   "source": [
    "# Topic: Regex\n",
    "import re\n",
    "text = 'email: test@example.com'\n",
    "print(re.findall(r'\\S+@\\S+', text))"
   ]
  },
  {
   "cell_type": "code",
   "execution_count": null,
   "id": "d6b02146",
   "metadata": {},
   "outputs": [],
   "source": [
    "# Topic: Lists & Tuples\n",
    "lst = [1, 2, 3]\n",
    "lst.append(4)\n",
    "print(lst)"
   ]
  },
  {
   "cell_type": "code",
   "execution_count": null,
   "id": "02842568",
   "metadata": {},
   "outputs": [],
   "source": [
    "# Topic: Web Scraping\n",
    "import requests\n",
    "from bs4 import BeautifulSoup\n",
    "r = requests.get('https://example.com')\n",
    "soup = BeautifulSoup(r.text, 'html.parser')\n",
    "print(soup.title.text)"
   ]
  },
  {
   "cell_type": "code",
   "execution_count": null,
   "id": "0f1869c9",
   "metadata": {},
   "outputs": [],
   "source": [
    "# Topic: Regex\n",
    "import re\n",
    "text = 'email: test@example.com'\n",
    "print(re.findall(r'\\S+@\\S+', text))"
   ]
  },
  {
   "cell_type": "code",
   "execution_count": null,
   "id": "6ae6835a",
   "metadata": {},
   "outputs": [],
   "source": [
    "# Topic: JSON & CSV\n",
    "import csv\n",
    "with open('file.csv', 'w', newline='') as f:\n",
    " csv.writer(f).writerow(['a','b','c'])"
   ]
  },
  {
   "cell_type": "code",
   "execution_count": null,
   "id": "38dbc97c",
   "metadata": {},
   "outputs": [],
   "source": [
    "# Topic: Recursion\n",
    "def fact(n): return 1 if n==0 else n*fact(n-1)\n",
    "print(fact(5))"
   ]
  },
  {
   "cell_type": "code",
   "execution_count": null,
   "id": "166bac59",
   "metadata": {},
   "outputs": [],
   "source": [
    "# Topic: File I/O\n",
    "with open('test.txt', 'r') as f:\n",
    "    print(f.read())"
   ]
  },
  {
   "cell_type": "code",
   "execution_count": null,
   "id": "880b94fb",
   "metadata": {},
   "outputs": [],
   "source": [
    "# Topic: File I/O\n",
    "with open('test.txt', 'w') as f:\n",
    "    f.write('Hello World')"
   ]
  },
  {
   "cell_type": "code",
   "execution_count": null,
   "id": "19d7deb5",
   "metadata": {},
   "outputs": [],
   "source": [
    "# Topic: File I/O\n",
    "with open('test.txt', 'r') as f:\n",
    "    print(f.read())"
   ]
  },
  {
   "cell_type": "code",
   "execution_count": null,
   "id": "46f406d0",
   "metadata": {},
   "outputs": [],
   "source": [
    "# Topic: Regex\n",
    "import re\n",
    "text = 'email: test@example.com'\n",
    "print(re.findall(r'\\S+@\\S+', text))"
   ]
  },
  {
   "cell_type": "code",
   "execution_count": null,
   "id": "386df231",
   "metadata": {},
   "outputs": [],
   "source": [
    "# Topic: Pandas\n",
    "import pandas as pd\n",
    "df = pd.DataFrame({'A':[1,2],'B':[3,4]})\n",
    "print(df)"
   ]
  },
  {
   "cell_type": "code",
   "execution_count": null,
   "id": "c9f0c5ac",
   "metadata": {},
   "outputs": [],
   "source": [
    "# Topic: Recursion\n",
    "def fact(n): return 1 if n==0 else n*fact(n-1)\n",
    "print(fact(5))"
   ]
  },
  {
   "cell_type": "code",
   "execution_count": null,
   "id": "1a187152",
   "metadata": {},
   "outputs": [],
   "source": [
    "# Topic: Data Cleaning\n",
    "import pandas as pd\n",
    "df = pd.DataFrame({'A':[1,None,3]})\n",
    "df = df.fillna(0)\n",
    "print(df)"
   ]
  },
  {
   "cell_type": "code",
   "execution_count": null,
   "id": "003db822",
   "metadata": {},
   "outputs": [],
   "source": [
    "# Topic: Functions\n",
    "def greet(name='User'):\n",
    "    print(f'Hi, {name}')\n",
    "greet()"
   ]
  },
  {
   "cell_type": "code",
   "execution_count": null,
   "id": "c9fd0e9a",
   "metadata": {},
   "outputs": [],
   "source": [
    "# Topic: Basic ML\n",
    "from sklearn.linear_model import LinearRegression\n",
    "model = LinearRegression()\n",
    "print(model)"
   ]
  },
  {
   "cell_type": "code",
   "execution_count": null,
   "id": "b43ce8c9",
   "metadata": {},
   "outputs": [],
   "source": [
    "# Topic: Recursion\n",
    "def fact(n): return 1 if n==0 else n*fact(n-1)\n",
    "print(fact(5))"
   ]
  },
  {
   "cell_type": "code",
   "execution_count": null,
   "id": "a4eade80",
   "metadata": {},
   "outputs": [],
   "source": [
    "# Topic: JSON & CSV\n",
    "import csv\n",
    "with open('file.csv', 'w', newline='') as f:\n",
    " csv.writer(f).writerow(['a','b','c'])"
   ]
  },
  {
   "cell_type": "code",
   "execution_count": null,
   "id": "d2ff25f8",
   "metadata": {},
   "outputs": [],
   "source": [
    "# Topic: Functions\n",
    "def greet(name='User'):\n",
    "    print(f'Hi, {name}')\n",
    "greet()"
   ]
  },
  {
   "cell_type": "code",
   "execution_count": null,
   "id": "25236955",
   "metadata": {},
   "outputs": [],
   "source": [
    "# Topic: Basics\n",
    "x = 10\n",
    "y = 20\n",
    "print(x + y)"
   ]
  },
  {
   "cell_type": "code",
   "execution_count": null,
   "id": "32735b86",
   "metadata": {},
   "outputs": [],
   "source": [
    "# Topic: Matplotlib & Seaborn\n",
    "import seaborn as sns\n",
    "import pandas as pd\n",
    "sns.set()\n",
    "sns.histplot(pd.Series([1,2,2,3]));"
   ]
  },
  {
   "cell_type": "code",
   "execution_count": null,
   "id": "8b1859df",
   "metadata": {},
   "outputs": [],
   "source": [
    "# Topic: Basic ML\n",
    "from sklearn.linear_model import LinearRegression\n",
    "model = LinearRegression()\n",
    "print(model)"
   ]
  },
  {
   "cell_type": "code",
   "execution_count": null,
   "id": "661d6751",
   "metadata": {},
   "outputs": [],
   "source": [
    "# Topic: Pandas\n",
    "import pandas as pd\n",
    "df = pd.DataFrame({'A':[1,2],'B':[3,4]})\n",
    "print(df)"
   ]
  },
  {
   "cell_type": "code",
   "execution_count": null,
   "id": "fb9a9b8d",
   "metadata": {},
   "outputs": [],
   "source": [
    "# Topic: Basics\n",
    "x = 10\n",
    "y = 20\n",
    "print(x + y)"
   ]
  },
  {
   "cell_type": "code",
   "execution_count": null,
   "id": "06098c22",
   "metadata": {},
   "outputs": [],
   "source": [
    "# Topic: Matplotlib & Seaborn\n",
    "import seaborn as sns\n",
    "import pandas as pd\n",
    "sns.set()\n",
    "sns.histplot(pd.Series([1,2,2,3]));"
   ]
  },
  {
   "cell_type": "code",
   "execution_count": null,
   "id": "804c1b5f",
   "metadata": {},
   "outputs": [],
   "source": [
    "# Topic: Mini Projects\n",
    "# Palindrome check\n",
    "def is_pal(s): return s == s[::-1]\n",
    "print(is_pal('madam'))"
   ]
  },
  {
   "cell_type": "code",
   "execution_count": null,
   "id": "d4b42747",
   "metadata": {},
   "outputs": [],
   "source": [
    "# Topic: Recursion\n",
    "def fact(n): return 1 if n==0 else n*fact(n-1)\n",
    "print(fact(5))"
   ]
  },
  {
   "cell_type": "code",
   "execution_count": null,
   "id": "9acadba6",
   "metadata": {},
   "outputs": [],
   "source": [
    "# Topic: Sorting Algorithms\n",
    "def bubble_sort(arr):\n",
    " for i in range(len(arr)):\n",
    "  for j in range(0, len(arr)-i-1):\n",
    "   if arr[j]>arr[j+1]: arr[j], arr[j+1]=arr[j+1], arr[j]\n",
    "a = [5,3,8,6]\n",
    "bubble_sort(a)\n",
    "print(a)"
   ]
  },
  {
   "cell_type": "code",
   "execution_count": null,
   "id": "6ba6c93b",
   "metadata": {},
   "outputs": [],
   "source": [
    "# Topic: Recursion\n",
    "def fact(n): return 1 if n==0 else n*fact(n-1)\n",
    "print(fact(5))"
   ]
  },
  {
   "cell_type": "code",
   "execution_count": null,
   "id": "5b9fcf44",
   "metadata": {},
   "outputs": [],
   "source": [
    "# Topic: Sorting Algorithms\n",
    "def bubble_sort(arr):\n",
    " for i in range(len(arr)):\n",
    "  for j in range(0, len(arr)-i-1):\n",
    "   if arr[j]>arr[j+1]: arr[j], arr[j+1]=arr[j+1], arr[j]\n",
    "a = [5,3,8,6]\n",
    "bubble_sort(a)\n",
    "print(a)"
   ]
  },
  {
   "cell_type": "code",
   "execution_count": null,
   "id": "5681fc58",
   "metadata": {},
   "outputs": [],
   "source": [
    "# Topic: Functions\n",
    "def square(x): return x*x\n",
    "print(square(5))"
   ]
  },
  {
   "cell_type": "code",
   "execution_count": null,
   "id": "d1e7bc8b",
   "metadata": {},
   "outputs": [],
   "source": [
    "# Topic: Regex\n",
    "import re\n",
    "text = 'email: test@example.com'\n",
    "print(re.findall(r'\\S+@\\S+', text))"
   ]
  },
  {
   "cell_type": "code",
   "execution_count": null,
   "id": "eeab0244",
   "metadata": {},
   "outputs": [],
   "source": [
    "# Topic: JSON & CSV\n",
    "import csv\n",
    "with open('file.csv', 'w', newline='') as f:\n",
    " csv.writer(f).writerow(['a','b','c'])"
   ]
  },
  {
   "cell_type": "code",
   "execution_count": null,
   "id": "ab73725d",
   "metadata": {},
   "outputs": [],
   "source": [
    "# Topic: File I/O\n",
    "with open('test.txt', 'r') as f:\n",
    "    print(f.read())"
   ]
  },
  {
   "cell_type": "code",
   "execution_count": null,
   "id": "f910133f",
   "metadata": {},
   "outputs": [],
   "source": [
    "# Topic: Dictionaries & Sets\n",
    "s = set([1, 2, 3, 2])\n",
    "print(s)"
   ]
  },
  {
   "cell_type": "code",
   "execution_count": null,
   "id": "02301c4e",
   "metadata": {},
   "outputs": [],
   "source": [
    "# Topic: Sorting Algorithms\n",
    "def bubble_sort(arr):\n",
    " for i in range(len(arr)):\n",
    "  for j in range(0, len(arr)-i-1):\n",
    "   if arr[j]>arr[j+1]: arr[j], arr[j+1]=arr[j+1], arr[j]\n",
    "a = [5,3,8,6]\n",
    "bubble_sort(a)\n",
    "print(a)"
   ]
  },
  {
   "cell_type": "code",
   "execution_count": null,
   "id": "9594b9fd",
   "metadata": {},
   "outputs": [],
   "source": [
    "# Topic: Pandas\n",
    "import pandas as pd\n",
    "df = pd.DataFrame({'A':[1,2],'B':[3,4]})\n",
    "print(df)"
   ]
  },
  {
   "cell_type": "code",
   "execution_count": null,
   "id": "bd8f0505",
   "metadata": {},
   "outputs": [],
   "source": [
    "# Topic: Sorting Algorithms\n",
    "def bubble_sort(arr):\n",
    " for i in range(len(arr)):\n",
    "  for j in range(0, len(arr)-i-1):\n",
    "   if arr[j]>arr[j+1]: arr[j], arr[j+1]=arr[j+1], arr[j]\n",
    "a = [5,3,8,6]\n",
    "bubble_sort(a)\n",
    "print(a)"
   ]
  },
  {
   "cell_type": "code",
   "execution_count": null,
   "id": "f3e575db",
   "metadata": {},
   "outputs": [],
   "source": [
    "# Topic: Pandas\n",
    "import pandas as pd\n",
    "df = pd.read_csv('file.csv')\n",
    "print(df.head())"
   ]
  },
  {
   "cell_type": "code",
   "execution_count": null,
   "id": "b3ed0650",
   "metadata": {},
   "outputs": [],
   "source": [
    "# Topic: Sorting Algorithms\n",
    "def bubble_sort(arr):\n",
    " for i in range(len(arr)):\n",
    "  for j in range(0, len(arr)-i-1):\n",
    "   if arr[j]>arr[j+1]: arr[j], arr[j+1]=arr[j+1], arr[j]\n",
    "a = [5,3,8,6]\n",
    "bubble_sort(a)\n",
    "print(a)"
   ]
  },
  {
   "cell_type": "code",
   "execution_count": null,
   "id": "f1c3e1d7",
   "metadata": {},
   "outputs": [],
   "source": [
    "# Topic: Matplotlib & Seaborn\n",
    "import seaborn as sns\n",
    "import pandas as pd\n",
    "sns.set()\n",
    "sns.histplot(pd.Series([1,2,2,3]));"
   ]
  },
  {
   "cell_type": "code",
   "execution_count": null,
   "id": "45a29096",
   "metadata": {},
   "outputs": [],
   "source": [
    "# Topic: Recursion\n",
    "def fact(n): return 1 if n==0 else n*fact(n-1)\n",
    "print(fact(5))"
   ]
  },
  {
   "cell_type": "code",
   "execution_count": null,
   "id": "648f47c3",
   "metadata": {},
   "outputs": [],
   "source": [
    "# Topic: Web Scraping\n",
    "import requests\n",
    "from bs4 import BeautifulSoup\n",
    "r = requests.get('https://example.com')\n",
    "soup = BeautifulSoup(r.text, 'html.parser')\n",
    "print(soup.title.text)"
   ]
  },
  {
   "cell_type": "code",
   "execution_count": null,
   "id": "6b86ad15",
   "metadata": {},
   "outputs": [],
   "source": [
    "# Topic: OOP\n",
    "class Student:\n",
    "    def __init__(self, name): self.name = name\n",
    "s = Student('Fahd')\n",
    "print(s.name)"
   ]
  },
  {
   "cell_type": "code",
   "execution_count": null,
   "id": "40954e31",
   "metadata": {},
   "outputs": [],
   "source": [
    "# Topic: JSON & CSV\n",
    "import csv\n",
    "with open('file.csv', 'w', newline='') as f:\n",
    " csv.writer(f).writerow(['a','b','c'])"
   ]
  },
  {
   "cell_type": "code",
   "execution_count": null,
   "id": "884ab876",
   "metadata": {},
   "outputs": [],
   "source": [
    "# Topic: NumPy\n",
    "import numpy as np\n",
    "a = np.array([1, 2, 3])\n",
    "print(a + 5)"
   ]
  },
  {
   "cell_type": "code",
   "execution_count": null,
   "id": "3b95a449",
   "metadata": {},
   "outputs": [],
   "source": [
    "# Topic: Dictionaries & Sets\n",
    "s = set([1, 2, 3, 2])\n",
    "print(s)"
   ]
  },
  {
   "cell_type": "code",
   "execution_count": null,
   "id": "7fc067d3",
   "metadata": {},
   "outputs": [],
   "source": [
    "# Topic: Regex\n",
    "import re\n",
    "text = 'email: test@example.com'\n",
    "print(re.findall(r'\\S+@\\S+', text))"
   ]
  },
  {
   "cell_type": "code",
   "execution_count": null,
   "id": "465a497b",
   "metadata": {},
   "outputs": [],
   "source": [
    "# Topic: NumPy\n",
    "import numpy as np\n",
    "a = np.array([1, 2, 3])\n",
    "print(a + 5)"
   ]
  },
  {
   "cell_type": "code",
   "execution_count": null,
   "id": "e4a73195",
   "metadata": {},
   "outputs": [],
   "source": [
    "# Topic: Loops\n",
    "for i in range(10): print(i*i)"
   ]
  },
  {
   "cell_type": "code",
   "execution_count": null,
   "id": "20f5c00c",
   "metadata": {},
   "outputs": [],
   "source": [
    "# Topic: Data Cleaning\n",
    "import pandas as pd\n",
    "df = pd.DataFrame({'A':[1,None,3]})\n",
    "df = df.fillna(0)\n",
    "print(df)"
   ]
  },
  {
   "cell_type": "code",
   "execution_count": null,
   "id": "a453f5b2",
   "metadata": {},
   "outputs": [],
   "source": [
    "# Topic: Pandas\n",
    "import pandas as pd\n",
    "df = pd.DataFrame({'A':[1,2],'B':[3,4]})\n",
    "print(df)"
   ]
  },
  {
   "cell_type": "code",
   "execution_count": null,
   "id": "e74166a4",
   "metadata": {},
   "outputs": [],
   "source": [
    "# Topic: Web Scraping\n",
    "import requests\n",
    "from bs4 import BeautifulSoup\n",
    "r = requests.get('https://example.com')\n",
    "soup = BeautifulSoup(r.text, 'html.parser')\n",
    "print(soup.title.text)"
   ]
  },
  {
   "cell_type": "code",
   "execution_count": null,
   "id": "130b5916",
   "metadata": {},
   "outputs": [],
   "source": [
    "# Topic: Dictionaries & Sets\n",
    "s = set([1, 2, 3, 2])\n",
    "print(s)"
   ]
  },
  {
   "cell_type": "code",
   "execution_count": null,
   "id": "78e98681",
   "metadata": {},
   "outputs": [],
   "source": [
    "# Topic: Decorators\n",
    "def log(func):\n",
    " def wrapper():\n",
    "  print('Call')\n",
    "  func()\n",
    " return wrapper\n",
    "@log\n",
    "def say(): print('Hi')\n",
    "say()"
   ]
  },
  {
   "cell_type": "code",
   "execution_count": null,
   "id": "21f199e8",
   "metadata": {},
   "outputs": [],
   "source": [
    "# Topic: Recursion\n",
    "def fact(n): return 1 if n==0 else n*fact(n-1)\n",
    "print(fact(5))"
   ]
  },
  {
   "cell_type": "code",
   "execution_count": null,
   "id": "d24a04b5",
   "metadata": {},
   "outputs": [],
   "source": [
    "# Topic: Matplotlib & Seaborn\n",
    "import seaborn as sns\n",
    "import pandas as pd\n",
    "sns.set()\n",
    "sns.histplot(pd.Series([1,2,2,3]));"
   ]
  },
  {
   "cell_type": "code",
   "execution_count": null,
   "id": "54ea312d",
   "metadata": {},
   "outputs": [],
   "source": [
    "# Topic: Decorators\n",
    "def log(func):\n",
    " def wrapper():\n",
    "  print('Call')\n",
    "  func()\n",
    " return wrapper\n",
    "@log\n",
    "def say(): print('Hi')\n",
    "say()"
   ]
  },
  {
   "cell_type": "code",
   "execution_count": null,
   "id": "2a9eed50",
   "metadata": {},
   "outputs": [],
   "source": [
    "# Topic: Functions\n",
    "def greet(name='User'):\n",
    "    print(f'Hi, {name}')\n",
    "greet()"
   ]
  },
  {
   "cell_type": "code",
   "execution_count": null,
   "id": "deb3dfec",
   "metadata": {},
   "outputs": [],
   "source": [
    "# Topic: Regex\n",
    "import re\n",
    "text = 'email: test@example.com'\n",
    "print(re.findall(r'\\S+@\\S+', text))"
   ]
  },
  {
   "cell_type": "code",
   "execution_count": null,
   "id": "f8780976",
   "metadata": {},
   "outputs": [],
   "source": [
    "# Topic: Regex\n",
    "import re\n",
    "text = 'email: test@example.com'\n",
    "print(re.findall(r'\\S+@\\S+', text))"
   ]
  },
  {
   "cell_type": "code",
   "execution_count": null,
   "id": "62b0fc7b",
   "metadata": {},
   "outputs": [],
   "source": [
    "# Topic: Data Cleaning\n",
    "import pandas as pd\n",
    "df = pd.DataFrame({'A':[1,None,3]})\n",
    "df = df.fillna(0)\n",
    "print(df)"
   ]
  },
  {
   "cell_type": "code",
   "execution_count": null,
   "id": "037c497f",
   "metadata": {},
   "outputs": [],
   "source": [
    "# Topic: Matplotlib & Seaborn\n",
    "import seaborn as sns\n",
    "import pandas as pd\n",
    "sns.set()\n",
    "sns.histplot(pd.Series([1,2,2,3]));"
   ]
  },
  {
   "cell_type": "code",
   "execution_count": null,
   "id": "cfaff9e2",
   "metadata": {},
   "outputs": [],
   "source": [
    "# Topic: Basic ML\n",
    "from sklearn.linear_model import LinearRegression\n",
    "model = LinearRegression()\n",
    "print(model)"
   ]
  },
  {
   "cell_type": "code",
   "execution_count": null,
   "id": "80087671",
   "metadata": {},
   "outputs": [],
   "source": [
    "# Topic: Mini Projects\n",
    "# Calculator\n",
    "def calc(a,b,op): return eval(f'{a}{op}{b}')\n",
    "print(calc(5,2,'+'))"
   ]
  },
  {
   "cell_type": "code",
   "execution_count": null,
   "id": "6d375cb1",
   "metadata": {},
   "outputs": [],
   "source": [
    "# Topic: Functions\n",
    "def greet(name='User'):\n",
    "    print(f'Hi, {name}')\n",
    "greet()"
   ]
  },
  {
   "cell_type": "code",
   "execution_count": null,
   "id": "696c8a5c",
   "metadata": {},
   "outputs": [],
   "source": [
    "# Topic: Sorting Algorithms\n",
    "def bubble_sort(arr):\n",
    " for i in range(len(arr)):\n",
    "  for j in range(0, len(arr)-i-1):\n",
    "   if arr[j]>arr[j+1]: arr[j], arr[j+1]=arr[j+1], arr[j]\n",
    "a = [5,3,8,6]\n",
    "bubble_sort(a)\n",
    "print(a)"
   ]
  },
  {
   "cell_type": "code",
   "execution_count": null,
   "id": "79a82eaf",
   "metadata": {},
   "outputs": [],
   "source": [
    "# Topic: Regex\n",
    "import re\n",
    "text = 'email: test@example.com'\n",
    "print(re.findall(r'\\S+@\\S+', text))"
   ]
  },
  {
   "cell_type": "code",
   "execution_count": null,
   "id": "a5fbbd62",
   "metadata": {},
   "outputs": [],
   "source": [
    "# Topic: File I/O\n",
    "with open('test.txt', 'w') as f:\n",
    "    f.write('Hello World')"
   ]
  },
  {
   "cell_type": "code",
   "execution_count": null,
   "id": "ab62876f",
   "metadata": {},
   "outputs": [],
   "source": [
    "# Topic: OOP\n",
    "class Student:\n",
    "    def __init__(self, name): self.name = name\n",
    "s = Student('Fahd')\n",
    "print(s.name)"
   ]
  },
  {
   "cell_type": "code",
   "execution_count": null,
   "id": "b934d9a6",
   "metadata": {},
   "outputs": [],
   "source": [
    "# Topic: Basic ML\n",
    "from sklearn.linear_model import LinearRegression\n",
    "model = LinearRegression()\n",
    "print(model)"
   ]
  },
  {
   "cell_type": "code",
   "execution_count": null,
   "id": "d5976b23",
   "metadata": {},
   "outputs": [],
   "source": [
    "# Topic: Sorting Algorithms\n",
    "def bubble_sort(arr):\n",
    " for i in range(len(arr)):\n",
    "  for j in range(0, len(arr)-i-1):\n",
    "   if arr[j]>arr[j+1]: arr[j], arr[j+1]=arr[j+1], arr[j]\n",
    "a = [5,3,8,6]\n",
    "bubble_sort(a)\n",
    "print(a)"
   ]
  },
  {
   "cell_type": "code",
   "execution_count": null,
   "id": "aafeff0b",
   "metadata": {},
   "outputs": [],
   "source": [
    "# Topic: Recursion\n",
    "def fact(n): return 1 if n==0 else n*fact(n-1)\n",
    "print(fact(5))"
   ]
  },
  {
   "cell_type": "code",
   "execution_count": null,
   "id": "261cf4e3",
   "metadata": {},
   "outputs": [],
   "source": [
    "# Topic: File I/O\n",
    "with open('test.txt', 'w') as f:\n",
    "    f.write('Hello World')"
   ]
  },
  {
   "cell_type": "code",
   "execution_count": null,
   "id": "0cdaa270",
   "metadata": {},
   "outputs": [],
   "source": [
    "# Topic: Basics\n",
    "name = 'Fahd'\n",
    "print(f'Hello, {name}')"
   ]
  },
  {
   "cell_type": "code",
   "execution_count": null,
   "id": "2f719bae",
   "metadata": {},
   "outputs": [],
   "source": [
    "# Topic: OOP\n",
    "class Student:\n",
    "    def __init__(self, name): self.name = name\n",
    "s = Student('Fahd')\n",
    "print(s.name)"
   ]
  },
  {
   "cell_type": "code",
   "execution_count": null,
   "id": "a0a5cb5c",
   "metadata": {},
   "outputs": [],
   "source": [
    "# Topic: Decorators\n",
    "def log(func):\n",
    " def wrapper():\n",
    "  print('Call')\n",
    "  func()\n",
    " return wrapper\n",
    "@log\n",
    "def say(): print('Hi')\n",
    "say()"
   ]
  },
  {
   "cell_type": "code",
   "execution_count": null,
   "id": "46681be0",
   "metadata": {},
   "outputs": [],
   "source": [
    "# Topic: JSON & CSV\n",
    "import csv\n",
    "with open('file.csv', 'w', newline='') as f:\n",
    " csv.writer(f).writerow(['a','b','c'])"
   ]
  },
  {
   "cell_type": "code",
   "execution_count": null,
   "id": "7b14b9ad",
   "metadata": {},
   "outputs": [],
   "source": [
    "# Topic: Dictionaries & Sets\n",
    "s = set([1, 2, 3, 2])\n",
    "print(s)"
   ]
  },
  {
   "cell_type": "code",
   "execution_count": null,
   "id": "5d26e16c",
   "metadata": {},
   "outputs": [],
   "source": [
    "# Topic: Basic ML\n",
    "from sklearn.linear_model import LinearRegression\n",
    "model = LinearRegression()\n",
    "print(model)"
   ]
  },
  {
   "cell_type": "code",
   "execution_count": null,
   "id": "ca2497f6",
   "metadata": {},
   "outputs": [],
   "source": [
    "# Topic: Web Scraping\n",
    "import requests\n",
    "from bs4 import BeautifulSoup\n",
    "r = requests.get('https://example.com')\n",
    "soup = BeautifulSoup(r.text, 'html.parser')\n",
    "print(soup.title.text)"
   ]
  },
  {
   "cell_type": "code",
   "execution_count": null,
   "id": "33994f09",
   "metadata": {},
   "outputs": [],
   "source": [
    "# Topic: OOP\n",
    "class Student:\n",
    "    def __init__(self, name): self.name = name\n",
    "s = Student('Fahd')\n",
    "print(s.name)"
   ]
  },
  {
   "cell_type": "code",
   "execution_count": null,
   "id": "f6fb96ed",
   "metadata": {},
   "outputs": [],
   "source": [
    "# Topic: Sorting Algorithms\n",
    "def bubble_sort(arr):\n",
    " for i in range(len(arr)):\n",
    "  for j in range(0, len(arr)-i-1):\n",
    "   if arr[j]>arr[j+1]: arr[j], arr[j+1]=arr[j+1], arr[j]\n",
    "a = [5,3,8,6]\n",
    "bubble_sort(a)\n",
    "print(a)"
   ]
  },
  {
   "cell_type": "code",
   "execution_count": null,
   "id": "7e037f56",
   "metadata": {},
   "outputs": [],
   "source": [
    "# Topic: NumPy\n",
    "import numpy as np\n",
    "a = np.array([1, 2, 3])\n",
    "print(a + 5)"
   ]
  },
  {
   "cell_type": "code",
   "execution_count": null,
   "id": "459aa17b",
   "metadata": {},
   "outputs": [],
   "source": [
    "# Topic: Functions\n",
    "def square(x): return x*x\n",
    "print(square(5))"
   ]
  },
  {
   "cell_type": "code",
   "execution_count": null,
   "id": "0200bc3c",
   "metadata": {},
   "outputs": [],
   "source": [
    "# Topic: Recursion\n",
    "def fact(n): return 1 if n==0 else n*fact(n-1)\n",
    "print(fact(5))"
   ]
  },
  {
   "cell_type": "code",
   "execution_count": null,
   "id": "036f732a",
   "metadata": {},
   "outputs": [],
   "source": [
    "# Topic: Data Cleaning\n",
    "import pandas as pd\n",
    "df = pd.DataFrame({'A':[1,None,3]})\n",
    "df = df.fillna(0)\n",
    "print(df)"
   ]
  },
  {
   "cell_type": "code",
   "execution_count": null,
   "id": "57bd3444",
   "metadata": {},
   "outputs": [],
   "source": [
    "# Topic: Matplotlib & Seaborn\n",
    "import matplotlib.pyplot as plt\n",
    "plt.plot([1,2],[3,4])\n",
    "plt.show()"
   ]
  },
  {
   "cell_type": "code",
   "execution_count": null,
   "id": "c1047df1",
   "metadata": {},
   "outputs": [],
   "source": [
    "# Topic: Sorting Algorithms\n",
    "def bubble_sort(arr):\n",
    " for i in range(len(arr)):\n",
    "  for j in range(0, len(arr)-i-1):\n",
    "   if arr[j]>arr[j+1]: arr[j], arr[j+1]=arr[j+1], arr[j]\n",
    "a = [5,3,8,6]\n",
    "bubble_sort(a)\n",
    "print(a)"
   ]
  },
  {
   "cell_type": "code",
   "execution_count": null,
   "id": "55728413",
   "metadata": {},
   "outputs": [],
   "source": [
    "# Topic: Basics\n",
    "x = 10\n",
    "y = 20\n",
    "print(x + y)"
   ]
  },
  {
   "cell_type": "code",
   "execution_count": null,
   "id": "a5385b05",
   "metadata": {},
   "outputs": [],
   "source": [
    "# Topic: Web Scraping\n",
    "import requests\n",
    "from bs4 import BeautifulSoup\n",
    "r = requests.get('https://example.com')\n",
    "soup = BeautifulSoup(r.text, 'html.parser')\n",
    "print(soup.title.text)"
   ]
  },
  {
   "cell_type": "code",
   "execution_count": null,
   "id": "a44ffdd7",
   "metadata": {},
   "outputs": [],
   "source": [
    "# Topic: Data Cleaning\n",
    "import pandas as pd\n",
    "df = pd.DataFrame({'A':[1,None,3]})\n",
    "df = df.fillna(0)\n",
    "print(df)"
   ]
  },
  {
   "cell_type": "code",
   "execution_count": null,
   "id": "698abb79",
   "metadata": {},
   "outputs": [],
   "source": [
    "# Topic: Recursion\n",
    "def fact(n): return 1 if n==0 else n*fact(n-1)\n",
    "print(fact(5))"
   ]
  },
  {
   "cell_type": "code",
   "execution_count": null,
   "id": "9a18eae3",
   "metadata": {},
   "outputs": [],
   "source": [
    "# Topic: Pandas\n",
    "import pandas as pd\n",
    "df = pd.read_csv('file.csv')\n",
    "print(df.head())"
   ]
  },
  {
   "cell_type": "code",
   "execution_count": null,
   "id": "e03bb3b5",
   "metadata": {},
   "outputs": [],
   "source": [
    "# Topic: Loops\n",
    "for i in range(10): print(i*i)"
   ]
  },
  {
   "cell_type": "code",
   "execution_count": null,
   "id": "4153da9e",
   "metadata": {},
   "outputs": [],
   "source": [
    "# Topic: Data Cleaning\n",
    "import pandas as pd\n",
    "df = pd.DataFrame({'A':[1,None,3]})\n",
    "df = df.fillna(0)\n",
    "print(df)"
   ]
  },
  {
   "cell_type": "code",
   "execution_count": null,
   "id": "51197b67",
   "metadata": {},
   "outputs": [],
   "source": [
    "# Topic: Decorators\n",
    "def log(func):\n",
    " def wrapper():\n",
    "  print('Call')\n",
    "  func()\n",
    " return wrapper\n",
    "@log\n",
    "def say(): print('Hi')\n",
    "say()"
   ]
  },
  {
   "cell_type": "code",
   "execution_count": null,
   "id": "94513113",
   "metadata": {},
   "outputs": [],
   "source": [
    "# Topic: Data Cleaning\n",
    "import pandas as pd\n",
    "df = pd.DataFrame({'A':[1,None,3]})\n",
    "df = df.fillna(0)\n",
    "print(df)"
   ]
  },
  {
   "cell_type": "code",
   "execution_count": null,
   "id": "8185e85a",
   "metadata": {},
   "outputs": [],
   "source": [
    "# Topic: Mini Projects\n",
    "# Calculator\n",
    "def calc(a,b,op): return eval(f'{a}{op}{b}')\n",
    "print(calc(5,2,'+'))"
   ]
  },
  {
   "cell_type": "code",
   "execution_count": null,
   "id": "3e71371f",
   "metadata": {},
   "outputs": [],
   "source": [
    "# Topic: Regex\n",
    "import re\n",
    "text = 'email: test@example.com'\n",
    "print(re.findall(r'\\S+@\\S+', text))"
   ]
  },
  {
   "cell_type": "code",
   "execution_count": null,
   "id": "09cb4588",
   "metadata": {},
   "outputs": [],
   "source": [
    "# Topic: Basics\n",
    "x = 10\n",
    "y = 20\n",
    "print(x + y)"
   ]
  },
  {
   "cell_type": "code",
   "execution_count": null,
   "id": "76cfa15b",
   "metadata": {},
   "outputs": [],
   "source": [
    "# Topic: Mini Projects\n",
    "# Palindrome check\n",
    "def is_pal(s): return s == s[::-1]\n",
    "print(is_pal('madam'))"
   ]
  },
  {
   "cell_type": "code",
   "execution_count": null,
   "id": "1b0532ec",
   "metadata": {},
   "outputs": [],
   "source": [
    "# Topic: Recursion\n",
    "def fact(n): return 1 if n==0 else n*fact(n-1)\n",
    "print(fact(5))"
   ]
  },
  {
   "cell_type": "code",
   "execution_count": null,
   "id": "62f253d8",
   "metadata": {},
   "outputs": [],
   "source": [
    "# Topic: Sorting Algorithms\n",
    "def bubble_sort(arr):\n",
    " for i in range(len(arr)):\n",
    "  for j in range(0, len(arr)-i-1):\n",
    "   if arr[j]>arr[j+1]: arr[j], arr[j+1]=arr[j+1], arr[j]\n",
    "a = [5,3,8,6]\n",
    "bubble_sort(a)\n",
    "print(a)"
   ]
  }
 ],
 "metadata": {},
 "nbformat": 4,
 "nbformat_minor": 5
}
