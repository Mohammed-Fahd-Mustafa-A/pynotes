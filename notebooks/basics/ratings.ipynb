{
 "cells": [
  {
   "cell_type": "code",
   "execution_count": 1,
   "id": "03834c7c-2a25-48cd-ad93-a70bd771fefb",
   "metadata": {},
   "outputs": [],
   "source": [
    "# 1. Import required libraries\n",
    "import pandas as pd\n",
    "import numpy as np\n",
    "import matplotlib.pyplot as plt\n"
   ]
  },
  {
   "cell_type": "code",
   "execution_count": 2,
   "id": "44244127-94d7-42a9-984d-1d734426df42",
   "metadata": {},
   "outputs": [],
   "source": [
    "# 2. Create a sample movie dataset\n",
    "data = {\n",
    "    \"title\": [\"Inception\", \"Titanic\", \"Avengers\", \"Shrek\", \"Up\", \"Coco\", \"Joker\", \"Frozen\", \"Toy Story\", \"Tenet\"],\n",
    "    \"genre\": [\"Sci-Fi\", \"Romance\", \"Action\", \"Animation\", \"Animation\", \"Animation\", \"Drama\", \"Animation\", \"Animation\", \"Sci-Fi\"],\n",
    "    \"year\": [2010, 1997, 2012, 2001, 2009, 2017, 2019, 2013, 1995, 2020],\n",
    "    \"rating\": [8.8, 7.8, 8.1, 7.9, 8.3, 8.4, 8.5, 7.5, 8.3, 7.4],\n",
    "    \"votes\": [2000000, 1100000, 1800000, 600000, 800000, 500000, 1000000, 700000, 900000, 400000]\n",
    "}\n"
   ]
  },
  {
   "cell_type": "code",
   "execution_count": 3,
   "id": "faa93660-631f-4d7a-b0d1-81480a63d714",
   "metadata": {},
   "outputs": [
    {
     "data": {
      "text/html": [
       "<div>\n",
       "<style scoped>\n",
       "    .dataframe tbody tr th:only-of-type {\n",
       "        vertical-align: middle;\n",
       "    }\n",
       "\n",
       "    .dataframe tbody tr th {\n",
       "        vertical-align: top;\n",
       "    }\n",
       "\n",
       "    .dataframe thead th {\n",
       "        text-align: right;\n",
       "    }\n",
       "</style>\n",
       "<table border=\"1\" class=\"dataframe\">\n",
       "  <thead>\n",
       "    <tr style=\"text-align: right;\">\n",
       "      <th></th>\n",
       "      <th>title</th>\n",
       "      <th>genre</th>\n",
       "      <th>year</th>\n",
       "      <th>rating</th>\n",
       "      <th>votes</th>\n",
       "    </tr>\n",
       "  </thead>\n",
       "  <tbody>\n",
       "    <tr>\n",
       "      <th>0</th>\n",
       "      <td>Inception</td>\n",
       "      <td>Sci-Fi</td>\n",
       "      <td>2010</td>\n",
       "      <td>8.8</td>\n",
       "      <td>2000000</td>\n",
       "    </tr>\n",
       "    <tr>\n",
       "      <th>1</th>\n",
       "      <td>Titanic</td>\n",
       "      <td>Romance</td>\n",
       "      <td>1997</td>\n",
       "      <td>7.8</td>\n",
       "      <td>1100000</td>\n",
       "    </tr>\n",
       "    <tr>\n",
       "      <th>2</th>\n",
       "      <td>Avengers</td>\n",
       "      <td>Action</td>\n",
       "      <td>2012</td>\n",
       "      <td>8.1</td>\n",
       "      <td>1800000</td>\n",
       "    </tr>\n",
       "    <tr>\n",
       "      <th>3</th>\n",
       "      <td>Shrek</td>\n",
       "      <td>Animation</td>\n",
       "      <td>2001</td>\n",
       "      <td>7.9</td>\n",
       "      <td>600000</td>\n",
       "    </tr>\n",
       "    <tr>\n",
       "      <th>4</th>\n",
       "      <td>Up</td>\n",
       "      <td>Animation</td>\n",
       "      <td>2009</td>\n",
       "      <td>8.3</td>\n",
       "      <td>800000</td>\n",
       "    </tr>\n",
       "    <tr>\n",
       "      <th>5</th>\n",
       "      <td>Coco</td>\n",
       "      <td>Animation</td>\n",
       "      <td>2017</td>\n",
       "      <td>8.4</td>\n",
       "      <td>500000</td>\n",
       "    </tr>\n",
       "    <tr>\n",
       "      <th>6</th>\n",
       "      <td>Joker</td>\n",
       "      <td>Drama</td>\n",
       "      <td>2019</td>\n",
       "      <td>8.5</td>\n",
       "      <td>1000000</td>\n",
       "    </tr>\n",
       "    <tr>\n",
       "      <th>7</th>\n",
       "      <td>Frozen</td>\n",
       "      <td>Animation</td>\n",
       "      <td>2013</td>\n",
       "      <td>7.5</td>\n",
       "      <td>700000</td>\n",
       "    </tr>\n",
       "    <tr>\n",
       "      <th>8</th>\n",
       "      <td>Toy Story</td>\n",
       "      <td>Animation</td>\n",
       "      <td>1995</td>\n",
       "      <td>8.3</td>\n",
       "      <td>900000</td>\n",
       "    </tr>\n",
       "    <tr>\n",
       "      <th>9</th>\n",
       "      <td>Tenet</td>\n",
       "      <td>Sci-Fi</td>\n",
       "      <td>2020</td>\n",
       "      <td>7.4</td>\n",
       "      <td>400000</td>\n",
       "    </tr>\n",
       "  </tbody>\n",
       "</table>\n",
       "</div>"
      ],
      "text/plain": [
       "       title      genre  year  rating    votes\n",
       "0  Inception     Sci-Fi  2010     8.8  2000000\n",
       "1    Titanic    Romance  1997     7.8  1100000\n",
       "2   Avengers     Action  2012     8.1  1800000\n",
       "3      Shrek  Animation  2001     7.9   600000\n",
       "4         Up  Animation  2009     8.3   800000\n",
       "5       Coco  Animation  2017     8.4   500000\n",
       "6      Joker      Drama  2019     8.5  1000000\n",
       "7     Frozen  Animation  2013     7.5   700000\n",
       "8  Toy Story  Animation  1995     8.3   900000\n",
       "9      Tenet     Sci-Fi  2020     7.4   400000"
      ]
     },
     "execution_count": 3,
     "metadata": {},
     "output_type": "execute_result"
    }
   ],
   "source": [
    "# 3. Convert to DataFrame\n",
    "df = pd.DataFrame(data)\n",
    "df\n"
   ]
  },
  {
   "cell_type": "code",
   "execution_count": 4,
   "id": "8b3ec1b0-9d23-4306-afdb-0e086842593e",
   "metadata": {},
   "outputs": [
    {
     "name": "stdout",
     "output_type": "stream",
     "text": [
      "<class 'pandas.core.frame.DataFrame'>\n",
      "RangeIndex: 10 entries, 0 to 9\n",
      "Data columns (total 5 columns):\n",
      " #   Column  Non-Null Count  Dtype  \n",
      "---  ------  --------------  -----  \n",
      " 0   title   10 non-null     object \n",
      " 1   genre   10 non-null     object \n",
      " 2   year    10 non-null     int64  \n",
      " 3   rating  10 non-null     float64\n",
      " 4   votes   10 non-null     int64  \n",
      "dtypes: float64(1), int64(2), object(2)\n",
      "memory usage: 532.0+ bytes\n"
     ]
    }
   ],
   "source": [
    "# 4. Check data types and info\n",
    "df.info()\n"
   ]
  },
  {
   "cell_type": "code",
   "execution_count": 5,
   "id": "bb3e5967-f3f2-4834-a060-926d1654c0b8",
   "metadata": {},
   "outputs": [
    {
     "data": {
      "text/html": [
       "<div>\n",
       "<style scoped>\n",
       "    .dataframe tbody tr th:only-of-type {\n",
       "        vertical-align: middle;\n",
       "    }\n",
       "\n",
       "    .dataframe tbody tr th {\n",
       "        vertical-align: top;\n",
       "    }\n",
       "\n",
       "    .dataframe thead th {\n",
       "        text-align: right;\n",
       "    }\n",
       "</style>\n",
       "<table border=\"1\" class=\"dataframe\">\n",
       "  <thead>\n",
       "    <tr style=\"text-align: right;\">\n",
       "      <th></th>\n",
       "      <th>year</th>\n",
       "      <th>rating</th>\n",
       "      <th>votes</th>\n",
       "    </tr>\n",
       "  </thead>\n",
       "  <tbody>\n",
       "    <tr>\n",
       "      <th>count</th>\n",
       "      <td>10.00000</td>\n",
       "      <td>10.000000</td>\n",
       "      <td>1.000000e+01</td>\n",
       "    </tr>\n",
       "    <tr>\n",
       "      <th>mean</th>\n",
       "      <td>2009.30000</td>\n",
       "      <td>8.100000</td>\n",
       "      <td>9.800000e+05</td>\n",
       "    </tr>\n",
       "    <tr>\n",
       "      <th>std</th>\n",
       "      <td>8.90755</td>\n",
       "      <td>0.447214</td>\n",
       "      <td>5.329165e+05</td>\n",
       "    </tr>\n",
       "    <tr>\n",
       "      <th>min</th>\n",
       "      <td>1995.00000</td>\n",
       "      <td>7.400000</td>\n",
       "      <td>4.000000e+05</td>\n",
       "    </tr>\n",
       "    <tr>\n",
       "      <th>25%</th>\n",
       "      <td>2003.00000</td>\n",
       "      <td>7.825000</td>\n",
       "      <td>6.250000e+05</td>\n",
       "    </tr>\n",
       "    <tr>\n",
       "      <th>50%</th>\n",
       "      <td>2011.00000</td>\n",
       "      <td>8.200000</td>\n",
       "      <td>8.500000e+05</td>\n",
       "    </tr>\n",
       "    <tr>\n",
       "      <th>75%</th>\n",
       "      <td>2016.00000</td>\n",
       "      <td>8.375000</td>\n",
       "      <td>1.075000e+06</td>\n",
       "    </tr>\n",
       "    <tr>\n",
       "      <th>max</th>\n",
       "      <td>2020.00000</td>\n",
       "      <td>8.800000</td>\n",
       "      <td>2.000000e+06</td>\n",
       "    </tr>\n",
       "  </tbody>\n",
       "</table>\n",
       "</div>"
      ],
      "text/plain": [
       "             year     rating         votes\n",
       "count    10.00000  10.000000  1.000000e+01\n",
       "mean   2009.30000   8.100000  9.800000e+05\n",
       "std       8.90755   0.447214  5.329165e+05\n",
       "min    1995.00000   7.400000  4.000000e+05\n",
       "25%    2003.00000   7.825000  6.250000e+05\n",
       "50%    2011.00000   8.200000  8.500000e+05\n",
       "75%    2016.00000   8.375000  1.075000e+06\n",
       "max    2020.00000   8.800000  2.000000e+06"
      ]
     },
     "execution_count": 5,
     "metadata": {},
     "output_type": "execute_result"
    }
   ],
   "source": [
    "# 5. Basic statistics\n",
    "df.describe()\n"
   ]
  },
  {
   "cell_type": "code",
   "execution_count": 6,
   "id": "b0368ab2-70cc-43d1-83ac-e5b39d63cb95",
   "metadata": {},
   "outputs": [],
   "source": [
    "# 6. Add a column for rating category\n",
    "def rate_group(r):\n",
    "    if r >= 8.5:\n",
    "        return \"Excellent\"\n",
    "    elif r >= 8.0:\n",
    "        return \"Good\"\n",
    "    elif r >= 7.5:\n",
    "        return \"Average\"\n",
    "    else:\n",
    "        return \"Below Average\"\n",
    "\n",
    "df[\"rating_group\"] = df[\"rating\"].apply(rate_group)\n"
   ]
  },
  {
   "cell_type": "code",
   "execution_count": 7,
   "id": "39244ab8-874f-45c9-bc57-8ec7cb49cd67",
   "metadata": {},
   "outputs": [
    {
     "data": {
      "text/plain": [
       "rating_group\n",
       "Good             4\n",
       "Average          3\n",
       "Excellent        2\n",
       "Below Average    1\n",
       "Name: count, dtype: int64"
      ]
     },
     "execution_count": 7,
     "metadata": {},
     "output_type": "execute_result"
    }
   ],
   "source": [
    "# 7. Count of each rating group\n",
    "df[\"rating_group\"].value_counts()\n"
   ]
  },
  {
   "cell_type": "code",
   "execution_count": 8,
   "id": "5f6af519-7d52-4b35-8c49-7c3140225e3c",
   "metadata": {},
   "outputs": [
    {
     "data": {
      "text/plain": [
       "genre\n",
       "Animation    5\n",
       "Sci-Fi       2\n",
       "Romance      1\n",
       "Action       1\n",
       "Drama        1\n",
       "Name: count, dtype: int64"
      ]
     },
     "execution_count": 8,
     "metadata": {},
     "output_type": "execute_result"
    }
   ],
   "source": [
    "# 8. Count of each genre\n",
    "df[\"genre\"].value_counts()\n"
   ]
  },
  {
   "cell_type": "code",
   "execution_count": 9,
   "id": "e63799be-354d-45ff-b608-1d55db3bb894",
   "metadata": {},
   "outputs": [
    {
     "data": {
      "text/html": [
       "<div>\n",
       "<style scoped>\n",
       "    .dataframe tbody tr th:only-of-type {\n",
       "        vertical-align: middle;\n",
       "    }\n",
       "\n",
       "    .dataframe tbody tr th {\n",
       "        vertical-align: top;\n",
       "    }\n",
       "\n",
       "    .dataframe thead th {\n",
       "        text-align: right;\n",
       "    }\n",
       "</style>\n",
       "<table border=\"1\" class=\"dataframe\">\n",
       "  <thead>\n",
       "    <tr style=\"text-align: right;\">\n",
       "      <th></th>\n",
       "      <th>title</th>\n",
       "      <th>genre</th>\n",
       "      <th>year</th>\n",
       "      <th>rating</th>\n",
       "      <th>votes</th>\n",
       "      <th>rating_group</th>\n",
       "    </tr>\n",
       "  </thead>\n",
       "  <tbody>\n",
       "    <tr>\n",
       "      <th>0</th>\n",
       "      <td>Inception</td>\n",
       "      <td>Sci-Fi</td>\n",
       "      <td>2010</td>\n",
       "      <td>8.8</td>\n",
       "      <td>2000000</td>\n",
       "      <td>Excellent</td>\n",
       "    </tr>\n",
       "  </tbody>\n",
       "</table>\n",
       "</div>"
      ],
      "text/plain": [
       "       title   genre  year  rating    votes rating_group\n",
       "0  Inception  Sci-Fi  2010     8.8  2000000    Excellent"
      ]
     },
     "execution_count": 9,
     "metadata": {},
     "output_type": "execute_result"
    }
   ],
   "source": [
    "# 9. Top rated movie\n",
    "df[df[\"rating\"] == df[\"rating\"].max()]\n"
   ]
  },
  {
   "cell_type": "code",
   "execution_count": 10,
   "id": "8d468da7-edea-43eb-b76b-fdb5ed3f801f",
   "metadata": {},
   "outputs": [
    {
     "data": {
      "text/html": [
       "<div>\n",
       "<style scoped>\n",
       "    .dataframe tbody tr th:only-of-type {\n",
       "        vertical-align: middle;\n",
       "    }\n",
       "\n",
       "    .dataframe tbody tr th {\n",
       "        vertical-align: top;\n",
       "    }\n",
       "\n",
       "    .dataframe thead th {\n",
       "        text-align: right;\n",
       "    }\n",
       "</style>\n",
       "<table border=\"1\" class=\"dataframe\">\n",
       "  <thead>\n",
       "    <tr style=\"text-align: right;\">\n",
       "      <th></th>\n",
       "      <th>title</th>\n",
       "      <th>genre</th>\n",
       "      <th>year</th>\n",
       "      <th>rating</th>\n",
       "      <th>votes</th>\n",
       "      <th>rating_group</th>\n",
       "    </tr>\n",
       "  </thead>\n",
       "  <tbody>\n",
       "    <tr>\n",
       "      <th>9</th>\n",
       "      <td>Tenet</td>\n",
       "      <td>Sci-Fi</td>\n",
       "      <td>2020</td>\n",
       "      <td>7.4</td>\n",
       "      <td>400000</td>\n",
       "      <td>Below Average</td>\n",
       "    </tr>\n",
       "  </tbody>\n",
       "</table>\n",
       "</div>"
      ],
      "text/plain": [
       "   title   genre  year  rating   votes   rating_group\n",
       "9  Tenet  Sci-Fi  2020     7.4  400000  Below Average"
      ]
     },
     "execution_count": 10,
     "metadata": {},
     "output_type": "execute_result"
    }
   ],
   "source": [
    "# 10. Lowest rated movie\n",
    "df[df[\"rating\"] == df[\"rating\"].min()]\n"
   ]
  },
  {
   "cell_type": "code",
   "execution_count": 11,
   "id": "e675a7a1-8cf3-456c-9ef5-1fd5a7dc7e50",
   "metadata": {},
   "outputs": [
    {
     "data": {
      "text/html": [
       "<div>\n",
       "<style scoped>\n",
       "    .dataframe tbody tr th:only-of-type {\n",
       "        vertical-align: middle;\n",
       "    }\n",
       "\n",
       "    .dataframe tbody tr th {\n",
       "        vertical-align: top;\n",
       "    }\n",
       "\n",
       "    .dataframe thead th {\n",
       "        text-align: right;\n",
       "    }\n",
       "</style>\n",
       "<table border=\"1\" class=\"dataframe\">\n",
       "  <thead>\n",
       "    <tr style=\"text-align: right;\">\n",
       "      <th></th>\n",
       "      <th>title</th>\n",
       "      <th>genre</th>\n",
       "      <th>year</th>\n",
       "      <th>rating</th>\n",
       "      <th>votes</th>\n",
       "      <th>rating_group</th>\n",
       "    </tr>\n",
       "  </thead>\n",
       "  <tbody>\n",
       "    <tr>\n",
       "      <th>3</th>\n",
       "      <td>Shrek</td>\n",
       "      <td>Animation</td>\n",
       "      <td>2001</td>\n",
       "      <td>7.9</td>\n",
       "      <td>600000</td>\n",
       "      <td>Average</td>\n",
       "    </tr>\n",
       "    <tr>\n",
       "      <th>4</th>\n",
       "      <td>Up</td>\n",
       "      <td>Animation</td>\n",
       "      <td>2009</td>\n",
       "      <td>8.3</td>\n",
       "      <td>800000</td>\n",
       "      <td>Good</td>\n",
       "    </tr>\n",
       "    <tr>\n",
       "      <th>5</th>\n",
       "      <td>Coco</td>\n",
       "      <td>Animation</td>\n",
       "      <td>2017</td>\n",
       "      <td>8.4</td>\n",
       "      <td>500000</td>\n",
       "      <td>Good</td>\n",
       "    </tr>\n",
       "    <tr>\n",
       "      <th>7</th>\n",
       "      <td>Frozen</td>\n",
       "      <td>Animation</td>\n",
       "      <td>2013</td>\n",
       "      <td>7.5</td>\n",
       "      <td>700000</td>\n",
       "      <td>Average</td>\n",
       "    </tr>\n",
       "    <tr>\n",
       "      <th>8</th>\n",
       "      <td>Toy Story</td>\n",
       "      <td>Animation</td>\n",
       "      <td>1995</td>\n",
       "      <td>8.3</td>\n",
       "      <td>900000</td>\n",
       "      <td>Good</td>\n",
       "    </tr>\n",
       "  </tbody>\n",
       "</table>\n",
       "</div>"
      ],
      "text/plain": [
       "       title      genre  year  rating   votes rating_group\n",
       "3      Shrek  Animation  2001     7.9  600000      Average\n",
       "4         Up  Animation  2009     8.3  800000         Good\n",
       "5       Coco  Animation  2017     8.4  500000         Good\n",
       "7     Frozen  Animation  2013     7.5  700000      Average\n",
       "8  Toy Story  Animation  1995     8.3  900000         Good"
      ]
     },
     "execution_count": 11,
     "metadata": {},
     "output_type": "execute_result"
    }
   ],
   "source": [
    "# 11. Filter animation movies\n",
    "df[df[\"genre\"] == \"Animation\"]\n"
   ]
  },
  {
   "cell_type": "code",
   "execution_count": 12,
   "id": "6c36cf0e-a332-414d-9483-fc189333014e",
   "metadata": {},
   "outputs": [
    {
     "data": {
      "text/html": [
       "<div>\n",
       "<style scoped>\n",
       "    .dataframe tbody tr th:only-of-type {\n",
       "        vertical-align: middle;\n",
       "    }\n",
       "\n",
       "    .dataframe tbody tr th {\n",
       "        vertical-align: top;\n",
       "    }\n",
       "\n",
       "    .dataframe thead th {\n",
       "        text-align: right;\n",
       "    }\n",
       "</style>\n",
       "<table border=\"1\" class=\"dataframe\">\n",
       "  <thead>\n",
       "    <tr style=\"text-align: right;\">\n",
       "      <th></th>\n",
       "      <th>title</th>\n",
       "      <th>genre</th>\n",
       "      <th>year</th>\n",
       "      <th>rating</th>\n",
       "      <th>votes</th>\n",
       "      <th>rating_group</th>\n",
       "    </tr>\n",
       "  </thead>\n",
       "  <tbody>\n",
       "    <tr>\n",
       "      <th>2</th>\n",
       "      <td>Avengers</td>\n",
       "      <td>Action</td>\n",
       "      <td>2012</td>\n",
       "      <td>8.1</td>\n",
       "      <td>1800000</td>\n",
       "      <td>Good</td>\n",
       "    </tr>\n",
       "    <tr>\n",
       "      <th>5</th>\n",
       "      <td>Coco</td>\n",
       "      <td>Animation</td>\n",
       "      <td>2017</td>\n",
       "      <td>8.4</td>\n",
       "      <td>500000</td>\n",
       "      <td>Good</td>\n",
       "    </tr>\n",
       "    <tr>\n",
       "      <th>6</th>\n",
       "      <td>Joker</td>\n",
       "      <td>Drama</td>\n",
       "      <td>2019</td>\n",
       "      <td>8.5</td>\n",
       "      <td>1000000</td>\n",
       "      <td>Excellent</td>\n",
       "    </tr>\n",
       "    <tr>\n",
       "      <th>7</th>\n",
       "      <td>Frozen</td>\n",
       "      <td>Animation</td>\n",
       "      <td>2013</td>\n",
       "      <td>7.5</td>\n",
       "      <td>700000</td>\n",
       "      <td>Average</td>\n",
       "    </tr>\n",
       "    <tr>\n",
       "      <th>9</th>\n",
       "      <td>Tenet</td>\n",
       "      <td>Sci-Fi</td>\n",
       "      <td>2020</td>\n",
       "      <td>7.4</td>\n",
       "      <td>400000</td>\n",
       "      <td>Below Average</td>\n",
       "    </tr>\n",
       "  </tbody>\n",
       "</table>\n",
       "</div>"
      ],
      "text/plain": [
       "      title      genre  year  rating    votes   rating_group\n",
       "2  Avengers     Action  2012     8.1  1800000           Good\n",
       "5      Coco  Animation  2017     8.4   500000           Good\n",
       "6     Joker      Drama  2019     8.5  1000000      Excellent\n",
       "7    Frozen  Animation  2013     7.5   700000        Average\n",
       "9     Tenet     Sci-Fi  2020     7.4   400000  Below Average"
      ]
     },
     "execution_count": 12,
     "metadata": {},
     "output_type": "execute_result"
    }
   ],
   "source": [
    "# 12. Movies released after 2010\n",
    "df[df[\"year\"] > 2010]\n"
   ]
  },
  {
   "cell_type": "code",
   "execution_count": 13,
   "id": "d963e936-4d5b-4a39-96bf-0a28e061b7c4",
   "metadata": {},
   "outputs": [
    {
     "data": {
      "text/plain": [
       "genre\n",
       "Action       8.10\n",
       "Animation    8.08\n",
       "Drama        8.50\n",
       "Romance      7.80\n",
       "Sci-Fi       8.10\n",
       "Name: rating, dtype: float64"
      ]
     },
     "execution_count": 13,
     "metadata": {},
     "output_type": "execute_result"
    }
   ],
   "source": [
    "# 13. Group by genre and average rating\n",
    "df.groupby(\"genre\")[\"rating\"].mean()\n"
   ]
  },
  {
   "cell_type": "code",
   "execution_count": 14,
   "id": "f8f69951-19c2-4095-ab22-8f5fe8d0a16e",
   "metadata": {},
   "outputs": [
    {
     "data": {
      "image/png": "[encoded data removed]",
      "text/plain": [
       "<Figure size 800x400 with 1 Axes>"
      ]
     },
     "metadata": {},
     "output_type": "display_data"
    }
   ],
   "source": [
    "# 14. Visualization: Rating Distribution\n",
    "plt.figure(figsize=(8, 4))\n",
    "plt.hist(df[\"rating\"], bins=5, color=\"skyblue\", edgecolor=\"black\")\n",
    "plt.title(\"Rating Distribution\")\n",
    "plt.xlabel(\"Rating\")\n",
    "plt.ylabel(\"Number of Movies\")\n",
    "plt.grid(True)\n",
    "plt.show()\n"
   ]
  },
  {
   "cell_type": "code",
   "execution_count": 15,
   "id": "68f726f2-095d-489d-9ebf-f0c470dbaeb6",
   "metadata": {},
   "outputs": [
    {
     "data": {
      "image/png": "[encoded data removed]",
      "text/plain": [
       "<Figure size 1000x500 with 1 Axes>"
      ]
     },
     "metadata": {},
     "output_type": "display_data"
    }
   ],
   "source": [
    "# 15. Bar chart: Votes per movie\n",
    "plt.figure(figsize=(10, 5))\n",
    "plt.bar(df[\"title\"], df[\"votes\"], color=\"orange\")\n",
    "plt.xticks(rotation=45)\n",
    "plt.title(\"Votes per Movie\")\n",
    "plt.ylabel(\"Number of Votes\")\n",
    "plt.tight_layout()\n",
    "plt.show()\n"
   ]
  },
  {
   "cell_type": "code",
   "execution_count": 16,
   "id": "ae419cc3-ae54-455e-a9e8-653949510339",
   "metadata": {},
   "outputs": [
    {
     "data": {
      "image/png": "[encoded data removed]",
      "text/plain": [
       "<Figure size 800x500 with 1 Axes>"
      ]
     },
     "metadata": {},
     "output_type": "display_data"
    }
   ],
   "source": [
    "# 16. Scatter plot: Ratings vs Votes\n",
    "plt.figure(figsize=(8, 5))\n",
    "plt.scatter(df[\"rating\"], df[\"votes\"], color=\"green\")\n",
    "plt.title(\"Ratings vs Votes\")\n",
    "plt.xlabel(\"Rating\")\n",
    "plt.ylabel(\"Votes\")\n",
    "plt.grid(True)\n",
    "plt.show()\n"
   ]
  },
  {
   "cell_type": "code",
   "execution_count": null,
   "id": "71931a2c-52a6-4b4d-bdf4-f64464ed112c",
   "metadata": {},
   "outputs": [],
   "source": []
  }
 ],
 "metadata": {
  "kernelspec": {
   "display_name": "Python 3 (ipykernel)",
   "language": "python",
   "name": "python3"
  },
  "language_info": {
   "codemirror_mode": {
    "name": "ipython",
    "version": 3
   },
   "file_extension": ".py",
   "mimetype": "text/x-python",
   "name": "python",
   "nbconvert_exporter": "python",
   "pygments_lexer": "ipython3",
   "version": "3.12.11"
  }
 },
 "nbformat": 4,
 "nbformat_minor": 5
}
