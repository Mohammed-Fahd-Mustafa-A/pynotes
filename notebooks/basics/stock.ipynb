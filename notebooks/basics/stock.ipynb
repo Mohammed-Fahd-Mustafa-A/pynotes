{
 "cells": [
  {
   "cell_type": "code",
   "execution_count": 3,
   "id": "b139028c-99ec-49c5-8392-6b64f4d404d9",
   "metadata": {},
   "outputs": [],
   "source": [
    "# Block 1: Install required packages (if not already installed)\n",
    "!pip install yfinance matplotlib --quiet\n"
   ]
  },
  {
   "cell_type": "code",
   "execution_count": 4,
   "id": "dbf562f4-487f-4649-a630-2dff07842216",
   "metadata": {},
   "outputs": [],
   "source": [
    "# Block 2: Import necessary libraries\n",
    "import yfinance as yf\n",
    "import matplotlib.pyplot as plt\n",
    "import pandas as pd\n"
   ]
  },
  {
   "cell_type": "code",
   "execution_count": 5,
   "id": "397c8f25-84a1-4e60-a8bb-01c9fa3f39e7",
   "metadata": {},
   "outputs": [],
   "source": [
    "# Block 3: Set display options for better visualization\n",
    "pd.set_option(\"display.max_rows\", 10)\n",
    "pd.set_option(\"display.float_format\", \"{:.2f}\".format)\n"
   ]
  },
  {
   "cell_type": "code",
   "execution_count": 6,
   "id": "7b5920a7-38a6-42ef-b3fa-9c07291b24d8",
   "metadata": {},
   "outputs": [
    {
     "data": {
      "text/html": [
       "<div>\n",
       "<style scoped>\n",
       "    .dataframe tbody tr th:only-of-type {\n",
       "        vertical-align: middle;\n",
       "    }\n",
       "\n",
       "    .dataframe tbody tr th {\n",
       "        vertical-align: top;\n",
       "    }\n",
       "\n",
       "    .dataframe thead th {\n",
       "        text-align: right;\n",
       "    }\n",
       "</style>\n",
       "<table border=\"1\" class=\"dataframe\">\n",
       "  <thead>\n",
       "    <tr style=\"text-align: right;\">\n",
       "      <th></th>\n",
       "      <th>Open</th>\n",
       "      <th>High</th>\n",
       "      <th>Low</th>\n",
       "      <th>Close</th>\n",
       "      <th>Volume</th>\n",
       "      <th>Dividends</th>\n",
       "      <th>Stock Splits</th>\n",
       "    </tr>\n",
       "    <tr>\n",
       "      <th>Date</th>\n",
       "      <th></th>\n",
       "      <th></th>\n",
       "      <th></th>\n",
       "      <th></th>\n",
       "      <th></th>\n",
       "      <th></th>\n",
       "      <th></th>\n",
       "    </tr>\n",
       "  </thead>\n",
       "  <tbody>\n",
       "    <tr>\n",
       "      <th>2024-06-28 00:00:00-04:00</th>\n",
       "      <td>214.77</td>\n",
       "      <td>215.06</td>\n",
       "      <td>209.32</td>\n",
       "      <td>209.64</td>\n",
       "      <td>82542700</td>\n",
       "      <td>0.00</td>\n",
       "      <td>0.00</td>\n",
       "    </tr>\n",
       "    <tr>\n",
       "      <th>2024-07-01 00:00:00-04:00</th>\n",
       "      <td>211.10</td>\n",
       "      <td>216.50</td>\n",
       "      <td>210.93</td>\n",
       "      <td>215.74</td>\n",
       "      <td>60402900</td>\n",
       "      <td>0.00</td>\n",
       "      <td>0.00</td>\n",
       "    </tr>\n",
       "    <tr>\n",
       "      <th>2024-07-02 00:00:00-04:00</th>\n",
       "      <td>215.14</td>\n",
       "      <td>219.35</td>\n",
       "      <td>214.10</td>\n",
       "      <td>219.24</td>\n",
       "      <td>58046200</td>\n",
       "      <td>0.00</td>\n",
       "      <td>0.00</td>\n",
       "    </tr>\n",
       "    <tr>\n",
       "      <th>2024-07-03 00:00:00-04:00</th>\n",
       "      <td>218.98</td>\n",
       "      <td>220.52</td>\n",
       "      <td>218.01</td>\n",
       "      <td>220.52</td>\n",
       "      <td>37369800</td>\n",
       "      <td>0.00</td>\n",
       "      <td>0.00</td>\n",
       "    </tr>\n",
       "    <tr>\n",
       "      <th>2024-07-05 00:00:00-04:00</th>\n",
       "      <td>220.62</td>\n",
       "      <td>225.40</td>\n",
       "      <td>220.62</td>\n",
       "      <td>225.29</td>\n",
       "      <td>60412400</td>\n",
       "      <td>0.00</td>\n",
       "      <td>0.00</td>\n",
       "    </tr>\n",
       "  </tbody>\n",
       "</table>\n",
       "</div>"
      ],
      "text/plain": [
       "                            Open   High    Low  Close    Volume  Dividends  \\\n",
       "Date                                                                         \n",
       "2024-06-28 00:00:00-04:00 214.77 215.06 209.32 209.64  82542700       0.00   \n",
       "2024-07-01 00:00:00-04:00 211.10 216.50 210.93 215.74  60402900       0.00   \n",
       "2024-07-02 00:00:00-04:00 215.14 219.35 214.10 219.24  58046200       0.00   \n",
       "2024-07-03 00:00:00-04:00 218.98 220.52 218.01 220.52  37369800       0.00   \n",
       "2024-07-05 00:00:00-04:00 220.62 225.40 220.62 225.29  60412400       0.00   \n",
       "\n",
       "                           Stock Splits  \n",
       "Date                                     \n",
       "2024-06-28 00:00:00-04:00          0.00  \n",
       "2024-07-01 00:00:00-04:00          0.00  \n",
       "2024-07-02 00:00:00-04:00          0.00  \n",
       "2024-07-03 00:00:00-04:00          0.00  \n",
       "2024-07-05 00:00:00-04:00          0.00  "
      ]
     },
     "execution_count": 6,
     "metadata": {},
     "output_type": "execute_result"
    }
   ],
   "source": [
    "# Block 4: Download historical stock data for Apple (AAPL)\n",
    "stock = yf.Ticker(\"AAPL\")\n",
    "df = stock.history(period=\"1y\")\n",
    "df.head()\n"
   ]
  },
  {
   "cell_type": "code",
   "execution_count": 7,
   "id": "3ae142f2-0d9b-4b49-b3f2-26b3aee89f46",
   "metadata": {},
   "outputs": [
    {
     "name": "stdout",
     "output_type": "stream",
     "text": [
      "Company Info:\n"
     ]
    },
    {
     "data": {
      "text/plain": [
       "'Apple Inc. designs, manufactures, and markets smartphones, personal computers, tablets, wearables, and accessories worldwide. The company offers iPhone, a line of smartphones; Mac, a line of personal computers; iPad, a line of multi-purpose tablets; and wearables, home, and accessories comprising Ai...'"
      ]
     },
     "execution_count": 7,
     "metadata": {},
     "output_type": "execute_result"
    }
   ],
   "source": [
    "# Block 5: Basic Information\n",
    "print(\"Company Info:\")\n",
    "stock.info['longBusinessSummary'][:300] + \"...\"\n"
   ]
  },
  {
   "cell_type": "code",
   "execution_count": 8,
   "id": "dc674710-d85a-441c-acee-ea682f81cb21",
   "metadata": {},
   "outputs": [
    {
     "data": {
      "text/html": [
       "<div>\n",
       "<style scoped>\n",
       "    .dataframe tbody tr th:only-of-type {\n",
       "        vertical-align: middle;\n",
       "    }\n",
       "\n",
       "    .dataframe tbody tr th {\n",
       "        vertical-align: top;\n",
       "    }\n",
       "\n",
       "    .dataframe thead th {\n",
       "        text-align: right;\n",
       "    }\n",
       "</style>\n",
       "<table border=\"1\" class=\"dataframe\">\n",
       "  <thead>\n",
       "    <tr style=\"text-align: right;\">\n",
       "      <th></th>\n",
       "      <th>Open</th>\n",
       "      <th>High</th>\n",
       "      <th>Low</th>\n",
       "      <th>Close</th>\n",
       "      <th>Volume</th>\n",
       "      <th>Dividends</th>\n",
       "      <th>Stock Splits</th>\n",
       "    </tr>\n",
       "  </thead>\n",
       "  <tbody>\n",
       "    <tr>\n",
       "      <th>count</th>\n",
       "      <td>250.00</td>\n",
       "      <td>250.00</td>\n",
       "      <td>250.00</td>\n",
       "      <td>250.00</td>\n",
       "      <td>250.00</td>\n",
       "      <td>250.00</td>\n",
       "      <td>250.00</td>\n",
       "    </tr>\n",
       "    <tr>\n",
       "      <th>mean</th>\n",
       "      <td>222.36</td>\n",
       "      <td>224.92</td>\n",
       "      <td>220.02</td>\n",
       "      <td>222.67</td>\n",
       "      <td>53516737.60</td>\n",
       "      <td>0.00</td>\n",
       "      <td>0.00</td>\n",
       "    </tr>\n",
       "    <tr>\n",
       "      <th>std</th>\n",
       "      <td>15.69</td>\n",
       "      <td>15.12</td>\n",
       "      <td>15.96</td>\n",
       "      <td>15.61</td>\n",
       "      <td>27343853.63</td>\n",
       "      <td>0.03</td>\n",
       "      <td>0.00</td>\n",
       "    </tr>\n",
       "    <tr>\n",
       "      <th>min</th>\n",
       "      <td>171.72</td>\n",
       "      <td>190.09</td>\n",
       "      <td>168.99</td>\n",
       "      <td>172.19</td>\n",
       "      <td>23234700.00</td>\n",
       "      <td>0.00</td>\n",
       "      <td>0.00</td>\n",
       "    </tr>\n",
       "    <tr>\n",
       "      <th>25%</th>\n",
       "      <td>211.19</td>\n",
       "      <td>214.02</td>\n",
       "      <td>209.38</td>\n",
       "      <td>212.35</td>\n",
       "      <td>39510475.00</td>\n",
       "      <td>0.00</td>\n",
       "      <td>0.00</td>\n",
       "    </tr>\n",
       "    <tr>\n",
       "      <th>50%</th>\n",
       "      <td>224.17</td>\n",
       "      <td>226.07</td>\n",
       "      <td>222.23</td>\n",
       "      <td>224.21</td>\n",
       "      <td>46906700.00</td>\n",
       "      <td>0.00</td>\n",
       "      <td>0.00</td>\n",
       "    </tr>\n",
       "    <tr>\n",
       "      <th>75%</th>\n",
       "      <td>232.45</td>\n",
       "      <td>234.26</td>\n",
       "      <td>229.18</td>\n",
       "      <td>232.52</td>\n",
       "      <td>58825975.00</td>\n",
       "      <td>0.00</td>\n",
       "      <td>0.00</td>\n",
       "    </tr>\n",
       "    <tr>\n",
       "      <th>max</th>\n",
       "      <td>257.57</td>\n",
       "      <td>259.47</td>\n",
       "      <td>257.01</td>\n",
       "      <td>258.40</td>\n",
       "      <td>318679900.00</td>\n",
       "      <td>0.26</td>\n",
       "      <td>0.00</td>\n",
       "    </tr>\n",
       "  </tbody>\n",
       "</table>\n",
       "</div>"
      ],
      "text/plain": [
       "        Open   High    Low  Close       Volume  Dividends  Stock Splits\n",
       "count 250.00 250.00 250.00 250.00       250.00     250.00        250.00\n",
       "mean  222.36 224.92 220.02 222.67  53516737.60       0.00          0.00\n",
       "std    15.69  15.12  15.96  15.61  27343853.63       0.03          0.00\n",
       "min   171.72 190.09 168.99 172.19  23234700.00       0.00          0.00\n",
       "25%   211.19 214.02 209.38 212.35  39510475.00       0.00          0.00\n",
       "50%   224.17 226.07 222.23 224.21  46906700.00       0.00          0.00\n",
       "75%   232.45 234.26 229.18 232.52  58825975.00       0.00          0.00\n",
       "max   257.57 259.47 257.01 258.40 318679900.00       0.26          0.00"
      ]
     },
     "execution_count": 8,
     "metadata": {},
     "output_type": "execute_result"
    }
   ],
   "source": [
    "# Block 6: Describe the dataset\n",
    "df.describe()\n"
   ]
  },
  {
   "cell_type": "code",
   "execution_count": 9,
   "id": "bd821619-7782-452e-808f-14d7fed5533d",
   "metadata": {},
   "outputs": [
    {
     "data": {
      "image/png": "[encoded data removed]",
      "text/plain": [
       "<Figure size 1200x500 with 1 Axes>"
      ]
     },
     "metadata": {},
     "output_type": "display_data"
    }
   ],
   "source": [
    "# Block 7: Plot closing price\n",
    "plt.figure(figsize=(12, 5))\n",
    "plt.plot(df['Close'], label=\"Close Price\", color='blue')\n",
    "plt.title(\"Apple (AAPL) - Closing Price\")\n",
    "plt.xlabel(\"Date\")\n",
    "plt.ylabel(\"Price (USD)\")\n",
    "plt.legend()\n",
    "plt.grid(True)\n",
    "plt.show()\n"
   ]
  },
  {
   "cell_type": "code",
   "execution_count": 10,
   "id": "bfdd11d1-5e09-4200-8b12-0383bf6f4a00",
   "metadata": {},
   "outputs": [
    {
     "data": {
      "text/html": [
       "<div>\n",
       "<style scoped>\n",
       "    .dataframe tbody tr th:only-of-type {\n",
       "        vertical-align: middle;\n",
       "    }\n",
       "\n",
       "    .dataframe tbody tr th {\n",
       "        vertical-align: top;\n",
       "    }\n",
       "\n",
       "    .dataframe thead th {\n",
       "        text-align: right;\n",
       "    }\n",
       "</style>\n",
       "<table border=\"1\" class=\"dataframe\">\n",
       "  <thead>\n",
       "    <tr style=\"text-align: right;\">\n",
       "      <th></th>\n",
       "      <th>Close</th>\n",
       "      <th>MA20</th>\n",
       "      <th>MA50</th>\n",
       "    </tr>\n",
       "    <tr>\n",
       "      <th>Date</th>\n",
       "      <th></th>\n",
       "      <th></th>\n",
       "      <th></th>\n",
       "    </tr>\n",
       "  </thead>\n",
       "  <tbody>\n",
       "    <tr>\n",
       "      <th>2025-06-23 00:00:00-04:00</th>\n",
       "      <td>201.50</td>\n",
       "      <td>200.04</td>\n",
       "      <td>202.30</td>\n",
       "    </tr>\n",
       "    <tr>\n",
       "      <th>2025-06-24 00:00:00-04:00</th>\n",
       "      <td>200.30</td>\n",
       "      <td>200.29</td>\n",
       "      <td>202.50</td>\n",
       "    </tr>\n",
       "    <tr>\n",
       "      <th>2025-06-25 00:00:00-04:00</th>\n",
       "      <td>201.56</td>\n",
       "      <td>200.36</td>\n",
       "      <td>202.57</td>\n",
       "    </tr>\n",
       "    <tr>\n",
       "      <th>2025-06-26 00:00:00-04:00</th>\n",
       "      <td>201.00</td>\n",
       "      <td>200.38</td>\n",
       "      <td>202.55</td>\n",
       "    </tr>\n",
       "    <tr>\n",
       "      <th>2025-06-27 00:00:00-04:00</th>\n",
       "      <td>201.08</td>\n",
       "      <td>200.44</td>\n",
       "      <td>202.53</td>\n",
       "    </tr>\n",
       "  </tbody>\n",
       "</table>\n",
       "</div>"
      ],
      "text/plain": [
       "                           Close   MA20   MA50\n",
       "Date                                          \n",
       "2025-06-23 00:00:00-04:00 201.50 200.04 202.30\n",
       "2025-06-24 00:00:00-04:00 200.30 200.29 202.50\n",
       "2025-06-25 00:00:00-04:00 201.56 200.36 202.57\n",
       "2025-06-26 00:00:00-04:00 201.00 200.38 202.55\n",
       "2025-06-27 00:00:00-04:00 201.08 200.44 202.53"
      ]
     },
     "execution_count": 10,
     "metadata": {},
     "output_type": "execute_result"
    }
   ],
   "source": [
    "# Block 8: Calculate Moving Averages\n",
    "df['MA20'] = df['Close'].rolling(window=20).mean()\n",
    "df['MA50'] = df['Close'].rolling(window=50).mean()\n",
    "df[['Close', 'MA20', 'MA50']].tail()\n"
   ]
  },
  {
   "cell_type": "code",
   "execution_count": 11,
   "id": "ecea48c8-2a6b-483a-a361-8d14275ce2c0",
   "metadata": {},
   "outputs": [
    {
     "data": {
      "image/png": "[encoded data removed]",
      "text/plain": [
       "<Figure size 1200x600 with 1 Axes>"
      ]
     },
     "metadata": {},
     "output_type": "display_data"
    }
   ],
   "source": [
    "# Block 9: Plot Moving Averages\n",
    "plt.figure(figsize=(12, 6))\n",
    "plt.plot(df['Close'], label='Close Price', alpha=0.5)\n",
    "plt.plot(df['MA20'], label='20-day MA', color='orange')\n",
    "plt.plot(df['MA50'], label='50-day MA', color='green')\n",
    "plt.title(\"Moving Averages - AAPL\")\n",
    "plt.xlabel(\"Date\")\n",
    "plt.ylabel(\"Price (USD)\")\n",
    "plt.legend()\n",
    "plt.grid(True)\n",
    "plt.show()\n"
   ]
  },
  {
   "cell_type": "code",
   "execution_count": 12,
   "id": "6d8db7ba-13ea-4832-9762-abff87d1fd94",
   "metadata": {},
   "outputs": [
    {
     "data": {
      "text/plain": [
       "<Axes: title={'center': 'Trading Volume Distribution'}, ylabel='Frequency'>"
      ]
     },
     "execution_count": 12,
     "metadata": {},
     "output_type": "execute_result"
    },
    {
     "data": {
      "image/png": "[encoded data removed]",
      "text/plain": [
       "<Figure size 1000x400 with 1 Axes>"
      ]
     },
     "metadata": {},
     "output_type": "display_data"
    }
   ],
   "source": [
    "# Block 10: Volume analysis\n",
    "df['Volume'].plot(kind='hist', bins=30, color='purple', figsize=(10, 4), title='Trading Volume Distribution')\n"
   ]
  },
  {
   "cell_type": "code",
   "execution_count": 13,
   "id": "c2961d7e-3208-422c-9041-6f3b14e030d7",
   "metadata": {},
   "outputs": [
    {
     "data": {
      "text/plain": [
       "<Axes: title={'center': 'Daily Return (%)'}, xlabel='Date'>"
      ]
     },
     "execution_count": 13,
     "metadata": {},
     "output_type": "execute_result"
    },
    {
     "data": {
      "image/png": "[encoded data removed]",
      "text/plain": [
       "<Figure size 1000x500 with 1 Axes>"
      ]
     },
     "metadata": {},
     "output_type": "display_data"
    }
   ],
   "source": [
    "# Block 11: Daily Returns\n",
    "df['Daily Return'] = df['Close'].pct_change()\n",
    "df['Daily Return'].dropna().plot(figsize=(10, 5), linestyle='--', marker='o', title=\"Daily Return (%)\")\n"
   ]
  },
  {
   "cell_type": "code",
   "execution_count": 14,
   "id": "81ed87a8-c8f2-4c79-83ff-4f8eb2c0a3db",
   "metadata": {},
   "outputs": [
    {
     "name": "stderr",
     "output_type": "stream",
     "text": [
      "C:\\Users\\HP\\AppData\\Local\\Temp\\ipykernel_6508\\2024470801.py:3: FutureWarning: YF.download() has changed argument auto_adjust default to True\n",
      "  df_multi = yf.download(tickers, period=\"6mo\")['Close']\n",
      "[*********************100%***********************]  4 of 4 completed\n"
     ]
    },
    {
     "data": {
      "text/html": [
       "<div>\n",
       "<style scoped>\n",
       "    .dataframe tbody tr th:only-of-type {\n",
       "        vertical-align: middle;\n",
       "    }\n",
       "\n",
       "    .dataframe tbody tr th {\n",
       "        vertical-align: top;\n",
       "    }\n",
       "\n",
       "    .dataframe thead th {\n",
       "        text-align: right;\n",
       "    }\n",
       "</style>\n",
       "<table border=\"1\" class=\"dataframe\">\n",
       "  <thead>\n",
       "    <tr style=\"text-align: right;\">\n",
       "      <th>Ticker</th>\n",
       "      <th>AAPL</th>\n",
       "      <th>AMZN</th>\n",
       "      <th>GOOG</th>\n",
       "      <th>MSFT</th>\n",
       "    </tr>\n",
       "    <tr>\n",
       "      <th>Ticker</th>\n",
       "      <th></th>\n",
       "      <th></th>\n",
       "      <th></th>\n",
       "      <th></th>\n",
       "    </tr>\n",
       "  </thead>\n",
       "  <tbody>\n",
       "    <tr>\n",
       "      <th>AAPL</th>\n",
       "      <td>1.00</td>\n",
       "      <td>0.70</td>\n",
       "      <td>0.56</td>\n",
       "      <td>0.62</td>\n",
       "    </tr>\n",
       "    <tr>\n",
       "      <th>AMZN</th>\n",
       "      <td>0.70</td>\n",
       "      <td>1.00</td>\n",
       "      <td>0.71</td>\n",
       "      <td>0.74</td>\n",
       "    </tr>\n",
       "    <tr>\n",
       "      <th>GOOG</th>\n",
       "      <td>0.56</td>\n",
       "      <td>0.71</td>\n",
       "      <td>1.00</td>\n",
       "      <td>0.60</td>\n",
       "    </tr>\n",
       "    <tr>\n",
       "      <th>MSFT</th>\n",
       "      <td>0.62</td>\n",
       "      <td>0.74</td>\n",
       "      <td>0.60</td>\n",
       "      <td>1.00</td>\n",
       "    </tr>\n",
       "  </tbody>\n",
       "</table>\n",
       "</div>"
      ],
      "text/plain": [
       "Ticker  AAPL  AMZN  GOOG  MSFT\n",
       "Ticker                        \n",
       "AAPL    1.00  0.70  0.56  0.62\n",
       "AMZN    0.70  1.00  0.71  0.74\n",
       "GOOG    0.56  0.71  1.00  0.60\n",
       "MSFT    0.62  0.74  0.60  1.00"
      ]
     },
     "execution_count": 14,
     "metadata": {},
     "output_type": "execute_result"
    }
   ],
   "source": [
    "# Block 12: Correlation Matrix (simulate multiple stocks)\n",
    "tickers = ['AAPL', 'MSFT', 'GOOG', 'AMZN']\n",
    "df_multi = yf.download(tickers, period=\"6mo\")['Close']\n",
    "df_multi = df_multi.pct_change().dropna()\n",
    "correlation = df_multi.corr()\n",
    "correlation\n"
   ]
  },
  {
   "cell_type": "code",
   "execution_count": 15,
   "id": "66dc26f4-257e-4b99-97c8-405f7f0f765b",
   "metadata": {},
   "outputs": [
    {
     "data": {
      "text/plain": [
       "Text(0.5, 1.0, 'Correlation Between Stocks')"
      ]
     },
     "execution_count": 15,
     "metadata": {},
     "output_type": "execute_result"
    },
    {
     "data": {
      "image/png": "[encoded data removed]",
      "text/plain": [
       "<Figure size 800x600 with 2 Axes>"
      ]
     },
     "metadata": {},
     "output_type": "display_data"
    }
   ],
   "source": [
    "# Block 13: Heatmap of correlation\n",
    "import seaborn as sns\n",
    "plt.figure(figsize=(8, 6))\n",
    "sns.heatmap(correlation, annot=True, cmap=\"coolwarm\")\n",
    "plt.title(\"Correlation Between Stocks\")\n"
   ]
  },
  {
   "cell_type": "code",
   "execution_count": 19,
   "id": "fb8e4134-42a2-459d-979d-83d9cfe0e1b6",
   "metadata": {},
   "outputs": [
    {
     "name": "stdout",
     "output_type": "stream",
     "text": [
      "Requirement already satisfied: plotly in c:\\users\\hp\\miniconda3\\envs\\py312\\lib\\site-packages (6.2.0)\n",
      "Requirement already satisfied: narwhals>=1.15.1 in c:\\users\\hp\\miniconda3\\envs\\py312\\lib\\site-packages (from plotly) (1.44.0)\n",
      "Requirement already satisfied: packaging in c:\\users\\hp\\miniconda3\\envs\\py312\\lib\\site-packages (from plotly) (24.2)\n"
     ]
    }
   ],
   "source": [
    "# Block 14: Candlestick Chart (optional for advanced visuals)\n",
    "!pip install plotly\n",
    "\n",
    "\n"
   ]
  },
  {
   "cell_type": "code",
   "execution_count": 20,
   "id": "7e8caf75-a385-4e55-9fcf-7136a395b5ed",
   "metadata": {},
   "outputs": [
    {
     "data": {
      "application/vnd.plotly.v1+json": {
       "config": {
        "plotlyServerURL": "https://plot.ly"
       },
       "data": [
        {
         "close": {
          "bdata": "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",
          "dtype": "f8"
         },
         "high": {
          "bdata": "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",
          "dtype": "f8"
         },
         "low": {
          "bdata": "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",
          "dtype": "f8"
         },
         "open": {
          "bdata": "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",
          "dtype": "f8"
         },
         "type": "candlestick",
         "x": [
          "2024-06-28T00:00:00-04:00",
          "2024-07-01T00:00:00-04:00",
          "2024-07-02T00:00:00-04:00",
          "2024-07-03T00:00:00-04:00",
          "2024-07-05T00:00:00-04:00",
          "2024-07-08T00:00:00-04:00",
          "2024-07-09T00:00:00-04:00",
          "2024-07-10T00:00:00-04:00",
          "2024-07-11T00:00:00-04:00",
          "2024-07-12T00:00:00-04:00",
          "2024-07-15T00:00:00-04:00",
          "2024-07-16T00:00:00-04:00",
          "2024-07-17T00:00:00-04:00",
          "2024-07-18T00:00:00-04:00",
          "2024-07-19T00:00:00-04:00",
          "2024-07-22T00:00:00-04:00",
          "2024-07-23T00:00:00-04:00",
          "2024-07-24T00:00:00-04:00",
          "2024-07-25T00:00:00-04:00",
          "2024-07-26T00:00:00-04:00",
          "2024-07-29T00:00:00-04:00",
          "2024-07-30T00:00:00-04:00",
          "2024-07-31T00:00:00-04:00",
          "2024-08-01T00:00:00-04:00",
          "2024-08-02T00:00:00-04:00",
          "2024-08-05T00:00:00-04:00",
          "2024-08-06T00:00:00-04:00",
          "2024-08-07T00:00:00-04:00",
          "2024-08-08T00:00:00-04:00",
          "2024-08-09T00:00:00-04:00",
          "2024-08-12T00:00:00-04:00",
          "2024-08-13T00:00:00-04:00",
          "2024-08-14T00:00:00-04:00",
          "2024-08-15T00:00:00-04:00",
          "2024-08-16T00:00:00-04:00",
          "2024-08-19T00:00:00-04:00",
          "2024-08-20T00:00:00-04:00",
          "2024-08-21T00:00:00-04:00",
          "2024-08-22T00:00:00-04:00",
          "2024-08-23T00:00:00-04:00",
          "2024-08-26T00:00:00-04:00",
          "2024-08-27T00:00:00-04:00",
          "2024-08-28T00:00:00-04:00",
          "2024-08-29T00:00:00-04:00",
          "2024-08-30T00:00:00-04:00",
          "2024-09-03T00:00:00-04:00",
          "2024-09-04T00:00:00-04:00",
          "2024-09-05T00:00:00-04:00",
          "2024-09-06T00:00:00-04:00",
          "2024-09-09T00:00:00-04:00",
          "2024-09-10T00:00:00-04:00",
          "2024-09-11T00:00:00-04:00",
          "2024-09-12T00:00:00-04:00",
          "2024-09-13T00:00:00-04:00",
          "2024-09-16T00:00:00-04:00",
          "2024-09-17T00:00:00-04:00",
          "2024-09-18T00:00:00-04:00",
          "2024-09-19T00:00:00-04:00",
          "2024-09-20T00:00:00-04:00",
          "2024-09-23T00:00:00-04:00",
          "2024-09-24T00:00:00-04:00",
          "2024-09-25T00:00:00-04:00",
          "2024-09-26T00:00:00-04:00",
          "2024-09-27T00:00:00-04:00",
          "2024-09-30T00:00:00-04:00",
          "2024-10-01T00:00:00-04:00",
          "2024-10-02T00:00:00-04:00",
          "2024-10-03T00:00:00-04:00",
          "2024-10-04T00:00:00-04:00",
          "2024-10-07T00:00:00-04:00",
          "2024-10-08T00:00:00-04:00",
          "2024-10-09T00:00:00-04:00",
          "2024-10-10T00:00:00-04:00",
          "2024-10-11T00:00:00-04:00",
          "2024-10-14T00:00:00-04:00",
          "2024-10-15T00:00:00-04:00",
          "2024-10-16T00:00:00-04:00",
          "2024-10-17T00:00:00-04:00",
          "2024-10-18T00:00:00-04:00",
          "2024-10-21T00:00:00-04:00",
          "2024-10-22T00:00:00-04:00",
          "2024-10-23T00:00:00-04:00",
          "2024-10-24T00:00:00-04:00",
          "2024-10-25T00:00:00-04:00",
          "2024-10-28T00:00:00-04:00",
          "2024-10-29T00:00:00-04:00",
          "2024-10-30T00:00:00-04:00",
          "2024-10-31T00:00:00-04:00",
          "2024-11-01T00:00:00-04:00",
          "2024-11-04T00:00:00-05:00",
          "2024-11-05T00:00:00-05:00",
          "2024-11-06T00:00:00-05:00",
          "2024-11-07T00:00:00-05:00",
          "2024-11-08T00:00:00-05:00",
          "2024-11-11T00:00:00-05:00",
          "2024-11-12T00:00:00-05:00",
          "2024-11-13T00:00:00-05:00",
          "2024-11-14T00:00:00-05:00",
          "2024-11-15T00:00:00-05:00",
          "2024-11-18T00:00:00-05:00",
          "2024-11-19T00:00:00-05:00",
          "2024-11-20T00:00:00-05:00",
          "2024-11-21T00:00:00-05:00",
          "2024-11-22T00:00:00-05:00",
          "2024-11-25T00:00:00-05:00",
          "2024-11-26T00:00:00-05:00",
          "2024-11-27T00:00:00-05:00",
          "2024-11-29T00:00:00-05:00",
          "2024-12-02T00:00:00-05:00",
          "2024-12-03T00:00:00-05:00",
          "2024-12-04T00:00:00-05:00",
          "2024-12-05T00:00:00-05:00",
          "2024-12-06T00:00:00-05:00",
          "2024-12-09T00:00:00-05:00",
          "2024-12-10T00:00:00-05:00",
          "2024-12-11T00:00:00-05:00",
          "2024-12-12T00:00:00-05:00",
          "2024-12-13T00:00:00-05:00",
          "2024-12-16T00:00:00-05:00",
          "2024-12-17T00:00:00-05:00",
          "2024-12-18T00:00:00-05:00",
          "2024-12-19T00:00:00-05:00",
          "2024-12-20T00:00:00-05:00",
          "2024-12-23T00:00:00-05:00",
          "2024-12-24T00:00:00-05:00",
          "2024-12-26T00:00:00-05:00",
          "2024-12-27T00:00:00-05:00",
          "2024-12-30T00:00:00-05:00",
          "2024-12-31T00:00:00-05:00",
          "2025-01-02T00:00:00-05:00",
          "2025-01-03T00:00:00-05:00",
          "2025-01-06T00:00:00-05:00",
          "2025-01-07T00:00:00-05:00",
          "2025-01-08T00:00:00-05:00",
          "2025-01-10T00:00:00-05:00",
          "2025-01-13T00:00:00-05:00",
          "2025-01-14T00:00:00-05:00",
          "2025-01-15T00:00:00-05:00",
          "2025-01-16T00:00:00-05:00",
          "2025-01-17T00:00:00-05:00",
          "2025-01-21T00:00:00-05:00",
          "2025-01-22T00:00:00-05:00",
          "2025-01-23T00:00:00-05:00",
          "2025-01-24T00:00:00-05:00",
          "2025-01-27T00:00:00-05:00",
          "2025-01-28T00:00:00-05:00",
          "2025-01-29T00:00:00-05:00",
          "2025-01-30T00:00:00-05:00",
          "2025-01-31T00:00:00-05:00",
          "2025-02-03T00:00:00-05:00",
          "2025-02-04T00:00:00-05:00",
          "2025-02-05T00:00:00-05:00",
          "2025-02-06T00:00:00-05:00",
          "2025-02-07T00:00:00-05:00",
          "2025-02-10T00:00:00-05:00",
          "2025-02-11T00:00:00-05:00",
          "2025-02-12T00:00:00-05:00",
          "2025-02-13T00:00:00-05:00",
          "2025-02-14T00:00:00-05:00",
          "2025-02-18T00:00:00-05:00",
          "2025-02-19T00:00:00-05:00",
          "2025-02-20T00:00:00-05:00",
          "2025-02-21T00:00:00-05:00",
          "2025-02-24T00:00:00-05:00",
          "2025-02-25T00:00:00-05:00",
          "2025-02-26T00:00:00-05:00",
          "2025-02-27T00:00:00-05:00",
          "2025-02-28T00:00:00-05:00",
          "2025-03-03T00:00:00-05:00",
          "2025-03-04T00:00:00-05:00",
          "2025-03-05T00:00:00-05:00",
          "2025-03-06T00:00:00-05:00",
          "2025-03-07T00:00:00-05:00",
          "2025-03-10T00:00:00-04:00",
          "2025-03-11T00:00:00-04:00",
          "2025-03-12T00:00:00-04:00",
          "2025-03-13T00:00:00-04:00",
          "2025-03-14T00:00:00-04:00",
          "2025-03-17T00:00:00-04:00",
          "2025-03-18T00:00:00-04:00",
          "2025-03-19T00:00:00-04:00",
          "2025-03-20T00:00:00-04:00",
          "2025-03-21T00:00:00-04:00",
          "2025-03-24T00:00:00-04:00",
          "2025-03-25T00:00:00-04:00",
          "2025-03-26T00:00:00-04:00",
          "2025-03-27T00:00:00-04:00",
          "2025-03-28T00:00:00-04:00",
          "2025-03-31T00:00:00-04:00",
          "2025-04-01T00:00:00-04:00",
          "2025-04-02T00:00:00-04:00",
          "2025-04-03T00:00:00-04:00",
          "2025-04-04T00:00:00-04:00",
          "2025-04-07T00:00:00-04:00",
          "2025-04-08T00:00:00-04:00",
          "2025-04-09T00:00:00-04:00",
          "2025-04-10T00:00:00-04:00",
          "2025-04-11T00:00:00-04:00",
          "2025-04-14T00:00:00-04:00",
          "2025-04-15T00:00:00-04:00",
          "2025-04-16T00:00:00-04:00",
          "2025-04-17T00:00:00-04:00",
          "2025-04-21T00:00:00-04:00",
          "2025-04-22T00:00:00-04:00",
          "2025-04-23T00:00:00-04:00",
          "2025-04-24T00:00:00-04:00",
          "2025-04-25T00:00:00-04:00",
          "2025-04-28T00:00:00-04:00",
          "2025-04-29T00:00:00-04:00",
          "2025-04-30T00:00:00-04:00",
          "2025-05-01T00:00:00-04:00",
          "2025-05-02T00:00:00-04:00",
          "2025-05-05T00:00:00-04:00",
          "2025-05-06T00:00:00-04:00",
          "2025-05-07T00:00:00-04:00",
          "2025-05-08T00:00:00-04:00",
          "2025-05-09T00:00:00-04:00",
          "2025-05-12T00:00:00-04:00",
          "2025-05-13T00:00:00-04:00",
          "2025-05-14T00:00:00-04:00",
          "2025-05-15T00:00:00-04:00",
          "2025-05-16T00:00:00-04:00",
          "2025-05-19T00:00:00-04:00",
          "2025-05-20T00:00:00-04:00",
          "2025-05-21T00:00:00-04:00",
          "2025-05-22T00:00:00-04:00",
          "2025-05-23T00:00:00-04:00",
          "2025-05-27T00:00:00-04:00",
          "2025-05-28T00:00:00-04:00",
          "2025-05-29T00:00:00-04:00",
          "2025-05-30T00:00:00-04:00",
          "2025-06-02T00:00:00-04:00",
          "2025-06-03T00:00:00-04:00",
          "2025-06-04T00:00:00-04:00",
          "2025-06-05T00:00:00-04:00",
          "2025-06-06T00:00:00-04:00",
          "2025-06-09T00:00:00-04:00",
          "2025-06-10T00:00:00-04:00",
          "2025-06-11T00:00:00-04:00",
          "2025-06-12T00:00:00-04:00",
          "2025-06-13T00:00:00-04:00",
          "2025-06-16T00:00:00-04:00",
          "2025-06-17T00:00:00-04:00",
          "2025-06-18T00:00:00-04:00",
          "2025-06-20T00:00:00-04:00",
          "2025-06-23T00:00:00-04:00",
          "2025-06-24T00:00:00-04:00",
          "2025-06-25T00:00:00-04:00",
          "2025-06-26T00:00:00-04:00",
          "2025-06-27T00:00:00-04:00"
         ]
        }
       ],
       "layout": {
        "template": {
         "data": {
          "bar": [
           {
            "error_x": {
             "color": "#2a3f5f"
            },
            "error_y": {
             "color": "#2a3f5f"
            },
            "marker": {
             "line": {
              "color": "#E5ECF6",
              "width": 0.5
             },
             "pattern": {
              "fillmode": "overlay",
              "size": 10,
              "solidity": 0.2
             }
            },
            "type": "bar"
           }
          ],
          "barpolar": [
           {
            "marker": {
             "line": {
              "color": "#E5ECF6",
              "width": 0.5
             },
             "pattern": {
              "fillmode": "overlay",
              "size": 10,
              "solidity": 0.2
             }
            },
            "type": "barpolar"
           }
          ],
          "carpet": [
           {
            "aaxis": {
             "endlinecolor": "#2a3f5f",
             "gridcolor": "white",
             "linecolor": "white",
             "minorgridcolor": "white",
             "startlinecolor": "#2a3f5f"
            },
            "baxis": {
             "endlinecolor": "#2a3f5f",
             "gridcolor": "white",
             "linecolor": "white",
             "minorgridcolor": "white",
             "startlinecolor": "#2a3f5f"
            },
            "type": "carpet"
           }
          ],
          "choropleth": [
           {
            "colorbar": {
             "outlinewidth": 0,
             "ticks": ""
            },
            "type": "choropleth"
           }
          ],
          "contour": [
           {
            "colorbar": {
             "outlinewidth": 0,
             "ticks": ""
            },
            "colorscale": [
             [
              0,
              "#0d0887"
             ],
             [
              0.1111111111111111,
              "#46039f"
             ],
             [
              0.2222222222222222,
              "#7201a8"
             ],
             [
              0.3333333333333333,
              "#9c179e"
             ],
             [
              0.4444444444444444,
              "#bd3786"
             ],
             [
              0.5555555555555556,
              "#d8576b"
             ],
             [
              0.6666666666666666,
              "#ed7953"
             ],
             [
              0.7777777777777778,
              "#fb9f3a"
             ],
             [
              0.8888888888888888,
              "#fdca26"
             ],
             [
              1,
              "#f0f921"
             ]
            ],
            "type": "contour"
           }
          ],
          "contourcarpet": [
           {
            "colorbar": {
             "outlinewidth": 0,
             "ticks": ""
            },
            "type": "contourcarpet"
           }
          ],
          "heatmap": [
           {
            "colorbar": {
             "outlinewidth": 0,
             "ticks": ""
            },
            "colorscale": [
             [
              0,
              "#0d0887"
             ],
             [
              0.1111111111111111,
              "#46039f"
             ],
             [
              0.2222222222222222,
              "#7201a8"
             ],
             [
              0.3333333333333333,
              "#9c179e"
             ],
             [
              0.4444444444444444,
              "#bd3786"
             ],
             [
              0.5555555555555556,
              "#d8576b"
             ],
             [
              0.6666666666666666,
              "#ed7953"
             ],
             [
              0.7777777777777778,
              "#fb9f3a"
             ],
             [
              0.8888888888888888,
              "#fdca26"
             ],
             [
              1,
              "#f0f921"
             ]
            ],
            "type": "heatmap"
           }
          ],
          "histogram": [
           {
            "marker": {
             "pattern": {
              "fillmode": "overlay",
              "size": 10,
              "solidity": 0.2
             }
            },
            "type": "histogram"
           }
          ],
          "histogram2d": [
           {
            "colorbar": {
             "outlinewidth": 0,
             "ticks": ""
            },
            "colorscale": [
             [
              0,
              "#0d0887"
             ],
             [
              0.1111111111111111,
              "#46039f"
             ],
             [
              0.2222222222222222,
              "#7201a8"
             ],
             [
              0.3333333333333333,
              "#9c179e"
             ],
             [
              0.4444444444444444,
              "#bd3786"
             ],
             [
              0.5555555555555556,
              "#d8576b"
             ],
             [
              0.6666666666666666,
              "#ed7953"
             ],
             [
              0.7777777777777778,
              "#fb9f3a"
             ],
             [
              0.8888888888888888,
              "#fdca26"
             ],
             [
              1,
              "#f0f921"
             ]
            ],
            "type": "histogram2d"
           }
          ],
          "histogram2dcontour": [
           {
            "colorbar": {
             "outlinewidth": 0,
             "ticks": ""
            },
            "colorscale": [
             [
              0,
              "#0d0887"
             ],
             [
              0.1111111111111111,
              "#46039f"
             ],
             [
              0.2222222222222222,
              "#7201a8"
             ],
             [
              0.3333333333333333,
              "#9c179e"
             ],
             [
              0.4444444444444444,
              "#bd3786"
             ],
             [
              0.5555555555555556,
              "#d8576b"
             ],
             [
              0.6666666666666666,
              "#ed7953"
             ],
             [
              0.7777777777777778,
              "#fb9f3a"
             ],
             [
              0.8888888888888888,
              "#fdca26"
             ],
             [
              1,
              "#f0f921"
             ]
            ],
            "type": "histogram2dcontour"
           }
          ],
          "mesh3d": [
           {
            "colorbar": {
             "outlinewidth": 0,
             "ticks": ""
            },
            "type": "mesh3d"
           }
          ],
          "parcoords": [
           {
            "line": {
             "colorbar": {
              "outlinewidth": 0,
              "ticks": ""
             }
            },
            "type": "parcoords"
           }
          ],
          "pie": [
           {
            "automargin": true,
            "type": "pie"
           }
          ],
          "scatter": [
           {
            "fillpattern": {
             "fillmode": "overlay",
             "size": 10,
             "solidity": 0.2
            },
            "type": "scatter"
           }
          ],
          "scatter3d": [
           {
            "line": {
             "colorbar": {
              "outlinewidth": 0,
              "ticks": ""
             }
            },
            "marker": {
             "colorbar": {
              "outlinewidth": 0,
              "ticks": ""
             }
            },
            "type": "scatter3d"
           }
          ],
          "scattercarpet": [
           {
            "marker": {
             "colorbar": {
              "outlinewidth": 0,
              "ticks": ""
             }
            },
            "type": "scattercarpet"
           }
          ],
          "scattergeo": [
           {
            "marker": {
             "colorbar": {
              "outlinewidth": 0,
              "ticks": ""
             }
            },
            "type": "scattergeo"
           }
          ],
          "scattergl": [
           {
            "marker": {
             "colorbar": {
              "outlinewidth": 0,
              "ticks": ""
             }
            },
            "type": "scattergl"
           }
          ],
          "scattermap": [
           {
            "marker": {
             "colorbar": {
              "outlinewidth": 0,
              "ticks": ""
             }
            },
            "type": "scattermap"
           }
          ],
          "scattermapbox": [
           {
            "marker": {
             "colorbar": {
              "outlinewidth": 0,
              "ticks": ""
             }
            },
            "type": "scattermapbox"
           }
          ],
          "scatterpolar": [
           {
            "marker": {
             "colorbar": {
              "outlinewidth": 0,
              "ticks": ""
             }
            },
            "type": "scatterpolar"
           }
          ],
          "scatterpolargl": [
           {
            "marker": {
             "colorbar": {
              "outlinewidth": 0,
              "ticks": ""
             }
            },
            "type": "scatterpolargl"
           }
          ],
          "scatterternary": [
           {
            "marker": {
             "colorbar": {
              "outlinewidth": 0,
              "ticks": ""
             }
            },
            "type": "scatterternary"
           }
          ],
          "surface": [
           {
            "colorbar": {
             "outlinewidth": 0,
             "ticks": ""
            },
            "colorscale": [
             [
              0,
              "#0d0887"
             ],
             [
              0.1111111111111111,
              "#46039f"
             ],
             [
              0.2222222222222222,
              "#7201a8"
             ],
             [
              0.3333333333333333,
              "#9c179e"
             ],
             [
              0.4444444444444444,
              "#bd3786"
             ],
             [
              0.5555555555555556,
              "#d8576b"
             ],
             [
              0.6666666666666666,
              "#ed7953"
             ],
             [
              0.7777777777777778,
              "#fb9f3a"
             ],
             [
              0.8888888888888888,
              "#fdca26"
             ],
             [
              1,
              "#f0f921"
             ]
            ],
            "type": "surface"
           }
          ],
          "table": [
           {
            "cells": {
             "fill": {
              "color": "#EBF0F8"
             },
             "line": {
              "color": "white"
             }
            },
            "header": {
             "fill": {
              "color": "#C8D4E3"
             },
             "line": {
              "color": "white"
             }
            },
            "type": "table"
           }
          ]
         },
         "layout": {
          "annotationdefaults": {
           "arrowcolor": "#2a3f5f",
           "arrowhead": 0,
           "arrowwidth": 1
          },
          "autotypenumbers": "strict",
          "coloraxis": {
           "colorbar": {
            "outlinewidth": 0,
            "ticks": ""
           }
          },
          "colorscale": {
           "diverging": [
            [
             0,
             "#8e0152"
            ],
            [
             0.1,
             "#c51b7d"
            ],
            [
             0.2,
             "#de77ae"
            ],
            [
             0.3,
             "#f1b6da"
            ],
            [
             0.4,
             "#fde0ef"
            ],
            [
             0.5,
             "#f7f7f7"
            ],
            [
             0.6,
             "#e6f5d0"
            ],
            [
             0.7,
             "#b8e186"
            ],
            [
             0.8,
             "#7fbc41"
            ],
            [
             0.9,
             "#4d9221"
            ],
            [
             1,
             "#276419"
            ]
           ],
           "sequential": [
            [
             0,
             "#0d0887"
            ],
            [
             0.1111111111111111,
             "#46039f"
            ],
            [
             0.2222222222222222,
             "#7201a8"
            ],
            [
             0.3333333333333333,
             "#9c179e"
            ],
            [
             0.4444444444444444,
             "#bd3786"
            ],
            [
             0.5555555555555556,
             "#d8576b"
            ],
            [
             0.6666666666666666,
             "#ed7953"
            ],
            [
             0.7777777777777778,
             "#fb9f3a"
            ],
            [
             0.8888888888888888,
             "#fdca26"
            ],
            [
             1,
             "#f0f921"
            ]
           ],
           "sequentialminus": [
            [
             0,
             "#0d0887"
            ],
            [
             0.1111111111111111,
             "#46039f"
            ],
            [
             0.2222222222222222,
             "#7201a8"
            ],
            [
             0.3333333333333333,
             "#9c179e"
            ],
            [
             0.4444444444444444,
             "#bd3786"
            ],
            [
             0.5555555555555556,
             "#d8576b"
            ],
            [
             0.6666666666666666,
             "#ed7953"
            ],
            [
             0.7777777777777778,
             "#fb9f3a"
            ],
            [
             0.8888888888888888,
             "#fdca26"
            ],
            [
             1,
             "#f0f921"
            ]
           ]
          },
          "colorway": [
           "#636efa",
           "#EF553B",
           "#00cc96",
           "#ab63fa",
           "#FFA15A",
           "#19d3f3",
           "#FF6692",
           "#B6E880",
           "#FF97FF",
           "#FECB52"
          ],
          "font": {
           "color": "#2a3f5f"
          },
          "geo": {
           "bgcolor": "white",
           "lakecolor": "white",
           "landcolor": "#E5ECF6",
           "showlakes": true,
           "showland": true,
           "subunitcolor": "white"
          },
          "hoverlabel": {
           "align": "left"
          },
          "hovermode": "closest",
          "mapbox": {
           "style": "light"
          },
          "paper_bgcolor": "white",
          "plot_bgcolor": "#E5ECF6",
          "polar": {
           "angularaxis": {
            "gridcolor": "white",
            "linecolor": "white",
            "ticks": ""
           },
           "bgcolor": "#E5ECF6",
           "radialaxis": {
            "gridcolor": "white",
            "linecolor": "white",
            "ticks": ""
           }
          },
          "scene": {
           "xaxis": {
            "backgroundcolor": "#E5ECF6",
            "gridcolor": "white",
            "gridwidth": 2,
            "linecolor": "white",
            "showbackground": true,
            "ticks": "",
            "zerolinecolor": "white"
           },
           "yaxis": {
            "backgroundcolor": "#E5ECF6",
            "gridcolor": "white",
            "gridwidth": 2,
            "linecolor": "white",
            "showbackground": true,
            "ticks": "",
            "zerolinecolor": "white"
           },
           "zaxis": {
            "backgroundcolor": "#E5ECF6",
            "gridcolor": "white",
            "gridwidth": 2,
            "linecolor": "white",
            "showbackground": true,
            "ticks": "",
            "zerolinecolor": "white"
           }
          },
          "shapedefaults": {
           "line": {
            "color": "#2a3f5f"
           }
          },
          "ternary": {
           "aaxis": {
            "gridcolor": "white",
            "linecolor": "white",
            "ticks": ""
           },
           "baxis": {
            "gridcolor": "white",
            "linecolor": "white",
            "ticks": ""
           },
           "bgcolor": "#E5ECF6",
           "caxis": {
            "gridcolor": "white",
            "linecolor": "white",
            "ticks": ""
           }
          },
          "title": {
           "x": 0.05
          },
          "xaxis": {
           "automargin": true,
           "gridcolor": "white",
           "linecolor": "white",
           "ticks": "",
           "title": {
            "standoff": 15
           },
           "zerolinecolor": "white",
           "zerolinewidth": 2
          },
          "yaxis": {
           "automargin": true,
           "gridcolor": "white",
           "linecolor": "white",
           "ticks": "",
           "title": {
            "standoff": 15
           },
           "zerolinecolor": "white",
           "zerolinewidth": 2
          }
         }
        },
        "title": {
         "text": "Candlestick Chart - AAPL"
        },
        "xaxis": {
         "rangeslider": {
          "visible": false
         }
        }
       }
      }
     },
     "metadata": {},
     "output_type": "display_data"
    }
   ],
   "source": [
    "import plotly.graph_objects as go\n",
    "fig = go.Figure(data=[go.Candlestick(x=df.index,\n",
    "                open=df['Open'],\n",
    "                high=df['High'],\n",
    "                low=df['Low'],\n",
    "                close=df['Close'])])\n",
    "fig.update_layout(title='Candlestick Chart - AAPL', xaxis_rangeslider_visible=False)\n",
    "fig.show()\n"
   ]
  },
  {
   "cell_type": "code",
   "execution_count": 21,
   "id": "ce7801ff-b958-4c84-a156-30c1ce1b1fb9",
   "metadata": {},
   "outputs": [
    {
     "name": "stdout",
     "output_type": "stream",
     "text": [
      "Highest Closing Price in the Last 1 Year: $258.40\n"
     ]
    }
   ],
   "source": [
    "# Block 15: Highest closing price\n",
    "highest = df['Close'].max()\n",
    "print(f\"Highest Closing Price in the Last 1 Year: ${highest:.2f}\")\n"
   ]
  },
  {
   "cell_type": "code",
   "execution_count": 22,
   "id": "6a85b917-1d43-4042-b533-db39fa4a42f4",
   "metadata": {},
   "outputs": [
    {
     "name": "stdout",
     "output_type": "stream",
     "text": [
      "Lowest Closing Price in the Last 1 Year: $172.19\n"
     ]
    }
   ],
   "source": [
    "# Block 16: Lowest closing price\n",
    "lowest = df['Close'].min()\n",
    "print(f\"Lowest Closing Price in the Last 1 Year: ${lowest:.2f}\")\n"
   ]
  },
  {
   "cell_type": "code",
   "execution_count": 23,
   "id": "e645a9d8-97b6-4d52-a2ff-4d1077d31f1a",
   "metadata": {},
   "outputs": [
    {
     "name": "stdout",
     "output_type": "stream",
     "text": [
      "Saved to AAPL_Processed.csv\n"
     ]
    }
   ],
   "source": [
    "# Block 17: Save processed data to CSV\n",
    "df.to_csv(\"AAPL_Processed.csv\")\n",
    "print(\"Saved to AAPL_Processed.csv\")\n"
   ]
  },
  {
   "cell_type": "code",
   "execution_count": 24,
   "id": "f9c00f13-7323-4a93-ad6e-265ac0e6211e",
   "metadata": {},
   "outputs": [
    {
     "data": {
      "text/html": [
       "<div>\n",
       "<style scoped>\n",
       "    .dataframe tbody tr th:only-of-type {\n",
       "        vertical-align: middle;\n",
       "    }\n",
       "\n",
       "    .dataframe tbody tr th {\n",
       "        vertical-align: top;\n",
       "    }\n",
       "\n",
       "    .dataframe thead th {\n",
       "        text-align: right;\n",
       "    }\n",
       "</style>\n",
       "<table border=\"1\" class=\"dataframe\">\n",
       "  <thead>\n",
       "    <tr style=\"text-align: right;\">\n",
       "      <th></th>\n",
       "      <th>Open</th>\n",
       "      <th>High</th>\n",
       "      <th>Low</th>\n",
       "      <th>Close</th>\n",
       "      <th>Volume</th>\n",
       "      <th>Dividends</th>\n",
       "      <th>Stock Splits</th>\n",
       "      <th>MA20</th>\n",
       "      <th>MA50</th>\n",
       "      <th>Daily Return</th>\n",
       "    </tr>\n",
       "    <tr>\n",
       "      <th>Date</th>\n",
       "      <th></th>\n",
       "      <th></th>\n",
       "      <th></th>\n",
       "      <th></th>\n",
       "      <th></th>\n",
       "      <th></th>\n",
       "      <th></th>\n",
       "      <th></th>\n",
       "      <th></th>\n",
       "      <th></th>\n",
       "    </tr>\n",
       "  </thead>\n",
       "  <tbody>\n",
       "    <tr>\n",
       "      <th>2025-06-23 00:00:00-04:00</th>\n",
       "      <td>201.63</td>\n",
       "      <td>202.30</td>\n",
       "      <td>198.96</td>\n",
       "      <td>201.50</td>\n",
       "      <td>55814300</td>\n",
       "      <td>0.00</td>\n",
       "      <td>0.00</td>\n",
       "      <td>200.04</td>\n",
       "      <td>202.30</td>\n",
       "      <td>0.00</td>\n",
       "    </tr>\n",
       "    <tr>\n",
       "      <th>2025-06-24 00:00:00-04:00</th>\n",
       "      <td>202.59</td>\n",
       "      <td>203.44</td>\n",
       "      <td>200.20</td>\n",
       "      <td>200.30</td>\n",
       "      <td>54064000</td>\n",
       "      <td>0.00</td>\n",
       "      <td>0.00</td>\n",
       "      <td>200.29</td>\n",
       "      <td>202.50</td>\n",
       "      <td>-0.01</td>\n",
       "    </tr>\n",
       "    <tr>\n",
       "      <th>2025-06-25 00:00:00-04:00</th>\n",
       "      <td>201.45</td>\n",
       "      <td>203.67</td>\n",
       "      <td>200.62</td>\n",
       "      <td>201.56</td>\n",
       "      <td>39525700</td>\n",
       "      <td>0.00</td>\n",
       "      <td>0.00</td>\n",
       "      <td>200.36</td>\n",
       "      <td>202.57</td>\n",
       "      <td>0.01</td>\n",
       "    </tr>\n",
       "    <tr>\n",
       "      <th>2025-06-26 00:00:00-04:00</th>\n",
       "      <td>201.43</td>\n",
       "      <td>202.64</td>\n",
       "      <td>199.46</td>\n",
       "      <td>201.00</td>\n",
       "      <td>50799100</td>\n",
       "      <td>0.00</td>\n",
       "      <td>0.00</td>\n",
       "      <td>200.38</td>\n",
       "      <td>202.55</td>\n",
       "      <td>-0.00</td>\n",
       "    </tr>\n",
       "    <tr>\n",
       "      <th>2025-06-27 00:00:00-04:00</th>\n",
       "      <td>201.89</td>\n",
       "      <td>203.22</td>\n",
       "      <td>200.00</td>\n",
       "      <td>201.08</td>\n",
       "      <td>73114100</td>\n",
       "      <td>0.00</td>\n",
       "      <td>0.00</td>\n",
       "      <td>200.44</td>\n",
       "      <td>202.53</td>\n",
       "      <td>0.00</td>\n",
       "    </tr>\n",
       "  </tbody>\n",
       "</table>\n",
       "</div>"
      ],
      "text/plain": [
       "                            Open   High    Low  Close    Volume  Dividends  \\\n",
       "Date                                                                         \n",
       "2025-06-23 00:00:00-04:00 201.63 202.30 198.96 201.50  55814300       0.00   \n",
       "2025-06-24 00:00:00-04:00 202.59 203.44 200.20 200.30  54064000       0.00   \n",
       "2025-06-25 00:00:00-04:00 201.45 203.67 200.62 201.56  39525700       0.00   \n",
       "2025-06-26 00:00:00-04:00 201.43 202.64 199.46 201.00  50799100       0.00   \n",
       "2025-06-27 00:00:00-04:00 201.89 203.22 200.00 201.08  73114100       0.00   \n",
       "\n",
       "                           Stock Splits   MA20   MA50  Daily Return  \n",
       "Date                                                                 \n",
       "2025-06-23 00:00:00-04:00          0.00 200.04 202.30          0.00  \n",
       "2025-06-24 00:00:00-04:00          0.00 200.29 202.50         -0.01  \n",
       "2025-06-25 00:00:00-04:00          0.00 200.36 202.57          0.01  \n",
       "2025-06-26 00:00:00-04:00          0.00 200.38 202.55         -0.00  \n",
       "2025-06-27 00:00:00-04:00          0.00 200.44 202.53          0.00  "
      ]
     },
     "execution_count": 24,
     "metadata": {},
     "output_type": "execute_result"
    }
   ],
   "source": [
    "# Block 18: Display final data sample\n",
    "df.tail()\n"
   ]
  },
  {
   "cell_type": "code",
   "execution_count": null,
   "id": "262259bc-c9a1-4ade-bdf2-092e8cff652b",
   "metadata": {},
   "outputs": [],
   "source": []
  }
 ],
 "metadata": {
  "kernelspec": {
   "display_name": "Python 3 (ipykernel)",
   "language": "python",
   "name": "python3"
  },
  "language_info": {
   "codemirror_mode": {
    "name": "ipython",
    "version": 3
   },
   "file_extension": ".py",
   "mimetype": "text/x-python",
   "name": "python",
   "nbconvert_exporter": "python",
   "pygments_lexer": "ipython3",
   "version": "3.12.11"
  }
 },
 "nbformat": 4,
 "nbformat_minor": 5
}
