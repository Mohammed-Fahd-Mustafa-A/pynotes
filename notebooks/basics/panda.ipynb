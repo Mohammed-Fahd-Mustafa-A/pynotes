{
 "cells": [
  {
   "cell_type": "code",
   "execution_count": 10,
   "id": "af588852-9782-4f60-8936-a22d7a1f878f",
   "metadata": {},
   "outputs": [
    {
     "name": "stdout",
     "output_type": "stream",
     "text": [
      "      Name  Age\n",
      "0    Alice   25\n",
      "1      Bob   30\n",
      "2  Charlie   35\n"
     ]
    }
   ],
   "source": [
    "import pandas as pd\n",
    "df = pd.DataFrame({'Name': ['Alice', 'Bob', 'Charlie'], 'Age': [25, 30, 35]})\n",
    "print(df)"
   ]
  },
  {
   "cell_type": "code",
   "execution_count": 11,
   "id": "a6abd80e-a068-4d6c-930a-4c49a6551834",
   "metadata": {},
   "outputs": [
    {
     "name": "stdout",
     "output_type": "stream",
     "text": [
      "      Name  Age Name_Upper\n",
      "0    Alice   25      ALICE\n",
      "1      Bob   30        BOB\n",
      "2  Charlie   35    CHARLIE\n"
     ]
    }
   ],
   "source": [
    "df['Name_Upper'] = df['Name'].str.upper()  # Now works because 'Name' exists\n",
    "print(df)"
   ]
  },
  {
   "cell_type": "code",
   "execution_count": 12,
   "id": "e53d400b-dfeb-4be8-a0a5-3b027d5f81b0",
   "metadata": {},
   "outputs": [
    {
     "name": "stdout",
     "output_type": "stream",
     "text": [
      "      Name  Age Name_Upper  Age_Next_Year\n",
      "0    Alice   25      ALICE             26\n",
      "1      Bob   30        BOB             31\n",
      "2  Charlie   35    CHARLIE             36\n"
     ]
    }
   ],
   "source": [
    "df['Age_Next_Year'] = df['Age'] + 1\n",
    "print(df)"
   ]
  },
  {
   "cell_type": "code",
   "execution_count": 13,
   "id": "dfb08d23-ea1d-4f3f-95a6-59608c12b110",
   "metadata": {},
   "outputs": [
    {
     "name": "stdout",
     "output_type": "stream",
     "text": [
      "    Name  Age Name_Upper  Age_Next_Year\n",
      "0  Alice   25      ALICE             26\n"
     ]
    }
   ],
   "source": [
    "young_people = df[df['Age'] < 30]\n",
    "print(young_people)"
   ]
  },
  {
   "cell_type": "code",
   "execution_count": 14,
   "id": "2a9204ad-2a45-454a-a5b7-338f98e1579d",
   "metadata": {},
   "outputs": [
    {
     "name": "stdout",
     "output_type": "stream",
     "text": [
      "      Name  Age Name_Upper  Age_Next_Year\n",
      "2  Charlie   35    CHARLIE             36\n",
      "1      Bob   30        BOB             31\n",
      "0    Alice   25      ALICE             26\n"
     ]
    }
   ],
   "source": [
    "print(df.sort_values('Age', ascending=False))"
   ]
  },
  {
   "cell_type": "code",
   "execution_count": 15,
   "id": "f1555ab0-ed53-4e5e-a522-892008aa174c",
   "metadata": {},
   "outputs": [
    {
     "name": "stdout",
     "output_type": "stream",
     "text": [
      "Dept\n",
      "HR    30.0\n",
      "IT    30.0\n",
      "Name: Age, dtype: float64\n"
     ]
    }
   ],
   "source": [
    "# Adding a department column for grouping\n",
    "df['Dept'] = ['HR', 'IT', 'HR']\n",
    "print(df.groupby('Dept')['Age'].mean())"
   ]
  },
  {
   "cell_type": "code",
   "execution_count": 16,
   "id": "71eb5999-6b5a-419a-b5b2-2767a7a4db4e",
   "metadata": {},
   "outputs": [
    {
     "name": "stdout",
     "output_type": "stream",
     "text": [
      "      Name  Age Name_Upper  Age_Next_Year Dept  Age_Squared\n",
      "0    Alice   25      ALICE             26   HR          625\n",
      "1      Bob   30        BOB             31   IT          900\n",
      "2  Charlie   35    CHARLIE             36   HR         1225\n"
     ]
    }
   ],
   "source": [
    "df['Age_Squared'] = df['Age'].apply(lambda x: x**2)\n",
    "print(df)"
   ]
  },
  {
   "cell_type": "code",
   "execution_count": 17,
   "id": "d9f6db5b-f704-4b8b-a8a4-6fd2a0f3902f",
   "metadata": {},
   "outputs": [
    {
     "name": "stdout",
     "output_type": "stream",
     "text": [
      "  Full_Name  Age Name_Upper  Age_Next_Year Dept  Age_Squared\n",
      "0     Alice   25      ALICE             26   HR          625\n",
      "1       Bob   30        BOB             31   IT          900\n",
      "2   Charlie   35    CHARLIE             36   HR         1225\n"
     ]
    }
   ],
   "source": [
    "df = df.rename(columns={'Name': 'Full_Name'})\n",
    "print(df)"
   ]
  },
  {
   "cell_type": "code",
   "execution_count": 18,
   "id": "c7b07dd9-69a0-4523-86e5-a7b93d1a04e7",
   "metadata": {},
   "outputs": [
    {
     "name": "stdout",
     "output_type": "stream",
     "text": [
      "  Full_Name  Age Name_Upper  Age_Next_Year Dept\n",
      "0     Alice   25      ALICE             26   HR\n",
      "1       Bob   30        BOB             31   IT\n",
      "2   Charlie   35    CHARLIE             36   HR\n"
     ]
    }
   ],
   "source": [
    "df = df.drop(columns=['Age_Squared'])\n",
    "print(df)"
   ]
  },
  {
   "cell_type": "code",
   "execution_count": 19,
   "id": "20dea90f-91f0-4467-b534-2f7d526b0dd0",
   "metadata": {},
   "outputs": [
    {
     "name": "stdout",
     "output_type": "stream",
     "text": [
      "  Full_Name  Age Name_Upper  Age_Next_Year Dept\n",
      "0       Bob   30        BOB             31   IT\n",
      "1   Charlie   35    CHARLIE             36   HR\n"
     ]
    }
   ],
   "source": [
    "filtered = df[df['Age'] > 28].reset_index(drop=True)\n",
    "print(filtered)"
   ]
  },
  {
   "cell_type": "code",
   "execution_count": 20,
   "id": "38715a3d-d87c-49a4-a28a-ffad42d97687",
   "metadata": {},
   "outputs": [
    {
     "name": "stdout",
     "output_type": "stream",
     "text": [
      "  Full_Name  Age Name_Upper  Age_Next_Year Dept\n",
      "2   Charlie   35    CHARLIE             36   HR\n",
      "1       Bob   30        BOB             31   IT\n"
     ]
    }
   ],
   "source": [
    "print(df.sample(2))  # Random 2 rows"
   ]
  },
  {
   "cell_type": "code",
   "execution_count": 21,
   "id": "49b032e0-fe4e-41db-889f-84486f31ea61",
   "metadata": {},
   "outputs": [
    {
     "name": "stdout",
     "output_type": "stream",
     "text": [
      "Dept\n",
      "HR    2\n",
      "IT    1\n",
      "Name: count, dtype: int64\n"
     ]
    }
   ],
   "source": [
    "print(df['Dept'].value_counts())"
   ]
  },
  {
   "cell_type": "code",
   "execution_count": 22,
   "id": "02183b74-657b-470e-894c-f3b60e7d97d4",
   "metadata": {},
   "outputs": [
    {
     "name": "stdout",
     "output_type": "stream",
     "text": [
      "  Full_Name  Age Name_Upper  Age_Next_Year Dept\n",
      "2   Charlie   35    CHARLIE             36   HR\n"
     ]
    }
   ],
   "source": [
    "mask = (df['Age'] > 25) & (df['Dept'] == 'HR')\n",
    "print(df[mask])"
   ]
  },
  {
   "cell_type": "code",
   "execution_count": 23,
   "id": "ff32fadb-0278-4529-9537-2216cd875468",
   "metadata": {},
   "outputs": [
    {
     "name": "stdout",
     "output_type": "stream",
     "text": [
      "  Full_Name  Age Name_Upper  Age_Next_Year Dept  Join_Date  Join_Year\n",
      "0     Alice   25      ALICE             26   HR 2022-01-01       2022\n",
      "1       Bob   30        BOB             31   IT 2021-05-15       2021\n",
      "2   Charlie   35    CHARLIE             36   HR 2023-03-10       2023\n"
     ]
    }
   ],
   "source": [
    "df['Join_Date'] = pd.to_datetime(['2022-01-01', '2021-05-15', '2023-03-10'])\n",
    "df['Join_Year'] = df['Join_Date'].dt.year\n",
    "print(df)"
   ]
  },
  {
   "cell_type": "code",
   "execution_count": 24,
   "id": "0fd0f7d4-7c54-49e3-ba59-39e2005d8880",
   "metadata": {},
   "outputs": [
    {
     "name": "stdout",
     "output_type": "stream",
     "text": [
      "Index            132\n",
      "Full_Name         24\n",
      "Age               24\n",
      "Name_Upper        24\n",
      "Age_Next_Year     24\n",
      "Dept              24\n",
      "Join_Date         24\n",
      "Join_Year         12\n",
      "dtype: int64\n"
     ]
    }
   ],
   "source": [
    "print(df.memory_usage())"
   ]
  },
  {
   "cell_type": "code",
   "execution_count": null,
   "id": "242521c4-5e65-4e3d-be65-12b2dc726f7b",
   "metadata": {},
   "outputs": [],
   "source": []
  }
 ],
 "metadata": {
  "kernelspec": {
   "display_name": "Python 3 (ipykernel)",
   "language": "python",
   "name": "python3"
  },
  "language_info": {
   "codemirror_mode": {
    "name": "ipython",
    "version": 3
   },
   "file_extension": ".py",
   "mimetype": "text/x-python",
   "name": "python",
   "nbconvert_exporter": "python",
   "pygments_lexer": "ipython3",
   "version": "3.12.11"
  }
 },
 "nbformat": 4,
 "nbformat_minor": 5
}
